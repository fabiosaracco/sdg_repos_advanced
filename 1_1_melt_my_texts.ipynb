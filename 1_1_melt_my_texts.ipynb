{
 "cells": [
  {
   "cell_type": "markdown",
   "id": "9fc01662",
   "metadata": {},
   "source": [
    "# Intro"
   ]
  },
  {
   "cell_type": "markdown",
   "id": "c81eec4c",
   "metadata": {},
   "source": [
    "## Standard modules"
   ]
  },
  {
   "cell_type": "code",
   "execution_count": 1,
   "id": "b5c4d270",
   "metadata": {
    "ExecuteTime": {
     "end_time": "2025-05-19T15:40:47.400750Z",
     "start_time": "2025-05-19T15:40:47.255266Z"
    }
   },
   "outputs": [],
   "source": [
    "import os, sys, json\n",
    "import numpy as np"
   ]
  },
  {
   "cell_type": "code",
   "execution_count": 2,
   "id": "741e303e",
   "metadata": {
    "ExecuteTime": {
     "end_time": "2025-05-19T15:40:47.553871Z",
     "start_time": "2025-05-19T15:40:47.424647Z"
    }
   },
   "outputs": [],
   "source": [
    "from tqdm.auto import tqdm, trange"
   ]
  },
  {
   "cell_type": "code",
   "execution_count": 3,
   "id": "60823f63",
   "metadata": {
    "ExecuteTime": {
     "end_time": "2025-05-19T15:40:48.415404Z",
     "start_time": "2025-05-19T15:40:47.597907Z"
    }
   },
   "outputs": [],
   "source": [
    "from bicm import BipartiteGraph as BiG"
   ]
  },
  {
   "cell_type": "markdown",
   "id": "d4a277c2",
   "metadata": {},
   "source": [
    "## Hand-made modules"
   ]
  },
  {
   "cell_type": "code",
   "execution_count": 4,
   "id": "41a2f3b3",
   "metadata": {
    "ExecuteTime": {
     "end_time": "2025-05-19T15:40:49.323181Z",
     "start_time": "2025-05-19T15:40:48.419186Z"
    }
   },
   "outputs": [
    {
     "name": "stderr",
     "output_type": "stream",
     "text": [
      "[nltk_data] Downloading package stopwords to\n",
      "[nltk_data]     /home/sarawalk/nltk_data...\n",
      "[nltk_data]   Package stopwords is already up-to-date!\n",
      "[nltk_data] Downloading package punkt to /home/sarawalk/nltk_data...\n",
      "[nltk_data]   Package punkt is already up-to-date!\n"
     ]
    }
   ],
   "source": [
    "from melt import melt"
   ]
  },
  {
   "cell_type": "markdown",
   "id": "3d42578e",
   "metadata": {},
   "source": [
    "## Folders"
   ]
  },
  {
   "cell_type": "code",
   "execution_count": 5,
   "id": "6d30136c",
   "metadata": {
    "ExecuteTime": {
     "end_time": "2025-05-19T15:40:49.332189Z",
     "start_time": "2025-05-19T15:40:49.327331Z"
    }
   },
   "outputs": [],
   "source": [
    "TEXT_FOLDER='./NewProcessedData/texts/'"
   ]
  },
  {
   "cell_type": "markdown",
   "id": "7747a22b",
   "metadata": {},
   "source": [
    "## Files"
   ]
  },
  {
   "cell_type": "code",
   "execution_count": 6,
   "id": "a2697409",
   "metadata": {
    "ExecuteTime": {
     "end_time": "2025-05-19T15:40:50.543787Z",
     "start_time": "2025-05-19T15:40:50.536512Z"
    }
   },
   "outputs": [],
   "source": [
    "text_files=[file for file in os.listdir(TEXT_FOLDER) if file.endswith('.txt')]"
   ]
  },
  {
   "cell_type": "code",
   "execution_count": 7,
   "id": "2ff08048",
   "metadata": {
    "ExecuteTime": {
     "end_time": "2025-05-19T15:40:50.629880Z",
     "start_time": "2025-05-19T15:40:50.575540Z"
    }
   },
   "outputs": [],
   "source": [
    "text_files.sort()"
   ]
  },
  {
   "cell_type": "code",
   "execution_count": 8,
   "id": "a24d0c75",
   "metadata": {
    "ExecuteTime": {
     "end_time": "2025-05-19T15:40:50.821838Z",
     "start_time": "2025-05-19T15:40:50.807061Z"
    }
   },
   "outputs": [
    {
     "data": {
      "text/plain": [
       "'2015'"
      ]
     },
     "execution_count": 8,
     "metadata": {},
     "output_type": "execute_result"
    }
   ],
   "source": [
    "text_files[0][:4]"
   ]
  },
  {
   "cell_type": "markdown",
   "id": "db73381f",
   "metadata": {},
   "source": [
    "# Grab all texts"
   ]
  },
  {
   "cell_type": "code",
   "execution_count": 10,
   "id": "0f43fd99",
   "metadata": {
    "ExecuteTime": {
     "end_time": "2025-05-19T15:41:02.564413Z",
     "start_time": "2025-05-19T15:41:02.074467Z"
    }
   },
   "outputs": [
    {
     "data": {
      "application/vnd.jupyter.widget-view+json": {
       "model_id": "ed4747e4cded45d385f66b79d4478d28",
       "version_major": 2,
       "version_minor": 0
      },
      "text/plain": [
       "  0%|          | 0/574 [00:00<?, ?it/s]"
      ]
     },
     "metadata": {},
     "output_type": "display_data"
    }
   ],
   "source": [
    "all_texts={}\n",
    "for text_file in tqdm(text_files):\n",
    "    year=text_file[:4]\n",
    "    with open(TEXT_FOLDER+text_file, 'r') as f:\n",
    "        _text=f.readlines()\n",
    "    \n",
    "    if len(_text)>1:\n",
    "        _text=' '.join(_text)\n",
    "    elif len(_text)==1:\n",
    "        _text=_text[0]\n",
    "    else:\n",
    "        print(text_file)\n",
    "    \n",
    "    if len(_text)>0:\n",
    "        if year not in all_texts.keys():\n",
    "            all_texts[year]={}\n",
    "            all_texts[year]['firms']=[]\n",
    "            all_texts[year]['texts']=[]\n",
    "        all_texts[year]['texts'].append(_text)\n",
    "        all_texts[year]['firms'].append(text_file[8:-9])"
   ]
  },
  {
   "cell_type": "markdown",
   "id": "83e03e6d",
   "metadata": {},
   "source": [
    "To be checked"
   ]
  },
  {
   "cell_type": "markdown",
   "id": "8025f5f1",
   "metadata": {},
   "source": [
    "# Melt me!"
   ]
  },
  {
   "cell_type": "markdown",
   "id": "b7a26b2d",
   "metadata": {},
   "source": [
    "## Binary"
   ]
  },
  {
   "cell_type": "code",
   "execution_count": 11,
   "id": "a19d1e3a",
   "metadata": {
    "ExecuteTime": {
     "end_time": "2025-05-19T15:41:09.479868Z",
     "start_time": "2025-05-19T15:41:09.471053Z"
    }
   },
   "outputs": [
    {
     "data": {
      "text/plain": [
       "dict_keys(['2015', '2016', '2017', '2018', '2019', '2020', '2021', '2022', '2023', '2024'])"
      ]
     },
     "execution_count": 11,
     "metadata": {},
     "output_type": "execute_result"
    }
   ],
   "source": [
    "all_texts.keys()"
   ]
  },
  {
   "cell_type": "code",
   "execution_count": 12,
   "id": "6fc7bac2",
   "metadata": {
    "ExecuteTime": {
     "end_time": "2025-05-19T15:41:09.824885Z",
     "start_time": "2025-05-19T15:41:09.813498Z"
    }
   },
   "outputs": [
    {
     "data": {
      "text/plain": [
       "[('2015', 40),\n",
       " ('2016', 44),\n",
       " ('2017', 51),\n",
       " ('2018', 56),\n",
       " ('2019', 67),\n",
       " ('2020', 69),\n",
       " ('2021', 76),\n",
       " ('2022', 80),\n",
       " ('2023', 89),\n",
       " ('2024', 2)]"
      ]
     },
     "execution_count": 12,
     "metadata": {},
     "output_type": "execute_result"
    }
   ],
   "source": [
    "[(key, len(all_texts[key]['firms'])) for key in all_texts.keys()]"
   ]
  },
  {
   "cell_type": "markdown",
   "id": "c05803fa",
   "metadata": {},
   "source": [
    "**BINARY**"
   ]
  },
  {
   "cell_type": "code",
   "execution_count": 13,
   "id": "8dc36a14",
   "metadata": {
    "ExecuteTime": {
     "end_time": "2025-05-19T15:41:21.147968Z",
     "start_time": "2025-05-19T15:41:10.758145Z"
    }
   },
   "outputs": [
    {
     "data": {
      "application/vnd.jupyter.widget-view+json": {
       "model_id": "e633cb2ce401404797a6e54fa0859522",
       "version_major": 2,
       "version_minor": 0
      },
      "text/plain": [
       "  0%|          | 0/89 [00:00<?, ?it/s]"
      ]
     },
     "metadata": {},
     "output_type": "display_data"
    },
    {
     "ename": "KeyboardInterrupt",
     "evalue": "",
     "output_type": "error",
     "traceback": [
      "\u001b[0;31m---------------------------------------------------------------------------\u001b[0m",
      "\u001b[0;31mKeyboardInterrupt\u001b[0m                         Traceback (most recent call last)",
      "Cell \u001b[0;32mIn[13], line 1\u001b[0m\n\u001b[0;32m----> 1\u001b[0m cacca\u001b[38;5;241m=\u001b[39m\u001b[43mmelt\u001b[49m\u001b[43m(\u001b[49m\u001b[43mall_texts\u001b[49m\u001b[43m[\u001b[49m\u001b[38;5;124;43m'\u001b[39;49m\u001b[38;5;124;43m2023\u001b[39;49m\u001b[38;5;124;43m'\u001b[39;49m\u001b[43m]\u001b[49m\u001b[43m[\u001b[49m\u001b[38;5;124;43m'\u001b[39;49m\u001b[38;5;124;43mtexts\u001b[39;49m\u001b[38;5;124;43m'\u001b[39;49m\u001b[43m]\u001b[49m\u001b[43m,\u001b[49m\u001b[43m \u001b[49m\u001b[43mbinary\u001b[49m\u001b[38;5;241;43m=\u001b[39;49m\u001b[38;5;28;43;01mTrue\u001b[39;49;00m\u001b[43m)\u001b[49m\n",
      "File \u001b[0;32m~/sdgs_py38/lib/python3.8/site-packages/melt/melt.py:89\u001b[0m, in \u001b[0;36mmelt.__init__\u001b[0;34m(self, data, lang, binary, columns)\u001b[0m\n\u001b[1;32m     86\u001b[0m \u001b[38;5;28mself\u001b[39m\u001b[38;5;241m.\u001b[39mstemmer \u001b[38;5;241m=\u001b[39m SnowballStemmer(\u001b[38;5;28mself\u001b[39m\u001b[38;5;241m.\u001b[39mlang, ignore_stopwords\u001b[38;5;241m=\u001b[39m\u001b[38;5;28;01mTrue\u001b[39;00m)\n\u001b[1;32m     88\u001b[0m \u001b[38;5;66;03m# get the biadjacency llist\u001b[39;00m\n\u001b[0;32m---> 89\u001b[0m \u001b[38;5;28;43mself\u001b[39;49m\u001b[38;5;241;43m.\u001b[39;49m\u001b[43mget_ball\u001b[49m\u001b[43m(\u001b[49m\u001b[43m)\u001b[49m\n",
      "File \u001b[0;32m~/sdgs_py38/lib/python3.8/site-packages/melt/melt.py:109\u001b[0m, in \u001b[0;36mmelt.get_ball\u001b[0;34m(self)\u001b[0m\n\u001b[1;32m    107\u001b[0m \u001b[38;5;28;01melif\u001b[39;00m \u001b[38;5;28mself\u001b[39m\u001b[38;5;241m.\u001b[39mdata_type\u001b[38;5;241m==\u001b[39m\u001b[38;5;124m'\u001b[39m\u001b[38;5;124mlist\u001b[39m\u001b[38;5;124m'\u001b[39m:\n\u001b[1;32m    108\u001b[0m     _text\u001b[38;5;241m=\u001b[39m\u001b[38;5;28mself\u001b[39m\u001b[38;5;241m.\u001b[39mdata[i]\n\u001b[0;32m--> 109\u001b[0m     tokens\u001b[38;5;241m=\u001b[39m\u001b[38;5;28;43mself\u001b[39;49m\u001b[38;5;241;43m.\u001b[39;49m\u001b[43mtext2tokens\u001b[49m\u001b[43m(\u001b[49m\u001b[43m_text\u001b[49m\u001b[43m)\u001b[49m  \n\u001b[1;32m    110\u001b[0m     \u001b[38;5;28mself\u001b[39m\u001b[38;5;241m.\u001b[39mbiadj_list[i]\u001b[38;5;241m=\u001b[39mtokens\n\u001b[1;32m    111\u001b[0m \u001b[38;5;28;01melif\u001b[39;00m \u001b[38;5;28mself\u001b[39m\u001b[38;5;241m.\u001b[39mdata_type\u001b[38;5;241m==\u001b[39m\u001b[38;5;124m'\u001b[39m\u001b[38;5;124mlol\u001b[39m\u001b[38;5;124m'\u001b[39m:\n",
      "File \u001b[0;32m~/sdgs_py38/lib/python3.8/site-packages/melt/melt.py:121\u001b[0m, in \u001b[0;36mmelt.text2tokens\u001b[0;34m(self, text)\u001b[0m\n\u001b[1;32m    119\u001b[0m stop_words \u001b[38;5;241m=\u001b[39m \u001b[38;5;28mlist\u001b[39m(stopwords\u001b[38;5;241m.\u001b[39mwords(\u001b[38;5;28mself\u001b[39m\u001b[38;5;241m.\u001b[39mlang))\n\u001b[1;32m    120\u001b[0m bad_char\u001b[38;5;241m=\u001b[39m[\u001b[38;5;124m'\u001b[39m\u001b[38;5;124m©\u001b[39m\u001b[38;5;124m'\u001b[39m, \u001b[38;5;124m'\u001b[39m\u001b[38;5;124m–\u001b[39m\u001b[38;5;124m'\u001b[39m, \u001b[38;5;124m'\u001b[39m\u001b[38;5;124m‘\u001b[39m\u001b[38;5;124m'\u001b[39m, \u001b[38;5;124m'\u001b[39m\u001b[38;5;124m’\u001b[39m\u001b[38;5;124m'\u001b[39m, \u001b[38;5;124m'\u001b[39m\u001b[38;5;124m“\u001b[39m\u001b[38;5;124m'\u001b[39m, \u001b[38;5;124m'\u001b[39m\u001b[38;5;124m”\u001b[39m\u001b[38;5;124m'\u001b[39m, \u001b[38;5;124m\"\u001b[39m\u001b[38;5;124m'\u001b[39m\u001b[38;5;124m'\u001b[39m\u001b[38;5;124m\"\u001b[39m, \u001b[38;5;124m\"\u001b[39m\u001b[38;5;124m'\u001b[39m\u001b[38;5;124ms\u001b[39m\u001b[38;5;124m\"\u001b[39m,\u001b[38;5;124m'\u001b[39m\u001b[38;5;124m``\u001b[39m\u001b[38;5;124m'\u001b[39m]\n\u001b[0;32m--> 121\u001b[0m word_tokens \u001b[38;5;241m=\u001b[39m [wt\u001b[38;5;241m.\u001b[39mlower() \u001b[38;5;28;01mfor\u001b[39;00m wt \u001b[38;5;129;01min\u001b[39;00m \u001b[43mword_tokenize\u001b[49m\u001b[43m(\u001b[49m\u001b[43mtext\u001b[49m\u001b[43m)\u001b[49m]\n\u001b[1;32m    122\u001b[0m out\u001b[38;5;241m=\u001b[39m[]\n\u001b[1;32m    123\u001b[0m \u001b[38;5;28;01mfor\u001b[39;00m w \u001b[38;5;129;01min\u001b[39;00m word_tokens:\n",
      "File \u001b[0;32m~/sdgs_py38/lib/python3.8/site-packages/nltk/tokenize/__init__.py:130\u001b[0m, in \u001b[0;36mword_tokenize\u001b[0;34m(text, language, preserve_line)\u001b[0m\n\u001b[1;32m    115\u001b[0m \u001b[38;5;250m\u001b[39m\u001b[38;5;124;03m\"\"\"\u001b[39;00m\n\u001b[1;32m    116\u001b[0m \u001b[38;5;124;03mReturn a tokenized copy of *text*,\u001b[39;00m\n\u001b[1;32m    117\u001b[0m \u001b[38;5;124;03musing NLTK's recommended word tokenizer\u001b[39;00m\n\u001b[0;32m   (...)\u001b[0m\n\u001b[1;32m    127\u001b[0m \u001b[38;5;124;03m:type preserve_line: bool\u001b[39;00m\n\u001b[1;32m    128\u001b[0m \u001b[38;5;124;03m\"\"\"\u001b[39;00m\n\u001b[1;32m    129\u001b[0m sentences \u001b[38;5;241m=\u001b[39m [text] \u001b[38;5;28;01mif\u001b[39;00m preserve_line \u001b[38;5;28;01melse\u001b[39;00m sent_tokenize(text, language)\n\u001b[0;32m--> 130\u001b[0m \u001b[38;5;28;01mreturn\u001b[39;00m [\n\u001b[1;32m    131\u001b[0m     token \u001b[38;5;28;01mfor\u001b[39;00m sent \u001b[38;5;129;01min\u001b[39;00m sentences \u001b[38;5;28;01mfor\u001b[39;00m token \u001b[38;5;129;01min\u001b[39;00m _treebank_word_tokenizer\u001b[38;5;241m.\u001b[39mtokenize(sent)\n\u001b[1;32m    132\u001b[0m ]\n",
      "File \u001b[0;32m~/sdgs_py38/lib/python3.8/site-packages/nltk/tokenize/__init__.py:131\u001b[0m, in \u001b[0;36m<listcomp>\u001b[0;34m(.0)\u001b[0m\n\u001b[1;32m    115\u001b[0m \u001b[38;5;250m\u001b[39m\u001b[38;5;124;03m\"\"\"\u001b[39;00m\n\u001b[1;32m    116\u001b[0m \u001b[38;5;124;03mReturn a tokenized copy of *text*,\u001b[39;00m\n\u001b[1;32m    117\u001b[0m \u001b[38;5;124;03musing NLTK's recommended word tokenizer\u001b[39;00m\n\u001b[0;32m   (...)\u001b[0m\n\u001b[1;32m    127\u001b[0m \u001b[38;5;124;03m:type preserve_line: bool\u001b[39;00m\n\u001b[1;32m    128\u001b[0m \u001b[38;5;124;03m\"\"\"\u001b[39;00m\n\u001b[1;32m    129\u001b[0m sentences \u001b[38;5;241m=\u001b[39m [text] \u001b[38;5;28;01mif\u001b[39;00m preserve_line \u001b[38;5;28;01melse\u001b[39;00m sent_tokenize(text, language)\n\u001b[1;32m    130\u001b[0m \u001b[38;5;28;01mreturn\u001b[39;00m [\n\u001b[0;32m--> 131\u001b[0m     token \u001b[38;5;28;01mfor\u001b[39;00m sent \u001b[38;5;129;01min\u001b[39;00m sentences \u001b[38;5;28;01mfor\u001b[39;00m token \u001b[38;5;129;01min\u001b[39;00m \u001b[43m_treebank_word_tokenizer\u001b[49m\u001b[38;5;241;43m.\u001b[39;49m\u001b[43mtokenize\u001b[49m\u001b[43m(\u001b[49m\u001b[43msent\u001b[49m\u001b[43m)\u001b[49m\n\u001b[1;32m    132\u001b[0m ]\n",
      "File \u001b[0;32m~/sdgs_py38/lib/python3.8/site-packages/nltk/tokenize/destructive.py:164\u001b[0m, in \u001b[0;36mNLTKWordTokenizer.tokenize\u001b[0;34m(self, text, convert_parentheses, return_str)\u001b[0m\n\u001b[1;32m    162\u001b[0m \u001b[38;5;66;03m# Handles parentheses.\u001b[39;00m\n\u001b[1;32m    163\u001b[0m regexp, substitution \u001b[38;5;241m=\u001b[39m \u001b[38;5;28mself\u001b[39m\u001b[38;5;241m.\u001b[39mPARENS_BRACKETS\n\u001b[0;32m--> 164\u001b[0m text \u001b[38;5;241m=\u001b[39m \u001b[43mregexp\u001b[49m\u001b[38;5;241;43m.\u001b[39;49m\u001b[43msub\u001b[49m\u001b[43m(\u001b[49m\u001b[43msubstitution\u001b[49m\u001b[43m,\u001b[49m\u001b[43m \u001b[49m\u001b[43mtext\u001b[49m\u001b[43m)\u001b[49m\n\u001b[1;32m    165\u001b[0m \u001b[38;5;66;03m# Optionally convert parentheses\u001b[39;00m\n\u001b[1;32m    166\u001b[0m \u001b[38;5;28;01mif\u001b[39;00m convert_parentheses:\n",
      "File \u001b[0;32m~/python/Python-3.8.10/Lib/re.py:327\u001b[0m, in \u001b[0;36m_subx\u001b[0;34m(pattern, template)\u001b[0m\n\u001b[1;32m    325\u001b[0m \u001b[38;5;28;01mdef\u001b[39;00m \u001b[38;5;21m_subx\u001b[39m(pattern, template):\n\u001b[1;32m    326\u001b[0m     \u001b[38;5;66;03m# internal: Pattern.sub/subn implementation helper\u001b[39;00m\n\u001b[0;32m--> 327\u001b[0m     template \u001b[38;5;241m=\u001b[39m \u001b[43m_compile_repl\u001b[49m\u001b[43m(\u001b[49m\u001b[43mtemplate\u001b[49m\u001b[43m,\u001b[49m\u001b[43m \u001b[49m\u001b[43mpattern\u001b[49m\u001b[43m)\u001b[49m\n\u001b[1;32m    328\u001b[0m     \u001b[38;5;28;01mif\u001b[39;00m \u001b[38;5;129;01mnot\u001b[39;00m template[\u001b[38;5;241m0\u001b[39m] \u001b[38;5;129;01mand\u001b[39;00m \u001b[38;5;28mlen\u001b[39m(template[\u001b[38;5;241m1\u001b[39m]) \u001b[38;5;241m==\u001b[39m \u001b[38;5;241m1\u001b[39m:\n\u001b[1;32m    329\u001b[0m         \u001b[38;5;66;03m# literal replacement\u001b[39;00m\n\u001b[1;32m    330\u001b[0m         \u001b[38;5;28;01mreturn\u001b[39;00m template[\u001b[38;5;241m1\u001b[39m][\u001b[38;5;241m0\u001b[39m]\n",
      "\u001b[0;31mKeyboardInterrupt\u001b[0m: "
     ]
    }
   ],
   "source": [
    "cacca=melt(all_texts['2023']['texts'], binary=True)"
   ]
  },
  {
   "cell_type": "code",
   "execution_count": 13,
   "id": "df3a1dd7",
   "metadata": {
    "ExecuteTime": {
     "end_time": "2025-05-19T09:58:58.500819Z",
     "start_time": "2025-05-19T09:58:38.529887Z"
    }
   },
   "outputs": [
    {
     "name": "stdout",
     "output_type": "stream",
     "text": [
      "\n",
      "                      WARNING: this system has at least a node that is disconnected or connected to all nodes\n",
      "                       of the opposite layer. This may cause some convergence issues.\n",
      "                      Please use the full mode providing a biadjacency matrix or an edgelist,\n",
      "                       or clean your data from these nodes. \n",
      "                      \n"
     ]
    },
    {
     "name": "stderr",
     "output_type": "stream",
     "text": [
      "/home/sarawalk/sdgs_py38/lib/python3.8/site-packages/numba/core/utils.py:643: NumbaExperimentalFeatureWarning: First-class function type feature is experimental\n",
      "  warnings.warn(\"First-class function type feature is experimental\",\n",
      "/home/sarawalk/sdgs_py38/lib/python3.8/site-packages/bicm/models_functions.py:326: NumbaExperimentalFeatureWarning: First-class function type feature is experimental\n",
      "  step_fun = args[0]\n",
      "/home/sarawalk/sdgs_py38/lib/python3.8/site-packages/bicm/models_functions.py:327: NumbaExperimentalFeatureWarning: First-class function type feature is experimental\n",
      "  arg_step_fun = args[1]\n",
      "/home/sarawalk/sdgs_py38/lib/python3.8/site-packages/numba/core/utils.py:643: NumbaExperimentalFeatureWarning: First-class function type feature is experimental\n",
      "  warnings.warn(\"First-class function type feature is experimental\",\n"
     ]
    },
    {
     "name": "stdout",
     "output_type": "stream",
     "text": [
      "max rows error = 4.547473508864641e-12\n",
      "max columns error = 9.947598300641403e-14\n",
      "total error = 5.441136430306415e-11\n",
      "Solver converged.\n"
     ]
    },
    {
     "name": "stderr",
     "output_type": "stream",
     "text": [
      "  7%|████████▏                                                                                                                | 6/89 [00:00<00:09,  8.66it/s]/home/sarawalk/sdgs_py38/lib/python3.8/site-packages/bicm/graph_classes.py:1113: RuntimeWarning: invalid value encountered in divide\n",
      "  probs = node_xy * neighbor_xy / ((1 + node_xy) * (1 + neighbor_xy))\n",
      " 13%|████████████████▏                                                                                                       | 12/89 [00:01<00:08,  9.04it/s]/home/sarawalk/sdgs_py38/lib/python3.8/site-packages/bicm/graph_classes.py:1113: RuntimeWarning: invalid value encountered in divide\n",
      "  probs = node_xy * neighbor_xy / ((1 + node_xy) * (1 + neighbor_xy))\n",
      " 20%|████████████████████████▎                                                                                               | 18/89 [00:01<00:07,  9.17it/s]/home/sarawalk/sdgs_py38/lib/python3.8/site-packages/bicm/graph_classes.py:1113: RuntimeWarning: invalid value encountered in divide\n",
      "  probs = node_xy * neighbor_xy / ((1 + node_xy) * (1 + neighbor_xy))\n",
      " 27%|████████████████████████████████▎                                                                                       | 24/89 [00:02<00:07,  9.04it/s]/home/sarawalk/sdgs_py38/lib/python3.8/site-packages/bicm/graph_classes.py:1113: RuntimeWarning: invalid value encountered in divide\n",
      "  probs = node_xy * neighbor_xy / ((1 + node_xy) * (1 + neighbor_xy))\n",
      "100%|████████████████████████████████████████████████████████████████████████████████████████████████████████████████████████| 89/89 [00:09<00:00,  9.79it/s]\n"
     ]
    },
    {
     "name": "stdout",
     "output_type": "stream",
     "text": [
      "No V-motifs will be validated. Try increasing alpha\n"
     ]
    },
    {
     "ename": "AttributeError",
     "evalue": "'BipartiteGraph' object has no attribute 'cols_projection'",
     "output_type": "error",
     "traceback": [
      "\u001b[0;31m---------------------------------------------------------------------------\u001b[0m",
      "\u001b[0;31mAttributeError\u001b[0m                            Traceback (most recent call last)",
      "Cell \u001b[0;32mIn[13], line 1\u001b[0m\n\u001b[0;32m----> 1\u001b[0m \u001b[43mcacca\u001b[49m\u001b[38;5;241;43m.\u001b[39;49m\u001b[43mget_projection\u001b[49m\u001b[43m(\u001b[49m\u001b[43mrows\u001b[49m\u001b[38;5;241;43m=\u001b[39;49m\u001b[38;5;28;43;01mTrue\u001b[39;49;00m\u001b[43m,\u001b[49m\u001b[43m \u001b[49m\u001b[43malpha\u001b[49m\u001b[38;5;241;43m=\u001b[39;49m\u001b[38;5;241;43m0.05\u001b[39;49m\u001b[43m,\u001b[49m\u001b[43m \u001b[49m\u001b[43mapprox_method\u001b[49m\u001b[38;5;241;43m=\u001b[39;49m\u001b[38;5;124;43m'\u001b[39;49m\u001b[38;5;124;43mpoisson\u001b[39;49m\u001b[38;5;124;43m'\u001b[39;49m\u001b[43m,\u001b[49m\u001b[43m \u001b[49m\u001b[43mthreads_num\u001b[49m\u001b[38;5;241;43m=\u001b[39;49m\u001b[38;5;241;43m4\u001b[39;49m\u001b[43m,\u001b[49m\u001b[43m \u001b[49m\u001b[43mprogress_bar\u001b[49m\u001b[38;5;241;43m=\u001b[39;49m\u001b[38;5;28;43;01mTrue\u001b[39;49;00m\u001b[43m)\u001b[49m\n",
      "File \u001b[0;32m~/sdgs_py38/lib/python3.8/site-packages/melt/melt.py:162\u001b[0m, in \u001b[0;36mmelt.get_projection\u001b[0;34m(self, **kwrds)\u001b[0m\n\u001b[1;32m    159\u001b[0m             new_key\u001b[38;5;241m=\u001b[39m\u001b[38;5;28mself\u001b[39m\u001b[38;5;241m.\u001b[39mMyGraph\u001b[38;5;241m.\u001b[39mrows_dict[key]\n\u001b[1;32m    160\u001b[0m             \u001b[38;5;28mself\u001b[39m\u001b[38;5;241m.\u001b[39mid_proj[new_key]\u001b[38;5;241m=\u001b[39m[\u001b[38;5;28mself\u001b[39m\u001b[38;5;241m.\u001b[39mMyGraph\u001b[38;5;241m.\u001b[39mrows_dict[other_key] \u001b[38;5;28;01mfor\u001b[39;00m other_key \u001b[38;5;129;01min\u001b[39;00m \u001b[38;5;28mself\u001b[39m\u001b[38;5;241m.\u001b[39mMyGraph\u001b[38;5;241m.\u001b[39mprojected_rows_adj_list[key]] \n\u001b[0;32m--> 162\u001b[0m \u001b[38;5;28;01mif\u001b[39;00m \u001b[38;5;28;43mself\u001b[39;49m\u001b[38;5;241;43m.\u001b[39;49m\u001b[43mMyGraph\u001b[49m\u001b[38;5;241;43m.\u001b[39;49m\u001b[43mcols_projection\u001b[49m:\n\u001b[1;32m    163\u001b[0m     \u001b[38;5;28;01mif\u001b[39;00m \u001b[38;5;28mhasattr\u001b[39m(\u001b[38;5;28mself\u001b[39m\u001b[38;5;241m.\u001b[39mMyGraph, \u001b[38;5;124m'\u001b[39m\u001b[38;5;124mprojected_columns_adj_list\u001b[39m\u001b[38;5;124m'\u001b[39m):\n\u001b[1;32m    164\u001b[0m         \u001b[38;5;28mself\u001b[39m\u001b[38;5;241m.\u001b[39mtoken_proj\u001b[38;5;241m=\u001b[39m{}\n",
      "\u001b[0;31mAttributeError\u001b[0m: 'BipartiteGraph' object has no attribute 'cols_projection'"
     ]
    }
   ],
   "source": [
    "cacca.get_projection(rows=True, alpha=0.05, approx_method='poisson', threads_num=4, progress_bar=True)"
   ]
  },
  {
   "cell_type": "code",
   "execution_count": 14,
   "id": "1fba77d0",
   "metadata": {
    "ExecuteTime": {
     "end_time": "2025-05-19T12:06:56.144786Z",
     "start_time": "2025-05-19T09:59:39.015887Z"
    }
   },
   "outputs": [
    {
     "name": "stderr",
     "output_type": "stream",
     "text": [
      " 13%|██████████████▎                                                                                                   | 3884/31060 [00:16<01:54, 237.82it/s]/home/sarawalk/sdgs_py38/lib/python3.8/site-packages/bicm/graph_classes.py:1113: RuntimeWarning: invalid value encountered in divide\n",
      "  probs = node_xy * neighbor_xy / ((1 + node_xy) * (1 + neighbor_xy))\n",
      " 19%|█████████████████████▍                                                                                            | 5826/31060 [00:24<01:40, 251.41it/s]/home/sarawalk/sdgs_py38/lib/python3.8/site-packages/bicm/graph_classes.py:1113: RuntimeWarning: invalid value encountered in divide\n",
      "  probs = node_xy * neighbor_xy / ((1 + node_xy) * (1 + neighbor_xy))\n",
      " 25%|████████████████████████████▌                                                                                     | 7768/31060 [00:30<01:28, 264.35it/s]/home/sarawalk/sdgs_py38/lib/python3.8/site-packages/bicm/graph_classes.py:1113: RuntimeWarning: invalid value encountered in divide\n",
      "  probs = node_xy * neighbor_xy / ((1 + node_xy) * (1 + neighbor_xy))\n",
      "/home/sarawalk/sdgs_py38/lib/python3.8/site-packages/bicm/graph_classes.py:1113: RuntimeWarning: invalid value encountered in divide\n",
      "  probs = node_xy * neighbor_xy / ((1 + node_xy) * (1 + neighbor_xy))\n",
      "100%|████████████████████████████████████████████████████████████████████████████████████████████████████████████████| 31060/31060 [1:33:21<00:00,  5.55it/s]\n"
     ]
    },
    {
     "name": "stdout",
     "output_type": "stream",
     "text": [
      "No V-motifs will be validated. Try increasing alpha\n"
     ]
    },
    {
     "ename": "AttributeError",
     "evalue": "'BipartiteGraph' object has no attribute 'cols_projection'",
     "output_type": "error",
     "traceback": [
      "\u001b[0;31m---------------------------------------------------------------------------\u001b[0m",
      "\u001b[0;31mAttributeError\u001b[0m                            Traceback (most recent call last)",
      "Cell \u001b[0;32mIn[14], line 1\u001b[0m\n\u001b[0;32m----> 1\u001b[0m \u001b[43mcacca\u001b[49m\u001b[38;5;241;43m.\u001b[39;49m\u001b[43mget_projection\u001b[49m\u001b[43m(\u001b[49m\u001b[43mrows\u001b[49m\u001b[38;5;241;43m=\u001b[39;49m\u001b[38;5;28;43;01mFalse\u001b[39;49;00m\u001b[43m,\u001b[49m\u001b[43m \u001b[49m\u001b[43malpha\u001b[49m\u001b[38;5;241;43m=\u001b[39;49m\u001b[38;5;241;43m0.05\u001b[39;49m\u001b[43m,\u001b[49m\u001b[43m \u001b[49m\u001b[43mapprox_method\u001b[49m\u001b[38;5;241;43m=\u001b[39;49m\u001b[38;5;124;43m'\u001b[39;49m\u001b[38;5;124;43mpoisson\u001b[39;49m\u001b[38;5;124;43m'\u001b[39;49m\u001b[43m,\u001b[49m\u001b[43m \u001b[49m\u001b[43mthreads_num\u001b[49m\u001b[38;5;241;43m=\u001b[39;49m\u001b[38;5;241;43m4\u001b[39;49m\u001b[43m,\u001b[49m\u001b[43m \u001b[49m\u001b[43mprogress_bar\u001b[49m\u001b[38;5;241;43m=\u001b[39;49m\u001b[38;5;28;43;01mTrue\u001b[39;49;00m\u001b[43m)\u001b[49m\n",
      "File \u001b[0;32m~/sdgs_py38/lib/python3.8/site-packages/melt/melt.py:162\u001b[0m, in \u001b[0;36mmelt.get_projection\u001b[0;34m(self, **kwrds)\u001b[0m\n\u001b[1;32m    159\u001b[0m             new_key\u001b[38;5;241m=\u001b[39m\u001b[38;5;28mself\u001b[39m\u001b[38;5;241m.\u001b[39mMyGraph\u001b[38;5;241m.\u001b[39mrows_dict[key]\n\u001b[1;32m    160\u001b[0m             \u001b[38;5;28mself\u001b[39m\u001b[38;5;241m.\u001b[39mid_proj[new_key]\u001b[38;5;241m=\u001b[39m[\u001b[38;5;28mself\u001b[39m\u001b[38;5;241m.\u001b[39mMyGraph\u001b[38;5;241m.\u001b[39mrows_dict[other_key] \u001b[38;5;28;01mfor\u001b[39;00m other_key \u001b[38;5;129;01min\u001b[39;00m \u001b[38;5;28mself\u001b[39m\u001b[38;5;241m.\u001b[39mMyGraph\u001b[38;5;241m.\u001b[39mprojected_rows_adj_list[key]] \n\u001b[0;32m--> 162\u001b[0m \u001b[38;5;28;01mif\u001b[39;00m \u001b[38;5;28;43mself\u001b[39;49m\u001b[38;5;241;43m.\u001b[39;49m\u001b[43mMyGraph\u001b[49m\u001b[38;5;241;43m.\u001b[39;49m\u001b[43mcols_projection\u001b[49m:\n\u001b[1;32m    163\u001b[0m     \u001b[38;5;28;01mif\u001b[39;00m \u001b[38;5;28mhasattr\u001b[39m(\u001b[38;5;28mself\u001b[39m\u001b[38;5;241m.\u001b[39mMyGraph, \u001b[38;5;124m'\u001b[39m\u001b[38;5;124mprojected_columns_adj_list\u001b[39m\u001b[38;5;124m'\u001b[39m):\n\u001b[1;32m    164\u001b[0m         \u001b[38;5;28mself\u001b[39m\u001b[38;5;241m.\u001b[39mtoken_proj\u001b[38;5;241m=\u001b[39m{}\n",
      "\u001b[0;31mAttributeError\u001b[0m: 'BipartiteGraph' object has no attribute 'cols_projection'"
     ]
    }
   ],
   "source": [
    "cacca.get_projection(rows=False, alpha=0.05, approx_method='poisson', threads_num=4, progress_bar=True)"
   ]
  },
  {
   "cell_type": "code",
   "execution_count": null,
   "id": "bf96ccea",
   "metadata": {
    "ExecuteTime": {
     "end_time": "2025-05-19T12:06:56.148763Z",
     "start_time": "2025-05-19T12:06:56.148738Z"
    }
   },
   "outputs": [],
   "source": [
    "cacca.token_proj"
   ]
  },
  {
   "cell_type": "markdown",
   "id": "9dd41f48",
   "metadata": {},
   "source": [
    "Not only it doesn't work, but it also takes a lot of time."
   ]
  },
  {
   "cell_type": "markdown",
   "id": "a81d3185",
   "metadata": {},
   "source": [
    "## Weighted"
   ]
  },
  {
   "cell_type": "markdown",
   "id": "041f882a",
   "metadata": {},
   "source": [
    "bicm reads only weighted biadjacency matrices, therefore..."
   ]
  },
  {
   "cell_type": "markdown",
   "id": "14ebb7f9",
   "metadata": {},
   "source": [
    "### Function"
   ]
  },
  {
   "cell_type": "code",
   "execution_count": 144,
   "id": "902584b9",
   "metadata": {
    "ExecuteTime": {
     "end_time": "2025-05-19T14:53:59.252107Z",
     "start_time": "2025-05-19T14:53:59.238997Z"
    }
   },
   "outputs": [],
   "source": [
    "# biadjacency list to biadjacency matrix\n",
    "def bili2bima(bili):\n",
    "    # get the number of different tokens\n",
    "    all_tokens=[]\n",
    "    for key in tqdm(bili.keys(), leave=True):\n",
    "        for _token in bili[key].keys():\n",
    "            if _token not in all_tokens:\n",
    "                all_tokens.append(_token)\n",
    "    # transform all_tokens to a numpy array, such that I can use np.unique safely\n",
    "    all_tokens=np.array(all_tokens)\n",
    "    # define the biadjacency matrix \n",
    "    bima=np.zeros((len(bili.keys()), len(all_tokens)), dtype=int)\n",
    "    for key in tqdm(bili.keys(), leave=True):\n",
    "        for _token in bili[key].keys():\n",
    "            where_token=np.where(all_tokens==_token)[0][0]\n",
    "            bima[key, where_token]+=bili[key][token]\n",
    "    return bima, all_tokens"
   ]
  },
  {
   "cell_type": "markdown",
   "id": "b6f048f2",
   "metadata": {},
   "source": [
    "### Debug"
   ]
  },
  {
   "cell_type": "code",
   "execution_count": 24,
   "id": "82d7571e",
   "metadata": {
    "ExecuteTime": {
     "end_time": "2025-05-19T13:15:14.722519Z",
     "start_time": "2025-05-19T13:15:14.713482Z"
    }
   },
   "outputs": [
    {
     "data": {
      "text/plain": [
       "89"
      ]
     },
     "execution_count": 24,
     "metadata": {},
     "output_type": "execute_result"
    }
   ],
   "source": [
    "len(all_texts['2023']['texts'])"
   ]
  },
  {
   "cell_type": "code",
   "execution_count": 14,
   "id": "223c71b6",
   "metadata": {
    "ExecuteTime": {
     "end_time": "2025-05-19T15:42:40.917484Z",
     "start_time": "2025-05-19T15:41:26.719436Z"
    }
   },
   "outputs": [
    {
     "data": {
      "application/vnd.jupyter.widget-view+json": {
       "model_id": "06ee2ccc01ed40f59ffde2c942f69d0f",
       "version_major": 2,
       "version_minor": 0
      },
      "text/plain": [
       "  0%|          | 0/89 [00:00<?, ?it/s]"
      ]
     },
     "metadata": {},
     "output_type": "display_data"
    }
   ],
   "source": [
    "cacca=melt(all_texts['2023']['texts'], binary=False)"
   ]
  },
  {
   "cell_type": "code",
   "execution_count": 162,
   "id": "71bef468",
   "metadata": {
    "ExecuteTime": {
     "end_time": "2025-05-19T15:35:43.736286Z",
     "start_time": "2025-05-19T15:35:43.727590Z"
    }
   },
   "outputs": [
    {
     "data": {
      "text/plain": [
       "89"
      ]
     },
     "execution_count": 162,
     "metadata": {},
     "output_type": "execute_result"
    }
   ],
   "source": [
    "len(cacca.biadj_list)"
   ]
  },
  {
   "cell_type": "code",
   "execution_count": 29,
   "id": "d361f45c",
   "metadata": {
    "ExecuteTime": {
     "end_time": "2025-05-19T13:23:01.166380Z",
     "start_time": "2025-05-19T13:22:36.199600Z"
    }
   },
   "outputs": [
    {
     "data": {
      "application/vnd.jupyter.widget-view+json": {
       "model_id": "7a42c2dda1b443fc9cd436592f80c63f",
       "version_major": 2,
       "version_minor": 0
      },
      "text/plain": [
       "  0%|          | 0/89 [00:00<?, ?it/s]"
      ]
     },
     "metadata": {},
     "output_type": "display_data"
    },
    {
     "data": {
      "application/vnd.jupyter.widget-view+json": {
       "model_id": "fb9c92fbdfd748b4abe97d612e938418",
       "version_major": 2,
       "version_minor": 0
      },
      "text/plain": [
       "  0%|          | 0/89 [00:00<?, ?it/s]"
      ]
     },
     "metadata": {},
     "output_type": "display_data"
    },
    {
     "ename": "IndexError",
     "evalue": "index 0 is out of bounds for axis 0 with size 0",
     "output_type": "error",
     "traceback": [
      "\u001b[0;31m---------------------------------------------------------------------------\u001b[0m",
      "\u001b[0;31mIndexError\u001b[0m                                Traceback (most recent call last)",
      "Cell \u001b[0;32mIn[29], line 1\u001b[0m\n\u001b[0;32m----> 1\u001b[0m aux, aux_at\u001b[38;5;241m=\u001b[39m\u001b[43mbili2bima\u001b[49m\u001b[43m(\u001b[49m\u001b[43mcacca\u001b[49m\u001b[38;5;241;43m.\u001b[39;49m\u001b[43mbiadj_list\u001b[49m\u001b[43m)\u001b[49m\n",
      "Cell \u001b[0;32mIn[28], line 12\u001b[0m, in \u001b[0;36mbili2bima\u001b[0;34m(bili)\u001b[0m\n\u001b[1;32m     10\u001b[0m \u001b[38;5;28;01mfor\u001b[39;00m key \u001b[38;5;129;01min\u001b[39;00m tqdm(bili\u001b[38;5;241m.\u001b[39mkeys()):\n\u001b[1;32m     11\u001b[0m     \u001b[38;5;28;01mfor\u001b[39;00m _token \u001b[38;5;129;01min\u001b[39;00m bili[key]\u001b[38;5;241m.\u001b[39mkeys():\n\u001b[0;32m---> 12\u001b[0m         where_token\u001b[38;5;241m=\u001b[39m\u001b[43mnp\u001b[49m\u001b[38;5;241;43m.\u001b[39;49m\u001b[43mwhere\u001b[49m\u001b[43m(\u001b[49m\u001b[43mall_tokens\u001b[49m\u001b[38;5;241;43m==\u001b[39;49m\u001b[43m_token\u001b[49m\u001b[43m)\u001b[49m\u001b[43m[\u001b[49m\u001b[38;5;241;43m0\u001b[39;49m\u001b[43m]\u001b[49m\u001b[43m[\u001b[49m\u001b[38;5;241;43m0\u001b[39;49m\u001b[43m]\u001b[49m\n\u001b[1;32m     13\u001b[0m         bima[key, where_token]\u001b[38;5;241m+\u001b[39m\u001b[38;5;241m=\u001b[39mbili[key][token]\n\u001b[1;32m     14\u001b[0m \u001b[38;5;28;01mreturn\u001b[39;00m bima, all_tokens\n",
      "\u001b[0;31mIndexError\u001b[0m: index 0 is out of bounds for axis 0 with size 0"
     ]
    }
   ],
   "source": [
    "aux, aux_at=bili2bima(cacca.biadj_list)"
   ]
  },
  {
   "cell_type": "code",
   "execution_count": 30,
   "id": "36dc62fc",
   "metadata": {
    "ExecuteTime": {
     "end_time": "2025-05-19T13:23:50.448131Z",
     "start_time": "2025-05-19T13:23:50.442534Z"
    }
   },
   "outputs": [],
   "source": [
    "bili=cacca.biadj_list.copy()"
   ]
  },
  {
   "cell_type": "code",
   "execution_count": 101,
   "id": "13584715",
   "metadata": {
    "ExecuteTime": {
     "end_time": "2025-05-19T13:43:43.164632Z",
     "start_time": "2025-05-19T13:43:43.157966Z"
    }
   },
   "outputs": [],
   "source": [
    "bad_char=['-', '©', '–', '‘', '’', '“', '”', \"''\", \"'s\",'``', '\\\\', '|']"
   ]
  },
  {
   "cell_type": "code",
   "execution_count": 110,
   "id": "763f9e59",
   "metadata": {
    "ExecuteTime": {
     "end_time": "2025-05-19T14:05:48.980862Z",
     "start_time": "2025-05-19T14:05:28.158107Z"
    }
   },
   "outputs": [
    {
     "data": {
      "application/vnd.jupyter.widget-view+json": {
       "model_id": "13a148c37eb946e591b192ab9bbfcd80",
       "version_major": 2,
       "version_minor": 0
      },
      "text/plain": [
       "  0%|          | 0/89 [00:00<?, ?it/s]"
      ]
     },
     "metadata": {},
     "output_type": "display_data"
    }
   ],
   "source": [
    "    all_tokens=[]\n",
    "    for key in tqdm(bili.keys(), leave=True):\n",
    "        for _token in bili[key].keys():\n",
    "            if _token not in all_tokens and all([bd not in _token for bd in bad_char]) and _token[0] not in [\"'\", \"\\\\\", \"/\", '+', \"^^\", \":\", '£', '$'] and not _token[0].isnumeric():\n",
    "                all_tokens.append(_token)\n",
    "    all_tokens=np.array(all_tokens)"
   ]
  },
  {
   "cell_type": "code",
   "execution_count": 111,
   "id": "bfd0e7a1",
   "metadata": {
    "ExecuteTime": {
     "end_time": "2025-05-19T14:06:27.981925Z",
     "start_time": "2025-05-19T14:05:48.984751Z"
    }
   },
   "outputs": [
    {
     "data": {
      "application/vnd.jupyter.widget-view+json": {
       "model_id": "f97243a28479436a9922c2e8b1bd8bef",
       "version_major": 2,
       "version_minor": 0
      },
      "text/plain": [
       "  0%|          | 0/89 [00:00<?, ?it/s]"
      ]
     },
     "metadata": {},
     "output_type": "display_data"
    }
   ],
   "source": [
    "    bima=np.zeros((len(bili.keys()), len(all_tokens)), dtype=int)\n",
    "    for key in tqdm(bili.keys(), leave=True):\n",
    "        for _token in bili[key].keys():\n",
    "            if _token in all_tokens:\n",
    "                where_token=np.where(all_tokens==_token)[0][0]\n",
    "                bima[key, where_token]+=bili[key][_token]\n",
    "    "
   ]
  },
  {
   "cell_type": "code",
   "execution_count": 113,
   "id": "05dc531f",
   "metadata": {
    "ExecuteTime": {
     "end_time": "2025-05-19T14:06:50.786169Z",
     "start_time": "2025-05-19T14:06:50.780469Z"
    }
   },
   "outputs": [],
   "source": [
    "cacca=BiG()"
   ]
  },
  {
   "cell_type": "code",
   "execution_count": 114,
   "id": "fc298146",
   "metadata": {
    "ExecuteTime": {
     "end_time": "2025-05-19T14:06:58.682649Z",
     "start_time": "2025-05-19T14:06:58.610051Z"
    }
   },
   "outputs": [
    {
     "name": "stdout",
     "output_type": "stream",
     "text": [
      "Discrete weighted model: BiWCM_d\n"
     ]
    }
   ],
   "source": [
    "cacca.set_biadjacency_matrix(bima)"
   ]
  },
  {
   "cell_type": "code",
   "execution_count": 115,
   "id": "14ace9dc",
   "metadata": {
    "ExecuteTime": {
     "end_time": "2025-05-19T14:33:45.708366Z",
     "start_time": "2025-05-19T14:07:07.947520Z"
    }
   },
   "outputs": [
    {
     "name": "stderr",
     "output_type": "stream",
     "text": [
      "/home/sarawalk/sdgs_py38/lib/python3.8/site-packages/numba/core/utils.py:643: NumbaExperimentalFeatureWarning: First-class function type feature is experimental\n",
      "  warnings.warn(\"First-class function type feature is experimental\",\n",
      "/home/sarawalk/sdgs_py38/lib/python3.8/site-packages/bicm/models_functions.py:326: NumbaExperimentalFeatureWarning: First-class function type feature is experimental\n",
      "  step_fun = args[0]\n",
      "/home/sarawalk/sdgs_py38/lib/python3.8/site-packages/bicm/models_functions.py:327: NumbaExperimentalFeatureWarning: First-class function type feature is experimental\n",
      "  arg_step_fun = args[1]\n",
      "/home/sarawalk/sdgs_py38/lib/python3.8/site-packages/numba/core/utils.py:643: NumbaExperimentalFeatureWarning: First-class function type feature is experimental\n",
      "  warnings.warn(\"First-class function type feature is experimental\",\n"
     ]
    },
    {
     "name": "stdout",
     "output_type": "stream",
     "text": [
      "max rows error = 0.00010472287903845316\n",
      "max columns error = 7.311720381864007e-06\n",
      "total error = 0.00773124083942919\n",
      "Solver converged.\n"
     ]
    }
   ],
   "source": [
    "cacca.solve_tool()"
   ]
  },
  {
   "cell_type": "code",
   "execution_count": 116,
   "id": "bf7b20d3",
   "metadata": {
    "ExecuteTime": {
     "end_time": "2025-05-19T14:38:14.009585Z",
     "start_time": "2025-05-19T14:38:13.947490Z"
    }
   },
   "outputs": [],
   "source": [
    "cacca.compute_weighted_pvals_mat()"
   ]
  },
  {
   "cell_type": "code",
   "execution_count": 117,
   "id": "87c50504",
   "metadata": {
    "ExecuteTime": {
     "end_time": "2025-05-19T14:38:35.940635Z",
     "start_time": "2025-05-19T14:38:35.928870Z"
    }
   },
   "outputs": [
    {
     "data": {
      "text/plain": [
       "array([[1.45918023e-01, 4.66682797e-05, 3.74940711e-02, ...,\n",
       "        1.00000000e+00, 1.00000000e+00, 1.00000000e+00],\n",
       "       [1.00000000e+00, 1.00000000e+00, 1.00000000e+00, ...,\n",
       "        1.00000000e+00, 1.00000000e+00, 1.00000000e+00],\n",
       "       [1.00000000e+00, 2.41590737e-03, 3.69701886e-02, ...,\n",
       "        1.00000000e+00, 1.00000000e+00, 1.00000000e+00],\n",
       "       ...,\n",
       "       [1.00000000e+00, 1.00000000e+00, 1.00000000e+00, ...,\n",
       "        1.00000000e+00, 1.00000000e+00, 1.00000000e+00],\n",
       "       [1.00000000e+00, 1.00000000e+00, 1.00000000e+00, ...,\n",
       "        1.00000000e+00, 1.00000000e+00, 1.00000000e+00],\n",
       "       [1.00000000e+00, 1.00000000e+00, 1.00000000e+00, ...,\n",
       "        1.18151329e-02, 5.45686665e-04, 1.18151329e-02]])"
      ]
     },
     "execution_count": 117,
     "metadata": {},
     "output_type": "execute_result"
    }
   ],
   "source": [
    "cacca.pvals_mat"
   ]
  },
  {
   "cell_type": "code",
   "execution_count": 119,
   "id": "df32f636",
   "metadata": {
    "ExecuteTime": {
     "end_time": "2025-05-19T14:39:52.377965Z",
     "start_time": "2025-05-19T14:39:52.274078Z"
    }
   },
   "outputs": [],
   "source": [
    "pval_m=cacca.get_validated_matrix(significance=0.05, validation_method='fdr')"
   ]
  },
  {
   "cell_type": "code",
   "execution_count": 126,
   "id": "d7f019d1",
   "metadata": {
    "ExecuteTime": {
     "end_time": "2025-05-19T14:42:29.276183Z",
     "start_time": "2025-05-19T14:42:29.240474Z"
    }
   },
   "outputs": [
    {
     "name": "stdout",
     "output_type": "stream",
     "text": [
      "['africa' 'alto' 'american' 'anglo' 'barro' 'beer' 'berlin' 'botswana'\n",
      " 'bronc' 'capcoal' 'carcinogen' 'chile' 'closur' 'copper' 'cpr' 'crd'\n",
      " 'cybersecur' 'dam' 'dewat' 'diamond' 'edna' 'el' 'envusa' 'fcev'\n",
      " 'futuresmart' 'gbv' 'gistm' 'hds' 'heritag' 'hiv' 'host' 'ibi' 'icmm'\n",
      " 'irma' 'iron' 'kolomela' 'kumba' 'learn+' 'learner' 'los' 'mina' 'mine'\n",
      " 'miner' 'mining™' 'mitsubishi' 'mogalakwena' 'moquegua' 'mt' 'nickel'\n",
      " 'nois' 'npi' 'nutrient' 'oel' 'ore' 'peru' 'pgms' 'pionero' 'pmlu'\n",
      " 'polyhalit' 'psm' 'queensland' 'quellaveco' 'rehabilit' 'rescu' 'resettl'\n",
      " 'rjc' 'rock' 'rvms' 'sishen' 'slp' 'smp' 'soldado' 'south' 'southern'\n",
      " 'spatial' 'steelmak' 'tail' 'teacher' 'tsfs' 'underground' 'unki'\n",
      " 'valutrax™' 'vam' 'vfl' 'violenc' 'woodsmith' 'yourvoic' 'zimbabw'\n",
      " 'zimel'] ANGLO_AMERICAN_PLC\n",
      "['impact' 'ingredi' 'sustain' 'croda'] CRODA_INTERNATIONAL_PLC\n",
      "['endeavour' 'gold' 'hectar' 'malaria' 'mine' 'pit' 'reforest' 'rehabilit'\n",
      " 'resettl' 'tsf' 'villag' 'asgm' 'boungou' 'burkina' 'cyanid' 'côte'\n",
      " 'ecobank' 'edv' 'esia' 'ess' 'faso' 'fcfa' 'houndé' 'iti' 'ivoir'\n",
      " 'lafigué' 'mana' 'massawa' 'mdp' 'ohh' 'rgmp' 'rgmps' 'sabodala' 'seneg'\n",
      " 'smo' 'tanda' 'vpshr' 'wahgnion'] ENDEAVOUR_MINING_PLC\n",
      "['catalyst' 'electrolys' 'hydrogen' 'membran' 'metal' 'pgm' 'pgms'\n",
      " 'platinum' 'precious' 'dl' 'glt' 'jm' 'johnson' 'matthey' 'methanol'\n",
      " 'royston' '£120'] JOHNSON_MATTHEY_PLC\n",
      "['abat' 'biofuel' 'furnac' 'iron' 'lump' 'ore' 'queensland' 'refineri'\n",
      " 'rio' 'smelt' 'smelter' 'alumina' 'aluminium' 'anod' 'baowu' 'bauxit'\n",
      " 'biocarbon' 'bluescop' 'bluesmelting™' 'boyn' 'calcin' 'cat' 'diavik'\n",
      " 'elysistm' 'elysis™' 'esf' 'gladston' 'kennecott' 'pelletis' 'pilbara'\n",
      " 'ppa' 'qal' 'quebec' 'repow' 'tinto' 'tomago' 'vessel' 'yarwun'\n",
      " 'yindjibarndi'] RIO_TINTO_PLC\n",
      "['special' 'coat' 'tfs' 'adhes' 'glove' 'monom' 'nbr' 'pser' 'rcr' 'resin'\n",
      " 'synthom' '»'] SYNTHOMER_PLC\n",
      "['lender' 'plot' 'mortgag' 'bps' 'asp' 'barratt' 'citra' 'ehome2' 'fy22'\n",
      " 'fy23' 'gladman' 'hbf' 'homebuy' 'housebuild' 'jvs' 'mmc' 'nhbc' 'rental'\n",
      " 'ris' 'roce' 'zed'] BARRATT_DEVELOPMENTS_PLC\n",
      "['develop' 'site' 'sustain' 'acr' 'bng' 'berkeley' 'biodiesel'] BERKELEY_GROUP_HOLDINGS_(THE)_PLC\n",
      "['creativ' 'luxuri' 'fashion' 'fy' 'aftercar' 'burberri' 'cashmer'\n",
      " 'classic' 'emeia' 'leather' 'outerwear' 'shoe' 'trench' 'wardrob'] BURBERRY_GROUP_PLC\n",
      "['busi' 'compass' 'food' 'cbc' 'chef' 'culinari' 'foodbuy' 'fwd' 'menus'\n",
      " 'sedex' 'tomato'] COMPASS_GROUP_PLC\n",
      "['event' 'game' 'pe' 'stand' 'sustain' 'f' 'attende' 'cruis' 'disconnect'\n",
      " 'exhibitor' 'fasterforward' 'franci' 'informa' 'nutraceut' 'superreturn'\n",
      " 'tarsus' 'taylor' 'venu'] INFORMA_PLC\n",
      "['night' 'owner' 'room' 'guest' 'tomorrow' 'franchis' 'hotel' 'ecm' 'ihg'\n",
      " 'resort'] INTERCONTINENTAL_HOTELS_GROUP_PLC\n",
      "['furnitur' 'cotton' 'leather' 'textil' 'refurnish'] NEXT_PLC\n",
      "['ore' 'plot' 'subcontractor' 'l' 'brick' 'builder' 'creditor' 'outlet'\n",
      " 'placemak' 'vertic' '£nil' 'boord' 'brickwork' 'hos' 'hove' 'hs' 'lo'\n",
      " 'locus' 'ol' 'ond' 'overag' 'persimmon' 'roac' 'space4' 'tilework'\n",
      " 'welsh'] PERSIMMON_PLC\n",
      "['sdg' 'librari' 'winner' 'journal' 'cirium' 'cr' 'elsevi' 'ici' 'lawyer'\n",
      " 'lexisnexi' 'relx' 'research4lif' 'rx' 'scopus' 'srs'] RELX_PLC\n",
      "['guest' 'premier' 'inn' 'sleeper' 'whitbread'] WHITBREAD_PLC\n",
      "['abstract' 'irrig' '∆' 'cereal' 'rice' 'factori' 'dryer' 'weston' 'georg'\n",
      " 'herb' 'cloth' 'cotton' 'bakeri' 'grower' 'sauc' 'tea' 'bangladesh'\n",
      " 'durabl' 'malawi' 'sugar' 'ab' 'abf' 'abfi' 'agri' 'azucarera' 'beet'\n",
      " 'bread' 'cane' 'enzym' 'fefac' 'flour' 'groceri' 'hfss' 'illovo'\n",
      " 'kingsmil' 'lti' 'ltis' 'mauri' 'nchalo' 'ovaltin' 'primark' 'pscp'\n",
      " 'ryvita' 'soya' 'spice' 'srp' 'ssi' 'twine' 'westmil' 'yeast'] Associated_British_Foods_PLC\n",
      "['compos' 'smoke' 'vs' 'agrochem' 'inward' 'bat' 'outward' 'scoc' 'pulp'\n",
      " 'thr' 'dma' 'leaf' 'ait' 'bra' 'chain1' 'cigarett' 'cure' 'illicit' 'imp'\n",
      " 'nicotin' 'smokeless' 'smoker' 'sobc' 'tobacco' 'uap' 'underag' 'vapour'] British_American_Tobacco_PLC\n",
      "['alcohol' 'australia' 'chairman' 'coffe' 'counterparti' 'drink' 'euro'\n",
      " 'exhibit' 'litr' 'pti' 'recover' 'soft' 'spanish' 'swap' 'sydney'\n",
      " 'territori' 'versus' 'api' 'ey' 'indonesia' 'bottl' 'cold' 'guillaum'\n",
      " 'guinea' 'replenish' 'borrow' 'denomin' 'fx' 'hedg' 'indefinit' 'pt'\n",
      " 'sweeten' 'zealand' 'accrual' 'repaid' 'roic' 'britain' 'ned' 'stamp'\n",
      " 'can' 'allot' 'beverag' 'philippin' 'gb' 'jack' 'calori' 'juic' 'pet'\n",
      " 'quot' 'syrup' 'cooler' 'del' 'fmcg' 'holder' 'accru' 'aev' 'agua' 'arr'\n",
      " 'artd' 'beam' 'bebida' 'bizkaia' 'bottler' 'ccbpi' 'ccep' 'cde' 'cgu'\n",
      " 'cgus' 'cilandak' 'cobega' 'coc' 'compaa' 'damian' 'daurella' 'dispens'\n",
      " 'disposit' 'dtc' 'espp' 'europacif' 'fanta' 'franchisor' 'freestyl'\n",
      " 'gammel' 'garri' 'iberia' 'iberian' 'ine' 'jos' 'loira' 'madrid'\n",
      " 'mirzayantz' 'monster' 'multi' 'nartd' 'nasdaq' 'nicola' 'nsw' 'oliv'\n",
      " 'papua' 'pcaob' 'pfic' 'planta' 'powerad' 'psa' 'resign' 'ribera' 'rpet'\n",
      " 'rtd' 'sdrt' 'sec' 'sgps' 'sol' 'sparkl' 'sprite' 'suntori' 'taxabl'\n",
      " 'tccc' 'watt' 'α'] Coca-Cola_Europacific_Partners_PLC\n",
      "['attitud' 'explan' 'fiscal' 'workday' 'effluent' 'omiss' 'sap' 'spirit'\n",
      " 'hria' 'sedex' 'ibat' 'oh' 'smallhold' 'smash' 'diageo' 'bod'\n",
      " 'collingwood' 'definitionw' 'drinkiq' 'handler' 'limitationw'\n",
      " 'preparationth' 'preparationw' 'speakup' 'teu'] Diageo_PLC\n",
      "['moment' 'smoke' 'jewel' 'russia' 'oral' 'leaf' 'cigarett' 'excis'\n",
      " 'illicit' 'nicotin' 'smoker' 'stp' 'tobacco' 'vape' 'aaac' 'blu' 'cigar'\n",
      " 'fm' 'imperi' 'logista' 'mfi' 'ngp' 'ntm' 'pulz'] Imperial_Brands_PLC\n",
      "['chicken' 'fairtrad' 'cloth' 'hanger' 'rspca' 'redistribut' 'soy'\n",
      " 'polyest' 'myanmar' 'gist' 'salesfloor' 'vdcf'] Marks_and_Spencer_Group_PLC\n",
      "['palm' 'wwf' 'latex' 'cocoa' 'earthworm' 'pain' 'autism' 'pcr' 'rsl'\n",
      " 'reckitt' 'weve' 'cgf' 'dettol' 'embellish' 'emf' 'ndpe' 'rubber'\n",
      " 'vanish'] Reckitt_Benckiser_Group_PLC\n",
      "['food' 'tonnag' 'redistribut' 'seafood' 'tu' 'sainsburi' 'sku'\n",
      " 'supermarket' 'peat' 'antibiot' 'argo' 'asc' 'comic'] Sainsbury_(J)_PLC\n",
      "['£' 'shop' 'roi' 'aldi' 'tesco' 'booker' 'clubcard' 'mall' 'pts'] Tesco_PLC\n",
      "['commerc' 'ice' 'turnov' 'beauti' 'skin' 'unilev' 'laundri' 'superior'\n",
      " 'premiumis' 'snack' 'hair' 'cabinet' 'cream' 'ctap' 'deodor' 'dove'\n",
      " 'elida' 'hellmann' 'hyperinflationari' 'knorr' 'magnum' 'omo' 'prestig'\n",
      " 'shave' 'suav' 'ule' 'unmiss' 'usg' 'vaselin' 'yasso'] Unilever_PLC\n",
      "['busi' 'energi' 'includ' 'report' 'risk' 'scope' 'sustain' 'ashtead'] ASHTEAD_TECHNOLOGY_HOLDINGS_PLC\n",
      "['aerial' 'compress' 'diversifi' 'fugit' 'herein' 'ioc' 'mackenzi'\n",
      " 'methan' 'midstream' 'mt' 'optim' 'priorit' 'retir' 'thus' 'ton' 'recogn'\n",
      " 'ancillari' 'vice' 'eh' 'leak' 'pennsylvania' 'center' 'slip' 'counti'\n",
      " 'sam' 'virginia' 'turner' 'barrel' 'epa' 'plug' 'acp' 'appalachia'\n",
      " 'appalachian' 'bridger' 'co2e/mmcf' 'compressor' 'decarbon' 'gray'\n",
      " 'handheld' 'hutson' 'kerrigan' 'klaber' 'ldar' 'lvl' 'macc' 'mmbbl/d'\n",
      " 'mva' 'ngsi' 'ogi' 'ogmp' 'oklahoma' 'pad' 'pgc' 'pneumat' 'rod' 'scada'\n",
      " 'stash' 'veriforc' 'xplorobot'] DIVERSIFIED_ENERGY_COMPANY_PLC\n",
      "['csr' 'hse' 'israel' 'egypt' 'greec' 'cs' 'bowti' 'energean' 'essr'\n",
      " 'fpso' 'karish' 'mediterranean' 'prino'] Energean\n",
      "['ccs' 'decommiss' 'discoveri' 'harbour' 'vietnam' 'kboepd' 'mmboe'\n",
      " 'acorn' 'andaman' 'britannia' 'clair' 'crros' 'dea' 'dur' 'epl' 'hses'\n",
      " 'infil' 'kan' 'layaran' 'pence/therm' 'rbl' 'schiehallion' 'vike'\n",
      " 'wintershal' 'zama'] HARBOUR_ENERGY_PLC\n",
      "['drill' 'pacif' 'rig' 'segment' 'thread' 'titanium' 'accessori'\n",
      " 'extrapol' 'guyana' 'geotherm' 'onshor' 'subsea' 'hunt' 'cairn' 'ccus'\n",
      " 'dearborn' 'emea' 'enpro' 'gun' 'jindal' 'jiuli' 'ngm' 'octg' 'orphanag'\n",
      " 'perfor' 'stafford' 'system™' 'titan' 'trenchless'] HUNTING_PLC\n",
      "['asset' 'captain' 'chemic' 'discharg' 'emiss' 'energi' 'environment'\n",
      " 'oper' 'product' 'sea' 'tonn' 'fpso' 'erskin' 'alba' 'alder' 'anp' 'blp'\n",
      " 'fsu' 'ithaca' 'nstd' 'nui' 'stella' 'tco2e/year' 'wpp'] ITHACA_ENERGY_PLC\n",
      "['sea' 'vessel' 'hydrocarbon' 'offshor' 'om' 'tailwind' 'flare' 'oeuk'\n",
      " 'ukc' 'afb' 'bruce' 'hseq' 'overboard' 'serica' 'smt'] SERICA_ENERGY_PLC\n",
      "['biofuel' 'lng' 'seam' 'spill' '—' 'nigeria' 'sabotag' 'liquefi' 'jv'\n",
      " 'shell' 'qatar' 'cubic' 'flare' 'megawatt' 'sif' 'ipieca' 'lubric'\n",
      " 'daystar' 'gtl' 'hsse' 'raízen' 'scotford' 'snepco' 'sp' 'spdc' 'vito'] Shell\n",
      "['ebit' 'wood' 'bu' 'fpi' 'asbesto' 'hsse' 'bg' 'grc' 'lstk' 'sup' 'teck'] WOOD_GROUP_(JOHN)_PLC\n",
      "['rainforest' 'aviva' 'saltmarsh'] AVIVA_PLC\n",
      "['dpm' 'heatmap' 'campus' 'fintech' 'unreason' 'δ' 'equin' 'cere'\n",
      " 'barclay' 'bisl' 'bluetracktm' 'cib' 'converg' 'ctf' 'ctrf' 'eagl' 'eo'\n",
      " 'nzba' 'pcaf' 'prb' 'sff' 'tff'] BARCLAYS_PLC\n",
      "['notabl' 'provision' 'wealth' 'hong' 'kong' 'mainland' 'hsbc' 'cet1'\n",
      " 'bocom' 'cmb' 'ecl' 'fdic' 'gbm' 'gps' 'svb' 'wpb'] HSBC_HOLDINGS_PLC\n",
      "['chapter' 'impli' 'cip' 'inact' 'iss' 'sick' 'cardiff' 'desnz' 'gec'\n",
      " 'sovereign' 'evic' 'aum' 'bruntwood' 'cala' 'concierg' 'dolphin' 'http'\n",
      " 'ivg' 'lga' 'lgas' 'lgc' 'lgim' 'lgri' 'lpppd' 'niluf' 'redstart' 'reeb'\n",
      " 'scitech' 'tco2e/£m'] LEGAL_&_GENERAL_GROUP_PLC\n",
      "['tpi' 'edi' 'lseg'] LONDON_STOCK_EXCHANGE_GROUP_PLC\n",
      "['climat' 'compani' 'data' 'emiss' 'hold' 'may' 'metric' 'portfolio'\n",
      " 'provid' 'use' 'msci' 'hothous' 'bailli' 'gifford'] SCOTTISH_MORTGAGE_INVESTMENT_TRUST_PLC\n",
      "['cent' 'charter' 'corridor' 'loan' 'singapor' 'mobilis' 'cso' 'sc'\n",
      " 'icvcm' 'imo' 'lend' 'client' 'hong' 'kong' 'brc' 'rote' 'celsius' 'ame'\n",
      " 'delta' 'globalis' 'sovereign' 'cet1' 'cre' 'nii' 'affluent' 'aladdin'\n",
      " 'bohai' 'cci' 'ccib' 'cpbb' 'dva' 'futuremak' 'jaw' 'jetp' 'mox'\n",
      " 'poseidon' 'prts' 'rwa'] STANDARD_CHARTERED_PLC\n",
      "['medicin' 'usd' 'astrazeneca' 'az' 'synthes' 'yhp'] AstraZeneca_PLC\n",
      "['arc' 'cpm' 'forev' 'ltip' 'contin' 'diabet' 'conting' 'deloitt' 'dress'\n",
      " 'parkinson' 'slovakia' 'coe' 'gbs' 'hcps' 'mason' 'air™' 'ara' 'awc'\n",
      " 'bionic' 'bitar' 'cathet' 'celt' 'convafoam™' 'convatec' 'deesid' 'fisb'\n",
      " 'gentlecath' 'haina' 'hcp' 'infus' 'innovamatrix®' 'insulin' 'jonni'\n",
      " 'karim' 'lisbon' 'medtech' 'mobi' 'multicurr' 'nitric' 'novo' 'ostomi'\n",
      " 'scrip' 'starlight' 'sten' 'stoma' 'triad' 'wound'] Convatec_Group_PLC\n",
      "['disciplinari' 'generic' 'hiv' 'infecti' 'inhal' 'malaria' 'medicin' 'tb'\n",
      " 'vaccin' 'tablet' 'dose' 'amr' 'antibiot' 'gsk' 'antimicrobi'\n",
      " 'albendazol' 'antiretrovir' 'cervarix' 'dolutegravir' 'gavi' 'mosquirix'\n",
      " 'opv' 'puerto' 'rotarix' 'synflorix' 'vial' 'viiv' 'wastag'] GSK_PLC\n",
      "['anim' 'aurora' 'livestock' 'breed' 'elit' 'pig' 'genet' 'sex' 'edit'\n",
      " 'trait' 'beef' 'dairi' 'protein' 'cattl' 'cow' 'manur' 'milk' 'gene'\n",
      " 'fy19' 'straw' 'genus' 'porcin' 'slaughter' 'biosecur' 'bovin' 'bull'\n",
      " 'carcass' 'embryo' 'genom' 'herd' 'intelligen' 'jk' 'jorgen' 'nucleus'\n",
      " 'nuera' 'pic' 'semen' 'sexcel'] Genus_PLC\n",
      "['report' 'sustain' 'algeria' 'jordan' 'hikma' 'mena'] Hikma_Pharmaceuticals_PLC\n",
      "['employe' 'report' 'disord' 'fcp' 'indivior' 'opioid' 'opve' 'overdos'] Indivior_PLC\n",
      "['adequ' 'administr' 'advers' 'alleg' 'assert' 'author' 'bio' 'biolog'\n",
      " 'biotechnolog' 'candid' 'ceas' 'claim' 'clearanc' 'clinic' 'cms' 'common'\n",
      " 'compens' 'competitor' 'conform' 'convert' 'court' 'crimin' 'deem'\n",
      " 'defend' 'delay' 'devic' 'devot' 'difficulti' 'efficaci' 'encount'\n",
      " 'enforc' 'enrol' 'entiti' 'exclus' 'expens' 'fail' 'feder' 'foreign'\n",
      " 'former' 'government' 'grant' 'ii' 'iii' 'impos' 'incur' 'infring'\n",
      " 'instrument' 'intellectu' 'interpret' 'licens' 'litig' 'medic' 'medicin'\n",
      " 'merger' 'moreov' 'novel' 'obtain' 'ordinari' 'otherwis' 'patent'\n",
      " 'patient' 'personnel' 'prefer' 'program' 'proprietari' 'prospect'\n",
      " 'pursuant' 'qualifi' 'restrict' 'royalti' 'shall' 'side' 'stock'\n",
      " 'subsidiari' 'substanc' 'substanti' 'suspend' 'symptom' 'takeov' 'termin'\n",
      " 'therapi' 'trial' 'unabl' 'biotech' 'cancer' 'drug' 'lengthi' 'lose'\n",
      " 'pharmaceut' 'recogn' 'abroad' 'diagnost' 'file' 'footnot' 'fraudul'\n",
      " 'prize' 'warrant' 'invent' 'medal' 'nci' 'pend' 'pharma' 'psp' 'entitl'\n",
      " 'expir' 'forese' 'inabl' 'inc' 'issuanc' 'secret' 'notifi' 'prosecut'\n",
      " 'settl' 'tsr' 'vote' 'repurchas' 'gbp' 'issuer' 'bristol' 'orphan' 'llc'\n",
      " 'forth' 'physician' 'prescript' 'bms' 'bcp' 'fda' 'holder' 'pulmonari'\n",
      " 'backstop' 'bankruptci' 'depositari' 'fals' 'fcpa' 'forego' 'gain/'\n",
      " 'gdpr' 'investe' 'ipf' 'lawsuit' 'medicar' 'nasdaq' 'reimburs' 'rsu'\n",
      " 'rsus' 'squibb' 'unobserv' 'waiver' 'percent' 'disagre' 'therapeut'\n",
      " 'aforement' 'amort' 'categor' 'incentiv' 'ipo' 'monet' 'realiz' 'vedanta'\n",
      " 'expedit' 'biopharma' 'pma' 'gallop' 'boston' 'fy2022' 'invalid' 'cros'\n",
      " 'biopharmaceut' 'oncolog' 'ifrss' 'income/' 'myer' 'payor' 'preclin'\n",
      " 'ema' 'biosimilar' 'hematolog' 'statut' 'summar' 'aca' 'adhd' 'adss' 'ae'\n",
      " 'akili' 'alivio' 'aml' 'ausiello' 'auspex' 'bharatt' 'bioscienc'\n",
      " 'biotherapeut' 'bla' 'capstar' 'carryforward' 'cgmp' 'chowrira' 'cmos'\n",
      " 'companion' 'ctr' 'daphn' 'deconsolid' 'derecogn' 'deuter' 'endeavorotc'\n",
      " 'endeavorrx' 'endpoint' 'enlight' 'entrega' 'expend' 'favor' 'fibrosi'\n",
      " 'follica' 'fvtpl' 'gelesi' 'glyph' 'horvitz' 'idiopath' 'ind' 'invesco'\n",
      " 'jefferi' 'juri' 'karuna' 'karxt' 'kiran' 'kucherlapati' 'lamattina'\n",
      " 'langer' 'licensor' 'lyt' 'maa' 'maxim' 'medicaid' 'merck' 'nda' 'nol'\n",
      " 'offere' 'offeror' 'pediatr' 'petit' 'pirfenidon' 'placebo' 'pleniti'\n",
      " 'promissori' 'puretech' 'pwerm' 'raju' 'schizophrenia' 'seaport' 'sond'\n",
      " 'subleas' 'teva' 'tumor' 'unauthor' 'unenforc' 'unfavor' 'uspto' 've303'\n",
      " 'verco' 'viehbach' 'vitro' 'vor' 'zohar'] PureTech_Health_PLC\n",
      "['robot' 'rec' 'edg' 'memphi' 'unlimit' 'orthopaed' 'surgic' 'wound'\n",
      " 'arthroplasti' 'eig' 'knee' 'renasi' 'renasys◊' 's+n' 'smith+nephew'\n",
      " 'surgeon' 'suzhou' 'swe'] Smith_&_Nephew_PLC\n",
      "['system' 'bae' 'missil'] BAE_SYSTEMS_PLC\n",
      "['busi' 'bunzl'] BUNZL_PLC\n",
      "['decentralis' 'dna' 'nich' 'inorgan' 'profit1' 'adjusted1' 'crowcon'\n",
      " 'currency1' 'dces' 'eva' 'halma' 'izi' 'palintest' 'rotic' 'sales1'\n",
      " 'subsector' 'switchgear' 'trekker' 'underwat' 'weetech'] HALMA_PLC\n",
      "['autom' 'daniel' 'fluid' 'oem' 'thoma' 'valv' 'andersen' 'jacki'\n",
      " 'heidrick' 'adapta' 'aftermarket' 'ajai' 'bahr' 'callaway' 'corsolut'\n",
      " 'equitycultur' 'heatmis' 'iip' 'imi' 'isobel' 'jami' 'kelvin'\n",
      " 'material/applic' 'one‑off' 'ricardo' 'roy' 'shook' 'thune' 'twite'] IMI_PLC\n",
      "['andré' 'jonathan' 'leaver' 'graham' 'es' 'aaa' 'intertek' 'tsa' 'amaz'\n",
      " 'apurvi' 'atic' 'colm' 'deasi' 'gill' 'jez' 'kawal' 'lynda' 'nespresso'\n",
      " 'preet' 'sheth' 'tamara' 'timmi' 'tqa'] INTERTEK_GROUP_PLC\n",
      "['aircraft' 'aviat' 'flight' 'saf' 'nze' 'aerospac' 'cryogen' 'gkn' 'gtc'\n",
      " 'h2gear' 'melros' 'propuls' 'trollhättan'] MELROSE_INDUSTRIES_PLC\n",
      "['hygien' 'retent' 'workwear' 'branch' 'technician' 'synergi' 'densiti'\n",
      " 'residenti' 'cer' 'annualis' 'fli' 'insect' 'pest' 'disinfect' 'washroom'\n",
      " 'ulev' 'hyperinfl' 'rentokil' 'rodent' 'latam' 'aer' 'birdalert' 'cvc'\n",
      " 'ecocatch' 'fumig' 'lumnia' 'menat' 'pestconnect' 'terminix' 'termit'\n",
      " 'u+' 'wdl' 'yvc' '£11m'] RENTOKIL_INITIAL_PLC\n",
      "['mill' 'paper' 'ds' 'smith' 'asterisk' 'corrug' 'papermak'] SMITH_(DS)_PLC\n",
      "['compani' 'employe' 'group' 'matter' 'oper' 'report' 'sustain' 'work'\n",
      " 'client' 'wise' 'clso'] WISE_PLC\n",
      "['london' 'occupi' 'ft' 'sq' 'riddor' 'baker' 'w1' 'naber' 'caledonian'\n",
      " 'derwent' 'egp'] DERWENT_LONDON_PLC\n",
      "['report' 'unemploy' 'proxi' 'landsec' 'neet'] LAND_SECURITIES_GROUP_PLC\n",
      "['axi' 'nzc' 'tenant' 'nhs' 'php' 'irish' 'toitu'] PRIMARY_HEALTH_PROPERTIES_PLC\n",
      "['committe' 'emiss' 'employe' 'report' 'risk' 'scope' 'rightmov'] RIGHTMOVE_PLC\n",
      "['rcp' 'kgco2e' 'segro' 'selp'] SEGRO_PLC\n",
      "['capit' 'consumpt' 'emiss' 'garden' 'report' 'total' 'kwh' 'refurbish'\n",
      " 'squar' 'regal' 'lfl' '―' 'lilli' 'erv' 'fitzrovia' 'capco' 'capitalyear'\n",
      " 'carnaby/soho' 'carnaby/sohocov' 'chinatown' 'covent' 'esc'\n",
      " 'gardenchinatownfitzrovialongmartinlilli' 'longmartin' 'shaftesburi'] SHAFTESBURY_CAPITAL_PLC\n",
      "['asset' 'big' 'compani' 'develop' 'manag' 'report' 'box' 'reit' 'tritax'\n",
      " 'symmetri'] TRITAX_BIG_BOX_REIT_PLC\n",
      "['energi' 'student' 'bed' 'rata' 'acquisitions/openings/dispos' 'co2e/b'\n",
      " 'co2e/m2' 'tonnes/yr'] UNITE_GROUP_PLC\n",
      "['semi' 'foundri' 'semiconductor' 'alphawav' 'fabless' 'ottawa'] ALPHAWAVE_IP_GROUP_PLC\n",
      "['adjust' 'group' 'increas' 'justic' 'oper' 'year' 'buddi'] BIG_TECHNOLOGIES_PLC\n",
      "['chang' 'could' 'manag' 'risk' 'vendor' 'phoenix' 'btg' 'byte' 'փ'] BYTES_TECHNOLOGY_GROUP_PLC\n",
      "['redeploy' 'clare' 'computacent' 'remarket'] COMPUTACENTER_PLC\n",
      "['climat' 'emiss' 'impact' 'risk' 'restaur' 'hop' 'rider'] DELIVEROO_PLC\n",
      "['ecoact' 'dei' 'knock' 'verita' 'long‑term' 'sage' 'self‑declar' 'smbs'] SAGE_GROUP_PLC\n",
      "['data' 'group' 'report' 'uk' 'ar' 'broadband' 'ee' 'bt' 'colleagues7'] BT_GROUP_PLC\n",
      "['esg' 'govern' 'strategi' 'filtron'] FILTRONIC_PLC\n",
      "['group' 'risk' 'tower' 'helio'] HELIOS_TOWERS_PLC\n",
      "['aa1000' 'hardwar' 'lab' 'hbcu' 'impuls' 'virtualis' 'calabasa' 'crawley'\n",
      " 'futureposit' 'gnss' 'paignton' 'pnt' 'spirent' 'visionwork'] SPIRENT_COMMUNICATIONS_PLC\n",
      "['fy25' 'foodbank' 'trussel' 'burnley' 'carla' 'koko' 'multiservic'\n",
      " 'plymouth' 'uw'] TELECOM_PLUS_PLC\n",
      "['climat' 'impact' 'risk' '°c' 'usd/tco2' 'vodafon'] VODAFONE_GROUP_PLC\n",
      "['carer' 'energi' 'centrica' 'peaksav'] CENTRICA_PLC\n",
      "['assur' 'biomass' 'emiss' 'includ' 'inform' 'matter' 'pellet' 'perform'\n",
      " 'report' 'subject' 'total' 'drax'] DRAX_GROUP_PLC\n",
      "['busi' 'custom' 'energi' 'good' 'instal' 'solar' 'tariff' 'jps' 'derog'\n",
      " 'ecoenergi' 'wessex' 'zapmap'] GOOD_ENERGY_GROUP_PLC\n",
      "['grain' 'grid' 'gw' 'lng' 'york' 'ed' 'transmiss' 'massachusett' 'eso'\n",
      " 'rbc' 'ny' 'remeasur' 'dps' 'interconnector' 'ctp' 'dso' 'roe' 'ofgem'\n",
      " 'asti' 'cpih' 'gprs' 'ifa1' 'neco' 'nged' 'nget' 'ngv' 'rav' 'rbr'\n",
      " 'upstat'] NATIONAL_GRID_PLC\n",
      "['risk' 'salin' 'capex' 'opex' 'bristol' 'sww' 'pennon' 'odi' 'pr24'\n",
      " 'wrmp'] PENNON_GROUP_PLC\n",
      "['truck' 'netherland' 'belgium' 'atm' 'decontamin' 'coolrec' 'ghent' 'isr'\n",
      " 'renewi' 'sheq'] RENEWI_PLC\n",
      "['river' 'derbi' 'trent' 'birmingham' 'canal' 'coventri' 'csos' 'amp8'\n",
      " 'andigest' 'dyfrdwi' 'hafren' 'ml/d' 'severn'] SEVERN_TRENT_PLC\n",
      "['thermal' 'wind' 'weld' 'hydro' 'transmiss' 'scotland' 'ireland' 'irish'\n",
      " 'triton' 'sse' 'accompanyng' 'airtric' 'cwic' 'keadbi' 'nzap' 'perfrom'\n",
      " 'psr' 'sf₆' 'ssen' 'tarbert'] SSE_PLC\n",
      "['drainag' 'rainfal' 'river' 'west' 'wastewat' 'leakag' 'outperform'\n",
      " 'sewer' 'ea' 'storm' 'peatland' 'ofwat' 'sludg' 'overflow' 'causal'\n",
      " 'ranger' 'totex' 'bioresourc' 'discolour' 'odi' 'amp7' 'amp8' 'biosolid'\n",
      " 'control/mitig' 'ltp' 'rore' 'usc'] UNITED_UTILITIES_GROUP_PLC\n",
      "['group' 'robin' 'meter' 'collater' 'toni' 'paynter' 'yu'] YU_GROUP_PLC\n"
     ]
    }
   ],
   "source": [
    "for i in range(len(pval_m)):\n",
    "    print(all_tokens[np.where(pval_m[i]==1)[0]], all_texts['2023']['firms'][i])"
   ]
  },
  {
   "cell_type": "code",
   "execution_count": 124,
   "id": "631e184d",
   "metadata": {
    "ExecuteTime": {
     "end_time": "2025-05-19T14:41:49.763409Z",
     "start_time": "2025-05-19T14:41:49.753464Z"
    }
   },
   "outputs": [
    {
     "data": {
      "text/plain": [
       "'ANGLO_AMERICAN_PLC'"
      ]
     },
     "execution_count": 124,
     "metadata": {},
     "output_type": "execute_result"
    }
   ],
   "source": [
    "all_texts['2023']['firms'][0]"
   ]
  },
  {
   "cell_type": "code",
   "execution_count": 128,
   "id": "9b916d93",
   "metadata": {
    "ExecuteTime": {
     "end_time": "2025-05-19T14:46:04.343672Z",
     "start_time": "2025-05-19T14:46:04.333695Z"
    }
   },
   "outputs": [
    {
     "data": {
      "text/plain": [
       "(array([2737]),)"
      ]
     },
     "execution_count": 128,
     "metadata": {},
     "output_type": "execute_result"
    }
   ],
   "source": [
    "np.where(all_tokens=='sdg')"
   ]
  },
  {
   "cell_type": "code",
   "execution_count": 133,
   "id": "95cbf897",
   "metadata": {
    "ExecuteTime": {
     "end_time": "2025-05-19T14:46:43.720037Z",
     "start_time": "2025-05-19T14:46:43.710911Z"
    }
   },
   "outputs": [
    {
     "data": {
      "text/plain": [
       "array(['sdg', 'sdg16', 'sdgs'], dtype='<U90')"
      ]
     },
     "execution_count": 133,
     "metadata": {},
     "output_type": "execute_result"
    }
   ],
   "source": [
    "all_tokens[2737:2740]"
   ]
  },
  {
   "cell_type": "code",
   "execution_count": 138,
   "id": "47372595",
   "metadata": {
    "ExecuteTime": {
     "end_time": "2025-05-19T14:47:55.388848Z",
     "start_time": "2025-05-19T14:47:55.372137Z"
    }
   },
   "outputs": [
    {
     "data": {
      "text/plain": [
       "array([1, 0, 0], dtype=uint64)"
      ]
     },
     "execution_count": 138,
     "metadata": {},
     "output_type": "execute_result"
    }
   ],
   "source": [
    "np.sum(pval_m, axis=0)[2737:2740]"
   ]
  },
  {
   "cell_type": "code",
   "execution_count": 141,
   "id": "78839a2a",
   "metadata": {
    "ExecuteTime": {
     "end_time": "2025-05-19T14:48:40.068647Z",
     "start_time": "2025-05-19T14:48:40.058114Z"
    }
   },
   "outputs": [
    {
     "data": {
      "text/plain": [
       "'RELX_PLC'"
      ]
     },
     "execution_count": 141,
     "metadata": {},
     "output_type": "execute_result"
    }
   ],
   "source": [
    "all_texts['2023']['firms'][np.where(pval_m[:, 2737]==1)[0][0]]"
   ]
  },
  {
   "cell_type": "code",
   "execution_count": 143,
   "id": "075f9be8",
   "metadata": {
    "ExecuteTime": {
     "end_time": "2025-05-19T14:49:05.523298Z",
     "start_time": "2025-05-19T14:49:05.509572Z"
    }
   },
   "outputs": [
    {
     "data": {
      "text/plain": [
       "False"
      ]
     },
     "execution_count": 143,
     "metadata": {},
     "output_type": "execute_result"
    }
   ],
   "source": [
    "np.any(np.sum(pval_m, axis=1)==0)"
   ]
  },
  {
   "cell_type": "markdown",
   "id": "57b1d276",
   "metadata": {},
   "source": [
    "### Maximum Entropy TOpic DEtection (METODE)"
   ]
  },
  {
   "cell_type": "code",
   "execution_count": 19,
   "id": "b5148b41",
   "metadata": {
    "ExecuteTime": {
     "end_time": "2025-05-19T15:54:17.076582Z",
     "start_time": "2025-05-19T15:54:17.067456Z"
    }
   },
   "outputs": [
    {
     "name": "stderr",
     "output_type": "stream",
     "text": [
      "[nltk_data] Downloading package stopwords to\n",
      "[nltk_data]     /home/sarawalk/nltk_data...\n",
      "[nltk_data]   Package stopwords is already up-to-date!\n",
      "[nltk_data] Downloading package punkt to /home/sarawalk/nltk_data...\n",
      "[nltk_data]   Package punkt is already up-to-date!\n"
     ]
    }
   ],
   "source": [
    "import string\n",
    "\n",
    "import nltk\n",
    "nltk.download('stopwords')\n",
    "nltk.download('punkt')\n",
    "\n",
    "from nltk.corpus import stopwords\n",
    "from nltk.tokenize import word_tokenize\n",
    "\n",
    "from nltk.stem.snowball import SnowballStemmer"
   ]
  },
  {
   "cell_type": "code",
   "execution_count": 20,
   "id": "33092d21",
   "metadata": {
    "ExecuteTime": {
     "end_time": "2025-05-19T15:54:17.548547Z",
     "start_time": "2025-05-19T15:54:17.516050Z"
    }
   },
   "outputs": [],
   "source": [
    "class metode:\n",
    "    \n",
    "    \n",
    "    def __init__(self, texts, row_names=None, alpha=0.01, lang=None):\n",
    "        # biadjacency list\n",
    "        self.texts=texts\n",
    "        # row names\n",
    "        if row_names is not None:\n",
    "            self.row_names=row_names\n",
    "        else:\n",
    "            self.row_names=np.arange(len(row_names))\n",
    "        # significance threshold\n",
    "        self.alpha=alpha\n",
    "        assert alpha<1 and alpha>0\n",
    "        # language\n",
    "        if lang is None:\n",
    "            self.lang=\"english\"\n",
    "        else:\n",
    "            # check that english is among the accepted languages by nltk\n",
    "            self.lang=lang\n",
    "        # get the stemmer\n",
    "        self.stemmer = SnowballStemmer(self.lang, ignore_stopwords=True)\n",
    "        \n",
    "        \n",
    "        # get the biadjacency list\n",
    "        self.get_bili()\n",
    "        # get the biadjacency matrix to feed bicm\n",
    "        self.get_all_tokens()\n",
    "        self.bili2bima()\n",
    "    \n",
    "    def _tests(self, entry):\n",
    "        stop_words = list(stopwords.words(self.lang))\n",
    "        bad_char=['©', '–', '‘', '’', '“', '”', \"''\", \"'s\",'``']\n",
    "        super_bad_char=[\"'\", \"\\\\\", \"/\", '+', \"^^\", \":\", '£', '$']\n",
    "        # I am removing:\n",
    "        # - stop words;\n",
    "        # - punctuation\n",
    "        # - fractional numbers\n",
    "        _test_0=not (entry in stop_words)\n",
    "        _test_1=not (entry in bad_char)\n",
    "        _test_2=not (entry in string.punctuation)\n",
    "        _test_3=not ('.' in entry)\n",
    "        _test_4=not (',' in entry)\n",
    "        _test_5=not entry.isnumeric()\n",
    "        #_test_5=not entry[0].isnumeric()\n",
    "        #_test_6=not (entry[0] in super_bad_char)\n",
    "        return _test_0 and _test_1 and _test_2 and _test_3 and _test_4 and _test_5# and _test_6\n",
    "    \n",
    "    def get_bili(self):\n",
    "        self.bili={}\n",
    "        for i in trange(len(self.texts), leave=True, desc='get biadjacency list'):\n",
    "            self.bili[self.row_names[i]]=self.text2tokens(self.texts[i])\n",
    "\n",
    "    \n",
    "    def text2tokens(self, text):\n",
    "        word_tokens = [wt.lower() for wt in word_tokenize(text)]\n",
    "        out=[]\n",
    "        for w in word_tokens:\n",
    "            if self._tests(w):\n",
    "                out.append(self.stemmer.stem(w))\n",
    "        # calculate the multiplicity of entries in out\n",
    "        out=np.array(out)\n",
    "        aux=np.unique(out, return_counts=True)\n",
    "        return dict(zip(aux[0], aux[1]))\n",
    "    \n",
    "    def get_all_tokens(self):\n",
    "        self.all_tokens=[]\n",
    "        for key in tqdm(self.bili.keys(), leave=True, desc='get all tokens'):\n",
    "            for _token in self.bili[key].keys():\n",
    "                self.all_tokens.append(_token)\n",
    "        self.all_tokens=np.array(all_tokens)\n",
    "\n",
    "    def bili2bima(self):\n",
    "        ''' \n",
    "        biadjacency list to biadjacency matrix\n",
    "        '''\n",
    "        self.bima=np.zeros((len(self.bili.keys()), len(self.all_tokens)), dtype=int)\n",
    "        for key in tqdm(self.bili.keys(), leave=True):\n",
    "            for _token in self.bili[key].keys():\n",
    "                where_token=np.where(self.all_tokens==_token)[0][0]\n",
    "                self.bima[key, where_token]+=self.bili[key][token]\n",
    "                \n",
    "    def metode(self):\n",
    "        '''\n",
    "        Maximum Entropy TOpic DEtection\n",
    "        '''\n",
    "        # Bipartite Graph of bicm\n",
    "        self.mygraph=BiG()\n",
    "        # initialize it with the bipartite matrix, \n",
    "        # i.e. the only way to initialize the method for bipartite weighted graphs\n",
    "        self.mygraph.set_biadjacency_matrix(self.bima)\n",
    "        # solve BiWCM\n",
    "        self.mygraph.solve_tool()\n",
    "        # calculate p-values\n",
    "        self.mygraph.compute_weighted_pvals_mat()\n",
    "        self.pval_m=cacca.get_validated_matrix(significance=self.alpha, validation_method='fdr')"
   ]
  },
  {
   "cell_type": "code",
   "execution_count": 21,
   "id": "7023198f",
   "metadata": {
    "ExecuteTime": {
     "end_time": "2025-05-19T15:54:48.443086Z",
     "start_time": "2025-05-19T15:54:18.877030Z"
    }
   },
   "outputs": [
    {
     "data": {
      "application/vnd.jupyter.widget-view+json": {
       "model_id": "496380563417479494e66d8e7b44b37a",
       "version_major": 2,
       "version_minor": 0
      },
      "text/plain": [
       "get biadjacency list:   0%|          | 0/89 [00:00<?, ?it/s]"
      ]
     },
     "metadata": {},
     "output_type": "display_data"
    },
    {
     "ename": "KeyboardInterrupt",
     "evalue": "",
     "output_type": "error",
     "traceback": [
      "\u001b[0;31m---------------------------------------------------------------------------\u001b[0m",
      "\u001b[0;31mKeyboardInterrupt\u001b[0m                         Traceback (most recent call last)",
      "Cell \u001b[0;32mIn[21], line 1\u001b[0m\n\u001b[0;32m----> 1\u001b[0m debug\u001b[38;5;241m=\u001b[39m\u001b[43mmetode\u001b[49m\u001b[43m(\u001b[49m\u001b[43mall_texts\u001b[49m\u001b[43m[\u001b[49m\u001b[38;5;124;43m'\u001b[39;49m\u001b[38;5;124;43m2023\u001b[39;49m\u001b[38;5;124;43m'\u001b[39;49m\u001b[43m]\u001b[49m\u001b[43m[\u001b[49m\u001b[38;5;124;43m'\u001b[39;49m\u001b[38;5;124;43mtexts\u001b[39;49m\u001b[38;5;124;43m'\u001b[39;49m\u001b[43m]\u001b[49m\u001b[43m,\u001b[49m\u001b[43m \u001b[49m\u001b[43mall_texts\u001b[49m\u001b[43m[\u001b[49m\u001b[38;5;124;43m'\u001b[39;49m\u001b[38;5;124;43m2023\u001b[39;49m\u001b[38;5;124;43m'\u001b[39;49m\u001b[43m]\u001b[49m\u001b[43m[\u001b[49m\u001b[38;5;124;43m'\u001b[39;49m\u001b[38;5;124;43mfirms\u001b[39;49m\u001b[38;5;124;43m'\u001b[39;49m\u001b[43m]\u001b[49m\u001b[43m,\u001b[49m\u001b[43m \u001b[49m\u001b[38;5;241;43m0.05\u001b[39;49m\u001b[43m)\u001b[49m\n",
      "Cell \u001b[0;32mIn[20], line 26\u001b[0m, in \u001b[0;36mmetode.__init__\u001b[0;34m(self, texts, row_names, alpha, lang)\u001b[0m\n\u001b[1;32m     22\u001b[0m \u001b[38;5;28mself\u001b[39m\u001b[38;5;241m.\u001b[39mstemmer \u001b[38;5;241m=\u001b[39m SnowballStemmer(\u001b[38;5;28mself\u001b[39m\u001b[38;5;241m.\u001b[39mlang, ignore_stopwords\u001b[38;5;241m=\u001b[39m\u001b[38;5;28;01mTrue\u001b[39;00m)\n\u001b[1;32m     25\u001b[0m \u001b[38;5;66;03m# get the biadjacency list\u001b[39;00m\n\u001b[0;32m---> 26\u001b[0m \u001b[38;5;28;43mself\u001b[39;49m\u001b[38;5;241;43m.\u001b[39;49m\u001b[43mget_bili\u001b[49m\u001b[43m(\u001b[49m\u001b[43m)\u001b[49m\n\u001b[1;32m     27\u001b[0m \u001b[38;5;66;03m# get the biadjacency matrix to feed bicm\u001b[39;00m\n\u001b[1;32m     28\u001b[0m \u001b[38;5;28mself\u001b[39m\u001b[38;5;241m.\u001b[39mget_all_tokens()\n",
      "Cell \u001b[0;32mIn[20], line 52\u001b[0m, in \u001b[0;36mmetode.get_bili\u001b[0;34m(self)\u001b[0m\n\u001b[1;32m     50\u001b[0m \u001b[38;5;28mself\u001b[39m\u001b[38;5;241m.\u001b[39mbili\u001b[38;5;241m=\u001b[39m{}\n\u001b[1;32m     51\u001b[0m \u001b[38;5;28;01mfor\u001b[39;00m i \u001b[38;5;129;01min\u001b[39;00m trange(\u001b[38;5;28mlen\u001b[39m(\u001b[38;5;28mself\u001b[39m\u001b[38;5;241m.\u001b[39mtexts), leave\u001b[38;5;241m=\u001b[39m\u001b[38;5;28;01mTrue\u001b[39;00m, desc\u001b[38;5;241m=\u001b[39m\u001b[38;5;124m'\u001b[39m\u001b[38;5;124mget biadjacency list\u001b[39m\u001b[38;5;124m'\u001b[39m):\n\u001b[0;32m---> 52\u001b[0m     \u001b[38;5;28mself\u001b[39m\u001b[38;5;241m.\u001b[39mbili[\u001b[38;5;28mself\u001b[39m\u001b[38;5;241m.\u001b[39mrow_names[i]]\u001b[38;5;241m=\u001b[39m\u001b[38;5;28;43mself\u001b[39;49m\u001b[38;5;241;43m.\u001b[39;49m\u001b[43mtext2tokens\u001b[49m\u001b[43m(\u001b[49m\u001b[38;5;28;43mself\u001b[39;49m\u001b[38;5;241;43m.\u001b[39;49m\u001b[43mtexts\u001b[49m\u001b[43m[\u001b[49m\u001b[43mi\u001b[49m\u001b[43m]\u001b[49m\u001b[43m)\u001b[49m\n",
      "Cell \u001b[0;32mIn[20], line 59\u001b[0m, in \u001b[0;36mmetode.text2tokens\u001b[0;34m(self, text)\u001b[0m\n\u001b[1;32m     57\u001b[0m out\u001b[38;5;241m=\u001b[39m[]\n\u001b[1;32m     58\u001b[0m \u001b[38;5;28;01mfor\u001b[39;00m w \u001b[38;5;129;01min\u001b[39;00m word_tokens:\n\u001b[0;32m---> 59\u001b[0m     \u001b[38;5;28;01mif\u001b[39;00m \u001b[38;5;28;43mself\u001b[39;49m\u001b[38;5;241;43m.\u001b[39;49m\u001b[43m_tests\u001b[49m\u001b[43m(\u001b[49m\u001b[43mw\u001b[49m\u001b[43m)\u001b[49m:\n\u001b[1;32m     60\u001b[0m         out\u001b[38;5;241m.\u001b[39mappend(\u001b[38;5;28mself\u001b[39m\u001b[38;5;241m.\u001b[39mstemmer\u001b[38;5;241m.\u001b[39mstem(w))\n\u001b[1;32m     61\u001b[0m \u001b[38;5;66;03m# calculate the multiplicity of entries in out\u001b[39;00m\n",
      "Cell \u001b[0;32mIn[20], line 32\u001b[0m, in \u001b[0;36mmetode._tests\u001b[0;34m(self, entry)\u001b[0m\n\u001b[1;32m     31\u001b[0m \u001b[38;5;28;01mdef\u001b[39;00m \u001b[38;5;21m_tests\u001b[39m(\u001b[38;5;28mself\u001b[39m, entry):\n\u001b[0;32m---> 32\u001b[0m     stop_words \u001b[38;5;241m=\u001b[39m \u001b[38;5;28mlist\u001b[39m(\u001b[43mstopwords\u001b[49m\u001b[38;5;241;43m.\u001b[39;49m\u001b[43mwords\u001b[49m\u001b[43m(\u001b[49m\u001b[38;5;28;43mself\u001b[39;49m\u001b[38;5;241;43m.\u001b[39;49m\u001b[43mlang\u001b[49m\u001b[43m)\u001b[49m)\n\u001b[1;32m     33\u001b[0m     bad_char\u001b[38;5;241m=\u001b[39m[\u001b[38;5;124m'\u001b[39m\u001b[38;5;124m©\u001b[39m\u001b[38;5;124m'\u001b[39m, \u001b[38;5;124m'\u001b[39m\u001b[38;5;124m–\u001b[39m\u001b[38;5;124m'\u001b[39m, \u001b[38;5;124m'\u001b[39m\u001b[38;5;124m‘\u001b[39m\u001b[38;5;124m'\u001b[39m, \u001b[38;5;124m'\u001b[39m\u001b[38;5;124m’\u001b[39m\u001b[38;5;124m'\u001b[39m, \u001b[38;5;124m'\u001b[39m\u001b[38;5;124m“\u001b[39m\u001b[38;5;124m'\u001b[39m, \u001b[38;5;124m'\u001b[39m\u001b[38;5;124m”\u001b[39m\u001b[38;5;124m'\u001b[39m, \u001b[38;5;124m\"\u001b[39m\u001b[38;5;124m'\u001b[39m\u001b[38;5;124m'\u001b[39m\u001b[38;5;124m\"\u001b[39m, \u001b[38;5;124m\"\u001b[39m\u001b[38;5;124m'\u001b[39m\u001b[38;5;124ms\u001b[39m\u001b[38;5;124m\"\u001b[39m,\u001b[38;5;124m'\u001b[39m\u001b[38;5;124m``\u001b[39m\u001b[38;5;124m'\u001b[39m]\n\u001b[1;32m     34\u001b[0m     super_bad_char\u001b[38;5;241m=\u001b[39m[\u001b[38;5;124m\"\u001b[39m\u001b[38;5;124m'\u001b[39m\u001b[38;5;124m\"\u001b[39m, \u001b[38;5;124m\"\u001b[39m\u001b[38;5;130;01m\\\\\u001b[39;00m\u001b[38;5;124m\"\u001b[39m, \u001b[38;5;124m\"\u001b[39m\u001b[38;5;124m/\u001b[39m\u001b[38;5;124m\"\u001b[39m, \u001b[38;5;124m'\u001b[39m\u001b[38;5;124m+\u001b[39m\u001b[38;5;124m'\u001b[39m, \u001b[38;5;124m\"\u001b[39m\u001b[38;5;124m^^\u001b[39m\u001b[38;5;124m\"\u001b[39m, \u001b[38;5;124m\"\u001b[39m\u001b[38;5;124m:\u001b[39m\u001b[38;5;124m\"\u001b[39m, \u001b[38;5;124m'\u001b[39m\u001b[38;5;124m£\u001b[39m\u001b[38;5;124m'\u001b[39m, \u001b[38;5;124m'\u001b[39m\u001b[38;5;124m$\u001b[39m\u001b[38;5;124m'\u001b[39m]\n",
      "File \u001b[0;32m~/sdgs_py38/lib/python3.8/site-packages/nltk/corpus/reader/wordlist.py:21\u001b[0m, in \u001b[0;36mWordListCorpusReader.words\u001b[0;34m(self, fileids, ignore_lines_startswith)\u001b[0m\n\u001b[1;32m     18\u001b[0m \u001b[38;5;28;01mdef\u001b[39;00m \u001b[38;5;21mwords\u001b[39m(\u001b[38;5;28mself\u001b[39m, fileids\u001b[38;5;241m=\u001b[39m\u001b[38;5;28;01mNone\u001b[39;00m, ignore_lines_startswith\u001b[38;5;241m=\u001b[39m\u001b[38;5;124m\"\u001b[39m\u001b[38;5;130;01m\\n\u001b[39;00m\u001b[38;5;124m\"\u001b[39m):\n\u001b[1;32m     19\u001b[0m     \u001b[38;5;28;01mreturn\u001b[39;00m [\n\u001b[1;32m     20\u001b[0m         line\n\u001b[0;32m---> 21\u001b[0m         \u001b[38;5;28;01mfor\u001b[39;00m line \u001b[38;5;129;01min\u001b[39;00m line_tokenize(\u001b[38;5;28;43mself\u001b[39;49m\u001b[38;5;241;43m.\u001b[39;49m\u001b[43mraw\u001b[49m\u001b[43m(\u001b[49m\u001b[43mfileids\u001b[49m\u001b[43m)\u001b[49m)\n\u001b[1;32m     22\u001b[0m         \u001b[38;5;28;01mif\u001b[39;00m \u001b[38;5;129;01mnot\u001b[39;00m line\u001b[38;5;241m.\u001b[39mstartswith(ignore_lines_startswith)\n\u001b[1;32m     23\u001b[0m     ]\n",
      "File \u001b[0;32m~/sdgs_py38/lib/python3.8/site-packages/nltk/corpus/reader/api.py:218\u001b[0m, in \u001b[0;36mCorpusReader.raw\u001b[0;34m(self, fileids)\u001b[0m\n\u001b[1;32m    216\u001b[0m contents \u001b[38;5;241m=\u001b[39m []\n\u001b[1;32m    217\u001b[0m \u001b[38;5;28;01mfor\u001b[39;00m f \u001b[38;5;129;01min\u001b[39;00m fileids:\n\u001b[0;32m--> 218\u001b[0m     \u001b[38;5;28;01mwith\u001b[39;00m \u001b[38;5;28;43mself\u001b[39;49m\u001b[38;5;241;43m.\u001b[39;49m\u001b[43mopen\u001b[49m\u001b[43m(\u001b[49m\u001b[43mf\u001b[49m\u001b[43m)\u001b[49m \u001b[38;5;28;01mas\u001b[39;00m fp:\n\u001b[1;32m    219\u001b[0m         contents\u001b[38;5;241m.\u001b[39mappend(fp\u001b[38;5;241m.\u001b[39mread())\n\u001b[1;32m    220\u001b[0m \u001b[38;5;28;01mreturn\u001b[39;00m concat(contents)\n",
      "File \u001b[0;32m~/sdgs_py38/lib/python3.8/site-packages/nltk/corpus/reader/api.py:231\u001b[0m, in \u001b[0;36mCorpusReader.open\u001b[0;34m(self, file)\u001b[0m\n\u001b[1;32m    223\u001b[0m \u001b[38;5;250m\u001b[39m\u001b[38;5;124;03m\"\"\"\u001b[39;00m\n\u001b[1;32m    224\u001b[0m \u001b[38;5;124;03mReturn an open stream that can be used to read the given file.\u001b[39;00m\n\u001b[1;32m    225\u001b[0m \u001b[38;5;124;03mIf the file's encoding is not None, then the stream will\u001b[39;00m\n\u001b[0;32m   (...)\u001b[0m\n\u001b[1;32m    228\u001b[0m \u001b[38;5;124;03m:param file: The file identifier of the file to read.\u001b[39;00m\n\u001b[1;32m    229\u001b[0m \u001b[38;5;124;03m\"\"\"\u001b[39;00m\n\u001b[1;32m    230\u001b[0m encoding \u001b[38;5;241m=\u001b[39m \u001b[38;5;28mself\u001b[39m\u001b[38;5;241m.\u001b[39mencoding(file)\n\u001b[0;32m--> 231\u001b[0m stream \u001b[38;5;241m=\u001b[39m \u001b[38;5;28;43mself\u001b[39;49m\u001b[38;5;241;43m.\u001b[39;49m\u001b[43m_root\u001b[49m\u001b[38;5;241;43m.\u001b[39;49m\u001b[43mjoin\u001b[49m\u001b[43m(\u001b[49m\u001b[43mfile\u001b[49m\u001b[43m)\u001b[49m\u001b[38;5;241;43m.\u001b[39;49m\u001b[43mopen\u001b[49m\u001b[43m(\u001b[49m\u001b[43mencoding\u001b[49m\u001b[43m)\u001b[49m\n\u001b[1;32m    232\u001b[0m \u001b[38;5;28;01mreturn\u001b[39;00m stream\n",
      "File \u001b[0;32m~/sdgs_py38/lib/python3.8/site-packages/nltk/data.py:326\u001b[0m, in \u001b[0;36mFileSystemPathPointer.open\u001b[0;34m(self, encoding)\u001b[0m\n\u001b[1;32m    324\u001b[0m stream \u001b[38;5;241m=\u001b[39m \u001b[38;5;28mopen\u001b[39m(\u001b[38;5;28mself\u001b[39m\u001b[38;5;241m.\u001b[39m_path, \u001b[38;5;124m\"\u001b[39m\u001b[38;5;124mrb\u001b[39m\u001b[38;5;124m\"\u001b[39m)\n\u001b[1;32m    325\u001b[0m \u001b[38;5;28;01mif\u001b[39;00m encoding \u001b[38;5;129;01mis\u001b[39;00m \u001b[38;5;129;01mnot\u001b[39;00m \u001b[38;5;28;01mNone\u001b[39;00m:\n\u001b[0;32m--> 326\u001b[0m     stream \u001b[38;5;241m=\u001b[39m \u001b[43mSeekableUnicodeStreamReader\u001b[49m\u001b[43m(\u001b[49m\u001b[43mstream\u001b[49m\u001b[43m,\u001b[49m\u001b[43m \u001b[49m\u001b[43mencoding\u001b[49m\u001b[43m)\u001b[49m\n\u001b[1;32m    327\u001b[0m \u001b[38;5;28;01mreturn\u001b[39;00m stream\n",
      "File \u001b[0;32m~/sdgs_py38/lib/python3.8/site-packages/nltk/compat.py:41\u001b[0m, in \u001b[0;36mpy3_data.<locals>._decorator\u001b[0;34m(*args, **kwargs)\u001b[0m\n\u001b[1;32m     39\u001b[0m \u001b[38;5;28;01mdef\u001b[39;00m \u001b[38;5;21m_decorator\u001b[39m(\u001b[38;5;241m*\u001b[39margs, \u001b[38;5;241m*\u001b[39m\u001b[38;5;241m*\u001b[39mkwargs):\n\u001b[1;32m     40\u001b[0m     args \u001b[38;5;241m=\u001b[39m (args[\u001b[38;5;241m0\u001b[39m], add_py3_data(args[\u001b[38;5;241m1\u001b[39m])) \u001b[38;5;241m+\u001b[39m args[\u001b[38;5;241m2\u001b[39m:]\n\u001b[0;32m---> 41\u001b[0m     \u001b[38;5;28;01mreturn\u001b[39;00m \u001b[43minit_func\u001b[49m\u001b[43m(\u001b[49m\u001b[38;5;241;43m*\u001b[39;49m\u001b[43margs\u001b[49m\u001b[43m,\u001b[49m\u001b[43m \u001b[49m\u001b[38;5;241;43m*\u001b[39;49m\u001b[38;5;241;43m*\u001b[39;49m\u001b[43mkwargs\u001b[49m\u001b[43m)\u001b[49m\n",
      "File \u001b[0;32m~/sdgs_py38/lib/python3.8/site-packages/nltk/data.py:1037\u001b[0m, in \u001b[0;36mSeekableUnicodeStreamReader.__init__\u001b[0;34m(self, stream, encoding, errors)\u001b[0m\n\u001b[1;32m   1031\u001b[0m \u001b[38;5;28mself\u001b[39m\u001b[38;5;241m.\u001b[39m_rewind_numchars \u001b[38;5;241m=\u001b[39m \u001b[38;5;28;01mNone\u001b[39;00m\n\u001b[1;32m   1032\u001b[0m \u001b[38;5;250m\u001b[39m\u001b[38;5;124;03m\"\"\"The number of characters that have been returned since the\u001b[39;00m\n\u001b[1;32m   1033\u001b[0m \u001b[38;5;124;03m   read that started at ``_rewind_checkpoint``.  This is used,\u001b[39;00m\n\u001b[1;32m   1034\u001b[0m \u001b[38;5;124;03m   together with ``_rewind_checkpoint``, to backtrack to the\u001b[39;00m\n\u001b[1;32m   1035\u001b[0m \u001b[38;5;124;03m   beginning of ``linebuffer`` (which is required by ``tell()``).\"\"\"\u001b[39;00m\n\u001b[0;32m-> 1037\u001b[0m \u001b[38;5;28mself\u001b[39m\u001b[38;5;241m.\u001b[39m_bom \u001b[38;5;241m=\u001b[39m \u001b[38;5;28;43mself\u001b[39;49m\u001b[38;5;241;43m.\u001b[39;49m\u001b[43m_check_bom\u001b[49m\u001b[43m(\u001b[49m\u001b[43m)\u001b[49m\n\u001b[1;32m   1038\u001b[0m \u001b[38;5;250m\u001b[39m\u001b[38;5;124;03m\"\"\"The length of the byte order marker at the beginning of\u001b[39;00m\n\u001b[1;32m   1039\u001b[0m \u001b[38;5;124;03m   the stream (or None for no byte order marker).\"\"\"\u001b[39;00m\n",
      "File \u001b[0;32m~/sdgs_py38/lib/python3.8/site-packages/nltk/data.py:1410\u001b[0m, in \u001b[0;36mSeekableUnicodeStreamReader._check_bom\u001b[0;34m(self)\u001b[0m\n\u001b[1;32m   1406\u001b[0m bom_info \u001b[38;5;241m=\u001b[39m \u001b[38;5;28mself\u001b[39m\u001b[38;5;241m.\u001b[39m_BOM_TABLE\u001b[38;5;241m.\u001b[39mget(enc)\n\u001b[1;32m   1408\u001b[0m \u001b[38;5;28;01mif\u001b[39;00m bom_info:\n\u001b[1;32m   1409\u001b[0m     \u001b[38;5;66;03m# Read a prefix, to check against the BOM(s)\u001b[39;00m\n\u001b[0;32m-> 1410\u001b[0m     \u001b[38;5;28mbytes\u001b[39m \u001b[38;5;241m=\u001b[39m \u001b[38;5;28;43mself\u001b[39;49m\u001b[38;5;241;43m.\u001b[39;49m\u001b[43mstream\u001b[49m\u001b[38;5;241;43m.\u001b[39;49m\u001b[43mread\u001b[49m\u001b[43m(\u001b[49m\u001b[38;5;241;43m16\u001b[39;49m\u001b[43m)\u001b[49m\n\u001b[1;32m   1411\u001b[0m     \u001b[38;5;28mself\u001b[39m\u001b[38;5;241m.\u001b[39mstream\u001b[38;5;241m.\u001b[39mseek(\u001b[38;5;241m0\u001b[39m)\n\u001b[1;32m   1413\u001b[0m     \u001b[38;5;66;03m# Check for each possible BOM.\u001b[39;00m\n",
      "\u001b[0;31mKeyboardInterrupt\u001b[0m: "
     ]
    }
   ],
   "source": [
    "debug=metode(all_texts['2023']['texts'], all_texts['2023']['firms'], 0.05)"
   ]
  },
  {
   "cell_type": "markdown",
   "id": "d788d5bd",
   "metadata": {},
   "source": [
    "### Check"
   ]
  },
  {
   "cell_type": "code",
   "execution_count": 15,
   "id": "4e4e3a0d",
   "metadata": {
    "ExecuteTime": {
     "end_time": "2025-05-19T15:42:40.931880Z",
     "start_time": "2025-05-19T15:42:40.922167Z"
    }
   },
   "outputs": [
    {
     "name": "stderr",
     "output_type": "stream",
     "text": [
      "[nltk_data] Downloading package stopwords to\n",
      "[nltk_data]     /home/sarawalk/nltk_data...\n",
      "[nltk_data]   Package stopwords is already up-to-date!\n",
      "[nltk_data] Downloading package punkt to /home/sarawalk/nltk_data...\n",
      "[nltk_data]   Package punkt is already up-to-date!\n"
     ]
    }
   ],
   "source": [
    "from metode import metode as mymetode"
   ]
  },
  {
   "cell_type": "code",
   "execution_count": 16,
   "id": "b4fff721",
   "metadata": {
    "ExecuteTime": {
     "end_time": "2025-05-19T15:52:48.661657Z",
     "start_time": "2025-05-19T15:42:40.934735Z"
    }
   },
   "outputs": [
    {
     "data": {
      "application/vnd.jupyter.widget-view+json": {
       "model_id": "70194aff7f1c425e990e63ebb678531b",
       "version_major": 2,
       "version_minor": 0
      },
      "text/plain": [
       "get biadjacency list:   0%|          | 0/89 [00:00<?, ?it/s]"
      ]
     },
     "metadata": {},
     "output_type": "display_data"
    },
    {
     "data": {
      "application/vnd.jupyter.widget-view+json": {
       "model_id": "d51ae76155cc47098ee419661f36046d",
       "version_major": 2,
       "version_minor": 0
      },
      "text/plain": [
       "get all tokens:   0%|          | 0/89 [00:00<?, ?it/s]"
      ]
     },
     "metadata": {},
     "output_type": "display_data"
    },
    {
     "ename": "NameError",
     "evalue": "name 'all_tokens' is not defined",
     "output_type": "error",
     "traceback": [
      "\u001b[0;31m---------------------------------------------------------------------------\u001b[0m",
      "\u001b[0;31mNameError\u001b[0m                                 Traceback (most recent call last)",
      "Cell \u001b[0;32mIn[16], line 1\u001b[0m\n\u001b[0;32m----> 1\u001b[0m debug0\u001b[38;5;241m=\u001b[39m\u001b[43mmymetode\u001b[49m\u001b[43m(\u001b[49m\u001b[43mall_texts\u001b[49m\u001b[43m[\u001b[49m\u001b[38;5;124;43m'\u001b[39;49m\u001b[38;5;124;43m2023\u001b[39;49m\u001b[38;5;124;43m'\u001b[39;49m\u001b[43m]\u001b[49m\u001b[43m[\u001b[49m\u001b[38;5;124;43m'\u001b[39;49m\u001b[38;5;124;43mtexts\u001b[39;49m\u001b[38;5;124;43m'\u001b[39;49m\u001b[43m]\u001b[49m\u001b[43m,\u001b[49m\u001b[43m \u001b[49m\u001b[43mall_texts\u001b[49m\u001b[43m[\u001b[49m\u001b[38;5;124;43m'\u001b[39;49m\u001b[38;5;124;43m2023\u001b[39;49m\u001b[38;5;124;43m'\u001b[39;49m\u001b[43m]\u001b[49m\u001b[43m[\u001b[49m\u001b[38;5;124;43m'\u001b[39;49m\u001b[38;5;124;43mfirms\u001b[39;49m\u001b[38;5;124;43m'\u001b[39;49m\u001b[43m]\u001b[49m\u001b[43m,\u001b[49m\u001b[43m \u001b[49m\u001b[38;5;241;43m0.05\u001b[39;49m\u001b[43m)\u001b[49m\n",
      "File \u001b[0;32m~/sdgs_py38/sdg_repos_1/metode.py:48\u001b[0m, in \u001b[0;36mmetode.__init__\u001b[0;34m(self, texts, row_names, alpha, lang)\u001b[0m\n\u001b[1;32m     46\u001b[0m \u001b[38;5;28mself\u001b[39m\u001b[38;5;241m.\u001b[39mget_bili()\n\u001b[1;32m     47\u001b[0m \u001b[38;5;66;03m# get the biadjacency matrix to feed bicm\u001b[39;00m\n\u001b[0;32m---> 48\u001b[0m \u001b[38;5;28;43mself\u001b[39;49m\u001b[38;5;241;43m.\u001b[39;49m\u001b[43mget_all_tokens\u001b[49m\u001b[43m(\u001b[49m\u001b[43m)\u001b[49m\n\u001b[1;32m     49\u001b[0m \u001b[38;5;28mself\u001b[39m\u001b[38;5;241m.\u001b[39mbili2bima()\n",
      "File \u001b[0;32m~/sdgs_py38/sdg_repos_1/metode.py:89\u001b[0m, in \u001b[0;36mmetode.get_all_tokens\u001b[0;34m(self)\u001b[0m\n\u001b[1;32m     87\u001b[0m     \u001b[38;5;28;01mfor\u001b[39;00m _token \u001b[38;5;129;01min\u001b[39;00m \u001b[38;5;28mself\u001b[39m\u001b[38;5;241m.\u001b[39mbili[key]\u001b[38;5;241m.\u001b[39mkeys():\n\u001b[1;32m     88\u001b[0m         \u001b[38;5;28mself\u001b[39m\u001b[38;5;241m.\u001b[39mall_tokens\u001b[38;5;241m.\u001b[39mappend(_token)\n\u001b[0;32m---> 89\u001b[0m \u001b[38;5;28mself\u001b[39m\u001b[38;5;241m.\u001b[39mall_tokens\u001b[38;5;241m=\u001b[39mnp\u001b[38;5;241m.\u001b[39marray(\u001b[43mall_tokens\u001b[49m)\n",
      "\u001b[0;31mNameError\u001b[0m: name 'all_tokens' is not defined"
     ]
    }
   ],
   "source": [
    "debug0=mymetode(all_texts['2023']['texts'], all_texts['2023']['firms'], 0.05)"
   ]
  },
  {
   "cell_type": "code",
   "execution_count": null,
   "id": "163b7683",
   "metadata": {},
   "outputs": [],
   "source": []
  }
 ],
 "metadata": {
  "kernelspec": {
   "display_name": "Python 3 (ipykernel)",
   "language": "python",
   "name": "python3"
  },
  "language_info": {
   "codemirror_mode": {
    "name": "ipython",
    "version": 3
   },
   "file_extension": ".py",
   "mimetype": "text/x-python",
   "name": "python",
   "nbconvert_exporter": "python",
   "pygments_lexer": "ipython3",
   "version": "3.8.10"
  },
  "notify_time": "5",
  "toc": {
   "base_numbering": 1,
   "nav_menu": {},
   "number_sections": true,
   "sideBar": true,
   "skip_h1_title": false,
   "title_cell": "Table of Contents",
   "title_sidebar": "Contents",
   "toc_cell": false,
   "toc_position": {
    "height": "calc(100% - 180px)",
    "left": "10px",
    "top": "150px",
    "width": "288px"
   },
   "toc_section_display": true,
   "toc_window_display": true
  }
 },
 "nbformat": 4,
 "nbformat_minor": 5
}
