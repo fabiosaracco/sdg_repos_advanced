{
 "cells": [
  {
   "cell_type": "markdown",
   "id": "6d904755",
   "metadata": {},
   "source": [
    "# Intro"
   ]
  },
  {
   "cell_type": "markdown",
   "id": "983171cb",
   "metadata": {},
   "source": [
    "## Standard modules"
   ]
  },
  {
   "cell_type": "code",
   "execution_count": 1,
   "id": "7103be2d",
   "metadata": {
    "ExecuteTime": {
     "end_time": "2025-02-24T15:29:31.960975Z",
     "start_time": "2025-02-24T15:29:31.946004Z"
    }
   },
   "outputs": [],
   "source": [
    "import os, sys, pickle"
   ]
  },
  {
   "cell_type": "code",
   "execution_count": 2,
   "id": "973346e6",
   "metadata": {
    "ExecuteTime": {
     "end_time": "2025-02-24T15:29:32.308138Z",
     "start_time": "2025-02-24T15:29:32.170824Z"
    }
   },
   "outputs": [],
   "source": [
    "import numpy as np"
   ]
  },
  {
   "cell_type": "code",
   "execution_count": 3,
   "id": "df80c45f",
   "metadata": {
    "ExecuteTime": {
     "end_time": "2025-02-24T15:29:32.368670Z",
     "start_time": "2025-02-24T15:29:32.362953Z"
    }
   },
   "outputs": [],
   "source": [
    "from numpy.linalg import norm"
   ]
  },
  {
   "cell_type": "code",
   "execution_count": 4,
   "id": "0ada319c",
   "metadata": {
    "ExecuteTime": {
     "end_time": "2025-02-24T15:29:32.642062Z",
     "start_time": "2025-02-24T15:29:32.509598Z"
    }
   },
   "outputs": [],
   "source": [
    "from tqdm.auto import tqdm, trange"
   ]
  },
  {
   "cell_type": "code",
   "execution_count": 5,
   "id": "00ebd655",
   "metadata": {
    "ExecuteTime": {
     "end_time": "2025-02-24T15:29:33.266853Z",
     "start_time": "2025-02-24T15:29:32.658852Z"
    }
   },
   "outputs": [],
   "source": [
    "import tiktoken\n",
    "# Carica il tokenizer per text-embedding-ada-002\n",
    "enc = tiktoken.encoding_for_model(\"text-embedding-ada-002\")"
   ]
  },
  {
   "cell_type": "code",
   "execution_count": 6,
   "id": "2006aadc",
   "metadata": {
    "ExecuteTime": {
     "end_time": "2025-02-24T15:29:33.278266Z",
     "start_time": "2025-02-24T15:29:33.270926Z"
    }
   },
   "outputs": [],
   "source": [
    "from multiprocessing import Pool"
   ]
  },
  {
   "cell_type": "code",
   "execution_count": 7,
   "id": "3d221dc1",
   "metadata": {
    "ExecuteTime": {
     "end_time": "2025-02-24T15:29:33.368214Z",
     "start_time": "2025-02-24T15:29:33.281203Z"
    }
   },
   "outputs": [],
   "source": [
    "TOKENIZERS_PARALLELISM=True"
   ]
  },
  {
   "cell_type": "code",
   "execution_count": 8,
   "id": "17ce74d8",
   "metadata": {
    "ExecuteTime": {
     "end_time": "2025-02-24T15:29:33.580189Z",
     "start_time": "2025-02-24T15:29:33.575459Z"
    }
   },
   "outputs": [],
   "source": [
    "from hf_token import token"
   ]
  },
  {
   "cell_type": "markdown",
   "id": "0734f657",
   "metadata": {},
   "source": [
    "### Check"
   ]
  },
  {
   "cell_type": "code",
   "execution_count": 9,
   "id": "bd436452",
   "metadata": {
    "ExecuteTime": {
     "end_time": "2025-02-24T15:29:48.906157Z",
     "start_time": "2025-02-24T15:29:48.900802Z"
    }
   },
   "outputs": [],
   "source": [
    "import inspect"
   ]
  },
  {
   "cell_type": "code",
   "execution_count": 16,
   "id": "14e0ada1",
   "metadata": {
    "ExecuteTime": {
     "end_time": "2025-02-24T15:35:37.823941Z",
     "start_time": "2025-02-24T15:35:37.787432Z"
    }
   },
   "outputs": [
    {
     "data": {
      "text/plain": [
       "['sys',\n",
       " 'builtins',\n",
       " '_frozen_importlib',\n",
       " '_imp',\n",
       " '_warnings',\n",
       " '_io',\n",
       " 'marshal',\n",
       " 'posix',\n",
       " '_frozen_importlib_external',\n",
       " '_thread',\n",
       " '_weakref',\n",
       " 'time',\n",
       " 'zipimport',\n",
       " '_codecs',\n",
       " 'codecs',\n",
       " 'encodings.aliases',\n",
       " 'encodings',\n",
       " 'encodings.utf_8',\n",
       " '_signal',\n",
       " '__main__',\n",
       " 'encodings.latin_1',\n",
       " '_abc',\n",
       " 'abc',\n",
       " 'io',\n",
       " '_stat',\n",
       " 'stat',\n",
       " '_collections_abc',\n",
       " 'genericpath',\n",
       " 'posixpath',\n",
       " 'os.path',\n",
       " 'os',\n",
       " '_sitebuiltins',\n",
       " '_locale',\n",
       " '_bootlocale',\n",
       " '_operator',\n",
       " 'operator',\n",
       " 'keyword',\n",
       " '_heapq',\n",
       " 'heapq',\n",
       " 'itertools',\n",
       " 'reprlib',\n",
       " '_collections',\n",
       " 'collections',\n",
       " '_functools',\n",
       " 'functools',\n",
       " 'importlib._bootstrap',\n",
       " 'importlib._bootstrap_external',\n",
       " 'types',\n",
       " 'warnings',\n",
       " 'importlib',\n",
       " 'importlib.machinery',\n",
       " 'importlib.abc',\n",
       " 'contextlib',\n",
       " 'importlib.util',\n",
       " '_virtualenv',\n",
       " '_distutils_hack',\n",
       " 'mpl_toolkits',\n",
       " 'site',\n",
       " '_weakrefset',\n",
       " 'weakref',\n",
       " 'pkgutil',\n",
       " 'runpy',\n",
       " 'enum',\n",
       " '_sre',\n",
       " 'sre_constants',\n",
       " 'sre_parse',\n",
       " 'sre_compile',\n",
       " 'copyreg',\n",
       " 're',\n",
       " 'fnmatch',\n",
       " 'ntpath',\n",
       " 'errno',\n",
       " 'urllib',\n",
       " 'urllib.parse',\n",
       " 'pathlib',\n",
       " 'collections.abc',\n",
       " 'typing.io',\n",
       " 'typing.re',\n",
       " 'typing',\n",
       " 'ipykernel._version',\n",
       " '__future__',\n",
       " '_json',\n",
       " 'json.scanner',\n",
       " 'json.decoder',\n",
       " 'json.encoder',\n",
       " 'json',\n",
       " 'signal',\n",
       " 'threading',\n",
       " '_posixsubprocess',\n",
       " 'select',\n",
       " 'math',\n",
       " 'selectors',\n",
       " 'subprocess',\n",
       " 'jupyter_client._version',\n",
       " 'platform',\n",
       " 'zmq.backend.select',\n",
       " 'cython_runtime',\n",
       " '_cython_3_0_10',\n",
       " 'gc',\n",
       " 'zmq.constants',\n",
       " 'zmq.error',\n",
       " 'zmq.backend.cython._zmq',\n",
       " 'zmq.backend.cython',\n",
       " 'zmq.backend',\n",
       " 'atexit',\n",
       " '_opcode',\n",
       " 'opcode',\n",
       " 'dis',\n",
       " 'token',\n",
       " 'tokenize',\n",
       " 'linecache',\n",
       " 'inspect',\n",
       " '_socket',\n",
       " 'typing_extensions',\n",
       " 'zmq._typing',\n",
       " 'zmq.utils',\n",
       " 'zmq.utils.interop',\n",
       " 'zmq.sugar.attrsettr',\n",
       " '_struct',\n",
       " 'struct',\n",
       " '_compat_pickle',\n",
       " '_pickle',\n",
       " 'pickle',\n",
       " '_bisect',\n",
       " 'bisect',\n",
       " '_sha512',\n",
       " '_random',\n",
       " 'random',\n",
       " 'zmq.utils.jsonapi',\n",
       " 'zmq.sugar.poll',\n",
       " 'zmq.sugar.socket',\n",
       " 'zmq.sugar.context',\n",
       " 'zmq.sugar.frame',\n",
       " 'zmq.sugar.tracker',\n",
       " 'zmq.sugar.version',\n",
       " 'zmq.sugar.stopwatch',\n",
       " 'zmq.sugar',\n",
       " 'zmq',\n",
       " 'concurrent',\n",
       " 'traceback',\n",
       " '_string',\n",
       " 'string',\n",
       " 'logging',\n",
       " 'concurrent.futures._base',\n",
       " 'concurrent.futures',\n",
       " 'socket',\n",
       " '_ssl',\n",
       " 'binascii',\n",
       " 'base64',\n",
       " 'ssl',\n",
       " 'asyncio.constants',\n",
       " 'asyncio.format_helpers',\n",
       " 'asyncio.base_futures',\n",
       " 'asyncio.log',\n",
       " 'asyncio.coroutines',\n",
       " '_contextvars',\n",
       " 'contextvars',\n",
       " 'asyncio.exceptions',\n",
       " 'asyncio.base_tasks',\n",
       " '_asyncio',\n",
       " 'asyncio.events',\n",
       " 'asyncio.futures',\n",
       " 'asyncio.protocols',\n",
       " 'asyncio.transports',\n",
       " 'asyncio.sslproto',\n",
       " 'asyncio.locks',\n",
       " 'asyncio.tasks',\n",
       " 'asyncio.staggered',\n",
       " 'asyncio.trsock',\n",
       " 'asyncio.base_events',\n",
       " 'asyncio.runners',\n",
       " 'asyncio.queues',\n",
       " 'asyncio.streams',\n",
       " 'asyncio.subprocess',\n",
       " 'asyncio.base_subprocess',\n",
       " 'asyncio.selector_events',\n",
       " 'asyncio.unix_events',\n",
       " 'asyncio',\n",
       " 'zmq._future',\n",
       " 'zmq.asyncio',\n",
       " '_ast',\n",
       " 'ast',\n",
       " 'traitlets.utils',\n",
       " 'traitlets.utils.bunch',\n",
       " 'traitlets.utils.descriptions',\n",
       " 'traitlets.utils.getargspec',\n",
       " 'traitlets.utils.importstring',\n",
       " 'traitlets.utils.sentinel',\n",
       " 'traitlets.utils.warnings',\n",
       " 'traitlets.traitlets',\n",
       " 'traitlets._version',\n",
       " 'copy',\n",
       " 'traitlets.utils.decorators',\n",
       " 'traitlets',\n",
       " '_queue',\n",
       " 'queue',\n",
       " 'jupyter_core.version',\n",
       " 'jupyter_core',\n",
       " 'jupyter_core.utils',\n",
       " 'jupyter_client.channelsabc',\n",
       " '_hashlib',\n",
       " '_blake2',\n",
       " '_sha3',\n",
       " 'hashlib',\n",
       " 'hmac',\n",
       " 'pprint',\n",
       " '_datetime',\n",
       " 'datetime',\n",
       " 'tornado',\n",
       " 'numbers',\n",
       " 'logging.handlers',\n",
       " 'html.entities',\n",
       " 'html',\n",
       " 'array',\n",
       " 'zlib',\n",
       " 'tornado.speedups',\n",
       " 'tornado.util',\n",
       " 'tornado.escape',\n",
       " '_curses',\n",
       " 'curses',\n",
       " 'tornado.log',\n",
       " 'tornado.concurrent',\n",
       " 'tornado.ioloop',\n",
       " 'socketserver',\n",
       " 'logging.config',\n",
       " 'textwrap',\n",
       " 'traitlets.utils.text',\n",
       " '_compression',\n",
       " '_bz2',\n",
       " 'bz2',\n",
       " '_lzma',\n",
       " 'lzma',\n",
       " 'pwd',\n",
       " 'grp',\n",
       " 'shutil',\n",
       " 'locale',\n",
       " 'gettext',\n",
       " 'argparse',\n",
       " 'traitlets.config.loader',\n",
       " 'traitlets.config.configurable',\n",
       " 'traitlets.utils.nested_update',\n",
       " 'traitlets.config.application',\n",
       " 'traitlets.config',\n",
       " 'traitlets.log',\n",
       " 'zmq.eventloop',\n",
       " 'zmq.eventloop.zmqstream',\n",
       " 'jupyter_client.adapter',\n",
       " 'dateutil._version',\n",
       " 'dateutil',\n",
       " 'calendar',\n",
       " 'six',\n",
       " '_decimal',\n",
       " 'decimal',\n",
       " 'dateutil._common',\n",
       " 'dateutil.relativedelta',\n",
       " 'six.moves',\n",
       " 'dateutil.tz._common',\n",
       " 'dateutil.tz._factories',\n",
       " 'dateutil.tz.tz',\n",
       " 'dateutil.tz',\n",
       " 'dateutil.parser._parser',\n",
       " 'dateutil.parser.isoparser',\n",
       " 'dateutil.parser',\n",
       " '_strptime',\n",
       " 'jupyter_client.jsonutil',\n",
       " 'jupyter_client.session',\n",
       " 'jupyter_client.channels',\n",
       " 'termios',\n",
       " 'getpass',\n",
       " 'jupyter_client.clientabc',\n",
       " 'glob',\n",
       " 'tempfile',\n",
       " 'platformdirs.api',\n",
       " 'platformdirs.version',\n",
       " 'configparser',\n",
       " 'platformdirs.unix',\n",
       " 'platformdirs',\n",
       " 'jupyter_core.paths',\n",
       " 'jupyter_client.localinterfaces',\n",
       " 'jupyter_client.utils',\n",
       " 'jupyter_client.connect',\n",
       " 'jupyter_client.client',\n",
       " 'jupyter_client.asynchronous.client',\n",
       " 'jupyter_client.asynchronous',\n",
       " 'jupyter_client.blocking.client',\n",
       " 'jupyter_client.blocking',\n",
       " 'jupyter_client.launcher',\n",
       " 'uuid',\n",
       " 'zipfile',\n",
       " 'zipp.compat',\n",
       " 'zipp.compat.py310',\n",
       " 'zipp.glob',\n",
       " 'zipp',\n",
       " 'email',\n",
       " 'uu',\n",
       " 'quopri',\n",
       " 'email._parseaddr',\n",
       " 'email.base64mime',\n",
       " 'email.quoprimime',\n",
       " 'email.errors',\n",
       " 'email.encoders',\n",
       " 'email.charset',\n",
       " 'email.utils',\n",
       " 'email.header',\n",
       " 'email._policybase',\n",
       " 'email._encoded_words',\n",
       " 'email.iterators',\n",
       " 'email.message',\n",
       " 'importlib_metadata._functools',\n",
       " 'importlib_metadata._text',\n",
       " 'importlib_metadata._compat',\n",
       " 'importlib_metadata._adapters',\n",
       " 'importlib_metadata._meta',\n",
       " 'importlib_metadata.compat',\n",
       " 'importlib_metadata.compat.py39',\n",
       " 'importlib_metadata._collections',\n",
       " 'importlib_metadata._itertools',\n",
       " 'importlib_metadata',\n",
       " 'jupyter_client.provisioning.provisioner_base',\n",
       " 'jupyter_client.provisioning.factory',\n",
       " 'jupyter_client.provisioning.local_provisioner',\n",
       " 'jupyter_client.provisioning',\n",
       " 'jupyter_client.kernelspec',\n",
       " 'jupyter_client.managerabc',\n",
       " 'jupyter_client.manager',\n",
       " 'jupyter_client.multikernelmanager',\n",
       " 'jupyter_client',\n",
       " 'ipykernel.connect',\n",
       " 'ipykernel',\n",
       " 'IPython.core',\n",
       " 'IPython.core.getipython',\n",
       " 'IPython.core.release',\n",
       " 'sysconfig',\n",
       " '_sysconfigdata__linux_x86_64-linux-gnu',\n",
       " 'pydoc',\n",
       " 'executing.executing',\n",
       " 'executing.version',\n",
       " 'executing',\n",
       " 'asttokens.line_numbers',\n",
       " 'asttokens.util',\n",
       " 'asttokens.asttokens',\n",
       " 'asttokens',\n",
       " 'fractions',\n",
       " 'pure_eval.utils',\n",
       " 'pure_eval.my_getattr_static',\n",
       " 'pure_eval.core',\n",
       " 'pure_eval.version',\n",
       " 'pure_eval',\n",
       " 'stack_data.utils',\n",
       " 'stack_data.core',\n",
       " 'stack_data.formatting',\n",
       " 'stack_data.serializing',\n",
       " 'stack_data.version',\n",
       " 'stack_data',\n",
       " 'pygments',\n",
       " 'pygments.formatters._mapping',\n",
       " 'pygments.plugin',\n",
       " 'pygments.util',\n",
       " 'pygments.formatters',\n",
       " 'pygments.styles._mapping',\n",
       " 'pygments.styles',\n",
       " 'pygments.formatter',\n",
       " 'pygments.console',\n",
       " 'pygments.token',\n",
       " 'pygments.style',\n",
       " 'pygments.formatters.terminal256',\n",
       " 'IPython.utils',\n",
       " 'IPython.utils.colorable',\n",
       " 'IPython.utils.ipstruct',\n",
       " 'IPython.utils.coloransi',\n",
       " 'IPython.utils.PyColorize',\n",
       " 'IPython.utils.encoding',\n",
       " 'IPython.utils.py3compat',\n",
       " 'IPython.core.excolors',\n",
       " 'cmd',\n",
       " 'bdb',\n",
       " 'codeop',\n",
       " 'code',\n",
       " 'pdb',\n",
       " 'IPython.core.debugger',\n",
       " 'IPython.core.display_trap',\n",
       " 'pexpect.exceptions',\n",
       " 'pexpect.utils',\n",
       " 'pexpect.expect',\n",
       " 'tty',\n",
       " 'pty',\n",
       " 'fcntl',\n",
       " 'resource',\n",
       " 'ptyprocess.util',\n",
       " 'ptyprocess.ptyprocess',\n",
       " 'ptyprocess',\n",
       " 'pexpect.spawnbase',\n",
       " 'pexpect.pty_spawn',\n",
       " 'pexpect.run',\n",
       " 'pexpect',\n",
       " 'shlex',\n",
       " 'IPython.utils._process_common',\n",
       " 'IPython.utils._process_posix',\n",
       " 'IPython.utils.process',\n",
       " 'IPython.utils.path',\n",
       " 'IPython.utils.terminal',\n",
       " 'IPython.core.ultratb',\n",
       " 'IPython.utils._sysinfo',\n",
       " 'IPython.utils.sysinfo',\n",
       " 'IPython.core.crashhandler',\n",
       " 'IPython.utils.importstring',\n",
       " 'IPython.paths',\n",
       " 'IPython.core.profiledir',\n",
       " 'IPython.core.application',\n",
       " 'IPython.terminal',\n",
       " 'IPython.core.compilerop',\n",
       " 'IPython.core.error',\n",
       " 'IPython.utils.docs',\n",
       " 'IPython.utils.decorators',\n",
       " 'IPython.utils.text',\n",
       " 'IPython.core.magic_arguments',\n",
       " 'getopt',\n",
       " 'dataclasses',\n",
       " 'IPython.core.display_functions',\n",
       " 'mimetypes',\n",
       " 'IPython.testing',\n",
       " 'IPython.testing.skipdoctest',\n",
       " 'IPython.core.display',\n",
       " 'IPython.lib',\n",
       " 'IPython.lib.display',\n",
       " 'IPython.display',\n",
       " 'IPython.utils.data',\n",
       " 'IPython.core.page',\n",
       " 'IPython.lib.pretty',\n",
       " 'IPython.utils.openpy',\n",
       " 'IPython.utils.dir2',\n",
       " 'IPython.utils.wildcard',\n",
       " 'pygments.lexers._mapping',\n",
       " 'pygments.modeline',\n",
       " 'pygments.lexers',\n",
       " 'pygments.filter',\n",
       " 'pygments.filters',\n",
       " 'pygments.regexopt',\n",
       " 'pygments.lexer',\n",
       " 'pygments.unistring',\n",
       " 'pygments.lexers.python',\n",
       " 'pygments.formatters.html',\n",
       " 'IPython.core.oinspect',\n",
       " 'IPython.core.inputtransformer2',\n",
       " 'IPython.core.magic',\n",
       " 'pickleshare',\n",
       " 'IPython.core.hooks',\n",
       " 'IPython.core.autocall',\n",
       " 'IPython.core.macro',\n",
       " 'IPython.core.splitinput',\n",
       " 'IPython.core.prefilter',\n",
       " 'IPython.core.alias',\n",
       " 'IPython.core.builtin_trap',\n",
       " 'IPython.core.displayhook',\n",
       " 'IPython.core.displaypub',\n",
       " 'backcall.backcall',\n",
       " 'backcall',\n",
       " 'IPython.core.events',\n",
       " 'IPython.core.extensions',\n",
       " 'decorator',\n",
       " 'IPython.utils.sentinel',\n",
       " 'IPython.core.formatters',\n",
       " '_sqlite3',\n",
       " 'sqlite3.dbapi2',\n",
       " 'sqlite3',\n",
       " 'IPython.core.history',\n",
       " 'IPython.core.logger',\n",
       " 'IPython.core.payload',\n",
       " 'IPython.core.usage',\n",
       " 'IPython.utils.capture',\n",
       " 'IPython.utils.io',\n",
       " 'IPython.utils.strdispatch',\n",
       " 'IPython.utils.syspathcontext',\n",
       " 'IPython.core.async_helpers',\n",
       " 'IPython.core.interactiveshell',\n",
       " 'prompt_toolkit.application.current',\n",
       " 'prompt_toolkit.eventloop.utils',\n",
       " 'prompt_toolkit.eventloop.async_generator',\n",
       " 'prompt_toolkit.eventloop.inputhook',\n",
       " 'prompt_toolkit.eventloop',\n",
       " 'prompt_toolkit.application.run_in_terminal',\n",
       " 'prompt_toolkit.selection',\n",
       " 'prompt_toolkit.clipboard.base',\n",
       " 'prompt_toolkit.clipboard.in_memory',\n",
       " 'prompt_toolkit.clipboard',\n",
       " 'prompt_toolkit.cache',\n",
       " 'prompt_toolkit.enums',\n",
       " 'prompt_toolkit.filters.base',\n",
       " 'prompt_toolkit.filters.app',\n",
       " 'prompt_toolkit.filters.cli',\n",
       " 'prompt_toolkit.filters.utils',\n",
       " 'prompt_toolkit.filters',\n",
       " 'prompt_toolkit.document',\n",
       " 'prompt_toolkit.auto_suggest',\n",
       " 'prompt_toolkit.keys',\n",
       " 'prompt_toolkit.key_binding.key_bindings',\n",
       " 'wcwidth.table_vs16',\n",
       " 'wcwidth.table_wide',\n",
       " 'wcwidth.table_zero',\n",
       " 'wcwidth.unicode_versions',\n",
       " 'wcwidth.wcwidth',\n",
       " 'wcwidth',\n",
       " 'prompt_toolkit.utils',\n",
       " 'prompt_toolkit.key_binding.key_processor',\n",
       " 'prompt_toolkit.key_binding',\n",
       " 'prompt_toolkit.key_binding.vi_state',\n",
       " 'prompt_toolkit.cursor_shapes',\n",
       " 'prompt_toolkit.data_structures',\n",
       " 'prompt_toolkit.styles.base',\n",
       " 'prompt_toolkit.styles.named_colors',\n",
       " 'prompt_toolkit.styles.style',\n",
       " 'prompt_toolkit.styles.defaults',\n",
       " 'prompt_toolkit.styles.pygments',\n",
       " 'colorsys',\n",
       " 'prompt_toolkit.styles.style_transformation',\n",
       " 'prompt_toolkit.styles',\n",
       " 'prompt_toolkit.output.color_depth',\n",
       " 'prompt_toolkit.output.base',\n",
       " 'prompt_toolkit.output.flush_stdout',\n",
       " 'prompt_toolkit.output.plain_text',\n",
       " 'prompt_toolkit.output.defaults',\n",
       " 'prompt_toolkit.output',\n",
       " 'prompt_toolkit.output.vt100',\n",
       " 'prompt_toolkit.mouse_events',\n",
       " 'prompt_toolkit.formatted_text.base',\n",
       " 'prompt_toolkit.formatted_text.ansi',\n",
       " 'xml',\n",
       " 'xml.dom.domreg',\n",
       " 'xml.dom',\n",
       " 'xml.dom.minicompat',\n",
       " 'xml.dom.NodeFilter',\n",
       " 'xml.dom.xmlbuilder',\n",
       " 'xml.dom.minidom',\n",
       " 'prompt_toolkit.formatted_text.html',\n",
       " 'prompt_toolkit.formatted_text.pygments',\n",
       " 'prompt_toolkit.formatted_text.utils',\n",
       " 'prompt_toolkit.formatted_text',\n",
       " 'prompt_toolkit.completion.base',\n",
       " 'prompt_toolkit.completion.deduplicate',\n",
       " 'prompt_toolkit.completion.filesystem',\n",
       " 'prompt_toolkit.completion.word_completer',\n",
       " 'prompt_toolkit.completion.fuzzy_completer',\n",
       " 'prompt_toolkit.completion.nested',\n",
       " 'prompt_toolkit.completion',\n",
       " 'prompt_toolkit.history',\n",
       " 'prompt_toolkit.search',\n",
       " 'prompt_toolkit.validation',\n",
       " 'prompt_toolkit.buffer',\n",
       " 'prompt_toolkit.input.base',\n",
       " 'prompt_toolkit.input.defaults',\n",
       " 'prompt_toolkit.input',\n",
       " 'prompt_toolkit.input.typeahead',\n",
       " 'prompt_toolkit.key_binding.bindings',\n",
       " 'prompt_toolkit.key_binding.bindings.scroll',\n",
       " 'prompt_toolkit.key_binding.bindings.page_navigation',\n",
       " 'prompt_toolkit.lexers.base',\n",
       " 'prompt_toolkit.lexers.pygments',\n",
       " 'prompt_toolkit.lexers',\n",
       " 'prompt_toolkit.layout.utils',\n",
       " 'prompt_toolkit.layout.processors',\n",
       " 'prompt_toolkit.layout.controls',\n",
       " 'prompt_toolkit.layout.dimension',\n",
       " 'prompt_toolkit.layout.margins',\n",
       " 'prompt_toolkit.layout.mouse_handlers',\n",
       " 'prompt_toolkit.layout.screen',\n",
       " 'prompt_toolkit.layout.containers',\n",
       " 'prompt_toolkit.layout.layout',\n",
       " 'prompt_toolkit.layout.menus',\n",
       " 'prompt_toolkit.layout.scrollable_pane',\n",
       " 'prompt_toolkit.layout',\n",
       " 'prompt_toolkit.key_binding.bindings.completion',\n",
       " 'prompt_toolkit.key_binding.bindings.named_commands',\n",
       " 'prompt_toolkit.key_binding.bindings.basic',\n",
       " 'prompt_toolkit.key_binding.bindings.cpr',\n",
       " 'prompt_toolkit.key_binding.bindings.emacs',\n",
       " 'prompt_toolkit.key_binding.bindings.mouse',\n",
       " 'prompt_toolkit.input.ansi_escape_sequences',\n",
       " 'prompt_toolkit.input.vt100_parser',\n",
       " 'prompt_toolkit.key_binding.digraphs',\n",
       " 'prompt_toolkit.key_binding.bindings.vi',\n",
       " 'prompt_toolkit.key_binding.defaults',\n",
       " 'prompt_toolkit.key_binding.emacs_state',\n",
       " 'prompt_toolkit.layout.dummy',\n",
       " 'prompt_toolkit.renderer',\n",
       " 'prompt_toolkit.application.application',\n",
       " 'prompt_toolkit.application.dummy',\n",
       " 'prompt_toolkit.application',\n",
       " 'prompt_toolkit.key_binding.bindings.focus',\n",
       " 'prompt_toolkit.widgets.toolbars',\n",
       " 'prompt_toolkit.widgets.base',\n",
       " 'prompt_toolkit.widgets.dialogs',\n",
       " 'prompt_toolkit.widgets.menus',\n",
       " 'prompt_toolkit.widgets',\n",
       " 'prompt_toolkit.shortcuts.dialogs',\n",
       " 'prompt_toolkit.shortcuts.progress_bar.formatters',\n",
       " 'prompt_toolkit.shortcuts.progress_bar.base',\n",
       " 'prompt_toolkit.shortcuts.progress_bar',\n",
       " 'prompt_toolkit.key_binding.bindings.auto_suggest',\n",
       " 'prompt_toolkit.key_binding.bindings.open_in_editor',\n",
       " 'prompt_toolkit.shortcuts.prompt',\n",
       " 'prompt_toolkit.shortcuts.utils',\n",
       " 'prompt_toolkit.shortcuts',\n",
       " 'prompt_toolkit',\n",
       " 'prompt_toolkit.patch_stdout',\n",
       " 'unicodedata',\n",
       " 'IPython.core.guarded_eval',\n",
       " 'IPython.core.latex_symbols',\n",
       " 'IPython.utils.generics',\n",
       " 'parso.utils',\n",
       " 'parso.tree',\n",
       " 'parso.python',\n",
       " 'parso.python.token',\n",
       " 'parso.python.tokenize',\n",
       " 'parso.pgen2.grammar_parser',\n",
       " 'parso.pgen2.generator',\n",
       " 'parso.pgen2',\n",
       " 'parso.parser',\n",
       " 'parso._compatibility',\n",
       " 'difflib',\n",
       " 'parso.python.prefix',\n",
       " 'parso.python.tree',\n",
       " 'parso.python.parser',\n",
       " 'parso.python.diff',\n",
       " 'parso.cache',\n",
       " 'parso.normalizer',\n",
       " 'parso.python.errors',\n",
       " 'parso.python.pep8',\n",
       " 'parso.file_io',\n",
       " 'parso.grammar',\n",
       " 'parso',\n",
       " 'jedi.parser_utils',\n",
       " 'jedi.debug',\n",
       " 'jedi.settings',\n",
       " 'jedi.cache',\n",
       " 'jedi.file_io',\n",
       " 'jedi.inference.cache',\n",
       " 'jedi.inference.helpers',\n",
       " 'jedi.inference.utils',\n",
       " 'jedi.inference.base_value',\n",
       " 'jedi.inference.sys_path',\n",
       " 'jedi.inference.recursion',\n",
       " 'jedi.inference.flow_analysis',\n",
       " 'jedi.common',\n",
       " 'jedi.inference.lazy_value',\n",
       " 'jedi.inference.docstrings',\n",
       " 'jedi.plugins',\n",
       " 'jedi.inference.names',\n",
       " 'jedi.inference.filters',\n",
       " 'jedi.inference.compiled.getattr_static',\n",
       " 'jedi.inference.compiled.access',\n",
       " 'jedi.inference.signature',\n",
       " 'jedi.inference.context',\n",
       " 'jedi.inference.compiled.value',\n",
       " 'jedi.inference.compiled',\n",
       " 'jedi.inference.analysis',\n",
       " 'jedi.inference.gradual',\n",
       " 'jedi.inference.value.module',\n",
       " 'jedi.inference.value.dynamic_arrays',\n",
       " 'jedi.inference.value.iterable',\n",
       " 'jedi.inference.arguments',\n",
       " 'jedi.inference.parser_cache',\n",
       " 'jedi.inference.gradual.generics',\n",
       " 'jedi.inference.value.function',\n",
       " 'jedi.inference.value.klass',\n",
       " 'jedi.inference.value.instance',\n",
       " 'jedi.inference.value',\n",
       " 'jedi.inference.gradual.base',\n",
       " 'jedi.inference.gradual.type_var',\n",
       " 'jedi.inference.gradual.typing',\n",
       " 'jedi.inference.gradual.stub_value',\n",
       " 'jedi.inference.gradual.typeshed',\n",
       " 'jedi._compatibility',\n",
       " 'jedi.inference.compiled.subprocess.functions',\n",
       " 'jedi.api.exceptions',\n",
       " 'jedi.inference.compiled.subprocess',\n",
       " 'jedi.inference.imports',\n",
       " 'jedi.inference.param',\n",
       " 'jedi.inference.gradual.annotation',\n",
       " 'jedi.inference.value.decorator',\n",
       " 'jedi.inference.syntax_tree',\n",
       " 'jedi.inference',\n",
       " 'jedi.inference.gradual.conversion',\n",
       " 'jedi.inference.compiled.mixed',\n",
       " 'pydoc_data',\n",
       " 'pydoc_data.topics',\n",
       " 'jedi.api.keywords',\n",
       " 'jedi.api.completion_cache',\n",
       " 'jedi.api.helpers',\n",
       " 'jedi.api.classes',\n",
       " 'jedi.api.interpreter',\n",
       " 'jedi.api.strings',\n",
       " 'jedi.api.file_name',\n",
       " 'jedi.inference.docstring_utils',\n",
       " 'jedi.api.completion',\n",
       " 'filecmp',\n",
       " 'jedi.api.environment',\n",
       " 'jedi.inference.references',\n",
       " 'jedi.api.project',\n",
       " 'jedi.api.errors',\n",
       " 'jedi.inference.value.namespace',\n",
       " 'jedi.api.refactoring',\n",
       " 'jedi.api.refactoring.extract',\n",
       " 'jedi.inference.gradual.utils',\n",
       " 'jedi.api',\n",
       " 'jedi.plugins.stdlib',\n",
       " 'jedi.plugins.flask',\n",
       " 'jedi.plugins.pytest',\n",
       " 'jedi.plugins.django',\n",
       " 'jedi.plugins.registry',\n",
       " 'jedi',\n",
       " 'IPython.core.completer',\n",
       " 'IPython.terminal.ptutils',\n",
       " 'IPython.terminal.shortcuts.auto_match',\n",
       " 'IPython.utils.tokenutil',\n",
       " 'IPython.terminal.shortcuts.filters',\n",
       " 'IPython.terminal.shortcuts.auto_suggest',\n",
       " 'IPython.terminal.shortcuts',\n",
       " 'concurrent.futures.thread',\n",
       " 'IPython.terminal.debugger',\n",
       " 'IPython.lib.clipboard',\n",
       " 'IPython.terminal.magics',\n",
       " 'IPython.terminal.pt_inputhooks',\n",
       " 'IPython.terminal.prompts',\n",
       " 'IPython.terminal.interactiveshell',\n",
       " 'IPython.core.magics.auto',\n",
       " 'IPython.core.magics.basic',\n",
       " 'http',\n",
       " 'email.feedparser',\n",
       " 'email.parser',\n",
       " 'http.client',\n",
       " 'urllib.response',\n",
       " 'urllib.error',\n",
       " 'urllib.request',\n",
       " 'IPython.utils.contexts',\n",
       " 'IPython.core.magics.code',\n",
       " 'IPython.core.magics.config',\n",
       " 'IPython.core.magics.display',\n",
       " '_lsprof',\n",
       " 'profile',\n",
       " 'cProfile',\n",
       " 'pstats',\n",
       " 'timeit',\n",
       " 'IPython.utils.module_paths',\n",
       " 'IPython.utils.timing',\n",
       " 'IPython.core.magics.execution',\n",
       " 'IPython.core.magics.extension',\n",
       " 'IPython.core.magics.history',\n",
       " 'IPython.core.magics.logging',\n",
       " 'IPython.core.magics.namespace',\n",
       " 'IPython.core.magics.osm',\n",
       " 'IPython.core.magics.packaging',\n",
       " 'IPython.core.pylabtools',\n",
       " 'IPython.core.magics.pylab',\n",
       " 'IPython.core.magics.script',\n",
       " 'IPython.core.magics',\n",
       " 'IPython.core.shellapp',\n",
       " 'IPython.extensions',\n",
       " 'IPython.extensions.storemagic',\n",
       " 'IPython.terminal.ipapp',\n",
       " 'IPython.terminal.embed',\n",
       " 'IPython.utils.frame',\n",
       " 'IPython',\n",
       " 'ipykernel.control',\n",
       " 'ipykernel.heartbeat',\n",
       " 'ipykernel.iostream',\n",
       " 'comm.base_comm',\n",
       " 'comm',\n",
       " 'ipykernel.jsonutil',\n",
       " 'psutil._common',\n",
       " 'psutil._compat',\n",
       " 'psutil._psposix',\n",
       " 'psutil._psutil_linux',\n",
       " 'psutil._psutil_posix',\n",
       " 'psutil._pslinux',\n",
       " 'psutil',\n",
       " 'tornado.gen',\n",
       " 'tornado.locks',\n",
       " 'tornado.queues',\n",
       " 'ipykernel.kernelbase',\n",
       " 'ipykernel.comm.comm',\n",
       " 'ipykernel.comm.manager',\n",
       " 'ipykernel.comm',\n",
       " 'ipykernel.compiler',\n",
       " 'packaging',\n",
       " 'packaging._structures',\n",
       " 'packaging.version',\n",
       " 'ipykernel.eventloops',\n",
       " 'IPython.core.payloadpage',\n",
       " 'ipykernel.displayhook',\n",
       " 'ipykernel.zmqshell',\n",
       " 'ipykernel.ipkernel',\n",
       " '_ctypes',\n",
       " 'ctypes._endian',\n",
       " 'ctypes',\n",
       " 'ipykernel.parentpoller',\n",
       " 'ipykernel.kernelapp',\n",
       " 'tornado.platform',\n",
       " 'tornado.platform.asyncio',\n",
       " 'faulthandler',\n",
       " 'debugpy._version',\n",
       " 'debugpy.public_api',\n",
       " 'debugpy',\n",
       " 'debugpy._vendored._util',\n",
       " 'debugpy._vendored',\n",
       " '_pydevd_bundle',\n",
       " 'encodings.ascii',\n",
       " 'stringprep',\n",
       " 'encodings.idna',\n",
       " '_pydevd_bundle.pydevd_vm_type',\n",
       " '_pydev_bundle',\n",
       " 'xmlrpc',\n",
       " 'xml.parsers',\n",
       " 'pyexpat.errors',\n",
       " 'pyexpat.model',\n",
       " 'pyexpat',\n",
       " 'xml.parsers.expat.model',\n",
       " 'xml.parsers.expat.errors',\n",
       " 'xml.parsers.expat',\n",
       " 'gzip',\n",
       " 'xmlrpc.client',\n",
       " 'http.server',\n",
       " 'xmlrpc.server',\n",
       " '_pydev_bundle._pydev_saved_modules',\n",
       " '_pydevd_bundle.pydevd_constants',\n",
       " '_pydev_runfiles',\n",
       " '_pydevd_frame_eval',\n",
       " 'pydev_ipython',\n",
       " 'pydevd_plugins',\n",
       " '_pydev_bundle.pydev_log',\n",
       " '_pydev_bundle._pydev_filesystem_encoding',\n",
       " '_pydevd_bundle.pydevd_comm_constants',\n",
       " 'pydevd_file_utils',\n",
       " '_pydev_bundle._pydev_execfile',\n",
       " '_pydevd_bundle.pydevd_exec2',\n",
       " '_pydev_bundle.pydev_imports',\n",
       " '_pydev_bundle.pydev_is_thread_alive',\n",
       " '_pydev_bundle.pydev_override',\n",
       " 'pydevd_plugins.extensions',\n",
       " '_pydevd_bundle.pydevd_extension_utils',\n",
       " '_pydevd_bundle.pydevd_frame_utils',\n",
       " '_pydevd_bundle.pydevd_filtering',\n",
       " '_pydevd_bundle.pydevd_io',\n",
       " '_pydevd_bundle.pydevd_defaults',\n",
       " '_pydevd_bundle.pydevd_utils',\n",
       " '_pydevd_bundle.pydevd_runpy',\n",
       " '_pydev_bundle._pydev_tipper_common',\n",
       " '_pydev_bundle._pydev_imports_tipper',\n",
       " '_pydev_bundle._pydev_calltip_util',\n",
       " '_pydevd_bundle.pydevd_safe_repr',\n",
       " '_pydevd_bundle.pydevd_resolver',\n",
       " '_pydevd_bundle.pydevd_extension_api',\n",
       " '_pydevd_bundle.pydevd_xml',\n",
       " '_pydevd_bundle.pydevd_dont_trace',\n",
       " '_pydevd_frame_eval.vendored',\n",
       " '_pydevd_frame_eval.vendored.bytecode.flags',\n",
       " '_pydevd_frame_eval.vendored.bytecode.instr',\n",
       " '_pydevd_frame_eval.vendored.bytecode.bytecode',\n",
       " '_pydevd_frame_eval.vendored.bytecode.concrete',\n",
       " '_pydevd_frame_eval.vendored.bytecode.cfg',\n",
       " '_pydevd_frame_eval.vendored.bytecode',\n",
       " '_pydevd_bundle.pydevd_bytecode_utils',\n",
       " '_pydevd_bundle.pydevd_cython',\n",
       " '_pydevd_bundle.pydevd_cython_wrapper',\n",
       " '_pydevd_bundle.pydevd_additional_thread_info',\n",
       " '_pydevd_bundle.pydevd_thread_lifecycle',\n",
       " '_pydevd_bundle.pydevd_save_locals',\n",
       " '_pydev_bundle.pydev_monkey',\n",
       " 'pydevd_tracing',\n",
       " '_pydevd_bundle.pydevd_collect_bytecode_info',\n",
       " '_pydevd_bundle.pydevd_daemon_thread',\n",
       " '_pydevd_bundle.pydevd_timeout',\n",
       " '_pydevd_bundle.pydevd_vars',\n",
       " '_pydev_bundle.pydev_console_utils',\n",
       " '_pydevd_bundle.pydevd_import_class',\n",
       " '_pydevd_bundle.pydevd_breakpoints',\n",
       " '_pydevd_bundle.pydevd_custom_frames',\n",
       " '_pydevd_bundle.pydevd_dont_trace_files',\n",
       " '_pydevd_bundle.pydevd_net_command',\n",
       " '_pydevd_bundle.pydevconsole_code',\n",
       " '_pydev_bundle.pydev_umd',\n",
       " 'pydevconsole',\n",
       " '_pydev_bundle._pydev_completer',\n",
       " '_pydevd_bundle.pydevd_net_command_factory_xml',\n",
       " '_pydevd_bundle.pydevd_frame',\n",
       " '_pydevd_bundle.pydevd_additional_thread_info_regular',\n",
       " '_pydevd_bundle.pydevd_trace_dispatch',\n",
       " '_pydevd_frame_eval.pydevd_frame_eval_main',\n",
       " '_pydevd_bundle.pydevd_source_mapping',\n",
       " '_pydevd_bundle.pydevd_concurrency_analyser',\n",
       " '_pydevd_bundle.pydevd_concurrency_analyser.pydevd_thread_wrappers',\n",
       " '_pydevd_bundle.pydevd_concurrency_analyser.pydevd_concurrency_logger',\n",
       " '_pydevd_bundle._debug_adapter',\n",
       " '_pydevd_bundle._debug_adapter.pydevd_schema_log',\n",
       " '_pydevd_bundle._debug_adapter.pydevd_base_schema',\n",
       " '_pydevd_bundle._debug_adapter.pydevd_schema',\n",
       " '_pydevd_bundle.pydevd_reload',\n",
       " '_pydev_bundle.fsnotify',\n",
       " '_pydevd_bundle.pydevd_console',\n",
       " '_pydevd_bundle.pydevd_comm',\n",
       " '_pydevd_bundle.pydevd_net_command_factory_json',\n",
       " '_pydevd_bundle.pydevd_api',\n",
       " '_pydevd_bundle.pydevd_json_debug_options',\n",
       " '_pydevd_bundle.pydevd_process_net_command_json',\n",
       " '_pydevd_bundle.pydevd_traceproperty',\n",
       " '_pydevd_bundle.pydevd_process_net_command',\n",
       " '_pydevd_bundle.pydevd_suspended_frames',\n",
       " '_pydevd_bundle.pydevd_trace_api',\n",
       " 'pydevd_plugins.pydevd_line_validation',\n",
       " 'pydevd_plugins.django_debug',\n",
       " 'pydevd_plugins.jinja2_debug',\n",
       " '_pydevd_bundle.pydevd_plugin_utils',\n",
       " 'pydevd_plugins.extensions.types',\n",
       " 'pydevd_plugins.extensions.types.pydevd_helpers',\n",
       " 'pydevd_plugins.extensions.types.pydevd_plugin_numpy_types',\n",
       " 'pydevd_plugins.extensions.types.pydevd_plugin_pandas_types',\n",
       " 'pydevd_plugins.extensions.types.pydevd_plugins_django_form_str',\n",
       " 'pydevd',\n",
       " 'debugpy._vendored.force_pydevd',\n",
       " 'debugpy.server',\n",
       " 'debugpy.adapter',\n",
       " 'debugpy.common',\n",
       " 'debugpy.common.json',\n",
       " 'debugpy.common.timestamp',\n",
       " 'debugpy.common.util',\n",
       " 'debugpy.common.log',\n",
       " 'debugpy.common.sockets',\n",
       " 'debugpy.server.api',\n",
       " 'ipykernel.debugger',\n",
       " 'IPython.core.completerlib',\n",
       " 'numpy._globals',\n",
       " 'numpy.__config__',\n",
       " 'numpy._distributor_init',\n",
       " 'numpy._version',\n",
       " 'numpy.version',\n",
       " 'numpy.core._multiarray_umath',\n",
       " 'numpy.compat._inspect',\n",
       " 'numpy.compat.py3k',\n",
       " 'numpy.compat',\n",
       " 'numpy.core.overrides',\n",
       " 'numpy.core.multiarray',\n",
       " 'numpy.core.umath',\n",
       " 'numpy.core._string_helpers',\n",
       " 'numpy.core._dtype',\n",
       " 'numpy.core._type_aliases',\n",
       " 'numpy.core.numerictypes',\n",
       " 'numpy.core._exceptions',\n",
       " 'numpy.core._ufunc_config',\n",
       " 'numpy.core._methods',\n",
       " 'numpy.core.fromnumeric',\n",
       " 'numpy.core.shape_base',\n",
       " 'numpy.core.arrayprint',\n",
       " 'numpy.core._asarray',\n",
       " 'numpy.core.numeric',\n",
       " 'numpy.core.defchararray',\n",
       " 'numpy.core.records',\n",
       " 'numpy.core.memmap',\n",
       " 'numpy.core.function_base',\n",
       " 'numpy.core._machar',\n",
       " 'numpy.core.getlimits',\n",
       " 'numpy.core.einsumfunc',\n",
       " 'numpy.core._multiarray_tests',\n",
       " 'numpy.core._add_newdocs',\n",
       " 'numpy.core._add_newdocs_scalars',\n",
       " 'numpy.core._dtype_ctypes',\n",
       " 'numpy.core._internal',\n",
       " 'numpy._pytesttester',\n",
       " 'numpy.core',\n",
       " 'numpy.lib.mixins',\n",
       " 'numpy.lib.ufunclike',\n",
       " 'numpy.lib.type_check',\n",
       " 'numpy.lib.scimath',\n",
       " 'numpy.lib.stride_tricks',\n",
       " 'numpy.lib.twodim_base',\n",
       " 'numpy.linalg._umath_linalg',\n",
       " 'numpy.linalg.linalg',\n",
       " 'numpy.linalg',\n",
       " 'numpy.matrixlib.defmatrix',\n",
       " 'numpy.matrixlib',\n",
       " 'numpy.lib.histograms',\n",
       " 'numpy.lib.function_base',\n",
       " 'numpy.lib.index_tricks',\n",
       " 'numpy.lib.nanfunctions',\n",
       " 'numpy.lib.shape_base',\n",
       " 'numpy.lib.polynomial',\n",
       " 'numpy.lib.utils',\n",
       " 'numpy.lib.arraysetops',\n",
       " 'numpy.lib.format',\n",
       " 'numpy.lib._datasource',\n",
       " 'numpy.lib._iotools',\n",
       " 'numpy.lib.npyio',\n",
       " 'numpy.lib.arrayterator',\n",
       " 'numpy.lib.arraypad',\n",
       " 'numpy.lib._version',\n",
       " 'numpy.lib',\n",
       " 'numpy.fft._pocketfft_internal',\n",
       " 'numpy.fft._pocketfft',\n",
       " 'numpy.fft.helper',\n",
       " 'numpy.fft',\n",
       " 'numpy.polynomial.polyutils',\n",
       " 'numpy.polynomial._polybase',\n",
       " ...]"
      ]
     },
     "execution_count": 16,
     "metadata": {},
     "output_type": "execute_result"
    }
   ],
   "source": [
    "list(sys.modules.keys())"
   ]
  },
  {
   "cell_type": "code",
   "execution_count": 17,
   "id": "00e884b2",
   "metadata": {
    "ExecuteTime": {
     "end_time": "2025-02-24T15:35:47.351045Z",
     "start_time": "2025-02-24T15:35:47.342806Z"
    }
   },
   "outputs": [
    {
     "data": {
      "text/plain": [
       "'import sys\\nimport inspect\\n\\n# Tentare di importare il modulo in memoria\\ntry:\\n    import embed_me\\n    print(inspect.getsource(\\'embed_me\\'))\\nexcept Exception as e:\\n    print(f\"Errore: {e}\")\\n'"
      ]
     },
     "execution_count": 17,
     "metadata": {},
     "output_type": "execute_result"
    }
   ],
   "source": [
    "inspect.getsource(sys.modules['lifesafer'])"
   ]
  },
  {
   "cell_type": "markdown",
   "id": "4b0a7285",
   "metadata": {},
   "source": [
    "## Login to hugging face?"
   ]
  },
  {
   "cell_type": "code",
   "execution_count": null,
   "id": "5c4aff0d",
   "metadata": {
    "ExecuteTime": {
     "end_time": "2025-02-19T14:14:51.987593Z",
     "start_time": "2025-02-19T14:14:51.987566Z"
    }
   },
   "outputs": [],
   "source": [
    "from huggingface_hub import login\n",
    "login()"
   ]
  },
  {
   "cell_type": "markdown",
   "id": "385beacb",
   "metadata": {},
   "source": [
    "## Homemade modules"
   ]
  },
  {
   "cell_type": "code",
   "execution_count": 13,
   "id": "429e4a0f",
   "metadata": {
    "ExecuteTime": {
     "end_time": "2025-02-24T15:31:16.037016Z",
     "start_time": "2025-02-24T15:31:15.618981Z"
    }
   },
   "outputs": [
    {
     "ename": "ModuleNotFoundError",
     "evalue": "No module named 'file2whatever'",
     "output_type": "error",
     "traceback": [
      "\u001b[0;31m---------------------------------------------------------------------------\u001b[0m",
      "\u001b[0;31mModuleNotFoundError\u001b[0m                       Traceback (most recent call last)",
      "Cell \u001b[0;32mIn[13], line 1\u001b[0m\n\u001b[0;32m----> 1\u001b[0m \u001b[38;5;28;01mfrom\u001b[39;00m \u001b[38;5;21;01mfile2whatever\u001b[39;00m \u001b[38;5;28;01mimport\u001b[39;00m file2text\n",
      "\u001b[0;31mModuleNotFoundError\u001b[0m: No module named 'file2whatever'"
     ]
    }
   ],
   "source": [
    "from file2whatever import file2text"
   ]
  },
  {
   "cell_type": "code",
   "execution_count": 15,
   "id": "da458dc6",
   "metadata": {
    "ExecuteTime": {
     "end_time": "2025-02-24T15:35:25.017469Z",
     "start_time": "2025-02-24T15:35:25.010580Z"
    }
   },
   "outputs": [
    {
     "name": "stdout",
     "output_type": "stream",
     "text": [
      "Errore: No module named 'embed_me'\n"
     ]
    }
   ],
   "source": [
    "import lifesafer"
   ]
  },
  {
   "cell_type": "markdown",
   "id": "23f27c46",
   "metadata": {},
   "source": [
    "## Files"
   ]
  },
  {
   "cell_type": "code",
   "execution_count": 9,
   "id": "c13e5d75",
   "metadata": {
    "ExecuteTime": {
     "end_time": "2025-02-20T09:02:57.002019Z",
     "start_time": "2025-02-20T09:02:56.998542Z"
    }
   },
   "outputs": [],
   "source": [
    "# get the files\n",
    "rtf_dir=\"rtf/\""
   ]
  },
  {
   "cell_type": "code",
   "execution_count": 10,
   "id": "14d3c7d1",
   "metadata": {
    "ExecuteTime": {
     "end_time": "2025-02-20T09:02:57.174041Z",
     "start_time": "2025-02-20T09:02:57.167578Z"
    }
   },
   "outputs": [],
   "source": [
    "rtf_files=os.listdir(rtf_dir)\n",
    "rtf_files=[file for file in rtf_files if file.endswith('.rtf')]"
   ]
  },
  {
   "cell_type": "code",
   "execution_count": 11,
   "id": "e01175a7",
   "metadata": {
    "ExecuteTime": {
     "end_time": "2025-02-20T09:02:57.369975Z",
     "start_time": "2025-02-20T09:02:57.366029Z"
    }
   },
   "outputs": [],
   "source": [
    "rtf_files.sort()"
   ]
  },
  {
   "cell_type": "code",
   "execution_count": 12,
   "id": "7b2286e0",
   "metadata": {
    "ExecuteTime": {
     "end_time": "2025-02-20T09:02:57.691708Z",
     "start_time": "2025-02-20T09:02:57.676952Z"
    }
   },
   "outputs": [
    {
     "data": {
      "text/plain": [
       "592"
      ]
     },
     "execution_count": 12,
     "metadata": {},
     "output_type": "execute_result"
    }
   ],
   "source": [
    "l_files=len(rtf_files)\n",
    "l_files"
   ]
  },
  {
   "cell_type": "markdown",
   "id": "4a3a40c0",
   "metadata": {},
   "source": [
    "## Auxiliary functions"
   ]
  },
  {
   "cell_type": "code",
   "execution_count": 13,
   "id": "363160fb",
   "metadata": {
    "ExecuteTime": {
     "end_time": "2025-02-20T09:02:58.528996Z",
     "start_time": "2025-02-20T09:02:58.524373Z"
    }
   },
   "outputs": [],
   "source": [
    "def file2tokens(file):\n",
    "    text=file2text(rtf_dir+file)\n",
    "    return enc.encode(text)"
   ]
  },
  {
   "cell_type": "code",
   "execution_count": 14,
   "id": "226095c2",
   "metadata": {
    "ExecuteTime": {
     "end_time": "2025-02-20T09:02:59.297670Z",
     "start_time": "2025-02-20T09:02:59.292264Z"
    }
   },
   "outputs": [],
   "source": [
    "def file2ntokens(file):\n",
    "    return len(file2tokens(file))"
   ]
  },
  {
   "cell_type": "markdown",
   "id": "c1345013",
   "metadata": {},
   "source": [
    "# Count the total number of token to be embedded"
   ]
  },
  {
   "cell_type": "markdown",
   "id": "ac10118f",
   "metadata": {},
   "source": [
    "## Functions"
   ]
  },
  {
   "cell_type": "code",
   "execution_count": 15,
   "id": "f65c56e6",
   "metadata": {
    "ExecuteTime": {
     "end_time": "2025-02-14T10:41:05.160421Z",
     "start_time": "2025-02-14T10:41:05.153897Z"
    }
   },
   "outputs": [],
   "source": [
    "def etn(i, num_tokens):\n",
    "    '''\n",
    "    extimated token number\n",
    "    '''\n",
    "    return num_tokens/(i+1)*l_files"
   ]
  },
  {
   "cell_type": "markdown",
   "id": "7bf68a0b",
   "metadata": {},
   "source": [
    "## Run"
   ]
  },
  {
   "cell_type": "code",
   "execution_count": 22,
   "id": "02889cff",
   "metadata": {
    "ExecuteTime": {
     "end_time": "2025-02-14T14:21:20.731802Z",
     "start_time": "2025-02-14T11:01:46.218893Z"
    }
   },
   "outputs": [
    {
     "data": {
      "application/vnd.jupyter.widget-view+json": {
       "model_id": "76e1b989f7254c2db93a40de35e91dca",
       "version_major": 2,
       "version_minor": 0
      },
      "text/plain": [
       "  0%|          | 0/592 [00:00<?, ?it/s]"
      ]
     },
     "metadata": {},
     "output_type": "display_data"
    },
    {
     "name": "stdout",
     "output_type": "stream",
     "text": [
      "Numero di token: 15891796\n"
     ]
    }
   ],
   "source": [
    "for i_f, file in enumerate(tqdm(rtf_files)):\n",
    "    try:\n",
    "        num_tokens += file2ntokens(file)\n",
    "        print(f'etn={etn(i_f, num_tokens):.2e}', end='\\r')\n",
    "    except:\n",
    "        continue\n",
    "\n",
    "print(f\"Numero di token: {num_tokens}\")"
   ]
  },
  {
   "cell_type": "markdown",
   "id": "33a6b813",
   "metadata": {},
   "source": [
    "# Play with tokens"
   ]
  },
  {
   "cell_type": "markdown",
   "id": "9cf9f9a8",
   "metadata": {},
   "source": [
    "## Prerequisites"
   ]
  },
  {
   "cell_type": "code",
   "execution_count": 15,
   "id": "0a114b4a",
   "metadata": {
    "ExecuteTime": {
     "end_time": "2025-02-20T09:03:26.354921Z",
     "start_time": "2025-02-20T09:03:05.137763Z"
    }
   },
   "outputs": [],
   "source": [
    "cacca=file2tokens(rtf_files[0])"
   ]
  },
  {
   "cell_type": "code",
   "execution_count": 16,
   "id": "e9bb45cb",
   "metadata": {
    "ExecuteTime": {
     "end_time": "2025-02-20T09:03:50.106993Z",
     "start_time": "2025-02-20T09:03:26.359707Z"
    }
   },
   "outputs": [],
   "source": [
    "text_0=file2text(rtf_dir+rtf_files[0])"
   ]
  },
  {
   "cell_type": "code",
   "execution_count": 17,
   "id": "e04ea9c0",
   "metadata": {
    "ExecuteTime": {
     "end_time": "2025-02-20T09:03:50.117316Z",
     "start_time": "2025-02-20T09:03:50.111944Z"
    }
   },
   "outputs": [],
   "source": [
    "# jina-embeddings-2\n",
    "max_tokens=8192"
   ]
  },
  {
   "cell_type": "code",
   "execution_count": 131,
   "id": "c5a3ead3",
   "metadata": {
    "ExecuteTime": {
     "end_time": "2025-02-21T16:10:55.248371Z",
     "start_time": "2025-02-21T16:10:55.236327Z"
    }
   },
   "outputs": [],
   "source": [
    "def text_butcher(text, max_tokens=max_tokens):\n",
    "    '''\n",
    "    Cut the original text in pieces that can be used to feed Jina.\n",
    "    The strategy is to subsequently cut the text any time it finds a period mark (.)\n",
    "    compatible with the number of token handled by Jina.\n",
    "    '''\n",
    "    chunked_texts=[]\n",
    "    new_text=text\n",
    "    while len(new_text)>0:\n",
    "        cacca=enc.encode(new_text)\n",
    "        chunked_text=enc.decode(cacca[:max_tokens])\n",
    "        if len(cacca)<max_tokens:\n",
    "            # if cacca is smaller than max_tokens, we take everything...\n",
    "            chunked_texts.append(chunked_text)\n",
    "            new_text=''#new_text[len(chunked_text):].strip()\n",
    "        elif '.' in chunked_text:\n",
    "            # otherwise, cut the text up to the last sentence appropriately\n",
    "            chunked_text='.'.join(chunked_text.split('.')[:-1])+'.'\n",
    "            chunked_texts.append(chunked_text)\n",
    "            new_text=new_text[len(chunked_text):].strip()\n",
    "        else:\n",
    "            raise Exception('WTF?!')\n",
    "    return chunked_texts"
   ]
  },
  {
   "cell_type": "markdown",
   "id": "b9a440fb",
   "metadata": {},
   "source": [
    "### Debug"
   ]
  },
  {
   "cell_type": "code",
   "execution_count": 132,
   "id": "59fece68",
   "metadata": {
    "ExecuteTime": {
     "end_time": "2025-02-21T16:10:58.559270Z",
     "start_time": "2025-02-21T16:10:58.506317Z"
    }
   },
   "outputs": [],
   "source": [
    "cacca=text_butcher(text_0, max_tokens=max_tokens)"
   ]
  },
  {
   "cell_type": "code",
   "execution_count": 133,
   "id": "9c3e4bad",
   "metadata": {
    "ExecuteTime": {
     "end_time": "2025-02-21T16:11:00.110478Z",
     "start_time": "2025-02-21T16:11:00.100190Z"
    }
   },
   "outputs": [
    {
     "data": {
      "text/plain": [
       "(3, array([0.44389373, 0.43566893, 0.12043735]))"
      ]
     },
     "execution_count": 133,
     "metadata": {},
     "output_type": "execute_result"
    }
   ],
   "source": [
    "len(cacca), [len(c) for c in cacca]/np.sum([len(c) for c in cacca])"
   ]
  },
  {
   "cell_type": "markdown",
   "id": "cfade0fe",
   "metadata": {},
   "source": [
    "## From text to tokens and back"
   ]
  },
  {
   "cell_type": "code",
   "execution_count": 22,
   "id": "59bf7094",
   "metadata": {
    "ExecuteTime": {
     "end_time": "2025-02-19T10:47:40.296692Z",
     "start_time": "2025-02-19T10:47:40.286267Z"
    }
   },
   "outputs": [
    {
     "data": {
      "text/plain": [
       "\"Transforming lives means creating a sustainable future As an African business, we recognise the opportunities this continent has to offer: the talent of the people it nurtures and the potential for responsible development. But we are also aware of the challenges the communities across the continent face and we’re determined to make In our Annual Report and Accounts 2020/21, we told our stakeholders that the development of our sustainability strategy was one of the most important steps Airtel Africa had ever taken. Since then, the business has been focused on identifying the risks and opportunities that moving to a more sustainable future will bring, and developing the programmes and Message from the Board of directors long-term goals that will guide us. I am proud of the significant work that has gone into producing the sustainability strategy that I am delighted to present to you today. Airtel Africa is a business that is driven by the purpose to ‘transform lives’ – it lies at the heart of every decision we have ever made and is a genuine passion of my own. As an African business, we recognise the opportunities this continent has to offer: the talent of the people it nurtures and the potential for responsible development. But we are also painfully aware of the challenges that communities across the continent face. Challenges such as climate change, a lack of access to basic education and healthcare services, and poor infrastructure in rural areas impacting digital communication and financial inclusion. Our sustainability strategy has four focused pillars – each with specific and measurable goals or commitments. It is designed to reduce as well as mitigate our impact on the environment and to support communities through digital access. We believe that this will help to develop a sustainable future for individuals, families, communities and businesses across Africa. A sustainable future that is built on increasing equality through digital and financial inclusion, through ensuring children have access to vital education and through the provision of rewarding employment for people across the continent. We have worked closely with our stakeholders to ensure that this strategy is ambitious but also robust and credible. We have been guided by their feedback and will continue to engage regularly and listen carefully to their views. This collaborative approach underpins all the work we will deliver through our strategy. We will look to collaborate across the industry, recognising that by working together, we will be able to drive greater impact for the people who need it most. I am proud of this strategy which is supported by the entire Board of directors and our Executive Committee. You have my personal commitment to seeing these programmes through. We are ever committed to ensuring open and honest communication on our progress as Airtel Africa embarks on its long journey towards a more sustainable future. Olusegun Ogunsanya Chief executive officer Airtel Africa plc 8  Our sustainability strategy framework 10 Our contribution to the UN SDGs 34 Our access to education goal 40 Reduction of greenhouse gas emissions goal Airtel Africa plc Sustainability Strategy 20211 Our purpose is to transform the lives of people across sub-Saharan Africa At Airtel Africa, our purpose is to transform the lives of people across sub-Saharan Africa. By serving customers and societies, connecting the unconnected, reaching the financially excluded and bridging the digital divide, we are providing essential services that are unlocking the potential for people and economies to grow. Through our investment in the network and distribution channels, including in rural and underserved communities, we are connecting millions of people to allow them to reach their potential. As a business with over 100 million customers, our activity is closely linked to their opportunity. Since inception, we have worked hard to build lasting partnerships based on mutual values. We have developed innovative partnerships that are helping us expand the range and depth of our Airtel Money services. We are working with global partners, including Mastercard, Western Union and Flutterwave, on a range of products and services that promote the broader adoption of mobile money, connecting millions of people to the global financial system. By taking the lead in the rollout of 4G network, we have helped and continue to drive digitalisation and financial inclusion. Our expanding footprint of retailers and distributors provides opportunities for many businesses and people who can now reach our services. We have a range of programmes at a country level that addresses the local needs, especially around education, and through other initiatives and partnerships to benefit the communities that we serve. We recognise that Africa – and the world – has faced unprecedented challenges as a result of the Covid-19 pandemic. This has impacted the lives and livelihoods of many people across Africa and has undoubtedly contributed to a rapid acceleration of already existing social and environmental issues which must be at the forefront of sustainability efforts now. Building resilient communities and networks to weather the shocks of public health crises, natural disasters and increasing extreme weather conditions is, therefore, a matter of real urgency and a key priority for Airtel Africa. This sustainability strategy pulls together all of our ongoing work and further builds on these efforts. It is a reflection of our growing business, an acknowledgement of the people’s lives we touch, and a recognition of our shared responsibility to protect the world we inhabit. 2Airtel Africa plc Sustainability Strategy 2021 Building  trust with our stakeholders I am delighted that Airtel Africa has embarked on this ambitious sustainability journey. I am confident it will make a real difference – for the business and the communities, and people it serves Independent non-executive director and Airtel Africa’s sustainability champion As an independent non-executive director of Airtel Africa plc, I am delighted that the company has taken this step towards a more sustainable future for the business, the communities, and people it serves across Africa. As a significant company operating in 14 markets, Airtel Africa is in a privileged position – with that privilege, however, comes real responsibility. Responsibility to ensure the company is doing everything it can to reduce its environmental impact. That it is driving better digital and financial inclusion across the continent and into some of the most vulnerable communities on the planet. That it is establishing the vital education services that are critical for lifting millions of families out of poverty and towards a more secure future. Airtel Africa understands this responsibility and I wholeheartedly support the strategy that it has put in place. As world economies struggle to recover from the Covid-19 pandemic, it has never been more important for the business to focus on the future. This sustainability strategy will determine Airtel Africa’s corporate decisions – its investments, its partnerships and, critically, the culture of the company. This work will not only support the company’s purpose to transform lives but it will also build the trust of every one of its stakeholders – from suppliers and employees to regulators and investors. And it will ensure that Airtel Africa can work towards an optimal ESG rating. In short, it is the company’s own pathway to corporate sustainability. I commend Airtel Africa for the work that it has put in place and its commitment to the journey it now embarks upon. Independent non-executive director and Airtel Africa’s sustainability champion Airtel Africa plc Sustainability Strategy 20213 Airtel Africa’s sustainability strategy is at the heart of our business: it informs and influences our corporate strategy. We have established and implemented a robust governance structure to ensure that sustainability is – and remains – a key Board responsibility, and that the delivery of the strategy and goals laid out in this document is supported by dedicated workstreams. The Board of directors has ultimate oversight of the delivery of our sustainability strategy, implementation across our business, and integration of sustainability metrics into Airtel Africa’s remuneration policy. The Board is updated on our progress on a quarterly basis and approves actions as appropriate. The Sustainability sub-Committee is chaired by the CEO. It oversees progress in reaching our operational targets and goals, recommends updates and improvements, defines the actions and measurements necessary to achieve our goals. It also provides regular updates to the Board of directors while acting as a point of contact for external bodies. The Sustainability sub-Committee meets monthly and works closely with the Executive Committee. The Execuive Committee (ExCo) is responsible for Airtel Africa’s sustainability strategy and vision at the Group level. It is also in charge of deploying our strategy in all 14 markets and managing the respective workstreams dedicated to their function’s long-term goals and commitments. The sustainability lead/function reports to the CEO and is responsible for driving integration and embedding the sustainability strategy across our business. This includes coordination of workstreams across functions and markets, collection and analysis of data and the overall delivery of our sustainability reports. The sustainability lead/function works closely with the ExCo and ensures that Airtel Africa upholds and strives towards finding new, innovative and economically effective ways to be sustainable. The sustainability lead is also in charge of developing, implementing and monitoring organisational environmental strategies. The personal objectives for the CEO and other members of our leadership team include accountability for the progress of our sustainability strategy. In addition, 10% of the CEO’s annual bonus is linked to the achievement of specific key performance indicators (KPIs) within each of the four pillars of our sustainability strategy. As we roll out the programmes and initiatives to achieve our sustainability goals and commitments, we may further align remuneration with our performance against our sustainability targets. 4Airtel Africa plc Sustainability Strategy 2021 Our sustainability governance structure is underpinned by robust policies, including our Modern Slavery statement which strives to help reduce the risk of modern slavery and related practices, including child labour and forced labour, and our full compliance with regulatory requirements and industry best practices. For each of our sustainability pillars and, in particlar, goals and targets, we have selected operational and sustainability key performance indicators (KPIs) which will be applied to monitor the success of our sustainability strategy. As well as helping measure and monitor our progress, our KPIs help us communicate the Group’s sustainability strategy across all levels of the organisation, and form part of our governance and performance management process. A set of high level KPIs has been included in this document for each of our goals: these will be independently verified on an annual basis. In addition, we recognise that we will sometimes need to draw on independent audits of our performance to ensure full credibility and transparency. Where necessary, this verification will be delivered by expert independent providers appropriate to each of the goals and programmes. With our commitment to transparency and collaboration, it is essential to report on our progress against our goals regularly, honestly and openly. Without this, we will not be able to improve standards across the industry, nor will we build our credibility or earn the trust of our stakeholders. Therefore, we are committed to providing regular updates on the progress of our sustainability strategy both in our Annual Reports and again, in more detail, in a standalone Sustainability Report which we will publish annually. All our reporting will be fully compliant with the Global Reporting Initiative (GRI) and the Taskforce on Climate-Related Financial Disclosures (TCFD) frameworks. In addition to this, we will use our corporate website to ensure disclosure of all the policies and processes that will drive our sustainability performance. We will also issue regular press releases throughout the year when we meet specific milestones or establish new initiatives and partnerships to support the delivery of our goals. Airtel Africa has a wide range of stakeholders – from our customers, partners, suppliers and colleagues, to governments, regulators, investors and even our peers in the African telecommunications market. Their views are critically important to us: they guide our corporate development and hold us to account. They have informed the development of our sustainability strategy. Building the trust of our stakeholders is vital for the successful delivery of our sustainability strategy. Our strategy must be credible to our stakeholders and needs to demonstrate how we will work in partnership with them on the implementation of some of our programmes. We recognise that we need to demonstrate full transparency through regular engagement and reporting both our progress and the challenges we will encounter. This is how the wider industry and all the bodies involved in driving the transformation of African societies will learn from and support each other. Our commitment to transparency involved stakeholders contributing to the development of our sustainability strategy. Their views were central to the analysis behind our initial materiality assessment. And before we published our strategy, we undertook a detailed stakeholder consultation programme, seeking their honest feedback on our proposed plans and adapting them, where necessary. We are committed to formal and regular communication with all our stakeholders. This is why we are developing our stakeholder engagement policy which will detail the reason for, and frequency of, communication with each of them. We will publish it by the end Airtel Africa plc Sustainability Strategy 20215 8  Our sustainability strategy framework 10 Our contribution to the UN SDGs 6Airtel Africa plc Sustainability Strategy 2021 The first step towards our new strategy was to understand where our sustainability risks lie and the areas in which we can make To determine these areas, we undertook a detailed materiality assessment and the results of this have guided us in the development of our sustainability strategy. The assessment included in-depth analysis of industry benchmarks, best practice across the global telecommunications sector and the recommendations of the Global System for Mobile Communications Association (GSMA). We also reviewed the focus areas of Environmental, Social and Governance (ESG) ratings agencies and reporting frameworks to ensure that our strategy would meet the requirements of the investment community as well as all our other stakeholders. This process identified 24 material sustainability topics for Airtel Africa – they are indicated on the graph below as A-X. To understand the relative importance of the topics, each was scored twice: first, for its relevance or potential risk to Airtel Africa, and then for its relevance to our broad range of stakeholders. This scoring allowed us to identify the 18 most critical priorities (A to R) and we have built our sustainability strategy around our plans to address them. Airtel Africa plc Sustainability Strategy 20217 A clear framework is essential to ensure that we remain focused on the delivery of every aspect of our strategy and to provide clarity Our materiality assessment identified a broad range of issues relevant to Airtel Africa’s entire business – from ensuring more people across Africa have access to data services and building opportunities for some of the most underserved communities on the planet, to tackling inequality in the workplace and reducing our environmental impact. These are vital issues, and addressing the challenges we have identified will support our company’s purpose to transform lives for people, families, communities and businesses across the continent. The development of our strategy builds on our established corporate purpose, our culture and activities to date. It aligns with our support for the 10 principles of UN Global Compact. It also provides a structured approach for our ongoing engagement with society and involves programmes that will be rolled out in all our operations across Africa. Such a broad strategy requires a clear framework to ensure that we remain focused on delivering every aspect of our strategy and to provide clarity in our reporting. 8Airtel Africa plc Sustainability Strategy 2021 Our ambition is to increase digital inclusion in Africa through the expansion and increased reliability of our network. This will provide the connectivity to contribute to the economic growth of individuals, families, communities and nations across the continent. Our goals are described in detail on pages 12-21 Data security Service quality Supply chain Our ongoing commitment is to provide rewarding employment opportunities and to achieve genuine diversity and inclusion at all levels across the business. This goes to the core of who we are. Our commitments are described in detail on pages 22-27 Our ambition is to drive digital and financial inclusion and access to education for people and communities across Africa through the provision of data and mobile services underpinned by our network expansion. This is vital to the positive transformation of lives across Africa. Our goals are described in detail on pages 28-37 Digital inclusion Financial inclusion Access to education Our ambition is to address and minimise the impact of our operations on the environment. This is critical for the world we live in. Our goals are described in detail on pages 38-43 Reduction of GHG emissions Environmental stewardship Airtel Africa plc Sustainability Strategy 20219 Our contribution to the United Nations’ Sustainable Development Goals At Airtel Africa, we know that solving some of the world’s most intractable and urgent problems requires organisations working together, pulling in the same direction to make a genuine change. We recognise that the UN Sustainable Development Goals (SDGs) provide the best framework for this task and we support every one of the 17 SDGs. However, to structure our strategy and ensure we can quantify our contribution, we are focusing on the six SDGs that we believe most reflect our business impact and the needs of the communities we serve across Africa. SDG4: Quality education Through increasing the provision of free internet services and education content to schools across our markets, we will ensure teachers and children have access to the resources they need to improve literacy standards and educational attainment. And by providing direct financial and practical support for schools in each of our 14 markets, we can help ensure education is established and remains available to some of the most vulnerable children. SDG5: Gender equality We are committed to improving gender equality across Africa. Through the expansion of our network, we will be able to provide mobile services in previously underserved rural markets. This will provide women with access to the services needed to drive financial inclusion which will give them greater independence, security for their families and the opportunity to develop businesses. Within Airtel Africa, our commitment to achieving full diversity and inclusion at every level of the business will ensure that all employees, regardless of gender, have the opportunity to develop their skills and progress their careers. SDG8: Decent work and economic growth We will help ensure people across all our markets have access to the financial and data services they need to establish independent businesses, driving the entrepreneurship, creativity and innovation that is essential for economic growth. Through our own recruitment, we will also continue to provide opportunities for local people to enjoy safe and SDG9: Industry, innovation and infrastructure Through the ongoing expansion of our network and continuous development of our data security and service reliability, we will establish essential infrastructure. This will increase financial inclusion for individuals, provide vital education services as well as support the economic resilience and growth of communities. SDG10: Reduced inequalities Our commitment to the ongoing development of our mobile services and network expansion will provide millions of people with new opportunities regardless of age, gender, disability, religion or any other status. This will be reflected in our own business through recruitment policies and our focus on achieving full diversity and inclusion. SDG12: Responsible consumption and production Our sustainability strategy will ensure that we minimise the environmental impact of our operations. Most materially, it will drive our contribution to the development of new technologies and processes to reduce our energy consumption, limit our direct and indirect greenhouse gas emissions and minimise waste. 10Airtel Africa plc Sustainability Strategy 2021 Pillar 1 – Our businessPillar 3 – Our Community 34 Our access to education goal Pillar 2 – Our peoplePillar 4 – Our environment 40 Reduction of GHG emissions goal Airtel Africa plc Sustainability Strategy 202111 Our ambition is to increase digital inclusion in Africa through the expansion and increased reliability of our network. This will provide the connectivity to contribute to the economic growth of individuals, families, communities and nations across the continent. 12Airtel Africa plc Sustainability Strategy 2021 This pillar of our strategy focuses on the work we do – the data and mobile services we provide to transform lives across Africa. Aligned with our business strategy, we are committed to expanding out network to reach previously underserved regions, thereby increasing digital and financial inclusion, and ensuring reliability of the service we provide. We are committed to protecting our customers’ information through market-leading data security systems. And we are committed to driving positive change through our supply chain. Under this pillar, we will develop policies that will dictate how we work and how we will hold our suppliers to the high standards we are setting ourselves. It ensures our corporate governance goes well beyond mere compliance with regulation, and sets industry standards that are truly world-class and help build the trust of all our stakeholders. The initiatives and improvement programmes we are putting in place under this pillar will address, either wholly or in part, ten of the material topics we identified during the materiality assessment, and for three of the high priority topics we have developed specific measurable goals. This is our number one material topic, and we fully recognise the responsibility we have to protect our customers’ personal information and data at all times. This is why we are setting a specific measurable goal for this topic. See our data security goal on page 14 Working in regions of the world where corruption is a risk, we understand that we need to demonstrate – and deliver – the strongest approach to counter this and build the trust of our stakeholders. Rolling out our network to reach those communities that until now have not had access to data and mobile services will allow people access to the internet and to critical education and healthcare information. This is why we are setting a specific measurable goal for this topic under ‘Our community’ pillar. See our digital inclusion goal on page 30 We understand that ensuring our customers can trust the reliability of our network is vital. In particular, we know that they rely on our services for their communications, trade, education and healthcare. This is why we are setting a specific measurable goal for this topic. See our service quality goal on page 16 We are developing a robust supply chain management system that will ensure our suppliers uphold the same high standards we set ourselves, and are independently verified as doing so. We are setting a specific measurable goal for this topic. See our supply chain goal on page 18 Our commitment to ethical business practices, supported by the highest standards of corporate governance, is critical for our long-term future. By bringing our network to more people across Africa, we are opening up opportunities for people to send and receive money, to build their businesses and increase economic opportunities. This is why we are setting a specific measurable goal for this topic under ‘Our community’ pillar. See our financial inclusion goal on page 32 Increased financial inclusion means that more people across Africa will have the chance to set up businesses and to trade freely, building economic value and creation for individuals, families and communities. Full transparency and regular reporting is critical to building the credibility of Airtel Africa. We are committed to regular engagement with all our stakeholders and publishing regular updates on our progress, including the introduction of an annual Sustainability Report. Competition leads to improved services and affordable pricing. We are committed to upholding the standards that support this and stamping out any anti-competitive behaviour within the industry. See our material topics on page 7 Airtel Africa is a custodian of information provided and generated by our customers, our employees and even our suppliers when they use our services. They trust us with their personal details, their communication data and their financial information. This is a privileged responsibility and one that we take seriously, demonstrated by this being our number one material topic. Across the world, people are becoming increasingly aware of the value of their data and the need for data privacy, and they look to service providers to ensure the highest levels of security. Airtel Africa has an extensive infrastructure, and we look after the personal information, including location data and financial details of millions of customers, employees, business partners and suppliers. We recognise that information has value, and that the world is facing ever-increasing challenges related to cyber security threats and data breaches. While we believe we already have strong data security in place, the threats are changing and growing daily. That is why our commitment is to guarantee that our data privacy and security controls are among the best in the world. We have established a clear goal to develop this as quickly as possible through the deployment of the most appropriate and best-in-class technologies, the expansion of our in-house expertise and independent partners, and the introduction of robust and automated processes. Through the rollout of the initiatives that will help us achieve our goal, we will be working with partners and engaging with stakeholders to increase awareness of data privacy and data security across our stakeholder base and with a range of regulatory, statutory and Our programme to deliver this goal is based around three focus areas: Protecting information from being exposed to an unauthorised party and keeping sensitive information private as well as introducing encryption services to protect data at rest or in transit, and prevent unauthorised access to protected data. Ensuring the constant reliability of our data, networks and systems. This includes introducing mitigation and proactive measures to restrict unapproved changes while also having the ability to recover data that has been lost or compromised. Guaranteeing our authorised users have free access to the systems, networks and data that they need to perform their daily tasks as well as resolving hardware and software conflicts to build resilience in design. This will be supported by regular maintenance to keep systems up and available. To reduce the gaps between the latest security technologies and maintain almost zero capability gap going forward between 2022 and 2025, we will: Implement a complete security upgrade programme (first edition). Design and execute a second security upgrade programme. Introduce a policy to ensure legacy security platforms, which are not supported by suppliers, are replaced. Define, establish and socialise a robust standalone data security and privacy policy. Replace all legacy unsupported software and hardware devices Our aim is to build and implement a next generation operating model, supported by best-in-class in-house and partner security expertise. By the end of 2024, we will: Design and transition to a new operating model. Establish an industry-leading in-house security organisation Become a net security provider – that is provider of security services to institutions in our operating countries in addition to investing in our own security. We aim to build secure platforms and products which includes rigorous testing of our security and guarantee that our business and channel partners connect to the platforms in a secure manner. By the end of 2024, we will: Rollout secure developer and billing platforms using the latest encryption and migrate existing billing partners to the new platforms. Build #DevSecOps best practice to ensure security is embedded in each stage of development and rollout of new platforms and updates. Embed the tools, processes and people to prevent software and hardware supply chain-linked intrusions. Our commitment is to guarantee that our data privacy and security controls are among the best in the world Data privacy is the responsibility of everyone. Our aim is to ensure that we educate our customers on how they can best protect themselves, and to build awareness and certification across all our stakeholders. By the end of 2025, we will: Create a new tag to monitor any customer complaints that are linked to data privacy. Design and implement a consumer privacy awareness programme. Establish a data security certification programme for internal and Embed robust data security guidelines and compliance monitoring in all partner agreements. Set up an external data protection helpdesk for stakeholders to report any concerns on Airtel Africa’s data security or privacy. Establish a Data rivacy Ombudsman to oversee all complaints. While we are confident that Targets 1-4 will build industry-leading data security based on all known threats and weaknesses, it is important that our improved systems and management can adapt to anything that is not currently foreseen. To achieve this by 2025, we will: Ensure our major sites are ISO27001/ISO22301 certified. Guarantee 100% reliable and automated backup and restoration of data. Establish a viable disaster recovery plan for all applications and data. Implement ‘near site’ disaster recovery programmes for critical application in our seven largest markets by 2025 – with rollout to other markets after 2025. Establish a policy for the long-term retention of identified data. We will measure our progress through a number of key performance indicators, including the rate of privacy and data security certification for employees and our partners, third-party audit compliance scores and customer complaints around privacy issues. Our service quality goal aims to provide transformative opportunities to people across Africa. By expanding and building the reliability of our network, we connect some of the most rural and underserved communities on the planet with vital data, mobile services and information. This allows families to send money to relatives, individuals to set up businesses, and provides millions of people with access to education resources and healthcare information. In rural areas, where on-the-ground services are often not available, it is essential that our customers can trust their telecommunications providers to support them. The mobile industry is recognised as achieving its highest impact on SDG 9: Industry, innovation and infrastructure and SDG 8: Decent work and economic growth. This is driven by extensive mobile network coverage and the percentage of population covered with next generation network services as a platform. The delivery of our service quality goal will ensure we are able to demonstrate Airtel Africa is making a significant contribution to both of these SDGs. Our programme has been structured around three key elements that will deliver this goal and support our work to increase digital and financial inclusion, both of which are covered in ‘Our community’ pillar on pages 28-33. The focus for this goal is the underserved communities across our markets. These are often based in rural and remote locations or along vital economic corridors, such as the Zambia/Democratic Republic of the Congo mining corridor. We know that expanding our service to these communities will ensure we have the greatest impact in achieving our purpose to transform lives. In addition, we will be providing young people across Africa with access to our services: more children will have learning resources and more entrepreneurs will be able to set up small businesses. We will also focus on building support for key industries that underpin national and local economies, including agriculture, fisheries, micro-retailers, and the automotive sector. Partnerships are at the heart of our programmes and to deliver this goal we have clear plans to engage with power and network equipment providers, governments and regulators. We will work in collaboration with the telecommunications industry in Africa to leverage fibre connectivity, build greater bandwidth capabilities and reduce network congestion. Our programme to deliver this goal is based around three focus areas: This element focuses on increasing the percentage of the population, including rural communities, in each of our markets that has access to our network through the rollout of new network sites. We will increase the availability of our latest technology service offerings and products to all our customers, including the rollout of next generation technology evolution, improving Quality of Experience (QoE) of the network services, and elevating the customer experience with indirect marketing of Airtel Africa’s brand, products and services. We will ensure our customers have access to reliable connectivity and high bandwidth capacity through increased fibre connections to our sites and data centres as well as deploying a network disaster recovery plans for our core network and IP services. To achieve this by 2030, we will: Ensure that over 90% of the population in our markets has access to Airtel Africa’s mobile network services in line with our business strategy. Further develop our rollout roadmap for 2G, 3G, 4G and upcoming To achieve this by 2030, we will: Develop a reliable and resilient connectivity infrastructure to enhance our network services and build the trust of our customers. Establish a recovery plan for our core network and IP services to be deployed during natural disasters with best-in-class services. Roll out fibre connectivity to 40% of our sites. Roll out fibre connectivity to 100% of our data centres. Augment the international connectivity bandwidth to a threshold To achieve this by 2030, we will: Partner with original equipment manufacturers (OEMs) and original device manufacturers (ODMs) to offer cutting-edge power efficient technology services. Enhance uninterrupted mobile service retainability – Quality of Experience (QoE) – to exceed regulatory KPIs and sustain a network availability rate of 99.99%. We will measure our progress through a number of key performance indicators, including the percentage of population covered under our mobile network, the network availability, the rate of rollout of 2G, 3G, 4G and upcoming next generation technologies as well as the rate of fibre network rollout across our sites and data centres as part of network resiliency and connectivity. Expanding our services to rural and remote locations will ensure we have the greatest impact in achieving our purpose to transform lives Airtel Africa relies on a complex network of suppliers who provide us with a wide range of products, services and infrastructure support, and without whom we would not be able to operate. Our suppliers and vendors underpin every aspect of our operations – from the delivery of our network to our human resources and governance processes. We know that to be a truly responsible organisation, we must look further than our own business and we must drive change and positive improvement through our entire supply chain. Our stakeholders hold us accountable for this and ,in turn, we will hold our suppliers accountable for upholding the high standards in human and labour rights, environmental performance as well as business ethics. We maintain that there is no place for the abuse of employee rights, violations of legislation, regulation or governance standards, or environmental negligence in our supply chain. We already undertake detailed assessments of potential suppliers before they are awarded a contract to work with Airtel Africa. Our supplier onboarding process aims to identify and mitigate potential risks within our supply chain. We expect every one of our suppliers to adhere to our Code of Conduct which forms part of the standard contracting terms, sets out our expectations of suppliers, and ensures Not only does this mandate high levels of transparency and drive improvement but it also protects our own reputation. We know that any suppliers found to be operating bad practices will reflect poorly on Airtel Africa and may even, temporarily, impact our supply of vital products and services. We are also determined to ensure business resilience across our supply chain remains a priority. We strive to achieve this through a series of initiatives, including advanced planning of our requirements. We currently work with approximately 2,800 suppliers, including mobile brands, IT companies and telecoms infrastructure providers. However, some play a more significant role to Airtel Africa than others: our top 100 vendors represent around 86% of all our procurements. For this reason, we are focusing our goal on those 100 significant suppliers as this is where we can make the most direct and tangible impact. We also intend to work with these suppliers to ensure that the same practices are extended to their supply chain partners. Our programme to deliver this goal is based around two focus areas: that they work to the same values and standards as Airtel Africa. Suppliers must ensure full compliance and correct any identified breaches in a timely manner. Each year, we require vendors to certify their compliance with our Code of Conduct to ensure that they have not and do not engage in any form of modern slavery, including child We will increase the disclosures we expect of potential vendors before they are given a contract and throughout the onboarding process. But we are now determined to go further by applying appropriate risk-based measures and improving our monitoring capabilities. We will be establishing new policies, audits and independent oversight of our major suppliers. This will enable us to ascertain their adherence to policies, including those relating to labour, governance, environment and overall sustainability. In addition to existing mandatory certifications in line with our Code of Conduct, we will be reviewing all ESG standards, policies and controls, and implement a detailed declaration process for our partners and suppliers. To improve oversight of suppliers’ ESG standards, policies and controls, Enhance our supplier onboarding and documentation process to include ESG criteria by 2022. Update ESG information for existing suppliers with a focus on supplier spend contribution by the end of 2022. We will measure our progress through a number of key performance indicators, including the rate at which we deploy our enhanced supplier onboarding process, ESG declaration audits conducted by Airtel Africa or through industry partnerships as well as the number of breaches identified through audits or whistleblowing channels, and the corresponding number of actions taken to remediate the situation. We will develop a robust process to monitor our suppliers, measure risks, build visibility and improve the resilience of our supply chain. We will be introducing ongoing monitoring and reviews of suppliers’ compliance to our ESG criteria based on a combination of supplier self-certification and routine audits. To build resilience into our supply chain, by 2025 we will: Implement a self-certification process for all vendors with prioritisation for our top 100 suppliers. This will be rolled out to our original equipment manufacturers (OEMs), towercos and top suppliers representing 86% of total spend by the end of 2022, with our entire supplier base included by the end of 2023. Implement audits of the vendors that represent approximately 86% of total spend relating to the procurement of network and IT equipment as well as services from a small group of OEMs and towercos. To this extent, we will: Evaluate the use of industry partnerships such as the Joint Audit Cooperation (JAC) for effective audits of strategic IT and network suppliers by 2022. Implement a periodic audit process for vendors to monitor compliance with ESG criteria by 2023. Conduct routine risk-based audits of all other suppliers by 2025. We are determined to go further by applying appropriate risk-based measures and improving our monitoring capabilities Through this pillar of our sustainability strategy, we believe we will be able to demonstrate a genuine and measurable contribution to two of the UN SDGs: SDG 8 – Decent work and economic growth Through the expansion of our network and the improved reliability of our service, millions more Africans will have access to data and financial services than ever before. By more effective management of our suppliers, we will ensure safe and legal working conditions for employees throughout our value chain. We believe we can make a specific contribution to three of the targets under SDG 8: Target 8.7 – Take immediate and effective measures to eradicate forced labour, end modern slavery and human trafficking and secure the prohibition and elimination of the worst forms of child labour, including recruitment and use of child soldiers, and by 2025 end child labour in all its forms Target 8.8 – Protect labour rights and promote safe and secure working environments for all workers, including migrant workers, in particular women migrants, and those in precarious employment Target 8.10 – Strengthen the capacity of domestic financial institutions to encourage and expand access to banking, insurance and financial services for all SDG 9 – Industry, innovation and infrastructure Our plans to roll out our network and build vital infrastructure – not only for cities and major towns in our markets, but also for some of the most remote communities in Africa – fully supports the objectives of SDG 9 with a particular focus on three specific targets: Target 9.1 – Develop quality, reliable, sustainable and resilient infrastructure, including regional and transborder infrastructure, to support economic development and human well-being, with a focus on affordable and equitable access for all Target 9.3 – Increase the access of small-scale industrial and other enterprises, particularly in developing countries, to financial services, including affordable credit, and their integration into value chains and markets Target 9.c – Significantly increase access to information and communications technology and strive to provide universal and affordable access to the Internet in least developed countries See our alignment with the UN SDGs on page 10 Our ambition is to provide rewarding opportunities and to achieve genuine diversity and inclusion at all levels within the business. This goes to the core of who we are. 22Airtel Africa plc Sustainability Strategy 2021 At Airtel Africa, our people are at the centre of everything we do. Our employee community spans 18 countries, and we share a passion for the way we do business and the lives we transform. We aim to be an employer of choice with a dynamic working environment that drives productivity and fosters the health, knowledge, skills, experience and inventiveness of our colleagues. We are proud to be an equal opportunity employer and remain fully committed to diversity and inclusion in our workplace. Our customer base is diverse, and we believe it is important that our employee base reflects this. The value that diversity and inclusion brings to our business, whether from a business strategy perspective or driving innovation, is immeasurable. As a business we realise that when our people feel valued, they do better work with a deeper sense of purpose and a greater level of engagement. Together, we are growing and learning to make business impact that will last for future generations. This is why we remain committed to continuously providing meaningful productive work, achieving equality and providing an environment where our employees are safe, healthy Through our work under this pillar of our strategy, we will enhance our people-focused policies and increase our disclosure. The work we will be delivering through our sustainability strategy is aligned to the UN SDGs and will address three of our priority material topics. We are committed to providing every one of our people with a fulfilling and rewarding work environment that provides a path for career development and personal growth. We recognise our responsibility to ensure the highest levels of health and safety for all our employees and to create and maintain an appropriate health and safety management system. A genuine commitment to diversity and inclusion lies at the heart of our culture. We will build on this to create even more opportunities for everyone regardless of gender, ethnicity, religion or disability. We have four ongoing commitments which we implement through our strategy. We will monitor and report our progress in the future. We will continue to create a diverse and inclusive workforce. See more about diversity and inclusion on page 24 We will provide the best practice training and development. See more about training and development on page 25 We will maintain a healthy and safe work environment. See more about health and safety on page 26 We will engage with and listen to our employees. See more about employee engagement on page 26 We adhere to International Labour Organisation's (ILO) best practices, UN Human Rights practices, UN Global Compact’s 10 principles and legislative requirements within each of our operating units. At Airtel Africa, we relentlessly strive to build a diverse and inclusive environment that provides equal opportunities for all. We recognise that people come from diverse backgrounds with different life experiences, knowledge and skills – and we value these differences. This is why we have set in place the following targets to ensure we continually progress and stay true to our purpose. In addition to revising and approving our updated recruitment policy by 2022 which encompasses equal opportunity policies for all candidates across open roles, we aim to: Increase the total percentage of female employees from 28% to Talent acquisition process: ensure we have a sizable pool of female candidates in the interview process – with a minimum of two female candidates presented for key roles. Accountability at Executive Committee (ExCo) level: the personal objectives of the Group human resources director include acceleration of female recruitment and training to reinforce leadership potential. Parental leave policy: by 2022 revise our parental leave policy which already takes into account local legislation. Increase the total percentage of female senior executives from 25% to 30% by 2025 through: Launch of ‘Pay-it-forward’ programme in our main markets by 2022. This is our accelerated coaching and mentorship programme designed to help women drive momentum in their careers and prepare them for senior leadership positions. Accelerated promotion of women within the business based on merit. We will commit to have a minimum of two female candidates in the promotion pool in all our markets. Ensure at least 33% female representation at the Board level Representation of diverse communities and social groups We will also ensure adequate representation of different nationalities through an enhanced talent acquisition process. We currently have 34 nationalities across our business and will build on this through the use of global recruiters and best practice internal hiring tools. Finally, we will continue to respect and promote the rights of people with disabilities through our talent acquisition process, raising Airtel Africa’s support for people with disabilities through fair recruitment practices and employment. The skills that will be in demand in the future will be radically different from those of today. At Airtel Africa, we believe in the notion of continuous and lifelong learning. Not only do we aim to support our employees through ongoing upskilling and reskilling initiatives, we also seek to empower tomorrow’s talent by helping to ensure they are in the best possible position to succeed in their future careers. Equipping our employees with the skills of the future Personal and professional development are both essential elements in ensuring the success and effectiveness of a workforce. This is why we consistently look at ways to improve our employee training and development programme which includes: On the job training and mentorship. Functional and mandatory training specific to an individual’s scope of work – these are either internally driven through the virtual learning platform Percipio, or externally led by professional training firms. We are proud to be an equal opportunity employer and remain fully committed to diversity and inclusion in our workplace In addition, as previously noted, the launch of our ‘Pay-it-forward’ programme will also help prepare female talent for senior leadership positions through coaching and mentorship. We aim to accelerate our efforts on all fronts and will measure our progress by tracking the number of training hours and training programmes completed year-on-year. We are firmly committed to supporting the development of the future workforce. We strive to increase women’s participation in the technology and engineering sectors by 2030. Through our campus outreach programme, we partner with key higher learning institutions across Africa to support female undergraduates and post-graduates with coaching and mentorship as well as internship opportunities, particularly within our technical and engineering teams. Supporting the success of female entrepreneurs At the local market level, by 2025 our Airtel Money teams will support female entrepreneurs with the necessary skills needed to effectively set up and manage their business operations as well as financial health through comprehensive financial management training. At Airtel Africa, looking after the health and safety of our employees is our absolute priority. Our approach to health and safety is led from the top and reinforced at all levels across the business. To ensure that this approach is consistently improved upon and of the highest standards, we will undertake a number of initiatives over the coming year. We will ensure best practice governance policies and processes through: Creation and implementation of a social and health and safety management system. Update our Group health and safety policy to improve on all elements and ensure continued compliance with local legislation – this policy expected to be approved by 2023. In September 2020, we launched the first annual ‘air-purse’ employee engagement survey to identify and improve on areas that are seen as most critical by our employees. The survey was conducted by an independent third-party provider, Willis Tower Watson. Total scores are benchmarked against the norms of global technology and telecoms companies, high performance companies as well as African businesses. We are proud to have a current engagement score of 79% which, we believe, is higher than many other companies in Africa or anywhere else in the world. All our markets are focused on maintaining this high engagement score. Annual mandatory compliance training is based on our Code of Conduct, anti-bribery and corruption policy, and information security policy – all of which are updated annually. Zero tolerance of forced compulsory labour: since 2021, we started to conduct self-certification to ensure sustained adherence to minimum wage payments (we are currently paying above minimum wage) and zero tolerance of child labour. Our Code of Conduct and duty to report policy will ensure that a report can be made via our whistleblowing channel either anonymously or directly without fear of repercussion. We also encourage freedom of association and labour representation across our workforce. We recognise that trade unions help employees feel protected and defend their interests. Therefore, we regularly engage with and cooperate with recognised trade unions in all our markets. We strive to ensure appropriate representation through recognised unions and collective bargaining agreements across our entire business. In addition to guaranteeing all employees a decent wage, benefits, inclusive work environment and safe working conditions, we’re also in the process of updating our reward policy. This will be based on our robust performance management system and will incentivise our employees through a variable pay component. We will measure our progress through a number of key performance indicators, including our employee engagement survey scores, the diversity percentage of our workforce, leadership and the Board, the total financial and time investments we put into training and development programmes, the number of internships and mentorships placed at the Group and local market level as well as the rate of injuries and fatalities recorded and the Total Recordable Injury Frequency Rate (TRIFR). The World Economic Forum (WEF) estimates that, on average, only 55%* of women are currently participating in the global workforce, and their presence in organisational leadership positions is even lower. By leveraging SDG 5: Gender equality and SDG 8: Decent work and economic growth, we commit to promote sustained inclusive economic growth, contributing to improved livelihoods for our people, economic empowerment and better opportunities for the communities we serve. Our work to build on our commitment to full diversity and inclusion across all our operations will allow us to demonstrate a genuine contribution to inequalities facing women in our markets, with a specific focus on two key targets within the goal: Target 5.1 – End all forms of discrimination against all Target 5.5 – Ensure women’s full and effective participation and equal opportunities for leadership at all levels of decision-making in political, economic and public life See our alignment with UN SGDs on page 10 SDG 8 – Decent work and economic growth Through the provision of employment, training and career advancement for local people across each of our 14 markets, we believe we have a role to play in the economic development of the region and to specific targets: Target 8.5 – By 2030, achieve full and productive employment and decent work for all women and men, including for young people and persons with disabilities, and equal pay for work of equal value Target 8.6 – By 2020, substantially reduce the proportion of youth not in employment, education or training Target 8.8 – Protect labour rights and promote safe and secure working environments for all workers, including migrant workers, in particular women migrants, and those in precarious employment *  World Economic Forum: Global Gender Gap Report 2021 Our ambition is to drive digital and financial inclusion and access to education for people and communities across Africa through the provision of data and mobile services underpinned by our network expansion. These are vital to the positive transformation of lives across Africa. 28Airtel Africa plc Sustainability Strategy 2021 Supporting communities and those most in need is in Airtel Africa’s DNA – it is the power behind our corporate purpose to transform lives. We work in some of the most challenged countries on the planet. Countries where a lack of critical infrastructure and access to education in rural areas is hindering the development of individuals, businesses and national economies. We are determined to help address these challenges and provide genuine solutions to build resilient This pillar of our sustainability strategy focuses entirely on the support we can provide to the communities where we work. Across Africa, in every one of our markets, we will be delivering programmes to ensure we bring services and support to help develop the resilience and opportunities of all the people whose lives we touch. The programmes we are introducing go much further than our corporate social responsibility (CSR) initiatives and campaigns to date which will continue to run alongside this strategy. Our new programmes directly address five of the material topics we identified during the materiality assessment, and for three of these topics we have developed specific and measurable goals. Based on the expansion of the network through our service quality goal under ‘Our business’ pillar of this strategy, this will drive opportunities across all our markets. This is why we are setting a specific measurable goal for this topic. See our digital inclusion goal on page 30 Similarly, financial inclusion relies on the expansion of our network and mobile services and will ensure people across Africa are able to build their own economic resilience. This is why we are setting a specific measurable goal for this topic. See our financial inclusion goal on page 32 By building digital and financial inclusion and by making sure that more children have access to high quality education and materials, we will be building a stronger base for communities to develop and flourish. This is vital if we are to be able to respond to the needs of every community we serve. Through direct engagement, volunteering and internship programmes we will build strong connections in every region where we are active. Study after study demonstrates that the best way to lift all of Africa out of poverty is through the education of all children, giving hope and building opportunity for the future. We are setting an ambitious and measurable goal for this topic. See our access to education goal on page 34 The development of African economies, businesses and communities is being hampered by a lack of digital inclusion across the continent. It is behind a growing global digital divide and unless addressed, will hold back millions of Africans from achieving their ambitions for themselves and their families. Lack of digital inclusion prevents people from accessing vital education and healthcare information. It prevents them from trading effectively and drives a reliance on cash. Therefore, ensuring people across all our markets have access to digital voice and data services is an absolute priority for Airtel Africa, and will support our contribution to all three of the SDGs we are targeting through this pillar. The digital divide that is affecting millions of rural-dwelling people in Africa is driven by a wide range of factors. Basic smartphones are up to 75% more expensive in Africa than in developed Western markets. Network coverage does not reach many areas and, therefore, the retail and support services that new digital users rely on are simply not available. At Airtel Africa, we aim to create a leading, modernised network that provides the data capacity to meet rapidly growing demand and enhance connectivity and digitalisation in our markets. In 2020/21, we had an additional focus on resilience and continuity of service – as we realised how much our customers and their businesses depended on us when Covid-19 restrictions curtailed movement and trade. Our programme to deliver this goal is based around three focus areas: We will increase the penetration of mobile telephony in rural areas which is a vital first step towards digital inclusion. People need access to local retail and support services to allow them to buy, use and understand their device and digital services. We will encourage use of our full range of digital services by creating more attractive and affordable options for home broadband and smartphone purchase. In pre-paid markets, availability of digital services is dependent upon having available credit. We will build on the convenient payments solutions to our customers so that they can gain access to digital services as and when they need it. To achieve our digital Inclusion goal, we have developed three clear targets that will focus our activity and initiatives, and inform our collaborations. To increase mobile penetration in rural locations, people need access to telecoms retail and support services in their local areas. At Airtel Africa, we currently have more than 25,000 mobile base stations, or sites, across our 14 markets. We are committed to making sure that everyone who lives within the mobile signal range of one of our sites also has access to a local Airtel shop or kiosk, where they can access our entire portfolio of products and services, and find help and support when they need it. To achieve this by 2025, we will: Increase the percentage of people in rural locations who can access our network from 66.5% in 2021 to a minimum of 80% in 2025. This will work in tandem with creating exclusive service centres in rural areas: accordingly, we will increase the number of rural sites where we also offer retail and support services from 49% in 2021 to 95% in 2025. In the markets where access to digital services is dependent upon having credit in one’s mobile account, we need to make it as easy as possible for our customers to top-up their balance at any time, and any place. Through our retail and service facilities we roll out across Africa (see Target 1), we will increase awareness of – and access to – convenient payment solutions. We will make sure our customers have access to a range of options via banking apps, cards and e-wallet solutions. This will allow top-ups and ensure we meet our customers’ needs to access our digital services as and when they need them. We will also educate, guide and support customers in the use of mobile money messaging and our own apps. To achieve this by 2025, we will: Increase the percentage of GSM recharges from digital modes of payments from 37.3% in 2021 to 60% in 2025. We will create awareness and understanding of selfcare modes such as bank and mobile money USSD (Unstructured Supplementary Service Data) codes, MyAirtel App and the Airtel online recharge portal. We will do this through customer education to ensure secure and simplified Our full range of digital services is only available to customers who use smartphones or home broadband services (feature phone users do not gain access to the full range of digital services). We, therefore, aim to drive smartphone and home broadband penetration in both rural and urban settings, leveraging our expanding 4G footprint. To achieve this by 2025, we will: Increase smartphone penetration across our markets from 33% total customers in 2021 to 45% in 2025 by partnering with original equipment manufacturers (OEMs) to develop attractive offers for consumers when they first purchase their handsets. Increase home broadband penetration as a percentage of households across our operations from 0.25% in 2021 to 5.25% in 2025 through targeted promotions. We will measure our progress through a number of key performance indicators, including the rate of mobile penetration in rural locations, the rate of smartphone and home broadband penetration in rural settings, as well as the rate of recharges completed through convenient payment solutions. We will ensure people across all markets have access to digital voice and data services Financial inclusion is increasingly recognised as a key driver of economic growth and poverty alleviation over the world. To achieve sustainable and inclusive economic growth, access to finance is a critical prerequisite for equitable distribution of economic opportunities, poverty reduction, and financial stability. Having access to a transaction account is a first step toward broader financial inclusion as this allows people to store money and send and receive payments. Financial inclusion of women is particularly important for gender equality and women’s economic empowerment. With greater control over their financial lives, women can help themselves and their families to come out of poverty. They can reduce their risk of falling into poverty, eliminate their exploitation from the informal sector and increase their ability to fully engage in measurable and productive economic activities. According to the World Bank, however, ‘the gender gap in account ownership remains stuck at 9% in developing countries, hindering women from being able to effectively control their financial lives. Countries with high mobile money account ownership have less gender inequality’. Financial literacy has a significant effect on driving financial access as it helps educate and empower people to evaluate various financial products and services. An inclusive financial system supports stability, Seven of the 17 UN SDGs for 2030 recognise financial inclusion as a key enabler for achieving sustainable development worldwide, by improving the quality of lives of poor and marginalised sections of society. Our work to deliver this goal will benefit everyone but will be particularly focussed on women and people under the age of 35 where transformation will have the greatest impact. We know we cannot deliver this goal in isolation so we are actively building partnerships to drive and amplify our efforts: Corporate partners: opportunities to co-invest in solutions for individuals and micro-, small and medium-sized enterprises (MSMEs) in large corporate value chains, both upstream (e.g., agriculture and mining) and downstream (e.g., small retailers and recycling ecosystems). Foundation and multilaterals: opportunities for co-investment to test pioneering innovations that could advance the financial inclusion agenda in the long term. partners: opportunities to fund these organisations to support Our programme to deliver this goal is based around three focus areas: Developing products and services that are tailored to the needs and income-levels of the un- and under-banked. Providing transactional accounts, savings, payments, insurance and remittances or foreign exchange (FX), and establishing affordable lending programmes through multi-lateral partnerships. Ensuring our products and services are where our customers are, by establishing a broad-based and easy to access fintech ecosystem, and deepening our distribution to create density. Empowering our customers and all consumers with the knowledge, tools and confidence they need to use financial products in a responsible way. To achieve our objectives of affordability, accessibility and awareness, we have developed four clear targets that will focus our activity and initiatives and inform our collaborations. To achieve this by 2025, we will: Double the digital transaction value per subscriber by 2025. Provide easy access to the ecosystem by ensuring ‘point of presence’ within 1,000 metres of target groups. Achieve 75% plus penetration of mobile money users in rural and semi-rural areas. To achieve this by 2025, we will: Target 20 million women users of Airtel Money by 2025. Extend affordable microcredit to 2 million women to aid Specifically support micro businesses run by women on the continent. To achieve this by 2025, we will: Launch attractive individual and group bonus savings products. Target 1 million mobile money subscribers to hold at least one savings product. Incentivise agents to save at least 10% of commissions earned. To achieve this by 2025, we will: 4A Partner with large corporates and development finance institutions (DFIs) to target farmers through their supply chains. 4B Extend ‘collateral-free’ loans to 1 million small scale farmers. In addition to these targets, promoting financial literacy to underserved communities is a critical component of our financial inclusion initiatives. We are looking to engage with NGOs and other social bodies to promote on-the-ground financial literacy programmes and measure impact – targeting village savings and loans associations (VSLAs). Our ambition is to empower 5 million people through financial literacy by 2025. We will measure our progress through a number of key performance indicators, including the value of digital transactions completed per subscriber, the total number of people served by our network and penetration rates within rural populations, the number of women and female entrepreneurs supported by our services, as well as the rate of improvement of household incomes and overall employment particularly for micro-, small and medium-sized enterprises in the agriculture sector. Access to finance is critical for equitable distribution of economic opportunities and elimination of poverty Africa is a continent undergoing rapid transition. Central to this change are its children. The continent has seen an unprecedented expansion in its child population in recent decades. According to UNICEF estimates, by 2055 Africa will be home to one billion children under the age of 18, making Africa’s child population larger than any other continent. Such a demographic explosion creates immense opportunities but also tremendous challenges. A large number of young and educated people can drive economic growth and transformation; however, this is not the case in Africa today, where youth unemployment rates are on average 54% rising to 70% in some countries. In 2019, the World Bank introduced the concept of ‘learning poverty’ – the inability to read or understand simple text by the age of 10. In sub-Saharan Africa, the learning poverty rate is close to 87%. This We are now setting ourselves the ambitious goal to transform the lives of over one million children in Africa through education by 2027 Our access to education goal has specific targets and timelines for delivery and will enhance our ongoing CSR programmes. We will use our digital and technology infrastructure to provide internet access for education. And by adopting schools we will provide long-term practical support for the schools that need it most. Our programme to deliver this goal is based around three focus areas: situation has only been exacerbated by the impact of the pandemic which saw 90% of learners across all our African markets drop out of The situation is critical and must be addressed immediately, if Africa is to avoid the predictions that in the 10 years to 2030, 288 million young people will reach the age of 18 without basic proficiency levels in reading. This is why our access to education goal is central to our sustainability strategy, and will combine the Group-level funding and services with targeted programmes on the ground in each of our markets. We have long been focused on improving education through our corporate social responsibility (CSR) activities. We recognise that it is the key to employment, gender equality and driving economic growth and resilience. A landmark partnership with UNICEF will provide children with free access to zero-rated educational content and connectivity in 13 out of our 14 countries of operations. We are commited to working in collaboration: we will maintain our local partnerships and will look for opportunities to build relationships with potential new partners. Where network services exist, we will work with schools to ensure they have the equipment necessary to connect to the internet. We will continue to build long-term relationships with schools most in need to provide them with whatever support necessary to deliver quality education. Our ambition is to transform the lives of over one million children in Africa through education by 2027. To do this, we have set the following targets that will guide our progress and ensure we are reaching those in the most remote and underserved areas of our countries of operation. We have established a significant five-year partnership with UNICEF to transform the lives and opportunities of children through access to education. The partnership will focus on 13 of our 14 African markets and will target the schools and regions where the need is greatest. We have committed to an extensive programme through which we will invest in technology and expertise, in addition to direct financial support, to bring learning resources to children across Africa. Our partnership has been agreed at the Group level and will complement our existing and ongoing CSR programmes that will continue to run at a country level. The partnership will deliver three focused programmes of activity: We will support UNICEF in championing every child’s right to an education, with a particular focus on girls who so often are left behind in developing economies. Together, we will advocate for ambitious policies and frameworks, using insights we have gathered through the partnership. We to promote the tools and platforms that are available to support children and keep them safe online. We will make digital learning a reality for children in our markets across Africa. We will do this by decreasing the barriers of entry to digital learning content and applications through zero-rating digital educational content on key platforms, including UNICEF’s ‘Learning Passport’ initiative. We have committed to providing direct financial support to UNICEF’s ‘Reimagine Education’ initiative that is working to connect every school in Africa to the internet, giving every young person access to information and opportunity. We are partnering on this initiative to ensure children are equipped with the digital access they need for their education. Our financial and in-kind support for this partnership will be a minimum of $55m over the five years to 2027. This target will be delivered through our operating companies locally – we will connect an average of 20 schools per market per year for the five years to 2027. To do this, we will go through a two-step process: Working with local partners in each market, we will map out the current connectivity levels of schools in the areas where our masts provide coverage. Once mapped, we will identify the schools which do not have access to the internet and will implement the necessary digital solution to bring them online. Through the supply of products, including wi-fi and dongles, we will provide free data through our network and digital infrastructure for use in schools. In 2021, 79.4% of our sites operated on faster 4G network, and we will increase this percentage to allow us to connect more schools with faster internet for a better learning experience. Our access to education goal is central to the sustainability strategy as we contribute to quality education across our markets We aim to increase the number of schools we adopt and support Across every market, we will be conducting a three-step process to identify schools in need of support, assess the help required and provide long-term assistance. Each of our local markets already has relationships in place with the education ministry, other government authorities and regulators. We will leverage these relationships and work with local partners to identify the schools which are most in need of support to bring them up to average national standards. We will assess the long-term assistance each of the identified schools require to determine the action we need to take to have a genuine impact. Support will vary from school to school, depending on specific requirements. Our support will range from providing materials, including desks, books and uniforms, to building or upgrading school facilities, or paying teaching staff salaries. Once a school has been adopted, colleagues in our offices will volunteer their time and continue to engage with the school on an ongoing basis. This is a critical part of our support to ensure we take the school on a positive journey and build long-term sustainable relationships. We will measure our progress through a number of key performance indicators, including the number of schools adopted through our ‘Adopt a school’ programme, the rate at which schools are connected to the internet, and the number of websites zero-rated for education. Through this important pillar of our sustainability strategy, we will be able to demonstrate our significant contribution to three of the SDGs: This goal is very important to us and goes to the heart of our corporate purpose of transforming lives. UNESCO estimates that 88% of children and adolescents in sub-Saharan Africa will not be able to read proficiently by the time they complete primary and lower secondary education. With Africa set to have the highest number of school age children in the world by 2100, providing more and better education is critical. Our work will contribute to the following specific targets with SDG 4: Target 4.1 – By 2030, ensure that all girls and boys complete free, equitable and quality primary and secondary education leading to relevant and effective learning outcomes Target 4.4 – By 2030, substantially increase the number of youth and adults who have relevant skills, including technical and vocational skills, for employment, decent jobs and entrepreneurship Target 4.5 – By 2030, eliminate gender disparities in education and ensure equal access to all levels of education and vocational training for the vulnerable, including persons with disabilities, indigenous peoples and children in vulnerable situations Target 4.6 – By 2030, ensure that all youth and a substantial proportion of adults, both men and women, achieve literacy and numeracy See our alignment with US SDGs on page 10 Education for girls, as well as women’s access to digital and financial services and employment, are key drivers of gender equality in Africa. It is critical to give women the tools and opportunities they need to grow their independence. This is why we are focused on demonstrating our contribution to the following key targets: Target 5.a – Undertake reforms to give women equal rights to economic resources, as well as access to ownership and control over land and other forms of property, financial services, inheritance and natural resources, in accordance with national laws Target 5.b – Enhance the use of enabling technology, in particular information and communications technology, to promote the empowerment of women Reducing inequalities and providing the services that will encourage social mobility is central to our work through this pillar of our strategy. In particular, we will try to demonstrate our contribution to the following specific targets: Target 10.2 – By 2030, empower and promote the social, economic and political inclusion of all, irrespective of age, sex, disability, race, ethnicity, origin, religion or economic or other status Target 10.c – By 2030, reduce to less than 3% the transaction costs of migrant remittances and eliminate remittance corridors with costs higher than 5% Our ambition is to address and minimise the impact of our operations on the environment. This is critical for the world we live in. 38Airtel Africa plc Sustainability Strategy 2021 Operating in sub-Saharan Africa, we have first-hand experience of the impact of the climate crisis. We understand that our markets will be amongst those worst affected if the world – governments, institutions, businesses, and individuals – do not take the necessary action to reduce carbon emissions to pre-industrial levels. In addition to this, our markets contain some of the most mineral-rich land on the planet – land that has been exploited and affected for decades. We recognise that the goals and programmes we have laid out in the first three pillars of our strategy will come to nothing if communities in all our markets cannot survive and thrive as a result of environmental change. It’s as simple as that. So, for Airtel Africa, environmental protection is non-negotiable – it is a pressing reality. Our new programmes directly address two of the material topics we identified during the materiality assessment and for both of these we have developed specific measurable goals which are detailed in this section. We fully acknowledge that if the world is to avoid catastrophic climate crisis and keep below the 2° centigrade increase over pre-industrial levels as outlined by the Paris Agreement and supported by the Intergovernmental Panel on Climate Change (IPCC), Airtel Africa must strive to achieve genuine carbon neutrality. See our reduction of GHG emissions goal on page 40 We recognise that we need to continue putting in place strategies and processes that will reduce our use of damaging materials and the waste we produce by repurposing and applying new technologies. See our environmental stewardship goal on page 41 Reducing the greenhouse gas emissions associated with the telecommunications sector sits at the heart of this commitment. While we do not operate in one of the ‘hard to abate’ sectors, we know that we have a unique set of challenges around greenhouse gas production and reduction. We are determined to tackle these to genuinely reduce emissions, and help us towards our ambition of achieving net zero emissions ahead of the 2050 deadline ascribed To achieve the digital and financial inclusion we have set out in our sustainability strategy and to provide more children in Africa with access to education resources, it is critical that we extend our network and services to some of the most underserved communities. And everywhere we operate, we must ensure uninterrupted availability of our network through reliable power sources. That reliability comes with a challenge as uninterrupted electricity grid power, especially outside cities, cannot be guaranteed. In addition, as our technology develops and services expand into rural areas, our requirement for reliable sources of power will only increase. So, to ensure an uninterrupted supply of power, we depend on diesel generators and batteries as a back-up. We acknowledge the impact of diesel generators on the environment, and this poses a unique challenge – we need to balance sensitivity towards the environmental impact with provision of digital and financial inclusion for people across Africa. This is not a problem affecting Airtel Africa alone – every telecommunications company operating in Africa faces this challenge. Without a viable and sustainable solution to diesel-powered towers in rural areas, it is difficult for any provider to genuinely achieve net zero carbon emissions. But we are determined to properly address it for the good of the communities we serve, the entire industry, and the planet In many of our markets, we have already chosen to partner with reputable tower companies who build and maintain tower sites for us with the clear intention of sharing the infrastructure with any other telecoms company that wishes to do so. This approach to sharing towers with our peers limits the number of towers in rural areas. But this is not enough. We now need to address emissions from diesel generators as part of a broader programme to reduce our entire carbon footprint – scopes 1, 2 and 3. We have undertaken extensive analysis of our own operations and our entire value chain to understand our emissions profile and specific carbon risks. However, the challenges of operating in Africa and working in regions where little to no infrastructure exists are complex. Addressing the pollution of powering the network equipment on towers requires the entire industry to come together to develop shared solutions and to help every telecom provider address their carbon footprint. To define our pathway to genuine carbon reduction, we will: Appoint a globally recognised consultancy with expertise in defining Draw on industry-wide solutions through our membership of the Global System for Mobile Communications Association (GSMA) which has already established an industry-wide decarbonisation plan and guidelines. We recognise that it will be difficult for us to achieve the carbon reduction we seek unless the whole African telecommunications industry comes together to address the issue of towers which rely on diesel generators to ensure an uninterrupted supply of power. This work is well underway, and we are committed to publishing our detailed plans for meaningful carbon reduction throughout our entire value chain in 2022 ahead of our first Sustainability Report. Africa is the most mineral-rich continent on the planet. It contains an enormously diverse range of ecosystems and is home to an extensive range of endemic species of flora and fauna. Within our 14 markets, the communities we serve span arid desert regions to tropical and sub-tropical areas. While the richness and beauty of Africa is well understood and appreciated by our organisation, we also recognise that it is a continent that is under environmental threat. The climate crisis is leading to continued and increasing pressure on natural resources such as water. This puts pressure on the land and impacts the lives of those who rely on it. While our operations are not heavily reliant on water or other natural resources, as a responsible operator we recognise that we need to reduce our environmental impact wherever we can. Our programme to deliver this goal is based around three focus areas: Our employees are already working to minimise our impact on the environment by reusing, recycling and ensuring the safe disposal of non-hazardous waste in all countries where we operate. To further reduce our impact on waste going to landfill or incineration plants, we will expand existing waste management initiatives across our offices and sites, as well as ensure more of our supplies come from recycled sources. We are not a heavy user or polluter of natural water resources. However, as water is such a precious commodity in our markets, we recognise that we have a responsibility to monitor and be mindful of our use of water. We collect and harvest rainwater in some of our offices, where possible, and are looking at more ways in which we can expand these initiatives. • To further minimise our environmental impact, we commit to Elimination of hazardous waste from our operations We take a responsible approach to reducing all hazardous waste in our operations. We comply with all regulated standards for the disposal of lead waste and dispose of it through authourised and licensed third-party partners. The area of most significant concern in this respect for mobile operators is the continued use of lead batteries which are widely deployed to provide critical back-up power for our extensive network equipment. Therefore, we are setting targets to reduce the presence of hazardous waste with reducing e-waste across our business, as well as ensuring reusability and recyclability. We dispose of any generated e-waste from technological upgrades, capacity augmentation and various other processes with authorised and licensed operators. We abide closely to the Waste Electrical and Electronic Equipment (WEEE) guidelines. We source all our electronic equipment from reputable partners who comply with global environmental health and safety (EHS) standards. And in all our locations, we keep a record of e-waste disposal certificates – we follow a stringent process which mandates the use of only qualified, licensed and safe recycling as well as e-waste disposal partners. We are absolutely committed to reducing and eliminating the environmental impact of our operations along our entire value chain To achieve our ambitions on hazardous waste, non-hazardous waste and water protection, we have established the following targets that will guide our progress. As a priority, to streamline our efforts at the Group and operating country level, we have started nominating environmental officers in some of our offices and will roll this initiative out in all our countries of operation by 2022. These employees will be responsible for: Promoting sustainability and raising awareness of the current Encouraging effective resource use through our adopted initiatives to reduce waste, as well as use energy and water more efficiently Leading by example to help colleagues and visitors to do the same Training programmes will be offered to support our environmental officers. At Airtel Africa, we only partner with adequately equipped and regulated facilities that recycle our lead batteries – all our end-of-life lead batteries are disposed of by licenced operators under local regulations. Our vision is to have lead-free operations at all our owned sites by 2040. To achieve this, we are making a financial commitment to continue to source lead-free materials for use in our operations. By 2040, we will replace 100% of lead batteries in all our owned sites with lead-free batteries such as lithium-ion batteries, which are more environmentally friendly and more efficient, or other green alternatives as technology develops. Further to this, we will also: Continue to replace laminated scratch card products containing unrecyclable magnetic strips with electronic vouchers (e-vouchers) so that we eliminate 100% of magnetic strip scratch cards by 2030. Ensure our suppliers are actively working towards reducing hazardous waste and that we are actively monitoring their efforts. We will do this by 2025 through increasing the disclosure we expect as part our supplier onboarding process, and introducing ongoing reviews of suppliers’ compliance to our ESG criteria based on a combination of supplier self-certification, periodic and routine audits. For more information, see ‘Our supply chain’ goal on page 18. To have a clear understanding of waste management practices across our business, we will undertake a full assessment of waste in our offices and sites by the end of March 2022. This will enable us to identify the different categories of waste generated, deepen our understanding of the many initiatives deployed at the country level, and determine where else and how else we can reduce, reuse or recycle. Our aim is to do more to reduce our non-hazardous waste by 2025 through reuse and recycling initiatives. To achieve this, we will: Build on existing waste management initiatives in our countries of operation and consolidate them under a Group-wide initiative, which will expand as well as improve the efficiency of recycling processes at 50% of our offices and sites by the end of March 2022, with all offices and sites included by 2023. Ensure that all our office paper supplies are fully recycled by 2022. Eliminate harmful non-essential single use plastics from all our offices by 2023. For essential plastics, we will ensure that they are 100% reusable or recyclable. Ensure our suppliers have effective recycling schemes and waste reduction management initiatives in place and that we are actively monitoring their efforts. We will do this by 2025 through increased disclosure and ongoing reviews as described in ‘Our supply chain’ goal on page 18. Preserving water resources is an important environmental protection priority for Airtel Africa. Our current water protection target is to achieve year-on-year reductions in water consumption across our offices and sites. To achieve this, we will introduce regular employee awareness campaigns to ensure they consider the role they can play in reducing water consumption. We will measure our progress through a number of key performance indicators, including the rate at which lead and other hazardous waste is eliminated from our operations, the rollout of a Group-wide waste management initiative across our markets, the total e-waste generated and recycled by our operations, and monitoring our annual water consumption. Through this important pillar of our sustainability strategy, we will be able to demonstrate our contribution to one of the UN SDGs: SDG 12 – Responsible consumption and production Our work to reduce our greenhouse gas emissions (scopes 1-3) along our entire value chain, apply responsible consumption measures and technologies and eliminate hazardous waste will contribute to the following targets: Target 12.1 – Implement the 10-year framework of programmes on sustainable consumption and production, all countries taking action, with developed countries taking the lead, taking into account the development and capabilities of developing countries Target 12.4 – By 2020, achieve the environmentally sound management of chemicals and all wastes throughout their life cycle, in accordance with agreed international frameworks, and significantly reduce their release to air, water and soil in order to minimise their adverse impacts on human health and the environment Target 12.5 – By 2030, substantially reduce waste generation through prevention, reduction, recycling, and reuse In Africa the population is expected to double in the next 30 years to 2.5 billion. And Africa’s urban population is expected to more than triple over 21 percent of the world’s projected urban population. Water demand is growing for rapidly expanding energy development, agriculture, and urban communities. is vital to driving real change At Airtel Africa, we recognise that no government, organisation or company will achieve the transition to a fairer society and better environmental controls alone. We know collaboration is vital to driving real change – collaboration with intergovernmental organisations (IGOs), non-governmental organisations (NGOs), academics and even our peers to address industry-wide problems. As we roll out our sustainability strategy over the coming years, we will be working in partnerships to deliver every one of our goals. We will inform our stakeholders and audiences on these partnerships as they are formed and update them on progress through our annual We embark on our sustainability journey with four high-level partnerships already in place. These have helped to inform the focus and direction of our strategy and we look forward to growing our collaboration with these esteemed organisations over the coming years. We have signed up to the United Nations Global Compact (UNGC) and intend to be an active member both at a global level and through national UNGC programmes. The UNGC is the world’s largest corporate sustainability initiative. As a special initiative of the UN Secretary-General, the UNGC calls on companies to align strategies and operations with universal principles on human rights, labour, environment and compliance, and take actions that advance societal goals. The UNGC aims to create a world where business is as a force for good, supporting the UN Sustainable Development Goals and a sustainable future for our planet. The UNGC catalyses change, providing member companies with best practices, resources and networking opportunities. Our GSMA #Better Future: Climate Action Pledge The GSMA works with mobile operators in collaboration with partners and international organisations on global climate action solutions. The mobile industry is playing a leading role in tackling climate change, developing a decarbonisation plan and in line with the Paris Agreement target of achieving net zero emissions by 2050. The GSMA is working with participating operators in the mobile industry value chain, and partnering with the international community, climate experts and third-party organisations to advance industry progress, establish best practices, and supporting disclosure and target setting. Airtel Africa also participates in the GSMA Climate Action Taskforce and the Carbon Disclosure Project. We will contribute to the industry commitment through our greenhouse gases reduction goal. UNICEF, also known as the United Nations Children’s Fund, promotes the rights and wellbeing of every child, in everything it does. UNICEF works for the benefit of children everywhere. Together with partners, it provides practical support and programmes focussed on reaching the most vulnerable and excluded children in 190 countries and territories. We have established a landmark five-year partnership to help accelerate digital learning through connecting schools to the internet and ensuring free access to learning platforms across 13 countries in Africa. This partnership is at the heart of ‘Our community’ pillar of the sustainability strategy. Airtel Africa is joining the Joint Audit Cooperation (JAC) to share information on the sustainability and corporate social responsibility (CSR) programmes of common suppliers with global telecommunications peers across the industry. JAC is an association of telecommunications operators aiming to verify, assess and develop sustainability and CSR implementation across the manufacturing centres of important multinational suppliers to the Information Communication Technology (ICT) industry. JAC members share resources and best practices to develop long-term sustainability and CSR implementation throughout the global supply chain. While these partnerships are established at the Group level, we will be building and expanding opportunities to collaborate with a wide range of organisations on the delivery of our sustainability strategy. These organisations will include original equipment manufacturers (OEMs) and original device manufacturers (ODMs), academic institutions, schools and colleges, other corporates, NGOs, our peers in Africa and across the world. We will report on all collaboration and partnerships in our annual sustainability reports. 44Airtel Africa plc Sustainability Strategy 2021 Airtel Money is the brand name for Airtel Africa’s mobile money products and services. The term is used interchangeably with ‘mobile money’ when referring to our mobile money business, finance, operations and activities. A Development Finance Institution is a government-owned or public institution that provide funds for large scale projects where it often becomes unviable for commercial banks to lend. Microcredit is the extension of very small loans (microloans) to predominantly unbanked borrowers who typically lack collateral, steady employment, or a verifiable credit history. It is designed to support entrepreneurship, essential needs of consumers and alleviate poverty. Tackles its own security concerns by enhancing security services to institutions in our operating countries in addition to investing in our own security. This is done by addressing common security concerns, including dealing with transnational piracy, or responding to disasters, etc. A next-generation network is a generic term that describes the evolution and migration of fixed and mobile network infrastructures from distinct, proprietary networks to converged networks based on IP. Definition of rural varies from country to country and denotes the population density per specific site. This includes plastic stirrers, straws, plates (including paper plates with plastic lining), cutlery (forks, knives, spoons and chopsticks), cotton swabs, balloon sticks, oxo-degradable plastics and beverage containers that do not have tethered caps and lids, plastic bags, all forms of polystyrene and polyvinyl chloride (PVC) food and beverage containers, and plastic packaging made of mixed materials (i.e., Farmers supporting a single family with a mixture of cash crops and subsistence farming. These farmers are potentially highly productive in terms of output per land unit. Unstructured supplementary service data (USSD) also known as ‘quick codes’ or ‘feature codes’, is a communications protocol for GSM mobile operators, similar to SMS messaging. It has a variety of uses such as WAP browsing, prepaid call-back services, mobile money services, location-based content services, menu-based information services, and for configuring phones on the network. The user does not have to pay any mobile data charges to access content. CSRCorporate Social Responsibility DevSecOps Development, security and operations DFIDevelopment Finance Institution EHSEnvironment, Health and Safety EMSEnvironmental Management System ERMSEnvironmental Risk Management System ESGEnvironmental, Social and Governance GRIGlobal Reporting Initiative GSMAGlobal System for Mobile Communications Association ICTInformation and communication technology ISOInternational Organisation for Standardisation JACJoint Audit Cooperation NGONon-governmental organisation ODMOriginal Device Manufacturer OEMOriginal Equipment Manufacturer QoEQuality of Experience UN SDGsUnited Nations’ Sustainable Development Goals Airtel Africa plc Sustainability Strategy 202145 53/54 Grosvenor Street London W1K 3HU England\""
      ]
     },
     "execution_count": 22,
     "metadata": {},
     "output_type": "execute_result"
    }
   ],
   "source": [
    "text_0"
   ]
  },
  {
   "cell_type": "code",
   "execution_count": 23,
   "id": "b37a77c6",
   "metadata": {
    "ExecuteTime": {
     "end_time": "2025-02-19T10:48:13.582762Z",
     "start_time": "2025-02-19T10:48:13.574235Z"
    }
   },
   "outputs": [
    {
     "data": {
      "text/plain": [
       "True"
      ]
     },
     "execution_count": 23,
     "metadata": {},
     "output_type": "execute_result"
    }
   ],
   "source": [
    "enc.decode(cacca)==text_0"
   ]
  },
  {
   "cell_type": "markdown",
   "id": "d3e399c1",
   "metadata": {},
   "source": [
    "## Jina in action"
   ]
  },
  {
   "cell_type": "code",
   "execution_count": 38,
   "id": "642561cc",
   "metadata": {
    "ExecuteTime": {
     "end_time": "2025-02-20T09:12:22.054480Z",
     "start_time": "2025-02-20T09:12:18.502362Z"
    }
   },
   "outputs": [],
   "source": [
    "from sentence_transformers import SentenceTransformer, util"
   ]
  },
  {
   "cell_type": "code",
   "execution_count": 39,
   "id": "e0ba5fad",
   "metadata": {
    "ExecuteTime": {
     "end_time": "2025-02-20T09:12:22.063284Z",
     "start_time": "2025-02-20T09:12:22.058981Z"
    }
   },
   "outputs": [],
   "source": [
    "import sentence_transformers"
   ]
  },
  {
   "cell_type": "code",
   "execution_count": 40,
   "id": "b8bfd424",
   "metadata": {
    "ExecuteTime": {
     "end_time": "2025-02-20T09:12:22.148358Z",
     "start_time": "2025-02-20T09:12:22.066285Z"
    }
   },
   "outputs": [
    {
     "data": {
      "text/plain": [
       "'2.7.0'"
      ]
     },
     "execution_count": 40,
     "metadata": {},
     "output_type": "execute_result"
    }
   ],
   "source": [
    "sentence_transformers.__version__"
   ]
  },
  {
   "cell_type": "code",
   "execution_count": 41,
   "id": "4b3d3da3",
   "metadata": {
    "ExecuteTime": {
     "end_time": "2025-02-20T09:12:26.591102Z",
     "start_time": "2025-02-20T09:12:22.153335Z"
    }
   },
   "outputs": [
    {
     "name": "stderr",
     "output_type": "stream",
     "text": [
      "/home/sarawalk/sdgs_py38/lib/python3.8/site-packages/torch/cuda/__init__.py:118: UserWarning: CUDA initialization: The NVIDIA driver on your system is too old (found version 10020). Please update your GPU driver by downloading and installing a new version from the URL: http://www.nvidia.com/Download/index.aspx Alternatively, go to: https://pytorch.org to install a PyTorch version that has been compiled with your version of the CUDA driver. (Triggered internally at ../c10/cuda/CUDAFunctions.cpp:108.)\n",
      "  return torch._C._cuda_getDeviceCount() > 0\n"
     ]
    }
   ],
   "source": [
    "model = SentenceTransformer(\n",
    "    \"jinaai/jina-embeddings-v2-base-en\", \n",
    "    trust_remote_code=True, \n",
    "    token=token)"
   ]
  },
  {
   "cell_type": "code",
   "execution_count": 42,
   "id": "1922a2ee",
   "metadata": {
    "ExecuteTime": {
     "end_time": "2025-02-20T09:12:26.603550Z",
     "start_time": "2025-02-20T09:12:26.594706Z"
    }
   },
   "outputs": [
    {
     "data": {
      "text/plain": [
       "8192"
      ]
     },
     "execution_count": 42,
     "metadata": {},
     "output_type": "execute_result"
    }
   ],
   "source": [
    "model.max_seq_length"
   ]
  },
  {
   "cell_type": "markdown",
   "id": "3bc344d9",
   "metadata": {},
   "source": [
    "Automagically it should divide the text in paragraph and take the average. Let's check..."
   ]
  },
  {
   "cell_type": "markdown",
   "id": "f877fc3d",
   "metadata": {},
   "source": [
    "### Is it true?"
   ]
  },
  {
   "cell_type": "markdown",
   "id": "1cf8d333",
   "metadata": {},
   "source": [
    "#### Embedding the entire text uncut"
   ]
  },
  {
   "cell_type": "code",
   "execution_count": 135,
   "id": "abf54166",
   "metadata": {
    "ExecuteTime": {
     "end_time": "2025-02-21T16:15:20.405731Z",
     "start_time": "2025-02-21T16:15:09.142169Z"
    }
   },
   "outputs": [
    {
     "name": "stderr",
     "output_type": "stream",
     "text": [
      "Exception ignored in: <bound method IPythonKernel._clean_thread_parent_frames of <ipykernel.ipkernel.IPythonKernel object at 0x7f3e19a70b50>>\n",
      "Traceback (most recent call last):\n",
      "  File \"/home/sarawalk/sdgs_py38/lib/python3.8/site-packages/ipykernel/ipkernel.py\", line 775, in _clean_thread_parent_frames\n",
      "    def _clean_thread_parent_frames(\n",
      "KeyboardInterrupt: \n",
      "Exception ignored in: <bound method IPythonKernel._clean_thread_parent_frames of <ipykernel.ipkernel.IPythonKernel object at 0x7f3e19a70b50>>\n",
      "Traceback (most recent call last):\n",
      "  File \"/home/sarawalk/sdgs_py38/lib/python3.8/site-packages/ipykernel/ipkernel.py\", line 775, in _clean_thread_parent_frames\n",
      "    def _clean_thread_parent_frames(\n",
      "KeyboardInterrupt: \n",
      "\n",
      "KeyboardInterrupt\n",
      "\n"
     ]
    }
   ],
   "source": [
    "embedding_uncut = model.encode(text_0, normalize_embeddings=True)"
   ]
  },
  {
   "cell_type": "code",
   "execution_count": null,
   "id": "083f062a",
   "metadata": {
    "ExecuteTime": {
     "end_time": "2025-02-21T16:15:20.412747Z",
     "start_time": "2025-02-21T16:15:20.412721Z"
    }
   },
   "outputs": [],
   "source": [
    "embedding_uncut.shape"
   ]
  },
  {
   "cell_type": "code",
   "execution_count": null,
   "id": "3cd1a5a4",
   "metadata": {
    "ExecuteTime": {
     "start_time": "2025-02-20T09:13:11.003Z"
    }
   },
   "outputs": [],
   "source": [
    "# text uncut\n",
    "with open('./tmp_tuc.pickle', 'wb') as f:\n",
    "    pickle.dump(embedding_uncut, f)"
   ]
  },
  {
   "cell_type": "markdown",
   "id": "55e83123",
   "metadata": {},
   "source": [
    "#### Handmade averaging"
   ]
  },
  {
   "cell_type": "markdown",
   "id": "a60ea651",
   "metadata": {},
   "source": [
    "Let's handle the text as it should:"
   ]
  },
  {
   "cell_type": "code",
   "execution_count": 138,
   "id": "478c3170",
   "metadata": {
    "ExecuteTime": {
     "end_time": "2025-02-21T16:29:23.546779Z",
     "start_time": "2025-02-21T16:16:44.559025Z"
    }
   },
   "outputs": [
    {
     "data": {
      "application/vnd.jupyter.widget-view+json": {
       "model_id": "a68be710ce074073a601204da333a322",
       "version_major": 2,
       "version_minor": 0
      },
      "text/plain": [
       "  0%|          | 0/3 [00:00<?, ?it/s]"
      ]
     },
     "metadata": {},
     "output_type": "display_data"
    },
    {
     "name": "stdout",
     "output_type": "stream",
     "text": [
      "768\n",
      "768\n",
      "768\n"
     ]
    }
   ],
   "source": [
    "embeddings=[]\n",
    "for cut in tqdm(text_0_butchered):\n",
    "    embedding = model.encode(cut, normalize_embeddings=True)\n",
    "    print(len(embedding))\n",
    "    embeddings.append(embedding)"
   ]
  },
  {
   "cell_type": "code",
   "execution_count": 139,
   "id": "04219c62",
   "metadata": {
    "ExecuteTime": {
     "end_time": "2025-02-21T16:29:23.560298Z",
     "start_time": "2025-02-21T16:29:23.553455Z"
    }
   },
   "outputs": [],
   "source": [
    "text_0_butchered_lens=[len(text) for text in text_0_butchered]"
   ]
  },
  {
   "cell_type": "code",
   "execution_count": 140,
   "id": "2e194629",
   "metadata": {
    "ExecuteTime": {
     "end_time": "2025-02-21T16:29:23.646613Z",
     "start_time": "2025-02-21T16:29:23.563871Z"
    }
   },
   "outputs": [
    {
     "data": {
      "text/plain": [
       "[45227, 44389, 12271]"
      ]
     },
     "execution_count": 140,
     "metadata": {},
     "output_type": "execute_result"
    }
   ],
   "source": [
    "text_0_butchered_lens"
   ]
  },
  {
   "cell_type": "code",
   "execution_count": 141,
   "id": "5f35c856",
   "metadata": {
    "ExecuteTime": {
     "end_time": "2025-02-21T16:29:23.736311Z",
     "start_time": "2025-02-21T16:29:23.652681Z"
    }
   },
   "outputs": [],
   "source": [
    "embeddings=np.array(embeddings)"
   ]
  },
  {
   "cell_type": "code",
   "execution_count": 142,
   "id": "98a541b4",
   "metadata": {
    "ExecuteTime": {
     "end_time": "2025-02-21T16:29:23.814258Z",
     "start_time": "2025-02-21T16:29:23.739428Z"
    }
   },
   "outputs": [
    {
     "data": {
      "text/plain": [
       "(3, 768)"
      ]
     },
     "execution_count": 142,
     "metadata": {},
     "output_type": "execute_result"
    }
   ],
   "source": [
    "embeddings.shape"
   ]
  },
  {
   "cell_type": "code",
   "execution_count": 143,
   "id": "a1e81977",
   "metadata": {
    "ExecuteTime": {
     "end_time": "2025-02-21T16:29:23.888585Z",
     "start_time": "2025-02-21T16:29:23.818724Z"
    }
   },
   "outputs": [
    {
     "data": {
      "text/plain": [
       "[1.0, 1.0, 1.0]"
      ]
     },
     "execution_count": 143,
     "metadata": {},
     "output_type": "execute_result"
    }
   ],
   "source": [
    "[norm(embedding) for embedding in embeddings]"
   ]
  },
  {
   "cell_type": "code",
   "execution_count": 144,
   "id": "58c8f8ad",
   "metadata": {
    "ExecuteTime": {
     "end_time": "2025-02-21T16:29:23.960997Z",
     "start_time": "2025-02-21T16:29:23.892142Z"
    }
   },
   "outputs": [],
   "source": [
    "avg_embedding=np.average(embeddings, axis=0, weights=text_0_butchered_lens)"
   ]
  },
  {
   "cell_type": "code",
   "execution_count": 145,
   "id": "1d9c0d3e",
   "metadata": {
    "ExecuteTime": {
     "end_time": "2025-02-21T16:29:24.035913Z",
     "start_time": "2025-02-21T16:29:23.964857Z"
    }
   },
   "outputs": [],
   "source": [
    "avg_embedding/=norm(avg_embedding)"
   ]
  },
  {
   "cell_type": "markdown",
   "id": "2386afd2",
   "metadata": {},
   "source": [
    "Check"
   ]
  },
  {
   "cell_type": "code",
   "execution_count": 146,
   "id": "540dfb03",
   "metadata": {
    "ExecuteTime": {
     "end_time": "2025-02-21T16:29:24.147311Z",
     "start_time": "2025-02-21T16:29:24.040380Z"
    }
   },
   "outputs": [
    {
     "data": {
      "text/plain": [
       "True"
      ]
     },
     "execution_count": 146,
     "metadata": {},
     "output_type": "execute_result"
    }
   ],
   "source": [
    "avg_embedding.shape==embedding_uncut.shape"
   ]
  },
  {
   "cell_type": "code",
   "execution_count": 147,
   "id": "776efc64",
   "metadata": {
    "ExecuteTime": {
     "end_time": "2025-02-21T16:29:24.229809Z",
     "start_time": "2025-02-21T16:29:24.156352Z"
    }
   },
   "outputs": [
    {
     "data": {
      "text/plain": [
       "1.0"
      ]
     },
     "execution_count": 147,
     "metadata": {},
     "output_type": "execute_result"
    }
   ],
   "source": [
    "norm(avg_embedding)"
   ]
  },
  {
   "cell_type": "code",
   "execution_count": 148,
   "id": "e7af09d7",
   "metadata": {
    "ExecuteTime": {
     "end_time": "2025-02-21T16:29:24.327533Z",
     "start_time": "2025-02-21T16:29:24.233762Z"
    }
   },
   "outputs": [],
   "source": [
    "# text with handmade average\n",
    "with open('./tmp_twha.pickle', 'wb') as f:\n",
    "    pickle.dump(avg_embedding, f)"
   ]
  },
  {
   "cell_type": "code",
   "execution_count": 149,
   "id": "db6d7b4b",
   "metadata": {
    "ExecuteTime": {
     "end_time": "2025-02-21T16:29:24.428105Z",
     "start_time": "2025-02-21T16:29:24.330797Z"
    }
   },
   "outputs": [],
   "source": [
    "# all texts' embeddings\n",
    "with open('./tmp_ate.pickle', 'wb') as f:\n",
    "    pickle.dump(embeddings, f)"
   ]
  },
  {
   "cell_type": "markdown",
   "id": "c2b7f5c4",
   "metadata": {},
   "source": [
    "#### Cosine Similarity, dot score and other checks"
   ]
  },
  {
   "cell_type": "markdown",
   "id": "9e5aeb9a",
   "metadata": {},
   "source": [
    "##### Load"
   ]
  },
  {
   "cell_type": "code",
   "execution_count": 167,
   "id": "046fa326",
   "metadata": {
    "ExecuteTime": {
     "end_time": "2025-02-21T16:40:48.605405Z",
     "start_time": "2025-02-21T16:40:48.597362Z"
    }
   },
   "outputs": [],
   "source": [
    "# text uncut\n",
    "with open('./tmp_tuc.pickle', 'rb') as f:\n",
    "    embedding_uncut=pickle.load(f)\n",
    "# all text's embeddings\n",
    "with open('./tmp_ate.pickle', 'rb') as f:\n",
    "    embeddings=pickle.load(f)\n",
    "# text with handmade average\n",
    "with open('./tmp_twha.pickle', 'rb') as f:\n",
    "    avg_embedding=pickle.load(f)"
   ]
  },
  {
   "cell_type": "markdown",
   "id": "ddbcc192",
   "metadata": {},
   "source": [
    "##### Jina automated "
   ]
  },
  {
   "cell_type": "markdown",
   "id": "2ce18ff7",
   "metadata": {},
   "source": [
    "They should not be similar, but let's check:"
   ]
  },
  {
   "cell_type": "code",
   "execution_count": 168,
   "id": "66386536",
   "metadata": {
    "ExecuteTime": {
     "end_time": "2025-02-21T16:40:50.410998Z",
     "start_time": "2025-02-21T16:40:50.406173Z"
    }
   },
   "outputs": [],
   "source": [
    "embedding_0=embeddings[0]"
   ]
  },
  {
   "cell_type": "code",
   "execution_count": 169,
   "id": "175c86dd",
   "metadata": {
    "ExecuteTime": {
     "end_time": "2025-02-21T16:40:50.814446Z",
     "start_time": "2025-02-21T16:40:50.807254Z"
    }
   },
   "outputs": [
    {
     "data": {
      "text/plain": [
       "(1.0, 1.0)"
      ]
     },
     "execution_count": 169,
     "metadata": {},
     "output_type": "execute_result"
    }
   ],
   "source": [
    "norm(embedding_uncut), norm(embedding_0)"
   ]
  },
  {
   "cell_type": "markdown",
   "id": "ee9e3661",
   "metadata": {},
   "source": [
    "Since all vectors are normalized, there is no difference between the cosine similarity and dot similarity (i.e. the dot product):"
   ]
  },
  {
   "cell_type": "code",
   "execution_count": 170,
   "id": "7d215d2d",
   "metadata": {
    "ExecuteTime": {
     "end_time": "2025-02-21T16:40:52.062700Z",
     "start_time": "2025-02-21T16:40:52.049508Z"
    }
   },
   "outputs": [
    {
     "data": {
      "text/plain": [
       "tensor([[1.0000]])"
      ]
     },
     "execution_count": 170,
     "metadata": {},
     "output_type": "execute_result"
    }
   ],
   "source": [
    "util.dot_score(embedding_uncut, embedding_0)"
   ]
  },
  {
   "cell_type": "code",
   "execution_count": 171,
   "id": "816e7c74",
   "metadata": {
    "ExecuteTime": {
     "end_time": "2025-02-21T16:40:53.625447Z",
     "start_time": "2025-02-21T16:40:53.616539Z"
    }
   },
   "outputs": [
    {
     "data": {
      "text/plain": [
       "tensor([[1.0000]])"
      ]
     },
     "execution_count": 171,
     "metadata": {},
     "output_type": "execute_result"
    }
   ],
   "source": [
    "util.cos_sim(embedding_uncut, embedding_0)"
   ]
  },
  {
   "cell_type": "markdown",
   "id": "b8ffe272",
   "metadata": {},
   "source": [
    "Still, they are the same, gosh... Therefore, Jina cuts up to 8192 tokens and that's it. "
   ]
  },
  {
   "cell_type": "markdown",
   "id": "09a32da0",
   "metadata": {
    "ExecuteTime": {
     "end_time": "2025-02-21T16:31:30.949434Z",
     "start_time": "2025-02-21T16:31:30.943127Z"
    }
   },
   "source": [
    "##### Fabio's average"
   ]
  },
  {
   "cell_type": "code",
   "execution_count": 212,
   "id": "ba0db4ca",
   "metadata": {
    "ExecuteTime": {
     "end_time": "2025-02-21T17:11:35.023431Z",
     "start_time": "2025-02-21T17:11:35.016920Z"
    }
   },
   "outputs": [],
   "source": [
    "avg_embedding=np.average(embeddings, axis=0, weights=text_0_butchered_lens)"
   ]
  },
  {
   "cell_type": "code",
   "execution_count": 213,
   "id": "304cb799",
   "metadata": {
    "ExecuteTime": {
     "end_time": "2025-02-21T17:11:35.864963Z",
     "start_time": "2025-02-21T17:11:35.856949Z"
    }
   },
   "outputs": [
    {
     "data": {
      "text/plain": [
       "0.9894095642414317"
      ]
     },
     "execution_count": 213,
     "metadata": {},
     "output_type": "execute_result"
    }
   ],
   "source": [
    "norm(avg_embedding)"
   ]
  },
  {
   "cell_type": "markdown",
   "id": "dd914692",
   "metadata": {},
   "source": [
    "The average is not normalized (as it should, since normalization is quadratic, while the weighted average is linear)."
   ]
  },
  {
   "cell_type": "code",
   "execution_count": 214,
   "id": "48a6387d",
   "metadata": {
    "ExecuteTime": {
     "end_time": "2025-02-21T17:12:16.432676Z",
     "start_time": "2025-02-21T17:12:16.422137Z"
    }
   },
   "outputs": [
    {
     "data": {
      "text/plain": [
       "tensor([[0.9809]], dtype=torch.float64)"
      ]
     },
     "execution_count": 214,
     "metadata": {},
     "output_type": "execute_result"
    }
   ],
   "source": [
    "util.dot_score(embedding_0.astype('f8'), avg_embedding.astype('f8'))"
   ]
  }
 ],
 "metadata": {
  "kernelspec": {
   "display_name": "Python 3 (ipykernel)",
   "language": "python",
   "name": "python3"
  },
  "language_info": {
   "codemirror_mode": {
    "name": "ipython",
    "version": 3
   },
   "file_extension": ".py",
   "mimetype": "text/x-python",
   "name": "python",
   "nbconvert_exporter": "python",
   "pygments_lexer": "ipython3",
   "version": "3.8.10"
  },
  "notify_time": "5",
  "toc": {
   "base_numbering": 1,
   "nav_menu": {},
   "number_sections": true,
   "sideBar": true,
   "skip_h1_title": false,
   "title_cell": "Table of Contents",
   "title_sidebar": "Contents",
   "toc_cell": false,
   "toc_position": {
    "height": "calc(100% - 180px)",
    "left": "10px",
    "top": "150px",
    "width": "288px"
   },
   "toc_section_display": true,
   "toc_window_display": true
  }
 },
 "nbformat": 4,
 "nbformat_minor": 5
}
