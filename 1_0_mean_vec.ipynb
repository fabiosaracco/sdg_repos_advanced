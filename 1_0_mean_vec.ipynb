{
 "cells": [
  {
   "cell_type": "markdown",
   "id": "0d713df1",
   "metadata": {},
   "source": [
    "# Intro"
   ]
  },
  {
   "cell_type": "markdown",
   "id": "3a8075ba",
   "metadata": {},
   "source": [
    "## Premise\n",
    "The issue is always the same: is everything we are doing correct?  \n",
    "The fact that there is a non trivial superposition between Witten's review and all our documents is suspect..."
   ]
  },
  {
   "cell_type": "markdown",
   "id": "ff87b5a3",
   "metadata": {},
   "source": [
    "## Standard modules"
   ]
  },
  {
   "cell_type": "code",
   "execution_count": 1,
   "id": "24d3e262",
   "metadata": {
    "ExecuteTime": {
     "end_time": "2025-04-18T08:49:11.446888Z",
     "start_time": "2025-04-18T08:49:11.351448Z"
    }
   },
   "outputs": [],
   "source": [
    "import os, sys\n",
    "import pathlib\n",
    "import requests"
   ]
  },
  {
   "cell_type": "code",
   "execution_count": 2,
   "id": "420757ca",
   "metadata": {
    "ExecuteTime": {
     "end_time": "2025-04-18T08:49:11.796188Z",
     "start_time": "2025-04-18T08:49:11.622462Z"
    }
   },
   "outputs": [],
   "source": [
    "import numpy as np"
   ]
  },
  {
   "cell_type": "code",
   "execution_count": 3,
   "id": "4f55eea6",
   "metadata": {
    "ExecuteTime": {
     "end_time": "2025-04-18T08:49:13.553090Z",
     "start_time": "2025-04-18T08:49:13.429140Z"
    }
   },
   "outputs": [],
   "source": [
    "from tqdm.auto import tqdm, trange"
   ]
  },
  {
   "cell_type": "code",
   "execution_count": 4,
   "id": "86534835",
   "metadata": {
    "ExecuteTime": {
     "end_time": "2025-04-18T08:49:18.190609Z",
     "start_time": "2025-04-18T08:49:14.769027Z"
    }
   },
   "outputs": [],
   "source": [
    "from sentence_transformers import util"
   ]
  },
  {
   "cell_type": "code",
   "execution_count": 5,
   "id": "280df688",
   "metadata": {
    "ExecuteTime": {
     "end_time": "2025-04-18T08:49:18.871565Z",
     "start_time": "2025-04-18T08:49:18.194204Z"
    }
   },
   "outputs": [],
   "source": [
    "import matplotlib.pyplot as plt\n",
    "plt.rcParams['axes.linewidth'] = 2\n",
    "plt.rcParams['xtick.major.size'] = 10\n",
    "plt.rcParams['xtick.major.width'] = 2\n",
    "plt.rcParams['ytick.major.size'] = 10\n",
    "plt.rcParams['ytick.major.width'] = 2\n",
    "\n",
    "plt.rcParams['xtick.labelsize'] = 14\n",
    "plt.rcParams['ytick.labelsize'] = 14\n",
    "\n",
    "plt.rcParams['xtick.minor.size'] = 5\n",
    "plt.rcParams['xtick.minor.width'] = 1\n",
    "plt.rcParams['ytick.minor.size'] = 5\n",
    "plt.rcParams['ytick.minor.width'] = 1"
   ]
  },
  {
   "cell_type": "code",
   "execution_count": 24,
   "id": "50087613",
   "metadata": {
    "ExecuteTime": {
     "end_time": "2025-04-18T09:13:18.933170Z",
     "start_time": "2025-04-18T09:13:18.494750Z"
    }
   },
   "outputs": [],
   "source": [
    "from sklearn.decomposition import PCA"
   ]
  },
  {
   "cell_type": "markdown",
   "id": "bc94a51c",
   "metadata": {},
   "source": [
    "## Personal modules"
   ]
  },
  {
   "cell_type": "code",
   "execution_count": 6,
   "id": "238468bb",
   "metadata": {
    "ExecuteTime": {
     "end_time": "2025-04-18T08:49:25.242562Z",
     "start_time": "2025-04-18T08:49:25.226813Z"
    }
   },
   "outputs": [],
   "source": [
    "from toolbox.updater import time_is_now"
   ]
  },
  {
   "cell_type": "code",
   "execution_count": 7,
   "id": "b749cb7f",
   "metadata": {
    "ExecuteTime": {
     "end_time": "2025-04-18T08:49:25.413997Z",
     "start_time": "2025-04-18T08:49:25.406095Z"
    }
   },
   "outputs": [],
   "source": [
    "from file2text import file2text"
   ]
  },
  {
   "cell_type": "code",
   "execution_count": 8,
   "id": "2da2fc41",
   "metadata": {
    "ExecuteTime": {
     "end_time": "2025-04-18T08:49:25.610123Z",
     "start_time": "2025-04-18T08:49:25.606728Z"
    }
   },
   "outputs": [],
   "source": [
    "from first_rough_cleaning import first_text_cleaner"
   ]
  },
  {
   "cell_type": "code",
   "execution_count": 9,
   "id": "a5e1c534",
   "metadata": {
    "ExecuteTime": {
     "end_time": "2025-04-18T08:49:25.953237Z",
     "start_time": "2025-04-18T08:49:25.948763Z"
    }
   },
   "outputs": [],
   "source": [
    "from file_handler import *"
   ]
  },
  {
   "cell_type": "code",
   "execution_count": 10,
   "id": "2b0a3e22",
   "metadata": {
    "ExecuteTime": {
     "end_time": "2025-04-18T08:49:31.782030Z",
     "start_time": "2025-04-18T08:49:26.363939Z"
    }
   },
   "outputs": [
    {
     "name": "stderr",
     "output_type": "stream",
     "text": [
      "/home/sarawalk/sdgs_py38/lib/python3.8/site-packages/torch/cuda/__init__.py:118: UserWarning: CUDA initialization: The NVIDIA driver on your system is too old (found version 10020). Please update your GPU driver by downloading and installing a new version from the URL: http://www.nvidia.com/Download/index.aspx Alternatively, go to: https://pytorch.org to install a PyTorch version that has been compiled with your version of the CUDA driver. (Triggered internally at ../c10/cuda/CUDAFunctions.cpp:108.)\n",
      "  return torch._C._cuda_getDeviceCount() > 0\n"
     ]
    }
   ],
   "source": [
    "from jina4lote import jina4lote"
   ]
  },
  {
   "cell_type": "markdown",
   "id": "097b036e",
   "metadata": {},
   "source": [
    "## Folders"
   ]
  },
  {
   "cell_type": "code",
   "execution_count": 11,
   "id": "4876ac9e",
   "metadata": {
    "ExecuteTime": {
     "end_time": "2025-04-18T08:49:34.329287Z",
     "start_time": "2025-04-18T08:49:34.322648Z"
    }
   },
   "outputs": [],
   "source": [
    "VECTOR_FOLDER='./NewProcessedData/vectors/'"
   ]
  },
  {
   "cell_type": "code",
   "execution_count": 12,
   "id": "8f145e87",
   "metadata": {
    "ExecuteTime": {
     "end_time": "2025-04-18T08:49:35.206318Z",
     "start_time": "2025-04-18T08:49:35.200990Z"
    }
   },
   "outputs": [],
   "source": [
    "BENCHMARK_FOLDER='./NewProcessedData/benchmarks/'"
   ]
  },
  {
   "cell_type": "code",
   "execution_count": 113,
   "id": "e61ff16e",
   "metadata": {
    "ExecuteTime": {
     "end_time": "2025-04-18T10:46:56.600674Z",
     "start_time": "2025-04-18T10:46:56.596655Z"
    }
   },
   "outputs": [],
   "source": [
    "PCA_CENTR_VECTOR_FOLDER='./NewProcessedData/pca_centr_vectors/'"
   ]
  },
  {
   "cell_type": "markdown",
   "id": "d10bb099",
   "metadata": {},
   "source": [
    "## Reports' vectors"
   ]
  },
  {
   "cell_type": "code",
   "execution_count": 13,
   "id": "7e37a9a8",
   "metadata": {
    "ExecuteTime": {
     "end_time": "2025-04-18T08:50:32.819476Z",
     "start_time": "2025-04-18T08:50:32.813909Z"
    }
   },
   "outputs": [],
   "source": [
    "vecfiles=os.listdir(VECTOR_FOLDER)"
   ]
  },
  {
   "cell_type": "code",
   "execution_count": 14,
   "id": "b7af1cb3",
   "metadata": {
    "ExecuteTime": {
     "end_time": "2025-04-18T08:50:34.812692Z",
     "start_time": "2025-04-18T08:50:34.807004Z"
    }
   },
   "outputs": [],
   "source": [
    "vecfiles.sort()"
   ]
  },
  {
   "cell_type": "markdown",
   "id": "60d7ef90",
   "metadata": {},
   "source": [
    "## Witten's vector"
   ]
  },
  {
   "cell_type": "code",
   "execution_count": 15,
   "id": "b5544e83",
   "metadata": {
    "ExecuteTime": {
     "end_time": "2025-04-18T08:51:02.276105Z",
     "start_time": "2025-04-18T08:51:02.263981Z"
    }
   },
   "outputs": [],
   "source": [
    "wittenvecfile=[file for file in os.listdir(BENCHMARK_FOLDER) if file.startswith('Witten') and file.endswith('.txt')][0]"
   ]
  },
  {
   "cell_type": "code",
   "execution_count": 16,
   "id": "050cf852",
   "metadata": {
    "ExecuteTime": {
     "end_time": "2025-04-18T08:51:03.213363Z",
     "start_time": "2025-04-18T08:51:02.776005Z"
    }
   },
   "outputs": [],
   "source": [
    "wittenvec=np.genfromtxt(BENCHMARK_FOLDER+wittenvecfile)"
   ]
  },
  {
   "cell_type": "markdown",
   "id": "89dfabca",
   "metadata": {},
   "source": [
    "# Mean vector"
   ]
  },
  {
   "cell_type": "markdown",
   "id": "a4a046e7",
   "metadata": {},
   "source": [
    "## Calculation"
   ]
  },
  {
   "cell_type": "code",
   "execution_count": 17,
   "id": "232c431a",
   "metadata": {
    "ExecuteTime": {
     "end_time": "2025-04-18T08:54:15.413106Z",
     "start_time": "2025-04-18T08:54:13.237472Z"
    }
   },
   "outputs": [
    {
     "data": {
      "application/vnd.jupyter.widget-view+json": {
       "model_id": "b260820302144ed5810c5da6b154d6e4",
       "version_major": 2,
       "version_minor": 0
      },
      "text/plain": [
       "  0%|          | 0/575 [00:00<?, ?it/s]"
      ]
     },
     "metadata": {},
     "output_type": "display_data"
    }
   ],
   "source": [
    "for i, vecfile in enumerate(tqdm(vecfiles)):\n",
    "    if i==0:\n",
    "        mean_vec=np.genfromtxt(VECTOR_FOLDER+vecfile)\n",
    "    else:\n",
    "        mean_vec+=np.genfromtxt(VECTOR_FOLDER+vecfile)\n",
    "mean_vec/=len(vecfiles)"
   ]
  },
  {
   "cell_type": "markdown",
   "id": "0411f029",
   "metadata": {},
   "source": [
    "## Witten is quite close to be mean"
   ]
  },
  {
   "cell_type": "code",
   "execution_count": 18,
   "id": "2d464000",
   "metadata": {
    "ExecuteTime": {
     "end_time": "2025-04-18T08:55:11.884315Z",
     "start_time": "2025-04-18T08:55:11.665659Z"
    }
   },
   "outputs": [
    {
     "data": {
      "text/plain": [
       "tensor([[0.8199]], dtype=torch.float64)"
      ]
     },
     "execution_count": 18,
     "metadata": {},
     "output_type": "execute_result"
    }
   ],
   "source": [
    "util.cos_sim(wittenvec, mean_vec)"
   ]
  },
  {
   "cell_type": "markdown",
   "id": "2f05f927",
   "metadata": {},
   "source": [
    "...which is nice!"
   ]
  },
  {
   "cell_type": "code",
   "execution_count": 19,
   "id": "671e61b6",
   "metadata": {
    "ExecuteTime": {
     "end_time": "2025-04-18T08:56:27.148931Z",
     "start_time": "2025-04-18T08:56:24.450896Z"
    }
   },
   "outputs": [
    {
     "data": {
      "application/vnd.jupyter.widget-view+json": {
       "model_id": "2279bff771354ace999ba95c6cacf283",
       "version_major": 2,
       "version_minor": 0
      },
      "text/plain": [
       "  0%|          | 0/575 [00:00<?, ?it/s]"
      ]
     },
     "metadata": {},
     "output_type": "display_data"
    }
   ],
   "source": [
    "cos_sims=np.zeros(len(vecfiles))\n",
    "for i, vecfile in enumerate(tqdm(vecfiles)):\n",
    "    vec=np.genfromtxt(VECTOR_FOLDER+vecfile)\n",
    "    cos_sim=float(util.cos_sim(wittenvec, vec-mean_vec))\n",
    "    #print(f'{vecfile:})\\tcos={cos_sim:.3f}')\n",
    "    cos_sims[i]=cos_sim"
   ]
  },
  {
   "cell_type": "code",
   "execution_count": 20,
   "id": "d581875f",
   "metadata": {
    "ExecuteTime": {
     "end_time": "2025-04-18T08:56:35.201478Z",
     "start_time": "2025-04-18T08:56:34.803029Z"
    }
   },
   "outputs": [
    {
     "data": {
      "image/png": "[encoded data removed]",
      "text/plain": [
       "<Figure size 640x480 with 1 Axes>"
      ]
     },
     "metadata": {},
     "output_type": "display_data"
    }
   ],
   "source": [
    "plt.hist(cos_sims, edgecolor='black')\n",
    "plt.suptitle('Witten vs. sustainability reports', fontsize=20)\n",
    "plt.xlabel('Cosine similarity', fontsize=16)\n",
    "plt.show()"
   ]
  },
  {
   "cell_type": "markdown",
   "id": "4f82d25d",
   "metadata": {},
   "source": [
    "That's much better. "
   ]
  },
  {
   "cell_type": "markdown",
   "id": "0109ec19",
   "metadata": {},
   "source": [
    "# PCA"
   ]
  },
  {
   "cell_type": "markdown",
   "id": "c25ac47f",
   "metadata": {},
   "source": [
    "The dimension fo the embedding is the same for all vectors:"
   ]
  },
  {
   "cell_type": "code",
   "execution_count": 21,
   "id": "09c81953",
   "metadata": {
    "ExecuteTime": {
     "end_time": "2025-04-18T09:11:36.754487Z",
     "start_time": "2025-04-18T09:11:36.747218Z"
    }
   },
   "outputs": [
    {
     "data": {
      "text/plain": [
       "768"
      ]
     },
     "execution_count": 21,
     "metadata": {},
     "output_type": "execute_result"
    }
   ],
   "source": [
    "len(wittenvec)"
   ]
  },
  {
   "cell_type": "code",
   "execution_count": 22,
   "id": "267307a4",
   "metadata": {
    "ExecuteTime": {
     "end_time": "2025-04-18T09:12:26.991005Z",
     "start_time": "2025-04-18T09:12:26.985732Z"
    }
   },
   "outputs": [],
   "source": [
    "vecs=np.zeros((len(vecfiles), len(wittenvec)))"
   ]
  },
  {
   "cell_type": "code",
   "execution_count": 23,
   "id": "831fddfd",
   "metadata": {
    "ExecuteTime": {
     "end_time": "2025-04-18T09:12:45.406275Z",
     "start_time": "2025-04-18T09:12:42.788827Z"
    }
   },
   "outputs": [
    {
     "data": {
      "application/vnd.jupyter.widget-view+json": {
       "model_id": "",
       "version_major": 2,
       "version_minor": 0
      },
      "text/plain": [
       "  0%|          | 0/575 [00:00<?, ?it/s]"
      ]
     },
     "metadata": {},
     "output_type": "display_data"
    }
   ],
   "source": [
    "for i, vecfile in enumerate(tqdm(vecfiles)):\n",
    "    vec=np.genfromtxt(VECTOR_FOLDER+vecfile)\n",
    "    vecs[i]=vec"
   ]
  },
  {
   "cell_type": "markdown",
   "id": "385b7d84",
   "metadata": {},
   "source": [
    "## Taking everything"
   ]
  },
  {
   "cell_type": "code",
   "execution_count": 76,
   "id": "657d7e21",
   "metadata": {
    "ExecuteTime": {
     "end_time": "2025-04-18T09:36:27.675444Z",
     "start_time": "2025-04-18T09:36:27.343674Z"
    }
   },
   "outputs": [],
   "source": [
    "pca = PCA()\n",
    "new_vecs=pca.fit_transform(vecs)"
   ]
  },
  {
   "cell_type": "code",
   "execution_count": 77,
   "id": "447f8d6e",
   "metadata": {
    "ExecuteTime": {
     "end_time": "2025-04-18T09:36:28.615428Z",
     "start_time": "2025-04-18T09:36:27.706695Z"
    }
   },
   "outputs": [
    {
     "data": {
      "image/png": "[encoded data removed]",
      "text/plain": [
       "<Figure size 640x480 with 1 Axes>"
      ]
     },
     "metadata": {},
     "output_type": "display_data"
    }
   ],
   "source": [
    "plt.scatter(np.arange(len(vecfiles)), np.cumsum(pca.explained_variance_ratio_))\n",
    "plt.hlines(0.90, 1, 1000, ls='--', color='red')\n",
    "plt.xscale('log')\n",
    "plt.yscale('log')\n",
    "plt.ylabel('PCA explained variance (cumulative)', fontsize=16)\n",
    "plt.show()"
   ]
  },
  {
   "cell_type": "code",
   "execution_count": 80,
   "id": "8fd46eae",
   "metadata": {
    "ExecuteTime": {
     "end_time": "2025-04-18T09:36:56.331338Z",
     "start_time": "2025-04-18T09:36:56.324113Z"
    }
   },
   "outputs": [
    {
     "data": {
      "text/plain": [
       "63"
      ]
     },
     "execution_count": 80,
     "metadata": {},
     "output_type": "execute_result"
    }
   ],
   "source": [
    "np.where(np.cumsum(pca.explained_variance_ratio_)<=.90)[0][-1]"
   ]
  },
  {
   "cell_type": "code",
   "execution_count": 78,
   "id": "cc2aae6e",
   "metadata": {
    "ExecuteTime": {
     "end_time": "2025-04-18T09:36:30.933233Z",
     "start_time": "2025-04-18T09:36:30.922862Z"
    }
   },
   "outputs": [
    {
     "data": {
      "text/plain": [
       "87"
      ]
     },
     "execution_count": 78,
     "metadata": {},
     "output_type": "execute_result"
    }
   ],
   "source": [
    "np.where(np.cumsum(pca.explained_variance_ratio_)<=.95)[0][-1]"
   ]
  },
  {
   "cell_type": "code",
   "execution_count": 79,
   "id": "d7b483bf",
   "metadata": {
    "ExecuteTime": {
     "end_time": "2025-04-18T09:36:42.985978Z",
     "start_time": "2025-04-18T09:36:42.977960Z"
    }
   },
   "outputs": [
    {
     "data": {
      "text/plain": [
       "160"
      ]
     },
     "execution_count": 79,
     "metadata": {},
     "output_type": "execute_result"
    }
   ],
   "source": [
    "np.where(np.cumsum(pca.explained_variance_ratio_)<=.99)[0][-1]"
   ]
  },
  {
   "cell_type": "markdown",
   "id": "f2e9ee92",
   "metadata": {},
   "source": [
    "## Dimensional reduction"
   ]
  },
  {
   "cell_type": "code",
   "execution_count": 81,
   "id": "e94915b5",
   "metadata": {
    "ExecuteTime": {
     "end_time": "2025-04-18T09:37:54.207036Z",
     "start_time": "2025-04-18T09:37:52.844692Z"
    }
   },
   "outputs": [],
   "source": [
    "pca = PCA(n_components=63)\n",
    "new_vecs=pca.fit_transform(vecs)"
   ]
  },
  {
   "cell_type": "code",
   "execution_count": 82,
   "id": "6dc904ac",
   "metadata": {
    "ExecuteTime": {
     "end_time": "2025-04-18T09:38:02.773833Z",
     "start_time": "2025-04-18T09:38:01.877415Z"
    }
   },
   "outputs": [
    {
     "data": {
      "image/png": "[encoded data removed]",
      "text/plain": [
       "<Figure size 640x480 with 1 Axes>"
      ]
     },
     "metadata": {},
     "output_type": "display_data"
    }
   ],
   "source": [
    "plt.scatter(np.arange(63), np.cumsum(pca.explained_variance_ratio_))\n",
    "plt.hlines(0.90, 1, 1000, ls='--', color='red')\n",
    "plt.xscale('log')\n",
    "plt.yscale('log')\n",
    "plt.ylabel('PCA explained variance (cumulative)', fontsize=16)\n",
    "plt.show()"
   ]
  },
  {
   "cell_type": "markdown",
   "id": "548d12b7",
   "metadata": {},
   "source": [
    "## Check with Witten"
   ]
  },
  {
   "cell_type": "code",
   "execution_count": 88,
   "id": "3e96d9b4",
   "metadata": {
    "ExecuteTime": {
     "end_time": "2025-04-18T09:43:24.443126Z",
     "start_time": "2025-04-18T09:43:24.416941Z"
    }
   },
   "outputs": [
    {
     "data": {
      "text/plain": [
       "array([-3.02811189e-02, -3.81932141e-02,  5.04839207e-02, -8.00098124e-03,\n",
       "       -3.53469865e-02, -3.23630692e-03, -6.81020060e-03, -2.89417768e-02,\n",
       "        5.92756829e-02,  8.08559115e-03, -1.55386966e-02, -9.66650055e-03,\n",
       "       -3.56608460e-02, -6.64788847e-03, -4.35948768e-02,  7.00658821e-02,\n",
       "       -1.15720409e-02,  6.07534971e-03,  6.03255241e-03, -9.20716491e-03,\n",
       "       -1.40867959e-02, -3.93993677e-02, -3.48379897e-02, -9.90491321e-03,\n",
       "        2.00452551e-02, -1.42847605e-03,  5.88203656e-02,  2.48458379e-02,\n",
       "        4.49237034e-02,  3.21563627e-02,  2.96030887e-03, -2.53623230e-02,\n",
       "       -4.41500462e-02,  1.02410977e-02,  2.29212367e-04, -6.59512065e-02,\n",
       "       -1.54529956e-02, -1.65040052e-03,  7.72846153e-02,  6.11668911e-02,\n",
       "       -2.46362986e-02,  5.33290305e-03,  1.44023294e-02,  6.18857648e-02,\n",
       "       -5.30239550e-02, -9.63267495e-03, -1.90574004e-02,  1.46386031e-02,\n",
       "       -2.03105476e-02, -4.04475940e-02, -2.31404802e-02, -3.59528446e-02,\n",
       "        2.79525956e-03, -5.64746193e-02,  2.17616990e-02, -1.97338442e-04,\n",
       "        6.21214877e-02,  6.61720951e-03, -3.26346671e-02, -2.30471708e-02,\n",
       "       -7.43391931e-02,  8.27127390e-02, -2.79492860e-02,  5.31379301e-02,\n",
       "        3.22637610e-02,  1.70363287e-02, -2.23847364e-02, -3.42821583e-02,\n",
       "       -5.52223572e-02, -2.19898706e-02,  4.41702077e-03,  3.28990522e-02,\n",
       "       -2.49838604e-02,  3.62717634e-03,  1.76886460e-02,  5.69511201e-02,\n",
       "       -3.81876590e-02, -2.90790946e-02, -5.21821710e-02, -1.99388322e-02,\n",
       "        3.63576101e-02,  2.22451256e-02,  1.64853200e-02, -9.55896607e-03,\n",
       "       -4.20710289e-02, -1.57207443e-02, -2.73696884e-02,  6.34752722e-03,\n",
       "        3.20776246e-02, -1.33770048e-02, -2.57979400e-02,  3.89600836e-02,\n",
       "       -6.83764432e-03,  3.63335740e-02,  1.79977712e-02, -3.28954600e-02,\n",
       "        7.08513160e-03, -3.51393956e-02, -2.16563411e-02,  1.33502183e-02,\n",
       "        3.81675200e-02,  8.16381521e-03,  6.79675090e-03, -1.02994900e-02,\n",
       "        2.44774163e-03,  7.88856768e-03, -5.65076932e-05, -3.57839624e-02,\n",
       "       -3.52497327e-02,  1.45775153e-02, -4.81577764e-02, -6.07674768e-03,\n",
       "        2.41929230e-02, -3.83938274e-02, -2.21590392e-02, -2.13717732e-02,\n",
       "        4.75917764e-02, -3.61774608e-02, -3.12937795e-02,  2.24688575e-02,\n",
       "       -3.94344379e-02,  7.54087451e-03,  1.81490921e-02, -5.97848827e-02,\n",
       "        3.91909417e-02,  2.60820270e-02,  4.75642697e-02,  4.74400835e-03,\n",
       "       -1.01530490e-02,  6.19609985e-03,  1.74426884e-02, -4.44980590e-02,\n",
       "        2.59526594e-02, -1.85794372e-02, -1.14961963e-02, -2.55971734e-02,\n",
       "       -1.29394928e-02,  9.82768669e-03, -2.72170050e-02, -4.83523369e-03,\n",
       "       -6.45107872e-02,  5.63472104e-03, -1.57876275e-02, -4.18630423e-02,\n",
       "       -2.79127905e-02, -7.10612882e-03, -4.34612438e-02,  3.58742012e-02,\n",
       "        8.84307341e-03, -6.71138577e-02,  1.90486737e-02, -1.85125971e-02,\n",
       "       -2.39335585e-02, -1.32100909e-02,  2.42471302e-03, -4.07942491e-03,\n",
       "        2.09750532e-02, -3.07697224e-02,  8.03729836e-03, -2.77640418e-02,\n",
       "        4.94431846e-03, -5.18253250e-02, -2.85479673e-02,  4.13532111e-02,\n",
       "       -3.08787564e-02,  9.24611149e-02,  3.41984660e-02, -1.49598001e-02,\n",
       "       -3.58763530e-02, -6.69816661e-02,  1.20398713e-02,  9.67076100e-04,\n",
       "       -4.47094233e-02, -2.84556512e-02,  5.66427989e-03, -4.64706576e-02,\n",
       "       -1.70533615e-02,  3.29382653e-02, -3.88062029e-02,  1.10385042e-02,\n",
       "       -5.90796066e-03,  3.05628249e-02,  6.69714713e-02,  2.48866991e-02,\n",
       "        5.69252653e-02, -2.02501655e-02,  3.34317605e-02,  1.96088547e-02,\n",
       "        2.20834389e-02,  1.97238108e-02, -1.99164809e-02, -5.96767468e-02,\n",
       "       -2.67615277e-02,  3.85465891e-02,  5.96983985e-02, -3.52261004e-02,\n",
       "        4.32973919e-02, -1.17697727e-02, -3.71079162e-02, -2.04805814e-02,\n",
       "       -7.16061672e-03,  1.04997336e-02,  1.18080751e-02,  2.38969752e-02,\n",
       "       -3.42599691e-02, -4.69283294e-02, -7.90633551e-02,  1.34596944e-02,\n",
       "       -4.55104825e-02,  2.52880053e-03, -1.07768717e-02,  1.87895845e-02,\n",
       "       -2.31739393e-03,  4.61499887e-02, -4.50103202e-02,  6.97334575e-03,\n",
       "        1.30693853e-02, -1.34384861e-02,  4.24836817e-02,  5.94626211e-02,\n",
       "        8.36175457e-03, -4.20052729e-02, -2.10813866e-02, -1.81776630e-02,\n",
       "       -9.37630107e-02,  2.73937188e-02, -5.14567817e-03, -2.92569939e-02,\n",
       "        1.17726101e-02,  1.57906583e-02, -5.71810061e-02,  4.51630390e-02,\n",
       "        3.40370395e-03, -1.79376799e-02,  3.26625386e-02, -2.71542075e-02,\n",
       "        1.41790552e-02, -7.25870661e-02, -1.19166640e-02, -1.85723382e-04,\n",
       "       -1.54575148e-02, -6.33337553e-02,  2.04715428e-02, -1.02201328e-02,\n",
       "        6.44118824e-03, -1.66555149e-02,  1.70906594e-02, -4.36114406e-02,\n",
       "       -1.07894113e-02,  3.84608488e-03, -1.12532943e-02, -2.14968850e-02,\n",
       "        3.69187162e-02, -1.84138583e-02,  1.03395067e-02,  6.22827949e-02,\n",
       "       -6.80891273e-02,  3.10185304e-02,  4.39404543e-03, -1.49054876e-02,\n",
       "        6.79234843e-02, -3.71972173e-02, -2.00942480e-02, -3.45223688e-02,\n",
       "        2.58654342e-02, -7.10230807e-02,  1.81627422e-02,  3.24585927e-02,\n",
       "       -4.89373916e-02,  1.86647919e-02,  9.31698698e-03, -3.67493339e-02,\n",
       "       -9.29528567e-03, -3.14500836e-02,  3.11945994e-02,  5.74824207e-02,\n",
       "       -1.74385860e-02,  1.90888979e-02,  3.50206469e-02,  3.03585697e-02,\n",
       "       -3.78636554e-02, -6.58687436e-02, -1.52041614e-02, -2.92354238e-02,\n",
       "       -5.79728781e-02,  3.74732984e-03, -1.79946433e-02, -5.13801105e-02,\n",
       "        1.11076655e-02, -2.40913530e-02, -1.75469634e-02,  9.24852903e-03,\n",
       "        1.16388096e-02,  1.43158742e-02, -1.95486566e-02,  2.00813428e-02,\n",
       "        7.84543441e-04, -1.58930063e-02,  9.99783418e-04, -2.20956453e-02,\n",
       "        2.88887798e-02, -5.16684888e-03, -9.93510730e-03, -4.70238369e-02,\n",
       "        4.09589065e-02,  2.20223314e-02,  3.23487995e-02,  4.58577317e-02,\n",
       "        4.07909888e-02, -3.82989835e-02,  2.47972293e-02, -3.16496467e-02,\n",
       "       -3.14032275e-02, -3.99782950e-02, -7.82410980e-04, -4.62737433e-02,\n",
       "       -5.19103273e-02,  5.34278076e-02,  4.11987711e-02, -1.53930081e-02,\n",
       "        5.33641951e-02,  3.05032979e-02, -2.99676085e-02,  7.53847594e-02,\n",
       "        4.01192782e-02,  6.26042666e-03,  3.85325026e-02, -4.27092536e-02,\n",
       "        3.98058567e-02, -5.68524293e-02, -4.42103068e-04, -2.72338424e-02,\n",
       "       -3.58066285e-02, -7.57487038e-02, -1.23336310e-02,  5.41358191e-02,\n",
       "        6.27907468e-02, -4.33172590e-02,  1.68113396e-02, -2.57115871e-02,\n",
       "        1.88757181e-02,  6.99930569e-02,  3.23376274e-02,  8.69268447e-03,\n",
       "        5.74567926e-03,  5.75270459e-03, -1.14310674e-02, -5.89384208e-02,\n",
       "       -1.21081679e-02,  7.49180708e-02,  2.37812962e-02,  7.75375143e-02,\n",
       "        4.45297998e-02,  8.28380154e-02,  1.88222609e-02, -1.14156595e-03,\n",
       "       -3.75516631e-02,  5.59155672e-02,  1.96384940e-02, -6.30866421e-02,\n",
       "       -3.96789384e-02, -3.97932812e-02, -7.80352211e-02,  1.73004738e-02,\n",
       "       -1.49568907e-02, -7.21866554e-02,  6.48017334e-02,  1.37475982e-02,\n",
       "       -3.07391137e-02,  2.24969987e-02, -6.54003690e-02,  2.44987330e-02,\n",
       "        1.03213223e-02, -2.13394116e-02, -4.39761102e-02, -5.93673371e-02,\n",
       "        4.97887280e-02,  6.37015249e-03,  3.20512771e-03,  6.13057420e-03,\n",
       "       -1.14152039e-02,  8.12021401e-02, -6.42044014e-02,  5.25464618e-02,\n",
       "       -2.18100708e-02,  1.51175504e-02,  4.57908480e-02,  3.45454487e-02,\n",
       "        2.52359813e-02,  2.64890013e-02,  8.17338141e-03, -1.81714789e-03,\n",
       "        3.90233136e-02, -5.61699285e-02, -4.30176022e-02,  4.32987970e-02,\n",
       "       -6.70008097e-02, -4.14373832e-02, -4.74126044e-02, -2.61132845e-02,\n",
       "        6.05000796e-03,  1.90042813e-02,  3.28227836e-02,  4.65347878e-02,\n",
       "        2.24551203e-02,  1.71333973e-02,  6.20320186e-02, -1.21349122e-02,\n",
       "        1.49608363e-02,  4.05246132e-02, -5.53462611e-03, -2.88827382e-02,\n",
       "        7.20745703e-02,  3.17482075e-02,  2.69723498e-02,  4.76481517e-02,\n",
       "        1.49017573e-02, -7.83263417e-03, -1.97031346e-02,  2.83678697e-03,\n",
       "        2.01754423e-02, -7.09320959e-02, -8.73958543e-03, -2.99534665e-02,\n",
       "       -1.19658613e-02, -2.22859674e-02, -1.19969331e-02, -1.48788754e-02,\n",
       "       -4.82122695e-02, -1.65991104e-02, -1.13617129e-04,  6.22579515e-03,\n",
       "        3.80724601e-02, -6.72993857e-02,  1.17612298e-03, -4.43338292e-02,\n",
       "        2.71943066e-02,  4.81374706e-02,  7.68664964e-03,  2.22978010e-02,\n",
       "       -3.77794785e-02, -2.43381937e-02,  1.13557114e-02, -2.07117760e-02,\n",
       "       -9.00683634e-02, -5.20123749e-03, -7.06717944e-04,  5.28511389e-02,\n",
       "        4.80853620e-02,  1.86040947e-02,  6.35912592e-02, -9.80012622e-03,\n",
       "        6.12351123e-02,  4.24090364e-02, -7.71057577e-02,  2.01950461e-02,\n",
       "       -1.07330800e-02, -7.37981853e-04,  3.57202950e-02,  4.48205442e-02,\n",
       "       -2.91907771e-02, -4.15396881e-02, -7.78626024e-02, -3.96584568e-02,\n",
       "        2.80716993e-02,  1.47901516e-02,  1.37079776e-03, -3.22911684e-03,\n",
       "        1.27439614e-02, -4.82771464e-03,  1.68522624e-02, -5.29909674e-02,\n",
       "       -4.69007704e-02, -1.61045161e-02,  9.61833915e-03, -1.37400846e-02,\n",
       "       -2.84534410e-02, -1.59257043e-02, -2.91844187e-02,  5.47866853e-02,\n",
       "        3.34748704e-02,  8.32722947e-02,  3.29469498e-02, -1.98794812e-02,\n",
       "       -2.30626044e-02,  1.90443948e-02,  6.02519483e-02,  8.15389987e-02,\n",
       "       -3.27792631e-02,  4.05781290e-02,  8.20090596e-03, -2.71080402e-02,\n",
       "        3.78385848e-02,  2.30329311e-03, -6.73941380e-03, -9.95844585e-03,\n",
       "        4.05390346e-02,  5.52860621e-02,  9.59463028e-03, -7.06498215e-03,\n",
       "        1.12038434e-02,  6.40139832e-03, -1.00623670e-02, -3.80702045e-02,\n",
       "        3.02942016e-03, -9.18580614e-03,  3.59931093e-02,  4.00696382e-02,\n",
       "        6.60981812e-03,  3.03524764e-02, -5.82887851e-02,  8.91961619e-03,\n",
       "        4.66682309e-02, -2.86541237e-02, -3.77814979e-02,  3.80984639e-02,\n",
       "       -2.72958404e-02, -1.07396075e-02,  3.17024319e-02, -3.65401954e-02,\n",
       "       -3.40694202e-02,  3.73014682e-02,  3.88485682e-02,  5.01989141e-02,\n",
       "       -2.05785073e-02,  1.67698861e-02,  3.93357073e-02,  4.14344693e-02,\n",
       "       -3.78115556e-03,  2.96811324e-02, -2.63687435e-02, -6.27453307e-02,\n",
       "        2.44146607e-03, -3.84785525e-02, -1.02842991e-02, -1.12866404e-02,\n",
       "       -5.71156916e-02, -1.19945241e-02, -3.73662929e-02, -1.83959798e-02,\n",
       "        1.93847926e-02,  1.02195412e-02, -3.60782392e-02, -1.25784526e-03,\n",
       "        3.15374129e-03,  4.90728973e-02, -6.35995433e-02,  4.35533485e-02,\n",
       "        3.07557480e-02, -2.40308090e-02, -6.23098172e-02, -1.11407653e-02,\n",
       "       -6.71005149e-03, -7.12519290e-02,  3.96909985e-02, -2.68073989e-02,\n",
       "        8.39532548e-03, -1.90065912e-03, -5.04340642e-02, -9.57808489e-02,\n",
       "        7.12724983e-02,  2.40583872e-02, -1.83000801e-02,  1.57798110e-02,\n",
       "       -1.17073377e-02,  4.81954395e-02,  1.09669513e-02,  1.13066896e-02,\n",
       "        2.25779287e-02,  3.88969617e-02, -1.43625453e-02, -5.45181974e-02,\n",
       "        9.28198225e-03, -1.10276638e-02,  7.46157199e-03,  5.41108833e-02,\n",
       "       -4.97397508e-02,  7.33223814e-02, -1.57777732e-02, -3.21360787e-02,\n",
       "        1.39441344e-03,  5.18270900e-02,  1.17537916e-02, -1.33217003e-03,\n",
       "        4.96962794e-02,  6.80842576e-02,  5.58057861e-02,  4.49160708e-03,\n",
       "        8.97678283e-02, -3.80885933e-02,  4.23243712e-02,  3.50517805e-02,\n",
       "        6.08090518e-03,  5.44220135e-02,  5.48780802e-02, -6.62844365e-02,\n",
       "        3.98906275e-02,  3.94637573e-02,  2.37838339e-02,  5.64591291e-02,\n",
       "        4.25394787e-02, -2.50960786e-02, -2.51411256e-02,  1.68306089e-02,\n",
       "       -5.12457681e-02,  7.78612101e-03,  1.64722046e-02, -2.32600911e-02,\n",
       "       -1.68359065e-02,  2.09109473e-03, -5.93739011e-04, -3.17112977e-02,\n",
       "       -1.79568562e-02,  4.24615116e-02,  2.14294539e-02, -3.31235453e-02,\n",
       "        7.24866792e-02,  4.57109860e-03,  3.42175697e-02, -5.25486242e-02,\n",
       "        4.62433145e-03, -1.39324862e-02,  1.61582342e-02, -2.03925129e-02,\n",
       "       -5.24730343e-02,  1.07029119e-02, -3.83497795e-02, -2.37876920e-02,\n",
       "        1.10167655e-02,  4.24178696e-02, -2.13871046e-02, -2.89242030e-02,\n",
       "        6.97289021e-03,  8.70755111e-03,  3.32882309e-02,  2.90001805e-02,\n",
       "       -3.09193669e-02, -9.82244932e-04,  6.15145883e-03, -2.62515277e-02,\n",
       "        2.09069785e-02,  9.48887068e-03,  1.03426042e-02,  4.02743966e-02,\n",
       "        3.41112334e-02,  8.53392825e-03,  4.59335555e-02, -6.24015316e-02,\n",
       "        3.54510751e-02, -5.12467689e-02, -6.23052048e-02, -5.51153853e-02,\n",
       "        1.98318042e-02,  1.28520954e-02, -1.67177361e-02,  4.73918254e-02,\n",
       "        4.28389477e-02,  5.81742189e-02, -3.33525311e-03,  6.17474478e-02,\n",
       "       -1.77390988e-02,  3.47431986e-02, -3.53737582e-02,  1.27708585e-02,\n",
       "       -4.07179691e-02, -5.54402924e-03, -3.37644769e-03, -8.29412420e-02,\n",
       "       -4.84611216e-03,  5.36085103e-02, -2.25827905e-02, -5.26039829e-03,\n",
       "        7.51515650e-02,  4.83370624e-02, -4.49198266e-03, -1.09784555e-03,\n",
       "        1.89754982e-02,  1.56766644e-02,  7.96657659e-03,  6.81087206e-02,\n",
       "        5.57170909e-02, -4.42628032e-02,  2.00170409e-02, -3.86637780e-02,\n",
       "       -3.09570176e-02, -1.07896890e-02, -3.51143423e-02, -2.50114809e-02,\n",
       "       -7.08333984e-02, -2.77530926e-02, -5.22343715e-02,  6.23934563e-03,\n",
       "        4.50773878e-02,  5.58250882e-02, -5.24783296e-02, -3.50841789e-02,\n",
       "       -1.85460816e-03,  2.50340384e-02, -3.37184555e-02, -2.10892774e-02,\n",
       "        2.29244278e-02,  1.11557815e-02, -2.33371368e-02,  1.41495737e-02,\n",
       "        2.12098871e-02,  2.90173755e-02, -2.97299085e-02, -2.53646254e-02,\n",
       "       -1.07576009e-02,  2.15661167e-02,  3.46942673e-02,  4.42877630e-02,\n",
       "       -3.17296654e-02, -1.79917217e-02, -2.71993932e-02, -1.29624129e-02,\n",
       "        7.73149417e-03,  4.15432290e-02, -3.75259159e-02,  3.52418722e-02,\n",
       "        6.89533063e-02,  1.22961361e-02,  5.74643270e-02, -2.66506897e-02,\n",
       "        2.10918931e-02, -2.21736174e-02,  2.18953514e-02,  4.55783373e-03,\n",
       "        2.91033083e-02, -7.25573346e-03, -2.91072501e-02,  2.57975050e-02,\n",
       "        3.60468103e-02, -4.03855426e-02, -7.84803162e-02,  2.55363497e-02,\n",
       "       -9.51126846e-02, -1.71344046e-02,  6.85961786e-02,  9.97242093e-03,\n",
       "       -2.23066266e-02,  1.04137350e-03,  2.47592377e-02,  2.05345121e-02,\n",
       "       -2.39021631e-02,  5.22482728e-02,  4.51799053e-02, -1.55986968e-02,\n",
       "       -3.05452517e-03, -4.00201198e-02,  1.65238239e-02,  3.60703571e-02,\n",
       "       -2.52384490e-02, -4.25907788e-02,  1.73820322e-02,  2.93053815e-02,\n",
       "        5.51565183e-02,  8.27111473e-02,  1.52821907e-03,  2.90133963e-02,\n",
       "        1.15806647e-02,  3.34642213e-03,  2.80801364e-02, -6.49093960e-03,\n",
       "       -3.94649836e-02,  1.53364942e-02, -3.19629569e-03, -3.74042183e-02])"
      ]
     },
     "execution_count": 88,
     "metadata": {},
     "output_type": "execute_result"
    }
   ],
   "source": [
    "wittenvec.T"
   ]
  },
  {
   "cell_type": "code",
   "execution_count": 90,
   "id": "45454ab3",
   "metadata": {
    "ExecuteTime": {
     "end_time": "2025-04-18T09:43:45.643574Z",
     "start_time": "2025-04-18T09:43:45.629447Z"
    }
   },
   "outputs": [],
   "source": [
    "new_wittenvec = pca.transform([wittenvec])"
   ]
  },
  {
   "cell_type": "code",
   "execution_count": 91,
   "id": "ac7d4a2f",
   "metadata": {
    "ExecuteTime": {
     "end_time": "2025-04-18T09:44:44.752547Z",
     "start_time": "2025-04-18T09:44:44.572277Z"
    }
   },
   "outputs": [
    {
     "data": {
      "application/vnd.jupyter.widget-view+json": {
       "model_id": "",
       "version_major": 2,
       "version_minor": 0
      },
      "text/plain": [
       "  0%|          | 0/575 [00:00<?, ?it/s]"
      ]
     },
     "metadata": {},
     "output_type": "display_data"
    }
   ],
   "source": [
    "pca_cos_sims=np.zeros(len(vecfiles))\n",
    "for i, vecfile in enumerate(tqdm(vecfiles)):\n",
    "    cos_sim=float(util.cos_sim(new_wittenvec, new_vecs[i]))\n",
    "    #print(f'{vecfile:})\\tcos={cos_sim:.3f}')\n",
    "    pca_cos_sims[i]=cos_sim"
   ]
  },
  {
   "cell_type": "code",
   "execution_count": 95,
   "id": "0eb7b261",
   "metadata": {
    "ExecuteTime": {
     "end_time": "2025-04-18T09:45:41.455409Z",
     "start_time": "2025-04-18T09:45:41.149703Z"
    }
   },
   "outputs": [
    {
     "data": {
      "image/png": "[encoded data removed]",
      "text/plain": [
       "<Figure size 640x480 with 1 Axes>"
      ]
     },
     "metadata": {},
     "output_type": "display_data"
    }
   ],
   "source": [
    "plt.hist(pca_cos_sims, edgecolor='black')\n",
    "plt.suptitle('Witten vs. sustainability reports\\nafter PCA reduction', fontsize=20, y=1.05)\n",
    "plt.xlabel('Cosine similarity', fontsize=16)\n",
    "plt.show()"
   ]
  },
  {
   "cell_type": "markdown",
   "id": "7fefd776",
   "metadata": {},
   "source": [
    "# Mean vector AND PCA"
   ]
  },
  {
   "cell_type": "code",
   "execution_count": 96,
   "id": "f828679b",
   "metadata": {
    "ExecuteTime": {
     "end_time": "2025-04-18T10:13:40.983080Z",
     "start_time": "2025-04-18T10:13:40.976803Z"
    }
   },
   "outputs": [],
   "source": [
    "no_mean_vecs=np.zeros((len(vecfiles), len(wittenvec)))"
   ]
  },
  {
   "cell_type": "code",
   "execution_count": 97,
   "id": "bcf43c69",
   "metadata": {
    "ExecuteTime": {
     "end_time": "2025-04-18T10:13:43.624201Z",
     "start_time": "2025-04-18T10:13:41.432815Z"
    }
   },
   "outputs": [
    {
     "data": {
      "application/vnd.jupyter.widget-view+json": {
       "model_id": "4ab3da1d75434f61ae8a55410e4a9f77",
       "version_major": 2,
       "version_minor": 0
      },
      "text/plain": [
       "  0%|          | 0/575 [00:00<?, ?it/s]"
      ]
     },
     "metadata": {},
     "output_type": "display_data"
    }
   ],
   "source": [
    "for i, vecfile in enumerate(tqdm(vecfiles)):\n",
    "    vec=np.genfromtxt(VECTOR_FOLDER+vecfile)-mean_vec\n",
    "    no_mean_vecs[i]=vec"
   ]
  },
  {
   "cell_type": "markdown",
   "id": "a3feb844",
   "metadata": {},
   "source": [
    "## Taking everything"
   ]
  },
  {
   "cell_type": "code",
   "execution_count": 98,
   "id": "65e80cac",
   "metadata": {
    "ExecuteTime": {
     "end_time": "2025-04-18T10:13:57.614133Z",
     "start_time": "2025-04-18T10:13:55.981358Z"
    }
   },
   "outputs": [],
   "source": [
    "pca = PCA()\n",
    "new_no_mean_vecs=pca.fit_transform(no_mean_vecs)"
   ]
  },
  {
   "cell_type": "code",
   "execution_count": 99,
   "id": "472ee528",
   "metadata": {
    "ExecuteTime": {
     "end_time": "2025-04-18T10:13:59.301947Z",
     "start_time": "2025-04-18T10:13:58.261840Z"
    }
   },
   "outputs": [
    {
     "data": {
      "image/png": "[encoded data removed]",
      "text/plain": [
       "<Figure size 640x480 with 1 Axes>"
      ]
     },
     "metadata": {},
     "output_type": "display_data"
    }
   ],
   "source": [
    "plt.scatter(np.arange(len(vecfiles)), np.cumsum(pca.explained_variance_ratio_))\n",
    "plt.hlines(0.90, 1, 1000, ls='--', color='red')\n",
    "plt.xscale('log')\n",
    "plt.yscale('log')\n",
    "plt.ylabel('PCA explained variance (cumulative)', fontsize=16)\n",
    "plt.show()"
   ]
  },
  {
   "cell_type": "code",
   "execution_count": 100,
   "id": "c01db7a7",
   "metadata": {
    "ExecuteTime": {
     "end_time": "2025-04-18T10:14:03.323186Z",
     "start_time": "2025-04-18T10:14:03.315108Z"
    }
   },
   "outputs": [
    {
     "data": {
      "text/plain": [
       "63"
      ]
     },
     "execution_count": 100,
     "metadata": {},
     "output_type": "execute_result"
    }
   ],
   "source": [
    "np.where(np.cumsum(pca.explained_variance_ratio_)<=.90)[0][-1]"
   ]
  },
  {
   "cell_type": "code",
   "execution_count": 101,
   "id": "7f092c7b",
   "metadata": {
    "ExecuteTime": {
     "end_time": "2025-04-18T10:14:04.522139Z",
     "start_time": "2025-04-18T10:14:04.513632Z"
    }
   },
   "outputs": [
    {
     "data": {
      "text/plain": [
       "87"
      ]
     },
     "execution_count": 101,
     "metadata": {},
     "output_type": "execute_result"
    }
   ],
   "source": [
    "np.where(np.cumsum(pca.explained_variance_ratio_)<=.95)[0][-1]"
   ]
  },
  {
   "cell_type": "code",
   "execution_count": 102,
   "id": "82c6df3b",
   "metadata": {
    "ExecuteTime": {
     "end_time": "2025-04-18T10:14:05.793260Z",
     "start_time": "2025-04-18T10:14:05.784726Z"
    }
   },
   "outputs": [
    {
     "data": {
      "text/plain": [
       "160"
      ]
     },
     "execution_count": 102,
     "metadata": {},
     "output_type": "execute_result"
    }
   ],
   "source": [
    "np.where(np.cumsum(pca.explained_variance_ratio_)<=.99)[0][-1]"
   ]
  },
  {
   "cell_type": "markdown",
   "id": "beaaa4c8",
   "metadata": {},
   "source": [
    "## Dimensional reduction"
   ]
  },
  {
   "cell_type": "code",
   "execution_count": 103,
   "id": "4812f5fc",
   "metadata": {
    "ExecuteTime": {
     "end_time": "2025-04-18T10:14:36.287272Z",
     "start_time": "2025-04-18T10:14:34.570561Z"
    }
   },
   "outputs": [],
   "source": [
    "pca = PCA(n_components=63)\n",
    "new_no_mean_vecs=pca.fit_transform(no_mean_vecs)"
   ]
  },
  {
   "cell_type": "code",
   "execution_count": 104,
   "id": "ef1f1f8f",
   "metadata": {
    "ExecuteTime": {
     "end_time": "2025-04-18T10:14:37.224210Z",
     "start_time": "2025-04-18T10:14:36.293459Z"
    }
   },
   "outputs": [
    {
     "data": {
      "image/png": "[encoded data removed]",
      "text/plain": [
       "<Figure size 640x480 with 1 Axes>"
      ]
     },
     "metadata": {},
     "output_type": "display_data"
    }
   ],
   "source": [
    "plt.scatter(np.arange(63), np.cumsum(pca.explained_variance_ratio_))\n",
    "plt.hlines(0.90, 1, 1000, ls='--', color='red')\n",
    "plt.xscale('log')\n",
    "plt.yscale('log')\n",
    "plt.ylabel('PCA explained variance (cumulative)', fontsize=16)\n",
    "plt.show()"
   ]
  },
  {
   "cell_type": "markdown",
   "id": "4f39d030",
   "metadata": {},
   "source": [
    "## Check with Witten"
   ]
  },
  {
   "cell_type": "code",
   "execution_count": 105,
   "id": "8d5375be",
   "metadata": {
    "ExecuteTime": {
     "end_time": "2025-04-18T10:14:45.328142Z",
     "start_time": "2025-04-18T10:14:45.322984Z"
    }
   },
   "outputs": [],
   "source": [
    "new_wittenvec = pca.transform([wittenvec])"
   ]
  },
  {
   "cell_type": "code",
   "execution_count": 131,
   "id": "ebf09101",
   "metadata": {
    "ExecuteTime": {
     "end_time": "2025-04-18T13:07:28.288283Z",
     "start_time": "2025-04-18T13:07:28.111935Z"
    }
   },
   "outputs": [
    {
     "data": {
      "application/vnd.jupyter.widget-view+json": {
       "model_id": "d6881306f4d248fb8ed0b4d6567a7bb2",
       "version_major": 2,
       "version_minor": 0
      },
      "text/plain": [
       "  0%|          | 0/575 [00:00<?, ?it/s]"
      ]
     },
     "metadata": {},
     "output_type": "display_data"
    }
   ],
   "source": [
    "pca_cos_sims_w=np.zeros(len(vecfiles))\n",
    "for i, vecfile in enumerate(tqdm(vecfiles)):\n",
    "    cos_sim=float(util.cos_sim(new_wittenvec, new_no_mean_vecs[i]))\n",
    "    #print(f'{vecfile:})\\tcos={cos_sim:.3f}')\n",
    "    pca_cos_sims_w[i]=cos_sim"
   ]
  },
  {
   "cell_type": "code",
   "execution_count": 132,
   "id": "397d43df",
   "metadata": {
    "ExecuteTime": {
     "end_time": "2025-04-18T13:07:29.288386Z",
     "start_time": "2025-04-18T13:07:28.995461Z"
    }
   },
   "outputs": [
    {
     "data": {
      "image/png": "[encoded data removed]",
      "text/plain": [
       "<Figure size 640x480 with 1 Axes>"
      ]
     },
     "metadata": {},
     "output_type": "display_data"
    }
   ],
   "source": [
    "plt.hist(pca_cos_sims_w, edgecolor='black')\n",
    "plt.suptitle('Witten vs. sustainability reports\\nafter PCA reduction + centering', fontsize=20, y=1.05)\n",
    "plt.xlabel('Cosine similarity', fontsize=16)\n",
    "plt.show()"
   ]
  },
  {
   "cell_type": "code",
   "execution_count": 133,
   "id": "ebd26078",
   "metadata": {
    "ExecuteTime": {
     "end_time": "2025-04-18T13:07:49.092224Z",
     "start_time": "2025-04-18T13:07:49.084261Z"
    }
   },
   "outputs": [
    {
     "data": {
      "text/plain": [
       "(0.010612148579943878, 0.10796481589063854)"
      ]
     },
     "execution_count": 133,
     "metadata": {},
     "output_type": "execute_result"
    }
   ],
   "source": [
    "np.mean(pca_cos_sims_w), np.std(pca_cos_sims_w)"
   ]
  },
  {
   "cell_type": "markdown",
   "id": "0476096c",
   "metadata": {},
   "source": [
    "## Save transformed vectors"
   ]
  },
  {
   "cell_type": "markdown",
   "id": "9b8e7115",
   "metadata": {},
   "source": [
    "### Reports"
   ]
  },
  {
   "cell_type": "code",
   "execution_count": 111,
   "id": "ccd49d73",
   "metadata": {
    "ExecuteTime": {
     "end_time": "2025-04-18T10:45:54.764842Z",
     "start_time": "2025-04-18T10:45:54.758523Z"
    }
   },
   "outputs": [
    {
     "data": {
      "text/plain": [
       "'2015_01_ANGLO_AMERICAN_PLC.txt'"
      ]
     },
     "execution_count": 111,
     "metadata": {},
     "output_type": "execute_result"
    }
   ],
   "source": [
    "vecfiles[0]"
   ]
  },
  {
   "cell_type": "code",
   "execution_count": 114,
   "id": "8971e203",
   "metadata": {
    "ExecuteTime": {
     "end_time": "2025-04-18T10:47:40.795311Z",
     "start_time": "2025-04-18T10:47:40.229324Z"
    }
   },
   "outputs": [
    {
     "data": {
      "application/vnd.jupyter.widget-view+json": {
       "model_id": "d14a9b923ba94574bb2b2e0758f9413f",
       "version_major": 2,
       "version_minor": 0
      },
      "text/plain": [
       "  0%|          | 0/575 [00:00<?, ?it/s]"
      ]
     },
     "metadata": {},
     "output_type": "display_data"
    }
   ],
   "source": [
    "for i, vecfile in enumerate(tqdm(vecfiles)):\n",
    "    np.savetxt(PCA_CENTR_VECTOR_FOLDER+vecfile, new_no_mean_vecs[i])"
   ]
  },
  {
   "cell_type": "markdown",
   "id": "ac998e15",
   "metadata": {},
   "source": [
    "### Benchmarks"
   ]
  },
  {
   "cell_type": "code",
   "execution_count": 116,
   "id": "86c79cfb",
   "metadata": {
    "ExecuteTime": {
     "end_time": "2025-04-18T10:52:03.564093Z",
     "start_time": "2025-04-18T10:52:03.394392Z"
    }
   },
   "outputs": [
    {
     "data": {
      "application/vnd.jupyter.widget-view+json": {
       "model_id": "03dd29f6efa14eed9661eafb346de9e1",
       "version_major": 2,
       "version_minor": 0
      },
      "text/plain": [
       "  0%|          | 0/19 [00:00<?, ?it/s]"
      ]
     },
     "metadata": {},
     "output_type": "display_data"
    }
   ],
   "source": [
    "benchmark_files=[file for file in os.listdir(BENCHMARK_FOLDER) if file.endswith('.txt')]\n",
    "for file in tqdm(benchmark_files):\n",
    "    bench_vec=np.genfromtxt(BENCHMARK_FOLDER+file)\n",
    "    new_bench_vec=pca.transform([bench_vec])\n",
    "    np.savetxt(PCA_CENTR_VECTOR_FOLDER+file, new_bench_vec)"
   ]
  },
  {
   "cell_type": "markdown",
   "id": "c1a9223e",
   "metadata": {},
   "source": [
    "## Check with SDGs"
   ]
  },
  {
   "cell_type": "markdown",
   "id": "b437b471",
   "metadata": {},
   "source": [
    "### Goals' vectors"
   ]
  },
  {
   "cell_type": "code",
   "execution_count": 125,
   "id": "d0eed5d3",
   "metadata": {
    "ExecuteTime": {
     "end_time": "2025-04-18T13:05:07.144980Z",
     "start_time": "2025-04-18T13:05:07.137482Z"
    }
   },
   "outputs": [],
   "source": [
    "goalvecfiles=[file for file in os.listdir(PCA_CENTR_VECTOR_FOLDER) if file.startswith('Goal') and file.endswith('.txt')]"
   ]
  },
  {
   "cell_type": "code",
   "execution_count": 126,
   "id": "a2386157",
   "metadata": {
    "ExecuteTime": {
     "end_time": "2025-04-18T13:05:08.021620Z",
     "start_time": "2025-04-18T13:05:08.016158Z"
    }
   },
   "outputs": [],
   "source": [
    "goalvecfiles.sort()"
   ]
  },
  {
   "cell_type": "code",
   "execution_count": 127,
   "id": "cd90cd9d",
   "metadata": {
    "ExecuteTime": {
     "end_time": "2025-04-18T13:05:08.571058Z",
     "start_time": "2025-04-18T13:05:08.560556Z"
    }
   },
   "outputs": [
    {
     "data": {
      "text/plain": [
       "['Goal-10-Fast-Facts.txt',\n",
       " 'Goal-11_Fast-Facts.txt',\n",
       " 'Goal-12_Fast-Facts.txt',\n",
       " 'Goal-13_Fast-Facts.txt',\n",
       " 'Goal-14_Fast-Facts.txt',\n",
       " 'Goal-15-Fast-Facts.txt',\n",
       " 'Goal-16-Fast-Facts.txt',\n",
       " 'Goal-17-Fast-Facts.txt',\n",
       " 'Goal-1_Fast-Facts.txt',\n",
       " 'Goal-2_Fast-Facts.txt',\n",
       " 'Goal-3_Fast-Facts.txt',\n",
       " 'Goal-4_Fast-Facts.txt',\n",
       " 'Goal-5_Fast-Facts.txt',\n",
       " 'Goal-6_Fast-Facts.txt',\n",
       " 'Goal-7_Fast-Facts.txt',\n",
       " 'Goal-8_Fast-Facts.txt',\n",
       " 'Goal-9-Fast-Facts.txt',\n",
       " 'Goal-Fast-Facts.txt']"
      ]
     },
     "execution_count": 127,
     "metadata": {},
     "output_type": "execute_result"
    }
   ],
   "source": [
    "goalvecfiles"
   ]
  },
  {
   "cell_type": "code",
   "execution_count": 128,
   "id": "3e2ffdc6",
   "metadata": {
    "ExecuteTime": {
     "end_time": "2025-04-18T13:05:25.216350Z",
     "start_time": "2025-04-18T13:05:25.192136Z"
    }
   },
   "outputs": [],
   "source": [
    "goalvecs=[np.genfromtxt(PCA_CENTR_VECTOR_FOLDER+goalvecfile) for goalvecfile in goalvecfiles]"
   ]
  },
  {
   "cell_type": "markdown",
   "id": "7ddaa908",
   "metadata": {},
   "source": [
    "### Cosine similarity"
   ]
  },
  {
   "cell_type": "code",
   "execution_count": 129,
   "id": "e4c3f7fd",
   "metadata": {
    "ExecuteTime": {
     "end_time": "2025-04-18T13:06:33.770933Z",
     "start_time": "2025-04-18T13:06:33.543586Z"
    }
   },
   "outputs": [
    {
     "data": {
      "application/vnd.jupyter.widget-view+json": {
       "model_id": "71b07587acf84cf9823e03e79ff55209",
       "version_major": 2,
       "version_minor": 0
      },
      "text/plain": [
       "  0%|          | 0/575 [00:00<?, ?it/s]"
      ]
     },
     "metadata": {},
     "output_type": "display_data"
    }
   ],
   "source": [
    "pca_cos_sims=np.zeros(len(vecfiles))\n",
    "for i, vecfile in enumerate(tqdm(vecfiles)):\n",
    "    cos_sim=float(util.cos_sim(goalvecs[-1], new_no_mean_vecs[i]))\n",
    "    #print(f'{vecfile:})\\tcos={cos_sim:.3f}')\n",
    "    pca_cos_sims[i]=cos_sim"
   ]
  },
  {
   "cell_type": "code",
   "execution_count": 135,
   "id": "26588d8e",
   "metadata": {
    "ExecuteTime": {
     "end_time": "2025-04-18T13:08:08.914847Z",
     "start_time": "2025-04-18T13:08:08.596086Z"
    }
   },
   "outputs": [
    {
     "data": {
      "image/png": "[encoded data removed]",
      "text/plain": [
       "<Figure size 640x480 with 1 Axes>"
      ]
     },
     "metadata": {},
     "output_type": "display_data"
    }
   ],
   "source": [
    "plt.hist(pca_cos_sims, edgecolor='black')\n",
    "plt.suptitle('SDGs descriptions vs. sustainability reports\\nafter PCA reduction + centering', fontsize=20, y=1.05)\n",
    "plt.xlabel('Cosine similarity', fontsize=16)\n",
    "plt.show()"
   ]
  },
  {
   "cell_type": "code",
   "execution_count": 136,
   "id": "ab0827d5",
   "metadata": {
    "ExecuteTime": {
     "end_time": "2025-04-18T13:08:11.410134Z",
     "start_time": "2025-04-18T13:08:11.400899Z"
    }
   },
   "outputs": [
    {
     "data": {
      "text/plain": [
       "(0.015709916887901864, 0.16252681229109625)"
      ]
     },
     "execution_count": 136,
     "metadata": {},
     "output_type": "execute_result"
    }
   ],
   "source": [
    "np.mean(pca_cos_sims), np.std(pca_cos_sims)"
   ]
  },
  {
   "cell_type": "code",
   "execution_count": null,
   "id": "0e3d8d09",
   "metadata": {},
   "outputs": [],
   "source": []
  }
 ],
 "metadata": {
  "kernelspec": {
   "display_name": "Python 3 (ipykernel)",
   "language": "python",
   "name": "python3"
  },
  "language_info": {
   "codemirror_mode": {
    "name": "ipython",
    "version": 3
   },
   "file_extension": ".py",
   "mimetype": "text/x-python",
   "name": "python",
   "nbconvert_exporter": "python",
   "pygments_lexer": "ipython3",
   "version": "3.8.10"
  },
  "notify_time": "5",
  "toc": {
   "base_numbering": 1,
   "nav_menu": {},
   "number_sections": true,
   "sideBar": true,
   "skip_h1_title": false,
   "title_cell": "Table of Contents",
   "title_sidebar": "Contents",
   "toc_cell": false,
   "toc_position": {
    "height": "calc(100% - 180px)",
    "left": "10px",
    "top": "150px",
    "width": "288px"
   },
   "toc_section_display": true,
   "toc_window_display": true
  }
 },
 "nbformat": 4,
 "nbformat_minor": 5
}
