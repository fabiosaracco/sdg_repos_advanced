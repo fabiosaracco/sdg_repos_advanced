{
 "cells": [
  {
   "cell_type": "markdown",
   "id": "d2edea1a",
   "metadata": {},
   "source": [
    "# Intro"
   ]
  },
  {
   "cell_type": "markdown",
   "id": "9850639d",
   "metadata": {},
   "source": [
    "## Standard modules"
   ]
  },
  {
   "cell_type": "code",
   "execution_count": 1,
   "id": "07ca583e",
   "metadata": {
    "ExecuteTime": {
     "end_time": "2025-09-08T14:01:28.625765Z",
     "start_time": "2025-09-08T14:01:28.505079Z"
    }
   },
   "outputs": [],
   "source": [
    "import os, sys\n",
    "import pathlib\n",
    "import requests"
   ]
  },
  {
   "cell_type": "code",
   "execution_count": 155,
   "id": "d1c41cfb",
   "metadata": {
    "ExecuteTime": {
     "end_time": "2025-09-09T10:38:24.603789Z",
     "start_time": "2025-09-09T10:38:24.597421Z"
    }
   },
   "outputs": [],
   "source": [
    "import datetime as dt"
   ]
  },
  {
   "cell_type": "code",
   "execution_count": 58,
   "id": "c76adb0d",
   "metadata": {
    "ExecuteTime": {
     "end_time": "2025-09-08T14:28:14.336823Z",
     "start_time": "2025-09-08T14:28:14.331573Z"
    }
   },
   "outputs": [],
   "source": [
    "import pickle"
   ]
  },
  {
   "cell_type": "code",
   "execution_count": 2,
   "id": "f030b88e",
   "metadata": {
    "ExecuteTime": {
     "end_time": "2025-09-08T14:01:28.758666Z",
     "start_time": "2025-09-08T14:01:28.631872Z"
    }
   },
   "outputs": [],
   "source": [
    "import numpy as np"
   ]
  },
  {
   "cell_type": "code",
   "execution_count": 3,
   "id": "e9d9269f",
   "metadata": {
    "ExecuteTime": {
     "end_time": "2025-09-08T14:01:28.892517Z",
     "start_time": "2025-09-08T14:01:28.762328Z"
    }
   },
   "outputs": [],
   "source": [
    "from tqdm.auto import tqdm, trange"
   ]
  },
  {
   "cell_type": "code",
   "execution_count": 4,
   "id": "97f5790b",
   "metadata": {
    "ExecuteTime": {
     "end_time": "2025-09-08T14:01:32.561670Z",
     "start_time": "2025-09-08T14:01:28.895841Z"
    }
   },
   "outputs": [],
   "source": [
    "from sentence_transformers import util"
   ]
  },
  {
   "cell_type": "code",
   "execution_count": 5,
   "id": "a30979be",
   "metadata": {
    "ExecuteTime": {
     "end_time": "2025-09-08T14:01:33.288797Z",
     "start_time": "2025-09-08T14:01:32.568068Z"
    }
   },
   "outputs": [],
   "source": [
    "import matplotlib.pyplot as plt\n",
    "plt.rcParams['axes.linewidth'] = 2\n",
    "plt.rcParams['xtick.major.size'] = 10\n",
    "plt.rcParams['xtick.major.width'] = 2\n",
    "plt.rcParams['ytick.major.size'] = 10\n",
    "plt.rcParams['ytick.major.width'] = 2\n",
    "\n",
    "plt.rcParams['xtick.labelsize'] = 14\n",
    "plt.rcParams['ytick.labelsize'] = 14\n",
    "\n",
    "plt.rcParams['xtick.minor.size'] = 5\n",
    "plt.rcParams['xtick.minor.width'] = 1\n",
    "plt.rcParams['ytick.minor.size'] = 5\n",
    "plt.rcParams['ytick.minor.width'] = 1"
   ]
  },
  {
   "cell_type": "code",
   "execution_count": 72,
   "id": "300efef1",
   "metadata": {
    "ExecuteTime": {
     "end_time": "2025-09-09T08:40:46.203683Z",
     "start_time": "2025-09-09T08:40:46.189915Z"
    }
   },
   "outputs": [],
   "source": [
    "import pymannkendall as mk"
   ]
  },
  {
   "cell_type": "code",
   "execution_count": 6,
   "id": "7e88bbd4",
   "metadata": {
    "ExecuteTime": {
     "end_time": "2025-09-08T14:01:33.296973Z",
     "start_time": "2025-09-08T14:01:33.292141Z"
    }
   },
   "outputs": [],
   "source": [
    "from matplotlib.ticker import ScalarFormatter # per mettere i ticks in notazione scientifica"
   ]
  },
  {
   "cell_type": "code",
   "execution_count": 293,
   "id": "a80afd21",
   "metadata": {
    "ExecuteTime": {
     "end_time": "2025-09-10T15:38:26.623458Z",
     "start_time": "2025-09-10T15:38:26.615537Z"
    }
   },
   "outputs": [],
   "source": [
    "from scipy.stats import spearmanr"
   ]
  },
  {
   "cell_type": "code",
   "execution_count": 296,
   "id": "0b872d74",
   "metadata": {
    "ExecuteTime": {
     "end_time": "2025-09-11T09:35:24.500417Z",
     "start_time": "2025-09-11T09:35:24.489399Z"
    }
   },
   "outputs": [],
   "source": [
    "from scipy.stats import ks_2samp"
   ]
  },
  {
   "cell_type": "markdown",
   "id": "c9c913b6",
   "metadata": {},
   "source": [
    "## Personal modules"
   ]
  },
  {
   "cell_type": "code",
   "execution_count": 7,
   "id": "2c81834d",
   "metadata": {
    "ExecuteTime": {
     "end_time": "2025-09-08T14:01:33.414387Z",
     "start_time": "2025-09-08T14:01:33.300163Z"
    }
   },
   "outputs": [],
   "source": [
    "from toolbox.updater import time_is_now"
   ]
  },
  {
   "cell_type": "code",
   "execution_count": 272,
   "id": "a102ac5d",
   "metadata": {
    "ExecuteTime": {
     "end_time": "2025-09-10T15:26:48.277733Z",
     "start_time": "2025-09-10T15:26:48.270206Z"
    }
   },
   "outputs": [],
   "source": [
    "from first_rough_cleaning import first_text_cleaner"
   ]
  },
  {
   "cell_type": "markdown",
   "id": "ae7499bf",
   "metadata": {},
   "source": [
    "## Folders"
   ]
  },
  {
   "cell_type": "code",
   "execution_count": 18,
   "id": "6c02c382",
   "metadata": {
    "ExecuteTime": {
     "end_time": "2025-09-08T14:10:29.688916Z",
     "start_time": "2025-09-08T14:10:29.682881Z"
    }
   },
   "outputs": [],
   "source": [
    "VECTOR_FOLDER='./NewProcessedData/vectors/'"
   ]
  },
  {
   "cell_type": "code",
   "execution_count": 19,
   "id": "e40baa25",
   "metadata": {
    "ExecuteTime": {
     "end_time": "2025-09-08T14:10:29.860690Z",
     "start_time": "2025-09-08T14:10:29.855405Z"
    }
   },
   "outputs": [],
   "source": [
    "BENCHMARK_FOLDER='./NewProcessedData/benchmarks/'"
   ]
  },
  {
   "cell_type": "code",
   "execution_count": 20,
   "id": "e48b80d3",
   "metadata": {
    "ExecuteTime": {
     "end_time": "2025-09-08T14:10:30.007398Z",
     "start_time": "2025-09-08T14:10:30.001235Z"
    }
   },
   "outputs": [],
   "source": [
    "PCA_CENTR_VECTOR_FOLDER='./NewProcessedData/abtt5_vectors/'"
   ]
  },
  {
   "cell_type": "code",
   "execution_count": 21,
   "id": "a310b8c1",
   "metadata": {
    "ExecuteTime": {
     "end_time": "2025-09-08T14:10:30.187702Z",
     "start_time": "2025-09-08T14:10:30.181404Z"
    }
   },
   "outputs": [],
   "source": [
    "ABTT1_VECTOR_FOLDER='./NewProcessedData/abtt1_vectors/'"
   ]
  },
  {
   "cell_type": "code",
   "execution_count": 22,
   "id": "bba1f9c3",
   "metadata": {
    "ExecuteTime": {
     "end_time": "2025-09-08T14:10:30.338658Z",
     "start_time": "2025-09-08T14:10:30.332864Z"
    }
   },
   "outputs": [],
   "source": [
    "WIKI_FOLDER='./NewProcessedData/wikipedia/vectors/'"
   ]
  },
  {
   "cell_type": "code",
   "execution_count": 141,
   "id": "1e902838",
   "metadata": {
    "ExecuteTime": {
     "end_time": "2025-09-09T10:32:49.971478Z",
     "start_time": "2025-09-09T10:32:49.965792Z"
    }
   },
   "outputs": [],
   "source": [
    "WIKI_TEXT_FOLDER='./NewProcessedData/wikipedia/texts/'"
   ]
  },
  {
   "cell_type": "code",
   "execution_count": 23,
   "id": "32c5bad0",
   "metadata": {
    "ExecuteTime": {
     "end_time": "2025-09-08T14:10:30.524673Z",
     "start_time": "2025-09-08T14:10:30.518490Z"
    }
   },
   "outputs": [],
   "source": [
    "TEXT_FOLDER='./NewProcessedData/texts/'"
   ]
  },
  {
   "cell_type": "markdown",
   "id": "8960db94",
   "metadata": {},
   "source": [
    "## Reports' texts"
   ]
  },
  {
   "cell_type": "code",
   "execution_count": 24,
   "id": "fa768b55",
   "metadata": {
    "ExecuteTime": {
     "end_time": "2025-09-08T14:10:31.214606Z",
     "start_time": "2025-09-08T14:10:31.208479Z"
    }
   },
   "outputs": [],
   "source": [
    "textfiles=os.listdir(TEXT_FOLDER)"
   ]
  },
  {
   "cell_type": "code",
   "execution_count": 25,
   "id": "6d4e753e",
   "metadata": {
    "ExecuteTime": {
     "end_time": "2025-09-08T14:10:31.547462Z",
     "start_time": "2025-09-08T14:10:31.541609Z"
    }
   },
   "outputs": [],
   "source": [
    "textfiles.sort()"
   ]
  },
  {
   "cell_type": "code",
   "execution_count": 26,
   "id": "f9da328d",
   "metadata": {
    "ExecuteTime": {
     "end_time": "2025-09-08T14:10:32.214767Z",
     "start_time": "2025-09-08T14:10:32.205777Z"
    }
   },
   "outputs": [
    {
     "data": {
      "text/plain": [
       "575"
      ]
     },
     "execution_count": 26,
     "metadata": {},
     "output_type": "execute_result"
    }
   ],
   "source": [
    "# files from 2024 are un reliable, \n",
    "# as they probably refer to a different accounting year,\n",
    "# due to differences with other countries\n",
    "len(textfiles)"
   ]
  },
  {
   "cell_type": "code",
   "execution_count": 27,
   "id": "9d1ff23a",
   "metadata": {
    "ExecuteTime": {
     "end_time": "2025-09-08T14:10:33.496861Z",
     "start_time": "2025-09-08T14:10:33.490035Z"
    }
   },
   "outputs": [],
   "source": [
    "textfiles=[textfile for textfile in textfiles if not textfile.startswith('2024')]"
   ]
  },
  {
   "cell_type": "code",
   "execution_count": 28,
   "id": "151b2d95",
   "metadata": {
    "ExecuteTime": {
     "end_time": "2025-09-08T14:10:33.954565Z",
     "start_time": "2025-09-08T14:10:33.946168Z"
    }
   },
   "outputs": [
    {
     "data": {
      "text/plain": [
       "573"
      ]
     },
     "execution_count": 28,
     "metadata": {},
     "output_type": "execute_result"
    }
   ],
   "source": [
    "len(textfiles)"
   ]
  },
  {
   "cell_type": "markdown",
   "id": "3b7ca8c9",
   "metadata": {},
   "source": [
    "## FDR"
   ]
  },
  {
   "cell_type": "code",
   "execution_count": 305,
   "id": "07ab507d",
   "metadata": {
    "ExecuteTime": {
     "end_time": "2025-09-11T09:38:36.800028Z",
     "start_time": "2025-09-11T09:38:36.791041Z"
    }
   },
   "outputs": [],
   "source": [
    "def fdr(pvals, alpha):\n",
    "    l_pvals=len(pvals)\n",
    "    s_pvals=np.sort(pvals)\n",
    "    fdr_levels=(1+np.arange(l_pvals))/l_pvals*alpha\n",
    "    fdr_mask=s_pvals<=fdr_levels\n",
    "    if np.sum(fdr_mask)>0:\n",
    "        return fdr_levels[fdr_mask][-1]\n",
    "    else:\n",
    "        return 0"
   ]
  },
  {
   "cell_type": "markdown",
   "id": "292f2cc1",
   "metadata": {},
   "source": [
    "## Sector helper"
   ]
  },
  {
   "cell_type": "code",
   "execution_count": 114,
   "id": "e1cce41d",
   "metadata": {
    "ExecuteTime": {
     "end_time": "2025-09-09T10:10:49.380563Z",
     "start_time": "2025-09-09T10:10:49.373280Z"
    }
   },
   "outputs": [],
   "source": [
    "rtf_files=os.listdir('./rtf')\n",
    "rtf_files.sort()"
   ]
  },
  {
   "cell_type": "code",
   "execution_count": 115,
   "id": "c7213641",
   "metadata": {
    "ExecuteTime": {
     "end_time": "2025-09-09T10:10:49.673474Z",
     "start_time": "2025-09-09T10:10:49.664271Z"
    }
   },
   "outputs": [],
   "source": [
    "sec_helper={}\n",
    "for file in rtf_files:\n",
    "    splitted_name=file.split('_')\n",
    "    if splitted_name[0].isnumeric():\n",
    "        if splitted_name[0] not in sec_helper.keys():\n",
    "            sec_helper[splitted_name[0].zfill(2)]=splitted_name[1]"
   ]
  },
  {
   "cell_type": "code",
   "execution_count": 116,
   "id": "d6c739e4",
   "metadata": {
    "ExecuteTime": {
     "end_time": "2025-09-09T10:10:49.996535Z",
     "start_time": "2025-09-09T10:10:49.987125Z"
    }
   },
   "outputs": [
    {
     "data": {
      "text/plain": [
       "{'10': 'Telecommunications',\n",
       " '11': 'Utilities',\n",
       " '01': 'Basic Materials',\n",
       " '02': 'Consumer Discretionary',\n",
       " '03': 'Consumer Staples',\n",
       " '04': 'Energy',\n",
       " '05': 'Financials',\n",
       " '06': 'Health Care',\n",
       " '07': 'Industrials',\n",
       " '08': 'Real Estate',\n",
       " '09': 'Technology'}"
      ]
     },
     "execution_count": 116,
     "metadata": {},
     "output_type": "execute_result"
    }
   ],
   "source": [
    "sec_helper"
   ]
  },
  {
   "cell_type": "code",
   "execution_count": 117,
   "id": "26830e1c",
   "metadata": {
    "ExecuteTime": {
     "end_time": "2025-09-09T10:10:50.346930Z",
     "start_time": "2025-09-09T10:10:50.342670Z"
    }
   },
   "outputs": [],
   "source": [
    "secs=list(sec_helper.keys())"
   ]
  },
  {
   "cell_type": "code",
   "execution_count": 118,
   "id": "dc21d961",
   "metadata": {
    "ExecuteTime": {
     "end_time": "2025-09-09T10:10:50.691806Z",
     "start_time": "2025-09-09T10:10:50.686275Z"
    }
   },
   "outputs": [],
   "source": [
    "secs=sorted(secs)"
   ]
  },
  {
   "cell_type": "code",
   "execution_count": 119,
   "id": "9f160645",
   "metadata": {
    "ExecuteTime": {
     "end_time": "2025-09-09T10:10:51.019143Z",
     "start_time": "2025-09-09T10:10:51.014092Z"
    }
   },
   "outputs": [],
   "source": [
    " sec_helper=dict(sorted(sec_helper.items()))"
   ]
  },
  {
   "cell_type": "code",
   "execution_count": 120,
   "id": "91847525",
   "metadata": {
    "ExecuteTime": {
     "end_time": "2025-09-09T10:10:51.317026Z",
     "start_time": "2025-09-09T10:10:51.307608Z"
    }
   },
   "outputs": [
    {
     "data": {
      "text/plain": [
       "{'01': 'Basic Materials',\n",
       " '02': 'Consumer Discretionary',\n",
       " '03': 'Consumer Staples',\n",
       " '04': 'Energy',\n",
       " '05': 'Financials',\n",
       " '06': 'Health Care',\n",
       " '07': 'Industrials',\n",
       " '08': 'Real Estate',\n",
       " '09': 'Technology',\n",
       " '10': 'Telecommunications',\n",
       " '11': 'Utilities'}"
      ]
     },
     "execution_count": 120,
     "metadata": {},
     "output_type": "execute_result"
    }
   ],
   "source": [
    "sec_helper"
   ]
  },
  {
   "cell_type": "markdown",
   "id": "26c12789",
   "metadata": {},
   "source": [
    "### Aggregated sectors"
   ]
  },
  {
   "cell_type": "code",
   "execution_count": 121,
   "id": "f7792bc6",
   "metadata": {
    "ExecuteTime": {
     "end_time": "2025-09-09T10:10:51.964280Z",
     "start_time": "2025-09-09T10:10:51.956007Z"
    }
   },
   "outputs": [],
   "source": [
    "agg_secs={'A': {'name':'Consumer Goods', 'sectors':['02', '03']}, \n",
    " 'B':{'name':'Essential Infrastructure & Services', 'sectors':['08', '10', '11']}, \n",
    " 'C':{'name':'Production Sectors','sectors':['01', '04', '07']},\n",
    " 'D':{'name':'Specialized Services','sectors':['05', '06', '09']}}"
   ]
  },
  {
   "cell_type": "code",
   "execution_count": 122,
   "id": "e99d5d5a",
   "metadata": {
    "ExecuteTime": {
     "end_time": "2025-09-09T10:10:52.309154Z",
     "start_time": "2025-09-09T10:10:52.302711Z"
    }
   },
   "outputs": [],
   "source": [
    "sec2agg_d={'01':'C', '02':'A', '03':'A', '04':'C', '05':'D', '06':'D', '07':'C', '08':'B', '09':'D', '10':'B', '11':'B'}"
   ]
  },
  {
   "cell_type": "markdown",
   "id": "4b42559c",
   "metadata": {},
   "source": [
    "## SDG helper"
   ]
  },
  {
   "cell_type": "code",
   "execution_count": 123,
   "id": "5580c6ad",
   "metadata": {
    "ExecuteTime": {
     "end_time": "2025-09-09T10:10:53.024044Z",
     "start_time": "2025-09-09T10:10:53.014851Z"
    }
   },
   "outputs": [],
   "source": [
    "sdg_helper={'01':'No Poverty', \n",
    " '02': 'Zero hunger', \n",
    " '03': 'Good health and well-being', \n",
    " '04': 'Quality education',\n",
    " '05': 'Gender equality',\n",
    " '06': 'Clean water and sanitation',\n",
    " '07': 'Affordable and clean energy',\n",
    " '08': 'Decent work and economic growth',\n",
    " '09': 'Industry, Innovation, Technology and Infrastructure',\n",
    " '10': 'Reduced inequality',\n",
    " '11': 'Sustainable cities and communities',\n",
    " '12': 'Responsible consumption and production',\n",
    " '13': 'Climate action',\n",
    " '14': 'Life below water',\n",
    " '15': 'Life on land',\n",
    " '16': 'Peace, justice and strong institutions',\n",
    " '17': 'Partnerships for the goals'\n",
    "}"
   ]
  },
  {
   "cell_type": "markdown",
   "id": "315939c1",
   "metadata": {},
   "source": [
    "## Plot standards for sectors"
   ]
  },
  {
   "cell_type": "markdown",
   "id": "5b9da040",
   "metadata": {},
   "source": [
    "### Disaggregated sectors"
   ]
  },
  {
   "cell_type": "code",
   "execution_count": 124,
   "id": "7d294561",
   "metadata": {
    "ExecuteTime": {
     "end_time": "2025-09-09T10:10:54.053255Z",
     "start_time": "2025-09-09T10:10:54.046928Z"
    }
   },
   "outputs": [],
   "source": [
    "_colors=['navy', 'cyan', 'darkturquoise', 'orange', 'magenta', 'darkorchid', 'darkred', 'tomato', 'crimson', 'cadetblue', 'slateblue']"
   ]
  },
  {
   "cell_type": "code",
   "execution_count": 125,
   "id": "375c68de",
   "metadata": {
    "ExecuteTime": {
     "end_time": "2025-09-09T10:10:54.401014Z",
     "start_time": "2025-09-09T10:10:54.392771Z"
    }
   },
   "outputs": [],
   "source": [
    "_lss=['-', '--', ':', '-.']"
   ]
  },
  {
   "cell_type": "code",
   "execution_count": 126,
   "id": "7baf4629",
   "metadata": {
    "ExecuteTime": {
     "end_time": "2025-09-09T10:10:54.697655Z",
     "start_time": "2025-09-09T10:10:54.691482Z"
    }
   },
   "outputs": [],
   "source": [
    "_markers=['^', 's', 'p', 'H', '8', 'X', 'D', '*', 'o']"
   ]
  },
  {
   "cell_type": "code",
   "execution_count": 127,
   "id": "2aefd6c6",
   "metadata": {
    "ExecuteTime": {
     "end_time": "2025-09-09T10:10:54.908554Z",
     "start_time": "2025-09-09T10:10:54.901162Z"
    }
   },
   "outputs": [],
   "source": [
    "sec_plots_feat={sec: {'color':_colors[i_s], 'ls':_lss[i_s % len(_lss)], 'marker':_markers[i_s %len(_markers)]} for i_s, sec in enumerate(secs)}"
   ]
  },
  {
   "cell_type": "code",
   "execution_count": 128,
   "id": "a7fefca8",
   "metadata": {
    "ExecuteTime": {
     "end_time": "2025-09-09T10:10:55.748547Z",
     "start_time": "2025-09-09T10:10:55.736268Z"
    }
   },
   "outputs": [
    {
     "data": {
      "text/plain": [
       "{'01': {'color': 'navy', 'ls': '-', 'marker': '^'},\n",
       " '02': {'color': 'cyan', 'ls': '--', 'marker': 's'},\n",
       " '03': {'color': 'darkturquoise', 'ls': ':', 'marker': 'p'},\n",
       " '04': {'color': 'orange', 'ls': '-.', 'marker': 'H'},\n",
       " '05': {'color': 'magenta', 'ls': '-', 'marker': '8'},\n",
       " '06': {'color': 'darkorchid', 'ls': '--', 'marker': 'X'},\n",
       " '07': {'color': 'darkred', 'ls': ':', 'marker': 'D'},\n",
       " '08': {'color': 'tomato', 'ls': '-.', 'marker': '*'},\n",
       " '09': {'color': 'crimson', 'ls': '-', 'marker': 'o'},\n",
       " '10': {'color': 'cadetblue', 'ls': '--', 'marker': '^'},\n",
       " '11': {'color': 'slateblue', 'ls': ':', 'marker': 's'}}"
      ]
     },
     "execution_count": 128,
     "metadata": {},
     "output_type": "execute_result"
    }
   ],
   "source": [
    "sec_plots_feat"
   ]
  },
  {
   "cell_type": "markdown",
   "id": "44c5e847",
   "metadata": {},
   "source": [
    "### Aggregated sectors"
   ]
  },
  {
   "cell_type": "code",
   "execution_count": 129,
   "id": "0bd0279f",
   "metadata": {
    "ExecuteTime": {
     "end_time": "2025-09-09T10:10:57.198981Z",
     "start_time": "2025-09-09T10:10:57.191177Z"
    }
   },
   "outputs": [],
   "source": [
    "agg_sec_plots={'A': {'color':'navy', 'marker':'o', 'ls':'-'}, \n",
    "               'B': {'color':'darkcyan', 'marker':'*', 'ls':'--'},\n",
    "               'C': {'color':'magenta', 'marker':'D', 'ls':'-.'},\n",
    "               'D': {'color':'orange', 'marker':'s', 'ls':':'}}"
   ]
  },
  {
   "cell_type": "markdown",
   "id": "c7cd9a3f",
   "metadata": {},
   "source": [
    "# Concreteness: a homemade module"
   ]
  },
  {
   "cell_type": "markdown",
   "id": "fea614df",
   "metadata": {},
   "source": [
    "Actually, a GPT-made module"
   ]
  },
  {
   "cell_type": "code",
   "execution_count": 8,
   "id": "5b7b71a6",
   "metadata": {
    "ExecuteTime": {
     "end_time": "2025-09-08T14:01:35.791705Z",
     "start_time": "2025-09-08T14:01:33.425720Z"
    }
   },
   "outputs": [
    {
     "name": "stderr",
     "output_type": "stream",
     "text": [
      "/home/sarawalk/sdgs_py38/lib/python3.8/site-packages/torch/cuda/__init__.py:619: UserWarning: Can't initialize NVML\n",
      "  warnings.warn(\"Can't initialize NVML\")\n",
      "/home/sarawalk/sdgs_py38/lib/python3.8/site-packages/torch/cuda/__init__.py:749: UserWarning: CUDA initialization: The NVIDIA driver on your system is too old (found version 10020). Please update your GPU driver by downloading and installing a new version from the URL: http://www.nvidia.com/Download/index.aspx Alternatively, go to: https://pytorch.org to install a PyTorch version that has been compiled with your version of the CUDA driver. (Triggered internally at ../c10/cuda/CUDAFunctions.cpp:108.)\n",
      "  return torch._C._cuda_getDeviceCount() if nvml_count < 0 else nvml_count\n"
     ]
    }
   ],
   "source": [
    "from concrete_doc import load_model, text_concreteness, document_concreteness, word_concreteness"
   ]
  },
  {
   "cell_type": "markdown",
   "id": "31c8116e",
   "metadata": {},
   "source": [
    "## Test"
   ]
  },
  {
   "cell_type": "code",
   "execution_count": 9,
   "id": "98e965a1",
   "metadata": {
    "ExecuteTime": {
     "end_time": "2025-09-08T14:07:00.757822Z",
     "start_time": "2025-09-08T14:01:37.429415Z"
    }
   },
   "outputs": [
    {
     "data": {
      "application/vnd.jupyter.widget-view+json": {
       "model_id": "ee58f15251d74b91a9c898f7fb8bce88",
       "version_major": 2,
       "version_minor": 0
      },
      "text/plain": [
       "README.md: 0.00B [00:00, ?B/s]"
      ]
     },
     "metadata": {},
     "output_type": "display_data"
    }
   ],
   "source": [
    "# 1. Carica modello con dizionario di Brysbaert\n",
    "DICT_PATH='./concrete_doc/Brysbaert_et_al_2024.xlsx'\n",
    "model = load_model(DICT_PATH)"
   ]
  },
  {
   "cell_type": "code",
   "execution_count": 11,
   "id": "7205d89c",
   "metadata": {
    "ExecuteTime": {
     "end_time": "2025-09-08T14:08:43.811548Z",
     "start_time": "2025-09-08T14:08:43.804530Z"
    }
   },
   "outputs": [
    {
     "name": "stdout",
     "output_type": "stream",
     "text": [
      "4.99332785045438\n",
      "1.076624942544107\n"
     ]
    }
   ],
   "source": [
    "# 2. Singola parola\n",
    "print(word_concreteness(\"dog\"))       # ~4.99\n",
    "print(word_concreteness(\"freedom\"))   # ~1.07"
   ]
  },
  {
   "cell_type": "code",
   "execution_count": 12,
   "id": "88b6cc1e",
   "metadata": {
    "ExecuteTime": {
     "end_time": "2025-09-08T14:08:45.224048Z",
     "start_time": "2025-09-08T14:08:45.188079Z"
    }
   },
   "outputs": [
    {
     "name": "stdout",
     "output_type": "stream",
     "text": [
      "2.723169907517171\n",
      "1.1669834035260722\n"
     ]
    }
   ],
   "source": [
    "# 3. Frase\n",
    "print(text_concreteness(\"The dog chased the ball in the garden.\"))\n",
    "print(text_concreteness(\"Freedom and justice are essential values.\"))"
   ]
  },
  {
   "cell_type": "code",
   "execution_count": 14,
   "id": "201cc86a",
   "metadata": {
    "ExecuteTime": {
     "end_time": "2025-09-08T14:09:08.518585Z",
     "start_time": "2025-09-08T14:09:08.485446Z"
    }
   },
   "outputs": [
    {
     "name": "stdout",
     "output_type": "stream",
     "text": [
      "[2.723169907517171, 1.1669834035260722]\n"
     ]
    }
   ],
   "source": [
    "# 4. Lista di testi\n",
    "docs = [\n",
    "    \"The dog chased the ball in the garden.\",\n",
    "    \"Freedom and justice are essential values.\"\n",
    "]\n",
    "print(document_concreteness(docs))"
   ]
  },
  {
   "cell_type": "code",
   "execution_count": 17,
   "id": "15b7d47d",
   "metadata": {
    "ExecuteTime": {
     "end_time": "2025-09-08T14:09:59.121511Z",
     "start_time": "2025-09-08T14:09:59.094747Z"
    }
   },
   "outputs": [
    {
     "name": "stdout",
     "output_type": "stream",
     "text": [
      "2.0420061233854163\n"
     ]
    }
   ],
   "source": [
    "# 5. Più frasi\n",
    "print(text_concreteness(\"The dog chased the ball in the garden. Its (i.e. the ball) freedom and justice are essential values to me.\"))"
   ]
  },
  {
   "cell_type": "markdown",
   "id": "5b0131ab",
   "metadata": {},
   "source": [
    "## Let's check it on the entire dataset..."
   ]
  },
  {
   "cell_type": "markdown",
   "id": "f90c8e59",
   "metadata": {},
   "source": [
    "Ok, let's assume it works..."
   ]
  },
  {
   "cell_type": "markdown",
   "id": "54ab56e3",
   "metadata": {},
   "source": [
    "### Calculate"
   ]
  },
  {
   "cell_type": "markdown",
   "id": "976aa009",
   "metadata": {},
   "source": [
    "#### All reports"
   ]
  },
  {
   "cell_type": "code",
   "execution_count": 59,
   "id": "22f1b66c",
   "metadata": {
    "ExecuteTime": {
     "end_time": "2025-09-08T14:29:28.931043Z",
     "start_time": "2025-09-08T14:29:28.923611Z"
    }
   },
   "outputs": [],
   "source": [
    "output=np.zeros(len(textfiles), dtype=([('year', int), ('sector', 'U2'), ('company', 'U50'),('concreteness', float)]))"
   ]
  },
  {
   "cell_type": "code",
   "execution_count": null,
   "id": "5c07672e",
   "metadata": {
    "ExecuteTime": {
     "start_time": "2025-09-08T14:29:33.217Z"
    }
   },
   "outputs": [
    {
     "data": {
      "application/vnd.jupyter.widget-view+json": {
       "model_id": "3e06cf28efcf48ac82dbb07104861893",
       "version_major": 2,
       "version_minor": 0
      },
      "text/plain": [
       "  0%|          | 0/573 [00:00<?, ?it/s]"
      ]
     },
     "metadata": {},
     "output_type": "display_data"
    }
   ],
   "source": [
    "for i_tf, textfile in enumerate(tqdm(textfiles)):\n",
    "    # get info from the file name\n",
    "    textfile_splitted=textfile.split('_')\n",
    "    year=textfile_splitted[0]\n",
    "    sector=textfile_splitted[1]\n",
    "    company=textfile.replace(year+'_'+sector+'_', '').replace('_text.txt', '')\n",
    "    output[i_tf]['year']=year\n",
    "    output[i_tf]['sector']=sector\n",
    "    output[i_tf]['company']=company\n",
    "    with open(TEXT_FOLDER+textfile, 'r') as f:\n",
    "        _text=f.readline()\n",
    "    output[i_tf]['concreteness']=text_concreteness(_text)"
   ]
  },
  {
   "cell_type": "code",
   "execution_count": null,
   "id": "2896fc43",
   "metadata": {
    "ExecuteTime": {
     "start_time": "2025-09-08T14:29:34.822Z"
    }
   },
   "outputs": [],
   "source": [
    "with open('./NewProcessedData/concreteness_reports.pickle', 'wb') as f:\n",
    "    pickle.dump(output, f)"
   ]
  },
  {
   "cell_type": "code",
   "execution_count": 63,
   "id": "b2f92ab5",
   "metadata": {
    "ExecuteTime": {
     "end_time": "2025-09-09T08:36:16.556955Z",
     "start_time": "2025-09-09T08:36:16.550495Z"
    }
   },
   "outputs": [
    {
     "name": "stdout",
     "output_type": "stream",
     "text": [
      "Done!\n"
     ]
    }
   ],
   "source": [
    "print('Done!')"
   ]
  },
  {
   "cell_type": "code",
   "execution_count": 158,
   "id": "10b59657",
   "metadata": {
    "ExecuteTime": {
     "end_time": "2025-09-09T11:53:18.045960Z",
     "start_time": "2025-09-09T11:53:17.930384Z"
    }
   },
   "outputs": [
    {
     "data": {
      "text/plain": [
       "0.31413612565445026"
      ]
     },
     "execution_count": 158,
     "metadata": {},
     "output_type": "execute_result"
    }
   ],
   "source": [
    "3*60/573"
   ]
  },
  {
   "cell_type": "markdown",
   "id": "6bd7a558",
   "metadata": {
    "heading_collapsed": true
   },
   "source": [
    "#### All Wikipedia's pages"
   ]
  },
  {
   "cell_type": "code",
   "execution_count": 144,
   "id": "9f11af68",
   "metadata": {
    "ExecuteTime": {
     "end_time": "2025-09-09T10:33:21.499268Z",
     "start_time": "2025-09-09T10:33:21.483830Z"
    },
    "hidden": true
   },
   "outputs": [],
   "source": [
    "wiki_texts_files=os.listdir(WIKI_TEXT_FOLDER)\n",
    "wiki_texts_files.sort()"
   ]
  },
  {
   "cell_type": "code",
   "execution_count": 156,
   "id": "1cadc086",
   "metadata": {
    "ExecuteTime": {
     "end_time": "2025-09-09T11:53:17.913581Z",
     "start_time": "2025-09-09T10:38:31.331925Z"
    },
    "hidden": true
   },
   "outputs": [
    {
     "data": {
      "application/vnd.jupyter.widget-view+json": {
       "model_id": "",
       "version_major": 2,
       "version_minor": 0
      },
      "text/plain": [
       "  0%|          | 0/4001 [00:00<?, ?it/s]"
      ]
     },
     "metadata": {},
     "output_type": "display_data"
    },
    {
     "name": "stdout",
     "output_type": "stream",
     "text": [
      "[12:38:32]    0) title=wikipedia_0000_Kalmar_Castle_text.txt   , concr=2.01\n",
      "[12:38:33]    1) title=wikipedia_0001_Fertility_and_religion_text.txt, concr=1.81\n",
      "[12:38:34]    2) title=wikipedia_0002_Kadant_text.txt          , concr=1.94\n",
      "[12:38:34]    3) title=wikipedia_0003_James_Tomkovicz_text.txt , concr=1.91\n",
      "[12:38:35]    4) title=wikipedia_0004_Nauru_Phosphate_Royalties_Trust_text.txt, concr=1.74\n",
      "[12:38:36]    5) title=wikipedia_0005_The_Life_of_a_Useless_Man_text.txt, concr=1.69\n",
      "[12:38:36]    6) title=wikipedia_0006_Plum_curculio_text.txt   , concr=2.19\n",
      "[12:38:37]    7) title=wikipedia_0007_Carl_Pfeiffer_(pharmacologist)_text.txt, concr=1.83\n",
      "[12:38:39]    8) title=wikipedia_0008_Melanitis_phedima_text.txt, concr=1.91\n",
      "[12:38:39]    9) title=wikipedia_0009_John_E._Erickson_(Montana_politician)_text.txt, concr=1.78\n",
      "[12:38:40]   10) title=wikipedia_0010_Keating_Hall_text.txt    , concr=1.99\n",
      "[12:38:41]   11) title=wikipedia_0011_Sachs–Wolfe_effect_text.txt, concr=1.54\n",
      "[12:38:43]   12) title=wikipedia_0012_Asa_Singh_Mastana_text.txt, concr=1.86\n",
      "[12:38:45]   13) title=wikipedia_0013_Steve_Hollenhorst_text.txt, concr=1.89\n",
      "[12:38:46]   14) title=wikipedia_0014_The_Crucible_(opera)_text.txt, concr=1.92\n",
      "[12:38:46]   15) title=wikipedia_0015_Slices_of_Life_(2010_film)_text.txt, concr=1.94\n",
      "[12:38:47]   16) title=wikipedia_0016_Powder_River_Station-Powder_River_Crossing_text.txt, concr=2.21\n",
      "[12:38:48]   17) title=wikipedia_0017_Dungeon_Planner_Set_2:_Nightmare_in_Blackmarsh_text.txt, concr=1.94\n",
      "[12:38:50]   18) title=wikipedia_0018_OpenVanilla_text.txt     , concr=1.70\n",
      "[12:38:50]   19) title=wikipedia_0019_The_Walls_of_Jericho_(canyon)_text.txt, concr=2.19\n",
      "[12:38:51]   20) title=wikipedia_0020_Bankhar_Dog_text.txt     , concr=2.01\n",
      "[12:38:52]   21) title=wikipedia_0021_Jamie_White_text.txt     , concr=1.91\n",
      "[12:38:53]   22) title=wikipedia_0022_John_Q._Trojanowski_text.txt, concr=1.93\n",
      "[12:38:54]   23) title=wikipedia_0023_Welding_Procedure_Specification_text.txt, concr=1.82\n",
      "[12:38:55]   24) title=wikipedia_0024_Glut:_Mastering_Information_Through_the_Ages_text.txt, concr=1.56\n",
      "[12:38:56]   25) title=wikipedia_0025_Eric_T._Huddleston_text.txt, concr=1.79\n",
      "[12:38:57]   26) title=wikipedia_0026_Eugene_Lockhart_text.txt , concr=1.88\n",
      "[12:38:57]   27) title=wikipedia_0027_Occupant_(film)_text.txt , concr=2.07\n",
      "[12:38:58]   28) title=wikipedia_0028_Multiple_encryption_text.txt, concr=1.59\n",
      "[12:38:58]   29) title=wikipedia_0029_John_P._Saylor_Trail_text.txt, concr=2.08\n",
      "[12:38:59]   30) title=wikipedia_0030_1945–46_in_Scottish_football_text.txt, concr=2.01\n",
      "[12:39:00]   31) title=wikipedia_0031_Letter_of_the_Twenty_Five_text.txt, concr=1.60\n",
      "[12:39:01]   32) title=wikipedia_0032_Ron_Hodgson_Motors_text.txt, concr=1.78\n",
      "[12:39:02]   33) title=wikipedia_0033_Kamaljit_Bawa_text.txt   , concr=1.76\n",
      "[12:39:03]   34) title=wikipedia_0034_Superior_laryngeal_nerve_text.txt, concr=1.91\n",
      "[12:39:04]   35) title=wikipedia_0035_Hylaecullulus_text.txt   , concr=1.76\n",
      "[12:39:05]   36) title=wikipedia_0036_Antelope_(1780_packet)_text.txt, concr=2.00\n",
      "[12:39:06]   37) title=wikipedia_0037_Guatemala_Quetzal_Rugby_Club_text.txt, concr=1.93\n",
      "[12:39:06]   38) title=wikipedia_0038_Peggy_Fowler_text.txt    , concr=1.94\n",
      "[12:39:08]   39) title=wikipedia_0039_Maurice_Glaize_text.txt  , concr=1.70\n",
      "[12:39:09]   40) title=wikipedia_0040_Miss_Mend_text.txt       , concr=1.94\n",
      "[12:39:10]   41) title=wikipedia_0041_V._G._Bhide_text.txt     , concr=1.76\n",
      "[12:39:12]   42) title=wikipedia_0042_Minju_Joson_text.txt     , concr=1.68\n",
      "[12:39:15]   43) title=wikipedia_0043_Daud_Shah_Bahmani_text.txt, concr=1.87\n",
      "[12:39:16]   44) title=wikipedia_0044_Languages_of_Austria_text.txt, concr=1.73\n",
      "[12:39:17]   45) title=wikipedia_0045_James_Robins_text.txt    , concr=1.64\n",
      "[12:39:17]   46) title=wikipedia_0046_Bill_Sweetenham_text.txt , concr=2.00\n",
      "[12:39:20]   47) title=wikipedia_0047_Institute_of_Philosophy,_University_of_Warsaw_text.txt, concr=1.77\n",
      "[12:39:21]   48) title=wikipedia_0048_Détente_(band)_text.txt  , concr=1.83\n",
      "[12:39:23]   49) title=wikipedia_0049_Liscartan_text.txt       , concr=1.99\n",
      "[12:39:24]   50) title=wikipedia_0050_The_Vertical_Hour_text.txt, concr=1.81\n",
      "[12:39:25]   51) title=wikipedia_0051_Christopher_Newton_text.txt, concr=1.94\n",
      "[12:39:26]   52) title=wikipedia_0052_Nancy_Oestreich_Lurie_text.txt, concr=1.78\n",
      "[12:39:29]   53) title=wikipedia_0053_Arvind_Raturi_text.txt   , concr=2.11\n",
      "[12:39:30]   54) title=wikipedia_0054_La_vida_breve_(opera)_text.txt, concr=1.70\n",
      "[12:39:31]   55) title=wikipedia_0055_Astro_Warrior_text.txt   , concr=1.92\n",
      "[12:39:33]   56) title=wikipedia_0056_Secret_Valley_text.txt   , concr=2.10\n",
      "[12:39:33]   57) title=wikipedia_0057_Baku_during_World_War_II_text.txt, concr=1.99\n",
      "[12:39:34]   58) title=wikipedia_0058_Bully's_Acre,_Dublin_text.txt, concr=1.94\n",
      "[12:39:36]   59) title=wikipedia_0059_WRVF_text.txt            , concr=2.07\n",
      "[12:39:39]   60) title=wikipedia_0060_Central_Mexican_matorral_text.txt, concr=2.43\n",
      "[12:39:40]   61) title=wikipedia_0061_Dargaville_Branch_text.txt, concr=1.95\n",
      "[12:39:41]   62) title=wikipedia_0062_Administrator,_Transvaal_v_Theletsane_text.txt, concr=1.45\n",
      "[12:39:44]   63) title=wikipedia_0063_Vishnudas_Bhave_text.txt , concr=1.78\n",
      "[12:39:45]   64) title=wikipedia_0064_MLS_Re-Entry_Draft_text.txt, concr=1.66\n",
      "[12:39:47]   65) title=wikipedia_0065_Craigieburn_Road_text.txt, concr=2.15\n",
      "[12:39:48]   66) title=wikipedia_0066_Abu_Hassan_text.txt      , concr=1.74\n",
      "[12:39:49]   67) title=wikipedia_0067_AB_Flygindustri_Fi-1_text.txt, concr=2.02\n",
      "[12:39:50]   68) title=wikipedia_0068_Charybdis_longicollis_text.txt, concr=1.91\n",
      "[12:39:51]   69) title=wikipedia_0069_Hans_Bethge_(aviator)_text.txt, concr=1.86\n",
      "[12:39:52]   70) title=wikipedia_0070_Eugenia_dysenterica_text.txt, concr=2.06\n",
      "[12:39:53]   71) title=wikipedia_0071_William_Wycliffe_Spooner_text.txt, concr=1.93\n",
      "[12:39:53]   72) title=wikipedia_0072_Bavarian_cream_text.txt  , concr=2.08\n",
      "[12:39:55]   73) title=wikipedia_0073_Henry_Septimus_Sutton_text.txt, concr=1.97\n",
      "[12:39:56]   74) title=wikipedia_0074_Messa_di_voce_text.txt   , concr=1.59\n",
      "[12:39:58]   75) title=wikipedia_0075_Redlynch,_Somerset_text.txt, concr=2.06\n",
      "[12:39:59]   76) title=wikipedia_0076_Thomas_Eastchurch_text.txt, concr=1.84\n",
      "[12:40:00]   77) title=wikipedia_0077_Saloon_(band)_text.txt   , concr=1.94\n",
      "[12:40:01]   78) title=wikipedia_0078_McPike_Mansion_text.txt  , concr=1.88\n",
      "[12:40:02]   79) title=wikipedia_0079_Adwell_text.txt          , concr=1.97\n",
      "[12:40:03]   80) title=wikipedia_0080_Mom's_the_Word_text.txt  , concr=1.77\n",
      "[12:40:04]   81) title=wikipedia_0081_1874–75_Scottish_Districts_season_text.txt, concr=2.40\n",
      "[12:40:04]   82) title=wikipedia_0082_In_Deadly_Earnest_text.txt, concr=1.71\n",
      "[12:40:06]   83) title=wikipedia_0083_Emmanuel_Ondo_Methogo_text.txt, concr=1.62\n",
      "[12:40:08]   84) title=wikipedia_0084_IS-1_Sęp_text.txt        , concr=2.03\n",
      "[12:40:08]   85) title=wikipedia_0085_Mary_B._Warlick_text.txt , concr=1.87\n",
      "[12:40:10]   86) title=wikipedia_0086_Israeli_Beach_Soccer_League_text.txt, concr=2.10\n",
      "[12:40:12]   87) title=wikipedia_0087_Kazimierz_Cichowski_text.txt, concr=1.80\n",
      "[12:40:12]   88) title=wikipedia_0088_Long_Creek,_Illinois_text.txt, concr=1.97\n",
      "[12:40:13]   89) title=wikipedia_0089_USS_Raby_text.txt        , concr=2.08\n",
      "[12:40:15]   90) title=wikipedia_0090_Jakarta_Flood_Canal_text.txt, concr=2.16\n",
      "[12:40:16]   91) title=wikipedia_0091_Port_of_Caen_text.txt    , concr=2.04\n",
      "[12:40:17]   92) title=wikipedia_0092_Integrated_framing_assembly_text.txt, concr=2.04\n",
      "[12:40:18]   93) title=wikipedia_0093_John_Barry_(WD-40)_text.txt, concr=1.76\n",
      "[12:40:19]   94) title=wikipedia_0094_Elm_Conflict_text.txt    , concr=1.91\n",
      "[12:40:20]   95) title=wikipedia_0095_Hajime_Ishii_text.txt    , concr=1.80\n",
      "[12:40:21]   96) title=wikipedia_0096_Meitei_architecture_text.txt, concr=2.03\n",
      "[12:40:23]   97) title=wikipedia_0097_Daniël_Boone_text.txt    , concr=1.80\n",
      "[12:40:24]   98) title=wikipedia_0098_Take_It_Out_in_Trade_text.txt, concr=1.84\n",
      "[12:40:24]   99) title=wikipedia_0099_Matthew_7:10_text.txt    , concr=1.70\n",
      "[12:40:25]  100) title=wikipedia_0100_National_Army_Museum_(New_Zealand)_text.txt, concr=1.98\n",
      "[12:40:27]  101) title=wikipedia_0101_Jiří_Melantrich_of_Aventino_text.txt, concr=1.75\n"
     ]
    },
    {
     "name": "stdout",
     "output_type": "stream",
     "text": [
      "[12:40:27]  102) title=wikipedia_0102_Randy_Souders_text.txt   , concr=1.96\n",
      "[12:40:28]  103) title=wikipedia_0103_Rosalie_Abrams_text.txt  , concr=1.86\n",
      "[12:40:29]  104) title=wikipedia_0104_Susannah_Waters_text.txt , concr=2.04\n",
      "[12:40:29]  105) title=wikipedia_0105_Mary_Cole_Walling_text.txt, concr=1.95\n",
      "[12:40:31]  106) title=wikipedia_0106_Joachim_Rampon_text.txt  , concr=1.68\n",
      "[12:40:32]  107) title=wikipedia_0107_Sadko_(film)_text.txt    , concr=1.80\n",
      "[12:40:33]  108) title=wikipedia_0108_K._Gordon_Murray_text.txt, concr=1.92\n",
      "[12:40:34]  109) title=wikipedia_0109_Tony_Saunders_text.txt   , concr=1.89\n",
      "[12:40:34]  110) title=wikipedia_0110_Ryan_Martin_(athlete)_text.txt, concr=1.95\n",
      "[12:40:35]  111) title=wikipedia_0111_Lucy_G._Acosta_text.txt  , concr=1.96\n",
      "[12:40:38]  112) title=wikipedia_0112_Leinkupal_text.txt       , concr=1.96\n",
      "[12:40:38]  113) title=wikipedia_0113_Speedway_Super_Prix_text.txt, concr=1.82\n",
      "[12:40:39]  114) title=wikipedia_0114_Wilf_McGuinness_text.txt , concr=1.88\n",
      "[12:40:40]  115) title=wikipedia_0115_Juan_Nepomuceno_Zegrí_Moreno_text.txt, concr=1.63\n",
      "[12:40:41]  116) title=wikipedia_0116_Jacob_M._Dickinson_text.txt, concr=1.90\n",
      "[12:40:41]  117) title=wikipedia_0117_Lords_of_Regality_text.txt, concr=1.55\n",
      "[12:40:42]  118) title=wikipedia_0118_David_Earn_text.txt      , concr=1.77\n",
      "[12:40:42]  119) title=wikipedia_0119_Jubilee_Medal_\"50_Years_of_Victory_in_the_Great_Patriotic_War_1941–1945\"_text.txt, concr=1.88\n",
      "[12:40:44]  120) title=wikipedia_0120_Sainte-Anne-d'Auray_text.txt, concr=1.83\n",
      "[12:40:45]  121) title=wikipedia_0121_Napoleon_Murphy_Brock_text.txt, concr=1.92\n",
      "[12:40:46]  122) title=wikipedia_0122_The_Reckoning_(2014_film)_text.txt, concr=1.99\n",
      "[12:40:47]  123) title=wikipedia_0123_Sergey_Urusevsky_text.txt, concr=1.85\n",
      "[12:40:49]  124) title=wikipedia_0124_Republic_of_Mountainous_Armenia_text.txt, concr=1.73\n",
      "[12:40:50]  125) title=wikipedia_0125_Vatican_City_at_the_2022_Mediterranean_Games_text.txt, concr=1.80\n",
      "[12:40:51]  126) title=wikipedia_0126_Pietra_Perduca_text.txt  , concr=1.89\n",
      "[12:40:52]  127) title=wikipedia_0127_Clarence_F._Stephens_text.txt, concr=1.67\n",
      "[12:40:53]  128) title=wikipedia_0128_First_Quench_Retailing_text.txt, concr=2.07\n",
      "[12:40:53]  129) title=wikipedia_0129_Western_concert_flute_family_text.txt, concr=1.91\n",
      "[12:40:56]  130) title=wikipedia_0130_6th_Congress_of_the_Party_of_Labour_of_Albania_text.txt, concr=1.90\n",
      "[12:40:58]  131) title=wikipedia_0131_Luxembourg_in_the_Eurovision_Song_Contest_1989_text.txt, concr=1.90\n",
      "[12:40:59]  132) title=wikipedia_0132_John_Sampson_(musician)_text.txt, concr=2.17\n",
      "[12:41:01]  133) title=wikipedia_0133_Peng_Shaohui_text.txt    , concr=1.92\n",
      "[12:41:02]  134) title=wikipedia_0134_False_Profits_text.txt   , concr=1.77\n",
      "[12:41:03]  135) title=wikipedia_0135_Ray_David_Owen_text.txt  , concr=1.87\n",
      "[12:41:04]  136) title=wikipedia_0136_Unfinished_Pyramid_of_Abusir_text.txt, concr=1.74\n",
      "[12:41:05]  137) title=wikipedia_0137_Utah_State_Route_199_text.txt, concr=2.07\n",
      "[12:41:06]  138) title=wikipedia_0138_Thomas_Mercer_text.txt   , concr=1.96\n",
      "[12:41:06]  139) title=wikipedia_0139_Homodyne_detection_text.txt, concr=1.62\n",
      "[12:41:08]  140) title=wikipedia_0140_Ivo_Sajh_text.txt        , concr=1.88\n",
      "[12:41:09]  141) title=wikipedia_0141_HLB_International_text.txt, concr=1.81\n",
      "[12:41:10]  142) title=wikipedia_0142_Onehunga_Blockhouse_text.txt, concr=2.04\n",
      "[12:41:11]  143) title=wikipedia_0143_School_Number_6_(Davenport,_Iowa)_text.txt, concr=1.97\n",
      "[12:41:11]  144) title=wikipedia_0144_Mary_Caffrey_Low_text.txt, concr=1.85\n",
      "[12:41:12]  145) title=wikipedia_0145_Jackie_Vernon_(comedian)_text.txt, concr=1.86\n",
      "[12:41:15]  146) title=wikipedia_0146_Benno_Kusche_text.txt    , concr=1.86\n",
      "[12:41:16]  147) title=wikipedia_0147_Eric_Williams_(writer)_text.txt, concr=1.96\n",
      "[12:41:17]  148) title=wikipedia_0148_Arene_lychee_text.txt    , concr=2.01\n",
      "[12:41:18]  149) title=wikipedia_0149_Clive_Barker_(artist,_born_1940)_text.txt, concr=2.13\n",
      "[12:41:20]  150) title=wikipedia_0150_Yn_Çheshaght_Ghailckagh_text.txt, concr=1.74\n",
      "[12:41:20]  151) title=wikipedia_0151_Bristol_404_and_405_text.txt, concr=2.02\n",
      "[12:41:21]  152) title=wikipedia_0152_Coup_d'État:_A_Practical_Handbook_text.txt, concr=1.62\n",
      "[12:41:22]  153) title=wikipedia_0153_War_Tapes_text.txt       , concr=1.87\n",
      "[12:41:24]  154) title=wikipedia_0154_Tyrone_Square_Mall_text.txt, concr=2.25\n",
      "[12:41:24]  155) title=wikipedia_0155_Detroit_Athletic_Club_text.txt, concr=2.02\n",
      "[12:41:25]  156) title=wikipedia_0156_Axiom_of_pairing_text.txt, concr=1.33\n",
      "[12:41:25]  157) title=wikipedia_0157_The_Delivery_Boy_(1931_film)_text.txt, concr=1.99\n",
      "[12:41:26]  158) title=wikipedia_0158_Helen_L._Thomas_text.txt , concr=1.86\n",
      "[12:41:27]  159) title=wikipedia_0159_Uauá_text.txt            , concr=1.80\n",
      "[12:41:29]  160) title=wikipedia_0160_Syro-Malabar_Catholic_Eparchy_of_Irinjalakuda_text.txt, concr=1.87\n",
      "[12:41:31]  161) title=wikipedia_0161_Hansol_text.txt          , concr=2.00\n",
      "[12:41:33]  162) title=wikipedia_0162_J._D._Mooney_text.txt    , concr=2.01\n",
      "[12:41:34]  163) title=wikipedia_0163_Daniel_Dromm_text.txt    , concr=1.91\n",
      "[12:41:35]  164) title=wikipedia_0164_Simon_Fitz-Richard_text.txt, concr=1.74\n",
      "[12:41:36]  165) title=wikipedia_0165_Catherine_Croft_text.txt , concr=1.85\n",
      "[12:41:37]  166) title=wikipedia_0166_Marguerite_Steen_text.txt, concr=1.82\n",
      "[12:41:37]  167) title=wikipedia_0167_Ede_Herczog_text.txt     , concr=1.80\n",
      "[12:41:38]  168) title=wikipedia_0168_Eretz_Israel_Museum_text.txt, concr=2.11\n",
      "[12:41:39]  169) title=wikipedia_0169_Jazz_Bridge_text.txt     , concr=2.08\n",
      "[12:41:40]  170) title=wikipedia_0170_Headline_Hunters_(1945_film)_text.txt, concr=2.01\n",
      "[12:41:40]  171) title=wikipedia_0171_Little_Grassy_Lake_(Illinois)_text.txt, concr=2.25\n",
      "[12:41:42]  172) title=wikipedia_0172_Arcot_Hall_Grasslands_and_Ponds_text.txt, concr=2.34\n",
      "[12:41:43]  173) title=wikipedia_0173_Warid_Bangladesh_text.txt, concr=1.92\n",
      "[12:41:45]  174) title=wikipedia_0174_Pyeonsu_text.txt         , concr=2.26\n",
      "[12:41:46]  175) title=wikipedia_0175_George_Seeman_text.txt   , concr=1.99\n",
      "[12:41:48]  176) title=wikipedia_0176_Thibault_Daubagna_text.txt, concr=1.89\n",
      "[12:41:49]  177) title=wikipedia_0177_Habib_Essid_text.txt     , concr=1.69\n",
      "[12:41:50]  178) title=wikipedia_0178_Italian_destroyer_Alfredo_Oriani_text.txt, concr=2.11\n",
      "[12:41:52]  179) title=wikipedia_0179_Kris_Defoort_text.txt    , concr=1.94\n",
      "[12:41:53]  180) title=wikipedia_0180_The_Darwin_Awards_(film)_text.txt, concr=1.89\n",
      "[12:41:54]  181) title=wikipedia_0181_Doctor_Sally_text.txt    , concr=1.78\n",
      "[12:41:55]  182) title=wikipedia_0182_Raffi_Lavie_text.txt     , concr=1.75\n",
      "[12:41:56]  183) title=wikipedia_0183_Joseph_Hallman_text.txt  , concr=1.91\n",
      "[12:41:57]  184) title=wikipedia_0184_Haliotis_corrugata_text.txt, concr=1.98\n",
      "[12:41:57]  185) title=wikipedia_0185_USS_Flint_(AE-32)_text.txt, concr=2.12\n",
      "[12:41:59]  186) title=wikipedia_0186_Kankuamo_marquezi_text.txt, concr=1.86\n",
      "[12:42:00]  187) title=wikipedia_0187_Arthur_Underhill_text.txt, concr=1.74\n",
      "[12:42:02]  188) title=wikipedia_0188_Camp_Toccoa_text.txt     , concr=2.08\n",
      "[12:42:02]  189) title=wikipedia_0189_Amorgos_oil_spill_text.txt, concr=1.94\n",
      "[12:42:03]  190) title=wikipedia_0190_Vladimir_Homan_text.txt  , concr=1.64\n",
      "[12:42:04]  191) title=wikipedia_0191_Transcontinental_Airway_System_text.txt, concr=2.12\n",
      "[12:42:05]  192) title=wikipedia_0192_Birdlings_Flat_text.txt  , concr=1.99\n",
      "[12:42:05]  193) title=wikipedia_0193_Bautzen_II_text.txt      , concr=1.80\n",
      "[12:42:07]  194) title=wikipedia_0194_St._Catherine's_Church,_Hamburg_text.txt, concr=1.93\n",
      "[12:42:08]  195) title=wikipedia_0195_The_Letter_Left_to_Me_text.txt, concr=1.68\n",
      "[12:42:08]  196) title=wikipedia_0196_Vail_Airport,_Montebello_text.txt, concr=2.15\n",
      "[12:42:09]  197) title=wikipedia_0197_Christ_in_Glory_in_the_Tetramorph_text.txt, concr=1.93\n",
      "[12:42:11]  198) title=wikipedia_0198_Jusuf_Muda_Dalam_text.txt, concr=1.83\n",
      "[12:42:11]  199) title=wikipedia_0199_Richard_Lumley,_12th_Earl_of_Scarbrough_text.txt, concr=1.86\n",
      "[12:42:12]  200) title=wikipedia_0200_Cranberry_sauce_text.txt , concr=2.18\n",
      "[12:42:13]  201) title=wikipedia_0201_Ryuya_Matsumoto_text.txt , concr=1.94\n",
      "[12:42:14]  202) title=wikipedia_0202_Series–parallel_graph_text.txt, concr=1.65\n"
     ]
    },
    {
     "name": "stdout",
     "output_type": "stream",
     "text": [
      "[12:42:15]  203) title=wikipedia_0203_The_Magus_(film)_text.txt, concr=1.65\n",
      "[12:42:17]  204) title=wikipedia_0204_Nancy_Ostrander_text.txt , concr=1.81\n",
      "[12:42:17]  205) title=wikipedia_0205_Clemons,_Iowa_text.txt   , concr=1.80\n",
      "[12:42:18]  206) title=wikipedia_0206_HMS_Cracker_(1804)_text.txt, concr=2.18\n",
      "[12:42:21]  207) title=wikipedia_0207_Myosotis_pottsiana_text.txt, concr=2.05\n",
      "[12:42:22]  208) title=wikipedia_0208_Euglossa_mixta_text.txt  , concr=1.91\n",
      "[12:42:23]  209) title=wikipedia_0209_Aisha_Abd_al-Rahman_text.txt, concr=1.71\n",
      "[12:42:24]  210) title=wikipedia_0210_Amos_Fortune_text.txt    , concr=1.89\n",
      "[12:42:25]  211) title=wikipedia_0211_The_Last_of_Philip_Banter_(film)_text.txt, concr=1.97\n",
      "[12:42:27]  212) title=wikipedia_0212_American_University_of_Integrative_Sciences_text.txt, concr=1.80\n",
      "[12:42:28]  213) title=wikipedia_0213_Vusi_Mahlasela_text.txt  , concr=1.94\n",
      "[12:42:30]  214) title=wikipedia_0214_Movimento_Democrático_de_Mulheres_text.txt, concr=1.75\n",
      "[12:42:33]  215) title=wikipedia_0215_Tsutsumi_Hōzan-ryū_text.txt, concr=1.77\n",
      "[12:42:34]  216) title=wikipedia_0216_ContraPest_text.txt      , concr=1.82\n",
      "[12:42:36]  217) title=wikipedia_0217_Aboud_El_Zomor_text.txt  , concr=1.70\n",
      "[12:42:38]  218) title=wikipedia_0218_Bertha_Zúñiga_text.txt   , concr=1.80\n",
      "[12:42:39]  219) title=wikipedia_0219_Siemensstadt-Fürstenbrunn_station_text.txt, concr=1.96\n",
      "[12:42:40]  220) title=wikipedia_0220_Misan_Sagay_text.txt     , concr=1.90\n",
      "[12:42:43]  221) title=wikipedia_0221_Royal_Prussian_Military_Railway_text.txt, concr=1.97\n",
      "[12:42:44]  222) title=wikipedia_0222_Franz_Michael_Felder_text.txt, concr=1.82\n",
      "[12:42:45]  223) title=wikipedia_0223_Whitehead_manifold_text.txt, concr=1.55\n",
      "[12:42:47]  224) title=wikipedia_0224_Karlag_text.txt          , concr=2.04\n",
      "[12:42:47]  225) title=wikipedia_0225_Elly_M._Peterson_text.txt, concr=1.83\n",
      "[12:42:49]  226) title=wikipedia_0226_Dallas_Hodge_text.txt    , concr=2.11\n",
      "[12:42:51]  227) title=wikipedia_0227_Mynydd_Llangatwg_text.txt, concr=1.98\n",
      "[12:42:53]  228) title=wikipedia_0228_Pedro_de_Tovar_text.txt  , concr=1.80\n",
      "[12:42:53]  229) title=wikipedia_0229_Dennis_King_(author)_text.txt, concr=2.09\n",
      "[12:42:54]  230) title=wikipedia_0230_Oliver_Golden_text.txt   , concr=1.89\n",
      "[12:42:55]  231) title=wikipedia_0231_Marcus_Clark_&_Co._text.txt, concr=2.14\n",
      "[12:42:55]  232) title=wikipedia_0232_Tulip_Time_Festival_text.txt, concr=2.14\n",
      "[12:42:56]  233) title=wikipedia_0233_Albert_Fink_text.txt     , concr=2.00\n",
      "[12:42:57]  234) title=wikipedia_0234_James_Charles_Macnab_of_Macnab_text.txt, concr=2.00\n",
      "[12:42:58]  235) title=wikipedia_0235_William_Brown_(ship)_text.txt, concr=1.91\n",
      "[12:43:01]  236) title=wikipedia_0236_Abdul_Jamil_Shah_I_of_Pahang_text.txt, concr=1.87\n",
      "[12:43:01]  237) title=wikipedia_0237_Cyrus_Peirce_text.txt    , concr=1.72\n",
      "[12:43:02]  238) title=wikipedia_0238_HMS_M33_text.txt         , concr=1.88\n",
      "[12:43:04]  239) title=wikipedia_0239_Swamp_pink_(magazine)_text.txt, concr=1.99\n",
      "[12:43:05]  240) title=wikipedia_0240_Donald_Keith_McDowell_text.txt, concr=1.90\n",
      "[12:43:05]  241) title=wikipedia_0241_Expecting_(film)_text.txt, concr=1.71\n",
      "[12:43:06]  242) title=wikipedia_0242_William_of_Breteuil_text.txt, concr=2.04\n",
      "[12:43:07]  243) title=wikipedia_0243_Ben_Sonnenberg_text.txt  , concr=1.89\n",
      "[12:43:08]  244) title=wikipedia_0244_Arthur_Kramer_text.txt   , concr=1.77\n",
      "[12:43:09]  245) title=wikipedia_0245_Churchill_Rocket_Research_Range_text.txt, concr=1.88\n",
      "[12:43:09]  246) title=wikipedia_0246_Aviation_boatswain's_mate_text.txt, concr=2.21\n",
      "[12:43:10]  247) title=wikipedia_0247_Terry_Aulich_text.txt    , concr=1.78\n",
      "[12:43:12]  248) title=wikipedia_0248_Erotas_season_1_text.txt , concr=1.70\n",
      "[12:43:14]  249) title=wikipedia_0249_Yarigu_Helbedi_text.txt  , concr=1.78\n",
      "[12:43:15]  250) title=wikipedia_0250_Art_Donahue_text.txt     , concr=1.92\n",
      "[12:43:15]  251) title=wikipedia_0251_Mysterious_(horse)_text.txt, concr=1.99\n",
      "[12:43:16]  252) title=wikipedia_0252_SV_Nominoé_(1886)_text.txt, concr=1.96\n",
      "[12:43:18]  253) title=wikipedia_0253_Charlie_Cullinane_text.txt, concr=1.97\n",
      "[12:43:19]  254) title=wikipedia_0254_The_Thief_(Turner_novel)_text.txt, concr=1.67\n",
      "[12:43:19]  255) title=wikipedia_0255_Manchester_Association_F.C._text.txt, concr=1.96\n",
      "[12:43:20]  256) title=wikipedia_0256_Come_Along_and_Walk_with_Me_text.txt, concr=1.86\n",
      "[12:43:21]  257) title=wikipedia_0257_HMS_Minerva_(1895)_text.txt, concr=2.04\n",
      "[12:43:22]  258) title=wikipedia_0258_Botany_Bay_(film)_text.txt, concr=1.92\n",
      "[12:43:23]  259) title=wikipedia_0259_Ludic_interface_text.txt , concr=1.73\n",
      "[12:43:23]  260) title=wikipedia_0260_Mississippi_embayment_text.txt, concr=2.03\n",
      "[12:43:26]  261) title=wikipedia_0261_Pfalzfeld_text.txt       , concr=1.76\n",
      "[12:43:27]  262) title=wikipedia_0262_Fort_St._George_(Thomaston,_Maine)_text.txt, concr=2.06\n",
      "[12:43:27]  263) title=wikipedia_0263_Missile_Gap_text.txt     , concr=1.73\n",
      "[12:43:30]  264) title=wikipedia_0264_Thirumayam_text.txt      , concr=1.93\n",
      "[12:43:30]  265) title=wikipedia_0265_Daffy_Duck:_The_Marvin_Missions_text.txt, concr=1.97\n",
      "[12:43:31]  266) title=wikipedia_0266_Pont_y_Werin_text.txt    , concr=2.03\n",
      "[12:43:32]  267) title=wikipedia_0267_Beth_Israel_Synagogue_(Hamilton,_Ohio)_text.txt, concr=1.91\n",
      "[12:43:33]  268) title=wikipedia_0268_Battle_of_Niså_text.txt  , concr=1.81\n",
      "[12:43:34]  269) title=wikipedia_0269_Tau_(film)_text.txt      , concr=1.92\n",
      "[12:43:35]  270) title=wikipedia_0270_NFL_Night_Series_text.txt, concr=1.90\n",
      "[12:43:35]  271) title=wikipedia_0271_H._H._Abbott_text.txt    , concr=1.95\n",
      "[12:43:36]  272) title=wikipedia_0272_Christian_IV's_Arsenal_text.txt, concr=1.96\n",
      "[12:43:39]  273) title=wikipedia_0273_M._P._Jayaraj_text.txt   , concr=1.86\n",
      "[12:43:39]  274) title=wikipedia_0274_First_Exhibition_(1760)_text.txt, concr=1.76\n",
      "[12:43:41]  275) title=wikipedia_0275_Stefan_de_Walden_text.txt, concr=1.84\n",
      "[12:43:42]  276) title=wikipedia_0276_Zoltán_Kovac_(footballer,_born_1954)_text.txt, concr=1.72\n",
      "[12:43:44]  277) title=wikipedia_0277_Andrew_Pavlovsky_text.txt, concr=1.89\n",
      "[12:43:45]  278) title=wikipedia_0278_Bob_Pearce_text.txt      , concr=1.80\n",
      "[12:43:46]  279) title=wikipedia_0279_The_Spy_Who_Learned_Me_text.txt, concr=1.76\n",
      "[12:43:47]  280) title=wikipedia_0280_WVTX-CD_text.txt         , concr=1.98\n",
      "[12:43:48]  281) title=wikipedia_0281_Stanisław_Małachowski_text.txt, concr=1.70\n",
      "[12:43:49]  282) title=wikipedia_0282_Samuel_Owen_(engineer)_text.txt, concr=1.91\n",
      "[12:43:50]  283) title=wikipedia_0283_Liquor_Control_Act_1988_text.txt, concr=1.73\n",
      "[12:43:51]  284) title=wikipedia_0284_ATP-binding_domain_of_ABC_transporters_text.txt, concr=1.85\n",
      "[12:43:52]  285) title=wikipedia_0285_Warrulan_text.txt        , concr=1.98\n",
      "[12:43:53]  286) title=wikipedia_0286_Aalst_Chocolate_text.txt , concr=2.33\n",
      "[12:43:55]  287) title=wikipedia_0287_Huka_Entertainment_text.txt, concr=2.25\n",
      "[12:43:56]  288) title=wikipedia_0288_Ludovick_Duncombe-Jewell_Cameron_text.txt, concr=1.83\n",
      "[12:43:56]  289) title=wikipedia_0289_Study_Bible_text.txt     , concr=1.78\n",
      "[12:43:57]  290) title=wikipedia_0290_American_Council_of_Witches_text.txt, concr=1.48\n",
      "[12:43:58]  291) title=wikipedia_0291_Lifuka_Island_Airport_text.txt, concr=2.01\n",
      "[12:43:59]  292) title=wikipedia_0292_Palazzo_Madama,_Turin_text.txt, concr=1.92\n",
      "[12:44:00]  293) title=wikipedia_0293_Montereau-Fault-Yonne_text.txt, concr=1.87\n",
      "[12:44:01]  294) title=wikipedia_0294_2009_Armed_Forces_Bowl_text.txt, concr=2.07\n",
      "[12:44:02]  295) title=wikipedia_0295_Glossogobius_ankaranensis_text.txt, concr=1.96\n",
      "[12:44:04]  296) title=wikipedia_0296_Kolahoi_Peak_text.txt    , concr=1.89\n",
      "[12:44:05]  297) title=wikipedia_0297_SS_Jane_Miller_text.txt  , concr=2.05\n",
      "[12:44:06]  298) title=wikipedia_0298_BR_Standard_Class_4_2-6-0_76084_text.txt, concr=1.88\n",
      "[12:44:07]  299) title=wikipedia_0299_Rafael_María_de_Aguilar_y_Ponce_de_León_text.txt, concr=1.81\n",
      "[12:44:07]  300) title=wikipedia_0300_The_Christmas_Raccoons_text.txt, concr=2.06\n",
      "[12:44:08]  301) title=wikipedia_0301_T-bone_steak_text.txt    , concr=2.09\n",
      "[12:44:09]  302) title=wikipedia_0302_Odd_F._Lindberg_text.txt , concr=1.84\n",
      "[12:44:10]  303) title=wikipedia_0303_Denis_Mann_text.txt      , concr=1.82\n",
      "[12:44:11]  304) title=wikipedia_0304_Codru,_Moldova_text.txt  , concr=1.89\n"
     ]
    },
    {
     "name": "stdout",
     "output_type": "stream",
     "text": [
      "[12:44:12]  305) title=wikipedia_0305_Greater_Goiânia_text.txt , concr=1.69\n",
      "[12:44:12]  306) title=wikipedia_0306_The_Encounter_(2011_film)_text.txt, concr=1.75\n",
      "[12:44:13]  307) title=wikipedia_0307_Snyder,_Nebraska_text.txt, concr=1.85\n",
      "[12:44:15]  308) title=wikipedia_0308_Carrillo_family_of_California_text.txt, concr=1.97\n",
      "[12:44:16]  309) title=wikipedia_0309_Kate_Brousseau_text.txt  , concr=1.96\n",
      "[12:44:17]  310) title=wikipedia_0310_(Turn_On)_The_Music_Machine_text.txt, concr=1.83\n",
      "[12:44:17]  311) title=wikipedia_0311_Arthur_M._Young_text.txt , concr=1.82\n",
      "[12:44:18]  312) title=wikipedia_0312_Caesars_Head_State_Park_text.txt, concr=2.14\n",
      "[12:44:19]  313) title=wikipedia_0313_The_Velaires_text.txt    , concr=1.97\n",
      "[12:44:20]  314) title=wikipedia_0314_Edith_Wilson_(singer)_text.txt, concr=1.93\n",
      "[12:44:22]  315) title=wikipedia_0315_British_Society_of_Urogynaecology_text.txt, concr=1.74\n",
      "[12:44:22]  316) title=wikipedia_0316_The_Three_Clever_Kings_text.txt, concr=1.79\n",
      "[12:44:23]  317) title=wikipedia_0317_1948_Nauru_riots_text.txt, concr=1.80\n",
      "[12:44:24]  318) title=wikipedia_0318_Jerviston_text.txt       , concr=1.94\n",
      "[12:44:24]  319) title=wikipedia_0319_Solar_eclipse_of_September_4,_2100_text.txt, concr=1.89\n",
      "[12:44:25]  320) title=wikipedia_0320_Shelly_Beach_(Manly)_text.txt, concr=2.08\n",
      "[12:44:26]  321) title=wikipedia_0321_David_Yonggi_Cho_text.txt, concr=1.80\n",
      "[12:44:27]  322) title=wikipedia_0322_Mastery_(horse)_text.txt , concr=1.88\n",
      "[12:44:28]  323) title=wikipedia_0323_Richard_Becker_(music_publisher)_text.txt, concr=1.79\n",
      "[12:44:29]  324) title=wikipedia_0324_Layer_Road_text.txt      , concr=1.98\n",
      "[12:44:30]  325) title=wikipedia_0325_Leienfels_Castle_text.txt, concr=1.93\n",
      "[12:44:31]  326) title=wikipedia_0326_Karl_Schembri_text.txt   , concr=2.00\n",
      "[12:44:35]  327) title=wikipedia_0327_Khlong_Samrong_text.txt  , concr=1.97\n",
      "[12:44:36]  328) title=wikipedia_0328_Falcon_Ridge_Folk_Festival_text.txt, concr=2.06\n",
      "[12:44:36]  329) title=wikipedia_0329_Ludo_Martens_text.txt    , concr=1.84\n",
      "[12:44:38]  330) title=wikipedia_0330_Edith_McAllister_text.txt, concr=2.00\n",
      "[12:44:38]  331) title=wikipedia_0331_Tallahassee_Democrat_text.txt, concr=1.98\n",
      "[12:44:39]  332) title=wikipedia_0332_Theologia_Poetica_text.txt, concr=1.44\n",
      "[12:44:41]  333) title=wikipedia_0333_MacPherson_Presbyterian_Church_text.txt, concr=2.06\n",
      "[12:44:41]  334) title=wikipedia_0334_Margaret_Gurney_text.txt , concr=1.83\n",
      "[12:44:43]  335) title=wikipedia_0335_Sofia_Kuvshinnikova_text.txt, concr=1.76\n",
      "[12:44:43]  336) title=wikipedia_0336_F-scale_(personality_test)_text.txt, concr=1.41\n",
      "[12:44:43]  337) title=wikipedia_0337_Moral_waiver_text.txt    , concr=1.59\n",
      "[12:44:44]  338) title=wikipedia_0338_East_Saltoun_and_West_Saltoun_text.txt, concr=2.06\n",
      "[12:44:47]  339) title=wikipedia_0339_Richard_Kaden_text.txt   , concr=1.88\n",
      "[12:44:47]  340) title=wikipedia_0340_Sonnet_17_text.txt       , concr=1.62\n",
      "[12:44:48]  341) title=wikipedia_0341_Galo_Plaza_text.txt      , concr=1.78\n",
      "[12:44:49]  342) title=wikipedia_0342_Frances_Dias_text.txt    , concr=1.97\n",
      "[12:44:50]  343) title=wikipedia_0343_Kerala_Financial_Corporation_text.txt, concr=1.69\n",
      "[12:44:52]  344) title=wikipedia_0344_Samba_(bank)_text.txt    , concr=1.92\n",
      "[12:44:52]  345) title=wikipedia_0345_Warner_Parks_text.txt    , concr=2.08\n",
      "[12:44:53]  346) title=wikipedia_0346_Andrew_Buckland_(playwright)_text.txt, concr=2.04\n",
      "[12:44:54]  347) title=wikipedia_0347_Czech_Science_Foundation_text.txt, concr=1.59\n",
      "[12:44:55]  348) title=wikipedia_0348_Green_Star_(Australia)_text.txt, concr=1.97\n",
      "[12:44:56]  349) title=wikipedia_0349_Bayes_linear_statistics_text.txt, concr=1.27\n",
      "[12:44:57]  350) title=wikipedia_0350_Richard_Heslop_(director)_text.txt, concr=2.01\n",
      "[12:44:57]  351) title=wikipedia_0351_12th_Mississippi_Infantry_Regiment_text.txt, concr=1.91\n",
      "[12:44:59]  352) title=wikipedia_0352_Circassians_in_Kosovo_text.txt, concr=1.89\n",
      "[12:45:01]  353) title=wikipedia_0353_Baltic_knighthoods_text.txt, concr=1.74\n",
      "[12:45:03]  354) title=wikipedia_0354_Abdulcelil_Levni_text.txt, concr=1.90\n",
      "[12:45:05]  355) title=wikipedia_0355_Thirupullabhoothangudi_Temple_text.txt, concr=1.94\n",
      "[12:45:10]  356) title=wikipedia_0356_Dih_(archaeology)_text.txt, concr=1.85\n",
      "[12:45:12]  357) title=wikipedia_0357_Orhuwhorun_text.txt      , concr=1.82\n",
      "[12:45:13]  358) title=wikipedia_0358_Geneva_Observatory_text.txt, concr=1.83\n",
      "[12:45:15]  359) title=wikipedia_0359_Milan_Lukač_text.txt     , concr=1.84\n",
      "[12:45:16]  360) title=wikipedia_0360_Abe_Greenthal_text.txt   , concr=1.94\n",
      "[12:45:17]  361) title=wikipedia_0361_Colin_Eaborn_text.txt    , concr=1.66\n",
      "[12:45:17]  362) title=wikipedia_0362_10th_Infantry_Brigade_(New_Zealand)_text.txt, concr=1.75\n",
      "[12:45:18]  363) title=wikipedia_0363_Jacob_Aldolphus_Bryce_text.txt, concr=2.02\n",
      "[12:45:20]  364) title=wikipedia_0364_Ariadna_Shengelaya_text.txt, concr=1.94\n",
      "[12:45:21]  365) title=wikipedia_0365_Yelverton_Inn_and_Store_text.txt, concr=1.89\n",
      "[12:45:22]  366) title=wikipedia_0366_Peter_Krogh_(photographer)_text.txt, concr=2.05\n",
      "[12:45:23]  367) title=wikipedia_0367_Hilbert's_fifteenth_problem_text.txt, concr=1.47\n",
      "[12:45:25]  368) title=wikipedia_0368_Dany_Roland_text.txt     , concr=1.86\n",
      "[12:45:27]  369) title=wikipedia_0369_Tubac_Presidio_State_Historic_Park_text.txt, concr=2.01\n",
      "[12:45:28]  370) title=wikipedia_0370_Mary_Hutcheson_Page_text.txt, concr=1.85\n",
      "[12:45:29]  371) title=wikipedia_0371_Claire_Bennet_text.txt   , concr=1.67\n",
      "[12:45:30]  372) title=wikipedia_0372_Mary_Smith_Lockwood_text.txt, concr=2.01\n",
      "[12:45:30]  373) title=wikipedia_0373_Tarleton_Academy_text.txt, concr=1.88\n",
      "[12:45:31]  374) title=wikipedia_0374_The_Squire's_Tale_text.txt, concr=1.69\n",
      "[12:45:32]  375) title=wikipedia_0375_Thomas_Anselmi_text.txt  , concr=1.90\n",
      "[12:45:33]  376) title=wikipedia_0376_Pilottown,_Louisiana_text.txt, concr=2.16\n",
      "[12:45:35]  377) title=wikipedia_0377_Lucien_Laberthonnière_text.txt, concr=1.59\n",
      "[12:45:36]  378) title=wikipedia_0378_Majorinus_text.txt       , concr=1.59\n",
      "[12:45:37]  379) title=wikipedia_0379_The_New_Mother_text.txt  , concr=1.93\n",
      "[12:45:38]  380) title=wikipedia_0380_Gelation_text.txt        , concr=1.51\n",
      "[12:45:38]  381) title=wikipedia_0381_West_Dover,_Nova_Scotia_text.txt, concr=2.17\n",
      "[12:45:40]  382) title=wikipedia_0382_Louis_Navellier_text.txt , concr=1.87\n",
      "[12:45:41]  383) title=wikipedia_0383_Bitter_Spring_(San_Bernardino_County)_text.txt, concr=2.00\n",
      "[12:45:41]  384) title=wikipedia_0384_Asia_(magazine)_text.txt , concr=1.85\n",
      "[12:45:43]  385) title=wikipedia_0385_MH_Message_Handling_System_text.txt, concr=1.69\n",
      "[12:45:43]  386) title=wikipedia_0386_Field_Trip_(band)_text.txt, concr=1.98\n",
      "[12:45:46]  387) title=wikipedia_0387_Takase_River_text.txt    , concr=2.05\n",
      "[12:45:47]  388) title=wikipedia_0388_Catholic_University_Cardinals_rowing_text.txt, concr=2.00\n",
      "[12:45:48]  389) title=wikipedia_0389_Nick_Reynolds_text.txt   , concr=1.90\n",
      "[12:45:49]  390) title=wikipedia_0390_Dave_Aron_text.txt       , concr=2.06\n",
      "[12:45:50]  391) title=wikipedia_0391_Revaz_Chomakhidze_text.txt, concr=1.80\n",
      "[12:45:52]  392) title=wikipedia_0392_Yilma_Deressa_text.txt   , concr=1.77\n",
      "[12:45:53]  393) title=wikipedia_0393_Your_Friend_the_Rat_text.txt, concr=1.83\n",
      "[12:45:53]  394) title=wikipedia_0394_EFF_DES_cracker_text.txt , concr=1.72\n",
      "[12:45:54]  395) title=wikipedia_0395_Patricia_McIlrath_text.txt, concr=1.95\n",
      "[12:45:55]  396) title=wikipedia_0396_Megan_Marshack_text.txt  , concr=1.81\n",
      "[12:45:56]  397) title=wikipedia_0397_Max_Gluckman_text.txt    , concr=1.66\n",
      "[12:45:58]  398) title=wikipedia_0398_Susana_Naidich_text.txt  , concr=1.87\n",
      "[12:45:59]  399) title=wikipedia_0399_1978_Nobel_Prize_in_Literature_text.txt, concr=1.58\n",
      "[12:46:00]  400) title=wikipedia_0400_Peter_Beet_text.txt      , concr=2.03\n",
      "[12:46:01]  401) title=wikipedia_0401_Iván_Argote_text.txt     , concr=1.90\n",
      "[12:46:03]  402) title=wikipedia_0402_Blueschist_text.txt      , concr=1.92\n",
      "[12:46:04]  403) title=wikipedia_0403_Helen_Copenhaver_Hanes_text.txt, concr=1.92\n",
      "[12:46:06]  404) title=wikipedia_0404_Naceur_Ben_Jaâfar_text.txt, concr=1.79\n",
      "[12:46:06]  405) title=wikipedia_0405_Vietnam_Day_Committee_text.txt, concr=1.93\n",
      "[12:46:07]  406) title=wikipedia_0406_Statutory_citizenship_text.txt, concr=1.46\n",
      "[12:46:09]  407) title=wikipedia_0407_Yuno_Avshalumov_text.txt , concr=1.92\n"
     ]
    },
    {
     "name": "stdout",
     "output_type": "stream",
     "text": [
      "[12:46:10]  408) title=wikipedia_0408_Lee_Sing-man_text.txt    , concr=1.84\n",
      "[12:46:11]  409) title=wikipedia_0409_York_Flour_Mill_text.txt , concr=2.11\n",
      "[12:46:12]  410) title=wikipedia_0410_Chihaya_Adachi_text.txt  , concr=1.86\n",
      "[12:46:14]  411) title=wikipedia_0411_Beijing_U7_text.txt      , concr=2.00\n",
      "[12:46:14]  412) title=wikipedia_0412_Old_Bank_Arcade_text.txt , concr=2.02\n",
      "[12:46:15]  413) title=wikipedia_0413_Dorothy_Fay_text.txt     , concr=2.01\n",
      "[12:46:16]  414) title=wikipedia_0414_Regular_embedding_text.txt, concr=1.34\n",
      "[12:46:19]  415) title=wikipedia_0415_Xu_Ci_text.txt           , concr=1.68\n",
      "[12:46:20]  416) title=wikipedia_0416_Baarìa_(film)_text.txt   , concr=1.82\n",
      "[12:46:21]  417) title=wikipedia_0417_Eric_McCain_text.txt     , concr=2.14\n",
      "[12:46:23]  418) title=wikipedia_0418_José_Mari_Martínez_(Spanish_footballer)_text.txt, concr=1.73\n",
      "[12:46:24]  419) title=wikipedia_0419_Celeste_Gold_Broughton_text.txt, concr=2.20\n",
      "[12:46:25]  420) title=wikipedia_0420_Charles_R._Doty_text.txt , concr=1.68\n",
      "[12:46:26]  421) title=wikipedia_0421_Hekuran_Isai_text.txt    , concr=1.69\n",
      "[12:46:28]  422) title=wikipedia_0422_Álvaro_de_Albornoz_text.txt, concr=1.78\n",
      "[12:46:29]  423) title=wikipedia_0423_Kinn_Church_text.txt     , concr=1.86\n",
      "[12:46:30]  424) title=wikipedia_0424_Eugene_Curnow_text.txt   , concr=1.95\n",
      "[12:46:31]  425) title=wikipedia_0425_Lionville,_Pennsylvania_text.txt, concr=1.89\n",
      "[12:46:32]  426) title=wikipedia_0426_Calspan_text.txt         , concr=1.90\n",
      "[12:46:34]  427) title=wikipedia_0427_KNST_text.txt            , concr=2.01\n",
      "[12:46:36]  428) title=wikipedia_0428_Werenfried_of_Elst_text.txt, concr=1.72\n",
      "[12:46:36]  429) title=wikipedia_0429_Catherine_Claude_text.txt, concr=1.77\n",
      "[12:46:37]  430) title=wikipedia_0430_The_French_Revolution_(poem)_text.txt, concr=1.52\n",
      "[12:46:38]  431) title=wikipedia_0431_Zephyr_(artist)_text.txt , concr=1.94\n",
      "[12:46:39]  432) title=wikipedia_0432_Snow_Lantern_text.txt    , concr=2.02\n",
      "[12:46:39]  433) title=wikipedia_0433_Self-storage_box_text.txt, concr=1.85\n",
      "[12:46:40]  434) title=wikipedia_0434_Víctor_Chou_text.txt     , concr=1.88\n",
      "[12:46:42]  435) title=wikipedia_0435_Lola_B08_60_text.txt     , concr=1.77\n",
      "[12:46:43]  436) title=wikipedia_0436_São_Paulo_School_of_Arts_and_Crafts_text.txt, concr=1.63\n",
      "[12:46:44]  437) title=wikipedia_0437_Ketonic_decarboxylation_text.txt, concr=1.87\n",
      "[12:46:45]  438) title=wikipedia_0438_Mary_Holmes_College_text.txt, concr=1.85\n",
      "[12:46:45]  439) title=wikipedia_0439_Firstborn_(1984_film)_text.txt, concr=1.83\n",
      "[12:46:46]  440) title=wikipedia_0440_Marcus_Montana_text.txt  , concr=1.95\n",
      "[12:46:48]  441) title=wikipedia_0441_Oru_Naal_Varum_text.txt  , concr=1.79\n",
      "[12:46:49]  442) title=wikipedia_0442_United_States_Virgin_Islands_national_cricket_team_text.txt, concr=1.99\n",
      "[12:46:49]  443) title=wikipedia_0443_Alexander_Wade_text.txt  , concr=1.97\n",
      "[12:46:50]  444) title=wikipedia_0444_Solar_eclipse_of_May_21,_2031_text.txt, concr=1.88\n",
      "[12:46:51]  445) title=wikipedia_0445_Charles_Reid_(rugby_union)_text.txt, concr=1.80\n",
      "[12:46:52]  446) title=wikipedia_0446_P-rallel_text.txt        , concr=1.87\n",
      "[12:46:54]  447) title=wikipedia_0447_The_Warden_text.txt      , concr=1.73\n",
      "[12:46:55]  448) title=wikipedia_0448_Twister_ribozyme_text.txt, concr=1.91\n",
      "[12:46:56]  449) title=wikipedia_0449_Reverie_Sound_Revue_text.txt, concr=1.92\n",
      "[12:46:57]  450) title=wikipedia_0450_Rock_Scully_text.txt     , concr=1.83\n",
      "[12:46:57]  451) title=wikipedia_0451_The_Rock_Machine_Turns_You_On_text.txt, concr=1.98\n",
      "[12:46:58]  452) title=wikipedia_0452_API_management_text.txt  , concr=1.70\n",
      "[12:46:59]  453) title=wikipedia_0453_Velvet-browed_brilliant_text.txt, concr=1.97\n",
      "[12:47:00]  454) title=wikipedia_0454_Woolsey_Flat,_California_text.txt, concr=1.96\n",
      "[12:47:01]  455) title=wikipedia_0455_Rhea_Sylvia_(EP)_text.txt, concr=1.85\n",
      "[12:47:03]  456) title=wikipedia_0456_USS_Dortch_text.txt      , concr=2.02\n",
      "[12:47:05]  457) title=wikipedia_0457_Nørrebrogade_text.txt    , concr=2.07\n",
      "[12:47:05]  458) title=wikipedia_0458_Charles_Lauritsen_text.txt, concr=1.85\n",
      "[12:47:06]  459) title=wikipedia_0459_Cross-matching_text.txt  , concr=1.87\n",
      "[12:47:08]  460) title=wikipedia_0460_Evencio_Castellanos_text.txt, concr=1.89\n",
      "[12:47:09]  461) title=wikipedia_0461_Triclopyr_text.txt       , concr=2.06\n",
      "[12:47:09]  462) title=wikipedia_0462_Spontaneous_process_text.txt, concr=1.40\n",
      "[12:47:10]  463) title=wikipedia_0463_Associate_of_Science_in_Nursing_text.txt, concr=1.75\n",
      "[12:47:11]  464) title=wikipedia_0464_Darlington_St_Augustine's_F.C._text.txt, concr=1.84\n",
      "[12:47:11]  465) title=wikipedia_0465_The_Cruciferous_Vegetable_Amplification_text.txt, concr=1.81\n",
      "[12:47:12]  466) title=wikipedia_0466_Jehovah's_Witnesses_splinter_groups_text.txt, concr=1.77\n",
      "[12:47:12]  467) title=wikipedia_0467_Francesco_De_Rosa_text.txt, concr=1.82\n",
      "[12:47:13]  468) title=wikipedia_0468_Marie_Ruoff_Byrum_text.txt, concr=1.88\n",
      "[12:47:15]  469) title=wikipedia_0469_For_the_Love_of_Benji_text.txt, concr=2.04\n",
      "[12:47:16]  470) title=wikipedia_0470_Koteeswarudu_text.txt    , concr=1.78\n",
      "[12:47:17]  471) title=wikipedia_0471_Lillian_May_Armfield_text.txt, concr=1.95\n",
      "[12:47:18]  472) title=wikipedia_0472_Sound_Magazine_text.txt  , concr=2.05\n",
      "[12:47:18]  473) title=wikipedia_0473_Conner_High_School_text.txt, concr=1.95\n",
      "[12:47:20]  474) title=wikipedia_0474_Hohnstein_Castle_text.txt, concr=1.82\n",
      "[12:47:21]  475) title=wikipedia_0475_St._Lawrence_Arts_Center_text.txt, concr=1.84\n",
      "[12:47:21]  476) title=wikipedia_0476_Rebecca_Lord_text.txt    , concr=1.85\n",
      "[12:47:23]  477) title=wikipedia_0477_Naftali_Herz_Imber_text.txt, concr=1.89\n",
      "[12:47:24]  478) title=wikipedia_0478_New_York_State_Route_249_text.txt, concr=2.17\n",
      "[12:47:25]  479) title=wikipedia_0479_Hatherton_Flush_text.txt , concr=2.23\n",
      "[12:47:27]  480) title=wikipedia_0480_Beer_in_Central_America_text.txt, concr=2.19\n",
      "[12:47:29]  481) title=wikipedia_0481_Ilī-padâ_text.txt        , concr=1.80\n",
      "[12:47:31]  482) title=wikipedia_0482_Taunton_Priory_text.txt  , concr=1.97\n",
      "[12:47:32]  483) title=wikipedia_0483_Polish_Statistical_Association_text.txt, concr=1.65\n",
      "[12:47:33]  484) title=wikipedia_0484_Le_Brun_Stradivarius_text.txt, concr=1.86\n",
      "[12:47:36]  485) title=wikipedia_0485_Sixt-Fer-à-Cheval_text.txt, concr=2.03\n",
      "[12:47:37]  486) title=wikipedia_0486_Clementina_Forleo_text.txt, concr=1.77\n",
      "[12:47:38]  487) title=wikipedia_0487_Matt_Mauck_text.txt      , concr=2.03\n",
      "[12:47:39]  488) title=wikipedia_0488_Neal_Ford_and_the_Fanatics_text.txt, concr=1.89\n",
      "[12:47:41]  489) title=wikipedia_0489_Muhammad_Abdul_Hafiz_text.txt, concr=1.95\n",
      "[12:47:42]  490) title=wikipedia_0490_$50SAT_text.txt          , concr=1.94\n",
      "[12:47:43]  491) title=wikipedia_0491_William_Henry_Draper_(judge)_text.txt, concr=1.87\n",
      "[12:47:45]  492) title=wikipedia_0492_Ratoncito_Pérez_text.txt , concr=1.94\n",
      "[12:47:47]  493) title=wikipedia_0493_MV_Coelleira_text.txt    , concr=1.89\n",
      "[12:47:48]  494) title=wikipedia_0494_Tommaso_A._Dragani_text.txt, concr=1.83\n",
      "[12:47:49]  495) title=wikipedia_0495_Edward_Byrne_(police_officer)_text.txt, concr=1.96\n",
      "[12:47:51]  496) title=wikipedia_0496_Arnaud_de_Puyfontaine_text.txt, concr=1.81\n",
      "[12:47:51]  497) title=wikipedia_0497_My_Little_Pony:_Rainbow_Roadtrip_text.txt, concr=2.08\n",
      "[12:47:52]  498) title=wikipedia_0498_Charles_Goore_text.txt   , concr=1.76\n",
      "[12:47:53]  499) title=wikipedia_0499_Coastland_Center_text.txt, concr=2.08\n",
      "[12:47:55]  500) title=wikipedia_0500_Ferdynand_Goetel_text.txt, concr=1.85\n",
      "[12:47:56]  501) title=wikipedia_0501_Maungwudaus_text.txt     , concr=1.91\n",
      "[12:47:57]  502) title=wikipedia_0502_The_Mark_IV_text.txt     , concr=1.84\n",
      "[12:47:58]  503) title=wikipedia_0503_Jennifer_Balch_text.txt  , concr=1.89\n",
      "[12:47:59]  504) title=wikipedia_0504_Sebamed_text.txt         , concr=2.02\n",
      "[12:48:00]  505) title=wikipedia_0505_SS_Sapulpa_Victory_text.txt, concr=2.05\n",
      "[12:48:02]  506) title=wikipedia_0506_Compañía_Minera_Atacocha_text.txt, concr=1.86\n",
      "[12:48:02]  507) title=wikipedia_0507_Australian_Ex-Prisoners_of_War_Memorial_text.txt, concr=1.84\n",
      "[12:48:03]  508) title=wikipedia_0508_A.F.C._Stoneham_text.txt , concr=1.82\n",
      "[12:48:04]  509) title=wikipedia_0509_Hugh_Monroe_text.txt     , concr=1.93\n",
      "[12:48:06]  510) title=wikipedia_0510_Sharon_Riley_text.txt    , concr=1.85\n"
     ]
    },
    {
     "name": "stdout",
     "output_type": "stream",
     "text": [
      "[12:48:07]  511) title=wikipedia_0511_John_Sadleir_text.txt    , concr=1.82\n",
      "[12:48:08]  512) title=wikipedia_0512_USS_Alabaster_text.txt   , concr=2.06\n",
      "[12:48:09]  513) title=wikipedia_0513_Belmont_County_Courthouse_text.txt, concr=2.13\n",
      "[12:48:10]  514) title=wikipedia_0514_Obice_da_280_text.txt    , concr=1.89\n",
      "[12:48:10]  515) title=wikipedia_0515_Helen_Mack_Chang_text.txt, concr=1.82\n",
      "[12:48:12]  516) title=wikipedia_0516_Belushya_Guba_text.txt   , concr=2.04\n",
      "[12:48:13]  517) title=wikipedia_0517_United_States_v._Article_Consisting_of_50,000_Cardboard_Boxes_More_or_Less,_Each_Containing_One_Pair_of_Clacker_Balls_text.txt, concr=1.69\n",
      "[12:48:13]  518) title=wikipedia_0518_Robert_Mallory_Berry_text.txt, concr=2.07\n",
      "[12:48:14]  519) title=wikipedia_0519_Lithium_Tokamak_Experiment_text.txt, concr=1.84\n",
      "[12:48:15]  520) title=wikipedia_0520_Ideal_(novel)_text.txt   , concr=1.65\n",
      "[12:48:16]  521) title=wikipedia_0521_A_29-Cent_Robbery_text.txt, concr=1.81\n",
      "[12:48:17]  522) title=wikipedia_0522_Annie_Booth_text.txt     , concr=2.10\n",
      "[12:48:17]  523) title=wikipedia_0523_Chips_Ahoy!_text.txt     , concr=2.20\n",
      "[12:48:19]  524) title=wikipedia_0524_Finiteness_properties_of_groups_text.txt, concr=1.40\n",
      "[12:48:20]  525) title=wikipedia_0525_European_Engineer_text.txt, concr=1.56\n",
      "[12:48:22]  526) title=wikipedia_0526_Simantonnayana_text.txt  , concr=1.80\n",
      "[12:48:23]  527) title=wikipedia_0527_Regis_de_Ramel_text.txt  , concr=2.13\n",
      "[12:48:24]  528) title=wikipedia_0528_Vejby_Church_text.txt    , concr=1.95\n",
      "[12:48:26]  529) title=wikipedia_0529_Centre_for_Political_and_Constitutional_Studies_text.txt, concr=1.66\n",
      "[12:48:28]  530) title=wikipedia_0530_S_(Suzuki_novel)_text.txt, concr=1.83\n",
      "[12:48:29]  531) title=wikipedia_0531_We_Think_It's_Love_text.txt, concr=1.82\n",
      "[12:48:29]  532) title=wikipedia_0532_Pretty_Mouth_and_Green_My_Eyes_text.txt, concr=1.74\n",
      "[12:48:30]  533) title=wikipedia_0533_The_Female_Quixote_text.txt, concr=1.68\n",
      "[12:48:31]  534) title=wikipedia_0534_Fulton_County_Courthouse_(Ohio)_text.txt, concr=2.03\n",
      "[12:48:33]  535) title=wikipedia_0535_Hammal_Jiand_text.txt    , concr=1.79\n",
      "[12:48:33]  536) title=wikipedia_0536_Jack_Ikegwuonu_text.txt  , concr=2.00\n",
      "[12:48:34]  537) title=wikipedia_0537_Randy_Barlow_text.txt    , concr=2.03\n",
      "[12:48:35]  538) title=wikipedia_0538_Caldera_de_Taburiente_National_Park_text.txt, concr=1.96\n",
      "[12:48:37]  539) title=wikipedia_0539_Diana_Nemorensis_text.txt, concr=1.79\n",
      "[12:48:38]  540) title=wikipedia_0540_On_the_Sunny_Side_(1961_film)_text.txt, concr=1.77\n",
      "[12:48:40]  541) title=wikipedia_0541_Amati_Kraslice_text.txt  , concr=1.89\n",
      "[12:48:41]  542) title=wikipedia_0542_Richard_Mulcahy_(Australian_politician)_text.txt, concr=1.77\n",
      "[12:48:42]  543) title=wikipedia_0543_SFG_87_text.txt          , concr=1.93\n",
      "[12:48:42]  544) title=wikipedia_0544_Leslie_Woman_Suffrage_Commission_text.txt, concr=1.75\n",
      "[12:48:43]  545) title=wikipedia_0545_Clover_Leaf_Seafoods_text.txt, concr=2.27\n",
      "[12:48:44]  546) title=wikipedia_0546_Heaven_Surrounds_You_text.txt, concr=1.85\n",
      "[12:48:45]  547) title=wikipedia_0547_Alexander_Stewart_(bishop_of_Ross)_text.txt, concr=1.62\n",
      "[12:48:48]  548) title=wikipedia_0548_Christopher_Ward_(conductor)_text.txt, concr=2.10\n",
      "[12:48:50]  549) title=wikipedia_0549_Praxis_pietatis_melica_text.txt, concr=1.70\n",
      "[12:48:51]  550) title=wikipedia_0550_Spanish_Tax_Agency_text.txt, concr=1.48\n",
      "[12:48:52]  551) title=wikipedia_0551_William_R._Smith_(Utah_politician)_text.txt, concr=1.96\n",
      "[12:48:53]  552) title=wikipedia_0552_Bréguet_4_text.txt       , concr=1.90\n",
      "[12:48:56]  553) title=wikipedia_0553_Brauweiler,_Rhineland-Palatinate_text.txt, concr=1.81\n",
      "[12:48:56]  554) title=wikipedia_0554_Doria_Deighton-Jones_text.txt, concr=1.94\n",
      "[12:48:57]  555) title=wikipedia_0555_Oppressed_Logic_text.txt , concr=2.05\n",
      "[12:48:58]  556) title=wikipedia_0556_John_Bell_(bishop_of_Worcester)_text.txt, concr=1.79\n",
      "[12:48:59]  557) title=wikipedia_0557_Jacob_Thorkelson_text.txt, concr=1.83\n",
      "[12:48:59]  558) title=wikipedia_0558_Mount_Pleasant,_Brampton_text.txt, concr=1.93\n",
      "[12:49:01]  559) title=wikipedia_0559_Edward_Petherick_text.txt, concr=1.89\n",
      "[12:49:02]  560) title=wikipedia_0560_Mazda_K_engine_text.txt  , concr=1.87\n",
      "[12:49:04]  561) title=wikipedia_0561_Hum_Kaun_Hai?_text.txt   , concr=1.87\n",
      "[12:49:05]  562) title=wikipedia_0562_Rob_Shields_text.txt     , concr=2.00\n",
      "[12:49:06]  563) title=wikipedia_0563_Greenwich_(1800_ship)_text.txt, concr=2.06\n",
      "[12:49:07]  564) title=wikipedia_0564_Who_Shot_the_Sheriff?_text.txt, concr=1.85\n",
      "[12:49:08]  565) title=wikipedia_0565_E._G._Swain_text.txt     , concr=1.88\n",
      "[12:49:09]  566) title=wikipedia_0566_Wirehaired_Vizsla_text.txt, concr=1.85\n",
      "[12:49:10]  567) title=wikipedia_0567_Death_on_the_Run_text.txt, concr=1.95\n",
      "[12:49:11]  568) title=wikipedia_0568_Cory_McDiarmid_text.txt  , concr=1.92\n",
      "[12:49:11]  569) title=wikipedia_0569_Davis's_law_text.txt     , concr=1.73\n",
      "[12:49:12]  570) title=wikipedia_0570_Calcutta_(1794_ship)_text.txt, concr=2.06\n",
      "[12:49:13]  571) title=wikipedia_0571_Missisquoi_National_Wildlife_Refuge_text.txt, concr=2.21\n",
      "[12:49:14]  572) title=wikipedia_0572_Roch_Carrier_text.txt    , concr=1.83\n",
      "[12:49:14]  573) title=wikipedia_0573_John_S._Barbour_Jr._text.txt, concr=1.96\n",
      "[12:49:15]  574) title=wikipedia_0574_Scott_Laidlaw_text.txt   , concr=1.96\n",
      "[12:49:17]  575) title=wikipedia_0575_Jesús_Enrique_Lossada_Municipality_text.txt, concr=2.00\n",
      "[12:49:18]  576) title=wikipedia_0576_Henry_Orange_Glidden_text.txt, concr=1.97\n",
      "[12:49:19]  577) title=wikipedia_0577_Fissidens_limbatus_text.txt, concr=1.97\n",
      "[12:49:20]  578) title=wikipedia_0578_Gene_G._Chandler_text.txt, concr=1.91\n",
      "[12:49:21]  579) title=wikipedia_0579_Mary_Levison_text.txt    , concr=1.88\n",
      "[12:49:21]  580) title=wikipedia_0580_Fletcher_Srygley_text.txt, concr=1.67\n",
      "[12:49:24]  581) title=wikipedia_0581_North_Junín_Quechua_text.txt, concr=1.77\n",
      "[12:49:25]  582) title=wikipedia_0582_Alagón_del_Río_text.txt  , concr=1.80\n",
      "[12:49:26]  583) title=wikipedia_0583_Introduction_to_the_Devout_Life_text.txt, concr=1.59\n",
      "[12:49:27]  584) title=wikipedia_0584_Death_of_Maki_Skosana_text.txt, concr=1.85\n",
      "[12:49:30]  585) title=wikipedia_0585_Rain_Rain_Come_Again_text.txt, concr=1.90\n",
      "[12:49:30]  586) title=wikipedia_0586_Alex_Ko_text.txt         , concr=2.02\n",
      "[12:49:32]  587) title=wikipedia_0587_Kipawa_River_text.txt    , concr=2.01\n",
      "[12:49:33]  588) title=wikipedia_0588_Nakhchivan_necropolises_text.txt, concr=2.11\n",
      "[12:49:35]  589) title=wikipedia_0589_La_Martona_text.txt      , concr=1.89\n",
      "[12:49:36]  590) title=wikipedia_0590_Alphabet_(formal_languages)_text.txt, concr=1.56\n",
      "[12:49:37]  591) title=wikipedia_0591_Hakea_gibbosa_text.txt   , concr=2.15\n",
      "[12:49:38]  592) title=wikipedia_0592_Pope_Leo_XIII_and_Russia_text.txt, concr=1.65\n",
      "[12:49:39]  593) title=wikipedia_0593_A_Death_Worse_Than_Fate_text.txt, concr=2.01\n",
      "[12:49:40]  594) title=wikipedia_0594_Peter_B._Rutledge_text.txt, concr=1.77\n",
      "[12:49:40]  595) title=wikipedia_0595_Clinton_Branch,_Huron_County_Library_text.txt, concr=1.82\n",
      "[12:49:42]  596) title=wikipedia_0596_Elsa_Bois_text.txt       , concr=1.82\n",
      "[12:49:43]  597) title=wikipedia_0597_I_Alone_Can_Fix_It_text.txt, concr=1.81\n",
      "[12:49:43]  598) title=wikipedia_0598_Claire_L._Felbinger_text.txt, concr=1.66\n",
      "[12:49:44]  599) title=wikipedia_0599_Earnest_C._Watson_text.txt, concr=1.86\n",
      "[12:49:45]  600) title=wikipedia_0600_Matthew_Fox_(author)_text.txt, concr=1.89\n",
      "[12:49:45]  601) title=wikipedia_0601_If_I'm_the_Devil..._text.txt, concr=1.71\n",
      "[12:49:48]  602) title=wikipedia_0602_Hajar_Bachhor_Dhore_text.txt, concr=1.83\n",
      "[12:49:48]  603) title=wikipedia_0603_Jacob_Epstein_(art_collector)_text.txt, concr=2.05\n",
      "[12:49:49]  604) title=wikipedia_0604_Gianfranco_Girotti_text.txt, concr=1.58\n",
      "[12:49:50]  605) title=wikipedia_0605_List_of_trails_in_Grand_Canyon_National_Park_text.txt, concr=1.99\n",
      "[12:49:52]  606) title=wikipedia_0606_Desfolhada_portuguesa_text.txt, concr=1.80\n",
      "[12:49:53]  607) title=wikipedia_0607_Salvador_of_Horta_text.txt, concr=1.80\n",
      "[12:49:54]  608) title=wikipedia_0608_Erica_Vaal_text.txt      , concr=1.97\n",
      "[12:49:55]  609) title=wikipedia_0609_Islam_in_Madagascar_text.txt, concr=1.79\n",
      "[12:49:56]  610) title=wikipedia_0610_LSWR_G14_class_text.txt  , concr=1.77\n"
     ]
    },
    {
     "name": "stdout",
     "output_type": "stream",
     "text": [
      "[12:49:58]  611) title=wikipedia_0611_Melissa_P._(film)_text.txt, concr=1.92\n",
      "[12:49:59]  612) title=wikipedia_0612_Marie_Loftus_text.txt    , concr=1.93\n",
      "[12:50:01]  613) title=wikipedia_0613_Torridonian_text.txt     , concr=1.75\n",
      "[12:50:02]  614) title=wikipedia_0614_Anna_Hope_Hudson_text.txt, concr=1.96\n",
      "[12:50:03]  615) title=wikipedia_0615_Into_My_Music_text.txt   , concr=1.82\n",
      "[12:50:04]  616) title=wikipedia_0616_Charles_Swinnerton_Heap_text.txt, concr=2.08\n",
      "[12:50:05]  617) title=wikipedia_0617_Battle_of_Lwów_(1920)_text.txt, concr=1.91\n",
      "[12:50:06]  618) title=wikipedia_0618_John_Halpern_text.txt    , concr=1.87\n",
      "[12:50:08]  619) title=wikipedia_0619_Lila_Poonawalla_text.txt , concr=1.79\n",
      "[12:50:08]  620) title=wikipedia_0620_Lanterns_(A_Very_Loud_Death_album)_text.txt, concr=1.79\n",
      "[12:50:09]  621) title=wikipedia_0621_Executive_Order_9102_text.txt, concr=1.64\n",
      "[12:50:10]  622) title=wikipedia_0622_Melvin_L._Rubin_text.txt , concr=1.79\n",
      "[12:50:10]  623) title=wikipedia_0623_George_Topping_text.txt  , concr=1.79\n",
      "[12:50:12]  624) title=wikipedia_0624_David_Benjamin_Keldani_text.txt, concr=1.62\n",
      "[12:50:13]  625) title=wikipedia_0625_Wasps_FC_text.txt        , concr=1.99\n",
      "[12:50:14]  626) title=wikipedia_0626_Alvaro_Umaña_text.txt    , concr=1.80\n",
      "[12:50:15]  627) title=wikipedia_0627_King's_Indian_Defence,_Four_Pawns_Attack_text.txt, concr=1.59\n",
      "[12:50:16]  628) title=wikipedia_0628_Chernobyl:_Abyss_text.txt, concr=1.73\n",
      "[12:50:17]  629) title=wikipedia_0629_Elaboration_of_Particulars_text.txt, concr=1.70\n",
      "[12:50:18]  630) title=wikipedia_0630_Viscount_of_Oxfuird_text.txt, concr=1.80\n",
      "[12:50:19]  631) title=wikipedia_0631_Greek_Memorial,_Dhaka_text.txt, concr=1.93\n",
      "[12:50:21]  632) title=wikipedia_0632_Nakazawa_Koto_text.txt   , concr=1.89\n",
      "[12:50:22]  633) title=wikipedia_0633_Pianist_text.txt         , concr=1.82\n",
      "[12:50:23]  634) title=wikipedia_0634_Lincoln_Township,_Polk_County,_Iowa_text.txt, concr=2.03\n",
      "[12:50:25]  635) title=wikipedia_0635_William_Pitt_(1805_EIC_ship)_text.txt, concr=2.06\n",
      "[12:50:26]  636) title=wikipedia_0636_Joan_Wyndham_text.txt    , concr=1.99\n",
      "[12:50:27]  637) title=wikipedia_0637_Robert_J._Cindrich_text.txt, concr=1.75\n",
      "[12:50:29]  638) title=wikipedia_0638_Tomonohana_Shinya_text.txt, concr=1.75\n",
      "[12:50:31]  639) title=wikipedia_0639_1st_Foot_Guards_(German_Empire)_text.txt, concr=1.87\n",
      "[12:50:32]  640) title=wikipedia_0640_White-winged_guan_text.txt, concr=1.89\n",
      "[12:50:32]  641) title=wikipedia_0641_Non-military_armoured_vehicle_text.txt, concr=1.99\n",
      "[12:50:35]  642) title=wikipedia_0642_Radio_Filharmonisch_Orkest_text.txt, concr=1.85\n",
      "[12:50:36]  643) title=wikipedia_0643_All_These_Sleepless_Nights_text.txt, concr=1.74\n",
      "[12:50:37]  644) title=wikipedia_0644_DogeQuest_text.txt       , concr=1.80\n",
      "[12:50:37]  645) title=wikipedia_0645_1904_Republican_National_Convention_text.txt, concr=1.82\n",
      "[12:50:39]  646) title=wikipedia_0646_London_Universities_and_Colleges_Athletics_text.txt, concr=2.13\n",
      "[12:50:40]  647) title=wikipedia_0647_Derek_McCulloch_text.txt , concr=1.94\n",
      "[12:50:41]  648) title=wikipedia_0648_1st_New_Zealand_Parliament_text.txt, concr=1.80\n",
      "[12:50:45]  649) title=wikipedia_0649_MRF_Racing_text.txt      , concr=2.05\n",
      "[12:50:46]  650) title=wikipedia_0650_Kbsp_wz._38M_text.txt    , concr=1.97\n",
      "[12:50:47]  651) title=wikipedia_0651_Turk's_Head_text.txt     , concr=1.83\n",
      "[12:50:49]  652) title=wikipedia_0652_Póvoa_de_Varzim_Holiday_text.txt, concr=1.89\n",
      "[12:50:50]  653) title=wikipedia_0653_Friedrich_von_Bodenstedt_text.txt, concr=1.66\n",
      "[12:50:52]  654) title=wikipedia_0654_Ennio_Barberini_text.txt , concr=1.78\n",
      "[12:50:54]  655) title=wikipedia_0655_Yeop_Mahidin_Mohamed_Shariff_text.txt, concr=1.85\n",
      "[12:50:55]  656) title=wikipedia_0656_Sergeant_Madden_text.txt , concr=1.85\n",
      "[12:50:57]  657) title=wikipedia_0657_François_Nicolas_Fagel_text.txt, concr=1.74\n",
      "[12:50:59]  658) title=wikipedia_0658_Vicente_Reig_text.txt    , concr=1.66\n",
      "[12:50:59]  659) title=wikipedia_0659_Don't._Get._Out!_text.txt, concr=1.82\n",
      "[12:51:00]  660) title=wikipedia_0660_The_Talk_of_the_Town_(1918_film)_text.txt, concr=1.71\n",
      "[12:51:03]  661) title=wikipedia_0661_Saif_bin_Sultan_II_text.txt, concr=1.92\n",
      "[12:51:03]  662) title=wikipedia_0662_St_Mary's_Church,_Newchurch_in_Pendle_text.txt, concr=1.98\n",
      "[12:51:03]  663) title=wikipedia_0663_Academies_Financial_Handbook_text.txt, concr=1.65\n",
      "[12:51:05]  664) title=wikipedia_0664_Clonoulty_text.txt       , concr=1.99\n",
      "[12:51:07]  665) title=wikipedia_0665_Zélie_de_Lussan_text.txt , concr=1.75\n",
      "[12:51:08]  666) title=wikipedia_0666_Bill_Hamilton_(engineer)_text.txt, concr=2.09\n",
      "[12:51:10]  667) title=wikipedia_0667_Ainak_Wala_Jin_text.txt  , concr=1.91\n",
      "[12:51:10]  668) title=wikipedia_0668_Ward_Hunt_Island_text.txt, concr=2.01\n",
      "[12:51:11]  669) title=wikipedia_0669_Brighton_and_Hove_city_centre_text.txt, concr=2.29\n",
      "[12:51:12]  670) title=wikipedia_0670_Negrelli_Viaduct_text.txt, concr=2.03\n",
      "[12:51:13]  671) title=wikipedia_0671_Ivan_Dochev_text.txt     , concr=1.65\n",
      "[12:51:15]  672) title=wikipedia_0672_Hussain_Aga_Khan_text.txt, concr=1.89\n",
      "[12:51:16]  673) title=wikipedia_0673_Purton,_Berkeley_text.txt, concr=2.04\n",
      "[12:51:16]  674) title=wikipedia_0674_Joseph_Anderson_(British_Army_officer)_text.txt, concr=1.86\n",
      "[12:51:17]  675) title=wikipedia_0675_Leonidas_Hubbard_text.txt, concr=2.03\n",
      "[12:51:18]  676) title=wikipedia_0676_Ernst_Kolman_text.txt    , concr=1.76\n",
      "[12:51:19]  677) title=wikipedia_0677_James_Cotten_text.txt    , concr=2.07\n",
      "[12:51:20]  678) title=wikipedia_0678_Idiotarod_text.txt       , concr=1.97\n",
      "[12:51:21]  679) title=wikipedia_0679_Winery_text.txt          , concr=2.14\n",
      "[12:51:22]  680) title=wikipedia_0680_Gilbert_Motier_de_La_Fayette_text.txt, concr=1.82\n",
      "[12:51:23]  681) title=wikipedia_0681_Kathryn_H._Kidd_text.txt , concr=1.86\n",
      "[12:51:24]  682) title=wikipedia_0682_Henry_P._Kendall_text.txt, concr=1.89\n",
      "[12:51:25]  683) title=wikipedia_0683_Respect_des_fonds_text.txt, concr=1.45\n",
      "[12:51:25]  684) title=wikipedia_0684_Ralph_Hepburn_text.txt   , concr=2.01\n",
      "[12:51:26]  685) title=wikipedia_0685_Heuristics_and_sports_text.txt, concr=1.59\n",
      "[12:51:27]  686) title=wikipedia_0686_Hydrometallurgy_Pilot_Plant_text.txt, concr=1.89\n",
      "[12:51:29]  687) title=wikipedia_0687_Juan_Díaz_Porlier_text.txt, concr=1.85\n",
      "[12:51:29]  688) title=wikipedia_0688_Universal_C*-algebra_text.txt, concr=1.31\n",
      "[12:51:31]  689) title=wikipedia_0689_Astyanax_apiaka_text.txt , concr=1.75\n",
      "[12:51:32]  690) title=wikipedia_0690_Inorganic_phosphate_transporter_family_text.txt, concr=1.93\n",
      "[12:51:33]  691) title=wikipedia_0691_Anthony_Tidd_text.txt    , concr=1.88\n",
      "[12:51:34]  692) title=wikipedia_0692_Richard_Simcott_text.txt , concr=1.77\n",
      "[12:51:35]  693) title=wikipedia_0693_Zaxxon's_Motherbase_2000_text.txt, concr=1.82\n",
      "[12:51:36]  694) title=wikipedia_0694_Richard_Grenfell_Thomas_text.txt, concr=1.90\n",
      "[12:51:37]  695) title=wikipedia_0695_Association_of_Science_and_Technology_Centers_text.txt, concr=1.82\n",
      "[12:51:39]  696) title=wikipedia_0696_Wunambal_text.txt        , concr=1.93\n",
      "[12:51:39]  697) title=wikipedia_0697_Freeport,_Ohio_text.txt  , concr=1.84\n",
      "[12:51:40]  698) title=wikipedia_0698_James_Tochatti_text.txt  , concr=1.84\n",
      "[12:51:41]  699) title=wikipedia_0699_Fachhochschule_Potsdam_text.txt, concr=1.83\n",
      "[12:51:44]  700) title=wikipedia_0700_Satpuli_text.txt         , concr=2.08\n",
      "[12:51:44]  701) title=wikipedia_0701_William_Ward_Burrows_I_text.txt, concr=1.80\n",
      "[12:51:45]  702) title=wikipedia_0702_Matthew_1:21_text.txt    , concr=1.55\n",
      "[12:51:45]  703) title=wikipedia_0703_Roadside_Heritage_text.txt, concr=1.91\n",
      "[12:51:46]  704) title=wikipedia_0704_Wowhead_text.txt         , concr=1.75\n",
      "[12:51:48]  705) title=wikipedia_0705_ZipZaps_text.txt         , concr=1.99\n",
      "[12:51:49]  706) title=wikipedia_0706_Otto_II's_raid_on_Poland_text.txt, concr=1.67\n",
      "[12:51:50]  707) title=wikipedia_0707_Argamum_text.txt         , concr=1.89\n",
      "[12:51:51]  708) title=wikipedia_0708_Macay_McBride_text.txt   , concr=1.91\n",
      "[12:51:52]  709) title=wikipedia_0709_TransGrid_text.txt       , concr=1.90\n",
      "[12:51:53]  710) title=wikipedia_0710_Raza_(film)_text.txt     , concr=1.76\n",
      "[12:51:54]  711) title=wikipedia_0711_Benjamin_Wishnietsky_text.txt, concr=1.95\n",
      "[12:51:55]  712) title=wikipedia_0712_Worms_4:_Mayhem_text.txt , concr=1.96\n"
     ]
    },
    {
     "name": "stdout",
     "output_type": "stream",
     "text": [
      "[12:51:55]  713) title=wikipedia_0713_Erica_Pratt_text.txt     , concr=1.77\n",
      "[12:51:55]  714) title=wikipedia_0714_Nepalese_Canadians_text.txt, concr=1.95\n",
      "[12:51:56]  715) title=wikipedia_0715_Sant'Andrea_degli_Scozzesi_text.txt, concr=1.88\n",
      "[12:51:57]  716) title=wikipedia_0716_George_Arnald_text.txt   , concr=1.87\n",
      "[12:51:59]  717) title=wikipedia_0717_1954_Guinea_by-election_text.txt, concr=1.69\n",
      "[12:52:01]  718) title=wikipedia_0718_Edward_Hatton_(surveyor)_text.txt, concr=1.82\n",
      "[12:52:04]  719) title=wikipedia_0719_Piltown_text.txt         , concr=2.04\n",
      "[12:52:06]  720) title=wikipedia_0720_Edmund_Boulter_text.txt  , concr=1.90\n",
      "[12:52:06]  721) title=wikipedia_0721_Zelda_Curtis_text.txt    , concr=1.81\n",
      "[12:52:07]  722) title=wikipedia_0722_James_Owen_Dorsey_text.txt, concr=1.76\n",
      "[12:52:08]  723) title=wikipedia_0723_Mikel_Koliqi_text.txt    , concr=1.79\n",
      "[12:52:10]  724) title=wikipedia_0724_Yukie_Chiri_text.txt     , concr=1.70\n",
      "[12:52:10]  725) title=wikipedia_0725_John_J._Francis_(judge)_text.txt, concr=1.77\n",
      "[12:52:11]  726) title=wikipedia_0726_Richard_Bradley_(botanist)_text.txt, concr=1.76\n",
      "[12:52:11]  727) title=wikipedia_0727_Holman_House,_Dover_Heights_text.txt, concr=1.91\n",
      "[12:52:13]  728) title=wikipedia_0728_Hikimayu_text.txt        , concr=1.92\n",
      "[12:52:14]  729) title=wikipedia_0729_How_Do_You_Solve_a_Problem_Like_Roberta?_text.txt, concr=1.85\n",
      "[12:52:15]  730) title=wikipedia_0730_Dancer_(novel)_text.txt  , concr=1.66\n",
      "[12:52:16]  731) title=wikipedia_0731_Simone_Dubois_text.txt   , concr=1.79\n",
      "[12:52:18]  732) title=wikipedia_0732_XM_Radio_Canada_text.txt , concr=2.21\n",
      "[12:52:19]  733) title=wikipedia_0733_Kevin_Loader_text.txt    , concr=1.97\n",
      "[12:52:20]  734) title=wikipedia_0734_Showdown_at_Boot_Hill_text.txt, concr=1.79\n",
      "[12:52:20]  735) title=wikipedia_0735_Supra-entity_text.txt    , concr=1.40\n",
      "[12:52:20]  736) title=wikipedia_0736_Alexandra_Park_Racecourse_text.txt, concr=1.94\n",
      "[12:52:22]  737) title=wikipedia_0737_Sarah_Green_(film_producer)_text.txt, concr=2.08\n",
      "[12:52:23]  738) title=wikipedia_0738_Ar_Rakiyat_Fort_text.txt , concr=1.93\n",
      "[12:52:25]  739) title=wikipedia_0739_Henryk_Waniek_text.txt   , concr=1.80\n",
      "[12:52:26]  740) title=wikipedia_0740_Football_Manager_2_text.txt, concr=1.70\n",
      "[12:52:27]  741) title=wikipedia_0741_Pennsylvania_Route_519_text.txt, concr=2.21\n",
      "[12:52:28]  742) title=wikipedia_0742_Alexander_Cornewall_Duff-Gordon_text.txt, concr=2.00\n",
      "[12:52:30]  743) title=wikipedia_0743_Uthukuli_text.txt        , concr=2.00\n",
      "[12:52:31]  744) title=wikipedia_0744_Craigends_Yew_text.txt   , concr=1.98\n",
      "[12:52:31]  745) title=wikipedia_0745_Blood_quota_text.txt     , concr=1.65\n",
      "[12:52:32]  746) title=wikipedia_0746_Ridgefield_Branch_text.txt, concr=2.08\n",
      "[12:52:33]  747) title=wikipedia_0747_Emanuel_van_Meteren_text.txt, concr=2.08\n",
      "[12:52:34]  748) title=wikipedia_0748_Cuban_pewee_text.txt     , concr=2.01\n",
      "[12:52:35]  749) title=wikipedia_0749_Everyman_(Marvel_Comics)_text.txt, concr=1.78\n",
      "[12:52:36]  750) title=wikipedia_0750_Breathe_(Better_Call_Saul)_text.txt, concr=1.75\n",
      "[12:52:38]  751) title=wikipedia_0751_Cedre_text.txt           , concr=1.77\n",
      "[12:52:40]  752) title=wikipedia_0752_Chamak_(web_series)_text.txt, concr=1.89\n",
      "[12:52:42]  753) title=wikipedia_0753_Supinfo_text.txt         , concr=1.91\n",
      "[12:52:43]  754) title=wikipedia_0754_Russula_xerampelina_text.txt, concr=1.97\n",
      "[12:52:44]  755) title=wikipedia_0755_Mary_Etta_Boitano_text.txt, concr=1.88\n",
      "[12:52:45]  756) title=wikipedia_0756_Goldman–Hodgkin–Katz_flux_equation_text.txt, concr=1.45\n",
      "[12:52:46]  757) title=wikipedia_0757_Mercy_Health_St._Rita's_Medical_Center_text.txt, concr=1.92\n",
      "[12:52:48]  758) title=wikipedia_0758_Shelling_of_Highway_1_text.txt, concr=2.01\n",
      "[12:52:48]  759) title=wikipedia_0759_Solar_eclipse_of_April_20,_2042_text.txt, concr=1.90\n",
      "[12:52:49]  760) title=wikipedia_0760_Burnside,_Kentucky_text.txt, concr=1.94\n",
      "[12:52:50]  761) title=wikipedia_0761_Elliott_White_Springs_text.txt, concr=1.99\n",
      "[12:52:50]  762) title=wikipedia_0762_Robert_Lyn_Nelson_text.txt, concr=1.84\n",
      "[12:52:51]  763) title=wikipedia_0763_Nigerian_Coal_Corporation_text.txt, concr=1.87\n",
      "[12:52:52]  764) title=wikipedia_0764_George_Spelvin_text.txt  , concr=1.72\n",
      "[12:52:53]  765) title=wikipedia_0765_Arthur_Kill_Bridge_text.txt, concr=2.04\n",
      "[12:52:54]  766) title=wikipedia_0766_Solid-state_relay_text.txt, concr=1.78\n",
      "[12:52:54]  767) title=wikipedia_0767_Bishop_Mule_Days_text.txt, concr=2.18\n",
      "[12:53:00]  768) title=wikipedia_0768_Jin_Guiyun_text.txt      , concr=2.18\n",
      "[12:53:04]  769) title=wikipedia_0769_Dandabhukti_text.txt     , concr=1.94\n",
      "[12:53:05]  770) title=wikipedia_0770_Karimunjawa_long-tailed_macaque_text.txt, concr=1.95\n",
      "[12:53:06]  771) title=wikipedia_0771_Alectryon_excelsus_text.txt, concr=2.17\n",
      "[12:53:07]  772) title=wikipedia_0772_The_Robot_Ate_Me_text.txt, concr=1.78\n",
      "[12:53:09]  773) title=wikipedia_0773_Juan_José_Muñoz_text.txt , concr=1.71\n",
      "[12:53:09]  774) title=wikipedia_0774_Chelyabinsk_Metrotram_text.txt, concr=1.79\n",
      "[12:53:10]  775) title=wikipedia_0775_South_West_Industrial,_Saskatoon_text.txt, concr=1.95\n",
      "[12:53:11]  776) title=wikipedia_0776_Capital_Plaza_Mall_text.txt, concr=2.19\n",
      "[12:53:12]  777) title=wikipedia_0777_Maggie_Brown_(singer)_text.txt, concr=2.01\n",
      "[12:53:12]  778) title=wikipedia_0778_Augustus_Vincent_Tack_text.txt, concr=1.88\n",
      "[12:53:13]  779) title=wikipedia_0779_Ptenopus_text.txt        , concr=1.93\n",
      "[12:53:14]  780) title=wikipedia_0780_Rose_Mapendo_text.txt    , concr=1.90\n",
      "[12:53:17]  781) title=wikipedia_0781_Issedones_text.txt       , concr=1.79\n",
      "[12:53:18]  782) title=wikipedia_0782_San_Juan_de_Rioseco_text.txt, concr=2.13\n",
      "[12:53:20]  783) title=wikipedia_0783_Laverda_(harvesters)_text.txt, concr=1.87\n",
      "[12:53:21]  784) title=wikipedia_0784_Physiological_cross-sectional_area_text.txt, concr=1.68\n",
      "[12:53:23]  785) title=wikipedia_0785_African_Jazz_Pioneers_text.txt, concr=1.89\n",
      "[12:53:25]  786) title=wikipedia_0786_Islamey_text.txt         , concr=1.68\n",
      "[12:53:25]  787) title=wikipedia_0787_German_Letter_Monopoly_text.txt, concr=1.70\n",
      "[12:53:27]  788) title=wikipedia_0788_Niruben_Amin_text.txt    , concr=1.83\n",
      "[12:53:29]  789) title=wikipedia_0789_Taylor_Matheny_text.txt  , concr=1.98\n",
      "[12:53:29]  790) title=wikipedia_0790_Richard_B._Horne_text.txt, concr=1.70\n",
      "[12:53:30]  791) title=wikipedia_0791_Kingsmill_Secondary_School_text.txt, concr=2.07\n",
      "[12:53:31]  792) title=wikipedia_0792_Groovin'_with_the_Soulful_Strings_text.txt, concr=1.89\n",
      "[12:53:32]  793) title=wikipedia_0793_Killing_of_Mansur_Ball-Bey_text.txt, concr=2.01\n",
      "[12:53:33]  794) title=wikipedia_0794_Agnes_Buntine_text.txt   , concr=2.08\n",
      "[12:53:34]  795) title=wikipedia_0795_Ma_Chaoqun_text.txt      , concr=1.87\n",
      "[12:53:37]  796) title=wikipedia_0796_Lesser_Sundas_deciduous_forests_text.txt, concr=2.31\n",
      "[12:53:38]  797) title=wikipedia_0797_Colorado_Engineering_Experiment_Station,_Inc._text.txt, concr=1.97\n",
      "[12:53:39]  798) title=wikipedia_0798_Vat_69_text.txt          , concr=2.09\n",
      "[12:53:40]  799) title=wikipedia_0799_Richardson_Henderson_text.txt, concr=1.97\n",
      "[12:53:41]  800) title=wikipedia_0800_National_Challenge_School_text.txt, concr=1.64\n",
      "[12:53:42]  801) title=wikipedia_0801_Adolf_Neuendorff_text.txt, concr=1.91\n",
      "[12:53:43]  802) title=wikipedia_0802_Ann_Smith_(activist)_text.txt, concr=1.84\n",
      "[12:53:44]  803) title=wikipedia_0803_Combined_Military_Hospitals_text.txt, concr=1.79\n",
      "[12:53:45]  804) title=wikipedia_0804_Cybotron_(Australian_band)_text.txt, concr=2.10\n",
      "[12:53:46]  805) title=wikipedia_0805_Cabildo_(opera)_text.txt , concr=1.85\n",
      "[12:53:49]  806) title=wikipedia_0806_Tommaso_Dal_Molin_text.txt, concr=1.97\n",
      "[12:53:50]  807) title=wikipedia_0807_Hempstead,_Kent_text.txt , concr=2.07\n",
      "[12:53:51]  808) title=wikipedia_0808_Guido_Enderis_text.txt   , concr=1.95\n",
      "[12:53:52]  809) title=wikipedia_0809_Mathematical_Cranks_text.txt, concr=1.68\n",
      "[12:53:53]  810) title=wikipedia_0810_Algoma_Navigator_text.txt, concr=2.15\n",
      "[12:53:54]  811) title=wikipedia_0811_SN_1994I_text.txt        , concr=1.85\n",
      "[12:53:57]  812) title=wikipedia_0812_Elektroprivreda_Crne_Gore_text.txt, concr=1.81\n",
      "[12:53:58]  813) title=wikipedia_0813_No_One_Would_Tell_(1996_film)_text.txt, concr=1.95\n",
      "[12:53:58]  814) title=wikipedia_0814_Soenen_et_al_v._Brown_text.txt, concr=1.73\n"
     ]
    },
    {
     "name": "stdout",
     "output_type": "stream",
     "text": [
      "[12:53:59]  815) title=wikipedia_0815_Jimmy_Winston_text.txt   , concr=1.76\n",
      "[12:54:00]  816) title=wikipedia_0816_Skaros_text.txt          , concr=1.93\n",
      "[12:54:01]  817) title=wikipedia_0817_Water_engine_text.txt    , concr=2.04\n",
      "[12:54:02]  818) title=wikipedia_0818_Carl_Friden_text.txt     , concr=1.93\n",
      "[12:54:03]  819) title=wikipedia_0819_John_Archer_(judge)_text.txt, concr=1.72\n",
      "[12:54:05]  820) title=wikipedia_0820_POWER5_text.txt          , concr=1.79\n",
      "[12:54:05]  821) title=wikipedia_0821_Jon_Charles_Altman_text.txt, concr=1.62\n",
      "[12:54:06]  822) title=wikipedia_0822_Bureau_of_Home_Economics_text.txt, concr=1.95\n",
      "[12:54:06]  823) title=wikipedia_0823_Pack_Monday_Fair_text.txt, concr=1.91\n",
      "[12:54:08]  824) title=wikipedia_0824_Tetsuo_II:_Body_Hammer_text.txt, concr=1.94\n",
      "[12:54:10]  825) title=wikipedia_0825_Tomás_Rivera_Morales_text.txt, concr=1.79\n",
      "[12:54:11]  826) title=wikipedia_0826_Muhyi_al-Din_Lari_text.txt, concr=1.80\n",
      "[12:54:13]  827) title=wikipedia_0827_Nicolas_Adames_text.txt  , concr=1.84\n",
      "[12:54:13]  828) title=wikipedia_0828_Edith_Mary_Hinchley_text.txt, concr=1.94\n",
      "[12:54:15]  829) title=wikipedia_0829_Muhammad_ibn_Muhammad_al-Fulani_al-Kishnawi_text.txt, concr=1.77\n",
      "[12:54:16]  830) title=wikipedia_0830_Ronald_Dauphin_text.txt  , concr=1.88\n",
      "[12:54:17]  831) title=wikipedia_0831_Niger–Nigeria_relations_text.txt, concr=1.83\n",
      "[12:54:19]  832) title=wikipedia_0832_Siege_of_Siwana_text.txt , concr=1.99\n",
      "[12:54:21]  833) title=wikipedia_0833_Harriet_Bridgeman_text.txt, concr=1.81\n",
      "[12:54:23]  834) title=wikipedia_0834_Guy_I,_Count_of_Ponthieu_text.txt, concr=1.91\n",
      "[12:54:24]  835) title=wikipedia_0835_Peter_Spink_text.txt     , concr=1.78\n",
      "[12:54:24]  836) title=wikipedia_0836_1995_strikes_in_France_text.txt, concr=1.73\n",
      "[12:54:25]  837) title=wikipedia_0837_Elizabeth_Chater_text.txt, concr=1.87\n",
      "[12:54:26]  838) title=wikipedia_0838_Austin_H._Kiplinger_text.txt, concr=2.04\n",
      "[12:54:27]  839) title=wikipedia_0839_Decipher_(novel)_text.txt, concr=1.76\n",
      "[12:54:27]  840) title=wikipedia_0840_Elmo_Roper_text.txt      , concr=1.76\n",
      "[12:54:28]  841) title=wikipedia_0841_I'm_Not_Ashamed_(song)_text.txt, concr=1.67\n",
      "[12:54:29]  842) title=wikipedia_0842_Beat_Junkies_text.txt    , concr=1.95\n",
      "[12:54:31]  843) title=wikipedia_0843_Télé_Liban_text.txt      , concr=1.84\n",
      "[12:54:32]  844) title=wikipedia_0844_Park_Forest_Village,_Pennsylvania_text.txt, concr=1.95\n",
      "[12:54:32]  845) title=wikipedia_0845_South_San_Francisco_Public_Library_text.txt, concr=2.08\n",
      "[12:54:34]  846) title=wikipedia_0846_Dilīpa_text.txt          , concr=1.83\n",
      "[12:54:36]  847) title=wikipedia_0847_USS_Kalk_(DD-170)_text.txt, concr=1.99\n",
      "[12:54:36]  848) title=wikipedia_0848_St._Joseph_High_School_(Edmonton)_text.txt, concr=1.93\n",
      "[12:54:39]  849) title=wikipedia_0849_Kōriyama_Castle_text.txt , concr=2.02\n",
      "[12:54:41]  850) title=wikipedia_0850_John_Forbes_(theologian,_born_1593)_text.txt, concr=1.70\n",
      "[12:54:42]  851) title=wikipedia_0851_Sister_I'm_a_Poet_text.txt, concr=1.71\n",
      "[12:54:42]  852) title=wikipedia_0852_Mentor_(1778_ship)_text.txt, concr=1.93\n",
      "[12:54:44]  853) title=wikipedia_0853_Gniezno_railway_station_text.txt, concr=1.91\n",
      "[12:54:44]  854) title=wikipedia_0854_Russell_Jennings_text.txt, concr=1.97\n",
      "[12:54:45]  855) title=wikipedia_0855_Pittsburgh_(1942_film)_text.txt, concr=1.80\n",
      "[12:54:46]  856) title=wikipedia_0856_Avia_60-MP_text.txt      , concr=1.91\n",
      "[12:54:46]  857) title=wikipedia_0857_Ethnic_joke_text.txt     , concr=1.49\n",
      "[12:54:47]  858) title=wikipedia_0858_Fred_Gause_text.txt      , concr=1.96\n",
      "[12:54:48]  859) title=wikipedia_0859_St._Ignatius_College,_Zimbabwe_text.txt, concr=1.90\n",
      "[12:54:49]  860) title=wikipedia_0860_Jews_in_Latvia_(museum)_text.txt, concr=1.82\n",
      "[12:54:50]  861) title=wikipedia_0861_Seaboard_World_Airlines_Flight_253A_text.txt, concr=1.98\n",
      "[12:54:51]  862) title=wikipedia_0862_Make_Me_Smile_text.txt   , concr=1.81\n",
      "[12:54:52]  863) title=wikipedia_0863_Bhadralok_text.txt       , concr=1.57\n",
      "[12:54:53]  864) title=wikipedia_0864_Lynx_spider_text.txt     , concr=1.91\n",
      "[12:54:54]  865) title=wikipedia_0865_Barnham,_West_Sussex_text.txt, concr=1.96\n",
      "[12:54:55]  866) title=wikipedia_0866_Henri_Bowane_text.txt    , concr=1.87\n",
      "[12:54:57]  867) title=wikipedia_0867_Gérard_Théry_text.txt    , concr=1.69\n",
      "[12:54:58]  868) title=wikipedia_0868_Rafi_al-Issawi_text.txt  , concr=1.75\n",
      "[12:54:59]  869) title=wikipedia_0869_Enforcement_of_European_patents_text.txt, concr=1.48\n",
      "[12:55:01]  870) title=wikipedia_0870_Corys_TESS_text.txt      , concr=2.04\n",
      "[12:55:01]  871) title=wikipedia_0871_USS_Roe_(DD-24)_text.txt , concr=2.03\n",
      "[12:55:02]  872) title=wikipedia_0872_Chapel_of_St_Nicholas,_Fort_Ricasoli_text.txt, concr=1.83\n",
      "[12:55:05]  873) title=wikipedia_0873_Lin_Chih-chieh_text.txt  , concr=1.90\n",
      "[12:55:05]  874) title=wikipedia_0874_Verex_text.txt           , concr=1.53\n",
      "[12:55:06]  875) title=wikipedia_0875_Illinois_Carnegie_Libraries_Multiple_Property_Submission_text.txt, concr=1.95\n",
      "[12:55:07]  876) title=wikipedia_0876_Connection-oriented_communication_text.txt, concr=1.78\n",
      "[12:55:07]  877) title=wikipedia_0877_The_Women_Men_Don't_See_text.txt, concr=1.73\n",
      "[12:55:08]  878) title=wikipedia_0878_The_Ghost_Drum_text.txt  , concr=1.76\n",
      "[12:55:09]  879) title=wikipedia_0879_111th_Cavalry_Division_(Soviet_Union)_text.txt, concr=1.76\n",
      "[12:55:10]  880) title=wikipedia_0880_Daniel_Garrison_Brinton_text.txt, concr=1.76\n",
      "[12:55:12]  881) title=wikipedia_0881_Mirko_Bunjevčević_text.txt, concr=1.78\n",
      "[12:55:13]  882) title=wikipedia_0882_Alston_Johnson_text.txt  , concr=1.81\n",
      "[12:55:14]  883) title=wikipedia_0883_Moral_patienthood_text.txt, concr=1.58\n",
      "[12:55:14]  884) title=wikipedia_0884_Walter_Boal_text.txt     , concr=1.83\n",
      "[12:55:15]  885) title=wikipedia_0885_Lying_(film)_text.txt    , concr=1.87\n",
      "[12:55:16]  886) title=wikipedia_0886_Hahgwehdiyu_text.txt     , concr=2.03\n",
      "[12:55:17]  887) title=wikipedia_0887_Citroën_U55_Currus_Cityrama_text.txt, concr=1.87\n",
      "[12:55:18]  888) title=wikipedia_0888_Richard_Beasley_(politician)_text.txt, concr=1.99\n",
      "[12:55:19]  889) title=wikipedia_0889_Khopyor–Don_Operation_text.txt, concr=1.87\n",
      "[12:55:19]  890) title=wikipedia_0890_Anna_Harvey_(social_scientist)_text.txt, concr=1.65\n",
      "[12:55:22]  891) title=wikipedia_0891_Carolina_Kuhlman_text.txt, concr=1.78\n",
      "[12:55:22]  892) title=wikipedia_0892_Milkmaid_(horse)_text.txt, concr=2.12\n",
      "[12:55:23]  893) title=wikipedia_0893_Vermont_Supreme_Court_text.txt, concr=1.86\n",
      "[12:55:23]  894) title=wikipedia_0894_Leo_Kadanoff_text.txt    , concr=1.64\n",
      "[12:55:24]  895) title=wikipedia_0895_Kissing_Suzy_Kolber_text.txt, concr=1.85\n",
      "[12:55:25]  896) title=wikipedia_0896_Ronald_Wilberforce_Allen_text.txt, concr=1.77\n",
      "[12:55:28]  897) title=wikipedia_0897_Saxothuringian_Zone_text.txt, concr=1.95\n",
      "[12:55:28]  898) title=wikipedia_0898_Walsh_College_text.txt   , concr=1.76\n",
      "[12:55:29]  899) title=wikipedia_0899_Prototype_(1983_film)_text.txt, concr=1.88\n",
      "[12:55:31]  900) title=wikipedia_0900_Maggy_Whitehouse_text.txt, concr=1.89\n",
      "[12:55:32]  901) title=wikipedia_0901_Heortology_text.txt      , concr=1.53\n",
      "[12:55:33]  902) title=wikipedia_0902_Bill_Hayes_(footballer,_born_1915)_text.txt, concr=1.80\n",
      "[12:55:35]  903) title=wikipedia_0903_Hatiya_Island_text.txt   , concr=1.93\n",
      "[12:55:37]  904) title=wikipedia_0904_Marian_Gamwell_text.txt  , concr=1.83\n",
      "[12:55:38]  905) title=wikipedia_0905_People_Who_Love_Peepholes_text.txt, concr=1.80\n",
      "[12:55:39]  906) title=wikipedia_0906_Philip_J._K._James_text.txt, concr=1.98\n",
      "[12:55:41]  907) title=wikipedia_0907_Cyclone_Clare_text.txt   , concr=1.90\n",
      "[12:55:42]  908) title=wikipedia_0908_Forum_Theatre_(Washington,_D.C.)_text.txt, concr=2.02\n",
      "[12:55:43]  909) title=wikipedia_0909_Monge_State_Park_text.txt, concr=1.91\n",
      "[12:55:45]  910) title=wikipedia_0910_Shannons_Flat_text.txt   , concr=2.04\n",
      "[12:55:46]  911) title=wikipedia_0911_Víctor_Grippo_text.txt   , concr=1.73\n",
      "[12:55:47]  912) title=wikipedia_0912_Lake_Starnberg_text.txt  , concr=2.02\n",
      "[12:55:47]  913) title=wikipedia_0913_Intramolecular_force_text.txt, concr=1.70\n",
      "[12:55:48]  914) title=wikipedia_0914_Bree_Munro_text.txt      , concr=1.99\n",
      "[12:55:49]  915) title=wikipedia_0915_Alexander_Jolly_text.txt , concr=1.91\n",
      "[12:55:51]  916) title=wikipedia_0916_Maruti_Suzuki_Zen_text.txt, concr=2.06\n"
     ]
    },
    {
     "name": "stdout",
     "output_type": "stream",
     "text": [
      "[12:55:53]  917) title=wikipedia_0917_Battle_of_Nyárasd_text.txt, concr=1.85\n",
      "[12:55:55]  918) title=wikipedia_0918_Pseudopeptidoglycan_text.txt, concr=1.92\n",
      "[12:55:55]  919) title=wikipedia_0919_Mountain_View,_Georgia_text.txt, concr=1.96\n",
      "[12:55:57]  920) title=wikipedia_0920_Luis_Fermín_de_Carvajal,_Conde_de_la_Unión_text.txt, concr=1.81\n",
      "[12:56:00]  921) title=wikipedia_0921_Mipham_Sonam_Wangchuk_Drakpa_Namgyal_Palzang_text.txt, concr=1.83\n",
      "[12:56:01]  922) title=wikipedia_0922_The_Battle_for_Cassino:_Assaulting_the_Gustav_Line,_1944_text.txt, concr=1.76\n",
      "[12:56:01]  923) title=wikipedia_0923_In_You_Rejoiceth_(Kavertzas)_text.txt, concr=1.85\n",
      "[12:56:02]  924) title=wikipedia_0924_Barbara_Hall_(editor)_text.txt, concr=1.96\n",
      "[12:56:04]  925) title=wikipedia_0925_Abraham_Geiger_College_text.txt, concr=1.77\n",
      "[12:56:04]  926) title=wikipedia_0926_Barbara_D'Arcy_text.txt  , concr=1.95\n",
      "[12:56:05]  927) title=wikipedia_0927_Titanic_666_text.txt     , concr=1.84\n",
      "[12:56:06]  928) title=wikipedia_0928_Zapya_text.txt           , concr=1.87\n",
      "[12:56:09]  929) title=wikipedia_0929_Wanzai,_Small_Hengqin_and_Great_Hengqin_islands_text.txt, concr=1.93\n",
      "[12:56:10]  930) title=wikipedia_0930_Football_in_Haiti_text.txt, concr=1.88\n",
      "[12:56:11]  931) title=wikipedia_0931_Thomas_Thorpe_text.txt   , concr=1.61\n",
      "[12:56:11]  932) title=wikipedia_0932_Keystone_Army_Air_Field_text.txt, concr=2.00\n",
      "[12:56:12]  933) title=wikipedia_0933_George_Savoidakis_text.txt, concr=1.75\n",
      "[12:56:14]  934) title=wikipedia_0934_Jean-Jacques_Démafouth_text.txt, concr=1.74\n",
      "[12:56:15]  935) title=wikipedia_0935_Musger_Mg_9_text.txt     , concr=1.94\n",
      "[12:56:15]  936) title=wikipedia_0936_Arrow_(character)_text.txt, concr=1.80\n",
      "[12:56:17]  937) title=wikipedia_0937_Bonaparte's_parakeet_text.txt, concr=1.75\n",
      "[12:56:18]  938) title=wikipedia_0938_The_Pelaco_Brothers_text.txt, concr=2.09\n",
      "[12:56:19]  939) title=wikipedia_0939_Sky_Giant_text.txt       , concr=1.93\n",
      "[12:56:20]  940) title=wikipedia_0940_John_Madden_Football_(1990_video_game)_text.txt, concr=1.87\n",
      "[12:56:21]  941) title=wikipedia_0941_North_Pulaski_High_School_text.txt, concr=2.10\n",
      "[12:56:21]  942) title=wikipedia_0942_Sword_of_Islam_(Mussolini)_text.txt, concr=1.76\n",
      "[12:56:22]  943) title=wikipedia_0943_The_Big_Lead_text.txt    , concr=1.95\n",
      "[12:56:23]  944) title=wikipedia_0944_Abel_Starkey_text.txt    , concr=1.79\n",
      "[12:56:24]  945) title=wikipedia_0945_Gold_business_in_Thrissur_text.txt, concr=1.97\n",
      "[12:56:25]  946) title=wikipedia_0946_Henry_MacManus_text.txt  , concr=1.87\n",
      "[12:56:26]  947) title=wikipedia_0947_Ozette_Indian_Village_Archeological_Site_text.txt, concr=2.06\n",
      "[12:56:27]  948) title=wikipedia_0948_Kumudini_boat_massacre_text.txt, concr=1.95\n",
      "[12:56:28]  949) title=wikipedia_0949_1816_State_of_the_Union_Address_text.txt, concr=1.49\n",
      "[12:56:28]  950) title=wikipedia_0950_Highland_pony_text.txt   , concr=2.00\n",
      "[12:56:29]  951) title=wikipedia_0951_Nagagamisis_Provincial_Park_text.txt, concr=2.17\n",
      "[12:56:30]  952) title=wikipedia_0952_Hawa_Air_text.txt        , concr=1.95\n",
      "[12:56:31]  953) title=wikipedia_0953_Quality_Street_(play)_text.txt, concr=1.80\n",
      "[12:56:32]  954) title=wikipedia_0954_Molinia_caerulea_text.txt, concr=2.06\n",
      "[12:56:33]  955) title=wikipedia_0955_2-succinyl-6-hydroxy-2,4-cyclohexadiene-1-carboxylate_synthase_text.txt, concr=1.75\n",
      "[12:56:34]  956) title=wikipedia_0956_Dean's_Place_Hotel_text.txt, concr=2.04\n",
      "[12:56:35]  957) title=wikipedia_0957_The_Hound_of_Shadow_text.txt, concr=1.64\n",
      "[12:56:36]  958) title=wikipedia_0958_Rajaji_Mathew_Thomas_text.txt, concr=1.78\n",
      "[12:56:38]  959) title=wikipedia_0959_Battle_of_Baker's_Farm_text.txt, concr=1.89\n",
      "[12:56:39]  960) title=wikipedia_0960_Hermann_Enderlin_text.txt, concr=1.90\n",
      "[12:56:40]  961) title=wikipedia_0961_Sab_Watanabe_text.txt    , concr=2.08\n",
      "[12:56:41]  962) title=wikipedia_0962_Hymn_(Ives)_text.txt     , concr=1.75\n",
      "[12:56:42]  963) title=wikipedia_0963_Automatic_Duck_text.txt  , concr=1.80\n",
      "[12:56:43]  964) title=wikipedia_0964_Bartow_Branch_text.txt   , concr=2.27\n",
      "[12:56:43]  965) title=wikipedia_0965_Exoneration_text.txt     , concr=1.64\n",
      "[12:56:44]  966) title=wikipedia_0966_Noel_Curran_text.txt     , concr=1.81\n",
      "[12:56:45]  967) title=wikipedia_0967_Fast_Talking_text.txt    , concr=1.70\n",
      "[12:56:47]  968) title=wikipedia_0968_Ballymaguigan_text.txt   , concr=2.18\n",
      "[12:56:47]  969) title=wikipedia_0969_Society_for_Music_Theory_text.txt, concr=1.64\n",
      "[12:56:50]  970) title=wikipedia_0970_Cantius_text.txt         , concr=1.71\n",
      "[12:56:51]  971) title=wikipedia_0971_McLean_Game_Refuge_text.txt, concr=2.12\n",
      "[12:56:51]  972) title=wikipedia_0972_Chôros_No._13_text.txt   , concr=1.75\n",
      "[12:56:52]  973) title=wikipedia_0973_Uranium_tetrachloride_text.txt, concr=1.97\n",
      "[12:56:53]  974) title=wikipedia_0974_Joel_Bakan_text.txt      , concr=1.79\n",
      "[12:56:54]  975) title=wikipedia_0975_American_Network_(United_States)_text.txt, concr=1.75\n",
      "[12:56:55]  976) title=wikipedia_0976_North_Asasif_text.txt    , concr=1.84\n",
      "[12:56:56]  977) title=wikipedia_0977_Paul_A._Schoellkopf_text.txt, concr=2.09\n",
      "[12:56:57]  978) title=wikipedia_0978_Symphony_No._6_(Sibelius)_text.txt, concr=1.63\n",
      "[12:56:57]  979) title=wikipedia_0979_Blind_Adventure_text.txt , concr=1.88\n",
      "[12:56:59]  980) title=wikipedia_0980_Battle_of_the_Dardanelles_(1807)_text.txt, concr=1.95\n",
      "[12:57:00]  981) title=wikipedia_0981_Encyclopedia_Fuckme_and_the_Case_of_the_Vanishing_Entree_text.txt, concr=1.65\n",
      "[12:57:00]  982) title=wikipedia_0982_Lyons,_Ohio_text.txt     , concr=1.82\n",
      "[12:57:01]  983) title=wikipedia_0983_Mia_Tavonatti_text.txt   , concr=1.72\n",
      "[12:57:02]  984) title=wikipedia_0984_James_C._Rose_text.txt   , concr=1.87\n",
      "[12:57:03]  985) title=wikipedia_0985_RKM_engine_text.txt      , concr=1.79\n",
      "[12:57:05]  986) title=wikipedia_0986_Vimalsagarsuri_text.txt  , concr=1.73\n",
      "[12:57:07]  987) title=wikipedia_0987_Holme_Moss_text.txt      , concr=2.06\n",
      "[12:57:07]  988) title=wikipedia_0988_WNJR_(FM)_text.txt       , concr=2.03\n",
      "[12:57:09]  989) title=wikipedia_0989_George_Achica_text.txt   , concr=1.90\n",
      "[12:57:10]  990) title=wikipedia_0990_Alfred_P._Swineford_text.txt, concr=2.03\n",
      "[12:57:11]  991) title=wikipedia_0991_IDIQ_text.txt            , concr=1.65\n",
      "[12:57:12]  992) title=wikipedia_0992_1941_Alma-Ata_G-2_crash_text.txt, concr=1.84\n",
      "[12:57:15]  993) title=wikipedia_0993_Killycrin_text.txt       , concr=2.04\n",
      "[12:57:16]  994) title=wikipedia_0994_Mike_Webb_(radio_host)_text.txt, concr=1.97\n",
      "[12:57:16]  995) title=wikipedia_0995_Black_and_White_in_Color_text.txt, concr=1.72\n",
      "[12:57:17]  996) title=wikipedia_0996_Ann-Marie_Göransson_text.txt, concr=1.82\n",
      "[12:57:18]  997) title=wikipedia_0997_Snake_Shyam_text.txt     , concr=1.88\n",
      "[12:57:19]  998) title=wikipedia_0998_Hospice_Saint-Jean_text.txt, concr=1.86\n",
      "[12:57:20]  999) title=wikipedia_0999_Open_Engagement_text.txt , concr=1.82\n",
      "[12:57:21] 1000) title=wikipedia_1000_Fraserburgh_Town_House_text.txt, concr=1.99\n",
      "[12:57:22] 1001) title=wikipedia_1001_Balloon_shark_text.txt   , concr=1.97\n",
      "[12:57:24] 1002) title=wikipedia_1002_Unione_Philharmonic_Society_text.txt, concr=1.75\n",
      "[12:57:25] 1003) title=wikipedia_1003_Nocturne_(1946_film)_text.txt, concr=1.77\n",
      "[12:57:26] 1004) title=wikipedia_1004_Freeman's-Hindman_text.txt, concr=2.09\n",
      "[12:57:26] 1005) title=wikipedia_1005_Roger_Burlingame_text.txt, concr=2.00\n",
      "[12:57:27] 1006) title=wikipedia_1006_Gurdon_Saltonstall_text.txt, concr=1.70\n",
      "[12:57:27] 1007) title=wikipedia_1007_Tavistock_A.F.C._text.txt, concr=1.88\n",
      "[12:57:28] 1008) title=wikipedia_1008_Boundary_Waters_Treaty_of_1909_text.txt, concr=1.85\n",
      "[12:57:29] 1009) title=wikipedia_1009_Heaven_Is_Earth_text.txt , concr=1.97\n",
      "[12:57:29] 1010) title=wikipedia_1010_Ryan_Bizzarro_text.txt   , concr=1.85\n",
      "[12:57:32] 1011) title=wikipedia_1011_Derrintony_text.txt      , concr=1.94\n",
      "[12:57:33] 1012) title=wikipedia_1012_Peter_Amollo_Odhiambo_text.txt, concr=1.93\n",
      "[12:57:33] 1013) title=wikipedia_1013_Cross_Hall_text.txt      , concr=2.12\n",
      "[12:57:35] 1014) title=wikipedia_1014_Bakairi_people_text.txt  , concr=1.75\n",
      "[12:57:36] 1015) title=wikipedia_1015_Adam_Kilgarriff_text.txt , concr=1.70\n",
      "[12:57:37] 1016) title=wikipedia_1016_Desperate_Moment_text.txt, concr=1.80\n",
      "[12:57:40] 1017) title=wikipedia_1017_Grace_Hoffman_text.txt   , concr=1.84\n"
     ]
    },
    {
     "name": "stdout",
     "output_type": "stream",
     "text": [
      "[12:57:41] 1018) title=wikipedia_1018_Jazz_Impressions_of_Eurasia_text.txt, concr=1.95\n",
      "[12:57:41] 1019) title=wikipedia_1019_Take_It_or_Leave_It_(game_show)_text.txt, concr=1.60\n",
      "[12:57:42] 1020) title=wikipedia_1020_Creative_Market_text.txt , concr=1.85\n",
      "[12:57:44] 1021) title=wikipedia_1021_Leitra,_Corlough_text.txt, concr=2.02\n",
      "[12:57:45] 1022) title=wikipedia_1022_Shanghai_Bobby_text.txt  , concr=1.96\n",
      "[12:57:46] 1023) title=wikipedia_1023_Ameer_Makhoul_text.txt   , concr=1.74\n",
      "[12:57:47] 1024) title=wikipedia_1024_Fort_Brockhurst_text.txt , concr=1.94\n",
      "[12:57:48] 1025) title=wikipedia_1025_Trinity_School_at_Greenlawn_text.txt, concr=2.14\n",
      "[12:57:49] 1026) title=wikipedia_1026_Kate_Langley_Bosher_text.txt, concr=1.96\n",
      "[12:57:49] 1027) title=wikipedia_1027_Tommy_Thevenow_text.txt  , concr=1.95\n",
      "[12:57:51] 1028) title=wikipedia_1028_Lebowakgomo_text.txt     , concr=2.01\n",
      "[12:57:53] 1029) title=wikipedia_1029_Footballer_(Nolan)_text.txt, concr=1.95\n",
      "[12:57:53] 1030) title=wikipedia_1030_Prey_(Planes_Mistaken_for_Stars_album)_text.txt, concr=1.84\n",
      "[12:57:54] 1031) title=wikipedia_1031_Melinda_Wagner_text.txt  , concr=2.10\n",
      "[12:57:54] 1032) title=wikipedia_1032_Muscle_memory_(strength_training)_text.txt, concr=1.75\n",
      "[12:57:55] 1033) title=wikipedia_1033_Manannan_Ballad_text.txt , concr=1.87\n",
      "[12:57:56] 1034) title=wikipedia_1034_Jouett_Meekin_text.txt   , concr=1.87\n",
      "[12:57:57] 1035) title=wikipedia_1035_Horse_Palace_text.txt    , concr=2.12\n",
      "[12:57:58] 1036) title=wikipedia_1036_A_Bright_Room_Called_Day_text.txt, concr=1.75\n",
      "[12:57:59] 1037) title=wikipedia_1037_Son_Jong-nam_text.txt    , concr=1.92\n",
      "[12:58:00] 1038) title=wikipedia_1038_Bow_Road_tube_station_text.txt, concr=2.24\n",
      "[12:58:01] 1039) title=wikipedia_1039_Lamandau_River_text.txt  , concr=2.08\n",
      "[12:58:02] 1040) title=wikipedia_1040_Plymouth_Company_text.txt, concr=1.95\n",
      "[12:58:03] 1041) title=wikipedia_1041_Zhang_Xuezhong_(academic)_text.txt, concr=1.62\n",
      "[12:58:03] 1042) title=wikipedia_1042_Trinity_Episcopal_Church_(Muscatine,_Iowa)_text.txt, concr=1.95\n",
      "[12:58:05] 1043) title=wikipedia_1043_Charles-Denis_Bourbaki_text.txt, concr=1.74\n",
      "[12:58:06] 1044) title=wikipedia_1044_Mytholmroyd_railway_station_text.txt, concr=2.05\n",
      "[12:58:08] 1045) title=wikipedia_1045_Zhang_Junqiu_text.txt    , concr=1.84\n",
      "[12:58:09] 1046) title=wikipedia_1046_Peter_Vermeersch_text.txt, concr=1.76\n",
      "[12:58:10] 1047) title=wikipedia_1047_Indochina_Media_Memorial_Foundation_text.txt, concr=2.01\n",
      "[12:58:11] 1048) title=wikipedia_1048_Catalyst_poisoning_text.txt, concr=1.75\n",
      "[12:58:12] 1049) title=wikipedia_1049_William_Newsom_text.txt  , concr=1.80\n",
      "[12:58:13] 1050) title=wikipedia_1050_David_M._Bressler_text.txt, concr=1.86\n",
      "[12:58:15] 1051) title=wikipedia_1051_Gao_Shuxun_text.txt      , concr=1.80\n",
      "[12:58:17] 1052) title=wikipedia_1052_Muhamalai_Forward_Defence_Line_text.txt, concr=1.87\n",
      "[12:58:19] 1053) title=wikipedia_1053_Lars_Hanson_text.txt     , concr=1.93\n",
      "[12:58:19] 1054) title=wikipedia_1054_Oregon_Historical_Society_Museum_text.txt, concr=2.08\n",
      "[12:58:20] 1055) title=wikipedia_1055_Lillian_Harman_text.txt  , concr=1.87\n",
      "[12:58:20] 1056) title=wikipedia_1056_Timothy_Rhea_text.txt    , concr=2.13\n",
      "[12:58:22] 1057) title=wikipedia_1057_Vahe_Tilbian_text.txt    , concr=1.88\n",
      "[12:58:23] 1058) title=wikipedia_1058_Wendy_Dascomb_text.txt   , concr=1.89\n",
      "[12:58:24] 1059) title=wikipedia_1059_Vietnamese_crested_argus_text.txt, concr=1.92\n",
      "[12:58:26] 1060) title=wikipedia_1060_KVPW_text.txt            , concr=1.92\n",
      "[12:58:27] 1061) title=wikipedia_1061_Lazar_Mamula_text.txt    , concr=1.84\n",
      "[12:58:29] 1062) title=wikipedia_1062_Naval_Base_Upolu_text.txt, concr=2.30\n",
      "[12:58:29] 1063) title=wikipedia_1063_Tall_Girl_2_text.txt     , concr=1.68\n",
      "[12:58:30] 1064) title=wikipedia_1064_Nine-Power_Treaty_text.txt, concr=1.77\n",
      "[12:58:31] 1065) title=wikipedia_1065_Ley_Hill_text.txt        , concr=2.07\n",
      "[12:58:32] 1066) title=wikipedia_1066_Public_service_journalism_text.txt, concr=1.60\n",
      "[12:58:33] 1067) title=wikipedia_1067_John_Kaloktenes_text.txt , concr=1.70\n",
      "[12:58:35] 1068) title=wikipedia_1068_Scheepvaartkwartier_text.txt, concr=1.98\n",
      "[12:58:37] 1069) title=wikipedia_1069_Imperial_Chemical_House_text.txt, concr=2.19\n",
      "[12:58:38] 1070) title=wikipedia_1070_PS_Duchess_of_Montrose_text.txt, concr=2.02\n",
      "[12:58:39] 1071) title=wikipedia_1071_MV_Caroline_text.txt     , concr=2.03\n",
      "[12:58:40] 1072) title=wikipedia_1072_Najmadin_Shukr_Rauf_text.txt, concr=1.74\n",
      "[12:58:41] 1073) title=wikipedia_1073_The_Frog_and_the_Fox_text.txt, concr=1.84\n",
      "[12:58:42] 1074) title=wikipedia_1074_Mitchigamea_text.txt     , concr=1.82\n",
      "[12:58:44] 1075) title=wikipedia_1075_Siliconn_City_text.txt   , concr=1.90\n",
      "[12:58:46] 1076) title=wikipedia_1076_Engelholm,_Næstved_Municipality_text.txt, concr=2.01\n",
      "[12:58:47] 1077) title=wikipedia_1077_Mandla_Makupula_text.txt , concr=1.83\n",
      "[12:58:48] 1078) title=wikipedia_1078_Drunk_tank_text.txt      , concr=1.89\n",
      "[12:58:50] 1079) title=wikipedia_1079_Kiskiack_text.txt        , concr=1.95\n",
      "[12:58:51] 1080) title=wikipedia_1080_Cley_Windmill_text.txt   , concr=2.09\n",
      "[12:58:51] 1081) title=wikipedia_1081_The_Rough_Patch_(book)_text.txt, concr=1.72\n",
      "[12:58:52] 1082) title=wikipedia_1082_Aulavik_National_Park_text.txt, concr=2.16\n",
      "[12:58:53] 1083) title=wikipedia_1083_Bantay_Bata_text.txt     , concr=1.78\n",
      "[12:58:53] 1084) title=wikipedia_1084_Thor-Able_text.txt       , concr=1.88\n",
      "[12:58:54] 1085) title=wikipedia_1085_Zinnia_grandiflora_text.txt, concr=2.19\n",
      "[12:58:55] 1086) title=wikipedia_1086_Sugar_Notch,_Pennsylvania_text.txt, concr=1.93\n",
      "[12:58:56] 1087) title=wikipedia_1087_Battle_of_Vedeno_(1859)_text.txt, concr=1.82\n",
      "[12:58:57] 1088) title=wikipedia_1088_Landscape_(horse)_text.txt, concr=1.98\n",
      "[12:58:59] 1089) title=wikipedia_1089_Chato_(Apache)_text.txt  , concr=1.95\n",
      "[12:59:00] 1090) title=wikipedia_1090_Honor_Among_Thieves_(Star_Trek:_Deep_Space_Nine)_text.txt, concr=1.67\n",
      "[12:59:01] 1091) title=wikipedia_1091_Rugby_league_in_Lancashire_text.txt, concr=2.01\n",
      "[12:59:03] 1092) title=wikipedia_1092_Ellenor_Fenn_text.txt    , concr=1.96\n",
      "[12:59:04] 1093) title=wikipedia_1093_Richard_Blade_(series)_text.txt, concr=1.81\n",
      "[12:59:05] 1094) title=wikipedia_1094_Siniša_Stamenković_(Serbian_politician,_born_1949)_text.txt, concr=1.78\n",
      "[12:59:06] 1095) title=wikipedia_1095_National_Defence_Academy_(Georgia)_text.txt, concr=1.68\n",
      "[12:59:07] 1096) title=wikipedia_1096_MetroCorp_Bancshares_text.txt, concr=2.04\n",
      "[12:59:08] 1097) title=wikipedia_1097_The_Tax_Inspector_text.txt, concr=1.75\n",
      "[12:59:10] 1098) title=wikipedia_1098_Muhammad_Yusuf_Khan_Hazara_text.txt, concr=1.70\n",
      "[12:59:11] 1099) title=wikipedia_1099_Spaceship_Earth_(sculpture)_text.txt, concr=1.90\n",
      "[12:59:11] 1100) title=wikipedia_1100_Robert_F._Dees_text.txt  , concr=1.74\n",
      "[12:59:12] 1101) title=wikipedia_1101_Middleton_Tyas_text.txt  , concr=2.04\n",
      "[12:59:13] 1102) title=wikipedia_1102_Edith_How-Martyn_text.txt, concr=1.76\n",
      "[12:59:14] 1103) title=wikipedia_1103_USS_Wamsutta_text.txt    , concr=2.13\n",
      "[12:59:15] 1104) title=wikipedia_1104_Louise_Daniel_Hutchinson_text.txt, concr=1.87\n",
      "[12:59:15] 1105) title=wikipedia_1105_Gerald_Frank_Anderson_text.txt, concr=1.82\n",
      "[12:59:16] 1106) title=wikipedia_1106_Sampson_Simson_text.txt  , concr=1.83\n",
      "[12:59:17] 1107) title=wikipedia_1107_James_Morisset_text.txt  , concr=1.79\n",
      "[12:59:20] 1108) title=wikipedia_1108_Andrey_Sigle_text.txt    , concr=1.98\n",
      "[12:59:21] 1109) title=wikipedia_1109_Censorship_in_Algeria_text.txt, concr=1.79\n",
      "[12:59:23] 1110) title=wikipedia_1110_Francisco_Moreno_Capdevila_text.txt, concr=1.80\n",
      "[12:59:24] 1111) title=wikipedia_1111_The_Little_Mother_text.txt, concr=1.75\n",
      "[12:59:25] 1112) title=wikipedia_1112_Duquesne_Country_and_Athletic_Club_text.txt, concr=1.80\n",
      "[12:59:26] 1113) title=wikipedia_1113_Ibtisam_Mahameed_text.txt, concr=1.74\n",
      "[12:59:27] 1114) title=wikipedia_1114_Skaryszew_text.txt       , concr=1.90\n",
      "[12:59:28] 1115) title=wikipedia_1115_Joshua_A._Leach_text.txt , concr=1.91\n",
      "[12:59:29] 1116) title=wikipedia_1116_Bovichtus_text.txt       , concr=1.85\n",
      "[12:59:29] 1117) title=wikipedia_1117_Systems_analysis_text.txt, concr=1.50\n",
      "[12:59:29] 1118) title=wikipedia_1118_Ghost_in_the_Machine_(film)_text.txt, concr=1.98\n",
      "[12:59:31] 1119) title=wikipedia_1119_Pantanal_snipe_text.txt  , concr=1.90\n"
     ]
    },
    {
     "name": "stdout",
     "output_type": "stream",
     "text": [
      "[12:59:33] 1120) title=wikipedia_1120_Das_Buoch_von_guoter_Spise_text.txt, concr=1.93\n",
      "[12:59:34] 1121) title=wikipedia_1121_Thomas_Arthur_(tailor)_text.txt, concr=2.13\n",
      "[12:59:34] 1122) title=wikipedia_1122_Warren_Capone_text.txt   , concr=1.91\n",
      "[12:59:35] 1123) title=wikipedia_1123_Tetradrachm_text.txt     , concr=1.85\n",
      "[12:59:36] 1124) title=wikipedia_1124_Ramage_(novel)_text.txt  , concr=1.80\n",
      "[12:59:37] 1125) title=wikipedia_1125_Jakob_Kaiser_text.txt    , concr=1.75\n",
      "[12:59:38] 1126) title=wikipedia_1126_Gribovsky_G-11_text.txt  , concr=1.97\n",
      "[12:59:40] 1127) title=wikipedia_1127_Aqua_Julia_text.txt      , concr=1.78\n",
      "[12:59:41] 1128) title=wikipedia_1128_Cardoness_Castle_text.txt, concr=1.85\n",
      "[12:59:42] 1129) title=wikipedia_1129_Grafelijke_Korenmolen,_Zeddam_text.txt, concr=2.05\n",
      "[12:59:43] 1130) title=wikipedia_1130_European_Centre_for_Minority_Issues_text.txt, concr=1.70\n",
      "[12:59:44] 1131) title=wikipedia_1131_Jesse_Hall_text.txt      , concr=2.07\n",
      "[12:59:45] 1132) title=wikipedia_1132_Declan_Cassidy_text.txt  , concr=1.98\n",
      "[12:59:46] 1133) title=wikipedia_1133_Squirrel_Bait_text.txt   , concr=2.06\n",
      "[12:59:47] 1134) title=wikipedia_1134_HMS_London_(69)_text.txt , concr=2.00\n",
      "[12:59:48] 1135) title=wikipedia_1135_It_bag_text.txt          , concr=1.87\n",
      "[12:59:49] 1136) title=wikipedia_1136_Montserrat_national_cricket_team_text.txt, concr=1.89\n",
      "[12:59:50] 1137) title=wikipedia_1137_Mud_whiting_text.txt     , concr=1.94\n",
      "[12:59:52] 1138) title=wikipedia_1138_Ab_Tak_Chhappan_2_text.txt, concr=1.78\n",
      "[12:59:52] 1139) title=wikipedia_1139_1761_British_general_election_text.txt, concr=1.60\n",
      "[12:59:53] 1140) title=wikipedia_1140_Chris_Collins_(lacrosse)_text.txt, concr=1.99\n",
      "[12:59:53] 1141) title=wikipedia_1141_Turtle_Creek_Township,_Todd_County,_Minnesota_text.txt, concr=2.24\n",
      "[12:59:55] 1142) title=wikipedia_1142_WHAT_(AM)_text.txt       , concr=2.00\n",
      "[12:59:55] 1143) title=wikipedia_1143_Shadowy_Men_on_a_Shadowy_Planet_text.txt, concr=1.96\n",
      "[12:59:56] 1144) title=wikipedia_1144_Lennox_Lewis_vs._Henry_Akinwande_text.txt, concr=1.73\n",
      "[12:59:57] 1145) title=wikipedia_1145_Aero_Commander_text.txt  , concr=2.00\n",
      "[12:59:58] 1146) title=wikipedia_1146_Augsburg_Book_of_Miracles_text.txt, concr=1.77\n",
      "[13:00:00] 1147) title=wikipedia_1147_Theophysics_text.txt     , concr=1.41\n",
      "[13:00:01] 1148) title=wikipedia_1148_1995_Iraqi_presidential_referendum_text.txt, concr=1.72\n",
      "[13:00:02] 1149) title=wikipedia_1149_HMS_Valkyrie_(shore_establishment)_text.txt, concr=1.91\n",
      "[13:00:03] 1150) title=wikipedia_1150_Myriam_Hernández_(album)_text.txt, concr=1.76\n",
      "[13:00:04] 1151) title=wikipedia_1151_Mikhail_Lavrentyev_text.txt, concr=1.73\n",
      "[13:00:05] 1152) title=wikipedia_1152_California_v._Byers_text.txt, concr=1.48\n",
      "[13:00:06] 1153) title=wikipedia_1153_Sandra_Gering_text.txt   , concr=1.97\n",
      "[13:00:07] 1154) title=wikipedia_1154_Laminated_root_rot_text.txt, concr=2.05\n",
      "[13:00:09] 1155) title=wikipedia_1155_SRN_Fast_Seacrafts_text.txt, concr=2.16\n",
      "[13:00:10] 1156) title=wikipedia_1156_Julie_von_May_(von_Rued)_text.txt, concr=1.65\n",
      "[13:00:11] 1157) title=wikipedia_1157_Pure_Essence_text.txt    , concr=1.94\n",
      "[13:00:12] 1158) title=wikipedia_1158_The_Adventures_of_Alyx_text.txt, concr=1.75\n",
      "[13:00:13] 1159) title=wikipedia_1159_EnergyUnited_text.txt    , concr=1.93\n",
      "[13:00:14] 1160) title=wikipedia_1160_Bangladesh_Power_Development_Board_text.txt, concr=1.89\n",
      "[13:00:16] 1161) title=wikipedia_1161_Nicolas_Péraldi_text.txt , concr=1.74\n",
      "[13:00:18] 1162) title=wikipedia_1162_Karina_(Venezuelan_singer)_text.txt, concr=1.81\n",
      "[13:00:19] 1163) title=wikipedia_1163_Force_B_text.txt         , concr=1.99\n",
      "[13:00:20] 1164) title=wikipedia_1164_Mobile_workstation_text.txt, concr=1.84\n",
      "[13:00:21] 1165) title=wikipedia_1165_Ernst_Otto_Fischer_text.txt, concr=1.75\n",
      "[13:00:22] 1166) title=wikipedia_1166_Raid_on_Sumatra_text.txt , concr=1.86\n",
      "[13:00:22] 1167) title=wikipedia_1167_Middle_Point,_Ohio_text.txt, concr=1.85\n",
      "[13:00:23] 1168) title=wikipedia_1168_Corruption_in_Egypt_text.txt, concr=1.56\n",
      "[13:00:24] 1169) title=wikipedia_1169_The_Godiva_Affair_text.txt, concr=1.80\n",
      "[13:00:25] 1170) title=wikipedia_1170_The_Love_Fridge_Chicago_text.txt, concr=2.12\n",
      "[13:00:25] 1171) title=wikipedia_1171_Wade_Hampton_I_text.txt  , concr=1.93\n",
      "[13:00:26] 1172) title=wikipedia_1172_Grigory_Shtern_text.txt  , concr=1.77\n",
      "[13:00:27] 1173) title=wikipedia_1173_Joaquín_Gómez_Mira_text.txt, concr=1.78\n",
      "[13:00:28] 1174) title=wikipedia_1174_Atherton_station_text.txt, concr=1.98\n",
      "[13:00:29] 1175) title=wikipedia_1175_Web_of_Love_text.txt     , concr=1.72\n",
      "[13:00:30] 1176) title=wikipedia_1176_Solar_eclipse_of_March_6,_1905_text.txt, concr=1.86\n",
      "[13:00:30] 1177) title=wikipedia_1177_Thermostatic_radiator_valve_text.txt, concr=1.86\n",
      "[13:00:31] 1178) title=wikipedia_1178_Og_Mandino_text.txt      , concr=1.86\n",
      "[13:00:32] 1179) title=wikipedia_1179_Where's_Jack?_text.txt   , concr=1.73\n",
      "[13:00:32] 1180) title=wikipedia_1180_Oscar_Nissen_text.txt    , concr=1.74\n",
      "[13:00:34] 1181) title=wikipedia_1181_Aracruz,_Espírito_Santo_text.txt, concr=1.94\n",
      "[13:00:35] 1182) title=wikipedia_1182_Skeeter_Webb_text.txt    , concr=1.93\n",
      "[13:00:37] 1183) title=wikipedia_1183_Ilaq_text.txt            , concr=1.70\n",
      "[13:00:39] 1184) title=wikipedia_1184_Cœurs_Vaillants_text.txt , concr=1.90\n",
      "[13:00:40] 1185) title=wikipedia_1185_Sant'Angelo_in_Vado_text.txt, concr=1.88\n",
      "[13:00:42] 1186) title=wikipedia_1186_David_Ivry_text.txt      , concr=1.79\n",
      "[13:00:43] 1187) title=wikipedia_1187_Naturally_Native_text.txt, concr=1.83\n",
      "[13:00:43] 1188) title=wikipedia_1188_Children's_Crusade_(1963)_text.txt, concr=1.76\n",
      "[13:00:44] 1189) title=wikipedia_1189_One_Male_Condom_text.txt , concr=1.89\n",
      "[13:00:46] 1190) title=wikipedia_1190_Don_Cossack_Choir_text.txt, concr=1.81\n",
      "[13:00:48] 1191) title=wikipedia_1191_EMLL_46th_Anniversary_Show_text.txt, concr=1.88\n",
      "[13:00:49] 1192) title=wikipedia_1192_Diane_Roter_text.txt     , concr=1.97\n",
      "[13:00:51] 1193) title=wikipedia_1193_Albert_Schreiner_text.txt, concr=1.71\n",
      "[13:00:52] 1194) title=wikipedia_1194_Imagine_Publishing_text.txt, concr=1.83\n",
      "[13:00:52] 1195) title=wikipedia_1195_David_N._Payne_text.txt  , concr=1.84\n",
      "[13:00:53] 1196) title=wikipedia_1196_Boris_Karloff:_The_Man_Behind_the_Monster_text.txt, concr=1.92\n",
      "[13:00:55] 1197) title=wikipedia_1197_Ida_Krehm_text.txt       , concr=1.97\n",
      "[13:00:57] 1198) title=wikipedia_1198_Françoise_Mallet-Joris_text.txt, concr=1.82\n",
      "[13:00:58] 1199) title=wikipedia_1199_Orthodox_cemetery_in_Białystok_(Jaroszówka)_text.txt, concr=1.95\n",
      "[13:01:00] 1200) title=wikipedia_1200_Puwei_text.txt           , concr=1.81\n",
      "[13:01:01] 1201) title=wikipedia_1201_Thalanadu_text.txt       , concr=2.02\n",
      "[13:01:02] 1202) title=wikipedia_1202_Frank_Joseph_Polozola_text.txt, concr=2.01\n",
      "[13:01:03] 1203) title=wikipedia_1203_Jean_Baptiste_de_La_Rochefoucauld,_Duke_of_Anville_text.txt, concr=1.90\n",
      "[13:01:05] 1204) title=wikipedia_1204_Kalluri_Chandramouli_text.txt, concr=1.86\n",
      "[13:01:07] 1205) title=wikipedia_1205_Gregory_Taronites_(governor_of_Chaldia)_text.txt, concr=1.69\n",
      "[13:01:08] 1206) title=wikipedia_1206_Navajo_Nation_Police_text.txt, concr=2.13\n",
      "[13:01:09] 1207) title=wikipedia_1207_La_Barca_de_la_Fe_text.txt, concr=1.83\n",
      "[13:01:10] 1208) title=wikipedia_1208_Eurobest_European_Advertising_Festival_text.txt, concr=2.01\n",
      "[13:01:12] 1209) title=wikipedia_1209_Cris_Bonacci_text.txt    , concr=2.05\n",
      "[13:01:13] 1210) title=wikipedia_1210_Crispus,_Crispinianus,_and_Benedicta_text.txt, concr=1.76\n",
      "[13:01:16] 1211) title=wikipedia_1211_Johan_Christoffer_Boklund_text.txt, concr=1.96\n",
      "[13:01:17] 1212) title=wikipedia_1212_Ivan_Sklyarov_text.txt   , concr=1.73\n",
      "[13:01:18] 1213) title=wikipedia_1213_El_Sur_(film)_text.txt   , concr=1.91\n",
      "[13:01:19] 1214) title=wikipedia_1214_State_Patty's_Day_text.txt, concr=1.82\n",
      "[13:01:19] 1215) title=wikipedia_1215_Chain_rule_(probability)_text.txt, concr=1.41\n",
      "[13:01:19] 1216) title=wikipedia_1216_Cathedral_of_the_Assumption_of_the_Blessed_Virgin_Mary_(Lymanske)_text.txt, concr=1.93\n",
      "[13:01:20] 1217) title=wikipedia_1217_The_Mexican_(short_story)_text.txt, concr=1.81\n",
      "[13:01:22] 1218) title=wikipedia_1218_Lucy_Nettlefold_text.txt , concr=1.87\n",
      "[13:01:24] 1219) title=wikipedia_1219_Songezo_Zibi_text.txt    , concr=1.84\n",
      "[13:01:25] 1220) title=wikipedia_1220_Historiography_of_Argentina_text.txt, concr=1.56\n"
     ]
    },
    {
     "name": "stdout",
     "output_type": "stream",
     "text": [
      "[13:01:26] 1221) title=wikipedia_1221_East_Week_text.txt       , concr=1.80\n",
      "[13:01:27] 1222) title=wikipedia_1222_Robert_Klonoff_text.txt  , concr=1.76\n",
      "[13:01:29] 1223) title=wikipedia_1223_Maryhill,_New_Zealand_text.txt, concr=1.96\n",
      "[13:01:31] 1224) title=wikipedia_1224_Siraya_people_text.txt   , concr=1.84\n",
      "[13:01:32] 1225) title=wikipedia_1225_Florida_Midland_Railroad_(current)_text.txt, concr=2.26\n",
      "[13:01:33] 1226) title=wikipedia_1226_Talbot_Hotel,_Malton_text.txt, concr=2.12\n",
      "[13:01:34] 1227) title=wikipedia_1227_Slavey_Jargon_text.txt   , concr=1.74\n",
      "[13:01:35] 1228) title=wikipedia_1228_Dee_Hock_text.txt        , concr=1.77\n",
      "[13:01:35] 1229) title=wikipedia_1229_Lloyd_Francis_text.txt   , concr=1.81\n",
      "[13:01:36] 1230) title=wikipedia_1230_Kuwait_Flour_Mills_&_Bakeries_Company_text.txt, concr=2.09\n",
      "[13:01:36] 1231) title=wikipedia_1231_Box_Frenzy_text.txt      , concr=1.76\n",
      "[13:01:37] 1232) title=wikipedia_1232_Charles_George_Lambie_text.txt, concr=1.90\n",
      "[13:01:38] 1233) title=wikipedia_1233_Trow_text.txt            , concr=2.00\n",
      "[13:01:39] 1234) title=wikipedia_1234_Rags_to_Rufus_text.txt   , concr=1.74\n",
      "[13:01:40] 1235) title=wikipedia_1235_Dirty_(1998_film)_text.txt, concr=1.82\n",
      "[13:01:41] 1236) title=wikipedia_1236_Frankia_alni_text.txt    , concr=2.00\n",
      "[13:01:43] 1237) title=wikipedia_1237_Kiyoseumi_Takayuki_text.txt, concr=1.78\n",
      "[13:01:44] 1238) title=wikipedia_1238_Al-Balad_text.txt        , concr=1.51\n",
      "[13:01:45] 1239) title=wikipedia_1239_William_Angliss_Institute_of_TAFE_text.txt, concr=2.15\n",
      "[13:01:45] 1240) title=wikipedia_1240_Jigsaw_(tool)_text.txt   , concr=2.05\n",
      "[13:01:45] 1241) title=wikipedia_1241_School_violence_prevention_through_education_text.txt, concr=1.58\n",
      "[13:01:47] 1242) title=wikipedia_1242_The_Gambler_(1938_film)_text.txt, concr=1.77\n",
      "[13:01:49] 1243) title=wikipedia_1243_Wighard_text.txt         , concr=1.63\n",
      "[13:01:49] 1244) title=wikipedia_1244_Letheringsett_Watermill_text.txt, concr=2.14\n",
      "[13:01:51] 1245) title=wikipedia_1245_Guirim_text.txt          , concr=1.87\n",
      "[13:01:51] 1246) title=wikipedia_1246_National_Equal_Rights_League_text.txt, concr=1.67\n",
      "[13:01:52] 1247) title=wikipedia_1247_Spaghetti_bowl_effect_text.txt, concr=1.65\n",
      "[13:01:53] 1248) title=wikipedia_1248_Dale_Hellestrae_text.txt , concr=1.90\n",
      "[13:01:55] 1249) title=wikipedia_1249_Mount_Ryōzen_text.txt    , concr=1.97\n",
      "[13:01:56] 1250) title=wikipedia_1250_Denver_Broncos_Cheerleaders_text.txt, concr=2.11\n",
      "[13:01:56] 1251) title=wikipedia_1251_GEMS_Girls'_Clubs_text.txt, concr=1.88\n",
      "[13:01:57] 1252) title=wikipedia_1252_Larry_Ferrari_text.txt   , concr=2.08\n",
      "[13:01:58] 1253) title=wikipedia_1253_Lake_Louise_(Pennsylvania)_text.txt, concr=2.20\n",
      "[13:01:59] 1254) title=wikipedia_1254_Omphalion_text.txt       , concr=1.68\n",
      "[13:02:00] 1255) title=wikipedia_1255_Massacre_(experimental_band)_text.txt, concr=1.96\n",
      "[13:02:01] 1256) title=wikipedia_1256_Document_capture_software_text.txt, concr=1.83\n",
      "[13:02:04] 1257) title=wikipedia_1257_Tiszakóród_text.txt      , concr=1.85\n",
      "[13:02:05] 1258) title=wikipedia_1258_Santa_Flavia_text.txt    , concr=1.96\n",
      "[13:02:07] 1259) title=wikipedia_1259_Vartan_Pasha_text.txt    , concr=1.59\n",
      "[13:02:08] 1260) title=wikipedia_1260_Ravn_text.txt            , concr=1.89\n",
      "[13:02:10] 1261) title=wikipedia_1261_South_Coast_Shipyard_text.txt, concr=2.45\n",
      "[13:02:10] 1262) title=wikipedia_1262_Rachel_Cowan_text.txt    , concr=1.77\n",
      "[13:02:11] 1263) title=wikipedia_1263_Petroleum_industry_in_the_Republic_of_the_Congo_text.txt, concr=2.04\n",
      "[13:02:12] 1264) title=wikipedia_1264_Villiers_26_text.txt     , concr=1.97\n",
      "[13:02:13] 1265) title=wikipedia_1265_Assault_of_Daniel_Nivel_text.txt, concr=1.91\n",
      "[13:02:15] 1266) title=wikipedia_1266_Leon_Mirsky_text.txt     , concr=1.61\n",
      "[13:02:16] 1267) title=wikipedia_1267_Frieseomelitta_varia_text.txt, concr=1.97\n",
      "[13:02:17] 1268) title=wikipedia_1268_Diane_Hamilton_text.txt  , concr=2.02\n",
      "[13:02:18] 1269) title=wikipedia_1269_Marine_Multi-purpose_Vehicle_text.txt, concr=2.17\n",
      "[13:02:19] 1270) title=wikipedia_1270_Alex_Moffat_(American_football)_text.txt, concr=1.90\n",
      "[13:02:20] 1271) title=wikipedia_1271_He_Was_Cool_text.txt     , concr=1.75\n",
      "[13:02:20] 1272) title=wikipedia_1272_Maria_Magdalena_Church_text.txt, concr=1.90\n",
      "[13:02:22] 1273) title=wikipedia_1273_National_Institute_of_Metrology_Standardization_and_Industrial_Quality_text.txt, concr=1.62\n",
      "[13:02:22] 1274) title=wikipedia_1274_Josh_Wilcox_text.txt     , concr=2.06\n",
      "[13:02:23] 1275) title=wikipedia_1275_Agha_Danish_text.txt     , concr=2.00\n",
      "[13:02:24] 1276) title=wikipedia_1276_Fruitvale_Bridge_text.txt, concr=2.19\n",
      "[13:02:25] 1277) title=wikipedia_1277_Morne_Trois_Pitons_National_Park_text.txt, concr=2.15\n",
      "[13:02:26] 1278) title=wikipedia_1278_Herb_Abramson_text.txt   , concr=1.97\n",
      "[13:02:27] 1279) title=wikipedia_1279_The_Choices_We_Made_text.txt, concr=1.70\n",
      "[13:02:28] 1280) title=wikipedia_1280_Braddock,_Cornwall_text.txt, concr=1.93\n",
      "[13:02:31] 1281) title=wikipedia_1281_Gaccha_text.txt          , concr=1.69\n",
      "[13:02:33] 1282) title=wikipedia_1282_Florentino_Tecson_text.txt, concr=1.90\n",
      "[13:02:34] 1283) title=wikipedia_1283_When_Genius_Failed_text.txt, concr=1.76\n",
      "[13:02:35] 1284) title=wikipedia_1284_James_M._Dabbs_Jr._text.txt, concr=1.69\n",
      "[13:02:36] 1285) title=wikipedia_1285_Hit_100.9_text.txt       , concr=1.98\n",
      "[13:02:38] 1286) title=wikipedia_1286_Yoshimi_Hundred_Caves_text.txt, concr=1.98\n",
      "[13:02:39] 1287) title=wikipedia_1287_Johann_Georg_Wille_text.txt, concr=1.81\n",
      "[13:02:40] 1288) title=wikipedia_1288_Mihajlo_Hamzić_text.txt  , concr=1.79\n",
      "[13:02:43] 1289) title=wikipedia_1289_Rock_On!!_(soundtrack)_text.txt, concr=1.81\n",
      "[13:02:43] 1290) title=wikipedia_1290_Clearwater,_Nebraska_text.txt, concr=1.89\n",
      "[13:02:44] 1291) title=wikipedia_1291_Rehoboth_Chapel,_Pell_Green_text.txt, concr=1.95\n",
      "[13:02:45] 1292) title=wikipedia_1292_Ionotropic_GABA_receptor_text.txt, concr=1.70\n",
      "[13:02:46] 1293) title=wikipedia_1293_Texas_Library_Association_text.txt, concr=1.83\n",
      "[13:02:46] 1294) title=wikipedia_1294_Cultural_system_text.txt , concr=1.40\n",
      "[13:02:47] 1295) title=wikipedia_1295_Talal_Afifi_text.txt     , concr=1.87\n",
      "[13:02:48] 1296) title=wikipedia_1296_Natasha_Walter_text.txt  , concr=1.92\n",
      "[13:02:48] 1297) title=wikipedia_1297_Clinton_Bulldogs_text.txt, concr=2.05\n",
      "[13:02:49] 1298) title=wikipedia_1298_Diagonally_dominant_matrix_text.txt, concr=1.43\n",
      "[13:02:49] 1299) title=wikipedia_1299_Benjamin_Brown_(Medal_of_Honor)_text.txt, concr=2.01\n",
      "[13:02:50] 1300) title=wikipedia_1300_Catherine_MacPhail_text.txt, concr=1.73\n",
      "[13:02:51] 1301) title=wikipedia_1301_Maurice_A._Preston_text.txt, concr=2.08\n",
      "[13:02:51] 1302) title=wikipedia_1302_Mumtaz_Hussain_(solicitor)_text.txt, concr=1.76\n",
      "[13:02:53] 1303) title=wikipedia_1303_UOW_Malaysia_text.txt    , concr=1.97\n",
      "[13:02:55] 1304) title=wikipedia_1304_Khorashan_of_Kartli_text.txt, concr=1.77\n",
      "[13:02:56] 1305) title=wikipedia_1305_Norman_C._Beaulieu_text.txt, concr=1.80\n",
      "[13:02:57] 1306) title=wikipedia_1306_More_than_This_(novel)_text.txt, concr=1.70\n",
      "[13:02:57] 1307) title=wikipedia_1307_Optofluidics_text.txt    , concr=1.85\n",
      "[13:02:59] 1308) title=wikipedia_1308_Alqueria_text.txt        , concr=1.81\n",
      "[13:02:59] 1309) title=wikipedia_1309_Roger_Ford_(journalist)_text.txt, concr=1.86\n",
      "[13:03:01] 1310) title=wikipedia_1310_Madge_Jenison_text.txt   , concr=1.94\n",
      "[13:03:02] 1311) title=wikipedia_1311_Victoria_Island_(Russia)_text.txt, concr=2.00\n",
      "[13:03:03] 1312) title=wikipedia_1312_Mubarak_Ali_Al_Sabah_text.txt, concr=1.84\n",
      "[13:03:04] 1313) title=wikipedia_1313_Falerone_text.txt        , concr=1.82\n",
      "[13:03:07] 1314) title=wikipedia_1314_Salur_(tribe)_text.txt   , concr=1.82\n",
      "[13:03:08] 1315) title=wikipedia_1315_Johann_von_Koch_text.txt , concr=1.66\n",
      "[13:03:09] 1316) title=wikipedia_1316_Touro_Cemetery_text.txt  , concr=1.90\n",
      "[13:03:10] 1317) title=wikipedia_1317_Várvölgy_text.txt        , concr=1.85\n",
      "[13:03:11] 1318) title=wikipedia_1318_Chinaman_(porcelain)_text.txt, concr=1.88\n",
      "[13:03:11] 1319) title=wikipedia_1319_Ibrahim_Al-Buleihi_text.txt, concr=1.39\n",
      "[13:03:12] 1320) title=wikipedia_1320_Black-bearded_flying_fox_text.txt, concr=1.89\n",
      "[13:03:13] 1321) title=wikipedia_1321_Mount_Pisgah_(Lane_County,_Oregon)_text.txt, concr=2.07\n",
      "[13:03:14] 1322) title=wikipedia_1322_Society_for_the_Promotion_of_Culture_among_the_Jews_of_Russia_text.txt, concr=1.56\n"
     ]
    },
    {
     "name": "stdout",
     "output_type": "stream",
     "text": [
      "[13:03:14] 1323) title=wikipedia_1323_Ambergris_(Bob's_Burgers)_text.txt, concr=1.83\n",
      "[13:03:16] 1324) title=wikipedia_1324_French_ship_Jean-Jacques_Rousseau_(1795)_text.txt, concr=1.99\n",
      "[13:03:17] 1325) title=wikipedia_1325_Alaska_Innocence_Project_text.txt, concr=1.80\n",
      "[13:03:18] 1326) title=wikipedia_1326_Jack_Blatherwick_(ice_hockey)_text.txt, concr=1.97\n",
      "[13:03:19] 1327) title=wikipedia_1327_Joseph_Manje_text.txt    , concr=1.88\n",
      "[13:03:21] 1328) title=wikipedia_1328_Pierre_Coton_text.txt    , concr=1.71\n",
      "[13:03:21] 1329) title=wikipedia_1329_Frank_Edwards_(British_Army_soldier)_text.txt, concr=1.94\n",
      "[13:03:21] 1330) title=wikipedia_1330_Bay_City,_Wisconsin_text.txt, concr=1.84\n",
      "[13:03:22] 1331) title=wikipedia_1331_La_Retraite_Roman_Catholic_Girls'_School_text.txt, concr=1.78\n",
      "[13:03:24] 1332) title=wikipedia_1332_Logemann_family_text.txt , concr=1.87\n",
      "[13:03:25] 1333) title=wikipedia_1333_Robert_E._Thacker_text.txt, concr=1.98\n",
      "[13:03:25] 1334) title=wikipedia_1334_Treachery_in_Beatdown_City_text.txt, concr=1.78\n",
      "[13:03:26] 1335) title=wikipedia_1335_Bubble_CPAP_text.txt     , concr=1.93\n",
      "[13:03:27] 1336) title=wikipedia_1336_Justyne_Caruana_text.txt , concr=1.77\n",
      "[13:03:29] 1337) title=wikipedia_1337_Mahindra_XUV300_text.txt , concr=2.05\n",
      "[13:03:32] 1338) title=wikipedia_1338_Eyo_Ephraim_Adam_text.txt, concr=1.76\n",
      "[13:03:34] 1339) title=wikipedia_1339_Ntsu_Mokhehle_text.txt   , concr=1.86\n",
      "[13:03:35] 1340) title=wikipedia_1340_Siamese_occupation_of_Germany_text.txt, concr=1.83\n",
      "[13:03:35] 1341) title=wikipedia_1341_Neil_McKenty_text.txt    , concr=1.92\n",
      "[13:03:36] 1342) title=wikipedia_1342_Carr_Manor_text.txt      , concr=2.03\n",
      "[13:03:38] 1343) title=wikipedia_1343_Meelin_GAA_text.txt      , concr=1.82\n",
      "[13:03:39] 1344) title=wikipedia_1344_Cathedral_of_Saint_Mary_(Miami)_text.txt, concr=2.18\n",
      "[13:03:40] 1345) title=wikipedia_1345_Nk'Mip_Desert_Cultural_Centre_text.txt, concr=2.03\n",
      "[13:03:41] 1346) title=wikipedia_1346_Eden_Shochat_text.txt    , concr=1.82\n",
      "[13:03:43] 1347) title=wikipedia_1347_Foulis_Castle_text.txt   , concr=1.93\n",
      "[13:03:45] 1348) title=wikipedia_1348_Rosana_Lanzelotte_text.txt, concr=1.90\n",
      "[13:03:46] 1349) title=wikipedia_1349_Virginia_Elena_Carta_text.txt, concr=1.94\n",
      "[13:03:48] 1350) title=wikipedia_1350_Symphony_Orchestra_of_Sri_Lanka_text.txt, concr=2.00\n",
      "[13:03:50] 1351) title=wikipedia_1351_Abol-Ghasem_Kashani_text.txt, concr=1.70\n",
      "[13:03:51] 1352) title=wikipedia_1352_Zombie_Holocaust_text.txt, concr=2.05\n",
      "[13:03:51] 1353) title=wikipedia_1353_Mexico–United_States_sugarcane_trade_dispute_text.txt, concr=1.92\n",
      "[13:03:52] 1354) title=wikipedia_1354_The_Cruise_(Brooklyn_Nine-Nine)_text.txt, concr=1.87\n",
      "[13:03:53] 1355) title=wikipedia_1355_Pavel_Steidl_text.txt    , concr=1.79\n",
      "[13:03:54] 1356) title=wikipedia_1356_Woman_No._17_text.txt    , concr=1.75\n",
      "[13:03:57] 1357) title=wikipedia_1357_Lanfranc_Cigala_text.txt , concr=1.71\n",
      "[13:03:57] 1358) title=wikipedia_1358_83rd_Guards_Air_Assault_Brigade_text.txt, concr=1.86\n",
      "[13:03:58] 1359) title=wikipedia_1359_Amnesia_Fortnight_2012_text.txt, concr=1.82\n",
      "[13:03:59] 1360) title=wikipedia_1360_William_Lashly_text.txt  , concr=1.94\n",
      "[13:04:00] 1361) title=wikipedia_1361_Baltimore_Washington_Eagles_text.txt, concr=1.96\n",
      "[13:04:01] 1362) title=wikipedia_1362_Jwala_(1971_film)_text.txt, concr=1.76\n",
      "[13:04:03] 1363) title=wikipedia_1363_Sierran_elaenia_text.txt , concr=2.01\n",
      "[13:04:04] 1364) title=wikipedia_1364_Sammy_Price_text.txt     , concr=2.04\n",
      "[13:04:05] 1365) title=wikipedia_1365_Galloway_(car)_text.txt  , concr=1.88\n",
      "[13:04:07] 1366) title=wikipedia_1366_Fontevivo_Abbey_text.txt , concr=1.93\n",
      "[13:04:09] 1367) title=wikipedia_1367_Yoker_F.C._text.txt      , concr=1.92\n",
      "[13:04:09] 1368) title=wikipedia_1368_Robin_Herman_text.txt    , concr=1.92\n",
      "[13:04:09] 1369) title=wikipedia_1369_Ira_Black_text.txt       , concr=1.84\n",
      "[13:04:11] 1370) title=wikipedia_1370_Mali_Beograd_(Bačka_Topola)_text.txt, concr=1.93\n",
      "[13:04:12] 1371) title=wikipedia_1371_Harrison_Cider_Apple_text.txt, concr=2.00\n",
      "[13:04:12] 1372) title=wikipedia_1372_Gamma_Theta_Upsilon_text.txt, concr=1.76\n",
      "[13:04:13] 1373) title=wikipedia_1373_Bowden_Francis_text.txt  , concr=1.99\n",
      "[13:04:13] 1374) title=wikipedia_1374_The_Dove_Foundation_text.txt, concr=1.76\n",
      "[13:04:14] 1375) title=wikipedia_1375_Beefcake_(film)_text.txt , concr=1.88\n",
      "[13:04:15] 1376) title=wikipedia_1376_Middlesex_and_Boston_Street_Railway_text.txt, concr=2.18\n",
      "[13:04:16] 1377) title=wikipedia_1377_Blushing_John_text.txt   , concr=2.00\n",
      "[13:04:17] 1378) title=wikipedia_1378_Arkforce_(1940)_text.txt , concr=1.91\n",
      "[13:04:19] 1379) title=wikipedia_1379_Foundation_for_Psychocultural_Research_text.txt, concr=1.70\n",
      "[13:04:20] 1380) title=wikipedia_1380_Frank_G._Paci_text.txt   , concr=1.79\n",
      "[13:04:22] 1381) title=wikipedia_1381_Breteil_text.txt         , concr=1.91\n",
      "[13:04:23] 1382) title=wikipedia_1382_9Goats_Black_Out_text.txt, concr=1.86\n",
      "[13:04:24] 1383) title=wikipedia_1383_Greengage_text.txt       , concr=2.05\n",
      "[13:04:25] 1384) title=wikipedia_1384_Tariq_Saleh_text.txt     , concr=1.92\n",
      "[13:04:26] 1385) title=wikipedia_1385_Village_of_Arlington_Heights_v._Metropolitan_Housing_Development_Corp._text.txt, concr=1.48\n",
      "[13:04:27] 1386) title=wikipedia_1386_Arnaud_Cohen_text.txt    , concr=1.84\n",
      "[13:04:28] 1387) title=wikipedia_1387_Villa_de_Chantal_Historic_District_text.txt, concr=2.08\n",
      "[13:04:29] 1388) title=wikipedia_1388_Matthew_Wild_text.txt    , concr=1.91\n",
      "[13:04:30] 1389) title=wikipedia_1389_Frederik_Stang_text.txt  , concr=1.77\n",
      "[13:04:31] 1390) title=wikipedia_1390_Eldon_E._Fallon_text.txt , concr=1.87\n",
      "[13:04:32] 1391) title=wikipedia_1391_Thomas_Bland_Strange_text.txt, concr=1.92\n",
      "[13:04:33] 1392) title=wikipedia_1392_In_the_Cards_text.txt    , concr=1.82\n",
      "[13:04:34] 1393) title=wikipedia_1393_Salaga_Slave_Market_text.txt, concr=1.89\n",
      "[13:04:35] 1394) title=wikipedia_1394_Klementyna_Hoffmanowa_text.txt, concr=1.83\n",
      "[13:04:36] 1395) title=wikipedia_1395_Air_Bud_text.txt         , concr=1.99\n",
      "[13:04:37] 1396) title=wikipedia_1396_Princess_Aurora_(TV_series)_text.txt, concr=1.65\n",
      "[13:04:39] 1397) title=wikipedia_1397_Scalloped_antbird_text.txt, concr=1.96\n",
      "[13:04:39] 1398) title=wikipedia_1398_George_Cram_Cook_text.txt, concr=1.89\n",
      "[13:04:40] 1399) title=wikipedia_1399_Minnie_Negoro_text.txt   , concr=1.93\n",
      "[13:04:41] 1400) title=wikipedia_1400_Penitentiary_(1979_film)_text.txt, concr=1.79\n",
      "[13:04:43] 1401) title=wikipedia_1401_WCHR_(AM)_text.txt       , concr=1.99\n",
      "[13:04:44] 1402) title=wikipedia_1402_Hundred_of_Yatala_text.txt, concr=1.95\n",
      "[13:04:45] 1403) title=wikipedia_1403_Lovesong_(film)_text.txt , concr=1.93\n",
      "[13:04:46] 1404) title=wikipedia_1404_Dietrich_Stobbe_text.txt , concr=1.69\n",
      "[13:04:48] 1405) title=wikipedia_1405_Capitol_Campaign_Strategies_text.txt, concr=1.80\n",
      "[13:04:49] 1406) title=wikipedia_1406_Lectures_on_Jurisprudence_text.txt, concr=1.51\n",
      "[13:04:49] 1407) title=wikipedia_1407_Coast_Range_Ophiolite_text.txt, concr=1.92\n",
      "[13:04:50] 1408) title=wikipedia_1408_Yukon_Gold_potato_text.txt, concr=2.03\n",
      "[13:04:52] 1409) title=wikipedia_1409_Alex_Duthart_text.txt    , concr=2.12\n",
      "[13:04:52] 1410) title=wikipedia_1410_An_American_Girl_Story_–_Maryellen_1955:_Extraordinary_Christmas_text.txt, concr=1.89\n",
      "[13:04:53] 1411) title=wikipedia_1411_Fountain_Tire_text.txt   , concr=2.32\n",
      "[13:04:53] 1412) title=wikipedia_1412_Murder_of_Amanda_Duffy_text.txt, concr=1.75\n",
      "[13:04:54] 1413) title=wikipedia_1413_Brightness_temperature_text.txt, concr=1.61\n",
      "[13:04:55] 1414) title=wikipedia_1414_Kalamazoo_Kings_text.txt , concr=2.04\n",
      "[13:04:55] 1415) title=wikipedia_1415_James_M._Howard_Jr._text.txt, concr=1.99\n",
      "[13:04:56] 1416) title=wikipedia_1416_Red_porgy_text.txt       , concr=1.93\n",
      "[13:04:57] 1417) title=wikipedia_1417_USS_Ordronaux_text.txt   , concr=2.10\n",
      "[13:04:58] 1418) title=wikipedia_1418_Amateur_Athletic_Club_text.txt, concr=1.67\n",
      "[13:04:59] 1419) title=wikipedia_1419_The_Sign_of_Death_text.txt, concr=1.81\n",
      "[13:05:00] 1420) title=wikipedia_1420_Missoula_Public_Library_text.txt, concr=2.31\n",
      "[13:05:00] 1421) title=wikipedia_1421_Lavengro_text.txt        , concr=1.66\n",
      "[13:05:01] 1422) title=wikipedia_1422_Graph_of_a_function_text.txt, concr=1.40\n",
      "[13:05:01] 1423) title=wikipedia_1423_Southern_Pomo_language_text.txt, concr=1.77\n"
     ]
    },
    {
     "name": "stdout",
     "output_type": "stream",
     "text": [
      "[13:05:03] 1424) title=wikipedia_1424_Laura_Sadler_text.txt    , concr=1.98\n",
      "[13:05:04] 1425) title=wikipedia_1425_St._Olav's_Church_(ruin)_text.txt, concr=1.92\n",
      "[13:05:06] 1426) title=wikipedia_1426_Henda_Ducados_text.txt   , concr=1.93\n",
      "[13:05:07] 1427) title=wikipedia_1427_Suzanne_Oparil_text.txt  , concr=1.82\n",
      "[13:05:07] 1428) title=wikipedia_1428_Mendon,_Ohio_text.txt    , concr=1.84\n",
      "[13:05:08] 1429) title=wikipedia_1429_Outstrip_text.txt        , concr=1.92\n",
      "[13:05:11] 1430) title=wikipedia_1430_Chakkar_(TV_series)_text.txt, concr=1.72\n",
      "[13:05:13] 1431) title=wikipedia_1431_Sonia_Grey_text.txt      , concr=1.75\n",
      "[13:05:14] 1432) title=wikipedia_1432_Antonina_Khudyakova_text.txt, concr=1.91\n",
      "[13:05:15] 1433) title=wikipedia_1433_James_Steen_(journalist)_text.txt, concr=1.87\n",
      "[13:05:16] 1434) title=wikipedia_1434_Aleksei_Antonov_text.txt , concr=1.72\n",
      "[13:05:18] 1435) title=wikipedia_1435_Dholak_text.txt          , concr=2.06\n",
      "[13:05:19] 1436) title=wikipedia_1436_Southfield_Public_Library_text.txt, concr=2.05\n",
      "[13:05:23] 1437) title=wikipedia_1437_Whiti-patatō_text.txt    , concr=1.88\n",
      "[13:05:23] 1438) title=wikipedia_1438_Mike_Chaplin_text.txt    , concr=1.89\n",
      "[13:05:24] 1439) title=wikipedia_1439_Kimball_House_(Atlanta)_text.txt, concr=2.06\n",
      "[13:05:25] 1440) title=wikipedia_1440_Clubmen_text.txt         , concr=1.76\n",
      "[13:05:26] 1441) title=wikipedia_1441_Ducci_sequence_text.txt  , concr=1.44\n",
      "[13:05:27] 1442) title=wikipedia_1442_James_Lorimer_(advocate)_text.txt, concr=1.87\n",
      "[13:05:28] 1443) title=wikipedia_1443_La_Model_(Barcelona)_text.txt, concr=1.74\n",
      "[13:05:30] 1444) title=wikipedia_1444_Albert_Chowne_text.txt   , concr=1.96\n",
      "[13:05:32] 1445) title=wikipedia_1445_Ninja_Kids!!!_text.txt   , concr=1.94\n",
      "[13:05:32] 1446) title=wikipedia_1446_Alice_Oldham_text.txt    , concr=1.85\n",
      "[13:05:34] 1447) title=wikipedia_1447_KFBU_text.txt            , concr=1.85\n",
      "[13:05:34] 1448) title=wikipedia_1448_Freemasonry_in_Finland_text.txt, concr=1.71\n",
      "[13:05:35] 1449) title=wikipedia_1449_New_York_World_Journal_Tribune_text.txt, concr=1.81\n",
      "[13:05:35] 1450) title=wikipedia_1450_Original_Highlands,_Louisville_text.txt, concr=2.07\n",
      "[13:05:36] 1451) title=wikipedia_1451_Clifford_family_(bankers)_text.txt, concr=1.92\n",
      "[13:05:39] 1452) title=wikipedia_1452_Guillaume_Maillard_text.txt, concr=1.91\n",
      "[13:05:40] 1453) title=wikipedia_1453_Lowestoft_Maritime_Museum_text.txt, concr=1.98\n",
      "[13:05:41] 1454) title=wikipedia_1454_Japanese_submarine_Ha-209_text.txt, concr=2.04\n",
      "[13:05:42] 1455) title=wikipedia_1455_Sansar_(video_game)_text.txt, concr=1.78\n",
      "[13:05:44] 1456) title=wikipedia_1456_YedZ_family_text.txt     , concr=1.92\n",
      "[13:05:46] 1457) title=wikipedia_1457_Beit_Hagai_text.txt      , concr=1.88\n",
      "[13:05:47] 1458) title=wikipedia_1458_Associated_Chamber_Music_Players_text.txt, concr=2.09\n",
      "[13:05:50] 1459) title=wikipedia_1459_Byline_Festival_text.txt , concr=2.25\n",
      "[13:05:51] 1460) title=wikipedia_1460_Angeline_Lake_text.txt   , concr=2.38\n",
      "[13:05:52] 1461) title=wikipedia_1461_CD3_(immunology)_text.txt, concr=1.83\n",
      "[13:05:54] 1462) title=wikipedia_1462_Azerbaijani_rock_text.txt, concr=1.99\n",
      "[13:05:56] 1463) title=wikipedia_1463_Province_of_Isernia_text.txt, concr=1.93\n",
      "[13:05:57] 1464) title=wikipedia_1464_Alba_Madonna_text.txt    , concr=1.85\n",
      "[13:05:58] 1465) title=wikipedia_1465_Lenape_mythology_text.txt, concr=1.83\n",
      "[13:06:00] 1466) title=wikipedia_1466_Krzysztof_Mieszkowski_text.txt, concr=1.81\n",
      "[13:06:02] 1467) title=wikipedia_1467_Urszula_Plenkiewicz_text.txt, concr=1.99\n",
      "[13:06:03] 1468) title=wikipedia_1468_All_Saints'_Church,_Cheltenham_text.txt, concr=1.95\n",
      "[13:06:04] 1469) title=wikipedia_1469_Hill_v._California_text.txt, concr=1.90\n",
      "[13:06:05] 1470) title=wikipedia_1470_Natillas_text.txt        , concr=2.15\n",
      "[13:06:07] 1471) title=wikipedia_1471_Peter_the_Painter_text.txt, concr=1.85\n",
      "[13:06:08] 1472) title=wikipedia_1472_The_Next_Phase_text.txt  , concr=1.73\n",
      "[13:06:09] 1473) title=wikipedia_1473_James_Currie_(birding_expert)_text.txt, concr=2.09\n",
      "[13:06:09] 1474) title=wikipedia_1474_Porteous_family_text.txt , concr=1.79\n",
      "[13:06:10] 1475) title=wikipedia_1475_Anna_Brackett_text.txt   , concr=1.77\n",
      "[13:06:12] 1476) title=wikipedia_1476_André_Tollet_text.txt    , concr=1.78\n",
      "[13:06:13] 1477) title=wikipedia_1477_Claudia_Duque_text.txt   , concr=1.71\n",
      "[13:06:14] 1478) title=wikipedia_1478_Daniel_Pennie_House_text.txt, concr=2.08\n",
      "[13:06:15] 1479) title=wikipedia_1479_Minley_text.txt          , concr=2.03\n",
      "[13:06:16] 1480) title=wikipedia_1480_Muhos_text.txt           , concr=1.87\n",
      "[13:06:18] 1481) title=wikipedia_1481_Janez_Stanovnik_text.txt , concr=1.73\n",
      "[13:06:18] 1482) title=wikipedia_1482_Alfordsville,_Indiana_text.txt, concr=1.88\n",
      "[13:06:20] 1483) title=wikipedia_1483_Carlos_Holguín_Mallarino_text.txt, concr=1.77\n",
      "[13:06:22] 1484) title=wikipedia_1484_Lydekkerina_text.txt     , concr=1.90\n",
      "[13:06:22] 1485) title=wikipedia_1485_Throw_shade_text.txt     , concr=1.68\n",
      "[13:06:23] 1486) title=wikipedia_1486_Joe_Kennedy_(bishop)_text.txt, concr=1.86\n",
      "[13:06:24] 1487) title=wikipedia_1487_Journey_to_the_Center_of_the_Earth_(miniseries)_text.txt, concr=1.92\n",
      "[13:06:25] 1488) title=wikipedia_1488_Ann_Tutwiler_text.txt    , concr=1.82\n",
      "[13:06:26] 1489) title=wikipedia_1489_Indigenous_All_Stars_(rugby_league)_text.txt, concr=1.97\n",
      "[13:06:27] 1490) title=wikipedia_1490_Asia_New_Bay_Area_text.txt, concr=2.07\n",
      "[13:06:27] 1491) title=wikipedia_1491_Sydney_International_Exhibition_text.txt, concr=2.05\n",
      "[13:06:28] 1492) title=wikipedia_1492_Golden_Ring_(song)_text.txt, concr=1.80\n",
      "[13:06:29] 1493) title=wikipedia_1493_Thunderhill_Ski_Area_text.txt, concr=2.03\n",
      "[13:06:30] 1494) title=wikipedia_1494_St._Ann's_Center_for_Children,_Youth_and_Families_text.txt, concr=1.95\n",
      "[13:06:31] 1495) title=wikipedia_1495_Gian_Singh_(soldier)_text.txt, concr=1.83\n",
      "[13:06:33] 1496) title=wikipedia_1496_Chandabhoy_Galla_Case_text.txt, concr=1.66\n",
      "[13:06:34] 1497) title=wikipedia_1497_Ratae_Corieltauvorum_text.txt, concr=1.85\n",
      "[13:06:36] 1498) title=wikipedia_1498_Pinus_gerardiana_text.txt, concr=2.06\n",
      "[13:06:36] 1499) title=wikipedia_1499_Paul_Bunyan_and_Babe_the_Blue_Ox_text.txt, concr=2.10\n",
      "[13:06:37] 1500) title=wikipedia_1500_Samuel_Daukes_text.txt   , concr=1.87\n",
      "[13:06:38] 1501) title=wikipedia_1501_Bellevue_Gothic_Mill_text.txt, concr=2.02\n",
      "[13:06:39] 1502) title=wikipedia_1502_Cyril_Magnin_text.txt    , concr=1.97\n",
      "[13:06:41] 1503) title=wikipedia_1503_Bolivian_montane_dry_forests_text.txt, concr=2.26\n",
      "[13:06:44] 1504) title=wikipedia_1504_Lichtenfels,_Bavaria_text.txt, concr=2.00\n",
      "[13:06:45] 1505) title=wikipedia_1505_USS_Coronis_text.txt     , concr=2.17\n",
      "[13:06:46] 1506) title=wikipedia_1506_John_Buchan,_2nd_Baron_Tweedsmuir_text.txt, concr=1.91\n",
      "[13:06:47] 1507) title=wikipedia_1507_Weighted_planar_stochastic_lattice_text.txt, concr=1.64\n",
      "[13:06:48] 1508) title=wikipedia_1508_Alexandria_(novel)_text.txt, concr=1.83\n",
      "[13:06:50] 1509) title=wikipedia_1509_Henry_of_Morra_text.txt  , concr=1.79\n",
      "[13:06:52] 1510) title=wikipedia_1510_Tirusulam_text.txt       , concr=2.13\n",
      "[13:06:53] 1511) title=wikipedia_1511_The_Galvatrons_text.txt  , concr=1.92\n",
      "[13:06:55] 1512) title=wikipedia_1512_Ovilu_Tunnillie_text.txt , concr=1.92\n",
      "[13:06:55] 1513) title=wikipedia_1513_Escapade_(1935_film)_text.txt, concr=1.74\n",
      "[13:06:56] 1514) title=wikipedia_1514_Hàn_River_Bridge_text.txt, concr=2.04\n",
      "[13:06:57] 1515) title=wikipedia_1515_The_Kehillah_School_text.txt, concr=1.94\n",
      "[13:06:59] 1516) title=wikipedia_1516_Michael_Okpara_text.txt  , concr=1.77\n",
      "[13:07:01] 1517) title=wikipedia_1517_Sangu_people_text.txt    , concr=1.76\n",
      "[13:07:02] 1518) title=wikipedia_1518_Aurora_Nilsson_text.txt  , concr=1.75\n",
      "[13:07:03] 1519) title=wikipedia_1519_Zen_in_the_Art_of_Archery_text.txt, concr=1.65\n",
      "[13:07:04] 1520) title=wikipedia_1520_Shotgun_(1955_film)_text.txt, concr=1.73\n",
      "[13:07:05] 1521) title=wikipedia_1521_The_Seal_Cub_Clubbing_Club_text.txt, concr=1.88\n",
      "[13:07:06] 1522) title=wikipedia_1522_A_Pair_of_Sixes_text.txt , concr=1.62\n",
      "[13:07:07] 1523) title=wikipedia_1523_Lalit_Pande_text.txt     , concr=1.77\n",
      "[13:07:10] 1524) title=wikipedia_1524_Sudjiran_Resosudarmo_text.txt, concr=1.90\n",
      "[13:07:10] 1525) title=wikipedia_1525_Hash_join_text.txt       , concr=1.62\n",
      "[13:07:11] 1526) title=wikipedia_1526_Jürgen_Wattenberg_text.txt, concr=1.86\n"
     ]
    },
    {
     "name": "stdout",
     "output_type": "stream",
     "text": [
      "[13:07:14] 1527) title=wikipedia_1527_Sjef_van_Oekel_text.txt  , concr=1.87\n",
      "[13:07:15] 1528) title=wikipedia_1528_Mayfield,_Baltimore_text.txt, concr=2.11\n",
      "[13:07:15] 1529) title=wikipedia_1529_Frank_Rockefeller_text.txt, concr=2.05\n",
      "[13:07:16] 1530) title=wikipedia_1530_Incendiary_(film)_text.txt, concr=1.77\n",
      "[13:07:17] 1531) title=wikipedia_1531_Hajera_Mahtab_text.txt   , concr=1.94\n",
      "[13:07:18] 1532) title=wikipedia_1532_Baldacci_Family_Vineyards_text.txt, concr=2.35\n",
      "[13:07:20] 1533) title=wikipedia_1533_The_Crow_Garden_text.txt , concr=1.71\n",
      "[13:07:20] 1534) title=wikipedia_1534_RV_Atlantic_Explorer_text.txt, concr=2.00\n",
      "[13:07:21] 1535) title=wikipedia_1535_Cave_of_the_Heart_text.txt, concr=1.87\n",
      "[13:07:22] 1536) title=wikipedia_1536_Statue_of_Queen_Anne,_St_Paul's_Churchyard_text.txt, concr=2.18\n",
      "[13:07:23] 1537) title=wikipedia_1537_When_a_Killer_Calls_text.txt, concr=1.95\n",
      "[13:07:23] 1538) title=wikipedia_1538_Ian_Russell_(folklorist)_text.txt, concr=1.79\n",
      "[13:07:24] 1539) title=wikipedia_1539_Peter_Kenney_text.txt    , concr=1.90\n",
      "[13:07:26] 1540) title=wikipedia_1540_Fachrul_Baraqbah_text.txt, concr=1.75\n",
      "[13:07:29] 1541) title=wikipedia_1541_Inkollu_text.txt         , concr=2.16\n",
      "[13:07:31] 1542) title=wikipedia_1542_Rosewell,_Midlothian_text.txt, concr=2.07\n",
      "[13:07:32] 1543) title=wikipedia_1543_Amboy_(schooner-barge)_text.txt, concr=2.00\n",
      "[13:07:32] 1544) title=wikipedia_1544_Overnight_Sensation_(Hit_Record)_text.txt, concr=1.90\n",
      "[13:07:33] 1545) title=wikipedia_1545_Society_for_the_Suppression_of_Mendicity_text.txt, concr=1.67\n",
      "[13:07:34] 1546) title=wikipedia_1546_Bournemouth_Town_Hall_text.txt, concr=2.03\n",
      "[13:07:35] 1547) title=wikipedia_1547_Black_Rocks_Viaduct_text.txt, concr=1.77\n",
      "[13:07:37] 1548) title=wikipedia_1548_Victor_Carlhian_text.txt , concr=1.83\n",
      "[13:07:39] 1549) title=wikipedia_1549_Middle_Third_(County_Tipperary_barony)_text.txt, concr=1.82\n",
      "[13:07:41] 1550) title=wikipedia_1550_The_Dreaming_Child_text.txt, concr=1.76\n",
      "[13:07:43] 1551) title=wikipedia_1551_Badisaba_Kocharli_text.txt, concr=1.90\n",
      "[13:07:43] 1552) title=wikipedia_1552_Allan_Taylor_(musician)_text.txt, concr=1.89\n",
      "[13:07:45] 1553) title=wikipedia_1553_Song_of_Norway_text.txt  , concr=1.91\n",
      "[13:07:46] 1554) title=wikipedia_1554_MultiEx_Commander_text.txt, concr=1.83\n",
      "[13:07:47] 1555) title=wikipedia_1555_Vall_de_Núria_text.txt   , concr=1.94\n",
      "[13:07:48] 1556) title=wikipedia_1556_Mojito_(framework)_text.txt, concr=1.98\n",
      "[13:07:49] 1557) title=wikipedia_1557_Samuel_Parkes_(chemist)_text.txt, concr=2.01\n",
      "[13:07:49] 1558) title=wikipedia_1558_Scarab_(Nedor_Comics)_text.txt, concr=1.80\n",
      "[13:07:50] 1559) title=wikipedia_1559_Pull-off_text.txt        , concr=1.81\n",
      "[13:07:51] 1560) title=wikipedia_1560_Lucretia_Grindle_text.txt, concr=1.89\n",
      "[13:07:53] 1561) title=wikipedia_1561_Mikoy_Morales_text.txt   , concr=1.90\n",
      "[13:07:54] 1562) title=wikipedia_1562_David_Stow_text.txt      , concr=1.72\n",
      "[13:07:54] 1563) title=wikipedia_1563_Cooper's_ligaments_text.txt, concr=1.98\n",
      "[13:07:55] 1564) title=wikipedia_1564_Ginny_Creveling_text.txt , concr=1.81\n",
      "[13:07:55] 1565) title=wikipedia_1565_Solar_eclipse_of_November_27,_2095_text.txt, concr=1.88\n",
      "[13:07:56] 1566) title=wikipedia_1566_Gorgeous_Grampa_text.txt , concr=1.85\n",
      "[13:07:57] 1567) title=wikipedia_1567_Tubstrip_text.txt        , concr=1.77\n",
      "[13:07:57] 1568) title=wikipedia_1568_Tim_Sharp_text.txt       , concr=1.91\n",
      "[13:07:59] 1569) title=wikipedia_1569_TCDD_45151_Class_text.txt, concr=1.86\n",
      "[13:08:00] 1570) title=wikipedia_1570_Centura_Bank_text.txt    , concr=2.11\n",
      "[13:08:01] 1571) title=wikipedia_1571_Widdicomb_Furniture_Company_text.txt, concr=1.98\n",
      "[13:08:02] 1572) title=wikipedia_1572_Bourkou_Louise_Kabo_text.txt, concr=1.79\n",
      "[13:08:04] 1573) title=wikipedia_1573_Cherry_barb_text.txt     , concr=1.93\n",
      "[13:08:07] 1574) title=wikipedia_1574_Rhein-Sieg-Express_text.txt, concr=1.92\n",
      "[13:08:08] 1575) title=wikipedia_1575_No_End_(album)_text.txt  , concr=1.65\n",
      "[13:08:11] 1576) title=wikipedia_1576_Li_Sigong_text.txt       , concr=1.90\n",
      "[13:08:12] 1577) title=wikipedia_1577_Moon_of_the_Wolf_text.txt, concr=2.03\n",
      "[13:08:13] 1578) title=wikipedia_1578_Fran_Capo_text.txt       , concr=2.09\n",
      "[13:08:14] 1579) title=wikipedia_1579_Michèle_Marcotte_text.txt, concr=1.92\n",
      "[13:08:16] 1580) title=wikipedia_1580_Horace_Liveright_text.txt, concr=1.91\n",
      "[13:08:17] 1581) title=wikipedia_1581_A_Prize_of_Gold_text.txt , concr=1.99\n",
      "[13:08:18] 1582) title=wikipedia_1582_Christy_Heffernan_text.txt, concr=1.92\n",
      "[13:08:19] 1583) title=wikipedia_1583_Massacre_of_Puerto_Montt_text.txt, concr=1.81\n",
      "[13:08:20] 1584) title=wikipedia_1584_Valentine_Gawrychowski_text.txt, concr=1.93\n",
      "[13:08:21] 1585) title=wikipedia_1585_Henry_Bentinck,_11th_Earl_of_Portland_text.txt, concr=2.03\n",
      "[13:08:22] 1586) title=wikipedia_1586_Warcraft:_The_Board_Game_text.txt, concr=1.85\n",
      "[13:08:22] 1587) title=wikipedia_1587_Robert_Raikes'_House_text.txt, concr=2.18\n",
      "[13:08:24] 1588) title=wikipedia_1588_Diario_Las_Américas_text.txt, concr=1.91\n",
      "[13:08:26] 1589) title=wikipedia_1589_Kenneth_von_Heidecke_text.txt, concr=2.01\n",
      "[13:08:26] 1590) title=wikipedia_1590_History_of_education_in_Taiwan_text.txt, concr=1.67\n",
      "[13:08:27] 1591) title=wikipedia_1591_F._J._Mears_text.txt     , concr=1.92\n",
      "[13:08:28] 1592) title=wikipedia_1592_Billie_Gillespie_text.txt, concr=1.92\n",
      "[13:08:29] 1593) title=wikipedia_1593_Athos_(character)_text.txt, concr=1.73\n",
      "[13:08:30] 1594) title=wikipedia_1594_Oh,_Kay!_(film)_text.txt , concr=1.87\n",
      "[13:08:31] 1595) title=wikipedia_1595_Prairie_View_Rotamak_text.txt, concr=1.82\n",
      "[13:08:32] 1596) title=wikipedia_1596_Penge_Urban_District_text.txt, concr=1.90\n",
      "[13:08:33] 1597) title=wikipedia_1597_Eagle_Creek_(Powder_River_tributary)_text.txt, concr=2.68\n",
      "[13:08:34] 1598) title=wikipedia_1598_Where_the_Green_Ants_Dream_text.txt, concr=1.90\n",
      "[13:08:34] 1599) title=wikipedia_1599_Lithobolia_text.txt      , concr=1.89\n",
      "[13:08:35] 1600) title=wikipedia_1600_Francis_H._Leggett_text.txt, concr=2.05\n",
      "[13:08:36] 1601) title=wikipedia_1601_Fujitsu_Lifebook_text.txt, concr=1.80\n",
      "[13:08:37] 1602) title=wikipedia_1602_Ghost_(Hamlet)_text.txt  , concr=1.69\n",
      "[13:08:37] 1603) title=wikipedia_1603_Mattie_Clyburn_Rice_text.txt, concr=2.02\n",
      "[13:08:41] 1604) title=wikipedia_1604_Mogale_Mogale_text.txt   , concr=1.87\n",
      "[13:08:46] 1605) title=wikipedia_1605_Nitobe_Koretami_text.txt , concr=2.10\n",
      "[13:08:47] 1606) title=wikipedia_1606_Coat_of_arms_of_Peru_text.txt, concr=1.87\n",
      "[13:08:47] 1607) title=wikipedia_1607_Arnold_Walker_(RAF_officer)_text.txt, concr=1.92\n",
      "[13:08:48] 1608) title=wikipedia_1608_American_Mutual_Life_Association_text.txt, concr=1.87\n",
      "[13:08:49] 1609) title=wikipedia_1609_Scott_Reske_text.txt     , concr=1.90\n",
      "[13:08:49] 1610) title=wikipedia_1610_In_Time_to_Voices_text.txt, concr=1.77\n",
      "[13:08:50] 1611) title=wikipedia_1611_Centrifugal_water–oil_separator_text.txt, concr=1.96\n",
      "[13:08:50] 1612) title=wikipedia_1612_William_Worby_Beaumont_text.txt, concr=2.00\n",
      "[13:08:52] 1613) title=wikipedia_1613_Dong-A_Broadcasting_System_text.txt, concr=1.86\n",
      "[13:08:53] 1614) title=wikipedia_1614_Bryan_Thompson_(designer)_text.txt, concr=1.77\n",
      "[13:08:53] 1615) title=wikipedia_1615_Rainy_Dog_text.txt       , concr=1.92\n",
      "[13:08:54] 1616) title=wikipedia_1616_Apical_dominance_text.txt, concr=1.77\n",
      "[13:08:55] 1617) title=wikipedia_1617_Julio_Anguita_Parrado_text.txt, concr=1.86\n",
      "[13:08:55] 1618) title=wikipedia_1618_Willie_Logan_text.txt    , concr=1.79\n",
      "[13:08:56] 1619) title=wikipedia_1619_Panama_Hotel_(Seattle)_text.txt, concr=1.87\n",
      "[13:08:57] 1620) title=wikipedia_1620_Lohengrin_text.txt       , concr=1.78\n",
      "[13:08:58] 1621) title=wikipedia_1621_Providencia_Ranch_text.txt, concr=2.16\n",
      "[13:08:59] 1622) title=wikipedia_1622_Fredrick_Mugisha_text.txt, concr=1.84\n",
      "[13:09:01] 1623) title=wikipedia_1623_Count_of_the_Stable_text.txt, concr=1.72\n",
      "[13:09:02] 1624) title=wikipedia_1624_Rudy_VanderLans_text.txt , concr=1.81\n",
      "[13:09:03] 1625) title=wikipedia_1625_Crested_pigeon_text.txt  , concr=1.98\n",
      "[13:09:03] 1626) title=wikipedia_1626_Lenny_the_Wonder_Dog_text.txt, concr=2.00\n",
      "[13:09:05] 1627) title=wikipedia_1627_Venceslaus_Ulricus_Hammershaimb_text.txt, concr=1.72\n",
      "[13:09:05] 1628) title=wikipedia_1628_The_Columbia_History_of_Chinese_Literature_text.txt, concr=1.62\n"
     ]
    },
    {
     "name": "stdout",
     "output_type": "stream",
     "text": [
      "[13:09:07] 1629) title=wikipedia_1629_Tell_Them_of_Battles,_Kings,_and_Elephants_text.txt, concr=1.81\n",
      "[13:09:08] 1630) title=wikipedia_1630_Ningxia_wine_text.txt    , concr=2.05\n",
      "[13:09:08] 1631) title=wikipedia_1631_Tea_for_Three_text.txt   , concr=1.79\n",
      "[13:09:09] 1632) title=wikipedia_1632_Third_Party_Risk_text.txt, concr=1.84\n",
      "[13:09:10] 1633) title=wikipedia_1633_Odon,_Indiana_text.txt   , concr=1.80\n",
      "[13:09:11] 1634) title=wikipedia_1634_Günter_Petzow_text.txt   , concr=1.89\n",
      "[13:09:12] 1635) title=wikipedia_1635_Deutsche_Börse_Cloud_Exchange_AG_text.txt, concr=1.67\n",
      "[13:09:12] 1636) title=wikipedia_1636_Voltage_source_text.txt  , concr=1.64\n",
      "[13:09:13] 1637) title=wikipedia_1637_Lea_Ahlborn_text.txt     , concr=1.93\n",
      "[13:09:14] 1638) title=wikipedia_1638_Aurelia_coerulea_text.txt, concr=1.92\n",
      "[13:09:17] 1639) title=wikipedia_1639_The_Water_Margin_(film)_text.txt, concr=1.80\n",
      "[13:09:19] 1640) title=wikipedia_1640_Economy_of_Belo_Horizonte_text.txt, concr=1.77\n",
      "[13:09:20] 1641) title=wikipedia_1641_Paul_Peter_Porges_text.txt, concr=1.88\n",
      "[13:09:20] 1642) title=wikipedia_1642_Karl_Dickson_text.txt    , concr=1.90\n",
      "[13:09:22] 1643) title=wikipedia_1643_Appias_albina_text.txt   , concr=1.90\n",
      "[13:09:23] 1644) title=wikipedia_1644_VR5_engine_text.txt      , concr=2.15\n",
      "[13:09:24] 1645) title=wikipedia_1645_Melissa_Hamilton_text.txt, concr=1.86\n",
      "[13:09:26] 1646) title=wikipedia_1646_La_princesse_jaune_text.txt, concr=1.63\n",
      "[13:09:27] 1647) title=wikipedia_1647_Missa_brevis_in_B-flat_text.txt, concr=1.78\n",
      "[13:09:28] 1648) title=wikipedia_1648_Müritz_Airpark_text.txt  , concr=2.01\n",
      "[13:09:29] 1649) title=wikipedia_1649_Dasypus_bellus_text.txt  , concr=1.90\n",
      "[13:09:29] 1650) title=wikipedia_1650_Area_code_612_text.txt   , concr=1.93\n",
      "[13:09:31] 1651) title=wikipedia_1651_Joseph_Kagan,_Baron_Kagan_text.txt, concr=1.92\n",
      "[13:09:34] 1652) title=wikipedia_1652_Puran_Mal_text.txt       , concr=1.77\n",
      "[13:09:34] 1653) title=wikipedia_1653_Dârjiu_fortified_church_text.txt, concr=1.96\n",
      "[13:09:37] 1654) title=wikipedia_1654_Pedra_do_Sal_text.txt    , concr=1.80\n",
      "[13:09:37] 1655) title=wikipedia_1655_Gettin'_You_Home_(The_Black_Dress_Song)_text.txt, concr=1.89\n",
      "[13:09:38] 1656) title=wikipedia_1656_Cevdet_Dermenci_text.txt , concr=1.78\n",
      "[13:09:39] 1657) title=wikipedia_1657_First_Battle_of_Mesilla_text.txt, concr=1.95\n",
      "[13:09:40] 1658) title=wikipedia_1658_Insensitive_nuclei_enhanced_by_polarization_transfer_text.txt, concr=1.51\n",
      "[13:09:40] 1659) title=wikipedia_1659_Spencer,_Ohio_text.txt   , concr=1.82\n",
      "[13:09:40] 1660) title=wikipedia_1660_Prostitution_in_Senegal_text.txt, concr=1.92\n",
      "[13:09:41] 1661) title=wikipedia_1661_Protected_areas_of_Michigan_text.txt, concr=2.16\n",
      "[13:09:42] 1662) title=wikipedia_1662_Bondarzewia_berkeleyi_text.txt, concr=2.09\n",
      "[13:09:43] 1663) title=wikipedia_1663_Tachycardia-dependent_bundle_branch_block_text.txt, concr=1.76\n",
      "[13:09:45] 1664) title=wikipedia_1664_Janet_Beaton_text.txt    , concr=2.03\n",
      "[13:09:45] 1665) title=wikipedia_1665_Wynn_Underwood_text.txt  , concr=1.88\n",
      "[13:09:47] 1666) title=wikipedia_1666_Justin_Edwards_(actor)_text.txt, concr=2.00\n",
      "[13:09:47] 1667) title=wikipedia_1667_State_architect_text.txt , concr=1.68\n",
      "[13:09:48] 1668) title=wikipedia_1668_Anytime_algorithm_text.txt, concr=1.39\n",
      "[13:09:50] 1669) title=wikipedia_1669_Casto_Fonseca_text.txt   , concr=1.72\n",
      "[13:09:52] 1670) title=wikipedia_1670_Quest_Couch_text.txt     , concr=2.46\n",
      "[13:09:53] 1671) title=wikipedia_1671_William_A._Edelstein_text.txt, concr=1.85\n",
      "[13:09:54] 1672) title=wikipedia_1672_John_Connolly_(rugby_union_coach)_text.txt, concr=1.95\n",
      "[13:09:55] 1673) title=wikipedia_1673_Birchville,_California_text.txt, concr=2.05\n",
      "[13:09:55] 1674) title=wikipedia_1674_James_Fairman_text.txt   , concr=1.80\n",
      "[13:09:56] 1675) title=wikipedia_1675_St_George's_Church,_Esher_text.txt, concr=2.02\n",
      "[13:09:58] 1676) title=wikipedia_1676_Włodzimierz_Dzieduszycki_text.txt, concr=1.88\n",
      "[13:09:59] 1677) title=wikipedia_1677_Church_of_St_Mary,_Lowe_House_text.txt, concr=1.95\n",
      "[13:10:00] 1678) title=wikipedia_1678_Don_Bosco_Technical_Institute,_Victorias_text.txt, concr=1.83\n",
      "[13:10:02] 1679) title=wikipedia_1679_Earl_of_Ranfurly_text.txt, concr=1.90\n",
      "[13:10:03] 1680) title=wikipedia_1680_CSS_Georgia_(1862)_text.txt, concr=2.15\n",
      "[13:10:05] 1681) title=wikipedia_1681_Charles_Hiram_Burnett_Sr._text.txt, concr=2.30\n",
      "[13:10:08] 1682) title=wikipedia_1682_Historia_belli_sacri_text.txt, concr=1.65\n",
      "[13:10:08] 1683) title=wikipedia_1683_Holy_Family_High_School_(Colorado)_text.txt, concr=2.07\n",
      "[13:10:09] 1684) title=wikipedia_1684_Frederick_Bradlee_text.txt, concr=2.07\n",
      "[13:10:10] 1685) title=wikipedia_1685_St_Kilda_field_mouse_text.txt, concr=2.13\n",
      "[13:10:12] 1686) title=wikipedia_1686_A._V._Kunjambu_text.txt  , concr=1.73\n",
      "[13:10:13] 1687) title=wikipedia_1687_Aytoun_Hall_text.txt     , concr=1.94\n",
      "[13:10:14] 1688) title=wikipedia_1688_Lochmaddy_Sheriff_Court_text.txt, concr=2.07\n",
      "[13:10:19] 1689) title=wikipedia_1689_Argentine_University_Federation_text.txt, concr=1.94\n",
      "[13:10:21] 1690) title=wikipedia_1690_Isol_text.txt            , concr=1.98\n",
      "[13:10:22] 1691) title=wikipedia_1691_Chicksands_Priory_text.txt, concr=1.90\n",
      "[13:10:23] 1692) title=wikipedia_1692_Ariens_text.txt          , concr=2.02\n",
      "[13:10:25] 1693) title=wikipedia_1693_Kerry_Drake_text.txt     , concr=1.89\n",
      "[13:10:28] 1694) title=wikipedia_1694_Galo_People_text.txt     , concr=1.86\n",
      "[13:10:28] 1695) title=wikipedia_1695_Belshazzar's_Feast_(Martin)_text.txt, concr=1.86\n",
      "[13:10:29] 1696) title=wikipedia_1696_USS_PC-1129_text.txt     , concr=2.04\n",
      "[13:10:30] 1697) title=wikipedia_1697_Patternation_text.txt    , concr=1.88\n",
      "[13:10:31] 1698) title=wikipedia_1698_Up_Above_the_World_text.txt, concr=1.64\n",
      "[13:10:31] 1699) title=wikipedia_1699_Spatial_visualization_ability_text.txt, concr=1.58\n",
      "[13:10:31] 1700) title=wikipedia_1700_Sleep_Like_a_Tiger_text.txt, concr=1.88\n",
      "[13:10:34] 1701) title=wikipedia_1701_Camperdown_Football_Club_text.txt, concr=1.90\n",
      "[13:10:34] 1702) title=wikipedia_1702_Phi_Sigma_Delta_text.txt , concr=1.86\n",
      "[13:10:35] 1703) title=wikipedia_1703_Haiti_National_Trust_text.txt, concr=1.93\n",
      "[13:10:37] 1704) title=wikipedia_1704_Ulrich_II,_Lord_of_Hanau_text.txt, concr=1.71\n",
      "[13:10:37] 1705) title=wikipedia_1705_Tom_Cade_text.txt        , concr=1.82\n",
      "[13:10:38] 1706) title=wikipedia_1706_Cholecystokinin_antagonist_text.txt, concr=1.65\n",
      "[13:10:40] 1707) title=wikipedia_1707_Leith_Ratten_text.txt    , concr=1.80\n",
      "[13:10:41] 1708) title=wikipedia_1708_Bruce_Breslow_text.txt   , concr=1.95\n",
      "[13:10:42] 1709) title=wikipedia_1709_Baldwin_Class_10-12-D_text.txt, concr=1.99\n",
      "[13:10:44] 1710) title=wikipedia_1710_Seniorate_Province_text.txt, concr=1.73\n",
      "[13:10:45] 1711) title=wikipedia_1711_Gito_Baloi_text.txt      , concr=2.12\n",
      "[13:10:46] 1712) title=wikipedia_1712_USS_Fulton_(AS-1)_text.txt, concr=2.04\n",
      "[13:10:47] 1713) title=wikipedia_1713_Anxiotropic_text.txt     , concr=1.69\n",
      "[13:10:48] 1714) title=wikipedia_1714_Infanterie-Regiment_Bremen_(1._Hanseatisches)_Nr._75_text.txt, concr=1.92\n",
      "[13:10:50] 1715) title=wikipedia_1715_Teia_text.txt            , concr=1.79\n",
      "[13:10:51] 1716) title=wikipedia_1716_Convention_of_Calcutta_text.txt, concr=1.90\n",
      "[13:10:53] 1717) title=wikipedia_1717_Horizon_(camera)_text.txt, concr=1.80\n",
      "[13:10:54] 1718) title=wikipedia_1718_Aleksey_Naumov_(officer)_text.txt, concr=2.06\n",
      "[13:10:55] 1719) title=wikipedia_1719_Santa_Paula_Branch_Line_text.txt, concr=2.08\n",
      "[13:10:55] 1720) title=wikipedia_1720_Carol_Merrill_text.txt   , concr=1.78\n",
      "[13:10:57] 1721) title=wikipedia_1721_Cesáreo_Gabaráin_text.txt, concr=1.84\n",
      "[13:10:59] 1722) title=wikipedia_1722_Parmelia_ernstiae_text.txt, concr=1.91\n",
      "[13:11:00] 1723) title=wikipedia_1723_Martin_Codd_text.txt     , concr=1.90\n",
      "[13:11:01] 1724) title=wikipedia_1724_Laxma_Goud_text.txt      , concr=1.81\n",
      "[13:11:02] 1725) title=wikipedia_1725_Kamyenyets_Ghetto_text.txt, concr=1.94\n",
      "[13:11:03] 1726) title=wikipedia_1726_Durbar_Hall_Ground_text.txt, concr=1.92\n",
      "[13:11:03] 1727) title=wikipedia_1727_Danny_Coulson_text.txt   , concr=1.86\n",
      "[13:11:04] 1728) title=wikipedia_1728_US_Fleet_Tracking_text.txt, concr=2.01\n",
      "[13:11:05] 1729) title=wikipedia_1729_Washington_Park_(Indianapolis)_text.txt, concr=1.98\n",
      "[13:11:05] 1730) title=wikipedia_1730_Ferranti_Mercury_text.txt, concr=1.79\n"
     ]
    },
    {
     "name": "stdout",
     "output_type": "stream",
     "text": [
      "[13:11:07] 1731) title=wikipedia_1731_Aemilian_of_Cogolla_text.txt, concr=1.79\n",
      "[13:11:08] 1732) title=wikipedia_1732_Trevis_Simpson_text.txt  , concr=1.88\n",
      "[13:11:08] 1733) title=wikipedia_1733_Ring_Pop_text.txt        , concr=2.20\n",
      "[13:11:10] 1734) title=wikipedia_1734_Kokia_cookei_text.txt    , concr=1.80\n",
      "[13:11:11] 1735) title=wikipedia_1735_SG_Biofuels_text.txt     , concr=2.06\n",
      "[13:11:11] 1736) title=wikipedia_1736_Jackson_Sargent_text.txt , concr=2.00\n",
      "[13:11:13] 1737) title=wikipedia_1737_The_Hirschsprung_family_portrait_text.txt, concr=1.81\n",
      "[13:11:14] 1738) title=wikipedia_1738_Sierra_Estrella_text.txt , concr=2.06\n",
      "[13:11:15] 1739) title=wikipedia_1739_Sulawesi_stripe-faced_fruit_bat_text.txt, concr=2.03\n",
      "[13:11:17] 1740) title=wikipedia_1740_Mahlberg_text.txt        , concr=1.81\n",
      "[13:11:18] 1741) title=wikipedia_1741_DeWitt_Clinton_Littlejohn_text.txt, concr=1.80\n",
      "[13:11:19] 1742) title=wikipedia_1742_Clap-o-meter_text.txt    , concr=1.70\n",
      "[13:11:19] 1743) title=wikipedia_1743_HMS_Renown_(1798)_text.txt, concr=1.97\n",
      "[13:11:20] 1744) title=wikipedia_1744_Janice_Marturano_text.txt, concr=1.81\n",
      "[13:11:22] 1745) title=wikipedia_1745_Ruckinge_text.txt        , concr=2.03\n",
      "[13:11:24] 1746) title=wikipedia_1746_Designations_of_Russian_artillery_text.txt, concr=1.82\n",
      "[13:11:25] 1747) title=wikipedia_1747_KAWA_(FM)_text.txt       , concr=1.94\n",
      "[13:11:26] 1748) title=wikipedia_1748_Bruno_Ben_Moubamba_text.txt, concr=1.63\n",
      "[13:11:28] 1749) title=wikipedia_1749_Gary_Stadler_text.txt    , concr=1.92\n",
      "[13:11:29] 1750) title=wikipedia_1750_Ellerslie_Racecourse_text.txt, concr=2.01\n",
      "[13:11:29] 1751) title=wikipedia_1751_Institute_for_the_Study_of_International_Migration_text.txt, concr=1.63\n",
      "[13:11:32] 1752) title=wikipedia_1752_Janko_Jolović_text.txt   , concr=1.86\n",
      "[13:11:34] 1753) title=wikipedia_1753_BRM_V8_engine_text.txt   , concr=1.78\n",
      "[13:11:34] 1754) title=wikipedia_1754_Jan_C._Gabriel_text.txt  , concr=1.95\n",
      "[13:11:35] 1755) title=wikipedia_1755_Paul_Schenck_text.txt    , concr=1.82\n",
      "[13:11:36] 1756) title=wikipedia_1756_Lucius_Accius_text.txt   , concr=1.51\n",
      "[13:11:37] 1757) title=wikipedia_1757_Convair_X-6_text.txt     , concr=1.92\n",
      "[13:11:38] 1758) title=wikipedia_1758_Luc_Ferry_text.txt       , concr=1.66\n",
      "[13:11:39] 1759) title=wikipedia_1759_Chao_Ho-class_cruiser_text.txt, concr=1.86\n",
      "[13:11:40] 1760) title=wikipedia_1760_Mangrove_Creek_Dam_text.txt, concr=2.22\n",
      "[13:11:41] 1761) title=wikipedia_1761_Escondido_Public_Library_text.txt, concr=2.03\n",
      "[13:11:42] 1762) title=wikipedia_1762_Beer_in_Austria_text.txt , concr=2.04\n",
      "[13:11:44] 1763) title=wikipedia_1763_Peter_Cornelius_text.txt , concr=1.92\n",
      "[13:11:45] 1764) title=wikipedia_1764_Crested_bunting_text.txt , concr=2.08\n",
      "[13:11:46] 1765) title=wikipedia_1765_Yongdingmen_text.txt     , concr=1.72\n",
      "[13:11:47] 1766) title=wikipedia_1766_Shocking_Pinks_text.txt  , concr=2.08\n",
      "[13:11:47] 1767) title=wikipedia_1767_Jim_Brett_text.txt       , concr=1.93\n",
      "[13:11:48] 1768) title=wikipedia_1768_University_student_retention_text.txt, concr=1.62\n",
      "[13:11:49] 1769) title=wikipedia_1769_Thomas_Wriothesley_text.txt, concr=1.92\n",
      "[13:11:51] 1770) title=wikipedia_1770_Kol_HaTor_text.txt       , concr=1.69\n",
      "[13:11:52] 1771) title=wikipedia_1771_Karen_H._Johannesson_text.txt, concr=1.84\n",
      "[13:11:53] 1772) title=wikipedia_1772_Mystery_Trackers_text.txt, concr=1.86\n",
      "[13:11:53] 1773) title=wikipedia_1773_Faculty_of_Biotechnical_Sciences_text.txt, concr=1.67\n",
      "[13:11:54] 1774) title=wikipedia_1774_Fredo_(rapper)_text.txt  , concr=1.99\n",
      "[13:11:56] 1775) title=wikipedia_1775_French_Chaser_text.txt   , concr=1.92\n",
      "[13:11:56] 1776) title=wikipedia_1776_Martin_Wilson_(environmentalist)_text.txt, concr=2.04\n",
      "[13:11:58] 1777) title=wikipedia_1777_Linda_Mosca_text.txt     , concr=1.77\n",
      "[13:11:59] 1778) title=wikipedia_1778_African_brown_snapper_text.txt, concr=1.94\n",
      "[13:11:59] 1779) title=wikipedia_1779_New_Richland,_Minnesota_text.txt, concr=1.84\n",
      "[13:12:01] 1780) title=wikipedia_1780_Arthur_Nevin_text.txt    , concr=1.84\n",
      "[13:12:02] 1781) title=wikipedia_1781_Purple_Hearts_(British_band)_text.txt, concr=1.97\n",
      "[13:12:02] 1782) title=wikipedia_1782_Bank_of_England_£1_note_text.txt, concr=1.90\n",
      "[13:12:03] 1783) title=wikipedia_1783_James_Waddell_Alexander_II_text.txt, concr=1.78\n",
      "[13:12:05] 1784) title=wikipedia_1784_Jaunjelgava_text.txt     , concr=1.95\n",
      "[13:12:07] 1785) title=wikipedia_1785_Ashig_Alasgar_text.txt   , concr=1.76\n",
      "[13:12:08] 1786) title=wikipedia_1786_Nicholas_Caire_text.txt  , concr=1.89\n",
      "[13:12:10] 1787) title=wikipedia_1787_Telecommunications_in_Tuvalu_text.txt, concr=2.00\n",
      "[13:12:11] 1788) title=wikipedia_1788_Living_Ornaments_'81_text.txt, concr=1.87\n",
      "[13:12:12] 1789) title=wikipedia_1789_Parish_of_St._Gabriel_and_of_St._Joseph_(New_Rochelle,_New_York)_text.txt, concr=2.02\n",
      "[13:12:13] 1790) title=wikipedia_1790_Katherine_Campbell_(accused_witch)_text.txt, concr=1.82\n",
      "[13:12:15] 1791) title=wikipedia_1791_Efflamm_text.txt         , concr=1.86\n",
      "[13:12:17] 1792) title=wikipedia_1792_Iso_Lele_text.txt        , concr=1.97\n",
      "[13:12:19] 1793) title=wikipedia_1793_Netaji_Subhas_Road,_Kolkata_text.txt, concr=2.19\n",
      "[13:12:19] 1794) title=wikipedia_1794_Alexander_Philips_Wilson_Philip_text.txt, concr=1.84\n",
      "[13:12:20] 1795) title=wikipedia_1795_Katherine_Ellison_text.txt, concr=1.88\n",
      "[13:12:21] 1796) title=wikipedia_1796_Joseph_Awinongya_text.txt, concr=2.13\n",
      "[13:12:23] 1797) title=wikipedia_1797_Postage_stamps_and_postal_history_of_Crete_text.txt, concr=1.95\n",
      "[13:12:24] 1798) title=wikipedia_1798_George_Poynter_Heath_text.txt, concr=2.10\n",
      "[13:12:26] 1799) title=wikipedia_1799_St._Louis_Woman_text.txt , concr=1.71\n",
      "[13:12:27] 1800) title=wikipedia_1800_Christopher_Birdwood,_2nd_Baron_Birdwood_text.txt, concr=1.92\n",
      "[13:12:29] 1801) title=wikipedia_1801_St._Panteleimon_Monastery_text.txt, concr=1.86\n",
      "[13:12:30] 1802) title=wikipedia_1802_Adolf_Benda_text.txt     , concr=1.82\n",
      "[13:12:31] 1803) title=wikipedia_1803_Lisa_Klein_(writer)_text.txt, concr=1.84\n",
      "[13:12:31] 1804) title=wikipedia_1804_The_Holdup_text.txt      , concr=1.95\n",
      "[13:12:33] 1805) title=wikipedia_1805_Wallpaper_(magazine)_text.txt, concr=2.04\n",
      "[13:12:33] 1806) title=wikipedia_1806_Patrick_Chan_(judge)_text.txt, concr=1.64\n",
      "[13:12:35] 1807) title=wikipedia_1807_William_Arden,_2nd_Baron_Alvanley_text.txt, concr=1.82\n",
      "[13:12:36] 1808) title=wikipedia_1808_Ian_M._Thom_text.txt     , concr=1.79\n",
      "[13:12:37] 1809) title=wikipedia_1809_1913–14_Toronto_Hockey_Club_season_text.txt, concr=1.82\n",
      "[13:12:38] 1810) title=wikipedia_1810_Saint-Étienne–Andrézieux_railway_text.txt, concr=1.89\n",
      "[13:12:42] 1811) title=wikipedia_1811_Ramiro_Garcés,_Lord_of_Calahorra_text.txt, concr=1.79\n",
      "[13:12:43] 1812) title=wikipedia_1812_Scythosuchus_text.txt    , concr=1.72\n",
      "[13:12:44] 1813) title=wikipedia_1813_Thermomechanical_generator_text.txt, concr=1.83\n",
      "[13:12:44] 1814) title=wikipedia_1814_The_Falcon_in_Danger_text.txt, concr=1.98\n",
      "[13:12:46] 1815) title=wikipedia_1815_Shitennō-ji_text.txt     , concr=1.93\n",
      "[13:12:47] 1816) title=wikipedia_1816_Hooghalen_text.txt       , concr=1.95\n",
      "[13:12:49] 1817) title=wikipedia_1817_Juliana_Horatia_Ewing_text.txt, concr=1.91\n",
      "[13:12:49] 1818) title=wikipedia_1818_Samuel_Nott_text.txt     , concr=1.94\n",
      "[13:12:51] 1819) title=wikipedia_1819_Don_Giovanni_(1979_film)_text.txt, concr=1.96\n",
      "[13:12:51] 1820) title=wikipedia_1820_Odna_Zhizn_text.txt      , concr=1.71\n",
      "[13:12:52] 1821) title=wikipedia_1821_Men_Against_the_Sky_text.txt, concr=1.87\n",
      "[13:12:55] 1822) title=wikipedia_1822_Yu_Sŏngnyong_text.txt    , concr=1.90\n",
      "[13:12:56] 1823) title=wikipedia_1823_Exercise_Aakraman_text.txt, concr=1.78\n",
      "[13:12:57] 1824) title=wikipedia_1824_Al_Leach_text.txt        , concr=1.82\n",
      "[13:12:57] 1825) title=wikipedia_1825_Mary_Ellen_McCaffree_text.txt, concr=1.83\n",
      "[13:12:58] 1826) title=wikipedia_1826_Variax_text.txt          , concr=1.98\n",
      "[13:13:00] 1827) title=wikipedia_1827_Operation_Sunshine_text.txt, concr=1.95\n",
      "[13:13:00] 1828) title=wikipedia_1828_William_S._Burroughs_and_the_Cult_of_Rock_'n'_Roll_text.txt, concr=1.75\n",
      "[13:13:01] 1829) title=wikipedia_1829_Adidas_Superstar_text.txt, concr=1.93\n",
      "[13:13:01] 1830) title=wikipedia_1830_Jennifer_Government_text.txt, concr=1.83\n",
      "[13:13:02] 1831) title=wikipedia_1831_American_National_Insurance_Company_text.txt, concr=1.79\n"
     ]
    },
    {
     "name": "stdout",
     "output_type": "stream",
     "text": [
      "[13:13:02] 1832) title=wikipedia_1832_Ernest_Arthur_Gardner_text.txt, concr=1.90\n",
      "[13:13:04] 1833) title=wikipedia_1833_AHL_participation_at_the_Spengler_Cup_text.txt, concr=1.93\n",
      "[13:13:05] 1834) title=wikipedia_1834_South_African_Air_Force_Memorial_text.txt, concr=1.86\n",
      "[13:13:06] 1835) title=wikipedia_1835_Blanche_Wheeler_Williams_text.txt, concr=1.94\n",
      "[13:13:07] 1836) title=wikipedia_1836_Alfred_F._Kelly_Jr._text.txt, concr=1.91\n",
      "[13:13:07] 1837) title=wikipedia_1837_Collingwood_Monument_text.txt, concr=1.90\n",
      "[13:13:08] 1838) title=wikipedia_1838_Dix,_New_York_text.txt   , concr=1.95\n",
      "[13:13:09] 1839) title=wikipedia_1839_East_Moriches,_New_York_text.txt, concr=1.92\n",
      "[13:13:10] 1840) title=wikipedia_1840_Self-executing_rule_text.txt, concr=1.52\n",
      "[13:13:11] 1841) title=wikipedia_1841_Yukon_School_of_Visual_Arts_text.txt, concr=1.90\n",
      "[13:13:11] 1842) title=wikipedia_1842_The_Glass_Cell_(novel)_text.txt, concr=1.83\n",
      "[13:13:13] 1843) title=wikipedia_1843_Brahmagiri_archaeological_site_text.txt, concr=2.18\n",
      "[13:13:13] 1844) title=wikipedia_1844_Lyman_U._Humphrey_text.txt, concr=1.93\n",
      "[13:13:15] 1845) title=wikipedia_1845_Pallagrello_nero_text.txt, concr=1.80\n",
      "[13:13:17] 1846) title=wikipedia_1846_Smallbone_Deceased_text.txt, concr=1.73\n",
      "[13:13:18] 1847) title=wikipedia_1847_The_Life_of_Man_text.txt , concr=1.56\n",
      "[13:13:18] 1848) title=wikipedia_1848_Alvarado,_Minnesota_text.txt, concr=1.81\n",
      "[13:13:19] 1849) title=wikipedia_1849_Newbear_77-68_text.txt   , concr=1.74\n",
      "[13:13:20] 1850) title=wikipedia_1850_Guilt_Machine_text.txt   , concr=1.67\n",
      "[13:13:21] 1851) title=wikipedia_1851_Boots_and_Saddles_(film)_text.txt, concr=2.00\n",
      "[13:13:22] 1852) title=wikipedia_1852_Jon_Farriss_text.txt     , concr=1.85\n",
      "[13:13:24] 1853) title=wikipedia_1853_George_Spiro_Thanos_text.txt, concr=1.81\n",
      "[13:13:25] 1854) title=wikipedia_1854_Bruce_Frohnen_text.txt   , concr=1.56\n",
      "[13:13:26] 1855) title=wikipedia_1855_Twelve-dish_Christmas_Eve_supper_text.txt, concr=2.07\n",
      "[13:13:28] 1856) title=wikipedia_1856_Pinxton_text.txt         , concr=2.03\n",
      "[13:13:29] 1857) title=wikipedia_1857_Nicholas_J._Belkin_text.txt, concr=1.55\n",
      "[13:13:30] 1858) title=wikipedia_1858_Panagia,_Nicosia_text.txt, concr=1.93\n",
      "[13:13:31] 1859) title=wikipedia_1859_Mick_Waddy_text.txt      , concr=1.90\n",
      "[13:13:32] 1860) title=wikipedia_1860_Patrick_Byrne_(musician)_text.txt, concr=1.87\n",
      "[13:13:33] 1861) title=wikipedia_1861_Messalo_River_text.txt   , concr=2.33\n",
      "[13:13:35] 1862) title=wikipedia_1862_Lam_Thanh_Nguyen_text.txt, concr=1.73\n",
      "[13:13:36] 1863) title=wikipedia_1863_Gibson_Southern_Jumbo_text.txt, concr=1.79\n",
      "[13:13:37] 1864) title=wikipedia_1864_Godland_(comics)_text.txt, concr=1.64\n",
      "[13:13:38] 1865) title=wikipedia_1865_Nikolai_Ustryalov_text.txt, concr=1.60\n",
      "[13:13:39] 1866) title=wikipedia_1866_Sergey_Tumansky_text.txt , concr=1.90\n",
      "[13:13:40] 1867) title=wikipedia_1867_Demon_in_My_View_text.txt, concr=1.83\n",
      "[13:13:43] 1868) title=wikipedia_1868_Al_Centro_de_la_Ciudad_text.txt, concr=1.81\n",
      "[13:13:44] 1869) title=wikipedia_1869_Waldridge,_County_Durham_text.txt, concr=2.10\n",
      "[13:13:44] 1870) title=wikipedia_1870_Lola_(2024_film)_text.txt, concr=1.87\n",
      "[13:13:46] 1871) title=wikipedia_1871_Benoît_Sinzogan_text.txt , concr=1.70\n",
      "[13:13:46] 1872) title=wikipedia_1872_Carillon_Historical_Park_text.txt, concr=2.12\n",
      "[13:13:48] 1873) title=wikipedia_1873_Arcandor_text.txt        , concr=1.84\n",
      "[13:13:49] 1874) title=wikipedia_1874_Deep_Core_(film)_text.txt, concr=1.90\n",
      "[13:13:50] 1875) title=wikipedia_1875_Frank_William_Crilley_text.txt, concr=1.84\n",
      "[13:13:51] 1876) title=wikipedia_1876_Richard_Miles_(Tswana_catechist)_text.txt, concr=1.83\n",
      "[13:13:54] 1877) title=wikipedia_1877_Cuvântul_(magazine)_text.txt, concr=1.78\n",
      "[13:13:54] 1878) title=wikipedia_1878_Yola_Cain_text.txt       , concr=1.90\n",
      "[13:13:56] 1879) title=wikipedia_1879_Luigi_Manocchio_text.txt , concr=1.98\n",
      "[13:13:58] 1880) title=wikipedia_1880_Tajik_(word)_text.txt    , concr=1.68\n",
      "[13:13:59] 1881) title=wikipedia_1881_Empacher_text.txt        , concr=2.20\n",
      "[13:14:02] 1882) title=wikipedia_1882_Gladys_Rodríguez_text.txt, concr=1.88\n",
      "[13:14:02] 1883) title=wikipedia_1883_Etobicoke_Civic_Centre_text.txt, concr=2.06\n",
      "[13:14:03] 1884) title=wikipedia_1884_E-Da_Outlet_Mall_text.txt, concr=1.95\n",
      "[13:14:04] 1885) title=wikipedia_1885_T._E._Rofe_text.txt      , concr=1.89\n",
      "[13:14:05] 1886) title=wikipedia_1886_Kyrnychky_Cave_text.txt  , concr=1.86\n",
      "[13:14:06] 1887) title=wikipedia_1887_Shaun_Chapas_text.txt    , concr=1.91\n",
      "[13:14:08] 1888) title=wikipedia_1888_Velsicol_Chemical_Corporation_text.txt, concr=1.88\n",
      "[13:14:09] 1889) title=wikipedia_1889_Bradbourne_Hall_text.txt , concr=1.98\n",
      "[13:14:11] 1890) title=wikipedia_1890_Bulhar_text.txt          , concr=1.81\n",
      "[13:14:12] 1891) title=wikipedia_1891_River_Complex_2021_fires_text.txt, concr=2.15\n",
      "[13:14:12] 1892) title=wikipedia_1892_Daughter_of_Dawn_text.txt, concr=1.95\n",
      "[13:14:14] 1893) title=wikipedia_1893_Tomoko_Abe_text.txt      , concr=1.75\n",
      "[13:14:14] 1894) title=wikipedia_1894_West_Highland_Free_Press_text.txt, concr=1.80\n",
      "[13:14:15] 1895) title=wikipedia_1895_Eric_Hall_text.txt       , concr=2.00\n",
      "[13:14:16] 1896) title=wikipedia_1896_Edith_Farmiloe_text.txt  , concr=2.07\n",
      "[13:14:17] 1897) title=wikipedia_1897_Prague_Writers'_Festival_text.txt, concr=1.90\n",
      "[13:14:18] 1898) title=wikipedia_1898_Wangjing_SOHO_text.txt   , concr=1.83\n",
      "[13:14:20] 1899) title=wikipedia_1899_Noise_Fest_text.txt      , concr=2.16\n",
      "[13:14:21] 1900) title=wikipedia_1900_KCON_(AM)_text.txt       , concr=1.89\n",
      "[13:14:22] 1901) title=wikipedia_1901_Honda_ATC200_text.txt    , concr=1.83\n",
      "[13:14:22] 1902) title=wikipedia_1902_1936_United_States_men's_Olympic_basketball_team_text.txt, concr=1.91\n",
      "[13:14:23] 1903) title=wikipedia_1903_Hungarian_meadow_viper_text.txt, concr=1.90\n",
      "[13:14:24] 1904) title=wikipedia_1904_St._Augustine_Catholic_Church_(Culver_City,_California)_text.txt, concr=2.01\n",
      "[13:14:25] 1905) title=wikipedia_1905_Pick_Your_Brain_text.txt , concr=1.78\n",
      "[13:14:27] 1906) title=wikipedia_1906_Ihering's_antwren_text.txt, concr=1.94\n",
      "[13:14:29] 1907) title=wikipedia_1907_Via_Tiberina_text.txt    , concr=1.78\n",
      "[13:14:30] 1908) title=wikipedia_1908_Clarinet_Sonata_(Mendelssohn)_text.txt, concr=1.71\n",
      "[13:14:31] 1909) title=wikipedia_1909_Dinah_Elizabeth_Pearce_text.txt, concr=1.84\n",
      "[13:14:31] 1910) title=wikipedia_1910_Ruth_(sternwheeler_1895)_text.txt, concr=2.03\n",
      "[13:14:32] 1911) title=wikipedia_1911_IPad_Pro_(2nd_generation)_text.txt, concr=1.96\n",
      "[13:14:33] 1912) title=wikipedia_1912_Bandidas_text.txt        , concr=1.91\n",
      "[13:14:34] 1913) title=wikipedia_1913_Eastern_sand_darter_text.txt, concr=2.15\n",
      "[13:14:35] 1914) title=wikipedia_1914_Minto_Skating_Club_text.txt, concr=2.16\n",
      "[13:14:36] 1915) title=wikipedia_1915_Landolt_Astronomical_Observatory_text.txt, concr=1.89\n",
      "[13:14:36] 1916) title=wikipedia_1916_Brandon_Hogan_text.txt   , concr=1.95\n",
      "[13:14:37] 1917) title=wikipedia_1917_Cathy_O'Brien_(conspiracy_theorist)_text.txt, concr=1.67\n",
      "[13:14:39] 1918) title=wikipedia_1918_College_of_Referees_of_the_Center_text.txt, concr=1.76\n",
      "[13:14:40] 1919) title=wikipedia_1919_Kaisa_Miettinen_text.txt , concr=1.73\n",
      "[13:14:44] 1920) title=wikipedia_1920_Oyamakui_no_Kami_text.txt, concr=1.75\n",
      "[13:14:47] 1921) title=wikipedia_1921_Pema_Tönyö_Nyinje_text.txt, concr=1.87\n",
      "[13:14:47] 1922) title=wikipedia_1922_Harry_&_Son_text.txt     , concr=1.87\n",
      "[13:14:49] 1923) title=wikipedia_1923_Alfred_Scharf_text.txt   , concr=1.80\n",
      "[13:14:49] 1924) title=wikipedia_1924_United_States_Shoe_Corporation_text.txt, concr=2.07\n",
      "[13:14:50] 1925) title=wikipedia_1925_Bryan_G._Rudnick_text.txt, concr=1.73\n",
      "[13:14:51] 1926) title=wikipedia_1926_RDW_(organization)_text.txt, concr=1.81\n",
      "[13:14:52] 1927) title=wikipedia_1927_Michael_Gannon_(politician)_text.txt, concr=1.88\n",
      "[13:14:53] 1928) title=wikipedia_1928_Confusion_in_Canadian_trademark_law_text.txt, concr=1.59\n",
      "[13:14:53] 1929) title=wikipedia_1929_Ralph_Churches_text.txt  , concr=1.87\n",
      "[13:14:55] 1930) title=wikipedia_1930_Resistiré_(Dúo_Dinámico_song)_text.txt, concr=1.80\n",
      "[13:14:56] 1931) title=wikipedia_1931_Florida_State_Road_824_text.txt, concr=2.13\n",
      "[13:14:58] 1932) title=wikipedia_1932_Lizzie_Hopley_text.txt   , concr=2.11\n",
      "[13:14:59] 1933) title=wikipedia_1933_Siemens_SL45_text.txt    , concr=1.84\n"
     ]
    },
    {
     "name": "stdout",
     "output_type": "stream",
     "text": [
      "[13:15:00] 1934) title=wikipedia_1934_Alfred_Caldicott_text.txt, concr=1.91\n",
      "[13:15:00] 1935) title=wikipedia_1935_McKinley_Tennyson_text.txt, concr=1.89\n",
      "[13:15:01] 1936) title=wikipedia_1936_Jim_Boyd_(newscaster)_text.txt, concr=2.08\n",
      "[13:15:01] 1937) title=wikipedia_1937_Limbo_Rock_text.txt      , concr=1.85\n",
      "[13:15:02] 1938) title=wikipedia_1938_Letty_M._Wickliffe_text.txt, concr=1.92\n",
      "[13:15:03] 1939) title=wikipedia_1939_Cynthia_Lamptey_text.txt , concr=1.83\n",
      "[13:15:04] 1940) title=wikipedia_1940_Nyctophilus_arnhemensis_text.txt, concr=1.98\n",
      "[13:15:05] 1941) title=wikipedia_1941_Israel–Marshall_Islands_relations_text.txt, concr=1.96\n",
      "[13:15:09] 1942) title=wikipedia_1942_Shah_Jo_Risalo_text.txt  , concr=1.72\n",
      "[13:15:09] 1943) title=wikipedia_1943_Chandler_v._Miller_text.txt, concr=1.63\n",
      "[13:15:11] 1944) title=wikipedia_1944_WIBA-FM_text.txt         , concr=2.12\n",
      "[13:15:11] 1945) title=wikipedia_1945_Christian_Science_Quarterly_text.txt, concr=1.71\n",
      "[13:15:12] 1946) title=wikipedia_1946_Lorica_hamata_text.txt   , concr=1.89\n",
      "[13:15:13] 1947) title=wikipedia_1947_Nina_Bang_text.txt       , concr=1.75\n",
      "[13:15:14] 1948) title=wikipedia_1948_Margaret_Ridley_Charlton_text.txt, concr=1.81\n",
      "[13:15:15] 1949) title=wikipedia_1949_Pacific_Rolling_Mill_Company_text.txt, concr=1.86\n",
      "[13:15:17] 1950) title=wikipedia_1950_Elizabeth_Viana_text.txt , concr=1.81\n",
      "[13:15:19] 1951) title=wikipedia_1951_Hong_Kah_text.txt        , concr=2.11\n",
      "[13:15:19] 1952) title=wikipedia_1952_Induction_(teacher_training_stage)_text.txt, concr=1.69\n",
      "[13:15:20] 1953) title=wikipedia_1953_Multiparty_communication_complexity_text.txt, concr=1.37\n",
      "[13:15:23] 1954) title=wikipedia_1954_Gabol_text.txt           , concr=1.90\n",
      "[13:15:24] 1955) title=wikipedia_1955_Jose_Tomas_Sanchez_text.txt, concr=1.73\n",
      "[13:15:25] 1956) title=wikipedia_1956_Cinchona_Missions_text.txt, concr=2.03\n",
      "[13:15:26] 1957) title=wikipedia_1957_C&C_57_text.txt          , concr=2.25\n",
      "[13:15:28] 1958) title=wikipedia_1958_Bojan_Dimitrijević_(historian)_text.txt, concr=1.76\n",
      "[13:15:28] 1959) title=wikipedia_1959_Ylenia_Carrisi_text.txt  , concr=1.92\n",
      "[13:15:29] 1960) title=wikipedia_1960_Blocks_(C_language_extension)_text.txt, concr=1.68\n",
      "[13:15:30] 1961) title=wikipedia_1961_Charles_P._Bowers_text.txt, concr=2.00\n",
      "[13:15:31] 1962) title=wikipedia_1962_Vivian_Pickles_text.txt  , concr=1.98\n",
      "[13:15:31] 1963) title=wikipedia_1963_Stone_massage_text.txt   , concr=1.94\n",
      "[13:15:33] 1964) title=wikipedia_1964_Natasha_Marsh_text.txt   , concr=1.98\n",
      "[13:15:34] 1965) title=wikipedia_1965_Miki_Muster_text.txt     , concr=1.87\n",
      "[13:15:35] 1966) title=wikipedia_1966_Alexander_Miller_Harvey_text.txt, concr=1.91\n",
      "[13:15:36] 1967) title=wikipedia_1967_Wave_turbulence_text.txt , concr=1.59\n",
      "[13:15:37] 1968) title=wikipedia_1968_Institute_for_International_Law_of_Peace_and_Armed_Conflict_text.txt, concr=1.61\n",
      "[13:15:37] 1969) title=wikipedia_1969_The_Boat_Race_1845_text.txt, concr=2.02\n",
      "[13:15:40] 1970) title=wikipedia_1970_Pacanchique_text.txt     , concr=1.93\n",
      "[13:15:41] 1971) title=wikipedia_1971_Leonard_Hill_Films_text.txt, concr=1.99\n",
      "[13:15:42] 1972) title=wikipedia_1972_Danny_Gorrer_text.txt    , concr=1.97\n",
      "[13:15:43] 1973) title=wikipedia_1973_Karam_Singh_Veriah_text.txt, concr=1.90\n",
      "[13:15:44] 1974) title=wikipedia_1974_Action_of_April_3,_1836_text.txt, concr=2.03\n",
      "[13:15:46] 1975) title=wikipedia_1975_Booser_Doppelmaar_text.txt, concr=1.91\n",
      "[13:15:46] 1976) title=wikipedia_1976_Varietal_text.txt        , concr=1.80\n",
      "[13:15:47] 1977) title=wikipedia_1977_Swedish_as_a_foreign_language_text.txt, concr=1.59\n",
      "[13:15:48] 1978) title=wikipedia_1978_Joel_Kosche_text.txt     , concr=1.90\n",
      "[13:15:50] 1979) title=wikipedia_1979_Debye_function_text.txt  , concr=1.41\n",
      "[13:15:51] 1980) title=wikipedia_1980_Guido_Goldman_text.txt   , concr=1.79\n",
      "[13:15:52] 1981) title=wikipedia_1981_Demetrius_III_Aniketos_text.txt, concr=1.69\n",
      "[13:15:53] 1982) title=wikipedia_1982_Symphony_No._60_(Haydn)_text.txt, concr=1.63\n",
      "[13:15:53] 1983) title=wikipedia_1983_Soviet_Military_Encyclopedia_text.txt, concr=1.74\n",
      "[13:15:54] 1984) title=wikipedia_1984_The_Church_of_Jesus_Christ_of_Latter-day_Saints_in_the_Cook_Islands_text.txt, concr=2.00\n",
      "[13:15:56] 1985) title=wikipedia_1985_Ek_Thi_Begum_text.txt    , concr=1.84\n",
      "[13:15:57] 1986) title=wikipedia_1986_Thor_Steingraber_text.txt, concr=1.91\n",
      "[13:15:58] 1987) title=wikipedia_1987_Paerau_text.txt          , concr=1.94\n",
      "[13:16:01] 1988) title=wikipedia_1988_Bob_Holz_text.txt        , concr=2.26\n",
      "[13:16:01] 1989) title=wikipedia_1989_Harrington_Mansion_and_Events_Center_text.txt, concr=2.19\n",
      "[13:16:02] 1990) title=wikipedia_1990_Government_College_of_Science_text.txt, concr=1.86\n",
      "[13:16:04] 1991) title=wikipedia_1991_Turaga_Janaki_Rani_text.txt, concr=2.03\n",
      "[13:16:05] 1992) title=wikipedia_1992_Rix_Robinson_text.txt    , concr=1.92\n",
      "[13:16:06] 1993) title=wikipedia_1993_SCAR-Fc_text.txt         , concr=1.97\n",
      "[13:16:08] 1994) title=wikipedia_1994_Philip_Akoda_text.txt    , concr=1.85\n",
      "[13:16:08] 1995) title=wikipedia_1995_Adair_Blain_text.txt     , concr=1.89\n",
      "[13:16:10] 1996) title=wikipedia_1996_Margherita_Torretta_text.txt, concr=2.05\n",
      "[13:16:11] 1997) title=wikipedia_1997_Tethered_balloon_text.txt, concr=2.01\n",
      "[13:16:12] 1998) title=wikipedia_1998_Wadi_Hauran_text.txt     , concr=2.11\n",
      "[13:16:13] 1999) title=wikipedia_1999_Dick_Dickey_text.txt     , concr=1.88\n",
      "[13:16:14] 2000) title=wikipedia_2000_John_Stollmeyer_text.txt , concr=1.96\n",
      "[13:16:14] 2001) title=wikipedia_2001_Yarn_Market,_Dunster_text.txt, concr=1.93\n",
      "[13:16:15] 2002) title=wikipedia_2002_Concord_coach_text.txt   , concr=1.96\n",
      "[13:16:17] 2003) title=wikipedia_2003_Dūdas_text.txt           , concr=1.88\n",
      "[13:16:17] 2004) title=wikipedia_2004_New_Jersey_Route_58_text.txt, concr=2.18\n",
      "[13:16:18] 2005) title=wikipedia_2005_Hands_and_Knees_text.txt , concr=1.73\n",
      "[13:16:19] 2006) title=wikipedia_2006_Frederick_Andrews_Walpole_text.txt, concr=1.98\n",
      "[13:16:20] 2007) title=wikipedia_2007_Jewish_cemetery,_Chernivtsi_text.txt, concr=1.90\n",
      "[13:16:21] 2008) title=wikipedia_2008_Nikolay_Tatischev_text.txt, concr=1.79\n",
      "[13:16:22] 2009) title=wikipedia_2009_Nyquist_rate_text.txt    , concr=1.46\n",
      "[13:16:23] 2010) title=wikipedia_2010_Inverse_demand_function_text.txt, concr=1.31\n",
      "[13:16:23] 2011) title=wikipedia_2011_Holton,_Indiana_text.txt , concr=1.84\n",
      "[13:16:25] 2012) title=wikipedia_2012_Common_Front_of_Ethiopian_Marxist–Leninist_Organizations_text.txt, concr=1.69\n",
      "[13:16:26] 2013) title=wikipedia_2013_Postgraduate_Medical_Education_and_Training_Board_text.txt, concr=1.64\n",
      "[13:16:27] 2014) title=wikipedia_2014_InspecVision_text.txt    , concr=1.85\n",
      "[13:16:29] 2015) title=wikipedia_2015_Latgale_neighbourhood_text.txt, concr=1.97\n",
      "[13:16:31] 2016) title=wikipedia_2016_HMS_Epervier_(1803)_text.txt, concr=2.02\n",
      "[13:16:34] 2017) title=wikipedia_2017_Chup_Chup_Ke_text.txt    , concr=1.90\n",
      "[13:16:34] 2018) title=wikipedia_2018_James_Dixon_(conductor)_text.txt, concr=1.91\n",
      "[13:16:36] 2019) title=wikipedia_2019_House_on_Fire_(film)_text.txt, concr=1.89\n",
      "[13:16:37] 2020) title=wikipedia_2020_Edgar_Hubert_text.txt    , concr=1.74\n",
      "[13:16:39] 2021) title=wikipedia_2021_Stanley_Senanayake_text.txt, concr=1.74\n",
      "[13:16:40] 2022) title=wikipedia_2022_Richard_Bangs_text.txt   , concr=2.08\n",
      "[13:16:41] 2023) title=wikipedia_2023_Bart_de_Ligt_text.txt    , concr=1.60\n",
      "[13:16:41] 2024) title=wikipedia_2024_Chamber_of_Local_Authorities_text.txt, concr=1.55\n",
      "[13:16:44] 2025) title=wikipedia_2025_Gao_Changgong_text.txt   , concr=1.89\n",
      "[13:16:45] 2026) title=wikipedia_2026_RAF_Wainfleet_text.txt   , concr=2.04\n",
      "[13:16:46] 2027) title=wikipedia_2027_Port_Jew_text.txt        , concr=1.74\n",
      "[13:16:47] 2028) title=wikipedia_2028_Knights_Must_Fall_text.txt, concr=2.03\n",
      "[13:16:50] 2029) title=wikipedia_2029_Jocatoa_text.txt         , concr=1.94\n",
      "[13:16:51] 2030) title=wikipedia_2030_Miami_University_Marching_Band_text.txt, concr=2.11\n",
      "[13:16:52] 2031) title=wikipedia_2031_The_Cyclone_(1996_film)_text.txt, concr=1.90\n",
      "[13:16:53] 2032) title=wikipedia_2032_Wilhelm_Marschall_text.txt, concr=1.91\n",
      "[13:16:55] 2033) title=wikipedia_2033_Translinear_Light_text.txt, concr=1.69\n",
      "[13:16:56] 2034) title=wikipedia_2034_Maryland_Route_384_text.txt, concr=2.30\n",
      "[13:16:57] 2035) title=wikipedia_2035_Ferdinand_von_Harrach_text.txt, concr=1.84\n"
     ]
    },
    {
     "name": "stdout",
     "output_type": "stream",
     "text": [
      "[13:16:58] 2036) title=wikipedia_2036_Killer_Kowalski_Memorial_Show_text.txt, concr=1.96\n",
      "[13:16:59] 2037) title=wikipedia_2037_99th_Ohio_Infantry_Regiment_text.txt, concr=2.46\n",
      "[13:17:00] 2038) title=wikipedia_2038_Action_of_19_January_1799_text.txt, concr=1.99\n",
      "[13:17:01] 2039) title=wikipedia_2039_Slavs!_text.txt          , concr=1.76\n",
      "[13:17:02] 2040) title=wikipedia_2040_Autryville,_North_Carolina_text.txt, concr=1.98\n",
      "[13:17:03] 2041) title=wikipedia_2041_Adiyum_Andamum_text.txt  , concr=1.63\n",
      "[13:17:06] 2042) title=wikipedia_2042_Insan_text.txt           , concr=1.73\n",
      "[13:17:06] 2043) title=wikipedia_2043_Fort_Miller,_California_text.txt, concr=2.04\n",
      "[13:17:07] 2044) title=wikipedia_2044_No_Boats_on_Bannermere_text.txt, concr=2.05\n",
      "[13:17:09] 2045) title=wikipedia_2045_LPU_Wirus_4_text.txt     , concr=2.01\n",
      "[13:17:09] 2046) title=wikipedia_2046_NH_RSA_Title_I_text.txt  , concr=1.83\n",
      "[13:17:11] 2047) title=wikipedia_2047_Sariel_text.txt          , concr=1.80\n",
      "[13:17:12] 2048) title=wikipedia_2048_James_Rupert_Lawson_text.txt, concr=1.76\n",
      "[13:17:13] 2049) title=wikipedia_2049_Vyšná_Jablonka_text.txt  , concr=1.89\n",
      "[13:17:14] 2050) title=wikipedia_2050_Sidney_Franklin_(bullfighter)_text.txt, concr=1.86\n",
      "[13:17:15] 2051) title=wikipedia_2051_David_Gleeson_text.txt   , concr=2.00\n",
      "[13:17:16] 2052) title=wikipedia_2052_Lydia_Goehr_text.txt     , concr=1.75\n",
      "[13:17:17] 2053) title=wikipedia_2053_A_Princess_of_Kensington_text.txt, concr=1.87\n",
      "[13:17:18] 2054) title=wikipedia_2054_List_of_birds_of_Palmyra_Atoll_text.txt, concr=2.12\n",
      "[13:17:19] 2055) title=wikipedia_2055_Li_Mei-shu_text.txt      , concr=1.89\n",
      "[13:17:20] 2056) title=wikipedia_2056_LM_&_Others_v_Government_of_Namibia_text.txt, concr=1.62\n",
      "[13:17:21] 2057) title=wikipedia_2057_Judith_Meuli_text.txt    , concr=1.86\n",
      "[13:17:21] 2058) title=wikipedia_2058_Square_milk_jug_text.txt , concr=2.08\n",
      "[13:17:22] 2059) title=wikipedia_2059_Strawtown,_Indiana_text.txt, concr=2.05\n",
      "[13:17:23] 2060) title=wikipedia_2060_Retransmission_consent_text.txt, concr=1.84\n",
      "[13:17:23] 2061) title=wikipedia_2061_Horace_Davis_text.txt    , concr=1.87\n",
      "[13:17:24] 2062) title=wikipedia_2062_Overloon_text.txt        , concr=1.86\n",
      "[13:17:25] 2063) title=wikipedia_2063_Lubomir_Guedjev_text.txt , concr=1.89\n",
      "[13:17:26] 2064) title=wikipedia_2064_Mel_Vojvodich_text.txt   , concr=1.94\n",
      "[13:17:27] 2065) title=wikipedia_2065_The_Endless_Thirst_text.txt, concr=1.76\n",
      "[13:17:28] 2066) title=wikipedia_2066_Smith_&_Wesson_Centennial_text.txt, concr=1.92\n",
      "[13:17:28] 2067) title=wikipedia_2067_Chris_Collins_(Canadian_politician)_text.txt, concr=1.72\n",
      "[13:17:29] 2068) title=wikipedia_2068_Richard_Watson_(bishop_of_Llandaff)_text.txt, concr=1.68\n",
      "[13:17:30] 2069) title=wikipedia_2069_Sarah_Elizabeth_Ray_text.txt, concr=1.79\n",
      "[13:17:31] 2070) title=wikipedia_2070_Kaštel_Stari_text.txt    , concr=2.05\n",
      "[13:17:32] 2071) title=wikipedia_2071_Don_Satijn_text.txt      , concr=1.62\n",
      "[13:17:33] 2072) title=wikipedia_2072_Kate_Bohner_text.txt     , concr=1.99\n",
      "[13:17:34] 2073) title=wikipedia_2073_Strategic_frivolity_text.txt, concr=1.52\n",
      "[13:17:35] 2074) title=wikipedia_2074_Quick_Pitch_(TV_series)_text.txt, concr=1.85\n",
      "[13:17:37] 2075) title=wikipedia_2075_Jerzy_Iwanow-Szajnowicz_text.txt, concr=1.89\n",
      "[13:17:37] 2076) title=wikipedia_2076_May_Cohen_text.txt       , concr=1.88\n",
      "[13:17:39] 2077) title=wikipedia_2077_Sincholagua_Volcano_text.txt, concr=1.89\n",
      "[13:17:39] 2078) title=wikipedia_2078_James_Bowler_(politician)_text.txt, concr=1.96\n",
      "[13:17:41] 2079) title=wikipedia_2079_Chrysoblephus_puniceus_text.txt, concr=1.92\n",
      "[13:17:42] 2080) title=wikipedia_2080_Lutheran_Church_in_Ireland_text.txt, concr=1.98\n",
      "[13:17:42] 2081) title=wikipedia_2081_Mike_Ballard_text.txt    , concr=1.90\n",
      "[13:17:43] 2082) title=wikipedia_2082_Virginia_Water_(lake)_text.txt, concr=2.06\n",
      "[13:17:44] 2083) title=wikipedia_2083_Kenya_Coast_Guard_Service_text.txt, concr=1.96\n",
      "[13:17:44] 2084) title=wikipedia_2084_Malice_in_Wonderland:_The_Dolls_Movie_text.txt, concr=1.96\n",
      "[13:17:46] 2085) title=wikipedia_2085_Ofo_language_text.txt    , concr=1.58\n",
      "[13:17:46] 2086) title=wikipedia_2086_Max_Launch_Abort_System_text.txt, concr=1.79\n",
      "[13:17:48] 2087) title=wikipedia_2087_Chris_Whalley_text.txt   , concr=2.01\n",
      "[13:17:48] 2088) title=wikipedia_2088_Parson_Nicholson_text.txt, concr=1.95\n",
      "[13:17:49] 2089) title=wikipedia_2089_Mykhailo_Volobuiev_text.txt, concr=1.65\n",
      "[13:17:51] 2090) title=wikipedia_2090_Si_Me_Llevas_Contigo_text.txt, concr=1.77\n",
      "[13:17:52] 2091) title=wikipedia_2091_Seagulls_Screaming_Kiss_Her_Kiss_Her_text.txt, concr=1.87\n",
      "[13:17:53] 2092) title=wikipedia_2092_The_Samling_Hotel_text.txt, concr=1.93\n",
      "[13:17:54] 2093) title=wikipedia_2093_Roberto_Tremelloni_text.txt, concr=1.74\n",
      "[13:17:55] 2094) title=wikipedia_2094_Ellen_Tarry_text.txt     , concr=1.95\n",
      "[13:17:56] 2095) title=wikipedia_2095_Viktor_Burduk_text.txt   , concr=2.11\n",
      "[13:17:57] 2096) title=wikipedia_2096_Ministry_of_Finance_(Dominican_Republic)_text.txt, concr=1.62\n",
      "[13:17:59] 2097) title=wikipedia_2097_LSWR_P14_class_text.txt  , concr=1.81\n",
      "[13:18:00] 2098) title=wikipedia_2098_Tilney_St_Lawrence_text.txt, concr=1.90\n",
      "[13:18:01] 2099) title=wikipedia_2099_1986_New_Zealand_National_Party_leadership_election_text.txt, concr=1.68\n",
      "[13:18:03] 2100) title=wikipedia_2100_Hans_von_Lehwaldt_text.txt, concr=1.86\n",
      "[13:18:04] 2101) title=wikipedia_2101_Guitar_and_Lute_Workshop_text.txt, concr=2.04\n",
      "[13:18:05] 2102) title=wikipedia_2102_Historia_de_San_Martín_y_de_la_emancipación_sudamericana_text.txt, concr=1.65\n",
      "[13:18:06] 2103) title=wikipedia_2103_Stuck_in_Neutral_text.txt, concr=1.72\n",
      "[13:18:08] 2104) title=wikipedia_2104_Marija_Lastauskienė_text.txt, concr=1.89\n",
      "[13:18:09] 2105) title=wikipedia_2105_Smoke_or_Fire_text.txt   , concr=2.02\n",
      "[13:18:10] 2106) title=wikipedia_2106_Zeinixx_text.txt         , concr=1.88\n",
      "[13:18:11] 2107) title=wikipedia_2107_Phil_Sawford_text.txt    , concr=1.78\n",
      "[13:18:13] 2108) title=wikipedia_2108_Vipera_graeca_text.txt   , concr=1.96\n",
      "[13:18:13] 2109) title=wikipedia_2109_Rico_Murray_text.txt     , concr=1.95\n",
      "[13:18:14] 2110) title=wikipedia_2110_Nes_Church_(Ringsaker)_text.txt, concr=2.03\n",
      "[13:18:15] 2111) title=wikipedia_2111_Royal_Marines_Volunteer_Cadet_Corps_text.txt, concr=2.03\n",
      "[13:18:16] 2112) title=wikipedia_2112_Anglo-Muhammadan_law_text.txt, concr=1.56\n",
      "[13:18:21] 2113) title=wikipedia_2113_Lubawa_dialect_text.txt  , concr=1.71\n",
      "[13:18:21] 2114) title=wikipedia_2114_No_Pineapple_Left_Behind_text.txt, concr=1.75\n",
      "[13:18:23] 2115) title=wikipedia_2115_NakNak_text.txt          , concr=1.82\n",
      "[13:18:24] 2116) title=wikipedia_2116_Stoughton_Grange_text.txt, concr=2.03\n",
      "[13:18:27] 2117) title=wikipedia_2117_Zalzalaa_En'buri_Aun_text.txt, concr=1.84\n",
      "[13:18:28] 2118) title=wikipedia_2118_London_Swinton_Circle_text.txt, concr=1.78\n",
      "[13:18:29] 2119) title=wikipedia_2119_Martin_Lisius_text.txt   , concr=2.13\n",
      "[13:18:30] 2120) title=wikipedia_2120_HMCS_Cape_Scott_text.txt , concr=2.14\n",
      "[13:18:30] 2121) title=wikipedia_2121_Hong_Son-ok_text.txt     , concr=1.81\n",
      "[13:18:31] 2122) title=wikipedia_2122_Big_Creek_(Perry,_Kentucky)_text.txt, concr=2.19\n",
      "[13:18:32] 2123) title=wikipedia_2123_High_Court_of_Arbitration_of_Russia_text.txt, concr=1.56\n",
      "[13:18:32] 2124) title=wikipedia_2124_Deeper_into_Dream_text.txt, concr=1.63\n",
      "[13:18:34] 2125) title=wikipedia_2125_Finnish_national_road_3_text.txt, concr=2.11\n",
      "[13:18:35] 2126) title=wikipedia_2126_Leonty_Gurtyev_text.txt  , concr=1.90\n",
      "[13:18:36] 2127) title=wikipedia_2127_Courage_Mountain_text.txt, concr=1.84\n",
      "[13:18:38] 2128) title=wikipedia_2128_Liane_Collot_d'Herbois_text.txt, concr=1.93\n",
      "[13:18:39] 2129) title=wikipedia_2129_Graham_Lancashire_text.txt, concr=1.90\n",
      "[13:18:39] 2130) title=wikipedia_2130_Abortion_Rights_(organisation)_text.txt, concr=1.75\n",
      "[13:18:40] 2131) title=wikipedia_2131_Akira_Toyoshima_text.txt , concr=2.06\n",
      "[13:18:42] 2132) title=wikipedia_2132_Harold_Frederick_Comber_text.txt, concr=2.02\n",
      "[13:18:43] 2133) title=wikipedia_2133_Marella_Discovery_text.txt, concr=2.10\n",
      "[13:18:44] 2134) title=wikipedia_2134_Colotis_phisadia_text.txt, concr=1.94\n",
      "[13:18:44] 2135) title=wikipedia_2135_Holistic_community_text.txt, concr=1.41\n",
      "[13:18:45] 2136) title=wikipedia_2136_Gauss–Legendre_method_text.txt, concr=1.41\n"
     ]
    },
    {
     "name": "stdout",
     "output_type": "stream",
     "text": [
      "[13:18:46] 2137) title=wikipedia_2137_Woggle-Bug_text.txt      , concr=1.72\n",
      "[13:18:47] 2138) title=wikipedia_2138_Hines_Johnson_text.txt   , concr=1.86\n",
      "[13:18:48] 2139) title=wikipedia_2139_Tullytrasna_text.txt     , concr=2.02\n",
      "[13:18:50] 2140) title=wikipedia_2140_Gerard_Cafesjian_text.txt, concr=1.88\n",
      "[13:18:51] 2141) title=wikipedia_2141_Gurney_Bay_text.txt      , concr=2.08\n",
      "[13:18:52] 2142) title=wikipedia_2142_Koriukivka_massacre_text.txt, concr=1.96\n",
      "[13:18:53] 2143) title=wikipedia_2143_Richard_Cory_text.txt    , concr=1.85\n",
      "[13:18:53] 2144) title=wikipedia_2144_Screw_pump_text.txt      , concr=1.91\n",
      "[13:18:54] 2145) title=wikipedia_2145_Stuck_with_Me_(Tamia_song)_text.txt, concr=1.81\n",
      "[13:18:54] 2146) title=wikipedia_2146_Braintree_Airport_text.txt, concr=1.88\n",
      "[13:18:55] 2147) title=wikipedia_2147_Linda_Esther_Gray_text.txt, concr=1.81\n",
      "[13:18:56] 2148) title=wikipedia_2148_European_green_lizard_text.txt, concr=2.04\n",
      "[13:18:57] 2149) title=wikipedia_2149_Valsörarna_text.txt      , concr=1.86\n",
      "[13:18:58] 2150) title=wikipedia_2150_Dublin's_Last_Supper_text.txt, concr=1.95\n",
      "[13:19:00] 2151) title=wikipedia_2151_Trigarium_text.txt       , concr=1.92\n",
      "[13:19:03] 2152) title=wikipedia_2152_Battle_of_Pasong_Tamo_text.txt, concr=1.82\n",
      "[13:19:03] 2153) title=wikipedia_2153_Granville,_Tennessee_text.txt, concr=2.14\n",
      "[13:19:05] 2154) title=wikipedia_2154_Adán_Sánchez_text.txt    , concr=1.92\n",
      "[13:19:05] 2155) title=wikipedia_2155_Avilla_R-13_School_District_text.txt, concr=2.03\n",
      "[13:19:07] 2156) title=wikipedia_2156_Lois_Jovanovic_text.txt  , concr=1.97\n",
      "[13:19:07] 2157) title=wikipedia_2157_Earlimart_pesticide_poisoning_text.txt, concr=1.81\n",
      "[13:19:09] 2158) title=wikipedia_2158_Muro_Lucano_text.txt     , concr=1.87\n",
      "[13:19:09] 2159) title=wikipedia_2159_Campfire_Tales_(1991_film)_text.txt, concr=1.84\n",
      "[13:19:10] 2160) title=wikipedia_2160_Renold_Elstracke_text.txt, concr=1.87\n",
      "[13:19:11] 2161) title=wikipedia_2161_Big_Cave_text.txt        , concr=2.02\n",
      "[13:19:12] 2162) title=wikipedia_2162_USS_Kenton_text.txt      , concr=2.23\n",
      "[13:19:12] 2163) title=wikipedia_2163_William_Henry_Drayton_text.txt, concr=1.93\n",
      "[13:19:13] 2164) title=wikipedia_2164_Primary_One_Admission_System_text.txt, concr=1.76\n",
      "[13:19:14] 2165) title=wikipedia_2165_Amplidyne_text.txt       , concr=1.83\n",
      "[13:19:15] 2166) title=wikipedia_2166_Mark_Naftalin_text.txt   , concr=2.09\n",
      "[13:19:16] 2167) title=wikipedia_2167_David_Endicott_Putnam_text.txt, concr=1.84\n",
      "[13:19:17] 2168) title=wikipedia_2168_Al_Faris_text.txt        , concr=1.71\n",
      "[13:19:18] 2169) title=wikipedia_2169_Opera_Southwest_text.txt , concr=1.82\n",
      "[13:19:21] 2170) title=wikipedia_2170_Aravind_K.P._text.txt    , concr=2.04\n",
      "[13:19:21] 2171) title=wikipedia_2171_Squatting_in_Zimbabwe_text.txt, concr=1.89\n",
      "[13:19:23] 2172) title=wikipedia_2172_Earl_Brewster_text.txt   , concr=1.88\n",
      "[13:19:24] 2173) title=wikipedia_2173_Christina_C._C._Willis_text.txt, concr=1.90\n",
      "[13:19:25] 2174) title=wikipedia_2174_A_Long_Short_War_text.txt, concr=1.66\n",
      "[13:19:27] 2175) title=wikipedia_2175_Neunzehnerrufen_text.txt , concr=1.69\n",
      "[13:19:29] 2176) title=wikipedia_2176_Beyhan_Sultan_(daughter_of_Mustafa_III)_text.txt, concr=1.90\n",
      "[13:19:30] 2177) title=wikipedia_2177_Kazuko_Miyamoto_text.txt , concr=1.81\n",
      "[13:19:31] 2178) title=wikipedia_2178_Dean_&_Son_text.txt      , concr=1.96\n",
      "[13:19:33] 2179) title=wikipedia_2179_Francisco_Mayorga_text.txt, concr=1.74\n",
      "[13:19:34] 2180) title=wikipedia_2180_The_Farmer's_Daughter_(1947_film)_text.txt, concr=1.92\n",
      "[13:19:35] 2181) title=wikipedia_2181_John_Rety_text.txt       , concr=1.89\n",
      "[13:19:36] 2182) title=wikipedia_2182_Robert_C._Springer_text.txt, concr=2.09\n",
      "[13:19:38] 2183) title=wikipedia_2183_Anti-Oromo_sentiment_text.txt, concr=1.78\n",
      "[13:19:39] 2184) title=wikipedia_2184_Antisemitism_in_Chile_text.txt, concr=1.72\n",
      "[13:19:40] 2185) title=wikipedia_2185_36th_Massachusetts_Infantry_Regiment_text.txt, concr=2.36\n",
      "[13:19:41] 2186) title=wikipedia_2186_Tell_en-Nasbeh_text.txt  , concr=1.85\n",
      "[13:19:42] 2187) title=wikipedia_2187_Blumeriella_kerriae_text.txt, concr=1.94\n",
      "[13:19:44] 2188) title=wikipedia_2188_MIPEP_text.txt           , concr=1.86\n",
      "[13:19:44] 2189) title=wikipedia_2189_Worthington,_Indiana_text.txt, concr=1.85\n",
      "[13:19:45] 2190) title=wikipedia_2190_Youth_of_Magdalensberg_text.txt, concr=1.76\n",
      "[13:19:47] 2191) title=wikipedia_2191_Margarethe_Selenka_text.txt, concr=1.81\n",
      "[13:19:50] 2192) title=wikipedia_2192_Sumayar_text.txt         , concr=2.07\n",
      "[13:19:50] 2193) title=wikipedia_2193_Stan_Cliburn_text.txt    , concr=1.89\n",
      "[13:19:51] 2194) title=wikipedia_2194_Nintendo:_White_Knuckle_Scorin'_text.txt, concr=1.86\n",
      "[13:19:52] 2195) title=wikipedia_2195_George_Lewis_Gillespie_Jr._text.txt, concr=1.90\n",
      "[13:19:54] 2196) title=wikipedia_2196_Opémisca_Lake_text.txt   , concr=2.11\n",
      "[13:19:55] 2197) title=wikipedia_2197_Mayville_High_School,_Southsea_text.txt, concr=1.99\n",
      "[13:19:56] 2198) title=wikipedia_2198_United_States_Army_Berlin_text.txt, concr=2.20\n",
      "[13:19:57] 2199) title=wikipedia_2199_Battle_of_Cibalae_text.txt, concr=1.84\n",
      "[13:19:59] 2200) title=wikipedia_2200_I_Can_Lick_30_Tigers_Today!_and_Other_Stories_text.txt, concr=1.91\n",
      "[13:19:59] 2201) title=wikipedia_2201_Electrical_tape_text.txt , concr=1.96\n",
      "[13:20:00] 2202) title=wikipedia_2202_Jung-Mo_Lee_text.txt     , concr=1.80\n",
      "[13:20:02] 2203) title=wikipedia_2203_Eduardo_Agramonte_Piña_text.txt, concr=1.86\n",
      "[13:20:03] 2204) title=wikipedia_2204_Archer,_Iowa_text.txt    , concr=1.87\n",
      "[13:20:05] 2205) title=wikipedia_2205_Katholm_Castle_text.txt  , concr=1.94\n",
      "[13:20:06] 2206) title=wikipedia_2206_Prevost's_squirrel_text.txt, concr=2.03\n",
      "[13:20:07] 2207) title=wikipedia_2207_Analog_sequencer_text.txt, concr=1.83\n",
      "[13:20:08] 2208) title=wikipedia_2208_Apamea_crenata_text.txt  , concr=2.05\n",
      "[13:20:10] 2209) title=wikipedia_2209_Mikhail_Semyonovich_Shoyfet_text.txt, concr=1.91\n",
      "[13:20:12] 2210) title=wikipedia_2210_Lamata_text.txt          , concr=1.79\n",
      "[13:20:14] 2211) title=wikipedia_2211_Azaila_text.txt          , concr=1.74\n",
      "[13:20:15] 2212) title=wikipedia_2212_Bronson_Forest_Recreation_Site_text.txt, concr=2.46\n",
      "[13:20:17] 2213) title=wikipedia_2213_Pockau-Lengefeld_station_text.txt, concr=1.94\n",
      "[13:20:18] 2214) title=wikipedia_2214_Holy_Cross_of_Davao_College_text.txt, concr=1.94\n",
      "[13:20:20] 2215) title=wikipedia_2215_Dalverzin_Tepe_text.txt  , concr=1.90\n",
      "[13:20:23] 2216) title=wikipedia_2216_Mozang_Epang_text.txt    , concr=1.88\n",
      "[13:20:24] 2217) title=wikipedia_2217_Ellis_Sandoz_text.txt    , concr=1.80\n",
      "[13:20:27] 2218) title=wikipedia_2218_José_María_Calderón_text.txt, concr=1.69\n",
      "[13:20:28] 2219) title=wikipedia_2219_Joseph_Brandreth_text.txt, concr=1.92\n",
      "[13:20:29] 2220) title=wikipedia_2220_Gray_Matter_(short_story)_text.txt, concr=1.86\n",
      "[13:20:30] 2221) title=wikipedia_2221_Louis_B._Garippo_text.txt, concr=1.84\n",
      "[13:20:30] 2222) title=wikipedia_2222_Mount_York_text.txt      , concr=2.04\n",
      "[13:20:32] 2223) title=wikipedia_2223_Schloss_Klessheim_text.txt, concr=1.97\n",
      "[13:20:33] 2224) title=wikipedia_2224_Leon_Blue_text.txt       , concr=1.97\n",
      "[13:20:33] 2225) title=wikipedia_2225_The_Gun_(film)_text.txt  , concr=1.98\n",
      "[13:20:34] 2226) title=wikipedia_2226_Space_Chimps_2:_Zartog_Strikes_Back_text.txt, concr=2.02\n",
      "[13:20:35] 2227) title=wikipedia_2227_British_Bull_Dog_revolver_text.txt, concr=2.05\n",
      "[13:20:36] 2228) title=wikipedia_2228_LIBstick_text.txt        , concr=1.81\n",
      "[13:20:37] 2229) title=wikipedia_2229_Green_Bridge_(England)_text.txt, concr=2.11\n",
      "[13:20:39] 2230) title=wikipedia_2230_Bewahre_uns,_Gott_text.txt, concr=1.64\n",
      "[13:20:39] 2231) title=wikipedia_2231_Mansize_Rooster_text.txt , concr=1.96\n",
      "[13:20:40] 2232) title=wikipedia_2232_Maine_Yankee_Nuclear_Power_Plant_text.txt, concr=1.88\n",
      "[13:20:41] 2233) title=wikipedia_2233_C._J._Prentiss_text.txt  , concr=1.87\n",
      "[13:20:41] 2234) title=wikipedia_2234_Cheesecloth_text.txt     , concr=2.07\n",
      "[13:20:44] 2235) title=wikipedia_2235_Siôn_Dafydd_Rhys_text.txt, concr=1.77\n",
      "[13:20:45] 2236) title=wikipedia_2236_Burns_Square_Historic_District_text.txt, concr=2.12\n",
      "[13:20:46] 2237) title=wikipedia_2237_Southern_Land_Casino_text.txt, concr=1.92\n",
      "[13:20:48] 2238) title=wikipedia_2238_Huaxiagnathus_text.txt   , concr=1.79\n",
      "[13:20:50] 2239) title=wikipedia_2239_Eua_Sunthornsanan_text.txt, concr=1.81\n"
     ]
    },
    {
     "name": "stdout",
     "output_type": "stream",
     "text": [
      "[13:20:52] 2240) title=wikipedia_2240_Pilipili_Mulongoy_text.txt, concr=1.92\n",
      "[13:20:52] 2241) title=wikipedia_2241_Citizen_Action_text.txt  , concr=1.68\n",
      "[13:20:54] 2242) title=wikipedia_2242_Sepp_Schellhorn_text.txt , concr=1.85\n",
      "[13:20:55] 2243) title=wikipedia_2243_WikiWikiWeb_text.txt     , concr=1.71\n",
      "[13:20:55] 2244) title=wikipedia_2244_Balancing_(bridge)_text.txt, concr=1.58\n",
      "[13:20:56] 2245) title=wikipedia_2245_Fraxinus_nigra_text.txt  , concr=2.06\n",
      "[13:20:57] 2246) title=wikipedia_2246_MapInfo_Pro_text.txt     , concr=1.89\n",
      "[13:20:58] 2247) title=wikipedia_2247_Ibrahim_Yusuf_Sulayman_text.txt, concr=1.66\n",
      "[13:20:59] 2248) title=wikipedia_2248_Dokapon:_Monster_Hunter_text.txt, concr=1.86\n",
      "[13:20:59] 2249) title=wikipedia_2249_John_R._Emens_text.txt   , concr=1.75\n",
      "[13:21:01] 2250) title=wikipedia_2250_Allomyces_text.txt       , concr=1.98\n",
      "[13:21:03] 2251) title=wikipedia_2251_Charles-Henri-Louis_d'Arsac_de_Ternay_text.txt, concr=1.91\n",
      "[13:21:03] 2252) title=wikipedia_2252_Walter_Colton_text.txt   , concr=2.02\n",
      "[13:21:05] 2253) title=wikipedia_2253_Ascott-under-Wychwood_text.txt, concr=2.05\n",
      "[13:21:07] 2254) title=wikipedia_2254_Horner–Wadsworth–Emmons_reaction_text.txt, concr=1.75\n",
      "[13:21:07] 2255) title=wikipedia_2255_Robert_Rygor_text.txt    , concr=1.91\n",
      "[13:21:08] 2256) title=wikipedia_2256_Phillips'_Legion_text.txt, concr=1.87\n",
      "[13:21:09] 2257) title=wikipedia_2257_Profession_(novella)_text.txt, concr=1.64\n",
      "[13:21:09] 2258) title=wikipedia_2258_Car_Tunes_text.txt       , concr=2.04\n",
      "[13:21:10] 2259) title=wikipedia_2259_Crawling_(human)_text.txt, concr=1.91\n",
      "[13:21:11] 2260) title=wikipedia_2260_Rick's_Story_text.txt    , concr=1.77\n",
      "[13:21:12] 2261) title=wikipedia_2261_Soleil_Moon_text.txt     , concr=1.99\n",
      "[13:21:12] 2262) title=wikipedia_2262_Ship_Island_Light_text.txt, concr=1.92\n",
      "[13:21:13] 2263) title=wikipedia_2263_Anatomical_Machines_text.txt, concr=1.79\n",
      "[13:21:15] 2264) title=wikipedia_2264_Ribadeo_text.txt         , concr=1.79\n",
      "[13:21:17] 2265) title=wikipedia_2265_Lou_Koster_text.txt      , concr=1.85\n",
      "[13:21:19] 2266) title=wikipedia_2266_Grovo_text.txt           , concr=1.88\n",
      "[13:21:21] 2267) title=wikipedia_2267_Lindholm_(manor_house)_text.txt, concr=1.94\n",
      "[13:21:23] 2268) title=wikipedia_2268_Worm_pearlfish_text.txt  , concr=2.21\n",
      "[13:21:24] 2269) title=wikipedia_2269_Talking_to_the_Dead_(TV_series)_text.txt, concr=1.71\n",
      "[13:21:24] 2270) title=wikipedia_2270_Downtown_Sacramento_text.txt, concr=2.24\n",
      "[13:21:25] 2271) title=wikipedia_2271_Crooms_Academy_of_Information_Technology_text.txt, concr=1.97\n",
      "[13:21:26] 2272) title=wikipedia_2272_9th_Pennsylvania_Cavalry_Regiment_text.txt, concr=1.91\n",
      "[13:21:26] 2273) title=wikipedia_2273_Doyle_Dykes_text.txt     , concr=1.87\n",
      "[13:21:28] 2274) title=wikipedia_2274_Cami_Baykurt_text.txt    , concr=1.72\n",
      "[13:21:29] 2275) title=wikipedia_2275_Seymore_D._Fair_text.txt , concr=1.91\n",
      "[13:21:30] 2276) title=wikipedia_2276_Thomas_Pemberton_Leigh,_1st_Baron_Kingsdown_text.txt, concr=1.76\n",
      "[13:21:31] 2277) title=wikipedia_2277_Dispute_over_the_Status_and_Use_of_the_Waters_of_the_Silala_text.txt, concr=1.75\n",
      "[13:21:31] 2278) title=wikipedia_2278_USS_Pioneer_(AM-105)_text.txt, concr=2.02\n",
      "[13:21:33] 2279) title=wikipedia_2279_Travis_Trickett_text.txt , concr=2.01\n",
      "[13:21:34] 2280) title=wikipedia_2280_Kari_Suomalainen_text.txt, concr=1.92\n",
      "[13:21:35] 2281) title=wikipedia_2281_Luke_Duke_text.txt       , concr=1.89\n",
      "[13:21:36] 2282) title=wikipedia_2282_Russel_Gartner_text.txt  , concr=1.98\n",
      "[13:21:37] 2283) title=wikipedia_2283_USS_Anaqua_text.txt      , concr=2.12\n",
      "[13:21:38] 2284) title=wikipedia_2284_Zurab_Nogaideli_text.txt , concr=1.75\n",
      "[13:21:40] 2285) title=wikipedia_2285_Typhula_text.txt         , concr=1.89\n",
      "[13:21:44] 2286) title=wikipedia_2286_Papar_District_text.txt  , concr=1.96\n",
      "[13:21:45] 2287) title=wikipedia_2287_Tom_Biscardi_text.txt    , concr=1.88\n",
      "[13:21:46] 2288) title=wikipedia_2288_Death_of_Nina_Mackay_text.txt, concr=1.93\n",
      "[13:21:47] 2289) title=wikipedia_2289_Capsulotomy_text.txt     , concr=1.85\n",
      "[13:21:49] 2290) title=wikipedia_2290_Albert_Muis_text.txt     , concr=2.06\n",
      "[13:21:50] 2291) title=wikipedia_2291_Boris_Dubin_text.txt     , concr=1.76\n",
      "[13:21:51] 2292) title=wikipedia_2292_Aesthetics_of_nature_text.txt, concr=1.52\n",
      "[13:21:51] 2293) title=wikipedia_2293_Dance_Master_UK_text.txt , concr=1.79\n",
      "[13:21:52] 2294) title=wikipedia_2294_Parasites_Lost_text.txt  , concr=1.88\n",
      "[13:21:53] 2295) title=wikipedia_2295_Derek_Thomas_(theologian)_text.txt, concr=1.85\n",
      "[13:21:53] 2296) title=wikipedia_2296_Civilian_enforcement_officer_text.txt, concr=1.57\n",
      "[13:21:56] 2297) title=wikipedia_2297_Lokapala_(king)_text.txt , concr=1.81\n",
      "[13:21:58] 2298) title=wikipedia_2298_BBC_Books_text.txt       , concr=2.00\n",
      "[13:21:59] 2299) title=wikipedia_2299_Henry_Trollope_text.txt  , concr=2.03\n",
      "[13:22:00] 2300) title=wikipedia_2300_Jorge_Páez_Vilaró_text.txt, concr=1.67\n",
      "[13:22:01] 2301) title=wikipedia_2301_Avon_Buses_text.txt      , concr=1.95\n",
      "[13:22:02] 2302) title=wikipedia_2302_Newell_W._Spicer_text.txt, concr=1.93\n",
      "[13:22:02] 2303) title=wikipedia_2303_Imperative_logic_text.txt, concr=1.35\n",
      "[13:22:03] 2304) title=wikipedia_2304_Dark_Guardian_(novel_series)_text.txt, concr=1.65\n",
      "[13:22:04] 2305) title=wikipedia_2305_July_Revolt_of_1927_text.txt, concr=1.92\n",
      "[13:22:05] 2306) title=wikipedia_2306_Edward_Pakenham,_6th_Earl_of_Longford_text.txt, concr=1.85\n",
      "[13:22:06] 2307) title=wikipedia_2307_Eric_Francis_(journalist)_text.txt, concr=1.88\n",
      "[13:22:07] 2308) title=wikipedia_2308_Rembrandt_Bugatti_text.txt, concr=1.98\n",
      "[13:22:08] 2309) title=wikipedia_2309_Felix_Senac_text.txt     , concr=1.99\n",
      "[13:22:08] 2310) title=wikipedia_2310_Billy_Owens_(American_football)_text.txt, concr=1.95\n",
      "[13:22:09] 2311) title=wikipedia_2311_César_Rodríguez_Garavito_text.txt, concr=1.83\n",
      "[13:22:10] 2312) title=wikipedia_2312_Zobrist_hashing_text.txt , concr=1.71\n",
      "[13:22:11] 2313) title=wikipedia_2313_Westward_the_Women_text.txt, concr=2.00\n",
      "[13:22:12] 2314) title=wikipedia_2314_Byron_Baer_text.txt      , concr=1.80\n",
      "[13:22:13] 2315) title=wikipedia_2315_Blandair_text.txt        , concr=2.02\n",
      "[13:22:14] 2316) title=wikipedia_2316_Mary_Clark_Thompson_text.txt, concr=2.05\n",
      "[13:22:15] 2317) title=wikipedia_2317_Matthias_Finucane_text.txt, concr=1.83\n",
      "[13:22:15] 2318) title=wikipedia_2318_Hydrometallurgy_text.txt , concr=1.91\n",
      "[13:22:16] 2319) title=wikipedia_2319_Vincenzo_Carducci_text.txt, concr=1.63\n",
      "[13:22:17] 2320) title=wikipedia_2320_Henry_Goren_text.txt     , concr=2.11\n",
      "[13:22:19] 2321) title=wikipedia_2321_Dawn_Stensland-Mendte_text.txt, concr=2.21\n",
      "[13:22:20] 2322) title=wikipedia_2322_Zero_Freitas_text.txt    , concr=1.77\n",
      "[13:22:22] 2323) title=wikipedia_2323_Aristide_Mugabe_text.txt , concr=1.98\n",
      "[13:22:23] 2324) title=wikipedia_2324_Nathaniel_Towson_text.txt, concr=1.85\n",
      "[13:22:25] 2325) title=wikipedia_2325_Humaita_antbird_text.txt , concr=1.93\n",
      "[13:22:25] 2326) title=wikipedia_2326_Kerens,_Texas_text.txt   , concr=1.95\n",
      "[13:22:26] 2327) title=wikipedia_2327_Charlie_Smithgall_text.txt, concr=1.96\n",
      "[13:22:28] 2328) title=wikipedia_2328_Karl_Lennert_text.txt    , concr=1.81\n",
      "[13:22:29] 2329) title=wikipedia_2329_Stop_Breaking_Down_text.txt, concr=1.95\n",
      "[13:22:30] 2330) title=wikipedia_2330_European_Collectivity_of_Alsace_text.txt, concr=1.85\n",
      "[13:22:30] 2331) title=wikipedia_2331_Location_Managers_Guild_International_text.txt, concr=1.93\n",
      "[13:22:31] 2332) title=wikipedia_2332_Falcone_Lucifero_text.txt, concr=1.66\n",
      "[13:22:32] 2333) title=wikipedia_2333_The_Wild_Party_(1929_film)_text.txt, concr=1.70\n",
      "[13:22:32] 2334) title=wikipedia_2334_Mark_Bedford_text.txt    , concr=1.91\n",
      "[13:22:34] 2335) title=wikipedia_2335_Maria_Muntañola_Cvetković_text.txt, concr=1.88\n",
      "[13:22:35] 2336) title=wikipedia_2336_Feria_Nacional_de_San_Marcos_text.txt, concr=1.75\n",
      "[13:22:36] 2337) title=wikipedia_2337_Congregation_(Kerbdog_album)_text.txt, concr=1.74\n",
      "[13:22:37] 2338) title=wikipedia_2338_ChEMBL_text.txt          , concr=1.90\n",
      "[13:22:40] 2339) title=wikipedia_2339_Jagath_Wickramasinghe_text.txt, concr=1.90\n",
      "[13:22:43] 2340) title=wikipedia_2340_Pelodiscus_shipian_text.txt, concr=1.87\n",
      "[13:22:45] 2341) title=wikipedia_2341_Ormindo_text.txt         , concr=1.81\n",
      "[13:22:47] 2342) title=wikipedia_2342_UchuSentai:Noiz_text.txt , concr=2.04\n"
     ]
    },
    {
     "name": "stdout",
     "output_type": "stream",
     "text": [
      "[13:22:48] 2343) title=wikipedia_2343_Tobin_Arms_text.txt      , concr=1.96\n",
      "[13:22:49] 2344) title=wikipedia_2344_Jarrod_Harbrow_text.txt  , concr=2.03\n",
      "[13:22:50] 2345) title=wikipedia_2345_Anna_Miller_Corbell_text.txt, concr=2.03\n",
      "[13:22:52] 2346) title=wikipedia_2346_Rainbow_Farm_text.txt    , concr=2.07\n",
      "[13:22:52] 2347) title=wikipedia_2347_Keith_Fletcher_text.txt  , concr=1.86\n",
      "[13:22:53] 2348) title=wikipedia_2348_Fit-and-proper-person_test_text.txt, concr=1.67\n",
      "[13:22:53] 2349) title=wikipedia_2349_Cape_Provincial_Council_text.txt, concr=1.61\n",
      "[13:22:54] 2350) title=wikipedia_2350_Ökumenischer_Kirchentag_2021_text.txt, concr=1.73\n",
      "[13:22:55] 2351) title=wikipedia_2351_Pinelands_(House_of_Assembly_of_South_Africa_constituency)_text.txt, concr=1.74\n",
      "[13:22:57] 2352) title=wikipedia_2352_Félix_Pérez_(baseball)_text.txt, concr=1.87\n",
      "[13:22:58] 2353) title=wikipedia_2353_Liverpool_Five_text.txt  , concr=1.96\n",
      "[13:23:01] 2354) title=wikipedia_2354_Mahabharat_(1965_film)_text.txt, concr=1.83\n",
      "[13:23:01] 2355) title=wikipedia_2355_Temsah_1_text.txt        , concr=2.02\n",
      "[13:23:03] 2356) title=wikipedia_2356_Graham_Melrose_text.txt  , concr=1.98\n",
      "[13:23:04] 2357) title=wikipedia_2357_Institute_for_Global_Labour_and_Human_Rights_text.txt, concr=1.91\n",
      "[13:23:05] 2358) title=wikipedia_2358_John_Hutt_text.txt       , concr=1.79\n",
      "[13:23:06] 2359) title=wikipedia_2359_George_Haddock_(musician)_text.txt, concr=1.88\n",
      "[13:23:06] 2360) title=wikipedia_2360_Sylvia_Holland_text.txt  , concr=1.88\n",
      "[13:23:08] 2361) title=wikipedia_2361_Eyre_Basin_beaked_gecko_text.txt, concr=2.01\n",
      "[13:23:09] 2362) title=wikipedia_2362_VIPs_(Squid_Game)_text.txt, concr=1.76\n",
      "[13:23:09] 2363) title=wikipedia_2363_SS_John_Barry_text.txt   , concr=2.01\n",
      "[13:23:10] 2364) title=wikipedia_2364_Thanatophoric_dysplasia_text.txt, concr=1.91\n",
      "[13:23:10] 2365) title=wikipedia_2365_Thomas_Cornell_(artist)_text.txt, concr=1.88\n",
      "[13:23:11] 2366) title=wikipedia_2366_G._W._Hunt_text.txt      , concr=1.81\n",
      "[13:23:12] 2367) title=wikipedia_2367_Harbinder_Singh_text.txt , concr=2.08\n",
      "[13:23:13] 2368) title=wikipedia_2368_The_Bala_Brothers_text.txt, concr=1.96\n",
      "[13:23:14] 2369) title=wikipedia_2369_Christopher_Hope_(novelist)_text.txt, concr=1.92\n",
      "[13:23:15] 2370) title=wikipedia_2370_Honky_Tonk_Confidential_text.txt, concr=2.16\n",
      "[13:23:16] 2371) title=wikipedia_2371_Pingree,_North_Dakota_text.txt, concr=1.84\n",
      "[13:23:16] 2372) title=wikipedia_2372_Ye_Olde_Salutation_Inn_text.txt, concr=1.98\n",
      "[13:23:17] 2373) title=wikipedia_2373_Victorious_War_Museum_text.txt, concr=1.96\n",
      "[13:23:18] 2374) title=wikipedia_2374_Milton_J._Rosenau_text.txt, concr=1.89\n",
      "[13:23:19] 2375) title=wikipedia_2375_Klaus_Flouride_text.txt  , concr=1.97\n",
      "[13:23:20] 2376) title=wikipedia_2376_Dierikon_text.txt        , concr=1.76\n",
      "[13:23:22] 2377) title=wikipedia_2377_Dasht-e_Yahudi_text.txt  , concr=1.83\n",
      "[13:23:23] 2378) title=wikipedia_2378_Sudhir_M._Parikh_text.txt, concr=1.81\n",
      "[13:23:24] 2379) title=wikipedia_2379_The_Sense_of_the_Past_text.txt, concr=1.67\n",
      "[13:23:24] 2380) title=wikipedia_2380_Kirby,_Petit_&_Green_text.txt, concr=1.97\n",
      "[13:23:25] 2381) title=wikipedia_2381_Tedford_H._Cann_text.txt , concr=1.90\n",
      "[13:23:27] 2382) title=wikipedia_2382_Ukrainian_Culturological_Club_text.txt, concr=1.81\n",
      "[13:23:28] 2383) title=wikipedia_2383_Scenery_generator_text.txt, concr=1.85\n",
      "[13:23:28] 2384) title=wikipedia_2384_Jody_Reed_text.txt       , concr=2.06\n",
      "[13:23:31] 2385) title=wikipedia_2385_Manuel_Payno_text.txt    , concr=1.79\n",
      "[13:23:32] 2386) title=wikipedia_2386_New_Yorker_Films_text.txt, concr=1.92\n",
      "[13:23:33] 2387) title=wikipedia_2387_Karen_Ansel_text.txt     , concr=1.93\n",
      "[13:23:35] 2388) title=wikipedia_2388_Robinson–Gabriel_synthesis_text.txt, concr=1.89\n",
      "[13:23:36] 2389) title=wikipedia_2389_Lazarev_Institute_of_Oriental_Languages_text.txt, concr=1.94\n",
      "[13:23:37] 2390) title=wikipedia_2390_Mary_Beck_text.txt       , concr=2.01\n",
      "[13:23:37] 2391) title=wikipedia_2391_The_Birth_of_a_Race_text.txt, concr=1.80\n",
      "[13:23:39] 2392) title=wikipedia_2392_Island6_text.txt         , concr=1.92\n",
      "[13:23:40] 2393) title=wikipedia_2393_Radiation_damping_text.txt, concr=1.63\n",
      "[13:23:40] 2394) title=wikipedia_2394_Demonstrative_evidence_text.txt, concr=1.61\n",
      "[13:23:40] 2395) title=wikipedia_2395_James_K._Polk_1844_presidential_campaign_text.txt, concr=1.78\n",
      "[13:23:41] 2396) title=wikipedia_2396_Miomantis_caffra_text.txt, concr=1.98\n",
      "[13:23:42] 2397) title=wikipedia_2397_Alphonse_Balat_text.txt  , concr=1.81\n",
      "[13:23:44] 2398) title=wikipedia_2398_Cortinarius_heatherae_text.txt, concr=1.96\n",
      "[13:23:45] 2399) title=wikipedia_2399_Schroeder_Mountain_text.txt, concr=2.01\n",
      "[13:23:48] 2400) title=wikipedia_2400_Bacchu_Kailash_text.txt  , concr=1.85\n",
      "[13:23:50] 2401) title=wikipedia_2401_Hôtel_de_Ville,_Villejuif_text.txt, concr=1.87\n",
      "[13:23:50] 2402) title=wikipedia_2402_William_Johnston_(painter)_text.txt, concr=1.85\n",
      "[13:23:52] 2403) title=wikipedia_2403_NodeMCU_text.txt         , concr=1.79\n",
      "[13:23:53] 2404) title=wikipedia_2404_Thomas_Girtin_text.txt   , concr=1.99\n",
      "[13:23:54] 2405) title=wikipedia_2405_Russian_Orbital_Service_Station_text.txt, concr=1.75\n",
      "[13:23:56] 2406) title=wikipedia_2406_Alikianos_executions_text.txt, concr=1.90\n",
      "[13:23:57] 2407) title=wikipedia_2407_London_(Jesus_Jones_album)_text.txt, concr=1.73\n",
      "[13:23:57] 2408) title=wikipedia_2408_Robert_Barr_Smith_text.txt, concr=1.95\n",
      "[13:23:58] 2409) title=wikipedia_2409_Black_snake_(firework)_text.txt, concr=2.05\n",
      "[13:23:59] 2410) title=wikipedia_2410_Baraka_Atkins_text.txt   , concr=1.91\n",
      "[13:24:00] 2411) title=wikipedia_2411_Guy_Bates_Post_text.txt  , concr=2.00\n",
      "[13:24:01] 2412) title=wikipedia_2412_Because_of_Me_text.txt   , concr=1.73\n",
      "[13:24:03] 2413) title=wikipedia_2413_Radyo_Natin_text.txt     , concr=1.96\n",
      "[13:24:04] 2414) title=wikipedia_2414_Solar_eclipse_of_September_12,_2053_text.txt, concr=1.89\n",
      "[13:24:05] 2415) title=wikipedia_2415_Graymalkin_text.txt      , concr=1.75\n",
      "[13:24:06] 2416) title=wikipedia_2416_Congo_red_text.txt       , concr=1.97\n",
      "[13:24:07] 2417) title=wikipedia_2417_Monyak_text.txt          , concr=1.77\n",
      "[13:24:08] 2418) title=wikipedia_2418_Mohamed_Koussi_text.txt  , concr=1.85\n",
      "[13:24:10] 2419) title=wikipedia_2419_Osman_Pazvantoğlu_text.txt, concr=1.85\n",
      "[13:24:11] 2420) title=wikipedia_2420_Virakesari_text.txt      , concr=1.85\n",
      "[13:24:12] 2421) title=wikipedia_2421_AltRight_Corporation_text.txt, concr=1.57\n",
      "[13:24:12] 2422) title=wikipedia_2422_Hobie_16_text.txt        , concr=2.06\n",
      "[13:24:14] 2423) title=wikipedia_2423_PJ_Powers_text.txt       , concr=1.96\n",
      "[13:24:14] 2424) title=wikipedia_2424_The_Saint_in_London_text.txt, concr=1.87\n",
      "[13:24:15] 2425) title=wikipedia_2425_The_Halloween_That_Almost_Wasn't_text.txt, concr=1.87\n",
      "[13:24:18] 2426) title=wikipedia_2426_Saheed_Nagar_text.txt    , concr=2.01\n",
      "[13:24:19] 2427) title=wikipedia_2427_Community_service_officer_text.txt, concr=1.79\n",
      "[13:24:20] 2428) title=wikipedia_2428_Southcourt_text.txt      , concr=1.88\n",
      "[13:24:21] 2429) title=wikipedia_2429_Pinkie_George_text.txt   , concr=1.83\n",
      "[13:24:23] 2430) title=wikipedia_2430_The_Seven_Swabians_text.txt, concr=1.77\n",
      "[13:24:24] 2431) title=wikipedia_2431_Agent-oriented_programming_text.txt, concr=1.64\n",
      "[13:24:26] 2432) title=wikipedia_2432_Gonzalo_Pérez_Gudiel_text.txt, concr=1.81\n",
      "[13:24:26] 2433) title=wikipedia_2433_Architecture_of_Kuwait_text.txt, concr=2.06\n",
      "[13:24:27] 2434) title=wikipedia_2434_Douglas_Southern_Electric_Tramway_text.txt, concr=1.92\n",
      "[13:24:28] 2435) title=wikipedia_2435_On'yomi_text.txt         , concr=1.52\n",
      "[13:24:29] 2436) title=wikipedia_2436_Bauen_text.txt           , concr=1.84\n",
      "[13:24:31] 2437) title=wikipedia_2437_Sallie_Rhett_Roman_text.txt, concr=1.91\n",
      "[13:24:31] 2438) title=wikipedia_2438_Print_on_demand_text.txt , concr=1.84\n",
      "[13:24:32] 2439) title=wikipedia_2439_James_Allanson_Picton_text.txt, concr=1.80\n",
      "[13:24:33] 2440) title=wikipedia_2440_Sikhism_and_homosexuality_text.txt, concr=1.68\n",
      "[13:24:34] 2441) title=wikipedia_2441_George_Gollin_text.txt   , concr=1.71\n",
      "[13:24:35] 2442) title=wikipedia_2442_The_Dirty_Dozen:_The_Fatal_Mission_text.txt, concr=1.91\n",
      "[13:24:35] 2443) title=wikipedia_2443_Arnold_Kriegstein_text.txt, concr=1.91\n",
      "[13:24:37] 2444) title=wikipedia_2444_Incheon_Bridge_text.txt  , concr=2.05\n"
     ]
    },
    {
     "name": "stdout",
     "output_type": "stream",
     "text": [
      "[13:24:37] 2445) title=wikipedia_2445_Lad_mag_text.txt         , concr=1.78\n",
      "[13:24:39] 2446) title=wikipedia_2446_August_Suter_(sculptor)_text.txt, concr=1.81\n",
      "[13:24:39] 2447) title=wikipedia_2447_G._S._Wright_text.txt    , concr=1.98\n",
      "[13:24:40] 2448) title=wikipedia_2448_Ukrainian_fast_assault_craft_Stanislav_text.txt, concr=1.92\n",
      "[13:24:41] 2449) title=wikipedia_2449_Nishan-e-Imtiaz_text.txt , concr=1.81\n",
      "[13:24:41] 2450) title=wikipedia_2450_Elephant_flow_text.txt   , concr=1.66\n",
      "[13:24:44] 2451) title=wikipedia_2451_Vedi_text.txt            , concr=1.89\n",
      "[13:24:44] 2452) title=wikipedia_2452_Alice_Ives_Breed_text.txt, concr=1.96\n",
      "[13:24:46] 2453) title=wikipedia_2453_Øyestad_Church_text.txt  , concr=1.93\n",
      "[13:24:46] 2454) title=wikipedia_2454_Temple_Cronan_text.txt   , concr=1.94\n",
      "[13:24:47] 2455) title=wikipedia_2455_Brook_Street_Chapel_text.txt, concr=1.99\n",
      "[13:24:48] 2456) title=wikipedia_2456_Double-banded_greytail_text.txt, concr=2.05\n",
      "[13:24:49] 2457) title=wikipedia_2457_Closed_Circuit_(1978_film)_text.txt, concr=1.87\n",
      "[13:24:50] 2458) title=wikipedia_2458_A_Dark_Truth_text.txt    , concr=1.96\n",
      "[13:24:51] 2459) title=wikipedia_2459_Crime_in_Transnistria_text.txt, concr=1.79\n",
      "[13:24:52] 2460) title=wikipedia_2460_Electrona,_Tasmania_text.txt, concr=2.01\n",
      "[13:24:53] 2461) title=wikipedia_2461_Riding_instructor_text.txt, concr=1.89\n",
      "[13:24:55] 2462) title=wikipedia_2462_Katerynoslav_March_text.txt, concr=1.82\n",
      "[13:24:57] 2463) title=wikipedia_2463_Macduff,_Aberdeenshire_text.txt, concr=2.03\n",
      "[13:24:57] 2464) title=wikipedia_2464_National_Capitol_Radio_&_Television_Museum_text.txt, concr=1.95\n",
      "[13:24:58] 2465) title=wikipedia_2465_Rochester_Area_High_School_(Pennsylvania)_text.txt, concr=2.00\n",
      "[13:25:00] 2466) title=wikipedia_2466_Scapanops_text.txt       , concr=1.87\n",
      "[13:25:01] 2467) title=wikipedia_2467_Connecticut_Network_text.txt, concr=1.88\n",
      "[13:25:01] 2468) title=wikipedia_2468_Heat-shrinkable_sleeve_text.txt, concr=1.89\n",
      "[13:25:02] 2469) title=wikipedia_2469_James_Clark_(physician_in_Dominica)_text.txt, concr=1.93\n",
      "[13:25:04] 2470) title=wikipedia_2470_Michel-Auguste_Colle_text.txt, concr=1.82\n",
      "[13:25:04] 2471) title=wikipedia_2471_Battle_of_Tal_Afar_(2005)_text.txt, concr=1.81\n",
      "[13:25:06] 2472) title=wikipedia_2472_Microcotyle_furcata_text.txt, concr=1.92\n",
      "[13:25:08] 2473) title=wikipedia_2473_Max_Luyken_text.txt      , concr=1.80\n",
      "[13:25:09] 2474) title=wikipedia_2474_Girolamo_Benzoni_text.txt, concr=1.71\n",
      "[13:25:10] 2475) title=wikipedia_2475_Ride_the_Eagle_text.txt  , concr=1.77\n",
      "[13:25:11] 2476) title=wikipedia_2476_Byre_Theatre_text.txt    , concr=1.84\n",
      "[13:25:11] 2477) title=wikipedia_2477_The_Butterfly_Circus_text.txt, concr=1.85\n",
      "[13:25:13] 2478) title=wikipedia_2478_Zabân-e_Pâk_text.txt     , concr=1.56\n",
      "[13:25:14] 2479) title=wikipedia_2479_Avaricum_text.txt        , concr=1.81\n",
      "[13:25:15] 2480) title=wikipedia_2480_1870_Charlevoix_earthquake_text.txt, concr=1.86\n",
      "[13:25:15] 2481) title=wikipedia_2481_SER_Q_class_text.txt     , concr=1.87\n",
      "[13:25:16] 2482) title=wikipedia_2482_Nansie_S._Sharpless_text.txt, concr=1.82\n",
      "[13:25:17] 2483) title=wikipedia_2483_Egyptian_Islamic_Labour_Party_text.txt, concr=1.67\n",
      "[13:25:18] 2484) title=wikipedia_2484_Pseudoterminal_text.txt  , concr=1.77\n",
      "[13:25:19] 2485) title=wikipedia_2485_Harry_Speakman_text.txt  , concr=1.91\n",
      "[13:25:21] 2486) title=wikipedia_2486_Leo_II_of_Galicia_text.txt, concr=1.75\n",
      "[13:25:23] 2487) title=wikipedia_2487_Little_Watshishou_River_text.txt, concr=2.26\n",
      "[13:25:25] 2488) title=wikipedia_2488_Hans_Kruckow_text.txt    , concr=1.78\n",
      "[13:25:28] 2489) title=wikipedia_2489_Sudabeh_text.txt         , concr=1.78\n",
      "[13:25:29] 2490) title=wikipedia_2490_Seeker_(spacecraft)_text.txt, concr=1.83\n",
      "[13:25:30] 2491) title=wikipedia_2491_Hedd_Wyn_(film)_text.txt , concr=1.72\n",
      "[13:25:33] 2492) title=wikipedia_2492_Nasif_al-Nassar_text.txt , concr=1.87\n",
      "[13:25:35] 2493) title=wikipedia_2493_Tonse_text.txt           , concr=2.06\n",
      "[13:25:35] 2494) title=wikipedia_2494_Harry_deLeyer_text.txt   , concr=2.05\n",
      "[13:25:37] 2495) title=wikipedia_2495_Braided_monoidal_category_text.txt, concr=1.51\n",
      "[13:25:37] 2496) title=wikipedia_2496_Oasia_Hotel_Downtown_text.txt, concr=2.08\n",
      "[13:25:38] 2497) title=wikipedia_2497_William_Steuart_(Scottish_politician)_text.txt, concr=1.80\n",
      "[13:25:39] 2498) title=wikipedia_2498_Gardners,_Pennsylvania_text.txt, concr=2.11\n",
      "[13:25:40] 2499) title=wikipedia_2499_Angelina_&_Neches_River_Authority_text.txt, concr=1.91\n",
      "[13:25:41] 2500) title=wikipedia_2500_M4_(computer_language)_text.txt, concr=1.71\n",
      "[13:25:41] 2501) title=wikipedia_2501_Skeletochronology_text.txt, concr=1.66\n",
      "[13:25:42] 2502) title=wikipedia_2502_Gordon_Hill_(referee)_text.txt, concr=1.96\n",
      "[13:25:43] 2503) title=wikipedia_2503_Interview_with_the_Assassin_text.txt, concr=1.79\n",
      "[13:25:45] 2504) title=wikipedia_2504_Limes_Arabicus_text.txt  , concr=1.88\n",
      "[13:25:47] 2505) title=wikipedia_2505_Kumrovec_text.txt        , concr=1.98\n",
      "[13:25:48] 2506) title=wikipedia_2506_Alphaville,_São_Paulo_text.txt, concr=1.85\n",
      "[13:25:50] 2507) title=wikipedia_2507_Teversall_Manor_railway_station_text.txt, concr=1.95\n",
      "[13:25:51] 2508) title=wikipedia_2508_Enterprize_(1830_ship)_text.txt, concr=2.02\n",
      "[13:25:52] 2509) title=wikipedia_2509_Hendon_Greyhound_Stadium_text.txt, concr=2.11\n",
      "[13:25:53] 2510) title=wikipedia_2510_Kathputli_(puppetry)_text.txt, concr=1.90\n",
      "[13:25:54] 2511) title=wikipedia_2511_MV_Ocean_Trader_text.txt , concr=1.99\n",
      "[13:25:54] 2512) title=wikipedia_2512_Life_history_(sociology)_text.txt, concr=1.60\n",
      "[13:25:56] 2513) title=wikipedia_2513_Sofia_Rusova_text.txt    , concr=1.93\n",
      "[13:25:59] 2514) title=wikipedia_2514_Vakhtang_IV_text.txt     , concr=1.82\n",
      "[13:26:01] 2515) title=wikipedia_2515_North_Omo_Zone_text.txt  , concr=1.76\n",
      "[13:26:02] 2516) title=wikipedia_2516_MKS_units_text.txt       , concr=1.66\n",
      "[13:26:03] 2517) title=wikipedia_2517_Ian_Armstrong_(artist)_text.txt, concr=1.97\n",
      "[13:26:03] 2518) title=wikipedia_2518_Bad_beat_text.txt        , concr=1.74\n",
      "[13:26:04] 2519) title=wikipedia_2519_Dallas_Dempster_text.txt , concr=1.86\n",
      "[13:26:05] 2520) title=wikipedia_2520_Padonia_Township,_Brown_County,_Kansas_text.txt, concr=1.90\n",
      "[13:26:06] 2521) title=wikipedia_2521_Fuertes_Observatory_text.txt, concr=1.99\n",
      "[13:26:07] 2522) title=wikipedia_2522_Mr_Tiz_text.txt          , concr=1.88\n",
      "[13:26:08] 2523) title=wikipedia_2523_Louise_N'Jie_text.txt    , concr=1.83\n",
      "[13:26:09] 2524) title=wikipedia_2524_Qushla_Clock_Tower_text.txt, concr=2.07\n",
      "[13:26:10] 2525) title=wikipedia_2525_Aphis_gossypii_text.txt  , concr=2.17\n",
      "[13:26:11] 2526) title=wikipedia_2526_Michigan_Basin_text.txt  , concr=2.21\n",
      "[13:26:12] 2527) title=wikipedia_2527_Gina_Abercrombie-Winstanley_text.txt, concr=1.89\n",
      "[13:26:13] 2528) title=wikipedia_2528_T.rex_Discovery_Centre_text.txt, concr=2.05\n",
      "[13:26:15] 2529) title=wikipedia_2529_Mga_text.txt             , concr=1.93\n",
      "[13:26:16] 2530) title=wikipedia_2530_The_Royal_Kangaroos_text.txt, concr=1.89\n",
      "[13:26:17] 2531) title=wikipedia_2531_Pierre_Michelin_(businessman)_text.txt, concr=1.80\n",
      "[13:26:18] 2532) title=wikipedia_2532_The_Unknown_(hypertext_novel)_text.txt, concr=1.65\n",
      "[13:26:19] 2533) title=wikipedia_2533_Madres_Buscadoras_de_Sonora_text.txt, concr=1.85\n",
      "[13:26:21] 2534) title=wikipedia_2534_DYMX_text.txt            , concr=2.01\n",
      "[13:26:22] 2535) title=wikipedia_2535_Domeland_Wilderness_text.txt, concr=2.28\n",
      "[13:26:22] 2536) title=wikipedia_2536_VIO.ME._text.txt         , concr=1.77\n",
      "[13:26:25] 2537) title=wikipedia_2537_Chiranjeevulu_(2001_film)_text.txt, concr=1.79\n",
      "[13:26:27] 2538) title=wikipedia_2538_Modesto_Borreguero_text.txt, concr=1.94\n",
      "[13:26:28] 2539) title=wikipedia_2539_WJAM_text.txt            , concr=1.94\n",
      "[13:26:29] 2540) title=wikipedia_2540_Snipe,_Texas_text.txt    , concr=2.05\n",
      "[13:26:29] 2541) title=wikipedia_2541_Joy's_law_(management)_text.txt, concr=1.45\n",
      "[13:26:31] 2542) title=wikipedia_2542_Yuvathurki_text.txt      , concr=1.75\n",
      "[13:26:32] 2543) title=wikipedia_2543_Wiley_Mayne_text.txt     , concr=1.85\n",
      "[13:26:33] 2544) title=wikipedia_2544_City_of_Poros_ship_attack_text.txt, concr=1.95\n",
      "[13:26:34] 2545) title=wikipedia_2545_Hannah_Elias_text.txt    , concr=1.96\n",
      "[13:26:34] 2546) title=wikipedia_2546_Robert_Hare_(chemist)_text.txt, concr=1.74\n"
     ]
    },
    {
     "name": "stdout",
     "output_type": "stream",
     "text": [
      "[13:26:35] 2547) title=wikipedia_2547_Harry_Jupp_text.txt      , concr=1.87\n",
      "[13:26:37] 2548) title=wikipedia_2548_A_Rúa_text.txt           , concr=1.78\n",
      "[13:26:38] 2549) title=wikipedia_2549_Blake_Works_I_text.txt   , concr=1.78\n",
      "[13:26:39] 2550) title=wikipedia_2550_Jean_Ulveling_text.txt   , concr=1.63\n",
      "[13:26:40] 2551) title=wikipedia_2551_The_Colorado_Springs_School_text.txt, concr=2.13\n",
      "[13:26:41] 2552) title=wikipedia_2552_Bandhuvulostunnaru_Jagratha_text.txt, concr=1.85\n",
      "[13:26:42] 2553) title=wikipedia_2553_Jeremy_Blake_text.txt    , concr=1.84\n",
      "[13:26:43] 2554) title=wikipedia_2554_Cichla_ocellaris_text.txt, concr=2.04\n",
      "[13:26:43] 2555) title=wikipedia_2555_John_Jacobs_(producer)_text.txt, concr=1.95\n",
      "[13:26:44] 2556) title=wikipedia_2556_Leiningers_Run_text.txt  , concr=2.03\n",
      "[13:26:45] 2557) title=wikipedia_2557_Vandalia_(colony)_text.txt, concr=1.85\n",
      "[13:26:46] 2558) title=wikipedia_2558_Lonappan_Nambadan_text.txt, concr=1.81\n",
      "[13:26:48] 2559) title=wikipedia_2559_Ben_Carré_text.txt       , concr=1.93\n",
      "[13:26:49] 2560) title=wikipedia_2560_Margaret_Irene_Anderson_text.txt, concr=2.01\n",
      "[13:26:49] 2561) title=wikipedia_2561_On_My_Own_(memoir)_text.txt, concr=1.77\n",
      "[13:26:50] 2562) title=wikipedia_2562_Edward_Warner_(1511–1565)_text.txt, concr=1.88\n",
      "[13:26:51] 2563) title=wikipedia_2563_Cock_E.S.P._text.txt     , concr=1.96\n",
      "[13:26:52] 2564) title=wikipedia_2564_Odile_Schweisguth_text.txt, concr=1.65\n",
      "[13:26:53] 2565) title=wikipedia_2565_Bernard_200_text.txt     , concr=2.00\n",
      "[13:26:54] 2566) title=wikipedia_2566_Rod_Black_text.txt       , concr=2.06\n",
      "[13:26:56] 2567) title=wikipedia_2567_Mihera_Bint_Abboud_text.txt, concr=1.96\n",
      "[13:26:58] 2568) title=wikipedia_2568_Georgiana_Leicester,_Baroness_de_Tabley_text.txt, concr=1.92\n",
      "[13:26:58] 2569) title=wikipedia_2569_Anne_Basset_(lady-in-waiting)_text.txt, concr=2.00\n",
      "[13:26:59] 2570) title=wikipedia_2570_John_Birkett_(rugby_union)_text.txt, concr=1.90\n",
      "[13:27:01] 2571) title=wikipedia_2571_KRGE_text.txt            , concr=1.94\n",
      "[13:27:01] 2572) title=wikipedia_2572_Rough_and_tumble_fighting_text.txt, concr=1.75\n",
      "[13:27:03] 2573) title=wikipedia_2573_Meidias_Painter_text.txt , concr=1.88\n",
      "[13:27:04] 2574) title=wikipedia_2574_Uchhaith_text.txt        , concr=1.85\n",
      "[13:27:05] 2575) title=wikipedia_2575_Riverbend_(blogger)_text.txt, concr=1.82\n",
      "[13:27:06] 2576) title=wikipedia_2576_Lynching_of_Jesse_Thomas_text.txt, concr=2.04\n",
      "[13:27:06] 2577) title=wikipedia_2577_Compass_(Hudson)_text.txt, concr=2.05\n",
      "[13:27:08] 2578) title=wikipedia_2578_Piccard_Cove_text.txt    , concr=2.34\n",
      "[13:27:10] 2579) title=wikipedia_2579_Pomerania-Barth_text.txt , concr=1.81\n",
      "[13:27:11] 2580) title=wikipedia_2580_Peter_Frederik_Rist_text.txt, concr=1.70\n",
      "[13:27:11] 2581) title=wikipedia_2581_Balcony_text.txt         , concr=1.98\n",
      "[13:27:12] 2582) title=wikipedia_2582_Pax_Corpus_text.txt      , concr=1.78\n",
      "[13:27:13] 2583) title=wikipedia_2583_Pleasant_Plain,_Iowa_text.txt, concr=1.82\n",
      "[13:27:14] 2584) title=wikipedia_2584_Anton_Hám_text.txt       , concr=1.96\n",
      "[13:27:15] 2585) title=wikipedia_2585_Sadat_(miniseries)_text.txt, concr=1.87\n",
      "[13:27:16] 2586) title=wikipedia_2586_Van_de_Passe_family_text.txt, concr=1.86\n",
      "[13:27:17] 2587) title=wikipedia_2587_Pensamiento_Serpentino_text.txt, concr=1.63\n",
      "[13:27:18] 2588) title=wikipedia_2588_Lafayette,_Chippewa_County,_Wisconsin_text.txt, concr=1.94\n",
      "[13:27:19] 2589) title=wikipedia_2589_Casbah_Recording_Studio_text.txt, concr=1.96\n",
      "[13:27:20] 2590) title=wikipedia_2590_John_Paton_(VC)_text.txt , concr=1.87\n",
      "[13:27:22] 2591) title=wikipedia_2591_Channelkirk_text.txt     , concr=1.82\n",
      "[13:27:22] 2592) title=wikipedia_2592_Avant,_Oklahoma_text.txt , concr=1.87\n",
      "[13:27:23] 2593) title=wikipedia_2593_Industrial_piercing_text.txt, concr=1.88\n",
      "[13:27:23] 2594) title=wikipedia_2594_Muslim_University_of_Morogoro_text.txt, concr=1.75\n",
      "[13:27:24] 2595) title=wikipedia_2595_William_Sublette_text.txt, concr=2.06\n",
      "[13:27:25] 2596) title=wikipedia_2596_Many_Wars_Ago_text.txt   , concr=1.78\n",
      "[13:27:26] 2597) title=wikipedia_2597_City_on_Fire_(1987_film)_text.txt, concr=1.96\n",
      "[13:27:27] 2598) title=wikipedia_2598_Michigan_State_Spartans_men's_soccer_text.txt, concr=1.96\n",
      "[13:27:29] 2599) title=wikipedia_2599_WCW_Wrestling_text.txt   , concr=1.99\n",
      "[13:27:29] 2600) title=wikipedia_2600_Abandon_Ship_(video_game)_text.txt, concr=1.86\n",
      "[13:27:30] 2601) title=wikipedia_2601_Tacoma_Rail_text.txt     , concr=2.03\n",
      "[13:27:31] 2602) title=wikipedia_2602_Haden_Edwards_text.txt   , concr=1.83\n",
      "[13:27:32] 2603) title=wikipedia_2603_Merwin,_Missouri_text.txt, concr=1.82\n",
      "[13:27:33] 2604) title=wikipedia_2604_Eugene_Grebenik_text.txt , concr=1.77\n",
      "[13:27:34] 2605) title=wikipedia_2605_Footy_Legends_text.txt   , concr=1.86\n",
      "[13:27:34] 2606) title=wikipedia_2606_Monghyr_Mutiny_Medal_text.txt, concr=1.82\n",
      "[13:27:36] 2607) title=wikipedia_2607_Ronald_Menzies_text.txt  , concr=1.90\n",
      "[13:27:37] 2608) title=wikipedia_2608_Dot_Chinese_Website_text.txt, concr=1.89\n",
      "[13:27:39] 2609) title=wikipedia_2609_P._V._Rao_text.txt       , concr=1.70\n",
      "[13:27:40] 2610) title=wikipedia_2610_Catherine_Jarrige_text.txt, concr=1.72\n",
      "[13:27:41] 2611) title=wikipedia_2611_Mercury-Atlas_3_text.txt , concr=1.85\n",
      "[13:27:42] 2612) title=wikipedia_2612_Shepparton_Football_Club_text.txt, concr=1.89\n",
      "[13:27:43] 2613) title=wikipedia_2613_Freya_Van_den_Bossche_text.txt, concr=1.82\n",
      "[13:27:45] 2614) title=wikipedia_2614_John_Baxter_(explorer)_text.txt, concr=1.96\n",
      "[13:27:47] 2615) title=wikipedia_2615_Uppalawanna_text.txt     , concr=1.87\n",
      "[13:27:48] 2616) title=wikipedia_2616_John_Banvard_text.txt    , concr=1.98\n",
      "[13:27:48] 2617) title=wikipedia_2617_Lotus_29_text.txt        , concr=1.93\n",
      "[13:27:49] 2618) title=wikipedia_2618_Barbara_E._McGann_text.txt, concr=2.00\n",
      "[13:27:51] 2619) title=wikipedia_2619_Théophile_Ferré_text.txt , concr=1.77\n",
      "[13:27:52] 2620) title=wikipedia_2620_George_Ripley_(alchemist)_text.txt, concr=1.80\n",
      "[13:27:53] 2621) title=wikipedia_2621_Tanja_Dokmanović_text.txt, concr=1.60\n",
      "[13:27:55] 2622) title=wikipedia_2622_Hans_Dominik_(Schutztruppe)_text.txt, concr=1.73\n",
      "[13:27:56] 2623) title=wikipedia_2623_George_Ali_Murad_Khan_text.txt, concr=1.80\n",
      "[13:27:57] 2624) title=wikipedia_2624_No_audible_release_text.txt, concr=1.57\n",
      "[13:27:58] 2625) title=wikipedia_2625_Usha_Priyamvada_text.txt , concr=1.81\n",
      "[13:27:59] 2626) title=wikipedia_2626_Dow_Design_text.txt      , concr=2.03\n",
      "[13:28:02] 2627) title=wikipedia_2627_Mahamantri_Timmarusu_(film)_text.txt, concr=1.85\n",
      "[13:28:03] 2628) title=wikipedia_2628_Simon_McKeon_text.txt    , concr=1.81\n",
      "[13:28:04] 2629) title=wikipedia_2629_L'Aquila_1927_text.txt   , concr=1.68\n",
      "[13:28:05] 2630) title=wikipedia_2630_Motor_nerve_text.txt     , concr=2.04\n",
      "[13:28:06] 2631) title=wikipedia_2631_RL-83_Blindicide_text.txt, concr=1.93\n",
      "[13:28:07] 2632) title=wikipedia_2632_William_Pett_Ridge_text.txt, concr=1.84\n",
      "[13:28:09] 2633) title=wikipedia_2633_Ernst,_Baron_von_Feuchtersleben_text.txt, concr=1.64\n",
      "[13:28:09] 2634) title=wikipedia_2634_The_Fox_Inn,_Hanwell_text.txt, concr=2.06\n",
      "[13:28:10] 2635) title=wikipedia_2635_ITV_Tyne_Tees_&_Border_text.txt, concr=1.98\n",
      "[13:28:11] 2636) title=wikipedia_2636_Implicit_k-d_tree_text.txt, concr=1.69\n",
      "[13:28:11] 2637) title=wikipedia_2637_Mercedes_College_(Adelaide)_text.txt, concr=1.99\n",
      "[13:28:12] 2638) title=wikipedia_2638_Metropolis_of_Philadelphia_text.txt, concr=1.70\n",
      "[13:28:13] 2639) title=wikipedia_2639_Geon_(psychology)_text.txt, concr=1.63\n",
      "[13:28:14] 2640) title=wikipedia_2640_Samuel_Jordan_Cabell_text.txt, concr=2.09\n",
      "[13:28:15] 2641) title=wikipedia_2641_Wick_F.C._text.txt       , concr=1.95\n",
      "[13:28:15] 2642) title=wikipedia_2642_Michael_Lapidge_text.txt , concr=1.74\n",
      "[13:28:16] 2643) title=wikipedia_2643_Royal_Commission_on_Human_Relationships_text.txt, concr=1.73\n",
      "[13:28:17] 2644) title=wikipedia_2644_Hugh_of_Amiens_text.txt  , concr=1.69\n",
      "[13:28:18] 2645) title=wikipedia_2645_Blood_Feast_2:_All_U_Can_Eat_text.txt, concr=1.94\n",
      "[13:28:19] 2646) title=wikipedia_2646_Claude_Laberge_text.txt  , concr=1.72\n",
      "[13:28:20] 2647) title=wikipedia_2647_Huda_Abuarquob_text.txt  , concr=1.74\n",
      "[13:28:21] 2648) title=wikipedia_2648_Kampfgruppe_text.txt     , concr=1.90\n",
      "[13:28:22] 2649) title=wikipedia_2649_Mouse_Cleaning_text.txt  , concr=1.98\n"
     ]
    },
    {
     "name": "stdout",
     "output_type": "stream",
     "text": [
      "[13:28:23] 2650) title=wikipedia_2650_Seaburn_Casuals_text.txt , concr=2.02\n",
      "[13:28:24] 2651) title=wikipedia_2651_Dead_Awake_(2001_film)_text.txt, concr=1.88\n",
      "[13:28:25] 2652) title=wikipedia_2652_Bandai_Bridge_text.txt   , concr=2.03\n",
      "[13:28:26] 2653) title=wikipedia_2653_Delia_Brown_text.txt     , concr=1.83\n",
      "[13:28:27] 2654) title=wikipedia_2654_2008_Cambodian_general_election_text.txt, concr=1.65\n",
      "[13:28:28] 2655) title=wikipedia_2655_Jean-Marc_Decrop_text.txt, concr=1.86\n",
      "[13:28:29] 2656) title=wikipedia_2656_Product_marketing_text.txt, concr=1.71\n",
      "[13:28:30] 2657) title=wikipedia_2657_Matt_Caldwell_text.txt   , concr=1.79\n",
      "[13:28:31] 2658) title=wikipedia_2658_New_Stevenston_text.txt  , concr=1.93\n",
      "[13:28:32] 2659) title=wikipedia_2659_Rock-O-Rama_Records_text.txt, concr=1.83\n",
      "[13:28:32] 2660) title=wikipedia_2660_Image_macro_text.txt     , concr=1.70\n",
      "[13:28:34] 2661) title=wikipedia_2661_Multi-threshold_CMOS_text.txt, concr=1.76\n",
      "[13:28:35] 2662) title=wikipedia_2662_Jeffrey_Moore_text.txt   , concr=1.79\n",
      "[13:28:36] 2663) title=wikipedia_2663_William_Tennent_Stockton_text.txt, concr=1.98\n",
      "[13:28:36] 2664) title=wikipedia_2664_Elizabeth_M._Ramsey_text.txt, concr=1.89\n",
      "[13:28:37] 2665) title=wikipedia_2665_Gilles_de_Noailles_text.txt, concr=1.91\n",
      "[13:28:38] 2666) title=wikipedia_2666_Jasmine_Salinas_text.txt , concr=2.01\n",
      "[13:28:39] 2667) title=wikipedia_2667_Subalpine_Republic_text.txt, concr=1.69\n",
      "[13:28:40] 2668) title=wikipedia_2668_Leyland_Eight_text.txt   , concr=1.96\n",
      "[13:28:41] 2669) title=wikipedia_2669_Claude_le_Blanc_text.txt , concr=1.70\n",
      "[13:28:42] 2670) title=wikipedia_2670_Arthur_Oglesby_text.txt  , concr=1.99\n",
      "[13:28:44] 2671) title=wikipedia_2671_Johan_Hampus_Furuhjelm_text.txt, concr=1.93\n",
      "[13:28:45] 2672) title=wikipedia_2672_PPP_(complexity)_text.txt, concr=1.56\n",
      "[13:28:46] 2673) title=wikipedia_2673_Gary_Slaight_text.txt    , concr=1.92\n",
      "[13:28:47] 2674) title=wikipedia_2674_John_Hannah_Gordon_text.txt, concr=1.87\n",
      "[13:28:49] 2675) title=wikipedia_2675_Eugenio_Landesio_text.txt, concr=1.82\n",
      "[13:28:50] 2676) title=wikipedia_2676_Bandel_cheese_text.txt   , concr=2.02\n",
      "[13:28:53] 2677) title=wikipedia_2677_Breslov_Research_Institute_text.txt, concr=1.82\n",
      "[13:28:54] 2678) title=wikipedia_2678_Amato_Ronconi_text.txt   , concr=1.76\n",
      "[13:28:55] 2679) title=wikipedia_2679_Kate_Crackernuts_text.txt, concr=1.89\n",
      "[13:28:55] 2680) title=wikipedia_2680_HMS_Herald_(1806)_text.txt, concr=1.99\n",
      "[13:28:58] 2681) title=wikipedia_2681_WEDG_text.txt            , concr=1.96\n",
      "[13:28:58] 2682) title=wikipedia_2682_Avondale_Mill_Historic_District_text.txt, concr=2.20\n",
      "[13:28:59] 2683) title=wikipedia_2683_AquaDuck_text.txt        , concr=2.02\n",
      "[13:29:01] 2684) title=wikipedia_2684_Herbert_Pagani_text.txt  , concr=1.86\n",
      "[13:29:01] 2685) title=wikipedia_2685_Smiths_Hall_text.txt     , concr=2.23\n",
      "[13:29:02] 2686) title=wikipedia_2686_Second_Effort_text.txt   , concr=1.79\n",
      "[13:29:03] 2687) title=wikipedia_2687_Forever_Together_(Irish_horse)_text.txt, concr=1.97\n",
      "[13:29:04] 2688) title=wikipedia_2688_Symphony_No._2_(Weingartner)_text.txt, concr=1.60\n",
      "[13:29:05] 2689) title=wikipedia_2689_Irving_Brown_text.txt    , concr=1.76\n",
      "[13:29:06] 2690) title=wikipedia_2690_Ellen_Mary_Clerke_text.txt, concr=1.91\n",
      "[13:29:07] 2691) title=wikipedia_2691_Areni-1_shoe_text.txt    , concr=2.02\n",
      "[13:29:08] 2692) title=wikipedia_2692_Adam_Baldridge_text.txt  , concr=1.92\n",
      "[13:29:09] 2693) title=wikipedia_2693_Adapter_(computing)_text.txt, concr=2.03\n",
      "[13:29:10] 2694) title=wikipedia_2694_Maputo_Central_Railway_Station_text.txt, concr=1.94\n",
      "[13:29:11] 2695) title=wikipedia_2695_John_Francis_Cronin_text.txt, concr=1.77\n",
      "[13:29:11] 2696) title=wikipedia_2696_Stock_and_station_agency_text.txt, concr=1.79\n",
      "[13:29:12] 2697) title=wikipedia_2697_Amos_Marsh_text.txt      , concr=2.01\n",
      "[13:29:12] 2698) title=wikipedia_2698_Service-oriented_infrastructure_text.txt, concr=1.56\n",
      "[13:29:13] 2699) title=wikipedia_2699_Leonid_Lubennikov_text.txt, concr=1.73\n",
      "[13:29:14] 2700) title=wikipedia_2700_Man_Mocked_by_Two_Women_text.txt, concr=1.71\n",
      "[13:29:15] 2701) title=wikipedia_2701_Loranne_Ausley_text.txt  , concr=2.03\n",
      "[13:29:16] 2702) title=wikipedia_2702_Bathybius_haeckelii_text.txt, concr=1.69\n",
      "[13:29:17] 2703) title=wikipedia_2703_20th_Rifle_Division_text.txt, concr=1.94\n",
      "[13:29:17] 2704) title=wikipedia_2704_Eggs_(novel)_text.txt    , concr=1.87\n",
      "[13:29:18] 2705) title=wikipedia_2705_American_Association_of_School_Librarians_text.txt, concr=1.84\n",
      "[13:29:19] 2706) title=wikipedia_2706_1697_Polish–Lithuanian_royal_election_text.txt, concr=1.86\n",
      "[13:29:20] 2707) title=wikipedia_2707_Synod_of_the_Norwegian_Evangelical_Lutheran_Church_in_America_text.txt, concr=1.83\n",
      "[13:29:21] 2708) title=wikipedia_2708_Refugees_in_Indonesia_text.txt, concr=1.82\n",
      "[13:29:22] 2709) title=wikipedia_2709_Retribution_(2006_film)_text.txt, concr=1.78\n",
      "[13:29:24] 2710) title=wikipedia_2710_Tanu,_Canada_text.txt    , concr=1.99\n",
      "[13:29:25] 2711) title=wikipedia_2711_The_Battle_(Rambaud_novel)_text.txt, concr=1.76\n",
      "[13:29:26] 2712) title=wikipedia_2712_C&T_Publishing_text.txt  , concr=2.04\n",
      "[13:29:28] 2713) title=wikipedia_2713_Patrick_Rondat_text.txt  , concr=1.86\n",
      "[13:29:28] 2714) title=wikipedia_2714_Stabbing_text.txt        , concr=1.79\n",
      "[13:29:30] 2715) title=wikipedia_2715_Rahel_Hirsch_text.txt    , concr=1.84\n",
      "[13:29:31] 2716) title=wikipedia_2716_Tzavaat_HaRivash_text.txt, concr=1.46\n",
      "[13:29:32] 2717) title=wikipedia_2717_Captain_America_(1979_film)_text.txt, concr=1.89\n",
      "[13:29:33] 2718) title=wikipedia_2718_Eliza_Doolittle_text.txt , concr=1.73\n",
      "[13:29:34] 2719) title=wikipedia_2719_Chōsen_Railway_Class_900_text.txt, concr=1.82\n",
      "[13:29:35] 2720) title=wikipedia_2720_For_No_Reason_at_All_in_C_text.txt, concr=1.80\n",
      "[13:29:35] 2721) title=wikipedia_2721_Foul_(basketball)_text.txt, concr=1.57\n",
      "[13:29:38] 2722) title=wikipedia_2722_Mizse_text.txt           , concr=1.85\n",
      "[13:29:39] 2723) title=wikipedia_2723_ETL_Group_text.txt       , concr=1.75\n",
      "[13:29:39] 2724) title=wikipedia_2724_Central_Methodist_Church,_Lincoln_text.txt, concr=2.15\n",
      "[13:29:41] 2725) title=wikipedia_2725_Cutaneous_manifestations_of_COVID-19_text.txt, concr=2.10\n",
      "[13:29:42] 2726) title=wikipedia_2726_Wingello,_New_South_Wales_text.txt, concr=2.15\n",
      "[13:29:43] 2727) title=wikipedia_2727_Carlos_Tomada_text.txt   , concr=1.75\n",
      "[13:29:44] 2728) title=wikipedia_2728_Nat_Gould_text.txt       , concr=1.89\n",
      "[13:29:45] 2729) title=wikipedia_2729_HMS_Duke_of_Gloucester_(1807)_text.txt, concr=2.06\n",
      "[13:29:46] 2730) title=wikipedia_2730_Royal_Assassin_text.txt  , concr=1.72\n",
      "[13:29:47] 2731) title=wikipedia_2731_January_1981_lunar_eclipse_text.txt, concr=1.84\n",
      "[13:29:48] 2732) title=wikipedia_2732_Edward_Hartwick_text.txt , concr=2.03\n",
      "[13:29:48] 2733) title=wikipedia_2733_Mark_VII_Limited_text.txt, concr=1.87\n",
      "[13:29:49] 2734) title=wikipedia_2734_Pastel_(food)_text.txt   , concr=2.24\n",
      "[13:29:50] 2735) title=wikipedia_2735_Yod_(astrology)_text.txt , concr=1.47\n",
      "[13:29:51] 2736) title=wikipedia_2736_Eastcliffe_Hall_text.txt , concr=1.98\n",
      "[13:29:52] 2737) title=wikipedia_2737_Oley_Creek_text.txt      , concr=2.15\n",
      "[13:29:54] 2738) title=wikipedia_2738_Witte_Brigade_text.txt   , concr=1.79\n",
      "[13:29:54] 2739) title=wikipedia_2739_Hugh_Evans_(basketball)_text.txt, concr=1.96\n",
      "[13:29:56] 2740) title=wikipedia_2740_Siege_of_Byzantium_(324)_text.txt, concr=1.77\n",
      "[13:29:56] 2741) title=wikipedia_2741_PSIPRED_text.txt         , concr=1.73\n",
      "[13:29:57] 2742) title=wikipedia_2742_Labrador_Peninsula_text.txt, concr=2.09\n",
      "[13:29:58] 2743) title=wikipedia_2743_Legend_of_Dungeon_text.txt, concr=1.88\n",
      "[13:30:00] 2744) title=wikipedia_2744_George_Bullough_text.txt , concr=2.05\n",
      "[13:30:01] 2745) title=wikipedia_2745_J._Henry_Edmunds_text.txt, concr=2.12\n",
      "[13:30:03] 2746) title=wikipedia_2746_Hanan_Porat_text.txt     , concr=1.84\n",
      "[13:30:03] 2747) title=wikipedia_2747_Nettie_L._White_text.txt , concr=1.71\n",
      "[13:30:04] 2748) title=wikipedia_2748_Matthew_McClelland_text.txt, concr=2.13\n",
      "[13:30:05] 2749) title=wikipedia_2749_Moorepark,_Glasgow_text.txt, concr=1.89\n",
      "[13:30:07] 2750) title=wikipedia_2750_Mariam_Dadiani_(1783–1841)_text.txt, concr=1.88\n",
      "[13:30:09] 2751) title=wikipedia_2751_Samuel_Rüling_text.txt   , concr=1.63\n",
      "[13:30:09] 2752) title=wikipedia_2752_Institut_de_Droit_International_text.txt, concr=1.61\n"
     ]
    },
    {
     "name": "stdout",
     "output_type": "stream",
     "text": [
      "[13:30:10] 2753) title=wikipedia_2753_Bottle_Rock_Power_Plant_text.txt, concr=2.19\n",
      "[13:30:12] 2754) title=wikipedia_2754_Psyiconic_text.txt       , concr=1.88\n",
      "[13:30:13] 2755) title=wikipedia_2755_Rancho_Little_Temecula_text.txt, concr=1.97\n",
      "[13:30:14] 2756) title=wikipedia_2756_Wister,_Oklahoma_text.txt, concr=1.97\n",
      "[13:30:15] 2757) title=wikipedia_2757_Emma_Edhem_text.txt      , concr=1.94\n",
      "[13:30:16] 2758) title=wikipedia_2758_Marie_Meade_text.txt     , concr=1.81\n",
      "[13:30:17] 2759) title=wikipedia_2759_Aboriginal_Dance_Theatre_Redfern_text.txt, concr=1.83\n",
      "[13:30:18] 2760) title=wikipedia_2760_John_Heskett_text.txt    , concr=1.70\n",
      "[13:30:18] 2761) title=wikipedia_2761_Halifax_Pop_Explosion_text.txt, concr=1.83\n",
      "[13:30:21] 2762) title=wikipedia_2762_Revolt_of_Zayd_ibn_Ali_text.txt, concr=1.68\n",
      "[13:30:22] 2763) title=wikipedia_2763_Frederick_Reif_text.txt  , concr=1.83\n",
      "[13:30:23] 2764) title=wikipedia_2764_Greenville_County_Museum_of_Art_text.txt, concr=1.95\n",
      "[13:30:24] 2765) title=wikipedia_2765_China_Netcom_text.txt    , concr=1.97\n",
      "[13:30:26] 2766) title=wikipedia_2766_Injac_Zamputi_text.txt   , concr=1.76\n",
      "[13:30:27] 2767) title=wikipedia_2767_Jesus,_Interrupted_text.txt, concr=1.52\n",
      "[13:30:27] 2768) title=wikipedia_2768_Code_of_the_District_of_Columbia_text.txt, concr=1.55\n",
      "[13:30:28] 2769) title=wikipedia_2769_St._Cloud,_Missouri_text.txt, concr=1.83\n",
      "[13:30:29] 2770) title=wikipedia_2770_Liberty_Bridge,_Novi_Sad_text.txt, concr=1.91\n",
      "[13:30:29] 2771) title=wikipedia_2771_Marathon_'33_text.txt    , concr=1.78\n",
      "[13:30:30] 2772) title=wikipedia_2772_Transport_Action_Canada_text.txt, concr=1.88\n",
      "[13:30:31] 2773) title=wikipedia_2773_Bilasuvar_District_text.txt, concr=2.02\n",
      "[13:30:32] 2774) title=wikipedia_2774_Master_data_text.txt     , concr=1.54\n",
      "[13:30:32] 2775) title=wikipedia_2775_Pastor's_Initiative_text.txt, concr=1.69\n",
      "[13:30:33] 2776) title=wikipedia_2776_Charles_Royer_text.txt   , concr=1.91\n",
      "[13:30:34] 2777) title=wikipedia_2777_Toilet_Paper_(South_Park)_text.txt, concr=1.74\n",
      "[13:30:36] 2778) title=wikipedia_2778_Badak_text.txt           , concr=2.00\n",
      "[13:30:36] 2779) title=wikipedia_2779_Burnham,_Maine_text.txt  , concr=1.84\n",
      "[13:30:37] 2780) title=wikipedia_2780_Startled_Insects_text.txt, concr=2.00\n",
      "[13:30:37] 2781) title=wikipedia_2781_Robert_Hugh_Daniel_text.txt, concr=2.05\n",
      "[13:30:38] 2782) title=wikipedia_2782_Hilry_Huckaby_text.txt   , concr=1.87\n",
      "[13:30:39] 2783) title=wikipedia_2783_Film_Review_Office_text.txt, concr=1.82\n",
      "[13:30:40] 2784) title=wikipedia_2784_Bosun_Tijani_text.txt    , concr=1.84\n",
      "[13:30:42] 2785) title=wikipedia_2785_Christian_August,_Prince_of_Waldeck_and_Pyrmont_text.txt, concr=1.82\n",
      "[13:30:43] 2786) title=wikipedia_2786_Penn_State_DuBois_text.txt, concr=1.93\n",
      "[13:30:45] 2787) title=wikipedia_2787_Wittgenstein's_ladder_text.txt, concr=1.44\n",
      "[13:30:46] 2788) title=wikipedia_2788_Daphne_Foskett_text.txt  , concr=1.97\n",
      "[13:30:47] 2789) title=wikipedia_2789_Ben_Claxton_text.txt     , concr=2.01\n",
      "[13:30:48] 2790) title=wikipedia_2790_Free_Joseon_text.txt     , concr=1.71\n",
      "[13:30:49] 2791) title=wikipedia_2791_Eternam_text.txt         , concr=1.83\n",
      "[13:30:49] 2792) title=wikipedia_2792_North_(payment_processing_company)_text.txt, concr=1.89\n",
      "[13:30:50] 2793) title=wikipedia_2793_Road_Movie_(video)_text.txt, concr=1.99\n",
      "[13:30:50] 2794) title=wikipedia_2794_Autopsy_(House)_text.txt , concr=1.89\n",
      "[13:30:51] 2795) title=wikipedia_2795_Obesity_in_Nauru_text.txt, concr=1.89\n",
      "[13:30:52] 2796) title=wikipedia_2796_Committee_for_the_Defense_of_Human_Rights_in_Honduras_text.txt, concr=1.78\n",
      "[13:30:55] 2797) title=wikipedia_2797_ECW_on_TNN_text.txt      , concr=1.82\n",
      "[13:30:56] 2798) title=wikipedia_2798_Dilim_text.txt           , concr=1.82\n",
      "[13:30:57] 2799) title=wikipedia_2799_Rosso_text.txt           , concr=1.84\n",
      "[13:30:59] 2800) title=wikipedia_2800_The_Mountain_Eagle_(newspaper)_text.txt, concr=1.93\n",
      "[13:31:00] 2801) title=wikipedia_2801_Mother_India_(1992_film)_text.txt, concr=1.87\n",
      "[13:31:01] 2802) title=wikipedia_2802_Jack_McDonald_(English_footballer)_text.txt, concr=1.84\n",
      "[13:31:02] 2803) title=wikipedia_2803_International_Carbon_Action_Partnership_text.txt, concr=1.73\n",
      "[13:31:03] 2804) title=wikipedia_2804_Fernando_Seguignol_text.txt, concr=1.91\n",
      "[13:31:04] 2805) title=wikipedia_2805_Barnby_Moor_text.txt     , concr=2.00\n",
      "[13:31:05] 2806) title=wikipedia_2806_Richard_Higgott_text.txt , concr=1.69\n",
      "[13:31:06] 2807) title=wikipedia_2807_Mulberry_Island_text.txt , concr=2.20\n",
      "[13:31:07] 2808) title=wikipedia_2808_American_Colossus:_Big_Bill_Tilden_and_the_Creation_of_Modern_Tennis_text.txt, concr=1.87\n",
      "[13:31:08] 2809) title=wikipedia_2809_China–Nauru_relations_text.txt, concr=1.76\n",
      "[13:31:09] 2810) title=wikipedia_2810_Frederick_Albert_Tilston_text.txt, concr=2.03\n",
      "[13:31:10] 2811) title=wikipedia_2811_War_Drums_text.txt       , concr=1.90\n",
      "[13:31:11] 2812) title=wikipedia_2812_Heurich_House_Museum_text.txt, concr=2.01\n",
      "[13:31:12] 2813) title=wikipedia_2813_Samuel_Hardy_text.txt    , concr=1.91\n",
      "[13:31:13] 2814) title=wikipedia_2814_Kellogg_Biological_Station_text.txt, concr=2.19\n",
      "[13:31:13] 2815) title=wikipedia_2815_Three_Godfathers_(1936_film)_text.txt, concr=1.94\n",
      "[13:31:14] 2816) title=wikipedia_2816_The_My_Hero_Project_text.txt, concr=2.05\n",
      "[13:31:16] 2817) title=wikipedia_2817_Ramree_text.txt          , concr=1.77\n",
      "[13:31:17] 2818) title=wikipedia_2818_USS_Matsonia_text.txt    , concr=2.03\n",
      "[13:31:17] 2819) title=wikipedia_2819_North_Fairfield,_Ohio_text.txt, concr=1.82\n",
      "[13:31:18] 2820) title=wikipedia_2820_Mini-map_text.txt        , concr=1.90\n",
      "[13:31:19] 2821) title=wikipedia_2821_Sega_Force_text.txt      , concr=1.82\n",
      "[13:31:21] 2822) title=wikipedia_2822_German_weather_ship_WBS_11_Hessen_text.txt, concr=1.98\n",
      "[13:31:23] 2823) title=wikipedia_2823_SS_Clan_Macfadyen_(1923)_text.txt, concr=2.06\n",
      "[13:31:24] 2824) title=wikipedia_2824_Lake_Furukawanuma_text.txt, concr=2.18\n",
      "[13:31:25] 2825) title=wikipedia_2825_Marisa_Winkelhausen_text.txt, concr=2.01\n",
      "[13:31:26] 2826) title=wikipedia_2826_Sakakini_Palace_text.txt , concr=1.95\n",
      "[13:31:27] 2827) title=wikipedia_2827_The_Groundstar_Conspiracy_text.txt, concr=1.85\n",
      "[13:31:28] 2828) title=wikipedia_2828_Saratoga_Springs_pupfish_text.txt, concr=2.06\n",
      "[13:31:30] 2829) title=wikipedia_2829_Jade_Buddha_Temple_text.txt, concr=2.07\n",
      "[13:31:30] 2830) title=wikipedia_2830_Packet_(container)_text.txt, concr=2.18\n",
      "[13:31:31] 2831) title=wikipedia_2831_Jews_and_Halloween_text.txt, concr=1.73\n",
      "[13:31:33] 2832) title=wikipedia_2832_Viorel_Tilea_text.txt    , concr=1.78\n",
      "[13:31:33] 2833) title=wikipedia_2833_Greater_Manchester_bus_route_135_text.txt, concr=2.15\n",
      "[13:31:35] 2834) title=wikipedia_2834_Caspar_Barlaeus_text.txt , concr=1.87\n",
      "[13:31:36] 2835) title=wikipedia_2835_Charles_Frankel_text.txt , concr=1.72\n",
      "[13:31:37] 2836) title=wikipedia_2836_Christian_Bjelke-Petersen_text.txt, concr=1.88\n",
      "[13:31:38] 2837) title=wikipedia_2837_James_L._McGregor_text.txt, concr=1.89\n",
      "[13:31:38] 2838) title=wikipedia_2838_Living_Dead_Girl_(novel)_text.txt, concr=1.84\n",
      "[13:31:40] 2839) title=wikipedia_2839_Tolofon_text.txt         , concr=1.79\n",
      "[13:31:40] 2840) title=wikipedia_2840_First_Fridays_Devotion_text.txt, concr=1.57\n",
      "[13:31:42] 2841) title=wikipedia_2841_Mabee_House_text.txt     , concr=2.03\n",
      "[13:31:42] 2842) title=wikipedia_2842_Scranton,_North_Dakota_text.txt, concr=1.82\n",
      "[13:31:44] 2843) title=wikipedia_2843_Ruy_Gonçalo_do_Valle_Peixoto_de_Villas_Boas_text.txt, concr=1.89\n",
      "[13:31:45] 2844) title=wikipedia_2844_Whitelands_College_text.txt, concr=1.92\n",
      "[13:31:47] 2845) title=wikipedia_2845_SMUK_1_Jakarta_text.txt  , concr=1.96\n",
      "[13:31:47] 2846) title=wikipedia_2846_Personal_budget_text.txt , concr=1.61\n",
      "[13:31:49] 2847) title=wikipedia_2847_Alantės_Manor_text.txt   , concr=1.98\n",
      "[13:31:50] 2848) title=wikipedia_2848_Remembrance_(1982_film)_text.txt, concr=1.81\n",
      "[13:31:51] 2849) title=wikipedia_2849_1913_Leicester_by-election_text.txt, concr=1.74\n",
      "[13:31:53] 2850) title=wikipedia_2850_Media_in_Coimbatore_text.txt, concr=2.15\n",
      "[13:31:53] 2851) title=wikipedia_2851_Blowtorch_text.txt       , concr=2.13\n",
      "[13:31:54] 2852) title=wikipedia_2852_Jeff_Jarnigan_text.txt   , concr=1.90\n",
      "[13:31:55] 2853) title=wikipedia_2853_William_Bengen_text.txt  , concr=1.61\n",
      "[13:31:56] 2854) title=wikipedia_2854_Dilsberg_Castle_text.txt , concr=1.92\n"
     ]
    },
    {
     "name": "stdout",
     "output_type": "stream",
     "text": [
      "[13:31:57] 2855) title=wikipedia_2855_Boston_Music_Hall_text.txt, concr=2.06\n",
      "[13:31:58] 2856) title=wikipedia_2856_USA-272_text.txt         , concr=1.95\n",
      "[13:32:00] 2857) title=wikipedia_2857_Tukar_text.txt           , concr=1.71\n",
      "[13:32:01] 2858) title=wikipedia_2858_Tell_Magazine_text.txt   , concr=1.86\n",
      "[13:32:03] 2859) title=wikipedia_2859_Lex_Publilia_(471_BC)_text.txt, concr=1.59\n",
      "[13:32:05] 2860) title=wikipedia_2860_1960_Dahomeyan_general_election_text.txt, concr=1.60\n",
      "[13:32:06] 2861) title=wikipedia_2861_Ned_Baird_text.txt       , concr=1.79\n",
      "[13:32:07] 2862) title=wikipedia_2862_Karoo_(novel)_text.txt   , concr=1.75\n",
      "[13:32:07] 2863) title=wikipedia_2863_Polaris,_California_text.txt, concr=2.15\n",
      "[13:32:09] 2864) title=wikipedia_2864_Simon_Sudbury_text.txt   , concr=2.02\n",
      "[13:32:10] 2865) title=wikipedia_2865_Granby_Thomas_Calcraft_text.txt, concr=1.86\n",
      "[13:32:11] 2866) title=wikipedia_2866_Zip_Goes_a_Million_text.txt, concr=1.89\n",
      "[13:32:12] 2867) title=wikipedia_2867_Salvador_Lazo_text.txt   , concr=1.76\n",
      "[13:32:14] 2868) title=wikipedia_2868_Henry_G._Saperstein_text.txt, concr=2.06\n",
      "[13:32:17] 2869) title=wikipedia_2869_Thái_people_(Vietnam)_text.txt, concr=1.84\n",
      "[13:32:18] 2870) title=wikipedia_2870_Mashaallah_(horse)_text.txt, concr=1.91\n",
      "[13:32:19] 2871) title=wikipedia_2871_Nathan_Bailey_text.txt   , concr=1.82\n",
      "[13:32:20] 2872) title=wikipedia_2872_YourLastRight.com_text.txt, concr=1.72\n",
      "[13:32:20] 2873) title=wikipedia_2873_The_Mudge_Boy_text.txt   , concr=2.01\n",
      "[13:32:23] 2874) title=wikipedia_2874_Jagannath_Shah_Deo_text.txt, concr=1.95\n",
      "[13:32:24] 2875) title=wikipedia_2875_Kraków_Uprising_(1944)_text.txt, concr=1.87\n",
      "[13:32:26] 2876) title=wikipedia_2876_Democratic_Rally_of_the_Tahitian_People_text.txt, concr=1.71\n",
      "[13:32:27] 2877) title=wikipedia_2877_Dorothy_M._Johnson_text.txt, concr=1.96\n",
      "[13:32:28] 2878) title=wikipedia_2878_Treaty_of_Pozvol_text.txt, concr=1.75\n",
      "[13:32:28] 2879) title=wikipedia_2879_Room_Service_(American_Horror_Story)_text.txt, concr=1.97\n",
      "[13:32:29] 2880) title=wikipedia_2880_Henry_R._Horsey_text.txt , concr=1.91\n",
      "[13:32:30] 2881) title=wikipedia_2881_Los_Angeles_Examiner_text.txt, concr=1.91\n",
      "[13:32:31] 2882) title=wikipedia_2882_Milton_Wong_text.txt     , concr=1.82\n",
      "[13:32:32] 2883) title=wikipedia_2883_Reticular_theory_text.txt, concr=1.61\n",
      "[13:32:32] 2884) title=wikipedia_2884_Pick-Up_(1933_film)_text.txt, concr=1.80\n",
      "[13:32:33] 2885) title=wikipedia_2885_One_to_One_(Joe_Jackson_Band_song)_text.txt, concr=1.67\n",
      "[13:32:34] 2886) title=wikipedia_2886_David_Shepherd_Nivison_text.txt, concr=1.75\n",
      "[13:32:36] 2887) title=wikipedia_2887_Niederösterreichische_Escompte-Gesellschaft_text.txt, concr=1.87\n",
      "[13:32:37] 2888) title=wikipedia_2888_Victor_Argo_text.txt     , concr=1.97\n",
      "[13:32:38] 2889) title=wikipedia_2889_Button_(poker)_text.txt  , concr=1.86\n",
      "[13:32:39] 2890) title=wikipedia_2890_Duncan_MacMillan_High_School_text.txt, concr=1.87\n",
      "[13:32:40] 2891) title=wikipedia_2891_Aloysius_Lilius_text.txt , concr=1.70\n",
      "[13:32:40] 2892) title=wikipedia_2892_Image_color_transfer_text.txt, concr=1.69\n",
      "[13:32:41] 2893) title=wikipedia_2893_Tefifon_text.txt         , concr=1.86\n",
      "[13:32:42] 2894) title=wikipedia_2894_Goodnight–Loving_Trail_text.txt, concr=2.10\n",
      "[13:32:43] 2895) title=wikipedia_2895_Ethiopian_amphibious_rat_text.txt, concr=1.81\n",
      "[13:32:44] 2896) title=wikipedia_2896_The_Coolies_text.txt     , concr=2.02\n",
      "[13:32:44] 2897) title=wikipedia_2897_So_Good_(Rachel_Stevens_song)_text.txt, concr=1.82\n",
      "[13:32:45] 2898) title=wikipedia_2898_Siemens-Schuckert_R.I_text.txt, concr=1.84\n",
      "[13:32:47] 2899) title=wikipedia_2899_Stachys_minor_text.txt   , concr=1.95\n",
      "[13:32:48] 2900) title=wikipedia_2900_Upper_Turkeyfoot_Township,_Pennsylvania_text.txt, concr=2.01\n",
      "[13:32:50] 2901) title=wikipedia_2901_Delias_hyparete_text.txt , concr=1.89\n",
      "[13:32:52] 2902) title=wikipedia_2902_Clan_Mackie_text.txt     , concr=1.90\n",
      "[13:32:53] 2903) title=wikipedia_2903_Bush–Holley_House_text.txt, concr=2.11\n",
      "[13:32:55] 2904) title=wikipedia_2904_Old_St_Mellons_text.txt  , concr=1.93\n",
      "[13:32:57] 2905) title=wikipedia_2905_Takeshis'_text.txt       , concr=1.88\n",
      "[13:32:57] 2906) title=wikipedia_2906_Nigerian_Tobacco_Company_text.txt, concr=2.00\n",
      "[13:32:59] 2907) title=wikipedia_2907_Vākyapañcāṅga_text.txt   , concr=1.58\n",
      "[13:33:00] 2908) title=wikipedia_2908_The_Low_Spark_of_High_Heeled_Boys_(song)_text.txt, concr=1.88\n",
      "[13:33:01] 2909) title=wikipedia_2909_Northbrook,_Ohio_text.txt, concr=1.76\n",
      "[13:33:01] 2910) title=wikipedia_2910_Joint_Force_Harrier_text.txt, concr=2.07\n",
      "[13:33:03] 2911) title=wikipedia_2911_Metronom_Eisenbahngesellschaft_text.txt, concr=1.88\n",
      "[13:33:04] 2912) title=wikipedia_2912_George_L._Wellington_text.txt, concr=1.71\n",
      "[13:33:05] 2913) title=wikipedia_2913_Kwa-di_Tabil-class_ferry_text.txt, concr=2.02\n",
      "[13:33:05] 2914) title=wikipedia_2914_Fairmount_Avenue_station_text.txt, concr=2.05\n",
      "[13:33:07] 2915) title=wikipedia_2915_Gainsborough_Pictures_text.txt, concr=2.04\n",
      "[13:33:09] 2916) title=wikipedia_2916_Peadar_Bracken_text.txt  , concr=2.01\n",
      "[13:33:10] 2917) title=wikipedia_2917_Yongdusan_Park_text.txt  , concr=2.05\n",
      "[13:33:10] 2918) title=wikipedia_2918_Cameron_Little_text.txt  , concr=1.80\n",
      "[13:33:11] 2919) title=wikipedia_2919_The_Reckoning_of_Time_text.txt, concr=1.60\n",
      "[13:33:12] 2920) title=wikipedia_2920_Premier_Manager_2000_text.txt, concr=1.85\n",
      "[13:33:13] 2921) title=wikipedia_2921_Preseault_v._United_States_text.txt, concr=1.61\n",
      "[13:33:13] 2922) title=wikipedia_2922_Allan_David_Stephen_Barr_text.txt, concr=1.60\n",
      "[13:33:14] 2923) title=wikipedia_2923_John_Muir_College_text.txt, concr=1.85\n",
      "[13:33:15] 2924) title=wikipedia_2924_Montagu_C._Butler_text.txt, concr=1.82\n",
      "[13:33:16] 2925) title=wikipedia_2925_Tom_Mardikes_text.txt    , concr=2.01\n",
      "[13:33:17] 2926) title=wikipedia_2926_Berton_E._Spivy_Jr._text.txt, concr=2.01\n",
      "[13:33:17] 2927) title=wikipedia_2927_Fredrik_Jutfelt_text.txt , concr=1.78\n",
      "[13:33:20] 2928) title=wikipedia_2928_Sports_in_São_Vicente,_Cape_Verde_text.txt, concr=1.92\n",
      "[13:33:21] 2929) title=wikipedia_2929_Hired_armed_cutter_Adrian_text.txt, concr=2.00\n",
      "[13:33:22] 2930) title=wikipedia_2930_Revolving_restaurant_text.txt, concr=2.00\n",
      "[13:33:22] 2931) title=wikipedia_2931_Melissa_&_Doug_text.txt  , concr=2.07\n",
      "[13:33:23] 2932) title=wikipedia_2932_Anthony_Grandison_text.txt, concr=1.90\n",
      "[13:33:24] 2933) title=wikipedia_2933_Men's_Health_(British_magazine)_text.txt, concr=1.84\n",
      "[13:33:26] 2934) title=wikipedia_2934_Ren_Zhong_Feng_text.txt  , concr=1.93\n",
      "[13:33:27] 2935) title=wikipedia_2935_Carol_Shoshkes_Reiss_text.txt, concr=1.81\n",
      "[13:33:28] 2936) title=wikipedia_2936_Château_de_Cirey_text.txt, concr=1.90\n",
      "[13:33:29] 2937) title=wikipedia_2937_Crawfish_Spring_text.txt , concr=2.06\n",
      "[13:33:30] 2938) title=wikipedia_2938_Thelwall_Viaduct_text.txt, concr=2.00\n",
      "[13:33:30] 2939) title=wikipedia_2939_Adrian_Battles_text.txt  , concr=1.91\n",
      "[13:33:31] 2940) title=wikipedia_2940_Gareth_Armstrong_text.txt, concr=1.94\n",
      "[13:33:33] 2941) title=wikipedia_2941_Geology_of_Indonesia_text.txt, concr=1.96\n",
      "[13:33:33] 2942) title=wikipedia_2942_Michael_Eden_text.txt    , concr=1.89\n",
      "[13:33:34] 2943) title=wikipedia_2943_The_Arctic_Fox_Centre_text.txt, concr=1.85\n",
      "[13:33:35] 2944) title=wikipedia_2944_Goldsboro,_Maryland_text.txt, concr=1.85\n",
      "[13:33:37] 2945) title=wikipedia_2945_Julian_Konstantinov_text.txt, concr=1.85\n",
      "[13:33:38] 2946) title=wikipedia_2946_Misha_text.txt           , concr=1.91\n",
      "[13:33:39] 2947) title=wikipedia_2947_Libya–Spain_relations_text.txt, concr=1.71\n",
      "[13:33:40] 2948) title=wikipedia_2948_Night_Time_Is_the_Right_Time_text.txt, concr=1.91\n",
      "[13:33:41] 2949) title=wikipedia_2949_Bakulari_text.txt        , concr=1.96\n",
      "[13:33:43] 2950) title=wikipedia_2950_Yasutaka_Nakasone_text.txt, concr=1.76\n",
      "[13:33:45] 2951) title=wikipedia_2951_Compassion_Through_Music_text.txt, concr=1.72\n",
      "[13:33:45] 2952) title=wikipedia_2952_Song_of_the_West_text.txt, concr=1.81\n",
      "[13:33:46] 2953) title=wikipedia_2953_Wisconsin_Wolfpack_text.txt, concr=2.06\n",
      "[13:33:48] 2954) title=wikipedia_2954_PINS_(band)_text.txt     , concr=2.10\n",
      "[13:33:48] 2955) title=wikipedia_2955_Private_road_text.txt    , concr=1.82\n",
      "[13:33:49] 2956) title=wikipedia_2956_Coney_Island_(1943_film)_text.txt, concr=2.00\n",
      "[13:33:50] 2957) title=wikipedia_2957_Vale_of_Belvoir_text.txt , concr=1.85\n"
     ]
    },
    {
     "name": "stdout",
     "output_type": "stream",
     "text": [
      "[13:33:51] 2958) title=wikipedia_2958_Upper_Swat_Canal_text.txt, concr=1.95\n",
      "[13:33:52] 2959) title=wikipedia_2959_HMCS_Carleton_text.txt   , concr=1.94\n",
      "[13:33:53] 2960) title=wikipedia_2960_Qu_Xixian_text.txt       , concr=1.74\n",
      "[13:33:55] 2961) title=wikipedia_2961_Carlo_Salteri_text.txt   , concr=1.96\n",
      "[13:33:56] 2962) title=wikipedia_2962_Xandria_Collection_text.txt, concr=1.98\n",
      "[13:33:56] 2963) title=wikipedia_2963_Monster_(2008_film)_text.txt, concr=1.90\n",
      "[13:33:57] 2964) title=wikipedia_2964_Taxiing_text.txt         , concr=2.01\n",
      "[13:33:57] 2965) title=wikipedia_2965_National_Credit_Union_Foundation_text.txt, concr=1.74\n",
      "[13:33:58] 2966) title=wikipedia_2966_Mottled_owl_text.txt     , concr=2.01\n",
      "[13:33:59] 2967) title=wikipedia_2967_Helena_(TV_series)_text.txt, concr=1.69\n",
      "[13:34:00] 2968) title=wikipedia_2968_James_Calvin_Wilsey_text.txt, concr=1.93\n",
      "[13:34:02] 2969) title=wikipedia_2969_Kulim_(Malaysia)_Berhad_text.txt, concr=2.01\n",
      "[13:34:03] 2970) title=wikipedia_2970_Charles_Panarella_text.txt, concr=2.07\n",
      "[13:34:06] 2971) title=wikipedia_2971_Trebouxia_arboricola_text.txt, concr=1.99\n",
      "[13:34:07] 2972) title=wikipedia_2972_Galatea_(novel)_text.txt , concr=1.71\n",
      "[13:34:07] 2973) title=wikipedia_2973_Streetcars_in_Los_Angeles_text.txt, concr=2.03\n",
      "[13:34:08] 2974) title=wikipedia_2974_King_Edward_VI_High_School,_Stafford_text.txt, concr=2.04\n",
      "[13:34:09] 2975) title=wikipedia_2975_Sam_Endicott_text.txt    , concr=2.03\n",
      "[13:34:10] 2976) title=wikipedia_2976_Marshall_Law_(TV_series)_text.txt, concr=1.66\n",
      "[13:34:12] 2977) title=wikipedia_2977_PERDaix_text.txt         , concr=1.89\n",
      "[13:34:13] 2978) title=wikipedia_2978_Blouberg,_Western_Cape_text.txt, concr=2.13\n",
      "[13:34:15] 2979) title=wikipedia_2979_Franco_Rasetti_text.txt  , concr=1.66\n",
      "[13:34:15] 2980) title=wikipedia_2980_Anna_Maxwell_text.txt    , concr=1.91\n",
      "[13:34:16] 2981) title=wikipedia_2981_Totnes_(Riverside)_railway_station_text.txt, concr=2.07\n",
      "[13:34:17] 2982) title=wikipedia_2982_John_Q._Cannon_text.txt  , concr=1.99\n",
      "[13:34:18] 2983) title=wikipedia_2983_R._C._Packer_text.txt    , concr=2.08\n",
      "[13:34:19] 2984) title=wikipedia_2984_Iceland_and_the_International_Monetary_Fund_text.txt, concr=1.64\n",
      "[13:34:19] 2985) title=wikipedia_2985_Mark_Stephen_Meadows_text.txt, concr=1.97\n",
      "[13:34:21] 2986) title=wikipedia_2986_WZBU_text.txt            , concr=1.98\n",
      "[13:34:21] 2987) title=wikipedia_2987_Convent_Taiping_text.txt , concr=1.93\n",
      "[13:34:22] 2988) title=wikipedia_2988_The_Mansion_(Baguio)_text.txt, concr=2.02\n",
      "[13:34:22] 2989) title=wikipedia_2989_John_E._Davis_(North_Dakota_politician)_text.txt, concr=1.86\n",
      "[13:34:24] 2990) title=wikipedia_2990_Meyrick_Pringle_text.txt , concr=1.99\n",
      "[13:34:26] 2991) title=wikipedia_2991_Kongōrin-ji_text.txt     , concr=1.84\n",
      "[13:34:27] 2992) title=wikipedia_2992_USS_Griswold_(DE-7)_text.txt, concr=2.10\n",
      "[13:34:28] 2993) title=wikipedia_2993_The_Sorcerer_(cave_art)_text.txt, concr=1.76\n",
      "[13:34:29] 2994) title=wikipedia_2994_Bayreuth–Warmensteinach_railway_text.txt, concr=1.75\n",
      "[13:34:30] 2995) title=wikipedia_2995_Philoctetes_(Aeschylus_play)_text.txt, concr=1.56\n",
      "[13:34:31] 2996) title=wikipedia_2996_Niederfinow_Boat_Lift_text.txt, concr=1.92\n",
      "[13:34:31] 2997) title=wikipedia_2997_Gary_Turner_(musician)_text.txt, concr=2.16\n",
      "[13:34:32] 2998) title=wikipedia_2998_Andrew_Stone,_Baron_Stone_of_Blackheath_text.txt, concr=1.79\n",
      "[13:34:33] 2999) title=wikipedia_2999_Harwood,_Missouri_text.txt, concr=1.85\n",
      "[13:34:33] 3000) title=wikipedia_3000_Kym_Tollenaere_text.txt  , concr=1.94\n",
      "[13:34:35] 3001) title=wikipedia_3001_Limey_(mixtape)_text.txt , concr=1.89\n",
      "[13:34:36] 3002) title=wikipedia_3002_Black_Peter_(film)_text.txt, concr=1.86\n",
      "[13:34:37] 3003) title=wikipedia_3003_Time_of_Defiance_text.txt, concr=1.78\n",
      "[13:34:38] 3004) title=wikipedia_3004_The_Telephone_Cases_text.txt, concr=1.88\n",
      "[13:34:39] 3005) title=wikipedia_3005_Milt_G._Barlow_text.txt  , concr=2.01\n",
      "[13:34:40] 3006) title=wikipedia_3006_St._Charles_Garnier_College_text.txt, concr=1.81\n",
      "[13:34:41] 3007) title=wikipedia_3007_Olive-streaked_flycatcher_text.txt, concr=2.01\n",
      "[13:34:41] 3008) title=wikipedia_3008_Criterium_text.txt       , concr=1.74\n",
      "[13:34:42] 3009) title=wikipedia_3009_David_Graham_(architect)_text.txt, concr=1.97\n",
      "[13:34:44] 3010) title=wikipedia_3010_Hamm_am_Rhein_text.txt   , concr=1.88\n",
      "[13:34:45] 3011) title=wikipedia_3011_St._Vincent's_Cathedral_text.txt, concr=2.04\n",
      "[13:34:46] 3012) title=wikipedia_3012_Zeltus_text.txt          , concr=1.97\n",
      "[13:34:47] 3013) title=wikipedia_3013_Tunstall,_Kent_text.txt  , concr=2.00\n",
      "[13:34:48] 3014) title=wikipedia_3014_Dormansland,_Surrey_text.txt, concr=1.97\n",
      "[13:34:49] 3015) title=wikipedia_3015_Badge_of_Distinction_\"For_Mentoring\"_text.txt, concr=1.85\n",
      "[13:34:50] 3016) title=wikipedia_3016_KECR_text.txt            , concr=2.01\n",
      "[13:34:51] 3017) title=wikipedia_3017_NCIX_text.txt            , concr=2.07\n",
      "[13:34:52] 3018) title=wikipedia_3018_National_Coalition_of_Black_Lesbians_and_Gays_text.txt, concr=1.79\n",
      "[13:34:52] 3019) title=wikipedia_3019_Ramrod_(film)_text.txt   , concr=1.87\n",
      "[13:34:53] 3020) title=wikipedia_3020_Introduction_to_the_Reading_of_Hegel_text.txt, concr=1.49\n",
      "[13:34:54] 3021) title=wikipedia_3021_National_Language_Promotion_Department_text.txt, concr=1.58\n",
      "[13:34:55] 3022) title=wikipedia_3022_108th_Artillery_Regiment_\"Cosseria\"_text.txt, concr=1.93\n",
      "[13:34:56] 3023) title=wikipedia_3023_Protezione_Civile_text.txt, concr=1.64\n",
      "[13:34:57] 3024) title=wikipedia_3024_Quintessence_(band)_text.txt, concr=1.89\n",
      "[13:34:58] 3025) title=wikipedia_3025_Blue_88_text.txt         , concr=1.57\n",
      "[13:34:59] 3026) title=wikipedia_3026_Amaka_Obi_text.txt       , concr=1.69\n",
      "[13:34:59] 3027) title=wikipedia_3027_Kimberly_Brady_text.txt  , concr=1.70\n",
      "[13:35:01] 3028) title=wikipedia_3028_Northern_Public_Radio_text.txt, concr=1.93\n",
      "[13:35:03] 3029) title=wikipedia_3029_Ludwigslust–Wismar_railway_text.txt, concr=1.97\n",
      "[13:35:05] 3030) title=wikipedia_3030_Guy-Victor_Duperré_text.txt, concr=1.85\n",
      "[13:35:07] 3031) title=wikipedia_3031_Lighthouse_Reef_text.txt , concr=2.42\n",
      "[13:35:08] 3032) title=wikipedia_3032_Genuine_(film)_text.txt  , concr=1.77\n",
      "[13:35:09] 3033) title=wikipedia_3033_Over_21_text.txt         , concr=1.78\n",
      "[13:35:11] 3034) title=wikipedia_3034_Thomas_Willoughby,_1st_Baron_Middleton_text.txt, concr=1.90\n",
      "[13:35:12] 3035) title=wikipedia_3035_Tandernaken_text.txt     , concr=1.67\n",
      "[13:35:12] 3036) title=wikipedia_3036_Prairie_Home_Invasion_text.txt, concr=2.01\n",
      "[13:35:15] 3037) title=wikipedia_3037_KF_Korabi_Peshkopi_text.txt, concr=1.78\n",
      "[13:35:16] 3038) title=wikipedia_3038_It_Happened_in_Broad_Daylight_text.txt, concr=1.96\n",
      "[13:35:19] 3039) title=wikipedia_3039_Iwaki_clan_text.txt      , concr=1.88\n",
      "[13:35:20] 3040) title=wikipedia_3040_Hillaryland_text.txt     , concr=1.72\n",
      "[13:35:21] 3041) title=wikipedia_3041_Greenside_darter_text.txt, concr=2.10\n",
      "[13:35:22] 3042) title=wikipedia_3042_Nikki_(song)_text.txt    , concr=1.71\n",
      "[13:35:25] 3043) title=wikipedia_3043_Werner_Nievelstein_text.txt, concr=1.76\n",
      "[13:35:26] 3044) title=wikipedia_3044_Michael_V._Lewis_text.txt, concr=1.87\n",
      "[13:35:29] 3045) title=wikipedia_3045_Die_Alpensaga_text.txt   , concr=1.95\n",
      "[13:35:30] 3046) title=wikipedia_3046_Edith_Luckett_Davis_text.txt, concr=2.02\n",
      "[13:35:31] 3047) title=wikipedia_3047_Aesica_text.txt          , concr=2.04\n",
      "[13:35:31] 3048) title=wikipedia_3048_David_Bailey_(motorcyclist)_text.txt, concr=1.93\n",
      "[13:35:33] 3049) title=wikipedia_3049_Vladimir_Cristi_text.txt , concr=1.76\n",
      "[13:35:34] 3050) title=wikipedia_3050_The_Visitors_(Australian_band)_text.txt, concr=1.85\n",
      "[13:35:36] 3051) title=wikipedia_3051_WKZF_text.txt            , concr=1.94\n",
      "[13:35:36] 3052) title=wikipedia_3052_USS_S-26_text.txt        , concr=2.02\n",
      "[13:35:37] 3053) title=wikipedia_3053_Paul_Boffa_text.txt      , concr=1.77\n",
      "[13:35:38] 3054) title=wikipedia_3054_Thomas_Scales_text.txt   , concr=1.90\n",
      "[13:35:40] 3055) title=wikipedia_3055_Battle_of_Motta_(1412)_text.txt, concr=1.98\n",
      "[13:35:40] 3056) title=wikipedia_3056_Albany_House_text.txt    , concr=2.10\n",
      "[13:35:42] 3057) title=wikipedia_3057_A_Simple_Wedding_text.txt, concr=1.86\n",
      "[13:35:43] 3058) title=wikipedia_3058_Anastasia_Samoylova_text.txt, concr=2.22\n",
      "[13:35:43] 3059) title=wikipedia_3059_As_She_Appears_text.txt  , concr=1.77\n"
     ]
    },
    {
     "name": "stdout",
     "output_type": "stream",
     "text": [
      "[13:35:45] 3060) title=wikipedia_3060_Aisake_Ó_hAilpín_text.txt, concr=1.93\n",
      "[13:35:45] 3061) title=wikipedia_3061_United_States_Post_Office_(Peekskill,_New_York)_text.txt, concr=1.99\n",
      "[13:35:46] 3062) title=wikipedia_3062_April_1950_lunar_eclipse_text.txt, concr=1.84\n",
      "[13:35:46] 3063) title=wikipedia_3063_Alfred_L._Pearson_text.txt, concr=1.79\n",
      "[13:35:48] 3064) title=wikipedia_3064_Manaivi_Solle_Manthiram_text.txt, concr=1.82\n",
      "[13:35:49] 3065) title=wikipedia_3065_Clydesdale_Harriers_text.txt, concr=1.88\n",
      "[13:35:51] 3066) title=wikipedia_3066_Extremadura_autonomous_football_team_text.txt, concr=1.76\n",
      "[13:35:52] 3067) title=wikipedia_3067_Franklin_Odo_text.txt    , concr=1.84\n",
      "[13:35:52] 3068) title=wikipedia_3068_Rock_castle_text.txt     , concr=2.01\n",
      "[13:35:53] 3069) title=wikipedia_3069_Golden_Ring_(album)_text.txt, concr=1.75\n",
      "[13:35:54] 3070) title=wikipedia_3070_Albert_Hetterle_text.txt , concr=1.79\n",
      "[13:35:56] 3071) title=wikipedia_3071_Malondialdehyde_text.txt , concr=1.98\n",
      "[13:35:56] 3072) title=wikipedia_3072_John_Witt_text.txt       , concr=2.04\n",
      "[13:35:58] 3073) title=wikipedia_3073_Arena_Hash_text.txt      , concr=1.78\n",
      "[13:35:59] 3074) title=wikipedia_3074_Black_Girl_Magic_text.txt, concr=2.06\n",
      "[13:36:01] 3075) title=wikipedia_3075_Hibiya_incendiary_incident_text.txt, concr=1.84\n",
      "[13:36:02] 3076) title=wikipedia_3076_Hilary_Hood_text.txt     , concr=2.03\n",
      "[13:36:03] 3077) title=wikipedia_3077_Rosie_Waterland_text.txt , concr=1.93\n",
      "[13:36:03] 3078) title=wikipedia_3078_Thomas_W._Dunn_text.txt  , concr=2.02\n",
      "[13:36:05] 3079) title=wikipedia_3079_Chris_Carrieri_text.txt  , concr=1.84\n",
      "[13:36:06] 3080) title=wikipedia_3080_Burghölzli_text.txt      , concr=1.78\n",
      "[13:36:07] 3081) title=wikipedia_3081_South_Dakota_Highway_27_text.txt, concr=2.14\n",
      "[13:36:08] 3082) title=wikipedia_3082_Erdenet_Mining_Corporation_text.txt, concr=1.94\n",
      "[13:36:09] 3083) title=wikipedia_3083_New_Market_train_wreck_text.txt, concr=2.00\n",
      "[13:36:09] 3084) title=wikipedia_3084_Soap_film_text.txt       , concr=1.80\n",
      "[13:36:10] 3085) title=wikipedia_3085_Red_Bee_(character)_text.txt, concr=1.98\n",
      "[13:36:10] 3086) title=wikipedia_3086_King_Drew_Magnet_High_School_of_Medicine_and_Science_text.txt, concr=1.96\n",
      "[13:36:11] 3087) title=wikipedia_3087_Snowy-crowned_tern_text.txt, concr=2.07\n",
      "[13:36:12] 3088) title=wikipedia_3088_Opera_Omnia_Leonhard_Euler_text.txt, concr=1.57\n",
      "[13:36:14] 3089) title=wikipedia_3089_Nicholas_Bock_text.txt   , concr=1.89\n",
      "[13:36:15] 3090) title=wikipedia_3090_Carolyn_Makinson_text.txt, concr=1.98\n",
      "[13:36:16] 3091) title=wikipedia_3091_Platte_County_High_School_text.txt, concr=2.24\n",
      "[13:36:16] 3092) title=wikipedia_3092_Bad_Milo!_text.txt       , concr=1.83\n",
      "[13:36:18] 3093) title=wikipedia_3093_Killing_of_Douglas_Zerby_text.txt, concr=1.96\n",
      "[13:36:18] 3094) title=wikipedia_3094_Jane_Tonge_Thompson_text.txt, concr=1.77\n",
      "[13:36:19] 3095) title=wikipedia_3095_Whitewater_Lake_(Wisconsin)_text.txt, concr=2.42\n",
      "[13:36:20] 3096) title=wikipedia_3096_Kalkajaka_National_Park_text.txt, concr=2.09\n",
      "[13:36:21] 3097) title=wikipedia_3097_Electroplasticity_text.txt, concr=1.77\n",
      "[13:36:22] 3098) title=wikipedia_3098_Julia_Pascal_text.txt    , concr=1.96\n",
      "[13:36:22] 3099) title=wikipedia_3099_Cold_Spring,_Kentucky_text.txt, concr=1.99\n",
      "[13:36:23] 3100) title=wikipedia_3100_Ian_Burrows_text.txt     , concr=1.90\n",
      "[13:36:24] 3101) title=wikipedia_3101_Washington_Avenue_(Albany,_New_York)_text.txt, concr=2.27\n",
      "[13:36:26] 3102) title=wikipedia_3102_Birkenau_(Odenwald)_text.txt, concr=1.97\n",
      "[13:36:27] 3103) title=wikipedia_3103_Strophurus_intermedius_text.txt, concr=2.02\n",
      "[13:36:29] 3104) title=wikipedia_3104_WREC_text.txt            , concr=2.05\n",
      "[13:36:29] 3105) title=wikipedia_3105_Transcendence_(Rosenthal_book)_text.txt, concr=1.72\n",
      "[13:36:31] 3106) title=wikipedia_3106_Frank_Hann_text.txt      , concr=1.95\n",
      "[13:36:32] 3107) title=wikipedia_3107_Julie_Stevenson_Solt_text.txt, concr=1.84\n",
      "[13:36:33] 3108) title=wikipedia_3108_Midnight_Mutants_text.txt, concr=1.88\n",
      "[13:36:33] 3109) title=wikipedia_3109_Edward_C._Eicher_text.txt, concr=1.88\n",
      "[13:36:34] 3110) title=wikipedia_3110_The_Power_Worshippers_text.txt, concr=1.59\n",
      "[13:36:36] 3111) title=wikipedia_3111_Michał_Globisz_text.txt  , concr=1.93\n",
      "[13:36:37] 3112) title=wikipedia_3112_Luciana_achugar_text.txt , concr=1.94\n",
      "[13:36:38] 3113) title=wikipedia_3113_Walter_Wojdakowski_text.txt, concr=1.94\n",
      "[13:36:38] 3114) title=wikipedia_3114_Las_Damas_Romanas_text.txt, concr=1.83\n",
      "[13:36:41] 3115) title=wikipedia_3115_Richard_Streatfeild_text.txt, concr=2.07\n",
      "[13:36:43] 3116) title=wikipedia_3116_Ratilal_'Anil'_text.txt  , concr=1.87\n",
      "[13:36:45] 3117) title=wikipedia_3117_Oleg_Manaev_text.txt     , concr=1.74\n",
      "[13:36:47] 3118) title=wikipedia_3118_Vidhyarambham_text.txt   , concr=1.78\n",
      "[13:36:47] 3119) title=wikipedia_3119_Legislative_grand_committees_text.txt, concr=1.74\n",
      "[13:36:48] 3120) title=wikipedia_3120_Facelift_(automotive)_text.txt, concr=1.71\n",
      "[13:36:49] 3121) title=wikipedia_3121_Michael_Joseph_Fitzgerald_text.txt, concr=1.90\n",
      "[13:36:49] 3122) title=wikipedia_3122_Patricia_Arredondo_text.txt, concr=1.72\n",
      "[13:36:51] 3123) title=wikipedia_3123_Johnny_Rodrigues_text.txt, concr=1.81\n",
      "[13:36:51] 3124) title=wikipedia_3124_Old_Ipswich_Courthouse_text.txt, concr=1.92\n",
      "[13:36:53] 3125) title=wikipedia_3125_Giorgio_Anselmi_(astrologer)_text.txt, concr=1.75\n",
      "[13:36:54] 3126) title=wikipedia_3126_St._Edmund_Campion_Secondary_School_text.txt, concr=2.01\n",
      "[13:36:55] 3127) title=wikipedia_3127_Troughton_scale_text.txt , concr=1.62\n",
      "[13:36:55] 3128) title=wikipedia_3128_Ward's_Point_text.txt    , concr=2.02\n",
      "[13:36:57] 3129) title=wikipedia_3129_Steve_Rucker_text.txt    , concr=2.07\n",
      "[13:36:58] 3130) title=wikipedia_3130_Pobedobesie_text.txt     , concr=1.68\n",
      "[13:36:59] 3131) title=wikipedia_3131_Rudolf_Hellmann_text.txt , concr=1.74\n",
      "[13:37:00] 3132) title=wikipedia_3132_Hibriten_High_School_text.txt, concr=1.98\n",
      "[13:37:01] 3133) title=wikipedia_3133_Chamber_Orchestra_of_Philadelphia_text.txt, concr=1.94\n",
      "[13:37:02] 3134) title=wikipedia_3134_Yves_Godard_text.txt     , concr=1.80\n",
      "[13:37:03] 3135) title=wikipedia_3135_Cisco_(fish)_text.txt    , concr=1.72\n",
      "[13:37:05] 3136) title=wikipedia_3136_Sunny_Seki_text.txt      , concr=1.98\n",
      "[13:37:06] 3137) title=wikipedia_3137_Gangdese_batholith_text.txt, concr=1.85\n",
      "[13:37:07] 3138) title=wikipedia_3138_Internet_layer_text.txt  , concr=1.65\n",
      "[13:37:08] 3139) title=wikipedia_3139_Wilhelm_Ludwig_von_Eschwege_text.txt, concr=1.83\n",
      "[13:37:09] 3140) title=wikipedia_3140_Sheila_Scotter_text.txt  , concr=1.89\n",
      "[13:37:11] 3141) title=wikipedia_3141_CLSA_text.txt            , concr=1.89\n",
      "[13:37:12] 3142) title=wikipedia_3142_Jakey_Hollow_Natural_Area_text.txt, concr=2.05\n",
      "[13:37:13] 3143) title=wikipedia_3143_Sempronius_Densus_text.txt, concr=1.75\n",
      "[13:37:16] 3144) title=wikipedia_3144_The_Film_(film)_text.txt , concr=1.83\n",
      "[13:37:18] 3145) title=wikipedia_3145_Çandarlızade_Ali_Pasha_text.txt, concr=1.78\n",
      "[13:37:20] 3146) title=wikipedia_3146_Mikey_Maher_text.txt     , concr=1.91\n",
      "[13:37:22] 3147) title=wikipedia_3147_Assault_on_Karlsborg_text.txt, concr=1.81\n",
      "[13:37:25] 3148) title=wikipedia_3148_Majnu_(2016_film)_text.txt, concr=1.71\n",
      "[13:37:27] 3149) title=wikipedia_3149_EuroCity-Express_text.txt, concr=1.87\n",
      "[13:37:29] 3150) title=wikipedia_3150_Perumpazhuthoor_text.txt , concr=2.20\n",
      "[13:37:30] 3151) title=wikipedia_3151_Carsten_Niemitz_text.txt , concr=1.73\n",
      "[13:37:31] 3152) title=wikipedia_3152_The_Sun_Shines_Bright_text.txt, concr=1.85\n",
      "[13:37:31] 3153) title=wikipedia_3153_Harry_Reid_Airport_Connector_text.txt, concr=2.14\n",
      "[13:37:33] 3154) title=wikipedia_3154_Giyani_Greenstone_Belt_text.txt, concr=2.05\n",
      "[13:37:33] 3155) title=wikipedia_3155_Residential_area_text.txt, concr=1.80\n",
      "[13:37:34] 3156) title=wikipedia_3156_Marco_Almera_text.txt    , concr=2.20\n",
      "[13:37:35] 3157) title=wikipedia_3157_Historical_Records_of_New_South_Wales_text.txt, concr=1.85\n",
      "[13:37:36] 3158) title=wikipedia_3158_Swinsty_Reservoir_text.txt, concr=1.99\n",
      "[13:37:37] 3159) title=wikipedia_3159_Donald_M._Call_text.txt  , concr=1.88\n",
      "[13:37:38] 3160) title=wikipedia_3160_John_Stephen_Michaud_text.txt, concr=2.03\n",
      "[13:37:39] 3161) title=wikipedia_3161_Hazlewoods_Limited_text.txt, concr=2.06\n",
      "[13:37:43] 3162) title=wikipedia_3162_Tokyo_Revengers_(film)_text.txt, concr=1.93\n"
     ]
    },
    {
     "name": "stdout",
     "output_type": "stream",
     "text": [
      "[13:37:43] 3163) title=wikipedia_3163_HE0450-2958_text.txt     , concr=1.73\n",
      "[13:37:45] 3164) title=wikipedia_3164_William_E._Upjohn_text.txt, concr=2.14\n",
      "[13:37:45] 3165) title=wikipedia_3165_River_Street_Tower_text.txt, concr=1.92\n",
      "[13:37:46] 3166) title=wikipedia_3166_Meditation_Park_text.txt , concr=1.84\n",
      "[13:37:47] 3167) title=wikipedia_3167_Portuguese_Sheepdog_text.txt, concr=1.92\n",
      "[13:37:47] 3168) title=wikipedia_3168_Winona_&_St._Peter_Railroad_Co._v._Barney_text.txt, concr=1.58\n",
      "[13:37:48] 3169) title=wikipedia_3169_Debra_Newman_Ham_text.txt, concr=1.76\n",
      "[13:37:48] 3170) title=wikipedia_3170_Slaves_of_Sleep_text.txt , concr=1.83\n",
      "[13:37:50] 3171) title=wikipedia_3171_FC_connector_text.txt    , concr=1.84\n",
      "[13:37:50] 3172) title=wikipedia_3172_Diawling_National_Park_text.txt, concr=2.00\n",
      "[13:37:51] 3173) title=wikipedia_3173_Hasanmurod_Qushbegi_mosque_text.txt, concr=1.84\n",
      "[13:37:53] 3174) title=wikipedia_3174_Eddie_Garafola_text.txt  , concr=1.87\n",
      "[13:37:54] 3175) title=wikipedia_3175_St._Mary's_Church,_Kilkenny_text.txt, concr=1.99\n",
      "[13:37:55] 3176) title=wikipedia_3176_Roman_Waschuk_text.txt   , concr=1.89\n",
      "[13:37:57] 3177) title=wikipedia_3177_Clubture_text.txt        , concr=1.83\n",
      "[13:37:58] 3178) title=wikipedia_3178_Bezenšek_Shorthand_text.txt, concr=1.53\n",
      "[13:38:00] 3179) title=wikipedia_3179_Arthur_Rahn_text.txt     , concr=2.00\n",
      "[13:38:01] 3180) title=wikipedia_3180_Ranjith_Kally_text.txt   , concr=1.99\n",
      "[13:38:02] 3181) title=wikipedia_3181_Maurice_Quentin_de_La_Tour_text.txt, concr=1.74\n",
      "[13:38:02] 3182) title=wikipedia_3182_Richmond_Town_Hall,_North_Yorkshire_text.txt, concr=2.11\n",
      "[13:38:04] 3183) title=wikipedia_3183_Pimba_text.txt           , concr=1.74\n",
      "[13:38:05] 3184) title=wikipedia_3184_The_Strike_(Westinghouse_Studio_One)_text.txt, concr=1.84\n",
      "[13:38:07] 3185) title=wikipedia_3185_Dédé_(opérette)_text.txt , concr=1.79\n",
      "[13:38:08] 3186) title=wikipedia_3186_St._Nicholas_Abbey_Heritage_Railway_text.txt, concr=2.09\n",
      "[13:38:09] 3187) title=wikipedia_3187_Surveillance_Australia_text.txt, concr=2.03\n",
      "[13:38:12] 3188) title=wikipedia_3188_Vrouwe-_en_Antonie_Gasthuys_text.txt, concr=1.81\n",
      "[13:38:12] 3189) title=wikipedia_3189_Edward_Middleton_Manigault_text.txt, concr=1.87\n",
      "[13:38:13] 3190) title=wikipedia_3190_He_Who_Shrank_text.txt   , concr=1.64\n",
      "[13:38:14] 3191) title=wikipedia_3191_Lowther_Clarke_text.txt  , concr=1.81\n",
      "[13:38:15] 3192) title=wikipedia_3192_Tashkent_City_Park_text.txt, concr=2.09\n",
      "[13:38:16] 3193) title=wikipedia_3193_Wave_setup_text.txt      , concr=1.76\n",
      "[13:38:16] 3194) title=wikipedia_3194_Hartsfield's_Landing_text.txt, concr=1.74\n",
      "[13:38:18] 3195) title=wikipedia_3195_Ursula_Eason_text.txt    , concr=1.87\n",
      "[13:38:19] 3196) title=wikipedia_3196_The_Gin_Game_text.txt    , concr=1.89\n",
      "[13:38:20] 3197) title=wikipedia_3197_Pyramid_G1-d_text.txt    , concr=1.94\n",
      "[13:38:20] 3198) title=wikipedia_3198_St._Louis_Blues_(1929_film)_text.txt, concr=1.82\n",
      "[13:38:21] 3199) title=wikipedia_3199_Master_of_Arts_in_Liberal_Studies_text.txt, concr=1.67\n",
      "[13:38:22] 3200) title=wikipedia_3200_Benedict_Birnberg_text.txt, concr=1.81\n",
      "[13:38:23] 3201) title=wikipedia_3201_Ogcocephalus_parvus_text.txt, concr=1.97\n",
      "[13:38:25] 3202) title=wikipedia_3202_Abed_Khan_text.txt       , concr=1.91\n",
      "[13:38:26] 3203) title=wikipedia_3203_Agricultural_University_of_Berlin_text.txt, concr=1.97\n",
      "[13:38:27] 3204) title=wikipedia_3204_Francisco_Martin_Duran_text.txt, concr=1.92\n",
      "[13:38:28] 3205) title=wikipedia_3205_Anthony_Li_Du'an_text.txt, concr=1.63\n",
      "[13:38:29] 3206) title=wikipedia_3206_Mark_H._Willes_text.txt  , concr=1.86\n",
      "[13:38:30] 3207) title=wikipedia_3207_L._S._Starrett_Company_text.txt, concr=1.99\n",
      "[13:38:30] 3208) title=wikipedia_3208_Dolly_Gray_(baseball)_text.txt, concr=1.83\n",
      "[13:38:31] 3209) title=wikipedia_3209_Steve_Gaines_text.txt    , concr=2.08\n",
      "[13:38:32] 3210) title=wikipedia_3210_2009_Commonwealth_Heads_of_Government_Meeting_text.txt, concr=1.67\n",
      "[13:38:34] 3211) title=wikipedia_3211_Siegfried_Borchardt_text.txt, concr=1.74\n",
      "[13:38:35] 3212) title=wikipedia_3212_Culley_Run_text.txt      , concr=2.15\n",
      "[13:38:35] 3213) title=wikipedia_3213_Lawsuit_Abuse_Reduction_Act_of_2013_text.txt, concr=1.65\n",
      "[13:38:36] 3214) title=wikipedia_3214_John_Moreau_Grant_text.txt, concr=2.03\n",
      "[13:38:36] 3215) title=wikipedia_3215_Cuboid_syndrome_text.txt , concr=1.84\n",
      "[13:38:38] 3216) title=wikipedia_3216_Dol-de-Bretagne_text.txt , concr=1.84\n",
      "[13:38:38] 3217) title=wikipedia_3217_Cuth_Mullins_text.txt    , concr=1.97\n",
      "[13:38:40] 3218) title=wikipedia_3218_Yoshinaga_Fujita_text.txt, concr=1.80\n",
      "[13:38:40] 3219) title=wikipedia_3219_St_Peter's_Church,_Woolton,_Liverpool_text.txt, concr=2.07\n",
      "[13:38:41] 3220) title=wikipedia_3220_Project_Trust_text.txt   , concr=1.80\n",
      "[13:38:45] 3221) title=wikipedia_3221_Souten_text.txt          , concr=1.85\n",
      "[13:38:46] 3222) title=wikipedia_3222_USS_Sims_(DD-409)_text.txt, concr=2.03\n",
      "[13:38:48] 3223) title=wikipedia_3223_Peter_Christen_Asbjørnsen_text.txt, concr=1.73\n",
      "[13:38:49] 3224) title=wikipedia_3224_Center_of_Alcohol_Studies_text.txt, concr=1.81\n",
      "[13:38:50] 3225) title=wikipedia_3225_Phra_Phuttha_Sihing_text.txt, concr=1.91\n",
      "[13:38:51] 3226) title=wikipedia_3226_Gary_Kruzich_text.txt    , concr=1.85\n",
      "[13:38:53] 3227) title=wikipedia_3227_Kustom_Kulture_text.txt  , concr=1.91\n",
      "[13:38:54] 3228) title=wikipedia_3228_PUPS_P3_text.txt         , concr=1.82\n",
      "[13:38:54] 3229) title=wikipedia_3229_Impeachment_in_Alaska_text.txt, concr=1.66\n",
      "[13:38:54] 3230) title=wikipedia_3230_Richard_Miller_(author)_text.txt, concr=1.69\n",
      "[13:38:56] 3231) title=wikipedia_3231_Euophrys_nana_text.txt   , concr=1.88\n",
      "[13:38:56] 3232) title=wikipedia_3232_Narcissistic_withdrawal_text.txt, concr=1.41\n",
      "[13:38:58] 3233) title=wikipedia_3233_Ernst_Fischer_(writer)_text.txt, concr=1.72\n",
      "[13:38:59] 3234) title=wikipedia_3234_Ernest_Staples_Osgood_text.txt, concr=1.90\n",
      "[13:39:00] 3235) title=wikipedia_3235_Naso_brevirostris_text.txt, concr=1.99\n",
      "[13:39:01] 3236) title=wikipedia_3236_Austin_High_School_Gang_text.txt, concr=1.92\n",
      "[13:39:02] 3237) title=wikipedia_3237_Marie_Neurath_text.txt   , concr=1.77\n",
      "[13:39:02] 3238) title=wikipedia_3238_Church_of_Saint_Athanasius_(Alepochori,_Evros)_text.txt, concr=1.91\n",
      "[13:39:04] 3239) title=wikipedia_3239_Gerardo_Joseph_Colacicco_text.txt, concr=1.88\n",
      "[13:39:05] 3240) title=wikipedia_3240_ARP_Quadra_text.txt      , concr=1.83\n",
      "[13:39:05] 3241) title=wikipedia_3241_Ethan_Brown_(journalist)_text.txt, concr=1.95\n",
      "[13:39:07] 3242) title=wikipedia_3242_Śūraṅgama_Samādhi_Sūtra_text.txt, concr=1.57\n",
      "[13:39:10] 3243) title=wikipedia_3243_Lucca–Aulla_railway_text.txt, concr=2.04\n",
      "[13:39:11] 3244) title=wikipedia_3244_Karl_Bechert_text.txt    , concr=1.66\n",
      "[13:39:12] 3245) title=wikipedia_3245_Oscar_G._Johnson_text.txt, concr=1.96\n",
      "[13:39:12] 3246) title=wikipedia_3246_Zero-field_splitting_text.txt, concr=1.50\n",
      "[13:39:13] 3247) title=wikipedia_3247_Anticonformity_(psychology)_text.txt, concr=1.47\n",
      "[13:39:16] 3248) title=wikipedia_3248_Hawk_on_Flight_text.txt  , concr=1.91\n",
      "[13:39:16] 3249) title=wikipedia_3249_Faygele_Ben-Miriam_text.txt, concr=1.76\n",
      "[13:39:17] 3250) title=wikipedia_3250_100_North_Main_Street_text.txt, concr=2.09\n",
      "[13:39:18] 3251) title=wikipedia_3251_Meridian_(Star_Trek:_Deep_Space_Nine)_text.txt, concr=1.68\n",
      "[13:39:20] 3252) title=wikipedia_3252_Alberto_Olmedo_text.txt  , concr=1.89\n",
      "[13:39:21] 3253) title=wikipedia_3253_The_Clearing_(film)_text.txt, concr=1.83\n",
      "[13:39:22] 3254) title=wikipedia_3254_Fried,_Frank,_Harris,_Shriver_&_Jacobson_text.txt, concr=1.87\n",
      "[13:39:24] 3255) title=wikipedia_3255_Single-carrier_FDMA_text.txt, concr=1.66\n",
      "[13:39:25] 3256) title=wikipedia_3256_Audience_scanning_text.txt, concr=1.73\n",
      "[13:39:26] 3257) title=wikipedia_3257_Bhimakali_Temple_text.txt, concr=2.02\n",
      "[13:39:28] 3258) title=wikipedia_3258_Walter_Kuhlman_text.txt  , concr=1.77\n",
      "[13:39:28] 3259) title=wikipedia_3259_Academic_league_text.txt , concr=1.49\n",
      "[13:39:29] 3260) title=wikipedia_3260_Lindy_Layton_text.txt    , concr=1.85\n",
      "[13:39:30] 3261) title=wikipedia_3261_Ceylonese_cricket_team_in_India_in_1964–65_text.txt, concr=1.94\n",
      "[13:39:32] 3262) title=wikipedia_3262_Crime_Branch_(film)_text.txt, concr=1.96\n",
      "[13:39:34] 3263) title=wikipedia_3263_Antonio_Gasalla_text.txt , concr=1.86\n"
     ]
    },
    {
     "name": "stdout",
     "output_type": "stream",
     "text": [
      "[13:39:35] 3264) title=wikipedia_3264_First_County_Bank_text.txt, concr=2.14\n",
      "[13:39:35] 3265) title=wikipedia_3265_Saint_Michael_Catholic_High_School_(Niagara_Falls,_Ontario)_text.txt, concr=1.98\n",
      "[13:39:36] 3266) title=wikipedia_3266_Chester_War_Memorial_text.txt, concr=1.79\n",
      "[13:39:37] 3267) title=wikipedia_3267_Río_de_Oro_text.txt      , concr=1.87\n",
      "[13:39:38] 3268) title=wikipedia_3268_Great_Turnstile_text.txt , concr=1.98\n",
      "[13:39:39] 3269) title=wikipedia_3269_One_Water_(documentary)_text.txt, concr=1.95\n",
      "[13:39:40] 3270) title=wikipedia_3270_Roter_Seufzer_text.txt   , concr=1.77\n",
      "[13:39:42] 3271) title=wikipedia_3271_Chartley_Castle_text.txt , concr=2.01\n",
      "[13:39:42] 3272) title=wikipedia_3272_Beyond_This_Horizon_text.txt, concr=1.53\n",
      "[13:39:44] 3273) title=wikipedia_3273_Wichard_von_Alvensleben_text.txt, concr=1.89\n",
      "[13:39:45] 3274) title=wikipedia_3274_Elephant_Walk_(Texas_A&M)_text.txt, concr=1.92\n",
      "[13:39:45] 3275) title=wikipedia_3275_Reeve_tetrahedra_text.txt, concr=1.53\n",
      "[13:39:46] 3276) title=wikipedia_3276_Inclusive_excellence_text.txt, concr=1.38\n",
      "[13:39:47] 3277) title=wikipedia_3277_Carl_Herman_Unthan_text.txt, concr=1.78\n",
      "[13:39:47] 3278) title=wikipedia_3278_Fortifications_of_Vitré_text.txt, concr=1.91\n",
      "[13:39:49] 3279) title=wikipedia_3279_Jean_Alfonse_text.txt    , concr=1.83\n",
      "[13:39:50] 3280) title=wikipedia_3280_Man-Killer_text.txt      , concr=1.99\n",
      "[13:39:51] 3281) title=wikipedia_3281_Irad_Young_text.txt      , concr=2.02\n",
      "[13:39:52] 3282) title=wikipedia_3282_The_Hit_(1984_film)_text.txt, concr=1.86\n",
      "[13:39:53] 3283) title=wikipedia_3283_Frost_Art_Museum_text.txt, concr=2.08\n",
      "[13:39:53] 3284) title=wikipedia_3284_John_Moore_(1595?–1657)_text.txt, concr=1.68\n",
      "[13:39:55] 3285) title=wikipedia_3285_Jacques_Delors_Institute_text.txt, concr=1.77\n",
      "[13:39:56] 3286) title=wikipedia_3286_James_Whitbourn_text.txt , concr=1.96\n",
      "[13:39:57] 3287) title=wikipedia_3287_Lomaria_nuda_text.txt    , concr=2.09\n",
      "[13:39:58] 3288) title=wikipedia_3288_Littleover_text.txt      , concr=1.98\n",
      "[13:39:59] 3289) title=wikipedia_3289_Record_Cabo_Verde_text.txt, concr=1.90\n",
      "[13:40:00] 3290) title=wikipedia_3290_The_Escapades_text.txt   , concr=1.91\n",
      "[13:40:01] 3291) title=wikipedia_3291_Don't_Give_Up_the_Sheep_text.txt, concr=1.97\n",
      "[13:40:02] 3292) title=wikipedia_3292_Astolfo_text.txt         , concr=1.87\n",
      "[13:40:03] 3293) title=wikipedia_3293_Cumberland_Lodge_text.txt, concr=1.87\n",
      "[13:40:04] 3294) title=wikipedia_3294_Eoghan_Daltun_text.txt   , concr=2.04\n",
      "[13:40:06] 3295) title=wikipedia_3295_Jietai_Temple_text.txt   , concr=2.11\n",
      "[13:40:07] 3296) title=wikipedia_3296_Rula_Quawas_text.txt     , concr=1.69\n",
      "[13:40:07] 3297) title=wikipedia_3297_Richard_Taylor_(editor)_text.txt, concr=1.78\n",
      "[13:40:08] 3298) title=wikipedia_3298_Arbor_milling_text.txt   , concr=1.98\n",
      "[13:40:09] 3299) title=wikipedia_3299_Kimera_(singer)_text.txt , concr=1.77\n",
      "[13:40:10] 3300) title=wikipedia_3300_Rue_Lanterne_text.txt    , concr=1.85\n",
      "[13:40:10] 3301) title=wikipedia_3301_Periwound_text.txt       , concr=1.97\n",
      "[13:40:11] 3302) title=wikipedia_3302_Helen_Elizabeth_Nash_text.txt, concr=1.91\n",
      "[13:40:13] 3303) title=wikipedia_3303_Webduino_text.txt        , concr=2.07\n",
      "[13:40:14] 3304) title=wikipedia_3304_Base_running_text.txt    , concr=1.76\n",
      "[13:40:14] 3305) title=wikipedia_3305_Blue_School_District_text.txt, concr=2.02\n",
      "[13:40:16] 3306) title=wikipedia_3306_Nightmarch_text.txt      , concr=2.02\n",
      "[13:40:18] 3307) title=wikipedia_3307_William_McFadzean_text.txt, concr=1.92\n",
      "[13:40:18] 3308) title=wikipedia_3308_Cowboys_(2020_film)_text.txt, concr=1.94\n",
      "[13:40:20] 3309) title=wikipedia_3309_Izzy_Odigie_text.txt     , concr=1.92\n",
      "[13:40:21] 3310) title=wikipedia_3310_Clare_Downtown_Historic_District_text.txt, concr=2.03\n",
      "[13:40:23] 3311) title=wikipedia_3311_Abdón_Calderón_Garaycoa_text.txt, concr=1.70\n",
      "[13:40:24] 3312) title=wikipedia_3312_Kasem_Chatikavanij_text.txt, concr=1.82\n",
      "[13:40:26] 3313) title=wikipedia_3313_Morcott_text.txt         , concr=1.99\n",
      "[13:40:26] 3314) title=wikipedia_3314_Robert_Alfred_John_Walling_text.txt, concr=1.99\n",
      "[13:40:27] 3315) title=wikipedia_3315_Frank_Parr_text.txt      , concr=1.87\n",
      "[13:40:27] 3316) title=wikipedia_3316_Ronald_Bird_text.txt     , concr=1.77\n",
      "[13:40:28] 3317) title=wikipedia_3317_Stormy_(rapper)_text.txt , concr=1.84\n",
      "[13:40:29] 3318) title=wikipedia_3318_Store_Strandstræde_19–21_text.txt, concr=2.08\n",
      "[13:40:29] 3319) title=wikipedia_3319_Round_Rock_Public_Library_text.txt, concr=2.02\n",
      "[13:40:30] 3320) title=wikipedia_3320_Société_Pétroliere_du_Burundi_text.txt, concr=1.84\n",
      "[13:40:32] 3321) title=wikipedia_3321_Ryan_Bethencourt_text.txt, concr=1.87\n",
      "[13:40:33] 3322) title=wikipedia_3322_Môtiers_text.txt         , concr=1.95\n",
      "[13:40:34] 3323) title=wikipedia_3323_Taraba_State_University_text.txt, concr=1.69\n",
      "[13:40:37] 3324) title=wikipedia_3324_Mansur_Shihab_text.txt   , concr=1.77\n",
      "[13:40:39] 3325) title=wikipedia_3325_Buddhist_Monuments_in_the_Hōryū-ji_Area_text.txt, concr=1.90\n",
      "[13:40:39] 3326) title=wikipedia_3326_James_Bradley_(footballer)_text.txt, concr=1.87\n",
      "[13:40:40] 3327) title=wikipedia_3327_Katarína_Tóthová_text.txt, concr=1.68\n",
      "[13:40:42] 3328) title=wikipedia_3328_Princess_Farial_of_Egypt_text.txt, concr=1.89\n",
      "[13:40:43] 3329) title=wikipedia_3329_Jerry_Buchek_text.txt    , concr=1.96\n",
      "[13:40:43] 3330) title=wikipedia_3330_Dharma_combat_text.txt   , concr=1.60\n",
      "[13:40:45] 3331) title=wikipedia_3331_All_I_Asking_for_is_My_Body_text.txt, concr=1.79\n",
      "[13:40:45] 3332) title=wikipedia_3332_Delta_Kappa_Epsilon_Fraternity_House_(Champaign,_Illinois)_text.txt, concr=2.13\n",
      "[13:40:46] 3333) title=wikipedia_3333_Good_Spring_Baptist_Church_and_Cemetery_text.txt, concr=1.95\n",
      "[13:40:47] 3334) title=wikipedia_3334_Battle_of_Almenar_text.txt, concr=1.82\n",
      "[13:40:49] 3335) title=wikipedia_3335_Alessandro_Carrera_text.txt, concr=1.89\n",
      "[13:40:50] 3336) title=wikipedia_3336_Coloniality_of_gender_text.txt, concr=1.61\n",
      "[13:40:51] 3337) title=wikipedia_3337_Copper_mining_in_Mongolia_text.txt, concr=2.03\n",
      "[13:40:52] 3338) title=wikipedia_3338_Meike_Ziervogel_text.txt , concr=1.95\n",
      "[13:40:53] 3339) title=wikipedia_3339_Giuseppe_Bessi_text.txt  , concr=1.81\n",
      "[13:40:55] 3340) title=wikipedia_3340_Waren_(port)_text.txt    , concr=1.96\n",
      "[13:40:57] 3341) title=wikipedia_3341_Universal_embedding_theorem_text.txt, concr=1.31\n",
      "[13:40:57] 3342) title=wikipedia_3342_Twyford_Church_of_England_Academies_Trust_text.txt, concr=1.84\n",
      "[13:40:58] 3343) title=wikipedia_3343_Joseph_Kouneiher_text.txt, concr=1.55\n",
      "[13:40:59] 3344) title=wikipedia_3344_Casa_Serrallés_text.txt  , concr=1.90\n",
      "[13:41:03] 3345) title=wikipedia_3345_Xuefeng_Yicun_text.txt   , concr=1.85\n",
      "[13:41:04] 3346) title=wikipedia_3346_Harmon_Dobson_text.txt   , concr=1.96\n",
      "[13:41:06] 3347) title=wikipedia_3347_The_Exploits_of_Moominpappa_text.txt, concr=1.81\n",
      "[13:41:07] 3348) title=wikipedia_3348_J._R._Kantor_text.txt    , concr=1.57\n",
      "[13:41:09] 3349) title=wikipedia_3349_Wilhelm_Hansen_(art_collector)_text.txt, concr=1.74\n",
      "[13:41:09] 3350) title=wikipedia_3350_Harvard_Project_on_Cold_War_Studies_text.txt, concr=1.72\n",
      "[13:41:10] 3351) title=wikipedia_3351_Pauline_Gedge_text.txt   , concr=1.91\n",
      "[13:41:11] 3352) title=wikipedia_3352_Doug_Lubahn_text.txt     , concr=2.01\n",
      "[13:41:12] 3353) title=wikipedia_3353_Stanisław_Komorowski_text.txt, concr=1.84\n",
      "[13:41:13] 3354) title=wikipedia_3354_Prime_Minister_of_Mongolia_text.txt, concr=1.67\n",
      "[13:41:15] 3355) title=wikipedia_3355_WSKU_text.txt            , concr=1.91\n",
      "[13:41:18] 3356) title=wikipedia_3356_Hôtel_de_Gallifet_text.txt, concr=1.94\n",
      "[13:41:19] 3357) title=wikipedia_3357_How_America_Gets_Away_With_Murder_text.txt, concr=1.77\n",
      "[13:41:20] 3358) title=wikipedia_3358_USS_Karin_text.txt       , concr=2.08\n",
      "[13:41:20] 3359) title=wikipedia_3359_Cyclone_on_Horseback_text.txt, concr=1.98\n",
      "[13:41:22] 3360) title=wikipedia_3360_Miriam_Albano_text.txt   , concr=1.87\n",
      "[13:41:23] 3361) title=wikipedia_3361_Plasma_Economy_text.txt  , concr=1.92\n",
      "[13:41:24] 3362) title=wikipedia_3362_Douglas_MacDowell_text.txt, concr=1.79\n",
      "[13:41:24] 3363) title=wikipedia_3363_Feeding_Frenzy_(video_game)_text.txt, concr=1.89\n",
      "[13:41:26] 3364) title=wikipedia_3364_Nyborg_railway_station_text.txt, concr=2.13\n",
      "[13:41:27] 3365) title=wikipedia_3365_Murray_Hood_text.txt     , concr=1.97\n"
     ]
    },
    {
     "name": "stdout",
     "output_type": "stream",
     "text": [
      "[13:41:29] 3366) title=wikipedia_3366_Kuchum_Khan_text.txt     , concr=1.84\n",
      "[13:41:30] 3367) title=wikipedia_3367_Vincent_Eri_text.txt     , concr=1.83\n",
      "[13:41:31] 3368) title=wikipedia_3368_Dionisio_Jakosalem_text.txt, concr=1.78\n",
      "[13:41:32] 3369) title=wikipedia_3369_Bristol-Plymouth_Regional_Technical_School_text.txt, concr=2.00\n",
      "[13:41:33] 3370) title=wikipedia_3370_Athanasius_of_Qus_text.txt, concr=1.66\n",
      "[13:41:34] 3371) title=wikipedia_3371_TV_Cream_text.txt        , concr=2.03\n",
      "[13:41:36] 3372) title=wikipedia_3372_Achaemenes_text.txt      , concr=1.62\n",
      "[13:41:37] 3373) title=wikipedia_3373_Villa_di_Pratolino_text.txt, concr=1.88\n",
      "[13:41:38] 3374) title=wikipedia_3374_Battle_of_Gołąb_text.txt , concr=1.86\n",
      "[13:41:38] 3375) title=wikipedia_3375_Heart_rot_text.txt       , concr=2.02\n",
      "[13:41:39] 3376) title=wikipedia_3376_Raed_Fares_(activist)_text.txt, concr=1.90\n",
      "[13:41:41] 3377) title=wikipedia_3377_Nikolai_Volodchenko_text.txt, concr=1.81\n",
      "[13:41:43] 3378) title=wikipedia_3378_A_Simple_Investigation_text.txt, concr=1.66\n",
      "[13:41:44] 3379) title=wikipedia_3379_Goodview,_Minnesota_text.txt, concr=1.85\n",
      "[13:41:44] 3380) title=wikipedia_3380_St_Pierre_Hotel_Gatehouse_text.txt, concr=1.95\n",
      "[13:41:46] 3381) title=wikipedia_3381_Villa_Lante_al_Gianicolo_text.txt, concr=1.82\n",
      "[13:41:47] 3382) title=wikipedia_3382_Wycombe_Air_Park_text.txt, concr=1.98\n",
      "[13:41:48] 3383) title=wikipedia_3383_Jim_Bamber_text.txt      , concr=1.90\n",
      "[13:41:50] 3384) title=wikipedia_3384_Hakka_walled_village_text.txt, concr=1.94\n",
      "[13:41:51] 3385) title=wikipedia_3385_49er_(dinghy)_text.txt   , concr=1.97\n",
      "[13:41:51] 3386) title=wikipedia_3386_Tithe_Barn,_Pilton_text.txt, concr=2.06\n",
      "[13:41:53] 3387) title=wikipedia_3387_Yitzhak_Zuckerman_text.txt, concr=1.88\n",
      "[13:41:55] 3388) title=wikipedia_3388_Ayamma_text.txt          , concr=1.73\n",
      "[13:41:56] 3389) title=wikipedia_3389_The_Luck_o'_the_Foolish_text.txt, concr=1.96\n",
      "[13:41:57] 3390) title=wikipedia_3390_The_Devil's_Discus_text.txt, concr=1.76\n",
      "[13:41:59] 3391) title=wikipedia_3391_Invest_Lithuania_text.txt, concr=1.72\n",
      "[13:41:59] 3392) title=wikipedia_3392_Surtees_Rail_Bridge_text.txt, concr=2.18\n",
      "[13:42:01] 3393) title=wikipedia_3393_Nyx_(Marvel_Comics)_text.txt, concr=1.79\n",
      "[13:42:02] 3394) title=wikipedia_3394_USS_Tinosa_(SSN-606)_text.txt, concr=2.05\n",
      "[13:42:04] 3395) title=wikipedia_3395_Ayyanthole_text.txt      , concr=1.98\n",
      "[13:42:04] 3396) title=wikipedia_3396_John_Aber_text.txt       , concr=1.83\n",
      "[13:42:05] 3397) title=wikipedia_3397_Marc_Andrus_text.txt     , concr=1.89\n",
      "[13:42:05] 3398) title=wikipedia_3398_Kenneth_B._Hobson_text.txt, concr=2.06\n",
      "[13:42:07] 3399) title=wikipedia_3399_Kosen-rufu_text.txt      , concr=1.62\n",
      "[13:42:08] 3400) title=wikipedia_3400_Jinqing_Caroline_Cai_text.txt, concr=1.81\n",
      "[13:42:09] 3401) title=wikipedia_3401_Naima_Mora_text.txt      , concr=2.00\n",
      "[13:42:11] 3402) title=wikipedia_3402_Leadhills_and_Wanlockhead_Branch_text.txt, concr=1.99\n",
      "[13:42:11] 3403) title=wikipedia_3403_Ventell_Bryant_text.txt  , concr=1.94\n",
      "[13:42:13] 3404) title=wikipedia_3404_Battle_of_Chaul_text.txt , concr=1.81\n",
      "[13:42:14] 3405) title=wikipedia_3405_Central_American_&_Caribbean_Tennis_Confederation_text.txt, concr=1.79\n",
      "[13:42:15] 3406) title=wikipedia_3406_Château_de_Pau_text.txt  , concr=1.79\n",
      "[13:42:17] 3407) title=wikipedia_3407_Ananta_Singh_text.txt    , concr=1.87\n",
      "[13:42:19] 3408) title=wikipedia_3408_Ausa_(river)_text.txt    , concr=2.03\n",
      "[13:42:20] 3409) title=wikipedia_3409_EM_algorithm_and_GMM_model_text.txt, concr=1.52\n",
      "[13:42:20] 3410) title=wikipedia_3410_Erica_Powell_text.txt    , concr=1.71\n",
      "[13:42:21] 3411) title=wikipedia_3411_Solar_eclipse_of_February_24,_1933_text.txt, concr=1.91\n",
      "[13:42:21] 3412) title=wikipedia_3412_Frank_S._Greene_text.txt , concr=1.81\n",
      "[13:42:22] 3413) title=wikipedia_3413_Rabbit_Redux_text.txt    , concr=1.78\n",
      "[13:42:23] 3414) title=wikipedia_3414_USAbilAraby_text.txt     , concr=1.77\n",
      "[13:42:24] 3415) title=wikipedia_3415_Xerophthalmia_text.txt   , concr=1.82\n",
      "[13:42:24] 3416) title=wikipedia_3416_Victor_Lundberg_text.txt , concr=1.81\n",
      "[13:42:25] 3417) title=wikipedia_3417_Victor_Stabin_text.txt   , concr=2.01\n",
      "[13:42:27] 3418) title=wikipedia_3418_German_trawler_V_212_Friedrich_Busse_text.txt, concr=2.05\n",
      "[13:42:28] 3419) title=wikipedia_3419_Rave_The_Planet_Parade_text.txt, concr=1.73\n",
      "[13:42:28] 3420) title=wikipedia_3420_Dolly_Allen_text.txt     , concr=1.94\n",
      "[13:42:30] 3421) title=wikipedia_3421_Rufous_spinetail_text.txt, concr=1.90\n",
      "[13:42:31] 3422) title=wikipedia_3422_13th_Division_(German_Empire)_text.txt, concr=1.75\n",
      "[13:42:33] 3423) title=wikipedia_3423_Jahazpur_text.txt        , concr=1.89\n",
      "[13:42:34] 3424) title=wikipedia_3424_Japanese_settlement_in_New_Caledonia_text.txt, concr=1.84\n",
      "[13:42:36] 3425) title=wikipedia_3425_German_Order_of_Harugari_text.txt, concr=1.71\n",
      "[13:42:37] 3426) title=wikipedia_3426_The_Big_Snooze_text.txt  , concr=1.94\n",
      "[13:42:37] 3427) title=wikipedia_3427_Balmville_Tree_text.txt  , concr=1.88\n",
      "[13:42:39] 3428) title=wikipedia_3428_Asterix_the_Gladiator_text.txt, concr=1.81\n",
      "[13:42:40] 3429) title=wikipedia_3429_This_Land_Is_Mine_(film)_text.txt, concr=1.73\n",
      "[13:42:42] 3430) title=wikipedia_3430_KBRT_text.txt            , concr=2.01\n",
      "[13:42:42] 3431) title=wikipedia_3431_Ireland_Neptune_text.txt , concr=1.95\n",
      "[13:42:43] 3432) title=wikipedia_3432_Mills,_Wyoming_text.txt  , concr=1.82\n",
      "[13:42:44] 3433) title=wikipedia_3433_National_Highway_8_offensive_text.txt, concr=1.97\n",
      "[13:42:45] 3434) title=wikipedia_3434_Photographs_(You_Are_Taking_Now)_text.txt, concr=1.86\n",
      "[13:42:46] 3435) title=wikipedia_3435_Andrew_Bryan_(Baptist)_text.txt, concr=1.93\n",
      "[13:42:46] 3436) title=wikipedia_3436_Pierre_Polinière_text.txt, concr=1.76\n",
      "[13:42:48] 3437) title=wikipedia_3437_Anjuvannam_text.txt      , concr=1.93\n",
      "[13:42:48] 3438) title=wikipedia_3438_Elemental:_Fallen_Enchantress_text.txt, concr=1.79\n",
      "[13:42:49] 3439) title=wikipedia_3439_Quzhou_Stadium_text.txt  , concr=1.79\n",
      "[13:42:49] 3440) title=wikipedia_3440_Ethics_of_belief_text.txt, concr=1.45\n",
      "[13:42:51] 3441) title=wikipedia_3441_Issa_Lamine_text.txt     , concr=1.68\n",
      "[13:42:51] 3442) title=wikipedia_3442_Dead_Within_text.txt     , concr=1.81\n",
      "[13:42:52] 3443) title=wikipedia_3443_Weathering_rind_text.txt , concr=1.92\n",
      "[13:42:54] 3444) title=wikipedia_3444_Rudolf_Kirchner_text.txt , concr=1.69\n",
      "[13:42:54] 3445) title=wikipedia_3445_Lancashire_Archives_text.txt, concr=1.89\n",
      "[13:42:56] 3446) title=wikipedia_3446_Ammembal_Subba_Rao_Pai_text.txt, concr=1.75\n",
      "[13:42:57] 3447) title=wikipedia_3447_Joe_Allbritton_text.txt  , concr=2.03\n",
      "[13:42:58] 3448) title=wikipedia_3448_Development_Alternatives_with_Women_for_a_New_Era_text.txt, concr=1.78\n",
      "[13:42:59] 3449) title=wikipedia_3449_Dimitris_Athanitis_text.txt, concr=1.98\n",
      "[13:43:00] 3450) title=wikipedia_3450_Mark_Murray_(rugby_league)_text.txt, concr=1.81\n",
      "[13:43:01] 3451) title=wikipedia_3451_Architecture_of_Normandy_text.txt, concr=1.85\n",
      "[13:43:02] 3452) title=wikipedia_3452_Andy_Miah_text.txt       , concr=1.73\n",
      "[13:43:02] 3453) title=wikipedia_3453_Ken_Lucas_(politician)_text.txt, concr=1.78\n",
      "[13:43:04] 3454) title=wikipedia_3454_Bar_aux_Folies-Bergère_(ballet)_text.txt, concr=1.87\n",
      "[13:43:05] 3455) title=wikipedia_3455_Cornell_A._Wilson_Jr._text.txt, concr=1.97\n",
      "[13:43:05] 3456) title=wikipedia_3456_Danielle_Cain_text.txt   , concr=1.74\n",
      "[13:43:06] 3457) title=wikipedia_3457_Real_Time_Opera_text.txt , concr=2.04\n",
      "[13:43:07] 3458) title=wikipedia_3458_Sharp_Corner_text.txt    , concr=1.81\n",
      "[13:43:08] 3459) title=wikipedia_3459_Zaynab_bint_Khuzayma_text.txt, concr=1.74\n",
      "[13:43:10] 3460) title=wikipedia_3460_CHYR-FM_text.txt         , concr=1.93\n",
      "[13:43:10] 3461) title=wikipedia_3461_Belmont_Castle_text.txt  , concr=2.04\n",
      "[13:43:12] 3462) title=wikipedia_3462_Rodrigo_Álvarez_text.txt , concr=1.71\n",
      "[13:43:14] 3463) title=wikipedia_3463_The_Faded_Sun_Trilogy_text.txt, concr=1.73\n",
      "[13:43:14] 3464) title=wikipedia_3464_The_Prince_of_Pennsylvania_text.txt, concr=1.93\n",
      "[13:43:16] 3465) title=wikipedia_3465_Path_MTU_Discovery_text.txt, concr=1.82\n",
      "[13:43:17] 3466) title=wikipedia_3466_John_Snow,_Inc_text.txt  , concr=1.77\n",
      "[13:43:18] 3467) title=wikipedia_3467_Dorinne_Kondo_text.txt   , concr=1.74\n",
      "[13:43:20] 3468) title=wikipedia_3468_Mexican_twelve-string_guitar_text.txt, concr=1.80\n"
     ]
    },
    {
     "name": "stdout",
     "output_type": "stream",
     "text": [
      "[13:43:21] 3469) title=wikipedia_3469_Chelembra_bank_robbery_text.txt, concr=1.87\n",
      "[13:43:23] 3470) title=wikipedia_3470_The_Devil_in_the_Dark_(Defiance)_text.txt, concr=1.69\n",
      "[13:43:23] 3471) title=wikipedia_3471_Spokane_Street_Bridge_text.txt, concr=2.08\n",
      "[13:43:24] 3472) title=wikipedia_3472_The_Path_of_the_King_text.txt, concr=1.61\n",
      "[13:43:25] 3473) title=wikipedia_3473_Ilir_Ikonomi_text.txt    , concr=1.86\n",
      "[13:43:26] 3474) title=wikipedia_3474_Canadian_University_Synchronized_Swimming_League_text.txt, concr=1.85\n",
      "[13:43:27] 3475) title=wikipedia_3475_January_8–13,_2011_nor'easter_text.txt, concr=2.09\n",
      "[13:43:27] 3476) title=wikipedia_3476_The_Toll_of_the_Sea_text.txt, concr=1.94\n",
      "[13:43:29] 3477) title=wikipedia_3477_Nicolasa_Machaca_text.txt, concr=1.87\n",
      "[13:43:30] 3478) title=wikipedia_3478_Ya_viene_el_Sol_text.txt , concr=1.76\n",
      "[13:43:31] 3479) title=wikipedia_3479_Claire_St-Arnaud_text.txt, concr=1.88\n",
      "[13:43:35] 3480) title=wikipedia_3480_Hēni_Te_Kiri_Karamū_text.txt, concr=1.93\n",
      "[13:43:36] 3481) title=wikipedia_3481_Marcus_Pembrey_text.txt  , concr=1.81\n",
      "[13:43:37] 3482) title=wikipedia_3482_Ludwig_von_Wolzogen_text.txt, concr=1.71\n",
      "[13:43:38] 3483) title=wikipedia_3483_DAF_Daffodil_text.txt    , concr=1.80\n",
      "[13:43:40] 3484) title=wikipedia_3484_Orphulella_speciosa_text.txt, concr=1.90\n",
      "[13:43:40] 3485) title=wikipedia_3485_Child_tax_credit_text.txt, concr=1.72\n",
      "[13:43:42] 3486) title=wikipedia_3486_Yelena_Bondarenko_(Russian_politician)_text.txt, concr=1.71\n",
      "[13:43:43] 3487) title=wikipedia_3487_Kote_Abkhazi_text.txt    , concr=1.80\n",
      "[13:43:47] 3488) title=wikipedia_3488_Sri_Sunama_Jakini_Matha_text.txt, concr=2.06\n",
      "[13:43:48] 3489) title=wikipedia_3489_James_B._Bradwell_text.txt, concr=1.92\n",
      "[13:43:50] 3490) title=wikipedia_3490_Mihemed_Şêxo_text.txt    , concr=1.71\n",
      "[13:43:50] 3491) title=wikipedia_3491_Broadway_Love_text.txt   , concr=1.95\n",
      "[13:43:51] 3492) title=wikipedia_3492_Sophie_Tieck_text.txt    , concr=1.77\n",
      "[13:43:52] 3493) title=wikipedia_3493_C._E._Bowden_text.txt    , concr=1.88\n",
      "[13:43:53] 3494) title=wikipedia_3494_Archives_of_Terror_text.txt, concr=1.90\n",
      "[13:43:53] 3495) title=wikipedia_3495_M9_(New_York_City_bus)_text.txt, concr=2.34\n",
      "[13:43:54] 3496) title=wikipedia_3496_Aharon_Yariv_text.txt    , concr=1.75\n",
      "[13:43:55] 3497) title=wikipedia_3497_Blue_Chapel_text.txt     , concr=1.90\n",
      "[13:43:56] 3498) title=wikipedia_3498_Balch_Hotel_text.txt     , concr=2.05\n",
      "[13:43:57] 3499) title=wikipedia_3499_Swedish_Defence_Research_Agency_text.txt, concr=1.66\n",
      "[13:43:58] 3500) title=wikipedia_3500_Charles_Linn_text.txt    , concr=2.00\n",
      "[13:43:59] 3501) title=wikipedia_3501_Parioxys_text.txt        , concr=1.79\n",
      "[13:44:00] 3502) title=wikipedia_3502_Enable_Networks_text.txt , concr=1.79\n",
      "[13:44:01] 3503) title=wikipedia_3503_Thomas_Harley_(of_Kinsham)_text.txt, concr=1.75\n",
      "[13:44:02] 3504) title=wikipedia_3504_Kihachi_Enomoto_text.txt , concr=1.80\n",
      "[13:44:04] 3505) title=wikipedia_3505_Choe_Yong-deok_text.txt  , concr=1.86\n",
      "[13:44:05] 3506) title=wikipedia_3506_Woob_1194_text.txt       , concr=1.84\n",
      "[13:44:06] 3507) title=wikipedia_3507_Geographical_bias_on_Wikipedia_text.txt, concr=1.72\n",
      "[13:44:07] 3508) title=wikipedia_3508_Encyclical_text.txt      , concr=1.55\n",
      "[13:44:08] 3509) title=wikipedia_3509_Abbey104_text.txt        , concr=1.98\n",
      "[13:44:10] 3510) title=wikipedia_3510_Antoine_de_Bosc_de_la_Calmette_text.txt, concr=1.96\n",
      "[13:44:10] 3511) title=wikipedia_3511_Honda_Interceptor_VF750F_text.txt, concr=2.02\n",
      "[13:44:13] 3512) title=wikipedia_3512_César_Camacho_Quiroz_text.txt, concr=1.70\n",
      "[13:44:14] 3513) title=wikipedia_3513_Intercontinental_Correspondence_University_text.txt, concr=1.73\n",
      "[13:44:15] 3514) title=wikipedia_3514_Claus_Zundel_text.txt    , concr=1.83\n",
      "[13:44:16] 3515) title=wikipedia_3515_Hans_Lipperhey_text.txt  , concr=1.85\n",
      "[13:44:16] 3516) title=wikipedia_3516_Kingfisher_(McKillip_novel)_text.txt, concr=1.70\n",
      "[13:44:17] 3517) title=wikipedia_3517_Statue_of_Frederick_the_Great_(Szczecin)_text.txt, concr=2.00\n",
      "[13:44:18] 3518) title=wikipedia_3518_William_Coulson_(mining_engineer)_text.txt, concr=2.04\n",
      "[13:44:19] 3519) title=wikipedia_3519_Greenwood_&_Hall_text.txt, concr=2.02\n",
      "[13:44:21] 3520) title=wikipedia_3520_Berga,_Haninge_Municipality_text.txt, concr=1.98\n",
      "[13:44:23] 3521) title=wikipedia_3521_The_Destroyed_City_text.txt, concr=1.92\n",
      "[13:44:24] 3522) title=wikipedia_3522_Public_Leadership_Education_Network_text.txt, concr=1.86\n",
      "[13:44:24] 3523) title=wikipedia_3523_Sunshine_Coast_Grammar_School_text.txt, concr=1.94\n",
      "[13:44:26] 3524) title=wikipedia_3524_Albatros_D.II_text.txt   , concr=1.98\n",
      "[13:44:27] 3525) title=wikipedia_3525_Cory_Quirino_text.txt    , concr=1.95\n",
      "[13:44:30] 3526) title=wikipedia_3526_Haim_Amsalem_text.txt    , concr=1.72\n",
      "[13:44:31] 3527) title=wikipedia_3527_Country_Music_Association_text.txt, concr=1.90\n",
      "[13:44:32] 3528) title=wikipedia_3528_Number_One_with_a_Bullet_(film)_text.txt, concr=1.88\n",
      "[13:44:32] 3529) title=wikipedia_3529_Wrinkles_the_Clown_(film)_text.txt, concr=1.91\n",
      "[13:44:33] 3530) title=wikipedia_3530_Memorandum_on_Genuine_Autonomy_text.txt, concr=1.61\n",
      "[13:44:34] 3531) title=wikipedia_3531_Unstan_ware_text.txt     , concr=1.76\n",
      "[13:44:35] 3532) title=wikipedia_3532_Taguma_Ishihatake_Site_text.txt, concr=2.08\n",
      "[13:44:36] 3533) title=wikipedia_3533_Aryn_Baker_text.txt      , concr=2.04\n",
      "[13:44:37] 3534) title=wikipedia_3534_St_John_Ambulance_Victoria_text.txt, concr=1.95\n",
      "[13:44:38] 3535) title=wikipedia_3535_HMS_Bulolo_text.txt      , concr=2.13\n",
      "[13:44:39] 3536) title=wikipedia_3536_ArtFacts.Net_text.txt    , concr=1.69\n",
      "[13:44:40] 3537) title=wikipedia_3537_Tropical_Storm_Jose_(2005)_text.txt, concr=1.98\n",
      "[13:44:42] 3538) title=wikipedia_3538_Ernst_Huberty_text.txt   , concr=1.94\n",
      "[13:44:42] 3539) title=wikipedia_3539_University_of_Minnesota_College_of_Food,_Agricultural_and_Natural_Resource_Sciences_text.txt, concr=2.01\n",
      "[13:44:42] 3540) title=wikipedia_3540_South_Park,_San_Diego_text.txt, concr=2.22\n",
      "[13:44:43] 3541) title=wikipedia_3541_Philatelic_cover_text.txt, concr=1.81\n",
      "[13:44:44] 3542) title=wikipedia_3542_Ibrahim_Shekarau_text.txt, concr=1.73\n",
      "[13:44:45] 3543) title=wikipedia_3543_Jonathan_Hensleigh_text.txt, concr=1.85\n",
      "[13:44:46] 3544) title=wikipedia_3544_Todd_Schlopy_text.txt    , concr=2.17\n",
      "[13:44:46] 3545) title=wikipedia_3545_Ski_Cape_Smokey_text.txt , concr=2.13\n",
      "[13:44:47] 3546) title=wikipedia_3546_Inshore_Fisheries_and_Conservation_Authority_text.txt, concr=1.76\n",
      "[13:44:48] 3547) title=wikipedia_3547_Wolfpack_Hai_text.txt    , concr=2.18\n",
      "[13:44:49] 3548) title=wikipedia_3548_80th_New_York_Infantry_Regiment_text.txt, concr=2.00\n",
      "[13:44:49] 3549) title=wikipedia_3549_Book_sales_club_text.txt , concr=1.96\n",
      "[13:44:50] 3550) title=wikipedia_3550_Leeswood_Hall_text.txt   , concr=1.91\n",
      "[13:44:52] 3551) title=wikipedia_3551_Karlstadt,_Germany_text.txt, concr=1.94\n",
      "[13:44:53] 3552) title=wikipedia_3552_John_Lowenstein_text.txt , concr=1.96\n",
      "[13:44:54] 3553) title=wikipedia_3553_Echo_Bay_(Long_Island_Sound)_text.txt, concr=2.10\n",
      "[13:44:55] 3554) title=wikipedia_3554_Killed_by_Death_(Buffy_the_Vampire_Slayer)_text.txt, concr=1.81\n",
      "[13:44:56] 3555) title=wikipedia_3555_Edward_Phelips_(speaker)_text.txt, concr=1.85\n",
      "[13:44:57] 3556) title=wikipedia_3556_Stephen_Liu_text.txt     , concr=1.78\n",
      "[13:44:58] 3557) title=wikipedia_3557_GE_U25C_text.txt         , concr=1.98\n",
      "[13:44:59] 3558) title=wikipedia_3558_Himalayan_Wildlife_Foundation_text.txt, concr=1.91\n",
      "[13:45:00] 3559) title=wikipedia_3559_SciTech_(magazine)_text.txt, concr=1.72\n",
      "[13:45:01] 3560) title=wikipedia_3560_William_Wotherspoon_(rugby_union)_text.txt, concr=2.06\n",
      "[13:45:02] 3561) title=wikipedia_3561_Abol_Hassan_Ebtehaj_text.txt, concr=1.79\n",
      "[13:45:03] 3562) title=wikipedia_3562_M11_39_tank_text.txt     , concr=1.87\n",
      "[13:45:03] 3563) title=wikipedia_3563_Canada_Health_Infoway_text.txt, concr=1.69\n",
      "[13:45:04] 3564) title=wikipedia_3564_Fannie_Birckhead_text.txt, concr=2.08\n",
      "[13:45:05] 3565) title=wikipedia_3565_Loot_(1970_film)_text.txt, concr=1.79\n",
      "[13:45:06] 3566) title=wikipedia_3566_Farmers'_suicides_in_western_Odisha_text.txt, concr=1.89\n",
      "[13:45:07] 3567) title=wikipedia_3567_Eliza_Biscaccianti_text.txt, concr=1.80\n",
      "[13:45:08] 3568) title=wikipedia_3568_Watashi_(song)_text.txt  , concr=1.72\n"
     ]
    },
    {
     "name": "stdout",
     "output_type": "stream",
     "text": [
      "[13:45:09] 3569) title=wikipedia_3569_Panther_Den_Wilderness_text.txt, concr=2.20\n",
      "[13:45:10] 3570) title=wikipedia_3570_Alessandro_Bausani_text.txt, concr=1.67\n",
      "[13:45:12] 3571) title=wikipedia_3571_Agasthyavanam_Biological_Park_text.txt, concr=1.90\n",
      "[13:45:12] 3572) title=wikipedia_3572_The_Dance_of_Life_(film)_text.txt, concr=1.83\n",
      "[13:45:12] 3573) title=wikipedia_3573_Jesse_English_text.txt   , concr=1.85\n",
      "[13:45:14] 3574) title=wikipedia_3574_St._George's_Castle,_Preveza_text.txt, concr=1.83\n",
      "[13:45:14] 3575) title=wikipedia_3575_Grange_Park,_Northamptonshire_text.txt, concr=2.02\n",
      "[13:45:15] 3576) title=wikipedia_3576_All-Red_Route_text.txt   , concr=1.91\n",
      "[13:45:16] 3577) title=wikipedia_3577_Leaving_Metropolis_text.txt, concr=1.92\n",
      "[13:45:17] 3578) title=wikipedia_3578_Komotini_railway_station_text.txt, concr=2.02\n",
      "[13:45:18] 3579) title=wikipedia_3579_Mildred_Mitchell-Bateman_text.txt, concr=1.77\n",
      "[13:45:19] 3580) title=wikipedia_3580_674th_Bombardment_Squadron_text.txt, concr=2.00\n",
      "[13:45:20] 3581) title=wikipedia_3581_Scale-throated_earthcreeper_text.txt, concr=1.99\n",
      "[13:45:21] 3582) title=wikipedia_3582_Byron_L._Johnson_text.txt, concr=2.02\n",
      "[13:45:21] 3583) title=wikipedia_3583_Thomas_D._Sharkey_text.txt, concr=1.94\n",
      "[13:45:22] 3584) title=wikipedia_3584_Lenard_Moore_text.txt    , concr=1.85\n",
      "[13:45:23] 3585) title=wikipedia_3585_Joshua_Jortner_text.txt  , concr=1.71\n",
      "[13:45:23] 3586) title=wikipedia_3586_Keith_King_text.txt      , concr=2.04\n",
      "[13:45:24] 3587) title=wikipedia_3587_Alexander_Montgomery_(1720–1800)_text.txt, concr=1.85\n",
      "[13:45:25] 3588) title=wikipedia_3588_Subjectification_(linguistics)_text.txt, concr=1.36\n",
      "[13:45:26] 3589) title=wikipedia_3589_Shanaka_Fernando_text.txt, concr=1.75\n",
      "[13:45:27] 3590) title=wikipedia_3590_Jim_Morin_text.txt       , concr=2.05\n",
      "[13:45:28] 3591) title=wikipedia_3591_Clarence_H._Cooke_House_text.txt, concr=1.97\n",
      "[13:45:29] 3592) title=wikipedia_3592_Fordhouses_text.txt      , concr=2.17\n",
      "[13:45:31] 3593) title=wikipedia_3593_Noordsche_Compagnie_text.txt, concr=1.92\n",
      "[13:45:31] 3594) title=wikipedia_3594_Atlas_SLV-3_text.txt     , concr=1.91\n",
      "[13:45:33] 3595) title=wikipedia_3595_Józef_Wrycza_text.txt    , concr=1.71\n",
      "[13:45:34] 3596) title=wikipedia_3596_Manly–Balzer_engine_text.txt, concr=1.85\n",
      "[13:45:35] 3597) title=wikipedia_3597_Major_third_text.txt     , concr=1.46\n",
      "[13:45:36] 3598) title=wikipedia_3598_Sestri_Levante_railway_station_text.txt, concr=1.88\n",
      "[13:45:37] 3599) title=wikipedia_3599_Ken_Marcus_text.txt      , concr=2.06\n",
      "[13:45:38] 3600) title=wikipedia_3600_The_Marc_Maron_Show_text.txt, concr=1.76\n",
      "[13:45:39] 3601) title=wikipedia_3601_John_St_Clair,_Master_of_Sinclair_text.txt, concr=1.79\n",
      "[13:45:41] 3602) title=wikipedia_3602_Vela_Gutiérrez_text.txt  , concr=1.74\n",
      "[13:45:41] 3603) title=wikipedia_3603_Ballot_Monkeys_text.txt  , concr=1.75\n",
      "[13:45:43] 3604) title=wikipedia_3604_WDJQ_text.txt            , concr=1.92\n",
      "[13:45:44] 3605) title=wikipedia_3605_Language_Log_text.txt    , concr=1.66\n",
      "[13:45:46] 3606) title=wikipedia_3606_Lucca_Cathedral_text.txt , concr=1.80\n",
      "[13:45:47] 3607) title=wikipedia_3607_Mefo_bills_text.txt      , concr=1.64\n",
      "[13:45:47] 3608) title=wikipedia_3608_Neversink_Reservoir_text.txt, concr=2.03\n",
      "[13:45:48] 3609) title=wikipedia_3609_Airworthiness_certificate_text.txt, concr=1.71\n",
      "[13:45:48] 3610) title=wikipedia_3610_John_Willock_Noble_text.txt, concr=1.82\n",
      "[13:45:49] 3611) title=wikipedia_3611_Todd_Ellis_Kessler_text.txt, concr=1.78\n",
      "[13:45:50] 3612) title=wikipedia_3612_Henry_W._Antheil_Jr._text.txt, concr=1.94\n",
      "[13:45:52] 3613) title=wikipedia_3613_Dasht-e_Yahudi_text.txt  , concr=1.83\n",
      "[13:45:54] 3614) title=wikipedia_3614_Sudhir_M._Parikh_text.txt, concr=1.81\n",
      "[13:45:54] 3615) title=wikipedia_3615_The_Sense_of_the_Past_text.txt, concr=1.67\n",
      "[13:45:55] 3616) title=wikipedia_3616_Kirby,_Petit_&_Green_text.txt, concr=1.97\n",
      "[13:45:56] 3617) title=wikipedia_3617_Tedford_H._Cann_text.txt , concr=1.90\n",
      "[13:45:58] 3618) title=wikipedia_3618_Ukrainian_Culturological_Club_text.txt, concr=1.81\n",
      "[13:45:58] 3619) title=wikipedia_3619_Scenery_generator_text.txt, concr=1.85\n",
      "[13:45:59] 3620) title=wikipedia_3620_Jody_Reed_text.txt       , concr=2.06\n",
      "[13:46:01] 3621) title=wikipedia_3621_Manuel_Payno_text.txt    , concr=1.79\n",
      "[13:46:02] 3622) title=wikipedia_3622_New_Yorker_Films_text.txt, concr=1.92\n",
      "[13:46:04] 3623) title=wikipedia_3623_Karen_Ansel_text.txt     , concr=1.93\n",
      "[13:46:05] 3624) title=wikipedia_3624_Robinson–Gabriel_synthesis_text.txt, concr=1.89\n",
      "[13:46:07] 3625) title=wikipedia_3625_Lazarev_Institute_of_Oriental_Languages_text.txt, concr=1.94\n",
      "[13:46:07] 3626) title=wikipedia_3626_Mary_Beck_text.txt       , concr=2.01\n",
      "[13:46:08] 3627) title=wikipedia_3627_The_Birth_of_a_Race_text.txt, concr=1.80\n",
      "[13:46:09] 3628) title=wikipedia_3628_Island6_text.txt         , concr=1.92\n",
      "[13:46:10] 3629) title=wikipedia_3629_Radiation_damping_text.txt, concr=1.63\n",
      "[13:46:10] 3630) title=wikipedia_3630_Demonstrative_evidence_text.txt, concr=1.61\n",
      "[13:46:11] 3631) title=wikipedia_3631_James_K._Polk_1844_presidential_campaign_text.txt, concr=1.78\n",
      "[13:46:11] 3632) title=wikipedia_3632_Miomantis_caffra_text.txt, concr=1.98\n",
      "[13:46:13] 3633) title=wikipedia_3633_Alphonse_Balat_text.txt  , concr=1.81\n",
      "[13:46:14] 3634) title=wikipedia_3634_Cortinarius_heatherae_text.txt, concr=1.96\n",
      "[13:46:15] 3635) title=wikipedia_3635_Schroeder_Mountain_text.txt, concr=2.01\n",
      "[13:46:19] 3636) title=wikipedia_3636_Bacchu_Kailash_text.txt  , concr=1.85\n",
      "[13:46:20] 3637) title=wikipedia_3637_Hôtel_de_Ville,_Villejuif_text.txt, concr=1.87\n",
      "[13:46:21] 3638) title=wikipedia_3638_William_Johnston_(painter)_text.txt, concr=1.85\n",
      "[13:46:23] 3639) title=wikipedia_3639_NodeMCU_text.txt         , concr=1.79\n",
      "[13:46:24] 3640) title=wikipedia_3640_Thomas_Girtin_text.txt   , concr=1.99\n",
      "[13:46:25] 3641) title=wikipedia_3641_Russian_Orbital_Service_Station_text.txt, concr=1.75\n",
      "[13:46:27] 3642) title=wikipedia_3642_Alikianos_executions_text.txt, concr=1.90\n",
      "[13:46:27] 3643) title=wikipedia_3643_London_(Jesus_Jones_album)_text.txt, concr=1.73\n",
      "[13:46:28] 3644) title=wikipedia_3644_Robert_Barr_Smith_text.txt, concr=1.95\n",
      "[13:46:29] 3645) title=wikipedia_3645_Black_snake_(firework)_text.txt, concr=2.05\n",
      "[13:46:29] 3646) title=wikipedia_3646_Baraka_Atkins_text.txt   , concr=1.91\n",
      "[13:46:31] 3647) title=wikipedia_3647_Guy_Bates_Post_text.txt  , concr=2.00\n",
      "[13:46:31] 3648) title=wikipedia_3648_Because_of_Me_text.txt   , concr=1.73\n",
      "[13:46:34] 3649) title=wikipedia_3649_Radyo_Natin_text.txt     , concr=1.96\n",
      "[13:46:35] 3650) title=wikipedia_3650_Alcalá_la_Real_text.txt  , concr=1.77\n",
      "[13:46:36] 3651) title=wikipedia_3651_Sainsbury_Centre_for_Visual_Arts_text.txt, concr=1.85\n",
      "[13:46:37] 3652) title=wikipedia_3652_Alessandro_Sforza_(cardinal)_text.txt, concr=1.83\n",
      "[13:46:38] 3653) title=wikipedia_3653_Thomas_J._Balkany_text.txt, concr=2.05\n",
      "[13:46:40] 3654) title=wikipedia_3654_Yasuo_Yuasa_text.txt     , concr=1.60\n",
      "[13:46:41] 3655) title=wikipedia_3655_Harkness_Tower_text.txt  , concr=2.07\n",
      "[13:46:42] 3656) title=wikipedia_3656_Tape.tv_text.txt         , concr=1.87\n",
      "[13:46:43] 3657) title=wikipedia_3657_Seefliegerhorst_Aalborg_text.txt, concr=2.08\n",
      "[13:46:44] 3658) title=wikipedia_3658_1st_Paratroopers_Battalion_(Belgium)_text.txt, concr=1.96\n",
      "[13:46:45] 3659) title=wikipedia_3659_Abraham_Kattumana_text.txt, concr=1.88\n",
      "[13:46:46] 3660) title=wikipedia_3660_Buckman_(company)_text.txt, concr=2.08\n",
      "[13:46:47] 3661) title=wikipedia_3661_James_L._Connaughton_text.txt, concr=1.87\n",
      "[13:46:47] 3662) title=wikipedia_3662_Boyer–Moore_majority_vote_algorithm_text.txt, concr=1.45\n",
      "[13:46:50] 3663) title=wikipedia_3663_Pen_Singam_text.txt      , concr=1.84\n",
      "[13:46:50] 3664) title=wikipedia_3664_Schizo_(1976_film)_text.txt, concr=1.86\n",
      "[13:46:51] 3665) title=wikipedia_3665_Insurance_in_the_United_Kingdom_text.txt, concr=1.49\n",
      "[13:46:53] 3666) title=wikipedia_3666_Veronika_Cifrová_Ostrihoňová_text.txt, concr=1.89\n",
      "[13:46:54] 3667) title=wikipedia_3667_Juma_Sustainable_Development_Reserve_text.txt, concr=1.82\n",
      "[13:46:55] 3668) title=wikipedia_3668_Shroud_of_Shadow_text.txt, concr=1.81\n",
      "[13:46:57] 3669) title=wikipedia_3669_Charles_Noke_text.txt    , concr=1.81\n",
      "[13:46:58] 3670) title=wikipedia_3670_Pacific_Institute_of_Public_Policy_text.txt, concr=1.83\n"
     ]
    },
    {
     "name": "stdout",
     "output_type": "stream",
     "text": [
      "[13:46:59] 3671) title=wikipedia_3671_The_Sunday_Telegraph_(Sydney)_text.txt, concr=1.81\n",
      "[13:46:59] 3672) title=wikipedia_3672_John_Turner_(psychologist)_text.txt, concr=1.53\n",
      "[13:47:00] 3673) title=wikipedia_3673_Jerry_King_(musician)_text.txt, concr=2.08\n",
      "[13:47:01] 3674) title=wikipedia_3674_Nazik_al-Abid_text.txt   , concr=1.87\n",
      "[13:47:01] 3675) title=wikipedia_3675_Teepoo_Hall_text.txt     , concr=1.87\n",
      "[13:47:03] 3676) title=wikipedia_3676_Fort_Nossa_Senhora_da_Queimada_text.txt, concr=1.88\n",
      "[13:47:03] 3677) title=wikipedia_3677_The_Merchant_Venturer_text.txt, concr=1.89\n",
      "[13:47:04] 3678) title=wikipedia_3678_Coconut_production_in_Niue_text.txt, concr=2.06\n",
      "[13:47:06] 3679) title=wikipedia_3679_Hechizo_de_amor_text.txt , concr=1.70\n",
      "[13:47:07] 3680) title=wikipedia_3680_Substructure_(mathematics)_text.txt, concr=1.50\n",
      "[13:47:08] 3681) title=wikipedia_3681_Clementia_of_Hungary_text.txt, concr=1.97\n",
      "[13:47:09] 3682) title=wikipedia_3682_Imicus_text.txt          , concr=1.97\n",
      "[13:47:10] 3683) title=wikipedia_3683_The_Devil's_Brother_text.txt, concr=1.73\n",
      "[13:47:11] 3684) title=wikipedia_3684_Richards'_theorem_text.txt, concr=1.38\n",
      "[13:47:15] 3685) title=wikipedia_3685_Hasan_Kuchak_text.txt    , concr=1.84\n",
      "[13:47:16] 3686) title=wikipedia_3686_Beast_Busters_text.txt   , concr=2.02\n",
      "[13:47:18] 3687) title=wikipedia_3687_Stompa_text.txt          , concr=1.80\n",
      "[13:47:19] 3688) title=wikipedia_3688_John_B._Nowell_text.txt  , concr=2.07\n",
      "[13:47:23] 3689) title=wikipedia_3689_Dilip_Dholakia_text.txt  , concr=2.03\n",
      "[13:47:24] 3690) title=wikipedia_3690_Omar_Khaled_text.txt     , concr=1.81\n",
      "[13:47:25] 3691) title=wikipedia_3691_Henry_Cadogan_(British_Army_officer)_text.txt, concr=1.83\n",
      "[13:47:27] 3692) title=wikipedia_3692_Moheschunder_Bannerjee_text.txt, concr=1.77\n",
      "[13:47:27] 3693) title=wikipedia_3693_Martyn_Gough_text.txt    , concr=1.80\n",
      "[13:47:28] 3694) title=wikipedia_3694_Delph_Locks_text.txt     , concr=2.02\n",
      "[13:47:29] 3695) title=wikipedia_3695_Jarrettsville,_Maryland_text.txt, concr=1.91\n",
      "[13:47:30] 3696) title=wikipedia_3696_SNCASO_Deltaviex_text.txt, concr=1.92\n",
      "[13:47:31] 3697) title=wikipedia_3697_The_Debate_(The_West_Wing)_text.txt, concr=1.59\n",
      "[13:47:33] 3698) title=wikipedia_3698_Franciszek_and_Magdalena_Banasiewicz_text.txt, concr=1.91\n",
      "[13:47:36] 3699) title=wikipedia_3699_Claramae_Turner_text.txt , concr=1.88\n",
      "[13:47:36] 3700) title=wikipedia_3700_Strategy_pattern_text.txt, concr=1.54\n",
      "[13:47:39] 3701) title=wikipedia_3701_Lastadie_text.txt        , concr=1.97\n",
      "[13:47:40] 3702) title=wikipedia_3702_Peggy_Duff_text.txt      , concr=1.85\n",
      "[13:47:41] 3703) title=wikipedia_3703_History_of_Bosnia_and_Herzegovina_(1941–1945)_text.txt, concr=1.75\n",
      "[13:47:42] 3704) title=wikipedia_3704_Arthur_Twining_Hadley_text.txt, concr=1.81\n",
      "[13:47:43] 3705) title=wikipedia_3705_HMS_Marlborough_(F233)_text.txt, concr=1.95\n",
      "[13:47:44] 3706) title=wikipedia_3706_2000_Rose_Bowl_text.txt  , concr=2.09\n",
      "[13:47:45] 3707) title=wikipedia_3707_Karlman_Wasserman_text.txt, concr=1.78\n",
      "[13:47:46] 3708) title=wikipedia_3708_KSKS_text.txt            , concr=2.08\n",
      "[13:47:48] 3709) title=wikipedia_3709_Riflemen's_Association_text.txt, concr=1.87\n",
      "[13:47:49] 3710) title=wikipedia_3710_Supergrass_(informant)_text.txt, concr=1.77\n",
      "[13:47:50] 3711) title=wikipedia_3711_Squatina_mapama_text.txt , concr=1.82\n",
      "[13:47:52] 3712) title=wikipedia_3712_Leon_Wasilewski_text.txt , concr=1.81\n",
      "[13:47:54] 3713) title=wikipedia_3713_Rüdiger_Kruse_text.txt   , concr=1.70\n",
      "[13:47:55] 3714) title=wikipedia_3714_Christopher_E._Rudd_text.txt, concr=1.86\n",
      "[13:47:55] 3715) title=wikipedia_3715_Illusory_continuity_of_tones_text.txt, concr=1.48\n",
      "[13:47:56] 3716) title=wikipedia_3716_Raymond_L._Erikson_text.txt, concr=1.83\n",
      "[13:47:57] 3717) title=wikipedia_3717_Richard_Pearis_text.txt  , concr=2.00\n",
      "[13:47:58] 3718) title=wikipedia_3718_Altar_Egos_(Arrested_Development)_text.txt, concr=1.83\n",
      "[13:48:00] 3719) title=wikipedia_3719_Nicolaus_Copernicus_Monument,_Toruń_text.txt, concr=2.01\n",
      "[13:48:03] 3720) title=wikipedia_3720_Kudrat_text.txt          , concr=1.79\n",
      "[13:48:04] 3721) title=wikipedia_3721_Higher_category_theory_text.txt, concr=1.40\n",
      "[13:48:07] 3722) title=wikipedia_3722_Ursula_Cain_text.txt     , concr=1.86\n",
      "[13:48:08] 3723) title=wikipedia_3723_Yellow_wattlebird_text.txt, concr=2.16\n",
      "[13:48:11] 3724) title=wikipedia_3724_Glenn_Miller_(album)_text.txt, concr=2.51\n",
      "[13:48:12] 3725) title=wikipedia_3725_Conrad_Paumann_text.txt  , concr=1.63\n",
      "[13:48:13] 3726) title=wikipedia_3726_Inegocia_japonica_text.txt, concr=1.91\n",
      "[13:48:14] 3727) title=wikipedia_3727_James_Hall_(minister)_text.txt, concr=1.99\n",
      "[13:48:17] 3728) title=wikipedia_3728_Moneynure_text.txt       , concr=1.95\n",
      "[13:48:19] 3729) title=wikipedia_3729_Cortinarius_ainsworthii_text.txt, concr=1.88\n",
      "[13:48:21] 3730) title=wikipedia_3730_Dmitry_Grave_text.txt    , concr=1.69\n",
      "[13:48:23] 3731) title=wikipedia_3731_Benyamin_Nuss_text.txt   , concr=2.00\n",
      "[13:48:24] 3732) title=wikipedia_3732_Trebjesa_brewery_text.txt, concr=2.09\n",
      "[13:48:26] 3733) title=wikipedia_3733_Fredriksholm_Fortress_text.txt, concr=2.00\n",
      "[13:48:27] 3734) title=wikipedia_3734_Patrick_Murdoch_text.txt , concr=1.87\n",
      "[13:48:28] 3735) title=wikipedia_3735_2_8th_Field_Regiment_(Australia)_text.txt, concr=1.82\n",
      "[13:48:29] 3736) title=wikipedia_3736_Robert_E._Paige_text.txt , concr=1.88\n",
      "[13:48:31] 3737) title=wikipedia_3737_Luz_María_Rondón_text.txt, concr=1.81\n",
      "[13:48:32] 3738) title=wikipedia_3738_Four_Winds_(EP)_text.txt , concr=1.76\n",
      "[13:48:33] 3739) title=wikipedia_3739_Parnassius_hardwickii_text.txt, concr=1.89\n",
      "[13:48:35] 3740) title=wikipedia_3740_Peter_Keefe_text.txt     , concr=1.99\n",
      "[13:48:36] 3741) title=wikipedia_3741_Master_Instructor_Continuing_Education_Program_text.txt, concr=1.72\n",
      "[13:48:36] 3742) title=wikipedia_3742_Jack_Andrews_(New_Zealand_politician)_text.txt, concr=1.75\n",
      "[13:48:37] 3743) title=wikipedia_3743_Hobbesian_trap_text.txt  , concr=1.61\n",
      "[13:48:39] 3744) title=wikipedia_3744_Neltuma_flexuosa_text.txt, concr=2.03\n",
      "[13:48:40] 3745) title=wikipedia_3745_Switch_Hitter_text.txt   , concr=1.83\n",
      "[13:48:40] 3746) title=wikipedia_3746_Jimmie_C._Holland_text.txt, concr=1.78\n",
      "[13:48:41] 3747) title=wikipedia_3747_Public_Law_113-34_text.txt, concr=1.71\n",
      "[13:48:42] 3748) title=wikipedia_3748_Guaytán_text.txt         , concr=1.95\n",
      "[13:48:43] 3749) title=wikipedia_3749_Pearly_Brown_text.txt    , concr=1.98\n",
      "[13:48:45] 3750) title=wikipedia_3750_EMLL_1st_Anniversary_Show_text.txt, concr=1.87\n",
      "[13:48:46] 3751) title=wikipedia_3751_Geddes_Axe_text.txt      , concr=1.58\n",
      "[13:48:47] 3752) title=wikipedia_3752_Henry_Jones_Lanchester_text.txt, concr=1.89\n",
      "[13:48:48] 3753) title=wikipedia_3753_Mr._Music_text.txt       , concr=1.85\n",
      "[13:48:49] 3754) title=wikipedia_3754_Heterodera_schachtii_text.txt, concr=2.00\n",
      "[13:48:50] 3755) title=wikipedia_3755_Laboratory_centrifuge_text.txt, concr=1.93\n",
      "[13:48:51] 3756) title=wikipedia_3756_Travnik_Castle_text.txt  , concr=1.90\n",
      "[13:48:53] 3757) title=wikipedia_3757_Gondwana_Kingdoms_text.txt, concr=1.85\n",
      "[13:48:54] 3758) title=wikipedia_3758_Pastis_text.txt          , concr=2.03\n",
      "[13:48:57] 3759) title=wikipedia_3759_Piaras_Feiritéar_text.txt, concr=1.82\n",
      "[13:48:58] 3760) title=wikipedia_3760_Andreas_Kronenberg_text.txt, concr=1.78\n",
      "[13:48:59] 3761) title=wikipedia_3761_Coercion_Act_text.txt    , concr=1.72\n",
      "[13:49:01] 3762) title=wikipedia_3762_Mount_Cereme_text.txt    , concr=1.99\n",
      "[13:49:02] 3763) title=wikipedia_3763_Ice_planet_text.txt      , concr=2.10\n",
      "[13:49:03] 3764) title=wikipedia_3764_Murder_of_Constable_Thomas_King_text.txt, concr=1.95\n",
      "[13:49:03] 3765) title=wikipedia_3765_Tracker_action_text.txt  , concr=1.81\n",
      "[13:49:04] 3766) title=wikipedia_3766_Germany–Iraq_relations_text.txt, concr=2.04\n",
      "[13:49:06] 3767) title=wikipedia_3767_The_Royal_Bengal_Tiger_(film)_text.txt, concr=1.82\n",
      "[13:49:08] 3768) title=wikipedia_3768_Tsugaru_Yasuchika_text.txt, concr=1.87\n",
      "[13:49:09] 3769) title=wikipedia_3769_Cletus_F._O'Donnell_text.txt, concr=1.83\n",
      "[13:49:11] 3770) title=wikipedia_3770_Anthropophagous_2000_text.txt, concr=1.87\n",
      "[13:49:12] 3771) title=wikipedia_3771_Tychicus_text.txt        , concr=1.68\n",
      "[13:49:13] 3772) title=wikipedia_3772_Zak_McKracken:_Between_Time_and_Space_text.txt, concr=1.76\n",
      "[13:49:13] 3773) title=wikipedia_3773_Yar's_Revenge_text.txt   , concr=1.73\n"
     ]
    },
    {
     "name": "stdout",
     "output_type": "stream",
     "text": [
      "[13:49:14] 3774) title=wikipedia_3774_Wieruszów_County_text.txt, concr=2.02\n",
      "[13:49:15] 3775) title=wikipedia_3775_Hate_Inc._text.txt       , concr=1.78\n",
      "[13:49:16] 3776) title=wikipedia_3776_Wenceslas_Munyeshyaka_text.txt, concr=1.76\n",
      "[13:49:17] 3777) title=wikipedia_3777_Apochromat_text.txt      , concr=1.77\n",
      "[13:49:18] 3778) title=wikipedia_3778_St_Mary's_Church,_Rotherhithe_text.txt, concr=2.01\n",
      "[13:49:18] 3779) title=wikipedia_3779_China_National_Baseball_League_text.txt, concr=1.85\n",
      "[13:49:19] 3780) title=wikipedia_3780_One_Last_Stop_text.txt   , concr=1.78\n",
      "[13:49:20] 3781) title=wikipedia_3781_Hostwriter_text.txt      , concr=1.87\n",
      "[13:49:22] 3782) title=wikipedia_3782_Joseph_Zerilli_text.txt  , concr=2.03\n",
      "[13:49:23] 3783) title=wikipedia_3783_Leon_Grochowski_text.txt , concr=1.96\n",
      "[13:49:23] 3784) title=wikipedia_3784_Elisabeth_Freeman_text.txt, concr=1.88\n",
      "[13:49:25] 3785) title=wikipedia_3785_Nedroma_text.txt         , concr=1.92\n",
      "[13:49:27] 3786) title=wikipedia_3786_Feliks_Ravdonikas_text.txt, concr=1.82\n",
      "[13:49:28] 3787) title=wikipedia_3787_Cecil_Ashburn_Drive_text.txt, concr=2.13\n",
      "[13:49:29] 3788) title=wikipedia_3788_Rafael_Conti_text.txt    , concr=1.85\n",
      "[13:49:30] 3789) title=wikipedia_3789_Annunciation_(Fra_Angelico,_San_Marco)_text.txt, concr=1.79\n",
      "[13:49:31] 3790) title=wikipedia_3790_Pizza-box_form_factor_text.txt, concr=1.91\n",
      "[13:49:31] 3791) title=wikipedia_3791_Canoe_Kayak_Canada_text.txt, concr=2.21\n",
      "[13:49:32] 3792) title=wikipedia_3792_15th_Independent_Battery_Indiana_Light_Artillery_text.txt, concr=2.55\n",
      "[13:49:33] 3793) title=wikipedia_3793_Doğan_Güreş_text.txt     , concr=1.73\n",
      "[13:49:35] 3794) title=wikipedia_3794_Drachenfels_Railway_text.txt, concr=2.09\n",
      "[13:49:35] 3795) title=wikipedia_3795_Michael_Sterling_text.txt, concr=1.79\n",
      "[13:49:36] 3796) title=wikipedia_3796_Lipetsk_fighter-pilot_school_text.txt, concr=1.85\n",
      "[13:49:38] 3797) title=wikipedia_3797_Karamchand_Gandhi_text.txt, concr=1.79\n",
      "[13:49:39] 3798) title=wikipedia_3798_El_padrecito_text.txt    , concr=1.72\n",
      "[13:49:40] 3799) title=wikipedia_3799_Steven_G._Kellman_text.txt, concr=1.79\n",
      "[13:49:41] 3800) title=wikipedia_3800_Clinical_trial_management_system_text.txt, concr=1.63\n",
      "[13:49:43] 3801) title=wikipedia_3801_Urstromtal_text.txt      , concr=1.96\n",
      "[13:49:44] 3802) title=wikipedia_3802_Jane_Chastain_text.txt   , concr=1.90\n",
      "[13:49:45] 3803) title=wikipedia_3803_Okot_Odhiambo_text.txt   , concr=1.71\n",
      "[13:49:46] 3804) title=wikipedia_3804_Bev_Beaver_text.txt      , concr=2.08\n",
      "[13:49:47] 3805) title=wikipedia_3805_Richard_Rusczyk_text.txt , concr=1.77\n",
      "[13:49:48] 3806) title=wikipedia_3806_Rosario_Kennedy_text.txt , concr=1.98\n",
      "[13:49:49] 3807) title=wikipedia_3807_The_Science_of_Discworld_II:_The_Globe_text.txt, concr=1.64\n",
      "[13:49:50] 3808) title=wikipedia_3808_Hallur_text.txt          , concr=2.08\n",
      "[13:49:50] 3809) title=wikipedia_3809_Julian_Armour_text.txt   , concr=2.03\n",
      "[13:49:51] 3810) title=wikipedia_3810_The_Pilgrim_(1923_film)_text.txt, concr=1.80\n",
      "[13:49:53] 3811) title=wikipedia_3811_WGMF_(AM)_text.txt       , concr=2.01\n",
      "[13:49:54] 3812) title=wikipedia_3812_33rd_Massachusetts_Infantry_Regiment_text.txt, concr=2.43\n",
      "[13:49:54] 3813) title=wikipedia_3813_Borough_of_Duryea_v._Guarnieri_text.txt, concr=1.55\n",
      "[13:49:55] 3814) title=wikipedia_3814_Hilde_Bruch_text.txt     , concr=1.78\n",
      "[13:49:56] 3815) title=wikipedia_3815_Kim_Blankenship_text.txt , concr=1.64\n",
      "[13:49:58] 3816) title=wikipedia_3816_Narayana_Kasturi_text.txt, concr=1.82\n",
      "[13:49:59] 3817) title=wikipedia_3817_R*-tree_text.txt         , concr=1.63\n",
      "[13:49:59] 3818) title=wikipedia_3818_Regie's_Rainbow_Adventure_text.txt, concr=1.96\n",
      "[13:50:01] 3819) title=wikipedia_3819_Tsentralnyi_Stadion_(Lubny)_text.txt, concr=2.13\n",
      "[13:50:03] 3820) title=wikipedia_3820_Harmen_Jansen_Knickerbocker_text.txt, concr=1.90\n",
      "[13:50:03] 3821) title=wikipedia_3821_Flame_deflector_text.txt , concr=2.08\n",
      "[13:50:05] 3822) title=wikipedia_3822_José_Miguel_de_Carvajal-Vargas,_2nd_Duke_of_San_Carlos_text.txt, concr=1.84\n",
      "[13:50:06] 3823) title=wikipedia_3823_Edward_Renouf_(chemist)_text.txt, concr=2.01\n",
      "[13:50:07] 3824) title=wikipedia_3824_Merlin_Cinemas_text.txt  , concr=2.05\n",
      "[13:50:08] 3825) title=wikipedia_3825_The_Saint_(2017_film)_text.txt, concr=1.76\n",
      "[13:50:09] 3826) title=wikipedia_3826_Marc_Selz_text.txt       , concr=1.99\n",
      "[13:50:11] 3827) title=wikipedia_3827_Hannes_Priesch_text.txt  , concr=1.96\n",
      "[13:50:12] 3828) title=wikipedia_3828_French_ship_Prince_Jérôme_text.txt, concr=1.82\n",
      "[13:50:12] 3829) title=wikipedia_3829_Killing_of_Katie_Rough_text.txt, concr=1.65\n",
      "[13:50:14] 3830) title=wikipedia_3830_Sidarto_Danusubroto_text.txt, concr=1.80\n",
      "[13:50:14] 3831) title=wikipedia_3831_Numerov's_method_text.txt, concr=1.29\n",
      "[13:50:15] 3832) title=wikipedia_3832_Llay_text.txt            , concr=1.92\n",
      "[13:50:16] 3833) title=wikipedia_3833_Sean_Holley_text.txt     , concr=1.93\n",
      "[13:50:18] 3834) title=wikipedia_3834_Tuktut_Nogait_National_Park_text.txt, concr=2.17\n",
      "[13:50:19] 3835) title=wikipedia_3835_National_Bank_of_Romania_text.txt, concr=1.83\n",
      "[13:50:20] 3836) title=wikipedia_3836_K-500-65_3000_steam_turbine_text.txt, concr=2.02\n",
      "[13:50:21] 3837) title=wikipedia_3837_Morlaix_viaduct_text.txt , concr=1.97\n",
      "[13:50:21] 3838) title=wikipedia_3838_Daniel_John_O'Donoghue_text.txt, concr=1.82\n",
      "[13:50:23] 3839) title=wikipedia_3839_Rosemary_Laing_text.txt  , concr=1.83\n",
      "[13:50:24] 3840) title=wikipedia_3840_John_Boste_text.txt      , concr=1.88\n",
      "[13:50:25] 3841) title=wikipedia_3841_Boomtown_Shakedown_text.txt, concr=1.88\n",
      "[13:50:25] 3842) title=wikipedia_3842_Tommy_Wade_text.txt      , concr=1.96\n",
      "[13:50:26] 3843) title=wikipedia_3843_Anthony_Courtney_text.txt, concr=1.81\n",
      "[13:50:26] 3844) title=wikipedia_3844_The_Man_text.txt         , concr=1.63\n",
      "[13:50:27] 3845) title=wikipedia_3845_Maha_Ali_text.txt        , concr=1.78\n",
      "[13:50:28] 3846) title=wikipedia_3846_Virgo_(character)_text.txt, concr=1.71\n",
      "[13:50:28] 3847) title=wikipedia_3847_Six_Pianos_text.txt      , concr=1.84\n",
      "[13:50:29] 3848) title=wikipedia_3848_Little_Canada_(term)_text.txt, concr=2.04\n",
      "[13:50:30] 3849) title=wikipedia_3849_May_2004_lunar_eclipse_text.txt, concr=1.85\n",
      "[13:50:31] 3850) title=wikipedia_3850_Margaret_E._Bradshaw_text.txt, concr=1.95\n",
      "[13:50:33] 3851) title=wikipedia_3851_Joaquín_Díaz_de_Vivar_text.txt, concr=1.64\n",
      "[13:50:34] 3852) title=wikipedia_3852_Googlebot_text.txt       , concr=1.90\n",
      "[13:50:35] 3853) title=wikipedia_3853_Sonnet_19_text.txt       , concr=1.72\n",
      "[13:50:36] 3854) title=wikipedia_3854_The_Cheat_(1931_film)_text.txt, concr=1.70\n",
      "[13:50:37] 3855) title=wikipedia_3855_Ringwood_Waldorf_School_text.txt, concr=2.01\n",
      "[13:50:39] 3856) title=wikipedia_3856_Lidia_Zamenhof_text.txt  , concr=1.71\n",
      "[13:50:40] 3857) title=wikipedia_3857_Winnie_the_Pooh_and_Tigger_Too_text.txt, concr=1.85\n",
      "[13:50:41] 3858) title=wikipedia_3858_Prime_Suspect_(NCIS)_text.txt, concr=1.78\n",
      "[13:50:42] 3859) title=wikipedia_3859_Sprag_clutch_text.txt    , concr=1.83\n",
      "[13:50:42] 3860) title=wikipedia_3860_Investment_(military)_text.txt, concr=1.86\n",
      "[13:50:43] 3861) title=wikipedia_3861_Pitcairn_PA-22_text.txt  , concr=1.96\n",
      "[13:50:44] 3862) title=wikipedia_3862_Novelty_seeking_text.txt , concr=1.47\n",
      "[13:50:46] 3863) title=wikipedia_3863_SILC_(protocol)_text.txt , concr=1.67\n",
      "[13:50:48] 3864) title=wikipedia_3864_Uchiwa-e_text.txt        , concr=1.88\n",
      "[13:50:48] 3865) title=wikipedia_3865_The_Giuseppi_Logan_Quintet_text.txt, concr=1.70\n",
      "[13:50:49] 3866) title=wikipedia_3866_USS_Sara_Thompson_text.txt, concr=2.10\n",
      "[13:50:50] 3867) title=wikipedia_3867_Southwest_Fifth_St._Bridge_text.txt, concr=1.85\n",
      "[13:50:51] 3868) title=wikipedia_3868_Andrew_Tracey_text.txt   , concr=1.80\n",
      "[13:50:51] 3869) title=wikipedia_3869_Sepia_prashadi_text.txt  , concr=1.92\n",
      "[13:50:53] 3870) title=wikipedia_3870_WSJM-FM_text.txt         , concr=2.04\n",
      "[13:50:54] 3871) title=wikipedia_3871_Nari_Contractor_text.txt , concr=1.92\n",
      "[13:50:55] 3872) title=wikipedia_3872_Charles_Baker_(instructor)_text.txt, concr=1.74\n",
      "[13:50:57] 3873) title=wikipedia_3873_Nichi_Bei_Times_text.txt , concr=1.85\n",
      "[13:50:58] 3874) title=wikipedia_3874_10th_Infantry_Division_(Philippines)_text.txt, concr=2.05\n",
      "[13:50:59] 3875) title=wikipedia_3875_Encyclopedia_of_Ukraine_text.txt, concr=1.84\n"
     ]
    },
    {
     "name": "stdout",
     "output_type": "stream",
     "text": [
      "[13:51:00] 3876) title=wikipedia_3876_Softball_in_the_Northern_Territory_text.txt, concr=1.83\n",
      "[13:51:03] 3877) title=wikipedia_3877_Guy_de_Mey_text.txt      , concr=2.02\n",
      "[13:51:04] 3878) title=wikipedia_3878_David_Welker_text.txt    , concr=1.92\n",
      "[13:51:04] 3879) title=wikipedia_3879_Palermo,_North_Dakota_text.txt, concr=1.87\n",
      "[13:51:04] 3880) title=wikipedia_3880_Jump$tart_text.txt       , concr=1.65\n",
      "[13:51:05] 3881) title=wikipedia_3881_Leontine_T._Kelly_text.txt, concr=2.05\n",
      "[13:51:06] 3882) title=wikipedia_3882_White_Pages_Australia_text.txt, concr=1.92\n",
      "[13:51:07] 3883) title=wikipedia_3883_Maria_Lamburn_text.txt   , concr=2.20\n",
      "[13:51:09] 3884) title=wikipedia_3884_Yamaha_Zuma_text.txt     , concr=1.92\n",
      "[13:51:10] 3885) title=wikipedia_3885_Brooks_Mileson_text.txt  , concr=1.84\n",
      "[13:51:13] 3886) title=wikipedia_3886_Purushamedha_text.txt    , concr=1.63\n",
      "[13:51:13] 3887) title=wikipedia_3887_RAF_Thruxton_text.txt    , concr=2.04\n",
      "[13:51:14] 3888) title=wikipedia_3888_Let_Them_Call_It_Jazz_text.txt, concr=1.74\n",
      "[13:51:15] 3889) title=wikipedia_3889_Bill_Perkins_(businessman)_text.txt, concr=1.91\n",
      "[13:51:16] 3890) title=wikipedia_3890_Paul_Muenzer_text.txt    , concr=2.04\n",
      "[13:51:17] 3891) title=wikipedia_3891_CarrefourSA_text.txt     , concr=2.09\n",
      "[13:51:18] 3892) title=wikipedia_3892_Anna_Haining_Bates_text.txt, concr=2.04\n",
      "[13:51:19] 3893) title=wikipedia_3893_Generalized_phrase_structure_grammar_text.txt, concr=1.59\n",
      "[13:51:19] 3894) title=wikipedia_3894_Bernie_Herms_text.txt    , concr=1.93\n",
      "[13:51:20] 3895) title=wikipedia_3895_Dunes_City,_Oregon_text.txt, concr=1.84\n",
      "[13:51:21] 3896) title=wikipedia_3896_Laurel_Powers-Freeling_text.txt, concr=1.87\n",
      "[13:51:22] 3897) title=wikipedia_3897_The_Star_(Dunedin)_text.txt, concr=1.99\n",
      "[13:51:24] 3898) title=wikipedia_3898_Bordetella_trematum_text.txt, concr=1.86\n",
      "[13:51:27] 3899) title=wikipedia_3899_Tago_River_text.txt      , concr=2.18\n",
      "[13:51:28] 3900) title=wikipedia_3900_Sheffield_Clarion_Ramblers_text.txt, concr=1.69\n",
      "[13:51:29] 3901) title=wikipedia_3901_François_Cornil_Bart_text.txt, concr=1.92\n",
      "[13:51:31] 3902) title=wikipedia_3902_Leon_Schiller_text.txt   , concr=2.01\n",
      "[13:51:31] 3903) title=wikipedia_3903_Downtown_Durham_Historic_District_text.txt, concr=1.94\n",
      "[13:51:32] 3904) title=wikipedia_3904_Jim_Tanner_text.txt      , concr=2.04\n",
      "[13:51:33] 3905) title=wikipedia_3905_Development_plan_text.txt, concr=1.64\n",
      "[13:51:33] 3906) title=wikipedia_3906_Tom_Wilkinson_(Canadian_football)_text.txt, concr=1.96\n",
      "[13:51:34] 3907) title=wikipedia_3907_Rose_Terlin_text.txt     , concr=1.66\n",
      "[13:51:36] 3908) title=wikipedia_3908_Shmuel_Katz_(artist)_text.txt, concr=2.04\n",
      "[13:51:37] 3909) title=wikipedia_3909_Lutheran_City_Church_text.txt, concr=1.99\n",
      "[13:51:38] 3910) title=wikipedia_3910_Tour_Saint-Jacques_text.txt, concr=1.90\n",
      "[13:51:39] 3911) title=wikipedia_3911_Dmitri_Kozlov_(engineer)_text.txt, concr=1.89\n",
      "[13:51:41] 3912) title=wikipedia_3912_Barada_text.txt          , concr=1.97\n",
      "[13:51:41] 3913) title=wikipedia_3913_Letter_to_Me_text.txt    , concr=1.79\n",
      "[13:51:42] 3914) title=wikipedia_3914_Commission_de_Surveillance_du_Secteur_Financier_text.txt, concr=1.56\n",
      "[13:51:44] 3915) title=wikipedia_3915_Kavousi_Kastro_text.txt  , concr=1.83\n",
      "[13:51:44] 3916) title=wikipedia_3916_Nuclear_pumped_laser_text.txt, concr=1.80\n",
      "[13:51:44] 3917) title=wikipedia_3917_Charlie_Burse_text.txt   , concr=2.16\n",
      "[13:51:45] 3918) title=wikipedia_3918_Acer_caudatifolium_text.txt, concr=1.91\n",
      "[13:51:46] 3919) title=wikipedia_3919_Lady_Luck_(comics)_text.txt, concr=1.98\n",
      "[13:51:47] 3920) title=wikipedia_3920_The_Great_Derangement:_Climate_Change_and_the_Unthinkable_text.txt, concr=1.55\n",
      "[13:51:49] 3921) title=wikipedia_3921_Futura_plus_text.txt     , concr=1.90\n",
      "[13:51:49] 3922) title=wikipedia_3922_Finger_(Bottom)_text.txt , concr=1.99\n",
      "[13:51:50] 3923) title=wikipedia_3923_Sonata_in_C_major_for_keyboard_four-hands,_K._19d_text.txt, concr=1.69\n",
      "[13:51:50] 3924) title=wikipedia_3924_Burlington_and_Mount_Holly_Railroad_and_Transportation_Company_text.txt, concr=2.07\n",
      "[13:51:51] 3925) title=wikipedia_3925_Amphibalanus_improvisus_text.txt, concr=2.06\n",
      "[13:51:53] 3926) title=wikipedia_3926_Lake_Macquarie_City_FC_text.txt, concr=1.93\n",
      "[13:51:54] 3927) title=wikipedia_3927_Majuba_Power_Station_text.txt, concr=1.91\n",
      "[13:51:55] 3928) title=wikipedia_3928_2022_Victory_Bowl_text.txt, concr=1.92\n",
      "[13:51:56] 3929) title=wikipedia_3929_Bacton,_Suffolk_text.txt , concr=2.12\n",
      "[13:51:57] 3930) title=wikipedia_3930_Jewpacabra_text.txt      , concr=1.75\n",
      "[13:51:58] 3931) title=wikipedia_3931_Marina_Cicogna_text.txt  , concr=2.03\n",
      "[13:51:59] 3932) title=wikipedia_3932_Siege_of_Mozambique_(1608)_text.txt, concr=1.87\n",
      "[13:52:01] 3933) title=wikipedia_3933_George_Herbert_Strutt_text.txt, concr=2.06\n",
      "[13:52:02] 3934) title=wikipedia_3934_Mary_Ejercito_text.txt   , concr=1.84\n",
      "[13:52:03] 3935) title=wikipedia_3935_Battle_of_Kam_Dakka_text.txt, concr=1.84\n",
      "[13:52:05] 3936) title=wikipedia_3936_Gilles-Marie_Oppenordt_text.txt, concr=1.80\n",
      "[13:52:07] 3937) title=wikipedia_3937_Ryokichi_Minobe_text.txt , concr=1.82\n",
      "[13:52:08] 3938) title=wikipedia_3938_Adrian_Webster_(footballer,_born_1951)_text.txt, concr=1.99\n",
      "[13:52:09] 3939) title=wikipedia_3939_A_Scare_at_Bedtime_text.txt, concr=1.83\n",
      "[13:52:10] 3940) title=wikipedia_3940_Duaner_Sánchez_text.txt  , concr=1.88\n",
      "[13:52:11] 3941) title=wikipedia_3941_Elisabeth_Bing_text.txt  , concr=1.87\n",
      "[13:52:12] 3942) title=wikipedia_3942_Thain_Wendell_MacDowell_text.txt, concr=2.02\n",
      "[13:52:15] 3943) title=wikipedia_3943_Krushna_Chandra_Gajapati_text.txt, concr=1.88\n",
      "[13:52:16] 3944) title=wikipedia_3944_Al-Shajara,_Syria_text.txt, concr=1.99\n",
      "[13:52:17] 3945) title=wikipedia_3945_\"All_God's_Children\"_Campaign_text.txt, concr=1.78\n",
      "[13:52:17] 3946) title=wikipedia_3946_Bierut_Decree_text.txt   , concr=1.72\n",
      "[13:52:19] 3947) title=wikipedia_3947_Lysaker_Bridge_sabotage_text.txt, concr=1.86\n",
      "[13:52:20] 3948) title=wikipedia_3948_Tzigane_text.txt         , concr=1.71\n",
      "[13:52:22] 3949) title=wikipedia_3949_Desolation_Road_text.txt , concr=1.87\n",
      "[13:52:23] 3950) title=wikipedia_3950_Devon_Avenue_text.txt    , concr=2.09\n",
      "[13:52:24] 3951) title=wikipedia_3951_USS_Despatch_(1873)_text.txt, concr=2.01\n",
      "[13:52:25] 3952) title=wikipedia_3952_Daniel_Benton_Homestead_text.txt, concr=2.11\n",
      "[13:52:25] 3953) title=wikipedia_3953_Aaron_Chang_text.txt     , concr=2.07\n",
      "[13:52:26] 3954) title=wikipedia_3954_Harper_Goff_text.txt     , concr=1.89\n",
      "[13:52:28] 3955) title=wikipedia_3955_Banshkhali_carnage_text.txt, concr=1.93\n",
      "[13:52:29] 3956) title=wikipedia_3956_Paint_This_Town_text.txt , concr=1.79\n",
      "[13:52:29] 3957) title=wikipedia_3957_Doris_Howell_text.txt    , concr=1.89\n",
      "[13:52:31] 3958) title=wikipedia_3958_Tensor_fasciae_latae_muscle_text.txt, concr=1.91\n",
      "[13:52:32] 3959) title=wikipedia_3959_Tosh_Powell_text.txt     , concr=1.80\n",
      "[13:52:33] 3960) title=wikipedia_3960_Boetie_Groenewald_text.txt, concr=1.84\n",
      "[13:52:33] 3961) title=wikipedia_3961_Eremophila_goodwinii_text.txt, concr=2.03\n",
      "[13:52:34] 3962) title=wikipedia_3962_Dawn_Logsdon_text.txt    , concr=1.98\n",
      "[13:52:35] 3963) title=wikipedia_3963_Mike_Bond_text.txt       , concr=1.98\n",
      "[13:52:35] 3964) title=wikipedia_3964_Brunswick_Maine_Street_Station_text.txt, concr=2.08\n",
      "[13:52:36] 3965) title=wikipedia_3965_Rhamnus_crocea_subsp._ilicifolia_text.txt, concr=2.19\n",
      "[13:52:38] 3966) title=wikipedia_3966_Where_There's_a_Will_(Big_Love)_text.txt, concr=1.75\n",
      "[13:52:39] 3967) title=wikipedia_3967_Religious_Procession_in_Kursk_Governorate_text.txt, concr=1.83\n",
      "[13:52:39] 3968) title=wikipedia_3968_Fall_Weather_Friends_text.txt, concr=1.84\n",
      "[13:52:41] 3969) title=wikipedia_3969_Brian_McPhelim_O'Neill_text.txt, concr=1.95\n",
      "[13:52:42] 3970) title=wikipedia_3970_Forma_viva_text.txt      , concr=1.82\n",
      "[13:52:43] 3971) title=wikipedia_3971_HMS_Squirrel_(1707)_text.txt, concr=2.03\n",
      "[13:52:44] 3972) title=wikipedia_3972_.38_ACP_text.txt         , concr=1.85\n",
      "[13:52:46] 3973) title=wikipedia_3973_Berliner_Literarische_Aktion_text.txt, concr=1.80\n",
      "[13:52:47] 3974) title=wikipedia_3974_Ilan_Shavit_text.txt     , concr=1.83\n",
      "[13:52:49] 3975) title=wikipedia_3975_Chao_Phraya_freshwater_swamp_forests_text.txt, concr=2.21\n",
      "[13:52:51] 3976) title=wikipedia_3976_The_Ice_People_(Barjavel_novel)_text.txt, concr=1.67\n"
     ]
    },
    {
     "name": "stdout",
     "output_type": "stream",
     "text": [
      "[13:52:51] 3977) title=wikipedia_3977_My_Little_Eye_text.txt   , concr=1.94\n",
      "[13:52:52] 3978) title=wikipedia_3978_William_F._Brown_(writer)_text.txt, concr=1.79\n",
      "[13:52:53] 3979) title=wikipedia_3979_Slobidskyi_District_text.txt, concr=2.06\n",
      "[13:52:55] 3980) title=wikipedia_3980_Spotted_mulga_snake_text.txt, concr=1.86\n",
      "[13:52:55] 3981) title=wikipedia_3981_Aggie_Bonfire_leadership_text.txt, concr=1.96\n",
      "[13:52:56] 3982) title=wikipedia_3982_Henry_Boimah_Fahnbulleh_text.txt, concr=1.79\n",
      "[13:52:57] 3983) title=wikipedia_3983_Ri_Jong-yol_text.txt     , concr=1.75\n",
      "[13:52:57] 3984) title=wikipedia_3984_USS_Inch_text.txt        , concr=2.08\n",
      "[13:52:58] 3985) title=wikipedia_3985_Pen_Tennyson_text.txt    , concr=1.87\n",
      "[13:53:00] 3986) title=wikipedia_3986_Helena_Cidade_Moura_text.txt, concr=1.70\n",
      "[13:53:01] 3987) title=wikipedia_3987_Semiaquilegia_text.txt   , concr=1.92\n",
      "[13:53:02] 3988) title=wikipedia_3988_John_B._Whealton_Memorial_Causeway_text.txt, concr=2.15\n",
      "[13:53:04] 3989) title=wikipedia_3989_1960_Cypriot_by-elections_text.txt, concr=1.80\n",
      "[13:53:05] 3990) title=wikipedia_3990_He-Man:_Defender_of_Grayskull_text.txt, concr=1.89\n",
      "[13:53:08] 3991) title=wikipedia_3991_Hetaireiarches_text.txt  , concr=1.74\n",
      "[13:53:09] 3992) title=wikipedia_3992_Liu_Wenxi_text.txt       , concr=1.76\n",
      "[13:53:09] 3993) title=wikipedia_3993_Coral_Court_Motel_text.txt, concr=1.94\n",
      "[13:53:10] 3994) title=wikipedia_3994_South_of_No_North_(short_story_collection)_text.txt, concr=1.72\n",
      "[13:53:11] 3995) title=wikipedia_3995_New_York_State_Route_271_text.txt, concr=2.01\n",
      "[13:53:13] 3996) title=wikipedia_3996_Chaminda_Ruwan_Yakandawala_text.txt, concr=2.01\n",
      "[13:53:13] 3997) title=wikipedia_3997_Ooops!_Noah_Is_Gone..._text.txt, concr=1.84\n",
      "[13:53:15] 3998) title=wikipedia_3998_Justine_Simei-Barton_text.txt, concr=1.91\n",
      "[13:53:16] 3999) title=wikipedia_3999_The_Great_Australian_Camel_Race_text.txt, concr=1.82\n",
      "[13:53:17] 4000) title=wikipedia_4000_SIEPAC_text.txt          , concr=1.63\n"
     ]
    }
   ],
   "source": [
    "wiki_concr=np.zeros(len(wiki_texts_files))\n",
    "for i_f, file in enumerate(tqdm(wiki_texts_files)):\n",
    "    with open(WIKI_TEXT_FOLDER+file, 'r') as f:\n",
    "        _text=f.readline()\n",
    "    wiki_concr[i_f]=text_concreteness(_text)\n",
    "    print(f'[{dt.datetime.now():%H:%M:%S}] {i_f:4}) title={file:40}, concr={wiki_concr[i_f]:.2f}')\n",
    "    sys.stdout.flush()"
   ]
  },
  {
   "cell_type": "code",
   "execution_count": 160,
   "id": "5cada172",
   "metadata": {
    "ExecuteTime": {
     "end_time": "2025-09-09T12:17:02.069383Z",
     "start_time": "2025-09-09T12:17:02.058597Z"
    },
    "hidden": true
   },
   "outputs": [
    {
     "data": {
      "text/plain": [
       "(2.1823969915267067, 1.877747307942242, 1.573097624357777)"
      ]
     },
     "execution_count": 160,
     "metadata": {},
     "output_type": "execute_result"
    }
   ],
   "source": [
    "np.mean(wiki_concr)+2*np.std(wiki_concr), np.mean(wiki_concr), np.mean(wiki_concr)-2*np.std(wiki_concr)"
   ]
  },
  {
   "cell_type": "code",
   "execution_count": 161,
   "id": "d983d7e4",
   "metadata": {
    "ExecuteTime": {
     "end_time": "2025-09-09T12:17:09.660575Z",
     "start_time": "2025-09-09T12:17:09.650527Z"
    },
    "hidden": true
   },
   "outputs": [
    {
     "data": {
      "text/plain": [
       "(array([1597]),)"
      ]
     },
     "execution_count": 161,
     "metadata": {},
     "output_type": "execute_result"
    }
   ],
   "source": [
    "np.where(wiki_concr==np.max(wiki_concr))"
   ]
  },
  {
   "cell_type": "code",
   "execution_count": 162,
   "id": "8d207d30",
   "metadata": {
    "ExecuteTime": {
     "end_time": "2025-09-09T12:17:21.834210Z",
     "start_time": "2025-09-09T12:17:21.825021Z"
    },
    "hidden": true
   },
   "outputs": [
    {
     "data": {
      "text/plain": [
       "2.6831902300101236"
      ]
     },
     "execution_count": 162,
     "metadata": {},
     "output_type": "execute_result"
    }
   ],
   "source": [
    "wiki_concr[1597]"
   ]
  },
  {
   "cell_type": "markdown",
   "id": "c840ebeb",
   "metadata": {},
   "source": [
    "#### All Fast Facts"
   ]
  },
  {
   "cell_type": "code",
   "execution_count": 185,
   "id": "7dab8863",
   "metadata": {
    "ExecuteTime": {
     "end_time": "2025-09-09T12:42:48.232592Z",
     "start_time": "2025-09-09T12:42:48.226520Z"
    }
   },
   "outputs": [],
   "source": [
    "goals=os.listdir(BENCHMARK_FOLDER)\n",
    "goals.sort()"
   ]
  },
  {
   "cell_type": "code",
   "execution_count": 190,
   "id": "6245eb6e",
   "metadata": {
    "ExecuteTime": {
     "end_time": "2025-09-09T12:44:21.037944Z",
     "start_time": "2025-09-09T12:44:21.029978Z"
    }
   },
   "outputs": [],
   "source": [
    "fafas_texts_files=[file for file in os.listdir(BENCHMARK_FOLDER) if file.endswith('md') and file.startswith('Goal')]\n",
    "fafas_texts_files.sort()"
   ]
  },
  {
   "cell_type": "code",
   "execution_count": 191,
   "id": "b5ed2c2f",
   "metadata": {
    "ExecuteTime": {
     "end_time": "2025-09-09T12:44:21.709130Z",
     "start_time": "2025-09-09T12:44:21.699657Z"
    }
   },
   "outputs": [
    {
     "data": {
      "text/plain": [
       "['Goal-10-Fast-Facts.md',\n",
       " 'Goal-11_Fast-Facts.md',\n",
       " 'Goal-12_Fast-Facts.md',\n",
       " 'Goal-13_Fast-Facts.md',\n",
       " 'Goal-14_Fast-Facts.md',\n",
       " 'Goal-15-Fast-Facts.md',\n",
       " 'Goal-16-Fast-Facts.md',\n",
       " 'Goal-17-Fast-Facts.md',\n",
       " 'Goal-1_Fast-Facts.md',\n",
       " 'Goal-2_Fast-Facts.md',\n",
       " 'Goal-3_Fast-Facts.md',\n",
       " 'Goal-4_Fast-Facts.md',\n",
       " 'Goal-5_Fast-Facts.md',\n",
       " 'Goal-6_Fast-Facts.md',\n",
       " 'Goal-7_Fast-Facts.md',\n",
       " 'Goal-8_Fast-Facts.md',\n",
       " 'Goal-9-Fast-Facts.md',\n",
       " 'Goal-Fast-Facts.md']"
      ]
     },
     "execution_count": 191,
     "metadata": {},
     "output_type": "execute_result"
    }
   ],
   "source": [
    "fafas_texts_files"
   ]
  },
  {
   "cell_type": "code",
   "execution_count": 273,
   "id": "8dd51c43",
   "metadata": {
    "ExecuteTime": {
     "end_time": "2025-09-10T15:27:17.946274Z",
     "start_time": "2025-09-10T15:27:12.599928Z"
    }
   },
   "outputs": [
    {
     "data": {
      "application/vnd.jupyter.widget-view+json": {
       "model_id": "69f1929cbc5448faacd09e474b071378",
       "version_major": 2,
       "version_minor": 0
      },
      "text/plain": [
       "  0%|          | 0/17 [00:00<?, ?it/s]"
      ]
     },
     "metadata": {},
     "output_type": "display_data"
    },
    {
     "name": "stdout",
     "output_type": "stream",
     "text": [
      "[17:27:12]    9) title=Goal-10-Fast-Facts.md , concr=1.55\n",
      "[17:27:13]   10) title=Goal-11_Fast-Facts.md , concr=1.66\n",
      "[17:27:13]   11) title=Goal-12_Fast-Facts.md , concr=1.59\n",
      "[17:27:13]   12) title=Goal-13_Fast-Facts.md , concr=1.60\n",
      "[17:27:14]   13) title=Goal-14_Fast-Facts.md , concr=1.82\n",
      "[17:27:14]   14) title=Goal-15-Fast-Facts.md , concr=1.73\n",
      "[17:27:14]   15) title=Goal-16-Fast-Facts.md , concr=1.45\n",
      "[17:27:15]   16) title=Goal-17-Fast-Facts.md , concr=1.49\n",
      "[17:27:15]    0) title=Goal-1_Fast-Facts.md  , concr=1.51\n",
      "[17:27:15]    1) title=Goal-2_Fast-Facts.md  , concr=1.66\n",
      "[17:27:16]    2) title=Goal-3_Fast-Facts.md  , concr=1.62\n",
      "[17:27:16]    3) title=Goal-4_Fast-Facts.md  , concr=1.56\n",
      "[17:27:16]    4) title=Goal-5_Fast-Facts.md  , concr=1.66\n",
      "[17:27:16]    5) title=Goal-6_Fast-Facts.md  , concr=1.78\n",
      "[17:27:17]    6) title=Goal-7_Fast-Facts.md  , concr=1.80\n",
      "[17:27:17]    7) title=Goal-8_Fast-Facts.md  , concr=1.56\n",
      "[17:27:17]    8) title=Goal-9-Fast-Facts.md  , concr=1.52\n"
     ]
    }
   ],
   "source": [
    "fafas_concr=np.zeros(17)\n",
    "for i_f, file in enumerate(tqdm(fafas_texts_files[:-1])):\n",
    "    index=file.split('-')[1]\n",
    "    index=int(index.split('_')[0])-1\n",
    "    with open(BENCHMARK_FOLDER+file, 'r') as f:\n",
    "        _text=f.read()\n",
    "    _text=first_text_cleaner(_text)\n",
    "    fafas_concr[index]=text_concreteness(_text)\n",
    "    print(f'[{dt.datetime.now():%H:%M:%S}] {index:4}) title={file:22}, concr={fafas_concr[index]:.2f}')"
   ]
  },
  {
   "cell_type": "code",
   "execution_count": 274,
   "id": "e47c11d4",
   "metadata": {
    "ExecuteTime": {
     "end_time": "2025-09-10T15:27:17.960065Z",
     "start_time": "2025-09-10T15:27:17.950993Z"
    }
   },
   "outputs": [
    {
     "data": {
      "text/plain": [
       "(1.6199061766632126, 0.10691943513493533)"
      ]
     },
     "execution_count": 274,
     "metadata": {},
     "output_type": "execute_result"
    }
   ],
   "source": [
    "np.mean(fafas_concr), np.std(fafas_concr)"
   ]
  },
  {
   "cell_type": "markdown",
   "id": "2e512628",
   "metadata": {},
   "source": [
    "#### Witten"
   ]
  },
  {
   "cell_type": "code",
   "execution_count": 256,
   "id": "fc56b274",
   "metadata": {
    "ExecuteTime": {
     "end_time": "2025-09-10T15:17:21.572297Z",
     "start_time": "2025-09-10T15:17:21.566596Z"
    }
   },
   "outputs": [],
   "source": [
    "witten_file='Witten_A_Mini_Introduction_To_Information_Theory.md'"
   ]
  },
  {
   "cell_type": "code",
   "execution_count": 276,
   "id": "5c7ea6c7",
   "metadata": {
    "ExecuteTime": {
     "end_time": "2025-09-10T15:28:02.344113Z",
     "start_time": "2025-09-10T15:28:02.322958Z"
    }
   },
   "outputs": [],
   "source": [
    "with open(BENCHMARK_FOLDER+witten_file, 'r') as f:\n",
    "    _text=f.read()\n",
    "_text=first_text_cleaner(_text)"
   ]
  },
  {
   "cell_type": "code",
   "execution_count": 277,
   "id": "76a2a190",
   "metadata": {
    "ExecuteTime": {
     "end_time": "2025-09-10T15:28:02.951513Z",
     "start_time": "2025-09-10T15:28:02.942997Z"
    }
   },
   "outputs": [
    {
     "data": {
      "text/plain": [
       "84276"
      ]
     },
     "execution_count": 277,
     "metadata": {},
     "output_type": "execute_result"
    }
   ],
   "source": [
    "len(_text)"
   ]
  },
  {
   "cell_type": "code",
   "execution_count": 278,
   "id": "3ba32e7b",
   "metadata": {
    "ExecuteTime": {
     "end_time": "2025-09-10T15:28:31.425322Z",
     "start_time": "2025-09-10T15:28:06.507483Z"
    }
   },
   "outputs": [
    {
     "data": {
      "text/plain": [
       "1.4251468872524944"
      ]
     },
     "execution_count": 278,
     "metadata": {},
     "output_type": "execute_result"
    }
   ],
   "source": [
    "text_concreteness(_text)    "
   ]
  },
  {
   "cell_type": "markdown",
   "id": "bc2bc38c",
   "metadata": {},
   "source": [
    "### Show"
   ]
  },
  {
   "cell_type": "markdown",
   "id": "fb6790a1",
   "metadata": {},
   "source": [
    "#### Average over all reports"
   ]
  },
  {
   "cell_type": "code",
   "execution_count": 67,
   "id": "72d501da",
   "metadata": {
    "ExecuteTime": {
     "end_time": "2025-09-09T08:38:36.101913Z",
     "start_time": "2025-09-09T08:38:36.093374Z"
    }
   },
   "outputs": [],
   "source": [
    "years=np.unique(output['year'])"
   ]
  },
  {
   "cell_type": "code",
   "execution_count": 68,
   "id": "587bb775",
   "metadata": {
    "ExecuteTime": {
     "end_time": "2025-09-09T08:38:44.462908Z",
     "start_time": "2025-09-09T08:38:44.450022Z"
    }
   },
   "outputs": [
    {
     "data": {
      "text/plain": [
       "array([2015, 2016, 2017, 2018, 2019, 2020, 2021, 2022, 2023])"
      ]
     },
     "execution_count": 68,
     "metadata": {},
     "output_type": "execute_result"
    }
   ],
   "source": [
    "years"
   ]
  },
  {
   "cell_type": "code",
   "execution_count": 104,
   "id": "1af39b67",
   "metadata": {
    "ExecuteTime": {
     "end_time": "2025-09-09T10:07:59.260537Z",
     "start_time": "2025-09-09T10:07:59.249205Z"
    }
   },
   "outputs": [],
   "source": [
    "avg_concr=np.zeros(len(years))\n",
    "std_concr=np.zeros(len(years))\n",
    "for i_y, year in enumerate(years):\n",
    "    conc_y=output[output['year']==year]['concreteness']\n",
    "    avg_concr[i_y]=np.mean(conc_y)\n",
    "    std_concr[i_y]=np.std(conc_y)"
   ]
  },
  {
   "cell_type": "code",
   "execution_count": 199,
   "id": "aa946584",
   "metadata": {
    "ExecuteTime": {
     "end_time": "2025-09-09T12:51:56.257826Z",
     "start_time": "2025-09-09T12:51:56.248674Z"
    }
   },
   "outputs": [
    {
     "data": {
      "text/plain": [
       "array([0.04552958, 0.04089332, 0.0510756 , 0.04675716, 0.04980566,\n",
       "       0.04175479, 0.04874965, 0.0559369 , 0.0577765 ])"
      ]
     },
     "execution_count": 199,
     "metadata": {},
     "output_type": "execute_result"
    }
   ],
   "source": [
    "std_concr"
   ]
  },
  {
   "cell_type": "code",
   "execution_count": 105,
   "id": "f8fc15b1",
   "metadata": {
    "ExecuteTime": {
     "end_time": "2025-09-09T10:08:00.504588Z",
     "start_time": "2025-09-09T10:08:00.188592Z"
    }
   },
   "outputs": [
    {
     "data": {
      "image/png": "[encoded data removed]",
      "text/plain": [
       "<Figure size 640x480 with 1 Axes>"
      ]
     },
     "metadata": {},
     "output_type": "display_data"
    }
   ],
   "source": [
    "plt.errorbar(years, avg_concr, yerr=2*std_concr, ls='-.', label=\"all companies\", color='black')\n",
    "plt.hlines(2.5, 2000, 2030, color='r', ls='--', alpha=0.6)\n",
    "plt.ylim(0,5)\n",
    "plt.xlim(2014,2024)\n",
    "plt.legend()\n",
    "plt.show()"
   ]
  },
  {
   "cell_type": "code",
   "execution_count": 106,
   "id": "91689f92",
   "metadata": {
    "ExecuteTime": {
     "end_time": "2025-09-09T10:08:02.520080Z",
     "start_time": "2025-09-09T10:08:02.504779Z"
    }
   },
   "outputs": [
    {
     "data": {
      "text/plain": [
       "Mann_Kendall_Test(trend='no trend', h=False, p=0.07633274037635718, z=-1.7723725194851356, Tau=-0.5, s=-18.0, var_s=92.0, slope=-0.0017187428952587145, intercept=1.654611865790617)"
      ]
     },
     "execution_count": 106,
     "metadata": {},
     "output_type": "execute_result"
    }
   ],
   "source": [
    "mk.original_test(avg_concr)"
   ]
  },
  {
   "cell_type": "markdown",
   "id": "83257621",
   "metadata": {},
   "source": [
    "#### Per-sector"
   ]
  },
  {
   "cell_type": "code",
   "execution_count": 130,
   "id": "8a69abf1",
   "metadata": {
    "ExecuteTime": {
     "end_time": "2025-09-09T10:11:02.028572Z",
     "start_time": "2025-09-09T10:11:02.004022Z"
    }
   },
   "outputs": [],
   "source": [
    "avg_concr_per_sec=np.zeros((len(agg_secs.keys()), len(years)))\n",
    "std_concr_per_sec=np.zeros((len(agg_secs.keys()), len(years)))\n",
    "\n",
    "for i_y, year in enumerate(years):\n",
    "    output_y=output[output['year']==year]\n",
    "    for agg_sec_key in agg_secs.keys():\n",
    "        index=ord(agg_sec_key)-ord('A')\n",
    "        mysecs=agg_secs[agg_sec_key]['sectors']\n",
    "        \n",
    "        myout=output_y[np.isin(output_y['sector'], mysecs)]['concreteness']\n",
    "        avg_concr_per_sec[index, i_y]=np.mean(myout)\n",
    "        std_concr_per_sec[index, i_y]=np.std(myout)"
   ]
  },
  {
   "cell_type": "code",
   "execution_count": 136,
   "id": "f1ced90a",
   "metadata": {
    "ExecuteTime": {
     "end_time": "2025-09-09T10:20:09.245269Z",
     "start_time": "2025-09-09T10:20:08.817785Z"
    }
   },
   "outputs": [
    {
     "data": {
      "image/png": "[encoded data removed]",
      "text/plain": [
       "<Figure size 640x480 with 1 Axes>"
      ]
     },
     "metadata": {},
     "output_type": "display_data"
    }
   ],
   "source": [
    "for agg_sec_key in agg_secs.keys():\n",
    "    agg_sec_info=agg_sec_plots[agg_sec_key]\n",
    "    index=ord(agg_sec_key)-ord('A')\n",
    "    plt.errorbar(years, avg_concr_per_sec[index], yerr=2*std_concr, label=agg_secs[agg_sec_key]['name'], **agg_sec_info, capsize=5 )\n",
    "#plt.errorbar(years, avg_concr, yerr=2*std_concr, ls='-.', label=\"all companies\", color='black')\n",
    "plt.hlines(2.5, 2000, 2030, color='r', ls='--', alpha=0.6)\n",
    "#plt.ylim(0,5)\n",
    "plt.xlim(2014,2024)\n",
    "plt.legend()\n",
    "plt.show()"
   ]
  },
  {
   "cell_type": "code",
   "execution_count": 169,
   "id": "13374d42",
   "metadata": {
    "ExecuteTime": {
     "end_time": "2025-09-09T12:24:03.702233Z",
     "start_time": "2025-09-09T12:24:03.692741Z"
    }
   },
   "outputs": [
    {
     "data": {
      "text/plain": [
       "array([2, 2, 2, 2, 2, 2, 2, 2, 2])"
      ]
     },
     "execution_count": 169,
     "metadata": {},
     "output_type": "execute_result"
    }
   ],
   "source": [
    "y2"
   ]
  },
  {
   "cell_type": "code",
   "execution_count": 174,
   "id": "d4540055",
   "metadata": {
    "ExecuteTime": {
     "end_time": "2025-09-09T12:28:41.160067Z",
     "start_time": "2025-09-09T12:28:40.700704Z"
    }
   },
   "outputs": [
    {
     "data": {
      "image/png": "[encoded data removed]",
      "text/plain": [
       "<Figure size 640x480 with 1 Axes>"
      ]
     },
     "metadata": {},
     "output_type": "display_data"
    }
   ],
   "source": [
    "for agg_sec_key in agg_secs.keys():\n",
    "    agg_sec_info=agg_sec_plots[agg_sec_key]\n",
    "    index=ord(agg_sec_key)-ord('A')\n",
    "    plt.errorbar(years, avg_concr_per_sec[index], yerr=2*std_concr, label=agg_secs[agg_sec_key]['name'], **agg_sec_info, capsize=5 )\n",
    "    \n",
    "plt.hlines(np.mean(wiki_concr)+2*np.std(wiki_concr), 2000, 2030, color='gray', ls='--')\n",
    "plt.hlines(np.mean(wiki_concr)+np.std(wiki_concr), 2000, 2030, color='gray', ls='--')\n",
    "plt.hlines(np.mean(wiki_concr)-np.std(wiki_concr), 2000, 2030, color='gray', ls='--')\n",
    "plt.hlines(np.mean(wiki_concr)-2*np.std(wiki_concr), 2000, 2030, color='gray', ls='--')\n",
    "plt.hlines(np.mean(wiki_concr), 2000, 2030, color='gray', ls='--')\n",
    "\n",
    "y1 = np.ones(len(range(2000, 2030)))*(np.mean(wiki_concr)-2*np.std(wiki_concr))\n",
    "y2 = np.ones(len(range(2000, 2030)))*(np.mean(wiki_concr)+2*np.std(wiki_concr))\n",
    "\n",
    "plt.fill_between(np.arange(2000, 2030), y1, y2, color=\"gray\", alpha=0.5)\n",
    "plt.fill_between(np.arange(2000, 2030), y1+np.std(wiki_concr), y2-np.std(wiki_concr), color=\"gray\", alpha=0.75)\n",
    "plt.hlines(2.5, 2000, 2030, color='r', ls='--', alpha=0.6)\n",
    "#plt.ylim(0,5)\n",
    "plt.xlim(2014,2024)\n",
    "plt.legend()\n",
    "plt.show()"
   ]
  },
  {
   "cell_type": "markdown",
   "id": "d484ab7e",
   "metadata": {},
   "source": [
    "#### SDGs"
   ]
  },
  {
   "cell_type": "code",
   "execution_count": 279,
   "id": "b540220d",
   "metadata": {
    "ExecuteTime": {
     "end_time": "2025-09-10T15:28:37.216159Z",
     "start_time": "2025-09-10T15:28:37.206465Z"
    }
   },
   "outputs": [],
   "source": [
    "sdg_color_list = [\n",
    "    'tab:blue',\n",
    "    'tab:orange',\n",
    "    'tab:green',\n",
    "    'tab:red',\n",
    "    'tab:purple',\n",
    "    'tab:brown',\n",
    "    'tab:pink',\n",
    "    'tab:gray',\n",
    "    'tab:olive',\n",
    "    'tab:cyan',\n",
    "    'darkblue',\n",
    "    'gold',\n",
    "    'crimson',\n",
    "    'darkgreen',\n",
    "    'darkorange',\n",
    "    'deeppink',\n",
    "    'firebrick',\n",
    "]\n",
    "# by ChatGPT"
   ]
  },
  {
   "cell_type": "code",
   "execution_count": 280,
   "id": "e5179476",
   "metadata": {
    "ExecuteTime": {
     "end_time": "2025-09-10T15:28:37.354641Z",
     "start_time": "2025-09-10T15:28:37.344730Z"
    }
   },
   "outputs": [
    {
     "data": {
      "text/plain": [
       "{'01': 'No Poverty',\n",
       " '02': 'Zero hunger',\n",
       " '03': 'Good health and well-being',\n",
       " '04': 'Quality education',\n",
       " '05': 'Gender equality',\n",
       " '06': 'Clean water and sanitation',\n",
       " '07': 'Affordable and clean energy',\n",
       " '08': 'Decent work and economic growth',\n",
       " '09': 'Industry, Innovation, Technology and Infrastructure',\n",
       " '10': 'Reduced inequality',\n",
       " '11': 'Sustainable cities and communities',\n",
       " '12': 'Responsible consumption and production',\n",
       " '13': 'Climate action',\n",
       " '14': 'Life below water',\n",
       " '15': 'Life on land',\n",
       " '16': 'Peace, justice and strong institutions',\n",
       " '17': 'Partnerships for the goals'}"
      ]
     },
     "execution_count": 280,
     "metadata": {},
     "output_type": "execute_result"
    }
   ],
   "source": [
    "sdg_helper"
   ]
  },
  {
   "cell_type": "code",
   "execution_count": 281,
   "id": "42a84b8a",
   "metadata": {
    "ExecuteTime": {
     "end_time": "2025-09-10T15:28:38.142977Z",
     "start_time": "2025-09-10T15:28:38.136504Z"
    }
   },
   "outputs": [],
   "source": [
    "labels=['SDG'+key+': '+value for key, value in sdg_helper.items()]"
   ]
  },
  {
   "cell_type": "code",
   "execution_count": 282,
   "id": "73b3cc2a",
   "metadata": {
    "ExecuteTime": {
     "end_time": "2025-09-10T15:28:38.562374Z",
     "start_time": "2025-09-10T15:28:38.556611Z"
    }
   },
   "outputs": [],
   "source": [
    "short_labels=['SDG'+key for key, value in sdg_helper.items()]"
   ]
  },
  {
   "cell_type": "code",
   "execution_count": 283,
   "id": "40c63ace",
   "metadata": {
    "ExecuteTime": {
     "end_time": "2025-09-10T15:28:39.749794Z",
     "start_time": "2025-09-10T15:28:39.197905Z"
    }
   },
   "outputs": [
    {
     "data": {
      "image/png": "[encoded data removed]",
      "text/plain": [
       "<Figure size 640x480 with 1 Axes>"
      ]
     },
     "metadata": {},
     "output_type": "display_data"
    }
   ],
   "source": [
    "plt.hlines(np.mean(wiki_concr)+2*np.std(wiki_concr), 0, 18, color='gray', ls='--')\n",
    "plt.hlines(np.mean(wiki_concr)+np.std(wiki_concr), 0, 18, color='gray', ls='--')\n",
    "plt.hlines(np.mean(wiki_concr)-np.std(wiki_concr), 0, 18, color='gray', ls='--')\n",
    "plt.hlines(np.mean(wiki_concr)-2*np.std(wiki_concr), 0, 18, color='gray', ls='--')\n",
    "plt.hlines(np.mean(wiki_concr), -2, 18, color='gray', ls='--')\n",
    "\n",
    "plt.hlines(np.mean(avg_concr), -2, 18, color='black', ls='-.', label=r'Avg. Concreteness of sustainability reports')\n",
    "\n",
    "y1 = np.ones(len(range(20)))*(np.mean(wiki_concr)-2*np.std(wiki_concr))\n",
    "y2 = np.ones(len(range(20)))*(np.mean(wiki_concr)+2*np.std(wiki_concr))\n",
    "\n",
    "plt.fill_between(np.arange(20), y1, y2, color=\"gray\", alpha=0.5, label=r'Avg. Concreteness of Wikipedia pages$\\pm2\\sigma$')\n",
    "plt.fill_between(np.arange(20), y1+np.std(wiki_concr), y2-np.std(wiki_concr), color=\"gray\", alpha=0.75, label=r'Avg. Concreteness of Wikipedia pages$\\pm\\sigma$')\n",
    "plt.hlines(2.5, -2, 20, color='r', ls='--', alpha=0.6)\n",
    "\n",
    "plt.bar(np.arange(1, 18), fafas_concr, color=sdg_color_list, edgecolor='black')\n",
    "\n",
    "plt.xlim(0,18)\n",
    "plt.xticks(np.arange(1, 18), labels=short_labels, rotation=45,ha=\"right\")\n",
    "plt.legend()\n",
    "plt.show()"
   ]
  },
  {
   "cell_type": "markdown",
   "id": "39df13cd",
   "metadata": {},
   "source": [
    "# Length vs. concreteness"
   ]
  },
  {
   "cell_type": "markdown",
   "id": "c5364c1c",
   "metadata": {},
   "source": [
    "## Wikipedia"
   ]
  },
  {
   "cell_type": "code",
   "execution_count": 243,
   "id": "34efc1b6",
   "metadata": {
    "ExecuteTime": {
     "end_time": "2025-09-10T14:15:47.261759Z",
     "start_time": "2025-09-10T14:15:46.863016Z"
    }
   },
   "outputs": [
    {
     "data": {
      "application/vnd.jupyter.widget-view+json": {
       "model_id": "08689e9e464841819e6516ccfc42583c",
       "version_major": 2,
       "version_minor": 0
      },
      "text/plain": [
       "  0%|          | 0/4001 [00:00<?, ?it/s]"
      ]
     },
     "metadata": {},
     "output_type": "display_data"
    }
   ],
   "source": [
    "wiki_len=np.zeros(len(wiki_texts_files))\n",
    "for i_f, file in enumerate(tqdm(wiki_texts_files)):\n",
    "    with open(WIKI_TEXT_FOLDER+file, 'r') as f:\n",
    "        _text=f.readline()\n",
    "    wiki_len[i_f]=len(_text)"
   ]
  },
  {
   "cell_type": "code",
   "execution_count": 246,
   "id": "183120a1",
   "metadata": {
    "ExecuteTime": {
     "end_time": "2025-09-10T14:17:08.094601Z",
     "start_time": "2025-09-10T14:17:07.751174Z"
    }
   },
   "outputs": [
    {
     "data": {
      "image/png": "[encoded data removed]",
      "text/plain": [
       "<Figure size 640x480 with 1 Axes>"
      ]
     },
     "metadata": {},
     "output_type": "display_data"
    }
   ],
   "source": [
    "plt.scatter(wiki_len, wiki_concr)\n",
    "plt.xlabel('Length (in tokens)', fontsize=16)\n",
    "plt.ylabel('Concreteness', fontsize=16)\n",
    "plt.show()"
   ]
  },
  {
   "cell_type": "markdown",
   "id": "c5cca55b",
   "metadata": {},
   "source": [
    "## Reports"
   ]
  },
  {
   "cell_type": "code",
   "execution_count": 247,
   "id": "2eba5cfe",
   "metadata": {
    "ExecuteTime": {
     "end_time": "2025-09-10T14:19:07.914751Z",
     "start_time": "2025-09-10T14:19:07.443585Z"
    }
   },
   "outputs": [
    {
     "data": {
      "application/vnd.jupyter.widget-view+json": {
       "model_id": "8b246eab9f8f4a6497c0d95642925927",
       "version_major": 2,
       "version_minor": 0
      },
      "text/plain": [
       "  0%|          | 0/573 [00:00<?, ?it/s]"
      ]
     },
     "metadata": {},
     "output_type": "display_data"
    }
   ],
   "source": [
    "l_reports=np.zeros(len(textfiles))\n",
    "for i_tf, textfile in enumerate(tqdm(textfiles)):\n",
    "    with open(TEXT_FOLDER+textfile, 'r') as f:\n",
    "        _text=f.readline()\n",
    "    l_reports[i_tf]=len(_text)"
   ]
  },
  {
   "cell_type": "code",
   "execution_count": 250,
   "id": "f8c0b7c7",
   "metadata": {
    "ExecuteTime": {
     "end_time": "2025-09-10T14:21:23.608828Z",
     "start_time": "2025-09-10T14:21:23.285307Z"
    }
   },
   "outputs": [
    {
     "data": {
      "image/png": "[encoded data removed]",
      "text/plain": [
       "<Figure size 640x480 with 1 Axes>"
      ]
     },
     "metadata": {},
     "output_type": "display_data"
    }
   ],
   "source": [
    "plt.scatter(l_reports, output['concreteness'])\n",
    "plt.xlabel('Length (in tokens)', fontsize=16)\n",
    "plt.ylabel('Concreteness', fontsize=16)\n",
    "plt.ylim(1.2, 2.8)\n",
    "plt.show()"
   ]
  },
  {
   "cell_type": "code",
   "execution_count": 294,
   "id": "50669020",
   "metadata": {
    "ExecuteTime": {
     "end_time": "2025-09-10T15:38:26.715353Z",
     "start_time": "2025-09-10T15:38:26.671248Z"
    }
   },
   "outputs": [
    {
     "data": {
      "text/plain": [
       "SignificanceResult(statistic=-0.11916525115743107, pvalue=0.004283886047920487)"
      ]
     },
     "execution_count": 294,
     "metadata": {},
     "output_type": "execute_result"
    }
   ],
   "source": [
    "spearmanr(l_reports, output['concreteness'])"
   ]
  },
  {
   "cell_type": "markdown",
   "id": "d1f8f46b",
   "metadata": {},
   "source": [
    "### Is it due to the length of the documents?"
   ]
  },
  {
   "cell_type": "code",
   "execution_count": 297,
   "id": "32371104",
   "metadata": {
    "ExecuteTime": {
     "end_time": "2025-09-11T09:36:35.174908Z",
     "start_time": "2025-09-11T09:36:35.164470Z"
    }
   },
   "outputs": [],
   "source": [
    "bins = np.linspace(l_reports.min(), l_reports.max(), 15)"
   ]
  },
  {
   "cell_type": "code",
   "execution_count": 298,
   "id": "9982d4f6",
   "metadata": {
    "ExecuteTime": {
     "end_time": "2025-09-11T09:36:38.047466Z",
     "start_time": "2025-09-11T09:36:38.041216Z"
    }
   },
   "outputs": [],
   "source": [
    "digitized = np.digitize(l_reports, bins)"
   ]
  },
  {
   "cell_type": "code",
   "execution_count": 299,
   "id": "63331710",
   "metadata": {
    "ExecuteTime": {
     "end_time": "2025-09-11T09:36:48.652222Z",
     "start_time": "2025-09-11T09:36:48.639824Z"
    }
   },
   "outputs": [
    {
     "name": "stderr",
     "output_type": "stream",
     "text": [
      "/tmp/ipykernel_9742/2349495271.py:1: RuntimeWarning: Degrees of freedom <= 0 for slice\n",
      "  variances = [output['concreteness'][digitized == i].var() for i in range(1, len(bins))]\n",
      "/home/sarawalk/sdgs_py38/lib/python3.8/site-packages/numpy/core/_methods.py:226: RuntimeWarning: invalid value encountered in divide\n",
      "  arrmean = um.true_divide(arrmean, div, out=arrmean,\n",
      "/home/sarawalk/sdgs_py38/lib/python3.8/site-packages/numpy/core/_methods.py:261: RuntimeWarning: invalid value encountered in scalar divide\n",
      "  ret = ret.dtype.type(ret / rcount)\n"
     ]
    }
   ],
   "source": [
    "variances = [output['concreteness'][digitized == i].var() for i in range(1, len(bins))]"
   ]
  },
  {
   "cell_type": "code",
   "execution_count": 300,
   "id": "faaa2833",
   "metadata": {
    "ExecuteTime": {
     "end_time": "2025-09-11T09:37:04.175758Z",
     "start_time": "2025-09-11T09:37:04.167669Z"
    }
   },
   "outputs": [],
   "source": [
    "len_var = np.array([len(output['concreteness'][digitized == i])/len(output['concreteness']) for i in range(1, len(bins))])"
   ]
  },
  {
   "cell_type": "code",
   "execution_count": 301,
   "id": "96d24cae",
   "metadata": {
    "ExecuteTime": {
     "end_time": "2025-09-11T09:37:09.711711Z",
     "start_time": "2025-09-11T09:37:09.705640Z"
    }
   },
   "outputs": [],
   "source": [
    "bin_centers = 0.5 * (bins[:-1] + bins[1:])"
   ]
  },
  {
   "cell_type": "code",
   "execution_count": 302,
   "id": "d7da4086",
   "metadata": {
    "ExecuteTime": {
     "end_time": "2025-09-11T09:37:11.853390Z",
     "start_time": "2025-09-11T09:37:11.274641Z"
    }
   },
   "outputs": [
    {
     "data": {
      "image/png": "[encoded data removed]",
      "text/plain": [
       "<Figure size 1000x600 with 2 Axes>"
      ]
     },
     "metadata": {},
     "output_type": "display_data"
    }
   ],
   "source": [
    "fig, axs=plt.subplots(1,2, figsize=(10,6))\n",
    "axs[0].plot(bin_centers, variances, marker='o')\n",
    "axs[0].set_xlim(-.05*10**6, 1.05*10**6)\n",
    "\n",
    "axs[1].plot(bin_centers, len_var, marker='x')\n",
    "axs[1].set_xlim(-.05*10**6, 1.05*10**6)\n",
    "plt.show()"
   ]
  },
  {
   "cell_type": "code",
   "execution_count": 303,
   "id": "cefb31de",
   "metadata": {
    "ExecuteTime": {
     "end_time": "2025-09-11T09:37:49.715555Z",
     "start_time": "2025-09-11T09:37:49.697087Z"
    }
   },
   "outputs": [
    {
     "name": "stdout",
     "output_type": "stream",
     "text": [
      "1) stat=0.099, pval=1.90e-01\n",
      "2) stat=0.075, pval=3.66e-01\n",
      "3) stat=0.040, pval=9.97e-01\n",
      "4) stat=0.089, pval=7.01e-01\n",
      "5) stat=0.202, pval=1.35e-01\n",
      "6) stat=0.483, pval=2.99e-03\n",
      "7) stat=0.812, pval=7.27e-02\n",
      "8) stat=0.436, pval=5.00e-01\n",
      "9) stat=0.855, pval=2.93e-01\n",
      "10) stat=0.543, pval=2.45e-01\n",
      "11) stat=0.557, pval=8.89e-01\n"
     ]
    }
   ],
   "source": [
    "ks_pvals=[]\n",
    "for i in range(1, len(bins)):\n",
    "    sliced_distribution=output['concreteness'][digitized == i]\n",
    "    if len(sliced_distribution)>0:\n",
    "        stat, pval = ks_2samp(output['concreteness'], sliced_distribution)\n",
    "        print(f'{i}) stat={stat:.3f}, pval={pval:.2e}')\n",
    "        ks_pvals.append(pval)"
   ]
  },
  {
   "cell_type": "code",
   "execution_count": 307,
   "id": "09fe2fd9",
   "metadata": {
    "ExecuteTime": {
     "end_time": "2025-09-11T09:38:48.844305Z",
     "start_time": "2025-09-11T09:38:48.834957Z"
    }
   },
   "outputs": [],
   "source": [
    "fdr_005_ks_pvals=fdr(ks_pvals, 0.05)"
   ]
  },
  {
   "cell_type": "code",
   "execution_count": 309,
   "id": "d29926ad",
   "metadata": {
    "ExecuteTime": {
     "end_time": "2025-09-11T09:39:03.623823Z",
     "start_time": "2025-09-11T09:39:03.615089Z"
    }
   },
   "outputs": [
    {
     "data": {
      "text/plain": [
       "'4.55e-03'"
      ]
     },
     "execution_count": 309,
     "metadata": {},
     "output_type": "execute_result"
    }
   ],
   "source": [
    "f'{fdr_005_ks_pvals:.2e}'"
   ]
  },
  {
   "cell_type": "markdown",
   "id": "f7f402fc",
   "metadata": {},
   "source": [
    "## Fast Facts"
   ]
  },
  {
   "cell_type": "code",
   "execution_count": 286,
   "id": "55a37d99",
   "metadata": {
    "ExecuteTime": {
     "end_time": "2025-09-10T15:29:20.194587Z",
     "start_time": "2025-09-10T15:29:20.154727Z"
    }
   },
   "outputs": [
    {
     "data": {
      "application/vnd.jupyter.widget-view+json": {
       "model_id": "3d722a68c6ac4ac2b47e5dd3ce7c3528",
       "version_major": 2,
       "version_minor": 0
      },
      "text/plain": [
       "  0%|          | 0/17 [00:00<?, ?it/s]"
      ]
     },
     "metadata": {},
     "output_type": "display_data"
    }
   ],
   "source": [
    "fafas_l=np.zeros(17)\n",
    "for i_f, file in enumerate(tqdm(fafas_texts_files[:-1])):\n",
    "    index=file.split('-')[1]\n",
    "    index=int(index.split('_')[0])-1\n",
    "    with open(BENCHMARK_FOLDER+file, 'r') as f:\n",
    "        _text=f.read()\n",
    "    _text=first_text_cleaner(_text)\n",
    "    fafas_l[index]=len(_text)"
   ]
  },
  {
   "cell_type": "code",
   "execution_count": 289,
   "id": "ad62a914",
   "metadata": {
    "ExecuteTime": {
     "end_time": "2025-09-10T15:30:50.080172Z",
     "start_time": "2025-09-10T15:30:49.758539Z"
    }
   },
   "outputs": [
    {
     "data": {
      "image/png": "[encoded data removed]",
      "text/plain": [
       "<Figure size 640x480 with 1 Axes>"
      ]
     },
     "metadata": {},
     "output_type": "display_data"
    }
   ],
   "source": [
    "plt.scatter(fafas_l, fafas_concr)\n",
    "plt.xlabel('Length (in tokens)', fontsize=16)\n",
    "plt.ylabel('Concreteness', fontsize=16)\n",
    "plt.ylim(1.2, 2.8)\n",
    "plt.show()"
   ]
  },
  {
   "cell_type": "code",
   "execution_count": 292,
   "id": "6887e26d",
   "metadata": {
    "ExecuteTime": {
     "end_time": "2025-09-10T15:34:18.656839Z",
     "start_time": "2025-09-10T15:34:18.640755Z"
    }
   },
   "outputs": [
    {
     "data": {
      "text/plain": [
       "Mann_Kendall_Test(trend='increasing', h=True, p=0.0356564176022276, z=2.100824014157668, Tau=0.38235294117647056, s=52.0, var_s=589.3333333333334, slope=0.012210375636428555, intercept=1.501167007343499)"
      ]
     },
     "execution_count": 292,
     "metadata": {},
     "output_type": "execute_result"
    }
   ],
   "source": [
    "mk.original_test(fafas_concr[np.argsort(fafas_l)])"
   ]
  },
  {
   "cell_type": "code",
   "execution_count": 295,
   "id": "68501298",
   "metadata": {
    "ExecuteTime": {
     "end_time": "2025-09-10T15:38:50.496893Z",
     "start_time": "2025-09-10T15:38:50.486163Z"
    }
   },
   "outputs": [
    {
     "data": {
      "text/plain": [
       "SignificanceResult(statistic=0.5000000000000001, pvalue=0.040968955955836106)"
      ]
     },
     "execution_count": 295,
     "metadata": {},
     "output_type": "execute_result"
    }
   ],
   "source": [
    "spearmanr(fafas_l,fafas_concr)"
   ]
  },
  {
   "cell_type": "markdown",
   "id": "516e0d91",
   "metadata": {},
   "source": [
    "# Cosine against Wiki vs. concreteness"
   ]
  },
  {
   "cell_type": "code",
   "execution_count": 310,
   "id": "c43f9bec",
   "metadata": {
    "ExecuteTime": {
     "end_time": "2025-09-11T09:42:20.949261Z",
     "start_time": "2025-09-11T09:42:20.936442Z"
    }
   },
   "outputs": [],
   "source": [
    "with open('./NewProcessedData/Data2BXported/reports_vs_wikipedia.pickle', 'rb') as f:\n",
    "    rep_wiki=pickle.load(f)"
   ]
  },
  {
   "cell_type": "code",
   "execution_count": 311,
   "id": "9518b50e",
   "metadata": {
    "ExecuteTime": {
     "end_time": "2025-09-11T09:42:25.869836Z",
     "start_time": "2025-09-11T09:42:25.860724Z"
    }
   },
   "outputs": [
    {
     "data": {
      "text/plain": [
       "(573, 4001)"
      ]
     },
     "execution_count": 311,
     "metadata": {},
     "output_type": "execute_result"
    }
   ],
   "source": [
    "rep_wiki.shape"
   ]
  },
  {
   "cell_type": "code",
   "execution_count": 313,
   "id": "f56bc4d2",
   "metadata": {
    "ExecuteTime": {
     "end_time": "2025-09-11T09:42:51.729180Z",
     "start_time": "2025-09-11T09:42:51.721678Z"
    }
   },
   "outputs": [],
   "source": [
    "mean_cos_wiki=np.mean(rep_wiki, axis=1)"
   ]
  },
  {
   "cell_type": "code",
   "execution_count": 315,
   "id": "ea6aa045",
   "metadata": {
    "ExecuteTime": {
     "end_time": "2025-09-11T09:43:25.206495Z",
     "start_time": "2025-09-11T09:43:24.847913Z"
    }
   },
   "outputs": [
    {
     "data": {
      "image/png": "[encoded data removed]",
      "text/plain": [
       "<Figure size 640x480 with 1 Axes>"
      ]
     },
     "metadata": {},
     "output_type": "display_data"
    }
   ],
   "source": [
    "plt.scatter(mean_cos_wiki, output['concreteness'])\n",
    "plt.show()"
   ]
  },
  {
   "cell_type": "code",
   "execution_count": 316,
   "id": "83851e36",
   "metadata": {
    "ExecuteTime": {
     "end_time": "2025-09-11T09:44:20.407830Z",
     "start_time": "2025-09-11T09:44:20.395157Z"
    }
   },
   "outputs": [
    {
     "data": {
      "text/plain": [
       "SignificanceResult(statistic=0.30568543957638583, pvalue=7.367429178724005e-14)"
      ]
     },
     "execution_count": 316,
     "metadata": {},
     "output_type": "execute_result"
    }
   ],
   "source": [
    "spearmanr(mean_cos_wiki, output['concreteness'])"
   ]
  },
  {
   "cell_type": "code",
   "execution_count": null,
   "id": "5c6e8924",
   "metadata": {},
   "outputs": [],
   "source": []
  }
 ],
 "metadata": {
  "kernelspec": {
   "display_name": "Python 3 (ipykernel)",
   "language": "python",
   "name": "python3"
  },
  "language_info": {
   "codemirror_mode": {
    "name": "ipython",
    "version": 3
   },
   "file_extension": ".py",
   "mimetype": "text/x-python",
   "name": "python",
   "nbconvert_exporter": "python",
   "pygments_lexer": "ipython3",
   "version": "3.8.10"
  },
  "notify_time": "5",
  "toc": {
   "base_numbering": 1,
   "nav_menu": {},
   "number_sections": true,
   "sideBar": true,
   "skip_h1_title": false,
   "title_cell": "Table of Contents",
   "title_sidebar": "Contents",
   "toc_cell": false,
   "toc_position": {
    "height": "calc(100% - 180px)",
    "left": "10px",
    "top": "150px",
    "width": "288px"
   },
   "toc_section_display": true,
   "toc_window_display": true
  }
 },
 "nbformat": 4,
 "nbformat_minor": 5
}
