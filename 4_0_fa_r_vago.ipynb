{
 "cells": [
  {
   "cell_type": "markdown",
   "id": "25ecf3f7",
   "metadata": {},
   "source": [
    "# Intro"
   ]
  },
  {
   "cell_type": "markdown",
   "id": "b7ff21f7",
   "metadata": {},
   "source": [
    "## Standard modules"
   ]
  },
  {
   "cell_type": "code",
   "execution_count": 1,
   "id": "2bd95f15",
   "metadata": {
    "ExecuteTime": {
     "end_time": "2025-09-08T14:01:28.625765Z",
     "start_time": "2025-09-08T14:01:28.505079Z"
    }
   },
   "outputs": [],
   "source": [
    "import os, sys\n",
    "import pathlib\n",
    "import requests"
   ]
  },
  {
   "cell_type": "code",
   "execution_count": 58,
   "id": "f7ef1ee2",
   "metadata": {
    "ExecuteTime": {
     "end_time": "2025-09-08T14:28:14.336823Z",
     "start_time": "2025-09-08T14:28:14.331573Z"
    }
   },
   "outputs": [],
   "source": [
    "import pickle"
   ]
  },
  {
   "cell_type": "code",
   "execution_count": 2,
   "id": "56c0b6b6",
   "metadata": {
    "ExecuteTime": {
     "end_time": "2025-09-08T14:01:28.758666Z",
     "start_time": "2025-09-08T14:01:28.631872Z"
    }
   },
   "outputs": [],
   "source": [
    "import numpy as np"
   ]
  },
  {
   "cell_type": "code",
   "execution_count": 3,
   "id": "397f3fb2",
   "metadata": {
    "ExecuteTime": {
     "end_time": "2025-09-08T14:01:28.892517Z",
     "start_time": "2025-09-08T14:01:28.762328Z"
    }
   },
   "outputs": [],
   "source": [
    "from tqdm.auto import tqdm, trange"
   ]
  },
  {
   "cell_type": "code",
   "execution_count": 4,
   "id": "e5bc54c4",
   "metadata": {
    "ExecuteTime": {
     "end_time": "2025-09-08T14:01:32.561670Z",
     "start_time": "2025-09-08T14:01:28.895841Z"
    }
   },
   "outputs": [],
   "source": [
    "from sentence_transformers import util"
   ]
  },
  {
   "cell_type": "code",
   "execution_count": 5,
   "id": "8a0e4512",
   "metadata": {
    "ExecuteTime": {
     "end_time": "2025-09-08T14:01:33.288797Z",
     "start_time": "2025-09-08T14:01:32.568068Z"
    }
   },
   "outputs": [],
   "source": [
    "import matplotlib.pyplot as plt\n",
    "plt.rcParams['axes.linewidth'] = 2\n",
    "plt.rcParams['xtick.major.size'] = 10\n",
    "plt.rcParams['xtick.major.width'] = 2\n",
    "plt.rcParams['ytick.major.size'] = 10\n",
    "plt.rcParams['ytick.major.width'] = 2\n",
    "\n",
    "plt.rcParams['xtick.labelsize'] = 14\n",
    "plt.rcParams['ytick.labelsize'] = 14\n",
    "\n",
    "plt.rcParams['xtick.minor.size'] = 5\n",
    "plt.rcParams['xtick.minor.width'] = 1\n",
    "plt.rcParams['ytick.minor.size'] = 5\n",
    "plt.rcParams['ytick.minor.width'] = 1"
   ]
  },
  {
   "cell_type": "code",
   "execution_count": 6,
   "id": "ab3baedf",
   "metadata": {
    "ExecuteTime": {
     "end_time": "2025-09-08T14:01:33.296973Z",
     "start_time": "2025-09-08T14:01:33.292141Z"
    }
   },
   "outputs": [],
   "source": [
    "from matplotlib.ticker import ScalarFormatter # per mettere i ticks in notazione scientifica"
   ]
  },
  {
   "cell_type": "markdown",
   "id": "5f624142",
   "metadata": {},
   "source": [
    "## Personal modules"
   ]
  },
  {
   "cell_type": "code",
   "execution_count": 7,
   "id": "fcb33638",
   "metadata": {
    "ExecuteTime": {
     "end_time": "2025-09-08T14:01:33.414387Z",
     "start_time": "2025-09-08T14:01:33.300163Z"
    }
   },
   "outputs": [],
   "source": [
    "from toolbox.updater import time_is_now"
   ]
  },
  {
   "cell_type": "markdown",
   "id": "e5b54633",
   "metadata": {},
   "source": [
    "## Folders"
   ]
  },
  {
   "cell_type": "code",
   "execution_count": 18,
   "id": "011dd49a",
   "metadata": {
    "ExecuteTime": {
     "end_time": "2025-09-08T14:10:29.688916Z",
     "start_time": "2025-09-08T14:10:29.682881Z"
    }
   },
   "outputs": [],
   "source": [
    "VECTOR_FOLDER='./NewProcessedData/vectors/'"
   ]
  },
  {
   "cell_type": "code",
   "execution_count": 19,
   "id": "a5f7f409",
   "metadata": {
    "ExecuteTime": {
     "end_time": "2025-09-08T14:10:29.860690Z",
     "start_time": "2025-09-08T14:10:29.855405Z"
    }
   },
   "outputs": [],
   "source": [
    "BENCHMARK_FOLDER='./NewProcessedData/benchmarks/'"
   ]
  },
  {
   "cell_type": "code",
   "execution_count": 20,
   "id": "ebaa3e37",
   "metadata": {
    "ExecuteTime": {
     "end_time": "2025-09-08T14:10:30.007398Z",
     "start_time": "2025-09-08T14:10:30.001235Z"
    }
   },
   "outputs": [],
   "source": [
    "PCA_CENTR_VECTOR_FOLDER='./NewProcessedData/abtt5_vectors/'"
   ]
  },
  {
   "cell_type": "code",
   "execution_count": 21,
   "id": "5bfe785c",
   "metadata": {
    "ExecuteTime": {
     "end_time": "2025-09-08T14:10:30.187702Z",
     "start_time": "2025-09-08T14:10:30.181404Z"
    }
   },
   "outputs": [],
   "source": [
    "ABTT1_VECTOR_FOLDER='./NewProcessedData/abtt1_vectors/'"
   ]
  },
  {
   "cell_type": "code",
   "execution_count": 22,
   "id": "3cb660b6",
   "metadata": {
    "ExecuteTime": {
     "end_time": "2025-09-08T14:10:30.338658Z",
     "start_time": "2025-09-08T14:10:30.332864Z"
    }
   },
   "outputs": [],
   "source": [
    "WIKI_FOLDER='./NewProcessedData/wikipedia/vectors/'"
   ]
  },
  {
   "cell_type": "code",
   "execution_count": 23,
   "id": "62cdae2e",
   "metadata": {
    "ExecuteTime": {
     "end_time": "2025-09-08T14:10:30.524673Z",
     "start_time": "2025-09-08T14:10:30.518490Z"
    }
   },
   "outputs": [],
   "source": [
    "TEXT_FOLDER='./NewProcessedData/texts/'"
   ]
  },
  {
   "cell_type": "markdown",
   "id": "0e57fe02",
   "metadata": {},
   "source": [
    "## Reports' texts"
   ]
  },
  {
   "cell_type": "code",
   "execution_count": 24,
   "id": "ca9db35b",
   "metadata": {
    "ExecuteTime": {
     "end_time": "2025-09-08T14:10:31.214606Z",
     "start_time": "2025-09-08T14:10:31.208479Z"
    }
   },
   "outputs": [],
   "source": [
    "textfiles=os.listdir(TEXT_FOLDER)"
   ]
  },
  {
   "cell_type": "code",
   "execution_count": 25,
   "id": "900affda",
   "metadata": {
    "ExecuteTime": {
     "end_time": "2025-09-08T14:10:31.547462Z",
     "start_time": "2025-09-08T14:10:31.541609Z"
    }
   },
   "outputs": [],
   "source": [
    "textfiles.sort()"
   ]
  },
  {
   "cell_type": "code",
   "execution_count": 26,
   "id": "7062760f",
   "metadata": {
    "ExecuteTime": {
     "end_time": "2025-09-08T14:10:32.214767Z",
     "start_time": "2025-09-08T14:10:32.205777Z"
    }
   },
   "outputs": [
    {
     "data": {
      "text/plain": [
       "575"
      ]
     },
     "execution_count": 26,
     "metadata": {},
     "output_type": "execute_result"
    }
   ],
   "source": [
    "# files from 2024 are un reliable, \n",
    "# as they probably refer to a different accounting year,\n",
    "# due to differences with other countries\n",
    "len(textfiles)"
   ]
  },
  {
   "cell_type": "code",
   "execution_count": 27,
   "id": "50d04ee3",
   "metadata": {
    "ExecuteTime": {
     "end_time": "2025-09-08T14:10:33.496861Z",
     "start_time": "2025-09-08T14:10:33.490035Z"
    }
   },
   "outputs": [],
   "source": [
    "textfiles=[textfile for textfile in textfiles if not textfile.startswith('2024')]"
   ]
  },
  {
   "cell_type": "code",
   "execution_count": 28,
   "id": "5a6d8fdc",
   "metadata": {
    "ExecuteTime": {
     "end_time": "2025-09-08T14:10:33.954565Z",
     "start_time": "2025-09-08T14:10:33.946168Z"
    }
   },
   "outputs": [
    {
     "data": {
      "text/plain": [
       "573"
      ]
     },
     "execution_count": 28,
     "metadata": {},
     "output_type": "execute_result"
    }
   ],
   "source": [
    "len(textfiles)"
   ]
  },
  {
   "cell_type": "markdown",
   "id": "242fad4d",
   "metadata": {
    "heading_collapsed": true
   },
   "source": [
    "## FDR"
   ]
  },
  {
   "cell_type": "code",
   "execution_count": 19,
   "id": "03009981",
   "metadata": {
    "ExecuteTime": {
     "end_time": "2025-09-08T13:56:34.609408Z",
     "start_time": "2025-09-08T13:56:34.532230Z"
    },
    "hidden": true
   },
   "outputs": [],
   "source": [
    "def fdr(pvals, alpha):\n",
    "    l_pvals=len(pvals)\n",
    "    s_pvals=np.sort(pvals)\n",
    "    fdr_levels=(1+np.arange(l_pvals))/l_pvals*alpha\n",
    "    fdr_mask=s_pvals<=fdr_levels\n",
    "    if np.sum(fdr_mask)>0:\n",
    "        return fdr_levels[fdr_mask][-1]\n",
    "    else:\n",
    "        return 0"
   ]
  },
  {
   "cell_type": "markdown",
   "id": "0705e5dc",
   "metadata": {
    "heading_collapsed": true
   },
   "source": [
    "## Sector helper"
   ]
  },
  {
   "cell_type": "code",
   "execution_count": 20,
   "id": "cefa591c",
   "metadata": {
    "ExecuteTime": {
     "end_time": "2025-09-08T13:56:34.706669Z",
     "start_time": "2025-09-08T13:56:34.613033Z"
    },
    "hidden": true
   },
   "outputs": [],
   "source": [
    "rtf_files=os.listdir('./rtf')\n",
    "rtf_files.sort()"
   ]
  },
  {
   "cell_type": "code",
   "execution_count": 21,
   "id": "59d8fda1",
   "metadata": {
    "ExecuteTime": {
     "end_time": "2025-09-08T13:56:34.798728Z",
     "start_time": "2025-09-08T13:56:34.710016Z"
    },
    "hidden": true
   },
   "outputs": [],
   "source": [
    "sec_helper={}\n",
    "for file in rtf_files:\n",
    "    splitted_name=file.split('_')\n",
    "    if splitted_name[0].isnumeric():\n",
    "        if splitted_name[0] not in sec_helper.keys():\n",
    "            sec_helper[splitted_name[0].zfill(2)]=splitted_name[1]"
   ]
  },
  {
   "cell_type": "code",
   "execution_count": 22,
   "id": "f76a4b27",
   "metadata": {
    "ExecuteTime": {
     "end_time": "2025-09-08T13:56:34.903485Z",
     "start_time": "2025-09-08T13:56:34.802368Z"
    },
    "hidden": true
   },
   "outputs": [
    {
     "data": {
      "text/plain": [
       "{'10': 'Telecommunications',\n",
       " '11': 'Utilities',\n",
       " '01': 'Basic Materials',\n",
       " '02': 'Consumer Discretionary',\n",
       " '03': 'Consumer Staples',\n",
       " '04': 'Energy',\n",
       " '05': 'Financials',\n",
       " '06': 'Health Care',\n",
       " '07': 'Industrials',\n",
       " '08': 'Real Estate',\n",
       " '09': 'Technology'}"
      ]
     },
     "execution_count": 22,
     "metadata": {},
     "output_type": "execute_result"
    }
   ],
   "source": [
    "sec_helper"
   ]
  },
  {
   "cell_type": "code",
   "execution_count": 23,
   "id": "14583d4f",
   "metadata": {
    "ExecuteTime": {
     "end_time": "2025-09-08T13:56:35.004844Z",
     "start_time": "2025-09-08T13:56:34.907305Z"
    },
    "hidden": true
   },
   "outputs": [],
   "source": [
    "secs=list(sec_helper.keys())"
   ]
  },
  {
   "cell_type": "code",
   "execution_count": 24,
   "id": "9bb067bc",
   "metadata": {
    "ExecuteTime": {
     "end_time": "2025-09-08T13:56:35.075471Z",
     "start_time": "2025-09-08T13:56:35.007900Z"
    },
    "hidden": true
   },
   "outputs": [],
   "source": [
    "secs=sorted(secs)"
   ]
  },
  {
   "cell_type": "code",
   "execution_count": 25,
   "id": "b9bc8928",
   "metadata": {
    "ExecuteTime": {
     "end_time": "2025-09-08T13:56:35.150558Z",
     "start_time": "2025-09-08T13:56:35.078983Z"
    },
    "hidden": true
   },
   "outputs": [],
   "source": [
    " sec_helper=dict(sorted(sec_helper.items()))"
   ]
  },
  {
   "cell_type": "code",
   "execution_count": 26,
   "id": "de9a2f67",
   "metadata": {
    "ExecuteTime": {
     "end_time": "2025-09-08T13:56:35.229466Z",
     "start_time": "2025-09-08T13:56:35.154091Z"
    },
    "hidden": true
   },
   "outputs": [
    {
     "data": {
      "text/plain": [
       "{'01': 'Basic Materials',\n",
       " '02': 'Consumer Discretionary',\n",
       " '03': 'Consumer Staples',\n",
       " '04': 'Energy',\n",
       " '05': 'Financials',\n",
       " '06': 'Health Care',\n",
       " '07': 'Industrials',\n",
       " '08': 'Real Estate',\n",
       " '09': 'Technology',\n",
       " '10': 'Telecommunications',\n",
       " '11': 'Utilities'}"
      ]
     },
     "execution_count": 26,
     "metadata": {},
     "output_type": "execute_result"
    }
   ],
   "source": [
    "sec_helper"
   ]
  },
  {
   "cell_type": "markdown",
   "id": "86136006",
   "metadata": {
    "hidden": true
   },
   "source": [
    "### Aggregated sectors"
   ]
  },
  {
   "cell_type": "code",
   "execution_count": 27,
   "id": "12594b7a",
   "metadata": {
    "ExecuteTime": {
     "end_time": "2025-09-08T13:56:35.300636Z",
     "start_time": "2025-09-08T13:56:35.232969Z"
    },
    "hidden": true
   },
   "outputs": [],
   "source": [
    "agg_secs={'A': {'name':'Consumer Goods', 'sectors':{'02', '03'}}, \n",
    " 'B':{'name':'Essential Infrastructure & Services', 'sectors':{'08', '10', '11'}}, \n",
    " 'C':{'name':'Production Sectors','sectors':{'01', '04', '07'}},\n",
    " 'D':{'name':'Specialized Services','sectors':{'05', '06', '09'}}}"
   ]
  },
  {
   "cell_type": "code",
   "execution_count": 28,
   "id": "e2cbbbe0",
   "metadata": {
    "ExecuteTime": {
     "end_time": "2025-09-08T13:56:35.409562Z",
     "start_time": "2025-09-08T13:56:35.311476Z"
    },
    "hidden": true
   },
   "outputs": [],
   "source": [
    "sec2agg_d={'01':'C', '02':'A', '03':'A', '04':'C', '05':'D', '06':'D', '07':'C', '08':'B', '09':'D', '10':'B', '11':'B'}"
   ]
  },
  {
   "cell_type": "markdown",
   "id": "085757d6",
   "metadata": {
    "heading_collapsed": true
   },
   "source": [
    "## SDG helper"
   ]
  },
  {
   "cell_type": "code",
   "execution_count": 29,
   "id": "fd953431",
   "metadata": {
    "ExecuteTime": {
     "end_time": "2025-09-08T13:56:35.504832Z",
     "start_time": "2025-09-08T13:56:35.413184Z"
    },
    "hidden": true
   },
   "outputs": [],
   "source": [
    "sdg_helper={'01':'No Poverty', \n",
    " '02': 'Zero hunger', \n",
    " '03': 'Good health and well-being', \n",
    " '04': 'Quality education',\n",
    " '05': 'Gender equality',\n",
    " '06': 'Clean water and sanitation',\n",
    " '07': 'Affordable and clean energy',\n",
    " '08': 'Decent work and economic growth',\n",
    " '09': 'Industry, Innovation, Technology and Infrastructure',\n",
    " '10': 'Reduced inequality',\n",
    " '11': 'Sustainable cities and communities',\n",
    " '12': 'Responsible consumption and production',\n",
    " '13': 'Climate action',\n",
    " '14': 'Life below water',\n",
    " '15': 'Life on land',\n",
    " '16': 'Peace, justice and strong institutions',\n",
    " '17': 'Partnerships for the goals'\n",
    "}"
   ]
  },
  {
   "cell_type": "markdown",
   "id": "ca83187b",
   "metadata": {
    "heading_collapsed": true
   },
   "source": [
    "## Plot standards for sectors"
   ]
  },
  {
   "cell_type": "markdown",
   "id": "436e7729",
   "metadata": {
    "heading_collapsed": true,
    "hidden": true
   },
   "source": [
    "### Disaggregated sectors"
   ]
  },
  {
   "cell_type": "code",
   "execution_count": 30,
   "id": "324cf068",
   "metadata": {
    "ExecuteTime": {
     "end_time": "2025-09-08T13:56:35.619129Z",
     "start_time": "2025-09-08T13:56:35.508440Z"
    },
    "hidden": true
   },
   "outputs": [],
   "source": [
    "_colors=['navy', 'cyan', 'darkturquoise', 'orange', 'magenta', 'darkorchid', 'darkred', 'tomato', 'crimson', 'cadetblue', 'slateblue']"
   ]
  },
  {
   "cell_type": "code",
   "execution_count": 31,
   "id": "27918c12",
   "metadata": {
    "ExecuteTime": {
     "end_time": "2025-09-08T13:56:35.713424Z",
     "start_time": "2025-09-08T13:56:35.623004Z"
    },
    "hidden": true
   },
   "outputs": [],
   "source": [
    "_lss=['-', '--', ':', '-.']"
   ]
  },
  {
   "cell_type": "code",
   "execution_count": 32,
   "id": "381a581e",
   "metadata": {
    "ExecuteTime": {
     "end_time": "2025-09-08T13:56:35.800674Z",
     "start_time": "2025-09-08T13:56:35.716998Z"
    },
    "hidden": true
   },
   "outputs": [],
   "source": [
    "_markers=['^', 's', 'p', 'H', '8', 'X', 'D', '*', 'o']"
   ]
  },
  {
   "cell_type": "code",
   "execution_count": 33,
   "id": "df1ed660",
   "metadata": {
    "ExecuteTime": {
     "end_time": "2025-09-08T13:56:35.892632Z",
     "start_time": "2025-09-08T13:56:35.804503Z"
    },
    "hidden": true
   },
   "outputs": [],
   "source": [
    "sec_plots_feat={sec: {'color':_colors[i_s], 'ls':_lss[i_s % len(_lss)], 'marker':_markers[i_s %len(_markers)]} for i_s, sec in enumerate(secs)}"
   ]
  },
  {
   "cell_type": "code",
   "execution_count": 34,
   "id": "2faeb2c9",
   "metadata": {
    "ExecuteTime": {
     "end_time": "2025-09-08T13:56:35.990879Z",
     "start_time": "2025-09-08T13:56:35.896488Z"
    },
    "hidden": true
   },
   "outputs": [
    {
     "data": {
      "text/plain": [
       "{'01': {'color': 'navy', 'ls': '-', 'marker': '^'},\n",
       " '02': {'color': 'cyan', 'ls': '--', 'marker': 's'},\n",
       " '03': {'color': 'darkturquoise', 'ls': ':', 'marker': 'p'},\n",
       " '04': {'color': 'orange', 'ls': '-.', 'marker': 'H'},\n",
       " '05': {'color': 'magenta', 'ls': '-', 'marker': '8'},\n",
       " '06': {'color': 'darkorchid', 'ls': '--', 'marker': 'X'},\n",
       " '07': {'color': 'darkred', 'ls': ':', 'marker': 'D'},\n",
       " '08': {'color': 'tomato', 'ls': '-.', 'marker': '*'},\n",
       " '09': {'color': 'crimson', 'ls': '-', 'marker': 'o'},\n",
       " '10': {'color': 'cadetblue', 'ls': '--', 'marker': '^'},\n",
       " '11': {'color': 'slateblue', 'ls': ':', 'marker': 's'}}"
      ]
     },
     "execution_count": 34,
     "metadata": {},
     "output_type": "execute_result"
    }
   ],
   "source": [
    "sec_plots_feat"
   ]
  },
  {
   "cell_type": "markdown",
   "id": "3daf3764",
   "metadata": {
    "heading_collapsed": true,
    "hidden": true
   },
   "source": [
    "### Aggregated sectors"
   ]
  },
  {
   "cell_type": "code",
   "execution_count": 35,
   "id": "12b766e7",
   "metadata": {
    "ExecuteTime": {
     "end_time": "2025-09-08T13:56:36.095968Z",
     "start_time": "2025-09-08T13:56:35.994099Z"
    },
    "hidden": true
   },
   "outputs": [],
   "source": [
    "agg_sec_plots={'A': {'color':'navy', 'marker':'o', 'ls':'-'}, \n",
    "               'B': {'color':'darkcyan', 'marker':'*', 'ls':'--'},\n",
    "               'C': {'color':'magenta', 'marker':'D', 'ls':'-.'},\n",
    "               'D': {'color':'orange', 'marker':'s', 'ls':':'}}"
   ]
  },
  {
   "cell_type": "markdown",
   "id": "69e22e24",
   "metadata": {},
   "source": [
    "# Concreteness: a homemade module"
   ]
  },
  {
   "cell_type": "markdown",
   "id": "9d45174f",
   "metadata": {},
   "source": [
    "Actually, a GPT-made module"
   ]
  },
  {
   "cell_type": "code",
   "execution_count": 8,
   "id": "f72a4c4c",
   "metadata": {
    "ExecuteTime": {
     "end_time": "2025-09-08T14:01:35.791705Z",
     "start_time": "2025-09-08T14:01:33.425720Z"
    }
   },
   "outputs": [
    {
     "name": "stderr",
     "output_type": "stream",
     "text": [
      "/home/sarawalk/sdgs_py38/lib/python3.8/site-packages/torch/cuda/__init__.py:619: UserWarning: Can't initialize NVML\n",
      "  warnings.warn(\"Can't initialize NVML\")\n",
      "/home/sarawalk/sdgs_py38/lib/python3.8/site-packages/torch/cuda/__init__.py:749: UserWarning: CUDA initialization: The NVIDIA driver on your system is too old (found version 10020). Please update your GPU driver by downloading and installing a new version from the URL: http://www.nvidia.com/Download/index.aspx Alternatively, go to: https://pytorch.org to install a PyTorch version that has been compiled with your version of the CUDA driver. (Triggered internally at ../c10/cuda/CUDAFunctions.cpp:108.)\n",
      "  return torch._C._cuda_getDeviceCount() if nvml_count < 0 else nvml_count\n"
     ]
    }
   ],
   "source": [
    "from concrete_doc import load_model, text_concreteness, document_concreteness, word_concreteness"
   ]
  },
  {
   "cell_type": "markdown",
   "id": "2455a9b5",
   "metadata": {},
   "source": [
    "## Test"
   ]
  },
  {
   "cell_type": "code",
   "execution_count": 9,
   "id": "c9188015",
   "metadata": {
    "ExecuteTime": {
     "end_time": "2025-09-08T14:07:00.757822Z",
     "start_time": "2025-09-08T14:01:37.429415Z"
    }
   },
   "outputs": [
    {
     "data": {
      "application/vnd.jupyter.widget-view+json": {
       "model_id": "ee58f15251d74b91a9c898f7fb8bce88",
       "version_major": 2,
       "version_minor": 0
      },
      "text/plain": [
       "README.md: 0.00B [00:00, ?B/s]"
      ]
     },
     "metadata": {},
     "output_type": "display_data"
    }
   ],
   "source": [
    "# 1. Carica modello con dizionario di Brysbaert\n",
    "DICT_PATH='./concrete_doc/Brysbaert_et_al_2024.xlsx'\n",
    "model = load_model(DICT_PATH)"
   ]
  },
  {
   "cell_type": "code",
   "execution_count": 11,
   "id": "c209c6c0",
   "metadata": {
    "ExecuteTime": {
     "end_time": "2025-09-08T14:08:43.811548Z",
     "start_time": "2025-09-08T14:08:43.804530Z"
    }
   },
   "outputs": [
    {
     "name": "stdout",
     "output_type": "stream",
     "text": [
      "4.99332785045438\n",
      "1.076624942544107\n"
     ]
    }
   ],
   "source": [
    "# 2. Singola parola\n",
    "print(word_concreteness(\"dog\"))       # ~4.99\n",
    "print(word_concreteness(\"freedom\"))   # ~1.07"
   ]
  },
  {
   "cell_type": "code",
   "execution_count": 12,
   "id": "2f92917e",
   "metadata": {
    "ExecuteTime": {
     "end_time": "2025-09-08T14:08:45.224048Z",
     "start_time": "2025-09-08T14:08:45.188079Z"
    }
   },
   "outputs": [
    {
     "name": "stdout",
     "output_type": "stream",
     "text": [
      "2.723169907517171\n",
      "1.1669834035260722\n"
     ]
    }
   ],
   "source": [
    "# 3. Frase\n",
    "print(text_concreteness(\"The dog chased the ball in the garden.\"))\n",
    "print(text_concreteness(\"Freedom and justice are essential values.\"))"
   ]
  },
  {
   "cell_type": "code",
   "execution_count": 14,
   "id": "85e816df",
   "metadata": {
    "ExecuteTime": {
     "end_time": "2025-09-08T14:09:08.518585Z",
     "start_time": "2025-09-08T14:09:08.485446Z"
    }
   },
   "outputs": [
    {
     "name": "stdout",
     "output_type": "stream",
     "text": [
      "[2.723169907517171, 1.1669834035260722]\n"
     ]
    }
   ],
   "source": [
    "# 4. Lista di testi\n",
    "docs = [\n",
    "    \"The dog chased the ball in the garden.\",\n",
    "    \"Freedom and justice are essential values.\"\n",
    "]\n",
    "print(document_concreteness(docs))"
   ]
  },
  {
   "cell_type": "code",
   "execution_count": 17,
   "id": "4cad1c30",
   "metadata": {
    "ExecuteTime": {
     "end_time": "2025-09-08T14:09:59.121511Z",
     "start_time": "2025-09-08T14:09:59.094747Z"
    }
   },
   "outputs": [
    {
     "name": "stdout",
     "output_type": "stream",
     "text": [
      "2.0420061233854163\n"
     ]
    }
   ],
   "source": [
    "# 5. Più frasi\n",
    "print(text_concreteness(\"The dog chased the ball in the garden. Its (i.e. the ball) freedom and justice are essential values to me.\"))"
   ]
  },
  {
   "cell_type": "markdown",
   "id": "691ede0a",
   "metadata": {},
   "source": [
    "## Let's check it on the entire dataset..."
   ]
  },
  {
   "cell_type": "markdown",
   "id": "479e8a10",
   "metadata": {},
   "source": [
    "Ok, let's assume it works..."
   ]
  },
  {
   "cell_type": "code",
   "execution_count": 59,
   "id": "bd292c7b",
   "metadata": {
    "ExecuteTime": {
     "end_time": "2025-09-08T14:29:28.931043Z",
     "start_time": "2025-09-08T14:29:28.923611Z"
    }
   },
   "outputs": [],
   "source": [
    "output=np.zeros(len(textfiles), dtype=([('year', int), ('sector', 'U2'), ('company', 'U50'),('concreteness', float)]))"
   ]
  },
  {
   "cell_type": "code",
   "execution_count": null,
   "id": "10010676",
   "metadata": {
    "ExecuteTime": {
     "start_time": "2025-09-08T14:29:33.217Z"
    }
   },
   "outputs": [
    {
     "data": {
      "application/vnd.jupyter.widget-view+json": {
       "model_id": "3e06cf28efcf48ac82dbb07104861893",
       "version_major": 2,
       "version_minor": 0
      },
      "text/plain": [
       "  0%|          | 0/573 [00:00<?, ?it/s]"
      ]
     },
     "metadata": {},
     "output_type": "display_data"
    }
   ],
   "source": [
    "for i_tf, textfile in enumerate(tqdm(textfiles)):\n",
    "    # get info from the file name\n",
    "    textfile_splitted=textfile.split('_')\n",
    "    year=textfile_splitted[0]\n",
    "    sector=textfile_splitted[1]\n",
    "    company=textfile.replace(year+'_'+sector+'_', '').replace('_text.txt', '')\n",
    "    output[i_tf]['year']=year\n",
    "    output[i_tf]['sector']=sector\n",
    "    output[i_tf]['company']=company\n",
    "    with open(TEXT_FOLDER+textfile, 'r') as f:\n",
    "        _text=f.readline()\n",
    "    output[i_tf]['concreteness']=text_concreteness(_text)"
   ]
  },
  {
   "cell_type": "code",
   "execution_count": null,
   "id": "722063f2",
   "metadata": {
    "ExecuteTime": {
     "start_time": "2025-09-08T14:29:34.822Z"
    }
   },
   "outputs": [],
   "source": [
    "with open('./NewProcessedData/concreteness_reports.pickle', 'wb') as f:\n",
    "    pickle.dump(output, f)"
   ]
  },
  {
   "cell_type": "code",
   "execution_count": null,
   "id": "8a68fbbb",
   "metadata": {
    "ExecuteTime": {
     "start_time": "2025-09-08T16:07:12.306Z"
    }
   },
   "outputs": [],
   "source": [
    "print('Done!')"
   ]
  },
  {
   "cell_type": "code",
   "execution_count": null,
   "id": "ebb7d9e9",
   "metadata": {},
   "outputs": [],
   "source": []
  }
 ],
 "metadata": {
  "kernelspec": {
   "display_name": "Python 3 (ipykernel)",
   "language": "python",
   "name": "python3"
  },
  "language_info": {
   "codemirror_mode": {
    "name": "ipython",
    "version": 3
   },
   "file_extension": ".py",
   "mimetype": "text/x-python",
   "name": "python",
   "nbconvert_exporter": "python",
   "pygments_lexer": "ipython3",
   "version": "3.8.10"
  },
  "notify_time": "5",
  "toc": {
   "base_numbering": 1,
   "nav_menu": {},
   "number_sections": true,
   "sideBar": true,
   "skip_h1_title": false,
   "title_cell": "Table of Contents",
   "title_sidebar": "Contents",
   "toc_cell": false,
   "toc_position": {
    "height": "calc(100% - 180px)",
    "left": "10px",
    "top": "150px",
    "width": "288px"
   },
   "toc_section_display": true,
   "toc_window_display": true
  }
 },
 "nbformat": 4,
 "nbformat_minor": 5
}
