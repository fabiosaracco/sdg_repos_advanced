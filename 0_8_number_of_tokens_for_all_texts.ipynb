{
 "cells": [
  {
   "cell_type": "markdown",
   "id": "9e49e3b5",
   "metadata": {},
   "source": [
    "# Intro"
   ]
  },
  {
   "cell_type": "markdown",
   "id": "60f19816",
   "metadata": {},
   "source": [
    "## Standard modules"
   ]
  },
  {
   "cell_type": "code",
   "execution_count": 1,
   "id": "4f1c6785",
   "metadata": {
    "ExecuteTime": {
     "end_time": "2025-06-16T10:22:59.227720Z",
     "start_time": "2025-06-16T10:22:58.962116Z"
    }
   },
   "outputs": [],
   "source": [
    "import os, sys, pickle\n",
    "from datetime import datetime as dt\n",
    "import pathlib\n",
    "import numpy as np\n",
    "from tqdm.auto import tqdm, trange\n",
    "import traceback"
   ]
  },
  {
   "cell_type": "code",
   "execution_count": 2,
   "id": "5232e04f",
   "metadata": {
    "ExecuteTime": {
     "end_time": "2025-06-16T10:23:02.933312Z",
     "start_time": "2025-06-16T10:22:59.232349Z"
    }
   },
   "outputs": [],
   "source": [
    "from sentence_transformers import util"
   ]
  },
  {
   "cell_type": "code",
   "execution_count": 3,
   "id": "3314ba52",
   "metadata": {
    "ExecuteTime": {
     "end_time": "2025-06-16T10:23:03.520186Z",
     "start_time": "2025-06-16T10:23:02.936457Z"
    }
   },
   "outputs": [],
   "source": [
    "import tiktoken\n",
    "enc = tiktoken.encoding_for_model(\"text-embedding-ada-002\")"
   ]
  },
  {
   "cell_type": "code",
   "execution_count": 19,
   "id": "1c052af4",
   "metadata": {
    "ExecuteTime": {
     "end_time": "2025-06-16T14:20:28.866497Z",
     "start_time": "2025-06-16T14:20:28.252823Z"
    }
   },
   "outputs": [],
   "source": [
    "import matplotlib.pyplot as plt\n",
    "plt.rcParams['axes.linewidth'] = 2\n",
    "plt.rcParams['xtick.major.size'] = 10\n",
    "plt.rcParams['xtick.major.width'] = 2\n",
    "plt.rcParams['ytick.major.size'] = 10\n",
    "plt.rcParams['ytick.major.width'] = 2\n",
    "\n",
    "plt.rcParams['xtick.labelsize'] = 14\n",
    "plt.rcParams['ytick.labelsize'] = 14\n",
    "\n",
    "plt.rcParams['xtick.minor.size'] = 5\n",
    "plt.rcParams['xtick.minor.width'] = 1\n",
    "plt.rcParams['ytick.minor.size'] = 5\n",
    "plt.rcParams['ytick.minor.width'] = 1"
   ]
  },
  {
   "cell_type": "markdown",
   "id": "34eff044",
   "metadata": {},
   "source": [
    "## My modules"
   ]
  },
  {
   "cell_type": "code",
   "execution_count": 4,
   "id": "a80dab2d",
   "metadata": {
    "ExecuteTime": {
     "end_time": "2025-06-16T10:23:03.540337Z",
     "start_time": "2025-06-16T10:23:03.523577Z"
    }
   },
   "outputs": [],
   "source": [
    "from toolbox.updater import time_is_now"
   ]
  },
  {
   "cell_type": "code",
   "execution_count": 5,
   "id": "b4b3d2bf",
   "metadata": {
    "ExecuteTime": {
     "end_time": "2025-06-16T10:23:03.607839Z",
     "start_time": "2025-06-16T10:23:03.545947Z"
    }
   },
   "outputs": [],
   "source": [
    "from file2text import file2text"
   ]
  },
  {
   "cell_type": "code",
   "execution_count": 6,
   "id": "8a4d61be",
   "metadata": {
    "ExecuteTime": {
     "end_time": "2025-06-16T10:23:03.680122Z",
     "start_time": "2025-06-16T10:23:03.611111Z"
    }
   },
   "outputs": [],
   "source": [
    "from first_rough_cleaning import first_text_cleaner"
   ]
  },
  {
   "cell_type": "code",
   "execution_count": 7,
   "id": "ef4ae818",
   "metadata": {
    "ExecuteTime": {
     "end_time": "2025-06-16T10:23:08.317059Z",
     "start_time": "2025-06-16T10:23:03.683513Z"
    }
   },
   "outputs": [
    {
     "name": "stderr",
     "output_type": "stream",
     "text": [
      "/home/sarawalk/sdgs_py38/lib/python3.8/site-packages/torch/cuda/__init__.py:118: UserWarning: CUDA initialization: The NVIDIA driver on your system is too old (found version 10020). Please update your GPU driver by downloading and installing a new version from the URL: http://www.nvidia.com/Download/index.aspx Alternatively, go to: https://pytorch.org to install a PyTorch version that has been compiled with your version of the CUDA driver. (Triggered internally at ../c10/cuda/CUDAFunctions.cpp:108.)\n",
      "  return torch._C._cuda_getDeviceCount() > 0\n"
     ]
    }
   ],
   "source": [
    "from embed_me_II import file2vecfile"
   ]
  },
  {
   "cell_type": "markdown",
   "id": "ffd06ca9",
   "metadata": {},
   "source": [
    "## Auxiliary functions"
   ]
  },
  {
   "cell_type": "code",
   "execution_count": 8,
   "id": "7ebd2fda",
   "metadata": {
    "ExecuteTime": {
     "end_time": "2025-06-16T10:23:08.327128Z",
     "start_time": "2025-06-16T10:23:08.320597Z"
    }
   },
   "outputs": [],
   "source": [
    "def file2textfile(file, extension='.rtf'):\n",
    "    vecfile=file2vecfile(file, extension)\n",
    "    return vecfile[:-4]+'_text.txt'"
   ]
  },
  {
   "cell_type": "markdown",
   "id": "7faf170b",
   "metadata": {},
   "source": [
    "## Folders"
   ]
  },
  {
   "cell_type": "code",
   "execution_count": 9,
   "id": "832dce61",
   "metadata": {
    "ExecuteTime": {
     "end_time": "2025-06-16T10:23:08.429046Z",
     "start_time": "2025-06-16T10:23:08.330416Z"
    }
   },
   "outputs": [],
   "source": [
    "PDF_FOLDER='./pdf/'"
   ]
  },
  {
   "cell_type": "code",
   "execution_count": 10,
   "id": "4311a844",
   "metadata": {
    "ExecuteTime": {
     "end_time": "2025-06-16T10:23:08.622007Z",
     "start_time": "2025-06-16T10:23:08.432774Z"
    }
   },
   "outputs": [],
   "source": [
    "RTF_FOLDER='./rtf/'"
   ]
  },
  {
   "cell_type": "code",
   "execution_count": 11,
   "id": "0c1f6995",
   "metadata": {
    "ExecuteTime": {
     "end_time": "2025-06-16T10:23:08.705391Z",
     "start_time": "2025-06-16T10:23:08.625757Z"
    }
   },
   "outputs": [],
   "source": [
    "TARGET_FOLDER='./NewProcessedData/texts/'"
   ]
  },
  {
   "cell_type": "markdown",
   "id": "b81ed955",
   "metadata": {},
   "source": [
    "# Count the number of token in each cleaned texts"
   ]
  },
  {
   "cell_type": "code",
   "execution_count": 12,
   "id": "f03634d8",
   "metadata": {
    "ExecuteTime": {
     "end_time": "2025-06-16T10:23:08.806938Z",
     "start_time": "2025-06-16T10:23:08.709258Z"
    }
   },
   "outputs": [],
   "source": [
    "rtf_files=[file for file in os.listdir(RTF_FOLDER) if file.endswith('.rtf')]\n",
    "rtf_files.sort()"
   ]
  },
  {
   "cell_type": "code",
   "execution_count": 13,
   "id": "1b3f1346",
   "metadata": {
    "ExecuteTime": {
     "end_time": "2025-06-16T10:23:08.910878Z",
     "start_time": "2025-06-16T10:23:08.810555Z"
    }
   },
   "outputs": [],
   "source": [
    "token_number=[]"
   ]
  },
  {
   "cell_type": "code",
   "execution_count": 14,
   "id": "248929b0",
   "metadata": {
    "ExecuteTime": {
     "end_time": "2025-06-16T10:23:08.995430Z",
     "start_time": "2025-06-16T10:23:08.918088Z"
    }
   },
   "outputs": [],
   "source": [
    "textfile=file2textfile(rtf_files[0])"
   ]
  },
  {
   "cell_type": "code",
   "execution_count": 15,
   "id": "4b4c2233",
   "metadata": {
    "ExecuteTime": {
     "end_time": "2025-06-16T10:23:32.259086Z",
     "start_time": "2025-06-16T10:23:08.998276Z"
    }
   },
   "outputs": [],
   "source": [
    "long_text=file2text(RTF_FOLDER+rtf_files[0])"
   ]
  },
  {
   "cell_type": "code",
   "execution_count": 16,
   "id": "a044a60d",
   "metadata": {
    "ExecuteTime": {
     "end_time": "2025-06-16T10:23:32.303891Z",
     "start_time": "2025-06-16T10:23:32.262865Z"
    }
   },
   "outputs": [
    {
     "data": {
      "text/plain": [
       "17090"
      ]
     },
     "execution_count": 16,
     "metadata": {},
     "output_type": "execute_result"
    }
   ],
   "source": [
    "len(enc.encode(long_text))"
   ]
  },
  {
   "cell_type": "code",
   "execution_count": 17,
   "id": "89894d84",
   "metadata": {
    "ExecuteTime": {
     "end_time": "2025-06-16T14:14:28.896404Z",
     "start_time": "2025-06-16T10:23:32.306760Z"
    }
   },
   "outputs": [
    {
     "data": {
      "application/vnd.jupyter.widget-view+json": {
       "model_id": "68e215c00b094a92ad326c446ffd899b",
       "version_major": 2,
       "version_minor": 0
      },
      "text/plain": [
       "  0%|          | 0/592 [00:00<?, ?it/s]"
      ]
     },
     "metadata": {},
     "output_type": "display_data"
    },
    {
     "name": "stdout",
     "output_type": "stream",
     "text": [
      "[25-06-16 12:23:32] 2021_10_AIRTEL_AFRICA_PLC_text.txt\n",
      "[25-06-16 12:23:56] 2022_10_AIRTEL_AFRICA_PLC_text.txt\n",
      "[25-06-16 12:24:44] 2024_10_AIRTEL_AFRICA_PLC_text.txt\n",
      "[25-06-16 12:25:26] 2015_10_BT_GROUP_PLC_text.txt \n",
      "[25-06-16 12:26:06] 2016_10_BT_GROUP_PLC_text.txt \n",
      "[25-06-16 12:26:24] 2018_10_BT_GROUP_PLC_text.txt \n",
      "[25-06-16 12:26:40] 2019_10_BT_GROUP_PLC_text.txt \n",
      "[25-06-16 12:26:55] 2020_10_BT_GROUP_PLC_text.txt \n",
      "[25-06-16 12:27:04] 2021_10_BT_GROUP_PLC_text.txt \n",
      "[25-06-16 12:27:15] 2022_10_BT_GROUP_PLC_text.txt \n",
      "[25-06-16 12:27:18] 2023_10_BT_GROUP_PLC_text.txt \n",
      "[25-06-16 12:27:19] 2019_10_FILTRONIC_PLC_text.txt\n",
      "[25-06-16 12:27:20] 2020_10_FILTRONIC_PLC_text.txt\n",
      "[25-06-16 12:27:22] 2021_10_FILTRONIC_PLC_text.txt\n",
      "[25-06-16 12:27:23] 2022_10_FILTRONIC_PLC_text.txt\n",
      "[25-06-16 12:27:24] 2023_10_FILTRONIC_PLC_text.txt\n",
      "[25-06-16 12:27:26] 2022_10_GAMMA_COMMUNICATIONS_PLC_text.txt\n",
      "[25-06-16 12:27:40] 2020_10_HELIOS_TOWERS_PLC_text.txt\n",
      "[25-06-16 12:28:35] 2021_10_HELIOS_TOWERS_PLC_text.txt\n",
      "[25-06-16 12:29:23] 2022_10_HELIOS_TOWERS_PLC_text.txt\n",
      "[25-06-16 12:29:23] 2023_10_HELIOS_TOWERS_PLC_text.txt\n",
      "[25-06-16 12:29:24] 2018_10_SPIRENT_COMMUNICATIONS_PLC_text.txt\n",
      "[25-06-16 12:29:28] 2019_10_SPIRENT_COMMUNICATIONS_PLC_text.txt\n",
      "[25-06-16 12:30:17] 2020_10_SPIRENT_COMMUNICATIONS_PLC_text.txt\n",
      "[25-06-16 12:30:58] 2021_10_SPIRENT_COMMUNICATIONS_PLC_text.txt\n",
      "[25-06-16 12:31:11] 2022_10_SPIRENT_COMMUNICATIONS_PLC_text.txt\n",
      "[25-06-16 12:32:17] 2023_10_SPIRENT_COMMUNICATIONS_PLC_text.txt\n",
      "[25-06-16 12:33:10] 2022_10_TELECOM_PLUS_PLC_text.txt\n",
      "[25-06-16 12:33:48] 2023_10_TELECOM_PLUS_PLC_text.txt\n",
      "[25-06-16 12:34:14] 2024_10_TELECOM_PLUS_PLC_text.txt\n",
      "[25-06-16 12:34:35] 2015_10_VODAFONE_GROUP_PLC_text.txt\n",
      "[25-06-16 12:34:46] 2016_10_VODAFONE_GROUP_PLC_text.txt\n",
      "[25-06-16 12:35:37] 2017_10_VODAFONE_GROUP_PLC_text.txt\n",
      "[25-06-16 12:36:28] 2018_10_VODAFONE_GROUP_PLC_text.txt\n",
      "[25-06-16 12:37:31] 2019_10_VODAFONE_GROUP_PLC_text.txt\n",
      "[25-06-16 12:37:54] 2020_10_VODAFONE_GROUP_PLC_text.txt\n",
      "[25-06-16 12:38:22] 2021_10_VODAFONE_GROUP_PLC_text.txt\n",
      "[25-06-16 12:38:23] 2022_10_VODAFONE_GROUP_PLC_text.txt\n",
      "[25-06-16 12:38:26] 2023_10_VODAFONE_GROUP_PLC_text.txt\n",
      "[25-06-16 12:38:28] 2016_11_GOOD_ENERGY_GROUP_PLC_text.txt\n",
      "[25-06-16 12:38:55] 2017_11_GOOD_ENERGY_GROUP_PLC_text.txt\n",
      "[25-06-16 12:39:20] 2018_11_GOOD_ENERGY_GROUP_PLC_text.txt\n",
      "[25-06-16 12:39:23] 2019_11_GOOD_ENERGY_GROUP_PLC_text.txt\n",
      "[25-06-16 12:39:51] 2020_11_GOOD_ENERGY_GROUP_PLC_text.txt\n",
      "[25-06-16 12:40:13] 2022_11_GOOD_ENERGY_GROUP_PLC_text.txt\n",
      "[25-06-16 12:41:00] 2023_11_GOOD_ENERGY_GROUP_PLC_text.txt\n",
      "[25-06-16 12:41:22] 2020_11_NATIONAL_GRID_PLC_text.txt\n",
      "[25-06-16 12:41:54] 2021_11_NATIONAL_GRID_PLC_text.txt\n",
      "[25-06-16 12:42:24] 2022_11_NATIONAL_GRID_PLC_text.txt\n",
      "[25-06-16 12:43:03] 2023_11_NATIONAL_GRID_PLC_text.txt\n",
      "[25-06-16 12:43:17] 2016_11_SSE_PLC_text.txt      \n",
      "[25-06-16 12:43:40] 2017_11_SSE_PLC_text.txt      \n",
      "[25-06-16 12:43:58] 2018_11_SSE_PLC_text.txt      \n",
      "[25-06-16 12:44:20] 2019_11_SSE_PLC_text.txt      \n",
      "[25-06-16 12:44:53] 2020_11_SSE_PLC_text.txt      \n",
      "[25-06-16 12:45:33] 2023_11_SSE_PLC_text.txt      \n",
      "[25-06-16 12:46:06] 2020_11_SEVERN_TRENT_PLC_text.txt\n",
      "[25-06-16 12:46:28] 2022_11_SEVERN_TRENT_PLC_text.txt\n",
      "[25-06-16 12:47:36] 2023_11_SEVERN_TRENT_PLC_text.txt\n",
      "[25-06-16 12:49:33] 2023_11_UNITED_UTILITIES_GROUP_PLC_text.txt\n",
      "[25-06-16 12:50:24] 2018_11_CENTRICA_PLC_text.txt \n",
      "[25-06-16 12:50:25] 2019_11_CENTRICA_PLC_text.txt \n",
      "[25-06-16 12:50:25] 2020_11_CENTRICA_PLC_text.txt \n",
      "[25-06-16 12:50:27] 2021_11_CENTRICA_PLC_text.txt \n",
      "[25-06-16 12:50:51] 2022_11_CENTRICA_PLC_text.txt \n",
      "[25-06-16 12:50:52] 2023_11_CENTRICA_PLC_text.txt \n",
      "[25-06-16 12:51:12] 2023_11_DRAX_GROUP_PLC_text.txt\n",
      "[25-06-16 12:51:14] 2021_11_PENNON_GROUP_PLC_text.txt\n",
      "[25-06-16 12:52:15] 2022_11_PENNON_GROUP_PLC_text.txt\n",
      "[25-06-16 12:53:08] 2023_11_PENNON_GROUP_PLC_text.txt\n",
      "[25-06-16 12:53:10] 2017_11_RENEWI_PLC_text.txt   \n",
      "[25-06-16 12:53:37] 2018_11_RENEWI_PLC_text.txt   \n",
      "[25-06-16 12:53:56] 2019_11_RENEWI_PLC_text.txt   \n",
      "[25-06-16 12:54:53] 2021_11_RENEWI_PLC_text.txt   \n",
      "[25-06-16 12:55:48] 2022_11_RENEWI_PLC_text.txt   \n",
      "[25-06-16 12:56:19] 2023_11_RENEWI_PLC_text.txt   \n",
      "[25-06-16 12:58:13] 2019_11_YU_GROUP_PLC_text.txt \n",
      "[25-06-16 12:58:22] 2020_11_YU_GROUP_PLC_text.txt \n",
      "[25-06-16 12:58:30] 2021_11_YU_GROUP_PLC_text.txt \n",
      "[25-06-16 12:58:42] 2023_11_YU_GROUP_PLC_text.txt \n",
      "[25-06-16 12:58:56] 2015_01_ANGLO_AMERICAN_PLC_text.txt\n",
      "[25-06-16 12:59:16] 2016_01_ANGLO_AMERICAN_PLC_text.txt\n",
      "[25-06-16 12:59:48] 2017_01_ANGLO_AMERICAN_PLC_text.txt\n",
      "[25-06-16 12:59:54] 2018_01_ANGLO_AMERICAN_PLC_text.txt\n",
      "[25-06-16 13:00:11] 2019_01_ANGLO_AMERICAN_PLC_text.txt\n",
      "[25-06-16 13:00:11] 2019_01_ANGLO_AMERICAN_PLC_text.txt\n",
      "[25-06-16 13:00:51] 2020_01_ANGLO_AMERICAN_PLC_text.txt\n",
      "[25-06-16 13:01:43] 2021_01_ANGLO_AMERICAN_PLC_text.txt\n",
      "[25-06-16 13:02:05] 2022_01_ANGLO_AMERICAN_PLC_text.txt\n",
      "[25-06-16 13:03:02] 2023_01_ANGLO_AMERICAN_PLC_text.txt\n",
      "[25-06-16 13:04:09] 2015_01_ANTOFAGASTA_PLC_text.txt\n",
      "[25-06-16 13:04:24] 2016_01_ANTOFAGASTA_PLC_text.txt\n",
      "[25-06-16 13:04:43] 2018_01_ANTOFAGASTA_PLC_text.txt\n",
      "[25-06-16 13:04:43] 2018_01_ANTOFAGASTA_PLC_text.txt\n",
      "[25-06-16 13:05:09] 2019_01_ANTOFAGASTA_PLC_text.txt\n",
      "[25-06-16 13:05:09] 2019_01_ANTOFAGASTA_PLC_text.txt\n",
      "[25-06-16 13:05:49] 2020_01_ANTOFAGASTA_PLC_text.txt\n",
      "[25-06-16 13:05:49] 2020_01_ANTOFAGASTA_PLC_text.txt\n",
      "[25-06-16 13:06:28] 2021_01_ANTOFAGASTA_PLC_text.txt\n",
      "[25-06-16 13:07:13] 2022_01_ANTOFAGASTA_PLC_text.txt\n",
      "[25-06-16 13:07:13] 2022_01_ANTOFAGASTA_PLC_text.txt\n",
      "[25-06-16 13:08:03] 2015_01_CRODA_INTERNATIONAL_PLC_text.txt\n",
      "[25-06-16 13:08:09] 2016_01_CRODA_INTERNATIONAL_PLC_text.txt\n",
      "[25-06-16 13:08:19] 2017_01_CRODA_INTERNATIONAL_PLC_text.txt\n",
      "[25-06-16 13:08:29] 2018_01_CRODA_INTERNATIONAL_PLC_text.txt\n",
      "[25-06-16 13:08:41] 2019_01_CRODA_INTERNATIONAL_PLC_text.txt\n",
      "[25-06-16 13:10:00] 2020_01_CRODA_INTERNATIONAL_PLC_text.txt\n",
      "[25-06-16 13:10:32] 2021_01_CRODA_INTERNATIONAL_PLC_text.txt\n",
      "[25-06-16 13:10:59] 2022_01_CRODA_INTERNATIONAL_PLC_text.txt\n",
      "[25-06-16 13:11:17] 2023_01_CRODA_INTERNATIONAL_PLC_text.txt\n",
      "[25-06-16 13:11:28] 2017_01_ENDEAVOUR_MINING_PLC_text.txt\n",
      "[25-06-16 13:11:54] 2018_01_ENDEAVOUR_MINING_PLC_text.txt\n",
      "[25-06-16 13:11:54] 2018_01_ENDEAVOUR_MINING_PLC_text.txt\n",
      "[25-06-16 13:12:28] 2019_01_ENDEAVOUR_MINING_PLC_text.txt\n",
      "[25-06-16 13:14:11] 2020_01_ENDEAVOUR_MINING_PLC_text.txt\n",
      "[25-06-16 13:15:41] 2021_01_ENDEAVOUR_MINING_PLC_text.txt\n",
      "[25-06-16 13:15:41] 2021_01_ENDEAVOUR_MINING_PLC_text.txt\n",
      "[25-06-16 13:17:26] 2022_01_ENDEAVOUR_MINING_PLC_text.txt\n",
      "[25-06-16 13:18:11] 2023_01_ENDEAVOUR_MINING_PLC_text.txt\n",
      "[25-06-16 13:18:11] 2023_01_ENDEAVOUR_MINING_PLC_text.txt\n",
      "[25-06-16 13:20:48] 2021_01_EVRAZ_PLC_text.txt    \n",
      "[25-06-16 13:21:23] 2021_01_HOCHSCHILD_MINING_PLC_text.txt\n",
      "[25-06-16 13:21:47] 2015_01_JOHNSON_MATTHEY_PLC_text.txt\n",
      "[25-06-16 13:21:53] 2016_01_JOHNSON_MATTHEY_PLC_text.txt\n",
      "[25-06-16 13:22:30] 2017_01_JOHNSON_MATTHEY_PLC_text.txt\n",
      "[25-06-16 13:22:30] 2017_01_JOHNSON_MATTHEY_PLC_text.txt\n",
      "[25-06-16 13:23:08] 2018_01_JOHNSON_MATTHEY_PLC_text.txt\n",
      "[25-06-16 13:23:52] 2019_01_JOHNSON_MATTHEY_PLC_text.txt\n",
      "[25-06-16 13:24:11] 2020_01_JOHNSON_MATTHEY_PLC_text.txt\n",
      "[25-06-16 13:24:36] 2021_01_JOHNSON_MATTHEY_PLC_text.txt\n",
      "[25-06-16 13:24:46] 2022_01_JOHNSON_MATTHEY_PLC_text.txt\n",
      "[25-06-16 13:25:05] 2023_01_JOHNSON_MATTHEY_PLC_text.txt\n",
      "[25-06-16 13:25:45] 2015_01_RIO_TINTO_PLC_text.txt\n",
      "[25-06-16 13:26:30] 2016_01_RIO_TINTO_PLC_text.txt\n",
      "[25-06-16 13:27:12] 2017_01_RIO_TINTO_PLC_text.txt\n",
      "[25-06-16 13:27:42] 2018_01_RIO_TINTO_PLC_text.txt\n",
      "[25-06-16 13:28:14] 2019_01_RIO_TINTO_PLC_text.txt\n",
      "[25-06-16 13:28:15] 2020_01_RIO_TINTO_PLC_text.txt\n",
      "[25-06-16 13:28:37] 2021_01_RIO_TINTO_PLC_text.txt\n",
      "[25-06-16 13:28:41] 2022_01_RIO_TINTO_PLC_text.txt\n",
      "[25-06-16 13:28:46] 2023_01_RIO_TINTO_PLC_text.txt\n",
      "[25-06-16 13:28:55] 2015_01_SYNTHOMER_PLC_text.txt\n",
      "[25-06-16 13:29:18] 2016_01_SYNTHOMER_PLC_text.txt\n",
      "[25-06-16 13:29:34] 2017_01_SYNTHOMER_PLC_text.txt\n",
      "[25-06-16 13:30:02] 2018_01_SYNTHOMER_PLC_text.txt\n",
      "[25-06-16 13:30:17] 2019_01_SYNTHOMER_PLC_text.txt\n",
      "[25-06-16 13:30:17] 2019_01_SYNTHOMER_PLC_text.txt\n",
      "[25-06-16 13:30:33] 2020_01_SYNTHOMER_PLC_text.txt\n",
      "[25-06-16 13:30:33] 2020_01_SYNTHOMER_PLC_text.txt\n",
      "[25-06-16 13:30:42] 2021_01_SYNTHOMER_PLC_text.txt\n",
      "[25-06-16 13:30:42] 2021_01_SYNTHOMER_PLC_text.txt\n"
     ]
    },
    {
     "name": "stdout",
     "output_type": "stream",
     "text": [
      "[25-06-16 13:31:06] 2022_01_SYNTHOMER_PLC_text.txt\n",
      "[25-06-16 13:31:06] 2022_01_SYNTHOMER_PLC_text.txt\n",
      "[25-06-16 13:31:44] 2023_01_SYNTHOMER_PLC_text.txt\n",
      "[25-06-16 13:32:01] 2015_02_BARRATT_DEVELOPMENTS_PLC_text.txt\n",
      "[25-06-16 13:32:24] 2016_02_BARRATT_DEVELOPMENTS_PLC_text.txt\n",
      "[25-06-16 13:32:48] 2017_02_BARRATT_DEVELOPMENTS_PLC_text.txt\n",
      "[25-06-16 13:33:25] 2018_02_BARRATT_DEVELOPMENTS_PLC_text.txt\n",
      "[25-06-16 13:34:10] 2019_02_BARRATT_DEVELOPMENTS_PLC_text.txt\n",
      "[25-06-16 13:34:25] 2020_02_BARRATT_DEVELOPMENTS_PLC_text.txt\n",
      "[25-06-16 13:34:36] 2021_02_BARRATT_DEVELOPMENTS_PLC_text.txt\n",
      "[25-06-16 13:34:51] 2022_02_BARRATT_DEVELOPMENTS_PLC_text.txt\n",
      "[25-06-16 13:35:12] 2023_02_BARRATT_DEVELOPMENTS_PLC_text.txt\n",
      "[25-06-16 13:35:32] 2015_02_BERKELEY_GROUP_HOLDINGS_(THE)_PLC_text.txt\n",
      "[25-06-16 13:35:45] 2016_02_BERKELEY_GROUP_HOLDINGS_(THE)_PLC_text.txt\n",
      "[25-06-16 13:36:36] 2017_02_BERKELEY_GROUP_HOLDINGS_(THE)_PLC_text.txt\n",
      "[25-06-16 13:37:30] 2018_02_BERKELEY_GROUP_HOLDINGS_(THE)_PLC_text.txt\n",
      "[25-06-16 13:37:50] 2019_02_BERKELEY_GROUP_HOLDINGS_(THE)_PLC_text.txt\n",
      "[25-06-16 13:38:41] 2020_02_BERKELEY_GROUP_HOLDINGS_(THE)_PLC_text.txt\n",
      "[25-06-16 13:39:26] 2021_02_BERKELEY_GROUP_HOLDINGS_(THE)_PLC_text.txt\n",
      "[25-06-16 13:40:09] 2022_02_BERKELEY_GROUP_HOLDINGS_(THE)_PLC_text.txt\n",
      "[25-06-16 13:41:00] 2023_02_BERKELEY_GROUP_HOLDINGS_(THE)_PLC_text.txt\n",
      "[25-06-16 13:41:40] 2015_02_BURBERRY_GROUP_PLC_text.txt\n",
      "[25-06-16 13:41:44] 2016_02_BURBERRY_GROUP_PLC_text.txt\n",
      "[25-06-16 13:41:48] 2017_02_BURBERRY_GROUP_PLC_text.txt\n",
      "[25-06-16 13:41:51] 2018_02_BURBERRY_GROUP_PLC_text.txt\n",
      "[25-06-16 13:42:03] 2019_02_BURBERRY_GROUP_PLC_text.txt\n",
      "[25-06-16 13:42:16] 2020_02_BURBERRY_GROUP_PLC_text.txt\n",
      "[25-06-16 13:42:40] 2021_02_BURBERRY_GROUP_PLC_text.txt\n",
      "[25-06-16 13:43:22] 2022_02_BURBERRY_GROUP_PLC_text.txt\n",
      "[25-06-16 13:43:41] 2023_02_BURBERRY_GROUP_PLC_text.txt\n",
      "[25-06-16 13:44:04] 2019_02_COMPASS_GROUP_PLC_text.txt\n",
      "[25-06-16 13:45:41] 2020_02_COMPASS_GROUP_PLC_text.txt\n",
      "[25-06-16 13:46:49] 2021_02_COMPASS_GROUP_PLC_text.txt\n",
      "[25-06-16 13:47:32] 2022_02_COMPASS_GROUP_PLC_text.txt\n",
      "[25-06-16 13:47:43] 2023_02_COMPASS_GROUP_PLC_text.txt\n",
      "[25-06-16 13:47:57] 2015_02_INFORMA_PLC_text.txt  \n",
      "[25-06-16 13:48:11] 2016_02_INFORMA_PLC_text.txt  \n",
      "[25-06-16 13:48:20] 2017_02_INFORMA_PLC_text.txt  \n",
      "[25-06-16 13:49:06] 2018_02_INFORMA_PLC_text.txt  \n",
      "[25-06-16 13:49:18] 2019_02_INFORMA_PLC_text.txt  \n",
      "[25-06-16 13:49:49] 2020_02_INFORMA_PLC_text.txt  \n",
      "[25-06-16 13:49:58] 2021_02_INFORMA_PLC_text.txt  \n",
      "[25-06-16 13:50:27] 2022_02_INFORMA_PLC_text.txt  \n",
      "[25-06-16 13:51:41] 2023_02_INFORMA_PLC_text.txt  \n",
      "[25-06-16 13:52:32] 2015_02_INTERCONTINENTAL_HOTELS_GROUP_PLC_text.txt\n",
      "[25-06-16 13:52:42] 2016_02_INTERCONTINENTAL_HOTELS_GROUP_PLC_text.txt\n",
      "[25-06-16 13:53:00] 2017_02_INTERCONTINENTAL_HOTELS_GROUP_PLC_text.txt\n",
      "[25-06-16 13:53:02] 2018_02_INTERCONTINENTAL_HOTELS_GROUP_PLC_text.txt\n",
      "[25-06-16 13:53:17] 2019_02_INTERCONTINENTAL_HOTELS_GROUP_PLC_text.txt\n",
      "[25-06-16 13:53:49] 2020_02_INTERCONTINENTAL_HOTELS_GROUP_PLC_text.txt\n",
      "[25-06-16 13:54:00] 2021_02_INTERCONTINENTAL_HOTELS_GROUP_PLC_text.txt\n",
      "[25-06-16 13:54:15] 2022_02_INTERCONTINENTAL_HOTELS_GROUP_PLC_text.txt\n",
      "[25-06-16 13:54:38] 2023_02_INTERCONTINENTAL_HOTELS_GROUP_PLC_text.txt\n",
      "[25-06-16 13:55:18] 2015_02_NEXT_PLC_text.txt     \n",
      "[25-06-16 13:55:27] 2016_02_NEXT_PLC_text.txt     \n",
      "[25-06-16 13:55:27] 2016_02_NEXT_PLC_text.txt     \n",
      "[25-06-16 13:55:30] 2017_02_NEXT_PLC_text.txt     \n",
      "[25-06-16 13:55:50] 2018_02_NEXT_PLC_text.txt     \n",
      "[25-06-16 13:56:17] 2019_02_NEXT_PLC_text.txt     \n",
      "[25-06-16 13:56:53] 2020_02_NEXT_PLC_text.txt     \n",
      "[25-06-16 13:56:59] 2021_02_NEXT_PLC_text.txt     \n",
      "[25-06-16 13:57:06] 2022_02_NEXT_PLC_text.txt     \n",
      "[25-06-16 13:57:13] 2023_02_NEXT_PLC_text.txt     \n",
      "[25-06-16 13:57:20] 2015_02_PERSIMMON_PLC_text.txt\n",
      "[25-06-16 13:57:25] 2016_02_PERSIMMON_PLC_text.txt\n",
      "[25-06-16 13:57:31] 2017_02_PERSIMMON_PLC_text.txt\n",
      "[25-06-16 13:57:51] 2018_02_PERSIMMON_PLC_text.txt\n",
      "[25-06-16 13:58:11] 2019_02_PERSIMMON_PLC_text.txt\n",
      "[25-06-16 13:58:32] 2020_02_PERSIMMON_PLC_text.txt\n",
      "[25-06-16 13:58:40] 2021_02_PERSIMMON_PLC_text.txt\n",
      "[25-06-16 13:58:52] 2022_02_PERSIMMON_PLC_text.txt\n",
      "[25-06-16 14:00:13] 2023_02_PERSIMMON_PLC_text.txt\n",
      "[25-06-16 14:00:28] 2015_02_RELX_PLC_text.txt     \n",
      "[25-06-16 14:00:47] 2016_02_RELX_PLC_text.txt     \n",
      "[25-06-16 14:01:10] 2017_02_RELX_PLC_text.txt     \n",
      "[25-06-16 14:01:39] 2018_02_RELX_PLC_text.txt     \n",
      "[25-06-16 14:01:39] 2018_02_RELX_PLC_text.txt     \n",
      "[25-06-16 14:02:10] 2019_02_RELX_PLC_text.txt     \n",
      "[25-06-16 14:02:43] 2020_02_RELX_PLC_text.txt     \n",
      "[25-06-16 14:03:03] 2021_02_RELX_PLC_text.txt     \n",
      "[25-06-16 14:03:29] 2022_02_RELX_PLC_text.txt     \n",
      "[25-06-16 14:03:37] 2023_02_RELX_PLC_text.txt     \n",
      "[25-06-16 14:03:46] 2015_02_WHITBREAD_PLC_text.txt\n",
      "[25-06-16 14:04:10] 2017_02_WHITBREAD_PLC_text.txt\n",
      "[25-06-16 14:04:30] 2018_02_WHITBREAD_PLC_text.txt\n",
      "[25-06-16 14:04:42] 2022_02_WHITBREAD_PLC_text.txt\n",
      "[25-06-16 14:05:07] 2023_02_WHITBREAD_PLC_text.txt\n",
      "[25-06-16 14:06:06] 2015_03_Associated_British_Foods_PLC_text.txt\n",
      "[25-06-16 14:06:15] 2016_03_Associated_British_Foods_PLC_text.txt\n",
      "[25-06-16 14:07:03] 2017_03_Associated_British_Foods_PLC_text.txt\n",
      "[25-06-16 14:08:21] 2018_03_Associated_British_Foods_PLC_text.txt\n",
      "[25-06-16 14:09:50] 2019_03_Associated_British_Foods_PLC_text.txt\n",
      "[25-06-16 14:10:44] 2020_03_Associated_British_Foods_PLC_text.txt\n",
      "[25-06-16 14:11:34] 2021_03_Associated_British_Foods_PLC_text.txt\n",
      "[25-06-16 14:12:25] 2022_03_Associated_British_Foods_PLC_text.txt\n",
      "[25-06-16 14:13:13] 2023_03_Associated_British_Foods_PLC_text.txt\n",
      "[25-06-16 14:14:50] 2015_03_British_American_Tobacco_PLC_text.txt\n",
      "[25-06-16 14:15:03] 2016_03_British_American_Tobacco_PLC_text.txt\n",
      "[25-06-16 14:15:14] 2017_03_British_American_Tobacco_PLC_text.txt\n",
      "[25-06-16 14:15:24] 2018_03_British_American_Tobacco_PLC_text.txt\n",
      "[25-06-16 14:15:37] 2019_03_British_American_Tobacco_PLC_text.txt\n",
      "[25-06-16 14:15:45] 2022_03_British_American_Tobacco_PLC_text.txt\n",
      "[25-06-16 14:16:15] 2023_03_British_American_Tobacco_PLC_text.txt\n",
      "[25-06-16 14:16:20] 2016_03_Coca-Cola_Europacific_Partners_PLC_text.txt\n",
      "[25-06-16 14:16:25] 2017_03_Coca-Cola_Europacific_Partners_PLC_text.txt\n",
      "[25-06-16 14:16:32] 2018_03_Coca-Cola_Europacific_Partners_PLC_text.txt\n",
      "[25-06-16 14:16:39] 2019_03_Coca-Cola_Europacific_Partners_PLC_text.txt\n",
      "[25-06-16 14:16:59] 2020_03_Coca-Cola_Europacific_Partners_PLC_text.txt\n",
      "[25-06-16 14:17:24] 2021_03_Coca-Cola_Europacific_Partners_PLC_text.txt\n",
      "[25-06-16 14:17:47] 2022_03_Coca-Cola_Europacific_Partners_PLC_text.txt\n",
      "[25-06-16 14:18:25] 2023_03_Coca-Cola_Europacific_Partners_PLC_text.txt\n",
      "[25-06-16 14:19:26] 2015_03_Diageo_PLC_text.txt   \n",
      "[25-06-16 14:19:29] 2016_03_Diageo_PLC_text.txt   \n",
      "[25-06-16 14:19:32] 2017_03_Diageo_PLC_text.txt   \n",
      "[25-06-16 14:19:34] 2018_03_Diageo_PLC_text.txt   \n",
      "[25-06-16 14:19:39] 2019_03_Diageo_PLC_text.txt   \n",
      "[25-06-16 14:19:43] 2021_03_Diageo_PLC_text.txt   \n",
      "[25-06-16 14:19:49] 2022_03_Diageo_PLC_text.txt   \n",
      "[25-06-16 14:19:59] 2023_03_Diageo_PLC_text.txt   \n",
      "[25-06-16 14:20:05] 2015_03_Imperial_Brands_PLC_text.txt\n",
      "[25-06-16 14:20:08] 2016_03_Imperial_Brands_PLC_text.txt\n",
      "[25-06-16 14:20:11] 2017_03_Imperial_Brands_PLC_text.txt\n",
      "[25-06-16 14:20:14] 2018_03_Imperial_Brands_PLC_text.txt\n",
      "[25-06-16 14:20:20] 2019_03_Imperial_Brands_PLC_text.txt\n",
      "[25-06-16 14:20:28] 2020_03_Imperial_Brands_PLC_text.txt\n",
      "[25-06-16 14:20:41] 2021_03_Imperial_Brands_PLC_text.txt\n",
      "[25-06-16 14:20:54] 2022_03_Imperial_Brands_PLC_text.txt\n",
      "[25-06-16 14:21:24] 2023_03_Imperial_Brands_PLC_text.txt\n",
      "[25-06-16 14:22:45] 2015_03_Marks_and_Spencer_Group_PLC_text.txt\n",
      "[25-06-16 14:22:59] 2016_03_Marks_and_Spencer_Group_PLC_text.txt\n",
      "[25-06-16 14:23:12] 2017_03_Marks_and_Spencer_Group_PLC_text.txt\n",
      "[25-06-16 14:23:33] 2018_03_Marks_and_Spencer_Group_PLC_text.txt\n",
      "[25-06-16 14:24:07] 2019_03_Marks_and_Spencer_Group_PLC_text.txt\n",
      "[25-06-16 14:24:09] 2020_03_Marks_and_Spencer_Group_PLC_text.txt\n",
      "[25-06-16 14:24:20] 2021_03_Marks_and_Spencer_Group_PLC_text.txt\n",
      "[25-06-16 14:25:09] 2022_03_Marks_and_Spencer_Group_PLC_text.txt\n",
      "[25-06-16 14:26:22] 2023_03_Marks_and_Spencer_Group_PLC_text.txt\n",
      "[25-06-16 14:27:02] 2015_03_Reckitt_Benckiser_Group_PLC_text.txt\n",
      "[25-06-16 14:27:18] 2016_03_Reckitt_Benckiser_Group_PLC_text.txt\n"
     ]
    },
    {
     "name": "stdout",
     "output_type": "stream",
     "text": [
      "[25-06-16 14:27:22] 2017_03_Reckitt_Benckiser_Group_PLC_text.txt\n",
      "[25-06-16 14:27:25] 2018_03_Reckitt_Benckiser_Group_PLC_text.txt\n",
      "[25-06-16 14:27:34] 2019_03_Reckitt_Benckiser_Group_PLC_text.txt\n",
      "[25-06-16 14:27:49] 2020_03_Reckitt_Benckiser_Group_PLC_text.txt\n",
      "[25-06-16 14:27:59] 2021_03_Reckitt_Benckiser_Group_PLC_text.txt\n",
      "[25-06-16 14:28:32] 2022_03_Reckitt_Benckiser_Group_PLC_text.txt\n",
      "[25-06-16 14:29:12] 2023_03_Reckitt_Benckiser_Group_PLC_text.txt\n",
      "[25-06-16 14:31:04] 2015_03_Sainsbury_(J)_PLC_text.txt\n",
      "[25-06-16 14:31:15] 2016_03_Sainsbury_(J)_PLC_text.txt\n",
      "[25-06-16 14:31:53] 2017_03_Sainsbury_(J)_PLC_text.txt\n",
      "[25-06-16 14:32:12] 2018_03_Sainsbury_(J)_PLC_text.txt\n",
      "[25-06-16 14:32:34] 2019_03_Sainsbury_(J)_PLC_text.txt\n",
      "[25-06-16 14:32:54] 2020_03_Sainsbury_(J)_PLC_text.txt\n",
      "[25-06-16 14:33:17] 2021_03_Sainsbury_(J)_PLC_text.txt\n",
      "[25-06-16 14:34:06] 2022_03_Sainsbury_(J)_PLC_text.txt\n",
      "[25-06-16 14:34:50] 2023_03_Sainsbury_(J)_PLC_text.txt\n",
      "[25-06-16 14:35:39] 2016_03_Tesco_PLC_text.txt    \n",
      "[25-06-16 14:36:12] 2017_03_Tesco_PLC_text.txt    \n",
      "[25-06-16 14:37:03] 2018_03_Tesco_PLC_text.txt    \n",
      "[25-06-16 14:37:14] 2019_03_Tesco_PLC_text.txt    \n",
      "[25-06-16 14:37:31] 2020_03_Tesco_PLC_text.txt    \n",
      "[25-06-16 14:37:35] 2022_03_Tesco_PLC_text.txt    \n",
      "[25-06-16 14:37:35] 2022_03_Tesco_PLC_text.txt    \n",
      "[25-06-16 14:38:02] 2023_03_Tesco_PLC_text.txt    \n",
      "[25-06-16 14:38:13] 2015_03_Unilever_PLC_text.txt \n",
      "[25-06-16 14:38:27] 2016_03_Unilever_PLC_text.txt \n",
      "[25-06-16 14:38:27] 2017_03_Unilever_PLC_text.txt \n",
      "[25-06-16 14:38:28] 2018_03_Unilever_PLC_text.txt \n",
      "[25-06-16 14:38:30] 2019_03_Unilever_PLC_text.txt \n",
      "[25-06-16 14:38:42] 2020_03_Unilever_PLC_text.txt \n",
      "[25-06-16 14:39:12] 2021_03_Unilever_PLC_text.txt \n",
      "[25-06-16 14:39:17] 2022_03_Unilever_PLC_text.txt \n",
      "[25-06-16 14:43:24] 2023_03_Unilever_PLC_text.txt \n",
      "[25-06-16 14:43:33] 2019_04_DIVERSIFIED_ENERGY_COMPANY_PLC_text.txt\n",
      "[25-06-16 14:43:51] 2020_04_DIVERSIFIED_ENERGY_COMPANY_PLC_text.txt\n",
      "[25-06-16 14:44:25] 2021_04_DIVERSIFIED_ENERGY_COMPANY_PLC_text.txt\n",
      "[25-06-16 14:45:24] 2022_04_DIVERSIFIED_ENERGY_COMPANY_PLC_text.txt\n",
      "[25-06-16 14:46:19] 2023_04_DIVERSIFIED_ENERGY_COMPANY_PLC_text.txt\n",
      "[25-06-16 14:46:39] 2017_04_Shell_text.txt        \n",
      "[25-06-16 14:46:52] 2018_04_Shell_text.txt        \n",
      "[25-06-16 14:47:11] 2019_04_Shell_text.txt        \n",
      "[25-06-16 14:47:34] 2021_04_Shell_text.txt        \n",
      "[25-06-16 14:47:59] 2022_04_Shell_text.txt        \n",
      "[25-06-16 14:48:14] 2023_04_Shell_text.txt        \n",
      "[25-06-16 14:48:26] 2015_04_BP_PLC_text.txt       \n",
      "[25-06-16 14:48:39] 2016_04_BP_PLC_text.txt       \n",
      "[25-06-16 14:49:10] 2017_04_BP_PLC_text.txt       \n",
      "[25-06-16 14:49:44] 2018_04_BP_PLC_text.txt       \n",
      "[25-06-16 14:50:44] 2019_04_BP_PLC_text.txt       \n",
      "[25-06-16 14:51:01] 2020_04_BP_PLC_text.txt       \n",
      "[25-06-16 14:51:31] 2023_04_HARBOUR_ENERGY_PLC_text.txt\n",
      "[25-06-16 14:51:53] 2019_04_Energean_text.txt     \n",
      "[25-06-16 14:53:02] 2020_04_Energean_text.txt     \n",
      "[25-06-16 14:54:25] 2021_04_Energean_text.txt     \n",
      "[25-06-16 14:54:59] 2022_04_Energean_text.txt     \n",
      "[25-06-16 14:56:15] 2023_04_Energean_text.txt     \n",
      "[25-06-16 14:57:20] 2022_04_ITHACA_ENERGY_PLC_text.txt\n",
      "[25-06-16 14:57:31] 2023_04_ITHACA_ENERGY_PLC_text.txt\n",
      "[25-06-16 14:58:08] 2019_04_WOOD_GROUP_(JOHN)_PLC_text.txt\n",
      "[25-06-16 14:58:42] 2020_04_WOOD_GROUP_(JOHN)_PLC_text.txt\n",
      "[25-06-16 15:00:15] 2021_04_WOOD_GROUP_(JOHN)_PLC_text.txt\n",
      "[25-06-16 15:00:19] 2022_04_WOOD_GROUP_(JOHN)_PLC_text.txt\n",
      "[25-06-16 15:00:26] 2023_04_WOOD_GROUP_(JOHN)_PLC_text.txt\n",
      "[25-06-16 15:00:42] 2019_04_SERICA_ENERGY_PLC_text.txt\n",
      "[25-06-16 15:01:18] 2020_04_SERICA_ENERGY_PLC_text.txt\n",
      "[25-06-16 15:01:53] 2021_04_SERICA_ENERGY_PLC_text.txt\n",
      "[25-06-16 15:02:07] 2022_04_SERICA_ENERGY_PLC_text.txt\n",
      "[25-06-16 15:02:32] 2023_04_SERICA_ENERGY_PLC_text.txt\n",
      "[25-06-16 15:03:06] 2021_04_ASHTEAD_TECHNOLOGY_HOLDINGS_PLC_text.txt\n",
      "[25-06-16 15:03:22] 2022_04_ASHTEAD_TECHNOLOGY_HOLDINGS_PLC_text.txt\n",
      "[25-06-16 15:03:52] 2023_04_ASHTEAD_TECHNOLOGY_HOLDINGS_PLC_text.txt\n",
      "[25-06-16 15:03:54] 2015_04_HUNTING_PLC_text.txt  \n",
      "[25-06-16 15:04:06] 2016_04_HUNTING_PLC_text.txt  \n",
      "[25-06-16 15:04:19] 2017_04_HUNTING_PLC_text.txt  \n",
      "[25-06-16 15:04:30] 2018_04_HUNTING_PLC_text.txt  \n",
      "[25-06-16 15:04:42] 2019_04_HUNTING_PLC_text.txt  \n",
      "[25-06-16 15:05:16] 2020_04_HUNTING_PLC_text.txt  \n",
      "[25-06-16 15:05:44] 2021_04_HUNTING_PLC_text.txt  \n",
      "[25-06-16 15:06:11] 2022_04_HUNTING_PLC_text.txt  \n",
      "[25-06-16 15:06:39] 2023_04_HUNTING_PLC_text.txt  \n",
      "[25-06-16 15:07:46] 2015_05_AVIVA_PLC_text.txt    \n",
      "[25-06-16 15:08:00] 2016_05_AVIVA_PLC_text.txt    \n",
      "[25-06-16 15:08:12] 2017_05_AVIVA_PLC_text.txt    \n",
      "[25-06-16 15:08:25] 2018_05_AVIVA_PLC_text.txt    \n",
      "[25-06-16 15:08:35] 2019_05_AVIVA_PLC_text.txt    \n",
      "[25-06-16 15:08:37] 2020_05_AVIVA_PLC_text.txt    \n",
      "[25-06-16 15:08:37] 2021_05_AVIVA_PLC_text.txt    \n",
      "[25-06-16 15:09:01] 2022_05_AVIVA_PLC_text.txt    \n",
      "[25-06-16 15:09:16] 2023_05_AVIVA_PLC_text.txt    \n",
      "[25-06-16 15:09:20] 2016_05_BARCLAYS_PLC_text.txt \n",
      "[25-06-16 15:09:33] 2017_05_BARCLAYS_PLC_text.txt \n",
      "[25-06-16 15:10:07] 2018_05_BARCLAYS_PLC_text.txt \n",
      "[25-06-16 15:10:38] 2019_05_BARCLAYS_PLC_text.txt \n",
      "[25-06-16 15:10:56] 2020_05_BARCLAYS_PLC_text.txt \n",
      "[25-06-16 15:11:13] 2021_05_BARCLAYS_PLC_text.txt \n",
      "[25-06-16 15:11:37] 2022_05_BARCLAYS_PLC_text.txt \n",
      "[25-06-16 15:11:45] 2023_05_BARCLAYS_PLC_text.txt \n",
      "[25-06-16 15:11:49] 2015_05_HSBC_HOLDINGS_PLC_text.txt\n",
      "[25-06-16 15:12:32] 2016_05_HSBC_HOLDINGS_PLC_text.txt\n",
      "[25-06-16 15:13:05] 2017_05_HSBC_HOLDINGS_PLC_text.txt\n",
      "[25-06-16 15:13:38] 2018_05_HSBC_HOLDINGS_PLC_text.txt\n",
      "[25-06-16 15:14:25] 2019_05_HSBC_HOLDINGS_PLC_text.txt\n",
      "[25-06-16 15:14:31] 2020_05_HSBC_HOLDINGS_PLC_text.txt\n",
      "[25-06-16 15:14:36] 2021_05_HSBC_HOLDINGS_PLC_text.txt\n",
      "[25-06-16 15:15:00] 2022_05_HSBC_HOLDINGS_PLC_text.txt\n",
      "[25-06-16 15:15:03] 2023_05_HSBC_HOLDINGS_PLC_text.txt\n",
      "[25-06-16 15:15:06] 2018_05_LEGAL_&_GENERAL_GROUP_PLC_text.txt\n",
      "[25-06-16 15:15:07] 2019_05_LEGAL_&_GENERAL_GROUP_PLC_text.txt\n",
      "[25-06-16 15:15:12] 2020_05_LEGAL_&_GENERAL_GROUP_PLC_text.txt\n",
      "[25-06-16 15:15:19] 2021_05_LEGAL_&_GENERAL_GROUP_PLC_text.txt\n",
      "[25-06-16 15:15:31] 2022_05_LEGAL_&_GENERAL_GROUP_PLC_text.txt\n",
      "[25-06-16 15:15:32] 2023_05_LEGAL_&_GENERAL_GROUP_PLC_text.txt\n",
      "[25-06-16 15:15:34] 2017_05_LONDON_STOCK_EXCHANGE_GROUP_PLC_text.txt\n",
      "[25-06-16 15:15:59] 2018_05_LONDON_STOCK_EXCHANGE_GROUP_PLC_text.txt\n",
      "[25-06-16 15:16:12] 2019_05_LONDON_STOCK_EXCHANGE_GROUP_PLC_text.txt\n",
      "[25-06-16 15:16:25] 2020_05_LONDON_STOCK_EXCHANGE_GROUP_PLC_text.txt\n",
      "[25-06-16 15:16:31] 2021_05_LONDON_STOCK_EXCHANGE_GROUP_PLC_text.txt\n",
      "[25-06-16 15:16:58] 2022_05_LONDON_STOCK_EXCHANGE_GROUP_PLC_text.txt\n",
      "[25-06-16 15:17:12] 2023_05_LONDON_STOCK_EXCHANGE_GROUP_PLC_text.txt\n",
      "[25-06-16 15:17:24] 2020_05_NATWEST_GROUP_PLC_text.txt\n",
      "[25-06-16 15:17:43] 2021_05_NATWEST_GROUP_PLC_text.txt\n",
      "[25-06-16 15:18:04] 2018_05_PRUDENTIAL_PLC_text.txt\n",
      "[25-06-16 15:18:13] 2019_05_PRUDENTIAL_PLC_text.txt\n",
      "[25-06-16 15:18:18] 2023_05_SCOTTISH_MORTGAGE_INVESTMENT_TRUST_PLC_text.txt\n",
      "[25-06-16 15:18:18] 2015_05_STANDARD_CHARTERED_PLC_text.txt\n",
      "[25-06-16 15:18:27] 2016_05_STANDARD_CHARTERED_PLC_text.txt\n",
      "[25-06-16 15:18:27] 2016_05_STANDARD_CHARTERED_PLC_text.txt\n",
      "[25-06-16 15:18:47] 2018_05_STANDARD_CHARTERED_PLC_text.txt\n",
      "[25-06-16 15:19:09] 2019_05_STANDARD_CHARTERED_PLC_text.txt\n",
      "[25-06-16 15:19:38] 2020_05_STANDARD_CHARTERED_PLC_text.txt\n",
      "[25-06-16 15:20:07] 2021_05_STANDARD_CHARTERED_PLC_text.txt\n",
      "[25-06-16 15:20:35] 2022_05_STANDARD_CHARTERED_PLC_text.txt\n",
      "[25-06-16 15:20:55] 2023_05_STANDARD_CHARTERED_PLC_text.txt\n",
      "[25-06-16 15:21:20] 2015_06_AstraZeneca_PLC_text.txt\n",
      "[25-06-16 15:21:36] 2017_06_AstraZeneca_PLC_text.txt\n",
      "[25-06-16 15:21:57] 2018_06_AstraZeneca_PLC_text.txt\n",
      "[25-06-16 15:22:28] 2019_06_AstraZeneca_PLC_text.txt\n",
      "[25-06-16 15:23:03] 2020_06_AstraZeneca_PLC_text.txt\n",
      "[25-06-16 15:23:30] 2021_06_AstraZeneca_PLC_text.txt\n",
      "[25-06-16 15:24:10] 2022_06_AstraZeneca_PLC_text.txt\n",
      "[25-06-16 15:24:49] 2023_06_AstraZeneca_PLC_text.txt\n",
      "[25-06-16 15:25:04] 2019_06_Convatec_Group_PLC_text.txt\n",
      "[25-06-16 15:25:36] 2020_06_Convatec_Group_PLC_text.txt\n",
      "[25-06-16 15:25:54] 2021_06_Convatec_Group_PLC_text.txt\n",
      "[25-06-16 15:26:16] 2022_06_Convatec_Group_PLC_text.txt\n",
      "[25-06-16 15:27:03] 2023_06_Convatec_Group_PLC_text.txt\n",
      "[25-06-16 15:27:38] 2015_06_GSK_PLC_text.txt      \n"
     ]
    },
    {
     "name": "stdout",
     "output_type": "stream",
     "text": [
      "[25-06-16 15:27:55] 2016_06_GSK_PLC_text.txt      \n",
      "[25-06-16 15:28:07] 2017_06_GSK_PLC_text.txt      \n",
      "[25-06-16 15:28:45] 2018_06_GSK_PLC_text.txt      \n",
      "[25-06-16 15:28:46] 2019_06_GSK_PLC_text.txt      \n",
      "[25-06-16 15:28:47] 2020_06_GSK_PLC_text.txt      \n",
      "[25-06-16 15:28:48] 2021_06_GSK_PLC_text.txt      \n",
      "[25-06-16 15:28:49] 2022_06_GSK_PLC_text.txt      \n",
      "[25-06-16 15:28:54] 2023_06_GSK_PLC_text.txt      \n",
      "[25-06-16 15:28:57] 2019_06_Genus_PLC_text.txt    \n",
      "[25-06-16 15:29:07] 2020_06_Genus_PLC_text.txt    \n",
      "[25-06-16 15:29:19] 2021_06_Genus_PLC_text.txt    \n",
      "[25-06-16 15:29:38] 2022_06_Genus_PLC_text.txt    \n",
      "[25-06-16 15:29:47] 2023_06_Genus_PLC_text.txt    \n",
      "[25-06-16 15:30:06] 2020_06_Hikma_Pharmaceuticals_PLC_text.txt\n",
      "[25-06-16 15:30:19] 2022_06_Hikma_Pharmaceuticals_PLC_text.txt\n",
      "[25-06-16 15:30:40] 2023_06_Hikma_Pharmaceuticals_PLC_text.txt\n",
      "[25-06-16 15:31:23] 2022_06_Indivior_PLC_text.txt \n",
      "[25-06-16 15:31:38] 2023_06_Indivior_PLC_text.txt \n",
      "[25-06-16 15:32:04] 2022_06_Oxford_Nanopore_Technologies_PLC_text.txt\n",
      "[25-06-16 15:32:26] 2023_06_PureTech_Health_PLC_text.txt\n",
      "[25-06-16 15:32:49] 2017_06_Smith_&_Nephew_PLC_text.txt\n",
      "[25-06-16 15:33:13] 2018_06_Smith_&_Nephew_PLC_text.txt\n",
      "[25-06-16 15:33:33] 2019_06_Smith_&_Nephew_PLC_text.txt\n",
      "[25-06-16 15:34:05] 2020_06_Smith_&_Nephew_PLC_text.txt\n",
      "[25-06-16 15:34:15] 2021_06_Smith_&_Nephew_PLC_text.txt\n",
      "[25-06-16 15:34:59] 2022_06_Smith_&_Nephew_PLC_text.txt\n",
      "[25-06-16 15:35:38] 2023_06_Smith_&_Nephew_PLC_text.txt\n",
      "[25-06-16 15:36:26] 2021_07_BAE_SYSTEMS_PLC_text.txt\n",
      "[25-06-16 15:36:48] 2022_07_BAE_SYSTEMS_PLC_text.txt\n",
      "[25-06-16 15:36:48] 2023_07_BAE_SYSTEMS_PLC_text.txt\n",
      "[25-06-16 15:37:02] 2020_07_BUNZL_PLC_text.txt    \n",
      "[25-06-16 15:37:05] 2023_07_BUNZL_PLC_text.txt    \n",
      "[25-06-16 15:37:20] 2015_07_HALMA_PLC_text.txt    \n",
      "[25-06-16 15:37:52] 2016_07_HALMA_PLC_text.txt    \n",
      "[25-06-16 15:37:58] 2017_07_HALMA_PLC_text.txt    \n",
      "[25-06-16 15:38:21] 2018_07_HALMA_PLC_text.txt    \n",
      "[25-06-16 15:38:33] 2019_07_HALMA_PLC_text.txt    \n",
      "[25-06-16 15:38:43] 2020_07_HALMA_PLC_text.txt    \n",
      "[25-06-16 15:38:46] 2021_07_HALMA_PLC_text.txt    \n",
      "[25-06-16 15:39:04] 2022_07_HALMA_PLC_text.txt    \n",
      "[25-06-16 15:39:16] 2023_07_HALMA_PLC_text.txt    \n",
      "[25-06-16 15:39:31] 2015_07_IMI_PLC_text.txt      \n",
      "[25-06-16 15:39:48] 2016_07_IMI_PLC_text.txt      \n",
      "[25-06-16 15:40:11] 2017_07_IMI_PLC_text.txt      \n",
      "[25-06-16 15:40:36] 2018_07_IMI_PLC_text.txt      \n",
      "[25-06-16 15:40:48] 2019_07_IMI_PLC_text.txt      \n",
      "[25-06-16 15:41:18] 2020_07_IMI_PLC_text.txt      \n",
      "[25-06-16 15:41:46] 2021_07_IMI_PLC_text.txt      \n",
      "[25-06-16 15:42:20] 2022_07_IMI_PLC_text.txt      \n",
      "[25-06-16 15:43:05] 2023_07_IMI_PLC_text.txt      \n",
      "[25-06-16 15:43:55] 2017_07_INTERTEK_GROUP_PLC_text.txt\n",
      "[25-06-16 15:44:03] 2018_07_INTERTEK_GROUP_PLC_text.txt\n",
      "[25-06-16 15:44:14] 2019_07_INTERTEK_GROUP_PLC_text.txt\n",
      "[25-06-16 15:44:51] 2020_07_INTERTEK_GROUP_PLC_text.txt\n",
      "[25-06-16 15:45:27] 2023_07_INTERTEK_GROUP_PLC_text.txt\n",
      "[25-06-16 15:46:42] 2016_07_MELROSE_INDUSTRIES_PLC_text.txt\n",
      "[25-06-16 15:46:48] 2017_07_MELROSE_INDUSTRIES_PLC_text.txt\n",
      "[25-06-16 15:46:52] 2018_07_MELROSE_INDUSTRIES_PLC_text.txt\n",
      "[25-06-16 15:47:00] 2019_07_MELROSE_INDUSTRIES_PLC_text.txt\n",
      "[25-06-16 15:47:01] 2020_07_MELROSE_INDUSTRIES_PLC_text.txt\n",
      "[25-06-16 15:47:07] 2021_07_MELROSE_INDUSTRIES_PLC_text.txt\n",
      "[25-06-16 15:47:26] 2022_07_MELROSE_INDUSTRIES_PLC_text.txt\n",
      "[25-06-16 15:47:36] 2023_07_MELROSE_INDUSTRIES_PLC_text.txt\n",
      "[25-06-16 15:48:17] 2015_07_RENTOKIL_INITIAL_PLC_text.txt\n",
      "[25-06-16 15:48:31] 2016_07_RENTOKIL_INITIAL_PLC_text.txt\n",
      "[25-06-16 15:48:50] 2017_07_RENTOKIL_INITIAL_PLC_text.txt\n",
      "[25-06-16 15:49:05] 2018_07_RENTOKIL_INITIAL_PLC_text.txt\n",
      "[25-06-16 15:49:14] 2019_07_RENTOKIL_INITIAL_PLC_text.txt\n",
      "[25-06-16 15:49:49] 2020_07_RENTOKIL_INITIAL_PLC_text.txt\n",
      "[25-06-16 15:50:19] 2021_07_RENTOKIL_INITIAL_PLC_text.txt\n",
      "[25-06-16 15:51:16] 2022_07_RENTOKIL_INITIAL_PLC_text.txt\n",
      "[25-06-16 15:52:03] 2023_07_RENTOKIL_INITIAL_PLC_text.txt\n",
      "[25-06-16 15:52:58] 2015_07_SMITH_(DS)_PLC_text.txt\n",
      "[25-06-16 15:53:07] 2016_07_SMITH_(DS)_PLC_text.txt\n",
      "[25-06-16 15:53:14] 2017_07_SMITH_(DS)_PLC_text.txt\n",
      "[25-06-16 15:53:30] 2018_07_SMITH_(DS)_PLC_text.txt\n",
      "[25-06-16 15:53:41] 2019_07_SMITH_(DS)_PLC_text.txt\n",
      "[25-06-16 15:54:09] 2020_07_SMITH_(DS)_PLC_text.txt\n",
      "[25-06-16 15:54:25] 2021_07_SMITH_(DS)_PLC_text.txt\n",
      "[25-06-16 15:54:42] 2023_07_SMITH_(DS)_PLC_text.txt\n",
      "[25-06-16 15:56:13] 2023_07_WISE_PLC_text.txt     \n",
      "[25-06-16 15:56:14] 2018_08_BIG_YELLOW_GROUP_PLC_text.txt\n",
      "[25-06-16 15:56:23] 2019_08_BIG_YELLOW_GROUP_PLC_text.txt\n",
      "[25-06-16 15:56:46] 2020_08_BIG_YELLOW_GROUP_PLC_text.txt\n",
      "[25-06-16 15:56:59] 2021_08_BIG_YELLOW_GROUP_PLC_text.txt\n",
      "[25-06-16 15:57:06] 2015_08_DERWENT_LONDON_PLC_text.txt\n",
      "[25-06-16 15:57:50] 2016_08_DERWENT_LONDON_PLC_text.txt\n",
      "[25-06-16 15:58:20] 2017_08_DERWENT_LONDON_PLC_text.txt\n",
      "[25-06-16 15:59:00] 2019_08_DERWENT_LONDON_PLC_text.txt\n",
      "[25-06-16 16:00:12] 2020_08_DERWENT_LONDON_PLC_text.txt\n",
      "[25-06-16 16:01:42] 2023_08_DERWENT_LONDON_PLC_text.txt\n",
      "[25-06-16 16:02:11] 2015_08_LAND_SECURITIES_GROUP_PLC_text.txt\n",
      "[25-06-16 16:02:29] 2016_08_LAND_SECURITIES_GROUP_PLC_text.txt\n",
      "[25-06-16 16:02:58] 2017_08_LAND_SECURITIES_GROUP_PLC_text.txt\n",
      "[25-06-16 16:03:22] 2019_08_LAND_SECURITIES_GROUP_PLC_text.txt\n",
      "[25-06-16 16:03:26] 2020_08_LAND_SECURITIES_GROUP_PLC_text.txt\n",
      "[25-06-16 16:03:27] 2021_08_LAND_SECURITIES_GROUP_PLC_text.txt\n",
      "[25-06-16 16:03:30] 2023_08_LAND_SECURITIES_GROUP_PLC_text.txt\n",
      "[25-06-16 16:03:36] 2022_08_PRIMARY_HEALTH_PROPERTIES_PLC_text.txt\n",
      "[25-06-16 16:03:39] 2023_08_PRIMARY_HEALTH_PROPERTIES_PLC_text.txt\n",
      "[25-06-16 16:03:41] 2015_08_RIGHTMOVE_PLC_text.txt\n",
      "[25-06-16 16:03:42] 2016_08_RIGHTMOVE_PLC_text.txt\n",
      "[25-06-16 16:03:42] 2017_08_RIGHTMOVE_PLC_text.txt\n",
      "[25-06-16 16:03:45] 2018_08_RIGHTMOVE_PLC_text.txt\n",
      "[25-06-16 16:03:45] 2019_08_RIGHTMOVE_PLC_text.txt\n",
      "[25-06-16 16:03:47] 2020_08_RIGHTMOVE_PLC_text.txt\n",
      "[25-06-16 16:03:48] 2021_08_RIGHTMOVE_PLC_text.txt\n",
      "[25-06-16 16:03:49] 2022_08_RIGHTMOVE_PLC_text.txt\n",
      "[25-06-16 16:03:50] 2023_08_RIGHTMOVE_PLC_text.txt\n",
      "[25-06-16 16:03:53] 2017_08_SEGRO_PLC_text.txt    \n",
      "[25-06-16 16:04:04] 2020_08_SEGRO_PLC_text.txt    \n",
      "[25-06-16 16:04:12] 2022_08_SEGRO_PLC_text.txt    \n",
      "[25-06-16 16:04:45] 2023_08_SEGRO_PLC_text.txt    \n",
      "[25-06-16 16:05:22] 2015_08_SHAFTESBURY_CAPITAL_PLC_text.txt\n",
      "[25-06-16 16:05:26] 2016_08_SHAFTESBURY_CAPITAL_PLC_text.txt\n",
      "[25-06-16 16:05:30] 2017_08_SHAFTESBURY_CAPITAL_PLC_text.txt\n",
      "[25-06-16 16:05:33] 2018_08_SHAFTESBURY_CAPITAL_PLC_text.txt\n",
      "[25-06-16 16:05:35] 2019_08_SHAFTESBURY_CAPITAL_PLC_text.txt\n",
      "[25-06-16 16:05:38] 2020_08_SHAFTESBURY_CAPITAL_PLC_text.txt\n",
      "[25-06-16 16:05:40] 2021_08_SHAFTESBURY_CAPITAL_PLC_text.txt\n",
      "[25-06-16 16:05:43] 2022_08_SHAFTESBURY_CAPITAL_PLC_text.txt\n",
      "[25-06-16 16:05:50] 2023_08_SHAFTESBURY_CAPITAL_PLC_text.txt\n",
      "[25-06-16 16:05:59] 2019_08_TRITAX_BIG_BOX_REIT_PLC_text.txt\n",
      "[25-06-16 16:06:03] 2020_08_TRITAX_BIG_BOX_REIT_PLC_text.txt\n",
      "[25-06-16 16:06:14] 2021_08_TRITAX_BIG_BOX_REIT_PLC_text.txt\n",
      "[25-06-16 16:06:27] 2022_08_TRITAX_BIG_BOX_REIT_PLC_text.txt\n",
      "[25-06-16 16:06:42] 2023_08_TRITAX_BIG_BOX_REIT_PLC_text.txt\n",
      "[25-06-16 16:07:00] 2021_08_UNITE_GROUP_PLC_text.txt\n",
      "[25-06-16 16:07:04] 2022_08_UNITE_GROUP_PLC_text.txt\n",
      "[25-06-16 16:07:09] 2023_08_UNITE_GROUP_PLC_text.txt\n",
      "[25-06-16 16:07:40] 2021_09_ALPHAWAVE_IP_GROUP_PLC_text.txt\n",
      "[25-06-16 16:07:45] 2023_09_ALPHAWAVE_IP_GROUP_PLC_text.txt\n",
      "[25-06-16 16:08:03] 2017_09_AUTO_TRADER_GROUP_PLC_text.txt\n",
      "[25-06-16 16:08:27] 2018_09_AUTO_TRADER_GROUP_PLC_text.txt\n",
      "[25-06-16 16:08:41] 2019_09_AUTO_TRADER_GROUP_PLC_text.txt\n",
      "[25-06-16 16:08:49] 2020_09_AUTO_TRADER_GROUP_PLC_text.txt\n",
      "[25-06-16 16:09:16] 2021_09_AUTO_TRADER_GROUP_PLC_text.txt\n",
      "[25-06-16 16:09:34] 2021_09_BIG_TECHNOLOGIES_PLC_text.txt\n",
      "[25-06-16 16:09:36] 2022_09_BIG_TECHNOLOGIES_PLC_text.txt\n",
      "[25-06-16 16:09:45] 2023_09_BIG_TECHNOLOGIES_PLC_text.txt\n",
      "[25-06-16 16:09:55] 2021_09_BYTES_TECHNOLOGY_GROUP_PLC_text.txt\n",
      "[25-06-16 16:09:57] 2022_09_BYTES_TECHNOLOGY_GROUP_PLC_text.txt\n",
      "[25-06-16 16:09:59] 2023_09_BYTES_TECHNOLOGY_GROUP_PLC_text.txt\n",
      "[25-06-16 16:09:59] 2021_09_COMPUTACENTER_PLC_text.txt\n",
      "[25-06-16 16:10:15] 2022_09_COMPUTACENTER_PLC_text.txt\n",
      "[25-06-16 16:10:40] 2023_09_COMPUTACENTER_PLC_text.txt\n",
      "[25-06-16 16:11:34] 2021_09_DELIVEROO_PLC_text.txt\n"
     ]
    },
    {
     "name": "stdout",
     "output_type": "stream",
     "text": [
      "[25-06-16 16:11:35] 2022_09_DELIVEROO_PLC_text.txt\n",
      "[25-06-16 16:11:35] 2023_09_DELIVEROO_PLC_text.txt\n",
      "[25-06-16 16:11:36] 2021_09_SAGE_GROUP_PLC_text.txt\n",
      "[25-06-16 16:11:48] 2022_09_SAGE_GROUP_PLC_text.txt\n",
      "[25-06-16 16:12:33] 2023_09_SAGE_GROUP_PLC_text.txt\n",
      "[25-06-16 16:13:19] 2021_09_TRUSTPILOT_GROUP_PLC_text.txt\n",
      "[25-06-16 16:13:21] 2022_09_TRUSTPILOT_GROUP_PLC_text.txt\n",
      "[25-06-16 16:14:28] 2023_09_TRUSTPILOT_GROUP_PLC_text.txt\n"
     ]
    },
    {
     "ename": "IndexError",
     "evalue": "list index out of range",
     "output_type": "error",
     "traceback": [
      "\u001b[0;31m---------------------------------------------------------------------------\u001b[0m",
      "\u001b[0;31mIndexError\u001b[0m                                Traceback (most recent call last)",
      "Cell \u001b[0;32mIn[17], line 8\u001b[0m\n\u001b[1;32m      6\u001b[0m \u001b[38;5;28mprint\u001b[39m(\u001b[38;5;124mf\u001b[39m\u001b[38;5;124m'\u001b[39m\u001b[38;5;124m[\u001b[39m\u001b[38;5;132;01m{\u001b[39;00mdt\u001b[38;5;241m.\u001b[39mnow()\u001b[38;5;132;01m:\u001b[39;00m\u001b[38;5;124m%y-%m-%d %H:%M:%S\u001b[39m\u001b[38;5;132;01m}\u001b[39;00m\u001b[38;5;124m] \u001b[39m\u001b[38;5;132;01m{\u001b[39;00mtextfile\u001b[38;5;132;01m:\u001b[39;00m\u001b[38;5;124m30\u001b[39m\u001b[38;5;132;01m}\u001b[39;00m\u001b[38;5;124m'\u001b[39m)\n\u001b[1;32m      7\u001b[0m \u001b[38;5;28;01mif\u001b[39;00m i_f\u001b[38;5;241m!=\u001b[39m\u001b[38;5;28mlen\u001b[39m(rtf_files):\n\u001b[0;32m----> 8\u001b[0m     file1\u001b[38;5;241m=\u001b[39m\u001b[43mrtf_files\u001b[49m\u001b[43m[\u001b[49m\u001b[43mi_f\u001b[49m\u001b[38;5;241;43m+\u001b[39;49m\u001b[38;5;241;43m1\u001b[39;49m\u001b[43m]\u001b[49m\n\u001b[1;32m      9\u001b[0m     textfile1\u001b[38;5;241m=\u001b[39mfile2textfile(file1)\n\u001b[1;32m     10\u001b[0m \u001b[38;5;28;01melse\u001b[39;00m:\n",
      "\u001b[0;31mIndexError\u001b[0m: list index out of range"
     ]
    }
   ],
   "source": [
    "for i_f in trange(len(rtf_files)):\n",
    "    file=rtf_files[i_f]\n",
    "    #print(token_number, end='\\r')\n",
    "    # get name for the output\n",
    "    textfile=file2textfile(file)\n",
    "    print(f'[{dt.now():%y-%m-%d %H:%M:%S}] {textfile:30}')\n",
    "    if i_f!=len(rtf_files):\n",
    "        file1=rtf_files[i_f+1]\n",
    "        textfile1=file2textfile(file1)\n",
    "    else:\n",
    "        textfile1='stocazzo'\n",
    "    if textfile!=textfile1 and os.path.isfile(TARGET_FOLDER+textfile):\n",
    "        # the second file is the correct one\n",
    "        try:\n",
    "            # extract the text from the .rtf file\n",
    "            long_text=file2text(RTF_FOLDER+file)\n",
    "            # count the number of tokens\n",
    "            cacca=enc.encode(long_text)\n",
    "            token_number.append(len(cacca))\n",
    "        except:\n",
    "            continue"
   ]
  },
  {
   "cell_type": "code",
   "execution_count": 24,
   "id": "5033ab6f",
   "metadata": {
    "ExecuteTime": {
     "end_time": "2025-06-16T14:21:55.735957Z",
     "start_time": "2025-06-16T14:21:55.441021Z"
    }
   },
   "outputs": [
    {
     "data": {
      "image/png": "[encoded data removed]",
      "text/plain": [
       "<Figure size 640x480 with 1 Axes>"
      ]
     },
     "metadata": {},
     "output_type": "display_data"
    }
   ],
   "source": [
    "plt.hist(np.log10(token_number), edgecolor='black')\n",
    "plt.show()"
   ]
  },
  {
   "cell_type": "code",
   "execution_count": null,
   "id": "d5efa9cc",
   "metadata": {},
   "outputs": [],
   "source": []
  }
 ],
 "metadata": {
  "kernelspec": {
   "display_name": "Python 3 (ipykernel)",
   "language": "python",
   "name": "python3"
  },
  "language_info": {
   "codemirror_mode": {
    "name": "ipython",
    "version": 3
   },
   "file_extension": ".py",
   "mimetype": "text/x-python",
   "name": "python",
   "nbconvert_exporter": "python",
   "pygments_lexer": "ipython3",
   "version": "3.8.10"
  },
  "notify_time": "5",
  "toc": {
   "base_numbering": 1,
   "nav_menu": {},
   "number_sections": true,
   "sideBar": true,
   "skip_h1_title": false,
   "title_cell": "Table of Contents",
   "title_sidebar": "Contents",
   "toc_cell": false,
   "toc_position": {
    "height": "574px",
    "left": "35px",
    "top": "119px",
    "width": "288px"
   },
   "toc_section_display": true,
   "toc_window_display": true
  }
 },
 "nbformat": 4,
 "nbformat_minor": 5
}
