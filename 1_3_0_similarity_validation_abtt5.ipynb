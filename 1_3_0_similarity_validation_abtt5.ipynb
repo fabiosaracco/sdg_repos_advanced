{
 "cells": [
  {
   "cell_type": "markdown",
   "id": "cd4a73e8",
   "metadata": {},
   "source": [
    "# Intro"
   ]
  },
  {
   "cell_type": "markdown",
   "id": "a3ab6585",
   "metadata": {},
   "source": [
    "## Standard modules"
   ]
  },
  {
   "cell_type": "code",
   "execution_count": 1,
   "id": "2faa5315",
   "metadata": {
    "ExecuteTime": {
     "end_time": "2025-08-05T14:22:11.416076Z",
     "start_time": "2025-08-05T14:22:11.303419Z"
    }
   },
   "outputs": [],
   "source": [
    "import os, sys, pickle\n",
    "import pathlib\n",
    "import requests"
   ]
  },
  {
   "cell_type": "code",
   "execution_count": 2,
   "id": "64fff0b6",
   "metadata": {
    "ExecuteTime": {
     "end_time": "2025-08-05T14:22:11.572647Z",
     "start_time": "2025-08-05T14:22:11.424993Z"
    }
   },
   "outputs": [],
   "source": [
    "import numpy as np"
   ]
  },
  {
   "cell_type": "code",
   "execution_count": 3,
   "id": "a7e3768e",
   "metadata": {
    "ExecuteTime": {
     "end_time": "2025-08-05T14:22:11.707120Z",
     "start_time": "2025-08-05T14:22:11.575969Z"
    }
   },
   "outputs": [],
   "source": [
    "from tqdm.auto import tqdm, trange"
   ]
  },
  {
   "cell_type": "code",
   "execution_count": 4,
   "id": "395e32a2",
   "metadata": {
    "ExecuteTime": {
     "end_time": "2025-08-05T14:22:15.312107Z",
     "start_time": "2025-08-05T14:22:11.709631Z"
    }
   },
   "outputs": [],
   "source": [
    "from sentence_transformers import util"
   ]
  },
  {
   "cell_type": "code",
   "execution_count": 5,
   "id": "f59ea5ba",
   "metadata": {
    "ExecuteTime": {
     "end_time": "2025-08-05T14:22:16.037241Z",
     "start_time": "2025-08-05T14:22:15.317393Z"
    }
   },
   "outputs": [],
   "source": [
    "import matplotlib.pyplot as plt\n",
    "plt.rcParams['axes.linewidth'] = 2\n",
    "plt.rcParams['xtick.major.size'] = 10\n",
    "plt.rcParams['xtick.major.width'] = 2\n",
    "plt.rcParams['ytick.major.size'] = 10\n",
    "plt.rcParams['ytick.major.width'] = 2\n",
    "\n",
    "plt.rcParams['xtick.labelsize'] = 14\n",
    "plt.rcParams['ytick.labelsize'] = 14\n",
    "\n",
    "plt.rcParams['xtick.minor.size'] = 5\n",
    "plt.rcParams['xtick.minor.width'] = 1\n",
    "plt.rcParams['ytick.minor.size'] = 5\n",
    "plt.rcParams['ytick.minor.width'] = 1"
   ]
  },
  {
   "cell_type": "code",
   "execution_count": 6,
   "id": "bc35f835",
   "metadata": {
    "ExecuteTime": {
     "end_time": "2025-08-05T14:22:16.112957Z",
     "start_time": "2025-08-05T14:22:16.039969Z"
    }
   },
   "outputs": [],
   "source": [
    "from sklearn.decomposition import PCA"
   ]
  },
  {
   "cell_type": "code",
   "execution_count": 7,
   "id": "e8c170d0",
   "metadata": {
    "ExecuteTime": {
     "end_time": "2025-08-05T14:22:16.126857Z",
     "start_time": "2025-08-05T14:22:16.122663Z"
    }
   },
   "outputs": [],
   "source": [
    "from sklearn.metrics import v_measure_score"
   ]
  },
  {
   "cell_type": "code",
   "execution_count": 8,
   "id": "d406cf7f",
   "metadata": {
    "ExecuteTime": {
     "end_time": "2025-08-05T14:22:16.553800Z",
     "start_time": "2025-08-05T14:22:16.129294Z"
    }
   },
   "outputs": [],
   "source": [
    "import seaborn as sns"
   ]
  },
  {
   "cell_type": "code",
   "execution_count": 9,
   "id": "71592da2",
   "metadata": {
    "ExecuteTime": {
     "end_time": "2025-08-05T14:22:16.561592Z",
     "start_time": "2025-08-05T14:22:16.556546Z"
    }
   },
   "outputs": [],
   "source": [
    "import pymannkendall as mk"
   ]
  },
  {
   "cell_type": "code",
   "execution_count": 10,
   "id": "1f324560",
   "metadata": {
    "ExecuteTime": {
     "end_time": "2025-08-05T14:22:16.647679Z",
     "start_time": "2025-08-05T14:22:16.563930Z"
    }
   },
   "outputs": [],
   "source": [
    "from scipy.spatial.distance import cosine"
   ]
  },
  {
   "cell_type": "code",
   "execution_count": 365,
   "id": "00b5a8c6",
   "metadata": {
    "ExecuteTime": {
     "end_time": "2025-09-11T09:35:15.572375Z",
     "start_time": "2025-09-11T09:35:15.566957Z"
    }
   },
   "outputs": [],
   "source": [
    "from scipy.stats import ks_2samp"
   ]
  },
  {
   "cell_type": "code",
   "execution_count": 11,
   "id": "12f60a1f",
   "metadata": {
    "ExecuteTime": {
     "end_time": "2025-08-05T14:22:16.856478Z",
     "start_time": "2025-08-05T14:22:16.650307Z"
    }
   },
   "outputs": [],
   "source": [
    "import requests\n",
    "import re\n",
    "from bs4 import BeautifulSoup  # Per pulizia HTML nelle REST API"
   ]
  },
  {
   "cell_type": "code",
   "execution_count": 12,
   "id": "ad365523",
   "metadata": {
    "ExecuteTime": {
     "end_time": "2025-08-05T14:22:16.867251Z",
     "start_time": "2025-08-05T14:22:16.863577Z"
    }
   },
   "outputs": [],
   "source": [
    "import datetime as dt"
   ]
  },
  {
   "cell_type": "code",
   "execution_count": 280,
   "id": "947d3327",
   "metadata": {
    "ExecuteTime": {
     "end_time": "2025-09-10T15:56:04.806977Z",
     "start_time": "2025-09-10T15:56:04.801336Z"
    }
   },
   "outputs": [],
   "source": [
    "from scipy.stats import spearmanr"
   ]
  },
  {
   "cell_type": "markdown",
   "id": "44adb776",
   "metadata": {},
   "source": [
    "## Personal modules"
   ]
  },
  {
   "cell_type": "code",
   "execution_count": 13,
   "id": "4fef1f7a",
   "metadata": {
    "ExecuteTime": {
     "end_time": "2025-08-05T14:22:16.966318Z",
     "start_time": "2025-08-05T14:22:16.869659Z"
    }
   },
   "outputs": [],
   "source": [
    "from toolbox.updater import time_is_now"
   ]
  },
  {
   "cell_type": "code",
   "execution_count": 14,
   "id": "3b0ace50",
   "metadata": {
    "ExecuteTime": {
     "end_time": "2025-08-05T14:22:17.061357Z",
     "start_time": "2025-08-05T14:22:16.968828Z"
    }
   },
   "outputs": [],
   "source": [
    "from file2text import file2text"
   ]
  },
  {
   "cell_type": "code",
   "execution_count": 15,
   "id": "3f12d1a4",
   "metadata": {
    "ExecuteTime": {
     "end_time": "2025-08-05T14:22:17.139399Z",
     "start_time": "2025-08-05T14:22:17.064406Z"
    }
   },
   "outputs": [],
   "source": [
    "from first_rough_cleaning import first_text_cleaner"
   ]
  },
  {
   "cell_type": "code",
   "execution_count": 16,
   "id": "03ec1060",
   "metadata": {
    "ExecuteTime": {
     "end_time": "2025-08-05T14:22:17.222946Z",
     "start_time": "2025-08-05T14:22:17.142020Z"
    }
   },
   "outputs": [],
   "source": [
    "from file_handler import *"
   ]
  },
  {
   "cell_type": "code",
   "execution_count": 17,
   "id": "a8594b90",
   "metadata": {
    "ExecuteTime": {
     "end_time": "2025-08-05T14:22:22.129793Z",
     "start_time": "2025-08-05T14:22:17.225571Z"
    }
   },
   "outputs": [
    {
     "name": "stderr",
     "output_type": "stream",
     "text": [
      "/home/sarawalk/sdgs_py38/lib/python3.8/site-packages/torch/cuda/__init__.py:118: UserWarning: CUDA initialization: The NVIDIA driver on your system is too old (found version 10020). Please update your GPU driver by downloading and installing a new version from the URL: http://www.nvidia.com/Download/index.aspx Alternatively, go to: https://pytorch.org to install a PyTorch version that has been compiled with your version of the CUDA driver. (Triggered internally at ../c10/cuda/CUDAFunctions.cpp:108.)\n",
      "  return torch._C._cuda_getDeviceCount() > 0\n"
     ]
    }
   ],
   "source": [
    "from jina4lote import jina4lote"
   ]
  },
  {
   "cell_type": "code",
   "execution_count": 18,
   "id": "8d539f30",
   "metadata": {
    "ExecuteTime": {
     "end_time": "2025-08-05T14:22:22.144068Z",
     "start_time": "2025-08-05T14:22:22.133354Z"
    }
   },
   "outputs": [],
   "source": [
    "from tabulate import tabulate"
   ]
  },
  {
   "cell_type": "markdown",
   "id": "53e67ef4",
   "metadata": {},
   "source": [
    "## Folders"
   ]
  },
  {
   "cell_type": "code",
   "execution_count": 19,
   "id": "a8252ba1",
   "metadata": {
    "ExecuteTime": {
     "end_time": "2025-08-05T14:22:22.240874Z",
     "start_time": "2025-08-05T14:22:22.147030Z"
    }
   },
   "outputs": [],
   "source": [
    "VECTOR_FOLDER='./NewProcessedData/vectors/'"
   ]
  },
  {
   "cell_type": "code",
   "execution_count": 20,
   "id": "08684e79",
   "metadata": {
    "ExecuteTime": {
     "end_time": "2025-08-05T14:22:22.314516Z",
     "start_time": "2025-08-05T14:22:22.244461Z"
    }
   },
   "outputs": [],
   "source": [
    "BENCHMARK_FOLDER='./NewProcessedData/benchmarks/'"
   ]
  },
  {
   "cell_type": "code",
   "execution_count": 21,
   "id": "c0228f50",
   "metadata": {
    "ExecuteTime": {
     "end_time": "2025-08-05T14:22:22.397969Z",
     "start_time": "2025-08-05T14:22:22.317678Z"
    }
   },
   "outputs": [],
   "source": [
    "PCA_CENTR_VECTOR_FOLDER='./NewProcessedData/abtt5_vectors/'"
   ]
  },
  {
   "cell_type": "code",
   "execution_count": 272,
   "id": "3c054609",
   "metadata": {
    "ExecuteTime": {
     "end_time": "2025-09-10T15:54:26.083206Z",
     "start_time": "2025-09-10T15:54:26.077497Z"
    }
   },
   "outputs": [],
   "source": [
    "TEXT_FOLDER='./NewProcessedData/texts/'"
   ]
  },
  {
   "cell_type": "markdown",
   "id": "339c500a",
   "metadata": {},
   "source": [
    "## Sector helper"
   ]
  },
  {
   "cell_type": "code",
   "execution_count": 22,
   "id": "d9a1cd17",
   "metadata": {
    "ExecuteTime": {
     "end_time": "2025-08-05T14:22:22.482300Z",
     "start_time": "2025-08-05T14:22:22.401199Z"
    }
   },
   "outputs": [],
   "source": [
    "rtf_files=os.listdir('./rtf')\n",
    "rtf_files.sort()"
   ]
  },
  {
   "cell_type": "code",
   "execution_count": 23,
   "id": "d1e1e08a",
   "metadata": {
    "ExecuteTime": {
     "end_time": "2025-08-05T14:22:22.566081Z",
     "start_time": "2025-08-05T14:22:22.485519Z"
    }
   },
   "outputs": [],
   "source": [
    "sec_helper={}\n",
    "for file in rtf_files:\n",
    "    splitted_name=file.split('_')\n",
    "    if splitted_name[0].isnumeric():\n",
    "        if splitted_name[0] not in sec_helper.keys():\n",
    "            sec_helper[splitted_name[0].zfill(2)]=splitted_name[1]"
   ]
  },
  {
   "cell_type": "code",
   "execution_count": 24,
   "id": "f4595637",
   "metadata": {
    "ExecuteTime": {
     "end_time": "2025-08-05T14:22:22.658683Z",
     "start_time": "2025-08-05T14:22:22.569339Z"
    }
   },
   "outputs": [
    {
     "data": {
      "text/plain": [
       "{'10': 'Telecommunications',\n",
       " '11': 'Utilities',\n",
       " '01': 'Basic Materials',\n",
       " '02': 'Consumer Discretionary',\n",
       " '03': 'Consumer Staples',\n",
       " '04': 'Energy',\n",
       " '05': 'Financials',\n",
       " '06': 'Health Care',\n",
       " '07': 'Industrials',\n",
       " '08': 'Real Estate',\n",
       " '09': 'Technology'}"
      ]
     },
     "execution_count": 24,
     "metadata": {},
     "output_type": "execute_result"
    }
   ],
   "source": [
    "sec_helper"
   ]
  },
  {
   "cell_type": "markdown",
   "id": "50be79d4",
   "metadata": {},
   "source": [
    "### Aggregated sectors"
   ]
  },
  {
   "cell_type": "code",
   "execution_count": 25,
   "id": "2f639e8b",
   "metadata": {
    "ExecuteTime": {
     "end_time": "2025-08-05T14:22:22.767783Z",
     "start_time": "2025-08-05T14:22:22.661893Z"
    }
   },
   "outputs": [],
   "source": [
    "agg_secs={'A': {'name':'Consumer Goods', 'sectors':['02', '03']}, \n",
    " 'B':{'name':'Essential Infrastructure & Services', 'sectors':['08', '10', '11']}, \n",
    " 'C':{'name':'Production Sectors','sectors':['01', '04', '07']},\n",
    " 'D':{'name':'Specialized Services','sectors':['05', '06', '09']}}"
   ]
  },
  {
   "cell_type": "code",
   "execution_count": 26,
   "id": "cfd124a3",
   "metadata": {
    "ExecuteTime": {
     "end_time": "2025-08-05T14:22:22.856694Z",
     "start_time": "2025-08-05T14:22:22.771292Z"
    }
   },
   "outputs": [],
   "source": [
    "sec2agg_d={'01':'C', '02':'A', '03':'A', '04':'C', '05':'D', '06':'D', '07':'C', '08':'B', '09':'D', '10':'B', '11':'B'}"
   ]
  },
  {
   "cell_type": "markdown",
   "id": "5d2ea274",
   "metadata": {},
   "source": [
    "## SDG helper"
   ]
  },
  {
   "cell_type": "code",
   "execution_count": 27,
   "id": "1262b4a0",
   "metadata": {
    "ExecuteTime": {
     "end_time": "2025-08-05T14:22:22.948923Z",
     "start_time": "2025-08-05T14:22:22.860173Z"
    }
   },
   "outputs": [],
   "source": [
    "sdg_helper={'01':'No Poverty', \n",
    " '02': 'Zero hunger', \n",
    " '03': 'Good health and well-being', \n",
    " '04': 'Quality education',\n",
    " '05': 'Gender equality',\n",
    " '06': 'Clean water and sanitation',\n",
    " '07': 'Affordable and clean energy',\n",
    " '08': 'Decent work and economic growth',\n",
    " '09': 'Industry, Innovation, Technology and Infrastructure',\n",
    " '10': 'Reduced inequality',\n",
    " '11': 'Sustainable cities and communities',\n",
    " '12': 'Responsible consumption and production',\n",
    " '13': 'Climate action',\n",
    " '14': 'Life below water',\n",
    " '15': 'Life on land',\n",
    " '16': 'Peace, justice and strong institutions',\n",
    " '17': 'Partnerships for the goals'\n",
    "}"
   ]
  },
  {
   "cell_type": "markdown",
   "id": "c07bcf0c",
   "metadata": {},
   "source": [
    "## Load vectors"
   ]
  },
  {
   "cell_type": "code",
   "execution_count": 28,
   "id": "6427801b",
   "metadata": {
    "ExecuteTime": {
     "end_time": "2025-08-05T14:22:23.081722Z",
     "start_time": "2025-08-05T14:22:22.958748Z"
    }
   },
   "outputs": [],
   "source": [
    "vecfiles=os.listdir(PCA_CENTR_VECTOR_FOLDER)"
   ]
  },
  {
   "cell_type": "code",
   "execution_count": 29,
   "id": "e8b31f80",
   "metadata": {
    "ExecuteTime": {
     "end_time": "2025-08-05T14:22:23.161311Z",
     "start_time": "2025-08-05T14:22:23.084708Z"
    }
   },
   "outputs": [],
   "source": [
    "vecfiles.sort()"
   ]
  },
  {
   "cell_type": "markdown",
   "id": "39b25b73",
   "metadata": {},
   "source": [
    "### Reports' vectors"
   ]
  },
  {
   "cell_type": "code",
   "execution_count": 30,
   "id": "687a67dd",
   "metadata": {
    "ExecuteTime": {
     "end_time": "2025-08-05T14:22:23.258176Z",
     "start_time": "2025-08-05T14:22:23.164835Z"
    }
   },
   "outputs": [],
   "source": [
    "reports_files=[vecfile for vecfile in vecfiles if vecfile[:4].isnumeric()]"
   ]
  },
  {
   "cell_type": "code",
   "execution_count": 31,
   "id": "3ff5bf4f",
   "metadata": {
    "ExecuteTime": {
     "end_time": "2025-08-05T14:22:23.348267Z",
     "start_time": "2025-08-05T14:22:23.261328Z"
    }
   },
   "outputs": [],
   "source": [
    "reports_files.sort()"
   ]
  },
  {
   "cell_type": "code",
   "execution_count": 32,
   "id": "31057bc2",
   "metadata": {
    "ExecuteTime": {
     "end_time": "2025-08-05T14:22:23.432638Z",
     "start_time": "2025-08-05T14:22:23.351589Z"
    }
   },
   "outputs": [],
   "source": [
    "years, k_y=np.unique([rf[:4] for rf in reports_files], return_counts=True)"
   ]
  },
  {
   "cell_type": "code",
   "execution_count": 33,
   "id": "c1b436e6",
   "metadata": {
    "ExecuteTime": {
     "end_time": "2025-08-05T14:22:23.518606Z",
     "start_time": "2025-08-05T14:22:23.436005Z"
    }
   },
   "outputs": [
    {
     "data": {
      "text/plain": [
       "array([['2015', '40'],\n",
       "       ['2016', '44'],\n",
       "       ['2017', '51'],\n",
       "       ['2018', '56'],\n",
       "       ['2019', '67'],\n",
       "       ['2020', '69'],\n",
       "       ['2021', '76'],\n",
       "       ['2022', '80'],\n",
       "       ['2023', '90']], dtype='<U21')"
      ]
     },
     "execution_count": 33,
     "metadata": {},
     "output_type": "execute_result"
    }
   ],
   "source": [
    "np.vstack((years, k_y)).T"
   ]
  },
  {
   "cell_type": "code",
   "execution_count": 34,
   "id": "cf6cf3b1",
   "metadata": {
    "ExecuteTime": {
     "end_time": "2025-08-05T14:22:23.606795Z",
     "start_time": "2025-08-05T14:22:23.521737Z"
    }
   },
   "outputs": [],
   "source": [
    "vectors=np.zeros(len(reports_files), dtype=[('year', 'i4'), ('sector', 'U2'), ('company', 'U100'), ('vector', object)])"
   ]
  },
  {
   "cell_type": "code",
   "execution_count": 35,
   "id": "50305774",
   "metadata": {
    "ExecuteTime": {
     "end_time": "2025-08-05T14:22:26.085134Z",
     "start_time": "2025-08-05T14:22:23.609738Z"
    }
   },
   "outputs": [],
   "source": [
    "for i_rf, reports_file in enumerate(reports_files):\n",
    "    # info from the filename\n",
    "    splitted_filename=reports_file.split('_')\n",
    "    \n",
    "    year=int(splitted_filename[0])\n",
    "    sector=splitted_filename[1]\n",
    "    if splitted_filename[-1]=='PLC.txt':\n",
    "        company='_'.join(splitted_filename[2:-1])\n",
    "    else:\n",
    "        company='_'.join(splitted_filename[2:])\n",
    "        company=company.replace('.txt', '')\n",
    "    company=company.lower()\n",
    "    # get the vector\n",
    "    vector=np.genfromtxt(PCA_CENTR_VECTOR_FOLDER+reports_file)\n",
    "    \n",
    "    # organize data\n",
    "    vectors[i_rf]['year']=year\n",
    "    vectors[i_rf]['sector']=sector\n",
    "    vectors[i_rf]['company']=company\n",
    "    vectors[i_rf]['vector']=vector"
   ]
  },
  {
   "cell_type": "markdown",
   "id": "dfc2f4de",
   "metadata": {},
   "source": [
    "### Reports aggregated per sector per year"
   ]
  },
  {
   "cell_type": "markdown",
   "id": "69fdc7bf",
   "metadata": {},
   "source": [
    "For each and sector I have an only entry, therefore the final vector has "
   ]
  },
  {
   "cell_type": "code",
   "execution_count": 36,
   "id": "c91b7a7c",
   "metadata": {
    "ExecuteTime": {
     "end_time": "2025-08-05T14:22:26.099794Z",
     "start_time": "2025-08-05T14:22:26.090664Z"
    }
   },
   "outputs": [
    {
     "data": {
      "text/plain": [
       "96"
      ]
     },
     "execution_count": 36,
     "metadata": {},
     "output_type": "execute_result"
    }
   ],
   "source": [
    "_tracks=np.unique(vectors[['year', 'sector']])\n",
    "l_aggr_rep=len(_tracks)\n",
    "l_aggr_rep"
   ]
  },
  {
   "cell_type": "markdown",
   "id": "38bc4c70",
   "metadata": {},
   "source": [
    "entries."
   ]
  },
  {
   "cell_type": "code",
   "execution_count": 37,
   "id": "7cfdab02",
   "metadata": {
    "ExecuteTime": {
     "end_time": "2025-08-05T14:22:26.173228Z",
     "start_time": "2025-08-05T14:22:26.102844Z"
    }
   },
   "outputs": [],
   "source": [
    "aggr_vectors=np.zeros(l_aggr_rep, dtype=[('year', 'i4'), ('sector', 'U2'), ('vector', object)])"
   ]
  },
  {
   "cell_type": "code",
   "execution_count": 38,
   "id": "746c04fd",
   "metadata": {
    "ExecuteTime": {
     "end_time": "2025-08-05T14:22:26.446133Z",
     "start_time": "2025-08-05T14:22:26.402683Z"
    }
   },
   "outputs": [
    {
     "data": {
      "application/vnd.jupyter.widget-view+json": {
       "model_id": "0fcfd383facb499aad7e02b2c15e6704",
       "version_major": 2,
       "version_minor": 0
      },
      "text/plain": [
       "  0%|          | 0/96 [00:00<?, ?it/s]"
      ]
     },
     "metadata": {},
     "output_type": "display_data"
    }
   ],
   "source": [
    "for i_t, _track in enumerate(tqdm(_tracks)):\n",
    "    year=_track[0]\n",
    "    sector=_track[1]\n",
    "    # select entries in vectors\n",
    "    _mask=np.logical_and(vectors['year']==year, vectors['sector']==sector)\n",
    "    _selection=vectors[_mask]\n",
    "    # define te entries in aggr_vectors\n",
    "    aggr_vectors[i_t]['year']=year\n",
    "    aggr_vectors[i_t]['sector']=sector\n",
    "    aggr_vectors[i_t]['vector']=np.mean(_selection['vector'])"
   ]
  },
  {
   "cell_type": "markdown",
   "id": "06eb4dd6",
   "metadata": {},
   "source": [
    "### Reports aggregated per aggregated sector per year"
   ]
  },
  {
   "cell_type": "markdown",
   "id": "dfb6d3da",
   "metadata": {},
   "source": [
    "For each and sector I have an only entry, therefore the final vector has "
   ]
  },
  {
   "cell_type": "code",
   "execution_count": 39,
   "id": "4447cea4",
   "metadata": {
    "ExecuteTime": {
     "end_time": "2025-08-05T14:22:28.495378Z",
     "start_time": "2025-08-05T14:22:28.486047Z"
    }
   },
   "outputs": [
    {
     "data": {
      "text/plain": [
       "36"
      ]
     },
     "execution_count": 39,
     "metadata": {},
     "output_type": "execute_result"
    }
   ],
   "source": [
    "l_aggr_aggsec=4*len(years)\n",
    "l_aggr_aggsec"
   ]
  },
  {
   "cell_type": "markdown",
   "id": "2746bcc5",
   "metadata": {},
   "source": [
    "entries."
   ]
  },
  {
   "cell_type": "code",
   "execution_count": 40,
   "id": "1215cea9",
   "metadata": {
    "ExecuteTime": {
     "end_time": "2025-08-05T14:22:29.237276Z",
     "start_time": "2025-08-05T14:22:29.230841Z"
    }
   },
   "outputs": [],
   "source": [
    "aggsec_aggr_vectors=np.zeros(l_aggr_aggsec, dtype=[('year', 'i4'), ('agg_sec', 'U2'), ('vector', object)])"
   ]
  },
  {
   "cell_type": "code",
   "execution_count": 41,
   "id": "69c2bfbc",
   "metadata": {
    "ExecuteTime": {
     "end_time": "2025-08-05T14:22:29.646685Z",
     "start_time": "2025-08-05T14:22:29.609999Z"
    }
   },
   "outputs": [
    {
     "data": {
      "application/vnd.jupyter.widget-view+json": {
       "model_id": "32e1660ecb334a98b65c92ae3a8b31db",
       "version_major": 2,
       "version_minor": 0
      },
      "text/plain": [
       "  0%|          | 0/9 [00:00<?, ?it/s]"
      ]
     },
     "metadata": {},
     "output_type": "display_data"
    },
    {
     "name": "stderr",
     "output_type": "stream",
     "text": [
      "/tmp/ipykernel_23862/503975990.py:7: FutureWarning: elementwise comparison failed; returning scalar instead, but in the future will perform elementwise comparison\n",
      "  _mask=np.logical_and(vectors['year']==year, np.isin(vectors['sector'],_agg_sectors))\n",
      "/home/sarawalk/sdgs_py38/lib/python3.8/site-packages/numpy/core/fromnumeric.py:3464: RuntimeWarning: Mean of empty slice.\n",
      "  return _methods._mean(a, axis=axis, dtype=dtype,\n",
      "/home/sarawalk/sdgs_py38/lib/python3.8/site-packages/numpy/core/_methods.py:194: RuntimeWarning: invalid value encountered in scalar divide\n",
      "  ret = ret / rcount\n"
     ]
    }
   ],
   "source": [
    "index=0\n",
    "for year in tqdm(years):\n",
    "    for i in range(4):\n",
    "        _agg=chr(i+ord('A'))\n",
    "        _agg_sectors=agg_secs[_agg]['sectors']\n",
    "        # select entries in vectors\n",
    "        _mask=np.logical_and(vectors['year']==year, np.isin(vectors['sector'],_agg_sectors))\n",
    "        _selection=vectors[_mask]\n",
    "        # define the entries in aggr_vectors\n",
    "        aggsec_aggr_vectors[index]['year']=year\n",
    "        aggsec_aggr_vectors[index]['agg_sec']=_agg\n",
    "        aggsec_aggr_vectors[index]['vector']=np.mean(_selection['vector'])\n",
    "        index+=1"
   ]
  },
  {
   "cell_type": "markdown",
   "id": "2c379eec",
   "metadata": {},
   "source": [
    "### Witten's vector"
   ]
  },
  {
   "cell_type": "code",
   "execution_count": 42,
   "id": "ca3f589b",
   "metadata": {
    "ExecuteTime": {
     "end_time": "2025-08-05T14:22:30.981312Z",
     "start_time": "2025-08-05T14:22:30.966272Z"
    }
   },
   "outputs": [],
   "source": [
    "wittenvecfile=[file for file in os.listdir(PCA_CENTR_VECTOR_FOLDER) if file.startswith('Witten') and file.endswith('.txt')][0]"
   ]
  },
  {
   "cell_type": "code",
   "execution_count": 43,
   "id": "31b76c9f",
   "metadata": {
    "ExecuteTime": {
     "end_time": "2025-08-05T14:22:31.303663Z",
     "start_time": "2025-08-05T14:22:31.291806Z"
    }
   },
   "outputs": [],
   "source": [
    "wittenvec=np.genfromtxt(PCA_CENTR_VECTOR_FOLDER+wittenvecfile)"
   ]
  },
  {
   "cell_type": "markdown",
   "id": "79bd4b21",
   "metadata": {},
   "source": [
    "### Goals' vectors"
   ]
  },
  {
   "cell_type": "code",
   "execution_count": 44,
   "id": "7c7c9385",
   "metadata": {
    "ExecuteTime": {
     "end_time": "2025-08-05T14:22:31.793375Z",
     "start_time": "2025-08-05T14:22:31.785404Z"
    }
   },
   "outputs": [],
   "source": [
    "goalvecfiles=[vecfile for vecfile in vecfiles if vecfile.startswith('Goal')]"
   ]
  },
  {
   "cell_type": "code",
   "execution_count": 45,
   "id": "8451b719",
   "metadata": {
    "ExecuteTime": {
     "end_time": "2025-08-05T14:22:32.082714Z",
     "start_time": "2025-08-05T14:22:32.077782Z"
    }
   },
   "outputs": [],
   "source": [
    "goalvecfiles.sort()"
   ]
  },
  {
   "cell_type": "code",
   "execution_count": 46,
   "id": "b4c72fb7",
   "metadata": {
    "ExecuteTime": {
     "end_time": "2025-08-05T14:22:32.176875Z",
     "start_time": "2025-08-05T14:22:32.165490Z"
    }
   },
   "outputs": [
    {
     "data": {
      "text/plain": [
       "['Goal-01-Fast-Facts.txt',\n",
       " 'Goal-02-Fast-Facts.txt',\n",
       " 'Goal-03-Fast-Facts.txt',\n",
       " 'Goal-04-Fast-Facts.txt',\n",
       " 'Goal-05-Fast-Facts.txt',\n",
       " 'Goal-06-Fast-Facts.txt',\n",
       " 'Goal-07-Fast-Facts.txt',\n",
       " 'Goal-08-Fast-Facts.txt',\n",
       " 'Goal-09-Fast-Facts.txt',\n",
       " 'Goal-10-Fast-Facts.txt',\n",
       " 'Goal-11_Fast-Facts.txt',\n",
       " 'Goal-12_Fast-Facts.txt',\n",
       " 'Goal-13_Fast-Facts.txt',\n",
       " 'Goal-14_Fast-Facts.txt',\n",
       " 'Goal-15-Fast-Facts.txt',\n",
       " 'Goal-16-Fast-Facts.txt',\n",
       " 'Goal-17-Fast-Facts.txt',\n",
       " 'Goal-Fast-Facts.txt']"
      ]
     },
     "execution_count": 46,
     "metadata": {},
     "output_type": "execute_result"
    }
   ],
   "source": [
    "goalvecfiles"
   ]
  },
  {
   "cell_type": "code",
   "execution_count": 47,
   "id": "8512c6d2",
   "metadata": {
    "ExecuteTime": {
     "end_time": "2025-08-05T14:22:32.421713Z",
     "start_time": "2025-08-05T14:22:32.339616Z"
    }
   },
   "outputs": [],
   "source": [
    "goalvecs=[np.genfromtxt(PCA_CENTR_VECTOR_FOLDER+goalvecfile) for goalvecfile in goalvecfiles]"
   ]
  },
  {
   "cell_type": "markdown",
   "id": "01cb2ea1",
   "metadata": {},
   "source": [
    "### Wikipedia's vectors"
   ]
  },
  {
   "cell_type": "code",
   "execution_count": 48,
   "id": "b8302a45",
   "metadata": {
    "ExecuteTime": {
     "end_time": "2025-08-05T14:22:33.077305Z",
     "start_time": "2025-08-05T14:22:33.068532Z"
    }
   },
   "outputs": [],
   "source": [
    "wikivecfiles=[vecfile for vecfile in vecfiles if vecfile.startswith('wiki')]"
   ]
  },
  {
   "cell_type": "code",
   "execution_count": 49,
   "id": "690f0290",
   "metadata": {
    "ExecuteTime": {
     "end_time": "2025-08-05T14:22:33.210877Z",
     "start_time": "2025-08-05T14:22:33.205923Z"
    }
   },
   "outputs": [],
   "source": [
    "wikivecfiles.sort()"
   ]
  },
  {
   "cell_type": "code",
   "execution_count": 50,
   "id": "d175253d",
   "metadata": {
    "ExecuteTime": {
     "end_time": "2025-08-05T14:22:33.393301Z",
     "start_time": "2025-08-05T14:22:33.385074Z"
    }
   },
   "outputs": [
    {
     "data": {
      "text/plain": [
       "4001"
      ]
     },
     "execution_count": 50,
     "metadata": {},
     "output_type": "execute_result"
    }
   ],
   "source": [
    "len(wikivecfiles)"
   ]
  },
  {
   "cell_type": "code",
   "execution_count": 51,
   "id": "b68b4abc",
   "metadata": {
    "ExecuteTime": {
     "end_time": "2025-08-05T14:22:49.368246Z",
     "start_time": "2025-08-05T14:22:33.716958Z"
    }
   },
   "outputs": [],
   "source": [
    "wikivecs=[np.genfromtxt(PCA_CENTR_VECTOR_FOLDER+wikivecfile) for wikivecfile in wikivecfiles]"
   ]
  },
  {
   "cell_type": "markdown",
   "id": "c9e97d2b",
   "metadata": {},
   "source": [
    "## FDR"
   ]
  },
  {
   "cell_type": "code",
   "execution_count": 52,
   "id": "0090314c",
   "metadata": {
    "ExecuteTime": {
     "end_time": "2025-08-05T14:22:49.382579Z",
     "start_time": "2025-08-05T14:22:49.373932Z"
    }
   },
   "outputs": [],
   "source": [
    "def fdr_th(p_vals, alpha):\n",
    "    _aux=np.sort(p_vals)\n",
    "    fdr_ths=np.arange(1, 1+len(_aux))*alpha/len(_aux)\n",
    "    fdr_mask=_aux<=fdr_ths\n",
    "    if np.sum(fdr_mask)>0:\n",
    "        return fdr_ths[fdr_mask][-1]\n",
    "    else:\n",
    "        return 0."
   ]
  },
  {
   "cell_type": "markdown",
   "id": "f8165133",
   "metadata": {},
   "source": [
    "# The benchmark"
   ]
  },
  {
   "cell_type": "code",
   "execution_count": 49,
   "id": "fef26e9d",
   "metadata": {
    "ExecuteTime": {
     "end_time": "2025-08-04T15:02:45.030341Z",
     "start_time": "2025-08-04T15:02:44.945165Z"
    }
   },
   "outputs": [],
   "source": [
    "years=years.astype('i4')"
   ]
  },
  {
   "cell_type": "markdown",
   "id": "36d4b7f0",
   "metadata": {},
   "source": [
    "## Creating the benchmark, at the firm level _[DO NOT EVALUATE IT AGAIN!!!]_"
   ]
  },
  {
   "cell_type": "code",
   "execution_count": 48,
   "id": "c5c2df5d",
   "metadata": {
    "ExecuteTime": {
     "end_time": "2025-06-17T11:02:00.430750Z",
     "start_time": "2025-06-17T11:02:00.424383Z"
    }
   },
   "outputs": [],
   "source": [
    "wiki_bench=np.zeros(len(vectors), dtype=[('cos_sim', object)])"
   ]
  },
  {
   "cell_type": "code",
   "execution_count": 49,
   "id": "5939ab6a",
   "metadata": {
    "ExecuteTime": {
     "end_time": "2025-06-17T11:14:18.390187Z",
     "start_time": "2025-06-17T11:02:01.172608Z"
    }
   },
   "outputs": [
    {
     "data": {
      "application/vnd.jupyter.widget-view+json": {
       "model_id": "",
       "version_major": 2,
       "version_minor": 0
      },
      "text/plain": [
       "  0%|          | 0/573 [00:00<?, ?it/s]"
      ]
     },
     "metadata": {},
     "output_type": "display_data"
    },
    {
     "data": {
      "application/vnd.jupyter.widget-view+json": {
       "model_id": "",
       "version_major": 2,
       "version_minor": 0
      },
      "text/plain": [
       "  0%|          | 0/4001 [00:00<?, ?it/s]"
      ]
     },
     "metadata": {},
     "output_type": "display_data"
    },
    {
     "data": {
      "application/vnd.jupyter.widget-view+json": {
       "model_id": "",
       "version_major": 2,
       "version_minor": 0
      },
      "text/plain": [
       "  0%|          | 0/4001 [00:00<?, ?it/s]"
      ]
     },
     "metadata": {},
     "output_type": "display_data"
    },
    {
     "data": {
      "application/vnd.jupyter.widget-view+json": {
       "model_id": "",
       "version_major": 2,
       "version_minor": 0
      },
      "text/plain": [
       "  0%|          | 0/4001 [00:00<?, ?it/s]"
      ]
     },
     "metadata": {},
     "output_type": "display_data"
    },
    {
     "data": {
      "application/vnd.jupyter.widget-view+json": {
       "model_id": "",
       "version_major": 2,
       "version_minor": 0
      },
      "text/plain": [
       "  0%|          | 0/4001 [00:00<?, ?it/s]"
      ]
     },
     "metadata": {},
     "output_type": "display_data"
    },
    {
     "data": {
      "application/vnd.jupyter.widget-view+json": {
       "model_id": "",
       "version_major": 2,
       "version_minor": 0
      },
      "text/plain": [
       "  0%|          | 0/4001 [00:00<?, ?it/s]"
      ]
     },
     "metadata": {},
     "output_type": "display_data"
    },
    {
     "data": {
      "application/vnd.jupyter.widget-view+json": {
       "model_id": "",
       "version_major": 2,
       "version_minor": 0
      },
      "text/plain": [
       "  0%|          | 0/4001 [00:00<?, ?it/s]"
      ]
     },
     "metadata": {},
     "output_type": "display_data"
    },
    {
     "data": {
      "application/vnd.jupyter.widget-view+json": {
       "model_id": "",
       "version_major": 2,
       "version_minor": 0
      },
      "text/plain": [
       "  0%|          | 0/4001 [00:00<?, ?it/s]"
      ]
     },
     "metadata": {},
     "output_type": "display_data"
    },
    {
     "data": {
      "application/vnd.jupyter.widget-view+json": {
       "model_id": "",
       "version_major": 2,
       "version_minor": 0
      },
      "text/plain": [
       "  0%|          | 0/4001 [00:00<?, ?it/s]"
      ]
     },
     "metadata": {},
     "output_type": "display_data"
    },
    {
     "data": {
      "application/vnd.jupyter.widget-view+json": {
       "model_id": "",
       "version_major": 2,
       "version_minor": 0
      },
      "text/plain": [
       "  0%|          | 0/4001 [00:00<?, ?it/s]"
      ]
     },
     "metadata": {},
     "output_type": "display_data"
    },
    {
     "data": {
      "application/vnd.jupyter.widget-view+json": {
       "model_id": "",
       "version_major": 2,
       "version_minor": 0
      },
      "text/plain": [
       "  0%|          | 0/4001 [00:00<?, ?it/s]"
      ]
     },
     "metadata": {},
     "output_type": "display_data"
    },
    {
     "data": {
      "application/vnd.jupyter.widget-view+json": {
       "model_id": "",
       "version_major": 2,
       "version_minor": 0
      },
      "text/plain": [
       "  0%|          | 0/4001 [00:00<?, ?it/s]"
      ]
     },
     "metadata": {},
     "output_type": "display_data"
    },
    {
     "data": {
      "application/vnd.jupyter.widget-view+json": {
       "model_id": "",
       "version_major": 2,
       "version_minor": 0
      },
      "text/plain": [
       "  0%|          | 0/4001 [00:00<?, ?it/s]"
      ]
     },
     "metadata": {},
     "output_type": "display_data"
    },
    {
     "data": {
      "application/vnd.jupyter.widget-view+json": {
       "model_id": "",
       "version_major": 2,
       "version_minor": 0
      },
      "text/plain": [
       "  0%|          | 0/4001 [00:00<?, ?it/s]"
      ]
     },
     "metadata": {},
     "output_type": "display_data"
    },
    {
     "data": {
      "application/vnd.jupyter.widget-view+json": {
       "model_id": "",
       "version_major": 2,
       "version_minor": 0
      },
      "text/plain": [
       "  0%|          | 0/4001 [00:00<?, ?it/s]"
      ]
     },
     "metadata": {},
     "output_type": "display_data"
    },
    {
     "data": {
      "application/vnd.jupyter.widget-view+json": {
       "model_id": "",
       "version_major": 2,
       "version_minor": 0
      },
      "text/plain": [
       "  0%|          | 0/4001 [00:00<?, ?it/s]"
      ]
     },
     "metadata": {},
     "output_type": "display_data"
    },
    {
     "data": {
      "application/vnd.jupyter.widget-view+json": {
       "model_id": "",
       "version_major": 2,
       "version_minor": 0
      },
      "text/plain": [
       "  0%|          | 0/4001 [00:00<?, ?it/s]"
      ]
     },
     "metadata": {},
     "output_type": "display_data"
    },
    {
     "data": {
      "application/vnd.jupyter.widget-view+json": {
       "model_id": "",
       "version_major": 2,
       "version_minor": 0
      },
      "text/plain": [
       "  0%|          | 0/4001 [00:00<?, ?it/s]"
      ]
     },
     "metadata": {},
     "output_type": "display_data"
    },
    {
     "data": {
      "application/vnd.jupyter.widget-view+json": {
       "model_id": "",
       "version_major": 2,
       "version_minor": 0
      },
      "text/plain": [
       "  0%|          | 0/4001 [00:00<?, ?it/s]"
      ]
     },
     "metadata": {},
     "output_type": "display_data"
    },
    {
     "data": {
      "application/vnd.jupyter.widget-view+json": {
       "model_id": "",
       "version_major": 2,
       "version_minor": 0
      },
      "text/plain": [
       "  0%|          | 0/4001 [00:00<?, ?it/s]"
      ]
     },
     "metadata": {},
     "output_type": "display_data"
    },
    {
     "data": {
      "application/vnd.jupyter.widget-view+json": {
       "model_id": "",
       "version_major": 2,
       "version_minor": 0
      },
      "text/plain": [
       "  0%|          | 0/4001 [00:00<?, ?it/s]"
      ]
     },
     "metadata": {},
     "output_type": "display_data"
    },
    {
     "data": {
      "application/vnd.jupyter.widget-view+json": {
       "model_id": "",
       "version_major": 2,
       "version_minor": 0
      },
      "text/plain": [
       "  0%|          | 0/4001 [00:00<?, ?it/s]"
      ]
     },
     "metadata": {},
     "output_type": "display_data"
    },
    {
     "data": {
      "application/vnd.jupyter.widget-view+json": {
       "model_id": "",
       "version_major": 2,
       "version_minor": 0
      },
      "text/plain": [
       "  0%|          | 0/4001 [00:00<?, ?it/s]"
      ]
     },
     "metadata": {},
     "output_type": "display_data"
    },
    {
     "data": {
      "application/vnd.jupyter.widget-view+json": {
       "model_id": "",
       "version_major": 2,
       "version_minor": 0
      },
      "text/plain": [
       "  0%|          | 0/4001 [00:00<?, ?it/s]"
      ]
     },
     "metadata": {},
     "output_type": "display_data"
    },
    {
     "data": {
      "application/vnd.jupyter.widget-view+json": {
       "model_id": "",
       "version_major": 2,
       "version_minor": 0
      },
      "text/plain": [
       "  0%|          | 0/4001 [00:00<?, ?it/s]"
      ]
     },
     "metadata": {},
     "output_type": "display_data"
    },
    {
     "data": {
      "application/vnd.jupyter.widget-view+json": {
       "model_id": "",
       "version_major": 2,
       "version_minor": 0
      },
      "text/plain": [
       "  0%|          | 0/4001 [00:00<?, ?it/s]"
      ]
     },
     "metadata": {},
     "output_type": "display_data"
    },
    {
     "data": {
      "application/vnd.jupyter.widget-view+json": {
       "model_id": "",
       "version_major": 2,
       "version_minor": 0
      },
      "text/plain": [
       "  0%|          | 0/4001 [00:00<?, ?it/s]"
      ]
     },
     "metadata": {},
     "output_type": "display_data"
    },
    {
     "data": {
      "application/vnd.jupyter.widget-view+json": {
       "model_id": "",
       "version_major": 2,
       "version_minor": 0
      },
      "text/plain": [
       "  0%|          | 0/4001 [00:00<?, ?it/s]"
      ]
     },
     "metadata": {},
     "output_type": "display_data"
    },
    {
     "data": {
      "application/vnd.jupyter.widget-view+json": {
       "model_id": "",
       "version_major": 2,
       "version_minor": 0
      },
      "text/plain": [
       "  0%|          | 0/4001 [00:00<?, ?it/s]"
      ]
     },
     "metadata": {},
     "output_type": "display_data"
    },
    {
     "data": {
      "application/vnd.jupyter.widget-view+json": {
       "model_id": "",
       "version_major": 2,
       "version_minor": 0
      },
      "text/plain": [
       "  0%|          | 0/4001 [00:00<?, ?it/s]"
      ]
     },
     "metadata": {},
     "output_type": "display_data"
    },
    {
     "data": {
      "application/vnd.jupyter.widget-view+json": {
       "model_id": "",
       "version_major": 2,
       "version_minor": 0
      },
      "text/plain": [
       "  0%|          | 0/4001 [00:00<?, ?it/s]"
      ]
     },
     "metadata": {},
     "output_type": "display_data"
    },
    {
     "data": {
      "application/vnd.jupyter.widget-view+json": {
       "model_id": "",
       "version_major": 2,
       "version_minor": 0
      },
      "text/plain": [
       "  0%|          | 0/4001 [00:00<?, ?it/s]"
      ]
     },
     "metadata": {},
     "output_type": "display_data"
    },
    {
     "data": {
      "application/vnd.jupyter.widget-view+json": {
       "model_id": "",
       "version_major": 2,
       "version_minor": 0
      },
      "text/plain": [
       "  0%|          | 0/4001 [00:00<?, ?it/s]"
      ]
     },
     "metadata": {},
     "output_type": "display_data"
    },
    {
     "data": {
      "application/vnd.jupyter.widget-view+json": {
       "model_id": "",
       "version_major": 2,
       "version_minor": 0
      },
      "text/plain": [
       "  0%|          | 0/4001 [00:00<?, ?it/s]"
      ]
     },
     "metadata": {},
     "output_type": "display_data"
    },
    {
     "data": {
      "application/vnd.jupyter.widget-view+json": {
       "model_id": "",
       "version_major": 2,
       "version_minor": 0
      },
      "text/plain": [
       "  0%|          | 0/4001 [00:00<?, ?it/s]"
      ]
     },
     "metadata": {},
     "output_type": "display_data"
    },
    {
     "data": {
      "application/vnd.jupyter.widget-view+json": {
       "model_id": "",
       "version_major": 2,
       "version_minor": 0
      },
      "text/plain": [
       "  0%|          | 0/4001 [00:00<?, ?it/s]"
      ]
     },
     "metadata": {},
     "output_type": "display_data"
    },
    {
     "data": {
      "application/vnd.jupyter.widget-view+json": {
       "model_id": "",
       "version_major": 2,
       "version_minor": 0
      },
      "text/plain": [
       "  0%|          | 0/4001 [00:00<?, ?it/s]"
      ]
     },
     "metadata": {},
     "output_type": "display_data"
    },
    {
     "data": {
      "application/vnd.jupyter.widget-view+json": {
       "model_id": "",
       "version_major": 2,
       "version_minor": 0
      },
      "text/plain": [
       "  0%|          | 0/4001 [00:00<?, ?it/s]"
      ]
     },
     "metadata": {},
     "output_type": "display_data"
    },
    {
     "data": {
      "application/vnd.jupyter.widget-view+json": {
       "model_id": "",
       "version_major": 2,
       "version_minor": 0
      },
      "text/plain": [
       "  0%|          | 0/4001 [00:00<?, ?it/s]"
      ]
     },
     "metadata": {},
     "output_type": "display_data"
    },
    {
     "data": {
      "application/vnd.jupyter.widget-view+json": {
       "model_id": "",
       "version_major": 2,
       "version_minor": 0
      },
      "text/plain": [
       "  0%|          | 0/4001 [00:00<?, ?it/s]"
      ]
     },
     "metadata": {},
     "output_type": "display_data"
    },
    {
     "data": {
      "application/vnd.jupyter.widget-view+json": {
       "model_id": "",
       "version_major": 2,
       "version_minor": 0
      },
      "text/plain": [
       "  0%|          | 0/4001 [00:00<?, ?it/s]"
      ]
     },
     "metadata": {},
     "output_type": "display_data"
    },
    {
     "data": {
      "application/vnd.jupyter.widget-view+json": {
       "model_id": "",
       "version_major": 2,
       "version_minor": 0
      },
      "text/plain": [
       "  0%|          | 0/4001 [00:00<?, ?it/s]"
      ]
     },
     "metadata": {},
     "output_type": "display_data"
    },
    {
     "data": {
      "application/vnd.jupyter.widget-view+json": {
       "model_id": "",
       "version_major": 2,
       "version_minor": 0
      },
      "text/plain": [
       "  0%|          | 0/4001 [00:00<?, ?it/s]"
      ]
     },
     "metadata": {},
     "output_type": "display_data"
    },
    {
     "data": {
      "application/vnd.jupyter.widget-view+json": {
       "model_id": "",
       "version_major": 2,
       "version_minor": 0
      },
      "text/plain": [
       "  0%|          | 0/4001 [00:00<?, ?it/s]"
      ]
     },
     "metadata": {},
     "output_type": "display_data"
    },
    {
     "data": {
      "application/vnd.jupyter.widget-view+json": {
       "model_id": "",
       "version_major": 2,
       "version_minor": 0
      },
      "text/plain": [
       "  0%|          | 0/4001 [00:00<?, ?it/s]"
      ]
     },
     "metadata": {},
     "output_type": "display_data"
    },
    {
     "data": {
      "application/vnd.jupyter.widget-view+json": {
       "model_id": "",
       "version_major": 2,
       "version_minor": 0
      },
      "text/plain": [
       "  0%|          | 0/4001 [00:00<?, ?it/s]"
      ]
     },
     "metadata": {},
     "output_type": "display_data"
    },
    {
     "data": {
      "application/vnd.jupyter.widget-view+json": {
       "model_id": "",
       "version_major": 2,
       "version_minor": 0
      },
      "text/plain": [
       "  0%|          | 0/4001 [00:00<?, ?it/s]"
      ]
     },
     "metadata": {},
     "output_type": "display_data"
    },
    {
     "data": {
      "application/vnd.jupyter.widget-view+json": {
       "model_id": "",
       "version_major": 2,
       "version_minor": 0
      },
      "text/plain": [
       "  0%|          | 0/4001 [00:00<?, ?it/s]"
      ]
     },
     "metadata": {},
     "output_type": "display_data"
    },
    {
     "data": {
      "application/vnd.jupyter.widget-view+json": {
       "model_id": "",
       "version_major": 2,
       "version_minor": 0
      },
      "text/plain": [
       "  0%|          | 0/4001 [00:00<?, ?it/s]"
      ]
     },
     "metadata": {},
     "output_type": "display_data"
    },
    {
     "data": {
      "application/vnd.jupyter.widget-view+json": {
       "model_id": "",
       "version_major": 2,
       "version_minor": 0
      },
      "text/plain": [
       "  0%|          | 0/4001 [00:00<?, ?it/s]"
      ]
     },
     "metadata": {},
     "output_type": "display_data"
    },
    {
     "data": {
      "application/vnd.jupyter.widget-view+json": {
       "model_id": "",
       "version_major": 2,
       "version_minor": 0
      },
      "text/plain": [
       "  0%|          | 0/4001 [00:00<?, ?it/s]"
      ]
     },
     "metadata": {},
     "output_type": "display_data"
    },
    {
     "data": {
      "application/vnd.jupyter.widget-view+json": {
       "model_id": "",
       "version_major": 2,
       "version_minor": 0
      },
      "text/plain": [
       "  0%|          | 0/4001 [00:00<?, ?it/s]"
      ]
     },
     "metadata": {},
     "output_type": "display_data"
    },
    {
     "data": {
      "application/vnd.jupyter.widget-view+json": {
       "model_id": "",
       "version_major": 2,
       "version_minor": 0
      },
      "text/plain": [
       "  0%|          | 0/4001 [00:00<?, ?it/s]"
      ]
     },
     "metadata": {},
     "output_type": "display_data"
    },
    {
     "data": {
      "application/vnd.jupyter.widget-view+json": {
       "model_id": "",
       "version_major": 2,
       "version_minor": 0
      },
      "text/plain": [
       "  0%|          | 0/4001 [00:00<?, ?it/s]"
      ]
     },
     "metadata": {},
     "output_type": "display_data"
    },
    {
     "data": {
      "application/vnd.jupyter.widget-view+json": {
       "model_id": "",
       "version_major": 2,
       "version_minor": 0
      },
      "text/plain": [
       "  0%|          | 0/4001 [00:00<?, ?it/s]"
      ]
     },
     "metadata": {},
     "output_type": "display_data"
    },
    {
     "data": {
      "application/vnd.jupyter.widget-view+json": {
       "model_id": "",
       "version_major": 2,
       "version_minor": 0
      },
      "text/plain": [
       "  0%|          | 0/4001 [00:00<?, ?it/s]"
      ]
     },
     "metadata": {},
     "output_type": "display_data"
    },
    {
     "data": {
      "application/vnd.jupyter.widget-view+json": {
       "model_id": "",
       "version_major": 2,
       "version_minor": 0
      },
      "text/plain": [
       "  0%|          | 0/4001 [00:00<?, ?it/s]"
      ]
     },
     "metadata": {},
     "output_type": "display_data"
    },
    {
     "data": {
      "application/vnd.jupyter.widget-view+json": {
       "model_id": "",
       "version_major": 2,
       "version_minor": 0
      },
      "text/plain": [
       "  0%|          | 0/4001 [00:00<?, ?it/s]"
      ]
     },
     "metadata": {},
     "output_type": "display_data"
    },
    {
     "data": {
      "application/vnd.jupyter.widget-view+json": {
       "model_id": "",
       "version_major": 2,
       "version_minor": 0
      },
      "text/plain": [
       "  0%|          | 0/4001 [00:00<?, ?it/s]"
      ]
     },
     "metadata": {},
     "output_type": "display_data"
    },
    {
     "data": {
      "application/vnd.jupyter.widget-view+json": {
       "model_id": "",
       "version_major": 2,
       "version_minor": 0
      },
      "text/plain": [
       "  0%|          | 0/4001 [00:00<?, ?it/s]"
      ]
     },
     "metadata": {},
     "output_type": "display_data"
    },
    {
     "data": {
      "application/vnd.jupyter.widget-view+json": {
       "model_id": "",
       "version_major": 2,
       "version_minor": 0
      },
      "text/plain": [
       "  0%|          | 0/4001 [00:00<?, ?it/s]"
      ]
     },
     "metadata": {},
     "output_type": "display_data"
    },
    {
     "data": {
      "application/vnd.jupyter.widget-view+json": {
       "model_id": "",
       "version_major": 2,
       "version_minor": 0
      },
      "text/plain": [
       "  0%|          | 0/4001 [00:00<?, ?it/s]"
      ]
     },
     "metadata": {},
     "output_type": "display_data"
    },
    {
     "data": {
      "application/vnd.jupyter.widget-view+json": {
       "model_id": "",
       "version_major": 2,
       "version_minor": 0
      },
      "text/plain": [
       "  0%|          | 0/4001 [00:00<?, ?it/s]"
      ]
     },
     "metadata": {},
     "output_type": "display_data"
    },
    {
     "data": {
      "application/vnd.jupyter.widget-view+json": {
       "model_id": "",
       "version_major": 2,
       "version_minor": 0
      },
      "text/plain": [
       "  0%|          | 0/4001 [00:00<?, ?it/s]"
      ]
     },
     "metadata": {},
     "output_type": "display_data"
    },
    {
     "data": {
      "application/vnd.jupyter.widget-view+json": {
       "model_id": "",
       "version_major": 2,
       "version_minor": 0
      },
      "text/plain": [
       "  0%|          | 0/4001 [00:00<?, ?it/s]"
      ]
     },
     "metadata": {},
     "output_type": "display_data"
    },
    {
     "data": {
      "application/vnd.jupyter.widget-view+json": {
       "model_id": "",
       "version_major": 2,
       "version_minor": 0
      },
      "text/plain": [
       "  0%|          | 0/4001 [00:00<?, ?it/s]"
      ]
     },
     "metadata": {},
     "output_type": "display_data"
    },
    {
     "data": {
      "application/vnd.jupyter.widget-view+json": {
       "model_id": "",
       "version_major": 2,
       "version_minor": 0
      },
      "text/plain": [
       "  0%|          | 0/4001 [00:00<?, ?it/s]"
      ]
     },
     "metadata": {},
     "output_type": "display_data"
    },
    {
     "data": {
      "application/vnd.jupyter.widget-view+json": {
       "model_id": "",
       "version_major": 2,
       "version_minor": 0
      },
      "text/plain": [
       "  0%|          | 0/4001 [00:00<?, ?it/s]"
      ]
     },
     "metadata": {},
     "output_type": "display_data"
    },
    {
     "data": {
      "application/vnd.jupyter.widget-view+json": {
       "model_id": "",
       "version_major": 2,
       "version_minor": 0
      },
      "text/plain": [
       "  0%|          | 0/4001 [00:00<?, ?it/s]"
      ]
     },
     "metadata": {},
     "output_type": "display_data"
    },
    {
     "data": {
      "application/vnd.jupyter.widget-view+json": {
       "model_id": "",
       "version_major": 2,
       "version_minor": 0
      },
      "text/plain": [
       "  0%|          | 0/4001 [00:00<?, ?it/s]"
      ]
     },
     "metadata": {},
     "output_type": "display_data"
    },
    {
     "data": {
      "application/vnd.jupyter.widget-view+json": {
       "model_id": "",
       "version_major": 2,
       "version_minor": 0
      },
      "text/plain": [
       "  0%|          | 0/4001 [00:00<?, ?it/s]"
      ]
     },
     "metadata": {},
     "output_type": "display_data"
    },
    {
     "data": {
      "application/vnd.jupyter.widget-view+json": {
       "model_id": "",
       "version_major": 2,
       "version_minor": 0
      },
      "text/plain": [
       "  0%|          | 0/4001 [00:00<?, ?it/s]"
      ]
     },
     "metadata": {},
     "output_type": "display_data"
    },
    {
     "data": {
      "application/vnd.jupyter.widget-view+json": {
       "model_id": "",
       "version_major": 2,
       "version_minor": 0
      },
      "text/plain": [
       "  0%|          | 0/4001 [00:00<?, ?it/s]"
      ]
     },
     "metadata": {},
     "output_type": "display_data"
    },
    {
     "data": {
      "application/vnd.jupyter.widget-view+json": {
       "model_id": "",
       "version_major": 2,
       "version_minor": 0
      },
      "text/plain": [
       "  0%|          | 0/4001 [00:00<?, ?it/s]"
      ]
     },
     "metadata": {},
     "output_type": "display_data"
    },
    {
     "data": {
      "application/vnd.jupyter.widget-view+json": {
       "model_id": "",
       "version_major": 2,
       "version_minor": 0
      },
      "text/plain": [
       "  0%|          | 0/4001 [00:00<?, ?it/s]"
      ]
     },
     "metadata": {},
     "output_type": "display_data"
    },
    {
     "data": {
      "application/vnd.jupyter.widget-view+json": {
       "model_id": "",
       "version_major": 2,
       "version_minor": 0
      },
      "text/plain": [
       "  0%|          | 0/4001 [00:00<?, ?it/s]"
      ]
     },
     "metadata": {},
     "output_type": "display_data"
    },
    {
     "data": {
      "application/vnd.jupyter.widget-view+json": {
       "model_id": "",
       "version_major": 2,
       "version_minor": 0
      },
      "text/plain": [
       "  0%|          | 0/4001 [00:00<?, ?it/s]"
      ]
     },
     "metadata": {},
     "output_type": "display_data"
    },
    {
     "data": {
      "application/vnd.jupyter.widget-view+json": {
       "model_id": "",
       "version_major": 2,
       "version_minor": 0
      },
      "text/plain": [
       "  0%|          | 0/4001 [00:00<?, ?it/s]"
      ]
     },
     "metadata": {},
     "output_type": "display_data"
    },
    {
     "data": {
      "application/vnd.jupyter.widget-view+json": {
       "model_id": "",
       "version_major": 2,
       "version_minor": 0
      },
      "text/plain": [
       "  0%|          | 0/4001 [00:00<?, ?it/s]"
      ]
     },
     "metadata": {},
     "output_type": "display_data"
    },
    {
     "data": {
      "application/vnd.jupyter.widget-view+json": {
       "model_id": "",
       "version_major": 2,
       "version_minor": 0
      },
      "text/plain": [
       "  0%|          | 0/4001 [00:00<?, ?it/s]"
      ]
     },
     "metadata": {},
     "output_type": "display_data"
    },
    {
     "data": {
      "application/vnd.jupyter.widget-view+json": {
       "model_id": "",
       "version_major": 2,
       "version_minor": 0
      },
      "text/plain": [
       "  0%|          | 0/4001 [00:00<?, ?it/s]"
      ]
     },
     "metadata": {},
     "output_type": "display_data"
    },
    {
     "data": {
      "application/vnd.jupyter.widget-view+json": {
       "model_id": "",
       "version_major": 2,
       "version_minor": 0
      },
      "text/plain": [
       "  0%|          | 0/4001 [00:00<?, ?it/s]"
      ]
     },
     "metadata": {},
     "output_type": "display_data"
    },
    {
     "data": {
      "application/vnd.jupyter.widget-view+json": {
       "model_id": "",
       "version_major": 2,
       "version_minor": 0
      },
      "text/plain": [
       "  0%|          | 0/4001 [00:00<?, ?it/s]"
      ]
     },
     "metadata": {},
     "output_type": "display_data"
    },
    {
     "data": {
      "application/vnd.jupyter.widget-view+json": {
       "model_id": "",
       "version_major": 2,
       "version_minor": 0
      },
      "text/plain": [
       "  0%|          | 0/4001 [00:00<?, ?it/s]"
      ]
     },
     "metadata": {},
     "output_type": "display_data"
    },
    {
     "data": {
      "application/vnd.jupyter.widget-view+json": {
       "model_id": "",
       "version_major": 2,
       "version_minor": 0
      },
      "text/plain": [
       "  0%|          | 0/4001 [00:00<?, ?it/s]"
      ]
     },
     "metadata": {},
     "output_type": "display_data"
    },
    {
     "data": {
      "application/vnd.jupyter.widget-view+json": {
       "model_id": "",
       "version_major": 2,
       "version_minor": 0
      },
      "text/plain": [
       "  0%|          | 0/4001 [00:00<?, ?it/s]"
      ]
     },
     "metadata": {},
     "output_type": "display_data"
    },
    {
     "data": {
      "application/vnd.jupyter.widget-view+json": {
       "model_id": "",
       "version_major": 2,
       "version_minor": 0
      },
      "text/plain": [
       "  0%|          | 0/4001 [00:00<?, ?it/s]"
      ]
     },
     "metadata": {},
     "output_type": "display_data"
    },
    {
     "data": {
      "application/vnd.jupyter.widget-view+json": {
       "model_id": "",
       "version_major": 2,
       "version_minor": 0
      },
      "text/plain": [
       "  0%|          | 0/4001 [00:00<?, ?it/s]"
      ]
     },
     "metadata": {},
     "output_type": "display_data"
    },
    {
     "data": {
      "application/vnd.jupyter.widget-view+json": {
       "model_id": "",
       "version_major": 2,
       "version_minor": 0
      },
      "text/plain": [
       "  0%|          | 0/4001 [00:00<?, ?it/s]"
      ]
     },
     "metadata": {},
     "output_type": "display_data"
    },
    {
     "data": {
      "application/vnd.jupyter.widget-view+json": {
       "model_id": "",
       "version_major": 2,
       "version_minor": 0
      },
      "text/plain": [
       "  0%|          | 0/4001 [00:00<?, ?it/s]"
      ]
     },
     "metadata": {},
     "output_type": "display_data"
    },
    {
     "data": {
      "application/vnd.jupyter.widget-view+json": {
       "model_id": "",
       "version_major": 2,
       "version_minor": 0
      },
      "text/plain": [
       "  0%|          | 0/4001 [00:00<?, ?it/s]"
      ]
     },
     "metadata": {},
     "output_type": "display_data"
    },
    {
     "data": {
      "application/vnd.jupyter.widget-view+json": {
       "model_id": "",
       "version_major": 2,
       "version_minor": 0
      },
      "text/plain": [
       "  0%|          | 0/4001 [00:00<?, ?it/s]"
      ]
     },
     "metadata": {},
     "output_type": "display_data"
    },
    {
     "data": {
      "application/vnd.jupyter.widget-view+json": {
       "model_id": "",
       "version_major": 2,
       "version_minor": 0
      },
      "text/plain": [
       "  0%|          | 0/4001 [00:00<?, ?it/s]"
      ]
     },
     "metadata": {},
     "output_type": "display_data"
    },
    {
     "data": {
      "application/vnd.jupyter.widget-view+json": {
       "model_id": "",
       "version_major": 2,
       "version_minor": 0
      },
      "text/plain": [
       "  0%|          | 0/4001 [00:00<?, ?it/s]"
      ]
     },
     "metadata": {},
     "output_type": "display_data"
    },
    {
     "data": {
      "application/vnd.jupyter.widget-view+json": {
       "model_id": "",
       "version_major": 2,
       "version_minor": 0
      },
      "text/plain": [
       "  0%|          | 0/4001 [00:00<?, ?it/s]"
      ]
     },
     "metadata": {},
     "output_type": "display_data"
    },
    {
     "data": {
      "application/vnd.jupyter.widget-view+json": {
       "model_id": "",
       "version_major": 2,
       "version_minor": 0
      },
      "text/plain": [
       "  0%|          | 0/4001 [00:00<?, ?it/s]"
      ]
     },
     "metadata": {},
     "output_type": "display_data"
    },
    {
     "data": {
      "application/vnd.jupyter.widget-view+json": {
       "model_id": "",
       "version_major": 2,
       "version_minor": 0
      },
      "text/plain": [
       "  0%|          | 0/4001 [00:00<?, ?it/s]"
      ]
     },
     "metadata": {},
     "output_type": "display_data"
    },
    {
     "data": {
      "application/vnd.jupyter.widget-view+json": {
       "model_id": "",
       "version_major": 2,
       "version_minor": 0
      },
      "text/plain": [
       "  0%|          | 0/4001 [00:00<?, ?it/s]"
      ]
     },
     "metadata": {},
     "output_type": "display_data"
    },
    {
     "data": {
      "application/vnd.jupyter.widget-view+json": {
       "model_id": "",
       "version_major": 2,
       "version_minor": 0
      },
      "text/plain": [
       "  0%|          | 0/4001 [00:00<?, ?it/s]"
      ]
     },
     "metadata": {},
     "output_type": "display_data"
    },
    {
     "data": {
      "application/vnd.jupyter.widget-view+json": {
       "model_id": "",
       "version_major": 2,
       "version_minor": 0
      },
      "text/plain": [
       "  0%|          | 0/4001 [00:00<?, ?it/s]"
      ]
     },
     "metadata": {},
     "output_type": "display_data"
    },
    {
     "data": {
      "application/vnd.jupyter.widget-view+json": {
       "model_id": "",
       "version_major": 2,
       "version_minor": 0
      },
      "text/plain": [
       "  0%|          | 0/4001 [00:00<?, ?it/s]"
      ]
     },
     "metadata": {},
     "output_type": "display_data"
    },
    {
     "data": {
      "application/vnd.jupyter.widget-view+json": {
       "model_id": "",
       "version_major": 2,
       "version_minor": 0
      },
      "text/plain": [
       "  0%|          | 0/4001 [00:00<?, ?it/s]"
      ]
     },
     "metadata": {},
     "output_type": "display_data"
    },
    {
     "data": {
      "application/vnd.jupyter.widget-view+json": {
       "model_id": "",
       "version_major": 2,
       "version_minor": 0
      },
      "text/plain": [
       "  0%|          | 0/4001 [00:00<?, ?it/s]"
      ]
     },
     "metadata": {},
     "output_type": "display_data"
    },
    {
     "data": {
      "application/vnd.jupyter.widget-view+json": {
       "model_id": "",
       "version_major": 2,
       "version_minor": 0
      },
      "text/plain": [
       "  0%|          | 0/4001 [00:00<?, ?it/s]"
      ]
     },
     "metadata": {},
     "output_type": "display_data"
    },
    {
     "data": {
      "application/vnd.jupyter.widget-view+json": {
       "model_id": "",
       "version_major": 2,
       "version_minor": 0
      },
      "text/plain": [
       "  0%|          | 0/4001 [00:00<?, ?it/s]"
      ]
     },
     "metadata": {},
     "output_type": "display_data"
    },
    {
     "data": {
      "application/vnd.jupyter.widget-view+json": {
       "model_id": "",
       "version_major": 2,
       "version_minor": 0
      },
      "text/plain": [
       "  0%|          | 0/4001 [00:00<?, ?it/s]"
      ]
     },
     "metadata": {},
     "output_type": "display_data"
    },
    {
     "data": {
      "application/vnd.jupyter.widget-view+json": {
       "model_id": "",
       "version_major": 2,
       "version_minor": 0
      },
      "text/plain": [
       "  0%|          | 0/4001 [00:00<?, ?it/s]"
      ]
     },
     "metadata": {},
     "output_type": "display_data"
    },
    {
     "data": {
      "application/vnd.jupyter.widget-view+json": {
       "model_id": "",
       "version_major": 2,
       "version_minor": 0
      },
      "text/plain": [
       "  0%|          | 0/4001 [00:00<?, ?it/s]"
      ]
     },
     "metadata": {},
     "output_type": "display_data"
    },
    {
     "data": {
      "application/vnd.jupyter.widget-view+json": {
       "model_id": "",
       "version_major": 2,
       "version_minor": 0
      },
      "text/plain": [
       "  0%|          | 0/4001 [00:00<?, ?it/s]"
      ]
     },
     "metadata": {},
     "output_type": "display_data"
    },
    {
     "data": {
      "application/vnd.jupyter.widget-view+json": {
       "model_id": "",
       "version_major": 2,
       "version_minor": 0
      },
      "text/plain": [
       "  0%|          | 0/4001 [00:00<?, ?it/s]"
      ]
     },
     "metadata": {},
     "output_type": "display_data"
    },
    {
     "data": {
      "application/vnd.jupyter.widget-view+json": {
       "model_id": "",
       "version_major": 2,
       "version_minor": 0
      },
      "text/plain": [
       "  0%|          | 0/4001 [00:00<?, ?it/s]"
      ]
     },
     "metadata": {},
     "output_type": "display_data"
    },
    {
     "data": {
      "application/vnd.jupyter.widget-view+json": {
       "model_id": "",
       "version_major": 2,
       "version_minor": 0
      },
      "text/plain": [
       "  0%|          | 0/4001 [00:00<?, ?it/s]"
      ]
     },
     "metadata": {},
     "output_type": "display_data"
    },
    {
     "data": {
      "application/vnd.jupyter.widget-view+json": {
       "model_id": "",
       "version_major": 2,
       "version_minor": 0
      },
      "text/plain": [
       "  0%|          | 0/4001 [00:00<?, ?it/s]"
      ]
     },
     "metadata": {},
     "output_type": "display_data"
    },
    {
     "data": {
      "application/vnd.jupyter.widget-view+json": {
       "model_id": "",
       "version_major": 2,
       "version_minor": 0
      },
      "text/plain": [
       "  0%|          | 0/4001 [00:00<?, ?it/s]"
      ]
     },
     "metadata": {},
     "output_type": "display_data"
    },
    {
     "data": {
      "application/vnd.jupyter.widget-view+json": {
       "model_id": "",
       "version_major": 2,
       "version_minor": 0
      },
      "text/plain": [
       "  0%|          | 0/4001 [00:00<?, ?it/s]"
      ]
     },
     "metadata": {},
     "output_type": "display_data"
    },
    {
     "data": {
      "application/vnd.jupyter.widget-view+json": {
       "model_id": "",
       "version_major": 2,
       "version_minor": 0
      },
      "text/plain": [
       "  0%|          | 0/4001 [00:00<?, ?it/s]"
      ]
     },
     "metadata": {},
     "output_type": "display_data"
    },
    {
     "data": {
      "application/vnd.jupyter.widget-view+json": {
       "model_id": "",
       "version_major": 2,
       "version_minor": 0
      },
      "text/plain": [
       "  0%|          | 0/4001 [00:00<?, ?it/s]"
      ]
     },
     "metadata": {},
     "output_type": "display_data"
    },
    {
     "data": {
      "application/vnd.jupyter.widget-view+json": {
       "model_id": "",
       "version_major": 2,
       "version_minor": 0
      },
      "text/plain": [
       "  0%|          | 0/4001 [00:00<?, ?it/s]"
      ]
     },
     "metadata": {},
     "output_type": "display_data"
    },
    {
     "data": {
      "application/vnd.jupyter.widget-view+json": {
       "model_id": "",
       "version_major": 2,
       "version_minor": 0
      },
      "text/plain": [
       "  0%|          | 0/4001 [00:00<?, ?it/s]"
      ]
     },
     "metadata": {},
     "output_type": "display_data"
    },
    {
     "data": {
      "application/vnd.jupyter.widget-view+json": {
       "model_id": "",
       "version_major": 2,
       "version_minor": 0
      },
      "text/plain": [
       "  0%|          | 0/4001 [00:00<?, ?it/s]"
      ]
     },
     "metadata": {},
     "output_type": "display_data"
    },
    {
     "data": {
      "application/vnd.jupyter.widget-view+json": {
       "model_id": "",
       "version_major": 2,
       "version_minor": 0
      },
      "text/plain": [
       "  0%|          | 0/4001 [00:00<?, ?it/s]"
      ]
     },
     "metadata": {},
     "output_type": "display_data"
    },
    {
     "data": {
      "application/vnd.jupyter.widget-view+json": {
       "model_id": "",
       "version_major": 2,
       "version_minor": 0
      },
      "text/plain": [
       "  0%|          | 0/4001 [00:00<?, ?it/s]"
      ]
     },
     "metadata": {},
     "output_type": "display_data"
    },
    {
     "data": {
      "application/vnd.jupyter.widget-view+json": {
       "model_id": "",
       "version_major": 2,
       "version_minor": 0
      },
      "text/plain": [
       "  0%|          | 0/4001 [00:00<?, ?it/s]"
      ]
     },
     "metadata": {},
     "output_type": "display_data"
    },
    {
     "data": {
      "application/vnd.jupyter.widget-view+json": {
       "model_id": "",
       "version_major": 2,
       "version_minor": 0
      },
      "text/plain": [
       "  0%|          | 0/4001 [00:00<?, ?it/s]"
      ]
     },
     "metadata": {},
     "output_type": "display_data"
    },
    {
     "data": {
      "application/vnd.jupyter.widget-view+json": {
       "model_id": "",
       "version_major": 2,
       "version_minor": 0
      },
      "text/plain": [
       "  0%|          | 0/4001 [00:00<?, ?it/s]"
      ]
     },
     "metadata": {},
     "output_type": "display_data"
    },
    {
     "data": {
      "application/vnd.jupyter.widget-view+json": {
       "model_id": "",
       "version_major": 2,
       "version_minor": 0
      },
      "text/plain": [
       "  0%|          | 0/4001 [00:00<?, ?it/s]"
      ]
     },
     "metadata": {},
     "output_type": "display_data"
    },
    {
     "data": {
      "application/vnd.jupyter.widget-view+json": {
       "model_id": "",
       "version_major": 2,
       "version_minor": 0
      },
      "text/plain": [
       "  0%|          | 0/4001 [00:00<?, ?it/s]"
      ]
     },
     "metadata": {},
     "output_type": "display_data"
    },
    {
     "data": {
      "application/vnd.jupyter.widget-view+json": {
       "model_id": "",
       "version_major": 2,
       "version_minor": 0
      },
      "text/plain": [
       "  0%|          | 0/4001 [00:00<?, ?it/s]"
      ]
     },
     "metadata": {},
     "output_type": "display_data"
    },
    {
     "data": {
      "application/vnd.jupyter.widget-view+json": {
       "model_id": "",
       "version_major": 2,
       "version_minor": 0
      },
      "text/plain": [
       "  0%|          | 0/4001 [00:00<?, ?it/s]"
      ]
     },
     "metadata": {},
     "output_type": "display_data"
    },
    {
     "data": {
      "application/vnd.jupyter.widget-view+json": {
       "model_id": "",
       "version_major": 2,
       "version_minor": 0
      },
      "text/plain": [
       "  0%|          | 0/4001 [00:00<?, ?it/s]"
      ]
     },
     "metadata": {},
     "output_type": "display_data"
    },
    {
     "data": {
      "application/vnd.jupyter.widget-view+json": {
       "model_id": "",
       "version_major": 2,
       "version_minor": 0
      },
      "text/plain": [
       "  0%|          | 0/4001 [00:00<?, ?it/s]"
      ]
     },
     "metadata": {},
     "output_type": "display_data"
    },
    {
     "data": {
      "application/vnd.jupyter.widget-view+json": {
       "model_id": "",
       "version_major": 2,
       "version_minor": 0
      },
      "text/plain": [
       "  0%|          | 0/4001 [00:00<?, ?it/s]"
      ]
     },
     "metadata": {},
     "output_type": "display_data"
    },
    {
     "data": {
      "application/vnd.jupyter.widget-view+json": {
       "model_id": "",
       "version_major": 2,
       "version_minor": 0
      },
      "text/plain": [
       "  0%|          | 0/4001 [00:00<?, ?it/s]"
      ]
     },
     "metadata": {},
     "output_type": "display_data"
    },
    {
     "data": {
      "application/vnd.jupyter.widget-view+json": {
       "model_id": "",
       "version_major": 2,
       "version_minor": 0
      },
      "text/plain": [
       "  0%|          | 0/4001 [00:00<?, ?it/s]"
      ]
     },
     "metadata": {},
     "output_type": "display_data"
    },
    {
     "data": {
      "application/vnd.jupyter.widget-view+json": {
       "model_id": "",
       "version_major": 2,
       "version_minor": 0
      },
      "text/plain": [
       "  0%|          | 0/4001 [00:00<?, ?it/s]"
      ]
     },
     "metadata": {},
     "output_type": "display_data"
    },
    {
     "data": {
      "application/vnd.jupyter.widget-view+json": {
       "model_id": "",
       "version_major": 2,
       "version_minor": 0
      },
      "text/plain": [
       "  0%|          | 0/4001 [00:00<?, ?it/s]"
      ]
     },
     "metadata": {},
     "output_type": "display_data"
    },
    {
     "data": {
      "application/vnd.jupyter.widget-view+json": {
       "model_id": "",
       "version_major": 2,
       "version_minor": 0
      },
      "text/plain": [
       "  0%|          | 0/4001 [00:00<?, ?it/s]"
      ]
     },
     "metadata": {},
     "output_type": "display_data"
    },
    {
     "data": {
      "application/vnd.jupyter.widget-view+json": {
       "model_id": "",
       "version_major": 2,
       "version_minor": 0
      },
      "text/plain": [
       "  0%|          | 0/4001 [00:00<?, ?it/s]"
      ]
     },
     "metadata": {},
     "output_type": "display_data"
    },
    {
     "data": {
      "application/vnd.jupyter.widget-view+json": {
       "model_id": "",
       "version_major": 2,
       "version_minor": 0
      },
      "text/plain": [
       "  0%|          | 0/4001 [00:00<?, ?it/s]"
      ]
     },
     "metadata": {},
     "output_type": "display_data"
    },
    {
     "data": {
      "application/vnd.jupyter.widget-view+json": {
       "model_id": "",
       "version_major": 2,
       "version_minor": 0
      },
      "text/plain": [
       "  0%|          | 0/4001 [00:00<?, ?it/s]"
      ]
     },
     "metadata": {},
     "output_type": "display_data"
    },
    {
     "data": {
      "application/vnd.jupyter.widget-view+json": {
       "model_id": "",
       "version_major": 2,
       "version_minor": 0
      },
      "text/plain": [
       "  0%|          | 0/4001 [00:00<?, ?it/s]"
      ]
     },
     "metadata": {},
     "output_type": "display_data"
    },
    {
     "data": {
      "application/vnd.jupyter.widget-view+json": {
       "model_id": "",
       "version_major": 2,
       "version_minor": 0
      },
      "text/plain": [
       "  0%|          | 0/4001 [00:00<?, ?it/s]"
      ]
     },
     "metadata": {},
     "output_type": "display_data"
    },
    {
     "data": {
      "application/vnd.jupyter.widget-view+json": {
       "model_id": "",
       "version_major": 2,
       "version_minor": 0
      },
      "text/plain": [
       "  0%|          | 0/4001 [00:00<?, ?it/s]"
      ]
     },
     "metadata": {},
     "output_type": "display_data"
    },
    {
     "data": {
      "application/vnd.jupyter.widget-view+json": {
       "model_id": "",
       "version_major": 2,
       "version_minor": 0
      },
      "text/plain": [
       "  0%|          | 0/4001 [00:00<?, ?it/s]"
      ]
     },
     "metadata": {},
     "output_type": "display_data"
    },
    {
     "data": {
      "application/vnd.jupyter.widget-view+json": {
       "model_id": "",
       "version_major": 2,
       "version_minor": 0
      },
      "text/plain": [
       "  0%|          | 0/4001 [00:00<?, ?it/s]"
      ]
     },
     "metadata": {},
     "output_type": "display_data"
    },
    {
     "data": {
      "application/vnd.jupyter.widget-view+json": {
       "model_id": "",
       "version_major": 2,
       "version_minor": 0
      },
      "text/plain": [
       "  0%|          | 0/4001 [00:00<?, ?it/s]"
      ]
     },
     "metadata": {},
     "output_type": "display_data"
    },
    {
     "data": {
      "application/vnd.jupyter.widget-view+json": {
       "model_id": "",
       "version_major": 2,
       "version_minor": 0
      },
      "text/plain": [
       "  0%|          | 0/4001 [00:00<?, ?it/s]"
      ]
     },
     "metadata": {},
     "output_type": "display_data"
    },
    {
     "data": {
      "application/vnd.jupyter.widget-view+json": {
       "model_id": "",
       "version_major": 2,
       "version_minor": 0
      },
      "text/plain": [
       "  0%|          | 0/4001 [00:00<?, ?it/s]"
      ]
     },
     "metadata": {},
     "output_type": "display_data"
    },
    {
     "data": {
      "application/vnd.jupyter.widget-view+json": {
       "model_id": "",
       "version_major": 2,
       "version_minor": 0
      },
      "text/plain": [
       "  0%|          | 0/4001 [00:00<?, ?it/s]"
      ]
     },
     "metadata": {},
     "output_type": "display_data"
    },
    {
     "data": {
      "application/vnd.jupyter.widget-view+json": {
       "model_id": "",
       "version_major": 2,
       "version_minor": 0
      },
      "text/plain": [
       "  0%|          | 0/4001 [00:00<?, ?it/s]"
      ]
     },
     "metadata": {},
     "output_type": "display_data"
    },
    {
     "data": {
      "application/vnd.jupyter.widget-view+json": {
       "model_id": "",
       "version_major": 2,
       "version_minor": 0
      },
      "text/plain": [
       "  0%|          | 0/4001 [00:00<?, ?it/s]"
      ]
     },
     "metadata": {},
     "output_type": "display_data"
    },
    {
     "data": {
      "application/vnd.jupyter.widget-view+json": {
       "model_id": "",
       "version_major": 2,
       "version_minor": 0
      },
      "text/plain": [
       "  0%|          | 0/4001 [00:00<?, ?it/s]"
      ]
     },
     "metadata": {},
     "output_type": "display_data"
    },
    {
     "data": {
      "application/vnd.jupyter.widget-view+json": {
       "model_id": "",
       "version_major": 2,
       "version_minor": 0
      },
      "text/plain": [
       "  0%|          | 0/4001 [00:00<?, ?it/s]"
      ]
     },
     "metadata": {},
     "output_type": "display_data"
    },
    {
     "data": {
      "application/vnd.jupyter.widget-view+json": {
       "model_id": "",
       "version_major": 2,
       "version_minor": 0
      },
      "text/plain": [
       "  0%|          | 0/4001 [00:00<?, ?it/s]"
      ]
     },
     "metadata": {},
     "output_type": "display_data"
    },
    {
     "data": {
      "application/vnd.jupyter.widget-view+json": {
       "model_id": "",
       "version_major": 2,
       "version_minor": 0
      },
      "text/plain": [
       "  0%|          | 0/4001 [00:00<?, ?it/s]"
      ]
     },
     "metadata": {},
     "output_type": "display_data"
    },
    {
     "data": {
      "application/vnd.jupyter.widget-view+json": {
       "model_id": "",
       "version_major": 2,
       "version_minor": 0
      },
      "text/plain": [
       "  0%|          | 0/4001 [00:00<?, ?it/s]"
      ]
     },
     "metadata": {},
     "output_type": "display_data"
    },
    {
     "data": {
      "application/vnd.jupyter.widget-view+json": {
       "model_id": "",
       "version_major": 2,
       "version_minor": 0
      },
      "text/plain": [
       "  0%|          | 0/4001 [00:00<?, ?it/s]"
      ]
     },
     "metadata": {},
     "output_type": "display_data"
    },
    {
     "data": {
      "application/vnd.jupyter.widget-view+json": {
       "model_id": "",
       "version_major": 2,
       "version_minor": 0
      },
      "text/plain": [
       "  0%|          | 0/4001 [00:00<?, ?it/s]"
      ]
     },
     "metadata": {},
     "output_type": "display_data"
    },
    {
     "data": {
      "application/vnd.jupyter.widget-view+json": {
       "model_id": "",
       "version_major": 2,
       "version_minor": 0
      },
      "text/plain": [
       "  0%|          | 0/4001 [00:00<?, ?it/s]"
      ]
     },
     "metadata": {},
     "output_type": "display_data"
    },
    {
     "data": {
      "application/vnd.jupyter.widget-view+json": {
       "model_id": "",
       "version_major": 2,
       "version_minor": 0
      },
      "text/plain": [
       "  0%|          | 0/4001 [00:00<?, ?it/s]"
      ]
     },
     "metadata": {},
     "output_type": "display_data"
    },
    {
     "data": {
      "application/vnd.jupyter.widget-view+json": {
       "model_id": "",
       "version_major": 2,
       "version_minor": 0
      },
      "text/plain": [
       "  0%|          | 0/4001 [00:00<?, ?it/s]"
      ]
     },
     "metadata": {},
     "output_type": "display_data"
    },
    {
     "data": {
      "application/vnd.jupyter.widget-view+json": {
       "model_id": "",
       "version_major": 2,
       "version_minor": 0
      },
      "text/plain": [
       "  0%|          | 0/4001 [00:00<?, ?it/s]"
      ]
     },
     "metadata": {},
     "output_type": "display_data"
    },
    {
     "data": {
      "application/vnd.jupyter.widget-view+json": {
       "model_id": "",
       "version_major": 2,
       "version_minor": 0
      },
      "text/plain": [
       "  0%|          | 0/4001 [00:00<?, ?it/s]"
      ]
     },
     "metadata": {},
     "output_type": "display_data"
    },
    {
     "data": {
      "application/vnd.jupyter.widget-view+json": {
       "model_id": "",
       "version_major": 2,
       "version_minor": 0
      },
      "text/plain": [
       "  0%|          | 0/4001 [00:00<?, ?it/s]"
      ]
     },
     "metadata": {},
     "output_type": "display_data"
    },
    {
     "data": {
      "application/vnd.jupyter.widget-view+json": {
       "model_id": "",
       "version_major": 2,
       "version_minor": 0
      },
      "text/plain": [
       "  0%|          | 0/4001 [00:00<?, ?it/s]"
      ]
     },
     "metadata": {},
     "output_type": "display_data"
    },
    {
     "data": {
      "application/vnd.jupyter.widget-view+json": {
       "model_id": "",
       "version_major": 2,
       "version_minor": 0
      },
      "text/plain": [
       "  0%|          | 0/4001 [00:00<?, ?it/s]"
      ]
     },
     "metadata": {},
     "output_type": "display_data"
    },
    {
     "data": {
      "application/vnd.jupyter.widget-view+json": {
       "model_id": "",
       "version_major": 2,
       "version_minor": 0
      },
      "text/plain": [
       "  0%|          | 0/4001 [00:00<?, ?it/s]"
      ]
     },
     "metadata": {},
     "output_type": "display_data"
    },
    {
     "data": {
      "application/vnd.jupyter.widget-view+json": {
       "model_id": "",
       "version_major": 2,
       "version_minor": 0
      },
      "text/plain": [
       "  0%|          | 0/4001 [00:00<?, ?it/s]"
      ]
     },
     "metadata": {},
     "output_type": "display_data"
    },
    {
     "data": {
      "application/vnd.jupyter.widget-view+json": {
       "model_id": "",
       "version_major": 2,
       "version_minor": 0
      },
      "text/plain": [
       "  0%|          | 0/4001 [00:00<?, ?it/s]"
      ]
     },
     "metadata": {},
     "output_type": "display_data"
    },
    {
     "data": {
      "application/vnd.jupyter.widget-view+json": {
       "model_id": "",
       "version_major": 2,
       "version_minor": 0
      },
      "text/plain": [
       "  0%|          | 0/4001 [00:00<?, ?it/s]"
      ]
     },
     "metadata": {},
     "output_type": "display_data"
    },
    {
     "data": {
      "application/vnd.jupyter.widget-view+json": {
       "model_id": "",
       "version_major": 2,
       "version_minor": 0
      },
      "text/plain": [
       "  0%|          | 0/4001 [00:00<?, ?it/s]"
      ]
     },
     "metadata": {},
     "output_type": "display_data"
    },
    {
     "data": {
      "application/vnd.jupyter.widget-view+json": {
       "model_id": "",
       "version_major": 2,
       "version_minor": 0
      },
      "text/plain": [
       "  0%|          | 0/4001 [00:00<?, ?it/s]"
      ]
     },
     "metadata": {},
     "output_type": "display_data"
    },
    {
     "data": {
      "application/vnd.jupyter.widget-view+json": {
       "model_id": "",
       "version_major": 2,
       "version_minor": 0
      },
      "text/plain": [
       "  0%|          | 0/4001 [00:00<?, ?it/s]"
      ]
     },
     "metadata": {},
     "output_type": "display_data"
    },
    {
     "data": {
      "application/vnd.jupyter.widget-view+json": {
       "model_id": "",
       "version_major": 2,
       "version_minor": 0
      },
      "text/plain": [
       "  0%|          | 0/4001 [00:00<?, ?it/s]"
      ]
     },
     "metadata": {},
     "output_type": "display_data"
    },
    {
     "data": {
      "application/vnd.jupyter.widget-view+json": {
       "model_id": "",
       "version_major": 2,
       "version_minor": 0
      },
      "text/plain": [
       "  0%|          | 0/4001 [00:00<?, ?it/s]"
      ]
     },
     "metadata": {},
     "output_type": "display_data"
    },
    {
     "data": {
      "application/vnd.jupyter.widget-view+json": {
       "model_id": "",
       "version_major": 2,
       "version_minor": 0
      },
      "text/plain": [
       "  0%|          | 0/4001 [00:00<?, ?it/s]"
      ]
     },
     "metadata": {},
     "output_type": "display_data"
    },
    {
     "data": {
      "application/vnd.jupyter.widget-view+json": {
       "model_id": "",
       "version_major": 2,
       "version_minor": 0
      },
      "text/plain": [
       "  0%|          | 0/4001 [00:00<?, ?it/s]"
      ]
     },
     "metadata": {},
     "output_type": "display_data"
    },
    {
     "data": {
      "application/vnd.jupyter.widget-view+json": {
       "model_id": "",
       "version_major": 2,
       "version_minor": 0
      },
      "text/plain": [
       "  0%|          | 0/4001 [00:00<?, ?it/s]"
      ]
     },
     "metadata": {},
     "output_type": "display_data"
    },
    {
     "data": {
      "application/vnd.jupyter.widget-view+json": {
       "model_id": "",
       "version_major": 2,
       "version_minor": 0
      },
      "text/plain": [
       "  0%|          | 0/4001 [00:00<?, ?it/s]"
      ]
     },
     "metadata": {},
     "output_type": "display_data"
    },
    {
     "data": {
      "application/vnd.jupyter.widget-view+json": {
       "model_id": "",
       "version_major": 2,
       "version_minor": 0
      },
      "text/plain": [
       "  0%|          | 0/4001 [00:00<?, ?it/s]"
      ]
     },
     "metadata": {},
     "output_type": "display_data"
    },
    {
     "data": {
      "application/vnd.jupyter.widget-view+json": {
       "model_id": "",
       "version_major": 2,
       "version_minor": 0
      },
      "text/plain": [
       "  0%|          | 0/4001 [00:00<?, ?it/s]"
      ]
     },
     "metadata": {},
     "output_type": "display_data"
    },
    {
     "data": {
      "application/vnd.jupyter.widget-view+json": {
       "model_id": "",
       "version_major": 2,
       "version_minor": 0
      },
      "text/plain": [
       "  0%|          | 0/4001 [00:00<?, ?it/s]"
      ]
     },
     "metadata": {},
     "output_type": "display_data"
    },
    {
     "data": {
      "application/vnd.jupyter.widget-view+json": {
       "model_id": "",
       "version_major": 2,
       "version_minor": 0
      },
      "text/plain": [
       "  0%|          | 0/4001 [00:00<?, ?it/s]"
      ]
     },
     "metadata": {},
     "output_type": "display_data"
    },
    {
     "data": {
      "application/vnd.jupyter.widget-view+json": {
       "model_id": "",
       "version_major": 2,
       "version_minor": 0
      },
      "text/plain": [
       "  0%|          | 0/4001 [00:00<?, ?it/s]"
      ]
     },
     "metadata": {},
     "output_type": "display_data"
    },
    {
     "data": {
      "application/vnd.jupyter.widget-view+json": {
       "model_id": "",
       "version_major": 2,
       "version_minor": 0
      },
      "text/plain": [
       "  0%|          | 0/4001 [00:00<?, ?it/s]"
      ]
     },
     "metadata": {},
     "output_type": "display_data"
    },
    {
     "data": {
      "application/vnd.jupyter.widget-view+json": {
       "model_id": "",
       "version_major": 2,
       "version_minor": 0
      },
      "text/plain": [
       "  0%|          | 0/4001 [00:00<?, ?it/s]"
      ]
     },
     "metadata": {},
     "output_type": "display_data"
    },
    {
     "data": {
      "application/vnd.jupyter.widget-view+json": {
       "model_id": "",
       "version_major": 2,
       "version_minor": 0
      },
      "text/plain": [
       "  0%|          | 0/4001 [00:00<?, ?it/s]"
      ]
     },
     "metadata": {},
     "output_type": "display_data"
    },
    {
     "data": {
      "application/vnd.jupyter.widget-view+json": {
       "model_id": "",
       "version_major": 2,
       "version_minor": 0
      },
      "text/plain": [
       "  0%|          | 0/4001 [00:00<?, ?it/s]"
      ]
     },
     "metadata": {},
     "output_type": "display_data"
    },
    {
     "data": {
      "application/vnd.jupyter.widget-view+json": {
       "model_id": "",
       "version_major": 2,
       "version_minor": 0
      },
      "text/plain": [
       "  0%|          | 0/4001 [00:00<?, ?it/s]"
      ]
     },
     "metadata": {},
     "output_type": "display_data"
    },
    {
     "data": {
      "application/vnd.jupyter.widget-view+json": {
       "model_id": "",
       "version_major": 2,
       "version_minor": 0
      },
      "text/plain": [
       "  0%|          | 0/4001 [00:00<?, ?it/s]"
      ]
     },
     "metadata": {},
     "output_type": "display_data"
    },
    {
     "data": {
      "application/vnd.jupyter.widget-view+json": {
       "model_id": "",
       "version_major": 2,
       "version_minor": 0
      },
      "text/plain": [
       "  0%|          | 0/4001 [00:00<?, ?it/s]"
      ]
     },
     "metadata": {},
     "output_type": "display_data"
    },
    {
     "data": {
      "application/vnd.jupyter.widget-view+json": {
       "model_id": "",
       "version_major": 2,
       "version_minor": 0
      },
      "text/plain": [
       "  0%|          | 0/4001 [00:00<?, ?it/s]"
      ]
     },
     "metadata": {},
     "output_type": "display_data"
    },
    {
     "data": {
      "application/vnd.jupyter.widget-view+json": {
       "model_id": "",
       "version_major": 2,
       "version_minor": 0
      },
      "text/plain": [
       "  0%|          | 0/4001 [00:00<?, ?it/s]"
      ]
     },
     "metadata": {},
     "output_type": "display_data"
    },
    {
     "data": {
      "application/vnd.jupyter.widget-view+json": {
       "model_id": "",
       "version_major": 2,
       "version_minor": 0
      },
      "text/plain": [
       "  0%|          | 0/4001 [00:00<?, ?it/s]"
      ]
     },
     "metadata": {},
     "output_type": "display_data"
    },
    {
     "data": {
      "application/vnd.jupyter.widget-view+json": {
       "model_id": "",
       "version_major": 2,
       "version_minor": 0
      },
      "text/plain": [
       "  0%|          | 0/4001 [00:00<?, ?it/s]"
      ]
     },
     "metadata": {},
     "output_type": "display_data"
    },
    {
     "data": {
      "application/vnd.jupyter.widget-view+json": {
       "model_id": "",
       "version_major": 2,
       "version_minor": 0
      },
      "text/plain": [
       "  0%|          | 0/4001 [00:00<?, ?it/s]"
      ]
     },
     "metadata": {},
     "output_type": "display_data"
    },
    {
     "data": {
      "application/vnd.jupyter.widget-view+json": {
       "model_id": "",
       "version_major": 2,
       "version_minor": 0
      },
      "text/plain": [
       "  0%|          | 0/4001 [00:00<?, ?it/s]"
      ]
     },
     "metadata": {},
     "output_type": "display_data"
    },
    {
     "data": {
      "application/vnd.jupyter.widget-view+json": {
       "model_id": "",
       "version_major": 2,
       "version_minor": 0
      },
      "text/plain": [
       "  0%|          | 0/4001 [00:00<?, ?it/s]"
      ]
     },
     "metadata": {},
     "output_type": "display_data"
    },
    {
     "data": {
      "application/vnd.jupyter.widget-view+json": {
       "model_id": "",
       "version_major": 2,
       "version_minor": 0
      },
      "text/plain": [
       "  0%|          | 0/4001 [00:00<?, ?it/s]"
      ]
     },
     "metadata": {},
     "output_type": "display_data"
    },
    {
     "data": {
      "application/vnd.jupyter.widget-view+json": {
       "model_id": "",
       "version_major": 2,
       "version_minor": 0
      },
      "text/plain": [
       "  0%|          | 0/4001 [00:00<?, ?it/s]"
      ]
     },
     "metadata": {},
     "output_type": "display_data"
    },
    {
     "data": {
      "application/vnd.jupyter.widget-view+json": {
       "model_id": "",
       "version_major": 2,
       "version_minor": 0
      },
      "text/plain": [
       "  0%|          | 0/4001 [00:00<?, ?it/s]"
      ]
     },
     "metadata": {},
     "output_type": "display_data"
    },
    {
     "data": {
      "application/vnd.jupyter.widget-view+json": {
       "model_id": "",
       "version_major": 2,
       "version_minor": 0
      },
      "text/plain": [
       "  0%|          | 0/4001 [00:00<?, ?it/s]"
      ]
     },
     "metadata": {},
     "output_type": "display_data"
    },
    {
     "data": {
      "application/vnd.jupyter.widget-view+json": {
       "model_id": "",
       "version_major": 2,
       "version_minor": 0
      },
      "text/plain": [
       "  0%|          | 0/4001 [00:00<?, ?it/s]"
      ]
     },
     "metadata": {},
     "output_type": "display_data"
    },
    {
     "data": {
      "application/vnd.jupyter.widget-view+json": {
       "model_id": "",
       "version_major": 2,
       "version_minor": 0
      },
      "text/plain": [
       "  0%|          | 0/4001 [00:00<?, ?it/s]"
      ]
     },
     "metadata": {},
     "output_type": "display_data"
    },
    {
     "data": {
      "application/vnd.jupyter.widget-view+json": {
       "model_id": "",
       "version_major": 2,
       "version_minor": 0
      },
      "text/plain": [
       "  0%|          | 0/4001 [00:00<?, ?it/s]"
      ]
     },
     "metadata": {},
     "output_type": "display_data"
    },
    {
     "data": {
      "application/vnd.jupyter.widget-view+json": {
       "model_id": "",
       "version_major": 2,
       "version_minor": 0
      },
      "text/plain": [
       "  0%|          | 0/4001 [00:00<?, ?it/s]"
      ]
     },
     "metadata": {},
     "output_type": "display_data"
    },
    {
     "data": {
      "application/vnd.jupyter.widget-view+json": {
       "model_id": "",
       "version_major": 2,
       "version_minor": 0
      },
      "text/plain": [
       "  0%|          | 0/4001 [00:00<?, ?it/s]"
      ]
     },
     "metadata": {},
     "output_type": "display_data"
    },
    {
     "data": {
      "application/vnd.jupyter.widget-view+json": {
       "model_id": "",
       "version_major": 2,
       "version_minor": 0
      },
      "text/plain": [
       "  0%|          | 0/4001 [00:00<?, ?it/s]"
      ]
     },
     "metadata": {},
     "output_type": "display_data"
    },
    {
     "data": {
      "application/vnd.jupyter.widget-view+json": {
       "model_id": "",
       "version_major": 2,
       "version_minor": 0
      },
      "text/plain": [
       "  0%|          | 0/4001 [00:00<?, ?it/s]"
      ]
     },
     "metadata": {},
     "output_type": "display_data"
    },
    {
     "data": {
      "application/vnd.jupyter.widget-view+json": {
       "model_id": "",
       "version_major": 2,
       "version_minor": 0
      },
      "text/plain": [
       "  0%|          | 0/4001 [00:00<?, ?it/s]"
      ]
     },
     "metadata": {},
     "output_type": "display_data"
    },
    {
     "data": {
      "application/vnd.jupyter.widget-view+json": {
       "model_id": "",
       "version_major": 2,
       "version_minor": 0
      },
      "text/plain": [
       "  0%|          | 0/4001 [00:00<?, ?it/s]"
      ]
     },
     "metadata": {},
     "output_type": "display_data"
    },
    {
     "data": {
      "application/vnd.jupyter.widget-view+json": {
       "model_id": "",
       "version_major": 2,
       "version_minor": 0
      },
      "text/plain": [
       "  0%|          | 0/4001 [00:00<?, ?it/s]"
      ]
     },
     "metadata": {},
     "output_type": "display_data"
    },
    {
     "data": {
      "application/vnd.jupyter.widget-view+json": {
       "model_id": "",
       "version_major": 2,
       "version_minor": 0
      },
      "text/plain": [
       "  0%|          | 0/4001 [00:00<?, ?it/s]"
      ]
     },
     "metadata": {},
     "output_type": "display_data"
    },
    {
     "data": {
      "application/vnd.jupyter.widget-view+json": {
       "model_id": "",
       "version_major": 2,
       "version_minor": 0
      },
      "text/plain": [
       "  0%|          | 0/4001 [00:00<?, ?it/s]"
      ]
     },
     "metadata": {},
     "output_type": "display_data"
    },
    {
     "data": {
      "application/vnd.jupyter.widget-view+json": {
       "model_id": "",
       "version_major": 2,
       "version_minor": 0
      },
      "text/plain": [
       "  0%|          | 0/4001 [00:00<?, ?it/s]"
      ]
     },
     "metadata": {},
     "output_type": "display_data"
    },
    {
     "data": {
      "application/vnd.jupyter.widget-view+json": {
       "model_id": "",
       "version_major": 2,
       "version_minor": 0
      },
      "text/plain": [
       "  0%|          | 0/4001 [00:00<?, ?it/s]"
      ]
     },
     "metadata": {},
     "output_type": "display_data"
    },
    {
     "data": {
      "application/vnd.jupyter.widget-view+json": {
       "model_id": "",
       "version_major": 2,
       "version_minor": 0
      },
      "text/plain": [
       "  0%|          | 0/4001 [00:00<?, ?it/s]"
      ]
     },
     "metadata": {},
     "output_type": "display_data"
    },
    {
     "data": {
      "application/vnd.jupyter.widget-view+json": {
       "model_id": "",
       "version_major": 2,
       "version_minor": 0
      },
      "text/plain": [
       "  0%|          | 0/4001 [00:00<?, ?it/s]"
      ]
     },
     "metadata": {},
     "output_type": "display_data"
    },
    {
     "data": {
      "application/vnd.jupyter.widget-view+json": {
       "model_id": "",
       "version_major": 2,
       "version_minor": 0
      },
      "text/plain": [
       "  0%|          | 0/4001 [00:00<?, ?it/s]"
      ]
     },
     "metadata": {},
     "output_type": "display_data"
    },
    {
     "data": {
      "application/vnd.jupyter.widget-view+json": {
       "model_id": "",
       "version_major": 2,
       "version_minor": 0
      },
      "text/plain": [
       "  0%|          | 0/4001 [00:00<?, ?it/s]"
      ]
     },
     "metadata": {},
     "output_type": "display_data"
    },
    {
     "data": {
      "application/vnd.jupyter.widget-view+json": {
       "model_id": "",
       "version_major": 2,
       "version_minor": 0
      },
      "text/plain": [
       "  0%|          | 0/4001 [00:00<?, ?it/s]"
      ]
     },
     "metadata": {},
     "output_type": "display_data"
    },
    {
     "data": {
      "application/vnd.jupyter.widget-view+json": {
       "model_id": "",
       "version_major": 2,
       "version_minor": 0
      },
      "text/plain": [
       "  0%|          | 0/4001 [00:00<?, ?it/s]"
      ]
     },
     "metadata": {},
     "output_type": "display_data"
    },
    {
     "data": {
      "application/vnd.jupyter.widget-view+json": {
       "model_id": "",
       "version_major": 2,
       "version_minor": 0
      },
      "text/plain": [
       "  0%|          | 0/4001 [00:00<?, ?it/s]"
      ]
     },
     "metadata": {},
     "output_type": "display_data"
    },
    {
     "data": {
      "application/vnd.jupyter.widget-view+json": {
       "model_id": "",
       "version_major": 2,
       "version_minor": 0
      },
      "text/plain": [
       "  0%|          | 0/4001 [00:00<?, ?it/s]"
      ]
     },
     "metadata": {},
     "output_type": "display_data"
    },
    {
     "data": {
      "application/vnd.jupyter.widget-view+json": {
       "model_id": "",
       "version_major": 2,
       "version_minor": 0
      },
      "text/plain": [
       "  0%|          | 0/4001 [00:00<?, ?it/s]"
      ]
     },
     "metadata": {},
     "output_type": "display_data"
    },
    {
     "data": {
      "application/vnd.jupyter.widget-view+json": {
       "model_id": "",
       "version_major": 2,
       "version_minor": 0
      },
      "text/plain": [
       "  0%|          | 0/4001 [00:00<?, ?it/s]"
      ]
     },
     "metadata": {},
     "output_type": "display_data"
    },
    {
     "data": {
      "application/vnd.jupyter.widget-view+json": {
       "model_id": "",
       "version_major": 2,
       "version_minor": 0
      },
      "text/plain": [
       "  0%|          | 0/4001 [00:00<?, ?it/s]"
      ]
     },
     "metadata": {},
     "output_type": "display_data"
    },
    {
     "data": {
      "application/vnd.jupyter.widget-view+json": {
       "model_id": "",
       "version_major": 2,
       "version_minor": 0
      },
      "text/plain": [
       "  0%|          | 0/4001 [00:00<?, ?it/s]"
      ]
     },
     "metadata": {},
     "output_type": "display_data"
    },
    {
     "data": {
      "application/vnd.jupyter.widget-view+json": {
       "model_id": "",
       "version_major": 2,
       "version_minor": 0
      },
      "text/plain": [
       "  0%|          | 0/4001 [00:00<?, ?it/s]"
      ]
     },
     "metadata": {},
     "output_type": "display_data"
    },
    {
     "data": {
      "application/vnd.jupyter.widget-view+json": {
       "model_id": "",
       "version_major": 2,
       "version_minor": 0
      },
      "text/plain": [
       "  0%|          | 0/4001 [00:00<?, ?it/s]"
      ]
     },
     "metadata": {},
     "output_type": "display_data"
    },
    {
     "data": {
      "application/vnd.jupyter.widget-view+json": {
       "model_id": "",
       "version_major": 2,
       "version_minor": 0
      },
      "text/plain": [
       "  0%|          | 0/4001 [00:00<?, ?it/s]"
      ]
     },
     "metadata": {},
     "output_type": "display_data"
    },
    {
     "data": {
      "application/vnd.jupyter.widget-view+json": {
       "model_id": "",
       "version_major": 2,
       "version_minor": 0
      },
      "text/plain": [
       "  0%|          | 0/4001 [00:00<?, ?it/s]"
      ]
     },
     "metadata": {},
     "output_type": "display_data"
    },
    {
     "data": {
      "application/vnd.jupyter.widget-view+json": {
       "model_id": "",
       "version_major": 2,
       "version_minor": 0
      },
      "text/plain": [
       "  0%|          | 0/4001 [00:00<?, ?it/s]"
      ]
     },
     "metadata": {},
     "output_type": "display_data"
    },
    {
     "data": {
      "application/vnd.jupyter.widget-view+json": {
       "model_id": "",
       "version_major": 2,
       "version_minor": 0
      },
      "text/plain": [
       "  0%|          | 0/4001 [00:00<?, ?it/s]"
      ]
     },
     "metadata": {},
     "output_type": "display_data"
    },
    {
     "data": {
      "application/vnd.jupyter.widget-view+json": {
       "model_id": "",
       "version_major": 2,
       "version_minor": 0
      },
      "text/plain": [
       "  0%|          | 0/4001 [00:00<?, ?it/s]"
      ]
     },
     "metadata": {},
     "output_type": "display_data"
    },
    {
     "data": {
      "application/vnd.jupyter.widget-view+json": {
       "model_id": "",
       "version_major": 2,
       "version_minor": 0
      },
      "text/plain": [
       "  0%|          | 0/4001 [00:00<?, ?it/s]"
      ]
     },
     "metadata": {},
     "output_type": "display_data"
    },
    {
     "data": {
      "application/vnd.jupyter.widget-view+json": {
       "model_id": "",
       "version_major": 2,
       "version_minor": 0
      },
      "text/plain": [
       "  0%|          | 0/4001 [00:00<?, ?it/s]"
      ]
     },
     "metadata": {},
     "output_type": "display_data"
    },
    {
     "data": {
      "application/vnd.jupyter.widget-view+json": {
       "model_id": "",
       "version_major": 2,
       "version_minor": 0
      },
      "text/plain": [
       "  0%|          | 0/4001 [00:00<?, ?it/s]"
      ]
     },
     "metadata": {},
     "output_type": "display_data"
    },
    {
     "data": {
      "application/vnd.jupyter.widget-view+json": {
       "model_id": "",
       "version_major": 2,
       "version_minor": 0
      },
      "text/plain": [
       "  0%|          | 0/4001 [00:00<?, ?it/s]"
      ]
     },
     "metadata": {},
     "output_type": "display_data"
    },
    {
     "data": {
      "application/vnd.jupyter.widget-view+json": {
       "model_id": "",
       "version_major": 2,
       "version_minor": 0
      },
      "text/plain": [
       "  0%|          | 0/4001 [00:00<?, ?it/s]"
      ]
     },
     "metadata": {},
     "output_type": "display_data"
    },
    {
     "data": {
      "application/vnd.jupyter.widget-view+json": {
       "model_id": "",
       "version_major": 2,
       "version_minor": 0
      },
      "text/plain": [
       "  0%|          | 0/4001 [00:00<?, ?it/s]"
      ]
     },
     "metadata": {},
     "output_type": "display_data"
    },
    {
     "data": {
      "application/vnd.jupyter.widget-view+json": {
       "model_id": "",
       "version_major": 2,
       "version_minor": 0
      },
      "text/plain": [
       "  0%|          | 0/4001 [00:00<?, ?it/s]"
      ]
     },
     "metadata": {},
     "output_type": "display_data"
    },
    {
     "data": {
      "application/vnd.jupyter.widget-view+json": {
       "model_id": "",
       "version_major": 2,
       "version_minor": 0
      },
      "text/plain": [
       "  0%|          | 0/4001 [00:00<?, ?it/s]"
      ]
     },
     "metadata": {},
     "output_type": "display_data"
    },
    {
     "data": {
      "application/vnd.jupyter.widget-view+json": {
       "model_id": "",
       "version_major": 2,
       "version_minor": 0
      },
      "text/plain": [
       "  0%|          | 0/4001 [00:00<?, ?it/s]"
      ]
     },
     "metadata": {},
     "output_type": "display_data"
    },
    {
     "data": {
      "application/vnd.jupyter.widget-view+json": {
       "model_id": "",
       "version_major": 2,
       "version_minor": 0
      },
      "text/plain": [
       "  0%|          | 0/4001 [00:00<?, ?it/s]"
      ]
     },
     "metadata": {},
     "output_type": "display_data"
    },
    {
     "data": {
      "application/vnd.jupyter.widget-view+json": {
       "model_id": "",
       "version_major": 2,
       "version_minor": 0
      },
      "text/plain": [
       "  0%|          | 0/4001 [00:00<?, ?it/s]"
      ]
     },
     "metadata": {},
     "output_type": "display_data"
    },
    {
     "data": {
      "application/vnd.jupyter.widget-view+json": {
       "model_id": "",
       "version_major": 2,
       "version_minor": 0
      },
      "text/plain": [
       "  0%|          | 0/4001 [00:00<?, ?it/s]"
      ]
     },
     "metadata": {},
     "output_type": "display_data"
    },
    {
     "data": {
      "application/vnd.jupyter.widget-view+json": {
       "model_id": "",
       "version_major": 2,
       "version_minor": 0
      },
      "text/plain": [
       "  0%|          | 0/4001 [00:00<?, ?it/s]"
      ]
     },
     "metadata": {},
     "output_type": "display_data"
    },
    {
     "data": {
      "application/vnd.jupyter.widget-view+json": {
       "model_id": "",
       "version_major": 2,
       "version_minor": 0
      },
      "text/plain": [
       "  0%|          | 0/4001 [00:00<?, ?it/s]"
      ]
     },
     "metadata": {},
     "output_type": "display_data"
    },
    {
     "data": {
      "application/vnd.jupyter.widget-view+json": {
       "model_id": "",
       "version_major": 2,
       "version_minor": 0
      },
      "text/plain": [
       "  0%|          | 0/4001 [00:00<?, ?it/s]"
      ]
     },
     "metadata": {},
     "output_type": "display_data"
    },
    {
     "data": {
      "application/vnd.jupyter.widget-view+json": {
       "model_id": "",
       "version_major": 2,
       "version_minor": 0
      },
      "text/plain": [
       "  0%|          | 0/4001 [00:00<?, ?it/s]"
      ]
     },
     "metadata": {},
     "output_type": "display_data"
    },
    {
     "data": {
      "application/vnd.jupyter.widget-view+json": {
       "model_id": "",
       "version_major": 2,
       "version_minor": 0
      },
      "text/plain": [
       "  0%|          | 0/4001 [00:00<?, ?it/s]"
      ]
     },
     "metadata": {},
     "output_type": "display_data"
    },
    {
     "data": {
      "application/vnd.jupyter.widget-view+json": {
       "model_id": "",
       "version_major": 2,
       "version_minor": 0
      },
      "text/plain": [
       "  0%|          | 0/4001 [00:00<?, ?it/s]"
      ]
     },
     "metadata": {},
     "output_type": "display_data"
    },
    {
     "data": {
      "application/vnd.jupyter.widget-view+json": {
       "model_id": "",
       "version_major": 2,
       "version_minor": 0
      },
      "text/plain": [
       "  0%|          | 0/4001 [00:00<?, ?it/s]"
      ]
     },
     "metadata": {},
     "output_type": "display_data"
    },
    {
     "data": {
      "application/vnd.jupyter.widget-view+json": {
       "model_id": "",
       "version_major": 2,
       "version_minor": 0
      },
      "text/plain": [
       "  0%|          | 0/4001 [00:00<?, ?it/s]"
      ]
     },
     "metadata": {},
     "output_type": "display_data"
    },
    {
     "data": {
      "application/vnd.jupyter.widget-view+json": {
       "model_id": "",
       "version_major": 2,
       "version_minor": 0
      },
      "text/plain": [
       "  0%|          | 0/4001 [00:00<?, ?it/s]"
      ]
     },
     "metadata": {},
     "output_type": "display_data"
    },
    {
     "data": {
      "application/vnd.jupyter.widget-view+json": {
       "model_id": "",
       "version_major": 2,
       "version_minor": 0
      },
      "text/plain": [
       "  0%|          | 0/4001 [00:00<?, ?it/s]"
      ]
     },
     "metadata": {},
     "output_type": "display_data"
    },
    {
     "data": {
      "application/vnd.jupyter.widget-view+json": {
       "model_id": "",
       "version_major": 2,
       "version_minor": 0
      },
      "text/plain": [
       "  0%|          | 0/4001 [00:00<?, ?it/s]"
      ]
     },
     "metadata": {},
     "output_type": "display_data"
    },
    {
     "data": {
      "application/vnd.jupyter.widget-view+json": {
       "model_id": "",
       "version_major": 2,
       "version_minor": 0
      },
      "text/plain": [
       "  0%|          | 0/4001 [00:00<?, ?it/s]"
      ]
     },
     "metadata": {},
     "output_type": "display_data"
    },
    {
     "data": {
      "application/vnd.jupyter.widget-view+json": {
       "model_id": "",
       "version_major": 2,
       "version_minor": 0
      },
      "text/plain": [
       "  0%|          | 0/4001 [00:00<?, ?it/s]"
      ]
     },
     "metadata": {},
     "output_type": "display_data"
    },
    {
     "data": {
      "application/vnd.jupyter.widget-view+json": {
       "model_id": "",
       "version_major": 2,
       "version_minor": 0
      },
      "text/plain": [
       "  0%|          | 0/4001 [00:00<?, ?it/s]"
      ]
     },
     "metadata": {},
     "output_type": "display_data"
    },
    {
     "data": {
      "application/vnd.jupyter.widget-view+json": {
       "model_id": "",
       "version_major": 2,
       "version_minor": 0
      },
      "text/plain": [
       "  0%|          | 0/4001 [00:00<?, ?it/s]"
      ]
     },
     "metadata": {},
     "output_type": "display_data"
    },
    {
     "data": {
      "application/vnd.jupyter.widget-view+json": {
       "model_id": "",
       "version_major": 2,
       "version_minor": 0
      },
      "text/plain": [
       "  0%|          | 0/4001 [00:00<?, ?it/s]"
      ]
     },
     "metadata": {},
     "output_type": "display_data"
    },
    {
     "data": {
      "application/vnd.jupyter.widget-view+json": {
       "model_id": "",
       "version_major": 2,
       "version_minor": 0
      },
      "text/plain": [
       "  0%|          | 0/4001 [00:00<?, ?it/s]"
      ]
     },
     "metadata": {},
     "output_type": "display_data"
    },
    {
     "data": {
      "application/vnd.jupyter.widget-view+json": {
       "model_id": "",
       "version_major": 2,
       "version_minor": 0
      },
      "text/plain": [
       "  0%|          | 0/4001 [00:00<?, ?it/s]"
      ]
     },
     "metadata": {},
     "output_type": "display_data"
    },
    {
     "data": {
      "application/vnd.jupyter.widget-view+json": {
       "model_id": "",
       "version_major": 2,
       "version_minor": 0
      },
      "text/plain": [
       "  0%|          | 0/4001 [00:00<?, ?it/s]"
      ]
     },
     "metadata": {},
     "output_type": "display_data"
    },
    {
     "data": {
      "application/vnd.jupyter.widget-view+json": {
       "model_id": "",
       "version_major": 2,
       "version_minor": 0
      },
      "text/plain": [
       "  0%|          | 0/4001 [00:00<?, ?it/s]"
      ]
     },
     "metadata": {},
     "output_type": "display_data"
    },
    {
     "data": {
      "application/vnd.jupyter.widget-view+json": {
       "model_id": "",
       "version_major": 2,
       "version_minor": 0
      },
      "text/plain": [
       "  0%|          | 0/4001 [00:00<?, ?it/s]"
      ]
     },
     "metadata": {},
     "output_type": "display_data"
    },
    {
     "data": {
      "application/vnd.jupyter.widget-view+json": {
       "model_id": "",
       "version_major": 2,
       "version_minor": 0
      },
      "text/plain": [
       "  0%|          | 0/4001 [00:00<?, ?it/s]"
      ]
     },
     "metadata": {},
     "output_type": "display_data"
    },
    {
     "data": {
      "application/vnd.jupyter.widget-view+json": {
       "model_id": "",
       "version_major": 2,
       "version_minor": 0
      },
      "text/plain": [
       "  0%|          | 0/4001 [00:00<?, ?it/s]"
      ]
     },
     "metadata": {},
     "output_type": "display_data"
    },
    {
     "data": {
      "application/vnd.jupyter.widget-view+json": {
       "model_id": "",
       "version_major": 2,
       "version_minor": 0
      },
      "text/plain": [
       "  0%|          | 0/4001 [00:00<?, ?it/s]"
      ]
     },
     "metadata": {},
     "output_type": "display_data"
    },
    {
     "data": {
      "application/vnd.jupyter.widget-view+json": {
       "model_id": "",
       "version_major": 2,
       "version_minor": 0
      },
      "text/plain": [
       "  0%|          | 0/4001 [00:00<?, ?it/s]"
      ]
     },
     "metadata": {},
     "output_type": "display_data"
    },
    {
     "data": {
      "application/vnd.jupyter.widget-view+json": {
       "model_id": "",
       "version_major": 2,
       "version_minor": 0
      },
      "text/plain": [
       "  0%|          | 0/4001 [00:00<?, ?it/s]"
      ]
     },
     "metadata": {},
     "output_type": "display_data"
    },
    {
     "data": {
      "application/vnd.jupyter.widget-view+json": {
       "model_id": "",
       "version_major": 2,
       "version_minor": 0
      },
      "text/plain": [
       "  0%|          | 0/4001 [00:00<?, ?it/s]"
      ]
     },
     "metadata": {},
     "output_type": "display_data"
    },
    {
     "data": {
      "application/vnd.jupyter.widget-view+json": {
       "model_id": "",
       "version_major": 2,
       "version_minor": 0
      },
      "text/plain": [
       "  0%|          | 0/4001 [00:00<?, ?it/s]"
      ]
     },
     "metadata": {},
     "output_type": "display_data"
    },
    {
     "data": {
      "application/vnd.jupyter.widget-view+json": {
       "model_id": "",
       "version_major": 2,
       "version_minor": 0
      },
      "text/plain": [
       "  0%|          | 0/4001 [00:00<?, ?it/s]"
      ]
     },
     "metadata": {},
     "output_type": "display_data"
    },
    {
     "data": {
      "application/vnd.jupyter.widget-view+json": {
       "model_id": "",
       "version_major": 2,
       "version_minor": 0
      },
      "text/plain": [
       "  0%|          | 0/4001 [00:00<?, ?it/s]"
      ]
     },
     "metadata": {},
     "output_type": "display_data"
    },
    {
     "data": {
      "application/vnd.jupyter.widget-view+json": {
       "model_id": "",
       "version_major": 2,
       "version_minor": 0
      },
      "text/plain": [
       "  0%|          | 0/4001 [00:00<?, ?it/s]"
      ]
     },
     "metadata": {},
     "output_type": "display_data"
    },
    {
     "data": {
      "application/vnd.jupyter.widget-view+json": {
       "model_id": "",
       "version_major": 2,
       "version_minor": 0
      },
      "text/plain": [
       "  0%|          | 0/4001 [00:00<?, ?it/s]"
      ]
     },
     "metadata": {},
     "output_type": "display_data"
    },
    {
     "data": {
      "application/vnd.jupyter.widget-view+json": {
       "model_id": "",
       "version_major": 2,
       "version_minor": 0
      },
      "text/plain": [
       "  0%|          | 0/4001 [00:00<?, ?it/s]"
      ]
     },
     "metadata": {},
     "output_type": "display_data"
    },
    {
     "data": {
      "application/vnd.jupyter.widget-view+json": {
       "model_id": "",
       "version_major": 2,
       "version_minor": 0
      },
      "text/plain": [
       "  0%|          | 0/4001 [00:00<?, ?it/s]"
      ]
     },
     "metadata": {},
     "output_type": "display_data"
    },
    {
     "data": {
      "application/vnd.jupyter.widget-view+json": {
       "model_id": "",
       "version_major": 2,
       "version_minor": 0
      },
      "text/plain": [
       "  0%|          | 0/4001 [00:00<?, ?it/s]"
      ]
     },
     "metadata": {},
     "output_type": "display_data"
    },
    {
     "data": {
      "application/vnd.jupyter.widget-view+json": {
       "model_id": "",
       "version_major": 2,
       "version_minor": 0
      },
      "text/plain": [
       "  0%|          | 0/4001 [00:00<?, ?it/s]"
      ]
     },
     "metadata": {},
     "output_type": "display_data"
    },
    {
     "data": {
      "application/vnd.jupyter.widget-view+json": {
       "model_id": "",
       "version_major": 2,
       "version_minor": 0
      },
      "text/plain": [
       "  0%|          | 0/4001 [00:00<?, ?it/s]"
      ]
     },
     "metadata": {},
     "output_type": "display_data"
    },
    {
     "data": {
      "application/vnd.jupyter.widget-view+json": {
       "model_id": "",
       "version_major": 2,
       "version_minor": 0
      },
      "text/plain": [
       "  0%|          | 0/4001 [00:00<?, ?it/s]"
      ]
     },
     "metadata": {},
     "output_type": "display_data"
    },
    {
     "data": {
      "application/vnd.jupyter.widget-view+json": {
       "model_id": "",
       "version_major": 2,
       "version_minor": 0
      },
      "text/plain": [
       "  0%|          | 0/4001 [00:00<?, ?it/s]"
      ]
     },
     "metadata": {},
     "output_type": "display_data"
    },
    {
     "data": {
      "application/vnd.jupyter.widget-view+json": {
       "model_id": "",
       "version_major": 2,
       "version_minor": 0
      },
      "text/plain": [
       "  0%|          | 0/4001 [00:00<?, ?it/s]"
      ]
     },
     "metadata": {},
     "output_type": "display_data"
    },
    {
     "data": {
      "application/vnd.jupyter.widget-view+json": {
       "model_id": "",
       "version_major": 2,
       "version_minor": 0
      },
      "text/plain": [
       "  0%|          | 0/4001 [00:00<?, ?it/s]"
      ]
     },
     "metadata": {},
     "output_type": "display_data"
    },
    {
     "data": {
      "application/vnd.jupyter.widget-view+json": {
       "model_id": "",
       "version_major": 2,
       "version_minor": 0
      },
      "text/plain": [
       "  0%|          | 0/4001 [00:00<?, ?it/s]"
      ]
     },
     "metadata": {},
     "output_type": "display_data"
    },
    {
     "data": {
      "application/vnd.jupyter.widget-view+json": {
       "model_id": "",
       "version_major": 2,
       "version_minor": 0
      },
      "text/plain": [
       "  0%|          | 0/4001 [00:00<?, ?it/s]"
      ]
     },
     "metadata": {},
     "output_type": "display_data"
    },
    {
     "data": {
      "application/vnd.jupyter.widget-view+json": {
       "model_id": "",
       "version_major": 2,
       "version_minor": 0
      },
      "text/plain": [
       "  0%|          | 0/4001 [00:00<?, ?it/s]"
      ]
     },
     "metadata": {},
     "output_type": "display_data"
    },
    {
     "data": {
      "application/vnd.jupyter.widget-view+json": {
       "model_id": "",
       "version_major": 2,
       "version_minor": 0
      },
      "text/plain": [
       "  0%|          | 0/4001 [00:00<?, ?it/s]"
      ]
     },
     "metadata": {},
     "output_type": "display_data"
    },
    {
     "data": {
      "application/vnd.jupyter.widget-view+json": {
       "model_id": "",
       "version_major": 2,
       "version_minor": 0
      },
      "text/plain": [
       "  0%|          | 0/4001 [00:00<?, ?it/s]"
      ]
     },
     "metadata": {},
     "output_type": "display_data"
    },
    {
     "data": {
      "application/vnd.jupyter.widget-view+json": {
       "model_id": "",
       "version_major": 2,
       "version_minor": 0
      },
      "text/plain": [
       "  0%|          | 0/4001 [00:00<?, ?it/s]"
      ]
     },
     "metadata": {},
     "output_type": "display_data"
    },
    {
     "data": {
      "application/vnd.jupyter.widget-view+json": {
       "model_id": "",
       "version_major": 2,
       "version_minor": 0
      },
      "text/plain": [
       "  0%|          | 0/4001 [00:00<?, ?it/s]"
      ]
     },
     "metadata": {},
     "output_type": "display_data"
    },
    {
     "data": {
      "application/vnd.jupyter.widget-view+json": {
       "model_id": "",
       "version_major": 2,
       "version_minor": 0
      },
      "text/plain": [
       "  0%|          | 0/4001 [00:00<?, ?it/s]"
      ]
     },
     "metadata": {},
     "output_type": "display_data"
    },
    {
     "data": {
      "application/vnd.jupyter.widget-view+json": {
       "model_id": "",
       "version_major": 2,
       "version_minor": 0
      },
      "text/plain": [
       "  0%|          | 0/4001 [00:00<?, ?it/s]"
      ]
     },
     "metadata": {},
     "output_type": "display_data"
    },
    {
     "data": {
      "application/vnd.jupyter.widget-view+json": {
       "model_id": "",
       "version_major": 2,
       "version_minor": 0
      },
      "text/plain": [
       "  0%|          | 0/4001 [00:00<?, ?it/s]"
      ]
     },
     "metadata": {},
     "output_type": "display_data"
    },
    {
     "data": {
      "application/vnd.jupyter.widget-view+json": {
       "model_id": "",
       "version_major": 2,
       "version_minor": 0
      },
      "text/plain": [
       "  0%|          | 0/4001 [00:00<?, ?it/s]"
      ]
     },
     "metadata": {},
     "output_type": "display_data"
    },
    {
     "data": {
      "application/vnd.jupyter.widget-view+json": {
       "model_id": "",
       "version_major": 2,
       "version_minor": 0
      },
      "text/plain": [
       "  0%|          | 0/4001 [00:00<?, ?it/s]"
      ]
     },
     "metadata": {},
     "output_type": "display_data"
    },
    {
     "data": {
      "application/vnd.jupyter.widget-view+json": {
       "model_id": "",
       "version_major": 2,
       "version_minor": 0
      },
      "text/plain": [
       "  0%|          | 0/4001 [00:00<?, ?it/s]"
      ]
     },
     "metadata": {},
     "output_type": "display_data"
    },
    {
     "data": {
      "application/vnd.jupyter.widget-view+json": {
       "model_id": "",
       "version_major": 2,
       "version_minor": 0
      },
      "text/plain": [
       "  0%|          | 0/4001 [00:00<?, ?it/s]"
      ]
     },
     "metadata": {},
     "output_type": "display_data"
    },
    {
     "data": {
      "application/vnd.jupyter.widget-view+json": {
       "model_id": "",
       "version_major": 2,
       "version_minor": 0
      },
      "text/plain": [
       "  0%|          | 0/4001 [00:00<?, ?it/s]"
      ]
     },
     "metadata": {},
     "output_type": "display_data"
    },
    {
     "data": {
      "application/vnd.jupyter.widget-view+json": {
       "model_id": "",
       "version_major": 2,
       "version_minor": 0
      },
      "text/plain": [
       "  0%|          | 0/4001 [00:00<?, ?it/s]"
      ]
     },
     "metadata": {},
     "output_type": "display_data"
    },
    {
     "data": {
      "application/vnd.jupyter.widget-view+json": {
       "model_id": "",
       "version_major": 2,
       "version_minor": 0
      },
      "text/plain": [
       "  0%|          | 0/4001 [00:00<?, ?it/s]"
      ]
     },
     "metadata": {},
     "output_type": "display_data"
    },
    {
     "data": {
      "application/vnd.jupyter.widget-view+json": {
       "model_id": "",
       "version_major": 2,
       "version_minor": 0
      },
      "text/plain": [
       "  0%|          | 0/4001 [00:00<?, ?it/s]"
      ]
     },
     "metadata": {},
     "output_type": "display_data"
    },
    {
     "data": {
      "application/vnd.jupyter.widget-view+json": {
       "model_id": "",
       "version_major": 2,
       "version_minor": 0
      },
      "text/plain": [
       "  0%|          | 0/4001 [00:00<?, ?it/s]"
      ]
     },
     "metadata": {},
     "output_type": "display_data"
    },
    {
     "data": {
      "application/vnd.jupyter.widget-view+json": {
       "model_id": "",
       "version_major": 2,
       "version_minor": 0
      },
      "text/plain": [
       "  0%|          | 0/4001 [00:00<?, ?it/s]"
      ]
     },
     "metadata": {},
     "output_type": "display_data"
    },
    {
     "data": {
      "application/vnd.jupyter.widget-view+json": {
       "model_id": "",
       "version_major": 2,
       "version_minor": 0
      },
      "text/plain": [
       "  0%|          | 0/4001 [00:00<?, ?it/s]"
      ]
     },
     "metadata": {},
     "output_type": "display_data"
    },
    {
     "data": {
      "application/vnd.jupyter.widget-view+json": {
       "model_id": "",
       "version_major": 2,
       "version_minor": 0
      },
      "text/plain": [
       "  0%|          | 0/4001 [00:00<?, ?it/s]"
      ]
     },
     "metadata": {},
     "output_type": "display_data"
    },
    {
     "data": {
      "application/vnd.jupyter.widget-view+json": {
       "model_id": "",
       "version_major": 2,
       "version_minor": 0
      },
      "text/plain": [
       "  0%|          | 0/4001 [00:00<?, ?it/s]"
      ]
     },
     "metadata": {},
     "output_type": "display_data"
    },
    {
     "data": {
      "application/vnd.jupyter.widget-view+json": {
       "model_id": "",
       "version_major": 2,
       "version_minor": 0
      },
      "text/plain": [
       "  0%|          | 0/4001 [00:00<?, ?it/s]"
      ]
     },
     "metadata": {},
     "output_type": "display_data"
    },
    {
     "data": {
      "application/vnd.jupyter.widget-view+json": {
       "model_id": "",
       "version_major": 2,
       "version_minor": 0
      },
      "text/plain": [
       "  0%|          | 0/4001 [00:00<?, ?it/s]"
      ]
     },
     "metadata": {},
     "output_type": "display_data"
    },
    {
     "data": {
      "application/vnd.jupyter.widget-view+json": {
       "model_id": "",
       "version_major": 2,
       "version_minor": 0
      },
      "text/plain": [
       "  0%|          | 0/4001 [00:00<?, ?it/s]"
      ]
     },
     "metadata": {},
     "output_type": "display_data"
    },
    {
     "data": {
      "application/vnd.jupyter.widget-view+json": {
       "model_id": "",
       "version_major": 2,
       "version_minor": 0
      },
      "text/plain": [
       "  0%|          | 0/4001 [00:00<?, ?it/s]"
      ]
     },
     "metadata": {},
     "output_type": "display_data"
    },
    {
     "data": {
      "application/vnd.jupyter.widget-view+json": {
       "model_id": "",
       "version_major": 2,
       "version_minor": 0
      },
      "text/plain": [
       "  0%|          | 0/4001 [00:00<?, ?it/s]"
      ]
     },
     "metadata": {},
     "output_type": "display_data"
    },
    {
     "data": {
      "application/vnd.jupyter.widget-view+json": {
       "model_id": "",
       "version_major": 2,
       "version_minor": 0
      },
      "text/plain": [
       "  0%|          | 0/4001 [00:00<?, ?it/s]"
      ]
     },
     "metadata": {},
     "output_type": "display_data"
    },
    {
     "data": {
      "application/vnd.jupyter.widget-view+json": {
       "model_id": "",
       "version_major": 2,
       "version_minor": 0
      },
      "text/plain": [
       "  0%|          | 0/4001 [00:00<?, ?it/s]"
      ]
     },
     "metadata": {},
     "output_type": "display_data"
    },
    {
     "data": {
      "application/vnd.jupyter.widget-view+json": {
       "model_id": "",
       "version_major": 2,
       "version_minor": 0
      },
      "text/plain": [
       "  0%|          | 0/4001 [00:00<?, ?it/s]"
      ]
     },
     "metadata": {},
     "output_type": "display_data"
    },
    {
     "data": {
      "application/vnd.jupyter.widget-view+json": {
       "model_id": "",
       "version_major": 2,
       "version_minor": 0
      },
      "text/plain": [
       "  0%|          | 0/4001 [00:00<?, ?it/s]"
      ]
     },
     "metadata": {},
     "output_type": "display_data"
    },
    {
     "data": {
      "application/vnd.jupyter.widget-view+json": {
       "model_id": "",
       "version_major": 2,
       "version_minor": 0
      },
      "text/plain": [
       "  0%|          | 0/4001 [00:00<?, ?it/s]"
      ]
     },
     "metadata": {},
     "output_type": "display_data"
    },
    {
     "data": {
      "application/vnd.jupyter.widget-view+json": {
       "model_id": "",
       "version_major": 2,
       "version_minor": 0
      },
      "text/plain": [
       "  0%|          | 0/4001 [00:00<?, ?it/s]"
      ]
     },
     "metadata": {},
     "output_type": "display_data"
    },
    {
     "data": {
      "application/vnd.jupyter.widget-view+json": {
       "model_id": "",
       "version_major": 2,
       "version_minor": 0
      },
      "text/plain": [
       "  0%|          | 0/4001 [00:00<?, ?it/s]"
      ]
     },
     "metadata": {},
     "output_type": "display_data"
    },
    {
     "data": {
      "application/vnd.jupyter.widget-view+json": {
       "model_id": "",
       "version_major": 2,
       "version_minor": 0
      },
      "text/plain": [
       "  0%|          | 0/4001 [00:00<?, ?it/s]"
      ]
     },
     "metadata": {},
     "output_type": "display_data"
    },
    {
     "data": {
      "application/vnd.jupyter.widget-view+json": {
       "model_id": "",
       "version_major": 2,
       "version_minor": 0
      },
      "text/plain": [
       "  0%|          | 0/4001 [00:00<?, ?it/s]"
      ]
     },
     "metadata": {},
     "output_type": "display_data"
    },
    {
     "data": {
      "application/vnd.jupyter.widget-view+json": {
       "model_id": "",
       "version_major": 2,
       "version_minor": 0
      },
      "text/plain": [
       "  0%|          | 0/4001 [00:00<?, ?it/s]"
      ]
     },
     "metadata": {},
     "output_type": "display_data"
    },
    {
     "data": {
      "application/vnd.jupyter.widget-view+json": {
       "model_id": "",
       "version_major": 2,
       "version_minor": 0
      },
      "text/plain": [
       "  0%|          | 0/4001 [00:00<?, ?it/s]"
      ]
     },
     "metadata": {},
     "output_type": "display_data"
    },
    {
     "data": {
      "application/vnd.jupyter.widget-view+json": {
       "model_id": "",
       "version_major": 2,
       "version_minor": 0
      },
      "text/plain": [
       "  0%|          | 0/4001 [00:00<?, ?it/s]"
      ]
     },
     "metadata": {},
     "output_type": "display_data"
    },
    {
     "data": {
      "application/vnd.jupyter.widget-view+json": {
       "model_id": "",
       "version_major": 2,
       "version_minor": 0
      },
      "text/plain": [
       "  0%|          | 0/4001 [00:00<?, ?it/s]"
      ]
     },
     "metadata": {},
     "output_type": "display_data"
    },
    {
     "data": {
      "application/vnd.jupyter.widget-view+json": {
       "model_id": "",
       "version_major": 2,
       "version_minor": 0
      },
      "text/plain": [
       "  0%|          | 0/4001 [00:00<?, ?it/s]"
      ]
     },
     "metadata": {},
     "output_type": "display_data"
    },
    {
     "data": {
      "application/vnd.jupyter.widget-view+json": {
       "model_id": "",
       "version_major": 2,
       "version_minor": 0
      },
      "text/plain": [
       "  0%|          | 0/4001 [00:00<?, ?it/s]"
      ]
     },
     "metadata": {},
     "output_type": "display_data"
    },
    {
     "data": {
      "application/vnd.jupyter.widget-view+json": {
       "model_id": "",
       "version_major": 2,
       "version_minor": 0
      },
      "text/plain": [
       "  0%|          | 0/4001 [00:00<?, ?it/s]"
      ]
     },
     "metadata": {},
     "output_type": "display_data"
    },
    {
     "data": {
      "application/vnd.jupyter.widget-view+json": {
       "model_id": "",
       "version_major": 2,
       "version_minor": 0
      },
      "text/plain": [
       "  0%|          | 0/4001 [00:00<?, ?it/s]"
      ]
     },
     "metadata": {},
     "output_type": "display_data"
    },
    {
     "data": {
      "application/vnd.jupyter.widget-view+json": {
       "model_id": "",
       "version_major": 2,
       "version_minor": 0
      },
      "text/plain": [
       "  0%|          | 0/4001 [00:00<?, ?it/s]"
      ]
     },
     "metadata": {},
     "output_type": "display_data"
    },
    {
     "data": {
      "application/vnd.jupyter.widget-view+json": {
       "model_id": "",
       "version_major": 2,
       "version_minor": 0
      },
      "text/plain": [
       "  0%|          | 0/4001 [00:00<?, ?it/s]"
      ]
     },
     "metadata": {},
     "output_type": "display_data"
    },
    {
     "data": {
      "application/vnd.jupyter.widget-view+json": {
       "model_id": "",
       "version_major": 2,
       "version_minor": 0
      },
      "text/plain": [
       "  0%|          | 0/4001 [00:00<?, ?it/s]"
      ]
     },
     "metadata": {},
     "output_type": "display_data"
    },
    {
     "data": {
      "application/vnd.jupyter.widget-view+json": {
       "model_id": "",
       "version_major": 2,
       "version_minor": 0
      },
      "text/plain": [
       "  0%|          | 0/4001 [00:00<?, ?it/s]"
      ]
     },
     "metadata": {},
     "output_type": "display_data"
    },
    {
     "data": {
      "application/vnd.jupyter.widget-view+json": {
       "model_id": "",
       "version_major": 2,
       "version_minor": 0
      },
      "text/plain": [
       "  0%|          | 0/4001 [00:00<?, ?it/s]"
      ]
     },
     "metadata": {},
     "output_type": "display_data"
    },
    {
     "data": {
      "application/vnd.jupyter.widget-view+json": {
       "model_id": "",
       "version_major": 2,
       "version_minor": 0
      },
      "text/plain": [
       "  0%|          | 0/4001 [00:00<?, ?it/s]"
      ]
     },
     "metadata": {},
     "output_type": "display_data"
    },
    {
     "data": {
      "application/vnd.jupyter.widget-view+json": {
       "model_id": "",
       "version_major": 2,
       "version_minor": 0
      },
      "text/plain": [
       "  0%|          | 0/4001 [00:00<?, ?it/s]"
      ]
     },
     "metadata": {},
     "output_type": "display_data"
    },
    {
     "data": {
      "application/vnd.jupyter.widget-view+json": {
       "model_id": "",
       "version_major": 2,
       "version_minor": 0
      },
      "text/plain": [
       "  0%|          | 0/4001 [00:00<?, ?it/s]"
      ]
     },
     "metadata": {},
     "output_type": "display_data"
    },
    {
     "data": {
      "application/vnd.jupyter.widget-view+json": {
       "model_id": "",
       "version_major": 2,
       "version_minor": 0
      },
      "text/plain": [
       "  0%|          | 0/4001 [00:00<?, ?it/s]"
      ]
     },
     "metadata": {},
     "output_type": "display_data"
    },
    {
     "data": {
      "application/vnd.jupyter.widget-view+json": {
       "model_id": "",
       "version_major": 2,
       "version_minor": 0
      },
      "text/plain": [
       "  0%|          | 0/4001 [00:00<?, ?it/s]"
      ]
     },
     "metadata": {},
     "output_type": "display_data"
    },
    {
     "data": {
      "application/vnd.jupyter.widget-view+json": {
       "model_id": "",
       "version_major": 2,
       "version_minor": 0
      },
      "text/plain": [
       "  0%|          | 0/4001 [00:00<?, ?it/s]"
      ]
     },
     "metadata": {},
     "output_type": "display_data"
    },
    {
     "data": {
      "application/vnd.jupyter.widget-view+json": {
       "model_id": "",
       "version_major": 2,
       "version_minor": 0
      },
      "text/plain": [
       "  0%|          | 0/4001 [00:00<?, ?it/s]"
      ]
     },
     "metadata": {},
     "output_type": "display_data"
    },
    {
     "data": {
      "application/vnd.jupyter.widget-view+json": {
       "model_id": "",
       "version_major": 2,
       "version_minor": 0
      },
      "text/plain": [
       "  0%|          | 0/4001 [00:00<?, ?it/s]"
      ]
     },
     "metadata": {},
     "output_type": "display_data"
    },
    {
     "data": {
      "application/vnd.jupyter.widget-view+json": {
       "model_id": "",
       "version_major": 2,
       "version_minor": 0
      },
      "text/plain": [
       "  0%|          | 0/4001 [00:00<?, ?it/s]"
      ]
     },
     "metadata": {},
     "output_type": "display_data"
    },
    {
     "data": {
      "application/vnd.jupyter.widget-view+json": {
       "model_id": "",
       "version_major": 2,
       "version_minor": 0
      },
      "text/plain": [
       "  0%|          | 0/4001 [00:00<?, ?it/s]"
      ]
     },
     "metadata": {},
     "output_type": "display_data"
    },
    {
     "data": {
      "application/vnd.jupyter.widget-view+json": {
       "model_id": "",
       "version_major": 2,
       "version_minor": 0
      },
      "text/plain": [
       "  0%|          | 0/4001 [00:00<?, ?it/s]"
      ]
     },
     "metadata": {},
     "output_type": "display_data"
    },
    {
     "data": {
      "application/vnd.jupyter.widget-view+json": {
       "model_id": "",
       "version_major": 2,
       "version_minor": 0
      },
      "text/plain": [
       "  0%|          | 0/4001 [00:00<?, ?it/s]"
      ]
     },
     "metadata": {},
     "output_type": "display_data"
    },
    {
     "data": {
      "application/vnd.jupyter.widget-view+json": {
       "model_id": "",
       "version_major": 2,
       "version_minor": 0
      },
      "text/plain": [
       "  0%|          | 0/4001 [00:00<?, ?it/s]"
      ]
     },
     "metadata": {},
     "output_type": "display_data"
    },
    {
     "data": {
      "application/vnd.jupyter.widget-view+json": {
       "model_id": "",
       "version_major": 2,
       "version_minor": 0
      },
      "text/plain": [
       "  0%|          | 0/4001 [00:00<?, ?it/s]"
      ]
     },
     "metadata": {},
     "output_type": "display_data"
    },
    {
     "data": {
      "application/vnd.jupyter.widget-view+json": {
       "model_id": "",
       "version_major": 2,
       "version_minor": 0
      },
      "text/plain": [
       "  0%|          | 0/4001 [00:00<?, ?it/s]"
      ]
     },
     "metadata": {},
     "output_type": "display_data"
    },
    {
     "data": {
      "application/vnd.jupyter.widget-view+json": {
       "model_id": "",
       "version_major": 2,
       "version_minor": 0
      },
      "text/plain": [
       "  0%|          | 0/4001 [00:00<?, ?it/s]"
      ]
     },
     "metadata": {},
     "output_type": "display_data"
    },
    {
     "data": {
      "application/vnd.jupyter.widget-view+json": {
       "model_id": "",
       "version_major": 2,
       "version_minor": 0
      },
      "text/plain": [
       "  0%|          | 0/4001 [00:00<?, ?it/s]"
      ]
     },
     "metadata": {},
     "output_type": "display_data"
    },
    {
     "data": {
      "application/vnd.jupyter.widget-view+json": {
       "model_id": "",
       "version_major": 2,
       "version_minor": 0
      },
      "text/plain": [
       "  0%|          | 0/4001 [00:00<?, ?it/s]"
      ]
     },
     "metadata": {},
     "output_type": "display_data"
    },
    {
     "data": {
      "application/vnd.jupyter.widget-view+json": {
       "model_id": "",
       "version_major": 2,
       "version_minor": 0
      },
      "text/plain": [
       "  0%|          | 0/4001 [00:00<?, ?it/s]"
      ]
     },
     "metadata": {},
     "output_type": "display_data"
    },
    {
     "data": {
      "application/vnd.jupyter.widget-view+json": {
       "model_id": "",
       "version_major": 2,
       "version_minor": 0
      },
      "text/plain": [
       "  0%|          | 0/4001 [00:00<?, ?it/s]"
      ]
     },
     "metadata": {},
     "output_type": "display_data"
    },
    {
     "data": {
      "application/vnd.jupyter.widget-view+json": {
       "model_id": "",
       "version_major": 2,
       "version_minor": 0
      },
      "text/plain": [
       "  0%|          | 0/4001 [00:00<?, ?it/s]"
      ]
     },
     "metadata": {},
     "output_type": "display_data"
    },
    {
     "data": {
      "application/vnd.jupyter.widget-view+json": {
       "model_id": "",
       "version_major": 2,
       "version_minor": 0
      },
      "text/plain": [
       "  0%|          | 0/4001 [00:00<?, ?it/s]"
      ]
     },
     "metadata": {},
     "output_type": "display_data"
    },
    {
     "data": {
      "application/vnd.jupyter.widget-view+json": {
       "model_id": "",
       "version_major": 2,
       "version_minor": 0
      },
      "text/plain": [
       "  0%|          | 0/4001 [00:00<?, ?it/s]"
      ]
     },
     "metadata": {},
     "output_type": "display_data"
    },
    {
     "data": {
      "application/vnd.jupyter.widget-view+json": {
       "model_id": "",
       "version_major": 2,
       "version_minor": 0
      },
      "text/plain": [
       "  0%|          | 0/4001 [00:00<?, ?it/s]"
      ]
     },
     "metadata": {},
     "output_type": "display_data"
    },
    {
     "data": {
      "application/vnd.jupyter.widget-view+json": {
       "model_id": "",
       "version_major": 2,
       "version_minor": 0
      },
      "text/plain": [
       "  0%|          | 0/4001 [00:00<?, ?it/s]"
      ]
     },
     "metadata": {},
     "output_type": "display_data"
    },
    {
     "data": {
      "application/vnd.jupyter.widget-view+json": {
       "model_id": "",
       "version_major": 2,
       "version_minor": 0
      },
      "text/plain": [
       "  0%|          | 0/4001 [00:00<?, ?it/s]"
      ]
     },
     "metadata": {},
     "output_type": "display_data"
    },
    {
     "data": {
      "application/vnd.jupyter.widget-view+json": {
       "model_id": "",
       "version_major": 2,
       "version_minor": 0
      },
      "text/plain": [
       "  0%|          | 0/4001 [00:00<?, ?it/s]"
      ]
     },
     "metadata": {},
     "output_type": "display_data"
    },
    {
     "data": {
      "application/vnd.jupyter.widget-view+json": {
       "model_id": "",
       "version_major": 2,
       "version_minor": 0
      },
      "text/plain": [
       "  0%|          | 0/4001 [00:00<?, ?it/s]"
      ]
     },
     "metadata": {},
     "output_type": "display_data"
    },
    {
     "data": {
      "application/vnd.jupyter.widget-view+json": {
       "model_id": "",
       "version_major": 2,
       "version_minor": 0
      },
      "text/plain": [
       "  0%|          | 0/4001 [00:00<?, ?it/s]"
      ]
     },
     "metadata": {},
     "output_type": "display_data"
    },
    {
     "data": {
      "application/vnd.jupyter.widget-view+json": {
       "model_id": "",
       "version_major": 2,
       "version_minor": 0
      },
      "text/plain": [
       "  0%|          | 0/4001 [00:00<?, ?it/s]"
      ]
     },
     "metadata": {},
     "output_type": "display_data"
    },
    {
     "data": {
      "application/vnd.jupyter.widget-view+json": {
       "model_id": "",
       "version_major": 2,
       "version_minor": 0
      },
      "text/plain": [
       "  0%|          | 0/4001 [00:00<?, ?it/s]"
      ]
     },
     "metadata": {},
     "output_type": "display_data"
    },
    {
     "data": {
      "application/vnd.jupyter.widget-view+json": {
       "model_id": "",
       "version_major": 2,
       "version_minor": 0
      },
      "text/plain": [
       "  0%|          | 0/4001 [00:00<?, ?it/s]"
      ]
     },
     "metadata": {},
     "output_type": "display_data"
    },
    {
     "data": {
      "application/vnd.jupyter.widget-view+json": {
       "model_id": "",
       "version_major": 2,
       "version_minor": 0
      },
      "text/plain": [
       "  0%|          | 0/4001 [00:00<?, ?it/s]"
      ]
     },
     "metadata": {},
     "output_type": "display_data"
    },
    {
     "data": {
      "application/vnd.jupyter.widget-view+json": {
       "model_id": "",
       "version_major": 2,
       "version_minor": 0
      },
      "text/plain": [
       "  0%|          | 0/4001 [00:00<?, ?it/s]"
      ]
     },
     "metadata": {},
     "output_type": "display_data"
    },
    {
     "data": {
      "application/vnd.jupyter.widget-view+json": {
       "model_id": "",
       "version_major": 2,
       "version_minor": 0
      },
      "text/plain": [
       "  0%|          | 0/4001 [00:00<?, ?it/s]"
      ]
     },
     "metadata": {},
     "output_type": "display_data"
    },
    {
     "data": {
      "application/vnd.jupyter.widget-view+json": {
       "model_id": "",
       "version_major": 2,
       "version_minor": 0
      },
      "text/plain": [
       "  0%|          | 0/4001 [00:00<?, ?it/s]"
      ]
     },
     "metadata": {},
     "output_type": "display_data"
    },
    {
     "data": {
      "application/vnd.jupyter.widget-view+json": {
       "model_id": "",
       "version_major": 2,
       "version_minor": 0
      },
      "text/plain": [
       "  0%|          | 0/4001 [00:00<?, ?it/s]"
      ]
     },
     "metadata": {},
     "output_type": "display_data"
    },
    {
     "data": {
      "application/vnd.jupyter.widget-view+json": {
       "model_id": "",
       "version_major": 2,
       "version_minor": 0
      },
      "text/plain": [
       "  0%|          | 0/4001 [00:00<?, ?it/s]"
      ]
     },
     "metadata": {},
     "output_type": "display_data"
    },
    {
     "data": {
      "application/vnd.jupyter.widget-view+json": {
       "model_id": "",
       "version_major": 2,
       "version_minor": 0
      },
      "text/plain": [
       "  0%|          | 0/4001 [00:00<?, ?it/s]"
      ]
     },
     "metadata": {},
     "output_type": "display_data"
    },
    {
     "data": {
      "application/vnd.jupyter.widget-view+json": {
       "model_id": "",
       "version_major": 2,
       "version_minor": 0
      },
      "text/plain": [
       "  0%|          | 0/4001 [00:00<?, ?it/s]"
      ]
     },
     "metadata": {},
     "output_type": "display_data"
    },
    {
     "data": {
      "application/vnd.jupyter.widget-view+json": {
       "model_id": "",
       "version_major": 2,
       "version_minor": 0
      },
      "text/plain": [
       "  0%|          | 0/4001 [00:00<?, ?it/s]"
      ]
     },
     "metadata": {},
     "output_type": "display_data"
    },
    {
     "data": {
      "application/vnd.jupyter.widget-view+json": {
       "model_id": "",
       "version_major": 2,
       "version_minor": 0
      },
      "text/plain": [
       "  0%|          | 0/4001 [00:00<?, ?it/s]"
      ]
     },
     "metadata": {},
     "output_type": "display_data"
    },
    {
     "data": {
      "application/vnd.jupyter.widget-view+json": {
       "model_id": "",
       "version_major": 2,
       "version_minor": 0
      },
      "text/plain": [
       "  0%|          | 0/4001 [00:00<?, ?it/s]"
      ]
     },
     "metadata": {},
     "output_type": "display_data"
    },
    {
     "data": {
      "application/vnd.jupyter.widget-view+json": {
       "model_id": "",
       "version_major": 2,
       "version_minor": 0
      },
      "text/plain": [
       "  0%|          | 0/4001 [00:00<?, ?it/s]"
      ]
     },
     "metadata": {},
     "output_type": "display_data"
    },
    {
     "data": {
      "application/vnd.jupyter.widget-view+json": {
       "model_id": "",
       "version_major": 2,
       "version_minor": 0
      },
      "text/plain": [
       "  0%|          | 0/4001 [00:00<?, ?it/s]"
      ]
     },
     "metadata": {},
     "output_type": "display_data"
    },
    {
     "data": {
      "application/vnd.jupyter.widget-view+json": {
       "model_id": "",
       "version_major": 2,
       "version_minor": 0
      },
      "text/plain": [
       "  0%|          | 0/4001 [00:00<?, ?it/s]"
      ]
     },
     "metadata": {},
     "output_type": "display_data"
    },
    {
     "data": {
      "application/vnd.jupyter.widget-view+json": {
       "model_id": "",
       "version_major": 2,
       "version_minor": 0
      },
      "text/plain": [
       "  0%|          | 0/4001 [00:00<?, ?it/s]"
      ]
     },
     "metadata": {},
     "output_type": "display_data"
    },
    {
     "data": {
      "application/vnd.jupyter.widget-view+json": {
       "model_id": "",
       "version_major": 2,
       "version_minor": 0
      },
      "text/plain": [
       "  0%|          | 0/4001 [00:00<?, ?it/s]"
      ]
     },
     "metadata": {},
     "output_type": "display_data"
    },
    {
     "data": {
      "application/vnd.jupyter.widget-view+json": {
       "model_id": "",
       "version_major": 2,
       "version_minor": 0
      },
      "text/plain": [
       "  0%|          | 0/4001 [00:00<?, ?it/s]"
      ]
     },
     "metadata": {},
     "output_type": "display_data"
    },
    {
     "data": {
      "application/vnd.jupyter.widget-view+json": {
       "model_id": "",
       "version_major": 2,
       "version_minor": 0
      },
      "text/plain": [
       "  0%|          | 0/4001 [00:00<?, ?it/s]"
      ]
     },
     "metadata": {},
     "output_type": "display_data"
    },
    {
     "data": {
      "application/vnd.jupyter.widget-view+json": {
       "model_id": "",
       "version_major": 2,
       "version_minor": 0
      },
      "text/plain": [
       "  0%|          | 0/4001 [00:00<?, ?it/s]"
      ]
     },
     "metadata": {},
     "output_type": "display_data"
    },
    {
     "data": {
      "application/vnd.jupyter.widget-view+json": {
       "model_id": "",
       "version_major": 2,
       "version_minor": 0
      },
      "text/plain": [
       "  0%|          | 0/4001 [00:00<?, ?it/s]"
      ]
     },
     "metadata": {},
     "output_type": "display_data"
    },
    {
     "data": {
      "application/vnd.jupyter.widget-view+json": {
       "model_id": "",
       "version_major": 2,
       "version_minor": 0
      },
      "text/plain": [
       "  0%|          | 0/4001 [00:00<?, ?it/s]"
      ]
     },
     "metadata": {},
     "output_type": "display_data"
    },
    {
     "data": {
      "application/vnd.jupyter.widget-view+json": {
       "model_id": "",
       "version_major": 2,
       "version_minor": 0
      },
      "text/plain": [
       "  0%|          | 0/4001 [00:00<?, ?it/s]"
      ]
     },
     "metadata": {},
     "output_type": "display_data"
    },
    {
     "data": {
      "application/vnd.jupyter.widget-view+json": {
       "model_id": "",
       "version_major": 2,
       "version_minor": 0
      },
      "text/plain": [
       "  0%|          | 0/4001 [00:00<?, ?it/s]"
      ]
     },
     "metadata": {},
     "output_type": "display_data"
    },
    {
     "data": {
      "application/vnd.jupyter.widget-view+json": {
       "model_id": "",
       "version_major": 2,
       "version_minor": 0
      },
      "text/plain": [
       "  0%|          | 0/4001 [00:00<?, ?it/s]"
      ]
     },
     "metadata": {},
     "output_type": "display_data"
    },
    {
     "data": {
      "application/vnd.jupyter.widget-view+json": {
       "model_id": "",
       "version_major": 2,
       "version_minor": 0
      },
      "text/plain": [
       "  0%|          | 0/4001 [00:00<?, ?it/s]"
      ]
     },
     "metadata": {},
     "output_type": "display_data"
    },
    {
     "data": {
      "application/vnd.jupyter.widget-view+json": {
       "model_id": "",
       "version_major": 2,
       "version_minor": 0
      },
      "text/plain": [
       "  0%|          | 0/4001 [00:00<?, ?it/s]"
      ]
     },
     "metadata": {},
     "output_type": "display_data"
    },
    {
     "data": {
      "application/vnd.jupyter.widget-view+json": {
       "model_id": "",
       "version_major": 2,
       "version_minor": 0
      },
      "text/plain": [
       "  0%|          | 0/4001 [00:00<?, ?it/s]"
      ]
     },
     "metadata": {},
     "output_type": "display_data"
    },
    {
     "data": {
      "application/vnd.jupyter.widget-view+json": {
       "model_id": "",
       "version_major": 2,
       "version_minor": 0
      },
      "text/plain": [
       "  0%|          | 0/4001 [00:00<?, ?it/s]"
      ]
     },
     "metadata": {},
     "output_type": "display_data"
    },
    {
     "data": {
      "application/vnd.jupyter.widget-view+json": {
       "model_id": "",
       "version_major": 2,
       "version_minor": 0
      },
      "text/plain": [
       "  0%|          | 0/4001 [00:00<?, ?it/s]"
      ]
     },
     "metadata": {},
     "output_type": "display_data"
    },
    {
     "data": {
      "application/vnd.jupyter.widget-view+json": {
       "model_id": "",
       "version_major": 2,
       "version_minor": 0
      },
      "text/plain": [
       "  0%|          | 0/4001 [00:00<?, ?it/s]"
      ]
     },
     "metadata": {},
     "output_type": "display_data"
    },
    {
     "data": {
      "application/vnd.jupyter.widget-view+json": {
       "model_id": "",
       "version_major": 2,
       "version_minor": 0
      },
      "text/plain": [
       "  0%|          | 0/4001 [00:00<?, ?it/s]"
      ]
     },
     "metadata": {},
     "output_type": "display_data"
    },
    {
     "data": {
      "application/vnd.jupyter.widget-view+json": {
       "model_id": "",
       "version_major": 2,
       "version_minor": 0
      },
      "text/plain": [
       "  0%|          | 0/4001 [00:00<?, ?it/s]"
      ]
     },
     "metadata": {},
     "output_type": "display_data"
    },
    {
     "data": {
      "application/vnd.jupyter.widget-view+json": {
       "model_id": "",
       "version_major": 2,
       "version_minor": 0
      },
      "text/plain": [
       "  0%|          | 0/4001 [00:00<?, ?it/s]"
      ]
     },
     "metadata": {},
     "output_type": "display_data"
    },
    {
     "data": {
      "application/vnd.jupyter.widget-view+json": {
       "model_id": "",
       "version_major": 2,
       "version_minor": 0
      },
      "text/plain": [
       "  0%|          | 0/4001 [00:00<?, ?it/s]"
      ]
     },
     "metadata": {},
     "output_type": "display_data"
    },
    {
     "data": {
      "application/vnd.jupyter.widget-view+json": {
       "model_id": "",
       "version_major": 2,
       "version_minor": 0
      },
      "text/plain": [
       "  0%|          | 0/4001 [00:00<?, ?it/s]"
      ]
     },
     "metadata": {},
     "output_type": "display_data"
    },
    {
     "data": {
      "application/vnd.jupyter.widget-view+json": {
       "model_id": "",
       "version_major": 2,
       "version_minor": 0
      },
      "text/plain": [
       "  0%|          | 0/4001 [00:00<?, ?it/s]"
      ]
     },
     "metadata": {},
     "output_type": "display_data"
    },
    {
     "data": {
      "application/vnd.jupyter.widget-view+json": {
       "model_id": "",
       "version_major": 2,
       "version_minor": 0
      },
      "text/plain": [
       "  0%|          | 0/4001 [00:00<?, ?it/s]"
      ]
     },
     "metadata": {},
     "output_type": "display_data"
    },
    {
     "data": {
      "application/vnd.jupyter.widget-view+json": {
       "model_id": "",
       "version_major": 2,
       "version_minor": 0
      },
      "text/plain": [
       "  0%|          | 0/4001 [00:00<?, ?it/s]"
      ]
     },
     "metadata": {},
     "output_type": "display_data"
    },
    {
     "data": {
      "application/vnd.jupyter.widget-view+json": {
       "model_id": "",
       "version_major": 2,
       "version_minor": 0
      },
      "text/plain": [
       "  0%|          | 0/4001 [00:00<?, ?it/s]"
      ]
     },
     "metadata": {},
     "output_type": "display_data"
    },
    {
     "data": {
      "application/vnd.jupyter.widget-view+json": {
       "model_id": "",
       "version_major": 2,
       "version_minor": 0
      },
      "text/plain": [
       "  0%|          | 0/4001 [00:00<?, ?it/s]"
      ]
     },
     "metadata": {},
     "output_type": "display_data"
    },
    {
     "data": {
      "application/vnd.jupyter.widget-view+json": {
       "model_id": "",
       "version_major": 2,
       "version_minor": 0
      },
      "text/plain": [
       "  0%|          | 0/4001 [00:00<?, ?it/s]"
      ]
     },
     "metadata": {},
     "output_type": "display_data"
    },
    {
     "data": {
      "application/vnd.jupyter.widget-view+json": {
       "model_id": "",
       "version_major": 2,
       "version_minor": 0
      },
      "text/plain": [
       "  0%|          | 0/4001 [00:00<?, ?it/s]"
      ]
     },
     "metadata": {},
     "output_type": "display_data"
    },
    {
     "data": {
      "application/vnd.jupyter.widget-view+json": {
       "model_id": "",
       "version_major": 2,
       "version_minor": 0
      },
      "text/plain": [
       "  0%|          | 0/4001 [00:00<?, ?it/s]"
      ]
     },
     "metadata": {},
     "output_type": "display_data"
    },
    {
     "data": {
      "application/vnd.jupyter.widget-view+json": {
       "model_id": "",
       "version_major": 2,
       "version_minor": 0
      },
      "text/plain": [
       "  0%|          | 0/4001 [00:00<?, ?it/s]"
      ]
     },
     "metadata": {},
     "output_type": "display_data"
    },
    {
     "data": {
      "application/vnd.jupyter.widget-view+json": {
       "model_id": "",
       "version_major": 2,
       "version_minor": 0
      },
      "text/plain": [
       "  0%|          | 0/4001 [00:00<?, ?it/s]"
      ]
     },
     "metadata": {},
     "output_type": "display_data"
    },
    {
     "data": {
      "application/vnd.jupyter.widget-view+json": {
       "model_id": "",
       "version_major": 2,
       "version_minor": 0
      },
      "text/plain": [
       "  0%|          | 0/4001 [00:00<?, ?it/s]"
      ]
     },
     "metadata": {},
     "output_type": "display_data"
    },
    {
     "data": {
      "application/vnd.jupyter.widget-view+json": {
       "model_id": "",
       "version_major": 2,
       "version_minor": 0
      },
      "text/plain": [
       "  0%|          | 0/4001 [00:00<?, ?it/s]"
      ]
     },
     "metadata": {},
     "output_type": "display_data"
    },
    {
     "data": {
      "application/vnd.jupyter.widget-view+json": {
       "model_id": "",
       "version_major": 2,
       "version_minor": 0
      },
      "text/plain": [
       "  0%|          | 0/4001 [00:00<?, ?it/s]"
      ]
     },
     "metadata": {},
     "output_type": "display_data"
    },
    {
     "data": {
      "application/vnd.jupyter.widget-view+json": {
       "model_id": "",
       "version_major": 2,
       "version_minor": 0
      },
      "text/plain": [
       "  0%|          | 0/4001 [00:00<?, ?it/s]"
      ]
     },
     "metadata": {},
     "output_type": "display_data"
    },
    {
     "data": {
      "application/vnd.jupyter.widget-view+json": {
       "model_id": "",
       "version_major": 2,
       "version_minor": 0
      },
      "text/plain": [
       "  0%|          | 0/4001 [00:00<?, ?it/s]"
      ]
     },
     "metadata": {},
     "output_type": "display_data"
    },
    {
     "data": {
      "application/vnd.jupyter.widget-view+json": {
       "model_id": "",
       "version_major": 2,
       "version_minor": 0
      },
      "text/plain": [
       "  0%|          | 0/4001 [00:00<?, ?it/s]"
      ]
     },
     "metadata": {},
     "output_type": "display_data"
    },
    {
     "data": {
      "application/vnd.jupyter.widget-view+json": {
       "model_id": "",
       "version_major": 2,
       "version_minor": 0
      },
      "text/plain": [
       "  0%|          | 0/4001 [00:00<?, ?it/s]"
      ]
     },
     "metadata": {},
     "output_type": "display_data"
    },
    {
     "data": {
      "application/vnd.jupyter.widget-view+json": {
       "model_id": "",
       "version_major": 2,
       "version_minor": 0
      },
      "text/plain": [
       "  0%|          | 0/4001 [00:00<?, ?it/s]"
      ]
     },
     "metadata": {},
     "output_type": "display_data"
    },
    {
     "data": {
      "application/vnd.jupyter.widget-view+json": {
       "model_id": "",
       "version_major": 2,
       "version_minor": 0
      },
      "text/plain": [
       "  0%|          | 0/4001 [00:00<?, ?it/s]"
      ]
     },
     "metadata": {},
     "output_type": "display_data"
    },
    {
     "data": {
      "application/vnd.jupyter.widget-view+json": {
       "model_id": "",
       "version_major": 2,
       "version_minor": 0
      },
      "text/plain": [
       "  0%|          | 0/4001 [00:00<?, ?it/s]"
      ]
     },
     "metadata": {},
     "output_type": "display_data"
    },
    {
     "data": {
      "application/vnd.jupyter.widget-view+json": {
       "model_id": "",
       "version_major": 2,
       "version_minor": 0
      },
      "text/plain": [
       "  0%|          | 0/4001 [00:00<?, ?it/s]"
      ]
     },
     "metadata": {},
     "output_type": "display_data"
    },
    {
     "data": {
      "application/vnd.jupyter.widget-view+json": {
       "model_id": "",
       "version_major": 2,
       "version_minor": 0
      },
      "text/plain": [
       "  0%|          | 0/4001 [00:00<?, ?it/s]"
      ]
     },
     "metadata": {},
     "output_type": "display_data"
    },
    {
     "data": {
      "application/vnd.jupyter.widget-view+json": {
       "model_id": "",
       "version_major": 2,
       "version_minor": 0
      },
      "text/plain": [
       "  0%|          | 0/4001 [00:00<?, ?it/s]"
      ]
     },
     "metadata": {},
     "output_type": "display_data"
    },
    {
     "data": {
      "application/vnd.jupyter.widget-view+json": {
       "model_id": "",
       "version_major": 2,
       "version_minor": 0
      },
      "text/plain": [
       "  0%|          | 0/4001 [00:00<?, ?it/s]"
      ]
     },
     "metadata": {},
     "output_type": "display_data"
    },
    {
     "data": {
      "application/vnd.jupyter.widget-view+json": {
       "model_id": "",
       "version_major": 2,
       "version_minor": 0
      },
      "text/plain": [
       "  0%|          | 0/4001 [00:00<?, ?it/s]"
      ]
     },
     "metadata": {},
     "output_type": "display_data"
    },
    {
     "data": {
      "application/vnd.jupyter.widget-view+json": {
       "model_id": "",
       "version_major": 2,
       "version_minor": 0
      },
      "text/plain": [
       "  0%|          | 0/4001 [00:00<?, ?it/s]"
      ]
     },
     "metadata": {},
     "output_type": "display_data"
    },
    {
     "data": {
      "application/vnd.jupyter.widget-view+json": {
       "model_id": "",
       "version_major": 2,
       "version_minor": 0
      },
      "text/plain": [
       "  0%|          | 0/4001 [00:00<?, ?it/s]"
      ]
     },
     "metadata": {},
     "output_type": "display_data"
    },
    {
     "data": {
      "application/vnd.jupyter.widget-view+json": {
       "model_id": "",
       "version_major": 2,
       "version_minor": 0
      },
      "text/plain": [
       "  0%|          | 0/4001 [00:00<?, ?it/s]"
      ]
     },
     "metadata": {},
     "output_type": "display_data"
    },
    {
     "data": {
      "application/vnd.jupyter.widget-view+json": {
       "model_id": "",
       "version_major": 2,
       "version_minor": 0
      },
      "text/plain": [
       "  0%|          | 0/4001 [00:00<?, ?it/s]"
      ]
     },
     "metadata": {},
     "output_type": "display_data"
    },
    {
     "data": {
      "application/vnd.jupyter.widget-view+json": {
       "model_id": "",
       "version_major": 2,
       "version_minor": 0
      },
      "text/plain": [
       "  0%|          | 0/4001 [00:00<?, ?it/s]"
      ]
     },
     "metadata": {},
     "output_type": "display_data"
    },
    {
     "data": {
      "application/vnd.jupyter.widget-view+json": {
       "model_id": "",
       "version_major": 2,
       "version_minor": 0
      },
      "text/plain": [
       "  0%|          | 0/4001 [00:00<?, ?it/s]"
      ]
     },
     "metadata": {},
     "output_type": "display_data"
    },
    {
     "data": {
      "application/vnd.jupyter.widget-view+json": {
       "model_id": "",
       "version_major": 2,
       "version_minor": 0
      },
      "text/plain": [
       "  0%|          | 0/4001 [00:00<?, ?it/s]"
      ]
     },
     "metadata": {},
     "output_type": "display_data"
    },
    {
     "data": {
      "application/vnd.jupyter.widget-view+json": {
       "model_id": "",
       "version_major": 2,
       "version_minor": 0
      },
      "text/plain": [
       "  0%|          | 0/4001 [00:00<?, ?it/s]"
      ]
     },
     "metadata": {},
     "output_type": "display_data"
    },
    {
     "data": {
      "application/vnd.jupyter.widget-view+json": {
       "model_id": "",
       "version_major": 2,
       "version_minor": 0
      },
      "text/plain": [
       "  0%|          | 0/4001 [00:00<?, ?it/s]"
      ]
     },
     "metadata": {},
     "output_type": "display_data"
    },
    {
     "data": {
      "application/vnd.jupyter.widget-view+json": {
       "model_id": "",
       "version_major": 2,
       "version_minor": 0
      },
      "text/plain": [
       "  0%|          | 0/4001 [00:00<?, ?it/s]"
      ]
     },
     "metadata": {},
     "output_type": "display_data"
    },
    {
     "data": {
      "application/vnd.jupyter.widget-view+json": {
       "model_id": "",
       "version_major": 2,
       "version_minor": 0
      },
      "text/plain": [
       "  0%|          | 0/4001 [00:00<?, ?it/s]"
      ]
     },
     "metadata": {},
     "output_type": "display_data"
    },
    {
     "data": {
      "application/vnd.jupyter.widget-view+json": {
       "model_id": "",
       "version_major": 2,
       "version_minor": 0
      },
      "text/plain": [
       "  0%|          | 0/4001 [00:00<?, ?it/s]"
      ]
     },
     "metadata": {},
     "output_type": "display_data"
    },
    {
     "data": {
      "application/vnd.jupyter.widget-view+json": {
       "model_id": "",
       "version_major": 2,
       "version_minor": 0
      },
      "text/plain": [
       "  0%|          | 0/4001 [00:00<?, ?it/s]"
      ]
     },
     "metadata": {},
     "output_type": "display_data"
    },
    {
     "data": {
      "application/vnd.jupyter.widget-view+json": {
       "model_id": "",
       "version_major": 2,
       "version_minor": 0
      },
      "text/plain": [
       "  0%|          | 0/4001 [00:00<?, ?it/s]"
      ]
     },
     "metadata": {},
     "output_type": "display_data"
    },
    {
     "data": {
      "application/vnd.jupyter.widget-view+json": {
       "model_id": "",
       "version_major": 2,
       "version_minor": 0
      },
      "text/plain": [
       "  0%|          | 0/4001 [00:00<?, ?it/s]"
      ]
     },
     "metadata": {},
     "output_type": "display_data"
    },
    {
     "data": {
      "application/vnd.jupyter.widget-view+json": {
       "model_id": "",
       "version_major": 2,
       "version_minor": 0
      },
      "text/plain": [
       "  0%|          | 0/4001 [00:00<?, ?it/s]"
      ]
     },
     "metadata": {},
     "output_type": "display_data"
    },
    {
     "data": {
      "application/vnd.jupyter.widget-view+json": {
       "model_id": "",
       "version_major": 2,
       "version_minor": 0
      },
      "text/plain": [
       "  0%|          | 0/4001 [00:00<?, ?it/s]"
      ]
     },
     "metadata": {},
     "output_type": "display_data"
    },
    {
     "data": {
      "application/vnd.jupyter.widget-view+json": {
       "model_id": "",
       "version_major": 2,
       "version_minor": 0
      },
      "text/plain": [
       "  0%|          | 0/4001 [00:00<?, ?it/s]"
      ]
     },
     "metadata": {},
     "output_type": "display_data"
    },
    {
     "data": {
      "application/vnd.jupyter.widget-view+json": {
       "model_id": "",
       "version_major": 2,
       "version_minor": 0
      },
      "text/plain": [
       "  0%|          | 0/4001 [00:00<?, ?it/s]"
      ]
     },
     "metadata": {},
     "output_type": "display_data"
    },
    {
     "data": {
      "application/vnd.jupyter.widget-view+json": {
       "model_id": "",
       "version_major": 2,
       "version_minor": 0
      },
      "text/plain": [
       "  0%|          | 0/4001 [00:00<?, ?it/s]"
      ]
     },
     "metadata": {},
     "output_type": "display_data"
    },
    {
     "data": {
      "application/vnd.jupyter.widget-view+json": {
       "model_id": "",
       "version_major": 2,
       "version_minor": 0
      },
      "text/plain": [
       "  0%|          | 0/4001 [00:00<?, ?it/s]"
      ]
     },
     "metadata": {},
     "output_type": "display_data"
    },
    {
     "data": {
      "application/vnd.jupyter.widget-view+json": {
       "model_id": "",
       "version_major": 2,
       "version_minor": 0
      },
      "text/plain": [
       "  0%|          | 0/4001 [00:00<?, ?it/s]"
      ]
     },
     "metadata": {},
     "output_type": "display_data"
    },
    {
     "data": {
      "application/vnd.jupyter.widget-view+json": {
       "model_id": "",
       "version_major": 2,
       "version_minor": 0
      },
      "text/plain": [
       "  0%|          | 0/4001 [00:00<?, ?it/s]"
      ]
     },
     "metadata": {},
     "output_type": "display_data"
    },
    {
     "data": {
      "application/vnd.jupyter.widget-view+json": {
       "model_id": "",
       "version_major": 2,
       "version_minor": 0
      },
      "text/plain": [
       "  0%|          | 0/4001 [00:00<?, ?it/s]"
      ]
     },
     "metadata": {},
     "output_type": "display_data"
    },
    {
     "data": {
      "application/vnd.jupyter.widget-view+json": {
       "model_id": "",
       "version_major": 2,
       "version_minor": 0
      },
      "text/plain": [
       "  0%|          | 0/4001 [00:00<?, ?it/s]"
      ]
     },
     "metadata": {},
     "output_type": "display_data"
    },
    {
     "data": {
      "application/vnd.jupyter.widget-view+json": {
       "model_id": "",
       "version_major": 2,
       "version_minor": 0
      },
      "text/plain": [
       "  0%|          | 0/4001 [00:00<?, ?it/s]"
      ]
     },
     "metadata": {},
     "output_type": "display_data"
    },
    {
     "data": {
      "application/vnd.jupyter.widget-view+json": {
       "model_id": "",
       "version_major": 2,
       "version_minor": 0
      },
      "text/plain": [
       "  0%|          | 0/4001 [00:00<?, ?it/s]"
      ]
     },
     "metadata": {},
     "output_type": "display_data"
    },
    {
     "data": {
      "application/vnd.jupyter.widget-view+json": {
       "model_id": "",
       "version_major": 2,
       "version_minor": 0
      },
      "text/plain": [
       "  0%|          | 0/4001 [00:00<?, ?it/s]"
      ]
     },
     "metadata": {},
     "output_type": "display_data"
    },
    {
     "data": {
      "application/vnd.jupyter.widget-view+json": {
       "model_id": "",
       "version_major": 2,
       "version_minor": 0
      },
      "text/plain": [
       "  0%|          | 0/4001 [00:00<?, ?it/s]"
      ]
     },
     "metadata": {},
     "output_type": "display_data"
    },
    {
     "data": {
      "application/vnd.jupyter.widget-view+json": {
       "model_id": "",
       "version_major": 2,
       "version_minor": 0
      },
      "text/plain": [
       "  0%|          | 0/4001 [00:00<?, ?it/s]"
      ]
     },
     "metadata": {},
     "output_type": "display_data"
    },
    {
     "data": {
      "application/vnd.jupyter.widget-view+json": {
       "model_id": "",
       "version_major": 2,
       "version_minor": 0
      },
      "text/plain": [
       "  0%|          | 0/4001 [00:00<?, ?it/s]"
      ]
     },
     "metadata": {},
     "output_type": "display_data"
    },
    {
     "data": {
      "application/vnd.jupyter.widget-view+json": {
       "model_id": "",
       "version_major": 2,
       "version_minor": 0
      },
      "text/plain": [
       "  0%|          | 0/4001 [00:00<?, ?it/s]"
      ]
     },
     "metadata": {},
     "output_type": "display_data"
    },
    {
     "data": {
      "application/vnd.jupyter.widget-view+json": {
       "model_id": "",
       "version_major": 2,
       "version_minor": 0
      },
      "text/plain": [
       "  0%|          | 0/4001 [00:00<?, ?it/s]"
      ]
     },
     "metadata": {},
     "output_type": "display_data"
    },
    {
     "data": {
      "application/vnd.jupyter.widget-view+json": {
       "model_id": "",
       "version_major": 2,
       "version_minor": 0
      },
      "text/plain": [
       "  0%|          | 0/4001 [00:00<?, ?it/s]"
      ]
     },
     "metadata": {},
     "output_type": "display_data"
    },
    {
     "data": {
      "application/vnd.jupyter.widget-view+json": {
       "model_id": "",
       "version_major": 2,
       "version_minor": 0
      },
      "text/plain": [
       "  0%|          | 0/4001 [00:00<?, ?it/s]"
      ]
     },
     "metadata": {},
     "output_type": "display_data"
    },
    {
     "data": {
      "application/vnd.jupyter.widget-view+json": {
       "model_id": "",
       "version_major": 2,
       "version_minor": 0
      },
      "text/plain": [
       "  0%|          | 0/4001 [00:00<?, ?it/s]"
      ]
     },
     "metadata": {},
     "output_type": "display_data"
    },
    {
     "data": {
      "application/vnd.jupyter.widget-view+json": {
       "model_id": "",
       "version_major": 2,
       "version_minor": 0
      },
      "text/plain": [
       "  0%|          | 0/4001 [00:00<?, ?it/s]"
      ]
     },
     "metadata": {},
     "output_type": "display_data"
    },
    {
     "data": {
      "application/vnd.jupyter.widget-view+json": {
       "model_id": "",
       "version_major": 2,
       "version_minor": 0
      },
      "text/plain": [
       "  0%|          | 0/4001 [00:00<?, ?it/s]"
      ]
     },
     "metadata": {},
     "output_type": "display_data"
    },
    {
     "data": {
      "application/vnd.jupyter.widget-view+json": {
       "model_id": "",
       "version_major": 2,
       "version_minor": 0
      },
      "text/plain": [
       "  0%|          | 0/4001 [00:00<?, ?it/s]"
      ]
     },
     "metadata": {},
     "output_type": "display_data"
    },
    {
     "data": {
      "application/vnd.jupyter.widget-view+json": {
       "model_id": "",
       "version_major": 2,
       "version_minor": 0
      },
      "text/plain": [
       "  0%|          | 0/4001 [00:00<?, ?it/s]"
      ]
     },
     "metadata": {},
     "output_type": "display_data"
    },
    {
     "data": {
      "application/vnd.jupyter.widget-view+json": {
       "model_id": "",
       "version_major": 2,
       "version_minor": 0
      },
      "text/plain": [
       "  0%|          | 0/4001 [00:00<?, ?it/s]"
      ]
     },
     "metadata": {},
     "output_type": "display_data"
    },
    {
     "data": {
      "application/vnd.jupyter.widget-view+json": {
       "model_id": "",
       "version_major": 2,
       "version_minor": 0
      },
      "text/plain": [
       "  0%|          | 0/4001 [00:00<?, ?it/s]"
      ]
     },
     "metadata": {},
     "output_type": "display_data"
    },
    {
     "data": {
      "application/vnd.jupyter.widget-view+json": {
       "model_id": "",
       "version_major": 2,
       "version_minor": 0
      },
      "text/plain": [
       "  0%|          | 0/4001 [00:00<?, ?it/s]"
      ]
     },
     "metadata": {},
     "output_type": "display_data"
    },
    {
     "data": {
      "application/vnd.jupyter.widget-view+json": {
       "model_id": "",
       "version_major": 2,
       "version_minor": 0
      },
      "text/plain": [
       "  0%|          | 0/4001 [00:00<?, ?it/s]"
      ]
     },
     "metadata": {},
     "output_type": "display_data"
    },
    {
     "data": {
      "application/vnd.jupyter.widget-view+json": {
       "model_id": "",
       "version_major": 2,
       "version_minor": 0
      },
      "text/plain": [
       "  0%|          | 0/4001 [00:00<?, ?it/s]"
      ]
     },
     "metadata": {},
     "output_type": "display_data"
    },
    {
     "data": {
      "application/vnd.jupyter.widget-view+json": {
       "model_id": "",
       "version_major": 2,
       "version_minor": 0
      },
      "text/plain": [
       "  0%|          | 0/4001 [00:00<?, ?it/s]"
      ]
     },
     "metadata": {},
     "output_type": "display_data"
    },
    {
     "data": {
      "application/vnd.jupyter.widget-view+json": {
       "model_id": "",
       "version_major": 2,
       "version_minor": 0
      },
      "text/plain": [
       "  0%|          | 0/4001 [00:00<?, ?it/s]"
      ]
     },
     "metadata": {},
     "output_type": "display_data"
    },
    {
     "data": {
      "application/vnd.jupyter.widget-view+json": {
       "model_id": "",
       "version_major": 2,
       "version_minor": 0
      },
      "text/plain": [
       "  0%|          | 0/4001 [00:00<?, ?it/s]"
      ]
     },
     "metadata": {},
     "output_type": "display_data"
    },
    {
     "data": {
      "application/vnd.jupyter.widget-view+json": {
       "model_id": "",
       "version_major": 2,
       "version_minor": 0
      },
      "text/plain": [
       "  0%|          | 0/4001 [00:00<?, ?it/s]"
      ]
     },
     "metadata": {},
     "output_type": "display_data"
    },
    {
     "data": {
      "application/vnd.jupyter.widget-view+json": {
       "model_id": "",
       "version_major": 2,
       "version_minor": 0
      },
      "text/plain": [
       "  0%|          | 0/4001 [00:00<?, ?it/s]"
      ]
     },
     "metadata": {},
     "output_type": "display_data"
    },
    {
     "data": {
      "application/vnd.jupyter.widget-view+json": {
       "model_id": "",
       "version_major": 2,
       "version_minor": 0
      },
      "text/plain": [
       "  0%|          | 0/4001 [00:00<?, ?it/s]"
      ]
     },
     "metadata": {},
     "output_type": "display_data"
    },
    {
     "data": {
      "application/vnd.jupyter.widget-view+json": {
       "model_id": "",
       "version_major": 2,
       "version_minor": 0
      },
      "text/plain": [
       "  0%|          | 0/4001 [00:00<?, ?it/s]"
      ]
     },
     "metadata": {},
     "output_type": "display_data"
    },
    {
     "data": {
      "application/vnd.jupyter.widget-view+json": {
       "model_id": "",
       "version_major": 2,
       "version_minor": 0
      },
      "text/plain": [
       "  0%|          | 0/4001 [00:00<?, ?it/s]"
      ]
     },
     "metadata": {},
     "output_type": "display_data"
    },
    {
     "data": {
      "application/vnd.jupyter.widget-view+json": {
       "model_id": "",
       "version_major": 2,
       "version_minor": 0
      },
      "text/plain": [
       "  0%|          | 0/4001 [00:00<?, ?it/s]"
      ]
     },
     "metadata": {},
     "output_type": "display_data"
    },
    {
     "data": {
      "application/vnd.jupyter.widget-view+json": {
       "model_id": "",
       "version_major": 2,
       "version_minor": 0
      },
      "text/plain": [
       "  0%|          | 0/4001 [00:00<?, ?it/s]"
      ]
     },
     "metadata": {},
     "output_type": "display_data"
    },
    {
     "data": {
      "application/vnd.jupyter.widget-view+json": {
       "model_id": "",
       "version_major": 2,
       "version_minor": 0
      },
      "text/plain": [
       "  0%|          | 0/4001 [00:00<?, ?it/s]"
      ]
     },
     "metadata": {},
     "output_type": "display_data"
    },
    {
     "data": {
      "application/vnd.jupyter.widget-view+json": {
       "model_id": "",
       "version_major": 2,
       "version_minor": 0
      },
      "text/plain": [
       "  0%|          | 0/4001 [00:00<?, ?it/s]"
      ]
     },
     "metadata": {},
     "output_type": "display_data"
    },
    {
     "data": {
      "application/vnd.jupyter.widget-view+json": {
       "model_id": "",
       "version_major": 2,
       "version_minor": 0
      },
      "text/plain": [
       "  0%|          | 0/4001 [00:00<?, ?it/s]"
      ]
     },
     "metadata": {},
     "output_type": "display_data"
    },
    {
     "data": {
      "application/vnd.jupyter.widget-view+json": {
       "model_id": "",
       "version_major": 2,
       "version_minor": 0
      },
      "text/plain": [
       "  0%|          | 0/4001 [00:00<?, ?it/s]"
      ]
     },
     "metadata": {},
     "output_type": "display_data"
    },
    {
     "data": {
      "application/vnd.jupyter.widget-view+json": {
       "model_id": "",
       "version_major": 2,
       "version_minor": 0
      },
      "text/plain": [
       "  0%|          | 0/4001 [00:00<?, ?it/s]"
      ]
     },
     "metadata": {},
     "output_type": "display_data"
    },
    {
     "data": {
      "application/vnd.jupyter.widget-view+json": {
       "model_id": "",
       "version_major": 2,
       "version_minor": 0
      },
      "text/plain": [
       "  0%|          | 0/4001 [00:00<?, ?it/s]"
      ]
     },
     "metadata": {},
     "output_type": "display_data"
    },
    {
     "data": {
      "application/vnd.jupyter.widget-view+json": {
       "model_id": "",
       "version_major": 2,
       "version_minor": 0
      },
      "text/plain": [
       "  0%|          | 0/4001 [00:00<?, ?it/s]"
      ]
     },
     "metadata": {},
     "output_type": "display_data"
    },
    {
     "data": {
      "application/vnd.jupyter.widget-view+json": {
       "model_id": "",
       "version_major": 2,
       "version_minor": 0
      },
      "text/plain": [
       "  0%|          | 0/4001 [00:00<?, ?it/s]"
      ]
     },
     "metadata": {},
     "output_type": "display_data"
    },
    {
     "data": {
      "application/vnd.jupyter.widget-view+json": {
       "model_id": "",
       "version_major": 2,
       "version_minor": 0
      },
      "text/plain": [
       "  0%|          | 0/4001 [00:00<?, ?it/s]"
      ]
     },
     "metadata": {},
     "output_type": "display_data"
    },
    {
     "data": {
      "application/vnd.jupyter.widget-view+json": {
       "model_id": "",
       "version_major": 2,
       "version_minor": 0
      },
      "text/plain": [
       "  0%|          | 0/4001 [00:00<?, ?it/s]"
      ]
     },
     "metadata": {},
     "output_type": "display_data"
    },
    {
     "data": {
      "application/vnd.jupyter.widget-view+json": {
       "model_id": "",
       "version_major": 2,
       "version_minor": 0
      },
      "text/plain": [
       "  0%|          | 0/4001 [00:00<?, ?it/s]"
      ]
     },
     "metadata": {},
     "output_type": "display_data"
    },
    {
     "data": {
      "application/vnd.jupyter.widget-view+json": {
       "model_id": "",
       "version_major": 2,
       "version_minor": 0
      },
      "text/plain": [
       "  0%|          | 0/4001 [00:00<?, ?it/s]"
      ]
     },
     "metadata": {},
     "output_type": "display_data"
    },
    {
     "data": {
      "application/vnd.jupyter.widget-view+json": {
       "model_id": "",
       "version_major": 2,
       "version_minor": 0
      },
      "text/plain": [
       "  0%|          | 0/4001 [00:00<?, ?it/s]"
      ]
     },
     "metadata": {},
     "output_type": "display_data"
    },
    {
     "data": {
      "application/vnd.jupyter.widget-view+json": {
       "model_id": "",
       "version_major": 2,
       "version_minor": 0
      },
      "text/plain": [
       "  0%|          | 0/4001 [00:00<?, ?it/s]"
      ]
     },
     "metadata": {},
     "output_type": "display_data"
    },
    {
     "data": {
      "application/vnd.jupyter.widget-view+json": {
       "model_id": "",
       "version_major": 2,
       "version_minor": 0
      },
      "text/plain": [
       "  0%|          | 0/4001 [00:00<?, ?it/s]"
      ]
     },
     "metadata": {},
     "output_type": "display_data"
    },
    {
     "data": {
      "application/vnd.jupyter.widget-view+json": {
       "model_id": "",
       "version_major": 2,
       "version_minor": 0
      },
      "text/plain": [
       "  0%|          | 0/4001 [00:00<?, ?it/s]"
      ]
     },
     "metadata": {},
     "output_type": "display_data"
    },
    {
     "data": {
      "application/vnd.jupyter.widget-view+json": {
       "model_id": "",
       "version_major": 2,
       "version_minor": 0
      },
      "text/plain": [
       "  0%|          | 0/4001 [00:00<?, ?it/s]"
      ]
     },
     "metadata": {},
     "output_type": "display_data"
    },
    {
     "data": {
      "application/vnd.jupyter.widget-view+json": {
       "model_id": "",
       "version_major": 2,
       "version_minor": 0
      },
      "text/plain": [
       "  0%|          | 0/4001 [00:00<?, ?it/s]"
      ]
     },
     "metadata": {},
     "output_type": "display_data"
    },
    {
     "data": {
      "application/vnd.jupyter.widget-view+json": {
       "model_id": "",
       "version_major": 2,
       "version_minor": 0
      },
      "text/plain": [
       "  0%|          | 0/4001 [00:00<?, ?it/s]"
      ]
     },
     "metadata": {},
     "output_type": "display_data"
    },
    {
     "data": {
      "application/vnd.jupyter.widget-view+json": {
       "model_id": "",
       "version_major": 2,
       "version_minor": 0
      },
      "text/plain": [
       "  0%|          | 0/4001 [00:00<?, ?it/s]"
      ]
     },
     "metadata": {},
     "output_type": "display_data"
    },
    {
     "data": {
      "application/vnd.jupyter.widget-view+json": {
       "model_id": "",
       "version_major": 2,
       "version_minor": 0
      },
      "text/plain": [
       "  0%|          | 0/4001 [00:00<?, ?it/s]"
      ]
     },
     "metadata": {},
     "output_type": "display_data"
    },
    {
     "data": {
      "application/vnd.jupyter.widget-view+json": {
       "model_id": "",
       "version_major": 2,
       "version_minor": 0
      },
      "text/plain": [
       "  0%|          | 0/4001 [00:00<?, ?it/s]"
      ]
     },
     "metadata": {},
     "output_type": "display_data"
    },
    {
     "data": {
      "application/vnd.jupyter.widget-view+json": {
       "model_id": "",
       "version_major": 2,
       "version_minor": 0
      },
      "text/plain": [
       "  0%|          | 0/4001 [00:00<?, ?it/s]"
      ]
     },
     "metadata": {},
     "output_type": "display_data"
    },
    {
     "data": {
      "application/vnd.jupyter.widget-view+json": {
       "model_id": "",
       "version_major": 2,
       "version_minor": 0
      },
      "text/plain": [
       "  0%|          | 0/4001 [00:00<?, ?it/s]"
      ]
     },
     "metadata": {},
     "output_type": "display_data"
    },
    {
     "data": {
      "application/vnd.jupyter.widget-view+json": {
       "model_id": "",
       "version_major": 2,
       "version_minor": 0
      },
      "text/plain": [
       "  0%|          | 0/4001 [00:00<?, ?it/s]"
      ]
     },
     "metadata": {},
     "output_type": "display_data"
    },
    {
     "data": {
      "application/vnd.jupyter.widget-view+json": {
       "model_id": "",
       "version_major": 2,
       "version_minor": 0
      },
      "text/plain": [
       "  0%|          | 0/4001 [00:00<?, ?it/s]"
      ]
     },
     "metadata": {},
     "output_type": "display_data"
    },
    {
     "data": {
      "application/vnd.jupyter.widget-view+json": {
       "model_id": "",
       "version_major": 2,
       "version_minor": 0
      },
      "text/plain": [
       "  0%|          | 0/4001 [00:00<?, ?it/s]"
      ]
     },
     "metadata": {},
     "output_type": "display_data"
    },
    {
     "data": {
      "application/vnd.jupyter.widget-view+json": {
       "model_id": "",
       "version_major": 2,
       "version_minor": 0
      },
      "text/plain": [
       "  0%|          | 0/4001 [00:00<?, ?it/s]"
      ]
     },
     "metadata": {},
     "output_type": "display_data"
    },
    {
     "data": {
      "application/vnd.jupyter.widget-view+json": {
       "model_id": "",
       "version_major": 2,
       "version_minor": 0
      },
      "text/plain": [
       "  0%|          | 0/4001 [00:00<?, ?it/s]"
      ]
     },
     "metadata": {},
     "output_type": "display_data"
    },
    {
     "data": {
      "application/vnd.jupyter.widget-view+json": {
       "model_id": "",
       "version_major": 2,
       "version_minor": 0
      },
      "text/plain": [
       "  0%|          | 0/4001 [00:00<?, ?it/s]"
      ]
     },
     "metadata": {},
     "output_type": "display_data"
    },
    {
     "data": {
      "application/vnd.jupyter.widget-view+json": {
       "model_id": "",
       "version_major": 2,
       "version_minor": 0
      },
      "text/plain": [
       "  0%|          | 0/4001 [00:00<?, ?it/s]"
      ]
     },
     "metadata": {},
     "output_type": "display_data"
    },
    {
     "data": {
      "application/vnd.jupyter.widget-view+json": {
       "model_id": "",
       "version_major": 2,
       "version_minor": 0
      },
      "text/plain": [
       "  0%|          | 0/4001 [00:00<?, ?it/s]"
      ]
     },
     "metadata": {},
     "output_type": "display_data"
    },
    {
     "data": {
      "application/vnd.jupyter.widget-view+json": {
       "model_id": "",
       "version_major": 2,
       "version_minor": 0
      },
      "text/plain": [
       "  0%|          | 0/4001 [00:00<?, ?it/s]"
      ]
     },
     "metadata": {},
     "output_type": "display_data"
    },
    {
     "data": {
      "application/vnd.jupyter.widget-view+json": {
       "model_id": "",
       "version_major": 2,
       "version_minor": 0
      },
      "text/plain": [
       "  0%|          | 0/4001 [00:00<?, ?it/s]"
      ]
     },
     "metadata": {},
     "output_type": "display_data"
    },
    {
     "data": {
      "application/vnd.jupyter.widget-view+json": {
       "model_id": "",
       "version_major": 2,
       "version_minor": 0
      },
      "text/plain": [
       "  0%|          | 0/4001 [00:00<?, ?it/s]"
      ]
     },
     "metadata": {},
     "output_type": "display_data"
    },
    {
     "data": {
      "application/vnd.jupyter.widget-view+json": {
       "model_id": "",
       "version_major": 2,
       "version_minor": 0
      },
      "text/plain": [
       "  0%|          | 0/4001 [00:00<?, ?it/s]"
      ]
     },
     "metadata": {},
     "output_type": "display_data"
    },
    {
     "data": {
      "application/vnd.jupyter.widget-view+json": {
       "model_id": "",
       "version_major": 2,
       "version_minor": 0
      },
      "text/plain": [
       "  0%|          | 0/4001 [00:00<?, ?it/s]"
      ]
     },
     "metadata": {},
     "output_type": "display_data"
    },
    {
     "data": {
      "application/vnd.jupyter.widget-view+json": {
       "model_id": "",
       "version_major": 2,
       "version_minor": 0
      },
      "text/plain": [
       "  0%|          | 0/4001 [00:00<?, ?it/s]"
      ]
     },
     "metadata": {},
     "output_type": "display_data"
    },
    {
     "data": {
      "application/vnd.jupyter.widget-view+json": {
       "model_id": "",
       "version_major": 2,
       "version_minor": 0
      },
      "text/plain": [
       "  0%|          | 0/4001 [00:00<?, ?it/s]"
      ]
     },
     "metadata": {},
     "output_type": "display_data"
    },
    {
     "data": {
      "application/vnd.jupyter.widget-view+json": {
       "model_id": "",
       "version_major": 2,
       "version_minor": 0
      },
      "text/plain": [
       "  0%|          | 0/4001 [00:00<?, ?it/s]"
      ]
     },
     "metadata": {},
     "output_type": "display_data"
    },
    {
     "data": {
      "application/vnd.jupyter.widget-view+json": {
       "model_id": "",
       "version_major": 2,
       "version_minor": 0
      },
      "text/plain": [
       "  0%|          | 0/4001 [00:00<?, ?it/s]"
      ]
     },
     "metadata": {},
     "output_type": "display_data"
    },
    {
     "data": {
      "application/vnd.jupyter.widget-view+json": {
       "model_id": "",
       "version_major": 2,
       "version_minor": 0
      },
      "text/plain": [
       "  0%|          | 0/4001 [00:00<?, ?it/s]"
      ]
     },
     "metadata": {},
     "output_type": "display_data"
    },
    {
     "data": {
      "application/vnd.jupyter.widget-view+json": {
       "model_id": "",
       "version_major": 2,
       "version_minor": 0
      },
      "text/plain": [
       "  0%|          | 0/4001 [00:00<?, ?it/s]"
      ]
     },
     "metadata": {},
     "output_type": "display_data"
    },
    {
     "data": {
      "application/vnd.jupyter.widget-view+json": {
       "model_id": "",
       "version_major": 2,
       "version_minor": 0
      },
      "text/plain": [
       "  0%|          | 0/4001 [00:00<?, ?it/s]"
      ]
     },
     "metadata": {},
     "output_type": "display_data"
    },
    {
     "data": {
      "application/vnd.jupyter.widget-view+json": {
       "model_id": "",
       "version_major": 2,
       "version_minor": 0
      },
      "text/plain": [
       "  0%|          | 0/4001 [00:00<?, ?it/s]"
      ]
     },
     "metadata": {},
     "output_type": "display_data"
    },
    {
     "data": {
      "application/vnd.jupyter.widget-view+json": {
       "model_id": "",
       "version_major": 2,
       "version_minor": 0
      },
      "text/plain": [
       "  0%|          | 0/4001 [00:00<?, ?it/s]"
      ]
     },
     "metadata": {},
     "output_type": "display_data"
    },
    {
     "data": {
      "application/vnd.jupyter.widget-view+json": {
       "model_id": "",
       "version_major": 2,
       "version_minor": 0
      },
      "text/plain": [
       "  0%|          | 0/4001 [00:00<?, ?it/s]"
      ]
     },
     "metadata": {},
     "output_type": "display_data"
    },
    {
     "data": {
      "application/vnd.jupyter.widget-view+json": {
       "model_id": "",
       "version_major": 2,
       "version_minor": 0
      },
      "text/plain": [
       "  0%|          | 0/4001 [00:00<?, ?it/s]"
      ]
     },
     "metadata": {},
     "output_type": "display_data"
    },
    {
     "data": {
      "application/vnd.jupyter.widget-view+json": {
       "model_id": "",
       "version_major": 2,
       "version_minor": 0
      },
      "text/plain": [
       "  0%|          | 0/4001 [00:00<?, ?it/s]"
      ]
     },
     "metadata": {},
     "output_type": "display_data"
    },
    {
     "data": {
      "application/vnd.jupyter.widget-view+json": {
       "model_id": "",
       "version_major": 2,
       "version_minor": 0
      },
      "text/plain": [
       "  0%|          | 0/4001 [00:00<?, ?it/s]"
      ]
     },
     "metadata": {},
     "output_type": "display_data"
    },
    {
     "data": {
      "application/vnd.jupyter.widget-view+json": {
       "model_id": "",
       "version_major": 2,
       "version_minor": 0
      },
      "text/plain": [
       "  0%|          | 0/4001 [00:00<?, ?it/s]"
      ]
     },
     "metadata": {},
     "output_type": "display_data"
    },
    {
     "data": {
      "application/vnd.jupyter.widget-view+json": {
       "model_id": "",
       "version_major": 2,
       "version_minor": 0
      },
      "text/plain": [
       "  0%|          | 0/4001 [00:00<?, ?it/s]"
      ]
     },
     "metadata": {},
     "output_type": "display_data"
    },
    {
     "data": {
      "application/vnd.jupyter.widget-view+json": {
       "model_id": "",
       "version_major": 2,
       "version_minor": 0
      },
      "text/plain": [
       "  0%|          | 0/4001 [00:00<?, ?it/s]"
      ]
     },
     "metadata": {},
     "output_type": "display_data"
    },
    {
     "data": {
      "application/vnd.jupyter.widget-view+json": {
       "model_id": "",
       "version_major": 2,
       "version_minor": 0
      },
      "text/plain": [
       "  0%|          | 0/4001 [00:00<?, ?it/s]"
      ]
     },
     "metadata": {},
     "output_type": "display_data"
    },
    {
     "data": {
      "application/vnd.jupyter.widget-view+json": {
       "model_id": "",
       "version_major": 2,
       "version_minor": 0
      },
      "text/plain": [
       "  0%|          | 0/4001 [00:00<?, ?it/s]"
      ]
     },
     "metadata": {},
     "output_type": "display_data"
    },
    {
     "data": {
      "application/vnd.jupyter.widget-view+json": {
       "model_id": "",
       "version_major": 2,
       "version_minor": 0
      },
      "text/plain": [
       "  0%|          | 0/4001 [00:00<?, ?it/s]"
      ]
     },
     "metadata": {},
     "output_type": "display_data"
    },
    {
     "data": {
      "application/vnd.jupyter.widget-view+json": {
       "model_id": "",
       "version_major": 2,
       "version_minor": 0
      },
      "text/plain": [
       "  0%|          | 0/4001 [00:00<?, ?it/s]"
      ]
     },
     "metadata": {},
     "output_type": "display_data"
    },
    {
     "data": {
      "application/vnd.jupyter.widget-view+json": {
       "model_id": "",
       "version_major": 2,
       "version_minor": 0
      },
      "text/plain": [
       "  0%|          | 0/4001 [00:00<?, ?it/s]"
      ]
     },
     "metadata": {},
     "output_type": "display_data"
    },
    {
     "data": {
      "application/vnd.jupyter.widget-view+json": {
       "model_id": "",
       "version_major": 2,
       "version_minor": 0
      },
      "text/plain": [
       "  0%|          | 0/4001 [00:00<?, ?it/s]"
      ]
     },
     "metadata": {},
     "output_type": "display_data"
    },
    {
     "data": {
      "application/vnd.jupyter.widget-view+json": {
       "model_id": "",
       "version_major": 2,
       "version_minor": 0
      },
      "text/plain": [
       "  0%|          | 0/4001 [00:00<?, ?it/s]"
      ]
     },
     "metadata": {},
     "output_type": "display_data"
    },
    {
     "data": {
      "application/vnd.jupyter.widget-view+json": {
       "model_id": "",
       "version_major": 2,
       "version_minor": 0
      },
      "text/plain": [
       "  0%|          | 0/4001 [00:00<?, ?it/s]"
      ]
     },
     "metadata": {},
     "output_type": "display_data"
    },
    {
     "data": {
      "application/vnd.jupyter.widget-view+json": {
       "model_id": "",
       "version_major": 2,
       "version_minor": 0
      },
      "text/plain": [
       "  0%|          | 0/4001 [00:00<?, ?it/s]"
      ]
     },
     "metadata": {},
     "output_type": "display_data"
    },
    {
     "data": {
      "application/vnd.jupyter.widget-view+json": {
       "model_id": "",
       "version_major": 2,
       "version_minor": 0
      },
      "text/plain": [
       "  0%|          | 0/4001 [00:00<?, ?it/s]"
      ]
     },
     "metadata": {},
     "output_type": "display_data"
    },
    {
     "data": {
      "application/vnd.jupyter.widget-view+json": {
       "model_id": "",
       "version_major": 2,
       "version_minor": 0
      },
      "text/plain": [
       "  0%|          | 0/4001 [00:00<?, ?it/s]"
      ]
     },
     "metadata": {},
     "output_type": "display_data"
    },
    {
     "data": {
      "application/vnd.jupyter.widget-view+json": {
       "model_id": "",
       "version_major": 2,
       "version_minor": 0
      },
      "text/plain": [
       "  0%|          | 0/4001 [00:00<?, ?it/s]"
      ]
     },
     "metadata": {},
     "output_type": "display_data"
    },
    {
     "data": {
      "application/vnd.jupyter.widget-view+json": {
       "model_id": "",
       "version_major": 2,
       "version_minor": 0
      },
      "text/plain": [
       "  0%|          | 0/4001 [00:00<?, ?it/s]"
      ]
     },
     "metadata": {},
     "output_type": "display_data"
    },
    {
     "data": {
      "application/vnd.jupyter.widget-view+json": {
       "model_id": "",
       "version_major": 2,
       "version_minor": 0
      },
      "text/plain": [
       "  0%|          | 0/4001 [00:00<?, ?it/s]"
      ]
     },
     "metadata": {},
     "output_type": "display_data"
    },
    {
     "data": {
      "application/vnd.jupyter.widget-view+json": {
       "model_id": "",
       "version_major": 2,
       "version_minor": 0
      },
      "text/plain": [
       "  0%|          | 0/4001 [00:00<?, ?it/s]"
      ]
     },
     "metadata": {},
     "output_type": "display_data"
    },
    {
     "data": {
      "application/vnd.jupyter.widget-view+json": {
       "model_id": "",
       "version_major": 2,
       "version_minor": 0
      },
      "text/plain": [
       "  0%|          | 0/4001 [00:00<?, ?it/s]"
      ]
     },
     "metadata": {},
     "output_type": "display_data"
    },
    {
     "data": {
      "application/vnd.jupyter.widget-view+json": {
       "model_id": "",
       "version_major": 2,
       "version_minor": 0
      },
      "text/plain": [
       "  0%|          | 0/4001 [00:00<?, ?it/s]"
      ]
     },
     "metadata": {},
     "output_type": "display_data"
    },
    {
     "data": {
      "application/vnd.jupyter.widget-view+json": {
       "model_id": "",
       "version_major": 2,
       "version_minor": 0
      },
      "text/plain": [
       "  0%|          | 0/4001 [00:00<?, ?it/s]"
      ]
     },
     "metadata": {},
     "output_type": "display_data"
    },
    {
     "data": {
      "application/vnd.jupyter.widget-view+json": {
       "model_id": "",
       "version_major": 2,
       "version_minor": 0
      },
      "text/plain": [
       "  0%|          | 0/4001 [00:00<?, ?it/s]"
      ]
     },
     "metadata": {},
     "output_type": "display_data"
    },
    {
     "data": {
      "application/vnd.jupyter.widget-view+json": {
       "model_id": "",
       "version_major": 2,
       "version_minor": 0
      },
      "text/plain": [
       "  0%|          | 0/4001 [00:00<?, ?it/s]"
      ]
     },
     "metadata": {},
     "output_type": "display_data"
    },
    {
     "data": {
      "application/vnd.jupyter.widget-view+json": {
       "model_id": "",
       "version_major": 2,
       "version_minor": 0
      },
      "text/plain": [
       "  0%|          | 0/4001 [00:00<?, ?it/s]"
      ]
     },
     "metadata": {},
     "output_type": "display_data"
    },
    {
     "data": {
      "application/vnd.jupyter.widget-view+json": {
       "model_id": "",
       "version_major": 2,
       "version_minor": 0
      },
      "text/plain": [
       "  0%|          | 0/4001 [00:00<?, ?it/s]"
      ]
     },
     "metadata": {},
     "output_type": "display_data"
    },
    {
     "data": {
      "application/vnd.jupyter.widget-view+json": {
       "model_id": "",
       "version_major": 2,
       "version_minor": 0
      },
      "text/plain": [
       "  0%|          | 0/4001 [00:00<?, ?it/s]"
      ]
     },
     "metadata": {},
     "output_type": "display_data"
    },
    {
     "data": {
      "application/vnd.jupyter.widget-view+json": {
       "model_id": "",
       "version_major": 2,
       "version_minor": 0
      },
      "text/plain": [
       "  0%|          | 0/4001 [00:00<?, ?it/s]"
      ]
     },
     "metadata": {},
     "output_type": "display_data"
    },
    {
     "data": {
      "application/vnd.jupyter.widget-view+json": {
       "model_id": "",
       "version_major": 2,
       "version_minor": 0
      },
      "text/plain": [
       "  0%|          | 0/4001 [00:00<?, ?it/s]"
      ]
     },
     "metadata": {},
     "output_type": "display_data"
    },
    {
     "data": {
      "application/vnd.jupyter.widget-view+json": {
       "model_id": "",
       "version_major": 2,
       "version_minor": 0
      },
      "text/plain": [
       "  0%|          | 0/4001 [00:00<?, ?it/s]"
      ]
     },
     "metadata": {},
     "output_type": "display_data"
    },
    {
     "data": {
      "application/vnd.jupyter.widget-view+json": {
       "model_id": "",
       "version_major": 2,
       "version_minor": 0
      },
      "text/plain": [
       "  0%|          | 0/4001 [00:00<?, ?it/s]"
      ]
     },
     "metadata": {},
     "output_type": "display_data"
    },
    {
     "data": {
      "application/vnd.jupyter.widget-view+json": {
       "model_id": "",
       "version_major": 2,
       "version_minor": 0
      },
      "text/plain": [
       "  0%|          | 0/4001 [00:00<?, ?it/s]"
      ]
     },
     "metadata": {},
     "output_type": "display_data"
    },
    {
     "data": {
      "application/vnd.jupyter.widget-view+json": {
       "model_id": "",
       "version_major": 2,
       "version_minor": 0
      },
      "text/plain": [
       "  0%|          | 0/4001 [00:00<?, ?it/s]"
      ]
     },
     "metadata": {},
     "output_type": "display_data"
    },
    {
     "data": {
      "application/vnd.jupyter.widget-view+json": {
       "model_id": "",
       "version_major": 2,
       "version_minor": 0
      },
      "text/plain": [
       "  0%|          | 0/4001 [00:00<?, ?it/s]"
      ]
     },
     "metadata": {},
     "output_type": "display_data"
    },
    {
     "data": {
      "application/vnd.jupyter.widget-view+json": {
       "model_id": "",
       "version_major": 2,
       "version_minor": 0
      },
      "text/plain": [
       "  0%|          | 0/4001 [00:00<?, ?it/s]"
      ]
     },
     "metadata": {},
     "output_type": "display_data"
    },
    {
     "data": {
      "application/vnd.jupyter.widget-view+json": {
       "model_id": "",
       "version_major": 2,
       "version_minor": 0
      },
      "text/plain": [
       "  0%|          | 0/4001 [00:00<?, ?it/s]"
      ]
     },
     "metadata": {},
     "output_type": "display_data"
    },
    {
     "data": {
      "application/vnd.jupyter.widget-view+json": {
       "model_id": "",
       "version_major": 2,
       "version_minor": 0
      },
      "text/plain": [
       "  0%|          | 0/4001 [00:00<?, ?it/s]"
      ]
     },
     "metadata": {},
     "output_type": "display_data"
    },
    {
     "data": {
      "application/vnd.jupyter.widget-view+json": {
       "model_id": "",
       "version_major": 2,
       "version_minor": 0
      },
      "text/plain": [
       "  0%|          | 0/4001 [00:00<?, ?it/s]"
      ]
     },
     "metadata": {},
     "output_type": "display_data"
    },
    {
     "data": {
      "application/vnd.jupyter.widget-view+json": {
       "model_id": "",
       "version_major": 2,
       "version_minor": 0
      },
      "text/plain": [
       "  0%|          | 0/4001 [00:00<?, ?it/s]"
      ]
     },
     "metadata": {},
     "output_type": "display_data"
    },
    {
     "data": {
      "application/vnd.jupyter.widget-view+json": {
       "model_id": "",
       "version_major": 2,
       "version_minor": 0
      },
      "text/plain": [
       "  0%|          | 0/4001 [00:00<?, ?it/s]"
      ]
     },
     "metadata": {},
     "output_type": "display_data"
    }
   ],
   "source": [
    "for i_v in trange(len(vectors)):\n",
    "    wiki_bench[i_v]['cos_sim']=np.zeros(len(wikivecs))\n",
    "    for i_w, wikivec in enumerate(tqdm(wikivecs, leave=False)):\n",
    "        wiki_bench[i_v]['cos_sim'][i_w]=float(util.cos_sim(wikivec, vectors[i_v]['vector']))"
   ]
  },
  {
   "cell_type": "code",
   "execution_count": 51,
   "id": "dbc044e7",
   "metadata": {
    "ExecuteTime": {
     "end_time": "2025-06-17T11:14:18.551828Z",
     "start_time": "2025-06-17T11:14:18.403016Z"
    }
   },
   "outputs": [],
   "source": [
    "with open('./NewProcessedData/wiki_benchmark.pickle', 'wb') as f:\n",
    "    pickle.dump(wiki_bench, f)"
   ]
  },
  {
   "cell_type": "markdown",
   "id": "e20f0760",
   "metadata": {
    "heading_collapsed": true
   },
   "source": [
    "## Creating the benchmark, at the sector level _[DO NOT EVALUATE IT AGAIN!!!]_"
   ]
  },
  {
   "cell_type": "code",
   "execution_count": 130,
   "id": "38c1c50e",
   "metadata": {
    "ExecuteTime": {
     "end_time": "2025-06-18T07:15:06.188296Z",
     "start_time": "2025-06-18T07:15:06.182170Z"
    },
    "hidden": true
   },
   "outputs": [],
   "source": [
    "wiki_bench_per_sector=np.zeros(l_aggr_rep, dtype=[('cos_sim', object)])"
   ]
  },
  {
   "cell_type": "code",
   "execution_count": 131,
   "id": "b267f798",
   "metadata": {
    "ExecuteTime": {
     "end_time": "2025-06-18T07:17:12.190610Z",
     "start_time": "2025-06-18T07:15:06.932121Z"
    },
    "hidden": true
   },
   "outputs": [
    {
     "data": {
      "application/vnd.jupyter.widget-view+json": {
       "model_id": "9b05083462224020a9ad72fdc926ef1b",
       "version_major": 2,
       "version_minor": 0
      },
      "text/plain": [
       "  0%|          | 0/96 [00:00<?, ?it/s]"
      ]
     },
     "metadata": {},
     "output_type": "display_data"
    },
    {
     "data": {
      "application/vnd.jupyter.widget-view+json": {
       "model_id": "",
       "version_major": 2,
       "version_minor": 0
      },
      "text/plain": [
       "  0%|          | 0/4001 [00:00<?, ?it/s]"
      ]
     },
     "metadata": {},
     "output_type": "display_data"
    },
    {
     "data": {
      "application/vnd.jupyter.widget-view+json": {
       "model_id": "",
       "version_major": 2,
       "version_minor": 0
      },
      "text/plain": [
       "  0%|          | 0/4001 [00:00<?, ?it/s]"
      ]
     },
     "metadata": {},
     "output_type": "display_data"
    },
    {
     "data": {
      "application/vnd.jupyter.widget-view+json": {
       "model_id": "",
       "version_major": 2,
       "version_minor": 0
      },
      "text/plain": [
       "  0%|          | 0/4001 [00:00<?, ?it/s]"
      ]
     },
     "metadata": {},
     "output_type": "display_data"
    },
    {
     "data": {
      "application/vnd.jupyter.widget-view+json": {
       "model_id": "",
       "version_major": 2,
       "version_minor": 0
      },
      "text/plain": [
       "  0%|          | 0/4001 [00:00<?, ?it/s]"
      ]
     },
     "metadata": {},
     "output_type": "display_data"
    },
    {
     "data": {
      "application/vnd.jupyter.widget-view+json": {
       "model_id": "",
       "version_major": 2,
       "version_minor": 0
      },
      "text/plain": [
       "  0%|          | 0/4001 [00:00<?, ?it/s]"
      ]
     },
     "metadata": {},
     "output_type": "display_data"
    },
    {
     "data": {
      "application/vnd.jupyter.widget-view+json": {
       "model_id": "",
       "version_major": 2,
       "version_minor": 0
      },
      "text/plain": [
       "  0%|          | 0/4001 [00:00<?, ?it/s]"
      ]
     },
     "metadata": {},
     "output_type": "display_data"
    },
    {
     "data": {
      "application/vnd.jupyter.widget-view+json": {
       "model_id": "",
       "version_major": 2,
       "version_minor": 0
      },
      "text/plain": [
       "  0%|          | 0/4001 [00:00<?, ?it/s]"
      ]
     },
     "metadata": {},
     "output_type": "display_data"
    },
    {
     "data": {
      "application/vnd.jupyter.widget-view+json": {
       "model_id": "",
       "version_major": 2,
       "version_minor": 0
      },
      "text/plain": [
       "  0%|          | 0/4001 [00:00<?, ?it/s]"
      ]
     },
     "metadata": {},
     "output_type": "display_data"
    },
    {
     "data": {
      "application/vnd.jupyter.widget-view+json": {
       "model_id": "",
       "version_major": 2,
       "version_minor": 0
      },
      "text/plain": [
       "  0%|          | 0/4001 [00:00<?, ?it/s]"
      ]
     },
     "metadata": {},
     "output_type": "display_data"
    },
    {
     "data": {
      "application/vnd.jupyter.widget-view+json": {
       "model_id": "",
       "version_major": 2,
       "version_minor": 0
      },
      "text/plain": [
       "  0%|          | 0/4001 [00:00<?, ?it/s]"
      ]
     },
     "metadata": {},
     "output_type": "display_data"
    },
    {
     "data": {
      "application/vnd.jupyter.widget-view+json": {
       "model_id": "",
       "version_major": 2,
       "version_minor": 0
      },
      "text/plain": [
       "  0%|          | 0/4001 [00:00<?, ?it/s]"
      ]
     },
     "metadata": {},
     "output_type": "display_data"
    },
    {
     "data": {
      "application/vnd.jupyter.widget-view+json": {
       "model_id": "",
       "version_major": 2,
       "version_minor": 0
      },
      "text/plain": [
       "  0%|          | 0/4001 [00:00<?, ?it/s]"
      ]
     },
     "metadata": {},
     "output_type": "display_data"
    },
    {
     "data": {
      "application/vnd.jupyter.widget-view+json": {
       "model_id": "",
       "version_major": 2,
       "version_minor": 0
      },
      "text/plain": [
       "  0%|          | 0/4001 [00:00<?, ?it/s]"
      ]
     },
     "metadata": {},
     "output_type": "display_data"
    },
    {
     "data": {
      "application/vnd.jupyter.widget-view+json": {
       "model_id": "",
       "version_major": 2,
       "version_minor": 0
      },
      "text/plain": [
       "  0%|          | 0/4001 [00:00<?, ?it/s]"
      ]
     },
     "metadata": {},
     "output_type": "display_data"
    },
    {
     "data": {
      "application/vnd.jupyter.widget-view+json": {
       "model_id": "",
       "version_major": 2,
       "version_minor": 0
      },
      "text/plain": [
       "  0%|          | 0/4001 [00:00<?, ?it/s]"
      ]
     },
     "metadata": {},
     "output_type": "display_data"
    },
    {
     "data": {
      "application/vnd.jupyter.widget-view+json": {
       "model_id": "",
       "version_major": 2,
       "version_minor": 0
      },
      "text/plain": [
       "  0%|          | 0/4001 [00:00<?, ?it/s]"
      ]
     },
     "metadata": {},
     "output_type": "display_data"
    },
    {
     "data": {
      "application/vnd.jupyter.widget-view+json": {
       "model_id": "",
       "version_major": 2,
       "version_minor": 0
      },
      "text/plain": [
       "  0%|          | 0/4001 [00:00<?, ?it/s]"
      ]
     },
     "metadata": {},
     "output_type": "display_data"
    },
    {
     "data": {
      "application/vnd.jupyter.widget-view+json": {
       "model_id": "",
       "version_major": 2,
       "version_minor": 0
      },
      "text/plain": [
       "  0%|          | 0/4001 [00:00<?, ?it/s]"
      ]
     },
     "metadata": {},
     "output_type": "display_data"
    },
    {
     "data": {
      "application/vnd.jupyter.widget-view+json": {
       "model_id": "",
       "version_major": 2,
       "version_minor": 0
      },
      "text/plain": [
       "  0%|          | 0/4001 [00:00<?, ?it/s]"
      ]
     },
     "metadata": {},
     "output_type": "display_data"
    },
    {
     "data": {
      "application/vnd.jupyter.widget-view+json": {
       "model_id": "",
       "version_major": 2,
       "version_minor": 0
      },
      "text/plain": [
       "  0%|          | 0/4001 [00:00<?, ?it/s]"
      ]
     },
     "metadata": {},
     "output_type": "display_data"
    },
    {
     "data": {
      "application/vnd.jupyter.widget-view+json": {
       "model_id": "",
       "version_major": 2,
       "version_minor": 0
      },
      "text/plain": [
       "  0%|          | 0/4001 [00:00<?, ?it/s]"
      ]
     },
     "metadata": {},
     "output_type": "display_data"
    },
    {
     "data": {
      "application/vnd.jupyter.widget-view+json": {
       "model_id": "",
       "version_major": 2,
       "version_minor": 0
      },
      "text/plain": [
       "  0%|          | 0/4001 [00:00<?, ?it/s]"
      ]
     },
     "metadata": {},
     "output_type": "display_data"
    },
    {
     "data": {
      "application/vnd.jupyter.widget-view+json": {
       "model_id": "",
       "version_major": 2,
       "version_minor": 0
      },
      "text/plain": [
       "  0%|          | 0/4001 [00:00<?, ?it/s]"
      ]
     },
     "metadata": {},
     "output_type": "display_data"
    },
    {
     "data": {
      "application/vnd.jupyter.widget-view+json": {
       "model_id": "",
       "version_major": 2,
       "version_minor": 0
      },
      "text/plain": [
       "  0%|          | 0/4001 [00:00<?, ?it/s]"
      ]
     },
     "metadata": {},
     "output_type": "display_data"
    },
    {
     "data": {
      "application/vnd.jupyter.widget-view+json": {
       "model_id": "",
       "version_major": 2,
       "version_minor": 0
      },
      "text/plain": [
       "  0%|          | 0/4001 [00:00<?, ?it/s]"
      ]
     },
     "metadata": {},
     "output_type": "display_data"
    },
    {
     "data": {
      "application/vnd.jupyter.widget-view+json": {
       "model_id": "",
       "version_major": 2,
       "version_minor": 0
      },
      "text/plain": [
       "  0%|          | 0/4001 [00:00<?, ?it/s]"
      ]
     },
     "metadata": {},
     "output_type": "display_data"
    },
    {
     "data": {
      "application/vnd.jupyter.widget-view+json": {
       "model_id": "",
       "version_major": 2,
       "version_minor": 0
      },
      "text/plain": [
       "  0%|          | 0/4001 [00:00<?, ?it/s]"
      ]
     },
     "metadata": {},
     "output_type": "display_data"
    },
    {
     "data": {
      "application/vnd.jupyter.widget-view+json": {
       "model_id": "",
       "version_major": 2,
       "version_minor": 0
      },
      "text/plain": [
       "  0%|          | 0/4001 [00:00<?, ?it/s]"
      ]
     },
     "metadata": {},
     "output_type": "display_data"
    },
    {
     "data": {
      "application/vnd.jupyter.widget-view+json": {
       "model_id": "",
       "version_major": 2,
       "version_minor": 0
      },
      "text/plain": [
       "  0%|          | 0/4001 [00:00<?, ?it/s]"
      ]
     },
     "metadata": {},
     "output_type": "display_data"
    },
    {
     "data": {
      "application/vnd.jupyter.widget-view+json": {
       "model_id": "",
       "version_major": 2,
       "version_minor": 0
      },
      "text/plain": [
       "  0%|          | 0/4001 [00:00<?, ?it/s]"
      ]
     },
     "metadata": {},
     "output_type": "display_data"
    },
    {
     "data": {
      "application/vnd.jupyter.widget-view+json": {
       "model_id": "",
       "version_major": 2,
       "version_minor": 0
      },
      "text/plain": [
       "  0%|          | 0/4001 [00:00<?, ?it/s]"
      ]
     },
     "metadata": {},
     "output_type": "display_data"
    },
    {
     "data": {
      "application/vnd.jupyter.widget-view+json": {
       "model_id": "",
       "version_major": 2,
       "version_minor": 0
      },
      "text/plain": [
       "  0%|          | 0/4001 [00:00<?, ?it/s]"
      ]
     },
     "metadata": {},
     "output_type": "display_data"
    },
    {
     "data": {
      "application/vnd.jupyter.widget-view+json": {
       "model_id": "",
       "version_major": 2,
       "version_minor": 0
      },
      "text/plain": [
       "  0%|          | 0/4001 [00:00<?, ?it/s]"
      ]
     },
     "metadata": {},
     "output_type": "display_data"
    },
    {
     "data": {
      "application/vnd.jupyter.widget-view+json": {
       "model_id": "",
       "version_major": 2,
       "version_minor": 0
      },
      "text/plain": [
       "  0%|          | 0/4001 [00:00<?, ?it/s]"
      ]
     },
     "metadata": {},
     "output_type": "display_data"
    },
    {
     "data": {
      "application/vnd.jupyter.widget-view+json": {
       "model_id": "",
       "version_major": 2,
       "version_minor": 0
      },
      "text/plain": [
       "  0%|          | 0/4001 [00:00<?, ?it/s]"
      ]
     },
     "metadata": {},
     "output_type": "display_data"
    },
    {
     "data": {
      "application/vnd.jupyter.widget-view+json": {
       "model_id": "",
       "version_major": 2,
       "version_minor": 0
      },
      "text/plain": [
       "  0%|          | 0/4001 [00:00<?, ?it/s]"
      ]
     },
     "metadata": {},
     "output_type": "display_data"
    },
    {
     "data": {
      "application/vnd.jupyter.widget-view+json": {
       "model_id": "",
       "version_major": 2,
       "version_minor": 0
      },
      "text/plain": [
       "  0%|          | 0/4001 [00:00<?, ?it/s]"
      ]
     },
     "metadata": {},
     "output_type": "display_data"
    },
    {
     "data": {
      "application/vnd.jupyter.widget-view+json": {
       "model_id": "",
       "version_major": 2,
       "version_minor": 0
      },
      "text/plain": [
       "  0%|          | 0/4001 [00:00<?, ?it/s]"
      ]
     },
     "metadata": {},
     "output_type": "display_data"
    },
    {
     "data": {
      "application/vnd.jupyter.widget-view+json": {
       "model_id": "",
       "version_major": 2,
       "version_minor": 0
      },
      "text/plain": [
       "  0%|          | 0/4001 [00:00<?, ?it/s]"
      ]
     },
     "metadata": {},
     "output_type": "display_data"
    },
    {
     "data": {
      "application/vnd.jupyter.widget-view+json": {
       "model_id": "",
       "version_major": 2,
       "version_minor": 0
      },
      "text/plain": [
       "  0%|          | 0/4001 [00:00<?, ?it/s]"
      ]
     },
     "metadata": {},
     "output_type": "display_data"
    },
    {
     "data": {
      "application/vnd.jupyter.widget-view+json": {
       "model_id": "",
       "version_major": 2,
       "version_minor": 0
      },
      "text/plain": [
       "  0%|          | 0/4001 [00:00<?, ?it/s]"
      ]
     },
     "metadata": {},
     "output_type": "display_data"
    },
    {
     "data": {
      "application/vnd.jupyter.widget-view+json": {
       "model_id": "",
       "version_major": 2,
       "version_minor": 0
      },
      "text/plain": [
       "  0%|          | 0/4001 [00:00<?, ?it/s]"
      ]
     },
     "metadata": {},
     "output_type": "display_data"
    },
    {
     "data": {
      "application/vnd.jupyter.widget-view+json": {
       "model_id": "",
       "version_major": 2,
       "version_minor": 0
      },
      "text/plain": [
       "  0%|          | 0/4001 [00:00<?, ?it/s]"
      ]
     },
     "metadata": {},
     "output_type": "display_data"
    },
    {
     "data": {
      "application/vnd.jupyter.widget-view+json": {
       "model_id": "",
       "version_major": 2,
       "version_minor": 0
      },
      "text/plain": [
       "  0%|          | 0/4001 [00:00<?, ?it/s]"
      ]
     },
     "metadata": {},
     "output_type": "display_data"
    },
    {
     "data": {
      "application/vnd.jupyter.widget-view+json": {
       "model_id": "",
       "version_major": 2,
       "version_minor": 0
      },
      "text/plain": [
       "  0%|          | 0/4001 [00:00<?, ?it/s]"
      ]
     },
     "metadata": {},
     "output_type": "display_data"
    },
    {
     "data": {
      "application/vnd.jupyter.widget-view+json": {
       "model_id": "",
       "version_major": 2,
       "version_minor": 0
      },
      "text/plain": [
       "  0%|          | 0/4001 [00:00<?, ?it/s]"
      ]
     },
     "metadata": {},
     "output_type": "display_data"
    },
    {
     "data": {
      "application/vnd.jupyter.widget-view+json": {
       "model_id": "",
       "version_major": 2,
       "version_minor": 0
      },
      "text/plain": [
       "  0%|          | 0/4001 [00:00<?, ?it/s]"
      ]
     },
     "metadata": {},
     "output_type": "display_data"
    },
    {
     "data": {
      "application/vnd.jupyter.widget-view+json": {
       "model_id": "",
       "version_major": 2,
       "version_minor": 0
      },
      "text/plain": [
       "  0%|          | 0/4001 [00:00<?, ?it/s]"
      ]
     },
     "metadata": {},
     "output_type": "display_data"
    },
    {
     "data": {
      "application/vnd.jupyter.widget-view+json": {
       "model_id": "",
       "version_major": 2,
       "version_minor": 0
      },
      "text/plain": [
       "  0%|          | 0/4001 [00:00<?, ?it/s]"
      ]
     },
     "metadata": {},
     "output_type": "display_data"
    },
    {
     "data": {
      "application/vnd.jupyter.widget-view+json": {
       "model_id": "",
       "version_major": 2,
       "version_minor": 0
      },
      "text/plain": [
       "  0%|          | 0/4001 [00:00<?, ?it/s]"
      ]
     },
     "metadata": {},
     "output_type": "display_data"
    },
    {
     "data": {
      "application/vnd.jupyter.widget-view+json": {
       "model_id": "",
       "version_major": 2,
       "version_minor": 0
      },
      "text/plain": [
       "  0%|          | 0/4001 [00:00<?, ?it/s]"
      ]
     },
     "metadata": {},
     "output_type": "display_data"
    },
    {
     "data": {
      "application/vnd.jupyter.widget-view+json": {
       "model_id": "",
       "version_major": 2,
       "version_minor": 0
      },
      "text/plain": [
       "  0%|          | 0/4001 [00:00<?, ?it/s]"
      ]
     },
     "metadata": {},
     "output_type": "display_data"
    },
    {
     "data": {
      "application/vnd.jupyter.widget-view+json": {
       "model_id": "",
       "version_major": 2,
       "version_minor": 0
      },
      "text/plain": [
       "  0%|          | 0/4001 [00:00<?, ?it/s]"
      ]
     },
     "metadata": {},
     "output_type": "display_data"
    },
    {
     "data": {
      "application/vnd.jupyter.widget-view+json": {
       "model_id": "",
       "version_major": 2,
       "version_minor": 0
      },
      "text/plain": [
       "  0%|          | 0/4001 [00:00<?, ?it/s]"
      ]
     },
     "metadata": {},
     "output_type": "display_data"
    },
    {
     "data": {
      "application/vnd.jupyter.widget-view+json": {
       "model_id": "",
       "version_major": 2,
       "version_minor": 0
      },
      "text/plain": [
       "  0%|          | 0/4001 [00:00<?, ?it/s]"
      ]
     },
     "metadata": {},
     "output_type": "display_data"
    },
    {
     "data": {
      "application/vnd.jupyter.widget-view+json": {
       "model_id": "",
       "version_major": 2,
       "version_minor": 0
      },
      "text/plain": [
       "  0%|          | 0/4001 [00:00<?, ?it/s]"
      ]
     },
     "metadata": {},
     "output_type": "display_data"
    },
    {
     "data": {
      "application/vnd.jupyter.widget-view+json": {
       "model_id": "",
       "version_major": 2,
       "version_minor": 0
      },
      "text/plain": [
       "  0%|          | 0/4001 [00:00<?, ?it/s]"
      ]
     },
     "metadata": {},
     "output_type": "display_data"
    },
    {
     "data": {
      "application/vnd.jupyter.widget-view+json": {
       "model_id": "",
       "version_major": 2,
       "version_minor": 0
      },
      "text/plain": [
       "  0%|          | 0/4001 [00:00<?, ?it/s]"
      ]
     },
     "metadata": {},
     "output_type": "display_data"
    },
    {
     "data": {
      "application/vnd.jupyter.widget-view+json": {
       "model_id": "",
       "version_major": 2,
       "version_minor": 0
      },
      "text/plain": [
       "  0%|          | 0/4001 [00:00<?, ?it/s]"
      ]
     },
     "metadata": {},
     "output_type": "display_data"
    },
    {
     "data": {
      "application/vnd.jupyter.widget-view+json": {
       "model_id": "",
       "version_major": 2,
       "version_minor": 0
      },
      "text/plain": [
       "  0%|          | 0/4001 [00:00<?, ?it/s]"
      ]
     },
     "metadata": {},
     "output_type": "display_data"
    },
    {
     "data": {
      "application/vnd.jupyter.widget-view+json": {
       "model_id": "",
       "version_major": 2,
       "version_minor": 0
      },
      "text/plain": [
       "  0%|          | 0/4001 [00:00<?, ?it/s]"
      ]
     },
     "metadata": {},
     "output_type": "display_data"
    },
    {
     "data": {
      "application/vnd.jupyter.widget-view+json": {
       "model_id": "",
       "version_major": 2,
       "version_minor": 0
      },
      "text/plain": [
       "  0%|          | 0/4001 [00:00<?, ?it/s]"
      ]
     },
     "metadata": {},
     "output_type": "display_data"
    },
    {
     "data": {
      "application/vnd.jupyter.widget-view+json": {
       "model_id": "",
       "version_major": 2,
       "version_minor": 0
      },
      "text/plain": [
       "  0%|          | 0/4001 [00:00<?, ?it/s]"
      ]
     },
     "metadata": {},
     "output_type": "display_data"
    },
    {
     "data": {
      "application/vnd.jupyter.widget-view+json": {
       "model_id": "",
       "version_major": 2,
       "version_minor": 0
      },
      "text/plain": [
       "  0%|          | 0/4001 [00:00<?, ?it/s]"
      ]
     },
     "metadata": {},
     "output_type": "display_data"
    },
    {
     "data": {
      "application/vnd.jupyter.widget-view+json": {
       "model_id": "",
       "version_major": 2,
       "version_minor": 0
      },
      "text/plain": [
       "  0%|          | 0/4001 [00:00<?, ?it/s]"
      ]
     },
     "metadata": {},
     "output_type": "display_data"
    },
    {
     "data": {
      "application/vnd.jupyter.widget-view+json": {
       "model_id": "",
       "version_major": 2,
       "version_minor": 0
      },
      "text/plain": [
       "  0%|          | 0/4001 [00:00<?, ?it/s]"
      ]
     },
     "metadata": {},
     "output_type": "display_data"
    },
    {
     "data": {
      "application/vnd.jupyter.widget-view+json": {
       "model_id": "",
       "version_major": 2,
       "version_minor": 0
      },
      "text/plain": [
       "  0%|          | 0/4001 [00:00<?, ?it/s]"
      ]
     },
     "metadata": {},
     "output_type": "display_data"
    },
    {
     "data": {
      "application/vnd.jupyter.widget-view+json": {
       "model_id": "",
       "version_major": 2,
       "version_minor": 0
      },
      "text/plain": [
       "  0%|          | 0/4001 [00:00<?, ?it/s]"
      ]
     },
     "metadata": {},
     "output_type": "display_data"
    },
    {
     "data": {
      "application/vnd.jupyter.widget-view+json": {
       "model_id": "",
       "version_major": 2,
       "version_minor": 0
      },
      "text/plain": [
       "  0%|          | 0/4001 [00:00<?, ?it/s]"
      ]
     },
     "metadata": {},
     "output_type": "display_data"
    },
    {
     "data": {
      "application/vnd.jupyter.widget-view+json": {
       "model_id": "",
       "version_major": 2,
       "version_minor": 0
      },
      "text/plain": [
       "  0%|          | 0/4001 [00:00<?, ?it/s]"
      ]
     },
     "metadata": {},
     "output_type": "display_data"
    },
    {
     "data": {
      "application/vnd.jupyter.widget-view+json": {
       "model_id": "",
       "version_major": 2,
       "version_minor": 0
      },
      "text/plain": [
       "  0%|          | 0/4001 [00:00<?, ?it/s]"
      ]
     },
     "metadata": {},
     "output_type": "display_data"
    },
    {
     "data": {
      "application/vnd.jupyter.widget-view+json": {
       "model_id": "",
       "version_major": 2,
       "version_minor": 0
      },
      "text/plain": [
       "  0%|          | 0/4001 [00:00<?, ?it/s]"
      ]
     },
     "metadata": {},
     "output_type": "display_data"
    },
    {
     "data": {
      "application/vnd.jupyter.widget-view+json": {
       "model_id": "",
       "version_major": 2,
       "version_minor": 0
      },
      "text/plain": [
       "  0%|          | 0/4001 [00:00<?, ?it/s]"
      ]
     },
     "metadata": {},
     "output_type": "display_data"
    },
    {
     "data": {
      "application/vnd.jupyter.widget-view+json": {
       "model_id": "",
       "version_major": 2,
       "version_minor": 0
      },
      "text/plain": [
       "  0%|          | 0/4001 [00:00<?, ?it/s]"
      ]
     },
     "metadata": {},
     "output_type": "display_data"
    },
    {
     "data": {
      "application/vnd.jupyter.widget-view+json": {
       "model_id": "",
       "version_major": 2,
       "version_minor": 0
      },
      "text/plain": [
       "  0%|          | 0/4001 [00:00<?, ?it/s]"
      ]
     },
     "metadata": {},
     "output_type": "display_data"
    },
    {
     "data": {
      "application/vnd.jupyter.widget-view+json": {
       "model_id": "",
       "version_major": 2,
       "version_minor": 0
      },
      "text/plain": [
       "  0%|          | 0/4001 [00:00<?, ?it/s]"
      ]
     },
     "metadata": {},
     "output_type": "display_data"
    },
    {
     "data": {
      "application/vnd.jupyter.widget-view+json": {
       "model_id": "",
       "version_major": 2,
       "version_minor": 0
      },
      "text/plain": [
       "  0%|          | 0/4001 [00:00<?, ?it/s]"
      ]
     },
     "metadata": {},
     "output_type": "display_data"
    },
    {
     "data": {
      "application/vnd.jupyter.widget-view+json": {
       "model_id": "",
       "version_major": 2,
       "version_minor": 0
      },
      "text/plain": [
       "  0%|          | 0/4001 [00:00<?, ?it/s]"
      ]
     },
     "metadata": {},
     "output_type": "display_data"
    },
    {
     "data": {
      "application/vnd.jupyter.widget-view+json": {
       "model_id": "",
       "version_major": 2,
       "version_minor": 0
      },
      "text/plain": [
       "  0%|          | 0/4001 [00:00<?, ?it/s]"
      ]
     },
     "metadata": {},
     "output_type": "display_data"
    },
    {
     "data": {
      "application/vnd.jupyter.widget-view+json": {
       "model_id": "",
       "version_major": 2,
       "version_minor": 0
      },
      "text/plain": [
       "  0%|          | 0/4001 [00:00<?, ?it/s]"
      ]
     },
     "metadata": {},
     "output_type": "display_data"
    },
    {
     "data": {
      "application/vnd.jupyter.widget-view+json": {
       "model_id": "",
       "version_major": 2,
       "version_minor": 0
      },
      "text/plain": [
       "  0%|          | 0/4001 [00:00<?, ?it/s]"
      ]
     },
     "metadata": {},
     "output_type": "display_data"
    },
    {
     "data": {
      "application/vnd.jupyter.widget-view+json": {
       "model_id": "",
       "version_major": 2,
       "version_minor": 0
      },
      "text/plain": [
       "  0%|          | 0/4001 [00:00<?, ?it/s]"
      ]
     },
     "metadata": {},
     "output_type": "display_data"
    },
    {
     "data": {
      "application/vnd.jupyter.widget-view+json": {
       "model_id": "",
       "version_major": 2,
       "version_minor": 0
      },
      "text/plain": [
       "  0%|          | 0/4001 [00:00<?, ?it/s]"
      ]
     },
     "metadata": {},
     "output_type": "display_data"
    },
    {
     "data": {
      "application/vnd.jupyter.widget-view+json": {
       "model_id": "",
       "version_major": 2,
       "version_minor": 0
      },
      "text/plain": [
       "  0%|          | 0/4001 [00:00<?, ?it/s]"
      ]
     },
     "metadata": {},
     "output_type": "display_data"
    },
    {
     "data": {
      "application/vnd.jupyter.widget-view+json": {
       "model_id": "",
       "version_major": 2,
       "version_minor": 0
      },
      "text/plain": [
       "  0%|          | 0/4001 [00:00<?, ?it/s]"
      ]
     },
     "metadata": {},
     "output_type": "display_data"
    },
    {
     "data": {
      "application/vnd.jupyter.widget-view+json": {
       "model_id": "",
       "version_major": 2,
       "version_minor": 0
      },
      "text/plain": [
       "  0%|          | 0/4001 [00:00<?, ?it/s]"
      ]
     },
     "metadata": {},
     "output_type": "display_data"
    },
    {
     "data": {
      "application/vnd.jupyter.widget-view+json": {
       "model_id": "",
       "version_major": 2,
       "version_minor": 0
      },
      "text/plain": [
       "  0%|          | 0/4001 [00:00<?, ?it/s]"
      ]
     },
     "metadata": {},
     "output_type": "display_data"
    },
    {
     "data": {
      "application/vnd.jupyter.widget-view+json": {
       "model_id": "",
       "version_major": 2,
       "version_minor": 0
      },
      "text/plain": [
       "  0%|          | 0/4001 [00:00<?, ?it/s]"
      ]
     },
     "metadata": {},
     "output_type": "display_data"
    },
    {
     "data": {
      "application/vnd.jupyter.widget-view+json": {
       "model_id": "",
       "version_major": 2,
       "version_minor": 0
      },
      "text/plain": [
       "  0%|          | 0/4001 [00:00<?, ?it/s]"
      ]
     },
     "metadata": {},
     "output_type": "display_data"
    },
    {
     "data": {
      "application/vnd.jupyter.widget-view+json": {
       "model_id": "",
       "version_major": 2,
       "version_minor": 0
      },
      "text/plain": [
       "  0%|          | 0/4001 [00:00<?, ?it/s]"
      ]
     },
     "metadata": {},
     "output_type": "display_data"
    },
    {
     "data": {
      "application/vnd.jupyter.widget-view+json": {
       "model_id": "",
       "version_major": 2,
       "version_minor": 0
      },
      "text/plain": [
       "  0%|          | 0/4001 [00:00<?, ?it/s]"
      ]
     },
     "metadata": {},
     "output_type": "display_data"
    },
    {
     "data": {
      "application/vnd.jupyter.widget-view+json": {
       "model_id": "",
       "version_major": 2,
       "version_minor": 0
      },
      "text/plain": [
       "  0%|          | 0/4001 [00:00<?, ?it/s]"
      ]
     },
     "metadata": {},
     "output_type": "display_data"
    },
    {
     "data": {
      "application/vnd.jupyter.widget-view+json": {
       "model_id": "",
       "version_major": 2,
       "version_minor": 0
      },
      "text/plain": [
       "  0%|          | 0/4001 [00:00<?, ?it/s]"
      ]
     },
     "metadata": {},
     "output_type": "display_data"
    },
    {
     "data": {
      "application/vnd.jupyter.widget-view+json": {
       "model_id": "",
       "version_major": 2,
       "version_minor": 0
      },
      "text/plain": [
       "  0%|          | 0/4001 [00:00<?, ?it/s]"
      ]
     },
     "metadata": {},
     "output_type": "display_data"
    },
    {
     "data": {
      "application/vnd.jupyter.widget-view+json": {
       "model_id": "",
       "version_major": 2,
       "version_minor": 0
      },
      "text/plain": [
       "  0%|          | 0/4001 [00:00<?, ?it/s]"
      ]
     },
     "metadata": {},
     "output_type": "display_data"
    },
    {
     "data": {
      "application/vnd.jupyter.widget-view+json": {
       "model_id": "",
       "version_major": 2,
       "version_minor": 0
      },
      "text/plain": [
       "  0%|          | 0/4001 [00:00<?, ?it/s]"
      ]
     },
     "metadata": {},
     "output_type": "display_data"
    }
   ],
   "source": [
    "for i_v in trange(l_aggr_rep):\n",
    "    wiki_bench_per_sector[i_v]['cos_sim']=np.zeros(len(wikivecs))\n",
    "    for i_w, wikivec in enumerate(tqdm(wikivecs, leave=False)):\n",
    "        wiki_bench_per_sector[i_v]['cos_sim'][i_w]=float(util.cos_sim(wikivec, aggr_vectors[i_v]['vector']))"
   ]
  },
  {
   "cell_type": "code",
   "execution_count": 132,
   "id": "a960315e",
   "metadata": {
    "ExecuteTime": {
     "end_time": "2025-06-18T07:17:12.208170Z",
     "start_time": "2025-06-18T07:17:12.194758Z"
    },
    "hidden": true
   },
   "outputs": [],
   "source": [
    "with open('./NewProcessedData/wiki_bench_per_sector.pickle', 'wb') as f:\n",
    "    pickle.dump(wiki_bench_per_sector, f)"
   ]
  },
  {
   "cell_type": "markdown",
   "id": "bbd70f20",
   "metadata": {},
   "source": [
    "## Creating the benchmark, at the aggregated sector level _[DO NOT EVALUATE IT AGAIN!!!]_"
   ]
  },
  {
   "cell_type": "code",
   "execution_count": 100,
   "id": "27aaa1dc",
   "metadata": {
    "ExecuteTime": {
     "end_time": "2025-08-04T15:30:46.790197Z",
     "start_time": "2025-08-04T15:30:46.784036Z"
    }
   },
   "outputs": [],
   "source": [
    "wiki_bench_per_agg_sec=np.zeros(l_aggr_aggsec, dtype=[('cos_sim', object)])"
   ]
  },
  {
   "cell_type": "code",
   "execution_count": 101,
   "id": "fea110c9",
   "metadata": {
    "ExecuteTime": {
     "end_time": "2025-08-04T15:31:34.858249Z",
     "start_time": "2025-08-04T15:30:47.429761Z"
    }
   },
   "outputs": [
    {
     "data": {
      "application/vnd.jupyter.widget-view+json": {
       "model_id": "ea52e257fffb40e698490f7bc07cac04",
       "version_major": 2,
       "version_minor": 0
      },
      "text/plain": [
       "  0%|          | 0/36 [00:00<?, ?it/s]"
      ]
     },
     "metadata": {},
     "output_type": "display_data"
    },
    {
     "data": {
      "application/vnd.jupyter.widget-view+json": {
       "model_id": "",
       "version_major": 2,
       "version_minor": 0
      },
      "text/plain": [
       "  0%|          | 0/4001 [00:00<?, ?it/s]"
      ]
     },
     "metadata": {},
     "output_type": "display_data"
    },
    {
     "data": {
      "application/vnd.jupyter.widget-view+json": {
       "model_id": "",
       "version_major": 2,
       "version_minor": 0
      },
      "text/plain": [
       "  0%|          | 0/4001 [00:00<?, ?it/s]"
      ]
     },
     "metadata": {},
     "output_type": "display_data"
    },
    {
     "data": {
      "application/vnd.jupyter.widget-view+json": {
       "model_id": "",
       "version_major": 2,
       "version_minor": 0
      },
      "text/plain": [
       "  0%|          | 0/4001 [00:00<?, ?it/s]"
      ]
     },
     "metadata": {},
     "output_type": "display_data"
    },
    {
     "data": {
      "application/vnd.jupyter.widget-view+json": {
       "model_id": "",
       "version_major": 2,
       "version_minor": 0
      },
      "text/plain": [
       "  0%|          | 0/4001 [00:00<?, ?it/s]"
      ]
     },
     "metadata": {},
     "output_type": "display_data"
    },
    {
     "data": {
      "application/vnd.jupyter.widget-view+json": {
       "model_id": "",
       "version_major": 2,
       "version_minor": 0
      },
      "text/plain": [
       "  0%|          | 0/4001 [00:00<?, ?it/s]"
      ]
     },
     "metadata": {},
     "output_type": "display_data"
    },
    {
     "data": {
      "application/vnd.jupyter.widget-view+json": {
       "model_id": "",
       "version_major": 2,
       "version_minor": 0
      },
      "text/plain": [
       "  0%|          | 0/4001 [00:00<?, ?it/s]"
      ]
     },
     "metadata": {},
     "output_type": "display_data"
    },
    {
     "data": {
      "application/vnd.jupyter.widget-view+json": {
       "model_id": "",
       "version_major": 2,
       "version_minor": 0
      },
      "text/plain": [
       "  0%|          | 0/4001 [00:00<?, ?it/s]"
      ]
     },
     "metadata": {},
     "output_type": "display_data"
    },
    {
     "data": {
      "application/vnd.jupyter.widget-view+json": {
       "model_id": "",
       "version_major": 2,
       "version_minor": 0
      },
      "text/plain": [
       "  0%|          | 0/4001 [00:00<?, ?it/s]"
      ]
     },
     "metadata": {},
     "output_type": "display_data"
    },
    {
     "data": {
      "application/vnd.jupyter.widget-view+json": {
       "model_id": "",
       "version_major": 2,
       "version_minor": 0
      },
      "text/plain": [
       "  0%|          | 0/4001 [00:00<?, ?it/s]"
      ]
     },
     "metadata": {},
     "output_type": "display_data"
    },
    {
     "data": {
      "application/vnd.jupyter.widget-view+json": {
       "model_id": "",
       "version_major": 2,
       "version_minor": 0
      },
      "text/plain": [
       "  0%|          | 0/4001 [00:00<?, ?it/s]"
      ]
     },
     "metadata": {},
     "output_type": "display_data"
    },
    {
     "data": {
      "application/vnd.jupyter.widget-view+json": {
       "model_id": "",
       "version_major": 2,
       "version_minor": 0
      },
      "text/plain": [
       "  0%|          | 0/4001 [00:00<?, ?it/s]"
      ]
     },
     "metadata": {},
     "output_type": "display_data"
    },
    {
     "data": {
      "application/vnd.jupyter.widget-view+json": {
       "model_id": "",
       "version_major": 2,
       "version_minor": 0
      },
      "text/plain": [
       "  0%|          | 0/4001 [00:00<?, ?it/s]"
      ]
     },
     "metadata": {},
     "output_type": "display_data"
    },
    {
     "data": {
      "application/vnd.jupyter.widget-view+json": {
       "model_id": "",
       "version_major": 2,
       "version_minor": 0
      },
      "text/plain": [
       "  0%|          | 0/4001 [00:00<?, ?it/s]"
      ]
     },
     "metadata": {},
     "output_type": "display_data"
    },
    {
     "data": {
      "application/vnd.jupyter.widget-view+json": {
       "model_id": "",
       "version_major": 2,
       "version_minor": 0
      },
      "text/plain": [
       "  0%|          | 0/4001 [00:00<?, ?it/s]"
      ]
     },
     "metadata": {},
     "output_type": "display_data"
    },
    {
     "data": {
      "application/vnd.jupyter.widget-view+json": {
       "model_id": "",
       "version_major": 2,
       "version_minor": 0
      },
      "text/plain": [
       "  0%|          | 0/4001 [00:00<?, ?it/s]"
      ]
     },
     "metadata": {},
     "output_type": "display_data"
    },
    {
     "data": {
      "application/vnd.jupyter.widget-view+json": {
       "model_id": "",
       "version_major": 2,
       "version_minor": 0
      },
      "text/plain": [
       "  0%|          | 0/4001 [00:00<?, ?it/s]"
      ]
     },
     "metadata": {},
     "output_type": "display_data"
    },
    {
     "data": {
      "application/vnd.jupyter.widget-view+json": {
       "model_id": "",
       "version_major": 2,
       "version_minor": 0
      },
      "text/plain": [
       "  0%|          | 0/4001 [00:00<?, ?it/s]"
      ]
     },
     "metadata": {},
     "output_type": "display_data"
    },
    {
     "data": {
      "application/vnd.jupyter.widget-view+json": {
       "model_id": "",
       "version_major": 2,
       "version_minor": 0
      },
      "text/plain": [
       "  0%|          | 0/4001 [00:00<?, ?it/s]"
      ]
     },
     "metadata": {},
     "output_type": "display_data"
    },
    {
     "data": {
      "application/vnd.jupyter.widget-view+json": {
       "model_id": "",
       "version_major": 2,
       "version_minor": 0
      },
      "text/plain": [
       "  0%|          | 0/4001 [00:00<?, ?it/s]"
      ]
     },
     "metadata": {},
     "output_type": "display_data"
    },
    {
     "data": {
      "application/vnd.jupyter.widget-view+json": {
       "model_id": "",
       "version_major": 2,
       "version_minor": 0
      },
      "text/plain": [
       "  0%|          | 0/4001 [00:00<?, ?it/s]"
      ]
     },
     "metadata": {},
     "output_type": "display_data"
    },
    {
     "data": {
      "application/vnd.jupyter.widget-view+json": {
       "model_id": "",
       "version_major": 2,
       "version_minor": 0
      },
      "text/plain": [
       "  0%|          | 0/4001 [00:00<?, ?it/s]"
      ]
     },
     "metadata": {},
     "output_type": "display_data"
    },
    {
     "data": {
      "application/vnd.jupyter.widget-view+json": {
       "model_id": "",
       "version_major": 2,
       "version_minor": 0
      },
      "text/plain": [
       "  0%|          | 0/4001 [00:00<?, ?it/s]"
      ]
     },
     "metadata": {},
     "output_type": "display_data"
    },
    {
     "data": {
      "application/vnd.jupyter.widget-view+json": {
       "model_id": "",
       "version_major": 2,
       "version_minor": 0
      },
      "text/plain": [
       "  0%|          | 0/4001 [00:00<?, ?it/s]"
      ]
     },
     "metadata": {},
     "output_type": "display_data"
    },
    {
     "data": {
      "application/vnd.jupyter.widget-view+json": {
       "model_id": "",
       "version_major": 2,
       "version_minor": 0
      },
      "text/plain": [
       "  0%|          | 0/4001 [00:00<?, ?it/s]"
      ]
     },
     "metadata": {},
     "output_type": "display_data"
    },
    {
     "data": {
      "application/vnd.jupyter.widget-view+json": {
       "model_id": "",
       "version_major": 2,
       "version_minor": 0
      },
      "text/plain": [
       "  0%|          | 0/4001 [00:00<?, ?it/s]"
      ]
     },
     "metadata": {},
     "output_type": "display_data"
    },
    {
     "data": {
      "application/vnd.jupyter.widget-view+json": {
       "model_id": "",
       "version_major": 2,
       "version_minor": 0
      },
      "text/plain": [
       "  0%|          | 0/4001 [00:00<?, ?it/s]"
      ]
     },
     "metadata": {},
     "output_type": "display_data"
    },
    {
     "data": {
      "application/vnd.jupyter.widget-view+json": {
       "model_id": "",
       "version_major": 2,
       "version_minor": 0
      },
      "text/plain": [
       "  0%|          | 0/4001 [00:00<?, ?it/s]"
      ]
     },
     "metadata": {},
     "output_type": "display_data"
    },
    {
     "data": {
      "application/vnd.jupyter.widget-view+json": {
       "model_id": "",
       "version_major": 2,
       "version_minor": 0
      },
      "text/plain": [
       "  0%|          | 0/4001 [00:00<?, ?it/s]"
      ]
     },
     "metadata": {},
     "output_type": "display_data"
    },
    {
     "data": {
      "application/vnd.jupyter.widget-view+json": {
       "model_id": "",
       "version_major": 2,
       "version_minor": 0
      },
      "text/plain": [
       "  0%|          | 0/4001 [00:00<?, ?it/s]"
      ]
     },
     "metadata": {},
     "output_type": "display_data"
    },
    {
     "data": {
      "application/vnd.jupyter.widget-view+json": {
       "model_id": "",
       "version_major": 2,
       "version_minor": 0
      },
      "text/plain": [
       "  0%|          | 0/4001 [00:00<?, ?it/s]"
      ]
     },
     "metadata": {},
     "output_type": "display_data"
    },
    {
     "data": {
      "application/vnd.jupyter.widget-view+json": {
       "model_id": "",
       "version_major": 2,
       "version_minor": 0
      },
      "text/plain": [
       "  0%|          | 0/4001 [00:00<?, ?it/s]"
      ]
     },
     "metadata": {},
     "output_type": "display_data"
    },
    {
     "data": {
      "application/vnd.jupyter.widget-view+json": {
       "model_id": "",
       "version_major": 2,
       "version_minor": 0
      },
      "text/plain": [
       "  0%|          | 0/4001 [00:00<?, ?it/s]"
      ]
     },
     "metadata": {},
     "output_type": "display_data"
    },
    {
     "data": {
      "application/vnd.jupyter.widget-view+json": {
       "model_id": "",
       "version_major": 2,
       "version_minor": 0
      },
      "text/plain": [
       "  0%|          | 0/4001 [00:00<?, ?it/s]"
      ]
     },
     "metadata": {},
     "output_type": "display_data"
    },
    {
     "data": {
      "application/vnd.jupyter.widget-view+json": {
       "model_id": "",
       "version_major": 2,
       "version_minor": 0
      },
      "text/plain": [
       "  0%|          | 0/4001 [00:00<?, ?it/s]"
      ]
     },
     "metadata": {},
     "output_type": "display_data"
    },
    {
     "data": {
      "application/vnd.jupyter.widget-view+json": {
       "model_id": "",
       "version_major": 2,
       "version_minor": 0
      },
      "text/plain": [
       "  0%|          | 0/4001 [00:00<?, ?it/s]"
      ]
     },
     "metadata": {},
     "output_type": "display_data"
    },
    {
     "data": {
      "application/vnd.jupyter.widget-view+json": {
       "model_id": "",
       "version_major": 2,
       "version_minor": 0
      },
      "text/plain": [
       "  0%|          | 0/4001 [00:00<?, ?it/s]"
      ]
     },
     "metadata": {},
     "output_type": "display_data"
    }
   ],
   "source": [
    "for i_v in trange(l_aggr_aggsec):\n",
    "    wiki_bench_per_agg_sec[i_v]['cos_sim']=np.zeros(len(wikivecs))\n",
    "    for i_w, wikivec in enumerate(tqdm(wikivecs, leave=False)):\n",
    "        wiki_bench_per_agg_sec[i_v]['cos_sim'][i_w]=float(util.cos_sim(wikivec, aggsec_aggr_vectors[i_v]['vector']))"
   ]
  },
  {
   "cell_type": "code",
   "execution_count": 102,
   "id": "c835956c",
   "metadata": {
    "ExecuteTime": {
     "end_time": "2025-08-04T15:31:34.872657Z",
     "start_time": "2025-08-04T15:31:34.862956Z"
    }
   },
   "outputs": [],
   "source": [
    "with open('./NewProcessedData/wiki_bench_per_agg_sector.pickle', 'wb') as f:\n",
    "    pickle.dump(wiki_bench_per_agg_sec, f)"
   ]
  },
  {
   "cell_type": "markdown",
   "id": "96dfd4e1",
   "metadata": {},
   "source": [
    "# Validation"
   ]
  },
  {
   "cell_type": "code",
   "execution_count": 226,
   "id": "73996712",
   "metadata": {
    "ExecuteTime": {
     "end_time": "2025-09-03T08:21:11.896038Z",
     "start_time": "2025-09-03T08:21:11.890458Z"
    }
   },
   "outputs": [],
   "source": [
    "alpha=0.05"
   ]
  },
  {
   "cell_type": "markdown",
   "id": "2c3a0a79",
   "metadata": {},
   "source": [
    "## All SDGs"
   ]
  },
  {
   "cell_type": "code",
   "execution_count": 220,
   "id": "ef6421aa",
   "metadata": {
    "ExecuteTime": {
     "end_time": "2025-09-03T08:18:10.784418Z",
     "start_time": "2025-09-03T08:18:10.439374Z"
    }
   },
   "outputs": [],
   "source": [
    "with open('./NewProcessedData/wiki_benchmark_abtt5.pickle', 'rb') as f:\n",
    "    wiki_bench=pickle.load(f)"
   ]
  },
  {
   "cell_type": "code",
   "execution_count": 221,
   "id": "27546397",
   "metadata": {
    "ExecuteTime": {
     "end_time": "2025-09-03T08:18:11.663448Z",
     "start_time": "2025-09-03T08:18:11.656703Z"
    }
   },
   "outputs": [],
   "source": [
    "cos_sims_global=np.zeros(len(years), dtype=[('mean', 'f8'), ('all', object), ('p_val', object)])"
   ]
  },
  {
   "cell_type": "code",
   "execution_count": 222,
   "id": "4d6dabc3",
   "metadata": {
    "ExecuteTime": {
     "end_time": "2025-09-03T08:18:12.575061Z",
     "start_time": "2025-09-03T08:18:12.069640Z"
    }
   },
   "outputs": [
    {
     "data": {
      "application/vnd.jupyter.widget-view+json": {
       "model_id": "55b3e6cb493a4fa897e1fbc9e9e1273b",
       "version_major": 2,
       "version_minor": 0
      },
      "text/plain": [
       "  0%|          | 0/9 [00:00<?, ?it/s]"
      ]
     },
     "metadata": {},
     "output_type": "display_data"
    },
    {
     "data": {
      "application/vnd.jupyter.widget-view+json": {
       "model_id": "",
       "version_major": 2,
       "version_minor": 0
      },
      "text/plain": [
       "  0%|          | 0/40 [00:00<?, ?it/s]"
      ]
     },
     "metadata": {},
     "output_type": "display_data"
    },
    {
     "data": {
      "application/vnd.jupyter.widget-view+json": {
       "model_id": "",
       "version_major": 2,
       "version_minor": 0
      },
      "text/plain": [
       "  0%|          | 0/44 [00:00<?, ?it/s]"
      ]
     },
     "metadata": {},
     "output_type": "display_data"
    },
    {
     "data": {
      "application/vnd.jupyter.widget-view+json": {
       "model_id": "",
       "version_major": 2,
       "version_minor": 0
      },
      "text/plain": [
       "  0%|          | 0/51 [00:00<?, ?it/s]"
      ]
     },
     "metadata": {},
     "output_type": "display_data"
    },
    {
     "data": {
      "application/vnd.jupyter.widget-view+json": {
       "model_id": "",
       "version_major": 2,
       "version_minor": 0
      },
      "text/plain": [
       "  0%|          | 0/56 [00:00<?, ?it/s]"
      ]
     },
     "metadata": {},
     "output_type": "display_data"
    },
    {
     "data": {
      "application/vnd.jupyter.widget-view+json": {
       "model_id": "",
       "version_major": 2,
       "version_minor": 0
      },
      "text/plain": [
       "  0%|          | 0/67 [00:00<?, ?it/s]"
      ]
     },
     "metadata": {},
     "output_type": "display_data"
    },
    {
     "data": {
      "application/vnd.jupyter.widget-view+json": {
       "model_id": "",
       "version_major": 2,
       "version_minor": 0
      },
      "text/plain": [
       "  0%|          | 0/69 [00:00<?, ?it/s]"
      ]
     },
     "metadata": {},
     "output_type": "display_data"
    },
    {
     "data": {
      "application/vnd.jupyter.widget-view+json": {
       "model_id": "",
       "version_major": 2,
       "version_minor": 0
      },
      "text/plain": [
       "  0%|          | 0/76 [00:00<?, ?it/s]"
      ]
     },
     "metadata": {},
     "output_type": "display_data"
    },
    {
     "data": {
      "application/vnd.jupyter.widget-view+json": {
       "model_id": "",
       "version_major": 2,
       "version_minor": 0
      },
      "text/plain": [
       "  0%|          | 0/80 [00:00<?, ?it/s]"
      ]
     },
     "metadata": {},
     "output_type": "display_data"
    },
    {
     "data": {
      "application/vnd.jupyter.widget-view+json": {
       "model_id": "",
       "version_major": 2,
       "version_minor": 0
      },
      "text/plain": [
       "  0%|          | 0/90 [00:00<?, ?it/s]"
      ]
     },
     "metadata": {},
     "output_type": "display_data"
    }
   ],
   "source": [
    "for i_y, year in enumerate(tqdm(years)):\n",
    "    vecs_y=vectors[vectors['year']==year]['vector']\n",
    "    wiki_bench_y=wiki_bench[vectors['year']==year]['cos_sim']\n",
    "    cos_sims_global[i_y]['all']=np.zeros(len(vecs_y))\n",
    "    cos_sims_global[i_y]['p_val']=np.zeros(len(vecs_y))\n",
    "    for i_vec, vec in enumerate(tqdm(vecs_y, leave=False)):\n",
    "        _cos_sim=float(util.cos_sim(goalvecs[-1], vec))\n",
    "        cos_sims_global[i_y]['all'][i_vec]=_cos_sim\n",
    "        cos_sims_global[i_y]['p_val'][i_vec]=np.sum(wiki_bench_y[i_vec]>=_cos_sim)/len(wikivecs)\n",
    "    cos_sims_global[i_y]['mean']=np.mean(cos_sims_global[i_y]['all'])"
   ]
  },
  {
   "cell_type": "code",
   "execution_count": 250,
   "id": "83dff6b3",
   "metadata": {
    "ExecuteTime": {
     "end_time": "2025-09-03T08:46:22.160600Z",
     "start_time": "2025-09-03T08:46:22.122520Z"
    }
   },
   "outputs": [
    {
     "data": {
      "application/vnd.jupyter.widget-view+json": {
       "model_id": "a5f97640428f48d68395d69ec01b2d89",
       "version_major": 2,
       "version_minor": 0
      },
      "text/plain": [
       "  0%|          | 0/9 [00:00<?, ?it/s]"
      ]
     },
     "metadata": {},
     "output_type": "display_data"
    },
    {
     "name": "stdout",
     "output_type": "stream",
     "text": [
      "2015) len(validated_companies)=40, FDR=5.00e-03\n",
      "\t\tunilever                  sector=Consumer Staples, p-value=1.00e-03\n",
      "\t\tstandard_chartered        sector=Financials, p-value=4.00e-03\n",
      "\t\thalma                     sector=Industrials, p-value=5.00e-04\n",
      "\t\tland_securities_group     sector=Real Estate, p-value=2.50e-04\n",
      "2016) len(validated_companies)=4, FDR=3.41e-03\n",
      "\t\tunilever                  sector=Consumer Staples, p-value=1.00e-03\n",
      "\t\tstandard_chartered        sector=Financials, p-value=5.00e-04\n",
      "\t\thalma                     sector=Industrials, p-value=0.00e+00\n",
      "2017) len(validated_companies)=3, FDR=9.80e-04\n",
      "\t\thalma                     sector=Industrials, p-value=0.00e+00\n",
      "2018) len(validated_companies)=1, FDR=1.79e-03\n",
      "\t\tstandard_chartered        sector=Financials, p-value=1.25e-03\n",
      "\t\thalma                     sector=Industrials, p-value=1.50e-03\n",
      "2019) len(validated_companies)=2, FDR=0.00e+00\n",
      "2020) len(validated_companies)=0, FDR=2.90e-03\n",
      "\t\tanglo_american            sector=Basic Materials, p-value=2.25e-03\n",
      "\t\tbarratt_developments      sector=Consumer Discretionary, p-value=2.50e-03\n",
      "\t\thsbc_holdings             sector=Financials, p-value=5.00e-04\n",
      "\t\tstandard_chartered        sector=Financials, p-value=5.00e-04\n",
      "2021) len(validated_companies)=4, FDR=1.32e-03\n",
      "\t\tstandard_chartered        sector=Financials, p-value=2.50e-04\n",
      "\t\trenewi                    sector=Utilities, p-value=0.00e+00\n",
      "2022) len(validated_companies)=2, FDR=1.88e-03\n",
      "\t\thsbc_holdings             sector=Financials, p-value=5.00e-04\n",
      "\t\tlegal_&_general_group     sector=Financials, p-value=2.50e-04\n",
      "\t\tstandard_chartered        sector=Financials, p-value=2.50e-04\n",
      "2023) len(validated_companies)=3, FDR=5.56e-04\n",
      "\t\tstandard_chartered        sector=Financials, p-value=0.00e+00\n"
     ]
    }
   ],
   "source": [
    "for i_y, year in enumerate(tqdm(years)):\n",
    "    _fdr_th=fdr_th(cos_sims_global[i_y]['p_val'], alpha)\n",
    "    print(f'{year:}) len(validated_companies)={len(validated_compa):}, FDR={_fdr_th:.2e}')\n",
    "    #_fdr_th=1\n",
    "    compa_y=vectors[vectors['year']==year]['company']\n",
    "    sec_y=vectors[vectors['year']==year]['sector']\n",
    "    validated_compa=compa_y[cos_sims_global[i_y]['p_val']<=_fdr_th]\n",
    "    validated_sec=sec_y[cos_sims_global[i_y]['p_val']<=_fdr_th]\n",
    "    validated_p=cos_sims_global[i_y]['p_val'][cos_sims_global[i_y]['p_val']<=_fdr_th]\n",
    "    \n",
    "    if len(validated_compa)>0:\n",
    "        for i_vc, vc in enumerate(validated_compa):\n",
    "            print(f'\\t\\t{vc:25} sector={sec_helper[validated_sec[i_vc]]:}, p-value={validated_p[i_vc]:.2e}')"
   ]
  },
  {
   "cell_type": "markdown",
   "id": "8b33d416",
   "metadata": {},
   "source": [
    "### Consistency checks"
   ]
  },
  {
   "cell_type": "markdown",
   "id": "b89cbd0c",
   "metadata": {},
   "source": [
    "Unilever"
   ]
  },
  {
   "cell_type": "code",
   "execution_count": 244,
   "id": "570035a9",
   "metadata": {
    "ExecuteTime": {
     "end_time": "2025-09-03T08:43:36.336437Z",
     "start_time": "2025-09-03T08:43:36.327270Z"
    }
   },
   "outputs": [
    {
     "data": {
      "text/plain": [
       "40"
      ]
     },
     "execution_count": 244,
     "metadata": {},
     "output_type": "execute_result"
    }
   ],
   "source": [
    "len(cos_sims_global[i_y]['p_val'])"
   ]
  },
  {
   "cell_type": "code",
   "execution_count": 246,
   "id": "5cf5fb98",
   "metadata": {
    "ExecuteTime": {
     "end_time": "2025-09-03T08:44:05.748231Z",
     "start_time": "2025-09-03T08:44:05.738375Z"
    }
   },
   "outputs": [
    {
     "data": {
      "text/plain": [
       "dtype([('year', '<i4'), ('sector', '<U2'), ('company', '<U100'), ('vector', 'O')])"
      ]
     },
     "execution_count": 246,
     "metadata": {},
     "output_type": "execute_result"
    }
   ],
   "source": [
    "vectors.dtype"
   ]
  },
  {
   "cell_type": "code",
   "execution_count": 256,
   "id": "6080234f",
   "metadata": {
    "ExecuteTime": {
     "end_time": "2025-09-03T08:50:23.364975Z",
     "start_time": "2025-09-03T08:50:23.335554Z"
    }
   },
   "outputs": [
    {
     "data": {
      "application/vnd.jupyter.widget-view+json": {
       "model_id": "76378467dde1454796f12a05f9193ad9",
       "version_major": 2,
       "version_minor": 0
      },
      "text/plain": [
       "  0%|          | 0/9 [00:00<?, ?it/s]"
      ]
     },
     "metadata": {},
     "output_type": "display_data"
    }
   ],
   "source": [
    "p_val_uni=np.zeros(len(years))\n",
    "val_uni=np.zeros(len(years), dtype=bool)\n",
    "fdrs=np.zeros(len(years))\n",
    "for i_y, year in enumerate(tqdm(years)):\n",
    "    _fdr_th=fdr_th(cos_sims_global[i_y]['p_val'], alpha)\n",
    "    fdrs[i_y]=_fdr_th\n",
    "    where_uni=vectors[vectors['year']==year]\n",
    "    where_uni=np.where(where_uni['company']=='unilever')[0][0]\n",
    "    p_val=cos_sims_global[i_y]['p_val'][where_uni]\n",
    "    p_val_uni[i_y]=p_val\n",
    "    val_uni[i_y]=p_val<=_fdr_th"
   ]
  },
  {
   "cell_type": "code",
   "execution_count": 257,
   "id": "37424278",
   "metadata": {
    "ExecuteTime": {
     "end_time": "2025-09-03T08:50:25.438201Z",
     "start_time": "2025-09-03T08:50:25.427325Z"
    }
   },
   "outputs": [
    {
     "data": {
      "text/plain": [
       "array([[9.99750062e-04, 1.00000000e+00, 5.00000000e-03, 2.01500000e+03],\n",
       "       [9.99750062e-04, 1.00000000e+00, 3.40909091e-03, 2.01600000e+03],\n",
       "       [9.32266933e-02, 0.00000000e+00, 9.80392157e-04, 2.01700000e+03],\n",
       "       [6.61584604e-01, 0.00000000e+00, 1.78571429e-03, 2.01800000e+03],\n",
       "       [6.23094226e-01, 0.00000000e+00, 0.00000000e+00, 2.01900000e+03],\n",
       "       [1.47213197e-01, 0.00000000e+00, 2.89855072e-03, 2.02000000e+03],\n",
       "       [4.40389903e-01, 0.00000000e+00, 1.31578947e-03, 2.02100000e+03],\n",
       "       [1.39215196e-01, 0.00000000e+00, 1.87500000e-03, 2.02200000e+03],\n",
       "       [1.14721320e-01, 0.00000000e+00, 5.55555556e-04, 2.02300000e+03]])"
      ]
     },
     "execution_count": 257,
     "metadata": {},
     "output_type": "execute_result"
    }
   ],
   "source": [
    "np.vstack((p_val_uni, val_uni, fdrs, years)).T"
   ]
  },
  {
   "cell_type": "markdown",
   "id": "d13018c8",
   "metadata": {},
   "source": [
    "### Table for $\\LaTeX$"
   ]
  },
  {
   "cell_type": "code",
   "execution_count": 97,
   "id": "d1711ac6",
   "metadata": {
    "ExecuteTime": {
     "end_time": "2025-06-17T16:57:06.171081Z",
     "start_time": "2025-06-17T16:57:06.134876Z"
    }
   },
   "outputs": [
    {
     "data": {
      "application/vnd.jupyter.widget-view+json": {
       "model_id": "c6397b8ef9d3461bae6453c18ba69181",
       "version_major": 2,
       "version_minor": 0
      },
      "text/plain": [
       "  0%|          | 0/9 [00:00<?, ?it/s]"
      ]
     },
     "metadata": {},
     "output_type": "display_data"
    },
    {
     "name": "stdout",
     "output_type": "stream",
     "text": [
      "2015) len(validated_companies)=4\n",
      "2016) len(validated_companies)=3\n",
      "2017) len(validated_companies)=1\n",
      "2018) len(validated_companies)=2\n",
      "2019) len(validated_companies)=0\n",
      "2020) len(validated_companies)=4\n",
      "2021) len(validated_companies)=2\n",
      "2022) len(validated_companies)=3\n",
      "2023) len(validated_companies)=1\n"
     ]
    }
   ],
   "source": [
    "_table=[]\n",
    "for i_y, year in enumerate(tqdm(years)):\n",
    "    _fdr_th=fdr_th(cos_sims_global[i_y]['p_val'], alpha)\n",
    "    compa_y=vectors[vectors['year']==year]['company']\n",
    "    sec_y=vectors[vectors['year']==year]['sector']\n",
    "    validated_compa=compa_y[cos_sims_global[i_y]['p_val']<=_fdr_th]\n",
    "    validated_sec=sec_y[cos_sims_global[i_y]['p_val']<=_fdr_th]\n",
    "    print(f'{year:}) len(validated_companies)={len(validated_compa):}')\n",
    "    if len(validated_compa)>0:\n",
    "        for i_vc, vc in enumerate(validated_compa):\n",
    "            company_name_smooth=vc.split('_')\n",
    "            company_name_smooth=[_.capitalize() for _ in company_name_smooth]\n",
    "            company_name_smooth=' '.join(company_name_smooth)\n",
    "            if i_vc==0:\n",
    "                _table.append([year, company_name_smooth, sec_helper[validated_sec[i_vc]]])\n",
    "            else:\n",
    "                _table.append(['', company_name_smooth, sec_helper[validated_sec[i_vc]]])\n",
    "    else:\n",
    "        _table.append([year, '', ''])"
   ]
  },
  {
   "cell_type": "code",
   "execution_count": 98,
   "id": "2c9676b8",
   "metadata": {
    "ExecuteTime": {
     "end_time": "2025-06-17T16:57:08.199535Z",
     "start_time": "2025-06-17T16:57:08.193875Z"
    }
   },
   "outputs": [],
   "source": [
    "header=['Year','Firm', 'Sector']"
   ]
  },
  {
   "cell_type": "code",
   "execution_count": 99,
   "id": "1ef8f179",
   "metadata": {
    "ExecuteTime": {
     "end_time": "2025-06-17T16:57:08.612485Z",
     "start_time": "2025-06-17T16:57:08.600898Z"
    }
   },
   "outputs": [
    {
     "name": "stdout",
     "output_type": "stream",
     "text": [
      "\\begin{tabular}{lll}\n",
      "\\hline\n",
      " Year   & Firm                  & Sector                 \\\\\n",
      "\\hline\n",
      " 2015   & Unilever              & Consumer Staples       \\\\\n",
      "        & Standard Chartered    & Financials             \\\\\n",
      "        & Halma                 & Industrials            \\\\\n",
      "        & Land Securities Group & Real Estate            \\\\\n",
      " 2016   & Unilever              & Consumer Staples       \\\\\n",
      "        & Standard Chartered    & Financials             \\\\\n",
      "        & Halma                 & Industrials            \\\\\n",
      " 2017   & Halma                 & Industrials            \\\\\n",
      " 2018   & Standard Chartered    & Financials             \\\\\n",
      "        & Halma                 & Industrials            \\\\\n",
      " 2019   &                       &                        \\\\\n",
      " 2020   & Anglo American        & Basic Materials        \\\\\n",
      "        & Barratt Developments  & Consumer Discretionary \\\\\n",
      "        & Hsbc Holdings         & Financials             \\\\\n",
      "        & Standard Chartered    & Financials             \\\\\n",
      " 2021   & Standard Chartered    & Financials             \\\\\n",
      "        & Renewi                & Utilities              \\\\\n",
      " 2022   & Hsbc Holdings         & Financials             \\\\\n",
      "        & Legal \\& General Group & Financials             \\\\\n",
      "        & Standard Chartered    & Financials             \\\\\n",
      " 2023   & Standard Chartered    & Financials             \\\\\n",
      "\\hline\n",
      "\\end{tabular}\n"
     ]
    }
   ],
   "source": [
    "print(tabulate(_table, header, tablefmt=\"latex\"))"
   ]
  },
  {
   "cell_type": "markdown",
   "id": "1f871a7a",
   "metadata": {},
   "source": [
    "### Another check: correlation between length and cosine similarity"
   ]
  },
  {
   "cell_type": "code",
   "execution_count": null,
   "id": "52d12b27",
   "metadata": {
    "ExecuteTime": {
     "end_time": "2025-09-10T15:52:43.025850Z",
     "start_time": "2025-09-10T15:52:43.015483Z"
    }
   },
   "outputs": [],
   "source": [
    "np.concatenate([cos_sims_global[_]['all'] for _ in range(9)]) "
   ]
  },
  {
   "cell_type": "code",
   "execution_count": 275,
   "id": "e72992fd",
   "metadata": {
    "ExecuteTime": {
     "end_time": "2025-09-10T15:54:48.292883Z",
     "start_time": "2025-09-10T15:54:48.286248Z"
    }
   },
   "outputs": [],
   "source": [
    "textfiles=os.listdir(TEXT_FOLDER)\n",
    "\n",
    "textfiles.sort()"
   ]
  },
  {
   "cell_type": "code",
   "execution_count": 276,
   "id": "4543266c",
   "metadata": {
    "ExecuteTime": {
     "end_time": "2025-09-10T15:54:48.700451Z",
     "start_time": "2025-09-10T15:54:48.691914Z"
    }
   },
   "outputs": [
    {
     "data": {
      "text/plain": [
       "575"
      ]
     },
     "execution_count": 276,
     "metadata": {},
     "output_type": "execute_result"
    }
   ],
   "source": [
    "# files from 2024 are un reliable, \n",
    "# as they probably refer to a different accounting year,\n",
    "# due to differences with other countries\n",
    "len(textfiles)"
   ]
  },
  {
   "cell_type": "code",
   "execution_count": 277,
   "id": "4e537f25",
   "metadata": {
    "ExecuteTime": {
     "end_time": "2025-09-10T15:54:49.262220Z",
     "start_time": "2025-09-10T15:54:49.255665Z"
    }
   },
   "outputs": [],
   "source": [
    "textfiles=[textfile for textfile in textfiles if not textfile.startswith('2024')]"
   ]
  },
  {
   "cell_type": "code",
   "execution_count": 278,
   "id": "e9a36dec",
   "metadata": {
    "ExecuteTime": {
     "end_time": "2025-09-10T15:54:50.449270Z",
     "start_time": "2025-09-10T15:54:50.035298Z"
    }
   },
   "outputs": [
    {
     "data": {
      "application/vnd.jupyter.widget-view+json": {
       "model_id": "58f2a5e36d1a4f42adf8c053e8aa007a",
       "version_major": 2,
       "version_minor": 0
      },
      "text/plain": [
       "  0%|          | 0/573 [00:00<?, ?it/s]"
      ]
     },
     "metadata": {},
     "output_type": "display_data"
    }
   ],
   "source": [
    "l_reports=np.zeros(len(textfiles))\n",
    "for i_tf, textfile in enumerate(tqdm(textfiles)):\n",
    "    with open(TEXT_FOLDER+textfile, 'r') as f:\n",
    "        _text=f.readline()\n",
    "    l_reports[i_tf]=len(_text)"
   ]
  },
  {
   "cell_type": "code",
   "execution_count": 279,
   "id": "29c5683f",
   "metadata": {
    "ExecuteTime": {
     "end_time": "2025-09-10T15:55:16.676080Z",
     "start_time": "2025-09-10T15:55:16.669410Z"
    }
   },
   "outputs": [],
   "source": [
    "cos_sim_global=np.concatenate([cos_sims_global[_]['all'] for _ in range(9)])"
   ]
  },
  {
   "cell_type": "code",
   "execution_count": 281,
   "id": "f12560e2",
   "metadata": {
    "ExecuteTime": {
     "end_time": "2025-09-10T15:56:18.867026Z",
     "start_time": "2025-09-10T15:56:18.854082Z"
    }
   },
   "outputs": [
    {
     "data": {
      "text/plain": [
       "SignificanceResult(statistic=0.27589318285936365, pvalue=1.8095588024960275e-11)"
      ]
     },
     "execution_count": 281,
     "metadata": {},
     "output_type": "execute_result"
    }
   ],
   "source": [
    "spearmanr(cos_sim_global, l_reports)"
   ]
  },
  {
   "cell_type": "code",
   "execution_count": 303,
   "id": "94c770d6",
   "metadata": {
    "ExecuteTime": {
     "end_time": "2025-09-10T16:09:57.129374Z",
     "start_time": "2025-09-10T16:09:56.825291Z"
    }
   },
   "outputs": [
    {
     "data": {
      "image/png": "[encoded data removed]",
      "text/plain": [
       "<Figure size 640x480 with 1 Axes>"
      ]
     },
     "metadata": {},
     "output_type": "display_data"
    }
   ],
   "source": [
    "plt.scatter(l_reports, cos_sim_global)\n",
    "plt.hlines(0, -1*10**6, 1.2*10**6, ls='--', color='r')\n",
    "plt.xlim(-.05*10**6, 1.05*10**6)\n",
    "plt.show()"
   ]
  },
  {
   "cell_type": "code",
   "execution_count": 297,
   "id": "4c3cced2",
   "metadata": {
    "ExecuteTime": {
     "end_time": "2025-09-10T16:09:08.903394Z",
     "start_time": "2025-09-10T16:09:08.896923Z"
    }
   },
   "outputs": [],
   "source": [
    "bins = np.linspace(l_reports.min(), l_reports.max(), 15)"
   ]
  },
  {
   "cell_type": "code",
   "execution_count": 298,
   "id": "53f2802f",
   "metadata": {
    "ExecuteTime": {
     "end_time": "2025-09-10T16:09:09.309662Z",
     "start_time": "2025-09-10T16:09:09.304223Z"
    }
   },
   "outputs": [],
   "source": [
    "digitized = np.digitize(l_reports, bins)"
   ]
  },
  {
   "cell_type": "code",
   "execution_count": 299,
   "id": "e713e46d",
   "metadata": {
    "ExecuteTime": {
     "end_time": "2025-09-10T16:09:09.451039Z",
     "start_time": "2025-09-10T16:09:09.442288Z"
    }
   },
   "outputs": [
    {
     "name": "stderr",
     "output_type": "stream",
     "text": [
      "/tmp/ipykernel_23862/3819355246.py:1: RuntimeWarning: Degrees of freedom <= 0 for slice\n",
      "  variances = [cos_sim_global[digitized == i].var() for i in range(1, len(bins))]\n"
     ]
    }
   ],
   "source": [
    "variances = [cos_sim_global[digitized == i].var() for i in range(1, len(bins))]"
   ]
  },
  {
   "cell_type": "code",
   "execution_count": 327,
   "id": "14e35bc7",
   "metadata": {
    "ExecuteTime": {
     "end_time": "2025-09-10T16:20:40.274979Z",
     "start_time": "2025-09-10T16:20:40.267356Z"
    }
   },
   "outputs": [],
   "source": [
    "len_var = np.array([len(cos_sim_global[digitized == i])/len(cos_sim_global) for i in range(1, len(bins))])"
   ]
  },
  {
   "cell_type": "code",
   "execution_count": 321,
   "id": "fc42de7d",
   "metadata": {
    "ExecuteTime": {
     "end_time": "2025-09-10T16:18:49.668842Z",
     "start_time": "2025-09-10T16:18:49.662713Z"
    }
   },
   "outputs": [],
   "source": [
    "bin_centers = 0.5 * (bins[:-1] + bins[1:])"
   ]
  },
  {
   "cell_type": "code",
   "execution_count": 326,
   "id": "b4c31c20",
   "metadata": {
    "ExecuteTime": {
     "end_time": "2025-09-10T16:20:21.032726Z",
     "start_time": "2025-09-10T16:20:20.478431Z"
    }
   },
   "outputs": [
    {
     "data": {
      "image/png": "[encoded data removed]",
      "text/plain": [
       "<Figure size 1000x600 with 2 Axes>"
      ]
     },
     "metadata": {},
     "output_type": "display_data"
    }
   ],
   "source": [
    "fig, axs=plt.subplots(1,2, figsize=(10,6))\n",
    "axs[0].plot(bin_centers, variances, marker='o')\n",
    "axs[0].set_xlim(-.05*10**6, 1.05*10**6)\n",
    "\n",
    "axs[1].plot(bin_centers, len_var, marker='x')\n",
    "axs[1].set_xlim(-.05*10**6, 1.05*10**6)\n",
    "plt.show()"
   ]
  },
  {
   "cell_type": "code",
   "execution_count": 315,
   "id": "62021c48",
   "metadata": {
    "ExecuteTime": {
     "end_time": "2025-09-10T16:13:26.008541Z",
     "start_time": "2025-09-10T16:13:26.002611Z"
    }
   },
   "outputs": [],
   "source": [
    "variances=np.array(variances)\n",
    "bin_centers=np.array(bin_centers)"
   ]
  },
  {
   "cell_type": "code",
   "execution_count": 317,
   "id": "4c3e9db0",
   "metadata": {
    "ExecuteTime": {
     "end_time": "2025-09-10T16:13:44.077233Z",
     "start_time": "2025-09-10T16:13:44.064161Z"
    }
   },
   "outputs": [
    {
     "data": {
      "text/plain": [
       "SignificanceResult(statistic=-0.8656058903985899, pvalue=0.0005746337965529294)"
      ]
     },
     "execution_count": 317,
     "metadata": {},
     "output_type": "execute_result"
    }
   ],
   "source": [
    "spearmanr(bin_centers[~np.isnan(variances)], variances[~np.isnan(variances)])"
   ]
  },
  {
   "cell_type": "code",
   "execution_count": 328,
   "id": "63574cdf",
   "metadata": {
    "ExecuteTime": {
     "end_time": "2025-09-10T16:20:59.295507Z",
     "start_time": "2025-09-10T16:20:59.282765Z"
    }
   },
   "outputs": [
    {
     "data": {
      "text/plain": [
       "SignificanceResult(statistic=-0.9624105788202938, pvalue=3.7552896196291493e-08)"
      ]
     },
     "execution_count": 328,
     "metadata": {},
     "output_type": "execute_result"
    }
   ],
   "source": [
    "spearmanr(bin_centers, len_var)"
   ]
  },
  {
   "cell_type": "code",
   "execution_count": 334,
   "id": "45dbd31f",
   "metadata": {
    "ExecuteTime": {
     "end_time": "2025-09-11T09:14:33.846635Z",
     "start_time": "2025-09-11T09:14:33.837473Z"
    }
   },
   "outputs": [
    {
     "data": {
      "text/plain": [
       "array([2.60000000e+01, 6.92737857e+04, 1.38521571e+05, 2.07769357e+05,\n",
       "       2.77017143e+05, 3.46264929e+05, 4.15512714e+05, 4.84760500e+05,\n",
       "       5.54008286e+05, 6.23256071e+05, 6.92503857e+05, 7.61751643e+05,\n",
       "       8.30999429e+05, 9.00247214e+05, 9.69495000e+05])"
      ]
     },
     "execution_count": 334,
     "metadata": {},
     "output_type": "execute_result"
    }
   ],
   "source": [
    "bins"
   ]
  },
  {
   "cell_type": "code",
   "execution_count": 346,
   "id": "430bcf17",
   "metadata": {
    "ExecuteTime": {
     "end_time": "2025-09-11T09:17:56.851676Z",
     "start_time": "2025-09-11T09:17:56.359577Z"
    }
   },
   "outputs": [
    {
     "data": {
      "image/png": "[encoded data removed]",
      "text/plain": [
       "<Figure size 640x480 with 1 Axes>"
      ]
     },
     "metadata": {},
     "output_type": "display_data"
    }
   ],
   "source": [
    "plt.boxplot([cos_sim_global[digitized == i] for i in range(1, len(bins))], positions=bins[1:], widths=5*10**4)\n",
    "plt.xticks(bins[1:], [f'{pos:.1e}' for pos in bins[1:]],rotation=45, ha='right')\n",
    "plt.show()"
   ]
  },
  {
   "cell_type": "code",
   "execution_count": 354,
   "id": "489183f8",
   "metadata": {
    "ExecuteTime": {
     "end_time": "2025-09-11T09:20:35.964710Z",
     "start_time": "2025-09-11T09:20:35.259169Z"
    }
   },
   "outputs": [
    {
     "data": {
      "image/png": "[encoded data removed]",
      "text/plain": [
       "<Figure size 640x480 with 1 Axes>"
      ]
     },
     "metadata": {},
     "output_type": "display_data"
    }
   ],
   "source": [
    "plt.hist(cos_sim_global, edgecolor='black')\n",
    "for i in range(1, len(bins)):\n",
    "    plt.hist(cos_sim_global[digitized == i], alpha=.5, edgecolor='black')\n",
    "plt.show()"
   ]
  },
  {
   "cell_type": "code",
   "execution_count": 364,
   "id": "1253eaa5",
   "metadata": {
    "ExecuteTime": {
     "end_time": "2025-09-11T09:29:20.548450Z",
     "start_time": "2025-09-11T09:29:20.539717Z"
    }
   },
   "outputs": [
    {
     "data": {
      "text/plain": [
       "15"
      ]
     },
     "execution_count": 364,
     "metadata": {},
     "output_type": "execute_result"
    }
   ],
   "source": [
    "len(bins)"
   ]
  },
  {
   "cell_type": "code",
   "execution_count": 360,
   "id": "b3d30b23",
   "metadata": {
    "ExecuteTime": {
     "end_time": "2025-09-11T09:25:43.869140Z",
     "start_time": "2025-09-11T09:25:43.850965Z"
    }
   },
   "outputs": [
    {
     "name": "stdout",
     "output_type": "stream",
     "text": [
      "1) stat=0.166, pval=2.68e-03\n",
      "2) stat=0.071, pval=4.20e-01\n",
      "3) stat=0.146, pval=3.72e-02\n",
      "4) stat=0.196, pval=1.82e-02\n",
      "5) stat=0.245, pval=3.94e-02\n",
      "6) stat=0.376, pval=4.00e-02\n",
      "7) stat=0.366, pval=8.93e-01\n",
      "8) stat=0.360, pval=7.11e-01\n",
      "9) stat=0.791, pval=4.22e-01\n",
      "10) stat=0.689, pval=6.14e-02\n",
      "11) stat=0.829, pval=3.45e-01\n"
     ]
    }
   ],
   "source": [
    "ks_pvals=[]\n",
    "for i in range(1, len(bins)):\n",
    "    sliced_distribution=cos_sim_global[digitized == i]\n",
    "    if len(sliced_distribution)>0:\n",
    "        stat, pval = ks_2samp(cos_sim_global, sliced_distribution)\n",
    "        print(f'{i}) stat={stat:.3f}, pval={pval:.2e}')\n",
    "        ks_pvals.append(pval)"
   ]
  },
  {
   "cell_type": "code",
   "execution_count": 362,
   "id": "2cb04357",
   "metadata": {
    "ExecuteTime": {
     "end_time": "2025-09-11T09:27:05.409165Z",
     "start_time": "2025-09-11T09:27:05.403192Z"
    }
   },
   "outputs": [],
   "source": [
    "fdr_005_ks_pvals=fdr_th(ks_pvals, 0.05)"
   ]
  },
  {
   "cell_type": "code",
   "execution_count": 363,
   "id": "ed2b6b48",
   "metadata": {
    "ExecuteTime": {
     "end_time": "2025-09-11T09:27:46.309508Z",
     "start_time": "2025-09-11T09:27:46.299500Z"
    }
   },
   "outputs": [
    {
     "data": {
      "text/plain": [
       "[0]"
      ]
     },
     "execution_count": 363,
     "metadata": {},
     "output_type": "execute_result"
    }
   ],
   "source": [
    "[i_p for i_p, pval in enumerate(ks_pvals) if pval<=fdr_005_ks_pvals]"
   ]
  },
  {
   "cell_type": "markdown",
   "id": "864a4e93",
   "metadata": {},
   "source": [
    "## All SDGs, per sector"
   ]
  },
  {
   "cell_type": "code",
   "execution_count": 135,
   "id": "ec6db1a9",
   "metadata": {
    "ExecuteTime": {
     "end_time": "2025-06-18T07:24:56.735841Z",
     "start_time": "2025-06-18T07:24:56.729233Z"
    }
   },
   "outputs": [],
   "source": [
    "cos_sims_global_sec=np.zeros(len(years), dtype=[('all', object), ('p_val', object)])"
   ]
  },
  {
   "cell_type": "code",
   "execution_count": 136,
   "id": "4b708339",
   "metadata": {
    "ExecuteTime": {
     "end_time": "2025-06-18T07:24:57.293076Z",
     "start_time": "2025-06-18T07:24:57.283909Z"
    }
   },
   "outputs": [],
   "source": [
    "with open('./NewProcessedData/wiki_bench_per_sector.pickle', 'rb') as f:\n",
    "    wiki_bench_per_sector=pickle.load(f)"
   ]
  },
  {
   "cell_type": "code",
   "execution_count": 138,
   "id": "7ec1cc9d",
   "metadata": {
    "ExecuteTime": {
     "end_time": "2025-06-18T07:25:07.192567Z",
     "start_time": "2025-06-18T07:25:07.125372Z"
    }
   },
   "outputs": [
    {
     "data": {
      "application/vnd.jupyter.widget-view+json": {
       "model_id": "06b4174e13834a2aa47550f66084fb51",
       "version_major": 2,
       "version_minor": 0
      },
      "text/plain": [
       "  0%|          | 0/9 [00:00<?, ?it/s]"
      ]
     },
     "metadata": {},
     "output_type": "display_data"
    }
   ],
   "source": [
    "for i_y, year in enumerate(tqdm(years)):\n",
    "    vecs_y=aggr_vectors[aggr_vectors['year']==year]['vector']\n",
    "    wiki_bench_y=wiki_bench_per_sector[aggr_vectors['year']==year]['cos_sim']\n",
    "    cos_sims_global_sec[i_y]['all']=np.zeros(len(vecs_y))\n",
    "    cos_sims_global_sec[i_y]['p_val']=np.zeros(len(vecs_y))\n",
    "    for i_vec, vec in enumerate(vecs_y):\n",
    "        _cos_sim=float(util.cos_sim(goalvecs[-1], vec))\n",
    "        cos_sims_global_sec[i_y]['all'][i_vec]=_cos_sim\n",
    "        cos_sims_global_sec[i_y]['p_val'][i_vec]=np.sum(wiki_bench_y[i_vec]>=_cos_sim)/len(wikivecs)"
   ]
  },
  {
   "cell_type": "code",
   "execution_count": 141,
   "id": "a0a0e768",
   "metadata": {
    "ExecuteTime": {
     "end_time": "2025-06-18T07:27:39.737016Z",
     "start_time": "2025-06-18T07:27:39.708257Z"
    }
   },
   "outputs": [
    {
     "data": {
      "application/vnd.jupyter.widget-view+json": {
       "model_id": "186917454a6c4035bd3f10c9be2d8fae",
       "version_major": 2,
       "version_minor": 0
      },
      "text/plain": [
       "  0%|          | 0/9 [00:00<?, ?it/s]"
      ]
     },
     "metadata": {},
     "output_type": "display_data"
    },
    {
     "name": "stdout",
     "output_type": "stream",
     "text": [
      "2015) len(validated_sectors)=0\n",
      "2016) len(validated_sectors)=0\n",
      "2017) len(validated_sectors)=0\n",
      "2018) len(validated_sectors)=1\n",
      "\t\t05                        sector=Financials\n",
      "2019) len(validated_sectors)=0\n",
      "2020) len(validated_sectors)=0\n",
      "2021) len(validated_sectors)=0\n",
      "2022) len(validated_sectors)=1\n",
      "\t\t05                        sector=Financials\n",
      "2023) len(validated_sectors)=0\n"
     ]
    }
   ],
   "source": [
    "for i_y, year in enumerate(tqdm(years)):\n",
    "    _fdr_th=fdr_th(cos_sims_global_sec[i_y]['p_val'], alpha)\n",
    "    sec_y=aggr_vectors[aggr_vectors['year']==year]['sector']\n",
    "    validated_sec=sec_y[cos_sims_global_sec[i_y]['p_val']<=_fdr_th]\n",
    "    print(f'{year:}) len(validated_sectors)={len(validated_sec):}')\n",
    "    if len(validated_sec)>0:\n",
    "        for i_vs, vs in enumerate(validated_sec):\n",
    "            print(f'\\t\\t{vs:25} sector={sec_helper[vs]:}')"
   ]
  },
  {
   "cell_type": "markdown",
   "id": "6cca16ee",
   "metadata": {},
   "source": [
    "## All SDGs, per aggregated sector"
   ]
  },
  {
   "cell_type": "code",
   "execution_count": 106,
   "id": "ebf0f207",
   "metadata": {
    "ExecuteTime": {
     "end_time": "2025-08-04T15:31:47.872450Z",
     "start_time": "2025-08-04T15:31:47.865789Z"
    }
   },
   "outputs": [],
   "source": [
    "cos_sims_global_agg_sec=np.zeros(len(years), dtype=[('all', object), ('p_val', object)])"
   ]
  },
  {
   "cell_type": "code",
   "execution_count": 107,
   "id": "941d4195",
   "metadata": {
    "ExecuteTime": {
     "end_time": "2025-08-04T15:31:48.197020Z",
     "start_time": "2025-08-04T15:31:48.189455Z"
    }
   },
   "outputs": [],
   "source": [
    "with open('./NewProcessedData/wiki_bench_per_agg_sector.pickle', 'rb') as f:\n",
    "    wiki_bench_per_agg_sector=pickle.load(f)"
   ]
  },
  {
   "cell_type": "code",
   "execution_count": 109,
   "id": "78fedba3",
   "metadata": {
    "ExecuteTime": {
     "end_time": "2025-08-04T15:31:55.668944Z",
     "start_time": "2025-08-04T15:31:55.615539Z"
    }
   },
   "outputs": [
    {
     "data": {
      "application/vnd.jupyter.widget-view+json": {
       "model_id": "2d66a96dcbf941e7acb2e13b7445eefe",
       "version_major": 2,
       "version_minor": 0
      },
      "text/plain": [
       "  0%|          | 0/9 [00:00<?, ?it/s]"
      ]
     },
     "metadata": {},
     "output_type": "display_data"
    }
   ],
   "source": [
    "for i_y, year in enumerate(tqdm(years)):\n",
    "    vecs_y=aggsec_aggr_vectors[aggsec_aggr_vectors['year']==year]['vector']\n",
    "    wiki_bench_y=wiki_bench_per_agg_sector[aggsec_aggr_vectors['year']==year]['cos_sim']\n",
    "    cos_sims_global_agg_sec[i_y]['all']=np.zeros(len(vecs_y))\n",
    "    cos_sims_global_agg_sec[i_y]['p_val']=np.zeros(len(vecs_y))\n",
    "    for i_vec, vec in enumerate(vecs_y):\n",
    "        _cos_sim=float(util.cos_sim(goalvecs[-1], vec))\n",
    "        cos_sims_global_agg_sec[i_y]['all'][i_vec]=_cos_sim\n",
    "        cos_sims_global_agg_sec[i_y]['p_val'][i_vec]=np.sum(wiki_bench_y[i_vec]>=_cos_sim)/len(wikivecs)"
   ]
  },
  {
   "cell_type": "code",
   "execution_count": 110,
   "id": "4025249f",
   "metadata": {
    "ExecuteTime": {
     "end_time": "2025-08-04T15:31:57.287661Z",
     "start_time": "2025-08-04T15:31:57.253763Z"
    }
   },
   "outputs": [
    {
     "data": {
      "application/vnd.jupyter.widget-view+json": {
       "model_id": "c3c8df2010664047afef6e6f1842c7a0",
       "version_major": 2,
       "version_minor": 0
      },
      "text/plain": [
       "  0%|          | 0/9 [00:00<?, ?it/s]"
      ]
     },
     "metadata": {},
     "output_type": "display_data"
    },
    {
     "name": "stdout",
     "output_type": "stream",
     "text": [
      "2015) len(validated_sectors)=0\n",
      "2016) len(validated_sectors)=0\n",
      "2017) len(validated_sectors)=0\n",
      "2018) len(validated_sectors)=0\n",
      "2019) len(validated_sectors)=0\n",
      "2020) len(validated_sectors)=3\n",
      "\t\tA                         sector=Consumer Goods\n",
      "\t\tC                         sector=Production Sectors\n",
      "\t\tD                         sector=Specialized Services\n",
      "2021) len(validated_sectors)=0\n",
      "2022) len(validated_sectors)=0\n",
      "2023) len(validated_sectors)=0\n"
     ]
    }
   ],
   "source": [
    "for i_y, year in enumerate(tqdm(years)):\n",
    "    _fdr_th=fdr_th(cos_sims_global_agg_sec[i_y]['p_val'], alpha)\n",
    "    sec_y=aggsec_aggr_vectors[aggsec_aggr_vectors['year']==year]['agg_sec']\n",
    "    validated_sec=sec_y[cos_sims_global_agg_sec[i_y]['p_val']<=_fdr_th]\n",
    "    print(f'{year:}) len(validated_sectors)={len(validated_sec):}')\n",
    "    if len(validated_sec)>0:\n",
    "        for i_vs, vs in enumerate(validated_sec):\n",
    "            print(f\"\\t\\t{vs:25} sector={agg_secs[vs]['name']:}\")"
   ]
  },
  {
   "cell_type": "markdown",
   "id": "812d6f56",
   "metadata": {},
   "source": [
    "## Clustered SDGs"
   ]
  },
  {
   "cell_type": "markdown",
   "id": "5f15c848",
   "metadata": {},
   "source": [
    "### Define cSDGs"
   ]
  },
  {
   "cell_type": "code",
   "execution_count": 89,
   "id": "efc3eb6b",
   "metadata": {
    "ExecuteTime": {
     "end_time": "2025-08-04T15:26:13.437269Z",
     "start_time": "2025-08-04T15:26:13.429227Z"
    }
   },
   "outputs": [],
   "source": [
    "social_sdgs=['01','02','03','04','05','10','16','17']\n",
    "economic_sdgs=['07','08','09','11','12']\n",
    "environmental_sdgs=['06','13','14','15']"
   ]
  },
  {
   "cell_type": "code",
   "execution_count": 90,
   "id": "0f7cfdc4",
   "metadata": {
    "ExecuteTime": {
     "end_time": "2025-08-04T15:26:13.853097Z",
     "start_time": "2025-08-04T15:26:13.810381Z"
    }
   },
   "outputs": [],
   "source": [
    "social_vec=[np.genfromtxt(PCA_CENTR_VECTOR_FOLDER+goalvecfile) for goalvecfile in goalvecfiles if any([sdg in goalvecfile for sdg in social_sdgs])]\n",
    "social_vec=np.mean(social_vec, axis=0)"
   ]
  },
  {
   "cell_type": "code",
   "execution_count": 91,
   "id": "5941ed23",
   "metadata": {
    "ExecuteTime": {
     "end_time": "2025-08-04T15:26:14.254475Z",
     "start_time": "2025-08-04T15:26:14.225480Z"
    }
   },
   "outputs": [],
   "source": [
    "economic_vec=[np.genfromtxt(PCA_CENTR_VECTOR_FOLDER+goalvecfile) for goalvecfile in goalvecfiles if any([sdg in goalvecfile for sdg in economic_sdgs])]\n",
    "economic_vec=np.mean(economic_vec, axis=0)"
   ]
  },
  {
   "cell_type": "code",
   "execution_count": 92,
   "id": "458e2d29",
   "metadata": {
    "ExecuteTime": {
     "end_time": "2025-08-04T15:26:14.710277Z",
     "start_time": "2025-08-04T15:26:14.683673Z"
    }
   },
   "outputs": [],
   "source": [
    "environmental_vec=[np.genfromtxt(PCA_CENTR_VECTOR_FOLDER+goalvecfile) for goalvecfile in goalvecfiles if any([sdg in goalvecfile for sdg in environmental_sdgs])]\n",
    "environmental_vec=np.mean(environmental_vec, axis=0)"
   ]
  },
  {
   "cell_type": "code",
   "execution_count": 93,
   "id": "8d13045b",
   "metadata": {
    "ExecuteTime": {
     "end_time": "2025-08-04T15:26:15.326863Z",
     "start_time": "2025-08-04T15:26:15.320767Z"
    }
   },
   "outputs": [],
   "source": [
    "clustered_sdgs=np.array([social_vec, economic_vec, environmental_vec])"
   ]
  },
  {
   "cell_type": "code",
   "execution_count": 94,
   "id": "db34bda3",
   "metadata": {
    "ExecuteTime": {
     "end_time": "2025-08-04T15:26:15.935566Z",
     "start_time": "2025-08-04T15:26:15.926641Z"
    }
   },
   "outputs": [
    {
     "data": {
      "text/plain": [
       "(3, 768)"
      ]
     },
     "execution_count": 94,
     "metadata": {},
     "output_type": "execute_result"
    }
   ],
   "source": [
    "clustered_sdgs.shape"
   ]
  },
  {
   "cell_type": "code",
   "execution_count": 95,
   "id": "aeff8b3d",
   "metadata": {
    "ExecuteTime": {
     "end_time": "2025-08-04T15:26:16.384956Z",
     "start_time": "2025-08-04T15:26:16.380018Z"
    }
   },
   "outputs": [],
   "source": [
    "cSDGS_names=['social', 'economic', 'environmental']"
   ]
  },
  {
   "cell_type": "code",
   "execution_count": 96,
   "id": "b4fa1993",
   "metadata": {
    "ExecuteTime": {
     "end_time": "2025-08-04T15:26:16.916554Z",
     "start_time": "2025-08-04T15:26:16.911894Z"
    }
   },
   "outputs": [],
   "source": [
    "l_csdgs=len(cSDGS_names)"
   ]
  },
  {
   "cell_type": "markdown",
   "id": "2dd4d7eb",
   "metadata": {},
   "source": [
    "### All sectors"
   ]
  },
  {
   "cell_type": "markdown",
   "id": "dffe2ed7",
   "metadata": {},
   "source": [
    "#### Cosine similarity validation"
   ]
  },
  {
   "cell_type": "code",
   "execution_count": 78,
   "id": "d1e382b9",
   "metadata": {
    "ExecuteTime": {
     "end_time": "2025-06-17T11:25:45.331661Z",
     "start_time": "2025-06-17T11:25:45.324599Z"
    }
   },
   "outputs": [],
   "source": [
    "cos_sims_cSDGs=np.zeros(len(years)*len(cSDGS_names), dtype=[('cSDG', 'U20'), ('mean', 'f8'), ('all', object), ('p_val', object)])"
   ]
  },
  {
   "cell_type": "code",
   "execution_count": 79,
   "id": "ec50d7b2",
   "metadata": {
    "ExecuteTime": {
     "end_time": "2025-06-17T11:25:46.429960Z",
     "start_time": "2025-06-17T11:25:45.707335Z"
    }
   },
   "outputs": [
    {
     "data": {
      "application/vnd.jupyter.widget-view+json": {
       "model_id": "",
       "version_major": 2,
       "version_minor": 0
      },
      "text/plain": [
       "  0%|          | 0/9 [00:00<?, ?it/s]"
      ]
     },
     "metadata": {},
     "output_type": "display_data"
    }
   ],
   "source": [
    "for i_y, year in enumerate(tqdm(years)):\n",
    "    vecs_y=vectors[vectors['year']==year]['vector']\n",
    "    wiki_bench_y=wiki_bench[vectors['year']==year]['cos_sim']\n",
    "    for i_c, csdg in enumerate(cSDGS_names):\n",
    "        cos_sims_cSDGs[i_y*l_csdgs+i_c]['cSDG']=csdg\n",
    "        cos_sims_cSDGs[i_y*l_csdgs+i_c]['all']=np.zeros(len(vecs_y))\n",
    "        cos_sims_cSDGs[i_y*l_csdgs+i_c]['p_val']=np.zeros(len(vecs_y))\n",
    "        for i_vec, vec in enumerate(vecs_y):\n",
    "            _cos_sim=float(util.cos_sim(clustered_sdgs[i_c], vec))\n",
    "            cos_sims_cSDGs[i_y*l_csdgs+i_c]['all'][i_vec]=_cos_sim\n",
    "            cos_sims_cSDGs[i_y*l_csdgs+i_c]['p_val'][i_vec]=np.sum(wiki_bench_y[i_vec]>=_cos_sim)/len(wikivecs)\n",
    "        cos_sims_cSDGs[i_y*l_csdgs+i_c]['mean']=np.mean(cos_sims_cSDGs[i_y*l_csdgs+i_c]['all'])"
   ]
  },
  {
   "cell_type": "code",
   "execution_count": 80,
   "id": "5b567793",
   "metadata": {
    "ExecuteTime": {
     "end_time": "2025-06-17T11:25:46.468227Z",
     "start_time": "2025-06-17T11:25:46.433559Z"
    }
   },
   "outputs": [
    {
     "data": {
      "application/vnd.jupyter.widget-view+json": {
       "model_id": "",
       "version_major": 2,
       "version_minor": 0
      },
      "text/plain": [
       "  0%|          | 0/9 [00:00<?, ?it/s]"
      ]
     },
     "metadata": {},
     "output_type": "display_data"
    },
    {
     "name": "stdout",
     "output_type": "stream",
     "text": [
      "\n",
      "2015\n",
      "\u001b[1mSocial              \u001b[0m len(validated_companies)=2\n",
      "\t\u001b[1munilever                 \u001b[0m sector=\u001b[1mConsumer Staples\u001b[0m\n",
      "\t\u001b[1mland_securities_group    \u001b[0m sector=\u001b[1mReal Estate\u001b[0m\n",
      "\n",
      "\n",
      "\u001b[1mEconomic            \u001b[0m len(validated_companies)=1\n",
      "\t\u001b[1mhalma                    \u001b[0m sector=\u001b[1mIndustrials\u001b[0m\n",
      "\n",
      "\n",
      "\u001b[1mEnvironmental       \u001b[0m len(validated_companies)=2\n",
      "\t\u001b[1mhalma                    \u001b[0m sector=\u001b[1mIndustrials\u001b[0m\n",
      "\t\u001b[1mland_securities_group    \u001b[0m sector=\u001b[1mReal Estate\u001b[0m\n",
      "\n",
      "\n",
      "\n",
      "2016\n",
      "\u001b[1mSocial              \u001b[0m len(validated_companies)=2\n",
      "\t\u001b[1munilever                 \u001b[0m sector=\u001b[1mConsumer Staples\u001b[0m\n",
      "\t\u001b[1mstandard_chartered       \u001b[0m sector=\u001b[1mFinancials\u001b[0m\n",
      "\n",
      "\n",
      "\u001b[1mEconomic            \u001b[0m len(validated_companies)=2\n",
      "\t\u001b[1mstandard_chartered       \u001b[0m sector=\u001b[1mFinancials\u001b[0m\n",
      "\t\u001b[1mhalma                    \u001b[0m sector=\u001b[1mIndustrials\u001b[0m\n",
      "\n",
      "\n",
      "\u001b[1mEnvironmental       \u001b[0m len(validated_companies)=1\n",
      "\t\u001b[1mhalma                    \u001b[0m sector=\u001b[1mIndustrials\u001b[0m\n",
      "\n",
      "\n",
      "\n",
      "2017\n",
      "Social               len(validated_companies)=0\n",
      "\u001b[1mEconomic            \u001b[0m len(validated_companies)=1\n",
      "\t\u001b[1mhalma                    \u001b[0m sector=\u001b[1mIndustrials\u001b[0m\n",
      "\n",
      "\n",
      "\u001b[1mEnvironmental       \u001b[0m len(validated_companies)=1\n",
      "\t\u001b[1mhalma                    \u001b[0m sector=\u001b[1mIndustrials\u001b[0m\n",
      "\n",
      "\n",
      "\n",
      "2018\n",
      "Social               len(validated_companies)=0\n",
      "\u001b[1mEconomic            \u001b[0m len(validated_companies)=1\n",
      "\t\u001b[1mhalma                    \u001b[0m sector=\u001b[1mIndustrials\u001b[0m\n",
      "\n",
      "\n",
      "Environmental        len(validated_companies)=0\n",
      "\n",
      "2019\n",
      "Social               len(validated_companies)=0\n",
      "\u001b[1mEconomic            \u001b[0m len(validated_companies)=1\n",
      "\t\u001b[1mhalma                    \u001b[0m sector=\u001b[1mIndustrials\u001b[0m\n",
      "\n",
      "\n",
      "Environmental        len(validated_companies)=0\n",
      "\n",
      "2020\n",
      "\u001b[1mSocial              \u001b[0m len(validated_companies)=1\n",
      "\t\u001b[1mstandard_chartered       \u001b[0m sector=\u001b[1mFinancials\u001b[0m\n",
      "\n",
      "\n",
      "Economic             len(validated_companies)=0\n",
      "Environmental        len(validated_companies)=0\n",
      "\n",
      "2021\n",
      "\u001b[1mSocial              \u001b[0m len(validated_companies)=1\n",
      "\t\u001b[1mstandard_chartered       \u001b[0m sector=\u001b[1mFinancials\u001b[0m\n",
      "\n",
      "\n",
      "\u001b[1mEconomic            \u001b[0m len(validated_companies)=1\n",
      "\t\u001b[1mrenewi                   \u001b[0m sector=\u001b[1mUtilities\u001b[0m\n",
      "\n",
      "\n",
      "\u001b[1mEnvironmental       \u001b[0m len(validated_companies)=5\n",
      "\t\u001b[1mberkeley_group_holdings_(the)\u001b[0m sector=\u001b[1mConsumer Discretionary\u001b[0m\n",
      "\t\u001b[1mreckitt_benckiser_group  \u001b[0m sector=\u001b[1mConsumer Staples\u001b[0m\n",
      "\t\u001b[1mlegal_&_general_group    \u001b[0m sector=\u001b[1mFinancials\u001b[0m\n",
      "\t\u001b[1mstandard_chartered       \u001b[0m sector=\u001b[1mFinancials\u001b[0m\n",
      "\t\u001b[1mrenewi                   \u001b[0m sector=\u001b[1mUtilities\u001b[0m\n",
      "\n",
      "\n",
      "\n",
      "2022\n",
      "\u001b[1mSocial              \u001b[0m len(validated_companies)=2\n",
      "\t\u001b[1mlegal_&_general_group    \u001b[0m sector=\u001b[1mFinancials\u001b[0m\n",
      "\t\u001b[1mstandard_chartered       \u001b[0m sector=\u001b[1mFinancials\u001b[0m\n",
      "\n",
      "\n",
      "Economic             len(validated_companies)=0\n",
      "\u001b[1mEnvironmental       \u001b[0m len(validated_companies)=2\n",
      "\t\u001b[1mstandard_chartered       \u001b[0m sector=\u001b[1mFinancials\u001b[0m\n",
      "\t\u001b[1mhelios_towers            \u001b[0m sector=\u001b[1mTelecommunications\u001b[0m\n",
      "\n",
      "\n",
      "\n",
      "2023\n",
      "Social               len(validated_companies)=0\n",
      "Economic             len(validated_companies)=0\n",
      "\u001b[1mEnvironmental       \u001b[0m len(validated_companies)=3\n",
      "\t\u001b[1mhelios_towers            \u001b[0m sector=\u001b[1mTelecommunications\u001b[0m\n",
      "\t\u001b[1mpennon_group             \u001b[0m sector=\u001b[1mUtilities\u001b[0m\n",
      "\t\u001b[1munited_utilities_group   \u001b[0m sector=\u001b[1mUtilities\u001b[0m\n",
      "\n",
      "\n"
     ]
    }
   ],
   "source": [
    "for i_y, year in enumerate(tqdm(years)):\n",
    "    print(f'\\n{year:}')\n",
    "    compa_y=vectors[vectors['year']==year]['company']\n",
    "    sec_y=vectors[vectors['year']==year]['sector']\n",
    "    for i_c, csdg in enumerate(cSDGS_names):\n",
    "        _fdr_th=fdr_th(cos_sims_cSDGs[i_y*l_csdgs+i_c]['p_val'], alpha)\n",
    "        validation_mask=cos_sims_cSDGs[i_y*l_csdgs+i_c]['p_val']<=_fdr_th\n",
    "        validated_compa=compa_y[validation_mask]\n",
    "        validated_sec=sec_y[validation_mask]\n",
    "        if len(validated_compa)>0:\n",
    "            print(f'\\033[1m{csdg.capitalize():20}\\033[0m len(validated_companies)={len(validated_compa):}')\n",
    "            for i_vc, vc in enumerate(validated_compa):\n",
    "                print(f'\\t\\033[1m{vc:25}\\033[0m sector=\\033[1m{sec_helper[validated_sec[i_vc]]:}\\033[0m')\n",
    "            print('\\n')\n",
    "        else:\n",
    "            print(f'{csdg.capitalize():20} len(validated_companies)={len(validated_compa):}')"
   ]
  },
  {
   "cell_type": "markdown",
   "id": "8891b764",
   "metadata": {},
   "source": [
    "#### Table for $\\LaTeX$"
   ]
  },
  {
   "cell_type": "code",
   "execution_count": 107,
   "id": "91ad5aac",
   "metadata": {
    "ExecuteTime": {
     "end_time": "2025-06-17T17:09:30.838724Z",
     "start_time": "2025-06-17T17:09:30.796347Z"
    }
   },
   "outputs": [
    {
     "data": {
      "application/vnd.jupyter.widget-view+json": {
       "model_id": "4e5df524ad3444cb92a0a9952b27dead",
       "version_major": 2,
       "version_minor": 0
      },
      "text/plain": [
       "  0%|          | 0/9 [00:00<?, ?it/s]"
      ]
     },
     "metadata": {},
     "output_type": "display_data"
    },
    {
     "name": "stdout",
     "output_type": "stream",
     "text": [
      "\n",
      "2015\n",
      "\u001b[1mSocial              \u001b[0m len(validated_companies)=2\n",
      "\u001b[1mEconomic            \u001b[0m len(validated_companies)=1\n",
      "\u001b[1mEnvironmental       \u001b[0m len(validated_companies)=2\n",
      "\n",
      "2016\n",
      "\u001b[1mSocial              \u001b[0m len(validated_companies)=2\n",
      "\u001b[1mEconomic            \u001b[0m len(validated_companies)=2\n",
      "\u001b[1mEnvironmental       \u001b[0m len(validated_companies)=1\n",
      "\n",
      "2017\n",
      "\u001b[1mEconomic            \u001b[0m len(validated_companies)=1\n",
      "\u001b[1mEnvironmental       \u001b[0m len(validated_companies)=1\n",
      "\n",
      "2018\n",
      "\u001b[1mEconomic            \u001b[0m len(validated_companies)=1\n",
      "\n",
      "2019\n",
      "\u001b[1mEconomic            \u001b[0m len(validated_companies)=1\n",
      "\n",
      "2020\n",
      "\u001b[1mSocial              \u001b[0m len(validated_companies)=1\n",
      "\n",
      "2021\n",
      "\u001b[1mSocial              \u001b[0m len(validated_companies)=1\n",
      "\u001b[1mEconomic            \u001b[0m len(validated_companies)=1\n",
      "\u001b[1mEnvironmental       \u001b[0m len(validated_companies)=5\n",
      "\n",
      "2022\n",
      "\u001b[1mSocial              \u001b[0m len(validated_companies)=2\n",
      "\u001b[1mEnvironmental       \u001b[0m len(validated_companies)=2\n",
      "\n",
      "2023\n",
      "\u001b[1mEnvironmental       \u001b[0m len(validated_companies)=3\n"
     ]
    }
   ],
   "source": [
    "_table=[]\n",
    "for i_y, year in enumerate(tqdm(years)):\n",
    "    print(f'\\n{year:}')\n",
    "    compa_y=vectors[vectors['year']==year]['company']\n",
    "    sec_y=vectors[vectors['year']==year]['sector']\n",
    "    for i_c, csdg in enumerate(cSDGS_names):\n",
    "        _fdr_th=fdr_th(cos_sims_cSDGs[i_y*l_csdgs+i_c]['p_val'], alpha)\n",
    "        validation_mask=cos_sims_cSDGs[i_y*l_csdgs+i_c]['p_val']<=_fdr_th\n",
    "        validated_compa=compa_y[validation_mask]\n",
    "        validated_sec=sec_y[validation_mask]\n",
    "        if len(validated_compa)>0:\n",
    "            print(f'\\033[1m{csdg.capitalize():20}\\033[0m len(validated_companies)={len(validated_compa):}')\n",
    "            for i_vc, vc in enumerate(validated_compa):\n",
    "                company_name_smooth=vc.split('_')\n",
    "                company_name_smooth=[_.capitalize() for _ in company_name_smooth]\n",
    "                company_name_smooth=' '.join(company_name_smooth)\n",
    "                if i_vc==0 and i_c==0:\n",
    "                    _table.append([year, csdg.capitalize(), company_name_smooth, sec_helper[validated_sec[i_vc]]])\n",
    "                elif i_vc==0:\n",
    "                    _table.append(['', csdg.capitalize(), company_name_smooth, sec_helper[validated_sec[i_vc]]])\n",
    "                else:\n",
    "                    _table.append(['', '', company_name_smooth, sec_helper[validated_sec[i_vc]]])\n",
    "        elif i_c==0:\n",
    "            _table.append([year, csdg.capitalize(), '', ''])\n",
    "        else:\n",
    "            _table.append(['', csdg.capitalize(), '', ''])"
   ]
  },
  {
   "cell_type": "code",
   "execution_count": 108,
   "id": "02056f93",
   "metadata": {
    "ExecuteTime": {
     "end_time": "2025-06-17T17:09:31.277694Z",
     "start_time": "2025-06-17T17:09:31.272107Z"
    }
   },
   "outputs": [],
   "source": [
    "header=['Year',\"SDGs' dimension\",'Firm', 'Sector']"
   ]
  },
  {
   "cell_type": "code",
   "execution_count": 109,
   "id": "4b23986d",
   "metadata": {
    "ExecuteTime": {
     "end_time": "2025-06-17T17:09:32.409047Z",
     "start_time": "2025-06-17T17:09:32.390306Z"
    }
   },
   "outputs": [
    {
     "name": "stdout",
     "output_type": "stream",
     "text": [
      "\\begin{tabular}{llll}\n",
      "\\hline\n",
      " Year   & SDGs' dimension   & Firm                          & Sector                 \\\\\n",
      "\\hline\n",
      " 2015   & Social            & Unilever                      & Consumer Staples       \\\\\n",
      "        &                   & Land Securities Group         & Real Estate            \\\\\n",
      "        & Economic          & Halma                         & Industrials            \\\\\n",
      "        & Environmental     & Halma                         & Industrials            \\\\\n",
      "        &                   & Land Securities Group         & Real Estate            \\\\\n",
      " 2016   & Social            & Unilever                      & Consumer Staples       \\\\\n",
      "        &                   & Standard Chartered            & Financials             \\\\\n",
      "        & Economic          & Standard Chartered            & Financials             \\\\\n",
      "        &                   & Halma                         & Industrials            \\\\\n",
      "        & Environmental     & Halma                         & Industrials            \\\\\n",
      " 2017   & Social            &                               &                        \\\\\n",
      "        & Economic          & Halma                         & Industrials            \\\\\n",
      "        & Environmental     & Halma                         & Industrials            \\\\\n",
      " 2018   & Social            &                               &                        \\\\\n",
      "        & Economic          & Halma                         & Industrials            \\\\\n",
      "        & Environmental     &                               &                        \\\\\n",
      " 2019   & Social            &                               &                        \\\\\n",
      "        & Economic          & Halma                         & Industrials            \\\\\n",
      "        & Environmental     &                               &                        \\\\\n",
      " 2020   & Social            & Standard Chartered            & Financials             \\\\\n",
      "        & Economic          &                               &                        \\\\\n",
      "        & Environmental     &                               &                        \\\\\n",
      " 2021   & Social            & Standard Chartered            & Financials             \\\\\n",
      "        & Economic          & Renewi                        & Utilities              \\\\\n",
      "        & Environmental     & Berkeley Group Holdings (the) & Consumer Discretionary \\\\\n",
      "        &                   & Reckitt Benckiser Group       & Consumer Staples       \\\\\n",
      "        &                   & Legal \\& General Group         & Financials             \\\\\n",
      "        &                   & Standard Chartered            & Financials             \\\\\n",
      "        &                   & Renewi                        & Utilities              \\\\\n",
      " 2022   & Social            & Legal \\& General Group         & Financials             \\\\\n",
      "        &                   & Standard Chartered            & Financials             \\\\\n",
      "        & Economic          &                               &                        \\\\\n",
      "        & Environmental     & Standard Chartered            & Financials             \\\\\n",
      "        &                   & Helios Towers                 & Telecommunications     \\\\\n",
      " 2023   & Social            &                               &                        \\\\\n",
      "        & Economic          &                               &                        \\\\\n",
      "        & Environmental     & Helios Towers                 & Telecommunications     \\\\\n",
      "        &                   & Pennon Group                  & Utilities              \\\\\n",
      "        &                   & United Utilities Group        & Utilities              \\\\\n",
      "\\hline\n",
      "\\end{tabular}\n"
     ]
    }
   ],
   "source": [
    "print(tabulate(_table, header, tablefmt=\"latex\"))"
   ]
  },
  {
   "cell_type": "markdown",
   "id": "a08fc14d",
   "metadata": {},
   "source": [
    "### Per sector"
   ]
  },
  {
   "cell_type": "markdown",
   "id": "308c89fa",
   "metadata": {},
   "source": [
    "#### Cosine similarity validation"
   ]
  },
  {
   "cell_type": "code",
   "execution_count": 143,
   "id": "dca9da9d",
   "metadata": {
    "ExecuteTime": {
     "end_time": "2025-06-18T07:37:14.606136Z",
     "start_time": "2025-06-18T07:37:14.599046Z"
    }
   },
   "outputs": [],
   "source": [
    "cos_sims_cSDGs_sec=np.zeros(len(years)*len(cSDGS_names), dtype=[('cSDG', 'U20'), ('all', object), ('p_val', object)])"
   ]
  },
  {
   "cell_type": "code",
   "execution_count": 144,
   "id": "95e7f28a",
   "metadata": {
    "ExecuteTime": {
     "end_time": "2025-06-18T07:37:15.158637Z",
     "start_time": "2025-06-18T07:37:14.983458Z"
    }
   },
   "outputs": [
    {
     "data": {
      "application/vnd.jupyter.widget-view+json": {
       "model_id": "552313c47d794c3daab2384e151b6778",
       "version_major": 2,
       "version_minor": 0
      },
      "text/plain": [
       "  0%|          | 0/9 [00:00<?, ?it/s]"
      ]
     },
     "metadata": {},
     "output_type": "display_data"
    }
   ],
   "source": [
    "for i_y, year in enumerate(tqdm(years)):\n",
    "    vecs_y=aggr_vectors[aggr_vectors['year']==year]['vector']\n",
    "    wiki_bench_y=wiki_bench_per_sector[aggr_vectors['year']==year]['cos_sim']\n",
    "    for i_c, csdg in enumerate(cSDGS_names):\n",
    "        cos_sims_cSDGs_sec[i_y*l_csdgs+i_c]['cSDG']=csdg\n",
    "        cos_sims_cSDGs_sec[i_y*l_csdgs+i_c]['all']=np.zeros(len(vecs_y))\n",
    "        cos_sims_cSDGs_sec[i_y*l_csdgs+i_c]['p_val']=np.zeros(len(vecs_y))\n",
    "        for i_vec, vec in enumerate(vecs_y):\n",
    "            _cos_sim=float(util.cos_sim(clustered_sdgs[i_c], vec))\n",
    "            cos_sims_cSDGs_sec[i_y*l_csdgs+i_c]['all'][i_vec]=_cos_sim\n",
    "            cos_sims_cSDGs_sec[i_y*l_csdgs+i_c]['p_val'][i_vec]=np.sum(wiki_bench_y[i_vec]>=_cos_sim)/len(wikivecs)"
   ]
  },
  {
   "cell_type": "code",
   "execution_count": 145,
   "id": "6e25f60c",
   "metadata": {
    "ExecuteTime": {
     "end_time": "2025-06-18T07:40:17.522514Z",
     "start_time": "2025-06-18T07:40:17.486630Z"
    }
   },
   "outputs": [
    {
     "data": {
      "application/vnd.jupyter.widget-view+json": {
       "model_id": "c0baaf8c8bc24a8abe1f5cf2e989bdd7",
       "version_major": 2,
       "version_minor": 0
      },
      "text/plain": [
       "  0%|          | 0/9 [00:00<?, ?it/s]"
      ]
     },
     "metadata": {},
     "output_type": "display_data"
    },
    {
     "name": "stdout",
     "output_type": "stream",
     "text": [
      "\n",
      "2015\n",
      "Social               len(validated_sec)=0\n",
      "Economic             len(validated_sec)=0\n",
      "Environmental        len(validated_sec)=0\n",
      "\n",
      "2016\n",
      "Social               len(validated_sec)=0\n",
      "Economic             len(validated_sec)=0\n",
      "Environmental        len(validated_sec)=0\n",
      "\n",
      "2017\n",
      "Social               len(validated_sec)=0\n",
      "Economic             len(validated_sec)=0\n",
      "Environmental        len(validated_sec)=0\n",
      "\n",
      "2018\n",
      "Social               len(validated_sec)=0\n",
      "\u001b[1mEconomic            \n",
      "\t\u001b[1m05                       \u001b[0m sector=\u001b[1mFinancials\u001b[0m\n",
      "\n",
      "\n",
      "Environmental        len(validated_sec)=0\n",
      "\n",
      "2019\n",
      "Social               len(validated_sec)=0\n",
      "Economic             len(validated_sec)=0\n",
      "Environmental        len(validated_sec)=0\n",
      "\n",
      "2020\n",
      "\u001b[1mSocial              \n",
      "\t\u001b[1m05                       \u001b[0m sector=\u001b[1mFinancials\u001b[0m\n",
      "\n",
      "\n",
      "Economic             len(validated_sec)=0\n",
      "Environmental        len(validated_sec)=0\n",
      "\n",
      "2021\n",
      "Social               len(validated_sec)=0\n",
      "\u001b[1mEconomic            \n",
      "\t\u001b[1m07                       \u001b[0m sector=\u001b[1mIndustrials\u001b[0m\n",
      "\n",
      "\n",
      "Environmental        len(validated_sec)=0\n",
      "\n",
      "2022\n",
      "\u001b[1mSocial              \n",
      "\t\u001b[1m05                       \u001b[0m sector=\u001b[1mFinancials\u001b[0m\n",
      "\n",
      "\n",
      "\u001b[1mEconomic            \n",
      "\t\u001b[1m05                       \u001b[0m sector=\u001b[1mFinancials\u001b[0m\n",
      "\t\u001b[1m07                       \u001b[0m sector=\u001b[1mIndustrials\u001b[0m\n",
      "\n",
      "\n",
      "Environmental        len(validated_sec)=0\n",
      "\n",
      "2023\n",
      "Social               len(validated_sec)=0\n",
      "Economic             len(validated_sec)=0\n",
      "Environmental        len(validated_sec)=0\n"
     ]
    }
   ],
   "source": [
    "for i_y, year in enumerate(tqdm(years)):\n",
    "    print(f'\\n{year:}')\n",
    "    sec_y=aggr_vectors[aggr_vectors['year']==year]['sector']\n",
    "    for i_c, csdg in enumerate(cSDGS_names):\n",
    "        _fdr_th=fdr_th(cos_sims_cSDGs_sec[i_y*l_csdgs+i_c]['p_val'], alpha)\n",
    "        validation_mask=cos_sims_cSDGs_sec[i_y*l_csdgs+i_c]['p_val']<=_fdr_th\n",
    "        validated_sec=sec_y[validation_mask]\n",
    "        if len(validated_sec)>0:\n",
    "            print(f'\\033[1m{csdg.capitalize():20}')\n",
    "            for i_vs, vs in enumerate(validated_sec):\n",
    "                print(f'\\t\\033[1m{vs:25}\\033[0m sector=\\033[1m{sec_helper[vs]:}\\033[0m')\n",
    "            print('\\n')\n",
    "        else:\n",
    "            print(f'{csdg.capitalize():20} len(validated_sec)={len(validated_sec):}')"
   ]
  },
  {
   "cell_type": "markdown",
   "id": "e23901a8",
   "metadata": {},
   "source": [
    "#### Table for $\\LaTeX$"
   ]
  },
  {
   "cell_type": "code",
   "execution_count": 107,
   "id": "a8fcb51c",
   "metadata": {
    "ExecuteTime": {
     "end_time": "2025-06-17T17:09:30.838724Z",
     "start_time": "2025-06-17T17:09:30.796347Z"
    }
   },
   "outputs": [
    {
     "data": {
      "application/vnd.jupyter.widget-view+json": {
       "model_id": "4e5df524ad3444cb92a0a9952b27dead",
       "version_major": 2,
       "version_minor": 0
      },
      "text/plain": [
       "  0%|          | 0/9 [00:00<?, ?it/s]"
      ]
     },
     "metadata": {},
     "output_type": "display_data"
    },
    {
     "name": "stdout",
     "output_type": "stream",
     "text": [
      "\n",
      "2015\n",
      "\u001b[1mSocial              \u001b[0m len(validated_companies)=2\n",
      "\u001b[1mEconomic            \u001b[0m len(validated_companies)=1\n",
      "\u001b[1mEnvironmental       \u001b[0m len(validated_companies)=2\n",
      "\n",
      "2016\n",
      "\u001b[1mSocial              \u001b[0m len(validated_companies)=2\n",
      "\u001b[1mEconomic            \u001b[0m len(validated_companies)=2\n",
      "\u001b[1mEnvironmental       \u001b[0m len(validated_companies)=1\n",
      "\n",
      "2017\n",
      "\u001b[1mEconomic            \u001b[0m len(validated_companies)=1\n",
      "\u001b[1mEnvironmental       \u001b[0m len(validated_companies)=1\n",
      "\n",
      "2018\n",
      "\u001b[1mEconomic            \u001b[0m len(validated_companies)=1\n",
      "\n",
      "2019\n",
      "\u001b[1mEconomic            \u001b[0m len(validated_companies)=1\n",
      "\n",
      "2020\n",
      "\u001b[1mSocial              \u001b[0m len(validated_companies)=1\n",
      "\n",
      "2021\n",
      "\u001b[1mSocial              \u001b[0m len(validated_companies)=1\n",
      "\u001b[1mEconomic            \u001b[0m len(validated_companies)=1\n",
      "\u001b[1mEnvironmental       \u001b[0m len(validated_companies)=5\n",
      "\n",
      "2022\n",
      "\u001b[1mSocial              \u001b[0m len(validated_companies)=2\n",
      "\u001b[1mEnvironmental       \u001b[0m len(validated_companies)=2\n",
      "\n",
      "2023\n",
      "\u001b[1mEnvironmental       \u001b[0m len(validated_companies)=3\n"
     ]
    }
   ],
   "source": [
    "_table=[]\n",
    "for i_y, year in enumerate(tqdm(years)):\n",
    "    print(f'\\n{year:}')\n",
    "    compa_y=vectors[vectors['year']==year]['company']\n",
    "    sec_y=vectors[vectors['year']==year]['sector']\n",
    "    for i_c, csdg in enumerate(cSDGS_names):\n",
    "        _fdr_th=fdr_th(cos_sims_cSDGs[i_y*l_csdgs+i_c]['p_val'], alpha)\n",
    "        validation_mask=cos_sims_cSDGs[i_y*l_csdgs+i_c]['p_val']<=_fdr_th\n",
    "        validated_compa=compa_y[validation_mask]\n",
    "        validated_sec=sec_y[validation_mask]\n",
    "        if len(validated_compa)>0:\n",
    "            print(f'\\033[1m{csdg.capitalize():20}\\033[0m len(validated_companies)={len(validated_compa):}')\n",
    "            for i_vc, vc in enumerate(validated_compa):\n",
    "                company_name_smooth=vc.split('_')\n",
    "                company_name_smooth=[_.capitalize() for _ in company_name_smooth]\n",
    "                company_name_smooth=' '.join(company_name_smooth)\n",
    "                if i_vc==0 and i_c==0:\n",
    "                    _table.append([year, csdg.capitalize(), company_name_smooth, sec_helper[validated_sec[i_vc]]])\n",
    "                elif i_vc==0:\n",
    "                    _table.append(['', csdg.capitalize(), company_name_smooth, sec_helper[validated_sec[i_vc]]])\n",
    "                else:\n",
    "                    _table.append(['', '', company_name_smooth, sec_helper[validated_sec[i_vc]]])\n",
    "        elif i_c==0:\n",
    "            _table.append([year, csdg.capitalize(), '', ''])\n",
    "        else:\n",
    "            _table.append(['', csdg.capitalize(), '', ''])"
   ]
  },
  {
   "cell_type": "code",
   "execution_count": 108,
   "id": "2bab96ef",
   "metadata": {
    "ExecuteTime": {
     "end_time": "2025-06-17T17:09:31.277694Z",
     "start_time": "2025-06-17T17:09:31.272107Z"
    }
   },
   "outputs": [],
   "source": [
    "header=['Year',\"SDGs' dimension\",'Firm', 'Sector']"
   ]
  },
  {
   "cell_type": "code",
   "execution_count": 109,
   "id": "53e56a69",
   "metadata": {
    "ExecuteTime": {
     "end_time": "2025-06-17T17:09:32.409047Z",
     "start_time": "2025-06-17T17:09:32.390306Z"
    }
   },
   "outputs": [
    {
     "name": "stdout",
     "output_type": "stream",
     "text": [
      "\\begin{tabular}{llll}\n",
      "\\hline\n",
      " Year   & SDGs' dimension   & Firm                          & Sector                 \\\\\n",
      "\\hline\n",
      " 2015   & Social            & Unilever                      & Consumer Staples       \\\\\n",
      "        &                   & Land Securities Group         & Real Estate            \\\\\n",
      "        & Economic          & Halma                         & Industrials            \\\\\n",
      "        & Environmental     & Halma                         & Industrials            \\\\\n",
      "        &                   & Land Securities Group         & Real Estate            \\\\\n",
      " 2016   & Social            & Unilever                      & Consumer Staples       \\\\\n",
      "        &                   & Standard Chartered            & Financials             \\\\\n",
      "        & Economic          & Standard Chartered            & Financials             \\\\\n",
      "        &                   & Halma                         & Industrials            \\\\\n",
      "        & Environmental     & Halma                         & Industrials            \\\\\n",
      " 2017   & Social            &                               &                        \\\\\n",
      "        & Economic          & Halma                         & Industrials            \\\\\n",
      "        & Environmental     & Halma                         & Industrials            \\\\\n",
      " 2018   & Social            &                               &                        \\\\\n",
      "        & Economic          & Halma                         & Industrials            \\\\\n",
      "        & Environmental     &                               &                        \\\\\n",
      " 2019   & Social            &                               &                        \\\\\n",
      "        & Economic          & Halma                         & Industrials            \\\\\n",
      "        & Environmental     &                               &                        \\\\\n",
      " 2020   & Social            & Standard Chartered            & Financials             \\\\\n",
      "        & Economic          &                               &                        \\\\\n",
      "        & Environmental     &                               &                        \\\\\n",
      " 2021   & Social            & Standard Chartered            & Financials             \\\\\n",
      "        & Economic          & Renewi                        & Utilities              \\\\\n",
      "        & Environmental     & Berkeley Group Holdings (the) & Consumer Discretionary \\\\\n",
      "        &                   & Reckitt Benckiser Group       & Consumer Staples       \\\\\n",
      "        &                   & Legal \\& General Group         & Financials             \\\\\n",
      "        &                   & Standard Chartered            & Financials             \\\\\n",
      "        &                   & Renewi                        & Utilities              \\\\\n",
      " 2022   & Social            & Legal \\& General Group         & Financials             \\\\\n",
      "        &                   & Standard Chartered            & Financials             \\\\\n",
      "        & Economic          &                               &                        \\\\\n",
      "        & Environmental     & Standard Chartered            & Financials             \\\\\n",
      "        &                   & Helios Towers                 & Telecommunications     \\\\\n",
      " 2023   & Social            &                               &                        \\\\\n",
      "        & Economic          &                               &                        \\\\\n",
      "        & Environmental     & Helios Towers                 & Telecommunications     \\\\\n",
      "        &                   & Pennon Group                  & Utilities              \\\\\n",
      "        &                   & United Utilities Group        & Utilities              \\\\\n",
      "\\hline\n",
      "\\end{tabular}\n"
     ]
    }
   ],
   "source": [
    "print(tabulate(_table, header, tablefmt=\"latex\"))"
   ]
  },
  {
   "cell_type": "markdown",
   "id": "549c21c7",
   "metadata": {},
   "source": [
    "### Per aggregated sector"
   ]
  },
  {
   "cell_type": "markdown",
   "id": "ce1243d6",
   "metadata": {},
   "source": [
    "#### Cosine similarity validation"
   ]
  },
  {
   "cell_type": "code",
   "execution_count": 111,
   "id": "4229f452",
   "metadata": {
    "ExecuteTime": {
     "end_time": "2025-08-04T15:32:14.907969Z",
     "start_time": "2025-08-04T15:32:14.900906Z"
    }
   },
   "outputs": [],
   "source": [
    "cos_sims_cSDGs_aggsec=np.zeros(len(years)*len(cSDGS_names), dtype=[('cSDG', 'U20'), ('all', object), ('p_val', object)])"
   ]
  },
  {
   "cell_type": "code",
   "execution_count": 113,
   "id": "a80d8681",
   "metadata": {
    "ExecuteTime": {
     "end_time": "2025-08-04T15:32:32.159623Z",
     "start_time": "2025-08-04T15:32:32.056904Z"
    }
   },
   "outputs": [
    {
     "data": {
      "application/vnd.jupyter.widget-view+json": {
       "model_id": "850030590c394ac2bde7f3df5ebaf1c3",
       "version_major": 2,
       "version_minor": 0
      },
      "text/plain": [
       "  0%|          | 0/9 [00:00<?, ?it/s]"
      ]
     },
     "metadata": {},
     "output_type": "display_data"
    }
   ],
   "source": [
    "for i_y, year in enumerate(tqdm(years)):\n",
    "    vecs_y=aggsec_aggr_vectors[aggsec_aggr_vectors['year']==year]['vector']\n",
    "    wiki_bench_y=wiki_bench_per_agg_sec[aggsec_aggr_vectors['year']==year]['cos_sim']\n",
    "    for i_c, csdg in enumerate(cSDGS_names):\n",
    "        cos_sims_cSDGs_aggsec[i_y*l_csdgs+i_c]['cSDG']=csdg\n",
    "        cos_sims_cSDGs_aggsec[i_y*l_csdgs+i_c]['all']=np.zeros(len(vecs_y))\n",
    "        cos_sims_cSDGs_aggsec[i_y*l_csdgs+i_c]['p_val']=np.zeros(len(vecs_y))\n",
    "        for i_vec, vec in enumerate(vecs_y):\n",
    "            _cos_sim=float(util.cos_sim(clustered_sdgs[i_c], vec))\n",
    "            cos_sims_cSDGs_aggsec[i_y*l_csdgs+i_c]['all'][i_vec]=_cos_sim\n",
    "            cos_sims_cSDGs_aggsec[i_y*l_csdgs+i_c]['p_val'][i_vec]=np.sum(wiki_bench_y[i_vec]>=_cos_sim)/len(wikivecs)"
   ]
  },
  {
   "cell_type": "code",
   "execution_count": 115,
   "id": "b820591f",
   "metadata": {
    "ExecuteTime": {
     "end_time": "2025-08-04T15:34:46.921817Z",
     "start_time": "2025-08-04T15:34:46.884469Z"
    }
   },
   "outputs": [
    {
     "data": {
      "application/vnd.jupyter.widget-view+json": {
       "model_id": "dfd5c9fc48ee4c1492027cabefcc4d45",
       "version_major": 2,
       "version_minor": 0
      },
      "text/plain": [
       "  0%|          | 0/9 [00:00<?, ?it/s]"
      ]
     },
     "metadata": {},
     "output_type": "display_data"
    },
    {
     "name": "stdout",
     "output_type": "stream",
     "text": [
      "\n",
      "2015\n",
      "Social               len(validated_sec)=0\n",
      "Economic             len(validated_sec)=0\n",
      "Environmental        len(validated_sec)=0\n",
      "\n",
      "2016\n",
      "\u001b[1mSocial              \n",
      "\t\u001b[1mD                        \u001b[0m sector=\u001b[1mSpecialized Services\u001b[0m\n",
      "\n",
      "\n",
      "Economic             len(validated_sec)=0\n",
      "Environmental        len(validated_sec)=0\n",
      "\n",
      "2017\n",
      "Social               len(validated_sec)=0\n",
      "Economic             len(validated_sec)=0\n",
      "Environmental        len(validated_sec)=0\n",
      "\n",
      "2018\n",
      "Social               len(validated_sec)=0\n",
      "\u001b[1mEconomic            \n",
      "\t\u001b[1mC                        \u001b[0m sector=\u001b[1mProduction Sectors\u001b[0m\n",
      "\t\u001b[1mD                        \u001b[0m sector=\u001b[1mSpecialized Services\u001b[0m\n",
      "\n",
      "\n",
      "Environmental        len(validated_sec)=0\n",
      "\n",
      "2019\n",
      "Social               len(validated_sec)=0\n",
      "\u001b[1mEconomic            \n",
      "\t\u001b[1mC                        \u001b[0m sector=\u001b[1mProduction Sectors\u001b[0m\n",
      "\n",
      "\n",
      "Environmental        len(validated_sec)=0\n",
      "\n",
      "2020\n",
      "\u001b[1mSocial              \n",
      "\t\u001b[1mA                        \u001b[0m sector=\u001b[1mConsumer Goods\u001b[0m\n",
      "\t\u001b[1mD                        \u001b[0m sector=\u001b[1mSpecialized Services\u001b[0m\n",
      "\n",
      "\n",
      "Economic             len(validated_sec)=0\n",
      "\u001b[1mEnvironmental       \n",
      "\t\u001b[1mA                        \u001b[0m sector=\u001b[1mConsumer Goods\u001b[0m\n",
      "\n",
      "\n",
      "\n",
      "2021\n",
      "Social               len(validated_sec)=0\n",
      "Economic             len(validated_sec)=0\n",
      "Environmental        len(validated_sec)=0\n",
      "\n",
      "2022\n",
      "Social               len(validated_sec)=0\n",
      "\u001b[1mEconomic            \n",
      "\t\u001b[1mC                        \u001b[0m sector=\u001b[1mProduction Sectors\u001b[0m\n",
      "\n",
      "\n",
      "\u001b[1mEnvironmental       \n",
      "\t\u001b[1mA                        \u001b[0m sector=\u001b[1mConsumer Goods\u001b[0m\n",
      "\t\u001b[1mC                        \u001b[0m sector=\u001b[1mProduction Sectors\u001b[0m\n",
      "\n",
      "\n",
      "\n",
      "2023\n",
      "Social               len(validated_sec)=0\n",
      "Economic             len(validated_sec)=0\n",
      "Environmental        len(validated_sec)=0\n"
     ]
    }
   ],
   "source": [
    "for i_y, year in enumerate(tqdm(years)):\n",
    "    print(f'\\n{year:}')\n",
    "    sec_y=aggsec_aggr_vectors[aggsec_aggr_vectors['year']==year]['agg_sec']\n",
    "    for i_c, csdg in enumerate(cSDGS_names):\n",
    "        _fdr_th=fdr_th(cos_sims_cSDGs_aggsec[i_y*l_csdgs+i_c]['p_val'], alpha)\n",
    "        validation_mask=cos_sims_cSDGs_aggsec[i_y*l_csdgs+i_c]['p_val']<=_fdr_th\n",
    "        validated_sec=sec_y[validation_mask]\n",
    "        if len(validated_sec)>0:\n",
    "            print(f'\\033[1m{csdg.capitalize():20}')\n",
    "            for i_vs, vs in enumerate(validated_sec):\n",
    "                #print(f\"\\t\\t{vs:25} sector={agg_secs[vs]['name']:}\")\n",
    "                print(f\"\\t\\033[1m{vs:25}\\033[0m sector=\\033[1m{agg_secs[vs]['name']:}\\033[0m\")\n",
    "            print('\\n')\n",
    "        else:\n",
    "            print(f'{csdg.capitalize():20} len(validated_sec)={len(validated_sec):}')"
   ]
  },
  {
   "cell_type": "markdown",
   "id": "24f4ef84",
   "metadata": {},
   "source": [
    "#### Table for $\\LaTeX$"
   ]
  },
  {
   "cell_type": "code",
   "execution_count": 123,
   "id": "26591209",
   "metadata": {
    "ExecuteTime": {
     "end_time": "2025-08-04T15:44:44.136936Z",
     "start_time": "2025-08-04T15:44:44.094955Z"
    }
   },
   "outputs": [
    {
     "data": {
      "application/vnd.jupyter.widget-view+json": {
       "model_id": "5a8362aa918c492fa0b5ce6586e4c76d",
       "version_major": 2,
       "version_minor": 0
      },
      "text/plain": [
       "  0%|          | 0/9 [00:00<?, ?it/s]"
      ]
     },
     "metadata": {},
     "output_type": "display_data"
    },
    {
     "name": "stdout",
     "output_type": "stream",
     "text": [
      "\n",
      "2015\n",
      "\n",
      "2016\n",
      "\u001b[1mSocial              \u001b[0m len(validated_sec)=1\n",
      "\n",
      "2017\n",
      "\n",
      "2018\n",
      "\u001b[1mEconomic            \u001b[0m len(validated_sec)=2\n",
      "\n",
      "2019\n",
      "\u001b[1mEconomic            \u001b[0m len(validated_sec)=1\n",
      "\n",
      "2020\n",
      "\u001b[1mSocial              \u001b[0m len(validated_sec)=2\n",
      "\u001b[1mEnvironmental       \u001b[0m len(validated_sec)=1\n",
      "\n",
      "2021\n",
      "\n",
      "2022\n",
      "\u001b[1mEconomic            \u001b[0m len(validated_sec)=1\n",
      "\u001b[1mEnvironmental       \u001b[0m len(validated_sec)=2\n",
      "\n",
      "2023\n"
     ]
    }
   ],
   "source": [
    "_table=[]\n",
    "for i_y, year in enumerate(tqdm(years)):\n",
    "    print(f'\\n{year:}')\n",
    "    sec_y=aggsec_aggr_vectors[aggsec_aggr_vectors['year']==year]['agg_sec']\n",
    "    for i_c, csdg in enumerate(cSDGS_names):\n",
    "        _fdr_th=fdr_th(cos_sims_cSDGs_aggsec[i_y*l_csdgs+i_c]['p_val'], alpha)\n",
    "        validation_mask=cos_sims_cSDGs_aggsec[i_y*l_csdgs+i_c]['p_val']<=_fdr_th\n",
    "        validated_sec=sec_y[validation_mask]\n",
    "        if len(validated_sec)>0:\n",
    "            print(f'\\033[1m{csdg.capitalize():20}\\033[0m len(validated_sec)={len(validated_sec):}')\n",
    "            for i_vs, vs in enumerate(validated_sec):\n",
    "                if i_vs==0 and i_c==0:\n",
    "                    _table.append([year, csdg.capitalize(), agg_secs[vs]['name']])\n",
    "                elif i_vs==0:\n",
    "                    _table.append(['', csdg.capitalize(), agg_secs[vs]['name']])\n",
    "                else:\n",
    "                    _table.append(['', '', agg_secs[vs]['name']])\n",
    "        elif i_c==0:\n",
    "            _table.append([year, csdg.capitalize(),  ''])\n",
    "        else:\n",
    "            _table.append(['', csdg.capitalize(), ''])"
   ]
  },
  {
   "cell_type": "code",
   "execution_count": 124,
   "id": "1616f341",
   "metadata": {
    "ExecuteTime": {
     "end_time": "2025-08-04T15:44:46.527968Z",
     "start_time": "2025-08-04T15:44:46.521404Z"
    }
   },
   "outputs": [],
   "source": [
    "header=['Year',\"SDGs' dimension\", 'Aggregated sector']"
   ]
  },
  {
   "cell_type": "code",
   "execution_count": 125,
   "id": "31e3d730",
   "metadata": {
    "ExecuteTime": {
     "end_time": "2025-08-04T15:44:46.895710Z",
     "start_time": "2025-08-04T15:44:46.881658Z"
    }
   },
   "outputs": [
    {
     "name": "stdout",
     "output_type": "stream",
     "text": [
      "\\begin{tabular}{lll}\n",
      "\\hline\n",
      " Year   & SDGs' dimension   & Aggregated sector    \\\\\n",
      "\\hline\n",
      " 2015   & Social            &                      \\\\\n",
      "        & Economic          &                      \\\\\n",
      "        & Environmental     &                      \\\\\n",
      " 2016   & Social            & Specialized Services \\\\\n",
      "        & Economic          &                      \\\\\n",
      "        & Environmental     &                      \\\\\n",
      " 2017   & Social            &                      \\\\\n",
      "        & Economic          &                      \\\\\n",
      "        & Environmental     &                      \\\\\n",
      " 2018   & Social            &                      \\\\\n",
      "        & Economic          & Production Sectors   \\\\\n",
      "        &                   & Specialized Services \\\\\n",
      "        & Environmental     &                      \\\\\n",
      " 2019   & Social            &                      \\\\\n",
      "        & Economic          & Production Sectors   \\\\\n",
      "        & Environmental     &                      \\\\\n",
      " 2020   & Social            & Consumer Goods       \\\\\n",
      "        &                   & Specialized Services \\\\\n",
      "        & Economic          &                      \\\\\n",
      "        & Environmental     & Consumer Goods       \\\\\n",
      " 2021   & Social            &                      \\\\\n",
      "        & Economic          &                      \\\\\n",
      "        & Environmental     &                      \\\\\n",
      " 2022   & Social            &                      \\\\\n",
      "        & Economic          & Production Sectors   \\\\\n",
      "        & Environmental     & Consumer Goods       \\\\\n",
      "        &                   & Production Sectors   \\\\\n",
      " 2023   & Social            &                      \\\\\n",
      "        & Economic          &                      \\\\\n",
      "        & Environmental     &                      \\\\\n",
      "\\hline\n",
      "\\end{tabular}\n"
     ]
    }
   ],
   "source": [
    "print(tabulate(_table, header, tablefmt=\"latex\"))"
   ]
  },
  {
   "cell_type": "markdown",
   "id": "c0bb13d7",
   "metadata": {},
   "source": [
    "## Each SDG"
   ]
  },
  {
   "cell_type": "code",
   "execution_count": 81,
   "id": "f150ec5b",
   "metadata": {
    "ExecuteTime": {
     "end_time": "2025-06-17T11:25:52.964674Z",
     "start_time": "2025-06-17T11:25:52.958860Z"
    }
   },
   "outputs": [],
   "source": [
    "l_sdgs=len(sdg_helper.keys())"
   ]
  },
  {
   "cell_type": "code",
   "execution_count": 82,
   "id": "01776bd5",
   "metadata": {
    "ExecuteTime": {
     "end_time": "2025-06-17T11:25:53.138730Z",
     "start_time": "2025-06-17T11:25:53.131928Z"
    }
   },
   "outputs": [],
   "source": [
    "cos_sims_SDGs=np.zeros(len(years)*l_sdgs, dtype=[('SDG', 'U20'), ('mean', 'f8'), ('all', object), ('p_val', object)])"
   ]
  },
  {
   "cell_type": "code",
   "execution_count": 83,
   "id": "2046b626",
   "metadata": {
    "ExecuteTime": {
     "end_time": "2025-06-17T11:25:57.173628Z",
     "start_time": "2025-06-17T11:25:53.352823Z"
    }
   },
   "outputs": [
    {
     "data": {
      "application/vnd.jupyter.widget-view+json": {
       "model_id": "96a924358caf4ae9802ce8895047990b",
       "version_major": 2,
       "version_minor": 0
      },
      "text/plain": [
       "  0%|          | 0/9 [00:00<?, ?it/s]"
      ]
     },
     "metadata": {},
     "output_type": "display_data"
    }
   ],
   "source": [
    "for i_y, year in enumerate(tqdm(years)):\n",
    "    vecs_y=vectors[vectors['year']==year]['vector']\n",
    "    wiki_bench_y=wiki_bench[vectors['year']==year]['cos_sim']\n",
    "    for i_s, sdg in enumerate(sdg_helper.keys()):\n",
    "        cos_sims_SDGs[i_y*l_sdgs+i_s]['SDG']=sdg\n",
    "        cos_sims_SDGs[i_y*l_sdgs+i_s]['all']=np.zeros(len(vecs_y))\n",
    "        cos_sims_SDGs[i_y*l_sdgs+i_s]['p_val']=np.zeros(len(vecs_y))\n",
    "        for i_vec, vec in enumerate(vecs_y):\n",
    "            _cos_sim=float(util.cos_sim(goalvecs[i_s], vec))\n",
    "            cos_sims_SDGs[i_y*l_sdgs+i_s]['all'][i_vec]=_cos_sim\n",
    "            cos_sims_SDGs[i_y*l_sdgs+i_s]['p_val'][i_vec]=np.sum(wiki_bench_y[i_vec]>=_cos_sim)/len(wikivecs)\n",
    "        cos_sims_SDGs[i_y*l_sdgs+i_s]['mean']=np.mean(cos_sims_SDGs[i_y*l_sdgs+i_s]['all'])"
   ]
  },
  {
   "cell_type": "code",
   "execution_count": 84,
   "id": "b5dd9e2c",
   "metadata": {
    "ExecuteTime": {
     "end_time": "2025-06-17T11:25:57.242053Z",
     "start_time": "2025-06-17T11:25:57.179652Z"
    }
   },
   "outputs": [
    {
     "data": {
      "application/vnd.jupyter.widget-view+json": {
       "model_id": "4d954abfe9c1458cbfa6a98ff42795e0",
       "version_major": 2,
       "version_minor": 0
      },
      "text/plain": [
       "  0%|          | 0/9 [00:00<?, ?it/s]"
      ]
     },
     "metadata": {},
     "output_type": "display_data"
    },
    {
     "name": "stdout",
     "output_type": "stream",
     "text": [
      "\n",
      "\u001b[1m2015\u001b[0m\n",
      "\u001b[1m01: No Poverty                                                  \u001b[0m len(validated_companies)=2\n",
      "\t\u001b[1munilever                 \u001b[0m sector=\u001b[1mConsumer Staples\u001b[0m\n",
      "\t\u001b[1mland_securities_group    \u001b[0m sector=\u001b[1mReal Estate\u001b[0m\n",
      "\n",
      "\n",
      "02: Zero hunger                                                  len(validated_companies)=0\n",
      "\u001b[1m03: Good health and well-being                                  \u001b[0m len(validated_companies)=2\n",
      "\t\u001b[1mgsk                      \u001b[0m sector=\u001b[1mHealth Care\u001b[0m\n",
      "\t\u001b[1mland_securities_group    \u001b[0m sector=\u001b[1mReal Estate\u001b[0m\n",
      "\n",
      "\n",
      "04: Quality education                                            len(validated_companies)=0\n",
      "05: Gender equality                                              len(validated_companies)=0\n",
      "\u001b[1m06: Clean water and sanitation                                  \u001b[0m len(validated_companies)=3\n",
      "\t\u001b[1mreckitt_benckiser_group  \u001b[0m sector=\u001b[1mConsumer Staples\u001b[0m\n",
      "\t\u001b[1mhalma                    \u001b[0m sector=\u001b[1mIndustrials\u001b[0m\n",
      "\t\u001b[1mland_securities_group    \u001b[0m sector=\u001b[1mReal Estate\u001b[0m\n",
      "\n",
      "\n",
      "\u001b[1m07: Affordable and clean energy                                 \u001b[0m len(validated_companies)=1\n",
      "\t\u001b[1mhalma                    \u001b[0m sector=\u001b[1mIndustrials\u001b[0m\n",
      "\n",
      "\n",
      "08: Decent work and economic growth                              len(validated_companies)=0\n",
      "\u001b[1m09: Industry, Innovation, Technology and Infrastructure         \u001b[0m len(validated_companies)=3\n",
      "\t\u001b[1mhalma                    \u001b[0m sector=\u001b[1mIndustrials\u001b[0m\n",
      "\t\u001b[1mimi                      \u001b[0m sector=\u001b[1mIndustrials\u001b[0m\n",
      "\t\u001b[1mland_securities_group    \u001b[0m sector=\u001b[1mReal Estate\u001b[0m\n",
      "\n",
      "\n",
      "\u001b[1m10: Reduced inequality                                          \u001b[0m len(validated_companies)=3\n",
      "\t\u001b[1munilever                 \u001b[0m sector=\u001b[1mConsumer Staples\u001b[0m\n",
      "\t\u001b[1mstandard_chartered       \u001b[0m sector=\u001b[1mFinancials\u001b[0m\n",
      "\t\u001b[1mland_securities_group    \u001b[0m sector=\u001b[1mReal Estate\u001b[0m\n",
      "\n",
      "\n",
      "\u001b[1m11: Sustainable cities and communities                          \u001b[0m len(validated_companies)=2\n",
      "\t\u001b[1mhalma                    \u001b[0m sector=\u001b[1mIndustrials\u001b[0m\n",
      "\t\u001b[1mland_securities_group    \u001b[0m sector=\u001b[1mReal Estate\u001b[0m\n",
      "\n",
      "\n",
      "\u001b[1m12: Responsible consumption and production                      \u001b[0m len(validated_companies)=1\n",
      "\t\u001b[1mreckitt_benckiser_group  \u001b[0m sector=\u001b[1mConsumer Staples\u001b[0m\n",
      "\n",
      "\n",
      "13: Climate action                                               len(validated_companies)=0\n",
      "\u001b[1m14: Life below water                                            \u001b[0m len(validated_companies)=1\n",
      "\t\u001b[1mland_securities_group    \u001b[0m sector=\u001b[1mReal Estate\u001b[0m\n",
      "\n",
      "\n",
      "\u001b[1m15: Life on land                                                \u001b[0m len(validated_companies)=1\n",
      "\t\u001b[1mland_securities_group    \u001b[0m sector=\u001b[1mReal Estate\u001b[0m\n",
      "\n",
      "\n",
      "16: Peace, justice and strong institutions                       len(validated_companies)=0\n",
      "17: Partnerships for the goals                                   len(validated_companies)=0\n",
      "\n",
      "\u001b[1m2016\u001b[0m\n",
      "01: No Poverty                                                   len(validated_companies)=0\n",
      "02: Zero hunger                                                  len(validated_companies)=0\n",
      "\u001b[1m03: Good health and well-being                                  \u001b[0m len(validated_companies)=1\n",
      "\t\u001b[1mgsk                      \u001b[0m sector=\u001b[1mHealth Care\u001b[0m\n",
      "\n",
      "\n",
      "04: Quality education                                            len(validated_companies)=0\n",
      "05: Gender equality                                              len(validated_companies)=0\n",
      "\u001b[1m06: Clean water and sanitation                                  \u001b[0m len(validated_companies)=2\n",
      "\t\u001b[1mhalma                    \u001b[0m sector=\u001b[1mIndustrials\u001b[0m\n",
      "\t\u001b[1mrentokil_initial         \u001b[0m sector=\u001b[1mIndustrials\u001b[0m\n",
      "\n",
      "\n",
      "\u001b[1m07: Affordable and clean energy                                 \u001b[0m len(validated_companies)=4\n",
      "\t\u001b[1munilever                 \u001b[0m sector=\u001b[1mConsumer Staples\u001b[0m\n",
      "\t\u001b[1mhalma                    \u001b[0m sector=\u001b[1mIndustrials\u001b[0m\n",
      "\t\u001b[1mrentokil_initial         \u001b[0m sector=\u001b[1mIndustrials\u001b[0m\n",
      "\t\u001b[1mgood_energy_group        \u001b[0m sector=\u001b[1mUtilities\u001b[0m\n",
      "\n",
      "\n",
      "08: Decent work and economic growth                              len(validated_companies)=0\n",
      "\u001b[1m09: Industry, Innovation, Technology and Infrastructure         \u001b[0m len(validated_companies)=1\n",
      "\t\u001b[1mhalma                    \u001b[0m sector=\u001b[1mIndustrials\u001b[0m\n",
      "\n",
      "\n",
      "\u001b[1m10: Reduced inequality                                          \u001b[0m len(validated_companies)=1\n",
      "\t\u001b[1mstandard_chartered       \u001b[0m sector=\u001b[1mFinancials\u001b[0m\n",
      "\n",
      "\n",
      "\u001b[1m11: Sustainable cities and communities                          \u001b[0m len(validated_companies)=1\n",
      "\t\u001b[1mhalma                    \u001b[0m sector=\u001b[1mIndustrials\u001b[0m\n",
      "\n",
      "\n",
      "12: Responsible consumption and production                       len(validated_companies)=0\n",
      "13: Climate action                                               len(validated_companies)=0\n",
      "\u001b[1m14: Life below water                                            \u001b[0m len(validated_companies)=1\n",
      "\t\u001b[1mhalma                    \u001b[0m sector=\u001b[1mIndustrials\u001b[0m\n",
      "\n",
      "\n",
      "\u001b[1m15: Life on land                                                \u001b[0m len(validated_companies)=1\n",
      "\t\u001b[1mland_securities_group    \u001b[0m sector=\u001b[1mReal Estate\u001b[0m\n",
      "\n",
      "\n",
      "16: Peace, justice and strong institutions                       len(validated_companies)=0\n",
      "\u001b[1m17: Partnerships for the goals                                  \u001b[0m len(validated_companies)=1\n",
      "\t\u001b[1mstandard_chartered       \u001b[0m sector=\u001b[1mFinancials\u001b[0m\n",
      "\n",
      "\n",
      "\n",
      "\u001b[1m2017\u001b[0m\n",
      "01: No Poverty                                                   len(validated_companies)=0\n",
      "02: Zero hunger                                                  len(validated_companies)=0\n",
      "\u001b[1m03: Good health and well-being                                  \u001b[0m len(validated_companies)=1\n",
      "\t\u001b[1mgsk                      \u001b[0m sector=\u001b[1mHealth Care\u001b[0m\n",
      "\n",
      "\n",
      "04: Quality education                                            len(validated_companies)=0\n",
      "05: Gender equality                                              len(validated_companies)=0\n",
      "\u001b[1m06: Clean water and sanitation                                  \u001b[0m len(validated_companies)=1\n",
      "\t\u001b[1mhalma                    \u001b[0m sector=\u001b[1mIndustrials\u001b[0m\n",
      "\n",
      "\n",
      "\u001b[1m07: Affordable and clean energy                                 \u001b[0m len(validated_companies)=2\n",
      "\t\u001b[1mhalma                    \u001b[0m sector=\u001b[1mIndustrials\u001b[0m\n",
      "\t\u001b[1mgood_energy_group        \u001b[0m sector=\u001b[1mUtilities\u001b[0m\n",
      "\n",
      "\n",
      "08: Decent work and economic growth                              len(validated_companies)=0\n",
      "\u001b[1m09: Industry, Innovation, Technology and Infrastructure         \u001b[0m len(validated_companies)=1\n",
      "\t\u001b[1mhalma                    \u001b[0m sector=\u001b[1mIndustrials\u001b[0m\n",
      "\n",
      "\n",
      "10: Reduced inequality                                           len(validated_companies)=0\n",
      "\u001b[1m11: Sustainable cities and communities                          \u001b[0m len(validated_companies)=1\n",
      "\t\u001b[1mhalma                    \u001b[0m sector=\u001b[1mIndustrials\u001b[0m\n",
      "\n",
      "\n",
      "12: Responsible consumption and production                       len(validated_companies)=0\n",
      "13: Climate action                                               len(validated_companies)=0\n",
      "14: Life below water                                             len(validated_companies)=0\n",
      "15: Life on land                                                 len(validated_companies)=0\n",
      "16: Peace, justice and strong institutions                       len(validated_companies)=0\n",
      "17: Partnerships for the goals                                   len(validated_companies)=0\n",
      "\n",
      "\u001b[1m2018\u001b[0m\n",
      "01: No Poverty                                                   len(validated_companies)=0\n",
      "02: Zero hunger                                                  len(validated_companies)=0\n",
      "03: Good health and well-being                                   len(validated_companies)=0\n",
      "04: Quality education                                            len(validated_companies)=0\n",
      "\u001b[1m05: Gender equality                                             \u001b[0m len(validated_companies)=1\n",
      "\t\u001b[1mmarks_and_spencer_group  \u001b[0m sector=\u001b[1mConsumer Staples\u001b[0m\n",
      "\n",
      "\n",
      "\u001b[1m06: Clean water and sanitation                                  \u001b[0m len(validated_companies)=1\n",
      "\t\u001b[1mhalma                    \u001b[0m sector=\u001b[1mIndustrials\u001b[0m\n",
      "\n",
      "\n",
      "\u001b[1m07: Affordable and clean energy                                 \u001b[0m len(validated_companies)=3\n",
      "\t\u001b[1mjohnson_matthey          \u001b[0m sector=\u001b[1mBasic Materials\u001b[0m\n",
      "\t\u001b[1mhalma                    \u001b[0m sector=\u001b[1mIndustrials\u001b[0m\n",
      "\t\u001b[1mgood_energy_group        \u001b[0m sector=\u001b[1mUtilities\u001b[0m\n",
      "\n",
      "\n",
      "08: Decent work and economic growth                              len(validated_companies)=0\n",
      "\u001b[1m09: Industry, Innovation, Technology and Infrastructure         \u001b[0m len(validated_companies)=1\n",
      "\t\u001b[1mhalma                    \u001b[0m sector=\u001b[1mIndustrials\u001b[0m\n",
      "\n",
      "\n",
      "10: Reduced inequality                                           len(validated_companies)=0\n",
      "\u001b[1m11: Sustainable cities and communities                          \u001b[0m len(validated_companies)=1\n",
      "\t\u001b[1mhalma                    \u001b[0m sector=\u001b[1mIndustrials\u001b[0m\n",
      "\n",
      "\n",
      "12: Responsible consumption and production                       len(validated_companies)=0\n",
      "13: Climate action                                               len(validated_companies)=0\n",
      "14: Life below water                                             len(validated_companies)=0\n",
      "15: Life on land                                                 len(validated_companies)=0\n",
      "16: Peace, justice and strong institutions                       len(validated_companies)=0\n",
      "\u001b[1m17: Partnerships for the goals                                  \u001b[0m len(validated_companies)=2\n",
      "\t\u001b[1msainsbury_(j)            \u001b[0m sector=\u001b[1mConsumer Staples\u001b[0m\n",
      "\t\u001b[1mstandard_chartered       \u001b[0m sector=\u001b[1mFinancials\u001b[0m\n",
      "\n",
      "\n",
      "\n",
      "\u001b[1m2019\u001b[0m\n",
      "01: No Poverty                                                   len(validated_companies)=0\n",
      "\u001b[1m02: Zero hunger                                                 \u001b[0m len(validated_companies)=2\n",
      "\t\u001b[1mcompass_group            \u001b[0m sector=\u001b[1mConsumer Discretionary\u001b[0m\n",
      "\t\u001b[1massociated_british_foods \u001b[0m sector=\u001b[1mConsumer Staples\u001b[0m\n",
      "\n",
      "\n",
      "\u001b[1m03: Good health and well-being                                  \u001b[0m len(validated_companies)=1\n",
      "\t\u001b[1mastrazeneca              \u001b[0m sector=\u001b[1mHealth Care\u001b[0m\n",
      "\n",
      "\n",
      "04: Quality education                                            len(validated_companies)=0\n",
      "05: Gender equality                                              len(validated_companies)=0\n",
      "\u001b[1m06: Clean water and sanitation                                  \u001b[0m len(validated_companies)=7\n",
      "\t\u001b[1mrio_tinto                \u001b[0m sector=\u001b[1mBasic Materials\u001b[0m\n",
      "\t\u001b[1mintercontinental_hotels_group\u001b[0m sector=\u001b[1mConsumer Discretionary\u001b[0m\n",
      "\t\u001b[1mreckitt_benckiser_group  \u001b[0m sector=\u001b[1mConsumer Staples\u001b[0m\n",
      "\t\u001b[1mdiversified_energy_company\u001b[0m sector=\u001b[1mEnergy\u001b[0m\n",
      "\t\u001b[1mastrazeneca              \u001b[0m sector=\u001b[1mHealth Care\u001b[0m\n",
      "\t\u001b[1mhalma                    \u001b[0m sector=\u001b[1mIndustrials\u001b[0m\n",
      "\t\u001b[1mrentokil_initial         \u001b[0m sector=\u001b[1mIndustrials\u001b[0m\n",
      "\n",
      "\n",
      "\u001b[1m07: Affordable and clean energy                                 \u001b[0m len(validated_companies)=4\n",
      "\t\u001b[1mjohnson_matthey          \u001b[0m sector=\u001b[1mBasic Materials\u001b[0m\n",
      "\t\u001b[1mhalma                    \u001b[0m sector=\u001b[1mIndustrials\u001b[0m\n",
      "\t\u001b[1mgood_energy_group        \u001b[0m sector=\u001b[1mUtilities\u001b[0m\n",
      "\t\u001b[1myu_group                 \u001b[0m sector=\u001b[1mUtilities\u001b[0m\n",
      "\n",
      "\n",
      "08: Decent work and economic growth                              len(validated_companies)=0\n",
      "\u001b[1m09: Industry, Innovation, Technology and Infrastructure         \u001b[0m len(validated_companies)=1\n",
      "\t\u001b[1mhalma                    \u001b[0m sector=\u001b[1mIndustrials\u001b[0m\n",
      "\n",
      "\n",
      "10: Reduced inequality                                           len(validated_companies)=0\n",
      "\u001b[1m11: Sustainable cities and communities                          \u001b[0m len(validated_companies)=1\n",
      "\t\u001b[1mhalma                    \u001b[0m sector=\u001b[1mIndustrials\u001b[0m\n",
      "\n",
      "\n",
      "12: Responsible consumption and production                       len(validated_companies)=0\n",
      "\u001b[1m13: Climate action                                              \u001b[0m len(validated_companies)=2\n",
      "\t\u001b[1mrio_tinto                \u001b[0m sector=\u001b[1mBasic Materials\u001b[0m\n",
      "\t\u001b[1mlegal_&_general_group    \u001b[0m sector=\u001b[1mFinancials\u001b[0m\n",
      "\n",
      "\n",
      "14: Life below water                                             len(validated_companies)=0\n",
      "15: Life on land                                                 len(validated_companies)=0\n",
      "16: Peace, justice and strong institutions                       len(validated_companies)=0\n",
      "17: Partnerships for the goals                                   len(validated_companies)=0\n",
      "\n",
      "\u001b[1m2020\u001b[0m\n",
      "\u001b[1m01: No Poverty                                                  \u001b[0m len(validated_companies)=14\n",
      "\t\u001b[1manglo_american           \u001b[0m sector=\u001b[1mBasic Materials\u001b[0m\n",
      "\t\u001b[1mcroda_international      \u001b[0m sector=\u001b[1mBasic Materials\u001b[0m\n",
      "\t\u001b[1mbarratt_developments     \u001b[0m sector=\u001b[1mConsumer Discretionary\u001b[0m\n",
      "\t\u001b[1mcompass_group            \u001b[0m sector=\u001b[1mConsumer Discretionary\u001b[0m\n",
      "\t\u001b[1massociated_british_foods \u001b[0m sector=\u001b[1mConsumer Staples\u001b[0m\n",
      "\t\u001b[1munilever                 \u001b[0m sector=\u001b[1mConsumer Staples\u001b[0m\n",
      "\t\u001b[1mbp                       \u001b[0m sector=\u001b[1mEnergy\u001b[0m\n",
      "\t\u001b[1mhsbc_holdings            \u001b[0m sector=\u001b[1mFinancials\u001b[0m\n",
      "\t\u001b[1mlegal_&_general_group    \u001b[0m sector=\u001b[1mFinancials\u001b[0m\n",
      "\t\u001b[1mstandard_chartered       \u001b[0m sector=\u001b[1mFinancials\u001b[0m\n",
      "\t\u001b[1mastrazeneca              \u001b[0m sector=\u001b[1mHealth Care\u001b[0m\n",
      "\t\u001b[1msmith_&_nephew           \u001b[0m sector=\u001b[1mHealth Care\u001b[0m\n",
      "\t\u001b[1mhalma                    \u001b[0m sector=\u001b[1mIndustrials\u001b[0m\n",
      "\t\u001b[1mrentokil_initial         \u001b[0m sector=\u001b[1mIndustrials\u001b[0m\n",
      "\n",
      "\n",
      "\u001b[1m02: Zero hunger                                                 \u001b[0m len(validated_companies)=1\n",
      "\t\u001b[1mcompass_group            \u001b[0m sector=\u001b[1mConsumer Discretionary\u001b[0m\n",
      "\n",
      "\n",
      "\u001b[1m03: Good health and well-being                                  \u001b[0m len(validated_companies)=4\n",
      "\t\u001b[1mbarratt_developments     \u001b[0m sector=\u001b[1mConsumer Discretionary\u001b[0m\n",
      "\t\u001b[1mhsbc_holdings            \u001b[0m sector=\u001b[1mFinancials\u001b[0m\n",
      "\t\u001b[1mastrazeneca              \u001b[0m sector=\u001b[1mHealth Care\u001b[0m\n",
      "\t\u001b[1mrentokil_initial         \u001b[0m sector=\u001b[1mIndustrials\u001b[0m\n",
      "\n",
      "\n",
      "04: Quality education                                            len(validated_companies)=0\n",
      "05: Gender equality                                              len(validated_companies)=0\n",
      "\u001b[1m06: Clean water and sanitation                                  \u001b[0m len(validated_companies)=6\n",
      "\t\u001b[1mintercontinental_hotels_group\u001b[0m sector=\u001b[1mConsumer Discretionary\u001b[0m\n",
      "\t\u001b[1mreckitt_benckiser_group  \u001b[0m sector=\u001b[1mConsumer Staples\u001b[0m\n",
      "\t\u001b[1mastrazeneca              \u001b[0m sector=\u001b[1mHealth Care\u001b[0m\n",
      "\t\u001b[1mhalma                    \u001b[0m sector=\u001b[1mIndustrials\u001b[0m\n",
      "\t\u001b[1mrentokil_initial         \u001b[0m sector=\u001b[1mIndustrials\u001b[0m\n",
      "\t\u001b[1msevern_trent             \u001b[0m sector=\u001b[1mUtilities\u001b[0m\n",
      "\n",
      "\n",
      "\u001b[1m07: Affordable and clean energy                                 \u001b[0m len(validated_companies)=4\n",
      "\t\u001b[1mjohnson_matthey          \u001b[0m sector=\u001b[1mBasic Materials\u001b[0m\n",
      "\t\u001b[1mgood_energy_group        \u001b[0m sector=\u001b[1mUtilities\u001b[0m\n",
      "\t\u001b[1mnational_grid            \u001b[0m sector=\u001b[1mUtilities\u001b[0m\n",
      "\t\u001b[1myu_group                 \u001b[0m sector=\u001b[1mUtilities\u001b[0m\n",
      "\n",
      "\n",
      "08: Decent work and economic growth                              len(validated_companies)=0\n",
      "09: Industry, Innovation, Technology and Infrastructure          len(validated_companies)=0\n",
      "\u001b[1m10: Reduced inequality                                          \u001b[0m len(validated_companies)=4\n",
      "\t\u001b[1manglo_american           \u001b[0m sector=\u001b[1mBasic Materials\u001b[0m\n",
      "\t\u001b[1mbarratt_developments     \u001b[0m sector=\u001b[1mConsumer Discretionary\u001b[0m\n",
      "\t\u001b[1mhsbc_holdings            \u001b[0m sector=\u001b[1mFinancials\u001b[0m\n",
      "\t\u001b[1mstandard_chartered       \u001b[0m sector=\u001b[1mFinancials\u001b[0m\n",
      "\n",
      "\n",
      "\u001b[1m11: Sustainable cities and communities                          \u001b[0m len(validated_companies)=1\n",
      "\t\u001b[1mhalma                    \u001b[0m sector=\u001b[1mIndustrials\u001b[0m\n",
      "\n",
      "\n",
      "12: Responsible consumption and production                       len(validated_companies)=0\n",
      "\u001b[1m13: Climate action                                              \u001b[0m len(validated_companies)=2\n",
      "\t\u001b[1manglo_american           \u001b[0m sector=\u001b[1mBasic Materials\u001b[0m\n",
      "\t\u001b[1mlegal_&_general_group    \u001b[0m sector=\u001b[1mFinancials\u001b[0m\n",
      "\n",
      "\n",
      "14: Life below water                                             len(validated_companies)=0\n",
      "\u001b[1m15: Life on land                                                \u001b[0m len(validated_companies)=1\n",
      "\t\u001b[1mbarratt_developments     \u001b[0m sector=\u001b[1mConsumer Discretionary\u001b[0m\n",
      "\n",
      "\n",
      "16: Peace, justice and strong institutions                       len(validated_companies)=0\n",
      "17: Partnerships for the goals                                   len(validated_companies)=0\n",
      "\n",
      "\u001b[1m2021\u001b[0m\n",
      "\u001b[1m01: No Poverty                                                  \u001b[0m len(validated_companies)=2\n",
      "\t\u001b[1mhsbc_holdings            \u001b[0m sector=\u001b[1mFinancials\u001b[0m\n",
      "\t\u001b[1mstandard_chartered       \u001b[0m sector=\u001b[1mFinancials\u001b[0m\n",
      "\n",
      "\n",
      "\u001b[1m02: Zero hunger                                                 \u001b[0m len(validated_companies)=4\n",
      "\t\u001b[1mcompass_group            \u001b[0m sector=\u001b[1mConsumer Discretionary\u001b[0m\n",
      "\t\u001b[1massociated_british_foods \u001b[0m sector=\u001b[1mConsumer Staples\u001b[0m\n",
      "\t\u001b[1mstandard_chartered       \u001b[0m sector=\u001b[1mFinancials\u001b[0m\n",
      "\t\u001b[1mairtel_africa            \u001b[0m sector=\u001b[1mTelecommunications\u001b[0m\n",
      "\n",
      "\n",
      "\u001b[1m03: Good health and well-being                                  \u001b[0m len(validated_companies)=2\n",
      "\t\u001b[1mastrazeneca              \u001b[0m sector=\u001b[1mHealth Care\u001b[0m\n",
      "\t\u001b[1mgsk                      \u001b[0m sector=\u001b[1mHealth Care\u001b[0m\n",
      "\n",
      "\n",
      "\u001b[1m04: Quality education                                           \u001b[0m len(validated_companies)=2\n",
      "\t\u001b[1mstandard_chartered       \u001b[0m sector=\u001b[1mFinancials\u001b[0m\n",
      "\t\u001b[1mairtel_africa            \u001b[0m sector=\u001b[1mTelecommunications\u001b[0m\n",
      "\n",
      "\n",
      "05: Gender equality                                              len(validated_companies)=0\n",
      "\u001b[1m06: Clean water and sanitation                                  \u001b[0m len(validated_companies)=6\n",
      "\t\u001b[1mintercontinental_hotels_group\u001b[0m sector=\u001b[1mConsumer Discretionary\u001b[0m\n",
      "\t\u001b[1mreckitt_benckiser_group  \u001b[0m sector=\u001b[1mConsumer Staples\u001b[0m\n",
      "\t\u001b[1mstandard_chartered       \u001b[0m sector=\u001b[1mFinancials\u001b[0m\n",
      "\t\u001b[1mhalma                    \u001b[0m sector=\u001b[1mIndustrials\u001b[0m\n",
      "\t\u001b[1mrentokil_initial         \u001b[0m sector=\u001b[1mIndustrials\u001b[0m\n",
      "\t\u001b[1mpennon_group             \u001b[0m sector=\u001b[1mUtilities\u001b[0m\n",
      "\n",
      "\n",
      "\u001b[1m07: Affordable and clean energy                                 \u001b[0m len(validated_companies)=1\n",
      "\t\u001b[1myu_group                 \u001b[0m sector=\u001b[1mUtilities\u001b[0m\n",
      "\n",
      "\n",
      "08: Decent work and economic growth                              len(validated_companies)=0\n",
      "09: Industry, Innovation, Technology and Infrastructure          len(validated_companies)=0\n",
      "\u001b[1m10: Reduced inequality                                          \u001b[0m len(validated_companies)=1\n",
      "\t\u001b[1mstandard_chartered       \u001b[0m sector=\u001b[1mFinancials\u001b[0m\n",
      "\n",
      "\n",
      "\u001b[1m11: Sustainable cities and communities                          \u001b[0m len(validated_companies)=3\n",
      "\t\u001b[1mhsbc_holdings            \u001b[0m sector=\u001b[1mFinancials\u001b[0m\n",
      "\t\u001b[1mhalma                    \u001b[0m sector=\u001b[1mIndustrials\u001b[0m\n",
      "\t\u001b[1mrenewi                   \u001b[0m sector=\u001b[1mUtilities\u001b[0m\n",
      "\n",
      "\n",
      "\u001b[1m12: Responsible consumption and production                      \u001b[0m len(validated_companies)=2\n",
      "\t\u001b[1massociated_british_foods \u001b[0m sector=\u001b[1mConsumer Staples\u001b[0m\n",
      "\t\u001b[1menergean                 \u001b[0m sector=\u001b[1mEnergy\u001b[0m\n",
      "\n",
      "\n",
      "\u001b[1m13: Climate action                                              \u001b[0m len(validated_companies)=1\n",
      "\t\u001b[1mlegal_&_general_group    \u001b[0m sector=\u001b[1mFinancials\u001b[0m\n",
      "\n",
      "\n",
      "14: Life below water                                             len(validated_companies)=0\n",
      "\u001b[1m15: Life on land                                                \u001b[0m len(validated_companies)=2\n",
      "\t\u001b[1mbarratt_developments     \u001b[0m sector=\u001b[1mConsumer Discretionary\u001b[0m\n",
      "\t\u001b[1mberkeley_group_holdings_(the)\u001b[0m sector=\u001b[1mConsumer Discretionary\u001b[0m\n",
      "\n",
      "\n",
      "16: Peace, justice and strong institutions                       len(validated_companies)=0\n",
      "\u001b[1m17: Partnerships for the goals                                  \u001b[0m len(validated_companies)=1\n",
      "\t\u001b[1mstandard_chartered       \u001b[0m sector=\u001b[1mFinancials\u001b[0m\n",
      "\n",
      "\n",
      "\n",
      "\u001b[1m2022\u001b[0m\n",
      "\u001b[1m01: No Poverty                                                  \u001b[0m len(validated_companies)=3\n",
      "\t\u001b[1mhsbc_holdings            \u001b[0m sector=\u001b[1mFinancials\u001b[0m\n",
      "\t\u001b[1mlegal_&_general_group    \u001b[0m sector=\u001b[1mFinancials\u001b[0m\n",
      "\t\u001b[1mstandard_chartered       \u001b[0m sector=\u001b[1mFinancials\u001b[0m\n",
      "\n",
      "\n",
      "\u001b[1m02: Zero hunger                                                 \u001b[0m len(validated_companies)=5\n",
      "\t\u001b[1mcompass_group            \u001b[0m sector=\u001b[1mConsumer Discretionary\u001b[0m\n",
      "\t\u001b[1mhsbc_holdings            \u001b[0m sector=\u001b[1mFinancials\u001b[0m\n",
      "\t\u001b[1mlegal_&_general_group    \u001b[0m sector=\u001b[1mFinancials\u001b[0m\n",
      "\t\u001b[1mstandard_chartered       \u001b[0m sector=\u001b[1mFinancials\u001b[0m\n",
      "\t\u001b[1mdeliveroo                \u001b[0m sector=\u001b[1mTechnology\u001b[0m\n",
      "\n",
      "\n",
      "\u001b[1m03: Good health and well-being                                  \u001b[0m len(validated_companies)=5\n",
      "\t\u001b[1mpersimmon                \u001b[0m sector=\u001b[1mConsumer Discretionary\u001b[0m\n",
      "\t\u001b[1mlegal_&_general_group    \u001b[0m sector=\u001b[1mFinancials\u001b[0m\n",
      "\t\u001b[1mastrazeneca              \u001b[0m sector=\u001b[1mHealth Care\u001b[0m\n",
      "\t\u001b[1mgsk                      \u001b[0m sector=\u001b[1mHealth Care\u001b[0m\n",
      "\t\u001b[1msmith_&_nephew           \u001b[0m sector=\u001b[1mHealth Care\u001b[0m\n",
      "\n",
      "\n",
      "04: Quality education                                            len(validated_companies)=0\n",
      "05: Gender equality                                              len(validated_companies)=0\n",
      "\u001b[1m06: Clean water and sanitation                                  \u001b[0m len(validated_companies)=6\n",
      "\t\u001b[1mreckitt_benckiser_group  \u001b[0m sector=\u001b[1mConsumer Staples\u001b[0m\n",
      "\t\u001b[1mstandard_chartered       \u001b[0m sector=\u001b[1mFinancials\u001b[0m\n",
      "\t\u001b[1mhalma                    \u001b[0m sector=\u001b[1mIndustrials\u001b[0m\n",
      "\t\u001b[1mhelios_towers            \u001b[0m sector=\u001b[1mTelecommunications\u001b[0m\n",
      "\t\u001b[1mpennon_group             \u001b[0m sector=\u001b[1mUtilities\u001b[0m\n",
      "\t\u001b[1msevern_trent             \u001b[0m sector=\u001b[1mUtilities\u001b[0m\n",
      "\n",
      "\n",
      "\u001b[1m07: Affordable and clean energy                                 \u001b[0m len(validated_companies)=1\n",
      "\t\u001b[1mgood_energy_group        \u001b[0m sector=\u001b[1mUtilities\u001b[0m\n",
      "\n",
      "\n",
      "\u001b[1m08: Decent work and economic growth                             \u001b[0m len(validated_companies)=1\n",
      "\t\u001b[1mlegal_&_general_group    \u001b[0m sector=\u001b[1mFinancials\u001b[0m\n",
      "\n",
      "\n",
      "09: Industry, Innovation, Technology and Infrastructure          len(validated_companies)=0\n",
      "\u001b[1m10: Reduced inequality                                          \u001b[0m len(validated_companies)=2\n",
      "\t\u001b[1mlegal_&_general_group    \u001b[0m sector=\u001b[1mFinancials\u001b[0m\n",
      "\t\u001b[1mstandard_chartered       \u001b[0m sector=\u001b[1mFinancials\u001b[0m\n",
      "\n",
      "\n",
      "11: Sustainable cities and communities                           len(validated_companies)=0\n",
      "\u001b[1m12: Responsible consumption and production                      \u001b[0m len(validated_companies)=3\n",
      "\t\u001b[1menergean                 \u001b[0m sector=\u001b[1mEnergy\u001b[0m\n",
      "\t\u001b[1mrightmove                \u001b[0m sector=\u001b[1mReal Estate\u001b[0m\n",
      "\t\u001b[1mbytes_technology_group   \u001b[0m sector=\u001b[1mTechnology\u001b[0m\n",
      "\n",
      "\n",
      "\u001b[1m13: Climate action                                              \u001b[0m len(validated_companies)=5\n",
      "\t\u001b[1mpersimmon                \u001b[0m sector=\u001b[1mConsumer Discretionary\u001b[0m\n",
      "\t\u001b[1mwhitbread                \u001b[0m sector=\u001b[1mConsumer Discretionary\u001b[0m\n",
      "\t\u001b[1mstandard_chartered       \u001b[0m sector=\u001b[1mFinancials\u001b[0m\n",
      "\t\u001b[1mdeliveroo                \u001b[0m sector=\u001b[1mTechnology\u001b[0m\n",
      "\t\u001b[1mhelios_towers            \u001b[0m sector=\u001b[1mTelecommunications\u001b[0m\n",
      "\n",
      "\n",
      "14: Life below water                                             len(validated_companies)=0\n",
      "15: Life on land                                                 len(validated_companies)=0\n",
      "16: Peace, justice and strong institutions                       len(validated_companies)=0\n",
      "17: Partnerships for the goals                                   len(validated_companies)=0\n",
      "\n",
      "\u001b[1m2023\u001b[0m\n",
      "\u001b[1m01: No Poverty                                                  \u001b[0m len(validated_companies)=1\n",
      "\t\u001b[1mstandard_chartered       \u001b[0m sector=\u001b[1mFinancials\u001b[0m\n",
      "\n",
      "\n",
      "\u001b[1m02: Zero hunger                                                 \u001b[0m len(validated_companies)=3\n",
      "\t\u001b[1mcompass_group            \u001b[0m sector=\u001b[1mConsumer Discretionary\u001b[0m\n",
      "\t\u001b[1mstandard_chartered       \u001b[0m sector=\u001b[1mFinancials\u001b[0m\n",
      "\t\u001b[1mdeliveroo                \u001b[0m sector=\u001b[1mTechnology\u001b[0m\n",
      "\n",
      "\n",
      "\u001b[1m03: Good health and well-being                                  \u001b[0m len(validated_companies)=2\n",
      "\t\u001b[1mastrazeneca              \u001b[0m sector=\u001b[1mHealth Care\u001b[0m\n",
      "\t\u001b[1mgsk                      \u001b[0m sector=\u001b[1mHealth Care\u001b[0m\n",
      "\n",
      "\n",
      "04: Quality education                                            len(validated_companies)=0\n",
      "05: Gender equality                                              len(validated_companies)=0\n",
      "\u001b[1m06: Clean water and sanitation                                  \u001b[0m len(validated_companies)=5\n",
      "\t\u001b[1mastrazeneca              \u001b[0m sector=\u001b[1mHealth Care\u001b[0m\n",
      "\t\u001b[1mhelios_towers            \u001b[0m sector=\u001b[1mTelecommunications\u001b[0m\n",
      "\t\u001b[1mpennon_group             \u001b[0m sector=\u001b[1mUtilities\u001b[0m\n",
      "\t\u001b[1msevern_trent             \u001b[0m sector=\u001b[1mUtilities\u001b[0m\n",
      "\t\u001b[1munited_utilities_group   \u001b[0m sector=\u001b[1mUtilities\u001b[0m\n",
      "\n",
      "\n",
      "\u001b[1m07: Affordable and clean energy                                 \u001b[0m len(validated_companies)=5\n",
      "\t\u001b[1mjohnson_matthey          \u001b[0m sector=\u001b[1mBasic Materials\u001b[0m\n",
      "\t\u001b[1mcentrica                 \u001b[0m sector=\u001b[1mUtilities\u001b[0m\n",
      "\t\u001b[1mgood_energy_group        \u001b[0m sector=\u001b[1mUtilities\u001b[0m\n",
      "\t\u001b[1mnational_grid            \u001b[0m sector=\u001b[1mUtilities\u001b[0m\n",
      "\t\u001b[1myu_group                 \u001b[0m sector=\u001b[1mUtilities\u001b[0m\n",
      "\n",
      "\n",
      "\u001b[1m08: Decent work and economic growth                             \u001b[0m len(validated_companies)=1\n",
      "\t\u001b[1mstandard_chartered       \u001b[0m sector=\u001b[1mFinancials\u001b[0m\n",
      "\n",
      "\n",
      "\u001b[1m09: Industry, Innovation, Technology and Infrastructure         \u001b[0m len(validated_companies)=2\n",
      "\t\u001b[1mstandard_chartered       \u001b[0m sector=\u001b[1mFinancials\u001b[0m\n",
      "\t\u001b[1mhalma                    \u001b[0m sector=\u001b[1mIndustrials\u001b[0m\n",
      "\n",
      "\n",
      "\u001b[1m10: Reduced inequality                                          \u001b[0m len(validated_companies)=2\n",
      "\t\u001b[1mlegal_&_general_group    \u001b[0m sector=\u001b[1mFinancials\u001b[0m\n",
      "\t\u001b[1mstandard_chartered       \u001b[0m sector=\u001b[1mFinancials\u001b[0m\n",
      "\n",
      "\n",
      "\u001b[1m11: Sustainable cities and communities                          \u001b[0m len(validated_companies)=2\n",
      "\t\u001b[1mstandard_chartered       \u001b[0m sector=\u001b[1mFinancials\u001b[0m\n",
      "\t\u001b[1mhalma                    \u001b[0m sector=\u001b[1mIndustrials\u001b[0m\n",
      "\n",
      "\n",
      "\u001b[1m12: Responsible consumption and production                      \u001b[0m len(validated_companies)=3\n",
      "\t\u001b[1menergean                 \u001b[0m sector=\u001b[1mEnergy\u001b[0m\n",
      "\t\u001b[1mwise                     \u001b[0m sector=\u001b[1mIndustrials\u001b[0m\n",
      "\t\u001b[1mbytes_technology_group   \u001b[0m sector=\u001b[1mTechnology\u001b[0m\n",
      "\n",
      "\n",
      "\u001b[1m13: Climate action                                              \u001b[0m len(validated_companies)=4\n",
      "\t\u001b[1mdeliveroo                \u001b[0m sector=\u001b[1mTechnology\u001b[0m\n",
      "\t\u001b[1mhelios_towers            \u001b[0m sector=\u001b[1mTelecommunications\u001b[0m\n",
      "\t\u001b[1mvodafone_group           \u001b[0m sector=\u001b[1mTelecommunications\u001b[0m\n",
      "\t\u001b[1mpennon_group             \u001b[0m sector=\u001b[1mUtilities\u001b[0m\n",
      "\n",
      "\n",
      "\u001b[1m14: Life below water                                            \u001b[0m len(validated_companies)=2\n",
      "\t\u001b[1mwise                     \u001b[0m sector=\u001b[1mIndustrials\u001b[0m\n",
      "\t\u001b[1mpennon_group             \u001b[0m sector=\u001b[1mUtilities\u001b[0m\n",
      "\n",
      "\n",
      "15: Life on land                                                 len(validated_companies)=0\n",
      "16: Peace, justice and strong institutions                       len(validated_companies)=0\n",
      "17: Partnerships for the goals                                   len(validated_companies)=0\n"
     ]
    }
   ],
   "source": [
    "for i_y, year in enumerate(tqdm(years)):\n",
    "    print(f'\\n\\033[1m{year:}\\033[0m')\n",
    "    compa_y=vectors[vectors['year']==year]['company']\n",
    "    sec_y=vectors[vectors['year']==year]['sector']\n",
    "    for i_s, sdg in enumerate(sdg_helper.keys()):\n",
    "        _fdr_th=fdr_th(cos_sims_SDGs[i_y*l_sdgs+i_s]['p_val'], alpha)\n",
    "        validation_mask=cos_sims_SDGs[i_y*l_sdgs+i_s]['p_val']<=_fdr_th\n",
    "        validated_compa=compa_y[validation_mask]\n",
    "        validated_sec=sec_y[validation_mask]\n",
    "        if len(validated_compa)>0:\n",
    "            print(f'\\033[1m{sdg:}: {sdg_helper[sdg]:60}\\033[0m len(validated_companies)={len(validated_compa):}')\n",
    "            for i_vc, vc in enumerate(validated_compa):\n",
    "                print(f'\\t\\033[1m{vc:25}\\033[0m sector=\\033[1m{sec_helper[validated_sec[i_vc]]:}\\033[0m')\n",
    "            print('\\n')\n",
    "        else:\n",
    "            print(f'{sdg:}: {sdg_helper[sdg]:60} len(validated_companies)={len(validated_compa):}')"
   ]
  }
 ],
 "metadata": {
  "kernelspec": {
   "display_name": "Python 3 (ipykernel)",
   "language": "python",
   "name": "python3"
  },
  "language_info": {
   "codemirror_mode": {
    "name": "ipython",
    "version": 3
   },
   "file_extension": ".py",
   "mimetype": "text/x-python",
   "name": "python",
   "nbconvert_exporter": "python",
   "pygments_lexer": "ipython3",
   "version": "3.8.10"
  },
  "notify_time": "5",
  "toc": {
   "base_numbering": 1,
   "nav_menu": {},
   "number_sections": true,
   "sideBar": true,
   "skip_h1_title": false,
   "title_cell": "Table of Contents",
   "title_sidebar": "Contents",
   "toc_cell": false,
   "toc_position": {
    "height": "calc(100% - 180px)",
    "left": "10px",
    "top": "150px",
    "width": "288px"
   },
   "toc_section_display": true,
   "toc_window_display": true
  }
 },
 "nbformat": 4,
 "nbformat_minor": 5
}
