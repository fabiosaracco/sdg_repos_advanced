{
 "cells": [
  {
   "cell_type": "markdown",
   "id": "db371308",
   "metadata": {},
   "source": [
    "# Intro"
   ]
  },
  {
   "cell_type": "markdown",
   "id": "896358d6",
   "metadata": {},
   "source": [
    "## Standard modules"
   ]
  },
  {
   "cell_type": "code",
   "execution_count": 1,
   "id": "f7672e09",
   "metadata": {
    "ExecuteTime": {
     "end_time": "2025-08-04T15:01:34.004326Z",
     "start_time": "2025-08-04T15:01:33.870683Z"
    }
   },
   "outputs": [],
   "source": [
    "import os, sys, pickle\n",
    "import pathlib\n",
    "import requests"
   ]
  },
  {
   "cell_type": "code",
   "execution_count": 2,
   "id": "c9727509",
   "metadata": {
    "ExecuteTime": {
     "end_time": "2025-08-04T15:01:34.660022Z",
     "start_time": "2025-08-04T15:01:34.009420Z"
    }
   },
   "outputs": [],
   "source": [
    "import numpy as np"
   ]
  },
  {
   "cell_type": "code",
   "execution_count": 3,
   "id": "a15502fc",
   "metadata": {
    "ExecuteTime": {
     "end_time": "2025-08-04T15:01:34.966488Z",
     "start_time": "2025-08-04T15:01:34.663414Z"
    }
   },
   "outputs": [],
   "source": [
    "from tqdm.auto import tqdm, trange"
   ]
  },
  {
   "cell_type": "code",
   "execution_count": 4,
   "id": "827d3435",
   "metadata": {
    "ExecuteTime": {
     "end_time": "2025-08-04T15:01:45.683583Z",
     "start_time": "2025-08-04T15:01:34.971526Z"
    }
   },
   "outputs": [],
   "source": [
    "from sentence_transformers import util"
   ]
  },
  {
   "cell_type": "code",
   "execution_count": 5,
   "id": "f0fc08c6",
   "metadata": {
    "ExecuteTime": {
     "end_time": "2025-08-04T15:01:46.901056Z",
     "start_time": "2025-08-04T15:01:45.687013Z"
    }
   },
   "outputs": [],
   "source": [
    "import matplotlib.pyplot as plt\n",
    "plt.rcParams['axes.linewidth'] = 2\n",
    "plt.rcParams['xtick.major.size'] = 10\n",
    "plt.rcParams['xtick.major.width'] = 2\n",
    "plt.rcParams['ytick.major.size'] = 10\n",
    "plt.rcParams['ytick.major.width'] = 2\n",
    "\n",
    "plt.rcParams['xtick.labelsize'] = 14\n",
    "plt.rcParams['ytick.labelsize'] = 14\n",
    "\n",
    "plt.rcParams['xtick.minor.size'] = 5\n",
    "plt.rcParams['xtick.minor.width'] = 1\n",
    "plt.rcParams['ytick.minor.size'] = 5\n",
    "plt.rcParams['ytick.minor.width'] = 1"
   ]
  },
  {
   "cell_type": "code",
   "execution_count": 6,
   "id": "7cb0b1ac",
   "metadata": {
    "ExecuteTime": {
     "end_time": "2025-08-04T15:01:47.348209Z",
     "start_time": "2025-08-04T15:01:46.904337Z"
    }
   },
   "outputs": [],
   "source": [
    "from sklearn.decomposition import PCA"
   ]
  },
  {
   "cell_type": "code",
   "execution_count": 7,
   "id": "f92c9326",
   "metadata": {
    "ExecuteTime": {
     "end_time": "2025-08-04T15:01:48.842861Z",
     "start_time": "2025-08-04T15:01:47.351241Z"
    }
   },
   "outputs": [],
   "source": [
    "import seaborn"
   ]
  },
  {
   "cell_type": "code",
   "execution_count": 8,
   "id": "07e83900",
   "metadata": {
    "ExecuteTime": {
     "end_time": "2025-08-04T15:01:49.189634Z",
     "start_time": "2025-08-04T15:01:48.846253Z"
    }
   },
   "outputs": [],
   "source": [
    "import pymannkendall as mk"
   ]
  },
  {
   "cell_type": "code",
   "execution_count": 9,
   "id": "19f8f1c0",
   "metadata": {
    "ExecuteTime": {
     "end_time": "2025-08-04T15:01:49.198409Z",
     "start_time": "2025-08-04T15:01:49.193418Z"
    }
   },
   "outputs": [],
   "source": [
    "from scipy.spatial.distance import cosine"
   ]
  },
  {
   "cell_type": "code",
   "execution_count": 10,
   "id": "4dc868bf",
   "metadata": {
    "ExecuteTime": {
     "end_time": "2025-08-04T15:01:49.773346Z",
     "start_time": "2025-08-04T15:01:49.208348Z"
    }
   },
   "outputs": [],
   "source": [
    "import requests\n",
    "import re\n",
    "from bs4 import BeautifulSoup  # Per pulizia HTML nelle REST API"
   ]
  },
  {
   "cell_type": "code",
   "execution_count": 11,
   "id": "4c097f6e",
   "metadata": {
    "ExecuteTime": {
     "end_time": "2025-08-04T15:01:49.787382Z",
     "start_time": "2025-08-04T15:01:49.776387Z"
    }
   },
   "outputs": [],
   "source": [
    "import datetime as dt"
   ]
  },
  {
   "cell_type": "markdown",
   "id": "35855bb3",
   "metadata": {},
   "source": [
    "## Personal modules"
   ]
  },
  {
   "cell_type": "code",
   "execution_count": 12,
   "id": "4756afef",
   "metadata": {
    "ExecuteTime": {
     "end_time": "2025-08-04T15:01:50.071614Z",
     "start_time": "2025-08-04T15:01:49.791517Z"
    }
   },
   "outputs": [],
   "source": [
    "from toolbox.updater import time_is_now"
   ]
  },
  {
   "cell_type": "code",
   "execution_count": 13,
   "id": "e6ec08e2",
   "metadata": {
    "ExecuteTime": {
     "end_time": "2025-08-04T15:01:50.244752Z",
     "start_time": "2025-08-04T15:01:50.074493Z"
    }
   },
   "outputs": [],
   "source": [
    "from file2text import file2text"
   ]
  },
  {
   "cell_type": "code",
   "execution_count": 14,
   "id": "17e8618b",
   "metadata": {
    "ExecuteTime": {
     "end_time": "2025-08-04T15:01:50.253741Z",
     "start_time": "2025-08-04T15:01:50.248501Z"
    }
   },
   "outputs": [],
   "source": [
    "from first_rough_cleaning import first_text_cleaner"
   ]
  },
  {
   "cell_type": "code",
   "execution_count": 15,
   "id": "4327c85a",
   "metadata": {
    "ExecuteTime": {
     "end_time": "2025-08-04T15:01:50.339950Z",
     "start_time": "2025-08-04T15:01:50.257035Z"
    }
   },
   "outputs": [],
   "source": [
    "from file_handler import *"
   ]
  },
  {
   "cell_type": "code",
   "execution_count": 16,
   "id": "dec7e4ec",
   "metadata": {
    "ExecuteTime": {
     "end_time": "2025-08-04T15:02:05.429946Z",
     "start_time": "2025-08-04T15:01:50.343027Z"
    }
   },
   "outputs": [
    {
     "name": "stderr",
     "output_type": "stream",
     "text": [
      "/home/sarawalk/sdgs_py38/lib/python3.8/site-packages/torch/cuda/__init__.py:118: UserWarning: CUDA initialization: The NVIDIA driver on your system is too old (found version 10020). Please update your GPU driver by downloading and installing a new version from the URL: http://www.nvidia.com/Download/index.aspx Alternatively, go to: https://pytorch.org to install a PyTorch version that has been compiled with your version of the CUDA driver. (Triggered internally at ../c10/cuda/CUDAFunctions.cpp:108.)\n",
      "  return torch._C._cuda_getDeviceCount() > 0\n"
     ]
    }
   ],
   "source": [
    "from jina4lote import jina4lote"
   ]
  },
  {
   "cell_type": "code",
   "execution_count": 17,
   "id": "361b4636",
   "metadata": {
    "ExecuteTime": {
     "end_time": "2025-08-04T15:02:05.529369Z",
     "start_time": "2025-08-04T15:02:05.442023Z"
    }
   },
   "outputs": [],
   "source": [
    "from tabulate import tabulate"
   ]
  },
  {
   "cell_type": "markdown",
   "id": "af329af8",
   "metadata": {},
   "source": [
    "## Folders"
   ]
  },
  {
   "cell_type": "code",
   "execution_count": 18,
   "id": "bdba33e5",
   "metadata": {
    "ExecuteTime": {
     "end_time": "2025-08-04T15:02:05.572572Z",
     "start_time": "2025-08-04T15:02:05.533100Z"
    }
   },
   "outputs": [],
   "source": [
    "VECTOR_FOLDER='./NewProcessedData/vectors/'"
   ]
  },
  {
   "cell_type": "code",
   "execution_count": 19,
   "id": "48211fd2",
   "metadata": {
    "ExecuteTime": {
     "end_time": "2025-08-04T15:02:05.699491Z",
     "start_time": "2025-08-04T15:02:05.575843Z"
    }
   },
   "outputs": [],
   "source": [
    "BENCHMARK_FOLDER='./NewProcessedData/benchmarks/'"
   ]
  },
  {
   "cell_type": "code",
   "execution_count": 20,
   "id": "a8d8c929",
   "metadata": {
    "ExecuteTime": {
     "end_time": "2025-08-04T15:02:05.772761Z",
     "start_time": "2025-08-04T15:02:05.703245Z"
    }
   },
   "outputs": [],
   "source": [
    "PCA_CENTR_VECTOR_FOLDER='./NewProcessedData/abtt5_vectors/'"
   ]
  },
  {
   "cell_type": "markdown",
   "id": "158cfe86",
   "metadata": {},
   "source": [
    "## Sector helper"
   ]
  },
  {
   "cell_type": "code",
   "execution_count": 42,
   "id": "cac4d390",
   "metadata": {
    "ExecuteTime": {
     "end_time": "2025-08-04T15:02:44.422477Z",
     "start_time": "2025-08-04T15:02:44.335951Z"
    }
   },
   "outputs": [],
   "source": [
    "rtf_files=os.listdir('./rtf')\n",
    "rtf_files.sort()"
   ]
  },
  {
   "cell_type": "code",
   "execution_count": 43,
   "id": "fb93cab8",
   "metadata": {
    "ExecuteTime": {
     "end_time": "2025-08-04T15:02:44.433108Z",
     "start_time": "2025-08-04T15:02:44.425630Z"
    }
   },
   "outputs": [],
   "source": [
    "sec_helper={}\n",
    "for file in rtf_files:\n",
    "    splitted_name=file.split('_')\n",
    "    if splitted_name[0].isnumeric():\n",
    "        if splitted_name[0] not in sec_helper.keys():\n",
    "            sec_helper[splitted_name[0].zfill(2)]=splitted_name[1]"
   ]
  },
  {
   "cell_type": "code",
   "execution_count": 44,
   "id": "b262fd29",
   "metadata": {
    "ExecuteTime": {
     "end_time": "2025-08-04T15:02:44.543404Z",
     "start_time": "2025-08-04T15:02:44.436498Z"
    }
   },
   "outputs": [
    {
     "data": {
      "text/plain": [
       "{'10': 'Telecommunications',\n",
       " '11': 'Utilities',\n",
       " '01': 'Basic Materials',\n",
       " '02': 'Consumer Discretionary',\n",
       " '03': 'Consumer Staples',\n",
       " '04': 'Energy',\n",
       " '05': 'Financials',\n",
       " '06': 'Health Care',\n",
       " '07': 'Industrials',\n",
       " '08': 'Real Estate',\n",
       " '09': 'Technology'}"
      ]
     },
     "execution_count": 44,
     "metadata": {},
     "output_type": "execute_result"
    }
   ],
   "source": [
    "sec_helper"
   ]
  },
  {
   "cell_type": "markdown",
   "id": "7613432a",
   "metadata": {},
   "source": [
    "### Aggregated sectors"
   ]
  },
  {
   "cell_type": "code",
   "execution_count": 60,
   "id": "325cb058",
   "metadata": {
    "ExecuteTime": {
     "end_time": "2025-08-04T15:11:17.824880Z",
     "start_time": "2025-08-04T15:11:17.816564Z"
    }
   },
   "outputs": [],
   "source": [
    "agg_secs={'A': {'name':'Consumer Goods', 'sectors':['02', '03']}, \n",
    " 'B':{'name':'Essential Infrastructure & Services', 'sectors':['08', '10', '11']}, \n",
    " 'C':{'name':'Production Sectors','sectors':['01', '04', '07']},\n",
    " 'D':{'name':'Specialized Services','sectors':['05', '06', '09']}}"
   ]
  },
  {
   "cell_type": "code",
   "execution_count": 46,
   "id": "746743b6",
   "metadata": {
    "ExecuteTime": {
     "end_time": "2025-08-04T15:02:44.731472Z",
     "start_time": "2025-08-04T15:02:44.616417Z"
    }
   },
   "outputs": [],
   "source": [
    "sec2agg_d={'01':'C', '02':'A', '03':'A', '04':'C', '05':'D', '06':'D', '07':'C', '08':'B', '09':'D', '10':'B', '11':'B'}"
   ]
  },
  {
   "cell_type": "markdown",
   "id": "06f4430a",
   "metadata": {},
   "source": [
    "## SDG helper"
   ]
  },
  {
   "cell_type": "code",
   "execution_count": 47,
   "id": "5882cf23",
   "metadata": {
    "ExecuteTime": {
     "end_time": "2025-08-04T15:02:44.805859Z",
     "start_time": "2025-08-04T15:02:44.735081Z"
    }
   },
   "outputs": [],
   "source": [
    "sdg_helper={'01':'No Poverty', \n",
    " '02': 'Zero hunger', \n",
    " '03': 'Good health and well-being', \n",
    " '04': 'Quality education',\n",
    " '05': 'Gender equality',\n",
    " '06': 'Clean water and sanitation',\n",
    " '07': 'Affordable and clean energy',\n",
    " '08': 'Decent work and economic growth',\n",
    " '09': 'Industry, Innovation, Technology and Infrastructure',\n",
    " '10': 'Reduced inequality',\n",
    " '11': 'Sustainable cities and communities',\n",
    " '12': 'Responsible consumption and production',\n",
    " '13': 'Climate action',\n",
    " '14': 'Life below water',\n",
    " '15': 'Life on land',\n",
    " '16': 'Peace, justice and strong institutions',\n",
    " '17': 'Partnerships for the goals'\n",
    "}"
   ]
  },
  {
   "cell_type": "markdown",
   "id": "38d4e198",
   "metadata": {},
   "source": [
    "## Load vectors"
   ]
  },
  {
   "cell_type": "code",
   "execution_count": 21,
   "id": "4ab1cc3e",
   "metadata": {
    "ExecuteTime": {
     "end_time": "2025-08-04T15:02:06.047936Z",
     "start_time": "2025-08-04T15:02:05.776231Z"
    }
   },
   "outputs": [],
   "source": [
    "vecfiles=os.listdir(PCA_CENTR_VECTOR_FOLDER)"
   ]
  },
  {
   "cell_type": "code",
   "execution_count": 22,
   "id": "01ec4f86",
   "metadata": {
    "ExecuteTime": {
     "end_time": "2025-08-04T15:02:06.058572Z",
     "start_time": "2025-08-04T15:02:06.050960Z"
    }
   },
   "outputs": [],
   "source": [
    "vecfiles.sort()"
   ]
  },
  {
   "cell_type": "markdown",
   "id": "69382a55",
   "metadata": {},
   "source": [
    "### Reports' vectors"
   ]
  },
  {
   "cell_type": "code",
   "execution_count": 23,
   "id": "46936869",
   "metadata": {
    "ExecuteTime": {
     "end_time": "2025-08-04T15:02:06.132844Z",
     "start_time": "2025-08-04T15:02:06.061538Z"
    }
   },
   "outputs": [],
   "source": [
    "reports_files=[vecfile for vecfile in vecfiles if vecfile[:4].isnumeric()]"
   ]
  },
  {
   "cell_type": "code",
   "execution_count": 24,
   "id": "3ab7cc54",
   "metadata": {
    "ExecuteTime": {
     "end_time": "2025-08-04T15:02:06.222749Z",
     "start_time": "2025-08-04T15:02:06.135667Z"
    }
   },
   "outputs": [],
   "source": [
    "reports_files.sort()"
   ]
  },
  {
   "cell_type": "code",
   "execution_count": 25,
   "id": "cb7b0735",
   "metadata": {
    "ExecuteTime": {
     "end_time": "2025-08-04T15:02:06.315254Z",
     "start_time": "2025-08-04T15:02:06.225789Z"
    }
   },
   "outputs": [],
   "source": [
    "years, k_y=np.unique([rf[:4] for rf in reports_files], return_counts=True)"
   ]
  },
  {
   "cell_type": "code",
   "execution_count": 26,
   "id": "e8118e7c",
   "metadata": {
    "ExecuteTime": {
     "end_time": "2025-08-04T15:02:06.422065Z",
     "start_time": "2025-08-04T15:02:06.326503Z"
    }
   },
   "outputs": [
    {
     "data": {
      "text/plain": [
       "array([['2015', '40'],\n",
       "       ['2016', '44'],\n",
       "       ['2017', '51'],\n",
       "       ['2018', '56'],\n",
       "       ['2019', '67'],\n",
       "       ['2020', '69'],\n",
       "       ['2021', '76'],\n",
       "       ['2022', '80'],\n",
       "       ['2023', '90']], dtype='<U21')"
      ]
     },
     "execution_count": 26,
     "metadata": {},
     "output_type": "execute_result"
    }
   ],
   "source": [
    "np.vstack((years, k_y)).T"
   ]
  },
  {
   "cell_type": "code",
   "execution_count": 27,
   "id": "1f072ceb",
   "metadata": {
    "ExecuteTime": {
     "end_time": "2025-08-04T15:02:06.523027Z",
     "start_time": "2025-08-04T15:02:06.424866Z"
    }
   },
   "outputs": [],
   "source": [
    "vectors=np.zeros(len(reports_files), dtype=[('year', 'i4'), ('sector', 'U2'), ('company', 'U100'), ('vector', object)])"
   ]
  },
  {
   "cell_type": "code",
   "execution_count": 28,
   "id": "82c9e5c7",
   "metadata": {
    "ExecuteTime": {
     "end_time": "2025-08-04T15:02:09.625204Z",
     "start_time": "2025-08-04T15:02:06.525948Z"
    }
   },
   "outputs": [],
   "source": [
    "for i_rf, reports_file in enumerate(reports_files):\n",
    "    # info from the filename\n",
    "    splitted_filename=reports_file.split('_')\n",
    "    \n",
    "    year=int(splitted_filename[0])\n",
    "    sector=splitted_filename[1]\n",
    "    if splitted_filename[-1]=='PLC.txt':\n",
    "        company='_'.join(splitted_filename[2:-1])\n",
    "    else:\n",
    "        company='_'.join(splitted_filename[2:])\n",
    "        company=company.replace('.txt', '')\n",
    "    company=company.lower()\n",
    "    # get the vector\n",
    "    vector=np.genfromtxt(PCA_CENTR_VECTOR_FOLDER+reports_file)\n",
    "    \n",
    "    # organize data\n",
    "    vectors[i_rf]['year']=year\n",
    "    vectors[i_rf]['sector']=sector\n",
    "    vectors[i_rf]['company']=company\n",
    "    vectors[i_rf]['vector']=vector"
   ]
  },
  {
   "cell_type": "markdown",
   "id": "bac652f5",
   "metadata": {},
   "source": [
    "### Reports aggregated per sector per year"
   ]
  },
  {
   "cell_type": "markdown",
   "id": "69b4ca8f",
   "metadata": {},
   "source": [
    "For each and sector I have an only entry, therefore the final vector has "
   ]
  },
  {
   "cell_type": "code",
   "execution_count": 29,
   "id": "d493927d",
   "metadata": {
    "ExecuteTime": {
     "end_time": "2025-08-04T15:02:09.642502Z",
     "start_time": "2025-08-04T15:02:09.630456Z"
    }
   },
   "outputs": [
    {
     "data": {
      "text/plain": [
       "96"
      ]
     },
     "execution_count": 29,
     "metadata": {},
     "output_type": "execute_result"
    }
   ],
   "source": [
    "_tracks=np.unique(vectors[['year', 'sector']])\n",
    "l_aggr_rep=len(_tracks)\n",
    "l_aggr_rep"
   ]
  },
  {
   "cell_type": "markdown",
   "id": "84e1d2c2",
   "metadata": {},
   "source": [
    "entries."
   ]
  },
  {
   "cell_type": "code",
   "execution_count": 30,
   "id": "6fbf142b",
   "metadata": {
    "ExecuteTime": {
     "end_time": "2025-08-04T15:02:09.706247Z",
     "start_time": "2025-08-04T15:02:09.645112Z"
    }
   },
   "outputs": [],
   "source": [
    "aggr_vectors=np.zeros(l_aggr_rep, dtype=[('year', 'i4'), ('sector', 'U2'), ('vector', object)])"
   ]
  },
  {
   "cell_type": "code",
   "execution_count": 31,
   "id": "3858f49e",
   "metadata": {
    "ExecuteTime": {
     "end_time": "2025-08-04T15:02:09.843890Z",
     "start_time": "2025-08-04T15:02:09.709409Z"
    }
   },
   "outputs": [
    {
     "data": {
      "application/vnd.jupyter.widget-view+json": {
       "model_id": "",
       "version_major": 2,
       "version_minor": 0
      },
      "text/plain": [
       "  0%|          | 0/96 [00:00<?, ?it/s]"
      ]
     },
     "metadata": {},
     "output_type": "display_data"
    }
   ],
   "source": [
    "for i_t, _track in enumerate(tqdm(_tracks)):\n",
    "    year=_track[0]\n",
    "    sector=_track[1]\n",
    "    # select entries in vectors\n",
    "    _mask=np.logical_and(vectors['year']==year, vectors['sector']==sector)\n",
    "    _selection=vectors[_mask]\n",
    "    # define te entries in aggr_vectors\n",
    "    aggr_vectors[i_t]['year']=year\n",
    "    aggr_vectors[i_t]['sector']=sector\n",
    "    aggr_vectors[i_t]['vector']=np.mean(_selection['vector'])"
   ]
  },
  {
   "cell_type": "markdown",
   "id": "6595fea3",
   "metadata": {},
   "source": [
    "### Reports aggregated per aggregated sector per year"
   ]
  },
  {
   "cell_type": "markdown",
   "id": "8d2c4173",
   "metadata": {},
   "source": [
    "For each and sector I have an only entry, therefore the final vector has "
   ]
  },
  {
   "cell_type": "code",
   "execution_count": 52,
   "id": "4f789d03",
   "metadata": {
    "ExecuteTime": {
     "end_time": "2025-08-04T15:04:34.300690Z",
     "start_time": "2025-08-04T15:04:34.291597Z"
    }
   },
   "outputs": [
    {
     "data": {
      "text/plain": [
       "36"
      ]
     },
     "execution_count": 52,
     "metadata": {},
     "output_type": "execute_result"
    }
   ],
   "source": [
    "l_aggr_aggsec=4*len(years)\n",
    "l_aggr_aggsec"
   ]
  },
  {
   "cell_type": "markdown",
   "id": "d2675f49",
   "metadata": {},
   "source": [
    "entries."
   ]
  },
  {
   "cell_type": "code",
   "execution_count": 66,
   "id": "fbadc49c",
   "metadata": {
    "ExecuteTime": {
     "end_time": "2025-08-04T15:13:11.612592Z",
     "start_time": "2025-08-04T15:13:11.605398Z"
    }
   },
   "outputs": [],
   "source": [
    "aggsec_aggr_vectors=np.zeros(l_aggr_aggsec, dtype=[('year', 'i4'), ('agg_sec', 'U2'), ('vector', object)])"
   ]
  },
  {
   "cell_type": "code",
   "execution_count": 69,
   "id": "a57a0fbf",
   "metadata": {
    "ExecuteTime": {
     "end_time": "2025-08-04T15:13:36.965930Z",
     "start_time": "2025-08-04T15:13:36.927026Z"
    }
   },
   "outputs": [
    {
     "data": {
      "application/vnd.jupyter.widget-view+json": {
       "model_id": "cfcf1871fe47488e8ccdf60cb499df5a",
       "version_major": 2,
       "version_minor": 0
      },
      "text/plain": [
       "  0%|          | 0/9 [00:00<?, ?it/s]"
      ]
     },
     "metadata": {},
     "output_type": "display_data"
    }
   ],
   "source": [
    "index=0\n",
    "for year in tqdm(years):\n",
    "    for i in range(4):\n",
    "        _agg=chr(i+ord('A'))\n",
    "        _agg_sectors=agg_secs[_agg]['sectors']\n",
    "        # select entries in vectors\n",
    "        _mask=np.logical_and(vectors['year']==year, np.isin(vectors['sector'],_agg_sectors))\n",
    "        _selection=vectors[_mask]\n",
    "        # define the entries in aggr_vectors\n",
    "        aggsec_aggr_vectors[index]['year']=year\n",
    "        aggsec_aggr_vectors[index]['agg_sec']=_agg\n",
    "        aggsec_aggr_vectors[index]['vector']=np.mean(_selection['vector'])\n",
    "        index+=1"
   ]
  },
  {
   "cell_type": "markdown",
   "id": "23bf8184",
   "metadata": {},
   "source": [
    "### Witten's vector"
   ]
  },
  {
   "cell_type": "code",
   "execution_count": 32,
   "id": "14c44500",
   "metadata": {
    "ExecuteTime": {
     "end_time": "2025-08-04T15:02:09.940976Z",
     "start_time": "2025-08-04T15:02:09.846899Z"
    }
   },
   "outputs": [],
   "source": [
    "wittenvecfile=[file for file in os.listdir(PCA_CENTR_VECTOR_FOLDER) if file.startswith('Witten') and file.endswith('.txt')][0]"
   ]
  },
  {
   "cell_type": "code",
   "execution_count": 33,
   "id": "5872e8c7",
   "metadata": {
    "ExecuteTime": {
     "end_time": "2025-08-04T15:02:10.090849Z",
     "start_time": "2025-08-04T15:02:09.943979Z"
    }
   },
   "outputs": [],
   "source": [
    "wittenvec=np.genfromtxt(PCA_CENTR_VECTOR_FOLDER+wittenvecfile)"
   ]
  },
  {
   "cell_type": "markdown",
   "id": "5c750054",
   "metadata": {},
   "source": [
    "### Goals' vectors"
   ]
  },
  {
   "cell_type": "code",
   "execution_count": 34,
   "id": "b1ca9065",
   "metadata": {
    "ExecuteTime": {
     "end_time": "2025-08-04T15:02:10.183319Z",
     "start_time": "2025-08-04T15:02:10.093684Z"
    }
   },
   "outputs": [],
   "source": [
    "goalvecfiles=[vecfile for vecfile in vecfiles if vecfile.startswith('Goal')]"
   ]
  },
  {
   "cell_type": "code",
   "execution_count": 35,
   "id": "285c75c0",
   "metadata": {
    "ExecuteTime": {
     "end_time": "2025-08-04T15:02:10.280790Z",
     "start_time": "2025-08-04T15:02:10.186554Z"
    }
   },
   "outputs": [],
   "source": [
    "goalvecfiles.sort()"
   ]
  },
  {
   "cell_type": "code",
   "execution_count": 36,
   "id": "6a962087",
   "metadata": {
    "ExecuteTime": {
     "end_time": "2025-08-04T15:02:10.375458Z",
     "start_time": "2025-08-04T15:02:10.283566Z"
    }
   },
   "outputs": [
    {
     "data": {
      "text/plain": [
       "['Goal-01-Fast-Facts.txt',\n",
       " 'Goal-02-Fast-Facts.txt',\n",
       " 'Goal-03-Fast-Facts.txt',\n",
       " 'Goal-04-Fast-Facts.txt',\n",
       " 'Goal-05-Fast-Facts.txt',\n",
       " 'Goal-06-Fast-Facts.txt',\n",
       " 'Goal-07-Fast-Facts.txt',\n",
       " 'Goal-08-Fast-Facts.txt',\n",
       " 'Goal-09-Fast-Facts.txt',\n",
       " 'Goal-10-Fast-Facts.txt',\n",
       " 'Goal-11_Fast-Facts.txt',\n",
       " 'Goal-12_Fast-Facts.txt',\n",
       " 'Goal-13_Fast-Facts.txt',\n",
       " 'Goal-14_Fast-Facts.txt',\n",
       " 'Goal-15-Fast-Facts.txt',\n",
       " 'Goal-16-Fast-Facts.txt',\n",
       " 'Goal-17-Fast-Facts.txt',\n",
       " 'Goal-Fast-Facts.txt']"
      ]
     },
     "execution_count": 36,
     "metadata": {},
     "output_type": "execute_result"
    }
   ],
   "source": [
    "goalvecfiles"
   ]
  },
  {
   "cell_type": "code",
   "execution_count": 37,
   "id": "a7958f32",
   "metadata": {
    "ExecuteTime": {
     "end_time": "2025-08-04T15:02:10.557580Z",
     "start_time": "2025-08-04T15:02:10.378211Z"
    }
   },
   "outputs": [],
   "source": [
    "goalvecs=[np.genfromtxt(PCA_CENTR_VECTOR_FOLDER+goalvecfile) for goalvecfile in goalvecfiles]"
   ]
  },
  {
   "cell_type": "markdown",
   "id": "9c54342e",
   "metadata": {},
   "source": [
    "### Wikipedia's vectors"
   ]
  },
  {
   "cell_type": "code",
   "execution_count": 38,
   "id": "0a36505a",
   "metadata": {
    "ExecuteTime": {
     "end_time": "2025-08-04T15:02:10.675244Z",
     "start_time": "2025-08-04T15:02:10.561011Z"
    }
   },
   "outputs": [],
   "source": [
    "wikivecfiles=[vecfile for vecfile in vecfiles if vecfile.startswith('wiki')]"
   ]
  },
  {
   "cell_type": "code",
   "execution_count": 39,
   "id": "4b41560c",
   "metadata": {
    "ExecuteTime": {
     "end_time": "2025-08-04T15:02:10.803215Z",
     "start_time": "2025-08-04T15:02:10.678717Z"
    }
   },
   "outputs": [],
   "source": [
    "wikivecfiles.sort()"
   ]
  },
  {
   "cell_type": "code",
   "execution_count": 40,
   "id": "51e63a46",
   "metadata": {
    "ExecuteTime": {
     "end_time": "2025-08-04T15:02:10.883834Z",
     "start_time": "2025-08-04T15:02:10.806508Z"
    }
   },
   "outputs": [
    {
     "data": {
      "text/plain": [
       "4001"
      ]
     },
     "execution_count": 40,
     "metadata": {},
     "output_type": "execute_result"
    }
   ],
   "source": [
    "len(wikivecfiles)"
   ]
  },
  {
   "cell_type": "code",
   "execution_count": 41,
   "id": "73eca208",
   "metadata": {
    "ExecuteTime": {
     "end_time": "2025-08-04T15:02:44.331614Z",
     "start_time": "2025-08-04T15:02:10.886821Z"
    }
   },
   "outputs": [],
   "source": [
    "wikivecs=[np.genfromtxt(PCA_CENTR_VECTOR_FOLDER+wikivecfile) for wikivecfile in wikivecfiles]"
   ]
  },
  {
   "cell_type": "markdown",
   "id": "97575085",
   "metadata": {},
   "source": [
    "## FDR"
   ]
  },
  {
   "cell_type": "code",
   "execution_count": 48,
   "id": "8cf460f8",
   "metadata": {
    "ExecuteTime": {
     "end_time": "2025-08-04T15:02:44.941492Z",
     "start_time": "2025-08-04T15:02:44.809234Z"
    }
   },
   "outputs": [],
   "source": [
    "def fdr_th(p_vals, alpha):\n",
    "    _aux=np.sort(p_vals)\n",
    "    fdr_ths=np.arange(1, 1+len(_aux))*alpha/len(_aux)\n",
    "    fdr_mask=_aux<=fdr_ths\n",
    "    if np.sum(fdr_mask)>0:\n",
    "        return fdr_ths[fdr_mask][-1]\n",
    "    else:\n",
    "        return 0."
   ]
  },
  {
   "cell_type": "markdown",
   "id": "6f8873b7",
   "metadata": {},
   "source": [
    "# The benchmark"
   ]
  },
  {
   "cell_type": "code",
   "execution_count": 49,
   "id": "89f59c1f",
   "metadata": {
    "ExecuteTime": {
     "end_time": "2025-08-04T15:02:45.030341Z",
     "start_time": "2025-08-04T15:02:44.945165Z"
    }
   },
   "outputs": [],
   "source": [
    "years=years.astype('i4')"
   ]
  },
  {
   "cell_type": "markdown",
   "id": "1460f47d",
   "metadata": {
    "heading_collapsed": true
   },
   "source": [
    "## Creating the benchmark, at the firm level _[DO NOT EVALUATE IT AGAIN!!!]_"
   ]
  },
  {
   "cell_type": "code",
   "execution_count": 48,
   "id": "3f5355d9",
   "metadata": {
    "ExecuteTime": {
     "end_time": "2025-06-17T11:02:00.430750Z",
     "start_time": "2025-06-17T11:02:00.424383Z"
    },
    "hidden": true
   },
   "outputs": [],
   "source": [
    "wiki_bench=np.zeros(len(vectors), dtype=[('cos_sim', object)])"
   ]
  },
  {
   "cell_type": "code",
   "execution_count": 49,
   "id": "f41d8627",
   "metadata": {
    "ExecuteTime": {
     "end_time": "2025-06-17T11:14:18.390187Z",
     "start_time": "2025-06-17T11:02:01.172608Z"
    },
    "hidden": true
   },
   "outputs": [
    {
     "data": {
      "application/vnd.jupyter.widget-view+json": {
       "model_id": "",
       "version_major": 2,
       "version_minor": 0
      },
      "text/plain": [
       "  0%|          | 0/573 [00:00<?, ?it/s]"
      ]
     },
     "metadata": {},
     "output_type": "display_data"
    },
    {
     "data": {
      "application/vnd.jupyter.widget-view+json": {
       "model_id": "",
       "version_major": 2,
       "version_minor": 0
      },
      "text/plain": [
       "  0%|          | 0/4001 [00:00<?, ?it/s]"
      ]
     },
     "metadata": {},
     "output_type": "display_data"
    },
    {
     "data": {
      "application/vnd.jupyter.widget-view+json": {
       "model_id": "",
       "version_major": 2,
       "version_minor": 0
      },
      "text/plain": [
       "  0%|          | 0/4001 [00:00<?, ?it/s]"
      ]
     },
     "metadata": {},
     "output_type": "display_data"
    },
    {
     "data": {
      "application/vnd.jupyter.widget-view+json": {
       "model_id": "",
       "version_major": 2,
       "version_minor": 0
      },
      "text/plain": [
       "  0%|          | 0/4001 [00:00<?, ?it/s]"
      ]
     },
     "metadata": {},
     "output_type": "display_data"
    },
    {
     "data": {
      "application/vnd.jupyter.widget-view+json": {
       "model_id": "",
       "version_major": 2,
       "version_minor": 0
      },
      "text/plain": [
       "  0%|          | 0/4001 [00:00<?, ?it/s]"
      ]
     },
     "metadata": {},
     "output_type": "display_data"
    },
    {
     "data": {
      "application/vnd.jupyter.widget-view+json": {
       "model_id": "",
       "version_major": 2,
       "version_minor": 0
      },
      "text/plain": [
       "  0%|          | 0/4001 [00:00<?, ?it/s]"
      ]
     },
     "metadata": {},
     "output_type": "display_data"
    },
    {
     "data": {
      "application/vnd.jupyter.widget-view+json": {
       "model_id": "",
       "version_major": 2,
       "version_minor": 0
      },
      "text/plain": [
       "  0%|          | 0/4001 [00:00<?, ?it/s]"
      ]
     },
     "metadata": {},
     "output_type": "display_data"
    },
    {
     "data": {
      "application/vnd.jupyter.widget-view+json": {
       "model_id": "",
       "version_major": 2,
       "version_minor": 0
      },
      "text/plain": [
       "  0%|          | 0/4001 [00:00<?, ?it/s]"
      ]
     },
     "metadata": {},
     "output_type": "display_data"
    },
    {
     "data": {
      "application/vnd.jupyter.widget-view+json": {
       "model_id": "",
       "version_major": 2,
       "version_minor": 0
      },
      "text/plain": [
       "  0%|          | 0/4001 [00:00<?, ?it/s]"
      ]
     },
     "metadata": {},
     "output_type": "display_data"
    },
    {
     "data": {
      "application/vnd.jupyter.widget-view+json": {
       "model_id": "",
       "version_major": 2,
       "version_minor": 0
      },
      "text/plain": [
       "  0%|          | 0/4001 [00:00<?, ?it/s]"
      ]
     },
     "metadata": {},
     "output_type": "display_data"
    },
    {
     "data": {
      "application/vnd.jupyter.widget-view+json": {
       "model_id": "",
       "version_major": 2,
       "version_minor": 0
      },
      "text/plain": [
       "  0%|          | 0/4001 [00:00<?, ?it/s]"
      ]
     },
     "metadata": {},
     "output_type": "display_data"
    },
    {
     "data": {
      "application/vnd.jupyter.widget-view+json": {
       "model_id": "",
       "version_major": 2,
       "version_minor": 0
      },
      "text/plain": [
       "  0%|          | 0/4001 [00:00<?, ?it/s]"
      ]
     },
     "metadata": {},
     "output_type": "display_data"
    },
    {
     "data": {
      "application/vnd.jupyter.widget-view+json": {
       "model_id": "",
       "version_major": 2,
       "version_minor": 0
      },
      "text/plain": [
       "  0%|          | 0/4001 [00:00<?, ?it/s]"
      ]
     },
     "metadata": {},
     "output_type": "display_data"
    },
    {
     "data": {
      "application/vnd.jupyter.widget-view+json": {
       "model_id": "",
       "version_major": 2,
       "version_minor": 0
      },
      "text/plain": [
       "  0%|          | 0/4001 [00:00<?, ?it/s]"
      ]
     },
     "metadata": {},
     "output_type": "display_data"
    },
    {
     "data": {
      "application/vnd.jupyter.widget-view+json": {
       "model_id": "",
       "version_major": 2,
       "version_minor": 0
      },
      "text/plain": [
       "  0%|          | 0/4001 [00:00<?, ?it/s]"
      ]
     },
     "metadata": {},
     "output_type": "display_data"
    },
    {
     "data": {
      "application/vnd.jupyter.widget-view+json": {
       "model_id": "",
       "version_major": 2,
       "version_minor": 0
      },
      "text/plain": [
       "  0%|          | 0/4001 [00:00<?, ?it/s]"
      ]
     },
     "metadata": {},
     "output_type": "display_data"
    },
    {
     "data": {
      "application/vnd.jupyter.widget-view+json": {
       "model_id": "",
       "version_major": 2,
       "version_minor": 0
      },
      "text/plain": [
       "  0%|          | 0/4001 [00:00<?, ?it/s]"
      ]
     },
     "metadata": {},
     "output_type": "display_data"
    },
    {
     "data": {
      "application/vnd.jupyter.widget-view+json": {
       "model_id": "",
       "version_major": 2,
       "version_minor": 0
      },
      "text/plain": [
       "  0%|          | 0/4001 [00:00<?, ?it/s]"
      ]
     },
     "metadata": {},
     "output_type": "display_data"
    },
    {
     "data": {
      "application/vnd.jupyter.widget-view+json": {
       "model_id": "",
       "version_major": 2,
       "version_minor": 0
      },
      "text/plain": [
       "  0%|          | 0/4001 [00:00<?, ?it/s]"
      ]
     },
     "metadata": {},
     "output_type": "display_data"
    },
    {
     "data": {
      "application/vnd.jupyter.widget-view+json": {
       "model_id": "",
       "version_major": 2,
       "version_minor": 0
      },
      "text/plain": [
       "  0%|          | 0/4001 [00:00<?, ?it/s]"
      ]
     },
     "metadata": {},
     "output_type": "display_data"
    },
    {
     "data": {
      "application/vnd.jupyter.widget-view+json": {
       "model_id": "",
       "version_major": 2,
       "version_minor": 0
      },
      "text/plain": [
       "  0%|          | 0/4001 [00:00<?, ?it/s]"
      ]
     },
     "metadata": {},
     "output_type": "display_data"
    },
    {
     "data": {
      "application/vnd.jupyter.widget-view+json": {
       "model_id": "",
       "version_major": 2,
       "version_minor": 0
      },
      "text/plain": [
       "  0%|          | 0/4001 [00:00<?, ?it/s]"
      ]
     },
     "metadata": {},
     "output_type": "display_data"
    },
    {
     "data": {
      "application/vnd.jupyter.widget-view+json": {
       "model_id": "",
       "version_major": 2,
       "version_minor": 0
      },
      "text/plain": [
       "  0%|          | 0/4001 [00:00<?, ?it/s]"
      ]
     },
     "metadata": {},
     "output_type": "display_data"
    },
    {
     "data": {
      "application/vnd.jupyter.widget-view+json": {
       "model_id": "",
       "version_major": 2,
       "version_minor": 0
      },
      "text/plain": [
       "  0%|          | 0/4001 [00:00<?, ?it/s]"
      ]
     },
     "metadata": {},
     "output_type": "display_data"
    },
    {
     "data": {
      "application/vnd.jupyter.widget-view+json": {
       "model_id": "",
       "version_major": 2,
       "version_minor": 0
      },
      "text/plain": [
       "  0%|          | 0/4001 [00:00<?, ?it/s]"
      ]
     },
     "metadata": {},
     "output_type": "display_data"
    },
    {
     "data": {
      "application/vnd.jupyter.widget-view+json": {
       "model_id": "",
       "version_major": 2,
       "version_minor": 0
      },
      "text/plain": [
       "  0%|          | 0/4001 [00:00<?, ?it/s]"
      ]
     },
     "metadata": {},
     "output_type": "display_data"
    },
    {
     "data": {
      "application/vnd.jupyter.widget-view+json": {
       "model_id": "",
       "version_major": 2,
       "version_minor": 0
      },
      "text/plain": [
       "  0%|          | 0/4001 [00:00<?, ?it/s]"
      ]
     },
     "metadata": {},
     "output_type": "display_data"
    },
    {
     "data": {
      "application/vnd.jupyter.widget-view+json": {
       "model_id": "",
       "version_major": 2,
       "version_minor": 0
      },
      "text/plain": [
       "  0%|          | 0/4001 [00:00<?, ?it/s]"
      ]
     },
     "metadata": {},
     "output_type": "display_data"
    },
    {
     "data": {
      "application/vnd.jupyter.widget-view+json": {
       "model_id": "",
       "version_major": 2,
       "version_minor": 0
      },
      "text/plain": [
       "  0%|          | 0/4001 [00:00<?, ?it/s]"
      ]
     },
     "metadata": {},
     "output_type": "display_data"
    },
    {
     "data": {
      "application/vnd.jupyter.widget-view+json": {
       "model_id": "",
       "version_major": 2,
       "version_minor": 0
      },
      "text/plain": [
       "  0%|          | 0/4001 [00:00<?, ?it/s]"
      ]
     },
     "metadata": {},
     "output_type": "display_data"
    },
    {
     "data": {
      "application/vnd.jupyter.widget-view+json": {
       "model_id": "",
       "version_major": 2,
       "version_minor": 0
      },
      "text/plain": [
       "  0%|          | 0/4001 [00:00<?, ?it/s]"
      ]
     },
     "metadata": {},
     "output_type": "display_data"
    },
    {
     "data": {
      "application/vnd.jupyter.widget-view+json": {
       "model_id": "",
       "version_major": 2,
       "version_minor": 0
      },
      "text/plain": [
       "  0%|          | 0/4001 [00:00<?, ?it/s]"
      ]
     },
     "metadata": {},
     "output_type": "display_data"
    },
    {
     "data": {
      "application/vnd.jupyter.widget-view+json": {
       "model_id": "",
       "version_major": 2,
       "version_minor": 0
      },
      "text/plain": [
       "  0%|          | 0/4001 [00:00<?, ?it/s]"
      ]
     },
     "metadata": {},
     "output_type": "display_data"
    },
    {
     "data": {
      "application/vnd.jupyter.widget-view+json": {
       "model_id": "",
       "version_major": 2,
       "version_minor": 0
      },
      "text/plain": [
       "  0%|          | 0/4001 [00:00<?, ?it/s]"
      ]
     },
     "metadata": {},
     "output_type": "display_data"
    },
    {
     "data": {
      "application/vnd.jupyter.widget-view+json": {
       "model_id": "",
       "version_major": 2,
       "version_minor": 0
      },
      "text/plain": [
       "  0%|          | 0/4001 [00:00<?, ?it/s]"
      ]
     },
     "metadata": {},
     "output_type": "display_data"
    },
    {
     "data": {
      "application/vnd.jupyter.widget-view+json": {
       "model_id": "",
       "version_major": 2,
       "version_minor": 0
      },
      "text/plain": [
       "  0%|          | 0/4001 [00:00<?, ?it/s]"
      ]
     },
     "metadata": {},
     "output_type": "display_data"
    },
    {
     "data": {
      "application/vnd.jupyter.widget-view+json": {
       "model_id": "",
       "version_major": 2,
       "version_minor": 0
      },
      "text/plain": [
       "  0%|          | 0/4001 [00:00<?, ?it/s]"
      ]
     },
     "metadata": {},
     "output_type": "display_data"
    },
    {
     "data": {
      "application/vnd.jupyter.widget-view+json": {
       "model_id": "",
       "version_major": 2,
       "version_minor": 0
      },
      "text/plain": [
       "  0%|          | 0/4001 [00:00<?, ?it/s]"
      ]
     },
     "metadata": {},
     "output_type": "display_data"
    },
    {
     "data": {
      "application/vnd.jupyter.widget-view+json": {
       "model_id": "",
       "version_major": 2,
       "version_minor": 0
      },
      "text/plain": [
       "  0%|          | 0/4001 [00:00<?, ?it/s]"
      ]
     },
     "metadata": {},
     "output_type": "display_data"
    },
    {
     "data": {
      "application/vnd.jupyter.widget-view+json": {
       "model_id": "",
       "version_major": 2,
       "version_minor": 0
      },
      "text/plain": [
       "  0%|          | 0/4001 [00:00<?, ?it/s]"
      ]
     },
     "metadata": {},
     "output_type": "display_data"
    },
    {
     "data": {
      "application/vnd.jupyter.widget-view+json": {
       "model_id": "",
       "version_major": 2,
       "version_minor": 0
      },
      "text/plain": [
       "  0%|          | 0/4001 [00:00<?, ?it/s]"
      ]
     },
     "metadata": {},
     "output_type": "display_data"
    },
    {
     "data": {
      "application/vnd.jupyter.widget-view+json": {
       "model_id": "",
       "version_major": 2,
       "version_minor": 0
      },
      "text/plain": [
       "  0%|          | 0/4001 [00:00<?, ?it/s]"
      ]
     },
     "metadata": {},
     "output_type": "display_data"
    },
    {
     "data": {
      "application/vnd.jupyter.widget-view+json": {
       "model_id": "",
       "version_major": 2,
       "version_minor": 0
      },
      "text/plain": [
       "  0%|          | 0/4001 [00:00<?, ?it/s]"
      ]
     },
     "metadata": {},
     "output_type": "display_data"
    },
    {
     "data": {
      "application/vnd.jupyter.widget-view+json": {
       "model_id": "",
       "version_major": 2,
       "version_minor": 0
      },
      "text/plain": [
       "  0%|          | 0/4001 [00:00<?, ?it/s]"
      ]
     },
     "metadata": {},
     "output_type": "display_data"
    },
    {
     "data": {
      "application/vnd.jupyter.widget-view+json": {
       "model_id": "",
       "version_major": 2,
       "version_minor": 0
      },
      "text/plain": [
       "  0%|          | 0/4001 [00:00<?, ?it/s]"
      ]
     },
     "metadata": {},
     "output_type": "display_data"
    },
    {
     "data": {
      "application/vnd.jupyter.widget-view+json": {
       "model_id": "",
       "version_major": 2,
       "version_minor": 0
      },
      "text/plain": [
       "  0%|          | 0/4001 [00:00<?, ?it/s]"
      ]
     },
     "metadata": {},
     "output_type": "display_data"
    },
    {
     "data": {
      "application/vnd.jupyter.widget-view+json": {
       "model_id": "",
       "version_major": 2,
       "version_minor": 0
      },
      "text/plain": [
       "  0%|          | 0/4001 [00:00<?, ?it/s]"
      ]
     },
     "metadata": {},
     "output_type": "display_data"
    },
    {
     "data": {
      "application/vnd.jupyter.widget-view+json": {
       "model_id": "",
       "version_major": 2,
       "version_minor": 0
      },
      "text/plain": [
       "  0%|          | 0/4001 [00:00<?, ?it/s]"
      ]
     },
     "metadata": {},
     "output_type": "display_data"
    },
    {
     "data": {
      "application/vnd.jupyter.widget-view+json": {
       "model_id": "",
       "version_major": 2,
       "version_minor": 0
      },
      "text/plain": [
       "  0%|          | 0/4001 [00:00<?, ?it/s]"
      ]
     },
     "metadata": {},
     "output_type": "display_data"
    },
    {
     "data": {
      "application/vnd.jupyter.widget-view+json": {
       "model_id": "",
       "version_major": 2,
       "version_minor": 0
      },
      "text/plain": [
       "  0%|          | 0/4001 [00:00<?, ?it/s]"
      ]
     },
     "metadata": {},
     "output_type": "display_data"
    },
    {
     "data": {
      "application/vnd.jupyter.widget-view+json": {
       "model_id": "",
       "version_major": 2,
       "version_minor": 0
      },
      "text/plain": [
       "  0%|          | 0/4001 [00:00<?, ?it/s]"
      ]
     },
     "metadata": {},
     "output_type": "display_data"
    },
    {
     "data": {
      "application/vnd.jupyter.widget-view+json": {
       "model_id": "",
       "version_major": 2,
       "version_minor": 0
      },
      "text/plain": [
       "  0%|          | 0/4001 [00:00<?, ?it/s]"
      ]
     },
     "metadata": {},
     "output_type": "display_data"
    },
    {
     "data": {
      "application/vnd.jupyter.widget-view+json": {
       "model_id": "",
       "version_major": 2,
       "version_minor": 0
      },
      "text/plain": [
       "  0%|          | 0/4001 [00:00<?, ?it/s]"
      ]
     },
     "metadata": {},
     "output_type": "display_data"
    },
    {
     "data": {
      "application/vnd.jupyter.widget-view+json": {
       "model_id": "",
       "version_major": 2,
       "version_minor": 0
      },
      "text/plain": [
       "  0%|          | 0/4001 [00:00<?, ?it/s]"
      ]
     },
     "metadata": {},
     "output_type": "display_data"
    },
    {
     "data": {
      "application/vnd.jupyter.widget-view+json": {
       "model_id": "",
       "version_major": 2,
       "version_minor": 0
      },
      "text/plain": [
       "  0%|          | 0/4001 [00:00<?, ?it/s]"
      ]
     },
     "metadata": {},
     "output_type": "display_data"
    },
    {
     "data": {
      "application/vnd.jupyter.widget-view+json": {
       "model_id": "",
       "version_major": 2,
       "version_minor": 0
      },
      "text/plain": [
       "  0%|          | 0/4001 [00:00<?, ?it/s]"
      ]
     },
     "metadata": {},
     "output_type": "display_data"
    },
    {
     "data": {
      "application/vnd.jupyter.widget-view+json": {
       "model_id": "",
       "version_major": 2,
       "version_minor": 0
      },
      "text/plain": [
       "  0%|          | 0/4001 [00:00<?, ?it/s]"
      ]
     },
     "metadata": {},
     "output_type": "display_data"
    },
    {
     "data": {
      "application/vnd.jupyter.widget-view+json": {
       "model_id": "",
       "version_major": 2,
       "version_minor": 0
      },
      "text/plain": [
       "  0%|          | 0/4001 [00:00<?, ?it/s]"
      ]
     },
     "metadata": {},
     "output_type": "display_data"
    },
    {
     "data": {
      "application/vnd.jupyter.widget-view+json": {
       "model_id": "",
       "version_major": 2,
       "version_minor": 0
      },
      "text/plain": [
       "  0%|          | 0/4001 [00:00<?, ?it/s]"
      ]
     },
     "metadata": {},
     "output_type": "display_data"
    },
    {
     "data": {
      "application/vnd.jupyter.widget-view+json": {
       "model_id": "",
       "version_major": 2,
       "version_minor": 0
      },
      "text/plain": [
       "  0%|          | 0/4001 [00:00<?, ?it/s]"
      ]
     },
     "metadata": {},
     "output_type": "display_data"
    },
    {
     "data": {
      "application/vnd.jupyter.widget-view+json": {
       "model_id": "",
       "version_major": 2,
       "version_minor": 0
      },
      "text/plain": [
       "  0%|          | 0/4001 [00:00<?, ?it/s]"
      ]
     },
     "metadata": {},
     "output_type": "display_data"
    },
    {
     "data": {
      "application/vnd.jupyter.widget-view+json": {
       "model_id": "",
       "version_major": 2,
       "version_minor": 0
      },
      "text/plain": [
       "  0%|          | 0/4001 [00:00<?, ?it/s]"
      ]
     },
     "metadata": {},
     "output_type": "display_data"
    },
    {
     "data": {
      "application/vnd.jupyter.widget-view+json": {
       "model_id": "",
       "version_major": 2,
       "version_minor": 0
      },
      "text/plain": [
       "  0%|          | 0/4001 [00:00<?, ?it/s]"
      ]
     },
     "metadata": {},
     "output_type": "display_data"
    },
    {
     "data": {
      "application/vnd.jupyter.widget-view+json": {
       "model_id": "",
       "version_major": 2,
       "version_minor": 0
      },
      "text/plain": [
       "  0%|          | 0/4001 [00:00<?, ?it/s]"
      ]
     },
     "metadata": {},
     "output_type": "display_data"
    },
    {
     "data": {
      "application/vnd.jupyter.widget-view+json": {
       "model_id": "",
       "version_major": 2,
       "version_minor": 0
      },
      "text/plain": [
       "  0%|          | 0/4001 [00:00<?, ?it/s]"
      ]
     },
     "metadata": {},
     "output_type": "display_data"
    },
    {
     "data": {
      "application/vnd.jupyter.widget-view+json": {
       "model_id": "",
       "version_major": 2,
       "version_minor": 0
      },
      "text/plain": [
       "  0%|          | 0/4001 [00:00<?, ?it/s]"
      ]
     },
     "metadata": {},
     "output_type": "display_data"
    },
    {
     "data": {
      "application/vnd.jupyter.widget-view+json": {
       "model_id": "",
       "version_major": 2,
       "version_minor": 0
      },
      "text/plain": [
       "  0%|          | 0/4001 [00:00<?, ?it/s]"
      ]
     },
     "metadata": {},
     "output_type": "display_data"
    },
    {
     "data": {
      "application/vnd.jupyter.widget-view+json": {
       "model_id": "",
       "version_major": 2,
       "version_minor": 0
      },
      "text/plain": [
       "  0%|          | 0/4001 [00:00<?, ?it/s]"
      ]
     },
     "metadata": {},
     "output_type": "display_data"
    },
    {
     "data": {
      "application/vnd.jupyter.widget-view+json": {
       "model_id": "",
       "version_major": 2,
       "version_minor": 0
      },
      "text/plain": [
       "  0%|          | 0/4001 [00:00<?, ?it/s]"
      ]
     },
     "metadata": {},
     "output_type": "display_data"
    },
    {
     "data": {
      "application/vnd.jupyter.widget-view+json": {
       "model_id": "",
       "version_major": 2,
       "version_minor": 0
      },
      "text/plain": [
       "  0%|          | 0/4001 [00:00<?, ?it/s]"
      ]
     },
     "metadata": {},
     "output_type": "display_data"
    },
    {
     "data": {
      "application/vnd.jupyter.widget-view+json": {
       "model_id": "",
       "version_major": 2,
       "version_minor": 0
      },
      "text/plain": [
       "  0%|          | 0/4001 [00:00<?, ?it/s]"
      ]
     },
     "metadata": {},
     "output_type": "display_data"
    },
    {
     "data": {
      "application/vnd.jupyter.widget-view+json": {
       "model_id": "",
       "version_major": 2,
       "version_minor": 0
      },
      "text/plain": [
       "  0%|          | 0/4001 [00:00<?, ?it/s]"
      ]
     },
     "metadata": {},
     "output_type": "display_data"
    },
    {
     "data": {
      "application/vnd.jupyter.widget-view+json": {
       "model_id": "",
       "version_major": 2,
       "version_minor": 0
      },
      "text/plain": [
       "  0%|          | 0/4001 [00:00<?, ?it/s]"
      ]
     },
     "metadata": {},
     "output_type": "display_data"
    },
    {
     "data": {
      "application/vnd.jupyter.widget-view+json": {
       "model_id": "",
       "version_major": 2,
       "version_minor": 0
      },
      "text/plain": [
       "  0%|          | 0/4001 [00:00<?, ?it/s]"
      ]
     },
     "metadata": {},
     "output_type": "display_data"
    },
    {
     "data": {
      "application/vnd.jupyter.widget-view+json": {
       "model_id": "",
       "version_major": 2,
       "version_minor": 0
      },
      "text/plain": [
       "  0%|          | 0/4001 [00:00<?, ?it/s]"
      ]
     },
     "metadata": {},
     "output_type": "display_data"
    },
    {
     "data": {
      "application/vnd.jupyter.widget-view+json": {
       "model_id": "",
       "version_major": 2,
       "version_minor": 0
      },
      "text/plain": [
       "  0%|          | 0/4001 [00:00<?, ?it/s]"
      ]
     },
     "metadata": {},
     "output_type": "display_data"
    },
    {
     "data": {
      "application/vnd.jupyter.widget-view+json": {
       "model_id": "",
       "version_major": 2,
       "version_minor": 0
      },
      "text/plain": [
       "  0%|          | 0/4001 [00:00<?, ?it/s]"
      ]
     },
     "metadata": {},
     "output_type": "display_data"
    },
    {
     "data": {
      "application/vnd.jupyter.widget-view+json": {
       "model_id": "",
       "version_major": 2,
       "version_minor": 0
      },
      "text/plain": [
       "  0%|          | 0/4001 [00:00<?, ?it/s]"
      ]
     },
     "metadata": {},
     "output_type": "display_data"
    },
    {
     "data": {
      "application/vnd.jupyter.widget-view+json": {
       "model_id": "",
       "version_major": 2,
       "version_minor": 0
      },
      "text/plain": [
       "  0%|          | 0/4001 [00:00<?, ?it/s]"
      ]
     },
     "metadata": {},
     "output_type": "display_data"
    },
    {
     "data": {
      "application/vnd.jupyter.widget-view+json": {
       "model_id": "",
       "version_major": 2,
       "version_minor": 0
      },
      "text/plain": [
       "  0%|          | 0/4001 [00:00<?, ?it/s]"
      ]
     },
     "metadata": {},
     "output_type": "display_data"
    },
    {
     "data": {
      "application/vnd.jupyter.widget-view+json": {
       "model_id": "",
       "version_major": 2,
       "version_minor": 0
      },
      "text/plain": [
       "  0%|          | 0/4001 [00:00<?, ?it/s]"
      ]
     },
     "metadata": {},
     "output_type": "display_data"
    },
    {
     "data": {
      "application/vnd.jupyter.widget-view+json": {
       "model_id": "",
       "version_major": 2,
       "version_minor": 0
      },
      "text/plain": [
       "  0%|          | 0/4001 [00:00<?, ?it/s]"
      ]
     },
     "metadata": {},
     "output_type": "display_data"
    },
    {
     "data": {
      "application/vnd.jupyter.widget-view+json": {
       "model_id": "",
       "version_major": 2,
       "version_minor": 0
      },
      "text/plain": [
       "  0%|          | 0/4001 [00:00<?, ?it/s]"
      ]
     },
     "metadata": {},
     "output_type": "display_data"
    },
    {
     "data": {
      "application/vnd.jupyter.widget-view+json": {
       "model_id": "",
       "version_major": 2,
       "version_minor": 0
      },
      "text/plain": [
       "  0%|          | 0/4001 [00:00<?, ?it/s]"
      ]
     },
     "metadata": {},
     "output_type": "display_data"
    },
    {
     "data": {
      "application/vnd.jupyter.widget-view+json": {
       "model_id": "",
       "version_major": 2,
       "version_minor": 0
      },
      "text/plain": [
       "  0%|          | 0/4001 [00:00<?, ?it/s]"
      ]
     },
     "metadata": {},
     "output_type": "display_data"
    },
    {
     "data": {
      "application/vnd.jupyter.widget-view+json": {
       "model_id": "",
       "version_major": 2,
       "version_minor": 0
      },
      "text/plain": [
       "  0%|          | 0/4001 [00:00<?, ?it/s]"
      ]
     },
     "metadata": {},
     "output_type": "display_data"
    },
    {
     "data": {
      "application/vnd.jupyter.widget-view+json": {
       "model_id": "",
       "version_major": 2,
       "version_minor": 0
      },
      "text/plain": [
       "  0%|          | 0/4001 [00:00<?, ?it/s]"
      ]
     },
     "metadata": {},
     "output_type": "display_data"
    },
    {
     "data": {
      "application/vnd.jupyter.widget-view+json": {
       "model_id": "",
       "version_major": 2,
       "version_minor": 0
      },
      "text/plain": [
       "  0%|          | 0/4001 [00:00<?, ?it/s]"
      ]
     },
     "metadata": {},
     "output_type": "display_data"
    },
    {
     "data": {
      "application/vnd.jupyter.widget-view+json": {
       "model_id": "",
       "version_major": 2,
       "version_minor": 0
      },
      "text/plain": [
       "  0%|          | 0/4001 [00:00<?, ?it/s]"
      ]
     },
     "metadata": {},
     "output_type": "display_data"
    },
    {
     "data": {
      "application/vnd.jupyter.widget-view+json": {
       "model_id": "",
       "version_major": 2,
       "version_minor": 0
      },
      "text/plain": [
       "  0%|          | 0/4001 [00:00<?, ?it/s]"
      ]
     },
     "metadata": {},
     "output_type": "display_data"
    },
    {
     "data": {
      "application/vnd.jupyter.widget-view+json": {
       "model_id": "",
       "version_major": 2,
       "version_minor": 0
      },
      "text/plain": [
       "  0%|          | 0/4001 [00:00<?, ?it/s]"
      ]
     },
     "metadata": {},
     "output_type": "display_data"
    },
    {
     "data": {
      "application/vnd.jupyter.widget-view+json": {
       "model_id": "",
       "version_major": 2,
       "version_minor": 0
      },
      "text/plain": [
       "  0%|          | 0/4001 [00:00<?, ?it/s]"
      ]
     },
     "metadata": {},
     "output_type": "display_data"
    },
    {
     "data": {
      "application/vnd.jupyter.widget-view+json": {
       "model_id": "",
       "version_major": 2,
       "version_minor": 0
      },
      "text/plain": [
       "  0%|          | 0/4001 [00:00<?, ?it/s]"
      ]
     },
     "metadata": {},
     "output_type": "display_data"
    },
    {
     "data": {
      "application/vnd.jupyter.widget-view+json": {
       "model_id": "",
       "version_major": 2,
       "version_minor": 0
      },
      "text/plain": [
       "  0%|          | 0/4001 [00:00<?, ?it/s]"
      ]
     },
     "metadata": {},
     "output_type": "display_data"
    },
    {
     "data": {
      "application/vnd.jupyter.widget-view+json": {
       "model_id": "",
       "version_major": 2,
       "version_minor": 0
      },
      "text/plain": [
       "  0%|          | 0/4001 [00:00<?, ?it/s]"
      ]
     },
     "metadata": {},
     "output_type": "display_data"
    },
    {
     "data": {
      "application/vnd.jupyter.widget-view+json": {
       "model_id": "",
       "version_major": 2,
       "version_minor": 0
      },
      "text/plain": [
       "  0%|          | 0/4001 [00:00<?, ?it/s]"
      ]
     },
     "metadata": {},
     "output_type": "display_data"
    },
    {
     "data": {
      "application/vnd.jupyter.widget-view+json": {
       "model_id": "",
       "version_major": 2,
       "version_minor": 0
      },
      "text/plain": [
       "  0%|          | 0/4001 [00:00<?, ?it/s]"
      ]
     },
     "metadata": {},
     "output_type": "display_data"
    },
    {
     "data": {
      "application/vnd.jupyter.widget-view+json": {
       "model_id": "",
       "version_major": 2,
       "version_minor": 0
      },
      "text/plain": [
       "  0%|          | 0/4001 [00:00<?, ?it/s]"
      ]
     },
     "metadata": {},
     "output_type": "display_data"
    },
    {
     "data": {
      "application/vnd.jupyter.widget-view+json": {
       "model_id": "",
       "version_major": 2,
       "version_minor": 0
      },
      "text/plain": [
       "  0%|          | 0/4001 [00:00<?, ?it/s]"
      ]
     },
     "metadata": {},
     "output_type": "display_data"
    },
    {
     "data": {
      "application/vnd.jupyter.widget-view+json": {
       "model_id": "",
       "version_major": 2,
       "version_minor": 0
      },
      "text/plain": [
       "  0%|          | 0/4001 [00:00<?, ?it/s]"
      ]
     },
     "metadata": {},
     "output_type": "display_data"
    },
    {
     "data": {
      "application/vnd.jupyter.widget-view+json": {
       "model_id": "",
       "version_major": 2,
       "version_minor": 0
      },
      "text/plain": [
       "  0%|          | 0/4001 [00:00<?, ?it/s]"
      ]
     },
     "metadata": {},
     "output_type": "display_data"
    },
    {
     "data": {
      "application/vnd.jupyter.widget-view+json": {
       "model_id": "",
       "version_major": 2,
       "version_minor": 0
      },
      "text/plain": [
       "  0%|          | 0/4001 [00:00<?, ?it/s]"
      ]
     },
     "metadata": {},
     "output_type": "display_data"
    },
    {
     "data": {
      "application/vnd.jupyter.widget-view+json": {
       "model_id": "",
       "version_major": 2,
       "version_minor": 0
      },
      "text/plain": [
       "  0%|          | 0/4001 [00:00<?, ?it/s]"
      ]
     },
     "metadata": {},
     "output_type": "display_data"
    },
    {
     "data": {
      "application/vnd.jupyter.widget-view+json": {
       "model_id": "",
       "version_major": 2,
       "version_minor": 0
      },
      "text/plain": [
       "  0%|          | 0/4001 [00:00<?, ?it/s]"
      ]
     },
     "metadata": {},
     "output_type": "display_data"
    },
    {
     "data": {
      "application/vnd.jupyter.widget-view+json": {
       "model_id": "",
       "version_major": 2,
       "version_minor": 0
      },
      "text/plain": [
       "  0%|          | 0/4001 [00:00<?, ?it/s]"
      ]
     },
     "metadata": {},
     "output_type": "display_data"
    },
    {
     "data": {
      "application/vnd.jupyter.widget-view+json": {
       "model_id": "",
       "version_major": 2,
       "version_minor": 0
      },
      "text/plain": [
       "  0%|          | 0/4001 [00:00<?, ?it/s]"
      ]
     },
     "metadata": {},
     "output_type": "display_data"
    },
    {
     "data": {
      "application/vnd.jupyter.widget-view+json": {
       "model_id": "",
       "version_major": 2,
       "version_minor": 0
      },
      "text/plain": [
       "  0%|          | 0/4001 [00:00<?, ?it/s]"
      ]
     },
     "metadata": {},
     "output_type": "display_data"
    },
    {
     "data": {
      "application/vnd.jupyter.widget-view+json": {
       "model_id": "",
       "version_major": 2,
       "version_minor": 0
      },
      "text/plain": [
       "  0%|          | 0/4001 [00:00<?, ?it/s]"
      ]
     },
     "metadata": {},
     "output_type": "display_data"
    },
    {
     "data": {
      "application/vnd.jupyter.widget-view+json": {
       "model_id": "",
       "version_major": 2,
       "version_minor": 0
      },
      "text/plain": [
       "  0%|          | 0/4001 [00:00<?, ?it/s]"
      ]
     },
     "metadata": {},
     "output_type": "display_data"
    },
    {
     "data": {
      "application/vnd.jupyter.widget-view+json": {
       "model_id": "",
       "version_major": 2,
       "version_minor": 0
      },
      "text/plain": [
       "  0%|          | 0/4001 [00:00<?, ?it/s]"
      ]
     },
     "metadata": {},
     "output_type": "display_data"
    },
    {
     "data": {
      "application/vnd.jupyter.widget-view+json": {
       "model_id": "",
       "version_major": 2,
       "version_minor": 0
      },
      "text/plain": [
       "  0%|          | 0/4001 [00:00<?, ?it/s]"
      ]
     },
     "metadata": {},
     "output_type": "display_data"
    },
    {
     "data": {
      "application/vnd.jupyter.widget-view+json": {
       "model_id": "",
       "version_major": 2,
       "version_minor": 0
      },
      "text/plain": [
       "  0%|          | 0/4001 [00:00<?, ?it/s]"
      ]
     },
     "metadata": {},
     "output_type": "display_data"
    },
    {
     "data": {
      "application/vnd.jupyter.widget-view+json": {
       "model_id": "",
       "version_major": 2,
       "version_minor": 0
      },
      "text/plain": [
       "  0%|          | 0/4001 [00:00<?, ?it/s]"
      ]
     },
     "metadata": {},
     "output_type": "display_data"
    },
    {
     "data": {
      "application/vnd.jupyter.widget-view+json": {
       "model_id": "",
       "version_major": 2,
       "version_minor": 0
      },
      "text/plain": [
       "  0%|          | 0/4001 [00:00<?, ?it/s]"
      ]
     },
     "metadata": {},
     "output_type": "display_data"
    },
    {
     "data": {
      "application/vnd.jupyter.widget-view+json": {
       "model_id": "",
       "version_major": 2,
       "version_minor": 0
      },
      "text/plain": [
       "  0%|          | 0/4001 [00:00<?, ?it/s]"
      ]
     },
     "metadata": {},
     "output_type": "display_data"
    },
    {
     "data": {
      "application/vnd.jupyter.widget-view+json": {
       "model_id": "",
       "version_major": 2,
       "version_minor": 0
      },
      "text/plain": [
       "  0%|          | 0/4001 [00:00<?, ?it/s]"
      ]
     },
     "metadata": {},
     "output_type": "display_data"
    },
    {
     "data": {
      "application/vnd.jupyter.widget-view+json": {
       "model_id": "",
       "version_major": 2,
       "version_minor": 0
      },
      "text/plain": [
       "  0%|          | 0/4001 [00:00<?, ?it/s]"
      ]
     },
     "metadata": {},
     "output_type": "display_data"
    },
    {
     "data": {
      "application/vnd.jupyter.widget-view+json": {
       "model_id": "",
       "version_major": 2,
       "version_minor": 0
      },
      "text/plain": [
       "  0%|          | 0/4001 [00:00<?, ?it/s]"
      ]
     },
     "metadata": {},
     "output_type": "display_data"
    },
    {
     "data": {
      "application/vnd.jupyter.widget-view+json": {
       "model_id": "",
       "version_major": 2,
       "version_minor": 0
      },
      "text/plain": [
       "  0%|          | 0/4001 [00:00<?, ?it/s]"
      ]
     },
     "metadata": {},
     "output_type": "display_data"
    },
    {
     "data": {
      "application/vnd.jupyter.widget-view+json": {
       "model_id": "",
       "version_major": 2,
       "version_minor": 0
      },
      "text/plain": [
       "  0%|          | 0/4001 [00:00<?, ?it/s]"
      ]
     },
     "metadata": {},
     "output_type": "display_data"
    },
    {
     "data": {
      "application/vnd.jupyter.widget-view+json": {
       "model_id": "",
       "version_major": 2,
       "version_minor": 0
      },
      "text/plain": [
       "  0%|          | 0/4001 [00:00<?, ?it/s]"
      ]
     },
     "metadata": {},
     "output_type": "display_data"
    },
    {
     "data": {
      "application/vnd.jupyter.widget-view+json": {
       "model_id": "",
       "version_major": 2,
       "version_minor": 0
      },
      "text/plain": [
       "  0%|          | 0/4001 [00:00<?, ?it/s]"
      ]
     },
     "metadata": {},
     "output_type": "display_data"
    },
    {
     "data": {
      "application/vnd.jupyter.widget-view+json": {
       "model_id": "",
       "version_major": 2,
       "version_minor": 0
      },
      "text/plain": [
       "  0%|          | 0/4001 [00:00<?, ?it/s]"
      ]
     },
     "metadata": {},
     "output_type": "display_data"
    },
    {
     "data": {
      "application/vnd.jupyter.widget-view+json": {
       "model_id": "",
       "version_major": 2,
       "version_minor": 0
      },
      "text/plain": [
       "  0%|          | 0/4001 [00:00<?, ?it/s]"
      ]
     },
     "metadata": {},
     "output_type": "display_data"
    },
    {
     "data": {
      "application/vnd.jupyter.widget-view+json": {
       "model_id": "",
       "version_major": 2,
       "version_minor": 0
      },
      "text/plain": [
       "  0%|          | 0/4001 [00:00<?, ?it/s]"
      ]
     },
     "metadata": {},
     "output_type": "display_data"
    },
    {
     "data": {
      "application/vnd.jupyter.widget-view+json": {
       "model_id": "",
       "version_major": 2,
       "version_minor": 0
      },
      "text/plain": [
       "  0%|          | 0/4001 [00:00<?, ?it/s]"
      ]
     },
     "metadata": {},
     "output_type": "display_data"
    },
    {
     "data": {
      "application/vnd.jupyter.widget-view+json": {
       "model_id": "",
       "version_major": 2,
       "version_minor": 0
      },
      "text/plain": [
       "  0%|          | 0/4001 [00:00<?, ?it/s]"
      ]
     },
     "metadata": {},
     "output_type": "display_data"
    },
    {
     "data": {
      "application/vnd.jupyter.widget-view+json": {
       "model_id": "",
       "version_major": 2,
       "version_minor": 0
      },
      "text/plain": [
       "  0%|          | 0/4001 [00:00<?, ?it/s]"
      ]
     },
     "metadata": {},
     "output_type": "display_data"
    },
    {
     "data": {
      "application/vnd.jupyter.widget-view+json": {
       "model_id": "",
       "version_major": 2,
       "version_minor": 0
      },
      "text/plain": [
       "  0%|          | 0/4001 [00:00<?, ?it/s]"
      ]
     },
     "metadata": {},
     "output_type": "display_data"
    },
    {
     "data": {
      "application/vnd.jupyter.widget-view+json": {
       "model_id": "",
       "version_major": 2,
       "version_minor": 0
      },
      "text/plain": [
       "  0%|          | 0/4001 [00:00<?, ?it/s]"
      ]
     },
     "metadata": {},
     "output_type": "display_data"
    },
    {
     "data": {
      "application/vnd.jupyter.widget-view+json": {
       "model_id": "",
       "version_major": 2,
       "version_minor": 0
      },
      "text/plain": [
       "  0%|          | 0/4001 [00:00<?, ?it/s]"
      ]
     },
     "metadata": {},
     "output_type": "display_data"
    },
    {
     "data": {
      "application/vnd.jupyter.widget-view+json": {
       "model_id": "",
       "version_major": 2,
       "version_minor": 0
      },
      "text/plain": [
       "  0%|          | 0/4001 [00:00<?, ?it/s]"
      ]
     },
     "metadata": {},
     "output_type": "display_data"
    },
    {
     "data": {
      "application/vnd.jupyter.widget-view+json": {
       "model_id": "",
       "version_major": 2,
       "version_minor": 0
      },
      "text/plain": [
       "  0%|          | 0/4001 [00:00<?, ?it/s]"
      ]
     },
     "metadata": {},
     "output_type": "display_data"
    },
    {
     "data": {
      "application/vnd.jupyter.widget-view+json": {
       "model_id": "",
       "version_major": 2,
       "version_minor": 0
      },
      "text/plain": [
       "  0%|          | 0/4001 [00:00<?, ?it/s]"
      ]
     },
     "metadata": {},
     "output_type": "display_data"
    },
    {
     "data": {
      "application/vnd.jupyter.widget-view+json": {
       "model_id": "",
       "version_major": 2,
       "version_minor": 0
      },
      "text/plain": [
       "  0%|          | 0/4001 [00:00<?, ?it/s]"
      ]
     },
     "metadata": {},
     "output_type": "display_data"
    },
    {
     "data": {
      "application/vnd.jupyter.widget-view+json": {
       "model_id": "",
       "version_major": 2,
       "version_minor": 0
      },
      "text/plain": [
       "  0%|          | 0/4001 [00:00<?, ?it/s]"
      ]
     },
     "metadata": {},
     "output_type": "display_data"
    },
    {
     "data": {
      "application/vnd.jupyter.widget-view+json": {
       "model_id": "",
       "version_major": 2,
       "version_minor": 0
      },
      "text/plain": [
       "  0%|          | 0/4001 [00:00<?, ?it/s]"
      ]
     },
     "metadata": {},
     "output_type": "display_data"
    },
    {
     "data": {
      "application/vnd.jupyter.widget-view+json": {
       "model_id": "",
       "version_major": 2,
       "version_minor": 0
      },
      "text/plain": [
       "  0%|          | 0/4001 [00:00<?, ?it/s]"
      ]
     },
     "metadata": {},
     "output_type": "display_data"
    },
    {
     "data": {
      "application/vnd.jupyter.widget-view+json": {
       "model_id": "",
       "version_major": 2,
       "version_minor": 0
      },
      "text/plain": [
       "  0%|          | 0/4001 [00:00<?, ?it/s]"
      ]
     },
     "metadata": {},
     "output_type": "display_data"
    },
    {
     "data": {
      "application/vnd.jupyter.widget-view+json": {
       "model_id": "",
       "version_major": 2,
       "version_minor": 0
      },
      "text/plain": [
       "  0%|          | 0/4001 [00:00<?, ?it/s]"
      ]
     },
     "metadata": {},
     "output_type": "display_data"
    },
    {
     "data": {
      "application/vnd.jupyter.widget-view+json": {
       "model_id": "",
       "version_major": 2,
       "version_minor": 0
      },
      "text/plain": [
       "  0%|          | 0/4001 [00:00<?, ?it/s]"
      ]
     },
     "metadata": {},
     "output_type": "display_data"
    },
    {
     "data": {
      "application/vnd.jupyter.widget-view+json": {
       "model_id": "",
       "version_major": 2,
       "version_minor": 0
      },
      "text/plain": [
       "  0%|          | 0/4001 [00:00<?, ?it/s]"
      ]
     },
     "metadata": {},
     "output_type": "display_data"
    },
    {
     "data": {
      "application/vnd.jupyter.widget-view+json": {
       "model_id": "",
       "version_major": 2,
       "version_minor": 0
      },
      "text/plain": [
       "  0%|          | 0/4001 [00:00<?, ?it/s]"
      ]
     },
     "metadata": {},
     "output_type": "display_data"
    },
    {
     "data": {
      "application/vnd.jupyter.widget-view+json": {
       "model_id": "",
       "version_major": 2,
       "version_minor": 0
      },
      "text/plain": [
       "  0%|          | 0/4001 [00:00<?, ?it/s]"
      ]
     },
     "metadata": {},
     "output_type": "display_data"
    },
    {
     "data": {
      "application/vnd.jupyter.widget-view+json": {
       "model_id": "",
       "version_major": 2,
       "version_minor": 0
      },
      "text/plain": [
       "  0%|          | 0/4001 [00:00<?, ?it/s]"
      ]
     },
     "metadata": {},
     "output_type": "display_data"
    },
    {
     "data": {
      "application/vnd.jupyter.widget-view+json": {
       "model_id": "",
       "version_major": 2,
       "version_minor": 0
      },
      "text/plain": [
       "  0%|          | 0/4001 [00:00<?, ?it/s]"
      ]
     },
     "metadata": {},
     "output_type": "display_data"
    },
    {
     "data": {
      "application/vnd.jupyter.widget-view+json": {
       "model_id": "",
       "version_major": 2,
       "version_minor": 0
      },
      "text/plain": [
       "  0%|          | 0/4001 [00:00<?, ?it/s]"
      ]
     },
     "metadata": {},
     "output_type": "display_data"
    },
    {
     "data": {
      "application/vnd.jupyter.widget-view+json": {
       "model_id": "",
       "version_major": 2,
       "version_minor": 0
      },
      "text/plain": [
       "  0%|          | 0/4001 [00:00<?, ?it/s]"
      ]
     },
     "metadata": {},
     "output_type": "display_data"
    },
    {
     "data": {
      "application/vnd.jupyter.widget-view+json": {
       "model_id": "",
       "version_major": 2,
       "version_minor": 0
      },
      "text/plain": [
       "  0%|          | 0/4001 [00:00<?, ?it/s]"
      ]
     },
     "metadata": {},
     "output_type": "display_data"
    },
    {
     "data": {
      "application/vnd.jupyter.widget-view+json": {
       "model_id": "",
       "version_major": 2,
       "version_minor": 0
      },
      "text/plain": [
       "  0%|          | 0/4001 [00:00<?, ?it/s]"
      ]
     },
     "metadata": {},
     "output_type": "display_data"
    },
    {
     "data": {
      "application/vnd.jupyter.widget-view+json": {
       "model_id": "",
       "version_major": 2,
       "version_minor": 0
      },
      "text/plain": [
       "  0%|          | 0/4001 [00:00<?, ?it/s]"
      ]
     },
     "metadata": {},
     "output_type": "display_data"
    },
    {
     "data": {
      "application/vnd.jupyter.widget-view+json": {
       "model_id": "",
       "version_major": 2,
       "version_minor": 0
      },
      "text/plain": [
       "  0%|          | 0/4001 [00:00<?, ?it/s]"
      ]
     },
     "metadata": {},
     "output_type": "display_data"
    },
    {
     "data": {
      "application/vnd.jupyter.widget-view+json": {
       "model_id": "",
       "version_major": 2,
       "version_minor": 0
      },
      "text/plain": [
       "  0%|          | 0/4001 [00:00<?, ?it/s]"
      ]
     },
     "metadata": {},
     "output_type": "display_data"
    },
    {
     "data": {
      "application/vnd.jupyter.widget-view+json": {
       "model_id": "",
       "version_major": 2,
       "version_minor": 0
      },
      "text/plain": [
       "  0%|          | 0/4001 [00:00<?, ?it/s]"
      ]
     },
     "metadata": {},
     "output_type": "display_data"
    },
    {
     "data": {
      "application/vnd.jupyter.widget-view+json": {
       "model_id": "",
       "version_major": 2,
       "version_minor": 0
      },
      "text/plain": [
       "  0%|          | 0/4001 [00:00<?, ?it/s]"
      ]
     },
     "metadata": {},
     "output_type": "display_data"
    },
    {
     "data": {
      "application/vnd.jupyter.widget-view+json": {
       "model_id": "",
       "version_major": 2,
       "version_minor": 0
      },
      "text/plain": [
       "  0%|          | 0/4001 [00:00<?, ?it/s]"
      ]
     },
     "metadata": {},
     "output_type": "display_data"
    },
    {
     "data": {
      "application/vnd.jupyter.widget-view+json": {
       "model_id": "",
       "version_major": 2,
       "version_minor": 0
      },
      "text/plain": [
       "  0%|          | 0/4001 [00:00<?, ?it/s]"
      ]
     },
     "metadata": {},
     "output_type": "display_data"
    },
    {
     "data": {
      "application/vnd.jupyter.widget-view+json": {
       "model_id": "",
       "version_major": 2,
       "version_minor": 0
      },
      "text/plain": [
       "  0%|          | 0/4001 [00:00<?, ?it/s]"
      ]
     },
     "metadata": {},
     "output_type": "display_data"
    },
    {
     "data": {
      "application/vnd.jupyter.widget-view+json": {
       "model_id": "",
       "version_major": 2,
       "version_minor": 0
      },
      "text/plain": [
       "  0%|          | 0/4001 [00:00<?, ?it/s]"
      ]
     },
     "metadata": {},
     "output_type": "display_data"
    },
    {
     "data": {
      "application/vnd.jupyter.widget-view+json": {
       "model_id": "",
       "version_major": 2,
       "version_minor": 0
      },
      "text/plain": [
       "  0%|          | 0/4001 [00:00<?, ?it/s]"
      ]
     },
     "metadata": {},
     "output_type": "display_data"
    },
    {
     "data": {
      "application/vnd.jupyter.widget-view+json": {
       "model_id": "",
       "version_major": 2,
       "version_minor": 0
      },
      "text/plain": [
       "  0%|          | 0/4001 [00:00<?, ?it/s]"
      ]
     },
     "metadata": {},
     "output_type": "display_data"
    },
    {
     "data": {
      "application/vnd.jupyter.widget-view+json": {
       "model_id": "",
       "version_major": 2,
       "version_minor": 0
      },
      "text/plain": [
       "  0%|          | 0/4001 [00:00<?, ?it/s]"
      ]
     },
     "metadata": {},
     "output_type": "display_data"
    },
    {
     "data": {
      "application/vnd.jupyter.widget-view+json": {
       "model_id": "",
       "version_major": 2,
       "version_minor": 0
      },
      "text/plain": [
       "  0%|          | 0/4001 [00:00<?, ?it/s]"
      ]
     },
     "metadata": {},
     "output_type": "display_data"
    },
    {
     "data": {
      "application/vnd.jupyter.widget-view+json": {
       "model_id": "",
       "version_major": 2,
       "version_minor": 0
      },
      "text/plain": [
       "  0%|          | 0/4001 [00:00<?, ?it/s]"
      ]
     },
     "metadata": {},
     "output_type": "display_data"
    },
    {
     "data": {
      "application/vnd.jupyter.widget-view+json": {
       "model_id": "",
       "version_major": 2,
       "version_minor": 0
      },
      "text/plain": [
       "  0%|          | 0/4001 [00:00<?, ?it/s]"
      ]
     },
     "metadata": {},
     "output_type": "display_data"
    },
    {
     "data": {
      "application/vnd.jupyter.widget-view+json": {
       "model_id": "",
       "version_major": 2,
       "version_minor": 0
      },
      "text/plain": [
       "  0%|          | 0/4001 [00:00<?, ?it/s]"
      ]
     },
     "metadata": {},
     "output_type": "display_data"
    },
    {
     "data": {
      "application/vnd.jupyter.widget-view+json": {
       "model_id": "",
       "version_major": 2,
       "version_minor": 0
      },
      "text/plain": [
       "  0%|          | 0/4001 [00:00<?, ?it/s]"
      ]
     },
     "metadata": {},
     "output_type": "display_data"
    },
    {
     "data": {
      "application/vnd.jupyter.widget-view+json": {
       "model_id": "",
       "version_major": 2,
       "version_minor": 0
      },
      "text/plain": [
       "  0%|          | 0/4001 [00:00<?, ?it/s]"
      ]
     },
     "metadata": {},
     "output_type": "display_data"
    },
    {
     "data": {
      "application/vnd.jupyter.widget-view+json": {
       "model_id": "",
       "version_major": 2,
       "version_minor": 0
      },
      "text/plain": [
       "  0%|          | 0/4001 [00:00<?, ?it/s]"
      ]
     },
     "metadata": {},
     "output_type": "display_data"
    },
    {
     "data": {
      "application/vnd.jupyter.widget-view+json": {
       "model_id": "",
       "version_major": 2,
       "version_minor": 0
      },
      "text/plain": [
       "  0%|          | 0/4001 [00:00<?, ?it/s]"
      ]
     },
     "metadata": {},
     "output_type": "display_data"
    },
    {
     "data": {
      "application/vnd.jupyter.widget-view+json": {
       "model_id": "",
       "version_major": 2,
       "version_minor": 0
      },
      "text/plain": [
       "  0%|          | 0/4001 [00:00<?, ?it/s]"
      ]
     },
     "metadata": {},
     "output_type": "display_data"
    },
    {
     "data": {
      "application/vnd.jupyter.widget-view+json": {
       "model_id": "",
       "version_major": 2,
       "version_minor": 0
      },
      "text/plain": [
       "  0%|          | 0/4001 [00:00<?, ?it/s]"
      ]
     },
     "metadata": {},
     "output_type": "display_data"
    },
    {
     "data": {
      "application/vnd.jupyter.widget-view+json": {
       "model_id": "",
       "version_major": 2,
       "version_minor": 0
      },
      "text/plain": [
       "  0%|          | 0/4001 [00:00<?, ?it/s]"
      ]
     },
     "metadata": {},
     "output_type": "display_data"
    },
    {
     "data": {
      "application/vnd.jupyter.widget-view+json": {
       "model_id": "",
       "version_major": 2,
       "version_minor": 0
      },
      "text/plain": [
       "  0%|          | 0/4001 [00:00<?, ?it/s]"
      ]
     },
     "metadata": {},
     "output_type": "display_data"
    },
    {
     "data": {
      "application/vnd.jupyter.widget-view+json": {
       "model_id": "",
       "version_major": 2,
       "version_minor": 0
      },
      "text/plain": [
       "  0%|          | 0/4001 [00:00<?, ?it/s]"
      ]
     },
     "metadata": {},
     "output_type": "display_data"
    },
    {
     "data": {
      "application/vnd.jupyter.widget-view+json": {
       "model_id": "",
       "version_major": 2,
       "version_minor": 0
      },
      "text/plain": [
       "  0%|          | 0/4001 [00:00<?, ?it/s]"
      ]
     },
     "metadata": {},
     "output_type": "display_data"
    },
    {
     "data": {
      "application/vnd.jupyter.widget-view+json": {
       "model_id": "",
       "version_major": 2,
       "version_minor": 0
      },
      "text/plain": [
       "  0%|          | 0/4001 [00:00<?, ?it/s]"
      ]
     },
     "metadata": {},
     "output_type": "display_data"
    },
    {
     "data": {
      "application/vnd.jupyter.widget-view+json": {
       "model_id": "",
       "version_major": 2,
       "version_minor": 0
      },
      "text/plain": [
       "  0%|          | 0/4001 [00:00<?, ?it/s]"
      ]
     },
     "metadata": {},
     "output_type": "display_data"
    },
    {
     "data": {
      "application/vnd.jupyter.widget-view+json": {
       "model_id": "",
       "version_major": 2,
       "version_minor": 0
      },
      "text/plain": [
       "  0%|          | 0/4001 [00:00<?, ?it/s]"
      ]
     },
     "metadata": {},
     "output_type": "display_data"
    },
    {
     "data": {
      "application/vnd.jupyter.widget-view+json": {
       "model_id": "",
       "version_major": 2,
       "version_minor": 0
      },
      "text/plain": [
       "  0%|          | 0/4001 [00:00<?, ?it/s]"
      ]
     },
     "metadata": {},
     "output_type": "display_data"
    },
    {
     "data": {
      "application/vnd.jupyter.widget-view+json": {
       "model_id": "",
       "version_major": 2,
       "version_minor": 0
      },
      "text/plain": [
       "  0%|          | 0/4001 [00:00<?, ?it/s]"
      ]
     },
     "metadata": {},
     "output_type": "display_data"
    },
    {
     "data": {
      "application/vnd.jupyter.widget-view+json": {
       "model_id": "",
       "version_major": 2,
       "version_minor": 0
      },
      "text/plain": [
       "  0%|          | 0/4001 [00:00<?, ?it/s]"
      ]
     },
     "metadata": {},
     "output_type": "display_data"
    },
    {
     "data": {
      "application/vnd.jupyter.widget-view+json": {
       "model_id": "",
       "version_major": 2,
       "version_minor": 0
      },
      "text/plain": [
       "  0%|          | 0/4001 [00:00<?, ?it/s]"
      ]
     },
     "metadata": {},
     "output_type": "display_data"
    },
    {
     "data": {
      "application/vnd.jupyter.widget-view+json": {
       "model_id": "",
       "version_major": 2,
       "version_minor": 0
      },
      "text/plain": [
       "  0%|          | 0/4001 [00:00<?, ?it/s]"
      ]
     },
     "metadata": {},
     "output_type": "display_data"
    },
    {
     "data": {
      "application/vnd.jupyter.widget-view+json": {
       "model_id": "",
       "version_major": 2,
       "version_minor": 0
      },
      "text/plain": [
       "  0%|          | 0/4001 [00:00<?, ?it/s]"
      ]
     },
     "metadata": {},
     "output_type": "display_data"
    },
    {
     "data": {
      "application/vnd.jupyter.widget-view+json": {
       "model_id": "",
       "version_major": 2,
       "version_minor": 0
      },
      "text/plain": [
       "  0%|          | 0/4001 [00:00<?, ?it/s]"
      ]
     },
     "metadata": {},
     "output_type": "display_data"
    },
    {
     "data": {
      "application/vnd.jupyter.widget-view+json": {
       "model_id": "",
       "version_major": 2,
       "version_minor": 0
      },
      "text/plain": [
       "  0%|          | 0/4001 [00:00<?, ?it/s]"
      ]
     },
     "metadata": {},
     "output_type": "display_data"
    },
    {
     "data": {
      "application/vnd.jupyter.widget-view+json": {
       "model_id": "",
       "version_major": 2,
       "version_minor": 0
      },
      "text/plain": [
       "  0%|          | 0/4001 [00:00<?, ?it/s]"
      ]
     },
     "metadata": {},
     "output_type": "display_data"
    },
    {
     "data": {
      "application/vnd.jupyter.widget-view+json": {
       "model_id": "",
       "version_major": 2,
       "version_minor": 0
      },
      "text/plain": [
       "  0%|          | 0/4001 [00:00<?, ?it/s]"
      ]
     },
     "metadata": {},
     "output_type": "display_data"
    },
    {
     "data": {
      "application/vnd.jupyter.widget-view+json": {
       "model_id": "",
       "version_major": 2,
       "version_minor": 0
      },
      "text/plain": [
       "  0%|          | 0/4001 [00:00<?, ?it/s]"
      ]
     },
     "metadata": {},
     "output_type": "display_data"
    },
    {
     "data": {
      "application/vnd.jupyter.widget-view+json": {
       "model_id": "",
       "version_major": 2,
       "version_minor": 0
      },
      "text/plain": [
       "  0%|          | 0/4001 [00:00<?, ?it/s]"
      ]
     },
     "metadata": {},
     "output_type": "display_data"
    },
    {
     "data": {
      "application/vnd.jupyter.widget-view+json": {
       "model_id": "",
       "version_major": 2,
       "version_minor": 0
      },
      "text/plain": [
       "  0%|          | 0/4001 [00:00<?, ?it/s]"
      ]
     },
     "metadata": {},
     "output_type": "display_data"
    },
    {
     "data": {
      "application/vnd.jupyter.widget-view+json": {
       "model_id": "",
       "version_major": 2,
       "version_minor": 0
      },
      "text/plain": [
       "  0%|          | 0/4001 [00:00<?, ?it/s]"
      ]
     },
     "metadata": {},
     "output_type": "display_data"
    },
    {
     "data": {
      "application/vnd.jupyter.widget-view+json": {
       "model_id": "",
       "version_major": 2,
       "version_minor": 0
      },
      "text/plain": [
       "  0%|          | 0/4001 [00:00<?, ?it/s]"
      ]
     },
     "metadata": {},
     "output_type": "display_data"
    },
    {
     "data": {
      "application/vnd.jupyter.widget-view+json": {
       "model_id": "",
       "version_major": 2,
       "version_minor": 0
      },
      "text/plain": [
       "  0%|          | 0/4001 [00:00<?, ?it/s]"
      ]
     },
     "metadata": {},
     "output_type": "display_data"
    },
    {
     "data": {
      "application/vnd.jupyter.widget-view+json": {
       "model_id": "",
       "version_major": 2,
       "version_minor": 0
      },
      "text/plain": [
       "  0%|          | 0/4001 [00:00<?, ?it/s]"
      ]
     },
     "metadata": {},
     "output_type": "display_data"
    },
    {
     "data": {
      "application/vnd.jupyter.widget-view+json": {
       "model_id": "",
       "version_major": 2,
       "version_minor": 0
      },
      "text/plain": [
       "  0%|          | 0/4001 [00:00<?, ?it/s]"
      ]
     },
     "metadata": {},
     "output_type": "display_data"
    },
    {
     "data": {
      "application/vnd.jupyter.widget-view+json": {
       "model_id": "",
       "version_major": 2,
       "version_minor": 0
      },
      "text/plain": [
       "  0%|          | 0/4001 [00:00<?, ?it/s]"
      ]
     },
     "metadata": {},
     "output_type": "display_data"
    },
    {
     "data": {
      "application/vnd.jupyter.widget-view+json": {
       "model_id": "",
       "version_major": 2,
       "version_minor": 0
      },
      "text/plain": [
       "  0%|          | 0/4001 [00:00<?, ?it/s]"
      ]
     },
     "metadata": {},
     "output_type": "display_data"
    },
    {
     "data": {
      "application/vnd.jupyter.widget-view+json": {
       "model_id": "",
       "version_major": 2,
       "version_minor": 0
      },
      "text/plain": [
       "  0%|          | 0/4001 [00:00<?, ?it/s]"
      ]
     },
     "metadata": {},
     "output_type": "display_data"
    },
    {
     "data": {
      "application/vnd.jupyter.widget-view+json": {
       "model_id": "",
       "version_major": 2,
       "version_minor": 0
      },
      "text/plain": [
       "  0%|          | 0/4001 [00:00<?, ?it/s]"
      ]
     },
     "metadata": {},
     "output_type": "display_data"
    },
    {
     "data": {
      "application/vnd.jupyter.widget-view+json": {
       "model_id": "",
       "version_major": 2,
       "version_minor": 0
      },
      "text/plain": [
       "  0%|          | 0/4001 [00:00<?, ?it/s]"
      ]
     },
     "metadata": {},
     "output_type": "display_data"
    },
    {
     "data": {
      "application/vnd.jupyter.widget-view+json": {
       "model_id": "",
       "version_major": 2,
       "version_minor": 0
      },
      "text/plain": [
       "  0%|          | 0/4001 [00:00<?, ?it/s]"
      ]
     },
     "metadata": {},
     "output_type": "display_data"
    },
    {
     "data": {
      "application/vnd.jupyter.widget-view+json": {
       "model_id": "",
       "version_major": 2,
       "version_minor": 0
      },
      "text/plain": [
       "  0%|          | 0/4001 [00:00<?, ?it/s]"
      ]
     },
     "metadata": {},
     "output_type": "display_data"
    },
    {
     "data": {
      "application/vnd.jupyter.widget-view+json": {
       "model_id": "",
       "version_major": 2,
       "version_minor": 0
      },
      "text/plain": [
       "  0%|          | 0/4001 [00:00<?, ?it/s]"
      ]
     },
     "metadata": {},
     "output_type": "display_data"
    },
    {
     "data": {
      "application/vnd.jupyter.widget-view+json": {
       "model_id": "",
       "version_major": 2,
       "version_minor": 0
      },
      "text/plain": [
       "  0%|          | 0/4001 [00:00<?, ?it/s]"
      ]
     },
     "metadata": {},
     "output_type": "display_data"
    },
    {
     "data": {
      "application/vnd.jupyter.widget-view+json": {
       "model_id": "",
       "version_major": 2,
       "version_minor": 0
      },
      "text/plain": [
       "  0%|          | 0/4001 [00:00<?, ?it/s]"
      ]
     },
     "metadata": {},
     "output_type": "display_data"
    },
    {
     "data": {
      "application/vnd.jupyter.widget-view+json": {
       "model_id": "",
       "version_major": 2,
       "version_minor": 0
      },
      "text/plain": [
       "  0%|          | 0/4001 [00:00<?, ?it/s]"
      ]
     },
     "metadata": {},
     "output_type": "display_data"
    },
    {
     "data": {
      "application/vnd.jupyter.widget-view+json": {
       "model_id": "",
       "version_major": 2,
       "version_minor": 0
      },
      "text/plain": [
       "  0%|          | 0/4001 [00:00<?, ?it/s]"
      ]
     },
     "metadata": {},
     "output_type": "display_data"
    },
    {
     "data": {
      "application/vnd.jupyter.widget-view+json": {
       "model_id": "",
       "version_major": 2,
       "version_minor": 0
      },
      "text/plain": [
       "  0%|          | 0/4001 [00:00<?, ?it/s]"
      ]
     },
     "metadata": {},
     "output_type": "display_data"
    },
    {
     "data": {
      "application/vnd.jupyter.widget-view+json": {
       "model_id": "",
       "version_major": 2,
       "version_minor": 0
      },
      "text/plain": [
       "  0%|          | 0/4001 [00:00<?, ?it/s]"
      ]
     },
     "metadata": {},
     "output_type": "display_data"
    },
    {
     "data": {
      "application/vnd.jupyter.widget-view+json": {
       "model_id": "",
       "version_major": 2,
       "version_minor": 0
      },
      "text/plain": [
       "  0%|          | 0/4001 [00:00<?, ?it/s]"
      ]
     },
     "metadata": {},
     "output_type": "display_data"
    },
    {
     "data": {
      "application/vnd.jupyter.widget-view+json": {
       "model_id": "",
       "version_major": 2,
       "version_minor": 0
      },
      "text/plain": [
       "  0%|          | 0/4001 [00:00<?, ?it/s]"
      ]
     },
     "metadata": {},
     "output_type": "display_data"
    },
    {
     "data": {
      "application/vnd.jupyter.widget-view+json": {
       "model_id": "",
       "version_major": 2,
       "version_minor": 0
      },
      "text/plain": [
       "  0%|          | 0/4001 [00:00<?, ?it/s]"
      ]
     },
     "metadata": {},
     "output_type": "display_data"
    },
    {
     "data": {
      "application/vnd.jupyter.widget-view+json": {
       "model_id": "",
       "version_major": 2,
       "version_minor": 0
      },
      "text/plain": [
       "  0%|          | 0/4001 [00:00<?, ?it/s]"
      ]
     },
     "metadata": {},
     "output_type": "display_data"
    },
    {
     "data": {
      "application/vnd.jupyter.widget-view+json": {
       "model_id": "",
       "version_major": 2,
       "version_minor": 0
      },
      "text/plain": [
       "  0%|          | 0/4001 [00:00<?, ?it/s]"
      ]
     },
     "metadata": {},
     "output_type": "display_data"
    },
    {
     "data": {
      "application/vnd.jupyter.widget-view+json": {
       "model_id": "",
       "version_major": 2,
       "version_minor": 0
      },
      "text/plain": [
       "  0%|          | 0/4001 [00:00<?, ?it/s]"
      ]
     },
     "metadata": {},
     "output_type": "display_data"
    },
    {
     "data": {
      "application/vnd.jupyter.widget-view+json": {
       "model_id": "",
       "version_major": 2,
       "version_minor": 0
      },
      "text/plain": [
       "  0%|          | 0/4001 [00:00<?, ?it/s]"
      ]
     },
     "metadata": {},
     "output_type": "display_data"
    },
    {
     "data": {
      "application/vnd.jupyter.widget-view+json": {
       "model_id": "",
       "version_major": 2,
       "version_minor": 0
      },
      "text/plain": [
       "  0%|          | 0/4001 [00:00<?, ?it/s]"
      ]
     },
     "metadata": {},
     "output_type": "display_data"
    },
    {
     "data": {
      "application/vnd.jupyter.widget-view+json": {
       "model_id": "",
       "version_major": 2,
       "version_minor": 0
      },
      "text/plain": [
       "  0%|          | 0/4001 [00:00<?, ?it/s]"
      ]
     },
     "metadata": {},
     "output_type": "display_data"
    },
    {
     "data": {
      "application/vnd.jupyter.widget-view+json": {
       "model_id": "",
       "version_major": 2,
       "version_minor": 0
      },
      "text/plain": [
       "  0%|          | 0/4001 [00:00<?, ?it/s]"
      ]
     },
     "metadata": {},
     "output_type": "display_data"
    },
    {
     "data": {
      "application/vnd.jupyter.widget-view+json": {
       "model_id": "",
       "version_major": 2,
       "version_minor": 0
      },
      "text/plain": [
       "  0%|          | 0/4001 [00:00<?, ?it/s]"
      ]
     },
     "metadata": {},
     "output_type": "display_data"
    },
    {
     "data": {
      "application/vnd.jupyter.widget-view+json": {
       "model_id": "",
       "version_major": 2,
       "version_minor": 0
      },
      "text/plain": [
       "  0%|          | 0/4001 [00:00<?, ?it/s]"
      ]
     },
     "metadata": {},
     "output_type": "display_data"
    },
    {
     "data": {
      "application/vnd.jupyter.widget-view+json": {
       "model_id": "",
       "version_major": 2,
       "version_minor": 0
      },
      "text/plain": [
       "  0%|          | 0/4001 [00:00<?, ?it/s]"
      ]
     },
     "metadata": {},
     "output_type": "display_data"
    },
    {
     "data": {
      "application/vnd.jupyter.widget-view+json": {
       "model_id": "",
       "version_major": 2,
       "version_minor": 0
      },
      "text/plain": [
       "  0%|          | 0/4001 [00:00<?, ?it/s]"
      ]
     },
     "metadata": {},
     "output_type": "display_data"
    },
    {
     "data": {
      "application/vnd.jupyter.widget-view+json": {
       "model_id": "",
       "version_major": 2,
       "version_minor": 0
      },
      "text/plain": [
       "  0%|          | 0/4001 [00:00<?, ?it/s]"
      ]
     },
     "metadata": {},
     "output_type": "display_data"
    },
    {
     "data": {
      "application/vnd.jupyter.widget-view+json": {
       "model_id": "",
       "version_major": 2,
       "version_minor": 0
      },
      "text/plain": [
       "  0%|          | 0/4001 [00:00<?, ?it/s]"
      ]
     },
     "metadata": {},
     "output_type": "display_data"
    },
    {
     "data": {
      "application/vnd.jupyter.widget-view+json": {
       "model_id": "",
       "version_major": 2,
       "version_minor": 0
      },
      "text/plain": [
       "  0%|          | 0/4001 [00:00<?, ?it/s]"
      ]
     },
     "metadata": {},
     "output_type": "display_data"
    },
    {
     "data": {
      "application/vnd.jupyter.widget-view+json": {
       "model_id": "",
       "version_major": 2,
       "version_minor": 0
      },
      "text/plain": [
       "  0%|          | 0/4001 [00:00<?, ?it/s]"
      ]
     },
     "metadata": {},
     "output_type": "display_data"
    },
    {
     "data": {
      "application/vnd.jupyter.widget-view+json": {
       "model_id": "",
       "version_major": 2,
       "version_minor": 0
      },
      "text/plain": [
       "  0%|          | 0/4001 [00:00<?, ?it/s]"
      ]
     },
     "metadata": {},
     "output_type": "display_data"
    },
    {
     "data": {
      "application/vnd.jupyter.widget-view+json": {
       "model_id": "",
       "version_major": 2,
       "version_minor": 0
      },
      "text/plain": [
       "  0%|          | 0/4001 [00:00<?, ?it/s]"
      ]
     },
     "metadata": {},
     "output_type": "display_data"
    },
    {
     "data": {
      "application/vnd.jupyter.widget-view+json": {
       "model_id": "",
       "version_major": 2,
       "version_minor": 0
      },
      "text/plain": [
       "  0%|          | 0/4001 [00:00<?, ?it/s]"
      ]
     },
     "metadata": {},
     "output_type": "display_data"
    },
    {
     "data": {
      "application/vnd.jupyter.widget-view+json": {
       "model_id": "",
       "version_major": 2,
       "version_minor": 0
      },
      "text/plain": [
       "  0%|          | 0/4001 [00:00<?, ?it/s]"
      ]
     },
     "metadata": {},
     "output_type": "display_data"
    },
    {
     "data": {
      "application/vnd.jupyter.widget-view+json": {
       "model_id": "",
       "version_major": 2,
       "version_minor": 0
      },
      "text/plain": [
       "  0%|          | 0/4001 [00:00<?, ?it/s]"
      ]
     },
     "metadata": {},
     "output_type": "display_data"
    },
    {
     "data": {
      "application/vnd.jupyter.widget-view+json": {
       "model_id": "",
       "version_major": 2,
       "version_minor": 0
      },
      "text/plain": [
       "  0%|          | 0/4001 [00:00<?, ?it/s]"
      ]
     },
     "metadata": {},
     "output_type": "display_data"
    },
    {
     "data": {
      "application/vnd.jupyter.widget-view+json": {
       "model_id": "",
       "version_major": 2,
       "version_minor": 0
      },
      "text/plain": [
       "  0%|          | 0/4001 [00:00<?, ?it/s]"
      ]
     },
     "metadata": {},
     "output_type": "display_data"
    },
    {
     "data": {
      "application/vnd.jupyter.widget-view+json": {
       "model_id": "",
       "version_major": 2,
       "version_minor": 0
      },
      "text/plain": [
       "  0%|          | 0/4001 [00:00<?, ?it/s]"
      ]
     },
     "metadata": {},
     "output_type": "display_data"
    },
    {
     "data": {
      "application/vnd.jupyter.widget-view+json": {
       "model_id": "",
       "version_major": 2,
       "version_minor": 0
      },
      "text/plain": [
       "  0%|          | 0/4001 [00:00<?, ?it/s]"
      ]
     },
     "metadata": {},
     "output_type": "display_data"
    },
    {
     "data": {
      "application/vnd.jupyter.widget-view+json": {
       "model_id": "",
       "version_major": 2,
       "version_minor": 0
      },
      "text/plain": [
       "  0%|          | 0/4001 [00:00<?, ?it/s]"
      ]
     },
     "metadata": {},
     "output_type": "display_data"
    },
    {
     "data": {
      "application/vnd.jupyter.widget-view+json": {
       "model_id": "",
       "version_major": 2,
       "version_minor": 0
      },
      "text/plain": [
       "  0%|          | 0/4001 [00:00<?, ?it/s]"
      ]
     },
     "metadata": {},
     "output_type": "display_data"
    },
    {
     "data": {
      "application/vnd.jupyter.widget-view+json": {
       "model_id": "",
       "version_major": 2,
       "version_minor": 0
      },
      "text/plain": [
       "  0%|          | 0/4001 [00:00<?, ?it/s]"
      ]
     },
     "metadata": {},
     "output_type": "display_data"
    },
    {
     "data": {
      "application/vnd.jupyter.widget-view+json": {
       "model_id": "",
       "version_major": 2,
       "version_minor": 0
      },
      "text/plain": [
       "  0%|          | 0/4001 [00:00<?, ?it/s]"
      ]
     },
     "metadata": {},
     "output_type": "display_data"
    },
    {
     "data": {
      "application/vnd.jupyter.widget-view+json": {
       "model_id": "",
       "version_major": 2,
       "version_minor": 0
      },
      "text/plain": [
       "  0%|          | 0/4001 [00:00<?, ?it/s]"
      ]
     },
     "metadata": {},
     "output_type": "display_data"
    },
    {
     "data": {
      "application/vnd.jupyter.widget-view+json": {
       "model_id": "",
       "version_major": 2,
       "version_minor": 0
      },
      "text/plain": [
       "  0%|          | 0/4001 [00:00<?, ?it/s]"
      ]
     },
     "metadata": {},
     "output_type": "display_data"
    },
    {
     "data": {
      "application/vnd.jupyter.widget-view+json": {
       "model_id": "",
       "version_major": 2,
       "version_minor": 0
      },
      "text/plain": [
       "  0%|          | 0/4001 [00:00<?, ?it/s]"
      ]
     },
     "metadata": {},
     "output_type": "display_data"
    },
    {
     "data": {
      "application/vnd.jupyter.widget-view+json": {
       "model_id": "",
       "version_major": 2,
       "version_minor": 0
      },
      "text/plain": [
       "  0%|          | 0/4001 [00:00<?, ?it/s]"
      ]
     },
     "metadata": {},
     "output_type": "display_data"
    },
    {
     "data": {
      "application/vnd.jupyter.widget-view+json": {
       "model_id": "",
       "version_major": 2,
       "version_minor": 0
      },
      "text/plain": [
       "  0%|          | 0/4001 [00:00<?, ?it/s]"
      ]
     },
     "metadata": {},
     "output_type": "display_data"
    },
    {
     "data": {
      "application/vnd.jupyter.widget-view+json": {
       "model_id": "",
       "version_major": 2,
       "version_minor": 0
      },
      "text/plain": [
       "  0%|          | 0/4001 [00:00<?, ?it/s]"
      ]
     },
     "metadata": {},
     "output_type": "display_data"
    },
    {
     "data": {
      "application/vnd.jupyter.widget-view+json": {
       "model_id": "",
       "version_major": 2,
       "version_minor": 0
      },
      "text/plain": [
       "  0%|          | 0/4001 [00:00<?, ?it/s]"
      ]
     },
     "metadata": {},
     "output_type": "display_data"
    },
    {
     "data": {
      "application/vnd.jupyter.widget-view+json": {
       "model_id": "",
       "version_major": 2,
       "version_minor": 0
      },
      "text/plain": [
       "  0%|          | 0/4001 [00:00<?, ?it/s]"
      ]
     },
     "metadata": {},
     "output_type": "display_data"
    },
    {
     "data": {
      "application/vnd.jupyter.widget-view+json": {
       "model_id": "",
       "version_major": 2,
       "version_minor": 0
      },
      "text/plain": [
       "  0%|          | 0/4001 [00:00<?, ?it/s]"
      ]
     },
     "metadata": {},
     "output_type": "display_data"
    },
    {
     "data": {
      "application/vnd.jupyter.widget-view+json": {
       "model_id": "",
       "version_major": 2,
       "version_minor": 0
      },
      "text/plain": [
       "  0%|          | 0/4001 [00:00<?, ?it/s]"
      ]
     },
     "metadata": {},
     "output_type": "display_data"
    },
    {
     "data": {
      "application/vnd.jupyter.widget-view+json": {
       "model_id": "",
       "version_major": 2,
       "version_minor": 0
      },
      "text/plain": [
       "  0%|          | 0/4001 [00:00<?, ?it/s]"
      ]
     },
     "metadata": {},
     "output_type": "display_data"
    },
    {
     "data": {
      "application/vnd.jupyter.widget-view+json": {
       "model_id": "",
       "version_major": 2,
       "version_minor": 0
      },
      "text/plain": [
       "  0%|          | 0/4001 [00:00<?, ?it/s]"
      ]
     },
     "metadata": {},
     "output_type": "display_data"
    },
    {
     "data": {
      "application/vnd.jupyter.widget-view+json": {
       "model_id": "",
       "version_major": 2,
       "version_minor": 0
      },
      "text/plain": [
       "  0%|          | 0/4001 [00:00<?, ?it/s]"
      ]
     },
     "metadata": {},
     "output_type": "display_data"
    },
    {
     "data": {
      "application/vnd.jupyter.widget-view+json": {
       "model_id": "",
       "version_major": 2,
       "version_minor": 0
      },
      "text/plain": [
       "  0%|          | 0/4001 [00:00<?, ?it/s]"
      ]
     },
     "metadata": {},
     "output_type": "display_data"
    },
    {
     "data": {
      "application/vnd.jupyter.widget-view+json": {
       "model_id": "",
       "version_major": 2,
       "version_minor": 0
      },
      "text/plain": [
       "  0%|          | 0/4001 [00:00<?, ?it/s]"
      ]
     },
     "metadata": {},
     "output_type": "display_data"
    },
    {
     "data": {
      "application/vnd.jupyter.widget-view+json": {
       "model_id": "",
       "version_major": 2,
       "version_minor": 0
      },
      "text/plain": [
       "  0%|          | 0/4001 [00:00<?, ?it/s]"
      ]
     },
     "metadata": {},
     "output_type": "display_data"
    },
    {
     "data": {
      "application/vnd.jupyter.widget-view+json": {
       "model_id": "",
       "version_major": 2,
       "version_minor": 0
      },
      "text/plain": [
       "  0%|          | 0/4001 [00:00<?, ?it/s]"
      ]
     },
     "metadata": {},
     "output_type": "display_data"
    },
    {
     "data": {
      "application/vnd.jupyter.widget-view+json": {
       "model_id": "",
       "version_major": 2,
       "version_minor": 0
      },
      "text/plain": [
       "  0%|          | 0/4001 [00:00<?, ?it/s]"
      ]
     },
     "metadata": {},
     "output_type": "display_data"
    },
    {
     "data": {
      "application/vnd.jupyter.widget-view+json": {
       "model_id": "",
       "version_major": 2,
       "version_minor": 0
      },
      "text/plain": [
       "  0%|          | 0/4001 [00:00<?, ?it/s]"
      ]
     },
     "metadata": {},
     "output_type": "display_data"
    },
    {
     "data": {
      "application/vnd.jupyter.widget-view+json": {
       "model_id": "",
       "version_major": 2,
       "version_minor": 0
      },
      "text/plain": [
       "  0%|          | 0/4001 [00:00<?, ?it/s]"
      ]
     },
     "metadata": {},
     "output_type": "display_data"
    },
    {
     "data": {
      "application/vnd.jupyter.widget-view+json": {
       "model_id": "",
       "version_major": 2,
       "version_minor": 0
      },
      "text/plain": [
       "  0%|          | 0/4001 [00:00<?, ?it/s]"
      ]
     },
     "metadata": {},
     "output_type": "display_data"
    },
    {
     "data": {
      "application/vnd.jupyter.widget-view+json": {
       "model_id": "",
       "version_major": 2,
       "version_minor": 0
      },
      "text/plain": [
       "  0%|          | 0/4001 [00:00<?, ?it/s]"
      ]
     },
     "metadata": {},
     "output_type": "display_data"
    },
    {
     "data": {
      "application/vnd.jupyter.widget-view+json": {
       "model_id": "",
       "version_major": 2,
       "version_minor": 0
      },
      "text/plain": [
       "  0%|          | 0/4001 [00:00<?, ?it/s]"
      ]
     },
     "metadata": {},
     "output_type": "display_data"
    },
    {
     "data": {
      "application/vnd.jupyter.widget-view+json": {
       "model_id": "",
       "version_major": 2,
       "version_minor": 0
      },
      "text/plain": [
       "  0%|          | 0/4001 [00:00<?, ?it/s]"
      ]
     },
     "metadata": {},
     "output_type": "display_data"
    },
    {
     "data": {
      "application/vnd.jupyter.widget-view+json": {
       "model_id": "",
       "version_major": 2,
       "version_minor": 0
      },
      "text/plain": [
       "  0%|          | 0/4001 [00:00<?, ?it/s]"
      ]
     },
     "metadata": {},
     "output_type": "display_data"
    },
    {
     "data": {
      "application/vnd.jupyter.widget-view+json": {
       "model_id": "",
       "version_major": 2,
       "version_minor": 0
      },
      "text/plain": [
       "  0%|          | 0/4001 [00:00<?, ?it/s]"
      ]
     },
     "metadata": {},
     "output_type": "display_data"
    },
    {
     "data": {
      "application/vnd.jupyter.widget-view+json": {
       "model_id": "",
       "version_major": 2,
       "version_minor": 0
      },
      "text/plain": [
       "  0%|          | 0/4001 [00:00<?, ?it/s]"
      ]
     },
     "metadata": {},
     "output_type": "display_data"
    },
    {
     "data": {
      "application/vnd.jupyter.widget-view+json": {
       "model_id": "",
       "version_major": 2,
       "version_minor": 0
      },
      "text/plain": [
       "  0%|          | 0/4001 [00:00<?, ?it/s]"
      ]
     },
     "metadata": {},
     "output_type": "display_data"
    },
    {
     "data": {
      "application/vnd.jupyter.widget-view+json": {
       "model_id": "",
       "version_major": 2,
       "version_minor": 0
      },
      "text/plain": [
       "  0%|          | 0/4001 [00:00<?, ?it/s]"
      ]
     },
     "metadata": {},
     "output_type": "display_data"
    },
    {
     "data": {
      "application/vnd.jupyter.widget-view+json": {
       "model_id": "",
       "version_major": 2,
       "version_minor": 0
      },
      "text/plain": [
       "  0%|          | 0/4001 [00:00<?, ?it/s]"
      ]
     },
     "metadata": {},
     "output_type": "display_data"
    },
    {
     "data": {
      "application/vnd.jupyter.widget-view+json": {
       "model_id": "",
       "version_major": 2,
       "version_minor": 0
      },
      "text/plain": [
       "  0%|          | 0/4001 [00:00<?, ?it/s]"
      ]
     },
     "metadata": {},
     "output_type": "display_data"
    },
    {
     "data": {
      "application/vnd.jupyter.widget-view+json": {
       "model_id": "",
       "version_major": 2,
       "version_minor": 0
      },
      "text/plain": [
       "  0%|          | 0/4001 [00:00<?, ?it/s]"
      ]
     },
     "metadata": {},
     "output_type": "display_data"
    },
    {
     "data": {
      "application/vnd.jupyter.widget-view+json": {
       "model_id": "",
       "version_major": 2,
       "version_minor": 0
      },
      "text/plain": [
       "  0%|          | 0/4001 [00:00<?, ?it/s]"
      ]
     },
     "metadata": {},
     "output_type": "display_data"
    },
    {
     "data": {
      "application/vnd.jupyter.widget-view+json": {
       "model_id": "",
       "version_major": 2,
       "version_minor": 0
      },
      "text/plain": [
       "  0%|          | 0/4001 [00:00<?, ?it/s]"
      ]
     },
     "metadata": {},
     "output_type": "display_data"
    },
    {
     "data": {
      "application/vnd.jupyter.widget-view+json": {
       "model_id": "",
       "version_major": 2,
       "version_minor": 0
      },
      "text/plain": [
       "  0%|          | 0/4001 [00:00<?, ?it/s]"
      ]
     },
     "metadata": {},
     "output_type": "display_data"
    },
    {
     "data": {
      "application/vnd.jupyter.widget-view+json": {
       "model_id": "",
       "version_major": 2,
       "version_minor": 0
      },
      "text/plain": [
       "  0%|          | 0/4001 [00:00<?, ?it/s]"
      ]
     },
     "metadata": {},
     "output_type": "display_data"
    },
    {
     "data": {
      "application/vnd.jupyter.widget-view+json": {
       "model_id": "",
       "version_major": 2,
       "version_minor": 0
      },
      "text/plain": [
       "  0%|          | 0/4001 [00:00<?, ?it/s]"
      ]
     },
     "metadata": {},
     "output_type": "display_data"
    },
    {
     "data": {
      "application/vnd.jupyter.widget-view+json": {
       "model_id": "",
       "version_major": 2,
       "version_minor": 0
      },
      "text/plain": [
       "  0%|          | 0/4001 [00:00<?, ?it/s]"
      ]
     },
     "metadata": {},
     "output_type": "display_data"
    },
    {
     "data": {
      "application/vnd.jupyter.widget-view+json": {
       "model_id": "",
       "version_major": 2,
       "version_minor": 0
      },
      "text/plain": [
       "  0%|          | 0/4001 [00:00<?, ?it/s]"
      ]
     },
     "metadata": {},
     "output_type": "display_data"
    },
    {
     "data": {
      "application/vnd.jupyter.widget-view+json": {
       "model_id": "",
       "version_major": 2,
       "version_minor": 0
      },
      "text/plain": [
       "  0%|          | 0/4001 [00:00<?, ?it/s]"
      ]
     },
     "metadata": {},
     "output_type": "display_data"
    },
    {
     "data": {
      "application/vnd.jupyter.widget-view+json": {
       "model_id": "",
       "version_major": 2,
       "version_minor": 0
      },
      "text/plain": [
       "  0%|          | 0/4001 [00:00<?, ?it/s]"
      ]
     },
     "metadata": {},
     "output_type": "display_data"
    },
    {
     "data": {
      "application/vnd.jupyter.widget-view+json": {
       "model_id": "",
       "version_major": 2,
       "version_minor": 0
      },
      "text/plain": [
       "  0%|          | 0/4001 [00:00<?, ?it/s]"
      ]
     },
     "metadata": {},
     "output_type": "display_data"
    },
    {
     "data": {
      "application/vnd.jupyter.widget-view+json": {
       "model_id": "",
       "version_major": 2,
       "version_minor": 0
      },
      "text/plain": [
       "  0%|          | 0/4001 [00:00<?, ?it/s]"
      ]
     },
     "metadata": {},
     "output_type": "display_data"
    },
    {
     "data": {
      "application/vnd.jupyter.widget-view+json": {
       "model_id": "",
       "version_major": 2,
       "version_minor": 0
      },
      "text/plain": [
       "  0%|          | 0/4001 [00:00<?, ?it/s]"
      ]
     },
     "metadata": {},
     "output_type": "display_data"
    },
    {
     "data": {
      "application/vnd.jupyter.widget-view+json": {
       "model_id": "",
       "version_major": 2,
       "version_minor": 0
      },
      "text/plain": [
       "  0%|          | 0/4001 [00:00<?, ?it/s]"
      ]
     },
     "metadata": {},
     "output_type": "display_data"
    },
    {
     "data": {
      "application/vnd.jupyter.widget-view+json": {
       "model_id": "",
       "version_major": 2,
       "version_minor": 0
      },
      "text/plain": [
       "  0%|          | 0/4001 [00:00<?, ?it/s]"
      ]
     },
     "metadata": {},
     "output_type": "display_data"
    },
    {
     "data": {
      "application/vnd.jupyter.widget-view+json": {
       "model_id": "",
       "version_major": 2,
       "version_minor": 0
      },
      "text/plain": [
       "  0%|          | 0/4001 [00:00<?, ?it/s]"
      ]
     },
     "metadata": {},
     "output_type": "display_data"
    },
    {
     "data": {
      "application/vnd.jupyter.widget-view+json": {
       "model_id": "",
       "version_major": 2,
       "version_minor": 0
      },
      "text/plain": [
       "  0%|          | 0/4001 [00:00<?, ?it/s]"
      ]
     },
     "metadata": {},
     "output_type": "display_data"
    },
    {
     "data": {
      "application/vnd.jupyter.widget-view+json": {
       "model_id": "",
       "version_major": 2,
       "version_minor": 0
      },
      "text/plain": [
       "  0%|          | 0/4001 [00:00<?, ?it/s]"
      ]
     },
     "metadata": {},
     "output_type": "display_data"
    },
    {
     "data": {
      "application/vnd.jupyter.widget-view+json": {
       "model_id": "",
       "version_major": 2,
       "version_minor": 0
      },
      "text/plain": [
       "  0%|          | 0/4001 [00:00<?, ?it/s]"
      ]
     },
     "metadata": {},
     "output_type": "display_data"
    },
    {
     "data": {
      "application/vnd.jupyter.widget-view+json": {
       "model_id": "",
       "version_major": 2,
       "version_minor": 0
      },
      "text/plain": [
       "  0%|          | 0/4001 [00:00<?, ?it/s]"
      ]
     },
     "metadata": {},
     "output_type": "display_data"
    },
    {
     "data": {
      "application/vnd.jupyter.widget-view+json": {
       "model_id": "",
       "version_major": 2,
       "version_minor": 0
      },
      "text/plain": [
       "  0%|          | 0/4001 [00:00<?, ?it/s]"
      ]
     },
     "metadata": {},
     "output_type": "display_data"
    },
    {
     "data": {
      "application/vnd.jupyter.widget-view+json": {
       "model_id": "",
       "version_major": 2,
       "version_minor": 0
      },
      "text/plain": [
       "  0%|          | 0/4001 [00:00<?, ?it/s]"
      ]
     },
     "metadata": {},
     "output_type": "display_data"
    },
    {
     "data": {
      "application/vnd.jupyter.widget-view+json": {
       "model_id": "",
       "version_major": 2,
       "version_minor": 0
      },
      "text/plain": [
       "  0%|          | 0/4001 [00:00<?, ?it/s]"
      ]
     },
     "metadata": {},
     "output_type": "display_data"
    },
    {
     "data": {
      "application/vnd.jupyter.widget-view+json": {
       "model_id": "",
       "version_major": 2,
       "version_minor": 0
      },
      "text/plain": [
       "  0%|          | 0/4001 [00:00<?, ?it/s]"
      ]
     },
     "metadata": {},
     "output_type": "display_data"
    },
    {
     "data": {
      "application/vnd.jupyter.widget-view+json": {
       "model_id": "",
       "version_major": 2,
       "version_minor": 0
      },
      "text/plain": [
       "  0%|          | 0/4001 [00:00<?, ?it/s]"
      ]
     },
     "metadata": {},
     "output_type": "display_data"
    },
    {
     "data": {
      "application/vnd.jupyter.widget-view+json": {
       "model_id": "",
       "version_major": 2,
       "version_minor": 0
      },
      "text/plain": [
       "  0%|          | 0/4001 [00:00<?, ?it/s]"
      ]
     },
     "metadata": {},
     "output_type": "display_data"
    },
    {
     "data": {
      "application/vnd.jupyter.widget-view+json": {
       "model_id": "",
       "version_major": 2,
       "version_minor": 0
      },
      "text/plain": [
       "  0%|          | 0/4001 [00:00<?, ?it/s]"
      ]
     },
     "metadata": {},
     "output_type": "display_data"
    },
    {
     "data": {
      "application/vnd.jupyter.widget-view+json": {
       "model_id": "",
       "version_major": 2,
       "version_minor": 0
      },
      "text/plain": [
       "  0%|          | 0/4001 [00:00<?, ?it/s]"
      ]
     },
     "metadata": {},
     "output_type": "display_data"
    },
    {
     "data": {
      "application/vnd.jupyter.widget-view+json": {
       "model_id": "",
       "version_major": 2,
       "version_minor": 0
      },
      "text/plain": [
       "  0%|          | 0/4001 [00:00<?, ?it/s]"
      ]
     },
     "metadata": {},
     "output_type": "display_data"
    },
    {
     "data": {
      "application/vnd.jupyter.widget-view+json": {
       "model_id": "",
       "version_major": 2,
       "version_minor": 0
      },
      "text/plain": [
       "  0%|          | 0/4001 [00:00<?, ?it/s]"
      ]
     },
     "metadata": {},
     "output_type": "display_data"
    },
    {
     "data": {
      "application/vnd.jupyter.widget-view+json": {
       "model_id": "",
       "version_major": 2,
       "version_minor": 0
      },
      "text/plain": [
       "  0%|          | 0/4001 [00:00<?, ?it/s]"
      ]
     },
     "metadata": {},
     "output_type": "display_data"
    },
    {
     "data": {
      "application/vnd.jupyter.widget-view+json": {
       "model_id": "",
       "version_major": 2,
       "version_minor": 0
      },
      "text/plain": [
       "  0%|          | 0/4001 [00:00<?, ?it/s]"
      ]
     },
     "metadata": {},
     "output_type": "display_data"
    },
    {
     "data": {
      "application/vnd.jupyter.widget-view+json": {
       "model_id": "",
       "version_major": 2,
       "version_minor": 0
      },
      "text/plain": [
       "  0%|          | 0/4001 [00:00<?, ?it/s]"
      ]
     },
     "metadata": {},
     "output_type": "display_data"
    },
    {
     "data": {
      "application/vnd.jupyter.widget-view+json": {
       "model_id": "",
       "version_major": 2,
       "version_minor": 0
      },
      "text/plain": [
       "  0%|          | 0/4001 [00:00<?, ?it/s]"
      ]
     },
     "metadata": {},
     "output_type": "display_data"
    },
    {
     "data": {
      "application/vnd.jupyter.widget-view+json": {
       "model_id": "",
       "version_major": 2,
       "version_minor": 0
      },
      "text/plain": [
       "  0%|          | 0/4001 [00:00<?, ?it/s]"
      ]
     },
     "metadata": {},
     "output_type": "display_data"
    },
    {
     "data": {
      "application/vnd.jupyter.widget-view+json": {
       "model_id": "",
       "version_major": 2,
       "version_minor": 0
      },
      "text/plain": [
       "  0%|          | 0/4001 [00:00<?, ?it/s]"
      ]
     },
     "metadata": {},
     "output_type": "display_data"
    },
    {
     "data": {
      "application/vnd.jupyter.widget-view+json": {
       "model_id": "",
       "version_major": 2,
       "version_minor": 0
      },
      "text/plain": [
       "  0%|          | 0/4001 [00:00<?, ?it/s]"
      ]
     },
     "metadata": {},
     "output_type": "display_data"
    },
    {
     "data": {
      "application/vnd.jupyter.widget-view+json": {
       "model_id": "",
       "version_major": 2,
       "version_minor": 0
      },
      "text/plain": [
       "  0%|          | 0/4001 [00:00<?, ?it/s]"
      ]
     },
     "metadata": {},
     "output_type": "display_data"
    },
    {
     "data": {
      "application/vnd.jupyter.widget-view+json": {
       "model_id": "",
       "version_major": 2,
       "version_minor": 0
      },
      "text/plain": [
       "  0%|          | 0/4001 [00:00<?, ?it/s]"
      ]
     },
     "metadata": {},
     "output_type": "display_data"
    },
    {
     "data": {
      "application/vnd.jupyter.widget-view+json": {
       "model_id": "",
       "version_major": 2,
       "version_minor": 0
      },
      "text/plain": [
       "  0%|          | 0/4001 [00:00<?, ?it/s]"
      ]
     },
     "metadata": {},
     "output_type": "display_data"
    },
    {
     "data": {
      "application/vnd.jupyter.widget-view+json": {
       "model_id": "",
       "version_major": 2,
       "version_minor": 0
      },
      "text/plain": [
       "  0%|          | 0/4001 [00:00<?, ?it/s]"
      ]
     },
     "metadata": {},
     "output_type": "display_data"
    },
    {
     "data": {
      "application/vnd.jupyter.widget-view+json": {
       "model_id": "",
       "version_major": 2,
       "version_minor": 0
      },
      "text/plain": [
       "  0%|          | 0/4001 [00:00<?, ?it/s]"
      ]
     },
     "metadata": {},
     "output_type": "display_data"
    },
    {
     "data": {
      "application/vnd.jupyter.widget-view+json": {
       "model_id": "",
       "version_major": 2,
       "version_minor": 0
      },
      "text/plain": [
       "  0%|          | 0/4001 [00:00<?, ?it/s]"
      ]
     },
     "metadata": {},
     "output_type": "display_data"
    },
    {
     "data": {
      "application/vnd.jupyter.widget-view+json": {
       "model_id": "",
       "version_major": 2,
       "version_minor": 0
      },
      "text/plain": [
       "  0%|          | 0/4001 [00:00<?, ?it/s]"
      ]
     },
     "metadata": {},
     "output_type": "display_data"
    },
    {
     "data": {
      "application/vnd.jupyter.widget-view+json": {
       "model_id": "",
       "version_major": 2,
       "version_minor": 0
      },
      "text/plain": [
       "  0%|          | 0/4001 [00:00<?, ?it/s]"
      ]
     },
     "metadata": {},
     "output_type": "display_data"
    },
    {
     "data": {
      "application/vnd.jupyter.widget-view+json": {
       "model_id": "",
       "version_major": 2,
       "version_minor": 0
      },
      "text/plain": [
       "  0%|          | 0/4001 [00:00<?, ?it/s]"
      ]
     },
     "metadata": {},
     "output_type": "display_data"
    },
    {
     "data": {
      "application/vnd.jupyter.widget-view+json": {
       "model_id": "",
       "version_major": 2,
       "version_minor": 0
      },
      "text/plain": [
       "  0%|          | 0/4001 [00:00<?, ?it/s]"
      ]
     },
     "metadata": {},
     "output_type": "display_data"
    },
    {
     "data": {
      "application/vnd.jupyter.widget-view+json": {
       "model_id": "",
       "version_major": 2,
       "version_minor": 0
      },
      "text/plain": [
       "  0%|          | 0/4001 [00:00<?, ?it/s]"
      ]
     },
     "metadata": {},
     "output_type": "display_data"
    },
    {
     "data": {
      "application/vnd.jupyter.widget-view+json": {
       "model_id": "",
       "version_major": 2,
       "version_minor": 0
      },
      "text/plain": [
       "  0%|          | 0/4001 [00:00<?, ?it/s]"
      ]
     },
     "metadata": {},
     "output_type": "display_data"
    },
    {
     "data": {
      "application/vnd.jupyter.widget-view+json": {
       "model_id": "",
       "version_major": 2,
       "version_minor": 0
      },
      "text/plain": [
       "  0%|          | 0/4001 [00:00<?, ?it/s]"
      ]
     },
     "metadata": {},
     "output_type": "display_data"
    },
    {
     "data": {
      "application/vnd.jupyter.widget-view+json": {
       "model_id": "",
       "version_major": 2,
       "version_minor": 0
      },
      "text/plain": [
       "  0%|          | 0/4001 [00:00<?, ?it/s]"
      ]
     },
     "metadata": {},
     "output_type": "display_data"
    },
    {
     "data": {
      "application/vnd.jupyter.widget-view+json": {
       "model_id": "",
       "version_major": 2,
       "version_minor": 0
      },
      "text/plain": [
       "  0%|          | 0/4001 [00:00<?, ?it/s]"
      ]
     },
     "metadata": {},
     "output_type": "display_data"
    },
    {
     "data": {
      "application/vnd.jupyter.widget-view+json": {
       "model_id": "",
       "version_major": 2,
       "version_minor": 0
      },
      "text/plain": [
       "  0%|          | 0/4001 [00:00<?, ?it/s]"
      ]
     },
     "metadata": {},
     "output_type": "display_data"
    },
    {
     "data": {
      "application/vnd.jupyter.widget-view+json": {
       "model_id": "",
       "version_major": 2,
       "version_minor": 0
      },
      "text/plain": [
       "  0%|          | 0/4001 [00:00<?, ?it/s]"
      ]
     },
     "metadata": {},
     "output_type": "display_data"
    },
    {
     "data": {
      "application/vnd.jupyter.widget-view+json": {
       "model_id": "",
       "version_major": 2,
       "version_minor": 0
      },
      "text/plain": [
       "  0%|          | 0/4001 [00:00<?, ?it/s]"
      ]
     },
     "metadata": {},
     "output_type": "display_data"
    },
    {
     "data": {
      "application/vnd.jupyter.widget-view+json": {
       "model_id": "",
       "version_major": 2,
       "version_minor": 0
      },
      "text/plain": [
       "  0%|          | 0/4001 [00:00<?, ?it/s]"
      ]
     },
     "metadata": {},
     "output_type": "display_data"
    },
    {
     "data": {
      "application/vnd.jupyter.widget-view+json": {
       "model_id": "",
       "version_major": 2,
       "version_minor": 0
      },
      "text/plain": [
       "  0%|          | 0/4001 [00:00<?, ?it/s]"
      ]
     },
     "metadata": {},
     "output_type": "display_data"
    },
    {
     "data": {
      "application/vnd.jupyter.widget-view+json": {
       "model_id": "",
       "version_major": 2,
       "version_minor": 0
      },
      "text/plain": [
       "  0%|          | 0/4001 [00:00<?, ?it/s]"
      ]
     },
     "metadata": {},
     "output_type": "display_data"
    },
    {
     "data": {
      "application/vnd.jupyter.widget-view+json": {
       "model_id": "",
       "version_major": 2,
       "version_minor": 0
      },
      "text/plain": [
       "  0%|          | 0/4001 [00:00<?, ?it/s]"
      ]
     },
     "metadata": {},
     "output_type": "display_data"
    },
    {
     "data": {
      "application/vnd.jupyter.widget-view+json": {
       "model_id": "",
       "version_major": 2,
       "version_minor": 0
      },
      "text/plain": [
       "  0%|          | 0/4001 [00:00<?, ?it/s]"
      ]
     },
     "metadata": {},
     "output_type": "display_data"
    },
    {
     "data": {
      "application/vnd.jupyter.widget-view+json": {
       "model_id": "",
       "version_major": 2,
       "version_minor": 0
      },
      "text/plain": [
       "  0%|          | 0/4001 [00:00<?, ?it/s]"
      ]
     },
     "metadata": {},
     "output_type": "display_data"
    },
    {
     "data": {
      "application/vnd.jupyter.widget-view+json": {
       "model_id": "",
       "version_major": 2,
       "version_minor": 0
      },
      "text/plain": [
       "  0%|          | 0/4001 [00:00<?, ?it/s]"
      ]
     },
     "metadata": {},
     "output_type": "display_data"
    },
    {
     "data": {
      "application/vnd.jupyter.widget-view+json": {
       "model_id": "",
       "version_major": 2,
       "version_minor": 0
      },
      "text/plain": [
       "  0%|          | 0/4001 [00:00<?, ?it/s]"
      ]
     },
     "metadata": {},
     "output_type": "display_data"
    },
    {
     "data": {
      "application/vnd.jupyter.widget-view+json": {
       "model_id": "",
       "version_major": 2,
       "version_minor": 0
      },
      "text/plain": [
       "  0%|          | 0/4001 [00:00<?, ?it/s]"
      ]
     },
     "metadata": {},
     "output_type": "display_data"
    },
    {
     "data": {
      "application/vnd.jupyter.widget-view+json": {
       "model_id": "",
       "version_major": 2,
       "version_minor": 0
      },
      "text/plain": [
       "  0%|          | 0/4001 [00:00<?, ?it/s]"
      ]
     },
     "metadata": {},
     "output_type": "display_data"
    },
    {
     "data": {
      "application/vnd.jupyter.widget-view+json": {
       "model_id": "",
       "version_major": 2,
       "version_minor": 0
      },
      "text/plain": [
       "  0%|          | 0/4001 [00:00<?, ?it/s]"
      ]
     },
     "metadata": {},
     "output_type": "display_data"
    },
    {
     "data": {
      "application/vnd.jupyter.widget-view+json": {
       "model_id": "",
       "version_major": 2,
       "version_minor": 0
      },
      "text/plain": [
       "  0%|          | 0/4001 [00:00<?, ?it/s]"
      ]
     },
     "metadata": {},
     "output_type": "display_data"
    },
    {
     "data": {
      "application/vnd.jupyter.widget-view+json": {
       "model_id": "",
       "version_major": 2,
       "version_minor": 0
      },
      "text/plain": [
       "  0%|          | 0/4001 [00:00<?, ?it/s]"
      ]
     },
     "metadata": {},
     "output_type": "display_data"
    },
    {
     "data": {
      "application/vnd.jupyter.widget-view+json": {
       "model_id": "",
       "version_major": 2,
       "version_minor": 0
      },
      "text/plain": [
       "  0%|          | 0/4001 [00:00<?, ?it/s]"
      ]
     },
     "metadata": {},
     "output_type": "display_data"
    },
    {
     "data": {
      "application/vnd.jupyter.widget-view+json": {
       "model_id": "",
       "version_major": 2,
       "version_minor": 0
      },
      "text/plain": [
       "  0%|          | 0/4001 [00:00<?, ?it/s]"
      ]
     },
     "metadata": {},
     "output_type": "display_data"
    },
    {
     "data": {
      "application/vnd.jupyter.widget-view+json": {
       "model_id": "",
       "version_major": 2,
       "version_minor": 0
      },
      "text/plain": [
       "  0%|          | 0/4001 [00:00<?, ?it/s]"
      ]
     },
     "metadata": {},
     "output_type": "display_data"
    },
    {
     "data": {
      "application/vnd.jupyter.widget-view+json": {
       "model_id": "",
       "version_major": 2,
       "version_minor": 0
      },
      "text/plain": [
       "  0%|          | 0/4001 [00:00<?, ?it/s]"
      ]
     },
     "metadata": {},
     "output_type": "display_data"
    },
    {
     "data": {
      "application/vnd.jupyter.widget-view+json": {
       "model_id": "",
       "version_major": 2,
       "version_minor": 0
      },
      "text/plain": [
       "  0%|          | 0/4001 [00:00<?, ?it/s]"
      ]
     },
     "metadata": {},
     "output_type": "display_data"
    },
    {
     "data": {
      "application/vnd.jupyter.widget-view+json": {
       "model_id": "",
       "version_major": 2,
       "version_minor": 0
      },
      "text/plain": [
       "  0%|          | 0/4001 [00:00<?, ?it/s]"
      ]
     },
     "metadata": {},
     "output_type": "display_data"
    },
    {
     "data": {
      "application/vnd.jupyter.widget-view+json": {
       "model_id": "",
       "version_major": 2,
       "version_minor": 0
      },
      "text/plain": [
       "  0%|          | 0/4001 [00:00<?, ?it/s]"
      ]
     },
     "metadata": {},
     "output_type": "display_data"
    },
    {
     "data": {
      "application/vnd.jupyter.widget-view+json": {
       "model_id": "",
       "version_major": 2,
       "version_minor": 0
      },
      "text/plain": [
       "  0%|          | 0/4001 [00:00<?, ?it/s]"
      ]
     },
     "metadata": {},
     "output_type": "display_data"
    },
    {
     "data": {
      "application/vnd.jupyter.widget-view+json": {
       "model_id": "",
       "version_major": 2,
       "version_minor": 0
      },
      "text/plain": [
       "  0%|          | 0/4001 [00:00<?, ?it/s]"
      ]
     },
     "metadata": {},
     "output_type": "display_data"
    },
    {
     "data": {
      "application/vnd.jupyter.widget-view+json": {
       "model_id": "",
       "version_major": 2,
       "version_minor": 0
      },
      "text/plain": [
       "  0%|          | 0/4001 [00:00<?, ?it/s]"
      ]
     },
     "metadata": {},
     "output_type": "display_data"
    },
    {
     "data": {
      "application/vnd.jupyter.widget-view+json": {
       "model_id": "",
       "version_major": 2,
       "version_minor": 0
      },
      "text/plain": [
       "  0%|          | 0/4001 [00:00<?, ?it/s]"
      ]
     },
     "metadata": {},
     "output_type": "display_data"
    },
    {
     "data": {
      "application/vnd.jupyter.widget-view+json": {
       "model_id": "",
       "version_major": 2,
       "version_minor": 0
      },
      "text/plain": [
       "  0%|          | 0/4001 [00:00<?, ?it/s]"
      ]
     },
     "metadata": {},
     "output_type": "display_data"
    },
    {
     "data": {
      "application/vnd.jupyter.widget-view+json": {
       "model_id": "",
       "version_major": 2,
       "version_minor": 0
      },
      "text/plain": [
       "  0%|          | 0/4001 [00:00<?, ?it/s]"
      ]
     },
     "metadata": {},
     "output_type": "display_data"
    },
    {
     "data": {
      "application/vnd.jupyter.widget-view+json": {
       "model_id": "",
       "version_major": 2,
       "version_minor": 0
      },
      "text/plain": [
       "  0%|          | 0/4001 [00:00<?, ?it/s]"
      ]
     },
     "metadata": {},
     "output_type": "display_data"
    },
    {
     "data": {
      "application/vnd.jupyter.widget-view+json": {
       "model_id": "",
       "version_major": 2,
       "version_minor": 0
      },
      "text/plain": [
       "  0%|          | 0/4001 [00:00<?, ?it/s]"
      ]
     },
     "metadata": {},
     "output_type": "display_data"
    },
    {
     "data": {
      "application/vnd.jupyter.widget-view+json": {
       "model_id": "",
       "version_major": 2,
       "version_minor": 0
      },
      "text/plain": [
       "  0%|          | 0/4001 [00:00<?, ?it/s]"
      ]
     },
     "metadata": {},
     "output_type": "display_data"
    },
    {
     "data": {
      "application/vnd.jupyter.widget-view+json": {
       "model_id": "",
       "version_major": 2,
       "version_minor": 0
      },
      "text/plain": [
       "  0%|          | 0/4001 [00:00<?, ?it/s]"
      ]
     },
     "metadata": {},
     "output_type": "display_data"
    },
    {
     "data": {
      "application/vnd.jupyter.widget-view+json": {
       "model_id": "",
       "version_major": 2,
       "version_minor": 0
      },
      "text/plain": [
       "  0%|          | 0/4001 [00:00<?, ?it/s]"
      ]
     },
     "metadata": {},
     "output_type": "display_data"
    },
    {
     "data": {
      "application/vnd.jupyter.widget-view+json": {
       "model_id": "",
       "version_major": 2,
       "version_minor": 0
      },
      "text/plain": [
       "  0%|          | 0/4001 [00:00<?, ?it/s]"
      ]
     },
     "metadata": {},
     "output_type": "display_data"
    },
    {
     "data": {
      "application/vnd.jupyter.widget-view+json": {
       "model_id": "",
       "version_major": 2,
       "version_minor": 0
      },
      "text/plain": [
       "  0%|          | 0/4001 [00:00<?, ?it/s]"
      ]
     },
     "metadata": {},
     "output_type": "display_data"
    },
    {
     "data": {
      "application/vnd.jupyter.widget-view+json": {
       "model_id": "",
       "version_major": 2,
       "version_minor": 0
      },
      "text/plain": [
       "  0%|          | 0/4001 [00:00<?, ?it/s]"
      ]
     },
     "metadata": {},
     "output_type": "display_data"
    },
    {
     "data": {
      "application/vnd.jupyter.widget-view+json": {
       "model_id": "",
       "version_major": 2,
       "version_minor": 0
      },
      "text/plain": [
       "  0%|          | 0/4001 [00:00<?, ?it/s]"
      ]
     },
     "metadata": {},
     "output_type": "display_data"
    },
    {
     "data": {
      "application/vnd.jupyter.widget-view+json": {
       "model_id": "",
       "version_major": 2,
       "version_minor": 0
      },
      "text/plain": [
       "  0%|          | 0/4001 [00:00<?, ?it/s]"
      ]
     },
     "metadata": {},
     "output_type": "display_data"
    },
    {
     "data": {
      "application/vnd.jupyter.widget-view+json": {
       "model_id": "",
       "version_major": 2,
       "version_minor": 0
      },
      "text/plain": [
       "  0%|          | 0/4001 [00:00<?, ?it/s]"
      ]
     },
     "metadata": {},
     "output_type": "display_data"
    },
    {
     "data": {
      "application/vnd.jupyter.widget-view+json": {
       "model_id": "",
       "version_major": 2,
       "version_minor": 0
      },
      "text/plain": [
       "  0%|          | 0/4001 [00:00<?, ?it/s]"
      ]
     },
     "metadata": {},
     "output_type": "display_data"
    },
    {
     "data": {
      "application/vnd.jupyter.widget-view+json": {
       "model_id": "",
       "version_major": 2,
       "version_minor": 0
      },
      "text/plain": [
       "  0%|          | 0/4001 [00:00<?, ?it/s]"
      ]
     },
     "metadata": {},
     "output_type": "display_data"
    },
    {
     "data": {
      "application/vnd.jupyter.widget-view+json": {
       "model_id": "",
       "version_major": 2,
       "version_minor": 0
      },
      "text/plain": [
       "  0%|          | 0/4001 [00:00<?, ?it/s]"
      ]
     },
     "metadata": {},
     "output_type": "display_data"
    },
    {
     "data": {
      "application/vnd.jupyter.widget-view+json": {
       "model_id": "",
       "version_major": 2,
       "version_minor": 0
      },
      "text/plain": [
       "  0%|          | 0/4001 [00:00<?, ?it/s]"
      ]
     },
     "metadata": {},
     "output_type": "display_data"
    },
    {
     "data": {
      "application/vnd.jupyter.widget-view+json": {
       "model_id": "",
       "version_major": 2,
       "version_minor": 0
      },
      "text/plain": [
       "  0%|          | 0/4001 [00:00<?, ?it/s]"
      ]
     },
     "metadata": {},
     "output_type": "display_data"
    },
    {
     "data": {
      "application/vnd.jupyter.widget-view+json": {
       "model_id": "",
       "version_major": 2,
       "version_minor": 0
      },
      "text/plain": [
       "  0%|          | 0/4001 [00:00<?, ?it/s]"
      ]
     },
     "metadata": {},
     "output_type": "display_data"
    },
    {
     "data": {
      "application/vnd.jupyter.widget-view+json": {
       "model_id": "",
       "version_major": 2,
       "version_minor": 0
      },
      "text/plain": [
       "  0%|          | 0/4001 [00:00<?, ?it/s]"
      ]
     },
     "metadata": {},
     "output_type": "display_data"
    },
    {
     "data": {
      "application/vnd.jupyter.widget-view+json": {
       "model_id": "",
       "version_major": 2,
       "version_minor": 0
      },
      "text/plain": [
       "  0%|          | 0/4001 [00:00<?, ?it/s]"
      ]
     },
     "metadata": {},
     "output_type": "display_data"
    },
    {
     "data": {
      "application/vnd.jupyter.widget-view+json": {
       "model_id": "",
       "version_major": 2,
       "version_minor": 0
      },
      "text/plain": [
       "  0%|          | 0/4001 [00:00<?, ?it/s]"
      ]
     },
     "metadata": {},
     "output_type": "display_data"
    },
    {
     "data": {
      "application/vnd.jupyter.widget-view+json": {
       "model_id": "",
       "version_major": 2,
       "version_minor": 0
      },
      "text/plain": [
       "  0%|          | 0/4001 [00:00<?, ?it/s]"
      ]
     },
     "metadata": {},
     "output_type": "display_data"
    },
    {
     "data": {
      "application/vnd.jupyter.widget-view+json": {
       "model_id": "",
       "version_major": 2,
       "version_minor": 0
      },
      "text/plain": [
       "  0%|          | 0/4001 [00:00<?, ?it/s]"
      ]
     },
     "metadata": {},
     "output_type": "display_data"
    },
    {
     "data": {
      "application/vnd.jupyter.widget-view+json": {
       "model_id": "",
       "version_major": 2,
       "version_minor": 0
      },
      "text/plain": [
       "  0%|          | 0/4001 [00:00<?, ?it/s]"
      ]
     },
     "metadata": {},
     "output_type": "display_data"
    },
    {
     "data": {
      "application/vnd.jupyter.widget-view+json": {
       "model_id": "",
       "version_major": 2,
       "version_minor": 0
      },
      "text/plain": [
       "  0%|          | 0/4001 [00:00<?, ?it/s]"
      ]
     },
     "metadata": {},
     "output_type": "display_data"
    },
    {
     "data": {
      "application/vnd.jupyter.widget-view+json": {
       "model_id": "",
       "version_major": 2,
       "version_minor": 0
      },
      "text/plain": [
       "  0%|          | 0/4001 [00:00<?, ?it/s]"
      ]
     },
     "metadata": {},
     "output_type": "display_data"
    },
    {
     "data": {
      "application/vnd.jupyter.widget-view+json": {
       "model_id": "",
       "version_major": 2,
       "version_minor": 0
      },
      "text/plain": [
       "  0%|          | 0/4001 [00:00<?, ?it/s]"
      ]
     },
     "metadata": {},
     "output_type": "display_data"
    },
    {
     "data": {
      "application/vnd.jupyter.widget-view+json": {
       "model_id": "",
       "version_major": 2,
       "version_minor": 0
      },
      "text/plain": [
       "  0%|          | 0/4001 [00:00<?, ?it/s]"
      ]
     },
     "metadata": {},
     "output_type": "display_data"
    },
    {
     "data": {
      "application/vnd.jupyter.widget-view+json": {
       "model_id": "",
       "version_major": 2,
       "version_minor": 0
      },
      "text/plain": [
       "  0%|          | 0/4001 [00:00<?, ?it/s]"
      ]
     },
     "metadata": {},
     "output_type": "display_data"
    },
    {
     "data": {
      "application/vnd.jupyter.widget-view+json": {
       "model_id": "",
       "version_major": 2,
       "version_minor": 0
      },
      "text/plain": [
       "  0%|          | 0/4001 [00:00<?, ?it/s]"
      ]
     },
     "metadata": {},
     "output_type": "display_data"
    },
    {
     "data": {
      "application/vnd.jupyter.widget-view+json": {
       "model_id": "",
       "version_major": 2,
       "version_minor": 0
      },
      "text/plain": [
       "  0%|          | 0/4001 [00:00<?, ?it/s]"
      ]
     },
     "metadata": {},
     "output_type": "display_data"
    },
    {
     "data": {
      "application/vnd.jupyter.widget-view+json": {
       "model_id": "",
       "version_major": 2,
       "version_minor": 0
      },
      "text/plain": [
       "  0%|          | 0/4001 [00:00<?, ?it/s]"
      ]
     },
     "metadata": {},
     "output_type": "display_data"
    },
    {
     "data": {
      "application/vnd.jupyter.widget-view+json": {
       "model_id": "",
       "version_major": 2,
       "version_minor": 0
      },
      "text/plain": [
       "  0%|          | 0/4001 [00:00<?, ?it/s]"
      ]
     },
     "metadata": {},
     "output_type": "display_data"
    },
    {
     "data": {
      "application/vnd.jupyter.widget-view+json": {
       "model_id": "",
       "version_major": 2,
       "version_minor": 0
      },
      "text/plain": [
       "  0%|          | 0/4001 [00:00<?, ?it/s]"
      ]
     },
     "metadata": {},
     "output_type": "display_data"
    },
    {
     "data": {
      "application/vnd.jupyter.widget-view+json": {
       "model_id": "",
       "version_major": 2,
       "version_minor": 0
      },
      "text/plain": [
       "  0%|          | 0/4001 [00:00<?, ?it/s]"
      ]
     },
     "metadata": {},
     "output_type": "display_data"
    },
    {
     "data": {
      "application/vnd.jupyter.widget-view+json": {
       "model_id": "",
       "version_major": 2,
       "version_minor": 0
      },
      "text/plain": [
       "  0%|          | 0/4001 [00:00<?, ?it/s]"
      ]
     },
     "metadata": {},
     "output_type": "display_data"
    },
    {
     "data": {
      "application/vnd.jupyter.widget-view+json": {
       "model_id": "",
       "version_major": 2,
       "version_minor": 0
      },
      "text/plain": [
       "  0%|          | 0/4001 [00:00<?, ?it/s]"
      ]
     },
     "metadata": {},
     "output_type": "display_data"
    },
    {
     "data": {
      "application/vnd.jupyter.widget-view+json": {
       "model_id": "",
       "version_major": 2,
       "version_minor": 0
      },
      "text/plain": [
       "  0%|          | 0/4001 [00:00<?, ?it/s]"
      ]
     },
     "metadata": {},
     "output_type": "display_data"
    },
    {
     "data": {
      "application/vnd.jupyter.widget-view+json": {
       "model_id": "",
       "version_major": 2,
       "version_minor": 0
      },
      "text/plain": [
       "  0%|          | 0/4001 [00:00<?, ?it/s]"
      ]
     },
     "metadata": {},
     "output_type": "display_data"
    },
    {
     "data": {
      "application/vnd.jupyter.widget-view+json": {
       "model_id": "",
       "version_major": 2,
       "version_minor": 0
      },
      "text/plain": [
       "  0%|          | 0/4001 [00:00<?, ?it/s]"
      ]
     },
     "metadata": {},
     "output_type": "display_data"
    },
    {
     "data": {
      "application/vnd.jupyter.widget-view+json": {
       "model_id": "",
       "version_major": 2,
       "version_minor": 0
      },
      "text/plain": [
       "  0%|          | 0/4001 [00:00<?, ?it/s]"
      ]
     },
     "metadata": {},
     "output_type": "display_data"
    },
    {
     "data": {
      "application/vnd.jupyter.widget-view+json": {
       "model_id": "",
       "version_major": 2,
       "version_minor": 0
      },
      "text/plain": [
       "  0%|          | 0/4001 [00:00<?, ?it/s]"
      ]
     },
     "metadata": {},
     "output_type": "display_data"
    },
    {
     "data": {
      "application/vnd.jupyter.widget-view+json": {
       "model_id": "",
       "version_major": 2,
       "version_minor": 0
      },
      "text/plain": [
       "  0%|          | 0/4001 [00:00<?, ?it/s]"
      ]
     },
     "metadata": {},
     "output_type": "display_data"
    },
    {
     "data": {
      "application/vnd.jupyter.widget-view+json": {
       "model_id": "",
       "version_major": 2,
       "version_minor": 0
      },
      "text/plain": [
       "  0%|          | 0/4001 [00:00<?, ?it/s]"
      ]
     },
     "metadata": {},
     "output_type": "display_data"
    },
    {
     "data": {
      "application/vnd.jupyter.widget-view+json": {
       "model_id": "",
       "version_major": 2,
       "version_minor": 0
      },
      "text/plain": [
       "  0%|          | 0/4001 [00:00<?, ?it/s]"
      ]
     },
     "metadata": {},
     "output_type": "display_data"
    },
    {
     "data": {
      "application/vnd.jupyter.widget-view+json": {
       "model_id": "",
       "version_major": 2,
       "version_minor": 0
      },
      "text/plain": [
       "  0%|          | 0/4001 [00:00<?, ?it/s]"
      ]
     },
     "metadata": {},
     "output_type": "display_data"
    },
    {
     "data": {
      "application/vnd.jupyter.widget-view+json": {
       "model_id": "",
       "version_major": 2,
       "version_minor": 0
      },
      "text/plain": [
       "  0%|          | 0/4001 [00:00<?, ?it/s]"
      ]
     },
     "metadata": {},
     "output_type": "display_data"
    },
    {
     "data": {
      "application/vnd.jupyter.widget-view+json": {
       "model_id": "",
       "version_major": 2,
       "version_minor": 0
      },
      "text/plain": [
       "  0%|          | 0/4001 [00:00<?, ?it/s]"
      ]
     },
     "metadata": {},
     "output_type": "display_data"
    },
    {
     "data": {
      "application/vnd.jupyter.widget-view+json": {
       "model_id": "",
       "version_major": 2,
       "version_minor": 0
      },
      "text/plain": [
       "  0%|          | 0/4001 [00:00<?, ?it/s]"
      ]
     },
     "metadata": {},
     "output_type": "display_data"
    },
    {
     "data": {
      "application/vnd.jupyter.widget-view+json": {
       "model_id": "",
       "version_major": 2,
       "version_minor": 0
      },
      "text/plain": [
       "  0%|          | 0/4001 [00:00<?, ?it/s]"
      ]
     },
     "metadata": {},
     "output_type": "display_data"
    },
    {
     "data": {
      "application/vnd.jupyter.widget-view+json": {
       "model_id": "",
       "version_major": 2,
       "version_minor": 0
      },
      "text/plain": [
       "  0%|          | 0/4001 [00:00<?, ?it/s]"
      ]
     },
     "metadata": {},
     "output_type": "display_data"
    },
    {
     "data": {
      "application/vnd.jupyter.widget-view+json": {
       "model_id": "",
       "version_major": 2,
       "version_minor": 0
      },
      "text/plain": [
       "  0%|          | 0/4001 [00:00<?, ?it/s]"
      ]
     },
     "metadata": {},
     "output_type": "display_data"
    },
    {
     "data": {
      "application/vnd.jupyter.widget-view+json": {
       "model_id": "",
       "version_major": 2,
       "version_minor": 0
      },
      "text/plain": [
       "  0%|          | 0/4001 [00:00<?, ?it/s]"
      ]
     },
     "metadata": {},
     "output_type": "display_data"
    },
    {
     "data": {
      "application/vnd.jupyter.widget-view+json": {
       "model_id": "",
       "version_major": 2,
       "version_minor": 0
      },
      "text/plain": [
       "  0%|          | 0/4001 [00:00<?, ?it/s]"
      ]
     },
     "metadata": {},
     "output_type": "display_data"
    },
    {
     "data": {
      "application/vnd.jupyter.widget-view+json": {
       "model_id": "",
       "version_major": 2,
       "version_minor": 0
      },
      "text/plain": [
       "  0%|          | 0/4001 [00:00<?, ?it/s]"
      ]
     },
     "metadata": {},
     "output_type": "display_data"
    },
    {
     "data": {
      "application/vnd.jupyter.widget-view+json": {
       "model_id": "",
       "version_major": 2,
       "version_minor": 0
      },
      "text/plain": [
       "  0%|          | 0/4001 [00:00<?, ?it/s]"
      ]
     },
     "metadata": {},
     "output_type": "display_data"
    },
    {
     "data": {
      "application/vnd.jupyter.widget-view+json": {
       "model_id": "",
       "version_major": 2,
       "version_minor": 0
      },
      "text/plain": [
       "  0%|          | 0/4001 [00:00<?, ?it/s]"
      ]
     },
     "metadata": {},
     "output_type": "display_data"
    },
    {
     "data": {
      "application/vnd.jupyter.widget-view+json": {
       "model_id": "",
       "version_major": 2,
       "version_minor": 0
      },
      "text/plain": [
       "  0%|          | 0/4001 [00:00<?, ?it/s]"
      ]
     },
     "metadata": {},
     "output_type": "display_data"
    },
    {
     "data": {
      "application/vnd.jupyter.widget-view+json": {
       "model_id": "",
       "version_major": 2,
       "version_minor": 0
      },
      "text/plain": [
       "  0%|          | 0/4001 [00:00<?, ?it/s]"
      ]
     },
     "metadata": {},
     "output_type": "display_data"
    },
    {
     "data": {
      "application/vnd.jupyter.widget-view+json": {
       "model_id": "",
       "version_major": 2,
       "version_minor": 0
      },
      "text/plain": [
       "  0%|          | 0/4001 [00:00<?, ?it/s]"
      ]
     },
     "metadata": {},
     "output_type": "display_data"
    },
    {
     "data": {
      "application/vnd.jupyter.widget-view+json": {
       "model_id": "",
       "version_major": 2,
       "version_minor": 0
      },
      "text/plain": [
       "  0%|          | 0/4001 [00:00<?, ?it/s]"
      ]
     },
     "metadata": {},
     "output_type": "display_data"
    },
    {
     "data": {
      "application/vnd.jupyter.widget-view+json": {
       "model_id": "",
       "version_major": 2,
       "version_minor": 0
      },
      "text/plain": [
       "  0%|          | 0/4001 [00:00<?, ?it/s]"
      ]
     },
     "metadata": {},
     "output_type": "display_data"
    },
    {
     "data": {
      "application/vnd.jupyter.widget-view+json": {
       "model_id": "",
       "version_major": 2,
       "version_minor": 0
      },
      "text/plain": [
       "  0%|          | 0/4001 [00:00<?, ?it/s]"
      ]
     },
     "metadata": {},
     "output_type": "display_data"
    },
    {
     "data": {
      "application/vnd.jupyter.widget-view+json": {
       "model_id": "",
       "version_major": 2,
       "version_minor": 0
      },
      "text/plain": [
       "  0%|          | 0/4001 [00:00<?, ?it/s]"
      ]
     },
     "metadata": {},
     "output_type": "display_data"
    },
    {
     "data": {
      "application/vnd.jupyter.widget-view+json": {
       "model_id": "",
       "version_major": 2,
       "version_minor": 0
      },
      "text/plain": [
       "  0%|          | 0/4001 [00:00<?, ?it/s]"
      ]
     },
     "metadata": {},
     "output_type": "display_data"
    },
    {
     "data": {
      "application/vnd.jupyter.widget-view+json": {
       "model_id": "",
       "version_major": 2,
       "version_minor": 0
      },
      "text/plain": [
       "  0%|          | 0/4001 [00:00<?, ?it/s]"
      ]
     },
     "metadata": {},
     "output_type": "display_data"
    },
    {
     "data": {
      "application/vnd.jupyter.widget-view+json": {
       "model_id": "",
       "version_major": 2,
       "version_minor": 0
      },
      "text/plain": [
       "  0%|          | 0/4001 [00:00<?, ?it/s]"
      ]
     },
     "metadata": {},
     "output_type": "display_data"
    },
    {
     "data": {
      "application/vnd.jupyter.widget-view+json": {
       "model_id": "",
       "version_major": 2,
       "version_minor": 0
      },
      "text/plain": [
       "  0%|          | 0/4001 [00:00<?, ?it/s]"
      ]
     },
     "metadata": {},
     "output_type": "display_data"
    },
    {
     "data": {
      "application/vnd.jupyter.widget-view+json": {
       "model_id": "",
       "version_major": 2,
       "version_minor": 0
      },
      "text/plain": [
       "  0%|          | 0/4001 [00:00<?, ?it/s]"
      ]
     },
     "metadata": {},
     "output_type": "display_data"
    },
    {
     "data": {
      "application/vnd.jupyter.widget-view+json": {
       "model_id": "",
       "version_major": 2,
       "version_minor": 0
      },
      "text/plain": [
       "  0%|          | 0/4001 [00:00<?, ?it/s]"
      ]
     },
     "metadata": {},
     "output_type": "display_data"
    },
    {
     "data": {
      "application/vnd.jupyter.widget-view+json": {
       "model_id": "",
       "version_major": 2,
       "version_minor": 0
      },
      "text/plain": [
       "  0%|          | 0/4001 [00:00<?, ?it/s]"
      ]
     },
     "metadata": {},
     "output_type": "display_data"
    },
    {
     "data": {
      "application/vnd.jupyter.widget-view+json": {
       "model_id": "",
       "version_major": 2,
       "version_minor": 0
      },
      "text/plain": [
       "  0%|          | 0/4001 [00:00<?, ?it/s]"
      ]
     },
     "metadata": {},
     "output_type": "display_data"
    },
    {
     "data": {
      "application/vnd.jupyter.widget-view+json": {
       "model_id": "",
       "version_major": 2,
       "version_minor": 0
      },
      "text/plain": [
       "  0%|          | 0/4001 [00:00<?, ?it/s]"
      ]
     },
     "metadata": {},
     "output_type": "display_data"
    },
    {
     "data": {
      "application/vnd.jupyter.widget-view+json": {
       "model_id": "",
       "version_major": 2,
       "version_minor": 0
      },
      "text/plain": [
       "  0%|          | 0/4001 [00:00<?, ?it/s]"
      ]
     },
     "metadata": {},
     "output_type": "display_data"
    },
    {
     "data": {
      "application/vnd.jupyter.widget-view+json": {
       "model_id": "",
       "version_major": 2,
       "version_minor": 0
      },
      "text/plain": [
       "  0%|          | 0/4001 [00:00<?, ?it/s]"
      ]
     },
     "metadata": {},
     "output_type": "display_data"
    },
    {
     "data": {
      "application/vnd.jupyter.widget-view+json": {
       "model_id": "",
       "version_major": 2,
       "version_minor": 0
      },
      "text/plain": [
       "  0%|          | 0/4001 [00:00<?, ?it/s]"
      ]
     },
     "metadata": {},
     "output_type": "display_data"
    },
    {
     "data": {
      "application/vnd.jupyter.widget-view+json": {
       "model_id": "",
       "version_major": 2,
       "version_minor": 0
      },
      "text/plain": [
       "  0%|          | 0/4001 [00:00<?, ?it/s]"
      ]
     },
     "metadata": {},
     "output_type": "display_data"
    },
    {
     "data": {
      "application/vnd.jupyter.widget-view+json": {
       "model_id": "",
       "version_major": 2,
       "version_minor": 0
      },
      "text/plain": [
       "  0%|          | 0/4001 [00:00<?, ?it/s]"
      ]
     },
     "metadata": {},
     "output_type": "display_data"
    },
    {
     "data": {
      "application/vnd.jupyter.widget-view+json": {
       "model_id": "",
       "version_major": 2,
       "version_minor": 0
      },
      "text/plain": [
       "  0%|          | 0/4001 [00:00<?, ?it/s]"
      ]
     },
     "metadata": {},
     "output_type": "display_data"
    },
    {
     "data": {
      "application/vnd.jupyter.widget-view+json": {
       "model_id": "",
       "version_major": 2,
       "version_minor": 0
      },
      "text/plain": [
       "  0%|          | 0/4001 [00:00<?, ?it/s]"
      ]
     },
     "metadata": {},
     "output_type": "display_data"
    },
    {
     "data": {
      "application/vnd.jupyter.widget-view+json": {
       "model_id": "",
       "version_major": 2,
       "version_minor": 0
      },
      "text/plain": [
       "  0%|          | 0/4001 [00:00<?, ?it/s]"
      ]
     },
     "metadata": {},
     "output_type": "display_data"
    },
    {
     "data": {
      "application/vnd.jupyter.widget-view+json": {
       "model_id": "",
       "version_major": 2,
       "version_minor": 0
      },
      "text/plain": [
       "  0%|          | 0/4001 [00:00<?, ?it/s]"
      ]
     },
     "metadata": {},
     "output_type": "display_data"
    },
    {
     "data": {
      "application/vnd.jupyter.widget-view+json": {
       "model_id": "",
       "version_major": 2,
       "version_minor": 0
      },
      "text/plain": [
       "  0%|          | 0/4001 [00:00<?, ?it/s]"
      ]
     },
     "metadata": {},
     "output_type": "display_data"
    },
    {
     "data": {
      "application/vnd.jupyter.widget-view+json": {
       "model_id": "",
       "version_major": 2,
       "version_minor": 0
      },
      "text/plain": [
       "  0%|          | 0/4001 [00:00<?, ?it/s]"
      ]
     },
     "metadata": {},
     "output_type": "display_data"
    },
    {
     "data": {
      "application/vnd.jupyter.widget-view+json": {
       "model_id": "",
       "version_major": 2,
       "version_minor": 0
      },
      "text/plain": [
       "  0%|          | 0/4001 [00:00<?, ?it/s]"
      ]
     },
     "metadata": {},
     "output_type": "display_data"
    },
    {
     "data": {
      "application/vnd.jupyter.widget-view+json": {
       "model_id": "",
       "version_major": 2,
       "version_minor": 0
      },
      "text/plain": [
       "  0%|          | 0/4001 [00:00<?, ?it/s]"
      ]
     },
     "metadata": {},
     "output_type": "display_data"
    },
    {
     "data": {
      "application/vnd.jupyter.widget-view+json": {
       "model_id": "",
       "version_major": 2,
       "version_minor": 0
      },
      "text/plain": [
       "  0%|          | 0/4001 [00:00<?, ?it/s]"
      ]
     },
     "metadata": {},
     "output_type": "display_data"
    },
    {
     "data": {
      "application/vnd.jupyter.widget-view+json": {
       "model_id": "",
       "version_major": 2,
       "version_minor": 0
      },
      "text/plain": [
       "  0%|          | 0/4001 [00:00<?, ?it/s]"
      ]
     },
     "metadata": {},
     "output_type": "display_data"
    },
    {
     "data": {
      "application/vnd.jupyter.widget-view+json": {
       "model_id": "",
       "version_major": 2,
       "version_minor": 0
      },
      "text/plain": [
       "  0%|          | 0/4001 [00:00<?, ?it/s]"
      ]
     },
     "metadata": {},
     "output_type": "display_data"
    },
    {
     "data": {
      "application/vnd.jupyter.widget-view+json": {
       "model_id": "",
       "version_major": 2,
       "version_minor": 0
      },
      "text/plain": [
       "  0%|          | 0/4001 [00:00<?, ?it/s]"
      ]
     },
     "metadata": {},
     "output_type": "display_data"
    },
    {
     "data": {
      "application/vnd.jupyter.widget-view+json": {
       "model_id": "",
       "version_major": 2,
       "version_minor": 0
      },
      "text/plain": [
       "  0%|          | 0/4001 [00:00<?, ?it/s]"
      ]
     },
     "metadata": {},
     "output_type": "display_data"
    },
    {
     "data": {
      "application/vnd.jupyter.widget-view+json": {
       "model_id": "",
       "version_major": 2,
       "version_minor": 0
      },
      "text/plain": [
       "  0%|          | 0/4001 [00:00<?, ?it/s]"
      ]
     },
     "metadata": {},
     "output_type": "display_data"
    },
    {
     "data": {
      "application/vnd.jupyter.widget-view+json": {
       "model_id": "",
       "version_major": 2,
       "version_minor": 0
      },
      "text/plain": [
       "  0%|          | 0/4001 [00:00<?, ?it/s]"
      ]
     },
     "metadata": {},
     "output_type": "display_data"
    },
    {
     "data": {
      "application/vnd.jupyter.widget-view+json": {
       "model_id": "",
       "version_major": 2,
       "version_minor": 0
      },
      "text/plain": [
       "  0%|          | 0/4001 [00:00<?, ?it/s]"
      ]
     },
     "metadata": {},
     "output_type": "display_data"
    },
    {
     "data": {
      "application/vnd.jupyter.widget-view+json": {
       "model_id": "",
       "version_major": 2,
       "version_minor": 0
      },
      "text/plain": [
       "  0%|          | 0/4001 [00:00<?, ?it/s]"
      ]
     },
     "metadata": {},
     "output_type": "display_data"
    },
    {
     "data": {
      "application/vnd.jupyter.widget-view+json": {
       "model_id": "",
       "version_major": 2,
       "version_minor": 0
      },
      "text/plain": [
       "  0%|          | 0/4001 [00:00<?, ?it/s]"
      ]
     },
     "metadata": {},
     "output_type": "display_data"
    },
    {
     "data": {
      "application/vnd.jupyter.widget-view+json": {
       "model_id": "",
       "version_major": 2,
       "version_minor": 0
      },
      "text/plain": [
       "  0%|          | 0/4001 [00:00<?, ?it/s]"
      ]
     },
     "metadata": {},
     "output_type": "display_data"
    },
    {
     "data": {
      "application/vnd.jupyter.widget-view+json": {
       "model_id": "",
       "version_major": 2,
       "version_minor": 0
      },
      "text/plain": [
       "  0%|          | 0/4001 [00:00<?, ?it/s]"
      ]
     },
     "metadata": {},
     "output_type": "display_data"
    },
    {
     "data": {
      "application/vnd.jupyter.widget-view+json": {
       "model_id": "",
       "version_major": 2,
       "version_minor": 0
      },
      "text/plain": [
       "  0%|          | 0/4001 [00:00<?, ?it/s]"
      ]
     },
     "metadata": {},
     "output_type": "display_data"
    },
    {
     "data": {
      "application/vnd.jupyter.widget-view+json": {
       "model_id": "",
       "version_major": 2,
       "version_minor": 0
      },
      "text/plain": [
       "  0%|          | 0/4001 [00:00<?, ?it/s]"
      ]
     },
     "metadata": {},
     "output_type": "display_data"
    },
    {
     "data": {
      "application/vnd.jupyter.widget-view+json": {
       "model_id": "",
       "version_major": 2,
       "version_minor": 0
      },
      "text/plain": [
       "  0%|          | 0/4001 [00:00<?, ?it/s]"
      ]
     },
     "metadata": {},
     "output_type": "display_data"
    },
    {
     "data": {
      "application/vnd.jupyter.widget-view+json": {
       "model_id": "",
       "version_major": 2,
       "version_minor": 0
      },
      "text/plain": [
       "  0%|          | 0/4001 [00:00<?, ?it/s]"
      ]
     },
     "metadata": {},
     "output_type": "display_data"
    },
    {
     "data": {
      "application/vnd.jupyter.widget-view+json": {
       "model_id": "",
       "version_major": 2,
       "version_minor": 0
      },
      "text/plain": [
       "  0%|          | 0/4001 [00:00<?, ?it/s]"
      ]
     },
     "metadata": {},
     "output_type": "display_data"
    },
    {
     "data": {
      "application/vnd.jupyter.widget-view+json": {
       "model_id": "",
       "version_major": 2,
       "version_minor": 0
      },
      "text/plain": [
       "  0%|          | 0/4001 [00:00<?, ?it/s]"
      ]
     },
     "metadata": {},
     "output_type": "display_data"
    },
    {
     "data": {
      "application/vnd.jupyter.widget-view+json": {
       "model_id": "",
       "version_major": 2,
       "version_minor": 0
      },
      "text/plain": [
       "  0%|          | 0/4001 [00:00<?, ?it/s]"
      ]
     },
     "metadata": {},
     "output_type": "display_data"
    },
    {
     "data": {
      "application/vnd.jupyter.widget-view+json": {
       "model_id": "",
       "version_major": 2,
       "version_minor": 0
      },
      "text/plain": [
       "  0%|          | 0/4001 [00:00<?, ?it/s]"
      ]
     },
     "metadata": {},
     "output_type": "display_data"
    },
    {
     "data": {
      "application/vnd.jupyter.widget-view+json": {
       "model_id": "",
       "version_major": 2,
       "version_minor": 0
      },
      "text/plain": [
       "  0%|          | 0/4001 [00:00<?, ?it/s]"
      ]
     },
     "metadata": {},
     "output_type": "display_data"
    },
    {
     "data": {
      "application/vnd.jupyter.widget-view+json": {
       "model_id": "",
       "version_major": 2,
       "version_minor": 0
      },
      "text/plain": [
       "  0%|          | 0/4001 [00:00<?, ?it/s]"
      ]
     },
     "metadata": {},
     "output_type": "display_data"
    },
    {
     "data": {
      "application/vnd.jupyter.widget-view+json": {
       "model_id": "",
       "version_major": 2,
       "version_minor": 0
      },
      "text/plain": [
       "  0%|          | 0/4001 [00:00<?, ?it/s]"
      ]
     },
     "metadata": {},
     "output_type": "display_data"
    },
    {
     "data": {
      "application/vnd.jupyter.widget-view+json": {
       "model_id": "",
       "version_major": 2,
       "version_minor": 0
      },
      "text/plain": [
       "  0%|          | 0/4001 [00:00<?, ?it/s]"
      ]
     },
     "metadata": {},
     "output_type": "display_data"
    },
    {
     "data": {
      "application/vnd.jupyter.widget-view+json": {
       "model_id": "",
       "version_major": 2,
       "version_minor": 0
      },
      "text/plain": [
       "  0%|          | 0/4001 [00:00<?, ?it/s]"
      ]
     },
     "metadata": {},
     "output_type": "display_data"
    },
    {
     "data": {
      "application/vnd.jupyter.widget-view+json": {
       "model_id": "",
       "version_major": 2,
       "version_minor": 0
      },
      "text/plain": [
       "  0%|          | 0/4001 [00:00<?, ?it/s]"
      ]
     },
     "metadata": {},
     "output_type": "display_data"
    },
    {
     "data": {
      "application/vnd.jupyter.widget-view+json": {
       "model_id": "",
       "version_major": 2,
       "version_minor": 0
      },
      "text/plain": [
       "  0%|          | 0/4001 [00:00<?, ?it/s]"
      ]
     },
     "metadata": {},
     "output_type": "display_data"
    },
    {
     "data": {
      "application/vnd.jupyter.widget-view+json": {
       "model_id": "",
       "version_major": 2,
       "version_minor": 0
      },
      "text/plain": [
       "  0%|          | 0/4001 [00:00<?, ?it/s]"
      ]
     },
     "metadata": {},
     "output_type": "display_data"
    },
    {
     "data": {
      "application/vnd.jupyter.widget-view+json": {
       "model_id": "",
       "version_major": 2,
       "version_minor": 0
      },
      "text/plain": [
       "  0%|          | 0/4001 [00:00<?, ?it/s]"
      ]
     },
     "metadata": {},
     "output_type": "display_data"
    },
    {
     "data": {
      "application/vnd.jupyter.widget-view+json": {
       "model_id": "",
       "version_major": 2,
       "version_minor": 0
      },
      "text/plain": [
       "  0%|          | 0/4001 [00:00<?, ?it/s]"
      ]
     },
     "metadata": {},
     "output_type": "display_data"
    },
    {
     "data": {
      "application/vnd.jupyter.widget-view+json": {
       "model_id": "",
       "version_major": 2,
       "version_minor": 0
      },
      "text/plain": [
       "  0%|          | 0/4001 [00:00<?, ?it/s]"
      ]
     },
     "metadata": {},
     "output_type": "display_data"
    },
    {
     "data": {
      "application/vnd.jupyter.widget-view+json": {
       "model_id": "",
       "version_major": 2,
       "version_minor": 0
      },
      "text/plain": [
       "  0%|          | 0/4001 [00:00<?, ?it/s]"
      ]
     },
     "metadata": {},
     "output_type": "display_data"
    },
    {
     "data": {
      "application/vnd.jupyter.widget-view+json": {
       "model_id": "",
       "version_major": 2,
       "version_minor": 0
      },
      "text/plain": [
       "  0%|          | 0/4001 [00:00<?, ?it/s]"
      ]
     },
     "metadata": {},
     "output_type": "display_data"
    },
    {
     "data": {
      "application/vnd.jupyter.widget-view+json": {
       "model_id": "",
       "version_major": 2,
       "version_minor": 0
      },
      "text/plain": [
       "  0%|          | 0/4001 [00:00<?, ?it/s]"
      ]
     },
     "metadata": {},
     "output_type": "display_data"
    },
    {
     "data": {
      "application/vnd.jupyter.widget-view+json": {
       "model_id": "",
       "version_major": 2,
       "version_minor": 0
      },
      "text/plain": [
       "  0%|          | 0/4001 [00:00<?, ?it/s]"
      ]
     },
     "metadata": {},
     "output_type": "display_data"
    },
    {
     "data": {
      "application/vnd.jupyter.widget-view+json": {
       "model_id": "",
       "version_major": 2,
       "version_minor": 0
      },
      "text/plain": [
       "  0%|          | 0/4001 [00:00<?, ?it/s]"
      ]
     },
     "metadata": {},
     "output_type": "display_data"
    },
    {
     "data": {
      "application/vnd.jupyter.widget-view+json": {
       "model_id": "",
       "version_major": 2,
       "version_minor": 0
      },
      "text/plain": [
       "  0%|          | 0/4001 [00:00<?, ?it/s]"
      ]
     },
     "metadata": {},
     "output_type": "display_data"
    },
    {
     "data": {
      "application/vnd.jupyter.widget-view+json": {
       "model_id": "",
       "version_major": 2,
       "version_minor": 0
      },
      "text/plain": [
       "  0%|          | 0/4001 [00:00<?, ?it/s]"
      ]
     },
     "metadata": {},
     "output_type": "display_data"
    },
    {
     "data": {
      "application/vnd.jupyter.widget-view+json": {
       "model_id": "",
       "version_major": 2,
       "version_minor": 0
      },
      "text/plain": [
       "  0%|          | 0/4001 [00:00<?, ?it/s]"
      ]
     },
     "metadata": {},
     "output_type": "display_data"
    },
    {
     "data": {
      "application/vnd.jupyter.widget-view+json": {
       "model_id": "",
       "version_major": 2,
       "version_minor": 0
      },
      "text/plain": [
       "  0%|          | 0/4001 [00:00<?, ?it/s]"
      ]
     },
     "metadata": {},
     "output_type": "display_data"
    },
    {
     "data": {
      "application/vnd.jupyter.widget-view+json": {
       "model_id": "",
       "version_major": 2,
       "version_minor": 0
      },
      "text/plain": [
       "  0%|          | 0/4001 [00:00<?, ?it/s]"
      ]
     },
     "metadata": {},
     "output_type": "display_data"
    },
    {
     "data": {
      "application/vnd.jupyter.widget-view+json": {
       "model_id": "",
       "version_major": 2,
       "version_minor": 0
      },
      "text/plain": [
       "  0%|          | 0/4001 [00:00<?, ?it/s]"
      ]
     },
     "metadata": {},
     "output_type": "display_data"
    },
    {
     "data": {
      "application/vnd.jupyter.widget-view+json": {
       "model_id": "",
       "version_major": 2,
       "version_minor": 0
      },
      "text/plain": [
       "  0%|          | 0/4001 [00:00<?, ?it/s]"
      ]
     },
     "metadata": {},
     "output_type": "display_data"
    },
    {
     "data": {
      "application/vnd.jupyter.widget-view+json": {
       "model_id": "",
       "version_major": 2,
       "version_minor": 0
      },
      "text/plain": [
       "  0%|          | 0/4001 [00:00<?, ?it/s]"
      ]
     },
     "metadata": {},
     "output_type": "display_data"
    },
    {
     "data": {
      "application/vnd.jupyter.widget-view+json": {
       "model_id": "",
       "version_major": 2,
       "version_minor": 0
      },
      "text/plain": [
       "  0%|          | 0/4001 [00:00<?, ?it/s]"
      ]
     },
     "metadata": {},
     "output_type": "display_data"
    },
    {
     "data": {
      "application/vnd.jupyter.widget-view+json": {
       "model_id": "",
       "version_major": 2,
       "version_minor": 0
      },
      "text/plain": [
       "  0%|          | 0/4001 [00:00<?, ?it/s]"
      ]
     },
     "metadata": {},
     "output_type": "display_data"
    },
    {
     "data": {
      "application/vnd.jupyter.widget-view+json": {
       "model_id": "",
       "version_major": 2,
       "version_minor": 0
      },
      "text/plain": [
       "  0%|          | 0/4001 [00:00<?, ?it/s]"
      ]
     },
     "metadata": {},
     "output_type": "display_data"
    },
    {
     "data": {
      "application/vnd.jupyter.widget-view+json": {
       "model_id": "",
       "version_major": 2,
       "version_minor": 0
      },
      "text/plain": [
       "  0%|          | 0/4001 [00:00<?, ?it/s]"
      ]
     },
     "metadata": {},
     "output_type": "display_data"
    },
    {
     "data": {
      "application/vnd.jupyter.widget-view+json": {
       "model_id": "",
       "version_major": 2,
       "version_minor": 0
      },
      "text/plain": [
       "  0%|          | 0/4001 [00:00<?, ?it/s]"
      ]
     },
     "metadata": {},
     "output_type": "display_data"
    },
    {
     "data": {
      "application/vnd.jupyter.widget-view+json": {
       "model_id": "",
       "version_major": 2,
       "version_minor": 0
      },
      "text/plain": [
       "  0%|          | 0/4001 [00:00<?, ?it/s]"
      ]
     },
     "metadata": {},
     "output_type": "display_data"
    },
    {
     "data": {
      "application/vnd.jupyter.widget-view+json": {
       "model_id": "",
       "version_major": 2,
       "version_minor": 0
      },
      "text/plain": [
       "  0%|          | 0/4001 [00:00<?, ?it/s]"
      ]
     },
     "metadata": {},
     "output_type": "display_data"
    },
    {
     "data": {
      "application/vnd.jupyter.widget-view+json": {
       "model_id": "",
       "version_major": 2,
       "version_minor": 0
      },
      "text/plain": [
       "  0%|          | 0/4001 [00:00<?, ?it/s]"
      ]
     },
     "metadata": {},
     "output_type": "display_data"
    },
    {
     "data": {
      "application/vnd.jupyter.widget-view+json": {
       "model_id": "",
       "version_major": 2,
       "version_minor": 0
      },
      "text/plain": [
       "  0%|          | 0/4001 [00:00<?, ?it/s]"
      ]
     },
     "metadata": {},
     "output_type": "display_data"
    },
    {
     "data": {
      "application/vnd.jupyter.widget-view+json": {
       "model_id": "",
       "version_major": 2,
       "version_minor": 0
      },
      "text/plain": [
       "  0%|          | 0/4001 [00:00<?, ?it/s]"
      ]
     },
     "metadata": {},
     "output_type": "display_data"
    },
    {
     "data": {
      "application/vnd.jupyter.widget-view+json": {
       "model_id": "",
       "version_major": 2,
       "version_minor": 0
      },
      "text/plain": [
       "  0%|          | 0/4001 [00:00<?, ?it/s]"
      ]
     },
     "metadata": {},
     "output_type": "display_data"
    },
    {
     "data": {
      "application/vnd.jupyter.widget-view+json": {
       "model_id": "",
       "version_major": 2,
       "version_minor": 0
      },
      "text/plain": [
       "  0%|          | 0/4001 [00:00<?, ?it/s]"
      ]
     },
     "metadata": {},
     "output_type": "display_data"
    },
    {
     "data": {
      "application/vnd.jupyter.widget-view+json": {
       "model_id": "",
       "version_major": 2,
       "version_minor": 0
      },
      "text/plain": [
       "  0%|          | 0/4001 [00:00<?, ?it/s]"
      ]
     },
     "metadata": {},
     "output_type": "display_data"
    },
    {
     "data": {
      "application/vnd.jupyter.widget-view+json": {
       "model_id": "",
       "version_major": 2,
       "version_minor": 0
      },
      "text/plain": [
       "  0%|          | 0/4001 [00:00<?, ?it/s]"
      ]
     },
     "metadata": {},
     "output_type": "display_data"
    },
    {
     "data": {
      "application/vnd.jupyter.widget-view+json": {
       "model_id": "",
       "version_major": 2,
       "version_minor": 0
      },
      "text/plain": [
       "  0%|          | 0/4001 [00:00<?, ?it/s]"
      ]
     },
     "metadata": {},
     "output_type": "display_data"
    },
    {
     "data": {
      "application/vnd.jupyter.widget-view+json": {
       "model_id": "",
       "version_major": 2,
       "version_minor": 0
      },
      "text/plain": [
       "  0%|          | 0/4001 [00:00<?, ?it/s]"
      ]
     },
     "metadata": {},
     "output_type": "display_data"
    },
    {
     "data": {
      "application/vnd.jupyter.widget-view+json": {
       "model_id": "",
       "version_major": 2,
       "version_minor": 0
      },
      "text/plain": [
       "  0%|          | 0/4001 [00:00<?, ?it/s]"
      ]
     },
     "metadata": {},
     "output_type": "display_data"
    },
    {
     "data": {
      "application/vnd.jupyter.widget-view+json": {
       "model_id": "",
       "version_major": 2,
       "version_minor": 0
      },
      "text/plain": [
       "  0%|          | 0/4001 [00:00<?, ?it/s]"
      ]
     },
     "metadata": {},
     "output_type": "display_data"
    },
    {
     "data": {
      "application/vnd.jupyter.widget-view+json": {
       "model_id": "",
       "version_major": 2,
       "version_minor": 0
      },
      "text/plain": [
       "  0%|          | 0/4001 [00:00<?, ?it/s]"
      ]
     },
     "metadata": {},
     "output_type": "display_data"
    },
    {
     "data": {
      "application/vnd.jupyter.widget-view+json": {
       "model_id": "",
       "version_major": 2,
       "version_minor": 0
      },
      "text/plain": [
       "  0%|          | 0/4001 [00:00<?, ?it/s]"
      ]
     },
     "metadata": {},
     "output_type": "display_data"
    },
    {
     "data": {
      "application/vnd.jupyter.widget-view+json": {
       "model_id": "",
       "version_major": 2,
       "version_minor": 0
      },
      "text/plain": [
       "  0%|          | 0/4001 [00:00<?, ?it/s]"
      ]
     },
     "metadata": {},
     "output_type": "display_data"
    },
    {
     "data": {
      "application/vnd.jupyter.widget-view+json": {
       "model_id": "",
       "version_major": 2,
       "version_minor": 0
      },
      "text/plain": [
       "  0%|          | 0/4001 [00:00<?, ?it/s]"
      ]
     },
     "metadata": {},
     "output_type": "display_data"
    },
    {
     "data": {
      "application/vnd.jupyter.widget-view+json": {
       "model_id": "",
       "version_major": 2,
       "version_minor": 0
      },
      "text/plain": [
       "  0%|          | 0/4001 [00:00<?, ?it/s]"
      ]
     },
     "metadata": {},
     "output_type": "display_data"
    },
    {
     "data": {
      "application/vnd.jupyter.widget-view+json": {
       "model_id": "",
       "version_major": 2,
       "version_minor": 0
      },
      "text/plain": [
       "  0%|          | 0/4001 [00:00<?, ?it/s]"
      ]
     },
     "metadata": {},
     "output_type": "display_data"
    },
    {
     "data": {
      "application/vnd.jupyter.widget-view+json": {
       "model_id": "",
       "version_major": 2,
       "version_minor": 0
      },
      "text/plain": [
       "  0%|          | 0/4001 [00:00<?, ?it/s]"
      ]
     },
     "metadata": {},
     "output_type": "display_data"
    },
    {
     "data": {
      "application/vnd.jupyter.widget-view+json": {
       "model_id": "",
       "version_major": 2,
       "version_minor": 0
      },
      "text/plain": [
       "  0%|          | 0/4001 [00:00<?, ?it/s]"
      ]
     },
     "metadata": {},
     "output_type": "display_data"
    },
    {
     "data": {
      "application/vnd.jupyter.widget-view+json": {
       "model_id": "",
       "version_major": 2,
       "version_minor": 0
      },
      "text/plain": [
       "  0%|          | 0/4001 [00:00<?, ?it/s]"
      ]
     },
     "metadata": {},
     "output_type": "display_data"
    },
    {
     "data": {
      "application/vnd.jupyter.widget-view+json": {
       "model_id": "",
       "version_major": 2,
       "version_minor": 0
      },
      "text/plain": [
       "  0%|          | 0/4001 [00:00<?, ?it/s]"
      ]
     },
     "metadata": {},
     "output_type": "display_data"
    },
    {
     "data": {
      "application/vnd.jupyter.widget-view+json": {
       "model_id": "",
       "version_major": 2,
       "version_minor": 0
      },
      "text/plain": [
       "  0%|          | 0/4001 [00:00<?, ?it/s]"
      ]
     },
     "metadata": {},
     "output_type": "display_data"
    },
    {
     "data": {
      "application/vnd.jupyter.widget-view+json": {
       "model_id": "",
       "version_major": 2,
       "version_minor": 0
      },
      "text/plain": [
       "  0%|          | 0/4001 [00:00<?, ?it/s]"
      ]
     },
     "metadata": {},
     "output_type": "display_data"
    },
    {
     "data": {
      "application/vnd.jupyter.widget-view+json": {
       "model_id": "",
       "version_major": 2,
       "version_minor": 0
      },
      "text/plain": [
       "  0%|          | 0/4001 [00:00<?, ?it/s]"
      ]
     },
     "metadata": {},
     "output_type": "display_data"
    },
    {
     "data": {
      "application/vnd.jupyter.widget-view+json": {
       "model_id": "",
       "version_major": 2,
       "version_minor": 0
      },
      "text/plain": [
       "  0%|          | 0/4001 [00:00<?, ?it/s]"
      ]
     },
     "metadata": {},
     "output_type": "display_data"
    },
    {
     "data": {
      "application/vnd.jupyter.widget-view+json": {
       "model_id": "",
       "version_major": 2,
       "version_minor": 0
      },
      "text/plain": [
       "  0%|          | 0/4001 [00:00<?, ?it/s]"
      ]
     },
     "metadata": {},
     "output_type": "display_data"
    },
    {
     "data": {
      "application/vnd.jupyter.widget-view+json": {
       "model_id": "",
       "version_major": 2,
       "version_minor": 0
      },
      "text/plain": [
       "  0%|          | 0/4001 [00:00<?, ?it/s]"
      ]
     },
     "metadata": {},
     "output_type": "display_data"
    },
    {
     "data": {
      "application/vnd.jupyter.widget-view+json": {
       "model_id": "",
       "version_major": 2,
       "version_minor": 0
      },
      "text/plain": [
       "  0%|          | 0/4001 [00:00<?, ?it/s]"
      ]
     },
     "metadata": {},
     "output_type": "display_data"
    },
    {
     "data": {
      "application/vnd.jupyter.widget-view+json": {
       "model_id": "",
       "version_major": 2,
       "version_minor": 0
      },
      "text/plain": [
       "  0%|          | 0/4001 [00:00<?, ?it/s]"
      ]
     },
     "metadata": {},
     "output_type": "display_data"
    },
    {
     "data": {
      "application/vnd.jupyter.widget-view+json": {
       "model_id": "",
       "version_major": 2,
       "version_minor": 0
      },
      "text/plain": [
       "  0%|          | 0/4001 [00:00<?, ?it/s]"
      ]
     },
     "metadata": {},
     "output_type": "display_data"
    },
    {
     "data": {
      "application/vnd.jupyter.widget-view+json": {
       "model_id": "",
       "version_major": 2,
       "version_minor": 0
      },
      "text/plain": [
       "  0%|          | 0/4001 [00:00<?, ?it/s]"
      ]
     },
     "metadata": {},
     "output_type": "display_data"
    },
    {
     "data": {
      "application/vnd.jupyter.widget-view+json": {
       "model_id": "",
       "version_major": 2,
       "version_minor": 0
      },
      "text/plain": [
       "  0%|          | 0/4001 [00:00<?, ?it/s]"
      ]
     },
     "metadata": {},
     "output_type": "display_data"
    },
    {
     "data": {
      "application/vnd.jupyter.widget-view+json": {
       "model_id": "",
       "version_major": 2,
       "version_minor": 0
      },
      "text/plain": [
       "  0%|          | 0/4001 [00:00<?, ?it/s]"
      ]
     },
     "metadata": {},
     "output_type": "display_data"
    },
    {
     "data": {
      "application/vnd.jupyter.widget-view+json": {
       "model_id": "",
       "version_major": 2,
       "version_minor": 0
      },
      "text/plain": [
       "  0%|          | 0/4001 [00:00<?, ?it/s]"
      ]
     },
     "metadata": {},
     "output_type": "display_data"
    },
    {
     "data": {
      "application/vnd.jupyter.widget-view+json": {
       "model_id": "",
       "version_major": 2,
       "version_minor": 0
      },
      "text/plain": [
       "  0%|          | 0/4001 [00:00<?, ?it/s]"
      ]
     },
     "metadata": {},
     "output_type": "display_data"
    },
    {
     "data": {
      "application/vnd.jupyter.widget-view+json": {
       "model_id": "",
       "version_major": 2,
       "version_minor": 0
      },
      "text/plain": [
       "  0%|          | 0/4001 [00:00<?, ?it/s]"
      ]
     },
     "metadata": {},
     "output_type": "display_data"
    },
    {
     "data": {
      "application/vnd.jupyter.widget-view+json": {
       "model_id": "",
       "version_major": 2,
       "version_minor": 0
      },
      "text/plain": [
       "  0%|          | 0/4001 [00:00<?, ?it/s]"
      ]
     },
     "metadata": {},
     "output_type": "display_data"
    },
    {
     "data": {
      "application/vnd.jupyter.widget-view+json": {
       "model_id": "",
       "version_major": 2,
       "version_minor": 0
      },
      "text/plain": [
       "  0%|          | 0/4001 [00:00<?, ?it/s]"
      ]
     },
     "metadata": {},
     "output_type": "display_data"
    },
    {
     "data": {
      "application/vnd.jupyter.widget-view+json": {
       "model_id": "",
       "version_major": 2,
       "version_minor": 0
      },
      "text/plain": [
       "  0%|          | 0/4001 [00:00<?, ?it/s]"
      ]
     },
     "metadata": {},
     "output_type": "display_data"
    },
    {
     "data": {
      "application/vnd.jupyter.widget-view+json": {
       "model_id": "",
       "version_major": 2,
       "version_minor": 0
      },
      "text/plain": [
       "  0%|          | 0/4001 [00:00<?, ?it/s]"
      ]
     },
     "metadata": {},
     "output_type": "display_data"
    },
    {
     "data": {
      "application/vnd.jupyter.widget-view+json": {
       "model_id": "",
       "version_major": 2,
       "version_minor": 0
      },
      "text/plain": [
       "  0%|          | 0/4001 [00:00<?, ?it/s]"
      ]
     },
     "metadata": {},
     "output_type": "display_data"
    },
    {
     "data": {
      "application/vnd.jupyter.widget-view+json": {
       "model_id": "",
       "version_major": 2,
       "version_minor": 0
      },
      "text/plain": [
       "  0%|          | 0/4001 [00:00<?, ?it/s]"
      ]
     },
     "metadata": {},
     "output_type": "display_data"
    },
    {
     "data": {
      "application/vnd.jupyter.widget-view+json": {
       "model_id": "",
       "version_major": 2,
       "version_minor": 0
      },
      "text/plain": [
       "  0%|          | 0/4001 [00:00<?, ?it/s]"
      ]
     },
     "metadata": {},
     "output_type": "display_data"
    },
    {
     "data": {
      "application/vnd.jupyter.widget-view+json": {
       "model_id": "",
       "version_major": 2,
       "version_minor": 0
      },
      "text/plain": [
       "  0%|          | 0/4001 [00:00<?, ?it/s]"
      ]
     },
     "metadata": {},
     "output_type": "display_data"
    },
    {
     "data": {
      "application/vnd.jupyter.widget-view+json": {
       "model_id": "",
       "version_major": 2,
       "version_minor": 0
      },
      "text/plain": [
       "  0%|          | 0/4001 [00:00<?, ?it/s]"
      ]
     },
     "metadata": {},
     "output_type": "display_data"
    },
    {
     "data": {
      "application/vnd.jupyter.widget-view+json": {
       "model_id": "",
       "version_major": 2,
       "version_minor": 0
      },
      "text/plain": [
       "  0%|          | 0/4001 [00:00<?, ?it/s]"
      ]
     },
     "metadata": {},
     "output_type": "display_data"
    },
    {
     "data": {
      "application/vnd.jupyter.widget-view+json": {
       "model_id": "",
       "version_major": 2,
       "version_minor": 0
      },
      "text/plain": [
       "  0%|          | 0/4001 [00:00<?, ?it/s]"
      ]
     },
     "metadata": {},
     "output_type": "display_data"
    },
    {
     "data": {
      "application/vnd.jupyter.widget-view+json": {
       "model_id": "",
       "version_major": 2,
       "version_minor": 0
      },
      "text/plain": [
       "  0%|          | 0/4001 [00:00<?, ?it/s]"
      ]
     },
     "metadata": {},
     "output_type": "display_data"
    },
    {
     "data": {
      "application/vnd.jupyter.widget-view+json": {
       "model_id": "",
       "version_major": 2,
       "version_minor": 0
      },
      "text/plain": [
       "  0%|          | 0/4001 [00:00<?, ?it/s]"
      ]
     },
     "metadata": {},
     "output_type": "display_data"
    },
    {
     "data": {
      "application/vnd.jupyter.widget-view+json": {
       "model_id": "",
       "version_major": 2,
       "version_minor": 0
      },
      "text/plain": [
       "  0%|          | 0/4001 [00:00<?, ?it/s]"
      ]
     },
     "metadata": {},
     "output_type": "display_data"
    },
    {
     "data": {
      "application/vnd.jupyter.widget-view+json": {
       "model_id": "",
       "version_major": 2,
       "version_minor": 0
      },
      "text/plain": [
       "  0%|          | 0/4001 [00:00<?, ?it/s]"
      ]
     },
     "metadata": {},
     "output_type": "display_data"
    },
    {
     "data": {
      "application/vnd.jupyter.widget-view+json": {
       "model_id": "",
       "version_major": 2,
       "version_minor": 0
      },
      "text/plain": [
       "  0%|          | 0/4001 [00:00<?, ?it/s]"
      ]
     },
     "metadata": {},
     "output_type": "display_data"
    },
    {
     "data": {
      "application/vnd.jupyter.widget-view+json": {
       "model_id": "",
       "version_major": 2,
       "version_minor": 0
      },
      "text/plain": [
       "  0%|          | 0/4001 [00:00<?, ?it/s]"
      ]
     },
     "metadata": {},
     "output_type": "display_data"
    },
    {
     "data": {
      "application/vnd.jupyter.widget-view+json": {
       "model_id": "",
       "version_major": 2,
       "version_minor": 0
      },
      "text/plain": [
       "  0%|          | 0/4001 [00:00<?, ?it/s]"
      ]
     },
     "metadata": {},
     "output_type": "display_data"
    },
    {
     "data": {
      "application/vnd.jupyter.widget-view+json": {
       "model_id": "",
       "version_major": 2,
       "version_minor": 0
      },
      "text/plain": [
       "  0%|          | 0/4001 [00:00<?, ?it/s]"
      ]
     },
     "metadata": {},
     "output_type": "display_data"
    },
    {
     "data": {
      "application/vnd.jupyter.widget-view+json": {
       "model_id": "",
       "version_major": 2,
       "version_minor": 0
      },
      "text/plain": [
       "  0%|          | 0/4001 [00:00<?, ?it/s]"
      ]
     },
     "metadata": {},
     "output_type": "display_data"
    },
    {
     "data": {
      "application/vnd.jupyter.widget-view+json": {
       "model_id": "",
       "version_major": 2,
       "version_minor": 0
      },
      "text/plain": [
       "  0%|          | 0/4001 [00:00<?, ?it/s]"
      ]
     },
     "metadata": {},
     "output_type": "display_data"
    },
    {
     "data": {
      "application/vnd.jupyter.widget-view+json": {
       "model_id": "",
       "version_major": 2,
       "version_minor": 0
      },
      "text/plain": [
       "  0%|          | 0/4001 [00:00<?, ?it/s]"
      ]
     },
     "metadata": {},
     "output_type": "display_data"
    },
    {
     "data": {
      "application/vnd.jupyter.widget-view+json": {
       "model_id": "",
       "version_major": 2,
       "version_minor": 0
      },
      "text/plain": [
       "  0%|          | 0/4001 [00:00<?, ?it/s]"
      ]
     },
     "metadata": {},
     "output_type": "display_data"
    },
    {
     "data": {
      "application/vnd.jupyter.widget-view+json": {
       "model_id": "",
       "version_major": 2,
       "version_minor": 0
      },
      "text/plain": [
       "  0%|          | 0/4001 [00:00<?, ?it/s]"
      ]
     },
     "metadata": {},
     "output_type": "display_data"
    },
    {
     "data": {
      "application/vnd.jupyter.widget-view+json": {
       "model_id": "",
       "version_major": 2,
       "version_minor": 0
      },
      "text/plain": [
       "  0%|          | 0/4001 [00:00<?, ?it/s]"
      ]
     },
     "metadata": {},
     "output_type": "display_data"
    },
    {
     "data": {
      "application/vnd.jupyter.widget-view+json": {
       "model_id": "",
       "version_major": 2,
       "version_minor": 0
      },
      "text/plain": [
       "  0%|          | 0/4001 [00:00<?, ?it/s]"
      ]
     },
     "metadata": {},
     "output_type": "display_data"
    },
    {
     "data": {
      "application/vnd.jupyter.widget-view+json": {
       "model_id": "",
       "version_major": 2,
       "version_minor": 0
      },
      "text/plain": [
       "  0%|          | 0/4001 [00:00<?, ?it/s]"
      ]
     },
     "metadata": {},
     "output_type": "display_data"
    },
    {
     "data": {
      "application/vnd.jupyter.widget-view+json": {
       "model_id": "",
       "version_major": 2,
       "version_minor": 0
      },
      "text/plain": [
       "  0%|          | 0/4001 [00:00<?, ?it/s]"
      ]
     },
     "metadata": {},
     "output_type": "display_data"
    },
    {
     "data": {
      "application/vnd.jupyter.widget-view+json": {
       "model_id": "",
       "version_major": 2,
       "version_minor": 0
      },
      "text/plain": [
       "  0%|          | 0/4001 [00:00<?, ?it/s]"
      ]
     },
     "metadata": {},
     "output_type": "display_data"
    },
    {
     "data": {
      "application/vnd.jupyter.widget-view+json": {
       "model_id": "",
       "version_major": 2,
       "version_minor": 0
      },
      "text/plain": [
       "  0%|          | 0/4001 [00:00<?, ?it/s]"
      ]
     },
     "metadata": {},
     "output_type": "display_data"
    },
    {
     "data": {
      "application/vnd.jupyter.widget-view+json": {
       "model_id": "",
       "version_major": 2,
       "version_minor": 0
      },
      "text/plain": [
       "  0%|          | 0/4001 [00:00<?, ?it/s]"
      ]
     },
     "metadata": {},
     "output_type": "display_data"
    },
    {
     "data": {
      "application/vnd.jupyter.widget-view+json": {
       "model_id": "",
       "version_major": 2,
       "version_minor": 0
      },
      "text/plain": [
       "  0%|          | 0/4001 [00:00<?, ?it/s]"
      ]
     },
     "metadata": {},
     "output_type": "display_data"
    },
    {
     "data": {
      "application/vnd.jupyter.widget-view+json": {
       "model_id": "",
       "version_major": 2,
       "version_minor": 0
      },
      "text/plain": [
       "  0%|          | 0/4001 [00:00<?, ?it/s]"
      ]
     },
     "metadata": {},
     "output_type": "display_data"
    },
    {
     "data": {
      "application/vnd.jupyter.widget-view+json": {
       "model_id": "",
       "version_major": 2,
       "version_minor": 0
      },
      "text/plain": [
       "  0%|          | 0/4001 [00:00<?, ?it/s]"
      ]
     },
     "metadata": {},
     "output_type": "display_data"
    },
    {
     "data": {
      "application/vnd.jupyter.widget-view+json": {
       "model_id": "",
       "version_major": 2,
       "version_minor": 0
      },
      "text/plain": [
       "  0%|          | 0/4001 [00:00<?, ?it/s]"
      ]
     },
     "metadata": {},
     "output_type": "display_data"
    },
    {
     "data": {
      "application/vnd.jupyter.widget-view+json": {
       "model_id": "",
       "version_major": 2,
       "version_minor": 0
      },
      "text/plain": [
       "  0%|          | 0/4001 [00:00<?, ?it/s]"
      ]
     },
     "metadata": {},
     "output_type": "display_data"
    },
    {
     "data": {
      "application/vnd.jupyter.widget-view+json": {
       "model_id": "",
       "version_major": 2,
       "version_minor": 0
      },
      "text/plain": [
       "  0%|          | 0/4001 [00:00<?, ?it/s]"
      ]
     },
     "metadata": {},
     "output_type": "display_data"
    },
    {
     "data": {
      "application/vnd.jupyter.widget-view+json": {
       "model_id": "",
       "version_major": 2,
       "version_minor": 0
      },
      "text/plain": [
       "  0%|          | 0/4001 [00:00<?, ?it/s]"
      ]
     },
     "metadata": {},
     "output_type": "display_data"
    },
    {
     "data": {
      "application/vnd.jupyter.widget-view+json": {
       "model_id": "",
       "version_major": 2,
       "version_minor": 0
      },
      "text/plain": [
       "  0%|          | 0/4001 [00:00<?, ?it/s]"
      ]
     },
     "metadata": {},
     "output_type": "display_data"
    },
    {
     "data": {
      "application/vnd.jupyter.widget-view+json": {
       "model_id": "",
       "version_major": 2,
       "version_minor": 0
      },
      "text/plain": [
       "  0%|          | 0/4001 [00:00<?, ?it/s]"
      ]
     },
     "metadata": {},
     "output_type": "display_data"
    },
    {
     "data": {
      "application/vnd.jupyter.widget-view+json": {
       "model_id": "",
       "version_major": 2,
       "version_minor": 0
      },
      "text/plain": [
       "  0%|          | 0/4001 [00:00<?, ?it/s]"
      ]
     },
     "metadata": {},
     "output_type": "display_data"
    },
    {
     "data": {
      "application/vnd.jupyter.widget-view+json": {
       "model_id": "",
       "version_major": 2,
       "version_minor": 0
      },
      "text/plain": [
       "  0%|          | 0/4001 [00:00<?, ?it/s]"
      ]
     },
     "metadata": {},
     "output_type": "display_data"
    },
    {
     "data": {
      "application/vnd.jupyter.widget-view+json": {
       "model_id": "",
       "version_major": 2,
       "version_minor": 0
      },
      "text/plain": [
       "  0%|          | 0/4001 [00:00<?, ?it/s]"
      ]
     },
     "metadata": {},
     "output_type": "display_data"
    },
    {
     "data": {
      "application/vnd.jupyter.widget-view+json": {
       "model_id": "",
       "version_major": 2,
       "version_minor": 0
      },
      "text/plain": [
       "  0%|          | 0/4001 [00:00<?, ?it/s]"
      ]
     },
     "metadata": {},
     "output_type": "display_data"
    },
    {
     "data": {
      "application/vnd.jupyter.widget-view+json": {
       "model_id": "",
       "version_major": 2,
       "version_minor": 0
      },
      "text/plain": [
       "  0%|          | 0/4001 [00:00<?, ?it/s]"
      ]
     },
     "metadata": {},
     "output_type": "display_data"
    },
    {
     "data": {
      "application/vnd.jupyter.widget-view+json": {
       "model_id": "",
       "version_major": 2,
       "version_minor": 0
      },
      "text/plain": [
       "  0%|          | 0/4001 [00:00<?, ?it/s]"
      ]
     },
     "metadata": {},
     "output_type": "display_data"
    },
    {
     "data": {
      "application/vnd.jupyter.widget-view+json": {
       "model_id": "",
       "version_major": 2,
       "version_minor": 0
      },
      "text/plain": [
       "  0%|          | 0/4001 [00:00<?, ?it/s]"
      ]
     },
     "metadata": {},
     "output_type": "display_data"
    },
    {
     "data": {
      "application/vnd.jupyter.widget-view+json": {
       "model_id": "",
       "version_major": 2,
       "version_minor": 0
      },
      "text/plain": [
       "  0%|          | 0/4001 [00:00<?, ?it/s]"
      ]
     },
     "metadata": {},
     "output_type": "display_data"
    }
   ],
   "source": [
    "for i_v in trange(len(vectors)):\n",
    "    wiki_bench[i_v]['cos_sim']=np.zeros(len(wikivecs))\n",
    "    for i_w, wikivec in enumerate(tqdm(wikivecs, leave=False)):\n",
    "        wiki_bench[i_v]['cos_sim'][i_w]=float(util.cos_sim(wikivec, vectors[i_v]['vector']))"
   ]
  },
  {
   "cell_type": "code",
   "execution_count": 51,
   "id": "b3376c84",
   "metadata": {
    "ExecuteTime": {
     "end_time": "2025-06-17T11:14:18.551828Z",
     "start_time": "2025-06-17T11:14:18.403016Z"
    },
    "hidden": true
   },
   "outputs": [],
   "source": [
    "with open('./NewProcessedData/wiki_benchmark.pickle', 'wb') as f:\n",
    "    pickle.dump(wiki_bench, f)"
   ]
  },
  {
   "cell_type": "markdown",
   "id": "cd24ae3e",
   "metadata": {},
   "source": [
    "## Creating the benchmark, at the sector level _[DO NOT EVALUATE IT AGAIN!!!]_"
   ]
  },
  {
   "cell_type": "code",
   "execution_count": 130,
   "id": "2f8107b1",
   "metadata": {
    "ExecuteTime": {
     "end_time": "2025-06-18T07:15:06.188296Z",
     "start_time": "2025-06-18T07:15:06.182170Z"
    }
   },
   "outputs": [],
   "source": [
    "wiki_bench_per_sector=np.zeros(l_aggr_rep, dtype=[('cos_sim', object)])"
   ]
  },
  {
   "cell_type": "code",
   "execution_count": 131,
   "id": "454e8dc9",
   "metadata": {
    "ExecuteTime": {
     "end_time": "2025-06-18T07:17:12.190610Z",
     "start_time": "2025-06-18T07:15:06.932121Z"
    }
   },
   "outputs": [
    {
     "data": {
      "application/vnd.jupyter.widget-view+json": {
       "model_id": "9b05083462224020a9ad72fdc926ef1b",
       "version_major": 2,
       "version_minor": 0
      },
      "text/plain": [
       "  0%|          | 0/96 [00:00<?, ?it/s]"
      ]
     },
     "metadata": {},
     "output_type": "display_data"
    },
    {
     "data": {
      "application/vnd.jupyter.widget-view+json": {
       "model_id": "",
       "version_major": 2,
       "version_minor": 0
      },
      "text/plain": [
       "  0%|          | 0/4001 [00:00<?, ?it/s]"
      ]
     },
     "metadata": {},
     "output_type": "display_data"
    },
    {
     "data": {
      "application/vnd.jupyter.widget-view+json": {
       "model_id": "",
       "version_major": 2,
       "version_minor": 0
      },
      "text/plain": [
       "  0%|          | 0/4001 [00:00<?, ?it/s]"
      ]
     },
     "metadata": {},
     "output_type": "display_data"
    },
    {
     "data": {
      "application/vnd.jupyter.widget-view+json": {
       "model_id": "",
       "version_major": 2,
       "version_minor": 0
      },
      "text/plain": [
       "  0%|          | 0/4001 [00:00<?, ?it/s]"
      ]
     },
     "metadata": {},
     "output_type": "display_data"
    },
    {
     "data": {
      "application/vnd.jupyter.widget-view+json": {
       "model_id": "",
       "version_major": 2,
       "version_minor": 0
      },
      "text/plain": [
       "  0%|          | 0/4001 [00:00<?, ?it/s]"
      ]
     },
     "metadata": {},
     "output_type": "display_data"
    },
    {
     "data": {
      "application/vnd.jupyter.widget-view+json": {
       "model_id": "",
       "version_major": 2,
       "version_minor": 0
      },
      "text/plain": [
       "  0%|          | 0/4001 [00:00<?, ?it/s]"
      ]
     },
     "metadata": {},
     "output_type": "display_data"
    },
    {
     "data": {
      "application/vnd.jupyter.widget-view+json": {
       "model_id": "",
       "version_major": 2,
       "version_minor": 0
      },
      "text/plain": [
       "  0%|          | 0/4001 [00:00<?, ?it/s]"
      ]
     },
     "metadata": {},
     "output_type": "display_data"
    },
    {
     "data": {
      "application/vnd.jupyter.widget-view+json": {
       "model_id": "",
       "version_major": 2,
       "version_minor": 0
      },
      "text/plain": [
       "  0%|          | 0/4001 [00:00<?, ?it/s]"
      ]
     },
     "metadata": {},
     "output_type": "display_data"
    },
    {
     "data": {
      "application/vnd.jupyter.widget-view+json": {
       "model_id": "",
       "version_major": 2,
       "version_minor": 0
      },
      "text/plain": [
       "  0%|          | 0/4001 [00:00<?, ?it/s]"
      ]
     },
     "metadata": {},
     "output_type": "display_data"
    },
    {
     "data": {
      "application/vnd.jupyter.widget-view+json": {
       "model_id": "",
       "version_major": 2,
       "version_minor": 0
      },
      "text/plain": [
       "  0%|          | 0/4001 [00:00<?, ?it/s]"
      ]
     },
     "metadata": {},
     "output_type": "display_data"
    },
    {
     "data": {
      "application/vnd.jupyter.widget-view+json": {
       "model_id": "",
       "version_major": 2,
       "version_minor": 0
      },
      "text/plain": [
       "  0%|          | 0/4001 [00:00<?, ?it/s]"
      ]
     },
     "metadata": {},
     "output_type": "display_data"
    },
    {
     "data": {
      "application/vnd.jupyter.widget-view+json": {
       "model_id": "",
       "version_major": 2,
       "version_minor": 0
      },
      "text/plain": [
       "  0%|          | 0/4001 [00:00<?, ?it/s]"
      ]
     },
     "metadata": {},
     "output_type": "display_data"
    },
    {
     "data": {
      "application/vnd.jupyter.widget-view+json": {
       "model_id": "",
       "version_major": 2,
       "version_minor": 0
      },
      "text/plain": [
       "  0%|          | 0/4001 [00:00<?, ?it/s]"
      ]
     },
     "metadata": {},
     "output_type": "display_data"
    },
    {
     "data": {
      "application/vnd.jupyter.widget-view+json": {
       "model_id": "",
       "version_major": 2,
       "version_minor": 0
      },
      "text/plain": [
       "  0%|          | 0/4001 [00:00<?, ?it/s]"
      ]
     },
     "metadata": {},
     "output_type": "display_data"
    },
    {
     "data": {
      "application/vnd.jupyter.widget-view+json": {
       "model_id": "",
       "version_major": 2,
       "version_minor": 0
      },
      "text/plain": [
       "  0%|          | 0/4001 [00:00<?, ?it/s]"
      ]
     },
     "metadata": {},
     "output_type": "display_data"
    },
    {
     "data": {
      "application/vnd.jupyter.widget-view+json": {
       "model_id": "",
       "version_major": 2,
       "version_minor": 0
      },
      "text/plain": [
       "  0%|          | 0/4001 [00:00<?, ?it/s]"
      ]
     },
     "metadata": {},
     "output_type": "display_data"
    },
    {
     "data": {
      "application/vnd.jupyter.widget-view+json": {
       "model_id": "",
       "version_major": 2,
       "version_minor": 0
      },
      "text/plain": [
       "  0%|          | 0/4001 [00:00<?, ?it/s]"
      ]
     },
     "metadata": {},
     "output_type": "display_data"
    },
    {
     "data": {
      "application/vnd.jupyter.widget-view+json": {
       "model_id": "",
       "version_major": 2,
       "version_minor": 0
      },
      "text/plain": [
       "  0%|          | 0/4001 [00:00<?, ?it/s]"
      ]
     },
     "metadata": {},
     "output_type": "display_data"
    },
    {
     "data": {
      "application/vnd.jupyter.widget-view+json": {
       "model_id": "",
       "version_major": 2,
       "version_minor": 0
      },
      "text/plain": [
       "  0%|          | 0/4001 [00:00<?, ?it/s]"
      ]
     },
     "metadata": {},
     "output_type": "display_data"
    },
    {
     "data": {
      "application/vnd.jupyter.widget-view+json": {
       "model_id": "",
       "version_major": 2,
       "version_minor": 0
      },
      "text/plain": [
       "  0%|          | 0/4001 [00:00<?, ?it/s]"
      ]
     },
     "metadata": {},
     "output_type": "display_data"
    },
    {
     "data": {
      "application/vnd.jupyter.widget-view+json": {
       "model_id": "",
       "version_major": 2,
       "version_minor": 0
      },
      "text/plain": [
       "  0%|          | 0/4001 [00:00<?, ?it/s]"
      ]
     },
     "metadata": {},
     "output_type": "display_data"
    },
    {
     "data": {
      "application/vnd.jupyter.widget-view+json": {
       "model_id": "",
       "version_major": 2,
       "version_minor": 0
      },
      "text/plain": [
       "  0%|          | 0/4001 [00:00<?, ?it/s]"
      ]
     },
     "metadata": {},
     "output_type": "display_data"
    },
    {
     "data": {
      "application/vnd.jupyter.widget-view+json": {
       "model_id": "",
       "version_major": 2,
       "version_minor": 0
      },
      "text/plain": [
       "  0%|          | 0/4001 [00:00<?, ?it/s]"
      ]
     },
     "metadata": {},
     "output_type": "display_data"
    },
    {
     "data": {
      "application/vnd.jupyter.widget-view+json": {
       "model_id": "",
       "version_major": 2,
       "version_minor": 0
      },
      "text/plain": [
       "  0%|          | 0/4001 [00:00<?, ?it/s]"
      ]
     },
     "metadata": {},
     "output_type": "display_data"
    },
    {
     "data": {
      "application/vnd.jupyter.widget-view+json": {
       "model_id": "",
       "version_major": 2,
       "version_minor": 0
      },
      "text/plain": [
       "  0%|          | 0/4001 [00:00<?, ?it/s]"
      ]
     },
     "metadata": {},
     "output_type": "display_data"
    },
    {
     "data": {
      "application/vnd.jupyter.widget-view+json": {
       "model_id": "",
       "version_major": 2,
       "version_minor": 0
      },
      "text/plain": [
       "  0%|          | 0/4001 [00:00<?, ?it/s]"
      ]
     },
     "metadata": {},
     "output_type": "display_data"
    },
    {
     "data": {
      "application/vnd.jupyter.widget-view+json": {
       "model_id": "",
       "version_major": 2,
       "version_minor": 0
      },
      "text/plain": [
       "  0%|          | 0/4001 [00:00<?, ?it/s]"
      ]
     },
     "metadata": {},
     "output_type": "display_data"
    },
    {
     "data": {
      "application/vnd.jupyter.widget-view+json": {
       "model_id": "",
       "version_major": 2,
       "version_minor": 0
      },
      "text/plain": [
       "  0%|          | 0/4001 [00:00<?, ?it/s]"
      ]
     },
     "metadata": {},
     "output_type": "display_data"
    },
    {
     "data": {
      "application/vnd.jupyter.widget-view+json": {
       "model_id": "",
       "version_major": 2,
       "version_minor": 0
      },
      "text/plain": [
       "  0%|          | 0/4001 [00:00<?, ?it/s]"
      ]
     },
     "metadata": {},
     "output_type": "display_data"
    },
    {
     "data": {
      "application/vnd.jupyter.widget-view+json": {
       "model_id": "",
       "version_major": 2,
       "version_minor": 0
      },
      "text/plain": [
       "  0%|          | 0/4001 [00:00<?, ?it/s]"
      ]
     },
     "metadata": {},
     "output_type": "display_data"
    },
    {
     "data": {
      "application/vnd.jupyter.widget-view+json": {
       "model_id": "",
       "version_major": 2,
       "version_minor": 0
      },
      "text/plain": [
       "  0%|          | 0/4001 [00:00<?, ?it/s]"
      ]
     },
     "metadata": {},
     "output_type": "display_data"
    },
    {
     "data": {
      "application/vnd.jupyter.widget-view+json": {
       "model_id": "",
       "version_major": 2,
       "version_minor": 0
      },
      "text/plain": [
       "  0%|          | 0/4001 [00:00<?, ?it/s]"
      ]
     },
     "metadata": {},
     "output_type": "display_data"
    },
    {
     "data": {
      "application/vnd.jupyter.widget-view+json": {
       "model_id": "",
       "version_major": 2,
       "version_minor": 0
      },
      "text/plain": [
       "  0%|          | 0/4001 [00:00<?, ?it/s]"
      ]
     },
     "metadata": {},
     "output_type": "display_data"
    },
    {
     "data": {
      "application/vnd.jupyter.widget-view+json": {
       "model_id": "",
       "version_major": 2,
       "version_minor": 0
      },
      "text/plain": [
       "  0%|          | 0/4001 [00:00<?, ?it/s]"
      ]
     },
     "metadata": {},
     "output_type": "display_data"
    },
    {
     "data": {
      "application/vnd.jupyter.widget-view+json": {
       "model_id": "",
       "version_major": 2,
       "version_minor": 0
      },
      "text/plain": [
       "  0%|          | 0/4001 [00:00<?, ?it/s]"
      ]
     },
     "metadata": {},
     "output_type": "display_data"
    },
    {
     "data": {
      "application/vnd.jupyter.widget-view+json": {
       "model_id": "",
       "version_major": 2,
       "version_minor": 0
      },
      "text/plain": [
       "  0%|          | 0/4001 [00:00<?, ?it/s]"
      ]
     },
     "metadata": {},
     "output_type": "display_data"
    },
    {
     "data": {
      "application/vnd.jupyter.widget-view+json": {
       "model_id": "",
       "version_major": 2,
       "version_minor": 0
      },
      "text/plain": [
       "  0%|          | 0/4001 [00:00<?, ?it/s]"
      ]
     },
     "metadata": {},
     "output_type": "display_data"
    },
    {
     "data": {
      "application/vnd.jupyter.widget-view+json": {
       "model_id": "",
       "version_major": 2,
       "version_minor": 0
      },
      "text/plain": [
       "  0%|          | 0/4001 [00:00<?, ?it/s]"
      ]
     },
     "metadata": {},
     "output_type": "display_data"
    },
    {
     "data": {
      "application/vnd.jupyter.widget-view+json": {
       "model_id": "",
       "version_major": 2,
       "version_minor": 0
      },
      "text/plain": [
       "  0%|          | 0/4001 [00:00<?, ?it/s]"
      ]
     },
     "metadata": {},
     "output_type": "display_data"
    },
    {
     "data": {
      "application/vnd.jupyter.widget-view+json": {
       "model_id": "",
       "version_major": 2,
       "version_minor": 0
      },
      "text/plain": [
       "  0%|          | 0/4001 [00:00<?, ?it/s]"
      ]
     },
     "metadata": {},
     "output_type": "display_data"
    },
    {
     "data": {
      "application/vnd.jupyter.widget-view+json": {
       "model_id": "",
       "version_major": 2,
       "version_minor": 0
      },
      "text/plain": [
       "  0%|          | 0/4001 [00:00<?, ?it/s]"
      ]
     },
     "metadata": {},
     "output_type": "display_data"
    },
    {
     "data": {
      "application/vnd.jupyter.widget-view+json": {
       "model_id": "",
       "version_major": 2,
       "version_minor": 0
      },
      "text/plain": [
       "  0%|          | 0/4001 [00:00<?, ?it/s]"
      ]
     },
     "metadata": {},
     "output_type": "display_data"
    },
    {
     "data": {
      "application/vnd.jupyter.widget-view+json": {
       "model_id": "",
       "version_major": 2,
       "version_minor": 0
      },
      "text/plain": [
       "  0%|          | 0/4001 [00:00<?, ?it/s]"
      ]
     },
     "metadata": {},
     "output_type": "display_data"
    },
    {
     "data": {
      "application/vnd.jupyter.widget-view+json": {
       "model_id": "",
       "version_major": 2,
       "version_minor": 0
      },
      "text/plain": [
       "  0%|          | 0/4001 [00:00<?, ?it/s]"
      ]
     },
     "metadata": {},
     "output_type": "display_data"
    },
    {
     "data": {
      "application/vnd.jupyter.widget-view+json": {
       "model_id": "",
       "version_major": 2,
       "version_minor": 0
      },
      "text/plain": [
       "  0%|          | 0/4001 [00:00<?, ?it/s]"
      ]
     },
     "metadata": {},
     "output_type": "display_data"
    },
    {
     "data": {
      "application/vnd.jupyter.widget-view+json": {
       "model_id": "",
       "version_major": 2,
       "version_minor": 0
      },
      "text/plain": [
       "  0%|          | 0/4001 [00:00<?, ?it/s]"
      ]
     },
     "metadata": {},
     "output_type": "display_data"
    },
    {
     "data": {
      "application/vnd.jupyter.widget-view+json": {
       "model_id": "",
       "version_major": 2,
       "version_minor": 0
      },
      "text/plain": [
       "  0%|          | 0/4001 [00:00<?, ?it/s]"
      ]
     },
     "metadata": {},
     "output_type": "display_data"
    },
    {
     "data": {
      "application/vnd.jupyter.widget-view+json": {
       "model_id": "",
       "version_major": 2,
       "version_minor": 0
      },
      "text/plain": [
       "  0%|          | 0/4001 [00:00<?, ?it/s]"
      ]
     },
     "metadata": {},
     "output_type": "display_data"
    },
    {
     "data": {
      "application/vnd.jupyter.widget-view+json": {
       "model_id": "",
       "version_major": 2,
       "version_minor": 0
      },
      "text/plain": [
       "  0%|          | 0/4001 [00:00<?, ?it/s]"
      ]
     },
     "metadata": {},
     "output_type": "display_data"
    },
    {
     "data": {
      "application/vnd.jupyter.widget-view+json": {
       "model_id": "",
       "version_major": 2,
       "version_minor": 0
      },
      "text/plain": [
       "  0%|          | 0/4001 [00:00<?, ?it/s]"
      ]
     },
     "metadata": {},
     "output_type": "display_data"
    },
    {
     "data": {
      "application/vnd.jupyter.widget-view+json": {
       "model_id": "",
       "version_major": 2,
       "version_minor": 0
      },
      "text/plain": [
       "  0%|          | 0/4001 [00:00<?, ?it/s]"
      ]
     },
     "metadata": {},
     "output_type": "display_data"
    },
    {
     "data": {
      "application/vnd.jupyter.widget-view+json": {
       "model_id": "",
       "version_major": 2,
       "version_minor": 0
      },
      "text/plain": [
       "  0%|          | 0/4001 [00:00<?, ?it/s]"
      ]
     },
     "metadata": {},
     "output_type": "display_data"
    },
    {
     "data": {
      "application/vnd.jupyter.widget-view+json": {
       "model_id": "",
       "version_major": 2,
       "version_minor": 0
      },
      "text/plain": [
       "  0%|          | 0/4001 [00:00<?, ?it/s]"
      ]
     },
     "metadata": {},
     "output_type": "display_data"
    },
    {
     "data": {
      "application/vnd.jupyter.widget-view+json": {
       "model_id": "",
       "version_major": 2,
       "version_minor": 0
      },
      "text/plain": [
       "  0%|          | 0/4001 [00:00<?, ?it/s]"
      ]
     },
     "metadata": {},
     "output_type": "display_data"
    },
    {
     "data": {
      "application/vnd.jupyter.widget-view+json": {
       "model_id": "",
       "version_major": 2,
       "version_minor": 0
      },
      "text/plain": [
       "  0%|          | 0/4001 [00:00<?, ?it/s]"
      ]
     },
     "metadata": {},
     "output_type": "display_data"
    },
    {
     "data": {
      "application/vnd.jupyter.widget-view+json": {
       "model_id": "",
       "version_major": 2,
       "version_minor": 0
      },
      "text/plain": [
       "  0%|          | 0/4001 [00:00<?, ?it/s]"
      ]
     },
     "metadata": {},
     "output_type": "display_data"
    },
    {
     "data": {
      "application/vnd.jupyter.widget-view+json": {
       "model_id": "",
       "version_major": 2,
       "version_minor": 0
      },
      "text/plain": [
       "  0%|          | 0/4001 [00:00<?, ?it/s]"
      ]
     },
     "metadata": {},
     "output_type": "display_data"
    },
    {
     "data": {
      "application/vnd.jupyter.widget-view+json": {
       "model_id": "",
       "version_major": 2,
       "version_minor": 0
      },
      "text/plain": [
       "  0%|          | 0/4001 [00:00<?, ?it/s]"
      ]
     },
     "metadata": {},
     "output_type": "display_data"
    },
    {
     "data": {
      "application/vnd.jupyter.widget-view+json": {
       "model_id": "",
       "version_major": 2,
       "version_minor": 0
      },
      "text/plain": [
       "  0%|          | 0/4001 [00:00<?, ?it/s]"
      ]
     },
     "metadata": {},
     "output_type": "display_data"
    },
    {
     "data": {
      "application/vnd.jupyter.widget-view+json": {
       "model_id": "",
       "version_major": 2,
       "version_minor": 0
      },
      "text/plain": [
       "  0%|          | 0/4001 [00:00<?, ?it/s]"
      ]
     },
     "metadata": {},
     "output_type": "display_data"
    },
    {
     "data": {
      "application/vnd.jupyter.widget-view+json": {
       "model_id": "",
       "version_major": 2,
       "version_minor": 0
      },
      "text/plain": [
       "  0%|          | 0/4001 [00:00<?, ?it/s]"
      ]
     },
     "metadata": {},
     "output_type": "display_data"
    },
    {
     "data": {
      "application/vnd.jupyter.widget-view+json": {
       "model_id": "",
       "version_major": 2,
       "version_minor": 0
      },
      "text/plain": [
       "  0%|          | 0/4001 [00:00<?, ?it/s]"
      ]
     },
     "metadata": {},
     "output_type": "display_data"
    },
    {
     "data": {
      "application/vnd.jupyter.widget-view+json": {
       "model_id": "",
       "version_major": 2,
       "version_minor": 0
      },
      "text/plain": [
       "  0%|          | 0/4001 [00:00<?, ?it/s]"
      ]
     },
     "metadata": {},
     "output_type": "display_data"
    },
    {
     "data": {
      "application/vnd.jupyter.widget-view+json": {
       "model_id": "",
       "version_major": 2,
       "version_minor": 0
      },
      "text/plain": [
       "  0%|          | 0/4001 [00:00<?, ?it/s]"
      ]
     },
     "metadata": {},
     "output_type": "display_data"
    },
    {
     "data": {
      "application/vnd.jupyter.widget-view+json": {
       "model_id": "",
       "version_major": 2,
       "version_minor": 0
      },
      "text/plain": [
       "  0%|          | 0/4001 [00:00<?, ?it/s]"
      ]
     },
     "metadata": {},
     "output_type": "display_data"
    },
    {
     "data": {
      "application/vnd.jupyter.widget-view+json": {
       "model_id": "",
       "version_major": 2,
       "version_minor": 0
      },
      "text/plain": [
       "  0%|          | 0/4001 [00:00<?, ?it/s]"
      ]
     },
     "metadata": {},
     "output_type": "display_data"
    },
    {
     "data": {
      "application/vnd.jupyter.widget-view+json": {
       "model_id": "",
       "version_major": 2,
       "version_minor": 0
      },
      "text/plain": [
       "  0%|          | 0/4001 [00:00<?, ?it/s]"
      ]
     },
     "metadata": {},
     "output_type": "display_data"
    },
    {
     "data": {
      "application/vnd.jupyter.widget-view+json": {
       "model_id": "",
       "version_major": 2,
       "version_minor": 0
      },
      "text/plain": [
       "  0%|          | 0/4001 [00:00<?, ?it/s]"
      ]
     },
     "metadata": {},
     "output_type": "display_data"
    },
    {
     "data": {
      "application/vnd.jupyter.widget-view+json": {
       "model_id": "",
       "version_major": 2,
       "version_minor": 0
      },
      "text/plain": [
       "  0%|          | 0/4001 [00:00<?, ?it/s]"
      ]
     },
     "metadata": {},
     "output_type": "display_data"
    },
    {
     "data": {
      "application/vnd.jupyter.widget-view+json": {
       "model_id": "",
       "version_major": 2,
       "version_minor": 0
      },
      "text/plain": [
       "  0%|          | 0/4001 [00:00<?, ?it/s]"
      ]
     },
     "metadata": {},
     "output_type": "display_data"
    },
    {
     "data": {
      "application/vnd.jupyter.widget-view+json": {
       "model_id": "",
       "version_major": 2,
       "version_minor": 0
      },
      "text/plain": [
       "  0%|          | 0/4001 [00:00<?, ?it/s]"
      ]
     },
     "metadata": {},
     "output_type": "display_data"
    },
    {
     "data": {
      "application/vnd.jupyter.widget-view+json": {
       "model_id": "",
       "version_major": 2,
       "version_minor": 0
      },
      "text/plain": [
       "  0%|          | 0/4001 [00:00<?, ?it/s]"
      ]
     },
     "metadata": {},
     "output_type": "display_data"
    },
    {
     "data": {
      "application/vnd.jupyter.widget-view+json": {
       "model_id": "",
       "version_major": 2,
       "version_minor": 0
      },
      "text/plain": [
       "  0%|          | 0/4001 [00:00<?, ?it/s]"
      ]
     },
     "metadata": {},
     "output_type": "display_data"
    },
    {
     "data": {
      "application/vnd.jupyter.widget-view+json": {
       "model_id": "",
       "version_major": 2,
       "version_minor": 0
      },
      "text/plain": [
       "  0%|          | 0/4001 [00:00<?, ?it/s]"
      ]
     },
     "metadata": {},
     "output_type": "display_data"
    },
    {
     "data": {
      "application/vnd.jupyter.widget-view+json": {
       "model_id": "",
       "version_major": 2,
       "version_minor": 0
      },
      "text/plain": [
       "  0%|          | 0/4001 [00:00<?, ?it/s]"
      ]
     },
     "metadata": {},
     "output_type": "display_data"
    },
    {
     "data": {
      "application/vnd.jupyter.widget-view+json": {
       "model_id": "",
       "version_major": 2,
       "version_minor": 0
      },
      "text/plain": [
       "  0%|          | 0/4001 [00:00<?, ?it/s]"
      ]
     },
     "metadata": {},
     "output_type": "display_data"
    },
    {
     "data": {
      "application/vnd.jupyter.widget-view+json": {
       "model_id": "",
       "version_major": 2,
       "version_minor": 0
      },
      "text/plain": [
       "  0%|          | 0/4001 [00:00<?, ?it/s]"
      ]
     },
     "metadata": {},
     "output_type": "display_data"
    },
    {
     "data": {
      "application/vnd.jupyter.widget-view+json": {
       "model_id": "",
       "version_major": 2,
       "version_minor": 0
      },
      "text/plain": [
       "  0%|          | 0/4001 [00:00<?, ?it/s]"
      ]
     },
     "metadata": {},
     "output_type": "display_data"
    },
    {
     "data": {
      "application/vnd.jupyter.widget-view+json": {
       "model_id": "",
       "version_major": 2,
       "version_minor": 0
      },
      "text/plain": [
       "  0%|          | 0/4001 [00:00<?, ?it/s]"
      ]
     },
     "metadata": {},
     "output_type": "display_data"
    },
    {
     "data": {
      "application/vnd.jupyter.widget-view+json": {
       "model_id": "",
       "version_major": 2,
       "version_minor": 0
      },
      "text/plain": [
       "  0%|          | 0/4001 [00:00<?, ?it/s]"
      ]
     },
     "metadata": {},
     "output_type": "display_data"
    },
    {
     "data": {
      "application/vnd.jupyter.widget-view+json": {
       "model_id": "",
       "version_major": 2,
       "version_minor": 0
      },
      "text/plain": [
       "  0%|          | 0/4001 [00:00<?, ?it/s]"
      ]
     },
     "metadata": {},
     "output_type": "display_data"
    },
    {
     "data": {
      "application/vnd.jupyter.widget-view+json": {
       "model_id": "",
       "version_major": 2,
       "version_minor": 0
      },
      "text/plain": [
       "  0%|          | 0/4001 [00:00<?, ?it/s]"
      ]
     },
     "metadata": {},
     "output_type": "display_data"
    },
    {
     "data": {
      "application/vnd.jupyter.widget-view+json": {
       "model_id": "",
       "version_major": 2,
       "version_minor": 0
      },
      "text/plain": [
       "  0%|          | 0/4001 [00:00<?, ?it/s]"
      ]
     },
     "metadata": {},
     "output_type": "display_data"
    },
    {
     "data": {
      "application/vnd.jupyter.widget-view+json": {
       "model_id": "",
       "version_major": 2,
       "version_minor": 0
      },
      "text/plain": [
       "  0%|          | 0/4001 [00:00<?, ?it/s]"
      ]
     },
     "metadata": {},
     "output_type": "display_data"
    },
    {
     "data": {
      "application/vnd.jupyter.widget-view+json": {
       "model_id": "",
       "version_major": 2,
       "version_minor": 0
      },
      "text/plain": [
       "  0%|          | 0/4001 [00:00<?, ?it/s]"
      ]
     },
     "metadata": {},
     "output_type": "display_data"
    },
    {
     "data": {
      "application/vnd.jupyter.widget-view+json": {
       "model_id": "",
       "version_major": 2,
       "version_minor": 0
      },
      "text/plain": [
       "  0%|          | 0/4001 [00:00<?, ?it/s]"
      ]
     },
     "metadata": {},
     "output_type": "display_data"
    },
    {
     "data": {
      "application/vnd.jupyter.widget-view+json": {
       "model_id": "",
       "version_major": 2,
       "version_minor": 0
      },
      "text/plain": [
       "  0%|          | 0/4001 [00:00<?, ?it/s]"
      ]
     },
     "metadata": {},
     "output_type": "display_data"
    },
    {
     "data": {
      "application/vnd.jupyter.widget-view+json": {
       "model_id": "",
       "version_major": 2,
       "version_minor": 0
      },
      "text/plain": [
       "  0%|          | 0/4001 [00:00<?, ?it/s]"
      ]
     },
     "metadata": {},
     "output_type": "display_data"
    },
    {
     "data": {
      "application/vnd.jupyter.widget-view+json": {
       "model_id": "",
       "version_major": 2,
       "version_minor": 0
      },
      "text/plain": [
       "  0%|          | 0/4001 [00:00<?, ?it/s]"
      ]
     },
     "metadata": {},
     "output_type": "display_data"
    },
    {
     "data": {
      "application/vnd.jupyter.widget-view+json": {
       "model_id": "",
       "version_major": 2,
       "version_minor": 0
      },
      "text/plain": [
       "  0%|          | 0/4001 [00:00<?, ?it/s]"
      ]
     },
     "metadata": {},
     "output_type": "display_data"
    },
    {
     "data": {
      "application/vnd.jupyter.widget-view+json": {
       "model_id": "",
       "version_major": 2,
       "version_minor": 0
      },
      "text/plain": [
       "  0%|          | 0/4001 [00:00<?, ?it/s]"
      ]
     },
     "metadata": {},
     "output_type": "display_data"
    },
    {
     "data": {
      "application/vnd.jupyter.widget-view+json": {
       "model_id": "",
       "version_major": 2,
       "version_minor": 0
      },
      "text/plain": [
       "  0%|          | 0/4001 [00:00<?, ?it/s]"
      ]
     },
     "metadata": {},
     "output_type": "display_data"
    },
    {
     "data": {
      "application/vnd.jupyter.widget-view+json": {
       "model_id": "",
       "version_major": 2,
       "version_minor": 0
      },
      "text/plain": [
       "  0%|          | 0/4001 [00:00<?, ?it/s]"
      ]
     },
     "metadata": {},
     "output_type": "display_data"
    },
    {
     "data": {
      "application/vnd.jupyter.widget-view+json": {
       "model_id": "",
       "version_major": 2,
       "version_minor": 0
      },
      "text/plain": [
       "  0%|          | 0/4001 [00:00<?, ?it/s]"
      ]
     },
     "metadata": {},
     "output_type": "display_data"
    },
    {
     "data": {
      "application/vnd.jupyter.widget-view+json": {
       "model_id": "",
       "version_major": 2,
       "version_minor": 0
      },
      "text/plain": [
       "  0%|          | 0/4001 [00:00<?, ?it/s]"
      ]
     },
     "metadata": {},
     "output_type": "display_data"
    },
    {
     "data": {
      "application/vnd.jupyter.widget-view+json": {
       "model_id": "",
       "version_major": 2,
       "version_minor": 0
      },
      "text/plain": [
       "  0%|          | 0/4001 [00:00<?, ?it/s]"
      ]
     },
     "metadata": {},
     "output_type": "display_data"
    },
    {
     "data": {
      "application/vnd.jupyter.widget-view+json": {
       "model_id": "",
       "version_major": 2,
       "version_minor": 0
      },
      "text/plain": [
       "  0%|          | 0/4001 [00:00<?, ?it/s]"
      ]
     },
     "metadata": {},
     "output_type": "display_data"
    }
   ],
   "source": [
    "for i_v in trange(l_aggr_rep):\n",
    "    wiki_bench_per_sector[i_v]['cos_sim']=np.zeros(len(wikivecs))\n",
    "    for i_w, wikivec in enumerate(tqdm(wikivecs, leave=False)):\n",
    "        wiki_bench_per_sector[i_v]['cos_sim'][i_w]=float(util.cos_sim(wikivec, aggr_vectors[i_v]['vector']))"
   ]
  },
  {
   "cell_type": "code",
   "execution_count": 132,
   "id": "d8c3abdf",
   "metadata": {
    "ExecuteTime": {
     "end_time": "2025-06-18T07:17:12.208170Z",
     "start_time": "2025-06-18T07:17:12.194758Z"
    }
   },
   "outputs": [],
   "source": [
    "with open('./NewProcessedData/wiki_bench_per_sector.pickle', 'wb') as f:\n",
    "    pickle.dump(wiki_bench_per_sector, f)"
   ]
  },
  {
   "cell_type": "markdown",
   "id": "e80c7aa8",
   "metadata": {},
   "source": [
    "## Creating the benchmark, at the aggregated sector level _[DO NOT EVALUATE IT AGAIN!!!]_"
   ]
  },
  {
   "cell_type": "code",
   "execution_count": 100,
   "id": "5b4051e8",
   "metadata": {
    "ExecuteTime": {
     "end_time": "2025-08-04T15:30:46.790197Z",
     "start_time": "2025-08-04T15:30:46.784036Z"
    }
   },
   "outputs": [],
   "source": [
    "wiki_bench_per_agg_sec=np.zeros(l_aggr_aggsec, dtype=[('cos_sim', object)])"
   ]
  },
  {
   "cell_type": "code",
   "execution_count": 101,
   "id": "10586836",
   "metadata": {
    "ExecuteTime": {
     "end_time": "2025-08-04T15:31:34.858249Z",
     "start_time": "2025-08-04T15:30:47.429761Z"
    }
   },
   "outputs": [
    {
     "data": {
      "application/vnd.jupyter.widget-view+json": {
       "model_id": "ea52e257fffb40e698490f7bc07cac04",
       "version_major": 2,
       "version_minor": 0
      },
      "text/plain": [
       "  0%|          | 0/36 [00:00<?, ?it/s]"
      ]
     },
     "metadata": {},
     "output_type": "display_data"
    },
    {
     "data": {
      "application/vnd.jupyter.widget-view+json": {
       "model_id": "",
       "version_major": 2,
       "version_minor": 0
      },
      "text/plain": [
       "  0%|          | 0/4001 [00:00<?, ?it/s]"
      ]
     },
     "metadata": {},
     "output_type": "display_data"
    },
    {
     "data": {
      "application/vnd.jupyter.widget-view+json": {
       "model_id": "",
       "version_major": 2,
       "version_minor": 0
      },
      "text/plain": [
       "  0%|          | 0/4001 [00:00<?, ?it/s]"
      ]
     },
     "metadata": {},
     "output_type": "display_data"
    },
    {
     "data": {
      "application/vnd.jupyter.widget-view+json": {
       "model_id": "",
       "version_major": 2,
       "version_minor": 0
      },
      "text/plain": [
       "  0%|          | 0/4001 [00:00<?, ?it/s]"
      ]
     },
     "metadata": {},
     "output_type": "display_data"
    },
    {
     "data": {
      "application/vnd.jupyter.widget-view+json": {
       "model_id": "",
       "version_major": 2,
       "version_minor": 0
      },
      "text/plain": [
       "  0%|          | 0/4001 [00:00<?, ?it/s]"
      ]
     },
     "metadata": {},
     "output_type": "display_data"
    },
    {
     "data": {
      "application/vnd.jupyter.widget-view+json": {
       "model_id": "",
       "version_major": 2,
       "version_minor": 0
      },
      "text/plain": [
       "  0%|          | 0/4001 [00:00<?, ?it/s]"
      ]
     },
     "metadata": {},
     "output_type": "display_data"
    },
    {
     "data": {
      "application/vnd.jupyter.widget-view+json": {
       "model_id": "",
       "version_major": 2,
       "version_minor": 0
      },
      "text/plain": [
       "  0%|          | 0/4001 [00:00<?, ?it/s]"
      ]
     },
     "metadata": {},
     "output_type": "display_data"
    },
    {
     "data": {
      "application/vnd.jupyter.widget-view+json": {
       "model_id": "",
       "version_major": 2,
       "version_minor": 0
      },
      "text/plain": [
       "  0%|          | 0/4001 [00:00<?, ?it/s]"
      ]
     },
     "metadata": {},
     "output_type": "display_data"
    },
    {
     "data": {
      "application/vnd.jupyter.widget-view+json": {
       "model_id": "",
       "version_major": 2,
       "version_minor": 0
      },
      "text/plain": [
       "  0%|          | 0/4001 [00:00<?, ?it/s]"
      ]
     },
     "metadata": {},
     "output_type": "display_data"
    },
    {
     "data": {
      "application/vnd.jupyter.widget-view+json": {
       "model_id": "",
       "version_major": 2,
       "version_minor": 0
      },
      "text/plain": [
       "  0%|          | 0/4001 [00:00<?, ?it/s]"
      ]
     },
     "metadata": {},
     "output_type": "display_data"
    },
    {
     "data": {
      "application/vnd.jupyter.widget-view+json": {
       "model_id": "",
       "version_major": 2,
       "version_minor": 0
      },
      "text/plain": [
       "  0%|          | 0/4001 [00:00<?, ?it/s]"
      ]
     },
     "metadata": {},
     "output_type": "display_data"
    },
    {
     "data": {
      "application/vnd.jupyter.widget-view+json": {
       "model_id": "",
       "version_major": 2,
       "version_minor": 0
      },
      "text/plain": [
       "  0%|          | 0/4001 [00:00<?, ?it/s]"
      ]
     },
     "metadata": {},
     "output_type": "display_data"
    },
    {
     "data": {
      "application/vnd.jupyter.widget-view+json": {
       "model_id": "",
       "version_major": 2,
       "version_minor": 0
      },
      "text/plain": [
       "  0%|          | 0/4001 [00:00<?, ?it/s]"
      ]
     },
     "metadata": {},
     "output_type": "display_data"
    },
    {
     "data": {
      "application/vnd.jupyter.widget-view+json": {
       "model_id": "",
       "version_major": 2,
       "version_minor": 0
      },
      "text/plain": [
       "  0%|          | 0/4001 [00:00<?, ?it/s]"
      ]
     },
     "metadata": {},
     "output_type": "display_data"
    },
    {
     "data": {
      "application/vnd.jupyter.widget-view+json": {
       "model_id": "",
       "version_major": 2,
       "version_minor": 0
      },
      "text/plain": [
       "  0%|          | 0/4001 [00:00<?, ?it/s]"
      ]
     },
     "metadata": {},
     "output_type": "display_data"
    },
    {
     "data": {
      "application/vnd.jupyter.widget-view+json": {
       "model_id": "",
       "version_major": 2,
       "version_minor": 0
      },
      "text/plain": [
       "  0%|          | 0/4001 [00:00<?, ?it/s]"
      ]
     },
     "metadata": {},
     "output_type": "display_data"
    },
    {
     "data": {
      "application/vnd.jupyter.widget-view+json": {
       "model_id": "",
       "version_major": 2,
       "version_minor": 0
      },
      "text/plain": [
       "  0%|          | 0/4001 [00:00<?, ?it/s]"
      ]
     },
     "metadata": {},
     "output_type": "display_data"
    },
    {
     "data": {
      "application/vnd.jupyter.widget-view+json": {
       "model_id": "",
       "version_major": 2,
       "version_minor": 0
      },
      "text/plain": [
       "  0%|          | 0/4001 [00:00<?, ?it/s]"
      ]
     },
     "metadata": {},
     "output_type": "display_data"
    },
    {
     "data": {
      "application/vnd.jupyter.widget-view+json": {
       "model_id": "",
       "version_major": 2,
       "version_minor": 0
      },
      "text/plain": [
       "  0%|          | 0/4001 [00:00<?, ?it/s]"
      ]
     },
     "metadata": {},
     "output_type": "display_data"
    },
    {
     "data": {
      "application/vnd.jupyter.widget-view+json": {
       "model_id": "",
       "version_major": 2,
       "version_minor": 0
      },
      "text/plain": [
       "  0%|          | 0/4001 [00:00<?, ?it/s]"
      ]
     },
     "metadata": {},
     "output_type": "display_data"
    },
    {
     "data": {
      "application/vnd.jupyter.widget-view+json": {
       "model_id": "",
       "version_major": 2,
       "version_minor": 0
      },
      "text/plain": [
       "  0%|          | 0/4001 [00:00<?, ?it/s]"
      ]
     },
     "metadata": {},
     "output_type": "display_data"
    },
    {
     "data": {
      "application/vnd.jupyter.widget-view+json": {
       "model_id": "",
       "version_major": 2,
       "version_minor": 0
      },
      "text/plain": [
       "  0%|          | 0/4001 [00:00<?, ?it/s]"
      ]
     },
     "metadata": {},
     "output_type": "display_data"
    },
    {
     "data": {
      "application/vnd.jupyter.widget-view+json": {
       "model_id": "",
       "version_major": 2,
       "version_minor": 0
      },
      "text/plain": [
       "  0%|          | 0/4001 [00:00<?, ?it/s]"
      ]
     },
     "metadata": {},
     "output_type": "display_data"
    },
    {
     "data": {
      "application/vnd.jupyter.widget-view+json": {
       "model_id": "",
       "version_major": 2,
       "version_minor": 0
      },
      "text/plain": [
       "  0%|          | 0/4001 [00:00<?, ?it/s]"
      ]
     },
     "metadata": {},
     "output_type": "display_data"
    },
    {
     "data": {
      "application/vnd.jupyter.widget-view+json": {
       "model_id": "",
       "version_major": 2,
       "version_minor": 0
      },
      "text/plain": [
       "  0%|          | 0/4001 [00:00<?, ?it/s]"
      ]
     },
     "metadata": {},
     "output_type": "display_data"
    },
    {
     "data": {
      "application/vnd.jupyter.widget-view+json": {
       "model_id": "",
       "version_major": 2,
       "version_minor": 0
      },
      "text/plain": [
       "  0%|          | 0/4001 [00:00<?, ?it/s]"
      ]
     },
     "metadata": {},
     "output_type": "display_data"
    },
    {
     "data": {
      "application/vnd.jupyter.widget-view+json": {
       "model_id": "",
       "version_major": 2,
       "version_minor": 0
      },
      "text/plain": [
       "  0%|          | 0/4001 [00:00<?, ?it/s]"
      ]
     },
     "metadata": {},
     "output_type": "display_data"
    },
    {
     "data": {
      "application/vnd.jupyter.widget-view+json": {
       "model_id": "",
       "version_major": 2,
       "version_minor": 0
      },
      "text/plain": [
       "  0%|          | 0/4001 [00:00<?, ?it/s]"
      ]
     },
     "metadata": {},
     "output_type": "display_data"
    },
    {
     "data": {
      "application/vnd.jupyter.widget-view+json": {
       "model_id": "",
       "version_major": 2,
       "version_minor": 0
      },
      "text/plain": [
       "  0%|          | 0/4001 [00:00<?, ?it/s]"
      ]
     },
     "metadata": {},
     "output_type": "display_data"
    },
    {
     "data": {
      "application/vnd.jupyter.widget-view+json": {
       "model_id": "",
       "version_major": 2,
       "version_minor": 0
      },
      "text/plain": [
       "  0%|          | 0/4001 [00:00<?, ?it/s]"
      ]
     },
     "metadata": {},
     "output_type": "display_data"
    },
    {
     "data": {
      "application/vnd.jupyter.widget-view+json": {
       "model_id": "",
       "version_major": 2,
       "version_minor": 0
      },
      "text/plain": [
       "  0%|          | 0/4001 [00:00<?, ?it/s]"
      ]
     },
     "metadata": {},
     "output_type": "display_data"
    },
    {
     "data": {
      "application/vnd.jupyter.widget-view+json": {
       "model_id": "",
       "version_major": 2,
       "version_minor": 0
      },
      "text/plain": [
       "  0%|          | 0/4001 [00:00<?, ?it/s]"
      ]
     },
     "metadata": {},
     "output_type": "display_data"
    },
    {
     "data": {
      "application/vnd.jupyter.widget-view+json": {
       "model_id": "",
       "version_major": 2,
       "version_minor": 0
      },
      "text/plain": [
       "  0%|          | 0/4001 [00:00<?, ?it/s]"
      ]
     },
     "metadata": {},
     "output_type": "display_data"
    },
    {
     "data": {
      "application/vnd.jupyter.widget-view+json": {
       "model_id": "",
       "version_major": 2,
       "version_minor": 0
      },
      "text/plain": [
       "  0%|          | 0/4001 [00:00<?, ?it/s]"
      ]
     },
     "metadata": {},
     "output_type": "display_data"
    },
    {
     "data": {
      "application/vnd.jupyter.widget-view+json": {
       "model_id": "",
       "version_major": 2,
       "version_minor": 0
      },
      "text/plain": [
       "  0%|          | 0/4001 [00:00<?, ?it/s]"
      ]
     },
     "metadata": {},
     "output_type": "display_data"
    },
    {
     "data": {
      "application/vnd.jupyter.widget-view+json": {
       "model_id": "",
       "version_major": 2,
       "version_minor": 0
      },
      "text/plain": [
       "  0%|          | 0/4001 [00:00<?, ?it/s]"
      ]
     },
     "metadata": {},
     "output_type": "display_data"
    },
    {
     "data": {
      "application/vnd.jupyter.widget-view+json": {
       "model_id": "",
       "version_major": 2,
       "version_minor": 0
      },
      "text/plain": [
       "  0%|          | 0/4001 [00:00<?, ?it/s]"
      ]
     },
     "metadata": {},
     "output_type": "display_data"
    }
   ],
   "source": [
    "for i_v in trange(l_aggr_aggsec):\n",
    "    wiki_bench_per_agg_sec[i_v]['cos_sim']=np.zeros(len(wikivecs))\n",
    "    for i_w, wikivec in enumerate(tqdm(wikivecs, leave=False)):\n",
    "        wiki_bench_per_agg_sec[i_v]['cos_sim'][i_w]=float(util.cos_sim(wikivec, aggsec_aggr_vectors[i_v]['vector']))"
   ]
  },
  {
   "cell_type": "code",
   "execution_count": 102,
   "id": "d737f18a",
   "metadata": {
    "ExecuteTime": {
     "end_time": "2025-08-04T15:31:34.872657Z",
     "start_time": "2025-08-04T15:31:34.862956Z"
    }
   },
   "outputs": [],
   "source": [
    "with open('./NewProcessedData/wiki_bench_per_agg_sector.pickle', 'wb') as f:\n",
    "    pickle.dump(wiki_bench_per_agg_sec, f)"
   ]
  },
  {
   "cell_type": "markdown",
   "id": "de0a6266",
   "metadata": {},
   "source": [
    "# Validation"
   ]
  },
  {
   "cell_type": "code",
   "execution_count": 74,
   "id": "717cd13d",
   "metadata": {
    "ExecuteTime": {
     "end_time": "2025-08-04T15:16:49.392969Z",
     "start_time": "2025-08-04T15:16:49.387451Z"
    }
   },
   "outputs": [],
   "source": [
    "alpha=0.05"
   ]
  },
  {
   "cell_type": "markdown",
   "id": "5e8b1497",
   "metadata": {},
   "source": [
    "## All SDGs"
   ]
  },
  {
   "cell_type": "code",
   "execution_count": 86,
   "id": "ff20d149",
   "metadata": {
    "ExecuteTime": {
     "end_time": "2025-06-17T16:46:00.520244Z",
     "start_time": "2025-06-17T16:46:00.489699Z"
    }
   },
   "outputs": [],
   "source": [
    "with open('./NewProcessedData/wiki_benchmark.pickle', 'rb') as f:\n",
    "    wiki_bench=pickle.load(f)"
   ]
  },
  {
   "cell_type": "code",
   "execution_count": 87,
   "id": "34a74014",
   "metadata": {
    "ExecuteTime": {
     "end_time": "2025-06-17T16:46:22.621025Z",
     "start_time": "2025-06-17T16:46:22.613837Z"
    }
   },
   "outputs": [],
   "source": [
    "cos_sims_global=np.zeros(len(years), dtype=[('mean', 'f8'), ('all', object), ('p_val', object)])"
   ]
  },
  {
   "cell_type": "code",
   "execution_count": 88,
   "id": "a95456d2",
   "metadata": {
    "ExecuteTime": {
     "end_time": "2025-06-17T16:46:25.733665Z",
     "start_time": "2025-06-17T16:46:25.305859Z"
    }
   },
   "outputs": [
    {
     "data": {
      "application/vnd.jupyter.widget-view+json": {
       "model_id": "ed9dc4d2b7e64212be69e9ddb60e7f2a",
       "version_major": 2,
       "version_minor": 0
      },
      "text/plain": [
       "  0%|          | 0/9 [00:00<?, ?it/s]"
      ]
     },
     "metadata": {},
     "output_type": "display_data"
    },
    {
     "data": {
      "application/vnd.jupyter.widget-view+json": {
       "model_id": "",
       "version_major": 2,
       "version_minor": 0
      },
      "text/plain": [
       "  0%|          | 0/40 [00:00<?, ?it/s]"
      ]
     },
     "metadata": {},
     "output_type": "display_data"
    },
    {
     "data": {
      "application/vnd.jupyter.widget-view+json": {
       "model_id": "",
       "version_major": 2,
       "version_minor": 0
      },
      "text/plain": [
       "  0%|          | 0/44 [00:00<?, ?it/s]"
      ]
     },
     "metadata": {},
     "output_type": "display_data"
    },
    {
     "data": {
      "application/vnd.jupyter.widget-view+json": {
       "model_id": "",
       "version_major": 2,
       "version_minor": 0
      },
      "text/plain": [
       "  0%|          | 0/51 [00:00<?, ?it/s]"
      ]
     },
     "metadata": {},
     "output_type": "display_data"
    },
    {
     "data": {
      "application/vnd.jupyter.widget-view+json": {
       "model_id": "",
       "version_major": 2,
       "version_minor": 0
      },
      "text/plain": [
       "  0%|          | 0/56 [00:00<?, ?it/s]"
      ]
     },
     "metadata": {},
     "output_type": "display_data"
    },
    {
     "data": {
      "application/vnd.jupyter.widget-view+json": {
       "model_id": "",
       "version_major": 2,
       "version_minor": 0
      },
      "text/plain": [
       "  0%|          | 0/67 [00:00<?, ?it/s]"
      ]
     },
     "metadata": {},
     "output_type": "display_data"
    },
    {
     "data": {
      "application/vnd.jupyter.widget-view+json": {
       "model_id": "",
       "version_major": 2,
       "version_minor": 0
      },
      "text/plain": [
       "  0%|          | 0/69 [00:00<?, ?it/s]"
      ]
     },
     "metadata": {},
     "output_type": "display_data"
    },
    {
     "data": {
      "application/vnd.jupyter.widget-view+json": {
       "model_id": "",
       "version_major": 2,
       "version_minor": 0
      },
      "text/plain": [
       "  0%|          | 0/76 [00:00<?, ?it/s]"
      ]
     },
     "metadata": {},
     "output_type": "display_data"
    },
    {
     "data": {
      "application/vnd.jupyter.widget-view+json": {
       "model_id": "",
       "version_major": 2,
       "version_minor": 0
      },
      "text/plain": [
       "  0%|          | 0/80 [00:00<?, ?it/s]"
      ]
     },
     "metadata": {},
     "output_type": "display_data"
    },
    {
     "data": {
      "application/vnd.jupyter.widget-view+json": {
       "model_id": "",
       "version_major": 2,
       "version_minor": 0
      },
      "text/plain": [
       "  0%|          | 0/90 [00:00<?, ?it/s]"
      ]
     },
     "metadata": {},
     "output_type": "display_data"
    }
   ],
   "source": [
    "for i_y, year in enumerate(tqdm(years)):\n",
    "    vecs_y=vectors[vectors['year']==year]['vector']\n",
    "    wiki_bench_y=wiki_bench[vectors['year']==year]['cos_sim']\n",
    "    cos_sims_global[i_y]['all']=np.zeros(len(vecs_y))\n",
    "    cos_sims_global[i_y]['p_val']=np.zeros(len(vecs_y))\n",
    "    for i_vec, vec in enumerate(tqdm(vecs_y, leave=False)):\n",
    "        _cos_sim=float(util.cos_sim(goalvecs[-1], vec))\n",
    "        cos_sims_global[i_y]['all'][i_vec]=_cos_sim\n",
    "        cos_sims_global[i_y]['p_val'][i_vec]=np.sum(wiki_bench_y[i_vec]>=_cos_sim)/len(wikivecs)\n",
    "    cos_sims_global[i_y]['mean']=np.mean(cos_sims_global[i_y]['all'])"
   ]
  },
  {
   "cell_type": "code",
   "execution_count": 89,
   "id": "641535a3",
   "metadata": {
    "ExecuteTime": {
     "end_time": "2025-06-17T16:46:27.649593Z",
     "start_time": "2025-06-17T16:46:27.605172Z"
    }
   },
   "outputs": [
    {
     "data": {
      "application/vnd.jupyter.widget-view+json": {
       "model_id": "80143b3c149c44ccbee5b652c1565ee5",
       "version_major": 2,
       "version_minor": 0
      },
      "text/plain": [
       "  0%|          | 0/9 [00:00<?, ?it/s]"
      ]
     },
     "metadata": {},
     "output_type": "display_data"
    },
    {
     "name": "stdout",
     "output_type": "stream",
     "text": [
      "2015) len(validated_companies)=4\n",
      "\t\tunilever                  sector=Consumer Staples\n",
      "\t\tstandard_chartered        sector=Financials\n",
      "\t\thalma                     sector=Industrials\n",
      "\t\tland_securities_group     sector=Real Estate\n",
      "2016) len(validated_companies)=3\n",
      "\t\tunilever                  sector=Consumer Staples\n",
      "\t\tstandard_chartered        sector=Financials\n",
      "\t\thalma                     sector=Industrials\n",
      "2017) len(validated_companies)=1\n",
      "\t\thalma                     sector=Industrials\n",
      "2018) len(validated_companies)=2\n",
      "\t\tstandard_chartered        sector=Financials\n",
      "\t\thalma                     sector=Industrials\n",
      "2019) len(validated_companies)=0\n",
      "2020) len(validated_companies)=4\n",
      "\t\tanglo_american            sector=Basic Materials\n",
      "\t\tbarratt_developments      sector=Consumer Discretionary\n",
      "\t\thsbc_holdings             sector=Financials\n",
      "\t\tstandard_chartered        sector=Financials\n",
      "2021) len(validated_companies)=2\n",
      "\t\tstandard_chartered        sector=Financials\n",
      "\t\trenewi                    sector=Utilities\n",
      "2022) len(validated_companies)=3\n",
      "\t\thsbc_holdings             sector=Financials\n",
      "\t\tlegal_&_general_group     sector=Financials\n",
      "\t\tstandard_chartered        sector=Financials\n",
      "2023) len(validated_companies)=1\n",
      "\t\tstandard_chartered        sector=Financials\n"
     ]
    }
   ],
   "source": [
    "for i_y, year in enumerate(tqdm(years)):\n",
    "    _fdr_th=fdr_th(cos_sims_global[i_y]['p_val'], alpha)\n",
    "    compa_y=vectors[vectors['year']==year]['company']\n",
    "    sec_y=vectors[vectors['year']==year]['sector']\n",
    "    validated_compa=compa_y[cos_sims_global[i_y]['p_val']<=_fdr_th]\n",
    "    validated_sec=sec_y[cos_sims_global[i_y]['p_val']<=_fdr_th]\n",
    "    print(f'{year:}) len(validated_companies)={len(validated_compa):}')\n",
    "    if len(validated_compa)>0:\n",
    "        for i_vc, vc in enumerate(validated_compa):\n",
    "            print(f'\\t\\t{vc:25} sector={sec_helper[validated_sec[i_vc]]:}')"
   ]
  },
  {
   "cell_type": "markdown",
   "id": "ea77a2bf",
   "metadata": {},
   "source": [
    "### Table for $\\LaTeX$"
   ]
  },
  {
   "cell_type": "code",
   "execution_count": 97,
   "id": "479f8353",
   "metadata": {
    "ExecuteTime": {
     "end_time": "2025-06-17T16:57:06.171081Z",
     "start_time": "2025-06-17T16:57:06.134876Z"
    }
   },
   "outputs": [
    {
     "data": {
      "application/vnd.jupyter.widget-view+json": {
       "model_id": "c6397b8ef9d3461bae6453c18ba69181",
       "version_major": 2,
       "version_minor": 0
      },
      "text/plain": [
       "  0%|          | 0/9 [00:00<?, ?it/s]"
      ]
     },
     "metadata": {},
     "output_type": "display_data"
    },
    {
     "name": "stdout",
     "output_type": "stream",
     "text": [
      "2015) len(validated_companies)=4\n",
      "2016) len(validated_companies)=3\n",
      "2017) len(validated_companies)=1\n",
      "2018) len(validated_companies)=2\n",
      "2019) len(validated_companies)=0\n",
      "2020) len(validated_companies)=4\n",
      "2021) len(validated_companies)=2\n",
      "2022) len(validated_companies)=3\n",
      "2023) len(validated_companies)=1\n"
     ]
    }
   ],
   "source": [
    "_table=[]\n",
    "for i_y, year in enumerate(tqdm(years)):\n",
    "    _fdr_th=fdr_th(cos_sims_global[i_y]['p_val'], alpha)\n",
    "    compa_y=vectors[vectors['year']==year]['company']\n",
    "    sec_y=vectors[vectors['year']==year]['sector']\n",
    "    validated_compa=compa_y[cos_sims_global[i_y]['p_val']<=_fdr_th]\n",
    "    validated_sec=sec_y[cos_sims_global[i_y]['p_val']<=_fdr_th]\n",
    "    print(f'{year:}) len(validated_companies)={len(validated_compa):}')\n",
    "    if len(validated_compa)>0:\n",
    "        for i_vc, vc in enumerate(validated_compa):\n",
    "            company_name_smooth=vc.split('_')\n",
    "            company_name_smooth=[_.capitalize() for _ in company_name_smooth]\n",
    "            company_name_smooth=' '.join(company_name_smooth)\n",
    "            if i_vc==0:\n",
    "                _table.append([year, company_name_smooth, sec_helper[validated_sec[i_vc]]])\n",
    "            else:\n",
    "                _table.append(['', company_name_smooth, sec_helper[validated_sec[i_vc]]])\n",
    "    else:\n",
    "        _table.append([year, '', ''])"
   ]
  },
  {
   "cell_type": "code",
   "execution_count": 98,
   "id": "13018fd9",
   "metadata": {
    "ExecuteTime": {
     "end_time": "2025-06-17T16:57:08.199535Z",
     "start_time": "2025-06-17T16:57:08.193875Z"
    }
   },
   "outputs": [],
   "source": [
    "header=['Year','Firm', 'Sector']"
   ]
  },
  {
   "cell_type": "code",
   "execution_count": 99,
   "id": "6b2541c7",
   "metadata": {
    "ExecuteTime": {
     "end_time": "2025-06-17T16:57:08.612485Z",
     "start_time": "2025-06-17T16:57:08.600898Z"
    }
   },
   "outputs": [
    {
     "name": "stdout",
     "output_type": "stream",
     "text": [
      "\\begin{tabular}{lll}\n",
      "\\hline\n",
      " Year   & Firm                  & Sector                 \\\\\n",
      "\\hline\n",
      " 2015   & Unilever              & Consumer Staples       \\\\\n",
      "        & Standard Chartered    & Financials             \\\\\n",
      "        & Halma                 & Industrials            \\\\\n",
      "        & Land Securities Group & Real Estate            \\\\\n",
      " 2016   & Unilever              & Consumer Staples       \\\\\n",
      "        & Standard Chartered    & Financials             \\\\\n",
      "        & Halma                 & Industrials            \\\\\n",
      " 2017   & Halma                 & Industrials            \\\\\n",
      " 2018   & Standard Chartered    & Financials             \\\\\n",
      "        & Halma                 & Industrials            \\\\\n",
      " 2019   &                       &                        \\\\\n",
      " 2020   & Anglo American        & Basic Materials        \\\\\n",
      "        & Barratt Developments  & Consumer Discretionary \\\\\n",
      "        & Hsbc Holdings         & Financials             \\\\\n",
      "        & Standard Chartered    & Financials             \\\\\n",
      " 2021   & Standard Chartered    & Financials             \\\\\n",
      "        & Renewi                & Utilities              \\\\\n",
      " 2022   & Hsbc Holdings         & Financials             \\\\\n",
      "        & Legal \\& General Group & Financials             \\\\\n",
      "        & Standard Chartered    & Financials             \\\\\n",
      " 2023   & Standard Chartered    & Financials             \\\\\n",
      "\\hline\n",
      "\\end{tabular}\n"
     ]
    }
   ],
   "source": [
    "print(tabulate(_table, header, tablefmt=\"latex\"))"
   ]
  },
  {
   "cell_type": "markdown",
   "id": "7cc4f857",
   "metadata": {},
   "source": [
    "## All SDGs, per sector"
   ]
  },
  {
   "cell_type": "code",
   "execution_count": 135,
   "id": "8a7011ef",
   "metadata": {
    "ExecuteTime": {
     "end_time": "2025-06-18T07:24:56.735841Z",
     "start_time": "2025-06-18T07:24:56.729233Z"
    }
   },
   "outputs": [],
   "source": [
    "cos_sims_global_sec=np.zeros(len(years), dtype=[('all', object), ('p_val', object)])"
   ]
  },
  {
   "cell_type": "code",
   "execution_count": 136,
   "id": "cb99f9b1",
   "metadata": {
    "ExecuteTime": {
     "end_time": "2025-06-18T07:24:57.293076Z",
     "start_time": "2025-06-18T07:24:57.283909Z"
    }
   },
   "outputs": [],
   "source": [
    "with open('./NewProcessedData/wiki_bench_per_sector.pickle', 'rb') as f:\n",
    "    wiki_bench_per_sector=pickle.load(f)"
   ]
  },
  {
   "cell_type": "code",
   "execution_count": 138,
   "id": "87265296",
   "metadata": {
    "ExecuteTime": {
     "end_time": "2025-06-18T07:25:07.192567Z",
     "start_time": "2025-06-18T07:25:07.125372Z"
    }
   },
   "outputs": [
    {
     "data": {
      "application/vnd.jupyter.widget-view+json": {
       "model_id": "06b4174e13834a2aa47550f66084fb51",
       "version_major": 2,
       "version_minor": 0
      },
      "text/plain": [
       "  0%|          | 0/9 [00:00<?, ?it/s]"
      ]
     },
     "metadata": {},
     "output_type": "display_data"
    }
   ],
   "source": [
    "for i_y, year in enumerate(tqdm(years)):\n",
    "    vecs_y=aggr_vectors[aggr_vectors['year']==year]['vector']\n",
    "    wiki_bench_y=wiki_bench_per_sector[aggr_vectors['year']==year]['cos_sim']\n",
    "    cos_sims_global_sec[i_y]['all']=np.zeros(len(vecs_y))\n",
    "    cos_sims_global_sec[i_y]['p_val']=np.zeros(len(vecs_y))\n",
    "    for i_vec, vec in enumerate(vecs_y):\n",
    "        _cos_sim=float(util.cos_sim(goalvecs[-1], vec))\n",
    "        cos_sims_global_sec[i_y]['all'][i_vec]=_cos_sim\n",
    "        cos_sims_global_sec[i_y]['p_val'][i_vec]=np.sum(wiki_bench_y[i_vec]>=_cos_sim)/len(wikivecs)"
   ]
  },
  {
   "cell_type": "code",
   "execution_count": 141,
   "id": "10b36366",
   "metadata": {
    "ExecuteTime": {
     "end_time": "2025-06-18T07:27:39.737016Z",
     "start_time": "2025-06-18T07:27:39.708257Z"
    }
   },
   "outputs": [
    {
     "data": {
      "application/vnd.jupyter.widget-view+json": {
       "model_id": "186917454a6c4035bd3f10c9be2d8fae",
       "version_major": 2,
       "version_minor": 0
      },
      "text/plain": [
       "  0%|          | 0/9 [00:00<?, ?it/s]"
      ]
     },
     "metadata": {},
     "output_type": "display_data"
    },
    {
     "name": "stdout",
     "output_type": "stream",
     "text": [
      "2015) len(validated_sectors)=0\n",
      "2016) len(validated_sectors)=0\n",
      "2017) len(validated_sectors)=0\n",
      "2018) len(validated_sectors)=1\n",
      "\t\t05                        sector=Financials\n",
      "2019) len(validated_sectors)=0\n",
      "2020) len(validated_sectors)=0\n",
      "2021) len(validated_sectors)=0\n",
      "2022) len(validated_sectors)=1\n",
      "\t\t05                        sector=Financials\n",
      "2023) len(validated_sectors)=0\n"
     ]
    }
   ],
   "source": [
    "for i_y, year in enumerate(tqdm(years)):\n",
    "    _fdr_th=fdr_th(cos_sims_global_sec[i_y]['p_val'], alpha)\n",
    "    sec_y=aggr_vectors[aggr_vectors['year']==year]['sector']\n",
    "    validated_sec=sec_y[cos_sims_global_sec[i_y]['p_val']<=_fdr_th]\n",
    "    print(f'{year:}) len(validated_sectors)={len(validated_sec):}')\n",
    "    if len(validated_sec)>0:\n",
    "        for i_vs, vs in enumerate(validated_sec):\n",
    "            print(f'\\t\\t{vs:25} sector={sec_helper[vs]:}')"
   ]
  },
  {
   "cell_type": "markdown",
   "id": "6308c365",
   "metadata": {},
   "source": [
    "## All SDGs, per aggregated sector"
   ]
  },
  {
   "cell_type": "code",
   "execution_count": 106,
   "id": "dc22e4b5",
   "metadata": {
    "ExecuteTime": {
     "end_time": "2025-08-04T15:31:47.872450Z",
     "start_time": "2025-08-04T15:31:47.865789Z"
    }
   },
   "outputs": [],
   "source": [
    "cos_sims_global_agg_sec=np.zeros(len(years), dtype=[('all', object), ('p_val', object)])"
   ]
  },
  {
   "cell_type": "code",
   "execution_count": 107,
   "id": "c4b4df06",
   "metadata": {
    "ExecuteTime": {
     "end_time": "2025-08-04T15:31:48.197020Z",
     "start_time": "2025-08-04T15:31:48.189455Z"
    }
   },
   "outputs": [],
   "source": [
    "with open('./NewProcessedData/wiki_bench_per_agg_sector.pickle', 'rb') as f:\n",
    "    wiki_bench_per_agg_sector=pickle.load(f)"
   ]
  },
  {
   "cell_type": "code",
   "execution_count": 109,
   "id": "55385557",
   "metadata": {
    "ExecuteTime": {
     "end_time": "2025-08-04T15:31:55.668944Z",
     "start_time": "2025-08-04T15:31:55.615539Z"
    }
   },
   "outputs": [
    {
     "data": {
      "application/vnd.jupyter.widget-view+json": {
       "model_id": "2d66a96dcbf941e7acb2e13b7445eefe",
       "version_major": 2,
       "version_minor": 0
      },
      "text/plain": [
       "  0%|          | 0/9 [00:00<?, ?it/s]"
      ]
     },
     "metadata": {},
     "output_type": "display_data"
    }
   ],
   "source": [
    "for i_y, year in enumerate(tqdm(years)):\n",
    "    vecs_y=aggsec_aggr_vectors[aggsec_aggr_vectors['year']==year]['vector']\n",
    "    wiki_bench_y=wiki_bench_per_agg_sector[aggsec_aggr_vectors['year']==year]['cos_sim']\n",
    "    cos_sims_global_agg_sec[i_y]['all']=np.zeros(len(vecs_y))\n",
    "    cos_sims_global_agg_sec[i_y]['p_val']=np.zeros(len(vecs_y))\n",
    "    for i_vec, vec in enumerate(vecs_y):\n",
    "        _cos_sim=float(util.cos_sim(goalvecs[-1], vec))\n",
    "        cos_sims_global_agg_sec[i_y]['all'][i_vec]=_cos_sim\n",
    "        cos_sims_global_agg_sec[i_y]['p_val'][i_vec]=np.sum(wiki_bench_y[i_vec]>=_cos_sim)/len(wikivecs)"
   ]
  },
  {
   "cell_type": "code",
   "execution_count": 110,
   "id": "dc3678f9",
   "metadata": {
    "ExecuteTime": {
     "end_time": "2025-08-04T15:31:57.287661Z",
     "start_time": "2025-08-04T15:31:57.253763Z"
    }
   },
   "outputs": [
    {
     "data": {
      "application/vnd.jupyter.widget-view+json": {
       "model_id": "c3c8df2010664047afef6e6f1842c7a0",
       "version_major": 2,
       "version_minor": 0
      },
      "text/plain": [
       "  0%|          | 0/9 [00:00<?, ?it/s]"
      ]
     },
     "metadata": {},
     "output_type": "display_data"
    },
    {
     "name": "stdout",
     "output_type": "stream",
     "text": [
      "2015) len(validated_sectors)=0\n",
      "2016) len(validated_sectors)=0\n",
      "2017) len(validated_sectors)=0\n",
      "2018) len(validated_sectors)=0\n",
      "2019) len(validated_sectors)=0\n",
      "2020) len(validated_sectors)=3\n",
      "\t\tA                         sector=Consumer Goods\n",
      "\t\tC                         sector=Production Sectors\n",
      "\t\tD                         sector=Specialized Services\n",
      "2021) len(validated_sectors)=0\n",
      "2022) len(validated_sectors)=0\n",
      "2023) len(validated_sectors)=0\n"
     ]
    }
   ],
   "source": [
    "for i_y, year in enumerate(tqdm(years)):\n",
    "    _fdr_th=fdr_th(cos_sims_global_agg_sec[i_y]['p_val'], alpha)\n",
    "    sec_y=aggsec_aggr_vectors[aggsec_aggr_vectors['year']==year]['agg_sec']\n",
    "    validated_sec=sec_y[cos_sims_global_agg_sec[i_y]['p_val']<=_fdr_th]\n",
    "    print(f'{year:}) len(validated_sectors)={len(validated_sec):}')\n",
    "    if len(validated_sec)>0:\n",
    "        for i_vs, vs in enumerate(validated_sec):\n",
    "            print(f\"\\t\\t{vs:25} sector={agg_secs[vs]['name']:}\")"
   ]
  },
  {
   "cell_type": "markdown",
   "id": "28af65e8",
   "metadata": {},
   "source": [
    "## Clustered SDGs"
   ]
  },
  {
   "cell_type": "markdown",
   "id": "786fcf50",
   "metadata": {
    "heading_collapsed": true
   },
   "source": [
    "### Define cSDGs"
   ]
  },
  {
   "cell_type": "code",
   "execution_count": 89,
   "id": "20ac5d5b",
   "metadata": {
    "ExecuteTime": {
     "end_time": "2025-08-04T15:26:13.437269Z",
     "start_time": "2025-08-04T15:26:13.429227Z"
    },
    "hidden": true
   },
   "outputs": [],
   "source": [
    "social_sdgs=['01','02','03','04','05','10','16','17']\n",
    "economic_sdgs=['07','08','09','11','12']\n",
    "environmental_sdgs=['06','13','14','15']"
   ]
  },
  {
   "cell_type": "code",
   "execution_count": 90,
   "id": "860a0950",
   "metadata": {
    "ExecuteTime": {
     "end_time": "2025-08-04T15:26:13.853097Z",
     "start_time": "2025-08-04T15:26:13.810381Z"
    },
    "hidden": true
   },
   "outputs": [],
   "source": [
    "social_vec=[np.genfromtxt(PCA_CENTR_VECTOR_FOLDER+goalvecfile) for goalvecfile in goalvecfiles if any([sdg in goalvecfile for sdg in social_sdgs])]\n",
    "social_vec=np.mean(social_vec, axis=0)"
   ]
  },
  {
   "cell_type": "code",
   "execution_count": 91,
   "id": "87468a2b",
   "metadata": {
    "ExecuteTime": {
     "end_time": "2025-08-04T15:26:14.254475Z",
     "start_time": "2025-08-04T15:26:14.225480Z"
    },
    "hidden": true
   },
   "outputs": [],
   "source": [
    "economic_vec=[np.genfromtxt(PCA_CENTR_VECTOR_FOLDER+goalvecfile) for goalvecfile in goalvecfiles if any([sdg in goalvecfile for sdg in economic_sdgs])]\n",
    "economic_vec=np.mean(economic_vec, axis=0)"
   ]
  },
  {
   "cell_type": "code",
   "execution_count": 92,
   "id": "a406c302",
   "metadata": {
    "ExecuteTime": {
     "end_time": "2025-08-04T15:26:14.710277Z",
     "start_time": "2025-08-04T15:26:14.683673Z"
    },
    "hidden": true
   },
   "outputs": [],
   "source": [
    "environmental_vec=[np.genfromtxt(PCA_CENTR_VECTOR_FOLDER+goalvecfile) for goalvecfile in goalvecfiles if any([sdg in goalvecfile for sdg in environmental_sdgs])]\n",
    "environmental_vec=np.mean(environmental_vec, axis=0)"
   ]
  },
  {
   "cell_type": "code",
   "execution_count": 93,
   "id": "5e16d1ea",
   "metadata": {
    "ExecuteTime": {
     "end_time": "2025-08-04T15:26:15.326863Z",
     "start_time": "2025-08-04T15:26:15.320767Z"
    },
    "hidden": true
   },
   "outputs": [],
   "source": [
    "clustered_sdgs=np.array([social_vec, economic_vec, environmental_vec])"
   ]
  },
  {
   "cell_type": "code",
   "execution_count": 94,
   "id": "0b68f2e1",
   "metadata": {
    "ExecuteTime": {
     "end_time": "2025-08-04T15:26:15.935566Z",
     "start_time": "2025-08-04T15:26:15.926641Z"
    },
    "hidden": true
   },
   "outputs": [
    {
     "data": {
      "text/plain": [
       "(3, 768)"
      ]
     },
     "execution_count": 94,
     "metadata": {},
     "output_type": "execute_result"
    }
   ],
   "source": [
    "clustered_sdgs.shape"
   ]
  },
  {
   "cell_type": "code",
   "execution_count": 95,
   "id": "65bc45e6",
   "metadata": {
    "ExecuteTime": {
     "end_time": "2025-08-04T15:26:16.384956Z",
     "start_time": "2025-08-04T15:26:16.380018Z"
    },
    "hidden": true
   },
   "outputs": [],
   "source": [
    "cSDGS_names=['social', 'economic', 'environmental']"
   ]
  },
  {
   "cell_type": "code",
   "execution_count": 96,
   "id": "86112834",
   "metadata": {
    "ExecuteTime": {
     "end_time": "2025-08-04T15:26:16.916554Z",
     "start_time": "2025-08-04T15:26:16.911894Z"
    },
    "hidden": true
   },
   "outputs": [],
   "source": [
    "l_csdgs=len(cSDGS_names)"
   ]
  },
  {
   "cell_type": "markdown",
   "id": "b9ddb3d7",
   "metadata": {},
   "source": [
    "### All sectors"
   ]
  },
  {
   "cell_type": "markdown",
   "id": "89845e1b",
   "metadata": {
    "heading_collapsed": true
   },
   "source": [
    "#### Cosine similarity validation"
   ]
  },
  {
   "cell_type": "code",
   "execution_count": 78,
   "id": "97fe27b3",
   "metadata": {
    "ExecuteTime": {
     "end_time": "2025-06-17T11:25:45.331661Z",
     "start_time": "2025-06-17T11:25:45.324599Z"
    },
    "hidden": true
   },
   "outputs": [],
   "source": [
    "cos_sims_cSDGs=np.zeros(len(years)*len(cSDGS_names), dtype=[('cSDG', 'U20'), ('mean', 'f8'), ('all', object), ('p_val', object)])"
   ]
  },
  {
   "cell_type": "code",
   "execution_count": 79,
   "id": "d79a0439",
   "metadata": {
    "ExecuteTime": {
     "end_time": "2025-06-17T11:25:46.429960Z",
     "start_time": "2025-06-17T11:25:45.707335Z"
    },
    "hidden": true
   },
   "outputs": [
    {
     "data": {
      "application/vnd.jupyter.widget-view+json": {
       "model_id": "",
       "version_major": 2,
       "version_minor": 0
      },
      "text/plain": [
       "  0%|          | 0/9 [00:00<?, ?it/s]"
      ]
     },
     "metadata": {},
     "output_type": "display_data"
    }
   ],
   "source": [
    "for i_y, year in enumerate(tqdm(years)):\n",
    "    vecs_y=vectors[vectors['year']==year]['vector']\n",
    "    wiki_bench_y=wiki_bench[vectors['year']==year]['cos_sim']\n",
    "    for i_c, csdg in enumerate(cSDGS_names):\n",
    "        cos_sims_cSDGs[i_y*l_csdgs+i_c]['cSDG']=csdg\n",
    "        cos_sims_cSDGs[i_y*l_csdgs+i_c]['all']=np.zeros(len(vecs_y))\n",
    "        cos_sims_cSDGs[i_y*l_csdgs+i_c]['p_val']=np.zeros(len(vecs_y))\n",
    "        for i_vec, vec in enumerate(vecs_y):\n",
    "            _cos_sim=float(util.cos_sim(clustered_sdgs[i_c], vec))\n",
    "            cos_sims_cSDGs[i_y*l_csdgs+i_c]['all'][i_vec]=_cos_sim\n",
    "            cos_sims_cSDGs[i_y*l_csdgs+i_c]['p_val'][i_vec]=np.sum(wiki_bench_y[i_vec]>=_cos_sim)/len(wikivecs)\n",
    "        cos_sims_cSDGs[i_y*l_csdgs+i_c]['mean']=np.mean(cos_sims_cSDGs[i_y*l_csdgs+i_c]['all'])"
   ]
  },
  {
   "cell_type": "code",
   "execution_count": 80,
   "id": "0cab30fd",
   "metadata": {
    "ExecuteTime": {
     "end_time": "2025-06-17T11:25:46.468227Z",
     "start_time": "2025-06-17T11:25:46.433559Z"
    },
    "hidden": true
   },
   "outputs": [
    {
     "data": {
      "application/vnd.jupyter.widget-view+json": {
       "model_id": "",
       "version_major": 2,
       "version_minor": 0
      },
      "text/plain": [
       "  0%|          | 0/9 [00:00<?, ?it/s]"
      ]
     },
     "metadata": {},
     "output_type": "display_data"
    },
    {
     "name": "stdout",
     "output_type": "stream",
     "text": [
      "\n",
      "2015\n",
      "\u001b[1mSocial              \u001b[0m len(validated_companies)=2\n",
      "\t\u001b[1munilever                 \u001b[0m sector=\u001b[1mConsumer Staples\u001b[0m\n",
      "\t\u001b[1mland_securities_group    \u001b[0m sector=\u001b[1mReal Estate\u001b[0m\n",
      "\n",
      "\n",
      "\u001b[1mEconomic            \u001b[0m len(validated_companies)=1\n",
      "\t\u001b[1mhalma                    \u001b[0m sector=\u001b[1mIndustrials\u001b[0m\n",
      "\n",
      "\n",
      "\u001b[1mEnvironmental       \u001b[0m len(validated_companies)=2\n",
      "\t\u001b[1mhalma                    \u001b[0m sector=\u001b[1mIndustrials\u001b[0m\n",
      "\t\u001b[1mland_securities_group    \u001b[0m sector=\u001b[1mReal Estate\u001b[0m\n",
      "\n",
      "\n",
      "\n",
      "2016\n",
      "\u001b[1mSocial              \u001b[0m len(validated_companies)=2\n",
      "\t\u001b[1munilever                 \u001b[0m sector=\u001b[1mConsumer Staples\u001b[0m\n",
      "\t\u001b[1mstandard_chartered       \u001b[0m sector=\u001b[1mFinancials\u001b[0m\n",
      "\n",
      "\n",
      "\u001b[1mEconomic            \u001b[0m len(validated_companies)=2\n",
      "\t\u001b[1mstandard_chartered       \u001b[0m sector=\u001b[1mFinancials\u001b[0m\n",
      "\t\u001b[1mhalma                    \u001b[0m sector=\u001b[1mIndustrials\u001b[0m\n",
      "\n",
      "\n",
      "\u001b[1mEnvironmental       \u001b[0m len(validated_companies)=1\n",
      "\t\u001b[1mhalma                    \u001b[0m sector=\u001b[1mIndustrials\u001b[0m\n",
      "\n",
      "\n",
      "\n",
      "2017\n",
      "Social               len(validated_companies)=0\n",
      "\u001b[1mEconomic            \u001b[0m len(validated_companies)=1\n",
      "\t\u001b[1mhalma                    \u001b[0m sector=\u001b[1mIndustrials\u001b[0m\n",
      "\n",
      "\n",
      "\u001b[1mEnvironmental       \u001b[0m len(validated_companies)=1\n",
      "\t\u001b[1mhalma                    \u001b[0m sector=\u001b[1mIndustrials\u001b[0m\n",
      "\n",
      "\n",
      "\n",
      "2018\n",
      "Social               len(validated_companies)=0\n",
      "\u001b[1mEconomic            \u001b[0m len(validated_companies)=1\n",
      "\t\u001b[1mhalma                    \u001b[0m sector=\u001b[1mIndustrials\u001b[0m\n",
      "\n",
      "\n",
      "Environmental        len(validated_companies)=0\n",
      "\n",
      "2019\n",
      "Social               len(validated_companies)=0\n",
      "\u001b[1mEconomic            \u001b[0m len(validated_companies)=1\n",
      "\t\u001b[1mhalma                    \u001b[0m sector=\u001b[1mIndustrials\u001b[0m\n",
      "\n",
      "\n",
      "Environmental        len(validated_companies)=0\n",
      "\n",
      "2020\n",
      "\u001b[1mSocial              \u001b[0m len(validated_companies)=1\n",
      "\t\u001b[1mstandard_chartered       \u001b[0m sector=\u001b[1mFinancials\u001b[0m\n",
      "\n",
      "\n",
      "Economic             len(validated_companies)=0\n",
      "Environmental        len(validated_companies)=0\n",
      "\n",
      "2021\n",
      "\u001b[1mSocial              \u001b[0m len(validated_companies)=1\n",
      "\t\u001b[1mstandard_chartered       \u001b[0m sector=\u001b[1mFinancials\u001b[0m\n",
      "\n",
      "\n",
      "\u001b[1mEconomic            \u001b[0m len(validated_companies)=1\n",
      "\t\u001b[1mrenewi                   \u001b[0m sector=\u001b[1mUtilities\u001b[0m\n",
      "\n",
      "\n",
      "\u001b[1mEnvironmental       \u001b[0m len(validated_companies)=5\n",
      "\t\u001b[1mberkeley_group_holdings_(the)\u001b[0m sector=\u001b[1mConsumer Discretionary\u001b[0m\n",
      "\t\u001b[1mreckitt_benckiser_group  \u001b[0m sector=\u001b[1mConsumer Staples\u001b[0m\n",
      "\t\u001b[1mlegal_&_general_group    \u001b[0m sector=\u001b[1mFinancials\u001b[0m\n",
      "\t\u001b[1mstandard_chartered       \u001b[0m sector=\u001b[1mFinancials\u001b[0m\n",
      "\t\u001b[1mrenewi                   \u001b[0m sector=\u001b[1mUtilities\u001b[0m\n",
      "\n",
      "\n",
      "\n",
      "2022\n",
      "\u001b[1mSocial              \u001b[0m len(validated_companies)=2\n",
      "\t\u001b[1mlegal_&_general_group    \u001b[0m sector=\u001b[1mFinancials\u001b[0m\n",
      "\t\u001b[1mstandard_chartered       \u001b[0m sector=\u001b[1mFinancials\u001b[0m\n",
      "\n",
      "\n",
      "Economic             len(validated_companies)=0\n",
      "\u001b[1mEnvironmental       \u001b[0m len(validated_companies)=2\n",
      "\t\u001b[1mstandard_chartered       \u001b[0m sector=\u001b[1mFinancials\u001b[0m\n",
      "\t\u001b[1mhelios_towers            \u001b[0m sector=\u001b[1mTelecommunications\u001b[0m\n",
      "\n",
      "\n",
      "\n",
      "2023\n",
      "Social               len(validated_companies)=0\n",
      "Economic             len(validated_companies)=0\n",
      "\u001b[1mEnvironmental       \u001b[0m len(validated_companies)=3\n",
      "\t\u001b[1mhelios_towers            \u001b[0m sector=\u001b[1mTelecommunications\u001b[0m\n",
      "\t\u001b[1mpennon_group             \u001b[0m sector=\u001b[1mUtilities\u001b[0m\n",
      "\t\u001b[1munited_utilities_group   \u001b[0m sector=\u001b[1mUtilities\u001b[0m\n",
      "\n",
      "\n"
     ]
    }
   ],
   "source": [
    "for i_y, year in enumerate(tqdm(years)):\n",
    "    print(f'\\n{year:}')\n",
    "    compa_y=vectors[vectors['year']==year]['company']\n",
    "    sec_y=vectors[vectors['year']==year]['sector']\n",
    "    for i_c, csdg in enumerate(cSDGS_names):\n",
    "        _fdr_th=fdr_th(cos_sims_cSDGs[i_y*l_csdgs+i_c]['p_val'], alpha)\n",
    "        validation_mask=cos_sims_cSDGs[i_y*l_csdgs+i_c]['p_val']<=_fdr_th\n",
    "        validated_compa=compa_y[validation_mask]\n",
    "        validated_sec=sec_y[validation_mask]\n",
    "        if len(validated_compa)>0:\n",
    "            print(f'\\033[1m{csdg.capitalize():20}\\033[0m len(validated_companies)={len(validated_compa):}')\n",
    "            for i_vc, vc in enumerate(validated_compa):\n",
    "                print(f'\\t\\033[1m{vc:25}\\033[0m sector=\\033[1m{sec_helper[validated_sec[i_vc]]:}\\033[0m')\n",
    "            print('\\n')\n",
    "        else:\n",
    "            print(f'{csdg.capitalize():20} len(validated_companies)={len(validated_compa):}')"
   ]
  },
  {
   "cell_type": "markdown",
   "id": "273cfd58",
   "metadata": {
    "heading_collapsed": true
   },
   "source": [
    "#### Table for $\\LaTeX$"
   ]
  },
  {
   "cell_type": "code",
   "execution_count": 107,
   "id": "8c032296",
   "metadata": {
    "ExecuteTime": {
     "end_time": "2025-06-17T17:09:30.838724Z",
     "start_time": "2025-06-17T17:09:30.796347Z"
    },
    "hidden": true
   },
   "outputs": [
    {
     "data": {
      "application/vnd.jupyter.widget-view+json": {
       "model_id": "4e5df524ad3444cb92a0a9952b27dead",
       "version_major": 2,
       "version_minor": 0
      },
      "text/plain": [
       "  0%|          | 0/9 [00:00<?, ?it/s]"
      ]
     },
     "metadata": {},
     "output_type": "display_data"
    },
    {
     "name": "stdout",
     "output_type": "stream",
     "text": [
      "\n",
      "2015\n",
      "\u001b[1mSocial              \u001b[0m len(validated_companies)=2\n",
      "\u001b[1mEconomic            \u001b[0m len(validated_companies)=1\n",
      "\u001b[1mEnvironmental       \u001b[0m len(validated_companies)=2\n",
      "\n",
      "2016\n",
      "\u001b[1mSocial              \u001b[0m len(validated_companies)=2\n",
      "\u001b[1mEconomic            \u001b[0m len(validated_companies)=2\n",
      "\u001b[1mEnvironmental       \u001b[0m len(validated_companies)=1\n",
      "\n",
      "2017\n",
      "\u001b[1mEconomic            \u001b[0m len(validated_companies)=1\n",
      "\u001b[1mEnvironmental       \u001b[0m len(validated_companies)=1\n",
      "\n",
      "2018\n",
      "\u001b[1mEconomic            \u001b[0m len(validated_companies)=1\n",
      "\n",
      "2019\n",
      "\u001b[1mEconomic            \u001b[0m len(validated_companies)=1\n",
      "\n",
      "2020\n",
      "\u001b[1mSocial              \u001b[0m len(validated_companies)=1\n",
      "\n",
      "2021\n",
      "\u001b[1mSocial              \u001b[0m len(validated_companies)=1\n",
      "\u001b[1mEconomic            \u001b[0m len(validated_companies)=1\n",
      "\u001b[1mEnvironmental       \u001b[0m len(validated_companies)=5\n",
      "\n",
      "2022\n",
      "\u001b[1mSocial              \u001b[0m len(validated_companies)=2\n",
      "\u001b[1mEnvironmental       \u001b[0m len(validated_companies)=2\n",
      "\n",
      "2023\n",
      "\u001b[1mEnvironmental       \u001b[0m len(validated_companies)=3\n"
     ]
    }
   ],
   "source": [
    "_table=[]\n",
    "for i_y, year in enumerate(tqdm(years)):\n",
    "    print(f'\\n{year:}')\n",
    "    compa_y=vectors[vectors['year']==year]['company']\n",
    "    sec_y=vectors[vectors['year']==year]['sector']\n",
    "    for i_c, csdg in enumerate(cSDGS_names):\n",
    "        _fdr_th=fdr_th(cos_sims_cSDGs[i_y*l_csdgs+i_c]['p_val'], alpha)\n",
    "        validation_mask=cos_sims_cSDGs[i_y*l_csdgs+i_c]['p_val']<=_fdr_th\n",
    "        validated_compa=compa_y[validation_mask]\n",
    "        validated_sec=sec_y[validation_mask]\n",
    "        if len(validated_compa)>0:\n",
    "            print(f'\\033[1m{csdg.capitalize():20}\\033[0m len(validated_companies)={len(validated_compa):}')\n",
    "            for i_vc, vc in enumerate(validated_compa):\n",
    "                company_name_smooth=vc.split('_')\n",
    "                company_name_smooth=[_.capitalize() for _ in company_name_smooth]\n",
    "                company_name_smooth=' '.join(company_name_smooth)\n",
    "                if i_vc==0 and i_c==0:\n",
    "                    _table.append([year, csdg.capitalize(), company_name_smooth, sec_helper[validated_sec[i_vc]]])\n",
    "                elif i_vc==0:\n",
    "                    _table.append(['', csdg.capitalize(), company_name_smooth, sec_helper[validated_sec[i_vc]]])\n",
    "                else:\n",
    "                    _table.append(['', '', company_name_smooth, sec_helper[validated_sec[i_vc]]])\n",
    "        elif i_c==0:\n",
    "            _table.append([year, csdg.capitalize(), '', ''])\n",
    "        else:\n",
    "            _table.append(['', csdg.capitalize(), '', ''])"
   ]
  },
  {
   "cell_type": "code",
   "execution_count": 108,
   "id": "fafc7115",
   "metadata": {
    "ExecuteTime": {
     "end_time": "2025-06-17T17:09:31.277694Z",
     "start_time": "2025-06-17T17:09:31.272107Z"
    },
    "hidden": true
   },
   "outputs": [],
   "source": [
    "header=['Year',\"SDGs' dimension\",'Firm', 'Sector']"
   ]
  },
  {
   "cell_type": "code",
   "execution_count": 109,
   "id": "e79bfb30",
   "metadata": {
    "ExecuteTime": {
     "end_time": "2025-06-17T17:09:32.409047Z",
     "start_time": "2025-06-17T17:09:32.390306Z"
    },
    "hidden": true
   },
   "outputs": [
    {
     "name": "stdout",
     "output_type": "stream",
     "text": [
      "\\begin{tabular}{llll}\n",
      "\\hline\n",
      " Year   & SDGs' dimension   & Firm                          & Sector                 \\\\\n",
      "\\hline\n",
      " 2015   & Social            & Unilever                      & Consumer Staples       \\\\\n",
      "        &                   & Land Securities Group         & Real Estate            \\\\\n",
      "        & Economic          & Halma                         & Industrials            \\\\\n",
      "        & Environmental     & Halma                         & Industrials            \\\\\n",
      "        &                   & Land Securities Group         & Real Estate            \\\\\n",
      " 2016   & Social            & Unilever                      & Consumer Staples       \\\\\n",
      "        &                   & Standard Chartered            & Financials             \\\\\n",
      "        & Economic          & Standard Chartered            & Financials             \\\\\n",
      "        &                   & Halma                         & Industrials            \\\\\n",
      "        & Environmental     & Halma                         & Industrials            \\\\\n",
      " 2017   & Social            &                               &                        \\\\\n",
      "        & Economic          & Halma                         & Industrials            \\\\\n",
      "        & Environmental     & Halma                         & Industrials            \\\\\n",
      " 2018   & Social            &                               &                        \\\\\n",
      "        & Economic          & Halma                         & Industrials            \\\\\n",
      "        & Environmental     &                               &                        \\\\\n",
      " 2019   & Social            &                               &                        \\\\\n",
      "        & Economic          & Halma                         & Industrials            \\\\\n",
      "        & Environmental     &                               &                        \\\\\n",
      " 2020   & Social            & Standard Chartered            & Financials             \\\\\n",
      "        & Economic          &                               &                        \\\\\n",
      "        & Environmental     &                               &                        \\\\\n",
      " 2021   & Social            & Standard Chartered            & Financials             \\\\\n",
      "        & Economic          & Renewi                        & Utilities              \\\\\n",
      "        & Environmental     & Berkeley Group Holdings (the) & Consumer Discretionary \\\\\n",
      "        &                   & Reckitt Benckiser Group       & Consumer Staples       \\\\\n",
      "        &                   & Legal \\& General Group         & Financials             \\\\\n",
      "        &                   & Standard Chartered            & Financials             \\\\\n",
      "        &                   & Renewi                        & Utilities              \\\\\n",
      " 2022   & Social            & Legal \\& General Group         & Financials             \\\\\n",
      "        &                   & Standard Chartered            & Financials             \\\\\n",
      "        & Economic          &                               &                        \\\\\n",
      "        & Environmental     & Standard Chartered            & Financials             \\\\\n",
      "        &                   & Helios Towers                 & Telecommunications     \\\\\n",
      " 2023   & Social            &                               &                        \\\\\n",
      "        & Economic          &                               &                        \\\\\n",
      "        & Environmental     & Helios Towers                 & Telecommunications     \\\\\n",
      "        &                   & Pennon Group                  & Utilities              \\\\\n",
      "        &                   & United Utilities Group        & Utilities              \\\\\n",
      "\\hline\n",
      "\\end{tabular}\n"
     ]
    }
   ],
   "source": [
    "print(tabulate(_table, header, tablefmt=\"latex\"))"
   ]
  },
  {
   "cell_type": "markdown",
   "id": "dbd79a7a",
   "metadata": {},
   "source": [
    "### Per sector"
   ]
  },
  {
   "cell_type": "markdown",
   "id": "d6bc6019",
   "metadata": {
    "heading_collapsed": true
   },
   "source": [
    "#### Cosine similarity validation"
   ]
  },
  {
   "cell_type": "code",
   "execution_count": 143,
   "id": "d813b302",
   "metadata": {
    "ExecuteTime": {
     "end_time": "2025-06-18T07:37:14.606136Z",
     "start_time": "2025-06-18T07:37:14.599046Z"
    },
    "hidden": true
   },
   "outputs": [],
   "source": [
    "cos_sims_cSDGs_sec=np.zeros(len(years)*len(cSDGS_names), dtype=[('cSDG', 'U20'), ('all', object), ('p_val', object)])"
   ]
  },
  {
   "cell_type": "code",
   "execution_count": 144,
   "id": "62555a26",
   "metadata": {
    "ExecuteTime": {
     "end_time": "2025-06-18T07:37:15.158637Z",
     "start_time": "2025-06-18T07:37:14.983458Z"
    },
    "hidden": true
   },
   "outputs": [
    {
     "data": {
      "application/vnd.jupyter.widget-view+json": {
       "model_id": "552313c47d794c3daab2384e151b6778",
       "version_major": 2,
       "version_minor": 0
      },
      "text/plain": [
       "  0%|          | 0/9 [00:00<?, ?it/s]"
      ]
     },
     "metadata": {},
     "output_type": "display_data"
    }
   ],
   "source": [
    "for i_y, year in enumerate(tqdm(years)):\n",
    "    vecs_y=aggr_vectors[aggr_vectors['year']==year]['vector']\n",
    "    wiki_bench_y=wiki_bench_per_sector[aggr_vectors['year']==year]['cos_sim']\n",
    "    for i_c, csdg in enumerate(cSDGS_names):\n",
    "        cos_sims_cSDGs_sec[i_y*l_csdgs+i_c]['cSDG']=csdg\n",
    "        cos_sims_cSDGs_sec[i_y*l_csdgs+i_c]['all']=np.zeros(len(vecs_y))\n",
    "        cos_sims_cSDGs_sec[i_y*l_csdgs+i_c]['p_val']=np.zeros(len(vecs_y))\n",
    "        for i_vec, vec in enumerate(vecs_y):\n",
    "            _cos_sim=float(util.cos_sim(clustered_sdgs[i_c], vec))\n",
    "            cos_sims_cSDGs_sec[i_y*l_csdgs+i_c]['all'][i_vec]=_cos_sim\n",
    "            cos_sims_cSDGs_sec[i_y*l_csdgs+i_c]['p_val'][i_vec]=np.sum(wiki_bench_y[i_vec]>=_cos_sim)/len(wikivecs)"
   ]
  },
  {
   "cell_type": "code",
   "execution_count": 145,
   "id": "131c88bc",
   "metadata": {
    "ExecuteTime": {
     "end_time": "2025-06-18T07:40:17.522514Z",
     "start_time": "2025-06-18T07:40:17.486630Z"
    },
    "hidden": true
   },
   "outputs": [
    {
     "data": {
      "application/vnd.jupyter.widget-view+json": {
       "model_id": "c0baaf8c8bc24a8abe1f5cf2e989bdd7",
       "version_major": 2,
       "version_minor": 0
      },
      "text/plain": [
       "  0%|          | 0/9 [00:00<?, ?it/s]"
      ]
     },
     "metadata": {},
     "output_type": "display_data"
    },
    {
     "name": "stdout",
     "output_type": "stream",
     "text": [
      "\n",
      "2015\n",
      "Social               len(validated_sec)=0\n",
      "Economic             len(validated_sec)=0\n",
      "Environmental        len(validated_sec)=0\n",
      "\n",
      "2016\n",
      "Social               len(validated_sec)=0\n",
      "Economic             len(validated_sec)=0\n",
      "Environmental        len(validated_sec)=0\n",
      "\n",
      "2017\n",
      "Social               len(validated_sec)=0\n",
      "Economic             len(validated_sec)=0\n",
      "Environmental        len(validated_sec)=0\n",
      "\n",
      "2018\n",
      "Social               len(validated_sec)=0\n",
      "\u001b[1mEconomic            \n",
      "\t\u001b[1m05                       \u001b[0m sector=\u001b[1mFinancials\u001b[0m\n",
      "\n",
      "\n",
      "Environmental        len(validated_sec)=0\n",
      "\n",
      "2019\n",
      "Social               len(validated_sec)=0\n",
      "Economic             len(validated_sec)=0\n",
      "Environmental        len(validated_sec)=0\n",
      "\n",
      "2020\n",
      "\u001b[1mSocial              \n",
      "\t\u001b[1m05                       \u001b[0m sector=\u001b[1mFinancials\u001b[0m\n",
      "\n",
      "\n",
      "Economic             len(validated_sec)=0\n",
      "Environmental        len(validated_sec)=0\n",
      "\n",
      "2021\n",
      "Social               len(validated_sec)=0\n",
      "\u001b[1mEconomic            \n",
      "\t\u001b[1m07                       \u001b[0m sector=\u001b[1mIndustrials\u001b[0m\n",
      "\n",
      "\n",
      "Environmental        len(validated_sec)=0\n",
      "\n",
      "2022\n",
      "\u001b[1mSocial              \n",
      "\t\u001b[1m05                       \u001b[0m sector=\u001b[1mFinancials\u001b[0m\n",
      "\n",
      "\n",
      "\u001b[1mEconomic            \n",
      "\t\u001b[1m05                       \u001b[0m sector=\u001b[1mFinancials\u001b[0m\n",
      "\t\u001b[1m07                       \u001b[0m sector=\u001b[1mIndustrials\u001b[0m\n",
      "\n",
      "\n",
      "Environmental        len(validated_sec)=0\n",
      "\n",
      "2023\n",
      "Social               len(validated_sec)=0\n",
      "Economic             len(validated_sec)=0\n",
      "Environmental        len(validated_sec)=0\n"
     ]
    }
   ],
   "source": [
    "for i_y, year in enumerate(tqdm(years)):\n",
    "    print(f'\\n{year:}')\n",
    "    sec_y=aggr_vectors[aggr_vectors['year']==year]['sector']\n",
    "    for i_c, csdg in enumerate(cSDGS_names):\n",
    "        _fdr_th=fdr_th(cos_sims_cSDGs_sec[i_y*l_csdgs+i_c]['p_val'], alpha)\n",
    "        validation_mask=cos_sims_cSDGs_sec[i_y*l_csdgs+i_c]['p_val']<=_fdr_th\n",
    "        validated_sec=sec_y[validation_mask]\n",
    "        if len(validated_sec)>0:\n",
    "            print(f'\\033[1m{csdg.capitalize():20}')\n",
    "            for i_vs, vs in enumerate(validated_sec):\n",
    "                print(f'\\t\\033[1m{vs:25}\\033[0m sector=\\033[1m{sec_helper[vs]:}\\033[0m')\n",
    "            print('\\n')\n",
    "        else:\n",
    "            print(f'{csdg.capitalize():20} len(validated_sec)={len(validated_sec):}')"
   ]
  },
  {
   "cell_type": "markdown",
   "id": "f6d9705e",
   "metadata": {},
   "source": [
    "#### Table for $\\LaTeX$"
   ]
  },
  {
   "cell_type": "code",
   "execution_count": 107,
   "id": "f0c46810",
   "metadata": {
    "ExecuteTime": {
     "end_time": "2025-06-17T17:09:30.838724Z",
     "start_time": "2025-06-17T17:09:30.796347Z"
    }
   },
   "outputs": [
    {
     "data": {
      "application/vnd.jupyter.widget-view+json": {
       "model_id": "4e5df524ad3444cb92a0a9952b27dead",
       "version_major": 2,
       "version_minor": 0
      },
      "text/plain": [
       "  0%|          | 0/9 [00:00<?, ?it/s]"
      ]
     },
     "metadata": {},
     "output_type": "display_data"
    },
    {
     "name": "stdout",
     "output_type": "stream",
     "text": [
      "\n",
      "2015\n",
      "\u001b[1mSocial              \u001b[0m len(validated_companies)=2\n",
      "\u001b[1mEconomic            \u001b[0m len(validated_companies)=1\n",
      "\u001b[1mEnvironmental       \u001b[0m len(validated_companies)=2\n",
      "\n",
      "2016\n",
      "\u001b[1mSocial              \u001b[0m len(validated_companies)=2\n",
      "\u001b[1mEconomic            \u001b[0m len(validated_companies)=2\n",
      "\u001b[1mEnvironmental       \u001b[0m len(validated_companies)=1\n",
      "\n",
      "2017\n",
      "\u001b[1mEconomic            \u001b[0m len(validated_companies)=1\n",
      "\u001b[1mEnvironmental       \u001b[0m len(validated_companies)=1\n",
      "\n",
      "2018\n",
      "\u001b[1mEconomic            \u001b[0m len(validated_companies)=1\n",
      "\n",
      "2019\n",
      "\u001b[1mEconomic            \u001b[0m len(validated_companies)=1\n",
      "\n",
      "2020\n",
      "\u001b[1mSocial              \u001b[0m len(validated_companies)=1\n",
      "\n",
      "2021\n",
      "\u001b[1mSocial              \u001b[0m len(validated_companies)=1\n",
      "\u001b[1mEconomic            \u001b[0m len(validated_companies)=1\n",
      "\u001b[1mEnvironmental       \u001b[0m len(validated_companies)=5\n",
      "\n",
      "2022\n",
      "\u001b[1mSocial              \u001b[0m len(validated_companies)=2\n",
      "\u001b[1mEnvironmental       \u001b[0m len(validated_companies)=2\n",
      "\n",
      "2023\n",
      "\u001b[1mEnvironmental       \u001b[0m len(validated_companies)=3\n"
     ]
    }
   ],
   "source": [
    "_table=[]\n",
    "for i_y, year in enumerate(tqdm(years)):\n",
    "    print(f'\\n{year:}')\n",
    "    compa_y=vectors[vectors['year']==year]['company']\n",
    "    sec_y=vectors[vectors['year']==year]['sector']\n",
    "    for i_c, csdg in enumerate(cSDGS_names):\n",
    "        _fdr_th=fdr_th(cos_sims_cSDGs[i_y*l_csdgs+i_c]['p_val'], alpha)\n",
    "        validation_mask=cos_sims_cSDGs[i_y*l_csdgs+i_c]['p_val']<=_fdr_th\n",
    "        validated_compa=compa_y[validation_mask]\n",
    "        validated_sec=sec_y[validation_mask]\n",
    "        if len(validated_compa)>0:\n",
    "            print(f'\\033[1m{csdg.capitalize():20}\\033[0m len(validated_companies)={len(validated_compa):}')\n",
    "            for i_vc, vc in enumerate(validated_compa):\n",
    "                company_name_smooth=vc.split('_')\n",
    "                company_name_smooth=[_.capitalize() for _ in company_name_smooth]\n",
    "                company_name_smooth=' '.join(company_name_smooth)\n",
    "                if i_vc==0 and i_c==0:\n",
    "                    _table.append([year, csdg.capitalize(), company_name_smooth, sec_helper[validated_sec[i_vc]]])\n",
    "                elif i_vc==0:\n",
    "                    _table.append(['', csdg.capitalize(), company_name_smooth, sec_helper[validated_sec[i_vc]]])\n",
    "                else:\n",
    "                    _table.append(['', '', company_name_smooth, sec_helper[validated_sec[i_vc]]])\n",
    "        elif i_c==0:\n",
    "            _table.append([year, csdg.capitalize(), '', ''])\n",
    "        else:\n",
    "            _table.append(['', csdg.capitalize(), '', ''])"
   ]
  },
  {
   "cell_type": "code",
   "execution_count": 108,
   "id": "1ac2f08e",
   "metadata": {
    "ExecuteTime": {
     "end_time": "2025-06-17T17:09:31.277694Z",
     "start_time": "2025-06-17T17:09:31.272107Z"
    }
   },
   "outputs": [],
   "source": [
    "header=['Year',\"SDGs' dimension\",'Firm', 'Sector']"
   ]
  },
  {
   "cell_type": "code",
   "execution_count": 109,
   "id": "24f820a5",
   "metadata": {
    "ExecuteTime": {
     "end_time": "2025-06-17T17:09:32.409047Z",
     "start_time": "2025-06-17T17:09:32.390306Z"
    }
   },
   "outputs": [
    {
     "name": "stdout",
     "output_type": "stream",
     "text": [
      "\\begin{tabular}{llll}\n",
      "\\hline\n",
      " Year   & SDGs' dimension   & Firm                          & Sector                 \\\\\n",
      "\\hline\n",
      " 2015   & Social            & Unilever                      & Consumer Staples       \\\\\n",
      "        &                   & Land Securities Group         & Real Estate            \\\\\n",
      "        & Economic          & Halma                         & Industrials            \\\\\n",
      "        & Environmental     & Halma                         & Industrials            \\\\\n",
      "        &                   & Land Securities Group         & Real Estate            \\\\\n",
      " 2016   & Social            & Unilever                      & Consumer Staples       \\\\\n",
      "        &                   & Standard Chartered            & Financials             \\\\\n",
      "        & Economic          & Standard Chartered            & Financials             \\\\\n",
      "        &                   & Halma                         & Industrials            \\\\\n",
      "        & Environmental     & Halma                         & Industrials            \\\\\n",
      " 2017   & Social            &                               &                        \\\\\n",
      "        & Economic          & Halma                         & Industrials            \\\\\n",
      "        & Environmental     & Halma                         & Industrials            \\\\\n",
      " 2018   & Social            &                               &                        \\\\\n",
      "        & Economic          & Halma                         & Industrials            \\\\\n",
      "        & Environmental     &                               &                        \\\\\n",
      " 2019   & Social            &                               &                        \\\\\n",
      "        & Economic          & Halma                         & Industrials            \\\\\n",
      "        & Environmental     &                               &                        \\\\\n",
      " 2020   & Social            & Standard Chartered            & Financials             \\\\\n",
      "        & Economic          &                               &                        \\\\\n",
      "        & Environmental     &                               &                        \\\\\n",
      " 2021   & Social            & Standard Chartered            & Financials             \\\\\n",
      "        & Economic          & Renewi                        & Utilities              \\\\\n",
      "        & Environmental     & Berkeley Group Holdings (the) & Consumer Discretionary \\\\\n",
      "        &                   & Reckitt Benckiser Group       & Consumer Staples       \\\\\n",
      "        &                   & Legal \\& General Group         & Financials             \\\\\n",
      "        &                   & Standard Chartered            & Financials             \\\\\n",
      "        &                   & Renewi                        & Utilities              \\\\\n",
      " 2022   & Social            & Legal \\& General Group         & Financials             \\\\\n",
      "        &                   & Standard Chartered            & Financials             \\\\\n",
      "        & Economic          &                               &                        \\\\\n",
      "        & Environmental     & Standard Chartered            & Financials             \\\\\n",
      "        &                   & Helios Towers                 & Telecommunications     \\\\\n",
      " 2023   & Social            &                               &                        \\\\\n",
      "        & Economic          &                               &                        \\\\\n",
      "        & Environmental     & Helios Towers                 & Telecommunications     \\\\\n",
      "        &                   & Pennon Group                  & Utilities              \\\\\n",
      "        &                   & United Utilities Group        & Utilities              \\\\\n",
      "\\hline\n",
      "\\end{tabular}\n"
     ]
    }
   ],
   "source": [
    "print(tabulate(_table, header, tablefmt=\"latex\"))"
   ]
  },
  {
   "cell_type": "markdown",
   "id": "dda377ce",
   "metadata": {},
   "source": [
    "### Per aggregated sector"
   ]
  },
  {
   "cell_type": "markdown",
   "id": "f23b9757",
   "metadata": {},
   "source": [
    "#### Cosine similarity validation"
   ]
  },
  {
   "cell_type": "code",
   "execution_count": 111,
   "id": "7c85d927",
   "metadata": {
    "ExecuteTime": {
     "end_time": "2025-08-04T15:32:14.907969Z",
     "start_time": "2025-08-04T15:32:14.900906Z"
    }
   },
   "outputs": [],
   "source": [
    "cos_sims_cSDGs_aggsec=np.zeros(len(years)*len(cSDGS_names), dtype=[('cSDG', 'U20'), ('all', object), ('p_val', object)])"
   ]
  },
  {
   "cell_type": "code",
   "execution_count": 113,
   "id": "ad44cbf2",
   "metadata": {
    "ExecuteTime": {
     "end_time": "2025-08-04T15:32:32.159623Z",
     "start_time": "2025-08-04T15:32:32.056904Z"
    }
   },
   "outputs": [
    {
     "data": {
      "application/vnd.jupyter.widget-view+json": {
       "model_id": "850030590c394ac2bde7f3df5ebaf1c3",
       "version_major": 2,
       "version_minor": 0
      },
      "text/plain": [
       "  0%|          | 0/9 [00:00<?, ?it/s]"
      ]
     },
     "metadata": {},
     "output_type": "display_data"
    }
   ],
   "source": [
    "for i_y, year in enumerate(tqdm(years)):\n",
    "    vecs_y=aggsec_aggr_vectors[aggsec_aggr_vectors['year']==year]['vector']\n",
    "    wiki_bench_y=wiki_bench_per_agg_sec[aggsec_aggr_vectors['year']==year]['cos_sim']\n",
    "    for i_c, csdg in enumerate(cSDGS_names):\n",
    "        cos_sims_cSDGs_aggsec[i_y*l_csdgs+i_c]['cSDG']=csdg\n",
    "        cos_sims_cSDGs_aggsec[i_y*l_csdgs+i_c]['all']=np.zeros(len(vecs_y))\n",
    "        cos_sims_cSDGs_aggsec[i_y*l_csdgs+i_c]['p_val']=np.zeros(len(vecs_y))\n",
    "        for i_vec, vec in enumerate(vecs_y):\n",
    "            _cos_sim=float(util.cos_sim(clustered_sdgs[i_c], vec))\n",
    "            cos_sims_cSDGs_aggsec[i_y*l_csdgs+i_c]['all'][i_vec]=_cos_sim\n",
    "            cos_sims_cSDGs_aggsec[i_y*l_csdgs+i_c]['p_val'][i_vec]=np.sum(wiki_bench_y[i_vec]>=_cos_sim)/len(wikivecs)"
   ]
  },
  {
   "cell_type": "code",
   "execution_count": 115,
   "id": "77adf562",
   "metadata": {
    "ExecuteTime": {
     "end_time": "2025-08-04T15:34:46.921817Z",
     "start_time": "2025-08-04T15:34:46.884469Z"
    }
   },
   "outputs": [
    {
     "data": {
      "application/vnd.jupyter.widget-view+json": {
       "model_id": "dfd5c9fc48ee4c1492027cabefcc4d45",
       "version_major": 2,
       "version_minor": 0
      },
      "text/plain": [
       "  0%|          | 0/9 [00:00<?, ?it/s]"
      ]
     },
     "metadata": {},
     "output_type": "display_data"
    },
    {
     "name": "stdout",
     "output_type": "stream",
     "text": [
      "\n",
      "2015\n",
      "Social               len(validated_sec)=0\n",
      "Economic             len(validated_sec)=0\n",
      "Environmental        len(validated_sec)=0\n",
      "\n",
      "2016\n",
      "\u001b[1mSocial              \n",
      "\t\u001b[1mD                        \u001b[0m sector=\u001b[1mSpecialized Services\u001b[0m\n",
      "\n",
      "\n",
      "Economic             len(validated_sec)=0\n",
      "Environmental        len(validated_sec)=0\n",
      "\n",
      "2017\n",
      "Social               len(validated_sec)=0\n",
      "Economic             len(validated_sec)=0\n",
      "Environmental        len(validated_sec)=0\n",
      "\n",
      "2018\n",
      "Social               len(validated_sec)=0\n",
      "\u001b[1mEconomic            \n",
      "\t\u001b[1mC                        \u001b[0m sector=\u001b[1mProduction Sectors\u001b[0m\n",
      "\t\u001b[1mD                        \u001b[0m sector=\u001b[1mSpecialized Services\u001b[0m\n",
      "\n",
      "\n",
      "Environmental        len(validated_sec)=0\n",
      "\n",
      "2019\n",
      "Social               len(validated_sec)=0\n",
      "\u001b[1mEconomic            \n",
      "\t\u001b[1mC                        \u001b[0m sector=\u001b[1mProduction Sectors\u001b[0m\n",
      "\n",
      "\n",
      "Environmental        len(validated_sec)=0\n",
      "\n",
      "2020\n",
      "\u001b[1mSocial              \n",
      "\t\u001b[1mA                        \u001b[0m sector=\u001b[1mConsumer Goods\u001b[0m\n",
      "\t\u001b[1mD                        \u001b[0m sector=\u001b[1mSpecialized Services\u001b[0m\n",
      "\n",
      "\n",
      "Economic             len(validated_sec)=0\n",
      "\u001b[1mEnvironmental       \n",
      "\t\u001b[1mA                        \u001b[0m sector=\u001b[1mConsumer Goods\u001b[0m\n",
      "\n",
      "\n",
      "\n",
      "2021\n",
      "Social               len(validated_sec)=0\n",
      "Economic             len(validated_sec)=0\n",
      "Environmental        len(validated_sec)=0\n",
      "\n",
      "2022\n",
      "Social               len(validated_sec)=0\n",
      "\u001b[1mEconomic            \n",
      "\t\u001b[1mC                        \u001b[0m sector=\u001b[1mProduction Sectors\u001b[0m\n",
      "\n",
      "\n",
      "\u001b[1mEnvironmental       \n",
      "\t\u001b[1mA                        \u001b[0m sector=\u001b[1mConsumer Goods\u001b[0m\n",
      "\t\u001b[1mC                        \u001b[0m sector=\u001b[1mProduction Sectors\u001b[0m\n",
      "\n",
      "\n",
      "\n",
      "2023\n",
      "Social               len(validated_sec)=0\n",
      "Economic             len(validated_sec)=0\n",
      "Environmental        len(validated_sec)=0\n"
     ]
    }
   ],
   "source": [
    "for i_y, year in enumerate(tqdm(years)):\n",
    "    print(f'\\n{year:}')\n",
    "    sec_y=aggsec_aggr_vectors[aggsec_aggr_vectors['year']==year]['agg_sec']\n",
    "    for i_c, csdg in enumerate(cSDGS_names):\n",
    "        _fdr_th=fdr_th(cos_sims_cSDGs_aggsec[i_y*l_csdgs+i_c]['p_val'], alpha)\n",
    "        validation_mask=cos_sims_cSDGs_aggsec[i_y*l_csdgs+i_c]['p_val']<=_fdr_th\n",
    "        validated_sec=sec_y[validation_mask]\n",
    "        if len(validated_sec)>0:\n",
    "            print(f'\\033[1m{csdg.capitalize():20}')\n",
    "            for i_vs, vs in enumerate(validated_sec):\n",
    "                #print(f\"\\t\\t{vs:25} sector={agg_secs[vs]['name']:}\")\n",
    "                print(f\"\\t\\033[1m{vs:25}\\033[0m sector=\\033[1m{agg_secs[vs]['name']:}\\033[0m\")\n",
    "            print('\\n')\n",
    "        else:\n",
    "            print(f'{csdg.capitalize():20} len(validated_sec)={len(validated_sec):}')"
   ]
  },
  {
   "cell_type": "markdown",
   "id": "63661d18",
   "metadata": {},
   "source": [
    "#### Table for $\\LaTeX$"
   ]
  },
  {
   "cell_type": "code",
   "execution_count": 123,
   "id": "4f24ae3b",
   "metadata": {
    "ExecuteTime": {
     "end_time": "2025-08-04T15:44:44.136936Z",
     "start_time": "2025-08-04T15:44:44.094955Z"
    }
   },
   "outputs": [
    {
     "data": {
      "application/vnd.jupyter.widget-view+json": {
       "model_id": "5a8362aa918c492fa0b5ce6586e4c76d",
       "version_major": 2,
       "version_minor": 0
      },
      "text/plain": [
       "  0%|          | 0/9 [00:00<?, ?it/s]"
      ]
     },
     "metadata": {},
     "output_type": "display_data"
    },
    {
     "name": "stdout",
     "output_type": "stream",
     "text": [
      "\n",
      "2015\n",
      "\n",
      "2016\n",
      "\u001b[1mSocial              \u001b[0m len(validated_sec)=1\n",
      "\n",
      "2017\n",
      "\n",
      "2018\n",
      "\u001b[1mEconomic            \u001b[0m len(validated_sec)=2\n",
      "\n",
      "2019\n",
      "\u001b[1mEconomic            \u001b[0m len(validated_sec)=1\n",
      "\n",
      "2020\n",
      "\u001b[1mSocial              \u001b[0m len(validated_sec)=2\n",
      "\u001b[1mEnvironmental       \u001b[0m len(validated_sec)=1\n",
      "\n",
      "2021\n",
      "\n",
      "2022\n",
      "\u001b[1mEconomic            \u001b[0m len(validated_sec)=1\n",
      "\u001b[1mEnvironmental       \u001b[0m len(validated_sec)=2\n",
      "\n",
      "2023\n"
     ]
    }
   ],
   "source": [
    "_table=[]\n",
    "for i_y, year in enumerate(tqdm(years)):\n",
    "    print(f'\\n{year:}')\n",
    "    sec_y=aggsec_aggr_vectors[aggsec_aggr_vectors['year']==year]['agg_sec']\n",
    "    for i_c, csdg in enumerate(cSDGS_names):\n",
    "        _fdr_th=fdr_th(cos_sims_cSDGs_aggsec[i_y*l_csdgs+i_c]['p_val'], alpha)\n",
    "        validation_mask=cos_sims_cSDGs_aggsec[i_y*l_csdgs+i_c]['p_val']<=_fdr_th\n",
    "        validated_sec=sec_y[validation_mask]\n",
    "        if len(validated_sec)>0:\n",
    "            print(f'\\033[1m{csdg.capitalize():20}\\033[0m len(validated_sec)={len(validated_sec):}')\n",
    "            for i_vs, vs in enumerate(validated_sec):\n",
    "                if i_vs==0 and i_c==0:\n",
    "                    _table.append([year, csdg.capitalize(), agg_secs[vs]['name']])\n",
    "                elif i_vs==0:\n",
    "                    _table.append(['', csdg.capitalize(), agg_secs[vs]['name']])\n",
    "                else:\n",
    "                    _table.append(['', '', agg_secs[vs]['name']])\n",
    "        elif i_c==0:\n",
    "            _table.append([year, csdg.capitalize(),  ''])\n",
    "        else:\n",
    "            _table.append(['', csdg.capitalize(), ''])"
   ]
  },
  {
   "cell_type": "code",
   "execution_count": 124,
   "id": "349419c9",
   "metadata": {
    "ExecuteTime": {
     "end_time": "2025-08-04T15:44:46.527968Z",
     "start_time": "2025-08-04T15:44:46.521404Z"
    }
   },
   "outputs": [],
   "source": [
    "header=['Year',\"SDGs' dimension\", 'Aggregated sector']"
   ]
  },
  {
   "cell_type": "code",
   "execution_count": 125,
   "id": "e909916f",
   "metadata": {
    "ExecuteTime": {
     "end_time": "2025-08-04T15:44:46.895710Z",
     "start_time": "2025-08-04T15:44:46.881658Z"
    }
   },
   "outputs": [
    {
     "name": "stdout",
     "output_type": "stream",
     "text": [
      "\\begin{tabular}{lll}\n",
      "\\hline\n",
      " Year   & SDGs' dimension   & Aggregated sector    \\\\\n",
      "\\hline\n",
      " 2015   & Social            &                      \\\\\n",
      "        & Economic          &                      \\\\\n",
      "        & Environmental     &                      \\\\\n",
      " 2016   & Social            & Specialized Services \\\\\n",
      "        & Economic          &                      \\\\\n",
      "        & Environmental     &                      \\\\\n",
      " 2017   & Social            &                      \\\\\n",
      "        & Economic          &                      \\\\\n",
      "        & Environmental     &                      \\\\\n",
      " 2018   & Social            &                      \\\\\n",
      "        & Economic          & Production Sectors   \\\\\n",
      "        &                   & Specialized Services \\\\\n",
      "        & Environmental     &                      \\\\\n",
      " 2019   & Social            &                      \\\\\n",
      "        & Economic          & Production Sectors   \\\\\n",
      "        & Environmental     &                      \\\\\n",
      " 2020   & Social            & Consumer Goods       \\\\\n",
      "        &                   & Specialized Services \\\\\n",
      "        & Economic          &                      \\\\\n",
      "        & Environmental     & Consumer Goods       \\\\\n",
      " 2021   & Social            &                      \\\\\n",
      "        & Economic          &                      \\\\\n",
      "        & Environmental     &                      \\\\\n",
      " 2022   & Social            &                      \\\\\n",
      "        & Economic          & Production Sectors   \\\\\n",
      "        & Environmental     & Consumer Goods       \\\\\n",
      "        &                   & Production Sectors   \\\\\n",
      " 2023   & Social            &                      \\\\\n",
      "        & Economic          &                      \\\\\n",
      "        & Environmental     &                      \\\\\n",
      "\\hline\n",
      "\\end{tabular}\n"
     ]
    }
   ],
   "source": [
    "print(tabulate(_table, header, tablefmt=\"latex\"))"
   ]
  },
  {
   "cell_type": "markdown",
   "id": "2aee25de",
   "metadata": {},
   "source": [
    "## Each SDG"
   ]
  },
  {
   "cell_type": "code",
   "execution_count": 81,
   "id": "1676883f",
   "metadata": {
    "ExecuteTime": {
     "end_time": "2025-06-17T11:25:52.964674Z",
     "start_time": "2025-06-17T11:25:52.958860Z"
    }
   },
   "outputs": [],
   "source": [
    "l_sdgs=len(sdg_helper.keys())"
   ]
  },
  {
   "cell_type": "code",
   "execution_count": 82,
   "id": "cd5609fb",
   "metadata": {
    "ExecuteTime": {
     "end_time": "2025-06-17T11:25:53.138730Z",
     "start_time": "2025-06-17T11:25:53.131928Z"
    }
   },
   "outputs": [],
   "source": [
    "cos_sims_SDGs=np.zeros(len(years)*l_sdgs, dtype=[('SDG', 'U20'), ('mean', 'f8'), ('all', object), ('p_val', object)])"
   ]
  },
  {
   "cell_type": "code",
   "execution_count": 83,
   "id": "5a97857a",
   "metadata": {
    "ExecuteTime": {
     "end_time": "2025-06-17T11:25:57.173628Z",
     "start_time": "2025-06-17T11:25:53.352823Z"
    }
   },
   "outputs": [
    {
     "data": {
      "application/vnd.jupyter.widget-view+json": {
       "model_id": "96a924358caf4ae9802ce8895047990b",
       "version_major": 2,
       "version_minor": 0
      },
      "text/plain": [
       "  0%|          | 0/9 [00:00<?, ?it/s]"
      ]
     },
     "metadata": {},
     "output_type": "display_data"
    }
   ],
   "source": [
    "for i_y, year in enumerate(tqdm(years)):\n",
    "    vecs_y=vectors[vectors['year']==year]['vector']\n",
    "    wiki_bench_y=wiki_bench[vectors['year']==year]['cos_sim']\n",
    "    for i_s, sdg in enumerate(sdg_helper.keys()):\n",
    "        cos_sims_SDGs[i_y*l_sdgs+i_s]['SDG']=sdg\n",
    "        cos_sims_SDGs[i_y*l_sdgs+i_s]['all']=np.zeros(len(vecs_y))\n",
    "        cos_sims_SDGs[i_y*l_sdgs+i_s]['p_val']=np.zeros(len(vecs_y))\n",
    "        for i_vec, vec in enumerate(vecs_y):\n",
    "            _cos_sim=float(util.cos_sim(goalvecs[i_s], vec))\n",
    "            cos_sims_SDGs[i_y*l_sdgs+i_s]['all'][i_vec]=_cos_sim\n",
    "            cos_sims_SDGs[i_y*l_sdgs+i_s]['p_val'][i_vec]=np.sum(wiki_bench_y[i_vec]>=_cos_sim)/len(wikivecs)\n",
    "        cos_sims_SDGs[i_y*l_sdgs+i_s]['mean']=np.mean(cos_sims_SDGs[i_y*l_sdgs+i_s]['all'])"
   ]
  },
  {
   "cell_type": "code",
   "execution_count": 84,
   "id": "2e1d77a6",
   "metadata": {
    "ExecuteTime": {
     "end_time": "2025-06-17T11:25:57.242053Z",
     "start_time": "2025-06-17T11:25:57.179652Z"
    }
   },
   "outputs": [
    {
     "data": {
      "application/vnd.jupyter.widget-view+json": {
       "model_id": "4d954abfe9c1458cbfa6a98ff42795e0",
       "version_major": 2,
       "version_minor": 0
      },
      "text/plain": [
       "  0%|          | 0/9 [00:00<?, ?it/s]"
      ]
     },
     "metadata": {},
     "output_type": "display_data"
    },
    {
     "name": "stdout",
     "output_type": "stream",
     "text": [
      "\n",
      "\u001b[1m2015\u001b[0m\n",
      "\u001b[1m01: No Poverty                                                  \u001b[0m len(validated_companies)=2\n",
      "\t\u001b[1munilever                 \u001b[0m sector=\u001b[1mConsumer Staples\u001b[0m\n",
      "\t\u001b[1mland_securities_group    \u001b[0m sector=\u001b[1mReal Estate\u001b[0m\n",
      "\n",
      "\n",
      "02: Zero hunger                                                  len(validated_companies)=0\n",
      "\u001b[1m03: Good health and well-being                                  \u001b[0m len(validated_companies)=2\n",
      "\t\u001b[1mgsk                      \u001b[0m sector=\u001b[1mHealth Care\u001b[0m\n",
      "\t\u001b[1mland_securities_group    \u001b[0m sector=\u001b[1mReal Estate\u001b[0m\n",
      "\n",
      "\n",
      "04: Quality education                                            len(validated_companies)=0\n",
      "05: Gender equality                                              len(validated_companies)=0\n",
      "\u001b[1m06: Clean water and sanitation                                  \u001b[0m len(validated_companies)=3\n",
      "\t\u001b[1mreckitt_benckiser_group  \u001b[0m sector=\u001b[1mConsumer Staples\u001b[0m\n",
      "\t\u001b[1mhalma                    \u001b[0m sector=\u001b[1mIndustrials\u001b[0m\n",
      "\t\u001b[1mland_securities_group    \u001b[0m sector=\u001b[1mReal Estate\u001b[0m\n",
      "\n",
      "\n",
      "\u001b[1m07: Affordable and clean energy                                 \u001b[0m len(validated_companies)=1\n",
      "\t\u001b[1mhalma                    \u001b[0m sector=\u001b[1mIndustrials\u001b[0m\n",
      "\n",
      "\n",
      "08: Decent work and economic growth                              len(validated_companies)=0\n",
      "\u001b[1m09: Industry, Innovation, Technology and Infrastructure         \u001b[0m len(validated_companies)=3\n",
      "\t\u001b[1mhalma                    \u001b[0m sector=\u001b[1mIndustrials\u001b[0m\n",
      "\t\u001b[1mimi                      \u001b[0m sector=\u001b[1mIndustrials\u001b[0m\n",
      "\t\u001b[1mland_securities_group    \u001b[0m sector=\u001b[1mReal Estate\u001b[0m\n",
      "\n",
      "\n",
      "\u001b[1m10: Reduced inequality                                          \u001b[0m len(validated_companies)=3\n",
      "\t\u001b[1munilever                 \u001b[0m sector=\u001b[1mConsumer Staples\u001b[0m\n",
      "\t\u001b[1mstandard_chartered       \u001b[0m sector=\u001b[1mFinancials\u001b[0m\n",
      "\t\u001b[1mland_securities_group    \u001b[0m sector=\u001b[1mReal Estate\u001b[0m\n",
      "\n",
      "\n",
      "\u001b[1m11: Sustainable cities and communities                          \u001b[0m len(validated_companies)=2\n",
      "\t\u001b[1mhalma                    \u001b[0m sector=\u001b[1mIndustrials\u001b[0m\n",
      "\t\u001b[1mland_securities_group    \u001b[0m sector=\u001b[1mReal Estate\u001b[0m\n",
      "\n",
      "\n",
      "\u001b[1m12: Responsible consumption and production                      \u001b[0m len(validated_companies)=1\n",
      "\t\u001b[1mreckitt_benckiser_group  \u001b[0m sector=\u001b[1mConsumer Staples\u001b[0m\n",
      "\n",
      "\n",
      "13: Climate action                                               len(validated_companies)=0\n",
      "\u001b[1m14: Life below water                                            \u001b[0m len(validated_companies)=1\n",
      "\t\u001b[1mland_securities_group    \u001b[0m sector=\u001b[1mReal Estate\u001b[0m\n",
      "\n",
      "\n",
      "\u001b[1m15: Life on land                                                \u001b[0m len(validated_companies)=1\n",
      "\t\u001b[1mland_securities_group    \u001b[0m sector=\u001b[1mReal Estate\u001b[0m\n",
      "\n",
      "\n",
      "16: Peace, justice and strong institutions                       len(validated_companies)=0\n",
      "17: Partnerships for the goals                                   len(validated_companies)=0\n",
      "\n",
      "\u001b[1m2016\u001b[0m\n",
      "01: No Poverty                                                   len(validated_companies)=0\n",
      "02: Zero hunger                                                  len(validated_companies)=0\n",
      "\u001b[1m03: Good health and well-being                                  \u001b[0m len(validated_companies)=1\n",
      "\t\u001b[1mgsk                      \u001b[0m sector=\u001b[1mHealth Care\u001b[0m\n",
      "\n",
      "\n",
      "04: Quality education                                            len(validated_companies)=0\n",
      "05: Gender equality                                              len(validated_companies)=0\n",
      "\u001b[1m06: Clean water and sanitation                                  \u001b[0m len(validated_companies)=2\n",
      "\t\u001b[1mhalma                    \u001b[0m sector=\u001b[1mIndustrials\u001b[0m\n",
      "\t\u001b[1mrentokil_initial         \u001b[0m sector=\u001b[1mIndustrials\u001b[0m\n",
      "\n",
      "\n",
      "\u001b[1m07: Affordable and clean energy                                 \u001b[0m len(validated_companies)=4\n",
      "\t\u001b[1munilever                 \u001b[0m sector=\u001b[1mConsumer Staples\u001b[0m\n",
      "\t\u001b[1mhalma                    \u001b[0m sector=\u001b[1mIndustrials\u001b[0m\n",
      "\t\u001b[1mrentokil_initial         \u001b[0m sector=\u001b[1mIndustrials\u001b[0m\n",
      "\t\u001b[1mgood_energy_group        \u001b[0m sector=\u001b[1mUtilities\u001b[0m\n",
      "\n",
      "\n",
      "08: Decent work and economic growth                              len(validated_companies)=0\n",
      "\u001b[1m09: Industry, Innovation, Technology and Infrastructure         \u001b[0m len(validated_companies)=1\n",
      "\t\u001b[1mhalma                    \u001b[0m sector=\u001b[1mIndustrials\u001b[0m\n",
      "\n",
      "\n",
      "\u001b[1m10: Reduced inequality                                          \u001b[0m len(validated_companies)=1\n",
      "\t\u001b[1mstandard_chartered       \u001b[0m sector=\u001b[1mFinancials\u001b[0m\n",
      "\n",
      "\n",
      "\u001b[1m11: Sustainable cities and communities                          \u001b[0m len(validated_companies)=1\n",
      "\t\u001b[1mhalma                    \u001b[0m sector=\u001b[1mIndustrials\u001b[0m\n",
      "\n",
      "\n",
      "12: Responsible consumption and production                       len(validated_companies)=0\n",
      "13: Climate action                                               len(validated_companies)=0\n",
      "\u001b[1m14: Life below water                                            \u001b[0m len(validated_companies)=1\n",
      "\t\u001b[1mhalma                    \u001b[0m sector=\u001b[1mIndustrials\u001b[0m\n",
      "\n",
      "\n",
      "\u001b[1m15: Life on land                                                \u001b[0m len(validated_companies)=1\n",
      "\t\u001b[1mland_securities_group    \u001b[0m sector=\u001b[1mReal Estate\u001b[0m\n",
      "\n",
      "\n",
      "16: Peace, justice and strong institutions                       len(validated_companies)=0\n",
      "\u001b[1m17: Partnerships for the goals                                  \u001b[0m len(validated_companies)=1\n",
      "\t\u001b[1mstandard_chartered       \u001b[0m sector=\u001b[1mFinancials\u001b[0m\n",
      "\n",
      "\n",
      "\n",
      "\u001b[1m2017\u001b[0m\n",
      "01: No Poverty                                                   len(validated_companies)=0\n",
      "02: Zero hunger                                                  len(validated_companies)=0\n",
      "\u001b[1m03: Good health and well-being                                  \u001b[0m len(validated_companies)=1\n",
      "\t\u001b[1mgsk                      \u001b[0m sector=\u001b[1mHealth Care\u001b[0m\n",
      "\n",
      "\n",
      "04: Quality education                                            len(validated_companies)=0\n",
      "05: Gender equality                                              len(validated_companies)=0\n",
      "\u001b[1m06: Clean water and sanitation                                  \u001b[0m len(validated_companies)=1\n",
      "\t\u001b[1mhalma                    \u001b[0m sector=\u001b[1mIndustrials\u001b[0m\n",
      "\n",
      "\n",
      "\u001b[1m07: Affordable and clean energy                                 \u001b[0m len(validated_companies)=2\n",
      "\t\u001b[1mhalma                    \u001b[0m sector=\u001b[1mIndustrials\u001b[0m\n",
      "\t\u001b[1mgood_energy_group        \u001b[0m sector=\u001b[1mUtilities\u001b[0m\n",
      "\n",
      "\n",
      "08: Decent work and economic growth                              len(validated_companies)=0\n",
      "\u001b[1m09: Industry, Innovation, Technology and Infrastructure         \u001b[0m len(validated_companies)=1\n",
      "\t\u001b[1mhalma                    \u001b[0m sector=\u001b[1mIndustrials\u001b[0m\n",
      "\n",
      "\n",
      "10: Reduced inequality                                           len(validated_companies)=0\n",
      "\u001b[1m11: Sustainable cities and communities                          \u001b[0m len(validated_companies)=1\n",
      "\t\u001b[1mhalma                    \u001b[0m sector=\u001b[1mIndustrials\u001b[0m\n",
      "\n",
      "\n",
      "12: Responsible consumption and production                       len(validated_companies)=0\n",
      "13: Climate action                                               len(validated_companies)=0\n",
      "14: Life below water                                             len(validated_companies)=0\n",
      "15: Life on land                                                 len(validated_companies)=0\n",
      "16: Peace, justice and strong institutions                       len(validated_companies)=0\n",
      "17: Partnerships for the goals                                   len(validated_companies)=0\n",
      "\n",
      "\u001b[1m2018\u001b[0m\n",
      "01: No Poverty                                                   len(validated_companies)=0\n",
      "02: Zero hunger                                                  len(validated_companies)=0\n",
      "03: Good health and well-being                                   len(validated_companies)=0\n",
      "04: Quality education                                            len(validated_companies)=0\n",
      "\u001b[1m05: Gender equality                                             \u001b[0m len(validated_companies)=1\n",
      "\t\u001b[1mmarks_and_spencer_group  \u001b[0m sector=\u001b[1mConsumer Staples\u001b[0m\n",
      "\n",
      "\n",
      "\u001b[1m06: Clean water and sanitation                                  \u001b[0m len(validated_companies)=1\n",
      "\t\u001b[1mhalma                    \u001b[0m sector=\u001b[1mIndustrials\u001b[0m\n",
      "\n",
      "\n",
      "\u001b[1m07: Affordable and clean energy                                 \u001b[0m len(validated_companies)=3\n",
      "\t\u001b[1mjohnson_matthey          \u001b[0m sector=\u001b[1mBasic Materials\u001b[0m\n",
      "\t\u001b[1mhalma                    \u001b[0m sector=\u001b[1mIndustrials\u001b[0m\n",
      "\t\u001b[1mgood_energy_group        \u001b[0m sector=\u001b[1mUtilities\u001b[0m\n",
      "\n",
      "\n",
      "08: Decent work and economic growth                              len(validated_companies)=0\n",
      "\u001b[1m09: Industry, Innovation, Technology and Infrastructure         \u001b[0m len(validated_companies)=1\n",
      "\t\u001b[1mhalma                    \u001b[0m sector=\u001b[1mIndustrials\u001b[0m\n",
      "\n",
      "\n",
      "10: Reduced inequality                                           len(validated_companies)=0\n",
      "\u001b[1m11: Sustainable cities and communities                          \u001b[0m len(validated_companies)=1\n",
      "\t\u001b[1mhalma                    \u001b[0m sector=\u001b[1mIndustrials\u001b[0m\n",
      "\n",
      "\n",
      "12: Responsible consumption and production                       len(validated_companies)=0\n",
      "13: Climate action                                               len(validated_companies)=0\n",
      "14: Life below water                                             len(validated_companies)=0\n",
      "15: Life on land                                                 len(validated_companies)=0\n",
      "16: Peace, justice and strong institutions                       len(validated_companies)=0\n",
      "\u001b[1m17: Partnerships for the goals                                  \u001b[0m len(validated_companies)=2\n",
      "\t\u001b[1msainsbury_(j)            \u001b[0m sector=\u001b[1mConsumer Staples\u001b[0m\n",
      "\t\u001b[1mstandard_chartered       \u001b[0m sector=\u001b[1mFinancials\u001b[0m\n",
      "\n",
      "\n",
      "\n",
      "\u001b[1m2019\u001b[0m\n",
      "01: No Poverty                                                   len(validated_companies)=0\n",
      "\u001b[1m02: Zero hunger                                                 \u001b[0m len(validated_companies)=2\n",
      "\t\u001b[1mcompass_group            \u001b[0m sector=\u001b[1mConsumer Discretionary\u001b[0m\n",
      "\t\u001b[1massociated_british_foods \u001b[0m sector=\u001b[1mConsumer Staples\u001b[0m\n",
      "\n",
      "\n",
      "\u001b[1m03: Good health and well-being                                  \u001b[0m len(validated_companies)=1\n",
      "\t\u001b[1mastrazeneca              \u001b[0m sector=\u001b[1mHealth Care\u001b[0m\n",
      "\n",
      "\n",
      "04: Quality education                                            len(validated_companies)=0\n",
      "05: Gender equality                                              len(validated_companies)=0\n",
      "\u001b[1m06: Clean water and sanitation                                  \u001b[0m len(validated_companies)=7\n",
      "\t\u001b[1mrio_tinto                \u001b[0m sector=\u001b[1mBasic Materials\u001b[0m\n",
      "\t\u001b[1mintercontinental_hotels_group\u001b[0m sector=\u001b[1mConsumer Discretionary\u001b[0m\n",
      "\t\u001b[1mreckitt_benckiser_group  \u001b[0m sector=\u001b[1mConsumer Staples\u001b[0m\n",
      "\t\u001b[1mdiversified_energy_company\u001b[0m sector=\u001b[1mEnergy\u001b[0m\n",
      "\t\u001b[1mastrazeneca              \u001b[0m sector=\u001b[1mHealth Care\u001b[0m\n",
      "\t\u001b[1mhalma                    \u001b[0m sector=\u001b[1mIndustrials\u001b[0m\n",
      "\t\u001b[1mrentokil_initial         \u001b[0m sector=\u001b[1mIndustrials\u001b[0m\n",
      "\n",
      "\n",
      "\u001b[1m07: Affordable and clean energy                                 \u001b[0m len(validated_companies)=4\n",
      "\t\u001b[1mjohnson_matthey          \u001b[0m sector=\u001b[1mBasic Materials\u001b[0m\n",
      "\t\u001b[1mhalma                    \u001b[0m sector=\u001b[1mIndustrials\u001b[0m\n",
      "\t\u001b[1mgood_energy_group        \u001b[0m sector=\u001b[1mUtilities\u001b[0m\n",
      "\t\u001b[1myu_group                 \u001b[0m sector=\u001b[1mUtilities\u001b[0m\n",
      "\n",
      "\n",
      "08: Decent work and economic growth                              len(validated_companies)=0\n",
      "\u001b[1m09: Industry, Innovation, Technology and Infrastructure         \u001b[0m len(validated_companies)=1\n",
      "\t\u001b[1mhalma                    \u001b[0m sector=\u001b[1mIndustrials\u001b[0m\n",
      "\n",
      "\n",
      "10: Reduced inequality                                           len(validated_companies)=0\n",
      "\u001b[1m11: Sustainable cities and communities                          \u001b[0m len(validated_companies)=1\n",
      "\t\u001b[1mhalma                    \u001b[0m sector=\u001b[1mIndustrials\u001b[0m\n",
      "\n",
      "\n",
      "12: Responsible consumption and production                       len(validated_companies)=0\n",
      "\u001b[1m13: Climate action                                              \u001b[0m len(validated_companies)=2\n",
      "\t\u001b[1mrio_tinto                \u001b[0m sector=\u001b[1mBasic Materials\u001b[0m\n",
      "\t\u001b[1mlegal_&_general_group    \u001b[0m sector=\u001b[1mFinancials\u001b[0m\n",
      "\n",
      "\n",
      "14: Life below water                                             len(validated_companies)=0\n",
      "15: Life on land                                                 len(validated_companies)=0\n",
      "16: Peace, justice and strong institutions                       len(validated_companies)=0\n",
      "17: Partnerships for the goals                                   len(validated_companies)=0\n",
      "\n",
      "\u001b[1m2020\u001b[0m\n",
      "\u001b[1m01: No Poverty                                                  \u001b[0m len(validated_companies)=14\n",
      "\t\u001b[1manglo_american           \u001b[0m sector=\u001b[1mBasic Materials\u001b[0m\n",
      "\t\u001b[1mcroda_international      \u001b[0m sector=\u001b[1mBasic Materials\u001b[0m\n",
      "\t\u001b[1mbarratt_developments     \u001b[0m sector=\u001b[1mConsumer Discretionary\u001b[0m\n",
      "\t\u001b[1mcompass_group            \u001b[0m sector=\u001b[1mConsumer Discretionary\u001b[0m\n",
      "\t\u001b[1massociated_british_foods \u001b[0m sector=\u001b[1mConsumer Staples\u001b[0m\n",
      "\t\u001b[1munilever                 \u001b[0m sector=\u001b[1mConsumer Staples\u001b[0m\n",
      "\t\u001b[1mbp                       \u001b[0m sector=\u001b[1mEnergy\u001b[0m\n",
      "\t\u001b[1mhsbc_holdings            \u001b[0m sector=\u001b[1mFinancials\u001b[0m\n",
      "\t\u001b[1mlegal_&_general_group    \u001b[0m sector=\u001b[1mFinancials\u001b[0m\n",
      "\t\u001b[1mstandard_chartered       \u001b[0m sector=\u001b[1mFinancials\u001b[0m\n",
      "\t\u001b[1mastrazeneca              \u001b[0m sector=\u001b[1mHealth Care\u001b[0m\n",
      "\t\u001b[1msmith_&_nephew           \u001b[0m sector=\u001b[1mHealth Care\u001b[0m\n",
      "\t\u001b[1mhalma                    \u001b[0m sector=\u001b[1mIndustrials\u001b[0m\n",
      "\t\u001b[1mrentokil_initial         \u001b[0m sector=\u001b[1mIndustrials\u001b[0m\n",
      "\n",
      "\n",
      "\u001b[1m02: Zero hunger                                                 \u001b[0m len(validated_companies)=1\n",
      "\t\u001b[1mcompass_group            \u001b[0m sector=\u001b[1mConsumer Discretionary\u001b[0m\n",
      "\n",
      "\n",
      "\u001b[1m03: Good health and well-being                                  \u001b[0m len(validated_companies)=4\n",
      "\t\u001b[1mbarratt_developments     \u001b[0m sector=\u001b[1mConsumer Discretionary\u001b[0m\n",
      "\t\u001b[1mhsbc_holdings            \u001b[0m sector=\u001b[1mFinancials\u001b[0m\n",
      "\t\u001b[1mastrazeneca              \u001b[0m sector=\u001b[1mHealth Care\u001b[0m\n",
      "\t\u001b[1mrentokil_initial         \u001b[0m sector=\u001b[1mIndustrials\u001b[0m\n",
      "\n",
      "\n",
      "04: Quality education                                            len(validated_companies)=0\n",
      "05: Gender equality                                              len(validated_companies)=0\n",
      "\u001b[1m06: Clean water and sanitation                                  \u001b[0m len(validated_companies)=6\n",
      "\t\u001b[1mintercontinental_hotels_group\u001b[0m sector=\u001b[1mConsumer Discretionary\u001b[0m\n",
      "\t\u001b[1mreckitt_benckiser_group  \u001b[0m sector=\u001b[1mConsumer Staples\u001b[0m\n",
      "\t\u001b[1mastrazeneca              \u001b[0m sector=\u001b[1mHealth Care\u001b[0m\n",
      "\t\u001b[1mhalma                    \u001b[0m sector=\u001b[1mIndustrials\u001b[0m\n",
      "\t\u001b[1mrentokil_initial         \u001b[0m sector=\u001b[1mIndustrials\u001b[0m\n",
      "\t\u001b[1msevern_trent             \u001b[0m sector=\u001b[1mUtilities\u001b[0m\n",
      "\n",
      "\n",
      "\u001b[1m07: Affordable and clean energy                                 \u001b[0m len(validated_companies)=4\n",
      "\t\u001b[1mjohnson_matthey          \u001b[0m sector=\u001b[1mBasic Materials\u001b[0m\n",
      "\t\u001b[1mgood_energy_group        \u001b[0m sector=\u001b[1mUtilities\u001b[0m\n",
      "\t\u001b[1mnational_grid            \u001b[0m sector=\u001b[1mUtilities\u001b[0m\n",
      "\t\u001b[1myu_group                 \u001b[0m sector=\u001b[1mUtilities\u001b[0m\n",
      "\n",
      "\n",
      "08: Decent work and economic growth                              len(validated_companies)=0\n",
      "09: Industry, Innovation, Technology and Infrastructure          len(validated_companies)=0\n",
      "\u001b[1m10: Reduced inequality                                          \u001b[0m len(validated_companies)=4\n",
      "\t\u001b[1manglo_american           \u001b[0m sector=\u001b[1mBasic Materials\u001b[0m\n",
      "\t\u001b[1mbarratt_developments     \u001b[0m sector=\u001b[1mConsumer Discretionary\u001b[0m\n",
      "\t\u001b[1mhsbc_holdings            \u001b[0m sector=\u001b[1mFinancials\u001b[0m\n",
      "\t\u001b[1mstandard_chartered       \u001b[0m sector=\u001b[1mFinancials\u001b[0m\n",
      "\n",
      "\n",
      "\u001b[1m11: Sustainable cities and communities                          \u001b[0m len(validated_companies)=1\n",
      "\t\u001b[1mhalma                    \u001b[0m sector=\u001b[1mIndustrials\u001b[0m\n",
      "\n",
      "\n",
      "12: Responsible consumption and production                       len(validated_companies)=0\n",
      "\u001b[1m13: Climate action                                              \u001b[0m len(validated_companies)=2\n",
      "\t\u001b[1manglo_american           \u001b[0m sector=\u001b[1mBasic Materials\u001b[0m\n",
      "\t\u001b[1mlegal_&_general_group    \u001b[0m sector=\u001b[1mFinancials\u001b[0m\n",
      "\n",
      "\n",
      "14: Life below water                                             len(validated_companies)=0\n",
      "\u001b[1m15: Life on land                                                \u001b[0m len(validated_companies)=1\n",
      "\t\u001b[1mbarratt_developments     \u001b[0m sector=\u001b[1mConsumer Discretionary\u001b[0m\n",
      "\n",
      "\n",
      "16: Peace, justice and strong institutions                       len(validated_companies)=0\n",
      "17: Partnerships for the goals                                   len(validated_companies)=0\n",
      "\n",
      "\u001b[1m2021\u001b[0m\n",
      "\u001b[1m01: No Poverty                                                  \u001b[0m len(validated_companies)=2\n",
      "\t\u001b[1mhsbc_holdings            \u001b[0m sector=\u001b[1mFinancials\u001b[0m\n",
      "\t\u001b[1mstandard_chartered       \u001b[0m sector=\u001b[1mFinancials\u001b[0m\n",
      "\n",
      "\n",
      "\u001b[1m02: Zero hunger                                                 \u001b[0m len(validated_companies)=4\n",
      "\t\u001b[1mcompass_group            \u001b[0m sector=\u001b[1mConsumer Discretionary\u001b[0m\n",
      "\t\u001b[1massociated_british_foods \u001b[0m sector=\u001b[1mConsumer Staples\u001b[0m\n",
      "\t\u001b[1mstandard_chartered       \u001b[0m sector=\u001b[1mFinancials\u001b[0m\n",
      "\t\u001b[1mairtel_africa            \u001b[0m sector=\u001b[1mTelecommunications\u001b[0m\n",
      "\n",
      "\n",
      "\u001b[1m03: Good health and well-being                                  \u001b[0m len(validated_companies)=2\n",
      "\t\u001b[1mastrazeneca              \u001b[0m sector=\u001b[1mHealth Care\u001b[0m\n",
      "\t\u001b[1mgsk                      \u001b[0m sector=\u001b[1mHealth Care\u001b[0m\n",
      "\n",
      "\n",
      "\u001b[1m04: Quality education                                           \u001b[0m len(validated_companies)=2\n",
      "\t\u001b[1mstandard_chartered       \u001b[0m sector=\u001b[1mFinancials\u001b[0m\n",
      "\t\u001b[1mairtel_africa            \u001b[0m sector=\u001b[1mTelecommunications\u001b[0m\n",
      "\n",
      "\n",
      "05: Gender equality                                              len(validated_companies)=0\n",
      "\u001b[1m06: Clean water and sanitation                                  \u001b[0m len(validated_companies)=6\n",
      "\t\u001b[1mintercontinental_hotels_group\u001b[0m sector=\u001b[1mConsumer Discretionary\u001b[0m\n",
      "\t\u001b[1mreckitt_benckiser_group  \u001b[0m sector=\u001b[1mConsumer Staples\u001b[0m\n",
      "\t\u001b[1mstandard_chartered       \u001b[0m sector=\u001b[1mFinancials\u001b[0m\n",
      "\t\u001b[1mhalma                    \u001b[0m sector=\u001b[1mIndustrials\u001b[0m\n",
      "\t\u001b[1mrentokil_initial         \u001b[0m sector=\u001b[1mIndustrials\u001b[0m\n",
      "\t\u001b[1mpennon_group             \u001b[0m sector=\u001b[1mUtilities\u001b[0m\n",
      "\n",
      "\n",
      "\u001b[1m07: Affordable and clean energy                                 \u001b[0m len(validated_companies)=1\n",
      "\t\u001b[1myu_group                 \u001b[0m sector=\u001b[1mUtilities\u001b[0m\n",
      "\n",
      "\n",
      "08: Decent work and economic growth                              len(validated_companies)=0\n",
      "09: Industry, Innovation, Technology and Infrastructure          len(validated_companies)=0\n",
      "\u001b[1m10: Reduced inequality                                          \u001b[0m len(validated_companies)=1\n",
      "\t\u001b[1mstandard_chartered       \u001b[0m sector=\u001b[1mFinancials\u001b[0m\n",
      "\n",
      "\n",
      "\u001b[1m11: Sustainable cities and communities                          \u001b[0m len(validated_companies)=3\n",
      "\t\u001b[1mhsbc_holdings            \u001b[0m sector=\u001b[1mFinancials\u001b[0m\n",
      "\t\u001b[1mhalma                    \u001b[0m sector=\u001b[1mIndustrials\u001b[0m\n",
      "\t\u001b[1mrenewi                   \u001b[0m sector=\u001b[1mUtilities\u001b[0m\n",
      "\n",
      "\n",
      "\u001b[1m12: Responsible consumption and production                      \u001b[0m len(validated_companies)=2\n",
      "\t\u001b[1massociated_british_foods \u001b[0m sector=\u001b[1mConsumer Staples\u001b[0m\n",
      "\t\u001b[1menergean                 \u001b[0m sector=\u001b[1mEnergy\u001b[0m\n",
      "\n",
      "\n",
      "\u001b[1m13: Climate action                                              \u001b[0m len(validated_companies)=1\n",
      "\t\u001b[1mlegal_&_general_group    \u001b[0m sector=\u001b[1mFinancials\u001b[0m\n",
      "\n",
      "\n",
      "14: Life below water                                             len(validated_companies)=0\n",
      "\u001b[1m15: Life on land                                                \u001b[0m len(validated_companies)=2\n",
      "\t\u001b[1mbarratt_developments     \u001b[0m sector=\u001b[1mConsumer Discretionary\u001b[0m\n",
      "\t\u001b[1mberkeley_group_holdings_(the)\u001b[0m sector=\u001b[1mConsumer Discretionary\u001b[0m\n",
      "\n",
      "\n",
      "16: Peace, justice and strong institutions                       len(validated_companies)=0\n",
      "\u001b[1m17: Partnerships for the goals                                  \u001b[0m len(validated_companies)=1\n",
      "\t\u001b[1mstandard_chartered       \u001b[0m sector=\u001b[1mFinancials\u001b[0m\n",
      "\n",
      "\n",
      "\n",
      "\u001b[1m2022\u001b[0m\n",
      "\u001b[1m01: No Poverty                                                  \u001b[0m len(validated_companies)=3\n",
      "\t\u001b[1mhsbc_holdings            \u001b[0m sector=\u001b[1mFinancials\u001b[0m\n",
      "\t\u001b[1mlegal_&_general_group    \u001b[0m sector=\u001b[1mFinancials\u001b[0m\n",
      "\t\u001b[1mstandard_chartered       \u001b[0m sector=\u001b[1mFinancials\u001b[0m\n",
      "\n",
      "\n",
      "\u001b[1m02: Zero hunger                                                 \u001b[0m len(validated_companies)=5\n",
      "\t\u001b[1mcompass_group            \u001b[0m sector=\u001b[1mConsumer Discretionary\u001b[0m\n",
      "\t\u001b[1mhsbc_holdings            \u001b[0m sector=\u001b[1mFinancials\u001b[0m\n",
      "\t\u001b[1mlegal_&_general_group    \u001b[0m sector=\u001b[1mFinancials\u001b[0m\n",
      "\t\u001b[1mstandard_chartered       \u001b[0m sector=\u001b[1mFinancials\u001b[0m\n",
      "\t\u001b[1mdeliveroo                \u001b[0m sector=\u001b[1mTechnology\u001b[0m\n",
      "\n",
      "\n",
      "\u001b[1m03: Good health and well-being                                  \u001b[0m len(validated_companies)=5\n",
      "\t\u001b[1mpersimmon                \u001b[0m sector=\u001b[1mConsumer Discretionary\u001b[0m\n",
      "\t\u001b[1mlegal_&_general_group    \u001b[0m sector=\u001b[1mFinancials\u001b[0m\n",
      "\t\u001b[1mastrazeneca              \u001b[0m sector=\u001b[1mHealth Care\u001b[0m\n",
      "\t\u001b[1mgsk                      \u001b[0m sector=\u001b[1mHealth Care\u001b[0m\n",
      "\t\u001b[1msmith_&_nephew           \u001b[0m sector=\u001b[1mHealth Care\u001b[0m\n",
      "\n",
      "\n",
      "04: Quality education                                            len(validated_companies)=0\n",
      "05: Gender equality                                              len(validated_companies)=0\n",
      "\u001b[1m06: Clean water and sanitation                                  \u001b[0m len(validated_companies)=6\n",
      "\t\u001b[1mreckitt_benckiser_group  \u001b[0m sector=\u001b[1mConsumer Staples\u001b[0m\n",
      "\t\u001b[1mstandard_chartered       \u001b[0m sector=\u001b[1mFinancials\u001b[0m\n",
      "\t\u001b[1mhalma                    \u001b[0m sector=\u001b[1mIndustrials\u001b[0m\n",
      "\t\u001b[1mhelios_towers            \u001b[0m sector=\u001b[1mTelecommunications\u001b[0m\n",
      "\t\u001b[1mpennon_group             \u001b[0m sector=\u001b[1mUtilities\u001b[0m\n",
      "\t\u001b[1msevern_trent             \u001b[0m sector=\u001b[1mUtilities\u001b[0m\n",
      "\n",
      "\n",
      "\u001b[1m07: Affordable and clean energy                                 \u001b[0m len(validated_companies)=1\n",
      "\t\u001b[1mgood_energy_group        \u001b[0m sector=\u001b[1mUtilities\u001b[0m\n",
      "\n",
      "\n",
      "\u001b[1m08: Decent work and economic growth                             \u001b[0m len(validated_companies)=1\n",
      "\t\u001b[1mlegal_&_general_group    \u001b[0m sector=\u001b[1mFinancials\u001b[0m\n",
      "\n",
      "\n",
      "09: Industry, Innovation, Technology and Infrastructure          len(validated_companies)=0\n",
      "\u001b[1m10: Reduced inequality                                          \u001b[0m len(validated_companies)=2\n",
      "\t\u001b[1mlegal_&_general_group    \u001b[0m sector=\u001b[1mFinancials\u001b[0m\n",
      "\t\u001b[1mstandard_chartered       \u001b[0m sector=\u001b[1mFinancials\u001b[0m\n",
      "\n",
      "\n",
      "11: Sustainable cities and communities                           len(validated_companies)=0\n",
      "\u001b[1m12: Responsible consumption and production                      \u001b[0m len(validated_companies)=3\n",
      "\t\u001b[1menergean                 \u001b[0m sector=\u001b[1mEnergy\u001b[0m\n",
      "\t\u001b[1mrightmove                \u001b[0m sector=\u001b[1mReal Estate\u001b[0m\n",
      "\t\u001b[1mbytes_technology_group   \u001b[0m sector=\u001b[1mTechnology\u001b[0m\n",
      "\n",
      "\n",
      "\u001b[1m13: Climate action                                              \u001b[0m len(validated_companies)=5\n",
      "\t\u001b[1mpersimmon                \u001b[0m sector=\u001b[1mConsumer Discretionary\u001b[0m\n",
      "\t\u001b[1mwhitbread                \u001b[0m sector=\u001b[1mConsumer Discretionary\u001b[0m\n",
      "\t\u001b[1mstandard_chartered       \u001b[0m sector=\u001b[1mFinancials\u001b[0m\n",
      "\t\u001b[1mdeliveroo                \u001b[0m sector=\u001b[1mTechnology\u001b[0m\n",
      "\t\u001b[1mhelios_towers            \u001b[0m sector=\u001b[1mTelecommunications\u001b[0m\n",
      "\n",
      "\n",
      "14: Life below water                                             len(validated_companies)=0\n",
      "15: Life on land                                                 len(validated_companies)=0\n",
      "16: Peace, justice and strong institutions                       len(validated_companies)=0\n",
      "17: Partnerships for the goals                                   len(validated_companies)=0\n",
      "\n",
      "\u001b[1m2023\u001b[0m\n",
      "\u001b[1m01: No Poverty                                                  \u001b[0m len(validated_companies)=1\n",
      "\t\u001b[1mstandard_chartered       \u001b[0m sector=\u001b[1mFinancials\u001b[0m\n",
      "\n",
      "\n",
      "\u001b[1m02: Zero hunger                                                 \u001b[0m len(validated_companies)=3\n",
      "\t\u001b[1mcompass_group            \u001b[0m sector=\u001b[1mConsumer Discretionary\u001b[0m\n",
      "\t\u001b[1mstandard_chartered       \u001b[0m sector=\u001b[1mFinancials\u001b[0m\n",
      "\t\u001b[1mdeliveroo                \u001b[0m sector=\u001b[1mTechnology\u001b[0m\n",
      "\n",
      "\n",
      "\u001b[1m03: Good health and well-being                                  \u001b[0m len(validated_companies)=2\n",
      "\t\u001b[1mastrazeneca              \u001b[0m sector=\u001b[1mHealth Care\u001b[0m\n",
      "\t\u001b[1mgsk                      \u001b[0m sector=\u001b[1mHealth Care\u001b[0m\n",
      "\n",
      "\n",
      "04: Quality education                                            len(validated_companies)=0\n",
      "05: Gender equality                                              len(validated_companies)=0\n",
      "\u001b[1m06: Clean water and sanitation                                  \u001b[0m len(validated_companies)=5\n",
      "\t\u001b[1mastrazeneca              \u001b[0m sector=\u001b[1mHealth Care\u001b[0m\n",
      "\t\u001b[1mhelios_towers            \u001b[0m sector=\u001b[1mTelecommunications\u001b[0m\n",
      "\t\u001b[1mpennon_group             \u001b[0m sector=\u001b[1mUtilities\u001b[0m\n",
      "\t\u001b[1msevern_trent             \u001b[0m sector=\u001b[1mUtilities\u001b[0m\n",
      "\t\u001b[1munited_utilities_group   \u001b[0m sector=\u001b[1mUtilities\u001b[0m\n",
      "\n",
      "\n",
      "\u001b[1m07: Affordable and clean energy                                 \u001b[0m len(validated_companies)=5\n",
      "\t\u001b[1mjohnson_matthey          \u001b[0m sector=\u001b[1mBasic Materials\u001b[0m\n",
      "\t\u001b[1mcentrica                 \u001b[0m sector=\u001b[1mUtilities\u001b[0m\n",
      "\t\u001b[1mgood_energy_group        \u001b[0m sector=\u001b[1mUtilities\u001b[0m\n",
      "\t\u001b[1mnational_grid            \u001b[0m sector=\u001b[1mUtilities\u001b[0m\n",
      "\t\u001b[1myu_group                 \u001b[0m sector=\u001b[1mUtilities\u001b[0m\n",
      "\n",
      "\n",
      "\u001b[1m08: Decent work and economic growth                             \u001b[0m len(validated_companies)=1\n",
      "\t\u001b[1mstandard_chartered       \u001b[0m sector=\u001b[1mFinancials\u001b[0m\n",
      "\n",
      "\n",
      "\u001b[1m09: Industry, Innovation, Technology and Infrastructure         \u001b[0m len(validated_companies)=2\n",
      "\t\u001b[1mstandard_chartered       \u001b[0m sector=\u001b[1mFinancials\u001b[0m\n",
      "\t\u001b[1mhalma                    \u001b[0m sector=\u001b[1mIndustrials\u001b[0m\n",
      "\n",
      "\n",
      "\u001b[1m10: Reduced inequality                                          \u001b[0m len(validated_companies)=2\n",
      "\t\u001b[1mlegal_&_general_group    \u001b[0m sector=\u001b[1mFinancials\u001b[0m\n",
      "\t\u001b[1mstandard_chartered       \u001b[0m sector=\u001b[1mFinancials\u001b[0m\n",
      "\n",
      "\n",
      "\u001b[1m11: Sustainable cities and communities                          \u001b[0m len(validated_companies)=2\n",
      "\t\u001b[1mstandard_chartered       \u001b[0m sector=\u001b[1mFinancials\u001b[0m\n",
      "\t\u001b[1mhalma                    \u001b[0m sector=\u001b[1mIndustrials\u001b[0m\n",
      "\n",
      "\n",
      "\u001b[1m12: Responsible consumption and production                      \u001b[0m len(validated_companies)=3\n",
      "\t\u001b[1menergean                 \u001b[0m sector=\u001b[1mEnergy\u001b[0m\n",
      "\t\u001b[1mwise                     \u001b[0m sector=\u001b[1mIndustrials\u001b[0m\n",
      "\t\u001b[1mbytes_technology_group   \u001b[0m sector=\u001b[1mTechnology\u001b[0m\n",
      "\n",
      "\n",
      "\u001b[1m13: Climate action                                              \u001b[0m len(validated_companies)=4\n",
      "\t\u001b[1mdeliveroo                \u001b[0m sector=\u001b[1mTechnology\u001b[0m\n",
      "\t\u001b[1mhelios_towers            \u001b[0m sector=\u001b[1mTelecommunications\u001b[0m\n",
      "\t\u001b[1mvodafone_group           \u001b[0m sector=\u001b[1mTelecommunications\u001b[0m\n",
      "\t\u001b[1mpennon_group             \u001b[0m sector=\u001b[1mUtilities\u001b[0m\n",
      "\n",
      "\n",
      "\u001b[1m14: Life below water                                            \u001b[0m len(validated_companies)=2\n",
      "\t\u001b[1mwise                     \u001b[0m sector=\u001b[1mIndustrials\u001b[0m\n",
      "\t\u001b[1mpennon_group             \u001b[0m sector=\u001b[1mUtilities\u001b[0m\n",
      "\n",
      "\n",
      "15: Life on land                                                 len(validated_companies)=0\n",
      "16: Peace, justice and strong institutions                       len(validated_companies)=0\n",
      "17: Partnerships for the goals                                   len(validated_companies)=0\n"
     ]
    }
   ],
   "source": [
    "for i_y, year in enumerate(tqdm(years)):\n",
    "    print(f'\\n\\033[1m{year:}\\033[0m')\n",
    "    compa_y=vectors[vectors['year']==year]['company']\n",
    "    sec_y=vectors[vectors['year']==year]['sector']\n",
    "    for i_s, sdg in enumerate(sdg_helper.keys()):\n",
    "        _fdr_th=fdr_th(cos_sims_SDGs[i_y*l_sdgs+i_s]['p_val'], alpha)\n",
    "        validation_mask=cos_sims_SDGs[i_y*l_sdgs+i_s]['p_val']<=_fdr_th\n",
    "        validated_compa=compa_y[validation_mask]\n",
    "        validated_sec=sec_y[validation_mask]\n",
    "        if len(validated_compa)>0:\n",
    "            print(f'\\033[1m{sdg:}: {sdg_helper[sdg]:60}\\033[0m len(validated_companies)={len(validated_compa):}')\n",
    "            for i_vc, vc in enumerate(validated_compa):\n",
    "                print(f'\\t\\033[1m{vc:25}\\033[0m sector=\\033[1m{sec_helper[validated_sec[i_vc]]:}\\033[0m')\n",
    "            print('\\n')\n",
    "        else:\n",
    "            print(f'{sdg:}: {sdg_helper[sdg]:60} len(validated_companies)={len(validated_compa):}')"
   ]
  }
 ],
 "metadata": {
  "kernelspec": {
   "display_name": "Python 3 (ipykernel)",
   "language": "python",
   "name": "python3"
  },
  "language_info": {
   "codemirror_mode": {
    "name": "ipython",
    "version": 3
   },
   "file_extension": ".py",
   "mimetype": "text/x-python",
   "name": "python",
   "nbconvert_exporter": "python",
   "pygments_lexer": "ipython3",
   "version": "3.8.10"
  },
  "notify_time": "5",
  "toc": {
   "base_numbering": 1,
   "nav_menu": {},
   "number_sections": true,
   "sideBar": true,
   "skip_h1_title": false,
   "title_cell": "Table of Contents",
   "title_sidebar": "Contents",
   "toc_cell": false,
   "toc_position": {
    "height": "calc(100% - 180px)",
    "left": "10px",
    "top": "150px",
    "width": "288px"
   },
   "toc_section_display": true,
   "toc_window_display": true
  }
 },
 "nbformat": 4,
 "nbformat_minor": 5
}
