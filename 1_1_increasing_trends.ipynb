{
 "cells": [
  {
   "cell_type": "markdown",
   "id": "e74ecde7",
   "metadata": {},
   "source": [
    "# Intro"
   ]
  },
  {
   "cell_type": "markdown",
   "id": "3e6d5d50",
   "metadata": {},
   "source": [
    "## Standard modules"
   ]
  },
  {
   "cell_type": "code",
   "execution_count": 2,
   "id": "fe585d94",
   "metadata": {
    "ExecuteTime": {
     "end_time": "2025-06-05T15:16:14.550263Z",
     "start_time": "2025-06-05T15:16:14.458622Z"
    }
   },
   "outputs": [],
   "source": [
    "import os, sys\n",
    "import pathlib\n",
    "import requests"
   ]
  },
  {
   "cell_type": "code",
   "execution_count": 3,
   "id": "c1833a24",
   "metadata": {
    "ExecuteTime": {
     "end_time": "2025-06-05T15:16:14.739041Z",
     "start_time": "2025-06-05T15:16:14.608216Z"
    }
   },
   "outputs": [],
   "source": [
    "import numpy as np"
   ]
  },
  {
   "cell_type": "code",
   "execution_count": 4,
   "id": "77a6965f",
   "metadata": {
    "ExecuteTime": {
     "end_time": "2025-06-05T15:16:14.923145Z",
     "start_time": "2025-06-05T15:16:14.789086Z"
    }
   },
   "outputs": [],
   "source": [
    "from tqdm.auto import tqdm, trange"
   ]
  },
  {
   "cell_type": "code",
   "execution_count": 5,
   "id": "94459e21",
   "metadata": {
    "ExecuteTime": {
     "end_time": "2025-06-05T15:16:18.562477Z",
     "start_time": "2025-06-05T15:16:14.934734Z"
    }
   },
   "outputs": [],
   "source": [
    "from sentence_transformers import util"
   ]
  },
  {
   "cell_type": "code",
   "execution_count": 6,
   "id": "32323b79",
   "metadata": {
    "ExecuteTime": {
     "end_time": "2025-06-05T15:16:19.185056Z",
     "start_time": "2025-06-05T15:16:18.566248Z"
    }
   },
   "outputs": [],
   "source": [
    "import matplotlib.pyplot as plt\n",
    "plt.rcParams['axes.linewidth'] = 2\n",
    "plt.rcParams['xtick.major.size'] = 10\n",
    "plt.rcParams['xtick.major.width'] = 2\n",
    "plt.rcParams['ytick.major.size'] = 10\n",
    "plt.rcParams['ytick.major.width'] = 2\n",
    "\n",
    "plt.rcParams['xtick.labelsize'] = 14\n",
    "plt.rcParams['ytick.labelsize'] = 14\n",
    "\n",
    "plt.rcParams['xtick.minor.size'] = 5\n",
    "plt.rcParams['xtick.minor.width'] = 1\n",
    "plt.rcParams['ytick.minor.size'] = 5\n",
    "plt.rcParams['ytick.minor.width'] = 1"
   ]
  },
  {
   "cell_type": "code",
   "execution_count": 7,
   "id": "0a543491",
   "metadata": {
    "ExecuteTime": {
     "end_time": "2025-06-05T15:16:19.263314Z",
     "start_time": "2025-06-05T15:16:19.188068Z"
    }
   },
   "outputs": [],
   "source": [
    "from sklearn.decomposition import PCA"
   ]
  },
  {
   "cell_type": "code",
   "execution_count": 8,
   "id": "843933fc",
   "metadata": {
    "ExecuteTime": {
     "end_time": "2025-06-05T15:16:19.618710Z",
     "start_time": "2025-06-05T15:16:19.268136Z"
    }
   },
   "outputs": [],
   "source": [
    "import seaborn"
   ]
  },
  {
   "cell_type": "code",
   "execution_count": 9,
   "id": "af42a3fc",
   "metadata": {
    "ExecuteTime": {
     "end_time": "2025-06-05T15:16:19.628420Z",
     "start_time": "2025-06-05T15:16:19.621700Z"
    }
   },
   "outputs": [],
   "source": [
    "import pymannkendall as mk"
   ]
  },
  {
   "cell_type": "code",
   "execution_count": 117,
   "id": "5b78e0ed",
   "metadata": {
    "ExecuteTime": {
     "end_time": "2025-06-05T16:07:58.439652Z",
     "start_time": "2025-06-05T16:07:58.432334Z"
    }
   },
   "outputs": [],
   "source": [
    "from scipy.spatial.distance import cosine"
   ]
  },
  {
   "cell_type": "markdown",
   "id": "397fabc1",
   "metadata": {},
   "source": [
    "## Personal modules"
   ]
  },
  {
   "cell_type": "code",
   "execution_count": 10,
   "id": "53a9c953",
   "metadata": {
    "ExecuteTime": {
     "end_time": "2025-06-05T15:16:19.712775Z",
     "start_time": "2025-06-05T15:16:19.631765Z"
    }
   },
   "outputs": [],
   "source": [
    "from toolbox.updater import time_is_now"
   ]
  },
  {
   "cell_type": "code",
   "execution_count": 11,
   "id": "eec39f29",
   "metadata": {
    "ExecuteTime": {
     "end_time": "2025-06-05T15:16:19.820668Z",
     "start_time": "2025-06-05T15:16:19.716237Z"
    }
   },
   "outputs": [],
   "source": [
    "from file2text import file2text"
   ]
  },
  {
   "cell_type": "code",
   "execution_count": 12,
   "id": "4ecaca18",
   "metadata": {
    "ExecuteTime": {
     "end_time": "2025-06-05T15:16:19.940130Z",
     "start_time": "2025-06-05T15:16:19.824097Z"
    }
   },
   "outputs": [],
   "source": [
    "from first_rough_cleaning import first_text_cleaner"
   ]
  },
  {
   "cell_type": "code",
   "execution_count": 13,
   "id": "84ab1845",
   "metadata": {
    "ExecuteTime": {
     "end_time": "2025-06-05T15:16:20.048897Z",
     "start_time": "2025-06-05T15:16:19.943820Z"
    }
   },
   "outputs": [],
   "source": [
    "from file_handler import *"
   ]
  },
  {
   "cell_type": "code",
   "execution_count": 14,
   "id": "5c5cb39e",
   "metadata": {
    "ExecuteTime": {
     "end_time": "2025-06-05T15:16:25.501732Z",
     "start_time": "2025-06-05T15:16:20.055929Z"
    }
   },
   "outputs": [
    {
     "name": "stderr",
     "output_type": "stream",
     "text": [
      "/home/sarawalk/sdgs_py38/lib/python3.8/site-packages/torch/cuda/__init__.py:118: UserWarning: CUDA initialization: The NVIDIA driver on your system is too old (found version 10020). Please update your GPU driver by downloading and installing a new version from the URL: http://www.nvidia.com/Download/index.aspx Alternatively, go to: https://pytorch.org to install a PyTorch version that has been compiled with your version of the CUDA driver. (Triggered internally at ../c10/cuda/CUDAFunctions.cpp:108.)\n",
      "  return torch._C._cuda_getDeviceCount() > 0\n"
     ]
    }
   ],
   "source": [
    "from jina4lote import jina4lote"
   ]
  },
  {
   "cell_type": "markdown",
   "id": "503f5961",
   "metadata": {},
   "source": [
    "## Folders"
   ]
  },
  {
   "cell_type": "code",
   "execution_count": 15,
   "id": "08e25fa8",
   "metadata": {
    "ExecuteTime": {
     "end_time": "2025-06-05T15:16:25.511067Z",
     "start_time": "2025-06-05T15:16:25.506015Z"
    }
   },
   "outputs": [],
   "source": [
    "VECTOR_FOLDER='./NewProcessedData/vectors/'"
   ]
  },
  {
   "cell_type": "code",
   "execution_count": 16,
   "id": "b56b2b16",
   "metadata": {
    "ExecuteTime": {
     "end_time": "2025-06-05T15:16:25.606226Z",
     "start_time": "2025-06-05T15:16:25.514240Z"
    }
   },
   "outputs": [],
   "source": [
    "BENCHMARK_FOLDER='./NewProcessedData/benchmarks/'"
   ]
  },
  {
   "cell_type": "code",
   "execution_count": 17,
   "id": "95afe6da",
   "metadata": {
    "ExecuteTime": {
     "end_time": "2025-06-05T15:16:25.697953Z",
     "start_time": "2025-06-05T15:16:25.611034Z"
    }
   },
   "outputs": [],
   "source": [
    "PCA_CENTR_VECTOR_FOLDER='./NewProcessedData/pca_centr_vectors/'"
   ]
  },
  {
   "cell_type": "markdown",
   "id": "04593ff4",
   "metadata": {},
   "source": [
    "## Witten's vector"
   ]
  },
  {
   "cell_type": "code",
   "execution_count": 18,
   "id": "b4b07c4b",
   "metadata": {
    "ExecuteTime": {
     "end_time": "2025-06-05T15:16:25.789844Z",
     "start_time": "2025-06-05T15:16:25.701061Z"
    }
   },
   "outputs": [],
   "source": [
    "wittenvecfile=[file for file in os.listdir(BENCHMARK_FOLDER) if file.startswith('Witten') and file.endswith('.txt')][0]"
   ]
  },
  {
   "cell_type": "code",
   "execution_count": 19,
   "id": "208decab",
   "metadata": {
    "ExecuteTime": {
     "end_time": "2025-06-05T15:16:25.916332Z",
     "start_time": "2025-06-05T15:16:25.792711Z"
    }
   },
   "outputs": [],
   "source": [
    "wittenvec=np.genfromtxt(BENCHMARK_FOLDER+wittenvecfile)"
   ]
  },
  {
   "cell_type": "markdown",
   "id": "e8e6126d",
   "metadata": {},
   "source": [
    "## Load vectors"
   ]
  },
  {
   "cell_type": "code",
   "execution_count": 26,
   "id": "b68f15b8",
   "metadata": {
    "ExecuteTime": {
     "end_time": "2025-06-05T15:18:37.404567Z",
     "start_time": "2025-06-05T15:18:37.397932Z"
    }
   },
   "outputs": [],
   "source": [
    "vecfiles=os.listdir(PCA_CENTR_VECTOR_FOLDER)"
   ]
  },
  {
   "cell_type": "code",
   "execution_count": 24,
   "id": "0342b9bc",
   "metadata": {
    "ExecuteTime": {
     "end_time": "2025-06-05T15:18:29.768349Z",
     "start_time": "2025-06-05T15:18:29.762330Z"
    }
   },
   "outputs": [],
   "source": [
    "vecfiles.sort()"
   ]
  },
  {
   "cell_type": "markdown",
   "id": "4d270f34",
   "metadata": {},
   "source": [
    "### Goals' vectors"
   ]
  },
  {
   "cell_type": "code",
   "execution_count": 30,
   "id": "d416860f",
   "metadata": {
    "ExecuteTime": {
     "end_time": "2025-06-05T15:21:45.949713Z",
     "start_time": "2025-06-05T15:21:45.936411Z"
    }
   },
   "outputs": [],
   "source": [
    "goalvecfiles=[vecfile for vecfile in vecfiles if vecfile.startswith('Goal')]"
   ]
  },
  {
   "cell_type": "code",
   "execution_count": 126,
   "id": "d366afc4",
   "metadata": {
    "ExecuteTime": {
     "end_time": "2025-06-05T16:10:45.078188Z",
     "start_time": "2025-06-05T16:10:45.072478Z"
    }
   },
   "outputs": [],
   "source": [
    "goalvecfiles.sort()"
   ]
  },
  {
   "cell_type": "code",
   "execution_count": 128,
   "id": "5151aae5",
   "metadata": {
    "ExecuteTime": {
     "end_time": "2025-06-05T16:11:03.000116Z",
     "start_time": "2025-06-05T16:11:02.967106Z"
    }
   },
   "outputs": [],
   "source": [
    "goalvecs=[np.genfromtxt(PCA_CENTR_VECTOR_FOLDER+goalvecfile) for goalvecfile in goalvecfiles]"
   ]
  },
  {
   "cell_type": "markdown",
   "id": "7d6d66ca",
   "metadata": {},
   "source": [
    "### Reports' vectors"
   ]
  },
  {
   "cell_type": "code",
   "execution_count": 42,
   "id": "f39b1e49",
   "metadata": {
    "ExecuteTime": {
     "end_time": "2025-06-05T15:28:01.105408Z",
     "start_time": "2025-06-05T15:28:01.098701Z"
    }
   },
   "outputs": [],
   "source": [
    "reports_files=[vecfile for vecfile in vecfiles if vecfile[:4].isnumeric()]"
   ]
  },
  {
   "cell_type": "code",
   "execution_count": 61,
   "id": "3e9a1ff5",
   "metadata": {
    "ExecuteTime": {
     "end_time": "2025-06-05T15:34:54.588351Z",
     "start_time": "2025-06-05T15:34:54.582565Z"
    }
   },
   "outputs": [],
   "source": [
    "reports_files.sort()"
   ]
  },
  {
   "cell_type": "code",
   "execution_count": 45,
   "id": "16c20599",
   "metadata": {
    "ExecuteTime": {
     "end_time": "2025-06-05T15:28:35.824784Z",
     "start_time": "2025-06-05T15:28:35.816849Z"
    }
   },
   "outputs": [],
   "source": [
    "years, k_y=np.unique([rf[:4] for rf in reports_files], return_counts=True)"
   ]
  },
  {
   "cell_type": "code",
   "execution_count": 48,
   "id": "78301594",
   "metadata": {
    "ExecuteTime": {
     "end_time": "2025-06-05T15:28:54.112650Z",
     "start_time": "2025-06-05T15:28:54.102576Z"
    }
   },
   "outputs": [
    {
     "data": {
      "text/plain": [
       "array([['2015', '40'],\n",
       "       ['2016', '44'],\n",
       "       ['2017', '51'],\n",
       "       ['2018', '56'],\n",
       "       ['2019', '67'],\n",
       "       ['2020', '69'],\n",
       "       ['2021', '76'],\n",
       "       ['2022', '80'],\n",
       "       ['2023', '90']], dtype='<U21')"
      ]
     },
     "execution_count": 48,
     "metadata": {},
     "output_type": "execute_result"
    }
   ],
   "source": [
    "np.vstack((years, k_y)).T"
   ]
  },
  {
   "cell_type": "code",
   "execution_count": 141,
   "id": "d9b0e79c",
   "metadata": {
    "ExecuteTime": {
     "end_time": "2025-06-05T16:13:04.763718Z",
     "start_time": "2025-06-05T16:13:04.756074Z"
    }
   },
   "outputs": [],
   "source": [
    "vectors=np.zeros(len(reports_files), dtype=[('year', 'i4'), ('sector', 'U2'), ('company', 'U100'), ('vector', object)])"
   ]
  },
  {
   "cell_type": "code",
   "execution_count": 142,
   "id": "7a033799",
   "metadata": {
    "ExecuteTime": {
     "end_time": "2025-06-05T16:13:05.808322Z",
     "start_time": "2025-06-05T16:13:05.395075Z"
    }
   },
   "outputs": [],
   "source": [
    "for i_rf, reports_file in enumerate(reports_files):\n",
    "    # info from the filename\n",
    "    splitted_filename=reports_file.split('_')\n",
    "    \n",
    "    year=int(splitted_filename[0])\n",
    "    sector=splitted_filename[1]\n",
    "    if splitted_filename[-1]=='PLC.txt':\n",
    "        company='_'.join(splitted_filename[2:-1])\n",
    "    else:\n",
    "        company='_'.join(splitted_filename[2:])\n",
    "        company=company.replace('.txt', '')\n",
    "    company=company.lower()\n",
    "    # get the vector\n",
    "    vector=np.genfromtxt(PCA_CENTR_VECTOR_FOLDER+reports_file)\n",
    "    \n",
    "    # organize data\n",
    "    vectors[i_rf]['year']=year\n",
    "    vectors[i_rf]['sector']=sector\n",
    "    vectors[i_rf]['company']=company\n",
    "    vectors[i_rf]['vector']=vector"
   ]
  },
  {
   "cell_type": "markdown",
   "id": "0072bfa0",
   "metadata": {},
   "source": [
    "## Increasing trend?"
   ]
  },
  {
   "cell_type": "code",
   "execution_count": 91,
   "id": "2d02b2fe",
   "metadata": {
    "ExecuteTime": {
     "end_time": "2025-06-05T15:56:04.225826Z",
     "start_time": "2025-06-05T15:56:04.219769Z"
    }
   },
   "outputs": [],
   "source": [
    "years=years.astype('i4')"
   ]
  },
  {
   "cell_type": "markdown",
   "id": "56368f4e",
   "metadata": {},
   "source": [
    "### Global"
   ]
  },
  {
   "cell_type": "code",
   "execution_count": 148,
   "id": "92354c76",
   "metadata": {
    "ExecuteTime": {
     "end_time": "2025-06-05T16:14:56.689561Z",
     "start_time": "2025-06-05T16:14:56.682816Z"
    }
   },
   "outputs": [],
   "source": [
    "cos_sims_global=np.zeros(len(years), dtype=[('mean', 'f8'), ('all', object)])"
   ]
  },
  {
   "cell_type": "code",
   "execution_count": 149,
   "id": "9ab13690",
   "metadata": {
    "ExecuteTime": {
     "end_time": "2025-06-05T16:14:58.099672Z",
     "start_time": "2025-06-05T16:14:57.903068Z"
    }
   },
   "outputs": [
    {
     "data": {
      "application/vnd.jupyter.widget-view+json": {
       "model_id": "",
       "version_major": 2,
       "version_minor": 0
      },
      "text/plain": [
       "  0%|          | 0/9 [00:00<?, ?it/s]"
      ]
     },
     "metadata": {},
     "output_type": "display_data"
    }
   ],
   "source": [
    "for i_y, year in enumerate(tqdm(years)):\n",
    "\n",
    "    \n",
    "    cos_sims_global[i_y]['all']=np.array([float(util.cos_sim(goalvecs[-1], vec)) for vec in vectors[vectors['year']==year]['vector']])\n",
    "    cos_sims_global[i_y]['mean']=np.mean(cos_sims_global[i_y]['all'])\n",
    "            "
   ]
  },
  {
   "cell_type": "code",
   "execution_count": 151,
   "id": "8f5230f4",
   "metadata": {
    "ExecuteTime": {
     "end_time": "2025-06-05T16:15:06.503344Z",
     "start_time": "2025-06-05T16:15:06.206250Z"
    }
   },
   "outputs": [
    {
     "data": {
      "image/png": "[encoded data removed]",
      "text/plain": [
       "<Figure size 640x480 with 1 Axes>"
      ]
     },
     "metadata": {},
     "output_type": "display_data"
    }
   ],
   "source": [
    "plt.scatter(np.arange(2015, 2024), cos_sims_global['mean'])\n",
    "plt.show()"
   ]
  },
  {
   "cell_type": "code",
   "execution_count": 158,
   "id": "472a438e",
   "metadata": {
    "ExecuteTime": {
     "end_time": "2025-06-05T16:16:30.772247Z",
     "start_time": "2025-06-05T16:16:30.763101Z"
    }
   },
   "outputs": [
    {
     "data": {
      "text/plain": [
       "numpy.ndarray"
      ]
     },
     "execution_count": 158,
     "metadata": {},
     "output_type": "execute_result"
    }
   ],
   "source": [
    "type(cos_sims_global['all'])"
   ]
  },
  {
   "cell_type": "code",
   "execution_count": 167,
   "id": "b028ca2c",
   "metadata": {
    "ExecuteTime": {
     "end_time": "2025-06-05T16:20:25.327188Z",
     "start_time": "2025-06-05T16:20:25.320423Z"
    }
   },
   "outputs": [],
   "source": [
    "data_for_seaborn={years[i]:list(_) for i, _ in enumerate(cos_sims_global['all'])}"
   ]
  },
  {
   "cell_type": "code",
   "execution_count": 168,
   "id": "ce5a2eea",
   "metadata": {
    "ExecuteTime": {
     "end_time": "2025-06-05T16:20:26.981364Z",
     "start_time": "2025-06-05T16:20:26.418047Z"
    }
   },
   "outputs": [
    {
     "data": {
      "text/plain": [
       "<Axes: >"
      ]
     },
     "execution_count": 168,
     "metadata": {},
     "output_type": "execute_result"
    },
    {
     "data": {
      "image/png": "[encoded data removed]",
      "text/plain": [
       "<Figure size 640x480 with 1 Axes>"
      ]
     },
     "metadata": {},
     "output_type": "display_data"
    }
   ],
   "source": [
    "seaborn.boxplot(data=data_for_seaborn, notch=True, showcaps=False,\n",
    "    flierprops={\"marker\": \"x\"},\n",
    "    boxprops={\"facecolor\": (.3, .5, .7, .5)},\n",
    "    medianprops={\"color\": \"r\", \"linewidth\": 2})"
   ]
  },
  {
   "cell_type": "markdown",
   "id": "b04fe359",
   "metadata": {},
   "source": [
    "Mann-Kendall required?"
   ]
  },
  {
   "cell_type": "markdown",
   "id": "517c5d60",
   "metadata": {},
   "source": [
    "### By sector"
   ]
  },
  {
   "cell_type": "code",
   "execution_count": 170,
   "id": "75127c8b",
   "metadata": {
    "ExecuteTime": {
     "end_time": "2025-06-05T16:23:57.146849Z",
     "start_time": "2025-06-05T16:23:57.140180Z"
    }
   },
   "outputs": [],
   "source": [
    "secs, k_secs=np.unique(vectors['sector'], return_counts=True)"
   ]
  },
  {
   "cell_type": "code",
   "execution_count": 171,
   "id": "0653f2d9",
   "metadata": {
    "ExecuteTime": {
     "end_time": "2025-06-05T16:24:16.986540Z",
     "start_time": "2025-06-05T16:24:16.976451Z"
    }
   },
   "outputs": [
    {
     "data": {
      "text/plain": [
       "array([['01', '61'],\n",
       "       ['02', '82'],\n",
       "       ['03', '84'],\n",
       "       ['04', '47'],\n",
       "       ['05', '52'],\n",
       "       ['06', '41'],\n",
       "       ['07', '54'],\n",
       "       ['08', '49'],\n",
       "       ['09', '25'],\n",
       "       ['10', '37'],\n",
       "       ['11', '41']], dtype='<U21')"
      ]
     },
     "execution_count": 171,
     "metadata": {},
     "output_type": "execute_result"
    }
   ],
   "source": [
    "np.vstack((secs, k_secs)).T"
   ]
  },
  {
   "cell_type": "code",
   "execution_count": 175,
   "id": "0add3241",
   "metadata": {
    "ExecuteTime": {
     "end_time": "2025-06-05T16:28:01.160099Z",
     "start_time": "2025-06-05T16:28:01.153151Z"
    }
   },
   "outputs": [],
   "source": [
    "cos_sims_by_sec=np.zeros(len(years)*len(secs), dtype=[('year', 'i4'),('sector', 'U2'),('mean', 'f8'), ('all', object)])"
   ]
  },
  {
   "cell_type": "code",
   "execution_count": 188,
   "id": "1b07fb9a",
   "metadata": {
    "ExecuteTime": {
     "end_time": "2025-06-05T16:32:12.160351Z",
     "start_time": "2025-06-05T16:32:11.952972Z"
    }
   },
   "outputs": [
    {
     "data": {
      "application/vnd.jupyter.widget-view+json": {
       "model_id": "905e9d2859174214837e8077e1a742f3",
       "version_major": 2,
       "version_minor": 0
      },
      "text/plain": [
       "  0%|          | 0/9 [00:00<?, ?it/s]"
      ]
     },
     "metadata": {},
     "output_type": "display_data"
    }
   ],
   "source": [
    "for i_y, year in enumerate(tqdm(years)):\n",
    "    for i_s, sec in enumerate(secs):\n",
    "        cos_sims_by_sec[i_y*len(secs)+i_s]['year']=year\n",
    "        cos_sims_by_sec[i_y*len(secs)+i_s]['sector']=sec\n",
    "        cos_sims_by_sec[i_y*len(secs)+i_s]['all']=np.array([float(util.cos_sim(goalvecs[-1], vec)) for vec in vectors[np.logical_and(vectors['year']==year, vectors['sector']==sec)]['vector']])\n",
    "        cos_sims_by_sec[i_y*len(secs)+i_s]['mean']=np.mean(cos_sims_by_sec[i_y*len(secs)+i_s]['all'])\n",
    "            "
   ]
  },
  {
   "cell_type": "code",
   "execution_count": 193,
   "id": "c2b86370",
   "metadata": {
    "ExecuteTime": {
     "end_time": "2025-06-05T16:44:44.704820Z",
     "start_time": "2025-06-05T16:44:44.132430Z"
    }
   },
   "outputs": [
    {
     "data": {
      "image/png": "[encoded data removed]",
      "text/plain": [
       "<Figure size 640x480 with 1 Axes>"
      ]
     },
     "metadata": {},
     "output_type": "display_data"
    }
   ],
   "source": [
    "plt.plot(np.arange(2015, 2024), cos_sims_global['mean'], marker='o', label='global')\n",
    "for sec in secs:\n",
    "    plt.plot(cos_sims_by_sec[cos_sims_by_sec['sector']==sec]['year'], cos_sims_by_sec[cos_sims_by_sec['sector']==sec]['mean'], marker='o', label=sec, alpha=0.4)\n",
    "plt.legend()\n",
    "plt.show()"
   ]
  },
  {
   "cell_type": "markdown",
   "id": "9c5ff695",
   "metadata": {},
   "source": [
    "Waiting for Mann-Kendall to decide which are the sector to look for something."
   ]
  },
  {
   "cell_type": "markdown",
   "id": "16d28035",
   "metadata": {},
   "source": [
    "## Mann Kendall"
   ]
  },
  {
   "cell_type": "markdown",
   "id": "b50265e3",
   "metadata": {},
   "source": [
    "### Global"
   ]
  },
  {
   "cell_type": "code",
   "execution_count": 159,
   "id": "05c91fa8",
   "metadata": {
    "ExecuteTime": {
     "end_time": "2025-06-05T16:16:42.248356Z",
     "start_time": "2025-06-05T16:16:42.234600Z"
    }
   },
   "outputs": [
    {
     "data": {
      "text/plain": [
       "Mann_Kendall_Test(trend='increasing', h=True, p=0.00914914757959373, z=2.606430175713435, Tau=0.7222222222222222, s=26.0, var_s=92.0, slope=0.008636303942316109, intercept=-0.03555228317357982)"
      ]
     },
     "execution_count": 159,
     "metadata": {},
     "output_type": "execute_result"
    }
   ],
   "source": [
    "mk.original_test(cos_sims_global['mean'])"
   ]
  },
  {
   "cell_type": "markdown",
   "id": "384d18ec",
   "metadata": {},
   "source": [
    "Mmm, ok..."
   ]
  },
  {
   "cell_type": "markdown",
   "id": "0a3e7dc2",
   "metadata": {},
   "source": [
    "### By sector"
   ]
  },
  {
   "cell_type": "code",
   "execution_count": 204,
   "id": "3eda2e05",
   "metadata": {
    "ExecuteTime": {
     "end_time": "2025-06-05T16:55:23.194450Z",
     "start_time": "2025-06-05T16:55:23.159177Z"
    }
   },
   "outputs": [
    {
     "name": "stdout",
     "output_type": "stream",
     "text": [
      "sec=01, \u001b[1mincreasing\u001b[0m, p-value=1.23e-03, slope=0.02\n",
      "sec=02, \u001b[1mincreasing\u001b[0m, p-value=4.76e-02, slope=0.02\n",
      "sec=03, \u001b[1mincreasing\u001b[0m, p-value=4.76e-02, slope=0.02\n",
      "sec=04, \u001b[1mno trend  \u001b[0m, p-value=6.02e-01, slope=0.01\n",
      "sec=05, \u001b[1mincreasing\u001b[0m, p-value=4.88e-03, slope=0.01\n",
      "sec=06, \u001b[1mdecreasing\u001b[0m, p-value=2.86e-02, slope=-0.02\n",
      "sec=07, \u001b[1mincreasing\u001b[0m, p-value=2.86e-02, slope=0.01\n",
      "sec=08, \u001b[1mno trend  \u001b[0m, p-value=3.48e-01, slope=0.01\n",
      "sec=09, \u001b[1mincreasing\u001b[0m, p-value=2.67e-03, slope=0.06\n",
      "sec=10, \u001b[1mno trend  \u001b[0m, p-value=2.51e-01, slope=-0.01\n",
      "sec=11, \u001b[1mno trend  \u001b[0m, p-value=3.86e-01, slope=0.01\n"
     ]
    }
   ],
   "source": [
    "for sec in secs:\n",
    "    cacca=mk.original_test(cos_sims_by_sec[cos_sims_by_sec['sector']==sec]['mean'])\n",
    "    print(f'sec={sec:}, \\033[1m{cacca.trend:10}\\033[0m, p-value={cacca.p:.2e}, slope={cacca.slope:.2f}')"
   ]
  },
  {
   "cell_type": "markdown",
   "id": "09f6d76c",
   "metadata": {},
   "source": [
    "Mmm, ok..."
   ]
  },
  {
   "cell_type": "code",
   "execution_count": null,
   "id": "5ab0dbc6",
   "metadata": {},
   "outputs": [],
   "source": []
  }
 ],
 "metadata": {
  "kernelspec": {
   "display_name": "Python 3 (ipykernel)",
   "language": "python",
   "name": "python3"
  },
  "language_info": {
   "codemirror_mode": {
    "name": "ipython",
    "version": 3
   },
   "file_extension": ".py",
   "mimetype": "text/x-python",
   "name": "python",
   "nbconvert_exporter": "python",
   "pygments_lexer": "ipython3",
   "version": "3.8.10"
  },
  "notify_time": "5",
  "toc": {
   "base_numbering": 1,
   "nav_menu": {},
   "number_sections": true,
   "sideBar": true,
   "skip_h1_title": false,
   "title_cell": "Table of Contents",
   "title_sidebar": "Contents",
   "toc_cell": false,
   "toc_position": {
    "height": "calc(100% - 180px)",
    "left": "10px",
    "top": "150px",
    "width": "288px"
   },
   "toc_section_display": true,
   "toc_window_display": true
  }
 },
 "nbformat": 4,
 "nbformat_minor": 5
}
