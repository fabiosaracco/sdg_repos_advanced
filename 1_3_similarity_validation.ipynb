{
 "cells": [
  {
   "cell_type": "markdown",
   "id": "c25f4fc4",
   "metadata": {},
   "source": [
    "# Intro"
   ]
  },
  {
   "cell_type": "markdown",
   "id": "8a648dc6",
   "metadata": {},
   "source": [
    "## Standard modules"
   ]
  },
  {
   "cell_type": "code",
   "execution_count": 1,
   "id": "d33e7072",
   "metadata": {
    "ExecuteTime": {
     "end_time": "2025-06-16T13:33:29.098044Z",
     "start_time": "2025-06-16T13:33:29.005208Z"
    }
   },
   "outputs": [],
   "source": [
    "import os, sys\n",
    "import pathlib\n",
    "import requests"
   ]
  },
  {
   "cell_type": "code",
   "execution_count": 2,
   "id": "f4d89270",
   "metadata": {
    "ExecuteTime": {
     "end_time": "2025-06-16T13:33:29.276346Z",
     "start_time": "2025-06-16T13:33:29.103370Z"
    }
   },
   "outputs": [],
   "source": [
    "import numpy as np"
   ]
  },
  {
   "cell_type": "code",
   "execution_count": 3,
   "id": "2c5ac214",
   "metadata": {
    "ExecuteTime": {
     "end_time": "2025-06-16T13:33:29.406822Z",
     "start_time": "2025-06-16T13:33:29.279782Z"
    }
   },
   "outputs": [],
   "source": [
    "from tqdm.auto import tqdm, trange"
   ]
  },
  {
   "cell_type": "code",
   "execution_count": 4,
   "id": "971b3ab0",
   "metadata": {
    "ExecuteTime": {
     "end_time": "2025-06-16T13:33:32.976635Z",
     "start_time": "2025-06-16T13:33:29.409303Z"
    }
   },
   "outputs": [],
   "source": [
    "from sentence_transformers import util"
   ]
  },
  {
   "cell_type": "code",
   "execution_count": 5,
   "id": "a6384952",
   "metadata": {
    "ExecuteTime": {
     "end_time": "2025-06-16T13:33:33.692908Z",
     "start_time": "2025-06-16T13:33:32.982892Z"
    }
   },
   "outputs": [],
   "source": [
    "import matplotlib.pyplot as plt\n",
    "plt.rcParams['axes.linewidth'] = 2\n",
    "plt.rcParams['xtick.major.size'] = 10\n",
    "plt.rcParams['xtick.major.width'] = 2\n",
    "plt.rcParams['ytick.major.size'] = 10\n",
    "plt.rcParams['ytick.major.width'] = 2\n",
    "\n",
    "plt.rcParams['xtick.labelsize'] = 14\n",
    "plt.rcParams['ytick.labelsize'] = 14\n",
    "\n",
    "plt.rcParams['xtick.minor.size'] = 5\n",
    "plt.rcParams['xtick.minor.width'] = 1\n",
    "plt.rcParams['ytick.minor.size'] = 5\n",
    "plt.rcParams['ytick.minor.width'] = 1"
   ]
  },
  {
   "cell_type": "code",
   "execution_count": 6,
   "id": "b427861c",
   "metadata": {
    "ExecuteTime": {
     "end_time": "2025-06-16T13:33:33.769291Z",
     "start_time": "2025-06-16T13:33:33.696720Z"
    }
   },
   "outputs": [],
   "source": [
    "from sklearn.decomposition import PCA"
   ]
  },
  {
   "cell_type": "code",
   "execution_count": 7,
   "id": "d42824e0",
   "metadata": {
    "ExecuteTime": {
     "end_time": "2025-06-16T13:33:34.392763Z",
     "start_time": "2025-06-16T13:33:33.772271Z"
    }
   },
   "outputs": [],
   "source": [
    "import seaborn"
   ]
  },
  {
   "cell_type": "code",
   "execution_count": 8,
   "id": "6073c7c3",
   "metadata": {
    "ExecuteTime": {
     "end_time": "2025-06-16T13:33:34.402083Z",
     "start_time": "2025-06-16T13:33:34.395810Z"
    }
   },
   "outputs": [],
   "source": [
    "import pymannkendall as mk"
   ]
  },
  {
   "cell_type": "code",
   "execution_count": 9,
   "id": "07169f23",
   "metadata": {
    "ExecuteTime": {
     "end_time": "2025-06-16T13:33:34.474459Z",
     "start_time": "2025-06-16T13:33:34.404884Z"
    }
   },
   "outputs": [],
   "source": [
    "from scipy.spatial.distance import cosine"
   ]
  },
  {
   "cell_type": "code",
   "execution_count": 10,
   "id": "42a61036",
   "metadata": {
    "ExecuteTime": {
     "end_time": "2025-06-16T13:33:34.729090Z",
     "start_time": "2025-06-16T13:33:34.477238Z"
    }
   },
   "outputs": [],
   "source": [
    "import requests\n",
    "import re\n",
    "from bs4 import BeautifulSoup  # Per pulizia HTML nelle REST API"
   ]
  },
  {
   "cell_type": "code",
   "execution_count": 11,
   "id": "9a2043f5",
   "metadata": {
    "ExecuteTime": {
     "end_time": "2025-06-16T13:33:34.736225Z",
     "start_time": "2025-06-16T13:33:34.731939Z"
    }
   },
   "outputs": [],
   "source": [
    "import datetime as dt"
   ]
  },
  {
   "cell_type": "markdown",
   "id": "7e85cf96",
   "metadata": {},
   "source": [
    "## Personal modules"
   ]
  },
  {
   "cell_type": "code",
   "execution_count": 12,
   "id": "b0f932d9",
   "metadata": {
    "ExecuteTime": {
     "end_time": "2025-06-16T13:33:34.833142Z",
     "start_time": "2025-06-16T13:33:34.739206Z"
    }
   },
   "outputs": [],
   "source": [
    "from toolbox.updater import time_is_now"
   ]
  },
  {
   "cell_type": "code",
   "execution_count": 13,
   "id": "29642dae",
   "metadata": {
    "ExecuteTime": {
     "end_time": "2025-06-16T13:33:34.894855Z",
     "start_time": "2025-06-16T13:33:34.836336Z"
    }
   },
   "outputs": [],
   "source": [
    "from file2text import file2text"
   ]
  },
  {
   "cell_type": "code",
   "execution_count": 14,
   "id": "e8359b17",
   "metadata": {
    "ExecuteTime": {
     "end_time": "2025-06-16T13:33:34.966099Z",
     "start_time": "2025-06-16T13:33:34.904373Z"
    }
   },
   "outputs": [],
   "source": [
    "from first_rough_cleaning import first_text_cleaner"
   ]
  },
  {
   "cell_type": "code",
   "execution_count": 15,
   "id": "8773c970",
   "metadata": {
    "ExecuteTime": {
     "end_time": "2025-06-16T13:33:35.049981Z",
     "start_time": "2025-06-16T13:33:34.968864Z"
    }
   },
   "outputs": [],
   "source": [
    "from file_handler import *"
   ]
  },
  {
   "cell_type": "code",
   "execution_count": 16,
   "id": "7db0ec6e",
   "metadata": {
    "ExecuteTime": {
     "end_time": "2025-06-16T13:33:40.131405Z",
     "start_time": "2025-06-16T13:33:35.052980Z"
    }
   },
   "outputs": [
    {
     "name": "stderr",
     "output_type": "stream",
     "text": [
      "/home/sarawalk/sdgs_py38/lib/python3.8/site-packages/torch/cuda/__init__.py:118: UserWarning: CUDA initialization: The NVIDIA driver on your system is too old (found version 10020). Please update your GPU driver by downloading and installing a new version from the URL: http://www.nvidia.com/Download/index.aspx Alternatively, go to: https://pytorch.org to install a PyTorch version that has been compiled with your version of the CUDA driver. (Triggered internally at ../c10/cuda/CUDAFunctions.cpp:108.)\n",
      "  return torch._C._cuda_getDeviceCount() > 0\n"
     ]
    }
   ],
   "source": [
    "from jina4lote import jina4lote"
   ]
  },
  {
   "cell_type": "markdown",
   "id": "7861837e",
   "metadata": {},
   "source": [
    "## Folders"
   ]
  },
  {
   "cell_type": "code",
   "execution_count": 17,
   "id": "ae30a61d",
   "metadata": {
    "ExecuteTime": {
     "end_time": "2025-06-16T13:33:40.139705Z",
     "start_time": "2025-06-16T13:33:40.134925Z"
    }
   },
   "outputs": [],
   "source": [
    "VECTOR_FOLDER='./NewProcessedData/vectors/'"
   ]
  },
  {
   "cell_type": "code",
   "execution_count": 18,
   "id": "825a9c95",
   "metadata": {
    "ExecuteTime": {
     "end_time": "2025-06-16T13:33:40.202069Z",
     "start_time": "2025-06-16T13:33:40.142407Z"
    }
   },
   "outputs": [],
   "source": [
    "BENCHMARK_FOLDER='./NewProcessedData/benchmarks/'"
   ]
  },
  {
   "cell_type": "code",
   "execution_count": 19,
   "id": "d4fbe002",
   "metadata": {
    "ExecuteTime": {
     "end_time": "2025-06-16T13:33:40.301317Z",
     "start_time": "2025-06-16T13:33:40.205441Z"
    }
   },
   "outputs": [],
   "source": [
    "PCA_CENTR_VECTOR_FOLDER='./NewProcessedData/pca_centr_vectors/'"
   ]
  },
  {
   "cell_type": "markdown",
   "id": "05639ca3",
   "metadata": {},
   "source": [
    "## Load vectors"
   ]
  },
  {
   "cell_type": "code",
   "execution_count": 20,
   "id": "eeb78814",
   "metadata": {
    "ExecuteTime": {
     "end_time": "2025-06-16T13:33:40.372562Z",
     "start_time": "2025-06-16T13:33:40.305107Z"
    }
   },
   "outputs": [],
   "source": [
    "vecfiles=os.listdir(PCA_CENTR_VECTOR_FOLDER)"
   ]
  },
  {
   "cell_type": "code",
   "execution_count": 21,
   "id": "06a0b21f",
   "metadata": {
    "ExecuteTime": {
     "end_time": "2025-06-16T13:33:40.454030Z",
     "start_time": "2025-06-16T13:33:40.376274Z"
    }
   },
   "outputs": [],
   "source": [
    "vecfiles.sort()"
   ]
  },
  {
   "cell_type": "markdown",
   "id": "d2f951a9",
   "metadata": {},
   "source": [
    "### Reports' vectors"
   ]
  },
  {
   "cell_type": "code",
   "execution_count": 22,
   "id": "552144fe",
   "metadata": {
    "ExecuteTime": {
     "end_time": "2025-06-16T13:33:40.534612Z",
     "start_time": "2025-06-16T13:33:40.457573Z"
    }
   },
   "outputs": [],
   "source": [
    "reports_files=[vecfile for vecfile in vecfiles if vecfile[:4].isnumeric()]"
   ]
  },
  {
   "cell_type": "code",
   "execution_count": 23,
   "id": "e357cae4",
   "metadata": {
    "ExecuteTime": {
     "end_time": "2025-06-16T13:33:40.636553Z",
     "start_time": "2025-06-16T13:33:40.538331Z"
    }
   },
   "outputs": [],
   "source": [
    "reports_files.sort()"
   ]
  },
  {
   "cell_type": "code",
   "execution_count": 24,
   "id": "dceb0318",
   "metadata": {
    "ExecuteTime": {
     "end_time": "2025-06-16T13:33:40.717196Z",
     "start_time": "2025-06-16T13:33:40.640223Z"
    }
   },
   "outputs": [],
   "source": [
    "years, k_y=np.unique([rf[:4] for rf in reports_files], return_counts=True)"
   ]
  },
  {
   "cell_type": "code",
   "execution_count": 25,
   "id": "92b7cbbf",
   "metadata": {
    "ExecuteTime": {
     "end_time": "2025-06-16T13:33:40.811017Z",
     "start_time": "2025-06-16T13:33:40.720948Z"
    }
   },
   "outputs": [
    {
     "data": {
      "text/plain": [
       "array([['2015', '40'],\n",
       "       ['2016', '44'],\n",
       "       ['2017', '51'],\n",
       "       ['2018', '56'],\n",
       "       ['2019', '67'],\n",
       "       ['2020', '69'],\n",
       "       ['2021', '76'],\n",
       "       ['2022', '80'],\n",
       "       ['2023', '90']], dtype='<U21')"
      ]
     },
     "execution_count": 25,
     "metadata": {},
     "output_type": "execute_result"
    }
   ],
   "source": [
    "np.vstack((years, k_y)).T"
   ]
  },
  {
   "cell_type": "code",
   "execution_count": 26,
   "id": "e9ae5489",
   "metadata": {
    "ExecuteTime": {
     "end_time": "2025-06-16T13:33:40.891207Z",
     "start_time": "2025-06-16T13:33:40.813918Z"
    }
   },
   "outputs": [],
   "source": [
    "vectors=np.zeros(len(reports_files), dtype=[('year', 'i4'), ('sector', 'U2'), ('company', 'U100'), ('vector', object)])"
   ]
  },
  {
   "cell_type": "code",
   "execution_count": 27,
   "id": "9f9b273a",
   "metadata": {
    "ExecuteTime": {
     "end_time": "2025-06-16T13:33:43.361171Z",
     "start_time": "2025-06-16T13:33:40.894120Z"
    }
   },
   "outputs": [],
   "source": [
    "for i_rf, reports_file in enumerate(reports_files):\n",
    "    # info from the filename\n",
    "    splitted_filename=reports_file.split('_')\n",
    "    \n",
    "    year=int(splitted_filename[0])\n",
    "    sector=splitted_filename[1]\n",
    "    if splitted_filename[-1]=='PLC.txt':\n",
    "        company='_'.join(splitted_filename[2:-1])\n",
    "    else:\n",
    "        company='_'.join(splitted_filename[2:])\n",
    "        company=company.replace('.txt', '')\n",
    "    company=company.lower()\n",
    "    # get the vector\n",
    "    vector=np.genfromtxt(PCA_CENTR_VECTOR_FOLDER+reports_file)\n",
    "    \n",
    "    # organize data\n",
    "    vectors[i_rf]['year']=year\n",
    "    vectors[i_rf]['sector']=sector\n",
    "    vectors[i_rf]['company']=company\n",
    "    vectors[i_rf]['vector']=vector"
   ]
  },
  {
   "cell_type": "markdown",
   "id": "cadb5c34",
   "metadata": {},
   "source": [
    "### Witten's vector"
   ]
  },
  {
   "cell_type": "code",
   "execution_count": 28,
   "id": "0fe7f37d",
   "metadata": {
    "ExecuteTime": {
     "end_time": "2025-06-16T13:33:49.834890Z",
     "start_time": "2025-06-16T13:33:49.815944Z"
    }
   },
   "outputs": [],
   "source": [
    "wittenvecfile=[file for file in os.listdir(PCA_CENTR_VECTOR_FOLDER) if file.startswith('Witten') and file.endswith('.txt')][0]"
   ]
  },
  {
   "cell_type": "code",
   "execution_count": 29,
   "id": "f3901962",
   "metadata": {
    "ExecuteTime": {
     "end_time": "2025-06-16T13:33:50.188782Z",
     "start_time": "2025-06-16T13:33:50.179492Z"
    }
   },
   "outputs": [],
   "source": [
    "wittenvec=np.genfromtxt(PCA_CENTR_VECTOR_FOLDER+wittenvecfile)"
   ]
  },
  {
   "cell_type": "markdown",
   "id": "003a5ccd",
   "metadata": {},
   "source": [
    "### Goals' vectors"
   ]
  },
  {
   "cell_type": "code",
   "execution_count": 30,
   "id": "236f9502",
   "metadata": {
    "ExecuteTime": {
     "end_time": "2025-06-16T13:33:50.937287Z",
     "start_time": "2025-06-16T13:33:50.929543Z"
    }
   },
   "outputs": [],
   "source": [
    "goalvecfiles=[vecfile for vecfile in vecfiles if vecfile.startswith('Goal')]"
   ]
  },
  {
   "cell_type": "code",
   "execution_count": 31,
   "id": "e45c9b2c",
   "metadata": {
    "ExecuteTime": {
     "end_time": "2025-06-16T13:33:51.354704Z",
     "start_time": "2025-06-16T13:33:51.349704Z"
    }
   },
   "outputs": [],
   "source": [
    "goalvecfiles.sort()"
   ]
  },
  {
   "cell_type": "code",
   "execution_count": 32,
   "id": "0aff4057",
   "metadata": {
    "ExecuteTime": {
     "end_time": "2025-06-16T13:33:51.793333Z",
     "start_time": "2025-06-16T13:33:51.784468Z"
    }
   },
   "outputs": [
    {
     "data": {
      "text/plain": [
       "['Goal-01-Fast-Facts.txt',\n",
       " 'Goal-02-Fast-Facts.txt',\n",
       " 'Goal-03-Fast-Facts.txt',\n",
       " 'Goal-04-Fast-Facts.txt',\n",
       " 'Goal-05-Fast-Facts.txt',\n",
       " 'Goal-06-Fast-Facts.txt',\n",
       " 'Goal-07-Fast-Facts.txt',\n",
       " 'Goal-08-Fast-Facts.txt',\n",
       " 'Goal-09-Fast-Facts.txt',\n",
       " 'Goal-10-Fast-Facts.txt',\n",
       " 'Goal-11_Fast-Facts.txt',\n",
       " 'Goal-12_Fast-Facts.txt',\n",
       " 'Goal-13_Fast-Facts.txt',\n",
       " 'Goal-14_Fast-Facts.txt',\n",
       " 'Goal-15-Fast-Facts.txt',\n",
       " 'Goal-16-Fast-Facts.txt',\n",
       " 'Goal-17-Fast-Facts.txt',\n",
       " 'Goal-Fast-Facts.txt']"
      ]
     },
     "execution_count": 32,
     "metadata": {},
     "output_type": "execute_result"
    }
   ],
   "source": [
    "goalvecfiles"
   ]
  },
  {
   "cell_type": "code",
   "execution_count": 33,
   "id": "654dc876",
   "metadata": {
    "ExecuteTime": {
     "end_time": "2025-06-16T13:33:52.389184Z",
     "start_time": "2025-06-16T13:33:52.307827Z"
    }
   },
   "outputs": [],
   "source": [
    "goalvecs=[np.genfromtxt(PCA_CENTR_VECTOR_FOLDER+goalvecfile) for goalvecfile in goalvecfiles]"
   ]
  },
  {
   "cell_type": "markdown",
   "id": "bb8330f1",
   "metadata": {},
   "source": [
    "### Wikipedia's vectors"
   ]
  },
  {
   "cell_type": "code",
   "execution_count": 34,
   "id": "acf627e6",
   "metadata": {
    "ExecuteTime": {
     "end_time": "2025-06-16T13:33:53.179166Z",
     "start_time": "2025-06-16T13:33:53.170900Z"
    }
   },
   "outputs": [],
   "source": [
    "wikivecfiles=[vecfile for vecfile in vecfiles if vecfile.startswith('wiki')]"
   ]
  },
  {
   "cell_type": "code",
   "execution_count": 35,
   "id": "90dedc30",
   "metadata": {
    "ExecuteTime": {
     "end_time": "2025-06-16T13:33:53.551646Z",
     "start_time": "2025-06-16T13:33:53.546619Z"
    }
   },
   "outputs": [],
   "source": [
    "wikivecfiles.sort()"
   ]
  },
  {
   "cell_type": "code",
   "execution_count": 36,
   "id": "cd26bfa6",
   "metadata": {
    "ExecuteTime": {
     "end_time": "2025-06-16T13:33:53.890756Z",
     "start_time": "2025-06-16T13:33:53.883262Z"
    }
   },
   "outputs": [
    {
     "data": {
      "text/plain": [
       "4001"
      ]
     },
     "execution_count": 36,
     "metadata": {},
     "output_type": "execute_result"
    }
   ],
   "source": [
    "len(wikivecfiles)"
   ]
  },
  {
   "cell_type": "code",
   "execution_count": 37,
   "id": "f8557cae",
   "metadata": {
    "ExecuteTime": {
     "end_time": "2025-06-16T13:34:08.681539Z",
     "start_time": "2025-06-16T13:33:54.217278Z"
    }
   },
   "outputs": [],
   "source": [
    "wikivecs=[np.genfromtxt(PCA_CENTR_VECTOR_FOLDER+wikivecfile) for wikivecfile in wikivecfiles]"
   ]
  },
  {
   "cell_type": "markdown",
   "id": "4b2ed74d",
   "metadata": {},
   "source": [
    "## Sector helper"
   ]
  },
  {
   "cell_type": "code",
   "execution_count": 38,
   "id": "e48cdb4b",
   "metadata": {
    "ExecuteTime": {
     "end_time": "2025-06-16T13:34:08.692584Z",
     "start_time": "2025-06-16T13:34:08.686587Z"
    }
   },
   "outputs": [],
   "source": [
    "rtf_files=os.listdir('./rtf')\n",
    "rtf_files.sort()"
   ]
  },
  {
   "cell_type": "code",
   "execution_count": 39,
   "id": "38058b5a",
   "metadata": {
    "ExecuteTime": {
     "end_time": "2025-06-16T13:34:08.791816Z",
     "start_time": "2025-06-16T13:34:08.695664Z"
    }
   },
   "outputs": [],
   "source": [
    "sec_helper={}\n",
    "for file in rtf_files:\n",
    "    splitted_name=file.split('_')\n",
    "    if splitted_name[0].isnumeric():\n",
    "        if splitted_name[0] not in sec_helper.keys():\n",
    "            sec_helper[splitted_name[0].zfill(2)]=splitted_name[1]"
   ]
  },
  {
   "cell_type": "code",
   "execution_count": 40,
   "id": "7dfc852e",
   "metadata": {
    "ExecuteTime": {
     "end_time": "2025-06-16T13:34:08.861804Z",
     "start_time": "2025-06-16T13:34:08.798176Z"
    }
   },
   "outputs": [
    {
     "data": {
      "text/plain": [
       "{'10': 'Telecommunications',\n",
       " '11': 'Utilities',\n",
       " '01': 'Basic Materials',\n",
       " '02': 'Consumer Discretionary',\n",
       " '03': 'Consumer Staples',\n",
       " '04': 'Energy',\n",
       " '05': 'Financials',\n",
       " '06': 'Health Care',\n",
       " '07': 'Industrials',\n",
       " '08': 'Real Estate',\n",
       " '09': 'Technology'}"
      ]
     },
     "execution_count": 40,
     "metadata": {},
     "output_type": "execute_result"
    }
   ],
   "source": [
    "sec_helper"
   ]
  },
  {
   "cell_type": "markdown",
   "id": "77a7bc19",
   "metadata": {},
   "source": [
    "## SDG helper"
   ]
  },
  {
   "cell_type": "code",
   "execution_count": 41,
   "id": "a310e1f4",
   "metadata": {
    "ExecuteTime": {
     "end_time": "2025-06-16T13:34:08.940845Z",
     "start_time": "2025-06-16T13:34:08.865350Z"
    }
   },
   "outputs": [],
   "source": [
    "sdg_helper={'01':'No Poverty', \n",
    " '02': 'Zero hunger', \n",
    " '03': 'Good health and well-being', \n",
    " '04': 'Quality education',\n",
    " '05': 'Gender equality',\n",
    " '06': 'Clean water and sanitation',\n",
    " '07': 'Affordable and clean energy',\n",
    " '08': 'Decent work and economic growth',\n",
    " '09': 'Industry, Innovation, Technology and Infrastructure',\n",
    " '10': 'Reduced inequality',\n",
    " '11': 'Sustainable cities and communities',\n",
    " '12': 'Responsible consumption and production',\n",
    " '13': 'Climate action',\n",
    " '14': 'Life below water',\n",
    " '15': 'Life on land',\n",
    " '16': 'Peace, justice and strong institutions',\n",
    " '17': 'Partnerships for the goals'\n",
    "}"
   ]
  },
  {
   "cell_type": "markdown",
   "id": "85ba0893",
   "metadata": {},
   "source": [
    "## FDR"
   ]
  },
  {
   "cell_type": "code",
   "execution_count": 42,
   "id": "af6bc465",
   "metadata": {
    "ExecuteTime": {
     "end_time": "2025-06-16T13:34:09.040625Z",
     "start_time": "2025-06-16T13:34:08.943729Z"
    }
   },
   "outputs": [],
   "source": [
    "def fdr_th(p_vals, alpha):\n",
    "    _aux=np.sort(p_vals)\n",
    "    fdr_ths=np.arange(1, 1+len(_aux))*alpha/len(_aux)\n",
    "    fdr_mask=_aux<=fdr_ths\n",
    "    if np.sum(fdr_mask)>0:\n",
    "        return fdr_ths[fdr_mask][-1]\n",
    "    else:\n",
    "        return 0."
   ]
  },
  {
   "cell_type": "markdown",
   "id": "4a96dcab",
   "metadata": {},
   "source": [
    "# Validation"
   ]
  },
  {
   "cell_type": "code",
   "execution_count": 43,
   "id": "6757918f",
   "metadata": {
    "ExecuteTime": {
     "end_time": "2025-06-16T13:34:09.132890Z",
     "start_time": "2025-06-16T13:34:09.044206Z"
    }
   },
   "outputs": [],
   "source": [
    "years=years.astype('i4')"
   ]
  },
  {
   "cell_type": "code",
   "execution_count": 44,
   "id": "b749735f",
   "metadata": {
    "ExecuteTime": {
     "end_time": "2025-06-16T13:34:09.198826Z",
     "start_time": "2025-06-16T13:34:09.136653Z"
    }
   },
   "outputs": [],
   "source": [
    "alpha=0.05"
   ]
  },
  {
   "cell_type": "markdown",
   "id": "c3874171",
   "metadata": {},
   "source": [
    "## The benchmark"
   ]
  },
  {
   "cell_type": "code",
   "execution_count": 45,
   "id": "c421f990",
   "metadata": {
    "ExecuteTime": {
     "end_time": "2025-06-16T13:34:09.274334Z",
     "start_time": "2025-06-16T13:34:09.202405Z"
    }
   },
   "outputs": [],
   "source": [
    "wiki_bench=np.zeros(len(vectors), dtype=[('cos_sim', object)])"
   ]
  },
  {
   "cell_type": "code",
   "execution_count": 46,
   "id": "1d0f8a9e",
   "metadata": {
    "ExecuteTime": {
     "end_time": "2025-06-16T13:46:29.772828Z",
     "start_time": "2025-06-16T13:34:09.280901Z"
    }
   },
   "outputs": [
    {
     "data": {
      "application/vnd.jupyter.widget-view+json": {
       "model_id": "e2ce14982001479eb47c254d2403d336",
       "version_major": 2,
       "version_minor": 0
      },
      "text/plain": [
       "  0%|          | 0/573 [00:00<?, ?it/s]"
      ]
     },
     "metadata": {},
     "output_type": "display_data"
    },
    {
     "data": {
      "application/vnd.jupyter.widget-view+json": {
       "model_id": "",
       "version_major": 2,
       "version_minor": 0
      },
      "text/plain": [
       "  0%|          | 0/4001 [00:00<?, ?it/s]"
      ]
     },
     "metadata": {},
     "output_type": "display_data"
    },
    {
     "data": {
      "application/vnd.jupyter.widget-view+json": {
       "model_id": "",
       "version_major": 2,
       "version_minor": 0
      },
      "text/plain": [
       "  0%|          | 0/4001 [00:00<?, ?it/s]"
      ]
     },
     "metadata": {},
     "output_type": "display_data"
    },
    {
     "data": {
      "application/vnd.jupyter.widget-view+json": {
       "model_id": "",
       "version_major": 2,
       "version_minor": 0
      },
      "text/plain": [
       "  0%|          | 0/4001 [00:00<?, ?it/s]"
      ]
     },
     "metadata": {},
     "output_type": "display_data"
    },
    {
     "data": {
      "application/vnd.jupyter.widget-view+json": {
       "model_id": "",
       "version_major": 2,
       "version_minor": 0
      },
      "text/plain": [
       "  0%|          | 0/4001 [00:00<?, ?it/s]"
      ]
     },
     "metadata": {},
     "output_type": "display_data"
    },
    {
     "data": {
      "application/vnd.jupyter.widget-view+json": {
       "model_id": "",
       "version_major": 2,
       "version_minor": 0
      },
      "text/plain": [
       "  0%|          | 0/4001 [00:00<?, ?it/s]"
      ]
     },
     "metadata": {},
     "output_type": "display_data"
    },
    {
     "data": {
      "application/vnd.jupyter.widget-view+json": {
       "model_id": "",
       "version_major": 2,
       "version_minor": 0
      },
      "text/plain": [
       "  0%|          | 0/4001 [00:00<?, ?it/s]"
      ]
     },
     "metadata": {},
     "output_type": "display_data"
    },
    {
     "data": {
      "application/vnd.jupyter.widget-view+json": {
       "model_id": "",
       "version_major": 2,
       "version_minor": 0
      },
      "text/plain": [
       "  0%|          | 0/4001 [00:00<?, ?it/s]"
      ]
     },
     "metadata": {},
     "output_type": "display_data"
    },
    {
     "data": {
      "application/vnd.jupyter.widget-view+json": {
       "model_id": "",
       "version_major": 2,
       "version_minor": 0
      },
      "text/plain": [
       "  0%|          | 0/4001 [00:00<?, ?it/s]"
      ]
     },
     "metadata": {},
     "output_type": "display_data"
    },
    {
     "data": {
      "application/vnd.jupyter.widget-view+json": {
       "model_id": "",
       "version_major": 2,
       "version_minor": 0
      },
      "text/plain": [
       "  0%|          | 0/4001 [00:00<?, ?it/s]"
      ]
     },
     "metadata": {},
     "output_type": "display_data"
    },
    {
     "data": {
      "application/vnd.jupyter.widget-view+json": {
       "model_id": "",
       "version_major": 2,
       "version_minor": 0
      },
      "text/plain": [
       "  0%|          | 0/4001 [00:00<?, ?it/s]"
      ]
     },
     "metadata": {},
     "output_type": "display_data"
    },
    {
     "data": {
      "application/vnd.jupyter.widget-view+json": {
       "model_id": "",
       "version_major": 2,
       "version_minor": 0
      },
      "text/plain": [
       "  0%|          | 0/4001 [00:00<?, ?it/s]"
      ]
     },
     "metadata": {},
     "output_type": "display_data"
    },
    {
     "data": {
      "application/vnd.jupyter.widget-view+json": {
       "model_id": "",
       "version_major": 2,
       "version_minor": 0
      },
      "text/plain": [
       "  0%|          | 0/4001 [00:00<?, ?it/s]"
      ]
     },
     "metadata": {},
     "output_type": "display_data"
    },
    {
     "data": {
      "application/vnd.jupyter.widget-view+json": {
       "model_id": "",
       "version_major": 2,
       "version_minor": 0
      },
      "text/plain": [
       "  0%|          | 0/4001 [00:00<?, ?it/s]"
      ]
     },
     "metadata": {},
     "output_type": "display_data"
    },
    {
     "data": {
      "application/vnd.jupyter.widget-view+json": {
       "model_id": "",
       "version_major": 2,
       "version_minor": 0
      },
      "text/plain": [
       "  0%|          | 0/4001 [00:00<?, ?it/s]"
      ]
     },
     "metadata": {},
     "output_type": "display_data"
    },
    {
     "data": {
      "application/vnd.jupyter.widget-view+json": {
       "model_id": "",
       "version_major": 2,
       "version_minor": 0
      },
      "text/plain": [
       "  0%|          | 0/4001 [00:00<?, ?it/s]"
      ]
     },
     "metadata": {},
     "output_type": "display_data"
    },
    {
     "data": {
      "application/vnd.jupyter.widget-view+json": {
       "model_id": "",
       "version_major": 2,
       "version_minor": 0
      },
      "text/plain": [
       "  0%|          | 0/4001 [00:00<?, ?it/s]"
      ]
     },
     "metadata": {},
     "output_type": "display_data"
    },
    {
     "data": {
      "application/vnd.jupyter.widget-view+json": {
       "model_id": "",
       "version_major": 2,
       "version_minor": 0
      },
      "text/plain": [
       "  0%|          | 0/4001 [00:00<?, ?it/s]"
      ]
     },
     "metadata": {},
     "output_type": "display_data"
    },
    {
     "data": {
      "application/vnd.jupyter.widget-view+json": {
       "model_id": "",
       "version_major": 2,
       "version_minor": 0
      },
      "text/plain": [
       "  0%|          | 0/4001 [00:00<?, ?it/s]"
      ]
     },
     "metadata": {},
     "output_type": "display_data"
    },
    {
     "data": {
      "application/vnd.jupyter.widget-view+json": {
       "model_id": "",
       "version_major": 2,
       "version_minor": 0
      },
      "text/plain": [
       "  0%|          | 0/4001 [00:00<?, ?it/s]"
      ]
     },
     "metadata": {},
     "output_type": "display_data"
    },
    {
     "data": {
      "application/vnd.jupyter.widget-view+json": {
       "model_id": "",
       "version_major": 2,
       "version_minor": 0
      },
      "text/plain": [
       "  0%|          | 0/4001 [00:00<?, ?it/s]"
      ]
     },
     "metadata": {},
     "output_type": "display_data"
    },
    {
     "data": {
      "application/vnd.jupyter.widget-view+json": {
       "model_id": "",
       "version_major": 2,
       "version_minor": 0
      },
      "text/plain": [
       "  0%|          | 0/4001 [00:00<?, ?it/s]"
      ]
     },
     "metadata": {},
     "output_type": "display_data"
    },
    {
     "data": {
      "application/vnd.jupyter.widget-view+json": {
       "model_id": "",
       "version_major": 2,
       "version_minor": 0
      },
      "text/plain": [
       "  0%|          | 0/4001 [00:00<?, ?it/s]"
      ]
     },
     "metadata": {},
     "output_type": "display_data"
    },
    {
     "data": {
      "application/vnd.jupyter.widget-view+json": {
       "model_id": "",
       "version_major": 2,
       "version_minor": 0
      },
      "text/plain": [
       "  0%|          | 0/4001 [00:00<?, ?it/s]"
      ]
     },
     "metadata": {},
     "output_type": "display_data"
    },
    {
     "data": {
      "application/vnd.jupyter.widget-view+json": {
       "model_id": "",
       "version_major": 2,
       "version_minor": 0
      },
      "text/plain": [
       "  0%|          | 0/4001 [00:00<?, ?it/s]"
      ]
     },
     "metadata": {},
     "output_type": "display_data"
    },
    {
     "data": {
      "application/vnd.jupyter.widget-view+json": {
       "model_id": "",
       "version_major": 2,
       "version_minor": 0
      },
      "text/plain": [
       "  0%|          | 0/4001 [00:00<?, ?it/s]"
      ]
     },
     "metadata": {},
     "output_type": "display_data"
    },
    {
     "data": {
      "application/vnd.jupyter.widget-view+json": {
       "model_id": "",
       "version_major": 2,
       "version_minor": 0
      },
      "text/plain": [
       "  0%|          | 0/4001 [00:00<?, ?it/s]"
      ]
     },
     "metadata": {},
     "output_type": "display_data"
    },
    {
     "data": {
      "application/vnd.jupyter.widget-view+json": {
       "model_id": "",
       "version_major": 2,
       "version_minor": 0
      },
      "text/plain": [
       "  0%|          | 0/4001 [00:00<?, ?it/s]"
      ]
     },
     "metadata": {},
     "output_type": "display_data"
    },
    {
     "data": {
      "application/vnd.jupyter.widget-view+json": {
       "model_id": "",
       "version_major": 2,
       "version_minor": 0
      },
      "text/plain": [
       "  0%|          | 0/4001 [00:00<?, ?it/s]"
      ]
     },
     "metadata": {},
     "output_type": "display_data"
    },
    {
     "data": {
      "application/vnd.jupyter.widget-view+json": {
       "model_id": "",
       "version_major": 2,
       "version_minor": 0
      },
      "text/plain": [
       "  0%|          | 0/4001 [00:00<?, ?it/s]"
      ]
     },
     "metadata": {},
     "output_type": "display_data"
    },
    {
     "data": {
      "application/vnd.jupyter.widget-view+json": {
       "model_id": "",
       "version_major": 2,
       "version_minor": 0
      },
      "text/plain": [
       "  0%|          | 0/4001 [00:00<?, ?it/s]"
      ]
     },
     "metadata": {},
     "output_type": "display_data"
    },
    {
     "data": {
      "application/vnd.jupyter.widget-view+json": {
       "model_id": "",
       "version_major": 2,
       "version_minor": 0
      },
      "text/plain": [
       "  0%|          | 0/4001 [00:00<?, ?it/s]"
      ]
     },
     "metadata": {},
     "output_type": "display_data"
    },
    {
     "data": {
      "application/vnd.jupyter.widget-view+json": {
       "model_id": "",
       "version_major": 2,
       "version_minor": 0
      },
      "text/plain": [
       "  0%|          | 0/4001 [00:00<?, ?it/s]"
      ]
     },
     "metadata": {},
     "output_type": "display_data"
    },
    {
     "data": {
      "application/vnd.jupyter.widget-view+json": {
       "model_id": "",
       "version_major": 2,
       "version_minor": 0
      },
      "text/plain": [
       "  0%|          | 0/4001 [00:00<?, ?it/s]"
      ]
     },
     "metadata": {},
     "output_type": "display_data"
    },
    {
     "data": {
      "application/vnd.jupyter.widget-view+json": {
       "model_id": "",
       "version_major": 2,
       "version_minor": 0
      },
      "text/plain": [
       "  0%|          | 0/4001 [00:00<?, ?it/s]"
      ]
     },
     "metadata": {},
     "output_type": "display_data"
    },
    {
     "data": {
      "application/vnd.jupyter.widget-view+json": {
       "model_id": "",
       "version_major": 2,
       "version_minor": 0
      },
      "text/plain": [
       "  0%|          | 0/4001 [00:00<?, ?it/s]"
      ]
     },
     "metadata": {},
     "output_type": "display_data"
    },
    {
     "data": {
      "application/vnd.jupyter.widget-view+json": {
       "model_id": "",
       "version_major": 2,
       "version_minor": 0
      },
      "text/plain": [
       "  0%|          | 0/4001 [00:00<?, ?it/s]"
      ]
     },
     "metadata": {},
     "output_type": "display_data"
    },
    {
     "data": {
      "application/vnd.jupyter.widget-view+json": {
       "model_id": "",
       "version_major": 2,
       "version_minor": 0
      },
      "text/plain": [
       "  0%|          | 0/4001 [00:00<?, ?it/s]"
      ]
     },
     "metadata": {},
     "output_type": "display_data"
    },
    {
     "data": {
      "application/vnd.jupyter.widget-view+json": {
       "model_id": "",
       "version_major": 2,
       "version_minor": 0
      },
      "text/plain": [
       "  0%|          | 0/4001 [00:00<?, ?it/s]"
      ]
     },
     "metadata": {},
     "output_type": "display_data"
    },
    {
     "data": {
      "application/vnd.jupyter.widget-view+json": {
       "model_id": "",
       "version_major": 2,
       "version_minor": 0
      },
      "text/plain": [
       "  0%|          | 0/4001 [00:00<?, ?it/s]"
      ]
     },
     "metadata": {},
     "output_type": "display_data"
    },
    {
     "data": {
      "application/vnd.jupyter.widget-view+json": {
       "model_id": "",
       "version_major": 2,
       "version_minor": 0
      },
      "text/plain": [
       "  0%|          | 0/4001 [00:00<?, ?it/s]"
      ]
     },
     "metadata": {},
     "output_type": "display_data"
    },
    {
     "data": {
      "application/vnd.jupyter.widget-view+json": {
       "model_id": "",
       "version_major": 2,
       "version_minor": 0
      },
      "text/plain": [
       "  0%|          | 0/4001 [00:00<?, ?it/s]"
      ]
     },
     "metadata": {},
     "output_type": "display_data"
    },
    {
     "data": {
      "application/vnd.jupyter.widget-view+json": {
       "model_id": "",
       "version_major": 2,
       "version_minor": 0
      },
      "text/plain": [
       "  0%|          | 0/4001 [00:00<?, ?it/s]"
      ]
     },
     "metadata": {},
     "output_type": "display_data"
    },
    {
     "data": {
      "application/vnd.jupyter.widget-view+json": {
       "model_id": "",
       "version_major": 2,
       "version_minor": 0
      },
      "text/plain": [
       "  0%|          | 0/4001 [00:00<?, ?it/s]"
      ]
     },
     "metadata": {},
     "output_type": "display_data"
    },
    {
     "data": {
      "application/vnd.jupyter.widget-view+json": {
       "model_id": "",
       "version_major": 2,
       "version_minor": 0
      },
      "text/plain": [
       "  0%|          | 0/4001 [00:00<?, ?it/s]"
      ]
     },
     "metadata": {},
     "output_type": "display_data"
    },
    {
     "data": {
      "application/vnd.jupyter.widget-view+json": {
       "model_id": "",
       "version_major": 2,
       "version_minor": 0
      },
      "text/plain": [
       "  0%|          | 0/4001 [00:00<?, ?it/s]"
      ]
     },
     "metadata": {},
     "output_type": "display_data"
    },
    {
     "data": {
      "application/vnd.jupyter.widget-view+json": {
       "model_id": "",
       "version_major": 2,
       "version_minor": 0
      },
      "text/plain": [
       "  0%|          | 0/4001 [00:00<?, ?it/s]"
      ]
     },
     "metadata": {},
     "output_type": "display_data"
    },
    {
     "data": {
      "application/vnd.jupyter.widget-view+json": {
       "model_id": "",
       "version_major": 2,
       "version_minor": 0
      },
      "text/plain": [
       "  0%|          | 0/4001 [00:00<?, ?it/s]"
      ]
     },
     "metadata": {},
     "output_type": "display_data"
    },
    {
     "data": {
      "application/vnd.jupyter.widget-view+json": {
       "model_id": "",
       "version_major": 2,
       "version_minor": 0
      },
      "text/plain": [
       "  0%|          | 0/4001 [00:00<?, ?it/s]"
      ]
     },
     "metadata": {},
     "output_type": "display_data"
    },
    {
     "data": {
      "application/vnd.jupyter.widget-view+json": {
       "model_id": "",
       "version_major": 2,
       "version_minor": 0
      },
      "text/plain": [
       "  0%|          | 0/4001 [00:00<?, ?it/s]"
      ]
     },
     "metadata": {},
     "output_type": "display_data"
    },
    {
     "data": {
      "application/vnd.jupyter.widget-view+json": {
       "model_id": "",
       "version_major": 2,
       "version_minor": 0
      },
      "text/plain": [
       "  0%|          | 0/4001 [00:00<?, ?it/s]"
      ]
     },
     "metadata": {},
     "output_type": "display_data"
    },
    {
     "data": {
      "application/vnd.jupyter.widget-view+json": {
       "model_id": "",
       "version_major": 2,
       "version_minor": 0
      },
      "text/plain": [
       "  0%|          | 0/4001 [00:00<?, ?it/s]"
      ]
     },
     "metadata": {},
     "output_type": "display_data"
    },
    {
     "data": {
      "application/vnd.jupyter.widget-view+json": {
       "model_id": "",
       "version_major": 2,
       "version_minor": 0
      },
      "text/plain": [
       "  0%|          | 0/4001 [00:00<?, ?it/s]"
      ]
     },
     "metadata": {},
     "output_type": "display_data"
    },
    {
     "data": {
      "application/vnd.jupyter.widget-view+json": {
       "model_id": "",
       "version_major": 2,
       "version_minor": 0
      },
      "text/plain": [
       "  0%|          | 0/4001 [00:00<?, ?it/s]"
      ]
     },
     "metadata": {},
     "output_type": "display_data"
    },
    {
     "data": {
      "application/vnd.jupyter.widget-view+json": {
       "model_id": "",
       "version_major": 2,
       "version_minor": 0
      },
      "text/plain": [
       "  0%|          | 0/4001 [00:00<?, ?it/s]"
      ]
     },
     "metadata": {},
     "output_type": "display_data"
    },
    {
     "data": {
      "application/vnd.jupyter.widget-view+json": {
       "model_id": "",
       "version_major": 2,
       "version_minor": 0
      },
      "text/plain": [
       "  0%|          | 0/4001 [00:00<?, ?it/s]"
      ]
     },
     "metadata": {},
     "output_type": "display_data"
    },
    {
     "data": {
      "application/vnd.jupyter.widget-view+json": {
       "model_id": "",
       "version_major": 2,
       "version_minor": 0
      },
      "text/plain": [
       "  0%|          | 0/4001 [00:00<?, ?it/s]"
      ]
     },
     "metadata": {},
     "output_type": "display_data"
    },
    {
     "data": {
      "application/vnd.jupyter.widget-view+json": {
       "model_id": "",
       "version_major": 2,
       "version_minor": 0
      },
      "text/plain": [
       "  0%|          | 0/4001 [00:00<?, ?it/s]"
      ]
     },
     "metadata": {},
     "output_type": "display_data"
    },
    {
     "data": {
      "application/vnd.jupyter.widget-view+json": {
       "model_id": "",
       "version_major": 2,
       "version_minor": 0
      },
      "text/plain": [
       "  0%|          | 0/4001 [00:00<?, ?it/s]"
      ]
     },
     "metadata": {},
     "output_type": "display_data"
    },
    {
     "data": {
      "application/vnd.jupyter.widget-view+json": {
       "model_id": "",
       "version_major": 2,
       "version_minor": 0
      },
      "text/plain": [
       "  0%|          | 0/4001 [00:00<?, ?it/s]"
      ]
     },
     "metadata": {},
     "output_type": "display_data"
    },
    {
     "data": {
      "application/vnd.jupyter.widget-view+json": {
       "model_id": "",
       "version_major": 2,
       "version_minor": 0
      },
      "text/plain": [
       "  0%|          | 0/4001 [00:00<?, ?it/s]"
      ]
     },
     "metadata": {},
     "output_type": "display_data"
    },
    {
     "data": {
      "application/vnd.jupyter.widget-view+json": {
       "model_id": "",
       "version_major": 2,
       "version_minor": 0
      },
      "text/plain": [
       "  0%|          | 0/4001 [00:00<?, ?it/s]"
      ]
     },
     "metadata": {},
     "output_type": "display_data"
    },
    {
     "data": {
      "application/vnd.jupyter.widget-view+json": {
       "model_id": "",
       "version_major": 2,
       "version_minor": 0
      },
      "text/plain": [
       "  0%|          | 0/4001 [00:00<?, ?it/s]"
      ]
     },
     "metadata": {},
     "output_type": "display_data"
    },
    {
     "data": {
      "application/vnd.jupyter.widget-view+json": {
       "model_id": "",
       "version_major": 2,
       "version_minor": 0
      },
      "text/plain": [
       "  0%|          | 0/4001 [00:00<?, ?it/s]"
      ]
     },
     "metadata": {},
     "output_type": "display_data"
    },
    {
     "data": {
      "application/vnd.jupyter.widget-view+json": {
       "model_id": "",
       "version_major": 2,
       "version_minor": 0
      },
      "text/plain": [
       "  0%|          | 0/4001 [00:00<?, ?it/s]"
      ]
     },
     "metadata": {},
     "output_type": "display_data"
    },
    {
     "data": {
      "application/vnd.jupyter.widget-view+json": {
       "model_id": "",
       "version_major": 2,
       "version_minor": 0
      },
      "text/plain": [
       "  0%|          | 0/4001 [00:00<?, ?it/s]"
      ]
     },
     "metadata": {},
     "output_type": "display_data"
    },
    {
     "data": {
      "application/vnd.jupyter.widget-view+json": {
       "model_id": "",
       "version_major": 2,
       "version_minor": 0
      },
      "text/plain": [
       "  0%|          | 0/4001 [00:00<?, ?it/s]"
      ]
     },
     "metadata": {},
     "output_type": "display_data"
    },
    {
     "data": {
      "application/vnd.jupyter.widget-view+json": {
       "model_id": "",
       "version_major": 2,
       "version_minor": 0
      },
      "text/plain": [
       "  0%|          | 0/4001 [00:00<?, ?it/s]"
      ]
     },
     "metadata": {},
     "output_type": "display_data"
    },
    {
     "data": {
      "application/vnd.jupyter.widget-view+json": {
       "model_id": "",
       "version_major": 2,
       "version_minor": 0
      },
      "text/plain": [
       "  0%|          | 0/4001 [00:00<?, ?it/s]"
      ]
     },
     "metadata": {},
     "output_type": "display_data"
    },
    {
     "data": {
      "application/vnd.jupyter.widget-view+json": {
       "model_id": "",
       "version_major": 2,
       "version_minor": 0
      },
      "text/plain": [
       "  0%|          | 0/4001 [00:00<?, ?it/s]"
      ]
     },
     "metadata": {},
     "output_type": "display_data"
    },
    {
     "data": {
      "application/vnd.jupyter.widget-view+json": {
       "model_id": "",
       "version_major": 2,
       "version_minor": 0
      },
      "text/plain": [
       "  0%|          | 0/4001 [00:00<?, ?it/s]"
      ]
     },
     "metadata": {},
     "output_type": "display_data"
    },
    {
     "data": {
      "application/vnd.jupyter.widget-view+json": {
       "model_id": "",
       "version_major": 2,
       "version_minor": 0
      },
      "text/plain": [
       "  0%|          | 0/4001 [00:00<?, ?it/s]"
      ]
     },
     "metadata": {},
     "output_type": "display_data"
    },
    {
     "data": {
      "application/vnd.jupyter.widget-view+json": {
       "model_id": "",
       "version_major": 2,
       "version_minor": 0
      },
      "text/plain": [
       "  0%|          | 0/4001 [00:00<?, ?it/s]"
      ]
     },
     "metadata": {},
     "output_type": "display_data"
    },
    {
     "data": {
      "application/vnd.jupyter.widget-view+json": {
       "model_id": "",
       "version_major": 2,
       "version_minor": 0
      },
      "text/plain": [
       "  0%|          | 0/4001 [00:00<?, ?it/s]"
      ]
     },
     "metadata": {},
     "output_type": "display_data"
    },
    {
     "data": {
      "application/vnd.jupyter.widget-view+json": {
       "model_id": "",
       "version_major": 2,
       "version_minor": 0
      },
      "text/plain": [
       "  0%|          | 0/4001 [00:00<?, ?it/s]"
      ]
     },
     "metadata": {},
     "output_type": "display_data"
    },
    {
     "data": {
      "application/vnd.jupyter.widget-view+json": {
       "model_id": "",
       "version_major": 2,
       "version_minor": 0
      },
      "text/plain": [
       "  0%|          | 0/4001 [00:00<?, ?it/s]"
      ]
     },
     "metadata": {},
     "output_type": "display_data"
    },
    {
     "data": {
      "application/vnd.jupyter.widget-view+json": {
       "model_id": "",
       "version_major": 2,
       "version_minor": 0
      },
      "text/plain": [
       "  0%|          | 0/4001 [00:00<?, ?it/s]"
      ]
     },
     "metadata": {},
     "output_type": "display_data"
    },
    {
     "data": {
      "application/vnd.jupyter.widget-view+json": {
       "model_id": "",
       "version_major": 2,
       "version_minor": 0
      },
      "text/plain": [
       "  0%|          | 0/4001 [00:00<?, ?it/s]"
      ]
     },
     "metadata": {},
     "output_type": "display_data"
    },
    {
     "data": {
      "application/vnd.jupyter.widget-view+json": {
       "model_id": "",
       "version_major": 2,
       "version_minor": 0
      },
      "text/plain": [
       "  0%|          | 0/4001 [00:00<?, ?it/s]"
      ]
     },
     "metadata": {},
     "output_type": "display_data"
    },
    {
     "data": {
      "application/vnd.jupyter.widget-view+json": {
       "model_id": "",
       "version_major": 2,
       "version_minor": 0
      },
      "text/plain": [
       "  0%|          | 0/4001 [00:00<?, ?it/s]"
      ]
     },
     "metadata": {},
     "output_type": "display_data"
    },
    {
     "data": {
      "application/vnd.jupyter.widget-view+json": {
       "model_id": "",
       "version_major": 2,
       "version_minor": 0
      },
      "text/plain": [
       "  0%|          | 0/4001 [00:00<?, ?it/s]"
      ]
     },
     "metadata": {},
     "output_type": "display_data"
    },
    {
     "data": {
      "application/vnd.jupyter.widget-view+json": {
       "model_id": "",
       "version_major": 2,
       "version_minor": 0
      },
      "text/plain": [
       "  0%|          | 0/4001 [00:00<?, ?it/s]"
      ]
     },
     "metadata": {},
     "output_type": "display_data"
    },
    {
     "data": {
      "application/vnd.jupyter.widget-view+json": {
       "model_id": "",
       "version_major": 2,
       "version_minor": 0
      },
      "text/plain": [
       "  0%|          | 0/4001 [00:00<?, ?it/s]"
      ]
     },
     "metadata": {},
     "output_type": "display_data"
    },
    {
     "data": {
      "application/vnd.jupyter.widget-view+json": {
       "model_id": "",
       "version_major": 2,
       "version_minor": 0
      },
      "text/plain": [
       "  0%|          | 0/4001 [00:00<?, ?it/s]"
      ]
     },
     "metadata": {},
     "output_type": "display_data"
    },
    {
     "data": {
      "application/vnd.jupyter.widget-view+json": {
       "model_id": "",
       "version_major": 2,
       "version_minor": 0
      },
      "text/plain": [
       "  0%|          | 0/4001 [00:00<?, ?it/s]"
      ]
     },
     "metadata": {},
     "output_type": "display_data"
    },
    {
     "data": {
      "application/vnd.jupyter.widget-view+json": {
       "model_id": "",
       "version_major": 2,
       "version_minor": 0
      },
      "text/plain": [
       "  0%|          | 0/4001 [00:00<?, ?it/s]"
      ]
     },
     "metadata": {},
     "output_type": "display_data"
    },
    {
     "data": {
      "application/vnd.jupyter.widget-view+json": {
       "model_id": "",
       "version_major": 2,
       "version_minor": 0
      },
      "text/plain": [
       "  0%|          | 0/4001 [00:00<?, ?it/s]"
      ]
     },
     "metadata": {},
     "output_type": "display_data"
    },
    {
     "data": {
      "application/vnd.jupyter.widget-view+json": {
       "model_id": "",
       "version_major": 2,
       "version_minor": 0
      },
      "text/plain": [
       "  0%|          | 0/4001 [00:00<?, ?it/s]"
      ]
     },
     "metadata": {},
     "output_type": "display_data"
    },
    {
     "data": {
      "application/vnd.jupyter.widget-view+json": {
       "model_id": "",
       "version_major": 2,
       "version_minor": 0
      },
      "text/plain": [
       "  0%|          | 0/4001 [00:00<?, ?it/s]"
      ]
     },
     "metadata": {},
     "output_type": "display_data"
    },
    {
     "data": {
      "application/vnd.jupyter.widget-view+json": {
       "model_id": "",
       "version_major": 2,
       "version_minor": 0
      },
      "text/plain": [
       "  0%|          | 0/4001 [00:00<?, ?it/s]"
      ]
     },
     "metadata": {},
     "output_type": "display_data"
    },
    {
     "data": {
      "application/vnd.jupyter.widget-view+json": {
       "model_id": "",
       "version_major": 2,
       "version_minor": 0
      },
      "text/plain": [
       "  0%|          | 0/4001 [00:00<?, ?it/s]"
      ]
     },
     "metadata": {},
     "output_type": "display_data"
    },
    {
     "data": {
      "application/vnd.jupyter.widget-view+json": {
       "model_id": "",
       "version_major": 2,
       "version_minor": 0
      },
      "text/plain": [
       "  0%|          | 0/4001 [00:00<?, ?it/s]"
      ]
     },
     "metadata": {},
     "output_type": "display_data"
    },
    {
     "data": {
      "application/vnd.jupyter.widget-view+json": {
       "model_id": "",
       "version_major": 2,
       "version_minor": 0
      },
      "text/plain": [
       "  0%|          | 0/4001 [00:00<?, ?it/s]"
      ]
     },
     "metadata": {},
     "output_type": "display_data"
    },
    {
     "data": {
      "application/vnd.jupyter.widget-view+json": {
       "model_id": "",
       "version_major": 2,
       "version_minor": 0
      },
      "text/plain": [
       "  0%|          | 0/4001 [00:00<?, ?it/s]"
      ]
     },
     "metadata": {},
     "output_type": "display_data"
    },
    {
     "data": {
      "application/vnd.jupyter.widget-view+json": {
       "model_id": "",
       "version_major": 2,
       "version_minor": 0
      },
      "text/plain": [
       "  0%|          | 0/4001 [00:00<?, ?it/s]"
      ]
     },
     "metadata": {},
     "output_type": "display_data"
    },
    {
     "data": {
      "application/vnd.jupyter.widget-view+json": {
       "model_id": "",
       "version_major": 2,
       "version_minor": 0
      },
      "text/plain": [
       "  0%|          | 0/4001 [00:00<?, ?it/s]"
      ]
     },
     "metadata": {},
     "output_type": "display_data"
    },
    {
     "data": {
      "application/vnd.jupyter.widget-view+json": {
       "model_id": "",
       "version_major": 2,
       "version_minor": 0
      },
      "text/plain": [
       "  0%|          | 0/4001 [00:00<?, ?it/s]"
      ]
     },
     "metadata": {},
     "output_type": "display_data"
    },
    {
     "data": {
      "application/vnd.jupyter.widget-view+json": {
       "model_id": "",
       "version_major": 2,
       "version_minor": 0
      },
      "text/plain": [
       "  0%|          | 0/4001 [00:00<?, ?it/s]"
      ]
     },
     "metadata": {},
     "output_type": "display_data"
    },
    {
     "data": {
      "application/vnd.jupyter.widget-view+json": {
       "model_id": "",
       "version_major": 2,
       "version_minor": 0
      },
      "text/plain": [
       "  0%|          | 0/4001 [00:00<?, ?it/s]"
      ]
     },
     "metadata": {},
     "output_type": "display_data"
    },
    {
     "data": {
      "application/vnd.jupyter.widget-view+json": {
       "model_id": "",
       "version_major": 2,
       "version_minor": 0
      },
      "text/plain": [
       "  0%|          | 0/4001 [00:00<?, ?it/s]"
      ]
     },
     "metadata": {},
     "output_type": "display_data"
    },
    {
     "data": {
      "application/vnd.jupyter.widget-view+json": {
       "model_id": "",
       "version_major": 2,
       "version_minor": 0
      },
      "text/plain": [
       "  0%|          | 0/4001 [00:00<?, ?it/s]"
      ]
     },
     "metadata": {},
     "output_type": "display_data"
    },
    {
     "data": {
      "application/vnd.jupyter.widget-view+json": {
       "model_id": "",
       "version_major": 2,
       "version_minor": 0
      },
      "text/plain": [
       "  0%|          | 0/4001 [00:00<?, ?it/s]"
      ]
     },
     "metadata": {},
     "output_type": "display_data"
    },
    {
     "data": {
      "application/vnd.jupyter.widget-view+json": {
       "model_id": "",
       "version_major": 2,
       "version_minor": 0
      },
      "text/plain": [
       "  0%|          | 0/4001 [00:00<?, ?it/s]"
      ]
     },
     "metadata": {},
     "output_type": "display_data"
    },
    {
     "data": {
      "application/vnd.jupyter.widget-view+json": {
       "model_id": "",
       "version_major": 2,
       "version_minor": 0
      },
      "text/plain": [
       "  0%|          | 0/4001 [00:00<?, ?it/s]"
      ]
     },
     "metadata": {},
     "output_type": "display_data"
    },
    {
     "data": {
      "application/vnd.jupyter.widget-view+json": {
       "model_id": "",
       "version_major": 2,
       "version_minor": 0
      },
      "text/plain": [
       "  0%|          | 0/4001 [00:00<?, ?it/s]"
      ]
     },
     "metadata": {},
     "output_type": "display_data"
    },
    {
     "data": {
      "application/vnd.jupyter.widget-view+json": {
       "model_id": "",
       "version_major": 2,
       "version_minor": 0
      },
      "text/plain": [
       "  0%|          | 0/4001 [00:00<?, ?it/s]"
      ]
     },
     "metadata": {},
     "output_type": "display_data"
    },
    {
     "data": {
      "application/vnd.jupyter.widget-view+json": {
       "model_id": "",
       "version_major": 2,
       "version_minor": 0
      },
      "text/plain": [
       "  0%|          | 0/4001 [00:00<?, ?it/s]"
      ]
     },
     "metadata": {},
     "output_type": "display_data"
    },
    {
     "data": {
      "application/vnd.jupyter.widget-view+json": {
       "model_id": "",
       "version_major": 2,
       "version_minor": 0
      },
      "text/plain": [
       "  0%|          | 0/4001 [00:00<?, ?it/s]"
      ]
     },
     "metadata": {},
     "output_type": "display_data"
    },
    {
     "data": {
      "application/vnd.jupyter.widget-view+json": {
       "model_id": "",
       "version_major": 2,
       "version_minor": 0
      },
      "text/plain": [
       "  0%|          | 0/4001 [00:00<?, ?it/s]"
      ]
     },
     "metadata": {},
     "output_type": "display_data"
    },
    {
     "data": {
      "application/vnd.jupyter.widget-view+json": {
       "model_id": "",
       "version_major": 2,
       "version_minor": 0
      },
      "text/plain": [
       "  0%|          | 0/4001 [00:00<?, ?it/s]"
      ]
     },
     "metadata": {},
     "output_type": "display_data"
    },
    {
     "data": {
      "application/vnd.jupyter.widget-view+json": {
       "model_id": "",
       "version_major": 2,
       "version_minor": 0
      },
      "text/plain": [
       "  0%|          | 0/4001 [00:00<?, ?it/s]"
      ]
     },
     "metadata": {},
     "output_type": "display_data"
    },
    {
     "data": {
      "application/vnd.jupyter.widget-view+json": {
       "model_id": "",
       "version_major": 2,
       "version_minor": 0
      },
      "text/plain": [
       "  0%|          | 0/4001 [00:00<?, ?it/s]"
      ]
     },
     "metadata": {},
     "output_type": "display_data"
    },
    {
     "data": {
      "application/vnd.jupyter.widget-view+json": {
       "model_id": "",
       "version_major": 2,
       "version_minor": 0
      },
      "text/plain": [
       "  0%|          | 0/4001 [00:00<?, ?it/s]"
      ]
     },
     "metadata": {},
     "output_type": "display_data"
    },
    {
     "data": {
      "application/vnd.jupyter.widget-view+json": {
       "model_id": "",
       "version_major": 2,
       "version_minor": 0
      },
      "text/plain": [
       "  0%|          | 0/4001 [00:00<?, ?it/s]"
      ]
     },
     "metadata": {},
     "output_type": "display_data"
    },
    {
     "data": {
      "application/vnd.jupyter.widget-view+json": {
       "model_id": "",
       "version_major": 2,
       "version_minor": 0
      },
      "text/plain": [
       "  0%|          | 0/4001 [00:00<?, ?it/s]"
      ]
     },
     "metadata": {},
     "output_type": "display_data"
    },
    {
     "data": {
      "application/vnd.jupyter.widget-view+json": {
       "model_id": "",
       "version_major": 2,
       "version_minor": 0
      },
      "text/plain": [
       "  0%|          | 0/4001 [00:00<?, ?it/s]"
      ]
     },
     "metadata": {},
     "output_type": "display_data"
    },
    {
     "data": {
      "application/vnd.jupyter.widget-view+json": {
       "model_id": "",
       "version_major": 2,
       "version_minor": 0
      },
      "text/plain": [
       "  0%|          | 0/4001 [00:00<?, ?it/s]"
      ]
     },
     "metadata": {},
     "output_type": "display_data"
    },
    {
     "data": {
      "application/vnd.jupyter.widget-view+json": {
       "model_id": "",
       "version_major": 2,
       "version_minor": 0
      },
      "text/plain": [
       "  0%|          | 0/4001 [00:00<?, ?it/s]"
      ]
     },
     "metadata": {},
     "output_type": "display_data"
    },
    {
     "data": {
      "application/vnd.jupyter.widget-view+json": {
       "model_id": "",
       "version_major": 2,
       "version_minor": 0
      },
      "text/plain": [
       "  0%|          | 0/4001 [00:00<?, ?it/s]"
      ]
     },
     "metadata": {},
     "output_type": "display_data"
    },
    {
     "data": {
      "application/vnd.jupyter.widget-view+json": {
       "model_id": "",
       "version_major": 2,
       "version_minor": 0
      },
      "text/plain": [
       "  0%|          | 0/4001 [00:00<?, ?it/s]"
      ]
     },
     "metadata": {},
     "output_type": "display_data"
    },
    {
     "data": {
      "application/vnd.jupyter.widget-view+json": {
       "model_id": "",
       "version_major": 2,
       "version_minor": 0
      },
      "text/plain": [
       "  0%|          | 0/4001 [00:00<?, ?it/s]"
      ]
     },
     "metadata": {},
     "output_type": "display_data"
    },
    {
     "data": {
      "application/vnd.jupyter.widget-view+json": {
       "model_id": "",
       "version_major": 2,
       "version_minor": 0
      },
      "text/plain": [
       "  0%|          | 0/4001 [00:00<?, ?it/s]"
      ]
     },
     "metadata": {},
     "output_type": "display_data"
    },
    {
     "data": {
      "application/vnd.jupyter.widget-view+json": {
       "model_id": "",
       "version_major": 2,
       "version_minor": 0
      },
      "text/plain": [
       "  0%|          | 0/4001 [00:00<?, ?it/s]"
      ]
     },
     "metadata": {},
     "output_type": "display_data"
    },
    {
     "data": {
      "application/vnd.jupyter.widget-view+json": {
       "model_id": "",
       "version_major": 2,
       "version_minor": 0
      },
      "text/plain": [
       "  0%|          | 0/4001 [00:00<?, ?it/s]"
      ]
     },
     "metadata": {},
     "output_type": "display_data"
    },
    {
     "data": {
      "application/vnd.jupyter.widget-view+json": {
       "model_id": "",
       "version_major": 2,
       "version_minor": 0
      },
      "text/plain": [
       "  0%|          | 0/4001 [00:00<?, ?it/s]"
      ]
     },
     "metadata": {},
     "output_type": "display_data"
    },
    {
     "data": {
      "application/vnd.jupyter.widget-view+json": {
       "model_id": "",
       "version_major": 2,
       "version_minor": 0
      },
      "text/plain": [
       "  0%|          | 0/4001 [00:00<?, ?it/s]"
      ]
     },
     "metadata": {},
     "output_type": "display_data"
    },
    {
     "data": {
      "application/vnd.jupyter.widget-view+json": {
       "model_id": "",
       "version_major": 2,
       "version_minor": 0
      },
      "text/plain": [
       "  0%|          | 0/4001 [00:00<?, ?it/s]"
      ]
     },
     "metadata": {},
     "output_type": "display_data"
    },
    {
     "data": {
      "application/vnd.jupyter.widget-view+json": {
       "model_id": "",
       "version_major": 2,
       "version_minor": 0
      },
      "text/plain": [
       "  0%|          | 0/4001 [00:00<?, ?it/s]"
      ]
     },
     "metadata": {},
     "output_type": "display_data"
    },
    {
     "data": {
      "application/vnd.jupyter.widget-view+json": {
       "model_id": "",
       "version_major": 2,
       "version_minor": 0
      },
      "text/plain": [
       "  0%|          | 0/4001 [00:00<?, ?it/s]"
      ]
     },
     "metadata": {},
     "output_type": "display_data"
    },
    {
     "data": {
      "application/vnd.jupyter.widget-view+json": {
       "model_id": "",
       "version_major": 2,
       "version_minor": 0
      },
      "text/plain": [
       "  0%|          | 0/4001 [00:00<?, ?it/s]"
      ]
     },
     "metadata": {},
     "output_type": "display_data"
    },
    {
     "data": {
      "application/vnd.jupyter.widget-view+json": {
       "model_id": "",
       "version_major": 2,
       "version_minor": 0
      },
      "text/plain": [
       "  0%|          | 0/4001 [00:00<?, ?it/s]"
      ]
     },
     "metadata": {},
     "output_type": "display_data"
    },
    {
     "data": {
      "application/vnd.jupyter.widget-view+json": {
       "model_id": "",
       "version_major": 2,
       "version_minor": 0
      },
      "text/plain": [
       "  0%|          | 0/4001 [00:00<?, ?it/s]"
      ]
     },
     "metadata": {},
     "output_type": "display_data"
    },
    {
     "data": {
      "application/vnd.jupyter.widget-view+json": {
       "model_id": "",
       "version_major": 2,
       "version_minor": 0
      },
      "text/plain": [
       "  0%|          | 0/4001 [00:00<?, ?it/s]"
      ]
     },
     "metadata": {},
     "output_type": "display_data"
    },
    {
     "data": {
      "application/vnd.jupyter.widget-view+json": {
       "model_id": "",
       "version_major": 2,
       "version_minor": 0
      },
      "text/plain": [
       "  0%|          | 0/4001 [00:00<?, ?it/s]"
      ]
     },
     "metadata": {},
     "output_type": "display_data"
    },
    {
     "data": {
      "application/vnd.jupyter.widget-view+json": {
       "model_id": "",
       "version_major": 2,
       "version_minor": 0
      },
      "text/plain": [
       "  0%|          | 0/4001 [00:00<?, ?it/s]"
      ]
     },
     "metadata": {},
     "output_type": "display_data"
    },
    {
     "data": {
      "application/vnd.jupyter.widget-view+json": {
       "model_id": "",
       "version_major": 2,
       "version_minor": 0
      },
      "text/plain": [
       "  0%|          | 0/4001 [00:00<?, ?it/s]"
      ]
     },
     "metadata": {},
     "output_type": "display_data"
    },
    {
     "data": {
      "application/vnd.jupyter.widget-view+json": {
       "model_id": "",
       "version_major": 2,
       "version_minor": 0
      },
      "text/plain": [
       "  0%|          | 0/4001 [00:00<?, ?it/s]"
      ]
     },
     "metadata": {},
     "output_type": "display_data"
    },
    {
     "data": {
      "application/vnd.jupyter.widget-view+json": {
       "model_id": "",
       "version_major": 2,
       "version_minor": 0
      },
      "text/plain": [
       "  0%|          | 0/4001 [00:00<?, ?it/s]"
      ]
     },
     "metadata": {},
     "output_type": "display_data"
    },
    {
     "data": {
      "application/vnd.jupyter.widget-view+json": {
       "model_id": "",
       "version_major": 2,
       "version_minor": 0
      },
      "text/plain": [
       "  0%|          | 0/4001 [00:00<?, ?it/s]"
      ]
     },
     "metadata": {},
     "output_type": "display_data"
    },
    {
     "data": {
      "application/vnd.jupyter.widget-view+json": {
       "model_id": "",
       "version_major": 2,
       "version_minor": 0
      },
      "text/plain": [
       "  0%|          | 0/4001 [00:00<?, ?it/s]"
      ]
     },
     "metadata": {},
     "output_type": "display_data"
    },
    {
     "data": {
      "application/vnd.jupyter.widget-view+json": {
       "model_id": "",
       "version_major": 2,
       "version_minor": 0
      },
      "text/plain": [
       "  0%|          | 0/4001 [00:00<?, ?it/s]"
      ]
     },
     "metadata": {},
     "output_type": "display_data"
    },
    {
     "data": {
      "application/vnd.jupyter.widget-view+json": {
       "model_id": "",
       "version_major": 2,
       "version_minor": 0
      },
      "text/plain": [
       "  0%|          | 0/4001 [00:00<?, ?it/s]"
      ]
     },
     "metadata": {},
     "output_type": "display_data"
    },
    {
     "data": {
      "application/vnd.jupyter.widget-view+json": {
       "model_id": "",
       "version_major": 2,
       "version_minor": 0
      },
      "text/plain": [
       "  0%|          | 0/4001 [00:00<?, ?it/s]"
      ]
     },
     "metadata": {},
     "output_type": "display_data"
    },
    {
     "data": {
      "application/vnd.jupyter.widget-view+json": {
       "model_id": "",
       "version_major": 2,
       "version_minor": 0
      },
      "text/plain": [
       "  0%|          | 0/4001 [00:00<?, ?it/s]"
      ]
     },
     "metadata": {},
     "output_type": "display_data"
    },
    {
     "data": {
      "application/vnd.jupyter.widget-view+json": {
       "model_id": "",
       "version_major": 2,
       "version_minor": 0
      },
      "text/plain": [
       "  0%|          | 0/4001 [00:00<?, ?it/s]"
      ]
     },
     "metadata": {},
     "output_type": "display_data"
    },
    {
     "data": {
      "application/vnd.jupyter.widget-view+json": {
       "model_id": "",
       "version_major": 2,
       "version_minor": 0
      },
      "text/plain": [
       "  0%|          | 0/4001 [00:00<?, ?it/s]"
      ]
     },
     "metadata": {},
     "output_type": "display_data"
    },
    {
     "data": {
      "application/vnd.jupyter.widget-view+json": {
       "model_id": "",
       "version_major": 2,
       "version_minor": 0
      },
      "text/plain": [
       "  0%|          | 0/4001 [00:00<?, ?it/s]"
      ]
     },
     "metadata": {},
     "output_type": "display_data"
    },
    {
     "data": {
      "application/vnd.jupyter.widget-view+json": {
       "model_id": "",
       "version_major": 2,
       "version_minor": 0
      },
      "text/plain": [
       "  0%|          | 0/4001 [00:00<?, ?it/s]"
      ]
     },
     "metadata": {},
     "output_type": "display_data"
    },
    {
     "data": {
      "application/vnd.jupyter.widget-view+json": {
       "model_id": "",
       "version_major": 2,
       "version_minor": 0
      },
      "text/plain": [
       "  0%|          | 0/4001 [00:00<?, ?it/s]"
      ]
     },
     "metadata": {},
     "output_type": "display_data"
    },
    {
     "data": {
      "application/vnd.jupyter.widget-view+json": {
       "model_id": "",
       "version_major": 2,
       "version_minor": 0
      },
      "text/plain": [
       "  0%|          | 0/4001 [00:00<?, ?it/s]"
      ]
     },
     "metadata": {},
     "output_type": "display_data"
    },
    {
     "data": {
      "application/vnd.jupyter.widget-view+json": {
       "model_id": "",
       "version_major": 2,
       "version_minor": 0
      },
      "text/plain": [
       "  0%|          | 0/4001 [00:00<?, ?it/s]"
      ]
     },
     "metadata": {},
     "output_type": "display_data"
    },
    {
     "data": {
      "application/vnd.jupyter.widget-view+json": {
       "model_id": "",
       "version_major": 2,
       "version_minor": 0
      },
      "text/plain": [
       "  0%|          | 0/4001 [00:00<?, ?it/s]"
      ]
     },
     "metadata": {},
     "output_type": "display_data"
    },
    {
     "data": {
      "application/vnd.jupyter.widget-view+json": {
       "model_id": "",
       "version_major": 2,
       "version_minor": 0
      },
      "text/plain": [
       "  0%|          | 0/4001 [00:00<?, ?it/s]"
      ]
     },
     "metadata": {},
     "output_type": "display_data"
    },
    {
     "data": {
      "application/vnd.jupyter.widget-view+json": {
       "model_id": "",
       "version_major": 2,
       "version_minor": 0
      },
      "text/plain": [
       "  0%|          | 0/4001 [00:00<?, ?it/s]"
      ]
     },
     "metadata": {},
     "output_type": "display_data"
    },
    {
     "data": {
      "application/vnd.jupyter.widget-view+json": {
       "model_id": "",
       "version_major": 2,
       "version_minor": 0
      },
      "text/plain": [
       "  0%|          | 0/4001 [00:00<?, ?it/s]"
      ]
     },
     "metadata": {},
     "output_type": "display_data"
    },
    {
     "data": {
      "application/vnd.jupyter.widget-view+json": {
       "model_id": "",
       "version_major": 2,
       "version_minor": 0
      },
      "text/plain": [
       "  0%|          | 0/4001 [00:00<?, ?it/s]"
      ]
     },
     "metadata": {},
     "output_type": "display_data"
    },
    {
     "data": {
      "application/vnd.jupyter.widget-view+json": {
       "model_id": "",
       "version_major": 2,
       "version_minor": 0
      },
      "text/plain": [
       "  0%|          | 0/4001 [00:00<?, ?it/s]"
      ]
     },
     "metadata": {},
     "output_type": "display_data"
    },
    {
     "data": {
      "application/vnd.jupyter.widget-view+json": {
       "model_id": "",
       "version_major": 2,
       "version_minor": 0
      },
      "text/plain": [
       "  0%|          | 0/4001 [00:00<?, ?it/s]"
      ]
     },
     "metadata": {},
     "output_type": "display_data"
    },
    {
     "data": {
      "application/vnd.jupyter.widget-view+json": {
       "model_id": "",
       "version_major": 2,
       "version_minor": 0
      },
      "text/plain": [
       "  0%|          | 0/4001 [00:00<?, ?it/s]"
      ]
     },
     "metadata": {},
     "output_type": "display_data"
    },
    {
     "data": {
      "application/vnd.jupyter.widget-view+json": {
       "model_id": "",
       "version_major": 2,
       "version_minor": 0
      },
      "text/plain": [
       "  0%|          | 0/4001 [00:00<?, ?it/s]"
      ]
     },
     "metadata": {},
     "output_type": "display_data"
    },
    {
     "data": {
      "application/vnd.jupyter.widget-view+json": {
       "model_id": "",
       "version_major": 2,
       "version_minor": 0
      },
      "text/plain": [
       "  0%|          | 0/4001 [00:00<?, ?it/s]"
      ]
     },
     "metadata": {},
     "output_type": "display_data"
    },
    {
     "data": {
      "application/vnd.jupyter.widget-view+json": {
       "model_id": "",
       "version_major": 2,
       "version_minor": 0
      },
      "text/plain": [
       "  0%|          | 0/4001 [00:00<?, ?it/s]"
      ]
     },
     "metadata": {},
     "output_type": "display_data"
    },
    {
     "data": {
      "application/vnd.jupyter.widget-view+json": {
       "model_id": "",
       "version_major": 2,
       "version_minor": 0
      },
      "text/plain": [
       "  0%|          | 0/4001 [00:00<?, ?it/s]"
      ]
     },
     "metadata": {},
     "output_type": "display_data"
    },
    {
     "data": {
      "application/vnd.jupyter.widget-view+json": {
       "model_id": "",
       "version_major": 2,
       "version_minor": 0
      },
      "text/plain": [
       "  0%|          | 0/4001 [00:00<?, ?it/s]"
      ]
     },
     "metadata": {},
     "output_type": "display_data"
    },
    {
     "data": {
      "application/vnd.jupyter.widget-view+json": {
       "model_id": "",
       "version_major": 2,
       "version_minor": 0
      },
      "text/plain": [
       "  0%|          | 0/4001 [00:00<?, ?it/s]"
      ]
     },
     "metadata": {},
     "output_type": "display_data"
    },
    {
     "data": {
      "application/vnd.jupyter.widget-view+json": {
       "model_id": "",
       "version_major": 2,
       "version_minor": 0
      },
      "text/plain": [
       "  0%|          | 0/4001 [00:00<?, ?it/s]"
      ]
     },
     "metadata": {},
     "output_type": "display_data"
    },
    {
     "data": {
      "application/vnd.jupyter.widget-view+json": {
       "model_id": "",
       "version_major": 2,
       "version_minor": 0
      },
      "text/plain": [
       "  0%|          | 0/4001 [00:00<?, ?it/s]"
      ]
     },
     "metadata": {},
     "output_type": "display_data"
    },
    {
     "data": {
      "application/vnd.jupyter.widget-view+json": {
       "model_id": "",
       "version_major": 2,
       "version_minor": 0
      },
      "text/plain": [
       "  0%|          | 0/4001 [00:00<?, ?it/s]"
      ]
     },
     "metadata": {},
     "output_type": "display_data"
    },
    {
     "data": {
      "application/vnd.jupyter.widget-view+json": {
       "model_id": "",
       "version_major": 2,
       "version_minor": 0
      },
      "text/plain": [
       "  0%|          | 0/4001 [00:00<?, ?it/s]"
      ]
     },
     "metadata": {},
     "output_type": "display_data"
    },
    {
     "data": {
      "application/vnd.jupyter.widget-view+json": {
       "model_id": "",
       "version_major": 2,
       "version_minor": 0
      },
      "text/plain": [
       "  0%|          | 0/4001 [00:00<?, ?it/s]"
      ]
     },
     "metadata": {},
     "output_type": "display_data"
    },
    {
     "data": {
      "application/vnd.jupyter.widget-view+json": {
       "model_id": "",
       "version_major": 2,
       "version_minor": 0
      },
      "text/plain": [
       "  0%|          | 0/4001 [00:00<?, ?it/s]"
      ]
     },
     "metadata": {},
     "output_type": "display_data"
    },
    {
     "data": {
      "application/vnd.jupyter.widget-view+json": {
       "model_id": "",
       "version_major": 2,
       "version_minor": 0
      },
      "text/plain": [
       "  0%|          | 0/4001 [00:00<?, ?it/s]"
      ]
     },
     "metadata": {},
     "output_type": "display_data"
    },
    {
     "data": {
      "application/vnd.jupyter.widget-view+json": {
       "model_id": "",
       "version_major": 2,
       "version_minor": 0
      },
      "text/plain": [
       "  0%|          | 0/4001 [00:00<?, ?it/s]"
      ]
     },
     "metadata": {},
     "output_type": "display_data"
    },
    {
     "data": {
      "application/vnd.jupyter.widget-view+json": {
       "model_id": "",
       "version_major": 2,
       "version_minor": 0
      },
      "text/plain": [
       "  0%|          | 0/4001 [00:00<?, ?it/s]"
      ]
     },
     "metadata": {},
     "output_type": "display_data"
    },
    {
     "data": {
      "application/vnd.jupyter.widget-view+json": {
       "model_id": "",
       "version_major": 2,
       "version_minor": 0
      },
      "text/plain": [
       "  0%|          | 0/4001 [00:00<?, ?it/s]"
      ]
     },
     "metadata": {},
     "output_type": "display_data"
    },
    {
     "data": {
      "application/vnd.jupyter.widget-view+json": {
       "model_id": "",
       "version_major": 2,
       "version_minor": 0
      },
      "text/plain": [
       "  0%|          | 0/4001 [00:00<?, ?it/s]"
      ]
     },
     "metadata": {},
     "output_type": "display_data"
    },
    {
     "data": {
      "application/vnd.jupyter.widget-view+json": {
       "model_id": "",
       "version_major": 2,
       "version_minor": 0
      },
      "text/plain": [
       "  0%|          | 0/4001 [00:00<?, ?it/s]"
      ]
     },
     "metadata": {},
     "output_type": "display_data"
    },
    {
     "data": {
      "application/vnd.jupyter.widget-view+json": {
       "model_id": "",
       "version_major": 2,
       "version_minor": 0
      },
      "text/plain": [
       "  0%|          | 0/4001 [00:00<?, ?it/s]"
      ]
     },
     "metadata": {},
     "output_type": "display_data"
    },
    {
     "data": {
      "application/vnd.jupyter.widget-view+json": {
       "model_id": "",
       "version_major": 2,
       "version_minor": 0
      },
      "text/plain": [
       "  0%|          | 0/4001 [00:00<?, ?it/s]"
      ]
     },
     "metadata": {},
     "output_type": "display_data"
    },
    {
     "data": {
      "application/vnd.jupyter.widget-view+json": {
       "model_id": "",
       "version_major": 2,
       "version_minor": 0
      },
      "text/plain": [
       "  0%|          | 0/4001 [00:00<?, ?it/s]"
      ]
     },
     "metadata": {},
     "output_type": "display_data"
    },
    {
     "data": {
      "application/vnd.jupyter.widget-view+json": {
       "model_id": "",
       "version_major": 2,
       "version_minor": 0
      },
      "text/plain": [
       "  0%|          | 0/4001 [00:00<?, ?it/s]"
      ]
     },
     "metadata": {},
     "output_type": "display_data"
    },
    {
     "data": {
      "application/vnd.jupyter.widget-view+json": {
       "model_id": "",
       "version_major": 2,
       "version_minor": 0
      },
      "text/plain": [
       "  0%|          | 0/4001 [00:00<?, ?it/s]"
      ]
     },
     "metadata": {},
     "output_type": "display_data"
    },
    {
     "data": {
      "application/vnd.jupyter.widget-view+json": {
       "model_id": "",
       "version_major": 2,
       "version_minor": 0
      },
      "text/plain": [
       "  0%|          | 0/4001 [00:00<?, ?it/s]"
      ]
     },
     "metadata": {},
     "output_type": "display_data"
    },
    {
     "data": {
      "application/vnd.jupyter.widget-view+json": {
       "model_id": "",
       "version_major": 2,
       "version_minor": 0
      },
      "text/plain": [
       "  0%|          | 0/4001 [00:00<?, ?it/s]"
      ]
     },
     "metadata": {},
     "output_type": "display_data"
    },
    {
     "data": {
      "application/vnd.jupyter.widget-view+json": {
       "model_id": "",
       "version_major": 2,
       "version_minor": 0
      },
      "text/plain": [
       "  0%|          | 0/4001 [00:00<?, ?it/s]"
      ]
     },
     "metadata": {},
     "output_type": "display_data"
    },
    {
     "data": {
      "application/vnd.jupyter.widget-view+json": {
       "model_id": "",
       "version_major": 2,
       "version_minor": 0
      },
      "text/plain": [
       "  0%|          | 0/4001 [00:00<?, ?it/s]"
      ]
     },
     "metadata": {},
     "output_type": "display_data"
    },
    {
     "data": {
      "application/vnd.jupyter.widget-view+json": {
       "model_id": "",
       "version_major": 2,
       "version_minor": 0
      },
      "text/plain": [
       "  0%|          | 0/4001 [00:00<?, ?it/s]"
      ]
     },
     "metadata": {},
     "output_type": "display_data"
    },
    {
     "data": {
      "application/vnd.jupyter.widget-view+json": {
       "model_id": "",
       "version_major": 2,
       "version_minor": 0
      },
      "text/plain": [
       "  0%|          | 0/4001 [00:00<?, ?it/s]"
      ]
     },
     "metadata": {},
     "output_type": "display_data"
    },
    {
     "data": {
      "application/vnd.jupyter.widget-view+json": {
       "model_id": "",
       "version_major": 2,
       "version_minor": 0
      },
      "text/plain": [
       "  0%|          | 0/4001 [00:00<?, ?it/s]"
      ]
     },
     "metadata": {},
     "output_type": "display_data"
    },
    {
     "data": {
      "application/vnd.jupyter.widget-view+json": {
       "model_id": "",
       "version_major": 2,
       "version_minor": 0
      },
      "text/plain": [
       "  0%|          | 0/4001 [00:00<?, ?it/s]"
      ]
     },
     "metadata": {},
     "output_type": "display_data"
    },
    {
     "data": {
      "application/vnd.jupyter.widget-view+json": {
       "model_id": "",
       "version_major": 2,
       "version_minor": 0
      },
      "text/plain": [
       "  0%|          | 0/4001 [00:00<?, ?it/s]"
      ]
     },
     "metadata": {},
     "output_type": "display_data"
    },
    {
     "data": {
      "application/vnd.jupyter.widget-view+json": {
       "model_id": "",
       "version_major": 2,
       "version_minor": 0
      },
      "text/plain": [
       "  0%|          | 0/4001 [00:00<?, ?it/s]"
      ]
     },
     "metadata": {},
     "output_type": "display_data"
    },
    {
     "data": {
      "application/vnd.jupyter.widget-view+json": {
       "model_id": "",
       "version_major": 2,
       "version_minor": 0
      },
      "text/plain": [
       "  0%|          | 0/4001 [00:00<?, ?it/s]"
      ]
     },
     "metadata": {},
     "output_type": "display_data"
    },
    {
     "data": {
      "application/vnd.jupyter.widget-view+json": {
       "model_id": "",
       "version_major": 2,
       "version_minor": 0
      },
      "text/plain": [
       "  0%|          | 0/4001 [00:00<?, ?it/s]"
      ]
     },
     "metadata": {},
     "output_type": "display_data"
    },
    {
     "data": {
      "application/vnd.jupyter.widget-view+json": {
       "model_id": "",
       "version_major": 2,
       "version_minor": 0
      },
      "text/plain": [
       "  0%|          | 0/4001 [00:00<?, ?it/s]"
      ]
     },
     "metadata": {},
     "output_type": "display_data"
    },
    {
     "data": {
      "application/vnd.jupyter.widget-view+json": {
       "model_id": "",
       "version_major": 2,
       "version_minor": 0
      },
      "text/plain": [
       "  0%|          | 0/4001 [00:00<?, ?it/s]"
      ]
     },
     "metadata": {},
     "output_type": "display_data"
    },
    {
     "data": {
      "application/vnd.jupyter.widget-view+json": {
       "model_id": "",
       "version_major": 2,
       "version_minor": 0
      },
      "text/plain": [
       "  0%|          | 0/4001 [00:00<?, ?it/s]"
      ]
     },
     "metadata": {},
     "output_type": "display_data"
    },
    {
     "data": {
      "application/vnd.jupyter.widget-view+json": {
       "model_id": "",
       "version_major": 2,
       "version_minor": 0
      },
      "text/plain": [
       "  0%|          | 0/4001 [00:00<?, ?it/s]"
      ]
     },
     "metadata": {},
     "output_type": "display_data"
    },
    {
     "data": {
      "application/vnd.jupyter.widget-view+json": {
       "model_id": "",
       "version_major": 2,
       "version_minor": 0
      },
      "text/plain": [
       "  0%|          | 0/4001 [00:00<?, ?it/s]"
      ]
     },
     "metadata": {},
     "output_type": "display_data"
    },
    {
     "data": {
      "application/vnd.jupyter.widget-view+json": {
       "model_id": "",
       "version_major": 2,
       "version_minor": 0
      },
      "text/plain": [
       "  0%|          | 0/4001 [00:00<?, ?it/s]"
      ]
     },
     "metadata": {},
     "output_type": "display_data"
    },
    {
     "data": {
      "application/vnd.jupyter.widget-view+json": {
       "model_id": "",
       "version_major": 2,
       "version_minor": 0
      },
      "text/plain": [
       "  0%|          | 0/4001 [00:00<?, ?it/s]"
      ]
     },
     "metadata": {},
     "output_type": "display_data"
    },
    {
     "data": {
      "application/vnd.jupyter.widget-view+json": {
       "model_id": "",
       "version_major": 2,
       "version_minor": 0
      },
      "text/plain": [
       "  0%|          | 0/4001 [00:00<?, ?it/s]"
      ]
     },
     "metadata": {},
     "output_type": "display_data"
    },
    {
     "data": {
      "application/vnd.jupyter.widget-view+json": {
       "model_id": "",
       "version_major": 2,
       "version_minor": 0
      },
      "text/plain": [
       "  0%|          | 0/4001 [00:00<?, ?it/s]"
      ]
     },
     "metadata": {},
     "output_type": "display_data"
    },
    {
     "data": {
      "application/vnd.jupyter.widget-view+json": {
       "model_id": "",
       "version_major": 2,
       "version_minor": 0
      },
      "text/plain": [
       "  0%|          | 0/4001 [00:00<?, ?it/s]"
      ]
     },
     "metadata": {},
     "output_type": "display_data"
    },
    {
     "data": {
      "application/vnd.jupyter.widget-view+json": {
       "model_id": "",
       "version_major": 2,
       "version_minor": 0
      },
      "text/plain": [
       "  0%|          | 0/4001 [00:00<?, ?it/s]"
      ]
     },
     "metadata": {},
     "output_type": "display_data"
    },
    {
     "data": {
      "application/vnd.jupyter.widget-view+json": {
       "model_id": "",
       "version_major": 2,
       "version_minor": 0
      },
      "text/plain": [
       "  0%|          | 0/4001 [00:00<?, ?it/s]"
      ]
     },
     "metadata": {},
     "output_type": "display_data"
    },
    {
     "data": {
      "application/vnd.jupyter.widget-view+json": {
       "model_id": "",
       "version_major": 2,
       "version_minor": 0
      },
      "text/plain": [
       "  0%|          | 0/4001 [00:00<?, ?it/s]"
      ]
     },
     "metadata": {},
     "output_type": "display_data"
    },
    {
     "data": {
      "application/vnd.jupyter.widget-view+json": {
       "model_id": "",
       "version_major": 2,
       "version_minor": 0
      },
      "text/plain": [
       "  0%|          | 0/4001 [00:00<?, ?it/s]"
      ]
     },
     "metadata": {},
     "output_type": "display_data"
    },
    {
     "data": {
      "application/vnd.jupyter.widget-view+json": {
       "model_id": "",
       "version_major": 2,
       "version_minor": 0
      },
      "text/plain": [
       "  0%|          | 0/4001 [00:00<?, ?it/s]"
      ]
     },
     "metadata": {},
     "output_type": "display_data"
    },
    {
     "data": {
      "application/vnd.jupyter.widget-view+json": {
       "model_id": "",
       "version_major": 2,
       "version_minor": 0
      },
      "text/plain": [
       "  0%|          | 0/4001 [00:00<?, ?it/s]"
      ]
     },
     "metadata": {},
     "output_type": "display_data"
    },
    {
     "data": {
      "application/vnd.jupyter.widget-view+json": {
       "model_id": "",
       "version_major": 2,
       "version_minor": 0
      },
      "text/plain": [
       "  0%|          | 0/4001 [00:00<?, ?it/s]"
      ]
     },
     "metadata": {},
     "output_type": "display_data"
    },
    {
     "data": {
      "application/vnd.jupyter.widget-view+json": {
       "model_id": "",
       "version_major": 2,
       "version_minor": 0
      },
      "text/plain": [
       "  0%|          | 0/4001 [00:00<?, ?it/s]"
      ]
     },
     "metadata": {},
     "output_type": "display_data"
    },
    {
     "data": {
      "application/vnd.jupyter.widget-view+json": {
       "model_id": "",
       "version_major": 2,
       "version_minor": 0
      },
      "text/plain": [
       "  0%|          | 0/4001 [00:00<?, ?it/s]"
      ]
     },
     "metadata": {},
     "output_type": "display_data"
    },
    {
     "data": {
      "application/vnd.jupyter.widget-view+json": {
       "model_id": "",
       "version_major": 2,
       "version_minor": 0
      },
      "text/plain": [
       "  0%|          | 0/4001 [00:00<?, ?it/s]"
      ]
     },
     "metadata": {},
     "output_type": "display_data"
    },
    {
     "data": {
      "application/vnd.jupyter.widget-view+json": {
       "model_id": "",
       "version_major": 2,
       "version_minor": 0
      },
      "text/plain": [
       "  0%|          | 0/4001 [00:00<?, ?it/s]"
      ]
     },
     "metadata": {},
     "output_type": "display_data"
    },
    {
     "data": {
      "application/vnd.jupyter.widget-view+json": {
       "model_id": "",
       "version_major": 2,
       "version_minor": 0
      },
      "text/plain": [
       "  0%|          | 0/4001 [00:00<?, ?it/s]"
      ]
     },
     "metadata": {},
     "output_type": "display_data"
    },
    {
     "data": {
      "application/vnd.jupyter.widget-view+json": {
       "model_id": "",
       "version_major": 2,
       "version_minor": 0
      },
      "text/plain": [
       "  0%|          | 0/4001 [00:00<?, ?it/s]"
      ]
     },
     "metadata": {},
     "output_type": "display_data"
    },
    {
     "data": {
      "application/vnd.jupyter.widget-view+json": {
       "model_id": "",
       "version_major": 2,
       "version_minor": 0
      },
      "text/plain": [
       "  0%|          | 0/4001 [00:00<?, ?it/s]"
      ]
     },
     "metadata": {},
     "output_type": "display_data"
    },
    {
     "data": {
      "application/vnd.jupyter.widget-view+json": {
       "model_id": "",
       "version_major": 2,
       "version_minor": 0
      },
      "text/plain": [
       "  0%|          | 0/4001 [00:00<?, ?it/s]"
      ]
     },
     "metadata": {},
     "output_type": "display_data"
    },
    {
     "data": {
      "application/vnd.jupyter.widget-view+json": {
       "model_id": "",
       "version_major": 2,
       "version_minor": 0
      },
      "text/plain": [
       "  0%|          | 0/4001 [00:00<?, ?it/s]"
      ]
     },
     "metadata": {},
     "output_type": "display_data"
    },
    {
     "data": {
      "application/vnd.jupyter.widget-view+json": {
       "model_id": "",
       "version_major": 2,
       "version_minor": 0
      },
      "text/plain": [
       "  0%|          | 0/4001 [00:00<?, ?it/s]"
      ]
     },
     "metadata": {},
     "output_type": "display_data"
    },
    {
     "data": {
      "application/vnd.jupyter.widget-view+json": {
       "model_id": "",
       "version_major": 2,
       "version_minor": 0
      },
      "text/plain": [
       "  0%|          | 0/4001 [00:00<?, ?it/s]"
      ]
     },
     "metadata": {},
     "output_type": "display_data"
    },
    {
     "data": {
      "application/vnd.jupyter.widget-view+json": {
       "model_id": "",
       "version_major": 2,
       "version_minor": 0
      },
      "text/plain": [
       "  0%|          | 0/4001 [00:00<?, ?it/s]"
      ]
     },
     "metadata": {},
     "output_type": "display_data"
    },
    {
     "data": {
      "application/vnd.jupyter.widget-view+json": {
       "model_id": "",
       "version_major": 2,
       "version_minor": 0
      },
      "text/plain": [
       "  0%|          | 0/4001 [00:00<?, ?it/s]"
      ]
     },
     "metadata": {},
     "output_type": "display_data"
    },
    {
     "data": {
      "application/vnd.jupyter.widget-view+json": {
       "model_id": "",
       "version_major": 2,
       "version_minor": 0
      },
      "text/plain": [
       "  0%|          | 0/4001 [00:00<?, ?it/s]"
      ]
     },
     "metadata": {},
     "output_type": "display_data"
    },
    {
     "data": {
      "application/vnd.jupyter.widget-view+json": {
       "model_id": "",
       "version_major": 2,
       "version_minor": 0
      },
      "text/plain": [
       "  0%|          | 0/4001 [00:00<?, ?it/s]"
      ]
     },
     "metadata": {},
     "output_type": "display_data"
    },
    {
     "data": {
      "application/vnd.jupyter.widget-view+json": {
       "model_id": "",
       "version_major": 2,
       "version_minor": 0
      },
      "text/plain": [
       "  0%|          | 0/4001 [00:00<?, ?it/s]"
      ]
     },
     "metadata": {},
     "output_type": "display_data"
    },
    {
     "data": {
      "application/vnd.jupyter.widget-view+json": {
       "model_id": "",
       "version_major": 2,
       "version_minor": 0
      },
      "text/plain": [
       "  0%|          | 0/4001 [00:00<?, ?it/s]"
      ]
     },
     "metadata": {},
     "output_type": "display_data"
    },
    {
     "data": {
      "application/vnd.jupyter.widget-view+json": {
       "model_id": "",
       "version_major": 2,
       "version_minor": 0
      },
      "text/plain": [
       "  0%|          | 0/4001 [00:00<?, ?it/s]"
      ]
     },
     "metadata": {},
     "output_type": "display_data"
    },
    {
     "data": {
      "application/vnd.jupyter.widget-view+json": {
       "model_id": "",
       "version_major": 2,
       "version_minor": 0
      },
      "text/plain": [
       "  0%|          | 0/4001 [00:00<?, ?it/s]"
      ]
     },
     "metadata": {},
     "output_type": "display_data"
    },
    {
     "data": {
      "application/vnd.jupyter.widget-view+json": {
       "model_id": "",
       "version_major": 2,
       "version_minor": 0
      },
      "text/plain": [
       "  0%|          | 0/4001 [00:00<?, ?it/s]"
      ]
     },
     "metadata": {},
     "output_type": "display_data"
    },
    {
     "data": {
      "application/vnd.jupyter.widget-view+json": {
       "model_id": "",
       "version_major": 2,
       "version_minor": 0
      },
      "text/plain": [
       "  0%|          | 0/4001 [00:00<?, ?it/s]"
      ]
     },
     "metadata": {},
     "output_type": "display_data"
    },
    {
     "data": {
      "application/vnd.jupyter.widget-view+json": {
       "model_id": "",
       "version_major": 2,
       "version_minor": 0
      },
      "text/plain": [
       "  0%|          | 0/4001 [00:00<?, ?it/s]"
      ]
     },
     "metadata": {},
     "output_type": "display_data"
    },
    {
     "data": {
      "application/vnd.jupyter.widget-view+json": {
       "model_id": "",
       "version_major": 2,
       "version_minor": 0
      },
      "text/plain": [
       "  0%|          | 0/4001 [00:00<?, ?it/s]"
      ]
     },
     "metadata": {},
     "output_type": "display_data"
    },
    {
     "data": {
      "application/vnd.jupyter.widget-view+json": {
       "model_id": "",
       "version_major": 2,
       "version_minor": 0
      },
      "text/plain": [
       "  0%|          | 0/4001 [00:00<?, ?it/s]"
      ]
     },
     "metadata": {},
     "output_type": "display_data"
    },
    {
     "data": {
      "application/vnd.jupyter.widget-view+json": {
       "model_id": "",
       "version_major": 2,
       "version_minor": 0
      },
      "text/plain": [
       "  0%|          | 0/4001 [00:00<?, ?it/s]"
      ]
     },
     "metadata": {},
     "output_type": "display_data"
    },
    {
     "data": {
      "application/vnd.jupyter.widget-view+json": {
       "model_id": "",
       "version_major": 2,
       "version_minor": 0
      },
      "text/plain": [
       "  0%|          | 0/4001 [00:00<?, ?it/s]"
      ]
     },
     "metadata": {},
     "output_type": "display_data"
    },
    {
     "data": {
      "application/vnd.jupyter.widget-view+json": {
       "model_id": "",
       "version_major": 2,
       "version_minor": 0
      },
      "text/plain": [
       "  0%|          | 0/4001 [00:00<?, ?it/s]"
      ]
     },
     "metadata": {},
     "output_type": "display_data"
    },
    {
     "data": {
      "application/vnd.jupyter.widget-view+json": {
       "model_id": "",
       "version_major": 2,
       "version_minor": 0
      },
      "text/plain": [
       "  0%|          | 0/4001 [00:00<?, ?it/s]"
      ]
     },
     "metadata": {},
     "output_type": "display_data"
    },
    {
     "data": {
      "application/vnd.jupyter.widget-view+json": {
       "model_id": "",
       "version_major": 2,
       "version_minor": 0
      },
      "text/plain": [
       "  0%|          | 0/4001 [00:00<?, ?it/s]"
      ]
     },
     "metadata": {},
     "output_type": "display_data"
    },
    {
     "data": {
      "application/vnd.jupyter.widget-view+json": {
       "model_id": "",
       "version_major": 2,
       "version_minor": 0
      },
      "text/plain": [
       "  0%|          | 0/4001 [00:00<?, ?it/s]"
      ]
     },
     "metadata": {},
     "output_type": "display_data"
    },
    {
     "data": {
      "application/vnd.jupyter.widget-view+json": {
       "model_id": "",
       "version_major": 2,
       "version_minor": 0
      },
      "text/plain": [
       "  0%|          | 0/4001 [00:00<?, ?it/s]"
      ]
     },
     "metadata": {},
     "output_type": "display_data"
    },
    {
     "data": {
      "application/vnd.jupyter.widget-view+json": {
       "model_id": "",
       "version_major": 2,
       "version_minor": 0
      },
      "text/plain": [
       "  0%|          | 0/4001 [00:00<?, ?it/s]"
      ]
     },
     "metadata": {},
     "output_type": "display_data"
    },
    {
     "data": {
      "application/vnd.jupyter.widget-view+json": {
       "model_id": "",
       "version_major": 2,
       "version_minor": 0
      },
      "text/plain": [
       "  0%|          | 0/4001 [00:00<?, ?it/s]"
      ]
     },
     "metadata": {},
     "output_type": "display_data"
    },
    {
     "data": {
      "application/vnd.jupyter.widget-view+json": {
       "model_id": "",
       "version_major": 2,
       "version_minor": 0
      },
      "text/plain": [
       "  0%|          | 0/4001 [00:00<?, ?it/s]"
      ]
     },
     "metadata": {},
     "output_type": "display_data"
    },
    {
     "data": {
      "application/vnd.jupyter.widget-view+json": {
       "model_id": "",
       "version_major": 2,
       "version_minor": 0
      },
      "text/plain": [
       "  0%|          | 0/4001 [00:00<?, ?it/s]"
      ]
     },
     "metadata": {},
     "output_type": "display_data"
    },
    {
     "data": {
      "application/vnd.jupyter.widget-view+json": {
       "model_id": "",
       "version_major": 2,
       "version_minor": 0
      },
      "text/plain": [
       "  0%|          | 0/4001 [00:00<?, ?it/s]"
      ]
     },
     "metadata": {},
     "output_type": "display_data"
    },
    {
     "data": {
      "application/vnd.jupyter.widget-view+json": {
       "model_id": "",
       "version_major": 2,
       "version_minor": 0
      },
      "text/plain": [
       "  0%|          | 0/4001 [00:00<?, ?it/s]"
      ]
     },
     "metadata": {},
     "output_type": "display_data"
    },
    {
     "data": {
      "application/vnd.jupyter.widget-view+json": {
       "model_id": "",
       "version_major": 2,
       "version_minor": 0
      },
      "text/plain": [
       "  0%|          | 0/4001 [00:00<?, ?it/s]"
      ]
     },
     "metadata": {},
     "output_type": "display_data"
    },
    {
     "data": {
      "application/vnd.jupyter.widget-view+json": {
       "model_id": "",
       "version_major": 2,
       "version_minor": 0
      },
      "text/plain": [
       "  0%|          | 0/4001 [00:00<?, ?it/s]"
      ]
     },
     "metadata": {},
     "output_type": "display_data"
    },
    {
     "data": {
      "application/vnd.jupyter.widget-view+json": {
       "model_id": "",
       "version_major": 2,
       "version_minor": 0
      },
      "text/plain": [
       "  0%|          | 0/4001 [00:00<?, ?it/s]"
      ]
     },
     "metadata": {},
     "output_type": "display_data"
    },
    {
     "data": {
      "application/vnd.jupyter.widget-view+json": {
       "model_id": "",
       "version_major": 2,
       "version_minor": 0
      },
      "text/plain": [
       "  0%|          | 0/4001 [00:00<?, ?it/s]"
      ]
     },
     "metadata": {},
     "output_type": "display_data"
    },
    {
     "data": {
      "application/vnd.jupyter.widget-view+json": {
       "model_id": "",
       "version_major": 2,
       "version_minor": 0
      },
      "text/plain": [
       "  0%|          | 0/4001 [00:00<?, ?it/s]"
      ]
     },
     "metadata": {},
     "output_type": "display_data"
    },
    {
     "data": {
      "application/vnd.jupyter.widget-view+json": {
       "model_id": "",
       "version_major": 2,
       "version_minor": 0
      },
      "text/plain": [
       "  0%|          | 0/4001 [00:00<?, ?it/s]"
      ]
     },
     "metadata": {},
     "output_type": "display_data"
    },
    {
     "data": {
      "application/vnd.jupyter.widget-view+json": {
       "model_id": "",
       "version_major": 2,
       "version_minor": 0
      },
      "text/plain": [
       "  0%|          | 0/4001 [00:00<?, ?it/s]"
      ]
     },
     "metadata": {},
     "output_type": "display_data"
    },
    {
     "data": {
      "application/vnd.jupyter.widget-view+json": {
       "model_id": "",
       "version_major": 2,
       "version_minor": 0
      },
      "text/plain": [
       "  0%|          | 0/4001 [00:00<?, ?it/s]"
      ]
     },
     "metadata": {},
     "output_type": "display_data"
    },
    {
     "data": {
      "application/vnd.jupyter.widget-view+json": {
       "model_id": "",
       "version_major": 2,
       "version_minor": 0
      },
      "text/plain": [
       "  0%|          | 0/4001 [00:00<?, ?it/s]"
      ]
     },
     "metadata": {},
     "output_type": "display_data"
    },
    {
     "data": {
      "application/vnd.jupyter.widget-view+json": {
       "model_id": "",
       "version_major": 2,
       "version_minor": 0
      },
      "text/plain": [
       "  0%|          | 0/4001 [00:00<?, ?it/s]"
      ]
     },
     "metadata": {},
     "output_type": "display_data"
    },
    {
     "data": {
      "application/vnd.jupyter.widget-view+json": {
       "model_id": "",
       "version_major": 2,
       "version_minor": 0
      },
      "text/plain": [
       "  0%|          | 0/4001 [00:00<?, ?it/s]"
      ]
     },
     "metadata": {},
     "output_type": "display_data"
    },
    {
     "data": {
      "application/vnd.jupyter.widget-view+json": {
       "model_id": "",
       "version_major": 2,
       "version_minor": 0
      },
      "text/plain": [
       "  0%|          | 0/4001 [00:00<?, ?it/s]"
      ]
     },
     "metadata": {},
     "output_type": "display_data"
    },
    {
     "data": {
      "application/vnd.jupyter.widget-view+json": {
       "model_id": "",
       "version_major": 2,
       "version_minor": 0
      },
      "text/plain": [
       "  0%|          | 0/4001 [00:00<?, ?it/s]"
      ]
     },
     "metadata": {},
     "output_type": "display_data"
    },
    {
     "data": {
      "application/vnd.jupyter.widget-view+json": {
       "model_id": "",
       "version_major": 2,
       "version_minor": 0
      },
      "text/plain": [
       "  0%|          | 0/4001 [00:00<?, ?it/s]"
      ]
     },
     "metadata": {},
     "output_type": "display_data"
    },
    {
     "data": {
      "application/vnd.jupyter.widget-view+json": {
       "model_id": "",
       "version_major": 2,
       "version_minor": 0
      },
      "text/plain": [
       "  0%|          | 0/4001 [00:00<?, ?it/s]"
      ]
     },
     "metadata": {},
     "output_type": "display_data"
    },
    {
     "data": {
      "application/vnd.jupyter.widget-view+json": {
       "model_id": "",
       "version_major": 2,
       "version_minor": 0
      },
      "text/plain": [
       "  0%|          | 0/4001 [00:00<?, ?it/s]"
      ]
     },
     "metadata": {},
     "output_type": "display_data"
    },
    {
     "data": {
      "application/vnd.jupyter.widget-view+json": {
       "model_id": "",
       "version_major": 2,
       "version_minor": 0
      },
      "text/plain": [
       "  0%|          | 0/4001 [00:00<?, ?it/s]"
      ]
     },
     "metadata": {},
     "output_type": "display_data"
    },
    {
     "data": {
      "application/vnd.jupyter.widget-view+json": {
       "model_id": "",
       "version_major": 2,
       "version_minor": 0
      },
      "text/plain": [
       "  0%|          | 0/4001 [00:00<?, ?it/s]"
      ]
     },
     "metadata": {},
     "output_type": "display_data"
    },
    {
     "data": {
      "application/vnd.jupyter.widget-view+json": {
       "model_id": "",
       "version_major": 2,
       "version_minor": 0
      },
      "text/plain": [
       "  0%|          | 0/4001 [00:00<?, ?it/s]"
      ]
     },
     "metadata": {},
     "output_type": "display_data"
    },
    {
     "data": {
      "application/vnd.jupyter.widget-view+json": {
       "model_id": "",
       "version_major": 2,
       "version_minor": 0
      },
      "text/plain": [
       "  0%|          | 0/4001 [00:00<?, ?it/s]"
      ]
     },
     "metadata": {},
     "output_type": "display_data"
    },
    {
     "data": {
      "application/vnd.jupyter.widget-view+json": {
       "model_id": "",
       "version_major": 2,
       "version_minor": 0
      },
      "text/plain": [
       "  0%|          | 0/4001 [00:00<?, ?it/s]"
      ]
     },
     "metadata": {},
     "output_type": "display_data"
    },
    {
     "data": {
      "application/vnd.jupyter.widget-view+json": {
       "model_id": "",
       "version_major": 2,
       "version_minor": 0
      },
      "text/plain": [
       "  0%|          | 0/4001 [00:00<?, ?it/s]"
      ]
     },
     "metadata": {},
     "output_type": "display_data"
    },
    {
     "data": {
      "application/vnd.jupyter.widget-view+json": {
       "model_id": "",
       "version_major": 2,
       "version_minor": 0
      },
      "text/plain": [
       "  0%|          | 0/4001 [00:00<?, ?it/s]"
      ]
     },
     "metadata": {},
     "output_type": "display_data"
    },
    {
     "data": {
      "application/vnd.jupyter.widget-view+json": {
       "model_id": "",
       "version_major": 2,
       "version_minor": 0
      },
      "text/plain": [
       "  0%|          | 0/4001 [00:00<?, ?it/s]"
      ]
     },
     "metadata": {},
     "output_type": "display_data"
    },
    {
     "data": {
      "application/vnd.jupyter.widget-view+json": {
       "model_id": "",
       "version_major": 2,
       "version_minor": 0
      },
      "text/plain": [
       "  0%|          | 0/4001 [00:00<?, ?it/s]"
      ]
     },
     "metadata": {},
     "output_type": "display_data"
    },
    {
     "data": {
      "application/vnd.jupyter.widget-view+json": {
       "model_id": "",
       "version_major": 2,
       "version_minor": 0
      },
      "text/plain": [
       "  0%|          | 0/4001 [00:00<?, ?it/s]"
      ]
     },
     "metadata": {},
     "output_type": "display_data"
    },
    {
     "data": {
      "application/vnd.jupyter.widget-view+json": {
       "model_id": "",
       "version_major": 2,
       "version_minor": 0
      },
      "text/plain": [
       "  0%|          | 0/4001 [00:00<?, ?it/s]"
      ]
     },
     "metadata": {},
     "output_type": "display_data"
    },
    {
     "data": {
      "application/vnd.jupyter.widget-view+json": {
       "model_id": "",
       "version_major": 2,
       "version_minor": 0
      },
      "text/plain": [
       "  0%|          | 0/4001 [00:00<?, ?it/s]"
      ]
     },
     "metadata": {},
     "output_type": "display_data"
    },
    {
     "data": {
      "application/vnd.jupyter.widget-view+json": {
       "model_id": "",
       "version_major": 2,
       "version_minor": 0
      },
      "text/plain": [
       "  0%|          | 0/4001 [00:00<?, ?it/s]"
      ]
     },
     "metadata": {},
     "output_type": "display_data"
    },
    {
     "data": {
      "application/vnd.jupyter.widget-view+json": {
       "model_id": "",
       "version_major": 2,
       "version_minor": 0
      },
      "text/plain": [
       "  0%|          | 0/4001 [00:00<?, ?it/s]"
      ]
     },
     "metadata": {},
     "output_type": "display_data"
    },
    {
     "data": {
      "application/vnd.jupyter.widget-view+json": {
       "model_id": "",
       "version_major": 2,
       "version_minor": 0
      },
      "text/plain": [
       "  0%|          | 0/4001 [00:00<?, ?it/s]"
      ]
     },
     "metadata": {},
     "output_type": "display_data"
    },
    {
     "data": {
      "application/vnd.jupyter.widget-view+json": {
       "model_id": "",
       "version_major": 2,
       "version_minor": 0
      },
      "text/plain": [
       "  0%|          | 0/4001 [00:00<?, ?it/s]"
      ]
     },
     "metadata": {},
     "output_type": "display_data"
    },
    {
     "data": {
      "application/vnd.jupyter.widget-view+json": {
       "model_id": "",
       "version_major": 2,
       "version_minor": 0
      },
      "text/plain": [
       "  0%|          | 0/4001 [00:00<?, ?it/s]"
      ]
     },
     "metadata": {},
     "output_type": "display_data"
    },
    {
     "data": {
      "application/vnd.jupyter.widget-view+json": {
       "model_id": "",
       "version_major": 2,
       "version_minor": 0
      },
      "text/plain": [
       "  0%|          | 0/4001 [00:00<?, ?it/s]"
      ]
     },
     "metadata": {},
     "output_type": "display_data"
    },
    {
     "data": {
      "application/vnd.jupyter.widget-view+json": {
       "model_id": "",
       "version_major": 2,
       "version_minor": 0
      },
      "text/plain": [
       "  0%|          | 0/4001 [00:00<?, ?it/s]"
      ]
     },
     "metadata": {},
     "output_type": "display_data"
    },
    {
     "data": {
      "application/vnd.jupyter.widget-view+json": {
       "model_id": "",
       "version_major": 2,
       "version_minor": 0
      },
      "text/plain": [
       "  0%|          | 0/4001 [00:00<?, ?it/s]"
      ]
     },
     "metadata": {},
     "output_type": "display_data"
    },
    {
     "data": {
      "application/vnd.jupyter.widget-view+json": {
       "model_id": "",
       "version_major": 2,
       "version_minor": 0
      },
      "text/plain": [
       "  0%|          | 0/4001 [00:00<?, ?it/s]"
      ]
     },
     "metadata": {},
     "output_type": "display_data"
    },
    {
     "data": {
      "application/vnd.jupyter.widget-view+json": {
       "model_id": "",
       "version_major": 2,
       "version_minor": 0
      },
      "text/plain": [
       "  0%|          | 0/4001 [00:00<?, ?it/s]"
      ]
     },
     "metadata": {},
     "output_type": "display_data"
    },
    {
     "data": {
      "application/vnd.jupyter.widget-view+json": {
       "model_id": "",
       "version_major": 2,
       "version_minor": 0
      },
      "text/plain": [
       "  0%|          | 0/4001 [00:00<?, ?it/s]"
      ]
     },
     "metadata": {},
     "output_type": "display_data"
    },
    {
     "data": {
      "application/vnd.jupyter.widget-view+json": {
       "model_id": "",
       "version_major": 2,
       "version_minor": 0
      },
      "text/plain": [
       "  0%|          | 0/4001 [00:00<?, ?it/s]"
      ]
     },
     "metadata": {},
     "output_type": "display_data"
    },
    {
     "data": {
      "application/vnd.jupyter.widget-view+json": {
       "model_id": "",
       "version_major": 2,
       "version_minor": 0
      },
      "text/plain": [
       "  0%|          | 0/4001 [00:00<?, ?it/s]"
      ]
     },
     "metadata": {},
     "output_type": "display_data"
    },
    {
     "data": {
      "application/vnd.jupyter.widget-view+json": {
       "model_id": "",
       "version_major": 2,
       "version_minor": 0
      },
      "text/plain": [
       "  0%|          | 0/4001 [00:00<?, ?it/s]"
      ]
     },
     "metadata": {},
     "output_type": "display_data"
    },
    {
     "data": {
      "application/vnd.jupyter.widget-view+json": {
       "model_id": "",
       "version_major": 2,
       "version_minor": 0
      },
      "text/plain": [
       "  0%|          | 0/4001 [00:00<?, ?it/s]"
      ]
     },
     "metadata": {},
     "output_type": "display_data"
    },
    {
     "data": {
      "application/vnd.jupyter.widget-view+json": {
       "model_id": "",
       "version_major": 2,
       "version_minor": 0
      },
      "text/plain": [
       "  0%|          | 0/4001 [00:00<?, ?it/s]"
      ]
     },
     "metadata": {},
     "output_type": "display_data"
    },
    {
     "data": {
      "application/vnd.jupyter.widget-view+json": {
       "model_id": "",
       "version_major": 2,
       "version_minor": 0
      },
      "text/plain": [
       "  0%|          | 0/4001 [00:00<?, ?it/s]"
      ]
     },
     "metadata": {},
     "output_type": "display_data"
    },
    {
     "data": {
      "application/vnd.jupyter.widget-view+json": {
       "model_id": "",
       "version_major": 2,
       "version_minor": 0
      },
      "text/plain": [
       "  0%|          | 0/4001 [00:00<?, ?it/s]"
      ]
     },
     "metadata": {},
     "output_type": "display_data"
    },
    {
     "data": {
      "application/vnd.jupyter.widget-view+json": {
       "model_id": "",
       "version_major": 2,
       "version_minor": 0
      },
      "text/plain": [
       "  0%|          | 0/4001 [00:00<?, ?it/s]"
      ]
     },
     "metadata": {},
     "output_type": "display_data"
    },
    {
     "data": {
      "application/vnd.jupyter.widget-view+json": {
       "model_id": "",
       "version_major": 2,
       "version_minor": 0
      },
      "text/plain": [
       "  0%|          | 0/4001 [00:00<?, ?it/s]"
      ]
     },
     "metadata": {},
     "output_type": "display_data"
    },
    {
     "data": {
      "application/vnd.jupyter.widget-view+json": {
       "model_id": "",
       "version_major": 2,
       "version_minor": 0
      },
      "text/plain": [
       "  0%|          | 0/4001 [00:00<?, ?it/s]"
      ]
     },
     "metadata": {},
     "output_type": "display_data"
    },
    {
     "data": {
      "application/vnd.jupyter.widget-view+json": {
       "model_id": "",
       "version_major": 2,
       "version_minor": 0
      },
      "text/plain": [
       "  0%|          | 0/4001 [00:00<?, ?it/s]"
      ]
     },
     "metadata": {},
     "output_type": "display_data"
    },
    {
     "data": {
      "application/vnd.jupyter.widget-view+json": {
       "model_id": "",
       "version_major": 2,
       "version_minor": 0
      },
      "text/plain": [
       "  0%|          | 0/4001 [00:00<?, ?it/s]"
      ]
     },
     "metadata": {},
     "output_type": "display_data"
    },
    {
     "data": {
      "application/vnd.jupyter.widget-view+json": {
       "model_id": "",
       "version_major": 2,
       "version_minor": 0
      },
      "text/plain": [
       "  0%|          | 0/4001 [00:00<?, ?it/s]"
      ]
     },
     "metadata": {},
     "output_type": "display_data"
    },
    {
     "data": {
      "application/vnd.jupyter.widget-view+json": {
       "model_id": "",
       "version_major": 2,
       "version_minor": 0
      },
      "text/plain": [
       "  0%|          | 0/4001 [00:00<?, ?it/s]"
      ]
     },
     "metadata": {},
     "output_type": "display_data"
    },
    {
     "data": {
      "application/vnd.jupyter.widget-view+json": {
       "model_id": "",
       "version_major": 2,
       "version_minor": 0
      },
      "text/plain": [
       "  0%|          | 0/4001 [00:00<?, ?it/s]"
      ]
     },
     "metadata": {},
     "output_type": "display_data"
    },
    {
     "data": {
      "application/vnd.jupyter.widget-view+json": {
       "model_id": "",
       "version_major": 2,
       "version_minor": 0
      },
      "text/plain": [
       "  0%|          | 0/4001 [00:00<?, ?it/s]"
      ]
     },
     "metadata": {},
     "output_type": "display_data"
    },
    {
     "data": {
      "application/vnd.jupyter.widget-view+json": {
       "model_id": "",
       "version_major": 2,
       "version_minor": 0
      },
      "text/plain": [
       "  0%|          | 0/4001 [00:00<?, ?it/s]"
      ]
     },
     "metadata": {},
     "output_type": "display_data"
    },
    {
     "data": {
      "application/vnd.jupyter.widget-view+json": {
       "model_id": "",
       "version_major": 2,
       "version_minor": 0
      },
      "text/plain": [
       "  0%|          | 0/4001 [00:00<?, ?it/s]"
      ]
     },
     "metadata": {},
     "output_type": "display_data"
    },
    {
     "data": {
      "application/vnd.jupyter.widget-view+json": {
       "model_id": "",
       "version_major": 2,
       "version_minor": 0
      },
      "text/plain": [
       "  0%|          | 0/4001 [00:00<?, ?it/s]"
      ]
     },
     "metadata": {},
     "output_type": "display_data"
    },
    {
     "data": {
      "application/vnd.jupyter.widget-view+json": {
       "model_id": "",
       "version_major": 2,
       "version_minor": 0
      },
      "text/plain": [
       "  0%|          | 0/4001 [00:00<?, ?it/s]"
      ]
     },
     "metadata": {},
     "output_type": "display_data"
    },
    {
     "data": {
      "application/vnd.jupyter.widget-view+json": {
       "model_id": "",
       "version_major": 2,
       "version_minor": 0
      },
      "text/plain": [
       "  0%|          | 0/4001 [00:00<?, ?it/s]"
      ]
     },
     "metadata": {},
     "output_type": "display_data"
    },
    {
     "data": {
      "application/vnd.jupyter.widget-view+json": {
       "model_id": "",
       "version_major": 2,
       "version_minor": 0
      },
      "text/plain": [
       "  0%|          | 0/4001 [00:00<?, ?it/s]"
      ]
     },
     "metadata": {},
     "output_type": "display_data"
    },
    {
     "data": {
      "application/vnd.jupyter.widget-view+json": {
       "model_id": "",
       "version_major": 2,
       "version_minor": 0
      },
      "text/plain": [
       "  0%|          | 0/4001 [00:00<?, ?it/s]"
      ]
     },
     "metadata": {},
     "output_type": "display_data"
    },
    {
     "data": {
      "application/vnd.jupyter.widget-view+json": {
       "model_id": "",
       "version_major": 2,
       "version_minor": 0
      },
      "text/plain": [
       "  0%|          | 0/4001 [00:00<?, ?it/s]"
      ]
     },
     "metadata": {},
     "output_type": "display_data"
    },
    {
     "data": {
      "application/vnd.jupyter.widget-view+json": {
       "model_id": "",
       "version_major": 2,
       "version_minor": 0
      },
      "text/plain": [
       "  0%|          | 0/4001 [00:00<?, ?it/s]"
      ]
     },
     "metadata": {},
     "output_type": "display_data"
    },
    {
     "data": {
      "application/vnd.jupyter.widget-view+json": {
       "model_id": "",
       "version_major": 2,
       "version_minor": 0
      },
      "text/plain": [
       "  0%|          | 0/4001 [00:00<?, ?it/s]"
      ]
     },
     "metadata": {},
     "output_type": "display_data"
    },
    {
     "data": {
      "application/vnd.jupyter.widget-view+json": {
       "model_id": "",
       "version_major": 2,
       "version_minor": 0
      },
      "text/plain": [
       "  0%|          | 0/4001 [00:00<?, ?it/s]"
      ]
     },
     "metadata": {},
     "output_type": "display_data"
    },
    {
     "data": {
      "application/vnd.jupyter.widget-view+json": {
       "model_id": "",
       "version_major": 2,
       "version_minor": 0
      },
      "text/plain": [
       "  0%|          | 0/4001 [00:00<?, ?it/s]"
      ]
     },
     "metadata": {},
     "output_type": "display_data"
    },
    {
     "data": {
      "application/vnd.jupyter.widget-view+json": {
       "model_id": "",
       "version_major": 2,
       "version_minor": 0
      },
      "text/plain": [
       "  0%|          | 0/4001 [00:00<?, ?it/s]"
      ]
     },
     "metadata": {},
     "output_type": "display_data"
    },
    {
     "data": {
      "application/vnd.jupyter.widget-view+json": {
       "model_id": "",
       "version_major": 2,
       "version_minor": 0
      },
      "text/plain": [
       "  0%|          | 0/4001 [00:00<?, ?it/s]"
      ]
     },
     "metadata": {},
     "output_type": "display_data"
    },
    {
     "data": {
      "application/vnd.jupyter.widget-view+json": {
       "model_id": "",
       "version_major": 2,
       "version_minor": 0
      },
      "text/plain": [
       "  0%|          | 0/4001 [00:00<?, ?it/s]"
      ]
     },
     "metadata": {},
     "output_type": "display_data"
    },
    {
     "data": {
      "application/vnd.jupyter.widget-view+json": {
       "model_id": "",
       "version_major": 2,
       "version_minor": 0
      },
      "text/plain": [
       "  0%|          | 0/4001 [00:00<?, ?it/s]"
      ]
     },
     "metadata": {},
     "output_type": "display_data"
    },
    {
     "data": {
      "application/vnd.jupyter.widget-view+json": {
       "model_id": "",
       "version_major": 2,
       "version_minor": 0
      },
      "text/plain": [
       "  0%|          | 0/4001 [00:00<?, ?it/s]"
      ]
     },
     "metadata": {},
     "output_type": "display_data"
    },
    {
     "data": {
      "application/vnd.jupyter.widget-view+json": {
       "model_id": "",
       "version_major": 2,
       "version_minor": 0
      },
      "text/plain": [
       "  0%|          | 0/4001 [00:00<?, ?it/s]"
      ]
     },
     "metadata": {},
     "output_type": "display_data"
    },
    {
     "data": {
      "application/vnd.jupyter.widget-view+json": {
       "model_id": "",
       "version_major": 2,
       "version_minor": 0
      },
      "text/plain": [
       "  0%|          | 0/4001 [00:00<?, ?it/s]"
      ]
     },
     "metadata": {},
     "output_type": "display_data"
    },
    {
     "data": {
      "application/vnd.jupyter.widget-view+json": {
       "model_id": "",
       "version_major": 2,
       "version_minor": 0
      },
      "text/plain": [
       "  0%|          | 0/4001 [00:00<?, ?it/s]"
      ]
     },
     "metadata": {},
     "output_type": "display_data"
    },
    {
     "data": {
      "application/vnd.jupyter.widget-view+json": {
       "model_id": "",
       "version_major": 2,
       "version_minor": 0
      },
      "text/plain": [
       "  0%|          | 0/4001 [00:00<?, ?it/s]"
      ]
     },
     "metadata": {},
     "output_type": "display_data"
    },
    {
     "data": {
      "application/vnd.jupyter.widget-view+json": {
       "model_id": "",
       "version_major": 2,
       "version_minor": 0
      },
      "text/plain": [
       "  0%|          | 0/4001 [00:00<?, ?it/s]"
      ]
     },
     "metadata": {},
     "output_type": "display_data"
    },
    {
     "data": {
      "application/vnd.jupyter.widget-view+json": {
       "model_id": "",
       "version_major": 2,
       "version_minor": 0
      },
      "text/plain": [
       "  0%|          | 0/4001 [00:00<?, ?it/s]"
      ]
     },
     "metadata": {},
     "output_type": "display_data"
    },
    {
     "data": {
      "application/vnd.jupyter.widget-view+json": {
       "model_id": "",
       "version_major": 2,
       "version_minor": 0
      },
      "text/plain": [
       "  0%|          | 0/4001 [00:00<?, ?it/s]"
      ]
     },
     "metadata": {},
     "output_type": "display_data"
    },
    {
     "data": {
      "application/vnd.jupyter.widget-view+json": {
       "model_id": "",
       "version_major": 2,
       "version_minor": 0
      },
      "text/plain": [
       "  0%|          | 0/4001 [00:00<?, ?it/s]"
      ]
     },
     "metadata": {},
     "output_type": "display_data"
    },
    {
     "data": {
      "application/vnd.jupyter.widget-view+json": {
       "model_id": "",
       "version_major": 2,
       "version_minor": 0
      },
      "text/plain": [
       "  0%|          | 0/4001 [00:00<?, ?it/s]"
      ]
     },
     "metadata": {},
     "output_type": "display_data"
    },
    {
     "data": {
      "application/vnd.jupyter.widget-view+json": {
       "model_id": "",
       "version_major": 2,
       "version_minor": 0
      },
      "text/plain": [
       "  0%|          | 0/4001 [00:00<?, ?it/s]"
      ]
     },
     "metadata": {},
     "output_type": "display_data"
    },
    {
     "data": {
      "application/vnd.jupyter.widget-view+json": {
       "model_id": "",
       "version_major": 2,
       "version_minor": 0
      },
      "text/plain": [
       "  0%|          | 0/4001 [00:00<?, ?it/s]"
      ]
     },
     "metadata": {},
     "output_type": "display_data"
    },
    {
     "data": {
      "application/vnd.jupyter.widget-view+json": {
       "model_id": "",
       "version_major": 2,
       "version_minor": 0
      },
      "text/plain": [
       "  0%|          | 0/4001 [00:00<?, ?it/s]"
      ]
     },
     "metadata": {},
     "output_type": "display_data"
    },
    {
     "data": {
      "application/vnd.jupyter.widget-view+json": {
       "model_id": "",
       "version_major": 2,
       "version_minor": 0
      },
      "text/plain": [
       "  0%|          | 0/4001 [00:00<?, ?it/s]"
      ]
     },
     "metadata": {},
     "output_type": "display_data"
    },
    {
     "data": {
      "application/vnd.jupyter.widget-view+json": {
       "model_id": "",
       "version_major": 2,
       "version_minor": 0
      },
      "text/plain": [
       "  0%|          | 0/4001 [00:00<?, ?it/s]"
      ]
     },
     "metadata": {},
     "output_type": "display_data"
    },
    {
     "data": {
      "application/vnd.jupyter.widget-view+json": {
       "model_id": "",
       "version_major": 2,
       "version_minor": 0
      },
      "text/plain": [
       "  0%|          | 0/4001 [00:00<?, ?it/s]"
      ]
     },
     "metadata": {},
     "output_type": "display_data"
    },
    {
     "data": {
      "application/vnd.jupyter.widget-view+json": {
       "model_id": "",
       "version_major": 2,
       "version_minor": 0
      },
      "text/plain": [
       "  0%|          | 0/4001 [00:00<?, ?it/s]"
      ]
     },
     "metadata": {},
     "output_type": "display_data"
    },
    {
     "data": {
      "application/vnd.jupyter.widget-view+json": {
       "model_id": "",
       "version_major": 2,
       "version_minor": 0
      },
      "text/plain": [
       "  0%|          | 0/4001 [00:00<?, ?it/s]"
      ]
     },
     "metadata": {},
     "output_type": "display_data"
    },
    {
     "data": {
      "application/vnd.jupyter.widget-view+json": {
       "model_id": "",
       "version_major": 2,
       "version_minor": 0
      },
      "text/plain": [
       "  0%|          | 0/4001 [00:00<?, ?it/s]"
      ]
     },
     "metadata": {},
     "output_type": "display_data"
    },
    {
     "data": {
      "application/vnd.jupyter.widget-view+json": {
       "model_id": "",
       "version_major": 2,
       "version_minor": 0
      },
      "text/plain": [
       "  0%|          | 0/4001 [00:00<?, ?it/s]"
      ]
     },
     "metadata": {},
     "output_type": "display_data"
    },
    {
     "data": {
      "application/vnd.jupyter.widget-view+json": {
       "model_id": "",
       "version_major": 2,
       "version_minor": 0
      },
      "text/plain": [
       "  0%|          | 0/4001 [00:00<?, ?it/s]"
      ]
     },
     "metadata": {},
     "output_type": "display_data"
    },
    {
     "data": {
      "application/vnd.jupyter.widget-view+json": {
       "model_id": "",
       "version_major": 2,
       "version_minor": 0
      },
      "text/plain": [
       "  0%|          | 0/4001 [00:00<?, ?it/s]"
      ]
     },
     "metadata": {},
     "output_type": "display_data"
    },
    {
     "data": {
      "application/vnd.jupyter.widget-view+json": {
       "model_id": "",
       "version_major": 2,
       "version_minor": 0
      },
      "text/plain": [
       "  0%|          | 0/4001 [00:00<?, ?it/s]"
      ]
     },
     "metadata": {},
     "output_type": "display_data"
    },
    {
     "data": {
      "application/vnd.jupyter.widget-view+json": {
       "model_id": "",
       "version_major": 2,
       "version_minor": 0
      },
      "text/plain": [
       "  0%|          | 0/4001 [00:00<?, ?it/s]"
      ]
     },
     "metadata": {},
     "output_type": "display_data"
    },
    {
     "data": {
      "application/vnd.jupyter.widget-view+json": {
       "model_id": "",
       "version_major": 2,
       "version_minor": 0
      },
      "text/plain": [
       "  0%|          | 0/4001 [00:00<?, ?it/s]"
      ]
     },
     "metadata": {},
     "output_type": "display_data"
    },
    {
     "data": {
      "application/vnd.jupyter.widget-view+json": {
       "model_id": "",
       "version_major": 2,
       "version_minor": 0
      },
      "text/plain": [
       "  0%|          | 0/4001 [00:00<?, ?it/s]"
      ]
     },
     "metadata": {},
     "output_type": "display_data"
    },
    {
     "data": {
      "application/vnd.jupyter.widget-view+json": {
       "model_id": "",
       "version_major": 2,
       "version_minor": 0
      },
      "text/plain": [
       "  0%|          | 0/4001 [00:00<?, ?it/s]"
      ]
     },
     "metadata": {},
     "output_type": "display_data"
    },
    {
     "data": {
      "application/vnd.jupyter.widget-view+json": {
       "model_id": "",
       "version_major": 2,
       "version_minor": 0
      },
      "text/plain": [
       "  0%|          | 0/4001 [00:00<?, ?it/s]"
      ]
     },
     "metadata": {},
     "output_type": "display_data"
    },
    {
     "data": {
      "application/vnd.jupyter.widget-view+json": {
       "model_id": "",
       "version_major": 2,
       "version_minor": 0
      },
      "text/plain": [
       "  0%|          | 0/4001 [00:00<?, ?it/s]"
      ]
     },
     "metadata": {},
     "output_type": "display_data"
    },
    {
     "data": {
      "application/vnd.jupyter.widget-view+json": {
       "model_id": "",
       "version_major": 2,
       "version_minor": 0
      },
      "text/plain": [
       "  0%|          | 0/4001 [00:00<?, ?it/s]"
      ]
     },
     "metadata": {},
     "output_type": "display_data"
    },
    {
     "data": {
      "application/vnd.jupyter.widget-view+json": {
       "model_id": "",
       "version_major": 2,
       "version_minor": 0
      },
      "text/plain": [
       "  0%|          | 0/4001 [00:00<?, ?it/s]"
      ]
     },
     "metadata": {},
     "output_type": "display_data"
    },
    {
     "data": {
      "application/vnd.jupyter.widget-view+json": {
       "model_id": "",
       "version_major": 2,
       "version_minor": 0
      },
      "text/plain": [
       "  0%|          | 0/4001 [00:00<?, ?it/s]"
      ]
     },
     "metadata": {},
     "output_type": "display_data"
    },
    {
     "data": {
      "application/vnd.jupyter.widget-view+json": {
       "model_id": "",
       "version_major": 2,
       "version_minor": 0
      },
      "text/plain": [
       "  0%|          | 0/4001 [00:00<?, ?it/s]"
      ]
     },
     "metadata": {},
     "output_type": "display_data"
    },
    {
     "data": {
      "application/vnd.jupyter.widget-view+json": {
       "model_id": "",
       "version_major": 2,
       "version_minor": 0
      },
      "text/plain": [
       "  0%|          | 0/4001 [00:00<?, ?it/s]"
      ]
     },
     "metadata": {},
     "output_type": "display_data"
    },
    {
     "data": {
      "application/vnd.jupyter.widget-view+json": {
       "model_id": "",
       "version_major": 2,
       "version_minor": 0
      },
      "text/plain": [
       "  0%|          | 0/4001 [00:00<?, ?it/s]"
      ]
     },
     "metadata": {},
     "output_type": "display_data"
    },
    {
     "data": {
      "application/vnd.jupyter.widget-view+json": {
       "model_id": "",
       "version_major": 2,
       "version_minor": 0
      },
      "text/plain": [
       "  0%|          | 0/4001 [00:00<?, ?it/s]"
      ]
     },
     "metadata": {},
     "output_type": "display_data"
    },
    {
     "data": {
      "application/vnd.jupyter.widget-view+json": {
       "model_id": "",
       "version_major": 2,
       "version_minor": 0
      },
      "text/plain": [
       "  0%|          | 0/4001 [00:00<?, ?it/s]"
      ]
     },
     "metadata": {},
     "output_type": "display_data"
    },
    {
     "data": {
      "application/vnd.jupyter.widget-view+json": {
       "model_id": "",
       "version_major": 2,
       "version_minor": 0
      },
      "text/plain": [
       "  0%|          | 0/4001 [00:00<?, ?it/s]"
      ]
     },
     "metadata": {},
     "output_type": "display_data"
    },
    {
     "data": {
      "application/vnd.jupyter.widget-view+json": {
       "model_id": "",
       "version_major": 2,
       "version_minor": 0
      },
      "text/plain": [
       "  0%|          | 0/4001 [00:00<?, ?it/s]"
      ]
     },
     "metadata": {},
     "output_type": "display_data"
    },
    {
     "data": {
      "application/vnd.jupyter.widget-view+json": {
       "model_id": "",
       "version_major": 2,
       "version_minor": 0
      },
      "text/plain": [
       "  0%|          | 0/4001 [00:00<?, ?it/s]"
      ]
     },
     "metadata": {},
     "output_type": "display_data"
    },
    {
     "data": {
      "application/vnd.jupyter.widget-view+json": {
       "model_id": "",
       "version_major": 2,
       "version_minor": 0
      },
      "text/plain": [
       "  0%|          | 0/4001 [00:00<?, ?it/s]"
      ]
     },
     "metadata": {},
     "output_type": "display_data"
    },
    {
     "data": {
      "application/vnd.jupyter.widget-view+json": {
       "model_id": "",
       "version_major": 2,
       "version_minor": 0
      },
      "text/plain": [
       "  0%|          | 0/4001 [00:00<?, ?it/s]"
      ]
     },
     "metadata": {},
     "output_type": "display_data"
    },
    {
     "data": {
      "application/vnd.jupyter.widget-view+json": {
       "model_id": "",
       "version_major": 2,
       "version_minor": 0
      },
      "text/plain": [
       "  0%|          | 0/4001 [00:00<?, ?it/s]"
      ]
     },
     "metadata": {},
     "output_type": "display_data"
    },
    {
     "data": {
      "application/vnd.jupyter.widget-view+json": {
       "model_id": "",
       "version_major": 2,
       "version_minor": 0
      },
      "text/plain": [
       "  0%|          | 0/4001 [00:00<?, ?it/s]"
      ]
     },
     "metadata": {},
     "output_type": "display_data"
    },
    {
     "data": {
      "application/vnd.jupyter.widget-view+json": {
       "model_id": "",
       "version_major": 2,
       "version_minor": 0
      },
      "text/plain": [
       "  0%|          | 0/4001 [00:00<?, ?it/s]"
      ]
     },
     "metadata": {},
     "output_type": "display_data"
    },
    {
     "data": {
      "application/vnd.jupyter.widget-view+json": {
       "model_id": "",
       "version_major": 2,
       "version_minor": 0
      },
      "text/plain": [
       "  0%|          | 0/4001 [00:00<?, ?it/s]"
      ]
     },
     "metadata": {},
     "output_type": "display_data"
    },
    {
     "data": {
      "application/vnd.jupyter.widget-view+json": {
       "model_id": "",
       "version_major": 2,
       "version_minor": 0
      },
      "text/plain": [
       "  0%|          | 0/4001 [00:00<?, ?it/s]"
      ]
     },
     "metadata": {},
     "output_type": "display_data"
    },
    {
     "data": {
      "application/vnd.jupyter.widget-view+json": {
       "model_id": "",
       "version_major": 2,
       "version_minor": 0
      },
      "text/plain": [
       "  0%|          | 0/4001 [00:00<?, ?it/s]"
      ]
     },
     "metadata": {},
     "output_type": "display_data"
    },
    {
     "data": {
      "application/vnd.jupyter.widget-view+json": {
       "model_id": "",
       "version_major": 2,
       "version_minor": 0
      },
      "text/plain": [
       "  0%|          | 0/4001 [00:00<?, ?it/s]"
      ]
     },
     "metadata": {},
     "output_type": "display_data"
    },
    {
     "data": {
      "application/vnd.jupyter.widget-view+json": {
       "model_id": "",
       "version_major": 2,
       "version_minor": 0
      },
      "text/plain": [
       "  0%|          | 0/4001 [00:00<?, ?it/s]"
      ]
     },
     "metadata": {},
     "output_type": "display_data"
    },
    {
     "data": {
      "application/vnd.jupyter.widget-view+json": {
       "model_id": "",
       "version_major": 2,
       "version_minor": 0
      },
      "text/plain": [
       "  0%|          | 0/4001 [00:00<?, ?it/s]"
      ]
     },
     "metadata": {},
     "output_type": "display_data"
    },
    {
     "data": {
      "application/vnd.jupyter.widget-view+json": {
       "model_id": "",
       "version_major": 2,
       "version_minor": 0
      },
      "text/plain": [
       "  0%|          | 0/4001 [00:00<?, ?it/s]"
      ]
     },
     "metadata": {},
     "output_type": "display_data"
    },
    {
     "data": {
      "application/vnd.jupyter.widget-view+json": {
       "model_id": "",
       "version_major": 2,
       "version_minor": 0
      },
      "text/plain": [
       "  0%|          | 0/4001 [00:00<?, ?it/s]"
      ]
     },
     "metadata": {},
     "output_type": "display_data"
    },
    {
     "data": {
      "application/vnd.jupyter.widget-view+json": {
       "model_id": "",
       "version_major": 2,
       "version_minor": 0
      },
      "text/plain": [
       "  0%|          | 0/4001 [00:00<?, ?it/s]"
      ]
     },
     "metadata": {},
     "output_type": "display_data"
    },
    {
     "data": {
      "application/vnd.jupyter.widget-view+json": {
       "model_id": "",
       "version_major": 2,
       "version_minor": 0
      },
      "text/plain": [
       "  0%|          | 0/4001 [00:00<?, ?it/s]"
      ]
     },
     "metadata": {},
     "output_type": "display_data"
    },
    {
     "data": {
      "application/vnd.jupyter.widget-view+json": {
       "model_id": "",
       "version_major": 2,
       "version_minor": 0
      },
      "text/plain": [
       "  0%|          | 0/4001 [00:00<?, ?it/s]"
      ]
     },
     "metadata": {},
     "output_type": "display_data"
    },
    {
     "data": {
      "application/vnd.jupyter.widget-view+json": {
       "model_id": "",
       "version_major": 2,
       "version_minor": 0
      },
      "text/plain": [
       "  0%|          | 0/4001 [00:00<?, ?it/s]"
      ]
     },
     "metadata": {},
     "output_type": "display_data"
    },
    {
     "data": {
      "application/vnd.jupyter.widget-view+json": {
       "model_id": "",
       "version_major": 2,
       "version_minor": 0
      },
      "text/plain": [
       "  0%|          | 0/4001 [00:00<?, ?it/s]"
      ]
     },
     "metadata": {},
     "output_type": "display_data"
    },
    {
     "data": {
      "application/vnd.jupyter.widget-view+json": {
       "model_id": "",
       "version_major": 2,
       "version_minor": 0
      },
      "text/plain": [
       "  0%|          | 0/4001 [00:00<?, ?it/s]"
      ]
     },
     "metadata": {},
     "output_type": "display_data"
    },
    {
     "data": {
      "application/vnd.jupyter.widget-view+json": {
       "model_id": "",
       "version_major": 2,
       "version_minor": 0
      },
      "text/plain": [
       "  0%|          | 0/4001 [00:00<?, ?it/s]"
      ]
     },
     "metadata": {},
     "output_type": "display_data"
    },
    {
     "data": {
      "application/vnd.jupyter.widget-view+json": {
       "model_id": "",
       "version_major": 2,
       "version_minor": 0
      },
      "text/plain": [
       "  0%|          | 0/4001 [00:00<?, ?it/s]"
      ]
     },
     "metadata": {},
     "output_type": "display_data"
    },
    {
     "data": {
      "application/vnd.jupyter.widget-view+json": {
       "model_id": "",
       "version_major": 2,
       "version_minor": 0
      },
      "text/plain": [
       "  0%|          | 0/4001 [00:00<?, ?it/s]"
      ]
     },
     "metadata": {},
     "output_type": "display_data"
    },
    {
     "data": {
      "application/vnd.jupyter.widget-view+json": {
       "model_id": "",
       "version_major": 2,
       "version_minor": 0
      },
      "text/plain": [
       "  0%|          | 0/4001 [00:00<?, ?it/s]"
      ]
     },
     "metadata": {},
     "output_type": "display_data"
    },
    {
     "data": {
      "application/vnd.jupyter.widget-view+json": {
       "model_id": "",
       "version_major": 2,
       "version_minor": 0
      },
      "text/plain": [
       "  0%|          | 0/4001 [00:00<?, ?it/s]"
      ]
     },
     "metadata": {},
     "output_type": "display_data"
    },
    {
     "data": {
      "application/vnd.jupyter.widget-view+json": {
       "model_id": "",
       "version_major": 2,
       "version_minor": 0
      },
      "text/plain": [
       "  0%|          | 0/4001 [00:00<?, ?it/s]"
      ]
     },
     "metadata": {},
     "output_type": "display_data"
    },
    {
     "data": {
      "application/vnd.jupyter.widget-view+json": {
       "model_id": "",
       "version_major": 2,
       "version_minor": 0
      },
      "text/plain": [
       "  0%|          | 0/4001 [00:00<?, ?it/s]"
      ]
     },
     "metadata": {},
     "output_type": "display_data"
    },
    {
     "data": {
      "application/vnd.jupyter.widget-view+json": {
       "model_id": "",
       "version_major": 2,
       "version_minor": 0
      },
      "text/plain": [
       "  0%|          | 0/4001 [00:00<?, ?it/s]"
      ]
     },
     "metadata": {},
     "output_type": "display_data"
    },
    {
     "data": {
      "application/vnd.jupyter.widget-view+json": {
       "model_id": "",
       "version_major": 2,
       "version_minor": 0
      },
      "text/plain": [
       "  0%|          | 0/4001 [00:00<?, ?it/s]"
      ]
     },
     "metadata": {},
     "output_type": "display_data"
    },
    {
     "data": {
      "application/vnd.jupyter.widget-view+json": {
       "model_id": "",
       "version_major": 2,
       "version_minor": 0
      },
      "text/plain": [
       "  0%|          | 0/4001 [00:00<?, ?it/s]"
      ]
     },
     "metadata": {},
     "output_type": "display_data"
    },
    {
     "data": {
      "application/vnd.jupyter.widget-view+json": {
       "model_id": "",
       "version_major": 2,
       "version_minor": 0
      },
      "text/plain": [
       "  0%|          | 0/4001 [00:00<?, ?it/s]"
      ]
     },
     "metadata": {},
     "output_type": "display_data"
    },
    {
     "data": {
      "application/vnd.jupyter.widget-view+json": {
       "model_id": "",
       "version_major": 2,
       "version_minor": 0
      },
      "text/plain": [
       "  0%|          | 0/4001 [00:00<?, ?it/s]"
      ]
     },
     "metadata": {},
     "output_type": "display_data"
    },
    {
     "data": {
      "application/vnd.jupyter.widget-view+json": {
       "model_id": "",
       "version_major": 2,
       "version_minor": 0
      },
      "text/plain": [
       "  0%|          | 0/4001 [00:00<?, ?it/s]"
      ]
     },
     "metadata": {},
     "output_type": "display_data"
    },
    {
     "data": {
      "application/vnd.jupyter.widget-view+json": {
       "model_id": "",
       "version_major": 2,
       "version_minor": 0
      },
      "text/plain": [
       "  0%|          | 0/4001 [00:00<?, ?it/s]"
      ]
     },
     "metadata": {},
     "output_type": "display_data"
    },
    {
     "data": {
      "application/vnd.jupyter.widget-view+json": {
       "model_id": "",
       "version_major": 2,
       "version_minor": 0
      },
      "text/plain": [
       "  0%|          | 0/4001 [00:00<?, ?it/s]"
      ]
     },
     "metadata": {},
     "output_type": "display_data"
    },
    {
     "data": {
      "application/vnd.jupyter.widget-view+json": {
       "model_id": "",
       "version_major": 2,
       "version_minor": 0
      },
      "text/plain": [
       "  0%|          | 0/4001 [00:00<?, ?it/s]"
      ]
     },
     "metadata": {},
     "output_type": "display_data"
    },
    {
     "data": {
      "application/vnd.jupyter.widget-view+json": {
       "model_id": "",
       "version_major": 2,
       "version_minor": 0
      },
      "text/plain": [
       "  0%|          | 0/4001 [00:00<?, ?it/s]"
      ]
     },
     "metadata": {},
     "output_type": "display_data"
    },
    {
     "data": {
      "application/vnd.jupyter.widget-view+json": {
       "model_id": "",
       "version_major": 2,
       "version_minor": 0
      },
      "text/plain": [
       "  0%|          | 0/4001 [00:00<?, ?it/s]"
      ]
     },
     "metadata": {},
     "output_type": "display_data"
    },
    {
     "data": {
      "application/vnd.jupyter.widget-view+json": {
       "model_id": "",
       "version_major": 2,
       "version_minor": 0
      },
      "text/plain": [
       "  0%|          | 0/4001 [00:00<?, ?it/s]"
      ]
     },
     "metadata": {},
     "output_type": "display_data"
    },
    {
     "data": {
      "application/vnd.jupyter.widget-view+json": {
       "model_id": "",
       "version_major": 2,
       "version_minor": 0
      },
      "text/plain": [
       "  0%|          | 0/4001 [00:00<?, ?it/s]"
      ]
     },
     "metadata": {},
     "output_type": "display_data"
    },
    {
     "data": {
      "application/vnd.jupyter.widget-view+json": {
       "model_id": "",
       "version_major": 2,
       "version_minor": 0
      },
      "text/plain": [
       "  0%|          | 0/4001 [00:00<?, ?it/s]"
      ]
     },
     "metadata": {},
     "output_type": "display_data"
    },
    {
     "data": {
      "application/vnd.jupyter.widget-view+json": {
       "model_id": "",
       "version_major": 2,
       "version_minor": 0
      },
      "text/plain": [
       "  0%|          | 0/4001 [00:00<?, ?it/s]"
      ]
     },
     "metadata": {},
     "output_type": "display_data"
    },
    {
     "data": {
      "application/vnd.jupyter.widget-view+json": {
       "model_id": "",
       "version_major": 2,
       "version_minor": 0
      },
      "text/plain": [
       "  0%|          | 0/4001 [00:00<?, ?it/s]"
      ]
     },
     "metadata": {},
     "output_type": "display_data"
    },
    {
     "data": {
      "application/vnd.jupyter.widget-view+json": {
       "model_id": "",
       "version_major": 2,
       "version_minor": 0
      },
      "text/plain": [
       "  0%|          | 0/4001 [00:00<?, ?it/s]"
      ]
     },
     "metadata": {},
     "output_type": "display_data"
    },
    {
     "data": {
      "application/vnd.jupyter.widget-view+json": {
       "model_id": "",
       "version_major": 2,
       "version_minor": 0
      },
      "text/plain": [
       "  0%|          | 0/4001 [00:00<?, ?it/s]"
      ]
     },
     "metadata": {},
     "output_type": "display_data"
    },
    {
     "data": {
      "application/vnd.jupyter.widget-view+json": {
       "model_id": "",
       "version_major": 2,
       "version_minor": 0
      },
      "text/plain": [
       "  0%|          | 0/4001 [00:00<?, ?it/s]"
      ]
     },
     "metadata": {},
     "output_type": "display_data"
    },
    {
     "data": {
      "application/vnd.jupyter.widget-view+json": {
       "model_id": "",
       "version_major": 2,
       "version_minor": 0
      },
      "text/plain": [
       "  0%|          | 0/4001 [00:00<?, ?it/s]"
      ]
     },
     "metadata": {},
     "output_type": "display_data"
    },
    {
     "data": {
      "application/vnd.jupyter.widget-view+json": {
       "model_id": "",
       "version_major": 2,
       "version_minor": 0
      },
      "text/plain": [
       "  0%|          | 0/4001 [00:00<?, ?it/s]"
      ]
     },
     "metadata": {},
     "output_type": "display_data"
    },
    {
     "data": {
      "application/vnd.jupyter.widget-view+json": {
       "model_id": "",
       "version_major": 2,
       "version_minor": 0
      },
      "text/plain": [
       "  0%|          | 0/4001 [00:00<?, ?it/s]"
      ]
     },
     "metadata": {},
     "output_type": "display_data"
    },
    {
     "data": {
      "application/vnd.jupyter.widget-view+json": {
       "model_id": "",
       "version_major": 2,
       "version_minor": 0
      },
      "text/plain": [
       "  0%|          | 0/4001 [00:00<?, ?it/s]"
      ]
     },
     "metadata": {},
     "output_type": "display_data"
    },
    {
     "data": {
      "application/vnd.jupyter.widget-view+json": {
       "model_id": "",
       "version_major": 2,
       "version_minor": 0
      },
      "text/plain": [
       "  0%|          | 0/4001 [00:00<?, ?it/s]"
      ]
     },
     "metadata": {},
     "output_type": "display_data"
    },
    {
     "data": {
      "application/vnd.jupyter.widget-view+json": {
       "model_id": "",
       "version_major": 2,
       "version_minor": 0
      },
      "text/plain": [
       "  0%|          | 0/4001 [00:00<?, ?it/s]"
      ]
     },
     "metadata": {},
     "output_type": "display_data"
    },
    {
     "data": {
      "application/vnd.jupyter.widget-view+json": {
       "model_id": "",
       "version_major": 2,
       "version_minor": 0
      },
      "text/plain": [
       "  0%|          | 0/4001 [00:00<?, ?it/s]"
      ]
     },
     "metadata": {},
     "output_type": "display_data"
    },
    {
     "data": {
      "application/vnd.jupyter.widget-view+json": {
       "model_id": "",
       "version_major": 2,
       "version_minor": 0
      },
      "text/plain": [
       "  0%|          | 0/4001 [00:00<?, ?it/s]"
      ]
     },
     "metadata": {},
     "output_type": "display_data"
    },
    {
     "data": {
      "application/vnd.jupyter.widget-view+json": {
       "model_id": "",
       "version_major": 2,
       "version_minor": 0
      },
      "text/plain": [
       "  0%|          | 0/4001 [00:00<?, ?it/s]"
      ]
     },
     "metadata": {},
     "output_type": "display_data"
    },
    {
     "data": {
      "application/vnd.jupyter.widget-view+json": {
       "model_id": "",
       "version_major": 2,
       "version_minor": 0
      },
      "text/plain": [
       "  0%|          | 0/4001 [00:00<?, ?it/s]"
      ]
     },
     "metadata": {},
     "output_type": "display_data"
    },
    {
     "data": {
      "application/vnd.jupyter.widget-view+json": {
       "model_id": "",
       "version_major": 2,
       "version_minor": 0
      },
      "text/plain": [
       "  0%|          | 0/4001 [00:00<?, ?it/s]"
      ]
     },
     "metadata": {},
     "output_type": "display_data"
    },
    {
     "data": {
      "application/vnd.jupyter.widget-view+json": {
       "model_id": "",
       "version_major": 2,
       "version_minor": 0
      },
      "text/plain": [
       "  0%|          | 0/4001 [00:00<?, ?it/s]"
      ]
     },
     "metadata": {},
     "output_type": "display_data"
    },
    {
     "data": {
      "application/vnd.jupyter.widget-view+json": {
       "model_id": "",
       "version_major": 2,
       "version_minor": 0
      },
      "text/plain": [
       "  0%|          | 0/4001 [00:00<?, ?it/s]"
      ]
     },
     "metadata": {},
     "output_type": "display_data"
    },
    {
     "data": {
      "application/vnd.jupyter.widget-view+json": {
       "model_id": "",
       "version_major": 2,
       "version_minor": 0
      },
      "text/plain": [
       "  0%|          | 0/4001 [00:00<?, ?it/s]"
      ]
     },
     "metadata": {},
     "output_type": "display_data"
    },
    {
     "data": {
      "application/vnd.jupyter.widget-view+json": {
       "model_id": "",
       "version_major": 2,
       "version_minor": 0
      },
      "text/plain": [
       "  0%|          | 0/4001 [00:00<?, ?it/s]"
      ]
     },
     "metadata": {},
     "output_type": "display_data"
    },
    {
     "data": {
      "application/vnd.jupyter.widget-view+json": {
       "model_id": "",
       "version_major": 2,
       "version_minor": 0
      },
      "text/plain": [
       "  0%|          | 0/4001 [00:00<?, ?it/s]"
      ]
     },
     "metadata": {},
     "output_type": "display_data"
    },
    {
     "data": {
      "application/vnd.jupyter.widget-view+json": {
       "model_id": "",
       "version_major": 2,
       "version_minor": 0
      },
      "text/plain": [
       "  0%|          | 0/4001 [00:00<?, ?it/s]"
      ]
     },
     "metadata": {},
     "output_type": "display_data"
    },
    {
     "data": {
      "application/vnd.jupyter.widget-view+json": {
       "model_id": "",
       "version_major": 2,
       "version_minor": 0
      },
      "text/plain": [
       "  0%|          | 0/4001 [00:00<?, ?it/s]"
      ]
     },
     "metadata": {},
     "output_type": "display_data"
    },
    {
     "data": {
      "application/vnd.jupyter.widget-view+json": {
       "model_id": "",
       "version_major": 2,
       "version_minor": 0
      },
      "text/plain": [
       "  0%|          | 0/4001 [00:00<?, ?it/s]"
      ]
     },
     "metadata": {},
     "output_type": "display_data"
    },
    {
     "data": {
      "application/vnd.jupyter.widget-view+json": {
       "model_id": "",
       "version_major": 2,
       "version_minor": 0
      },
      "text/plain": [
       "  0%|          | 0/4001 [00:00<?, ?it/s]"
      ]
     },
     "metadata": {},
     "output_type": "display_data"
    },
    {
     "data": {
      "application/vnd.jupyter.widget-view+json": {
       "model_id": "",
       "version_major": 2,
       "version_minor": 0
      },
      "text/plain": [
       "  0%|          | 0/4001 [00:00<?, ?it/s]"
      ]
     },
     "metadata": {},
     "output_type": "display_data"
    },
    {
     "data": {
      "application/vnd.jupyter.widget-view+json": {
       "model_id": "",
       "version_major": 2,
       "version_minor": 0
      },
      "text/plain": [
       "  0%|          | 0/4001 [00:00<?, ?it/s]"
      ]
     },
     "metadata": {},
     "output_type": "display_data"
    },
    {
     "data": {
      "application/vnd.jupyter.widget-view+json": {
       "model_id": "",
       "version_major": 2,
       "version_minor": 0
      },
      "text/plain": [
       "  0%|          | 0/4001 [00:00<?, ?it/s]"
      ]
     },
     "metadata": {},
     "output_type": "display_data"
    },
    {
     "data": {
      "application/vnd.jupyter.widget-view+json": {
       "model_id": "",
       "version_major": 2,
       "version_minor": 0
      },
      "text/plain": [
       "  0%|          | 0/4001 [00:00<?, ?it/s]"
      ]
     },
     "metadata": {},
     "output_type": "display_data"
    },
    {
     "data": {
      "application/vnd.jupyter.widget-view+json": {
       "model_id": "",
       "version_major": 2,
       "version_minor": 0
      },
      "text/plain": [
       "  0%|          | 0/4001 [00:00<?, ?it/s]"
      ]
     },
     "metadata": {},
     "output_type": "display_data"
    },
    {
     "data": {
      "application/vnd.jupyter.widget-view+json": {
       "model_id": "",
       "version_major": 2,
       "version_minor": 0
      },
      "text/plain": [
       "  0%|          | 0/4001 [00:00<?, ?it/s]"
      ]
     },
     "metadata": {},
     "output_type": "display_data"
    },
    {
     "data": {
      "application/vnd.jupyter.widget-view+json": {
       "model_id": "",
       "version_major": 2,
       "version_minor": 0
      },
      "text/plain": [
       "  0%|          | 0/4001 [00:00<?, ?it/s]"
      ]
     },
     "metadata": {},
     "output_type": "display_data"
    },
    {
     "data": {
      "application/vnd.jupyter.widget-view+json": {
       "model_id": "",
       "version_major": 2,
       "version_minor": 0
      },
      "text/plain": [
       "  0%|          | 0/4001 [00:00<?, ?it/s]"
      ]
     },
     "metadata": {},
     "output_type": "display_data"
    },
    {
     "data": {
      "application/vnd.jupyter.widget-view+json": {
       "model_id": "",
       "version_major": 2,
       "version_minor": 0
      },
      "text/plain": [
       "  0%|          | 0/4001 [00:00<?, ?it/s]"
      ]
     },
     "metadata": {},
     "output_type": "display_data"
    },
    {
     "data": {
      "application/vnd.jupyter.widget-view+json": {
       "model_id": "",
       "version_major": 2,
       "version_minor": 0
      },
      "text/plain": [
       "  0%|          | 0/4001 [00:00<?, ?it/s]"
      ]
     },
     "metadata": {},
     "output_type": "display_data"
    },
    {
     "data": {
      "application/vnd.jupyter.widget-view+json": {
       "model_id": "",
       "version_major": 2,
       "version_minor": 0
      },
      "text/plain": [
       "  0%|          | 0/4001 [00:00<?, ?it/s]"
      ]
     },
     "metadata": {},
     "output_type": "display_data"
    },
    {
     "data": {
      "application/vnd.jupyter.widget-view+json": {
       "model_id": "",
       "version_major": 2,
       "version_minor": 0
      },
      "text/plain": [
       "  0%|          | 0/4001 [00:00<?, ?it/s]"
      ]
     },
     "metadata": {},
     "output_type": "display_data"
    },
    {
     "data": {
      "application/vnd.jupyter.widget-view+json": {
       "model_id": "",
       "version_major": 2,
       "version_minor": 0
      },
      "text/plain": [
       "  0%|          | 0/4001 [00:00<?, ?it/s]"
      ]
     },
     "metadata": {},
     "output_type": "display_data"
    },
    {
     "data": {
      "application/vnd.jupyter.widget-view+json": {
       "model_id": "",
       "version_major": 2,
       "version_minor": 0
      },
      "text/plain": [
       "  0%|          | 0/4001 [00:00<?, ?it/s]"
      ]
     },
     "metadata": {},
     "output_type": "display_data"
    },
    {
     "data": {
      "application/vnd.jupyter.widget-view+json": {
       "model_id": "",
       "version_major": 2,
       "version_minor": 0
      },
      "text/plain": [
       "  0%|          | 0/4001 [00:00<?, ?it/s]"
      ]
     },
     "metadata": {},
     "output_type": "display_data"
    },
    {
     "data": {
      "application/vnd.jupyter.widget-view+json": {
       "model_id": "",
       "version_major": 2,
       "version_minor": 0
      },
      "text/plain": [
       "  0%|          | 0/4001 [00:00<?, ?it/s]"
      ]
     },
     "metadata": {},
     "output_type": "display_data"
    },
    {
     "data": {
      "application/vnd.jupyter.widget-view+json": {
       "model_id": "",
       "version_major": 2,
       "version_minor": 0
      },
      "text/plain": [
       "  0%|          | 0/4001 [00:00<?, ?it/s]"
      ]
     },
     "metadata": {},
     "output_type": "display_data"
    },
    {
     "data": {
      "application/vnd.jupyter.widget-view+json": {
       "model_id": "",
       "version_major": 2,
       "version_minor": 0
      },
      "text/plain": [
       "  0%|          | 0/4001 [00:00<?, ?it/s]"
      ]
     },
     "metadata": {},
     "output_type": "display_data"
    },
    {
     "data": {
      "application/vnd.jupyter.widget-view+json": {
       "model_id": "",
       "version_major": 2,
       "version_minor": 0
      },
      "text/plain": [
       "  0%|          | 0/4001 [00:00<?, ?it/s]"
      ]
     },
     "metadata": {},
     "output_type": "display_data"
    },
    {
     "data": {
      "application/vnd.jupyter.widget-view+json": {
       "model_id": "",
       "version_major": 2,
       "version_minor": 0
      },
      "text/plain": [
       "  0%|          | 0/4001 [00:00<?, ?it/s]"
      ]
     },
     "metadata": {},
     "output_type": "display_data"
    },
    {
     "data": {
      "application/vnd.jupyter.widget-view+json": {
       "model_id": "",
       "version_major": 2,
       "version_minor": 0
      },
      "text/plain": [
       "  0%|          | 0/4001 [00:00<?, ?it/s]"
      ]
     },
     "metadata": {},
     "output_type": "display_data"
    },
    {
     "data": {
      "application/vnd.jupyter.widget-view+json": {
       "model_id": "",
       "version_major": 2,
       "version_minor": 0
      },
      "text/plain": [
       "  0%|          | 0/4001 [00:00<?, ?it/s]"
      ]
     },
     "metadata": {},
     "output_type": "display_data"
    },
    {
     "data": {
      "application/vnd.jupyter.widget-view+json": {
       "model_id": "",
       "version_major": 2,
       "version_minor": 0
      },
      "text/plain": [
       "  0%|          | 0/4001 [00:00<?, ?it/s]"
      ]
     },
     "metadata": {},
     "output_type": "display_data"
    },
    {
     "data": {
      "application/vnd.jupyter.widget-view+json": {
       "model_id": "",
       "version_major": 2,
       "version_minor": 0
      },
      "text/plain": [
       "  0%|          | 0/4001 [00:00<?, ?it/s]"
      ]
     },
     "metadata": {},
     "output_type": "display_data"
    },
    {
     "data": {
      "application/vnd.jupyter.widget-view+json": {
       "model_id": "",
       "version_major": 2,
       "version_minor": 0
      },
      "text/plain": [
       "  0%|          | 0/4001 [00:00<?, ?it/s]"
      ]
     },
     "metadata": {},
     "output_type": "display_data"
    },
    {
     "data": {
      "application/vnd.jupyter.widget-view+json": {
       "model_id": "",
       "version_major": 2,
       "version_minor": 0
      },
      "text/plain": [
       "  0%|          | 0/4001 [00:00<?, ?it/s]"
      ]
     },
     "metadata": {},
     "output_type": "display_data"
    },
    {
     "data": {
      "application/vnd.jupyter.widget-view+json": {
       "model_id": "",
       "version_major": 2,
       "version_minor": 0
      },
      "text/plain": [
       "  0%|          | 0/4001 [00:00<?, ?it/s]"
      ]
     },
     "metadata": {},
     "output_type": "display_data"
    },
    {
     "data": {
      "application/vnd.jupyter.widget-view+json": {
       "model_id": "",
       "version_major": 2,
       "version_minor": 0
      },
      "text/plain": [
       "  0%|          | 0/4001 [00:00<?, ?it/s]"
      ]
     },
     "metadata": {},
     "output_type": "display_data"
    },
    {
     "data": {
      "application/vnd.jupyter.widget-view+json": {
       "model_id": "",
       "version_major": 2,
       "version_minor": 0
      },
      "text/plain": [
       "  0%|          | 0/4001 [00:00<?, ?it/s]"
      ]
     },
     "metadata": {},
     "output_type": "display_data"
    },
    {
     "data": {
      "application/vnd.jupyter.widget-view+json": {
       "model_id": "",
       "version_major": 2,
       "version_minor": 0
      },
      "text/plain": [
       "  0%|          | 0/4001 [00:00<?, ?it/s]"
      ]
     },
     "metadata": {},
     "output_type": "display_data"
    },
    {
     "data": {
      "application/vnd.jupyter.widget-view+json": {
       "model_id": "",
       "version_major": 2,
       "version_minor": 0
      },
      "text/plain": [
       "  0%|          | 0/4001 [00:00<?, ?it/s]"
      ]
     },
     "metadata": {},
     "output_type": "display_data"
    },
    {
     "data": {
      "application/vnd.jupyter.widget-view+json": {
       "model_id": "",
       "version_major": 2,
       "version_minor": 0
      },
      "text/plain": [
       "  0%|          | 0/4001 [00:00<?, ?it/s]"
      ]
     },
     "metadata": {},
     "output_type": "display_data"
    },
    {
     "data": {
      "application/vnd.jupyter.widget-view+json": {
       "model_id": "",
       "version_major": 2,
       "version_minor": 0
      },
      "text/plain": [
       "  0%|          | 0/4001 [00:00<?, ?it/s]"
      ]
     },
     "metadata": {},
     "output_type": "display_data"
    },
    {
     "data": {
      "application/vnd.jupyter.widget-view+json": {
       "model_id": "1ff51228088f47d08ffbe577085490d6",
       "version_major": 2,
       "version_minor": 0
      },
      "text/plain": [
       "  0%|          | 0/4001 [00:00<?, ?it/s]"
      ]
     },
     "metadata": {},
     "output_type": "display_data"
    },
    {
     "data": {
      "application/vnd.jupyter.widget-view+json": {
       "model_id": "1ff51228088f47d08ffbe577085490d6",
       "version_major": 2,
       "version_minor": 0
      },
      "text/plain": [
       "  0%|          | 0/4001 [00:00<?, ?it/s]"
      ]
     },
     "metadata": {},
     "output_type": "display_data"
    }
   ],
   "source": [
    "for i_v in trange(len(vectors)):\n",
    "    wiki_bench[i_v]['cos_sim']=np.zeros(len(wikivecs))\n",
    "    for i_w, wikivec in enumerate(tqdm(wikivecs, leave=False)):\n",
    "        wiki_bench[i_v]['cos_sim'][i_w]=float(util.cos_sim(wikivec, vectors[i_v]['vector']))"
   ]
  },
  {
   "cell_type": "markdown",
   "id": "07893020",
   "metadata": {},
   "source": [
    "## All SDGs"
   ]
  },
  {
   "cell_type": "code",
   "execution_count": 47,
   "id": "62f71836",
   "metadata": {
    "ExecuteTime": {
     "end_time": "2025-06-12T09:32:20.781214Z",
     "start_time": "2025-06-12T09:32:20.775424Z"
    }
   },
   "outputs": [],
   "source": [
    "cos_sims_global=np.zeros(len(years), dtype=[('mean', 'f8'), ('all', object), ('p_val', object)])"
   ]
  },
  {
   "cell_type": "code",
   "execution_count": 48,
   "id": "d6c8490d",
   "metadata": {
    "ExecuteTime": {
     "end_time": "2025-06-12T09:32:21.283023Z",
     "start_time": "2025-06-12T09:32:20.784392Z"
    }
   },
   "outputs": [
    {
     "data": {
      "application/vnd.jupyter.widget-view+json": {
       "model_id": "",
       "version_major": 2,
       "version_minor": 0
      },
      "text/plain": [
       "  0%|          | 0/9 [00:00<?, ?it/s]"
      ]
     },
     "metadata": {},
     "output_type": "display_data"
    },
    {
     "data": {
      "application/vnd.jupyter.widget-view+json": {
       "model_id": "",
       "version_major": 2,
       "version_minor": 0
      },
      "text/plain": [
       "  0%|          | 0/40 [00:00<?, ?it/s]"
      ]
     },
     "metadata": {},
     "output_type": "display_data"
    },
    {
     "data": {
      "application/vnd.jupyter.widget-view+json": {
       "model_id": "",
       "version_major": 2,
       "version_minor": 0
      },
      "text/plain": [
       "  0%|          | 0/44 [00:00<?, ?it/s]"
      ]
     },
     "metadata": {},
     "output_type": "display_data"
    },
    {
     "data": {
      "application/vnd.jupyter.widget-view+json": {
       "model_id": "",
       "version_major": 2,
       "version_minor": 0
      },
      "text/plain": [
       "  0%|          | 0/51 [00:00<?, ?it/s]"
      ]
     },
     "metadata": {},
     "output_type": "display_data"
    },
    {
     "data": {
      "application/vnd.jupyter.widget-view+json": {
       "model_id": "",
       "version_major": 2,
       "version_minor": 0
      },
      "text/plain": [
       "  0%|          | 0/56 [00:00<?, ?it/s]"
      ]
     },
     "metadata": {},
     "output_type": "display_data"
    },
    {
     "data": {
      "application/vnd.jupyter.widget-view+json": {
       "model_id": "",
       "version_major": 2,
       "version_minor": 0
      },
      "text/plain": [
       "  0%|          | 0/67 [00:00<?, ?it/s]"
      ]
     },
     "metadata": {},
     "output_type": "display_data"
    },
    {
     "data": {
      "application/vnd.jupyter.widget-view+json": {
       "model_id": "",
       "version_major": 2,
       "version_minor": 0
      },
      "text/plain": [
       "  0%|          | 0/69 [00:00<?, ?it/s]"
      ]
     },
     "metadata": {},
     "output_type": "display_data"
    },
    {
     "data": {
      "application/vnd.jupyter.widget-view+json": {
       "model_id": "",
       "version_major": 2,
       "version_minor": 0
      },
      "text/plain": [
       "  0%|          | 0/76 [00:00<?, ?it/s]"
      ]
     },
     "metadata": {},
     "output_type": "display_data"
    },
    {
     "data": {
      "application/vnd.jupyter.widget-view+json": {
       "model_id": "",
       "version_major": 2,
       "version_minor": 0
      },
      "text/plain": [
       "  0%|          | 0/80 [00:00<?, ?it/s]"
      ]
     },
     "metadata": {},
     "output_type": "display_data"
    },
    {
     "data": {
      "application/vnd.jupyter.widget-view+json": {
       "model_id": "",
       "version_major": 2,
       "version_minor": 0
      },
      "text/plain": [
       "  0%|          | 0/90 [00:00<?, ?it/s]"
      ]
     },
     "metadata": {},
     "output_type": "display_data"
    }
   ],
   "source": [
    "for i_y, year in enumerate(tqdm(years)):\n",
    "    vecs_y=vectors[vectors['year']==year]['vector']\n",
    "    wiki_bench_y=wiki_bench[vectors['year']==year]['cos_sim']\n",
    "    cos_sims_global[i_y]['all']=np.zeros(len(vecs_y))\n",
    "    cos_sims_global[i_y]['p_val']=np.zeros(len(vecs_y))\n",
    "    for i_vec, vec in enumerate(tqdm(vecs_y, leave=False)):\n",
    "        _cos_sim=float(util.cos_sim(goalvecs[-1], vec))\n",
    "        cos_sims_global[i_y]['all'][i_vec]=_cos_sim\n",
    "        cos_sims_global[i_y]['p_val'][i_vec]=np.sum(wiki_bench_y[i_vec]>=_cos_sim)/len(wikivecs)\n",
    "    cos_sims_global[i_y]['mean']=np.mean(cos_sims_global[i_y]['all'])"
   ]
  },
  {
   "cell_type": "code",
   "execution_count": 50,
   "id": "dd95c3f5",
   "metadata": {
    "ExecuteTime": {
     "end_time": "2025-06-12T09:36:50.525924Z",
     "start_time": "2025-06-12T09:36:50.493073Z"
    }
   },
   "outputs": [
    {
     "data": {
      "application/vnd.jupyter.widget-view+json": {
       "model_id": "",
       "version_major": 2,
       "version_minor": 0
      },
      "text/plain": [
       "  0%|          | 0/9 [00:00<?, ?it/s]"
      ]
     },
     "metadata": {},
     "output_type": "display_data"
    },
    {
     "name": "stdout",
     "output_type": "stream",
     "text": [
      "2015) len(validated_companies)=0\n",
      "2016) len(validated_companies)=0\n",
      "2017) len(validated_companies)=0\n",
      "2018) len(validated_companies)=0\n",
      "2019) len(validated_companies)=0\n",
      "2020) len(validated_companies)=3\n",
      "\t\tcroda_international       sector=Basic Materials\n",
      "\t\treckitt_benckiser_group   sector=Consumer Staples\n",
      "\t\tbp                        sector=Energy\n",
      "2021) len(validated_companies)=2\n",
      "\t\treckitt_benckiser_group   sector=Consumer Staples\n",
      "\t\trenewi                    sector=Utilities\n",
      "2022) len(validated_companies)=0\n",
      "2023) len(validated_companies)=0\n"
     ]
    }
   ],
   "source": [
    "for i_y, year in enumerate(tqdm(years)):\n",
    "    _fdr_th=fdr_th(cos_sims_global[i_y]['p_val'], alpha)\n",
    "    compa_y=vectors[vectors['year']==year]['company']\n",
    "    sec_y=vectors[vectors['year']==year]['sector']\n",
    "    validated_compa=compa_y[cos_sims_global[i_y]['p_val']<=_fdr_th]\n",
    "    validated_sec=sec_y[cos_sims_global[i_y]['p_val']<=_fdr_th]\n",
    "    print(f'{year:}) len(validated_companies)={len(validated_compa):}')\n",
    "    if len(validated_compa)>0:\n",
    "        for i_vc, vc in enumerate(validated_compa):\n",
    "            print(f'\\t\\t{vc:25} sector={sec_helper[validated_sec[i_vc]]:}')"
   ]
  },
  {
   "cell_type": "markdown",
   "id": "533c479b",
   "metadata": {},
   "source": [
    "## Clustered SDGs"
   ]
  },
  {
   "cell_type": "markdown",
   "id": "f59e3bbf",
   "metadata": {},
   "source": [
    "### Define cSDGs"
   ]
  },
  {
   "cell_type": "code",
   "execution_count": 52,
   "id": "196e3205",
   "metadata": {
    "ExecuteTime": {
     "end_time": "2025-06-12T09:41:19.083945Z",
     "start_time": "2025-06-12T09:41:19.076808Z"
    }
   },
   "outputs": [],
   "source": [
    "social_sdgs=['01','02','03','04','05','10','16','17']\n",
    "economic_sdgs=['07','08','09','11','12']\n",
    "environmental_sdgs=['06','13','14','15']"
   ]
  },
  {
   "cell_type": "code",
   "execution_count": 53,
   "id": "9085f64a",
   "metadata": {
    "ExecuteTime": {
     "end_time": "2025-06-12T09:41:22.395044Z",
     "start_time": "2025-06-12T09:41:22.374697Z"
    }
   },
   "outputs": [],
   "source": [
    "social_vec=[np.genfromtxt(PCA_CENTR_VECTOR_FOLDER+goalvecfile) for goalvecfile in goalvecfiles if any([sdg in goalvecfile for sdg in social_sdgs])]\n",
    "social_vec=np.mean(social_vec, axis=0)"
   ]
  },
  {
   "cell_type": "code",
   "execution_count": 54,
   "id": "6f0e03ed",
   "metadata": {
    "ExecuteTime": {
     "end_time": "2025-06-12T09:41:22.715521Z",
     "start_time": "2025-06-12T09:41:22.698863Z"
    }
   },
   "outputs": [],
   "source": [
    "economic_vec=[np.genfromtxt(PCA_CENTR_VECTOR_FOLDER+goalvecfile) for goalvecfile in goalvecfiles if any([sdg in goalvecfile for sdg in economic_sdgs])]\n",
    "economic_vec=np.mean(economic_vec, axis=0)"
   ]
  },
  {
   "cell_type": "code",
   "execution_count": 55,
   "id": "2dc359c0",
   "metadata": {
    "ExecuteTime": {
     "end_time": "2025-06-12T09:41:23.036901Z",
     "start_time": "2025-06-12T09:41:23.001276Z"
    }
   },
   "outputs": [],
   "source": [
    "environmental_vec=[np.genfromtxt(PCA_CENTR_VECTOR_FOLDER+goalvecfile) for goalvecfile in goalvecfiles if any([sdg in goalvecfile for sdg in environmental_sdgs])]\n",
    "environmental_vec=np.mean(environmental_vec, axis=0)"
   ]
  },
  {
   "cell_type": "code",
   "execution_count": 56,
   "id": "70c7caaa",
   "metadata": {
    "ExecuteTime": {
     "end_time": "2025-06-12T09:41:23.396180Z",
     "start_time": "2025-06-12T09:41:23.390435Z"
    }
   },
   "outputs": [],
   "source": [
    "clustered_sdgs=np.array([social_vec, economic_vec, environmental_vec])"
   ]
  },
  {
   "cell_type": "code",
   "execution_count": 57,
   "id": "0c0e72f9",
   "metadata": {
    "ExecuteTime": {
     "end_time": "2025-06-12T09:41:23.845787Z",
     "start_time": "2025-06-12T09:41:23.837088Z"
    }
   },
   "outputs": [
    {
     "data": {
      "text/plain": [
       "(3, 63)"
      ]
     },
     "execution_count": 57,
     "metadata": {},
     "output_type": "execute_result"
    }
   ],
   "source": [
    "clustered_sdgs.shape"
   ]
  },
  {
   "cell_type": "code",
   "execution_count": 59,
   "id": "170b76f6",
   "metadata": {
    "ExecuteTime": {
     "end_time": "2025-06-12T09:43:05.441236Z",
     "start_time": "2025-06-12T09:43:05.425773Z"
    }
   },
   "outputs": [],
   "source": [
    "cSDGS_names=['social', 'economic', 'environmental']"
   ]
  },
  {
   "cell_type": "code",
   "execution_count": 61,
   "id": "f4748ff6",
   "metadata": {
    "ExecuteTime": {
     "end_time": "2025-06-12T09:45:07.817146Z",
     "start_time": "2025-06-12T09:45:07.811363Z"
    }
   },
   "outputs": [],
   "source": [
    "l_csdgs=len(cSDGS_names)"
   ]
  },
  {
   "cell_type": "markdown",
   "id": "45cd52e7",
   "metadata": {},
   "source": [
    "### Cosine similarity validation"
   ]
  },
  {
   "cell_type": "code",
   "execution_count": 60,
   "id": "0db949eb",
   "metadata": {
    "ExecuteTime": {
     "end_time": "2025-06-12T09:43:06.067403Z",
     "start_time": "2025-06-12T09:43:06.060728Z"
    }
   },
   "outputs": [],
   "source": [
    "cos_sims_cSDGs=np.zeros(len(years)*len(cSDGS_names), dtype=[('cSDG', 'U20'), ('mean', 'f8'), ('all', object), ('p_val', object)])"
   ]
  },
  {
   "cell_type": "code",
   "execution_count": 63,
   "id": "7d1bfe8e",
   "metadata": {
    "ExecuteTime": {
     "end_time": "2025-06-12T09:47:17.825666Z",
     "start_time": "2025-06-12T09:47:16.655523Z"
    }
   },
   "outputs": [
    {
     "data": {
      "application/vnd.jupyter.widget-view+json": {
       "model_id": "",
       "version_major": 2,
       "version_minor": 0
      },
      "text/plain": [
       "  0%|          | 0/9 [00:00<?, ?it/s]"
      ]
     },
     "metadata": {},
     "output_type": "display_data"
    },
    {
     "data": {
      "application/vnd.jupyter.widget-view+json": {
       "model_id": "",
       "version_major": 2,
       "version_minor": 0
      },
      "text/plain": [
       "  0%|          | 0/40 [00:00<?, ?it/s]"
      ]
     },
     "metadata": {},
     "output_type": "display_data"
    },
    {
     "data": {
      "application/vnd.jupyter.widget-view+json": {
       "model_id": "",
       "version_major": 2,
       "version_minor": 0
      },
      "text/plain": [
       "  0%|          | 0/40 [00:00<?, ?it/s]"
      ]
     },
     "metadata": {},
     "output_type": "display_data"
    },
    {
     "data": {
      "application/vnd.jupyter.widget-view+json": {
       "model_id": "",
       "version_major": 2,
       "version_minor": 0
      },
      "text/plain": [
       "  0%|          | 0/40 [00:00<?, ?it/s]"
      ]
     },
     "metadata": {},
     "output_type": "display_data"
    },
    {
     "data": {
      "application/vnd.jupyter.widget-view+json": {
       "model_id": "",
       "version_major": 2,
       "version_minor": 0
      },
      "text/plain": [
       "  0%|          | 0/44 [00:00<?, ?it/s]"
      ]
     },
     "metadata": {},
     "output_type": "display_data"
    },
    {
     "data": {
      "application/vnd.jupyter.widget-view+json": {
       "model_id": "",
       "version_major": 2,
       "version_minor": 0
      },
      "text/plain": [
       "  0%|          | 0/44 [00:00<?, ?it/s]"
      ]
     },
     "metadata": {},
     "output_type": "display_data"
    },
    {
     "data": {
      "application/vnd.jupyter.widget-view+json": {
       "model_id": "",
       "version_major": 2,
       "version_minor": 0
      },
      "text/plain": [
       "  0%|          | 0/44 [00:00<?, ?it/s]"
      ]
     },
     "metadata": {},
     "output_type": "display_data"
    },
    {
     "data": {
      "application/vnd.jupyter.widget-view+json": {
       "model_id": "",
       "version_major": 2,
       "version_minor": 0
      },
      "text/plain": [
       "  0%|          | 0/51 [00:00<?, ?it/s]"
      ]
     },
     "metadata": {},
     "output_type": "display_data"
    },
    {
     "data": {
      "application/vnd.jupyter.widget-view+json": {
       "model_id": "",
       "version_major": 2,
       "version_minor": 0
      },
      "text/plain": [
       "  0%|          | 0/51 [00:00<?, ?it/s]"
      ]
     },
     "metadata": {},
     "output_type": "display_data"
    },
    {
     "data": {
      "application/vnd.jupyter.widget-view+json": {
       "model_id": "",
       "version_major": 2,
       "version_minor": 0
      },
      "text/plain": [
       "  0%|          | 0/51 [00:00<?, ?it/s]"
      ]
     },
     "metadata": {},
     "output_type": "display_data"
    },
    {
     "data": {
      "application/vnd.jupyter.widget-view+json": {
       "model_id": "",
       "version_major": 2,
       "version_minor": 0
      },
      "text/plain": [
       "  0%|          | 0/56 [00:00<?, ?it/s]"
      ]
     },
     "metadata": {},
     "output_type": "display_data"
    },
    {
     "data": {
      "application/vnd.jupyter.widget-view+json": {
       "model_id": "",
       "version_major": 2,
       "version_minor": 0
      },
      "text/plain": [
       "  0%|          | 0/56 [00:00<?, ?it/s]"
      ]
     },
     "metadata": {},
     "output_type": "display_data"
    },
    {
     "data": {
      "application/vnd.jupyter.widget-view+json": {
       "model_id": "",
       "version_major": 2,
       "version_minor": 0
      },
      "text/plain": [
       "  0%|          | 0/56 [00:00<?, ?it/s]"
      ]
     },
     "metadata": {},
     "output_type": "display_data"
    },
    {
     "data": {
      "application/vnd.jupyter.widget-view+json": {
       "model_id": "",
       "version_major": 2,
       "version_minor": 0
      },
      "text/plain": [
       "  0%|          | 0/67 [00:00<?, ?it/s]"
      ]
     },
     "metadata": {},
     "output_type": "display_data"
    },
    {
     "data": {
      "application/vnd.jupyter.widget-view+json": {
       "model_id": "",
       "version_major": 2,
       "version_minor": 0
      },
      "text/plain": [
       "  0%|          | 0/67 [00:00<?, ?it/s]"
      ]
     },
     "metadata": {},
     "output_type": "display_data"
    },
    {
     "data": {
      "application/vnd.jupyter.widget-view+json": {
       "model_id": "",
       "version_major": 2,
       "version_minor": 0
      },
      "text/plain": [
       "  0%|          | 0/67 [00:00<?, ?it/s]"
      ]
     },
     "metadata": {},
     "output_type": "display_data"
    },
    {
     "data": {
      "application/vnd.jupyter.widget-view+json": {
       "model_id": "",
       "version_major": 2,
       "version_minor": 0
      },
      "text/plain": [
       "  0%|          | 0/69 [00:00<?, ?it/s]"
      ]
     },
     "metadata": {},
     "output_type": "display_data"
    },
    {
     "data": {
      "application/vnd.jupyter.widget-view+json": {
       "model_id": "",
       "version_major": 2,
       "version_minor": 0
      },
      "text/plain": [
       "  0%|          | 0/69 [00:00<?, ?it/s]"
      ]
     },
     "metadata": {},
     "output_type": "display_data"
    },
    {
     "data": {
      "application/vnd.jupyter.widget-view+json": {
       "model_id": "",
       "version_major": 2,
       "version_minor": 0
      },
      "text/plain": [
       "  0%|          | 0/69 [00:00<?, ?it/s]"
      ]
     },
     "metadata": {},
     "output_type": "display_data"
    },
    {
     "data": {
      "application/vnd.jupyter.widget-view+json": {
       "model_id": "",
       "version_major": 2,
       "version_minor": 0
      },
      "text/plain": [
       "  0%|          | 0/76 [00:00<?, ?it/s]"
      ]
     },
     "metadata": {},
     "output_type": "display_data"
    },
    {
     "data": {
      "application/vnd.jupyter.widget-view+json": {
       "model_id": "",
       "version_major": 2,
       "version_minor": 0
      },
      "text/plain": [
       "  0%|          | 0/76 [00:00<?, ?it/s]"
      ]
     },
     "metadata": {},
     "output_type": "display_data"
    },
    {
     "data": {
      "application/vnd.jupyter.widget-view+json": {
       "model_id": "",
       "version_major": 2,
       "version_minor": 0
      },
      "text/plain": [
       "  0%|          | 0/76 [00:00<?, ?it/s]"
      ]
     },
     "metadata": {},
     "output_type": "display_data"
    },
    {
     "data": {
      "application/vnd.jupyter.widget-view+json": {
       "model_id": "",
       "version_major": 2,
       "version_minor": 0
      },
      "text/plain": [
       "  0%|          | 0/80 [00:00<?, ?it/s]"
      ]
     },
     "metadata": {},
     "output_type": "display_data"
    },
    {
     "data": {
      "application/vnd.jupyter.widget-view+json": {
       "model_id": "",
       "version_major": 2,
       "version_minor": 0
      },
      "text/plain": [
       "  0%|          | 0/80 [00:00<?, ?it/s]"
      ]
     },
     "metadata": {},
     "output_type": "display_data"
    },
    {
     "data": {
      "application/vnd.jupyter.widget-view+json": {
       "model_id": "",
       "version_major": 2,
       "version_minor": 0
      },
      "text/plain": [
       "  0%|          | 0/80 [00:00<?, ?it/s]"
      ]
     },
     "metadata": {},
     "output_type": "display_data"
    },
    {
     "data": {
      "application/vnd.jupyter.widget-view+json": {
       "model_id": "",
       "version_major": 2,
       "version_minor": 0
      },
      "text/plain": [
       "  0%|          | 0/90 [00:00<?, ?it/s]"
      ]
     },
     "metadata": {},
     "output_type": "display_data"
    },
    {
     "data": {
      "application/vnd.jupyter.widget-view+json": {
       "model_id": "",
       "version_major": 2,
       "version_minor": 0
      },
      "text/plain": [
       "  0%|          | 0/90 [00:00<?, ?it/s]"
      ]
     },
     "metadata": {},
     "output_type": "display_data"
    },
    {
     "data": {
      "application/vnd.jupyter.widget-view+json": {
       "model_id": "",
       "version_major": 2,
       "version_minor": 0
      },
      "text/plain": [
       "  0%|          | 0/90 [00:00<?, ?it/s]"
      ]
     },
     "metadata": {},
     "output_type": "display_data"
    }
   ],
   "source": [
    "for i_y, year in enumerate(tqdm(years)):\n",
    "    vecs_y=vectors[vectors['year']==year]['vector']\n",
    "    wiki_bench_y=wiki_bench[vectors['year']==year]['cos_sim']\n",
    "    for i_c, csdg in enumerate(cSDGS_names):\n",
    "        cos_sims_cSDGs[i_y*l_csdgs+i_c]['cSDG']=csdg\n",
    "        cos_sims_cSDGs[i_y*l_csdgs+i_c]['all']=np.zeros(len(vecs_y))\n",
    "        cos_sims_cSDGs[i_y*l_csdgs+i_c]['p_val']=np.zeros(len(vecs_y))\n",
    "        for i_vec, vec in enumerate(vecs_y):\n",
    "            _cos_sim=float(util.cos_sim(clustered_sdgs[i_c], vec))\n",
    "            cos_sims_cSDGs[i_y*l_csdgs+i_c]['all'][i_vec]=_cos_sim\n",
    "            cos_sims_cSDGs[i_y*l_csdgs+i_c]['p_val'][i_vec]=np.sum(wiki_bench_y[i_vec]>=_cos_sim)/len(wikivecs)\n",
    "        cos_sims_cSDGs[i_y*l_csdgs+i_c]['mean']=np.mean(cos_sims_cSDGs[i_y*l_csdgs+i_c]['all'])"
   ]
  },
  {
   "cell_type": "code",
   "execution_count": 82,
   "id": "a2ba3fdc",
   "metadata": {
    "ExecuteTime": {
     "end_time": "2025-06-12T10:01:03.200333Z",
     "start_time": "2025-06-12T10:01:03.159379Z"
    }
   },
   "outputs": [
    {
     "data": {
      "application/vnd.jupyter.widget-view+json": {
       "model_id": "b4cb88518dd34de0b5cb404e300e7d28",
       "version_major": 2,
       "version_minor": 0
      },
      "text/plain": [
       "  0%|          | 0/9 [00:00<?, ?it/s]"
      ]
     },
     "metadata": {},
     "output_type": "display_data"
    },
    {
     "name": "stdout",
     "output_type": "stream",
     "text": [
      "\n",
      "2015\n",
      "Social               len(validated_companies)=0\n",
      "Economic             len(validated_companies)=0\n",
      "Environmental        len(validated_companies)=0\n",
      "\n",
      "2016\n",
      "Social               len(validated_companies)=0\n",
      "Economic             len(validated_companies)=0\n",
      "Environmental        len(validated_companies)=0\n",
      "\n",
      "2017\n",
      "Social               len(validated_companies)=0\n",
      "Economic             len(validated_companies)=0\n",
      "Environmental        len(validated_companies)=0\n",
      "\n",
      "2018\n",
      "Social               len(validated_companies)=0\n",
      "Economic             len(validated_companies)=0\n",
      "Environmental        len(validated_companies)=0\n",
      "\n",
      "2019\n",
      "Social               len(validated_companies)=0\n",
      "Economic             len(validated_companies)=0\n",
      "\u001b[1mEnvironmental       \u001b[0m len(validated_companies)=1\n",
      "\t\u001b[1mrio_tinto                \u001b[0m sector=\u001b[1mBasic Materials\u001b[0m\n",
      "\n",
      "\n",
      "\n",
      "2020\n",
      "Social               len(validated_companies)=0\n",
      "\u001b[1mEconomic            \u001b[0m len(validated_companies)=3\n",
      "\t\u001b[1mbp                       \u001b[0m sector=\u001b[1mEnergy\u001b[0m\n",
      "\t\u001b[1mgood_energy_group        \u001b[0m sector=\u001b[1mUtilities\u001b[0m\n",
      "\t\u001b[1mnational_grid            \u001b[0m sector=\u001b[1mUtilities\u001b[0m\n",
      "\n",
      "\n",
      "\u001b[1mEnvironmental       \u001b[0m len(validated_companies)=3\n",
      "\t\u001b[1mcroda_international      \u001b[0m sector=\u001b[1mBasic Materials\u001b[0m\n",
      "\t\u001b[1mreckitt_benckiser_group  \u001b[0m sector=\u001b[1mConsumer Staples\u001b[0m\n",
      "\t\u001b[1mbp                       \u001b[0m sector=\u001b[1mEnergy\u001b[0m\n",
      "\n",
      "\n",
      "\n",
      "2021\n",
      "\u001b[1mSocial              \u001b[0m len(validated_companies)=4\n",
      "\t\u001b[1mreckitt_benckiser_group  \u001b[0m sector=\u001b[1mConsumer Staples\u001b[0m\n",
      "\t\u001b[1mairtel_africa            \u001b[0m sector=\u001b[1mTelecommunications\u001b[0m\n",
      "\t\u001b[1mbt_group                 \u001b[0m sector=\u001b[1mTelecommunications\u001b[0m\n",
      "\t\u001b[1mrenewi                   \u001b[0m sector=\u001b[1mUtilities\u001b[0m\n",
      "\n",
      "\n",
      "\u001b[1mEconomic            \u001b[0m len(validated_companies)=3\n",
      "\t\u001b[1mreckitt_benckiser_group  \u001b[0m sector=\u001b[1mConsumer Staples\u001b[0m\n",
      "\t\u001b[1mnational_grid            \u001b[0m sector=\u001b[1mUtilities\u001b[0m\n",
      "\t\u001b[1mrenewi                   \u001b[0m sector=\u001b[1mUtilities\u001b[0m\n",
      "\n",
      "\n",
      "\u001b[1mEnvironmental       \u001b[0m len(validated_companies)=3\n",
      "\t\u001b[1mcroda_international      \u001b[0m sector=\u001b[1mBasic Materials\u001b[0m\n",
      "\t\u001b[1mreckitt_benckiser_group  \u001b[0m sector=\u001b[1mConsumer Staples\u001b[0m\n",
      "\t\u001b[1mrenewi                   \u001b[0m sector=\u001b[1mUtilities\u001b[0m\n",
      "\n",
      "\n",
      "\n",
      "2022\n",
      "Social               len(validated_companies)=0\n",
      "\u001b[1mEconomic            \u001b[0m len(validated_companies)=4\n",
      "\t\u001b[1mmarks_and_spencer_group  \u001b[0m sector=\u001b[1mConsumer Staples\u001b[0m\n",
      "\t\u001b[1mcentrica                 \u001b[0m sector=\u001b[1mUtilities\u001b[0m\n",
      "\t\u001b[1mnational_grid            \u001b[0m sector=\u001b[1mUtilities\u001b[0m\n",
      "\t\u001b[1mrenewi                   \u001b[0m sector=\u001b[1mUtilities\u001b[0m\n",
      "\n",
      "\n",
      "\u001b[1mEnvironmental       \u001b[0m len(validated_companies)=2\n",
      "\t\u001b[1mcroda_international      \u001b[0m sector=\u001b[1mBasic Materials\u001b[0m\n",
      "\t\u001b[1mrenewi                   \u001b[0m sector=\u001b[1mUtilities\u001b[0m\n",
      "\n",
      "\n",
      "\n",
      "2023\n",
      "Social               len(validated_companies)=0\n",
      "Economic             len(validated_companies)=0\n",
      "\u001b[1mEnvironmental       \u001b[0m len(validated_companies)=6\n",
      "\t\u001b[1mcroda_international      \u001b[0m sector=\u001b[1mBasic Materials\u001b[0m\n",
      "\t\u001b[1mreckitt_benckiser_group  \u001b[0m sector=\u001b[1mConsumer Staples\u001b[0m\n",
      "\t\u001b[1mwise                     \u001b[0m sector=\u001b[1mIndustrials\u001b[0m\n",
      "\t\u001b[1mdeliveroo                \u001b[0m sector=\u001b[1mTechnology\u001b[0m\n",
      "\t\u001b[1mvodafone_group           \u001b[0m sector=\u001b[1mTelecommunications\u001b[0m\n",
      "\t\u001b[1mpennon_group             \u001b[0m sector=\u001b[1mUtilities\u001b[0m\n",
      "\n",
      "\n"
     ]
    }
   ],
   "source": [
    "for i_y, year in enumerate(tqdm(years)):\n",
    "    print(f'\\n{year:}')\n",
    "    compa_y=vectors[vectors['year']==year]['company']\n",
    "    sec_y=vectors[vectors['year']==year]['sector']\n",
    "    for i_c, csdg in enumerate(cSDGS_names):\n",
    "        _fdr_th=fdr_th(cos_sims_cSDGs[i_y*l_csdgs+i_c]['p_val'], alpha)\n",
    "        validation_mask=cos_sims_cSDGs[i_y*l_csdgs+i_c]['p_val']<=_fdr_th\n",
    "        validated_compa=compa_y[validation_mask]\n",
    "        validated_sec=sec_y[validation_mask]\n",
    "        if len(validated_compa)>0:\n",
    "            print(f'\\033[1m{csdg.capitalize():20}\\033[0m len(validated_companies)={len(validated_compa):}')\n",
    "            for i_vc, vc in enumerate(validated_compa):\n",
    "                print(f'\\t\\033[1m{vc:25}\\033[0m sector=\\033[1m{sec_helper[validated_sec[i_vc]]:}\\033[0m')\n",
    "            print('\\n')\n",
    "        else:\n",
    "            print(f'{csdg.capitalize():20} len(validated_companies)={len(validated_compa):}')"
   ]
  },
  {
   "cell_type": "markdown",
   "id": "48600e2b",
   "metadata": {},
   "source": [
    "## Each SDG"
   ]
  },
  {
   "cell_type": "code",
   "execution_count": 73,
   "id": "487121a6",
   "metadata": {
    "ExecuteTime": {
     "end_time": "2025-06-12T09:57:04.093318Z",
     "start_time": "2025-06-12T09:57:04.086585Z"
    }
   },
   "outputs": [],
   "source": [
    "l_sdgs=len(sdg_helper.keys())"
   ]
  },
  {
   "cell_type": "code",
   "execution_count": 76,
   "id": "3bb52c9d",
   "metadata": {
    "ExecuteTime": {
     "end_time": "2025-06-12T09:58:53.039055Z",
     "start_time": "2025-06-12T09:58:53.031599Z"
    }
   },
   "outputs": [],
   "source": [
    "cos_sims_SDGs=np.zeros(len(years)*l_sdgs, dtype=[('SDG', 'U20'), ('mean', 'f8'), ('all', object), ('p_val', object)])"
   ]
  },
  {
   "cell_type": "code",
   "execution_count": 80,
   "id": "5ff1bf0a",
   "metadata": {
    "ExecuteTime": {
     "end_time": "2025-06-12T09:59:47.533268Z",
     "start_time": "2025-06-12T09:59:43.946089Z"
    }
   },
   "outputs": [
    {
     "data": {
      "application/vnd.jupyter.widget-view+json": {
       "model_id": "14e43461a86b4ddb82cd03ed511677bc",
       "version_major": 2,
       "version_minor": 0
      },
      "text/plain": [
       "  0%|          | 0/9 [00:00<?, ?it/s]"
      ]
     },
     "metadata": {},
     "output_type": "display_data"
    }
   ],
   "source": [
    "for i_y, year in enumerate(tqdm(years)):\n",
    "    vecs_y=vectors[vectors['year']==year]['vector']\n",
    "    wiki_bench_y=wiki_bench[vectors['year']==year]['cos_sim']\n",
    "    for i_s, sdg in enumerate(sdg_helper.keys()):\n",
    "        cos_sims_SDGs[i_y*l_sdgs+i_s]['SDG']=sdg\n",
    "        cos_sims_SDGs[i_y*l_sdgs+i_s]['all']=np.zeros(len(vecs_y))\n",
    "        cos_sims_SDGs[i_y*l_sdgs+i_s]['p_val']=np.zeros(len(vecs_y))\n",
    "        for i_vec, vec in enumerate(vecs_y):\n",
    "            _cos_sim=float(util.cos_sim(goalvecs[i_s], vec))\n",
    "            cos_sims_SDGs[i_y*l_sdgs+i_s]['all'][i_vec]=_cos_sim\n",
    "            cos_sims_SDGs[i_y*l_sdgs+i_s]['p_val'][i_vec]=np.sum(wiki_bench_y[i_vec]>=_cos_sim)/len(wikivecs)\n",
    "        cos_sims_SDGs[i_y*l_sdgs+i_s]['mean']=np.mean(cos_sims_SDGs[i_y*l_sdgs+i_s]['all'])"
   ]
  },
  {
   "cell_type": "code",
   "execution_count": 85,
   "id": "5021235a",
   "metadata": {
    "ExecuteTime": {
     "end_time": "2025-06-12T10:04:57.558361Z",
     "start_time": "2025-06-12T10:04:57.500413Z"
    }
   },
   "outputs": [
    {
     "data": {
      "application/vnd.jupyter.widget-view+json": {
       "model_id": "24b0928111cd48e9986672a54f2e763b",
       "version_major": 2,
       "version_minor": 0
      },
      "text/plain": [
       "  0%|          | 0/9 [00:00<?, ?it/s]"
      ]
     },
     "metadata": {},
     "output_type": "display_data"
    },
    {
     "name": "stdout",
     "output_type": "stream",
     "text": [
      "\n",
      "\u001b[1m2015\u001b[0m\n",
      "01: No Poverty                                                   len(validated_companies)=0\n",
      "\u001b[1m02: Zero hunger                                                 \u001b[0m len(validated_companies)=3\n",
      "\t\u001b[1mmarks_and_spencer_group  \u001b[0m sector=\u001b[1mConsumer Staples\u001b[0m\n",
      "\t\u001b[1mreckitt_benckiser_group  \u001b[0m sector=\u001b[1mConsumer Staples\u001b[0m\n",
      "\t\u001b[1munilever                 \u001b[0m sector=\u001b[1mConsumer Staples\u001b[0m\n",
      "\n",
      "\n",
      "\u001b[1m03: Good health and well-being                                  \u001b[0m len(validated_companies)=1\n",
      "\t\u001b[1mgsk                      \u001b[0m sector=\u001b[1mHealth Care\u001b[0m\n",
      "\n",
      "\n",
      "04: Quality education                                            len(validated_companies)=0\n",
      "05: Gender equality                                              len(validated_companies)=0\n",
      "\u001b[1m06: Clean water and sanitation                                  \u001b[0m len(validated_companies)=1\n",
      "\t\u001b[1mreckitt_benckiser_group  \u001b[0m sector=\u001b[1mConsumer Staples\u001b[0m\n",
      "\n",
      "\n",
      "07: Affordable and clean energy                                  len(validated_companies)=0\n",
      "08: Decent work and economic growth                              len(validated_companies)=0\n",
      "09: Industry, Innovation, Technology and Infrastructure          len(validated_companies)=0\n",
      "10: Reduced inequality                                           len(validated_companies)=0\n",
      "11: Sustainable cities and communities                           len(validated_companies)=0\n",
      "\u001b[1m12: Responsible consumption and production                      \u001b[0m len(validated_companies)=2\n",
      "\t\u001b[1mmarks_and_spencer_group  \u001b[0m sector=\u001b[1mConsumer Staples\u001b[0m\n",
      "\t\u001b[1mreckitt_benckiser_group  \u001b[0m sector=\u001b[1mConsumer Staples\u001b[0m\n",
      "\n",
      "\n",
      "13: Climate action                                               len(validated_companies)=0\n",
      "14: Life below water                                             len(validated_companies)=0\n",
      "15: Life on land                                                 len(validated_companies)=0\n",
      "16: Peace, justice and strong institutions                       len(validated_companies)=0\n",
      "17: Partnerships for the goals                                   len(validated_companies)=0\n",
      "\n",
      "\u001b[1m2016\u001b[0m\n",
      "01: No Poverty                                                   len(validated_companies)=0\n",
      "\u001b[1m02: Zero hunger                                                 \u001b[0m len(validated_companies)=1\n",
      "\t\u001b[1munilever                 \u001b[0m sector=\u001b[1mConsumer Staples\u001b[0m\n",
      "\n",
      "\n",
      "\u001b[1m03: Good health and well-being                                  \u001b[0m len(validated_companies)=2\n",
      "\t\u001b[1maviva                    \u001b[0m sector=\u001b[1mFinancials\u001b[0m\n",
      "\t\u001b[1mgsk                      \u001b[0m sector=\u001b[1mHealth Care\u001b[0m\n",
      "\n",
      "\n",
      "04: Quality education                                            len(validated_companies)=0\n",
      "05: Gender equality                                              len(validated_companies)=0\n",
      "06: Clean water and sanitation                                   len(validated_companies)=0\n",
      "\u001b[1m07: Affordable and clean energy                                 \u001b[0m len(validated_companies)=1\n",
      "\t\u001b[1mgood_energy_group        \u001b[0m sector=\u001b[1mUtilities\u001b[0m\n",
      "\n",
      "\n",
      "08: Decent work and economic growth                              len(validated_companies)=0\n",
      "09: Industry, Innovation, Technology and Infrastructure          len(validated_companies)=0\n",
      "10: Reduced inequality                                           len(validated_companies)=0\n",
      "11: Sustainable cities and communities                           len(validated_companies)=0\n",
      "\u001b[1m12: Responsible consumption and production                      \u001b[0m len(validated_companies)=1\n",
      "\t\u001b[1mmarks_and_spencer_group  \u001b[0m sector=\u001b[1mConsumer Staples\u001b[0m\n",
      "\n",
      "\n",
      "13: Climate action                                               len(validated_companies)=0\n",
      "14: Life below water                                             len(validated_companies)=0\n",
      "15: Life on land                                                 len(validated_companies)=0\n",
      "16: Peace, justice and strong institutions                       len(validated_companies)=0\n",
      "17: Partnerships for the goals                                   len(validated_companies)=0\n",
      "\n",
      "\u001b[1m2017\u001b[0m\n",
      "01: No Poverty                                                   len(validated_companies)=0\n",
      "\u001b[1m02: Zero hunger                                                 \u001b[0m len(validated_companies)=1\n",
      "\t\u001b[1mmarks_and_spencer_group  \u001b[0m sector=\u001b[1mConsumer Staples\u001b[0m\n",
      "\n",
      "\n",
      "03: Good health and well-being                                   len(validated_companies)=0\n",
      "04: Quality education                                            len(validated_companies)=0\n",
      "05: Gender equality                                              len(validated_companies)=0\n",
      "06: Clean water and sanitation                                   len(validated_companies)=0\n",
      "\u001b[1m07: Affordable and clean energy                                 \u001b[0m len(validated_companies)=1\n",
      "\t\u001b[1mgood_energy_group        \u001b[0m sector=\u001b[1mUtilities\u001b[0m\n",
      "\n",
      "\n",
      "08: Decent work and economic growth                              len(validated_companies)=0\n",
      "09: Industry, Innovation, Technology and Infrastructure          len(validated_companies)=0\n",
      "10: Reduced inequality                                           len(validated_companies)=0\n",
      "11: Sustainable cities and communities                           len(validated_companies)=0\n",
      "\u001b[1m12: Responsible consumption and production                      \u001b[0m len(validated_companies)=4\n",
      "\t\u001b[1mcroda_international      \u001b[0m sector=\u001b[1mBasic Materials\u001b[0m\n",
      "\t\u001b[1mnext                     \u001b[0m sector=\u001b[1mConsumer Discretionary\u001b[0m\n",
      "\t\u001b[1mwhitbread                \u001b[0m sector=\u001b[1mConsumer Discretionary\u001b[0m\n",
      "\t\u001b[1mmarks_and_spencer_group  \u001b[0m sector=\u001b[1mConsumer Staples\u001b[0m\n",
      "\n",
      "\n",
      "13: Climate action                                               len(validated_companies)=0\n",
      "14: Life below water                                             len(validated_companies)=0\n",
      "15: Life on land                                                 len(validated_companies)=0\n",
      "16: Peace, justice and strong institutions                       len(validated_companies)=0\n",
      "17: Partnerships for the goals                                   len(validated_companies)=0\n",
      "\n",
      "\u001b[1m2018\u001b[0m\n",
      "01: No Poverty                                                   len(validated_companies)=0\n",
      "\u001b[1m02: Zero hunger                                                 \u001b[0m len(validated_companies)=2\n",
      "\t\u001b[1mmarks_and_spencer_group  \u001b[0m sector=\u001b[1mConsumer Staples\u001b[0m\n",
      "\t\u001b[1msainsbury_(j)            \u001b[0m sector=\u001b[1mConsumer Staples\u001b[0m\n",
      "\n",
      "\n",
      "\u001b[1m03: Good health and well-being                                  \u001b[0m len(validated_companies)=1\n",
      "\t\u001b[1mastrazeneca              \u001b[0m sector=\u001b[1mHealth Care\u001b[0m\n",
      "\n",
      "\n",
      "04: Quality education                                            len(validated_companies)=0\n",
      "05: Gender equality                                              len(validated_companies)=0\n",
      "06: Clean water and sanitation                                   len(validated_companies)=0\n",
      "\u001b[1m07: Affordable and clean energy                                 \u001b[0m len(validated_companies)=1\n",
      "\t\u001b[1mgood_energy_group        \u001b[0m sector=\u001b[1mUtilities\u001b[0m\n",
      "\n",
      "\n",
      "08: Decent work and economic growth                              len(validated_companies)=0\n",
      "09: Industry, Innovation, Technology and Infrastructure          len(validated_companies)=0\n",
      "10: Reduced inequality                                           len(validated_companies)=0\n",
      "11: Sustainable cities and communities                           len(validated_companies)=0\n",
      "\u001b[1m12: Responsible consumption and production                      \u001b[0m len(validated_companies)=8\n",
      "\t\u001b[1mcroda_international      \u001b[0m sector=\u001b[1mBasic Materials\u001b[0m\n",
      "\t\u001b[1mnext                     \u001b[0m sector=\u001b[1mConsumer Discretionary\u001b[0m\n",
      "\t\u001b[1mmarks_and_spencer_group  \u001b[0m sector=\u001b[1mConsumer Staples\u001b[0m\n",
      "\t\u001b[1mreckitt_benckiser_group  \u001b[0m sector=\u001b[1mConsumer Staples\u001b[0m\n",
      "\t\u001b[1msainsbury_(j)            \u001b[0m sector=\u001b[1mConsumer Staples\u001b[0m\n",
      "\t\u001b[1msmith_(ds)               \u001b[0m sector=\u001b[1mIndustrials\u001b[0m\n",
      "\t\u001b[1mgood_energy_group        \u001b[0m sector=\u001b[1mUtilities\u001b[0m\n",
      "\t\u001b[1mrenewi                   \u001b[0m sector=\u001b[1mUtilities\u001b[0m\n",
      "\n",
      "\n",
      "\u001b[1m13: Climate action                                              \u001b[0m len(validated_companies)=2\n",
      "\t\u001b[1mlegal_&_general_group    \u001b[0m sector=\u001b[1mFinancials\u001b[0m\n",
      "\t\u001b[1mgood_energy_group        \u001b[0m sector=\u001b[1mUtilities\u001b[0m\n",
      "\n",
      "\n",
      "14: Life below water                                             len(validated_companies)=0\n",
      "15: Life on land                                                 len(validated_companies)=0\n",
      "16: Peace, justice and strong institutions                       len(validated_companies)=0\n",
      "17: Partnerships for the goals                                   len(validated_companies)=0\n",
      "\n",
      "\u001b[1m2019\u001b[0m\n",
      "01: No Poverty                                                   len(validated_companies)=0\n",
      "\u001b[1m02: Zero hunger                                                 \u001b[0m len(validated_companies)=3\n",
      "\t\u001b[1mcroda_international      \u001b[0m sector=\u001b[1mBasic Materials\u001b[0m\n",
      "\t\u001b[1mcompass_group            \u001b[0m sector=\u001b[1mConsumer Discretionary\u001b[0m\n",
      "\t\u001b[1mreckitt_benckiser_group  \u001b[0m sector=\u001b[1mConsumer Staples\u001b[0m\n",
      "\n",
      "\n",
      "\u001b[1m03: Good health and well-being                                  \u001b[0m len(validated_companies)=2\n",
      "\t\u001b[1mreckitt_benckiser_group  \u001b[0m sector=\u001b[1mConsumer Staples\u001b[0m\n",
      "\t\u001b[1mastrazeneca              \u001b[0m sector=\u001b[1mHealth Care\u001b[0m\n",
      "\n",
      "\n",
      "04: Quality education                                            len(validated_companies)=0\n",
      "05: Gender equality                                              len(validated_companies)=0\n",
      "\u001b[1m06: Clean water and sanitation                                  \u001b[0m len(validated_companies)=2\n",
      "\t\u001b[1mrio_tinto                \u001b[0m sector=\u001b[1mBasic Materials\u001b[0m\n",
      "\t\u001b[1mreckitt_benckiser_group  \u001b[0m sector=\u001b[1mConsumer Staples\u001b[0m\n",
      "\n",
      "\n",
      "\u001b[1m07: Affordable and clean energy                                 \u001b[0m len(validated_companies)=1\n",
      "\t\u001b[1mgood_energy_group        \u001b[0m sector=\u001b[1mUtilities\u001b[0m\n",
      "\n",
      "\n",
      "08: Decent work and economic growth                              len(validated_companies)=0\n",
      "\u001b[1m09: Industry, Innovation, Technology and Infrastructure         \u001b[0m len(validated_companies)=1\n",
      "\t\u001b[1mrio_tinto                \u001b[0m sector=\u001b[1mBasic Materials\u001b[0m\n",
      "\n",
      "\n",
      "10: Reduced inequality                                           len(validated_companies)=0\n",
      "\u001b[1m11: Sustainable cities and communities                          \u001b[0m len(validated_companies)=1\n",
      "\t\u001b[1mrio_tinto                \u001b[0m sector=\u001b[1mBasic Materials\u001b[0m\n",
      "\n",
      "\n",
      "\u001b[1m12: Responsible consumption and production                      \u001b[0m len(validated_companies)=10\n",
      "\t\u001b[1mcroda_international      \u001b[0m sector=\u001b[1mBasic Materials\u001b[0m\n",
      "\t\u001b[1mcompass_group            \u001b[0m sector=\u001b[1mConsumer Discretionary\u001b[0m\n",
      "\t\u001b[1mnext                     \u001b[0m sector=\u001b[1mConsumer Discretionary\u001b[0m\n",
      "\t\u001b[1massociated_british_foods \u001b[0m sector=\u001b[1mConsumer Staples\u001b[0m\n",
      "\t\u001b[1mbritish_american_tobacco \u001b[0m sector=\u001b[1mConsumer Staples\u001b[0m\n",
      "\t\u001b[1mmarks_and_spencer_group  \u001b[0m sector=\u001b[1mConsumer Staples\u001b[0m\n",
      "\t\u001b[1mreckitt_benckiser_group  \u001b[0m sector=\u001b[1mConsumer Staples\u001b[0m\n",
      "\t\u001b[1msmith_(ds)               \u001b[0m sector=\u001b[1mIndustrials\u001b[0m\n",
      "\t\u001b[1mgood_energy_group        \u001b[0m sector=\u001b[1mUtilities\u001b[0m\n",
      "\t\u001b[1mrenewi                   \u001b[0m sector=\u001b[1mUtilities\u001b[0m\n",
      "\n",
      "\n",
      "\u001b[1m13: Climate action                                              \u001b[0m len(validated_companies)=2\n",
      "\t\u001b[1mrio_tinto                \u001b[0m sector=\u001b[1mBasic Materials\u001b[0m\n",
      "\t\u001b[1mlegal_&_general_group    \u001b[0m sector=\u001b[1mFinancials\u001b[0m\n",
      "\n",
      "\n",
      "\u001b[1m14: Life below water                                            \u001b[0m len(validated_companies)=5\n",
      "\t\u001b[1mrio_tinto                \u001b[0m sector=\u001b[1mBasic Materials\u001b[0m\n",
      "\t\u001b[1mreckitt_benckiser_group  \u001b[0m sector=\u001b[1mConsumer Staples\u001b[0m\n",
      "\t\u001b[1mshell                    \u001b[0m sector=\u001b[1mEnergy\u001b[0m\n",
      "\t\u001b[1msmith_(ds)               \u001b[0m sector=\u001b[1mIndustrials\u001b[0m\n",
      "\t\u001b[1mrenewi                   \u001b[0m sector=\u001b[1mUtilities\u001b[0m\n",
      "\n",
      "\n",
      "15: Life on land                                                 len(validated_companies)=0\n",
      "16: Peace, justice and strong institutions                       len(validated_companies)=0\n",
      "17: Partnerships for the goals                                   len(validated_companies)=0\n",
      "\n",
      "\u001b[1m2020\u001b[0m\n",
      "\u001b[1m01: No Poverty                                                  \u001b[0m len(validated_companies)=2\n",
      "\t\u001b[1mcroda_international      \u001b[0m sector=\u001b[1mBasic Materials\u001b[0m\n",
      "\t\u001b[1mreckitt_benckiser_group  \u001b[0m sector=\u001b[1mConsumer Staples\u001b[0m\n",
      "\n",
      "\n",
      "\u001b[1m02: Zero hunger                                                 \u001b[0m len(validated_companies)=6\n",
      "\t\u001b[1mcroda_international      \u001b[0m sector=\u001b[1mBasic Materials\u001b[0m\n",
      "\t\u001b[1mcompass_group            \u001b[0m sector=\u001b[1mConsumer Discretionary\u001b[0m\n",
      "\t\u001b[1massociated_british_foods \u001b[0m sector=\u001b[1mConsumer Staples\u001b[0m\n",
      "\t\u001b[1mmarks_and_spencer_group  \u001b[0m sector=\u001b[1mConsumer Staples\u001b[0m\n",
      "\t\u001b[1mreckitt_benckiser_group  \u001b[0m sector=\u001b[1mConsumer Staples\u001b[0m\n",
      "\t\u001b[1mgood_energy_group        \u001b[0m sector=\u001b[1mUtilities\u001b[0m\n",
      "\n",
      "\n",
      "\u001b[1m03: Good health and well-being                                  \u001b[0m len(validated_companies)=2\n",
      "\t\u001b[1mreckitt_benckiser_group  \u001b[0m sector=\u001b[1mConsumer Staples\u001b[0m\n",
      "\t\u001b[1mastrazeneca              \u001b[0m sector=\u001b[1mHealth Care\u001b[0m\n",
      "\n",
      "\n",
      "\u001b[1m04: Quality education                                           \u001b[0m len(validated_companies)=2\n",
      "\t\u001b[1mreckitt_benckiser_group  \u001b[0m sector=\u001b[1mConsumer Staples\u001b[0m\n",
      "\t\u001b[1mbt_group                 \u001b[0m sector=\u001b[1mTelecommunications\u001b[0m\n",
      "\n",
      "\n",
      "05: Gender equality                                              len(validated_companies)=0\n",
      "\u001b[1m06: Clean water and sanitation                                  \u001b[0m len(validated_companies)=1\n",
      "\t\u001b[1mreckitt_benckiser_group  \u001b[0m sector=\u001b[1mConsumer Staples\u001b[0m\n",
      "\n",
      "\n",
      "\u001b[1m07: Affordable and clean energy                                 \u001b[0m len(validated_companies)=7\n",
      "\t\u001b[1mrio_tinto                \u001b[0m sector=\u001b[1mBasic Materials\u001b[0m\n",
      "\t\u001b[1mbp                       \u001b[0m sector=\u001b[1mEnergy\u001b[0m\n",
      "\t\u001b[1mlegal_&_general_group    \u001b[0m sector=\u001b[1mFinancials\u001b[0m\n",
      "\t\u001b[1mcentrica                 \u001b[0m sector=\u001b[1mUtilities\u001b[0m\n",
      "\t\u001b[1mgood_energy_group        \u001b[0m sector=\u001b[1mUtilities\u001b[0m\n",
      "\t\u001b[1mnational_grid            \u001b[0m sector=\u001b[1mUtilities\u001b[0m\n",
      "\t\u001b[1msse                      \u001b[0m sector=\u001b[1mUtilities\u001b[0m\n",
      "\n",
      "\n",
      "08: Decent work and economic growth                              len(validated_companies)=0\n",
      "09: Industry, Innovation, Technology and Infrastructure          len(validated_companies)=0\n",
      "10: Reduced inequality                                           len(validated_companies)=0\n",
      "11: Sustainable cities and communities                           len(validated_companies)=0\n",
      "\u001b[1m12: Responsible consumption and production                      \u001b[0m len(validated_companies)=8\n",
      "\t\u001b[1mcroda_international      \u001b[0m sector=\u001b[1mBasic Materials\u001b[0m\n",
      "\t\u001b[1mcompass_group            \u001b[0m sector=\u001b[1mConsumer Discretionary\u001b[0m\n",
      "\t\u001b[1mnext                     \u001b[0m sector=\u001b[1mConsumer Discretionary\u001b[0m\n",
      "\t\u001b[1mmarks_and_spencer_group  \u001b[0m sector=\u001b[1mConsumer Staples\u001b[0m\n",
      "\t\u001b[1mreckitt_benckiser_group  \u001b[0m sector=\u001b[1mConsumer Staples\u001b[0m\n",
      "\t\u001b[1mbp                       \u001b[0m sector=\u001b[1mEnergy\u001b[0m\n",
      "\t\u001b[1msmith_(ds)               \u001b[0m sector=\u001b[1mIndustrials\u001b[0m\n",
      "\t\u001b[1mgood_energy_group        \u001b[0m sector=\u001b[1mUtilities\u001b[0m\n",
      "\n",
      "\n",
      "\u001b[1m13: Climate action                                              \u001b[0m len(validated_companies)=7\n",
      "\t\u001b[1mrio_tinto                \u001b[0m sector=\u001b[1mBasic Materials\u001b[0m\n",
      "\t\u001b[1mbp                       \u001b[0m sector=\u001b[1mEnergy\u001b[0m\n",
      "\t\u001b[1maviva                    \u001b[0m sector=\u001b[1mFinancials\u001b[0m\n",
      "\t\u001b[1mlegal_&_general_group    \u001b[0m sector=\u001b[1mFinancials\u001b[0m\n",
      "\t\u001b[1mcentrica                 \u001b[0m sector=\u001b[1mUtilities\u001b[0m\n",
      "\t\u001b[1mgood_energy_group        \u001b[0m sector=\u001b[1mUtilities\u001b[0m\n",
      "\t\u001b[1mnational_grid            \u001b[0m sector=\u001b[1mUtilities\u001b[0m\n",
      "\n",
      "\n",
      "\u001b[1m14: Life below water                                            \u001b[0m len(validated_companies)=4\n",
      "\t\u001b[1mcroda_international      \u001b[0m sector=\u001b[1mBasic Materials\u001b[0m\n",
      "\t\u001b[1mreckitt_benckiser_group  \u001b[0m sector=\u001b[1mConsumer Staples\u001b[0m\n",
      "\t\u001b[1mbp                       \u001b[0m sector=\u001b[1mEnergy\u001b[0m\n",
      "\t\u001b[1msmith_(ds)               \u001b[0m sector=\u001b[1mIndustrials\u001b[0m\n",
      "\n",
      "\n",
      "15: Life on land                                                 len(validated_companies)=0\n",
      "16: Peace, justice and strong institutions                       len(validated_companies)=0\n",
      "\u001b[1m17: Partnerships for the goals                                  \u001b[0m len(validated_companies)=5\n",
      "\t\u001b[1mbp                       \u001b[0m sector=\u001b[1mEnergy\u001b[0m\n",
      "\t\u001b[1mlondon_stock_exchange_group\u001b[0m sector=\u001b[1mFinancials\u001b[0m\n",
      "\t\u001b[1mcentrica                 \u001b[0m sector=\u001b[1mUtilities\u001b[0m\n",
      "\t\u001b[1mgood_energy_group        \u001b[0m sector=\u001b[1mUtilities\u001b[0m\n",
      "\t\u001b[1mnational_grid            \u001b[0m sector=\u001b[1mUtilities\u001b[0m\n",
      "\n",
      "\n",
      "\n",
      "\u001b[1m2021\u001b[0m\n",
      "\u001b[1m01: No Poverty                                                  \u001b[0m len(validated_companies)=3\n",
      "\t\u001b[1mcroda_international      \u001b[0m sector=\u001b[1mBasic Materials\u001b[0m\n",
      "\t\u001b[1mreckitt_benckiser_group  \u001b[0m sector=\u001b[1mConsumer Staples\u001b[0m\n",
      "\t\u001b[1mrenewi                   \u001b[0m sector=\u001b[1mUtilities\u001b[0m\n",
      "\n",
      "\n",
      "\u001b[1m02: Zero hunger                                                 \u001b[0m len(validated_companies)=10\n",
      "\t\u001b[1mcroda_international      \u001b[0m sector=\u001b[1mBasic Materials\u001b[0m\n",
      "\t\u001b[1mcompass_group            \u001b[0m sector=\u001b[1mConsumer Discretionary\u001b[0m\n",
      "\t\u001b[1mintercontinental_hotels_group\u001b[0m sector=\u001b[1mConsumer Discretionary\u001b[0m\n",
      "\t\u001b[1massociated_british_foods \u001b[0m sector=\u001b[1mConsumer Staples\u001b[0m\n",
      "\t\u001b[1mmarks_and_spencer_group  \u001b[0m sector=\u001b[1mConsumer Staples\u001b[0m\n",
      "\t\u001b[1mreckitt_benckiser_group  \u001b[0m sector=\u001b[1mConsumer Staples\u001b[0m\n",
      "\t\u001b[1msainsbury_(j)            \u001b[0m sector=\u001b[1mConsumer Staples\u001b[0m\n",
      "\t\u001b[1munite_group              \u001b[0m sector=\u001b[1mReal Estate\u001b[0m\n",
      "\t\u001b[1mairtel_africa            \u001b[0m sector=\u001b[1mTelecommunications\u001b[0m\n",
      "\t\u001b[1mrenewi                   \u001b[0m sector=\u001b[1mUtilities\u001b[0m\n",
      "\n",
      "\n",
      "\u001b[1m03: Good health and well-being                                  \u001b[0m len(validated_companies)=2\n",
      "\t\u001b[1mreckitt_benckiser_group  \u001b[0m sector=\u001b[1mConsumer Staples\u001b[0m\n",
      "\t\u001b[1mastrazeneca              \u001b[0m sector=\u001b[1mHealth Care\u001b[0m\n",
      "\n",
      "\n",
      "\u001b[1m04: Quality education                                           \u001b[0m len(validated_companies)=3\n",
      "\t\u001b[1mreckitt_benckiser_group  \u001b[0m sector=\u001b[1mConsumer Staples\u001b[0m\n",
      "\t\u001b[1mairtel_africa            \u001b[0m sector=\u001b[1mTelecommunications\u001b[0m\n",
      "\t\u001b[1mbt_group                 \u001b[0m sector=\u001b[1mTelecommunications\u001b[0m\n",
      "\n",
      "\n",
      "05: Gender equality                                              len(validated_companies)=0\n",
      "\u001b[1m06: Clean water and sanitation                                  \u001b[0m len(validated_companies)=2\n",
      "\t\u001b[1mreckitt_benckiser_group  \u001b[0m sector=\u001b[1mConsumer Staples\u001b[0m\n",
      "\t\u001b[1mrenewi                   \u001b[0m sector=\u001b[1mUtilities\u001b[0m\n",
      "\n",
      "\n",
      "\u001b[1m07: Affordable and clean energy                                 \u001b[0m len(validated_companies)=5\n",
      "\t\u001b[1mreckitt_benckiser_group  \u001b[0m sector=\u001b[1mConsumer Staples\u001b[0m\n",
      "\t\u001b[1mlegal_&_general_group    \u001b[0m sector=\u001b[1mFinancials\u001b[0m\n",
      "\t\u001b[1mcentrica                 \u001b[0m sector=\u001b[1mUtilities\u001b[0m\n",
      "\t\u001b[1mnational_grid            \u001b[0m sector=\u001b[1mUtilities\u001b[0m\n",
      "\t\u001b[1mrenewi                   \u001b[0m sector=\u001b[1mUtilities\u001b[0m\n",
      "\n",
      "\n",
      "08: Decent work and economic growth                              len(validated_companies)=0\n",
      "\u001b[1m09: Industry, Innovation, Technology and Infrastructure         \u001b[0m len(validated_companies)=1\n",
      "\t\u001b[1mrenewi                   \u001b[0m sector=\u001b[1mUtilities\u001b[0m\n",
      "\n",
      "\n",
      "10: Reduced inequality                                           len(validated_companies)=0\n",
      "\u001b[1m11: Sustainable cities and communities                          \u001b[0m len(validated_companies)=2\n",
      "\t\u001b[1munite_group              \u001b[0m sector=\u001b[1mReal Estate\u001b[0m\n",
      "\t\u001b[1mrenewi                   \u001b[0m sector=\u001b[1mUtilities\u001b[0m\n",
      "\n",
      "\n",
      "\u001b[1m12: Responsible consumption and production                      \u001b[0m len(validated_companies)=9\n",
      "\t\u001b[1mcroda_international      \u001b[0m sector=\u001b[1mBasic Materials\u001b[0m\n",
      "\t\u001b[1mcompass_group            \u001b[0m sector=\u001b[1mConsumer Discretionary\u001b[0m\n",
      "\t\u001b[1mnext                     \u001b[0m sector=\u001b[1mConsumer Discretionary\u001b[0m\n",
      "\t\u001b[1massociated_british_foods \u001b[0m sector=\u001b[1mConsumer Staples\u001b[0m\n",
      "\t\u001b[1mmarks_and_spencer_group  \u001b[0m sector=\u001b[1mConsumer Staples\u001b[0m\n",
      "\t\u001b[1mreckitt_benckiser_group  \u001b[0m sector=\u001b[1mConsumer Staples\u001b[0m\n",
      "\t\u001b[1msmith_(ds)               \u001b[0m sector=\u001b[1mIndustrials\u001b[0m\n",
      "\t\u001b[1munite_group              \u001b[0m sector=\u001b[1mReal Estate\u001b[0m\n",
      "\t\u001b[1mrenewi                   \u001b[0m sector=\u001b[1mUtilities\u001b[0m\n",
      "\n",
      "\n",
      "\u001b[1m13: Climate action                                              \u001b[0m len(validated_companies)=10\n",
      "\t\u001b[1mcroda_international      \u001b[0m sector=\u001b[1mBasic Materials\u001b[0m\n",
      "\t\u001b[1mrio_tinto                \u001b[0m sector=\u001b[1mBasic Materials\u001b[0m\n",
      "\t\u001b[1mreckitt_benckiser_group  \u001b[0m sector=\u001b[1mConsumer Staples\u001b[0m\n",
      "\t\u001b[1maviva                    \u001b[0m sector=\u001b[1mFinancials\u001b[0m\n",
      "\t\u001b[1mlegal_&_general_group    \u001b[0m sector=\u001b[1mFinancials\u001b[0m\n",
      "\t\u001b[1mlondon_stock_exchange_group\u001b[0m sector=\u001b[1mFinancials\u001b[0m\n",
      "\t\u001b[1munite_group              \u001b[0m sector=\u001b[1mReal Estate\u001b[0m\n",
      "\t\u001b[1mcentrica                 \u001b[0m sector=\u001b[1mUtilities\u001b[0m\n",
      "\t\u001b[1mnational_grid            \u001b[0m sector=\u001b[1mUtilities\u001b[0m\n",
      "\t\u001b[1mrenewi                   \u001b[0m sector=\u001b[1mUtilities\u001b[0m\n",
      "\n",
      "\n",
      "\u001b[1m14: Life below water                                            \u001b[0m len(validated_companies)=4\n",
      "\t\u001b[1mcroda_international      \u001b[0m sector=\u001b[1mBasic Materials\u001b[0m\n",
      "\t\u001b[1mreckitt_benckiser_group  \u001b[0m sector=\u001b[1mConsumer Staples\u001b[0m\n",
      "\t\u001b[1msmith_(ds)               \u001b[0m sector=\u001b[1mIndustrials\u001b[0m\n",
      "\t\u001b[1mrenewi                   \u001b[0m sector=\u001b[1mUtilities\u001b[0m\n",
      "\n",
      "\n",
      "\u001b[1m15: Life on land                                                \u001b[0m len(validated_companies)=3\n",
      "\t\u001b[1mcroda_international      \u001b[0m sector=\u001b[1mBasic Materials\u001b[0m\n",
      "\t\u001b[1mreckitt_benckiser_group  \u001b[0m sector=\u001b[1mConsumer Staples\u001b[0m\n",
      "\t\u001b[1mrenewi                   \u001b[0m sector=\u001b[1mUtilities\u001b[0m\n",
      "\n",
      "\n",
      "16: Peace, justice and strong institutions                       len(validated_companies)=0\n",
      "\u001b[1m17: Partnerships for the goals                                  \u001b[0m len(validated_companies)=2\n",
      "\t\u001b[1munite_group              \u001b[0m sector=\u001b[1mReal Estate\u001b[0m\n",
      "\t\u001b[1mnational_grid            \u001b[0m sector=\u001b[1mUtilities\u001b[0m\n",
      "\n",
      "\n",
      "\n",
      "\u001b[1m2022\u001b[0m\n",
      "\u001b[1m01: No Poverty                                                  \u001b[0m len(validated_companies)=1\n",
      "\t\u001b[1mcroda_international      \u001b[0m sector=\u001b[1mBasic Materials\u001b[0m\n",
      "\n",
      "\n",
      "\u001b[1m02: Zero hunger                                                 \u001b[0m len(validated_companies)=7\n",
      "\t\u001b[1mcroda_international      \u001b[0m sector=\u001b[1mBasic Materials\u001b[0m\n",
      "\t\u001b[1mcompass_group            \u001b[0m sector=\u001b[1mConsumer Discretionary\u001b[0m\n",
      "\t\u001b[1mwhitbread                \u001b[0m sector=\u001b[1mConsumer Discretionary\u001b[0m\n",
      "\t\u001b[1massociated_british_foods \u001b[0m sector=\u001b[1mConsumer Staples\u001b[0m\n",
      "\t\u001b[1mmarks_and_spencer_group  \u001b[0m sector=\u001b[1mConsumer Staples\u001b[0m\n",
      "\t\u001b[1msainsbury_(j)            \u001b[0m sector=\u001b[1mConsumer Staples\u001b[0m\n",
      "\t\u001b[1mdeliveroo                \u001b[0m sector=\u001b[1mTechnology\u001b[0m\n",
      "\n",
      "\n",
      "\u001b[1m03: Good health and well-being                                  \u001b[0m len(validated_companies)=1\n",
      "\t\u001b[1mastrazeneca              \u001b[0m sector=\u001b[1mHealth Care\u001b[0m\n",
      "\n",
      "\n",
      "\u001b[1m04: Quality education                                           \u001b[0m len(validated_companies)=1\n",
      "\t\u001b[1mairtel_africa            \u001b[0m sector=\u001b[1mTelecommunications\u001b[0m\n",
      "\n",
      "\n",
      "05: Gender equality                                              len(validated_companies)=0\n",
      "06: Clean water and sanitation                                   len(validated_companies)=0\n",
      "\u001b[1m07: Affordable and clean energy                                 \u001b[0m len(validated_companies)=8\n",
      "\t\u001b[1mcompass_group            \u001b[0m sector=\u001b[1mConsumer Discretionary\u001b[0m\n",
      "\t\u001b[1mmarks_and_spencer_group  \u001b[0m sector=\u001b[1mConsumer Staples\u001b[0m\n",
      "\t\u001b[1mdeliveroo                \u001b[0m sector=\u001b[1mTechnology\u001b[0m\n",
      "\t\u001b[1mtelecom_plus             \u001b[0m sector=\u001b[1mTelecommunications\u001b[0m\n",
      "\t\u001b[1mcentrica                 \u001b[0m sector=\u001b[1mUtilities\u001b[0m\n",
      "\t\u001b[1mgood_energy_group        \u001b[0m sector=\u001b[1mUtilities\u001b[0m\n",
      "\t\u001b[1mnational_grid            \u001b[0m sector=\u001b[1mUtilities\u001b[0m\n",
      "\t\u001b[1mrenewi                   \u001b[0m sector=\u001b[1mUtilities\u001b[0m\n",
      "\n",
      "\n",
      "08: Decent work and economic growth                              len(validated_companies)=0\n",
      "09: Industry, Innovation, Technology and Infrastructure          len(validated_companies)=0\n",
      "10: Reduced inequality                                           len(validated_companies)=0\n",
      "\u001b[1m11: Sustainable cities and communities                          \u001b[0m len(validated_companies)=1\n",
      "\t\u001b[1mrenewi                   \u001b[0m sector=\u001b[1mUtilities\u001b[0m\n",
      "\n",
      "\n",
      "\u001b[1m12: Responsible consumption and production                      \u001b[0m len(validated_companies)=9\n",
      "\t\u001b[1mcroda_international      \u001b[0m sector=\u001b[1mBasic Materials\u001b[0m\n",
      "\t\u001b[1mcompass_group            \u001b[0m sector=\u001b[1mConsumer Discretionary\u001b[0m\n",
      "\t\u001b[1mnext                     \u001b[0m sector=\u001b[1mConsumer Discretionary\u001b[0m\n",
      "\t\u001b[1massociated_british_foods \u001b[0m sector=\u001b[1mConsumer Staples\u001b[0m\n",
      "\t\u001b[1mmarks_and_spencer_group  \u001b[0m sector=\u001b[1mConsumer Staples\u001b[0m\n",
      "\t\u001b[1msainsbury_(j)            \u001b[0m sector=\u001b[1mConsumer Staples\u001b[0m\n",
      "\t\u001b[1mcomputacenter            \u001b[0m sector=\u001b[1mTechnology\u001b[0m\n",
      "\t\u001b[1mdeliveroo                \u001b[0m sector=\u001b[1mTechnology\u001b[0m\n",
      "\t\u001b[1mrenewi                   \u001b[0m sector=\u001b[1mUtilities\u001b[0m\n",
      "\n",
      "\n",
      "\u001b[1m13: Climate action                                              \u001b[0m len(validated_companies)=21\n",
      "\t\u001b[1mcroda_international      \u001b[0m sector=\u001b[1mBasic Materials\u001b[0m\n",
      "\t\u001b[1mrio_tinto                \u001b[0m sector=\u001b[1mBasic Materials\u001b[0m\n",
      "\t\u001b[1mnext                     \u001b[0m sector=\u001b[1mConsumer Discretionary\u001b[0m\n",
      "\t\u001b[1massociated_british_foods \u001b[0m sector=\u001b[1mConsumer Staples\u001b[0m\n",
      "\t\u001b[1mmarks_and_spencer_group  \u001b[0m sector=\u001b[1mConsumer Staples\u001b[0m\n",
      "\t\u001b[1maviva                    \u001b[0m sector=\u001b[1mFinancials\u001b[0m\n",
      "\t\u001b[1mbarclays                 \u001b[0m sector=\u001b[1mFinancials\u001b[0m\n",
      "\t\u001b[1mlegal_&_general_group    \u001b[0m sector=\u001b[1mFinancials\u001b[0m\n",
      "\t\u001b[1mlondon_stock_exchange_group\u001b[0m sector=\u001b[1mFinancials\u001b[0m\n",
      "\t\u001b[1mstandard_chartered       \u001b[0m sector=\u001b[1mFinancials\u001b[0m\n",
      "\t\u001b[1mrightmove                \u001b[0m sector=\u001b[1mReal Estate\u001b[0m\n",
      "\t\u001b[1msegro                    \u001b[0m sector=\u001b[1mReal Estate\u001b[0m\n",
      "\t\u001b[1mbytes_technology_group   \u001b[0m sector=\u001b[1mTechnology\u001b[0m\n",
      "\t\u001b[1mcomputacenter            \u001b[0m sector=\u001b[1mTechnology\u001b[0m\n",
      "\t\u001b[1mdeliveroo                \u001b[0m sector=\u001b[1mTechnology\u001b[0m\n",
      "\t\u001b[1mhelios_towers            \u001b[0m sector=\u001b[1mTelecommunications\u001b[0m\n",
      "\t\u001b[1mtelecom_plus             \u001b[0m sector=\u001b[1mTelecommunications\u001b[0m\n",
      "\t\u001b[1mcentrica                 \u001b[0m sector=\u001b[1mUtilities\u001b[0m\n",
      "\t\u001b[1mgood_energy_group        \u001b[0m sector=\u001b[1mUtilities\u001b[0m\n",
      "\t\u001b[1mnational_grid            \u001b[0m sector=\u001b[1mUtilities\u001b[0m\n",
      "\t\u001b[1mrenewi                   \u001b[0m sector=\u001b[1mUtilities\u001b[0m\n",
      "\n",
      "\n",
      "\u001b[1m14: Life below water                                            \u001b[0m len(validated_companies)=4\n",
      "\t\u001b[1mcroda_international      \u001b[0m sector=\u001b[1mBasic Materials\u001b[0m\n",
      "\t\u001b[1mcompass_group            \u001b[0m sector=\u001b[1mConsumer Discretionary\u001b[0m\n",
      "\t\u001b[1mnext                     \u001b[0m sector=\u001b[1mConsumer Discretionary\u001b[0m\n",
      "\t\u001b[1mrenewi                   \u001b[0m sector=\u001b[1mUtilities\u001b[0m\n",
      "\n",
      "\n",
      "\u001b[1m15: Life on land                                                \u001b[0m len(validated_companies)=1\n",
      "\t\u001b[1mcroda_international      \u001b[0m sector=\u001b[1mBasic Materials\u001b[0m\n",
      "\n",
      "\n",
      "16: Peace, justice and strong institutions                       len(validated_companies)=0\n",
      "\u001b[1m17: Partnerships for the goals                                  \u001b[0m len(validated_companies)=1\n",
      "\t\u001b[1mnational_grid            \u001b[0m sector=\u001b[1mUtilities\u001b[0m\n",
      "\n",
      "\n",
      "\n",
      "\u001b[1m2023\u001b[0m\n",
      "\u001b[1m01: No Poverty                                                  \u001b[0m len(validated_companies)=1\n",
      "\t\u001b[1mcroda_international      \u001b[0m sector=\u001b[1mBasic Materials\u001b[0m\n",
      "\n",
      "\n",
      "\u001b[1m02: Zero hunger                                                 \u001b[0m len(validated_companies)=6\n",
      "\t\u001b[1mcroda_international      \u001b[0m sector=\u001b[1mBasic Materials\u001b[0m\n",
      "\t\u001b[1mcompass_group            \u001b[0m sector=\u001b[1mConsumer Discretionary\u001b[0m\n",
      "\t\u001b[1massociated_british_foods \u001b[0m sector=\u001b[1mConsumer Staples\u001b[0m\n",
      "\t\u001b[1mmarks_and_spencer_group  \u001b[0m sector=\u001b[1mConsumer Staples\u001b[0m\n",
      "\t\u001b[1mreckitt_benckiser_group  \u001b[0m sector=\u001b[1mConsumer Staples\u001b[0m\n",
      "\t\u001b[1msainsbury_(j)            \u001b[0m sector=\u001b[1mConsumer Staples\u001b[0m\n",
      "\n",
      "\n",
      "\u001b[1m03: Good health and well-being                                  \u001b[0m len(validated_companies)=1\n",
      "\t\u001b[1mastrazeneca              \u001b[0m sector=\u001b[1mHealth Care\u001b[0m\n",
      "\n",
      "\n",
      "04: Quality education                                            len(validated_companies)=0\n",
      "05: Gender equality                                              len(validated_companies)=0\n",
      "\u001b[1m06: Clean water and sanitation                                  \u001b[0m len(validated_companies)=2\n",
      "\t\u001b[1mpennon_group             \u001b[0m sector=\u001b[1mUtilities\u001b[0m\n",
      "\t\u001b[1munited_utilities_group   \u001b[0m sector=\u001b[1mUtilities\u001b[0m\n",
      "\n",
      "\n",
      "\u001b[1m07: Affordable and clean energy                                 \u001b[0m len(validated_companies)=3\n",
      "\t\u001b[1mcentrica                 \u001b[0m sector=\u001b[1mUtilities\u001b[0m\n",
      "\t\u001b[1mgood_energy_group        \u001b[0m sector=\u001b[1mUtilities\u001b[0m\n",
      "\t\u001b[1msse                      \u001b[0m sector=\u001b[1mUtilities\u001b[0m\n",
      "\n",
      "\n",
      "08: Decent work and economic growth                              len(validated_companies)=0\n",
      "09: Industry, Innovation, Technology and Infrastructure          len(validated_companies)=0\n",
      "10: Reduced inequality                                           len(validated_companies)=0\n",
      "11: Sustainable cities and communities                           len(validated_companies)=0\n",
      "\u001b[1m12: Responsible consumption and production                      \u001b[0m len(validated_companies)=9\n",
      "\t\u001b[1mcroda_international      \u001b[0m sector=\u001b[1mBasic Materials\u001b[0m\n",
      "\t\u001b[1mcompass_group            \u001b[0m sector=\u001b[1mConsumer Discretionary\u001b[0m\n",
      "\t\u001b[1mnext                     \u001b[0m sector=\u001b[1mConsumer Discretionary\u001b[0m\n",
      "\t\u001b[1massociated_british_foods \u001b[0m sector=\u001b[1mConsumer Staples\u001b[0m\n",
      "\t\u001b[1mmarks_and_spencer_group  \u001b[0m sector=\u001b[1mConsumer Staples\u001b[0m\n",
      "\t\u001b[1mreckitt_benckiser_group  \u001b[0m sector=\u001b[1mConsumer Staples\u001b[0m\n",
      "\t\u001b[1msmith_(ds)               \u001b[0m sector=\u001b[1mIndustrials\u001b[0m\n",
      "\t\u001b[1mwise                     \u001b[0m sector=\u001b[1mIndustrials\u001b[0m\n",
      "\t\u001b[1mcomputacenter            \u001b[0m sector=\u001b[1mTechnology\u001b[0m\n",
      "\n",
      "\n",
      "\u001b[1m13: Climate action                                              \u001b[0m len(validated_companies)=20\n",
      "\t\u001b[1mcroda_international      \u001b[0m sector=\u001b[1mBasic Materials\u001b[0m\n",
      "\t\u001b[1mintercontinental_hotels_group\u001b[0m sector=\u001b[1mConsumer Discretionary\u001b[0m\n",
      "\t\u001b[1mashtead_technology_holdings\u001b[0m sector=\u001b[1mEnergy\u001b[0m\n",
      "\t\u001b[1mbarclays                 \u001b[0m sector=\u001b[1mFinancials\u001b[0m\n",
      "\t\u001b[1mlegal_&_general_group    \u001b[0m sector=\u001b[1mFinancials\u001b[0m\n",
      "\t\u001b[1mlondon_stock_exchange_group\u001b[0m sector=\u001b[1mFinancials\u001b[0m\n",
      "\t\u001b[1mscottish_mortgage_investment_trust\u001b[0m sector=\u001b[1mFinancials\u001b[0m\n",
      "\t\u001b[1mstandard_chartered       \u001b[0m sector=\u001b[1mFinancials\u001b[0m\n",
      "\t\u001b[1mbunzl                    \u001b[0m sector=\u001b[1mIndustrials\u001b[0m\n",
      "\t\u001b[1mwise                     \u001b[0m sector=\u001b[1mIndustrials\u001b[0m\n",
      "\t\u001b[1msegro                    \u001b[0m sector=\u001b[1mReal Estate\u001b[0m\n",
      "\t\u001b[1mbytes_technology_group   \u001b[0m sector=\u001b[1mTechnology\u001b[0m\n",
      "\t\u001b[1mcomputacenter            \u001b[0m sector=\u001b[1mTechnology\u001b[0m\n",
      "\t\u001b[1mdeliveroo                \u001b[0m sector=\u001b[1mTechnology\u001b[0m\n",
      "\t\u001b[1mtrustpilot_group         \u001b[0m sector=\u001b[1mTechnology\u001b[0m\n",
      "\t\u001b[1mhelios_towers            \u001b[0m sector=\u001b[1mTelecommunications\u001b[0m\n",
      "\t\u001b[1mvodafone_group           \u001b[0m sector=\u001b[1mTelecommunications\u001b[0m\n",
      "\t\u001b[1mcentrica                 \u001b[0m sector=\u001b[1mUtilities\u001b[0m\n",
      "\t\u001b[1mpennon_group             \u001b[0m sector=\u001b[1mUtilities\u001b[0m\n",
      "\t\u001b[1msse                      \u001b[0m sector=\u001b[1mUtilities\u001b[0m\n",
      "\n",
      "\n",
      "\u001b[1m14: Life below water                                            \u001b[0m len(validated_companies)=11\n",
      "\t\u001b[1mcroda_international      \u001b[0m sector=\u001b[1mBasic Materials\u001b[0m\n",
      "\t\u001b[1mcompass_group            \u001b[0m sector=\u001b[1mConsumer Discretionary\u001b[0m\n",
      "\t\u001b[1mnext                     \u001b[0m sector=\u001b[1mConsumer Discretionary\u001b[0m\n",
      "\t\u001b[1mmarks_and_spencer_group  \u001b[0m sector=\u001b[1mConsumer Staples\u001b[0m\n",
      "\t\u001b[1mreckitt_benckiser_group  \u001b[0m sector=\u001b[1mConsumer Staples\u001b[0m\n",
      "\t\u001b[1mshell                    \u001b[0m sector=\u001b[1mEnergy\u001b[0m\n",
      "\t\u001b[1msmith_(ds)               \u001b[0m sector=\u001b[1mIndustrials\u001b[0m\n",
      "\t\u001b[1mwise                     \u001b[0m sector=\u001b[1mIndustrials\u001b[0m\n",
      "\t\u001b[1mpennon_group             \u001b[0m sector=\u001b[1mUtilities\u001b[0m\n",
      "\t\u001b[1mrenewi                   \u001b[0m sector=\u001b[1mUtilities\u001b[0m\n",
      "\t\u001b[1msevern_trent             \u001b[0m sector=\u001b[1mUtilities\u001b[0m\n",
      "\n",
      "\n",
      "\u001b[1m15: Life on land                                                \u001b[0m len(validated_companies)=1\n",
      "\t\u001b[1mcroda_international      \u001b[0m sector=\u001b[1mBasic Materials\u001b[0m\n",
      "\n",
      "\n",
      "16: Peace, justice and strong institutions                       len(validated_companies)=0\n",
      "\u001b[1m17: Partnerships for the goals                                  \u001b[0m len(validated_companies)=1\n",
      "\t\u001b[1msage_group               \u001b[0m sector=\u001b[1mTechnology\u001b[0m\n",
      "\n",
      "\n"
     ]
    }
   ],
   "source": [
    "for i_y, year in enumerate(tqdm(years)):\n",
    "    print(f'\\n\\033[1m{year:}\\033[0m')\n",
    "    compa_y=vectors[vectors['year']==year]['company']\n",
    "    sec_y=vectors[vectors['year']==year]['sector']\n",
    "    for i_s, sdg in enumerate(sdg_helper.keys()):\n",
    "        _fdr_th=fdr_th(cos_sims_SDGs[i_y*l_sdgs+i_s]['p_val'], alpha)\n",
    "        validation_mask=cos_sims_SDGs[i_y*l_sdgs+i_s]['p_val']<=_fdr_th\n",
    "        validated_compa=compa_y[validation_mask]\n",
    "        validated_sec=sec_y[validation_mask]\n",
    "        if len(validated_compa)>0:\n",
    "            print(f'\\033[1m{sdg:}: {sdg_helper[sdg]:60}\\033[0m len(validated_companies)={len(validated_compa):}')\n",
    "            for i_vc, vc in enumerate(validated_compa):\n",
    "                print(f'\\t\\033[1m{vc:25}\\033[0m sector=\\033[1m{sec_helper[validated_sec[i_vc]]:}\\033[0m')\n",
    "            print('\\n')\n",
    "        else:\n",
    "            print(f'{sdg:}: {sdg_helper[sdg]:60} len(validated_companies)={len(validated_compa):}')"
   ]
  },
  {
   "cell_type": "code",
   "execution_count": null,
   "id": "2bf065e2",
   "metadata": {},
   "outputs": [],
   "source": []
  }
 ],
 "metadata": {
  "kernelspec": {
   "display_name": "Python 3 (ipykernel)",
   "language": "python",
   "name": "python3"
  },
  "language_info": {
   "codemirror_mode": {
    "name": "ipython",
    "version": 3
   },
   "file_extension": ".py",
   "mimetype": "text/x-python",
   "name": "python",
   "nbconvert_exporter": "python",
   "pygments_lexer": "ipython3",
   "version": "3.8.10"
  },
  "notify_time": "5",
  "toc": {
   "base_numbering": 1,
   "nav_menu": {},
   "number_sections": true,
   "sideBar": true,
   "skip_h1_title": false,
   "title_cell": "Table of Contents",
   "title_sidebar": "Contents",
   "toc_cell": false,
   "toc_position": {
    "height": "calc(100% - 180px)",
    "left": "10px",
    "top": "150px",
    "width": "288px"
   },
   "toc_section_display": true,
   "toc_window_display": true
  }
 },
 "nbformat": 4,
 "nbformat_minor": 5
}
