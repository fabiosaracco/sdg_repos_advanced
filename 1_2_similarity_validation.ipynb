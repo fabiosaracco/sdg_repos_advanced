{
 "cells": [
  {
   "cell_type": "markdown",
   "id": "9d355d9a",
   "metadata": {},
   "source": [
    "# Intro"
   ]
  },
  {
   "cell_type": "markdown",
   "id": "3f55ffe2",
   "metadata": {},
   "source": [
    "## Standard modules"
   ]
  },
  {
   "cell_type": "code",
   "execution_count": 1,
   "id": "243e7bcd",
   "metadata": {
    "ExecuteTime": {
     "end_time": "2025-06-11T08:55:15.177783Z",
     "start_time": "2025-06-11T08:55:15.061476Z"
    }
   },
   "outputs": [],
   "source": [
    "import os, sys\n",
    "import pathlib\n",
    "import requests"
   ]
  },
  {
   "cell_type": "code",
   "execution_count": 2,
   "id": "76a89f3e",
   "metadata": {
    "ExecuteTime": {
     "end_time": "2025-06-11T08:55:15.461975Z",
     "start_time": "2025-06-11T08:55:15.328573Z"
    }
   },
   "outputs": [],
   "source": [
    "import numpy as np"
   ]
  },
  {
   "cell_type": "code",
   "execution_count": 3,
   "id": "6f06ea51",
   "metadata": {
    "ExecuteTime": {
     "end_time": "2025-06-11T08:55:15.781186Z",
     "start_time": "2025-06-11T08:55:15.648402Z"
    }
   },
   "outputs": [],
   "source": [
    "from tqdm.auto import tqdm, trange"
   ]
  },
  {
   "cell_type": "code",
   "execution_count": 4,
   "id": "4c77dd02",
   "metadata": {
    "ExecuteTime": {
     "end_time": "2025-06-11T08:55:19.445721Z",
     "start_time": "2025-06-11T08:55:15.872333Z"
    }
   },
   "outputs": [],
   "source": [
    "from sentence_transformers import util"
   ]
  },
  {
   "cell_type": "code",
   "execution_count": 5,
   "id": "685d4a87",
   "metadata": {
    "ExecuteTime": {
     "end_time": "2025-06-11T08:55:20.162330Z",
     "start_time": "2025-06-11T08:55:19.449920Z"
    }
   },
   "outputs": [],
   "source": [
    "import matplotlib.pyplot as plt\n",
    "plt.rcParams['axes.linewidth'] = 2\n",
    "plt.rcParams['xtick.major.size'] = 10\n",
    "plt.rcParams['xtick.major.width'] = 2\n",
    "plt.rcParams['ytick.major.size'] = 10\n",
    "plt.rcParams['ytick.major.width'] = 2\n",
    "\n",
    "plt.rcParams['xtick.labelsize'] = 14\n",
    "plt.rcParams['ytick.labelsize'] = 14\n",
    "\n",
    "plt.rcParams['xtick.minor.size'] = 5\n",
    "plt.rcParams['xtick.minor.width'] = 1\n",
    "plt.rcParams['ytick.minor.size'] = 5\n",
    "plt.rcParams['ytick.minor.width'] = 1"
   ]
  },
  {
   "cell_type": "code",
   "execution_count": 6,
   "id": "68a69449",
   "metadata": {
    "ExecuteTime": {
     "end_time": "2025-06-11T08:55:20.237904Z",
     "start_time": "2025-06-11T08:55:20.165055Z"
    }
   },
   "outputs": [],
   "source": [
    "from sklearn.decomposition import PCA"
   ]
  },
  {
   "cell_type": "code",
   "execution_count": 7,
   "id": "d78c4dd1",
   "metadata": {
    "ExecuteTime": {
     "end_time": "2025-06-11T08:55:20.564720Z",
     "start_time": "2025-06-11T08:55:20.242604Z"
    }
   },
   "outputs": [],
   "source": [
    "import seaborn"
   ]
  },
  {
   "cell_type": "code",
   "execution_count": 8,
   "id": "770f8075",
   "metadata": {
    "ExecuteTime": {
     "end_time": "2025-06-11T08:55:20.575901Z",
     "start_time": "2025-06-11T08:55:20.568845Z"
    }
   },
   "outputs": [],
   "source": [
    "import pymannkendall as mk"
   ]
  },
  {
   "cell_type": "code",
   "execution_count": 9,
   "id": "e697d829",
   "metadata": {
    "ExecuteTime": {
     "end_time": "2025-06-11T08:55:20.646377Z",
     "start_time": "2025-06-11T08:55:20.580144Z"
    }
   },
   "outputs": [],
   "source": [
    "from scipy.spatial.distance import cosine"
   ]
  },
  {
   "cell_type": "code",
   "execution_count": 10,
   "id": "9e483e6e",
   "metadata": {
    "ExecuteTime": {
     "end_time": "2025-06-11T08:55:20.713183Z",
     "start_time": "2025-06-11T08:55:20.649359Z"
    }
   },
   "outputs": [],
   "source": [
    "import requests\n",
    "import re\n",
    "from bs4 import BeautifulSoup  # Per pulizia HTML nelle REST API"
   ]
  },
  {
   "cell_type": "code",
   "execution_count": 147,
   "id": "6610f569",
   "metadata": {
    "ExecuteTime": {
     "end_time": "2025-06-11T12:03:56.463474Z",
     "start_time": "2025-06-11T12:03:56.452464Z"
    }
   },
   "outputs": [],
   "source": [
    "import datetime as dt"
   ]
  },
  {
   "cell_type": "markdown",
   "id": "1432f652",
   "metadata": {},
   "source": [
    "## Personal modules"
   ]
  },
  {
   "cell_type": "code",
   "execution_count": 12,
   "id": "67e0a3ab",
   "metadata": {
    "ExecuteTime": {
     "end_time": "2025-06-11T08:55:20.952338Z",
     "start_time": "2025-06-11T08:55:20.935808Z"
    }
   },
   "outputs": [],
   "source": [
    "from toolbox.updater import time_is_now"
   ]
  },
  {
   "cell_type": "code",
   "execution_count": 13,
   "id": "c0d32407",
   "metadata": {
    "ExecuteTime": {
     "end_time": "2025-06-11T08:55:21.043110Z",
     "start_time": "2025-06-11T08:55:20.958061Z"
    }
   },
   "outputs": [],
   "source": [
    "from file2text import file2text"
   ]
  },
  {
   "cell_type": "code",
   "execution_count": 14,
   "id": "741c4247",
   "metadata": {
    "ExecuteTime": {
     "end_time": "2025-06-11T08:55:21.113286Z",
     "start_time": "2025-06-11T08:55:21.046561Z"
    }
   },
   "outputs": [],
   "source": [
    "from first_rough_cleaning import first_text_cleaner"
   ]
  },
  {
   "cell_type": "code",
   "execution_count": 15,
   "id": "59ea4230",
   "metadata": {
    "ExecuteTime": {
     "end_time": "2025-06-11T08:55:21.197226Z",
     "start_time": "2025-06-11T08:55:21.116859Z"
    }
   },
   "outputs": [],
   "source": [
    "from file_handler import *"
   ]
  },
  {
   "cell_type": "code",
   "execution_count": 16,
   "id": "ba8385e5",
   "metadata": {
    "ExecuteTime": {
     "end_time": "2025-06-11T08:55:26.231628Z",
     "start_time": "2025-06-11T08:55:21.200690Z"
    }
   },
   "outputs": [
    {
     "name": "stderr",
     "output_type": "stream",
     "text": [
      "/home/sarawalk/sdgs_py38/lib/python3.8/site-packages/torch/cuda/__init__.py:118: UserWarning: CUDA initialization: The NVIDIA driver on your system is too old (found version 10020). Please update your GPU driver by downloading and installing a new version from the URL: http://www.nvidia.com/Download/index.aspx Alternatively, go to: https://pytorch.org to install a PyTorch version that has been compiled with your version of the CUDA driver. (Triggered internally at ../c10/cuda/CUDAFunctions.cpp:108.)\n",
      "  return torch._C._cuda_getDeviceCount() > 0\n"
     ]
    }
   ],
   "source": [
    "from jina4lote import jina4lote"
   ]
  },
  {
   "cell_type": "markdown",
   "id": "f1ccd668",
   "metadata": {},
   "source": [
    "## Folders"
   ]
  },
  {
   "cell_type": "code",
   "execution_count": 17,
   "id": "5d1656c7",
   "metadata": {
    "ExecuteTime": {
     "end_time": "2025-06-11T08:55:26.242271Z",
     "start_time": "2025-06-11T08:55:26.237786Z"
    }
   },
   "outputs": [],
   "source": [
    "VECTOR_FOLDER='./NewProcessedData/vectors/'"
   ]
  },
  {
   "cell_type": "code",
   "execution_count": 18,
   "id": "02958209",
   "metadata": {
    "ExecuteTime": {
     "end_time": "2025-06-11T08:55:26.347676Z",
     "start_time": "2025-06-11T08:55:26.245656Z"
    }
   },
   "outputs": [],
   "source": [
    "BENCHMARK_FOLDER='./NewProcessedData/benchmarks/'"
   ]
  },
  {
   "cell_type": "code",
   "execution_count": 19,
   "id": "b47d1124",
   "metadata": {
    "ExecuteTime": {
     "end_time": "2025-06-11T08:55:26.421549Z",
     "start_time": "2025-06-11T08:55:26.350579Z"
    }
   },
   "outputs": [],
   "source": [
    "PCA_CENTR_VECTOR_FOLDER='./NewProcessedData/pca_centr_vectors/'"
   ]
  },
  {
   "cell_type": "markdown",
   "id": "115df153",
   "metadata": {},
   "source": [
    "## Witten's vector"
   ]
  },
  {
   "cell_type": "code",
   "execution_count": 20,
   "id": "347aa29b",
   "metadata": {
    "ExecuteTime": {
     "end_time": "2025-06-11T08:55:26.533000Z",
     "start_time": "2025-06-11T08:55:26.424986Z"
    }
   },
   "outputs": [],
   "source": [
    "wittenvecfile=[file for file in os.listdir(BENCHMARK_FOLDER) if file.startswith('Witten') and file.endswith('.txt')][0]"
   ]
  },
  {
   "cell_type": "code",
   "execution_count": 21,
   "id": "328bdd2f",
   "metadata": {
    "ExecuteTime": {
     "end_time": "2025-06-11T08:55:26.612247Z",
     "start_time": "2025-06-11T08:55:26.536675Z"
    }
   },
   "outputs": [],
   "source": [
    "wittenvec=np.genfromtxt(BENCHMARK_FOLDER+wittenvecfile)"
   ]
  },
  {
   "cell_type": "markdown",
   "id": "f7425ef2",
   "metadata": {},
   "source": [
    "## Load vectors"
   ]
  },
  {
   "cell_type": "code",
   "execution_count": 22,
   "id": "e57e6d6d",
   "metadata": {
    "ExecuteTime": {
     "end_time": "2025-06-11T08:55:26.697160Z",
     "start_time": "2025-06-11T08:55:26.615985Z"
    }
   },
   "outputs": [],
   "source": [
    "vecfiles=os.listdir(PCA_CENTR_VECTOR_FOLDER)"
   ]
  },
  {
   "cell_type": "code",
   "execution_count": 23,
   "id": "752a5a91",
   "metadata": {
    "ExecuteTime": {
     "end_time": "2025-06-11T08:55:26.779792Z",
     "start_time": "2025-06-11T08:55:26.700745Z"
    }
   },
   "outputs": [],
   "source": [
    "vecfiles.sort()"
   ]
  },
  {
   "cell_type": "markdown",
   "id": "bb04f561",
   "metadata": {},
   "source": [
    "### Goals' vectors"
   ]
  },
  {
   "cell_type": "markdown",
   "id": "1bd00ad8",
   "metadata": {},
   "source": [
    "#### Load files"
   ]
  },
  {
   "cell_type": "code",
   "execution_count": 24,
   "id": "ea61a32d",
   "metadata": {
    "ExecuteTime": {
     "end_time": "2025-06-11T08:55:26.880287Z",
     "start_time": "2025-06-11T08:55:26.782686Z"
    }
   },
   "outputs": [],
   "source": [
    "goalvecfiles=[vecfile for vecfile in vecfiles if vecfile.startswith('Goal')]"
   ]
  },
  {
   "cell_type": "code",
   "execution_count": 25,
   "id": "aaf420e1",
   "metadata": {
    "ExecuteTime": {
     "end_time": "2025-06-11T08:55:26.971377Z",
     "start_time": "2025-06-11T08:55:26.887799Z"
    }
   },
   "outputs": [],
   "source": [
    "goalvecfiles.sort()"
   ]
  },
  {
   "cell_type": "code",
   "execution_count": 26,
   "id": "788225d9",
   "metadata": {
    "ExecuteTime": {
     "end_time": "2025-06-11T08:55:27.057480Z",
     "start_time": "2025-06-11T08:55:26.974656Z"
    }
   },
   "outputs": [
    {
     "data": {
      "text/plain": [
       "['Goal-01-Fast-Facts.txt',\n",
       " 'Goal-02-Fast-Facts.txt',\n",
       " 'Goal-03-Fast-Facts.txt',\n",
       " 'Goal-04-Fast-Facts.txt',\n",
       " 'Goal-05-Fast-Facts.txt',\n",
       " 'Goal-06-Fast-Facts.txt',\n",
       " 'Goal-07-Fast-Facts.txt',\n",
       " 'Goal-08-Fast-Facts.txt',\n",
       " 'Goal-09-Fast-Facts.txt',\n",
       " 'Goal-10-Fast-Facts.txt',\n",
       " 'Goal-11_Fast-Facts.txt',\n",
       " 'Goal-12_Fast-Facts.txt',\n",
       " 'Goal-13_Fast-Facts.txt',\n",
       " 'Goal-14_Fast-Facts.txt',\n",
       " 'Goal-15-Fast-Facts.txt',\n",
       " 'Goal-16-Fast-Facts.txt',\n",
       " 'Goal-17-Fast-Facts.txt',\n",
       " 'Goal-Fast-Facts.txt']"
      ]
     },
     "execution_count": 26,
     "metadata": {},
     "output_type": "execute_result"
    }
   ],
   "source": [
    "goalvecfiles"
   ]
  },
  {
   "cell_type": "code",
   "execution_count": 27,
   "id": "05b56c3f",
   "metadata": {
    "ExecuteTime": {
     "end_time": "2025-06-11T08:55:27.158963Z",
     "start_time": "2025-06-11T08:55:27.061190Z"
    }
   },
   "outputs": [],
   "source": [
    "goalvecs=[np.genfromtxt(PCA_CENTR_VECTOR_FOLDER+goalvecfile) for goalvecfile in goalvecfiles]"
   ]
  },
  {
   "cell_type": "markdown",
   "id": "a06b97cf",
   "metadata": {},
   "source": [
    "### Reports' vectors"
   ]
  },
  {
   "cell_type": "code",
   "execution_count": 28,
   "id": "64bb38ce",
   "metadata": {
    "ExecuteTime": {
     "end_time": "2025-06-11T08:55:27.716187Z",
     "start_time": "2025-06-11T08:55:27.710056Z"
    }
   },
   "outputs": [],
   "source": [
    "reports_files=[vecfile for vecfile in vecfiles if vecfile[:4].isnumeric()]"
   ]
  },
  {
   "cell_type": "code",
   "execution_count": 29,
   "id": "41af9487",
   "metadata": {
    "ExecuteTime": {
     "end_time": "2025-06-11T08:55:28.075568Z",
     "start_time": "2025-06-11T08:55:28.070203Z"
    }
   },
   "outputs": [],
   "source": [
    "reports_files.sort()"
   ]
  },
  {
   "cell_type": "code",
   "execution_count": 30,
   "id": "3a077204",
   "metadata": {
    "ExecuteTime": {
     "end_time": "2025-06-11T08:55:28.413268Z",
     "start_time": "2025-06-11T08:55:28.405985Z"
    }
   },
   "outputs": [],
   "source": [
    "years, k_y=np.unique([rf[:4] for rf in reports_files], return_counts=True)"
   ]
  },
  {
   "cell_type": "code",
   "execution_count": 31,
   "id": "742b0f9b",
   "metadata": {
    "ExecuteTime": {
     "end_time": "2025-06-11T08:55:29.072382Z",
     "start_time": "2025-06-11T08:55:29.063877Z"
    }
   },
   "outputs": [
    {
     "data": {
      "text/plain": [
       "array([['2015', '40'],\n",
       "       ['2016', '44'],\n",
       "       ['2017', '51'],\n",
       "       ['2018', '56'],\n",
       "       ['2019', '67'],\n",
       "       ['2020', '69'],\n",
       "       ['2021', '76'],\n",
       "       ['2022', '80'],\n",
       "       ['2023', '90']], dtype='<U21')"
      ]
     },
     "execution_count": 31,
     "metadata": {},
     "output_type": "execute_result"
    }
   ],
   "source": [
    "np.vstack((years, k_y)).T"
   ]
  },
  {
   "cell_type": "code",
   "execution_count": 32,
   "id": "9d7eb13d",
   "metadata": {
    "ExecuteTime": {
     "end_time": "2025-06-11T08:55:30.972192Z",
     "start_time": "2025-06-11T08:55:30.965063Z"
    }
   },
   "outputs": [],
   "source": [
    "vectors=np.zeros(len(reports_files), dtype=[('year', 'i4'), ('sector', 'U2'), ('company', 'U100'), ('vector', object)])"
   ]
  },
  {
   "cell_type": "code",
   "execution_count": 33,
   "id": "25b3e269",
   "metadata": {
    "ExecuteTime": {
     "end_time": "2025-06-11T08:55:33.734899Z",
     "start_time": "2025-06-11T08:55:33.309441Z"
    }
   },
   "outputs": [],
   "source": [
    "for i_rf, reports_file in enumerate(reports_files):\n",
    "    # info from the filename\n",
    "    splitted_filename=reports_file.split('_')\n",
    "    \n",
    "    year=int(splitted_filename[0])\n",
    "    sector=splitted_filename[1]\n",
    "    if splitted_filename[-1]=='PLC.txt':\n",
    "        company='_'.join(splitted_filename[2:-1])\n",
    "    else:\n",
    "        company='_'.join(splitted_filename[2:])\n",
    "        company=company.replace('.txt', '')\n",
    "    company=company.lower()\n",
    "    # get the vector\n",
    "    vector=np.genfromtxt(PCA_CENTR_VECTOR_FOLDER+reports_file)\n",
    "    \n",
    "    # organize data\n",
    "    vectors[i_rf]['year']=year\n",
    "    vectors[i_rf]['sector']=sector\n",
    "    vectors[i_rf]['company']=company\n",
    "    vectors[i_rf]['vector']=vector"
   ]
  },
  {
   "cell_type": "markdown",
   "id": "38ed76f3",
   "metadata": {},
   "source": [
    "## Sector helper"
   ]
  },
  {
   "cell_type": "code",
   "execution_count": 34,
   "id": "56ff7fab",
   "metadata": {
    "ExecuteTime": {
     "end_time": "2025-06-11T08:55:34.060942Z",
     "start_time": "2025-06-11T08:55:34.053710Z"
    }
   },
   "outputs": [],
   "source": [
    "rtf_files=os.listdir('./rtf')\n",
    "rtf_files.sort()"
   ]
  },
  {
   "cell_type": "code",
   "execution_count": 35,
   "id": "f5e6692f",
   "metadata": {
    "ExecuteTime": {
     "end_time": "2025-06-11T08:55:34.420275Z",
     "start_time": "2025-06-11T08:55:34.412030Z"
    }
   },
   "outputs": [],
   "source": [
    "sec_helper={}\n",
    "for file in rtf_files:\n",
    "    splitted_name=file.split('_')\n",
    "    if splitted_name[0].isnumeric():\n",
    "        if splitted_name[0] not in sec_helper.keys():\n",
    "            sec_helper[splitted_name[0].zfill(2)]=splitted_name[1]"
   ]
  },
  {
   "cell_type": "code",
   "execution_count": 36,
   "id": "c267a7f5",
   "metadata": {
    "ExecuteTime": {
     "end_time": "2025-06-11T08:55:34.756828Z",
     "start_time": "2025-06-11T08:55:34.747133Z"
    }
   },
   "outputs": [
    {
     "data": {
      "text/plain": [
       "{'10': 'Telecommunications',\n",
       " '11': 'Utilities',\n",
       " '01': 'Basic Materials',\n",
       " '02': 'Consumer Discretionary',\n",
       " '03': 'Consumer Staples',\n",
       " '04': 'Energy',\n",
       " '05': 'Financials',\n",
       " '06': 'Health Care',\n",
       " '07': 'Industrials',\n",
       " '08': 'Real Estate',\n",
       " '09': 'Technology'}"
      ]
     },
     "execution_count": 36,
     "metadata": {},
     "output_type": "execute_result"
    }
   ],
   "source": [
    "sec_helper"
   ]
  },
  {
   "cell_type": "markdown",
   "id": "dc73d1af",
   "metadata": {},
   "source": [
    "## SDG helper"
   ]
  },
  {
   "cell_type": "code",
   "execution_count": 37,
   "id": "26986919",
   "metadata": {
    "ExecuteTime": {
     "end_time": "2025-06-11T08:55:35.501858Z",
     "start_time": "2025-06-11T08:55:35.494353Z"
    }
   },
   "outputs": [],
   "source": [
    "sdg_helper={'01':'No Poverty', \n",
    " '02': 'Zero hunger', \n",
    " '03': 'Good health and well-being', \n",
    " '04': 'Quality education',\n",
    " '05': 'Gender equality',\n",
    " '06': 'Clean water and sanitation',\n",
    " '07': 'Affordable and clean energy',\n",
    " '08': 'Decent work and economic growth',\n",
    " '09': 'Industry, Innovation, Technology and Infrastructure',\n",
    " '10': 'Reduced inequality',\n",
    " '11': 'Sustainable cities and communities',\n",
    " '12': 'Responsible consumption and production',\n",
    " '13': 'Climate action',\n",
    " '14': 'Life below water',\n",
    " '15': 'Life on land',\n",
    " '16': 'Peace, justice and strong institutions',\n",
    " '17': 'Partnerships for the goals'\n",
    "}"
   ]
  },
  {
   "cell_type": "markdown",
   "id": "288bc5c2",
   "metadata": {},
   "source": [
    "# The Wikipedia benchmark"
   ]
  },
  {
   "cell_type": "markdown",
   "id": "de7de191",
   "metadata": {},
   "source": [
    "## Function"
   ]
  },
  {
   "cell_type": "markdown",
   "id": "6c86c005",
   "metadata": {},
   "source": [
    "### get_wikipedia_texts: DeepSeek + Fabio"
   ]
  },
  {
   "cell_type": "code",
   "execution_count": 38,
   "id": "85017691",
   "metadata": {
    "ExecuteTime": {
     "end_time": "2025-06-11T08:55:38.651107Z",
     "start_time": "2025-06-11T08:55:38.645507Z"
    }
   },
   "outputs": [],
   "source": [
    "USER_AGENT = \"YourProject/1.0 (your@email.com)\"  # Obbligatorio per policy API"
   ]
  },
  {
   "cell_type": "markdown",
   "id": "5b0d336a",
   "metadata": {},
   "source": [
    "#### clean_wiki_text"
   ]
  },
  {
   "cell_type": "code",
   "execution_count": 69,
   "id": "b664d27a",
   "metadata": {
    "ExecuteTime": {
     "end_time": "2025-06-11T09:11:32.736291Z",
     "start_time": "2025-06-11T09:11:32.722324Z"
    }
   },
   "outputs": [],
   "source": [
    "def clean_wiki_text(text):\n",
    "    # Rimozione sezioni indesiderate (bibliografia, note, etc.)\n",
    "    text = re.sub(r'==\\s*References\\s*==.*|\\=\\=\\s*Notes\\s*\\=\\=.*|\\=\\=\\s*External links\\s*\\=\\=.*', '', text, flags=re.DOTALL)\n",
    "    \n",
    "    # Conversione markup Wiki -> Markdown\n",
    "    text = re.sub(r\"'''(.*?)'''\", r\"**\\1**\", text)  # Bold -> **bold**\n",
    "    text = re.sub(r\"''(.*?)''\", r\"*\\1*\", text)      # Italic -> *italic*\n",
    "    \n",
    "    # Rimozione complessa di template {{...}} e tag <...>\n",
    "    text = re.sub(r'\\{\\{[^{}]*?\\}\\}|\\<[^>]*?\\>', '', text)\n",
    "    \n",
    "    # Pulizia link [[...]] -> mantiene solo testo ([[testo|alias]] -> testo)\n",
    "    text = re.sub(r'\\[\\[([^|\\]]+?)(?:\\|.*?)?\\]\\]', r'\\1', text)\n",
    "    \n",
    "    # Rimozione riferimenti [1], [2-3], etc.\n",
    "    text = re.sub(r'\\[\\d+(?:\\-\\d+)?\\]', '', text)\n",
    "    \n",
    "    # Normalizzazione spazi e newline\n",
    "    text = re.sub(r'\\n{3,}', '\\n\\n', text)\n",
    "    text = re.sub(r'[ \\t]{2,}', ' ', text)\n",
    "    \n",
    "    return text.strip()"
   ]
  },
  {
   "cell_type": "markdown",
   "id": "5cbaa821",
   "metadata": {},
   "source": [
    "#### get_wikipedia_texts_v2"
   ]
  },
  {
   "cell_type": "code",
   "execution_count": 139,
   "id": "3eb60e33",
   "metadata": {
    "ExecuteTime": {
     "end_time": "2025-06-11T10:48:13.354801Z",
     "start_time": "2025-06-11T10:48:13.319821Z"
    }
   },
   "outputs": [],
   "source": [
    "def get_wikipedia_texts_v2(rnlimit=100):\n",
    "    base_url = \"https://en.wikipedia.org/w/api.php\"\n",
    "    texts = []\n",
    "    real_titles=[]\n",
    "    # Step 1: Ottenere titoli casuali\n",
    "    params_random = {\n",
    "        \"action\": \"query\",\n",
    "        \"format\": \"json\",\n",
    "        \"list\": \"random\",\n",
    "        \"rnnamespace\": 0,\n",
    "        \"rnlimit\": rnlimit,\n",
    "        \"rnminsize\": 6000,\n",
    "        \"rnmaxsize\": 10000,\n",
    "        \"rnfilterredir\": \"nonredirects\"\n",
    "    }\n",
    "    response_random = requests.get(base_url, params=params_random, headers={\"User-Agent\": USER_AGENT})\n",
    "    titles = [item['title'] for item in response_random.json()['query']['random']]\n",
    "    \n",
    "    # Step 2: Scaricare contenuti con parsing HTML\n",
    "    for title in titles:\n",
    "        api_params = {\n",
    "            \"action\": \"parse\",\n",
    "            \"page\": title,\n",
    "            \"format\": \"json\",\n",
    "            \"prop\": \"text\",\n",
    "            \"disabletoc\": 1\n",
    "        }\n",
    "        response = requests.get(base_url, params=api_params, headers={\"User-Agent\": USER_AGENT})\n",
    "        \n",
    "        if response.status_code == 200:\n",
    "            html_content = response.json().get('parse', {}).get('text', {}).get('*', '')\n",
    "            soup = BeautifulSoup(html_content, 'html.parser')\n",
    "            \n",
    "            # Rimozione elementi non testuali\n",
    "            for element in soup.find_all(['table', 'sup', 'img', 'figure', 'style', 'script']):\n",
    "                element.decompose()\n",
    "            paragraphs = [p.get_text(separator=' ', strip=True) for p in soup.find_all('p')]\n",
    "            full_text = \"\\n\\n\".join([p for p in paragraphs if len(p.split()) > 1])\n",
    "            \n",
    "            # Filtro finale sulla lunghezza (1000-1500 parole)\n",
    "            #word_count = len(full_text.split())\n",
    "            #if 1000 <= word_count <= 1500:\n",
    "            ftc=first_text_cleaner(clean_wiki_text(full_text))\n",
    "            texts.append(ftc)\n",
    "            real_titles.append(title)\n",
    "    return real_titles, texts"
   ]
  },
  {
   "cell_type": "markdown",
   "id": "7d1cbb71",
   "metadata": {
    "heading_collapsed": true
   },
   "source": [
    "## How long have to be the benchmark's texts?"
   ]
  },
  {
   "cell_type": "code",
   "execution_count": 41,
   "id": "1bfac39c",
   "metadata": {
    "ExecuteTime": {
     "end_time": "2025-06-11T08:02:01.779380Z",
     "start_time": "2025-06-11T08:02:01.687142Z"
    },
    "hidden": true
   },
   "outputs": [],
   "source": [
    "pdfs=[file for file in os.listdir(BENCHMARK_FOLDER) if file.endswith('.pdf')]\n",
    "pdfs.sort()"
   ]
  },
  {
   "cell_type": "code",
   "execution_count": 42,
   "id": "0430fefc",
   "metadata": {
    "ExecuteTime": {
     "end_time": "2025-06-11T08:02:01.869719Z",
     "start_time": "2025-06-11T08:02:01.792968Z"
    },
    "hidden": true
   },
   "outputs": [
    {
     "data": {
      "text/plain": [
       "['Goal-10-Fast-Facts.pdf',\n",
       " 'Goal-11_Fast-Facts.pdf',\n",
       " 'Goal-12_Fast-Facts.pdf',\n",
       " 'Goal-13_Fast-Facts.pdf',\n",
       " 'Goal-14_Fast-Facts.pdf',\n",
       " 'Goal-15-Fast-Facts.pdf',\n",
       " 'Goal-16-Fast-Facts.pdf',\n",
       " 'Goal-17-Fast-Facts.pdf',\n",
       " 'Goal-1_Fast-Facts.pdf',\n",
       " 'Goal-2_Fast-Facts.pdf',\n",
       " 'Goal-3_Fast-Facts.pdf',\n",
       " 'Goal-4_Fast-Facts.pdf',\n",
       " 'Goal-5_Fast-Facts.pdf',\n",
       " 'Goal-6_Fast-Facts.pdf',\n",
       " 'Goal-7_Fast-Facts.pdf',\n",
       " 'Goal-8_Fast-Facts.pdf',\n",
       " 'Goal-9-Fast-Facts.pdf',\n",
       " 'Goal-Fast-Facts.pdf',\n",
       " 'Witten_A_Mini_Introduction_To_Information_Theory.pdf']"
      ]
     },
     "execution_count": 42,
     "metadata": {},
     "output_type": "execute_result"
    }
   ],
   "source": [
    "pdfs"
   ]
  },
  {
   "cell_type": "code",
   "execution_count": 43,
   "id": "cacd07b8",
   "metadata": {
    "ExecuteTime": {
     "end_time": "2025-06-11T08:02:01.986117Z",
     "start_time": "2025-06-11T08:02:01.872824Z"
    },
    "hidden": true
   },
   "outputs": [
    {
     "data": {
      "application/vnd.jupyter.widget-view+json": {
       "model_id": "37fa29a0eafd4d9991a1d88a93018b27",
       "version_major": 2,
       "version_minor": 0
      },
      "text/plain": [
       "  0%|          | 0/19 [00:00<?, ?it/s]"
      ]
     },
     "metadata": {},
     "output_type": "display_data"
    }
   ],
   "source": [
    "l_benchs=[]\n",
    "for i_pdf, pdf in enumerate(tqdm(pdfs)):\n",
    "    # vector file name\n",
    "    vecfile=pdf.replace('.pdf', '.txt')\n",
    "    # get the md file name\n",
    "    file_name_md=pdf.replace('.pdf', '.md')\n",
    "    # read the md file\n",
    "    with open(BENCHMARK_FOLDER+file_name_md, 'r') as f:\n",
    "        markdown_string = f.read()\n",
    "    l_benchs.append(len(first_text_cleaner(markdown_string)))"
   ]
  },
  {
   "cell_type": "code",
   "execution_count": 44,
   "id": "630ffbf6",
   "metadata": {
    "ExecuteTime": {
     "end_time": "2025-06-11T08:02:02.058045Z",
     "start_time": "2025-06-11T08:02:01.989254Z"
    },
    "hidden": true
   },
   "outputs": [
    {
     "data": {
      "text/plain": [
       "(3533, 4639)"
      ]
     },
     "execution_count": 44,
     "metadata": {},
     "output_type": "execute_result"
    }
   ],
   "source": [
    "min(l_benchs), max(l_benchs[:-2])"
   ]
  },
  {
   "cell_type": "code",
   "execution_count": 45,
   "id": "242f73d5",
   "metadata": {
    "ExecuteTime": {
     "end_time": "2025-06-11T08:02:02.453053Z",
     "start_time": "2025-06-11T08:02:02.060819Z"
    },
    "hidden": true
   },
   "outputs": [
    {
     "data": {
      "image/png": "[encoded data removed]",
      "text/plain": [
       "<Figure size 640x480 with 1 Axes>"
      ]
     },
     "metadata": {},
     "output_type": "display_data"
    }
   ],
   "source": [
    "plt.hist(l_benchs[:-2], edgecolor='black')\n",
    "plt.show()"
   ]
  },
  {
   "cell_type": "code",
   "execution_count": 51,
   "id": "e8dc40ba",
   "metadata": {
    "ExecuteTime": {
     "end_time": "2025-06-11T08:03:46.768249Z",
     "start_time": "2025-06-11T08:03:46.762813Z"
    },
    "hidden": true
   },
   "outputs": [],
   "source": [
    "min_lenght=3000\n",
    "max_lenght=5000"
   ]
  },
  {
   "cell_type": "markdown",
   "id": "d00746b3",
   "metadata": {},
   "source": [
    "## Run"
   ]
  },
  {
   "cell_type": "code",
   "execution_count": 43,
   "id": "40c25881",
   "metadata": {
    "ExecuteTime": {
     "end_time": "2025-06-11T08:58:46.752577Z",
     "start_time": "2025-06-11T08:58:46.737024Z"
    }
   },
   "outputs": [],
   "source": [
    "min_lenght=3000\n",
    "max_lenght=5000"
   ]
  },
  {
   "cell_type": "markdown",
   "id": "9c8cffc3",
   "metadata": {},
   "source": [
    "Let it run in bunches:"
   ]
  },
  {
   "cell_type": "code",
   "execution_count": 40,
   "id": "a13f0001",
   "metadata": {
    "ExecuteTime": {
     "end_time": "2025-06-11T08:55:45.198783Z",
     "start_time": "2025-06-11T08:55:45.193211Z"
    }
   },
   "outputs": [],
   "source": [
    "th=4000"
   ]
  },
  {
   "cell_type": "code",
   "execution_count": 153,
   "id": "99a9f669",
   "metadata": {
    "ExecuteTime": {
     "end_time": "2025-06-11T14:19:59.882369Z",
     "start_time": "2025-06-11T12:12:23.947228Z"
    }
   },
   "outputs": [
    {
     "name": "stdout",
     "output_type": "stream",
     "text": [
      "[14:12:23] round=   0, len(titles)=   0\n",
      "[14:16:27] round=   1, len(titles)= 126\n",
      "[14:20:27] round=   2, len(titles)= 258\n",
      "[14:24:25] round=   3, len(titles)= 384\n",
      "[14:28:29] round=   4, len(titles)= 520\n",
      "[14:32:34] round=   5, len(titles)= 660\n",
      "[14:36:41] round=   6, len(titles)= 793\n",
      "[14:40:45] round=   7, len(titles)= 928\n",
      "[14:44:57] round=   8, len(titles)=1066\n",
      "[14:49:01] round=   9, len(titles)=1184\n",
      "[14:53:11] round=  10, len(titles)=1307\n",
      "[14:57:22] round=  11, len(titles)=1446\n",
      "[15:01:28] round=  12, len(titles)=1578\n",
      "[15:05:35] round=  13, len(titles)=1698\n",
      "[15:09:52] round=  14, len(titles)=1832\n",
      "[15:14:06] round=  15, len(titles)=1962\n",
      "[15:18:14] round=  16, len(titles)=2099\n",
      "[15:22:19] round=  17, len(titles)=2246\n",
      "[15:26:23] round=  18, len(titles)=2377\n",
      "[15:30:36] round=  19, len(titles)=2510\n",
      "[15:34:43] round=  20, len(titles)=2647\n",
      "[15:39:04] round=  21, len(titles)=2771\n",
      "[15:43:08] round=  22, len(titles)=2902\n",
      "[15:47:07] round=  23, len(titles)=3038\n",
      "[15:51:23] round=  24, len(titles)=3164\n",
      "[15:55:32] round=  25, len(titles)=3269\n",
      "[15:59:38] round=  26, len(titles)=3395\n",
      "[16:03:44] round=  27, len(titles)=3520\n",
      "[16:07:57] round=  28, len(titles)=3650\n",
      "[16:11:56] round=  29, len(titles)=3768\n",
      "[16:15:58] round=  30, len(titles)=3886\n"
     ]
    }
   ],
   "source": [
    "titles=[]\n",
    "texts=[]\n",
    "_round=0\n",
    "while len(titles)<th:\n",
    "    _titles, _texts = get_wikipedia_texts_v2(500)\n",
    "    for i_t, _text in enumerate(_texts): \n",
    "        if len(_text)>=min_lenght and len(_text)<=max_lenght:\n",
    "            texts.append(_text)\n",
    "            titles.append(_titles[i_t])\n",
    "    print(f'[{dt.datetime.now():%H:%M:%S}] round={_round:4}, len(titles)={len(titles):4}')\n",
    "    _round+=1"
   ]
  },
  {
   "cell_type": "markdown",
   "id": "31c61af7",
   "metadata": {},
   "source": [
    "### Save texts"
   ]
  },
  {
   "cell_type": "code",
   "execution_count": 159,
   "id": "2eaaaf4b",
   "metadata": {
    "ExecuteTime": {
     "end_time": "2025-06-11T14:22:18.612179Z",
     "start_time": "2025-06-11T14:22:18.604918Z"
    }
   },
   "outputs": [],
   "source": [
    "def title2filename(counter, title):\n",
    "    return 'wikipedia_'+str(counter).zfill(4)+'_'+'_'.join(title.replace('/', '_').split(' '))+'.txt'"
   ]
  },
  {
   "cell_type": "code",
   "execution_count": 160,
   "id": "ad739ed2",
   "metadata": {
    "ExecuteTime": {
     "end_time": "2025-06-11T14:22:19.707973Z",
     "start_time": "2025-06-11T14:22:19.200376Z"
    }
   },
   "outputs": [
    {
     "data": {
      "application/vnd.jupyter.widget-view+json": {
       "model_id": "844d0df372c64e5788b8ed94e9c05702",
       "version_major": 2,
       "version_minor": 0
      },
      "text/plain": [
       "  0%|          | 0/4001 [00:00<?, ?it/s]"
      ]
     },
     "metadata": {},
     "output_type": "display_data"
    }
   ],
   "source": [
    "for i_t, title in enumerate(tqdm(titles)):\n",
    "    file_name=title2filename(i_t, title)\n",
    "    with open(BENCHMARK_FOLDER+file_name, 'w') as f:\n",
    "        f.write(texts[i_t])"
   ]
  },
  {
   "cell_type": "code",
   "execution_count": 161,
   "id": "81273603",
   "metadata": {
    "ExecuteTime": {
     "end_time": "2025-06-11T14:22:21.013743Z",
     "start_time": "2025-06-11T14:22:21.003792Z"
    }
   },
   "outputs": [
    {
     "data": {
      "text/plain": [
       "'Lola B08/60'"
      ]
     },
     "execution_count": 161,
     "metadata": {},
     "output_type": "execute_result"
    }
   ],
   "source": [
    "titles[435]"
   ]
  },
  {
   "cell_type": "markdown",
   "id": "2d490c5f",
   "metadata": {},
   "source": []
  }
 ],
 "metadata": {
  "kernelspec": {
   "display_name": "Python 3 (ipykernel)",
   "language": "python",
   "name": "python3"
  },
  "language_info": {
   "codemirror_mode": {
    "name": "ipython",
    "version": 3
   },
   "file_extension": ".py",
   "mimetype": "text/x-python",
   "name": "python",
   "nbconvert_exporter": "python",
   "pygments_lexer": "ipython3",
   "version": "3.8.10"
  },
  "notify_time": "5",
  "toc": {
   "base_numbering": 1,
   "nav_menu": {},
   "number_sections": true,
   "sideBar": true,
   "skip_h1_title": false,
   "title_cell": "Table of Contents",
   "title_sidebar": "Contents",
   "toc_cell": false,
   "toc_position": {
    "height": "calc(100% - 180px)",
    "left": "10px",
    "top": "150px",
    "width": "288px"
   },
   "toc_section_display": true,
   "toc_window_display": true
  }
 },
 "nbformat": 4,
 "nbformat_minor": 5
}
