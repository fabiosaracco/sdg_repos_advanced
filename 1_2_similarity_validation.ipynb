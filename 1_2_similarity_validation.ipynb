{
 "cells": [
  {
   "cell_type": "markdown",
   "id": "f828bc84",
   "metadata": {},
   "source": [
    "# Intro"
   ]
  },
  {
   "cell_type": "markdown",
   "id": "2c5c8166",
   "metadata": {},
   "source": [
    "## Standard modules"
   ]
  },
  {
   "cell_type": "code",
   "execution_count": 2,
   "id": "549f8282",
   "metadata": {
    "ExecuteTime": {
     "end_time": "2025-06-11T08:01:48.233051Z",
     "start_time": "2025-06-11T08:01:48.125401Z"
    }
   },
   "outputs": [],
   "source": [
    "import os, sys\n",
    "import pathlib\n",
    "import requests"
   ]
  },
  {
   "cell_type": "code",
   "execution_count": 3,
   "id": "c8c1acba",
   "metadata": {
    "ExecuteTime": {
     "end_time": "2025-06-11T08:01:48.372656Z",
     "start_time": "2025-06-11T08:01:48.238526Z"
    }
   },
   "outputs": [],
   "source": [
    "import numpy as np"
   ]
  },
  {
   "cell_type": "code",
   "execution_count": 4,
   "id": "afeb3477",
   "metadata": {
    "ExecuteTime": {
     "end_time": "2025-06-11T08:01:48.504006Z",
     "start_time": "2025-06-11T08:01:48.376224Z"
    }
   },
   "outputs": [],
   "source": [
    "from tqdm.auto import tqdm, trange"
   ]
  },
  {
   "cell_type": "code",
   "execution_count": 5,
   "id": "f2fd71fa",
   "metadata": {
    "ExecuteTime": {
     "end_time": "2025-06-11T08:01:52.104873Z",
     "start_time": "2025-06-11T08:01:48.511759Z"
    }
   },
   "outputs": [],
   "source": [
    "from sentence_transformers import util"
   ]
  },
  {
   "cell_type": "code",
   "execution_count": 6,
   "id": "a30e2460",
   "metadata": {
    "ExecuteTime": {
     "end_time": "2025-06-11T08:01:52.823837Z",
     "start_time": "2025-06-11T08:01:52.108343Z"
    }
   },
   "outputs": [],
   "source": [
    "import matplotlib.pyplot as plt\n",
    "plt.rcParams['axes.linewidth'] = 2\n",
    "plt.rcParams['xtick.major.size'] = 10\n",
    "plt.rcParams['xtick.major.width'] = 2\n",
    "plt.rcParams['ytick.major.size'] = 10\n",
    "plt.rcParams['ytick.major.width'] = 2\n",
    "\n",
    "plt.rcParams['xtick.labelsize'] = 14\n",
    "plt.rcParams['ytick.labelsize'] = 14\n",
    "\n",
    "plt.rcParams['xtick.minor.size'] = 5\n",
    "plt.rcParams['xtick.minor.width'] = 1\n",
    "plt.rcParams['ytick.minor.size'] = 5\n",
    "plt.rcParams['ytick.minor.width'] = 1"
   ]
  },
  {
   "cell_type": "code",
   "execution_count": 7,
   "id": "36004a43",
   "metadata": {
    "ExecuteTime": {
     "end_time": "2025-06-11T08:01:52.900850Z",
     "start_time": "2025-06-11T08:01:52.827224Z"
    }
   },
   "outputs": [],
   "source": [
    "from sklearn.decomposition import PCA"
   ]
  },
  {
   "cell_type": "code",
   "execution_count": 8,
   "id": "adae12ca",
   "metadata": {
    "ExecuteTime": {
     "end_time": "2025-06-11T08:01:53.247132Z",
     "start_time": "2025-06-11T08:01:52.905689Z"
    }
   },
   "outputs": [],
   "source": [
    "import seaborn"
   ]
  },
  {
   "cell_type": "code",
   "execution_count": 9,
   "id": "6787220e",
   "metadata": {
    "ExecuteTime": {
     "end_time": "2025-06-11T08:01:53.256526Z",
     "start_time": "2025-06-11T08:01:53.250370Z"
    }
   },
   "outputs": [],
   "source": [
    "import pymannkendall as mk"
   ]
  },
  {
   "cell_type": "code",
   "execution_count": 10,
   "id": "db894167",
   "metadata": {
    "ExecuteTime": {
     "end_time": "2025-06-11T08:01:53.331507Z",
     "start_time": "2025-06-11T08:01:53.259616Z"
    }
   },
   "outputs": [],
   "source": [
    "from scipy.spatial.distance import cosine"
   ]
  },
  {
   "cell_type": "code",
   "execution_count": 11,
   "id": "937811cc",
   "metadata": {
    "ExecuteTime": {
     "end_time": "2025-06-11T08:01:53.423354Z",
     "start_time": "2025-06-11T08:01:53.338586Z"
    }
   },
   "outputs": [],
   "source": [
    "import requests\n",
    "import re"
   ]
  },
  {
   "cell_type": "code",
   "execution_count": 12,
   "id": "18798849",
   "metadata": {
    "ExecuteTime": {
     "end_time": "2025-06-11T08:01:53.661628Z",
     "start_time": "2025-06-11T08:01:53.426514Z"
    }
   },
   "outputs": [],
   "source": [
    "import wikipedia"
   ]
  },
  {
   "cell_type": "markdown",
   "id": "4c01b8c7",
   "metadata": {},
   "source": [
    "## Personal modules"
   ]
  },
  {
   "cell_type": "code",
   "execution_count": 13,
   "id": "7bccba8e",
   "metadata": {
    "ExecuteTime": {
     "end_time": "2025-06-11T08:01:53.681749Z",
     "start_time": "2025-06-11T08:01:53.665104Z"
    }
   },
   "outputs": [],
   "source": [
    "from toolbox.updater import time_is_now"
   ]
  },
  {
   "cell_type": "code",
   "execution_count": 14,
   "id": "706c6b13",
   "metadata": {
    "ExecuteTime": {
     "end_time": "2025-06-11T08:01:53.761616Z",
     "start_time": "2025-06-11T08:01:53.688935Z"
    }
   },
   "outputs": [],
   "source": [
    "from file2text import file2text"
   ]
  },
  {
   "cell_type": "code",
   "execution_count": 15,
   "id": "b2319edd",
   "metadata": {
    "ExecuteTime": {
     "end_time": "2025-06-11T08:01:53.839894Z",
     "start_time": "2025-06-11T08:01:53.765347Z"
    }
   },
   "outputs": [],
   "source": [
    "from first_rough_cleaning import first_text_cleaner"
   ]
  },
  {
   "cell_type": "code",
   "execution_count": 16,
   "id": "bf705a04",
   "metadata": {
    "ExecuteTime": {
     "end_time": "2025-06-11T08:01:53.923496Z",
     "start_time": "2025-06-11T08:01:53.843919Z"
    }
   },
   "outputs": [],
   "source": [
    "from file_handler import *"
   ]
  },
  {
   "cell_type": "code",
   "execution_count": 17,
   "id": "479479e9",
   "metadata": {
    "ExecuteTime": {
     "end_time": "2025-06-11T08:01:59.361794Z",
     "start_time": "2025-06-11T08:01:53.927372Z"
    }
   },
   "outputs": [
    {
     "name": "stderr",
     "output_type": "stream",
     "text": [
      "/home/sarawalk/sdgs_py38/lib/python3.8/site-packages/torch/cuda/__init__.py:118: UserWarning: CUDA initialization: The NVIDIA driver on your system is too old (found version 10020). Please update your GPU driver by downloading and installing a new version from the URL: http://www.nvidia.com/Download/index.aspx Alternatively, go to: https://pytorch.org to install a PyTorch version that has been compiled with your version of the CUDA driver. (Triggered internally at ../c10/cuda/CUDAFunctions.cpp:108.)\n",
      "  return torch._C._cuda_getDeviceCount() > 0\n"
     ]
    }
   ],
   "source": [
    "from jina4lote import jina4lote"
   ]
  },
  {
   "cell_type": "markdown",
   "id": "06c09977",
   "metadata": {},
   "source": [
    "## Folders"
   ]
  },
  {
   "cell_type": "code",
   "execution_count": 18,
   "id": "cd8ef932",
   "metadata": {
    "ExecuteTime": {
     "end_time": "2025-06-11T08:01:59.370412Z",
     "start_time": "2025-06-11T08:01:59.365328Z"
    }
   },
   "outputs": [],
   "source": [
    "VECTOR_FOLDER='./NewProcessedData/vectors/'"
   ]
  },
  {
   "cell_type": "code",
   "execution_count": 19,
   "id": "5476ce62",
   "metadata": {
    "ExecuteTime": {
     "end_time": "2025-06-11T08:01:59.474962Z",
     "start_time": "2025-06-11T08:01:59.373706Z"
    }
   },
   "outputs": [],
   "source": [
    "BENCHMARK_FOLDER='./NewProcessedData/benchmarks/'"
   ]
  },
  {
   "cell_type": "code",
   "execution_count": 20,
   "id": "bc615514",
   "metadata": {
    "ExecuteTime": {
     "end_time": "2025-06-11T08:01:59.561969Z",
     "start_time": "2025-06-11T08:01:59.478666Z"
    }
   },
   "outputs": [],
   "source": [
    "PCA_CENTR_VECTOR_FOLDER='./NewProcessedData/pca_centr_vectors/'"
   ]
  },
  {
   "cell_type": "markdown",
   "id": "28972879",
   "metadata": {},
   "source": [
    "## Witten's vector"
   ]
  },
  {
   "cell_type": "code",
   "execution_count": 21,
   "id": "b2e7d45e",
   "metadata": {
    "ExecuteTime": {
     "end_time": "2025-06-11T08:01:59.650405Z",
     "start_time": "2025-06-11T08:01:59.565608Z"
    }
   },
   "outputs": [],
   "source": [
    "wittenvecfile=[file for file in os.listdir(BENCHMARK_FOLDER) if file.startswith('Witten') and file.endswith('.txt')][0]"
   ]
  },
  {
   "cell_type": "code",
   "execution_count": 22,
   "id": "b1a882b7",
   "metadata": {
    "ExecuteTime": {
     "end_time": "2025-06-11T08:01:59.729110Z",
     "start_time": "2025-06-11T08:01:59.653921Z"
    }
   },
   "outputs": [],
   "source": [
    "wittenvec=np.genfromtxt(BENCHMARK_FOLDER+wittenvecfile)"
   ]
  },
  {
   "cell_type": "markdown",
   "id": "1442a51a",
   "metadata": {},
   "source": [
    "## Load vectors"
   ]
  },
  {
   "cell_type": "code",
   "execution_count": 23,
   "id": "60d165a9",
   "metadata": {
    "ExecuteTime": {
     "end_time": "2025-06-11T08:01:59.823774Z",
     "start_time": "2025-06-11T08:01:59.732134Z"
    }
   },
   "outputs": [],
   "source": [
    "vecfiles=os.listdir(PCA_CENTR_VECTOR_FOLDER)"
   ]
  },
  {
   "cell_type": "code",
   "execution_count": 24,
   "id": "aaa843fc",
   "metadata": {
    "ExecuteTime": {
     "end_time": "2025-06-11T08:01:59.915240Z",
     "start_time": "2025-06-11T08:01:59.827332Z"
    }
   },
   "outputs": [],
   "source": [
    "vecfiles.sort()"
   ]
  },
  {
   "cell_type": "markdown",
   "id": "c008a9ef",
   "metadata": {},
   "source": [
    "### Goals' vectors"
   ]
  },
  {
   "cell_type": "markdown",
   "id": "07807b47",
   "metadata": {},
   "source": [
    "#### Load files"
   ]
  },
  {
   "cell_type": "code",
   "execution_count": 25,
   "id": "8c63bbf4",
   "metadata": {
    "ExecuteTime": {
     "end_time": "2025-06-11T08:02:00.006856Z",
     "start_time": "2025-06-11T08:01:59.918722Z"
    }
   },
   "outputs": [],
   "source": [
    "goalvecfiles=[vecfile for vecfile in vecfiles if vecfile.startswith('Goal')]"
   ]
  },
  {
   "cell_type": "code",
   "execution_count": 26,
   "id": "ba7c8c39",
   "metadata": {
    "ExecuteTime": {
     "end_time": "2025-06-11T08:02:00.097965Z",
     "start_time": "2025-06-11T08:02:00.018329Z"
    }
   },
   "outputs": [],
   "source": [
    "goalvecfiles.sort()"
   ]
  },
  {
   "cell_type": "code",
   "execution_count": 27,
   "id": "17c0b850",
   "metadata": {
    "ExecuteTime": {
     "end_time": "2025-06-11T08:02:00.201784Z",
     "start_time": "2025-06-11T08:02:00.100934Z"
    }
   },
   "outputs": [
    {
     "data": {
      "text/plain": [
       "['Goal-01-Fast-Facts.txt',\n",
       " 'Goal-02-Fast-Facts.txt',\n",
       " 'Goal-03-Fast-Facts.txt',\n",
       " 'Goal-04-Fast-Facts.txt',\n",
       " 'Goal-05-Fast-Facts.txt',\n",
       " 'Goal-06-Fast-Facts.txt',\n",
       " 'Goal-07-Fast-Facts.txt',\n",
       " 'Goal-08-Fast-Facts.txt',\n",
       " 'Goal-09-Fast-Facts.txt',\n",
       " 'Goal-10-Fast-Facts.txt',\n",
       " 'Goal-11_Fast-Facts.txt',\n",
       " 'Goal-12_Fast-Facts.txt',\n",
       " 'Goal-13_Fast-Facts.txt',\n",
       " 'Goal-14_Fast-Facts.txt',\n",
       " 'Goal-15-Fast-Facts.txt',\n",
       " 'Goal-16-Fast-Facts.txt',\n",
       " 'Goal-17-Fast-Facts.txt',\n",
       " 'Goal-Fast-Facts.txt']"
      ]
     },
     "execution_count": 27,
     "metadata": {},
     "output_type": "execute_result"
    }
   ],
   "source": [
    "goalvecfiles"
   ]
  },
  {
   "cell_type": "code",
   "execution_count": 28,
   "id": "0dac7b6d",
   "metadata": {
    "ExecuteTime": {
     "end_time": "2025-06-11T08:02:00.335750Z",
     "start_time": "2025-06-11T08:02:00.204928Z"
    }
   },
   "outputs": [],
   "source": [
    "goalvecs=[np.genfromtxt(PCA_CENTR_VECTOR_FOLDER+goalvecfile) for goalvecfile in goalvecfiles]"
   ]
  },
  {
   "cell_type": "markdown",
   "id": "22a45a35",
   "metadata": {},
   "source": [
    "### Reports' vectors"
   ]
  },
  {
   "cell_type": "code",
   "execution_count": 29,
   "id": "ff305960",
   "metadata": {
    "ExecuteTime": {
     "end_time": "2025-06-11T08:02:00.400466Z",
     "start_time": "2025-06-11T08:02:00.338786Z"
    }
   },
   "outputs": [],
   "source": [
    "reports_files=[vecfile for vecfile in vecfiles if vecfile[:4].isnumeric()]"
   ]
  },
  {
   "cell_type": "code",
   "execution_count": 30,
   "id": "aa227dfd",
   "metadata": {
    "ExecuteTime": {
     "end_time": "2025-06-11T08:02:00.473090Z",
     "start_time": "2025-06-11T08:02:00.403935Z"
    }
   },
   "outputs": [],
   "source": [
    "reports_files.sort()"
   ]
  },
  {
   "cell_type": "code",
   "execution_count": 31,
   "id": "c48a82bc",
   "metadata": {
    "ExecuteTime": {
     "end_time": "2025-06-11T08:02:00.565903Z",
     "start_time": "2025-06-11T08:02:00.476895Z"
    }
   },
   "outputs": [],
   "source": [
    "years, k_y=np.unique([rf[:4] for rf in reports_files], return_counts=True)"
   ]
  },
  {
   "cell_type": "code",
   "execution_count": 32,
   "id": "cb313b00",
   "metadata": {
    "ExecuteTime": {
     "end_time": "2025-06-11T08:02:00.660422Z",
     "start_time": "2025-06-11T08:02:00.569349Z"
    }
   },
   "outputs": [
    {
     "data": {
      "text/plain": [
       "array([['2015', '40'],\n",
       "       ['2016', '44'],\n",
       "       ['2017', '51'],\n",
       "       ['2018', '56'],\n",
       "       ['2019', '67'],\n",
       "       ['2020', '69'],\n",
       "       ['2021', '76'],\n",
       "       ['2022', '80'],\n",
       "       ['2023', '90']], dtype='<U21')"
      ]
     },
     "execution_count": 32,
     "metadata": {},
     "output_type": "execute_result"
    }
   ],
   "source": [
    "np.vstack((years, k_y)).T"
   ]
  },
  {
   "cell_type": "code",
   "execution_count": 33,
   "id": "e4060b5c",
   "metadata": {
    "ExecuteTime": {
     "end_time": "2025-06-11T08:02:00.748662Z",
     "start_time": "2025-06-11T08:02:00.663900Z"
    }
   },
   "outputs": [],
   "source": [
    "vectors=np.zeros(len(reports_files), dtype=[('year', 'i4'), ('sector', 'U2'), ('company', 'U100'), ('vector', object)])"
   ]
  },
  {
   "cell_type": "code",
   "execution_count": 34,
   "id": "1ac83a2b",
   "metadata": {
    "ExecuteTime": {
     "end_time": "2025-06-11T08:02:01.242723Z",
     "start_time": "2025-06-11T08:02:00.752164Z"
    }
   },
   "outputs": [],
   "source": [
    "for i_rf, reports_file in enumerate(reports_files):\n",
    "    # info from the filename\n",
    "    splitted_filename=reports_file.split('_')\n",
    "    \n",
    "    year=int(splitted_filename[0])\n",
    "    sector=splitted_filename[1]\n",
    "    if splitted_filename[-1]=='PLC.txt':\n",
    "        company='_'.join(splitted_filename[2:-1])\n",
    "    else:\n",
    "        company='_'.join(splitted_filename[2:])\n",
    "        company=company.replace('.txt', '')\n",
    "    company=company.lower()\n",
    "    # get the vector\n",
    "    vector=np.genfromtxt(PCA_CENTR_VECTOR_FOLDER+reports_file)\n",
    "    \n",
    "    # organize data\n",
    "    vectors[i_rf]['year']=year\n",
    "    vectors[i_rf]['sector']=sector\n",
    "    vectors[i_rf]['company']=company\n",
    "    vectors[i_rf]['vector']=vector"
   ]
  },
  {
   "cell_type": "markdown",
   "id": "45d9d6bb",
   "metadata": {},
   "source": [
    "## Sector helper"
   ]
  },
  {
   "cell_type": "code",
   "execution_count": 35,
   "id": "ad1338ec",
   "metadata": {
    "ExecuteTime": {
     "end_time": "2025-06-11T08:02:01.251302Z",
     "start_time": "2025-06-11T08:02:01.245966Z"
    }
   },
   "outputs": [],
   "source": [
    "rtf_files=os.listdir('./rtf')\n",
    "rtf_files.sort()"
   ]
  },
  {
   "cell_type": "code",
   "execution_count": 36,
   "id": "4757ae94",
   "metadata": {
    "ExecuteTime": {
     "end_time": "2025-06-11T08:02:01.326643Z",
     "start_time": "2025-06-11T08:02:01.253921Z"
    }
   },
   "outputs": [],
   "source": [
    "sec_helper={}\n",
    "for file in rtf_files:\n",
    "    splitted_name=file.split('_')\n",
    "    if splitted_name[0].isnumeric():\n",
    "        if splitted_name[0] not in sec_helper.keys():\n",
    "            sec_helper[splitted_name[0].zfill(2)]=splitted_name[1]"
   ]
  },
  {
   "cell_type": "code",
   "execution_count": 37,
   "id": "35b5a6c5",
   "metadata": {
    "ExecuteTime": {
     "end_time": "2025-06-11T08:02:01.401918Z",
     "start_time": "2025-06-11T08:02:01.329975Z"
    }
   },
   "outputs": [
    {
     "data": {
      "text/plain": [
       "{'10': 'Telecommunications',\n",
       " '11': 'Utilities',\n",
       " '01': 'Basic Materials',\n",
       " '02': 'Consumer Discretionary',\n",
       " '03': 'Consumer Staples',\n",
       " '04': 'Energy',\n",
       " '05': 'Financials',\n",
       " '06': 'Health Care',\n",
       " '07': 'Industrials',\n",
       " '08': 'Real Estate',\n",
       " '09': 'Technology'}"
      ]
     },
     "execution_count": 37,
     "metadata": {},
     "output_type": "execute_result"
    }
   ],
   "source": [
    "sec_helper"
   ]
  },
  {
   "cell_type": "markdown",
   "id": "c1a9d013",
   "metadata": {},
   "source": [
    "## SDG helper"
   ]
  },
  {
   "cell_type": "code",
   "execution_count": 38,
   "id": "d95e2678",
   "metadata": {
    "ExecuteTime": {
     "end_time": "2025-06-11T08:02:01.489874Z",
     "start_time": "2025-06-11T08:02:01.405472Z"
    }
   },
   "outputs": [],
   "source": [
    "sdg_helper={'01':'No Poverty', \n",
    " '02': 'Zero hunger', \n",
    " '03': 'Good health and well-being', \n",
    " '04': 'Quality education',\n",
    " '05': 'Gender equality',\n",
    " '06': 'Clean water and sanitation',\n",
    " '07': 'Affordable and clean energy',\n",
    " '08': 'Decent work and economic growth',\n",
    " '09': 'Industry, Innovation, Technology and Infrastructure',\n",
    " '10': 'Reduced inequality',\n",
    " '11': 'Sustainable cities and communities',\n",
    " '12': 'Responsible consumption and production',\n",
    " '13': 'Climate action',\n",
    " '14': 'Life below water',\n",
    " '15': 'Life on land',\n",
    " '16': 'Peace, justice and strong institutions',\n",
    " '17': 'Partnerships for the goals'\n",
    "}"
   ]
  },
  {
   "cell_type": "markdown",
   "id": "d69cb12a",
   "metadata": {},
   "source": [
    "# The Wikipedia benchmark"
   ]
  },
  {
   "cell_type": "markdown",
   "id": "adcdf61a",
   "metadata": {},
   "source": [
    "## Function"
   ]
  },
  {
   "cell_type": "markdown",
   "id": "9a4d6afe",
   "metadata": {},
   "source": [
    "### get_wikipedia_texts: DeepSeek + Fabio"
   ]
  },
  {
   "cell_type": "code",
   "execution_count": 39,
   "id": "09043b63",
   "metadata": {
    "ExecuteTime": {
     "end_time": "2025-06-11T08:02:01.594075Z",
     "start_time": "2025-06-11T08:02:01.492681Z"
    }
   },
   "outputs": [],
   "source": [
    "USER_AGENT = \"YourProject/1.0 (your@email.com)\"  # Obbligatorio per policy API"
   ]
  },
  {
   "cell_type": "code",
   "execution_count": 64,
   "id": "df7a374d",
   "metadata": {
    "ExecuteTime": {
     "end_time": "2025-06-11T08:09:35.308245Z",
     "start_time": "2025-06-11T08:09:35.297333Z"
    }
   },
   "outputs": [],
   "source": [
    "def get_wikipedia_texts(rnlimit=100):\n",
    "    base_url = \"https://en.wikipedia.org/w/api.php\"\n",
    "    texts = []\n",
    "    \n",
    "    # Step 1: Ottenere 4000 titoli casuali\n",
    "    params_random = {\n",
    "        \"action\": \"query\",\n",
    "        \"format\": \"json\",\n",
    "        \"list\": \"random\",\n",
    "        \"rnnamespace\": 0,\n",
    "        \"rnlimit\": rnlimit,\n",
    "        \"rnminsize\": 15000,  # Filtro lunghezza minima: funziona il giusto, ma meglio di un calcio nei denti\n",
    "        \"rnmaxsize\": 17000,   # Filtro lunghezza massima: funziona il giusto, ma meglio di un calcio nei denti\n",
    "        \"rnfilterredir\": \"nonredirects\"\n",
    "    }\n",
    "    response_random = requests.get(base_url, params=params_random, headers={\"User-Agent\": USER_AGENT})\n",
    "    titles = [item['title'] for item in response_random.json()['query']['random']]\n",
    "    \n",
    "    # Step 2: Scaricare contenuti completi via wikipedia's module\n",
    "    texts\n",
    "    for title in titles:\n",
    "        try:\n",
    "            tim=wikipedia.page(title)\n",
    "            texts.append(first_text_cleaner(tim.content).replace('\\'', \"'\"))\n",
    "        except:\n",
    "            continue\n",
    "    return titles, texts"
   ]
  },
  {
   "cell_type": "markdown",
   "id": "4602c6c6",
   "metadata": {},
   "source": [
    "## How long have to be the benchmark's texts?"
   ]
  },
  {
   "cell_type": "code",
   "execution_count": 41,
   "id": "8bd5ac3b",
   "metadata": {
    "ExecuteTime": {
     "end_time": "2025-06-11T08:02:01.779380Z",
     "start_time": "2025-06-11T08:02:01.687142Z"
    }
   },
   "outputs": [],
   "source": [
    "pdfs=[file for file in os.listdir(BENCHMARK_FOLDER) if file.endswith('.pdf')]\n",
    "pdfs.sort()"
   ]
  },
  {
   "cell_type": "code",
   "execution_count": 42,
   "id": "a49204d0",
   "metadata": {
    "ExecuteTime": {
     "end_time": "2025-06-11T08:02:01.869719Z",
     "start_time": "2025-06-11T08:02:01.792968Z"
    }
   },
   "outputs": [
    {
     "data": {
      "text/plain": [
       "['Goal-10-Fast-Facts.pdf',\n",
       " 'Goal-11_Fast-Facts.pdf',\n",
       " 'Goal-12_Fast-Facts.pdf',\n",
       " 'Goal-13_Fast-Facts.pdf',\n",
       " 'Goal-14_Fast-Facts.pdf',\n",
       " 'Goal-15-Fast-Facts.pdf',\n",
       " 'Goal-16-Fast-Facts.pdf',\n",
       " 'Goal-17-Fast-Facts.pdf',\n",
       " 'Goal-1_Fast-Facts.pdf',\n",
       " 'Goal-2_Fast-Facts.pdf',\n",
       " 'Goal-3_Fast-Facts.pdf',\n",
       " 'Goal-4_Fast-Facts.pdf',\n",
       " 'Goal-5_Fast-Facts.pdf',\n",
       " 'Goal-6_Fast-Facts.pdf',\n",
       " 'Goal-7_Fast-Facts.pdf',\n",
       " 'Goal-8_Fast-Facts.pdf',\n",
       " 'Goal-9-Fast-Facts.pdf',\n",
       " 'Goal-Fast-Facts.pdf',\n",
       " 'Witten_A_Mini_Introduction_To_Information_Theory.pdf']"
      ]
     },
     "execution_count": 42,
     "metadata": {},
     "output_type": "execute_result"
    }
   ],
   "source": [
    "pdfs"
   ]
  },
  {
   "cell_type": "code",
   "execution_count": 43,
   "id": "10c71b60",
   "metadata": {
    "ExecuteTime": {
     "end_time": "2025-06-11T08:02:01.986117Z",
     "start_time": "2025-06-11T08:02:01.872824Z"
    }
   },
   "outputs": [
    {
     "data": {
      "application/vnd.jupyter.widget-view+json": {
       "model_id": "37fa29a0eafd4d9991a1d88a93018b27",
       "version_major": 2,
       "version_minor": 0
      },
      "text/plain": [
       "  0%|          | 0/19 [00:00<?, ?it/s]"
      ]
     },
     "metadata": {},
     "output_type": "display_data"
    }
   ],
   "source": [
    "l_benchs=[]\n",
    "for i_pdf, pdf in enumerate(tqdm(pdfs)):\n",
    "    # vector file name\n",
    "    vecfile=pdf.replace('.pdf', '.txt')\n",
    "    # get the md file name\n",
    "    file_name_md=pdf.replace('.pdf', '.md')\n",
    "    # read the md file\n",
    "    with open(BENCHMARK_FOLDER+file_name_md, 'r') as f:\n",
    "        markdown_string = f.read()\n",
    "    l_benchs.append(len(first_text_cleaner(markdown_string)))"
   ]
  },
  {
   "cell_type": "code",
   "execution_count": 44,
   "id": "dc571ad1",
   "metadata": {
    "ExecuteTime": {
     "end_time": "2025-06-11T08:02:02.058045Z",
     "start_time": "2025-06-11T08:02:01.989254Z"
    }
   },
   "outputs": [
    {
     "data": {
      "text/plain": [
       "(3533, 4639)"
      ]
     },
     "execution_count": 44,
     "metadata": {},
     "output_type": "execute_result"
    }
   ],
   "source": [
    "min(l_benchs), max(l_benchs[:-2])"
   ]
  },
  {
   "cell_type": "code",
   "execution_count": 45,
   "id": "bf160a5e",
   "metadata": {
    "ExecuteTime": {
     "end_time": "2025-06-11T08:02:02.453053Z",
     "start_time": "2025-06-11T08:02:02.060819Z"
    }
   },
   "outputs": [
    {
     "data": {
      "image/png": "[encoded data removed]",
      "text/plain": [
       "<Figure size 640x480 with 1 Axes>"
      ]
     },
     "metadata": {},
     "output_type": "display_data"
    }
   ],
   "source": [
    "plt.hist(l_benchs[:-2], edgecolor='black')\n",
    "plt.show()"
   ]
  },
  {
   "cell_type": "code",
   "execution_count": 51,
   "id": "5724d852",
   "metadata": {
    "ExecuteTime": {
     "end_time": "2025-06-11T08:03:46.768249Z",
     "start_time": "2025-06-11T08:03:46.762813Z"
    }
   },
   "outputs": [],
   "source": [
    "min_lenght=3000\n",
    "max_lenght=5000"
   ]
  },
  {
   "cell_type": "markdown",
   "id": "a8ca75bc",
   "metadata": {},
   "source": [
    "## Run"
   ]
  },
  {
   "cell_type": "markdown",
   "id": "8ba5f94c",
   "metadata": {},
   "source": [
    "Let it run in bunches:"
   ]
  },
  {
   "cell_type": "code",
   "execution_count": 53,
   "id": "97472d3c",
   "metadata": {
    "ExecuteTime": {
     "end_time": "2025-06-11T08:04:01.388225Z",
     "start_time": "2025-06-11T08:04:01.382634Z"
    }
   },
   "outputs": [],
   "source": [
    "th=4000"
   ]
  },
  {
   "cell_type": "code",
   "execution_count": 56,
   "id": "2f9ad00c",
   "metadata": {
    "ExecuteTime": {
     "end_time": "2025-06-11T08:07:16.229727Z",
     "start_time": "2025-06-11T08:06:38.896687Z"
    }
   },
   "outputs": [
    {
     "name": "stdout",
     "output_type": "stream",
     "text": [
      "round=   1, len(titles)=   3\r"
     ]
    },
    {
     "name": "stderr",
     "output_type": "stream",
     "text": [
      "\n",
      "KeyboardInterrupt\n",
      "\n"
     ]
    }
   ],
   "source": [
    "titles=[]\n",
    "texts=[]\n",
    "_round=0\n",
    "while len(titles)<th:\n",
    "    print(f'round={_round:4}, len(titles)={len(titles):4}',end='\\r')\n",
    "    _titles, _texts = get_wikipedia_texts()\n",
    "    for i_t, _text in enumerate(_texts): \n",
    "        if len(_text)>=min_lenght and len(_text)<=max_lenght:\n",
    "            texts.append(_text)\n",
    "            titles.append(_titles[i_t])\n",
    "    _round+=1"
   ]
  },
  {
   "cell_type": "code",
   "execution_count": null,
   "id": "845e6d62",
   "metadata": {
    "ExecuteTime": {
     "start_time": "2025-06-11T08:09:43.700Z"
    }
   },
   "outputs": [
    {
     "name": "stderr",
     "output_type": "stream",
     "text": [
      "/home/sarawalk/sdgs_py38/lib/python3.8/site-packages/wikipedia/wikipedia.py:389: GuessedAtParserWarning: No parser was explicitly specified, so I'm using the best available HTML parser for this system (\"lxml\"). This usually isn't a problem, but if you run this code on another system, or in a different virtual environment, it may use a different parser and behave differently.\n",
      "\n",
      "The code that caused this warning is on line 389 of the file /home/sarawalk/sdgs_py38/lib/python3.8/site-packages/wikipedia/wikipedia.py. To get rid of this warning, pass the additional argument 'features=\"lxml\"' to the BeautifulSoup constructor.\n",
      "\n",
      "  lis = BeautifulSoup(html).find_all('li')\n"
     ]
    }
   ],
   "source": [
    "_titles, _texts = get_wikipedia_texts(100)"
   ]
  },
  {
   "cell_type": "code",
   "execution_count": null,
   "id": "bcdcb806",
   "metadata": {
    "ExecuteTime": {
     "start_time": "2025-06-11T08:09:44.132Z"
    }
   },
   "outputs": [],
   "source": [
    "len([_text for _text in _texts if len(_text)>=max_lenght])"
   ]
  },
  {
   "cell_type": "code",
   "execution_count": null,
   "id": "8610bb01",
   "metadata": {
    "ExecuteTime": {
     "start_time": "2025-06-11T08:09:44.536Z"
    }
   },
   "outputs": [],
   "source": [
    "len([_text for _text in _texts if len(_text)<=min_lenght])"
   ]
  },
  {
   "cell_type": "markdown",
   "id": "d0d38fa3",
   "metadata": {},
   "source": [
    "# Similarity validation"
   ]
  },
  {
   "cell_type": "code",
   "execution_count": 41,
   "id": "7cde70c4",
   "metadata": {
    "ExecuteTime": {
     "end_time": "2025-06-10T13:56:05.308586Z",
     "start_time": "2025-06-10T13:56:05.302667Z"
    }
   },
   "outputs": [],
   "source": [
    "years=years.astype('i4')"
   ]
  },
  {
   "cell_type": "markdown",
   "id": "e8d3c0dd",
   "metadata": {},
   "source": [
    "## Functions"
   ]
  },
  {
   "cell_type": "markdown",
   "id": "24683c70",
   "metadata": {},
   "source": [
    "### p-value calculator"
   ]
  },
  {
   "cell_type": "code",
   "execution_count": 65,
   "id": "692180fc",
   "metadata": {
    "ExecuteTime": {
     "end_time": "2025-06-10T14:12:01.120492Z",
     "start_time": "2025-06-10T14:12:01.110219Z"
    }
   },
   "outputs": [],
   "source": [
    "def p_value_cos_sim(orig_vec, benchmark_vec, n_shuffle=None):\n",
    "    if n_shuffle is None:\n",
    "        n_shuffle=len(orig_vec)**2\n",
    "    obs_cos_sim=float(util.cos_sim(benchmark_vec, orig_vec))\n",
    "    sample_cos_sim=np.zeros(n_shuffle)\n",
    "    for _ in range(n_shuffle):\n",
    "        _aux=orig_vec.copy()\n",
    "        np.random.shuffle(_aux)\n",
    "        sample_cos_sim[_]=float(util.cos_sim(benchmark_vec, _aux))\n",
    "    return np.sum(sample_cos_sim>=obs_cos_sim)/n_shuffle"
   ]
  },
  {
   "cell_type": "markdown",
   "id": "d65d1d10",
   "metadata": {},
   "source": [
    "### FDR"
   ]
  },
  {
   "cell_type": "code",
   "execution_count": 77,
   "id": "38ff6015",
   "metadata": {
    "ExecuteTime": {
     "end_time": "2025-06-10T14:27:24.546061Z",
     "start_time": "2025-06-10T14:27:24.532937Z"
    }
   },
   "outputs": [],
   "source": [
    "def fdr_validation(p_value, alpha):\n",
    "    _aux=np.sort(p_value)\n",
    "    l_p=len(p_value)\n",
    "    _selection=_aux<=np.arange(1, l_p+1)*alpha/l_p\n",
    "    if np.sum(_selection)==0:\n",
    "        return 0.\n",
    "    else:\n",
    "        return _aux[_selection][-1]"
   ]
  },
  {
   "cell_type": "markdown",
   "id": "b5972f51",
   "metadata": {},
   "source": [
    "## Global"
   ]
  },
  {
   "cell_type": "code",
   "execution_count": 76,
   "id": "f8f5a511",
   "metadata": {
    "ExecuteTime": {
     "end_time": "2025-06-10T14:25:40.773031Z",
     "start_time": "2025-06-10T14:23:52.595410Z"
    }
   },
   "outputs": [
    {
     "data": {
      "application/vnd.jupyter.widget-view+json": {
       "model_id": "fbc2016bf4c547b6a247564f04b7d6a8",
       "version_major": 2,
       "version_minor": 0
      },
      "text/plain": [
       "  0%|          | 0/90 [00:00<?, ?it/s]"
      ]
     },
     "metadata": {},
     "output_type": "display_data"
    }
   ],
   "source": [
    "selection_2023=vectors[vectors['year']==2023]\n",
    "p_vals_2023=np.zeros(len(selection_2023))\n",
    "for i_vec, vec in enumerate(tqdm(selection_2023)):\n",
    "    p_vals_2023[i_vec]=p_value_cos_sim(vec['vector'],goalvecs[-1])"
   ]
  },
  {
   "cell_type": "markdown",
   "id": "d6a3a6a2",
   "metadata": {},
   "source": [
    "### 2023"
   ]
  },
  {
   "cell_type": "code",
   "execution_count": 81,
   "id": "d8fe392b",
   "metadata": {
    "ExecuteTime": {
     "end_time": "2025-06-10T14:28:03.688900Z",
     "start_time": "2025-06-10T14:28:03.677668Z"
    }
   },
   "outputs": [
    {
     "data": {
      "text/plain": [
       "array([0.00907029, 0.01058201, 0.01385739, 0.01461325, 0.01788864,\n",
       "       0.02973041, 0.05593348, 0.05920887, 0.06021668, 0.07054674,\n",
       "       0.07256236, 0.08742756, 0.10128496, 0.11312673, 0.12572436,\n",
       "       0.12673217, 0.13454271, 0.13932981, 0.14512472, 0.15142353,\n",
       "       0.15520282, 0.16553288, 0.16981607, 0.17863442, 0.18543714,\n",
       "       0.19677501, 0.24212648, 0.24666163, 0.25547997, 0.26505417,\n",
       "       0.26530612, 0.27160494, 0.27614009, 0.28369866, 0.29831192,\n",
       "       0.30083144, 0.31393298, 0.3303099 , 0.34215168, 0.38221214,\n",
       "       0.38347191, 0.38573948, 0.39506173, 0.39531368, 0.39707735,\n",
       "       0.40891912, 0.41320232, 0.41395818, 0.4159738 , 0.43184681,\n",
       "       0.43537415, 0.44016125, 0.51045603, 0.52305367, 0.526581  ,\n",
       "       0.52935248, 0.56764928, 0.57621567, 0.58427816, 0.5930965 ,\n",
       "       0.62585034, 0.64600655, 0.64600655, 0.67850844, 0.70471151,\n",
       "       0.70647518, 0.70899471, 0.74452003, 0.74477198, 0.74754346,\n",
       "       0.75837743, 0.7654321 , 0.76694381, 0.78306878, 0.78684807,\n",
       "       0.8090199 , 0.87049635, 0.89543966, 0.90123457, 0.90702948,\n",
       "       0.90753338, 0.92164273, 0.92466616, 0.93726379, 0.94482237,\n",
       "       0.94608214, 0.95867977, 0.9664903 , 0.96850592, 0.99244142])"
      ]
     },
     "execution_count": 81,
     "metadata": {},
     "output_type": "execute_result"
    }
   ],
   "source": [
    "np.sort(p_vals_2023)"
   ]
  },
  {
   "cell_type": "code",
   "execution_count": 78,
   "id": "3a5723a8",
   "metadata": {
    "ExecuteTime": {
     "end_time": "2025-06-10T14:27:45.465936Z",
     "start_time": "2025-06-10T14:27:45.455754Z"
    }
   },
   "outputs": [
    {
     "data": {
      "text/plain": [
       "0.0"
      ]
     },
     "execution_count": 78,
     "metadata": {},
     "output_type": "execute_result"
    }
   ],
   "source": [
    "fdr_validation(p_vals_2023, .05)"
   ]
  },
  {
   "cell_type": "markdown",
   "id": "330ef848",
   "metadata": {},
   "source": [
    "Ah, bene."
   ]
  },
  {
   "cell_type": "code",
   "execution_count": 88,
   "id": "83e1276d",
   "metadata": {
    "ExecuteTime": {
     "end_time": "2025-06-10T14:35:10.028196Z",
     "start_time": "2025-06-10T14:35:10.016850Z"
    }
   },
   "outputs": [
    {
     "data": {
      "text/plain": [
       "6"
      ]
     },
     "execution_count": 88,
     "metadata": {},
     "output_type": "execute_result"
    }
   ],
   "source": [
    "np.sum(p_vals_2023<=.05)"
   ]
  },
  {
   "cell_type": "markdown",
   "id": "1eb32d17",
   "metadata": {},
   "source": [
    "### All years"
   ]
  },
  {
   "cell_type": "code",
   "execution_count": 90,
   "id": "dae1a0a6",
   "metadata": {
    "ExecuteTime": {
     "end_time": "2025-06-10T14:55:09.896803Z",
     "start_time": "2025-06-10T14:43:44.582433Z"
    }
   },
   "outputs": [
    {
     "data": {
      "application/vnd.jupyter.widget-view+json": {
       "model_id": "7c3c6fca1cd546a1887ca7d1109adeab",
       "version_major": 2,
       "version_minor": 0
      },
      "text/plain": [
       "  0%|          | 0/9 [00:00<?, ?it/s]"
      ]
     },
     "metadata": {},
     "output_type": "display_data"
    },
    {
     "data": {
      "application/vnd.jupyter.widget-view+json": {
       "model_id": "64aaab31e0024780800a2961498feb5d",
       "version_major": 2,
       "version_minor": 0
      },
      "text/plain": [
       "  0%|          | 0/40 [00:00<?, ?it/s]"
      ]
     },
     "metadata": {},
     "output_type": "display_data"
    },
    {
     "data": {
      "application/vnd.jupyter.widget-view+json": {
       "model_id": "f00e018833e54949a15056f42edf2897",
       "version_major": 2,
       "version_minor": 0
      },
      "text/plain": [
       "  0%|          | 0/44 [00:00<?, ?it/s]"
      ]
     },
     "metadata": {},
     "output_type": "display_data"
    },
    {
     "data": {
      "application/vnd.jupyter.widget-view+json": {
       "model_id": "274cb66b9d954ab2ae953e3444499500",
       "version_major": 2,
       "version_minor": 0
      },
      "text/plain": [
       "  0%|          | 0/51 [00:00<?, ?it/s]"
      ]
     },
     "metadata": {},
     "output_type": "display_data"
    },
    {
     "data": {
      "application/vnd.jupyter.widget-view+json": {
       "model_id": "12aa921449af48e59710416e321bb45d",
       "version_major": 2,
       "version_minor": 0
      },
      "text/plain": [
       "  0%|          | 0/56 [00:00<?, ?it/s]"
      ]
     },
     "metadata": {},
     "output_type": "display_data"
    },
    {
     "data": {
      "application/vnd.jupyter.widget-view+json": {
       "model_id": "475526373bb5444f93f74945a28b87c8",
       "version_major": 2,
       "version_minor": 0
      },
      "text/plain": [
       "  0%|          | 0/67 [00:00<?, ?it/s]"
      ]
     },
     "metadata": {},
     "output_type": "display_data"
    },
    {
     "data": {
      "application/vnd.jupyter.widget-view+json": {
       "model_id": "22d465d8dfb247ca8c9cacfca9413d3c",
       "version_major": 2,
       "version_minor": 0
      },
      "text/plain": [
       "  0%|          | 0/69 [00:00<?, ?it/s]"
      ]
     },
     "metadata": {},
     "output_type": "display_data"
    },
    {
     "data": {
      "application/vnd.jupyter.widget-view+json": {
       "model_id": "ee59d856e8e74b6e8cfbe9b27395d7d1",
       "version_major": 2,
       "version_minor": 0
      },
      "text/plain": [
       "  0%|          | 0/76 [00:00<?, ?it/s]"
      ]
     },
     "metadata": {},
     "output_type": "display_data"
    },
    {
     "data": {
      "application/vnd.jupyter.widget-view+json": {
       "model_id": "7a60e4eb9d6342dab02a8c5eb9dad60f",
       "version_major": 2,
       "version_minor": 0
      },
      "text/plain": [
       "  0%|          | 0/80 [00:00<?, ?it/s]"
      ]
     },
     "metadata": {},
     "output_type": "display_data"
    },
    {
     "data": {
      "application/vnd.jupyter.widget-view+json": {
       "model_id": "065d2adb9c2145e78e8c4c51c2113090",
       "version_major": 2,
       "version_minor": 0
      },
      "text/plain": [
       "  0%|          | 0/90 [00:00<?, ?it/s]"
      ]
     },
     "metadata": {},
     "output_type": "display_data"
    }
   ],
   "source": [
    "p_value_year={}\n",
    "for year in tqdm(years):\n",
    "    selection_year=vectors[vectors['year']==year]\n",
    "    p_value_year[year]={}\n",
    "    p_value_year[year]['p-vals']=np.zeros(len(selection_year))\n",
    "    for i_vec, vec in enumerate(tqdm(selection_year)):\n",
    "        p_value_year[year]['p-vals'][i_vec]=p_value_cos_sim(vec['vector'],goalvecs[-1])\n",
    "    p_value_year[year]['fdt_th']=fdr_validation(p_value_year[year]['p-vals'], .05)"
   ]
  },
  {
   "cell_type": "code",
   "execution_count": 91,
   "id": "978ca4e1",
   "metadata": {
    "ExecuteTime": {
     "end_time": "2025-06-10T14:59:14.507356Z",
     "start_time": "2025-06-10T14:59:14.496566Z"
    }
   },
   "outputs": [
    {
     "data": {
      "text/plain": [
       "[0.0, 0.0, 0.0, 0.0, 0.0, 0.0, 0.0, 0.0, 0.0]"
      ]
     },
     "execution_count": 91,
     "metadata": {},
     "output_type": "execute_result"
    }
   ],
   "source": [
    "[p_value_year[year]['fdt_th'] for year in years]"
   ]
  },
  {
   "cell_type": "code",
   "execution_count": null,
   "id": "36a11358",
   "metadata": {},
   "outputs": [],
   "source": []
  }
 ],
 "metadata": {
  "kernelspec": {
   "display_name": "Python 3 (ipykernel)",
   "language": "python",
   "name": "python3"
  },
  "language_info": {
   "codemirror_mode": {
    "name": "ipython",
    "version": 3
   },
   "file_extension": ".py",
   "mimetype": "text/x-python",
   "name": "python",
   "nbconvert_exporter": "python",
   "pygments_lexer": "ipython3",
   "version": "3.8.10"
  },
  "notify_time": "5",
  "toc": {
   "base_numbering": 1,
   "nav_menu": {},
   "number_sections": true,
   "sideBar": true,
   "skip_h1_title": false,
   "title_cell": "Table of Contents",
   "title_sidebar": "Contents",
   "toc_cell": false,
   "toc_position": {
    "height": "calc(100% - 180px)",
    "left": "10px",
    "top": "150px",
    "width": "288px"
   },
   "toc_section_display": true,
   "toc_window_display": true
  }
 },
 "nbformat": 4,
 "nbformat_minor": 5
}
