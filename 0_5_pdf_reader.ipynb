{
 "cells": [
  {
   "cell_type": "markdown",
   "id": "bd5d9976",
   "metadata": {},
   "source": [
    "# Intro"
   ]
  },
  {
   "cell_type": "markdown",
   "id": "aa7ed3e9",
   "metadata": {},
   "source": [
    "## Standard modules"
   ]
  },
  {
   "cell_type": "code",
   "execution_count": 2,
   "id": "14c411bb",
   "metadata": {
    "ExecuteTime": {
     "end_time": "2025-04-18T07:47:19.659983Z",
     "start_time": "2025-04-18T07:47:19.349571Z"
    }
   },
   "outputs": [],
   "source": [
    "import os, sys, pickle\n",
    "import pathlib\n",
    "import numpy as np\n",
    "from tqdm.auto import tqdm, trange"
   ]
  },
  {
   "cell_type": "code",
   "execution_count": 3,
   "id": "cec1113a",
   "metadata": {
    "ExecuteTime": {
     "end_time": "2025-04-18T07:47:23.143474Z",
     "start_time": "2025-04-18T07:47:19.664235Z"
    }
   },
   "outputs": [],
   "source": [
    "from sentence_transformers import util"
   ]
  },
  {
   "cell_type": "markdown",
   "id": "d01e1a00",
   "metadata": {},
   "source": [
    "## My modules"
   ]
  },
  {
   "cell_type": "code",
   "execution_count": 4,
   "id": "1acf435d",
   "metadata": {
    "ExecuteTime": {
     "end_time": "2025-04-18T07:47:23.165977Z",
     "start_time": "2025-04-18T07:47:23.147871Z"
    }
   },
   "outputs": [],
   "source": [
    "from toolbox.updater import time_is_now"
   ]
  },
  {
   "cell_type": "code",
   "execution_count": 5,
   "id": "76ebc584",
   "metadata": {
    "ExecuteTime": {
     "end_time": "2025-04-18T07:47:23.232519Z",
     "start_time": "2025-04-18T07:47:23.168867Z"
    }
   },
   "outputs": [],
   "source": [
    "from toolbox.email_sender import email_sender"
   ]
  },
  {
   "cell_type": "code",
   "execution_count": 6,
   "id": "3306fb60",
   "metadata": {
    "ExecuteTime": {
     "end_time": "2025-04-18T07:47:23.310151Z",
     "start_time": "2025-04-18T07:47:23.238162Z"
    }
   },
   "outputs": [],
   "source": [
    "from file2text import file2text"
   ]
  },
  {
   "cell_type": "code",
   "execution_count": 7,
   "id": "82d3fc15",
   "metadata": {
    "ExecuteTime": {
     "end_time": "2025-04-18T07:47:23.405038Z",
     "start_time": "2025-04-18T07:47:23.313781Z"
    }
   },
   "outputs": [],
   "source": [
    "from first_rough_cleaning import first_text_cleaner"
   ]
  },
  {
   "cell_type": "code",
   "execution_count": 8,
   "id": "a545a61f",
   "metadata": {
    "ExecuteTime": {
     "end_time": "2025-04-18T07:47:23.523534Z",
     "start_time": "2025-04-18T07:47:23.408776Z"
    }
   },
   "outputs": [],
   "source": [
    "from file_handler import *"
   ]
  },
  {
   "cell_type": "code",
   "execution_count": 9,
   "id": "0b88ee74",
   "metadata": {
    "ExecuteTime": {
     "end_time": "2025-04-18T07:47:29.122516Z",
     "start_time": "2025-04-18T07:47:23.527158Z"
    }
   },
   "outputs": [
    {
     "name": "stderr",
     "output_type": "stream",
     "text": [
      "/home/sarawalk/sdgs_py38/lib/python3.8/site-packages/torch/cuda/__init__.py:118: UserWarning: CUDA initialization: The NVIDIA driver on your system is too old (found version 10020). Please update your GPU driver by downloading and installing a new version from the URL: http://www.nvidia.com/Download/index.aspx Alternatively, go to: https://pytorch.org to install a PyTorch version that has been compiled with your version of the CUDA driver. (Triggered internally at ../c10/cuda/CUDAFunctions.cpp:108.)\n",
      "  return torch._C._cuda_getDeviceCount() > 0\n"
     ]
    }
   ],
   "source": [
    "from jina4lote import jina4lote"
   ]
  },
  {
   "cell_type": "markdown",
   "id": "24ac153e",
   "metadata": {},
   "source": [
    "## Alternatives"
   ]
  },
  {
   "cell_type": "code",
   "execution_count": 10,
   "id": "d822fb2c",
   "metadata": {
    "ExecuteTime": {
     "end_time": "2025-04-18T07:47:29.233951Z",
     "start_time": "2025-04-18T07:47:29.129981Z"
    }
   },
   "outputs": [],
   "source": [
    "import pymupdf4llm"
   ]
  },
  {
   "cell_type": "markdown",
   "id": "5c7f9445",
   "metadata": {},
   "source": [
    "## Parameters"
   ]
  },
  {
   "cell_type": "code",
   "execution_count": 11,
   "id": "a0f916c6",
   "metadata": {
    "ExecuteTime": {
     "end_time": "2025-04-18T07:47:29.241272Z",
     "start_time": "2025-04-18T07:47:29.236856Z"
    }
   },
   "outputs": [],
   "source": [
    "N_RUNS=10"
   ]
  },
  {
   "cell_type": "markdown",
   "id": "b5cd8bcb",
   "metadata": {},
   "source": [
    "## Folders"
   ]
  },
  {
   "cell_type": "code",
   "execution_count": 12,
   "id": "74739bf3",
   "metadata": {
    "ExecuteTime": {
     "end_time": "2025-04-18T07:47:29.329876Z",
     "start_time": "2025-04-18T07:47:29.244253Z"
    }
   },
   "outputs": [],
   "source": [
    "PDF_FOLDER='./pdf/'"
   ]
  },
  {
   "cell_type": "code",
   "execution_count": 13,
   "id": "b0d3e2cf",
   "metadata": {
    "ExecuteTime": {
     "end_time": "2025-04-18T07:47:29.412624Z",
     "start_time": "2025-04-18T07:47:29.332687Z"
    }
   },
   "outputs": [],
   "source": [
    "RTF_FOLDER='./rtf/'"
   ]
  },
  {
   "cell_type": "code",
   "execution_count": 14,
   "id": "ae9d4d16",
   "metadata": {
    "ExecuteTime": {
     "end_time": "2025-04-18T07:47:29.520544Z",
     "start_time": "2025-04-18T07:47:29.415437Z"
    }
   },
   "outputs": [],
   "source": [
    "TARGET_FOLDER='./NewProcessedData/'"
   ]
  },
  {
   "cell_type": "markdown",
   "id": "787223d0",
   "metadata": {},
   "source": [
    "## Files"
   ]
  },
  {
   "cell_type": "code",
   "execution_count": 15,
   "id": "ff8f8f32",
   "metadata": {
    "ExecuteTime": {
     "end_time": "2025-04-18T07:47:29.604363Z",
     "start_time": "2025-04-18T07:47:29.523233Z"
    }
   },
   "outputs": [],
   "source": [
    "pdfs=[file for file in os.listdir(PDF_FOLDER) if file.endswith('.pdf')]\n",
    "pdfs.sort()"
   ]
  },
  {
   "cell_type": "code",
   "execution_count": 16,
   "id": "6bc9040d",
   "metadata": {
    "ExecuteTime": {
     "end_time": "2025-04-18T07:47:29.696382Z",
     "start_time": "2025-04-18T07:47:29.607027Z"
    }
   },
   "outputs": [
    {
     "data": {
      "text/plain": [
       "['10_Telecommunications_BT GROUP PLC_2016.pdf',\n",
       " '10_Telecommunications_SPIRENT COMMUNICATIONS PLC_2023.pdf',\n",
       " '10_Telecommunications_VODAFONE GROUP PLC_2018.pdf',\n",
       " '10_Telecommunications_VODAFONE GROUP PLC_2021.pdf',\n",
       " '10_Telecommunications_VODAFONE GROUP PLC_2023.pdf',\n",
       " '11_Utilities_3_SEVERN TRENT PLC_2022.pdf',\n",
       " '11_Utilities_8_RENEWI PLC_2023.pdf',\n",
       " '1_Basic Materials_CRODA INTERNATIONAL PLC_2015.pdf',\n",
       " '1_Basic Materials_EVRAZ PLC_2021.pdf',\n",
       " '1_Basic Materials_SYNTHOMER PLC_2016.pdf',\n",
       " '1_Basic Materials_SYNTHOMER PLC_2018.pdf',\n",
       " '1_Basic Materials_SYNTHOMER PLC_2021.pdf',\n",
       " '2_Consumer Discretionary_BARRATT DEVELOPMENTS PLC_2021.pdf',\n",
       " '2_Consumer Discretionary_BERKELEY GROUP HOLDINGS (THE) PLC_2022.pdf',\n",
       " '2_Consumer Discretionary_BURBERRY GROUP PLC_2020.pdf',\n",
       " '2_Consumer Discretionary_INTERCONTINENTAL HOTELS GROUP PLC_2019.pdf',\n",
       " '2_Consumer Discretionary_RELX PLC_2016.pdf',\n",
       " '2_Consumer Discretionary_RELX PLC_2017.pdf',\n",
       " '2_Consumer Discretionary_RELX PLC_2021.pdf',\n",
       " '3_Consumer Staples_Imperial Brands PLC_2016.pdf',\n",
       " '8_Real Estate_RIGHTMOVE PLC_2016.pdf',\n",
       " '8_Real Estate_RIGHTMOVE PLC_2019.pdf']"
      ]
     },
     "execution_count": 16,
     "metadata": {},
     "output_type": "execute_result"
    }
   ],
   "source": [
    "pdfs"
   ]
  },
  {
   "cell_type": "markdown",
   "id": "35ef0559",
   "metadata": {},
   "source": [
    "# pdf + md vs. rtf"
   ]
  },
  {
   "cell_type": "code",
   "execution_count": 17,
   "id": "12d9c4dd",
   "metadata": {
    "ExecuteTime": {
     "end_time": "2025-04-18T07:47:34.096818Z",
     "start_time": "2025-04-18T07:47:34.091250Z"
    }
   },
   "outputs": [],
   "source": [
    "MD_FOLDER='./markdown/'"
   ]
  },
  {
   "cell_type": "markdown",
   "id": "7381580d",
   "metadata": {
    "heading_collapsed": true
   },
   "source": [
    "## From pdf to md"
   ]
  },
  {
   "cell_type": "code",
   "execution_count": 20,
   "id": "8dd4b03b",
   "metadata": {
    "ExecuteTime": {
     "end_time": "2025-04-01T09:53:00.798225Z",
     "start_time": "2025-04-01T09:49:26.198870Z"
    },
    "hidden": true
   },
   "outputs": [
    {
     "data": {
      "application/vnd.jupyter.widget-view+json": {
       "model_id": "",
       "version_major": 2,
       "version_minor": 0
      },
      "text/plain": [
       "  0%|          | 0/5 [00:00<?, ?it/s]"
      ]
     },
     "metadata": {},
     "output_type": "display_data"
    },
    {
     "name": "stdout",
     "output_type": "stream",
     "text": [
      "Processing ./pdf/10_Telecommunications_VODAFONE GROUP PLC_2021.pdf...\n",
      "[                                        ] (0/2[=                                       ] ( 1/2=[===                                     ] ( 2/2=[=====                                   ] ( 3/2[======                                  ] ( 4/23=[========                                ] ( 5/23=[==========                              ] ( 6/23=[============                            ] ( 7/23[=============                           ] ( 8/2=[===============                         ] ( 9/2=[=================                       ] (10/2=[===================                     ] (11/2[====================                    ] (12/23=[======================                  ] (13/23=[========================                ] (14/23=[==========================              ] (15/23[===========================             ] (16/2=[=============================           ] (17/2=[===============================         ] (18/2=[=================================       ] (19/2[==================================      ] (20/23=[====================================    ] (21/23=[======================================  ] (22/23[========================================] (23/23]\n",
      "Processing ./pdf/1_Basic Materials_SYNTHOMER PLC_2021.pdf...\n",
      "[                                        ] (0/60[                                        ] ( 1/60[=                                       ] ( 2/[==                                      ] ( 3/60[==                                      ] ( 4/60[===                                     ] ( 5/[====                                    ] ( 6/60[====                                    ] ( 7/60[=====                                   ] ( 8/60[======                                  ] ( 9/60[======                                  ] (10/60[=======                                 ] (11/[========                                ] (12/60[========                                ] (13/60[=========                               ] (14/[==========                              ] (15/60[==========                              ] (16/60[===========                             ] (17/[============                            ] (18/60[============                            ] (19/60[=============                           ] (20/[==============                          ] (21/60[==============                          ] (22/60[===============                         ] (23/[================                        ] (24/60[================                        ] (25/60[=================                       ] (26/[==================                      ] (27/60[==================                      ] (28/60[===================                     ] (29/[====================                    ] (30/60[====================                    ] (31/60[=====================                   ] (32/[======================                  ] (33/60[======================                  ] (34/60[=======================                 ] (35/[========================                ] (36/60[========================                ] (37/60[=========================               ] (38/[==========================              ] (39/60[==========================              ] (40/60[===========================             ] (41/[============================            ] (42/60[============================            ] (43/60[=============================           ] (44/[==============================          ] (45/60[==============================          ] (46/60[===============================         ] (47/[================================        ] (48/60[================================        ] (49/60[=================================       ] (50/[==================================      ] (51/60[==================================      ] (52/60[===================================     ] (53/[====================================    ] (54/60[====================================    ] (55/60[=====================================   ] (56/[======================================  ] (57/60[======================================  ] (58/60[======================================= ] (59/[========================================] (60/60]\n",
      "Processing ./pdf/3_Consumer Staples_Imperial Brands PLC_2016.pdf...\n",
      "[                                        ] (0/1==[===                                     ] ( 1/1==[======                                  ] ( 2/12===[==========                              ] ( 3/12==[=============                           ] ( 4/1==[================                        ] ( 5/12===[====================                    ] ( 6/12==[=======================                 ] ( 7/1==[==========================              ] ( 8/12===[==============================          ] ( 9/12==[=================================       ] (10/1==[====================================    ] (11/12===[========================================] (12/12]\n",
      "Processing ./pdf/8_Real Estate_RIGHTMOVE PLC_2016.pdf...\n",
      "[                                        ] (0/3============[=============                           ] (1/============[==========================              ] (2/3=============[========================================] (3/3]\n",
      "Processing ./pdf/8_Real Estate_RIGHTMOVE PLC_2019.pdf...\n",
      "[                                        ] (0/9===[====                                    ] (1/9===[========                                ] (2/9====[=============                           ] (3/===[=================                       ] (4/====[======================                  ] (5/9===[==========================              ] (6/9====[===============================         ] (7/===[===================================     ] (8/====[========================================] (9/9]\n"
     ]
    }
   ],
   "source": [
    "for pdf in tqdm(pdfs):\n",
    "    md_text = pymupdf4llm.to_markdown(PDF_FOLDER+pdf)\n",
    "    file_name=file2vecfile(pdf, extension='.pdf').replace('.txt', '.md')\n",
    "    pathlib.Path(MD_FOLDER+file_name).write_bytes(md_text.encode())"
   ]
  },
  {
   "cell_type": "markdown",
   "id": "d40ceb77",
   "metadata": {},
   "source": [
    "# New vectors vs. old vectors"
   ]
  },
  {
   "cell_type": "code",
   "execution_count": 18,
   "id": "411d9da2",
   "metadata": {
    "ExecuteTime": {
     "end_time": "2025-04-18T14:45:57.069255Z",
     "start_time": "2025-04-18T07:47:50.414610Z"
    }
   },
   "outputs": [
    {
     "data": {
      "application/vnd.jupyter.widget-view+json": {
       "model_id": "c45e0fa34d0b41fc895de7b5a6ceb8e9",
       "version_major": 2,
       "version_minor": 0
      },
      "text/plain": [
       "  0%|          | 0/22 [00:00<?, ?it/s]"
      ]
     },
     "metadata": {},
     "output_type": "display_data"
    },
    {
     "data": {
      "application/vnd.jupyter.widget-view+json": {
       "model_id": "",
       "version_major": 2,
       "version_minor": 0
      },
      "text/plain": [
       "  0%|          | 0/5 [00:00<?, ?it/s]"
      ]
     },
     "metadata": {},
     "output_type": "display_data"
    },
    {
     "name": "stdout",
     "output_type": "stream",
     "text": [
      "10_Telecommunications_BT GROUP PLC_2016.pdf)cos=0.997\n"
     ]
    },
    {
     "data": {
      "application/vnd.jupyter.widget-view+json": {
       "model_id": "",
       "version_major": 2,
       "version_minor": 0
      },
      "text/plain": [
       "  0%|          | 0/4 [00:00<?, ?it/s]"
      ]
     },
     "metadata": {},
     "output_type": "display_data"
    },
    {
     "name": "stdout",
     "output_type": "stream",
     "text": [
      "10_Telecommunications_SPIRENT COMMUNICATIONS PLC_2023.pdf)cos=0.999\n"
     ]
    },
    {
     "data": {
      "application/vnd.jupyter.widget-view+json": {
       "model_id": "",
       "version_major": 2,
       "version_minor": 0
      },
      "text/plain": [
       "  0%|          | 0/7 [00:00<?, ?it/s]"
      ]
     },
     "metadata": {},
     "output_type": "display_data"
    },
    {
     "name": "stdout",
     "output_type": "stream",
     "text": [
      "10_Telecommunications_VODAFONE GROUP PLC_2018.pdf)cos=0.999\n"
     ]
    },
    {
     "data": {
      "application/vnd.jupyter.widget-view+json": {
       "model_id": "",
       "version_major": 2,
       "version_minor": 0
      },
      "text/plain": [
       "  0%|          | 0/3 [00:00<?, ?it/s]"
      ]
     },
     "metadata": {},
     "output_type": "display_data"
    },
    {
     "name": "stdout",
     "output_type": "stream",
     "text": [
      "10_Telecommunications_VODAFONE GROUP PLC_2021.pdf)cos=0.999\n"
     ]
    },
    {
     "data": {
      "application/vnd.jupyter.widget-view+json": {
       "model_id": "",
       "version_major": 2,
       "version_minor": 0
      },
      "text/plain": [
       "  0%|          | 0/2 [00:00<?, ?it/s]"
      ]
     },
     "metadata": {},
     "output_type": "display_data"
    },
    {
     "name": "stdout",
     "output_type": "stream",
     "text": [
      "10_Telecommunications_VODAFONE GROUP PLC_2023.pdf)cos=0.999\n"
     ]
    },
    {
     "data": {
      "application/vnd.jupyter.widget-view+json": {
       "model_id": "",
       "version_major": 2,
       "version_minor": 0
      },
      "text/plain": [
       "  0%|          | 0/5 [00:00<?, ?it/s]"
      ]
     },
     "metadata": {},
     "output_type": "display_data"
    },
    {
     "name": "stdout",
     "output_type": "stream",
     "text": [
      "11_Utilities_3_SEVERN TRENT PLC_2022.pdf)cos=0.999\n"
     ]
    },
    {
     "data": {
      "application/vnd.jupyter.widget-view+json": {
       "model_id": "",
       "version_major": 2,
       "version_minor": 0
      },
      "text/plain": [
       "  0%|          | 0/3 [00:00<?, ?it/s]"
      ]
     },
     "metadata": {},
     "output_type": "display_data"
    },
    {
     "name": "stdout",
     "output_type": "stream",
     "text": [
      "11_Utilities_8_RENEWI PLC_2023.pdf)cos=0.998\n"
     ]
    },
    {
     "data": {
      "application/vnd.jupyter.widget-view+json": {
       "model_id": "",
       "version_major": 2,
       "version_minor": 0
      },
      "text/plain": [
       "  0%|          | 0/3 [00:00<?, ?it/s]"
      ]
     },
     "metadata": {},
     "output_type": "display_data"
    },
    {
     "name": "stdout",
     "output_type": "stream",
     "text": [
      "1_Basic Materials_CRODA INTERNATIONAL PLC_2015.pdf)cos=0.996\n"
     ]
    },
    {
     "data": {
      "application/vnd.jupyter.widget-view+json": {
       "model_id": "",
       "version_major": 2,
       "version_minor": 0
      },
      "text/plain": [
       "  0%|          | 0/6 [00:00<?, ?it/s]"
      ]
     },
     "metadata": {},
     "output_type": "display_data"
    },
    {
     "name": "stdout",
     "output_type": "stream",
     "text": [
      "1_Basic Materials_EVRAZ PLC_2021.pdf)cos=0.999\n"
     ]
    },
    {
     "data": {
      "application/vnd.jupyter.widget-view+json": {
       "model_id": "",
       "version_major": 2,
       "version_minor": 0
      },
      "text/plain": [
       "  0%|          | 0/3 [00:00<?, ?it/s]"
      ]
     },
     "metadata": {},
     "output_type": "display_data"
    },
    {
     "name": "stdout",
     "output_type": "stream",
     "text": [
      "1_Basic Materials_SYNTHOMER PLC_2016.pdf)cos=0.998\n"
     ]
    },
    {
     "data": {
      "application/vnd.jupyter.widget-view+json": {
       "model_id": "",
       "version_major": 2,
       "version_minor": 0
      },
      "text/plain": [
       "  0%|          | 0/3 [00:00<?, ?it/s]"
      ]
     },
     "metadata": {},
     "output_type": "display_data"
    },
    {
     "name": "stdout",
     "output_type": "stream",
     "text": [
      "1_Basic Materials_SYNTHOMER PLC_2018.pdf)cos=0.998\n"
     ]
    },
    {
     "data": {
      "application/vnd.jupyter.widget-view+json": {
       "model_id": "",
       "version_major": 2,
       "version_minor": 0
      },
      "text/plain": [
       "  0%|          | 0/4 [00:00<?, ?it/s]"
      ]
     },
     "metadata": {},
     "output_type": "display_data"
    },
    {
     "name": "stdout",
     "output_type": "stream",
     "text": [
      "1_Basic Materials_SYNTHOMER PLC_2021.pdf)cos=0.999\n"
     ]
    },
    {
     "data": {
      "application/vnd.jupyter.widget-view+json": {
       "model_id": "",
       "version_major": 2,
       "version_minor": 0
      },
      "text/plain": [
       "  0%|          | 0/8 [00:00<?, ?it/s]"
      ]
     },
     "metadata": {},
     "output_type": "display_data"
    },
    {
     "name": "stdout",
     "output_type": "stream",
     "text": [
      "2_Consumer Discretionary_BARRATT DEVELOPMENTS PLC_2021.pdf)cos=1.000\n"
     ]
    },
    {
     "data": {
      "application/vnd.jupyter.widget-view+json": {
       "model_id": "",
       "version_major": 2,
       "version_minor": 0
      },
      "text/plain": [
       "  0%|          | 0/2 [00:00<?, ?it/s]"
      ]
     },
     "metadata": {},
     "output_type": "display_data"
    },
    {
     "name": "stdout",
     "output_type": "stream",
     "text": [
      "2_Consumer Discretionary_BERKELEY GROUP HOLDINGS (THE) PLC_2022.pdf)cos=0.998\n"
     ]
    },
    {
     "data": {
      "application/vnd.jupyter.widget-view+json": {
       "model_id": "",
       "version_major": 2,
       "version_minor": 0
      },
      "text/plain": [
       "  0%|          | 0/7 [00:00<?, ?it/s]"
      ]
     },
     "metadata": {},
     "output_type": "display_data"
    },
    {
     "name": "stdout",
     "output_type": "stream",
     "text": [
      "2_Consumer Discretionary_BURBERRY GROUP PLC_2020.pdf)cos=0.999\n"
     ]
    },
    {
     "data": {
      "application/vnd.jupyter.widget-view+json": {
       "model_id": "",
       "version_major": 2,
       "version_minor": 0
      },
      "text/plain": [
       "  0%|          | 0/3 [00:00<?, ?it/s]"
      ]
     },
     "metadata": {},
     "output_type": "display_data"
    },
    {
     "name": "stdout",
     "output_type": "stream",
     "text": [
      "2_Consumer Discretionary_INTERCONTINENTAL HOTELS GROUP PLC_2019.pdf)cos=0.998\n"
     ]
    },
    {
     "data": {
      "application/vnd.jupyter.widget-view+json": {
       "model_id": "",
       "version_major": 2,
       "version_minor": 0
      },
      "text/plain": [
       "  0%|          | 0/4 [00:00<?, ?it/s]"
      ]
     },
     "metadata": {},
     "output_type": "display_data"
    },
    {
     "name": "stdout",
     "output_type": "stream",
     "text": [
      "2_Consumer Discretionary_RELX PLC_2016.pdf)cos=0.998\n"
     ]
    },
    {
     "data": {
      "application/vnd.jupyter.widget-view+json": {
       "model_id": "",
       "version_major": 2,
       "version_minor": 0
      },
      "text/plain": [
       "  0%|          | 0/4 [00:00<?, ?it/s]"
      ]
     },
     "metadata": {},
     "output_type": "display_data"
    },
    {
     "name": "stdout",
     "output_type": "stream",
     "text": [
      "2_Consumer Discretionary_RELX PLC_2017.pdf)cos=0.997\n"
     ]
    },
    {
     "data": {
      "application/vnd.jupyter.widget-view+json": {
       "model_id": "",
       "version_major": 2,
       "version_minor": 0
      },
      "text/plain": [
       "  0%|          | 0/6 [00:00<?, ?it/s]"
      ]
     },
     "metadata": {},
     "output_type": "display_data"
    },
    {
     "name": "stdout",
     "output_type": "stream",
     "text": [
      "2_Consumer Discretionary_RELX PLC_2021.pdf)cos=0.999\n"
     ]
    },
    {
     "data": {
      "application/vnd.jupyter.widget-view+json": {
       "model_id": "",
       "version_major": 2,
       "version_minor": 0
      },
      "text/plain": [
       "  0%|          | 0/1 [00:00<?, ?it/s]"
      ]
     },
     "metadata": {},
     "output_type": "display_data"
    },
    {
     "name": "stdout",
     "output_type": "stream",
     "text": [
      "3_Consumer Staples_Imperial Brands PLC_2016.pdf)cos=0.993\n"
     ]
    },
    {
     "data": {
      "application/vnd.jupyter.widget-view+json": {
       "model_id": "",
       "version_major": 2,
       "version_minor": 0
      },
      "text/plain": [
       "  0%|          | 0/1 [00:00<?, ?it/s]"
      ]
     },
     "metadata": {},
     "output_type": "display_data"
    },
    {
     "name": "stdout",
     "output_type": "stream",
     "text": [
      "8_Real Estate_RIGHTMOVE PLC_2016.pdf)cos=0.999\n"
     ]
    },
    {
     "data": {
      "application/vnd.jupyter.widget-view+json": {
       "model_id": "",
       "version_major": 2,
       "version_minor": 0
      },
      "text/plain": [
       "  0%|          | 0/1 [00:00<?, ?it/s]"
      ]
     },
     "metadata": {},
     "output_type": "display_data"
    },
    {
     "name": "stdout",
     "output_type": "stream",
     "text": [
      "8_Real Estate_RIGHTMOVE PLC_2019.pdf)cos=0.999\n"
     ]
    }
   ],
   "source": [
    "for i_pdf, pdf in enumerate(tqdm(pdfs)):\n",
    "    # get the md file name\n",
    "    file_name=file2vecfile(pdf, extension='.pdf').replace('.txt', '.md')\n",
    "    # read the md file\n",
    "    with open(MD_FOLDER+file_name, 'r') as f:\n",
    "        markdown_string = f.read()\n",
    "    # embed the text\n",
    "    md_vec=jina4lote(first_text_cleaner(markdown_string))\n",
    "    \n",
    "    # go to the old rtf file\n",
    "    rtf=pdf.replace('.pdf', '.rtf')\n",
    "    # get the embedding\n",
    "    vecfile=file2vecfile(rtf)\n",
    "    rtf_vec=np.genfromtxt(TARGET_FOLDER+'/vectors/'+vecfile)\n",
    "    # compare the embeddings\n",
    "    cos_sim=float(util.cos_sim(rtf_vec, md_vec))\n",
    "    print(f'{pdf:})cos={cos_sim:.3f}')\n",
    "    \n",
    "    # save the md vec\n",
    "    np.savetxt('md_'+vecfile, md_vec)"
   ]
  },
  {
   "cell_type": "code",
   "execution_count": 19,
   "id": "974495d2",
   "metadata": {
    "ExecuteTime": {
     "end_time": "2025-04-18T14:45:59.149292Z",
     "start_time": "2025-04-18T14:45:57.074067Z"
    }
   },
   "outputs": [],
   "source": [
    "email_sender('[SDGs] Comparison between different strategies of text extraction', 'Check the results, but differences seem to be quite limited.')"
   ]
  },
  {
   "cell_type": "code",
   "execution_count": null,
   "id": "23e3734a",
   "metadata": {},
   "outputs": [],
   "source": []
  }
 ],
 "metadata": {
  "kernelspec": {
   "display_name": "Python 3 (ipykernel)",
   "language": "python",
   "name": "python3"
  },
  "language_info": {
   "codemirror_mode": {
    "name": "ipython",
    "version": 3
   },
   "file_extension": ".py",
   "mimetype": "text/x-python",
   "name": "python",
   "nbconvert_exporter": "python",
   "pygments_lexer": "ipython3",
   "version": "3.8.10"
  },
  "notify_time": "5",
  "toc": {
   "base_numbering": 1,
   "nav_menu": {},
   "number_sections": true,
   "sideBar": true,
   "skip_h1_title": false,
   "title_cell": "Table of Contents",
   "title_sidebar": "Contents",
   "toc_cell": false,
   "toc_position": {
    "height": "calc(100% - 180px)",
    "left": "10px",
    "top": "150px",
    "width": "369.594px"
   },
   "toc_section_display": true,
   "toc_window_display": true
  }
 },
 "nbformat": 4,
 "nbformat_minor": 5
}
