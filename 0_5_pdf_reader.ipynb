{
 "cells": [
  {
   "cell_type": "markdown",
   "id": "90a35def",
   "metadata": {},
   "source": [
    "# Intro"
   ]
  },
  {
   "cell_type": "markdown",
   "id": "0beac5e9",
   "metadata": {},
   "source": [
    "## Standard modules"
   ]
  },
  {
   "cell_type": "code",
   "execution_count": 1,
   "id": "053c98ec",
   "metadata": {
    "ExecuteTime": {
     "end_time": "2025-04-01T07:55:40.593725Z",
     "start_time": "2025-04-01T07:55:40.303633Z"
    }
   },
   "outputs": [],
   "source": [
    "import os, sys, pickle\n",
    "import pathlib\n",
    "import numpy as np\n",
    "from tqdm.auto import tqdm, trange"
   ]
  },
  {
   "cell_type": "code",
   "execution_count": 2,
   "id": "728e05ff",
   "metadata": {
    "ExecuteTime": {
     "end_time": "2025-04-01T07:55:44.478009Z",
     "start_time": "2025-04-01T07:55:40.598114Z"
    }
   },
   "outputs": [],
   "source": [
    "from sentence_transformers import util"
   ]
  },
  {
   "cell_type": "markdown",
   "id": "d9d88d6a",
   "metadata": {},
   "source": [
    "## My modules"
   ]
  },
  {
   "cell_type": "code",
   "execution_count": 3,
   "id": "a8eea46e",
   "metadata": {
    "ExecuteTime": {
     "end_time": "2025-04-01T07:55:44.501091Z",
     "start_time": "2025-04-01T07:55:44.482891Z"
    }
   },
   "outputs": [],
   "source": [
    "from toolbox.updater import time_is_now"
   ]
  },
  {
   "cell_type": "code",
   "execution_count": 4,
   "id": "45c95ab8",
   "metadata": {
    "ExecuteTime": {
     "end_time": "2025-04-01T07:55:44.584834Z",
     "start_time": "2025-04-01T07:55:44.504264Z"
    }
   },
   "outputs": [],
   "source": [
    "from file2text import file2text"
   ]
  },
  {
   "cell_type": "code",
   "execution_count": 5,
   "id": "11d097d3",
   "metadata": {
    "ExecuteTime": {
     "end_time": "2025-04-01T07:55:44.694896Z",
     "start_time": "2025-04-01T07:55:44.589429Z"
    }
   },
   "outputs": [],
   "source": [
    "from first_rough_cleaning import first_text_cleaner"
   ]
  },
  {
   "cell_type": "code",
   "execution_count": 6,
   "id": "96f034ec",
   "metadata": {
    "ExecuteTime": {
     "end_time": "2025-04-01T07:55:50.447451Z",
     "start_time": "2025-04-01T07:55:44.698298Z"
    }
   },
   "outputs": [
    {
     "name": "stderr",
     "output_type": "stream",
     "text": [
      "/home/sarawalk/sdgs_py38/lib/python3.8/site-packages/torch/cuda/__init__.py:118: UserWarning: CUDA initialization: The NVIDIA driver on your system is too old (found version 10020). Please update your GPU driver by downloading and installing a new version from the URL: http://www.nvidia.com/Download/index.aspx Alternatively, go to: https://pytorch.org to install a PyTorch version that has been compiled with your version of the CUDA driver. (Triggered internally at ../c10/cuda/CUDAFunctions.cpp:108.)\n",
      "  return torch._C._cuda_getDeviceCount() > 0\n"
     ]
    }
   ],
   "source": [
    "from embed_me_II_second_wipe import file2vecfile"
   ]
  },
  {
   "cell_type": "code",
   "execution_count": 7,
   "id": "c53b4b43",
   "metadata": {
    "ExecuteTime": {
     "end_time": "2025-04-01T07:55:50.457610Z",
     "start_time": "2025-04-01T07:55:50.451870Z"
    }
   },
   "outputs": [],
   "source": [
    "from jina4lote import jina4lote"
   ]
  },
  {
   "cell_type": "code",
   "execution_count": 18,
   "id": "68be1016",
   "metadata": {
    "ExecuteTime": {
     "end_time": "2025-04-01T08:02:35.633374Z",
     "start_time": "2025-04-01T08:02:35.629438Z"
    }
   },
   "outputs": [],
   "source": [
    "from embed_me_II import file2vecfile"
   ]
  },
  {
   "cell_type": "markdown",
   "id": "21969fd4",
   "metadata": {},
   "source": [
    "## Alternatives"
   ]
  },
  {
   "cell_type": "code",
   "execution_count": 8,
   "id": "a108f0d3",
   "metadata": {
    "ExecuteTime": {
     "end_time": "2025-04-01T07:55:50.779529Z",
     "start_time": "2025-04-01T07:55:50.460450Z"
    }
   },
   "outputs": [],
   "source": [
    "import pymupdf4llm"
   ]
  },
  {
   "cell_type": "markdown",
   "id": "2ec9eb99",
   "metadata": {},
   "source": [
    "## Parameters"
   ]
  },
  {
   "cell_type": "code",
   "execution_count": 9,
   "id": "c1a9a9a0",
   "metadata": {
    "ExecuteTime": {
     "end_time": "2025-04-01T07:55:50.786495Z",
     "start_time": "2025-04-01T07:55:50.782355Z"
    }
   },
   "outputs": [],
   "source": [
    "N_RUNS=10"
   ]
  },
  {
   "cell_type": "markdown",
   "id": "b377f1f8",
   "metadata": {},
   "source": [
    "## Files"
   ]
  },
  {
   "cell_type": "code",
   "execution_count": 14,
   "id": "b14c2d17",
   "metadata": {
    "ExecuteTime": {
     "end_time": "2025-04-01T07:58:05.828495Z",
     "start_time": "2025-04-01T07:58:05.824150Z"
    }
   },
   "outputs": [],
   "source": [
    "PDF_FOLDER='./pdf/'"
   ]
  },
  {
   "cell_type": "code",
   "execution_count": 15,
   "id": "d9492b31",
   "metadata": {
    "ExecuteTime": {
     "end_time": "2025-04-01T07:58:10.265696Z",
     "start_time": "2025-04-01T07:58:10.258962Z"
    }
   },
   "outputs": [],
   "source": [
    "pdfs=os.listdir(PDF_FOLDER)\n",
    "pdfs.sort()"
   ]
  },
  {
   "cell_type": "code",
   "execution_count": 19,
   "id": "4f9ab099",
   "metadata": {
    "ExecuteTime": {
     "end_time": "2025-04-01T08:02:56.873834Z",
     "start_time": "2025-04-01T08:02:56.865170Z"
    }
   },
   "outputs": [
    {
     "data": {
      "text/plain": [
       "'2021_10_VODAFONE_GROUP_PLC.txt'"
      ]
     },
     "execution_count": 19,
     "metadata": {},
     "output_type": "execute_result"
    }
   ],
   "source": [
    "file2vecfile(pdfs[0], extension='.pdf')"
   ]
  },
  {
   "cell_type": "markdown",
   "id": "78b89a4b",
   "metadata": {},
   "source": [
    "# Check a set of random .pdf file"
   ]
  },
  {
   "cell_type": "code",
   "execution_count": null,
   "id": "95ea31f9",
   "metadata": {
    "ExecuteTime": {
     "start_time": "2025-04-01T08:03:50.760Z"
    }
   },
   "outputs": [
    {
     "data": {
      "application/vnd.jupyter.widget-view+json": {
       "model_id": "c150db5331ab4476939b9fb4a3ec158f",
       "version_major": 2,
       "version_minor": 0
      },
      "text/plain": [
       "  0%|          | 0/5 [00:00<?, ?it/s]"
      ]
     },
     "metadata": {},
     "output_type": "display_data"
    },
    {
     "name": "stdout",
     "output_type": "stream",
     "text": [
      "Processing ./pdf/10_Telecommunications_VODAFONE GROUP PLC_2021.pdf...\n",
      "[                                        ] (0/2[=                                       ] ( 1/2=[===                                     ] ( 2/2=[=====                                   ] ( 3/2[======                                  ] ( 4/23=[========                                ] ( 5/23=[==========                              ] ( 6/23=[============                            ] ( 7/23[=============                           ] ( 8/2=[===============                         ] ( 9/2=[=================                       ] (10/2=[===================                     ] (11/2[====================                    ] (12/23=[======================                  ] (13/23=[========================                ] (14/23=[==========================              ] (15/23[===========================             ] (16/2=[=============================           ] (17/2=[===============================         ] (18/2=[=================================       ] (19/2[==================================      ] (20/23=[====================================    ] (21/23=[======================================  ] (22/23[========================================] (23/23]\n",
      "Processing ./pdf/1_Basic Materials_SYNTHOMER PLC_2021.pdf...\n",
      "[                                        ] (0/60[                                        ] ( 1/60[=                                       ] ( 2/[==                                      ] ( 3/60[==                                      ] ( 4/60[===                                     ] ( 5/[====                                    ] ( 6/60[====                                    ] ( 7/60[=====                                   ] ( 8/[======                                  ] ( 9/60[======                                  ] (10/60[=======                                 ] (11/[========                                ] (12/60[========                                ] (13/60[=========                               ] (14/[==========                              ] (15/60[==========                              ] (16/60[===========                             ] (17/[============                            ] (18/60[============                            ] (19/60[=============                           ] (20/[==============                          ] (21/60[==============                          ] (22/60[===============                         ] (23/[================                        ] (24/60[================                        ] (25/60[=================                       ] (26/[==================                      ] (27/60[==================                      ] (28/60[===================                     ] (29/[====================                    ] (30/60[====================                    ] (31/60[=====================                   ] (32/[======================                  ] (33/60[======================                  ] (34/60[=======================                 ] (35/[========================                ] (36/60[========================                ] (37/60)"
     ]
    }
   ],
   "source": [
    "for pdf in tqdm(pdfs):\n",
    "    md_text = pymupdf4llm.to_markdown(PDF_FOLDER+pdf)\n",
    "    file_name=file2vecfile(pdfs[0], extension='.pdf').replace('.txt', '.md')\n",
    "    pathlib.Path(PDF_FOLDER+file_name).write_bytes(md_text.encode())"
   ]
  },
  {
   "cell_type": "code",
   "execution_count": null,
   "id": "1292d6e9",
   "metadata": {},
   "outputs": [],
   "source": []
  }
 ],
 "metadata": {
  "kernelspec": {
   "display_name": "Python 3 (ipykernel)",
   "language": "python",
   "name": "python3"
  },
  "language_info": {
   "codemirror_mode": {
    "name": "ipython",
    "version": 3
   },
   "file_extension": ".py",
   "mimetype": "text/x-python",
   "name": "python",
   "nbconvert_exporter": "python",
   "pygments_lexer": "ipython3",
   "version": "3.8.10"
  },
  "toc": {
   "base_numbering": 1,
   "nav_menu": {},
   "number_sections": true,
   "sideBar": true,
   "skip_h1_title": false,
   "title_cell": "Table of Contents",
   "title_sidebar": "Contents",
   "toc_cell": false,
   "toc_position": {},
   "toc_section_display": true,
   "toc_window_display": true
  }
 },
 "nbformat": 4,
 "nbformat_minor": 5
}
