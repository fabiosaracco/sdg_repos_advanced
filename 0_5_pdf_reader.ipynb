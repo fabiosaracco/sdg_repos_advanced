{
 "cells": [
  {
   "cell_type": "markdown",
   "id": "47655370",
   "metadata": {},
   "source": [
    "# Intro"
   ]
  },
  {
   "cell_type": "markdown",
   "id": "300706f3",
   "metadata": {},
   "source": [
    "## Standard modules"
   ]
  },
  {
   "cell_type": "code",
   "execution_count": 1,
   "id": "b32d8d01",
   "metadata": {
    "ExecuteTime": {
     "end_time": "2025-04-01T09:47:46.971599Z",
     "start_time": "2025-04-01T09:47:46.708813Z"
    }
   },
   "outputs": [],
   "source": [
    "import os, sys, pickle\n",
    "import pathlib\n",
    "import numpy as np\n",
    "from tqdm.auto import tqdm, trange"
   ]
  },
  {
   "cell_type": "code",
   "execution_count": 2,
   "id": "9fd39996",
   "metadata": {
    "ExecuteTime": {
     "end_time": "2025-04-01T09:47:50.365604Z",
     "start_time": "2025-04-01T09:47:46.976388Z"
    }
   },
   "outputs": [],
   "source": [
    "from sentence_transformers import util"
   ]
  },
  {
   "cell_type": "markdown",
   "id": "075a5770",
   "metadata": {},
   "source": [
    "## My modules"
   ]
  },
  {
   "cell_type": "code",
   "execution_count": 3,
   "id": "cb8875ad",
   "metadata": {
    "ExecuteTime": {
     "end_time": "2025-04-01T09:47:50.382962Z",
     "start_time": "2025-04-01T09:47:50.368748Z"
    }
   },
   "outputs": [],
   "source": [
    "from toolbox.updater import time_is_now"
   ]
  },
  {
   "cell_type": "code",
   "execution_count": 4,
   "id": "2f676052",
   "metadata": {
    "ExecuteTime": {
     "end_time": "2025-04-01T09:47:50.473608Z",
     "start_time": "2025-04-01T09:47:50.385586Z"
    }
   },
   "outputs": [],
   "source": [
    "from file2text import file2text"
   ]
  },
  {
   "cell_type": "code",
   "execution_count": 5,
   "id": "218d8f94",
   "metadata": {
    "ExecuteTime": {
     "end_time": "2025-04-01T09:47:50.553502Z",
     "start_time": "2025-04-01T09:47:50.478602Z"
    }
   },
   "outputs": [],
   "source": [
    "from first_rough_cleaning import first_text_cleaner"
   ]
  },
  {
   "cell_type": "code",
   "execution_count": 6,
   "id": "50484180",
   "metadata": {
    "ExecuteTime": {
     "end_time": "2025-04-01T09:47:56.150796Z",
     "start_time": "2025-04-01T09:47:50.556159Z"
    }
   },
   "outputs": [
    {
     "name": "stderr",
     "output_type": "stream",
     "text": [
      "/home/sarawalk/sdgs_py38/lib/python3.8/site-packages/torch/cuda/__init__.py:118: UserWarning: CUDA initialization: The NVIDIA driver on your system is too old (found version 10020). Please update your GPU driver by downloading and installing a new version from the URL: http://www.nvidia.com/Download/index.aspx Alternatively, go to: https://pytorch.org to install a PyTorch version that has been compiled with your version of the CUDA driver. (Triggered internally at ../c10/cuda/CUDAFunctions.cpp:108.)\n",
      "  return torch._C._cuda_getDeviceCount() > 0\n"
     ]
    }
   ],
   "source": [
    "from embed_me_II_second_wipe import file2vecfile"
   ]
  },
  {
   "cell_type": "code",
   "execution_count": 7,
   "id": "84cad6bf",
   "metadata": {
    "ExecuteTime": {
     "end_time": "2025-04-01T09:47:56.164718Z",
     "start_time": "2025-04-01T09:47:56.157311Z"
    }
   },
   "outputs": [],
   "source": [
    "from jina4lote import jina4lote"
   ]
  },
  {
   "cell_type": "code",
   "execution_count": 8,
   "id": "1cf90d6f",
   "metadata": {
    "ExecuteTime": {
     "end_time": "2025-04-01T09:47:56.254965Z",
     "start_time": "2025-04-01T09:47:56.169475Z"
    }
   },
   "outputs": [],
   "source": [
    "from embed_me_II import file2vecfile"
   ]
  },
  {
   "cell_type": "markdown",
   "id": "a3ad9cb9",
   "metadata": {},
   "source": [
    "## Alternatives"
   ]
  },
  {
   "cell_type": "code",
   "execution_count": 9,
   "id": "26e55dd6",
   "metadata": {
    "ExecuteTime": {
     "end_time": "2025-04-01T09:47:56.630466Z",
     "start_time": "2025-04-01T09:47:56.258441Z"
    }
   },
   "outputs": [],
   "source": [
    "import pymupdf4llm"
   ]
  },
  {
   "cell_type": "markdown",
   "id": "e5f1174f",
   "metadata": {},
   "source": [
    "## Parameters"
   ]
  },
  {
   "cell_type": "code",
   "execution_count": 10,
   "id": "8525e582",
   "metadata": {
    "ExecuteTime": {
     "end_time": "2025-04-01T09:47:56.639311Z",
     "start_time": "2025-04-01T09:47:56.634030Z"
    }
   },
   "outputs": [],
   "source": [
    "N_RUNS=10"
   ]
  },
  {
   "cell_type": "markdown",
   "id": "0545b229",
   "metadata": {},
   "source": [
    "## Folders"
   ]
  },
  {
   "cell_type": "code",
   "execution_count": 11,
   "id": "aa4299df",
   "metadata": {
    "ExecuteTime": {
     "end_time": "2025-04-01T09:47:56.729602Z",
     "start_time": "2025-04-01T09:47:56.653992Z"
    }
   },
   "outputs": [],
   "source": [
    "PDF_FOLDER='./pdf/'"
   ]
  },
  {
   "cell_type": "code",
   "execution_count": 30,
   "id": "6f13b6d9",
   "metadata": {
    "ExecuteTime": {
     "end_time": "2025-04-01T10:18:49.608136Z",
     "start_time": "2025-04-01T10:18:49.604287Z"
    }
   },
   "outputs": [],
   "source": [
    "RTF_FOLDER='./rtf/'"
   ]
  },
  {
   "cell_type": "code",
   "execution_count": 36,
   "id": "818a3386",
   "metadata": {
    "ExecuteTime": {
     "end_time": "2025-04-01T10:21:25.775813Z",
     "start_time": "2025-04-01T10:21:25.771710Z"
    }
   },
   "outputs": [],
   "source": [
    "TARGET_FOLDER='./NewProcessedData/'"
   ]
  },
  {
   "cell_type": "markdown",
   "id": "c75c12e0",
   "metadata": {},
   "source": [
    "## Files"
   ]
  },
  {
   "cell_type": "code",
   "execution_count": 17,
   "id": "81810136",
   "metadata": {
    "ExecuteTime": {
     "end_time": "2025-04-01T09:49:20.427407Z",
     "start_time": "2025-04-01T09:49:20.416224Z"
    }
   },
   "outputs": [],
   "source": [
    "pdfs=[file for file in os.listdir(PDF_FOLDER) if file.endswith('.pdf')]\n",
    "pdfs.sort()"
   ]
  },
  {
   "cell_type": "code",
   "execution_count": 18,
   "id": "7f07544d",
   "metadata": {
    "ExecuteTime": {
     "end_time": "2025-04-01T09:49:20.882850Z",
     "start_time": "2025-04-01T09:49:20.871717Z"
    }
   },
   "outputs": [
    {
     "data": {
      "text/plain": [
       "['10_Telecommunications_VODAFONE GROUP PLC_2021.pdf',\n",
       " '1_Basic Materials_SYNTHOMER PLC_2021.pdf',\n",
       " '3_Consumer Staples_Imperial Brands PLC_2016.pdf',\n",
       " '8_Real Estate_RIGHTMOVE PLC_2016.pdf',\n",
       " '8_Real Estate_RIGHTMOVE PLC_2019.pdf']"
      ]
     },
     "execution_count": 18,
     "metadata": {},
     "output_type": "execute_result"
    }
   ],
   "source": [
    "pdfs"
   ]
  },
  {
   "cell_type": "markdown",
   "id": "90885725",
   "metadata": {},
   "source": [
    "# pdf + md vs. rtf"
   ]
  },
  {
   "cell_type": "markdown",
   "id": "80cb8d47",
   "metadata": {},
   "source": [
    "## From pdf to md"
   ]
  },
  {
   "cell_type": "code",
   "execution_count": 19,
   "id": "23dc12fd",
   "metadata": {
    "ExecuteTime": {
     "end_time": "2025-04-01T09:49:25.696741Z",
     "start_time": "2025-04-01T09:49:25.692856Z"
    }
   },
   "outputs": [],
   "source": [
    "MD_FOLDER='./markdown/'"
   ]
  },
  {
   "cell_type": "code",
   "execution_count": 20,
   "id": "f913f68b",
   "metadata": {
    "ExecuteTime": {
     "end_time": "2025-04-01T09:53:00.798225Z",
     "start_time": "2025-04-01T09:49:26.198870Z"
    }
   },
   "outputs": [
    {
     "data": {
      "application/vnd.jupyter.widget-view+json": {
       "model_id": "",
       "version_major": 2,
       "version_minor": 0
      },
      "text/plain": [
       "  0%|          | 0/5 [00:00<?, ?it/s]"
      ]
     },
     "metadata": {},
     "output_type": "display_data"
    },
    {
     "name": "stdout",
     "output_type": "stream",
     "text": [
      "Processing ./pdf/10_Telecommunications_VODAFONE GROUP PLC_2021.pdf...\n",
      "[                                        ] (0/2[=                                       ] ( 1/2=[===                                     ] ( 2/2=[=====                                   ] ( 3/2[======                                  ] ( 4/23=[========                                ] ( 5/23=[==========                              ] ( 6/23=[============                            ] ( 7/23[=============                           ] ( 8/2=[===============                         ] ( 9/2=[=================                       ] (10/2=[===================                     ] (11/2[====================                    ] (12/23=[======================                  ] (13/23=[========================                ] (14/23=[==========================              ] (15/23[===========================             ] (16/2=[=============================           ] (17/2=[===============================         ] (18/2=[=================================       ] (19/2[==================================      ] (20/23=[====================================    ] (21/23=[======================================  ] (22/23[========================================] (23/23]\n",
      "Processing ./pdf/1_Basic Materials_SYNTHOMER PLC_2021.pdf...\n",
      "[                                        ] (0/60[                                        ] ( 1/60[=                                       ] ( 2/[==                                      ] ( 3/60[==                                      ] ( 4/60[===                                     ] ( 5/[====                                    ] ( 6/60[====                                    ] ( 7/60[=====                                   ] ( 8/60[======                                  ] ( 9/60[======                                  ] (10/60[=======                                 ] (11/[========                                ] (12/60[========                                ] (13/60[=========                               ] (14/[==========                              ] (15/60[==========                              ] (16/60[===========                             ] (17/[============                            ] (18/60[============                            ] (19/60[=============                           ] (20/[==============                          ] (21/60[==============                          ] (22/60[===============                         ] (23/[================                        ] (24/60[================                        ] (25/60[=================                       ] (26/[==================                      ] (27/60[==================                      ] (28/60[===================                     ] (29/[====================                    ] (30/60[====================                    ] (31/60[=====================                   ] (32/[======================                  ] (33/60[======================                  ] (34/60[=======================                 ] (35/[========================                ] (36/60[========================                ] (37/60[=========================               ] (38/[==========================              ] (39/60[==========================              ] (40/60[===========================             ] (41/[============================            ] (42/60[============================            ] (43/60[=============================           ] (44/[==============================          ] (45/60[==============================          ] (46/60[===============================         ] (47/[================================        ] (48/60[================================        ] (49/60[=================================       ] (50/[==================================      ] (51/60[==================================      ] (52/60[===================================     ] (53/[====================================    ] (54/60[====================================    ] (55/60[=====================================   ] (56/[======================================  ] (57/60[======================================  ] (58/60[======================================= ] (59/[========================================] (60/60]\n",
      "Processing ./pdf/3_Consumer Staples_Imperial Brands PLC_2016.pdf...\n",
      "[                                        ] (0/1==[===                                     ] ( 1/1==[======                                  ] ( 2/12===[==========                              ] ( 3/12==[=============                           ] ( 4/1==[================                        ] ( 5/12===[====================                    ] ( 6/12==[=======================                 ] ( 7/1==[==========================              ] ( 8/12===[==============================          ] ( 9/12==[=================================       ] (10/1==[====================================    ] (11/12===[========================================] (12/12]\n",
      "Processing ./pdf/8_Real Estate_RIGHTMOVE PLC_2016.pdf...\n",
      "[                                        ] (0/3============[=============                           ] (1/============[==========================              ] (2/3=============[========================================] (3/3]\n",
      "Processing ./pdf/8_Real Estate_RIGHTMOVE PLC_2019.pdf...\n",
      "[                                        ] (0/9===[====                                    ] (1/9===[========                                ] (2/9====[=============                           ] (3/===[=================                       ] (4/====[======================                  ] (5/9===[==========================              ] (6/9====[===============================         ] (7/===[===================================     ] (8/====[========================================] (9/9]\n"
     ]
    }
   ],
   "source": [
    "for pdf in tqdm(pdfs):\n",
    "    md_text = pymupdf4llm.to_markdown(PDF_FOLDER+pdf)\n",
    "    file_name=file2vecfile(pdf, extension='.pdf').replace('.txt', '.md')\n",
    "    pathlib.Path(MD_FOLDER+file_name).write_bytes(md_text.encode())"
   ]
  },
  {
   "cell_type": "markdown",
   "id": "9a0a5532",
   "metadata": {},
   "source": [
    "## New vectors vs. old vectors"
   ]
  },
  {
   "cell_type": "code",
   "execution_count": 40,
   "id": "a8538ddc",
   "metadata": {
    "ExecuteTime": {
     "end_time": "2025-04-01T10:48:24.581790Z",
     "start_time": "2025-04-01T10:29:32.824800Z"
    }
   },
   "outputs": [
    {
     "data": {
      "application/vnd.jupyter.widget-view+json": {
       "model_id": "059993e8e8984a898aa734043b72a8d9",
       "version_major": 2,
       "version_minor": 0
      },
      "text/plain": [
       "  0%|          | 0/5 [00:00<?, ?it/s]"
      ]
     },
     "metadata": {},
     "output_type": "display_data"
    },
    {
     "data": {
      "application/vnd.jupyter.widget-view+json": {
       "model_id": "",
       "version_major": 2,
       "version_minor": 0
      },
      "text/plain": [
       "  0%|          | 0/1 [00:00<?, ?it/s]"
      ]
     },
     "metadata": {},
     "output_type": "display_data"
    },
    {
     "name": "stdout",
     "output_type": "stream",
     "text": [
      "10_Telecommunications_VODAFONE GROUP PLC_2021.pdf)cos=0.855\n"
     ]
    },
    {
     "data": {
      "application/vnd.jupyter.widget-view+json": {
       "model_id": "",
       "version_major": 2,
       "version_minor": 0
      },
      "text/plain": [
       "  0%|          | 0/1 [00:00<?, ?it/s]"
      ]
     },
     "metadata": {},
     "output_type": "display_data"
    },
    {
     "name": "stdout",
     "output_type": "stream",
     "text": [
      "1_Basic Materials_SYNTHOMER PLC_2021.pdf)cos=0.857\n"
     ]
    },
    {
     "data": {
      "application/vnd.jupyter.widget-view+json": {
       "model_id": "",
       "version_major": 2,
       "version_minor": 0
      },
      "text/plain": [
       "  0%|          | 0/1 [00:00<?, ?it/s]"
      ]
     },
     "metadata": {},
     "output_type": "display_data"
    },
    {
     "name": "stdout",
     "output_type": "stream",
     "text": [
      "3_Consumer Staples_Imperial Brands PLC_2016.pdf)cos=0.804\n"
     ]
    },
    {
     "data": {
      "application/vnd.jupyter.widget-view+json": {
       "model_id": "",
       "version_major": 2,
       "version_minor": 0
      },
      "text/plain": [
       "  0%|          | 0/1 [00:00<?, ?it/s]"
      ]
     },
     "metadata": {},
     "output_type": "display_data"
    },
    {
     "name": "stdout",
     "output_type": "stream",
     "text": [
      "8_Real Estate_RIGHTMOVE PLC_2016.pdf)cos=0.984\n"
     ]
    },
    {
     "data": {
      "application/vnd.jupyter.widget-view+json": {
       "model_id": "",
       "version_major": 2,
       "version_minor": 0
      },
      "text/plain": [
       "  0%|          | 0/1 [00:00<?, ?it/s]"
      ]
     },
     "metadata": {},
     "output_type": "display_data"
    },
    {
     "name": "stdout",
     "output_type": "stream",
     "text": [
      "8_Real Estate_RIGHTMOVE PLC_2019.pdf)cos=0.999\n"
     ]
    }
   ],
   "source": [
    "for i_pdf, pdf in enumerate(tqdm(pdfs)):\n",
    "    # read the md file\n",
    "    with open(MD_FOLDER+file_name, 'r') as f:\n",
    "        markdown_string = f.read()\n",
    "    # embed the text\n",
    "    md_vec=jina4lote(first_text_cleaner(markdown_string))\n",
    "    \n",
    "    # go to the old rtf file\n",
    "    rtf=pdf.replace('.pdf', '.rtf')\n",
    "    # get the embedding\n",
    "    vecfile=file2vecfile(rtf)\n",
    "    rtf_vec=np.genfromtxt(TARGET_FOLDER+vecfile)\n",
    "    # compare the embeddings\n",
    "    cos_sim=float(util.cos_sim(rtf_vec, md_vec))\n",
    "    print(f'{pdf:})cos={cos_sim:.3f}')\n",
    "    \n",
    "    # save the md vec\n",
    "    np.savetxt('md_'+vecfile, md_vec)"
   ]
  },
  {
   "cell_type": "markdown",
   "id": "52165b8b",
   "metadata": {},
   "source": [
    "Ok, the indications are not clear: sometimes it works, sometimes it does not. What we have is quite stable and make sense, but it seems as we re-invented the wheel. What should I do?   \n",
    "Probably the first thing should be enlarging the set: so far this was simply intended to be used to check the resilience of the entire process against the removal of few sentences (i.e. the target of the previous notebook).  \n",
    "Then I should probably arrange the first cleaning to target the output data from pymupdf4llm.   \n",
    "But since everything is working, should I really care?"
   ]
  },
  {
   "cell_type": "markdown",
   "id": "e13d671b",
   "metadata": {},
   "source": [
    "# A greater subset to test"
   ]
  },
  {
   "cell_type": "markdown",
   "id": "97653533",
   "metadata": {
    "heading_collapsed": true
   },
   "source": [
    "## Selecting files"
   ]
  },
  {
   "cell_type": "code",
   "execution_count": 41,
   "id": "cef6329d",
   "metadata": {
    "ExecuteTime": {
     "end_time": "2025-04-01T12:26:43.379058Z",
     "start_time": "2025-04-01T12:26:43.372656Z"
    },
    "hidden": true
   },
   "outputs": [],
   "source": [
    "RTF_FOLDER='./rtf/'"
   ]
  },
  {
   "cell_type": "code",
   "execution_count": 42,
   "id": "5e84a438",
   "metadata": {
    "ExecuteTime": {
     "end_time": "2025-04-01T12:26:43.704781Z",
     "start_time": "2025-04-01T12:26:43.700059Z"
    },
    "hidden": true
   },
   "outputs": [],
   "source": [
    "TARGET_FOLDER='./NewProcessedData/'"
   ]
  },
  {
   "cell_type": "code",
   "execution_count": 43,
   "id": "1e1a37c3",
   "metadata": {
    "ExecuteTime": {
     "end_time": "2025-04-01T12:26:45.227061Z",
     "start_time": "2025-04-01T12:26:45.219846Z"
    },
    "hidden": true
   },
   "outputs": [],
   "source": [
    "rtf_files=[file for file in os.listdir(RTF_FOLDER) if file.endswith('.rtf')]"
   ]
  },
  {
   "cell_type": "code",
   "execution_count": 44,
   "id": "abe024ad",
   "metadata": {
    "ExecuteTime": {
     "end_time": "2025-04-01T12:26:45.561555Z",
     "start_time": "2025-04-01T12:26:45.555767Z"
    },
    "hidden": true
   },
   "outputs": [],
   "source": [
    "rtf_files.sort()"
   ]
  },
  {
   "cell_type": "code",
   "execution_count": 45,
   "id": "0f6c3a95",
   "metadata": {
    "ExecuteTime": {
     "end_time": "2025-04-01T12:26:45.928822Z",
     "start_time": "2025-04-01T12:26:45.923886Z"
    },
    "hidden": true
   },
   "outputs": [],
   "source": [
    "N=len(rtf_files)"
   ]
  },
  {
   "cell_type": "code",
   "execution_count": 46,
   "id": "d4cdf0ac",
   "metadata": {
    "ExecuteTime": {
     "end_time": "2025-04-01T12:27:03.434593Z",
     "start_time": "2025-04-01T12:27:03.427366Z"
    },
    "hidden": true
   },
   "outputs": [],
   "source": [
    "selection_10=np.random.choice(rtf_files, size=int(N/10))"
   ]
  },
  {
   "cell_type": "code",
   "execution_count": 48,
   "id": "60a1dd4f",
   "metadata": {
    "ExecuteTime": {
     "end_time": "2025-04-01T12:27:10.075915Z",
     "start_time": "2025-04-01T12:27:10.044688Z"
    },
    "hidden": true
   },
   "outputs": [],
   "source": [
    "selection_10.sort()"
   ]
  },
  {
   "cell_type": "code",
   "execution_count": 50,
   "id": "d26f173e",
   "metadata": {
    "ExecuteTime": {
     "end_time": "2025-04-01T12:27:50.843008Z",
     "start_time": "2025-04-01T12:27:50.836522Z"
    },
    "hidden": true
   },
   "outputs": [],
   "source": [
    "selection_01=np.array(['10_Telecommunications_VODAFONE GROUP PLC_2021.rtf',\n",
    "       '1_Basic Materials_SYNTHOMER PLC_2021.rtf',\n",
    "       '3_Consumer Staples_Imperial Brands PLC_2016.rtf',\n",
    "       '8_Real Estate_RIGHTMOVE PLC_2016.rtf',\n",
    "       '8_Real Estate_RIGHTMOVE PLC_2019.rtf'], dtype='<U67')"
   ]
  },
  {
   "cell_type": "code",
   "execution_count": 52,
   "id": "ed333643",
   "metadata": {
    "ExecuteTime": {
     "end_time": "2025-04-01T12:28:39.679916Z",
     "start_time": "2025-04-01T12:28:39.668271Z"
    },
    "hidden": true
   },
   "outputs": [
    {
     "data": {
      "text/plain": [
       "True"
      ]
     },
     "execution_count": 52,
     "metadata": {},
     "output_type": "execute_result"
    }
   ],
   "source": [
    "len([s10 for s10 in selection_10 if s10 not in selection_01])==len(selection_10)"
   ]
  },
  {
   "cell_type": "code",
   "execution_count": 53,
   "id": "bb9f6943",
   "metadata": {
    "ExecuteTime": {
     "end_time": "2025-04-01T12:30:18.957998Z",
     "start_time": "2025-04-01T12:30:18.947346Z"
    },
    "hidden": true
   },
   "outputs": [
    {
     "data": {
      "text/plain": [
       "array(['10_Telecommunications_BT GROUP PLC_2016.rtf',\n",
       "       '10_Telecommunications_SPIRENT COMMUNICATIONS PLC_2023.rtf',\n",
       "       '10_Telecommunications_VODAFONE GROUP PLC_2018.rtf',\n",
       "       '10_Telecommunications_VODAFONE GROUP PLC_2023.rtf',\n",
       "       '11_Utilities_3_SEVERN TRENT PLC_2022.rtf',\n",
       "       '11_Utilities_8_RENEWI PLC_2023.rtf',\n",
       "       '1_Basic Materials_CRODA INTERNATIONAL PLC_2015.rtf',\n",
       "       '1_Basic Materials_EVRAZ PLC_2021.rtf',\n",
       "       '1_Basic Materials_SYNTHOMER PLC_2016.rtf',\n",
       "       '1_Basic Materials_SYNTHOMER PLC_2018.rtf',\n",
       "       '2_Consumer Discretionary_BARRATT DEVELOPMENTS PLC_2021.rtf',\n",
       "       '2_Consumer Discretionary_BERKELEY GROUP HOLDINGS (THE) PLC_2022.rtf',\n",
       "       '2_Consumer Discretionary_BURBERRY GROUP PLC_2020.rtf',\n",
       "       '2_Consumer Discretionary_INTERCONTINENTAL HOTELS GROUP PLC_2019.rtf',\n",
       "       '2_Consumer Discretionary_RELX PLC_2016.rtf',\n",
       "       '2_Consumer Discretionary_RELX PLC_2016.rtf',\n",
       "       '2_Consumer Discretionary_RELX PLC_2017_1.rtf',\n",
       "       '2_Consumer Discretionary_RELX PLC_2021.rtf',\n",
       "       '3_Consumer Staples_Associated British Foods PLC_2016.rtf',\n",
       "       '3_Consumer Staples_Associated British Foods PLC_2022.rtf',\n",
       "       '3_Consumer Staples_British American Tobacco PLC_2015.rtf',\n",
       "       '3_Consumer Staples_Coca-Cola Europacific Partners PLC_2017.rtf',\n",
       "       '3_Consumer Staples_Coca-Cola Europacific Partners PLC_2020.rtf',\n",
       "       '3_Consumer Staples_Diageo PLC_2018.rtf',\n",
       "       '3_Consumer Staples_Imperial Brands PLC_2015.rtf',\n",
       "       '3_Consumer Staples_Imperial Brands PLC_2015.rtf',\n",
       "       '3_Consumer Staples_Imperial Brands PLC_2022.rtf',\n",
       "       '3_Consumer Staples_Imperial Brands PLC_2023.rtf',\n",
       "       '3_Consumer Staples_Marks and Spencer Group PLC_2016.rtf',\n",
       "       '3_Consumer Staples_Reckitt Benckiser Group PLC_2021.rtf',\n",
       "       '3_Consumer Staples_Reckitt Benckiser Group PLC_2022.rtf',\n",
       "       '3_Consumer Staples_Sainsbury (J) PLC_2015.rtf',\n",
       "       '4_Energy_1_Shell_2019.rtf',\n",
       "       '4_Energy_6_WOOD GROUP (JOHN) PLC_2020.rtf',\n",
       "       '4_Energy_6_WOOD GROUP (JOHN) PLC_2021.rtf',\n",
       "       '4_Energy_6_WOOD GROUP (JOHN) PLC_2023.rtf',\n",
       "       '4_Energy_6_WOOD GROUP (JOHN) PLC_2023.rtf',\n",
       "       '4_Energy_8_ASHTEAD TECHNOLOGY HOLDINGS PLC_2021.rtf',\n",
       "       '4_Energy_8_ASHTEAD TECHNOLOGY HOLDINGS PLC_2022.rtf',\n",
       "       '5_Financials_AVIVA PLC_2020.rtf',\n",
       "       '5_Financials_HSBC HOLDINGS PLC_2022.rtf',\n",
       "       '5_Financials_LONDON STOCK EXCHANGE GROUP PLC_2023.rtf',\n",
       "       '5_Financials_NATWEST GROUP PLC_2020.rtf',\n",
       "       '5_Financials_STANDARD CHARTERED PLC_2021.rtf',\n",
       "       '5_Financials_STANDARD CHARTERED PLC_2022.rtf',\n",
       "       '6_Health Care_Convatec Group PLC_2023.rtf',\n",
       "       '6_Health Care_GSK PLC_2021.rtf',\n",
       "       '6_Health Care_Genus PLC_2023.rtf',\n",
       "       '6_Health Care_Smith & Nephew PLC_2022.rtf',\n",
       "       '7_Industrials_IMI PLC_2019.rtf', '7_Industrials_IMI PLC_2022.rtf',\n",
       "       '7_Industrials_INTERTEK GROUP PLC_2018.rtf',\n",
       "       '7_Industrials_SMITH (DS) PLC_2016.rtf',\n",
       "       '7_Industrials_SMITH (DS) PLC_2021.rtf',\n",
       "       '8_Real Estate_LAND SECURITIES GROUP PLC_2015.rtf',\n",
       "       '8_Real Estate_RIGHTMOVE PLC_2022.rtf',\n",
       "       '8_Real Estate_SHAFTESBURY CAPITAL PLC_2022.rtf',\n",
       "       '9_Technology_AUTO TRADER GROUP PLC_2021.rtf',\n",
       "       '9_Technology_AUTO TRADER GROUP PLC_2021.rtf'], dtype='<U67')"
      ]
     },
     "execution_count": 53,
     "metadata": {},
     "output_type": "execute_result"
    }
   ],
   "source": [
    "selection_10"
   ]
  },
  {
   "cell_type": "markdown",
   "id": "1fd9dfa8",
   "metadata": {
    "hidden": true
   },
   "source": [
    "Actually, I got tired after a while in selecting the various .pdf, therefore I made a selection of the list therein."
   ]
  },
  {
   "cell_type": "markdown",
   "id": "c8371f0e",
   "metadata": {},
   "source": [
    "## Files"
   ]
  },
  {
   "cell_type": "code",
   "execution_count": 54,
   "id": "aa34ad76",
   "metadata": {
    "ExecuteTime": {
     "end_time": "2025-04-01T12:42:31.919812Z",
     "start_time": "2025-04-01T12:42:31.912329Z"
    }
   },
   "outputs": [],
   "source": [
    "new_pdfs=[file for file in os.listdir(PDF_FOLDER) if file.endswith('.pdf') and file not in pdfs]\n",
    "new_pdfs.sort()"
   ]
  },
  {
   "cell_type": "code",
   "execution_count": 56,
   "id": "4f2fc61b",
   "metadata": {
    "ExecuteTime": {
     "end_time": "2025-04-01T12:42:43.927672Z",
     "start_time": "2025-04-01T12:42:43.919033Z"
    }
   },
   "outputs": [
    {
     "data": {
      "text/plain": [
       "17"
      ]
     },
     "execution_count": 56,
     "metadata": {},
     "output_type": "execute_result"
    }
   ],
   "source": [
    "len(new_pdfs)"
   ]
  },
  {
   "cell_type": "markdown",
   "id": "56bd6cae",
   "metadata": {},
   "source": [
    "## From pdf to md"
   ]
  },
  {
   "cell_type": "code",
   "execution_count": 58,
   "id": "ed9b1321",
   "metadata": {
    "ExecuteTime": {
     "end_time": "2025-04-01T13:18:31.019469Z",
     "start_time": "2025-04-01T12:46:06.607604Z"
    }
   },
   "outputs": [
    {
     "data": {
      "application/vnd.jupyter.widget-view+json": {
       "model_id": "e35099b9702c49989519e07fedf8c41e",
       "version_major": 2,
       "version_minor": 0
      },
      "text/plain": [
       "  0%|          | 0/17 [00:00<?, ?it/s]"
      ]
     },
     "metadata": {},
     "output_type": "display_data"
    },
    {
     "name": "stdout",
     "output_type": "stream",
     "text": [
      "Processing ./pdf/10_Telecommunications_BT GROUP PLC_2016.pdf...\n",
      "[                                        ] (0/69[                                        ] ( 1/69[=                                       ] ( 2/[=                                       ] ( 3/6[==                                      ] ( 4/6[==                                      ] ( 5/69[===                                     ] ( 6/6[====                                    ] ( 7/6[====                                    ] ( 8/69[=====                                   ] ( 9/[=====                                   ] (10/6[======                                  ] (11/6[======                                  ] (12/69[=======                                 ] (13/6[========                                ] (14/6[========                                ] (15/69[=========                               ] (16/[=========                               ] (17/6[==========                              ] (18/69[===========                             ] (19/[===========                             ] (20/6[============                            ] (21/6[============                            ] (22/69[=============                           ] (23/[=============                           ] (24/6[==============                          ] (25/69[===============                         ] (26/[===============                         ] (27/6[================                        ] (28/6[================                        ] (29/69[=================                       ] (30/[=================                       ] (31/6[==================                      ] (32/69[===================                     ] (33/[===================                     ] (34/6[====================                    ] (35/6[====================                    ] (36/69[=====================                   ] (37/6[======================                  ] (38/6[======================                  ] (39/69[=======================                 ] (40/[=======================                 ] (41/6[========================                ] (42/6[========================                ] (43/69[=========================               ] (44/6[==========================              ] (45/6[==========================              ] (46/69[===========================             ] (47/69[===========================             ] (48/6[============================            ] (49/6[============================            ] (50/69[=============================           ] (51/6[==============================          ] (52/6[==============================          ] (53/69[===============================         ] (54/[===============================         ] (55/6[================================        ] (56/69[=================================       ] (57/[=================================       ] (58/6[==================================      ] (59/6[==================================      ] (60/69[===================================     ] (61/[===================================     ] (62/6[====================================    ] (63/69[=====================================   ] (64/[=====================================   ] (65/6[======================================  ] (66/6[======================================  ] (67/69[======================================= ] (68/6[========================================] (69/69]\n",
      "Processing ./pdf/10_Telecommunications_SPIRENT COMMUNICATIONS PLC_2023.pdf...\n",
      "[                                        ] (0/93[                                        ] ( 1/9[                                        ] ( 2/93[=                                       ] ( 3/[=                                       ] ( 4/9[==                                      ] ( 5/9[==                                      ] ( 6/93[===                                     ] ( 7/[===                                     ] ( 8/[===                                     ] ( 9/9[====                                    ] (10/9[====                                    ] (11/93[=====                                   ] (12/[=====                                   ] (13/9[======                                  ] (14/9[======                                  ] (15/9[======                                  ] (16/93[=======                                 ] (17/[=======                                 ] (18/9[========                                ] (19/9[========                                ] (20/93[=========                               ] (21/[=========                               ] (22/[=========                               ] (23/9[==========                              ] (24/9[==========                              ] (25/93[===========                             ] (26/[===========                             ] (27/9[============                            ] (28/9[============                            ] (29/9[============                            ] (30/93[=============                           ] (31/[=============                           ] (32/9[==============                          ] (33/9[==============                          ] (34/93[===============                         ] (35/[===============                         ] (36/[===============                         ] (37/9[================                        ] (38/9[================                        ] (39/93[=================                       ] (40/[=================                       ] (41/9[==================                      ] (42/9[==================                      ] (43/9[==================                      ] (44/93[===================                     ] (45/93[===================                     ] (46/9[====================                    ] (47/9[====================                    ] (48/93[=====================                   ] (49/[=====================                   ] (50/[=====================                   ] (51/9[======================                  ] (52/9[======================                  ] (53/93[=======================                 ] (54/[=======================                 ] (55/9[========================                ] (56/9[========================                ] (57/9[========================                ] (58/93[=========================               ] (59/93[=========================               ] (60/9[==========================              ] (61/9[==========================              ] (62/93[===========================             ] (63/[===========================             ] (64/[===========================             ] (65/9[============================            ] (66/9[============================            ] (67/93[=============================           ] (68/[=============================           ] (69/9[==============================          ] (70/9[==============================          ] (71/9[==============================          ] (72/93[===============================         ] (73/[===============================         ] (74/9[================================        ] (75/9[================================        ] (76/93[=================================       ] (77/[=================================       ] (78/[=================================       ] (79/9[==================================      ] (80/9[==================================      ] (81/93[===================================     ] (82/[===================================     ] (83/9[====================================    ] (84/9[====================================    ] (85/9[====================================    ] (86/93[=====================================   ] (87/[=====================================   ] (88/9[======================================  ] (89/9[======================================  ] (90/93[======================================= ] (91/[======================================= ] (92/9[========================================] (93/93]\n",
      "Processing ./pdf/10_Telecommunications_VODAFONE GROUP PLC_2018.pdf...\n",
      "[                                        ] (0/98[                                        ] ( 1/9[                                        ] ( 2/98[=                                       ] ( 3/[=                                       ] ( 4/9[==                                      ] ( 5/9[==                                      ] ( 6/9[==                                      ] ( 7/98[===                                     ] ( 8/[===                                     ] ( 9/9[====                                    ] (10/9[====                                    ] (11/9[====                                    ] (12/98[=====                                   ] (13/[=====                                   ] (14/9[======                                  ] (15/9[======                                  ] (16/9[======                                  ] (17/98[=======                                 ] (18/[=======                                 ] (19/9[========                                ] (20/9[========                                ] (21/9[========                                ] (22/98[=========                               ] (23/[=========                               ] (24/9[==========                              ] (25/9[==========                              ] (26/98[===========                             ] (27/[===========                             ] (28/[===========                             ] (29/9[============                            ] (30/9[============                            ] (31/98[=============                           ] (32/[=============                           ] (33/[=============                           ] (34/9[==============                          ] (35/9[==============                          ] (36/98[===============                         ] (37/[===============                         ] (38/[===============                         ] (39/9[================                        ] (40/9[================                        ] (41/98[=================                       ] (42/[=================                       ] (43/[=================                       ] (44/9[==================                      ] (45/9[==================                      ] (46/98[===================                     ] (47/[===================                     ] (48/9[====================                    ] (49/9[====================                    ] (50/9[====================                    ] (51/98[=====================                   ] (52/[=====================                   ] (53/9[======================                  ] (54/9[======================                  ] (55/9[======================                  ] (56/98[=======================                 ] (57/[=======================                 ] (58/9[========================                ] (59/9[========================                ] (60/9[========================                ] (61/98[=========================               ] (62/[=========================               ] (63/9[==========================              ] (64/9[==========================              ] (65/9[==========================              ] (66/98[===========================             ] (67/[===========================             ] (68/9[============================            ] (69/9[============================            ] (70/9[============================            ] (71/98[=============================           ] (72/[=============================           ] (73/9[==============================          ] (74/9[==============================          ] (75/98[===============================         ] (76/[===============================         ] (77/[===============================         ] (78/9[================================        ] (79/9[================================        ] (80/98[=================================       ] (81/[=================================       ] (82/[=================================       ] (83/9[==================================      ] (84/9[==================================      ] (85/98[===================================     ] (86/[===================================     ] (87/[===================================     ] (88/9[====================================    ] (89/9[====================================    ] (90/98[=====================================   ] (91/[=====================================   ] (92/[=====================================   ] (93/9[======================================  ] (94/9[======================================  ] (95/98[======================================= ] (96/[======================================= ] (97/9[========================================] (98/98]\n",
      "Processing ./pdf/10_Telecommunications_VODAFONE GROUP PLC_2023.pdf...\n",
      "[                                        ] (0/2[=                                       ] ( 1/2=[===                                     ] ( 2/2=[=====                                   ] ( 3/2=[=======                                 ] ( 4/2=[=========                               ] ( 5/2[==========                              ] ( 6/22=[============                            ] ( 7/22=[==============                          ] ( 8/22=[================                        ] ( 9/22=[==================                      ] (10/22[====================                    ] (11/22=[=====================                   ] (12/2=[=======================                 ] (13/2=[=========================               ] (14/2=[===========================             ] (15/2=[=============================           ] (16/2[==============================          ] (17/22=[================================        ] (18/22=[==================================      ] (19/22=[====================================    ] (20/22=[======================================  ] (21/22[========================================] (22/22]\n",
      "Processing ./pdf/11_Utilities_3_SEVERN TRENT PLC_2022.pdf...\n"
     ]
    },
    {
     "name": "stdout",
     "output_type": "stream",
     "text": [
      "[                                        ] (0/15[                                        ] (  1/15[                                        ] (  2/15[                                        ] (  3/154[=                                       ] (  4/1[=                                       ] (  5/1[=                                       ] (  6/1[=                                       ] (  7/15[==                                      ] (  8/15[==                                      ] (  9/15[==                                      ] ( 10/15[==                                      ] ( 11/154[===                                     ] ( 12/1[===                                     ] ( 13/1[===                                     ] ( 14/1[===                                     ] ( 15/15[====                                    ] ( 16/15[====                                    ] ( 17/15[====                                    ] ( 18/15[====                                    ] ( 19/154[=====                                   ] ( 20/1[=====                                   ] ( 21/1[=====                                   ] ( 22/1[=====                                   ] ( 23/15[======                                  ] ( 24/15[======                                  ] ( 25/15[======                                  ] ( 26/154[=======                                 ] ( 27/1[=======                                 ] ( 28/1[=======                                 ] ( 29/1[=======                                 ] ( 30/15[========                                ] ( 31/15[========                                ] ( 32/15[========                                ] ( 33/15[========                                ] ( 34/154[=========                               ] ( 35/1[=========                               ] ( 36/1[=========                               ] ( 37/154[=========                               ] ( 38/15[==========                              ] ( 39/15[==========                              ] ( 40/15[==========                              ] ( 41/15[==========                              ] ( 42/154[===========                             ] ( 43/154[===========                             ] ( 44/1[===========                             ] ( 45/1[===========                             ] ( 46/15[============                            ] ( 47/15[============                            ] ( 48/15[============                            ] ( 49/15[============                            ] ( 50/154[=============                           ] ( 51/1[=============                           ] ( 52/1[=============                           ] ( 53/15[==============                          ] ( 54/15[==============                          ] ( 55/15[==============                          ] ( 56/15[==============                          ] ( 57/154[===============                         ] ( 58/1[===============                         ] ( 59/1[===============                         ] ( 60/1[===============                         ] ( 61/15[================                        ] ( 62/15[================                        ] ( 63/15[================                        ] ( 64/15[================                        ] ( 65/154[=================                       ] ( 66/1[=================                       ] ( 67/154[=================                       ] ( 68/1[=================                       ] ( 69/15[==================                      ] ( 70/15[==================                      ] ( 71/15[==================                      ] ( 72/15[==================                      ] ( 73/154[===================                     ] ( 74/1[===================                     ] ( 75/1[===================                     ] ( 76/1[====================                    ] ( 77/154[====================                    ] ( 78/15[====================                    ] ( 79/15[====================                    ] ( 80/154[=====================                   ] ( 81/1[=====================                   ] ( 82/154[=====================                   ] ( 83/1[=====================                   ] ( 84/15[======================                  ] ( 85/15[======================                  ] ( 86/15[======================                  ] ( 87/15[======================                  ] ( 88/154[=======================                 ] ( 89/1[=======================                 ] ( 90/1[=======================                 ] ( 91/1[=======================                 ] ( 92/15[========================                ] ( 93/15[========================                ] ( 94/15[========================                ] ( 95/15[========================                ] ( 96/154[=========================               ] ( 97/1[=========================               ] ( 98/1[=========================               ] ( 99/1[=========================               ] (100/15[==========================              ] (101/15[==========================              ] (102/15[==========================              ] (103/154[===========================             ] (104/1[===========================             ] (105/1[===========================             ] (106/1[===========================             ] (107/15[============================            ] (108/15[============================            ] (109/15[============================            ] (110/15[============================            ] (111/154[=============================           ] (112/1[=============================           ] (113/1[=============================           ] (114/1[=============================           ] (115/15[==============================          ] (116/15[==============================          ] (117/15[==============================          ] (118/15[==============================          ] (119/154[===============================         ] (120/1[===============================         ] (121/1[===============================         ] (122/1[===============================         ] (123/15[================================        ] (124/15[================================        ] (125/15[================================        ] (126/15[================================        ] (127/154[=================================       ] (128/1[=================================       ] (129/1[=================================       ] (130/15[==================================      ] (131/15[==================================      ] (132/15[==================================      ] (133/15[==================================      ] (134/154[===================================     ] (135/1[===================================     ] (136/1[===================================     ] (137/1[===================================     ] (138/15[====================================    ] (139/15[====================================    ] (140/15[====================================    ] (141/15[====================================    ] (142/154[=====================================   ] (143/1[=====================================   ] (144/1[=====================================   ] (145/1[=====================================   ] (146/15[======================================  ] (147/15[======================================  ] (148/15[======================================  ] (149/15[======================================  ] (150/154[======================================= ] (151/1[======================================= ] (152/1[======================================= ] (153/154[========================================] (154/154]\n",
      "Processing ./pdf/11_Utilities_8_RENEWI PLC_2023.pdf...\n",
      "[                                        ] (0/69[                                        ] ( 1/69[=                                       ] ( 2/[=                                       ] ( 3/6[==                                      ] ( 4/6[==                                      ] ( 5/69[===                                     ] ( 6/6[====                                    ] ( 7/6[====                                    ] ( 8/69[=====                                   ] ( 9/[=====                                   ] (10/6[======                                  ] (11/6[======                                  ] (12/69[=======                                 ] (13/6[========                                ] (14/6[========                                ] (15/69[=========                               ] (16/[=========                               ] (17/6[==========                              ] (18/69[===========                             ] (19/[===========                             ] (20/6[============                            ] (21/6[============                            ] (22/69[=============                           ] (23/[=============                           ] (24/6[==============                          ] (25/69[===============                         ] (26/[===============                         ] (27/6[================                        ] (28/6[================                        ] (29/69[=================                       ] (30/[=================                       ] (31/6[==================                      ] (32/69[===================                     ] (33/[===================                     ] (34/6[====================                    ] (35/6[====================                    ] (36/69[=====================                   ] (37/6[======================                  ] (38/6[======================                  ] (39/69[=======================                 ] (40/[=======================                 ] (41/6[========================                ] (42/6[========================                ] (43/69[=========================               ] (44/6[==========================              ] (45/6[==========================              ] (46/69[===========================             ] (47/[===========================             ] (48/6[============================            ] (49/6[============================            ] (50/69[=============================           ] (51/6[==============================          ] (52/6[==============================          ] (53/69[===============================         ] (54/[===============================         ] (55/6[================================        ] (56/69[=================================       ] (57/[=================================       ] (58/6[==================================      ] (59/6[==================================      ] (60/69[===================================     ] (61/[===================================     ] (62/6[====================================    ] (63/69[=====================================   ] (64/[=====================================   ] (65/6[======================================  ] (66/6[======================================  ] (67/69[======================================= ] (68/6[========================================] (69/69]\n",
      "Processing ./pdf/1_Basic Materials_CRODA INTERNATIONAL PLC_2015.pdf...\n",
      "[                                        ] (0/44[                                        ] ( 1/44[=                                       ] ( 2/4[==                                      ] ( 3/44[===                                     ] ( 4/4[====                                    ] ( 5/44[=====                                   ] ( 6/4[======                                  ] ( 7/44[=======                                 ] ( 8/4[========                                ] ( 9/44[=========                               ] (10/4[==========                              ] (11/4[==========                              ] (12/44[===========                             ] (13/4[============                            ] (14/44[=============                           ] (15/4[==============                          ] (16/44[===============                         ] (17/4[================                        ] (18/44[=================                       ] (19/4[==================                      ] (20/44[===================                     ] (21/4[====================                    ] (22/4[====================                    ] (23/44[=====================                   ] (24/4[======================                  ] (25/44[=======================                 ] (26/4[========================                ] (27/44[=========================               ] (28/4[==========================              ] (29/44[===========================             ] (30/4[============================            ] (31/44[=============================           ] (32/4[==============================          ] (33/4[==============================          ] (34/44[===============================         ] (35/4[================================        ] (36/44[=================================       ] (37/4[==================================      ] (38/44[===================================     ] (39/4[====================================    ] (40/44[=====================================   ] (41/4[======================================  ] (42/44[======================================= ] (43/4[========================================] (44/44]\n",
      "Processing ./pdf/1_Basic Materials_EVRAZ PLC_2021.pdf...\n"
     ]
    },
    {
     "name": "stdout",
     "output_type": "stream",
     "text": [
      "[                                        ] (0/70[                                        ] ( 1/70[=                                       ] ( 2/[=                                       ] ( 3/7[==                                      ] ( 4/7[==                                      ] ( 5/70[===                                     ] ( 6/[====                                    ] ( 7/70[====                                    ] ( 8/70[=====                                   ] ( 9/[=====                                   ] (10/7[======                                  ] (11/7[======                                  ] (12/70[=======                                 ] (13/[========                                ] (14/70[========                                ] (15/70[=========                               ] (16/[=========                               ] (17/7[==========                              ] (18/7[==========                              ] (19/70[===========                             ] (20/[============                            ] (21/70[============                            ] (22/70[=============                           ] (23/[=============                           ] (24/7[==============                          ] (25/7[==============                          ] (26/70[===============                         ] (27/[================                        ] (28/70[================                        ] (29/70[=================                       ] (30/[=================                       ] (31/7[==================                      ] (32/7[==================                      ] (33/70[===================                     ] (34/[====================                    ] (35/70[====================                    ] (36/70[=====================                   ] (37/[=====================                   ] (38/7[======================                  ] (39/7[======================                  ] (40/70[=======================                 ] (41/[========================                ] (42/70[========================                ] (43/70[=========================               ] (44/[=========================               ] (45/7[==========================              ] (46/7[==========================              ] (47/70[===========================             ] (48/[============================            ] (49/70[============================            ] (50/70[=============================           ] (51/[=============================           ] (52/7[==============================          ] (53/7[==============================          ] (54/70[===============================         ] (55/[================================        ] (56/70[================================        ] (57/70[=================================       ] (58/[=================================       ] (59/7[==================================      ] (60/7[==================================      ] (61/70[===================================     ] (62/[====================================    ] (63/70[====================================    ] (64/70[=====================================   ] (65/[=====================================   ] (66/7[======================================  ] (67/7[======================================  ] (68/70[======================================= ] (69/[========================================] (70/70]\n",
      "Processing ./pdf/1_Basic Materials_SYNTHOMER PLC_2016.pdf...\n",
      "[                                        ] (0/60[                                        ] ( 1/60[=                                       ] ( 2/[==                                      ] ( 3/60[==                                      ] ( 4/60[===                                     ] ( 5/[====                                    ] ( 6/60[====                                    ] ( 7/60[=====                                   ] ( 8/[======                                  ] ( 9/60[======                                  ] (10/60[=======                                 ] (11/[========                                ] (12/60[========                                ] (13/60[=========                               ] (14/[==========                              ] (15/60[==========                              ] (16/60[===========                             ] (17/[============                            ] (18/60[============                            ] (19/60[=============                           ] (20/[==============                          ] (21/60[==============                          ] (22/60[===============                         ] (23/[================                        ] (24/60[================                        ] (25/60[=================                       ] (26/[==================                      ] (27/60[==================                      ] (28/60[===================                     ] (29/[====================                    ] (30/60[====================                    ] (31/60[=====================                   ] (32/[======================                  ] (33/60[======================                  ] (34/60[=======================                 ] (35/[========================                ] (36/60[========================                ] (37/60[=========================               ] (38/[==========================              ] (39/60[==========================              ] (40/60[===========================             ] (41/[============================            ] (42/60[============================            ] (43/60[=============================           ] (44/[==============================          ] (45/60[==============================          ] (46/60[===============================         ] (47/[================================        ] (48/60[================================        ] (49/60[=================================       ] (50/[==================================      ] (51/60[==================================      ] (52/60[===================================     ] (53/[====================================    ] (54/60[====================================    ] (55/60[=====================================   ] (56/[======================================  ] (57/60[======================================  ] (58/60[======================================= ] (59/[========================================] (60/60]\n",
      "Processing ./pdf/1_Basic Materials_SYNTHOMER PLC_2018.pdf...\n",
      "[                                        ] (0/60[                                        ] ( 1/60[=                                       ] ( 2/[==                                      ] ( 3/60[==                                      ] ( 4/60[===                                     ] ( 5/[====                                    ] ( 6/60[====                                    ] ( 7/60[=====                                   ] ( 8/[======                                  ] ( 9/60[======                                  ] (10/60[=======                                 ] (11/[========                                ] (12/60[========                                ] (13/60[=========                               ] (14/[==========                              ] (15/60[==========                              ] (16/60[===========                             ] (17/[============                            ] (18/60[============                            ] (19/60[=============                           ] (20/[==============                          ] (21/60[==============                          ] (22/60[===============                         ] (23/[================                        ] (24/60[================                        ] (25/60[=================                       ] (26/[==================                      ] (27/60[==================                      ] (28/60[===================                     ] (29/[====================                    ] (30/60[====================                    ] (31/60[=====================                   ] (32/[======================                  ] (33/60[======================                  ] (34/60[=======================                 ] (35/60[========================                ] (36/60[========================                ] (37/60[=========================               ] (38/[==========================              ] (39/60[==========================              ] (40/60[===========================             ] (41/[============================            ] (42/60[============================            ] (43/60[=============================           ] (44/[==============================          ] (45/60[==============================          ] (46/60[===============================         ] (47/[================================        ] (48/60[================================        ] (49/60[=================================       ] (50/[==================================      ] (51/60[==================================      ] (52/60[===================================     ] (53/[====================================    ] (54/60[====================================    ] (55/60[=====================================   ] (56/[======================================  ] (57/60[======================================  ] (58/60[======================================= ] (59/[========================================] (60/60]\n",
      "Processing ./pdf/2_Consumer Discretionary_BARRATT DEVELOPMENTS PLC_2021.pdf...\n",
      "[                                        ] (0/10[                                        ] (  1/10[                                        ] (  2/100[=                                       ] (  3/1[=                                       ] (  4/10[==                                      ] (  5/10[==                                      ] (  6/10[==                                      ] (  7/100[===                                     ] (  8/1[===                                     ] (  9/10[====                                    ] ( 10/10[====                                    ] ( 11/10[====                                    ] ( 12/100[=====                                   ] ( 13/1[=====                                   ] ( 14/10[======                                  ] ( 15/10[======                                  ] ( 16/10[======                                  ] ( 17/100[=======                                 ] ( 18/1[=======                                 ] ( 19/10[========                                ] ( 20/10[========                                ] ( 21/10[========                                ] ( 22/100[=========                               ] ( 23/1[=========                               ] ( 24/10[==========                              ] ( 25/10[==========                              ] ( 26/10[==========                              ] ( 27/100[===========                             ] ( 28/1[===========                             ] ( 29/10[============                            ] ( 30/10[============                            ] ( 31/10[============                            ] ( 32/100[=============                           ] ( 33/1[=============                           ] ( 34/10[==============                          ] ( 35/10[==============                          ] ( 36/10[==============                          ] ( 37/100[===============                         ] ( 38/1[===============                         ] ( 39/10[================                        ] ( 40/10[================                        ] ( 41/10[================                        ] ( 42/100[=================                       ] ( 43/1[=================                       ] ( 44/10[==================                      ] ( 45/10[==================                      ] ( 46/10[==================                      ] ( 47/100[===================                     ] ( 48/1[===================                     ] ( 49/10[====================                    ] ( 50/10[====================                    ] ( 51/10[====================                    ] ( 52/100[=====================                   ] ( 53/1[=====================                   ] ( 54/10[======================                  ] ( 55/10[======================                  ] ( 56/10[======================                  ] ( 57/100[=======================                 ] ( 58/1[=======================                 ] ( 59/10[========================                ] ( 60/10[========================                ] ( 61/10[========================                ] ( 62/100[=========================               ] ( 63/1[=========================               ] ( 64/10[==========================              ] ( 65/10[==========================              ] ( 66/10[==========================              ] ( 67/100[===========================             ] ( 68/1[===========================             ] ( 69/10[============================            ] ( 70/10[============================            ] ( 71/10[============================            ] ( 72/100[=============================           ] ( 73/1[=============================           ] ( 74/10[==============================          ] ( 75/10[==============================          ] ( 76/10[==============================          ] ( 77/100[===============================         ] ( 78/1[===============================         ] ( 79/10[================================        ] ( 80/10[================================        ] ( 81/10[================================        ] ( 82/100[=================================       ] ( 83/1[=================================       ] ( 84/10[==================================      ] ( 85/10[==================================      ] ( 86/10[==================================      ] ( 87/100[===================================     ] ( 88/1[===================================     ] ( 89/10[====================================    ] ( 90/10[====================================    ] ( 91/10[====================================    ] ( 92/100[=====================================   ] ( 93/1[=====================================   ] ( 94/10[======================================  ] ( 95/10[======================================  ] ( 96/10[======================================  ] ( 97/100[======================================= ] ( 98/1[======================================= ] ( 99/10[========================================] (100/100]\n",
      "Processing ./pdf/2_Consumer Discretionary_BERKELEY GROUP HOLDINGS (THE) PLC_2022.pdf...\n"
     ]
    },
    {
     "name": "stdout",
     "output_type": "stream",
     "text": [
      "[                                        ] (0/3[=                                       ] ( 1/3[==                                      ] ( 2/37[===                                     ] ( 3/3[====                                    ] ( 4/37[=====                                   ] ( 5/3[======                                  ] ( 6/37[=======                                 ] ( 7/3[========                                ] ( 8/37[=========                               ] ( 9/3[==========                              ] (10/37[===========                             ] (11/3[============                            ] (12/37=[==============                          ] (13/37[===============                         ] (14/3[================                        ] (15/37[=================                       ] (16/3[==================                      ] (17/37[===================                     ] (18/3[====================                    ] (19/37[=====================                   ] (20/3[======================                  ] (21/37[=======================                 ] (22/3[========================                ] (23/37[=========================               ] (24/3=[===========================             ] (25/3[============================            ] (26/37[=============================           ] (27/3[==============================          ] (28/37[===============================         ] (29/3[================================        ] (30/37[=================================       ] (31/3[==================================      ] (32/37[===================================     ] (33/3[====================================    ] (34/37[=====================================   ] (35/3[======================================  ] (36/37=[========================================] (37/37]\n",
      "Processing ./pdf/2_Consumer Discretionary_BURBERRY GROUP PLC_2020.pdf...\n",
      "[                                        ] (0/13[                                        ] (  1/13[                                        ] (  2/13[                                        ] (  3/138[=                                       ] (  4/1[=                                       ] (  5/138[=                                       ] (  6/13[==                                      ] (  7/13[==                                      ] (  8/13[==                                      ] (  9/13[==                                      ] ( 10/138[===                                     ] ( 11/1[===                                     ] ( 12/1[===                                     ] ( 13/13[====                                    ] ( 14/13[====                                    ] ( 15/13[====                                    ] ( 16/13[====                                    ] ( 17/138[=====                                   ] ( 18/1[=====                                   ] ( 19/138[=====                                   ] ( 20/13[======                                  ] ( 21/13[======                                  ] ( 22/13[======                                  ] ( 23/13[======                                  ] ( 24/138[=======                                 ] ( 25/1[=======                                 ] ( 26/1[=======                                 ] ( 27/13[========                                ] ( 28/13[========                                ] ( 29/13[========                                ] ( 30/13[========                                ] ( 31/138[=========                               ] ( 32/1[=========                               ] ( 33/138[=========                               ] ( 34/13[==========                              ] ( 35/13[==========                              ] ( 36/13[==========                              ] ( 37/138[===========                             ] ( 38/1[===========                             ] ( 39/138[===========                             ] ( 40/1[===========                             ] ( 41/13[============                            ] ( 42/13[============                            ] ( 43/13[============                            ] ( 44/138[=============                           ] ( 45/1[=============                           ] ( 46/1[=============                           ] ( 47/1[=============                           ] ( 48/13[==============                          ] ( 49/13[==============                          ] ( 50/13[==============                          ] ( 51/138[===============                         ] ( 52/1[===============                         ] ( 53/1[===============                         ] ( 54/1[===============                         ] ( 55/13[================                        ] ( 56/13[================                        ] ( 57/13[================                        ] ( 58/138[=================                       ] ( 59/138[=================                       ] ( 60/1[=================                       ] ( 61/138[=================                       ] ( 62/13[==================                      ] ( 63/13[==================                      ] ( 64/13[==================                      ] ( 65/138[===================                     ] ( 66/138[===================                     ] ( 67/1[===================                     ] ( 68/13[====================                    ] ( 69/13[====================                    ] ( 70/13[====================                    ] ( 71/13[====================                    ] ( 72/138[=====================                   ] ( 73/138[=====================                   ] ( 74/1[=====================                   ] ( 75/13[======================                  ] ( 76/13[======================                  ] ( 77/13[======================                  ] ( 78/13[======================                  ] ( 79/138[=======================                 ] ( 80/1[=======================                 ] ( 81/1[=======================                 ] ( 82/13[========================                ] ( 83/13[========================                ] ( 84/13[========================                ] ( 85/13[========================                ] ( 86/138[=========================               ] ( 87/138[=========================               ] ( 88/1[=========================               ] ( 89/13[==========================              ] ( 90/13[==========================              ] ( 91/13[==========================              ] ( 92/13[==========================              ] ( 93/138[===========================             ] ( 94/1[===========================             ] ( 95/138[===========================             ] ( 96/13[============================            ] ( 97/13[============================            ] ( 98/13[============================            ] ( 99/13[============================            ] (100/138[=============================           ] (101/138[=============================           ] (102/1[=============================           ] (103/13[==============================          ] (104/13[==============================          ] (105/13[==============================          ] (106/138[===============================         ] (107/138[===============================         ] (108/1[===============================         ] (109/138[===============================         ] (110/13[================================        ] (111/13[================================        ] (112/13[================================        ] (113/138[=================================       ] (114/1[=================================       ] (115/1[=================================       ] (116/1[=================================       ] (117/13[==================================      ] (118/13[==================================      ] (119/13[==================================      ] (120/138[===================================     ] (121/1[===================================     ] (122/1[===================================     ] (123/1[===================================     ] (124/13[====================================    ] (125/13[====================================    ] (126/13[====================================    ] (127/138[=====================================   ] (128/1[=====================================   ] (129/1[=====================================   ] (130/1[=====================================   ] (131/13[======================================  ] (132/13[======================================  ] (133/13[======================================  ] (134/138[======================================= ] (135/1[======================================= ] (136/1[======================================= ] (137/13[========================================] (138/138]\n",
      "Processing ./pdf/2_Consumer Discretionary_INTERCONTINENTAL HOTELS GROUP PLC_2019.pdf...\n"
     ]
    },
    {
     "name": "stdout",
     "output_type": "stream",
     "text": [
      "[                                        ] (0/45[                                        ] ( 1/45[=                                       ] ( 2/4[==                                      ] ( 3/45[===                                     ] ( 4/4[====                                    ] ( 5/45[=====                                   ] ( 6/4[======                                  ] ( 7/45[=======                                 ] ( 8/[========                                ] ( 9/45[========                                ] (10/45[=========                               ] (11/4[==========                              ] (12/45[===========                             ] (13/4[============                            ] (14/45[=============                           ] (15/4[==============                          ] (16/45[===============                         ] (17/[================                        ] (18/45[================                        ] (19/45[=================                       ] (20/4[==================                      ] (21/45[===================                     ] (22/4[====================                    ] (23/45[=====================                   ] (24/4[======================                  ] (25/45[=======================                 ] (26/[========================                ] (27/45[========================                ] (28/45[=========================               ] (29/4[==========================              ] (30/45[===========================             ] (31/4[============================            ] (32/45[=============================           ] (33/4[==============================          ] (34/45[===============================         ] (35/[================================        ] (36/45[================================        ] (37/45[=================================       ] (38/4[==================================      ] (39/45[===================================     ] (40/4[====================================    ] (41/45[=====================================   ] (42/4[======================================  ] (43/45[======================================= ] (44/[========================================] (45/45]\n",
      "Processing ./pdf/2_Consumer Discretionary_RELX PLC_2016.pdf...\n",
      "[                                        ] (0/81[                                        ] ( 1/8[                                        ] ( 2/81[=                                       ] ( 3/[=                                       ] ( 4/8[==                                      ] ( 5/8[==                                      ] ( 6/81[===                                     ] ( 7/[===                                     ] ( 8/8[====                                    ] ( 9/8[====                                    ] (10/81[=====                                   ] (11/[=====                                   ] (12/8[======                                  ] (13/8[======                                  ] (14/81[=======                                 ] (15/[=======                                 ] (16/8[========                                ] (17/8[========                                ] (18/81[=========                               ] (19/[=========                               ] (20/8[==========                              ] (21/8[==========                              ] (22/81[===========                             ] (23/[===========                             ] (24/8[============                            ] (25/8[============                            ] (26/81[=============                           ] (27/[=============                           ] (28/8[==============                          ] (29/8[==============                          ] (30/81[===============                         ] (31/[===============                         ] (32/8[================                        ] (33/8[================                        ] (34/81[=================                       ] (35/[=================                       ] (36/8[==================                      ] (37/8[==================                      ] (38/81[===================                     ] (39/[===================                     ] (40/8[====================                    ] (41/8[====================                    ] (42/81[=====================                   ] (43/81[=====================                   ] (44/8[======================                  ] (45/8[======================                  ] (46/81[=======================                 ] (47/[=======================                 ] (48/8[========================                ] (49/8[========================                ] (50/81[=========================               ] (51/[=========================               ] (52/8[==========================              ] (53/8[==========================              ] (54/81[===========================             ] (55/[===========================             ] (56/8[============================            ] (57/8[============================            ] (58/81[=============================           ] (59/[=============================           ] (60/8[==============================          ] (61/8[==============================          ] (62/81[===============================         ] (63/[===============================         ] (64/8[================================        ] (65/8[================================        ] (66/81[=================================       ] (67/81[=================================       ] (68/8[==================================      ] (69/8[==================================      ] (70/81[===================================     ] (71/81[===================================     ] (72/8[====================================    ] (73/8[====================================    ] (74/81[=====================================   ] (75/[=====================================   ] (76/8[======================================  ] (77/8[======================================  ] (78/81[======================================= ] (79/[======================================= ] (80/[========================================] (81/81]\n",
      "Processing ./pdf/2_Consumer Discretionary_RELX PLC_2017.pdf...\n",
      "[                                        ] (0/84[                                        ] ( 1/8[                                        ] ( 2/84[=                                       ] ( 3/[=                                       ] ( 4/8[==                                      ] ( 5/8[==                                      ] ( 6/84[===                                     ] ( 7/[===                                     ] ( 8/8[====                                    ] ( 9/8[====                                    ] (10/84[=====                                   ] (11/[=====                                   ] (12/8[======                                  ] (13/8[======                                  ] (14/84[=======                                 ] (15/[=======                                 ] (16/8[========                                ] (17/8[========                                ] (18/84[=========                               ] (19/[=========                               ] (20/[==========                              ] (21/84[==========                              ] (22/8[==========                              ] (23/84[===========                             ] (24/[===========                             ] (25/8[============                            ] (26/8[============                            ] (27/84[=============                           ] (28/[=============                           ] (29/8[==============                          ] (30/8[==============                          ] (31/84[===============                         ] (32/[===============                         ] (33/8[================                        ] (34/8[================                        ] (35/84[=================                       ] (36/[=================                       ] (37/8[==================                      ] (38/8[==================                      ] (39/84[===================                     ] (40/[===================                     ] (41/[====================                    ] (42/84[====================                    ] (43/8[====================                    ] (44/84[=====================                   ] (45/[=====================                   ] (46/8[======================                  ] (47/8[======================                  ] (48/84[=======================                 ] (49/[=======================                 ] (50/8[========================                ] (51/8[========================                ] (52/84[=========================               ] (53/[=========================               ] (54/8[==========================              ] (55/8[==========================              ] (56/84[===========================             ] (57/[===========================             ] (58/8[============================            ] (59/8[============================            ] (60/84[=============================           ] (61/[=============================           ] (62/[==============================          ] (63/84[==============================          ] (64/8[==============================          ] (65/84[===============================         ] (66/[===============================         ] (67/8[================================        ] (68/8[================================        ] (69/84[=================================       ] (70/[=================================       ] (71/8[==================================      ] (72/8[==================================      ] (73/84[===================================     ] (74/[===================================     ] (75/8[====================================    ] (76/8[====================================    ] (77/84[=====================================   ] (78/[=====================================   ] (79/8[======================================  ] (80/8[======================================  ] (81/84[======================================= ] (82/[======================================= ] (83/84[========================================] (84/84]\n",
      "Processing ./pdf/2_Consumer Discretionary_RELX PLC_2021.pdf...\n"
     ]
    },
    {
     "name": "stdout",
     "output_type": "stream",
     "text": [
      "[                                        ] (0/10[                                        ] (  1/10[                                        ] (  2/107[=                                       ] (  3/1[=                                       ] (  4/1[=                                       ] (  5/10[==                                      ] (  6/10[==                                      ] (  7/10[==                                      ] (  8/107[===                                     ] (  9/1[===                                     ] ( 10/10[====                                    ] ( 11/10[====                                    ] ( 12/10[====                                    ] ( 13/107[=====                                   ] ( 14/1[=====                                   ] ( 15/1[=====                                   ] ( 16/10[======                                  ] ( 17/10[======                                  ] ( 18/107[=======                                 ] ( 19/1[=======                                 ] ( 20/1[=======                                 ] ( 21/10[========                                ] ( 22/10[========                                ] ( 23/10[========                                ] ( 24/107[=========                               ] ( 25/1[=========                               ] ( 26/10[==========                              ] ( 27/10[==========                              ] ( 28/10[==========                              ] ( 29/107[===========                             ] ( 30/1[===========                             ] ( 31/1[===========                             ] ( 32/10[============                            ] ( 33/10[============                            ] ( 34/107[=============                           ] ( 35/1[=============                           ] ( 36/1[=============                           ] ( 37/10[==============                          ] ( 38/10[==============                          ] ( 39/10[==============                          ] ( 40/107[===============                         ] ( 41/1[===============                         ] ( 42/10[================                        ] ( 43/10[================                        ] ( 44/10[================                        ] ( 45/107[=================                       ] ( 46/1[=================                       ] ( 47/1[=================                       ] ( 48/10[==================                      ] ( 49/10[==================                      ] ( 50/107[===================                     ] ( 51/1[===================                     ] ( 52/1[===================                     ] ( 53/10[====================                    ] ( 54/10[====================                    ] ( 55/10[====================                    ] ( 56/107[=====================                   ] ( 57/1[=====================                   ] ( 58/10[======================                  ] ( 59/10[======================                  ] ( 60/10[======================                  ] ( 61/107[=======================                 ] ( 62/1[=======================                 ] ( 63/1[=======================                 ] ( 64/10[========================                ] ( 65/10[========================                ] ( 66/107[=========================               ] ( 67/1[=========================               ] ( 68/1[=========================               ] ( 69/10[==========================              ] ( 70/10[==========================              ] ( 71/10[==========================              ] ( 72/107[===========================             ] ( 73/1[===========================             ] ( 74/10[============================            ] ( 75/10[============================            ] ( 76/10[============================            ] ( 77/107[=============================           ] ( 78/1[=============================           ] ( 79/1[=============================           ] ( 80/10[==============================          ] ( 81/10[==============================          ] ( 82/107[===============================         ] ( 83/1[===============================         ] ( 84/1[===============================         ] ( 85/10[================================        ] ( 86/10[================================        ] ( 87/10[================================        ] ( 88/107[=================================       ] ( 89/1[=================================       ] ( 90/10[==================================      ] ( 91/10[==================================      ] ( 92/10[==================================      ] ( 93/107[===================================     ] ( 94/1[===================================     ] ( 95/1[===================================     ] ( 96/10[====================================    ] ( 97/10[====================================    ] ( 98/107[=====================================   ] ( 99/1[=====================================   ] (100/1[=====================================   ] (101/10[======================================  ] (102/10[======================================  ] (103/10[======================================  ] (104/107[======================================= ] (105/1[======================================= ] (106/10[========================================] (107/107]\n"
     ]
    }
   ],
   "source": [
    "for pdf in tqdm(new_pdfs):\n",
    "    md_text = pymupdf4llm.to_markdown(PDF_FOLDER+pdf)\n",
    "    file_name=file2vecfile(pdf, extension='.pdf').replace('.txt', '.md')\n",
    "    pathlib.Path(MD_FOLDER+file_name).write_bytes(md_text.encode())"
   ]
  },
  {
   "cell_type": "markdown",
   "id": "34ed43f9",
   "metadata": {},
   "source": [
    "## New vectors vs. old vectors"
   ]
  },
  {
   "cell_type": "code",
   "execution_count": null,
   "id": "3944c3e9",
   "metadata": {
    "ExecuteTime": {
     "start_time": "2025-04-01T12:50:37.057Z"
    }
   },
   "outputs": [
    {
     "data": {
      "application/vnd.jupyter.widget-view+json": {
       "model_id": "482faf303d194e3e9b8d165033c9740d",
       "version_major": 2,
       "version_minor": 0
      },
      "text/plain": [
       "  0%|          | 0/17 [00:00<?, ?it/s]"
      ]
     },
     "metadata": {},
     "output_type": "display_data"
    },
    {
     "data": {
      "application/vnd.jupyter.widget-view+json": {
       "model_id": "",
       "version_major": 2,
       "version_minor": 0
      },
      "text/plain": [
       "  0%|          | 0/6 [00:00<?, ?it/s]"
      ]
     },
     "metadata": {},
     "output_type": "display_data"
    },
    {
     "name": "stdout",
     "output_type": "stream",
     "text": [
      "10_Telecommunications_BT GROUP PLC_2016.pdf)cos=0.931\n"
     ]
    },
    {
     "data": {
      "application/vnd.jupyter.widget-view+json": {
       "model_id": "",
       "version_major": 2,
       "version_minor": 0
      },
      "text/plain": [
       "  0%|          | 0/6 [00:00<?, ?it/s]"
      ]
     },
     "metadata": {},
     "output_type": "display_data"
    },
    {
     "name": "stdout",
     "output_type": "stream",
     "text": [
      "10_Telecommunications_SPIRENT COMMUNICATIONS PLC_2023.pdf)cos=0.928\n"
     ]
    },
    {
     "data": {
      "application/vnd.jupyter.widget-view+json": {
       "model_id": "41082e2611014f118817df7baa1efe98",
       "version_major": 2,
       "version_minor": 0
      },
      "text/plain": [
       "  0%|          | 0/6 [00:00<?, ?it/s]"
      ]
     },
     "metadata": {},
     "output_type": "display_data"
    }
   ],
   "source": [
    "for i_pdf, pdf in enumerate(tqdm(new_pdfs)):\n",
    "    # read the md file\n",
    "    with open(MD_FOLDER+file_name, 'r') as f:\n",
    "        markdown_string = f.read()\n",
    "    # embed the text\n",
    "    md_vec=jina4lote(first_text_cleaner(markdown_string))\n",
    "    \n",
    "    # go to the old rtf file\n",
    "    rtf=pdf.replace('.pdf', '.rtf')\n",
    "    # get the embedding\n",
    "    vecfile=file2vecfile(rtf)\n",
    "    rtf_vec=np.genfromtxt(TARGET_FOLDER+vecfile)\n",
    "    # compare the embeddings\n",
    "    cos_sim=float(util.cos_sim(rtf_vec, md_vec))\n",
    "    print(f'{pdf:})cos={cos_sim:.3f}')\n",
    "    \n",
    "    # save the md vec\n",
    "    np.savetxt(MD_FOLDER+'md_'+vecfile, md_vec)"
   ]
  },
  {
   "cell_type": "code",
   "execution_count": 60,
   "id": "89af2f91",
   "metadata": {
    "ExecuteTime": {
     "end_time": "2025-04-02T07:31:05.080651Z",
     "start_time": "2025-04-02T07:31:05.073854Z"
    }
   },
   "outputs": [
    {
     "name": "stdout",
     "output_type": "stream",
     "text": [
      "gotcha!\n"
     ]
    }
   ],
   "source": [
    "print('gotcha!')"
   ]
  },
  {
   "cell_type": "code",
   "execution_count": 63,
   "id": "72b32662",
   "metadata": {
    "ExecuteTime": {
     "end_time": "2025-04-02T07:32:53.742815Z",
     "start_time": "2025-04-02T07:32:53.555844Z"
    }
   },
   "outputs": [
    {
     "data": {
      "application/vnd.jupyter.widget-view+json": {
       "model_id": "279b0fdddeaf423ea167353279ede958",
       "version_major": 2,
       "version_minor": 0
      },
      "text/plain": [
       "  0%|          | 0/17 [00:00<?, ?it/s]"
      ]
     },
     "metadata": {},
     "output_type": "display_data"
    },
    {
     "name": "stdout",
     "output_type": "stream",
     "text": [
      "10_Telecommunications_BT GROUP PLC_2016.pdf)cos=0.931\n",
      "10_Telecommunications_SPIRENT COMMUNICATIONS PLC_2023.pdf)cos=0.928\n",
      "10_Telecommunications_VODAFONE GROUP PLC_2018.pdf)cos=0.918\n",
      "10_Telecommunications_VODAFONE GROUP PLC_2023.pdf)cos=0.906\n",
      "11_Utilities_3_SEVERN TRENT PLC_2022.pdf)cos=0.932\n",
      "11_Utilities_8_RENEWI PLC_2023.pdf)cos=0.910\n",
      "1_Basic Materials_CRODA INTERNATIONAL PLC_2015.pdf)cos=0.939\n",
      "1_Basic Materials_EVRAZ PLC_2021.pdf)cos=0.885\n",
      "1_Basic Materials_SYNTHOMER PLC_2016.pdf)cos=0.907\n",
      "1_Basic Materials_SYNTHOMER PLC_2018.pdf)cos=0.903\n",
      "2_Consumer Discretionary_BARRATT DEVELOPMENTS PLC_2021.pdf)cos=0.920\n",
      "2_Consumer Discretionary_BERKELEY GROUP HOLDINGS (THE) PLC_2022.pdf)cos=0.911\n",
      "2_Consumer Discretionary_BURBERRY GROUP PLC_2020.pdf)cos=0.900\n",
      "2_Consumer Discretionary_INTERCONTINENTAL HOTELS GROUP PLC_2019.pdf)cos=0.898\n",
      "2_Consumer Discretionary_RELX PLC_2016.pdf)cos=0.987\n",
      "2_Consumer Discretionary_RELX PLC_2017.pdf)cos=0.989\n",
      "2_Consumer Discretionary_RELX PLC_2021.pdf)cos=0.999\n"
     ]
    }
   ],
   "source": [
    "for i_pdf, pdf in enumerate(tqdm(new_pdfs)):\n",
    "    # go to the old rtf file\n",
    "    rtf=pdf.replace('.pdf', '.rtf')\n",
    "    # get the embedding\n",
    "    vecfile=file2vecfile(rtf)\n",
    "    rtf_vec=np.genfromtxt(TARGET_FOLDER+vecfile)\n",
    "    # read the md vec\n",
    "    md_vec=np.genfromtxt(MD_FOLDER+'md_'+vecfile)\n",
    "    # compare the embeddings\n",
    "    cos_sim=float(util.cos_sim(rtf_vec, md_vec))\n",
    "    print(f'{pdf:})cos={cos_sim:.3f}')"
   ]
  },
  {
   "cell_type": "code",
   "execution_count": null,
   "id": "0f609616",
   "metadata": {},
   "outputs": [],
   "source": []
  }
 ],
 "metadata": {
  "kernelspec": {
   "display_name": "Python 3 (ipykernel)",
   "language": "python",
   "name": "python3"
  },
  "language_info": {
   "codemirror_mode": {
    "name": "ipython",
    "version": 3
   },
   "file_extension": ".py",
   "mimetype": "text/x-python",
   "name": "python",
   "nbconvert_exporter": "python",
   "pygments_lexer": "ipython3",
   "version": "3.8.10"
  },
  "notify_time": "5",
  "toc": {
   "base_numbering": 1,
   "nav_menu": {},
   "number_sections": true,
   "sideBar": true,
   "skip_h1_title": false,
   "title_cell": "Table of Contents",
   "title_sidebar": "Contents",
   "toc_cell": false,
   "toc_position": {
    "height": "calc(100% - 180px)",
    "left": "10px",
    "top": "150px",
    "width": "369.594px"
   },
   "toc_section_display": true,
   "toc_window_display": true
  }
 },
 "nbformat": 4,
 "nbformat_minor": 5
}
