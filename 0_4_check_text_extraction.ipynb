{
 "cells": [
  {
   "cell_type": "markdown",
   "id": "994c3896",
   "metadata": {},
   "source": [
    "# Intro"
   ]
  },
  {
   "cell_type": "markdown",
   "id": "11fcf7a1",
   "metadata": {},
   "source": [
    "## Standard modules"
   ]
  },
  {
   "cell_type": "code",
   "execution_count": 1,
   "id": "e132c58e",
   "metadata": {
    "ExecuteTime": {
     "end_time": "2025-04-02T07:34:18.589008Z",
     "start_time": "2025-04-02T07:34:18.316491Z"
    }
   },
   "outputs": [],
   "source": [
    "import os, sys, pickle\n",
    "import pathlib\n",
    "import numpy as np\n",
    "from tqdm.auto import tqdm, trange"
   ]
  },
  {
   "cell_type": "code",
   "execution_count": 2,
   "id": "4baba151",
   "metadata": {
    "ExecuteTime": {
     "end_time": "2025-04-02T07:34:22.323468Z",
     "start_time": "2025-04-02T07:34:18.593293Z"
    }
   },
   "outputs": [],
   "source": [
    "from sentence_transformers import util"
   ]
  },
  {
   "cell_type": "markdown",
   "id": "ba1e4ab6",
   "metadata": {},
   "source": [
    "## My modules"
   ]
  },
  {
   "cell_type": "code",
   "execution_count": 3,
   "id": "5f281b29",
   "metadata": {
    "ExecuteTime": {
     "end_time": "2025-04-02T07:34:22.344949Z",
     "start_time": "2025-04-02T07:34:22.327140Z"
    }
   },
   "outputs": [],
   "source": [
    "from toolbox.updater import time_is_now"
   ]
  },
  {
   "cell_type": "code",
   "execution_count": 4,
   "id": "32b46ede",
   "metadata": {
    "ExecuteTime": {
     "end_time": "2025-04-02T07:34:22.464174Z",
     "start_time": "2025-04-02T07:34:22.348341Z"
    }
   },
   "outputs": [],
   "source": [
    "from file2text import file2text"
   ]
  },
  {
   "cell_type": "code",
   "execution_count": 5,
   "id": "09943a95",
   "metadata": {
    "ExecuteTime": {
     "end_time": "2025-04-02T07:34:22.566872Z",
     "start_time": "2025-04-02T07:34:22.470733Z"
    }
   },
   "outputs": [],
   "source": [
    "from first_rough_cleaning import first_text_cleaner"
   ]
  },
  {
   "cell_type": "code",
   "execution_count": 6,
   "id": "73ed86d1",
   "metadata": {
    "ExecuteTime": {
     "end_time": "2025-04-02T07:34:27.542959Z",
     "start_time": "2025-04-02T07:34:22.569814Z"
    }
   },
   "outputs": [
    {
     "name": "stderr",
     "output_type": "stream",
     "text": [
      "/home/sarawalk/sdgs_py38/lib/python3.8/site-packages/torch/cuda/__init__.py:118: UserWarning: CUDA initialization: The NVIDIA driver on your system is too old (found version 10020). Please update your GPU driver by downloading and installing a new version from the URL: http://www.nvidia.com/Download/index.aspx Alternatively, go to: https://pytorch.org to install a PyTorch version that has been compiled with your version of the CUDA driver. (Triggered internally at ../c10/cuda/CUDAFunctions.cpp:108.)\n",
      "  return torch._C._cuda_getDeviceCount() > 0\n"
     ]
    }
   ],
   "source": [
    "from embed_me_II_second_wipe import file2vecfile"
   ]
  },
  {
   "cell_type": "code",
   "execution_count": 7,
   "id": "b48521dc",
   "metadata": {
    "ExecuteTime": {
     "end_time": "2025-04-02T07:34:27.552032Z",
     "start_time": "2025-04-02T07:34:27.546762Z"
    }
   },
   "outputs": [],
   "source": [
    "from jina4lote import jina4lote"
   ]
  },
  {
   "cell_type": "markdown",
   "id": "73b477c3",
   "metadata": {},
   "source": [
    "## Alternatives"
   ]
  },
  {
   "cell_type": "code",
   "execution_count": 8,
   "id": "59b15fbd",
   "metadata": {
    "ExecuteTime": {
     "end_time": "2025-04-02T07:34:27.899981Z",
     "start_time": "2025-04-02T07:34:27.555419Z"
    }
   },
   "outputs": [],
   "source": [
    "import pymupdf4llm"
   ]
  },
  {
   "cell_type": "markdown",
   "id": "c46f44b2",
   "metadata": {},
   "source": [
    "## Parameters"
   ]
  },
  {
   "cell_type": "code",
   "execution_count": 9,
   "id": "40ad9231",
   "metadata": {
    "ExecuteTime": {
     "end_time": "2025-04-02T07:34:27.908042Z",
     "start_time": "2025-04-02T07:34:27.903089Z"
    }
   },
   "outputs": [],
   "source": [
    "N_RUNS=10"
   ]
  },
  {
   "cell_type": "markdown",
   "id": "76e305cd",
   "metadata": {},
   "source": [
    "# Subset to test"
   ]
  },
  {
   "cell_type": "code",
   "execution_count": 10,
   "id": "89597af3",
   "metadata": {
    "ExecuteTime": {
     "end_time": "2025-04-02T07:34:27.986356Z",
     "start_time": "2025-04-02T07:34:27.910927Z"
    }
   },
   "outputs": [],
   "source": [
    "RTF_FOLDER='./rtf/'"
   ]
  },
  {
   "cell_type": "code",
   "execution_count": 11,
   "id": "91a5875e",
   "metadata": {
    "ExecuteTime": {
     "end_time": "2025-04-02T07:34:28.066799Z",
     "start_time": "2025-04-02T07:34:27.989564Z"
    }
   },
   "outputs": [],
   "source": [
    "TARGET_FOLDER='./NewProcessedData/'"
   ]
  },
  {
   "cell_type": "code",
   "execution_count": 12,
   "id": "4c2f412b",
   "metadata": {
    "ExecuteTime": {
     "end_time": "2025-04-02T07:34:28.159723Z",
     "start_time": "2025-04-02T07:34:28.070858Z"
    }
   },
   "outputs": [],
   "source": [
    "rtf_files=[file for file in os.listdir(RTF_FOLDER) if file.endswith('.rtf')]"
   ]
  },
  {
   "cell_type": "code",
   "execution_count": 13,
   "id": "730f0a07",
   "metadata": {
    "ExecuteTime": {
     "end_time": "2025-04-02T07:34:28.274996Z",
     "start_time": "2025-04-02T07:34:28.163257Z"
    }
   },
   "outputs": [],
   "source": [
    "rtf_files.sort()"
   ]
  },
  {
   "cell_type": "code",
   "execution_count": 14,
   "id": "61b17788",
   "metadata": {
    "ExecuteTime": {
     "end_time": "2025-04-02T07:34:28.358490Z",
     "start_time": "2025-04-02T07:34:28.284086Z"
    }
   },
   "outputs": [],
   "source": [
    "N=len(rtf_files)"
   ]
  },
  {
   "cell_type": "code",
   "execution_count": 15,
   "id": "9c1cf153",
   "metadata": {
    "ExecuteTime": {
     "end_time": "2025-04-02T07:34:28.450483Z",
     "start_time": "2025-04-02T07:34:28.361806Z"
    }
   },
   "outputs": [],
   "source": [
    "selection_01=np.random.choice(rtf_files, size=int(N/100))"
   ]
  },
  {
   "cell_type": "code",
   "execution_count": 16,
   "id": "3f2d3b4b",
   "metadata": {
    "ExecuteTime": {
     "end_time": "2025-04-02T07:34:28.541478Z",
     "start_time": "2025-04-02T07:34:28.453500Z"
    }
   },
   "outputs": [],
   "source": [
    "selection_01.sort()"
   ]
  },
  {
   "cell_type": "code",
   "execution_count": 17,
   "id": "b00f7730",
   "metadata": {
    "ExecuteTime": {
     "end_time": "2025-04-02T07:34:28.644336Z",
     "start_time": "2025-04-02T07:34:28.544614Z"
    }
   },
   "outputs": [
    {
     "data": {
      "text/plain": [
       "array(['10_Telecommunications_FILTRONIC PLC_2020.rtf',\n",
       "       '10_Telecommunications_VODAFONE GROUP PLC_2021.rtf',\n",
       "       '11_Utilities_1_NATIONAL GRID PLC_2022.rtf',\n",
       "       '1_Basic Materials_ENDEAVOUR MINING PLC_2022.rtf',\n",
       "       '8_Real Estate_TRITAX BIG BOX REIT PLC_2020.rtf'], dtype='<U67')"
      ]
     },
     "execution_count": 17,
     "metadata": {},
     "output_type": "execute_result"
    }
   ],
   "source": [
    "selection_01"
   ]
  },
  {
   "cell_type": "markdown",
   "id": "28194416",
   "metadata": {
    "heading_collapsed": true
   },
   "source": [
    "## Get both the text and the vector"
   ]
  },
  {
   "cell_type": "code",
   "execution_count": 18,
   "id": "c166e874",
   "metadata": {
    "ExecuteTime": {
     "end_time": "2025-03-31T16:27:58.301192Z",
     "start_time": "2025-03-31T16:27:33.118850Z"
    },
    "hidden": true
   },
   "outputs": [
    {
     "data": {
      "application/vnd.jupyter.widget-view+json": {
       "model_id": "fdbfaa8062b341a3b20b73d414b6b35c",
       "version_major": 2,
       "version_minor": 0
      },
      "text/plain": [
       "  0%|          | 0/5 [00:00<?, ?it/s]"
      ]
     },
     "metadata": {},
     "output_type": "display_data"
    }
   ],
   "source": [
    "texts_01={}\n",
    "for rtf in tqdm(selection_01):\n",
    "    file_name=rtf.replace('.rtf', '')\n",
    "    texts_01[file_name]={}\n",
    "    long_text=file2text(RTF_FOLDER+rtf)\n",
    "    texts_01[file_name]['text']=long_text\n",
    "    vecfile=file2vecfile(rtf)\n",
    "    texts_01[file_name]['vec']=np.genfromtxt(TARGET_FOLDER+vecfile)"
   ]
  },
  {
   "cell_type": "code",
   "execution_count": 19,
   "id": "726a6d39",
   "metadata": {
    "ExecuteTime": {
     "end_time": "2025-03-31T16:28:13.012845Z",
     "start_time": "2025-03-31T16:28:13.003786Z"
    },
    "hidden": true
   },
   "outputs": [],
   "source": [
    "with open('./Check/text_and_vector_sample_01.pickle', 'wb') as f:\n",
    "    pickle.dump(texts_01, f)"
   ]
  },
  {
   "cell_type": "markdown",
   "id": "e93b0d82",
   "metadata": {},
   "source": [
    "# What is the sense of cosine similarity?"
   ]
  },
  {
   "cell_type": "code",
   "execution_count": 18,
   "id": "3b89da8f",
   "metadata": {
    "ExecuteTime": {
     "end_time": "2025-04-02T07:34:32.185638Z",
     "start_time": "2025-04-02T07:34:32.177964Z"
    }
   },
   "outputs": [],
   "source": [
    "with open('./Check/text_and_vector_sample_01.pickle', 'rb') as f:\n",
    "    texts_01=pickle.load(f)"
   ]
  },
  {
   "cell_type": "code",
   "execution_count": 20,
   "id": "bb416fb5",
   "metadata": {
    "ExecuteTime": {
     "end_time": "2025-04-02T07:34:57.313326Z",
     "start_time": "2025-04-02T07:34:57.308015Z"
    }
   },
   "outputs": [],
   "source": [
    "keys=list(texts_01.keys())"
   ]
  },
  {
   "cell_type": "markdown",
   "id": "d964b783",
   "metadata": {},
   "source": [
    "## Function"
   ]
  },
  {
   "cell_type": "code",
   "execution_count": 19,
   "id": "08545296",
   "metadata": {
    "ExecuteTime": {
     "end_time": "2025-04-02T07:34:46.972926Z",
     "start_time": "2025-04-02T07:34:46.963239Z"
    }
   },
   "outputs": [],
   "source": [
    "def sentence_remover(text, fraction):\n",
    "    assert fraction<1 and fraction>0\n",
    "    _sentences=[sentence.strip() for sentence in text.split('.')]\n",
    "    death_list=np.random.choice(len(_sentences), size=int(fraction*len(_sentences)))\n",
    "    _survivors=[sentence for i, sentence in enumerate(_sentences) if i not in death_list]\n",
    "    return '. '.join(_survivors)"
   ]
  },
  {
   "cell_type": "markdown",
   "id": "2514e053",
   "metadata": {},
   "source": [
    "## Remove 1% of the sentences"
   ]
  },
  {
   "cell_type": "markdown",
   "id": "1b29eecb",
   "metadata": {},
   "source": [
    "### Run!"
   ]
  },
  {
   "cell_type": "code",
   "execution_count": null,
   "id": "05c361ec",
   "metadata": {
    "ExecuteTime": {
     "start_time": "2025-03-31T16:28:28.939Z"
    }
   },
   "outputs": [
    {
     "data": {
      "application/vnd.jupyter.widget-view+json": {
       "model_id": "df765078e44f41b2a3aa35464ba12c86",
       "version_major": 2,
       "version_minor": 0
      },
      "text/plain": [
       "  0%|          | 0/5 [00:00<?, ?it/s]"
      ]
     },
     "metadata": {},
     "output_type": "display_data"
    },
    {
     "data": {
      "application/vnd.jupyter.widget-view+json": {
       "model_id": "",
       "version_major": 2,
       "version_minor": 0
      },
      "text/plain": [
       "  0%|          | 0/10 [00:00<?, ?it/s]"
      ]
     },
     "metadata": {},
     "output_type": "display_data"
    },
    {
     "data": {
      "application/vnd.jupyter.widget-view+json": {
       "model_id": "",
       "version_major": 2,
       "version_minor": 0
      },
      "text/plain": [
       "  0%|          | 0/3 [00:00<?, ?it/s]"
      ]
     },
     "metadata": {},
     "output_type": "display_data"
    },
    {
     "data": {
      "application/vnd.jupyter.widget-view+json": {
       "model_id": "",
       "version_major": 2,
       "version_minor": 0
      },
      "text/plain": [
       "  0%|          | 0/3 [00:00<?, ?it/s]"
      ]
     },
     "metadata": {},
     "output_type": "display_data"
    },
    {
     "data": {
      "application/vnd.jupyter.widget-view+json": {
       "model_id": "",
       "version_major": 2,
       "version_minor": 0
      },
      "text/plain": [
       "  0%|          | 0/3 [00:00<?, ?it/s]"
      ]
     },
     "metadata": {},
     "output_type": "display_data"
    },
    {
     "data": {
      "application/vnd.jupyter.widget-view+json": {
       "model_id": "",
       "version_major": 2,
       "version_minor": 0
      },
      "text/plain": [
       "  0%|          | 0/3 [00:00<?, ?it/s]"
      ]
     },
     "metadata": {},
     "output_type": "display_data"
    },
    {
     "data": {
      "application/vnd.jupyter.widget-view+json": {
       "model_id": "",
       "version_major": 2,
       "version_minor": 0
      },
      "text/plain": [
       "  0%|          | 0/3 [00:00<?, ?it/s]"
      ]
     },
     "metadata": {},
     "output_type": "display_data"
    },
    {
     "data": {
      "application/vnd.jupyter.widget-view+json": {
       "model_id": "",
       "version_major": 2,
       "version_minor": 0
      },
      "text/plain": [
       "  0%|          | 0/3 [00:00<?, ?it/s]"
      ]
     },
     "metadata": {},
     "output_type": "display_data"
    },
    {
     "data": {
      "application/vnd.jupyter.widget-view+json": {
       "model_id": "",
       "version_major": 2,
       "version_minor": 0
      },
      "text/plain": [
       "  0%|          | 0/3 [00:00<?, ?it/s]"
      ]
     },
     "metadata": {},
     "output_type": "display_data"
    },
    {
     "data": {
      "application/vnd.jupyter.widget-view+json": {
       "model_id": "",
       "version_major": 2,
       "version_minor": 0
      },
      "text/plain": [
       "  0%|          | 0/3 [00:00<?, ?it/s]"
      ]
     },
     "metadata": {},
     "output_type": "display_data"
    },
    {
     "data": {
      "application/vnd.jupyter.widget-view+json": {
       "model_id": "",
       "version_major": 2,
       "version_minor": 0
      },
      "text/plain": [
       "  0%|          | 0/3 [00:00<?, ?it/s]"
      ]
     },
     "metadata": {},
     "output_type": "display_data"
    },
    {
     "data": {
      "application/vnd.jupyter.widget-view+json": {
       "model_id": "",
       "version_major": 2,
       "version_minor": 0
      },
      "text/plain": [
       "  0%|          | 0/3 [00:00<?, ?it/s]"
      ]
     },
     "metadata": {},
     "output_type": "display_data"
    },
    {
     "data": {
      "application/vnd.jupyter.widget-view+json": {
       "model_id": "80f4be52aa8b4a6cb9058e782bbb6f96",
       "version_major": 2,
       "version_minor": 0
      },
      "text/plain": [
       "  0%|          | 0/10 [00:00<?, ?it/s]"
      ]
     },
     "metadata": {},
     "output_type": "display_data"
    },
    {
     "data": {
      "application/vnd.jupyter.widget-view+json": {
       "model_id": "",
       "version_major": 2,
       "version_minor": 0
      },
      "text/plain": [
       "  0%|          | 0/5 [00:00<?, ?it/s]"
      ]
     },
     "metadata": {},
     "output_type": "display_data"
    },
    {
     "data": {
      "application/vnd.jupyter.widget-view+json": {
       "model_id": "e10f6dcb32c140e79b5530f394819fd8",
       "version_major": 2,
       "version_minor": 0
      },
      "text/plain": [
       "  0%|          | 0/5 [00:00<?, ?it/s]"
      ]
     },
     "metadata": {},
     "output_type": "display_data"
    }
   ],
   "source": [
    "for key in tqdm(keys):\n",
    "    _text=texts_01[key]['text']\n",
    "    _vec=texts_01[key]['vec']\n",
    "    coss=np.zeros(N_RUNS)\n",
    "    for _ in trange(N_RUNS, leave=False):\n",
    "        _new_text=sentence_remover(_text, .01)\n",
    "        _new_vec=jina4lote(_new_text)\n",
    "        coss[_]=float(util.cos_sim(_vec, _new_vec))\n",
    "    texts_01[key]['cos_sample_001']=coss"
   ]
  },
  {
   "cell_type": "code",
   "execution_count": 24,
   "id": "1de673a2",
   "metadata": {
    "ExecuteTime": {
     "end_time": "2025-04-01T07:05:14.570612Z",
     "start_time": "2025-04-01T07:05:14.560993Z"
    }
   },
   "outputs": [
    {
     "name": "stdout",
     "output_type": "stream",
     "text": [
      "10_Telecommunications_VODAFONE GROUP PLC_2021 cos_mean=1.000, cos_std=1.2e-05\n",
      "1_Basic Materials_SYNTHOMER PLC_2021 cos_mean=0.997, cos_std=4.3e-05\n",
      "3_Consumer Staples_Imperial Brands PLC_2016 cos_mean=1.000, cos_std=7.6e-05\n",
      "8_Real Estate_RIGHTMOVE PLC_2016 cos_mean=1.000, cos_std=0.0e+00\n",
      "8_Real Estate_RIGHTMOVE PLC_2019 cos_mean=1.000, cos_std=1.5e-05\n"
     ]
    }
   ],
   "source": [
    "for key in keys:\n",
    "    cos_mean=np.mean(texts_01[key]['cos_sample'])\n",
    "    cos_std=np.std(texts_01[key]['cos_sample'])\n",
    "    print(f'{key:} cos_mean={cos_mean:.3f}, cos_std={cos_std:.1e}')"
   ]
  },
  {
   "cell_type": "markdown",
   "id": "666c8e84",
   "metadata": {},
   "source": [
    "O.O"
   ]
  },
  {
   "cell_type": "markdown",
   "id": "4eadb505",
   "metadata": {
    "heading_collapsed": true
   },
   "source": [
    "### Save"
   ]
  },
  {
   "cell_type": "code",
   "execution_count": 27,
   "id": "b956c01d",
   "metadata": {
    "ExecuteTime": {
     "end_time": "2025-04-01T07:17:48.220939Z",
     "start_time": "2025-04-01T07:17:48.214190Z"
    },
    "hidden": true
   },
   "outputs": [],
   "source": [
    "with open('./Check/text_and_vector_sample_01.pickle', 'wb') as f:\n",
    "    pickle.dump(texts_01, f)"
   ]
  },
  {
   "cell_type": "markdown",
   "id": "b2f198a2",
   "metadata": {},
   "source": [
    "## Remove 10% of the sentences"
   ]
  },
  {
   "cell_type": "markdown",
   "id": "ef375649",
   "metadata": {},
   "source": [
    "### Run!"
   ]
  },
  {
   "cell_type": "code",
   "execution_count": 21,
   "id": "f30dd466",
   "metadata": {
    "ExecuteTime": {
     "end_time": "2025-04-02T13:48:02.452541Z",
     "start_time": "2025-04-02T07:35:03.680501Z"
    }
   },
   "outputs": [
    {
     "name": "stdout",
     "output_type": "stream",
     "text": [
      "[2025-04-02 09:35:03]\tstarting...\n"
     ]
    },
    {
     "data": {
      "application/vnd.jupyter.widget-view+json": {
       "model_id": "",
       "version_major": 2,
       "version_minor": 0
      },
      "text/plain": [
       "  0%|          | 0/5 [00:00<?, ?it/s]"
      ]
     },
     "metadata": {},
     "output_type": "display_data"
    },
    {
     "name": "stdout",
     "output_type": "stream",
     "text": [
      "[2025-04-02 09:35:03]\t10_Telecommunications_VODAFONE GROUP PLC_2021\n"
     ]
    },
    {
     "data": {
      "application/vnd.jupyter.widget-view+json": {
       "model_id": "",
       "version_major": 2,
       "version_minor": 0
      },
      "text/plain": [
       "  0%|          | 0/10 [00:00<?, ?it/s]"
      ]
     },
     "metadata": {},
     "output_type": "display_data"
    },
    {
     "data": {
      "application/vnd.jupyter.widget-view+json": {
       "model_id": "",
       "version_major": 2,
       "version_minor": 0
      },
      "text/plain": [
       "  0%|          | 0/3 [00:00<?, ?it/s]"
      ]
     },
     "metadata": {},
     "output_type": "display_data"
    },
    {
     "data": {
      "application/vnd.jupyter.widget-view+json": {
       "model_id": "",
       "version_major": 2,
       "version_minor": 0
      },
      "text/plain": [
       "  0%|          | 0/3 [00:00<?, ?it/s]"
      ]
     },
     "metadata": {},
     "output_type": "display_data"
    },
    {
     "data": {
      "application/vnd.jupyter.widget-view+json": {
       "model_id": "",
       "version_major": 2,
       "version_minor": 0
      },
      "text/plain": [
       "  0%|          | 0/3 [00:00<?, ?it/s]"
      ]
     },
     "metadata": {},
     "output_type": "display_data"
    },
    {
     "data": {
      "application/vnd.jupyter.widget-view+json": {
       "model_id": "",
       "version_major": 2,
       "version_minor": 0
      },
      "text/plain": [
       "  0%|          | 0/3 [00:00<?, ?it/s]"
      ]
     },
     "metadata": {},
     "output_type": "display_data"
    },
    {
     "data": {
      "application/vnd.jupyter.widget-view+json": {
       "model_id": "",
       "version_major": 2,
       "version_minor": 0
      },
      "text/plain": [
       "  0%|          | 0/3 [00:00<?, ?it/s]"
      ]
     },
     "metadata": {},
     "output_type": "display_data"
    },
    {
     "data": {
      "application/vnd.jupyter.widget-view+json": {
       "model_id": "",
       "version_major": 2,
       "version_minor": 0
      },
      "text/plain": [
       "  0%|          | 0/3 [00:00<?, ?it/s]"
      ]
     },
     "metadata": {},
     "output_type": "display_data"
    },
    {
     "data": {
      "application/vnd.jupyter.widget-view+json": {
       "model_id": "",
       "version_major": 2,
       "version_minor": 0
      },
      "text/plain": [
       "  0%|          | 0/3 [00:00<?, ?it/s]"
      ]
     },
     "metadata": {},
     "output_type": "display_data"
    },
    {
     "data": {
      "application/vnd.jupyter.widget-view+json": {
       "model_id": "",
       "version_major": 2,
       "version_minor": 0
      },
      "text/plain": [
       "  0%|          | 0/3 [00:00<?, ?it/s]"
      ]
     },
     "metadata": {},
     "output_type": "display_data"
    },
    {
     "data": {
      "application/vnd.jupyter.widget-view+json": {
       "model_id": "",
       "version_major": 2,
       "version_minor": 0
      },
      "text/plain": [
       "  0%|          | 0/3 [00:00<?, ?it/s]"
      ]
     },
     "metadata": {},
     "output_type": "display_data"
    },
    {
     "data": {
      "application/vnd.jupyter.widget-view+json": {
       "model_id": "",
       "version_major": 2,
       "version_minor": 0
      },
      "text/plain": [
       "  0%|          | 0/3 [00:00<?, ?it/s]"
      ]
     },
     "metadata": {},
     "output_type": "display_data"
    },
    {
     "name": "stdout",
     "output_type": "stream",
     "text": [
      "[2025-04-02 11:41:19]\t1_Basic Materials_SYNTHOMER PLC_2021\n"
     ]
    },
    {
     "data": {
      "application/vnd.jupyter.widget-view+json": {
       "model_id": "",
       "version_major": 2,
       "version_minor": 0
      },
      "text/plain": [
       "  0%|          | 0/10 [00:00<?, ?it/s]"
      ]
     },
     "metadata": {},
     "output_type": "display_data"
    },
    {
     "data": {
      "application/vnd.jupyter.widget-view+json": {
       "model_id": "",
       "version_major": 2,
       "version_minor": 0
      },
      "text/plain": [
       "  0%|          | 0/4 [00:00<?, ?it/s]"
      ]
     },
     "metadata": {},
     "output_type": "display_data"
    },
    {
     "data": {
      "application/vnd.jupyter.widget-view+json": {
       "model_id": "",
       "version_major": 2,
       "version_minor": 0
      },
      "text/plain": [
       "  0%|          | 0/4 [00:00<?, ?it/s]"
      ]
     },
     "metadata": {},
     "output_type": "display_data"
    },
    {
     "data": {
      "application/vnd.jupyter.widget-view+json": {
       "model_id": "",
       "version_major": 2,
       "version_minor": 0
      },
      "text/plain": [
       "  0%|          | 0/4 [00:00<?, ?it/s]"
      ]
     },
     "metadata": {},
     "output_type": "display_data"
    },
    {
     "data": {
      "application/vnd.jupyter.widget-view+json": {
       "model_id": "",
       "version_major": 2,
       "version_minor": 0
      },
      "text/plain": [
       "  0%|          | 0/4 [00:00<?, ?it/s]"
      ]
     },
     "metadata": {},
     "output_type": "display_data"
    },
    {
     "data": {
      "application/vnd.jupyter.widget-view+json": {
       "model_id": "",
       "version_major": 2,
       "version_minor": 0
      },
      "text/plain": [
       "  0%|          | 0/4 [00:00<?, ?it/s]"
      ]
     },
     "metadata": {},
     "output_type": "display_data"
    },
    {
     "data": {
      "application/vnd.jupyter.widget-view+json": {
       "model_id": "",
       "version_major": 2,
       "version_minor": 0
      },
      "text/plain": [
       "  0%|          | 0/4 [00:00<?, ?it/s]"
      ]
     },
     "metadata": {},
     "output_type": "display_data"
    },
    {
     "data": {
      "application/vnd.jupyter.widget-view+json": {
       "model_id": "",
       "version_major": 2,
       "version_minor": 0
      },
      "text/plain": [
       "  0%|          | 0/4 [00:00<?, ?it/s]"
      ]
     },
     "metadata": {},
     "output_type": "display_data"
    },
    {
     "data": {
      "application/vnd.jupyter.widget-view+json": {
       "model_id": "",
       "version_major": 2,
       "version_minor": 0
      },
      "text/plain": [
       "  0%|          | 0/4 [00:00<?, ?it/s]"
      ]
     },
     "metadata": {},
     "output_type": "display_data"
    },
    {
     "data": {
      "application/vnd.jupyter.widget-view+json": {
       "model_id": "",
       "version_major": 2,
       "version_minor": 0
      },
      "text/plain": [
       "  0%|          | 0/4 [00:00<?, ?it/s]"
      ]
     },
     "metadata": {},
     "output_type": "display_data"
    },
    {
     "data": {
      "application/vnd.jupyter.widget-view+json": {
       "model_id": "",
       "version_major": 2,
       "version_minor": 0
      },
      "text/plain": [
       "  0%|          | 0/4 [00:00<?, ?it/s]"
      ]
     },
     "metadata": {},
     "output_type": "display_data"
    },
    {
     "name": "stdout",
     "output_type": "stream",
     "text": [
      "[2025-04-02 14:56:54]\t3_Consumer Staples_Imperial Brands PLC_2016\n"
     ]
    },
    {
     "data": {
      "application/vnd.jupyter.widget-view+json": {
       "model_id": "",
       "version_major": 2,
       "version_minor": 0
      },
      "text/plain": [
       "  0%|          | 0/10 [00:00<?, ?it/s]"
      ]
     },
     "metadata": {},
     "output_type": "display_data"
    },
    {
     "data": {
      "application/vnd.jupyter.widget-view+json": {
       "model_id": "",
       "version_major": 2,
       "version_minor": 0
      },
      "text/plain": [
       "  0%|          | 0/1 [00:00<?, ?it/s]"
      ]
     },
     "metadata": {},
     "output_type": "display_data"
    },
    {
     "data": {
      "application/vnd.jupyter.widget-view+json": {
       "model_id": "",
       "version_major": 2,
       "version_minor": 0
      },
      "text/plain": [
       "  0%|          | 0/1 [00:00<?, ?it/s]"
      ]
     },
     "metadata": {},
     "output_type": "display_data"
    },
    {
     "data": {
      "application/vnd.jupyter.widget-view+json": {
       "model_id": "",
       "version_major": 2,
       "version_minor": 0
      },
      "text/plain": [
       "  0%|          | 0/1 [00:00<?, ?it/s]"
      ]
     },
     "metadata": {},
     "output_type": "display_data"
    },
    {
     "data": {
      "application/vnd.jupyter.widget-view+json": {
       "model_id": "",
       "version_major": 2,
       "version_minor": 0
      },
      "text/plain": [
       "  0%|          | 0/1 [00:00<?, ?it/s]"
      ]
     },
     "metadata": {},
     "output_type": "display_data"
    },
    {
     "data": {
      "application/vnd.jupyter.widget-view+json": {
       "model_id": "",
       "version_major": 2,
       "version_minor": 0
      },
      "text/plain": [
       "  0%|          | 0/1 [00:00<?, ?it/s]"
      ]
     },
     "metadata": {},
     "output_type": "display_data"
    },
    {
     "data": {
      "application/vnd.jupyter.widget-view+json": {
       "model_id": "",
       "version_major": 2,
       "version_minor": 0
      },
      "text/plain": [
       "  0%|          | 0/1 [00:00<?, ?it/s]"
      ]
     },
     "metadata": {},
     "output_type": "display_data"
    },
    {
     "data": {
      "application/vnd.jupyter.widget-view+json": {
       "model_id": "",
       "version_major": 2,
       "version_minor": 0
      },
      "text/plain": [
       "  0%|          | 0/1 [00:00<?, ?it/s]"
      ]
     },
     "metadata": {},
     "output_type": "display_data"
    },
    {
     "data": {
      "application/vnd.jupyter.widget-view+json": {
       "model_id": "",
       "version_major": 2,
       "version_minor": 0
      },
      "text/plain": [
       "  0%|          | 0/1 [00:00<?, ?it/s]"
      ]
     },
     "metadata": {},
     "output_type": "display_data"
    },
    {
     "data": {
      "application/vnd.jupyter.widget-view+json": {
       "model_id": "",
       "version_major": 2,
       "version_minor": 0
      },
      "text/plain": [
       "  0%|          | 0/1 [00:00<?, ?it/s]"
      ]
     },
     "metadata": {},
     "output_type": "display_data"
    },
    {
     "data": {
      "application/vnd.jupyter.widget-view+json": {
       "model_id": "",
       "version_major": 2,
       "version_minor": 0
      },
      "text/plain": [
       "  0%|          | 0/1 [00:00<?, ?it/s]"
      ]
     },
     "metadata": {},
     "output_type": "display_data"
    },
    {
     "name": "stdout",
     "output_type": "stream",
     "text": [
      "[2025-04-02 15:11:09]\t8_Real Estate_RIGHTMOVE PLC_2016\n"
     ]
    },
    {
     "data": {
      "application/vnd.jupyter.widget-view+json": {
       "model_id": "",
       "version_major": 2,
       "version_minor": 0
      },
      "text/plain": [
       "  0%|          | 0/10 [00:00<?, ?it/s]"
      ]
     },
     "metadata": {},
     "output_type": "display_data"
    },
    {
     "data": {
      "application/vnd.jupyter.widget-view+json": {
       "model_id": "",
       "version_major": 2,
       "version_minor": 0
      },
      "text/plain": [
       "  0%|          | 0/1 [00:00<?, ?it/s]"
      ]
     },
     "metadata": {},
     "output_type": "display_data"
    },
    {
     "data": {
      "application/vnd.jupyter.widget-view+json": {
       "model_id": "",
       "version_major": 2,
       "version_minor": 0
      },
      "text/plain": [
       "  0%|          | 0/1 [00:00<?, ?it/s]"
      ]
     },
     "metadata": {},
     "output_type": "display_data"
    },
    {
     "data": {
      "application/vnd.jupyter.widget-view+json": {
       "model_id": "",
       "version_major": 2,
       "version_minor": 0
      },
      "text/plain": [
       "  0%|          | 0/1 [00:00<?, ?it/s]"
      ]
     },
     "metadata": {},
     "output_type": "display_data"
    },
    {
     "data": {
      "application/vnd.jupyter.widget-view+json": {
       "model_id": "",
       "version_major": 2,
       "version_minor": 0
      },
      "text/plain": [
       "  0%|          | 0/1 [00:00<?, ?it/s]"
      ]
     },
     "metadata": {},
     "output_type": "display_data"
    },
    {
     "data": {
      "application/vnd.jupyter.widget-view+json": {
       "model_id": "",
       "version_major": 2,
       "version_minor": 0
      },
      "text/plain": [
       "  0%|          | 0/1 [00:00<?, ?it/s]"
      ]
     },
     "metadata": {},
     "output_type": "display_data"
    },
    {
     "data": {
      "application/vnd.jupyter.widget-view+json": {
       "model_id": "",
       "version_major": 2,
       "version_minor": 0
      },
      "text/plain": [
       "  0%|          | 0/1 [00:00<?, ?it/s]"
      ]
     },
     "metadata": {},
     "output_type": "display_data"
    },
    {
     "data": {
      "application/vnd.jupyter.widget-view+json": {
       "model_id": "",
       "version_major": 2,
       "version_minor": 0
      },
      "text/plain": [
       "  0%|          | 0/1 [00:00<?, ?it/s]"
      ]
     },
     "metadata": {},
     "output_type": "display_data"
    },
    {
     "data": {
      "application/vnd.jupyter.widget-view+json": {
       "model_id": "",
       "version_major": 2,
       "version_minor": 0
      },
      "text/plain": [
       "  0%|          | 0/1 [00:00<?, ?it/s]"
      ]
     },
     "metadata": {},
     "output_type": "display_data"
    },
    {
     "data": {
      "application/vnd.jupyter.widget-view+json": {
       "model_id": "",
       "version_major": 2,
       "version_minor": 0
      },
      "text/plain": [
       "  0%|          | 0/1 [00:00<?, ?it/s]"
      ]
     },
     "metadata": {},
     "output_type": "display_data"
    },
    {
     "data": {
      "application/vnd.jupyter.widget-view+json": {
       "model_id": "",
       "version_major": 2,
       "version_minor": 0
      },
      "text/plain": [
       "  0%|          | 0/1 [00:00<?, ?it/s]"
      ]
     },
     "metadata": {},
     "output_type": "display_data"
    },
    {
     "name": "stdout",
     "output_type": "stream",
     "text": [
      "[2025-04-02 15:16:57]\t8_Real Estate_RIGHTMOVE PLC_2019\n"
     ]
    },
    {
     "data": {
      "application/vnd.jupyter.widget-view+json": {
       "model_id": "",
       "version_major": 2,
       "version_minor": 0
      },
      "text/plain": [
       "  0%|          | 0/10 [00:00<?, ?it/s]"
      ]
     },
     "metadata": {},
     "output_type": "display_data"
    },
    {
     "data": {
      "application/vnd.jupyter.widget-view+json": {
       "model_id": "",
       "version_major": 2,
       "version_minor": 0
      },
      "text/plain": [
       "  0%|          | 0/1 [00:00<?, ?it/s]"
      ]
     },
     "metadata": {},
     "output_type": "display_data"
    },
    {
     "data": {
      "application/vnd.jupyter.widget-view+json": {
       "model_id": "",
       "version_major": 2,
       "version_minor": 0
      },
      "text/plain": [
       "  0%|          | 0/1 [00:00<?, ?it/s]"
      ]
     },
     "metadata": {},
     "output_type": "display_data"
    },
    {
     "data": {
      "application/vnd.jupyter.widget-view+json": {
       "model_id": "",
       "version_major": 2,
       "version_minor": 0
      },
      "text/plain": [
       "  0%|          | 0/1 [00:00<?, ?it/s]"
      ]
     },
     "metadata": {},
     "output_type": "display_data"
    },
    {
     "data": {
      "application/vnd.jupyter.widget-view+json": {
       "model_id": "",
       "version_major": 2,
       "version_minor": 0
      },
      "text/plain": [
       "  0%|          | 0/1 [00:00<?, ?it/s]"
      ]
     },
     "metadata": {},
     "output_type": "display_data"
    },
    {
     "data": {
      "application/vnd.jupyter.widget-view+json": {
       "model_id": "",
       "version_major": 2,
       "version_minor": 0
      },
      "text/plain": [
       "  0%|          | 0/1 [00:00<?, ?it/s]"
      ]
     },
     "metadata": {},
     "output_type": "display_data"
    },
    {
     "data": {
      "application/vnd.jupyter.widget-view+json": {
       "model_id": "",
       "version_major": 2,
       "version_minor": 0
      },
      "text/plain": [
       "  0%|          | 0/1 [00:00<?, ?it/s]"
      ]
     },
     "metadata": {},
     "output_type": "display_data"
    },
    {
     "data": {
      "application/vnd.jupyter.widget-view+json": {
       "model_id": "",
       "version_major": 2,
       "version_minor": 0
      },
      "text/plain": [
       "  0%|          | 0/1 [00:00<?, ?it/s]"
      ]
     },
     "metadata": {},
     "output_type": "display_data"
    },
    {
     "data": {
      "application/vnd.jupyter.widget-view+json": {
       "model_id": "",
       "version_major": 2,
       "version_minor": 0
      },
      "text/plain": [
       "  0%|          | 0/1 [00:00<?, ?it/s]"
      ]
     },
     "metadata": {},
     "output_type": "display_data"
    },
    {
     "data": {
      "application/vnd.jupyter.widget-view+json": {
       "model_id": "",
       "version_major": 2,
       "version_minor": 0
      },
      "text/plain": [
       "  0%|          | 0/1 [00:00<?, ?it/s]"
      ]
     },
     "metadata": {},
     "output_type": "display_data"
    },
    {
     "data": {
      "application/vnd.jupyter.widget-view+json": {
       "model_id": "",
       "version_major": 2,
       "version_minor": 0
      },
      "text/plain": [
       "  0%|          | 0/1 [00:00<?, ?it/s]"
      ]
     },
     "metadata": {},
     "output_type": "display_data"
    }
   ],
   "source": [
    "print(time_is_now()+'\\tstarting...')\n",
    "for key in tqdm(keys, leave=False):\n",
    "    print(time_is_now()+f'\\t{key:}')\n",
    "    _text=texts_01[key]['text']\n",
    "    _vec=texts_01[key]['vec']\n",
    "    coss=np.zeros(N_RUNS)\n",
    "    for _ in trange(N_RUNS, leave=False):\n",
    "        _new_text=sentence_remover(_text, .1)\n",
    "        _new_vec=jina4lote(_new_text)\n",
    "        coss[_]=float(util.cos_sim(_vec, _new_vec))\n",
    "    texts_01[key]['cos_sample_010']=coss"
   ]
  },
  {
   "cell_type": "code",
   "execution_count": 24,
   "id": "4162c922",
   "metadata": {
    "ExecuteTime": {
     "end_time": "2025-04-02T14:30:58.903728Z",
     "start_time": "2025-04-02T14:30:58.893697Z"
    }
   },
   "outputs": [
    {
     "name": "stdout",
     "output_type": "stream",
     "text": [
      "10_Telecommunications_VODAFONE GROUP PLC_2021 cos_mean=1.000, cos_std=4.6e-05\n",
      "1_Basic Materials_SYNTHOMER PLC_2021 cos_mean=0.997, cos_std=8.2e-05\n",
      "3_Consumer Staples_Imperial Brands PLC_2016 cos_mean=0.999, cos_std=8.1e-04\n",
      "8_Real Estate_RIGHTMOVE PLC_2016 cos_mean=0.999, cos_std=2.6e-04\n",
      "8_Real Estate_RIGHTMOVE PLC_2019 cos_mean=1.000, cos_std=9.3e-05\n"
     ]
    }
   ],
   "source": [
    "for key in keys:\n",
    "    cos_mean=np.mean(texts_01[key]['cos_sample_010'])\n",
    "    cos_std=np.std(texts_01[key]['cos_sample_010'])\n",
    "    print(f'{key:} cos_mean={cos_mean:.3f}, cos_std={cos_std:.1e}')"
   ]
  },
  {
   "cell_type": "markdown",
   "id": "a9e00d4c",
   "metadata": {},
   "source": [
    "O.O"
   ]
  },
  {
   "cell_type": "code",
   "execution_count": 23,
   "id": "57f39432",
   "metadata": {
    "ExecuteTime": {
     "end_time": "2025-04-02T13:48:02.543672Z",
     "start_time": "2025-04-02T13:48:02.468511Z"
    }
   },
   "outputs": [
    {
     "name": "stdout",
     "output_type": "stream",
     "text": [
      "Done!\n"
     ]
    }
   ],
   "source": [
    "print('Done!')"
   ]
  },
  {
   "cell_type": "code",
   "execution_count": null,
   "id": "7a2b1037",
   "metadata": {},
   "outputs": [],
   "source": []
  }
 ],
 "metadata": {
  "kernelspec": {
   "display_name": "Python 3 (ipykernel)",
   "language": "python",
   "name": "python3"
  },
  "language_info": {
   "codemirror_mode": {
    "name": "ipython",
    "version": 3
   },
   "file_extension": ".py",
   "mimetype": "text/x-python",
   "name": "python",
   "nbconvert_exporter": "python",
   "pygments_lexer": "ipython3",
   "version": "3.8.10"
  },
  "toc": {
   "base_numbering": 1,
   "nav_menu": {},
   "number_sections": true,
   "sideBar": true,
   "skip_h1_title": false,
   "title_cell": "Table of Contents",
   "title_sidebar": "Contents",
   "toc_cell": false,
   "toc_position": {
    "height": "calc(100% - 180px)",
    "left": "10px",
    "top": "150px",
    "width": "288px"
   },
   "toc_section_display": true,
   "toc_window_display": true
  }
 },
 "nbformat": 4,
 "nbformat_minor": 5
}
