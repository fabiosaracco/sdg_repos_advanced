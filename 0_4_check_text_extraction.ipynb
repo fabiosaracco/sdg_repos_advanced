{
 "cells": [
  {
   "cell_type": "markdown",
   "id": "9f048744",
   "metadata": {},
   "source": [
    "# Intro"
   ]
  },
  {
   "cell_type": "markdown",
   "id": "24b40846",
   "metadata": {},
   "source": [
    "## Standard modules"
   ]
  },
  {
   "cell_type": "code",
   "execution_count": 1,
   "id": "faad725b",
   "metadata": {
    "ExecuteTime": {
     "end_time": "2025-04-17T14:35:17.331489Z",
     "start_time": "2025-04-17T14:35:17.043094Z"
    }
   },
   "outputs": [],
   "source": [
    "import os, sys, pickle\n",
    "import pathlib\n",
    "import numpy as np\n",
    "from tqdm.auto import tqdm, trange"
   ]
  },
  {
   "cell_type": "code",
   "execution_count": 2,
   "id": "dbd7cecf",
   "metadata": {
    "ExecuteTime": {
     "end_time": "2025-04-17T14:35:20.998535Z",
     "start_time": "2025-04-17T14:35:17.334854Z"
    }
   },
   "outputs": [],
   "source": [
    "from sentence_transformers import util"
   ]
  },
  {
   "cell_type": "markdown",
   "id": "acbbca8b",
   "metadata": {},
   "source": [
    "## My modules"
   ]
  },
  {
   "cell_type": "code",
   "execution_count": 3,
   "id": "a08fa5d3",
   "metadata": {
    "ExecuteTime": {
     "end_time": "2025-04-17T14:35:21.018015Z",
     "start_time": "2025-04-17T14:35:21.001944Z"
    }
   },
   "outputs": [],
   "source": [
    "from toolbox.updater import time_is_now"
   ]
  },
  {
   "cell_type": "code",
   "execution_count": 4,
   "id": "03db1c27",
   "metadata": {
    "ExecuteTime": {
     "end_time": "2025-04-17T14:35:21.128720Z",
     "start_time": "2025-04-17T14:35:21.020805Z"
    }
   },
   "outputs": [],
   "source": [
    "from toolbox.email_sender import email_sender"
   ]
  },
  {
   "cell_type": "code",
   "execution_count": 5,
   "id": "5385446b",
   "metadata": {
    "ExecuteTime": {
     "end_time": "2025-04-17T14:35:21.210264Z",
     "start_time": "2025-04-17T14:35:21.133502Z"
    }
   },
   "outputs": [],
   "source": [
    "from file2text import file2text"
   ]
  },
  {
   "cell_type": "code",
   "execution_count": 6,
   "id": "ab1e10b8",
   "metadata": {
    "ExecuteTime": {
     "end_time": "2025-04-17T14:35:21.306084Z",
     "start_time": "2025-04-17T14:35:21.213177Z"
    }
   },
   "outputs": [],
   "source": [
    "from first_rough_cleaning import first_text_cleaner"
   ]
  },
  {
   "cell_type": "code",
   "execution_count": 7,
   "id": "bfbde3f9",
   "metadata": {
    "ExecuteTime": {
     "end_time": "2025-04-17T14:35:26.831183Z",
     "start_time": "2025-04-17T14:35:21.309001Z"
    }
   },
   "outputs": [
    {
     "name": "stderr",
     "output_type": "stream",
     "text": [
      "/home/sarawalk/sdgs_py38/lib/python3.8/site-packages/torch/cuda/__init__.py:118: UserWarning: CUDA initialization: The NVIDIA driver on your system is too old (found version 10020). Please update your GPU driver by downloading and installing a new version from the URL: http://www.nvidia.com/Download/index.aspx Alternatively, go to: https://pytorch.org to install a PyTorch version that has been compiled with your version of the CUDA driver. (Triggered internally at ../c10/cuda/CUDAFunctions.cpp:108.)\n",
      "  return torch._C._cuda_getDeviceCount() > 0\n"
     ]
    }
   ],
   "source": [
    "from embed_me_II_second_wipe import file2vecfile"
   ]
  },
  {
   "cell_type": "code",
   "execution_count": 8,
   "id": "219412c4",
   "metadata": {
    "ExecuteTime": {
     "end_time": "2025-04-17T14:35:26.839157Z",
     "start_time": "2025-04-17T14:35:26.834472Z"
    }
   },
   "outputs": [],
   "source": [
    "from jina4lote import jina4lote"
   ]
  },
  {
   "cell_type": "markdown",
   "id": "f448a915",
   "metadata": {},
   "source": [
    "## Alternatives"
   ]
  },
  {
   "cell_type": "code",
   "execution_count": 9,
   "id": "17e96f5b",
   "metadata": {
    "ExecuteTime": {
     "end_time": "2025-04-17T14:35:27.176678Z",
     "start_time": "2025-04-17T14:35:26.842197Z"
    }
   },
   "outputs": [],
   "source": [
    "import pymupdf4llm"
   ]
  },
  {
   "cell_type": "markdown",
   "id": "8740d6ea",
   "metadata": {},
   "source": [
    "## Parameters"
   ]
  },
  {
   "cell_type": "code",
   "execution_count": 10,
   "id": "2ce45af5",
   "metadata": {
    "ExecuteTime": {
     "end_time": "2025-04-17T14:35:27.185223Z",
     "start_time": "2025-04-17T14:35:27.180002Z"
    }
   },
   "outputs": [],
   "source": [
    "N_RUNS=10"
   ]
  },
  {
   "cell_type": "markdown",
   "id": "b1628a0f",
   "metadata": {},
   "source": [
    "# Subset to test"
   ]
  },
  {
   "cell_type": "code",
   "execution_count": 11,
   "id": "78b5b4d2",
   "metadata": {
    "ExecuteTime": {
     "end_time": "2025-04-17T14:35:27.264880Z",
     "start_time": "2025-04-17T14:35:27.192047Z"
    }
   },
   "outputs": [],
   "source": [
    "RTF_FOLDER='./rtf/'"
   ]
  },
  {
   "cell_type": "code",
   "execution_count": 12,
   "id": "ec892e86",
   "metadata": {
    "ExecuteTime": {
     "end_time": "2025-04-17T14:35:27.337587Z",
     "start_time": "2025-04-17T14:35:27.268756Z"
    }
   },
   "outputs": [],
   "source": [
    "TARGET_FOLDER='./NewProcessedData/'"
   ]
  },
  {
   "cell_type": "code",
   "execution_count": 13,
   "id": "2df3d248",
   "metadata": {
    "ExecuteTime": {
     "end_time": "2025-04-17T14:35:27.449812Z",
     "start_time": "2025-04-17T14:35:27.341496Z"
    }
   },
   "outputs": [],
   "source": [
    "rtf_files=[file for file in os.listdir(RTF_FOLDER) if file.endswith('.rtf')]"
   ]
  },
  {
   "cell_type": "code",
   "execution_count": 14,
   "id": "b4d1d8f5",
   "metadata": {
    "ExecuteTime": {
     "end_time": "2025-04-17T14:35:27.529459Z",
     "start_time": "2025-04-17T14:35:27.453313Z"
    }
   },
   "outputs": [],
   "source": [
    "rtf_files.sort()"
   ]
  },
  {
   "cell_type": "code",
   "execution_count": 15,
   "id": "0ac7be65",
   "metadata": {
    "ExecuteTime": {
     "end_time": "2025-04-17T14:35:27.612571Z",
     "start_time": "2025-04-17T14:35:27.533119Z"
    }
   },
   "outputs": [],
   "source": [
    "N=len(rtf_files)"
   ]
  },
  {
   "cell_type": "code",
   "execution_count": 16,
   "id": "38b14c8d",
   "metadata": {
    "ExecuteTime": {
     "end_time": "2025-04-17T14:35:27.696510Z",
     "start_time": "2025-04-17T14:35:27.616174Z"
    }
   },
   "outputs": [],
   "source": [
    "selection_01=np.random.choice(rtf_files, size=int(N/100))"
   ]
  },
  {
   "cell_type": "code",
   "execution_count": 17,
   "id": "90b9725a",
   "metadata": {
    "ExecuteTime": {
     "end_time": "2025-04-17T14:35:27.778989Z",
     "start_time": "2025-04-17T14:35:27.699992Z"
    }
   },
   "outputs": [],
   "source": [
    "selection_01.sort()"
   ]
  },
  {
   "cell_type": "code",
   "execution_count": 18,
   "id": "bee5e691",
   "metadata": {
    "ExecuteTime": {
     "end_time": "2025-04-17T14:35:27.874996Z",
     "start_time": "2025-04-17T14:35:27.782456Z"
    }
   },
   "outputs": [
    {
     "data": {
      "text/plain": [
       "array(['1_Basic Materials_RIO TINTO PLC_2023.rtf',\n",
       "       '2_Consumer Discretionary_BERKELEY GROUP HOLDINGS (THE) PLC_2016.rtf',\n",
       "       '3_Consumer Staples_Associated British Foods PLC_2017.rtf',\n",
       "       '3_Consumer Staples_Reckitt Benckiser Group PLC_2015.rtf',\n",
       "       '6_Health Care_Smith & Nephew PLC_2021.rtf'], dtype='<U67')"
      ]
     },
     "execution_count": 18,
     "metadata": {},
     "output_type": "execute_result"
    }
   ],
   "source": [
    "selection_01"
   ]
  },
  {
   "cell_type": "markdown",
   "id": "d6cc87e6",
   "metadata": {
    "heading_collapsed": true
   },
   "source": [
    "## Get both the text and the vector"
   ]
  },
  {
   "cell_type": "code",
   "execution_count": 18,
   "id": "dbce02b1",
   "metadata": {
    "ExecuteTime": {
     "end_time": "2025-03-31T16:27:58.301192Z",
     "start_time": "2025-03-31T16:27:33.118850Z"
    },
    "hidden": true
   },
   "outputs": [
    {
     "data": {
      "application/vnd.jupyter.widget-view+json": {
       "model_id": "fdbfaa8062b341a3b20b73d414b6b35c",
       "version_major": 2,
       "version_minor": 0
      },
      "text/plain": [
       "  0%|          | 0/5 [00:00<?, ?it/s]"
      ]
     },
     "metadata": {},
     "output_type": "display_data"
    }
   ],
   "source": [
    "texts_01={}\n",
    "for rtf in tqdm(selection_01):\n",
    "    file_name=rtf.replace('.rtf', '')\n",
    "    texts_01[file_name]={}\n",
    "    long_text=file2text(RTF_FOLDER+rtf)\n",
    "    texts_01[file_name]['text']=long_text\n",
    "    vecfile=file2vecfile(rtf)\n",
    "    texts_01[file_name]['vec']=np.genfromtxt(TARGET_FOLDER+vecfile)"
   ]
  },
  {
   "cell_type": "code",
   "execution_count": 19,
   "id": "679303e7",
   "metadata": {
    "ExecuteTime": {
     "end_time": "2025-03-31T16:28:13.012845Z",
     "start_time": "2025-03-31T16:28:13.003786Z"
    },
    "hidden": true
   },
   "outputs": [],
   "source": [
    "with open('./Check/text_and_vector_sample_01.pickle', 'wb') as f:\n",
    "    pickle.dump(texts_01, f)"
   ]
  },
  {
   "cell_type": "markdown",
   "id": "f878ad6b",
   "metadata": {},
   "source": [
    "# What is the sense of cosine similarity?"
   ]
  },
  {
   "cell_type": "code",
   "execution_count": 18,
   "id": "d0043af1",
   "metadata": {
    "ExecuteTime": {
     "end_time": "2025-04-02T07:34:32.185638Z",
     "start_time": "2025-04-02T07:34:32.177964Z"
    }
   },
   "outputs": [],
   "source": [
    "with open('./Check/text_and_vector_sample_01.pickle', 'rb') as f:\n",
    "    texts_01=pickle.load(f)"
   ]
  },
  {
   "cell_type": "code",
   "execution_count": 20,
   "id": "a95838ee",
   "metadata": {
    "ExecuteTime": {
     "end_time": "2025-04-02T07:34:57.313326Z",
     "start_time": "2025-04-02T07:34:57.308015Z"
    }
   },
   "outputs": [],
   "source": [
    "keys=list(texts_01.keys())"
   ]
  },
  {
   "cell_type": "markdown",
   "id": "643ce7fb",
   "metadata": {},
   "source": [
    "## Function"
   ]
  },
  {
   "cell_type": "code",
   "execution_count": 19,
   "id": "4e6998b6",
   "metadata": {
    "ExecuteTime": {
     "end_time": "2025-04-17T14:35:43.034804Z",
     "start_time": "2025-04-17T14:35:43.027342Z"
    }
   },
   "outputs": [],
   "source": [
    "def sentence_remover(text, fraction):\n",
    "    assert fraction<1 and fraction>0\n",
    "    _sentences=[sentence.strip() for sentence in text.split('.')]\n",
    "    death_list=np.random.choice(len(_sentences), size=int(fraction*len(_sentences)))\n",
    "    _survivors=[sentence for i, sentence in enumerate(_sentences) if i not in death_list]\n",
    "    return '. '.join(_survivors)"
   ]
  },
  {
   "cell_type": "markdown",
   "id": "ef6b3870",
   "metadata": {},
   "source": [
    "# Remove 1% of the sentences"
   ]
  },
  {
   "cell_type": "markdown",
   "id": "d2b8d728",
   "metadata": {},
   "source": [
    "## Run!"
   ]
  },
  {
   "cell_type": "code",
   "execution_count": null,
   "id": "c9c329bb",
   "metadata": {
    "ExecuteTime": {
     "start_time": "2025-03-31T16:28:28.939Z"
    }
   },
   "outputs": [
    {
     "data": {
      "application/vnd.jupyter.widget-view+json": {
       "model_id": "df765078e44f41b2a3aa35464ba12c86",
       "version_major": 2,
       "version_minor": 0
      },
      "text/plain": [
       "  0%|          | 0/5 [00:00<?, ?it/s]"
      ]
     },
     "metadata": {},
     "output_type": "display_data"
    },
    {
     "data": {
      "application/vnd.jupyter.widget-view+json": {
       "model_id": "",
       "version_major": 2,
       "version_minor": 0
      },
      "text/plain": [
       "  0%|          | 0/10 [00:00<?, ?it/s]"
      ]
     },
     "metadata": {},
     "output_type": "display_data"
    },
    {
     "data": {
      "application/vnd.jupyter.widget-view+json": {
       "model_id": "",
       "version_major": 2,
       "version_minor": 0
      },
      "text/plain": [
       "  0%|          | 0/3 [00:00<?, ?it/s]"
      ]
     },
     "metadata": {},
     "output_type": "display_data"
    },
    {
     "data": {
      "application/vnd.jupyter.widget-view+json": {
       "model_id": "",
       "version_major": 2,
       "version_minor": 0
      },
      "text/plain": [
       "  0%|          | 0/3 [00:00<?, ?it/s]"
      ]
     },
     "metadata": {},
     "output_type": "display_data"
    },
    {
     "data": {
      "application/vnd.jupyter.widget-view+json": {
       "model_id": "",
       "version_major": 2,
       "version_minor": 0
      },
      "text/plain": [
       "  0%|          | 0/3 [00:00<?, ?it/s]"
      ]
     },
     "metadata": {},
     "output_type": "display_data"
    },
    {
     "data": {
      "application/vnd.jupyter.widget-view+json": {
       "model_id": "",
       "version_major": 2,
       "version_minor": 0
      },
      "text/plain": [
       "  0%|          | 0/3 [00:00<?, ?it/s]"
      ]
     },
     "metadata": {},
     "output_type": "display_data"
    },
    {
     "data": {
      "application/vnd.jupyter.widget-view+json": {
       "model_id": "",
       "version_major": 2,
       "version_minor": 0
      },
      "text/plain": [
       "  0%|          | 0/3 [00:00<?, ?it/s]"
      ]
     },
     "metadata": {},
     "output_type": "display_data"
    },
    {
     "data": {
      "application/vnd.jupyter.widget-view+json": {
       "model_id": "",
       "version_major": 2,
       "version_minor": 0
      },
      "text/plain": [
       "  0%|          | 0/3 [00:00<?, ?it/s]"
      ]
     },
     "metadata": {},
     "output_type": "display_data"
    },
    {
     "data": {
      "application/vnd.jupyter.widget-view+json": {
       "model_id": "",
       "version_major": 2,
       "version_minor": 0
      },
      "text/plain": [
       "  0%|          | 0/3 [00:00<?, ?it/s]"
      ]
     },
     "metadata": {},
     "output_type": "display_data"
    },
    {
     "data": {
      "application/vnd.jupyter.widget-view+json": {
       "model_id": "",
       "version_major": 2,
       "version_minor": 0
      },
      "text/plain": [
       "  0%|          | 0/3 [00:00<?, ?it/s]"
      ]
     },
     "metadata": {},
     "output_type": "display_data"
    },
    {
     "data": {
      "application/vnd.jupyter.widget-view+json": {
       "model_id": "",
       "version_major": 2,
       "version_minor": 0
      },
      "text/plain": [
       "  0%|          | 0/3 [00:00<?, ?it/s]"
      ]
     },
     "metadata": {},
     "output_type": "display_data"
    },
    {
     "data": {
      "application/vnd.jupyter.widget-view+json": {
       "model_id": "",
       "version_major": 2,
       "version_minor": 0
      },
      "text/plain": [
       "  0%|          | 0/3 [00:00<?, ?it/s]"
      ]
     },
     "metadata": {},
     "output_type": "display_data"
    },
    {
     "data": {
      "application/vnd.jupyter.widget-view+json": {
       "model_id": "80f4be52aa8b4a6cb9058e782bbb6f96",
       "version_major": 2,
       "version_minor": 0
      },
      "text/plain": [
       "  0%|          | 0/10 [00:00<?, ?it/s]"
      ]
     },
     "metadata": {},
     "output_type": "display_data"
    },
    {
     "data": {
      "application/vnd.jupyter.widget-view+json": {
       "model_id": "",
       "version_major": 2,
       "version_minor": 0
      },
      "text/plain": [
       "  0%|          | 0/5 [00:00<?, ?it/s]"
      ]
     },
     "metadata": {},
     "output_type": "display_data"
    },
    {
     "data": {
      "application/vnd.jupyter.widget-view+json": {
       "model_id": "e10f6dcb32c140e79b5530f394819fd8",
       "version_major": 2,
       "version_minor": 0
      },
      "text/plain": [
       "  0%|          | 0/5 [00:00<?, ?it/s]"
      ]
     },
     "metadata": {},
     "output_type": "display_data"
    }
   ],
   "source": [
    "for key in tqdm(keys):\n",
    "    _text=texts_01[key]['text']\n",
    "    _vec=texts_01[key]['vec']\n",
    "    coss=np.zeros(N_RUNS)\n",
    "    for _ in trange(N_RUNS, leave=False):\n",
    "        _new_text=sentence_remover(_text, .01)\n",
    "        _new_vec=jina4lote(_new_text)\n",
    "        coss[_]=float(util.cos_sim(_vec, _new_vec))\n",
    "    texts_01[key]['cos_sample_001']=coss"
   ]
  },
  {
   "cell_type": "code",
   "execution_count": 24,
   "id": "9c9378f5",
   "metadata": {
    "ExecuteTime": {
     "end_time": "2025-04-01T07:05:14.570612Z",
     "start_time": "2025-04-01T07:05:14.560993Z"
    }
   },
   "outputs": [
    {
     "name": "stdout",
     "output_type": "stream",
     "text": [
      "10_Telecommunications_VODAFONE GROUP PLC_2021 cos_mean=1.000, cos_std=1.2e-05\n",
      "1_Basic Materials_SYNTHOMER PLC_2021 cos_mean=0.997, cos_std=4.3e-05\n",
      "3_Consumer Staples_Imperial Brands PLC_2016 cos_mean=1.000, cos_std=7.6e-05\n",
      "8_Real Estate_RIGHTMOVE PLC_2016 cos_mean=1.000, cos_std=0.0e+00\n",
      "8_Real Estate_RIGHTMOVE PLC_2019 cos_mean=1.000, cos_std=1.5e-05\n"
     ]
    }
   ],
   "source": [
    "for key in keys:\n",
    "    cos_mean=np.mean(texts_01[key]['cos_sample'])\n",
    "    cos_std=np.std(texts_01[key]['cos_sample'])\n",
    "    print(f'{key:} cos_mean={cos_mean:.3f}, cos_std={cos_std:.1e}')"
   ]
  },
  {
   "cell_type": "markdown",
   "id": "4dbd214d",
   "metadata": {},
   "source": [
    "O.O"
   ]
  },
  {
   "cell_type": "markdown",
   "id": "c8708c9f",
   "metadata": {},
   "source": [
    "### Save"
   ]
  },
  {
   "cell_type": "code",
   "execution_count": 27,
   "id": "7df08585",
   "metadata": {
    "ExecuteTime": {
     "end_time": "2025-04-01T07:17:48.220939Z",
     "start_time": "2025-04-01T07:17:48.214190Z"
    }
   },
   "outputs": [],
   "source": [
    "with open('./Check/text_and_vector_sample_01.pickle', 'wb') as f:\n",
    "    pickle.dump(texts_01, f)"
   ]
  },
  {
   "cell_type": "markdown",
   "id": "5430f746",
   "metadata": {},
   "source": [
    "# Remove 10% of the sentences"
   ]
  },
  {
   "cell_type": "code",
   "execution_count": 20,
   "id": "904c1ddf",
   "metadata": {
    "ExecuteTime": {
     "start_time": "2025-04-17T14:41:03.285Z"
    }
   },
   "outputs": [],
   "source": [
    "with open('./Check/text_and_vector_sample_01.pickle', 'rb') as f:\n",
    "    texts_01=pickle.load(f)"
   ]
  },
  {
   "cell_type": "code",
   "execution_count": 27,
   "id": "9ad58202",
   "metadata": {
    "ExecuteTime": {
     "end_time": "2025-04-17T14:40:01.008432Z",
     "start_time": "2025-04-17T14:40:01.002481Z"
    }
   },
   "outputs": [],
   "source": [
    "keys=list(texts_01.keys())"
   ]
  },
  {
   "cell_type": "markdown",
   "id": "d820244a",
   "metadata": {},
   "source": [
    "## Run!"
   ]
  },
  {
   "cell_type": "code",
   "execution_count": null,
   "id": "99d56af7",
   "metadata": {
    "ExecuteTime": {
     "start_time": "2025-04-17T14:40:24.905Z"
    }
   },
   "outputs": [
    {
     "name": "stdout",
     "output_type": "stream",
     "text": [
      "[2025-04-17 16:40:24]\tstarting...\n"
     ]
    },
    {
     "data": {
      "application/vnd.jupyter.widget-view+json": {
       "model_id": "e9f4bd88c1974ff4b00e47820848a7ff",
       "version_major": 2,
       "version_minor": 0
      },
      "text/plain": [
       "  0%|          | 0/5 [00:00<?, ?it/s]"
      ]
     },
     "metadata": {},
     "output_type": "display_data"
    },
    {
     "name": "stdout",
     "output_type": "stream",
     "text": [
      "[2025-04-17 16:40:24]\t10_Telecommunications_VODAFONE GROUP PLC_2021\n"
     ]
    },
    {
     "data": {
      "application/vnd.jupyter.widget-view+json": {
       "model_id": "8df373d7e6ea40339e1b4eb8e37d8e63",
       "version_major": 2,
       "version_minor": 0
      },
      "text/plain": [
       "  0%|          | 0/10 [00:00<?, ?it/s]"
      ]
     },
     "metadata": {},
     "output_type": "display_data"
    },
    {
     "data": {
      "application/vnd.jupyter.widget-view+json": {
       "model_id": "",
       "version_major": 2,
       "version_minor": 0
      },
      "text/plain": [
       "  0%|          | 0/3 [00:00<?, ?it/s]"
      ]
     },
     "metadata": {},
     "output_type": "display_data"
    },
    {
     "data": {
      "application/vnd.jupyter.widget-view+json": {
       "model_id": "23535fd1c43b4671bf868755170413c5",
       "version_major": 2,
       "version_minor": 0
      },
      "text/plain": [
       "  0%|          | 0/3 [00:00<?, ?it/s]"
      ]
     },
     "metadata": {},
     "output_type": "display_data"
    }
   ],
   "source": [
    "print(time_is_now()+'\\tstarting...')\n",
    "for key in tqdm(keys, leave=False):\n",
    "    print(time_is_now()+f'\\t{key:}')\n",
    "    _text=texts_01[key]['text']\n",
    "    _vec=texts_01[key]['vec']\n",
    "    coss=np.zeros(N_RUNS)\n",
    "    for _ in trange(N_RUNS, leave=False):\n",
    "        _new_text=sentence_remover(_text, .1)\n",
    "        _new_vec=jina4lote(_new_text)\n",
    "        coss[_]=float(util.cos_sim(_vec, _new_vec))\n",
    "    texts_01[key]['cos_sample_010']=coss"
   ]
  },
  {
   "cell_type": "code",
   "execution_count": null,
   "id": "dc79be6f",
   "metadata": {
    "ExecuteTime": {
     "start_time": "2025-04-17T14:40:39.651Z"
    }
   },
   "outputs": [],
   "source": [
    "for key in keys:\n",
    "    cos_mean=np.mean(texts_01[key]['cos_sample_010'])\n",
    "    cos_std=np.std(texts_01[key]['cos_sample_010'])\n",
    "    print(f'{key:} cos_mean={cos_mean:.5f}, cos_std={cos_std:.1e}')"
   ]
  },
  {
   "cell_type": "markdown",
   "id": "e03e0caa",
   "metadata": {},
   "source": [
    "O.O"
   ]
  },
  {
   "cell_type": "code",
   "execution_count": null,
   "id": "a02ae7f0",
   "metadata": {
    "ExecuteTime": {
     "start_time": "2025-04-17T14:40:42.445Z"
    }
   },
   "outputs": [],
   "source": [
    "print('Done!')"
   ]
  },
  {
   "cell_type": "markdown",
   "id": "b4c1e187",
   "metadata": {},
   "source": [
    "## Save me!"
   ]
  },
  {
   "cell_type": "code",
   "execution_count": null,
   "id": "44062f06",
   "metadata": {
    "ExecuteTime": {
     "start_time": "2025-04-17T14:41:03.285Z"
    }
   },
   "outputs": [],
   "source": [
    "with open('./Check/text_and_vector_sample_01.pickle', 'wb') as f:\n",
    "    pickle.dump(texts_01, f)"
   ]
  },
  {
   "cell_type": "markdown",
   "id": "3251c64d",
   "metadata": {},
   "source": [
    "# Remove 50% of the sentences"
   ]
  },
  {
   "cell_type": "code",
   "execution_count": null,
   "id": "fcf8c65c",
   "metadata": {
    "ExecuteTime": {
     "start_time": "2025-04-17T14:42:01.255Z"
    }
   },
   "outputs": [],
   "source": [
    "with open('./Check/text_and_vector_sample_01.pickle', 'rb') as f:\n",
    "    texts_01=pickle.load(f)"
   ]
  },
  {
   "cell_type": "code",
   "execution_count": null,
   "id": "4cfabf18",
   "metadata": {
    "ExecuteTime": {
     "start_time": "2025-04-17T14:42:01.563Z"
    }
   },
   "outputs": [],
   "source": [
    "keys=list(texts_01.keys())"
   ]
  },
  {
   "cell_type": "markdown",
   "id": "0b6f4cb5",
   "metadata": {},
   "source": [
    "## Run!"
   ]
  },
  {
   "cell_type": "code",
   "execution_count": null,
   "id": "eb34e483",
   "metadata": {
    "ExecuteTime": {
     "start_time": "2025-04-17T14:42:02.525Z"
    }
   },
   "outputs": [],
   "source": [
    "print(time_is_now()+'\\tstarting...')\n",
    "for key in tqdm(keys, leave=False):\n",
    "    print(time_is_now()+f'\\t{key:}')\n",
    "    _text=texts_01[key]['text']\n",
    "    _vec=texts_01[key]['vec']\n",
    "    coss=np.zeros(N_RUNS)\n",
    "    for _ in trange(N_RUNS, leave=False):\n",
    "        _new_text=sentence_remover(_text, .5)\n",
    "        _new_vec=jina4lote(_new_text)\n",
    "        coss[_]=float(util.cos_sim(_vec, _new_vec))\n",
    "    texts_01[key]['cos_sample_050']=coss"
   ]
  },
  {
   "cell_type": "code",
   "execution_count": 43,
   "id": "76f17fda",
   "metadata": {
    "ExecuteTime": {
     "end_time": "2025-04-18T07:48:32.034274Z",
     "start_time": "2025-04-18T07:48:32.025221Z"
    }
   },
   "outputs": [
    {
     "name": "stdout",
     "output_type": "stream",
     "text": [
      "10_Telecommunications_VODAFONE GROUP PLC_2021 cos_mean=0.9990, cos_std=1.7e-04\n",
      "1_Basic Materials_SYNTHOMER PLC_2021 cos_mean=0.9957, cos_std=2.6e-04\n",
      "3_Consumer Staples_Imperial Brands PLC_2016 cos_mean=0.9938, cos_std=2.4e-03\n",
      "8_Real Estate_RIGHTMOVE PLC_2016 cos_mean=0.9948, cos_std=1.5e-03\n",
      "8_Real Estate_RIGHTMOVE PLC_2019 cos_mean=0.9972, cos_std=6.2e-04\n"
     ]
    }
   ],
   "source": [
    "for key in keys:\n",
    "    cos_mean=np.mean(texts_01[key]['cos_sample_050'])\n",
    "    cos_std=np.std(texts_01[key]['cos_sample_050'])\n",
    "    print(f'{key:} cos_mean={cos_mean:.4f}, cos_std={cos_std:.1e}')"
   ]
  },
  {
   "cell_type": "markdown",
   "id": "9fca9207",
   "metadata": {},
   "source": [
    "O.O"
   ]
  },
  {
   "cell_type": "code",
   "execution_count": 42,
   "id": "e462226c",
   "metadata": {
    "ExecuteTime": {
     "end_time": "2025-04-18T07:48:24.944131Z",
     "start_time": "2025-04-18T07:48:24.937957Z"
    }
   },
   "outputs": [
    {
     "name": "stdout",
     "output_type": "stream",
     "text": [
      "Done!\n"
     ]
    }
   ],
   "source": [
    "print('Done!')"
   ]
  },
  {
   "cell_type": "markdown",
   "id": "38e47e58",
   "metadata": {},
   "source": [
    "## Save me!"
   ]
  },
  {
   "cell_type": "code",
   "execution_count": null,
   "id": "154e18ce",
   "metadata": {
    "ExecuteTime": {
     "start_time": "2025-04-17T14:42:05.175Z"
    }
   },
   "outputs": [],
   "source": [
    "with open('./Check/text_and_vector_sample_01.pickle', 'wb') as f:\n",
    "    pickle.dump(texts_01, f)"
   ]
  },
  {
   "cell_type": "markdown",
   "id": "cb13366a",
   "metadata": {},
   "source": [
    "# Call me, maybe"
   ]
  },
  {
   "cell_type": "code",
   "execution_count": null,
   "id": "618a1567",
   "metadata": {
    "ExecuteTime": {
     "start_time": "2025-04-17T14:42:07.713Z"
    }
   },
   "outputs": [],
   "source": [
    "email_sender('[SDGs] Resilience to removal', 'Sample performed.')"
   ]
  },
  {
   "cell_type": "code",
   "execution_count": null,
   "id": "f8eae9b0",
   "metadata": {},
   "outputs": [],
   "source": []
  }
 ],
 "metadata": {
  "kernelspec": {
   "display_name": "Python 3 (ipykernel)",
   "language": "python",
   "name": "python3"
  },
  "language_info": {
   "codemirror_mode": {
    "name": "ipython",
    "version": 3
   },
   "file_extension": ".py",
   "mimetype": "text/x-python",
   "name": "python",
   "nbconvert_exporter": "python",
   "pygments_lexer": "ipython3",
   "version": "3.8.10"
  },
  "notify_time": "5",
  "toc": {
   "base_numbering": 1,
   "nav_menu": {},
   "number_sections": true,
   "sideBar": true,
   "skip_h1_title": false,
   "title_cell": "Table of Contents",
   "title_sidebar": "Contents",
   "toc_cell": false,
   "toc_position": {
    "height": "calc(100% - 180px)",
    "left": "10px",
    "top": "150px",
    "width": "288px"
   },
   "toc_section_display": true,
   "toc_window_display": true
  }
 },
 "nbformat": 4,
 "nbformat_minor": 5
}
