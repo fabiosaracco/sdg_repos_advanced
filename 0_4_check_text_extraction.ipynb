{
 "cells": [
  {
   "cell_type": "markdown",
   "id": "0cf5e7ae",
   "metadata": {},
   "source": [
    "# Intro"
   ]
  },
  {
   "cell_type": "markdown",
   "id": "f9078de3",
   "metadata": {},
   "source": [
    "## Standard modules"
   ]
  },
  {
   "cell_type": "code",
   "execution_count": 1,
   "id": "a4048a47",
   "metadata": {
    "ExecuteTime": {
     "end_time": "2025-03-31T16:27:13.919070Z",
     "start_time": "2025-03-31T16:27:13.650588Z"
    }
   },
   "outputs": [],
   "source": [
    "import os, sys, pickle\n",
    "import pathlib\n",
    "import numpy as np\n",
    "from tqdm.auto import tqdm, trange"
   ]
  },
  {
   "cell_type": "code",
   "execution_count": 2,
   "id": "7af55e85",
   "metadata": {
    "ExecuteTime": {
     "end_time": "2025-03-31T16:27:17.553369Z",
     "start_time": "2025-03-31T16:27:13.923045Z"
    }
   },
   "outputs": [],
   "source": [
    "from sentence_transformers import util"
   ]
  },
  {
   "cell_type": "markdown",
   "id": "161bec21",
   "metadata": {},
   "source": [
    "## My modules"
   ]
  },
  {
   "cell_type": "code",
   "execution_count": 25,
   "id": "9f1c3f4d",
   "metadata": {
    "ExecuteTime": {
     "end_time": "2025-04-01T07:14:02.003280Z",
     "start_time": "2025-04-01T07:14:01.997347Z"
    }
   },
   "outputs": [],
   "source": [
    "from toolbox.updater import time_is_now"
   ]
  },
  {
   "cell_type": "code",
   "execution_count": 3,
   "id": "3e6f6640",
   "metadata": {
    "ExecuteTime": {
     "end_time": "2025-03-31T16:27:17.565574Z",
     "start_time": "2025-03-31T16:27:17.557501Z"
    }
   },
   "outputs": [],
   "source": [
    "from file2text import file2text"
   ]
  },
  {
   "cell_type": "code",
   "execution_count": 4,
   "id": "ef09bd4c",
   "metadata": {
    "ExecuteTime": {
     "end_time": "2025-03-31T16:27:17.644436Z",
     "start_time": "2025-03-31T16:27:17.568341Z"
    }
   },
   "outputs": [],
   "source": [
    "from first_rough_cleaning import first_text_cleaner"
   ]
  },
  {
   "cell_type": "code",
   "execution_count": 5,
   "id": "44afc89d",
   "metadata": {
    "ExecuteTime": {
     "end_time": "2025-03-31T16:27:22.333609Z",
     "start_time": "2025-03-31T16:27:17.648654Z"
    }
   },
   "outputs": [
    {
     "name": "stderr",
     "output_type": "stream",
     "text": [
      "/home/sarawalk/sdgs_py38/lib/python3.8/site-packages/torch/cuda/__init__.py:118: UserWarning: CUDA initialization: The NVIDIA driver on your system is too old (found version 10020). Please update your GPU driver by downloading and installing a new version from the URL: http://www.nvidia.com/Download/index.aspx Alternatively, go to: https://pytorch.org to install a PyTorch version that has been compiled with your version of the CUDA driver. (Triggered internally at ../c10/cuda/CUDAFunctions.cpp:108.)\n",
      "  return torch._C._cuda_getDeviceCount() > 0\n"
     ]
    }
   ],
   "source": [
    "from embed_me_II_second_wipe import file2vecfile"
   ]
  },
  {
   "cell_type": "code",
   "execution_count": 6,
   "id": "4db4f64a",
   "metadata": {
    "ExecuteTime": {
     "end_time": "2025-03-31T16:27:22.342403Z",
     "start_time": "2025-03-31T16:27:22.337297Z"
    }
   },
   "outputs": [],
   "source": [
    "from jina4lote import jina4lote"
   ]
  },
  {
   "cell_type": "markdown",
   "id": "fa63fde9",
   "metadata": {},
   "source": [
    "## Alternatives"
   ]
  },
  {
   "cell_type": "code",
   "execution_count": 7,
   "id": "161c2e6f",
   "metadata": {
    "ExecuteTime": {
     "end_time": "2025-03-31T16:27:22.653927Z",
     "start_time": "2025-03-31T16:27:22.345813Z"
    }
   },
   "outputs": [],
   "source": [
    "import pymupdf4llm"
   ]
  },
  {
   "cell_type": "markdown",
   "id": "bddd1dd9",
   "metadata": {},
   "source": [
    "## Parameters"
   ]
  },
  {
   "cell_type": "code",
   "execution_count": 9,
   "id": "0b92a6ce",
   "metadata": {
    "ExecuteTime": {
     "end_time": "2025-03-31T16:27:22.736427Z",
     "start_time": "2025-03-31T16:27:22.667288Z"
    }
   },
   "outputs": [],
   "source": [
    "N_RUNS=10"
   ]
  },
  {
   "cell_type": "markdown",
   "id": "563ff984",
   "metadata": {},
   "source": [
    "# Subset to test"
   ]
  },
  {
   "cell_type": "code",
   "execution_count": 10,
   "id": "543ab44a",
   "metadata": {
    "ExecuteTime": {
     "end_time": "2025-03-31T16:27:22.828189Z",
     "start_time": "2025-03-31T16:27:22.739958Z"
    }
   },
   "outputs": [],
   "source": [
    "RTF_FOLDER='./rtf/'"
   ]
  },
  {
   "cell_type": "code",
   "execution_count": 11,
   "id": "fb7338d7",
   "metadata": {
    "ExecuteTime": {
     "end_time": "2025-03-31T16:27:22.919641Z",
     "start_time": "2025-03-31T16:27:22.831833Z"
    }
   },
   "outputs": [],
   "source": [
    "TARGET_FOLDER='./NewProcessedData/'"
   ]
  },
  {
   "cell_type": "code",
   "execution_count": 12,
   "id": "1c33d05e",
   "metadata": {
    "ExecuteTime": {
     "end_time": "2025-03-31T16:27:23.012627Z",
     "start_time": "2025-03-31T16:27:22.922981Z"
    }
   },
   "outputs": [],
   "source": [
    "rtf_files=[file for file in os.listdir(RTF_FOLDER) if file.endswith('.rtf')]"
   ]
  },
  {
   "cell_type": "code",
   "execution_count": 13,
   "id": "268132e0",
   "metadata": {
    "ExecuteTime": {
     "end_time": "2025-03-31T16:27:23.094675Z",
     "start_time": "2025-03-31T16:27:23.015869Z"
    }
   },
   "outputs": [],
   "source": [
    "rtf_files.sort()"
   ]
  },
  {
   "cell_type": "code",
   "execution_count": 14,
   "id": "f5309d86",
   "metadata": {
    "ExecuteTime": {
     "end_time": "2025-03-31T16:27:23.186265Z",
     "start_time": "2025-03-31T16:27:23.097998Z"
    }
   },
   "outputs": [],
   "source": [
    "N=len(rtf_files)"
   ]
  },
  {
   "cell_type": "code",
   "execution_count": 15,
   "id": "8996837f",
   "metadata": {
    "ExecuteTime": {
     "end_time": "2025-03-31T16:27:23.278826Z",
     "start_time": "2025-03-31T16:27:23.189647Z"
    }
   },
   "outputs": [],
   "source": [
    "selection_01=np.random.choice(rtf_files, size=int(N/100))"
   ]
  },
  {
   "cell_type": "code",
   "execution_count": 16,
   "id": "381205ee",
   "metadata": {
    "ExecuteTime": {
     "end_time": "2025-03-31T16:27:23.369473Z",
     "start_time": "2025-03-31T16:27:23.285423Z"
    }
   },
   "outputs": [],
   "source": [
    "selection_01.sort()"
   ]
  },
  {
   "cell_type": "code",
   "execution_count": 17,
   "id": "20b9cec2",
   "metadata": {
    "ExecuteTime": {
     "end_time": "2025-03-31T16:27:23.506623Z",
     "start_time": "2025-03-31T16:27:23.372869Z"
    }
   },
   "outputs": [
    {
     "data": {
      "text/plain": [
       "array(['10_Telecommunications_VODAFONE GROUP PLC_2021.rtf',\n",
       "       '1_Basic Materials_SYNTHOMER PLC_2021.rtf',\n",
       "       '3_Consumer Staples_Imperial Brands PLC_2016.rtf',\n",
       "       '8_Real Estate_RIGHTMOVE PLC_2016.rtf',\n",
       "       '8_Real Estate_RIGHTMOVE PLC_2019.rtf'], dtype='<U67')"
      ]
     },
     "execution_count": 17,
     "metadata": {},
     "output_type": "execute_result"
    }
   ],
   "source": [
    "selection_01"
   ]
  },
  {
   "cell_type": "markdown",
   "id": "85105be6",
   "metadata": {},
   "source": [
    "## Get both the text and the vector"
   ]
  },
  {
   "cell_type": "code",
   "execution_count": 18,
   "id": "29480364",
   "metadata": {
    "ExecuteTime": {
     "end_time": "2025-03-31T16:27:58.301192Z",
     "start_time": "2025-03-31T16:27:33.118850Z"
    }
   },
   "outputs": [
    {
     "data": {
      "application/vnd.jupyter.widget-view+json": {
       "model_id": "fdbfaa8062b341a3b20b73d414b6b35c",
       "version_major": 2,
       "version_minor": 0
      },
      "text/plain": [
       "  0%|          | 0/5 [00:00<?, ?it/s]"
      ]
     },
     "metadata": {},
     "output_type": "display_data"
    }
   ],
   "source": [
    "texts_01={}\n",
    "for rtf in tqdm(selection_01):\n",
    "    file_name=rtf.replace('.rtf', '')\n",
    "    texts_01[file_name]={}\n",
    "    long_text=file2text(RTF_FOLDER+rtf)\n",
    "    texts_01[file_name]['text']=long_text\n",
    "    vecfile=file2vecfile(rtf)\n",
    "    texts_01[file_name]['vec']=np.genfromtxt(TARGET_FOLDER+vecfile)"
   ]
  },
  {
   "cell_type": "code",
   "execution_count": 19,
   "id": "5eb44d08",
   "metadata": {
    "ExecuteTime": {
     "end_time": "2025-03-31T16:28:13.012845Z",
     "start_time": "2025-03-31T16:28:13.003786Z"
    }
   },
   "outputs": [],
   "source": [
    "with open('./Check/text_and_vector_sample_01.pickle', 'wb') as f:\n",
    "    pickle.dump(texts_01, f)"
   ]
  },
  {
   "cell_type": "markdown",
   "id": "d235f82f",
   "metadata": {},
   "source": [
    "# What is the sense of cosine similarity?"
   ]
  },
  {
   "cell_type": "code",
   "execution_count": null,
   "id": "392b22cc",
   "metadata": {},
   "outputs": [],
   "source": [
    "with open('./Check/text_and_vector_sample_01.pickle', 'rb') as f:\n",
    "    texts_01=pickle.load(f)"
   ]
  },
  {
   "cell_type": "markdown",
   "id": "c582bc35",
   "metadata": {},
   "source": [
    "## Remove 1% of the sentences"
   ]
  },
  {
   "cell_type": "markdown",
   "id": "4d33e9c8",
   "metadata": {},
   "source": [
    "### Function"
   ]
  },
  {
   "cell_type": "code",
   "execution_count": 20,
   "id": "6f4ac4fc",
   "metadata": {
    "ExecuteTime": {
     "end_time": "2025-03-31T16:28:16.353724Z",
     "start_time": "2025-03-31T16:28:16.344201Z"
    }
   },
   "outputs": [],
   "source": [
    "def sentence_remover(text, fraction):\n",
    "    assert fraction<1 and fraction>0\n",
    "    _sentences=[sentence.strip() for sentence in text.split('.')]\n",
    "    death_list=np.random.choice(len(_sentences), size=int(fraction*len(_sentences)))\n",
    "    _survivors=[sentence for i, sentence in enumerate(_sentences) if i not in death_list]\n",
    "    return '. '.join(_survivors)"
   ]
  },
  {
   "cell_type": "markdown",
   "id": "fb8dc97c",
   "metadata": {},
   "source": [
    "### Run!"
   ]
  },
  {
   "cell_type": "code",
   "execution_count": 21,
   "id": "4ec6399a",
   "metadata": {
    "ExecuteTime": {
     "end_time": "2025-03-31T16:28:20.474490Z",
     "start_time": "2025-03-31T16:28:20.468829Z"
    }
   },
   "outputs": [],
   "source": [
    "keys=list(texts_01.keys())"
   ]
  },
  {
   "cell_type": "code",
   "execution_count": null,
   "id": "da59bd18",
   "metadata": {
    "ExecuteTime": {
     "start_time": "2025-03-31T16:28:28.939Z"
    }
   },
   "outputs": [
    {
     "data": {
      "application/vnd.jupyter.widget-view+json": {
       "model_id": "df765078e44f41b2a3aa35464ba12c86",
       "version_major": 2,
       "version_minor": 0
      },
      "text/plain": [
       "  0%|          | 0/5 [00:00<?, ?it/s]"
      ]
     },
     "metadata": {},
     "output_type": "display_data"
    },
    {
     "data": {
      "application/vnd.jupyter.widget-view+json": {
       "model_id": "",
       "version_major": 2,
       "version_minor": 0
      },
      "text/plain": [
       "  0%|          | 0/10 [00:00<?, ?it/s]"
      ]
     },
     "metadata": {},
     "output_type": "display_data"
    },
    {
     "data": {
      "application/vnd.jupyter.widget-view+json": {
       "model_id": "",
       "version_major": 2,
       "version_minor": 0
      },
      "text/plain": [
       "  0%|          | 0/3 [00:00<?, ?it/s]"
      ]
     },
     "metadata": {},
     "output_type": "display_data"
    },
    {
     "data": {
      "application/vnd.jupyter.widget-view+json": {
       "model_id": "",
       "version_major": 2,
       "version_minor": 0
      },
      "text/plain": [
       "  0%|          | 0/3 [00:00<?, ?it/s]"
      ]
     },
     "metadata": {},
     "output_type": "display_data"
    },
    {
     "data": {
      "application/vnd.jupyter.widget-view+json": {
       "model_id": "",
       "version_major": 2,
       "version_minor": 0
      },
      "text/plain": [
       "  0%|          | 0/3 [00:00<?, ?it/s]"
      ]
     },
     "metadata": {},
     "output_type": "display_data"
    },
    {
     "data": {
      "application/vnd.jupyter.widget-view+json": {
       "model_id": "",
       "version_major": 2,
       "version_minor": 0
      },
      "text/plain": [
       "  0%|          | 0/3 [00:00<?, ?it/s]"
      ]
     },
     "metadata": {},
     "output_type": "display_data"
    },
    {
     "data": {
      "application/vnd.jupyter.widget-view+json": {
       "model_id": "",
       "version_major": 2,
       "version_minor": 0
      },
      "text/plain": [
       "  0%|          | 0/3 [00:00<?, ?it/s]"
      ]
     },
     "metadata": {},
     "output_type": "display_data"
    },
    {
     "data": {
      "application/vnd.jupyter.widget-view+json": {
       "model_id": "",
       "version_major": 2,
       "version_minor": 0
      },
      "text/plain": [
       "  0%|          | 0/3 [00:00<?, ?it/s]"
      ]
     },
     "metadata": {},
     "output_type": "display_data"
    },
    {
     "data": {
      "application/vnd.jupyter.widget-view+json": {
       "model_id": "",
       "version_major": 2,
       "version_minor": 0
      },
      "text/plain": [
       "  0%|          | 0/3 [00:00<?, ?it/s]"
      ]
     },
     "metadata": {},
     "output_type": "display_data"
    },
    {
     "data": {
      "application/vnd.jupyter.widget-view+json": {
       "model_id": "",
       "version_major": 2,
       "version_minor": 0
      },
      "text/plain": [
       "  0%|          | 0/3 [00:00<?, ?it/s]"
      ]
     },
     "metadata": {},
     "output_type": "display_data"
    },
    {
     "data": {
      "application/vnd.jupyter.widget-view+json": {
       "model_id": "",
       "version_major": 2,
       "version_minor": 0
      },
      "text/plain": [
       "  0%|          | 0/3 [00:00<?, ?it/s]"
      ]
     },
     "metadata": {},
     "output_type": "display_data"
    },
    {
     "data": {
      "application/vnd.jupyter.widget-view+json": {
       "model_id": "",
       "version_major": 2,
       "version_minor": 0
      },
      "text/plain": [
       "  0%|          | 0/3 [00:00<?, ?it/s]"
      ]
     },
     "metadata": {},
     "output_type": "display_data"
    },
    {
     "data": {
      "application/vnd.jupyter.widget-view+json": {
       "model_id": "80f4be52aa8b4a6cb9058e782bbb6f96",
       "version_major": 2,
       "version_minor": 0
      },
      "text/plain": [
       "  0%|          | 0/10 [00:00<?, ?it/s]"
      ]
     },
     "metadata": {},
     "output_type": "display_data"
    },
    {
     "data": {
      "application/vnd.jupyter.widget-view+json": {
       "model_id": "",
       "version_major": 2,
       "version_minor": 0
      },
      "text/plain": [
       "  0%|          | 0/5 [00:00<?, ?it/s]"
      ]
     },
     "metadata": {},
     "output_type": "display_data"
    },
    {
     "data": {
      "application/vnd.jupyter.widget-view+json": {
       "model_id": "e10f6dcb32c140e79b5530f394819fd8",
       "version_major": 2,
       "version_minor": 0
      },
      "text/plain": [
       "  0%|          | 0/5 [00:00<?, ?it/s]"
      ]
     },
     "metadata": {},
     "output_type": "display_data"
    }
   ],
   "source": [
    "for key in tqdm(keys):\n",
    "    _text=texts_01[key]['text']\n",
    "    _vec=texts_01[key]['vec']\n",
    "    coss=np.zeros(N_RUNS)\n",
    "    for _ in trange(N_RUNS, leave=False):\n",
    "        _new_text=sentence_remover(_text, .01)\n",
    "        _new_vec=jina4lote(_new_text)\n",
    "        coss[_]=float(util.cos_sim(_vec, _new_vec))\n",
    "    texts_01[key]['cos_sample_001']=coss"
   ]
  },
  {
   "cell_type": "code",
   "execution_count": 24,
   "id": "ff0b688c",
   "metadata": {
    "ExecuteTime": {
     "end_time": "2025-04-01T07:05:14.570612Z",
     "start_time": "2025-04-01T07:05:14.560993Z"
    }
   },
   "outputs": [
    {
     "name": "stdout",
     "output_type": "stream",
     "text": [
      "10_Telecommunications_VODAFONE GROUP PLC_2021 cos_mean=1.000, cos_std=1.2e-05\n",
      "1_Basic Materials_SYNTHOMER PLC_2021 cos_mean=0.997, cos_std=4.3e-05\n",
      "3_Consumer Staples_Imperial Brands PLC_2016 cos_mean=1.000, cos_std=7.6e-05\n",
      "8_Real Estate_RIGHTMOVE PLC_2016 cos_mean=1.000, cos_std=0.0e+00\n",
      "8_Real Estate_RIGHTMOVE PLC_2019 cos_mean=1.000, cos_std=1.5e-05\n"
     ]
    }
   ],
   "source": [
    "for key in keys:\n",
    "    cos_mean=np.mean(texts_01[key]['cos_sample'])\n",
    "    cos_std=np.std(texts_01[key]['cos_sample'])\n",
    "    print(f'{key:} cos_mean={cos_mean:.3f}, cos_std={cos_std:.1e}')"
   ]
  },
  {
   "cell_type": "markdown",
   "id": "4237298f",
   "metadata": {},
   "source": [
    "O.O"
   ]
  },
  {
   "cell_type": "markdown",
   "id": "b534148f",
   "metadata": {},
   "source": [
    "### Save"
   ]
  },
  {
   "cell_type": "code",
   "execution_count": 27,
   "id": "83852ab2",
   "metadata": {
    "ExecuteTime": {
     "end_time": "2025-04-01T07:17:48.220939Z",
     "start_time": "2025-04-01T07:17:48.214190Z"
    }
   },
   "outputs": [],
   "source": [
    "with open('./Check/text_and_vector_sample_01.pickle', 'wb') as f:\n",
    "    pickle.dump(texts_01, f)"
   ]
  },
  {
   "cell_type": "markdown",
   "id": "ed15e815",
   "metadata": {},
   "source": [
    "## Remove 10% of the sentences"
   ]
  },
  {
   "cell_type": "markdown",
   "id": "aeee1dd5",
   "metadata": {},
   "source": [
    "### Run!"
   ]
  },
  {
   "cell_type": "code",
   "execution_count": 31,
   "id": "df6d2186",
   "metadata": {
    "ExecuteTime": {
     "end_time": "2025-04-01T07:19:07.012395Z",
     "start_time": "2025-04-01T07:19:07.003428Z"
    }
   },
   "outputs": [
    {
     "data": {
      "text/plain": [
       "'[2025-04-01 09:19:07]'"
      ]
     },
     "execution_count": 31,
     "metadata": {},
     "output_type": "execute_result"
    }
   ],
   "source": [
    "time_is_now()"
   ]
  },
  {
   "cell_type": "code",
   "execution_count": null,
   "id": "108b0567",
   "metadata": {
    "ExecuteTime": {
     "start_time": "2025-04-01T07:21:16.795Z"
    }
   },
   "outputs": [
    {
     "name": "stdout",
     "output_type": "stream",
     "text": [
      "[2025-04-01 09:21:17]\tstarting...\n"
     ]
    },
    {
     "data": {
      "application/vnd.jupyter.widget-view+json": {
       "model_id": "b7e45c28714a4c6ebbe0be97f8cedb61",
       "version_major": 2,
       "version_minor": 0
      },
      "text/plain": [
       "  0%|          | 0/5 [00:00<?, ?it/s]"
      ]
     },
     "metadata": {},
     "output_type": "display_data"
    },
    {
     "name": "stdout",
     "output_type": "stream",
     "text": [
      "[2025-04-01 09:21:17]\t10_Telecommunications_VODAFONE GROUP PLC_2021\n"
     ]
    },
    {
     "data": {
      "application/vnd.jupyter.widget-view+json": {
       "model_id": "e95a9c91807841bdbae0ae55c58e8127",
       "version_major": 2,
       "version_minor": 0
      },
      "text/plain": [
       "  0%|          | 0/10 [00:00<?, ?it/s]"
      ]
     },
     "metadata": {},
     "output_type": "display_data"
    },
    {
     "data": {
      "application/vnd.jupyter.widget-view+json": {
       "model_id": "",
       "version_major": 2,
       "version_minor": 0
      },
      "text/plain": [
       "  0%|          | 0/3 [00:00<?, ?it/s]"
      ]
     },
     "metadata": {},
     "output_type": "display_data"
    },
    {
     "data": {
      "application/vnd.jupyter.widget-view+json": {
       "model_id": "",
       "version_major": 2,
       "version_minor": 0
      },
      "text/plain": [
       "  0%|          | 0/3 [00:00<?, ?it/s]"
      ]
     },
     "metadata": {},
     "output_type": "display_data"
    },
    {
     "data": {
      "application/vnd.jupyter.widget-view+json": {
       "model_id": "",
       "version_major": 2,
       "version_minor": 0
      },
      "text/plain": [
       "  0%|          | 0/3 [00:00<?, ?it/s]"
      ]
     },
     "metadata": {},
     "output_type": "display_data"
    },
    {
     "data": {
      "application/vnd.jupyter.widget-view+json": {
       "model_id": "bbecdf1a74eb4670b945380c54c0a0a1",
       "version_major": 2,
       "version_minor": 0
      },
      "text/plain": [
       "  0%|          | 0/3 [00:00<?, ?it/s]"
      ]
     },
     "metadata": {},
     "output_type": "display_data"
    }
   ],
   "source": [
    "print(time_is_now()+'\\tstarting...')\n",
    "for key in tqdm(keys, leave=False):\n",
    "    print(time_is_now()+f'\\t{key:}')\n",
    "    _text=texts_01[key]['text']\n",
    "    _vec=texts_01[key]['vec']\n",
    "    coss=np.zeros(N_RUNS)\n",
    "    for _ in trange(N_RUNS, leave=False):\n",
    "        _new_text=sentence_remover(_text, .1)\n",
    "        _new_vec=jina4lote(_new_text)\n",
    "        coss[_]=float(util.cos_sim(_vec, _new_vec))\n",
    "    texts_01[key]['cos_sample_010']=coss"
   ]
  },
  {
   "cell_type": "code",
   "execution_count": null,
   "id": "a38f969c",
   "metadata": {
    "ExecuteTime": {
     "start_time": "2025-04-01T07:22:38.776Z"
    }
   },
   "outputs": [],
   "source": [
    "for key in keys:\n",
    "    cos_mean=np.mean(texts_01[key]['cos_sample'])\n",
    "    cos_std=np.std(texts_01[key]['cos_sample'])\n",
    "    print(f'{key:} cos_mean={cos_mean:.3f}, cos_std={cos_std:.1e}')"
   ]
  },
  {
   "cell_type": "markdown",
   "id": "8f360190",
   "metadata": {},
   "source": [
    "O.O"
   ]
  },
  {
   "cell_type": "code",
   "execution_count": null,
   "id": "c53a84bc",
   "metadata": {},
   "outputs": [],
   "source": []
  }
 ],
 "metadata": {
  "kernelspec": {
   "display_name": "Python 3 (ipykernel)",
   "language": "python",
   "name": "python3"
  },
  "language_info": {
   "codemirror_mode": {
    "name": "ipython",
    "version": 3
   },
   "file_extension": ".py",
   "mimetype": "text/x-python",
   "name": "python",
   "nbconvert_exporter": "python",
   "pygments_lexer": "ipython3",
   "version": "3.8.10"
  },
  "toc": {
   "base_numbering": 1,
   "nav_menu": {},
   "number_sections": true,
   "sideBar": true,
   "skip_h1_title": false,
   "title_cell": "Table of Contents",
   "title_sidebar": "Contents",
   "toc_cell": false,
   "toc_position": {
    "height": "calc(100% - 180px)",
    "left": "10px",
    "top": "150px",
    "width": "288px"
   },
   "toc_section_display": true,
   "toc_window_display": true
  }
 },
 "nbformat": 4,
 "nbformat_minor": 5
}
