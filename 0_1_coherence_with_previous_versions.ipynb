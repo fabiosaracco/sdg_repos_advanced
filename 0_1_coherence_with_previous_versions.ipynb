{
 "cells": [
  {
   "cell_type": "markdown",
   "id": "0555b902",
   "metadata": {},
   "source": [
    "# Intro"
   ]
  },
  {
   "cell_type": "markdown",
   "id": "d6b6d067",
   "metadata": {},
   "source": [
    "## Standard modules"
   ]
  },
  {
   "cell_type": "code",
   "execution_count": 13,
   "id": "f92ffd72",
   "metadata": {
    "ExecuteTime": {
     "end_time": "2025-02-27T08:13:30.972232Z",
     "start_time": "2025-02-27T08:13:30.949360Z"
    }
   },
   "outputs": [],
   "source": [
    "import os, sys"
   ]
  },
  {
   "cell_type": "code",
   "execution_count": 21,
   "id": "bf7e46ef",
   "metadata": {
    "ExecuteTime": {
     "end_time": "2025-02-27T08:17:42.416796Z",
     "start_time": "2025-02-27T08:17:42.411007Z"
    }
   },
   "outputs": [],
   "source": [
    "from tqdm.notebook import tqdm, trange"
   ]
  },
  {
   "cell_type": "code",
   "execution_count": 2,
   "id": "88035aef",
   "metadata": {
    "ExecuteTime": {
     "end_time": "2025-02-25T15:32:37.306821Z",
     "start_time": "2025-02-25T15:32:33.444343Z"
    }
   },
   "outputs": [],
   "source": [
    "from sentence_transformers import SentenceTransformer, util"
   ]
  },
  {
   "cell_type": "code",
   "execution_count": 3,
   "id": "92c604b1",
   "metadata": {
    "ExecuteTime": {
     "end_time": "2025-02-25T15:32:37.314680Z",
     "start_time": "2025-02-25T15:32:37.310127Z"
    }
   },
   "outputs": [],
   "source": [
    "import numpy as np"
   ]
  },
  {
   "cell_type": "markdown",
   "id": "32db5377",
   "metadata": {},
   "source": [
    "## Homemade modules"
   ]
  },
  {
   "cell_type": "code",
   "execution_count": 4,
   "id": "37835496",
   "metadata": {
    "ExecuteTime": {
     "end_time": "2025-02-25T15:32:37.424500Z",
     "start_time": "2025-02-25T15:32:37.319922Z"
    }
   },
   "outputs": [],
   "source": [
    "from file2text import file2text, file2roughtext"
   ]
  },
  {
   "cell_type": "code",
   "execution_count": 5,
   "id": "23670a46",
   "metadata": {
    "ExecuteTime": {
     "end_time": "2025-02-25T15:32:43.017742Z",
     "start_time": "2025-02-25T15:32:37.428358Z"
    }
   },
   "outputs": [
    {
     "name": "stderr",
     "output_type": "stream",
     "text": [
      "/home/sarawalk/sdgs_py38/lib/python3.8/site-packages/torch/cuda/__init__.py:118: UserWarning: CUDA initialization: The NVIDIA driver on your system is too old (found version 10020). Please update your GPU driver by downloading and installing a new version from the URL: http://www.nvidia.com/Download/index.aspx Alternatively, go to: https://pytorch.org to install a PyTorch version that has been compiled with your version of the CUDA driver. (Triggered internally at ../c10/cuda/CUDAFunctions.cpp:108.)\n",
      "  return torch._C._cuda_getDeviceCount() > 0\n"
     ]
    }
   ],
   "source": [
    "from jina4lote import jina4lote"
   ]
  },
  {
   "cell_type": "markdown",
   "id": "b77d32b0",
   "metadata": {},
   "source": [
    "# First entry"
   ]
  },
  {
   "cell_type": "code",
   "execution_count": 6,
   "id": "ebe5cceb",
   "metadata": {
    "ExecuteTime": {
     "end_time": "2025-02-25T15:32:43.028026Z",
     "start_time": "2025-02-25T15:32:43.021889Z"
    }
   },
   "outputs": [],
   "source": [
    "rtf_folder='./rtf/'\n",
    "files=os.listdir(rtf_folder)"
   ]
  },
  {
   "cell_type": "code",
   "execution_count": 7,
   "id": "28cff3de",
   "metadata": {
    "ExecuteTime": {
     "end_time": "2025-02-25T15:32:43.113645Z",
     "start_time": "2025-02-25T15:32:43.031197Z"
    }
   },
   "outputs": [],
   "source": [
    "files=[file for file in files if file.endswith('.rtf')]\n",
    "files.sort()"
   ]
  },
  {
   "cell_type": "code",
   "execution_count": 8,
   "id": "ee34e93c",
   "metadata": {
    "ExecuteTime": {
     "end_time": "2025-02-25T15:32:43.212394Z",
     "start_time": "2025-02-25T15:32:43.116886Z"
    }
   },
   "outputs": [
    {
     "data": {
      "text/plain": [
       "'10_Telecommunications_AIRTEL AFRICA PLC_2021.rtf'"
      ]
     },
     "execution_count": 8,
     "metadata": {},
     "output_type": "execute_result"
    }
   ],
   "source": [
    "files[0]"
   ]
  },
  {
   "cell_type": "markdown",
   "id": "5042e88b",
   "metadata": {},
   "source": [
    "## Standard cleaning"
   ]
  },
  {
   "cell_type": "code",
   "execution_count": 9,
   "id": "ecc4dcbb",
   "metadata": {
    "ExecuteTime": {
     "end_time": "2025-02-25T15:33:04.955950Z",
     "start_time": "2025-02-25T15:32:43.215282Z"
    }
   },
   "outputs": [],
   "source": [
    "long_text=file2text(rtf_folder+files[0])"
   ]
  },
  {
   "cell_type": "code",
   "execution_count": 10,
   "id": "93cb8049",
   "metadata": {
    "ExecuteTime": {
     "end_time": "2025-02-25T15:44:57.770145Z",
     "start_time": "2025-02-25T15:33:04.963447Z"
    }
   },
   "outputs": [
    {
     "data": {
      "application/vnd.jupyter.widget-view+json": {
       "model_id": "",
       "version_major": 2,
       "version_minor": 0
      },
      "text/plain": [
       "  0%|          | 0/3 [00:00<?, ?it/s]"
      ]
     },
     "metadata": {},
     "output_type": "display_data"
    }
   ],
   "source": [
    "vec0=jina4lote(long_text)"
   ]
  },
  {
   "cell_type": "markdown",
   "id": "b74369b7",
   "metadata": {},
   "source": [
    "## Alternative cleaning"
   ]
  },
  {
   "cell_type": "markdown",
   "id": "2f026dc2",
   "metadata": {
    "heading_collapsed": true
   },
   "source": [
    "### Function"
   ]
  },
  {
   "cell_type": "code",
   "execution_count": 13,
   "id": "1b1445ff",
   "metadata": {
    "ExecuteTime": {
     "end_time": "2025-02-25T14:28:12.067714Z",
     "start_time": "2025-02-25T14:28:12.009267Z"
    },
    "hidden": true
   },
   "outputs": [],
   "source": [
    "def alt_clean(long_text):\n",
    "    no_t_text=long_text.replace('\\t', '')\n",
    "    sentences=no_t_text.split('.')\n",
    "    new_text=[]\n",
    "    for sentence in sentences:\n",
    "        chunks=[s for s in sentence.split('\\n') if len(s)>0]\n",
    "        if len(chunks)>1 or ' ' in chunks[-1]:\n",
    "            if chunks[-1][0].isupper():\n",
    "                # the last element is a sentence\n",
    "                new_text.append(chunks[-1].strip()+'.')\n",
    "            else:\n",
    "                # the sentence was cut in several pieces: then look for the first capital letter\n",
    "                counter=len(chunks)-1\n",
    "                while counter>0 and chunks[counter].islower():\n",
    "                    counter-=1\n",
    "            \n",
    "                _new_sentence=' '.join([c.strip() for c in chunks[counter:]])+'.'\n",
    "                new_text.append(_new_sentence)\n",
    "    return ' '.join(new_text)"
   ]
  },
  {
   "cell_type": "markdown",
   "id": "4a4553d4",
   "metadata": {
    "heading_collapsed": true
   },
   "source": [
    "### Run!"
   ]
  },
  {
   "cell_type": "code",
   "execution_count": 14,
   "id": "fd7c2070",
   "metadata": {
    "ExecuteTime": {
     "end_time": "2025-02-25T14:28:33.658462Z",
     "start_time": "2025-02-25T14:28:12.070600Z"
    },
    "hidden": true
   },
   "outputs": [],
   "source": [
    "rough_long_text=file2roughtext(rtf_folder+files[0])"
   ]
  },
  {
   "cell_type": "code",
   "execution_count": 15,
   "id": "879f6c80",
   "metadata": {
    "ExecuteTime": {
     "end_time": "2025-02-25T14:28:33.675824Z",
     "start_time": "2025-02-25T14:28:33.664015Z"
    },
    "hidden": true
   },
   "outputs": [],
   "source": [
    "alt_long_text=alt_clean(rough_long_text)"
   ]
  },
  {
   "cell_type": "code",
   "execution_count": 21,
   "id": "b65eec72",
   "metadata": {
    "ExecuteTime": {
     "end_time": "2025-02-25T14:41:21.018875Z",
     "start_time": "2025-02-25T14:41:21.003323Z"
    },
    "hidden": true
   },
   "outputs": [
    {
     "data": {
      "text/plain": [
       "\"As an African business, we recognise the opportunities this continent has to offer: the talent of the people it nurtures and the potential for responsible development. But we are also aware of the challenges the communities across the continent face and we’re determined to make a positive impact. In our Annual Report and Accounts 2020/21, we told our stakeholders that the development of our sustainability strategy was one of the most important steps Airtel Africa had ever taken. 5  Our stakeholder engagement long-term goals that will guide us. significant work that has gone into producing the sustainability strategy that I am delighted to present to you today. Airtel Africa is a business that is driven by the purpose to ‘transform lives’ – it lies at the heart of every decision we have ever made and is a genuine passion of my own. As an African business, we recognise the opportunities this continent has to offer: the talent of the people it nurtures and the potential for responsible development. But we are also painfully aware of the challenges that communities across the continent face. Challenges such as climate change, a lack of access to basic education and healthcare services, and poor infrastructure in rural areas impacting digital communication and financial inclusion. Our sustainability strategy has four focused pillars – each with specific and measurable goals or commitments. It is designed to reduce as well as mitigate our impact on the environment and to support communities through digital access. to develop a sustainable future for individuals, families, communities and businesses across Africa. A sustainable future that is built on increasing equality through digital and financial inclusion, through ensuring children have access to vital education and through the provision of rewarding employment for people across the continent. We have worked closely with our stakeholders to ensure that this strategy is ambitious but also robust and credible. We have been guided by their feedback and will continue to engage regularly and listen carefully to their views. This collaborative approach underpins all the work we will deliver through our strategy. We will look to collaborate across the industry, recognising that by working together, we will be able to drive greater impact for the people who need it most. I am proud of this strategy which is supported by the entire Board of directors and our Executive Committee. You have my personal commitment to seeing these programmes through. We are ever committed to ensuring open and honest communication on our progress as Airtel Africa embarks on its long journey towards a more sustainable future. At Airtel Africa, our purpose is to transform the lives of people across sub-Saharan Africa. By serving customers and societies, connecting the unconnected, reaching the financially excluded and bridging the digital divide, we are providing essential services that are unlocking the potential for people and economies to grow. Through our investment in the network and distribution channels, including in rural and underserved communities, we are connecting millions of people to allow them to reach their potential. As a business with over 100 million customers, our activity is closely linked to their opportunity. Since inception, we have worked hard to build lasting partnerships based on mutual values. We have developed innovative partnerships that are helping us expand the range and depth of our Airtel Money services. We are working with global partners, including Mastercard, Western Union and Flutterwave, on a range of products and services that promote the broader adoption of mobile money, connecting millions of people to the global financial system. By taking the lead in the rollout of 4G network, we have helped and continue to drive digitalisation and financial inclusion. Our expanding footprint of retailers and distributors provides opportunities for many businesses and people who can now reach our services. We have a range of programmes at a country level that addresses the local needs, especially around education, and through other initiatives and partnerships to benefit the communities that we serve. We recognise that Africa – and the world – has faced unprecedented challenges as a result of the Covid-19 pandemic. This has impacted the lives and livelihoods of many people across Africa and has undoubtedly contributed to a rapid acceleration of already existing social and environmental issues which must be at the forefront of sustainability efforts now. Building resilient communities and networks to weather the shocks of public health crises, natural disasters and increasing extreme weather conditions is, therefore, a matter of real urgency and a key priority for Airtel Africa. This sustainability strategy pulls together all of our ongoing work and further builds on these efforts. It is a reflection of our growing business, an acknowledgement of the people’s lives we touch, and a recognition of our shared responsibility to protect the world we inhabit. I am delighted that Airtel Africa has embarked on this ambitious sustainability journey. across Africa. As an independent non-executive director of Airtel Africa plc, I am delighted that the company has taken this step towards a more sustainable future for the business, the communities, and people it serves across Africa. As a significant company operating in 14 markets, Airtel Africa is in a privileged position – with that privilege, however, comes real responsibility. Responsibility to ensure the company is doing everything it can to reduce its environmental impact. That it is driving better digital and financial inclusion across the continent and into some of the most vulnerable communities on the planet. That it is establishing the vital education services that are critical for lifting millions of families out of poverty and towards a more secure future. Airtel Africa understands this responsibility and I wholeheartedly support the strategy that it has put in place. As world economies struggle to recover from the Covid-19 pandemic, it has never been more important for the business to focus on the future. This sustainability strategy will determine Airtel Africa’s corporate decisions – its investments, its partnerships and, critically, the culture of the company. This work will not only support the company’s purpose to transform lives but it will also build the trust of every one of its stakeholders – from suppliers and employees to regulators and investors. And it will ensure that Airtel Africa can work towards an optimal ESG rating. In short, it is the company’s own pathway to corporate sustainability. I commend Airtel Africa for the work that it has put in place and its commitment to the journey it now embarks upon. Airtel Africa’s sustainability strategy is at the heart of our business: it informs and influences our corporate strategy. We have established and implemented a robust governance structure to ensure that sustainability is – and remains – a key Board responsibility, and that the delivery of the strategy and goals laid out in this document is supported by dedicated workstreams. The Board of directors has ultimate oversight of the delivery of our sustainability strategy, implementation across our business, and integration of sustainability metrics into Airtel Africa’s remuneration policy. The Board is updated on our progress on a quarterly basis and approves actions as appropriate. The Sustainability sub-Committee is chaired by the CEO. It oversees progress in reaching our operational targets and goals, recommends updates and improvements, defines the actions and measurements necessary to achieve our goals. It also provides regular updates to the Board of directors while acting as a point of contact for external bodies. The Sustainability sub-Committee meets monthly and works closely with the Executive Committee. The Execuive Committee (ExCo) is responsible for Airtel Africa’s sustainability strategy and vision at the Group level. It is also in charge of deploying our strategy in all 14 markets and managing the respective workstreams dedicated to their function’s long-term goals and commitments. The sustainability lead/function reports to the CEO and is responsible for driving integration and embedding the sustainability strategy across our business. This includes coordination of workstreams across functions and markets, collection and analysis of data and the overall delivery of our sustainability reports. The sustainability lead/function works closely with the ExCo and ensures that Airtel Africa upholds and strives towards finding new, innovative and economically effective ways to be sustainable. The sustainability lead is also in charge of developing, implementing and monitoring organisational environmental strategies. The personal objectives for the CEO and other members of our leadership team include accountability for the progress of our sustainability strategy. In addition, 10% of the CEO’s annual bonus is linked to the achievement of specific key performance indicators (KPIs) within each of the four pillars of our sustainability strategy. As we roll out the programmes and initiatives to achieve our sustainability goals and commitments, we may further align remuneration with our performance against our sustainability targets. Our sustainability governance structure is underpinned by robust policies, including our Modern Slavery statement which strives to help reduce the risk of modern slavery and related practices, including child labour and forced labour, and our full compliance with regulatory requirements and industry best practices. For each of our sustainability pillars and, in particlar, goals and targets, we have selected operational and sustainability key performance indicators (KPIs) which will be applied to monitor the success of our sustainability strategy. As well as helping measure and monitor our progress, our KPIs help us communicate the Group’s sustainability strategy across all levels of the organisation, and form part of our governance and performance management process. A set of high level KPIs has been included in this document for each of our goals: these will be independently verified on an annual basis. In addition, we recognise that we will sometimes need to draw on independent audits of our performance to ensure full credibility and transparency. Where necessary, this verification will be delivered by expert independent providers appropriate to each of the goals and programmes. With our commitment to transparency and collaboration, it is essential to report on our progress against our goals regularly, honestly and openly. Without this, we will not be able to improve standards across the industry, nor will we build our credibility or earn the trust of our stakeholders. Therefore, we are committed to providing regular updates on the progress of our sustainability strategy both in our Annual Reports and again, in more detail, in a standalone Sustainability Report which we will publish annually. All our reporting will be fully compliant with the Global Reporting Initiative (GRI) and the Taskforce on Climate-Related Financial Disclosures (TCFD) frameworks. In addition to this, we will use our corporate website to ensure disclosure of all the policies and processes that will drive our sustainability performance. We will also issue regular press releases throughout the year when we meet specific milestones or establish new initiatives and partnerships to support the delivery of our goals. Airtel Africa has a wide range of stakeholders – from our customers, partners, suppliers and colleagues, to governments, regulators, investors and even our peers in the African telecommunications market. Their views are critically important to us: they guide our corporate development and hold us to account. They have informed the development of our sustainability strategy. Building the trust of our stakeholders is vital for the successful delivery of our sustainability strategy. Our strategy must be credible to our stakeholders and needs to demonstrate how we will work in partnership with them on the implementation of some of our programmes. We recognise that we need to demonstrate full transparency through regular engagement and reporting both our progress and the challenges we will encounter. This is how the wider industry and all the bodies involved in driving the transformation of African societies will learn from and support each other. Our commitment to transparency involved stakeholders contributing to the development of our sustainability strategy. Their views were central to the analysis behind our initial materiality assessment. And before we published our strategy, we undertook a detailed stakeholder consultation programme, seeking their honest feedback on our proposed plans and adapting them, where necessary. We are committed to formal and regular communication with all our stakeholders. This is why we are developing our stakeholder engagement policy which will detail the reason for, and frequency of, communication with each of them. We will publish it by the end of 2021. The first step towards our new strategy was to understand where our sustainability risks lie and the areas in which we can make a positive impact. To determine these areas, we undertook a detailed materiality assessment and the results of this have guided us in the development of our sustainability strategy. The assessment included in-depth analysis of industry benchmarks, best practice across the global telecommunications sector and the recommendations of the Global System for Mobile Communications Association (GSMA). We also reviewed the focus areas of Environmental, Social and Governance (ESG) ratings agencies and reporting frameworks to ensure that our strategy would meet the requirements of the investment community as well as all our other stakeholders. This process identified 24 material sustainability topics for Airtel Africa – they are indicated on the graph below as A-X. To understand the relative importance of the topics, each was scored twice: first, for its relevance or potential risk to Airtel Africa, and then for its relevance to our broad range of stakeholders. This scoring allowed us to identify the 18 most critical priorities (A to R) and we have built our sustainability strategy around our plans to address them. A clear framework is essential to ensure that we remain focused on the delivery of every aspect of our strategy and to provide clarity in our reporting. of issues relevant to Airtel Africa’s entire business – from ensuring more people across Africa have access to data services and building opportunities for some of the most underserved communities on the planet, to tackling inequality in the workplace and reducing our environmental impact. These are vital issues, and addressing the challenges we have identified will support our company’s purpose to transform lives for people, families, communities and businesses across the continent. The development of our strategy builds on our established corporate purpose, our culture and activities to date. It aligns with our support for the 10 principles of UN Global Compact. It also provides a structured approach for our ongoing engagement with society and involves programmes that will be rolled out in all our operations across Africa. Such a broad strategy requires a clear framework to ensure that we remain focused on delivering every aspect of our strategy and to provide clarity in our reporting. Our ambition is to increase digital inclusion in Africa through the expansion and increased reliability of our network. This will provide the connectivity to contribute to the economic growth of individuals, families, communities and nations across the continent. Our ongoing commitment is to provide rewarding employment opportunities and to achieve genuine diversity and inclusion at all levels across the business. This goes to the core of who we are. Our ambition is to drive digital and financial inclusion and access to education for people and communities across Africa through the provision of data and mobile services underpinned by our network expansion. This is vital to the positive transformation of lives across Africa. Our ambition is to address and minimise the impact of our operations on the environment. This is critical for the world we live in. At Airtel Africa, we know that solving some of the world’s most intractable and urgent problems requires organisations working together, pulling in the same direction to make a genuine change. We recognise that the UN Sustainable Development Goals (SDGs) provide the best framework for this task and we support every one of the 17 SDGs. However, to structure our strategy and ensure we can quantify our contribution, we are focusing on the six SDGs that we believe most reflect our business impact and the needs of the communities we serve across Africa. SDG4: Quality education Through increasing the provision of free internet services and education content to schools across our markets, we will ensure teachers and children have access to the resources they need to improve literacy standards and educational attainment. And by providing direct financial and practical support for schools in each of our 14 markets, we can help ensure education is established and remains available to some of the most vulnerable children. SDG5: Gender equality We are committed to improving gender equality across Africa. Through the expansion of our network, we will be able to provide mobile services in previously underserved rural markets. This will provide women with access to the services needed to drive financial inclusion which will give them greater independence, security for their families and the opportunity to develop businesses. Within Airtel Africa, our commitment to achieving full diversity and inclusion at every level of the business will ensure that all employees, regardless of gender, have the opportunity to develop their skills and progress their careers. We will help ensure people across all our markets have access to the financial and data services they need to establish independent businesses, driving the entrepreneurship, creativity and innovation that is essential for economic growth. Through our own recruitment, we will also continue to provide opportunities for local people to enjoy safe and rewarding employment and development prospects. SDG9: Industry, innovation and infrastructure Through the ongoing expansion of our network and continuous development of our data security and service reliability, we will establish essential infrastructure. This will increase financial inclusion for individuals, provide vital education services as well as support the economic resilience and growth of communities. SDG10: Reduced inequalities Our commitment to the ongoing development of our mobile services and network expansion will provide millions of people with new opportunities regardless of age, gender, disability, religion or any other status. This will be reflected in our own business through recruitment policies and our focus on achieving full diversity and inclusion. SDG12: Responsible consumption and production Our sustainability strategy will ensure that we minimise the environmental impact of our operations. Most materially, it will drive our contribution to the development of new technologies and processes to reduce our energy consumption, limit our direct and indirect greenhouse gas emissions and minimise waste. Our ambition is to increase digital inclusion in Africa through the expansion and increased reliability of our network. This will provide the connectivity to contribute to the economic growth of individuals, families, communities and nations across the continent. This pillar of our strategy focuses on the work we do – the data and mobile services we provide to transform lives across Africa. Aligned with our business strategy, we are committed to expanding out network to reach previously underserved regions, thereby increasing digital and financial inclusion, and ensuring reliability of the service we provide. We are committed to protecting our customers’ information through market-leading data security systems. And we are committed to driving positive change through our supply chain. Under this pillar, we will develop policies that will dictate how we work and how we will hold our suppliers to the high standards we are setting ourselves. It ensures our corporate governance goes well beyond mere compliance with regulation, and sets industry standards that are truly world-class and help build the trust of all our stakeholders. The initiatives and improvement programmes we are putting in place under this pillar will address, either wholly or in part, ten of the material topics we identified during the materiality assessment, and for three of the high priority topics we have developed specific measurable goals. This is our number one material topic, and we fully recognise the responsibility we have to protect our customers’ personal information and data at all times. This is why we are setting a specific measurable goal for this topic. Working in regions of the world where corruption is a risk, we understand that we need to demonstrate – and deliver – the strongest approach to counter this and build the trust of our stakeholders. Rolling out our network to reach those communities that until now have not had access to data and mobile services will allow people access to the internet and to critical education and healthcare information. This is why we are setting a specific measurable goal for this topic under ‘Our community’ pillar. We understand that ensuring our customers can trust the reliability of our network is vital. In particular, we know that they rely on our services for their communications, trade, education and healthcare. This is why we are setting a specific measurable goal for this topic. We are developing a robust supply chain management system that will ensure our suppliers uphold the same high standards we set ourselves, and are independently verified as doing so. We are setting a specific measurable goal for this topic. Our commitment to ethical business practices, supported by the highest standards of corporate governance, is critical for our long-term future. By bringing our network to more people across Africa, we are opening up opportunities for people to send and receive money, to build their businesses and increase economic opportunities. This is why we are setting a specific measurable goal for this topic under ‘Our community’ pillar. Increased financial inclusion means that more people across Africa will have the chance to set up businesses and to trade freely, building economic value and creation for individuals, families and communities. Full transparency and regular reporting is critical to building the credibility of Airtel Africa. We are committed to regular engagement with all our stakeholders and publishing regular updates on our progress, including the introduction of an annual Sustainability Report. Competition leads to improved services and affordable pricing. We are committed to upholding the standards that support this and stamping out any anti-competitive behaviour within the industry. Airtel Africa is a custodian of information provided and generated by our customers, our employees and even our suppliers when they use our services. They trust us with their personal details, their communication data and their financial information. This is a privileged responsibility and one that we take seriously, demonstrated by this being our number one material topic. Across the world, people are becoming increasingly aware of the value of their data and the need for data privacy, and they look to service providers to ensure the highest levels of security. Airtel Africa has an extensive infrastructure, and we look after the personal information, including location data and financial details of millions of customers, employees, business partners and suppliers. We recognise that information has value, and that the world is facing ever-increasing challenges related to cyber security threats and data breaches. While we believe we already have strong data security in place, the threats are changing and growing daily. That is why our commitment is to guarantee that our data privacy and security controls are among the best in the world. We have established a clear goal to develop this as quickly as possible through the deployment of the most appropriate and best-in-class technologies, the expansion of our in-house expertise and independent partners, and the introduction of robust and automated processes. Through the rollout of the initiatives that will help us achieve our goal, we will be working with partners and engaging with stakeholders to increase awareness of data privacy and data security across our stakeholder base and with a range of regulatory, statutory and non-governmental organisations. Protecting information from being exposed to an unauthorised party and keeping sensitive information private as well as introducing encryption services to protect data at rest or in transit, and prevent unauthorised access to protected data. Ensuring the constant reliability of our data, networks and systems. This includes introducing mitigation and proactive measures to restrict unapproved changes while also having the ability to recover data that has been lost or compromised. Guaranteeing our authorised users have free access to the systems, networks and data that they need to perform their daily tasks as well as resolving hardware and software conflicts to build resilience in design. This will be supported by regular maintenance to keep systems up and available. Implement a complete security upgrade programme (first edition). Design and execute a second security upgrade programme. Introduce a policy to ensure legacy security platforms, which are not supported by suppliers, are replaced. Define, establish and socialise a robust standalone data security and privacy policy. Replace all legacy unsupported software and hardware devices by the end of 2025. Our aim is to build and implement a next generation operating model, supported by best-in-class in-house and partner security expertise. Design and transition to a new operating model. Establish an industry-leading in-house security organisation and skillset. Become a net security provider – that is provider of security services to institutions in our operating countries in addition to investing in our own security. We aim to build secure platforms and products which includes rigorous testing of our security and guarantee that our business and channel partners connect to the platforms in a secure manner. Rollout secure developer and billing platforms using the latest encryption and migrate existing billing partners to the new platforms. Build #DevSecOps best practice to ensure security is embedded in each stage of development and rollout of new platforms and updates. Embed the tools, processes and people to prevent software and hardware supply chain-linked intrusions. Data privacy is the responsibility of everyone. Our aim is to ensure that we educate our customers on how they can best protect themselves, and to build awareness and certification across all our stakeholders. Create a new tag to monitor any customer complaints that are linked to data privacy. Design and implement a consumer privacy awareness programme. Establish a data security certification programme for internal and external stakeholders. Embed robust data security guidelines and compliance monitoring in all partner agreements. Set up an external data protection helpdesk for stakeholders to report any concerns on Airtel Africa’s data security or privacy. Establish a Data rivacy Ombudsman to oversee all complaints. While we are confident that Targets 1-4 will build industry-leading data security based on all known threats and weaknesses, it is important that our improved systems and management can adapt to anything that is not currently foreseen. Ensure our major sites are ISO27001/ISO22301 certified. Guarantee 100% reliable and automated backup and restoration of data. Establish a viable disaster recovery plan for all applications and data. Implement ‘near site’ disaster recovery programmes for critical application in our seven largest markets by 2025 – with rollout to other markets after 2025. Establish a policy for the long-term retention of identified data. We will measure our progress through a number of key performance indicators, including the rate of privacy and data security certification for employees and our partners, third-party audit compliance scores and customer complaints around privacy issues. Our service quality goal aims to provide transformative opportunities to people across Africa. By expanding and building the reliability of our network, we connect some of the most rural and underserved communities on the planet with vital data, mobile services and information. This allows families to send money to relatives, individuals to set up businesses, and provides millions of people with access to education resources and healthcare information. In rural areas, where on-the-ground services are often not available, it is essential that our customers can trust their telecommunications providers to support them. The mobile industry is recognised as achieving its highest impact on SDG 9: Industry, innovation and infrastructure and SDG 8: Decent work and economic growth. This is driven by extensive mobile network coverage and the percentage of population covered with next generation network services as a platform. The delivery of our service quality goal will ensure we are able to demonstrate Airtel Africa is making a significant contribution to both of these SDGs. Our programme has been structured around three key elements that will deliver this goal and support our work to increase digital and financial inclusion, both of which are covered in ‘Our community’ pillar on pages 28-33. The focus for this goal is the underserved communities across our markets. These are often based in rural and remote locations or along vital economic corridors, such as the Zambia/Democratic Republic of the Congo mining corridor. We know that expanding our service to these communities will ensure we have the greatest impact in achieving our purpose to transform lives. In addition, we will be providing young people across Africa with access to our services: more children will have learning resources and more entrepreneurs will be able to set up small businesses. We will also focus on building support for key industries that underpin national and local economies, including agriculture, fisheries, micro-retailers, and the automotive sector. Partnerships are at the heart of our programmes and to deliver this goal we have clear plans to engage with power and network equipment providers, governments and regulators. We will work in collaboration with the telecommunications industry in Africa to leverage fibre connectivity, build greater bandwidth capabilities and reduce network congestion. This element focuses on increasing the percentage of the population, including rural communities, in each of our markets that has access to our network through the rollout of new network sites. We will increase the availability of our latest technology service offerings and products to all our customers, including the rollout of next generation technology evolution, improving Quality of Experience (QoE) of the network services, and elevating the customer experience with indirect marketing of Airtel Africa’s brand, products and services. We will ensure our customers have access to reliable connectivity and high bandwidth capacity through increased fibre connections to our sites and data centres as well as deploying a network disaster recovery plans for our core network and IP services. Ensure that over 90% of the population in our markets has access to Airtel Africa’s mobile network services in line with our business strategy. Further develop our rollout roadmap for 2G, 3G, 4G and upcoming next generation technology evolution roadmap. Develop a reliable and resilient connectivity infrastructure to enhance our network services and build the trust of our customers. Establish a recovery plan for our core network and IP services to be deployed during natural disasters with best-in-class services. Roll out fibre connectivity to 40% of our sites. Roll out fibre connectivity to 100% of our data centres. Augment the international connectivity bandwidth to a threshold of 60%. Partner with original equipment manufacturers (OEMs) and original device manufacturers (ODMs) to offer cutting-edge power efficient technology services. Enhance uninterrupted mobile service retainability – Quality of Experience (QoE) – to exceed regulatory KPIs and sustain a network availability rate of 99. We will measure our progress through a number of key performance indicators, including the percentage of population covered under our mobile network, the network availability, the rate of rollout of 2G, 3G, 4G and upcoming next generation technologies as well as the rate of fibre network rollout across our sites and data centres as part of network resiliency and connectivity. Airtel Africa relies on a complex network of suppliers who provide us with a wide range of products, services and infrastructure support, and without whom we would not be able to operate. Our suppliers and vendors underpin every aspect of our operations – from the delivery of our network to our human resources and governance processes. We know that to be a truly responsible organisation, we must look further than our own business and we must drive change and positive improvement through our entire supply chain. Our stakeholders hold us accountable for this and ,in turn, we will hold our suppliers accountable for upholding the high standards in human and labour rights, environmental performance as well as business ethics. We maintain that there is no place for the abuse of employee rights, violations of legislation, regulation or governance standards, or environmental negligence in our supply chain. We already undertake detailed assessments of potential suppliers before they are awarded a contract to work with Airtel Africa. Our supplier onboarding process aims to identify and mitigate potential risks within our supply chain. Not only does this mandate high levels of transparency and drive improvement but it also protects our own reputation. We know that any suppliers found to be operating bad practices will reflect poorly on Airtel Africa and may even, temporarily, impact our supply of vital products and services. We are also determined to ensure business resilience across our supply chain remains a priority. We strive to achieve this through a series of initiatives, including advanced planning of our requirements. We currently work with approximately 2,800 suppliers, including mobile brands, IT companies and telecoms infrastructure providers. However, some play a more significant role to Airtel Africa than others: our top 100 vendors represent around 86% of all our procurements. For this reason, we are focusing our goal on those 100 significant suppliers as this is where we can make the most direct and tangible impact. We also intend to work with these suppliers to ensure that the same practices are extended to their supply chain partners. that they work to the same values and standards as Airtel Africa. Suppliers must ensure full compliance and correct any identified breaches in a timely manner. We will increase the disclosures we expect of potential vendors before they are given a contract and throughout the onboarding process. labour or forced labour. But we are now determined to go further by applying appropriate risk-based measures and improving our monitoring capabilities. We will be establishing new policies, audits and independent oversight of our major suppliers. This will enable us to ascertain their adherence to policies, including those relating to labour, governance, environment and overall sustainability. In addition to existing mandatory certifications in line with our Code of Conduct, we will be reviewing all ESG standards, policies and controls, and implement a detailed declaration process for our partners and suppliers. to include ESG criteria by 2022. Update ESG information for existing suppliers with a focus on supplier spend contribution by the end of 2022. We will measure our progress through a number of key performance indicators, including the rate at which we deploy our enhanced supplier onboarding process, ESG declaration audits conducted by Airtel Africa or through industry partnerships as well as the number of breaches identified through audits or whistleblowing channels, and the corresponding number of actions taken to remediate the situation. We will develop a robust process to monitor our suppliers, measure risks, build visibility and improve the resilience of our supply chain. We will be introducing ongoing monitoring and reviews of suppliers’ compliance to our ESG criteria based on a combination of supplier self-certification and routine audits. Implement a self-certification process for all vendors with prioritisation for our top 100 suppliers. This will be rolled out to our original equipment manufacturers (OEMs), towercos and top suppliers representing 86% of total spend by the end of 2022, with our entire supplier base included by the end of 2023. Implement audits of the vendors that represent approximately 86% of total spend relating to the procurement of network and IT equipment as well as services from a small group of OEMs and towercos. Evaluate the use of industry partnerships such as the Joint Audit Cooperation (JAC) for effective audits of strategic IT and network suppliers by 2022. compliance with ESG criteria by 2023. Conduct routine risk-based audits of all other suppliers by 2025. Through the expansion of our network and the improved reliability of our service, millions more Africans will have access to data and financial services than ever before. By more effective management of our suppliers, we will ensure safe and legal working conditions for employees throughout our value chain. Target 8. Target 8. Target 8. Target 9. Target 9. Target 9. Our ambition is to provide rewarding opportunities and to achieve genuine diversity and inclusion at all levels within the business. This goes to the core of who we are. At Airtel Africa, our people are at the centre of everything we do. Our employee community spans 18 countries, and we share a passion for the way we do business and the lives we transform. We aim to be an employer of choice with a dynamic working environment that drives productivity and fosters the health, knowledge, skills, experience and inventiveness of our colleagues. We are proud to be an equal opportunity employer and remain fully committed to diversity and inclusion in our workplace. Our customer base is diverse, and we believe it is important that our employee base reflects this. The value that diversity and inclusion brings to our business, whether from a business strategy perspective or driving innovation, is immeasurable. As a business we realise that when our people feel valued, they do better work with a deeper sense of purpose and a greater level of engagement. Together, we are growing and learning to make business impact that will last for future generations. This is why we remain committed to continuously providing meaningful productive work, achieving equality and providing an environment where our employees are safe, healthy and industrious. Through our work under this pillar of our strategy, we will enhance our people-focused policies and increase our disclosure. The work we will be delivering through our sustainability strategy is aligned to the UN SDGs and will address three of our priority material topics. We are committed to providing every one of our people with a fulfilling and rewarding work environment that provides a path for career development and personal growth. We recognise our responsibility to ensure the highest levels of health and safety for all our employees and to create and maintain an appropriate health and safety management system. A genuine commitment to diversity and inclusion lies at the heart of our culture. We will build on this to create even more opportunities for everyone regardless of gender, ethnicity, religion or disability. We have four ongoing commitments which we implement through our strategy. We will monitor and report our progress in the future. We will continue to create a diverse and inclusive workforce. We will provide the best practice training and development. We will maintain a healthy and safe work environment. We will engage with and listen to our employees. We adhere to International Labour Organisation's (ILO) best practices, UN Human Rights practices, UN Global Compact’s 10 principles and legislative requirements within each of our operating units. At Airtel Africa, we relentlessly strive to build a diverse and inclusive environment that provides equal opportunities for all. We recognise that people come from diverse backgrounds with different life experiences, knowledge and skills – and we value these differences. This is why we have set in place the following targets to ensure we continually progress and stay true to our purpose. Talent acquisition process: ensure we have a sizable pool of female candidates in the interview process – with a minimum of two female candidates presented for key roles. Accountability at Executive Committee (ExCo) level: the personal objectives of the Group human resources director include acceleration of female recruitment and training to reinforce leadership potential. Parental leave policy: by 2022 revise our parental leave policy which already takes into account local legislation. Launch of ‘Pay-it-forward’ programme in our main markets by 2022. This is our accelerated coaching and mentorship programme designed to help women drive momentum in their careers and prepare them for senior leadership positions. Accelerated promotion of women within the business based on merit. We will commit to have a minimum of two female candidates in the promotion pool in all our markets. We will also ensure adequate representation of different nationalities through an enhanced talent acquisition process. We currently have 34 nationalities across our business and will build on this through the use of global recruiters and best practice internal hiring tools. Finally, we will continue to respect and promote the rights of people with disabilities through our talent acquisition process, raising Airtel Africa’s support for people with disabilities through fair recruitment practices and employment. The skills that will be in demand in the future will be radically different from those of today. At Airtel Africa, we believe in the notion of continuous and lifelong learning. Not only do we aim to support our employees through ongoing upskilling and reskilling initiatives, we also seek to empower tomorrow’s talent by helping to ensure they are in the best possible position to succeed in their future careers. Personal and professional development are both essential elements in ensuring the success and effectiveness of a workforce. On the job training and mentorship. Functional and mandatory training specific to an individual’s scope of work – these are either internally driven through the virtual learning platform Percipio, or externally led by professional training firms. In addition, as previously noted, the launch of our ‘Pay-it-forward’ programme will also help prepare female talent for senior leadership positions through coaching and mentorship. We aim to accelerate our efforts on all fronts and will measure our progress by tracking the number of training hours and training programmes completed year-on-year. We are firmly committed to supporting the development of the future workforce. We strive to increase women’s participation in the technology and engineering sectors by 2030. Through our campus outreach programme, we partner with key higher learning institutions across Africa to support female undergraduates and post-graduates with coaching and mentorship as well as internship opportunities, particularly within our technical and engineering teams. At the local market level, by 2025 our Airtel Money teams will support female entrepreneurs with the necessary skills needed to effectively set up and manage their business operations as well as financial health through comprehensive financial management training. At Airtel Africa, looking after the health and safety of our employees is our absolute priority. Our approach to health and safety is led from the top and reinforced at all levels across the business. To ensure that this approach is consistently improved upon and of the highest standards, we will undertake a number of initiatives over the coming year. Creation and implementation of a social and health and safety management system. Update our Group health and safety policy to improve on all elements and ensure continued compliance with local legislation – this policy expected to be approved by 2023. In September 2020, we launched the first annual ‘air-purse’ employee engagement survey to identify and improve on areas that are seen as most critical by our employees. The survey was conducted by an independent third-party provider, Willis Tower Watson. Total scores are benchmarked against the norms of global technology and telecoms companies, high performance companies as well as African businesses. 79% which, we believe, is higher than many other companies in Africa or anywhere else in the world. All our markets are focused on maintaining this high engagement score. Annual mandatory compliance training is based on our Code of Conduct, anti-bribery and corruption policy, and information security policy – all of which are updated annually. Zero tolerance of forced compulsory labour: since 2021, we started to conduct self-certification to ensure sustained adherence to minimum wage payments (we are currently paying above minimum wage) and zero tolerance of child labour. Our Code of Conduct and duty to report policy will ensure that a report can be made via our whistleblowing channel either anonymously or directly without fear of repercussion. We also encourage freedom of association and labour representation across our workforce. We recognise that trade unions help employees feel protected and defend their interests. Therefore, we regularly engage with and cooperate with recognised trade unions in all our markets. We strive to ensure appropriate representation through recognised unions and collective bargaining agreements across our entire business. In addition to guaranteeing all employees a decent wage, benefits, inclusive work environment and safe working conditions, we’re also in the process of updating our reward policy. This will be based on our robust performance management system and will incentivise our employees through a variable pay component. development programmes, the number of internships and mentorships placed at the Group and local market level as well as the rate of injuries and fatalities recorded and the Total Recordable Injury Frequency Rate (TRIFR). The World Economic Forum (WEF) estimates that, on average, only 55%* of women are currently participating in the global workforce, and their presence in organisational leadership positions is even lower. By leveraging SDG 5: Gender equality and SDG 8: Decent work and economic growth, we commit to promote sustained inclusive economic growth, contributing to improved livelihoods for our people, economic empowerment and better opportunities for the communities we serve. Target 5. Target 5. Target 8. Target 8. Target 8. Our ambition is to drive digital and financial inclusion and access to education for people and communities across Africa through the provision of data and mobile services underpinned by our network expansion. These are vital to the positive transformation of lives across Africa. Supporting communities and those most in need is in Airtel Africa’s DNA – it is the power behind our corporate purpose to transform lives. We work in some of the most challenged countries on the planet. Countries where a lack of critical infrastructure and access to education in rural areas is hindering the development of individuals, businesses and national economies. We are determined to help address these challenges and provide genuine solutions to build resilient communities with future opportunities. This pillar of our sustainability strategy focuses entirely on the support we can provide to the communities where we work. Across Africa, in every one of our markets, we will be delivering programmes to ensure we bring services and support to help develop the resilience and opportunities of all the people whose lives we touch. The programmes we are introducing go much further than our corporate social responsibility (CSR) initiatives and campaigns to date which will continue to run alongside this strategy. Our new programmes directly address five of the material topics we identified during the materiality assessment, and for three of these topics we have developed specific and measurable goals. Based on the expansion of the network through our service quality goal under ‘Our business’ pillar of this strategy, this will drive opportunities across all our markets. This is why we are setting a specific measurable goal for this topic. Similarly, financial inclusion relies on the expansion of our network and mobile services and will ensure people across Africa are able to build their own economic resilience. This is why we are setting a specific measurable goal for this topic. By building digital and financial inclusion and by making sure that more children have access to high quality education and materials, we will be building a stronger base for communities to develop and flourish. This is vital if we are to be able to respond to the needs of every community we serve. Through direct engagement, volunteering and internship programmes we will build strong connections in every region where we are active. Study after study demonstrates that the best way to lift all of Africa out of poverty is through the education of all children, giving hope and building opportunity for the future. We are setting an ambitious and measurable goal for this topic. The development of African economies, businesses and communities is being hampered by a lack of digital inclusion across the continent. It is behind a growing global digital divide and unless addressed, will hold back millions of Africans from achieving their ambitions for themselves and their families. Lack of digital inclusion prevents people from accessing vital education and healthcare information. It prevents them from trading effectively and drives a reliance on cash. of the SDGs we are targeting through this pillar. The digital divide that is affecting millions of rural-dwelling people in Africa is driven by a wide range of factors. Basic smartphones are up to 75% more expensive in Africa than in developed Western markets. Network coverage does not reach many areas and, therefore, the retail and support services that new digital users rely on are simply not available. At Airtel Africa, we aim to create a leading, modernised network that provides the data capacity to meet rapidly growing demand and enhance connectivity and digitalisation in our markets. In 2020/21, we had an additional focus on resilience and continuity of service – as we realised how much our customers and their businesses depended on us when Covid-19 restrictions curtailed movement and trade. We will increase the penetration of mobile telephony in rural areas which is a vital first step towards digital inclusion. People need access to local retail and support services to allow them to buy, use and understand their device and digital services. We will encourage use of our full range of digital services by creating more attractive and affordable options for home broadband and smartphone purchase. In pre-paid markets, availability of digital services is dependent upon having available credit. We will build on the convenient payments solutions to our customers so that they can gain access to digital services as and when they need it. To achieve our digital Inclusion goal, we have developed three clear targets that will focus our activity and initiatives, and inform our collaborations. To increase mobile penetration in rural locations, people need access to telecoms retail and support services in their local areas. At Airtel Africa, we currently have more than 25,000 mobile base stations, or sites, across our 14 markets. We are committed to making sure that everyone who lives within the mobile signal range of one of our sites also has access to a local Airtel shop or kiosk, where they can access our entire portfolio of products and services, and find help and support when they need it. Increase the percentage of people in rural locations who can access our network from 66. 5% in 2021 to a minimum of 80% in 2025. This will work in tandem with creating exclusive service centres in rural areas: accordingly, we will increase the number of rural sites where we also offer retail and support services from 49% in 2021 to 95% in 2025. In the markets where access to digital services is dependent upon having credit in one’s mobile account, we need to make it as easy as possible for our customers to top-up their balance at any time, and any place. Through our retail and service facilities we roll out across Africa (see Target 1), we will increase awareness of – and access to – convenient payment solutions. We will make sure our customers have access to a range of options via banking apps, cards and e-wallet solutions. This will allow top-ups and ensure we meet our customers’ needs to access our digital services as and when they need them. We will also educate, guide and support customers in the use of mobile money messaging and our own apps. Increase the percentage of GSM recharges from digital modes of payments from 37. 3% in 2021 to 60% in 2025. awareness and understanding of selfcare modes such as bank and mobile money USSD (Unstructured Supplementary Service Data) codes, MyAirtel App and the Airtel online recharge portal. We will do this through customer education to ensure secure and simplified user journeys. Our full range of digital services is only available to customers who use smartphones or home broadband services (feature phone users do not gain access to the full range of digital services). We, therefore, aim to drive smartphone and home broadband penetration in both rural and urban settings, leveraging our expanding 4G footprint. Increase smartphone penetration across our markets from 33% total customers in 2021 to 45% in 2025 by partnering with original equipment manufacturers (OEMs) to develop attractive offers for consumers when they first purchase their handsets. Increase home broadband penetration as a percentage of households across our operations from 0. 25% in 2021 to 5. 25% in 2025 through targeted promotions. We will measure our progress through a number of key performance indicators, including the rate of mobile penetration in rural locations, the rate of smartphone and home broadband penetration in rural settings, as well as the rate of recharges completed through convenient payment solutions. Financial inclusion is increasingly recognised as a key driver of economic growth and poverty alleviation over the world. To achieve sustainable and inclusive economic growth, access to finance is a critical prerequisite for equitable distribution of economic opportunities, poverty reduction, and financial stability. Having access to a transaction account is a first step toward broader financial inclusion as this allows people to store money and send and receive payments. Financial inclusion of women is particularly important for gender equality and women’s economic empowerment. With greater control over their financial lives, women can help themselves and their families to come out of poverty. They can reduce their risk of falling into poverty, eliminate their exploitation from the informal sector and increase their ability to fully engage in measurable and productive economic activities. According to the World Bank, however, ‘the gender gap in account ownership remains stuck at 9% in developing countries, hindering women from being able to effectively control their financial lives. Countries with high mobile money account ownership have less gender inequality’. Financial literacy has a significant effect on driving financial access as it helps educate and empower people to evaluate various financial products and services. An inclusive financial system supports stability, integrity and equitable growth. Seven of the 17 UN SDGs for 2030 recognise financial inclusion as a key enabler for achieving sustainable development worldwide, by improving the quality of lives of poor and marginalised sections of society. Our work to deliver this goal will benefit everyone but will be particularly focussed on women and people under the age of 35 where transformation will have the greatest impact. Corporate partners: opportunities to co-invest in solutions for individuals and micro-, small and medium-sized enterprises (MSMEs) in large corporate value chains, both upstream (e. , agriculture and mining) and downstream (e. , small retailers and recycling ecosystems). Foundation and multilaterals: opportunities for co-investment to test pioneering innovations that could advance the financial inclusion agenda in the long term. Non-governmental organisations (NGOs)/academic delivery partners: opportunities to fund these organisations to support on-the-ground implementation and/or impact measurement. Developing products and services that are tailored to the needs and income-levels of the un- and under-banked. Providing transactional accounts, savings, payments, insurance and remittances or foreign exchange (FX), and establishing affordable lending programmes through multi-lateral partnerships. Ensuring our products and services are where our customers are, by establishing a broad-based and easy to access fintech ecosystem, and deepening our distribution to create density. Empowering our customers and all consumers with the knowledge, tools and confidence they need to use financial products in a responsible way. To achieve our objectives of affordability, accessibility and awareness, we have developed four clear targets that will focus our activity and initiatives and inform our collaborations. Double the digital transaction value per subscriber by 2025. Provide easy access to the ecosystem by ensuring ‘point of presence’ within 1,000 metres of target groups. Achieve 75% plus penetration of mobile money users in rural and semi-rural areas. Target 20 million women users of Airtel Money by 2025. Extend affordable microcredit to 2 million women to aid entrepreneurial activities. Specifically support micro businesses run by women on the continent. Launch attractive individual and group bonus savings products. Target 1 million mobile money subscribers to hold at least one savings product. Incentivise agents to save at least 10% of commissions earned. 4A Partner with large corporates and development finance institutions (DFIs) to target farmers through their supply chains. 4B Extend ‘collateral-free’ loans to 1 million small scale farmers. In addition to these targets, promoting financial literacy to underserved communities is a critical component of our financial inclusion initiatives. We are looking to engage with NGOs and other social bodies to promote on-the-ground financial literacy programmes and measure impact – targeting village savings and loans associations (VSLAs). Our ambition is to empower 5 million people through financial literacy by 2025. We will measure our progress through a number of key performance indicators, including the value of digital transactions completed per subscriber, the total number of people served by our network and penetration rates within rural populations, the number of women and female entrepreneurs supported by our services, as well as the rate of improvement of household incomes and overall employment particularly for micro-, small and medium-sized enterprises in the agriculture sector. Africa is a continent undergoing rapid transition. Central to this change are its children. The continent has seen an unprecedented expansion in its child population in recent decades. According to UNICEF estimates, by 2055 Africa will be home to one billion children under the age of 18, making Africa’s child population larger than any other continent. Such a demographic explosion creates immense opportunities but also tremendous challenges. A large number of young and educated people can drive economic growth and transformation; however, this is not the case in Africa today, where youth unemployment rates are on average 54% rising to 70% in some countries. In 2019, the World Bank introduced the concept of ‘learning poverty’ – the inability to read or understand simple text by the age of 10. In sub-Saharan Africa, the learning poverty rate is close to 87%. Our access to education goal has specific targets and timelines for delivery and will enhance our ongoing CSR programmes. We will use our digital and technology infrastructure to provide internet access for education. And by adopting schools we will provide long-term practical support for the schools that need it most. which saw 90% of learners across all our African markets drop out of formal education. The situation is critical and must be addressed immediately, if Africa is to avoid the predictions that in the 10 years to 2030, 288 million young people will reach the age of 18 without basic proficiency levels in reading. This is why our access to education goal is central to our sustainability strategy, and will combine the Group-level funding and services with targeted programmes on the ground in each of our markets. We have long been focused on improving education through our corporate social responsibility (CSR) activities. We recognise that it is the key to employment, gender equality and driving economic growth and resilience. A landmark partnership with UNICEF will provide children with free access to zero-rated educational content and connectivity in 13 out of our 14 countries of operations. We are commited to working in collaboration: we will maintain our local partnerships and will look for opportunities to build relationships with potential new partners. Where network services exist, we will work with schools to ensure they have the equipment necessary to connect to the internet. We will continue to build long-term relationships with schools most in need to provide them with whatever support necessary to deliver quality education. in Africa through education by 2027. To do this, we have set the following targets that will guide our progress and ensure we are reaching those in the most remote and underserved areas of our countries of operation. We have established a significant five-year partnership with UNICEF to transform the lives and opportunities of children through access to education. The partnership will focus on 13 of our 14 African markets and will target the schools and regions where the need is greatest. We have committed to an extensive programme through which we will invest in technology and expertise, in addition to direct financial support, to bring learning resources to children across Africa. Our partnership has been agreed at the Group level and will complement our existing and ongoing CSR programmes that will continue to run at a country level. We will support UNICEF in championing every child’s right to an education, with a particular focus on girls who so often are left behind in developing economies. Together, we will advocate for ambitious policies and frameworks, using insights we have gathered through the partnership. We to promote the tools and platforms that are available to support children and keep them safe online. We will make digital learning a reality for children in our markets across Africa. We will do this by decreasing the barriers of entry to digital learning content and applications through zero-rating digital educational content on key platforms, including UNICEF’s ‘Learning Passport’ initiative. We have committed to providing direct financial support to UNICEF’s ‘Reimagine Education’ initiative that is working to connect every school in Africa to the internet, giving every young person access to information and opportunity. We are partnering on this initiative to ensure children are equipped with the digital access they need for their education. Our financial and in-kind support for this partnership will be a minimum of $55m over the five years to 2027. This target will be delivered through our operating companies locally – we will connect an average of 20 schools per market per year for the five years to 2027. Working with local partners in each market, we will map out the current connectivity levels of schools in the areas where our masts provide coverage. Once mapped, we will identify the schools which do not have access to the internet and will implement the necessary digital solution to bring them online. Through the supply of products, including wi-fi and dongles, we will provide free data through our network and digital infrastructure for use in schools. In 2021, 79. 4% of our sites operated on faster 4G network, and we will increase this percentage to allow us to connect more schools with faster internet for a better learning experience. We aim to increase the number of schools we adopt and support to 100 by 2027. Across every market, we will be conducting a three-step process to identify schools in need of support, assess the help required and provide long-term assistance. Each of our local markets already has relationships in place with the education ministry, other government authorities and regulators. We will leverage these relationships and work with local partners to identify the schools which are most in need of support to bring them up to average national standards. We will assess the long-term assistance each of the identified schools require to determine the action we need to take to have a genuine impact. Support will vary from school to school, depending on specific requirements. Our support will range from providing materials, including desks, books and uniforms, to building or upgrading school facilities, or paying teaching staff salaries. Once a school has been adopted, colleagues in our offices will volunteer their time and continue to engage with the school on an ongoing basis. This is a critical part of our support to ensure we take the school on a positive journey and build long-term sustainable relationships. We will measure our progress through a number of key performance indicators, including the number of schools adopted through our ‘Adopt a school’ programme, the rate at which schools are connected to the internet, and the number of websites zero-rated for education. This goal is very important to us and goes to the heart of our corporate purpose of transforming lives. UNESCO estimates that 88% of children and adolescents in sub-Saharan Africa will not be able to read proficiently by the time they complete primary and lower secondary education. With Africa set to have the highest number of school age children in the world by 2100, providing more and better education is critical. Target 4. Target 4. Target 4. Target 4. Education for girls, as well as women’s access to digital and financial services and employment, are key drivers of gender equality in Africa. It is critical to give women the tools and opportunities they need to grow their independence. Target 5. Target 5. Reducing inequalities and providing the services that will encourage social mobility is central to our work through this pillar of our strategy. Target 10. Target 10. Our ambition is to address and minimise the impact of our operations on the environment. This is critical for the world we live in. Operating in sub-Saharan Africa, we have first-hand experience of the impact of the climate crisis. We understand that our markets will be amongst those worst affected if the world – governments, institutions, businesses, and individuals – do not take the necessary action to reduce carbon emissions to pre-industrial levels. In addition to this, our markets contain some of the most mineral-rich land on the planet – land that has been exploited and affected for decades. We recognise that the goals and programmes we have laid out in the first three pillars of our strategy will come to nothing if communities in all our markets cannot survive and thrive as a result of environmental change. It’s as simple as that. So, for Airtel Africa, environmental protection is non-negotiable – it is a pressing reality. Our new programmes directly address two of the material topics we identified during the materiality assessment and for both of these we have developed specific measurable goals which are detailed in this section. We fully acknowledge that if the world is to avoid catastrophic climate crisis and keep below the 2° centigrade increase over pre-industrial levels as outlined by the Paris Agreement and supported by the Intergovernmental Panel on Climate Change (IPCC), Airtel Africa must strive to achieve genuine carbon neutrality. We recognise that we need to continue putting in place strategies and processes that will reduce our use of damaging materials and the waste we produce by repurposing and applying new technologies. Reducing the greenhouse gas emissions associated with the telecommunications sector sits at the heart of this commitment. While we do not operate in one of the ‘hard to abate’ sectors, we know that we have a unique set of challenges around greenhouse gas production and reduction. in the Paris Agreement. To achieve the digital and financial inclusion we have set out in our sustainability strategy and to provide more children in Africa with access to education resources, it is critical that we extend our network and services to some of the most underserved communities. And everywhere we operate, we must ensure uninterrupted availability of our network through reliable power sources. That reliability comes with a challenge as uninterrupted electricity grid power, especially outside cities, cannot be guaranteed. In addition, as our technology develops and services expand into rural areas, our requirement for reliable sources of power will only increase. So, to ensure an uninterrupted supply of power, we depend on diesel generators and batteries as a back-up. We acknowledge the impact of diesel generators on the environment, and this poses a unique challenge – we need to balance sensitivity towards the environmental impact with provision of digital and financial inclusion for people across Africa. This is not a problem affecting Airtel Africa alone – every telecommunications company operating in Africa faces this challenge. Without a viable and sustainable solution to diesel-powered towers in rural areas, it is difficult for any provider to genuinely achieve net zero carbon emissions. In many of our markets, we have already chosen to partner with reputable tower companies who build and maintain tower sites for us with the clear intention of sharing the infrastructure with any other telecoms company that wishes to do so. This approach to sharing towers with our peers limits the number of towers in rural areas. But this is not enough. We now need to address emissions from diesel generators as part of a broader programme to reduce our entire carbon footprint – scopes 1, 2 and 3. We have undertaken extensive analysis of our own operations and our entire value chain to understand our emissions profile and specific carbon risks. However, the challenges of operating in Africa and working in regions where little to no infrastructure exists are complex. Addressing the pollution of powering the network equipment on towers requires the entire industry to come together to develop shared solutions and to help every telecom provider address their carbon footprint. Appoint a globally recognised consultancy with expertise in defining complex carbon-reduction strategies. Draw on industry-wide solutions through our membership of the Global System for Mobile Communications Association (GSMA) which has already established an industry-wide decarbonisation plan and guidelines. We recognise that it will be difficult for us to achieve the carbon reduction we seek unless the whole African telecommunications industry comes together to address the issue of towers which rely on diesel generators to ensure an uninterrupted supply of power. This work is well underway, and we are committed to publishing our detailed plans for meaningful carbon reduction throughout our entire value chain in 2022 ahead of our first Sustainability Report. Africa is the most mineral-rich continent on the planet. It contains an enormously diverse range of ecosystems and is home to an extensive range of endemic species of flora and fauna. Within our 14 markets, the communities we serve span arid desert regions to tropical and sub-tropical areas. While the richness and beauty of Africa is well understood and appreciated by our organisation, we also recognise that it is a continent that is under environmental threat. The climate crisis is leading to continued and increasing pressure on natural resources such as water. This puts pressure on the land and impacts the lives of those who rely on it. While our operations are not heavily reliant on water or other natural resources, as a responsible operator we recognise that we need to reduce our environmental impact wherever we can. Our employees are already working to minimise our impact on the environment by reusing, recycling and ensuring the safe disposal of non-hazardous waste in all countries where we operate. To further reduce our impact on waste going to landfill or incineration plants, we will expand existing waste management initiatives across our offices and sites, as well as ensure more of our supplies come from recycled sources. We are not a heavy user or polluter of natural water resources. However, as water is such a precious commodity in our markets, we recognise that we have a responsibility to monitor and be mindful of our use of water. We collect and harvest rainwater in some of our offices, where possible, and are looking at more ways in which we can expand these initiatives. We take a responsible approach to reducing all hazardous waste in our operations. We comply with all regulated standards for the disposal of lead waste and dispose of it through authourised and licensed third-party partners. The area of most significant concern in this respect for mobile operators is the continued use of lead batteries which are widely deployed to provide critical back-up power for our extensive network equipment. Therefore, we are setting targets to reduce the presence of hazardous waste with a particular focus on lead. reducing e-waste across our business, as well as ensuring reusability and recyclability. We dispose of any generated e-waste from technological upgrades, capacity augmentation and various other processes with authorised and licensed operators. We abide closely to the Waste Electrical and Electronic Equipment (WEEE) guidelines. We source all our electronic equipment from reputable partners who comply with global environmental health and safety (EHS) standards. And in all our locations, we keep a record of e-waste disposal certificates – we follow a stringent process which mandates the use of only qualified, licensed and safe recycling as well as e-waste disposal partners. To achieve our ambitions on hazardous waste, non-hazardous waste and water protection, we have established the following targets that will guide our progress. As a priority, to streamline our efforts at the Group and operating country level, we have started nominating environmental officers in some of our offices and will roll this initiative out in all our countries of operation by 2022. Training programmes will be offered to support our environmental officers. At Airtel Africa, we only partner with adequately equipped and regulated facilities that recycle our lead batteries – all our end-of-life lead batteries are disposed of by licenced operators under local regulations. Our vision is to have lead-free operations at all our owned sites by 2040. To achieve this, we are making a financial commitment to continue to source lead-free materials for use in our operations. By 2040, we will replace 100% of lead batteries in all our owned sites with lead-free batteries such as lithium-ion batteries, which are more environmentally friendly and more efficient, or other green alternatives as technology develops. Continue to replace laminated scratch card products containing unrecyclable magnetic strips with electronic vouchers (e-vouchers) so that we eliminate 100% of magnetic strip scratch cards by 2030. Ensure our suppliers are actively working towards reducing hazardous waste and that we are actively monitoring their efforts. We will do this by 2025 through increasing the disclosure we expect as part our supplier onboarding process, and introducing ongoing reviews of suppliers’ compliance to our ESG criteria based on a combination of supplier self-certification, periodic and routine audits. For more information, see ‘Our supply chain’ goal on page 18. To have a clear understanding of waste management practices across our business, we will undertake a full assessment of waste in our offices and sites by the end of March 2022. This will enable us to identify the different categories of waste generated, deepen our understanding of the many initiatives deployed at the country level, and determine where else and how else we can reduce, reuse or recycle. Our aim is to do more to reduce our non-hazardous waste by 2025 through reuse and recycling initiatives. Build on existing waste management initiatives in our countries of operation and consolidate them under a Group-wide initiative, which will expand as well as improve the efficiency of recycling processes at 50% of our offices and sites by the end of March 2022, with all offices and sites included by 2023. Ensure that all our office paper supplies are fully recycled by 2022. Eliminate harmful non-essential single use plastics from all our offices by 2023. For essential plastics, we will ensure that they are 100% reusable or recyclable. Ensure our suppliers have effective recycling schemes and waste reduction management initiatives in place and that we are actively monitoring their efforts. We will do this by 2025 through increased disclosure and ongoing reviews as described in ‘Our supply chain’ goal on page 18. Preserving water resources is an important environmental protection priority for Airtel Africa. Our current water protection target is to achieve year-on-year reductions in water consumption across our offices and sites. To achieve this, we will introduce regular employee awareness campaigns to ensure they consider the role they can play in reducing water consumption. We will measure our progress through a number of key performance indicators, including the rate at which lead and other hazardous waste is eliminated from our operations, the rollout of a Group-wide waste management initiative across our markets, the total e-waste generated and recycled by our operations, and monitoring our annual water consumption. Target 12. Target 12. Target 12. In Africa the population is expected to double in the next 30 years to 2. 5 billion. And Africa’s urban population is expected to more than triple over 40 years, from 395 million in 2010 to 1. 34 billion in 2050. This corresponds to 21 percent of the world’s projected urban population. Water demand is growing for rapidly expanding energy development, agriculture, and urban communities. Source: www. At Airtel Africa, we recognise that no government, organisation or company will achieve the transition to a fairer society and better environmental controls alone. We know collaboration is vital to driving real change – collaboration with intergovernmental organisations (IGOs), non-governmental organisations (NGOs), academics and even our peers to address industry-wide problems. As we roll out our sustainability strategy over the coming years, we will be working in partnerships to deliver every one of our goals. We will inform our stakeholders and audiences on these partnerships as they are formed and update them on progress through our annual sustainability reporting. We embark on our sustainability journey with four high-level partnerships already in place. These have helped to inform the focus and direction of our strategy and we look forward to growing our collaboration with these esteemed organisations over the coming years. We have signed up to the United Nations Global Compact (UNGC) and intend to be an active member both at a global level and through national UNGC programmes. The UNGC is the world’s largest corporate sustainability initiative. As a special initiative of the UN Secretary-General, the UNGC calls on companies to align strategies and operations with universal principles on human rights, labour, environment and compliance, and take actions that advance societal goals. The UNGC aims to create a world where business is as a force for good, supporting the UN Sustainable Development Goals and a sustainable future for our planet. The UNGC catalyses change, providing member companies with best practices, resources and networking opportunities. The GSMA works with mobile operators in collaboration with partners and international organisations on global climate action solutions. Agreement target of achieving net zero emissions by 2050. The GSMA is working with participating operators in the mobile industry value chain, and partnering with the international community, climate experts and third-party organisations to advance industry progress, establish best practices, and supporting disclosure and target setting. Airtel Africa also participates in the GSMA Climate Action Taskforce and the Carbon Disclosure Project. We will contribute to the industry commitment through our greenhouse gases reduction goal. UNICEF, also known as the United Nations Children’s Fund, promotes the rights and wellbeing of every child, in everything it does. UNICEF works for the benefit of children everywhere. Together with partners, it provides practical support and programmes focussed on reaching the most vulnerable and excluded children in 190 countries and territories. We have established a landmark five-year partnership to help accelerate digital learning through connecting schools to the internet and ensuring free access to learning platforms across 13 countries in Africa. This partnership is at the heart of ‘Our community’ pillar of the sustainability strategy. Airtel Africa is joining the Joint Audit Cooperation (JAC) to share information on the sustainability and corporate social responsibility (CSR) programmes of common suppliers with global telecommunications peers across the industry. to verify, assess and develop sustainability and CSR implementation across the manufacturing centres of important multinational suppliers to the Information Communication Technology (ICT) industry. JAC members share resources and best practices to develop long-term sustainability and CSR implementation throughout the global supply chain. While these partnerships are established at the Group level, we will be building and expanding opportunities to collaborate with a wide range of organisations on the delivery of our sustainability strategy. These organisations will include original equipment manufacturers (OEMs) and original device manufacturers (ODMs), academic institutions, schools and colleges, other corporates, NGOs, our peers in Africa and across the world. We will report on all collaboration and partnerships in our annual sustainability reports. Airtel Money is the brand name for Airtel Africa’s mobile money products and services. The term is used interchangeably with ‘mobile money’ when referring to our mobile money business, finance, operations and activities. A Development Finance Institution is a government-owned or public institution that provide funds for large scale projects where it often becomes unviable for commercial banks to lend. Microcredit is the extension of very small loans (microloans) to predominantly unbanked borrowers who typically lack collateral, steady employment, or a verifiable credit history. It is designed to support entrepreneurship, essential needs of consumers and alleviate poverty. Tackles its own security concerns by enhancing security services to institutions in our operating countries in addition to investing in our own security. This is done by addressing common security concerns, including dealing with transnational piracy, or responding to disasters, etc. A next-generation network is a generic term that describes the evolution and migration of fixed and mobile network infrastructures from distinct, proprietary networks to converged networks based on IP. Definition of rural varies from country to country and denotes the population density per specific site. This includes plastic stirrers, straws, plates (including paper plates with plastic lining), cutlery (forks, knives, spoons and chopsticks), cotton swabs, balloon sticks, oxo-degradable plastics and beverage containers that do not have tethered caps and lids, plastic bags, all forms of polystyrene and polyvinyl chloride (PVC) food and beverage containers, and plastic packaging made of mixed materials (i. , multi-layered plastics). Farmers supporting a single family with a mixture of cash crops and subsistence farming. These farmers are potentially highly productive in terms of output per land unit. Unstructured supplementary service data (USSD) also known as ‘quick codes’ or ‘feature codes’, is a communications protocol for GSM mobile operators, similar to SMS messaging. It has a variety of uses such as WAP browsing, prepaid call-back services, mobile money services, location-based content services, menu-based information services, and for configuring phones on the network. The user does not have to pay any mobile data charges to access content. 53/54 Grosvenor Street London W1K 3HU England airtel.\""
      ]
     },
     "execution_count": 21,
     "metadata": {},
     "output_type": "execute_result"
    }
   ],
   "source": [
    "alt_long_text"
   ]
  },
  {
   "cell_type": "markdown",
   "id": "dcc7a6ce",
   "metadata": {
    "hidden": true
   },
   "source": [
    "Actually, it is much worse than the other."
   ]
  },
  {
   "cell_type": "code",
   "execution_count": 16,
   "id": "a046bc6f",
   "metadata": {
    "ExecuteTime": {
     "end_time": "2025-02-25T14:39:51.349700Z",
     "start_time": "2025-02-25T14:28:33.679166Z"
    },
    "hidden": true
   },
   "outputs": [
    {
     "data": {
      "application/vnd.jupyter.widget-view+json": {
       "model_id": "4331636a4dae423190dd9f5e88c24bc4",
       "version_major": 2,
       "version_minor": 0
      },
      "text/plain": [
       "  0%|          | 0/2 [00:00<?, ?it/s]"
      ]
     },
     "metadata": {},
     "output_type": "display_data"
    }
   ],
   "source": [
    "alt_vec0=jina4lote(alt_long_text)"
   ]
  },
  {
   "cell_type": "markdown",
   "id": "41013ba6",
   "metadata": {},
   "source": [
    "## Final comparison"
   ]
  },
  {
   "cell_type": "code",
   "execution_count": 11,
   "id": "181d4859",
   "metadata": {
    "ExecuteTime": {
     "end_time": "2025-02-25T15:44:57.792678Z",
     "start_time": "2025-02-25T15:44:57.780991Z"
    }
   },
   "outputs": [],
   "source": [
    "previous_embedding=np.genfromtxt('./ProcessedData/2021_10_AIRTEL_AFRICA_PLC.txt', dtype='f8')"
   ]
  },
  {
   "cell_type": "code",
   "execution_count": 12,
   "id": "7f4096ea",
   "metadata": {
    "ExecuteTime": {
     "end_time": "2025-02-25T15:44:57.909859Z",
     "start_time": "2025-02-25T15:44:57.795198Z"
    }
   },
   "outputs": [
    {
     "data": {
      "text/plain": [
       "0.9990540664002608"
      ]
     },
     "execution_count": 12,
     "metadata": {},
     "output_type": "execute_result"
    }
   ],
   "source": [
    "float(util.cos_sim(vec0, previous_embedding))"
   ]
  },
  {
   "cell_type": "code",
   "execution_count": 19,
   "id": "39a02193",
   "metadata": {
    "ExecuteTime": {
     "end_time": "2025-02-25T14:39:51.553966Z",
     "start_time": "2025-02-25T14:39:51.476265Z"
    }
   },
   "outputs": [
    {
     "data": {
      "text/plain": [
       "0.998503983753686"
      ]
     },
     "execution_count": 19,
     "metadata": {},
     "output_type": "execute_result"
    }
   ],
   "source": [
    "float(util.cos_sim(alt_vec0, previous_embedding))"
   ]
  },
  {
   "cell_type": "code",
   "execution_count": 20,
   "id": "72a88ea7",
   "metadata": {
    "ExecuteTime": {
     "end_time": "2025-02-25T14:39:51.637754Z",
     "start_time": "2025-02-25T14:39:51.556721Z"
    }
   },
   "outputs": [
    {
     "data": {
      "text/plain": [
       "0.9985707613464394"
      ]
     },
     "execution_count": 20,
     "metadata": {},
     "output_type": "execute_result"
    }
   ],
   "source": [
    "float(util.cos_sim(alt_vec0, vec0))"
   ]
  },
  {
   "cell_type": "markdown",
   "id": "4f921b26",
   "metadata": {},
   "source": [
    "# All of them!"
   ]
  },
  {
   "cell_type": "code",
   "execution_count": 27,
   "id": "3e7ea86f",
   "metadata": {
    "ExecuteTime": {
     "end_time": "2025-02-27T08:18:54.186557Z",
     "start_time": "2025-02-27T08:18:54.182436Z"
    }
   },
   "outputs": [],
   "source": [
    "old_folder='./ProcessedData/'\n",
    "new_folder='./NewProcessedData/'"
   ]
  },
  {
   "cell_type": "code",
   "execution_count": 28,
   "id": "bae3d403",
   "metadata": {
    "ExecuteTime": {
     "end_time": "2025-02-27T08:18:54.474126Z",
     "start_time": "2025-02-27T08:18:54.468865Z"
    }
   },
   "outputs": [],
   "source": [
    "old_files=os.listdir(old_folder)\n",
    "new_files=os.listdir(new_folder)"
   ]
  },
  {
   "cell_type": "code",
   "execution_count": 29,
   "id": "ed37ac1c",
   "metadata": {
    "ExecuteTime": {
     "end_time": "2025-02-27T08:18:54.766100Z",
     "start_time": "2025-02-27T08:18:54.761670Z"
    }
   },
   "outputs": [],
   "source": [
    "old_files.sort()"
   ]
  },
  {
   "cell_type": "code",
   "execution_count": 30,
   "id": "b5c487bf",
   "metadata": {
    "ExecuteTime": {
     "end_time": "2025-02-27T08:18:55.872933Z",
     "start_time": "2025-02-27T08:18:55.176825Z"
    }
   },
   "outputs": [
    {
     "data": {
      "application/vnd.jupyter.widget-view+json": {
       "model_id": "1446dba8863a4f7385493babef5ec69c",
       "version_major": 2,
       "version_minor": 0
      },
      "text/plain": [
       "  0%|          | 0/190 [00:00<?, ?it/s]"
      ]
     },
     "metadata": {},
     "output_type": "display_data"
    },
    {
     "name": "stdout",
     "output_type": "stream",
     "text": [
      "2015_01_ANGLO_AMERICAN_PLC.txt          \tcos-sim=0.9998\n",
      "2015_10_BT_GROUP_PLC.txt                \tcos-sim=0.9984\n",
      "2015_10_VODAFONE_GROUP_PLC.txt          \tcos-sim=0.9998\n",
      "2016_01_ANGLO_AMERICAN_PLC.txt          \tcos-sim=0.9998\n",
      "2016_10_BT_GROUP_PLC.txt                \tcos-sim=0.9983\n",
      "2016_10_VODAFONE_GROUP_PLC.txt          \tcos-sim=0.9999\n",
      "2016_11_GOOD_ENERGY_GROUP_PLC.txt       \tcos-sim=0.9994\n",
      "2016_11_SSE_PLC.txt                     \tcos-sim=0.9992\n",
      "2017_01_ANGLO_AMERICAN_PLC.txt          \tcos-sim=0.9997\n",
      "2017_10_VODAFONE_GROUP_PLC.txt          \tcos-sim=0.9995\n",
      "2017_11_GOOD_ENERGY_GROUP_PLC.txt       \tcos-sim=0.9989\n",
      "2017_11_RENEWI_PLC.txt                  \tcos-sim=0.9984\n",
      "2017_11_SSE_PLC.txt                     \tcos-sim=0.9995\n",
      "2018_01_ANGLO_AMERICAN_PLC.txt          \tcos-sim=0.9998\n",
      "2018_10_BT_GROUP_PLC.txt                \tcos-sim=0.9986\n",
      "2018_10_SPIRENT_COMMUNICATIONS_PLC.txt  \tcos-sim=0.9996\n",
      "2018_10_VODAFONE_GROUP_PLC.txt          \tcos-sim=0.9999\n",
      "2018_11_CENTRICA_PLC.txt                \tcos-sim=0.9890\n",
      "2018_11_GOOD_ENERGY_GROUP_PLC.txt       \tcos-sim=0.9987\n",
      "2018_11_RENEWI_PLC.txt                  \tcos-sim=0.9902\n",
      "2018_11_SSE_PLC.txt                     \tcos-sim=0.9998\n",
      "2019_10_BT_GROUP_PLC.txt                \tcos-sim=0.9986\n",
      "2019_10_FILTRONIC_PLC.txt               \tcos-sim=0.9975\n",
      "2019_10_SPIRENT_COMMUNICATIONS_PLC.txt  \tcos-sim=0.9988\n",
      "2019_10_VODAFONE_GROUP_PLC.txt          \tcos-sim=0.9991\n",
      "2019_11_CENTRICA_PLC.txt                \tcos-sim=0.9889\n",
      "2019_11_GOOD_ENERGY_GROUP_PLC.txt       \tcos-sim=0.9991\n",
      "2019_11_RENEWI_PLC.txt                  \tcos-sim=0.9996\n",
      "2019_11_SSE_PLC.txt                     \tcos-sim=0.9989\n",
      "2019_11_YU_GROUP_PLC.txt                \tcos-sim=0.9988\n",
      "2020_10_BT_GROUP_PLC.txt                \tcos-sim=0.9997\n",
      "2020_10_FILTRONIC_PLC.txt               \tcos-sim=0.9986\n",
      "2020_10_HELIOS_TOWERS_PLC.txt           \tcos-sim=0.9904\n",
      "2020_10_SPIRENT_COMMUNICATIONS_PLC.txt  \tcos-sim=0.9991\n",
      "2020_10_VODAFONE_GROUP_PLC.txt          \tcos-sim=0.9998\n",
      "2020_11_CENTRICA_PLC.txt                \tcos-sim=0.9976\n",
      "2020_11_GOOD_ENERGY_GROUP_PLC.txt       \tcos-sim=0.9986\n",
      "2020_11_NATIONAL_GRID_PLC.txt           \tcos-sim=0.9998\n",
      "2020_11_SEVERN_TRENT_PLC.txt            \tcos-sim=0.9991\n",
      "2020_11_SSE_PLC.txt                     \tcos-sim=0.9997\n",
      "2020_11_YU_GROUP_PLC.txt                \tcos-sim=0.9995\n",
      "2021_10_AIRTEL_AFRICA_PLC.txt           \tcos-sim=0.9991\n",
      "2021_10_BT_GROUP_PLC.txt                \tcos-sim=0.9993\n",
      "2021_10_FILTRONIC_PLC.txt               \tcos-sim=0.9891\n",
      "2021_10_HELIOS_TOWERS_PLC.txt           \tcos-sim=0.9952\n",
      "2021_10_SPIRENT_COMMUNICATIONS_PLC.txt  \tcos-sim=0.9987\n",
      "2021_10_VODAFONE_GROUP_PLC.txt          \tcos-sim=0.9997\n",
      "2021_11_CENTRICA_PLC.txt                \tcos-sim=0.9981\n",
      "2021_11_NATIONAL_GRID_PLC.txt           \tcos-sim=0.9999\n",
      "2021_11_PENNON_GROUP_PLC.txt            \tcos-sim=0.9995\n",
      "2021_11_RENEWI_PLC.txt                  \tcos-sim=0.9989\n",
      "2021_11_YU_GROUP_PLC.txt                \tcos-sim=0.9984\n",
      "2022_10_AIRTEL_AFRICA_PLC.txt           \tcos-sim=0.9993\n",
      "2022_10_BT_GROUP_PLC.txt                \tcos-sim=0.9920\n",
      "2022_10_FILTRONIC_PLC.txt               \tcos-sim=0.9891\n",
      "2022_10_GAMMA_COMMUNICATIONS_PLC.txt    \tcos-sim=0.9997\n",
      "2022_10_HELIOS_TOWERS_PLC.txt           \tcos-sim=0.9992\n",
      "2022_10_SPIRENT_COMMUNICATIONS_PLC.txt  \tcos-sim=0.9985\n",
      "2022_10_TELECOM_PLUS_PLC.txt            \tcos-sim=0.9864\n",
      "2022_10_VODAFONE_GROUP_PLC.txt          \tcos-sim=0.9997\n",
      "2022_11_CENTRICA_PLC.txt                \tcos-sim=0.9984\n",
      "2022_11_GOOD_ENERGY_GROUP_PLC.txt       \tcos-sim=0.9995\n",
      "2022_11_NATIONAL_GRID_PLC.txt           \tcos-sim=0.9994\n",
      "2022_11_PENNON_GROUP_PLC.txt            \tcos-sim=0.9994\n",
      "2022_11_RENEWI_PLC.txt                  \tcos-sim=0.9994\n",
      "2022_11_SEVERN_TRENT_PLC.txt            \tcos-sim=0.9990\n",
      "2023_10_BT_GROUP_PLC.txt                \tcos-sim=0.9957\n",
      "2023_10_FILTRONIC_PLC.txt               \tcos-sim=0.9934\n",
      "2023_10_HELIOS_TOWERS_PLC.txt           \tcos-sim=0.9990\n",
      "2023_10_SPIRENT_COMMUNICATIONS_PLC.txt  \tcos-sim=0.9991\n",
      "2023_10_TELECOM_PLUS_PLC.txt            \tcos-sim=0.9972\n",
      "2023_10_VODAFONE_GROUP_PLC.txt          \tcos-sim=0.9993\n",
      "2023_11_CENTRICA_PLC.txt                \tcos-sim=0.9978\n",
      "2023_11_DRAX_GROUP_PLC.txt              \tcos-sim=0.9951\n",
      "2023_11_GOOD_ENERGY_GROUP_PLC.txt       \tcos-sim=0.9994\n",
      "2023_11_NATIONAL_GRID_PLC.txt           \tcos-sim=0.9998\n",
      "2023_11_PENNON_GROUP_PLC.txt            \tcos-sim=0.9996\n",
      "2023_11_RENEWI_PLC.txt                  \tcos-sim=0.9991\n",
      "2023_11_SEVERN_TRENT_PLC.txt            \tcos-sim=0.9976\n",
      "2023_11_SSE_PLC.txt                     \tcos-sim=0.9996\n",
      "2023_11_YU_GROUP_PLC.txt                \tcos-sim=0.9991\n",
      "2024_10_AIRTEL_AFRICA_PLC.txt           \tcos-sim=0.9982\n",
      "2024_10_TELECOM_PLUS_PLC.txt            \tcos-sim=0.9989\n"
     ]
    }
   ],
   "source": [
    "cos_sims=[]\n",
    "for file in tqdm(old_files):\n",
    "    if file in new_files:\n",
    "        old_vec=np.genfromtxt(old_folder+file)\n",
    "        new_vec=np.genfromtxt(new_folder+file)\n",
    "        _cs=float(util.cos_sim(old_vec, new_vec))\n",
    "        print(f'{file:40}\\tcos-sim={_cs:.4f}')\n",
    "        cos_sims.append(_cs)"
   ]
  },
  {
   "cell_type": "code",
   "execution_count": 31,
   "id": "3eb6b063",
   "metadata": {
    "ExecuteTime": {
     "end_time": "2025-02-27T08:19:28.584897Z",
     "start_time": "2025-02-27T08:19:28.577104Z"
    }
   },
   "outputs": [
    {
     "data": {
      "text/plain": [
       "0.9863803088162657"
      ]
     },
     "execution_count": 31,
     "metadata": {},
     "output_type": "execute_result"
    }
   ],
   "source": [
    "min(cos_sims)"
   ]
  },
  {
   "cell_type": "code",
   "execution_count": null,
   "id": "8c1b9524",
   "metadata": {},
   "outputs": [],
   "source": []
  }
 ],
 "metadata": {
  "kernelspec": {
   "display_name": "Python 3 (ipykernel)",
   "language": "python",
   "name": "python3"
  },
  "language_info": {
   "codemirror_mode": {
    "name": "ipython",
    "version": 3
   },
   "file_extension": ".py",
   "mimetype": "text/x-python",
   "name": "python",
   "nbconvert_exporter": "python",
   "pygments_lexer": "ipython3",
   "version": "3.8.10"
  },
  "notify_time": "5",
  "toc": {
   "base_numbering": 1,
   "nav_menu": {},
   "number_sections": true,
   "sideBar": true,
   "skip_h1_title": false,
   "title_cell": "Table of Contents",
   "title_sidebar": "Contents",
   "toc_cell": false,
   "toc_position": {
    "height": "calc(100% - 180px)",
    "left": "10px",
    "top": "150px",
    "width": "288px"
   },
   "toc_section_display": true,
   "toc_window_display": true
  }
 },
 "nbformat": 4,
 "nbformat_minor": 5
}
