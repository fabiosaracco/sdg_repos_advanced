{
 "cells": [
  {
   "cell_type": "markdown",
   "id": "d2ec9993",
   "metadata": {},
   "source": [
    "# Intro"
   ]
  },
  {
   "cell_type": "code",
   "execution_count": 1,
   "id": "0b8a4df9",
   "metadata": {
    "ExecuteTime": {
     "end_time": "2025-02-25T13:18:24.196289Z",
     "start_time": "2025-02-25T13:18:24.184773Z"
    }
   },
   "outputs": [],
   "source": [
    "import os, sys"
   ]
  },
  {
   "cell_type": "code",
   "execution_count": 10,
   "id": "78d908d0",
   "metadata": {
    "ExecuteTime": {
     "end_time": "2025-02-25T13:26:50.131564Z",
     "start_time": "2025-02-25T13:26:49.991777Z"
    }
   },
   "outputs": [],
   "source": [
    "from tqdm.notebook import tqdm, trange"
   ]
  },
  {
   "cell_type": "markdown",
   "id": "981721ad",
   "metadata": {},
   "source": [
    "# Check folder"
   ]
  },
  {
   "cell_type": "code",
   "execution_count": 81,
   "id": "a72e00f0",
   "metadata": {
    "ExecuteTime": {
     "end_time": "2025-02-25T13:47:10.542334Z",
     "start_time": "2025-02-25T13:47:10.536622Z"
    }
   },
   "outputs": [],
   "source": [
    "rtf_folder='./rtf/'\n",
    "files=os.listdir(rtf_folder)"
   ]
  },
  {
   "cell_type": "code",
   "execution_count": 82,
   "id": "1b37e91d",
   "metadata": {
    "ExecuteTime": {
     "end_time": "2025-02-25T13:47:10.942546Z",
     "start_time": "2025-02-25T13:47:10.936115Z"
    }
   },
   "outputs": [],
   "source": [
    "files=[file for file in files if file.endswith('.rtf')]\n",
    "files.sort()"
   ]
  },
  {
   "cell_type": "markdown",
   "id": "7c15e382",
   "metadata": {},
   "source": [
    "# Files"
   ]
  },
  {
   "cell_type": "code",
   "execution_count": 6,
   "id": "6b962fb2",
   "metadata": {
    "ExecuteTime": {
     "end_time": "2025-02-25T13:20:38.116995Z",
     "start_time": "2025-02-25T13:20:38.107468Z"
    }
   },
   "outputs": [],
   "source": [
    "file0=files[0]"
   ]
  },
  {
   "cell_type": "code",
   "execution_count": 8,
   "id": "3fa3cb91",
   "metadata": {
    "ExecuteTime": {
     "end_time": "2025-02-25T13:21:03.362593Z",
     "start_time": "2025-02-25T13:21:03.354202Z"
    }
   },
   "outputs": [
    {
     "data": {
      "text/plain": [
       "['10', 'Telecommunications', 'AIRTEL AFRICA PLC', '2021']"
      ]
     },
     "execution_count": 8,
     "metadata": {},
     "output_type": "execute_result"
    }
   ],
   "source": [
    "file0.replace('.rtf', '').split('_')"
   ]
  },
  {
   "cell_type": "code",
   "execution_count": 80,
   "id": "1cac019b",
   "metadata": {
    "ExecuteTime": {
     "end_time": "2025-02-25T13:46:09.376438Z",
     "start_time": "2025-02-25T13:46:09.369831Z"
    }
   },
   "outputs": [
    {
     "name": "stdout",
     "output_type": "stream",
     "text": [
      "3_Consumer Staples_Tesco PLC_2016.rtf\n",
      "3_Consumer Staples_Tesco PLC_2017.rtf\n",
      "3_Consumer Staples_Tesco PLC_2018.rtf\n",
      "3_Consumer Staples_Tesco PLC_2019.rtf\n",
      "3_Consumer Staples_Tesco PLC_2020.rtf\n",
      "3_Consumer Staples_Tesco PLC_2022 (1).rtf\n",
      "3_Consumer Staples_Tesco PLC_2022.rtf\n",
      "3_Consumer Staples_Tesco PLC_2023.rtf\n"
     ]
    }
   ],
   "source": [
    "for i_f, file in enumerate(files):\n",
    "    if 'Tesco' in file:\n",
    "        print(file)"
   ]
  },
  {
   "cell_type": "code",
   "execution_count": 67,
   "id": "5792c957",
   "metadata": {
    "ExecuteTime": {
     "end_time": "2025-02-25T13:42:21.640234Z",
     "start_time": "2025-02-25T13:42:21.635566Z"
    }
   },
   "outputs": [],
   "source": [
    "file=files[i_f]"
   ]
  },
  {
   "cell_type": "code",
   "execution_count": 78,
   "id": "e8abd7e1",
   "metadata": {
    "ExecuteTime": {
     "end_time": "2025-02-25T13:45:40.345149Z",
     "start_time": "2025-02-25T13:45:40.341158Z"
    }
   },
   "outputs": [],
   "source": [
    "file='1_Basic Materials_ANGLO AMERICAN PLC_2019_1 (1).rtf'"
   ]
  },
  {
   "cell_type": "code",
   "execution_count": 79,
   "id": "20e6d9a8",
   "metadata": {
    "ExecuteTime": {
     "end_time": "2025-02-25T13:45:40.997651Z",
     "start_time": "2025-02-25T13:45:40.990463Z"
    }
   },
   "outputs": [
    {
     "data": {
      "text/plain": [
       "['1', 'Basic Materials', 'ANGLO AMERICAN PLC', '2019', '1 (1)']"
      ]
     },
     "execution_count": 79,
     "metadata": {},
     "output_type": "execute_result"
    }
   ],
   "source": [
    "file.replace('.rtf', '').split('_')"
   ]
  },
  {
   "cell_type": "code",
   "execution_count": 69,
   "id": "a588bbad",
   "metadata": {
    "ExecuteTime": {
     "end_time": "2025-02-25T13:42:27.121945Z",
     "start_time": "2025-02-25T13:42:27.114910Z"
    }
   },
   "outputs": [
    {
     "data": {
      "text/plain": [
       "('Tesco PLC', '03', 'Consumer Staples')"
      ]
     },
     "execution_count": 69,
     "metadata": {},
     "output_type": "execute_result"
    }
   ],
   "source": [
    "file2ysn(file)"
   ]
  },
  {
   "cell_type": "code",
   "execution_count": 77,
   "id": "d9f1bbff",
   "metadata": {
    "ExecuteTime": {
     "end_time": "2025-02-25T13:45:21.518846Z",
     "start_time": "2025-02-25T13:45:21.511554Z"
    }
   },
   "outputs": [
    {
     "data": {
      "text/plain": [
       "('2019', '01', 'ANGLO AMERICAN PLC')"
      ]
     },
     "execution_count": 77,
     "metadata": {},
     "output_type": "execute_result"
    }
   ],
   "source": [
    "file2ysn('1_Basic Materials_ANGLO AMERICAN PLC_2019_1 (1).rtf')"
   ]
  },
  {
   "cell_type": "code",
   "execution_count": 73,
   "id": "a47023e9",
   "metadata": {
    "ExecuteTime": {
     "end_time": "2025-02-25T13:43:13.603790Z",
     "start_time": "2025-02-25T13:43:13.596908Z"
    }
   },
   "outputs": [],
   "source": [
    "def file2ysn(file):\n",
    "    '''\n",
    "    From the file name return, respectively, the year, the sector and the name \n",
    "    '''\n",
    "    _split=file.replace('.rtf', '').split('_')\n",
    "    #if ' ' in _split[-1] and len(_split[-1])>4:\n",
    "    #    return _split[-1].split(' ')[0], _split[0].zfill(2), _split[-2]\n",
    "    if '(' in _split[-1] or len(_split[-1])<4:\n",
    "        return _split[-2], _split[0].zfill(2), _split[-3]\n",
    "    else:\n",
    "        return _split[-1], _split[0].zfill(2), _split[-2]"
   ]
  },
  {
   "cell_type": "code",
   "execution_count": 83,
   "id": "4b885b11",
   "metadata": {
    "ExecuteTime": {
     "end_time": "2025-02-25T13:47:19.430538Z",
     "start_time": "2025-02-25T13:47:19.397029Z"
    }
   },
   "outputs": [
    {
     "data": {
      "application/vnd.jupyter.widget-view+json": {
       "model_id": "54d26c7ca2a943a99c592feb698ef907",
       "version_major": 2,
       "version_minor": 0
      },
      "text/plain": [
       "  0%|          | 0/592 [00:00<?, ?it/s]"
      ]
     },
     "metadata": {},
     "output_type": "display_data"
    },
    {
     "name": "stdout",
     "output_type": "stream",
     "text": [
      "('2021', '10', 'AIRTEL AFRICA PLC')\n",
      "('2022', '10', 'AIRTEL AFRICA PLC')\n",
      "('2024', '10', 'AIRTEL AFRICA PLC')\n",
      "('2015', '10', 'BT GROUP PLC')\n",
      "('2016', '10', 'BT GROUP PLC')\n",
      "('2018', '10', 'BT GROUP PLC')\n",
      "('2019', '10', 'BT GROUP PLC')\n",
      "('2020', '10', 'BT GROUP PLC')\n",
      "('2021', '10', 'BT GROUP PLC')\n",
      "('2022', '10', 'BT GROUP PLC')\n",
      "('2023', '10', 'BT GROUP PLC')\n",
      "('2019', '10', 'FILTRONIC PLC')\n",
      "('2020', '10', 'FILTRONIC PLC')\n",
      "('2021', '10', 'FILTRONIC PLC')\n",
      "('2022', '10', 'FILTRONIC PLC')\n",
      "('2023', '10', 'FILTRONIC PLC')\n",
      "('2022', '10', 'GAMMA COMMUNICATIONS PLC')\n",
      "('2020', '10', 'HELIOS TOWERS PLC')\n",
      "('2021', '10', 'HELIOS TOWERS PLC')\n",
      "('2022', '10', 'HELIOS TOWERS PLC')\n",
      "('2023', '10', 'HELIOS TOWERS PLC')\n",
      "('2018', '10', 'SPIRENT COMMUNICATIONS PLC')\n",
      "('2019', '10', 'SPIRENT COMMUNICATIONS PLC')\n",
      "('2020', '10', 'SPIRENT COMMUNICATIONS PLC')\n",
      "('2021', '10', 'SPIRENT COMMUNICATIONS PLC')\n",
      "('2022', '10', 'SPIRENT COMMUNICATIONS PLC')\n",
      "('2023', '10', 'SPIRENT COMMUNICATIONS PLC')\n",
      "('2022', '10', 'TELECOM PLUS PLC')\n",
      "('2023', '10', 'TELECOM PLUS PLC')\n",
      "('2024', '10', 'TELECOM PLUS PLC')\n",
      "('2015', '10', 'VODAFONE GROUP PLC')\n",
      "('2016', '10', 'VODAFONE GROUP PLC')\n",
      "('2017', '10', 'VODAFONE GROUP PLC')\n",
      "('2018', '10', 'VODAFONE GROUP PLC')\n",
      "('2019', '10', 'VODAFONE GROUP PLC')\n",
      "('2020', '10', 'VODAFONE GROUP PLC')\n",
      "('2021', '10', 'VODAFONE GROUP PLC')\n",
      "('2022', '10', 'VODAFONE GROUP PLC')\n",
      "('2023', '10', 'VODAFONE GROUP PLC')\n",
      "('2016', '11', 'GOOD ENERGY GROUP PLC')\n",
      "('2017', '11', 'GOOD ENERGY GROUP PLC')\n",
      "('2018', '11', 'GOOD ENERGY GROUP PLC')\n",
      "('2019', '11', 'GOOD ENERGY GROUP PLC')\n",
      "('2020', '11', 'GOOD ENERGY GROUP PLC')\n",
      "('2022', '11', 'GOOD ENERGY GROUP PLC')\n",
      "('2023', '11', 'GOOD ENERGY GROUP PLC')\n",
      "('2020', '11', 'NATIONAL GRID PLC')\n",
      "('2021', '11', 'NATIONAL GRID PLC')\n",
      "('2022', '11', 'NATIONAL GRID PLC')\n",
      "('2023', '11', 'NATIONAL GRID PLC')\n",
      "('2016', '11', 'SSE PLC')\n",
      "('2017', '11', 'SSE PLC')\n",
      "('2018', '11', 'SSE PLC')\n",
      "('2019', '11', 'SSE PLC')\n",
      "('2020', '11', 'SSE PLC')\n",
      "('2023', '11', 'SSE PLC')\n",
      "('2020', '11', 'SEVERN TRENT PLC')\n",
      "('2022', '11', 'SEVERN TRENT PLC')\n",
      "('2023', '11', 'SEVERN TRENT PLC')\n",
      "('2023', '11', 'UNITED UTILITIES GROUP PLC')\n",
      "('2018', '11', 'CENTRICA PLC')\n",
      "('2019', '11', 'CENTRICA PLC')\n",
      "('2020', '11', 'CENTRICA PLC')\n",
      "('2021', '11', 'CENTRICA PLC')\n",
      "('2022', '11', 'CENTRICA PLC')\n",
      "('2023', '11', 'CENTRICA PLC')\n",
      "('2023', '11', 'DRAX GROUP PLC')\n",
      "('2021', '11', 'PENNON GROUP PLC')\n",
      "('2022', '11', 'PENNON GROUP PLC')\n",
      "('2023', '11', 'PENNON GROUP PLC')\n",
      "('2017', '11', 'RENEWI PLC')\n",
      "('2018', '11', 'RENEWI PLC')\n",
      "('2019', '11', 'RENEWI PLC')\n",
      "('2021', '11', 'RENEWI PLC')\n",
      "('2022', '11', 'RENEWI PLC')\n",
      "('2023', '11', 'RENEWI PLC')\n",
      "('2019', '11', 'YU GROUP PLC')\n",
      "('2020', '11', 'YU GROUP PLC')\n",
      "('2021', '11', 'YU GROUP PLC')\n",
      "('2023', '11', 'YU GROUP PLC')\n",
      "('2015', '01', 'ANGLO AMERICAN PLC')\n",
      "('2016', '01', 'ANGLO AMERICAN PLC')\n",
      "('2017', '01', 'ANGLO AMERICAN PLC')\n",
      "('2018', '01', 'ANGLO AMERICAN PLC')\n",
      "('2019', '01', 'ANGLO AMERICAN PLC')\n",
      "('2019', '01', 'ANGLO AMERICAN PLC')\n",
      "('2020', '01', 'ANGLO AMERICAN PLC')\n",
      "('2021', '01', 'ANGLO AMERICAN PLC')\n",
      "('2022', '01', 'ANGLO AMERICAN PLC')\n",
      "('2023', '01', 'ANGLO AMERICAN PLC')\n",
      "('2015', '01', 'ANTOFAGASTA PLC')\n",
      "('2016', '01', 'ANTOFAGASTA PLC')\n",
      "('2018', '01', 'ANTOFAGASTA PLC')\n",
      "('2018', '01', 'ANTOFAGASTA PLC')\n",
      "('2019', '01', 'ANTOFAGASTA PLC')\n",
      "('2019', '01', 'ANTOFAGASTA PLC')\n",
      "('2020', '01', 'ANTOFAGASTA PLC')\n",
      "('2020', '01', 'ANTOFAGASTA PLC')\n",
      "('2021', '01', 'ANTOFAGASTA PLC')\n",
      "('2022', '01', 'ANTOFAGASTA PLC')\n",
      "('2022', '01', 'ANTOFAGASTA PLC')\n",
      "('2015', '01', 'CRODA INTERNATIONAL PLC')\n",
      "('2016', '01', 'CRODA INTERNATIONAL PLC')\n",
      "('2017', '01', 'CRODA INTERNATIONAL PLC')\n",
      "('2018', '01', 'CRODA INTERNATIONAL PLC')\n",
      "('2019', '01', 'CRODA INTERNATIONAL PLC')\n",
      "('2020', '01', 'CRODA INTERNATIONAL PLC')\n",
      "('2021', '01', 'CRODA INTERNATIONAL PLC')\n",
      "('2022', '01', 'CRODA INTERNATIONAL PLC')\n",
      "('2023', '01', 'CRODA INTERNATIONAL PLC')\n",
      "('2017', '01', 'ENDEAVOUR MINING PLC')\n",
      "('2018', '01', 'ENDEAVOUR MINING PLC')\n",
      "('2018', '01', 'ENDEAVOUR MINING PLC')\n",
      "('2019', '01', 'ENDEAVOUR MINING PLC')\n",
      "('2020', '01', 'ENDEAVOUR MINING PLC')\n",
      "('2021', '01', 'ENDEAVOUR MINING PLC')\n",
      "('2021', '01', 'ENDEAVOUR MINING PLC')\n",
      "('2022', '01', 'ENDEAVOUR MINING PLC')\n",
      "('2023', '01', 'ENDEAVOUR MINING PLC')\n",
      "('2023', '01', 'ENDEAVOUR MINING PLC')\n",
      "('2021', '01', 'EVRAZ PLC')\n",
      "('2021', '01', 'HOCHSCHILD MINING PLC')\n",
      "('2015', '01', 'JOHNSON MATTHEY PLC')\n",
      "('2016', '01', 'JOHNSON MATTHEY PLC')\n",
      "('2017', '01', 'JOHNSON MATTHEY PLC')\n",
      "('2017', '01', 'JOHNSON MATTHEY PLC')\n",
      "('2018', '01', 'JOHNSON MATTHEY PLC')\n",
      "('2019', '01', 'JOHNSON MATTHEY PLC')\n",
      "('2020', '01', 'JOHNSON MATTHEY PLC')\n",
      "('2021', '01', 'JOHNSON MATTHEY PLC')\n",
      "('2022', '01', 'JOHNSON MATTHEY PLC')\n",
      "('2023', '01', 'JOHNSON MATTHEY PLC')\n",
      "('2015', '01', 'RIO TINTO PLC')\n",
      "('2016', '01', 'RIO TINTO PLC')\n",
      "('2017', '01', 'RIO TINTO PLC')\n",
      "('2018', '01', 'RIO TINTO PLC')\n",
      "('2019', '01', 'RIO TINTO PLC')\n",
      "('2020', '01', 'RIO TINTO PLC')\n",
      "('2021', '01', 'RIO TINTO PLC')\n",
      "('2022', '01', 'RIO TINTO PLC')\n",
      "('2023', '01', 'RIO TINTO PLC')\n",
      "('2015', '01', 'SYNTHOMER PLC')\n",
      "('2016', '01', 'SYNTHOMER PLC')\n",
      "('2017', '01', 'SYNTHOMER PLC')\n",
      "('2018', '01', 'SYNTHOMER PLC')\n",
      "('2019', '01', 'SYNTHOMER PLC')\n",
      "('2019', '01', 'SYNTHOMER PLC')\n",
      "('2020', '01', 'SYNTHOMER PLC')\n",
      "('2020', '01', 'SYNTHOMER PLC')\n",
      "('2021', '01', 'SYNTHOMER PLC')\n",
      "('2021', '01', 'SYNTHOMER PLC')\n",
      "('2022', '01', 'SYNTHOMER PLC')\n",
      "('2022', '01', 'SYNTHOMER PLC')\n",
      "('2023', '01', 'SYNTHOMER PLC')\n",
      "('2015', '02', 'BARRATT DEVELOPMENTS PLC')\n",
      "('2016', '02', 'BARRATT DEVELOPMENTS PLC')\n",
      "('2017', '02', 'BARRATT DEVELOPMENTS PLC')\n",
      "('2018', '02', 'BARRATT DEVELOPMENTS PLC')\n",
      "('2019', '02', 'BARRATT DEVELOPMENTS PLC')\n",
      "('2020', '02', 'BARRATT DEVELOPMENTS PLC')\n",
      "('2021', '02', 'BARRATT DEVELOPMENTS PLC')\n",
      "('2022', '02', 'BARRATT DEVELOPMENTS PLC')\n",
      "('2023', '02', 'BARRATT DEVELOPMENTS PLC')\n",
      "('2015', '02', 'BERKELEY GROUP HOLDINGS (THE) PLC')\n",
      "('2016', '02', 'BERKELEY GROUP HOLDINGS (THE) PLC')\n",
      "('2017', '02', 'BERKELEY GROUP HOLDINGS (THE) PLC')\n",
      "('2018', '02', 'BERKELEY GROUP HOLDINGS (THE) PLC')\n",
      "('2019', '02', 'BERKELEY GROUP HOLDINGS (THE) PLC')\n",
      "('2020', '02', 'BERKELEY GROUP HOLDINGS (THE) PLC')\n",
      "('2021', '02', 'BERKELEY GROUP HOLDINGS (THE) PLC')\n",
      "('2022', '02', 'BERKELEY GROUP HOLDINGS (THE) PLC')\n",
      "('2023', '02', 'BERKELEY GROUP HOLDINGS (THE) PLC')\n",
      "('2015', '02', 'BURBERRY GROUP PLC')\n",
      "('2016', '02', 'BURBERRY GROUP PLC')\n",
      "('2017', '02', 'BURBERRY GROUP PLC')\n",
      "('2018', '02', 'BURBERRY GROUP PLC')\n",
      "('2019', '02', 'BURBERRY GROUP PLC')\n",
      "('2020', '02', 'BURBERRY GROUP PLC')\n",
      "('2021', '02', 'BURBERRY GROUP PLC')\n",
      "('2022', '02', 'BURBERRY GROUP PLC')\n",
      "('2023', '02', 'BURBERRY GROUP PLC')\n",
      "('2019', '02', 'COMPASS GROUP PLC')\n",
      "('2020', '02', 'COMPASS GROUP PLC')\n",
      "('2021', '02', 'COMPASS GROUP PLC')\n",
      "('2022', '02', 'COMPASS GROUP PLC')\n",
      "('2023', '02', 'COMPASS GROUP PLC')\n",
      "('2015', '02', 'INFORMA PLC')\n",
      "('2016', '02', 'INFORMA PLC')\n",
      "('2017', '02', 'INFORMA PLC')\n",
      "('2018', '02', 'INFORMA PLC')\n",
      "('2019', '02', 'INFORMA PLC')\n",
      "('2020', '02', 'INFORMA PLC')\n",
      "('2021', '02', 'INFORMA PLC')\n",
      "('2022', '02', 'INFORMA PLC')\n",
      "('2023', '02', 'INFORMA PLC')\n",
      "('2015', '02', 'INTERCONTINENTAL HOTELS GROUP PLC')\n",
      "('2016', '02', 'INTERCONTINENTAL HOTELS GROUP PLC')\n",
      "('2017', '02', 'INTERCONTINENTAL HOTELS GROUP PLC')\n",
      "('2018', '02', 'INTERCONTINENTAL HOTELS GROUP PLC')\n",
      "('2019', '02', 'INTERCONTINENTAL HOTELS GROUP PLC')\n",
      "('2020', '02', 'INTERCONTINENTAL HOTELS GROUP PLC')\n",
      "('2021', '02', 'INTERCONTINENTAL HOTELS GROUP PLC')\n",
      "('2022', '02', 'INTERCONTINENTAL HOTELS GROUP PLC')\n",
      "('2023', '02', 'INTERCONTINENTAL HOTELS GROUP PLC')\n",
      "('2015', '02', 'NEXT PLC')\n",
      "('2016', '02', 'NEXT PLC')\n",
      "('2016', '02', 'NEXT PLC')\n",
      "('2017', '02', 'NEXT PLC')\n",
      "('2018', '02', 'NEXT PLC')\n",
      "('2019', '02', 'NEXT PLC')\n",
      "('2020', '02', 'NEXT PLC')\n",
      "('2021', '02', 'NEXT PLC')\n",
      "('2022', '02', 'NEXT PLC')\n",
      "('2023', '02', 'NEXT PLC')\n",
      "('2015', '02', 'PERSIMMON PLC')\n",
      "('2016', '02', 'PERSIMMON PLC')\n",
      "('2017', '02', 'PERSIMMON PLC')\n",
      "('2018', '02', 'PERSIMMON PLC')\n",
      "('2019', '02', 'PERSIMMON PLC')\n",
      "('2020', '02', 'PERSIMMON PLC')\n",
      "('2021', '02', 'PERSIMMON PLC')\n",
      "('2022', '02', 'PERSIMMON PLC')\n",
      "('2023', '02', 'PERSIMMON PLC')\n",
      "('2015', '02', 'RELX PLC')\n",
      "('2016', '02', 'RELX PLC')\n",
      "('2017', '02', 'RELX PLC')\n",
      "('2018', '02', 'RELX PLC')\n",
      "('2018', '02', 'RELX PLC')\n",
      "('2019', '02', 'RELX PLC')\n",
      "('2020', '02', 'RELX PLC')\n",
      "('2021', '02', 'RELX PLC')\n",
      "('2022', '02', 'RELX PLC')\n",
      "('2023', '02', 'RELX PLC')\n",
      "('2015', '02', 'WHITBREAD PLC')\n",
      "('2017', '02', 'WHITBREAD PLC')\n",
      "('2018', '02', 'WHITBREAD PLC')\n",
      "('2022', '02', 'WHITBREAD PLC')\n",
      "('2023', '02', 'WHITBREAD PLC')\n",
      "('2015', '03', 'Associated British Foods PLC')\n",
      "('2016', '03', 'Associated British Foods PLC')\n",
      "('2017', '03', 'Associated British Foods PLC')\n",
      "('2018', '03', 'Associated British Foods PLC')\n",
      "('2019', '03', 'Associated British Foods PLC')\n",
      "('2020', '03', 'Associated British Foods PLC')\n",
      "('2021', '03', 'Associated British Foods PLC')\n",
      "('2022', '03', 'Associated British Foods PLC')\n",
      "('2023', '03', 'Associated British Foods PLC')\n",
      "('2015', '03', 'British American Tobacco PLC')\n",
      "('2016', '03', 'British American Tobacco PLC')\n",
      "('2017', '03', 'British American Tobacco PLC')\n",
      "('2018', '03', 'British American Tobacco PLC')\n",
      "('2019', '03', 'British American Tobacco PLC')\n",
      "('2022', '03', 'British American Tobacco PLC')\n",
      "('2023', '03', 'British American Tobacco PLC')\n",
      "('2016', '03', 'Coca-Cola Europacific Partners PLC')\n",
      "('2017', '03', 'Coca-Cola Europacific Partners PLC')\n",
      "('2018', '03', 'Coca-Cola Europacific Partners PLC')\n",
      "('2019', '03', 'Coca-Cola Europacific Partners PLC')\n",
      "('2020', '03', 'Coca-Cola Europacific Partners PLC')\n",
      "('2021', '03', 'Coca-Cola Europacific Partners PLC')\n",
      "('2022', '03', 'Coca-Cola Europacific Partners PLC')\n",
      "('2023', '03', 'Coca-Cola Europacific Partners PLC')\n",
      "('2015', '03', 'Diageo PLC')\n",
      "('2016', '03', 'Diageo PLC')\n",
      "('2017', '03', 'Diageo PLC')\n",
      "('2018', '03', 'Diageo PLC')\n",
      "('2019', '03', 'Diageo PLC')\n",
      "('2021', '03', 'Diageo PLC')\n",
      "('2022', '03', 'Diageo PLC')\n",
      "('2023', '03', 'Diageo PLC')\n",
      "('2015', '03', 'Imperial Brands PLC')\n",
      "('2016', '03', 'Imperial Brands PLC')\n",
      "('2017', '03', 'Imperial Brands PLC')\n",
      "('2018', '03', 'Imperial Brands PLC')\n",
      "('2019', '03', 'Imperial Brands PLC')\n",
      "('2020', '03', 'Imperial Brands PLC')\n",
      "('2021', '03', 'Imperial Brands PLC')\n",
      "('2022', '03', 'Imperial Brands PLC')\n",
      "('2023', '03', 'Imperial Brands PLC')\n",
      "('2015', '03', 'Marks and Spencer Group PLC')\n",
      "('2016', '03', 'Marks and Spencer Group PLC')\n",
      "('2017', '03', 'Marks and Spencer Group PLC')\n",
      "('2018', '03', 'Marks and Spencer Group PLC')\n",
      "('2019', '03', 'Marks and Spencer Group PLC')\n",
      "('2020', '03', 'Marks and Spencer Group PLC')\n",
      "('2021', '03', 'Marks and Spencer Group PLC')\n",
      "('2022', '03', 'Marks and Spencer Group PLC')\n",
      "('2023', '03', 'Marks and Spencer Group PLC')\n",
      "('2015', '03', 'Reckitt Benckiser Group PLC')\n",
      "('2016', '03', 'Reckitt Benckiser Group PLC')\n",
      "('2017', '03', 'Reckitt Benckiser Group PLC')\n",
      "('2018', '03', 'Reckitt Benckiser Group PLC')\n",
      "('2019', '03', 'Reckitt Benckiser Group PLC')\n",
      "('2020', '03', 'Reckitt Benckiser Group PLC')\n",
      "('2021', '03', 'Reckitt Benckiser Group PLC')\n",
      "('2022', '03', 'Reckitt Benckiser Group PLC')\n",
      "('2023', '03', 'Reckitt Benckiser Group PLC')\n",
      "('2015', '03', 'Sainsbury (J) PLC')\n",
      "('2016', '03', 'Sainsbury (J) PLC')\n",
      "('2017', '03', 'Sainsbury (J) PLC')\n",
      "('2018', '03', 'Sainsbury (J) PLC')\n",
      "('2019', '03', 'Sainsbury (J) PLC')\n",
      "('2020', '03', 'Sainsbury (J) PLC')\n",
      "('2021', '03', 'Sainsbury (J) PLC')\n",
      "('2022', '03', 'Sainsbury (J) PLC')\n",
      "('2023', '03', 'Sainsbury (J) PLC')\n",
      "('2016', '03', 'Tesco PLC')\n",
      "('2017', '03', 'Tesco PLC')\n",
      "('2018', '03', 'Tesco PLC')\n",
      "('2019', '03', 'Tesco PLC')\n",
      "('2020', '03', 'Tesco PLC')\n",
      "('2022', '03', 'Tesco PLC')\n",
      "('2022', '03', 'Tesco PLC')\n",
      "('2023', '03', 'Tesco PLC')\n",
      "('2015', '03', 'Unilever PLC')\n",
      "('2016', '03', 'Unilever PLC')\n",
      "('2017', '03', 'Unilever PLC')\n",
      "('2018', '03', 'Unilever PLC')\n",
      "('2019', '03', 'Unilever PLC')\n",
      "('2020', '03', 'Unilever PLC')\n",
      "('2021', '03', 'Unilever PLC')\n",
      "('2022', '03', 'Unilever PLC')\n",
      "('2023', '03', 'Unilever PLC')\n",
      "('2019', '04', 'DIVERSIFIED ENERGY COMPANY PLC')\n",
      "('2020', '04', 'DIVERSIFIED ENERGY COMPANY PLC')\n",
      "('2021', '04', 'DIVERSIFIED ENERGY COMPANY PLC')\n",
      "('2022', '04', 'DIVERSIFIED ENERGY COMPANY PLC')\n",
      "('2023', '04', 'DIVERSIFIED ENERGY COMPANY PLC')\n",
      "('2017', '04', 'Shell')\n",
      "('2018', '04', 'Shell')\n",
      "('2019', '04', 'Shell')\n",
      "('2021', '04', 'Shell')\n",
      "('2022', '04', 'Shell')\n",
      "('2023', '04', 'Shell')\n",
      "('2015', '04', 'BP PLC')\n",
      "('2016', '04', 'BP PLC')\n",
      "('2017', '04', 'BP PLC')\n",
      "('2018', '04', 'BP PLC')\n",
      "('2019', '04', 'BP PLC')\n",
      "('2020', '04', 'BP PLC')\n",
      "('2023', '04', 'HARBOUR ENERGY PLC')\n",
      "('2019', '04', 'Energean')\n",
      "('2020', '04', 'Energean')\n",
      "('2021', '04', 'Energean')\n",
      "('2022', '04', 'Energean')\n",
      "('2023', '04', 'Energean')\n",
      "('2022', '04', 'ITHACA ENERGY PLC')\n",
      "('2023', '04', 'ITHACA ENERGY PLC')\n",
      "('2019', '04', 'WOOD GROUP (JOHN) PLC')\n",
      "('2020', '04', 'WOOD GROUP (JOHN) PLC')\n",
      "('2021', '04', 'WOOD GROUP (JOHN) PLC')\n",
      "('2022', '04', 'WOOD GROUP (JOHN) PLC')\n",
      "('2023', '04', 'WOOD GROUP (JOHN) PLC')\n",
      "('2019', '04', 'SERICA ENERGY PLC')\n",
      "('2020', '04', 'SERICA ENERGY PLC')\n",
      "('2021', '04', 'SERICA ENERGY PLC')\n",
      "('2022', '04', 'SERICA ENERGY PLC')\n",
      "('2023', '04', 'SERICA ENERGY PLC')\n",
      "('2021', '04', 'ASHTEAD TECHNOLOGY HOLDINGS PLC')\n",
      "('2022', '04', 'ASHTEAD TECHNOLOGY HOLDINGS PLC')\n",
      "('2023', '04', 'ASHTEAD TECHNOLOGY HOLDINGS PLC')\n",
      "('2015', '04', 'HUNTING PLC')\n",
      "('2016', '04', 'HUNTING PLC')\n",
      "('2017', '04', 'HUNTING PLC')\n",
      "('2018', '04', 'HUNTING PLC')\n",
      "('2019', '04', 'HUNTING PLC')\n",
      "('2020', '04', 'HUNTING PLC')\n",
      "('2021', '04', 'HUNTING PLC')\n",
      "('2022', '04', 'HUNTING PLC')\n",
      "('2023', '04', 'HUNTING PLC')\n",
      "('2015', '05', 'AVIVA PLC')\n",
      "('2016', '05', 'AVIVA PLC')\n",
      "('2017', '05', 'AVIVA PLC')\n",
      "('2018', '05', 'AVIVA PLC')\n",
      "('2019', '05', 'AVIVA PLC')\n",
      "('2020', '05', 'AVIVA PLC')\n",
      "('2021', '05', 'AVIVA PLC')\n",
      "('2022', '05', 'AVIVA PLC')\n",
      "('2023', '05', 'AVIVA PLC')\n",
      "('2016', '05', 'BARCLAYS PLC')\n",
      "('2017', '05', 'BARCLAYS PLC')\n",
      "('2018', '05', 'BARCLAYS PLC')\n",
      "('2019', '05', 'BARCLAYS PLC')\n",
      "('2020', '05', 'BARCLAYS PLC')\n",
      "('2021', '05', 'BARCLAYS PLC')\n",
      "('2022', '05', 'BARCLAYS PLC')\n",
      "('2023', '05', 'BARCLAYS PLC')\n",
      "('2015', '05', 'HSBC HOLDINGS PLC')\n",
      "('2016', '05', 'HSBC HOLDINGS PLC')\n",
      "('2017', '05', 'HSBC HOLDINGS PLC')\n",
      "('2018', '05', 'HSBC HOLDINGS PLC')\n",
      "('2019', '05', 'HSBC HOLDINGS PLC')\n",
      "('2020', '05', 'HSBC HOLDINGS PLC')\n",
      "('2021', '05', 'HSBC HOLDINGS PLC')\n",
      "('2022', '05', 'HSBC HOLDINGS PLC')\n",
      "('2023', '05', 'HSBC HOLDINGS PLC')\n",
      "('2018', '05', 'LEGAL & GENERAL GROUP PLC')\n",
      "('2019', '05', 'LEGAL & GENERAL GROUP PLC')\n",
      "('2020', '05', 'LEGAL & GENERAL GROUP PLC')\n",
      "('2021', '05', 'LEGAL & GENERAL GROUP PLC')\n",
      "('2022', '05', 'LEGAL & GENERAL GROUP PLC')\n",
      "('2023', '05', 'LEGAL & GENERAL GROUP PLC')\n",
      "('2017', '05', 'LONDON STOCK EXCHANGE GROUP PLC')\n",
      "('2018', '05', 'LONDON STOCK EXCHANGE GROUP PLC')\n",
      "('2019', '05', 'LONDON STOCK EXCHANGE GROUP PLC')\n",
      "('2020', '05', 'LONDON STOCK EXCHANGE GROUP PLC')\n",
      "('2021', '05', 'LONDON STOCK EXCHANGE GROUP PLC')\n",
      "('2022', '05', 'LONDON STOCK EXCHANGE GROUP PLC')\n",
      "('2023', '05', 'LONDON STOCK EXCHANGE GROUP PLC')\n",
      "('2020', '05', 'NATWEST GROUP PLC')\n",
      "('2021', '05', 'NATWEST GROUP PLC')\n",
      "('2018', '05', 'PRUDENTIAL PLC')\n",
      "('2019', '05', 'PRUDENTIAL PLC')\n",
      "('2023', '05', 'SCOTTISH MORTGAGE INVESTMENT TRUST PLC')\n",
      "('2015', '05', 'STANDARD CHARTERED PLC')\n",
      "('2016', '05', 'STANDARD CHARTERED PLC')\n",
      "('2016', '05', 'STANDARD CHARTERED PLC')\n",
      "('2018', '05', 'STANDARD CHARTERED PLC')\n",
      "('2019', '05', 'STANDARD CHARTERED PLC')\n",
      "('2020', '05', 'STANDARD CHARTERED PLC')\n",
      "('2021', '05', 'STANDARD CHARTERED PLC')\n",
      "('2022', '05', 'STANDARD CHARTERED PLC')\n",
      "('2023', '05', 'STANDARD CHARTERED PLC')\n",
      "('2015', '06', 'AstraZeneca PLC')\n",
      "('2017', '06', 'AstraZeneca PLC')\n",
      "('2018', '06', 'AstraZeneca PLC')\n",
      "('2019', '06', 'AstraZeneca PLC')\n",
      "('2020', '06', 'AstraZeneca PLC')\n",
      "('2021', '06', 'AstraZeneca PLC')\n",
      "('2022', '06', 'AstraZeneca PLC')\n",
      "('2023', '06', 'AstraZeneca PLC')\n",
      "('2019', '06', 'Convatec Group PLC')\n",
      "('2020', '06', 'Convatec Group PLC')\n",
      "('2021', '06', 'Convatec Group PLC')\n",
      "('2022', '06', 'Convatec Group PLC')\n",
      "('2023', '06', 'Convatec Group PLC')\n",
      "('2015', '06', 'GSK PLC')\n",
      "('2016', '06', 'GSK PLC')\n",
      "('2017', '06', 'GSK PLC')\n",
      "('2018', '06', 'GSK PLC')\n",
      "('2019', '06', 'GSK PLC')\n",
      "('2020', '06', 'GSK PLC')\n",
      "('2021', '06', 'GSK PLC')\n",
      "('2022', '06', 'GSK PLC')\n",
      "('2023', '06', 'GSK PLC')\n",
      "('2019', '06', 'Genus PLC')\n",
      "('2020', '06', 'Genus PLC')\n",
      "('2021', '06', 'Genus PLC')\n",
      "('2022', '06', 'Genus PLC')\n",
      "('2023', '06', 'Genus PLC')\n",
      "('2020', '06', 'Hikma Pharmaceuticals PLC')\n",
      "('2022', '06', 'Hikma Pharmaceuticals PLC')\n",
      "('2023', '06', 'Hikma Pharmaceuticals PLC')\n",
      "('2022', '06', 'Indivior PLC')\n",
      "('2023', '06', 'Indivior PLC')\n",
      "('2022', '06', 'Oxford Nanopore Technologies PLC')\n",
      "('2023', '06', 'PureTech Health PLC')\n",
      "('2017', '06', 'Smith & Nephew PLC')\n",
      "('2018', '06', 'Smith & Nephew PLC')\n",
      "('2019', '06', 'Smith & Nephew PLC')\n",
      "('2020', '06', 'Smith & Nephew PLC')\n",
      "('2021', '06', 'Smith & Nephew PLC')\n",
      "('2022', '06', 'Smith & Nephew PLC')\n",
      "('2023', '06', 'Smith & Nephew PLC')\n",
      "('2021', '07', 'BAE SYSTEMS PLC')\n",
      "('2022', '07', 'BAE SYSTEMS PLC')\n",
      "('2023', '07', 'BAE SYSTEMS PLC')\n",
      "('2020', '07', 'BUNZL PLC')\n",
      "('2023', '07', 'BUNZL PLC')\n",
      "('2015', '07', 'HALMA PLC')\n",
      "('2016', '07', 'HALMA PLC')\n",
      "('2017', '07', 'HALMA PLC')\n",
      "('2018', '07', 'HALMA PLC')\n",
      "('2019', '07', 'HALMA PLC')\n",
      "('2020', '07', 'HALMA PLC')\n",
      "('2021', '07', 'HALMA PLC')\n",
      "('2022', '07', 'HALMA PLC')\n",
      "('2023', '07', 'HALMA PLC')\n",
      "('2015', '07', 'IMI PLC')\n",
      "('2016', '07', 'IMI PLC')\n",
      "('2017', '07', 'IMI PLC')\n",
      "('2018', '07', 'IMI PLC')\n",
      "('2019', '07', 'IMI PLC')\n",
      "('2020', '07', 'IMI PLC')\n",
      "('2021', '07', 'IMI PLC')\n",
      "('2022', '07', 'IMI PLC')\n",
      "('2023', '07', 'IMI PLC')\n",
      "('2017', '07', 'INTERTEK GROUP PLC')\n",
      "('2018', '07', 'INTERTEK GROUP PLC')\n",
      "('2019', '07', 'INTERTEK GROUP PLC')\n",
      "('2020', '07', 'INTERTEK GROUP PLC')\n",
      "('2023', '07', 'INTERTEK GROUP PLC')\n",
      "('2016', '07', 'MELROSE INDUSTRIES PLC')\n",
      "('2017', '07', 'MELROSE INDUSTRIES PLC')\n",
      "('2018', '07', 'MELROSE INDUSTRIES PLC')\n",
      "('2019', '07', 'MELROSE INDUSTRIES PLC')\n",
      "('2020', '07', 'MELROSE INDUSTRIES PLC')\n",
      "('2021', '07', 'MELROSE INDUSTRIES PLC')\n",
      "('2022', '07', 'MELROSE INDUSTRIES PLC')\n",
      "('2023', '07', 'MELROSE INDUSTRIES PLC')\n",
      "('2015', '07', 'RENTOKIL INITIAL PLC')\n",
      "('2016', '07', 'RENTOKIL INITIAL PLC')\n",
      "('2017', '07', 'RENTOKIL INITIAL PLC')\n",
      "('2018', '07', 'RENTOKIL INITIAL PLC')\n",
      "('2019', '07', 'RENTOKIL INITIAL PLC')\n",
      "('2020', '07', 'RENTOKIL INITIAL PLC')\n",
      "('2021', '07', 'RENTOKIL INITIAL PLC')\n",
      "('2022', '07', 'RENTOKIL INITIAL PLC')\n",
      "('2023', '07', 'RENTOKIL INITIAL PLC')\n",
      "('2015', '07', 'SMITH (DS) PLC')\n",
      "('2016', '07', 'SMITH (DS) PLC')\n",
      "('2017', '07', 'SMITH (DS) PLC')\n",
      "('2018', '07', 'SMITH (DS) PLC')\n",
      "('2019', '07', 'SMITH (DS) PLC')\n",
      "('2020', '07', 'SMITH (DS) PLC')\n",
      "('2021', '07', 'SMITH (DS) PLC')\n",
      "('2023', '07', 'SMITH (DS) PLC')\n",
      "('2023', '07', 'WISE PLC')\n",
      "('2018', '08', 'BIG YELLOW GROUP PLC')\n",
      "('2019', '08', 'BIG YELLOW GROUP PLC')\n",
      "('2020', '08', 'BIG YELLOW GROUP PLC')\n",
      "('2021', '08', 'BIG YELLOW GROUP PLC')\n",
      "('2015', '08', 'DERWENT LONDON PLC')\n",
      "('2016', '08', 'DERWENT LONDON PLC')\n",
      "('2017', '08', 'DERWENT LONDON PLC')\n",
      "('2019', '08', 'DERWENT LONDON PLC')\n",
      "('2020', '08', 'DERWENT LONDON PLC')\n",
      "('2023', '08', 'DERWENT LONDON PLC')\n",
      "('2015', '08', 'LAND SECURITIES GROUP PLC')\n",
      "('2016', '08', 'LAND SECURITIES GROUP PLC')\n",
      "('2017', '08', 'LAND SECURITIES GROUP PLC')\n",
      "('2019', '08', 'LAND SECURITIES GROUP PLC')\n",
      "('2020', '08', 'LAND SECURITIES GROUP PLC')\n",
      "('2021', '08', 'LAND SECURITIES GROUP PLC')\n",
      "('2023', '08', 'LAND SECURITIES GROUP PLC')\n",
      "('2022', '08', 'PRIMARY HEALTH PROPERTIES PLC')\n",
      "('2023', '08', 'PRIMARY HEALTH PROPERTIES PLC')\n",
      "('2015', '08', 'RIGHTMOVE PLC')\n",
      "('2016', '08', 'RIGHTMOVE PLC')\n",
      "('2017', '08', 'RIGHTMOVE PLC')\n",
      "('2018', '08', 'RIGHTMOVE PLC')\n",
      "('2019', '08', 'RIGHTMOVE PLC')\n",
      "('2020', '08', 'RIGHTMOVE PLC')\n",
      "('2021', '08', 'RIGHTMOVE PLC')\n",
      "('2022', '08', 'RIGHTMOVE PLC')\n",
      "('2023', '08', 'RIGHTMOVE PLC')\n",
      "('2017', '08', 'SEGRO PLC')\n",
      "('2020', '08', 'SEGRO PLC')\n",
      "('2022', '08', 'SEGRO PLC')\n",
      "('2023', '08', 'SEGRO PLC')\n",
      "('2015', '08', 'SHAFTESBURY CAPITAL PLC')\n",
      "('2016', '08', 'SHAFTESBURY CAPITAL PLC')\n",
      "('2017', '08', 'SHAFTESBURY CAPITAL PLC')\n",
      "('2018', '08', 'SHAFTESBURY CAPITAL PLC')\n",
      "('2019', '08', 'SHAFTESBURY CAPITAL PLC')\n",
      "('2020', '08', 'SHAFTESBURY CAPITAL PLC')\n",
      "('2021', '08', 'SHAFTESBURY CAPITAL PLC')\n",
      "('2022', '08', 'SHAFTESBURY CAPITAL PLC')\n",
      "('2023', '08', 'SHAFTESBURY CAPITAL PLC')\n",
      "('2019', '08', 'TRITAX BIG BOX REIT PLC')\n",
      "('2020', '08', 'TRITAX BIG BOX REIT PLC')\n",
      "('2021', '08', 'TRITAX BIG BOX REIT PLC')\n",
      "('2022', '08', 'TRITAX BIG BOX REIT PLC')\n",
      "('2023', '08', 'TRITAX BIG BOX REIT PLC')\n",
      "('2021', '08', 'UNITE GROUP PLC')\n",
      "('2022', '08', 'UNITE GROUP PLC')\n",
      "('2023', '08', 'UNITE GROUP PLC')\n",
      "('2021', '09', 'ALPHAWAVE IP GROUP PLC')\n",
      "('2023', '09', 'ALPHAWAVE IP GROUP PLC')\n",
      "('2017', '09', 'AUTO TRADER GROUP PLC')\n",
      "('2018', '09', 'AUTO TRADER GROUP PLC')\n",
      "('2019', '09', 'AUTO TRADER GROUP PLC')\n",
      "('2020', '09', 'AUTO TRADER GROUP PLC')\n",
      "('2021', '09', 'AUTO TRADER GROUP PLC')\n",
      "('2021', '09', 'BIG TECHNOLOGIES PLC')\n",
      "('2022', '09', 'BIG TECHNOLOGIES PLC')\n",
      "('2023', '09', 'BIG TECHNOLOGIES PLC')\n",
      "('2021', '09', 'BYTES TECHNOLOGY GROUP PLC')\n",
      "('2022', '09', 'BYTES TECHNOLOGY GROUP PLC')\n",
      "('2023', '09', 'BYTES TECHNOLOGY GROUP PLC')\n",
      "('2021', '09', 'COMPUTACENTER PLC')\n",
      "('2022', '09', 'COMPUTACENTER PLC')\n",
      "('2023', '09', 'COMPUTACENTER PLC')\n",
      "('2021', '09', 'DELIVEROO PLC')\n",
      "('2022', '09', 'DELIVEROO PLC')\n",
      "('2023', '09', 'DELIVEROO PLC')\n",
      "('2021', '09', 'SAGE GROUP PLC')\n",
      "('2022', '09', 'SAGE GROUP PLC')\n",
      "('2023', '09', 'SAGE GROUP PLC')\n",
      "('2021', '09', 'TRUSTPILOT GROUP PLC')\n",
      "('2022', '09', 'TRUSTPILOT GROUP PLC')\n",
      "('2023', '09', 'TRUSTPILOT GROUP PLC')\n"
     ]
    }
   ],
   "source": [
    "for file in tqdm(files):\n",
    "    print(file2ysn(file))"
   ]
  },
  {
   "cell_type": "code",
   "execution_count": 88,
   "id": "3ecb2f10",
   "metadata": {
    "ExecuteTime": {
     "end_time": "2025-02-25T14:21:48.029588Z",
     "start_time": "2025-02-25T14:21:48.025354Z"
    }
   },
   "outputs": [],
   "source": [
    "def say_my_name(name):\n",
    "    return name.replace(' ', '_')"
   ]
  },
  {
   "cell_type": "code",
   "execution_count": 91,
   "id": "a3728f6d",
   "metadata": {
    "ExecuteTime": {
     "end_time": "2025-02-25T14:24:22.554808Z",
     "start_time": "2025-02-25T14:24:22.548829Z"
    }
   },
   "outputs": [],
   "source": [
    "def vec_file_name(year, sector, name):\n",
    "    myname=say_my_name(name)\n",
    "    return year+'_'+sector+'_'+name+'.txt'"
   ]
  },
  {
   "cell_type": "code",
   "execution_count": 92,
   "id": "18c37bf8",
   "metadata": {
    "ExecuteTime": {
     "end_time": "2025-02-25T14:27:21.432414Z",
     "start_time": "2025-02-25T14:27:21.427897Z"
    }
   },
   "outputs": [],
   "source": [
    "def file2vecfile(file):\n",
    "    y, s, n=file2ysn(file)\n",
    "    return vec_file_name(y, s, n)"
   ]
  },
  {
   "cell_type": "code",
   "execution_count": 95,
   "id": "30c8380b",
   "metadata": {
    "ExecuteTime": {
     "end_time": "2025-02-25T14:37:43.849436Z",
     "start_time": "2025-02-25T14:37:43.814321Z"
    }
   },
   "outputs": [
    {
     "data": {
      "application/vnd.jupyter.widget-view+json": {
       "model_id": "e31f4073455b43a69c1d51470f352f8a",
       "version_major": 2,
       "version_minor": 0
      },
      "text/plain": [
       "  0%|          | 0/592 [00:00<?, ?it/s]"
      ]
     },
     "metadata": {},
     "output_type": "display_data"
    },
    {
     "name": "stdout",
     "output_type": "stream",
     "text": [
      "1_Basic Materials_ANGLO AMERICAN PLC_2019.rtf 1_Basic Materials_ANGLO AMERICAN PLC_2019_1 (1).rtf\n",
      "1_Basic Materials_ANTOFAGASTA PLC_2018.rtf 1_Basic Materials_ANTOFAGASTA PLC_2018_1.rtf\n",
      "1_Basic Materials_ANTOFAGASTA PLC_2019.rtf 1_Basic Materials_ANTOFAGASTA PLC_2019_1.rtf\n",
      "1_Basic Materials_ANTOFAGASTA PLC_2020.rtf 1_Basic Materials_ANTOFAGASTA PLC_2020_1.rtf\n",
      "1_Basic Materials_ANTOFAGASTA PLC_2022.rtf 1_Basic Materials_ANTOFAGASTA PLC_2022_1.rtf\n",
      "1_Basic Materials_ENDEAVOUR MINING PLC_2018.rtf 1_Basic Materials_ENDEAVOUR MINING PLC_2018_1.rtf\n",
      "1_Basic Materials_ENDEAVOUR MINING PLC_2021.rtf 1_Basic Materials_ENDEAVOUR MINING PLC_2021_1.rtf\n",
      "1_Basic Materials_ENDEAVOUR MINING PLC_2023.rtf 1_Basic Materials_ENDEAVOUR MINING PLC_2023_1.rtf\n",
      "1_Basic Materials_JOHNSON MATTHEY PLC_2017.rtf 1_Basic Materials_JOHNSON MATTHEY PLC_2017_1.rtf\n",
      "1_Basic Materials_SYNTHOMER PLC_2019.rtf 1_Basic Materials_SYNTHOMER PLC_2019_1 (1).rtf\n",
      "1_Basic Materials_SYNTHOMER PLC_2020.rtf 1_Basic Materials_SYNTHOMER PLC_2020_1.rtf\n",
      "1_Basic Materials_SYNTHOMER PLC_2021.rtf 1_Basic Materials_SYNTHOMER PLC_2021_1.rtf\n",
      "1_Basic Materials_SYNTHOMER PLC_2022.rtf 1_Basic Materials_SYNTHOMER PLC_2022_1.rtf\n",
      "2_Consumer Discretionary_NEXT PLC_2016.rtf 2_Consumer Discretionary_NEXT PLC_2016_1.rtf\n",
      "2_Consumer Discretionary_RELX PLC_2018.rtf 2_Consumer Discretionary_RELX PLC_2018_1.rtf\n",
      "3_Consumer Staples_Tesco PLC_2022.rtf 3_Consumer Staples_Tesco PLC_2022_(1).rtf\n",
      "5_Financials_STANDARD CHARTERED PLC_2016.rtf 5_Financials_STANDARD CHARTERED PLC_2016_1.rtf\n"
     ]
    }
   ],
   "source": [
    "for i_f, file in enumerate(tqdm(files)):\n",
    "    if i_f<len(files)-1:\n",
    "        vecfile=file2vecfile(file)\n",
    "        if file2vecfile(files[i_f+1])==vecfile:\n",
    "            print(file, files[i_f+1])"
   ]
  },
  {
   "cell_type": "code",
   "execution_count": null,
   "id": "1658fec7",
   "metadata": {},
   "outputs": [],
   "source": []
  }
 ],
 "metadata": {
  "kernelspec": {
   "display_name": "Python 3 (ipykernel)",
   "language": "python",
   "name": "python3"
  },
  "language_info": {
   "codemirror_mode": {
    "name": "ipython",
    "version": 3
   },
   "file_extension": ".py",
   "mimetype": "text/x-python",
   "name": "python",
   "nbconvert_exporter": "python",
   "pygments_lexer": "ipython3",
   "version": "3.8.10"
  },
  "toc": {
   "base_numbering": 1,
   "nav_menu": {},
   "number_sections": true,
   "sideBar": true,
   "skip_h1_title": false,
   "title_cell": "Table of Contents",
   "title_sidebar": "Contents",
   "toc_cell": false,
   "toc_position": {
    "height": "calc(100% - 180px)",
    "left": "10px",
    "top": "150px",
    "width": "288px"
   },
   "toc_section_display": true,
   "toc_window_display": true
  }
 },
 "nbformat": 4,
 "nbformat_minor": 5
}
