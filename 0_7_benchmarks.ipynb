{
 "cells": [
  {
   "cell_type": "markdown",
   "id": "288fa1de",
   "metadata": {},
   "source": [
    "# Intro"
   ]
  },
  {
   "cell_type": "markdown",
   "id": "c54df1f8",
   "metadata": {},
   "source": [
    "## Standard modules"
   ]
  },
  {
   "cell_type": "code",
   "execution_count": 70,
   "id": "72dfec07",
   "metadata": {
    "ExecuteTime": {
     "end_time": "2025-04-16T09:10:24.455577Z",
     "start_time": "2025-04-16T09:10:24.449742Z"
    }
   },
   "outputs": [],
   "source": [
    "import os, sys\n",
    "import pathlib\n",
    "import requests"
   ]
  },
  {
   "cell_type": "code",
   "execution_count": 81,
   "id": "dd48fec6",
   "metadata": {
    "ExecuteTime": {
     "end_time": "2025-04-16T09:29:51.084535Z",
     "start_time": "2025-04-16T09:29:51.077685Z"
    }
   },
   "outputs": [],
   "source": [
    "import numpy as np"
   ]
  },
  {
   "cell_type": "code",
   "execution_count": 2,
   "id": "59b3c5a8",
   "metadata": {
    "ExecuteTime": {
     "end_time": "2025-04-16T07:44:58.756976Z",
     "start_time": "2025-04-16T07:44:58.529538Z"
    }
   },
   "outputs": [],
   "source": [
    "import arxiv"
   ]
  },
  {
   "cell_type": "code",
   "execution_count": 67,
   "id": "4ccc9caf",
   "metadata": {
    "ExecuteTime": {
     "end_time": "2025-04-16T09:09:44.847894Z",
     "start_time": "2025-04-16T09:09:44.842339Z"
    }
   },
   "outputs": [],
   "source": [
    "from tqdm.auto import tqdm, trange"
   ]
  },
  {
   "cell_type": "code",
   "execution_count": 58,
   "id": "0bef8eaf",
   "metadata": {
    "ExecuteTime": {
     "end_time": "2025-04-16T09:04:10.023957Z",
     "start_time": "2025-04-16T09:04:09.507167Z"
    }
   },
   "outputs": [],
   "source": [
    "import pymupdf4llm"
   ]
  },
  {
   "cell_type": "code",
   "execution_count": 103,
   "id": "4c5ffe44",
   "metadata": {
    "ExecuteTime": {
     "end_time": "2025-04-17T09:01:43.186413Z",
     "start_time": "2025-04-17T09:01:43.182463Z"
    }
   },
   "outputs": [],
   "source": [
    "from sentence_transformers import util"
   ]
  },
  {
   "cell_type": "code",
   "execution_count": 106,
   "id": "3d055e4f",
   "metadata": {
    "ExecuteTime": {
     "end_time": "2025-04-17T09:09:13.279352Z",
     "start_time": "2025-04-17T09:09:12.198473Z"
    }
   },
   "outputs": [],
   "source": [
    "import matplotlib.pyplot as plt\n",
    "plt.rcParams['axes.linewidth'] = 2\n",
    "plt.rcParams['xtick.major.size'] = 10\n",
    "plt.rcParams['xtick.major.width'] = 2\n",
    "plt.rcParams['ytick.major.size'] = 10\n",
    "plt.rcParams['ytick.major.width'] = 2\n",
    "\n",
    "plt.rcParams['xtick.labelsize'] = 14\n",
    "plt.rcParams['ytick.labelsize'] = 14\n",
    "\n",
    "plt.rcParams['xtick.minor.size'] = 5\n",
    "plt.rcParams['xtick.minor.width'] = 1\n",
    "plt.rcParams['ytick.minor.size'] = 5\n",
    "plt.rcParams['ytick.minor.width'] = 1"
   ]
  },
  {
   "cell_type": "markdown",
   "id": "d056e849",
   "metadata": {},
   "source": [
    "## Personal modules"
   ]
  },
  {
   "cell_type": "code",
   "execution_count": 53,
   "id": "c0f86af8",
   "metadata": {
    "ExecuteTime": {
     "end_time": "2025-04-16T09:03:43.882067Z",
     "start_time": "2025-04-16T09:03:43.859827Z"
    }
   },
   "outputs": [],
   "source": [
    "from toolbox.updater import time_is_now"
   ]
  },
  {
   "cell_type": "code",
   "execution_count": 54,
   "id": "c17e2b8d",
   "metadata": {
    "ExecuteTime": {
     "end_time": "2025-04-16T09:03:44.377593Z",
     "start_time": "2025-04-16T09:03:44.026506Z"
    }
   },
   "outputs": [],
   "source": [
    "from file2text import file2text"
   ]
  },
  {
   "cell_type": "code",
   "execution_count": 55,
   "id": "3987ebf6",
   "metadata": {
    "ExecuteTime": {
     "end_time": "2025-04-16T09:03:44.385992Z",
     "start_time": "2025-04-16T09:03:44.381376Z"
    }
   },
   "outputs": [],
   "source": [
    "from first_rough_cleaning import first_text_cleaner"
   ]
  },
  {
   "cell_type": "code",
   "execution_count": 77,
   "id": "a24b07f1",
   "metadata": {
    "ExecuteTime": {
     "end_time": "2025-04-16T09:20:02.056156Z",
     "start_time": "2025-04-16T09:20:02.048229Z"
    }
   },
   "outputs": [],
   "source": [
    "from file_handler import *"
   ]
  },
  {
   "cell_type": "code",
   "execution_count": 57,
   "id": "a1e1d45c",
   "metadata": {
    "ExecuteTime": {
     "end_time": "2025-04-16T09:03:54.323873Z",
     "start_time": "2025-04-16T09:03:54.318451Z"
    }
   },
   "outputs": [],
   "source": [
    "from jina4lote import jina4lote"
   ]
  },
  {
   "cell_type": "markdown",
   "id": "2061a0ab",
   "metadata": {},
   "source": [
    "## Folders"
   ]
  },
  {
   "cell_type": "code",
   "execution_count": 88,
   "id": "9465b1b0",
   "metadata": {
    "ExecuteTime": {
     "end_time": "2025-04-17T08:55:39.562363Z",
     "start_time": "2025-04-17T08:55:39.556792Z"
    }
   },
   "outputs": [],
   "source": [
    "VECTOR_FOLDER='./NewProcessedData/vectors/'"
   ]
  },
  {
   "cell_type": "code",
   "execution_count": 63,
   "id": "ca99c607",
   "metadata": {
    "ExecuteTime": {
     "end_time": "2025-04-16T09:07:40.055205Z",
     "start_time": "2025-04-16T09:07:40.050465Z"
    }
   },
   "outputs": [],
   "source": [
    "BENCHMARK_FOLDER='./NewProcessedData/benchmarks/'"
   ]
  },
  {
   "cell_type": "markdown",
   "id": "bce87f97",
   "metadata": {},
   "source": [
    "# Get Witten"
   ]
  },
  {
   "cell_type": "markdown",
   "id": "f2f1b96c",
   "metadata": {},
   "source": [
    "To be honest, the main aim of the present section is to get some expertise on the arxiv module, that seems quite unessential (at least...), but funny."
   ]
  },
  {
   "cell_type": "markdown",
   "id": "ae410483",
   "metadata": {
    "heading_collapsed": true
   },
   "source": [
    "## Functions"
   ]
  },
  {
   "cell_type": "code",
   "execution_count": 21,
   "id": "7b69e345",
   "metadata": {
    "ExecuteTime": {
     "end_time": "2025-04-16T07:55:30.987332Z",
     "start_time": "2025-04-16T07:55:30.978944Z"
    },
    "hidden": true
   },
   "outputs": [],
   "source": [
    "def get_file_name_from_arxiv_search(result):\n",
    "    # get the surname of the first author\n",
    "    surname=result.authors[0].name.split()[-1]\n",
    "    title=result.title\n",
    "    title=title.replace(' ', '_').replace('-', '_')\n",
    "    return surname+'_'+title+'.pdf'"
   ]
  },
  {
   "cell_type": "code",
   "execution_count": 31,
   "id": "cae2f103",
   "metadata": {
    "ExecuteTime": {
     "end_time": "2025-04-16T08:01:19.389648Z",
     "start_time": "2025-04-16T08:01:19.382133Z"
    },
    "hidden": true
   },
   "outputs": [],
   "source": [
    "def print_info(result):\n",
    "    print(result.title)\n",
    "    print('------')\n",
    "    print(result.summary)\n",
    "    auths='\\nby '+', '.join([auth.name for auth in result.authors])\n",
    "    print(auths)"
   ]
  },
  {
   "cell_type": "code",
   "execution_count": 40,
   "id": "90b429f9",
   "metadata": {
    "ExecuteTime": {
     "end_time": "2025-04-16T08:09:26.180992Z",
     "start_time": "2025-04-16T08:09:26.170332Z"
    },
    "hidden": true
   },
   "outputs": [],
   "source": [
    "def save_pdf_from_arxiv_search(result, folder, print_abstract=True):\n",
    "    '''\n",
    "    It does what it says. \n",
    "    \n",
    "    results: a single result of the arxiv search\n",
    "    folder: where you want the final pdf to appear\n",
    "    '''\n",
    "    target_pdf=folder+get_file_name_from_arxiv_search(result)\n",
    "    if print_abstract:\n",
    "        print_info(result)\n",
    "    response = requests.get(result.pdf_url, stream=True)\n",
    "    if response.status_code == 200:\n",
    "        with open(target_pdf, \"wb\") as file:\n",
    "            for chunk in response.iter_content(chunk_size=1024):\n",
    "                file.write(chunk)\n",
    "        print(f\"\\nSaved: {target_pdf}\")\n",
    "    else:\n",
    "        print(f\"\\nFailed to download: {result.title}\")"
   ]
  },
  {
   "cell_type": "markdown",
   "id": "3830868d",
   "metadata": {},
   "source": [
    "## Run"
   ]
  },
  {
   "cell_type": "code",
   "execution_count": 34,
   "id": "94de3874",
   "metadata": {
    "ExecuteTime": {
     "end_time": "2025-04-16T08:02:07.871740Z",
     "start_time": "2025-04-16T08:02:07.865735Z"
    }
   },
   "outputs": [],
   "source": [
    "client = arxiv.Client()"
   ]
  },
  {
   "cell_type": "code",
   "execution_count": 35,
   "id": "7e16228b",
   "metadata": {
    "ExecuteTime": {
     "end_time": "2025-04-16T08:02:08.346545Z",
     "start_time": "2025-04-16T08:02:08.340790Z"
    }
   },
   "outputs": [],
   "source": [
    "search = arxiv.Search(query = \"au:witten AND ti:information\")"
   ]
  },
  {
   "cell_type": "code",
   "execution_count": 36,
   "id": "3554d22e",
   "metadata": {
    "ExecuteTime": {
     "end_time": "2025-04-16T08:02:11.657632Z",
     "start_time": "2025-04-16T08:02:10.940819Z"
    }
   },
   "outputs": [],
   "source": [
    "first_result = next(client.results(search))"
   ]
  },
  {
   "cell_type": "code",
   "execution_count": 51,
   "id": "0eb5aef9",
   "metadata": {
    "ExecuteTime": {
     "end_time": "2025-04-16T09:01:56.433848Z",
     "start_time": "2025-04-16T09:01:56.299075Z"
    }
   },
   "outputs": [
    {
     "name": "stdout",
     "output_type": "stream",
     "text": [
      "A Mini-Introduction To Information Theory\n",
      "------\n",
      "This article consists of a very short introduction to classical and quantum\n",
      "information theory. Basic properties of the classical Shannon entropy and the\n",
      "quantum von Neumann entropy are described, along with related concepts such as\n",
      "classical and quantum relative entropy, conditional entropy, and mutual\n",
      "information. A few more detailed topics are considered in the quantum case.\n",
      "\n",
      "by Edward Witten\n",
      "\n",
      "Saved: ./NewProcessedData/benchmarks/Witten_A_Mini_Introduction_To_Information_Theory.pdf\n"
     ]
    }
   ],
   "source": [
    "save_pdf_from_arxiv_search(first_result, BENCHMARK_FOLDER)"
   ]
  },
  {
   "cell_type": "code",
   "execution_count": 52,
   "id": "4fec5e96",
   "metadata": {
    "ExecuteTime": {
     "end_time": "2025-04-16T09:01:59.698940Z",
     "start_time": "2025-04-16T09:01:59.690513Z"
    }
   },
   "outputs": [
    {
     "data": {
      "text/plain": [
       "'39 pp, various small improvements in this version'"
      ]
     },
     "execution_count": 52,
     "metadata": {},
     "output_type": "execute_result"
    }
   ],
   "source": [
    "first_result.comment"
   ]
  },
  {
   "cell_type": "markdown",
   "id": "fe54c43d",
   "metadata": {},
   "source": [
    "Ok, so the number of pages in around what we usually have..."
   ]
  },
  {
   "cell_type": "markdown",
   "id": "af1f3801",
   "metadata": {},
   "source": [
    "# Embed me!"
   ]
  },
  {
   "cell_type": "markdown",
   "id": "80c74e56",
   "metadata": {},
   "source": [
    "We have 2 benchmarks: the Witten's paper and the merge of the UN documents about SDGs. They are opposite benchmarks: we expect the similarity of Witten's paper with all our reports to be minimal since the argument are quite distant, while the UN document should tell us how much the reports are aligned with the SDGs (not carved in the stone, but it should provide an idea). Let's convert them, using standard stuff from text analysis. "
   ]
  },
  {
   "cell_type": "markdown",
   "id": "54459fc2",
   "metadata": {},
   "source": [
    "## Files"
   ]
  },
  {
   "cell_type": "code",
   "execution_count": 83,
   "id": "89fe169d",
   "metadata": {
    "ExecuteTime": {
     "end_time": "2025-04-16T11:32:59.017999Z",
     "start_time": "2025-04-16T11:32:59.010128Z"
    }
   },
   "outputs": [],
   "source": [
    "pdfs=[file for file in os.listdir(BENCHMARK_FOLDER) if file.endswith('.pdf')]\n",
    "pdfs.sort()"
   ]
  },
  {
   "cell_type": "code",
   "execution_count": 84,
   "id": "266c0af6",
   "metadata": {
    "ExecuteTime": {
     "end_time": "2025-04-16T11:32:59.483534Z",
     "start_time": "2025-04-16T11:32:59.472974Z"
    }
   },
   "outputs": [
    {
     "data": {
      "text/plain": [
       "['Goal-10-Fast-Facts.pdf',\n",
       " 'Goal-11_Fast-Facts.pdf',\n",
       " 'Goal-12_Fast-Facts.pdf',\n",
       " 'Goal-13_Fast-Facts.pdf',\n",
       " 'Goal-14_Fast-Facts.pdf',\n",
       " 'Goal-15-Fast-Facts.pdf',\n",
       " 'Goal-16-Fast-Facts.pdf',\n",
       " 'Goal-17-Fast-Facts.pdf',\n",
       " 'Goal-1_Fast-Facts.pdf',\n",
       " 'Goal-2_Fast-Facts.pdf',\n",
       " 'Goal-3_Fast-Facts.pdf',\n",
       " 'Goal-4_Fast-Facts.pdf',\n",
       " 'Goal-5_Fast-Facts.pdf',\n",
       " 'Goal-6_Fast-Facts.pdf',\n",
       " 'Goal-7_Fast-Facts.pdf',\n",
       " 'Goal-8_Fast-Facts.pdf',\n",
       " 'Goal-9-Fast-Facts.pdf',\n",
       " 'Goal-Fast-Facts.pdf',\n",
       " 'Witten_A_Mini_Introduction_To_Information_Theory.pdf']"
      ]
     },
     "execution_count": 84,
     "metadata": {},
     "output_type": "execute_result"
    }
   ],
   "source": [
    "pdfs"
   ]
  },
  {
   "cell_type": "markdown",
   "id": "a18a1569",
   "metadata": {},
   "source": [
    "## From pdf to md"
   ]
  },
  {
   "cell_type": "code",
   "execution_count": 85,
   "id": "f539869b",
   "metadata": {
    "ExecuteTime": {
     "end_time": "2025-04-16T11:34:45.254206Z",
     "start_time": "2025-04-16T11:34:34.419152Z"
    }
   },
   "outputs": [
    {
     "data": {
      "application/vnd.jupyter.widget-view+json": {
       "model_id": "7e8239240cf74af7a1ad52632781291f",
       "version_major": 2,
       "version_minor": 0
      },
      "text/plain": [
       "  0%|          | 0/19 [00:00<?, ?it/s]"
      ]
     },
     "metadata": {},
     "output_type": "display_data"
    },
    {
     "name": "stdout",
     "output_type": "stream",
     "text": [
      "Processing ./NewProcessedData/benchmarks/Goal-10-Fast-Facts.pdf...\n",
      "[                                        ] (0/2===================[====================                    ] (1/2===================[========================================] (2/2]\n",
      "Processing ./NewProcessedData/benchmarks/Goal-11_Fast-Facts.pdf...\n",
      "[                                        ] (0/2===================[====================                    ] (1/2===================[========================================] (2/2]\n",
      "Processing ./NewProcessedData/benchmarks/Goal-12_Fast-Facts.pdf...\n",
      "[                                        ] (0/2===================[====================                    ] (1/2===================[========================================] (2/2]\n",
      "Processing ./NewProcessedData/benchmarks/Goal-13_Fast-Facts.pdf...\n",
      "[                                        ] (0/2===================[====================                    ] (1/2===================[========================================] (2/2]\n",
      "Processing ./NewProcessedData/benchmarks/Goal-14_Fast-Facts.pdf...\n",
      "[                                        ] (0/2===================[====================                    ] (1/2===================[========================================] (2/2]\n",
      "Processing ./NewProcessedData/benchmarks/Goal-15-Fast-Facts.pdf...\n",
      "[                                        ] (0/2===================[====================                    ] (1/2===================[========================================] (2/2]\n",
      "Processing ./NewProcessedData/benchmarks/Goal-16-Fast-Facts.pdf...\n",
      "[                                        ] (0/2===================[====================                    ] (1/2===================[========================================] (2/2]\n",
      "Processing ./NewProcessedData/benchmarks/Goal-17-Fast-Facts.pdf...\n",
      "[                                        ] (0/2===================[====================                    ] (1/2===================[========================================] (2/2]\n",
      "Processing ./NewProcessedData/benchmarks/Goal-1_Fast-Facts.pdf...\n",
      "[                                        ] (0/2===================[====================                    ] (1/2===================[========================================] (2/2]\n",
      "Processing ./NewProcessedData/benchmarks/Goal-2_Fast-Facts.pdf...\n",
      "[                                        ] (0/2===================[====================                    ] (1/2===================[========================================] (2/2]\n",
      "Processing ./NewProcessedData/benchmarks/Goal-3_Fast-Facts.pdf...\n",
      "[                                        ] (0/2===================[====================                    ] (1/2===================[========================================] (2/2]\n",
      "Processing ./NewProcessedData/benchmarks/Goal-4_Fast-Facts.pdf...\n",
      "[                                        ] (0/2===================[====================                    ] (1/2===================[========================================] (2/2]\n",
      "Processing ./NewProcessedData/benchmarks/Goal-5_Fast-Facts.pdf...\n",
      "[                                        ] (0/2===================[====================                    ] (1/2===================[========================================] (2/2]\n",
      "Processing ./NewProcessedData/benchmarks/Goal-6_Fast-Facts.pdf...\n",
      "[                                        ] (0/2===================[====================                    ] (1/2===================[========================================] (2/2]\n",
      "Processing ./NewProcessedData/benchmarks/Goal-7_Fast-Facts.pdf...\n",
      "[                                        ] (0/2===================[====================                    ] (1/2===================[========================================] (2/2]\n",
      "Processing ./NewProcessedData/benchmarks/Goal-8_Fast-Facts.pdf...\n",
      "[                                        ] (0/2===================[====================                    ] (1/2===================[========================================] (2/2]\n",
      "Processing ./NewProcessedData/benchmarks/Goal-9-Fast-Facts.pdf...\n",
      "[                                        ] (0/2===================[====================                    ] (1/2===================[========================================] (2/2]\n"
     ]
    }
   ],
   "source": [
    "for pdf in tqdm(pdfs):\n",
    "    file_name_md=pdf.replace('.pdf', '.md')\n",
    "    if not os.path.isfile(BENCHMARK_FOLDER+file_name_md):\n",
    "        md_text = pymupdf4llm.to_markdown(BENCHMARK_FOLDER+pdf)\n",
    "        pathlib.Path(BENCHMARK_FOLDER+file_name_md).write_bytes(md_text.encode())"
   ]
  },
  {
   "cell_type": "markdown",
   "id": "e224ef64",
   "metadata": {},
   "source": [
    "## From md to vec"
   ]
  },
  {
   "cell_type": "code",
   "execution_count": 86,
   "id": "6b22dfaf",
   "metadata": {
    "ExecuteTime": {
     "end_time": "2025-04-16T11:37:38.231285Z",
     "start_time": "2025-04-16T11:36:06.010990Z"
    }
   },
   "outputs": [
    {
     "data": {
      "application/vnd.jupyter.widget-view+json": {
       "model_id": "f15d6e99eeed462a8f68d6c88d6a4d05",
       "version_major": 2,
       "version_minor": 0
      },
      "text/plain": [
       "  0%|          | 0/19 [00:00<?, ?it/s]"
      ]
     },
     "metadata": {},
     "output_type": "display_data"
    },
    {
     "data": {
      "application/vnd.jupyter.widget-view+json": {
       "model_id": "",
       "version_major": 2,
       "version_minor": 0
      },
      "text/plain": [
       "  0%|          | 0/1 [00:00<?, ?it/s]"
      ]
     },
     "metadata": {},
     "output_type": "display_data"
    },
    {
     "data": {
      "application/vnd.jupyter.widget-view+json": {
       "model_id": "",
       "version_major": 2,
       "version_minor": 0
      },
      "text/plain": [
       "  0%|          | 0/1 [00:00<?, ?it/s]"
      ]
     },
     "metadata": {},
     "output_type": "display_data"
    },
    {
     "data": {
      "application/vnd.jupyter.widget-view+json": {
       "model_id": "",
       "version_major": 2,
       "version_minor": 0
      },
      "text/plain": [
       "  0%|          | 0/1 [00:00<?, ?it/s]"
      ]
     },
     "metadata": {},
     "output_type": "display_data"
    },
    {
     "data": {
      "application/vnd.jupyter.widget-view+json": {
       "model_id": "",
       "version_major": 2,
       "version_minor": 0
      },
      "text/plain": [
       "  0%|          | 0/1 [00:00<?, ?it/s]"
      ]
     },
     "metadata": {},
     "output_type": "display_data"
    },
    {
     "data": {
      "application/vnd.jupyter.widget-view+json": {
       "model_id": "",
       "version_major": 2,
       "version_minor": 0
      },
      "text/plain": [
       "  0%|          | 0/1 [00:00<?, ?it/s]"
      ]
     },
     "metadata": {},
     "output_type": "display_data"
    },
    {
     "data": {
      "application/vnd.jupyter.widget-view+json": {
       "model_id": "",
       "version_major": 2,
       "version_minor": 0
      },
      "text/plain": [
       "  0%|          | 0/1 [00:00<?, ?it/s]"
      ]
     },
     "metadata": {},
     "output_type": "display_data"
    },
    {
     "data": {
      "application/vnd.jupyter.widget-view+json": {
       "model_id": "",
       "version_major": 2,
       "version_minor": 0
      },
      "text/plain": [
       "  0%|          | 0/1 [00:00<?, ?it/s]"
      ]
     },
     "metadata": {},
     "output_type": "display_data"
    },
    {
     "data": {
      "application/vnd.jupyter.widget-view+json": {
       "model_id": "",
       "version_major": 2,
       "version_minor": 0
      },
      "text/plain": [
       "  0%|          | 0/1 [00:00<?, ?it/s]"
      ]
     },
     "metadata": {},
     "output_type": "display_data"
    },
    {
     "data": {
      "application/vnd.jupyter.widget-view+json": {
       "model_id": "",
       "version_major": 2,
       "version_minor": 0
      },
      "text/plain": [
       "  0%|          | 0/1 [00:00<?, ?it/s]"
      ]
     },
     "metadata": {},
     "output_type": "display_data"
    },
    {
     "data": {
      "application/vnd.jupyter.widget-view+json": {
       "model_id": "",
       "version_major": 2,
       "version_minor": 0
      },
      "text/plain": [
       "  0%|          | 0/1 [00:00<?, ?it/s]"
      ]
     },
     "metadata": {},
     "output_type": "display_data"
    },
    {
     "data": {
      "application/vnd.jupyter.widget-view+json": {
       "model_id": "",
       "version_major": 2,
       "version_minor": 0
      },
      "text/plain": [
       "  0%|          | 0/1 [00:00<?, ?it/s]"
      ]
     },
     "metadata": {},
     "output_type": "display_data"
    },
    {
     "data": {
      "application/vnd.jupyter.widget-view+json": {
       "model_id": "",
       "version_major": 2,
       "version_minor": 0
      },
      "text/plain": [
       "  0%|          | 0/1 [00:00<?, ?it/s]"
      ]
     },
     "metadata": {},
     "output_type": "display_data"
    },
    {
     "data": {
      "application/vnd.jupyter.widget-view+json": {
       "model_id": "",
       "version_major": 2,
       "version_minor": 0
      },
      "text/plain": [
       "  0%|          | 0/1 [00:00<?, ?it/s]"
      ]
     },
     "metadata": {},
     "output_type": "display_data"
    },
    {
     "data": {
      "application/vnd.jupyter.widget-view+json": {
       "model_id": "",
       "version_major": 2,
       "version_minor": 0
      },
      "text/plain": [
       "  0%|          | 0/1 [00:00<?, ?it/s]"
      ]
     },
     "metadata": {},
     "output_type": "display_data"
    },
    {
     "data": {
      "application/vnd.jupyter.widget-view+json": {
       "model_id": "",
       "version_major": 2,
       "version_minor": 0
      },
      "text/plain": [
       "  0%|          | 0/1 [00:00<?, ?it/s]"
      ]
     },
     "metadata": {},
     "output_type": "display_data"
    },
    {
     "data": {
      "application/vnd.jupyter.widget-view+json": {
       "model_id": "",
       "version_major": 2,
       "version_minor": 0
      },
      "text/plain": [
       "  0%|          | 0/1 [00:00<?, ?it/s]"
      ]
     },
     "metadata": {},
     "output_type": "display_data"
    },
    {
     "data": {
      "application/vnd.jupyter.widget-view+json": {
       "model_id": "",
       "version_major": 2,
       "version_minor": 0
      },
      "text/plain": [
       "  0%|          | 0/1 [00:00<?, ?it/s]"
      ]
     },
     "metadata": {},
     "output_type": "display_data"
    }
   ],
   "source": [
    "for i_pdf, pdf in enumerate(tqdm(pdfs)):\n",
    "    # vector file name\n",
    "    vecfile=pdf.replace('.pdf', '.txt')\n",
    "    if not os.path.isfile(BENCHMARK_FOLDER+vecfile):\n",
    "        # get the md file name\n",
    "        file_name_md=pdf.replace('.pdf', '.md')\n",
    "        # read the md file\n",
    "        with open(BENCHMARK_FOLDER+file_name_md, 'r') as f:\n",
    "            markdown_string = f.read()\n",
    "        # embed the text\n",
    "        md_vec=jina4lote(first_text_cleaner(markdown_string))\n",
    "    \n",
    "        # save the md vec\n",
    "        np.savetxt(BENCHMARK_FOLDER+vecfile, md_vec)"
   ]
  },
  {
   "cell_type": "markdown",
   "id": "cdd0133c",
   "metadata": {},
   "source": [
    "# Everybody Needs Witten\n",
    "Actually, probably not."
   ]
  },
  {
   "cell_type": "markdown",
   "id": "766f0ca4",
   "metadata": {},
   "source": [
    "## Witten's vector"
   ]
  },
  {
   "cell_type": "code",
   "execution_count": 94,
   "id": "65450ab0",
   "metadata": {
    "ExecuteTime": {
     "end_time": "2025-04-17T08:58:46.361922Z",
     "start_time": "2025-04-17T08:58:46.356688Z"
    }
   },
   "outputs": [],
   "source": [
    "wittenvecfile=[file for file in os.listdir(BENCHMARK_FOLDER) if file.startswith('Witten') and file.endswith('.txt')][0]"
   ]
  },
  {
   "cell_type": "code",
   "execution_count": 99,
   "id": "ee595c23",
   "metadata": {
    "ExecuteTime": {
     "end_time": "2025-04-17T08:59:37.779341Z",
     "start_time": "2025-04-17T08:59:37.767045Z"
    }
   },
   "outputs": [],
   "source": [
    "wittenvec=np.genfromtxt(BENCHMARK_FOLDER+wittenvecfile)"
   ]
  },
  {
   "cell_type": "markdown",
   "id": "381f4b12",
   "metadata": {},
   "source": [
    "## Reports' vectors"
   ]
  },
  {
   "cell_type": "code",
   "execution_count": 90,
   "id": "f491473d",
   "metadata": {
    "ExecuteTime": {
     "end_time": "2025-04-17T08:55:54.073263Z",
     "start_time": "2025-04-17T08:55:54.068772Z"
    }
   },
   "outputs": [],
   "source": [
    "vecfiles=os.listdir(VECTOR_FOLDER)"
   ]
  },
  {
   "cell_type": "code",
   "execution_count": 91,
   "id": "194ed7fb",
   "metadata": {
    "ExecuteTime": {
     "end_time": "2025-04-17T08:56:04.603301Z",
     "start_time": "2025-04-17T08:56:04.597274Z"
    }
   },
   "outputs": [],
   "source": [
    "vecfiles.sort()"
   ]
  },
  {
   "cell_type": "code",
   "execution_count": 104,
   "id": "9783ef70",
   "metadata": {
    "ExecuteTime": {
     "end_time": "2025-04-17T09:01:49.351678Z",
     "start_time": "2025-04-17T09:01:46.756134Z"
    }
   },
   "outputs": [
    {
     "data": {
      "application/vnd.jupyter.widget-view+json": {
       "model_id": "f1f69049440849079ae0ccafe2906821",
       "version_major": 2,
       "version_minor": 0
      },
      "text/plain": [
       "  0%|          | 0/575 [00:00<?, ?it/s]"
      ]
     },
     "metadata": {},
     "output_type": "display_data"
    },
    {
     "name": "stdout",
     "output_type": "stream",
     "text": [
      "2015_01_ANGLO_AMERICAN_PLC.txt)\tcos=0.801\n",
      "2015_01_ANTOFAGASTA_PLC.txt)\tcos=0.763\n",
      "2015_01_CRODA_INTERNATIONAL_PLC.txt)\tcos=0.800\n",
      "2015_01_JOHNSON_MATTHEY_PLC.txt)\tcos=0.766\n",
      "2015_01_RIO_TINTO_PLC.txt)\tcos=0.800\n",
      "2015_01_SYNTHOMER_PLC.txt)\tcos=0.798\n",
      "2015_02_BARRATT_DEVELOPMENTS_PLC.txt)\tcos=0.794\n",
      "2015_02_BERKELEY_GROUP_HOLDINGS_(THE)_PLC.txt)\tcos=0.769\n",
      "2015_02_BURBERRY_GROUP_PLC.txt)\tcos=0.738\n",
      "2015_02_INFORMA_PLC.txt)\tcos=0.771\n",
      "2015_02_INTERCONTINENTAL_HOTELS_GROUP_PLC.txt)\tcos=0.759\n",
      "2015_02_NEXT_PLC.txt)\tcos=0.786\n",
      "2015_02_PERSIMMON_PLC.txt)\tcos=0.768\n",
      "2015_02_RELX_PLC.txt)\tcos=0.810\n",
      "2015_02_WHITBREAD_PLC.txt)\tcos=0.763\n",
      "2015_03_Associated_British_Foods_PLC.txt)\tcos=0.795\n",
      "2015_03_British_American_Tobacco_PLC.txt)\tcos=0.753\n",
      "2015_03_Diageo_PLC.txt)\tcos=0.797\n",
      "2015_03_Imperial_Brands_PLC.txt)\tcos=0.768\n",
      "2015_03_Marks_and_Spencer_Group_PLC.txt)\tcos=0.779\n",
      "2015_03_Reckitt_Benckiser_Group_PLC.txt)\tcos=0.780\n",
      "2015_03_Sainsbury_(J)_PLC.txt)\tcos=0.764\n",
      "2015_03_Unilever_PLC.txt)\tcos=0.749\n",
      "2015_04_BP_PLC.txt)\tcos=0.793\n",
      "2015_04_HUNTING_PLC.txt)\tcos=0.788\n",
      "2015_05_AVIVA_PLC.txt)\tcos=0.721\n",
      "2015_05_HSBC_HOLDINGS_PLC.txt)\tcos=0.773\n",
      "2015_05_STANDARD_CHARTERED_PLC.txt)\tcos=0.787\n",
      "2015_06_AstraZeneca_PLC.txt)\tcos=0.789\n",
      "2015_06_GSK_PLC.txt)\tcos=0.788\n",
      "2015_07_HALMA_PLC.txt)\tcos=0.792\n",
      "2015_07_IMI_PLC.txt)\tcos=0.781\n",
      "2015_07_RENTOKIL_INITIAL_PLC.txt)\tcos=0.783\n",
      "2015_07_SMITH_(DS)_PLC.txt)\tcos=0.784\n",
      "2015_08_DERWENT_LONDON_PLC.txt)\tcos=0.787\n",
      "2015_08_LAND_SECURITIES_GROUP_PLC.txt)\tcos=0.776\n",
      "2015_08_RIGHTMOVE_PLC.txt)\tcos=0.766\n",
      "2015_08_SHAFTESBURY_CAPITAL_PLC.txt)\tcos=0.726\n",
      "2015_10_BT_GROUP_PLC.txt)\tcos=0.796\n",
      "2015_10_VODAFONE_GROUP_PLC.txt)\tcos=0.801\n",
      "2016_01_ANGLO_AMERICAN_PLC.txt)\tcos=0.796\n",
      "2016_01_ANTOFAGASTA_PLC.txt)\tcos=0.765\n",
      "2016_01_CRODA_INTERNATIONAL_PLC.txt)\tcos=0.797\n",
      "2016_01_JOHNSON_MATTHEY_PLC.txt)\tcos=0.783\n",
      "2016_01_RIO_TINTO_PLC.txt)\tcos=0.801\n",
      "2016_01_SYNTHOMER_PLC.txt)\tcos=0.799\n",
      "2016_02_BARRATT_DEVELOPMENTS_PLC.txt)\tcos=0.801\n",
      "2016_02_BERKELEY_GROUP_HOLDINGS_(THE)_PLC.txt)\tcos=0.807\n",
      "2016_02_BURBERRY_GROUP_PLC.txt)\tcos=0.745\n",
      "2016_02_INFORMA_PLC.txt)\tcos=0.758\n",
      "2016_02_INTERCONTINENTAL_HOTELS_GROUP_PLC.txt)\tcos=0.756\n",
      "2016_02_NEXT_PLC.txt)\tcos=0.768\n",
      "2016_02_PERSIMMON_PLC.txt)\tcos=0.763\n",
      "2016_02_RELX_PLC.txt)\tcos=0.808\n",
      "2016_03_Associated_British_Foods_PLC.txt)\tcos=0.797\n",
      "2016_03_British_American_Tobacco_PLC.txt)\tcos=0.769\n",
      "2016_03_Coca-Cola_Europacific_Partners_PLC.txt)\tcos=0.774\n",
      "2016_03_Diageo_PLC.txt)\tcos=0.791\n",
      "2016_03_Imperial_Brands_PLC.txt)\tcos=0.743\n",
      "2016_03_Marks_and_Spencer_Group_PLC.txt)\tcos=0.778\n",
      "2016_03_Reckitt_Benckiser_Group_PLC.txt)\tcos=0.806\n",
      "2016_03_Sainsbury_(J)_PLC.txt)\tcos=0.785\n",
      "2016_03_Tesco_PLC.txt)\tcos=0.766\n",
      "2016_03_Unilever_PLC.txt)\tcos=0.754\n",
      "2016_04_BP_PLC.txt)\tcos=0.793\n",
      "2016_04_HUNTING_PLC.txt)\tcos=0.781\n",
      "2016_05_AVIVA_PLC.txt)\tcos=0.727\n",
      "2016_05_BARCLAYS_PLC.txt)\tcos=0.763\n",
      "2016_05_HSBC_HOLDINGS_PLC.txt)\tcos=0.771\n",
      "2016_05_STANDARD_CHARTERED_PLC.txt)\tcos=0.773\n",
      "2016_06_GSK_PLC.txt)\tcos=0.779\n",
      "2016_07_HALMA_PLC.txt)\tcos=0.795\n",
      "2016_07_IMI_PLC.txt)\tcos=0.773\n",
      "2016_07_MELROSE_INDUSTRIES_PLC.txt)\tcos=0.775\n",
      "2016_07_RENTOKIL_INITIAL_PLC.txt)\tcos=0.777\n",
      "2016_07_SMITH_(DS)_PLC.txt)\tcos=0.777\n",
      "2016_08_DERWENT_LONDON_PLC.txt)\tcos=0.786\n",
      "2016_08_LAND_SECURITIES_GROUP_PLC.txt)\tcos=0.777\n",
      "2016_08_RIGHTMOVE_PLC.txt)\tcos=0.750\n",
      "2016_08_SHAFTESBURY_CAPITAL_PLC.txt)\tcos=0.728\n",
      "2016_10_BT_GROUP_PLC.txt)\tcos=0.794\n",
      "2016_10_VODAFONE_GROUP_PLC.txt)\tcos=0.789\n",
      "2016_11_GOOD_ENERGY_GROUP_PLC.txt)\tcos=0.755\n",
      "2016_11_SSE_PLC.txt)\tcos=0.795\n",
      "2017_01_ANGLO_AMERICAN_PLC.txt)\tcos=0.797\n",
      "2017_01_CRODA_INTERNATIONAL_PLC.txt)\tcos=0.791\n",
      "2017_01_ENDEAVOUR_MINING_PLC.txt)\tcos=0.786\n",
      "2017_01_JOHNSON_MATTHEY_PLC.txt)\tcos=0.806\n",
      "2017_01_RIO_TINTO_PLC.txt)\tcos=0.798\n",
      "2017_01_SYNTHOMER_PLC.txt)\tcos=0.803\n",
      "2017_02_BARRATT_DEVELOPMENTS_PLC.txt)\tcos=0.794\n",
      "2017_02_BERKELEY_GROUP_HOLDINGS_(THE)_PLC.txt)\tcos=0.813\n",
      "2017_02_BURBERRY_GROUP_PLC.txt)\tcos=0.753\n",
      "2017_02_INFORMA_PLC.txt)\tcos=0.776\n",
      "2017_02_INTERCONTINENTAL_HOTELS_GROUP_PLC.txt)\tcos=0.768\n",
      "2017_02_NEXT_PLC.txt)\tcos=0.763\n",
      "2017_02_PERSIMMON_PLC.txt)\tcos=0.770\n",
      "2017_02_RELX_PLC.txt)\tcos=0.805\n",
      "2017_02_WHITBREAD_PLC.txt)\tcos=0.741\n",
      "2017_03_Associated_British_Foods_PLC.txt)\tcos=0.795\n",
      "2017_03_British_American_Tobacco_PLC.txt)\tcos=0.770\n",
      "2017_03_Coca-Cola_Europacific_Partners_PLC.txt)\tcos=0.782\n",
      "2017_03_Diageo_PLC.txt)\tcos=0.789\n",
      "2017_03_Imperial_Brands_PLC.txt)\tcos=0.763\n",
      "2017_03_Marks_and_Spencer_Group_PLC.txt)\tcos=0.767\n",
      "2017_03_Reckitt_Benckiser_Group_PLC.txt)\tcos=0.804\n",
      "2017_03_Sainsbury_(J)_PLC.txt)\tcos=0.777\n",
      "2017_03_Tesco_PLC.txt)\tcos=0.763\n",
      "2017_03_Unilever_PLC.txt)\tcos=0.777\n",
      "2017_04_BP_PLC.txt)\tcos=0.787\n",
      "2017_04_HUNTING_PLC.txt)\tcos=0.775\n",
      "2017_04_Shell.txt)\tcos=0.793\n",
      "2017_05_AVIVA_PLC.txt)\tcos=0.735\n",
      "2017_05_BARCLAYS_PLC.txt)\tcos=0.758\n",
      "2017_05_HSBC_HOLDINGS_PLC.txt)\tcos=0.775\n",
      "2017_05_LONDON_STOCK_EXCHANGE_GROUP_PLC.txt)\tcos=0.758\n",
      "2017_06_AstraZeneca_PLC.txt)\tcos=0.784\n",
      "2017_06_GSK_PLC.txt)\tcos=0.775\n",
      "2017_06_Smith_&_Nephew_PLC.txt)\tcos=0.802\n",
      "2017_07_HALMA_PLC.txt)\tcos=0.799\n",
      "2017_07_IMI_PLC.txt)\tcos=0.768\n",
      "2017_07_INTERTEK_GROUP_PLC.txt)\tcos=0.787\n",
      "2017_07_MELROSE_INDUSTRIES_PLC.txt)\tcos=0.784\n",
      "2017_07_RENTOKIL_INITIAL_PLC.txt)\tcos=0.780\n",
      "2017_07_SMITH_(DS)_PLC.txt)\tcos=0.776\n",
      "2017_08_DERWENT_LONDON_PLC.txt)\tcos=0.779\n",
      "2017_08_LAND_SECURITIES_GROUP_PLC.txt)\tcos=0.764\n",
      "2017_08_RIGHTMOVE_PLC.txt)\tcos=0.770\n",
      "2017_08_SEGRO_PLC.txt)\tcos=0.708\n",
      "2017_08_SHAFTESBURY_CAPITAL_PLC.txt)\tcos=0.734\n",
      "2017_09_AUTO_TRADER_GROUP_PLC.txt)\tcos=0.775\n",
      "2017_10_VODAFONE_GROUP_PLC.txt)\tcos=0.793\n",
      "2017_11_GOOD_ENERGY_GROUP_PLC.txt)\tcos=0.756\n",
      "2017_11_RENEWI_PLC.txt)\tcos=0.751\n",
      "2017_11_SSE_PLC.txt)\tcos=0.791\n",
      "2018_01_ANGLO_AMERICAN_PLC.txt)\tcos=0.798\n",
      "2018_01_ANTOFAGASTA_PLC.txt)\tcos=0.767\n",
      "2018_01_CRODA_INTERNATIONAL_PLC.txt)\tcos=0.782\n",
      "2018_01_ENDEAVOUR_MINING_PLC.txt)\tcos=0.795\n",
      "2018_01_JOHNSON_MATTHEY_PLC.txt)\tcos=0.804\n",
      "2018_01_RIO_TINTO_PLC.txt)\tcos=0.803\n",
      "2018_01_SYNTHOMER_PLC.txt)\tcos=0.792\n",
      "2018_02_BARRATT_DEVELOPMENTS_PLC.txt)\tcos=0.794\n",
      "2018_02_BERKELEY_GROUP_HOLDINGS_(THE)_PLC.txt)\tcos=0.809\n",
      "2018_02_BURBERRY_GROUP_PLC.txt)\tcos=0.752\n",
      "2018_02_INFORMA_PLC.txt)\tcos=0.770\n",
      "2018_02_INTERCONTINENTAL_HOTELS_GROUP_PLC.txt)\tcos=0.752\n",
      "2018_02_NEXT_PLC.txt)\tcos=0.755\n",
      "2018_02_PERSIMMON_PLC.txt)\tcos=0.782\n",
      "2018_02_RELX_PLC.txt)\tcos=0.801\n",
      "2018_02_WHITBREAD_PLC.txt)\tcos=0.687\n",
      "2018_03_Associated_British_Foods_PLC.txt)\tcos=0.795\n",
      "2018_03_British_American_Tobacco_PLC.txt)\tcos=0.779\n",
      "2018_03_Coca-Cola_Europacific_Partners_PLC.txt)\tcos=0.774\n",
      "2018_03_Diageo_PLC.txt)\tcos=0.786\n",
      "2018_03_Imperial_Brands_PLC.txt)\tcos=0.770\n",
      "2018_03_Marks_and_Spencer_Group_PLC.txt)\tcos=0.763\n",
      "2018_03_Reckitt_Benckiser_Group_PLC.txt)\tcos=0.797\n",
      "2018_03_Sainsbury_(J)_PLC.txt)\tcos=0.758\n",
      "2018_03_Tesco_PLC.txt)\tcos=0.765\n",
      "2018_03_Unilever_PLC.txt)\tcos=0.782\n",
      "2018_04_BP_PLC.txt)\tcos=0.789\n",
      "2018_04_HUNTING_PLC.txt)\tcos=0.775\n",
      "2018_04_Shell.txt)\tcos=0.793\n",
      "2018_05_AVIVA_PLC.txt)\tcos=0.749\n",
      "2018_05_BARCLAYS_PLC.txt)\tcos=0.763\n",
      "2018_05_HSBC_HOLDINGS_PLC.txt)\tcos=0.777\n",
      "2018_05_LEGAL_&_GENERAL_GROUP_PLC.txt)\tcos=0.777\n",
      "2018_05_LONDON_STOCK_EXCHANGE_GROUP_PLC.txt)\tcos=0.764\n",
      "2018_05_PRUDENTIAL_PLC.txt)\tcos=0.785\n",
      "2018_05_STANDARD_CHARTERED_PLC.txt)\tcos=0.782\n",
      "2018_06_AstraZeneca_PLC.txt)\tcos=0.780\n",
      "2018_06_GSK_PLC.txt)\tcos=0.804\n",
      "2018_06_Smith_&_Nephew_PLC.txt)\tcos=0.797\n",
      "2018_07_HALMA_PLC.txt)\tcos=0.795\n",
      "2018_07_IMI_PLC.txt)\tcos=0.764\n",
      "2018_07_INTERTEK_GROUP_PLC.txt)\tcos=0.773\n",
      "2018_07_MELROSE_INDUSTRIES_PLC.txt)\tcos=0.783\n",
      "2018_07_RENTOKIL_INITIAL_PLC.txt)\tcos=0.794\n",
      "2018_07_SMITH_(DS)_PLC.txt)\tcos=0.761\n",
      "2018_08_BIG_YELLOW_GROUP_PLC.txt)\tcos=0.788\n",
      "2018_08_RIGHTMOVE_PLC.txt)\tcos=0.764\n",
      "2018_08_SHAFTESBURY_CAPITAL_PLC.txt)\tcos=0.733\n",
      "2018_09_AUTO_TRADER_GROUP_PLC.txt)\tcos=0.775\n",
      "2018_10_BT_GROUP_PLC.txt)\tcos=0.791\n",
      "2018_10_SPIRENT_COMMUNICATIONS_PLC.txt)\tcos=0.779\n",
      "2018_10_VODAFONE_GROUP_PLC.txt)\tcos=0.788\n",
      "2018_11_CENTRICA_PLC.txt)\tcos=0.752\n",
      "2018_11_GOOD_ENERGY_GROUP_PLC.txt)\tcos=0.757\n",
      "2018_11_RENEWI_PLC.txt)\tcos=0.766\n",
      "2018_11_SSE_PLC.txt)\tcos=0.787\n",
      "2019_01_ANGLO_AMERICAN_PLC.txt)\tcos=0.797\n",
      "2019_01_ANTOFAGASTA_PLC.txt)\tcos=0.761\n",
      "2019_01_CRODA_INTERNATIONAL_PLC.txt)\tcos=0.781\n",
      "2019_01_ENDEAVOUR_MINING_PLC.txt)\tcos=0.777\n",
      "2019_01_JOHNSON_MATTHEY_PLC.txt)\tcos=0.795\n",
      "2019_01_RIO_TINTO_PLC.txt)\tcos=0.740\n",
      "2019_01_SYNTHOMER_PLC.txt)\tcos=0.789\n",
      "2019_02_BARRATT_DEVELOPMENTS_PLC.txt)\tcos=0.794\n",
      "2019_02_BERKELEY_GROUP_HOLDINGS_(THE)_PLC.txt)\tcos=0.777\n",
      "2019_02_BURBERRY_GROUP_PLC.txt)\tcos=0.774\n",
      "2019_02_COMPASS_GROUP_PLC.txt)\tcos=0.764\n",
      "2019_02_INFORMA_PLC.txt)\tcos=0.755\n",
      "2019_02_INTERCONTINENTAL_HOTELS_GROUP_PLC.txt)\tcos=0.764\n",
      "2019_02_NEXT_PLC.txt)\tcos=0.759\n",
      "2019_02_PERSIMMON_PLC.txt)\tcos=0.769\n",
      "2019_02_RELX_PLC.txt)\tcos=0.806\n",
      "2019_03_Associated_British_Foods_PLC.txt)\tcos=0.784\n",
      "2019_03_British_American_Tobacco_PLC.txt)\tcos=0.757\n",
      "2019_03_Coca-Cola_Europacific_Partners_PLC.txt)\tcos=0.809\n",
      "2019_03_Diageo_PLC.txt)\tcos=0.787\n",
      "2019_03_Imperial_Brands_PLC.txt)\tcos=0.769\n",
      "2019_03_Marks_and_Spencer_Group_PLC.txt)\tcos=0.772\n",
      "2019_03_Reckitt_Benckiser_Group_PLC.txt)\tcos=0.797\n",
      "2019_03_Sainsbury_(J)_PLC.txt)\tcos=0.749\n",
      "2019_03_Tesco_PLC.txt)\tcos=0.760\n",
      "2019_03_Unilever_PLC.txt)\tcos=0.791\n",
      "2019_04_BP_PLC.txt)\tcos=0.790\n",
      "2019_04_DIVERSIFIED_ENERGY_COMPANY_PLC.txt)\tcos=0.788\n",
      "2019_04_Energean.txt)\tcos=0.771\n",
      "2019_04_HUNTING_PLC.txt)\tcos=0.771\n",
      "2019_04_SERICA_ENERGY_PLC.txt)\tcos=0.757\n",
      "2019_04_Shell.txt)\tcos=0.792\n",
      "2019_04_WOOD_GROUP_(JOHN)_PLC.txt)\tcos=0.769\n",
      "2019_05_AVIVA_PLC.txt)\tcos=0.776\n",
      "2019_05_BARCLAYS_PLC.txt)\tcos=0.766\n",
      "2019_05_HSBC_HOLDINGS_PLC.txt)\tcos=0.779\n",
      "2019_05_LEGAL_&_GENERAL_GROUP_PLC.txt)\tcos=0.771\n",
      "2019_05_LONDON_STOCK_EXCHANGE_GROUP_PLC.txt)\tcos=0.754\n",
      "2019_05_PRUDENTIAL_PLC.txt)\tcos=0.776\n"
     ]
    },
    {
     "name": "stdout",
     "output_type": "stream",
     "text": [
      "2019_05_STANDARD_CHARTERED_PLC.txt)\tcos=0.788\n",
      "2019_06_AstraZeneca_PLC.txt)\tcos=0.783\n",
      "2019_06_Convatec_Group_PLC.txt)\tcos=0.783\n",
      "2019_06_GSK_PLC.txt)\tcos=0.810\n",
      "2019_06_Genus_PLC.txt)\tcos=0.769\n",
      "2019_06_Smith_&_Nephew_PLC.txt)\tcos=0.790\n",
      "2019_07_HALMA_PLC.txt)\tcos=0.790\n",
      "2019_07_IMI_PLC.txt)\tcos=0.793\n",
      "2019_07_INTERTEK_GROUP_PLC.txt)\tcos=0.779\n",
      "2019_07_MELROSE_INDUSTRIES_PLC.txt)\tcos=0.773\n",
      "2019_07_RENTOKIL_INITIAL_PLC.txt)\tcos=0.795\n",
      "2019_07_SMITH_(DS)_PLC.txt)\tcos=0.763\n",
      "2019_08_BIG_YELLOW_GROUP_PLC.txt)\tcos=0.786\n",
      "2019_08_DERWENT_LONDON_PLC.txt)\tcos=0.785\n",
      "2019_08_LAND_SECURITIES_GROUP_PLC.txt)\tcos=0.782\n",
      "2019_08_RIGHTMOVE_PLC.txt)\tcos=0.763\n",
      "2019_08_SHAFTESBURY_CAPITAL_PLC.txt)\tcos=0.743\n",
      "2019_08_TRITAX_BIG_BOX_REIT_PLC.txt)\tcos=0.724\n",
      "2019_09_AUTO_TRADER_GROUP_PLC.txt)\tcos=0.784\n",
      "2019_10_BT_GROUP_PLC.txt)\tcos=0.779\n",
      "2019_10_FILTRONIC_PLC.txt)\tcos=0.773\n",
      "2019_10_SPIRENT_COMMUNICATIONS_PLC.txt)\tcos=0.784\n",
      "2019_10_VODAFONE_GROUP_PLC.txt)\tcos=0.782\n",
      "2019_11_CENTRICA_PLC.txt)\tcos=0.763\n",
      "2019_11_GOOD_ENERGY_GROUP_PLC.txt)\tcos=0.759\n",
      "2019_11_RENEWI_PLC.txt)\tcos=0.764\n",
      "2019_11_SSE_PLC.txt)\tcos=0.793\n",
      "2019_11_YU_GROUP_PLC.txt)\tcos=0.767\n",
      "2020_01_ANGLO_AMERICAN_PLC.txt)\tcos=0.798\n",
      "2020_01_ANTOFAGASTA_PLC.txt)\tcos=0.775\n",
      "2020_01_CRODA_INTERNATIONAL_PLC.txt)\tcos=0.782\n",
      "2020_01_ENDEAVOUR_MINING_PLC.txt)\tcos=0.787\n",
      "2020_01_JOHNSON_MATTHEY_PLC.txt)\tcos=0.801\n",
      "2020_01_RIO_TINTO_PLC.txt)\tcos=0.775\n",
      "2020_01_SYNTHOMER_PLC.txt)\tcos=0.775\n",
      "2020_02_BARRATT_DEVELOPMENTS_PLC.txt)\tcos=0.793\n",
      "2020_02_BERKELEY_GROUP_HOLDINGS_(THE)_PLC.txt)\tcos=0.794\n",
      "2020_02_BURBERRY_GROUP_PLC.txt)\tcos=0.768\n",
      "2020_02_COMPASS_GROUP_PLC.txt)\tcos=0.772\n",
      "2020_02_INFORMA_PLC.txt)\tcos=0.768\n",
      "2020_02_INTERCONTINENTAL_HOTELS_GROUP_PLC.txt)\tcos=0.752\n",
      "2020_02_NEXT_PLC.txt)\tcos=0.771\n",
      "2020_02_PERSIMMON_PLC.txt)\tcos=0.763\n",
      "2020_02_RELX_PLC.txt)\tcos=0.801\n",
      "2020_03_Associated_British_Foods_PLC.txt)\tcos=0.794\n",
      "2020_03_Coca-Cola_Europacific_Partners_PLC.txt)\tcos=0.806\n",
      "2020_03_Imperial_Brands_PLC.txt)\tcos=0.787\n",
      "2020_03_Marks_and_Spencer_Group_PLC.txt)\tcos=0.758\n",
      "2020_03_Reckitt_Benckiser_Group_PLC.txt)\tcos=0.792\n",
      "2020_03_Sainsbury_(J)_PLC.txt)\tcos=0.755\n",
      "2020_03_Tesco_PLC.txt)\tcos=0.774\n",
      "2020_03_Unilever_PLC.txt)\tcos=0.786\n",
      "2020_04_BP_PLC.txt)\tcos=0.788\n",
      "2020_04_DIVERSIFIED_ENERGY_COMPANY_PLC.txt)\tcos=0.781\n",
      "2020_04_Energean.txt)\tcos=0.776\n",
      "2020_04_HUNTING_PLC.txt)\tcos=0.764\n",
      "2020_04_SERICA_ENERGY_PLC.txt)\tcos=0.767\n",
      "2020_04_WOOD_GROUP_(JOHN)_PLC.txt)\tcos=0.763\n",
      "2020_05_AVIVA_PLC.txt)\tcos=0.736\n",
      "2020_05_BARCLAYS_PLC.txt)\tcos=0.765\n",
      "2020_05_HSBC_HOLDINGS_PLC.txt)\tcos=0.772\n",
      "2020_05_LEGAL_&_GENERAL_GROUP_PLC.txt)\tcos=0.773\n",
      "2020_05_LONDON_STOCK_EXCHANGE_GROUP_PLC.txt)\tcos=0.771\n",
      "2020_05_NATWEST_GROUP_PLC.txt)\tcos=0.777\n",
      "2020_05_STANDARD_CHARTERED_PLC.txt)\tcos=0.783\n",
      "2020_06_AstraZeneca_PLC.txt)\tcos=0.781\n",
      "2020_06_Convatec_Group_PLC.txt)\tcos=0.783\n",
      "2020_06_GSK_PLC.txt)\tcos=0.817\n",
      "2020_06_Genus_PLC.txt)\tcos=0.777\n",
      "2020_06_Hikma_Pharmaceuticals_PLC.txt)\tcos=0.785\n",
      "2020_06_Smith_&_Nephew_PLC.txt)\tcos=0.789\n",
      "2020_07_BUNZL_PLC.txt)\tcos=0.747\n",
      "2020_07_HALMA_PLC.txt)\tcos=0.785\n",
      "2020_07_IMI_PLC.txt)\tcos=0.788\n",
      "2020_07_INTERTEK_GROUP_PLC.txt)\tcos=0.784\n",
      "2020_07_MELROSE_INDUSTRIES_PLC.txt)\tcos=0.787\n",
      "2020_07_RENTOKIL_INITIAL_PLC.txt)\tcos=0.792\n",
      "2020_07_SMITH_(DS)_PLC.txt)\tcos=0.766\n",
      "2020_08_BIG_YELLOW_GROUP_PLC.txt)\tcos=0.792\n",
      "2020_08_DERWENT_LONDON_PLC.txt)\tcos=0.789\n",
      "2020_08_LAND_SECURITIES_GROUP_PLC.txt)\tcos=0.793\n",
      "2020_08_RIGHTMOVE_PLC.txt)\tcos=0.772\n",
      "2020_08_SEGRO_PLC.txt)\tcos=0.750\n",
      "2020_08_SHAFTESBURY_CAPITAL_PLC.txt)\tcos=0.735\n",
      "2020_08_TRITAX_BIG_BOX_REIT_PLC.txt)\tcos=0.770\n",
      "2020_09_AUTO_TRADER_GROUP_PLC.txt)\tcos=0.793\n",
      "2020_10_BT_GROUP_PLC.txt)\tcos=0.780\n",
      "2020_10_FILTRONIC_PLC.txt)\tcos=0.763\n",
      "2020_10_HELIOS_TOWERS_PLC.txt)\tcos=0.773\n",
      "2020_10_SPIRENT_COMMUNICATIONS_PLC.txt)\tcos=0.783\n",
      "2020_10_VODAFONE_GROUP_PLC.txt)\tcos=0.772\n",
      "2020_11_CENTRICA_PLC.txt)\tcos=0.769\n",
      "2020_11_GOOD_ENERGY_GROUP_PLC.txt)\tcos=0.761\n",
      "2020_11_NATIONAL_GRID_PLC.txt)\tcos=0.782\n",
      "2020_11_SEVERN_TRENT_PLC.txt)\tcos=0.778\n",
      "2020_11_SSE_PLC.txt)\tcos=0.785\n",
      "2020_11_YU_GROUP_PLC.txt)\tcos=0.767\n",
      "2021_01_ANGLO_AMERICAN_PLC.txt)\tcos=0.798\n",
      "2021_01_ANTOFAGASTA_PLC.txt)\tcos=0.779\n",
      "2021_01_CRODA_INTERNATIONAL_PLC.txt)\tcos=0.771\n",
      "2021_01_ENDEAVOUR_MINING_PLC.txt)\tcos=0.784\n",
      "2021_01_EVRAZ_PLC.txt)\tcos=0.771\n",
      "2021_01_HOCHSCHILD_MINING_PLC.txt)\tcos=0.769\n",
      "2021_01_JOHNSON_MATTHEY_PLC.txt)\tcos=0.798\n",
      "2021_01_RIO_TINTO_PLC.txt)\tcos=0.780\n",
      "2021_01_SYNTHOMER_PLC.txt)\tcos=0.787\n",
      "2021_02_BARRATT_DEVELOPMENTS_PLC.txt)\tcos=0.789\n",
      "2021_02_BERKELEY_GROUP_HOLDINGS_(THE)_PLC.txt)\tcos=0.764\n",
      "2021_02_BURBERRY_GROUP_PLC.txt)\tcos=0.769\n",
      "2021_02_COMPASS_GROUP_PLC.txt)\tcos=0.772\n",
      "2021_02_INFORMA_PLC.txt)\tcos=0.759\n",
      "2021_02_INTERCONTINENTAL_HOTELS_GROUP_PLC.txt)\tcos=0.760\n",
      "2021_02_NEXT_PLC.txt)\tcos=0.777\n",
      "2021_02_PERSIMMON_PLC.txt)\tcos=0.768\n",
      "2021_02_RELX_PLC.txt)\tcos=0.796\n",
      "2021_03_Associated_British_Foods_PLC.txt)\tcos=0.791\n",
      "2021_03_Coca-Cola_Europacific_Partners_PLC.txt)\tcos=0.806\n",
      "2021_03_Diageo_PLC.txt)\tcos=0.795\n",
      "2021_03_Imperial_Brands_PLC.txt)\tcos=0.775\n",
      "2021_03_Marks_and_Spencer_Group_PLC.txt)\tcos=0.781\n",
      "2021_03_Reckitt_Benckiser_Group_PLC.txt)\tcos=0.789\n",
      "2021_03_Sainsbury_(J)_PLC.txt)\tcos=0.759\n",
      "2021_03_Unilever_PLC.txt)\tcos=0.789\n",
      "2021_04_ASHTEAD_TECHNOLOGY_HOLDINGS_PLC.txt)\tcos=0.791\n",
      "2021_04_DIVERSIFIED_ENERGY_COMPANY_PLC.txt)\tcos=0.787\n",
      "2021_04_Energean.txt)\tcos=0.777\n",
      "2021_04_HUNTING_PLC.txt)\tcos=0.756\n",
      "2021_04_SERICA_ENERGY_PLC.txt)\tcos=0.770\n",
      "2021_04_Shell.txt)\tcos=0.800\n",
      "2021_04_WOOD_GROUP_(JOHN)_PLC.txt)\tcos=0.734\n",
      "2021_05_AVIVA_PLC.txt)\tcos=0.748\n",
      "2021_05_BARCLAYS_PLC.txt)\tcos=0.764\n",
      "2021_05_HSBC_HOLDINGS_PLC.txt)\tcos=0.781\n",
      "2021_05_LEGAL_&_GENERAL_GROUP_PLC.txt)\tcos=0.773\n",
      "2021_05_LONDON_STOCK_EXCHANGE_GROUP_PLC.txt)\tcos=0.763\n",
      "2021_05_NATWEST_GROUP_PLC.txt)\tcos=0.770\n",
      "2021_05_STANDARD_CHARTERED_PLC.txt)\tcos=0.783\n",
      "2021_06_AstraZeneca_PLC.txt)\tcos=0.784\n",
      "2021_06_Convatec_Group_PLC.txt)\tcos=0.774\n",
      "2021_06_GSK_PLC.txt)\tcos=0.813\n",
      "2021_06_Genus_PLC.txt)\tcos=0.782\n",
      "2021_06_Smith_&_Nephew_PLC.txt)\tcos=0.794\n",
      "2021_07_BAE_SYSTEMS_PLC.txt)\tcos=0.779\n",
      "2021_07_HALMA_PLC.txt)\tcos=0.798\n",
      "2021_07_IMI_PLC.txt)\tcos=0.790\n",
      "2021_07_MELROSE_INDUSTRIES_PLC.txt)\tcos=0.784\n",
      "2021_07_RENTOKIL_INITIAL_PLC.txt)\tcos=0.798\n",
      "2021_07_SMITH_(DS)_PLC.txt)\tcos=0.786\n",
      "2021_08_BIG_YELLOW_GROUP_PLC.txt)\tcos=0.791\n",
      "2021_08_LAND_SECURITIES_GROUP_PLC.txt)\tcos=0.794\n",
      "2021_08_RIGHTMOVE_PLC.txt)\tcos=0.769\n",
      "2021_08_SHAFTESBURY_CAPITAL_PLC.txt)\tcos=0.737\n",
      "2021_08_TRITAX_BIG_BOX_REIT_PLC.txt)\tcos=0.771\n",
      "2021_08_UNITE_GROUP_PLC.txt)\tcos=0.692\n",
      "2021_09_ALPHAWAVE_IP_GROUP_PLC.txt)\tcos=0.791\n",
      "2021_09_AUTO_TRADER_GROUP_PLC.txt)\tcos=0.791\n",
      "2021_09_BIG_TECHNOLOGIES_PLC.txt)\tcos=0.754\n",
      "2021_09_BYTES_TECHNOLOGY_GROUP_PLC.txt)\tcos=0.765\n",
      "2021_09_COMPUTACENTER_PLC.txt)\tcos=0.788\n",
      "2021_09_DELIVEROO_PLC.txt)\tcos=0.703\n",
      "2021_09_SAGE_GROUP_PLC.txt)\tcos=0.785\n",
      "2021_09_TRUSTPILOT_GROUP_PLC.txt)\tcos=0.763\n",
      "2021_10_AIRTEL_AFRICA_PLC.txt)\tcos=0.746\n",
      "2021_10_BT_GROUP_PLC.txt)\tcos=0.778\n",
      "2021_10_FILTRONIC_PLC.txt)\tcos=0.758\n",
      "2021_10_HELIOS_TOWERS_PLC.txt)\tcos=0.777\n",
      "2021_10_SPIRENT_COMMUNICATIONS_PLC.txt)\tcos=0.783\n",
      "2021_10_VODAFONE_GROUP_PLC.txt)\tcos=0.771\n",
      "2021_11_CENTRICA_PLC.txt)\tcos=0.766\n",
      "2021_11_NATIONAL_GRID_PLC.txt)\tcos=0.791\n",
      "2021_11_PENNON_GROUP_PLC.txt)\tcos=0.783\n",
      "2021_11_RENEWI_PLC.txt)\tcos=0.769\n",
      "2021_11_YU_GROUP_PLC.txt)\tcos=0.765\n",
      "2022_01_ANGLO_AMERICAN_PLC.txt)\tcos=0.794\n",
      "2022_01_ANTOFAGASTA_PLC.txt)\tcos=0.770\n",
      "2022_01_CRODA_INTERNATIONAL_PLC.txt)\tcos=0.767\n",
      "2022_01_ENDEAVOUR_MINING_PLC.txt)\tcos=0.778\n",
      "2022_01_JOHNSON_MATTHEY_PLC.txt)\tcos=0.794\n",
      "2022_01_RIO_TINTO_PLC.txt)\tcos=0.786\n",
      "2022_01_SYNTHOMER_PLC.txt)\tcos=0.777\n",
      "2022_02_BARRATT_DEVELOPMENTS_PLC.txt)\tcos=0.790\n",
      "2022_02_BERKELEY_GROUP_HOLDINGS_(THE)_PLC.txt)\tcos=0.778\n",
      "2022_02_BURBERRY_GROUP_PLC.txt)\tcos=0.769\n",
      "2022_02_COMPASS_GROUP_PLC.txt)\tcos=0.721\n",
      "2022_02_INFORMA_PLC.txt)\tcos=0.771\n",
      "2022_02_INTERCONTINENTAL_HOTELS_GROUP_PLC.txt)\tcos=0.764\n",
      "2022_02_NEXT_PLC.txt)\tcos=0.774\n",
      "2022_02_PERSIMMON_PLC.txt)\tcos=0.779\n",
      "2022_02_RELX_PLC.txt)\tcos=0.792\n",
      "2022_02_WHITBREAD_PLC.txt)\tcos=0.740\n",
      "2022_03_Associated_British_Foods_PLC.txt)\tcos=0.794\n",
      "2022_03_British_American_Tobacco_PLC.txt)\tcos=0.802\n",
      "2022_03_Coca-Cola_Europacific_Partners_PLC.txt)\tcos=0.807\n",
      "2022_03_Diageo_PLC.txt)\tcos=0.801\n",
      "2022_03_Imperial_Brands_PLC.txt)\tcos=0.780\n",
      "2022_03_Marks_and_Spencer_Group_PLC.txt)\tcos=0.780\n",
      "2022_03_Reckitt_Benckiser_Group_PLC.txt)\tcos=0.793\n",
      "2022_03_Sainsbury_(J)_PLC.txt)\tcos=0.761\n",
      "2022_03_Tesco_PLC.txt)\tcos=0.767\n",
      "2022_03_Unilever_PLC.txt)\tcos=0.785\n",
      "2022_04_ASHTEAD_TECHNOLOGY_HOLDINGS_PLC.txt)\tcos=0.791\n",
      "2022_04_DIVERSIFIED_ENERGY_COMPANY_PLC.txt)\tcos=0.796\n",
      "2022_04_Energean.txt)\tcos=0.773\n",
      "2022_04_HUNTING_PLC.txt)\tcos=0.755\n",
      "2022_04_ITHACA_ENERGY_PLC.txt)\tcos=0.764\n",
      "2022_04_SERICA_ENERGY_PLC.txt)\tcos=0.784\n",
      "2022_04_Shell.txt)\tcos=0.796\n",
      "2022_04_WOOD_GROUP_(JOHN)_PLC.txt)\tcos=0.725\n",
      "2022_05_AVIVA_PLC.txt)\tcos=0.766\n",
      "2022_05_BARCLAYS_PLC.txt)\tcos=0.759\n",
      "2022_05_HSBC_HOLDINGS_PLC.txt)\tcos=0.772\n",
      "2022_05_LEGAL_&_GENERAL_GROUP_PLC.txt)\tcos=0.800\n",
      "2022_05_LONDON_STOCK_EXCHANGE_GROUP_PLC.txt)\tcos=0.767\n",
      "2022_05_STANDARD_CHARTERED_PLC.txt)\tcos=0.779\n",
      "2022_06_AstraZeneca_PLC.txt)\tcos=0.776\n",
      "2022_06_Convatec_Group_PLC.txt)\tcos=0.787\n",
      "2022_06_GSK_PLC.txt)\tcos=0.804\n",
      "2022_06_Genus_PLC.txt)\tcos=0.771\n",
      "2022_06_Hikma_Pharmaceuticals_PLC.txt)\tcos=0.788\n",
      "2022_06_Indivior_PLC.txt)\tcos=0.754\n",
      "2022_06_Oxford_Nanopore_Technologies_PLC.txt)\tcos=0.760\n",
      "2022_06_Smith_&_Nephew_PLC.txt)\tcos=0.795\n",
      "2022_07_BAE_SYSTEMS_PLC.txt)\tcos=0.801\n",
      "2022_07_HALMA_PLC.txt)\tcos=0.802\n",
      "2022_07_IMI_PLC.txt)\tcos=0.793\n",
      "2022_07_MELROSE_INDUSTRIES_PLC.txt)\tcos=0.778\n",
      "2022_07_RENTOKIL_INITIAL_PLC.txt)\tcos=0.790\n",
      "2022_08_PRIMARY_HEALTH_PROPERTIES_PLC.txt)\tcos=0.760\n"
     ]
    },
    {
     "name": "stdout",
     "output_type": "stream",
     "text": [
      "2022_08_RIGHTMOVE_PLC.txt)\tcos=0.753\n",
      "2022_08_SEGRO_PLC.txt)\tcos=0.758\n",
      "2022_08_SHAFTESBURY_CAPITAL_PLC.txt)\tcos=0.787\n",
      "2022_08_TRITAX_BIG_BOX_REIT_PLC.txt)\tcos=0.775\n",
      "2022_08_UNITE_GROUP_PLC.txt)\tcos=0.788\n",
      "2022_09_BIG_TECHNOLOGIES_PLC.txt)\tcos=0.773\n",
      "2022_09_BYTES_TECHNOLOGY_GROUP_PLC.txt)\tcos=0.778\n",
      "2022_09_COMPUTACENTER_PLC.txt)\tcos=0.782\n",
      "2022_09_DELIVEROO_PLC.txt)\tcos=0.757\n",
      "2022_09_SAGE_GROUP_PLC.txt)\tcos=0.783\n",
      "2022_09_TRUSTPILOT_GROUP_PLC.txt)\tcos=0.781\n",
      "2022_10_AIRTEL_AFRICA_PLC.txt)\tcos=0.778\n",
      "2022_10_BT_GROUP_PLC.txt)\tcos=0.814\n",
      "2022_10_FILTRONIC_PLC.txt)\tcos=0.759\n",
      "2022_10_GAMMA_COMMUNICATIONS_PLC.txt)\tcos=0.772\n",
      "2022_10_HELIOS_TOWERS_PLC.txt)\tcos=0.754\n",
      "2022_10_SPIRENT_COMMUNICATIONS_PLC.txt)\tcos=0.786\n",
      "2022_10_TELECOM_PLUS_PLC.txt)\tcos=0.784\n",
      "2022_10_VODAFONE_GROUP_PLC.txt)\tcos=0.774\n",
      "2022_11_CENTRICA_PLC.txt)\tcos=0.771\n",
      "2022_11_GOOD_ENERGY_GROUP_PLC.txt)\tcos=0.772\n",
      "2022_11_NATIONAL_GRID_PLC.txt)\tcos=0.790\n",
      "2022_11_PENNON_GROUP_PLC.txt)\tcos=0.799\n",
      "2022_11_RENEWI_PLC.txt)\tcos=0.771\n",
      "2022_11_SEVERN_TRENT_PLC.txt)\tcos=0.795\n",
      "2023_01_ANGLO_AMERICAN_PLC.txt)\tcos=0.799\n",
      "2023_01_CRODA_INTERNATIONAL_PLC.txt)\tcos=0.760\n",
      "2023_01_ENDEAVOUR_MINING_PLC.txt)\tcos=0.771\n",
      "2023_01_JOHNSON_MATTHEY_PLC.txt)\tcos=0.793\n",
      "2023_01_RIO_TINTO_PLC.txt)\tcos=0.777\n",
      "2023_01_SYNTHOMER_PLC.txt)\tcos=0.781\n",
      "2023_02_BARRATT_DEVELOPMENTS_PLC.txt)\tcos=0.789\n",
      "2023_02_BERKELEY_GROUP_HOLDINGS_(THE)_PLC.txt)\tcos=0.769\n",
      "2023_02_BURBERRY_GROUP_PLC.txt)\tcos=0.765\n",
      "2023_02_COMPASS_GROUP_PLC.txt)\tcos=0.748\n",
      "2023_02_INFORMA_PLC.txt)\tcos=0.766\n",
      "2023_02_INTERCONTINENTAL_HOTELS_GROUP_PLC.txt)\tcos=0.764\n",
      "2023_02_NEXT_PLC.txt)\tcos=0.782\n",
      "2023_02_PERSIMMON_PLC.txt)\tcos=0.784\n",
      "2023_02_RELX_PLC.txt)\tcos=0.792\n",
      "2023_02_WHITBREAD_PLC.txt)\tcos=0.785\n",
      "2023_03_Associated_British_Foods_PLC.txt)\tcos=0.794\n",
      "2023_03_British_American_Tobacco_PLC.txt)\tcos=0.784\n",
      "2023_03_Coca-Cola_Europacific_Partners_PLC.txt)\tcos=0.807\n",
      "2023_03_Diageo_PLC.txt)\tcos=0.803\n",
      "2023_03_Imperial_Brands_PLC.txt)\tcos=0.784\n",
      "2023_03_Marks_and_Spencer_Group_PLC.txt)\tcos=0.779\n",
      "2023_03_Reckitt_Benckiser_Group_PLC.txt)\tcos=0.789\n",
      "2023_03_Sainsbury_(J)_PLC.txt)\tcos=0.772\n",
      "2023_03_Tesco_PLC.txt)\tcos=0.762\n",
      "2023_03_Unilever_PLC.txt)\tcos=0.786\n",
      "2023_04_ASHTEAD_TECHNOLOGY_HOLDINGS_PLC.txt)\tcos=0.769\n",
      "2023_04_DIVERSIFIED_ENERGY_COMPANY_PLC.txt)\tcos=0.794\n",
      "2023_04_Energean.txt)\tcos=0.775\n",
      "2023_04_HARBOUR_ENERGY_PLC.txt)\tcos=0.783\n",
      "2023_04_HUNTING_PLC.txt)\tcos=0.760\n",
      "2023_04_ITHACA_ENERGY_PLC.txt)\tcos=0.766\n",
      "2023_04_SERICA_ENERGY_PLC.txt)\tcos=0.776\n",
      "2023_04_Shell.txt)\tcos=0.799\n",
      "2023_04_WOOD_GROUP_(JOHN)_PLC.txt)\tcos=0.777\n",
      "2023_05_AVIVA_PLC.txt)\tcos=0.758\n",
      "2023_05_BARCLAYS_PLC.txt)\tcos=0.754\n",
      "2023_05_HSBC_HOLDINGS_PLC.txt)\tcos=0.775\n",
      "2023_05_LEGAL_&_GENERAL_GROUP_PLC.txt)\tcos=0.801\n",
      "2023_05_LONDON_STOCK_EXCHANGE_GROUP_PLC.txt)\tcos=0.769\n",
      "2023_05_SCOTTISH_MORTGAGE_INVESTMENT_TRUST_PLC.txt)\tcos=0.793\n",
      "2023_05_STANDARD_CHARTERED_PLC.txt)\tcos=0.786\n",
      "2023_06_AstraZeneca_PLC.txt)\tcos=0.769\n",
      "2023_06_Convatec_Group_PLC.txt)\tcos=0.792\n",
      "2023_06_GSK_PLC.txt)\tcos=0.809\n",
      "2023_06_Genus_PLC.txt)\tcos=0.783\n",
      "2023_06_Hikma_Pharmaceuticals_PLC.txt)\tcos=0.773\n",
      "2023_06_Indivior_PLC.txt)\tcos=0.771\n",
      "2023_06_PureTech_Health_PLC.txt)\tcos=0.832\n",
      "2023_06_Smith_&_Nephew_PLC.txt)\tcos=0.801\n",
      "2023_07_BAE_SYSTEMS_PLC.txt)\tcos=0.762\n",
      "2023_07_BUNZL_PLC.txt)\tcos=0.762\n",
      "2023_07_HALMA_PLC.txt)\tcos=0.797\n",
      "2023_07_IMI_PLC.txt)\tcos=0.799\n",
      "2023_07_INTERTEK_GROUP_PLC.txt)\tcos=0.803\n",
      "2023_07_MELROSE_INDUSTRIES_PLC.txt)\tcos=0.773\n",
      "2023_07_RENTOKIL_INITIAL_PLC.txt)\tcos=0.795\n",
      "2023_07_SMITH_(DS)_PLC.txt)\tcos=0.790\n",
      "2023_07_WISE_PLC.txt)\tcos=0.745\n",
      "2023_08_DERWENT_LONDON_PLC.txt)\tcos=0.786\n",
      "2023_08_LAND_SECURITIES_GROUP_PLC.txt)\tcos=0.800\n",
      "2023_08_PRIMARY_HEALTH_PROPERTIES_PLC.txt)\tcos=0.765\n",
      "2023_08_RIGHTMOVE_PLC.txt)\tcos=0.761\n",
      "2023_08_SEGRO_PLC.txt)\tcos=0.757\n",
      "2023_08_SHAFTESBURY_CAPITAL_PLC.txt)\tcos=0.770\n",
      "2023_08_TRITAX_BIG_BOX_REIT_PLC.txt)\tcos=0.777\n",
      "2023_08_UNITE_GROUP_PLC.txt)\tcos=0.789\n",
      "2023_09_ALPHAWAVE_IP_GROUP_PLC.txt)\tcos=0.796\n",
      "2023_09_BIG_TECHNOLOGIES_PLC.txt)\tcos=0.781\n",
      "2023_09_BYTES_TECHNOLOGY_GROUP_PLC.txt)\tcos=0.778\n",
      "2023_09_COMPUTACENTER_PLC.txt)\tcos=0.785\n",
      "2023_09_DELIVEROO_PLC.txt)\tcos=0.769\n",
      "2023_09_SAGE_GROUP_PLC.txt)\tcos=0.772\n",
      "2023_09_TRUSTPILOT_GROUP_PLC.txt)\tcos=0.782\n",
      "2023_10_BT_GROUP_PLC.txt)\tcos=0.802\n",
      "2023_10_FILTRONIC_PLC.txt)\tcos=0.696\n",
      "2023_10_HELIOS_TOWERS_PLC.txt)\tcos=0.757\n",
      "2023_10_SPIRENT_COMMUNICATIONS_PLC.txt)\tcos=0.781\n",
      "2023_10_TELECOM_PLUS_PLC.txt)\tcos=0.792\n",
      "2023_10_VODAFONE_GROUP_PLC.txt)\tcos=0.749\n",
      "2023_11_CENTRICA_PLC.txt)\tcos=0.769\n",
      "2023_11_DRAX_GROUP_PLC.txt)\tcos=0.778\n",
      "2023_11_GOOD_ENERGY_GROUP_PLC.txt)\tcos=0.766\n",
      "2023_11_NATIONAL_GRID_PLC.txt)\tcos=0.783\n",
      "2023_11_PENNON_GROUP_PLC.txt)\tcos=0.764\n",
      "2023_11_RENEWI_PLC.txt)\tcos=0.765\n",
      "2023_11_SEVERN_TRENT_PLC.txt)\tcos=0.784\n",
      "2023_11_SSE_PLC.txt)\tcos=0.785\n",
      "2023_11_UNITED_UTILITIES_GROUP_PLC.txt)\tcos=0.776\n",
      "2023_11_YU_GROUP_PLC.txt)\tcos=0.790\n",
      "2024_10_AIRTEL_AFRICA_PLC.txt)\tcos=0.757\n",
      "2024_10_TELECOM_PLUS_PLC.txt)\tcos=0.797\n"
     ]
    }
   ],
   "source": [
    "cos_sims=np.zeros(len(vecfiles))\n",
    "for i, vecfile in enumerate(tqdm(vecfiles)):\n",
    "    vec=np.genfromtxt(VECTOR_FOLDER+vecfile)\n",
    "    cos_sim=float(util.cos_sim(wittenvec, vec))\n",
    "    print(f'{vecfile:})\\tcos={cos_sim:.3f}')\n",
    "    cos_sims[i]=cos_sim"
   ]
  },
  {
   "cell_type": "code",
   "execution_count": 111,
   "id": "f1176988",
   "metadata": {
    "ExecuteTime": {
     "end_time": "2025-04-17T09:16:49.223312Z",
     "start_time": "2025-04-17T09:16:48.549385Z"
    }
   },
   "outputs": [
    {
     "data": {
      "image/png": "[encoded data removed]",
      "text/plain": [
       "<Figure size 640x480 with 1 Axes>"
      ]
     },
     "metadata": {},
     "output_type": "display_data"
    }
   ],
   "source": [
    "plt.hist(cos_sims, edgecolor='black')\n",
    "plt.suptitle('Witten vs. sustainability reports', fontsize=20)\n",
    "plt.xlabel('Cosine similarity', fontsize=16)\n",
    "plt.show()"
   ]
  },
  {
   "cell_type": "code",
   "execution_count": null,
   "id": "6318c77a",
   "metadata": {},
   "outputs": [],
   "source": []
  }
 ],
 "metadata": {
  "kernelspec": {
   "display_name": "Python 3 (ipykernel)",
   "language": "python",
   "name": "python3"
  },
  "language_info": {
   "codemirror_mode": {
    "name": "ipython",
    "version": 3
   },
   "file_extension": ".py",
   "mimetype": "text/x-python",
   "name": "python",
   "nbconvert_exporter": "python",
   "pygments_lexer": "ipython3",
   "version": "3.8.10"
  },
  "notify_time": "5",
  "toc": {
   "base_numbering": 1,
   "nav_menu": {},
   "number_sections": true,
   "sideBar": true,
   "skip_h1_title": false,
   "title_cell": "Table of Contents",
   "title_sidebar": "Contents",
   "toc_cell": false,
   "toc_position": {
    "height": "752px",
    "left": "66px",
    "top": "67.125px",
    "width": "369.594px"
   },
   "toc_section_display": true,
   "toc_window_display": true
  }
 },
 "nbformat": 4,
 "nbformat_minor": 5
}
