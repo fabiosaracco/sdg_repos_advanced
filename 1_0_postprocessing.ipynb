{
 "cells": [
  {
   "cell_type": "markdown",
   "id": "75c912f5",
   "metadata": {},
   "source": [
    "# Intro"
   ]
  },
  {
   "cell_type": "markdown",
   "id": "3bbfe9d1",
   "metadata": {},
   "source": [
    "## Premise\n",
    "The issue is always the same: is everything we are doing correct?  \n",
    "The fact that there is a non trivial superposition between Witten's review and all our documents is suspect..."
   ]
  },
  {
   "cell_type": "markdown",
   "id": "6e601f87",
   "metadata": {},
   "source": [
    "## Standard modules"
   ]
  },
  {
   "cell_type": "code",
   "execution_count": 2,
   "id": "be8e140b",
   "metadata": {
    "ExecuteTime": {
     "end_time": "2025-06-17T07:11:16.983009Z",
     "start_time": "2025-06-17T07:11:16.888365Z"
    }
   },
   "outputs": [],
   "source": [
    "import os, sys\n",
    "import pathlib\n",
    "import requests"
   ]
  },
  {
   "cell_type": "code",
   "execution_count": 3,
   "id": "13a9f8d0",
   "metadata": {
    "ExecuteTime": {
     "end_time": "2025-06-17T07:11:17.175354Z",
     "start_time": "2025-06-17T07:11:16.986351Z"
    }
   },
   "outputs": [],
   "source": [
    "import numpy as np"
   ]
  },
  {
   "cell_type": "code",
   "execution_count": 4,
   "id": "21a0c7da",
   "metadata": {
    "ExecuteTime": {
     "end_time": "2025-06-17T07:11:17.304369Z",
     "start_time": "2025-06-17T07:11:17.177995Z"
    }
   },
   "outputs": [],
   "source": [
    "from tqdm.auto import tqdm, trange"
   ]
  },
  {
   "cell_type": "code",
   "execution_count": 5,
   "id": "cbe7afbc",
   "metadata": {
    "ExecuteTime": {
     "end_time": "2025-06-17T07:11:20.798536Z",
     "start_time": "2025-06-17T07:11:17.308505Z"
    }
   },
   "outputs": [],
   "source": [
    "from sentence_transformers import util"
   ]
  },
  {
   "cell_type": "code",
   "execution_count": 6,
   "id": "24d3e52d",
   "metadata": {
    "ExecuteTime": {
     "end_time": "2025-06-17T07:11:21.539561Z",
     "start_time": "2025-06-17T07:11:20.801497Z"
    }
   },
   "outputs": [],
   "source": [
    "import matplotlib.pyplot as plt\n",
    "plt.rcParams['axes.linewidth'] = 2\n",
    "plt.rcParams['xtick.major.size'] = 10\n",
    "plt.rcParams['xtick.major.width'] = 2\n",
    "plt.rcParams['ytick.major.size'] = 10\n",
    "plt.rcParams['ytick.major.width'] = 2\n",
    "\n",
    "plt.rcParams['xtick.labelsize'] = 14\n",
    "plt.rcParams['ytick.labelsize'] = 14\n",
    "\n",
    "plt.rcParams['xtick.minor.size'] = 5\n",
    "plt.rcParams['xtick.minor.width'] = 1\n",
    "plt.rcParams['ytick.minor.size'] = 5\n",
    "plt.rcParams['ytick.minor.width'] = 1"
   ]
  },
  {
   "cell_type": "code",
   "execution_count": 46,
   "id": "5a5bd2de",
   "metadata": {
    "ExecuteTime": {
     "end_time": "2025-06-17T07:20:49.071331Z",
     "start_time": "2025-06-17T07:20:49.065021Z"
    }
   },
   "outputs": [],
   "source": [
    "from sklearn.decomposition import PCA\n",
    "from sklearn.preprocessing import normalize\n",
    "from sklearn.preprocessing import RobustScaler"
   ]
  },
  {
   "cell_type": "code",
   "execution_count": 8,
   "id": "8a7330a1",
   "metadata": {
    "ExecuteTime": {
     "end_time": "2025-06-17T07:11:21.981670Z",
     "start_time": "2025-06-17T07:11:21.622133Z"
    }
   },
   "outputs": [],
   "source": [
    "import seaborn"
   ]
  },
  {
   "cell_type": "code",
   "execution_count": 9,
   "id": "3636923f",
   "metadata": {
    "ExecuteTime": {
     "end_time": "2025-06-17T07:11:21.991213Z",
     "start_time": "2025-06-17T07:11:21.984704Z"
    }
   },
   "outputs": [],
   "source": [
    "import pymannkendall as mk"
   ]
  },
  {
   "cell_type": "markdown",
   "id": "2019d161",
   "metadata": {},
   "source": [
    "## Personal modules"
   ]
  },
  {
   "cell_type": "code",
   "execution_count": 10,
   "id": "2d7821b8",
   "metadata": {
    "ExecuteTime": {
     "end_time": "2025-06-17T07:11:22.093758Z",
     "start_time": "2025-06-17T07:11:21.994390Z"
    }
   },
   "outputs": [],
   "source": [
    "from toolbox.updater import time_is_now"
   ]
  },
  {
   "cell_type": "code",
   "execution_count": 11,
   "id": "85f24530",
   "metadata": {
    "ExecuteTime": {
     "end_time": "2025-06-17T07:11:22.192862Z",
     "start_time": "2025-06-17T07:11:22.096518Z"
    }
   },
   "outputs": [],
   "source": [
    "from file2text import file2text"
   ]
  },
  {
   "cell_type": "code",
   "execution_count": 12,
   "id": "a5fa5288",
   "metadata": {
    "ExecuteTime": {
     "end_time": "2025-06-17T07:11:22.296208Z",
     "start_time": "2025-06-17T07:11:22.199585Z"
    }
   },
   "outputs": [],
   "source": [
    "from first_rough_cleaning import first_text_cleaner"
   ]
  },
  {
   "cell_type": "code",
   "execution_count": 13,
   "id": "9ee43257",
   "metadata": {
    "ExecuteTime": {
     "end_time": "2025-06-17T07:11:22.404751Z",
     "start_time": "2025-06-17T07:11:22.300355Z"
    }
   },
   "outputs": [],
   "source": [
    "from file_handler import *"
   ]
  },
  {
   "cell_type": "code",
   "execution_count": 14,
   "id": "3a2d82c1",
   "metadata": {
    "ExecuteTime": {
     "end_time": "2025-06-17T07:11:27.770388Z",
     "start_time": "2025-06-17T07:11:22.408458Z"
    }
   },
   "outputs": [
    {
     "name": "stderr",
     "output_type": "stream",
     "text": [
      "/home/sarawalk/sdgs_py38/lib/python3.8/site-packages/torch/cuda/__init__.py:118: UserWarning: CUDA initialization: The NVIDIA driver on your system is too old (found version 10020). Please update your GPU driver by downloading and installing a new version from the URL: http://www.nvidia.com/Download/index.aspx Alternatively, go to: https://pytorch.org to install a PyTorch version that has been compiled with your version of the CUDA driver. (Triggered internally at ../c10/cuda/CUDAFunctions.cpp:108.)\n",
      "  return torch._C._cuda_getDeviceCount() > 0\n"
     ]
    }
   ],
   "source": [
    "from jina4lote import jina4lote"
   ]
  },
  {
   "cell_type": "markdown",
   "id": "2d0b2454",
   "metadata": {},
   "source": [
    "## Folders"
   ]
  },
  {
   "cell_type": "code",
   "execution_count": 15,
   "id": "f3298589",
   "metadata": {
    "ExecuteTime": {
     "end_time": "2025-06-17T07:11:27.779328Z",
     "start_time": "2025-06-17T07:11:27.774216Z"
    }
   },
   "outputs": [],
   "source": [
    "VECTOR_FOLDER='./NewProcessedData/vectors/'"
   ]
  },
  {
   "cell_type": "code",
   "execution_count": 16,
   "id": "f694e569",
   "metadata": {
    "ExecuteTime": {
     "end_time": "2025-06-17T07:11:27.862043Z",
     "start_time": "2025-06-17T07:11:27.782577Z"
    }
   },
   "outputs": [],
   "source": [
    "BENCHMARK_FOLDER='./NewProcessedData/benchmarks/'"
   ]
  },
  {
   "cell_type": "code",
   "execution_count": 17,
   "id": "ed990525",
   "metadata": {
    "ExecuteTime": {
     "end_time": "2025-06-17T07:11:27.961967Z",
     "start_time": "2025-06-17T07:11:27.865071Z"
    }
   },
   "outputs": [],
   "source": [
    "PCA_CENTR_VECTOR_FOLDER='./NewProcessedData/pca_centr_vectors/'"
   ]
  },
  {
   "cell_type": "code",
   "execution_count": 18,
   "id": "897a0ec8",
   "metadata": {
    "ExecuteTime": {
     "end_time": "2025-06-17T07:11:28.059897Z",
     "start_time": "2025-06-17T07:11:27.965292Z"
    }
   },
   "outputs": [],
   "source": [
    "WIKI_FOLDER='./NewProcessedData/wikipedia/vectors/'"
   ]
  },
  {
   "cell_type": "markdown",
   "id": "54ff766b",
   "metadata": {},
   "source": [
    "## Reports' vectors"
   ]
  },
  {
   "cell_type": "code",
   "execution_count": 19,
   "id": "44235eb2",
   "metadata": {
    "ExecuteTime": {
     "end_time": "2025-06-17T07:11:28.136943Z",
     "start_time": "2025-06-17T07:11:28.066426Z"
    }
   },
   "outputs": [],
   "source": [
    "vecfiles=os.listdir(VECTOR_FOLDER)"
   ]
  },
  {
   "cell_type": "code",
   "execution_count": 20,
   "id": "c712da24",
   "metadata": {
    "ExecuteTime": {
     "end_time": "2025-06-17T07:11:28.228710Z",
     "start_time": "2025-06-17T07:11:28.139462Z"
    }
   },
   "outputs": [],
   "source": [
    "vecfiles.sort()"
   ]
  },
  {
   "cell_type": "code",
   "execution_count": 21,
   "id": "3207dafc",
   "metadata": {
    "ExecuteTime": {
     "end_time": "2025-06-17T07:11:28.327761Z",
     "start_time": "2025-06-17T07:11:28.231367Z"
    }
   },
   "outputs": [
    {
     "data": {
      "text/plain": [
       "575"
      ]
     },
     "execution_count": 21,
     "metadata": {},
     "output_type": "execute_result"
    }
   ],
   "source": [
    "# files from 2024 are un reliable, \n",
    "# as they probably refer to a different accounting year,\n",
    "# due to differences with other countries\n",
    "len(vecfiles)"
   ]
  },
  {
   "cell_type": "code",
   "execution_count": 22,
   "id": "a097e334",
   "metadata": {
    "ExecuteTime": {
     "end_time": "2025-06-17T07:11:28.420918Z",
     "start_time": "2025-06-17T07:11:28.334708Z"
    }
   },
   "outputs": [],
   "source": [
    "vecfiles=[vecfile for vecfile in vecfiles if not vecfile.startswith('2024')]"
   ]
  },
  {
   "cell_type": "code",
   "execution_count": 23,
   "id": "d521a0be",
   "metadata": {
    "ExecuteTime": {
     "end_time": "2025-06-17T07:11:28.514314Z",
     "start_time": "2025-06-17T07:11:28.423639Z"
    }
   },
   "outputs": [
    {
     "data": {
      "text/plain": [
       "573"
      ]
     },
     "execution_count": 23,
     "metadata": {},
     "output_type": "execute_result"
    }
   ],
   "source": [
    "len(vecfiles)"
   ]
  },
  {
   "cell_type": "markdown",
   "id": "48bcb39d",
   "metadata": {},
   "source": [
    "## Witten's vector"
   ]
  },
  {
   "cell_type": "code",
   "execution_count": 24,
   "id": "8399a6c9",
   "metadata": {
    "ExecuteTime": {
     "end_time": "2025-06-17T07:11:28.603619Z",
     "start_time": "2025-06-17T07:11:28.516899Z"
    }
   },
   "outputs": [],
   "source": [
    "wittenvecfile=[file for file in os.listdir(BENCHMARK_FOLDER) if file.startswith('Witten') and file.endswith('.txt')][0]"
   ]
  },
  {
   "cell_type": "code",
   "execution_count": 25,
   "id": "0900fd4a",
   "metadata": {
    "ExecuteTime": {
     "end_time": "2025-06-17T07:11:28.725332Z",
     "start_time": "2025-06-17T07:11:28.606489Z"
    }
   },
   "outputs": [],
   "source": [
    "wittenvec=np.genfromtxt(BENCHMARK_FOLDER+wittenvecfile)"
   ]
  },
  {
   "cell_type": "markdown",
   "id": "030f074f",
   "metadata": {},
   "source": [
    "# Mean vector"
   ]
  },
  {
   "cell_type": "code",
   "execution_count": 26,
   "id": "ef8ab9fe",
   "metadata": {
    "ExecuteTime": {
     "end_time": "2025-06-17T07:11:31.137193Z",
     "start_time": "2025-06-17T07:11:28.728213Z"
    }
   },
   "outputs": [
    {
     "data": {
      "application/vnd.jupyter.widget-view+json": {
       "model_id": "9f3173c35166430c89e8530d7c86f3fe",
       "version_major": 2,
       "version_minor": 0
      },
      "text/plain": [
       "  0%|          | 0/573 [00:00<?, ?it/s]"
      ]
     },
     "metadata": {},
     "output_type": "display_data"
    }
   ],
   "source": [
    "for i, vecfile in enumerate(tqdm(vecfiles)):\n",
    "    if i==0:\n",
    "        mean_vec=np.genfromtxt(VECTOR_FOLDER+vecfile)\n",
    "    else:\n",
    "        mean_vec+=np.genfromtxt(VECTOR_FOLDER+vecfile)\n",
    "mean_vec/=len(vecfiles)"
   ]
  },
  {
   "cell_type": "markdown",
   "id": "d039590c",
   "metadata": {},
   "source": [
    "# Witten is quite close to be mean"
   ]
  },
  {
   "cell_type": "markdown",
   "id": "eb3cf81c",
   "metadata": {},
   "source": [
    " Witten is quite close to be mean"
   ]
  },
  {
   "cell_type": "code",
   "execution_count": 27,
   "id": "0fdaf2d0",
   "metadata": {
    "ExecuteTime": {
     "end_time": "2025-06-17T07:14:23.644453Z",
     "start_time": "2025-06-17T07:14:23.614993Z"
    }
   },
   "outputs": [
    {
     "data": {
      "text/plain": [
       "tensor([[0.8199]], dtype=torch.float64)"
      ]
     },
     "execution_count": 27,
     "metadata": {},
     "output_type": "execute_result"
    }
   ],
   "source": [
    "util.cos_sim(wittenvec, mean_vec)"
   ]
  },
  {
   "cell_type": "markdown",
   "id": "bc48b1e2",
   "metadata": {},
   "source": [
    "...which is nice!"
   ]
  },
  {
   "cell_type": "code",
   "execution_count": 28,
   "id": "36971719",
   "metadata": {
    "ExecuteTime": {
     "end_time": "2025-06-17T07:14:27.055510Z",
     "start_time": "2025-06-17T07:14:24.467428Z"
    }
   },
   "outputs": [
    {
     "data": {
      "application/vnd.jupyter.widget-view+json": {
       "model_id": "5cbb25f320904b64b1d2180967bf16d2",
       "version_major": 2,
       "version_minor": 0
      },
      "text/plain": [
       "  0%|          | 0/573 [00:00<?, ?it/s]"
      ]
     },
     "metadata": {},
     "output_type": "display_data"
    }
   ],
   "source": [
    "cos_sims=np.zeros(len(vecfiles))\n",
    "for i, vecfile in enumerate(tqdm(vecfiles)):\n",
    "    vec=np.genfromtxt(VECTOR_FOLDER+vecfile)\n",
    "    cos_sim=float(util.cos_sim(wittenvec, vec-mean_vec))\n",
    "    #print(f'{vecfile:})\\tcos={cos_sim:.3f}')\n",
    "    cos_sims[i]=cos_sim"
   ]
  },
  {
   "cell_type": "code",
   "execution_count": 29,
   "id": "dd341a58",
   "metadata": {
    "ExecuteTime": {
     "end_time": "2025-06-17T07:14:27.450479Z",
     "start_time": "2025-06-17T07:14:27.059718Z"
    }
   },
   "outputs": [
    {
     "data": {
      "image/png": "[encoded data removed]",
      "text/plain": [
       "<Figure size 640x480 with 1 Axes>"
      ]
     },
     "metadata": {},
     "output_type": "display_data"
    }
   ],
   "source": [
    "plt.hist(cos_sims, edgecolor='black')\n",
    "plt.suptitle('Witten vs. sustainability reports', fontsize=20)\n",
    "plt.xlabel('Cosine similarity', fontsize=16)\n",
    "plt.show()"
   ]
  },
  {
   "cell_type": "markdown",
   "id": "1d069bd4",
   "metadata": {},
   "source": [
    "That's much better. "
   ]
  },
  {
   "cell_type": "markdown",
   "id": "7496438a",
   "metadata": {},
   "source": [
    "# PCA"
   ]
  },
  {
   "cell_type": "markdown",
   "id": "889231a3",
   "metadata": {},
   "source": [
    "The dimension fo the embedding is the same for all vectors:"
   ]
  },
  {
   "cell_type": "code",
   "execution_count": 29,
   "id": "d8c5a8d0",
   "metadata": {
    "ExecuteTime": {
     "end_time": "2025-06-16T13:19:42.597575Z",
     "start_time": "2025-06-16T13:19:42.590802Z"
    }
   },
   "outputs": [
    {
     "data": {
      "text/plain": [
       "768"
      ]
     },
     "execution_count": 29,
     "metadata": {},
     "output_type": "execute_result"
    }
   ],
   "source": [
    "len(wittenvec)"
   ]
  },
  {
   "cell_type": "code",
   "execution_count": 30,
   "id": "936e3e22",
   "metadata": {
    "ExecuteTime": {
     "end_time": "2025-06-16T13:19:42.675827Z",
     "start_time": "2025-06-16T13:19:42.600788Z"
    }
   },
   "outputs": [],
   "source": [
    "vecs=np.zeros((len(vecfiles), len(wittenvec)))"
   ]
  },
  {
   "cell_type": "code",
   "execution_count": 31,
   "id": "170f2ac6",
   "metadata": {
    "ExecuteTime": {
     "end_time": "2025-06-16T13:19:45.063225Z",
     "start_time": "2025-06-16T13:19:42.679324Z"
    }
   },
   "outputs": [
    {
     "data": {
      "application/vnd.jupyter.widget-view+json": {
       "model_id": "266e542f21aa49dc9bdb3abad8456783",
       "version_major": 2,
       "version_minor": 0
      },
      "text/plain": [
       "  0%|          | 0/573 [00:00<?, ?it/s]"
      ]
     },
     "metadata": {},
     "output_type": "display_data"
    }
   ],
   "source": [
    "for i, vecfile in enumerate(tqdm(vecfiles)):\n",
    "    vec=np.genfromtxt(VECTOR_FOLDER+vecfile)\n",
    "    vecs[i]=vec"
   ]
  },
  {
   "cell_type": "markdown",
   "id": "e0580638",
   "metadata": {},
   "source": [
    "## Which percentage?"
   ]
  },
  {
   "cell_type": "code",
   "execution_count": 32,
   "id": "cccb2c7e",
   "metadata": {
    "ExecuteTime": {
     "end_time": "2025-06-16T13:19:45.384642Z",
     "start_time": "2025-06-16T13:19:45.066223Z"
    }
   },
   "outputs": [],
   "source": [
    "pca = PCA()\n",
    "new_vecs=pca.fit_transform(vecs)"
   ]
  },
  {
   "cell_type": "code",
   "execution_count": 33,
   "id": "ca52762c",
   "metadata": {
    "ExecuteTime": {
     "end_time": "2025-06-16T13:19:46.508370Z",
     "start_time": "2025-06-16T13:19:45.388569Z"
    }
   },
   "outputs": [
    {
     "data": {
      "image/png": "[encoded data removed]",
      "text/plain": [
       "<Figure size 640x480 with 1 Axes>"
      ]
     },
     "metadata": {},
     "output_type": "display_data"
    }
   ],
   "source": [
    "plt.scatter(np.arange(len(vecfiles)), np.cumsum(pca.explained_variance_ratio_))\n",
    "plt.hlines(0.90, 1, 1000, ls='--', color='red')\n",
    "plt.xscale('log')\n",
    "plt.yscale('log')\n",
    "plt.ylabel('PCA explained variance (cumulative)', fontsize=16)\n",
    "plt.show()"
   ]
  },
  {
   "cell_type": "code",
   "execution_count": 34,
   "id": "470e7fa1",
   "metadata": {
    "ExecuteTime": {
     "end_time": "2025-06-16T13:19:46.519098Z",
     "start_time": "2025-06-16T13:19:46.511155Z"
    }
   },
   "outputs": [
    {
     "data": {
      "text/plain": [
       "63"
      ]
     },
     "execution_count": 34,
     "metadata": {},
     "output_type": "execute_result"
    }
   ],
   "source": [
    "np.where(np.cumsum(pca.explained_variance_ratio_)<=.90)[0][-1]"
   ]
  },
  {
   "cell_type": "code",
   "execution_count": 35,
   "id": "de064305",
   "metadata": {
    "ExecuteTime": {
     "end_time": "2025-06-16T13:19:46.605439Z",
     "start_time": "2025-06-16T13:19:46.522032Z"
    }
   },
   "outputs": [
    {
     "data": {
      "text/plain": [
       "87"
      ]
     },
     "execution_count": 35,
     "metadata": {},
     "output_type": "execute_result"
    }
   ],
   "source": [
    "np.where(np.cumsum(pca.explained_variance_ratio_)<=.95)[0][-1]"
   ]
  },
  {
   "cell_type": "code",
   "execution_count": 36,
   "id": "1e99ecf9",
   "metadata": {
    "ExecuteTime": {
     "end_time": "2025-06-16T13:19:46.797615Z",
     "start_time": "2025-06-16T13:19:46.608591Z"
    }
   },
   "outputs": [
    {
     "data": {
      "text/plain": [
       "160"
      ]
     },
     "execution_count": 36,
     "metadata": {},
     "output_type": "execute_result"
    }
   ],
   "source": [
    "np.where(np.cumsum(pca.explained_variance_ratio_)<=.99)[0][-1]"
   ]
  },
  {
   "cell_type": "markdown",
   "id": "8f22a402",
   "metadata": {},
   "source": [
    "## Dimensional reduction"
   ]
  },
  {
   "cell_type": "code",
   "execution_count": 37,
   "id": "e51af8a0",
   "metadata": {
    "ExecuteTime": {
     "end_time": "2025-06-16T13:19:47.367100Z",
     "start_time": "2025-06-16T13:19:46.800771Z"
    }
   },
   "outputs": [],
   "source": [
    "pca = PCA(n_components=63)\n",
    "new_vecs=pca.fit_transform(vecs)"
   ]
  },
  {
   "cell_type": "code",
   "execution_count": 38,
   "id": "57c804e3",
   "metadata": {
    "ExecuteTime": {
     "end_time": "2025-06-16T13:19:48.431088Z",
     "start_time": "2025-06-16T13:19:47.372484Z"
    }
   },
   "outputs": [
    {
     "data": {
      "image/png": "[encoded data removed]",
      "text/plain": [
       "<Figure size 640x480 with 1 Axes>"
      ]
     },
     "metadata": {},
     "output_type": "display_data"
    }
   ],
   "source": [
    "plt.scatter(np.arange(63), np.cumsum(pca.explained_variance_ratio_))\n",
    "plt.hlines(0.90, 1, 1000, ls='--', color='red')\n",
    "plt.xscale('log')\n",
    "plt.yscale('log')\n",
    "plt.ylabel('PCA explained variance (cumulative)', fontsize=16)\n",
    "plt.show()"
   ]
  },
  {
   "cell_type": "markdown",
   "id": "58be2235",
   "metadata": {},
   "source": [
    "## Check with Witten"
   ]
  },
  {
   "cell_type": "code",
   "execution_count": 39,
   "id": "b3e7db14",
   "metadata": {
    "ExecuteTime": {
     "end_time": "2025-06-16T13:19:48.452888Z",
     "start_time": "2025-06-16T13:19:48.433886Z"
    }
   },
   "outputs": [
    {
     "data": {
      "text/plain": [
       "array([-3.02811189e-02, -3.81932141e-02,  5.04839207e-02, -8.00098124e-03,\n",
       "       -3.53469865e-02, -3.23630692e-03, -6.81020060e-03, -2.89417768e-02,\n",
       "        5.92756829e-02,  8.08559115e-03, -1.55386966e-02, -9.66650055e-03,\n",
       "       -3.56608460e-02, -6.64788847e-03, -4.35948768e-02,  7.00658821e-02,\n",
       "       -1.15720409e-02,  6.07534971e-03,  6.03255241e-03, -9.20716491e-03,\n",
       "       -1.40867959e-02, -3.93993677e-02, -3.48379897e-02, -9.90491321e-03,\n",
       "        2.00452551e-02, -1.42847605e-03,  5.88203656e-02,  2.48458379e-02,\n",
       "        4.49237034e-02,  3.21563627e-02,  2.96030887e-03, -2.53623230e-02,\n",
       "       -4.41500462e-02,  1.02410977e-02,  2.29212367e-04, -6.59512065e-02,\n",
       "       -1.54529956e-02, -1.65040052e-03,  7.72846153e-02,  6.11668911e-02,\n",
       "       -2.46362986e-02,  5.33290305e-03,  1.44023294e-02,  6.18857648e-02,\n",
       "       -5.30239550e-02, -9.63267495e-03, -1.90574004e-02,  1.46386031e-02,\n",
       "       -2.03105476e-02, -4.04475940e-02, -2.31404802e-02, -3.59528446e-02,\n",
       "        2.79525956e-03, -5.64746193e-02,  2.17616990e-02, -1.97338442e-04,\n",
       "        6.21214877e-02,  6.61720951e-03, -3.26346671e-02, -2.30471708e-02,\n",
       "       -7.43391931e-02,  8.27127390e-02, -2.79492860e-02,  5.31379301e-02,\n",
       "        3.22637610e-02,  1.70363287e-02, -2.23847364e-02, -3.42821583e-02,\n",
       "       -5.52223572e-02, -2.19898706e-02,  4.41702077e-03,  3.28990522e-02,\n",
       "       -2.49838604e-02,  3.62717634e-03,  1.76886460e-02,  5.69511201e-02,\n",
       "       -3.81876590e-02, -2.90790946e-02, -5.21821710e-02, -1.99388322e-02,\n",
       "        3.63576101e-02,  2.22451256e-02,  1.64853200e-02, -9.55896607e-03,\n",
       "       -4.20710289e-02, -1.57207443e-02, -2.73696884e-02,  6.34752722e-03,\n",
       "        3.20776246e-02, -1.33770048e-02, -2.57979400e-02,  3.89600836e-02,\n",
       "       -6.83764432e-03,  3.63335740e-02,  1.79977712e-02, -3.28954600e-02,\n",
       "        7.08513160e-03, -3.51393956e-02, -2.16563411e-02,  1.33502183e-02,\n",
       "        3.81675200e-02,  8.16381521e-03,  6.79675090e-03, -1.02994900e-02,\n",
       "        2.44774163e-03,  7.88856768e-03, -5.65076932e-05, -3.57839624e-02,\n",
       "       -3.52497327e-02,  1.45775153e-02, -4.81577764e-02, -6.07674768e-03,\n",
       "        2.41929230e-02, -3.83938274e-02, -2.21590392e-02, -2.13717732e-02,\n",
       "        4.75917764e-02, -3.61774608e-02, -3.12937795e-02,  2.24688575e-02,\n",
       "       -3.94344379e-02,  7.54087451e-03,  1.81490921e-02, -5.97848827e-02,\n",
       "        3.91909417e-02,  2.60820270e-02,  4.75642697e-02,  4.74400835e-03,\n",
       "       -1.01530490e-02,  6.19609985e-03,  1.74426884e-02, -4.44980590e-02,\n",
       "        2.59526594e-02, -1.85794372e-02, -1.14961963e-02, -2.55971734e-02,\n",
       "       -1.29394928e-02,  9.82768669e-03, -2.72170050e-02, -4.83523369e-03,\n",
       "       -6.45107872e-02,  5.63472104e-03, -1.57876275e-02, -4.18630423e-02,\n",
       "       -2.79127905e-02, -7.10612882e-03, -4.34612438e-02,  3.58742012e-02,\n",
       "        8.84307341e-03, -6.71138577e-02,  1.90486737e-02, -1.85125971e-02,\n",
       "       -2.39335585e-02, -1.32100909e-02,  2.42471302e-03, -4.07942491e-03,\n",
       "        2.09750532e-02, -3.07697224e-02,  8.03729836e-03, -2.77640418e-02,\n",
       "        4.94431846e-03, -5.18253250e-02, -2.85479673e-02,  4.13532111e-02,\n",
       "       -3.08787564e-02,  9.24611149e-02,  3.41984660e-02, -1.49598001e-02,\n",
       "       -3.58763530e-02, -6.69816661e-02,  1.20398713e-02,  9.67076100e-04,\n",
       "       -4.47094233e-02, -2.84556512e-02,  5.66427989e-03, -4.64706576e-02,\n",
       "       -1.70533615e-02,  3.29382653e-02, -3.88062029e-02,  1.10385042e-02,\n",
       "       -5.90796066e-03,  3.05628249e-02,  6.69714713e-02,  2.48866991e-02,\n",
       "        5.69252653e-02, -2.02501655e-02,  3.34317605e-02,  1.96088547e-02,\n",
       "        2.20834389e-02,  1.97238108e-02, -1.99164809e-02, -5.96767468e-02,\n",
       "       -2.67615277e-02,  3.85465891e-02,  5.96983985e-02, -3.52261004e-02,\n",
       "        4.32973919e-02, -1.17697727e-02, -3.71079162e-02, -2.04805814e-02,\n",
       "       -7.16061672e-03,  1.04997336e-02,  1.18080751e-02,  2.38969752e-02,\n",
       "       -3.42599691e-02, -4.69283294e-02, -7.90633551e-02,  1.34596944e-02,\n",
       "       -4.55104825e-02,  2.52880053e-03, -1.07768717e-02,  1.87895845e-02,\n",
       "       -2.31739393e-03,  4.61499887e-02, -4.50103202e-02,  6.97334575e-03,\n",
       "        1.30693853e-02, -1.34384861e-02,  4.24836817e-02,  5.94626211e-02,\n",
       "        8.36175457e-03, -4.20052729e-02, -2.10813866e-02, -1.81776630e-02,\n",
       "       -9.37630107e-02,  2.73937188e-02, -5.14567817e-03, -2.92569939e-02,\n",
       "        1.17726101e-02,  1.57906583e-02, -5.71810061e-02,  4.51630390e-02,\n",
       "        3.40370395e-03, -1.79376799e-02,  3.26625386e-02, -2.71542075e-02,\n",
       "        1.41790552e-02, -7.25870661e-02, -1.19166640e-02, -1.85723382e-04,\n",
       "       -1.54575148e-02, -6.33337553e-02,  2.04715428e-02, -1.02201328e-02,\n",
       "        6.44118824e-03, -1.66555149e-02,  1.70906594e-02, -4.36114406e-02,\n",
       "       -1.07894113e-02,  3.84608488e-03, -1.12532943e-02, -2.14968850e-02,\n",
       "        3.69187162e-02, -1.84138583e-02,  1.03395067e-02,  6.22827949e-02,\n",
       "       -6.80891273e-02,  3.10185304e-02,  4.39404543e-03, -1.49054876e-02,\n",
       "        6.79234843e-02, -3.71972173e-02, -2.00942480e-02, -3.45223688e-02,\n",
       "        2.58654342e-02, -7.10230807e-02,  1.81627422e-02,  3.24585927e-02,\n",
       "       -4.89373916e-02,  1.86647919e-02,  9.31698698e-03, -3.67493339e-02,\n",
       "       -9.29528567e-03, -3.14500836e-02,  3.11945994e-02,  5.74824207e-02,\n",
       "       -1.74385860e-02,  1.90888979e-02,  3.50206469e-02,  3.03585697e-02,\n",
       "       -3.78636554e-02, -6.58687436e-02, -1.52041614e-02, -2.92354238e-02,\n",
       "       -5.79728781e-02,  3.74732984e-03, -1.79946433e-02, -5.13801105e-02,\n",
       "        1.11076655e-02, -2.40913530e-02, -1.75469634e-02,  9.24852903e-03,\n",
       "        1.16388096e-02,  1.43158742e-02, -1.95486566e-02,  2.00813428e-02,\n",
       "        7.84543441e-04, -1.58930063e-02,  9.99783418e-04, -2.20956453e-02,\n",
       "        2.88887798e-02, -5.16684888e-03, -9.93510730e-03, -4.70238369e-02,\n",
       "        4.09589065e-02,  2.20223314e-02,  3.23487995e-02,  4.58577317e-02,\n",
       "        4.07909888e-02, -3.82989835e-02,  2.47972293e-02, -3.16496467e-02,\n",
       "       -3.14032275e-02, -3.99782950e-02, -7.82410980e-04, -4.62737433e-02,\n",
       "       -5.19103273e-02,  5.34278076e-02,  4.11987711e-02, -1.53930081e-02,\n",
       "        5.33641951e-02,  3.05032979e-02, -2.99676085e-02,  7.53847594e-02,\n",
       "        4.01192782e-02,  6.26042666e-03,  3.85325026e-02, -4.27092536e-02,\n",
       "        3.98058567e-02, -5.68524293e-02, -4.42103068e-04, -2.72338424e-02,\n",
       "       -3.58066285e-02, -7.57487038e-02, -1.23336310e-02,  5.41358191e-02,\n",
       "        6.27907468e-02, -4.33172590e-02,  1.68113396e-02, -2.57115871e-02,\n",
       "        1.88757181e-02,  6.99930569e-02,  3.23376274e-02,  8.69268447e-03,\n",
       "        5.74567926e-03,  5.75270459e-03, -1.14310674e-02, -5.89384208e-02,\n",
       "       -1.21081679e-02,  7.49180708e-02,  2.37812962e-02,  7.75375143e-02,\n",
       "        4.45297998e-02,  8.28380154e-02,  1.88222609e-02, -1.14156595e-03,\n",
       "       -3.75516631e-02,  5.59155672e-02,  1.96384940e-02, -6.30866421e-02,\n",
       "       -3.96789384e-02, -3.97932812e-02, -7.80352211e-02,  1.73004738e-02,\n",
       "       -1.49568907e-02, -7.21866554e-02,  6.48017334e-02,  1.37475982e-02,\n",
       "       -3.07391137e-02,  2.24969987e-02, -6.54003690e-02,  2.44987330e-02,\n",
       "        1.03213223e-02, -2.13394116e-02, -4.39761102e-02, -5.93673371e-02,\n",
       "        4.97887280e-02,  6.37015249e-03,  3.20512771e-03,  6.13057420e-03,\n",
       "       -1.14152039e-02,  8.12021401e-02, -6.42044014e-02,  5.25464618e-02,\n",
       "       -2.18100708e-02,  1.51175504e-02,  4.57908480e-02,  3.45454487e-02,\n",
       "        2.52359813e-02,  2.64890013e-02,  8.17338141e-03, -1.81714789e-03,\n",
       "        3.90233136e-02, -5.61699285e-02, -4.30176022e-02,  4.32987970e-02,\n",
       "       -6.70008097e-02, -4.14373832e-02, -4.74126044e-02, -2.61132845e-02,\n",
       "        6.05000796e-03,  1.90042813e-02,  3.28227836e-02,  4.65347878e-02,\n",
       "        2.24551203e-02,  1.71333973e-02,  6.20320186e-02, -1.21349122e-02,\n",
       "        1.49608363e-02,  4.05246132e-02, -5.53462611e-03, -2.88827382e-02,\n",
       "        7.20745703e-02,  3.17482075e-02,  2.69723498e-02,  4.76481517e-02,\n",
       "        1.49017573e-02, -7.83263417e-03, -1.97031346e-02,  2.83678697e-03,\n",
       "        2.01754423e-02, -7.09320959e-02, -8.73958543e-03, -2.99534665e-02,\n",
       "       -1.19658613e-02, -2.22859674e-02, -1.19969331e-02, -1.48788754e-02,\n",
       "       -4.82122695e-02, -1.65991104e-02, -1.13617129e-04,  6.22579515e-03,\n",
       "        3.80724601e-02, -6.72993857e-02,  1.17612298e-03, -4.43338292e-02,\n",
       "        2.71943066e-02,  4.81374706e-02,  7.68664964e-03,  2.22978010e-02,\n",
       "       -3.77794785e-02, -2.43381937e-02,  1.13557114e-02, -2.07117760e-02,\n",
       "       -9.00683634e-02, -5.20123749e-03, -7.06717944e-04,  5.28511389e-02,\n",
       "        4.80853620e-02,  1.86040947e-02,  6.35912592e-02, -9.80012622e-03,\n",
       "        6.12351123e-02,  4.24090364e-02, -7.71057577e-02,  2.01950461e-02,\n",
       "       -1.07330800e-02, -7.37981853e-04,  3.57202950e-02,  4.48205442e-02,\n",
       "       -2.91907771e-02, -4.15396881e-02, -7.78626024e-02, -3.96584568e-02,\n",
       "        2.80716993e-02,  1.47901516e-02,  1.37079776e-03, -3.22911684e-03,\n",
       "        1.27439614e-02, -4.82771464e-03,  1.68522624e-02, -5.29909674e-02,\n",
       "       -4.69007704e-02, -1.61045161e-02,  9.61833915e-03, -1.37400846e-02,\n",
       "       -2.84534410e-02, -1.59257043e-02, -2.91844187e-02,  5.47866853e-02,\n",
       "        3.34748704e-02,  8.32722947e-02,  3.29469498e-02, -1.98794812e-02,\n",
       "       -2.30626044e-02,  1.90443948e-02,  6.02519483e-02,  8.15389987e-02,\n",
       "       -3.27792631e-02,  4.05781290e-02,  8.20090596e-03, -2.71080402e-02,\n",
       "        3.78385848e-02,  2.30329311e-03, -6.73941380e-03, -9.95844585e-03,\n",
       "        4.05390346e-02,  5.52860621e-02,  9.59463028e-03, -7.06498215e-03,\n",
       "        1.12038434e-02,  6.40139832e-03, -1.00623670e-02, -3.80702045e-02,\n",
       "        3.02942016e-03, -9.18580614e-03,  3.59931093e-02,  4.00696382e-02,\n",
       "        6.60981812e-03,  3.03524764e-02, -5.82887851e-02,  8.91961619e-03,\n",
       "        4.66682309e-02, -2.86541237e-02, -3.77814979e-02,  3.80984639e-02,\n",
       "       -2.72958404e-02, -1.07396075e-02,  3.17024319e-02, -3.65401954e-02,\n",
       "       -3.40694202e-02,  3.73014682e-02,  3.88485682e-02,  5.01989141e-02,\n",
       "       -2.05785073e-02,  1.67698861e-02,  3.93357073e-02,  4.14344693e-02,\n",
       "       -3.78115556e-03,  2.96811324e-02, -2.63687435e-02, -6.27453307e-02,\n",
       "        2.44146607e-03, -3.84785525e-02, -1.02842991e-02, -1.12866404e-02,\n",
       "       -5.71156916e-02, -1.19945241e-02, -3.73662929e-02, -1.83959798e-02,\n",
       "        1.93847926e-02,  1.02195412e-02, -3.60782392e-02, -1.25784526e-03,\n",
       "        3.15374129e-03,  4.90728973e-02, -6.35995433e-02,  4.35533485e-02,\n",
       "        3.07557480e-02, -2.40308090e-02, -6.23098172e-02, -1.11407653e-02,\n",
       "       -6.71005149e-03, -7.12519290e-02,  3.96909985e-02, -2.68073989e-02,\n",
       "        8.39532548e-03, -1.90065912e-03, -5.04340642e-02, -9.57808489e-02,\n",
       "        7.12724983e-02,  2.40583872e-02, -1.83000801e-02,  1.57798110e-02,\n",
       "       -1.17073377e-02,  4.81954395e-02,  1.09669513e-02,  1.13066896e-02,\n",
       "        2.25779287e-02,  3.88969617e-02, -1.43625453e-02, -5.45181974e-02,\n",
       "        9.28198225e-03, -1.10276638e-02,  7.46157199e-03,  5.41108833e-02,\n",
       "       -4.97397508e-02,  7.33223814e-02, -1.57777732e-02, -3.21360787e-02,\n",
       "        1.39441344e-03,  5.18270900e-02,  1.17537916e-02, -1.33217003e-03,\n",
       "        4.96962794e-02,  6.80842576e-02,  5.58057861e-02,  4.49160708e-03,\n",
       "        8.97678283e-02, -3.80885933e-02,  4.23243712e-02,  3.50517805e-02,\n",
       "        6.08090518e-03,  5.44220135e-02,  5.48780802e-02, -6.62844365e-02,\n",
       "        3.98906275e-02,  3.94637573e-02,  2.37838339e-02,  5.64591291e-02,\n",
       "        4.25394787e-02, -2.50960786e-02, -2.51411256e-02,  1.68306089e-02,\n",
       "       -5.12457681e-02,  7.78612101e-03,  1.64722046e-02, -2.32600911e-02,\n",
       "       -1.68359065e-02,  2.09109473e-03, -5.93739011e-04, -3.17112977e-02,\n",
       "       -1.79568562e-02,  4.24615116e-02,  2.14294539e-02, -3.31235453e-02,\n",
       "        7.24866792e-02,  4.57109860e-03,  3.42175697e-02, -5.25486242e-02,\n",
       "        4.62433145e-03, -1.39324862e-02,  1.61582342e-02, -2.03925129e-02,\n",
       "       -5.24730343e-02,  1.07029119e-02, -3.83497795e-02, -2.37876920e-02,\n",
       "        1.10167655e-02,  4.24178696e-02, -2.13871046e-02, -2.89242030e-02,\n",
       "        6.97289021e-03,  8.70755111e-03,  3.32882309e-02,  2.90001805e-02,\n",
       "       -3.09193669e-02, -9.82244932e-04,  6.15145883e-03, -2.62515277e-02,\n",
       "        2.09069785e-02,  9.48887068e-03,  1.03426042e-02,  4.02743966e-02,\n",
       "        3.41112334e-02,  8.53392825e-03,  4.59335555e-02, -6.24015316e-02,\n",
       "        3.54510751e-02, -5.12467689e-02, -6.23052048e-02, -5.51153853e-02,\n",
       "        1.98318042e-02,  1.28520954e-02, -1.67177361e-02,  4.73918254e-02,\n",
       "        4.28389477e-02,  5.81742189e-02, -3.33525311e-03,  6.17474478e-02,\n",
       "       -1.77390988e-02,  3.47431986e-02, -3.53737582e-02,  1.27708585e-02,\n",
       "       -4.07179691e-02, -5.54402924e-03, -3.37644769e-03, -8.29412420e-02,\n",
       "       -4.84611216e-03,  5.36085103e-02, -2.25827905e-02, -5.26039829e-03,\n",
       "        7.51515650e-02,  4.83370624e-02, -4.49198266e-03, -1.09784555e-03,\n",
       "        1.89754982e-02,  1.56766644e-02,  7.96657659e-03,  6.81087206e-02,\n",
       "        5.57170909e-02, -4.42628032e-02,  2.00170409e-02, -3.86637780e-02,\n",
       "       -3.09570176e-02, -1.07896890e-02, -3.51143423e-02, -2.50114809e-02,\n",
       "       -7.08333984e-02, -2.77530926e-02, -5.22343715e-02,  6.23934563e-03,\n",
       "        4.50773878e-02,  5.58250882e-02, -5.24783296e-02, -3.50841789e-02,\n",
       "       -1.85460816e-03,  2.50340384e-02, -3.37184555e-02, -2.10892774e-02,\n",
       "        2.29244278e-02,  1.11557815e-02, -2.33371368e-02,  1.41495737e-02,\n",
       "        2.12098871e-02,  2.90173755e-02, -2.97299085e-02, -2.53646254e-02,\n",
       "       -1.07576009e-02,  2.15661167e-02,  3.46942673e-02,  4.42877630e-02,\n",
       "       -3.17296654e-02, -1.79917217e-02, -2.71993932e-02, -1.29624129e-02,\n",
       "        7.73149417e-03,  4.15432290e-02, -3.75259159e-02,  3.52418722e-02,\n",
       "        6.89533063e-02,  1.22961361e-02,  5.74643270e-02, -2.66506897e-02,\n",
       "        2.10918931e-02, -2.21736174e-02,  2.18953514e-02,  4.55783373e-03,\n",
       "        2.91033083e-02, -7.25573346e-03, -2.91072501e-02,  2.57975050e-02,\n",
       "        3.60468103e-02, -4.03855426e-02, -7.84803162e-02,  2.55363497e-02,\n",
       "       -9.51126846e-02, -1.71344046e-02,  6.85961786e-02,  9.97242093e-03,\n",
       "       -2.23066266e-02,  1.04137350e-03,  2.47592377e-02,  2.05345121e-02,\n",
       "       -2.39021631e-02,  5.22482728e-02,  4.51799053e-02, -1.55986968e-02,\n",
       "       -3.05452517e-03, -4.00201198e-02,  1.65238239e-02,  3.60703571e-02,\n",
       "       -2.52384490e-02, -4.25907788e-02,  1.73820322e-02,  2.93053815e-02,\n",
       "        5.51565183e-02,  8.27111473e-02,  1.52821907e-03,  2.90133963e-02,\n",
       "        1.15806647e-02,  3.34642213e-03,  2.80801364e-02, -6.49093960e-03,\n",
       "       -3.94649836e-02,  1.53364942e-02, -3.19629569e-03, -3.74042183e-02])"
      ]
     },
     "execution_count": 39,
     "metadata": {},
     "output_type": "execute_result"
    }
   ],
   "source": [
    "wittenvec.T"
   ]
  },
  {
   "cell_type": "code",
   "execution_count": 40,
   "id": "09f5b7bc",
   "metadata": {
    "ExecuteTime": {
     "end_time": "2025-06-16T13:19:48.519487Z",
     "start_time": "2025-06-16T13:19:48.455645Z"
    }
   },
   "outputs": [],
   "source": [
    "new_wittenvec = pca.transform([wittenvec])"
   ]
  },
  {
   "cell_type": "code",
   "execution_count": 41,
   "id": "9ba45726",
   "metadata": {
    "ExecuteTime": {
     "end_time": "2025-06-16T13:19:48.811640Z",
     "start_time": "2025-06-16T13:19:48.522685Z"
    }
   },
   "outputs": [
    {
     "data": {
      "application/vnd.jupyter.widget-view+json": {
       "model_id": "4e2832f157e84ac89561c4235f465a1e",
       "version_major": 2,
       "version_minor": 0
      },
      "text/plain": [
       "  0%|          | 0/573 [00:00<?, ?it/s]"
      ]
     },
     "metadata": {},
     "output_type": "display_data"
    }
   ],
   "source": [
    "pca_cos_sims=np.zeros(len(vecfiles))\n",
    "for i, vecfile in enumerate(tqdm(vecfiles)):\n",
    "    cos_sim=float(util.cos_sim(new_wittenvec, new_vecs[i]))\n",
    "    #print(f'{vecfile:})\\tcos={cos_sim:.3f}')\n",
    "    pca_cos_sims[i]=cos_sim"
   ]
  },
  {
   "cell_type": "code",
   "execution_count": 42,
   "id": "9c7a9d91",
   "metadata": {
    "ExecuteTime": {
     "end_time": "2025-06-16T13:19:49.136925Z",
     "start_time": "2025-06-16T13:19:48.815424Z"
    }
   },
   "outputs": [
    {
     "data": {
      "image/png": "[encoded data removed]",
      "text/plain": [
       "<Figure size 640x480 with 1 Axes>"
      ]
     },
     "metadata": {},
     "output_type": "display_data"
    }
   ],
   "source": [
    "plt.hist(pca_cos_sims, edgecolor='black')\n",
    "plt.suptitle('Witten vs. sustainability reports\\nafter PCA reduction', fontsize=20, y=1.05)\n",
    "plt.xlabel('Cosine similarity', fontsize=16)\n",
    "plt.show()"
   ]
  },
  {
   "cell_type": "markdown",
   "id": "a7f40891",
   "metadata": {},
   "source": [
    "# Post-processing"
   ]
  },
  {
   "cell_type": "code",
   "execution_count": 30,
   "id": "afd08197",
   "metadata": {
    "ExecuteTime": {
     "end_time": "2025-06-17T07:14:37.858064Z",
     "start_time": "2025-06-17T07:14:37.839491Z"
    }
   },
   "outputs": [],
   "source": [
    "allvecs=np.zeros((len(vecfiles), len(wittenvec)))"
   ]
  },
  {
   "cell_type": "code",
   "execution_count": 31,
   "id": "b8972aad",
   "metadata": {
    "ExecuteTime": {
     "end_time": "2025-06-17T07:14:40.548978Z",
     "start_time": "2025-06-17T07:14:38.213140Z"
    }
   },
   "outputs": [
    {
     "data": {
      "application/vnd.jupyter.widget-view+json": {
       "model_id": "d635057ed6884878af700a7e7ee93487",
       "version_major": 2,
       "version_minor": 0
      },
      "text/plain": [
       "  0%|          | 0/573 [00:00<?, ?it/s]"
      ]
     },
     "metadata": {},
     "output_type": "display_data"
    }
   ],
   "source": [
    "for i, vecfile in enumerate(tqdm(vecfiles)):\n",
    "    vec=np.genfromtxt(VECTOR_FOLDER+vecfile)\n",
    "    allvecs[i]=vec"
   ]
  },
  {
   "cell_type": "markdown",
   "id": "f3632295",
   "metadata": {},
   "source": [
    "## All-but-the-top"
   ]
  },
  {
   "cell_type": "markdown",
   "id": "7ede939b",
   "metadata": {},
   "source": [
    "The sense of the PCA in our context is that there is still a residual bulk of spurious signal carried by the 1st component of the PCA that is uninformative. Therefore, we remove it, once we remove the effect of the mean vector."
   ]
  },
  {
   "cell_type": "code",
   "execution_count": 32,
   "id": "b8408091",
   "metadata": {
    "ExecuteTime": {
     "end_time": "2025-06-17T07:14:43.151035Z",
     "start_time": "2025-06-17T07:14:43.143422Z"
    }
   },
   "outputs": [],
   "source": [
    "no_mean_vecs=allvecs-mean_vec"
   ]
  },
  {
   "cell_type": "code",
   "execution_count": 97,
   "id": "2c06a610",
   "metadata": {
    "ExecuteTime": {
     "end_time": "2025-06-17T07:53:33.542266Z",
     "start_time": "2025-06-17T07:53:33.487922Z"
    }
   },
   "outputs": [],
   "source": [
    "k = 5\n",
    "pca = PCA(n_components=k)\n",
    "pca.fit(no_mean_vecs)\n",
    "U = pca.components_          # matrice k × d\n",
    "\n",
    "# Proiezione su subspazio delle prime k PC\n",
    "no_mean_vecs_proj = no_mean_vecs.dot(U.T).dot(U)   # (n, d)\n",
    "\n",
    "# Rimozione delle k componenti\n",
    "no_mean_vecs_debiased = no_mean_vecs - no_mean_vecs_proj"
   ]
  },
  {
   "cell_type": "markdown",
   "id": "a6e4b336",
   "metadata": {},
   "source": [
    "### Check with Witten"
   ]
  },
  {
   "cell_type": "code",
   "execution_count": 98,
   "id": "f3c4d480",
   "metadata": {
    "ExecuteTime": {
     "end_time": "2025-06-17T07:53:38.999765Z",
     "start_time": "2025-06-17T07:53:38.993053Z"
    }
   },
   "outputs": [],
   "source": [
    "new_wittenvec = wittenvec - mean_vec\n",
    "new_wittenvec-=new_wittenvec.dot(U.T).dot(U)"
   ]
  },
  {
   "cell_type": "code",
   "execution_count": 99,
   "id": "b41c7ae0",
   "metadata": {
    "ExecuteTime": {
     "end_time": "2025-06-17T07:53:39.378835Z",
     "start_time": "2025-06-17T07:53:39.166597Z"
    }
   },
   "outputs": [
    {
     "data": {
      "application/vnd.jupyter.widget-view+json": {
       "model_id": "3a4ba9429b9c42f0abdf6245d32b2d13",
       "version_major": 2,
       "version_minor": 0
      },
      "text/plain": [
       "  0%|          | 0/573 [00:00<?, ?it/s]"
      ]
     },
     "metadata": {},
     "output_type": "display_data"
    }
   ],
   "source": [
    "pca_cos_sims_w=np.zeros(len(vecfiles))\n",
    "for i, vecfile in enumerate(tqdm(vecfiles)):\n",
    "    cos_sim=float(util.cos_sim(new_wittenvec, no_mean_vecs_debiased[i]))\n",
    "    #print(f'{vecfile:})\\tcos={cos_sim:.3f}')\n",
    "    pca_cos_sims_w[i]=cos_sim"
   ]
  },
  {
   "cell_type": "code",
   "execution_count": 100,
   "id": "4f86e0e9",
   "metadata": {
    "ExecuteTime": {
     "end_time": "2025-06-17T07:53:40.052979Z",
     "start_time": "2025-06-17T07:53:39.382322Z"
    }
   },
   "outputs": [
    {
     "data": {
      "image/png": "[encoded data removed]",
      "text/plain": [
       "<Figure size 1500x500 with 2 Axes>"
      ]
     },
     "metadata": {},
     "output_type": "display_data"
    }
   ],
   "source": [
    "fig, axs=plt.subplots(1,2,sharex=True, sharey=True, figsize=(15, 5))\n",
    "\n",
    "axs[0].hist(cos_sims, edgecolor='black')\n",
    "axs[0].set_title('Witten vs. sustainability reports', fontsize=20)\n",
    "axs[0].set_xlabel('Cosine similarity', fontsize=16)\n",
    "\n",
    "\n",
    "axs[1].hist(pca_cos_sims_w, edgecolor='black')\n",
    "axs[1].set_title('Witten vs. sustainability reports\\nafter PCA cleaning + centering', fontsize=20, y=1.05)\n",
    "axs[1].set_xlabel('Cosine similarity', fontsize=16)\n",
    "plt.show()"
   ]
  },
  {
   "cell_type": "code",
   "execution_count": 101,
   "id": "3de87813",
   "metadata": {
    "ExecuteTime": {
     "end_time": "2025-06-17T07:53:40.066637Z",
     "start_time": "2025-06-17T07:53:40.057749Z"
    }
   },
   "outputs": [
    {
     "data": {
      "text/plain": [
       "(0.005177349204742545, 0.04661277849958448)"
      ]
     },
     "execution_count": 101,
     "metadata": {},
     "output_type": "execute_result"
    }
   ],
   "source": [
    "np.mean(cos_sims), np.std(cos_sims)"
   ]
  },
  {
   "cell_type": "code",
   "execution_count": 102,
   "id": "de6650f7",
   "metadata": {
    "ExecuteTime": {
     "end_time": "2025-06-17T07:53:40.151747Z",
     "start_time": "2025-06-17T07:53:40.069534Z"
    }
   },
   "outputs": [
    {
     "data": {
      "text/plain": [
       "(-0.00464757093594449, 0.07456270635244044)"
      ]
     },
     "execution_count": 102,
     "metadata": {},
     "output_type": "execute_result"
    }
   ],
   "source": [
    "np.mean(pca_cos_sims_w), np.std(pca_cos_sims_w)"
   ]
  },
  {
   "cell_type": "markdown",
   "id": "c52da003",
   "metadata": {},
   "source": [
    "## RobustScaler"
   ]
  },
  {
   "cell_type": "markdown",
   "id": "6a619b0f",
   "metadata": {},
   "source": [
    "It should rescale more efficiently, proper considering outliers."
   ]
  },
  {
   "cell_type": "code",
   "execution_count": 103,
   "id": "ea79413f",
   "metadata": {
    "ExecuteTime": {
     "end_time": "2025-06-17T07:53:41.368802Z",
     "start_time": "2025-06-17T07:53:41.044718Z"
    }
   },
   "outputs": [],
   "source": [
    "rs = RobustScaler()\n",
    "rs.fit(allvecs)\n",
    "\n",
    "rs_allvecs=rs.transform(allvecs)"
   ]
  },
  {
   "cell_type": "markdown",
   "id": "31ca457f",
   "metadata": {},
   "source": [
    "### Check with Witten"
   ]
  },
  {
   "cell_type": "code",
   "execution_count": 104,
   "id": "c2ec4d59",
   "metadata": {
    "ExecuteTime": {
     "end_time": "2025-06-17T07:53:41.769064Z",
     "start_time": "2025-06-17T07:53:41.764234Z"
    }
   },
   "outputs": [],
   "source": [
    "rs_wittenvec=rs.transform([wittenvec])"
   ]
  },
  {
   "cell_type": "code",
   "execution_count": 105,
   "id": "f4882c92",
   "metadata": {
    "ExecuteTime": {
     "end_time": "2025-06-17T07:53:42.349947Z",
     "start_time": "2025-06-17T07:53:42.149741Z"
    }
   },
   "outputs": [
    {
     "data": {
      "application/vnd.jupyter.widget-view+json": {
       "model_id": "713629b16f8246fb9c3c06c6b93b859d",
       "version_major": 2,
       "version_minor": 0
      },
      "text/plain": [
       "  0%|          | 0/573 [00:00<?, ?it/s]"
      ]
     },
     "metadata": {},
     "output_type": "display_data"
    }
   ],
   "source": [
    "rs_cos_sims_w=np.zeros(len(vecfiles))\n",
    "for i, vecfile in enumerate(tqdm(vecfiles)):\n",
    "    cos_sim=float(util.cos_sim(rs_wittenvec, rs_allvecs[i]))\n",
    "    #print(f'{vecfile:})\\tcos={cos_sim:.3f}')\n",
    "    rs_cos_sims_w[i]=cos_sim"
   ]
  },
  {
   "cell_type": "code",
   "execution_count": 106,
   "id": "d18d98e2",
   "metadata": {
    "ExecuteTime": {
     "end_time": "2025-06-17T07:53:43.468166Z",
     "start_time": "2025-06-17T07:53:42.515854Z"
    }
   },
   "outputs": [
    {
     "data": {
      "image/png": "[encoded data removed]",
      "text/plain": [
       "<Figure size 2250x500 with 3 Axes>"
      ]
     },
     "metadata": {},
     "output_type": "display_data"
    }
   ],
   "source": [
    "fig, axs=plt.subplots(1,3,sharex=True, sharey=True, figsize=(22.5, 5))\n",
    "\n",
    "axs[0].hist(cos_sims, edgecolor='black')\n",
    "axs[0].set_title('Witten vs. sustainability reports\\nafter centering', fontsize=20)\n",
    "axs[0].set_xlabel('Cosine similarity', fontsize=16)\n",
    "\n",
    "axs[1].hist(pca_cos_sims_w, edgecolor='black')\n",
    "axs[1].set_title('Witten vs. sustainability reports\\nafter PCA cleaning + centering', fontsize=20, y=1.05)\n",
    "axs[1].set_xlabel('Cosine similarity', fontsize=16)\n",
    "\n",
    "axs[2].hist(rs_cos_sims_w, edgecolor='black')\n",
    "axs[2].set_title('Witten vs. sustainability reports\\nafter Robust Scaler', fontsize=20, y=1.05)\n",
    "axs[2].set_xlabel('Cosine similarity', fontsize=16)\n",
    "plt.show()"
   ]
  },
  {
   "cell_type": "code",
   "execution_count": 107,
   "id": "c33fcd67",
   "metadata": {
    "ExecuteTime": {
     "end_time": "2025-06-17T07:53:43.479323Z",
     "start_time": "2025-06-17T07:53:43.471680Z"
    }
   },
   "outputs": [
    {
     "data": {
      "text/plain": [
       "(0.005177349204742545, 0.04661277849958448)"
      ]
     },
     "execution_count": 107,
     "metadata": {},
     "output_type": "execute_result"
    }
   ],
   "source": [
    "np.mean(cos_sims), np.std(cos_sims)"
   ]
  },
  {
   "cell_type": "code",
   "execution_count": 108,
   "id": "ed7e8236",
   "metadata": {
    "ExecuteTime": {
     "end_time": "2025-06-17T07:53:43.560154Z",
     "start_time": "2025-06-17T07:53:43.482290Z"
    }
   },
   "outputs": [
    {
     "data": {
      "text/plain": [
       "(-0.00464757093594449, 0.07456270635244044)"
      ]
     },
     "execution_count": 108,
     "metadata": {},
     "output_type": "execute_result"
    }
   ],
   "source": [
    "np.mean(pca_cos_sims_w), np.std(pca_cos_sims_w)"
   ]
  },
  {
   "cell_type": "code",
   "execution_count": 109,
   "id": "6094a5a0",
   "metadata": {
    "ExecuteTime": {
     "end_time": "2025-06-17T07:53:43.668070Z",
     "start_time": "2025-06-17T07:53:43.564233Z"
    }
   },
   "outputs": [
    {
     "data": {
      "text/plain": [
       "(0.0007621024673115121, 0.07322976536378889)"
      ]
     },
     "execution_count": 109,
     "metadata": {},
     "output_type": "execute_result"
    }
   ],
   "source": [
    "np.mean(rs_cos_sims_w), np.std(rs_cos_sims_w)"
   ]
  },
  {
   "cell_type": "markdown",
   "id": "c8a5704f",
   "metadata": {},
   "source": [
    "## Check the internal similarity"
   ]
  },
  {
   "cell_type": "code",
   "execution_count": 110,
   "id": "cf406fdb",
   "metadata": {
    "ExecuteTime": {
     "end_time": "2025-06-17T07:53:47.224581Z",
     "start_time": "2025-06-17T07:53:47.216219Z"
    }
   },
   "outputs": [],
   "source": [
    "def abtt(vec, mean_vec, U):\n",
    "    no_mean_vec=bench_vec-mean_vec\n",
    "    # Proiezione su subspazio delle prime k PC\n",
    "    no_mean_vec_proj = no_mean_vec.dot(U.T).dot(U)   # (n, d)\n",
    "\n",
    "    # Rimozione delle k componenti\n",
    "    return no_mean_vec - no_mean_vec_proj"
   ]
  },
  {
   "cell_type": "code",
   "execution_count": 111,
   "id": "dc33463f",
   "metadata": {
    "ExecuteTime": {
     "end_time": "2025-06-17T07:56:17.101932Z",
     "start_time": "2025-06-17T07:53:47.592567Z"
    }
   },
   "outputs": [
    {
     "data": {
      "application/vnd.jupyter.widget-view+json": {
       "model_id": "2132937d3d1449eea280c27abea74e55",
       "version_major": 2,
       "version_minor": 0
      },
      "text/plain": [
       "  0%|          | 0/573 [00:00<?, ?it/s]"
      ]
     },
     "metadata": {},
     "output_type": "display_data"
    }
   ],
   "source": [
    "nmv_cs=[]\n",
    "abtt_cs=[]\n",
    "rs_cs=[]\n",
    "for i in trange(len(no_mean_vecs)):\n",
    "    for j in range(i+1, len(no_mean_vecs)):\n",
    "        nmv_cs.append(float(util.cos_sim(no_mean_vecs[i], no_mean_vecs[j])))\n",
    "        abtt_cs.append(float(util.cos_sim(no_mean_vecs_debiased[i], no_mean_vecs_debiased[j])))\n",
    "        rs_cs.append(float(util.cos_sim(rs_allvecs[i], rs_allvecs[j])))\n",
    "            "
   ]
  },
  {
   "cell_type": "code",
   "execution_count": 112,
   "id": "80aa3c9f",
   "metadata": {
    "ExecuteTime": {
     "end_time": "2025-06-17T07:56:21.500548Z",
     "start_time": "2025-06-17T07:56:17.106219Z"
    }
   },
   "outputs": [
    {
     "data": {
      "image/png": "[encoded data removed]",
      "text/plain": [
       "<Figure size 2250x500 with 3 Axes>"
      ]
     },
     "metadata": {},
     "output_type": "display_data"
    }
   ],
   "source": [
    "fig, axs=plt.subplots(1,3,sharex=True, sharey=True, figsize=(22.5, 5))\n",
    "\n",
    "axs[0].hist(nmv_cs, edgecolor='black')\n",
    "axs[0].set_title('Internal similarity\\nafter centering', fontsize=20)\n",
    "axs[0].set_xlabel('Cosine similarity', fontsize=16)\n",
    "\n",
    "axs[1].hist(abtt_cs, edgecolor='black')\n",
    "axs[1].set_title('Internal similarity\\nafter PCA cleaning + centering', fontsize=20, y=1.05)\n",
    "axs[1].set_xlabel('Cosine similarity', fontsize=16)\n",
    "\n",
    "axs[2].hist(rs_cs, edgecolor='black')\n",
    "axs[2].set_title('Internal similarity\\nafter Robust Scaler', fontsize=20, y=1.05)\n",
    "axs[2].set_xlabel('Cosine similarity', fontsize=16)\n",
    "plt.show()"
   ]
  },
  {
   "cell_type": "code",
   "execution_count": 113,
   "id": "13953883",
   "metadata": {
    "ExecuteTime": {
     "end_time": "2025-06-17T07:56:21.540515Z",
     "start_time": "2025-06-17T07:56:21.503299Z"
    }
   },
   "outputs": [
    {
     "data": {
      "text/plain": [
       "(-0.0013297543442454167, 0.16346839178999395)"
      ]
     },
     "execution_count": 113,
     "metadata": {},
     "output_type": "execute_result"
    }
   ],
   "source": [
    "np.mean(nmv_cs), np.std(nmv_cs)"
   ]
  },
  {
   "cell_type": "code",
   "execution_count": 114,
   "id": "dcbf9418",
   "metadata": {
    "ExecuteTime": {
     "end_time": "2025-06-17T07:56:21.688471Z",
     "start_time": "2025-06-17T07:56:21.545471Z"
    }
   },
   "outputs": [
    {
     "data": {
      "text/plain": [
       "(-0.0011573435271688122, 0.13018347989841272)"
      ]
     },
     "execution_count": 114,
     "metadata": {},
     "output_type": "execute_result"
    }
   ],
   "source": [
    "np.mean(abtt_cs), np.std(abtt_cs)"
   ]
  },
  {
   "cell_type": "code",
   "execution_count": 115,
   "id": "d3001c24",
   "metadata": {
    "ExecuteTime": {
     "end_time": "2025-06-17T07:56:21.802654Z",
     "start_time": "2025-06-17T07:56:21.691532Z"
    }
   },
   "outputs": [
    {
     "data": {
      "text/plain": [
       "(0.0015516712885934964, 0.1558217895637591)"
      ]
     },
     "execution_count": 115,
     "metadata": {},
     "output_type": "execute_result"
    }
   ],
   "source": [
    "np.mean(rs_cs), np.std(rs_cs)"
   ]
  },
  {
   "cell_type": "markdown",
   "id": "e9369715",
   "metadata": {},
   "source": [
    "They are practically equivalent."
   ]
  },
  {
   "cell_type": "markdown",
   "id": "d1e12306",
   "metadata": {},
   "source": [
    "## Save transformed vectors"
   ]
  },
  {
   "cell_type": "markdown",
   "id": "0107f7eb",
   "metadata": {},
   "source": [
    "### Reports"
   ]
  },
  {
   "cell_type": "code",
   "execution_count": 116,
   "id": "ed974303",
   "metadata": {
    "ExecuteTime": {
     "end_time": "2025-06-17T07:56:24.402192Z",
     "start_time": "2025-06-17T07:56:21.805910Z"
    }
   },
   "outputs": [
    {
     "data": {
      "application/vnd.jupyter.widget-view+json": {
       "model_id": "8b9b862828574d74b54993c40be855c9",
       "version_major": 2,
       "version_minor": 0
      },
      "text/plain": [
       "  0%|          | 0/573 [00:00<?, ?it/s]"
      ]
     },
     "metadata": {},
     "output_type": "display_data"
    }
   ],
   "source": [
    "for i, vecfile in enumerate(tqdm(vecfiles)):\n",
    "    np.savetxt(PCA_CENTR_VECTOR_FOLDER+vecfile, no_mean_vecs_debiased[i])"
   ]
  },
  {
   "cell_type": "markdown",
   "id": "b2a7dfc1",
   "metadata": {},
   "source": [
    "### New Benchmarks"
   ]
  },
  {
   "cell_type": "code",
   "execution_count": 117,
   "id": "72343dd1",
   "metadata": {
    "ExecuteTime": {
     "end_time": "2025-06-17T07:56:24.596664Z",
     "start_time": "2025-06-17T07:56:24.405733Z"
    }
   },
   "outputs": [
    {
     "data": {
      "application/vnd.jupyter.widget-view+json": {
       "model_id": "9332dd9587354b7085b6eb5072c077a8",
       "version_major": 2,
       "version_minor": 0
      },
      "text/plain": [
       "  0%|          | 0/19 [00:00<?, ?it/s]"
      ]
     },
     "metadata": {},
     "output_type": "display_data"
    }
   ],
   "source": [
    "benchmark_files=[file for file in os.listdir(BENCHMARK_FOLDER) if file.endswith('.txt') and (file.startswith('Goal') or file.startswith('Witten'))]\n",
    "benchmark_files.sort()\n",
    "for file in tqdm(benchmark_files):\n",
    "    bench_vec=np.genfromtxt(BENCHMARK_FOLDER+file)\n",
    "    new_bench_vec=abtt(bench_vec, mean_vec, U)\n",
    "    np.savetxt(PCA_CENTR_VECTOR_FOLDER+file, new_bench_vec)"
   ]
  },
  {
   "cell_type": "code",
   "execution_count": 118,
   "id": "77bb9c42",
   "metadata": {
    "ExecuteTime": {
     "end_time": "2025-06-17T07:56:24.613198Z",
     "start_time": "2025-06-17T07:56:24.599603Z"
    }
   },
   "outputs": [],
   "source": [
    "for goalvecfile in benchmark_files:\n",
    "    if goalvecfile.startswith('Goal'):\n",
    "        num=goalvecfile.split('_')[0].split('-')[1]\n",
    "        if len(num)==1:\n",
    "            new_name='Goal-'+num.zfill(2)+'-Fast-Facts.txt'\n",
    "            os.rename(PCA_CENTR_VECTOR_FOLDER+goalvecfile, PCA_CENTR_VECTOR_FOLDER+new_name)"
   ]
  },
  {
   "cell_type": "code",
   "execution_count": 119,
   "id": "a64a2711",
   "metadata": {
    "ExecuteTime": {
     "end_time": "2025-06-17T07:56:24.731696Z",
     "start_time": "2025-06-17T07:56:24.616385Z"
    }
   },
   "outputs": [
    {
     "data": {
      "text/plain": [
       "['Goal-01-Fast-Facts.txt',\n",
       " 'Goal-02-Fast-Facts.txt',\n",
       " 'Goal-03-Fast-Facts.txt',\n",
       " 'Goal-04-Fast-Facts.txt',\n",
       " 'Goal-05-Fast-Facts.txt',\n",
       " 'Goal-06-Fast-Facts.txt',\n",
       " 'Goal-07-Fast-Facts.txt',\n",
       " 'Goal-08-Fast-Facts.txt',\n",
       " 'Goal-09-Fast-Facts.txt',\n",
       " 'Goal-10-Fast-Facts.txt',\n",
       " 'Goal-11_Fast-Facts.txt',\n",
       " 'Goal-12_Fast-Facts.txt',\n",
       " 'Goal-13_Fast-Facts.txt',\n",
       " 'Goal-14_Fast-Facts.txt',\n",
       " 'Goal-15-Fast-Facts.txt',\n",
       " 'Goal-16-Fast-Facts.txt',\n",
       " 'Goal-17-Fast-Facts.txt',\n",
       " 'Goal-Fast-Facts.txt']"
      ]
     },
     "execution_count": 119,
     "metadata": {},
     "output_type": "execute_result"
    }
   ],
   "source": [
    "goalfiles=[file for file in os.listdir(PCA_CENTR_VECTOR_FOLDER) if file.endswith('.txt') and file.startswith('Goal')]\n",
    "goalfiles.sort()\n",
    "goalfiles"
   ]
  },
  {
   "cell_type": "markdown",
   "id": "f3a2471f",
   "metadata": {},
   "source": [
    "## Check with SDGs"
   ]
  },
  {
   "cell_type": "markdown",
   "id": "e4584ce1",
   "metadata": {},
   "source": [
    "### Goals' vectors"
   ]
  },
  {
   "cell_type": "code",
   "execution_count": 120,
   "id": "ebba2423",
   "metadata": {
    "ExecuteTime": {
     "end_time": "2025-06-17T07:56:24.837882Z",
     "start_time": "2025-06-17T07:56:24.738818Z"
    }
   },
   "outputs": [],
   "source": [
    "goalvecfiles=[file for file in os.listdir(PCA_CENTR_VECTOR_FOLDER) if file.startswith('Goal') and file.endswith('.txt')]"
   ]
  },
  {
   "cell_type": "code",
   "execution_count": 121,
   "id": "f01f822d",
   "metadata": {
    "ExecuteTime": {
     "end_time": "2025-06-17T07:56:24.929811Z",
     "start_time": "2025-06-17T07:56:24.840966Z"
    }
   },
   "outputs": [],
   "source": [
    "goalvecfiles.sort()"
   ]
  },
  {
   "cell_type": "code",
   "execution_count": 122,
   "id": "a7c487ac",
   "metadata": {
    "ExecuteTime": {
     "end_time": "2025-06-17T07:56:25.015449Z",
     "start_time": "2025-06-17T07:56:24.933373Z"
    }
   },
   "outputs": [
    {
     "data": {
      "text/plain": [
       "['Goal-01-Fast-Facts.txt',\n",
       " 'Goal-02-Fast-Facts.txt',\n",
       " 'Goal-03-Fast-Facts.txt',\n",
       " 'Goal-04-Fast-Facts.txt',\n",
       " 'Goal-05-Fast-Facts.txt',\n",
       " 'Goal-06-Fast-Facts.txt',\n",
       " 'Goal-07-Fast-Facts.txt',\n",
       " 'Goal-08-Fast-Facts.txt',\n",
       " 'Goal-09-Fast-Facts.txt',\n",
       " 'Goal-10-Fast-Facts.txt',\n",
       " 'Goal-11_Fast-Facts.txt',\n",
       " 'Goal-12_Fast-Facts.txt',\n",
       " 'Goal-13_Fast-Facts.txt',\n",
       " 'Goal-14_Fast-Facts.txt',\n",
       " 'Goal-15-Fast-Facts.txt',\n",
       " 'Goal-16-Fast-Facts.txt',\n",
       " 'Goal-17-Fast-Facts.txt',\n",
       " 'Goal-Fast-Facts.txt']"
      ]
     },
     "execution_count": 122,
     "metadata": {},
     "output_type": "execute_result"
    }
   ],
   "source": [
    "goalvecfiles"
   ]
  },
  {
   "cell_type": "code",
   "execution_count": 123,
   "id": "bf6a6182",
   "metadata": {
    "ExecuteTime": {
     "end_time": "2025-06-17T07:56:25.186287Z",
     "start_time": "2025-06-17T07:56:25.018837Z"
    }
   },
   "outputs": [],
   "source": [
    "goalvecs=[np.genfromtxt(PCA_CENTR_VECTOR_FOLDER+goalvecfile) for goalvecfile in goalvecfiles]"
   ]
  },
  {
   "cell_type": "markdown",
   "id": "fd47dd33",
   "metadata": {},
   "source": [
    "### Cosine similarity"
   ]
  },
  {
   "cell_type": "code",
   "execution_count": 124,
   "id": "89cc6257",
   "metadata": {
    "ExecuteTime": {
     "end_time": "2025-06-17T07:56:25.454981Z",
     "start_time": "2025-06-17T07:56:25.189249Z"
    }
   },
   "outputs": [
    {
     "data": {
      "application/vnd.jupyter.widget-view+json": {
       "model_id": "c506cc9b55574810aaf1edbad4fb66d5",
       "version_major": 2,
       "version_minor": 0
      },
      "text/plain": [
       "  0%|          | 0/573 [00:00<?, ?it/s]"
      ]
     },
     "metadata": {},
     "output_type": "display_data"
    }
   ],
   "source": [
    "pca_cos_sims=np.zeros(len(vecfiles))\n",
    "for i, vecfile in enumerate(tqdm(vecfiles)):\n",
    "    cos_sim=float(util.cos_sim(goalvecs[-1], no_mean_vecs_debiased[i]))\n",
    "    #print(f'{vecfile:})\\tcos={cos_sim:.3f}')\n",
    "    pca_cos_sims[i]=cos_sim"
   ]
  },
  {
   "cell_type": "code",
   "execution_count": 125,
   "id": "20340e9b",
   "metadata": {
    "ExecuteTime": {
     "end_time": "2025-06-17T07:56:25.770160Z",
     "start_time": "2025-06-17T07:56:25.457511Z"
    }
   },
   "outputs": [
    {
     "data": {
      "image/png": "[encoded data removed]",
      "text/plain": [
       "<Figure size 640x480 with 1 Axes>"
      ]
     },
     "metadata": {},
     "output_type": "display_data"
    }
   ],
   "source": [
    "plt.hist(pca_cos_sims, edgecolor='black')\n",
    "plt.suptitle('SDGs descriptions vs. sustainability reports\\nafter PCA reduction + centering', fontsize=20, y=1.05)\n",
    "plt.xlabel('Cosine similarity', fontsize=16)\n",
    "plt.show()"
   ]
  },
  {
   "cell_type": "code",
   "execution_count": 126,
   "id": "4d4aaba0",
   "metadata": {
    "ExecuteTime": {
     "end_time": "2025-06-17T07:56:25.780239Z",
     "start_time": "2025-06-17T07:56:25.772710Z"
    }
   },
   "outputs": [
    {
     "data": {
      "text/plain": [
       "(0.0018652504353695199, 0.09358104103366179)"
      ]
     },
     "execution_count": 126,
     "metadata": {},
     "output_type": "execute_result"
    }
   ],
   "source": [
    "np.mean(pca_cos_sims), np.std(pca_cos_sims)"
   ]
  },
  {
   "cell_type": "code",
   "execution_count": 127,
   "id": "049783dd",
   "metadata": {
    "ExecuteTime": {
     "end_time": "2025-06-17T07:56:25.917677Z",
     "start_time": "2025-06-17T07:56:25.783095Z"
    }
   },
   "outputs": [
    {
     "data": {
      "application/vnd.jupyter.widget-view+json": {
       "model_id": "c1c0d89db1a04051868d57f1b26b4ad1",
       "version_major": 2,
       "version_minor": 0
      },
      "text/plain": [
       "  0%|          | 0/18 [00:00<?, ?it/s]"
      ]
     },
     "metadata": {},
     "output_type": "display_data"
    }
   ],
   "source": [
    "pca_cos_sims=[]\n",
    "for i in trange(len(goalvecs)):\n",
    "    for j in range(i+1, len(goalvecs)):\n",
    "        cos_sim=float(util.cos_sim(goalvecs[i], goalvecs[j]))\n",
    "        pca_cos_sims.append(cos_sim)"
   ]
  },
  {
   "cell_type": "code",
   "execution_count": 128,
   "id": "f13e3ebd",
   "metadata": {
    "ExecuteTime": {
     "end_time": "2025-06-17T07:56:25.982088Z",
     "start_time": "2025-06-17T07:56:25.920196Z"
    }
   },
   "outputs": [
    {
     "data": {
      "text/plain": [
       "[0.6532700681225357,\n",
       " 0.5283298694735945,\n",
       " 0.5502240282656485,\n",
       " 0.4290835562895118,\n",
       " 0.4952159668776004,\n",
       " 0.3741369913983052,\n",
       " 0.5212380582826026,\n",
       " 0.4157823566698699,\n",
       " 0.6693101123591018,\n",
       " 0.45106256482645163,\n",
       " 0.26386499300315736,\n",
       " 0.4997294137794311,\n",
       " 0.3558096311103557,\n",
       " 0.45889080462804077,\n",
       " 0.49246162673123783,\n",
       " 0.4464941861735324,\n",
       " 0.7329832031206364,\n",
       " 0.5086438547701004,\n",
       " 0.5272907638312063,\n",
       " 0.40278576822746337,\n",
       " 0.47655136056169733,\n",
       " 0.4610472729537488,\n",
       " 0.46672365680107036,\n",
       " 0.39116799392928236,\n",
       " 0.5828065619543339,\n",
       " 0.48195562004869547,\n",
       " 0.40172593622839803,\n",
       " 0.46616420066761544,\n",
       " 0.3744815974427781,\n",
       " 0.4525677630299402,\n",
       " 0.5088286665293309,\n",
       " 0.4285053427333051,\n",
       " 0.7099720987693459,\n",
       " 0.5219556031009718,\n",
       " 0.5204485594409802,\n",
       " 0.5894875056598989,\n",
       " 0.431352172360983,\n",
       " 0.4874620126777297,\n",
       " 0.37644637650820467,\n",
       " 0.5821748270377578,\n",
       " 0.4692628077698827,\n",
       " 0.21183436328947858,\n",
       " 0.39591340978667394,\n",
       " 0.27488015862643467,\n",
       " 0.39309507925360826,\n",
       " 0.5143505405176005,\n",
       " 0.41659801387655626,\n",
       " 0.6981218332751984,\n",
       " 0.5259016802377492,\n",
       " 0.47160995776014414,\n",
       " 0.3921417476039227,\n",
       " 0.516440130877637,\n",
       " 0.4191649174314005,\n",
       " 0.6260906610061853,\n",
       " 0.3618487184182969,\n",
       " 0.1875283284626223,\n",
       " 0.42602495888924613,\n",
       " 0.29080909642507635,\n",
       " 0.34588581680860925,\n",
       " 0.5261839354673158,\n",
       " 0.442373289878917,\n",
       " 0.6679491319250106,\n",
       " 0.45342583807302184,\n",
       " 0.3732629568646141,\n",
       " 0.529924275150462,\n",
       " 0.2899255879118752,\n",
       " 0.6335392251652783,\n",
       " 0.3023208135232651,\n",
       " 0.14817438186912646,\n",
       " 0.40517423103935435,\n",
       " 0.25060889385852303,\n",
       " 0.34013964764237015,\n",
       " 0.6309697280582935,\n",
       " 0.35146143639185146,\n",
       " 0.6553801931079564,\n",
       " 0.4832566704560192,\n",
       " 0.37008353543961514,\n",
       " 0.34751706495177764,\n",
       " 0.4582047624072563,\n",
       " 0.4081972963385099,\n",
       " 0.3300021875969289,\n",
       " 0.4045284023508984,\n",
       " 0.436856900898544,\n",
       " 0.3854109854137743,\n",
       " 0.4619494428416935,\n",
       " 0.3578009748488732,\n",
       " 0.6756362937138455,\n",
       " 0.45199125590806577,\n",
       " 0.4771765571501653,\n",
       " 0.3498811690482743,\n",
       " 0.332922462313453,\n",
       " 0.39479747243304464,\n",
       " 0.38116669983027757,\n",
       " 0.32442750236278683,\n",
       " 0.2623505729244298,\n",
       " 0.409922343760338,\n",
       " 0.2812286229768959,\n",
       " 0.5736896961450079,\n",
       " 0.5525890054620881,\n",
       " 0.580891657465232,\n",
       " 0.44546580415873355,\n",
       " 0.28779403253115904,\n",
       " 0.3610792203026799,\n",
       " 0.3812905481736216,\n",
       " 0.3011965165924194,\n",
       " 0.631079491979266,\n",
       " 0.4665289387885827,\n",
       " 0.6695648657703636,\n",
       " 0.4125004939274084,\n",
       " 0.5089885716923492,\n",
       " 0.3190477986744939,\n",
       " 0.4040631595167694,\n",
       " 0.30348674838446044,\n",
       " 0.3144485745404563,\n",
       " 0.42801100035080675,\n",
       " 0.43103909373067384,\n",
       " 0.5595977542362105,\n",
       " 0.49529239341694214,\n",
       " 0.25290581125966505,\n",
       " 0.46016879327229365,\n",
       " 0.3420835612238745,\n",
       " 0.43333619852390487,\n",
       " 0.6541923028563656,\n",
       " 0.47394928100980116,\n",
       " 0.7800698062041833,\n",
       " 0.36741116382933664,\n",
       " 0.44738944905586653,\n",
       " 0.3730896678837703,\n",
       " 0.36889879157748623,\n",
       " 0.4700496455227414,\n",
       " 0.4212702073642308,\n",
       " 0.6367582237005142,\n",
       " 0.41152443859211807,\n",
       " 0.473216206793002,\n",
       " 0.2615823079477869,\n",
       " 0.2937583986198612,\n",
       " 0.2900611335662388,\n",
       " 0.4199787212906594,\n",
       " 0.40516454821367665,\n",
       " 0.4529824389998145,\n",
       " 0.4664845992401385,\n",
       " 0.4439329193938062,\n",
       " 0.6276126198621239,\n",
       " 0.47001776592485134,\n",
       " 0.3922542430276303,\n",
       " 0.3164794752973712,\n",
       " 0.5527563236724105,\n",
       " 0.40567315992696606,\n",
       " 0.31741748592047736,\n",
       " 0.607772293776117,\n",
       " 0.50921758988855,\n",
       " 0.7107312763074372,\n",
       " 0.56544724553485]"
      ]
     },
     "execution_count": 128,
     "metadata": {},
     "output_type": "execute_result"
    }
   ],
   "source": [
    "pca_cos_sims"
   ]
  },
  {
   "cell_type": "markdown",
   "id": "3e635271",
   "metadata": {},
   "source": [
    "## Wikipedia benchmark"
   ]
  },
  {
   "cell_type": "code",
   "execution_count": 129,
   "id": "f60556c4",
   "metadata": {
    "ExecuteTime": {
     "end_time": "2025-06-17T07:56:59.452899Z",
     "start_time": "2025-06-17T07:56:25.984939Z"
    }
   },
   "outputs": [
    {
     "data": {
      "application/vnd.jupyter.widget-view+json": {
       "model_id": "02c032c807364f1191fb390959cdf4dc",
       "version_major": 2,
       "version_minor": 0
      },
      "text/plain": [
       "  0%|          | 0/4001 [00:00<?, ?it/s]"
      ]
     },
     "metadata": {},
     "output_type": "display_data"
    }
   ],
   "source": [
    "wikipedia_files=[file for file in os.listdir(WIKI_FOLDER) if file.endswith('.txt') and file.startswith('wikipedia')]\n",
    "for file in tqdm(wikipedia_files):\n",
    "    bench_vec=np.genfromtxt(WIKI_FOLDER+file)\n",
    "    new_bench_vec=abtt(bench_vec, mean_vec, U)\n",
    "    np.savetxt(PCA_CENTR_VECTOR_FOLDER+file, new_bench_vec)"
   ]
  },
  {
   "cell_type": "code",
   "execution_count": 131,
   "id": "b4402d08",
   "metadata": {
    "ExecuteTime": {
     "end_time": "2025-06-17T07:57:02.942894Z",
     "start_time": "2025-06-17T07:57:02.934190Z"
    }
   },
   "outputs": [
    {
     "data": {
      "text/plain": [
       "768"
      ]
     },
     "execution_count": 131,
     "metadata": {},
     "output_type": "execute_result"
    }
   ],
   "source": [
    "len(new_bench_vec)"
   ]
  }
 ],
 "metadata": {
  "kernelspec": {
   "display_name": "Python 3 (ipykernel)",
   "language": "python",
   "name": "python3"
  },
  "language_info": {
   "codemirror_mode": {
    "name": "ipython",
    "version": 3
   },
   "file_extension": ".py",
   "mimetype": "text/x-python",
   "name": "python",
   "nbconvert_exporter": "python",
   "pygments_lexer": "ipython3",
   "version": "3.8.10"
  },
  "notify_time": "5",
  "toc": {
   "base_numbering": 1,
   "nav_menu": {},
   "number_sections": true,
   "sideBar": true,
   "skip_h1_title": false,
   "title_cell": "Table of Contents",
   "title_sidebar": "Contents",
   "toc_cell": false,
   "toc_position": {
    "height": "calc(100% - 180px)",
    "left": "10px",
    "top": "150px",
    "width": "288px"
   },
   "toc_section_display": true,
   "toc_window_display": true
  }
 },
 "nbformat": 4,
 "nbformat_minor": 5
}
