{
 "cells": [
  {
   "cell_type": "markdown",
   "id": "25e0469b",
   "metadata": {},
   "source": [
    "# Intro"
   ]
  },
  {
   "cell_type": "markdown",
   "id": "43c39409",
   "metadata": {},
   "source": [
    "## Premise\n",
    "The issue is always the same: is everything we are doing correct?  \n",
    "The fact that there is a non trivial superposition between Witten's review and all our documents is suspect..."
   ]
  },
  {
   "cell_type": "markdown",
   "id": "8776d0b9",
   "metadata": {},
   "source": [
    "## Standard modules"
   ]
  },
  {
   "cell_type": "code",
   "execution_count": 1,
   "id": "a6ed2502",
   "metadata": {
    "ExecuteTime": {
     "end_time": "2025-06-17T08:54:42.514500Z",
     "start_time": "2025-06-17T08:54:42.411779Z"
    }
   },
   "outputs": [],
   "source": [
    "import os, sys\n",
    "import pathlib\n",
    "import requests"
   ]
  },
  {
   "cell_type": "code",
   "execution_count": 2,
   "id": "1a68eb04",
   "metadata": {
    "ExecuteTime": {
     "end_time": "2025-06-17T08:54:42.653882Z",
     "start_time": "2025-06-17T08:54:42.519547Z"
    }
   },
   "outputs": [],
   "source": [
    "import numpy as np"
   ]
  },
  {
   "cell_type": "code",
   "execution_count": 3,
   "id": "518ed8fa",
   "metadata": {
    "ExecuteTime": {
     "end_time": "2025-06-17T08:54:42.785729Z",
     "start_time": "2025-06-17T08:54:42.657031Z"
    }
   },
   "outputs": [],
   "source": [
    "from tqdm.auto import tqdm, trange"
   ]
  },
  {
   "cell_type": "code",
   "execution_count": 4,
   "id": "c2fbf773",
   "metadata": {
    "ExecuteTime": {
     "end_time": "2025-06-17T08:54:46.442440Z",
     "start_time": "2025-06-17T08:54:42.788860Z"
    }
   },
   "outputs": [],
   "source": [
    "from sentence_transformers import util"
   ]
  },
  {
   "cell_type": "code",
   "execution_count": 5,
   "id": "8f5cd98d",
   "metadata": {
    "ExecuteTime": {
     "end_time": "2025-06-17T08:54:47.181725Z",
     "start_time": "2025-06-17T08:54:46.448556Z"
    }
   },
   "outputs": [],
   "source": [
    "import matplotlib.pyplot as plt\n",
    "plt.rcParams['axes.linewidth'] = 2\n",
    "plt.rcParams['xtick.major.size'] = 10\n",
    "plt.rcParams['xtick.major.width'] = 2\n",
    "plt.rcParams['ytick.major.size'] = 10\n",
    "plt.rcParams['ytick.major.width'] = 2\n",
    "\n",
    "plt.rcParams['xtick.labelsize'] = 14\n",
    "plt.rcParams['ytick.labelsize'] = 14\n",
    "\n",
    "plt.rcParams['xtick.minor.size'] = 5\n",
    "plt.rcParams['xtick.minor.width'] = 1\n",
    "plt.rcParams['ytick.minor.size'] = 5\n",
    "plt.rcParams['ytick.minor.width'] = 1"
   ]
  },
  {
   "cell_type": "code",
   "execution_count": 6,
   "id": "dfb7cdf0",
   "metadata": {
    "ExecuteTime": {
     "end_time": "2025-06-17T08:54:47.267684Z",
     "start_time": "2025-06-17T08:54:47.191956Z"
    }
   },
   "outputs": [],
   "source": [
    "from sklearn.decomposition import PCA\n",
    "from sklearn.preprocessing import normalize\n",
    "from sklearn.preprocessing import RobustScaler\n",
    "from sklearn.preprocessing import QuantileTransformer"
   ]
  },
  {
   "cell_type": "code",
   "execution_count": 69,
   "id": "758a8349",
   "metadata": {
    "ExecuteTime": {
     "end_time": "2025-06-17T09:04:38.340789Z",
     "start_time": "2025-06-17T09:04:38.334674Z"
    }
   },
   "outputs": [],
   "source": [
    "from sklearn.preprocessing import Normalizer\n",
    "import umap"
   ]
  },
  {
   "cell_type": "code",
   "execution_count": 7,
   "id": "392b5887",
   "metadata": {
    "ExecuteTime": {
     "end_time": "2025-06-17T08:54:47.631810Z",
     "start_time": "2025-06-17T08:54:47.270897Z"
    }
   },
   "outputs": [],
   "source": [
    "import seaborn"
   ]
  },
  {
   "cell_type": "code",
   "execution_count": 8,
   "id": "2d2db20c",
   "metadata": {
    "ExecuteTime": {
     "end_time": "2025-06-17T08:54:47.641599Z",
     "start_time": "2025-06-17T08:54:47.635102Z"
    }
   },
   "outputs": [],
   "source": [
    "import pymannkendall as mk"
   ]
  },
  {
   "cell_type": "markdown",
   "id": "056b41bc",
   "metadata": {},
   "source": [
    "## Personal modules"
   ]
  },
  {
   "cell_type": "code",
   "execution_count": 9,
   "id": "e772be2f",
   "metadata": {
    "ExecuteTime": {
     "end_time": "2025-06-17T08:54:47.742193Z",
     "start_time": "2025-06-17T08:54:47.645157Z"
    }
   },
   "outputs": [],
   "source": [
    "from toolbox.updater import time_is_now"
   ]
  },
  {
   "cell_type": "code",
   "execution_count": 10,
   "id": "792a2a17",
   "metadata": {
    "ExecuteTime": {
     "end_time": "2025-06-17T08:54:47.831978Z",
     "start_time": "2025-06-17T08:54:47.745680Z"
    }
   },
   "outputs": [],
   "source": [
    "from file2text import file2text"
   ]
  },
  {
   "cell_type": "code",
   "execution_count": 11,
   "id": "b67a02fd",
   "metadata": {
    "ExecuteTime": {
     "end_time": "2025-06-17T08:54:47.919552Z",
     "start_time": "2025-06-17T08:54:47.835467Z"
    }
   },
   "outputs": [],
   "source": [
    "from first_rough_cleaning import first_text_cleaner"
   ]
  },
  {
   "cell_type": "code",
   "execution_count": 12,
   "id": "3fa65568",
   "metadata": {
    "ExecuteTime": {
     "end_time": "2025-06-17T08:54:48.010943Z",
     "start_time": "2025-06-17T08:54:47.928054Z"
    }
   },
   "outputs": [],
   "source": [
    "from file_handler import *"
   ]
  },
  {
   "cell_type": "code",
   "execution_count": 13,
   "id": "85872d1f",
   "metadata": {
    "ExecuteTime": {
     "end_time": "2025-06-17T08:54:53.237649Z",
     "start_time": "2025-06-17T08:54:48.013755Z"
    }
   },
   "outputs": [
    {
     "name": "stderr",
     "output_type": "stream",
     "text": [
      "/home/sarawalk/sdgs_py38/lib/python3.8/site-packages/torch/cuda/__init__.py:118: UserWarning: CUDA initialization: The NVIDIA driver on your system is too old (found version 10020). Please update your GPU driver by downloading and installing a new version from the URL: http://www.nvidia.com/Download/index.aspx Alternatively, go to: https://pytorch.org to install a PyTorch version that has been compiled with your version of the CUDA driver. (Triggered internally at ../c10/cuda/CUDAFunctions.cpp:108.)\n",
      "  return torch._C._cuda_getDeviceCount() > 0\n"
     ]
    }
   ],
   "source": [
    "from jina4lote import jina4lote"
   ]
  },
  {
   "cell_type": "markdown",
   "id": "0fe02396",
   "metadata": {},
   "source": [
    "## Folders"
   ]
  },
  {
   "cell_type": "code",
   "execution_count": 14,
   "id": "97ff360d",
   "metadata": {
    "ExecuteTime": {
     "end_time": "2025-06-17T08:54:53.247551Z",
     "start_time": "2025-06-17T08:54:53.240974Z"
    }
   },
   "outputs": [],
   "source": [
    "VECTOR_FOLDER='./NewProcessedData/vectors/'"
   ]
  },
  {
   "cell_type": "code",
   "execution_count": 15,
   "id": "42b010d8",
   "metadata": {
    "ExecuteTime": {
     "end_time": "2025-06-17T08:54:53.344354Z",
     "start_time": "2025-06-17T08:54:53.251321Z"
    }
   },
   "outputs": [],
   "source": [
    "BENCHMARK_FOLDER='./NewProcessedData/benchmarks/'"
   ]
  },
  {
   "cell_type": "code",
   "execution_count": 140,
   "id": "3039baf5",
   "metadata": {
    "ExecuteTime": {
     "end_time": "2025-06-18T15:08:16.625481Z",
     "start_time": "2025-06-18T15:08:16.619934Z"
    }
   },
   "outputs": [],
   "source": [
    "PCA_CENTR_VECTOR_FOLDER='./NewProcessedData/abtt5_vectors/'"
   ]
  },
  {
   "cell_type": "code",
   "execution_count": 142,
   "id": "711c3e90",
   "metadata": {
    "ExecuteTime": {
     "end_time": "2025-06-18T15:13:41.221107Z",
     "start_time": "2025-06-18T15:13:41.215334Z"
    }
   },
   "outputs": [],
   "source": [
    "ABTT1_VECTOR_FOLDER='./NewProcessedData/abtt1_vectors/'"
   ]
  },
  {
   "cell_type": "code",
   "execution_count": 17,
   "id": "53edc4ff",
   "metadata": {
    "ExecuteTime": {
     "end_time": "2025-06-17T08:54:53.552509Z",
     "start_time": "2025-06-17T08:54:53.478525Z"
    }
   },
   "outputs": [],
   "source": [
    "WIKI_FOLDER='./NewProcessedData/wikipedia/vectors/'"
   ]
  },
  {
   "cell_type": "markdown",
   "id": "66c7f329",
   "metadata": {},
   "source": [
    "## Reports' vectors"
   ]
  },
  {
   "cell_type": "code",
   "execution_count": 18,
   "id": "95627bd3",
   "metadata": {
    "ExecuteTime": {
     "end_time": "2025-06-17T08:54:53.653163Z",
     "start_time": "2025-06-17T08:54:53.555849Z"
    }
   },
   "outputs": [],
   "source": [
    "vecfiles=os.listdir(VECTOR_FOLDER)"
   ]
  },
  {
   "cell_type": "code",
   "execution_count": 19,
   "id": "beb20228",
   "metadata": {
    "ExecuteTime": {
     "end_time": "2025-06-17T08:54:53.753057Z",
     "start_time": "2025-06-17T08:54:53.656698Z"
    }
   },
   "outputs": [],
   "source": [
    "vecfiles.sort()"
   ]
  },
  {
   "cell_type": "code",
   "execution_count": 20,
   "id": "256d8c4c",
   "metadata": {
    "ExecuteTime": {
     "end_time": "2025-06-17T08:54:53.863390Z",
     "start_time": "2025-06-17T08:54:53.756661Z"
    }
   },
   "outputs": [
    {
     "data": {
      "text/plain": [
       "575"
      ]
     },
     "execution_count": 20,
     "metadata": {},
     "output_type": "execute_result"
    }
   ],
   "source": [
    "# files from 2024 are un reliable, \n",
    "# as they probably refer to a different accounting year,\n",
    "# due to differences with other countries\n",
    "len(vecfiles)"
   ]
  },
  {
   "cell_type": "code",
   "execution_count": 21,
   "id": "537f4d8c",
   "metadata": {
    "ExecuteTime": {
     "end_time": "2025-06-17T08:54:53.986446Z",
     "start_time": "2025-06-17T08:54:53.866798Z"
    }
   },
   "outputs": [],
   "source": [
    "vecfiles=[vecfile for vecfile in vecfiles if not vecfile.startswith('2024')]"
   ]
  },
  {
   "cell_type": "code",
   "execution_count": 22,
   "id": "44b24203",
   "metadata": {
    "ExecuteTime": {
     "end_time": "2025-06-17T08:54:54.097677Z",
     "start_time": "2025-06-17T08:54:53.989499Z"
    }
   },
   "outputs": [
    {
     "data": {
      "text/plain": [
       "573"
      ]
     },
     "execution_count": 22,
     "metadata": {},
     "output_type": "execute_result"
    }
   ],
   "source": [
    "len(vecfiles)"
   ]
  },
  {
   "cell_type": "markdown",
   "id": "201939cb",
   "metadata": {},
   "source": [
    "## Witten's vector"
   ]
  },
  {
   "cell_type": "code",
   "execution_count": 23,
   "id": "d23fd974",
   "metadata": {
    "ExecuteTime": {
     "end_time": "2025-06-17T08:54:54.211308Z",
     "start_time": "2025-06-17T08:54:54.101395Z"
    }
   },
   "outputs": [],
   "source": [
    "wittenvecfile=[file for file in os.listdir(BENCHMARK_FOLDER) if file.startswith('Witten') and file.endswith('.txt')][0]"
   ]
  },
  {
   "cell_type": "code",
   "execution_count": 24,
   "id": "2ceda6a3",
   "metadata": {
    "ExecuteTime": {
     "end_time": "2025-06-17T08:54:54.291801Z",
     "start_time": "2025-06-17T08:54:54.214984Z"
    }
   },
   "outputs": [],
   "source": [
    "wittenvec=np.genfromtxt(BENCHMARK_FOLDER+wittenvecfile)"
   ]
  },
  {
   "cell_type": "markdown",
   "id": "8629f9ac",
   "metadata": {},
   "source": [
    "# Mean vector"
   ]
  },
  {
   "cell_type": "code",
   "execution_count": 25,
   "id": "509133f5",
   "metadata": {
    "ExecuteTime": {
     "end_time": "2025-06-17T08:54:56.815644Z",
     "start_time": "2025-06-17T08:54:54.295009Z"
    }
   },
   "outputs": [
    {
     "data": {
      "application/vnd.jupyter.widget-view+json": {
       "model_id": "3a3022959e7744619e5709517ff77a70",
       "version_major": 2,
       "version_minor": 0
      },
      "text/plain": [
       "  0%|          | 0/573 [00:00<?, ?it/s]"
      ]
     },
     "metadata": {},
     "output_type": "display_data"
    }
   ],
   "source": [
    "for i, vecfile in enumerate(tqdm(vecfiles)):\n",
    "    if i==0:\n",
    "        mean_vec=np.genfromtxt(VECTOR_FOLDER+vecfile)\n",
    "    else:\n",
    "        mean_vec+=np.genfromtxt(VECTOR_FOLDER+vecfile)\n",
    "mean_vec/=len(vecfiles)"
   ]
  },
  {
   "cell_type": "markdown",
   "id": "c3a76082",
   "metadata": {},
   "source": [
    "# Witten is quite close to be mean"
   ]
  },
  {
   "cell_type": "markdown",
   "id": "42c72266",
   "metadata": {},
   "source": [
    " Witten is quite close to be mean"
   ]
  },
  {
   "cell_type": "code",
   "execution_count": 26,
   "id": "f10157e6",
   "metadata": {
    "ExecuteTime": {
     "end_time": "2025-06-17T08:54:56.836247Z",
     "start_time": "2025-06-17T08:54:56.825885Z"
    }
   },
   "outputs": [
    {
     "data": {
      "text/plain": [
       "tensor([[0.8199]], dtype=torch.float64)"
      ]
     },
     "execution_count": 26,
     "metadata": {},
     "output_type": "execute_result"
    }
   ],
   "source": [
    "util.cos_sim(wittenvec, mean_vec)"
   ]
  },
  {
   "cell_type": "code",
   "execution_count": 119,
   "id": "6a5c7fd1",
   "metadata": {
    "ExecuteTime": {
     "end_time": "2025-06-17T09:47:01.328706Z",
     "start_time": "2025-06-17T09:46:58.771859Z"
    }
   },
   "outputs": [
    {
     "data": {
      "application/vnd.jupyter.widget-view+json": {
       "model_id": "14527e8a76a9408a996a4ae7c8e244eb",
       "version_major": 2,
       "version_minor": 0
      },
      "text/plain": [
       "  0%|          | 0/573 [00:00<?, ?it/s]"
      ]
     },
     "metadata": {},
     "output_type": "display_data"
    }
   ],
   "source": [
    "pure_cos_sims=np.zeros(len(vecfiles))\n",
    "for i, vecfile in enumerate(tqdm(vecfiles)):\n",
    "    vec=np.genfromtxt(VECTOR_FOLDER+vecfile)\n",
    "    cos_sim=float(util.cos_sim(wittenvec, vec))\n",
    "    #print(f'{vecfile:})\\tcos={cos_sim:.3f}')\n",
    "    pure_cos_sims[i]=cos_sim"
   ]
  },
  {
   "cell_type": "code",
   "execution_count": 27,
   "id": "27144528",
   "metadata": {
    "ExecuteTime": {
     "end_time": "2025-06-17T08:54:59.521586Z",
     "start_time": "2025-06-17T08:54:56.839169Z"
    }
   },
   "outputs": [
    {
     "data": {
      "application/vnd.jupyter.widget-view+json": {
       "model_id": "af3c0f904211404d925668ce1ffaedd7",
       "version_major": 2,
       "version_minor": 0
      },
      "text/plain": [
       "  0%|          | 0/573 [00:00<?, ?it/s]"
      ]
     },
     "metadata": {},
     "output_type": "display_data"
    }
   ],
   "source": [
    "cos_sims=np.zeros(len(vecfiles))\n",
    "for i, vecfile in enumerate(tqdm(vecfiles)):\n",
    "    vec=np.genfromtxt(VECTOR_FOLDER+vecfile)\n",
    "    cos_sim=float(util.cos_sim(wittenvec, vec-mean_vec))\n",
    "    #print(f'{vecfile:})\\tcos={cos_sim:.3f}')\n",
    "    cos_sims[i]=cos_sim"
   ]
  },
  {
   "cell_type": "code",
   "execution_count": 28,
   "id": "ebb5b328",
   "metadata": {
    "ExecuteTime": {
     "end_time": "2025-06-17T08:54:59.923548Z",
     "start_time": "2025-06-17T08:54:59.524879Z"
    }
   },
   "outputs": [
    {
     "data": {
      "image/png": "[encoded data removed]",
      "text/plain": [
       "<Figure size 640x480 with 1 Axes>"
      ]
     },
     "metadata": {},
     "output_type": "display_data"
    }
   ],
   "source": [
    "plt.hist(cos_sims, edgecolor='black')\n",
    "plt.suptitle('Witten vs. sustainability reports', fontsize=20)\n",
    "plt.xlabel('Cosine similarity', fontsize=16)\n",
    "plt.show()"
   ]
  },
  {
   "cell_type": "markdown",
   "id": "7268c5b7",
   "metadata": {},
   "source": [
    "That's much better. "
   ]
  },
  {
   "cell_type": "markdown",
   "id": "9f7f5cab",
   "metadata": {},
   "source": [
    "# PCA"
   ]
  },
  {
   "cell_type": "markdown",
   "id": "300fbdd0",
   "metadata": {},
   "source": [
    "The dimension fo the embedding is the same for all vectors:"
   ]
  },
  {
   "cell_type": "code",
   "execution_count": 29,
   "id": "67083a6f",
   "metadata": {
    "ExecuteTime": {
     "end_time": "2025-06-16T13:19:42.597575Z",
     "start_time": "2025-06-16T13:19:42.590802Z"
    }
   },
   "outputs": [
    {
     "data": {
      "text/plain": [
       "768"
      ]
     },
     "execution_count": 29,
     "metadata": {},
     "output_type": "execute_result"
    }
   ],
   "source": [
    "len(wittenvec)"
   ]
  },
  {
   "cell_type": "code",
   "execution_count": 161,
   "id": "4d06e245",
   "metadata": {
    "ExecuteTime": {
     "end_time": "2025-06-19T13:37:06.720469Z",
     "start_time": "2025-06-19T13:37:06.713893Z"
    }
   },
   "outputs": [],
   "source": [
    "vecs=np.zeros((len(vecfiles), len(wittenvec)))"
   ]
  },
  {
   "cell_type": "code",
   "execution_count": 162,
   "id": "aa342264",
   "metadata": {
    "ExecuteTime": {
     "end_time": "2025-06-19T13:37:09.986024Z",
     "start_time": "2025-06-19T13:37:07.600969Z"
    }
   },
   "outputs": [
    {
     "data": {
      "application/vnd.jupyter.widget-view+json": {
       "model_id": "24f4dca8305647c8b4f0a6bec160d43f",
       "version_major": 2,
       "version_minor": 0
      },
      "text/plain": [
       "  0%|          | 0/573 [00:00<?, ?it/s]"
      ]
     },
     "metadata": {},
     "output_type": "display_data"
    }
   ],
   "source": [
    "for i, vecfile in enumerate(tqdm(vecfiles)):\n",
    "    vec=np.genfromtxt(VECTOR_FOLDER+vecfile)\n",
    "    vecs[i]=vec"
   ]
  },
  {
   "cell_type": "markdown",
   "id": "05106cab",
   "metadata": {},
   "source": [
    "## Which percentage?"
   ]
  },
  {
   "cell_type": "code",
   "execution_count": 163,
   "id": "35478103",
   "metadata": {
    "ExecuteTime": {
     "end_time": "2025-06-19T13:37:11.203058Z",
     "start_time": "2025-06-19T13:37:10.911855Z"
    }
   },
   "outputs": [],
   "source": [
    "pca = PCA()\n",
    "new_vecs=pca.fit_transform(vecs)"
   ]
  },
  {
   "cell_type": "code",
   "execution_count": 167,
   "id": "d8cf2c59",
   "metadata": {
    "ExecuteTime": {
     "end_time": "2025-06-19T13:38:50.132541Z",
     "start_time": "2025-06-19T13:38:48.392774Z"
    }
   },
   "outputs": [
    {
     "data": {
      "image/png": "[encoded data removed]",
      "text/plain": [
       "<Figure size 640x480 with 1 Axes>"
      ]
     },
     "metadata": {},
     "output_type": "display_data"
    }
   ],
   "source": [
    "plt.scatter(np.arange(len(vecfiles)), np.cumsum(pca.explained_variance_ratio_))\n",
    "plt.hlines(0.90, 1, 1000, ls='--', color='red')\n",
    "plt.xscale('log')\n",
    "plt.yscale('log')\n",
    "plt.ylabel('PCA explained variance\\n(cumulative)', fontsize=16)\n",
    "plt.xlabel('Eigenvectors', fontsize=16)\n",
    "plt.savefig('./NewPlots/postprocessing_pca.pdf', bbox_inches='tight')\n",
    "plt.show()"
   ]
  },
  {
   "cell_type": "code",
   "execution_count": 34,
   "id": "84e0cb9b",
   "metadata": {
    "ExecuteTime": {
     "end_time": "2025-06-16T13:19:46.519098Z",
     "start_time": "2025-06-16T13:19:46.511155Z"
    }
   },
   "outputs": [
    {
     "data": {
      "text/plain": [
       "63"
      ]
     },
     "execution_count": 34,
     "metadata": {},
     "output_type": "execute_result"
    }
   ],
   "source": [
    "np.where(np.cumsum(pca.explained_variance_ratio_)<=.90)[0][-1]"
   ]
  },
  {
   "cell_type": "code",
   "execution_count": 35,
   "id": "2b7543bb",
   "metadata": {
    "ExecuteTime": {
     "end_time": "2025-06-16T13:19:46.605439Z",
     "start_time": "2025-06-16T13:19:46.522032Z"
    }
   },
   "outputs": [
    {
     "data": {
      "text/plain": [
       "87"
      ]
     },
     "execution_count": 35,
     "metadata": {},
     "output_type": "execute_result"
    }
   ],
   "source": [
    "np.where(np.cumsum(pca.explained_variance_ratio_)<=.95)[0][-1]"
   ]
  },
  {
   "cell_type": "code",
   "execution_count": 36,
   "id": "33fde336",
   "metadata": {
    "ExecuteTime": {
     "end_time": "2025-06-16T13:19:46.797615Z",
     "start_time": "2025-06-16T13:19:46.608591Z"
    }
   },
   "outputs": [
    {
     "data": {
      "text/plain": [
       "160"
      ]
     },
     "execution_count": 36,
     "metadata": {},
     "output_type": "execute_result"
    }
   ],
   "source": [
    "np.where(np.cumsum(pca.explained_variance_ratio_)<=.99)[0][-1]"
   ]
  },
  {
   "cell_type": "markdown",
   "id": "3f620a39",
   "metadata": {},
   "source": [
    "## Dimensional reduction"
   ]
  },
  {
   "cell_type": "code",
   "execution_count": 37,
   "id": "620b0653",
   "metadata": {
    "ExecuteTime": {
     "end_time": "2025-06-16T13:19:47.367100Z",
     "start_time": "2025-06-16T13:19:46.800771Z"
    }
   },
   "outputs": [],
   "source": [
    "pca = PCA(n_components=63)\n",
    "new_vecs=pca.fit_transform(vecs)"
   ]
  },
  {
   "cell_type": "code",
   "execution_count": 38,
   "id": "b32209a0",
   "metadata": {
    "ExecuteTime": {
     "end_time": "2025-06-16T13:19:48.431088Z",
     "start_time": "2025-06-16T13:19:47.372484Z"
    }
   },
   "outputs": [
    {
     "data": {
      "image/png": "[encoded data removed]",
      "text/plain": [
       "<Figure size 640x480 with 1 Axes>"
      ]
     },
     "metadata": {},
     "output_type": "display_data"
    }
   ],
   "source": [
    "plt.scatter(np.arange(63), np.cumsum(pca.explained_variance_ratio_))\n",
    "plt.hlines(0.90, 1, 1000, ls='--', color='red')\n",
    "plt.xscale('log')\n",
    "plt.yscale('log')\n",
    "plt.ylabel('PCA explained variance (cumulative)', fontsize=16)\n",
    "plt.show()"
   ]
  },
  {
   "cell_type": "markdown",
   "id": "a257a599",
   "metadata": {},
   "source": [
    "## Check with Witten"
   ]
  },
  {
   "cell_type": "code",
   "execution_count": 39,
   "id": "77031072",
   "metadata": {
    "ExecuteTime": {
     "end_time": "2025-06-16T13:19:48.452888Z",
     "start_time": "2025-06-16T13:19:48.433886Z"
    }
   },
   "outputs": [
    {
     "data": {
      "text/plain": [
       "array([-3.02811189e-02, -3.81932141e-02,  5.04839207e-02, -8.00098124e-03,\n",
       "       -3.53469865e-02, -3.23630692e-03, -6.81020060e-03, -2.89417768e-02,\n",
       "        5.92756829e-02,  8.08559115e-03, -1.55386966e-02, -9.66650055e-03,\n",
       "       -3.56608460e-02, -6.64788847e-03, -4.35948768e-02,  7.00658821e-02,\n",
       "       -1.15720409e-02,  6.07534971e-03,  6.03255241e-03, -9.20716491e-03,\n",
       "       -1.40867959e-02, -3.93993677e-02, -3.48379897e-02, -9.90491321e-03,\n",
       "        2.00452551e-02, -1.42847605e-03,  5.88203656e-02,  2.48458379e-02,\n",
       "        4.49237034e-02,  3.21563627e-02,  2.96030887e-03, -2.53623230e-02,\n",
       "       -4.41500462e-02,  1.02410977e-02,  2.29212367e-04, -6.59512065e-02,\n",
       "       -1.54529956e-02, -1.65040052e-03,  7.72846153e-02,  6.11668911e-02,\n",
       "       -2.46362986e-02,  5.33290305e-03,  1.44023294e-02,  6.18857648e-02,\n",
       "       -5.30239550e-02, -9.63267495e-03, -1.90574004e-02,  1.46386031e-02,\n",
       "       -2.03105476e-02, -4.04475940e-02, -2.31404802e-02, -3.59528446e-02,\n",
       "        2.79525956e-03, -5.64746193e-02,  2.17616990e-02, -1.97338442e-04,\n",
       "        6.21214877e-02,  6.61720951e-03, -3.26346671e-02, -2.30471708e-02,\n",
       "       -7.43391931e-02,  8.27127390e-02, -2.79492860e-02,  5.31379301e-02,\n",
       "        3.22637610e-02,  1.70363287e-02, -2.23847364e-02, -3.42821583e-02,\n",
       "       -5.52223572e-02, -2.19898706e-02,  4.41702077e-03,  3.28990522e-02,\n",
       "       -2.49838604e-02,  3.62717634e-03,  1.76886460e-02,  5.69511201e-02,\n",
       "       -3.81876590e-02, -2.90790946e-02, -5.21821710e-02, -1.99388322e-02,\n",
       "        3.63576101e-02,  2.22451256e-02,  1.64853200e-02, -9.55896607e-03,\n",
       "       -4.20710289e-02, -1.57207443e-02, -2.73696884e-02,  6.34752722e-03,\n",
       "        3.20776246e-02, -1.33770048e-02, -2.57979400e-02,  3.89600836e-02,\n",
       "       -6.83764432e-03,  3.63335740e-02,  1.79977712e-02, -3.28954600e-02,\n",
       "        7.08513160e-03, -3.51393956e-02, -2.16563411e-02,  1.33502183e-02,\n",
       "        3.81675200e-02,  8.16381521e-03,  6.79675090e-03, -1.02994900e-02,\n",
       "        2.44774163e-03,  7.88856768e-03, -5.65076932e-05, -3.57839624e-02,\n",
       "       -3.52497327e-02,  1.45775153e-02, -4.81577764e-02, -6.07674768e-03,\n",
       "        2.41929230e-02, -3.83938274e-02, -2.21590392e-02, -2.13717732e-02,\n",
       "        4.75917764e-02, -3.61774608e-02, -3.12937795e-02,  2.24688575e-02,\n",
       "       -3.94344379e-02,  7.54087451e-03,  1.81490921e-02, -5.97848827e-02,\n",
       "        3.91909417e-02,  2.60820270e-02,  4.75642697e-02,  4.74400835e-03,\n",
       "       -1.01530490e-02,  6.19609985e-03,  1.74426884e-02, -4.44980590e-02,\n",
       "        2.59526594e-02, -1.85794372e-02, -1.14961963e-02, -2.55971734e-02,\n",
       "       -1.29394928e-02,  9.82768669e-03, -2.72170050e-02, -4.83523369e-03,\n",
       "       -6.45107872e-02,  5.63472104e-03, -1.57876275e-02, -4.18630423e-02,\n",
       "       -2.79127905e-02, -7.10612882e-03, -4.34612438e-02,  3.58742012e-02,\n",
       "        8.84307341e-03, -6.71138577e-02,  1.90486737e-02, -1.85125971e-02,\n",
       "       -2.39335585e-02, -1.32100909e-02,  2.42471302e-03, -4.07942491e-03,\n",
       "        2.09750532e-02, -3.07697224e-02,  8.03729836e-03, -2.77640418e-02,\n",
       "        4.94431846e-03, -5.18253250e-02, -2.85479673e-02,  4.13532111e-02,\n",
       "       -3.08787564e-02,  9.24611149e-02,  3.41984660e-02, -1.49598001e-02,\n",
       "       -3.58763530e-02, -6.69816661e-02,  1.20398713e-02,  9.67076100e-04,\n",
       "       -4.47094233e-02, -2.84556512e-02,  5.66427989e-03, -4.64706576e-02,\n",
       "       -1.70533615e-02,  3.29382653e-02, -3.88062029e-02,  1.10385042e-02,\n",
       "       -5.90796066e-03,  3.05628249e-02,  6.69714713e-02,  2.48866991e-02,\n",
       "        5.69252653e-02, -2.02501655e-02,  3.34317605e-02,  1.96088547e-02,\n",
       "        2.20834389e-02,  1.97238108e-02, -1.99164809e-02, -5.96767468e-02,\n",
       "       -2.67615277e-02,  3.85465891e-02,  5.96983985e-02, -3.52261004e-02,\n",
       "        4.32973919e-02, -1.17697727e-02, -3.71079162e-02, -2.04805814e-02,\n",
       "       -7.16061672e-03,  1.04997336e-02,  1.18080751e-02,  2.38969752e-02,\n",
       "       -3.42599691e-02, -4.69283294e-02, -7.90633551e-02,  1.34596944e-02,\n",
       "       -4.55104825e-02,  2.52880053e-03, -1.07768717e-02,  1.87895845e-02,\n",
       "       -2.31739393e-03,  4.61499887e-02, -4.50103202e-02,  6.97334575e-03,\n",
       "        1.30693853e-02, -1.34384861e-02,  4.24836817e-02,  5.94626211e-02,\n",
       "        8.36175457e-03, -4.20052729e-02, -2.10813866e-02, -1.81776630e-02,\n",
       "       -9.37630107e-02,  2.73937188e-02, -5.14567817e-03, -2.92569939e-02,\n",
       "        1.17726101e-02,  1.57906583e-02, -5.71810061e-02,  4.51630390e-02,\n",
       "        3.40370395e-03, -1.79376799e-02,  3.26625386e-02, -2.71542075e-02,\n",
       "        1.41790552e-02, -7.25870661e-02, -1.19166640e-02, -1.85723382e-04,\n",
       "       -1.54575148e-02, -6.33337553e-02,  2.04715428e-02, -1.02201328e-02,\n",
       "        6.44118824e-03, -1.66555149e-02,  1.70906594e-02, -4.36114406e-02,\n",
       "       -1.07894113e-02,  3.84608488e-03, -1.12532943e-02, -2.14968850e-02,\n",
       "        3.69187162e-02, -1.84138583e-02,  1.03395067e-02,  6.22827949e-02,\n",
       "       -6.80891273e-02,  3.10185304e-02,  4.39404543e-03, -1.49054876e-02,\n",
       "        6.79234843e-02, -3.71972173e-02, -2.00942480e-02, -3.45223688e-02,\n",
       "        2.58654342e-02, -7.10230807e-02,  1.81627422e-02,  3.24585927e-02,\n",
       "       -4.89373916e-02,  1.86647919e-02,  9.31698698e-03, -3.67493339e-02,\n",
       "       -9.29528567e-03, -3.14500836e-02,  3.11945994e-02,  5.74824207e-02,\n",
       "       -1.74385860e-02,  1.90888979e-02,  3.50206469e-02,  3.03585697e-02,\n",
       "       -3.78636554e-02, -6.58687436e-02, -1.52041614e-02, -2.92354238e-02,\n",
       "       -5.79728781e-02,  3.74732984e-03, -1.79946433e-02, -5.13801105e-02,\n",
       "        1.11076655e-02, -2.40913530e-02, -1.75469634e-02,  9.24852903e-03,\n",
       "        1.16388096e-02,  1.43158742e-02, -1.95486566e-02,  2.00813428e-02,\n",
       "        7.84543441e-04, -1.58930063e-02,  9.99783418e-04, -2.20956453e-02,\n",
       "        2.88887798e-02, -5.16684888e-03, -9.93510730e-03, -4.70238369e-02,\n",
       "        4.09589065e-02,  2.20223314e-02,  3.23487995e-02,  4.58577317e-02,\n",
       "        4.07909888e-02, -3.82989835e-02,  2.47972293e-02, -3.16496467e-02,\n",
       "       -3.14032275e-02, -3.99782950e-02, -7.82410980e-04, -4.62737433e-02,\n",
       "       -5.19103273e-02,  5.34278076e-02,  4.11987711e-02, -1.53930081e-02,\n",
       "        5.33641951e-02,  3.05032979e-02, -2.99676085e-02,  7.53847594e-02,\n",
       "        4.01192782e-02,  6.26042666e-03,  3.85325026e-02, -4.27092536e-02,\n",
       "        3.98058567e-02, -5.68524293e-02, -4.42103068e-04, -2.72338424e-02,\n",
       "       -3.58066285e-02, -7.57487038e-02, -1.23336310e-02,  5.41358191e-02,\n",
       "        6.27907468e-02, -4.33172590e-02,  1.68113396e-02, -2.57115871e-02,\n",
       "        1.88757181e-02,  6.99930569e-02,  3.23376274e-02,  8.69268447e-03,\n",
       "        5.74567926e-03,  5.75270459e-03, -1.14310674e-02, -5.89384208e-02,\n",
       "       -1.21081679e-02,  7.49180708e-02,  2.37812962e-02,  7.75375143e-02,\n",
       "        4.45297998e-02,  8.28380154e-02,  1.88222609e-02, -1.14156595e-03,\n",
       "       -3.75516631e-02,  5.59155672e-02,  1.96384940e-02, -6.30866421e-02,\n",
       "       -3.96789384e-02, -3.97932812e-02, -7.80352211e-02,  1.73004738e-02,\n",
       "       -1.49568907e-02, -7.21866554e-02,  6.48017334e-02,  1.37475982e-02,\n",
       "       -3.07391137e-02,  2.24969987e-02, -6.54003690e-02,  2.44987330e-02,\n",
       "        1.03213223e-02, -2.13394116e-02, -4.39761102e-02, -5.93673371e-02,\n",
       "        4.97887280e-02,  6.37015249e-03,  3.20512771e-03,  6.13057420e-03,\n",
       "       -1.14152039e-02,  8.12021401e-02, -6.42044014e-02,  5.25464618e-02,\n",
       "       -2.18100708e-02,  1.51175504e-02,  4.57908480e-02,  3.45454487e-02,\n",
       "        2.52359813e-02,  2.64890013e-02,  8.17338141e-03, -1.81714789e-03,\n",
       "        3.90233136e-02, -5.61699285e-02, -4.30176022e-02,  4.32987970e-02,\n",
       "       -6.70008097e-02, -4.14373832e-02, -4.74126044e-02, -2.61132845e-02,\n",
       "        6.05000796e-03,  1.90042813e-02,  3.28227836e-02,  4.65347878e-02,\n",
       "        2.24551203e-02,  1.71333973e-02,  6.20320186e-02, -1.21349122e-02,\n",
       "        1.49608363e-02,  4.05246132e-02, -5.53462611e-03, -2.88827382e-02,\n",
       "        7.20745703e-02,  3.17482075e-02,  2.69723498e-02,  4.76481517e-02,\n",
       "        1.49017573e-02, -7.83263417e-03, -1.97031346e-02,  2.83678697e-03,\n",
       "        2.01754423e-02, -7.09320959e-02, -8.73958543e-03, -2.99534665e-02,\n",
       "       -1.19658613e-02, -2.22859674e-02, -1.19969331e-02, -1.48788754e-02,\n",
       "       -4.82122695e-02, -1.65991104e-02, -1.13617129e-04,  6.22579515e-03,\n",
       "        3.80724601e-02, -6.72993857e-02,  1.17612298e-03, -4.43338292e-02,\n",
       "        2.71943066e-02,  4.81374706e-02,  7.68664964e-03,  2.22978010e-02,\n",
       "       -3.77794785e-02, -2.43381937e-02,  1.13557114e-02, -2.07117760e-02,\n",
       "       -9.00683634e-02, -5.20123749e-03, -7.06717944e-04,  5.28511389e-02,\n",
       "        4.80853620e-02,  1.86040947e-02,  6.35912592e-02, -9.80012622e-03,\n",
       "        6.12351123e-02,  4.24090364e-02, -7.71057577e-02,  2.01950461e-02,\n",
       "       -1.07330800e-02, -7.37981853e-04,  3.57202950e-02,  4.48205442e-02,\n",
       "       -2.91907771e-02, -4.15396881e-02, -7.78626024e-02, -3.96584568e-02,\n",
       "        2.80716993e-02,  1.47901516e-02,  1.37079776e-03, -3.22911684e-03,\n",
       "        1.27439614e-02, -4.82771464e-03,  1.68522624e-02, -5.29909674e-02,\n",
       "       -4.69007704e-02, -1.61045161e-02,  9.61833915e-03, -1.37400846e-02,\n",
       "       -2.84534410e-02, -1.59257043e-02, -2.91844187e-02,  5.47866853e-02,\n",
       "        3.34748704e-02,  8.32722947e-02,  3.29469498e-02, -1.98794812e-02,\n",
       "       -2.30626044e-02,  1.90443948e-02,  6.02519483e-02,  8.15389987e-02,\n",
       "       -3.27792631e-02,  4.05781290e-02,  8.20090596e-03, -2.71080402e-02,\n",
       "        3.78385848e-02,  2.30329311e-03, -6.73941380e-03, -9.95844585e-03,\n",
       "        4.05390346e-02,  5.52860621e-02,  9.59463028e-03, -7.06498215e-03,\n",
       "        1.12038434e-02,  6.40139832e-03, -1.00623670e-02, -3.80702045e-02,\n",
       "        3.02942016e-03, -9.18580614e-03,  3.59931093e-02,  4.00696382e-02,\n",
       "        6.60981812e-03,  3.03524764e-02, -5.82887851e-02,  8.91961619e-03,\n",
       "        4.66682309e-02, -2.86541237e-02, -3.77814979e-02,  3.80984639e-02,\n",
       "       -2.72958404e-02, -1.07396075e-02,  3.17024319e-02, -3.65401954e-02,\n",
       "       -3.40694202e-02,  3.73014682e-02,  3.88485682e-02,  5.01989141e-02,\n",
       "       -2.05785073e-02,  1.67698861e-02,  3.93357073e-02,  4.14344693e-02,\n",
       "       -3.78115556e-03,  2.96811324e-02, -2.63687435e-02, -6.27453307e-02,\n",
       "        2.44146607e-03, -3.84785525e-02, -1.02842991e-02, -1.12866404e-02,\n",
       "       -5.71156916e-02, -1.19945241e-02, -3.73662929e-02, -1.83959798e-02,\n",
       "        1.93847926e-02,  1.02195412e-02, -3.60782392e-02, -1.25784526e-03,\n",
       "        3.15374129e-03,  4.90728973e-02, -6.35995433e-02,  4.35533485e-02,\n",
       "        3.07557480e-02, -2.40308090e-02, -6.23098172e-02, -1.11407653e-02,\n",
       "       -6.71005149e-03, -7.12519290e-02,  3.96909985e-02, -2.68073989e-02,\n",
       "        8.39532548e-03, -1.90065912e-03, -5.04340642e-02, -9.57808489e-02,\n",
       "        7.12724983e-02,  2.40583872e-02, -1.83000801e-02,  1.57798110e-02,\n",
       "       -1.17073377e-02,  4.81954395e-02,  1.09669513e-02,  1.13066896e-02,\n",
       "        2.25779287e-02,  3.88969617e-02, -1.43625453e-02, -5.45181974e-02,\n",
       "        9.28198225e-03, -1.10276638e-02,  7.46157199e-03,  5.41108833e-02,\n",
       "       -4.97397508e-02,  7.33223814e-02, -1.57777732e-02, -3.21360787e-02,\n",
       "        1.39441344e-03,  5.18270900e-02,  1.17537916e-02, -1.33217003e-03,\n",
       "        4.96962794e-02,  6.80842576e-02,  5.58057861e-02,  4.49160708e-03,\n",
       "        8.97678283e-02, -3.80885933e-02,  4.23243712e-02,  3.50517805e-02,\n",
       "        6.08090518e-03,  5.44220135e-02,  5.48780802e-02, -6.62844365e-02,\n",
       "        3.98906275e-02,  3.94637573e-02,  2.37838339e-02,  5.64591291e-02,\n",
       "        4.25394787e-02, -2.50960786e-02, -2.51411256e-02,  1.68306089e-02,\n",
       "       -5.12457681e-02,  7.78612101e-03,  1.64722046e-02, -2.32600911e-02,\n",
       "       -1.68359065e-02,  2.09109473e-03, -5.93739011e-04, -3.17112977e-02,\n",
       "       -1.79568562e-02,  4.24615116e-02,  2.14294539e-02, -3.31235453e-02,\n",
       "        7.24866792e-02,  4.57109860e-03,  3.42175697e-02, -5.25486242e-02,\n",
       "        4.62433145e-03, -1.39324862e-02,  1.61582342e-02, -2.03925129e-02,\n",
       "       -5.24730343e-02,  1.07029119e-02, -3.83497795e-02, -2.37876920e-02,\n",
       "        1.10167655e-02,  4.24178696e-02, -2.13871046e-02, -2.89242030e-02,\n",
       "        6.97289021e-03,  8.70755111e-03,  3.32882309e-02,  2.90001805e-02,\n",
       "       -3.09193669e-02, -9.82244932e-04,  6.15145883e-03, -2.62515277e-02,\n",
       "        2.09069785e-02,  9.48887068e-03,  1.03426042e-02,  4.02743966e-02,\n",
       "        3.41112334e-02,  8.53392825e-03,  4.59335555e-02, -6.24015316e-02,\n",
       "        3.54510751e-02, -5.12467689e-02, -6.23052048e-02, -5.51153853e-02,\n",
       "        1.98318042e-02,  1.28520954e-02, -1.67177361e-02,  4.73918254e-02,\n",
       "        4.28389477e-02,  5.81742189e-02, -3.33525311e-03,  6.17474478e-02,\n",
       "       -1.77390988e-02,  3.47431986e-02, -3.53737582e-02,  1.27708585e-02,\n",
       "       -4.07179691e-02, -5.54402924e-03, -3.37644769e-03, -8.29412420e-02,\n",
       "       -4.84611216e-03,  5.36085103e-02, -2.25827905e-02, -5.26039829e-03,\n",
       "        7.51515650e-02,  4.83370624e-02, -4.49198266e-03, -1.09784555e-03,\n",
       "        1.89754982e-02,  1.56766644e-02,  7.96657659e-03,  6.81087206e-02,\n",
       "        5.57170909e-02, -4.42628032e-02,  2.00170409e-02, -3.86637780e-02,\n",
       "       -3.09570176e-02, -1.07896890e-02, -3.51143423e-02, -2.50114809e-02,\n",
       "       -7.08333984e-02, -2.77530926e-02, -5.22343715e-02,  6.23934563e-03,\n",
       "        4.50773878e-02,  5.58250882e-02, -5.24783296e-02, -3.50841789e-02,\n",
       "       -1.85460816e-03,  2.50340384e-02, -3.37184555e-02, -2.10892774e-02,\n",
       "        2.29244278e-02,  1.11557815e-02, -2.33371368e-02,  1.41495737e-02,\n",
       "        2.12098871e-02,  2.90173755e-02, -2.97299085e-02, -2.53646254e-02,\n",
       "       -1.07576009e-02,  2.15661167e-02,  3.46942673e-02,  4.42877630e-02,\n",
       "       -3.17296654e-02, -1.79917217e-02, -2.71993932e-02, -1.29624129e-02,\n",
       "        7.73149417e-03,  4.15432290e-02, -3.75259159e-02,  3.52418722e-02,\n",
       "        6.89533063e-02,  1.22961361e-02,  5.74643270e-02, -2.66506897e-02,\n",
       "        2.10918931e-02, -2.21736174e-02,  2.18953514e-02,  4.55783373e-03,\n",
       "        2.91033083e-02, -7.25573346e-03, -2.91072501e-02,  2.57975050e-02,\n",
       "        3.60468103e-02, -4.03855426e-02, -7.84803162e-02,  2.55363497e-02,\n",
       "       -9.51126846e-02, -1.71344046e-02,  6.85961786e-02,  9.97242093e-03,\n",
       "       -2.23066266e-02,  1.04137350e-03,  2.47592377e-02,  2.05345121e-02,\n",
       "       -2.39021631e-02,  5.22482728e-02,  4.51799053e-02, -1.55986968e-02,\n",
       "       -3.05452517e-03, -4.00201198e-02,  1.65238239e-02,  3.60703571e-02,\n",
       "       -2.52384490e-02, -4.25907788e-02,  1.73820322e-02,  2.93053815e-02,\n",
       "        5.51565183e-02,  8.27111473e-02,  1.52821907e-03,  2.90133963e-02,\n",
       "        1.15806647e-02,  3.34642213e-03,  2.80801364e-02, -6.49093960e-03,\n",
       "       -3.94649836e-02,  1.53364942e-02, -3.19629569e-03, -3.74042183e-02])"
      ]
     },
     "execution_count": 39,
     "metadata": {},
     "output_type": "execute_result"
    }
   ],
   "source": [
    "wittenvec.T"
   ]
  },
  {
   "cell_type": "code",
   "execution_count": 40,
   "id": "2c4f0991",
   "metadata": {
    "ExecuteTime": {
     "end_time": "2025-06-16T13:19:48.519487Z",
     "start_time": "2025-06-16T13:19:48.455645Z"
    }
   },
   "outputs": [],
   "source": [
    "new_wittenvec = pca.transform([wittenvec])"
   ]
  },
  {
   "cell_type": "code",
   "execution_count": 41,
   "id": "2653a9f6",
   "metadata": {
    "ExecuteTime": {
     "end_time": "2025-06-16T13:19:48.811640Z",
     "start_time": "2025-06-16T13:19:48.522685Z"
    }
   },
   "outputs": [
    {
     "data": {
      "application/vnd.jupyter.widget-view+json": {
       "model_id": "4e2832f157e84ac89561c4235f465a1e",
       "version_major": 2,
       "version_minor": 0
      },
      "text/plain": [
       "  0%|          | 0/573 [00:00<?, ?it/s]"
      ]
     },
     "metadata": {},
     "output_type": "display_data"
    }
   ],
   "source": [
    "pca_cos_sims=np.zeros(len(vecfiles))\n",
    "for i, vecfile in enumerate(tqdm(vecfiles)):\n",
    "    cos_sim=float(util.cos_sim(new_wittenvec, new_vecs[i]))\n",
    "    #print(f'{vecfile:})\\tcos={cos_sim:.3f}')\n",
    "    pca_cos_sims[i]=cos_sim"
   ]
  },
  {
   "cell_type": "code",
   "execution_count": 42,
   "id": "8fa25aca",
   "metadata": {
    "ExecuteTime": {
     "end_time": "2025-06-16T13:19:49.136925Z",
     "start_time": "2025-06-16T13:19:48.815424Z"
    }
   },
   "outputs": [
    {
     "data": {
      "image/png": "[encoded data removed]",
      "text/plain": [
       "<Figure size 640x480 with 1 Axes>"
      ]
     },
     "metadata": {},
     "output_type": "display_data"
    }
   ],
   "source": [
    "plt.hist(pca_cos_sims, edgecolor='black')\n",
    "plt.suptitle('Witten vs. sustainability reports\\nafter PCA reduction', fontsize=20, y=1.05)\n",
    "plt.xlabel('Cosine similarity', fontsize=16)\n",
    "plt.show()"
   ]
  },
  {
   "cell_type": "markdown",
   "id": "5dfa18eb",
   "metadata": {},
   "source": [
    "# Post-processing"
   ]
  },
  {
   "cell_type": "code",
   "execution_count": 29,
   "id": "c2bf9b19",
   "metadata": {
    "ExecuteTime": {
     "end_time": "2025-06-17T08:55:17.220789Z",
     "start_time": "2025-06-17T08:55:17.214554Z"
    }
   },
   "outputs": [],
   "source": [
    "allvecs=np.zeros((len(vecfiles), len(wittenvec)))"
   ]
  },
  {
   "cell_type": "code",
   "execution_count": 30,
   "id": "67fcc758",
   "metadata": {
    "ExecuteTime": {
     "end_time": "2025-06-17T08:55:19.773092Z",
     "start_time": "2025-06-17T08:55:17.370370Z"
    }
   },
   "outputs": [
    {
     "data": {
      "application/vnd.jupyter.widget-view+json": {
       "model_id": "14bf82cf70344285a667b5909627b8f3",
       "version_major": 2,
       "version_minor": 0
      },
      "text/plain": [
       "  0%|          | 0/573 [00:00<?, ?it/s]"
      ]
     },
     "metadata": {},
     "output_type": "display_data"
    }
   ],
   "source": [
    "for i, vecfile in enumerate(tqdm(vecfiles)):\n",
    "    vec=np.genfromtxt(VECTOR_FOLDER+vecfile)\n",
    "    allvecs[i]=vec"
   ]
  },
  {
   "cell_type": "markdown",
   "id": "68e66a98",
   "metadata": {},
   "source": [
    "## All-but-the-top, n_comp=5"
   ]
  },
  {
   "cell_type": "markdown",
   "id": "c75d6951",
   "metadata": {},
   "source": [
    "The sense of the PCA in our context is that there is still a residual bulk of spurious signal carried by the 1st component of the PCA that is uninformative. Therefore, we remove it, once we remove the effect of the mean vector."
   ]
  },
  {
   "cell_type": "code",
   "execution_count": 31,
   "id": "3e273bdb",
   "metadata": {
    "ExecuteTime": {
     "end_time": "2025-06-17T08:55:19.784961Z",
     "start_time": "2025-06-17T08:55:19.777802Z"
    }
   },
   "outputs": [],
   "source": [
    "no_mean_vecs=allvecs-mean_vec"
   ]
  },
  {
   "cell_type": "code",
   "execution_count": 139,
   "id": "d37b211f",
   "metadata": {
    "ExecuteTime": {
     "end_time": "2025-06-18T15:06:38.886660Z",
     "start_time": "2025-06-18T15:06:38.815358Z"
    }
   },
   "outputs": [],
   "source": [
    "k = 5\n",
    "pca = PCA(n_components=k)\n",
    "pca.fit(no_mean_vecs)\n",
    "U = pca.components_          # matrice k × d\n",
    "\n",
    "# Proiezione su subspazio delle prime k PC\n",
    "no_mean_vecs_proj = no_mean_vecs.dot(U.T).dot(U)   # (n, d)\n",
    "\n",
    "# Rimozione delle k componenti\n",
    "no_mean_vecs_debiased = no_mean_vecs - no_mean_vecs_proj"
   ]
  },
  {
   "cell_type": "markdown",
   "id": "3a108989",
   "metadata": {},
   "source": [
    "### Check with Witten"
   ]
  },
  {
   "cell_type": "code",
   "execution_count": 33,
   "id": "1695818e",
   "metadata": {
    "ExecuteTime": {
     "end_time": "2025-06-17T08:55:19.968692Z",
     "start_time": "2025-06-17T08:55:19.918309Z"
    }
   },
   "outputs": [],
   "source": [
    "new_wittenvec = wittenvec - mean_vec\n",
    "new_wittenvec-=new_wittenvec.dot(U.T).dot(U)"
   ]
  },
  {
   "cell_type": "code",
   "execution_count": 34,
   "id": "c2bd9f14",
   "metadata": {
    "ExecuteTime": {
     "end_time": "2025-06-17T08:55:20.285133Z",
     "start_time": "2025-06-17T08:55:19.971846Z"
    }
   },
   "outputs": [
    {
     "data": {
      "application/vnd.jupyter.widget-view+json": {
       "model_id": "",
       "version_major": 2,
       "version_minor": 0
      },
      "text/plain": [
       "  0%|          | 0/573 [00:00<?, ?it/s]"
      ]
     },
     "metadata": {},
     "output_type": "display_data"
    }
   ],
   "source": [
    "pca_cos_sims_w=np.zeros(len(vecfiles))\n",
    "for i, vecfile in enumerate(tqdm(vecfiles)):\n",
    "    cos_sim=float(util.cos_sim(new_wittenvec, no_mean_vecs_debiased[i]))\n",
    "    #print(f'{vecfile:})\\tcos={cos_sim:.3f}')\n",
    "    pca_cos_sims_w[i]=cos_sim"
   ]
  },
  {
   "cell_type": "code",
   "execution_count": 35,
   "id": "3d44f483",
   "metadata": {
    "ExecuteTime": {
     "end_time": "2025-06-17T08:55:20.950843Z",
     "start_time": "2025-06-17T08:55:20.288277Z"
    }
   },
   "outputs": [
    {
     "data": {
      "image/png": "[encoded data removed]",
      "text/plain": [
       "<Figure size 1500x500 with 2 Axes>"
      ]
     },
     "metadata": {},
     "output_type": "display_data"
    }
   ],
   "source": [
    "fig, axs=plt.subplots(1,2,sharex=True, sharey=True, figsize=(15, 5))\n",
    "\n",
    "axs[0].hist(cos_sims, edgecolor='black')\n",
    "axs[0].set_title('Witten vs. sustainability reports', fontsize=20)\n",
    "axs[0].set_xlabel('Cosine similarity', fontsize=16)\n",
    "\n",
    "\n",
    "axs[1].hist(pca_cos_sims_w, edgecolor='black')\n",
    "axs[1].set_title('Witten vs. sustainability reports\\nafter PCA cleaning + centering', fontsize=20, y=1.05)\n",
    "axs[1].set_xlabel('Cosine similarity', fontsize=16)\n",
    "plt.show()"
   ]
  },
  {
   "cell_type": "code",
   "execution_count": 36,
   "id": "c36b304e",
   "metadata": {
    "ExecuteTime": {
     "end_time": "2025-06-17T08:55:20.961725Z",
     "start_time": "2025-06-17T08:55:20.954861Z"
    }
   },
   "outputs": [
    {
     "data": {
      "text/plain": [
       "(0.005177349204742545, 0.04661277849958448)"
      ]
     },
     "execution_count": 36,
     "metadata": {},
     "output_type": "execute_result"
    }
   ],
   "source": [
    "np.mean(cos_sims), np.std(cos_sims)"
   ]
  },
  {
   "cell_type": "code",
   "execution_count": 37,
   "id": "0a93a113",
   "metadata": {
    "ExecuteTime": {
     "end_time": "2025-06-17T08:55:21.029057Z",
     "start_time": "2025-06-17T08:55:20.964519Z"
    }
   },
   "outputs": [
    {
     "data": {
      "text/plain": [
       "(-0.004647873713889934, 0.07455877477613415)"
      ]
     },
     "execution_count": 37,
     "metadata": {},
     "output_type": "execute_result"
    }
   ],
   "source": [
    "np.mean(pca_cos_sims_w), np.std(pca_cos_sims_w)"
   ]
  },
  {
   "cell_type": "markdown",
   "id": "f1f637cf",
   "metadata": {},
   "source": [
    "## All-but-the-top, n_comp=1"
   ]
  },
  {
   "cell_type": "markdown",
   "id": "32bd72d4",
   "metadata": {},
   "source": [
    "The sense of the PCA in our context is that there is still a residual bulk of spurious signal carried by the 1st component of the PCA that is uninformative. Therefore, we remove it, once we remove the effect of the mean vector."
   ]
  },
  {
   "cell_type": "code",
   "execution_count": 130,
   "id": "9b93fc0b",
   "metadata": {
    "ExecuteTime": {
     "end_time": "2025-06-18T15:02:17.371189Z",
     "start_time": "2025-06-18T15:02:17.319160Z"
    }
   },
   "outputs": [],
   "source": [
    "k = 1\n",
    "pca = PCA(n_components=k)\n",
    "pca.fit(no_mean_vecs)\n",
    "U = pca.components_          # matrice k × d\n",
    "\n",
    "# Proiezione su subspazio delle prime k PC\n",
    "no_mean_vecs_proj_1 = no_mean_vecs.dot(U.T).dot(U)   # (n, d)\n",
    "\n",
    "# Rimozione delle k componenti\n",
    "no_mean_vecs_debiased_1 = no_mean_vecs - no_mean_vecs_proj_1"
   ]
  },
  {
   "cell_type": "markdown",
   "id": "4820d201",
   "metadata": {},
   "source": [
    "### Check with Witten"
   ]
  },
  {
   "cell_type": "code",
   "execution_count": 131,
   "id": "8f5373dd",
   "metadata": {
    "ExecuteTime": {
     "end_time": "2025-06-18T15:02:37.585193Z",
     "start_time": "2025-06-18T15:02:37.578838Z"
    }
   },
   "outputs": [],
   "source": [
    "new_wittenvec_1 = wittenvec - mean_vec\n",
    "new_wittenvec_1-=new_wittenvec_1.dot(U.T).dot(U)"
   ]
  },
  {
   "cell_type": "code",
   "execution_count": 132,
   "id": "3d0dc2e2",
   "metadata": {
    "ExecuteTime": {
     "end_time": "2025-06-18T15:03:07.469576Z",
     "start_time": "2025-06-18T15:03:07.254029Z"
    }
   },
   "outputs": [
    {
     "data": {
      "application/vnd.jupyter.widget-view+json": {
       "model_id": "0a1e0de5d371456bb7c45878bab1c703",
       "version_major": 2,
       "version_minor": 0
      },
      "text/plain": [
       "  0%|          | 0/573 [00:00<?, ?it/s]"
      ]
     },
     "metadata": {},
     "output_type": "display_data"
    }
   ],
   "source": [
    "pca_cos_sims_w_1=np.zeros(len(vecfiles))\n",
    "for i, vecfile in enumerate(tqdm(vecfiles)):\n",
    "    cos_sim=float(util.cos_sim(new_wittenvec_1, no_mean_vecs_debiased_1[i]))\n",
    "    pca_cos_sims_w_1[i]=cos_sim"
   ]
  },
  {
   "cell_type": "code",
   "execution_count": 138,
   "id": "bd2225ba",
   "metadata": {
    "ExecuteTime": {
     "end_time": "2025-06-18T15:04:55.185829Z",
     "start_time": "2025-06-18T15:04:54.354826Z"
    }
   },
   "outputs": [
    {
     "data": {
      "image/png": "[encoded data removed]",
      "text/plain": [
       "<Figure size 1500x500 with 3 Axes>"
      ]
     },
     "metadata": {},
     "output_type": "display_data"
    }
   ],
   "source": [
    "fig, axs=plt.subplots(1,3,sharex=True, sharey=True, figsize=(15, 5))\n",
    "\n",
    "axs[0].hist(cos_sims, edgecolor='black')\n",
    "axs[0].set_title('Witten vs. sustainability reports', fontsize=18)\n",
    "axs[0].set_xlabel('Cosine similarity', fontsize=16)\n",
    "\n",
    "\n",
    "axs[1].hist(pca_cos_sims_w, edgecolor='black')\n",
    "axs[1].set_title('Witten vs. sustainability reports\\nABTT_5', fontsize=18, y=1.05)\n",
    "axs[1].set_xlabel('Cosine similarity', fontsize=16)\n",
    "\n",
    "axs[2].hist(pca_cos_sims_w_1, edgecolor='black')\n",
    "axs[2].set_title('Witten vs. sustainability reports\\nABTT_1', fontsize=18, y=1.05)\n",
    "axs[2].set_xlabel('Cosine similarity', fontsize=16)\n",
    "\n",
    "plt.show()"
   ]
  },
  {
   "cell_type": "code",
   "execution_count": 134,
   "id": "4a69dedc",
   "metadata": {
    "ExecuteTime": {
     "end_time": "2025-06-18T15:03:36.071202Z",
     "start_time": "2025-06-18T15:03:36.060507Z"
    }
   },
   "outputs": [
    {
     "data": {
      "text/plain": [
       "(0.005177349204742545, 0.04661277849958448)"
      ]
     },
     "execution_count": 134,
     "metadata": {},
     "output_type": "execute_result"
    }
   ],
   "source": [
    "np.mean(cos_sims), np.std(cos_sims)"
   ]
  },
  {
   "cell_type": "code",
   "execution_count": 135,
   "id": "5fd8b368",
   "metadata": {
    "ExecuteTime": {
     "end_time": "2025-06-18T15:03:37.064942Z",
     "start_time": "2025-06-18T15:03:37.055208Z"
    }
   },
   "outputs": [
    {
     "data": {
      "text/plain": [
       "(-0.004647873713889934, 0.07455877477613415)"
      ]
     },
     "execution_count": 135,
     "metadata": {},
     "output_type": "execute_result"
    }
   ],
   "source": [
    "np.mean(pca_cos_sims_w), np.std(pca_cos_sims_w)"
   ]
  },
  {
   "cell_type": "code",
   "execution_count": 136,
   "id": "2bba40e9",
   "metadata": {
    "ExecuteTime": {
     "end_time": "2025-06-18T15:03:47.154627Z",
     "start_time": "2025-06-18T15:03:47.134062Z"
    }
   },
   "outputs": [
    {
     "data": {
      "text/plain": [
       "(-0.005353071860960581, 0.0788278205827092)"
      ]
     },
     "execution_count": 136,
     "metadata": {},
     "output_type": "execute_result"
    }
   ],
   "source": [
    "np.mean(pca_cos_sims_w_1), np.std(pca_cos_sims_w_1)"
   ]
  },
  {
   "cell_type": "markdown",
   "id": "eb4e839d",
   "metadata": {},
   "source": [
    "## RobustScaler"
   ]
  },
  {
   "cell_type": "markdown",
   "id": "a24043ff",
   "metadata": {},
   "source": [
    "It should rescale more efficiently, proper considering outliers."
   ]
  },
  {
   "cell_type": "code",
   "execution_count": 38,
   "id": "dc1fd8eb",
   "metadata": {
    "ExecuteTime": {
     "end_time": "2025-06-17T08:55:21.702001Z",
     "start_time": "2025-06-17T08:55:21.381336Z"
    }
   },
   "outputs": [],
   "source": [
    "rs = RobustScaler()\n",
    "rs.fit(allvecs)\n",
    "\n",
    "rs_allvecs=rs.transform(allvecs)"
   ]
  },
  {
   "cell_type": "markdown",
   "id": "91879b04",
   "metadata": {},
   "source": [
    "### Check with Witten"
   ]
  },
  {
   "cell_type": "code",
   "execution_count": 39,
   "id": "e99f1ea1",
   "metadata": {
    "ExecuteTime": {
     "end_time": "2025-06-17T08:55:21.873765Z",
     "start_time": "2025-06-17T08:55:21.868474Z"
    }
   },
   "outputs": [],
   "source": [
    "rs_wittenvec=rs.transform([wittenvec])"
   ]
  },
  {
   "cell_type": "code",
   "execution_count": 40,
   "id": "54bf6f5a",
   "metadata": {
    "ExecuteTime": {
     "end_time": "2025-06-17T08:55:22.395847Z",
     "start_time": "2025-06-17T08:55:22.189513Z"
    }
   },
   "outputs": [
    {
     "data": {
      "application/vnd.jupyter.widget-view+json": {
       "model_id": "43010aa659a244bb82e8e899d6eb038e",
       "version_major": 2,
       "version_minor": 0
      },
      "text/plain": [
       "  0%|          | 0/573 [00:00<?, ?it/s]"
      ]
     },
     "metadata": {},
     "output_type": "display_data"
    }
   ],
   "source": [
    "rs_cos_sims_w=np.zeros(len(vecfiles))\n",
    "for i, vecfile in enumerate(tqdm(vecfiles)):\n",
    "    cos_sim=float(util.cos_sim(rs_wittenvec, rs_allvecs[i]))\n",
    "    #print(f'{vecfile:})\\tcos={cos_sim:.3f}')\n",
    "    rs_cos_sims_w[i]=cos_sim"
   ]
  },
  {
   "cell_type": "code",
   "execution_count": 129,
   "id": "d960fafa",
   "metadata": {
    "ExecuteTime": {
     "end_time": "2025-06-17T10:03:49.321258Z",
     "start_time": "2025-06-17T10:03:46.336071Z"
    }
   },
   "outputs": [
    {
     "data": {
      "image/png": "[encoded data removed]",
      "text/plain": [
       "<Figure size 1500x1500 with 4 Axes>"
      ]
     },
     "metadata": {},
     "output_type": "display_data"
    }
   ],
   "source": [
    "fig, axs=plt.subplots(2,2,sharex=True, sharey=True, figsize=(15, 15))\n",
    "\n",
    "axs[0, 0].hist(pure_cos_sims, edgecolor='black')\n",
    "axs[0, 0].set_title('Witten vs. sustainability report', fontsize=20)\n",
    "#axs[0, 0].set_xlabel('Cosine similarity', fontsize=16)\n",
    "\n",
    "axs[0,1].hist(cos_sims, edgecolor='black')\n",
    "axs[0,1].set_title('Witten vs. sustainability reports\\nw/ centering', fontsize=20)\n",
    "#axs[0,1].set_xlabel('Cosine similarity', fontsize=16)\n",
    "\n",
    "axs[1,0].hist(pca_cos_sims_w, edgecolor='black')\n",
    "axs[1,0].set_title('Witten vs. sustainability reports\\nw/ABTT(n_comp=5)', fontsize=20)\n",
    "axs[1,0].set_xlabel('Cosine similarity', fontsize=16)\n",
    "\n",
    "axs[1,1].hist(rs_cos_sims_w, edgecolor='black')\n",
    "axs[1,1].set_title('Witten vs. sustainability reports\\nw/ RobustScaler', fontsize=20)\n",
    "axs[1,1].set_xlabel('Cosine similarity', fontsize=16)\n",
    "plt.savefig('./NewPlots/postprocessing.pdf', bbox_inches='tight')\n",
    "plt.show()"
   ]
  },
  {
   "cell_type": "code",
   "execution_count": 42,
   "id": "ffb171c4",
   "metadata": {
    "ExecuteTime": {
     "end_time": "2025-06-17T08:55:23.719749Z",
     "start_time": "2025-06-17T08:55:23.711207Z"
    }
   },
   "outputs": [
    {
     "data": {
      "text/plain": [
       "(0.005177349204742545, 0.04661277849958448)"
      ]
     },
     "execution_count": 42,
     "metadata": {},
     "output_type": "execute_result"
    }
   ],
   "source": [
    "np.mean(cos_sims), np.std(cos_sims)"
   ]
  },
  {
   "cell_type": "code",
   "execution_count": 43,
   "id": "4d3e0235",
   "metadata": {
    "ExecuteTime": {
     "end_time": "2025-06-17T08:55:23.796173Z",
     "start_time": "2025-06-17T08:55:23.722688Z"
    }
   },
   "outputs": [
    {
     "data": {
      "text/plain": [
       "(-0.004647873713889934, 0.07455877477613415)"
      ]
     },
     "execution_count": 43,
     "metadata": {},
     "output_type": "execute_result"
    }
   ],
   "source": [
    "np.mean(pca_cos_sims_w), np.std(pca_cos_sims_w)"
   ]
  },
  {
   "cell_type": "code",
   "execution_count": 44,
   "id": "76d9ba88",
   "metadata": {
    "ExecuteTime": {
     "end_time": "2025-06-17T08:55:23.887975Z",
     "start_time": "2025-06-17T08:55:23.800049Z"
    }
   },
   "outputs": [
    {
     "data": {
      "text/plain": [
       "(0.0007621024673115121, 0.07322976536378889)"
      ]
     },
     "execution_count": 44,
     "metadata": {},
     "output_type": "execute_result"
    }
   ],
   "source": [
    "np.mean(rs_cos_sims_w), np.std(rs_cos_sims_w)"
   ]
  },
  {
   "cell_type": "markdown",
   "id": "40186620",
   "metadata": {},
   "source": [
    "Are they so different?"
   ]
  },
  {
   "cell_type": "code",
   "execution_count": 45,
   "id": "9213c414",
   "metadata": {
    "ExecuteTime": {
     "end_time": "2025-06-17T08:55:24.373561Z",
     "start_time": "2025-06-17T08:55:24.368089Z"
    }
   },
   "outputs": [],
   "source": [
    "from scipy.stats import kstest"
   ]
  },
  {
   "cell_type": "code",
   "execution_count": 46,
   "id": "94de028c",
   "metadata": {
    "ExecuteTime": {
     "end_time": "2025-06-17T08:55:24.818463Z",
     "start_time": "2025-06-17T08:55:24.808126Z"
    }
   },
   "outputs": [
    {
     "data": {
      "text/plain": [
       "KstestResult(statistic=0.07329842931937172, pvalue=0.09203818484298212, statistic_location=0.013452324571173993, statistic_sign=1)"
      ]
     },
     "execution_count": 46,
     "metadata": {},
     "output_type": "execute_result"
    }
   ],
   "source": [
    "kstest(pca_cos_sims_w, rs_cos_sims_w)"
   ]
  },
  {
   "cell_type": "markdown",
   "id": "3cbf3e1c",
   "metadata": {},
   "source": [
    "Well, not enough to be statistically different with $\\alpha=0.1$, but quite close. "
   ]
  },
  {
   "cell_type": "markdown",
   "id": "56dac06e",
   "metadata": {},
   "source": [
    "## Quantile Uniform "
   ]
  },
  {
   "cell_type": "markdown",
   "id": "5aaae777",
   "metadata": {},
   "source": [
    "The best methods according to those guys..."
   ]
  },
  {
   "cell_type": "code",
   "execution_count": 47,
   "id": "21a991d5",
   "metadata": {
    "ExecuteTime": {
     "end_time": "2025-06-17T08:55:28.948013Z",
     "start_time": "2025-06-17T08:55:27.852369Z"
    }
   },
   "outputs": [],
   "source": [
    "qt = QuantileTransformer(n_quantiles=200)\n",
    "qt.fit(allvecs)\n",
    "\n",
    "qt_allvecs=qt.transform(allvecs)"
   ]
  },
  {
   "cell_type": "markdown",
   "id": "d43bd79e",
   "metadata": {},
   "source": [
    "### Check with Witten"
   ]
  },
  {
   "cell_type": "code",
   "execution_count": 48,
   "id": "d6a9366a",
   "metadata": {
    "ExecuteTime": {
     "end_time": "2025-06-17T08:55:29.043402Z",
     "start_time": "2025-06-17T08:55:28.952832Z"
    }
   },
   "outputs": [],
   "source": [
    "qt_wittenvec=qt.transform([wittenvec])"
   ]
  },
  {
   "cell_type": "code",
   "execution_count": 49,
   "id": "5bf111dd",
   "metadata": {
    "ExecuteTime": {
     "end_time": "2025-06-17T08:55:29.354446Z",
     "start_time": "2025-06-17T08:55:29.046920Z"
    }
   },
   "outputs": [
    {
     "data": {
      "application/vnd.jupyter.widget-view+json": {
       "model_id": "",
       "version_major": 2,
       "version_minor": 0
      },
      "text/plain": [
       "  0%|          | 0/573 [00:00<?, ?it/s]"
      ]
     },
     "metadata": {},
     "output_type": "display_data"
    }
   ],
   "source": [
    "qt_cos_sims_w=np.zeros(len(vecfiles))\n",
    "for i, vecfile in enumerate(tqdm(vecfiles)):\n",
    "    cos_sim=float(util.cos_sim(qt_wittenvec, qt_allvecs[i]))\n",
    "    #print(f'{vecfile:})\\tcos={cos_sim:.3f}')\n",
    "    qt_cos_sims_w[i]=cos_sim"
   ]
  },
  {
   "cell_type": "code",
   "execution_count": 50,
   "id": "99de3b39",
   "metadata": {
    "ExecuteTime": {
     "end_time": "2025-06-17T08:55:30.934355Z",
     "start_time": "2025-06-17T08:55:29.538785Z"
    }
   },
   "outputs": [
    {
     "data": {
      "image/png": "[encoded data removed]",
      "text/plain": [
       "<Figure size 3000x500 with 4 Axes>"
      ]
     },
     "metadata": {},
     "output_type": "display_data"
    }
   ],
   "source": [
    "fig, axs=plt.subplots(1,4,sharex=True, sharey=True, figsize=(30, 5))\n",
    "\n",
    "axs[0].hist(cos_sims, edgecolor='black')\n",
    "axs[0].set_title('Witten vs. sustainability reports\\nafter centering', fontsize=20)\n",
    "axs[0].set_xlabel('Cosine similarity', fontsize=16)\n",
    "\n",
    "axs[1].hist(pca_cos_sims_w, edgecolor='black')\n",
    "axs[1].set_title('Witten vs. sustainability reports\\nafter PCA cleaning + centering', fontsize=20, y=1.05)\n",
    "axs[1].set_xlabel('Cosine similarity', fontsize=16)\n",
    "\n",
    "axs[2].hist(rs_cos_sims_w, edgecolor='black')\n",
    "axs[2].set_title('Witten vs. sustainability reports\\nafter Robust Scaler', fontsize=20, y=1.05)\n",
    "axs[2].set_xlabel('Cosine similarity', fontsize=16)\n",
    "\n",
    "axs[3].hist(qt_cos_sims_w, edgecolor='black')\n",
    "axs[3].set_title('Witten vs. sustainability reports\\nafter Quantile Uniform', fontsize=20, y=1.05)\n",
    "axs[3].set_xlabel('Cosine similarity', fontsize=16)\n",
    "\n",
    "plt.show()"
   ]
  },
  {
   "cell_type": "code",
   "execution_count": 51,
   "id": "18f0dafd",
   "metadata": {
    "ExecuteTime": {
     "end_time": "2025-06-17T08:55:30.945740Z",
     "start_time": "2025-06-17T08:55:30.937908Z"
    }
   },
   "outputs": [
    {
     "data": {
      "text/plain": [
       "(0.005177349204742545, 0.04661277849958448)"
      ]
     },
     "execution_count": 51,
     "metadata": {},
     "output_type": "execute_result"
    }
   ],
   "source": [
    "np.mean(cos_sims), np.std(cos_sims)"
   ]
  },
  {
   "cell_type": "code",
   "execution_count": 52,
   "id": "bb2b2108",
   "metadata": {
    "ExecuteTime": {
     "end_time": "2025-06-17T08:55:31.004930Z",
     "start_time": "2025-06-17T08:55:30.948848Z"
    }
   },
   "outputs": [
    {
     "data": {
      "text/plain": [
       "(-0.004647873713889934, 0.07455877477613415)"
      ]
     },
     "execution_count": 52,
     "metadata": {},
     "output_type": "execute_result"
    }
   ],
   "source": [
    "np.mean(pca_cos_sims_w), np.std(pca_cos_sims_w)"
   ]
  },
  {
   "cell_type": "code",
   "execution_count": 53,
   "id": "520f2127",
   "metadata": {
    "ExecuteTime": {
     "end_time": "2025-06-17T08:55:31.096133Z",
     "start_time": "2025-06-17T08:55:31.009384Z"
    }
   },
   "outputs": [
    {
     "data": {
      "text/plain": [
       "(0.0007621024673115121, 0.07322976536378889)"
      ]
     },
     "execution_count": 53,
     "metadata": {},
     "output_type": "execute_result"
    }
   ],
   "source": [
    "np.mean(rs_cos_sims_w), np.std(rs_cos_sims_w)"
   ]
  },
  {
   "cell_type": "code",
   "execution_count": 54,
   "id": "bfd45e36",
   "metadata": {
    "ExecuteTime": {
     "end_time": "2025-06-17T08:55:32.205921Z",
     "start_time": "2025-06-17T08:55:32.196014Z"
    }
   },
   "outputs": [
    {
     "data": {
      "text/plain": [
       "(0.6891202298029715, 0.02288297583097197)"
      ]
     },
     "execution_count": 54,
     "metadata": {},
     "output_type": "execute_result"
    }
   ],
   "source": [
    "np.mean(qt_cos_sims_w), np.std(qt_cos_sims_w)"
   ]
  },
  {
   "cell_type": "markdown",
   "id": "28dc8099",
   "metadata": {},
   "source": [
    "## UMAP\n",
    "Deepseek's suggestion"
   ]
  },
  {
   "cell_type": "code",
   "execution_count": 74,
   "id": "0de4b21c",
   "metadata": {
    "ExecuteTime": {
     "end_time": "2025-06-17T09:05:34.793683Z",
     "start_time": "2025-06-17T09:05:34.778287Z"
    }
   },
   "outputs": [],
   "source": [
    "# Step 1: Normalizzazione L2 nello spazio originale\n",
    "normalizer = Normalizer(norm='l2')\n",
    "normalized_allvecs = normalizer.fit_transform(allvecs)\n",
    "normalized_wittenvec = normalizer.fit_transform([wittenvec])\n",
    "normalized_wittenvec=normalized_wittenvec[0]"
   ]
  },
  {
   "cell_type": "code",
   "execution_count": 75,
   "id": "d3de3542",
   "metadata": {
    "ExecuteTime": {
     "end_time": "2025-06-17T09:05:52.880942Z",
     "start_time": "2025-06-17T09:05:52.872611Z"
    }
   },
   "outputs": [],
   "source": [
    "reducer = umap.UMAP(\n",
    "    n_components=30,          # Mantenere più dimensioni\n",
    "    n_neighbors=5,            # Valorizzare strutture locali\n",
    "    min_dist=0.8,             # Aumentare separazione cluster\n",
    "    metric='cosine',          # Coerente con normalizzazione\n",
    "    output_metric='cosine',   # Mantenere metrica angolare\n",
    "    random_state=42\n",
    ")"
   ]
  },
  {
   "cell_type": "code",
   "execution_count": 76,
   "id": "addfdfd3",
   "metadata": {
    "ExecuteTime": {
     "end_time": "2025-06-17T09:06:11.845933Z",
     "start_time": "2025-06-17T09:06:05.147431Z"
    }
   },
   "outputs": [
    {
     "name": "stderr",
     "output_type": "stream",
     "text": [
      "/home/sarawalk/sdgs_py38/lib/python3.8/site-packages/umap/umap_.py:1952: UserWarning: n_jobs value 1 overridden to 1 by setting random_state. Use no seed for parallelism.\n",
      "  warn(\n"
     ]
    },
    {
     "data": {
      "text/html": [
       "<style>#sk-container-id-2 {color: black;}#sk-container-id-2 pre{padding: 0;}#sk-container-id-2 div.sk-toggleable {background-color: white;}#sk-container-id-2 label.sk-toggleable__label {cursor: pointer;display: block;width: 100%;margin-bottom: 0;padding: 0.3em;box-sizing: border-box;text-align: center;}#sk-container-id-2 label.sk-toggleable__label-arrow:before {content: \"▸\";float: left;margin-right: 0.25em;color: #696969;}#sk-container-id-2 label.sk-toggleable__label-arrow:hover:before {color: black;}#sk-container-id-2 div.sk-estimator:hover label.sk-toggleable__label-arrow:before {color: black;}#sk-container-id-2 div.sk-toggleable__content {max-height: 0;max-width: 0;overflow: hidden;text-align: left;background-color: #f0f8ff;}#sk-container-id-2 div.sk-toggleable__content pre {margin: 0.2em;color: black;border-radius: 0.25em;background-color: #f0f8ff;}#sk-container-id-2 input.sk-toggleable__control:checked~div.sk-toggleable__content {max-height: 200px;max-width: 100%;overflow: auto;}#sk-container-id-2 input.sk-toggleable__control:checked~label.sk-toggleable__label-arrow:before {content: \"▾\";}#sk-container-id-2 div.sk-estimator input.sk-toggleable__control:checked~label.sk-toggleable__label {background-color: #d4ebff;}#sk-container-id-2 div.sk-label input.sk-toggleable__control:checked~label.sk-toggleable__label {background-color: #d4ebff;}#sk-container-id-2 input.sk-hidden--visually {border: 0;clip: rect(1px 1px 1px 1px);clip: rect(1px, 1px, 1px, 1px);height: 1px;margin: -1px;overflow: hidden;padding: 0;position: absolute;width: 1px;}#sk-container-id-2 div.sk-estimator {font-family: monospace;background-color: #f0f8ff;border: 1px dotted black;border-radius: 0.25em;box-sizing: border-box;margin-bottom: 0.5em;}#sk-container-id-2 div.sk-estimator:hover {background-color: #d4ebff;}#sk-container-id-2 div.sk-parallel-item::after {content: \"\";width: 100%;border-bottom: 1px solid gray;flex-grow: 1;}#sk-container-id-2 div.sk-label:hover label.sk-toggleable__label {background-color: #d4ebff;}#sk-container-id-2 div.sk-serial::before {content: \"\";position: absolute;border-left: 1px solid gray;box-sizing: border-box;top: 0;bottom: 0;left: 50%;z-index: 0;}#sk-container-id-2 div.sk-serial {display: flex;flex-direction: column;align-items: center;background-color: white;padding-right: 0.2em;padding-left: 0.2em;position: relative;}#sk-container-id-2 div.sk-item {position: relative;z-index: 1;}#sk-container-id-2 div.sk-parallel {display: flex;align-items: stretch;justify-content: center;background-color: white;position: relative;}#sk-container-id-2 div.sk-item::before, #sk-container-id-2 div.sk-parallel-item::before {content: \"\";position: absolute;border-left: 1px solid gray;box-sizing: border-box;top: 0;bottom: 0;left: 50%;z-index: -1;}#sk-container-id-2 div.sk-parallel-item {display: flex;flex-direction: column;z-index: 1;position: relative;background-color: white;}#sk-container-id-2 div.sk-parallel-item:first-child::after {align-self: flex-end;width: 50%;}#sk-container-id-2 div.sk-parallel-item:last-child::after {align-self: flex-start;width: 50%;}#sk-container-id-2 div.sk-parallel-item:only-child::after {width: 0;}#sk-container-id-2 div.sk-dashed-wrapped {border: 1px dashed gray;margin: 0 0.4em 0.5em 0.4em;box-sizing: border-box;padding-bottom: 0.4em;background-color: white;}#sk-container-id-2 div.sk-label label {font-family: monospace;font-weight: bold;display: inline-block;line-height: 1.2em;}#sk-container-id-2 div.sk-label-container {text-align: center;}#sk-container-id-2 div.sk-container {/* jupyter's `normalize.less` sets `[hidden] { display: none; }` but bootstrap.min.css set `[hidden] { display: none !important; }` so we also need the `!important` here to be able to override the default hidden behavior on the sphinx rendered scikit-learn.org. See: https://github.com/scikit-learn/scikit-learn/issues/21755 */display: inline-block !important;position: relative;}#sk-container-id-2 div.sk-text-repr-fallback {display: none;}</style><div id=\"sk-container-id-2\" class=\"sk-top-container\"><div class=\"sk-text-repr-fallback\"><pre>UMAP(angular_rp_forest=True, metric=&#x27;cosine&#x27;, min_dist=0.8, n_components=30, n_jobs=1, n_neighbors=5, output_metric=&#x27;cosine&#x27;, random_state=42, tqdm_kwds={&#x27;bar_format&#x27;: &#x27;{desc}: {percentage:3.0f}%| {bar} {n_fmt}/{total_fmt} [{elapsed}]&#x27;, &#x27;desc&#x27;: &#x27;Epochs completed&#x27;, &#x27;disable&#x27;: True})</pre><b>In a Jupyter environment, please rerun this cell to show the HTML representation or trust the notebook. <br />On GitHub, the HTML representation is unable to render, please try loading this page with nbviewer.org.</b></div><div class=\"sk-container\" hidden><div class=\"sk-item\"><div class=\"sk-estimator sk-toggleable\"><input class=\"sk-toggleable__control sk-hidden--visually\" id=\"sk-estimator-id-2\" type=\"checkbox\" checked><label for=\"sk-estimator-id-2\" class=\"sk-toggleable__label sk-toggleable__label-arrow\">UMAP</label><div class=\"sk-toggleable__content\"><pre>UMAP(angular_rp_forest=True, metric=&#x27;cosine&#x27;, min_dist=0.8, n_components=30, n_jobs=1, n_neighbors=5, output_metric=&#x27;cosine&#x27;, random_state=42, tqdm_kwds={&#x27;bar_format&#x27;: &#x27;{desc}: {percentage:3.0f}%| {bar} {n_fmt}/{total_fmt} [{elapsed}]&#x27;, &#x27;desc&#x27;: &#x27;Epochs completed&#x27;, &#x27;disable&#x27;: True})</pre></div></div></div></div></div>"
      ],
      "text/plain": [
       "UMAP(angular_rp_forest=True, metric='cosine', min_dist=0.8, n_components=30, n_jobs=1, n_neighbors=5, output_metric='cosine', random_state=42, tqdm_kwds={'bar_format': '{desc}: {percentage:3.0f}%| {bar} {n_fmt}/{total_fmt} [{elapsed}]', 'desc': 'Epochs completed', 'disable': True})"
      ]
     },
     "execution_count": 76,
     "metadata": {},
     "output_type": "execute_result"
    }
   ],
   "source": [
    " reducer.fit(normalized_allvecs)"
   ]
  },
  {
   "cell_type": "code",
   "execution_count": 77,
   "id": "b0489a1f",
   "metadata": {
    "ExecuteTime": {
     "end_time": "2025-06-17T09:06:11.861610Z",
     "start_time": "2025-06-17T09:06:11.850533Z"
    }
   },
   "outputs": [],
   "source": [
    "umap_allvecs=reducer.transform(normalized_allvecs)"
   ]
  },
  {
   "cell_type": "markdown",
   "id": "1ffaf780",
   "metadata": {},
   "source": [
    "### Check with Witten"
   ]
  },
  {
   "cell_type": "code",
   "execution_count": 88,
   "id": "6a096e0b",
   "metadata": {
    "ExecuteTime": {
     "end_time": "2025-06-17T09:07:58.563307Z",
     "start_time": "2025-06-17T09:07:57.287023Z"
    }
   },
   "outputs": [],
   "source": [
    "umap_wittenvec=reducer.transform([normalized_wittenvec])\n",
    "umap_wittenvec=umap_wittenvec[0]"
   ]
  },
  {
   "cell_type": "code",
   "execution_count": 89,
   "id": "a7943d77",
   "metadata": {
    "ExecuteTime": {
     "end_time": "2025-06-17T09:08:00.137915Z",
     "start_time": "2025-06-17T09:07:59.940386Z"
    }
   },
   "outputs": [
    {
     "data": {
      "application/vnd.jupyter.widget-view+json": {
       "model_id": "fd26d0df10b64a259a32f6f2ac8b39ef",
       "version_major": 2,
       "version_minor": 0
      },
      "text/plain": [
       "  0%|          | 0/573 [00:00<?, ?it/s]"
      ]
     },
     "metadata": {},
     "output_type": "display_data"
    }
   ],
   "source": [
    "umap_cos_sims_w=np.zeros(len(vecfiles))\n",
    "for i, vecfile in enumerate(tqdm(vecfiles)):\n",
    "    cos_sim=float(util.cos_sim(umap_wittenvec, umap_allvecs[i]))\n",
    "    #print(f'{vecfile:})\\tcos={cos_sim:.3f}')\n",
    "    umap_cos_sims_w[i]=cos_sim"
   ]
  },
  {
   "cell_type": "code",
   "execution_count": 90,
   "id": "c3433675",
   "metadata": {
    "ExecuteTime": {
     "end_time": "2025-06-17T09:08:01.888243Z",
     "start_time": "2025-06-17T09:08:00.645473Z"
    }
   },
   "outputs": [
    {
     "data": {
      "image/png": "[encoded data removed]",
      "text/plain": [
       "<Figure size 3000x500 with 4 Axes>"
      ]
     },
     "metadata": {},
     "output_type": "display_data"
    }
   ],
   "source": [
    "fig, axs=plt.subplots(1,4,sharex=True, sharey=True, figsize=(30, 5))\n",
    "\n",
    "axs[0].hist(cos_sims, edgecolor='black')\n",
    "axs[0].set_title('Witten vs. sustainability reports\\nafter centering', fontsize=20)\n",
    "axs[0].set_xlabel('Cosine similarity', fontsize=16)\n",
    "\n",
    "axs[1].hist(pca_cos_sims_w, edgecolor='black')\n",
    "axs[1].set_title('Witten vs. sustainability reports\\nafter PCA cleaning + centering', fontsize=20, y=1.05)\n",
    "axs[1].set_xlabel('Cosine similarity', fontsize=16)\n",
    "\n",
    "axs[2].hist(rs_cos_sims_w, edgecolor='black')\n",
    "axs[2].set_title('Witten vs. sustainability reports\\nafter Robust Scaler', fontsize=20, y=1.05)\n",
    "axs[2].set_xlabel('Cosine similarity', fontsize=16)\n",
    "\n",
    "axs[3].hist(umap_cos_sims_w, edgecolor='black')\n",
    "axs[3].set_title('Witten vs. sustainability reports\\nafter UMAP', fontsize=20, y=1.05)\n",
    "axs[3].set_xlabel('Cosine similarity', fontsize=16)\n",
    "\n",
    "plt.show()"
   ]
  },
  {
   "cell_type": "code",
   "execution_count": 91,
   "id": "ce9da0b5",
   "metadata": {
    "ExecuteTime": {
     "end_time": "2025-06-17T09:08:17.531849Z",
     "start_time": "2025-06-17T09:08:17.521157Z"
    }
   },
   "outputs": [
    {
     "data": {
      "text/plain": [
       "(0.005177349204742545, 0.04661277849958448)"
      ]
     },
     "execution_count": 91,
     "metadata": {},
     "output_type": "execute_result"
    }
   ],
   "source": [
    "np.mean(cos_sims), np.std(cos_sims)"
   ]
  },
  {
   "cell_type": "code",
   "execution_count": 92,
   "id": "9d2ec7b4",
   "metadata": {
    "ExecuteTime": {
     "end_time": "2025-06-17T09:08:17.806778Z",
     "start_time": "2025-06-17T09:08:17.796579Z"
    }
   },
   "outputs": [
    {
     "data": {
      "text/plain": [
       "(-0.004647873713889934, 0.07455877477613415)"
      ]
     },
     "execution_count": 92,
     "metadata": {},
     "output_type": "execute_result"
    }
   ],
   "source": [
    "np.mean(pca_cos_sims_w), np.std(pca_cos_sims_w)"
   ]
  },
  {
   "cell_type": "code",
   "execution_count": 93,
   "id": "01424bb5",
   "metadata": {
    "ExecuteTime": {
     "end_time": "2025-06-17T09:08:18.099702Z",
     "start_time": "2025-06-17T09:08:18.091095Z"
    }
   },
   "outputs": [
    {
     "data": {
      "text/plain": [
       "(0.0007621024673115121, 0.07322976536378889)"
      ]
     },
     "execution_count": 93,
     "metadata": {},
     "output_type": "execute_result"
    }
   ],
   "source": [
    "np.mean(rs_cos_sims_w), np.std(rs_cos_sims_w)"
   ]
  },
  {
   "cell_type": "code",
   "execution_count": 94,
   "id": "7a6d3ec5",
   "metadata": {
    "ExecuteTime": {
     "end_time": "2025-06-17T09:08:18.566425Z",
     "start_time": "2025-06-17T09:08:18.556922Z"
    }
   },
   "outputs": [
    {
     "data": {
      "text/plain": [
       "(1.0000000868584265, 6.54170625999626e-08)"
      ]
     },
     "execution_count": 94,
     "metadata": {},
     "output_type": "execute_result"
    }
   ],
   "source": [
    "np.mean(umap_cos_sims_w), np.std(umap_cos_sims_w)"
   ]
  },
  {
   "cell_type": "markdown",
   "id": "35597488",
   "metadata": {},
   "source": [
    "## Check the internal similarity"
   ]
  },
  {
   "cell_type": "code",
   "execution_count": 95,
   "id": "2cfb82f9",
   "metadata": {
    "ExecuteTime": {
     "end_time": "2025-06-17T09:11:47.794422Z",
     "start_time": "2025-06-17T09:08:34.088749Z"
    }
   },
   "outputs": [
    {
     "data": {
      "application/vnd.jupyter.widget-view+json": {
       "model_id": "af21e9d841334aa0a6a5d2dfead6dbf3",
       "version_major": 2,
       "version_minor": 0
      },
      "text/plain": [
       "  0%|          | 0/573 [00:00<?, ?it/s]"
      ]
     },
     "metadata": {},
     "output_type": "display_data"
    }
   ],
   "source": [
    "nmv_cs=[]\n",
    "abtt_cs=[]\n",
    "rs_cs=[]\n",
    "umap_cs=[]\n",
    "for i in trange(len(no_mean_vecs)):\n",
    "    for j in range(i+1, len(no_mean_vecs)):\n",
    "        nmv_cs.append(float(util.cos_sim(no_mean_vecs[i], no_mean_vecs[j])))\n",
    "        abtt_cs.append(float(util.cos_sim(no_mean_vecs_debiased[i], no_mean_vecs_debiased[j])))\n",
    "        rs_cs.append(float(util.cos_sim(rs_allvecs[i], rs_allvecs[j])))\n",
    "        umap_cs.append(float(util.cos_sim(umap_allvecs[i], umap_allvecs[j])))\n",
    "            "
   ]
  },
  {
   "cell_type": "code",
   "execution_count": 96,
   "id": "cf7d6daa",
   "metadata": {
    "ExecuteTime": {
     "end_time": "2025-06-17T09:11:53.695542Z",
     "start_time": "2025-06-17T09:11:47.798715Z"
    }
   },
   "outputs": [
    {
     "data": {
      "image/png": "[encoded data removed]",
      "text/plain": [
       "<Figure size 3000x500 with 4 Axes>"
      ]
     },
     "metadata": {},
     "output_type": "display_data"
    }
   ],
   "source": [
    "fig, axs=plt.subplots(1,4,sharex=True, sharey=True, figsize=(30, 5))\n",
    "\n",
    "axs[0].hist(nmv_cs, edgecolor='black')\n",
    "axs[0].set_title('Internal similarity\\nafter centering', fontsize=20)\n",
    "axs[0].set_xlabel('Cosine similarity', fontsize=16)\n",
    "\n",
    "axs[1].hist(abtt_cs, edgecolor='black')\n",
    "axs[1].set_title('Internal similarity\\nafter PCA cleaning + centering', fontsize=20, y=1.05)\n",
    "axs[1].set_xlabel('Cosine similarity', fontsize=16)\n",
    "\n",
    "axs[2].hist(rs_cs, edgecolor='black')\n",
    "axs[2].set_title('Internal similarity\\nafter Robust Scaler', fontsize=20, y=1.05)\n",
    "axs[2].set_xlabel('Cosine similarity', fontsize=16)\n",
    "\n",
    "axs[3].hist(umap_cs, edgecolor='black')\n",
    "axs[3].set_title('Internal similarity\\nafter UMAP', fontsize=20, y=1.05)\n",
    "axs[3].set_xlabel('Cosine similarity', fontsize=16)\n",
    "\n",
    "plt.show()"
   ]
  },
  {
   "cell_type": "code",
   "execution_count": 97,
   "id": "8cd0ed3b",
   "metadata": {
    "ExecuteTime": {
     "end_time": "2025-06-17T09:11:53.736834Z",
     "start_time": "2025-06-17T09:11:53.698652Z"
    }
   },
   "outputs": [
    {
     "data": {
      "text/plain": [
       "(-0.0013297543442454167, 0.16346839178999395)"
      ]
     },
     "execution_count": 97,
     "metadata": {},
     "output_type": "execute_result"
    }
   ],
   "source": [
    "np.mean(nmv_cs), np.std(nmv_cs)"
   ]
  },
  {
   "cell_type": "code",
   "execution_count": 98,
   "id": "d6af0e14",
   "metadata": {
    "ExecuteTime": {
     "end_time": "2025-06-17T09:11:53.848064Z",
     "start_time": "2025-06-17T09:11:53.741089Z"
    }
   },
   "outputs": [
    {
     "data": {
      "text/plain": [
       "(-0.0011572043002820221, 0.13018291837979643)"
      ]
     },
     "execution_count": 98,
     "metadata": {},
     "output_type": "execute_result"
    }
   ],
   "source": [
    "np.mean(abtt_cs), np.std(abtt_cs)"
   ]
  },
  {
   "cell_type": "code",
   "execution_count": 99,
   "id": "f961c2d7",
   "metadata": {
    "ExecuteTime": {
     "end_time": "2025-06-17T09:11:53.946985Z",
     "start_time": "2025-06-17T09:11:53.850962Z"
    }
   },
   "outputs": [
    {
     "data": {
      "text/plain": [
       "(0.0015516712885934964, 0.1558217895637591)"
      ]
     },
     "execution_count": 99,
     "metadata": {},
     "output_type": "execute_result"
    }
   ],
   "source": [
    "np.mean(rs_cs), np.std(rs_cs)"
   ]
  },
  {
   "cell_type": "code",
   "execution_count": 100,
   "id": "005def7c",
   "metadata": {
    "ExecuteTime": {
     "end_time": "2025-06-17T09:11:54.091762Z",
     "start_time": "2025-06-17T09:11:53.949779Z"
    }
   },
   "outputs": [
    {
     "data": {
      "text/plain": [
       "(0.9999999889460186, 7.697513123885326e-08)"
      ]
     },
     "execution_count": 100,
     "metadata": {},
     "output_type": "execute_result"
    }
   ],
   "source": [
    "np.mean(umap_cs), np.std(umap_cs)"
   ]
  },
  {
   "cell_type": "markdown",
   "id": "1efb4e99",
   "metadata": {},
   "source": [
    "All but QT and UMAP are essentially equivalent."
   ]
  },
  {
   "cell_type": "markdown",
   "id": "f8d19478",
   "metadata": {},
   "source": [
    "## Save transformed vectors w/ ABTT5"
   ]
  },
  {
   "cell_type": "markdown",
   "id": "16d1c6d6",
   "metadata": {},
   "source": [
    "### Function"
   ]
  },
  {
   "cell_type": "code",
   "execution_count": 101,
   "id": "bbfde1f4",
   "metadata": {
    "ExecuteTime": {
     "end_time": "2025-06-17T09:19:16.096013Z",
     "start_time": "2025-06-17T09:19:16.089110Z"
    }
   },
   "outputs": [],
   "source": [
    "def abtt(vec, mean_vec, U):\n",
    "    no_mean_vec=vec-mean_vec\n",
    "    # Proiezione su subspazio delle prime k PC\n",
    "    no_mean_vec_proj = no_mean_vec.dot(U.T).dot(U)   # (n, d)\n",
    "\n",
    "    # Rimozione delle k componenti\n",
    "    return no_mean_vec - no_mean_vec_proj"
   ]
  },
  {
   "cell_type": "markdown",
   "id": "6c74aaf5",
   "metadata": {},
   "source": [
    "### Reports"
   ]
  },
  {
   "cell_type": "code",
   "execution_count": 102,
   "id": "b2568a9f",
   "metadata": {
    "ExecuteTime": {
     "end_time": "2025-06-17T09:19:20.359510Z",
     "start_time": "2025-06-17T09:19:17.574954Z"
    }
   },
   "outputs": [
    {
     "data": {
      "application/vnd.jupyter.widget-view+json": {
       "model_id": "",
       "version_major": 2,
       "version_minor": 0
      },
      "text/plain": [
       "  0%|          | 0/573 [00:00<?, ?it/s]"
      ]
     },
     "metadata": {},
     "output_type": "display_data"
    }
   ],
   "source": [
    "for i, vecfile in enumerate(tqdm(vecfiles)):\n",
    "    np.savetxt(PCA_CENTR_VECTOR_FOLDER+vecfile, no_mean_vecs_debiased[i])"
   ]
  },
  {
   "cell_type": "markdown",
   "id": "814b96e0",
   "metadata": {},
   "source": [
    "### New Benchmarks"
   ]
  },
  {
   "cell_type": "code",
   "execution_count": 103,
   "id": "ac664d62",
   "metadata": {
    "ExecuteTime": {
     "end_time": "2025-06-17T09:19:37.249878Z",
     "start_time": "2025-06-17T09:19:37.052983Z"
    }
   },
   "outputs": [
    {
     "data": {
      "application/vnd.jupyter.widget-view+json": {
       "model_id": "",
       "version_major": 2,
       "version_minor": 0
      },
      "text/plain": [
       "  0%|          | 0/19 [00:00<?, ?it/s]"
      ]
     },
     "metadata": {},
     "output_type": "display_data"
    }
   ],
   "source": [
    "benchmark_files=[file for file in os.listdir(BENCHMARK_FOLDER) if file.endswith('.txt') and (file.startswith('Goal') or file.startswith('Witten'))]\n",
    "benchmark_files.sort()\n",
    "for file in tqdm(benchmark_files):\n",
    "    bench_vec=np.genfromtxt(BENCHMARK_FOLDER+file)\n",
    "    new_bench_vec=abtt(bench_vec, mean_vec, U)\n",
    "    np.savetxt(PCA_CENTR_VECTOR_FOLDER+file, new_bench_vec)"
   ]
  },
  {
   "cell_type": "code",
   "execution_count": 104,
   "id": "e22ec48a",
   "metadata": {
    "ExecuteTime": {
     "end_time": "2025-06-17T09:19:37.704165Z",
     "start_time": "2025-06-17T09:19:37.695185Z"
    }
   },
   "outputs": [],
   "source": [
    "for goalvecfile in benchmark_files:\n",
    "    if goalvecfile.startswith('Goal'):\n",
    "        num=goalvecfile.split('_')[0].split('-')[1]\n",
    "        if len(num)==1:\n",
    "            new_name='Goal-'+num.zfill(2)+'-Fast-Facts.txt'\n",
    "            os.rename(PCA_CENTR_VECTOR_FOLDER+goalvecfile, PCA_CENTR_VECTOR_FOLDER+new_name)"
   ]
  },
  {
   "cell_type": "code",
   "execution_count": 105,
   "id": "8c8a207f",
   "metadata": {
    "ExecuteTime": {
     "end_time": "2025-06-17T09:19:38.260386Z",
     "start_time": "2025-06-17T09:19:38.239937Z"
    }
   },
   "outputs": [
    {
     "data": {
      "text/plain": [
       "['Goal-01-Fast-Facts.txt',\n",
       " 'Goal-02-Fast-Facts.txt',\n",
       " 'Goal-03-Fast-Facts.txt',\n",
       " 'Goal-04-Fast-Facts.txt',\n",
       " 'Goal-05-Fast-Facts.txt',\n",
       " 'Goal-06-Fast-Facts.txt',\n",
       " 'Goal-07-Fast-Facts.txt',\n",
       " 'Goal-08-Fast-Facts.txt',\n",
       " 'Goal-09-Fast-Facts.txt',\n",
       " 'Goal-10-Fast-Facts.txt',\n",
       " 'Goal-11_Fast-Facts.txt',\n",
       " 'Goal-12_Fast-Facts.txt',\n",
       " 'Goal-13_Fast-Facts.txt',\n",
       " 'Goal-14_Fast-Facts.txt',\n",
       " 'Goal-15-Fast-Facts.txt',\n",
       " 'Goal-16-Fast-Facts.txt',\n",
       " 'Goal-17-Fast-Facts.txt',\n",
       " 'Goal-Fast-Facts.txt']"
      ]
     },
     "execution_count": 105,
     "metadata": {},
     "output_type": "execute_result"
    }
   ],
   "source": [
    "goalfiles=[file for file in os.listdir(PCA_CENTR_VECTOR_FOLDER) if file.endswith('.txt') and file.startswith('Goal')]\n",
    "goalfiles.sort()\n",
    "goalfiles"
   ]
  },
  {
   "cell_type": "markdown",
   "id": "6f7bd3b3",
   "metadata": {},
   "source": [
    "### Check with SDGs"
   ]
  },
  {
   "cell_type": "markdown",
   "id": "d09087ed",
   "metadata": {},
   "source": [
    "#### Goals' vectors"
   ]
  },
  {
   "cell_type": "code",
   "execution_count": 106,
   "id": "d22f8f28",
   "metadata": {
    "ExecuteTime": {
     "end_time": "2025-06-17T09:19:39.785569Z",
     "start_time": "2025-06-17T09:19:39.766495Z"
    }
   },
   "outputs": [],
   "source": [
    "goalvecfiles=[file for file in os.listdir(PCA_CENTR_VECTOR_FOLDER) if file.startswith('Goal') and file.endswith('.txt')]"
   ]
  },
  {
   "cell_type": "code",
   "execution_count": 107,
   "id": "f7a1f48e",
   "metadata": {
    "ExecuteTime": {
     "end_time": "2025-06-17T09:19:40.232647Z",
     "start_time": "2025-06-17T09:19:40.227366Z"
    }
   },
   "outputs": [],
   "source": [
    "goalvecfiles.sort()"
   ]
  },
  {
   "cell_type": "code",
   "execution_count": 108,
   "id": "efc704bd",
   "metadata": {
    "ExecuteTime": {
     "end_time": "2025-06-17T09:19:40.709897Z",
     "start_time": "2025-06-17T09:19:40.700575Z"
    }
   },
   "outputs": [
    {
     "data": {
      "text/plain": [
       "['Goal-01-Fast-Facts.txt',\n",
       " 'Goal-02-Fast-Facts.txt',\n",
       " 'Goal-03-Fast-Facts.txt',\n",
       " 'Goal-04-Fast-Facts.txt',\n",
       " 'Goal-05-Fast-Facts.txt',\n",
       " 'Goal-06-Fast-Facts.txt',\n",
       " 'Goal-07-Fast-Facts.txt',\n",
       " 'Goal-08-Fast-Facts.txt',\n",
       " 'Goal-09-Fast-Facts.txt',\n",
       " 'Goal-10-Fast-Facts.txt',\n",
       " 'Goal-11_Fast-Facts.txt',\n",
       " 'Goal-12_Fast-Facts.txt',\n",
       " 'Goal-13_Fast-Facts.txt',\n",
       " 'Goal-14_Fast-Facts.txt',\n",
       " 'Goal-15-Fast-Facts.txt',\n",
       " 'Goal-16-Fast-Facts.txt',\n",
       " 'Goal-17-Fast-Facts.txt',\n",
       " 'Goal-Fast-Facts.txt']"
      ]
     },
     "execution_count": 108,
     "metadata": {},
     "output_type": "execute_result"
    }
   ],
   "source": [
    "goalvecfiles"
   ]
  },
  {
   "cell_type": "code",
   "execution_count": 109,
   "id": "6d7a1e01",
   "metadata": {
    "ExecuteTime": {
     "end_time": "2025-06-17T09:19:41.240393Z",
     "start_time": "2025-06-17T09:19:41.151410Z"
    }
   },
   "outputs": [],
   "source": [
    "goalvecs=[np.genfromtxt(PCA_CENTR_VECTOR_FOLDER+goalvecfile) for goalvecfile in goalvecfiles]"
   ]
  },
  {
   "cell_type": "markdown",
   "id": "3b08b5ea",
   "metadata": {},
   "source": [
    "#### Cosine similarity"
   ]
  },
  {
   "cell_type": "code",
   "execution_count": 110,
   "id": "11bbb452",
   "metadata": {
    "ExecuteTime": {
     "end_time": "2025-06-17T09:19:43.143408Z",
     "start_time": "2025-06-17T09:19:42.929122Z"
    }
   },
   "outputs": [
    {
     "data": {
      "application/vnd.jupyter.widget-view+json": {
       "model_id": "",
       "version_major": 2,
       "version_minor": 0
      },
      "text/plain": [
       "  0%|          | 0/573 [00:00<?, ?it/s]"
      ]
     },
     "metadata": {},
     "output_type": "display_data"
    }
   ],
   "source": [
    "pca_cos_sims=np.zeros(len(vecfiles))\n",
    "for i, vecfile in enumerate(tqdm(vecfiles)):\n",
    "    cos_sim=float(util.cos_sim(goalvecs[-1], no_mean_vecs_debiased[i]))\n",
    "    #print(f'{vecfile:})\\tcos={cos_sim:.3f}')\n",
    "    pca_cos_sims[i]=cos_sim"
   ]
  },
  {
   "cell_type": "code",
   "execution_count": 111,
   "id": "639b15ac",
   "metadata": {
    "ExecuteTime": {
     "end_time": "2025-06-17T09:19:44.034963Z",
     "start_time": "2025-06-17T09:19:43.715953Z"
    }
   },
   "outputs": [
    {
     "data": {
      "image/png": "[encoded data removed]",
      "text/plain": [
       "<Figure size 640x480 with 1 Axes>"
      ]
     },
     "metadata": {},
     "output_type": "display_data"
    }
   ],
   "source": [
    "plt.hist(pca_cos_sims, edgecolor='black')\n",
    "plt.suptitle('SDGs descriptions vs. sustainability reports\\nafter PCA reduction + centering', fontsize=20, y=1.05)\n",
    "plt.xlabel('Cosine similarity', fontsize=16)\n",
    "plt.show()"
   ]
  },
  {
   "cell_type": "code",
   "execution_count": 112,
   "id": "c27b68fb",
   "metadata": {
    "ExecuteTime": {
     "end_time": "2025-06-17T09:19:45.508209Z",
     "start_time": "2025-06-17T09:19:45.498293Z"
    }
   },
   "outputs": [
    {
     "data": {
      "text/plain": [
       "(0.0018703185205884044, 0.09357543006730687)"
      ]
     },
     "execution_count": 112,
     "metadata": {},
     "output_type": "execute_result"
    }
   ],
   "source": [
    "np.mean(pca_cos_sims), np.std(pca_cos_sims)"
   ]
  },
  {
   "cell_type": "code",
   "execution_count": 113,
   "id": "c3a1bfac",
   "metadata": {
    "ExecuteTime": {
     "end_time": "2025-06-17T09:19:47.412966Z",
     "start_time": "2025-06-17T09:19:47.338097Z"
    }
   },
   "outputs": [
    {
     "data": {
      "application/vnd.jupyter.widget-view+json": {
       "model_id": "",
       "version_major": 2,
       "version_minor": 0
      },
      "text/plain": [
       "  0%|          | 0/18 [00:00<?, ?it/s]"
      ]
     },
     "metadata": {},
     "output_type": "display_data"
    }
   ],
   "source": [
    "pca_cos_sims=[]\n",
    "for i in trange(len(goalvecs)):\n",
    "    for j in range(i+1, len(goalvecs)):\n",
    "        cos_sim=float(util.cos_sim(goalvecs[i], goalvecs[j]))\n",
    "        pca_cos_sims.append(cos_sim)"
   ]
  },
  {
   "cell_type": "code",
   "execution_count": 114,
   "id": "e0e02534",
   "metadata": {
    "ExecuteTime": {
     "end_time": "2025-06-17T09:19:49.120282Z",
     "start_time": "2025-06-17T09:19:49.106530Z"
    }
   },
   "outputs": [
    {
     "data": {
      "text/plain": [
       "[0.6532858317177546,\n",
       " 0.5283404005746022,\n",
       " 0.550223077041782,\n",
       " 0.4290177524663247,\n",
       " 0.495244325477645,\n",
       " 0.37414380088948307,\n",
       " 0.5212042981767543,\n",
       " 0.4157446191893887,\n",
       " 0.6693020872331104,\n",
       " 0.4509953428947178,\n",
       " 0.26401753130209393,\n",
       " 0.49982639186423683,\n",
       " 0.3558651499025637,\n",
       " 0.45886994826079736,\n",
       " 0.4923898834920979,\n",
       " 0.4465015085847993,\n",
       " 0.7329946487292878,\n",
       " 0.5086426115522211,\n",
       " 0.5273387029723189,\n",
       " 0.4027923487914574,\n",
       " 0.47656600793851955,\n",
       " 0.4611060125351425,\n",
       " 0.466723687744066,\n",
       " 0.3912216411250902,\n",
       " 0.5827973177462534,\n",
       " 0.48190221318676657,\n",
       " 0.4018153881024489,\n",
       " 0.4662832555623385,\n",
       " 0.3745142567804899,\n",
       " 0.45260773835520435,\n",
       " 0.5087048780706849,\n",
       " 0.4285424994572231,\n",
       " 0.71003090627432,\n",
       " 0.5219408005843398,\n",
       " 0.5204051366692478,\n",
       " 0.5895143576706758,\n",
       " 0.4313473796387618,\n",
       " 0.4874332049432538,\n",
       " 0.3764103648902498,\n",
       " 0.5821687088027911,\n",
       " 0.46924082445803056,\n",
       " 0.2120072551094181,\n",
       " 0.3960011462028743,\n",
       " 0.2749557245209251,\n",
       " 0.3930790006494992,\n",
       " 0.5143056547926124,\n",
       " 0.41659839441215474,\n",
       " 0.6981357999345057,\n",
       " 0.5257935906599084,\n",
       " 0.471668879938297,\n",
       " 0.39216904546901826,\n",
       " 0.5163845584213473,\n",
       " 0.4191269161516373,\n",
       " 0.6260530861272486,\n",
       " 0.361855498349076,\n",
       " 0.1878659887158996,\n",
       " 0.42619498392258925,\n",
       " 0.2909964669384758,\n",
       " 0.34591815783747687,\n",
       " 0.5261122471366745,\n",
       " 0.4423671144693918,\n",
       " 0.6679985003656146,\n",
       " 0.45344814309535575,\n",
       " 0.373249169095717,\n",
       " 0.52986573237802,\n",
       " 0.28984619021057934,\n",
       " 0.6334800469833882,\n",
       " 0.3023398472534368,\n",
       " 0.148494001224647,\n",
       " 0.4052512226516646,\n",
       " 0.2507842029348785,\n",
       " 0.34015378810229696,\n",
       " 0.6309271286580718,\n",
       " 0.3514055374989661,\n",
       " 0.6553733070006305,\n",
       " 0.48325323813210763,\n",
       " 0.37009598506029195,\n",
       " 0.3475093236041497,\n",
       " 0.4582345606393902,\n",
       " 0.40815150669933375,\n",
       " 0.33006013161801234,\n",
       " 0.40455496618630016,\n",
       " 0.4368642320815431,\n",
       " 0.38539112844710777,\n",
       " 0.4619260731851817,\n",
       " 0.3578203266665152,\n",
       " 0.6756429731747102,\n",
       " 0.45198120767913486,\n",
       " 0.4771881183867641,\n",
       " 0.34986042903278797,\n",
       " 0.3328489092224699,\n",
       " 0.3948884791723142,\n",
       " 0.381217972340042,\n",
       " 0.32444697901510955,\n",
       " 0.26237700922780505,\n",
       " 0.40981951075338474,\n",
       " 0.281238616293101,\n",
       " 0.5737021351736378,\n",
       " 0.5525528562744657,\n",
       " 0.5808529122930425,\n",
       " 0.4454712091349513,\n",
       " 0.28804285417667563,\n",
       " 0.36113989525910695,\n",
       " 0.38141661054277015,\n",
       " 0.3011954138399669,\n",
       " 0.6310315116928588,\n",
       " 0.4665034351217502,\n",
       " 0.6695594347746343,\n",
       " 0.41243645714134786,\n",
       " 0.5089364462253367,\n",
       " 0.31922510757493516,\n",
       " 0.40410842435918526,\n",
       " 0.30355973879740905,\n",
       " 0.3144721924152618,\n",
       " 0.4279001012817014,\n",
       " 0.43101383761719453,\n",
       " 0.5595843382581204,\n",
       " 0.49528427456660096,\n",
       " 0.2531438741705479,\n",
       " 0.46024682378242426,\n",
       " 0.34219404673442144,\n",
       " 0.4333121435673143,\n",
       " 0.6541603606284152,\n",
       " 0.4739323941537836,\n",
       " 0.7800674623159043,\n",
       " 0.36746632598048445,\n",
       " 0.4472513489335608,\n",
       " 0.3730844738646399,\n",
       " 0.368843055134286,\n",
       " 0.470070896402878,\n",
       " 0.42121916072143095,\n",
       " 0.6366654422441149,\n",
       " 0.4114395692997036,\n",
       " 0.47311414058437073,\n",
       " 0.2616124230779219,\n",
       " 0.29394262516177727,\n",
       " 0.29021400017892807,\n",
       " 0.42009026933326243,\n",
       " 0.405078334400756,\n",
       " 0.4529859656321418,\n",
       " 0.46642490944120624,\n",
       " 0.444001908315662,\n",
       " 0.6276564096177609,\n",
       " 0.47002967862239964,\n",
       " 0.392320415276574,\n",
       " 0.31653854584130303,\n",
       " 0.5527858910838983,\n",
       " 0.40557928605810756,\n",
       " 0.31741714830959705,\n",
       " 0.60776917604356,\n",
       " 0.5091479193863161,\n",
       " 0.7106352124289093,\n",
       " 0.5654544935153428]"
      ]
     },
     "execution_count": 114,
     "metadata": {},
     "output_type": "execute_result"
    }
   ],
   "source": [
    "pca_cos_sims"
   ]
  },
  {
   "cell_type": "markdown",
   "id": "c3eb7c8b",
   "metadata": {},
   "source": [
    "### Wikipedia benchmark"
   ]
  },
  {
   "cell_type": "code",
   "execution_count": 115,
   "id": "f3f45472",
   "metadata": {
    "ExecuteTime": {
     "end_time": "2025-06-17T09:20:26.567299Z",
     "start_time": "2025-06-17T09:19:51.319111Z"
    }
   },
   "outputs": [
    {
     "data": {
      "application/vnd.jupyter.widget-view+json": {
       "model_id": "",
       "version_major": 2,
       "version_minor": 0
      },
      "text/plain": [
       "  0%|          | 0/4001 [00:00<?, ?it/s]"
      ]
     },
     "metadata": {},
     "output_type": "display_data"
    }
   ],
   "source": [
    "wikipedia_files=[file for file in os.listdir(WIKI_FOLDER) if file.endswith('.txt') and file.startswith('wikipedia')]\n",
    "for file in tqdm(wikipedia_files):\n",
    "    bench_vec=np.genfromtxt(WIKI_FOLDER+file)\n",
    "    new_bench_vec=abtt(bench_vec, mean_vec, U)\n",
    "    np.savetxt(PCA_CENTR_VECTOR_FOLDER+file, new_bench_vec)"
   ]
  },
  {
   "cell_type": "code",
   "execution_count": 116,
   "id": "9c8317c5",
   "metadata": {
    "ExecuteTime": {
     "end_time": "2025-06-17T09:20:26.579978Z",
     "start_time": "2025-06-17T09:20:26.571435Z"
    }
   },
   "outputs": [
    {
     "data": {
      "text/plain": [
       "768"
      ]
     },
     "execution_count": 116,
     "metadata": {},
     "output_type": "execute_result"
    }
   ],
   "source": [
    "len(new_bench_vec)"
   ]
  },
  {
   "cell_type": "markdown",
   "id": "95fb9e58",
   "metadata": {},
   "source": [
    "## Save transformed vectors w/ ABTT1"
   ]
  },
  {
   "cell_type": "code",
   "execution_count": 141,
   "id": "f7f6e8da",
   "metadata": {
    "ExecuteTime": {
     "end_time": "2025-06-18T15:13:13.999752Z",
     "start_time": "2025-06-18T15:13:13.955554Z"
    }
   },
   "outputs": [],
   "source": [
    "k = 1\n",
    "pca = PCA(n_components=k)\n",
    "pca.fit(no_mean_vecs)\n",
    "U = pca.components_          # matrice k × d\n",
    "\n",
    "# Proiezione su subspazio delle prime k PC\n",
    "no_mean_vecs_proj_1 = no_mean_vecs.dot(U.T).dot(U)   # (n, d)\n",
    "\n",
    "# Rimozione delle k componenti\n",
    "no_mean_vecs_debiased_1 = no_mean_vecs - no_mean_vecs_proj_1"
   ]
  },
  {
   "cell_type": "markdown",
   "id": "b86adf33",
   "metadata": {},
   "source": [
    "### Reports"
   ]
  },
  {
   "cell_type": "code",
   "execution_count": 144,
   "id": "a95ec59e",
   "metadata": {
    "ExecuteTime": {
     "end_time": "2025-06-18T15:14:34.174948Z",
     "start_time": "2025-06-18T15:14:31.487781Z"
    }
   },
   "outputs": [
    {
     "data": {
      "application/vnd.jupyter.widget-view+json": {
       "model_id": "32ee17d547c74384a0ab8ab8bcf6b91c",
       "version_major": 2,
       "version_minor": 0
      },
      "text/plain": [
       "  0%|          | 0/573 [00:00<?, ?it/s]"
      ]
     },
     "metadata": {},
     "output_type": "display_data"
    }
   ],
   "source": [
    "for i, vecfile in enumerate(tqdm(vecfiles)):\n",
    "    np.savetxt(ABTT1_VECTOR_FOLDER+vecfile, no_mean_vecs_debiased_1[i])"
   ]
  },
  {
   "cell_type": "markdown",
   "id": "76bcaa1d",
   "metadata": {},
   "source": [
    "### New Benchmarks"
   ]
  },
  {
   "cell_type": "code",
   "execution_count": 145,
   "id": "6995701a",
   "metadata": {
    "ExecuteTime": {
     "end_time": "2025-06-18T15:15:13.830392Z",
     "start_time": "2025-06-18T15:15:13.533325Z"
    }
   },
   "outputs": [
    {
     "data": {
      "application/vnd.jupyter.widget-view+json": {
       "model_id": "733b9ccbf373411f963737ce7631dd2b",
       "version_major": 2,
       "version_minor": 0
      },
      "text/plain": [
       "  0%|          | 0/19 [00:00<?, ?it/s]"
      ]
     },
     "metadata": {},
     "output_type": "display_data"
    }
   ],
   "source": [
    "benchmark_files=[file for file in os.listdir(BENCHMARK_FOLDER) if file.endswith('.txt') and (file.startswith('Goal') or file.startswith('Witten'))]\n",
    "benchmark_files.sort()\n",
    "for file in tqdm(benchmark_files):\n",
    "    bench_vec=np.genfromtxt(BENCHMARK_FOLDER+file)\n",
    "    new_bench_vec=abtt(bench_vec, mean_vec, U)\n",
    "    np.savetxt(ABTT1_VECTOR_FOLDER+file, new_bench_vec)"
   ]
  },
  {
   "cell_type": "code",
   "execution_count": 146,
   "id": "5388d3ca",
   "metadata": {
    "ExecuteTime": {
     "end_time": "2025-06-18T15:15:16.542274Z",
     "start_time": "2025-06-18T15:15:16.532799Z"
    }
   },
   "outputs": [],
   "source": [
    "for goalvecfile in benchmark_files:\n",
    "    if goalvecfile.startswith('Goal'):\n",
    "        num=goalvecfile.split('_')[0].split('-')[1]\n",
    "        if len(num)==1:\n",
    "            new_name='Goal-'+num.zfill(2)+'-Fast-Facts.txt'\n",
    "            os.rename(ABTT1_VECTOR_FOLDER+goalvecfile, ABTT1_VECTOR_FOLDER+new_name)"
   ]
  },
  {
   "cell_type": "code",
   "execution_count": 147,
   "id": "a0b3ea99",
   "metadata": {
    "ExecuteTime": {
     "end_time": "2025-06-18T15:15:18.019919Z",
     "start_time": "2025-06-18T15:15:18.007557Z"
    }
   },
   "outputs": [
    {
     "data": {
      "text/plain": [
       "['Goal-01-Fast-Facts.txt',\n",
       " 'Goal-02-Fast-Facts.txt',\n",
       " 'Goal-03-Fast-Facts.txt',\n",
       " 'Goal-04-Fast-Facts.txt',\n",
       " 'Goal-05-Fast-Facts.txt',\n",
       " 'Goal-06-Fast-Facts.txt',\n",
       " 'Goal-07-Fast-Facts.txt',\n",
       " 'Goal-08-Fast-Facts.txt',\n",
       " 'Goal-09-Fast-Facts.txt',\n",
       " 'Goal-10-Fast-Facts.txt',\n",
       " 'Goal-11_Fast-Facts.txt',\n",
       " 'Goal-12_Fast-Facts.txt',\n",
       " 'Goal-13_Fast-Facts.txt',\n",
       " 'Goal-14_Fast-Facts.txt',\n",
       " 'Goal-15-Fast-Facts.txt',\n",
       " 'Goal-16-Fast-Facts.txt',\n",
       " 'Goal-17-Fast-Facts.txt',\n",
       " 'Goal-Fast-Facts.txt']"
      ]
     },
     "execution_count": 147,
     "metadata": {},
     "output_type": "execute_result"
    }
   ],
   "source": [
    "goalfiles=[file for file in os.listdir(ABTT1_VECTOR_FOLDER) if file.endswith('.txt') and file.startswith('Goal')]\n",
    "goalfiles.sort()\n",
    "goalfiles"
   ]
  },
  {
   "cell_type": "markdown",
   "id": "25a33f71",
   "metadata": {},
   "source": [
    "## Check with SDGs"
   ]
  },
  {
   "cell_type": "markdown",
   "id": "09921d33",
   "metadata": {},
   "source": [
    "### Goals' vectors"
   ]
  },
  {
   "cell_type": "code",
   "execution_count": 148,
   "id": "619100ff",
   "metadata": {
    "ExecuteTime": {
     "end_time": "2025-06-18T15:15:20.750133Z",
     "start_time": "2025-06-18T15:15:20.742390Z"
    }
   },
   "outputs": [],
   "source": [
    "goalvecfiles=[file for file in os.listdir(ABTT1_VECTOR_FOLDER) if file.startswith('Goal') and file.endswith('.txt')]"
   ]
  },
  {
   "cell_type": "code",
   "execution_count": 149,
   "id": "013a9f8a",
   "metadata": {
    "ExecuteTime": {
     "end_time": "2025-06-18T15:15:21.138265Z",
     "start_time": "2025-06-18T15:15:21.132636Z"
    }
   },
   "outputs": [],
   "source": [
    "goalvecfiles.sort()"
   ]
  },
  {
   "cell_type": "code",
   "execution_count": 150,
   "id": "5467268e",
   "metadata": {
    "ExecuteTime": {
     "end_time": "2025-06-18T15:15:21.778077Z",
     "start_time": "2025-06-18T15:15:21.768319Z"
    }
   },
   "outputs": [
    {
     "data": {
      "text/plain": [
       "['Goal-01-Fast-Facts.txt',\n",
       " 'Goal-02-Fast-Facts.txt',\n",
       " 'Goal-03-Fast-Facts.txt',\n",
       " 'Goal-04-Fast-Facts.txt',\n",
       " 'Goal-05-Fast-Facts.txt',\n",
       " 'Goal-06-Fast-Facts.txt',\n",
       " 'Goal-07-Fast-Facts.txt',\n",
       " 'Goal-08-Fast-Facts.txt',\n",
       " 'Goal-09-Fast-Facts.txt',\n",
       " 'Goal-10-Fast-Facts.txt',\n",
       " 'Goal-11_Fast-Facts.txt',\n",
       " 'Goal-12_Fast-Facts.txt',\n",
       " 'Goal-13_Fast-Facts.txt',\n",
       " 'Goal-14_Fast-Facts.txt',\n",
       " 'Goal-15-Fast-Facts.txt',\n",
       " 'Goal-16-Fast-Facts.txt',\n",
       " 'Goal-17-Fast-Facts.txt',\n",
       " 'Goal-Fast-Facts.txt']"
      ]
     },
     "execution_count": 150,
     "metadata": {},
     "output_type": "execute_result"
    }
   ],
   "source": [
    "goalvecfiles"
   ]
  },
  {
   "cell_type": "code",
   "execution_count": 151,
   "id": "5400b04c",
   "metadata": {
    "ExecuteTime": {
     "end_time": "2025-06-18T15:15:25.057964Z",
     "start_time": "2025-06-18T15:15:24.976949Z"
    }
   },
   "outputs": [],
   "source": [
    "goalvecs=[np.genfromtxt(ABTT1_VECTOR_FOLDER+goalvecfile) for goalvecfile in goalvecfiles]"
   ]
  },
  {
   "cell_type": "markdown",
   "id": "505131cf",
   "metadata": {},
   "source": [
    "### Cosine similarity"
   ]
  },
  {
   "cell_type": "code",
   "execution_count": 152,
   "id": "022eabb4",
   "metadata": {
    "ExecuteTime": {
     "end_time": "2025-06-18T15:15:30.926767Z",
     "start_time": "2025-06-18T15:15:30.712582Z"
    }
   },
   "outputs": [
    {
     "data": {
      "application/vnd.jupyter.widget-view+json": {
       "model_id": "ed8219a0e495482595d787d56bf8c771",
       "version_major": 2,
       "version_minor": 0
      },
      "text/plain": [
       "  0%|          | 0/573 [00:00<?, ?it/s]"
      ]
     },
     "metadata": {},
     "output_type": "display_data"
    }
   ],
   "source": [
    "pca_cos_sims=np.zeros(len(vecfiles))\n",
    "for i, vecfile in enumerate(tqdm(vecfiles)):\n",
    "    cos_sim=float(util.cos_sim(goalvecs[-1], no_mean_vecs_debiased[i]))\n",
    "    #print(f'{vecfile:})\\tcos={cos_sim:.3f}')\n",
    "    pca_cos_sims[i]=cos_sim"
   ]
  },
  {
   "cell_type": "code",
   "execution_count": 153,
   "id": "ff33450d",
   "metadata": {
    "ExecuteTime": {
     "end_time": "2025-06-18T15:15:32.147812Z",
     "start_time": "2025-06-18T15:15:31.816924Z"
    }
   },
   "outputs": [
    {
     "data": {
      "image/png": "[encoded data removed]",
      "text/plain": [
       "<Figure size 640x480 with 1 Axes>"
      ]
     },
     "metadata": {},
     "output_type": "display_data"
    }
   ],
   "source": [
    "plt.hist(pca_cos_sims, edgecolor='black')\n",
    "plt.suptitle('SDGs descriptions vs. sustainability reports\\nafter PCA reduction + centering', fontsize=20, y=1.05)\n",
    "plt.xlabel('Cosine similarity', fontsize=16)\n",
    "plt.show()"
   ]
  },
  {
   "cell_type": "code",
   "execution_count": 154,
   "id": "91611e2e",
   "metadata": {
    "ExecuteTime": {
     "end_time": "2025-06-18T15:15:37.229655Z",
     "start_time": "2025-06-18T15:15:37.219859Z"
    }
   },
   "outputs": [
    {
     "data": {
      "text/plain": [
       "(0.0018071073694717638, 0.09051125483656898)"
      ]
     },
     "execution_count": 154,
     "metadata": {},
     "output_type": "execute_result"
    }
   ],
   "source": [
    "np.mean(pca_cos_sims), np.std(pca_cos_sims)"
   ]
  },
  {
   "cell_type": "code",
   "execution_count": 155,
   "id": "8dd4cf34",
   "metadata": {
    "ExecuteTime": {
     "end_time": "2025-06-18T15:15:46.105546Z",
     "start_time": "2025-06-18T15:15:46.030736Z"
    }
   },
   "outputs": [
    {
     "data": {
      "application/vnd.jupyter.widget-view+json": {
       "model_id": "5ac7be77612e4982a70e6e598bcd6210",
       "version_major": 2,
       "version_minor": 0
      },
      "text/plain": [
       "  0%|          | 0/18 [00:00<?, ?it/s]"
      ]
     },
     "metadata": {},
     "output_type": "display_data"
    }
   ],
   "source": [
    "pca_cos_sims=[]\n",
    "for i in trange(len(goalvecs)):\n",
    "    for j in range(i+1, len(goalvecs)):\n",
    "        cos_sim=float(util.cos_sim(goalvecs[i], goalvecs[j]))\n",
    "        pca_cos_sims.append(cos_sim)"
   ]
  },
  {
   "cell_type": "code",
   "execution_count": 156,
   "id": "e570b094",
   "metadata": {
    "ExecuteTime": {
     "end_time": "2025-06-18T15:15:47.119721Z",
     "start_time": "2025-06-18T15:15:47.102605Z"
    }
   },
   "outputs": [
    {
     "data": {
      "text/plain": [
       "[0.6455185106206427,\n",
       " 0.5572892802490578,\n",
       " 0.5728275287669409,\n",
       " 0.4575401520167646,\n",
       " 0.5144237210227258,\n",
       " 0.36008870230623247,\n",
       " 0.5277207123660168,\n",
       " 0.424756106522287,\n",
       " 0.6836150130675442,\n",
       " 0.43028914474480995,\n",
       " 0.2678433381747214,\n",
       " 0.46155279719262926,\n",
       " 0.34579796530914686,\n",
       " 0.44308156068432214,\n",
       " 0.5007653295820345,\n",
       " 0.4523828206812738,\n",
       " 0.7454947509298127,\n",
       " 0.5068553201667534,\n",
       " 0.511962192883874,\n",
       " 0.3957792981499944,\n",
       " 0.47008125172765713,\n",
       " 0.43996559461773915,\n",
       " 0.4439544082289921,\n",
       " 0.37537617715069704,\n",
       " 0.5594229220866553,\n",
       " 0.4425995962435447,\n",
       " 0.43682627659876866,\n",
       " 0.4184162176335691,\n",
       " 0.3675264817966779,\n",
       " 0.4396298015623373,\n",
       " 0.4659941205302155,\n",
       " 0.4075307797905746,\n",
       " 0.6982914342140781,\n",
       " 0.5523203199510756,\n",
       " 0.5544031576312787,\n",
       " 0.6085088438819076,\n",
       " 0.40061307944964053,\n",
       " 0.49966642125117744,\n",
       " 0.39379865236132683,\n",
       " 0.6030658151216626,\n",
       " 0.44013276340334034,\n",
       " 0.2209925011069772,\n",
       " 0.3352379033283562,\n",
       " 0.28119767987628785,\n",
       " 0.38279963566915515,\n",
       " 0.536194270941038,\n",
       " 0.41366434044436057,\n",
       " 0.709456963760347,\n",
       " 0.5587800800606658,\n",
       " 0.48822771469459303,\n",
       " 0.36731644706315425,\n",
       " 0.5320989882809964,\n",
       " 0.42849733201832074,\n",
       " 0.6483034725431445,\n",
       " 0.3495277435299419,\n",
       " 0.17158392388442845,\n",
       " 0.36795107282769346,\n",
       " 0.2776864938499337,\n",
       " 0.3302548090916138,\n",
       " 0.5512502188296113,\n",
       " 0.4445679335876631,\n",
       " 0.6721140847130207,\n",
       " 0.4698349952086057,\n",
       " 0.3386651422686511,\n",
       " 0.5434322184198203,\n",
       " 0.3043106633381226,\n",
       " 0.6530407115417427,\n",
       " 0.2857803834800938,\n",
       " 0.13780386305861048,\n",
       " 0.3267733629662187,\n",
       " 0.23979043984120638,\n",
       " 0.3213650062369259,\n",
       " 0.6507408460916626,\n",
       " 0.3497139961122733,\n",
       " 0.6544642302615729,\n",
       " 0.46879885712500513,\n",
       " 0.3839753680647895,\n",
       " 0.373194764861125,\n",
       " 0.474826698252679,\n",
       " 0.3941843133928016,\n",
       " 0.3294696133346591,\n",
       " 0.37725724182052933,\n",
       " 0.45103437113920153,\n",
       " 0.3921656697519793,\n",
       " 0.47770897487950226,\n",
       " 0.36318789486353864,\n",
       " 0.6907517197700151,\n",
       " 0.4384475087069212,\n",
       " 0.4689744963315656,\n",
       " 0.33361162425053204,\n",
       " 0.33551528594807334,\n",
       " 0.3707253777833412,\n",
       " 0.39855066854208987,\n",
       " 0.31717517796518385,\n",
       " 0.26377624545336265,\n",
       " 0.37884428586078445,\n",
       " 0.2872291960830251,\n",
       " 0.5586331127367885,\n",
       " 0.5591011462224145,\n",
       " 0.59425762639953,\n",
       " 0.4439744069392052,\n",
       " 0.25287886730800424,\n",
       " 0.32807256958989506,\n",
       " 0.37066489786539153,\n",
       " 0.29637084333342967,\n",
       " 0.6436260069826099,\n",
       " 0.4711737216908729,\n",
       " 0.6653201447910047,\n",
       " 0.4234275098462952,\n",
       " 0.5020595119590141,\n",
       " 0.30270236476264656,\n",
       " 0.3847443340663602,\n",
       " 0.32287305450616843,\n",
       " 0.32541806565777054,\n",
       " 0.44358205112033733,\n",
       " 0.4347798087783645,\n",
       " 0.5698400010445885,\n",
       " 0.48388617519971994,\n",
       " 0.2250303034394688,\n",
       " 0.4148459706309937,\n",
       " 0.3249487545818663,\n",
       " 0.4156901855377353,\n",
       " 0.6682438078741884,\n",
       " 0.48057362321173913,\n",
       " 0.778441243547028,\n",
       " 0.3135301457151962,\n",
       " 0.4405088217382155,\n",
       " 0.35343236061976313,\n",
       " 0.36181327753727993,\n",
       " 0.4587642679198012,\n",
       " 0.4254650847360649,\n",
       " 0.6099246047083025,\n",
       " 0.3694172664429634,\n",
       " 0.4753626411794474,\n",
       " 0.2643360020504421,\n",
       " 0.23956849094839633,\n",
       " 0.2597007458134888,\n",
       " 0.4215478247812834,\n",
       " 0.38312460341303567,\n",
       " 0.439852187667126,\n",
       " 0.39479933633844067,\n",
       " 0.4443511447298547,\n",
       " 0.5948399714829704,\n",
       " 0.4853139379512631,\n",
       " 0.3795687665485242,\n",
       " 0.30434353975320116,\n",
       " 0.5517399027418909,\n",
       " 0.39109282788891453,\n",
       " 0.31312855467200185,\n",
       " 0.5998894944277311,\n",
       " 0.5034773394747394,\n",
       " 0.6974634858853963,\n",
       " 0.5658464464617405]"
      ]
     },
     "execution_count": 156,
     "metadata": {},
     "output_type": "execute_result"
    }
   ],
   "source": [
    "pca_cos_sims"
   ]
  },
  {
   "cell_type": "markdown",
   "id": "87cf05ee",
   "metadata": {},
   "source": [
    "## Wikipedia benchmark"
   ]
  },
  {
   "cell_type": "code",
   "execution_count": 157,
   "id": "c7803a65",
   "metadata": {
    "ExecuteTime": {
     "end_time": "2025-06-18T15:16:29.110039Z",
     "start_time": "2025-06-18T15:15:53.857597Z"
    }
   },
   "outputs": [
    {
     "data": {
      "application/vnd.jupyter.widget-view+json": {
       "model_id": "171ae7079dc7414b9d7ce382a97a9139",
       "version_major": 2,
       "version_minor": 0
      },
      "text/plain": [
       "  0%|          | 0/4001 [00:00<?, ?it/s]"
      ]
     },
     "metadata": {},
     "output_type": "display_data"
    }
   ],
   "source": [
    "wikipedia_files=[file for file in os.listdir(WIKI_FOLDER) if file.endswith('.txt') and file.startswith('wikipedia')]\n",
    "for file in tqdm(wikipedia_files):\n",
    "    bench_vec=np.genfromtxt(WIKI_FOLDER+file)\n",
    "    new_bench_vec=abtt(bench_vec, mean_vec, U)\n",
    "    np.savetxt(ABTT1_VECTOR_FOLDER+file, new_bench_vec)"
   ]
  },
  {
   "cell_type": "code",
   "execution_count": 158,
   "id": "3fa316ba",
   "metadata": {
    "ExecuteTime": {
     "end_time": "2025-06-18T15:16:29.123504Z",
     "start_time": "2025-06-18T15:16:29.114544Z"
    }
   },
   "outputs": [
    {
     "data": {
      "text/plain": [
       "768"
      ]
     },
     "execution_count": 158,
     "metadata": {},
     "output_type": "execute_result"
    }
   ],
   "source": [
    "len(new_bench_vec)"
   ]
  },
  {
   "cell_type": "code",
   "execution_count": null,
   "id": "eda7c476",
   "metadata": {},
   "outputs": [],
   "source": []
  }
 ],
 "metadata": {
  "kernelspec": {
   "display_name": "Python 3 (ipykernel)",
   "language": "python",
   "name": "python3"
  },
  "language_info": {
   "codemirror_mode": {
    "name": "ipython",
    "version": 3
   },
   "file_extension": ".py",
   "mimetype": "text/x-python",
   "name": "python",
   "nbconvert_exporter": "python",
   "pygments_lexer": "ipython3",
   "version": "3.8.10"
  },
  "notify_time": "5",
  "toc": {
   "base_numbering": 1,
   "nav_menu": {},
   "number_sections": true,
   "sideBar": true,
   "skip_h1_title": false,
   "title_cell": "Table of Contents",
   "title_sidebar": "Contents",
   "toc_cell": false,
   "toc_position": {
    "height": "calc(100% - 180px)",
    "left": "10px",
    "top": "150px",
    "width": "288px"
   },
   "toc_section_display": true,
   "toc_window_display": true
  }
 },
 "nbformat": 4,
 "nbformat_minor": 5
}
