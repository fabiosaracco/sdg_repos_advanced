{
 "cells": [
  {
   "cell_type": "markdown",
   "id": "10f61862",
   "metadata": {},
   "source": [
    "# Intro"
   ]
  },
  {
   "cell_type": "markdown",
   "id": "8e60af06",
   "metadata": {},
   "source": [
    "## Standard modules"
   ]
  },
  {
   "cell_type": "code",
   "execution_count": 1,
   "id": "935b51be",
   "metadata": {
    "ExecuteTime": {
     "end_time": "2025-07-28T07:47:33.335479Z",
     "start_time": "2025-07-28T07:47:33.064009Z"
    }
   },
   "outputs": [],
   "source": [
    "import os, sys, pickle\n",
    "from datetime import datetime as dt\n",
    "import pathlib\n",
    "import numpy as np\n",
    "from tqdm.auto import tqdm, trange\n",
    "import traceback"
   ]
  },
  {
   "cell_type": "code",
   "execution_count": 2,
   "id": "660928e1",
   "metadata": {
    "ExecuteTime": {
     "end_time": "2025-07-28T07:47:37.094930Z",
     "start_time": "2025-07-28T07:47:33.339067Z"
    }
   },
   "outputs": [],
   "source": [
    "from sentence_transformers import util"
   ]
  },
  {
   "cell_type": "markdown",
   "id": "980ee91b",
   "metadata": {},
   "source": [
    "## My modules"
   ]
  },
  {
   "cell_type": "code",
   "execution_count": 3,
   "id": "604447eb",
   "metadata": {
    "ExecuteTime": {
     "end_time": "2025-07-28T07:47:37.118521Z",
     "start_time": "2025-07-28T07:47:37.098469Z"
    }
   },
   "outputs": [],
   "source": [
    "from toolbox.updater import time_is_now"
   ]
  },
  {
   "cell_type": "code",
   "execution_count": 4,
   "id": "fcfaffd3",
   "metadata": {
    "ExecuteTime": {
     "end_time": "2025-07-28T07:47:37.224821Z",
     "start_time": "2025-07-28T07:47:37.121465Z"
    }
   },
   "outputs": [],
   "source": [
    "from file2text import file2text"
   ]
  },
  {
   "cell_type": "code",
   "execution_count": 5,
   "id": "9d567a10",
   "metadata": {
    "ExecuteTime": {
     "end_time": "2025-07-28T07:47:37.302607Z",
     "start_time": "2025-07-28T07:47:37.230303Z"
    }
   },
   "outputs": [],
   "source": [
    "from first_rough_cleaning import first_text_cleaner"
   ]
  },
  {
   "cell_type": "code",
   "execution_count": 6,
   "id": "2a24a572",
   "metadata": {
    "ExecuteTime": {
     "end_time": "2025-07-28T07:47:44.368061Z",
     "start_time": "2025-07-28T07:47:37.305650Z"
    }
   },
   "outputs": [
    {
     "name": "stderr",
     "output_type": "stream",
     "text": [
      "/home/sarawalk/sdgs_py38/lib/python3.8/site-packages/torch/cuda/__init__.py:118: UserWarning: CUDA initialization: The NVIDIA driver on your system is too old (found version 10020). Please update your GPU driver by downloading and installing a new version from the URL: http://www.nvidia.com/Download/index.aspx Alternatively, go to: https://pytorch.org to install a PyTorch version that has been compiled with your version of the CUDA driver. (Triggered internally at ../c10/cuda/CUDAFunctions.cpp:108.)\n",
      "  return torch._C._cuda_getDeviceCount() > 0\n"
     ]
    }
   ],
   "source": [
    "from embed_me_II import file2vecfile"
   ]
  },
  {
   "cell_type": "markdown",
   "id": "55005f22",
   "metadata": {},
   "source": [
    "## Auxiliary functions"
   ]
  },
  {
   "cell_type": "code",
   "execution_count": 7,
   "id": "3dac164d",
   "metadata": {
    "ExecuteTime": {
     "end_time": "2025-07-28T07:47:44.379094Z",
     "start_time": "2025-07-28T07:47:44.372485Z"
    }
   },
   "outputs": [],
   "source": [
    "def file2textfile(file, extension='.rtf'):\n",
    "    vecfile=file2vecfile(file, extension)\n",
    "    return vecfile[:-4]+'_text.txt'"
   ]
  },
  {
   "cell_type": "markdown",
   "id": "d1d18423",
   "metadata": {},
   "source": [
    "## Folders"
   ]
  },
  {
   "cell_type": "code",
   "execution_count": 8,
   "id": "51be73aa",
   "metadata": {
    "ExecuteTime": {
     "end_time": "2025-07-28T07:47:44.452721Z",
     "start_time": "2025-07-28T07:47:44.382056Z"
    }
   },
   "outputs": [],
   "source": [
    "PDF_FOLDER='./pdf/'"
   ]
  },
  {
   "cell_type": "code",
   "execution_count": 9,
   "id": "8a85d0ed",
   "metadata": {
    "ExecuteTime": {
     "end_time": "2025-07-28T07:47:44.552534Z",
     "start_time": "2025-07-28T07:47:44.456341Z"
    }
   },
   "outputs": [],
   "source": [
    "RTF_FOLDER='./rtf/'"
   ]
  },
  {
   "cell_type": "code",
   "execution_count": 10,
   "id": "feadd752",
   "metadata": {
    "ExecuteTime": {
     "end_time": "2025-07-28T07:47:44.652516Z",
     "start_time": "2025-07-28T07:47:44.556399Z"
    }
   },
   "outputs": [],
   "source": [
    "TARGET_FOLDER='./NewProcessedData/texts/'"
   ]
  },
  {
   "cell_type": "markdown",
   "id": "6abcf934",
   "metadata": {},
   "source": [
    "# Save all cleaned texts"
   ]
  },
  {
   "cell_type": "code",
   "execution_count": 11,
   "id": "1896b758",
   "metadata": {
    "ExecuteTime": {
     "end_time": "2025-07-28T07:47:44.907296Z",
     "start_time": "2025-07-28T07:47:44.659033Z"
    }
   },
   "outputs": [],
   "source": [
    "rtf_files=[file for file in os.listdir(RTF_FOLDER) if file.endswith('.rtf')]\n",
    "rtf_files.sort()"
   ]
  },
  {
   "cell_type": "code",
   "execution_count": 12,
   "id": "169211ed",
   "metadata": {
    "ExecuteTime": {
     "end_time": "2025-07-28T07:47:53.217414Z",
     "start_time": "2025-07-28T07:47:44.909687Z"
    }
   },
   "outputs": [
    {
     "data": {
      "application/vnd.jupyter.widget-view+json": {
       "model_id": "a4f21f9bc7d940d0a172afa20437eb6e",
       "version_major": 2,
       "version_minor": 0
      },
      "text/plain": [
       "  0%|          | 0/592 [00:00<?, ?it/s]"
      ]
     },
     "metadata": {},
     "output_type": "display_data"
    },
    {
     "name": "stdout",
     "output_type": "stream",
     "text": [
      "[25-07-28 09:47:44] 2021_10_AIRTEL_AFRICA_PLC_text.txt\n",
      "[25-07-28 09:47:44] 2022_10_AIRTEL_AFRICA_PLC_text.txt\n",
      "[25-07-28 09:47:44] 2024_10_AIRTEL_AFRICA_PLC_text.txt\n",
      "[25-07-28 09:47:44] 2015_10_BT_GROUP_PLC_text.txt \n",
      "[25-07-28 09:47:44] 2016_10_BT_GROUP_PLC_text.txt \n",
      "[25-07-28 09:47:44] 2018_10_BT_GROUP_PLC_text.txt \n",
      "[25-07-28 09:47:44] 2019_10_BT_GROUP_PLC_text.txt \n",
      "[25-07-28 09:47:44] 2020_10_BT_GROUP_PLC_text.txt \n",
      "[25-07-28 09:47:44] 2021_10_BT_GROUP_PLC_text.txt \n",
      "[25-07-28 09:47:44] 2022_10_BT_GROUP_PLC_text.txt \n",
      "[25-07-28 09:47:44] 2023_10_BT_GROUP_PLC_text.txt \n",
      "[25-07-28 09:47:44] 2019_10_FILTRONIC_PLC_text.txt\n",
      "[25-07-28 09:47:44] 2020_10_FILTRONIC_PLC_text.txt\n",
      "[25-07-28 09:47:44] 2021_10_FILTRONIC_PLC_text.txt\n",
      "[25-07-28 09:47:44] 2022_10_FILTRONIC_PLC_text.txt\n",
      "[25-07-28 09:47:44] 2023_10_FILTRONIC_PLC_text.txt\n",
      "[25-07-28 09:47:44] 2022_10_GAMMA_COMMUNICATIONS_PLC_text.txt\n",
      "[25-07-28 09:47:44] 2020_10_HELIOS_TOWERS_PLC_text.txt\n",
      "[25-07-28 09:47:44] 2021_10_HELIOS_TOWERS_PLC_text.txt\n",
      "[25-07-28 09:47:44] 2022_10_HELIOS_TOWERS_PLC_text.txt\n",
      "[25-07-28 09:47:44] 2023_10_HELIOS_TOWERS_PLC_text.txt\n",
      "[25-07-28 09:47:44] 2018_10_SPIRENT_COMMUNICATIONS_PLC_text.txt\n",
      "[25-07-28 09:47:44] 2019_10_SPIRENT_COMMUNICATIONS_PLC_text.txt\n",
      "[25-07-28 09:47:44] 2020_10_SPIRENT_COMMUNICATIONS_PLC_text.txt\n",
      "[25-07-28 09:47:44] 2021_10_SPIRENT_COMMUNICATIONS_PLC_text.txt\n",
      "[25-07-28 09:47:44] 2022_10_SPIRENT_COMMUNICATIONS_PLC_text.txt\n",
      "[25-07-28 09:47:44] 2023_10_SPIRENT_COMMUNICATIONS_PLC_text.txt\n",
      "[25-07-28 09:47:44] 2022_10_TELECOM_PLUS_PLC_text.txt\n",
      "[25-07-28 09:47:44] 2023_10_TELECOM_PLUS_PLC_text.txt\n",
      "[25-07-28 09:47:44] 2024_10_TELECOM_PLUS_PLC_text.txt\n",
      "[25-07-28 09:47:44] 2015_10_VODAFONE_GROUP_PLC_text.txt\n",
      "[25-07-28 09:47:44] 2016_10_VODAFONE_GROUP_PLC_text.txt\n",
      "[25-07-28 09:47:44] 2017_10_VODAFONE_GROUP_PLC_text.txt\n",
      "[25-07-28 09:47:44] 2018_10_VODAFONE_GROUP_PLC_text.txt\n",
      "[25-07-28 09:47:44] 2019_10_VODAFONE_GROUP_PLC_text.txt\n",
      "[25-07-28 09:47:44] 2020_10_VODAFONE_GROUP_PLC_text.txt\n",
      "[25-07-28 09:47:44] 2021_10_VODAFONE_GROUP_PLC_text.txt\n",
      "[25-07-28 09:47:44] 2022_10_VODAFONE_GROUP_PLC_text.txt\n",
      "[25-07-28 09:47:44] 2023_10_VODAFONE_GROUP_PLC_text.txt\n",
      "[25-07-28 09:47:44] 2016_11_GOOD_ENERGY_GROUP_PLC_text.txt\n",
      "[25-07-28 09:47:44] 2017_11_GOOD_ENERGY_GROUP_PLC_text.txt\n",
      "[25-07-28 09:47:44] 2018_11_GOOD_ENERGY_GROUP_PLC_text.txt\n",
      "[25-07-28 09:47:44] 2019_11_GOOD_ENERGY_GROUP_PLC_text.txt\n",
      "[25-07-28 09:47:44] 2020_11_GOOD_ENERGY_GROUP_PLC_text.txt\n",
      "[25-07-28 09:47:44] 2022_11_GOOD_ENERGY_GROUP_PLC_text.txt\n",
      "[25-07-28 09:47:44] 2023_11_GOOD_ENERGY_GROUP_PLC_text.txt\n",
      "[25-07-28 09:47:44] 2020_11_NATIONAL_GRID_PLC_text.txt\n",
      "[25-07-28 09:47:44] 2021_11_NATIONAL_GRID_PLC_text.txt\n",
      "[25-07-28 09:47:44] 2022_11_NATIONAL_GRID_PLC_text.txt\n",
      "[25-07-28 09:47:44] 2023_11_NATIONAL_GRID_PLC_text.txt\n",
      "[25-07-28 09:47:44] 2016_11_SSE_PLC_text.txt      \n",
      "[25-07-28 09:47:44] 2017_11_SSE_PLC_text.txt      \n",
      "[25-07-28 09:47:44] 2018_11_SSE_PLC_text.txt      \n",
      "[25-07-28 09:47:44] 2019_11_SSE_PLC_text.txt      \n",
      "[25-07-28 09:47:44] 2020_11_SSE_PLC_text.txt      \n",
      "[25-07-28 09:47:44] 2023_11_SSE_PLC_text.txt      \n",
      "[25-07-28 09:47:44] 2020_11_SEVERN_TRENT_PLC_text.txt\n",
      "[25-07-28 09:47:44] 2022_11_SEVERN_TRENT_PLC_text.txt\n",
      "[25-07-28 09:47:44] 2023_11_SEVERN_TRENT_PLC_text.txt\n",
      "[25-07-28 09:47:44] 2023_11_UNITED_UTILITIES_GROUP_PLC_text.txt\n",
      "[25-07-28 09:47:44] 2018_11_CENTRICA_PLC_text.txt \n",
      "[25-07-28 09:47:44] 2019_11_CENTRICA_PLC_text.txt \n",
      "[25-07-28 09:47:44] 2020_11_CENTRICA_PLC_text.txt \n",
      "[25-07-28 09:47:44] 2021_11_CENTRICA_PLC_text.txt \n",
      "[25-07-28 09:47:44] 2022_11_CENTRICA_PLC_text.txt \n",
      "[25-07-28 09:47:44] 2023_11_CENTRICA_PLC_text.txt \n",
      "[25-07-28 09:47:44] 2023_11_DRAX_GROUP_PLC_text.txt\n",
      "[25-07-28 09:47:44] 2021_11_PENNON_GROUP_PLC_text.txt\n",
      "[25-07-28 09:47:44] 2022_11_PENNON_GROUP_PLC_text.txt\n",
      "[25-07-28 09:47:44] 2023_11_PENNON_GROUP_PLC_text.txt\n",
      "[25-07-28 09:47:44] 2017_11_RENEWI_PLC_text.txt   \n",
      "[25-07-28 09:47:44] 2018_11_RENEWI_PLC_text.txt   \n",
      "[25-07-28 09:47:44] 2019_11_RENEWI_PLC_text.txt   \n",
      "[25-07-28 09:47:44] 2021_11_RENEWI_PLC_text.txt   \n",
      "[25-07-28 09:47:44] 2022_11_RENEWI_PLC_text.txt   \n",
      "[25-07-28 09:47:44] 2023_11_RENEWI_PLC_text.txt   \n",
      "[25-07-28 09:47:44] 2019_11_YU_GROUP_PLC_text.txt \n",
      "[25-07-28 09:47:44] 2020_11_YU_GROUP_PLC_text.txt \n",
      "[25-07-28 09:47:44] 2021_11_YU_GROUP_PLC_text.txt \n",
      "[25-07-28 09:47:44] 2023_11_YU_GROUP_PLC_text.txt \n",
      "[25-07-28 09:47:44] 2015_01_ANGLO_AMERICAN_PLC_text.txt\n",
      "[25-07-28 09:47:44] 2016_01_ANGLO_AMERICAN_PLC_text.txt\n",
      "[25-07-28 09:47:44] 2017_01_ANGLO_AMERICAN_PLC_text.txt\n",
      "[25-07-28 09:47:44] 2018_01_ANGLO_AMERICAN_PLC_text.txt\n",
      "[25-07-28 09:47:44] 2019_01_ANGLO_AMERICAN_PLC_text.txt\n",
      "[25-07-28 09:47:44] 2019_01_ANGLO_AMERICAN_PLC_text.txt\n",
      "[25-07-28 09:47:44] 2020_01_ANGLO_AMERICAN_PLC_text.txt\n",
      "[25-07-28 09:47:44] 2021_01_ANGLO_AMERICAN_PLC_text.txt\n",
      "[25-07-28 09:47:44] 2022_01_ANGLO_AMERICAN_PLC_text.txt\n",
      "[25-07-28 09:47:44] 2023_01_ANGLO_AMERICAN_PLC_text.txt\n",
      "[25-07-28 09:47:44] 2015_01_ANTOFAGASTA_PLC_text.txt\n",
      "[25-07-28 09:47:44] 2016_01_ANTOFAGASTA_PLC_text.txt\n",
      "[25-07-28 09:47:44] 2018_01_ANTOFAGASTA_PLC_text.txt\n",
      "[25-07-28 09:47:44] 2018_01_ANTOFAGASTA_PLC_text.txt\n",
      "[25-07-28 09:47:44] 2019_01_ANTOFAGASTA_PLC_text.txt\n",
      "[25-07-28 09:47:44] 2019_01_ANTOFAGASTA_PLC_text.txt\n",
      "[25-07-28 09:47:44] 2020_01_ANTOFAGASTA_PLC_text.txt\n",
      "[25-07-28 09:47:44] 2020_01_ANTOFAGASTA_PLC_text.txt\n",
      "[25-07-28 09:47:44] 2021_01_ANTOFAGASTA_PLC_text.txt\n",
      "[25-07-28 09:47:44] 2022_01_ANTOFAGASTA_PLC_text.txt\n",
      "[25-07-28 09:47:44] 2022_01_ANTOFAGASTA_PLC_text.txt\n",
      "[25-07-28 09:47:44] 2015_01_CRODA_INTERNATIONAL_PLC_text.txt\n",
      "[25-07-28 09:47:44] 2016_01_CRODA_INTERNATIONAL_PLC_text.txt\n",
      "[25-07-28 09:47:44] 2017_01_CRODA_INTERNATIONAL_PLC_text.txt\n",
      "[25-07-28 09:47:44] 2018_01_CRODA_INTERNATIONAL_PLC_text.txt\n",
      "[25-07-28 09:47:44] 2019_01_CRODA_INTERNATIONAL_PLC_text.txt\n",
      "[25-07-28 09:47:44] 2020_01_CRODA_INTERNATIONAL_PLC_text.txt\n",
      "[25-07-28 09:47:44] 2021_01_CRODA_INTERNATIONAL_PLC_text.txt\n",
      "[25-07-28 09:47:44] 2022_01_CRODA_INTERNATIONAL_PLC_text.txt\n",
      "[25-07-28 09:47:44] 2023_01_CRODA_INTERNATIONAL_PLC_text.txt\n",
      "[25-07-28 09:47:44] 2017_01_ENDEAVOUR_MINING_PLC_text.txt\n",
      "[25-07-28 09:47:44] 2018_01_ENDEAVOUR_MINING_PLC_text.txt\n",
      "[25-07-28 09:47:44] 2018_01_ENDEAVOUR_MINING_PLC_text.txt\n",
      "[25-07-28 09:47:44] 2019_01_ENDEAVOUR_MINING_PLC_text.txt\n",
      "[25-07-28 09:47:44] 2020_01_ENDEAVOUR_MINING_PLC_text.txt\n",
      "[25-07-28 09:47:44] 2021_01_ENDEAVOUR_MINING_PLC_text.txt\n",
      "[25-07-28 09:47:44] 2021_01_ENDEAVOUR_MINING_PLC_text.txt\n",
      "[25-07-28 09:47:44] 2022_01_ENDEAVOUR_MINING_PLC_text.txt\n",
      "[25-07-28 09:47:44] 2023_01_ENDEAVOUR_MINING_PLC_text.txt\n",
      "[25-07-28 09:47:44] 2023_01_ENDEAVOUR_MINING_PLC_text.txt\n",
      "[25-07-28 09:47:44] 2021_01_EVRAZ_PLC_text.txt    \n",
      "[25-07-28 09:47:44] 2021_01_HOCHSCHILD_MINING_PLC_text.txt\n",
      "[25-07-28 09:47:44] 2015_01_JOHNSON_MATTHEY_PLC_text.txt\n",
      "[25-07-28 09:47:44] 2016_01_JOHNSON_MATTHEY_PLC_text.txt\n",
      "[25-07-28 09:47:44] 2017_01_JOHNSON_MATTHEY_PLC_text.txt\n",
      "[25-07-28 09:47:44] 2017_01_JOHNSON_MATTHEY_PLC_text.txt\n",
      "[25-07-28 09:47:44] 2018_01_JOHNSON_MATTHEY_PLC_text.txt\n",
      "[25-07-28 09:47:44] 2019_01_JOHNSON_MATTHEY_PLC_text.txt\n",
      "[25-07-28 09:47:44] 2020_01_JOHNSON_MATTHEY_PLC_text.txt\n",
      "[25-07-28 09:47:44] 2021_01_JOHNSON_MATTHEY_PLC_text.txt\n",
      "[25-07-28 09:47:44] 2022_01_JOHNSON_MATTHEY_PLC_text.txt\n",
      "[25-07-28 09:47:44] 2023_01_JOHNSON_MATTHEY_PLC_text.txt\n",
      "[25-07-28 09:47:44] 2015_01_RIO_TINTO_PLC_text.txt\n",
      "[25-07-28 09:47:44] 2016_01_RIO_TINTO_PLC_text.txt\n",
      "[25-07-28 09:47:44] 2017_01_RIO_TINTO_PLC_text.txt\n",
      "[25-07-28 09:47:44] 2018_01_RIO_TINTO_PLC_text.txt\n",
      "[25-07-28 09:47:44] 2019_01_RIO_TINTO_PLC_text.txt\n",
      "[25-07-28 09:47:44] 2020_01_RIO_TINTO_PLC_text.txt\n",
      "[25-07-28 09:47:44] 2021_01_RIO_TINTO_PLC_text.txt\n",
      "[25-07-28 09:47:44] 2022_01_RIO_TINTO_PLC_text.txt\n",
      "[25-07-28 09:47:44] 2023_01_RIO_TINTO_PLC_text.txt\n",
      "[25-07-28 09:47:44] 2015_01_SYNTHOMER_PLC_text.txt\n",
      "[25-07-28 09:47:44] 2016_01_SYNTHOMER_PLC_text.txt\n",
      "[25-07-28 09:47:44] 2017_01_SYNTHOMER_PLC_text.txt\n",
      "[25-07-28 09:47:44] 2018_01_SYNTHOMER_PLC_text.txt\n",
      "[25-07-28 09:47:44] 2019_01_SYNTHOMER_PLC_text.txt\n",
      "[25-07-28 09:47:44] 2019_01_SYNTHOMER_PLC_text.txt\n",
      "[25-07-28 09:47:44] 2020_01_SYNTHOMER_PLC_text.txt\n",
      "[25-07-28 09:47:44] 2020_01_SYNTHOMER_PLC_text.txt\n",
      "[25-07-28 09:47:44] 2021_01_SYNTHOMER_PLC_text.txt\n",
      "[25-07-28 09:47:44] 2021_01_SYNTHOMER_PLC_text.txt\n",
      "[25-07-28 09:47:44] 2022_01_SYNTHOMER_PLC_text.txt\n",
      "[25-07-28 09:47:44] 2022_01_SYNTHOMER_PLC_text.txt\n",
      "[25-07-28 09:47:44] 2023_01_SYNTHOMER_PLC_text.txt\n",
      "[25-07-28 09:47:44] 2015_02_BARRATT_DEVELOPMENTS_PLC_text.txt\n",
      "[25-07-28 09:47:44] 2016_02_BARRATT_DEVELOPMENTS_PLC_text.txt\n",
      "[25-07-28 09:47:44] 2017_02_BARRATT_DEVELOPMENTS_PLC_text.txt\n",
      "[25-07-28 09:47:44] 2018_02_BARRATT_DEVELOPMENTS_PLC_text.txt\n",
      "[25-07-28 09:47:44] 2019_02_BARRATT_DEVELOPMENTS_PLC_text.txt\n",
      "[25-07-28 09:47:44] 2020_02_BARRATT_DEVELOPMENTS_PLC_text.txt\n",
      "[25-07-28 09:47:44] 2021_02_BARRATT_DEVELOPMENTS_PLC_text.txt\n",
      "[25-07-28 09:47:44] 2022_02_BARRATT_DEVELOPMENTS_PLC_text.txt\n",
      "[25-07-28 09:47:44] 2023_02_BARRATT_DEVELOPMENTS_PLC_text.txt\n",
      "[25-07-28 09:47:44] 2015_02_BERKELEY_GROUP_HOLDINGS_(THE)_PLC_text.txt\n",
      "[25-07-28 09:47:44] 2016_02_BERKELEY_GROUP_HOLDINGS_(THE)_PLC_text.txt\n",
      "[25-07-28 09:47:44] 2017_02_BERKELEY_GROUP_HOLDINGS_(THE)_PLC_text.txt\n",
      "[25-07-28 09:47:44] 2018_02_BERKELEY_GROUP_HOLDINGS_(THE)_PLC_text.txt\n",
      "[25-07-28 09:47:44] 2019_02_BERKELEY_GROUP_HOLDINGS_(THE)_PLC_text.txt\n",
      "[25-07-28 09:47:44] 2020_02_BERKELEY_GROUP_HOLDINGS_(THE)_PLC_text.txt\n",
      "[25-07-28 09:47:44] 2021_02_BERKELEY_GROUP_HOLDINGS_(THE)_PLC_text.txt\n",
      "[25-07-28 09:47:44] 2022_02_BERKELEY_GROUP_HOLDINGS_(THE)_PLC_text.txt\n",
      "[25-07-28 09:47:44] 2023_02_BERKELEY_GROUP_HOLDINGS_(THE)_PLC_text.txt\n",
      "[25-07-28 09:47:44] 2015_02_BURBERRY_GROUP_PLC_text.txt\n",
      "[25-07-28 09:47:44] 2016_02_BURBERRY_GROUP_PLC_text.txt\n",
      "[25-07-28 09:47:44] 2017_02_BURBERRY_GROUP_PLC_text.txt\n",
      "[25-07-28 09:47:44] 2018_02_BURBERRY_GROUP_PLC_text.txt\n",
      "[25-07-28 09:47:44] 2019_02_BURBERRY_GROUP_PLC_text.txt\n",
      "[25-07-28 09:47:44] 2020_02_BURBERRY_GROUP_PLC_text.txt\n",
      "[25-07-28 09:47:44] 2021_02_BURBERRY_GROUP_PLC_text.txt\n",
      "[25-07-28 09:47:44] 2022_02_BURBERRY_GROUP_PLC_text.txt\n",
      "[25-07-28 09:47:44] 2023_02_BURBERRY_GROUP_PLC_text.txt\n",
      "[25-07-28 09:47:44] 2019_02_COMPASS_GROUP_PLC_text.txt\n",
      "[25-07-28 09:47:44] 2020_02_COMPASS_GROUP_PLC_text.txt\n",
      "[25-07-28 09:47:44] 2021_02_COMPASS_GROUP_PLC_text.txt\n",
      "[25-07-28 09:47:44] 2022_02_COMPASS_GROUP_PLC_text.txt\n",
      "[25-07-28 09:47:44] 2023_02_COMPASS_GROUP_PLC_text.txt\n",
      "[25-07-28 09:47:44] 2015_02_INFORMA_PLC_text.txt  \n",
      "[25-07-28 09:47:44] 2016_02_INFORMA_PLC_text.txt  \n",
      "[25-07-28 09:47:44] 2017_02_INFORMA_PLC_text.txt  \n",
      "[25-07-28 09:47:44] 2018_02_INFORMA_PLC_text.txt  \n",
      "[25-07-28 09:47:44] 2019_02_INFORMA_PLC_text.txt  \n",
      "[25-07-28 09:47:44] 2020_02_INFORMA_PLC_text.txt  \n",
      "[25-07-28 09:47:44] 2021_02_INFORMA_PLC_text.txt  \n",
      "[25-07-28 09:47:44] 2022_02_INFORMA_PLC_text.txt  \n",
      "[25-07-28 09:47:44] 2023_02_INFORMA_PLC_text.txt  \n",
      "[25-07-28 09:47:44] 2015_02_INTERCONTINENTAL_HOTELS_GROUP_PLC_text.txt\n",
      "[25-07-28 09:47:44] 2016_02_INTERCONTINENTAL_HOTELS_GROUP_PLC_text.txt\n",
      "[25-07-28 09:47:44] 2017_02_INTERCONTINENTAL_HOTELS_GROUP_PLC_text.txt\n",
      "[25-07-28 09:47:44] 2018_02_INTERCONTINENTAL_HOTELS_GROUP_PLC_text.txt\n",
      "[25-07-28 09:47:44] 2019_02_INTERCONTINENTAL_HOTELS_GROUP_PLC_text.txt\n",
      "[25-07-28 09:47:44] 2020_02_INTERCONTINENTAL_HOTELS_GROUP_PLC_text.txt\n",
      "[25-07-28 09:47:44] 2021_02_INTERCONTINENTAL_HOTELS_GROUP_PLC_text.txt\n",
      "[25-07-28 09:47:44] 2022_02_INTERCONTINENTAL_HOTELS_GROUP_PLC_text.txt\n",
      "[25-07-28 09:47:44] 2023_02_INTERCONTINENTAL_HOTELS_GROUP_PLC_text.txt\n",
      "[25-07-28 09:47:44] 2015_02_NEXT_PLC_text.txt     \n",
      "[25-07-28 09:47:44] 2016_02_NEXT_PLC_text.txt     \n",
      "[25-07-28 09:47:44] 2016_02_NEXT_PLC_text.txt     \n",
      "[25-07-28 09:47:44] 2017_02_NEXT_PLC_text.txt     \n",
      "[25-07-28 09:47:44] 2018_02_NEXT_PLC_text.txt     \n",
      "[25-07-28 09:47:44] 2019_02_NEXT_PLC_text.txt     \n",
      "[25-07-28 09:47:44] 2020_02_NEXT_PLC_text.txt     \n",
      "[25-07-28 09:47:44] 2021_02_NEXT_PLC_text.txt     \n",
      "[25-07-28 09:47:44] 2022_02_NEXT_PLC_text.txt     \n",
      "[25-07-28 09:47:44] 2023_02_NEXT_PLC_text.txt     \n",
      "[25-07-28 09:47:44] 2015_02_PERSIMMON_PLC_text.txt\n",
      "[25-07-28 09:47:44] 2016_02_PERSIMMON_PLC_text.txt\n",
      "[25-07-28 09:47:44] 2017_02_PERSIMMON_PLC_text.txt\n",
      "[25-07-28 09:47:44] 2018_02_PERSIMMON_PLC_text.txt\n",
      "[25-07-28 09:47:44] 2019_02_PERSIMMON_PLC_text.txt\n",
      "[25-07-28 09:47:44] 2020_02_PERSIMMON_PLC_text.txt\n",
      "[25-07-28 09:47:44] 2021_02_PERSIMMON_PLC_text.txt\n",
      "[25-07-28 09:47:44] 2022_02_PERSIMMON_PLC_text.txt\n",
      "[25-07-28 09:47:44] 2023_02_PERSIMMON_PLC_text.txt\n",
      "[25-07-28 09:47:44] 2015_02_RELX_PLC_text.txt     \n",
      "[25-07-28 09:47:44] 2016_02_RELX_PLC_text.txt     \n",
      "[25-07-28 09:47:44] 2017_02_RELX_PLC_text.txt     \n",
      "[25-07-28 09:47:44] 2018_02_RELX_PLC_text.txt     \n",
      "[25-07-28 09:47:44] 2018_02_RELX_PLC_text.txt     \n",
      "[25-07-28 09:47:44] 2019_02_RELX_PLC_text.txt     \n",
      "[25-07-28 09:47:44] 2020_02_RELX_PLC_text.txt     \n",
      "[25-07-28 09:47:44] 2021_02_RELX_PLC_text.txt     \n",
      "[25-07-28 09:47:44] 2022_02_RELX_PLC_text.txt     \n",
      "[25-07-28 09:47:44] 2023_02_RELX_PLC_text.txt     \n",
      "[25-07-28 09:47:44] 2015_02_WHITBREAD_PLC_text.txt\n",
      "[25-07-28 09:47:44] 2017_02_WHITBREAD_PLC_text.txt\n",
      "[25-07-28 09:47:44] 2018_02_WHITBREAD_PLC_text.txt\n",
      "[25-07-28 09:47:44] 2022_02_WHITBREAD_PLC_text.txt\n",
      "[25-07-28 09:47:44] 2023_02_WHITBREAD_PLC_text.txt\n",
      "[25-07-28 09:47:44] 2015_03_Associated_British_Foods_PLC_text.txt\n",
      "[25-07-28 09:47:44] 2016_03_Associated_British_Foods_PLC_text.txt\n",
      "[25-07-28 09:47:44] 2017_03_Associated_British_Foods_PLC_text.txt\n",
      "[25-07-28 09:47:44] 2018_03_Associated_British_Foods_PLC_text.txt\n",
      "[25-07-28 09:47:44] 2019_03_Associated_British_Foods_PLC_text.txt\n",
      "[25-07-28 09:47:44] 2020_03_Associated_British_Foods_PLC_text.txt\n",
      "[25-07-28 09:47:44] 2021_03_Associated_British_Foods_PLC_text.txt\n",
      "[25-07-28 09:47:44] 2022_03_Associated_British_Foods_PLC_text.txt\n",
      "[25-07-28 09:47:44] 2023_03_Associated_British_Foods_PLC_text.txt\n",
      "[25-07-28 09:47:44] 2015_03_British_American_Tobacco_PLC_text.txt\n",
      "[25-07-28 09:47:44] 2016_03_British_American_Tobacco_PLC_text.txt\n",
      "[25-07-28 09:47:44] 2017_03_British_American_Tobacco_PLC_text.txt\n",
      "[25-07-28 09:47:44] 2018_03_British_American_Tobacco_PLC_text.txt\n",
      "[25-07-28 09:47:44] 2019_03_British_American_Tobacco_PLC_text.txt\n",
      "[25-07-28 09:47:44] 2022_03_British_American_Tobacco_PLC_text.txt\n",
      "[25-07-28 09:47:44] 2023_03_British_American_Tobacco_PLC_text.txt\n",
      "[25-07-28 09:47:44] 2016_03_Coca-Cola_Europacific_Partners_PLC_text.txt\n",
      "[25-07-28 09:47:44] 2017_03_Coca-Cola_Europacific_Partners_PLC_text.txt\n",
      "[25-07-28 09:47:44] 2018_03_Coca-Cola_Europacific_Partners_PLC_text.txt\n",
      "[25-07-28 09:47:44] 2019_03_Coca-Cola_Europacific_Partners_PLC_text.txt\n",
      "[25-07-28 09:47:44] 2020_03_Coca-Cola_Europacific_Partners_PLC_text.txt\n",
      "[25-07-28 09:47:44] 2021_03_Coca-Cola_Europacific_Partners_PLC_text.txt\n",
      "[25-07-28 09:47:44] 2022_03_Coca-Cola_Europacific_Partners_PLC_text.txt\n",
      "[25-07-28 09:47:44] 2023_03_Coca-Cola_Europacific_Partners_PLC_text.txt\n",
      "[25-07-28 09:47:44] 2015_03_Diageo_PLC_text.txt   \n",
      "[25-07-28 09:47:44] 2016_03_Diageo_PLC_text.txt   \n",
      "[25-07-28 09:47:44] 2017_03_Diageo_PLC_text.txt   \n",
      "[25-07-28 09:47:44] 2018_03_Diageo_PLC_text.txt   \n",
      "[25-07-28 09:47:44] 2019_03_Diageo_PLC_text.txt   \n",
      "[25-07-28 09:47:44] 2021_03_Diageo_PLC_text.txt   \n",
      "[25-07-28 09:47:44] 2022_03_Diageo_PLC_text.txt   \n",
      "[25-07-28 09:47:44] 2023_03_Diageo_PLC_text.txt   \n",
      "[25-07-28 09:47:44] 2015_03_Imperial_Brands_PLC_text.txt\n",
      "[25-07-28 09:47:44] 2016_03_Imperial_Brands_PLC_text.txt\n",
      "[25-07-28 09:47:44] 2017_03_Imperial_Brands_PLC_text.txt\n",
      "[25-07-28 09:47:44] 2018_03_Imperial_Brands_PLC_text.txt\n",
      "[25-07-28 09:47:44] 2019_03_Imperial_Brands_PLC_text.txt\n",
      "[25-07-28 09:47:44] 2020_03_Imperial_Brands_PLC_text.txt\n",
      "[25-07-28 09:47:44] 2021_03_Imperial_Brands_PLC_text.txt\n",
      "[25-07-28 09:47:44] 2022_03_Imperial_Brands_PLC_text.txt\n",
      "[25-07-28 09:47:44] 2023_03_Imperial_Brands_PLC_text.txt\n",
      "[25-07-28 09:47:44] 2015_03_Marks_and_Spencer_Group_PLC_text.txt\n",
      "[25-07-28 09:47:44] 2016_03_Marks_and_Spencer_Group_PLC_text.txt\n",
      "[25-07-28 09:47:44] 2017_03_Marks_and_Spencer_Group_PLC_text.txt\n",
      "[25-07-28 09:47:44] 2018_03_Marks_and_Spencer_Group_PLC_text.txt\n",
      "[25-07-28 09:47:44] 2019_03_Marks_and_Spencer_Group_PLC_text.txt\n",
      "[25-07-28 09:47:44] 2020_03_Marks_and_Spencer_Group_PLC_text.txt\n",
      "[25-07-28 09:47:44] 2021_03_Marks_and_Spencer_Group_PLC_text.txt\n",
      "[25-07-28 09:47:44] 2022_03_Marks_and_Spencer_Group_PLC_text.txt\n",
      "[25-07-28 09:47:44] 2023_03_Marks_and_Spencer_Group_PLC_text.txt\n",
      "[25-07-28 09:47:44] 2015_03_Reckitt_Benckiser_Group_PLC_text.txt\n",
      "[25-07-28 09:47:44] 2016_03_Reckitt_Benckiser_Group_PLC_text.txt\n",
      "[25-07-28 09:47:44] 2017_03_Reckitt_Benckiser_Group_PLC_text.txt\n",
      "[25-07-28 09:47:44] 2018_03_Reckitt_Benckiser_Group_PLC_text.txt\n",
      "[25-07-28 09:47:44] 2019_03_Reckitt_Benckiser_Group_PLC_text.txt\n",
      "[25-07-28 09:47:44] 2020_03_Reckitt_Benckiser_Group_PLC_text.txt\n",
      "[25-07-28 09:47:44] 2021_03_Reckitt_Benckiser_Group_PLC_text.txt\n",
      "[25-07-28 09:47:44] 2022_03_Reckitt_Benckiser_Group_PLC_text.txt\n",
      "[25-07-28 09:47:44] 2023_03_Reckitt_Benckiser_Group_PLC_text.txt\n",
      "[25-07-28 09:47:44] 2015_03_Sainsbury_(J)_PLC_text.txt\n",
      "[25-07-28 09:47:44] 2016_03_Sainsbury_(J)_PLC_text.txt\n",
      "[25-07-28 09:47:44] 2017_03_Sainsbury_(J)_PLC_text.txt\n",
      "[25-07-28 09:47:44] 2018_03_Sainsbury_(J)_PLC_text.txt\n",
      "[25-07-28 09:47:44] 2019_03_Sainsbury_(J)_PLC_text.txt\n",
      "[25-07-28 09:47:44] 2020_03_Sainsbury_(J)_PLC_text.txt\n",
      "[25-07-28 09:47:44] 2021_03_Sainsbury_(J)_PLC_text.txt\n",
      "[25-07-28 09:47:44] 2022_03_Sainsbury_(J)_PLC_text.txt\n",
      "[25-07-28 09:47:44] 2023_03_Sainsbury_(J)_PLC_text.txt\n",
      "[25-07-28 09:47:44] 2016_03_Tesco_PLC_text.txt    \n",
      "[25-07-28 09:47:44] 2017_03_Tesco_PLC_text.txt    \n",
      "[25-07-28 09:47:44] 2018_03_Tesco_PLC_text.txt    \n",
      "[25-07-28 09:47:44] 2019_03_Tesco_PLC_text.txt    \n",
      "[25-07-28 09:47:44] 2020_03_Tesco_PLC_text.txt    \n",
      "[25-07-28 09:47:44] 2022_03_Tesco_PLC_text.txt    \n",
      "[25-07-28 09:47:44] 2022_03_Tesco_PLC_text.txt    \n",
      "[25-07-28 09:47:44] 2023_03_Tesco_PLC_text.txt    \n",
      "[25-07-28 09:47:44] 2015_03_Unilever_PLC_text.txt \n",
      "[25-07-28 09:47:44] 2016_03_Unilever_PLC_text.txt \n",
      "[25-07-28 09:47:44] 2017_03_Unilever_PLC_text.txt \n",
      "[25-07-28 09:47:44] 2018_03_Unilever_PLC_text.txt \n",
      "[25-07-28 09:47:44] 2019_03_Unilever_PLC_text.txt \n",
      "[25-07-28 09:47:44] 2020_03_Unilever_PLC_text.txt \n",
      "[25-07-28 09:47:44] 2021_03_Unilever_PLC_text.txt \n",
      "[25-07-28 09:47:44] 2022_03_Unilever_PLC_text.txt \n",
      "[25-07-28 09:47:44] 2023_03_Unilever_PLC_text.txt \n",
      "[25-07-28 09:47:44] 2019_04_DIVERSIFIED_ENERGY_COMPANY_PLC_text.txt\n",
      "[25-07-28 09:47:44] 2020_04_DIVERSIFIED_ENERGY_COMPANY_PLC_text.txt\n",
      "[25-07-28 09:47:44] 2021_04_DIVERSIFIED_ENERGY_COMPANY_PLC_text.txt\n",
      "[25-07-28 09:47:44] 2022_04_DIVERSIFIED_ENERGY_COMPANY_PLC_text.txt\n",
      "[25-07-28 09:47:44] 2023_04_DIVERSIFIED_ENERGY_COMPANY_PLC_text.txt\n",
      "[25-07-28 09:47:44] 2017_04_Shell_text.txt        \n",
      "[25-07-28 09:47:44] 2018_04_Shell_text.txt        \n",
      "[25-07-28 09:47:44] 2019_04_Shell_text.txt        \n",
      "[25-07-28 09:47:44] 2021_04_Shell_text.txt        \n",
      "[25-07-28 09:47:44] 2022_04_Shell_text.txt        \n",
      "[25-07-28 09:47:44] 2023_04_Shell_text.txt        \n",
      "[25-07-28 09:47:44] 2015_04_BP_PLC_text.txt       \n",
      "[25-07-28 09:47:44] 2016_04_BP_PLC_text.txt       \n",
      "[25-07-28 09:47:44] 2017_04_BP_PLC_text.txt       \n",
      "[25-07-28 09:47:44] 2018_04_BP_PLC_text.txt       \n",
      "[25-07-28 09:47:44] 2019_04_BP_PLC_text.txt       \n",
      "[25-07-28 09:47:44] 2020_04_BP_PLC_text.txt       \n",
      "[25-07-28 09:47:44] 2023_04_HARBOUR_ENERGY_PLC_text.txt\n",
      "[25-07-28 09:47:44] 2019_04_Energean_text.txt     \n",
      "[25-07-28 09:47:44] 2020_04_Energean_text.txt     \n",
      "[25-07-28 09:47:44] 2021_04_Energean_text.txt     \n",
      "[25-07-28 09:47:44] 2022_04_Energean_text.txt     \n",
      "[25-07-28 09:47:44] 2023_04_Energean_text.txt     \n",
      "[25-07-28 09:47:44] 2022_04_ITHACA_ENERGY_PLC_text.txt\n",
      "[25-07-28 09:47:44] 2023_04_ITHACA_ENERGY_PLC_text.txt\n",
      "[25-07-28 09:47:44] 2019_04_WOOD_GROUP_(JOHN)_PLC_text.txt\n",
      "[25-07-28 09:47:44] 2020_04_WOOD_GROUP_(JOHN)_PLC_text.txt\n",
      "[25-07-28 09:47:44] 2021_04_WOOD_GROUP_(JOHN)_PLC_text.txt\n",
      "[25-07-28 09:47:44] 2022_04_WOOD_GROUP_(JOHN)_PLC_text.txt\n",
      "[25-07-28 09:47:44] 2023_04_WOOD_GROUP_(JOHN)_PLC_text.txt\n",
      "[25-07-28 09:47:44] 2019_04_SERICA_ENERGY_PLC_text.txt\n",
      "[25-07-28 09:47:44] 2020_04_SERICA_ENERGY_PLC_text.txt\n",
      "[25-07-28 09:47:44] 2021_04_SERICA_ENERGY_PLC_text.txt\n",
      "[25-07-28 09:47:44] 2022_04_SERICA_ENERGY_PLC_text.txt\n",
      "[25-07-28 09:47:44] 2023_04_SERICA_ENERGY_PLC_text.txt\n",
      "[25-07-28 09:47:44] 2021_04_ASHTEAD_TECHNOLOGY_HOLDINGS_PLC_text.txt\n",
      "[25-07-28 09:47:44] 2022_04_ASHTEAD_TECHNOLOGY_HOLDINGS_PLC_text.txt\n",
      "[25-07-28 09:47:44] 2023_04_ASHTEAD_TECHNOLOGY_HOLDINGS_PLC_text.txt\n",
      "[25-07-28 09:47:44] 2015_04_HUNTING_PLC_text.txt  \n",
      "[25-07-28 09:47:44] 2016_04_HUNTING_PLC_text.txt  \n",
      "[25-07-28 09:47:44] 2017_04_HUNTING_PLC_text.txt  \n",
      "[25-07-28 09:47:44] 2018_04_HUNTING_PLC_text.txt  \n",
      "[25-07-28 09:47:44] 2019_04_HUNTING_PLC_text.txt  \n",
      "[25-07-28 09:47:44] 2020_04_HUNTING_PLC_text.txt  \n",
      "[25-07-28 09:47:44] 2021_04_HUNTING_PLC_text.txt  \n",
      "[25-07-28 09:47:44] 2022_04_HUNTING_PLC_text.txt  \n",
      "[25-07-28 09:47:44] 2023_04_HUNTING_PLC_text.txt  \n",
      "[25-07-28 09:47:44] 2015_05_AVIVA_PLC_text.txt    \n",
      "[25-07-28 09:47:44] 2016_05_AVIVA_PLC_text.txt    \n",
      "[25-07-28 09:47:44] 2017_05_AVIVA_PLC_text.txt    \n",
      "[25-07-28 09:47:44] 2018_05_AVIVA_PLC_text.txt    \n",
      "[25-07-28 09:47:44] 2019_05_AVIVA_PLC_text.txt    \n",
      "[25-07-28 09:47:44] 2020_05_AVIVA_PLC_text.txt    \n",
      "[25-07-28 09:47:44] 2021_05_AVIVA_PLC_text.txt    \n",
      "[25-07-28 09:47:44] 2022_05_AVIVA_PLC_text.txt    \n",
      "[25-07-28 09:47:44] 2023_05_AVIVA_PLC_text.txt    \n",
      "[25-07-28 09:47:44] 2016_05_BARCLAYS_PLC_text.txt \n",
      "[25-07-28 09:47:44] 2017_05_BARCLAYS_PLC_text.txt \n",
      "[25-07-28 09:47:44] 2018_05_BARCLAYS_PLC_text.txt \n",
      "[25-07-28 09:47:44] 2019_05_BARCLAYS_PLC_text.txt \n",
      "[25-07-28 09:47:44] 2020_05_BARCLAYS_PLC_text.txt \n",
      "[25-07-28 09:47:44] 2021_05_BARCLAYS_PLC_text.txt \n",
      "[25-07-28 09:47:44] 2022_05_BARCLAYS_PLC_text.txt \n",
      "[25-07-28 09:47:44] 2023_05_BARCLAYS_PLC_text.txt \n",
      "[25-07-28 09:47:44] 2015_05_HSBC_HOLDINGS_PLC_text.txt\n",
      "[25-07-28 09:47:44] 2016_05_HSBC_HOLDINGS_PLC_text.txt\n",
      "[25-07-28 09:47:44] 2017_05_HSBC_HOLDINGS_PLC_text.txt\n",
      "[25-07-28 09:47:44] 2018_05_HSBC_HOLDINGS_PLC_text.txt\n",
      "[25-07-28 09:47:44] 2019_05_HSBC_HOLDINGS_PLC_text.txt\n",
      "[25-07-28 09:47:44] 2020_05_HSBC_HOLDINGS_PLC_text.txt\n",
      "[25-07-28 09:47:44] 2021_05_HSBC_HOLDINGS_PLC_text.txt\n",
      "[25-07-28 09:47:44] 2022_05_HSBC_HOLDINGS_PLC_text.txt\n",
      "[25-07-28 09:47:44] 2023_05_HSBC_HOLDINGS_PLC_text.txt\n",
      "[25-07-28 09:47:44] 2018_05_LEGAL_&_GENERAL_GROUP_PLC_text.txt\n",
      "[25-07-28 09:47:44] 2019_05_LEGAL_&_GENERAL_GROUP_PLC_text.txt\n",
      "[25-07-28 09:47:44] 2020_05_LEGAL_&_GENERAL_GROUP_PLC_text.txt\n",
      "[25-07-28 09:47:44] 2021_05_LEGAL_&_GENERAL_GROUP_PLC_text.txt\n",
      "[25-07-28 09:47:44] 2022_05_LEGAL_&_GENERAL_GROUP_PLC_text.txt\n",
      "[25-07-28 09:47:44] 2023_05_LEGAL_&_GENERAL_GROUP_PLC_text.txt\n",
      "[25-07-28 09:47:44] 2017_05_LONDON_STOCK_EXCHANGE_GROUP_PLC_text.txt\n",
      "[25-07-28 09:47:44] 2018_05_LONDON_STOCK_EXCHANGE_GROUP_PLC_text.txt\n",
      "[25-07-28 09:47:44] 2019_05_LONDON_STOCK_EXCHANGE_GROUP_PLC_text.txt\n",
      "[25-07-28 09:47:44] 2020_05_LONDON_STOCK_EXCHANGE_GROUP_PLC_text.txt\n",
      "[25-07-28 09:47:44] 2021_05_LONDON_STOCK_EXCHANGE_GROUP_PLC_text.txt\n",
      "[25-07-28 09:47:44] 2022_05_LONDON_STOCK_EXCHANGE_GROUP_PLC_text.txt\n",
      "[25-07-28 09:47:44] 2023_05_LONDON_STOCK_EXCHANGE_GROUP_PLC_text.txt\n",
      "[25-07-28 09:47:44] 2020_05_NATWEST_GROUP_PLC_text.txt\n",
      "[25-07-28 09:47:44] 2021_05_NATWEST_GROUP_PLC_text.txt\n",
      "[25-07-28 09:47:44] 2018_05_PRUDENTIAL_PLC_text.txt\n",
      "[25-07-28 09:47:44] 2019_05_PRUDENTIAL_PLC_text.txt\n",
      "[25-07-28 09:47:44] 2023_05_SCOTTISH_MORTGAGE_INVESTMENT_TRUST_PLC_text.txt\n",
      "[25-07-28 09:47:44] 2015_05_STANDARD_CHARTERED_PLC_text.txt\n",
      "[25-07-28 09:47:44] 2016_05_STANDARD_CHARTERED_PLC_text.txt\n",
      "[25-07-28 09:47:44] 2016_05_STANDARD_CHARTERED_PLC_text.txt\n",
      "[25-07-28 09:47:44] 2018_05_STANDARD_CHARTERED_PLC_text.txt\n",
      "[25-07-28 09:47:44] 2019_05_STANDARD_CHARTERED_PLC_text.txt\n",
      "[25-07-28 09:47:44] 2020_05_STANDARD_CHARTERED_PLC_text.txt\n",
      "[25-07-28 09:47:44] 2021_05_STANDARD_CHARTERED_PLC_text.txt\n",
      "[25-07-28 09:47:44] 2022_05_STANDARD_CHARTERED_PLC_text.txt\n",
      "[25-07-28 09:47:44] 2023_05_STANDARD_CHARTERED_PLC_text.txt\n",
      "[25-07-28 09:47:44] 2015_06_AstraZeneca_PLC_text.txt\n",
      "[25-07-28 09:47:44] 2017_06_AstraZeneca_PLC_text.txt\n",
      "[25-07-28 09:47:44] 2018_06_AstraZeneca_PLC_text.txt\n",
      "[25-07-28 09:47:44] 2019_06_AstraZeneca_PLC_text.txt\n",
      "[25-07-28 09:47:44] 2020_06_AstraZeneca_PLC_text.txt\n",
      "[25-07-28 09:47:44] 2021_06_AstraZeneca_PLC_text.txt\n",
      "[25-07-28 09:47:44] 2022_06_AstraZeneca_PLC_text.txt\n",
      "[25-07-28 09:47:44] 2023_06_AstraZeneca_PLC_text.txt\n",
      "[25-07-28 09:47:44] 2019_06_Convatec_Group_PLC_text.txt\n",
      "[25-07-28 09:47:44] 2020_06_Convatec_Group_PLC_text.txt\n",
      "[25-07-28 09:47:44] 2021_06_Convatec_Group_PLC_text.txt\n",
      "[25-07-28 09:47:44] 2022_06_Convatec_Group_PLC_text.txt\n",
      "[25-07-28 09:47:44] 2023_06_Convatec_Group_PLC_text.txt\n",
      "[25-07-28 09:47:44] 2015_06_GSK_PLC_text.txt      \n",
      "[25-07-28 09:47:44] 2016_06_GSK_PLC_text.txt      \n",
      "[25-07-28 09:47:44] 2017_06_GSK_PLC_text.txt      \n",
      "[25-07-28 09:47:44] 2018_06_GSK_PLC_text.txt      \n",
      "[25-07-28 09:47:44] 2019_06_GSK_PLC_text.txt      \n",
      "[25-07-28 09:47:44] 2020_06_GSK_PLC_text.txt      \n",
      "[25-07-28 09:47:44] 2021_06_GSK_PLC_text.txt      \n",
      "[25-07-28 09:47:44] 2022_06_GSK_PLC_text.txt      \n",
      "[25-07-28 09:47:44] 2023_06_GSK_PLC_text.txt      \n",
      "[25-07-28 09:47:44] 2019_06_Genus_PLC_text.txt    \n",
      "[25-07-28 09:47:44] 2020_06_Genus_PLC_text.txt    \n",
      "[25-07-28 09:47:44] 2021_06_Genus_PLC_text.txt    \n",
      "[25-07-28 09:47:44] 2022_06_Genus_PLC_text.txt    \n",
      "[25-07-28 09:47:44] 2023_06_Genus_PLC_text.txt    \n",
      "[25-07-28 09:47:44] 2020_06_Hikma_Pharmaceuticals_PLC_text.txt\n",
      "[25-07-28 09:47:44] 2022_06_Hikma_Pharmaceuticals_PLC_text.txt\n",
      "[25-07-28 09:47:44] 2023_06_Hikma_Pharmaceuticals_PLC_text.txt\n",
      "[25-07-28 09:47:44] 2022_06_Indivior_PLC_text.txt \n",
      "[25-07-28 09:47:44] 2023_06_Indivior_PLC_text.txt \n",
      "[25-07-28 09:47:44] 2022_06_Oxford_Nanopore_Technologies_PLC_text.txt\n",
      "[25-07-28 09:47:44] 2023_06_PureTech_Health_PLC_text.txt\n",
      "[25-07-28 09:47:44] 2017_06_Smith_&_Nephew_PLC_text.txt\n",
      "[25-07-28 09:47:44] 2018_06_Smith_&_Nephew_PLC_text.txt\n",
      "[25-07-28 09:47:44] 2019_06_Smith_&_Nephew_PLC_text.txt\n",
      "[25-07-28 09:47:44] 2020_06_Smith_&_Nephew_PLC_text.txt\n",
      "[25-07-28 09:47:44] 2021_06_Smith_&_Nephew_PLC_text.txt\n",
      "[25-07-28 09:47:44] 2022_06_Smith_&_Nephew_PLC_text.txt\n",
      "[25-07-28 09:47:44] 2023_06_Smith_&_Nephew_PLC_text.txt\n",
      "[25-07-28 09:47:44] 2021_07_BAE_SYSTEMS_PLC_text.txt\n",
      "[25-07-28 09:47:44] 2022_07_BAE_SYSTEMS_PLC_text.txt\n",
      "[25-07-28 09:47:44] 2023_07_BAE_SYSTEMS_PLC_text.txt\n",
      "[25-07-28 09:47:44] 2020_07_BUNZL_PLC_text.txt    \n",
      "[25-07-28 09:47:44] 2023_07_BUNZL_PLC_text.txt    \n",
      "[25-07-28 09:47:44] 2015_07_HALMA_PLC_text.txt    \n",
      "[25-07-28 09:47:44] 2016_07_HALMA_PLC_text.txt    \n",
      "[25-07-28 09:47:44] 2017_07_HALMA_PLC_text.txt    \n",
      "[25-07-28 09:47:44] 2018_07_HALMA_PLC_text.txt    \n",
      "[25-07-28 09:47:44] 2019_07_HALMA_PLC_text.txt    \n",
      "[25-07-28 09:47:44] 2020_07_HALMA_PLC_text.txt    \n",
      "[25-07-28 09:47:44] 2021_07_HALMA_PLC_text.txt    \n",
      "[25-07-28 09:47:44] 2022_07_HALMA_PLC_text.txt    \n",
      "[25-07-28 09:47:44] 2023_07_HALMA_PLC_text.txt    \n",
      "[25-07-28 09:47:44] 2015_07_IMI_PLC_text.txt      \n",
      "[25-07-28 09:47:44] 2016_07_IMI_PLC_text.txt      \n",
      "[25-07-28 09:47:44] 2017_07_IMI_PLC_text.txt      \n",
      "[25-07-28 09:47:44] 2018_07_IMI_PLC_text.txt      \n",
      "[25-07-28 09:47:44] 2019_07_IMI_PLC_text.txt      \n",
      "[25-07-28 09:47:44] 2020_07_IMI_PLC_text.txt      \n",
      "[25-07-28 09:47:44] 2021_07_IMI_PLC_text.txt      \n",
      "[25-07-28 09:47:44] 2022_07_IMI_PLC_text.txt      \n",
      "[25-07-28 09:47:44] 2023_07_IMI_PLC_text.txt      \n",
      "[25-07-28 09:47:44] 2017_07_INTERTEK_GROUP_PLC_text.txt\n",
      "[25-07-28 09:47:44] 2018_07_INTERTEK_GROUP_PLC_text.txt\n",
      "[25-07-28 09:47:44] 2019_07_INTERTEK_GROUP_PLC_text.txt\n",
      "[25-07-28 09:47:44] 2020_07_INTERTEK_GROUP_PLC_text.txt\n",
      "[25-07-28 09:47:44] 2023_07_INTERTEK_GROUP_PLC_text.txt\n",
      "[25-07-28 09:47:44] 2016_07_MELROSE_INDUSTRIES_PLC_text.txt\n",
      "[25-07-28 09:47:44] 2017_07_MELROSE_INDUSTRIES_PLC_text.txt\n",
      "[25-07-28 09:47:44] 2018_07_MELROSE_INDUSTRIES_PLC_text.txt\n",
      "[25-07-28 09:47:44] 2019_07_MELROSE_INDUSTRIES_PLC_text.txt\n",
      "[25-07-28 09:47:44] 2020_07_MELROSE_INDUSTRIES_PLC_text.txt\n",
      "[25-07-28 09:47:44] 2021_07_MELROSE_INDUSTRIES_PLC_text.txt\n",
      "[25-07-28 09:47:44] 2022_07_MELROSE_INDUSTRIES_PLC_text.txt\n",
      "[25-07-28 09:47:44] 2023_07_MELROSE_INDUSTRIES_PLC_text.txt\n",
      "[25-07-28 09:47:44] 2015_07_RENTOKIL_INITIAL_PLC_text.txt\n",
      "[25-07-28 09:47:44] 2016_07_RENTOKIL_INITIAL_PLC_text.txt\n",
      "[25-07-28 09:47:44] 2017_07_RENTOKIL_INITIAL_PLC_text.txt\n",
      "[25-07-28 09:47:44] 2018_07_RENTOKIL_INITIAL_PLC_text.txt\n",
      "[25-07-28 09:47:44] 2019_07_RENTOKIL_INITIAL_PLC_text.txt\n",
      "[25-07-28 09:47:44] 2020_07_RENTOKIL_INITIAL_PLC_text.txt\n",
      "[25-07-28 09:47:44] 2021_07_RENTOKIL_INITIAL_PLC_text.txt\n",
      "[25-07-28 09:47:44] 2022_07_RENTOKIL_INITIAL_PLC_text.txt\n",
      "[25-07-28 09:47:44] 2023_07_RENTOKIL_INITIAL_PLC_text.txt\n",
      "[25-07-28 09:47:44] 2015_07_SMITH_(DS)_PLC_text.txt\n",
      "[25-07-28 09:47:44] 2016_07_SMITH_(DS)_PLC_text.txt\n",
      "[25-07-28 09:47:44] 2017_07_SMITH_(DS)_PLC_text.txt\n",
      "[25-07-28 09:47:44] 2018_07_SMITH_(DS)_PLC_text.txt\n",
      "[25-07-28 09:47:44] 2019_07_SMITH_(DS)_PLC_text.txt\n",
      "[25-07-28 09:47:44] 2020_07_SMITH_(DS)_PLC_text.txt\n",
      "[25-07-28 09:47:44] 2021_07_SMITH_(DS)_PLC_text.txt\n",
      "[25-07-28 09:47:44] 2023_07_SMITH_(DS)_PLC_text.txt\n",
      "[25-07-28 09:47:44] 2023_07_WISE_PLC_text.txt     \n",
      "[25-07-28 09:47:44] 2018_08_BIG_YELLOW_GROUP_PLC_text.txt\n",
      "[25-07-28 09:47:44] 2019_08_BIG_YELLOW_GROUP_PLC_text.txt\n",
      "[25-07-28 09:47:44] 2020_08_BIG_YELLOW_GROUP_PLC_text.txt\n",
      "[25-07-28 09:47:44] 2021_08_BIG_YELLOW_GROUP_PLC_text.txt\n",
      "[25-07-28 09:47:44] 2015_08_DERWENT_LONDON_PLC_text.txt\n",
      "[25-07-28 09:47:44] 2016_08_DERWENT_LONDON_PLC_text.txt\n",
      "[25-07-28 09:47:44] 2017_08_DERWENT_LONDON_PLC_text.txt\n",
      "[25-07-28 09:47:44] 2019_08_DERWENT_LONDON_PLC_text.txt\n",
      "[25-07-28 09:47:44] 2020_08_DERWENT_LONDON_PLC_text.txt\n",
      "[25-07-28 09:47:44] 2023_08_DERWENT_LONDON_PLC_text.txt\n",
      "[25-07-28 09:47:44] 2015_08_LAND_SECURITIES_GROUP_PLC_text.txt\n",
      "[25-07-28 09:47:44] 2016_08_LAND_SECURITIES_GROUP_PLC_text.txt\n",
      "[25-07-28 09:47:44] 2017_08_LAND_SECURITIES_GROUP_PLC_text.txt\n",
      "[25-07-28 09:47:44] 2019_08_LAND_SECURITIES_GROUP_PLC_text.txt\n",
      "[25-07-28 09:47:44] 2020_08_LAND_SECURITIES_GROUP_PLC_text.txt\n",
      "[25-07-28 09:47:44] 2021_08_LAND_SECURITIES_GROUP_PLC_text.txt\n",
      "[25-07-28 09:47:44] 2023_08_LAND_SECURITIES_GROUP_PLC_text.txt\n",
      "[25-07-28 09:47:44] 2022_08_PRIMARY_HEALTH_PROPERTIES_PLC_text.txt\n",
      "[25-07-28 09:47:44] 2023_08_PRIMARY_HEALTH_PROPERTIES_PLC_text.txt\n",
      "[25-07-28 09:47:44] 2015_08_RIGHTMOVE_PLC_text.txt\n",
      "[25-07-28 09:47:44] 2016_08_RIGHTMOVE_PLC_text.txt\n",
      "[25-07-28 09:47:44] 2017_08_RIGHTMOVE_PLC_text.txt\n",
      "[25-07-28 09:47:44] 2018_08_RIGHTMOVE_PLC_text.txt\n",
      "[25-07-28 09:47:44] 2019_08_RIGHTMOVE_PLC_text.txt\n",
      "[25-07-28 09:47:44] 2020_08_RIGHTMOVE_PLC_text.txt\n",
      "[25-07-28 09:47:44] 2021_08_RIGHTMOVE_PLC_text.txt\n",
      "[25-07-28 09:47:44] 2022_08_RIGHTMOVE_PLC_text.txt\n",
      "[25-07-28 09:47:44] 2023_08_RIGHTMOVE_PLC_text.txt\n",
      "[25-07-28 09:47:44] 2017_08_SEGRO_PLC_text.txt    \n",
      "[25-07-28 09:47:44] 2020_08_SEGRO_PLC_text.txt    \n",
      "[25-07-28 09:47:44] 2022_08_SEGRO_PLC_text.txt    \n",
      "[25-07-28 09:47:44] 2023_08_SEGRO_PLC_text.txt    \n",
      "[25-07-28 09:47:44] 2015_08_SHAFTESBURY_CAPITAL_PLC_text.txt\n",
      "[25-07-28 09:47:44] 2016_08_SHAFTESBURY_CAPITAL_PLC_text.txt\n",
      "[25-07-28 09:47:44] 2017_08_SHAFTESBURY_CAPITAL_PLC_text.txt\n",
      "[25-07-28 09:47:44] 2018_08_SHAFTESBURY_CAPITAL_PLC_text.txt\n",
      "[25-07-28 09:47:44] 2019_08_SHAFTESBURY_CAPITAL_PLC_text.txt\n",
      "[25-07-28 09:47:44] 2020_08_SHAFTESBURY_CAPITAL_PLC_text.txt\n",
      "[25-07-28 09:47:44] 2021_08_SHAFTESBURY_CAPITAL_PLC_text.txt\n",
      "[25-07-28 09:47:44] 2022_08_SHAFTESBURY_CAPITAL_PLC_text.txt\n",
      "[25-07-28 09:47:44] 2023_08_SHAFTESBURY_CAPITAL_PLC_text.txt\n",
      "[25-07-28 09:47:44] 2019_08_TRITAX_BIG_BOX_REIT_PLC_text.txt\n",
      "[25-07-28 09:47:44] 2020_08_TRITAX_BIG_BOX_REIT_PLC_text.txt\n",
      "[25-07-28 09:47:44] 2021_08_TRITAX_BIG_BOX_REIT_PLC_text.txt\n",
      "[25-07-28 09:47:44] 2022_08_TRITAX_BIG_BOX_REIT_PLC_text.txt\n",
      "[25-07-28 09:47:44] 2023_08_TRITAX_BIG_BOX_REIT_PLC_text.txt\n",
      "[25-07-28 09:47:44] 2021_08_UNITE_GROUP_PLC_text.txt\n",
      "[25-07-28 09:47:44] 2022_08_UNITE_GROUP_PLC_text.txt\n",
      "[25-07-28 09:47:44] 2023_08_UNITE_GROUP_PLC_text.txt\n",
      "[25-07-28 09:47:44] 2021_09_ALPHAWAVE_IP_GROUP_PLC_text.txt\n",
      "[25-07-28 09:47:44] 2023_09_ALPHAWAVE_IP_GROUP_PLC_text.txt\n",
      "[25-07-28 09:47:44] 2017_09_AUTO_TRADER_GROUP_PLC_text.txt\n",
      "[25-07-28 09:47:44] 2018_09_AUTO_TRADER_GROUP_PLC_text.txt\n",
      "[25-07-28 09:47:44] 2019_09_AUTO_TRADER_GROUP_PLC_text.txt\n",
      "[25-07-28 09:47:44] 2020_09_AUTO_TRADER_GROUP_PLC_text.txt\n",
      "[25-07-28 09:47:44] 2021_09_AUTO_TRADER_GROUP_PLC_text.txt\n",
      "[25-07-28 09:47:44] 2021_09_BIG_TECHNOLOGIES_PLC_text.txt\n",
      "[25-07-28 09:47:44] 2022_09_BIG_TECHNOLOGIES_PLC_text.txt\n",
      "[25-07-28 09:47:44] 2023_09_BIG_TECHNOLOGIES_PLC_text.txt\n",
      "[25-07-28 09:47:44] 2021_09_BYTES_TECHNOLOGY_GROUP_PLC_text.txt\n",
      "[25-07-28 09:47:44] 2022_09_BYTES_TECHNOLOGY_GROUP_PLC_text.txt\n",
      "[25-07-28 09:47:44] 2023_09_BYTES_TECHNOLOGY_GROUP_PLC_text.txt\n",
      "[25-07-28 09:47:44] 2021_09_COMPUTACENTER_PLC_text.txt\n",
      "[25-07-28 09:47:44] 2022_09_COMPUTACENTER_PLC_text.txt\n",
      "[25-07-28 09:47:44] 2023_09_COMPUTACENTER_PLC_text.txt\n",
      "[25-07-28 09:47:44] 2021_09_DELIVEROO_PLC_text.txt\n",
      "[25-07-28 09:47:44] 2022_09_DELIVEROO_PLC_text.txt\n",
      "[25-07-28 09:47:44] 2023_09_DELIVEROO_PLC_text.txt\n",
      "[25-07-28 09:47:44] 2021_09_SAGE_GROUP_PLC_text.txt\n",
      "[25-07-28 09:47:44] 2022_09_SAGE_GROUP_PLC_text.txt\n",
      "[25-07-28 09:47:44] 2023_09_SAGE_GROUP_PLC_text.txt\n",
      "[25-07-28 09:47:44] 2021_09_TRUSTPILOT_GROUP_PLC_text.txt\n",
      "[25-07-28 09:47:44] 2022_09_TRUSTPILOT_GROUP_PLC_text.txt\n",
      "[25-07-28 09:47:44] 2023_09_TRUSTPILOT_GROUP_PLC_text.txt\n"
     ]
    }
   ],
   "source": [
    "for i_f in trange(len(rtf_files)):\n",
    "    file=rtf_files[i_f]\n",
    "        \n",
    "    # get name for the output\n",
    "    textfile=file2textfile(file)\n",
    "    print(f'[{dt.now():%y-%m-%d %H:%M:%S}] {textfile:30}')\n",
    "    if i_f+1<len(rtf_files):\n",
    "        file1=rtf_files[i_f+1]\n",
    "        textfile1=file2textfile(file1)\n",
    "    else:\n",
    "        textfile1='stocazzo'\n",
    "    if textfile!=textfile1 and not os.path.isfile(TARGET_FOLDER+textfile):\n",
    "        # the second file is the correct one\n",
    "        try:\n",
    "            # extract the text from the .rtf file\n",
    "            long_text=file2text(RTF_FOLDER+file)\n",
    "            with open(TARGET_FOLDER+textfile, 'w+') as f:\n",
    "                f.write(long_text)\n",
    "        except:\n",
    "            _err_msg=traceback.format_exc()\n",
    "            print(f'[{dt.now():%y-%m-%d %H:%M:%S}] {textfile:30}\\tError!')\n",
    "            print(_err_msg)"
   ]
  },
  {
   "cell_type": "markdown",
   "id": "946450fe",
   "metadata": {},
   "source": [
    "# Debug"
   ]
  },
  {
   "cell_type": "markdown",
   "id": "4c471ffd",
   "metadata": {},
   "source": [
    "For some reason, 2018_02_NEXT_PLC_text.txt  and 2021_11_RENEWI_PLC_text.txt are empty! Let's see..."
   ]
  },
  {
   "cell_type": "markdown",
   "id": "405a6136",
   "metadata": {},
   "source": [
    "## NEXT"
   ]
  },
  {
   "cell_type": "code",
   "execution_count": 1,
   "id": "7d328e1b",
   "metadata": {
    "ExecuteTime": {
     "end_time": "2025-05-19T08:47:17.038721Z",
     "start_time": "2025-05-19T08:47:16.561400Z"
    }
   },
   "outputs": [
    {
     "ename": "NameError",
     "evalue": "name 'rtf_files' is not defined",
     "output_type": "error",
     "traceback": [
      "\u001b[0;31m---------------------------------------------------------------------------\u001b[0m",
      "\u001b[0;31mNameError\u001b[0m                                 Traceback (most recent call last)",
      "Cell \u001b[0;32mIn[1], line 1\u001b[0m\n\u001b[0;32m----> 1\u001b[0m \u001b[43mrtf_files\u001b[49m\n",
      "\u001b[0;31mNameError\u001b[0m: name 'rtf_files' is not defined"
     ]
    }
   ],
   "source": [
    "rtf_files"
   ]
  },
  {
   "cell_type": "code",
   "execution_count": 14,
   "id": "29574990",
   "metadata": {
    "ExecuteTime": {
     "end_time": "2025-05-19T08:50:21.563904Z",
     "start_time": "2025-05-19T08:50:21.527064Z"
    }
   },
   "outputs": [
    {
     "data": {
      "application/vnd.jupyter.widget-view+json": {
       "model_id": "",
       "version_major": 2,
       "version_minor": 0
      },
      "text/plain": [
       "  0%|          | 0/592 [00:00<?, ?it/s]"
      ]
     },
     "metadata": {},
     "output_type": "display_data"
    }
   ],
   "source": [
    "for i_f in trange(len(rtf_files)):\n",
    "    file=rtf_files[i_f]\n",
    "        \n",
    "    # get name for the output\n",
    "    textfile=file2textfile(file)\n",
    "    #print(f'[{dt.now():%y-%m-%d %H:%M:%S}] {textfile:30}')\n",
    "    if i_f!=len(rtf_files):\n",
    "        file1=rtf_files[i_f+1]\n",
    "        textfile1=file2textfile(file1)\n",
    "    else:\n",
    "        textfile1='stocazzo'\n",
    "    \n",
    "    if textfile=='2018_02_NEXT_PLC_text.txt':\n",
    "        break"
   ]
  },
  {
   "cell_type": "code",
   "execution_count": 16,
   "id": "5107efc3",
   "metadata": {
    "ExecuteTime": {
     "end_time": "2025-05-19T08:50:42.336185Z",
     "start_time": "2025-05-19T08:50:42.303749Z"
    }
   },
   "outputs": [
    {
     "data": {
      "text/plain": [
       "'2018_02_NEXT_PLC_text.txt'"
      ]
     },
     "execution_count": 16,
     "metadata": {},
     "output_type": "execute_result"
    }
   ],
   "source": [
    "textfile"
   ]
  },
  {
   "cell_type": "code",
   "execution_count": 17,
   "id": "6b17fb5b",
   "metadata": {
    "ExecuteTime": {
     "end_time": "2025-05-19T08:51:22.851836Z",
     "start_time": "2025-05-19T08:50:58.068769Z"
    }
   },
   "outputs": [],
   "source": [
    "long_text=file2text(RTF_FOLDER+file)"
   ]
  },
  {
   "cell_type": "code",
   "execution_count": 18,
   "id": "73875ce9",
   "metadata": {
    "ExecuteTime": {
     "end_time": "2025-05-19T08:51:35.920150Z",
     "start_time": "2025-05-19T08:51:35.907710Z"
    }
   },
   "outputs": [
    {
     "data": {
      "text/plain": [
       "'This report covers the continuing social, ethical and environmental related activities undertaken by NEXT (including all of the NEXT group of companies) during the financial year ending 27 January 2018. The main focus is on our business in the United Kingdom (UK) and Eire which accounted for around 90% of our turnover in the year. Where we state 2018, we are referring to our financial year ending 27 January 2018 and where we state 2017 we refer to our financial year ending 28 January 2017. “Supplier” refers to NEXT directly contracting with a body to provide finished products, materials or services. “Tier 1” refers to the declared production factory where NEXT’s supply contract is assigned and bulk production takes place. The facility is either owned or contracted by the Supplier. “Tier 2” refers to a separate declared factory location which manufactures or processes materials or parts of a finished product. The facility is either contracted by the Supplier or the production factory. “Tier 3” refers to finished raw material suppliers who supply fully finished material components to NEXT’s suppliers or their Tier 1 or 2 facilities. This report is published on our website at www.nextplc.co.uk and is available to employees on our intranet. NEXT is a UK based retailer offering exciting, beautifully designed, wonderful quality clothing, footwear, accessories and homeware. 4.9 million active customers (2017: 4.7 million) * Formerly known as NEXT Directory. At NEXT our corporate responsibility focus this year has been on continuous improvement by pro actively developing and evolving key business-related social, ethical and environmental areas in a way that aims to bring value to all our stakeholders. We recognise that as a global business in the retail sector, our corporate responsibilities touch on some big issues which are significant to how we do business and to how we operate as an employer and supply chain manager. Corporate responsibility is an evolving subject area with new issues constantly emerging. I am pleased to report good progress across our key corporate responsibility areas this year, details of which are provided in this report. As an example, we published our Tier 1 supplier listing for the first time in 2017, in recognition of the importance of driving increased supply chain transparency and building trust with the third parties who manufacture our products. We believe it is essential to work with our product suppliers and ensure clear communication of NEXT’s expectations and policies on important issues such as working practices and modern slavery. Alongside this report, we have published our second Modern Slavery Transparency Statement, which records our progress in areas such as communicating to and training our employees and suppliers, and sets out our 2018 plans. An important element of our ongoing work with suppliers is the role that NEXT’s Code of Practice team (COP) plays. They are directly employed and managed and provide the business with accurate metrics of supplier performance, as well as providing excellent insight into the issues at source and the drivers of non-compliance. Our approach is to implement the United Nations Guiding Principles on Business and Human Rights and we seek to avoid infringing the human rights of others and work to address any adverse human rights impacts we identify. During the year we have also focused on making our operations more efficient whilst fulfilling our responsibility with regard to the environment. This approach has delivered a 4% reduction in the electricity we have used compared with last year, and from April 2017 we switched to 100% renewable electricity. For the year ahead, we are continuing to focus on the natural resources we use and the growing challenges surrounding where and how we source our products; we continue to make good progress in developing greater transparency in this area. Other issues which remain on our corporate responsibility agenda include the impact our business has on climate change, waste and making our use of other carbon impacting resources as efficient as possible. The report contains selected significant data which has been assured by PwC, and their independent limited assurance report can be found on pages 25 to 26. We hope you find this report informative and useful and we welcome your feedback. See page 7 for details about how to contact us. The United Nations Sustainable Development Goals (SDGs) are a collection of global goals which cover a broad range of social and economic development issues. They are set through to 2030 and the initiatives aim to end poverty, promote equality and wellbeing and preserve the environment. NEXT has a role to play in reaching these goals and communicating our performance against them through our own direct actions and through collaboration with others, such as becoming a signatory to the British Retail Consortium’s “Better Retail, Better World” Initiative which launched in March 2018 and which has initially set industry goals to 2020. There are a total of 17 global goals; NEXT has chosen to focus our reporting against the SDGs that are most material to our business operations and the products we sell. These are the goals where we have the greatest opportunity to contribute and to build upon the work we have been doing for some years. Within our supply chain gender equality is a fundamental human right. For example, NEXT supports KADAV, a non-government organisation (NGO) based in Istanbul, Turkey, which works with predominantly Syrian women to provide them with access to childcare, Turkish language lessons, vocational training and social support| |\\ud83d\\uddf8|\\ud83d\\uddf8|NEXT is currently a member of the Ethical Trading Initiative (ETI), Bangladesh Accord and ACT (Action, Collaboration and Transformation). ACT is an initiative of brands, retailers and manufacturers working collaboratively to improve wages in Cambodia NEXT is committed to respecting internationally recognised human rights, ensuring the people who provide the products and services we buy and use are treated fairly, and that their fundamental human rights are protected and respected. NEXT does not tolerate any form of modern slavery, human trafficking, forced or child labour in relation to any individual working for our suppliers, business partners or within our group of companies. These areas are where we can exert influence for positive change and monitor progress. To find out more about our approach please see Human Rights and Modern Slavery and Our Suppliers. NEXT has a responsibility to work to reduce the direct impact of its business operations on the natural environment. Our priority is to minimise our impact on the environment by reducing the carbon intensity of our activities and the natural resources we use, as land and fossil fuels are finite resources and water will become increasingly scarce. We use a large variety of raw materials and our aim is to ensure they are sourced and produced sustainably and responsibly and to consider how we can encourage reuse. The way we understand our environmental impacts has developed over the years and today we report on our performance in three ways: climate change, waste, and resource use. We are aware of the Financial Stability Board’s Taskforce on Climate-Related Financial Disclosures voluntary guidelines launched in 2017 and will review their impact within our CDP (Carbon Disclosure Project) submission over the coming year. To find out more about our approach please see Our Customers and Products and Environment. NEXT is committed to the principles of responsible business by addressing key business related social, ethical and environmental matters in a way that aims to bring value to all our stakeholders. NEXT is listed in the FTSE4Good Index. The index is designed to measure the performance of companies demonstrating strong environmental, social and governance practices. NEXT   successfully   achieved re-certification of the Carbon Trust Standard in 2017 for measuring, managing and reducing its carbon emissions. Any instance of forced labour is unacceptable. Respect for human rights is a fundamental part of how NEXT operates as a responsible business Identification of our salient human rights issues (i.e. the human rights at risk of the most severe negative impact through the Company’s activities and business relationships) Our employees are integral to achieving our business objectives, we believe engaged employees are vital to achieving our aims and we recognise helping with their health and wellbeing is a priority. We strive to create a workplace in which everyone is treated with dignity and respect 6.1 million NEXT plc shares Reducing emissions is the right thing for us as a responsible business to do. We are working to create more sustainable ways of doing business whilst continuing to reduce our operational carbon footprint and helping to deliver better resource efficiency Charitable donations over £3.6m This report covers the issues we recognise as being the most important to our business and are of principal concern to our stakeholders. A wide range of social, ethical and environmental issues can have an impact on the NEXT business. Through feedback from stakeholders, including our internal teams whose role is to recognise emerging issues, we identify and work to address these key challenges. Stakeholder engagement is important to us, both formally through meetings and  informally  through  requests for information and monitoring emerging issues. NEXT has determined materiality as the threshold at which environmental, social, economic and governance related issues become sufficiently important that they should be included within this report. This threshold is determined by understanding: For further information on certain areas of this report, you will find references and links to focus updates at the end of each section. These focus updates are located on our corporate website at www.nextplc.co.uk. PwC has been commissioned to provide independent assurance in accordance with the ISAE 3000 (Revised) and ISAE 3410 Assurance Standards. A copy of their report is on pages 25 and 26. Where you see the symbol has been assured by PwC. the data responsibility for all corporate responsibility matters, including human rights and modern slavery. She receives regular updates from the Corporate Responsibility Manager. Regular updates are also provided to the Audit Committee. In addition, the Global Code of Practice Manager provides monthly updates to the Product teams and at least annually to the Audit Committee, reporting on the performance of our global supply chain as measured against our Code of Practice Principle Standards (as detailed in ‘Our Suppliers’). The NEXT Risk Management and Internal Controls framework is embedded throughout the business. This process ensures that all corporate responsibility risks throughout the business are identified, considered and managed as appropriate. Where relevant, specific identified corporate responsibility risks are considered and managed as part of NEXT’s principal risks. NEXT’s principal risks are detailed in the Strategic Report section of our latest annual report and accounts. We had no environmental or health and safety prosecutions during the year and no work-related fatalities. For further information on this please refer to: www.nextplc.co.uk/corporate-responsibility We welcome your comments and feedback on our corporate responsibility performance. Contact us via: Our corporate website at www.nextplc.co.uk/contact-us ; or Any instance of forced labour is unacceptable. Respect for human rights is a fundamental part of how NEXT operates as a responsible business. It is a priority for NEXT to ensure we trade ethically, source responsibly and work to prevent modern slavery and human rights issues throughout our organisation and in our supply chain. Using the UNGP Reporting Framework we combine the knowledge and experience we gain from working with our global supply chain and business partners, together with learnings from affected stakeholders and NGOs, to look at our business through a “salience lens”. This helps us to assess the greatest risks to people. To see a copy of the NEXT Human Rights and Modern Slavery Policy and the latest Modern Slavery Transparency Statement go to www.nextplc.co.uk. Human rights issues do occur in our supply chain, however our robust due diligence processes help to uncover human rights issues. Certain groups such as women and migrant workers, are more vulnerable and are at greater risk of being exploited. Human rights issues will continue to evolve over time so it is important we continue to refine our approach. Our Modern Slavery Steering Group meets regularly to develop and co- ordinate actions across the business. Having our own in-country COP employees provides significant benefits to NEXT as it builds internal knowledge which we are able to share with the wider team and means we are not reliant on third-party auditors. We  recognise  the  importance of regularly reviewing our COP processes and procedures to ensure we integrate indicators for new or emerging issues within our audits and provide training where required. We continue to develop our COP team’s skills to support the challenges we are encountering. Supporting the development of independent in-country channels of communication to hear from workers is paramount. Our COP teams work closely with a number of NGOs and trade unions in our sourcing countries. These relationships assist us to identify issues and find appropriate responses as well as working to find ways to guarantee the right to freedom of association as workers need to be able voice their concerns without fear of retaliation. Factories with good worker-management relations benefit from improved worker morale and productivity. An in-depth understanding of issues is imperative to ensure actions address the root cause and create lasting change. This can be achieved through conversations with impacted stakeholders who are directly affected, and the wider stakeholder community. We believe it is important to be transparent particularly where we are finding it challenging to create positive change. The issues we encounter are present across our industry and through our collaborative approach we will continue to increase both transparency and our overall understanding of issues. Our approach to human rights issues supports the UNGP Reporting Framework. We have started to extend our COP work further into our product supply chain and recognise we need to continue to develop this. Since launching our Human Rights and Modern Slavery Policy and releasing our first Modern Slavery Transparency Statement in 2017, we have continued to develop our governance policies, understand our risk profile, improve our supply chain transparency and provide awareness training. Published our Tier 1 factory list of third parties who supply NEXT products on our corporate website at www.nextplc.co.uk Embedding respect for and understanding of human rights across our business is a key priority. We will continue practices that work and identify new ways of doing this, including: We have assessed why we believe they are salient issues for our business, who the potentially affected stakeholders are and what action we are taking. Find out more about our Salient Human Rights Issues. This report aims to align with the UN Guiding Principles Reporting Framework. The Reporting Index is designed to identify how and where the framework disclosures are addressed, refer to UN Guiding Principles Reporting Framework Index. It is a key priority for NEXT to ensure we trade ethically, source responsibly and work to assure the safety and human rights of the workers within our product global supply chain and service suppliers’ global operations. 1.3 million people working within our supply chain at Tier 1 sites (2017: 1.1 million) Our COP Principle Standards is our ethical trading programme which forms an integral part of our business. It sets out the minimum standards and requirements for our product suppliers in relation to workers’ safety and human rights, employment and working conditions. Before production can commence we specify our requirements that serve to provide workers with a safe and healthy environment, in accordance with all relevant local and international laws and legislation. We are committed to taking all reasonable and practical steps to ensure NEXT product is made by workers who are treated honestly and fairly for the work they do and whose human rights and wellbeing are respected. Our Principle Standards are aligned to the Ethical Trading Initiative (ETI) Base Code and reflect the most relevant international standards with respect to labour practices (as set out in the International Labour Organisation Conventions). Implementation of and compliance with our Principle Standards is measured through our Auditing Standards and is a condition of business for all suppliers. Our Auditing Standards, developed to support our overarching Principle Standards, provide detailed information to help our suppliers fulfil their obligations to their workers and NEXT. During 2018 we will be undertaking a review of our Auditing Standards to ensure they clearly reflect our requirements and support our suppliers and their factories to operate safely and protect their workers. For a full copy of the Principle Standards and the Auditing Standards see our corporate website: www.nextplc.co.uk. Traceability and visibility of our supply chain is a key priority for NEXT. Suppliers are contractually required to declare to NEXT all Tier 1 and 2 sites where NEXT branded products or components will be manufactured. This helps to ensure the facility is audited and meets our requirements. In addition, during 2017, we published for the first time, our Tier 1 list of manufacturing sites at www.nextplc.co.uk. We aim to update the listing twice per year. NEXT has been a voluntary signatory to the Prompt Payment Code since 2012. In accordance with the new legislation, we will be publishing our first annual payment performance data later in 2018. During the year we audited 93% of the factories manufacturing NEXT branded products, with some sites requiring follow up visits to review progress against agreed action plans or support with training. We have also continued to audit Tier 2 factories and have started to undertake audits on some of our largest Tier 3 fabric and yarn suppliers as we further develop the transparency of our supply chain. Our COP team work closely and directly with both our new and existing suppliers and their factories to ensure they understand our requirements. Our auditing process is a vital due diligence tool for us. It delivers assurance that our suppliers and their factories understand their responsibility to comply with our ethical standards. At the same time, our strategy is built on investing time, resources and support through effective communication and working collaboratively with our suppliers. As we carry out our own audits, before an audit takes place, we are able to fully explain our requirements, the audit process and our factory rating system. We emphasise to factory management that they will ultimately achieve a better rating by being honest and transparent about how their business is conducted. We have been able to uncover a number of important issues through this approach of encouraging factory management to show us their accurate records, rather than what they think we want to see. We seek to conduct all our audits on an unannounced basis as this means we are more likely to see the true picture in a factory. Our approach, in line with recommendations by those with relevant expertise such as the ETI, is to work with factories to bring them up to our standards rather than walk away and terminate a relationship, as this delivers a better outcome for workers. Factory audit ratings are used as an internal metric by our product teams to ensure future contractual decisions are based on current and accurate information. 93% of NEXT production (by value) is in factories which have achieved an acceptable rating of 1-3; with the remaining 7% being made in factories rated 4-6. These poorer rated factories are being closely managed through repeat visits to assess progress as measured against agreed action plans and timescales. During the year we introduced unauthorised subcontracting as a major non-compliance indicator, as one of our priorities is to have better traceability of where our products are being made. Suppliers are contractually required to provide details of any sub-contractors being used to enable our COP team to audit the facility. We disengaged with 45 factories during the year (2017: 41) that failed our audit process or refused to satisfactorily rectify their major non-compliance with our Code. Our priority is to support factories to resolve issues, but we will not continue to work with them indefinitely if there is no willingness on their part to improve. Our aim is to ensure new suppliers understand our requirements before they commence working with NEXT and existing suppliers take responsibility for maintaining compliance within all their production locations. Find out more about our auditing approach. It is important and valuable to work with others to develop solutions for some of the more complex and systemic problems found within global supply chains. We believe that by maintaining strong direct relationships and undertaking collaborative work (such as sharing information and resources with other retailers, brands, trade unions and NGOs) we are all able to work together in partnership to deliver real benefits to workers in our supply chains. This includes our work within communities where we support projects with a particular focus on women and children, as these are often the most vulnerable members of society. Find out more about our collaborative work. Product Supplier Communication: It is important to work closely with our suppliers and their factories to help them develop their business to be compliant with our requirements, understand the value and benefits of working ethically and benefit from the implementation of sustainable improvements. Find out more about how we communicate with our suppliers. Internal Communication: Our product teams are vital to the success and effectiveness of managing the ethical standards we expect from our suppliers. An integral part of the Buying Academy, attended by all new product team members when they join NEXT, is our ethical training programme. This, alongside other presentations, raises awareness and understanding of ethical issues and current risks and also serves to reinforce to our product teams the impact buying decisions can have on suppliers. Find out more about how we communicate internally. Our commitment is to offer exciting beautifully designed, wonderful quality products that are well made, functional, safe, sourced responsibly and which provide outstanding value to meet or exceed our customers’ expectations. 4.9 million active global Online customers Working closely with our buyers, designers and suppliers, our team of specialist technologists is responsible for ensuring all products sold by NEXT are safe and comply with relevant legislation. They are responsible for ensuring our suppliers meet the required safety and performance standards detailed in our product specific technical manuals. Where necessary, we work with and use the expertise of independent safety specialists to ensure the products we sell achieve the required standards. Suppliers to NEXT have direct access via our online supplier portal to our full range of technical manuals and quality, safety, ethical and responsible sourcing standards and requirements. In order to have visibility and monitor the development of both new legislation and changes to existing legislation at a United Kingdom, European and global level, we work closely with trade associations, British Standards and government departments. We also contribute to and support legislation development by giving our views and ideas. We are members of various industry committees and groups, such as the British Standards Institute Technical Committees and the British Retail Consortium Member Groups. Through these we are able to participate with other stakeholders in policy debates, to contribute to their development and ensure NEXT product is compliant with relevant legislation. NEXT has also commenced work with the third-party brands we sell via LABEL to ensure all product offered for sale is safe for the intended end use. We require brands to be able to demonstrate compliance with all applicable legislation and standards through risk assessment, certification and testing as well as being able to show the product has been sourced from factories which are compliant with the ETI Base Code. However  our  customers  choose to shop with NEXT, we must be welcoming, safe and accessible to all. Maintaining good relationships with our customers, who demand value for money with no compromise on the product choice, quality and service, continues to be a key priority for the business. Customers contact us to resolve queries and issues in relation to our products, operations, policies or the service we provide and we believe that we have robust procedures in place to monitor, evaluate and respond to customer feedback where necessary. With an estimated 14 million1 disabled people living in the UK. During 2018 we will undertake an access review of our stores and are working with Disabled Go, the UK’s leading provider of access information for people with access requirements. Our aim is to create a tailored Access Guide for each store, with photographs and measurements to help people plan their visit to us. The guides will be available in the Store Locator section of our website and also on Disabled Go’s website. The Customer Services team works closely with relevant departments (often including senior management) to ensure customers’ enquiries and issues are fed back to the business. Teams can use this information alongside other data, such as returns information, to review how a product or service can be improved or identify possible problems that require further investigation. We undertake a comprehensive programme of market research and direct customer contact to measure what our customers think of NEXT and to better understand and respond to their needs and opinions. We conduct interviews and gather feedback through customer satisfaction surveys and we also carry out accompanied store visits and run discussion groups. During the year we launched a new online survey, Next Loves to Listen. This is available to every customer who visits a NEXT store, giving them an opportunity to feedback on their experience. Early indications are that our customers like this new way of communicating with us. The feedback they provide helps us to improve our in-store experience to ensure we are continuously reviewing and improving our customer experience. This programme has replaced the customer experience store visits we ran until October 2017. Using all of the information gathered through these different programmes our management teams review, develop and improve our overall customer experience, and we continue to work to achieve our aim of meeting or exceeding our customers’ expectations. We use a large variety of raw materials in our products and in order to ensure they are produced sustainably and responsibly we are committed to tracing them back to source. The complexity of supply chains means traceability can be challenging and we are working to understand where the principal raw materials used in our products come from. Our main raw materials are cotton, wool, cellulosics (such as viscose), leather and timber and these can have wide ranging environmental and social risks associated with their production and extraction. Working with our buyers and suppliers, we are mapping our supply chain to ensure we have traceable and well-managed suppliers which enables us to source products in a way which does not harm ecosystems and respects human rights. Our ambition is to map our supply chain back to source by 2020; we have made good progress and will report on this more fully in future reports. NEXT is mindful of the environmental issues being raised regarding various plastics which can be found in NEXT products and packaging and their potential impacts on both marine life and waste. From July 2014, ahead of legislation, we removed plastic microbeads from all NEXT branded products. In 2016, research was made available outlining the environmental challenges with other plastics including microfibres being found in the marine environment. During 2017, NEXT joined the Outdoor Industry Microfibre Consortium as we believe collaboration will be required to develop good, robust solutions. In 2017 and into 2018, NGOs, government and the media have continued to raise concerns and challenges around single use plastics and packaging and NEXT will remain focussed on this important area. Find out more about how we are working to source responsibly. It is essential all our products are safe to use, have been made in a safe environment and are fit for purpose. Our product safety standards are based on legislation and compliance requirements to satisfy our customers’ expectations. Technologists in our Product teams work closely with our suppliers to provide expert guidance to ensure the right materials are chosen to manufacture high quality, durable products in factories with robust product safety processes. Our technical team comprises over 150 global employees, with technologists from Head Office and our global sourcing offices visiting our suppliers to ensure our sourcing and production standards are being met. All products are inspected upon receipt into our UK warehouse to ensure they meet our business requirements. All our products contain chemicals in one form or another. Whilst the majority of chemicals are harmless, it remains a key area of focus that our products do not contain chemicals which could be harmful to our customers, the workers who make our products or the environment. This is not only important in the countries where our products are made, but also where they are sold and eventually disposed of when the customer no longer wants them. Therefore, NEXT has strict Restricted Substance Standards (RSS) which state the limits for harmful chemicals used in or during the manufacture of our products. The RSS forms part of our technical requirements for the products manufactured by our suppliers. Find out more about how we work to ensure our products are safe. Home products such as mattresses, sofas and furniture can be a difficult waste stream for our customers to manage when they no longer want them, with many products going unnecessarily to landfill. NEXT has identified opportunities to help our customers by partnering with different charitable organisations to provide solutions. Find out more about our recycling solutions. Our employees are integral to achieving our business objectives, we believe engaged employees are vital to achieving our aims and we recognise that helping to support their health and wellbeing is a priority. We strive to create a workplace in which everyone is treated with dignity and respect. Around 10,000 employees held options or awards in over 6.1 million NEXT plc shares To encourage a successful business, it is important to create an environment that enables us to attract and retain the right people to work at every level throughout NEXT. These are people who are committed to working together and who support our business approach of honesty, respect and encouragement. Our employees are key to achieving the business objectives and working at NEXT means working in an inspiring, fast paced, exciting and developing environment. NEXT has established policies for recruitment, diversity and equal opportunities, training and development. Our priority is to provide a working environment in which our employees can develop to achieve their full potential, both professionally and personally. We aim to invest time and resource to support, engage and motivate our employees so they feel valued, are able to develop rewarding careers and want to stay with us. We recruit and promote from within wherever possible. We are committed to achieving excellence in the areas of health and safety, welfare and the protection of employees within their working environment. As our business continues to develop, by retaining and inspiring effective and committed employees we can continue to deliver wonderful quality products and excellent service to our customers. NEXT is an equal opportunities employer and will continue to ensure it offers career opportunities without discrimination. Full consideration is given to applicants for employment from disabled persons, having regard to their particular aptitudes and abilities. NEXT continues the employment wherever possible of any person who becomes disabled during their employment with us, and opportunities for training, career development and promotion do not operate to the detriment of disabled employees. Employment positions throughout the Company are filled with the candidates who possess the most appropriate skills and competencies relevant for the particular job role. NEXT’s policy is to treat all employees fairly and equally regardless of gender, sexual orientation, marital status, race, colour, nationality, religion, ethnic or national origin, age, disability or union membership status. Although we do not set specific targets for diversity, women currently represent 44% of our Board and 47% of our senior leadership team. NEXT was ranked first in the 2017 Hampton-Alexander Review “FTSE Women Leaders: Improving gender balance in FTSE leadership”. NEXT has implemented the UK’s auto enrolment pension scheme. This is provided by The Peoples’ Pension/ B&CE. At January 2018 15,413 (2017: 15,033) employees  were  participating  in the Group’s auto enrolment defined contribution scheme. We believe in rewarding all employees with fair and competitive salaries, along with the opportunity to gain additional pay in the form of a bonus depending on the Company (or in some cases store or individual) performance. NEXT has operated a Sharesave scheme for many years. All UK & Eire employees have the opportunity to save money over three or five years to buy NEXT plc shares at a discounted price. At the end of the savings period the participant has the opportunity to buy the shares at a price fixed at the start of the scheme, usually at a 20% discount to the share price at the time of grant. At January 2018 there were around 10,000 employees participating in our Sharesave scheme. A scheme that is available to all UK based employees and allows people paid through PAYE to make tax efficient donations to any UK registered charity. During the year our employees donated over £75,000 to charities of their choice. Our architect designed and purpose built, state of the art Head Office Child Care Nursery called “NEXT Steps” continues to go from strength to strength. This is part of our on-going commitment to supporting our employees with their pre-school childcare arrangements. The nursery was registered by Ofsted in October 2013, and during November 2017 received an unannounced Ofsted visit and achieved an “Outstanding” rating. It currently has over 230 children registered to attend. As required, the nursery is run in accordance with all Ofsted Early Years Foundation Stage and safeguarding requirements, and accidents are recorded and reported through standard NEXT procedures. Sustainability is a key feature of the nursery’s design. Features such as photovoltaic cells on the roof, rainwater harvesting, underfloor heating, extensive natural ventilation and point of use water heating have all provided a highly efficient building. A self-contained water treatment plant recycles waste water and feeds it back into the main water network. The nursery is fitted with an intelligent Building Management System which is split into zones and allows for greater control of the use of resources to ensure efficiency. NEXT reviews its Company safety statement and safety objectives every three years; these have been revised and updated for 2018. Our safety programme for 2018-2020 focuses on four priorities: Our goal is to make NEXT a healthier and safer place for everyone and we understand that there is nothing we do that is worth anyone getting hurt for. We therefore expect our people to manage all aspects of our business safely. As well as focusing on health and safety from a risk and compliance perspective, we also recognise that there are broad overlaps between health, safety and wellbeing including mental health. During 2017, NEXT launched a mental health programme designed to raise awareness and provide focused training to help employees recognise potential signs of mental ill health and work to eliminate the stigma which can be linked to mental health issues. We  report  work-related  accidents in accordance with the Reporting of Injuries, Diseases and Dangerous Occurrence Regulations (RIDDOR) per 100,000 hours worked for employee accidents, and per 100,000 transactions for customer accidents. Retail Stores: During the year we completed safety responsibility awareness training with our Retail store managers around the importance of investigating and reporting all accidents, however minor. This is in-line with our ethos of learning from every incident or near miss in order to reduce the risk of more serious events. In addition, we have analysed our accident trends to identify areas of opportunity, for example identifying the stores with the greatest number of accidents involving children or our older customers to understand how we can work to reduce these. We have also undertaken a review of all property with external cladding to ensure it does not create an unacceptable level of fire risk. Warehouses and Regional Service Centres: From a health and safety perspective, the risks and challenges in the two environments are quite different. Our warehouses are highly automated and primarily reliant on our team of expert engineers to ensure they run smoothly and safely, whilst our Regional Service Centres are more traditional warehousing operations where the key risks relate to workplace transport, MHE (Material Handling Equipment) movement as well as manual handling. Following a trial in 2016, during 2017 we successfully implemented “Safety Conversations”, a safety improvement scheme which has the simple objective of understanding how work is actually carried out to ensure the safety needs of those doing the work are met. Head Office and Call Centres: The number and type of accidents we experience at our Head Office and Call Centre operations are as would be expected of a low risk office environment. The total number of accidents remains low under RIDDOR, with three reportable accidents across both operations during the year. Employees in Retail Stores / 100,000 hours worked|A|0.22|0.25| Customers in Retail Stores / 100,000 transactions**|A|0.02|0.02| Employees in Warehouses / 100,000 hours worked|A|0.43|0.38| Employees in Regional Service Centres / 100,000 hours worked|A|0.39|0.71| **The transaction data includes customer parcel collections where a customer collects an Online order from a Retail store. NEXT remains committed to providing a safe and healthy environment for our employees, customers, third-party contractors and visitors. We comply with our legal obligations and embrace the spirit of health and safety legislation, associated codes of practice and other relevant standards. It is important to understand we are all responsible for the health and safety of those around us. This means taking practical steps to ensure our products, services and operations do not harm or pose an unacceptable risk to the health and safety of anyone affected by our activities. Find out more about how we manage health, safety and wellbeing. We offer a wide range of training and development opportunities for our employees across the business. We believe that offering the right learning and development opportunities will help to ensure our employees feel supported and equipped to carry out their role to the best of their ability and manage the needs and challenges of the business. Our employees are able to access a range of development tools or job specific training appropriate to their needs through the focused and integrated training teams within each area of the business, whether they work at Head Office, in our Retail stores, Online operations or in our warehouses. Throughout the business we have democratically elected employee representatives who represent their colleagues’ views in employee forums and meeting with senior managers and Board directors at least twice a year. These forums provide two way communication and consultation across the business, enabling and encouraging open discussion about key business issues that may affect them and the working environment. Find out more about how we train, develop and listen to our people. Reducing emissions is the right thing for us as a responsible business to do. We are working to create more sustainable ways of doing business whilst continuing to reduce our operational carbon footprint and helping deliver better resource efficiency. NEXT is working to reduce the direct impact of its business operations on the natural environment, both now and in the future. Our aim is to work to create more sustainable ways of doing business to conserve energy, save money and help to deliver better resource efficiency. NEXT remains committed to minimising our environmental impacts by reducing both the carbon intensity of our activities and the natural resources we use, through the development and operation of good business practices to manage resources more efficiently throughout their lifecycle. These key operational activities are environmentally significant for NEXT and we continue to explore opportunities to manage the environmental impacts from our direct operations. We have commitments to reduce energy and natural resource use, to find the most efficient way to distribute our products and to manage our waste. From April 2017, we started to purchase 100% renewable electricity for our UK operations and will continue with this approach going forward. The supply is backed by the Renewable Energy Guarantees of Origin (REGO), which means a proportion of our suppliers certified renewable energy is ring-fenced for us. In addition, as a business with a global product supply chain, we work with our suppliers to reduce the environmental impacts of the products we sell as well as offering services for customers that make use of their products when they are no longer useful to them. Climate change is widely regarded as one of the greatest global environmental challenges society faces and we take our responsibilities in this area seriously. Our aim is to make our operations more efficient and work to reduce our impact through, for example, reducing energy consumption and waste. In order to help us understand the impact of our direct business we measure our global carbon footprint produced from the operational activities of NEXT where we have direct control. The diagram in our Reporting Principles document details the scope of our direct carbon footprint and our approach for reporting. We measure and report our impacts where we either have direct control or significant influence across Scopes 1, 2 and 3. Scope 1 – Direct emissions (gas, owned distribution  vehicles,  company  cars,| Tonnes|% change| refrigerant losses, diesel oil)|Scope 1 A|48,163|52,901|-9.0%| In addition, we measure the emissions associated with other areas in the business such as inbound freight, from our suppliers to a NEXT warehouse in the UK and packaging used on our products. This information is used to identify whether business efficiencies can be made. 20,516 tonnes CO2e(2017: 18,957 tonnes CO2e). We will continue to measure the impact of this part of the business. It is challenging to reduce the impact as we are reliant on using third- party transport to deliver to our global customers, but we will investigate opportunities wherever possible. Our global direct carbon footprint is measured in carbon dioxide equivalent or CO2e. Different greenhouse gases have different effects on the climate and CO2e is a way of standardising the measurement of the global warming effect of these emissions. Emissions have been calculated using revised conversion factors published by the Department for Business, Energy and Industrial Strategy (BEIS) and the Department for Environment, Food and Rural Affairs (DEFRA) in 2017. -12% reduction on the previous year. Electricity consumption has decreased by -4% compared with 2017, whilst our total floor space across the business has increased by +3%. -31%* reduction in kg CO2e/m2 that we introduced our own carbon reduction targets. * 22% of this reduction is attributable to the improvement in emission factor provided by DEFRA. 0.2%|Gas usage kWh|43,741,449|48,957,815|-11%| Our priority is to work to improve energy efficiency as this reduces both costs and carbon emissions for our business. To be able to manage and work to reduce our energy consumption it is vital that we are able to measure our performance across both electricity and gas within our operations. Find out more about how we manage energy efficiency. The transport and distribution of products to NEXT Retail stores and NEXT Online customers accounts for 29% of our CO2e emissions. Our aim is to use our vehicles as efficiently as possible to deliver our products to stores or our customers’ homes and help to manage our transport related emissions. Find out more about how we manage distribution efficiency. Tonnes|% change| We have been working with our new waste provider since 2016 and, as planned, we have been able to increase our diverted from landfill percentage to 90%. We remain committed to working to reduce, wherever possible, the amount of waste we generate from within our operations even where we continue to grow, and to reuse or recycle more of the waste we do produce to divert it from landfill. We opened an in-house operational recycling centre in December 2008 located at one of our warehouses. Materials for recycling are received from across the whole UK business. Demand for water already exceeds supply in many parts of the world, including parts of the UK, and it is anticipated many more areas will experience this issue in the future. For NEXT, our direct operation is not a major consumer of water and during 2017 we used 313,813m3 (2017: 311,159m3) in our UK and Eire operations. We control our consumption through our facilities, equipment and technologies, and by involving employees in promoting efficient use. In our extended supply chain, operations such as laundries, mills and tanneries use large quantities of water so responsible water management is vital to ensure there is sufficient safe clean water for the communities to use. Find out more about how we manage waste, recycling and water use. Our approach is to make a difference and we believe we are able to able to make an impact by working with a wide group of charities and organisations. Charitable donations with a value of over £3.6 million To ensure we can measure and monitor our overall community investment, we calculate the value of our non-financial contributions from products donated by the business. This figure is added to our financial contributions, to arrive at a total sum contributed for the year. Commercial support and sponsorship- we offer commercial support and sponsorship to a small number of organisations. We also support local sporting teams of all ages, especially where there is direct employee involvement with the team As part of our target to divert our waste from landfill, we continue with our approach of identifying and diverting products which previously may have been disposed of via landfill and offer them for reuse to a group of registered charities and social enterprise organisations who are able to reuse and recirculate products and materials as well as create value from the products to benefit their aims. One of our key partners is Doncaster Refurnish, a social enterprise charity, which is located near to our warehouses. We have worked in partnership to support their valuable work in the community for ten years. Their aims are to help the community around Doncaster by turning waste into jobs, employability and educational opportunities. Through NEXT’s donation of unsellable, damaged furniture and home accessories, Refurnish has been able to generate over £0.5 million to provide much needed services in the community with the additional benefit of diverting 517 tonnes of product we were unable to sell for reuse. As well as creating full-time employment for over 60 people, Refurnish encourages volunteering and work placements for people of all ages and backgrounds, and during the year has been able to support in excess of 200 training work placements. People with learning difficulties and disabilities and the long term unemployed all benefit from becoming engaged within the project to help them achieve their aspirations, learn new skills and develop new knowledge and confidence. If you would like to find out more about the work Doncaster Refurnish undertake, please go to: www.refurnish.co.uk. NEXT continues to support and encourage our customers to reduce the use of single-use carrier bags by using the most appropriate size of bag for their purchase or placing the purchase in the customer’s own bag. Customers who purchased bags in our stores in England, Scotland and Wales helped to raise over £1 million during the year. This has been shared between a number of charities across the three countries supporting both environmental charities and health charities, who focus on care for life-limited children, young people and their families. In Northern Ireland, the monies raised are paid to the Government who use the proceeds to fund environmental projects. Find out more at www.nextplc.co.uk/corporate- responsibility/carrier-bag-charging. The Board of directors of NEXT plc (“NEXT”) engaged us to provide limited assurance on the information described below and set out in NEXT’s Corporate Responsibility Report for the year ending 27 January 2018 (the “CR Report”). Based on the procedures we have performed and the evidence we have obtained, nothing has come to our attention that causes us to believe that the Selected Information for the year ending 27 January 2018 has not been prepared, in all material respects, in accordance with the Reporting Criteria. This conclusion is to be read in the context of what we say in the remainder of our report. The scope of our work was limited to assurance over the information marked with the symbol Information”). The Selected Information is summarised below: in the CR Report (the “Selected We assessed the Selected Information using NEXT’s “Reporting Principles, Criteria and Methodologies” online document* (the “Reporting Criteria”) at www.nextplc.co.uk/corporate-responsibility. Our assurance does not extend to information in respect of earlier periods or to any other information included in the CR Report. We performed a limited assurance engagement in accordance with the International Standard on Assurance Engagements 3000 (Revised) “Assurance Engagements other than Audits and Reviews of Historical Financial Information” and, in respect of the greenhouse gas emissions, in accordance with the International Standard on Assurance Engagements 3410 “Assurance Engagements on Greenhouse Gas Statements”, issued by the International Auditing and Assurance Standards Board. A limited assurance engagement is substantially less in scope than a reasonable assurance engagement in relation to both the risk assessment procedures, including an understanding of internal control, and the procedures performed in response to the assessed risks. We applied the Institute of Chartered Accountants in England and Wales (ICAEW) Code of Ethics, which includes independence and other requirements founded on fundamental principles of integrity, objectivity, professional competence and due care, confidentiality and professional behaviour. We apply the International Standard on Quality Control (UK) 1 and accordingly maintain a comprehensive system of quality control including documented policies and procedures regarding compliance with ethical requirements, professional standards and applicable legal and regulatory requirements. Our work was carried out by an independent team with experience in sustainability reporting and assurance. * The maintenance and integrity of NEXT’s website is the responsibility of the directors; the work carried out by us does not involve consideration of these matters and, accordingly, we accept no responsibility for any changes that may have occurred to the reported Selected Information or Reporting Criteria when presented on NEXT’s website. The Selected Information needs to be read and understood together with the Reporting Criteria, which NEXT is solely responsible for selecting and applying. The absence of a significant body of established practice on which to draw to evaluate and measure non-financial information allows for different, but acceptable, measurement techniques and can affect comparability between entities and over time. The Reporting Criteria used for the reporting of the Selected Information are as at 27 January 2018. We are required to plan and perform our work in order to consider the risk of material misstatement of the Selected Information. In doing so, we: made enquiries of NEXT’s management, including the Corporate Responsibility (CR) team and those with responsibility for CR management and group CR reporting; evaluated the design of the key structures, systems, processes and controls for managing, recording and reporting the Selected Information. This included visits to the warehousing central offices, distribution central offices and the corporate head office to understand the key processes and controls for reporting performance data to the Corporate Responsibility team; re-performed the calculation to convert underlying activity data into carbon dioxide equivalent emissions; considered the disclosure and presentation of the Selected Information; reviewed the Reporting Criteria to ensure assumptions and judgements have been clearly disclosed; and communicated findings and recommendations in a report to senior management. We have not performed any assurance procedures over the gathering and processing of data by third-party providers of distribution services. The directors of NEXT are responsible for: designing, implementing and maintaining internal controls over information relevant to the preparation of the Selected Information that is free from material misstatement, whether due to fraud or error; establishing objective Reporting Criteria for preparing the Selected Information; measuring and reporting the Selected Information based on the Reporting Criteria; and the content of the CR Report. We are responsible for: planning and performing the engagement to obtain limited assurance about whether the Selected Information is free from material misstatement, whether due to fraud or error; forming an independent conclusion, based on the procedures we have performed and the evidence we have obtained; and reporting our conclusion to the directors of NEXT. This report, including our conclusions, has been prepared solely for the Board of directors of NEXT in accordance with the agreement between us, to assist the directors in reporting NEXT’s corporate responsibility performance and activities. We permit this report to be disclosed in the CR Report for the year ending 27 January 2018, to assist the directors in responding to their governance responsibilities by obtaining an independent assurance report in connection with the Selected Information. To the fullest extent permitted by law, we do not accept or assume responsibility to anyone other than the Board of directors and NEXT for our work or this report except where terms are expressly agreed between us in writing.'"
      ]
     },
     "execution_count": 18,
     "metadata": {},
     "output_type": "execute_result"
    }
   ],
   "source": [
    "long_text"
   ]
  },
  {
   "cell_type": "code",
   "execution_count": 34,
   "id": "2b2600b9",
   "metadata": {
    "ExecuteTime": {
     "end_time": "2025-05-19T09:02:29.300041Z",
     "start_time": "2025-05-19T09:02:29.294656Z"
    }
   },
   "outputs": [],
   "source": [
    "os.remove(TARGET_FOLDER+textfile)"
   ]
  },
  {
   "cell_type": "code",
   "execution_count": 35,
   "id": "3dd7bb74",
   "metadata": {
    "ExecuteTime": {
     "end_time": "2025-05-19T09:02:29.701050Z",
     "start_time": "2025-05-19T09:02:29.694059Z"
    }
   },
   "outputs": [],
   "source": [
    "with open(TARGET_FOLDER+textfile, 'w+') as f:\n",
    "    f.write(long_text.encode('utf-16','surrogatepass').decode('utf-16'))"
   ]
  },
  {
   "cell_type": "markdown",
   "id": "9425bd5b",
   "metadata": {},
   "source": [
    "## RENEWI"
   ]
  },
  {
   "cell_type": "code",
   "execution_count": 36,
   "id": "653cf787",
   "metadata": {
    "ExecuteTime": {
     "end_time": "2025-05-19T09:03:15.972664Z",
     "start_time": "2025-05-19T09:03:15.942452Z"
    }
   },
   "outputs": [
    {
     "data": {
      "application/vnd.jupyter.widget-view+json": {
       "model_id": "28c0dd49754c45cf820cace1e77e389d",
       "version_major": 2,
       "version_minor": 0
      },
      "text/plain": [
       "  0%|          | 0/592 [00:00<?, ?it/s]"
      ]
     },
     "metadata": {},
     "output_type": "display_data"
    }
   ],
   "source": [
    "for i_f in trange(len(rtf_files)):\n",
    "    file=rtf_files[i_f]\n",
    "        \n",
    "    # get name for the output\n",
    "    textfile=file2textfile(file)\n",
    "    #print(f'[{dt.now():%y-%m-%d %H:%M:%S}] {textfile:30}')\n",
    "    if i_f!=len(rtf_files):\n",
    "        file1=rtf_files[i_f+1]\n",
    "        textfile1=file2textfile(file1)\n",
    "    else:\n",
    "        textfile1='stocazzo'\n",
    "    \n",
    "    if textfile=='2021_11_RENEWI_PLC_text.txt':\n",
    "        break"
   ]
  },
  {
   "cell_type": "code",
   "execution_count": 37,
   "id": "16297aac",
   "metadata": {
    "ExecuteTime": {
     "end_time": "2025-05-19T09:03:17.406482Z",
     "start_time": "2025-05-19T09:03:17.397732Z"
    }
   },
   "outputs": [
    {
     "data": {
      "text/plain": [
       "'2021_11_RENEWI_PLC_text.txt'"
      ]
     },
     "execution_count": 37,
     "metadata": {},
     "output_type": "execute_result"
    }
   ],
   "source": [
    "textfile"
   ]
  },
  {
   "cell_type": "code",
   "execution_count": 38,
   "id": "48d0f557",
   "metadata": {
    "ExecuteTime": {
     "end_time": "2025-05-19T09:04:16.302726Z",
     "start_time": "2025-05-19T09:03:19.744127Z"
    }
   },
   "outputs": [],
   "source": [
    "long_text=file2text(RTF_FOLDER+file)"
   ]
  },
  {
   "cell_type": "code",
   "execution_count": 39,
   "id": "34932c9d",
   "metadata": {
    "ExecuteTime": {
     "end_time": "2025-05-19T09:04:16.318150Z",
     "start_time": "2025-05-19T09:04:16.307139Z"
    }
   },
   "outputs": [
    {
     "data": {
      "text/plain": [
       "\"Imagine a world where nothing is wasted and everything is reused. A world that is not only cleaner, but healthier and happier for people to live in. This is a world that we’re determined to make possible. The world is at a turning point, where the old methods of production and consumption are rejected for more sustainable alternatives. At Renewi, we’re helping to transform the way materials are used and helping to create essential new products. By enabling the circular economy, we’re part of the sustainable solution that will allow future generations to enjoy a cleaner and happier planet. So how do we get there? What can countries do? What can companies do? When do we make this change? What is the circular economy? We want to live in a world free from worries about climate change. A world where our shared planet is sustainable, green and where used materials aren’t wasted. The time is now, to act together to ensure a liveable future for us, for our children, for our grandchildren,  and for generations to come. Today’s children face an uncertain future. Children are the least responsible for climate change, yet they will bear the greatest burden of its impact. For many years, we have all been guilty of short-term thinking. We forgot that we are part of a long, continuous stream of generations that succeed each other and are responsible to and for each other. We have colonised the future. We treat the earth – the home of future generations – as a dumping ground for our own ecological waste, as though nobody will live here in the future. We have to learn to be better ancestors. Long- term problems ask for long-term thinking. The impact of any decision must be considered in the context of the next generations. The needs of the present should be met without compromising the needs of the future. We should all ask ourselves the following question, whatever we are doing or planning: what kind of world will my child see when he or she is 90? Our descendants own the future, but the decisions we make and the actions we take now will tremendously impact generations to come. Renewi’s purpose is to protect the world by giving new life to used materials, and our vision – to be the leading waste-to-product company in the world’s most advanced circular economies – concerns everyone. It’s about the next generation. It’s about me and my children, you and your children and grandchildren. Our long-term strategy will deliver sustainable value creation so that we can keep positively impacting society through innovation. In this way, we commit to continue working to create a better, and greener, future for everyone. The eyes of all future generations are upon us. We must prove that we are serious about tackling climate change. If we don’t act now, then future generations of children staring into the climate change abyss will ask: ‘Why didn’t you?’ Are you ready to be a better ancestor? 65.8% (FY20: 64.7%) 60.9% (FY20: 48.5%) 11.10 (FY20: 10.47) 9.84 (FY20: 10.04) (FY20: 1,504) of the senior managers now working at Renewi are women We have reached a point where critical decisions about the future of the planet must be made. Faced with a climate emergency, it is vital that governments, businesses and individuals start the transition towards a more sustainable future. Temperatures across the world are rising. If nothing is done, they could exceed 4°C by 2100, which may be catastrophic for the planet and will certainly result in a change in the world as we know it. We are at a tipping point when it comes to our climate. It is estimated that a 1.5°C rise in the global average temperature above pre-industrial levels will heavily impact the planet, our way of life, and the lives of future generations. By 2100, rising sea levels would displace 680 million people that live in low-lying coastal zones1. In 2100, the cost to the world economy would be $54 trillion, rising to $69 trillion for a 2°C rise2. It seems that current efforts are having little effect, despite 195 countries signing the 2015 UN Paris Agreement and committing to reduce emissions in order to limit the rise in global temperature to 1.5°C by 2100. Current emissions are estimated to be leading us to an increase of 3°C3. A course correction is needed to limit the rise, and this will require new pledges from around the world. At the heart of the Paris Agreement are Nationally Determined Contributions (NDCs) which state what action different countries must take in order to limit temperature increase. These differ between countries, with an understanding that developing countries will see a peak in their emissions at a later date than other countries. The 2018 UN report found that current projections suggest that by following the NDCs currently set out, the world is likely to overshoot it’s 2030 emissions target by 29-32 billion tonnes of CO2. The impact of Covid-19 means countries have an opportunity to re-establish their NDCs and make additional commitments in order to reduce emissions. Where do emissions come from? In order to reduce emissions, it is important to understand where they come from. The extraction, transport and processing of materials are responsible for 70% of all greenhouse gases4. Mobility has the largest emissions footprint at 17.1 billion tonnes. The second largest footprint comes from housing at 13.5 billion tonnes. The production and provision of food, fibre and the clearing of plants for the expansion of urban centres meanwhile contributes 10 billion tonnes of emissions. The remaining 30% of global emissions are caused by communication, services, consumables and healthcare. Consumables are related with the production of consumer electronics, clothing, personal health products. Communication (mostly for infrastructure, devices and data storage) accounts for 3.5 billion tonnes. Healthcare meanwhile has the smallest footprint of societal needs and wants, with a footprint of 3 billion tonnes, mostly generated for hospital buildings, healthcare equipment and pharmaceuticals. 1. The Ocean and Cryosphere in a Changing Climate by the IPCC. 2. Protecting our capital by CDP and C40 Cities. 3. UNEP, Emissions Gap Report 2018. 4. The Circularity Gap Report 2021 by Circle Economy. The richest 1% of the population account for more em1•ss1• ons than the poorest 50% Source: Confronting Carbon Inequality, Oxfam, 2019. So what do we do? We need to move from climate pledges and a linear process, to a circular economy. This will require behavioural changes from individuals, organisations and governments, and innovations from forward-thinking businesses like Renewi. What is the circular economy? The circular economy, or circularity, is an economic system that aims to eliminate all waste by finding continual uses for materials, creating a more sustainable society. This may be by reusing, sharing, repairing, refurbishing, remanufacturing or recycling materials after use, creating a closed loop system where new resources are not needed. According to the Circularity Gap Report 2021, a circular economy enacted globally can close the emissions gap. Current climate pledges (which aim to keep the increase in global temperature to below two degrees by 2032) take us 15% of the way towards this goal. A circular economy can deliver the remaining 85%. Source: The Circularity Gap Report 2021 by Circle Economy. By 2030, the circular economy has the power to shrink global greenhouse gas emissions by 39% and cut virgin resource use by 28% Source: The Circularity Gap Report 2021 by Circle Economy. I WAKE UP A PESSIMIST BUT TEND TO GO TO BED AN OPTIMIST. Exeter Centre for Circular Economy at the University of Exeter Business School. He also works with the Ellen MacArthur Foundation as a Global Pioneer for Circular Economy and established the world’s first MBA on the subject. He leads a Global Masterclass for the Ellen MacArthur Foundation on Implementing the circular economy. Why is transitioning towards a circular economy so important in the battle against climate change? A significant percentage of the greenhouse gas (GHG) emissions from our industrial economies come from the production and consumption of products and materials1. In the UK, many of our GHG emissions have been exported to other countries as a result of offshoring. These countries often have far higher dependency on fossil fuels, hence when we import goods from other countries, we are contributing to global GHGs even if they are not accounted for in our current carbon reporting. The principles of a circular economy are designed to increase resource productivity, drive down waste and emissions of all types, especially sequester    carbon.        \\ud83e\\udc62 GHGs and rebuild natural capital which serves to 1. Completing the Picture: How the Circular Economy Tackles Climate Change by the Ellen MacArthur Foundation and Material Economics, 2019 Are governments doing enough to encourage this transition? In a word, no. Many are beginning to realise the tremendous economic opportunity and multiple benefits of such a transition, but there is still a long way to go to turn around the legacy of the past decades of linear economy regulation, investment and policy initiatives. Countries such as Finland have created an overarching national circular economy strategy, and the EU Circular Economy policy package is a step in the right direction. Policy levers such as extended producer responsibility, to pass the full environmental and climate change impact onto producers – the ‘polluter pays’ concept – can make a big difference. Some countries have set carbon taxes at over $100 per tonne, which are necessary to shift carbon-intensive production and consumption patterns that have become habituated over the past decades. But even these will not be enough, and if we are to reach zero carbon and accelerate a future circular economy, we need systemic innovation, systemic finance initiatives and a technological and social innovation revolution akin to previous industrial revolutions. How can richer countries set an example to developing nations? By transforming the carbon intensity of our economy, stopping offshoring carbon emissions and taking full responsibility for the emissions associated with UK final demand. We must support not just developing, but also emerging and many other economies with solutions and mechanisms to avoid the carbon-intensive pathways we have followed, without denying their citizens the right to raised standards of living. In November 2021, the UK will host the 2021 United Nations Climate Change Conference (COP26) in Glasgow. Do you hold out much hope that firm global commitments will be made? I wake up a pessimist but tend to go to bed an optimist. I think there is growing realisation that we have to act and reach firm commitments. There are signs this might happen, but we shouldn’t pin everything on a single event. There is a lot of positive change and increasing awareness that zero carbon can be a source of economic opportunity by decoupling resource throughput from economic growth. It isn’t easy, but we know that change is inevitable – how it comes about, at what speed and how we manage the transition is an endless source of debate. Has Covid-19 focused the minds of policymakers on solving big issues like climate change? I would like to think it has had some impact. Just from the point of view of national security, the pandemic has revealed the lack of resilience in global supply chains. How this translates into the action on climate change and the drive to return economic growth to pre-pandemic levels is an open question. COP26 will be a great opportunity to focus on climate change, take lessons from Covid as a system shock and address the need to build resilience back into our economies and social systems. What are easy first steps that businesses could take to become more circular and reuse waste? Look around for inspiration and evidence of those companies who are making the transition. We run a global masterclass three times a year designed to take businesses from any sector through a journey, showing how others are initiating and implementing the circular economy. Google, Philips, SAP, IKEA, Solvay, Renault, Ricoh and others are making the change – sometimes incrementally, sometimes transformationally. We would always propose a technique of value analysis to scan for value leakage via materials, assets and customers, and follow a simple sequence of the Circular Economy value creation and capture modelling and piloting. This should involve multi-functional teams and partners and give them appropriate tools and resources to navigate some of the challenges they inevitably face. What role can waste management and recycling companies play in enabling the circular economy? In a circular economy waste and recycling companies will become resource recovery and re-use companies, using their know-how, infrastructure and capabilities to move away from ‘managing waste’ to working with upstream partners to unlock new sources of value from resources in the economy, far beyond their current single life cycle. They are therefore key enablers and have ability to integrate resource flows from multiple sources and create new partnerships within and across value creating ecosystems. So how do we get there? Reaching a circular economy will require a collaborative approach, and a creative, innovative and purposeful mindset from a wide range of stakeholders. There will need to be more than a focus on renewable energy. We must collectively overhaul our linear behaviours and commit to a transformational course-correction. Products will need to be designed with the end of their life considered, ensuring that they can be recycled or repurposed without creating any waste. Manufacturers will need to consider what materials they are using and who they are sourcing them from, to ensure their outputs can have new life after their initial use. New business models will also be required. Entrepreneurs and start-ups must ensure that they build circularity into their products, services and culture from the start. Meanwhile, many large established organisations will need to encourage a shift in mindset, using their scale to leverage a change to a more circular economy across their industry. Governments will also have a major part to play. In the short term, this means meeting the UN’s Sustainable Development Goals, a collection of 17 interlinked global goals, which the organisation says are designed to be a 'blueprint to achieve a better and more sustainable future for all'. In the longer term, governments will need to be more ambitious. The April Leaders’ Summit on Climate saw many global governments make more ambitious pledges to reduce reliance on fossil fuels. European Commission President Ursula von der Leyen announced a policy to make Europe climate-neutral by 2050. While concentrating on energy alone will not be enough, there is hope that development at the summit will set the stage for a productive UN Climate Change Conference (COP26) meeting in November. There must also be a drive to support the move to a circular economy through human capital. These changes will require large scale workforces with new skills. As individuals we must be willing to learn new things and ask new questions, but governments and business must also support this reskilling. And of course, societies will be central to all shifts towards circularity. Behavioural changes, pressure on governments to act and choosing to associate with businesses doing their part will all help to drive long-term change to a greener world for all. Most important of all, will be for individuals, organisations and governments to work together across the entire product cycle to stop waste. A collaborative spirit, where all parties share a common goal of building a circular economy, will be vital. What can countries do? Reaching a sustainable future – with a circular economy at its heart – will require trade-offs by governments around the world. A number of stakeholders will need to be catered for, with their needs met and concerns addressed According to the Circularity Gap 2021 report, society has seven core societal needs that must be considered during the transition to a circular economy. In total, these needs make up around 59.1 billion tonnes of CO2 emissions. By 2030, unless something is done, emissions will hit 65 billion tonnes. Bringing that number down is the responsibility of policymakers, businesses, and individuals worldwide. But not all countries are the same. A large proportion (48% of the world’s population) are developing nations, struggling to provide for their citizens. Another significant number are rapidly expanding manufacturing hubs, eager to industrialise. The richest nations in the world are the ones that are driving the transition toward circularity, but they account for just 15% of the population. They must ensure that they take the rest of the world along with them on the journey towards circularity. By understanding how emissions are intrinsically linked to the extraction, production and consumption of all these needs, we can show how a refocus towards circularity can dramatically cut emissions. Governments must drive the transition towards a circular economy through legislation and policy, while also shifting the attitudes and perceptions of their populations. What can companies do? Businesses will play an important role in transitioning towards a circular economy. To help bridge the gap, businesses must... We have no time to lose. It won’t be long before the consequences we face are irreversible. As developed countries, we must take steps to fulfil our responsibilities. From a global pandemic to a warming planet that continuously faces climate challenges, the last year has reminded us that now is the time to change. The circular economy has already cemented its position in global sustainable development dialogues. It now appears to be a strong basis for governments to ‘build back better’. But where should wealthy countries focus their efforts? What capital investments should they make? Where should their power be funnelled if we are to see a circular economy transition? Fundamentally, we must rethink the concept of waste. Waste needs to be perceived in terms of the recovery of materials as a raw material for tomorrow. We need to recover even more valuable streams from waste through innovative processes and partnerships. This is already happening, but we need to create entire chains for it immediately. We also need business to rethink how they produce products – to create products that are more sustainable and have a longer life span. We need them to shift their thinking as well – to be open to manufacture new products drawing on secondary raw materials instead of primary materials and to work with recycling companies to transform materials at the end of its life into new product that can be re-used in the manufacturing process. Government has a key role to play as well. Their role is to put in the place the right regulatory instruments to enforce the use of secondary resources across sectors. Across Europe and the UK, sorting standards and acceptance conditions are poorly aligned. It is therefore the responsibility of Governments to work collaboratively to introduce uniform regulations and enforcement. And together they will position themselves to deliver on the circular economy. We have outlined above a few examples of the systemic shifts to be taken by developed countries. Another responsibility is for these countries to help developing markets move from landfill to incineration with energy recovery and then start embracing recycling. So when do we need to make this change? Time is of the essence in the fight against the climate emergency. But Covid-19 has shown that by working together and showing ambition, the world is able to rise to the challenge. Co-operation is key if we are to cut emissions from materials use and handling, which combined are responsible for 70% of global greenhouse gas emissions. If we are to curb the rise of global warming, we, Renewi, need to stay true to one of our key values of being ‘innovative’. We need to work alongside our customers to help them reduce the volume of residual waste that enters the waste stream with tailor-made solutions for on-site waste sorting. We optimise our processes by investing tens of millions of euros per year in advanced sorting and processing lines in order to deliver higher recycling while emitting lower emissions. We partner with technology providers and manufacturers to develop circular innovations. The former allows us to connect with expertise needed to create winning innovations. The latter provides offtake for the recycled raw materials or products, or financial investments in the development of recycling solutions for their products. As our secondary materials are the input for their production processes, close alignment ensures we can replace virgin materials traditionally used. We also align with knowledge institutions, innovative logistics providers and certification bodies to exchange knowledge. Our public affairs team engages with Government, highlighting the impact of changes in regulatory regimes on sustainable operations. In this way, we help shape the legislative agenda to ensure the proposals are deliverable and will benefit the circular economy. An example of innovation is the production of bioLNG fuel from biogas – we are currently constructing a new plant with state-of-the-art technology with Nordsol and Shell to produce clean fuel from a renewable source. Another is the improvement of our waste collection fleet. Today we have two electric vehicles on the road. Our commitment is to increase this to 65 electric vehicles in the Netherlands and Belgium, which will complement our Euro 6 low emission diesel trucks. In this way we will have a 100% clean-emissions fleet by 2025. This will drastically reduce our fleet’s nitrogen and particulate matter emissions and positively impact the carbon intensity of our waste collection activities. To combat pollution and reduce noise and traffic within cities we optimise route planning. The two approaches will enable us to deliver on our purpose – to give new life to used materials – and will help us to deliver on our ambitious goal of uplifting our targeted recycling volumes – up 10% points to 75% by 2025. Additionally to help us reduce our carbon impact impact by 15%. Our solution helps us make a difference across numerous sectors, including the construction and demolition sector – one of Europe’s major CO2 emitters due to its reliance on carbon-intensive cement and steel. Renewi’s Mineralz & Water Division produces new secondary raw materials by cleaning and processing contaminated soil, water and demolition materials and recycling mineral residues for new concrete and cement. Our Commercial Waste Division in the Netherlands operates a number of highly advanced construction and demolition sorting lines, sorting these often mixed waste streams into several monostreams fractions. It also collects asbestos contaminated steel recovered during demolition and delivers it to the Purified Metals Company where it is given a new life. Taking action today is critical if we are to fight the climate emergency. We believe that everyone – ourselves included – can and should take decisive action to support Europe’s goal to become carbon-neutral by 2050. Renewi is at the heart of the circular economy. Resource preservation is in our DNA, and we are proud to contribute to climate action. Reaching a circular economy will require several actions: ensuring products are designed with the future in mind, the incorporation of digital technology, adjusting business models, and using renewable resources. A key action will be using waste as a resource. By turning waste into new products, we can turn today’s waste materials into tomorrow’s resources. At Renewi, circularity is central to what we do. Throughout our activities, we are helping to ensure that the circular economy becomes a reality. We have over 6,500 employees in six countries, all united behind our vision: to be the leading waste-to-product company in the world’s most advanced circular economies. Benelux market leader when Shanks and Van Gansewinkel Groep were combined Operating for over years Pure-play waste-to-product recycling company Our Commercial Division is the market leader within both the Netherlands and Belgium. It provides a wide range of waste-to-product solutions and represents around 72% of Renewi’s revenues. The commercial waste market covers the collection, sorting and processing of waste materials from a range of sources. Our Mineralz & Water (M&W) Division consists of our ATM and Mineralz businesses. Its activities are centred on decontamination, stabilisation and reuse of highly contaminated materials, including soil, sludge, water, bottom and fly ash, and packed chemical waste. It produces certified secondary raw materials for the construction industry. Our Specialities Division consists of three businesses: Coolrec, Maltha and Municipal. These are focused on processing of specific waste streams: Waste from electrical and electronic equipment (Coolrec), glass (Maltha) and residual municipal waste (Municipal). The operations span the Netherlands, Belgium and the UK as well as France, Portugal and Hungary. We are recognised as a waste-to- product leader in sustainability at the heart of the circular economy. As a pure-play recycling company we exclusively focus on extracting value from waste rather than on its disposal through incineration or landfill. Our waste-to-product approach addresses social and regulatory trends, and offers the most efficient solution to recycle used materials. We have been recognised for our strong ESG performance. S&P Global Ratings recently scored Renewi 83 out of 100. Never before has there been as much raw material extraction, product manufacture, consumption and waste as there is today. The extraction and processing of materials is responsible for 70% of all greenhouse gases. Renewi’s role, as a pure-play recycling company, is to slow down the need to extract and process virgin materials by giving new life to used materials. This puts us at the heart of both climate action and resource preservation – at the heart of the circular economy. We collaborate with manufacturers to source and design feedstocks to make secondary products. Our secondary products are sold as inputs into industrial- scale manufacturing. At our specialist facilities we refine products to high customer specifications. Renewi endorses the manufacture of products that can be reused. Renewi experts advise companies on how they can generate less residual waste. Our fleet comprises zero- and low-emission trucks. We optimise routes to reduce emissions and fuel use. We use technology such as optical sorting lines to segregate specific recycling materials for further use. Objective: Take urgent action to combat climate change and its impacts. How we contribute: We play a key role in eliminating carbon emissions from the supply chain through recycling waste. We are also significantly reducing the use of fossil fuels in our operations. Objective: Ensure sustainable consumption and production patterns. Objective: Ensure access to affordable, reliable, sustainable and modern energy for all. How we contribute: We are a producer of renewable energy, which is for a considerate part delivered to the electricity grid. This way, we enable the access to sustainable energy for others. Besides that we are increasing the share of renewable energy in our own energy mix, decreasing our own independence on fossil fuels. Objective: Ensure availability and sustainability of water and sanitation for all. How we contribute: A key part of what we do is cleaning waste water and making it available again as safe drinking water. new life. This is central to what we do. SUSTAINABLE CITIES AND COMMUNITIES provide a framework for the world to “achieve a better and more sustainable future for all” Each year, we do this by decontaminating enough water to fill more than 250 Olympic-sized swimming pools. Objective: Make cities and human settlements inclusive, safe, resilient and sustainable. How we contribute: We are determined to be the leader in green and clean waste collection, improving air quality and reducing carbon emissions in the process. By doing this, we can also reduce the strain on infrastructure caused by waste collection in both cities and rural communities. Unveiled in 2015, the goals are designed to bring the world together, eradicate poverty, and tackle climate change by 2030. Achieving a circular economy goes hand-in-hand with many of the UNSDGs. Objective: Ensure healthy lives and promote well-being for all. How we contribute: Our responsibility to keep safe our 6,586 employees is extremely important to us. We are also responsible for people we come into contact with – for example, on the roads where we drive our trucks. And by handling waste responsibly, we ensure it doesn’t threaten people’s health. Our subsidiary ATM is a European leader in purifying contaminated materials. One of its key roles is to clean soil from remediation sites – something that must be done with extreme care, as contaminated waste is a threat to the environment and people’s health. The soil is first tested in ATM’s laboratory. Once our scientists have determined that it is treatable to the standards required for safe reuse, it is placed in a rotating drum and heated at more than 400°C to evaporate and burn away all organic contaminants. The thermally treated soil is then fragmented in the sieving and sorting installation, where it is stripped of iron, ferrous rocks and light fractions. The resulting sand, gravel and filler become secondary raw materials suitable to produce concrete and asphalt. ATM keeps working on upgrading its facilities to produce these purified secondary raw materials in order to play its part in enabling the circular economy for the construction industry – one of the biggest CO2 emitters in Europe. Mattresses have been saved from the incinerator since our investment in RetourMatras in June 2019. Since we announced our investment – together with IKEA Group – in Dutch mattress recycler RetourMatras last year, one million Renewi sourced mattresses have been saved in the Netherlands from the incinerator, and around 90% of the materials were recycled or reused. Further investment is funding the construction of a fourth mattress recycling plant in the Netherlands and the first in Belgium. Once the Etten-Leur plant opens, these will allow 1.5 milion mattresses a year to be recycled. The amended Dutch LAP3 took effect on 2 March 2021. The minimum standard for mattresses was incineration and has therefore changed to: Separation into materials or other processing in which at least 90% of the mattresses received is recycled or removed for recycling elsewhere. Belgium already banned mattress incineration earlier this year. The next step will be to create a truly circular mattress. With further investment in refinement processes, the polyurethane foam from discarded mattresses can be converted back into a POLYOL, from which new foam can be created for new mattresses. We asked Otto de Bont to share his thoughts on tackling the climate emergency and the role that Renewi, as a company that is at the heart of the circular economy, can play. Q: Last year, you sounded the alarm that the time to act on climate change is now. Do you feel optimistic for the future? A: Climate challenges remain a critical priority. It is widely acknowledged that if we don’t take action, the earth could warm by a minimum of 4°C by 2050. The US now refers to a ‘climate emergency’ – a phrase that highlights the problem (climate) and the need (emergency = time to act) in two words. During 2020, more than 100 billion tonnes of raw materials were extracted from the earth. According to statistics published in The Circularity Gap Report 2021, the cost to the planet of product development of this magnitude – from extraction to end of use – is 59.1 billion tonnes of greenhouse gas (GHG) emissions, which accounts for 70% of all GHGs emitted. In addition to increased environmental pressures, there has also been greater environmental degradation, loss of biodiversity, threat of resource depletion, climate change and other forms of environmental pressure. Our demand for products is a major contributor to the destruction of the planet. As the world population grows, we can expect enhanced levels of consumption that will result in at an even higher level of production. It has been estimated we can expect to see double the number of raw materials used by 2060 compared with 2017. But despite the risks we face I am optimistic because we have clarity on actions that can be taken particularly in the world in which Renewi operates. By embracing and boosting the circular economy, by replacing incineration and landfill with recycling, we can slow down global warming and tackle the threat of climate change. The eyes of future generations are upon us. We must prove that we are good ancestors – that we are serious about creating a better and greener future for our children and grandchildren. Q: Is a circular economy the only solution? A: There are multiple parallel ways in which the climate emergency can be addressed. One way to limit global warming to under 2°C by 2050 is through the circular economy. Global plans in place through the Paris Climate Agreement are expected to contribute up to 15% of target reduction, so the circular economy must deliver the remaining 85%. The current global economy is only 8.6% circular; if international governments, industry and other key actors can double that figure, to 17%, by 2032, it is expected that we can close the gap and limit global warming to under 2°C. Recycling therefore has a crucial role to play, not only in creating secondary raw materials, but also in producing high-quality alternatives to what is currently used – virgin materials. Many companies operating in the waste industry are conflicted in progressing towards fully circular solutions because they have incinerators and landfill voids to fill. These are cheaper and easier solutions for the disposal of waste, but deliver poorer outcomes (in terms of GHG emissions) than recycling. As a pure-play waste-to- product company, Renewi minimises incineration and landfill and therefore drives down the proportion of inbound waste being sent for energy recovery, and we work tirelessly to give new use to waste materials, including producing secondary raw materials. Q: Do you feel global business is taking sustainability more seriously now? A: No doubt about it. As the expectations on corporate responsibility increase, and as transparency becomes more prevalent, companies are recognising the need to act on sustainability. Professional communications and good intentions are no longer enough. Management needs to ensure that the strategy of the company and its sustainability efforts are aligned. Often we see divergence, which of course makes the sustainability efforts fragile, lacking real commitment and prioritisation. Businesses must put sustainability at the heart of what they do. To boost the circular economy, business and industry must collaborate. As Prince William said when launching the Earthshot Prize competition: “We’ve got to harness our ingenuity and our ability to invent. The next 10 years are a critical decade for change.” The Earthshot Prize recognises ideas and technologies that can safeguard the planet and aims to bring together the best minds to tackle some of the world’s greatest environmental challenges. I really believe that circularity is a joint effort and innovation is its engine. Q: What are the most urgent challenges facing the waste industry? A: Recycling has become more difficult as product manufacturing has evolved, with the use of complex composites and compositions of refined virgin materials. Incorporating recyclability into how products are designed is vital if the world is to successfully recover a greater percentage of materials and create circularity. It is technically possible to recycle almost every product to create reusable materials. However, when the ‘economic’ cost of virgin materials is low and does not fully value the carbon cost or the materials’ degradation, it is not always economically viable to recycle. Loading virgin raw materials for their full environmental cost would therefore allow the implicit value of secondary raw materials to be realised. It would also boost use and contribute to the targeted doubling of circularity. Secondary materials typically struggle to achieve the same purity as virgin production due to the non-homogeneous inputs. This is a challenge when incorporated into production lines that have set precise and narrow definitions of inputs. Recycled raw materials, therefore, must be further refined to improve quality; in parallel, product designers and manufacturers need to be encouraged to broaden their design specifications to overcome the challenges of using circular materials in their production process. Producer responsibility has never been more important. At Renewi, we are working closely with innovative partners to raise the quality of recycled and secondary materials. We are also working with manufacturers to help them incorporate secondary materials into their design and production processes. We are encouraged by the supportive dialogue with leading sustainability- conscious manufacturers, and hopeful that this design thinking and collaboration will permeate into the general manufacturing economy over time. Renewi also wants to save more waste from ending up in incineration. Today, it is cheaper for waste streams that are difficult to recycle to be incinerated. If governments want a circular world by 2050, more incentives are needed. Incentivise manufacturers to replace hard-to- recycle materials with easily recyclable ones. Incentivise the waste sector to find new and innovative ways to do so. Make primary raw materials more expensive than secondary materials. Require that a percentage of recycled raw materials are used in every product. And, finally, make incineration more expensive. As a pure-play recycler, Renewi has no waste incineration facilities and therefore does not follow the two tracks that many other companies in the sector do: wanting to recycle on the one hand, and to keep their waste incinerators fully occupied on the other. Q: What do you hope will come from the UN’s Climate Change Conference, COP26? A: Expectations are high, especially after the somewhat disappointing COP25 in Madrid in November 2019. The final declaration emphasised the “urgency” of tackling the climate problem, but it did not contain a strong and clear call to do so. I am hopeful that COP26 will put the world on the path it needs to be on and new decisions will be made on how to cut carbon emissions. COP26 is already being viewed as the successor to COP21, where the Paris Agreement was signed. This year’s theme is ‘The climate has no borders’, which stresses that countries need to work together to fight climate change. Or, as Sir David Attenborough put it in February this year: “Recognise climate change as a worldwide security threat, and act proportionately.” Climate emergency is a global threat. But, as with Covid-19 , it shouldn’t divide but unite us. Collectively, we need to build back better. Together, governments need to introduce the legislative and regulatory changes required to deliver. Now is the time to seize the moment. Through our circular collaboration with Beautiful Cups, we have given new life to 11 million disposable coffee cups in the Netherlands in a year. We form a strategic partnership with Nordsol and Shell to jointly produce bio-LNG, turning organic waste into a sustainable fuel. Five years of research culminate in the production of a clean, safe and sustainable paving tile produced from recycled residual household waste. Our agreement with RetourMatras and IKEA expands the capacity of mattress recycling in the Netherlands to more than one million a year. Together with ENGIE, we obtained a permit for the construction of the tallest wind turbine in Belgium on our site in Ghent. PeelPioneers, which processes citrus peel into secondary raw materials, opens its first facility at our Son location. Our collaboration with Van Straten Medical/GreenCycl leads to a new process to collect, sterilize and return used face masks from hospitals. We pilot an innovative waste collection concept with several Amsterdam household waste into bioplastics through our specialist organic waste subsidiary, Renewi Organics. Coolrec launches a new circular polystyrene regranulate called Coolstar which can be used as a sustainable economic solution for virgin plastics. McDonald’s restaurants to reduce CO2 emissions. The number of families that could be provided with energy each year by the ENGIE wind turbine’s power generation. In the Belgian city of Ghent we are working with ENGIE to construct a wind turbine on one of our sites. The turbine will have a maximum tip height of no less than 242m, making it the highest on the Belgian mainland. The turbine will be a community asset. Renewi employees and local residents have the opportunity to own shares in Electrabel CoGreen, ENGIE’s cooperative company; each year, they can receive a dividend depending on the amount of electricity its wind turbines produce. The new turbine is expected to generate 13 million kilowatt hours of electricity annually – equivalent to the annual consumption of around 4,300 families. It will be able to cover 75% of the electricity use at the site, saving about 5,700 tonnes of CO2. We’re looking into installing wind turbines on other sites to reduce the carbon impact of our operations. Where our own renewable energy isn’t sufficient, we will purchase green energy from green energy providers. We have always carried out waste collections as sustainably as possible, to minimise our effect on the environment. Over the past three years we have invested more than €120m in upgrading over 50% of our fleet of trucks to Euro 6 standard, cutting NOx and particulate emissions by over 25%. We also work with other waste companies to reduce distances travelled by collecting jointly from inner-city locations. But the future of waste collection is zero-emission vehicles (ZEVs) – a growing number of Dutch cities will only allow emission-free vehicles in built-up areas from 2025 – and this year we became the first waste company in the Netherlands to trial an electric collection vehicle. Our Volvo FE Electric 6x2 is now collecting commercial waste in the Amsterdam region. We intend to continue to lead the way in developing and operating ZEVs, working with the manufacturers to optimise performance and help keep the air clean for the communities we serve. We know that the actions we take impact the environment, the communities we serve and our people. Sustainability is at the heart of our operations. Last year, we introduced our new sustainability strategy. We identified three sustainability themes that fit with the fundamentals of our company: Enable the circular economy page 42 Reduce carbon emissions and waste page 45 page 48 We also established six bold objectives which underline these and which have a clear connection with 6 of the 17 United Nations Sustainable Development Goals. To each objective we assigned a set of key performance metrics, each with ambitious targets. Enable the circular economy At Renewi, our purpose is to protect the world by giving new life to used materials. To achieve this, we need to take action to make the economy more circular When your business strategy and sustainability strategy meet, sustainability becomes part of your organisation’s DNA. At Renewi we take a precautionary approach to environmental challenges. Enabling the circular economy is at our core and expressed in our purpose: to protect the world by giving new life to used materials. That is exactly why two of our business strategy objectives are to be both a leader in recycling and a leader in secondary raw material production. Our objective is to turn our customers’ waste into new products, by focusing on three metrics: recycling materials      produced.      \\ud83e\\udc62 rate, carbon avoidance and innovative secondary An important element of closing the circularity gap is turning waste into new products and, as such, one of our key objectives is to give new life to our customers’ waste. We help customers with guidance and advice on circularity. By bringing forward inspirational ways to make customers’ procurement practices more circular. We have set three clear and measurable metrics to track how we will continue to close the circularity gap. First, by 2025, we intend to divert 75% of all the waste we receive towards recycling, saving more than 10 million tonnes of materials from going to incineration and landfill. Second, by 2025, we want to produce one million tonnes of secondary raw materials annually using new and innovative processing. An important aspect of a circular economy is the carbon avoidance that occurs in the supply chain when secondary raw materials are used instead of primary raw materials. Recycling leads to huge savings, both in terms of primary raw materials used as well as the energy expended to bring these into our production cycle. Giving preference to recycled materials over primary raw materials could make a big difference. We are committed to boost our CO2 avoidance per year in the supply chain by 2025, mainly through recycling and the production of secondary raw materials, but also through the creation of waste-derived fuels, biogas production from food waste, landfill gas power generation and the use of waste-derived fuels on the ATM site. It is important to note that with the increasing effort to recycle and produce secondary raw materials, the energy use of companies like Renewi will also increase. We are working on reducing these carbon emissions by switching to green energy where possible and by producing our own energy via solar and wind. However, the net carbon benefit of our efforts is always positive because the amount of carbon avoidance in the supply chain is almost seven times higher than our own footprint. How do we want to accomplish this goal? Recycling is the engine of a circular economy. It is precisely in the ability to recycle products that there is growth potential. A significant amount is already recycled in Western Europe, partly by producers rethinking and reinventing production processes to achieve eco-design targets. But there are still some challenging material flows, such as residual mixed waste, mixed plastics, wood and hazardous waste, which are difficult to recycle and therefore need innovation. Renewi already has an industry leading recycling rate of 65.8%. Last year, we committed to raise this to 75% by 2025 through the launch of Mission75. To achieve this uplift, we must work innovatively to extract as much value as possible from waste and recycled materials. Launched in April 2021, Mission75 is an ambitious goal that will require teamwork, focus and effort from everbody at Renewi. We are already a market leader in recycling, diverting eight million tonnes of waste away from incineration or landfill. Mission75 will aim to divert an additional 1.3 million tonnes of waste. This mission requires new and innovative recycling solutions from us. We can start by recycling materials that currently end up in landfill or incineration, as well as working towards uplifting current low-grade recycling to achieve higher specifications. But we also need to innovate on the supply side, since we will become an essential supplier of secondary raw materials in the future. Hence, our recycled products will have to be as close as possible to virgin materials to be a valuable alternative. \\ud83e\\udc62 We’re currently working on several new, advanced technologies across the whole Renewi portfolio. With Mission75, we identify hard to recycle waste streams such as mattresses and undertake advanced sorting that will allow sorting of mixed streams into recycable fractions. This mission focuses on all of the Renewi divisions. Within the Commercial Division our primary goal is to divert at least 25% of the current residual waste volumes (mixed consumer and business waste) from incineration and landfill. We want to accomplish this by actively encouraging better sorting at source and by using innovative techniques in post-sorting. Within our Mineralz & Water Division our primary goal is to get ATM soil recycling volumes back to full production volumes and increase the secondary material production of sand, gravel and filler to one million tonnes annually. Beyond ATM, we also want to increase FORZ and other mineral product volumes. Within our Specialities Division the focus mostly lies in improving quality of material outputs at Maltha and Coolrec and maintaining volumes. Long-term UK PPP contracts limit the scope of possibilities within our UK business. However, we continue to increase volumes that are diverted from landfill to waste-derived fuels production. 3.5% Renewi is impacted by economic activity. In FY21, Covid-19 slowed down that pace considerably. However, despite the lower volumes of waste (-1.13 million tonnes), recycling and recovery rates and the carbon avoidance as a result of our activities – the key indicators for our sustainability performance – are progressing towards our target. The recycling rate rose almost 1.1 percentage points to 65.8%, mainly due to a decrease in waste sent to incineration, while at the same time levels of waste recycled remained stable. The level of innovative materials produced significantly increased, to 353,500 tonnes, mainly due to ATM’s production of purified gravel, sand and filler. We will continue investing to enable a major leap forward. For example, RetourMatras (our investment with IKEA Group), our bio-LNG investment with Shell and Nordsol, the AP4Terra products, and our investments to get higher quality and quantity waste to products. As a result of our increased recycling and recovery rate, our carbon avoidance intensity ratio rose by 1.5% compared with FY20, to 261kg CO2 per tonne waste handled. Despite the Covid-19 crisis, these rates show a positive trend and slight increases. We are therefore making progress towards meeting our 2025 targets. We continually invest in innovative technologies and business models for circular products to maximise sustainability benefits. Reduce carbon emissions and waste Our operations result in a net carbon reduction. However, we are committed to reducing our own carbon footprint even more Globally, 2020 was the equal hottest year on record, tying with 2016. Overall, Earth’s average temperature has risen more than 1.2°C since the late 19th century. Human activities, specifically those that generate emissions of CO2, methane and other greenhouse gasses, play a significant role in the rising temperature. If we do not stop global warming, the negative impact on humans and global ecosystems will become irreversible. The good news is that climate change can still be tackled. Renewi’s purpose is to be part of the solution: reducing millions of tonnes of carbon emissions in value chains by    secondary    materials.    \\ud83e\\udc62 every year through the replacement of virgin materials However, Renewi’s collection and recycling activities also use electricity and fuel, leading to CO2 emissions. Some of our processes to treat the waste arising in other industries, like thermal cleaning of soil, the production of compost and mechanical biological treatment, create direct carbon emissions. In addition, we have a large fleet of trucks that collect and transport waste across the Benelux; these emit vehicle particulate matter, nitrous oxide and further carbon emissions. Despite the fact that the entire chain of recycling and waste processing avoids emissions in much greater quantities than it produces itself, we acknowledge the impact our operations have on the environment, and we are working to decrease our emissions. As we produce more secondary raw materials and recyclates, our own energy use is likely to rise in the coming years. That’s why we have put a focus on reducing our environmental impact and carbon footprint per tonne of waste handled. In the short term, we cannot get to carbon neutral as defined by linear manufacturing companies producing consumables. Instead, we are ‘carbon positive’ in the value we bring through circularity. Our dual objectives are to be the leader in clean and green waste collection and to reduce the carbon impact of our operations. We have three metrics for each of these objectives (see table right). We are committed to growing our share of clean-emission trucks and zero-emission trucks. To this end, we commissioned 239 Euro 6 vehicles, Europe’s highest specification trucks, across the Netherlands and Belgium last year. In total, 95% of trucks purchased replaced older trucks in the fleet, and 5% were new additions. DAF, one of which has been deployed in the city of Amsterdam. We expect delivery of the second truck during FY22. Through the year the carbon intensity of our collection has decreased slightly compared with FY20 (-0.20 kg CO2 per tonne of collected waste), to 9.84. This is largely as a result of the expansion of our Euro 6 fleet, which is more fuel efficient. To reduce the carbon impact of our operations on site, we have invested in renewable energy production such as solar panel roofing at our sites. We have commissioned seven such roof panels over the past 18 months. We have another to be completed soon and are currently investigating installing panels in four more locations. In Ghent, we have secured the permit for a wind turbine, which will be the biggest land turbine in Belgium. It will be capable of covering 75% of the electricity use at our Ghent site and therefore around 10% of total electricity use within Commercial Belgium. Another area of development is the electrification of our company car fleet. Renewi is actively migrating its fleet of employee cars to electric and hybrid cars and building energy charging stations on our sites. \\ud83e\\udc62 The carbon intensity at our sites remained about the same as it was in FY20. Energy production from anaerobic digestion decreased, but this loss was counterbalanced by an increase in renewable energy through our solar panels. We will continue our efforts to be a leader in clean and green waste collection through the acquisition of at least 40 ZEVs in the Netherlands and 25 in Belgium. We have also invested in two compressed natural gas trucks in Groningen. We have taken steps to optimise our collection routes to reduce the number of kilometres driven, urban traffic and emissions. This has been achieved in a number of ways including by collaborating with competitive waste collectors on a “White Label” collection basis in the Netherlands and Belgium by increasing route density and collecting contracted waste from multiple parties. “Green Collective”, a joint venture with Suez, is an example of this, and is a platform that other collectors can also join in order to minimise heavy logistics within urban areas. To decrease the total carbon impact from our operations, we are currently investigating the installation of wind turbines and solar roofs on other Renewi sites and, where our own renewable energy isn’t sufficient, we will purchase green energy from front-runner green energy providers. We have charging stations for our fleet of electric trucks at all our sites People are at the heart of Renewi, both our colleagues and the communities we work in. The past year has been particularly hard, but our people have risen to the challenge Our people are our most valued asset. Over the past year our colleagues have lived and worked in truly unusual circumstances. The Covid-19 pandemic has shown just how important a happy, healthy, engaged and committed workforce is. Our primary goal is to ensure the safety and wellness of all our people every day. Another priority goal is to keep our people motivated by emphasising how important their role is in serving their communities and customers. They are helping us to deliver on our purpose – to protect the world by giving new life to used materials. We have also worked alongside our people to support them as they adapt to the changes needed as we deliver on our Renewi 2.0 programme aimed to harmonise, simplify and digitise Renewi. We are committed to improving our working environment with the aim of making Renewi a leading company to work for in the circular economy. \\ud83e\\udc62 We entered FY21 shortly after the world was struck by the Covid-19 pandemic. Our key focus at the outset was to protect our employees while continuing to support our customers. Early on, we introduced a set of new policies and guidelines to help our people to work in the safest possible way. As a critical business employing key workers, our priority was to create a safe working environment for our frontline workers operating on 165 sites across the Netherlands, Belgium and UK. Our office-based employees worked largely from home throughout the period. Our two objectives are: to deliver people home safe and well, every day; to make Renewi a rewarding, diverse and inclusive working environment. If we are to achieve our ambitions, we recognise the importance of strengthening our ‘Together’ value. We therefore work hard to further enhance employee safety, boost engagement, prioritise wellbeing and keep our people motivated. Through our employee Pulse survey, undertaken four times per year, our colleagues tell us how they feel at work, let us know whether they have everything they need to do their job, and provide feedback on topics such as Covid-19 and safety. This feedback gives leaders and managers clarity on where action needs to be taken. We have made a substantial effort throughout the year to invest in our colleagues’ wellbeing – both mental and physical – through online and offline activities. In terms of mental health, our leadership training programme – LEAD – has given leaders tips and tricks to better support their teams through this difficult time. Physical health was promoted and encouraged through activities such as RUNewi, Virgin Pulse and Fit to Finish. The RUNewi campaign engaged and rewarded our people for creating space in their workday to get away from their desks and do physical exercise during winter 2021 lockdowns in the UK and continental Europe. The Virgin Pulse competition, which was held in Belgium for the third year running, stimulated healthy habits, collaboration, friendship, job satisfaction, productivity and stress-management through a team-based challenge. The Fit to Finish health programme, which is based on six key themes – more exercise, no smoking, no alcohol, eat healthy food, relax and better sleep – promoted a series of health activities with the aim of encouraging long-term healthy habits amongst our Commercial Waste Netherlands’ employees. At Renewi we have a clear purpose: to give new life to used materials, thereby preserving our planet from pollution, carbon emissions and resource depletion. Our purpose resonates with our teams, who see their job as a calling – as a result they stay longer, are more committed and engagement is higher. We have been humbled by the response of our people to the challenges faced throughout the year. \\ud83e\\udc62 *Restatement of last year’s numbers based on a different calculation methodology. During the first lockdown we experienced significantly lower absenteeism than we had seen in the same period in the previous year, and we recorded higher levels of engagement in our Pulse survey. Our people showed they understood their role as an essential service and delivered their duties despite the risks they faced being out in the community. In return, the community has shown its appreciation for our ongoing service via letters and gifts of refreshments, and there were site visits in the Netherlands from the Dutch Prime Minister and other ministers. Renewi is a purpose-driven business and those who work with us are confident they make a difference to the world. Good leaders are critical to enable business success. We recognise this and have therefore increased our investment in developing our leaders. Over the past 12 months we expanded our LEAD programme, a framework of sequential training modules that created a shared and clear leadership framework, language and skillset across Renewi. Launched in-person in the Netherlands in 2019, a remote version of this training was delivered in Belgium in 2020 and was kicked off in the UK early in 2021. The programme is based on our values and the principles of emotionally intelligent leadership. Twice a year our people leaders and managers engage in a dialogue with their employees to discuss how they have performed against their objectives, how they are living Renewi’s values and how they are delivering against leadership expectations. Called the performance development review (PDR), performance expectations are measured. During the year, we upgraded our PDR process by adding a mid-year review and rolling out our PDR via a digital platform for easy completion and secure storage. We are also increasingly reviewing our grading to ensure that a fair distribution of grades is taking place within the business. Learning is a lifelong opportunity. Our internal learning management system (LMS), set to support employees’ development journeys, offers training to all Renewi employees on safety, our Code of Conduct and other essential topics. We greatly value a listening culture within Renewi. Two-way communication encourages honest and constructive feedback and brings confidence that employees have a role to play in bringing the business to the next level. Our listening activities are delivered through the Pulse survey, Pulse Exchange sessions – open or themed listening sessions among small groups – and via our regular Renewi Leadership Team monthly calls. Since the first Pulse survey was rolled out in 2019, 59% of employees have said that necessary actions have been taken to address their concerns. Delivering our circular economy ambitions can only be done if we are in this together. Together is one of our core values, and working together in a diverse and inclusive environment is a priority. After all, diverse teams perform better and inclusive organisations have higher engagement. We are committed to becoming a more diverse and inclusive employer, to better reflect and interface with our communities. The Board and Executive Committee recently approved our first diversity and inclusion strategy. We are putting in place a Diversity and Inclusion Board, which comprises people from across Renewi, to establish projects that will increase our diversity and promote an inclusive culture. A primary focus is to increase the number of women we employ. We have set an initial target of 25% women within our workforce by 2025. \\ud83e\\udc62 Our teams have continued to deliver an essential service As an equal opportunities employer, Renewi gives full and fair consideration to applications from disabled people, partners with them to support career development through training and supports continuing employment. The gender pay gap is another priority that we take very seriously. Not only in the UK, where we disclose male and female pay details annually under the UK gender pay gap reporting legislation, but in all of our countries. We are therefore using our UK disclosures as a benchmark to build our data in our other operating territories. While we do not operate in higher-risk countries, we uphold the principles in the United Nations Universal Declaration of Human Rights and subscribe to the UN Global Compact (see the table on page 54). We respect our employees’ human rights. We support the rights of the child and don’t employ anyone under 16. We consider the rights of other young people relative to their work and don’t employ anyone under the age of 18 in operational roles. We have a policy to combat the possibility of human trafficking and slavery in our business and supply chain – see our Modern Slavery Statement at renewi.com. We exercise good governance across our planet, people and partnership activities. We seek external verification of our approach and performance where appropriate. This may be through accreditation to formal standards or assessment to known standards, such as FTSE4Good. The increase in the number of concerns raised by our teams Following the merger between Shanks and Van Gansewinkel Groep in 2017, we had different reward systems and schemes across our countries and Divisions. A priority has been to create a single, common, clear and fair reward structure across the entire business. Launched in 2019, the One Reward programme has unified our system to create a performance-based structure that creates fairness, internal equity and simplicity for our office workers. We have worked closely with the Central Works Council to develop One Reward, while creating a new reward and job matrix for career paths and talent development. Freedom of association and the right to collective bargaining are self-evident, fundamental rights. As such, Renewi is committed, in accordance with local laws, to respect the rights of all employees to form and join trade unions, to bargain collectively and to engage in peaceful assembly. The safety of our staff is of utmost importance to us The main programme we use to ensure the safety of our people is HomeSafe. The HomeSafe campaign has a simple purpose: to get every one of our team members safely home to their families at the end of each and every day. The campaign stands on seven founding pillars to ensure that everyone is aware of the rules and lives by them. The campaign also guides our teams on how to report hazards, incidents or threats (HIT) at our sites and encourages open discussion with safety, health, environment and quality (SHEQ) managers. During the year we introduced our 10 Lifesaving Rules (LSR), one of the seven pillars of the HomeSafe programme. We have undertaken mandatory safety training across the Group, for people working on site in all our markets and for desk-based workers. We expect that these rules will be a platform to reduce serious accidents. Of all safety incidents, those that cause serious harm, or even threaten lives, are our top priority. As a result, we train our employees about our 10 LSRs. During FY21, we have had an increase in events that have resulted in significant physical harm, many of which involved a breach of an LSR. This shows clearly that if every employee follows our LSRs, there will be a major improvement in our safety. The goal of our new people’s minds to create a 24/7 safety mindset. \\ud83e\\udc62 mandatory training is to embed these rules in our To push it beyond one-way communication, we have also created a discussion group between managers and employees to talk openly about the “grey areas” where people may seek excuses to cut corners. Over the period, we saw a slight improvement in the number of >3-day accidents that occurred, from 1,504 in FY20 to 1,495 in FY21. However, over the past 12 months we experienced two fatalities within our workforce. One on site, another on the road. This has made it clear to us that we must work harder and make better progress in safeguarding our people to meet all of our safety goals. Throughout the year, we have strengthened our HomeSafe initiative, which was designed to improve safety across Renewi, and to roll out others, namely 10 Life Saving Rules (LSR), Worksafe, Safety Academy and Speak Up. Despite these efforts, and as a result of the fatalities, our safety performance did not meet expectations, which led us to introduce a new Board committee called SHE (Safety, Health and Environment) Commitee. Safety statistics can be seen in the table opposite. Safety improvements were achieved in a number of areas, including delivering an uplift in the number of concerns raised by our teams in our new IT reporting system, Assure. These rose to circa 50,000; this indicates that our employees take our initiatives seriously and participate in building a safety culture. We also started with safety and fire audits done by the central group SHEQ team to ensure a consistent implementation of our safety guidelines. As follow up, we executed the actions raised from those audits to get our site safety to a higher level. Our Pulse survey indicates that the mood of our people has improved, reaching a score of 7.3 (target score over the next three years is 7.5). Our healthy at work rate improved too, reaching a rate of 95.1%. These items have brought confidence that our colleagues’ focus on health is becoming more broadly embedded. Our employment engagement grew to +21 according to our Employee Net Promoter Score employee survey, which is carried out four times a year. This result keeps us on track for the +30 target by 2025. There has also been an increase by +1% in the number of female employees on our journey to make Renewi more diverse and inclusive. Safety is our first value and we will continue to further improve our safety culture and to deliver on our target outcome – to achieve zero serious incidents. We have built a strong foundation, with clear and uniform rules in place, and we are committed to further strengthen our safety culture in all areas across the organisation. \\ud83e\\udc62 We greatly value a listening culture and encourage honest feedback from our people Having a beneficial influence on communities is another fundamental part of our sustainability strategy. We play a key role in enabling the circular economy for society, and we need close collaboration with our communities to reach this goal. Processing society’s discarded items can have an unwanted impact on the local surroundings, including the risk of odour, dust and noise pollution, as well as the risk of fires on site. We work hard to minimise these effects on neighbouring communities. Transparent and regular dialogue enables us to identify, understand, address and manage risks together, while enabling us to build trusted relationships. We also have an important role in educating communities. This helps build understanding about recycling and the circular economy, can result in better inbound waste streams and also develops appreciation for the essential work we do. Our objective is to positively impact our communities, and we will measure our progress through three metrics: community engagement projects, community feedback and community impact events (see table below). The pandemic has highlighted our crucial role in society. Our teams overcame challenges to ensure the continuity of essential services, and our communities recognised this essential role and expressed their gratitude. We extended the scope of our pandemic support by working with GreenCycl and Van Straten Medical in the Netherlands to recycle medical personal protective equipment (PPE), specifically facemasks, and to process and recycle medical waste. We have now started a pilot project with our partners to recycle medical equipment. Unfortunately, due to the pandemic, we were unable to connect with our communities as much as we would have liked. To mitigate this, we shared expertise and knowledge in several ways, including digitally through social media by participating in webinars on the importance of sorting at source and on the circular economy. We also produced an animated film informing local Belgian residents about the reconstruction and redevelopment of a site in Kampenhout. By enhancing relationships with our neighbours the total number of registered comments provided by communities rose. This led to more awareness and a proactive approach in our organisation. As a result we saw a decrease in the number of substantiated complaints. Through the year, as a result of Covid-19, we were unable to grow the number of community engagement projects as we had hoped. We will take active steps to continue to reduce the number of complaints from our neighbours, while focusing on strengthening our direct contribution to our communities. During FY22 Renewi will roll out the Renewi Purpose Week, giving colleagues an opportunity to proactively engage with local communities, Covid-19 permitting. We are committed to make a difference to our communities, to the countries in which we operate and to serve the planet. *Due to Covid-19 our community engagement projects were put on hold. We hope to launch our Renewi Purpose Week in the fall of 2021. Renewi stands in full support of the UN Global Compact’s Ten Principles, committing to continuously pursue improvements in human rights, labour, the environment and anti-corruption Compact and demonstrates how the Ten Principles are fully integrated into our business strategy, culture and day-to-day operations. The table directs readers to the sections of the Review that apply to each of the Ten Principles. This report has been prepared in accordance with the GRI Standards: Core option. Please see our website at renewi.com/en/sustainability for the GRI content index. Total waste handled at sites|2.73|2.13|5.18|5.15|2.31|2.38|2.73|2.56| Materials recycled1,2|1.10|0.87|3.50|3.60|1.69|1.95|1.76|1.62| Materials recovered for energy production from waste1,2|1.38|1.14|1.46|1.28|0.03|0.03|0.71|0.76| Total materials recycled and recovered for energy production|2.48|2.01|4.97|4.89|1.72|1.98|2.48|2.38| (% of total waste handled)|40.3%|40.8%|67.7%|69.9%|73.3%|81.9%|64.6%|63.4%| (% of total waste handled)|90.9%|94.2%|96.0%|94.8%|74.6%|83.1%|90.8%|93.1%| Recycling is material given a ‘second life’ for reprocessing into new goods/materials. Recovery is waste used for energy production such as production of waste derived fuels, bio-mass and similar (kg CO2 per tonne waste handled)|0.19|0.25|0.18|0.18|0.54|0.48|0.36|0.37| (kg CO2 per tonne waste collected)|10.03|9.92|10.05|9.80| (% Euro 6 trucks of total fleet)|41.3%|53.5%|51.9%|64.5%| (kg CO2 equivalents per tonnes waste handled)|6.67|9.34|8.13|8.49|21.66|20.24|11.42|11.53| Figures rounded to nearest 1,000 tonnes – totals may reflect rounding. Some data based on carbon ‘factors’. These vary from country to country and are periodically updated, such as by Government agencies Average number of complaints per site (out of total number)|0.8|0.6|0.2|0.3|0.9|0.6|9.7|6.9| Illustrations: Edu Fuentes/Debut Art. Images: Getty; iStock; page 17/Markus Spiske/Unsplash.\""
      ]
     },
     "execution_count": 39,
     "metadata": {},
     "output_type": "execute_result"
    }
   ],
   "source": [
    "long_text"
   ]
  },
  {
   "cell_type": "code",
   "execution_count": 40,
   "id": "c76dbe3f",
   "metadata": {
    "ExecuteTime": {
     "end_time": "2025-05-19T09:05:43.849490Z",
     "start_time": "2025-05-19T09:05:43.843525Z"
    }
   },
   "outputs": [],
   "source": [
    "os.remove(TARGET_FOLDER+textfile)"
   ]
  },
  {
   "cell_type": "code",
   "execution_count": 43,
   "id": "407d4499",
   "metadata": {
    "ExecuteTime": {
     "end_time": "2025-05-19T09:06:24.927924Z",
     "start_time": "2025-05-19T09:06:24.920426Z"
    }
   },
   "outputs": [],
   "source": [
    "with open(TARGET_FOLDER+textfile, 'w+') as f:\n",
    "    f.write(long_text.encode('utf-16','surrogatepass').decode('utf-16'))"
   ]
  }
 ],
 "metadata": {
  "kernelspec": {
   "display_name": "Python 3 (ipykernel)",
   "language": "python",
   "name": "python3"
  },
  "language_info": {
   "codemirror_mode": {
    "name": "ipython",
    "version": 3
   },
   "file_extension": ".py",
   "mimetype": "text/x-python",
   "name": "python",
   "nbconvert_exporter": "python",
   "pygments_lexer": "ipython3",
   "version": "3.8.10"
  },
  "notify_time": "5",
  "toc": {
   "base_numbering": 1,
   "nav_menu": {},
   "number_sections": true,
   "sideBar": true,
   "skip_h1_title": false,
   "title_cell": "Table of Contents",
   "title_sidebar": "Contents",
   "toc_cell": false,
   "toc_position": {
    "height": "574px",
    "left": "35px",
    "top": "119px",
    "width": "288px"
   },
   "toc_section_display": true,
   "toc_window_display": true
  }
 },
 "nbformat": 4,
 "nbformat_minor": 5
}
