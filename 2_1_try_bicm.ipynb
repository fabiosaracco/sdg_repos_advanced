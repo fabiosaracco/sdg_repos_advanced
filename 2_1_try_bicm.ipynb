{
 "cells": [
  {
   "cell_type": "markdown",
   "id": "d9ae3afd",
   "metadata": {},
   "source": [
    "# Intro"
   ]
  },
  {
   "cell_type": "code",
   "execution_count": 1,
   "id": "20fa48c5",
   "metadata": {
    "ExecuteTime": {
     "end_time": "2025-05-19T09:42:03.819425Z",
     "start_time": "2025-05-19T09:42:03.807816Z"
    }
   },
   "outputs": [],
   "source": [
    "import os, sys, json\n",
    "import numpy as np\n",
    "from bicm import BipartiteGraph as BiG"
   ]
  },
  {
   "cell_type": "markdown",
   "id": "4dea2d36",
   "metadata": {},
   "source": [
    "# Check"
   ]
  },
  {
   "cell_type": "code",
   "execution_count": 27,
   "id": "60bc9e66",
   "metadata": {
    "ExecuteTime": {
     "end_time": "2025-05-19T09:52:28.223804Z",
     "start_time": "2025-05-19T09:52:28.219174Z"
    }
   },
   "outputs": [],
   "source": [
    "cacca=BiG()"
   ]
  },
  {
   "cell_type": "code",
   "execution_count": 28,
   "id": "2254e3a5",
   "metadata": {
    "ExecuteTime": {
     "end_time": "2025-05-19T09:52:29.525701Z",
     "start_time": "2025-05-19T09:52:29.520417Z"
    }
   },
   "outputs": [],
   "source": [
    "rnd_mat=np.random.randint(0, 50, size=(10,20))"
   ]
  },
  {
   "cell_type": "code",
   "execution_count": 29,
   "id": "80fbf613",
   "metadata": {
    "ExecuteTime": {
     "end_time": "2025-05-19T09:52:29.809664Z",
     "start_time": "2025-05-19T09:52:29.804827Z"
    }
   },
   "outputs": [],
   "source": [
    "s_s=np.sum(rnd_mat, axis=1)\n",
    "sigma_s=np.sum(rnd_mat, axis=0)"
   ]
  },
  {
   "cell_type": "code",
   "execution_count": 30,
   "id": "6de4efbf",
   "metadata": {
    "ExecuteTime": {
     "end_time": "2025-05-19T09:52:29.987196Z",
     "start_time": "2025-05-19T09:52:29.980692Z"
    }
   },
   "outputs": [
    {
     "data": {
      "text/plain": [
       "(10, 20)"
      ]
     },
     "execution_count": 30,
     "metadata": {},
     "output_type": "execute_result"
    }
   ],
   "source": [
    "len(s_s), len(sigma_s)"
   ]
  },
  {
   "cell_type": "code",
   "execution_count": 31,
   "id": "266e9c45",
   "metadata": {
    "ExecuteTime": {
     "end_time": "2025-05-19T09:52:30.137379Z",
     "start_time": "2025-05-19T09:52:30.130880Z"
    }
   },
   "outputs": [
    {
     "data": {
      "text/plain": [
       "array([587, 623, 389, 531, 470, 409, 450, 413, 516, 480])"
      ]
     },
     "execution_count": 31,
     "metadata": {},
     "output_type": "execute_result"
    }
   ],
   "source": [
    "s_s"
   ]
  },
  {
   "cell_type": "code",
   "execution_count": 32,
   "id": "b2d56f1f",
   "metadata": {
    "ExecuteTime": {
     "end_time": "2025-05-19T09:52:30.810793Z",
     "start_time": "2025-05-19T09:52:30.805272Z"
    }
   },
   "outputs": [
    {
     "name": "stdout",
     "output_type": "stream",
     "text": [
      "Discrete weighted model: BiWCM_d\n"
     ]
    }
   ],
   "source": [
    "cacca.set_biadjacency_matrix(rnd_mat)"
   ]
  },
  {
   "cell_type": "code",
   "execution_count": 33,
   "id": "5071f748",
   "metadata": {
    "ExecuteTime": {
     "end_time": "2025-05-19T09:52:33.709661Z",
     "start_time": "2025-05-19T09:52:33.705444Z"
    }
   },
   "outputs": [],
   "source": [
    "cacca.weighted=True"
   ]
  },
  {
   "cell_type": "code",
   "execution_count": 34,
   "id": "ae25549e",
   "metadata": {
    "ExecuteTime": {
     "end_time": "2025-05-19T09:52:35.149476Z",
     "start_time": "2025-05-19T09:52:35.145179Z"
    }
   },
   "outputs": [],
   "source": [
    "cacca.set_to_continuous()"
   ]
  },
  {
   "cell_type": "code",
   "execution_count": 35,
   "id": "bf9d5bd5",
   "metadata": {
    "ExecuteTime": {
     "end_time": "2025-05-19T09:52:41.955220Z",
     "start_time": "2025-05-19T09:52:38.290785Z"
    }
   },
   "outputs": [
    {
     "name": "stdout",
     "output_type": "stream",
     "text": [
      "max rows error = 1.549394721930031e-15\n",
      "max columns error = 2.62354240896037e-15\n",
      "total error = 3.0291587668850954e-14\n",
      "Solver converged.\n"
     ]
    }
   ],
   "source": [
    "cacca.solve_tool()"
   ]
  },
  {
   "cell_type": "code",
   "execution_count": null,
   "id": "cc6bab26",
   "metadata": {},
   "outputs": [],
   "source": []
  }
 ],
 "metadata": {
  "kernelspec": {
   "display_name": "Python 3 (ipykernel)",
   "language": "python",
   "name": "python3"
  },
  "language_info": {
   "codemirror_mode": {
    "name": "ipython",
    "version": 3
   },
   "file_extension": ".py",
   "mimetype": "text/x-python",
   "name": "python",
   "nbconvert_exporter": "python",
   "pygments_lexer": "ipython3",
   "version": "3.8.10"
  },
  "toc": {
   "base_numbering": 1,
   "nav_menu": {},
   "number_sections": true,
   "sideBar": true,
   "skip_h1_title": false,
   "title_cell": "Table of Contents",
   "title_sidebar": "Contents",
   "toc_cell": false,
   "toc_position": {
    "height": "calc(100% - 180px)",
    "left": "10px",
    "top": "150px",
    "width": "288px"
   },
   "toc_section_display": true,
   "toc_window_display": true
  }
 },
 "nbformat": 4,
 "nbformat_minor": 5
}
