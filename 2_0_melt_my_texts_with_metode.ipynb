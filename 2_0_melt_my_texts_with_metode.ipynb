{
 "cells": [
  {
   "cell_type": "markdown",
   "id": "7d887bfd",
   "metadata": {},
   "source": [
    "# Intro"
   ]
  },
  {
   "cell_type": "markdown",
   "id": "a0c2ca1c",
   "metadata": {},
   "source": [
    "## Standard modules"
   ]
  },
  {
   "cell_type": "code",
   "execution_count": 1,
   "id": "b1681a85",
   "metadata": {
    "ExecuteTime": {
     "end_time": "2025-06-20T15:29:37.994918Z",
     "start_time": "2025-06-20T15:29:37.845004Z"
    }
   },
   "outputs": [],
   "source": [
    "import os, sys, json\n",
    "import numpy as np"
   ]
  },
  {
   "cell_type": "code",
   "execution_count": 2,
   "id": "71b2d309",
   "metadata": {
    "ExecuteTime": {
     "end_time": "2025-06-20T15:29:38.146414Z",
     "start_time": "2025-06-20T15:29:38.007727Z"
    }
   },
   "outputs": [],
   "source": [
    "from tqdm.auto import tqdm, trange"
   ]
  },
  {
   "cell_type": "code",
   "execution_count": 3,
   "id": "6cdbb9aa",
   "metadata": {
    "ExecuteTime": {
     "end_time": "2025-06-20T15:29:39.735493Z",
     "start_time": "2025-06-20T15:29:38.184854Z"
    }
   },
   "outputs": [],
   "source": [
    "from bicm import BipartiteGraph as BiG"
   ]
  },
  {
   "cell_type": "markdown",
   "id": "95f3ae22",
   "metadata": {},
   "source": [
    "## Hand-made modules"
   ]
  },
  {
   "cell_type": "code",
   "execution_count": 4,
   "id": "0bffbcda",
   "metadata": {
    "ExecuteTime": {
     "end_time": "2025-06-20T15:29:41.154622Z",
     "start_time": "2025-06-20T15:29:39.740937Z"
    }
   },
   "outputs": [
    {
     "name": "stderr",
     "output_type": "stream",
     "text": [
      "[nltk_data] Downloading package stopwords to\n",
      "[nltk_data]     /home/sarawalk/nltk_data...\n",
      "[nltk_data]   Package stopwords is already up-to-date!\n",
      "[nltk_data] Downloading package punkt to /home/sarawalk/nltk_data...\n",
      "[nltk_data]   Package punkt is already up-to-date!\n"
     ]
    }
   ],
   "source": [
    "from melt import melt"
   ]
  },
  {
   "cell_type": "markdown",
   "id": "3bfe768b",
   "metadata": {},
   "source": [
    "## Folders"
   ]
  },
  {
   "cell_type": "code",
   "execution_count": 5,
   "id": "2db63394",
   "metadata": {
    "ExecuteTime": {
     "end_time": "2025-06-20T15:29:41.162967Z",
     "start_time": "2025-06-20T15:29:41.158230Z"
    }
   },
   "outputs": [],
   "source": [
    "TEXT_FOLDER='./NewProcessedData/texts/'"
   ]
  },
  {
   "cell_type": "markdown",
   "id": "81d2acb9",
   "metadata": {},
   "source": [
    "## Files"
   ]
  },
  {
   "cell_type": "code",
   "execution_count": 6,
   "id": "fcbd6056",
   "metadata": {
    "ExecuteTime": {
     "end_time": "2025-06-20T15:29:41.251944Z",
     "start_time": "2025-06-20T15:29:41.167786Z"
    }
   },
   "outputs": [],
   "source": [
    "text_files=[file for file in os.listdir(TEXT_FOLDER) if file.endswith('.txt')]"
   ]
  },
  {
   "cell_type": "code",
   "execution_count": 7,
   "id": "f727928e",
   "metadata": {
    "ExecuteTime": {
     "end_time": "2025-06-20T15:29:41.342862Z",
     "start_time": "2025-06-20T15:29:41.255358Z"
    }
   },
   "outputs": [],
   "source": [
    "text_files.sort()"
   ]
  },
  {
   "cell_type": "code",
   "execution_count": 8,
   "id": "ded0fd43",
   "metadata": {
    "ExecuteTime": {
     "end_time": "2025-06-20T15:29:41.445010Z",
     "start_time": "2025-06-20T15:29:41.346231Z"
    }
   },
   "outputs": [
    {
     "data": {
      "text/plain": [
       "'2015'"
      ]
     },
     "execution_count": 8,
     "metadata": {},
     "output_type": "execute_result"
    }
   ],
   "source": [
    "text_files[0][:4]"
   ]
  },
  {
   "cell_type": "markdown",
   "id": "c64bdf1f",
   "metadata": {},
   "source": [
    "# Grab all texts"
   ]
  },
  {
   "cell_type": "code",
   "execution_count": 9,
   "id": "f0c14410",
   "metadata": {
    "ExecuteTime": {
     "end_time": "2025-06-20T15:29:44.461757Z",
     "start_time": "2025-06-20T15:29:41.466468Z"
    }
   },
   "outputs": [
    {
     "data": {
      "application/vnd.jupyter.widget-view+json": {
       "model_id": "baf86f10ef3746ef90ab6c074d3d90be",
       "version_major": 2,
       "version_minor": 0
      },
      "text/plain": [
       "  0%|          | 0/574 [00:00<?, ?it/s]"
      ]
     },
     "metadata": {},
     "output_type": "display_data"
    }
   ],
   "source": [
    "all_texts={}\n",
    "for text_file in tqdm(text_files):\n",
    "    year=text_file[:4]\n",
    "    with open(TEXT_FOLDER+text_file, 'r') as f:\n",
    "        _text=f.readlines()\n",
    "    \n",
    "    if len(_text)>1:\n",
    "        _text=' '.join(_text)\n",
    "    elif len(_text)==1:\n",
    "        _text=_text[0]\n",
    "    else:\n",
    "        print(text_file)\n",
    "    \n",
    "    if len(_text)>0:\n",
    "        if year not in all_texts.keys():\n",
    "            all_texts[year]={}\n",
    "            all_texts[year]['firms']=[]\n",
    "            all_texts[year]['texts']=[]\n",
    "        all_texts[year]['texts'].append(_text)\n",
    "        all_texts[year]['firms'].append(text_file[8:-9])"
   ]
  },
  {
   "cell_type": "markdown",
   "id": "71615f5e",
   "metadata": {},
   "source": [
    "To be checked"
   ]
  },
  {
   "cell_type": "markdown",
   "id": "f5afc04b",
   "metadata": {},
   "source": [
    "# Operate with metode"
   ]
  },
  {
   "cell_type": "markdown",
   "id": "9757c3a7",
   "metadata": {},
   "source": [
    "## Dependencies"
   ]
  },
  {
   "cell_type": "code",
   "execution_count": 16,
   "id": "81a8d94f",
   "metadata": {
    "ExecuteTime": {
     "end_time": "2025-06-20T15:31:23.578724Z",
     "start_time": "2025-06-20T15:31:23.566824Z"
    }
   },
   "outputs": [
    {
     "name": "stderr",
     "output_type": "stream",
     "text": [
      "[nltk_data] Downloading package stopwords to\n",
      "[nltk_data]     /home/sarawalk/nltk_data...\n",
      "[nltk_data]   Package stopwords is already up-to-date!\n",
      "[nltk_data] Downloading package punkt to /home/sarawalk/nltk_data...\n",
      "[nltk_data]   Package punkt is already up-to-date!\n"
     ]
    }
   ],
   "source": [
    "import os, sys, json\n",
    "import numpy as np\n",
    "\n",
    "from tqdm.auto import tqdm, trange\n",
    "\n",
    "from bicm import BipartiteGraph as BiG\n",
    "\n",
    "import string\n",
    "\n",
    "import nltk\n",
    "nltk.download('stopwords')\n",
    "nltk.download('punkt')\n",
    "\n",
    "from nltk.corpus import stopwords\n",
    "from nltk.tokenize import word_tokenize\n",
    "\n",
    "from nltk.stem.snowball import SnowballStemmer\n",
    "\n",
    "from collections import Counter\n",
    "\n",
    "from scipy.stats import geom"
   ]
  },
  {
   "cell_type": "markdown",
   "id": "044730b0",
   "metadata": {},
   "source": [
    "## Class"
   ]
  },
  {
   "cell_type": "code",
   "execution_count": 17,
   "id": "0fc2300f",
   "metadata": {
    "ExecuteTime": {
     "end_time": "2025-06-20T15:36:34.146132Z",
     "start_time": "2025-06-20T15:36:34.093622Z"
    }
   },
   "outputs": [],
   "source": [
    "class metode:\n",
    "    \n",
    "    \n",
    "    def __init__(self, texts, row_names=None, alpha=0.01, lang=None):\n",
    "        # biadjacency list\n",
    "        self.texts=texts\n",
    "        # row names\n",
    "        if row_names is not None:\n",
    "            self.row_names=row_names\n",
    "        else:\n",
    "            self.row_names=np.arange(len(row_names))\n",
    "        # significance threshold\n",
    "        self.alpha=alpha\n",
    "        assert alpha<1 and alpha>0\n",
    "        # language\n",
    "        if lang is None:\n",
    "            self.lang=\"english\"\n",
    "        else:\n",
    "            # check that english is among the accepted languages by nltk\n",
    "            self.lang=lang\n",
    "        # get the stemmer\n",
    "        self.stemmer = SnowballStemmer(self.lang, ignore_stopwords=True)\n",
    "        \n",
    "        # bad characters\n",
    "        self.stop_words = list(stopwords.words(self.lang))\n",
    "        self.bad_char=['©', '–', '‘', '’', '“', '”', \"''\", \"'s\",'``']\n",
    "        self.super_bad_char=[\"'\", \"\\\\\", \"/\", '+', \"^^\", \":\", '£', '$']\n",
    "        \n",
    "        # get the biadjacency list\n",
    "        #self.get_bili()\n",
    "        # get the biadjacency matrix to feed bicm\n",
    "        #self.get_all_tokens()\n",
    "        #self.bili2bima()\n",
    "    \n",
    "    def _tests(self, entry):\n",
    "        # I am removing:\n",
    "        # - stop words;\n",
    "        # - punctuation\n",
    "        # - fractional numbers\n",
    "        _test_0=not (entry in self.stop_words)\n",
    "        _test_1=not (entry in self.bad_char)\n",
    "        _test_2=not (entry in string.punctuation)\n",
    "        #_test_3=not ('.' in entry)\n",
    "        #_test_4=not (',' in entry)\n",
    "        #_test_5=not entry.isnumeric()\n",
    "        _test_5=not entry[0].isnumeric()\n",
    "        _test_6=not (entry[0] in self.super_bad_char)\n",
    "        #return _test_0 and _test_1 and _test_2 and _test_3 and _test_4 and _test_5# and _test_6\n",
    "        return _test_0 and _test_1 and _test_2 and _test_5# and _test_6\n",
    "    \n",
    "    def get_bili(self):\n",
    "        self.bili={}\n",
    "        for i in trange(len(self.texts), leave=True, desc='get biadjacency list'):\n",
    "            self.bili[self.row_names[i]]=self.text2tokens_counter(self.texts[i])\n",
    "            \n",
    "            \n",
    "    def text2tokens_counter(self, text):\n",
    "        # it could be parallelized\n",
    "        tokens = [self.stemmer.stem(w.lower()) for w in word_tokenize(text) if self._tests(w)]\n",
    "        return Counter(tokens)\n",
    "    \n",
    "    \n",
    "    def get_all_tokens(self):\n",
    "        self.all_tokens=[]\n",
    "        for key in tqdm(self.bili.keys(), leave=True, desc='get all tokens'):\n",
    "            for _token in self.bili[key].keys():\n",
    "                if _token not in self.all_tokens:\n",
    "                    self.all_tokens.append(_token)\n",
    "        self.all_tokens.sort()\n",
    "        self.all_tokens=np.array(self.all_tokens)\n",
    "\n",
    "    def bili2bima(self):\n",
    "        ''' \n",
    "        biadjacency list to biadjacency matrix\n",
    "        '''\n",
    "        if not hasattr(self, 'bili'):\n",
    "            self.get_bili()\n",
    "        if not hasattr(self, 'all_tokens'):\n",
    "            self.get_all_tokens()\n",
    "        \n",
    "        self.bima=np.zeros((len(self.bili.keys()), len(self.all_tokens)), dtype=int)\n",
    "        for i_key, key in enumerate(tqdm(self.bili.keys(), leave=True, desc='bili2bima')):\n",
    "            for _token in self.all_tokens:\n",
    "                where_token=np.where(self.all_tokens==_token)[0][0]\n",
    "                #where_token=self.all_tokens.index(_token)\n",
    "                self.bima[i_key, where_token]+=self.bili[key][_token]\n",
    "                \n",
    "    def validated_bima(self):\n",
    "        '''\n",
    "        Maximum Entropy TOpic DEtection\n",
    "        '''\n",
    "        if not hasattr(self, 'bima'):\n",
    "            self.bili2bima()\n",
    "            \n",
    "        \n",
    "        # Bipartite Graph of bicm\n",
    "        self.mygraph=BiG()\n",
    "        # initialize it with the bipartite matrix, \n",
    "        # i.e. the only way to initialize the method for bipartite weighted graphs\n",
    "        self.mygraph.set_biadjacency_matrix(self.bima)\n",
    "        # solve BiWCM\n",
    "        self.mygraph.solve_tool()\n",
    "        # calculate p-values\n",
    "        self.mygraph.compute_weighted_pvals_mat()\n",
    "        # return the validated matrix\n",
    "        self.validated_m=self.mygraph.get_validated_matrix(significance=self.alpha, validation_method='fdr')\n",
    "        \n",
    "    def get_p_mat(self):\n",
    "        if not hasattr(self, 'mygraph'):\n",
    "            self.validated_bima()\n",
    "        self.p_mat=np.outer(np.exp(-self.mygraph.theta_x), np.exp(-self.mygraph.theta_y))\n",
    "        \n",
    "    def sample_me(self):\n",
    "        if not hasattr(self, 'p_mat'):\n",
    "            self.get_p_mat()\n",
    "        return geom.rvs(p_mat)-1\n",
    "    \n",
    "    def sufficient_sample(self, layer):\n",
    "        '''\n",
    "        The idea is to have a sample that should be big enough \n",
    "        to validate something with using Bonferroni\n",
    "        '''\n",
    "        _couples=int(l_ltp*(l_ltp-1)/2) # that's the number of test\n",
    "        SAFETY_FACTOR=2. # maybe a little bit constipated\n",
    "        return round(_couples*SAFETY_FACTOR/self.alpha)\n",
    "        \n",
    "        \n",
    "    def p_val_covol(self, n_sample, layer):\n",
    "        if not hasattr(self, 'p_mat'):\n",
    "            self.covol={}\n",
    "        \n",
    "        l_ltp=l_ltp=self.bima.shape[layer]\n",
    "        # sampling covolumes from biwcm\n",
    "        covol_sample=np.zeros((int(l_ltp*(l_ltp-1)/2), n_sample), dtype=int)\n",
    "        # it could be parallelized\n",
    "        for _ in trange(n_sample, leave=True):\n",
    "            ran_mat=self.sample_me()\n",
    "            counter=0\n",
    "            for i in range(l_ltp):\n",
    "                for j in range(i+1, l_ltp):\n",
    "                    covol_sample[counter, _]=np.dot(ran_mat[i], ran_mat[j])\n",
    "                    counter+=1\n",
    "        self.covol[layer]={}\n",
    "        self.covol[layer]['sample']=covol_sample\n",
    "        \n",
    "        # observed covolumes            \n",
    "        self.covol_obs=np.zeros(int(l_ltp*(l_ltp-1)/2), dtype=int)\n",
    "        counter=0\n",
    "        for i in range(l_ltp):\n",
    "            for j in range(i+1, l_ltp):\n",
    "                covol_obs[counter]=np.dot(debug.bima[i], debug.bima[j])\n",
    "                counter+=1\n",
    "        self.covol[layer]['obs']=covol_obs\n",
    "        \n",
    "        # p-value\n",
    "        p_val=np.zeros(l_ltp)\n",
    "        for i in range(l_ltp):\n",
    "            p_val[i]=np.sum(covol_sample[i, :]>=covol_obs[i])/n_sample\n",
    "        self.covol[layer]['pval']=p_val"
   ]
  },
  {
   "cell_type": "markdown",
   "id": "8058ae75",
   "metadata": {},
   "source": [
    "## Debug"
   ]
  },
  {
   "cell_type": "code",
   "execution_count": 12,
   "id": "418b1a75",
   "metadata": {
    "ExecuteTime": {
     "end_time": "2025-05-20T16:18:24.098375Z",
     "start_time": "2025-05-20T16:18:24.089159Z"
    }
   },
   "outputs": [],
   "source": [
    "debug=metode(all_texts['2023']['texts'][:10], all_texts['2023']['firms'][:10], 0.05)"
   ]
  },
  {
   "cell_type": "code",
   "execution_count": 13,
   "id": "768ed340",
   "metadata": {
    "ExecuteTime": {
     "end_time": "2025-05-20T16:18:34.423761Z",
     "start_time": "2025-05-20T16:18:24.687502Z"
    }
   },
   "outputs": [
    {
     "data": {
      "application/vnd.jupyter.widget-view+json": {
       "model_id": "da306144a36f4172801cd56f5661a8bd",
       "version_major": 2,
       "version_minor": 0
      },
      "text/plain": [
       "get biadjacency list:   0%|          | 0/10 [00:00<?, ?it/s]"
      ]
     },
     "metadata": {},
     "output_type": "display_data"
    }
   ],
   "source": [
    "debug.get_bili()"
   ]
  },
  {
   "cell_type": "code",
   "execution_count": 14,
   "id": "01d59ef3",
   "metadata": {
    "ExecuteTime": {
     "end_time": "2025-05-20T16:21:34.503404Z",
     "start_time": "2025-05-20T16:19:00.134608Z"
    }
   },
   "outputs": [
    {
     "data": {
      "application/vnd.jupyter.widget-view+json": {
       "model_id": "093a98a640f0403699273adc9aafef37",
       "version_major": 2,
       "version_minor": 0
      },
      "text/plain": [
       "get all tokens:   0%|          | 0/10 [00:00<?, ?it/s]"
      ]
     },
     "metadata": {},
     "output_type": "display_data"
    },
    {
     "data": {
      "application/vnd.jupyter.widget-view+json": {
       "model_id": "1b707f49a1e849c39f5d8b7eafcb3e37",
       "version_major": 2,
       "version_minor": 0
      },
      "text/plain": [
       "  0%|          | 0/10 [00:00<?, ?it/s]"
      ]
     },
     "metadata": {},
     "output_type": "display_data"
    },
    {
     "name": "stdout",
     "output_type": "stream",
     "text": [
      "Discrete weighted model: BiWCM_d\n"
     ]
    },
    {
     "name": "stderr",
     "output_type": "stream",
     "text": [
      "/home/sarawalk/sdgs_py38/lib/python3.8/site-packages/numba/core/utils.py:643: NumbaExperimentalFeatureWarning: First-class function type feature is experimental\n",
      "  warnings.warn(\"First-class function type feature is experimental\",\n",
      "/home/sarawalk/sdgs_py38/lib/python3.8/site-packages/bicm/models_functions.py:326: NumbaExperimentalFeatureWarning: First-class function type feature is experimental\n",
      "  step_fun = args[0]\n",
      "/home/sarawalk/sdgs_py38/lib/python3.8/site-packages/bicm/models_functions.py:327: NumbaExperimentalFeatureWarning: First-class function type feature is experimental\n",
      "  arg_step_fun = args[1]\n",
      "/home/sarawalk/sdgs_py38/lib/python3.8/site-packages/numba/core/utils.py:643: NumbaExperimentalFeatureWarning: First-class function type feature is experimental\n",
      "  warnings.warn(\"First-class function type feature is experimental\",\n"
     ]
    },
    {
     "name": "stdout",
     "output_type": "stream",
     "text": [
      "max rows error = 1.1557509347336059e-05\n",
      "max columns error = 1.7915442113252258e-06\n",
      "total error = 0.0008624186946751949\n",
      "Solver converged.\n"
     ]
    }
   ],
   "source": [
    "debug.validated_bima()"
   ]
  },
  {
   "cell_type": "markdown",
   "id": "65237a9c",
   "metadata": {},
   "source": [
    "### Sample me!"
   ]
  },
  {
   "cell_type": "code",
   "execution_count": 26,
   "id": "24d28c77",
   "metadata": {
    "ExecuteTime": {
     "end_time": "2025-05-20T16:23:53.461778Z",
     "start_time": "2025-05-20T16:23:53.456196Z"
    }
   },
   "outputs": [],
   "source": [
    "from scipy.stats import geom"
   ]
  },
  {
   "cell_type": "code",
   "execution_count": 76,
   "id": "5716ee3e",
   "metadata": {
    "ExecuteTime": {
     "end_time": "2025-05-20T16:52:26.478177Z",
     "start_time": "2025-05-20T16:52:26.472785Z"
    }
   },
   "outputs": [],
   "source": [
    "layer_to_project_to=1"
   ]
  },
  {
   "cell_type": "code",
   "execution_count": 77,
   "id": "7e740f6e",
   "metadata": {
    "ExecuteTime": {
     "end_time": "2025-05-20T16:52:26.937522Z",
     "start_time": "2025-05-20T16:52:26.932118Z"
    }
   },
   "outputs": [],
   "source": [
    "l_ltp=debug.bima.shape[layer_to_project_to]"
   ]
  },
  {
   "cell_type": "code",
   "execution_count": 78,
   "id": "3433e40b",
   "metadata": {
    "ExecuteTime": {
     "end_time": "2025-05-20T16:52:27.349006Z",
     "start_time": "2025-05-20T16:52:27.343339Z"
    }
   },
   "outputs": [],
   "source": [
    "n_sample=2*round(l_ltp**2/debug.alpha)"
   ]
  },
  {
   "cell_type": "code",
   "execution_count": 80,
   "id": "a5300d5e",
   "metadata": {
    "ExecuteTime": {
     "end_time": "2025-05-20T16:52:42.113507Z",
     "start_time": "2025-05-20T16:52:42.104573Z"
    }
   },
   "outputs": [
    {
     "data": {
      "text/plain": [
       "'2,734,392,960'"
      ]
     },
     "execution_count": 80,
     "metadata": {},
     "output_type": "execute_result"
    }
   ],
   "source": [
    "f'{n_sample:,}'"
   ]
  },
  {
   "cell_type": "code",
   "execution_count": 85,
   "id": "8b9130f1",
   "metadata": {
    "ExecuteTime": {
     "end_time": "2025-05-21T07:07:58.870825Z",
     "start_time": "2025-05-21T07:07:58.861868Z"
    }
   },
   "outputs": [
    {
     "data": {
      "text/plain": [
       "True"
      ]
     },
     "execution_count": 85,
     "metadata": {},
     "output_type": "execute_result"
    }
   ],
   "source": [
    "np.all(np.exp(-debug.mygraph.theta_x)==debug.mygraph.x)"
   ]
  },
  {
   "cell_type": "code",
   "execution_count": 86,
   "id": "65afbfff",
   "metadata": {
    "ExecuteTime": {
     "end_time": "2025-05-21T07:07:59.210208Z",
     "start_time": "2025-05-21T07:07:59.200663Z"
    }
   },
   "outputs": [
    {
     "data": {
      "text/plain": [
       "True"
      ]
     },
     "execution_count": 86,
     "metadata": {},
     "output_type": "execute_result"
    }
   ],
   "source": [
    "np.all(np.exp(-debug.mygraph.theta_y)==debug.mygraph.y)"
   ]
  },
  {
   "cell_type": "code",
   "execution_count": 33,
   "id": "14d3d820",
   "metadata": {
    "ExecuteTime": {
     "end_time": "2025-05-20T16:26:17.537293Z",
     "start_time": "2025-05-20T16:26:17.529856Z"
    }
   },
   "outputs": [],
   "source": [
    "p_mat=np.outer(np.exp(-debug.mygraph.theta_x), np.exp(-debug.mygraph.theta_y))"
   ]
  },
  {
   "cell_type": "code",
   "execution_count": 37,
   "id": "ba2b3198",
   "metadata": {
    "ExecuteTime": {
     "end_time": "2025-05-20T16:27:31.117953Z",
     "start_time": "2025-05-20T16:27:31.108542Z"
    }
   },
   "outputs": [
    {
     "data": {
      "text/plain": [
       "True"
      ]
     },
     "execution_count": 37,
     "metadata": {},
     "output_type": "execute_result"
    }
   ],
   "source": [
    "p_mat.shape==debug.bima.shape"
   ]
  },
  {
   "cell_type": "code",
   "execution_count": 41,
   "id": "eb109b2c",
   "metadata": {
    "ExecuteTime": {
     "end_time": "2025-05-20T16:30:31.147054Z",
     "start_time": "2025-05-20T16:30:31.129723Z"
    }
   },
   "outputs": [],
   "source": [
    "ran_mat=geom.rvs(p_mat)-1"
   ]
  },
  {
   "cell_type": "code",
   "execution_count": 50,
   "id": "ddbd72ac",
   "metadata": {
    "ExecuteTime": {
     "end_time": "2025-05-20T16:38:53.870922Z",
     "start_time": "2025-05-20T16:38:15.889272Z"
    }
   },
   "outputs": [
    {
     "data": {
      "application/vnd.jupyter.widget-view+json": {
       "model_id": "e5e79ace46cf483f9beebed57ae03e3b",
       "version_major": 2,
       "version_minor": 0
      },
      "text/plain": [
       "  0%|          | 0/4000 [00:00<?, ?it/s]"
      ]
     },
     "metadata": {},
     "output_type": "display_data"
    }
   ],
   "source": [
    "covol_sample=np.zeros((int(l_ltp*(l_ltp-1)/2), n_sample), dtype=int)\n",
    "for _ in trange(n_sample, leave=True):\n",
    "    ran_mat=geom.rvs(p_mat)-1\n",
    "    counter=0\n",
    "    for i in range(l_ltp):\n",
    "        for j in range(i+1, l_ltp):\n",
    "            covol_sample[counter, _]=np.dot(ran_mat[i], ran_mat[j])\n",
    "            counter+=1"
   ]
  },
  {
   "cell_type": "code",
   "execution_count": 53,
   "id": "b4655334",
   "metadata": {
    "ExecuteTime": {
     "end_time": "2025-05-20T16:39:19.817056Z",
     "start_time": "2025-05-20T16:39:19.806432Z"
    }
   },
   "outputs": [],
   "source": [
    "covol_obs=np.zeros(int(l_ltp*(l_ltp-1)/2), dtype=int)\n",
    "counter=0\n",
    "for i in range(l_ltp):\n",
    "    for j in range(i+1, l_ltp):\n",
    "        covol_obs[counter]=np.dot(debug.bima[i], debug.bima[j])\n",
    "        counter+=1"
   ]
  },
  {
   "cell_type": "code",
   "execution_count": 67,
   "id": "5aaa5340",
   "metadata": {
    "ExecuteTime": {
     "end_time": "2025-05-20T16:42:30.016227Z",
     "start_time": "2025-05-20T16:42:30.008310Z"
    }
   },
   "outputs": [],
   "source": [
    "p_val=np.zeros(l_ltp)\n",
    "for i in range(l_ltp):\n",
    "    p_val[i]=np.sum(covol_sample[i, :]>=covol_obs[i])/n_sample"
   ]
  },
  {
   "cell_type": "code",
   "execution_count": 68,
   "id": "aea7485c",
   "metadata": {
    "ExecuteTime": {
     "end_time": "2025-05-20T16:42:30.677893Z",
     "start_time": "2025-05-20T16:42:30.668513Z"
    }
   },
   "outputs": [
    {
     "data": {
      "text/plain": [
       "array([0.     , 0.     , 0.     , 0.     , 0.     , 0.     , 0.04225,\n",
       "       0.     , 0.     , 1.     ])"
      ]
     },
     "execution_count": 68,
     "metadata": {},
     "output_type": "execute_result"
    }
   ],
   "source": [
    "p_val"
   ]
  },
  {
   "cell_type": "code",
   "execution_count": 69,
   "id": "1bdc5c86",
   "metadata": {
    "ExecuteTime": {
     "end_time": "2025-05-20T16:42:42.342809Z",
     "start_time": "2025-05-20T16:42:42.333342Z"
    }
   },
   "outputs": [
    {
     "data": {
      "text/plain": [
       "array([395113, 415166, 414210, ..., 382982, 403303, 399563])"
      ]
     },
     "execution_count": 69,
     "metadata": {},
     "output_type": "execute_result"
    }
   ],
   "source": [
    "covol_sample[0, :]"
   ]
  },
  {
   "cell_type": "code",
   "execution_count": 71,
   "id": "4d1417cc",
   "metadata": {
    "ExecuteTime": {
     "end_time": "2025-05-20T16:42:54.467812Z",
     "start_time": "2025-05-20T16:42:54.458992Z"
    }
   },
   "outputs": [
    {
     "data": {
      "text/plain": [
       "454166"
      ]
     },
     "execution_count": 71,
     "metadata": {},
     "output_type": "execute_result"
    }
   ],
   "source": [
    "covol_obs[0]"
   ]
  },
  {
   "cell_type": "code",
   "execution_count": 75,
   "id": "c450db7e",
   "metadata": {
    "ExecuteTime": {
     "end_time": "2025-05-20T16:44:22.202686Z",
     "start_time": "2025-05-20T16:44:22.194424Z"
    }
   },
   "outputs": [
    {
     "data": {
      "text/plain": [
       "0.05"
      ]
     },
     "execution_count": 75,
     "metadata": {},
     "output_type": "execute_result"
    }
   ],
   "source": [
    "debug.alpha"
   ]
  },
  {
   "cell_type": "code",
   "execution_count": 74,
   "id": "b567a8f1",
   "metadata": {
    "ExecuteTime": {
     "end_time": "2025-05-20T16:44:02.963397Z",
     "start_time": "2025-05-20T16:44:02.952755Z"
    }
   },
   "outputs": [
    {
     "data": {
      "text/plain": [
       "array([ True,  True,  True,  True,  True,  True,  True,  True,  True,\n",
       "       False])"
      ]
     },
     "execution_count": 74,
     "metadata": {},
     "output_type": "execute_result"
    }
   ],
   "source": [
    "np.sort(p_val)<=(np.arange(len(p_val))+1)/len(p_val)*debug.alpha"
   ]
  },
  {
   "cell_type": "markdown",
   "id": "eb19af24",
   "metadata": {},
   "source": [
    "# Melt me!"
   ]
  },
  {
   "cell_type": "markdown",
   "id": "25d2fd0a",
   "metadata": {},
   "source": [
    "## Binary"
   ]
  },
  {
   "cell_type": "code",
   "execution_count": 11,
   "id": "29cdb667",
   "metadata": {
    "ExecuteTime": {
     "end_time": "2025-05-19T15:41:09.479868Z",
     "start_time": "2025-05-19T15:41:09.471053Z"
    }
   },
   "outputs": [
    {
     "data": {
      "text/plain": [
       "dict_keys(['2015', '2016', '2017', '2018', '2019', '2020', '2021', '2022', '2023', '2024'])"
      ]
     },
     "execution_count": 11,
     "metadata": {},
     "output_type": "execute_result"
    }
   ],
   "source": [
    "all_texts.keys()"
   ]
  },
  {
   "cell_type": "code",
   "execution_count": 12,
   "id": "b7fb74df",
   "metadata": {
    "ExecuteTime": {
     "end_time": "2025-05-19T15:41:09.824885Z",
     "start_time": "2025-05-19T15:41:09.813498Z"
    }
   },
   "outputs": [
    {
     "data": {
      "text/plain": [
       "[('2015', 40),\n",
       " ('2016', 44),\n",
       " ('2017', 51),\n",
       " ('2018', 56),\n",
       " ('2019', 67),\n",
       " ('2020', 69),\n",
       " ('2021', 76),\n",
       " ('2022', 80),\n",
       " ('2023', 89),\n",
       " ('2024', 2)]"
      ]
     },
     "execution_count": 12,
     "metadata": {},
     "output_type": "execute_result"
    }
   ],
   "source": [
    "[(key, len(all_texts[key]['firms'])) for key in all_texts.keys()]"
   ]
  },
  {
   "cell_type": "markdown",
   "id": "1f504ba3",
   "metadata": {},
   "source": [
    "**BINARY**"
   ]
  },
  {
   "cell_type": "code",
   "execution_count": 13,
   "id": "de4d4437",
   "metadata": {
    "ExecuteTime": {
     "end_time": "2025-05-19T15:41:21.147968Z",
     "start_time": "2025-05-19T15:41:10.758145Z"
    }
   },
   "outputs": [
    {
     "data": {
      "application/vnd.jupyter.widget-view+json": {
       "model_id": "e633cb2ce401404797a6e54fa0859522",
       "version_major": 2,
       "version_minor": 0
      },
      "text/plain": [
       "  0%|          | 0/89 [00:00<?, ?it/s]"
      ]
     },
     "metadata": {},
     "output_type": "display_data"
    },
    {
     "ename": "KeyboardInterrupt",
     "evalue": "",
     "output_type": "error",
     "traceback": [
      "\u001b[0;31m---------------------------------------------------------------------------\u001b[0m",
      "\u001b[0;31mKeyboardInterrupt\u001b[0m                         Traceback (most recent call last)",
      "Cell \u001b[0;32mIn[13], line 1\u001b[0m\n\u001b[0;32m----> 1\u001b[0m cacca\u001b[38;5;241m=\u001b[39m\u001b[43mmelt\u001b[49m\u001b[43m(\u001b[49m\u001b[43mall_texts\u001b[49m\u001b[43m[\u001b[49m\u001b[38;5;124;43m'\u001b[39;49m\u001b[38;5;124;43m2023\u001b[39;49m\u001b[38;5;124;43m'\u001b[39;49m\u001b[43m]\u001b[49m\u001b[43m[\u001b[49m\u001b[38;5;124;43m'\u001b[39;49m\u001b[38;5;124;43mtexts\u001b[39;49m\u001b[38;5;124;43m'\u001b[39;49m\u001b[43m]\u001b[49m\u001b[43m,\u001b[49m\u001b[43m \u001b[49m\u001b[43mbinary\u001b[49m\u001b[38;5;241;43m=\u001b[39;49m\u001b[38;5;28;43;01mTrue\u001b[39;49;00m\u001b[43m)\u001b[49m\n",
      "File \u001b[0;32m~/sdgs_py38/lib/python3.8/site-packages/melt/melt.py:89\u001b[0m, in \u001b[0;36mmelt.__init__\u001b[0;34m(self, data, lang, binary, columns)\u001b[0m\n\u001b[1;32m     86\u001b[0m \u001b[38;5;28mself\u001b[39m\u001b[38;5;241m.\u001b[39mstemmer \u001b[38;5;241m=\u001b[39m SnowballStemmer(\u001b[38;5;28mself\u001b[39m\u001b[38;5;241m.\u001b[39mlang, ignore_stopwords\u001b[38;5;241m=\u001b[39m\u001b[38;5;28;01mTrue\u001b[39;00m)\n\u001b[1;32m     88\u001b[0m \u001b[38;5;66;03m# get the biadjacency llist\u001b[39;00m\n\u001b[0;32m---> 89\u001b[0m \u001b[38;5;28;43mself\u001b[39;49m\u001b[38;5;241;43m.\u001b[39;49m\u001b[43mget_ball\u001b[49m\u001b[43m(\u001b[49m\u001b[43m)\u001b[49m\n",
      "File \u001b[0;32m~/sdgs_py38/lib/python3.8/site-packages/melt/melt.py:109\u001b[0m, in \u001b[0;36mmelt.get_ball\u001b[0;34m(self)\u001b[0m\n\u001b[1;32m    107\u001b[0m \u001b[38;5;28;01melif\u001b[39;00m \u001b[38;5;28mself\u001b[39m\u001b[38;5;241m.\u001b[39mdata_type\u001b[38;5;241m==\u001b[39m\u001b[38;5;124m'\u001b[39m\u001b[38;5;124mlist\u001b[39m\u001b[38;5;124m'\u001b[39m:\n\u001b[1;32m    108\u001b[0m     _text\u001b[38;5;241m=\u001b[39m\u001b[38;5;28mself\u001b[39m\u001b[38;5;241m.\u001b[39mdata[i]\n\u001b[0;32m--> 109\u001b[0m     tokens\u001b[38;5;241m=\u001b[39m\u001b[38;5;28;43mself\u001b[39;49m\u001b[38;5;241;43m.\u001b[39;49m\u001b[43mtext2tokens\u001b[49m\u001b[43m(\u001b[49m\u001b[43m_text\u001b[49m\u001b[43m)\u001b[49m  \n\u001b[1;32m    110\u001b[0m     \u001b[38;5;28mself\u001b[39m\u001b[38;5;241m.\u001b[39mbiadj_list[i]\u001b[38;5;241m=\u001b[39mtokens\n\u001b[1;32m    111\u001b[0m \u001b[38;5;28;01melif\u001b[39;00m \u001b[38;5;28mself\u001b[39m\u001b[38;5;241m.\u001b[39mdata_type\u001b[38;5;241m==\u001b[39m\u001b[38;5;124m'\u001b[39m\u001b[38;5;124mlol\u001b[39m\u001b[38;5;124m'\u001b[39m:\n",
      "File \u001b[0;32m~/sdgs_py38/lib/python3.8/site-packages/melt/melt.py:121\u001b[0m, in \u001b[0;36mmelt.text2tokens\u001b[0;34m(self, text)\u001b[0m\n\u001b[1;32m    119\u001b[0m stop_words \u001b[38;5;241m=\u001b[39m \u001b[38;5;28mlist\u001b[39m(stopwords\u001b[38;5;241m.\u001b[39mwords(\u001b[38;5;28mself\u001b[39m\u001b[38;5;241m.\u001b[39mlang))\n\u001b[1;32m    120\u001b[0m bad_char\u001b[38;5;241m=\u001b[39m[\u001b[38;5;124m'\u001b[39m\u001b[38;5;124m©\u001b[39m\u001b[38;5;124m'\u001b[39m, \u001b[38;5;124m'\u001b[39m\u001b[38;5;124m–\u001b[39m\u001b[38;5;124m'\u001b[39m, \u001b[38;5;124m'\u001b[39m\u001b[38;5;124m‘\u001b[39m\u001b[38;5;124m'\u001b[39m, \u001b[38;5;124m'\u001b[39m\u001b[38;5;124m’\u001b[39m\u001b[38;5;124m'\u001b[39m, \u001b[38;5;124m'\u001b[39m\u001b[38;5;124m“\u001b[39m\u001b[38;5;124m'\u001b[39m, \u001b[38;5;124m'\u001b[39m\u001b[38;5;124m”\u001b[39m\u001b[38;5;124m'\u001b[39m, \u001b[38;5;124m\"\u001b[39m\u001b[38;5;124m'\u001b[39m\u001b[38;5;124m'\u001b[39m\u001b[38;5;124m\"\u001b[39m, \u001b[38;5;124m\"\u001b[39m\u001b[38;5;124m'\u001b[39m\u001b[38;5;124ms\u001b[39m\u001b[38;5;124m\"\u001b[39m,\u001b[38;5;124m'\u001b[39m\u001b[38;5;124m``\u001b[39m\u001b[38;5;124m'\u001b[39m]\n\u001b[0;32m--> 121\u001b[0m word_tokens \u001b[38;5;241m=\u001b[39m [wt\u001b[38;5;241m.\u001b[39mlower() \u001b[38;5;28;01mfor\u001b[39;00m wt \u001b[38;5;129;01min\u001b[39;00m \u001b[43mword_tokenize\u001b[49m\u001b[43m(\u001b[49m\u001b[43mtext\u001b[49m\u001b[43m)\u001b[49m]\n\u001b[1;32m    122\u001b[0m out\u001b[38;5;241m=\u001b[39m[]\n\u001b[1;32m    123\u001b[0m \u001b[38;5;28;01mfor\u001b[39;00m w \u001b[38;5;129;01min\u001b[39;00m word_tokens:\n",
      "File \u001b[0;32m~/sdgs_py38/lib/python3.8/site-packages/nltk/tokenize/__init__.py:130\u001b[0m, in \u001b[0;36mword_tokenize\u001b[0;34m(text, language, preserve_line)\u001b[0m\n\u001b[1;32m    115\u001b[0m \u001b[38;5;250m\u001b[39m\u001b[38;5;124;03m\"\"\"\u001b[39;00m\n\u001b[1;32m    116\u001b[0m \u001b[38;5;124;03mReturn a tokenized copy of *text*,\u001b[39;00m\n\u001b[1;32m    117\u001b[0m \u001b[38;5;124;03musing NLTK's recommended word tokenizer\u001b[39;00m\n\u001b[0;32m   (...)\u001b[0m\n\u001b[1;32m    127\u001b[0m \u001b[38;5;124;03m:type preserve_line: bool\u001b[39;00m\n\u001b[1;32m    128\u001b[0m \u001b[38;5;124;03m\"\"\"\u001b[39;00m\n\u001b[1;32m    129\u001b[0m sentences \u001b[38;5;241m=\u001b[39m [text] \u001b[38;5;28;01mif\u001b[39;00m preserve_line \u001b[38;5;28;01melse\u001b[39;00m sent_tokenize(text, language)\n\u001b[0;32m--> 130\u001b[0m \u001b[38;5;28;01mreturn\u001b[39;00m [\n\u001b[1;32m    131\u001b[0m     token \u001b[38;5;28;01mfor\u001b[39;00m sent \u001b[38;5;129;01min\u001b[39;00m sentences \u001b[38;5;28;01mfor\u001b[39;00m token \u001b[38;5;129;01min\u001b[39;00m _treebank_word_tokenizer\u001b[38;5;241m.\u001b[39mtokenize(sent)\n\u001b[1;32m    132\u001b[0m ]\n",
      "File \u001b[0;32m~/sdgs_py38/lib/python3.8/site-packages/nltk/tokenize/__init__.py:131\u001b[0m, in \u001b[0;36m<listcomp>\u001b[0;34m(.0)\u001b[0m\n\u001b[1;32m    115\u001b[0m \u001b[38;5;250m\u001b[39m\u001b[38;5;124;03m\"\"\"\u001b[39;00m\n\u001b[1;32m    116\u001b[0m \u001b[38;5;124;03mReturn a tokenized copy of *text*,\u001b[39;00m\n\u001b[1;32m    117\u001b[0m \u001b[38;5;124;03musing NLTK's recommended word tokenizer\u001b[39;00m\n\u001b[0;32m   (...)\u001b[0m\n\u001b[1;32m    127\u001b[0m \u001b[38;5;124;03m:type preserve_line: bool\u001b[39;00m\n\u001b[1;32m    128\u001b[0m \u001b[38;5;124;03m\"\"\"\u001b[39;00m\n\u001b[1;32m    129\u001b[0m sentences \u001b[38;5;241m=\u001b[39m [text] \u001b[38;5;28;01mif\u001b[39;00m preserve_line \u001b[38;5;28;01melse\u001b[39;00m sent_tokenize(text, language)\n\u001b[1;32m    130\u001b[0m \u001b[38;5;28;01mreturn\u001b[39;00m [\n\u001b[0;32m--> 131\u001b[0m     token \u001b[38;5;28;01mfor\u001b[39;00m sent \u001b[38;5;129;01min\u001b[39;00m sentences \u001b[38;5;28;01mfor\u001b[39;00m token \u001b[38;5;129;01min\u001b[39;00m \u001b[43m_treebank_word_tokenizer\u001b[49m\u001b[38;5;241;43m.\u001b[39;49m\u001b[43mtokenize\u001b[49m\u001b[43m(\u001b[49m\u001b[43msent\u001b[49m\u001b[43m)\u001b[49m\n\u001b[1;32m    132\u001b[0m ]\n",
      "File \u001b[0;32m~/sdgs_py38/lib/python3.8/site-packages/nltk/tokenize/destructive.py:164\u001b[0m, in \u001b[0;36mNLTKWordTokenizer.tokenize\u001b[0;34m(self, text, convert_parentheses, return_str)\u001b[0m\n\u001b[1;32m    162\u001b[0m \u001b[38;5;66;03m# Handles parentheses.\u001b[39;00m\n\u001b[1;32m    163\u001b[0m regexp, substitution \u001b[38;5;241m=\u001b[39m \u001b[38;5;28mself\u001b[39m\u001b[38;5;241m.\u001b[39mPARENS_BRACKETS\n\u001b[0;32m--> 164\u001b[0m text \u001b[38;5;241m=\u001b[39m \u001b[43mregexp\u001b[49m\u001b[38;5;241;43m.\u001b[39;49m\u001b[43msub\u001b[49m\u001b[43m(\u001b[49m\u001b[43msubstitution\u001b[49m\u001b[43m,\u001b[49m\u001b[43m \u001b[49m\u001b[43mtext\u001b[49m\u001b[43m)\u001b[49m\n\u001b[1;32m    165\u001b[0m \u001b[38;5;66;03m# Optionally convert parentheses\u001b[39;00m\n\u001b[1;32m    166\u001b[0m \u001b[38;5;28;01mif\u001b[39;00m convert_parentheses:\n",
      "File \u001b[0;32m~/python/Python-3.8.10/Lib/re.py:327\u001b[0m, in \u001b[0;36m_subx\u001b[0;34m(pattern, template)\u001b[0m\n\u001b[1;32m    325\u001b[0m \u001b[38;5;28;01mdef\u001b[39;00m \u001b[38;5;21m_subx\u001b[39m(pattern, template):\n\u001b[1;32m    326\u001b[0m     \u001b[38;5;66;03m# internal: Pattern.sub/subn implementation helper\u001b[39;00m\n\u001b[0;32m--> 327\u001b[0m     template \u001b[38;5;241m=\u001b[39m \u001b[43m_compile_repl\u001b[49m\u001b[43m(\u001b[49m\u001b[43mtemplate\u001b[49m\u001b[43m,\u001b[49m\u001b[43m \u001b[49m\u001b[43mpattern\u001b[49m\u001b[43m)\u001b[49m\n\u001b[1;32m    328\u001b[0m     \u001b[38;5;28;01mif\u001b[39;00m \u001b[38;5;129;01mnot\u001b[39;00m template[\u001b[38;5;241m0\u001b[39m] \u001b[38;5;129;01mand\u001b[39;00m \u001b[38;5;28mlen\u001b[39m(template[\u001b[38;5;241m1\u001b[39m]) \u001b[38;5;241m==\u001b[39m \u001b[38;5;241m1\u001b[39m:\n\u001b[1;32m    329\u001b[0m         \u001b[38;5;66;03m# literal replacement\u001b[39;00m\n\u001b[1;32m    330\u001b[0m         \u001b[38;5;28;01mreturn\u001b[39;00m template[\u001b[38;5;241m1\u001b[39m][\u001b[38;5;241m0\u001b[39m]\n",
      "\u001b[0;31mKeyboardInterrupt\u001b[0m: "
     ]
    }
   ],
   "source": [
    "cacca=melt(all_texts['2023']['texts'], binary=True)"
   ]
  },
  {
   "cell_type": "code",
   "execution_count": 13,
   "id": "dbe80e85",
   "metadata": {
    "ExecuteTime": {
     "end_time": "2025-05-19T09:58:58.500819Z",
     "start_time": "2025-05-19T09:58:38.529887Z"
    }
   },
   "outputs": [
    {
     "name": "stdout",
     "output_type": "stream",
     "text": [
      "\n",
      "                      WARNING: this system has at least a node that is disconnected or connected to all nodes\n",
      "                       of the opposite layer. This may cause some convergence issues.\n",
      "                      Please use the full mode providing a biadjacency matrix or an edgelist,\n",
      "                       or clean your data from these nodes. \n",
      "                      \n"
     ]
    },
    {
     "name": "stderr",
     "output_type": "stream",
     "text": [
      "/home/sarawalk/sdgs_py38/lib/python3.8/site-packages/numba/core/utils.py:643: NumbaExperimentalFeatureWarning: First-class function type feature is experimental\n",
      "  warnings.warn(\"First-class function type feature is experimental\",\n",
      "/home/sarawalk/sdgs_py38/lib/python3.8/site-packages/bicm/models_functions.py:326: NumbaExperimentalFeatureWarning: First-class function type feature is experimental\n",
      "  step_fun = args[0]\n",
      "/home/sarawalk/sdgs_py38/lib/python3.8/site-packages/bicm/models_functions.py:327: NumbaExperimentalFeatureWarning: First-class function type feature is experimental\n",
      "  arg_step_fun = args[1]\n",
      "/home/sarawalk/sdgs_py38/lib/python3.8/site-packages/numba/core/utils.py:643: NumbaExperimentalFeatureWarning: First-class function type feature is experimental\n",
      "  warnings.warn(\"First-class function type feature is experimental\",\n"
     ]
    },
    {
     "name": "stdout",
     "output_type": "stream",
     "text": [
      "max rows error = 4.547473508864641e-12\n",
      "max columns error = 9.947598300641403e-14\n",
      "total error = 5.441136430306415e-11\n",
      "Solver converged.\n"
     ]
    },
    {
     "name": "stderr",
     "output_type": "stream",
     "text": [
      "  7%|████████▏                                                                                                                | 6/89 [00:00<00:09,  8.66it/s]/home/sarawalk/sdgs_py38/lib/python3.8/site-packages/bicm/graph_classes.py:1113: RuntimeWarning: invalid value encountered in divide\n",
      "  probs = node_xy * neighbor_xy / ((1 + node_xy) * (1 + neighbor_xy))\n",
      " 13%|████████████████▏                                                                                                       | 12/89 [00:01<00:08,  9.04it/s]/home/sarawalk/sdgs_py38/lib/python3.8/site-packages/bicm/graph_classes.py:1113: RuntimeWarning: invalid value encountered in divide\n",
      "  probs = node_xy * neighbor_xy / ((1 + node_xy) * (1 + neighbor_xy))\n",
      " 20%|████████████████████████▎                                                                                               | 18/89 [00:01<00:07,  9.17it/s]/home/sarawalk/sdgs_py38/lib/python3.8/site-packages/bicm/graph_classes.py:1113: RuntimeWarning: invalid value encountered in divide\n",
      "  probs = node_xy * neighbor_xy / ((1 + node_xy) * (1 + neighbor_xy))\n",
      " 27%|████████████████████████████████▎                                                                                       | 24/89 [00:02<00:07,  9.04it/s]/home/sarawalk/sdgs_py38/lib/python3.8/site-packages/bicm/graph_classes.py:1113: RuntimeWarning: invalid value encountered in divide\n",
      "  probs = node_xy * neighbor_xy / ((1 + node_xy) * (1 + neighbor_xy))\n",
      "100%|████████████████████████████████████████████████████████████████████████████████████████████████████████████████████████| 89/89 [00:09<00:00,  9.79it/s]\n"
     ]
    },
    {
     "name": "stdout",
     "output_type": "stream",
     "text": [
      "No V-motifs will be validated. Try increasing alpha\n"
     ]
    },
    {
     "ename": "AttributeError",
     "evalue": "'BipartiteGraph' object has no attribute 'cols_projection'",
     "output_type": "error",
     "traceback": [
      "\u001b[0;31m---------------------------------------------------------------------------\u001b[0m",
      "\u001b[0;31mAttributeError\u001b[0m                            Traceback (most recent call last)",
      "Cell \u001b[0;32mIn[13], line 1\u001b[0m\n\u001b[0;32m----> 1\u001b[0m \u001b[43mcacca\u001b[49m\u001b[38;5;241;43m.\u001b[39;49m\u001b[43mget_projection\u001b[49m\u001b[43m(\u001b[49m\u001b[43mrows\u001b[49m\u001b[38;5;241;43m=\u001b[39;49m\u001b[38;5;28;43;01mTrue\u001b[39;49;00m\u001b[43m,\u001b[49m\u001b[43m \u001b[49m\u001b[43malpha\u001b[49m\u001b[38;5;241;43m=\u001b[39;49m\u001b[38;5;241;43m0.05\u001b[39;49m\u001b[43m,\u001b[49m\u001b[43m \u001b[49m\u001b[43mapprox_method\u001b[49m\u001b[38;5;241;43m=\u001b[39;49m\u001b[38;5;124;43m'\u001b[39;49m\u001b[38;5;124;43mpoisson\u001b[39;49m\u001b[38;5;124;43m'\u001b[39;49m\u001b[43m,\u001b[49m\u001b[43m \u001b[49m\u001b[43mthreads_num\u001b[49m\u001b[38;5;241;43m=\u001b[39;49m\u001b[38;5;241;43m4\u001b[39;49m\u001b[43m,\u001b[49m\u001b[43m \u001b[49m\u001b[43mprogress_bar\u001b[49m\u001b[38;5;241;43m=\u001b[39;49m\u001b[38;5;28;43;01mTrue\u001b[39;49;00m\u001b[43m)\u001b[49m\n",
      "File \u001b[0;32m~/sdgs_py38/lib/python3.8/site-packages/melt/melt.py:162\u001b[0m, in \u001b[0;36mmelt.get_projection\u001b[0;34m(self, **kwrds)\u001b[0m\n\u001b[1;32m    159\u001b[0m             new_key\u001b[38;5;241m=\u001b[39m\u001b[38;5;28mself\u001b[39m\u001b[38;5;241m.\u001b[39mMyGraph\u001b[38;5;241m.\u001b[39mrows_dict[key]\n\u001b[1;32m    160\u001b[0m             \u001b[38;5;28mself\u001b[39m\u001b[38;5;241m.\u001b[39mid_proj[new_key]\u001b[38;5;241m=\u001b[39m[\u001b[38;5;28mself\u001b[39m\u001b[38;5;241m.\u001b[39mMyGraph\u001b[38;5;241m.\u001b[39mrows_dict[other_key] \u001b[38;5;28;01mfor\u001b[39;00m other_key \u001b[38;5;129;01min\u001b[39;00m \u001b[38;5;28mself\u001b[39m\u001b[38;5;241m.\u001b[39mMyGraph\u001b[38;5;241m.\u001b[39mprojected_rows_adj_list[key]] \n\u001b[0;32m--> 162\u001b[0m \u001b[38;5;28;01mif\u001b[39;00m \u001b[38;5;28;43mself\u001b[39;49m\u001b[38;5;241;43m.\u001b[39;49m\u001b[43mMyGraph\u001b[49m\u001b[38;5;241;43m.\u001b[39;49m\u001b[43mcols_projection\u001b[49m:\n\u001b[1;32m    163\u001b[0m     \u001b[38;5;28;01mif\u001b[39;00m \u001b[38;5;28mhasattr\u001b[39m(\u001b[38;5;28mself\u001b[39m\u001b[38;5;241m.\u001b[39mMyGraph, \u001b[38;5;124m'\u001b[39m\u001b[38;5;124mprojected_columns_adj_list\u001b[39m\u001b[38;5;124m'\u001b[39m):\n\u001b[1;32m    164\u001b[0m         \u001b[38;5;28mself\u001b[39m\u001b[38;5;241m.\u001b[39mtoken_proj\u001b[38;5;241m=\u001b[39m{}\n",
      "\u001b[0;31mAttributeError\u001b[0m: 'BipartiteGraph' object has no attribute 'cols_projection'"
     ]
    }
   ],
   "source": [
    "cacca.get_projection(rows=True, alpha=0.05, approx_method='poisson', threads_num=4, progress_bar=True)"
   ]
  },
  {
   "cell_type": "code",
   "execution_count": 14,
   "id": "2914bef6",
   "metadata": {
    "ExecuteTime": {
     "end_time": "2025-05-19T12:06:56.144786Z",
     "start_time": "2025-05-19T09:59:39.015887Z"
    }
   },
   "outputs": [
    {
     "name": "stderr",
     "output_type": "stream",
     "text": [
      " 13%|██████████████▎                                                                                                   | 3884/31060 [00:16<01:54, 237.82it/s]/home/sarawalk/sdgs_py38/lib/python3.8/site-packages/bicm/graph_classes.py:1113: RuntimeWarning: invalid value encountered in divide\n",
      "  probs = node_xy * neighbor_xy / ((1 + node_xy) * (1 + neighbor_xy))\n",
      " 19%|█████████████████████▍                                                                                            | 5826/31060 [00:24<01:40, 251.41it/s]/home/sarawalk/sdgs_py38/lib/python3.8/site-packages/bicm/graph_classes.py:1113: RuntimeWarning: invalid value encountered in divide\n",
      "  probs = node_xy * neighbor_xy / ((1 + node_xy) * (1 + neighbor_xy))\n",
      " 25%|████████████████████████████▌                                                                                     | 7768/31060 [00:30<01:28, 264.35it/s]/home/sarawalk/sdgs_py38/lib/python3.8/site-packages/bicm/graph_classes.py:1113: RuntimeWarning: invalid value encountered in divide\n",
      "  probs = node_xy * neighbor_xy / ((1 + node_xy) * (1 + neighbor_xy))\n",
      "/home/sarawalk/sdgs_py38/lib/python3.8/site-packages/bicm/graph_classes.py:1113: RuntimeWarning: invalid value encountered in divide\n",
      "  probs = node_xy * neighbor_xy / ((1 + node_xy) * (1 + neighbor_xy))\n",
      "100%|████████████████████████████████████████████████████████████████████████████████████████████████████████████████| 31060/31060 [1:33:21<00:00,  5.55it/s]\n"
     ]
    },
    {
     "name": "stdout",
     "output_type": "stream",
     "text": [
      "No V-motifs will be validated. Try increasing alpha\n"
     ]
    },
    {
     "ename": "AttributeError",
     "evalue": "'BipartiteGraph' object has no attribute 'cols_projection'",
     "output_type": "error",
     "traceback": [
      "\u001b[0;31m---------------------------------------------------------------------------\u001b[0m",
      "\u001b[0;31mAttributeError\u001b[0m                            Traceback (most recent call last)",
      "Cell \u001b[0;32mIn[14], line 1\u001b[0m\n\u001b[0;32m----> 1\u001b[0m \u001b[43mcacca\u001b[49m\u001b[38;5;241;43m.\u001b[39;49m\u001b[43mget_projection\u001b[49m\u001b[43m(\u001b[49m\u001b[43mrows\u001b[49m\u001b[38;5;241;43m=\u001b[39;49m\u001b[38;5;28;43;01mFalse\u001b[39;49;00m\u001b[43m,\u001b[49m\u001b[43m \u001b[49m\u001b[43malpha\u001b[49m\u001b[38;5;241;43m=\u001b[39;49m\u001b[38;5;241;43m0.05\u001b[39;49m\u001b[43m,\u001b[49m\u001b[43m \u001b[49m\u001b[43mapprox_method\u001b[49m\u001b[38;5;241;43m=\u001b[39;49m\u001b[38;5;124;43m'\u001b[39;49m\u001b[38;5;124;43mpoisson\u001b[39;49m\u001b[38;5;124;43m'\u001b[39;49m\u001b[43m,\u001b[49m\u001b[43m \u001b[49m\u001b[43mthreads_num\u001b[49m\u001b[38;5;241;43m=\u001b[39;49m\u001b[38;5;241;43m4\u001b[39;49m\u001b[43m,\u001b[49m\u001b[43m \u001b[49m\u001b[43mprogress_bar\u001b[49m\u001b[38;5;241;43m=\u001b[39;49m\u001b[38;5;28;43;01mTrue\u001b[39;49;00m\u001b[43m)\u001b[49m\n",
      "File \u001b[0;32m~/sdgs_py38/lib/python3.8/site-packages/melt/melt.py:162\u001b[0m, in \u001b[0;36mmelt.get_projection\u001b[0;34m(self, **kwrds)\u001b[0m\n\u001b[1;32m    159\u001b[0m             new_key\u001b[38;5;241m=\u001b[39m\u001b[38;5;28mself\u001b[39m\u001b[38;5;241m.\u001b[39mMyGraph\u001b[38;5;241m.\u001b[39mrows_dict[key]\n\u001b[1;32m    160\u001b[0m             \u001b[38;5;28mself\u001b[39m\u001b[38;5;241m.\u001b[39mid_proj[new_key]\u001b[38;5;241m=\u001b[39m[\u001b[38;5;28mself\u001b[39m\u001b[38;5;241m.\u001b[39mMyGraph\u001b[38;5;241m.\u001b[39mrows_dict[other_key] \u001b[38;5;28;01mfor\u001b[39;00m other_key \u001b[38;5;129;01min\u001b[39;00m \u001b[38;5;28mself\u001b[39m\u001b[38;5;241m.\u001b[39mMyGraph\u001b[38;5;241m.\u001b[39mprojected_rows_adj_list[key]] \n\u001b[0;32m--> 162\u001b[0m \u001b[38;5;28;01mif\u001b[39;00m \u001b[38;5;28;43mself\u001b[39;49m\u001b[38;5;241;43m.\u001b[39;49m\u001b[43mMyGraph\u001b[49m\u001b[38;5;241;43m.\u001b[39;49m\u001b[43mcols_projection\u001b[49m:\n\u001b[1;32m    163\u001b[0m     \u001b[38;5;28;01mif\u001b[39;00m \u001b[38;5;28mhasattr\u001b[39m(\u001b[38;5;28mself\u001b[39m\u001b[38;5;241m.\u001b[39mMyGraph, \u001b[38;5;124m'\u001b[39m\u001b[38;5;124mprojected_columns_adj_list\u001b[39m\u001b[38;5;124m'\u001b[39m):\n\u001b[1;32m    164\u001b[0m         \u001b[38;5;28mself\u001b[39m\u001b[38;5;241m.\u001b[39mtoken_proj\u001b[38;5;241m=\u001b[39m{}\n",
      "\u001b[0;31mAttributeError\u001b[0m: 'BipartiteGraph' object has no attribute 'cols_projection'"
     ]
    }
   ],
   "source": [
    "cacca.get_projection(rows=False, alpha=0.05, approx_method='poisson', threads_num=4, progress_bar=True)"
   ]
  },
  {
   "cell_type": "code",
   "execution_count": null,
   "id": "56db90dd",
   "metadata": {
    "ExecuteTime": {
     "end_time": "2025-05-19T12:06:56.148763Z",
     "start_time": "2025-05-19T12:06:56.148738Z"
    }
   },
   "outputs": [],
   "source": [
    "cacca.token_proj"
   ]
  },
  {
   "cell_type": "markdown",
   "id": "6c7e2e56",
   "metadata": {},
   "source": [
    "Not only it doesn't work, but it also takes a lot of time."
   ]
  },
  {
   "cell_type": "markdown",
   "id": "81f9de07",
   "metadata": {},
   "source": [
    "## Weighted"
   ]
  },
  {
   "cell_type": "markdown",
   "id": "2f623838",
   "metadata": {},
   "source": [
    "bicm reads only weighted biadjacency matrices, therefore..."
   ]
  },
  {
   "cell_type": "markdown",
   "id": "5af8b1c2",
   "metadata": {},
   "source": [
    "### Function"
   ]
  },
  {
   "cell_type": "code",
   "execution_count": 29,
   "id": "e884c078",
   "metadata": {
    "ExecuteTime": {
     "end_time": "2025-05-20T07:39:11.832658Z",
     "start_time": "2025-05-20T07:39:11.819342Z"
    }
   },
   "outputs": [],
   "source": [
    "# biadjacency list to biadjacency matrix\n",
    "def bili2bima(bili):\n",
    "    # get the number of different tokens\n",
    "    all_tokens=[]\n",
    "    for key in tqdm(bili.keys(), leave=True):\n",
    "        for _token in bili[key].keys():\n",
    "            if _token not in all_tokens:\n",
    "                all_tokens.append(_token)\n",
    "    # transform all_tokens to a numpy array, such that I can use np.unique safely\n",
    "    all_tokens=np.array(all_tokens)\n",
    "    # define the biadjacency matrix \n",
    "    bima=np.zeros((len(bili.keys()), len(all_tokens)), dtype=int)\n",
    "    for key in tqdm(bili.keys(), leave=True):\n",
    "        for _token in bili[key].keys():\n",
    "            where_token=np.where(all_tokens==_token)[0][0]\n",
    "            bima[key, where_token]+=bili[key][token]\n",
    "    return bima, all_tokens"
   ]
  },
  {
   "cell_type": "markdown",
   "id": "15484ea6",
   "metadata": {},
   "source": [
    "### Debug"
   ]
  },
  {
   "cell_type": "code",
   "execution_count": 30,
   "id": "ed291477",
   "metadata": {
    "ExecuteTime": {
     "end_time": "2025-05-20T07:39:15.715258Z",
     "start_time": "2025-05-20T07:39:15.705925Z"
    }
   },
   "outputs": [
    {
     "data": {
      "text/plain": [
       "89"
      ]
     },
     "execution_count": 30,
     "metadata": {},
     "output_type": "execute_result"
    }
   ],
   "source": [
    "len(all_texts['2023']['texts'])"
   ]
  },
  {
   "cell_type": "code",
   "execution_count": 44,
   "id": "7925c26b",
   "metadata": {
    "ExecuteTime": {
     "end_time": "2025-05-20T07:53:33.466824Z",
     "start_time": "2025-05-20T07:52:22.176910Z"
    }
   },
   "outputs": [
    {
     "data": {
      "application/vnd.jupyter.widget-view+json": {
       "model_id": "ee61cd9da9b0419a885e59af6a096989",
       "version_major": 2,
       "version_minor": 0
      },
      "text/plain": [
       "  0%|          | 0/89 [00:00<?, ?it/s]"
      ]
     },
     "metadata": {},
     "output_type": "display_data"
    }
   ],
   "source": [
    "cacca=melt(all_texts['2023']['texts'], binary=False)"
   ]
  },
  {
   "cell_type": "code",
   "execution_count": 162,
   "id": "447ddebc",
   "metadata": {
    "ExecuteTime": {
     "end_time": "2025-05-19T15:35:43.736286Z",
     "start_time": "2025-05-19T15:35:43.727590Z"
    }
   },
   "outputs": [
    {
     "data": {
      "text/plain": [
       "89"
      ]
     },
     "execution_count": 162,
     "metadata": {},
     "output_type": "execute_result"
    }
   ],
   "source": [
    "len(cacca.biadj_list)"
   ]
  },
  {
   "cell_type": "code",
   "execution_count": 28,
   "id": "19d19654",
   "metadata": {
    "ExecuteTime": {
     "end_time": "2025-05-20T07:39:07.917738Z",
     "start_time": "2025-05-20T07:39:07.874253Z"
    }
   },
   "outputs": [
    {
     "ename": "NameError",
     "evalue": "name 'bili2bima' is not defined",
     "output_type": "error",
     "traceback": [
      "\u001b[0;31m---------------------------------------------------------------------------\u001b[0m",
      "\u001b[0;31mNameError\u001b[0m                                 Traceback (most recent call last)",
      "Cell \u001b[0;32mIn[28], line 1\u001b[0m\n\u001b[0;32m----> 1\u001b[0m aux, aux_at\u001b[38;5;241m=\u001b[39m\u001b[43mbili2bima\u001b[49m(cacca\u001b[38;5;241m.\u001b[39mbiadj_list)\n",
      "\u001b[0;31mNameError\u001b[0m: name 'bili2bima' is not defined"
     ]
    }
   ],
   "source": [
    "aux, aux_at=bili2bima(cacca.biadj_list)"
   ]
  },
  {
   "cell_type": "code",
   "execution_count": 30,
   "id": "c40b2067",
   "metadata": {
    "ExecuteTime": {
     "end_time": "2025-05-19T13:23:50.448131Z",
     "start_time": "2025-05-19T13:23:50.442534Z"
    }
   },
   "outputs": [],
   "source": [
    "bili=cacca.biadj_list.copy()"
   ]
  },
  {
   "cell_type": "code",
   "execution_count": 101,
   "id": "07a136ad",
   "metadata": {
    "ExecuteTime": {
     "end_time": "2025-05-19T13:43:43.164632Z",
     "start_time": "2025-05-19T13:43:43.157966Z"
    }
   },
   "outputs": [],
   "source": [
    "bad_char=['-', '©', '–', '‘', '’', '“', '”', \"''\", \"'s\",'``', '\\\\', '|']"
   ]
  },
  {
   "cell_type": "code",
   "execution_count": 26,
   "id": "b59fba5f",
   "metadata": {
    "ExecuteTime": {
     "end_time": "2025-05-20T07:38:52.350578Z",
     "start_time": "2025-05-20T07:38:52.294587Z"
    }
   },
   "outputs": [
    {
     "ename": "NameError",
     "evalue": "name 'bili' is not defined",
     "output_type": "error",
     "traceback": [
      "\u001b[0;31m---------------------------------------------------------------------------\u001b[0m",
      "\u001b[0;31mNameError\u001b[0m                                 Traceback (most recent call last)",
      "Cell \u001b[0;32mIn[26], line 2\u001b[0m\n\u001b[1;32m      1\u001b[0m all_tokens\u001b[38;5;241m=\u001b[39m[]\n\u001b[0;32m----> 2\u001b[0m \u001b[38;5;28;01mfor\u001b[39;00m key \u001b[38;5;129;01min\u001b[39;00m tqdm(\u001b[43mbili\u001b[49m\u001b[38;5;241m.\u001b[39mkeys(), leave\u001b[38;5;241m=\u001b[39m\u001b[38;5;28;01mTrue\u001b[39;00m):\n\u001b[1;32m      3\u001b[0m     \u001b[38;5;28;01mfor\u001b[39;00m _token \u001b[38;5;129;01min\u001b[39;00m bili[key]\u001b[38;5;241m.\u001b[39mkeys():\n\u001b[1;32m      4\u001b[0m         \u001b[38;5;28;01mif\u001b[39;00m _token \u001b[38;5;129;01mnot\u001b[39;00m \u001b[38;5;129;01min\u001b[39;00m all_tokens \u001b[38;5;129;01mand\u001b[39;00m \u001b[38;5;28mall\u001b[39m([bd \u001b[38;5;129;01mnot\u001b[39;00m \u001b[38;5;129;01min\u001b[39;00m _token \u001b[38;5;28;01mfor\u001b[39;00m bd \u001b[38;5;129;01min\u001b[39;00m bad_char]) \u001b[38;5;129;01mand\u001b[39;00m _token[\u001b[38;5;241m0\u001b[39m] \u001b[38;5;129;01mnot\u001b[39;00m \u001b[38;5;129;01min\u001b[39;00m [\u001b[38;5;124m\"\u001b[39m\u001b[38;5;124m'\u001b[39m\u001b[38;5;124m\"\u001b[39m, \u001b[38;5;124m\"\u001b[39m\u001b[38;5;130;01m\\\\\u001b[39;00m\u001b[38;5;124m\"\u001b[39m, \u001b[38;5;124m\"\u001b[39m\u001b[38;5;124m/\u001b[39m\u001b[38;5;124m\"\u001b[39m, \u001b[38;5;124m'\u001b[39m\u001b[38;5;124m+\u001b[39m\u001b[38;5;124m'\u001b[39m, \u001b[38;5;124m\"\u001b[39m\u001b[38;5;124m^^\u001b[39m\u001b[38;5;124m\"\u001b[39m, \u001b[38;5;124m\"\u001b[39m\u001b[38;5;124m:\u001b[39m\u001b[38;5;124m\"\u001b[39m, \u001b[38;5;124m'\u001b[39m\u001b[38;5;124m£\u001b[39m\u001b[38;5;124m'\u001b[39m, \u001b[38;5;124m'\u001b[39m\u001b[38;5;124m$\u001b[39m\u001b[38;5;124m'\u001b[39m] \u001b[38;5;129;01mand\u001b[39;00m \u001b[38;5;129;01mnot\u001b[39;00m _token[\u001b[38;5;241m0\u001b[39m]\u001b[38;5;241m.\u001b[39misnumeric():\n",
      "\u001b[0;31mNameError\u001b[0m: name 'bili' is not defined"
     ]
    }
   ],
   "source": [
    "    all_tokens=[]\n",
    "    for key in tqdm(bili.keys(), leave=True):\n",
    "        for _token in bili[key].keys():\n",
    "            if _token not in all_tokens and all([bd not in _token for bd in bad_char]) and _token[0] not in [\"'\", \"\\\\\", \"/\", '+', \"^^\", \":\", '£', '$'] and not _token[0].isnumeric():\n",
    "                all_tokens.append(_token)\n",
    "    all_tokens=np.array(all_tokens)"
   ]
  },
  {
   "cell_type": "code",
   "execution_count": 27,
   "id": "21d0760d",
   "metadata": {
    "ExecuteTime": {
     "end_time": "2025-05-20T07:38:52.735404Z",
     "start_time": "2025-05-20T07:38:52.696343Z"
    }
   },
   "outputs": [
    {
     "ename": "NameError",
     "evalue": "name 'bili' is not defined",
     "output_type": "error",
     "traceback": [
      "\u001b[0;31m---------------------------------------------------------------------------\u001b[0m",
      "\u001b[0;31mNameError\u001b[0m                                 Traceback (most recent call last)",
      "Cell \u001b[0;32mIn[27], line 1\u001b[0m\n\u001b[0;32m----> 1\u001b[0m bima\u001b[38;5;241m=\u001b[39mnp\u001b[38;5;241m.\u001b[39mzeros((\u001b[38;5;28mlen\u001b[39m(\u001b[43mbili\u001b[49m\u001b[38;5;241m.\u001b[39mkeys()), \u001b[38;5;28mlen\u001b[39m(all_tokens)), dtype\u001b[38;5;241m=\u001b[39m\u001b[38;5;28mint\u001b[39m)\n\u001b[1;32m      2\u001b[0m \u001b[38;5;28;01mfor\u001b[39;00m key \u001b[38;5;129;01min\u001b[39;00m tqdm(bili\u001b[38;5;241m.\u001b[39mkeys(), leave\u001b[38;5;241m=\u001b[39m\u001b[38;5;28;01mTrue\u001b[39;00m):\n\u001b[1;32m      3\u001b[0m     \u001b[38;5;28;01mfor\u001b[39;00m _token \u001b[38;5;129;01min\u001b[39;00m bili[key]\u001b[38;5;241m.\u001b[39mkeys():\n",
      "\u001b[0;31mNameError\u001b[0m: name 'bili' is not defined"
     ]
    }
   ],
   "source": [
    "    bima=np.zeros((len(bili.keys()), len(all_tokens)), dtype=int)\n",
    "    for key in tqdm(bili.keys(), leave=True):\n",
    "        for _token in bili[key].keys():\n",
    "            if _token in all_tokens:\n",
    "                where_token=np.where(all_tokens==_token)[0][0]\n",
    "                bima[key, where_token]+=bili[key][_token]\n",
    "    "
   ]
  },
  {
   "cell_type": "code",
   "execution_count": 113,
   "id": "68bda320",
   "metadata": {
    "ExecuteTime": {
     "end_time": "2025-05-19T14:06:50.786169Z",
     "start_time": "2025-05-19T14:06:50.780469Z"
    }
   },
   "outputs": [],
   "source": [
    "cacca=BiG()"
   ]
  },
  {
   "cell_type": "code",
   "execution_count": 114,
   "id": "8d66a375",
   "metadata": {
    "ExecuteTime": {
     "end_time": "2025-05-19T14:06:58.682649Z",
     "start_time": "2025-05-19T14:06:58.610051Z"
    }
   },
   "outputs": [
    {
     "name": "stdout",
     "output_type": "stream",
     "text": [
      "Discrete weighted model: BiWCM_d\n"
     ]
    }
   ],
   "source": [
    "cacca.set_biadjacency_matrix(bima)"
   ]
  },
  {
   "cell_type": "code",
   "execution_count": 115,
   "id": "615d81a0",
   "metadata": {
    "ExecuteTime": {
     "end_time": "2025-05-19T14:33:45.708366Z",
     "start_time": "2025-05-19T14:07:07.947520Z"
    }
   },
   "outputs": [
    {
     "name": "stderr",
     "output_type": "stream",
     "text": [
      "/home/sarawalk/sdgs_py38/lib/python3.8/site-packages/numba/core/utils.py:643: NumbaExperimentalFeatureWarning: First-class function type feature is experimental\n",
      "  warnings.warn(\"First-class function type feature is experimental\",\n",
      "/home/sarawalk/sdgs_py38/lib/python3.8/site-packages/bicm/models_functions.py:326: NumbaExperimentalFeatureWarning: First-class function type feature is experimental\n",
      "  step_fun = args[0]\n",
      "/home/sarawalk/sdgs_py38/lib/python3.8/site-packages/bicm/models_functions.py:327: NumbaExperimentalFeatureWarning: First-class function type feature is experimental\n",
      "  arg_step_fun = args[1]\n",
      "/home/sarawalk/sdgs_py38/lib/python3.8/site-packages/numba/core/utils.py:643: NumbaExperimentalFeatureWarning: First-class function type feature is experimental\n",
      "  warnings.warn(\"First-class function type feature is experimental\",\n"
     ]
    },
    {
     "name": "stdout",
     "output_type": "stream",
     "text": [
      "max rows error = 0.00010472287903845316\n",
      "max columns error = 7.311720381864007e-06\n",
      "total error = 0.00773124083942919\n",
      "Solver converged.\n"
     ]
    }
   ],
   "source": [
    "cacca.solve_tool()"
   ]
  },
  {
   "cell_type": "code",
   "execution_count": 116,
   "id": "85e5c1c7",
   "metadata": {
    "ExecuteTime": {
     "end_time": "2025-05-19T14:38:14.009585Z",
     "start_time": "2025-05-19T14:38:13.947490Z"
    }
   },
   "outputs": [],
   "source": [
    "cacca.compute_weighted_pvals_mat()"
   ]
  },
  {
   "cell_type": "code",
   "execution_count": 117,
   "id": "971d4941",
   "metadata": {
    "ExecuteTime": {
     "end_time": "2025-05-19T14:38:35.940635Z",
     "start_time": "2025-05-19T14:38:35.928870Z"
    }
   },
   "outputs": [
    {
     "data": {
      "text/plain": [
       "array([[1.45918023e-01, 4.66682797e-05, 3.74940711e-02, ...,\n",
       "        1.00000000e+00, 1.00000000e+00, 1.00000000e+00],\n",
       "       [1.00000000e+00, 1.00000000e+00, 1.00000000e+00, ...,\n",
       "        1.00000000e+00, 1.00000000e+00, 1.00000000e+00],\n",
       "       [1.00000000e+00, 2.41590737e-03, 3.69701886e-02, ...,\n",
       "        1.00000000e+00, 1.00000000e+00, 1.00000000e+00],\n",
       "       ...,\n",
       "       [1.00000000e+00, 1.00000000e+00, 1.00000000e+00, ...,\n",
       "        1.00000000e+00, 1.00000000e+00, 1.00000000e+00],\n",
       "       [1.00000000e+00, 1.00000000e+00, 1.00000000e+00, ...,\n",
       "        1.00000000e+00, 1.00000000e+00, 1.00000000e+00],\n",
       "       [1.00000000e+00, 1.00000000e+00, 1.00000000e+00, ...,\n",
       "        1.18151329e-02, 5.45686665e-04, 1.18151329e-02]])"
      ]
     },
     "execution_count": 117,
     "metadata": {},
     "output_type": "execute_result"
    }
   ],
   "source": [
    "cacca.pvals_mat"
   ]
  },
  {
   "cell_type": "code",
   "execution_count": 119,
   "id": "0c75814b",
   "metadata": {
    "ExecuteTime": {
     "end_time": "2025-05-19T14:39:52.377965Z",
     "start_time": "2025-05-19T14:39:52.274078Z"
    }
   },
   "outputs": [],
   "source": [
    "pval_m=cacca.get_validated_matrix(significance=0.05, validation_method='fdr')"
   ]
  },
  {
   "cell_type": "code",
   "execution_count": 126,
   "id": "9304d93d",
   "metadata": {
    "ExecuteTime": {
     "end_time": "2025-05-19T14:42:29.276183Z",
     "start_time": "2025-05-19T14:42:29.240474Z"
    }
   },
   "outputs": [
    {
     "name": "stdout",
     "output_type": "stream",
     "text": [
      "['africa' 'alto' 'american' 'anglo' 'barro' 'beer' 'berlin' 'botswana'\n",
      " 'bronc' 'capcoal' 'carcinogen' 'chile' 'closur' 'copper' 'cpr' 'crd'\n",
      " 'cybersecur' 'dam' 'dewat' 'diamond' 'edna' 'el' 'envusa' 'fcev'\n",
      " 'futuresmart' 'gbv' 'gistm' 'hds' 'heritag' 'hiv' 'host' 'ibi' 'icmm'\n",
      " 'irma' 'iron' 'kolomela' 'kumba' 'learn+' 'learner' 'los' 'mina' 'mine'\n",
      " 'miner' 'mining™' 'mitsubishi' 'mogalakwena' 'moquegua' 'mt' 'nickel'\n",
      " 'nois' 'npi' 'nutrient' 'oel' 'ore' 'peru' 'pgms' 'pionero' 'pmlu'\n",
      " 'polyhalit' 'psm' 'queensland' 'quellaveco' 'rehabilit' 'rescu' 'resettl'\n",
      " 'rjc' 'rock' 'rvms' 'sishen' 'slp' 'smp' 'soldado' 'south' 'southern'\n",
      " 'spatial' 'steelmak' 'tail' 'teacher' 'tsfs' 'underground' 'unki'\n",
      " 'valutrax™' 'vam' 'vfl' 'violenc' 'woodsmith' 'yourvoic' 'zimbabw'\n",
      " 'zimel'] ANGLO_AMERICAN_PLC\n",
      "['impact' 'ingredi' 'sustain' 'croda'] CRODA_INTERNATIONAL_PLC\n",
      "['endeavour' 'gold' 'hectar' 'malaria' 'mine' 'pit' 'reforest' 'rehabilit'\n",
      " 'resettl' 'tsf' 'villag' 'asgm' 'boungou' 'burkina' 'cyanid' 'côte'\n",
      " 'ecobank' 'edv' 'esia' 'ess' 'faso' 'fcfa' 'houndé' 'iti' 'ivoir'\n",
      " 'lafigué' 'mana' 'massawa' 'mdp' 'ohh' 'rgmp' 'rgmps' 'sabodala' 'seneg'\n",
      " 'smo' 'tanda' 'vpshr' 'wahgnion'] ENDEAVOUR_MINING_PLC\n",
      "['catalyst' 'electrolys' 'hydrogen' 'membran' 'metal' 'pgm' 'pgms'\n",
      " 'platinum' 'precious' 'dl' 'glt' 'jm' 'johnson' 'matthey' 'methanol'\n",
      " 'royston' '£120'] JOHNSON_MATTHEY_PLC\n",
      "['abat' 'biofuel' 'furnac' 'iron' 'lump' 'ore' 'queensland' 'refineri'\n",
      " 'rio' 'smelt' 'smelter' 'alumina' 'aluminium' 'anod' 'baowu' 'bauxit'\n",
      " 'biocarbon' 'bluescop' 'bluesmelting™' 'boyn' 'calcin' 'cat' 'diavik'\n",
      " 'elysistm' 'elysis™' 'esf' 'gladston' 'kennecott' 'pelletis' 'pilbara'\n",
      " 'ppa' 'qal' 'quebec' 'repow' 'tinto' 'tomago' 'vessel' 'yarwun'\n",
      " 'yindjibarndi'] RIO_TINTO_PLC\n",
      "['special' 'coat' 'tfs' 'adhes' 'glove' 'monom' 'nbr' 'pser' 'rcr' 'resin'\n",
      " 'synthom' '»'] SYNTHOMER_PLC\n",
      "['lender' 'plot' 'mortgag' 'bps' 'asp' 'barratt' 'citra' 'ehome2' 'fy22'\n",
      " 'fy23' 'gladman' 'hbf' 'homebuy' 'housebuild' 'jvs' 'mmc' 'nhbc' 'rental'\n",
      " 'ris' 'roce' 'zed'] BARRATT_DEVELOPMENTS_PLC\n",
      "['develop' 'site' 'sustain' 'acr' 'bng' 'berkeley' 'biodiesel'] BERKELEY_GROUP_HOLDINGS_(THE)_PLC\n",
      "['creativ' 'luxuri' 'fashion' 'fy' 'aftercar' 'burberri' 'cashmer'\n",
      " 'classic' 'emeia' 'leather' 'outerwear' 'shoe' 'trench' 'wardrob'] BURBERRY_GROUP_PLC\n",
      "['busi' 'compass' 'food' 'cbc' 'chef' 'culinari' 'foodbuy' 'fwd' 'menus'\n",
      " 'sedex' 'tomato'] COMPASS_GROUP_PLC\n",
      "['event' 'game' 'pe' 'stand' 'sustain' 'f' 'attende' 'cruis' 'disconnect'\n",
      " 'exhibitor' 'fasterforward' 'franci' 'informa' 'nutraceut' 'superreturn'\n",
      " 'tarsus' 'taylor' 'venu'] INFORMA_PLC\n",
      "['night' 'owner' 'room' 'guest' 'tomorrow' 'franchis' 'hotel' 'ecm' 'ihg'\n",
      " 'resort'] INTERCONTINENTAL_HOTELS_GROUP_PLC\n",
      "['furnitur' 'cotton' 'leather' 'textil' 'refurnish'] NEXT_PLC\n",
      "['ore' 'plot' 'subcontractor' 'l' 'brick' 'builder' 'creditor' 'outlet'\n",
      " 'placemak' 'vertic' '£nil' 'boord' 'brickwork' 'hos' 'hove' 'hs' 'lo'\n",
      " 'locus' 'ol' 'ond' 'overag' 'persimmon' 'roac' 'space4' 'tilework'\n",
      " 'welsh'] PERSIMMON_PLC\n",
      "['sdg' 'librari' 'winner' 'journal' 'cirium' 'cr' 'elsevi' 'ici' 'lawyer'\n",
      " 'lexisnexi' 'relx' 'research4lif' 'rx' 'scopus' 'srs'] RELX_PLC\n",
      "['guest' 'premier' 'inn' 'sleeper' 'whitbread'] WHITBREAD_PLC\n",
      "['abstract' 'irrig' '∆' 'cereal' 'rice' 'factori' 'dryer' 'weston' 'georg'\n",
      " 'herb' 'cloth' 'cotton' 'bakeri' 'grower' 'sauc' 'tea' 'bangladesh'\n",
      " 'durabl' 'malawi' 'sugar' 'ab' 'abf' 'abfi' 'agri' 'azucarera' 'beet'\n",
      " 'bread' 'cane' 'enzym' 'fefac' 'flour' 'groceri' 'hfss' 'illovo'\n",
      " 'kingsmil' 'lti' 'ltis' 'mauri' 'nchalo' 'ovaltin' 'primark' 'pscp'\n",
      " 'ryvita' 'soya' 'spice' 'srp' 'ssi' 'twine' 'westmil' 'yeast'] Associated_British_Foods_PLC\n",
      "['compos' 'smoke' 'vs' 'agrochem' 'inward' 'bat' 'outward' 'scoc' 'pulp'\n",
      " 'thr' 'dma' 'leaf' 'ait' 'bra' 'chain1' 'cigarett' 'cure' 'illicit' 'imp'\n",
      " 'nicotin' 'smokeless' 'smoker' 'sobc' 'tobacco' 'uap' 'underag' 'vapour'] British_American_Tobacco_PLC\n",
      "['alcohol' 'australia' 'chairman' 'coffe' 'counterparti' 'drink' 'euro'\n",
      " 'exhibit' 'litr' 'pti' 'recover' 'soft' 'spanish' 'swap' 'sydney'\n",
      " 'territori' 'versus' 'api' 'ey' 'indonesia' 'bottl' 'cold' 'guillaum'\n",
      " 'guinea' 'replenish' 'borrow' 'denomin' 'fx' 'hedg' 'indefinit' 'pt'\n",
      " 'sweeten' 'zealand' 'accrual' 'repaid' 'roic' 'britain' 'ned' 'stamp'\n",
      " 'can' 'allot' 'beverag' 'philippin' 'gb' 'jack' 'calori' 'juic' 'pet'\n",
      " 'quot' 'syrup' 'cooler' 'del' 'fmcg' 'holder' 'accru' 'aev' 'agua' 'arr'\n",
      " 'artd' 'beam' 'bebida' 'bizkaia' 'bottler' 'ccbpi' 'ccep' 'cde' 'cgu'\n",
      " 'cgus' 'cilandak' 'cobega' 'coc' 'compaa' 'damian' 'daurella' 'dispens'\n",
      " 'disposit' 'dtc' 'espp' 'europacif' 'fanta' 'franchisor' 'freestyl'\n",
      " 'gammel' 'garri' 'iberia' 'iberian' 'ine' 'jos' 'loira' 'madrid'\n",
      " 'mirzayantz' 'monster' 'multi' 'nartd' 'nasdaq' 'nicola' 'nsw' 'oliv'\n",
      " 'papua' 'pcaob' 'pfic' 'planta' 'powerad' 'psa' 'resign' 'ribera' 'rpet'\n",
      " 'rtd' 'sdrt' 'sec' 'sgps' 'sol' 'sparkl' 'sprite' 'suntori' 'taxabl'\n",
      " 'tccc' 'watt' 'α'] Coca-Cola_Europacific_Partners_PLC\n",
      "['attitud' 'explan' 'fiscal' 'workday' 'effluent' 'omiss' 'sap' 'spirit'\n",
      " 'hria' 'sedex' 'ibat' 'oh' 'smallhold' 'smash' 'diageo' 'bod'\n",
      " 'collingwood' 'definitionw' 'drinkiq' 'handler' 'limitationw'\n",
      " 'preparationth' 'preparationw' 'speakup' 'teu'] Diageo_PLC\n",
      "['moment' 'smoke' 'jewel' 'russia' 'oral' 'leaf' 'cigarett' 'excis'\n",
      " 'illicit' 'nicotin' 'smoker' 'stp' 'tobacco' 'vape' 'aaac' 'blu' 'cigar'\n",
      " 'fm' 'imperi' 'logista' 'mfi' 'ngp' 'ntm' 'pulz'] Imperial_Brands_PLC\n",
      "['chicken' 'fairtrad' 'cloth' 'hanger' 'rspca' 'redistribut' 'soy'\n",
      " 'polyest' 'myanmar' 'gist' 'salesfloor' 'vdcf'] Marks_and_Spencer_Group_PLC\n",
      "['palm' 'wwf' 'latex' 'cocoa' 'earthworm' 'pain' 'autism' 'pcr' 'rsl'\n",
      " 'reckitt' 'weve' 'cgf' 'dettol' 'embellish' 'emf' 'ndpe' 'rubber'\n",
      " 'vanish'] Reckitt_Benckiser_Group_PLC\n",
      "['food' 'tonnag' 'redistribut' 'seafood' 'tu' 'sainsburi' 'sku'\n",
      " 'supermarket' 'peat' 'antibiot' 'argo' 'asc' 'comic'] Sainsbury_(J)_PLC\n",
      "['£' 'shop' 'roi' 'aldi' 'tesco' 'booker' 'clubcard' 'mall' 'pts'] Tesco_PLC\n",
      "['commerc' 'ice' 'turnov' 'beauti' 'skin' 'unilev' 'laundri' 'superior'\n",
      " 'premiumis' 'snack' 'hair' 'cabinet' 'cream' 'ctap' 'deodor' 'dove'\n",
      " 'elida' 'hellmann' 'hyperinflationari' 'knorr' 'magnum' 'omo' 'prestig'\n",
      " 'shave' 'suav' 'ule' 'unmiss' 'usg' 'vaselin' 'yasso'] Unilever_PLC\n",
      "['busi' 'energi' 'includ' 'report' 'risk' 'scope' 'sustain' 'ashtead'] ASHTEAD_TECHNOLOGY_HOLDINGS_PLC\n",
      "['aerial' 'compress' 'diversifi' 'fugit' 'herein' 'ioc' 'mackenzi'\n",
      " 'methan' 'midstream' 'mt' 'optim' 'priorit' 'retir' 'thus' 'ton' 'recogn'\n",
      " 'ancillari' 'vice' 'eh' 'leak' 'pennsylvania' 'center' 'slip' 'counti'\n",
      " 'sam' 'virginia' 'turner' 'barrel' 'epa' 'plug' 'acp' 'appalachia'\n",
      " 'appalachian' 'bridger' 'co2e/mmcf' 'compressor' 'decarbon' 'gray'\n",
      " 'handheld' 'hutson' 'kerrigan' 'klaber' 'ldar' 'lvl' 'macc' 'mmbbl/d'\n",
      " 'mva' 'ngsi' 'ogi' 'ogmp' 'oklahoma' 'pad' 'pgc' 'pneumat' 'rod' 'scada'\n",
      " 'stash' 'veriforc' 'xplorobot'] DIVERSIFIED_ENERGY_COMPANY_PLC\n",
      "['csr' 'hse' 'israel' 'egypt' 'greec' 'cs' 'bowti' 'energean' 'essr'\n",
      " 'fpso' 'karish' 'mediterranean' 'prino'] Energean\n",
      "['ccs' 'decommiss' 'discoveri' 'harbour' 'vietnam' 'kboepd' 'mmboe'\n",
      " 'acorn' 'andaman' 'britannia' 'clair' 'crros' 'dea' 'dur' 'epl' 'hses'\n",
      " 'infil' 'kan' 'layaran' 'pence/therm' 'rbl' 'schiehallion' 'vike'\n",
      " 'wintershal' 'zama'] HARBOUR_ENERGY_PLC\n",
      "['drill' 'pacif' 'rig' 'segment' 'thread' 'titanium' 'accessori'\n",
      " 'extrapol' 'guyana' 'geotherm' 'onshor' 'subsea' 'hunt' 'cairn' 'ccus'\n",
      " 'dearborn' 'emea' 'enpro' 'gun' 'jindal' 'jiuli' 'ngm' 'octg' 'orphanag'\n",
      " 'perfor' 'stafford' 'system™' 'titan' 'trenchless'] HUNTING_PLC\n",
      "['asset' 'captain' 'chemic' 'discharg' 'emiss' 'energi' 'environment'\n",
      " 'oper' 'product' 'sea' 'tonn' 'fpso' 'erskin' 'alba' 'alder' 'anp' 'blp'\n",
      " 'fsu' 'ithaca' 'nstd' 'nui' 'stella' 'tco2e/year' 'wpp'] ITHACA_ENERGY_PLC\n",
      "['sea' 'vessel' 'hydrocarbon' 'offshor' 'om' 'tailwind' 'flare' 'oeuk'\n",
      " 'ukc' 'afb' 'bruce' 'hseq' 'overboard' 'serica' 'smt'] SERICA_ENERGY_PLC\n",
      "['biofuel' 'lng' 'seam' 'spill' '—' 'nigeria' 'sabotag' 'liquefi' 'jv'\n",
      " 'shell' 'qatar' 'cubic' 'flare' 'megawatt' 'sif' 'ipieca' 'lubric'\n",
      " 'daystar' 'gtl' 'hsse' 'raízen' 'scotford' 'snepco' 'sp' 'spdc' 'vito'] Shell\n",
      "['ebit' 'wood' 'bu' 'fpi' 'asbesto' 'hsse' 'bg' 'grc' 'lstk' 'sup' 'teck'] WOOD_GROUP_(JOHN)_PLC\n",
      "['rainforest' 'aviva' 'saltmarsh'] AVIVA_PLC\n",
      "['dpm' 'heatmap' 'campus' 'fintech' 'unreason' 'δ' 'equin' 'cere'\n",
      " 'barclay' 'bisl' 'bluetracktm' 'cib' 'converg' 'ctf' 'ctrf' 'eagl' 'eo'\n",
      " 'nzba' 'pcaf' 'prb' 'sff' 'tff'] BARCLAYS_PLC\n",
      "['notabl' 'provision' 'wealth' 'hong' 'kong' 'mainland' 'hsbc' 'cet1'\n",
      " 'bocom' 'cmb' 'ecl' 'fdic' 'gbm' 'gps' 'svb' 'wpb'] HSBC_HOLDINGS_PLC\n",
      "['chapter' 'impli' 'cip' 'inact' 'iss' 'sick' 'cardiff' 'desnz' 'gec'\n",
      " 'sovereign' 'evic' 'aum' 'bruntwood' 'cala' 'concierg' 'dolphin' 'http'\n",
      " 'ivg' 'lga' 'lgas' 'lgc' 'lgim' 'lgri' 'lpppd' 'niluf' 'redstart' 'reeb'\n",
      " 'scitech' 'tco2e/£m'] LEGAL_&_GENERAL_GROUP_PLC\n",
      "['tpi' 'edi' 'lseg'] LONDON_STOCK_EXCHANGE_GROUP_PLC\n",
      "['climat' 'compani' 'data' 'emiss' 'hold' 'may' 'metric' 'portfolio'\n",
      " 'provid' 'use' 'msci' 'hothous' 'bailli' 'gifford'] SCOTTISH_MORTGAGE_INVESTMENT_TRUST_PLC\n",
      "['cent' 'charter' 'corridor' 'loan' 'singapor' 'mobilis' 'cso' 'sc'\n",
      " 'icvcm' 'imo' 'lend' 'client' 'hong' 'kong' 'brc' 'rote' 'celsius' 'ame'\n",
      " 'delta' 'globalis' 'sovereign' 'cet1' 'cre' 'nii' 'affluent' 'aladdin'\n",
      " 'bohai' 'cci' 'ccib' 'cpbb' 'dva' 'futuremak' 'jaw' 'jetp' 'mox'\n",
      " 'poseidon' 'prts' 'rwa'] STANDARD_CHARTERED_PLC\n",
      "['medicin' 'usd' 'astrazeneca' 'az' 'synthes' 'yhp'] AstraZeneca_PLC\n",
      "['arc' 'cpm' 'forev' 'ltip' 'contin' 'diabet' 'conting' 'deloitt' 'dress'\n",
      " 'parkinson' 'slovakia' 'coe' 'gbs' 'hcps' 'mason' 'air™' 'ara' 'awc'\n",
      " 'bionic' 'bitar' 'cathet' 'celt' 'convafoam™' 'convatec' 'deesid' 'fisb'\n",
      " 'gentlecath' 'haina' 'hcp' 'infus' 'innovamatrix®' 'insulin' 'jonni'\n",
      " 'karim' 'lisbon' 'medtech' 'mobi' 'multicurr' 'nitric' 'novo' 'ostomi'\n",
      " 'scrip' 'starlight' 'sten' 'stoma' 'triad' 'wound'] Convatec_Group_PLC\n",
      "['disciplinari' 'generic' 'hiv' 'infecti' 'inhal' 'malaria' 'medicin' 'tb'\n",
      " 'vaccin' 'tablet' 'dose' 'amr' 'antibiot' 'gsk' 'antimicrobi'\n",
      " 'albendazol' 'antiretrovir' 'cervarix' 'dolutegravir' 'gavi' 'mosquirix'\n",
      " 'opv' 'puerto' 'rotarix' 'synflorix' 'vial' 'viiv' 'wastag'] GSK_PLC\n",
      "['anim' 'aurora' 'livestock' 'breed' 'elit' 'pig' 'genet' 'sex' 'edit'\n",
      " 'trait' 'beef' 'dairi' 'protein' 'cattl' 'cow' 'manur' 'milk' 'gene'\n",
      " 'fy19' 'straw' 'genus' 'porcin' 'slaughter' 'biosecur' 'bovin' 'bull'\n",
      " 'carcass' 'embryo' 'genom' 'herd' 'intelligen' 'jk' 'jorgen' 'nucleus'\n",
      " 'nuera' 'pic' 'semen' 'sexcel'] Genus_PLC\n",
      "['report' 'sustain' 'algeria' 'jordan' 'hikma' 'mena'] Hikma_Pharmaceuticals_PLC\n",
      "['employe' 'report' 'disord' 'fcp' 'indivior' 'opioid' 'opve' 'overdos'] Indivior_PLC\n",
      "['adequ' 'administr' 'advers' 'alleg' 'assert' 'author' 'bio' 'biolog'\n",
      " 'biotechnolog' 'candid' 'ceas' 'claim' 'clearanc' 'clinic' 'cms' 'common'\n",
      " 'compens' 'competitor' 'conform' 'convert' 'court' 'crimin' 'deem'\n",
      " 'defend' 'delay' 'devic' 'devot' 'difficulti' 'efficaci' 'encount'\n",
      " 'enforc' 'enrol' 'entiti' 'exclus' 'expens' 'fail' 'feder' 'foreign'\n",
      " 'former' 'government' 'grant' 'ii' 'iii' 'impos' 'incur' 'infring'\n",
      " 'instrument' 'intellectu' 'interpret' 'licens' 'litig' 'medic' 'medicin'\n",
      " 'merger' 'moreov' 'novel' 'obtain' 'ordinari' 'otherwis' 'patent'\n",
      " 'patient' 'personnel' 'prefer' 'program' 'proprietari' 'prospect'\n",
      " 'pursuant' 'qualifi' 'restrict' 'royalti' 'shall' 'side' 'stock'\n",
      " 'subsidiari' 'substanc' 'substanti' 'suspend' 'symptom' 'takeov' 'termin'\n",
      " 'therapi' 'trial' 'unabl' 'biotech' 'cancer' 'drug' 'lengthi' 'lose'\n",
      " 'pharmaceut' 'recogn' 'abroad' 'diagnost' 'file' 'footnot' 'fraudul'\n",
      " 'prize' 'warrant' 'invent' 'medal' 'nci' 'pend' 'pharma' 'psp' 'entitl'\n",
      " 'expir' 'forese' 'inabl' 'inc' 'issuanc' 'secret' 'notifi' 'prosecut'\n",
      " 'settl' 'tsr' 'vote' 'repurchas' 'gbp' 'issuer' 'bristol' 'orphan' 'llc'\n",
      " 'forth' 'physician' 'prescript' 'bms' 'bcp' 'fda' 'holder' 'pulmonari'\n",
      " 'backstop' 'bankruptci' 'depositari' 'fals' 'fcpa' 'forego' 'gain/'\n",
      " 'gdpr' 'investe' 'ipf' 'lawsuit' 'medicar' 'nasdaq' 'reimburs' 'rsu'\n",
      " 'rsus' 'squibb' 'unobserv' 'waiver' 'percent' 'disagre' 'therapeut'\n",
      " 'aforement' 'amort' 'categor' 'incentiv' 'ipo' 'monet' 'realiz' 'vedanta'\n",
      " 'expedit' 'biopharma' 'pma' 'gallop' 'boston' 'fy2022' 'invalid' 'cros'\n",
      " 'biopharmaceut' 'oncolog' 'ifrss' 'income/' 'myer' 'payor' 'preclin'\n",
      " 'ema' 'biosimilar' 'hematolog' 'statut' 'summar' 'aca' 'adhd' 'adss' 'ae'\n",
      " 'akili' 'alivio' 'aml' 'ausiello' 'auspex' 'bharatt' 'bioscienc'\n",
      " 'biotherapeut' 'bla' 'capstar' 'carryforward' 'cgmp' 'chowrira' 'cmos'\n",
      " 'companion' 'ctr' 'daphn' 'deconsolid' 'derecogn' 'deuter' 'endeavorotc'\n",
      " 'endeavorrx' 'endpoint' 'enlight' 'entrega' 'expend' 'favor' 'fibrosi'\n",
      " 'follica' 'fvtpl' 'gelesi' 'glyph' 'horvitz' 'idiopath' 'ind' 'invesco'\n",
      " 'jefferi' 'juri' 'karuna' 'karxt' 'kiran' 'kucherlapati' 'lamattina'\n",
      " 'langer' 'licensor' 'lyt' 'maa' 'maxim' 'medicaid' 'merck' 'nda' 'nol'\n",
      " 'offere' 'offeror' 'pediatr' 'petit' 'pirfenidon' 'placebo' 'pleniti'\n",
      " 'promissori' 'puretech' 'pwerm' 'raju' 'schizophrenia' 'seaport' 'sond'\n",
      " 'subleas' 'teva' 'tumor' 'unauthor' 'unenforc' 'unfavor' 'uspto' 've303'\n",
      " 'verco' 'viehbach' 'vitro' 'vor' 'zohar'] PureTech_Health_PLC\n",
      "['robot' 'rec' 'edg' 'memphi' 'unlimit' 'orthopaed' 'surgic' 'wound'\n",
      " 'arthroplasti' 'eig' 'knee' 'renasi' 'renasys◊' 's+n' 'smith+nephew'\n",
      " 'surgeon' 'suzhou' 'swe'] Smith_&_Nephew_PLC\n",
      "['system' 'bae' 'missil'] BAE_SYSTEMS_PLC\n",
      "['busi' 'bunzl'] BUNZL_PLC\n",
      "['decentralis' 'dna' 'nich' 'inorgan' 'profit1' 'adjusted1' 'crowcon'\n",
      " 'currency1' 'dces' 'eva' 'halma' 'izi' 'palintest' 'rotic' 'sales1'\n",
      " 'subsector' 'switchgear' 'trekker' 'underwat' 'weetech'] HALMA_PLC\n",
      "['autom' 'daniel' 'fluid' 'oem' 'thoma' 'valv' 'andersen' 'jacki'\n",
      " 'heidrick' 'adapta' 'aftermarket' 'ajai' 'bahr' 'callaway' 'corsolut'\n",
      " 'equitycultur' 'heatmis' 'iip' 'imi' 'isobel' 'jami' 'kelvin'\n",
      " 'material/applic' 'one‑off' 'ricardo' 'roy' 'shook' 'thune' 'twite'] IMI_PLC\n",
      "['andré' 'jonathan' 'leaver' 'graham' 'es' 'aaa' 'intertek' 'tsa' 'amaz'\n",
      " 'apurvi' 'atic' 'colm' 'deasi' 'gill' 'jez' 'kawal' 'lynda' 'nespresso'\n",
      " 'preet' 'sheth' 'tamara' 'timmi' 'tqa'] INTERTEK_GROUP_PLC\n",
      "['aircraft' 'aviat' 'flight' 'saf' 'nze' 'aerospac' 'cryogen' 'gkn' 'gtc'\n",
      " 'h2gear' 'melros' 'propuls' 'trollhättan'] MELROSE_INDUSTRIES_PLC\n",
      "['hygien' 'retent' 'workwear' 'branch' 'technician' 'synergi' 'densiti'\n",
      " 'residenti' 'cer' 'annualis' 'fli' 'insect' 'pest' 'disinfect' 'washroom'\n",
      " 'ulev' 'hyperinfl' 'rentokil' 'rodent' 'latam' 'aer' 'birdalert' 'cvc'\n",
      " 'ecocatch' 'fumig' 'lumnia' 'menat' 'pestconnect' 'terminix' 'termit'\n",
      " 'u+' 'wdl' 'yvc' '£11m'] RENTOKIL_INITIAL_PLC\n",
      "['mill' 'paper' 'ds' 'smith' 'asterisk' 'corrug' 'papermak'] SMITH_(DS)_PLC\n",
      "['compani' 'employe' 'group' 'matter' 'oper' 'report' 'sustain' 'work'\n",
      " 'client' 'wise' 'clso'] WISE_PLC\n",
      "['london' 'occupi' 'ft' 'sq' 'riddor' 'baker' 'w1' 'naber' 'caledonian'\n",
      " 'derwent' 'egp'] DERWENT_LONDON_PLC\n",
      "['report' 'unemploy' 'proxi' 'landsec' 'neet'] LAND_SECURITIES_GROUP_PLC\n",
      "['axi' 'nzc' 'tenant' 'nhs' 'php' 'irish' 'toitu'] PRIMARY_HEALTH_PROPERTIES_PLC\n",
      "['committe' 'emiss' 'employe' 'report' 'risk' 'scope' 'rightmov'] RIGHTMOVE_PLC\n",
      "['rcp' 'kgco2e' 'segro' 'selp'] SEGRO_PLC\n",
      "['capit' 'consumpt' 'emiss' 'garden' 'report' 'total' 'kwh' 'refurbish'\n",
      " 'squar' 'regal' 'lfl' '―' 'lilli' 'erv' 'fitzrovia' 'capco' 'capitalyear'\n",
      " 'carnaby/soho' 'carnaby/sohocov' 'chinatown' 'covent' 'esc'\n",
      " 'gardenchinatownfitzrovialongmartinlilli' 'longmartin' 'shaftesburi'] SHAFTESBURY_CAPITAL_PLC\n",
      "['asset' 'big' 'compani' 'develop' 'manag' 'report' 'box' 'reit' 'tritax'\n",
      " 'symmetri'] TRITAX_BIG_BOX_REIT_PLC\n",
      "['energi' 'student' 'bed' 'rata' 'acquisitions/openings/dispos' 'co2e/b'\n",
      " 'co2e/m2' 'tonnes/yr'] UNITE_GROUP_PLC\n",
      "['semi' 'foundri' 'semiconductor' 'alphawav' 'fabless' 'ottawa'] ALPHAWAVE_IP_GROUP_PLC\n",
      "['adjust' 'group' 'increas' 'justic' 'oper' 'year' 'buddi'] BIG_TECHNOLOGIES_PLC\n",
      "['chang' 'could' 'manag' 'risk' 'vendor' 'phoenix' 'btg' 'byte' 'փ'] BYTES_TECHNOLOGY_GROUP_PLC\n",
      "['redeploy' 'clare' 'computacent' 'remarket'] COMPUTACENTER_PLC\n",
      "['climat' 'emiss' 'impact' 'risk' 'restaur' 'hop' 'rider'] DELIVEROO_PLC\n",
      "['ecoact' 'dei' 'knock' 'verita' 'long‑term' 'sage' 'self‑declar' 'smbs'] SAGE_GROUP_PLC\n",
      "['data' 'group' 'report' 'uk' 'ar' 'broadband' 'ee' 'bt' 'colleagues7'] BT_GROUP_PLC\n",
      "['esg' 'govern' 'strategi' 'filtron'] FILTRONIC_PLC\n",
      "['group' 'risk' 'tower' 'helio'] HELIOS_TOWERS_PLC\n",
      "['aa1000' 'hardwar' 'lab' 'hbcu' 'impuls' 'virtualis' 'calabasa' 'crawley'\n",
      " 'futureposit' 'gnss' 'paignton' 'pnt' 'spirent' 'visionwork'] SPIRENT_COMMUNICATIONS_PLC\n",
      "['fy25' 'foodbank' 'trussel' 'burnley' 'carla' 'koko' 'multiservic'\n",
      " 'plymouth' 'uw'] TELECOM_PLUS_PLC\n",
      "['climat' 'impact' 'risk' '°c' 'usd/tco2' 'vodafon'] VODAFONE_GROUP_PLC\n",
      "['carer' 'energi' 'centrica' 'peaksav'] CENTRICA_PLC\n",
      "['assur' 'biomass' 'emiss' 'includ' 'inform' 'matter' 'pellet' 'perform'\n",
      " 'report' 'subject' 'total' 'drax'] DRAX_GROUP_PLC\n",
      "['busi' 'custom' 'energi' 'good' 'instal' 'solar' 'tariff' 'jps' 'derog'\n",
      " 'ecoenergi' 'wessex' 'zapmap'] GOOD_ENERGY_GROUP_PLC\n",
      "['grain' 'grid' 'gw' 'lng' 'york' 'ed' 'transmiss' 'massachusett' 'eso'\n",
      " 'rbc' 'ny' 'remeasur' 'dps' 'interconnector' 'ctp' 'dso' 'roe' 'ofgem'\n",
      " 'asti' 'cpih' 'gprs' 'ifa1' 'neco' 'nged' 'nget' 'ngv' 'rav' 'rbr'\n",
      " 'upstat'] NATIONAL_GRID_PLC\n",
      "['risk' 'salin' 'capex' 'opex' 'bristol' 'sww' 'pennon' 'odi' 'pr24'\n",
      " 'wrmp'] PENNON_GROUP_PLC\n",
      "['truck' 'netherland' 'belgium' 'atm' 'decontamin' 'coolrec' 'ghent' 'isr'\n",
      " 'renewi' 'sheq'] RENEWI_PLC\n",
      "['river' 'derbi' 'trent' 'birmingham' 'canal' 'coventri' 'csos' 'amp8'\n",
      " 'andigest' 'dyfrdwi' 'hafren' 'ml/d' 'severn'] SEVERN_TRENT_PLC\n",
      "['thermal' 'wind' 'weld' 'hydro' 'transmiss' 'scotland' 'ireland' 'irish'\n",
      " 'triton' 'sse' 'accompanyng' 'airtric' 'cwic' 'keadbi' 'nzap' 'perfrom'\n",
      " 'psr' 'sf₆' 'ssen' 'tarbert'] SSE_PLC\n",
      "['drainag' 'rainfal' 'river' 'west' 'wastewat' 'leakag' 'outperform'\n",
      " 'sewer' 'ea' 'storm' 'peatland' 'ofwat' 'sludg' 'overflow' 'causal'\n",
      " 'ranger' 'totex' 'bioresourc' 'discolour' 'odi' 'amp7' 'amp8' 'biosolid'\n",
      " 'control/mitig' 'ltp' 'rore' 'usc'] UNITED_UTILITIES_GROUP_PLC\n",
      "['group' 'robin' 'meter' 'collater' 'toni' 'paynter' 'yu'] YU_GROUP_PLC\n"
     ]
    }
   ],
   "source": [
    "for i in range(len(pval_m)):\n",
    "    print(all_tokens[np.where(pval_m[i]==1)[0]], all_texts['2023']['firms'][i])"
   ]
  },
  {
   "cell_type": "code",
   "execution_count": 124,
   "id": "ac32d9d8",
   "metadata": {
    "ExecuteTime": {
     "end_time": "2025-05-19T14:41:49.763409Z",
     "start_time": "2025-05-19T14:41:49.753464Z"
    }
   },
   "outputs": [
    {
     "data": {
      "text/plain": [
       "'ANGLO_AMERICAN_PLC'"
      ]
     },
     "execution_count": 124,
     "metadata": {},
     "output_type": "execute_result"
    }
   ],
   "source": [
    "all_texts['2023']['firms'][0]"
   ]
  },
  {
   "cell_type": "code",
   "execution_count": 128,
   "id": "91ec11a7",
   "metadata": {
    "ExecuteTime": {
     "end_time": "2025-05-19T14:46:04.343672Z",
     "start_time": "2025-05-19T14:46:04.333695Z"
    }
   },
   "outputs": [
    {
     "data": {
      "text/plain": [
       "(array([2737]),)"
      ]
     },
     "execution_count": 128,
     "metadata": {},
     "output_type": "execute_result"
    }
   ],
   "source": [
    "np.where(all_tokens=='sdg')"
   ]
  },
  {
   "cell_type": "code",
   "execution_count": 133,
   "id": "93fd2fbb",
   "metadata": {
    "ExecuteTime": {
     "end_time": "2025-05-19T14:46:43.720037Z",
     "start_time": "2025-05-19T14:46:43.710911Z"
    }
   },
   "outputs": [
    {
     "data": {
      "text/plain": [
       "array(['sdg', 'sdg16', 'sdgs'], dtype='<U90')"
      ]
     },
     "execution_count": 133,
     "metadata": {},
     "output_type": "execute_result"
    }
   ],
   "source": [
    "all_tokens[2737:2740]"
   ]
  },
  {
   "cell_type": "code",
   "execution_count": 138,
   "id": "ca082248",
   "metadata": {
    "ExecuteTime": {
     "end_time": "2025-05-19T14:47:55.388848Z",
     "start_time": "2025-05-19T14:47:55.372137Z"
    }
   },
   "outputs": [
    {
     "data": {
      "text/plain": [
       "array([1, 0, 0], dtype=uint64)"
      ]
     },
     "execution_count": 138,
     "metadata": {},
     "output_type": "execute_result"
    }
   ],
   "source": [
    "np.sum(pval_m, axis=0)[2737:2740]"
   ]
  },
  {
   "cell_type": "code",
   "execution_count": 141,
   "id": "5b2c13d4",
   "metadata": {
    "ExecuteTime": {
     "end_time": "2025-05-19T14:48:40.068647Z",
     "start_time": "2025-05-19T14:48:40.058114Z"
    }
   },
   "outputs": [
    {
     "data": {
      "text/plain": [
       "'RELX_PLC'"
      ]
     },
     "execution_count": 141,
     "metadata": {},
     "output_type": "execute_result"
    }
   ],
   "source": [
    "all_texts['2023']['firms'][np.where(pval_m[:, 2737]==1)[0][0]]"
   ]
  },
  {
   "cell_type": "code",
   "execution_count": 143,
   "id": "027e6e25",
   "metadata": {
    "ExecuteTime": {
     "end_time": "2025-05-19T14:49:05.523298Z",
     "start_time": "2025-05-19T14:49:05.509572Z"
    }
   },
   "outputs": [
    {
     "data": {
      "text/plain": [
       "False"
      ]
     },
     "execution_count": 143,
     "metadata": {},
     "output_type": "execute_result"
    }
   ],
   "source": [
    "np.any(np.sum(pval_m, axis=1)==0)"
   ]
  },
  {
   "cell_type": "markdown",
   "id": "88b99372",
   "metadata": {},
   "source": [
    "### Maximum Entropy TOpic DEtection (METODE)"
   ]
  },
  {
   "cell_type": "code",
   "execution_count": 12,
   "id": "dce92478",
   "metadata": {
    "ExecuteTime": {
     "end_time": "2025-05-22T13:31:36.652291Z",
     "start_time": "2025-05-22T13:31:36.642686Z"
    }
   },
   "outputs": [
    {
     "name": "stderr",
     "output_type": "stream",
     "text": [
      "[nltk_data] Downloading package stopwords to\n",
      "[nltk_data]     /home/sarawalk/nltk_data...\n",
      "[nltk_data]   Package stopwords is already up-to-date!\n",
      "[nltk_data] Downloading package punkt to /home/sarawalk/nltk_data...\n",
      "[nltk_data]   Package punkt is already up-to-date!\n"
     ]
    }
   ],
   "source": [
    "import string\n",
    "\n",
    "import nltk\n",
    "nltk.download('stopwords')\n",
    "nltk.download('punkt')\n",
    "\n",
    "from nltk.corpus import stopwords\n",
    "from nltk.tokenize import word_tokenize\n",
    "\n",
    "from nltk.stem.snowball import SnowballStemmer"
   ]
  },
  {
   "cell_type": "code",
   "execution_count": 13,
   "id": "82f18978",
   "metadata": {
    "ExecuteTime": {
     "end_time": "2025-05-22T13:31:37.282749Z",
     "start_time": "2025-05-22T13:31:37.277717Z"
    }
   },
   "outputs": [],
   "source": [
    "from collections import Counter"
   ]
  },
  {
   "cell_type": "code",
   "execution_count": 14,
   "id": "45b042fb",
   "metadata": {
    "ExecuteTime": {
     "end_time": "2025-05-22T13:31:37.583446Z",
     "start_time": "2025-05-22T13:31:37.578078Z"
    }
   },
   "outputs": [],
   "source": [
    "from collections import defaultdict"
   ]
  },
  {
   "cell_type": "code",
   "execution_count": 15,
   "id": "f37d090a",
   "metadata": {
    "ExecuteTime": {
     "end_time": "2025-05-22T13:31:37.852787Z",
     "start_time": "2025-05-22T13:31:37.847825Z"
    }
   },
   "outputs": [],
   "source": [
    "from scipy.stats import geom"
   ]
  },
  {
   "cell_type": "code",
   "execution_count": 16,
   "id": "a9d1e9b4",
   "metadata": {
    "ExecuteTime": {
     "end_time": "2025-05-22T13:31:38.210946Z",
     "start_time": "2025-05-22T13:31:38.205364Z"
    }
   },
   "outputs": [],
   "source": [
    "from concurrent.futures import ProcessPoolExecutor, as_completed"
   ]
  },
  {
   "cell_type": "code",
   "execution_count": null,
   "id": "35de3f0a",
   "metadata": {
    "ExecuteTime": {
     "end_time": "2025-06-20T16:27:54.782733Z",
     "start_time": "2025-06-20T16:27:54.782707Z"
    }
   },
   "outputs": [],
   "source": [
    "class metode:\n",
    "    \n",
    "    \n",
    "    def __init__(self, texts, row_names=None, alpha=0.01, lang=None, parallel=False):\n",
    "        # biadjacency list\n",
    "        self.texts=texts\n",
    "        # row names\n",
    "        if row_names is not None:\n",
    "            self.row_names=np.array(row_names)\n",
    "        else:\n",
    "            self.row_names=np.arange(len(texts))\n",
    "        # significance threshold\n",
    "        self.alpha=alpha\n",
    "        assert alpha<1 and alpha>0\n",
    "        # language\n",
    "        if lang is None:\n",
    "            self.lang=\"english\"\n",
    "        else:\n",
    "            # check that english is among the accepted languages by nltk\n",
    "            self.lang=lang\n",
    "            \n",
    "        self.parallel=parallel\n",
    "            \n",
    "        # get the stemmer\n",
    "        self.stemmer = SnowballStemmer(self.lang, ignore_stopwords=True)\n",
    "        \n",
    "        # bad characters\n",
    "        self.stop_words = list(stopwords.words(self.lang))\n",
    "        self.bad_char=['©', '–', '‘', '’', '“', '”', \"''\", \"'s\",'``', '--', '|', '..']\n",
    "        #self.super_bad_char=[\"'\", \"\\\\\", \"/\", '+', \"^^\", \":\", '£', '$']\n",
    "        self.super_bad_char=[\"'\", \"\\\\\", \"/\", '+', \"^^\", \":\", '£', '$', '€', '~', '≥', '-']\n",
    "        \n",
    "        # get the biadjacency list\n",
    "        #self.get_bili()\n",
    "        # get the biadjacency matrix to feed bicm\n",
    "        #self.get_all_tokens()\n",
    "        #self.bili2bima()\n",
    "    \n",
    "    def _tests(self, entry):\n",
    "        # I am removing:\n",
    "        # - stop words;\n",
    "        # - punctuation\n",
    "        # - fractional numbers\n",
    "        _test_0=not (entry in self.stop_words)\n",
    "        _test_1=not (entry in self.bad_char)\n",
    "        _test_2=not (entry in string.punctuation)\n",
    "        _test_3=not (entry[0] in string.punctuation)\n",
    "        _test_3=not ('.' in entry)\n",
    "        _test_4=not (',' in entry)\n",
    "        _test_5=not entry.isnumeric()\n",
    "        _test_6=not entry[0].isnumeric()\n",
    "        _test_7=not (entry[0] in self.super_bad_char)\n",
    "        _test_8=not ('|' in entry)\n",
    "        #return _test_0 and _test_1 and _test_2 and _test_3 and _test_4 and _test_5# and _test_6\n",
    "        return _test_0 and _test_1 and _test_2 and _test_5 and _test_6 and _test_7 and len(entry)>0\n",
    "    \n",
    "    def get_bili(self):\n",
    "        self.bili={}\n",
    "        for i in trange(len(self.texts), leave=False, desc='get biadjacency list'):\n",
    "            self.bili[self.row_names[i]]=self.text2tokens(self.texts[i])\n",
    "            \n",
    "    def text2tokens(self, text):\n",
    "        tokens = [self.stemmer.stem(w.lower()) for w in word_tokenize(text) if self._tests(w)]\n",
    "        return Counter(tokens)\n",
    "    \n",
    "    def get_all_tokens(self):\n",
    "        self.all_tokens=[]\n",
    "        for key in tqdm(self.bili.keys(), leave=False, desc='get all tokens'):\n",
    "            for _token in self.bili[key].keys():\n",
    "                if _token not in self.all_tokens:\n",
    "                    self.all_tokens.append(_token)\n",
    "        self.all_tokens.sort()\n",
    "        self.all_tokens=np.array(self.all_tokens)\n",
    "\n",
    "    def get_bima(self):\n",
    "        ''' \n",
    "        biadjacency list to biadjacency matrix\n",
    "        '''\n",
    "        if not hasattr(self, 'bili'):\n",
    "            self.get_bili()\n",
    "        if not hasattr(self, 'all_tokens'):\n",
    "            self.get_all_tokens()\n",
    "            \n",
    "        self.bima=np.zeros((len(self.bili.keys()), len(self.all_tokens)), dtype=int)\n",
    "        for i_key, key in enumerate(tqdm(self.bili.keys(), leave=False)):\n",
    "            for _token in self.all_tokens:\n",
    "                where_token=np.where(self.all_tokens==_token)[0][0]\n",
    "                #where_token=self.all_tokens.index(_token)\n",
    "                self.bima[i_key, where_token]+=self.bili[key][_token]\n",
    "                \n",
    "    def get_biwcm(self):\n",
    "        if not hasattr(self, 'bima'):\n",
    "            self.get_bima()\n",
    "        # Bipartite Graph of bicm\n",
    "        self.mygraph=BiG()\n",
    "        # initialize it with the bipartite matrix, \n",
    "        # i.e. the only way to initialize the method for bipartite weighted graphs\n",
    "        self.mygraph.set_biadjacency_matrix(self.bima)\n",
    "        # solve BiWCM\n",
    "        self.mygraph.solve_tool()\n",
    "        # probability for the geometric distribution (to feed numpy function)\n",
    "        self.p_mat=np.outer(self.mygraph.x, self.mygraph.y)\n",
    "        self.p_mat=1-self.p_mat\n",
    "        \n",
    "        \n",
    "    def get_validated_bima(self):\n",
    "        if not hasattr(self, 'mygraph'):\n",
    "            self.get_biwcm()\n",
    "        # calculate p-values    \n",
    "        self.mygraph.compute_weighted_pvals_mat()\n",
    "        self.val_bima=self.mygraph.get_validated_matrix(significance=self.alpha, validation_method='fdr')\n",
    "        \n",
    "    def sample_me(self):\n",
    "        rng = np.random.default_rng()\n",
    "        return rng.geometric(self.p_mat)+1\n",
    "    \n",
    "    def fdr_suf_sam(self, layer):\n",
    "        '''\n",
    "        FDR sufficient sample\n",
    "        '''\n",
    "        if layer==0:\n",
    "            l_layer=len(self.texts)\n",
    "        else:\n",
    "            if not hasattr(self, 'all_tokens'):\n",
    "                self.get_all_tokens()\n",
    "            l_layer=len(self.all_tokens)\n",
    "        n_couples=int(l_layer*(l_layer-1)/2)\n",
    "        SAFETY_FACTOR=2. # quite constipated, but it's ok\n",
    "        return round(n_couples*SAFETY_FACTOR/self.alpha)\n",
    "    \n",
    "    @staticmethod\n",
    "    def covol_calculator(mat, layer):\n",
    "        if layer==0:\n",
    "            aux_mat=mat.copy()\n",
    "        else:\n",
    "            aux_mat=mat.T.copy()\n",
    "        l_layer=mat.shape[layer]\n",
    "        n_couples=int(l_layer*(l_layer-1)/2)\n",
    "        covol=np.zeros(n_couples, dtype=int)\n",
    "        counter=0\n",
    "        for i in range(l_layer):\n",
    "            for j in range(i+1, l_layer):\n",
    "                covol[counter]=np.dot(aux_mat[i], aux_mat[j])\n",
    "                counter+=1\n",
    "        return covol\n",
    "    \n",
    "    def get_validated_covol(self, layer, n_sample):\n",
    "        # let's first get the empirical value...\n",
    "        if not hasattr(self, 'bima'):\n",
    "            self.get_bima()\n",
    "        \n",
    "        covol_obs=self.covol_calculator(self.bima, layer)\n",
    "        \n",
    "        # ... then the sampled\n",
    "        if not hasattr(self, 'mygraph'):\n",
    "            self.get_biwcm()\n",
    "        \n",
    "        covol_sample=np.zeros((len(covol_obs), n_sample))\n",
    "        \n",
    "        if self.parallel:\n",
    "            results = []\n",
    "            with ProcessPoolExecutor() as executor:\n",
    "                futures = [executor.submit(self.covol_calculator, self.sample_me(), layer) for _ in range(n_sample)]\n",
    "            for future in tqdm(as_completed(futures), total=n_sample, desc=\"Processing samples\"):\n",
    "                results.append(future.result())\n",
    "    \n",
    "            # Costruisci l'array risultante assumendo che ogni risultato sia un vettore\n",
    "            covol_sample = np.column_stack(results)\n",
    "            \n",
    "            \n",
    "        else:\n",
    "            for _ in trange(n_sample, leave=True):\n",
    "                covol_sample[:, _]=self.covol_calculator(self.sample_me(), layer)        \n",
    "        \n",
    "        # finally, let's calculate the p-values...\n",
    "        self.p_vals=np.zeros(len(covol_obs), dtype=[('node_0','i4'), ('node_1','i4'), ('p_value','f8')])\n",
    "        l_layer=self.bima.shape[layer]\n",
    "        \n",
    "        counter=0\n",
    "        for i in range(l_layer):\n",
    "            for j in range(i+1, l_layer):\n",
    "                self.p_vals[counter]['node_0']=i\n",
    "                self.p_vals[counter]['node_1']=j\n",
    "                self.p_vals[counter]['p_value']=np.sum(covol_sample[counter]>=covol_obs[counter])/n_sample\n",
    "                counter+=1\n",
    "                \n",
    "        #... and validate them\n",
    "        self.effective_th=self.fdr_th(self.p_vals['p_value'], self.alpha)\n",
    "        self.val_covol=self.p_vals[self.p_vals['p_value']<=self.effective_th][['node_0', 'node_1']]\n",
    "        \n",
    "     \n",
    "    @staticmethod\n",
    "    def fdr_th(p_vals, alpha):\n",
    "        n_p_vals=len(p_vals)\n",
    "        s_p_vals=np.sort(p_vals)\n",
    "        running_bonf=(1+np.arange(n_p_vals))*alpha/n_p_vals\n",
    "        _satisfaction=s_p_vals<=running_bonf\n",
    "        if np.sum(_satisfaction)>0:\n",
    "            # there at least a p-value satisfying the condition\n",
    "            return running_bonf[_satisfaction][-1]\n",
    "        else:\n",
    "            # there are no p-values satisfying the condition\n",
    "            return 0"
   ]
  },
  {
   "cell_type": "markdown",
   "id": "9307819a",
   "metadata": {
    "heading_collapsed": true
   },
   "source": [
    "### Debug"
   ]
  },
  {
   "cell_type": "code",
   "execution_count": 151,
   "id": "697e4237",
   "metadata": {
    "ExecuteTime": {
     "end_time": "2025-06-20T16:05:42.826163Z",
     "start_time": "2025-06-20T16:05:42.817783Z"
    },
    "hidden": true
   },
   "outputs": [],
   "source": [
    "debug=metode(all_texts['2023']['texts'][:10], all_texts['2023']['firms'][:10], 0.01)"
   ]
  },
  {
   "cell_type": "code",
   "execution_count": 61,
   "id": "0c3c7909",
   "metadata": {
    "ExecuteTime": {
     "end_time": "2025-06-20T15:48:30.050375Z",
     "start_time": "2025-06-20T15:48:21.064951Z"
    },
    "hidden": true
   },
   "outputs": [
    {
     "data": {
      "application/vnd.jupyter.widget-view+json": {
       "model_id": "46511353afed4c11ab878e1c8958da35",
       "version_major": 2,
       "version_minor": 0
      },
      "text/plain": [
       "get biadjacency list:   0%|          | 0/10 [00:00<?, ?it/s]"
      ]
     },
     "metadata": {},
     "output_type": "display_data"
    }
   ],
   "source": [
    "debug.get_bili()"
   ]
  },
  {
   "cell_type": "code",
   "execution_count": 62,
   "id": "49fe7610",
   "metadata": {
    "ExecuteTime": {
     "end_time": "2025-06-20T15:48:31.833382Z",
     "start_time": "2025-06-20T15:48:30.054111Z"
    },
    "hidden": true
   },
   "outputs": [
    {
     "data": {
      "application/vnd.jupyter.widget-view+json": {
       "model_id": "ec63daca03ec4d2c973095cd64572610",
       "version_major": 2,
       "version_minor": 0
      },
      "text/plain": [
       "get all tokens:   0%|          | 0/10 [00:00<?, ?it/s]"
      ]
     },
     "metadata": {},
     "output_type": "display_data"
    }
   ],
   "source": [
    "debug.get_all_tokens()"
   ]
  },
  {
   "cell_type": "code",
   "execution_count": 63,
   "id": "a3247974",
   "metadata": {
    "ExecuteTime": {
     "end_time": "2025-06-20T15:48:31.842755Z",
     "start_time": "2025-06-20T15:48:31.836045Z"
    },
    "hidden": true
   },
   "outputs": [
    {
     "data": {
      "text/plain": [
       "8677"
      ]
     },
     "execution_count": 63,
     "metadata": {},
     "output_type": "execute_result"
    }
   ],
   "source": [
    "len(debug.all_tokens)"
   ]
  },
  {
   "cell_type": "code",
   "execution_count": 64,
   "id": "7cfc933e",
   "metadata": {
    "ExecuteTime": {
     "end_time": "2025-06-20T15:48:31.929873Z",
     "start_time": "2025-06-20T15:48:31.846830Z"
    },
    "hidden": true
   },
   "outputs": [
    {
     "data": {
      "text/plain": [
       "array(['', ',ywell-b', '--', ..., '≥', '≥10', '≥oel'], dtype='<U94')"
      ]
     },
     "execution_count": 64,
     "metadata": {},
     "output_type": "execute_result"
    }
   ],
   "source": [
    "debug.all_tokens"
   ]
  },
  {
   "cell_type": "code",
   "execution_count": 66,
   "id": "231a489b",
   "metadata": {
    "ExecuteTime": {
     "end_time": "2025-06-20T15:48:39.944536Z",
     "start_time": "2025-06-20T15:48:39.935518Z"
    },
    "hidden": true
   },
   "outputs": [
    {
     "data": {
      "text/plain": [
       "'1.1'"
      ]
     },
     "execution_count": 66,
     "metadata": {},
     "output_type": "execute_result"
    }
   ],
   "source": [
    "debug.all_tokens[40]"
   ]
  },
  {
   "cell_type": "code",
   "execution_count": 65,
   "id": "940de3a6",
   "metadata": {
    "ExecuteTime": {
     "end_time": "2025-06-20T15:48:32.013564Z",
     "start_time": "2025-06-20T15:48:31.932851Z"
    },
    "hidden": true
   },
   "outputs": [
    {
     "data": {
      "text/plain": [
       "False"
      ]
     },
     "execution_count": 65,
     "metadata": {},
     "output_type": "execute_result"
    }
   ],
   "source": [
    "debug._tests(debug.all_tokens[40])"
   ]
  },
  {
   "cell_type": "code",
   "execution_count": 161,
   "id": "5d9e0187",
   "metadata": {
    "ExecuteTime": {
     "end_time": "2025-06-20T16:06:08.688468Z",
     "start_time": "2025-06-20T16:06:08.542674Z"
    },
    "hidden": true
   },
   "outputs": [],
   "source": [
    "_cacca=word_tokenize(all_texts['2023']['texts'][1])"
   ]
  },
  {
   "cell_type": "code",
   "execution_count": 162,
   "id": "2176e50b",
   "metadata": {
    "ExecuteTime": {
     "end_time": "2025-06-20T16:06:08.968230Z",
     "start_time": "2025-06-20T16:06:08.953153Z"
    },
    "hidden": true
   },
   "outputs": [],
   "source": [
    "_cacca.sort()"
   ]
  },
  {
   "cell_type": "code",
   "execution_count": 163,
   "id": "ea8ec613",
   "metadata": {
    "ExecuteTime": {
     "end_time": "2025-06-20T16:06:09.343390Z",
     "start_time": "2025-06-20T16:06:09.326015Z"
    },
    "hidden": true
   },
   "outputs": [],
   "source": [
    "_cacca=np.unique(_cacca)"
   ]
  },
  {
   "cell_type": "code",
   "execution_count": 164,
   "id": "81925ba2",
   "metadata": {
    "ExecuteTime": {
     "end_time": "2025-06-20T16:06:09.760598Z",
     "start_time": "2025-06-20T16:06:09.751281Z"
    },
    "hidden": true
   },
   "outputs": [
    {
     "data": {
      "text/plain": [
       "array(['%', '&', \"'\", ..., '”', '•', '∆'], dtype='<U73')"
      ]
     },
     "execution_count": 164,
     "metadata": {},
     "output_type": "execute_result"
    }
   ],
   "source": [
    "_cacca"
   ]
  },
  {
   "cell_type": "code",
   "execution_count": 165,
   "id": "81bb6a11",
   "metadata": {
    "ExecuteTime": {
     "end_time": "2025-06-20T16:06:10.958982Z",
     "start_time": "2025-06-20T16:06:10.872666Z"
    },
    "hidden": true
   },
   "outputs": [],
   "source": [
    "tokens = [debug.stemmer.stem(w.lower()) for w in np.unique(_cacca) if debug._tests(w)]"
   ]
  },
  {
   "cell_type": "code",
   "execution_count": 166,
   "id": "e1254585",
   "metadata": {
    "ExecuteTime": {
     "end_time": "2025-06-20T16:06:11.431041Z",
     "start_time": "2025-06-20T16:06:11.425104Z"
    },
    "hidden": true
   },
   "outputs": [],
   "source": [
    "tokens.sort()"
   ]
  },
  {
   "cell_type": "code",
   "execution_count": 167,
   "id": "abb49319",
   "metadata": {
    "ExecuteTime": {
     "end_time": "2025-06-20T16:06:11.930819Z",
     "start_time": "2025-06-20T16:06:11.922578Z"
    },
    "hidden": true
   },
   "outputs": [
    {
     "data": {
      "text/plain": [
       "2054"
      ]
     },
     "execution_count": 167,
     "metadata": {},
     "output_type": "execute_result"
    }
   ],
   "source": [
    "len(tokens)"
   ]
  },
  {
   "cell_type": "code",
   "execution_count": 168,
   "id": "333b3a8d",
   "metadata": {
    "ExecuteTime": {
     "end_time": "2025-06-20T16:06:12.800110Z",
     "start_time": "2025-06-20T16:06:12.789744Z"
    },
    "hidden": true
   },
   "outputs": [
    {
     "data": {
      "text/plain": [
       "1398"
      ]
     },
     "execution_count": 168,
     "metadata": {},
     "output_type": "execute_result"
    }
   ],
   "source": [
    "len(np.unique(tokens))"
   ]
  },
  {
   "cell_type": "code",
   "execution_count": 22,
   "id": "c2686d78",
   "metadata": {
    "ExecuteTime": {
     "end_time": "2025-05-22T13:32:18.030439Z",
     "start_time": "2025-05-22T13:32:12.566754Z"
    },
    "hidden": true
   },
   "outputs": [
    {
     "data": {
      "application/vnd.jupyter.widget-view+json": {
       "model_id": "0728a2b06f3748f08a3d1a9b925d5aea",
       "version_major": 2,
       "version_minor": 0
      },
      "text/plain": [
       "  0%|          | 0/10 [00:00<?, ?it/s]"
      ]
     },
     "metadata": {},
     "output_type": "display_data"
    }
   ],
   "source": [
    "debug.get_bima()"
   ]
  },
  {
   "cell_type": "code",
   "execution_count": 23,
   "id": "d61a3db0",
   "metadata": {
    "ExecuteTime": {
     "end_time": "2025-05-22T13:34:43.734914Z",
     "start_time": "2025-05-22T13:32:18.033241Z"
    },
    "hidden": true
   },
   "outputs": [
    {
     "name": "stdout",
     "output_type": "stream",
     "text": [
      "Discrete weighted model: BiWCM_d\n"
     ]
    },
    {
     "name": "stderr",
     "output_type": "stream",
     "text": [
      "/home/sarawalk/sdgs_py38/lib/python3.8/site-packages/numba/core/utils.py:643: NumbaExperimentalFeatureWarning: First-class function type feature is experimental\n",
      "  warnings.warn(\"First-class function type feature is experimental\",\n",
      "/home/sarawalk/sdgs_py38/lib/python3.8/site-packages/bicm/models_functions.py:326: NumbaExperimentalFeatureWarning: First-class function type feature is experimental\n",
      "  step_fun = args[0]\n",
      "/home/sarawalk/sdgs_py38/lib/python3.8/site-packages/bicm/models_functions.py:327: NumbaExperimentalFeatureWarning: First-class function type feature is experimental\n",
      "  arg_step_fun = args[1]\n",
      "/home/sarawalk/sdgs_py38/lib/python3.8/site-packages/numba/core/utils.py:643: NumbaExperimentalFeatureWarning: First-class function type feature is experimental\n",
      "  warnings.warn(\"First-class function type feature is experimental\",\n"
     ]
    },
    {
     "name": "stdout",
     "output_type": "stream",
     "text": [
      "max rows error = 1.1557509347336059e-05\n",
      "max columns error = 1.7915442113252258e-06\n",
      "total error = 0.0008624186946751949\n",
      "Solver converged.\n"
     ]
    }
   ],
   "source": [
    "debug.get_biwcm()"
   ]
  },
  {
   "cell_type": "markdown",
   "id": "f648574e",
   "metadata": {
    "hidden": true
   },
   "source": [
    "#### Debug of p-value calculator"
   ]
  },
  {
   "cell_type": "code",
   "execution_count": 37,
   "id": "b84779e9",
   "metadata": {
    "ExecuteTime": {
     "end_time": "2025-05-22T13:38:14.180122Z",
     "start_time": "2025-05-22T13:38:14.161118Z"
    },
    "hidden": true
   },
   "outputs": [],
   "source": [
    "debug.get_validated_bima()"
   ]
  },
  {
   "cell_type": "code",
   "execution_count": 38,
   "id": "3a754c0e",
   "metadata": {
    "ExecuteTime": {
     "end_time": "2025-05-22T13:38:14.558081Z",
     "start_time": "2025-05-22T13:38:14.550338Z"
    },
    "hidden": true
   },
   "outputs": [
    {
     "data": {
      "text/plain": [
       "9000"
      ]
     },
     "execution_count": 38,
     "metadata": {},
     "output_type": "execute_result"
    }
   ],
   "source": [
    "debug.fdr_suf_sam(0)"
   ]
  },
  {
   "cell_type": "code",
   "execution_count": 73,
   "id": "01d14d88",
   "metadata": {
    "ExecuteTime": {
     "end_time": "2025-05-22T13:59:44.482553Z",
     "start_time": "2025-05-22T13:59:44.476734Z"
    },
    "hidden": true
   },
   "outputs": [],
   "source": [
    "n_sample=5*int(debug.fdr_suf_sam(0))"
   ]
  },
  {
   "cell_type": "code",
   "execution_count": 74,
   "id": "74c6843f",
   "metadata": {
    "ExecuteTime": {
     "end_time": "2025-05-22T13:59:44.936688Z",
     "start_time": "2025-05-22T13:59:44.931573Z"
    },
    "hidden": true
   },
   "outputs": [],
   "source": [
    "debug.parallel=False"
   ]
  },
  {
   "cell_type": "code",
   "execution_count": 75,
   "id": "54de25c4",
   "metadata": {
    "ExecuteTime": {
     "end_time": "2025-05-22T14:02:41.186232Z",
     "start_time": "2025-05-22T13:59:45.465101Z"
    },
    "hidden": true
   },
   "outputs": [
    {
     "data": {
      "application/vnd.jupyter.widget-view+json": {
       "model_id": "5bdb9a65aac449088be4a0a4899e26b3",
       "version_major": 2,
       "version_minor": 0
      },
      "text/plain": [
       "  0%|          | 0/45000 [00:00<?, ?it/s]"
      ]
     },
     "metadata": {},
     "output_type": "display_data"
    }
   ],
   "source": [
    "debug.get_validated_covol(0, n_sample)"
   ]
  },
  {
   "cell_type": "code",
   "execution_count": 76,
   "id": "d0f590a9",
   "metadata": {
    "ExecuteTime": {
     "end_time": "2025-05-22T14:02:41.194917Z",
     "start_time": "2025-05-22T14:02:41.190022Z"
    },
    "hidden": true
   },
   "outputs": [],
   "source": [
    "unparallel_pvals=debug.p_vals.copy()"
   ]
  },
  {
   "cell_type": "code",
   "execution_count": 93,
   "id": "2c870635",
   "metadata": {
    "ExecuteTime": {
     "end_time": "2025-05-22T14:20:09.908037Z",
     "start_time": "2025-05-22T14:20:09.902315Z"
    },
    "hidden": true
   },
   "outputs": [],
   "source": [
    "debug.parallel=True"
   ]
  },
  {
   "cell_type": "code",
   "execution_count": 78,
   "id": "5b627005",
   "metadata": {
    "ExecuteTime": {
     "end_time": "2025-05-22T14:17:24.151824Z",
     "start_time": "2025-05-22T14:02:41.301501Z"
    },
    "hidden": true
   },
   "outputs": [
    {
     "name": "stderr",
     "output_type": "stream",
     "text": [
      "Process ForkProcess-48:\n",
      "Process ForkProcess-44:\n",
      "Process ForkProcess-43:\n",
      "Process ForkProcess-47:\n",
      "Process ForkProcess-38:\n",
      "Process ForkProcess-39:\n",
      "Process ForkProcess-42:\n",
      "Process ForkProcess-33:\n",
      "Process ForkProcess-31:\n",
      "Process ForkProcess-40:\n",
      "Process ForkProcess-41:\n",
      "Process ForkProcess-46:\n",
      "Process ForkProcess-34:\n",
      "Process ForkProcess-36:\n",
      "Process ForkProcess-45:\n",
      "Process ForkProcess-37:\n",
      "Process ForkProcess-35:\n"
     ]
    },
    {
     "ename": "KeyboardInterrupt",
     "evalue": "",
     "output_type": "error",
     "traceback": [
      "\u001b[0;31m---------------------------------------------------------------------------\u001b[0m",
      "\u001b[0;31mKeyboardInterrupt\u001b[0m                         Traceback (most recent call last)",
      "Cell \u001b[0;32mIn[78], line 1\u001b[0m\n\u001b[0;32m----> 1\u001b[0m \u001b[43mdebug\u001b[49m\u001b[38;5;241;43m.\u001b[39;49m\u001b[43mget_validated_covol\u001b[49m\u001b[43m(\u001b[49m\u001b[38;5;241;43m0\u001b[39;49m\u001b[43m,\u001b[49m\u001b[43m \u001b[49m\u001b[43mn_sample\u001b[49m\u001b[43m)\u001b[49m\n",
      "Cell \u001b[0;32mIn[17], line 159\u001b[0m, in \u001b[0;36mmetode.get_validated_covol\u001b[0;34m(self, layer, n_sample)\u001b[0m\n\u001b[1;32m    157\u001b[0m results \u001b[38;5;241m=\u001b[39m []\n\u001b[1;32m    158\u001b[0m \u001b[38;5;28;01mwith\u001b[39;00m ProcessPoolExecutor() \u001b[38;5;28;01mas\u001b[39;00m executor:\n\u001b[0;32m--> 159\u001b[0m     futures \u001b[38;5;241m=\u001b[39m [executor\u001b[38;5;241m.\u001b[39msubmit(\u001b[38;5;28mself\u001b[39m\u001b[38;5;241m.\u001b[39mcovol_calculator, \u001b[38;5;28mself\u001b[39m\u001b[38;5;241m.\u001b[39msample_me(), layer) \u001b[38;5;28;01mfor\u001b[39;00m _ \u001b[38;5;129;01min\u001b[39;00m \u001b[38;5;28mrange\u001b[39m(n_sample)]\n\u001b[1;32m    160\u001b[0m \u001b[38;5;28;01mfor\u001b[39;00m future \u001b[38;5;129;01min\u001b[39;00m tqdm(as_completed(futures), total\u001b[38;5;241m=\u001b[39mn_sample, desc\u001b[38;5;241m=\u001b[39m\u001b[38;5;124m\"\u001b[39m\u001b[38;5;124mProcessing samples\u001b[39m\u001b[38;5;124m\"\u001b[39m):\n\u001b[1;32m    161\u001b[0m     results\u001b[38;5;241m.\u001b[39mappend(future\u001b[38;5;241m.\u001b[39mresult())\n",
      "File \u001b[0;32m~/python/Python-3.8.10/Lib/concurrent/futures/_base.py:644\u001b[0m, in \u001b[0;36mExecutor.__exit__\u001b[0;34m(self, exc_type, exc_val, exc_tb)\u001b[0m\n\u001b[1;32m    643\u001b[0m \u001b[38;5;28;01mdef\u001b[39;00m \u001b[38;5;21m__exit__\u001b[39m(\u001b[38;5;28mself\u001b[39m, exc_type, exc_val, exc_tb):\n\u001b[0;32m--> 644\u001b[0m     \u001b[38;5;28;43mself\u001b[39;49m\u001b[38;5;241;43m.\u001b[39;49m\u001b[43mshutdown\u001b[49m\u001b[43m(\u001b[49m\u001b[43mwait\u001b[49m\u001b[38;5;241;43m=\u001b[39;49m\u001b[38;5;28;43;01mTrue\u001b[39;49;00m\u001b[43m)\u001b[49m\n\u001b[1;32m    645\u001b[0m     \u001b[38;5;28;01mreturn\u001b[39;00m \u001b[38;5;28;01mFalse\u001b[39;00m\n",
      "File \u001b[0;32m~/python/Python-3.8.10/Lib/concurrent/futures/process.py:686\u001b[0m, in \u001b[0;36mProcessPoolExecutor.shutdown\u001b[0;34m(self, wait)\u001b[0m\n\u001b[1;32m    684\u001b[0m     \u001b[38;5;28mself\u001b[39m\u001b[38;5;241m.\u001b[39m_queue_management_thread_wakeup\u001b[38;5;241m.\u001b[39mwakeup()\n\u001b[1;32m    685\u001b[0m     \u001b[38;5;28;01mif\u001b[39;00m wait:\n\u001b[0;32m--> 686\u001b[0m         \u001b[38;5;28;43mself\u001b[39;49m\u001b[38;5;241;43m.\u001b[39;49m\u001b[43m_queue_management_thread\u001b[49m\u001b[38;5;241;43m.\u001b[39;49m\u001b[43mjoin\u001b[49m\u001b[43m(\u001b[49m\u001b[43m)\u001b[49m\n\u001b[1;32m    687\u001b[0m \u001b[38;5;66;03m# To reduce the risk of opening too many files, remove references to\u001b[39;00m\n\u001b[1;32m    688\u001b[0m \u001b[38;5;66;03m# objects that use file descriptors.\u001b[39;00m\n\u001b[1;32m    689\u001b[0m \u001b[38;5;28mself\u001b[39m\u001b[38;5;241m.\u001b[39m_queue_management_thread \u001b[38;5;241m=\u001b[39m \u001b[38;5;28;01mNone\u001b[39;00m\n",
      "File \u001b[0;32m~/python/Python-3.8.10/Lib/threading.py:1011\u001b[0m, in \u001b[0;36mThread.join\u001b[0;34m(self, timeout)\u001b[0m\n\u001b[1;32m   1008\u001b[0m     \u001b[38;5;28;01mraise\u001b[39;00m \u001b[38;5;167;01mRuntimeError\u001b[39;00m(\u001b[38;5;124m\"\u001b[39m\u001b[38;5;124mcannot join current thread\u001b[39m\u001b[38;5;124m\"\u001b[39m)\n\u001b[1;32m   1010\u001b[0m \u001b[38;5;28;01mif\u001b[39;00m timeout \u001b[38;5;129;01mis\u001b[39;00m \u001b[38;5;28;01mNone\u001b[39;00m:\n\u001b[0;32m-> 1011\u001b[0m     \u001b[38;5;28;43mself\u001b[39;49m\u001b[38;5;241;43m.\u001b[39;49m\u001b[43m_wait_for_tstate_lock\u001b[49m\u001b[43m(\u001b[49m\u001b[43m)\u001b[49m\n\u001b[1;32m   1012\u001b[0m \u001b[38;5;28;01melse\u001b[39;00m:\n\u001b[1;32m   1013\u001b[0m     \u001b[38;5;66;03m# the behavior of a negative timeout isn't documented, but\u001b[39;00m\n\u001b[1;32m   1014\u001b[0m     \u001b[38;5;66;03m# historically .join(timeout=x) for x<0 has acted as if timeout=0\u001b[39;00m\n\u001b[1;32m   1015\u001b[0m     \u001b[38;5;28mself\u001b[39m\u001b[38;5;241m.\u001b[39m_wait_for_tstate_lock(timeout\u001b[38;5;241m=\u001b[39m\u001b[38;5;28mmax\u001b[39m(timeout, \u001b[38;5;241m0\u001b[39m))\n",
      "File \u001b[0;32m~/python/Python-3.8.10/Lib/threading.py:1027\u001b[0m, in \u001b[0;36mThread._wait_for_tstate_lock\u001b[0;34m(self, block, timeout)\u001b[0m\n\u001b[1;32m   1025\u001b[0m \u001b[38;5;28;01mif\u001b[39;00m lock \u001b[38;5;129;01mis\u001b[39;00m \u001b[38;5;28;01mNone\u001b[39;00m:  \u001b[38;5;66;03m# already determined that the C code is done\u001b[39;00m\n\u001b[1;32m   1026\u001b[0m     \u001b[38;5;28;01massert\u001b[39;00m \u001b[38;5;28mself\u001b[39m\u001b[38;5;241m.\u001b[39m_is_stopped\n\u001b[0;32m-> 1027\u001b[0m \u001b[38;5;28;01melif\u001b[39;00m \u001b[43mlock\u001b[49m\u001b[38;5;241;43m.\u001b[39;49m\u001b[43macquire\u001b[49m\u001b[43m(\u001b[49m\u001b[43mblock\u001b[49m\u001b[43m,\u001b[49m\u001b[43m \u001b[49m\u001b[43mtimeout\u001b[49m\u001b[43m)\u001b[49m:\n\u001b[1;32m   1028\u001b[0m     lock\u001b[38;5;241m.\u001b[39mrelease()\n\u001b[1;32m   1029\u001b[0m     \u001b[38;5;28mself\u001b[39m\u001b[38;5;241m.\u001b[39m_stop()\n",
      "\u001b[0;31mKeyboardInterrupt\u001b[0m: "
     ]
    },
    {
     "name": "stderr",
     "output_type": "stream",
     "text": [
      "Process ForkProcess-32:\n",
      "Process ForkProcess-30:\n",
      "Process ForkProcess-28:\n",
      "Process ForkProcess-29:\n",
      "Process ForkProcess-25:\n",
      "Process ForkProcess-26:\n",
      "Process ForkProcess-27:\n",
      "Traceback (most recent call last):\n",
      "Traceback (most recent call last):\n",
      "Traceback (most recent call last):\n",
      "Traceback (most recent call last):\n",
      "Traceback (most recent call last):\n",
      "Traceback (most recent call last):\n",
      "Traceback (most recent call last):\n",
      "Traceback (most recent call last):\n",
      "Traceback (most recent call last):\n",
      "Traceback (most recent call last):\n",
      "Traceback (most recent call last):\n",
      "Traceback (most recent call last):\n",
      "Traceback (most recent call last):\n",
      "Traceback (most recent call last):\n",
      "Traceback (most recent call last):\n",
      "Traceback (most recent call last):\n",
      "Traceback (most recent call last):\n",
      "Traceback (most recent call last):\n",
      "Traceback (most recent call last):\n",
      "Traceback (most recent call last):\n",
      "Traceback (most recent call last):\n",
      "Traceback (most recent call last):\n",
      "  File \"/home/sarawalk/python/Python-3.8.10/Lib/multiprocessing/process.py\", line 315, in _bootstrap\n",
      "    self.run()\n",
      "Traceback (most recent call last):\n",
      "  File \"/home/sarawalk/python/Python-3.8.10/Lib/multiprocessing/process.py\", line 315, in _bootstrap\n",
      "    self.run()\n",
      "  File \"/home/sarawalk/python/Python-3.8.10/Lib/multiprocessing/process.py\", line 315, in _bootstrap\n",
      "    self.run()\n",
      "  File \"/home/sarawalk/python/Python-3.8.10/Lib/multiprocessing/process.py\", line 315, in _bootstrap\n",
      "    self.run()\n",
      "  File \"/home/sarawalk/python/Python-3.8.10/Lib/multiprocessing/process.py\", line 315, in _bootstrap\n",
      "    self.run()\n",
      "  File \"/home/sarawalk/python/Python-3.8.10/Lib/multiprocessing/process.py\", line 315, in _bootstrap\n",
      "    self.run()\n",
      "  File \"/home/sarawalk/python/Python-3.8.10/Lib/multiprocessing/process.py\", line 315, in _bootstrap\n",
      "    self.run()\n",
      "  File \"/home/sarawalk/python/Python-3.8.10/Lib/multiprocessing/process.py\", line 315, in _bootstrap\n",
      "    self.run()\n",
      "  File \"/home/sarawalk/python/Python-3.8.10/Lib/multiprocessing/process.py\", line 315, in _bootstrap\n",
      "    self.run()\n",
      "  File \"/home/sarawalk/python/Python-3.8.10/Lib/multiprocessing/process.py\", line 315, in _bootstrap\n",
      "    self.run()\n",
      "  File \"/home/sarawalk/python/Python-3.8.10/Lib/multiprocessing/process.py\", line 315, in _bootstrap\n",
      "    self.run()\n",
      "  File \"/home/sarawalk/python/Python-3.8.10/Lib/multiprocessing/process.py\", line 315, in _bootstrap\n",
      "    self.run()\n",
      "  File \"/home/sarawalk/python/Python-3.8.10/Lib/multiprocessing/process.py\", line 315, in _bootstrap\n",
      "    self.run()\n",
      "  File \"/home/sarawalk/python/Python-3.8.10/Lib/multiprocessing/process.py\", line 315, in _bootstrap\n",
      "    self.run()\n",
      "  File \"/home/sarawalk/python/Python-3.8.10/Lib/multiprocessing/process.py\", line 315, in _bootstrap\n",
      "    self.run()\n",
      "  File \"/home/sarawalk/python/Python-3.8.10/Lib/multiprocessing/process.py\", line 315, in _bootstrap\n",
      "    self.run()\n",
      "  File \"/home/sarawalk/python/Python-3.8.10/Lib/multiprocessing/process.py\", line 315, in _bootstrap\n",
      "    self.run()\n",
      "  File \"/home/sarawalk/python/Python-3.8.10/Lib/multiprocessing/process.py\", line 315, in _bootstrap\n",
      "    self.run()\n",
      "  File \"/home/sarawalk/python/Python-3.8.10/Lib/multiprocessing/process.py\", line 315, in _bootstrap\n",
      "    self.run()\n",
      "  File \"/home/sarawalk/python/Python-3.8.10/Lib/multiprocessing/process.py\", line 315, in _bootstrap\n",
      "    self.run()\n",
      "  File \"/home/sarawalk/python/Python-3.8.10/Lib/multiprocessing/process.py\", line 315, in _bootstrap\n",
      "    self.run()\n",
      "  File \"/home/sarawalk/python/Python-3.8.10/Lib/multiprocessing/process.py\", line 315, in _bootstrap\n",
      "    self.run()\n",
      "  File \"/home/sarawalk/python/Python-3.8.10/Lib/multiprocessing/process.py\", line 108, in run\n",
      "    self._target(*self._args, **self._kwargs)\n",
      "  File \"/home/sarawalk/python/Python-3.8.10/Lib/multiprocessing/process.py\", line 108, in run\n",
      "    self._target(*self._args, **self._kwargs)\n",
      "  File \"/home/sarawalk/python/Python-3.8.10/Lib/multiprocessing/process.py\", line 108, in run\n",
      "    self._target(*self._args, **self._kwargs)\n",
      "  File \"/home/sarawalk/python/Python-3.8.10/Lib/multiprocessing/process.py\", line 108, in run\n",
      "    self._target(*self._args, **self._kwargs)\n",
      "  File \"/home/sarawalk/python/Python-3.8.10/Lib/multiprocessing/process.py\", line 315, in _bootstrap\n",
      "    self.run()\n",
      "  File \"/home/sarawalk/python/Python-3.8.10/Lib/multiprocessing/process.py\", line 108, in run\n",
      "    self._target(*self._args, **self._kwargs)\n",
      "  File \"/home/sarawalk/python/Python-3.8.10/Lib/multiprocessing/process.py\", line 108, in run\n",
      "    self._target(*self._args, **self._kwargs)\n",
      "  File \"/home/sarawalk/python/Python-3.8.10/Lib/multiprocessing/process.py\", line 108, in run\n",
      "    self._target(*self._args, **self._kwargs)\n",
      "  File \"/home/sarawalk/python/Python-3.8.10/Lib/multiprocessing/process.py\", line 108, in run\n",
      "    self._target(*self._args, **self._kwargs)\n",
      "  File \"/home/sarawalk/python/Python-3.8.10/Lib/multiprocessing/process.py\", line 108, in run\n",
      "    self._target(*self._args, **self._kwargs)\n",
      "  File \"/home/sarawalk/python/Python-3.8.10/Lib/multiprocessing/process.py\", line 108, in run\n",
      "    self._target(*self._args, **self._kwargs)\n",
      "  File \"/home/sarawalk/python/Python-3.8.10/Lib/multiprocessing/process.py\", line 108, in run\n",
      "    self._target(*self._args, **self._kwargs)\n",
      "  File \"/home/sarawalk/python/Python-3.8.10/Lib/multiprocessing/process.py\", line 108, in run\n",
      "    self._target(*self._args, **self._kwargs)\n",
      "  File \"/home/sarawalk/python/Python-3.8.10/Lib/multiprocessing/process.py\", line 108, in run\n",
      "    self._target(*self._args, **self._kwargs)\n",
      "  File \"/home/sarawalk/python/Python-3.8.10/Lib/multiprocessing/process.py\", line 108, in run\n",
      "    self._target(*self._args, **self._kwargs)\n",
      "  File \"/home/sarawalk/python/Python-3.8.10/Lib/multiprocessing/process.py\", line 108, in run\n",
      "    self._target(*self._args, **self._kwargs)\n",
      "  File \"/home/sarawalk/python/Python-3.8.10/Lib/multiprocessing/process.py\", line 108, in run\n",
      "    self._target(*self._args, **self._kwargs)\n",
      "  File \"/home/sarawalk/python/Python-3.8.10/Lib/multiprocessing/process.py\", line 108, in run\n",
      "    self._target(*self._args, **self._kwargs)\n",
      "Traceback (most recent call last):\n",
      "  File \"/home/sarawalk/python/Python-3.8.10/Lib/multiprocessing/process.py\", line 108, in run\n",
      "    self._target(*self._args, **self._kwargs)\n",
      "  File \"/home/sarawalk/python/Python-3.8.10/Lib/multiprocessing/process.py\", line 108, in run\n",
      "    self._target(*self._args, **self._kwargs)\n",
      "  File \"/home/sarawalk/python/Python-3.8.10/Lib/multiprocessing/process.py\", line 108, in run\n",
      "    self._target(*self._args, **self._kwargs)\n",
      "  File \"/home/sarawalk/python/Python-3.8.10/Lib/multiprocessing/process.py\", line 108, in run\n",
      "    self._target(*self._args, **self._kwargs)\n",
      "  File \"/home/sarawalk/python/Python-3.8.10/Lib/concurrent/futures/process.py\", line 233, in _process_worker\n",
      "    call_item = call_queue.get(block=True)\n",
      "  File \"/home/sarawalk/python/Python-3.8.10/Lib/multiprocessing/process.py\", line 108, in run\n",
      "    self._target(*self._args, **self._kwargs)\n",
      "  File \"/home/sarawalk/python/Python-3.8.10/Lib/concurrent/futures/process.py\", line 233, in _process_worker\n",
      "    call_item = call_queue.get(block=True)\n",
      "  File \"/home/sarawalk/python/Python-3.8.10/Lib/concurrent/futures/process.py\", line 233, in _process_worker\n",
      "    call_item = call_queue.get(block=True)\n",
      "  File \"/home/sarawalk/python/Python-3.8.10/Lib/concurrent/futures/process.py\", line 233, in _process_worker\n",
      "    call_item = call_queue.get(block=True)\n",
      "  File \"/home/sarawalk/python/Python-3.8.10/Lib/concurrent/futures/process.py\", line 233, in _process_worker\n",
      "    call_item = call_queue.get(block=True)\n",
      "  File \"/home/sarawalk/python/Python-3.8.10/Lib/multiprocessing/process.py\", line 108, in run\n",
      "    self._target(*self._args, **self._kwargs)\n",
      "  File \"/home/sarawalk/python/Python-3.8.10/Lib/concurrent/futures/process.py\", line 233, in _process_worker\n",
      "    call_item = call_queue.get(block=True)\n",
      "  File \"/home/sarawalk/python/Python-3.8.10/Lib/concurrent/futures/process.py\", line 233, in _process_worker\n",
      "    call_item = call_queue.get(block=True)\n",
      "  File \"/home/sarawalk/python/Python-3.8.10/Lib/concurrent/futures/process.py\", line 233, in _process_worker\n",
      "    call_item = call_queue.get(block=True)\n",
      "  File \"/home/sarawalk/python/Python-3.8.10/Lib/concurrent/futures/process.py\", line 233, in _process_worker\n",
      "    call_item = call_queue.get(block=True)\n"
     ]
    },
    {
     "name": "stderr",
     "output_type": "stream",
     "text": [
      "  File \"/home/sarawalk/python/Python-3.8.10/Lib/concurrent/futures/process.py\", line 233, in _process_worker\n",
      "    call_item = call_queue.get(block=True)\n",
      "  File \"/home/sarawalk/python/Python-3.8.10/Lib/concurrent/futures/process.py\", line 233, in _process_worker\n",
      "    call_item = call_queue.get(block=True)\n",
      "  File \"/home/sarawalk/python/Python-3.8.10/Lib/concurrent/futures/process.py\", line 233, in _process_worker\n",
      "    call_item = call_queue.get(block=True)\n",
      "  File \"/home/sarawalk/python/Python-3.8.10/Lib/concurrent/futures/process.py\", line 233, in _process_worker\n",
      "    call_item = call_queue.get(block=True)\n",
      "  File \"/home/sarawalk/python/Python-3.8.10/Lib/concurrent/futures/process.py\", line 233, in _process_worker\n",
      "    call_item = call_queue.get(block=True)\n",
      "  File \"/home/sarawalk/python/Python-3.8.10/Lib/concurrent/futures/process.py\", line 233, in _process_worker\n",
      "    call_item = call_queue.get(block=True)\n",
      "  File \"/home/sarawalk/python/Python-3.8.10/Lib/concurrent/futures/process.py\", line 233, in _process_worker\n",
      "    call_item = call_queue.get(block=True)\n",
      "  File \"/home/sarawalk/python/Python-3.8.10/Lib/concurrent/futures/process.py\", line 233, in _process_worker\n",
      "    call_item = call_queue.get(block=True)\n",
      "  File \"/home/sarawalk/python/Python-3.8.10/Lib/concurrent/futures/process.py\", line 233, in _process_worker\n",
      "    call_item = call_queue.get(block=True)\n",
      "  File \"/home/sarawalk/python/Python-3.8.10/Lib/concurrent/futures/process.py\", line 233, in _process_worker\n",
      "    call_item = call_queue.get(block=True)\n",
      "  File \"/home/sarawalk/python/Python-3.8.10/Lib/multiprocessing/process.py\", line 315, in _bootstrap\n",
      "    self.run()\n",
      "  File \"/home/sarawalk/python/Python-3.8.10/Lib/concurrent/futures/process.py\", line 233, in _process_worker\n",
      "    call_item = call_queue.get(block=True)\n",
      "  File \"/home/sarawalk/python/Python-3.8.10/Lib/concurrent/futures/process.py\", line 233, in _process_worker\n",
      "    call_item = call_queue.get(block=True)\n",
      "  File \"/home/sarawalk/python/Python-3.8.10/Lib/multiprocessing/queues.py\", line 96, in get\n",
      "    with self._rlock:\n",
      "  File \"/home/sarawalk/python/Python-3.8.10/Lib/concurrent/futures/process.py\", line 233, in _process_worker\n",
      "    call_item = call_queue.get(block=True)\n",
      "  File \"/home/sarawalk/python/Python-3.8.10/Lib/multiprocessing/queues.py\", line 96, in get\n",
      "    with self._rlock:\n",
      "  File \"/home/sarawalk/python/Python-3.8.10/Lib/multiprocessing/queues.py\", line 96, in get\n",
      "    with self._rlock:\n",
      "  File \"/home/sarawalk/python/Python-3.8.10/Lib/multiprocessing/queues.py\", line 96, in get\n",
      "    with self._rlock:\n",
      "  File \"/home/sarawalk/python/Python-3.8.10/Lib/multiprocessing/queues.py\", line 96, in get\n",
      "    with self._rlock:\n",
      "  File \"/home/sarawalk/python/Python-3.8.10/Lib/multiprocessing/queues.py\", line 96, in get\n",
      "    with self._rlock:\n",
      "  File \"/home/sarawalk/python/Python-3.8.10/Lib/multiprocessing/queues.py\", line 96, in get\n",
      "    with self._rlock:\n",
      "  File \"/home/sarawalk/python/Python-3.8.10/Lib/multiprocessing/queues.py\", line 96, in get\n",
      "    with self._rlock:\n",
      "  File \"/home/sarawalk/python/Python-3.8.10/Lib/multiprocessing/queues.py\", line 96, in get\n",
      "    with self._rlock:\n",
      "  File \"/home/sarawalk/python/Python-3.8.10/Lib/multiprocessing/queues.py\", line 96, in get\n",
      "    with self._rlock:\n",
      "  File \"/home/sarawalk/python/Python-3.8.10/Lib/concurrent/futures/process.py\", line 233, in _process_worker\n",
      "    call_item = call_queue.get(block=True)\n",
      "  File \"/home/sarawalk/python/Python-3.8.10/Lib/multiprocessing/queues.py\", line 96, in get\n",
      "    with self._rlock:\n",
      "  File \"/home/sarawalk/python/Python-3.8.10/Lib/multiprocessing/queues.py\", line 96, in get\n",
      "    with self._rlock:\n",
      "  File \"/home/sarawalk/python/Python-3.8.10/Lib/multiprocessing/queues.py\", line 96, in get\n",
      "    with self._rlock:\n",
      "  File \"/home/sarawalk/python/Python-3.8.10/Lib/multiprocessing/queues.py\", line 96, in get\n",
      "    with self._rlock:\n",
      "  File \"/home/sarawalk/python/Python-3.8.10/Lib/multiprocessing/queues.py\", line 96, in get\n",
      "    with self._rlock:\n",
      "  File \"/home/sarawalk/python/Python-3.8.10/Lib/multiprocessing/queues.py\", line 96, in get\n",
      "    with self._rlock:\n",
      "  File \"/home/sarawalk/python/Python-3.8.10/Lib/multiprocessing/queues.py\", line 96, in get\n",
      "    with self._rlock:\n",
      "  File \"/home/sarawalk/python/Python-3.8.10/Lib/multiprocessing/queues.py\", line 96, in get\n",
      "    with self._rlock:\n",
      "  File \"/home/sarawalk/python/Python-3.8.10/Lib/multiprocessing/queues.py\", line 96, in get\n",
      "    with self._rlock:\n",
      "  File \"/home/sarawalk/python/Python-3.8.10/Lib/multiprocessing/queues.py\", line 96, in get\n",
      "    with self._rlock:\n",
      "  File \"/home/sarawalk/python/Python-3.8.10/Lib/multiprocessing/process.py\", line 108, in run\n",
      "    self._target(*self._args, **self._kwargs)\n",
      "  File \"/home/sarawalk/python/Python-3.8.10/Lib/multiprocessing/queues.py\", line 96, in get\n",
      "    with self._rlock:\n",
      "  File \"/home/sarawalk/python/Python-3.8.10/Lib/multiprocessing/synchronize.py\", line 95, in __enter__\n",
      "    return self._semlock.__enter__()\n",
      "  File \"/home/sarawalk/python/Python-3.8.10/Lib/multiprocessing/queues.py\", line 96, in get\n",
      "    with self._rlock:\n",
      "  File \"/home/sarawalk/python/Python-3.8.10/Lib/multiprocessing/synchronize.py\", line 95, in __enter__\n",
      "    return self._semlock.__enter__()\n",
      "  File \"/home/sarawalk/python/Python-3.8.10/Lib/multiprocessing/synchronize.py\", line 95, in __enter__\n",
      "    return self._semlock.__enter__()\n",
      "  File \"/home/sarawalk/python/Python-3.8.10/Lib/multiprocessing/synchronize.py\", line 95, in __enter__\n",
      "    return self._semlock.__enter__()\n",
      "  File \"/home/sarawalk/python/Python-3.8.10/Lib/multiprocessing/synchronize.py\", line 95, in __enter__\n",
      "    return self._semlock.__enter__()\n",
      "  File \"/home/sarawalk/python/Python-3.8.10/Lib/multiprocessing/synchronize.py\", line 95, in __enter__\n",
      "    return self._semlock.__enter__()\n",
      "  File \"/home/sarawalk/python/Python-3.8.10/Lib/multiprocessing/synchronize.py\", line 95, in __enter__\n",
      "    return self._semlock.__enter__()\n",
      "  File \"/home/sarawalk/python/Python-3.8.10/Lib/multiprocessing/synchronize.py\", line 95, in __enter__\n",
      "    return self._semlock.__enter__()\n",
      "  File \"/home/sarawalk/python/Python-3.8.10/Lib/multiprocessing/synchronize.py\", line 95, in __enter__\n",
      "    return self._semlock.__enter__()\n",
      "  File \"/home/sarawalk/python/Python-3.8.10/Lib/multiprocessing/synchronize.py\", line 95, in __enter__\n",
      "    return self._semlock.__enter__()\n",
      "  File \"/home/sarawalk/python/Python-3.8.10/Lib/multiprocessing/queues.py\", line 96, in get\n",
      "    with self._rlock:\n",
      "  File \"/home/sarawalk/python/Python-3.8.10/Lib/multiprocessing/synchronize.py\", line 95, in __enter__\n",
      "    return self._semlock.__enter__()\n",
      "  File \"/home/sarawalk/python/Python-3.8.10/Lib/multiprocessing/synchronize.py\", line 95, in __enter__\n",
      "    return self._semlock.__enter__()\n",
      "  File \"/home/sarawalk/python/Python-3.8.10/Lib/multiprocessing/synchronize.py\", line 95, in __enter__\n",
      "    return self._semlock.__enter__()\n",
      "  File \"/home/sarawalk/python/Python-3.8.10/Lib/multiprocessing/synchronize.py\", line 95, in __enter__\n",
      "    return self._semlock.__enter__()\n",
      "  File \"/home/sarawalk/python/Python-3.8.10/Lib/multiprocessing/synchronize.py\", line 95, in __enter__\n",
      "    return self._semlock.__enter__()\n",
      "  File \"/home/sarawalk/python/Python-3.8.10/Lib/multiprocessing/synchronize.py\", line 95, in __enter__\n",
      "    return self._semlock.__enter__()\n",
      "  File \"/home/sarawalk/python/Python-3.8.10/Lib/multiprocessing/synchronize.py\", line 95, in __enter__\n",
      "    return self._semlock.__enter__()\n",
      "  File \"/home/sarawalk/python/Python-3.8.10/Lib/multiprocessing/synchronize.py\", line 95, in __enter__\n",
      "    return self._semlock.__enter__()\n",
      "  File \"/home/sarawalk/python/Python-3.8.10/Lib/multiprocessing/synchronize.py\", line 95, in __enter__\n",
      "    return self._semlock.__enter__()\n",
      "  File \"/home/sarawalk/python/Python-3.8.10/Lib/multiprocessing/synchronize.py\", line 95, in __enter__\n",
      "    return self._semlock.__enter__()\n",
      "KeyboardInterrupt\n",
      "  File \"/home/sarawalk/python/Python-3.8.10/Lib/concurrent/futures/process.py\", line 233, in _process_worker\n",
      "    call_item = call_queue.get(block=True)\n",
      "  File \"/home/sarawalk/python/Python-3.8.10/Lib/multiprocessing/synchronize.py\", line 95, in __enter__\n",
      "    return self._semlock.__enter__()\n",
      "  File \"/home/sarawalk/python/Python-3.8.10/Lib/multiprocessing/synchronize.py\", line 95, in __enter__\n",
      "    return self._semlock.__enter__()\n"
     ]
    },
    {
     "name": "stderr",
     "output_type": "stream",
     "text": [
      "KeyboardInterrupt\n",
      "KeyboardInterrupt\n",
      "KeyboardInterrupt\n",
      "KeyboardInterrupt\n",
      "KeyboardInterrupt\n",
      "KeyboardInterrupt\n",
      "KeyboardInterrupt\n",
      "KeyboardInterrupt\n",
      "KeyboardInterrupt\n",
      "  File \"/home/sarawalk/python/Python-3.8.10/Lib/multiprocessing/synchronize.py\", line 95, in __enter__\n",
      "    return self._semlock.__enter__()\n",
      "KeyboardInterrupt\n",
      "KeyboardInterrupt\n",
      "KeyboardInterrupt\n",
      "KeyboardInterrupt\n",
      "KeyboardInterrupt\n",
      "KeyboardInterrupt\n",
      "KeyboardInterrupt\n",
      "KeyboardInterrupt\n",
      "KeyboardInterrupt\n",
      "  File \"/home/sarawalk/python/Python-3.8.10/Lib/multiprocessing/queues.py\", line 97, in get\n",
      "    res = self._recv_bytes()\n",
      "KeyboardInterrupt\n",
      "KeyboardInterrupt\n",
      "KeyboardInterrupt\n",
      "  File \"/home/sarawalk/python/Python-3.8.10/Lib/multiprocessing/connection.py\", line 216, in recv_bytes\n",
      "    buf = self._recv_bytes(maxlength)\n",
      "KeyboardInterrupt\n",
      "  File \"/home/sarawalk/python/Python-3.8.10/Lib/multiprocessing/connection.py\", line 414, in _recv_bytes\n",
      "    buf = self._recv(4)\n",
      "  File \"/home/sarawalk/python/Python-3.8.10/Lib/multiprocessing/connection.py\", line 379, in _recv\n",
      "    chunk = read(handle, remaining)\n"
     ]
    }
   ],
   "source": [
    "debug.get_validated_covol(0, n_sample)"
   ]
  },
  {
   "cell_type": "code",
   "execution_count": null,
   "id": "21228279",
   "metadata": {
    "ExecuteTime": {
     "end_time": "2025-05-22T14:17:24.155591Z",
     "start_time": "2025-05-22T14:17:24.155567Z"
    },
    "hidden": true
   },
   "outputs": [],
   "source": [
    "parallel_pvals=debug.p_vals.copy()"
   ]
  },
  {
   "cell_type": "code",
   "execution_count": 79,
   "id": "dcb899f3",
   "metadata": {
    "ExecuteTime": {
     "end_time": "2025-05-22T14:17:40.385098Z",
     "start_time": "2025-05-22T14:17:40.368795Z"
    },
    "hidden": true
   },
   "outputs": [
    {
     "name": "stderr",
     "output_type": "stream",
     "text": [
      "/tmp/ipykernel_14696/1325511895.py:1: RuntimeWarning: invalid value encountered in divide\n",
      "  np.vstack((np.abs(parallel_pvals['p_value']-unparallel_pvals['p_value'])/unparallel_pvals['p_value'], unparallel_pvals['p_value'])).T\n"
     ]
    },
    {
     "data": {
      "text/plain": [
       "array([[5.10510511e-02, 7.40000000e-03],\n",
       "       [1.66734154e-04, 9.32955556e-01],\n",
       "       [9.11096193e-04, 9.26844444e-01],\n",
       "       [6.66080762e-03, 4.80422222e-01],\n",
       "       [5.16605166e-03, 4.51666667e-01],\n",
       "       [4.44721160e-05, 9.99377778e-01],\n",
       "       [1.90476190e-01, 1.40000000e-03],\n",
       "       [3.48301737e-03, 9.50644444e-01],\n",
       "       [1.56812339e-01, 8.64444444e-03],\n",
       "       [9.75609756e-02, 9.11111111e-04],\n",
       "       [           nan, 0.00000000e+00],\n",
       "       [6.88405797e-03, 3.06666667e-01],\n",
       "       [           nan, 0.00000000e+00],\n",
       "       [           nan, 0.00000000e+00],\n",
       "       [0.00000000e+00, 1.00000000e+00],\n",
       "       [           nan, 0.00000000e+00],\n",
       "       [2.08583752e-03, 6.28577778e-01],\n",
       "       [1.55444101e-02, 6.24733333e-01],\n",
       "       [2.43309002e-03, 2.00933333e-01],\n",
       "       [4.63857750e-03, 1.14977778e-01],\n",
       "       [3.47649743e-03, 9.20466667e-01],\n",
       "       [           nan, 0.00000000e+00],\n",
       "       [8.17671989e-03, 5.19088889e-01],\n",
       "       [2.33333333e+00, 6.66666667e-05],\n",
       "       [1.07382550e-01, 6.62222222e-03],\n",
       "       [           nan, 0.00000000e+00],\n",
       "       [1.13636364e-02, 2.05333333e-01],\n",
       "       [           nan, 0.00000000e+00],\n",
       "       [9.12698413e-02, 1.12000000e-02],\n",
       "       [           nan, 0.00000000e+00],\n",
       "       [2.09439528e-01, 7.53333333e-03],\n",
       "       [2.84793122e-02, 2.06777778e-01],\n",
       "       [1.25492351e-02, 2.42600000e-01],\n",
       "       [1.42717736e-02, 1.82177778e-01],\n",
       "       [2.79663502e-03, 9.85311111e-01],\n",
       "       [4.04109589e-01, 3.24444444e-03],\n",
       "       [           nan, 0.00000000e+00],\n",
       "       [           nan, 0.00000000e+00],\n",
       "       [           nan, 0.00000000e+00],\n",
       "       [           nan, 0.00000000e+00],\n",
       "       [1.52645862e-03, 3.93066667e-01],\n",
       "       [1.00000000e+00, 1.11111111e-04],\n",
       "       [           nan, 0.00000000e+00],\n",
       "       [0.00000000e+00, 1.00000000e+00],\n",
       "       [           nan, 0.00000000e+00]])"
      ]
     },
     "execution_count": 79,
     "metadata": {},
     "output_type": "execute_result"
    }
   ],
   "source": [
    "np.vstack((np.abs(parallel_pvals['p_value']-unparallel_pvals['p_value'])/unparallel_pvals['p_value'], unparallel_pvals['p_value'])).T"
   ]
  },
  {
   "cell_type": "markdown",
   "id": "108f3172",
   "metadata": {
    "hidden": true
   },
   "source": [
    "Non bene..."
   ]
  },
  {
   "cell_type": "code",
   "execution_count": 44,
   "id": "0b240a90",
   "metadata": {
    "ExecuteTime": {
     "end_time": "2025-05-22T13:39:32.664387Z",
     "start_time": "2025-05-22T13:39:32.574278Z"
    },
    "hidden": true
   },
   "outputs": [
    {
     "data": {
      "text/plain": [
       "45"
      ]
     },
     "execution_count": 44,
     "metadata": {},
     "output_type": "execute_result"
    }
   ],
   "source": [
    "len(debug.p_vals)"
   ]
  },
  {
   "cell_type": "code",
   "execution_count": 31,
   "id": "893268ed",
   "metadata": {
    "ExecuteTime": {
     "end_time": "2025-05-21T14:02:38.057331Z",
     "start_time": "2025-05-21T14:02:37.968493Z"
    },
    "hidden": true
   },
   "outputs": [
    {
     "data": {
      "text/plain": [
       "'1,367,031,120'"
      ]
     },
     "execution_count": 31,
     "metadata": {},
     "output_type": "execute_result"
    }
   ],
   "source": [
    "f'{debug.fdr_suf_sam(1):,}'"
   ]
  },
  {
   "cell_type": "markdown",
   "id": "c988c184",
   "metadata": {
    "hidden": true
   },
   "source": [
    "#### ChatGPT's functions and approximations"
   ]
  },
  {
   "cell_type": "code",
   "execution_count": 24,
   "id": "19d5d1ae",
   "metadata": {
    "ExecuteTime": {
     "end_time": "2025-05-22T13:34:52.038335Z",
     "start_time": "2025-05-22T13:34:52.032082Z"
    },
    "hidden": true
   },
   "outputs": [],
   "source": [
    "from covolumes_pvals import p_value_dot_product_numba "
   ]
  },
  {
   "cell_type": "code",
   "execution_count": 80,
   "id": "31be9a08",
   "metadata": {
    "ExecuteTime": {
     "end_time": "2025-05-22T14:18:08.776801Z",
     "start_time": "2025-05-22T14:18:08.770772Z"
    },
    "hidden": true
   },
   "outputs": [],
   "source": [
    "from covolumes_pval_approx import p_value_mix_numba"
   ]
  },
  {
   "cell_type": "markdown",
   "id": "b57eb555",
   "metadata": {
    "hidden": true
   },
   "source": [
    "##### Test"
   ]
  },
  {
   "cell_type": "code",
   "execution_count": 26,
   "id": "50cac932",
   "metadata": {
    "ExecuteTime": {
     "end_time": "2025-05-22T13:34:54.015711Z",
     "start_time": "2025-05-22T13:34:53.999110Z"
    },
    "hidden": true
   },
   "outputs": [
    {
     "data": {
      "text/plain": [
       "array([ 454166, 1773244, 1281563,  742991, 1072173, 1888740,  445531,\n",
       "       1435494,  521473,  189911,  181004,  100673,  150391,  257898,\n",
       "         61333,  200151,   73980,  533529,  320214,  437739,  812252,\n",
       "        191404,  612181,  221355,  290378,  485514,  776947,  159537,\n",
       "        585934,  194995,  221541,  399251,   95059,  285545,  100341,\n",
       "        655881,  137047,  492557,  157820,  267089,  829716,  274333,\n",
       "        172382,   63076,  224623])"
      ]
     },
     "execution_count": 26,
     "metadata": {},
     "output_type": "execute_result"
    }
   ],
   "source": [
    "covol_obs=debug.covol_calculator(debug.bima, 0)\n",
    "covol_obs"
   ]
  },
  {
   "cell_type": "code",
   "execution_count": 27,
   "id": "9f497bcd",
   "metadata": {
    "ExecuteTime": {
     "end_time": "2025-05-22T13:34:57.433638Z",
     "start_time": "2025-05-22T13:34:57.424826Z"
    },
    "hidden": true
   },
   "outputs": [
    {
     "data": {
      "text/plain": [
       "8268"
      ]
     },
     "execution_count": 27,
     "metadata": {},
     "output_type": "execute_result"
    }
   ],
   "source": [
    "len(debug.all_tokens)"
   ]
  },
  {
   "cell_type": "code",
   "execution_count": 91,
   "id": "bb89a3bc",
   "metadata": {
    "ExecuteTime": {
     "end_time": "2025-05-22T13:11:34.599262Z",
     "start_time": "2025-05-22T13:10:21.958809Z"
    },
    "hidden": true
   },
   "outputs": [
    {
     "data": {
      "text/plain": [
       "2.1474220117566175e-10"
      ]
     },
     "execution_count": 91,
     "metadata": {},
     "output_type": "execute_result"
    }
   ],
   "source": [
    "p_value_dot_product_numba(1-debug.p_mat[0][:10], 1-debug.p_mat[1][:10], int(covol_obs[0]))"
   ]
  },
  {
   "cell_type": "code",
   "execution_count": 92,
   "id": "50546e3c",
   "metadata": {
    "ExecuteTime": {
     "end_time": "2025-05-22T13:11:34.599262Z",
     "start_time": "2025-05-22T13:10:21.958809Z"
    },
    "hidden": true
   },
   "outputs": [
    {
     "data": {
      "text/plain": [
       "1.633742655024922e-05"
      ]
     },
     "execution_count": 92,
     "metadata": {},
     "output_type": "execute_result"
    }
   ],
   "source": [
    "p_value_dot_product_numba(1-debug.p_mat[0][:100], 1-debug.p_mat[1][:100], int(covol_obs[0]))"
   ]
  },
  {
   "cell_type": "code",
   "execution_count": 93,
   "id": "595b209d",
   "metadata": {
    "ExecuteTime": {
     "end_time": "2025-05-22T13:25:29.423529Z",
     "start_time": "2025-05-22T13:20:05.370123Z"
    },
    "hidden": true
   },
   "outputs": [
    {
     "data": {
      "text/plain": [
       "4.0100410482547613e-07"
      ]
     },
     "execution_count": 93,
     "metadata": {},
     "output_type": "execute_result"
    }
   ],
   "source": [
    "p_value_dot_product_numba(1-debug.p_mat[0][:200], 1-debug.p_mat[1][:200], int(covol_obs[0]))"
   ]
  },
  {
   "cell_type": "code",
   "execution_count": 94,
   "id": "a797e9cf",
   "metadata": {
    "ExecuteTime": {
     "end_time": "2025-05-22T13:20:05.364793Z",
     "start_time": "2025-05-22T13:13:56.697386Z"
    },
    "hidden": true
   },
   "outputs": [
    {
     "data": {
      "text/plain": [
       "3.755430519635083e-06"
      ]
     },
     "execution_count": 94,
     "metadata": {},
     "output_type": "execute_result"
    }
   ],
   "source": [
    "p_value_dot_product_numba(1-debug.p_mat[0][:500], 1-debug.p_mat[1][:500], int(covol_obs[0]))"
   ]
  },
  {
   "cell_type": "code",
   "execution_count": 28,
   "id": "2d08b3ce",
   "metadata": {
    "ExecuteTime": {
     "end_time": "2025-05-22T13:35:48.394395Z",
     "start_time": "2025-05-22T13:35:45.602456Z"
    },
    "hidden": true
   },
   "outputs": [
    {
     "name": "stderr",
     "output_type": "stream",
     "text": [
      "/home/sarawalk/sdgs_py38/sdg_repos_1/covolumes_pval_approx.py:84: RuntimeWarning: divide by zero encountered in scalar divide\n",
      "  return 1 - st.norm.cdf(w) + st.norm.pdf(w)*(1/w - 1/u)\n",
      "/home/sarawalk/sdgs_py38/sdg_repos_1/covolumes_pval_approx.py:84: RuntimeWarning: invalid value encountered in scalar multiply\n",
      "  return 1 - st.norm.cdf(w) + st.norm.pdf(w)*(1/w - 1/u)\n"
     ]
    },
    {
     "data": {
      "text/plain": [
       "0.0"
      ]
     },
     "execution_count": 28,
     "metadata": {},
     "output_type": "execute_result"
    }
   ],
   "source": [
    "p_value_mix_numba(1-debug.p_mat[0][:10], 1-debug.p_mat[1][:10], int(covol_obs[0]))"
   ]
  },
  {
   "cell_type": "code",
   "execution_count": 29,
   "id": "1441b91d",
   "metadata": {
    "ExecuteTime": {
     "end_time": "2025-05-22T13:35:48.426825Z",
     "start_time": "2025-05-22T13:35:48.398345Z"
    },
    "hidden": true
   },
   "outputs": [
    {
     "name": "stderr",
     "output_type": "stream",
     "text": [
      "/home/sarawalk/sdgs_py38/sdg_repos_1/covolumes_pval_approx.py:84: RuntimeWarning: divide by zero encountered in scalar divide\n",
      "  return 1 - st.norm.cdf(w) + st.norm.pdf(w)*(1/w - 1/u)\n",
      "/home/sarawalk/sdgs_py38/sdg_repos_1/covolumes_pval_approx.py:84: RuntimeWarning: invalid value encountered in scalar multiply\n",
      "  return 1 - st.norm.cdf(w) + st.norm.pdf(w)*(1/w - 1/u)\n"
     ]
    },
    {
     "data": {
      "text/plain": [
       "0.0"
      ]
     },
     "execution_count": 29,
     "metadata": {},
     "output_type": "execute_result"
    }
   ],
   "source": [
    "p_value_mix_numba(1-debug.p_mat[0][:100], 1-debug.p_mat[1][:100], int(covol_obs[0]))"
   ]
  },
  {
   "cell_type": "code",
   "execution_count": 30,
   "id": "f8c2ae75",
   "metadata": {
    "ExecuteTime": {
     "end_time": "2025-05-22T13:35:48.516563Z",
     "start_time": "2025-05-22T13:35:48.429505Z"
    },
    "hidden": true
   },
   "outputs": [
    {
     "data": {
      "text/plain": [
       "0.0"
      ]
     },
     "execution_count": 30,
     "metadata": {},
     "output_type": "execute_result"
    }
   ],
   "source": [
    "p_value_mix_numba(1-debug.p_mat[0][:200], 1-debug.p_mat[1][:200], int(covol_obs[0]))"
   ]
  },
  {
   "cell_type": "code",
   "execution_count": 31,
   "id": "e0a87dae",
   "metadata": {
    "ExecuteTime": {
     "end_time": "2025-05-22T13:35:48.643622Z",
     "start_time": "2025-05-22T13:35:48.520253Z"
    },
    "hidden": true
   },
   "outputs": [
    {
     "data": {
      "text/plain": [
       "0.0"
      ]
     },
     "execution_count": 31,
     "metadata": {},
     "output_type": "execute_result"
    }
   ],
   "source": [
    "p_value_mix_numba(1-debug.p_mat[0][:500], 1-debug.p_mat[1][:500], int(covol_obs[0]))"
   ]
  },
  {
   "cell_type": "code",
   "execution_count": 36,
   "id": "c420f6c8",
   "metadata": {
    "ExecuteTime": {
     "end_time": "2025-05-22T13:37:19.580824Z",
     "start_time": "2025-05-22T13:37:19.571576Z"
    },
    "hidden": true
   },
   "outputs": [
    {
     "data": {
      "text/plain": [
       "'2.22e-04'"
      ]
     },
     "execution_count": 36,
     "metadata": {},
     "output_type": "execute_result"
    }
   ],
   "source": [
    "f'{debug.alpha/45:.2e}'"
   ]
  },
  {
   "cell_type": "markdown",
   "id": "df25c9f9",
   "metadata": {
    "hidden": true
   },
   "source": [
    "I mean, it could even work, since th difference from the real values are extremely low..."
   ]
  },
  {
   "cell_type": "markdown",
   "id": "f216626f",
   "metadata": {
    "hidden": true
   },
   "source": [
    "##### Check with sampling"
   ]
  },
  {
   "cell_type": "code",
   "execution_count": 81,
   "id": "5a621b2c",
   "metadata": {
    "ExecuteTime": {
     "end_time": "2025-05-22T14:18:14.687449Z",
     "start_time": "2025-05-22T14:18:14.680358Z"
    },
    "hidden": true
   },
   "outputs": [],
   "source": [
    "chatgpt_p_vals=np.zeros(len(covol_obs), dtype=[('node_0','i4'), ('node_1','i4'), ('p_value','f8')])"
   ]
  },
  {
   "cell_type": "code",
   "execution_count": 82,
   "id": "70534004",
   "metadata": {
    "ExecuteTime": {
     "end_time": "2025-05-22T14:19:08.508702Z",
     "start_time": "2025-05-22T14:18:15.083606Z"
    },
    "hidden": true
   },
   "outputs": [
    {
     "data": {
      "application/vnd.jupyter.widget-view+json": {
       "model_id": "0475e289a9d643b9af4167c03f38ca54",
       "version_major": 2,
       "version_minor": 0
      },
      "text/plain": [
       "  0%|          | 0/10 [00:00<?, ?it/s]"
      ]
     },
     "metadata": {},
     "output_type": "display_data"
    },
    {
     "name": "stderr",
     "output_type": "stream",
     "text": [
      "/home/sarawalk/sdgs_py38/sdg_repos_1/covolumes_pval_approx.py:84: RuntimeWarning: divide by zero encountered in scalar divide\n",
      "  return 1 - st.norm.cdf(w) + st.norm.pdf(w)*(1/w - 1/u)\n",
      "/home/sarawalk/sdgs_py38/sdg_repos_1/covolumes_pval_approx.py:84: RuntimeWarning: invalid value encountered in scalar multiply\n",
      "  return 1 - st.norm.cdf(w) + st.norm.pdf(w)*(1/w - 1/u)\n"
     ]
    }
   ],
   "source": [
    "counter=0\n",
    "for i in trange(debug.bima.shape[0]):\n",
    "    for j in range(i+1, debug.bima.shape[0]):\n",
    "        chatgpt_p_vals[counter]['node_0']=i\n",
    "        chatgpt_p_vals[counter]['node_1']=j\n",
    "        # w=k-1 \n",
    "        chatgpt_p_vals[counter]['p_value']=p_value_mix_numba(debug.p_mat[i], debug.p_mat[j], int(covol_obs[counter])+1)\n",
    "        counter+=1"
   ]
  },
  {
   "cell_type": "code",
   "execution_count": 88,
   "id": "eb7188c5",
   "metadata": {
    "ExecuteTime": {
     "end_time": "2025-05-22T14:19:34.332532Z",
     "start_time": "2025-05-22T14:19:34.318432Z"
    },
    "hidden": true
   },
   "outputs": [
    {
     "data": {
      "text/plain": [
       "array([[0.00000000e+00, 7.77777778e-03, 7.40000000e-03],\n",
       "       [0.00000000e+00, 9.33111111e-01, 9.32955556e-01],\n",
       "       [0.00000000e+00, 9.26000000e-01, 9.26844444e-01],\n",
       "       [0.00000000e+00, 4.77222222e-01, 4.80422222e-01],\n",
       "       [0.00000000e+00, 4.54000000e-01, 4.51666667e-01],\n",
       "       [9.98500000e-01, 9.99333333e-01, 9.99377778e-01],\n",
       "       [0.00000000e+00, 1.66666667e-03, 1.40000000e-03],\n",
       "       [0.00000000e+00, 9.47333333e-01, 9.50644444e-01],\n",
       "       [0.00000000e+00, 1.00000000e-02, 8.64444444e-03],\n",
       "       [0.00000000e+00, 1.00000000e-03, 9.11111111e-04],\n",
       "       [0.00000000e+00, 0.00000000e+00, 0.00000000e+00],\n",
       "       [0.00000000e+00, 3.08777778e-01, 3.06666667e-01],\n",
       "       [0.00000000e+00, 0.00000000e+00, 0.00000000e+00],\n",
       "       [0.00000000e+00, 0.00000000e+00, 0.00000000e+00],\n",
       "       [0.00000000e+00, 1.00000000e+00, 1.00000000e+00],\n",
       "       [0.00000000e+00, 0.00000000e+00, 0.00000000e+00],\n",
       "       [0.00000000e+00, 6.29888889e-01, 6.28577778e-01],\n",
       "       [0.00000000e+00, 6.34444444e-01, 6.24733333e-01],\n",
       "       [0.00000000e+00, 2.00444444e-01, 2.00933333e-01],\n",
       "       [0.00000000e+00, 1.14444444e-01, 1.14977778e-01],\n",
       "       [0.00000000e+00, 9.23666667e-01, 9.20466667e-01],\n",
       "       [0.00000000e+00, 0.00000000e+00, 0.00000000e+00],\n",
       "       [0.00000000e+00, 5.23333333e-01, 5.19088889e-01],\n",
       "       [0.00000000e+00, 2.22222222e-04, 6.66666667e-05],\n",
       "       [0.00000000e+00, 7.33333333e-03, 6.62222222e-03],\n",
       "       [0.00000000e+00, 0.00000000e+00, 0.00000000e+00],\n",
       "       [0.00000000e+00, 2.03000000e-01, 2.05333333e-01],\n",
       "       [0.00000000e+00, 0.00000000e+00, 0.00000000e+00],\n",
       "       [0.00000000e+00, 1.22222222e-02, 1.12000000e-02],\n",
       "       [0.00000000e+00, 0.00000000e+00, 0.00000000e+00],\n",
       "       [0.00000000e+00, 9.11111111e-03, 7.53333333e-03],\n",
       "       [0.00000000e+00, 2.00888889e-01, 2.06777778e-01],\n",
       "       [0.00000000e+00, 2.39555556e-01, 2.42600000e-01],\n",
       "       [0.00000000e+00, 1.84777778e-01, 1.82177778e-01],\n",
       "       [0.00000000e+00, 9.82555556e-01, 9.85311111e-01],\n",
       "       [2.00000000e-04, 4.55555556e-03, 3.24444444e-03],\n",
       "       [0.00000000e+00, 0.00000000e+00, 0.00000000e+00],\n",
       "       [0.00000000e+00, 0.00000000e+00, 0.00000000e+00],\n",
       "       [0.00000000e+00, 0.00000000e+00, 0.00000000e+00],\n",
       "       [0.00000000e+00, 0.00000000e+00, 0.00000000e+00],\n",
       "       [0.00000000e+00, 3.93666667e-01, 3.93066667e-01],\n",
       "       [0.00000000e+00, 0.00000000e+00, 1.11111111e-04],\n",
       "       [0.00000000e+00, 0.00000000e+00, 0.00000000e+00],\n",
       "       [0.00000000e+00, 1.00000000e+00, 1.00000000e+00],\n",
       "       [0.00000000e+00, 0.00000000e+00, 0.00000000e+00]])"
      ]
     },
     "execution_count": 88,
     "metadata": {},
     "output_type": "execute_result"
    }
   ],
   "source": [
    "np.vstack((chatgpt_p_vals['p_value'], parallel_pvals['p_value'], unparallel_pvals['p_value'])).T"
   ]
  },
  {
   "cell_type": "code",
   "execution_count": 89,
   "id": "1cb62a79",
   "metadata": {
    "ExecuteTime": {
     "end_time": "2025-05-22T14:19:40.693173Z",
     "start_time": "2025-05-22T14:19:40.686035Z"
    },
    "hidden": true
   },
   "outputs": [],
   "source": [
    "eff_th=debug.fdr_th(debug.p_vals['p_value'], debug.alpha)"
   ]
  },
  {
   "cell_type": "code",
   "execution_count": 90,
   "id": "1b7415f1",
   "metadata": {
    "ExecuteTime": {
     "end_time": "2025-05-22T14:19:41.147050Z",
     "start_time": "2025-05-22T14:19:41.136140Z"
    },
    "hidden": true
   },
   "outputs": [
    {
     "data": {
      "text/plain": [
       "array([[ True, False, False],\n",
       "       [ True, False, False],\n",
       "       [ True, False, False],\n",
       "       [ True, False, False],\n",
       "       [ True, False, False],\n",
       "       [False, False, False],\n",
       "       [ True,  True,  True],\n",
       "       [ True, False, False],\n",
       "       [ True, False, False],\n",
       "       [ True,  True,  True],\n",
       "       [ True,  True,  True],\n",
       "       [ True, False, False],\n",
       "       [ True,  True,  True],\n",
       "       [ True,  True,  True],\n",
       "       [ True, False, False],\n",
       "       [ True,  True,  True],\n",
       "       [ True, False, False],\n",
       "       [ True, False, False],\n",
       "       [ True, False, False],\n",
       "       [ True, False, False],\n",
       "       [ True, False, False],\n",
       "       [ True,  True,  True],\n",
       "       [ True, False, False],\n",
       "       [ True,  True,  True],\n",
       "       [ True, False, False],\n",
       "       [ True,  True,  True],\n",
       "       [ True, False, False],\n",
       "       [ True,  True,  True],\n",
       "       [ True, False, False],\n",
       "       [ True,  True,  True],\n",
       "       [ True, False, False],\n",
       "       [ True, False, False],\n",
       "       [ True, False, False],\n",
       "       [ True, False, False],\n",
       "       [ True, False, False],\n",
       "       [ True, False,  True],\n",
       "       [ True,  True,  True],\n",
       "       [ True,  True,  True],\n",
       "       [ True,  True,  True],\n",
       "       [ True,  True,  True],\n",
       "       [ True, False, False],\n",
       "       [ True,  True,  True],\n",
       "       [ True,  True,  True],\n",
       "       [ True, False, False],\n",
       "       [ True,  True,  True]])"
      ]
     },
     "execution_count": 90,
     "metadata": {},
     "output_type": "execute_result"
    }
   ],
   "source": [
    "np.vstack((chatgpt_p_vals['p_value']<=eff_th, parallel_pvals['p_value']<=eff_th, unparallel_pvals['p_value']<=eff_th)).T"
   ]
  },
  {
   "cell_type": "code",
   "execution_count": 91,
   "id": "3caac31b",
   "metadata": {
    "ExecuteTime": {
     "end_time": "2025-05-22T14:19:46.071850Z",
     "start_time": "2025-05-22T14:19:46.061662Z"
    },
    "hidden": true
   },
   "outputs": [
    {
     "data": {
      "text/plain": [
       "44"
      ]
     },
     "execution_count": 91,
     "metadata": {},
     "output_type": "execute_result"
    }
   ],
   "source": [
    "np.sum((parallel_pvals['p_value']<=eff_th)==(unparallel_pvals['p_value']<=eff_th))"
   ]
  },
  {
   "cell_type": "code",
   "execution_count": 92,
   "id": "98848273",
   "metadata": {
    "ExecuteTime": {
     "end_time": "2025-05-22T14:19:46.756579Z",
     "start_time": "2025-05-22T14:19:46.746069Z"
    },
    "hidden": true
   },
   "outputs": [
    {
     "data": {
      "text/plain": [
       "1"
      ]
     },
     "execution_count": 92,
     "metadata": {},
     "output_type": "execute_result"
    }
   ],
   "source": [
    "np.sum((parallel_pvals['p_value']<=eff_th)!=(unparallel_pvals['p_value']<=eff_th))"
   ]
  },
  {
   "cell_type": "markdown",
   "id": "bd34d4d2",
   "metadata": {},
   "source": [
    "### Let the children play"
   ]
  },
  {
   "cell_type": "code",
   "execution_count": 181,
   "id": "86455d9c",
   "metadata": {
    "ExecuteTime": {
     "end_time": "2025-06-20T17:17:13.411950Z",
     "start_time": "2025-06-20T16:28:00.301347Z"
    }
   },
   "outputs": [
    {
     "data": {
      "application/vnd.jupyter.widget-view+json": {
       "model_id": "0680e808fb8a40d1a244816979fd3c7b",
       "version_major": 2,
       "version_minor": 0
      },
      "text/plain": [
       "  0%|          | 0/10 [00:00<?, ?it/s]"
      ]
     },
     "metadata": {},
     "output_type": "display_data"
    },
    {
     "data": {
      "application/vnd.jupyter.widget-view+json": {
       "model_id": "",
       "version_major": 2,
       "version_minor": 0
      },
      "text/plain": [
       "get biadjacency list:   0%|          | 0/40 [00:00<?, ?it/s]"
      ]
     },
     "metadata": {},
     "output_type": "display_data"
    },
    {
     "data": {
      "application/vnd.jupyter.widget-view+json": {
       "model_id": "",
       "version_major": 2,
       "version_minor": 0
      },
      "text/plain": [
       "get all tokens:   0%|          | 0/40 [00:00<?, ?it/s]"
      ]
     },
     "metadata": {},
     "output_type": "display_data"
    },
    {
     "data": {
      "application/vnd.jupyter.widget-view+json": {
       "model_id": "",
       "version_major": 2,
       "version_minor": 0
      },
      "text/plain": [
       "  0%|          | 0/40 [00:00<?, ?it/s]"
      ]
     },
     "metadata": {},
     "output_type": "display_data"
    },
    {
     "data": {
      "application/vnd.jupyter.widget-view+json": {
       "model_id": "",
       "version_major": 2,
       "version_minor": 0
      },
      "text/plain": [
       "get biadjacency list:   0%|          | 0/44 [00:00<?, ?it/s]"
      ]
     },
     "metadata": {},
     "output_type": "display_data"
    },
    {
     "data": {
      "application/vnd.jupyter.widget-view+json": {
       "model_id": "",
       "version_major": 2,
       "version_minor": 0
      },
      "text/plain": [
       "get all tokens:   0%|          | 0/44 [00:00<?, ?it/s]"
      ]
     },
     "metadata": {},
     "output_type": "display_data"
    },
    {
     "data": {
      "application/vnd.jupyter.widget-view+json": {
       "model_id": "",
       "version_major": 2,
       "version_minor": 0
      },
      "text/plain": [
       "  0%|          | 0/44 [00:00<?, ?it/s]"
      ]
     },
     "metadata": {},
     "output_type": "display_data"
    },
    {
     "data": {
      "application/vnd.jupyter.widget-view+json": {
       "model_id": "",
       "version_major": 2,
       "version_minor": 0
      },
      "text/plain": [
       "get biadjacency list:   0%|          | 0/51 [00:00<?, ?it/s]"
      ]
     },
     "metadata": {},
     "output_type": "display_data"
    },
    {
     "data": {
      "application/vnd.jupyter.widget-view+json": {
       "model_id": "",
       "version_major": 2,
       "version_minor": 0
      },
      "text/plain": [
       "get all tokens:   0%|          | 0/51 [00:00<?, ?it/s]"
      ]
     },
     "metadata": {},
     "output_type": "display_data"
    },
    {
     "data": {
      "application/vnd.jupyter.widget-view+json": {
       "model_id": "",
       "version_major": 2,
       "version_minor": 0
      },
      "text/plain": [
       "  0%|          | 0/51 [00:00<?, ?it/s]"
      ]
     },
     "metadata": {},
     "output_type": "display_data"
    },
    {
     "data": {
      "application/vnd.jupyter.widget-view+json": {
       "model_id": "",
       "version_major": 2,
       "version_minor": 0
      },
      "text/plain": [
       "get biadjacency list:   0%|          | 0/56 [00:00<?, ?it/s]"
      ]
     },
     "metadata": {},
     "output_type": "display_data"
    },
    {
     "data": {
      "application/vnd.jupyter.widget-view+json": {
       "model_id": "",
       "version_major": 2,
       "version_minor": 0
      },
      "text/plain": [
       "get all tokens:   0%|          | 0/56 [00:00<?, ?it/s]"
      ]
     },
     "metadata": {},
     "output_type": "display_data"
    },
    {
     "data": {
      "application/vnd.jupyter.widget-view+json": {
       "model_id": "",
       "version_major": 2,
       "version_minor": 0
      },
      "text/plain": [
       "  0%|          | 0/56 [00:00<?, ?it/s]"
      ]
     },
     "metadata": {},
     "output_type": "display_data"
    },
    {
     "data": {
      "application/vnd.jupyter.widget-view+json": {
       "model_id": "",
       "version_major": 2,
       "version_minor": 0
      },
      "text/plain": [
       "get biadjacency list:   0%|          | 0/67 [00:00<?, ?it/s]"
      ]
     },
     "metadata": {},
     "output_type": "display_data"
    },
    {
     "data": {
      "application/vnd.jupyter.widget-view+json": {
       "model_id": "",
       "version_major": 2,
       "version_minor": 0
      },
      "text/plain": [
       "get all tokens:   0%|          | 0/67 [00:00<?, ?it/s]"
      ]
     },
     "metadata": {},
     "output_type": "display_data"
    },
    {
     "data": {
      "application/vnd.jupyter.widget-view+json": {
       "model_id": "",
       "version_major": 2,
       "version_minor": 0
      },
      "text/plain": [
       "  0%|          | 0/67 [00:00<?, ?it/s]"
      ]
     },
     "metadata": {},
     "output_type": "display_data"
    },
    {
     "data": {
      "application/vnd.jupyter.widget-view+json": {
       "model_id": "",
       "version_major": 2,
       "version_minor": 0
      },
      "text/plain": [
       "get biadjacency list:   0%|          | 0/69 [00:00<?, ?it/s]"
      ]
     },
     "metadata": {},
     "output_type": "display_data"
    },
    {
     "data": {
      "application/vnd.jupyter.widget-view+json": {
       "model_id": "",
       "version_major": 2,
       "version_minor": 0
      },
      "text/plain": [
       "get all tokens:   0%|          | 0/69 [00:00<?, ?it/s]"
      ]
     },
     "metadata": {},
     "output_type": "display_data"
    },
    {
     "data": {
      "application/vnd.jupyter.widget-view+json": {
       "model_id": "",
       "version_major": 2,
       "version_minor": 0
      },
      "text/plain": [
       "  0%|          | 0/69 [00:00<?, ?it/s]"
      ]
     },
     "metadata": {},
     "output_type": "display_data"
    },
    {
     "data": {
      "application/vnd.jupyter.widget-view+json": {
       "model_id": "",
       "version_major": 2,
       "version_minor": 0
      },
      "text/plain": [
       "get biadjacency list:   0%|          | 0/76 [00:00<?, ?it/s]"
      ]
     },
     "metadata": {},
     "output_type": "display_data"
    },
    {
     "data": {
      "application/vnd.jupyter.widget-view+json": {
       "model_id": "",
       "version_major": 2,
       "version_minor": 0
      },
      "text/plain": [
       "get all tokens:   0%|          | 0/76 [00:00<?, ?it/s]"
      ]
     },
     "metadata": {},
     "output_type": "display_data"
    },
    {
     "data": {
      "application/vnd.jupyter.widget-view+json": {
       "model_id": "",
       "version_major": 2,
       "version_minor": 0
      },
      "text/plain": [
       "  0%|          | 0/76 [00:00<?, ?it/s]"
      ]
     },
     "metadata": {},
     "output_type": "display_data"
    },
    {
     "data": {
      "application/vnd.jupyter.widget-view+json": {
       "model_id": "",
       "version_major": 2,
       "version_minor": 0
      },
      "text/plain": [
       "get biadjacency list:   0%|          | 0/80 [00:00<?, ?it/s]"
      ]
     },
     "metadata": {},
     "output_type": "display_data"
    },
    {
     "data": {
      "application/vnd.jupyter.widget-view+json": {
       "model_id": "",
       "version_major": 2,
       "version_minor": 0
      },
      "text/plain": [
       "get all tokens:   0%|          | 0/80 [00:00<?, ?it/s]"
      ]
     },
     "metadata": {},
     "output_type": "display_data"
    },
    {
     "data": {
      "application/vnd.jupyter.widget-view+json": {
       "model_id": "",
       "version_major": 2,
       "version_minor": 0
      },
      "text/plain": [
       "  0%|          | 0/80 [00:00<?, ?it/s]"
      ]
     },
     "metadata": {},
     "output_type": "display_data"
    },
    {
     "data": {
      "application/vnd.jupyter.widget-view+json": {
       "model_id": "",
       "version_major": 2,
       "version_minor": 0
      },
      "text/plain": [
       "get biadjacency list:   0%|          | 0/89 [00:00<?, ?it/s]"
      ]
     },
     "metadata": {},
     "output_type": "display_data"
    },
    {
     "data": {
      "application/vnd.jupyter.widget-view+json": {
       "model_id": "",
       "version_major": 2,
       "version_minor": 0
      },
      "text/plain": [
       "get all tokens:   0%|          | 0/89 [00:00<?, ?it/s]"
      ]
     },
     "metadata": {},
     "output_type": "display_data"
    },
    {
     "data": {
      "application/vnd.jupyter.widget-view+json": {
       "model_id": "",
       "version_major": 2,
       "version_minor": 0
      },
      "text/plain": [
       "  0%|          | 0/89 [00:00<?, ?it/s]"
      ]
     },
     "metadata": {},
     "output_type": "display_data"
    }
   ],
   "source": [
    "for year in tqdm(all_texts.keys()):\n",
    "    if year!='2024':\n",
    "        _cacca=metode(all_texts[year]['texts'], all_texts[year]['firms'], 0.01)\n",
    "        _cacca.get_bima()\n",
    "        np.savetxt('./ciruffa_files/'+year+'_companies.txt', all_texts[year]['firms'], delimiter=',', fmt='%s')\n",
    "        np.savetxt('./ciruffa_files/'+year+'_tokens.txt', _cacca.all_tokens, delimiter=',', fmt='%s')\n",
    "        np.savetxt('./ciruffa_files/'+year+'_bima.txt', _cacca.bima, delimiter=',', fmt='%i')"
   ]
  },
  {
   "cell_type": "code",
   "execution_count": null,
   "id": "834fb930",
   "metadata": {},
   "outputs": [],
   "source": []
  }
 ],
 "metadata": {
  "kernelspec": {
   "display_name": "Python 3 (ipykernel)",
   "language": "python",
   "name": "python3"
  },
  "language_info": {
   "codemirror_mode": {
    "name": "ipython",
    "version": 3
   },
   "file_extension": ".py",
   "mimetype": "text/x-python",
   "name": "python",
   "nbconvert_exporter": "python",
   "pygments_lexer": "ipython3",
   "version": "3.8.10"
  },
  "notify_time": "5",
  "toc": {
   "base_numbering": 1,
   "nav_menu": {},
   "number_sections": true,
   "sideBar": true,
   "skip_h1_title": false,
   "title_cell": "Table of Contents",
   "title_sidebar": "Contents",
   "toc_cell": false,
   "toc_position": {
    "height": "752px",
    "left": "28px",
    "top": "67.125px",
    "width": "288px"
   },
   "toc_section_display": true,
   "toc_window_display": true
  }
 },
 "nbformat": 4,
 "nbformat_minor": 5
}
