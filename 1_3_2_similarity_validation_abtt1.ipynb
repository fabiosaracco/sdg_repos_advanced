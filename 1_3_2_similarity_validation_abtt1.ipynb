{
 "cells": [
  {
   "cell_type": "markdown",
   "id": "b0f29fe5",
   "metadata": {},
   "source": [
    "# Intro"
   ]
  },
  {
   "cell_type": "markdown",
   "id": "d055d104",
   "metadata": {},
   "source": [
    "## Standard modules"
   ]
  },
  {
   "cell_type": "code",
   "execution_count": 1,
   "id": "864f64e3",
   "metadata": {
    "ExecuteTime": {
     "end_time": "2025-06-18T15:20:03.530688Z",
     "start_time": "2025-06-18T15:20:03.382995Z"
    }
   },
   "outputs": [],
   "source": [
    "import os, sys, pickle\n",
    "import pathlib\n",
    "import requests"
   ]
  },
  {
   "cell_type": "code",
   "execution_count": 2,
   "id": "560ecf76",
   "metadata": {
    "ExecuteTime": {
     "end_time": "2025-06-18T15:20:03.668527Z",
     "start_time": "2025-06-18T15:20:03.535953Z"
    }
   },
   "outputs": [],
   "source": [
    "import numpy as np"
   ]
  },
  {
   "cell_type": "code",
   "execution_count": 3,
   "id": "8a6b771c",
   "metadata": {
    "ExecuteTime": {
     "end_time": "2025-06-18T15:20:03.800230Z",
     "start_time": "2025-06-18T15:20:03.671470Z"
    }
   },
   "outputs": [],
   "source": [
    "from tqdm.auto import tqdm, trange"
   ]
  },
  {
   "cell_type": "code",
   "execution_count": 4,
   "id": "bc6205f1",
   "metadata": {
    "ExecuteTime": {
     "end_time": "2025-06-18T15:20:07.562363Z",
     "start_time": "2025-06-18T15:20:03.804849Z"
    }
   },
   "outputs": [],
   "source": [
    "from sentence_transformers import util"
   ]
  },
  {
   "cell_type": "code",
   "execution_count": 5,
   "id": "acee2253",
   "metadata": {
    "ExecuteTime": {
     "end_time": "2025-06-18T15:20:08.294669Z",
     "start_time": "2025-06-18T15:20:07.565824Z"
    }
   },
   "outputs": [],
   "source": [
    "import matplotlib.pyplot as plt\n",
    "plt.rcParams['axes.linewidth'] = 2\n",
    "plt.rcParams['xtick.major.size'] = 10\n",
    "plt.rcParams['xtick.major.width'] = 2\n",
    "plt.rcParams['ytick.major.size'] = 10\n",
    "plt.rcParams['ytick.major.width'] = 2\n",
    "\n",
    "plt.rcParams['xtick.labelsize'] = 14\n",
    "plt.rcParams['ytick.labelsize'] = 14\n",
    "\n",
    "plt.rcParams['xtick.minor.size'] = 5\n",
    "plt.rcParams['xtick.minor.width'] = 1\n",
    "plt.rcParams['ytick.minor.size'] = 5\n",
    "plt.rcParams['ytick.minor.width'] = 1"
   ]
  },
  {
   "cell_type": "code",
   "execution_count": 6,
   "id": "b6db4672",
   "metadata": {
    "ExecuteTime": {
     "end_time": "2025-06-18T15:20:08.373401Z",
     "start_time": "2025-06-18T15:20:08.297929Z"
    }
   },
   "outputs": [],
   "source": [
    "from sklearn.decomposition import PCA"
   ]
  },
  {
   "cell_type": "code",
   "execution_count": 7,
   "id": "7e7ea663",
   "metadata": {
    "ExecuteTime": {
     "end_time": "2025-06-18T15:20:08.694847Z",
     "start_time": "2025-06-18T15:20:08.377123Z"
    }
   },
   "outputs": [],
   "source": [
    "import seaborn"
   ]
  },
  {
   "cell_type": "code",
   "execution_count": 8,
   "id": "ba659fb7",
   "metadata": {
    "ExecuteTime": {
     "end_time": "2025-06-18T15:20:08.704513Z",
     "start_time": "2025-06-18T15:20:08.697843Z"
    }
   },
   "outputs": [],
   "source": [
    "import pymannkendall as mk"
   ]
  },
  {
   "cell_type": "code",
   "execution_count": 9,
   "id": "7bd61acd",
   "metadata": {
    "ExecuteTime": {
     "end_time": "2025-06-18T15:20:08.781762Z",
     "start_time": "2025-06-18T15:20:08.707755Z"
    }
   },
   "outputs": [],
   "source": [
    "from scipy.spatial.distance import cosine"
   ]
  },
  {
   "cell_type": "code",
   "execution_count": 10,
   "id": "7af32174",
   "metadata": {
    "ExecuteTime": {
     "end_time": "2025-06-18T15:20:08.995819Z",
     "start_time": "2025-06-18T15:20:08.791262Z"
    }
   },
   "outputs": [],
   "source": [
    "import requests\n",
    "import re\n",
    "from bs4 import BeautifulSoup  # Per pulizia HTML nelle REST API"
   ]
  },
  {
   "cell_type": "code",
   "execution_count": 11,
   "id": "4a62503d",
   "metadata": {
    "ExecuteTime": {
     "end_time": "2025-06-18T15:20:09.004068Z",
     "start_time": "2025-06-18T15:20:08.999484Z"
    }
   },
   "outputs": [],
   "source": [
    "import datetime as dt"
   ]
  },
  {
   "cell_type": "markdown",
   "id": "56820198",
   "metadata": {},
   "source": [
    "## Personal modules"
   ]
  },
  {
   "cell_type": "code",
   "execution_count": 12,
   "id": "b65ca0ac",
   "metadata": {
    "ExecuteTime": {
     "end_time": "2025-06-18T15:20:09.093952Z",
     "start_time": "2025-06-18T15:20:09.007265Z"
    }
   },
   "outputs": [],
   "source": [
    "from toolbox.updater import time_is_now"
   ]
  },
  {
   "cell_type": "code",
   "execution_count": 13,
   "id": "802740fd",
   "metadata": {
    "ExecuteTime": {
     "end_time": "2025-06-18T15:20:09.160547Z",
     "start_time": "2025-06-18T15:20:09.096996Z"
    }
   },
   "outputs": [],
   "source": [
    "from file2text import file2text"
   ]
  },
  {
   "cell_type": "code",
   "execution_count": 14,
   "id": "19dcd953",
   "metadata": {
    "ExecuteTime": {
     "end_time": "2025-06-18T15:20:09.231618Z",
     "start_time": "2025-06-18T15:20:09.164108Z"
    }
   },
   "outputs": [],
   "source": [
    "from first_rough_cleaning import first_text_cleaner"
   ]
  },
  {
   "cell_type": "code",
   "execution_count": 15,
   "id": "1f91c924",
   "metadata": {
    "ExecuteTime": {
     "end_time": "2025-06-18T15:20:09.306927Z",
     "start_time": "2025-06-18T15:20:09.235578Z"
    }
   },
   "outputs": [],
   "source": [
    "from file_handler import *"
   ]
  },
  {
   "cell_type": "code",
   "execution_count": 16,
   "id": "e0601dd2",
   "metadata": {
    "ExecuteTime": {
     "end_time": "2025-06-18T15:20:14.492476Z",
     "start_time": "2025-06-18T15:20:09.310864Z"
    }
   },
   "outputs": [
    {
     "name": "stderr",
     "output_type": "stream",
     "text": [
      "/home/sarawalk/sdgs_py38/lib/python3.8/site-packages/torch/cuda/__init__.py:118: UserWarning: CUDA initialization: The NVIDIA driver on your system is too old (found version 10020). Please update your GPU driver by downloading and installing a new version from the URL: http://www.nvidia.com/Download/index.aspx Alternatively, go to: https://pytorch.org to install a PyTorch version that has been compiled with your version of the CUDA driver. (Triggered internally at ../c10/cuda/CUDAFunctions.cpp:108.)\n",
      "  return torch._C._cuda_getDeviceCount() > 0\n"
     ]
    }
   ],
   "source": [
    "from jina4lote import jina4lote"
   ]
  },
  {
   "cell_type": "code",
   "execution_count": 17,
   "id": "d839f9fa",
   "metadata": {
    "ExecuteTime": {
     "end_time": "2025-06-18T15:20:14.507923Z",
     "start_time": "2025-06-18T15:20:14.495974Z"
    }
   },
   "outputs": [],
   "source": [
    "from tabulate import tabulate"
   ]
  },
  {
   "cell_type": "markdown",
   "id": "2f72e465",
   "metadata": {},
   "source": [
    "## Folders"
   ]
  },
  {
   "cell_type": "code",
   "execution_count": 18,
   "id": "c39d31d5",
   "metadata": {
    "ExecuteTime": {
     "end_time": "2025-06-18T15:20:14.598459Z",
     "start_time": "2025-06-18T15:20:14.511123Z"
    }
   },
   "outputs": [],
   "source": [
    "VECTOR_FOLDER='./NewProcessedData/vectors/'"
   ]
  },
  {
   "cell_type": "code",
   "execution_count": 19,
   "id": "92a85ced",
   "metadata": {
    "ExecuteTime": {
     "end_time": "2025-06-18T15:20:14.709659Z",
     "start_time": "2025-06-18T15:20:14.609150Z"
    }
   },
   "outputs": [],
   "source": [
    "BENCHMARK_FOLDER='./NewProcessedData/benchmarks/'"
   ]
  },
  {
   "cell_type": "code",
   "execution_count": 20,
   "id": "71aae73b",
   "metadata": {
    "ExecuteTime": {
     "end_time": "2025-06-18T15:20:14.772909Z",
     "start_time": "2025-06-18T15:20:14.712719Z"
    }
   },
   "outputs": [],
   "source": [
    "ABTT1_VECTOR_FOLDER='./NewProcessedData/abtt1_vectors/'"
   ]
  },
  {
   "cell_type": "markdown",
   "id": "9a081251",
   "metadata": {},
   "source": [
    "## Load vectors"
   ]
  },
  {
   "cell_type": "code",
   "execution_count": 21,
   "id": "dc2d5837",
   "metadata": {
    "ExecuteTime": {
     "end_time": "2025-06-18T15:20:14.868259Z",
     "start_time": "2025-06-18T15:20:14.775858Z"
    }
   },
   "outputs": [],
   "source": [
    "vecfiles=os.listdir(ABTT1_VECTOR_FOLDER)"
   ]
  },
  {
   "cell_type": "code",
   "execution_count": 22,
   "id": "08669c9f",
   "metadata": {
    "ExecuteTime": {
     "end_time": "2025-06-18T15:20:14.934284Z",
     "start_time": "2025-06-18T15:20:14.871412Z"
    }
   },
   "outputs": [],
   "source": [
    "vecfiles.sort()"
   ]
  },
  {
   "cell_type": "markdown",
   "id": "dcac04e8",
   "metadata": {},
   "source": [
    "### Reports' vectors"
   ]
  },
  {
   "cell_type": "code",
   "execution_count": 23,
   "id": "605ccda9",
   "metadata": {
    "ExecuteTime": {
     "end_time": "2025-06-18T15:20:15.016027Z",
     "start_time": "2025-06-18T15:20:14.937646Z"
    }
   },
   "outputs": [],
   "source": [
    "reports_files=[vecfile for vecfile in vecfiles if vecfile[:4].isnumeric()]"
   ]
  },
  {
   "cell_type": "code",
   "execution_count": 24,
   "id": "421a1f5a",
   "metadata": {
    "ExecuteTime": {
     "end_time": "2025-06-18T15:20:15.097973Z",
     "start_time": "2025-06-18T15:20:15.019243Z"
    }
   },
   "outputs": [],
   "source": [
    "reports_files.sort()"
   ]
  },
  {
   "cell_type": "code",
   "execution_count": 25,
   "id": "67db7292",
   "metadata": {
    "ExecuteTime": {
     "end_time": "2025-06-18T15:20:15.173972Z",
     "start_time": "2025-06-18T15:20:15.101450Z"
    }
   },
   "outputs": [],
   "source": [
    "years, k_y=np.unique([rf[:4] for rf in reports_files], return_counts=True)"
   ]
  },
  {
   "cell_type": "code",
   "execution_count": 26,
   "id": "a56281e9",
   "metadata": {
    "ExecuteTime": {
     "end_time": "2025-06-18T15:20:15.259198Z",
     "start_time": "2025-06-18T15:20:15.177434Z"
    }
   },
   "outputs": [
    {
     "data": {
      "text/plain": [
       "array([['2015', '40'],\n",
       "       ['2016', '44'],\n",
       "       ['2017', '51'],\n",
       "       ['2018', '56'],\n",
       "       ['2019', '67'],\n",
       "       ['2020', '69'],\n",
       "       ['2021', '76'],\n",
       "       ['2022', '80'],\n",
       "       ['2023', '90']], dtype='<U21')"
      ]
     },
     "execution_count": 26,
     "metadata": {},
     "output_type": "execute_result"
    }
   ],
   "source": [
    "np.vstack((years, k_y)).T"
   ]
  },
  {
   "cell_type": "code",
   "execution_count": 27,
   "id": "48d68050",
   "metadata": {
    "ExecuteTime": {
     "end_time": "2025-06-18T15:20:15.339785Z",
     "start_time": "2025-06-18T15:20:15.261922Z"
    }
   },
   "outputs": [],
   "source": [
    "vectors=np.zeros(len(reports_files), dtype=[('year', 'i4'), ('sector', 'U2'), ('company', 'U100'), ('vector', object)])"
   ]
  },
  {
   "cell_type": "code",
   "execution_count": 28,
   "id": "072a5664",
   "metadata": {
    "ExecuteTime": {
     "end_time": "2025-06-18T15:20:17.860408Z",
     "start_time": "2025-06-18T15:20:15.355497Z"
    }
   },
   "outputs": [],
   "source": [
    "for i_rf, reports_file in enumerate(reports_files):\n",
    "    # info from the filename\n",
    "    splitted_filename=reports_file.split('_')\n",
    "    \n",
    "    year=int(splitted_filename[0])\n",
    "    sector=splitted_filename[1]\n",
    "    if splitted_filename[-1]=='PLC.txt':\n",
    "        company='_'.join(splitted_filename[2:-1])\n",
    "    else:\n",
    "        company='_'.join(splitted_filename[2:])\n",
    "        company=company.replace('.txt', '')\n",
    "    company=company.lower()\n",
    "    # get the vector\n",
    "    vector=np.genfromtxt(ABTT1_VECTOR_FOLDER+reports_file)\n",
    "    \n",
    "    # organize data\n",
    "    vectors[i_rf]['year']=year\n",
    "    vectors[i_rf]['sector']=sector\n",
    "    vectors[i_rf]['company']=company\n",
    "    vectors[i_rf]['vector']=vector"
   ]
  },
  {
   "cell_type": "markdown",
   "id": "95b75d6e",
   "metadata": {},
   "source": [
    "### Reports aggregated per sector per year"
   ]
  },
  {
   "cell_type": "markdown",
   "id": "64d63650",
   "metadata": {},
   "source": [
    "For each and sector I have an only entry, therefore the final vector has "
   ]
  },
  {
   "cell_type": "code",
   "execution_count": 29,
   "id": "74cfc42a",
   "metadata": {
    "ExecuteTime": {
     "end_time": "2025-06-18T15:20:17.872882Z",
     "start_time": "2025-06-18T15:20:17.863334Z"
    }
   },
   "outputs": [
    {
     "data": {
      "text/plain": [
       "96"
      ]
     },
     "execution_count": 29,
     "metadata": {},
     "output_type": "execute_result"
    }
   ],
   "source": [
    "_tracks=np.unique(vectors[['year', 'sector']])\n",
    "l_aggr_rep=len(_tracks)\n",
    "l_aggr_rep"
   ]
  },
  {
   "cell_type": "markdown",
   "id": "ddde223c",
   "metadata": {},
   "source": [
    "entries."
   ]
  },
  {
   "cell_type": "code",
   "execution_count": 30,
   "id": "26853beb",
   "metadata": {
    "ExecuteTime": {
     "end_time": "2025-06-18T15:20:17.948046Z",
     "start_time": "2025-06-18T15:20:17.876162Z"
    }
   },
   "outputs": [],
   "source": [
    "aggr_vectors=np.zeros(l_aggr_rep, dtype=[('year', 'i4'), ('sector', 'U2'), ('vector', object)])"
   ]
  },
  {
   "cell_type": "code",
   "execution_count": 31,
   "id": "9ad565c3",
   "metadata": {
    "ExecuteTime": {
     "end_time": "2025-06-18T15:20:18.060221Z",
     "start_time": "2025-06-18T15:20:17.951068Z"
    }
   },
   "outputs": [
    {
     "data": {
      "application/vnd.jupyter.widget-view+json": {
       "model_id": "dd816ddb40ed4c90a92374a99766265e",
       "version_major": 2,
       "version_minor": 0
      },
      "text/plain": [
       "  0%|          | 0/96 [00:00<?, ?it/s]"
      ]
     },
     "metadata": {},
     "output_type": "display_data"
    }
   ],
   "source": [
    "for i_t, _track in enumerate(tqdm(_tracks)):\n",
    "    year=_track[0]\n",
    "    sector=_track[1]\n",
    "    # select entries in vectors\n",
    "    _mask=np.logical_and(vectors['year']==year, vectors['sector']==sector)\n",
    "    _selection=vectors[_mask]\n",
    "    # define te entries in aggr_vectors\n",
    "    aggr_vectors[i_t]['year']=year\n",
    "    aggr_vectors[i_t]['sector']=sector\n",
    "    aggr_vectors[i_t]['vector']=np.mean(_selection['vector'])"
   ]
  },
  {
   "cell_type": "markdown",
   "id": "e5b226f8",
   "metadata": {},
   "source": [
    "### Witten's vector"
   ]
  },
  {
   "cell_type": "code",
   "execution_count": 32,
   "id": "4c064d48",
   "metadata": {
    "ExecuteTime": {
     "end_time": "2025-06-18T15:20:18.154191Z",
     "start_time": "2025-06-18T15:20:18.062758Z"
    }
   },
   "outputs": [],
   "source": [
    "wittenvecfile=[file for file in os.listdir(ABTT1_VECTOR_FOLDER) if file.startswith('Witten') and file.endswith('.txt')][0]"
   ]
  },
  {
   "cell_type": "code",
   "execution_count": 33,
   "id": "c75391da",
   "metadata": {
    "ExecuteTime": {
     "end_time": "2025-06-18T15:20:18.255533Z",
     "start_time": "2025-06-18T15:20:18.156528Z"
    }
   },
   "outputs": [],
   "source": [
    "wittenvec=np.genfromtxt(ABTT1_VECTOR_FOLDER+wittenvecfile)"
   ]
  },
  {
   "cell_type": "markdown",
   "id": "49a9cf94",
   "metadata": {},
   "source": [
    "### Goals' vectors"
   ]
  },
  {
   "cell_type": "code",
   "execution_count": 34,
   "id": "b996f73c",
   "metadata": {
    "ExecuteTime": {
     "end_time": "2025-06-18T15:20:18.324797Z",
     "start_time": "2025-06-18T15:20:18.258511Z"
    }
   },
   "outputs": [],
   "source": [
    "goalvecfiles=[vecfile for vecfile in vecfiles if vecfile.startswith('Goal')]"
   ]
  },
  {
   "cell_type": "code",
   "execution_count": 35,
   "id": "05b81a7e",
   "metadata": {
    "ExecuteTime": {
     "end_time": "2025-06-18T15:20:18.397733Z",
     "start_time": "2025-06-18T15:20:18.328266Z"
    }
   },
   "outputs": [],
   "source": [
    "goalvecfiles.sort()"
   ]
  },
  {
   "cell_type": "code",
   "execution_count": 36,
   "id": "0495b61c",
   "metadata": {
    "ExecuteTime": {
     "end_time": "2025-06-18T15:20:18.484992Z",
     "start_time": "2025-06-18T15:20:18.401462Z"
    }
   },
   "outputs": [
    {
     "data": {
      "text/plain": [
       "['Goal-01-Fast-Facts.txt',\n",
       " 'Goal-02-Fast-Facts.txt',\n",
       " 'Goal-03-Fast-Facts.txt',\n",
       " 'Goal-04-Fast-Facts.txt',\n",
       " 'Goal-05-Fast-Facts.txt',\n",
       " 'Goal-06-Fast-Facts.txt',\n",
       " 'Goal-07-Fast-Facts.txt',\n",
       " 'Goal-08-Fast-Facts.txt',\n",
       " 'Goal-09-Fast-Facts.txt',\n",
       " 'Goal-10-Fast-Facts.txt',\n",
       " 'Goal-11_Fast-Facts.txt',\n",
       " 'Goal-12_Fast-Facts.txt',\n",
       " 'Goal-13_Fast-Facts.txt',\n",
       " 'Goal-14_Fast-Facts.txt',\n",
       " 'Goal-15-Fast-Facts.txt',\n",
       " 'Goal-16-Fast-Facts.txt',\n",
       " 'Goal-17-Fast-Facts.txt',\n",
       " 'Goal-Fast-Facts.txt']"
      ]
     },
     "execution_count": 36,
     "metadata": {},
     "output_type": "execute_result"
    }
   ],
   "source": [
    "goalvecfiles"
   ]
  },
  {
   "cell_type": "code",
   "execution_count": 37,
   "id": "05e0ec2f",
   "metadata": {
    "ExecuteTime": {
     "end_time": "2025-06-18T15:20:18.635390Z",
     "start_time": "2025-06-18T15:20:18.488693Z"
    }
   },
   "outputs": [],
   "source": [
    "goalvecs=[np.genfromtxt(ABTT1_VECTOR_FOLDER+goalvecfile) for goalvecfile in goalvecfiles]"
   ]
  },
  {
   "cell_type": "markdown",
   "id": "cbc643c8",
   "metadata": {},
   "source": [
    "### Wikipedia's vectors"
   ]
  },
  {
   "cell_type": "code",
   "execution_count": 38,
   "id": "76f9b637",
   "metadata": {
    "ExecuteTime": {
     "end_time": "2025-06-18T15:20:18.686434Z",
     "start_time": "2025-06-18T15:20:18.638226Z"
    }
   },
   "outputs": [],
   "source": [
    "wikivecfiles=[vecfile for vecfile in vecfiles if vecfile.startswith('wiki')]"
   ]
  },
  {
   "cell_type": "code",
   "execution_count": 39,
   "id": "0469b1ec",
   "metadata": {
    "ExecuteTime": {
     "end_time": "2025-06-18T15:20:18.748182Z",
     "start_time": "2025-06-18T15:20:18.689815Z"
    }
   },
   "outputs": [],
   "source": [
    "wikivecfiles.sort()"
   ]
  },
  {
   "cell_type": "code",
   "execution_count": 40,
   "id": "a9439c53",
   "metadata": {
    "ExecuteTime": {
     "end_time": "2025-06-18T15:20:18.854639Z",
     "start_time": "2025-06-18T15:20:18.751773Z"
    }
   },
   "outputs": [
    {
     "data": {
      "text/plain": [
       "4001"
      ]
     },
     "execution_count": 40,
     "metadata": {},
     "output_type": "execute_result"
    }
   ],
   "source": [
    "len(wikivecfiles)"
   ]
  },
  {
   "cell_type": "code",
   "execution_count": 41,
   "id": "03d8325f",
   "metadata": {
    "ExecuteTime": {
     "end_time": "2025-06-18T15:20:35.021364Z",
     "start_time": "2025-06-18T15:20:18.857976Z"
    }
   },
   "outputs": [],
   "source": [
    "wikivecs=[np.genfromtxt(ABTT1_VECTOR_FOLDER+wikivecfile) for wikivecfile in wikivecfiles]"
   ]
  },
  {
   "cell_type": "markdown",
   "id": "1c3788c0",
   "metadata": {},
   "source": [
    "## Sector helper"
   ]
  },
  {
   "cell_type": "code",
   "execution_count": 42,
   "id": "dd2c93a7",
   "metadata": {
    "ExecuteTime": {
     "end_time": "2025-06-18T15:20:35.031999Z",
     "start_time": "2025-06-18T15:20:35.025569Z"
    }
   },
   "outputs": [],
   "source": [
    "rtf_files=os.listdir('./rtf')\n",
    "rtf_files.sort()"
   ]
  },
  {
   "cell_type": "code",
   "execution_count": 43,
   "id": "0fce053c",
   "metadata": {
    "ExecuteTime": {
     "end_time": "2025-06-18T15:20:35.099239Z",
     "start_time": "2025-06-18T15:20:35.035485Z"
    }
   },
   "outputs": [],
   "source": [
    "sec_helper={}\n",
    "for file in rtf_files:\n",
    "    splitted_name=file.split('_')\n",
    "    if splitted_name[0].isnumeric():\n",
    "        if splitted_name[0] not in sec_helper.keys():\n",
    "            sec_helper[splitted_name[0].zfill(2)]=splitted_name[1]"
   ]
  },
  {
   "cell_type": "code",
   "execution_count": 44,
   "id": "a85c5ec9",
   "metadata": {
    "ExecuteTime": {
     "end_time": "2025-06-18T15:20:35.185411Z",
     "start_time": "2025-06-18T15:20:35.102304Z"
    }
   },
   "outputs": [
    {
     "data": {
      "text/plain": [
       "{'10': 'Telecommunications',\n",
       " '11': 'Utilities',\n",
       " '01': 'Basic Materials',\n",
       " '02': 'Consumer Discretionary',\n",
       " '03': 'Consumer Staples',\n",
       " '04': 'Energy',\n",
       " '05': 'Financials',\n",
       " '06': 'Health Care',\n",
       " '07': 'Industrials',\n",
       " '08': 'Real Estate',\n",
       " '09': 'Technology'}"
      ]
     },
     "execution_count": 44,
     "metadata": {},
     "output_type": "execute_result"
    }
   ],
   "source": [
    "sec_helper"
   ]
  },
  {
   "cell_type": "markdown",
   "id": "aab99b27",
   "metadata": {},
   "source": [
    "## SDG helper"
   ]
  },
  {
   "cell_type": "code",
   "execution_count": 45,
   "id": "f7d2be85",
   "metadata": {
    "ExecuteTime": {
     "end_time": "2025-06-18T15:20:35.273033Z",
     "start_time": "2025-06-18T15:20:35.189093Z"
    }
   },
   "outputs": [],
   "source": [
    "sdg_helper={'01':'No Poverty', \n",
    " '02': 'Zero hunger', \n",
    " '03': 'Good health and well-being', \n",
    " '04': 'Quality education',\n",
    " '05': 'Gender equality',\n",
    " '06': 'Clean water and sanitation',\n",
    " '07': 'Affordable and clean energy',\n",
    " '08': 'Decent work and economic growth',\n",
    " '09': 'Industry, Innovation, Technology and Infrastructure',\n",
    " '10': 'Reduced inequality',\n",
    " '11': 'Sustainable cities and communities',\n",
    " '12': 'Responsible consumption and production',\n",
    " '13': 'Climate action',\n",
    " '14': 'Life below water',\n",
    " '15': 'Life on land',\n",
    " '16': 'Peace, justice and strong institutions',\n",
    " '17': 'Partnerships for the goals'\n",
    "}"
   ]
  },
  {
   "cell_type": "markdown",
   "id": "85e49f70",
   "metadata": {},
   "source": [
    "## FDR"
   ]
  },
  {
   "cell_type": "code",
   "execution_count": 46,
   "id": "c8294337",
   "metadata": {
    "ExecuteTime": {
     "end_time": "2025-06-18T15:20:35.363599Z",
     "start_time": "2025-06-18T15:20:35.275912Z"
    }
   },
   "outputs": [],
   "source": [
    "def fdr_th(p_vals, alpha):\n",
    "    _aux=np.sort(p_vals)\n",
    "    fdr_ths=np.arange(1, 1+len(_aux))*alpha/len(_aux)\n",
    "    fdr_mask=_aux<=fdr_ths\n",
    "    if np.sum(fdr_mask)>0:\n",
    "        return fdr_ths[fdr_mask][-1]\n",
    "    else:\n",
    "        return 0."
   ]
  },
  {
   "cell_type": "markdown",
   "id": "9d7c0dbb",
   "metadata": {},
   "source": [
    "# The benchmark"
   ]
  },
  {
   "cell_type": "code",
   "execution_count": 47,
   "id": "e09574db",
   "metadata": {
    "ExecuteTime": {
     "end_time": "2025-06-18T15:20:35.431031Z",
     "start_time": "2025-06-18T15:20:35.367263Z"
    }
   },
   "outputs": [],
   "source": [
    "years=years.astype('i4')"
   ]
  },
  {
   "cell_type": "markdown",
   "id": "fea02df7",
   "metadata": {},
   "source": [
    "## Creating the benchmark, at the firm level _[DO NOT EVALUATE IT AGAIN!!!]_"
   ]
  },
  {
   "cell_type": "code",
   "execution_count": 48,
   "id": "a401004b",
   "metadata": {
    "ExecuteTime": {
     "end_time": "2025-06-18T15:20:35.506187Z",
     "start_time": "2025-06-18T15:20:35.434521Z"
    }
   },
   "outputs": [],
   "source": [
    "wiki_bench=np.zeros(len(vectors), dtype=[('cos_sim', object)])"
   ]
  },
  {
   "cell_type": "code",
   "execution_count": 49,
   "id": "6600a502",
   "metadata": {
    "ExecuteTime": {
     "end_time": "2025-06-18T15:32:54.619378Z",
     "start_time": "2025-06-18T15:20:35.509669Z"
    }
   },
   "outputs": [
    {
     "data": {
      "application/vnd.jupyter.widget-view+json": {
       "model_id": "fe994806a429425fb6661bcdcb208c7e",
       "version_major": 2,
       "version_minor": 0
      },
      "text/plain": [
       "  0%|          | 0/573 [00:00<?, ?it/s]"
      ]
     },
     "metadata": {},
     "output_type": "display_data"
    },
    {
     "data": {
      "application/vnd.jupyter.widget-view+json": {
       "model_id": "",
       "version_major": 2,
       "version_minor": 0
      },
      "text/plain": [
       "  0%|          | 0/4001 [00:00<?, ?it/s]"
      ]
     },
     "metadata": {},
     "output_type": "display_data"
    },
    {
     "data": {
      "application/vnd.jupyter.widget-view+json": {
       "model_id": "",
       "version_major": 2,
       "version_minor": 0
      },
      "text/plain": [
       "  0%|          | 0/4001 [00:00<?, ?it/s]"
      ]
     },
     "metadata": {},
     "output_type": "display_data"
    },
    {
     "data": {
      "application/vnd.jupyter.widget-view+json": {
       "model_id": "",
       "version_major": 2,
       "version_minor": 0
      },
      "text/plain": [
       "  0%|          | 0/4001 [00:00<?, ?it/s]"
      ]
     },
     "metadata": {},
     "output_type": "display_data"
    },
    {
     "data": {
      "application/vnd.jupyter.widget-view+json": {
       "model_id": "",
       "version_major": 2,
       "version_minor": 0
      },
      "text/plain": [
       "  0%|          | 0/4001 [00:00<?, ?it/s]"
      ]
     },
     "metadata": {},
     "output_type": "display_data"
    },
    {
     "data": {
      "application/vnd.jupyter.widget-view+json": {
       "model_id": "",
       "version_major": 2,
       "version_minor": 0
      },
      "text/plain": [
       "  0%|          | 0/4001 [00:00<?, ?it/s]"
      ]
     },
     "metadata": {},
     "output_type": "display_data"
    },
    {
     "data": {
      "application/vnd.jupyter.widget-view+json": {
       "model_id": "",
       "version_major": 2,
       "version_minor": 0
      },
      "text/plain": [
       "  0%|          | 0/4001 [00:00<?, ?it/s]"
      ]
     },
     "metadata": {},
     "output_type": "display_data"
    },
    {
     "data": {
      "application/vnd.jupyter.widget-view+json": {
       "model_id": "",
       "version_major": 2,
       "version_minor": 0
      },
      "text/plain": [
       "  0%|          | 0/4001 [00:00<?, ?it/s]"
      ]
     },
     "metadata": {},
     "output_type": "display_data"
    },
    {
     "data": {
      "application/vnd.jupyter.widget-view+json": {
       "model_id": "",
       "version_major": 2,
       "version_minor": 0
      },
      "text/plain": [
       "  0%|          | 0/4001 [00:00<?, ?it/s]"
      ]
     },
     "metadata": {},
     "output_type": "display_data"
    },
    {
     "data": {
      "application/vnd.jupyter.widget-view+json": {
       "model_id": "",
       "version_major": 2,
       "version_minor": 0
      },
      "text/plain": [
       "  0%|          | 0/4001 [00:00<?, ?it/s]"
      ]
     },
     "metadata": {},
     "output_type": "display_data"
    },
    {
     "data": {
      "application/vnd.jupyter.widget-view+json": {
       "model_id": "",
       "version_major": 2,
       "version_minor": 0
      },
      "text/plain": [
       "  0%|          | 0/4001 [00:00<?, ?it/s]"
      ]
     },
     "metadata": {},
     "output_type": "display_data"
    },
    {
     "data": {
      "application/vnd.jupyter.widget-view+json": {
       "model_id": "",
       "version_major": 2,
       "version_minor": 0
      },
      "text/plain": [
       "  0%|          | 0/4001 [00:00<?, ?it/s]"
      ]
     },
     "metadata": {},
     "output_type": "display_data"
    },
    {
     "data": {
      "application/vnd.jupyter.widget-view+json": {
       "model_id": "",
       "version_major": 2,
       "version_minor": 0
      },
      "text/plain": [
       "  0%|          | 0/4001 [00:00<?, ?it/s]"
      ]
     },
     "metadata": {},
     "output_type": "display_data"
    },
    {
     "data": {
      "application/vnd.jupyter.widget-view+json": {
       "model_id": "",
       "version_major": 2,
       "version_minor": 0
      },
      "text/plain": [
       "  0%|          | 0/4001 [00:00<?, ?it/s]"
      ]
     },
     "metadata": {},
     "output_type": "display_data"
    },
    {
     "data": {
      "application/vnd.jupyter.widget-view+json": {
       "model_id": "",
       "version_major": 2,
       "version_minor": 0
      },
      "text/plain": [
       "  0%|          | 0/4001 [00:00<?, ?it/s]"
      ]
     },
     "metadata": {},
     "output_type": "display_data"
    },
    {
     "data": {
      "application/vnd.jupyter.widget-view+json": {
       "model_id": "",
       "version_major": 2,
       "version_minor": 0
      },
      "text/plain": [
       "  0%|          | 0/4001 [00:00<?, ?it/s]"
      ]
     },
     "metadata": {},
     "output_type": "display_data"
    },
    {
     "data": {
      "application/vnd.jupyter.widget-view+json": {
       "model_id": "",
       "version_major": 2,
       "version_minor": 0
      },
      "text/plain": [
       "  0%|          | 0/4001 [00:00<?, ?it/s]"
      ]
     },
     "metadata": {},
     "output_type": "display_data"
    },
    {
     "data": {
      "application/vnd.jupyter.widget-view+json": {
       "model_id": "",
       "version_major": 2,
       "version_minor": 0
      },
      "text/plain": [
       "  0%|          | 0/4001 [00:00<?, ?it/s]"
      ]
     },
     "metadata": {},
     "output_type": "display_data"
    },
    {
     "data": {
      "application/vnd.jupyter.widget-view+json": {
       "model_id": "",
       "version_major": 2,
       "version_minor": 0
      },
      "text/plain": [
       "  0%|          | 0/4001 [00:00<?, ?it/s]"
      ]
     },
     "metadata": {},
     "output_type": "display_data"
    },
    {
     "data": {
      "application/vnd.jupyter.widget-view+json": {
       "model_id": "",
       "version_major": 2,
       "version_minor": 0
      },
      "text/plain": [
       "  0%|          | 0/4001 [00:00<?, ?it/s]"
      ]
     },
     "metadata": {},
     "output_type": "display_data"
    },
    {
     "data": {
      "application/vnd.jupyter.widget-view+json": {
       "model_id": "",
       "version_major": 2,
       "version_minor": 0
      },
      "text/plain": [
       "  0%|          | 0/4001 [00:00<?, ?it/s]"
      ]
     },
     "metadata": {},
     "output_type": "display_data"
    },
    {
     "data": {
      "application/vnd.jupyter.widget-view+json": {
       "model_id": "",
       "version_major": 2,
       "version_minor": 0
      },
      "text/plain": [
       "  0%|          | 0/4001 [00:00<?, ?it/s]"
      ]
     },
     "metadata": {},
     "output_type": "display_data"
    },
    {
     "data": {
      "application/vnd.jupyter.widget-view+json": {
       "model_id": "",
       "version_major": 2,
       "version_minor": 0
      },
      "text/plain": [
       "  0%|          | 0/4001 [00:00<?, ?it/s]"
      ]
     },
     "metadata": {},
     "output_type": "display_data"
    },
    {
     "data": {
      "application/vnd.jupyter.widget-view+json": {
       "model_id": "",
       "version_major": 2,
       "version_minor": 0
      },
      "text/plain": [
       "  0%|          | 0/4001 [00:00<?, ?it/s]"
      ]
     },
     "metadata": {},
     "output_type": "display_data"
    },
    {
     "data": {
      "application/vnd.jupyter.widget-view+json": {
       "model_id": "",
       "version_major": 2,
       "version_minor": 0
      },
      "text/plain": [
       "  0%|          | 0/4001 [00:00<?, ?it/s]"
      ]
     },
     "metadata": {},
     "output_type": "display_data"
    },
    {
     "data": {
      "application/vnd.jupyter.widget-view+json": {
       "model_id": "",
       "version_major": 2,
       "version_minor": 0
      },
      "text/plain": [
       "  0%|          | 0/4001 [00:00<?, ?it/s]"
      ]
     },
     "metadata": {},
     "output_type": "display_data"
    },
    {
     "data": {
      "application/vnd.jupyter.widget-view+json": {
       "model_id": "",
       "version_major": 2,
       "version_minor": 0
      },
      "text/plain": [
       "  0%|          | 0/4001 [00:00<?, ?it/s]"
      ]
     },
     "metadata": {},
     "output_type": "display_data"
    },
    {
     "data": {
      "application/vnd.jupyter.widget-view+json": {
       "model_id": "",
       "version_major": 2,
       "version_minor": 0
      },
      "text/plain": [
       "  0%|          | 0/4001 [00:00<?, ?it/s]"
      ]
     },
     "metadata": {},
     "output_type": "display_data"
    },
    {
     "data": {
      "application/vnd.jupyter.widget-view+json": {
       "model_id": "",
       "version_major": 2,
       "version_minor": 0
      },
      "text/plain": [
       "  0%|          | 0/4001 [00:00<?, ?it/s]"
      ]
     },
     "metadata": {},
     "output_type": "display_data"
    },
    {
     "data": {
      "application/vnd.jupyter.widget-view+json": {
       "model_id": "",
       "version_major": 2,
       "version_minor": 0
      },
      "text/plain": [
       "  0%|          | 0/4001 [00:00<?, ?it/s]"
      ]
     },
     "metadata": {},
     "output_type": "display_data"
    },
    {
     "data": {
      "application/vnd.jupyter.widget-view+json": {
       "model_id": "",
       "version_major": 2,
       "version_minor": 0
      },
      "text/plain": [
       "  0%|          | 0/4001 [00:00<?, ?it/s]"
      ]
     },
     "metadata": {},
     "output_type": "display_data"
    },
    {
     "data": {
      "application/vnd.jupyter.widget-view+json": {
       "model_id": "",
       "version_major": 2,
       "version_minor": 0
      },
      "text/plain": [
       "  0%|          | 0/4001 [00:00<?, ?it/s]"
      ]
     },
     "metadata": {},
     "output_type": "display_data"
    },
    {
     "data": {
      "application/vnd.jupyter.widget-view+json": {
       "model_id": "",
       "version_major": 2,
       "version_minor": 0
      },
      "text/plain": [
       "  0%|          | 0/4001 [00:00<?, ?it/s]"
      ]
     },
     "metadata": {},
     "output_type": "display_data"
    },
    {
     "data": {
      "application/vnd.jupyter.widget-view+json": {
       "model_id": "",
       "version_major": 2,
       "version_minor": 0
      },
      "text/plain": [
       "  0%|          | 0/4001 [00:00<?, ?it/s]"
      ]
     },
     "metadata": {},
     "output_type": "display_data"
    },
    {
     "data": {
      "application/vnd.jupyter.widget-view+json": {
       "model_id": "",
       "version_major": 2,
       "version_minor": 0
      },
      "text/plain": [
       "  0%|          | 0/4001 [00:00<?, ?it/s]"
      ]
     },
     "metadata": {},
     "output_type": "display_data"
    },
    {
     "data": {
      "application/vnd.jupyter.widget-view+json": {
       "model_id": "",
       "version_major": 2,
       "version_minor": 0
      },
      "text/plain": [
       "  0%|          | 0/4001 [00:00<?, ?it/s]"
      ]
     },
     "metadata": {},
     "output_type": "display_data"
    },
    {
     "data": {
      "application/vnd.jupyter.widget-view+json": {
       "model_id": "",
       "version_major": 2,
       "version_minor": 0
      },
      "text/plain": [
       "  0%|          | 0/4001 [00:00<?, ?it/s]"
      ]
     },
     "metadata": {},
     "output_type": "display_data"
    },
    {
     "data": {
      "application/vnd.jupyter.widget-view+json": {
       "model_id": "",
       "version_major": 2,
       "version_minor": 0
      },
      "text/plain": [
       "  0%|          | 0/4001 [00:00<?, ?it/s]"
      ]
     },
     "metadata": {},
     "output_type": "display_data"
    },
    {
     "data": {
      "application/vnd.jupyter.widget-view+json": {
       "model_id": "",
       "version_major": 2,
       "version_minor": 0
      },
      "text/plain": [
       "  0%|          | 0/4001 [00:00<?, ?it/s]"
      ]
     },
     "metadata": {},
     "output_type": "display_data"
    },
    {
     "data": {
      "application/vnd.jupyter.widget-view+json": {
       "model_id": "",
       "version_major": 2,
       "version_minor": 0
      },
      "text/plain": [
       "  0%|          | 0/4001 [00:00<?, ?it/s]"
      ]
     },
     "metadata": {},
     "output_type": "display_data"
    },
    {
     "data": {
      "application/vnd.jupyter.widget-view+json": {
       "model_id": "",
       "version_major": 2,
       "version_minor": 0
      },
      "text/plain": [
       "  0%|          | 0/4001 [00:00<?, ?it/s]"
      ]
     },
     "metadata": {},
     "output_type": "display_data"
    },
    {
     "data": {
      "application/vnd.jupyter.widget-view+json": {
       "model_id": "",
       "version_major": 2,
       "version_minor": 0
      },
      "text/plain": [
       "  0%|          | 0/4001 [00:00<?, ?it/s]"
      ]
     },
     "metadata": {},
     "output_type": "display_data"
    },
    {
     "data": {
      "application/vnd.jupyter.widget-view+json": {
       "model_id": "",
       "version_major": 2,
       "version_minor": 0
      },
      "text/plain": [
       "  0%|          | 0/4001 [00:00<?, ?it/s]"
      ]
     },
     "metadata": {},
     "output_type": "display_data"
    },
    {
     "data": {
      "application/vnd.jupyter.widget-view+json": {
       "model_id": "",
       "version_major": 2,
       "version_minor": 0
      },
      "text/plain": [
       "  0%|          | 0/4001 [00:00<?, ?it/s]"
      ]
     },
     "metadata": {},
     "output_type": "display_data"
    },
    {
     "data": {
      "application/vnd.jupyter.widget-view+json": {
       "model_id": "",
       "version_major": 2,
       "version_minor": 0
      },
      "text/plain": [
       "  0%|          | 0/4001 [00:00<?, ?it/s]"
      ]
     },
     "metadata": {},
     "output_type": "display_data"
    },
    {
     "data": {
      "application/vnd.jupyter.widget-view+json": {
       "model_id": "",
       "version_major": 2,
       "version_minor": 0
      },
      "text/plain": [
       "  0%|          | 0/4001 [00:00<?, ?it/s]"
      ]
     },
     "metadata": {},
     "output_type": "display_data"
    },
    {
     "data": {
      "application/vnd.jupyter.widget-view+json": {
       "model_id": "",
       "version_major": 2,
       "version_minor": 0
      },
      "text/plain": [
       "  0%|          | 0/4001 [00:00<?, ?it/s]"
      ]
     },
     "metadata": {},
     "output_type": "display_data"
    },
    {
     "data": {
      "application/vnd.jupyter.widget-view+json": {
       "model_id": "",
       "version_major": 2,
       "version_minor": 0
      },
      "text/plain": [
       "  0%|          | 0/4001 [00:00<?, ?it/s]"
      ]
     },
     "metadata": {},
     "output_type": "display_data"
    },
    {
     "data": {
      "application/vnd.jupyter.widget-view+json": {
       "model_id": "",
       "version_major": 2,
       "version_minor": 0
      },
      "text/plain": [
       "  0%|          | 0/4001 [00:00<?, ?it/s]"
      ]
     },
     "metadata": {},
     "output_type": "display_data"
    },
    {
     "data": {
      "application/vnd.jupyter.widget-view+json": {
       "model_id": "",
       "version_major": 2,
       "version_minor": 0
      },
      "text/plain": [
       "  0%|          | 0/4001 [00:00<?, ?it/s]"
      ]
     },
     "metadata": {},
     "output_type": "display_data"
    },
    {
     "data": {
      "application/vnd.jupyter.widget-view+json": {
       "model_id": "",
       "version_major": 2,
       "version_minor": 0
      },
      "text/plain": [
       "  0%|          | 0/4001 [00:00<?, ?it/s]"
      ]
     },
     "metadata": {},
     "output_type": "display_data"
    },
    {
     "data": {
      "application/vnd.jupyter.widget-view+json": {
       "model_id": "",
       "version_major": 2,
       "version_minor": 0
      },
      "text/plain": [
       "  0%|          | 0/4001 [00:00<?, ?it/s]"
      ]
     },
     "metadata": {},
     "output_type": "display_data"
    },
    {
     "data": {
      "application/vnd.jupyter.widget-view+json": {
       "model_id": "",
       "version_major": 2,
       "version_minor": 0
      },
      "text/plain": [
       "  0%|          | 0/4001 [00:00<?, ?it/s]"
      ]
     },
     "metadata": {},
     "output_type": "display_data"
    },
    {
     "data": {
      "application/vnd.jupyter.widget-view+json": {
       "model_id": "",
       "version_major": 2,
       "version_minor": 0
      },
      "text/plain": [
       "  0%|          | 0/4001 [00:00<?, ?it/s]"
      ]
     },
     "metadata": {},
     "output_type": "display_data"
    },
    {
     "data": {
      "application/vnd.jupyter.widget-view+json": {
       "model_id": "",
       "version_major": 2,
       "version_minor": 0
      },
      "text/plain": [
       "  0%|          | 0/4001 [00:00<?, ?it/s]"
      ]
     },
     "metadata": {},
     "output_type": "display_data"
    },
    {
     "data": {
      "application/vnd.jupyter.widget-view+json": {
       "model_id": "",
       "version_major": 2,
       "version_minor": 0
      },
      "text/plain": [
       "  0%|          | 0/4001 [00:00<?, ?it/s]"
      ]
     },
     "metadata": {},
     "output_type": "display_data"
    },
    {
     "data": {
      "application/vnd.jupyter.widget-view+json": {
       "model_id": "",
       "version_major": 2,
       "version_minor": 0
      },
      "text/plain": [
       "  0%|          | 0/4001 [00:00<?, ?it/s]"
      ]
     },
     "metadata": {},
     "output_type": "display_data"
    },
    {
     "data": {
      "application/vnd.jupyter.widget-view+json": {
       "model_id": "",
       "version_major": 2,
       "version_minor": 0
      },
      "text/plain": [
       "  0%|          | 0/4001 [00:00<?, ?it/s]"
      ]
     },
     "metadata": {},
     "output_type": "display_data"
    },
    {
     "data": {
      "application/vnd.jupyter.widget-view+json": {
       "model_id": "",
       "version_major": 2,
       "version_minor": 0
      },
      "text/plain": [
       "  0%|          | 0/4001 [00:00<?, ?it/s]"
      ]
     },
     "metadata": {},
     "output_type": "display_data"
    },
    {
     "data": {
      "application/vnd.jupyter.widget-view+json": {
       "model_id": "",
       "version_major": 2,
       "version_minor": 0
      },
      "text/plain": [
       "  0%|          | 0/4001 [00:00<?, ?it/s]"
      ]
     },
     "metadata": {},
     "output_type": "display_data"
    },
    {
     "data": {
      "application/vnd.jupyter.widget-view+json": {
       "model_id": "",
       "version_major": 2,
       "version_minor": 0
      },
      "text/plain": [
       "  0%|          | 0/4001 [00:00<?, ?it/s]"
      ]
     },
     "metadata": {},
     "output_type": "display_data"
    },
    {
     "data": {
      "application/vnd.jupyter.widget-view+json": {
       "model_id": "",
       "version_major": 2,
       "version_minor": 0
      },
      "text/plain": [
       "  0%|          | 0/4001 [00:00<?, ?it/s]"
      ]
     },
     "metadata": {},
     "output_type": "display_data"
    },
    {
     "data": {
      "application/vnd.jupyter.widget-view+json": {
       "model_id": "",
       "version_major": 2,
       "version_minor": 0
      },
      "text/plain": [
       "  0%|          | 0/4001 [00:00<?, ?it/s]"
      ]
     },
     "metadata": {},
     "output_type": "display_data"
    },
    {
     "data": {
      "application/vnd.jupyter.widget-view+json": {
       "model_id": "",
       "version_major": 2,
       "version_minor": 0
      },
      "text/plain": [
       "  0%|          | 0/4001 [00:00<?, ?it/s]"
      ]
     },
     "metadata": {},
     "output_type": "display_data"
    },
    {
     "data": {
      "application/vnd.jupyter.widget-view+json": {
       "model_id": "",
       "version_major": 2,
       "version_minor": 0
      },
      "text/plain": [
       "  0%|          | 0/4001 [00:00<?, ?it/s]"
      ]
     },
     "metadata": {},
     "output_type": "display_data"
    },
    {
     "data": {
      "application/vnd.jupyter.widget-view+json": {
       "model_id": "",
       "version_major": 2,
       "version_minor": 0
      },
      "text/plain": [
       "  0%|          | 0/4001 [00:00<?, ?it/s]"
      ]
     },
     "metadata": {},
     "output_type": "display_data"
    },
    {
     "data": {
      "application/vnd.jupyter.widget-view+json": {
       "model_id": "",
       "version_major": 2,
       "version_minor": 0
      },
      "text/plain": [
       "  0%|          | 0/4001 [00:00<?, ?it/s]"
      ]
     },
     "metadata": {},
     "output_type": "display_data"
    },
    {
     "data": {
      "application/vnd.jupyter.widget-view+json": {
       "model_id": "",
       "version_major": 2,
       "version_minor": 0
      },
      "text/plain": [
       "  0%|          | 0/4001 [00:00<?, ?it/s]"
      ]
     },
     "metadata": {},
     "output_type": "display_data"
    },
    {
     "data": {
      "application/vnd.jupyter.widget-view+json": {
       "model_id": "",
       "version_major": 2,
       "version_minor": 0
      },
      "text/plain": [
       "  0%|          | 0/4001 [00:00<?, ?it/s]"
      ]
     },
     "metadata": {},
     "output_type": "display_data"
    },
    {
     "data": {
      "application/vnd.jupyter.widget-view+json": {
       "model_id": "",
       "version_major": 2,
       "version_minor": 0
      },
      "text/plain": [
       "  0%|          | 0/4001 [00:00<?, ?it/s]"
      ]
     },
     "metadata": {},
     "output_type": "display_data"
    },
    {
     "data": {
      "application/vnd.jupyter.widget-view+json": {
       "model_id": "",
       "version_major": 2,
       "version_minor": 0
      },
      "text/plain": [
       "  0%|          | 0/4001 [00:00<?, ?it/s]"
      ]
     },
     "metadata": {},
     "output_type": "display_data"
    },
    {
     "data": {
      "application/vnd.jupyter.widget-view+json": {
       "model_id": "",
       "version_major": 2,
       "version_minor": 0
      },
      "text/plain": [
       "  0%|          | 0/4001 [00:00<?, ?it/s]"
      ]
     },
     "metadata": {},
     "output_type": "display_data"
    },
    {
     "data": {
      "application/vnd.jupyter.widget-view+json": {
       "model_id": "",
       "version_major": 2,
       "version_minor": 0
      },
      "text/plain": [
       "  0%|          | 0/4001 [00:00<?, ?it/s]"
      ]
     },
     "metadata": {},
     "output_type": "display_data"
    },
    {
     "data": {
      "application/vnd.jupyter.widget-view+json": {
       "model_id": "",
       "version_major": 2,
       "version_minor": 0
      },
      "text/plain": [
       "  0%|          | 0/4001 [00:00<?, ?it/s]"
      ]
     },
     "metadata": {},
     "output_type": "display_data"
    },
    {
     "data": {
      "application/vnd.jupyter.widget-view+json": {
       "model_id": "",
       "version_major": 2,
       "version_minor": 0
      },
      "text/plain": [
       "  0%|          | 0/4001 [00:00<?, ?it/s]"
      ]
     },
     "metadata": {},
     "output_type": "display_data"
    },
    {
     "data": {
      "application/vnd.jupyter.widget-view+json": {
       "model_id": "",
       "version_major": 2,
       "version_minor": 0
      },
      "text/plain": [
       "  0%|          | 0/4001 [00:00<?, ?it/s]"
      ]
     },
     "metadata": {},
     "output_type": "display_data"
    },
    {
     "data": {
      "application/vnd.jupyter.widget-view+json": {
       "model_id": "",
       "version_major": 2,
       "version_minor": 0
      },
      "text/plain": [
       "  0%|          | 0/4001 [00:00<?, ?it/s]"
      ]
     },
     "metadata": {},
     "output_type": "display_data"
    },
    {
     "data": {
      "application/vnd.jupyter.widget-view+json": {
       "model_id": "",
       "version_major": 2,
       "version_minor": 0
      },
      "text/plain": [
       "  0%|          | 0/4001 [00:00<?, ?it/s]"
      ]
     },
     "metadata": {},
     "output_type": "display_data"
    },
    {
     "data": {
      "application/vnd.jupyter.widget-view+json": {
       "model_id": "",
       "version_major": 2,
       "version_minor": 0
      },
      "text/plain": [
       "  0%|          | 0/4001 [00:00<?, ?it/s]"
      ]
     },
     "metadata": {},
     "output_type": "display_data"
    },
    {
     "data": {
      "application/vnd.jupyter.widget-view+json": {
       "model_id": "",
       "version_major": 2,
       "version_minor": 0
      },
      "text/plain": [
       "  0%|          | 0/4001 [00:00<?, ?it/s]"
      ]
     },
     "metadata": {},
     "output_type": "display_data"
    },
    {
     "data": {
      "application/vnd.jupyter.widget-view+json": {
       "model_id": "",
       "version_major": 2,
       "version_minor": 0
      },
      "text/plain": [
       "  0%|          | 0/4001 [00:00<?, ?it/s]"
      ]
     },
     "metadata": {},
     "output_type": "display_data"
    },
    {
     "data": {
      "application/vnd.jupyter.widget-view+json": {
       "model_id": "",
       "version_major": 2,
       "version_minor": 0
      },
      "text/plain": [
       "  0%|          | 0/4001 [00:00<?, ?it/s]"
      ]
     },
     "metadata": {},
     "output_type": "display_data"
    },
    {
     "data": {
      "application/vnd.jupyter.widget-view+json": {
       "model_id": "",
       "version_major": 2,
       "version_minor": 0
      },
      "text/plain": [
       "  0%|          | 0/4001 [00:00<?, ?it/s]"
      ]
     },
     "metadata": {},
     "output_type": "display_data"
    },
    {
     "data": {
      "application/vnd.jupyter.widget-view+json": {
       "model_id": "",
       "version_major": 2,
       "version_minor": 0
      },
      "text/plain": [
       "  0%|          | 0/4001 [00:00<?, ?it/s]"
      ]
     },
     "metadata": {},
     "output_type": "display_data"
    },
    {
     "data": {
      "application/vnd.jupyter.widget-view+json": {
       "model_id": "",
       "version_major": 2,
       "version_minor": 0
      },
      "text/plain": [
       "  0%|          | 0/4001 [00:00<?, ?it/s]"
      ]
     },
     "metadata": {},
     "output_type": "display_data"
    },
    {
     "data": {
      "application/vnd.jupyter.widget-view+json": {
       "model_id": "",
       "version_major": 2,
       "version_minor": 0
      },
      "text/plain": [
       "  0%|          | 0/4001 [00:00<?, ?it/s]"
      ]
     },
     "metadata": {},
     "output_type": "display_data"
    },
    {
     "data": {
      "application/vnd.jupyter.widget-view+json": {
       "model_id": "",
       "version_major": 2,
       "version_minor": 0
      },
      "text/plain": [
       "  0%|          | 0/4001 [00:00<?, ?it/s]"
      ]
     },
     "metadata": {},
     "output_type": "display_data"
    },
    {
     "data": {
      "application/vnd.jupyter.widget-view+json": {
       "model_id": "",
       "version_major": 2,
       "version_minor": 0
      },
      "text/plain": [
       "  0%|          | 0/4001 [00:00<?, ?it/s]"
      ]
     },
     "metadata": {},
     "output_type": "display_data"
    },
    {
     "data": {
      "application/vnd.jupyter.widget-view+json": {
       "model_id": "",
       "version_major": 2,
       "version_minor": 0
      },
      "text/plain": [
       "  0%|          | 0/4001 [00:00<?, ?it/s]"
      ]
     },
     "metadata": {},
     "output_type": "display_data"
    },
    {
     "data": {
      "application/vnd.jupyter.widget-view+json": {
       "model_id": "",
       "version_major": 2,
       "version_minor": 0
      },
      "text/plain": [
       "  0%|          | 0/4001 [00:00<?, ?it/s]"
      ]
     },
     "metadata": {},
     "output_type": "display_data"
    },
    {
     "data": {
      "application/vnd.jupyter.widget-view+json": {
       "model_id": "",
       "version_major": 2,
       "version_minor": 0
      },
      "text/plain": [
       "  0%|          | 0/4001 [00:00<?, ?it/s]"
      ]
     },
     "metadata": {},
     "output_type": "display_data"
    },
    {
     "data": {
      "application/vnd.jupyter.widget-view+json": {
       "model_id": "",
       "version_major": 2,
       "version_minor": 0
      },
      "text/plain": [
       "  0%|          | 0/4001 [00:00<?, ?it/s]"
      ]
     },
     "metadata": {},
     "output_type": "display_data"
    },
    {
     "data": {
      "application/vnd.jupyter.widget-view+json": {
       "model_id": "",
       "version_major": 2,
       "version_minor": 0
      },
      "text/plain": [
       "  0%|          | 0/4001 [00:00<?, ?it/s]"
      ]
     },
     "metadata": {},
     "output_type": "display_data"
    },
    {
     "data": {
      "application/vnd.jupyter.widget-view+json": {
       "model_id": "",
       "version_major": 2,
       "version_minor": 0
      },
      "text/plain": [
       "  0%|          | 0/4001 [00:00<?, ?it/s]"
      ]
     },
     "metadata": {},
     "output_type": "display_data"
    },
    {
     "data": {
      "application/vnd.jupyter.widget-view+json": {
       "model_id": "",
       "version_major": 2,
       "version_minor": 0
      },
      "text/plain": [
       "  0%|          | 0/4001 [00:00<?, ?it/s]"
      ]
     },
     "metadata": {},
     "output_type": "display_data"
    },
    {
     "data": {
      "application/vnd.jupyter.widget-view+json": {
       "model_id": "",
       "version_major": 2,
       "version_minor": 0
      },
      "text/plain": [
       "  0%|          | 0/4001 [00:00<?, ?it/s]"
      ]
     },
     "metadata": {},
     "output_type": "display_data"
    },
    {
     "data": {
      "application/vnd.jupyter.widget-view+json": {
       "model_id": "",
       "version_major": 2,
       "version_minor": 0
      },
      "text/plain": [
       "  0%|          | 0/4001 [00:00<?, ?it/s]"
      ]
     },
     "metadata": {},
     "output_type": "display_data"
    },
    {
     "data": {
      "application/vnd.jupyter.widget-view+json": {
       "model_id": "",
       "version_major": 2,
       "version_minor": 0
      },
      "text/plain": [
       "  0%|          | 0/4001 [00:00<?, ?it/s]"
      ]
     },
     "metadata": {},
     "output_type": "display_data"
    },
    {
     "data": {
      "application/vnd.jupyter.widget-view+json": {
       "model_id": "",
       "version_major": 2,
       "version_minor": 0
      },
      "text/plain": [
       "  0%|          | 0/4001 [00:00<?, ?it/s]"
      ]
     },
     "metadata": {},
     "output_type": "display_data"
    },
    {
     "data": {
      "application/vnd.jupyter.widget-view+json": {
       "model_id": "",
       "version_major": 2,
       "version_minor": 0
      },
      "text/plain": [
       "  0%|          | 0/4001 [00:00<?, ?it/s]"
      ]
     },
     "metadata": {},
     "output_type": "display_data"
    },
    {
     "data": {
      "application/vnd.jupyter.widget-view+json": {
       "model_id": "",
       "version_major": 2,
       "version_minor": 0
      },
      "text/plain": [
       "  0%|          | 0/4001 [00:00<?, ?it/s]"
      ]
     },
     "metadata": {},
     "output_type": "display_data"
    },
    {
     "data": {
      "application/vnd.jupyter.widget-view+json": {
       "model_id": "",
       "version_major": 2,
       "version_minor": 0
      },
      "text/plain": [
       "  0%|          | 0/4001 [00:00<?, ?it/s]"
      ]
     },
     "metadata": {},
     "output_type": "display_data"
    },
    {
     "data": {
      "application/vnd.jupyter.widget-view+json": {
       "model_id": "",
       "version_major": 2,
       "version_minor": 0
      },
      "text/plain": [
       "  0%|          | 0/4001 [00:00<?, ?it/s]"
      ]
     },
     "metadata": {},
     "output_type": "display_data"
    },
    {
     "data": {
      "application/vnd.jupyter.widget-view+json": {
       "model_id": "",
       "version_major": 2,
       "version_minor": 0
      },
      "text/plain": [
       "  0%|          | 0/4001 [00:00<?, ?it/s]"
      ]
     },
     "metadata": {},
     "output_type": "display_data"
    },
    {
     "data": {
      "application/vnd.jupyter.widget-view+json": {
       "model_id": "",
       "version_major": 2,
       "version_minor": 0
      },
      "text/plain": [
       "  0%|          | 0/4001 [00:00<?, ?it/s]"
      ]
     },
     "metadata": {},
     "output_type": "display_data"
    },
    {
     "data": {
      "application/vnd.jupyter.widget-view+json": {
       "model_id": "",
       "version_major": 2,
       "version_minor": 0
      },
      "text/plain": [
       "  0%|          | 0/4001 [00:00<?, ?it/s]"
      ]
     },
     "metadata": {},
     "output_type": "display_data"
    },
    {
     "data": {
      "application/vnd.jupyter.widget-view+json": {
       "model_id": "",
       "version_major": 2,
       "version_minor": 0
      },
      "text/plain": [
       "  0%|          | 0/4001 [00:00<?, ?it/s]"
      ]
     },
     "metadata": {},
     "output_type": "display_data"
    },
    {
     "data": {
      "application/vnd.jupyter.widget-view+json": {
       "model_id": "",
       "version_major": 2,
       "version_minor": 0
      },
      "text/plain": [
       "  0%|          | 0/4001 [00:00<?, ?it/s]"
      ]
     },
     "metadata": {},
     "output_type": "display_data"
    },
    {
     "data": {
      "application/vnd.jupyter.widget-view+json": {
       "model_id": "",
       "version_major": 2,
       "version_minor": 0
      },
      "text/plain": [
       "  0%|          | 0/4001 [00:00<?, ?it/s]"
      ]
     },
     "metadata": {},
     "output_type": "display_data"
    },
    {
     "data": {
      "application/vnd.jupyter.widget-view+json": {
       "model_id": "",
       "version_major": 2,
       "version_minor": 0
      },
      "text/plain": [
       "  0%|          | 0/4001 [00:00<?, ?it/s]"
      ]
     },
     "metadata": {},
     "output_type": "display_data"
    },
    {
     "data": {
      "application/vnd.jupyter.widget-view+json": {
       "model_id": "",
       "version_major": 2,
       "version_minor": 0
      },
      "text/plain": [
       "  0%|          | 0/4001 [00:00<?, ?it/s]"
      ]
     },
     "metadata": {},
     "output_type": "display_data"
    },
    {
     "data": {
      "application/vnd.jupyter.widget-view+json": {
       "model_id": "",
       "version_major": 2,
       "version_minor": 0
      },
      "text/plain": [
       "  0%|          | 0/4001 [00:00<?, ?it/s]"
      ]
     },
     "metadata": {},
     "output_type": "display_data"
    },
    {
     "data": {
      "application/vnd.jupyter.widget-view+json": {
       "model_id": "",
       "version_major": 2,
       "version_minor": 0
      },
      "text/plain": [
       "  0%|          | 0/4001 [00:00<?, ?it/s]"
      ]
     },
     "metadata": {},
     "output_type": "display_data"
    },
    {
     "data": {
      "application/vnd.jupyter.widget-view+json": {
       "model_id": "",
       "version_major": 2,
       "version_minor": 0
      },
      "text/plain": [
       "  0%|          | 0/4001 [00:00<?, ?it/s]"
      ]
     },
     "metadata": {},
     "output_type": "display_data"
    },
    {
     "data": {
      "application/vnd.jupyter.widget-view+json": {
       "model_id": "",
       "version_major": 2,
       "version_minor": 0
      },
      "text/plain": [
       "  0%|          | 0/4001 [00:00<?, ?it/s]"
      ]
     },
     "metadata": {},
     "output_type": "display_data"
    },
    {
     "data": {
      "application/vnd.jupyter.widget-view+json": {
       "model_id": "",
       "version_major": 2,
       "version_minor": 0
      },
      "text/plain": [
       "  0%|          | 0/4001 [00:00<?, ?it/s]"
      ]
     },
     "metadata": {},
     "output_type": "display_data"
    },
    {
     "data": {
      "application/vnd.jupyter.widget-view+json": {
       "model_id": "",
       "version_major": 2,
       "version_minor": 0
      },
      "text/plain": [
       "  0%|          | 0/4001 [00:00<?, ?it/s]"
      ]
     },
     "metadata": {},
     "output_type": "display_data"
    },
    {
     "data": {
      "application/vnd.jupyter.widget-view+json": {
       "model_id": "",
       "version_major": 2,
       "version_minor": 0
      },
      "text/plain": [
       "  0%|          | 0/4001 [00:00<?, ?it/s]"
      ]
     },
     "metadata": {},
     "output_type": "display_data"
    },
    {
     "data": {
      "application/vnd.jupyter.widget-view+json": {
       "model_id": "",
       "version_major": 2,
       "version_minor": 0
      },
      "text/plain": [
       "  0%|          | 0/4001 [00:00<?, ?it/s]"
      ]
     },
     "metadata": {},
     "output_type": "display_data"
    },
    {
     "data": {
      "application/vnd.jupyter.widget-view+json": {
       "model_id": "",
       "version_major": 2,
       "version_minor": 0
      },
      "text/plain": [
       "  0%|          | 0/4001 [00:00<?, ?it/s]"
      ]
     },
     "metadata": {},
     "output_type": "display_data"
    },
    {
     "data": {
      "application/vnd.jupyter.widget-view+json": {
       "model_id": "",
       "version_major": 2,
       "version_minor": 0
      },
      "text/plain": [
       "  0%|          | 0/4001 [00:00<?, ?it/s]"
      ]
     },
     "metadata": {},
     "output_type": "display_data"
    },
    {
     "data": {
      "application/vnd.jupyter.widget-view+json": {
       "model_id": "",
       "version_major": 2,
       "version_minor": 0
      },
      "text/plain": [
       "  0%|          | 0/4001 [00:00<?, ?it/s]"
      ]
     },
     "metadata": {},
     "output_type": "display_data"
    },
    {
     "data": {
      "application/vnd.jupyter.widget-view+json": {
       "model_id": "",
       "version_major": 2,
       "version_minor": 0
      },
      "text/plain": [
       "  0%|          | 0/4001 [00:00<?, ?it/s]"
      ]
     },
     "metadata": {},
     "output_type": "display_data"
    },
    {
     "data": {
      "application/vnd.jupyter.widget-view+json": {
       "model_id": "",
       "version_major": 2,
       "version_minor": 0
      },
      "text/plain": [
       "  0%|          | 0/4001 [00:00<?, ?it/s]"
      ]
     },
     "metadata": {},
     "output_type": "display_data"
    },
    {
     "data": {
      "application/vnd.jupyter.widget-view+json": {
       "model_id": "",
       "version_major": 2,
       "version_minor": 0
      },
      "text/plain": [
       "  0%|          | 0/4001 [00:00<?, ?it/s]"
      ]
     },
     "metadata": {},
     "output_type": "display_data"
    },
    {
     "data": {
      "application/vnd.jupyter.widget-view+json": {
       "model_id": "",
       "version_major": 2,
       "version_minor": 0
      },
      "text/plain": [
       "  0%|          | 0/4001 [00:00<?, ?it/s]"
      ]
     },
     "metadata": {},
     "output_type": "display_data"
    },
    {
     "data": {
      "application/vnd.jupyter.widget-view+json": {
       "model_id": "",
       "version_major": 2,
       "version_minor": 0
      },
      "text/plain": [
       "  0%|          | 0/4001 [00:00<?, ?it/s]"
      ]
     },
     "metadata": {},
     "output_type": "display_data"
    },
    {
     "data": {
      "application/vnd.jupyter.widget-view+json": {
       "model_id": "",
       "version_major": 2,
       "version_minor": 0
      },
      "text/plain": [
       "  0%|          | 0/4001 [00:00<?, ?it/s]"
      ]
     },
     "metadata": {},
     "output_type": "display_data"
    },
    {
     "data": {
      "application/vnd.jupyter.widget-view+json": {
       "model_id": "",
       "version_major": 2,
       "version_minor": 0
      },
      "text/plain": [
       "  0%|          | 0/4001 [00:00<?, ?it/s]"
      ]
     },
     "metadata": {},
     "output_type": "display_data"
    },
    {
     "data": {
      "application/vnd.jupyter.widget-view+json": {
       "model_id": "",
       "version_major": 2,
       "version_minor": 0
      },
      "text/plain": [
       "  0%|          | 0/4001 [00:00<?, ?it/s]"
      ]
     },
     "metadata": {},
     "output_type": "display_data"
    },
    {
     "data": {
      "application/vnd.jupyter.widget-view+json": {
       "model_id": "",
       "version_major": 2,
       "version_minor": 0
      },
      "text/plain": [
       "  0%|          | 0/4001 [00:00<?, ?it/s]"
      ]
     },
     "metadata": {},
     "output_type": "display_data"
    },
    {
     "data": {
      "application/vnd.jupyter.widget-view+json": {
       "model_id": "",
       "version_major": 2,
       "version_minor": 0
      },
      "text/plain": [
       "  0%|          | 0/4001 [00:00<?, ?it/s]"
      ]
     },
     "metadata": {},
     "output_type": "display_data"
    },
    {
     "data": {
      "application/vnd.jupyter.widget-view+json": {
       "model_id": "",
       "version_major": 2,
       "version_minor": 0
      },
      "text/plain": [
       "  0%|          | 0/4001 [00:00<?, ?it/s]"
      ]
     },
     "metadata": {},
     "output_type": "display_data"
    },
    {
     "data": {
      "application/vnd.jupyter.widget-view+json": {
       "model_id": "",
       "version_major": 2,
       "version_minor": 0
      },
      "text/plain": [
       "  0%|          | 0/4001 [00:00<?, ?it/s]"
      ]
     },
     "metadata": {},
     "output_type": "display_data"
    },
    {
     "data": {
      "application/vnd.jupyter.widget-view+json": {
       "model_id": "",
       "version_major": 2,
       "version_minor": 0
      },
      "text/plain": [
       "  0%|          | 0/4001 [00:00<?, ?it/s]"
      ]
     },
     "metadata": {},
     "output_type": "display_data"
    },
    {
     "data": {
      "application/vnd.jupyter.widget-view+json": {
       "model_id": "",
       "version_major": 2,
       "version_minor": 0
      },
      "text/plain": [
       "  0%|          | 0/4001 [00:00<?, ?it/s]"
      ]
     },
     "metadata": {},
     "output_type": "display_data"
    },
    {
     "data": {
      "application/vnd.jupyter.widget-view+json": {
       "model_id": "",
       "version_major": 2,
       "version_minor": 0
      },
      "text/plain": [
       "  0%|          | 0/4001 [00:00<?, ?it/s]"
      ]
     },
     "metadata": {},
     "output_type": "display_data"
    },
    {
     "data": {
      "application/vnd.jupyter.widget-view+json": {
       "model_id": "",
       "version_major": 2,
       "version_minor": 0
      },
      "text/plain": [
       "  0%|          | 0/4001 [00:00<?, ?it/s]"
      ]
     },
     "metadata": {},
     "output_type": "display_data"
    },
    {
     "data": {
      "application/vnd.jupyter.widget-view+json": {
       "model_id": "",
       "version_major": 2,
       "version_minor": 0
      },
      "text/plain": [
       "  0%|          | 0/4001 [00:00<?, ?it/s]"
      ]
     },
     "metadata": {},
     "output_type": "display_data"
    },
    {
     "data": {
      "application/vnd.jupyter.widget-view+json": {
       "model_id": "",
       "version_major": 2,
       "version_minor": 0
      },
      "text/plain": [
       "  0%|          | 0/4001 [00:00<?, ?it/s]"
      ]
     },
     "metadata": {},
     "output_type": "display_data"
    },
    {
     "data": {
      "application/vnd.jupyter.widget-view+json": {
       "model_id": "",
       "version_major": 2,
       "version_minor": 0
      },
      "text/plain": [
       "  0%|          | 0/4001 [00:00<?, ?it/s]"
      ]
     },
     "metadata": {},
     "output_type": "display_data"
    },
    {
     "data": {
      "application/vnd.jupyter.widget-view+json": {
       "model_id": "",
       "version_major": 2,
       "version_minor": 0
      },
      "text/plain": [
       "  0%|          | 0/4001 [00:00<?, ?it/s]"
      ]
     },
     "metadata": {},
     "output_type": "display_data"
    },
    {
     "data": {
      "application/vnd.jupyter.widget-view+json": {
       "model_id": "",
       "version_major": 2,
       "version_minor": 0
      },
      "text/plain": [
       "  0%|          | 0/4001 [00:00<?, ?it/s]"
      ]
     },
     "metadata": {},
     "output_type": "display_data"
    },
    {
     "data": {
      "application/vnd.jupyter.widget-view+json": {
       "model_id": "",
       "version_major": 2,
       "version_minor": 0
      },
      "text/plain": [
       "  0%|          | 0/4001 [00:00<?, ?it/s]"
      ]
     },
     "metadata": {},
     "output_type": "display_data"
    },
    {
     "data": {
      "application/vnd.jupyter.widget-view+json": {
       "model_id": "",
       "version_major": 2,
       "version_minor": 0
      },
      "text/plain": [
       "  0%|          | 0/4001 [00:00<?, ?it/s]"
      ]
     },
     "metadata": {},
     "output_type": "display_data"
    },
    {
     "data": {
      "application/vnd.jupyter.widget-view+json": {
       "model_id": "",
       "version_major": 2,
       "version_minor": 0
      },
      "text/plain": [
       "  0%|          | 0/4001 [00:00<?, ?it/s]"
      ]
     },
     "metadata": {},
     "output_type": "display_data"
    },
    {
     "data": {
      "application/vnd.jupyter.widget-view+json": {
       "model_id": "",
       "version_major": 2,
       "version_minor": 0
      },
      "text/plain": [
       "  0%|          | 0/4001 [00:00<?, ?it/s]"
      ]
     },
     "metadata": {},
     "output_type": "display_data"
    },
    {
     "data": {
      "application/vnd.jupyter.widget-view+json": {
       "model_id": "",
       "version_major": 2,
       "version_minor": 0
      },
      "text/plain": [
       "  0%|          | 0/4001 [00:00<?, ?it/s]"
      ]
     },
     "metadata": {},
     "output_type": "display_data"
    },
    {
     "data": {
      "application/vnd.jupyter.widget-view+json": {
       "model_id": "",
       "version_major": 2,
       "version_minor": 0
      },
      "text/plain": [
       "  0%|          | 0/4001 [00:00<?, ?it/s]"
      ]
     },
     "metadata": {},
     "output_type": "display_data"
    },
    {
     "data": {
      "application/vnd.jupyter.widget-view+json": {
       "model_id": "",
       "version_major": 2,
       "version_minor": 0
      },
      "text/plain": [
       "  0%|          | 0/4001 [00:00<?, ?it/s]"
      ]
     },
     "metadata": {},
     "output_type": "display_data"
    },
    {
     "data": {
      "application/vnd.jupyter.widget-view+json": {
       "model_id": "",
       "version_major": 2,
       "version_minor": 0
      },
      "text/plain": [
       "  0%|          | 0/4001 [00:00<?, ?it/s]"
      ]
     },
     "metadata": {},
     "output_type": "display_data"
    },
    {
     "data": {
      "application/vnd.jupyter.widget-view+json": {
       "model_id": "",
       "version_major": 2,
       "version_minor": 0
      },
      "text/plain": [
       "  0%|          | 0/4001 [00:00<?, ?it/s]"
      ]
     },
     "metadata": {},
     "output_type": "display_data"
    },
    {
     "data": {
      "application/vnd.jupyter.widget-view+json": {
       "model_id": "",
       "version_major": 2,
       "version_minor": 0
      },
      "text/plain": [
       "  0%|          | 0/4001 [00:00<?, ?it/s]"
      ]
     },
     "metadata": {},
     "output_type": "display_data"
    },
    {
     "data": {
      "application/vnd.jupyter.widget-view+json": {
       "model_id": "",
       "version_major": 2,
       "version_minor": 0
      },
      "text/plain": [
       "  0%|          | 0/4001 [00:00<?, ?it/s]"
      ]
     },
     "metadata": {},
     "output_type": "display_data"
    },
    {
     "data": {
      "application/vnd.jupyter.widget-view+json": {
       "model_id": "",
       "version_major": 2,
       "version_minor": 0
      },
      "text/plain": [
       "  0%|          | 0/4001 [00:00<?, ?it/s]"
      ]
     },
     "metadata": {},
     "output_type": "display_data"
    },
    {
     "data": {
      "application/vnd.jupyter.widget-view+json": {
       "model_id": "",
       "version_major": 2,
       "version_minor": 0
      },
      "text/plain": [
       "  0%|          | 0/4001 [00:00<?, ?it/s]"
      ]
     },
     "metadata": {},
     "output_type": "display_data"
    },
    {
     "data": {
      "application/vnd.jupyter.widget-view+json": {
       "model_id": "",
       "version_major": 2,
       "version_minor": 0
      },
      "text/plain": [
       "  0%|          | 0/4001 [00:00<?, ?it/s]"
      ]
     },
     "metadata": {},
     "output_type": "display_data"
    },
    {
     "data": {
      "application/vnd.jupyter.widget-view+json": {
       "model_id": "",
       "version_major": 2,
       "version_minor": 0
      },
      "text/plain": [
       "  0%|          | 0/4001 [00:00<?, ?it/s]"
      ]
     },
     "metadata": {},
     "output_type": "display_data"
    },
    {
     "data": {
      "application/vnd.jupyter.widget-view+json": {
       "model_id": "",
       "version_major": 2,
       "version_minor": 0
      },
      "text/plain": [
       "  0%|          | 0/4001 [00:00<?, ?it/s]"
      ]
     },
     "metadata": {},
     "output_type": "display_data"
    },
    {
     "data": {
      "application/vnd.jupyter.widget-view+json": {
       "model_id": "",
       "version_major": 2,
       "version_minor": 0
      },
      "text/plain": [
       "  0%|          | 0/4001 [00:00<?, ?it/s]"
      ]
     },
     "metadata": {},
     "output_type": "display_data"
    },
    {
     "data": {
      "application/vnd.jupyter.widget-view+json": {
       "model_id": "",
       "version_major": 2,
       "version_minor": 0
      },
      "text/plain": [
       "  0%|          | 0/4001 [00:00<?, ?it/s]"
      ]
     },
     "metadata": {},
     "output_type": "display_data"
    },
    {
     "data": {
      "application/vnd.jupyter.widget-view+json": {
       "model_id": "",
       "version_major": 2,
       "version_minor": 0
      },
      "text/plain": [
       "  0%|          | 0/4001 [00:00<?, ?it/s]"
      ]
     },
     "metadata": {},
     "output_type": "display_data"
    },
    {
     "data": {
      "application/vnd.jupyter.widget-view+json": {
       "model_id": "",
       "version_major": 2,
       "version_minor": 0
      },
      "text/plain": [
       "  0%|          | 0/4001 [00:00<?, ?it/s]"
      ]
     },
     "metadata": {},
     "output_type": "display_data"
    },
    {
     "data": {
      "application/vnd.jupyter.widget-view+json": {
       "model_id": "",
       "version_major": 2,
       "version_minor": 0
      },
      "text/plain": [
       "  0%|          | 0/4001 [00:00<?, ?it/s]"
      ]
     },
     "metadata": {},
     "output_type": "display_data"
    },
    {
     "data": {
      "application/vnd.jupyter.widget-view+json": {
       "model_id": "",
       "version_major": 2,
       "version_minor": 0
      },
      "text/plain": [
       "  0%|          | 0/4001 [00:00<?, ?it/s]"
      ]
     },
     "metadata": {},
     "output_type": "display_data"
    },
    {
     "data": {
      "application/vnd.jupyter.widget-view+json": {
       "model_id": "",
       "version_major": 2,
       "version_minor": 0
      },
      "text/plain": [
       "  0%|          | 0/4001 [00:00<?, ?it/s]"
      ]
     },
     "metadata": {},
     "output_type": "display_data"
    },
    {
     "data": {
      "application/vnd.jupyter.widget-view+json": {
       "model_id": "",
       "version_major": 2,
       "version_minor": 0
      },
      "text/plain": [
       "  0%|          | 0/4001 [00:00<?, ?it/s]"
      ]
     },
     "metadata": {},
     "output_type": "display_data"
    },
    {
     "data": {
      "application/vnd.jupyter.widget-view+json": {
       "model_id": "",
       "version_major": 2,
       "version_minor": 0
      },
      "text/plain": [
       "  0%|          | 0/4001 [00:00<?, ?it/s]"
      ]
     },
     "metadata": {},
     "output_type": "display_data"
    },
    {
     "data": {
      "application/vnd.jupyter.widget-view+json": {
       "model_id": "",
       "version_major": 2,
       "version_minor": 0
      },
      "text/plain": [
       "  0%|          | 0/4001 [00:00<?, ?it/s]"
      ]
     },
     "metadata": {},
     "output_type": "display_data"
    },
    {
     "data": {
      "application/vnd.jupyter.widget-view+json": {
       "model_id": "",
       "version_major": 2,
       "version_minor": 0
      },
      "text/plain": [
       "  0%|          | 0/4001 [00:00<?, ?it/s]"
      ]
     },
     "metadata": {},
     "output_type": "display_data"
    },
    {
     "data": {
      "application/vnd.jupyter.widget-view+json": {
       "model_id": "",
       "version_major": 2,
       "version_minor": 0
      },
      "text/plain": [
       "  0%|          | 0/4001 [00:00<?, ?it/s]"
      ]
     },
     "metadata": {},
     "output_type": "display_data"
    },
    {
     "data": {
      "application/vnd.jupyter.widget-view+json": {
       "model_id": "",
       "version_major": 2,
       "version_minor": 0
      },
      "text/plain": [
       "  0%|          | 0/4001 [00:00<?, ?it/s]"
      ]
     },
     "metadata": {},
     "output_type": "display_data"
    },
    {
     "data": {
      "application/vnd.jupyter.widget-view+json": {
       "model_id": "",
       "version_major": 2,
       "version_minor": 0
      },
      "text/plain": [
       "  0%|          | 0/4001 [00:00<?, ?it/s]"
      ]
     },
     "metadata": {},
     "output_type": "display_data"
    },
    {
     "data": {
      "application/vnd.jupyter.widget-view+json": {
       "model_id": "",
       "version_major": 2,
       "version_minor": 0
      },
      "text/plain": [
       "  0%|          | 0/4001 [00:00<?, ?it/s]"
      ]
     },
     "metadata": {},
     "output_type": "display_data"
    },
    {
     "data": {
      "application/vnd.jupyter.widget-view+json": {
       "model_id": "",
       "version_major": 2,
       "version_minor": 0
      },
      "text/plain": [
       "  0%|          | 0/4001 [00:00<?, ?it/s]"
      ]
     },
     "metadata": {},
     "output_type": "display_data"
    },
    {
     "data": {
      "application/vnd.jupyter.widget-view+json": {
       "model_id": "",
       "version_major": 2,
       "version_minor": 0
      },
      "text/plain": [
       "  0%|          | 0/4001 [00:00<?, ?it/s]"
      ]
     },
     "metadata": {},
     "output_type": "display_data"
    },
    {
     "data": {
      "application/vnd.jupyter.widget-view+json": {
       "model_id": "",
       "version_major": 2,
       "version_minor": 0
      },
      "text/plain": [
       "  0%|          | 0/4001 [00:00<?, ?it/s]"
      ]
     },
     "metadata": {},
     "output_type": "display_data"
    },
    {
     "data": {
      "application/vnd.jupyter.widget-view+json": {
       "model_id": "",
       "version_major": 2,
       "version_minor": 0
      },
      "text/plain": [
       "  0%|          | 0/4001 [00:00<?, ?it/s]"
      ]
     },
     "metadata": {},
     "output_type": "display_data"
    },
    {
     "data": {
      "application/vnd.jupyter.widget-view+json": {
       "model_id": "",
       "version_major": 2,
       "version_minor": 0
      },
      "text/plain": [
       "  0%|          | 0/4001 [00:00<?, ?it/s]"
      ]
     },
     "metadata": {},
     "output_type": "display_data"
    },
    {
     "data": {
      "application/vnd.jupyter.widget-view+json": {
       "model_id": "",
       "version_major": 2,
       "version_minor": 0
      },
      "text/plain": [
       "  0%|          | 0/4001 [00:00<?, ?it/s]"
      ]
     },
     "metadata": {},
     "output_type": "display_data"
    },
    {
     "data": {
      "application/vnd.jupyter.widget-view+json": {
       "model_id": "",
       "version_major": 2,
       "version_minor": 0
      },
      "text/plain": [
       "  0%|          | 0/4001 [00:00<?, ?it/s]"
      ]
     },
     "metadata": {},
     "output_type": "display_data"
    },
    {
     "data": {
      "application/vnd.jupyter.widget-view+json": {
       "model_id": "",
       "version_major": 2,
       "version_minor": 0
      },
      "text/plain": [
       "  0%|          | 0/4001 [00:00<?, ?it/s]"
      ]
     },
     "metadata": {},
     "output_type": "display_data"
    },
    {
     "data": {
      "application/vnd.jupyter.widget-view+json": {
       "model_id": "",
       "version_major": 2,
       "version_minor": 0
      },
      "text/plain": [
       "  0%|          | 0/4001 [00:00<?, ?it/s]"
      ]
     },
     "metadata": {},
     "output_type": "display_data"
    },
    {
     "data": {
      "application/vnd.jupyter.widget-view+json": {
       "model_id": "",
       "version_major": 2,
       "version_minor": 0
      },
      "text/plain": [
       "  0%|          | 0/4001 [00:00<?, ?it/s]"
      ]
     },
     "metadata": {},
     "output_type": "display_data"
    },
    {
     "data": {
      "application/vnd.jupyter.widget-view+json": {
       "model_id": "",
       "version_major": 2,
       "version_minor": 0
      },
      "text/plain": [
       "  0%|          | 0/4001 [00:00<?, ?it/s]"
      ]
     },
     "metadata": {},
     "output_type": "display_data"
    },
    {
     "data": {
      "application/vnd.jupyter.widget-view+json": {
       "model_id": "",
       "version_major": 2,
       "version_minor": 0
      },
      "text/plain": [
       "  0%|          | 0/4001 [00:00<?, ?it/s]"
      ]
     },
     "metadata": {},
     "output_type": "display_data"
    },
    {
     "data": {
      "application/vnd.jupyter.widget-view+json": {
       "model_id": "",
       "version_major": 2,
       "version_minor": 0
      },
      "text/plain": [
       "  0%|          | 0/4001 [00:00<?, ?it/s]"
      ]
     },
     "metadata": {},
     "output_type": "display_data"
    },
    {
     "data": {
      "application/vnd.jupyter.widget-view+json": {
       "model_id": "",
       "version_major": 2,
       "version_minor": 0
      },
      "text/plain": [
       "  0%|          | 0/4001 [00:00<?, ?it/s]"
      ]
     },
     "metadata": {},
     "output_type": "display_data"
    },
    {
     "data": {
      "application/vnd.jupyter.widget-view+json": {
       "model_id": "",
       "version_major": 2,
       "version_minor": 0
      },
      "text/plain": [
       "  0%|          | 0/4001 [00:00<?, ?it/s]"
      ]
     },
     "metadata": {},
     "output_type": "display_data"
    },
    {
     "data": {
      "application/vnd.jupyter.widget-view+json": {
       "model_id": "",
       "version_major": 2,
       "version_minor": 0
      },
      "text/plain": [
       "  0%|          | 0/4001 [00:00<?, ?it/s]"
      ]
     },
     "metadata": {},
     "output_type": "display_data"
    },
    {
     "data": {
      "application/vnd.jupyter.widget-view+json": {
       "model_id": "",
       "version_major": 2,
       "version_minor": 0
      },
      "text/plain": [
       "  0%|          | 0/4001 [00:00<?, ?it/s]"
      ]
     },
     "metadata": {},
     "output_type": "display_data"
    },
    {
     "data": {
      "application/vnd.jupyter.widget-view+json": {
       "model_id": "",
       "version_major": 2,
       "version_minor": 0
      },
      "text/plain": [
       "  0%|          | 0/4001 [00:00<?, ?it/s]"
      ]
     },
     "metadata": {},
     "output_type": "display_data"
    },
    {
     "data": {
      "application/vnd.jupyter.widget-view+json": {
       "model_id": "",
       "version_major": 2,
       "version_minor": 0
      },
      "text/plain": [
       "  0%|          | 0/4001 [00:00<?, ?it/s]"
      ]
     },
     "metadata": {},
     "output_type": "display_data"
    },
    {
     "data": {
      "application/vnd.jupyter.widget-view+json": {
       "model_id": "",
       "version_major": 2,
       "version_minor": 0
      },
      "text/plain": [
       "  0%|          | 0/4001 [00:00<?, ?it/s]"
      ]
     },
     "metadata": {},
     "output_type": "display_data"
    },
    {
     "data": {
      "application/vnd.jupyter.widget-view+json": {
       "model_id": "",
       "version_major": 2,
       "version_minor": 0
      },
      "text/plain": [
       "  0%|          | 0/4001 [00:00<?, ?it/s]"
      ]
     },
     "metadata": {},
     "output_type": "display_data"
    },
    {
     "data": {
      "application/vnd.jupyter.widget-view+json": {
       "model_id": "",
       "version_major": 2,
       "version_minor": 0
      },
      "text/plain": [
       "  0%|          | 0/4001 [00:00<?, ?it/s]"
      ]
     },
     "metadata": {},
     "output_type": "display_data"
    },
    {
     "data": {
      "application/vnd.jupyter.widget-view+json": {
       "model_id": "",
       "version_major": 2,
       "version_minor": 0
      },
      "text/plain": [
       "  0%|          | 0/4001 [00:00<?, ?it/s]"
      ]
     },
     "metadata": {},
     "output_type": "display_data"
    },
    {
     "data": {
      "application/vnd.jupyter.widget-view+json": {
       "model_id": "",
       "version_major": 2,
       "version_minor": 0
      },
      "text/plain": [
       "  0%|          | 0/4001 [00:00<?, ?it/s]"
      ]
     },
     "metadata": {},
     "output_type": "display_data"
    },
    {
     "data": {
      "application/vnd.jupyter.widget-view+json": {
       "model_id": "",
       "version_major": 2,
       "version_minor": 0
      },
      "text/plain": [
       "  0%|          | 0/4001 [00:00<?, ?it/s]"
      ]
     },
     "metadata": {},
     "output_type": "display_data"
    },
    {
     "data": {
      "application/vnd.jupyter.widget-view+json": {
       "model_id": "",
       "version_major": 2,
       "version_minor": 0
      },
      "text/plain": [
       "  0%|          | 0/4001 [00:00<?, ?it/s]"
      ]
     },
     "metadata": {},
     "output_type": "display_data"
    },
    {
     "data": {
      "application/vnd.jupyter.widget-view+json": {
       "model_id": "",
       "version_major": 2,
       "version_minor": 0
      },
      "text/plain": [
       "  0%|          | 0/4001 [00:00<?, ?it/s]"
      ]
     },
     "metadata": {},
     "output_type": "display_data"
    },
    {
     "data": {
      "application/vnd.jupyter.widget-view+json": {
       "model_id": "",
       "version_major": 2,
       "version_minor": 0
      },
      "text/plain": [
       "  0%|          | 0/4001 [00:00<?, ?it/s]"
      ]
     },
     "metadata": {},
     "output_type": "display_data"
    },
    {
     "data": {
      "application/vnd.jupyter.widget-view+json": {
       "model_id": "",
       "version_major": 2,
       "version_minor": 0
      },
      "text/plain": [
       "  0%|          | 0/4001 [00:00<?, ?it/s]"
      ]
     },
     "metadata": {},
     "output_type": "display_data"
    },
    {
     "data": {
      "application/vnd.jupyter.widget-view+json": {
       "model_id": "",
       "version_major": 2,
       "version_minor": 0
      },
      "text/plain": [
       "  0%|          | 0/4001 [00:00<?, ?it/s]"
      ]
     },
     "metadata": {},
     "output_type": "display_data"
    },
    {
     "data": {
      "application/vnd.jupyter.widget-view+json": {
       "model_id": "",
       "version_major": 2,
       "version_minor": 0
      },
      "text/plain": [
       "  0%|          | 0/4001 [00:00<?, ?it/s]"
      ]
     },
     "metadata": {},
     "output_type": "display_data"
    },
    {
     "data": {
      "application/vnd.jupyter.widget-view+json": {
       "model_id": "",
       "version_major": 2,
       "version_minor": 0
      },
      "text/plain": [
       "  0%|          | 0/4001 [00:00<?, ?it/s]"
      ]
     },
     "metadata": {},
     "output_type": "display_data"
    },
    {
     "data": {
      "application/vnd.jupyter.widget-view+json": {
       "model_id": "",
       "version_major": 2,
       "version_minor": 0
      },
      "text/plain": [
       "  0%|          | 0/4001 [00:00<?, ?it/s]"
      ]
     },
     "metadata": {},
     "output_type": "display_data"
    },
    {
     "data": {
      "application/vnd.jupyter.widget-view+json": {
       "model_id": "",
       "version_major": 2,
       "version_minor": 0
      },
      "text/plain": [
       "  0%|          | 0/4001 [00:00<?, ?it/s]"
      ]
     },
     "metadata": {},
     "output_type": "display_data"
    },
    {
     "data": {
      "application/vnd.jupyter.widget-view+json": {
       "model_id": "",
       "version_major": 2,
       "version_minor": 0
      },
      "text/plain": [
       "  0%|          | 0/4001 [00:00<?, ?it/s]"
      ]
     },
     "metadata": {},
     "output_type": "display_data"
    },
    {
     "data": {
      "application/vnd.jupyter.widget-view+json": {
       "model_id": "",
       "version_major": 2,
       "version_minor": 0
      },
      "text/plain": [
       "  0%|          | 0/4001 [00:00<?, ?it/s]"
      ]
     },
     "metadata": {},
     "output_type": "display_data"
    },
    {
     "data": {
      "application/vnd.jupyter.widget-view+json": {
       "model_id": "",
       "version_major": 2,
       "version_minor": 0
      },
      "text/plain": [
       "  0%|          | 0/4001 [00:00<?, ?it/s]"
      ]
     },
     "metadata": {},
     "output_type": "display_data"
    },
    {
     "data": {
      "application/vnd.jupyter.widget-view+json": {
       "model_id": "",
       "version_major": 2,
       "version_minor": 0
      },
      "text/plain": [
       "  0%|          | 0/4001 [00:00<?, ?it/s]"
      ]
     },
     "metadata": {},
     "output_type": "display_data"
    },
    {
     "data": {
      "application/vnd.jupyter.widget-view+json": {
       "model_id": "",
       "version_major": 2,
       "version_minor": 0
      },
      "text/plain": [
       "  0%|          | 0/4001 [00:00<?, ?it/s]"
      ]
     },
     "metadata": {},
     "output_type": "display_data"
    },
    {
     "data": {
      "application/vnd.jupyter.widget-view+json": {
       "model_id": "",
       "version_major": 2,
       "version_minor": 0
      },
      "text/plain": [
       "  0%|          | 0/4001 [00:00<?, ?it/s]"
      ]
     },
     "metadata": {},
     "output_type": "display_data"
    },
    {
     "data": {
      "application/vnd.jupyter.widget-view+json": {
       "model_id": "",
       "version_major": 2,
       "version_minor": 0
      },
      "text/plain": [
       "  0%|          | 0/4001 [00:00<?, ?it/s]"
      ]
     },
     "metadata": {},
     "output_type": "display_data"
    },
    {
     "data": {
      "application/vnd.jupyter.widget-view+json": {
       "model_id": "",
       "version_major": 2,
       "version_minor": 0
      },
      "text/plain": [
       "  0%|          | 0/4001 [00:00<?, ?it/s]"
      ]
     },
     "metadata": {},
     "output_type": "display_data"
    },
    {
     "data": {
      "application/vnd.jupyter.widget-view+json": {
       "model_id": "",
       "version_major": 2,
       "version_minor": 0
      },
      "text/plain": [
       "  0%|          | 0/4001 [00:00<?, ?it/s]"
      ]
     },
     "metadata": {},
     "output_type": "display_data"
    },
    {
     "data": {
      "application/vnd.jupyter.widget-view+json": {
       "model_id": "",
       "version_major": 2,
       "version_minor": 0
      },
      "text/plain": [
       "  0%|          | 0/4001 [00:00<?, ?it/s]"
      ]
     },
     "metadata": {},
     "output_type": "display_data"
    },
    {
     "data": {
      "application/vnd.jupyter.widget-view+json": {
       "model_id": "",
       "version_major": 2,
       "version_minor": 0
      },
      "text/plain": [
       "  0%|          | 0/4001 [00:00<?, ?it/s]"
      ]
     },
     "metadata": {},
     "output_type": "display_data"
    },
    {
     "data": {
      "application/vnd.jupyter.widget-view+json": {
       "model_id": "",
       "version_major": 2,
       "version_minor": 0
      },
      "text/plain": [
       "  0%|          | 0/4001 [00:00<?, ?it/s]"
      ]
     },
     "metadata": {},
     "output_type": "display_data"
    },
    {
     "data": {
      "application/vnd.jupyter.widget-view+json": {
       "model_id": "",
       "version_major": 2,
       "version_minor": 0
      },
      "text/plain": [
       "  0%|          | 0/4001 [00:00<?, ?it/s]"
      ]
     },
     "metadata": {},
     "output_type": "display_data"
    },
    {
     "data": {
      "application/vnd.jupyter.widget-view+json": {
       "model_id": "",
       "version_major": 2,
       "version_minor": 0
      },
      "text/plain": [
       "  0%|          | 0/4001 [00:00<?, ?it/s]"
      ]
     },
     "metadata": {},
     "output_type": "display_data"
    },
    {
     "data": {
      "application/vnd.jupyter.widget-view+json": {
       "model_id": "",
       "version_major": 2,
       "version_minor": 0
      },
      "text/plain": [
       "  0%|          | 0/4001 [00:00<?, ?it/s]"
      ]
     },
     "metadata": {},
     "output_type": "display_data"
    },
    {
     "data": {
      "application/vnd.jupyter.widget-view+json": {
       "model_id": "",
       "version_major": 2,
       "version_minor": 0
      },
      "text/plain": [
       "  0%|          | 0/4001 [00:00<?, ?it/s]"
      ]
     },
     "metadata": {},
     "output_type": "display_data"
    },
    {
     "data": {
      "application/vnd.jupyter.widget-view+json": {
       "model_id": "",
       "version_major": 2,
       "version_minor": 0
      },
      "text/plain": [
       "  0%|          | 0/4001 [00:00<?, ?it/s]"
      ]
     },
     "metadata": {},
     "output_type": "display_data"
    },
    {
     "data": {
      "application/vnd.jupyter.widget-view+json": {
       "model_id": "",
       "version_major": 2,
       "version_minor": 0
      },
      "text/plain": [
       "  0%|          | 0/4001 [00:00<?, ?it/s]"
      ]
     },
     "metadata": {},
     "output_type": "display_data"
    },
    {
     "data": {
      "application/vnd.jupyter.widget-view+json": {
       "model_id": "",
       "version_major": 2,
       "version_minor": 0
      },
      "text/plain": [
       "  0%|          | 0/4001 [00:00<?, ?it/s]"
      ]
     },
     "metadata": {},
     "output_type": "display_data"
    },
    {
     "data": {
      "application/vnd.jupyter.widget-view+json": {
       "model_id": "",
       "version_major": 2,
       "version_minor": 0
      },
      "text/plain": [
       "  0%|          | 0/4001 [00:00<?, ?it/s]"
      ]
     },
     "metadata": {},
     "output_type": "display_data"
    },
    {
     "data": {
      "application/vnd.jupyter.widget-view+json": {
       "model_id": "",
       "version_major": 2,
       "version_minor": 0
      },
      "text/plain": [
       "  0%|          | 0/4001 [00:00<?, ?it/s]"
      ]
     },
     "metadata": {},
     "output_type": "display_data"
    },
    {
     "data": {
      "application/vnd.jupyter.widget-view+json": {
       "model_id": "",
       "version_major": 2,
       "version_minor": 0
      },
      "text/plain": [
       "  0%|          | 0/4001 [00:00<?, ?it/s]"
      ]
     },
     "metadata": {},
     "output_type": "display_data"
    },
    {
     "data": {
      "application/vnd.jupyter.widget-view+json": {
       "model_id": "",
       "version_major": 2,
       "version_minor": 0
      },
      "text/plain": [
       "  0%|          | 0/4001 [00:00<?, ?it/s]"
      ]
     },
     "metadata": {},
     "output_type": "display_data"
    },
    {
     "data": {
      "application/vnd.jupyter.widget-view+json": {
       "model_id": "",
       "version_major": 2,
       "version_minor": 0
      },
      "text/plain": [
       "  0%|          | 0/4001 [00:00<?, ?it/s]"
      ]
     },
     "metadata": {},
     "output_type": "display_data"
    },
    {
     "data": {
      "application/vnd.jupyter.widget-view+json": {
       "model_id": "",
       "version_major": 2,
       "version_minor": 0
      },
      "text/plain": [
       "  0%|          | 0/4001 [00:00<?, ?it/s]"
      ]
     },
     "metadata": {},
     "output_type": "display_data"
    },
    {
     "data": {
      "application/vnd.jupyter.widget-view+json": {
       "model_id": "",
       "version_major": 2,
       "version_minor": 0
      },
      "text/plain": [
       "  0%|          | 0/4001 [00:00<?, ?it/s]"
      ]
     },
     "metadata": {},
     "output_type": "display_data"
    },
    {
     "data": {
      "application/vnd.jupyter.widget-view+json": {
       "model_id": "",
       "version_major": 2,
       "version_minor": 0
      },
      "text/plain": [
       "  0%|          | 0/4001 [00:00<?, ?it/s]"
      ]
     },
     "metadata": {},
     "output_type": "display_data"
    },
    {
     "data": {
      "application/vnd.jupyter.widget-view+json": {
       "model_id": "",
       "version_major": 2,
       "version_minor": 0
      },
      "text/plain": [
       "  0%|          | 0/4001 [00:00<?, ?it/s]"
      ]
     },
     "metadata": {},
     "output_type": "display_data"
    },
    {
     "data": {
      "application/vnd.jupyter.widget-view+json": {
       "model_id": "",
       "version_major": 2,
       "version_minor": 0
      },
      "text/plain": [
       "  0%|          | 0/4001 [00:00<?, ?it/s]"
      ]
     },
     "metadata": {},
     "output_type": "display_data"
    },
    {
     "data": {
      "application/vnd.jupyter.widget-view+json": {
       "model_id": "",
       "version_major": 2,
       "version_minor": 0
      },
      "text/plain": [
       "  0%|          | 0/4001 [00:00<?, ?it/s]"
      ]
     },
     "metadata": {},
     "output_type": "display_data"
    },
    {
     "data": {
      "application/vnd.jupyter.widget-view+json": {
       "model_id": "",
       "version_major": 2,
       "version_minor": 0
      },
      "text/plain": [
       "  0%|          | 0/4001 [00:00<?, ?it/s]"
      ]
     },
     "metadata": {},
     "output_type": "display_data"
    },
    {
     "data": {
      "application/vnd.jupyter.widget-view+json": {
       "model_id": "",
       "version_major": 2,
       "version_minor": 0
      },
      "text/plain": [
       "  0%|          | 0/4001 [00:00<?, ?it/s]"
      ]
     },
     "metadata": {},
     "output_type": "display_data"
    },
    {
     "data": {
      "application/vnd.jupyter.widget-view+json": {
       "model_id": "",
       "version_major": 2,
       "version_minor": 0
      },
      "text/plain": [
       "  0%|          | 0/4001 [00:00<?, ?it/s]"
      ]
     },
     "metadata": {},
     "output_type": "display_data"
    },
    {
     "data": {
      "application/vnd.jupyter.widget-view+json": {
       "model_id": "",
       "version_major": 2,
       "version_minor": 0
      },
      "text/plain": [
       "  0%|          | 0/4001 [00:00<?, ?it/s]"
      ]
     },
     "metadata": {},
     "output_type": "display_data"
    },
    {
     "data": {
      "application/vnd.jupyter.widget-view+json": {
       "model_id": "",
       "version_major": 2,
       "version_minor": 0
      },
      "text/plain": [
       "  0%|          | 0/4001 [00:00<?, ?it/s]"
      ]
     },
     "metadata": {},
     "output_type": "display_data"
    },
    {
     "data": {
      "application/vnd.jupyter.widget-view+json": {
       "model_id": "",
       "version_major": 2,
       "version_minor": 0
      },
      "text/plain": [
       "  0%|          | 0/4001 [00:00<?, ?it/s]"
      ]
     },
     "metadata": {},
     "output_type": "display_data"
    },
    {
     "data": {
      "application/vnd.jupyter.widget-view+json": {
       "model_id": "",
       "version_major": 2,
       "version_minor": 0
      },
      "text/plain": [
       "  0%|          | 0/4001 [00:00<?, ?it/s]"
      ]
     },
     "metadata": {},
     "output_type": "display_data"
    },
    {
     "data": {
      "application/vnd.jupyter.widget-view+json": {
       "model_id": "",
       "version_major": 2,
       "version_minor": 0
      },
      "text/plain": [
       "  0%|          | 0/4001 [00:00<?, ?it/s]"
      ]
     },
     "metadata": {},
     "output_type": "display_data"
    },
    {
     "data": {
      "application/vnd.jupyter.widget-view+json": {
       "model_id": "",
       "version_major": 2,
       "version_minor": 0
      },
      "text/plain": [
       "  0%|          | 0/4001 [00:00<?, ?it/s]"
      ]
     },
     "metadata": {},
     "output_type": "display_data"
    },
    {
     "data": {
      "application/vnd.jupyter.widget-view+json": {
       "model_id": "",
       "version_major": 2,
       "version_minor": 0
      },
      "text/plain": [
       "  0%|          | 0/4001 [00:00<?, ?it/s]"
      ]
     },
     "metadata": {},
     "output_type": "display_data"
    },
    {
     "data": {
      "application/vnd.jupyter.widget-view+json": {
       "model_id": "",
       "version_major": 2,
       "version_minor": 0
      },
      "text/plain": [
       "  0%|          | 0/4001 [00:00<?, ?it/s]"
      ]
     },
     "metadata": {},
     "output_type": "display_data"
    },
    {
     "data": {
      "application/vnd.jupyter.widget-view+json": {
       "model_id": "",
       "version_major": 2,
       "version_minor": 0
      },
      "text/plain": [
       "  0%|          | 0/4001 [00:00<?, ?it/s]"
      ]
     },
     "metadata": {},
     "output_type": "display_data"
    },
    {
     "data": {
      "application/vnd.jupyter.widget-view+json": {
       "model_id": "",
       "version_major": 2,
       "version_minor": 0
      },
      "text/plain": [
       "  0%|          | 0/4001 [00:00<?, ?it/s]"
      ]
     },
     "metadata": {},
     "output_type": "display_data"
    },
    {
     "data": {
      "application/vnd.jupyter.widget-view+json": {
       "model_id": "",
       "version_major": 2,
       "version_minor": 0
      },
      "text/plain": [
       "  0%|          | 0/4001 [00:00<?, ?it/s]"
      ]
     },
     "metadata": {},
     "output_type": "display_data"
    },
    {
     "data": {
      "application/vnd.jupyter.widget-view+json": {
       "model_id": "",
       "version_major": 2,
       "version_minor": 0
      },
      "text/plain": [
       "  0%|          | 0/4001 [00:00<?, ?it/s]"
      ]
     },
     "metadata": {},
     "output_type": "display_data"
    },
    {
     "data": {
      "application/vnd.jupyter.widget-view+json": {
       "model_id": "",
       "version_major": 2,
       "version_minor": 0
      },
      "text/plain": [
       "  0%|          | 0/4001 [00:00<?, ?it/s]"
      ]
     },
     "metadata": {},
     "output_type": "display_data"
    },
    {
     "data": {
      "application/vnd.jupyter.widget-view+json": {
       "model_id": "",
       "version_major": 2,
       "version_minor": 0
      },
      "text/plain": [
       "  0%|          | 0/4001 [00:00<?, ?it/s]"
      ]
     },
     "metadata": {},
     "output_type": "display_data"
    },
    {
     "data": {
      "application/vnd.jupyter.widget-view+json": {
       "model_id": "",
       "version_major": 2,
       "version_minor": 0
      },
      "text/plain": [
       "  0%|          | 0/4001 [00:00<?, ?it/s]"
      ]
     },
     "metadata": {},
     "output_type": "display_data"
    },
    {
     "data": {
      "application/vnd.jupyter.widget-view+json": {
       "model_id": "",
       "version_major": 2,
       "version_minor": 0
      },
      "text/plain": [
       "  0%|          | 0/4001 [00:00<?, ?it/s]"
      ]
     },
     "metadata": {},
     "output_type": "display_data"
    },
    {
     "data": {
      "application/vnd.jupyter.widget-view+json": {
       "model_id": "",
       "version_major": 2,
       "version_minor": 0
      },
      "text/plain": [
       "  0%|          | 0/4001 [00:00<?, ?it/s]"
      ]
     },
     "metadata": {},
     "output_type": "display_data"
    },
    {
     "data": {
      "application/vnd.jupyter.widget-view+json": {
       "model_id": "",
       "version_major": 2,
       "version_minor": 0
      },
      "text/plain": [
       "  0%|          | 0/4001 [00:00<?, ?it/s]"
      ]
     },
     "metadata": {},
     "output_type": "display_data"
    },
    {
     "data": {
      "application/vnd.jupyter.widget-view+json": {
       "model_id": "",
       "version_major": 2,
       "version_minor": 0
      },
      "text/plain": [
       "  0%|          | 0/4001 [00:00<?, ?it/s]"
      ]
     },
     "metadata": {},
     "output_type": "display_data"
    },
    {
     "data": {
      "application/vnd.jupyter.widget-view+json": {
       "model_id": "",
       "version_major": 2,
       "version_minor": 0
      },
      "text/plain": [
       "  0%|          | 0/4001 [00:00<?, ?it/s]"
      ]
     },
     "metadata": {},
     "output_type": "display_data"
    },
    {
     "data": {
      "application/vnd.jupyter.widget-view+json": {
       "model_id": "",
       "version_major": 2,
       "version_minor": 0
      },
      "text/plain": [
       "  0%|          | 0/4001 [00:00<?, ?it/s]"
      ]
     },
     "metadata": {},
     "output_type": "display_data"
    },
    {
     "data": {
      "application/vnd.jupyter.widget-view+json": {
       "model_id": "",
       "version_major": 2,
       "version_minor": 0
      },
      "text/plain": [
       "  0%|          | 0/4001 [00:00<?, ?it/s]"
      ]
     },
     "metadata": {},
     "output_type": "display_data"
    },
    {
     "data": {
      "application/vnd.jupyter.widget-view+json": {
       "model_id": "",
       "version_major": 2,
       "version_minor": 0
      },
      "text/plain": [
       "  0%|          | 0/4001 [00:00<?, ?it/s]"
      ]
     },
     "metadata": {},
     "output_type": "display_data"
    },
    {
     "data": {
      "application/vnd.jupyter.widget-view+json": {
       "model_id": "",
       "version_major": 2,
       "version_minor": 0
      },
      "text/plain": [
       "  0%|          | 0/4001 [00:00<?, ?it/s]"
      ]
     },
     "metadata": {},
     "output_type": "display_data"
    },
    {
     "data": {
      "application/vnd.jupyter.widget-view+json": {
       "model_id": "",
       "version_major": 2,
       "version_minor": 0
      },
      "text/plain": [
       "  0%|          | 0/4001 [00:00<?, ?it/s]"
      ]
     },
     "metadata": {},
     "output_type": "display_data"
    },
    {
     "data": {
      "application/vnd.jupyter.widget-view+json": {
       "model_id": "",
       "version_major": 2,
       "version_minor": 0
      },
      "text/plain": [
       "  0%|          | 0/4001 [00:00<?, ?it/s]"
      ]
     },
     "metadata": {},
     "output_type": "display_data"
    },
    {
     "data": {
      "application/vnd.jupyter.widget-view+json": {
       "model_id": "",
       "version_major": 2,
       "version_minor": 0
      },
      "text/plain": [
       "  0%|          | 0/4001 [00:00<?, ?it/s]"
      ]
     },
     "metadata": {},
     "output_type": "display_data"
    },
    {
     "data": {
      "application/vnd.jupyter.widget-view+json": {
       "model_id": "",
       "version_major": 2,
       "version_minor": 0
      },
      "text/plain": [
       "  0%|          | 0/4001 [00:00<?, ?it/s]"
      ]
     },
     "metadata": {},
     "output_type": "display_data"
    },
    {
     "data": {
      "application/vnd.jupyter.widget-view+json": {
       "model_id": "",
       "version_major": 2,
       "version_minor": 0
      },
      "text/plain": [
       "  0%|          | 0/4001 [00:00<?, ?it/s]"
      ]
     },
     "metadata": {},
     "output_type": "display_data"
    },
    {
     "data": {
      "application/vnd.jupyter.widget-view+json": {
       "model_id": "",
       "version_major": 2,
       "version_minor": 0
      },
      "text/plain": [
       "  0%|          | 0/4001 [00:00<?, ?it/s]"
      ]
     },
     "metadata": {},
     "output_type": "display_data"
    },
    {
     "data": {
      "application/vnd.jupyter.widget-view+json": {
       "model_id": "",
       "version_major": 2,
       "version_minor": 0
      },
      "text/plain": [
       "  0%|          | 0/4001 [00:00<?, ?it/s]"
      ]
     },
     "metadata": {},
     "output_type": "display_data"
    },
    {
     "data": {
      "application/vnd.jupyter.widget-view+json": {
       "model_id": "",
       "version_major": 2,
       "version_minor": 0
      },
      "text/plain": [
       "  0%|          | 0/4001 [00:00<?, ?it/s]"
      ]
     },
     "metadata": {},
     "output_type": "display_data"
    },
    {
     "data": {
      "application/vnd.jupyter.widget-view+json": {
       "model_id": "",
       "version_major": 2,
       "version_minor": 0
      },
      "text/plain": [
       "  0%|          | 0/4001 [00:00<?, ?it/s]"
      ]
     },
     "metadata": {},
     "output_type": "display_data"
    },
    {
     "data": {
      "application/vnd.jupyter.widget-view+json": {
       "model_id": "",
       "version_major": 2,
       "version_minor": 0
      },
      "text/plain": [
       "  0%|          | 0/4001 [00:00<?, ?it/s]"
      ]
     },
     "metadata": {},
     "output_type": "display_data"
    },
    {
     "data": {
      "application/vnd.jupyter.widget-view+json": {
       "model_id": "",
       "version_major": 2,
       "version_minor": 0
      },
      "text/plain": [
       "  0%|          | 0/4001 [00:00<?, ?it/s]"
      ]
     },
     "metadata": {},
     "output_type": "display_data"
    },
    {
     "data": {
      "application/vnd.jupyter.widget-view+json": {
       "model_id": "",
       "version_major": 2,
       "version_minor": 0
      },
      "text/plain": [
       "  0%|          | 0/4001 [00:00<?, ?it/s]"
      ]
     },
     "metadata": {},
     "output_type": "display_data"
    },
    {
     "data": {
      "application/vnd.jupyter.widget-view+json": {
       "model_id": "",
       "version_major": 2,
       "version_minor": 0
      },
      "text/plain": [
       "  0%|          | 0/4001 [00:00<?, ?it/s]"
      ]
     },
     "metadata": {},
     "output_type": "display_data"
    },
    {
     "data": {
      "application/vnd.jupyter.widget-view+json": {
       "model_id": "",
       "version_major": 2,
       "version_minor": 0
      },
      "text/plain": [
       "  0%|          | 0/4001 [00:00<?, ?it/s]"
      ]
     },
     "metadata": {},
     "output_type": "display_data"
    },
    {
     "data": {
      "application/vnd.jupyter.widget-view+json": {
       "model_id": "",
       "version_major": 2,
       "version_minor": 0
      },
      "text/plain": [
       "  0%|          | 0/4001 [00:00<?, ?it/s]"
      ]
     },
     "metadata": {},
     "output_type": "display_data"
    },
    {
     "data": {
      "application/vnd.jupyter.widget-view+json": {
       "model_id": "",
       "version_major": 2,
       "version_minor": 0
      },
      "text/plain": [
       "  0%|          | 0/4001 [00:00<?, ?it/s]"
      ]
     },
     "metadata": {},
     "output_type": "display_data"
    },
    {
     "data": {
      "application/vnd.jupyter.widget-view+json": {
       "model_id": "",
       "version_major": 2,
       "version_minor": 0
      },
      "text/plain": [
       "  0%|          | 0/4001 [00:00<?, ?it/s]"
      ]
     },
     "metadata": {},
     "output_type": "display_data"
    },
    {
     "data": {
      "application/vnd.jupyter.widget-view+json": {
       "model_id": "",
       "version_major": 2,
       "version_minor": 0
      },
      "text/plain": [
       "  0%|          | 0/4001 [00:00<?, ?it/s]"
      ]
     },
     "metadata": {},
     "output_type": "display_data"
    },
    {
     "data": {
      "application/vnd.jupyter.widget-view+json": {
       "model_id": "",
       "version_major": 2,
       "version_minor": 0
      },
      "text/plain": [
       "  0%|          | 0/4001 [00:00<?, ?it/s]"
      ]
     },
     "metadata": {},
     "output_type": "display_data"
    },
    {
     "data": {
      "application/vnd.jupyter.widget-view+json": {
       "model_id": "",
       "version_major": 2,
       "version_minor": 0
      },
      "text/plain": [
       "  0%|          | 0/4001 [00:00<?, ?it/s]"
      ]
     },
     "metadata": {},
     "output_type": "display_data"
    },
    {
     "data": {
      "application/vnd.jupyter.widget-view+json": {
       "model_id": "",
       "version_major": 2,
       "version_minor": 0
      },
      "text/plain": [
       "  0%|          | 0/4001 [00:00<?, ?it/s]"
      ]
     },
     "metadata": {},
     "output_type": "display_data"
    },
    {
     "data": {
      "application/vnd.jupyter.widget-view+json": {
       "model_id": "",
       "version_major": 2,
       "version_minor": 0
      },
      "text/plain": [
       "  0%|          | 0/4001 [00:00<?, ?it/s]"
      ]
     },
     "metadata": {},
     "output_type": "display_data"
    },
    {
     "data": {
      "application/vnd.jupyter.widget-view+json": {
       "model_id": "",
       "version_major": 2,
       "version_minor": 0
      },
      "text/plain": [
       "  0%|          | 0/4001 [00:00<?, ?it/s]"
      ]
     },
     "metadata": {},
     "output_type": "display_data"
    },
    {
     "data": {
      "application/vnd.jupyter.widget-view+json": {
       "model_id": "",
       "version_major": 2,
       "version_minor": 0
      },
      "text/plain": [
       "  0%|          | 0/4001 [00:00<?, ?it/s]"
      ]
     },
     "metadata": {},
     "output_type": "display_data"
    },
    {
     "data": {
      "application/vnd.jupyter.widget-view+json": {
       "model_id": "",
       "version_major": 2,
       "version_minor": 0
      },
      "text/plain": [
       "  0%|          | 0/4001 [00:00<?, ?it/s]"
      ]
     },
     "metadata": {},
     "output_type": "display_data"
    },
    {
     "data": {
      "application/vnd.jupyter.widget-view+json": {
       "model_id": "",
       "version_major": 2,
       "version_minor": 0
      },
      "text/plain": [
       "  0%|          | 0/4001 [00:00<?, ?it/s]"
      ]
     },
     "metadata": {},
     "output_type": "display_data"
    },
    {
     "data": {
      "application/vnd.jupyter.widget-view+json": {
       "model_id": "",
       "version_major": 2,
       "version_minor": 0
      },
      "text/plain": [
       "  0%|          | 0/4001 [00:00<?, ?it/s]"
      ]
     },
     "metadata": {},
     "output_type": "display_data"
    },
    {
     "data": {
      "application/vnd.jupyter.widget-view+json": {
       "model_id": "",
       "version_major": 2,
       "version_minor": 0
      },
      "text/plain": [
       "  0%|          | 0/4001 [00:00<?, ?it/s]"
      ]
     },
     "metadata": {},
     "output_type": "display_data"
    },
    {
     "data": {
      "application/vnd.jupyter.widget-view+json": {
       "model_id": "",
       "version_major": 2,
       "version_minor": 0
      },
      "text/plain": [
       "  0%|          | 0/4001 [00:00<?, ?it/s]"
      ]
     },
     "metadata": {},
     "output_type": "display_data"
    },
    {
     "data": {
      "application/vnd.jupyter.widget-view+json": {
       "model_id": "",
       "version_major": 2,
       "version_minor": 0
      },
      "text/plain": [
       "  0%|          | 0/4001 [00:00<?, ?it/s]"
      ]
     },
     "metadata": {},
     "output_type": "display_data"
    },
    {
     "data": {
      "application/vnd.jupyter.widget-view+json": {
       "model_id": "",
       "version_major": 2,
       "version_minor": 0
      },
      "text/plain": [
       "  0%|          | 0/4001 [00:00<?, ?it/s]"
      ]
     },
     "metadata": {},
     "output_type": "display_data"
    },
    {
     "data": {
      "application/vnd.jupyter.widget-view+json": {
       "model_id": "",
       "version_major": 2,
       "version_minor": 0
      },
      "text/plain": [
       "  0%|          | 0/4001 [00:00<?, ?it/s]"
      ]
     },
     "metadata": {},
     "output_type": "display_data"
    },
    {
     "data": {
      "application/vnd.jupyter.widget-view+json": {
       "model_id": "",
       "version_major": 2,
       "version_minor": 0
      },
      "text/plain": [
       "  0%|          | 0/4001 [00:00<?, ?it/s]"
      ]
     },
     "metadata": {},
     "output_type": "display_data"
    },
    {
     "data": {
      "application/vnd.jupyter.widget-view+json": {
       "model_id": "",
       "version_major": 2,
       "version_minor": 0
      },
      "text/plain": [
       "  0%|          | 0/4001 [00:00<?, ?it/s]"
      ]
     },
     "metadata": {},
     "output_type": "display_data"
    },
    {
     "data": {
      "application/vnd.jupyter.widget-view+json": {
       "model_id": "",
       "version_major": 2,
       "version_minor": 0
      },
      "text/plain": [
       "  0%|          | 0/4001 [00:00<?, ?it/s]"
      ]
     },
     "metadata": {},
     "output_type": "display_data"
    },
    {
     "data": {
      "application/vnd.jupyter.widget-view+json": {
       "model_id": "",
       "version_major": 2,
       "version_minor": 0
      },
      "text/plain": [
       "  0%|          | 0/4001 [00:00<?, ?it/s]"
      ]
     },
     "metadata": {},
     "output_type": "display_data"
    },
    {
     "data": {
      "application/vnd.jupyter.widget-view+json": {
       "model_id": "",
       "version_major": 2,
       "version_minor": 0
      },
      "text/plain": [
       "  0%|          | 0/4001 [00:00<?, ?it/s]"
      ]
     },
     "metadata": {},
     "output_type": "display_data"
    },
    {
     "data": {
      "application/vnd.jupyter.widget-view+json": {
       "model_id": "",
       "version_major": 2,
       "version_minor": 0
      },
      "text/plain": [
       "  0%|          | 0/4001 [00:00<?, ?it/s]"
      ]
     },
     "metadata": {},
     "output_type": "display_data"
    },
    {
     "data": {
      "application/vnd.jupyter.widget-view+json": {
       "model_id": "",
       "version_major": 2,
       "version_minor": 0
      },
      "text/plain": [
       "  0%|          | 0/4001 [00:00<?, ?it/s]"
      ]
     },
     "metadata": {},
     "output_type": "display_data"
    },
    {
     "data": {
      "application/vnd.jupyter.widget-view+json": {
       "model_id": "",
       "version_major": 2,
       "version_minor": 0
      },
      "text/plain": [
       "  0%|          | 0/4001 [00:00<?, ?it/s]"
      ]
     },
     "metadata": {},
     "output_type": "display_data"
    },
    {
     "data": {
      "application/vnd.jupyter.widget-view+json": {
       "model_id": "",
       "version_major": 2,
       "version_minor": 0
      },
      "text/plain": [
       "  0%|          | 0/4001 [00:00<?, ?it/s]"
      ]
     },
     "metadata": {},
     "output_type": "display_data"
    },
    {
     "data": {
      "application/vnd.jupyter.widget-view+json": {
       "model_id": "",
       "version_major": 2,
       "version_minor": 0
      },
      "text/plain": [
       "  0%|          | 0/4001 [00:00<?, ?it/s]"
      ]
     },
     "metadata": {},
     "output_type": "display_data"
    },
    {
     "data": {
      "application/vnd.jupyter.widget-view+json": {
       "model_id": "",
       "version_major": 2,
       "version_minor": 0
      },
      "text/plain": [
       "  0%|          | 0/4001 [00:00<?, ?it/s]"
      ]
     },
     "metadata": {},
     "output_type": "display_data"
    },
    {
     "data": {
      "application/vnd.jupyter.widget-view+json": {
       "model_id": "",
       "version_major": 2,
       "version_minor": 0
      },
      "text/plain": [
       "  0%|          | 0/4001 [00:00<?, ?it/s]"
      ]
     },
     "metadata": {},
     "output_type": "display_data"
    },
    {
     "data": {
      "application/vnd.jupyter.widget-view+json": {
       "model_id": "",
       "version_major": 2,
       "version_minor": 0
      },
      "text/plain": [
       "  0%|          | 0/4001 [00:00<?, ?it/s]"
      ]
     },
     "metadata": {},
     "output_type": "display_data"
    },
    {
     "data": {
      "application/vnd.jupyter.widget-view+json": {
       "model_id": "",
       "version_major": 2,
       "version_minor": 0
      },
      "text/plain": [
       "  0%|          | 0/4001 [00:00<?, ?it/s]"
      ]
     },
     "metadata": {},
     "output_type": "display_data"
    },
    {
     "data": {
      "application/vnd.jupyter.widget-view+json": {
       "model_id": "",
       "version_major": 2,
       "version_minor": 0
      },
      "text/plain": [
       "  0%|          | 0/4001 [00:00<?, ?it/s]"
      ]
     },
     "metadata": {},
     "output_type": "display_data"
    },
    {
     "data": {
      "application/vnd.jupyter.widget-view+json": {
       "model_id": "",
       "version_major": 2,
       "version_minor": 0
      },
      "text/plain": [
       "  0%|          | 0/4001 [00:00<?, ?it/s]"
      ]
     },
     "metadata": {},
     "output_type": "display_data"
    },
    {
     "data": {
      "application/vnd.jupyter.widget-view+json": {
       "model_id": "",
       "version_major": 2,
       "version_minor": 0
      },
      "text/plain": [
       "  0%|          | 0/4001 [00:00<?, ?it/s]"
      ]
     },
     "metadata": {},
     "output_type": "display_data"
    },
    {
     "data": {
      "application/vnd.jupyter.widget-view+json": {
       "model_id": "",
       "version_major": 2,
       "version_minor": 0
      },
      "text/plain": [
       "  0%|          | 0/4001 [00:00<?, ?it/s]"
      ]
     },
     "metadata": {},
     "output_type": "display_data"
    },
    {
     "data": {
      "application/vnd.jupyter.widget-view+json": {
       "model_id": "",
       "version_major": 2,
       "version_minor": 0
      },
      "text/plain": [
       "  0%|          | 0/4001 [00:00<?, ?it/s]"
      ]
     },
     "metadata": {},
     "output_type": "display_data"
    },
    {
     "data": {
      "application/vnd.jupyter.widget-view+json": {
       "model_id": "",
       "version_major": 2,
       "version_minor": 0
      },
      "text/plain": [
       "  0%|          | 0/4001 [00:00<?, ?it/s]"
      ]
     },
     "metadata": {},
     "output_type": "display_data"
    },
    {
     "data": {
      "application/vnd.jupyter.widget-view+json": {
       "model_id": "",
       "version_major": 2,
       "version_minor": 0
      },
      "text/plain": [
       "  0%|          | 0/4001 [00:00<?, ?it/s]"
      ]
     },
     "metadata": {},
     "output_type": "display_data"
    },
    {
     "data": {
      "application/vnd.jupyter.widget-view+json": {
       "model_id": "",
       "version_major": 2,
       "version_minor": 0
      },
      "text/plain": [
       "  0%|          | 0/4001 [00:00<?, ?it/s]"
      ]
     },
     "metadata": {},
     "output_type": "display_data"
    },
    {
     "data": {
      "application/vnd.jupyter.widget-view+json": {
       "model_id": "",
       "version_major": 2,
       "version_minor": 0
      },
      "text/plain": [
       "  0%|          | 0/4001 [00:00<?, ?it/s]"
      ]
     },
     "metadata": {},
     "output_type": "display_data"
    },
    {
     "data": {
      "application/vnd.jupyter.widget-view+json": {
       "model_id": "",
       "version_major": 2,
       "version_minor": 0
      },
      "text/plain": [
       "  0%|          | 0/4001 [00:00<?, ?it/s]"
      ]
     },
     "metadata": {},
     "output_type": "display_data"
    },
    {
     "data": {
      "application/vnd.jupyter.widget-view+json": {
       "model_id": "",
       "version_major": 2,
       "version_minor": 0
      },
      "text/plain": [
       "  0%|          | 0/4001 [00:00<?, ?it/s]"
      ]
     },
     "metadata": {},
     "output_type": "display_data"
    },
    {
     "data": {
      "application/vnd.jupyter.widget-view+json": {
       "model_id": "",
       "version_major": 2,
       "version_minor": 0
      },
      "text/plain": [
       "  0%|          | 0/4001 [00:00<?, ?it/s]"
      ]
     },
     "metadata": {},
     "output_type": "display_data"
    },
    {
     "data": {
      "application/vnd.jupyter.widget-view+json": {
       "model_id": "",
       "version_major": 2,
       "version_minor": 0
      },
      "text/plain": [
       "  0%|          | 0/4001 [00:00<?, ?it/s]"
      ]
     },
     "metadata": {},
     "output_type": "display_data"
    },
    {
     "data": {
      "application/vnd.jupyter.widget-view+json": {
       "model_id": "",
       "version_major": 2,
       "version_minor": 0
      },
      "text/plain": [
       "  0%|          | 0/4001 [00:00<?, ?it/s]"
      ]
     },
     "metadata": {},
     "output_type": "display_data"
    },
    {
     "data": {
      "application/vnd.jupyter.widget-view+json": {
       "model_id": "",
       "version_major": 2,
       "version_minor": 0
      },
      "text/plain": [
       "  0%|          | 0/4001 [00:00<?, ?it/s]"
      ]
     },
     "metadata": {},
     "output_type": "display_data"
    },
    {
     "data": {
      "application/vnd.jupyter.widget-view+json": {
       "model_id": "",
       "version_major": 2,
       "version_minor": 0
      },
      "text/plain": [
       "  0%|          | 0/4001 [00:00<?, ?it/s]"
      ]
     },
     "metadata": {},
     "output_type": "display_data"
    },
    {
     "data": {
      "application/vnd.jupyter.widget-view+json": {
       "model_id": "",
       "version_major": 2,
       "version_minor": 0
      },
      "text/plain": [
       "  0%|          | 0/4001 [00:00<?, ?it/s]"
      ]
     },
     "metadata": {},
     "output_type": "display_data"
    },
    {
     "data": {
      "application/vnd.jupyter.widget-view+json": {
       "model_id": "",
       "version_major": 2,
       "version_minor": 0
      },
      "text/plain": [
       "  0%|          | 0/4001 [00:00<?, ?it/s]"
      ]
     },
     "metadata": {},
     "output_type": "display_data"
    },
    {
     "data": {
      "application/vnd.jupyter.widget-view+json": {
       "model_id": "",
       "version_major": 2,
       "version_minor": 0
      },
      "text/plain": [
       "  0%|          | 0/4001 [00:00<?, ?it/s]"
      ]
     },
     "metadata": {},
     "output_type": "display_data"
    },
    {
     "data": {
      "application/vnd.jupyter.widget-view+json": {
       "model_id": "",
       "version_major": 2,
       "version_minor": 0
      },
      "text/plain": [
       "  0%|          | 0/4001 [00:00<?, ?it/s]"
      ]
     },
     "metadata": {},
     "output_type": "display_data"
    },
    {
     "data": {
      "application/vnd.jupyter.widget-view+json": {
       "model_id": "",
       "version_major": 2,
       "version_minor": 0
      },
      "text/plain": [
       "  0%|          | 0/4001 [00:00<?, ?it/s]"
      ]
     },
     "metadata": {},
     "output_type": "display_data"
    },
    {
     "data": {
      "application/vnd.jupyter.widget-view+json": {
       "model_id": "",
       "version_major": 2,
       "version_minor": 0
      },
      "text/plain": [
       "  0%|          | 0/4001 [00:00<?, ?it/s]"
      ]
     },
     "metadata": {},
     "output_type": "display_data"
    },
    {
     "data": {
      "application/vnd.jupyter.widget-view+json": {
       "model_id": "",
       "version_major": 2,
       "version_minor": 0
      },
      "text/plain": [
       "  0%|          | 0/4001 [00:00<?, ?it/s]"
      ]
     },
     "metadata": {},
     "output_type": "display_data"
    },
    {
     "data": {
      "application/vnd.jupyter.widget-view+json": {
       "model_id": "",
       "version_major": 2,
       "version_minor": 0
      },
      "text/plain": [
       "  0%|          | 0/4001 [00:00<?, ?it/s]"
      ]
     },
     "metadata": {},
     "output_type": "display_data"
    },
    {
     "data": {
      "application/vnd.jupyter.widget-view+json": {
       "model_id": "",
       "version_major": 2,
       "version_minor": 0
      },
      "text/plain": [
       "  0%|          | 0/4001 [00:00<?, ?it/s]"
      ]
     },
     "metadata": {},
     "output_type": "display_data"
    },
    {
     "data": {
      "application/vnd.jupyter.widget-view+json": {
       "model_id": "",
       "version_major": 2,
       "version_minor": 0
      },
      "text/plain": [
       "  0%|          | 0/4001 [00:00<?, ?it/s]"
      ]
     },
     "metadata": {},
     "output_type": "display_data"
    },
    {
     "data": {
      "application/vnd.jupyter.widget-view+json": {
       "model_id": "",
       "version_major": 2,
       "version_minor": 0
      },
      "text/plain": [
       "  0%|          | 0/4001 [00:00<?, ?it/s]"
      ]
     },
     "metadata": {},
     "output_type": "display_data"
    },
    {
     "data": {
      "application/vnd.jupyter.widget-view+json": {
       "model_id": "",
       "version_major": 2,
       "version_minor": 0
      },
      "text/plain": [
       "  0%|          | 0/4001 [00:00<?, ?it/s]"
      ]
     },
     "metadata": {},
     "output_type": "display_data"
    },
    {
     "data": {
      "application/vnd.jupyter.widget-view+json": {
       "model_id": "",
       "version_major": 2,
       "version_minor": 0
      },
      "text/plain": [
       "  0%|          | 0/4001 [00:00<?, ?it/s]"
      ]
     },
     "metadata": {},
     "output_type": "display_data"
    },
    {
     "data": {
      "application/vnd.jupyter.widget-view+json": {
       "model_id": "",
       "version_major": 2,
       "version_minor": 0
      },
      "text/plain": [
       "  0%|          | 0/4001 [00:00<?, ?it/s]"
      ]
     },
     "metadata": {},
     "output_type": "display_data"
    },
    {
     "data": {
      "application/vnd.jupyter.widget-view+json": {
       "model_id": "",
       "version_major": 2,
       "version_minor": 0
      },
      "text/plain": [
       "  0%|          | 0/4001 [00:00<?, ?it/s]"
      ]
     },
     "metadata": {},
     "output_type": "display_data"
    },
    {
     "data": {
      "application/vnd.jupyter.widget-view+json": {
       "model_id": "",
       "version_major": 2,
       "version_minor": 0
      },
      "text/plain": [
       "  0%|          | 0/4001 [00:00<?, ?it/s]"
      ]
     },
     "metadata": {},
     "output_type": "display_data"
    },
    {
     "data": {
      "application/vnd.jupyter.widget-view+json": {
       "model_id": "",
       "version_major": 2,
       "version_minor": 0
      },
      "text/plain": [
       "  0%|          | 0/4001 [00:00<?, ?it/s]"
      ]
     },
     "metadata": {},
     "output_type": "display_data"
    },
    {
     "data": {
      "application/vnd.jupyter.widget-view+json": {
       "model_id": "",
       "version_major": 2,
       "version_minor": 0
      },
      "text/plain": [
       "  0%|          | 0/4001 [00:00<?, ?it/s]"
      ]
     },
     "metadata": {},
     "output_type": "display_data"
    },
    {
     "data": {
      "application/vnd.jupyter.widget-view+json": {
       "model_id": "",
       "version_major": 2,
       "version_minor": 0
      },
      "text/plain": [
       "  0%|          | 0/4001 [00:00<?, ?it/s]"
      ]
     },
     "metadata": {},
     "output_type": "display_data"
    },
    {
     "data": {
      "application/vnd.jupyter.widget-view+json": {
       "model_id": "",
       "version_major": 2,
       "version_minor": 0
      },
      "text/plain": [
       "  0%|          | 0/4001 [00:00<?, ?it/s]"
      ]
     },
     "metadata": {},
     "output_type": "display_data"
    },
    {
     "data": {
      "application/vnd.jupyter.widget-view+json": {
       "model_id": "",
       "version_major": 2,
       "version_minor": 0
      },
      "text/plain": [
       "  0%|          | 0/4001 [00:00<?, ?it/s]"
      ]
     },
     "metadata": {},
     "output_type": "display_data"
    },
    {
     "data": {
      "application/vnd.jupyter.widget-view+json": {
       "model_id": "",
       "version_major": 2,
       "version_minor": 0
      },
      "text/plain": [
       "  0%|          | 0/4001 [00:00<?, ?it/s]"
      ]
     },
     "metadata": {},
     "output_type": "display_data"
    },
    {
     "data": {
      "application/vnd.jupyter.widget-view+json": {
       "model_id": "",
       "version_major": 2,
       "version_minor": 0
      },
      "text/plain": [
       "  0%|          | 0/4001 [00:00<?, ?it/s]"
      ]
     },
     "metadata": {},
     "output_type": "display_data"
    },
    {
     "data": {
      "application/vnd.jupyter.widget-view+json": {
       "model_id": "",
       "version_major": 2,
       "version_minor": 0
      },
      "text/plain": [
       "  0%|          | 0/4001 [00:00<?, ?it/s]"
      ]
     },
     "metadata": {},
     "output_type": "display_data"
    },
    {
     "data": {
      "application/vnd.jupyter.widget-view+json": {
       "model_id": "",
       "version_major": 2,
       "version_minor": 0
      },
      "text/plain": [
       "  0%|          | 0/4001 [00:00<?, ?it/s]"
      ]
     },
     "metadata": {},
     "output_type": "display_data"
    },
    {
     "data": {
      "application/vnd.jupyter.widget-view+json": {
       "model_id": "",
       "version_major": 2,
       "version_minor": 0
      },
      "text/plain": [
       "  0%|          | 0/4001 [00:00<?, ?it/s]"
      ]
     },
     "metadata": {},
     "output_type": "display_data"
    },
    {
     "data": {
      "application/vnd.jupyter.widget-view+json": {
       "model_id": "",
       "version_major": 2,
       "version_minor": 0
      },
      "text/plain": [
       "  0%|          | 0/4001 [00:00<?, ?it/s]"
      ]
     },
     "metadata": {},
     "output_type": "display_data"
    },
    {
     "data": {
      "application/vnd.jupyter.widget-view+json": {
       "model_id": "",
       "version_major": 2,
       "version_minor": 0
      },
      "text/plain": [
       "  0%|          | 0/4001 [00:00<?, ?it/s]"
      ]
     },
     "metadata": {},
     "output_type": "display_data"
    },
    {
     "data": {
      "application/vnd.jupyter.widget-view+json": {
       "model_id": "",
       "version_major": 2,
       "version_minor": 0
      },
      "text/plain": [
       "  0%|          | 0/4001 [00:00<?, ?it/s]"
      ]
     },
     "metadata": {},
     "output_type": "display_data"
    },
    {
     "data": {
      "application/vnd.jupyter.widget-view+json": {
       "model_id": "",
       "version_major": 2,
       "version_minor": 0
      },
      "text/plain": [
       "  0%|          | 0/4001 [00:00<?, ?it/s]"
      ]
     },
     "metadata": {},
     "output_type": "display_data"
    },
    {
     "data": {
      "application/vnd.jupyter.widget-view+json": {
       "model_id": "",
       "version_major": 2,
       "version_minor": 0
      },
      "text/plain": [
       "  0%|          | 0/4001 [00:00<?, ?it/s]"
      ]
     },
     "metadata": {},
     "output_type": "display_data"
    },
    {
     "data": {
      "application/vnd.jupyter.widget-view+json": {
       "model_id": "",
       "version_major": 2,
       "version_minor": 0
      },
      "text/plain": [
       "  0%|          | 0/4001 [00:00<?, ?it/s]"
      ]
     },
     "metadata": {},
     "output_type": "display_data"
    },
    {
     "data": {
      "application/vnd.jupyter.widget-view+json": {
       "model_id": "",
       "version_major": 2,
       "version_minor": 0
      },
      "text/plain": [
       "  0%|          | 0/4001 [00:00<?, ?it/s]"
      ]
     },
     "metadata": {},
     "output_type": "display_data"
    },
    {
     "data": {
      "application/vnd.jupyter.widget-view+json": {
       "model_id": "",
       "version_major": 2,
       "version_minor": 0
      },
      "text/plain": [
       "  0%|          | 0/4001 [00:00<?, ?it/s]"
      ]
     },
     "metadata": {},
     "output_type": "display_data"
    },
    {
     "data": {
      "application/vnd.jupyter.widget-view+json": {
       "model_id": "",
       "version_major": 2,
       "version_minor": 0
      },
      "text/plain": [
       "  0%|          | 0/4001 [00:00<?, ?it/s]"
      ]
     },
     "metadata": {},
     "output_type": "display_data"
    },
    {
     "data": {
      "application/vnd.jupyter.widget-view+json": {
       "model_id": "",
       "version_major": 2,
       "version_minor": 0
      },
      "text/plain": [
       "  0%|          | 0/4001 [00:00<?, ?it/s]"
      ]
     },
     "metadata": {},
     "output_type": "display_data"
    },
    {
     "data": {
      "application/vnd.jupyter.widget-view+json": {
       "model_id": "",
       "version_major": 2,
       "version_minor": 0
      },
      "text/plain": [
       "  0%|          | 0/4001 [00:00<?, ?it/s]"
      ]
     },
     "metadata": {},
     "output_type": "display_data"
    },
    {
     "data": {
      "application/vnd.jupyter.widget-view+json": {
       "model_id": "",
       "version_major": 2,
       "version_minor": 0
      },
      "text/plain": [
       "  0%|          | 0/4001 [00:00<?, ?it/s]"
      ]
     },
     "metadata": {},
     "output_type": "display_data"
    },
    {
     "data": {
      "application/vnd.jupyter.widget-view+json": {
       "model_id": "",
       "version_major": 2,
       "version_minor": 0
      },
      "text/plain": [
       "  0%|          | 0/4001 [00:00<?, ?it/s]"
      ]
     },
     "metadata": {},
     "output_type": "display_data"
    },
    {
     "data": {
      "application/vnd.jupyter.widget-view+json": {
       "model_id": "",
       "version_major": 2,
       "version_minor": 0
      },
      "text/plain": [
       "  0%|          | 0/4001 [00:00<?, ?it/s]"
      ]
     },
     "metadata": {},
     "output_type": "display_data"
    },
    {
     "data": {
      "application/vnd.jupyter.widget-view+json": {
       "model_id": "",
       "version_major": 2,
       "version_minor": 0
      },
      "text/plain": [
       "  0%|          | 0/4001 [00:00<?, ?it/s]"
      ]
     },
     "metadata": {},
     "output_type": "display_data"
    },
    {
     "data": {
      "application/vnd.jupyter.widget-view+json": {
       "model_id": "",
       "version_major": 2,
       "version_minor": 0
      },
      "text/plain": [
       "  0%|          | 0/4001 [00:00<?, ?it/s]"
      ]
     },
     "metadata": {},
     "output_type": "display_data"
    },
    {
     "data": {
      "application/vnd.jupyter.widget-view+json": {
       "model_id": "",
       "version_major": 2,
       "version_minor": 0
      },
      "text/plain": [
       "  0%|          | 0/4001 [00:00<?, ?it/s]"
      ]
     },
     "metadata": {},
     "output_type": "display_data"
    },
    {
     "data": {
      "application/vnd.jupyter.widget-view+json": {
       "model_id": "",
       "version_major": 2,
       "version_minor": 0
      },
      "text/plain": [
       "  0%|          | 0/4001 [00:00<?, ?it/s]"
      ]
     },
     "metadata": {},
     "output_type": "display_data"
    },
    {
     "data": {
      "application/vnd.jupyter.widget-view+json": {
       "model_id": "",
       "version_major": 2,
       "version_minor": 0
      },
      "text/plain": [
       "  0%|          | 0/4001 [00:00<?, ?it/s]"
      ]
     },
     "metadata": {},
     "output_type": "display_data"
    },
    {
     "data": {
      "application/vnd.jupyter.widget-view+json": {
       "model_id": "",
       "version_major": 2,
       "version_minor": 0
      },
      "text/plain": [
       "  0%|          | 0/4001 [00:00<?, ?it/s]"
      ]
     },
     "metadata": {},
     "output_type": "display_data"
    },
    {
     "data": {
      "application/vnd.jupyter.widget-view+json": {
       "model_id": "",
       "version_major": 2,
       "version_minor": 0
      },
      "text/plain": [
       "  0%|          | 0/4001 [00:00<?, ?it/s]"
      ]
     },
     "metadata": {},
     "output_type": "display_data"
    },
    {
     "data": {
      "application/vnd.jupyter.widget-view+json": {
       "model_id": "",
       "version_major": 2,
       "version_minor": 0
      },
      "text/plain": [
       "  0%|          | 0/4001 [00:00<?, ?it/s]"
      ]
     },
     "metadata": {},
     "output_type": "display_data"
    },
    {
     "data": {
      "application/vnd.jupyter.widget-view+json": {
       "model_id": "",
       "version_major": 2,
       "version_minor": 0
      },
      "text/plain": [
       "  0%|          | 0/4001 [00:00<?, ?it/s]"
      ]
     },
     "metadata": {},
     "output_type": "display_data"
    },
    {
     "data": {
      "application/vnd.jupyter.widget-view+json": {
       "model_id": "",
       "version_major": 2,
       "version_minor": 0
      },
      "text/plain": [
       "  0%|          | 0/4001 [00:00<?, ?it/s]"
      ]
     },
     "metadata": {},
     "output_type": "display_data"
    },
    {
     "data": {
      "application/vnd.jupyter.widget-view+json": {
       "model_id": "",
       "version_major": 2,
       "version_minor": 0
      },
      "text/plain": [
       "  0%|          | 0/4001 [00:00<?, ?it/s]"
      ]
     },
     "metadata": {},
     "output_type": "display_data"
    },
    {
     "data": {
      "application/vnd.jupyter.widget-view+json": {
       "model_id": "",
       "version_major": 2,
       "version_minor": 0
      },
      "text/plain": [
       "  0%|          | 0/4001 [00:00<?, ?it/s]"
      ]
     },
     "metadata": {},
     "output_type": "display_data"
    },
    {
     "data": {
      "application/vnd.jupyter.widget-view+json": {
       "model_id": "",
       "version_major": 2,
       "version_minor": 0
      },
      "text/plain": [
       "  0%|          | 0/4001 [00:00<?, ?it/s]"
      ]
     },
     "metadata": {},
     "output_type": "display_data"
    },
    {
     "data": {
      "application/vnd.jupyter.widget-view+json": {
       "model_id": "",
       "version_major": 2,
       "version_minor": 0
      },
      "text/plain": [
       "  0%|          | 0/4001 [00:00<?, ?it/s]"
      ]
     },
     "metadata": {},
     "output_type": "display_data"
    },
    {
     "data": {
      "application/vnd.jupyter.widget-view+json": {
       "model_id": "",
       "version_major": 2,
       "version_minor": 0
      },
      "text/plain": [
       "  0%|          | 0/4001 [00:00<?, ?it/s]"
      ]
     },
     "metadata": {},
     "output_type": "display_data"
    },
    {
     "data": {
      "application/vnd.jupyter.widget-view+json": {
       "model_id": "",
       "version_major": 2,
       "version_minor": 0
      },
      "text/plain": [
       "  0%|          | 0/4001 [00:00<?, ?it/s]"
      ]
     },
     "metadata": {},
     "output_type": "display_data"
    },
    {
     "data": {
      "application/vnd.jupyter.widget-view+json": {
       "model_id": "",
       "version_major": 2,
       "version_minor": 0
      },
      "text/plain": [
       "  0%|          | 0/4001 [00:00<?, ?it/s]"
      ]
     },
     "metadata": {},
     "output_type": "display_data"
    },
    {
     "data": {
      "application/vnd.jupyter.widget-view+json": {
       "model_id": "",
       "version_major": 2,
       "version_minor": 0
      },
      "text/plain": [
       "  0%|          | 0/4001 [00:00<?, ?it/s]"
      ]
     },
     "metadata": {},
     "output_type": "display_data"
    },
    {
     "data": {
      "application/vnd.jupyter.widget-view+json": {
       "model_id": "",
       "version_major": 2,
       "version_minor": 0
      },
      "text/plain": [
       "  0%|          | 0/4001 [00:00<?, ?it/s]"
      ]
     },
     "metadata": {},
     "output_type": "display_data"
    },
    {
     "data": {
      "application/vnd.jupyter.widget-view+json": {
       "model_id": "",
       "version_major": 2,
       "version_minor": 0
      },
      "text/plain": [
       "  0%|          | 0/4001 [00:00<?, ?it/s]"
      ]
     },
     "metadata": {},
     "output_type": "display_data"
    },
    {
     "data": {
      "application/vnd.jupyter.widget-view+json": {
       "model_id": "",
       "version_major": 2,
       "version_minor": 0
      },
      "text/plain": [
       "  0%|          | 0/4001 [00:00<?, ?it/s]"
      ]
     },
     "metadata": {},
     "output_type": "display_data"
    },
    {
     "data": {
      "application/vnd.jupyter.widget-view+json": {
       "model_id": "",
       "version_major": 2,
       "version_minor": 0
      },
      "text/plain": [
       "  0%|          | 0/4001 [00:00<?, ?it/s]"
      ]
     },
     "metadata": {},
     "output_type": "display_data"
    },
    {
     "data": {
      "application/vnd.jupyter.widget-view+json": {
       "model_id": "",
       "version_major": 2,
       "version_minor": 0
      },
      "text/plain": [
       "  0%|          | 0/4001 [00:00<?, ?it/s]"
      ]
     },
     "metadata": {},
     "output_type": "display_data"
    },
    {
     "data": {
      "application/vnd.jupyter.widget-view+json": {
       "model_id": "",
       "version_major": 2,
       "version_minor": 0
      },
      "text/plain": [
       "  0%|          | 0/4001 [00:00<?, ?it/s]"
      ]
     },
     "metadata": {},
     "output_type": "display_data"
    },
    {
     "data": {
      "application/vnd.jupyter.widget-view+json": {
       "model_id": "",
       "version_major": 2,
       "version_minor": 0
      },
      "text/plain": [
       "  0%|          | 0/4001 [00:00<?, ?it/s]"
      ]
     },
     "metadata": {},
     "output_type": "display_data"
    },
    {
     "data": {
      "application/vnd.jupyter.widget-view+json": {
       "model_id": "",
       "version_major": 2,
       "version_minor": 0
      },
      "text/plain": [
       "  0%|          | 0/4001 [00:00<?, ?it/s]"
      ]
     },
     "metadata": {},
     "output_type": "display_data"
    },
    {
     "data": {
      "application/vnd.jupyter.widget-view+json": {
       "model_id": "",
       "version_major": 2,
       "version_minor": 0
      },
      "text/plain": [
       "  0%|          | 0/4001 [00:00<?, ?it/s]"
      ]
     },
     "metadata": {},
     "output_type": "display_data"
    },
    {
     "data": {
      "application/vnd.jupyter.widget-view+json": {
       "model_id": "",
       "version_major": 2,
       "version_minor": 0
      },
      "text/plain": [
       "  0%|          | 0/4001 [00:00<?, ?it/s]"
      ]
     },
     "metadata": {},
     "output_type": "display_data"
    },
    {
     "data": {
      "application/vnd.jupyter.widget-view+json": {
       "model_id": "",
       "version_major": 2,
       "version_minor": 0
      },
      "text/plain": [
       "  0%|          | 0/4001 [00:00<?, ?it/s]"
      ]
     },
     "metadata": {},
     "output_type": "display_data"
    },
    {
     "data": {
      "application/vnd.jupyter.widget-view+json": {
       "model_id": "",
       "version_major": 2,
       "version_minor": 0
      },
      "text/plain": [
       "  0%|          | 0/4001 [00:00<?, ?it/s]"
      ]
     },
     "metadata": {},
     "output_type": "display_data"
    },
    {
     "data": {
      "application/vnd.jupyter.widget-view+json": {
       "model_id": "",
       "version_major": 2,
       "version_minor": 0
      },
      "text/plain": [
       "  0%|          | 0/4001 [00:00<?, ?it/s]"
      ]
     },
     "metadata": {},
     "output_type": "display_data"
    },
    {
     "data": {
      "application/vnd.jupyter.widget-view+json": {
       "model_id": "",
       "version_major": 2,
       "version_minor": 0
      },
      "text/plain": [
       "  0%|          | 0/4001 [00:00<?, ?it/s]"
      ]
     },
     "metadata": {},
     "output_type": "display_data"
    },
    {
     "data": {
      "application/vnd.jupyter.widget-view+json": {
       "model_id": "",
       "version_major": 2,
       "version_minor": 0
      },
      "text/plain": [
       "  0%|          | 0/4001 [00:00<?, ?it/s]"
      ]
     },
     "metadata": {},
     "output_type": "display_data"
    },
    {
     "data": {
      "application/vnd.jupyter.widget-view+json": {
       "model_id": "",
       "version_major": 2,
       "version_minor": 0
      },
      "text/plain": [
       "  0%|          | 0/4001 [00:00<?, ?it/s]"
      ]
     },
     "metadata": {},
     "output_type": "display_data"
    },
    {
     "data": {
      "application/vnd.jupyter.widget-view+json": {
       "model_id": "",
       "version_major": 2,
       "version_minor": 0
      },
      "text/plain": [
       "  0%|          | 0/4001 [00:00<?, ?it/s]"
      ]
     },
     "metadata": {},
     "output_type": "display_data"
    },
    {
     "data": {
      "application/vnd.jupyter.widget-view+json": {
       "model_id": "",
       "version_major": 2,
       "version_minor": 0
      },
      "text/plain": [
       "  0%|          | 0/4001 [00:00<?, ?it/s]"
      ]
     },
     "metadata": {},
     "output_type": "display_data"
    },
    {
     "data": {
      "application/vnd.jupyter.widget-view+json": {
       "model_id": "",
       "version_major": 2,
       "version_minor": 0
      },
      "text/plain": [
       "  0%|          | 0/4001 [00:00<?, ?it/s]"
      ]
     },
     "metadata": {},
     "output_type": "display_data"
    },
    {
     "data": {
      "application/vnd.jupyter.widget-view+json": {
       "model_id": "",
       "version_major": 2,
       "version_minor": 0
      },
      "text/plain": [
       "  0%|          | 0/4001 [00:00<?, ?it/s]"
      ]
     },
     "metadata": {},
     "output_type": "display_data"
    },
    {
     "data": {
      "application/vnd.jupyter.widget-view+json": {
       "model_id": "",
       "version_major": 2,
       "version_minor": 0
      },
      "text/plain": [
       "  0%|          | 0/4001 [00:00<?, ?it/s]"
      ]
     },
     "metadata": {},
     "output_type": "display_data"
    },
    {
     "data": {
      "application/vnd.jupyter.widget-view+json": {
       "model_id": "",
       "version_major": 2,
       "version_minor": 0
      },
      "text/plain": [
       "  0%|          | 0/4001 [00:00<?, ?it/s]"
      ]
     },
     "metadata": {},
     "output_type": "display_data"
    },
    {
     "data": {
      "application/vnd.jupyter.widget-view+json": {
       "model_id": "",
       "version_major": 2,
       "version_minor": 0
      },
      "text/plain": [
       "  0%|          | 0/4001 [00:00<?, ?it/s]"
      ]
     },
     "metadata": {},
     "output_type": "display_data"
    },
    {
     "data": {
      "application/vnd.jupyter.widget-view+json": {
       "model_id": "",
       "version_major": 2,
       "version_minor": 0
      },
      "text/plain": [
       "  0%|          | 0/4001 [00:00<?, ?it/s]"
      ]
     },
     "metadata": {},
     "output_type": "display_data"
    },
    {
     "data": {
      "application/vnd.jupyter.widget-view+json": {
       "model_id": "",
       "version_major": 2,
       "version_minor": 0
      },
      "text/plain": [
       "  0%|          | 0/4001 [00:00<?, ?it/s]"
      ]
     },
     "metadata": {},
     "output_type": "display_data"
    },
    {
     "data": {
      "application/vnd.jupyter.widget-view+json": {
       "model_id": "",
       "version_major": 2,
       "version_minor": 0
      },
      "text/plain": [
       "  0%|          | 0/4001 [00:00<?, ?it/s]"
      ]
     },
     "metadata": {},
     "output_type": "display_data"
    },
    {
     "data": {
      "application/vnd.jupyter.widget-view+json": {
       "model_id": "",
       "version_major": 2,
       "version_minor": 0
      },
      "text/plain": [
       "  0%|          | 0/4001 [00:00<?, ?it/s]"
      ]
     },
     "metadata": {},
     "output_type": "display_data"
    },
    {
     "data": {
      "application/vnd.jupyter.widget-view+json": {
       "model_id": "",
       "version_major": 2,
       "version_minor": 0
      },
      "text/plain": [
       "  0%|          | 0/4001 [00:00<?, ?it/s]"
      ]
     },
     "metadata": {},
     "output_type": "display_data"
    },
    {
     "data": {
      "application/vnd.jupyter.widget-view+json": {
       "model_id": "",
       "version_major": 2,
       "version_minor": 0
      },
      "text/plain": [
       "  0%|          | 0/4001 [00:00<?, ?it/s]"
      ]
     },
     "metadata": {},
     "output_type": "display_data"
    },
    {
     "data": {
      "application/vnd.jupyter.widget-view+json": {
       "model_id": "",
       "version_major": 2,
       "version_minor": 0
      },
      "text/plain": [
       "  0%|          | 0/4001 [00:00<?, ?it/s]"
      ]
     },
     "metadata": {},
     "output_type": "display_data"
    },
    {
     "data": {
      "application/vnd.jupyter.widget-view+json": {
       "model_id": "",
       "version_major": 2,
       "version_minor": 0
      },
      "text/plain": [
       "  0%|          | 0/4001 [00:00<?, ?it/s]"
      ]
     },
     "metadata": {},
     "output_type": "display_data"
    },
    {
     "data": {
      "application/vnd.jupyter.widget-view+json": {
       "model_id": "",
       "version_major": 2,
       "version_minor": 0
      },
      "text/plain": [
       "  0%|          | 0/4001 [00:00<?, ?it/s]"
      ]
     },
     "metadata": {},
     "output_type": "display_data"
    },
    {
     "data": {
      "application/vnd.jupyter.widget-view+json": {
       "model_id": "",
       "version_major": 2,
       "version_minor": 0
      },
      "text/plain": [
       "  0%|          | 0/4001 [00:00<?, ?it/s]"
      ]
     },
     "metadata": {},
     "output_type": "display_data"
    },
    {
     "data": {
      "application/vnd.jupyter.widget-view+json": {
       "model_id": "",
       "version_major": 2,
       "version_minor": 0
      },
      "text/plain": [
       "  0%|          | 0/4001 [00:00<?, ?it/s]"
      ]
     },
     "metadata": {},
     "output_type": "display_data"
    },
    {
     "data": {
      "application/vnd.jupyter.widget-view+json": {
       "model_id": "",
       "version_major": 2,
       "version_minor": 0
      },
      "text/plain": [
       "  0%|          | 0/4001 [00:00<?, ?it/s]"
      ]
     },
     "metadata": {},
     "output_type": "display_data"
    },
    {
     "data": {
      "application/vnd.jupyter.widget-view+json": {
       "model_id": "",
       "version_major": 2,
       "version_minor": 0
      },
      "text/plain": [
       "  0%|          | 0/4001 [00:00<?, ?it/s]"
      ]
     },
     "metadata": {},
     "output_type": "display_data"
    },
    {
     "data": {
      "application/vnd.jupyter.widget-view+json": {
       "model_id": "",
       "version_major": 2,
       "version_minor": 0
      },
      "text/plain": [
       "  0%|          | 0/4001 [00:00<?, ?it/s]"
      ]
     },
     "metadata": {},
     "output_type": "display_data"
    },
    {
     "data": {
      "application/vnd.jupyter.widget-view+json": {
       "model_id": "",
       "version_major": 2,
       "version_minor": 0
      },
      "text/plain": [
       "  0%|          | 0/4001 [00:00<?, ?it/s]"
      ]
     },
     "metadata": {},
     "output_type": "display_data"
    },
    {
     "data": {
      "application/vnd.jupyter.widget-view+json": {
       "model_id": "",
       "version_major": 2,
       "version_minor": 0
      },
      "text/plain": [
       "  0%|          | 0/4001 [00:00<?, ?it/s]"
      ]
     },
     "metadata": {},
     "output_type": "display_data"
    },
    {
     "data": {
      "application/vnd.jupyter.widget-view+json": {
       "model_id": "",
       "version_major": 2,
       "version_minor": 0
      },
      "text/plain": [
       "  0%|          | 0/4001 [00:00<?, ?it/s]"
      ]
     },
     "metadata": {},
     "output_type": "display_data"
    },
    {
     "data": {
      "application/vnd.jupyter.widget-view+json": {
       "model_id": "",
       "version_major": 2,
       "version_minor": 0
      },
      "text/plain": [
       "  0%|          | 0/4001 [00:00<?, ?it/s]"
      ]
     },
     "metadata": {},
     "output_type": "display_data"
    },
    {
     "data": {
      "application/vnd.jupyter.widget-view+json": {
       "model_id": "",
       "version_major": 2,
       "version_minor": 0
      },
      "text/plain": [
       "  0%|          | 0/4001 [00:00<?, ?it/s]"
      ]
     },
     "metadata": {},
     "output_type": "display_data"
    },
    {
     "data": {
      "application/vnd.jupyter.widget-view+json": {
       "model_id": "",
       "version_major": 2,
       "version_minor": 0
      },
      "text/plain": [
       "  0%|          | 0/4001 [00:00<?, ?it/s]"
      ]
     },
     "metadata": {},
     "output_type": "display_data"
    },
    {
     "data": {
      "application/vnd.jupyter.widget-view+json": {
       "model_id": "",
       "version_major": 2,
       "version_minor": 0
      },
      "text/plain": [
       "  0%|          | 0/4001 [00:00<?, ?it/s]"
      ]
     },
     "metadata": {},
     "output_type": "display_data"
    },
    {
     "data": {
      "application/vnd.jupyter.widget-view+json": {
       "model_id": "",
       "version_major": 2,
       "version_minor": 0
      },
      "text/plain": [
       "  0%|          | 0/4001 [00:00<?, ?it/s]"
      ]
     },
     "metadata": {},
     "output_type": "display_data"
    },
    {
     "data": {
      "application/vnd.jupyter.widget-view+json": {
       "model_id": "",
       "version_major": 2,
       "version_minor": 0
      },
      "text/plain": [
       "  0%|          | 0/4001 [00:00<?, ?it/s]"
      ]
     },
     "metadata": {},
     "output_type": "display_data"
    },
    {
     "data": {
      "application/vnd.jupyter.widget-view+json": {
       "model_id": "",
       "version_major": 2,
       "version_minor": 0
      },
      "text/plain": [
       "  0%|          | 0/4001 [00:00<?, ?it/s]"
      ]
     },
     "metadata": {},
     "output_type": "display_data"
    },
    {
     "data": {
      "application/vnd.jupyter.widget-view+json": {
       "model_id": "",
       "version_major": 2,
       "version_minor": 0
      },
      "text/plain": [
       "  0%|          | 0/4001 [00:00<?, ?it/s]"
      ]
     },
     "metadata": {},
     "output_type": "display_data"
    },
    {
     "data": {
      "application/vnd.jupyter.widget-view+json": {
       "model_id": "",
       "version_major": 2,
       "version_minor": 0
      },
      "text/plain": [
       "  0%|          | 0/4001 [00:00<?, ?it/s]"
      ]
     },
     "metadata": {},
     "output_type": "display_data"
    },
    {
     "data": {
      "application/vnd.jupyter.widget-view+json": {
       "model_id": "",
       "version_major": 2,
       "version_minor": 0
      },
      "text/plain": [
       "  0%|          | 0/4001 [00:00<?, ?it/s]"
      ]
     },
     "metadata": {},
     "output_type": "display_data"
    },
    {
     "data": {
      "application/vnd.jupyter.widget-view+json": {
       "model_id": "",
       "version_major": 2,
       "version_minor": 0
      },
      "text/plain": [
       "  0%|          | 0/4001 [00:00<?, ?it/s]"
      ]
     },
     "metadata": {},
     "output_type": "display_data"
    },
    {
     "data": {
      "application/vnd.jupyter.widget-view+json": {
       "model_id": "",
       "version_major": 2,
       "version_minor": 0
      },
      "text/plain": [
       "  0%|          | 0/4001 [00:00<?, ?it/s]"
      ]
     },
     "metadata": {},
     "output_type": "display_data"
    },
    {
     "data": {
      "application/vnd.jupyter.widget-view+json": {
       "model_id": "",
       "version_major": 2,
       "version_minor": 0
      },
      "text/plain": [
       "  0%|          | 0/4001 [00:00<?, ?it/s]"
      ]
     },
     "metadata": {},
     "output_type": "display_data"
    },
    {
     "data": {
      "application/vnd.jupyter.widget-view+json": {
       "model_id": "",
       "version_major": 2,
       "version_minor": 0
      },
      "text/plain": [
       "  0%|          | 0/4001 [00:00<?, ?it/s]"
      ]
     },
     "metadata": {},
     "output_type": "display_data"
    },
    {
     "data": {
      "application/vnd.jupyter.widget-view+json": {
       "model_id": "",
       "version_major": 2,
       "version_minor": 0
      },
      "text/plain": [
       "  0%|          | 0/4001 [00:00<?, ?it/s]"
      ]
     },
     "metadata": {},
     "output_type": "display_data"
    },
    {
     "data": {
      "application/vnd.jupyter.widget-view+json": {
       "model_id": "",
       "version_major": 2,
       "version_minor": 0
      },
      "text/plain": [
       "  0%|          | 0/4001 [00:00<?, ?it/s]"
      ]
     },
     "metadata": {},
     "output_type": "display_data"
    },
    {
     "data": {
      "application/vnd.jupyter.widget-view+json": {
       "model_id": "",
       "version_major": 2,
       "version_minor": 0
      },
      "text/plain": [
       "  0%|          | 0/4001 [00:00<?, ?it/s]"
      ]
     },
     "metadata": {},
     "output_type": "display_data"
    },
    {
     "data": {
      "application/vnd.jupyter.widget-view+json": {
       "model_id": "",
       "version_major": 2,
       "version_minor": 0
      },
      "text/plain": [
       "  0%|          | 0/4001 [00:00<?, ?it/s]"
      ]
     },
     "metadata": {},
     "output_type": "display_data"
    },
    {
     "data": {
      "application/vnd.jupyter.widget-view+json": {
       "model_id": "",
       "version_major": 2,
       "version_minor": 0
      },
      "text/plain": [
       "  0%|          | 0/4001 [00:00<?, ?it/s]"
      ]
     },
     "metadata": {},
     "output_type": "display_data"
    },
    {
     "data": {
      "application/vnd.jupyter.widget-view+json": {
       "model_id": "",
       "version_major": 2,
       "version_minor": 0
      },
      "text/plain": [
       "  0%|          | 0/4001 [00:00<?, ?it/s]"
      ]
     },
     "metadata": {},
     "output_type": "display_data"
    },
    {
     "data": {
      "application/vnd.jupyter.widget-view+json": {
       "model_id": "",
       "version_major": 2,
       "version_minor": 0
      },
      "text/plain": [
       "  0%|          | 0/4001 [00:00<?, ?it/s]"
      ]
     },
     "metadata": {},
     "output_type": "display_data"
    },
    {
     "data": {
      "application/vnd.jupyter.widget-view+json": {
       "model_id": "",
       "version_major": 2,
       "version_minor": 0
      },
      "text/plain": [
       "  0%|          | 0/4001 [00:00<?, ?it/s]"
      ]
     },
     "metadata": {},
     "output_type": "display_data"
    },
    {
     "data": {
      "application/vnd.jupyter.widget-view+json": {
       "model_id": "",
       "version_major": 2,
       "version_minor": 0
      },
      "text/plain": [
       "  0%|          | 0/4001 [00:00<?, ?it/s]"
      ]
     },
     "metadata": {},
     "output_type": "display_data"
    },
    {
     "data": {
      "application/vnd.jupyter.widget-view+json": {
       "model_id": "",
       "version_major": 2,
       "version_minor": 0
      },
      "text/plain": [
       "  0%|          | 0/4001 [00:00<?, ?it/s]"
      ]
     },
     "metadata": {},
     "output_type": "display_data"
    },
    {
     "data": {
      "application/vnd.jupyter.widget-view+json": {
       "model_id": "",
       "version_major": 2,
       "version_minor": 0
      },
      "text/plain": [
       "  0%|          | 0/4001 [00:00<?, ?it/s]"
      ]
     },
     "metadata": {},
     "output_type": "display_data"
    },
    {
     "data": {
      "application/vnd.jupyter.widget-view+json": {
       "model_id": "",
       "version_major": 2,
       "version_minor": 0
      },
      "text/plain": [
       "  0%|          | 0/4001 [00:00<?, ?it/s]"
      ]
     },
     "metadata": {},
     "output_type": "display_data"
    },
    {
     "data": {
      "application/vnd.jupyter.widget-view+json": {
       "model_id": "",
       "version_major": 2,
       "version_minor": 0
      },
      "text/plain": [
       "  0%|          | 0/4001 [00:00<?, ?it/s]"
      ]
     },
     "metadata": {},
     "output_type": "display_data"
    },
    {
     "data": {
      "application/vnd.jupyter.widget-view+json": {
       "model_id": "",
       "version_major": 2,
       "version_minor": 0
      },
      "text/plain": [
       "  0%|          | 0/4001 [00:00<?, ?it/s]"
      ]
     },
     "metadata": {},
     "output_type": "display_data"
    },
    {
     "data": {
      "application/vnd.jupyter.widget-view+json": {
       "model_id": "",
       "version_major": 2,
       "version_minor": 0
      },
      "text/plain": [
       "  0%|          | 0/4001 [00:00<?, ?it/s]"
      ]
     },
     "metadata": {},
     "output_type": "display_data"
    },
    {
     "data": {
      "application/vnd.jupyter.widget-view+json": {
       "model_id": "",
       "version_major": 2,
       "version_minor": 0
      },
      "text/plain": [
       "  0%|          | 0/4001 [00:00<?, ?it/s]"
      ]
     },
     "metadata": {},
     "output_type": "display_data"
    },
    {
     "data": {
      "application/vnd.jupyter.widget-view+json": {
       "model_id": "",
       "version_major": 2,
       "version_minor": 0
      },
      "text/plain": [
       "  0%|          | 0/4001 [00:00<?, ?it/s]"
      ]
     },
     "metadata": {},
     "output_type": "display_data"
    },
    {
     "data": {
      "application/vnd.jupyter.widget-view+json": {
       "model_id": "",
       "version_major": 2,
       "version_minor": 0
      },
      "text/plain": [
       "  0%|          | 0/4001 [00:00<?, ?it/s]"
      ]
     },
     "metadata": {},
     "output_type": "display_data"
    },
    {
     "data": {
      "application/vnd.jupyter.widget-view+json": {
       "model_id": "",
       "version_major": 2,
       "version_minor": 0
      },
      "text/plain": [
       "  0%|          | 0/4001 [00:00<?, ?it/s]"
      ]
     },
     "metadata": {},
     "output_type": "display_data"
    },
    {
     "data": {
      "application/vnd.jupyter.widget-view+json": {
       "model_id": "",
       "version_major": 2,
       "version_minor": 0
      },
      "text/plain": [
       "  0%|          | 0/4001 [00:00<?, ?it/s]"
      ]
     },
     "metadata": {},
     "output_type": "display_data"
    },
    {
     "data": {
      "application/vnd.jupyter.widget-view+json": {
       "model_id": "",
       "version_major": 2,
       "version_minor": 0
      },
      "text/plain": [
       "  0%|          | 0/4001 [00:00<?, ?it/s]"
      ]
     },
     "metadata": {},
     "output_type": "display_data"
    },
    {
     "data": {
      "application/vnd.jupyter.widget-view+json": {
       "model_id": "",
       "version_major": 2,
       "version_minor": 0
      },
      "text/plain": [
       "  0%|          | 0/4001 [00:00<?, ?it/s]"
      ]
     },
     "metadata": {},
     "output_type": "display_data"
    },
    {
     "data": {
      "application/vnd.jupyter.widget-view+json": {
       "model_id": "",
       "version_major": 2,
       "version_minor": 0
      },
      "text/plain": [
       "  0%|          | 0/4001 [00:00<?, ?it/s]"
      ]
     },
     "metadata": {},
     "output_type": "display_data"
    },
    {
     "data": {
      "application/vnd.jupyter.widget-view+json": {
       "model_id": "",
       "version_major": 2,
       "version_minor": 0
      },
      "text/plain": [
       "  0%|          | 0/4001 [00:00<?, ?it/s]"
      ]
     },
     "metadata": {},
     "output_type": "display_data"
    },
    {
     "data": {
      "application/vnd.jupyter.widget-view+json": {
       "model_id": "",
       "version_major": 2,
       "version_minor": 0
      },
      "text/plain": [
       "  0%|          | 0/4001 [00:00<?, ?it/s]"
      ]
     },
     "metadata": {},
     "output_type": "display_data"
    },
    {
     "data": {
      "application/vnd.jupyter.widget-view+json": {
       "model_id": "",
       "version_major": 2,
       "version_minor": 0
      },
      "text/plain": [
       "  0%|          | 0/4001 [00:00<?, ?it/s]"
      ]
     },
     "metadata": {},
     "output_type": "display_data"
    },
    {
     "data": {
      "application/vnd.jupyter.widget-view+json": {
       "model_id": "",
       "version_major": 2,
       "version_minor": 0
      },
      "text/plain": [
       "  0%|          | 0/4001 [00:00<?, ?it/s]"
      ]
     },
     "metadata": {},
     "output_type": "display_data"
    },
    {
     "data": {
      "application/vnd.jupyter.widget-view+json": {
       "model_id": "",
       "version_major": 2,
       "version_minor": 0
      },
      "text/plain": [
       "  0%|          | 0/4001 [00:00<?, ?it/s]"
      ]
     },
     "metadata": {},
     "output_type": "display_data"
    },
    {
     "data": {
      "application/vnd.jupyter.widget-view+json": {
       "model_id": "",
       "version_major": 2,
       "version_minor": 0
      },
      "text/plain": [
       "  0%|          | 0/4001 [00:00<?, ?it/s]"
      ]
     },
     "metadata": {},
     "output_type": "display_data"
    },
    {
     "data": {
      "application/vnd.jupyter.widget-view+json": {
       "model_id": "",
       "version_major": 2,
       "version_minor": 0
      },
      "text/plain": [
       "  0%|          | 0/4001 [00:00<?, ?it/s]"
      ]
     },
     "metadata": {},
     "output_type": "display_data"
    },
    {
     "data": {
      "application/vnd.jupyter.widget-view+json": {
       "model_id": "",
       "version_major": 2,
       "version_minor": 0
      },
      "text/plain": [
       "  0%|          | 0/4001 [00:00<?, ?it/s]"
      ]
     },
     "metadata": {},
     "output_type": "display_data"
    },
    {
     "data": {
      "application/vnd.jupyter.widget-view+json": {
       "model_id": "",
       "version_major": 2,
       "version_minor": 0
      },
      "text/plain": [
       "  0%|          | 0/4001 [00:00<?, ?it/s]"
      ]
     },
     "metadata": {},
     "output_type": "display_data"
    },
    {
     "data": {
      "application/vnd.jupyter.widget-view+json": {
       "model_id": "",
       "version_major": 2,
       "version_minor": 0
      },
      "text/plain": [
       "  0%|          | 0/4001 [00:00<?, ?it/s]"
      ]
     },
     "metadata": {},
     "output_type": "display_data"
    },
    {
     "data": {
      "application/vnd.jupyter.widget-view+json": {
       "model_id": "",
       "version_major": 2,
       "version_minor": 0
      },
      "text/plain": [
       "  0%|          | 0/4001 [00:00<?, ?it/s]"
      ]
     },
     "metadata": {},
     "output_type": "display_data"
    },
    {
     "data": {
      "application/vnd.jupyter.widget-view+json": {
       "model_id": "",
       "version_major": 2,
       "version_minor": 0
      },
      "text/plain": [
       "  0%|          | 0/4001 [00:00<?, ?it/s]"
      ]
     },
     "metadata": {},
     "output_type": "display_data"
    },
    {
     "data": {
      "application/vnd.jupyter.widget-view+json": {
       "model_id": "",
       "version_major": 2,
       "version_minor": 0
      },
      "text/plain": [
       "  0%|          | 0/4001 [00:00<?, ?it/s]"
      ]
     },
     "metadata": {},
     "output_type": "display_data"
    },
    {
     "data": {
      "application/vnd.jupyter.widget-view+json": {
       "model_id": "",
       "version_major": 2,
       "version_minor": 0
      },
      "text/plain": [
       "  0%|          | 0/4001 [00:00<?, ?it/s]"
      ]
     },
     "metadata": {},
     "output_type": "display_data"
    },
    {
     "data": {
      "application/vnd.jupyter.widget-view+json": {
       "model_id": "",
       "version_major": 2,
       "version_minor": 0
      },
      "text/plain": [
       "  0%|          | 0/4001 [00:00<?, ?it/s]"
      ]
     },
     "metadata": {},
     "output_type": "display_data"
    },
    {
     "data": {
      "application/vnd.jupyter.widget-view+json": {
       "model_id": "",
       "version_major": 2,
       "version_minor": 0
      },
      "text/plain": [
       "  0%|          | 0/4001 [00:00<?, ?it/s]"
      ]
     },
     "metadata": {},
     "output_type": "display_data"
    },
    {
     "data": {
      "application/vnd.jupyter.widget-view+json": {
       "model_id": "",
       "version_major": 2,
       "version_minor": 0
      },
      "text/plain": [
       "  0%|          | 0/4001 [00:00<?, ?it/s]"
      ]
     },
     "metadata": {},
     "output_type": "display_data"
    },
    {
     "data": {
      "application/vnd.jupyter.widget-view+json": {
       "model_id": "",
       "version_major": 2,
       "version_minor": 0
      },
      "text/plain": [
       "  0%|          | 0/4001 [00:00<?, ?it/s]"
      ]
     },
     "metadata": {},
     "output_type": "display_data"
    },
    {
     "data": {
      "application/vnd.jupyter.widget-view+json": {
       "model_id": "",
       "version_major": 2,
       "version_minor": 0
      },
      "text/plain": [
       "  0%|          | 0/4001 [00:00<?, ?it/s]"
      ]
     },
     "metadata": {},
     "output_type": "display_data"
    },
    {
     "data": {
      "application/vnd.jupyter.widget-view+json": {
       "model_id": "",
       "version_major": 2,
       "version_minor": 0
      },
      "text/plain": [
       "  0%|          | 0/4001 [00:00<?, ?it/s]"
      ]
     },
     "metadata": {},
     "output_type": "display_data"
    },
    {
     "data": {
      "application/vnd.jupyter.widget-view+json": {
       "model_id": "",
       "version_major": 2,
       "version_minor": 0
      },
      "text/plain": [
       "  0%|          | 0/4001 [00:00<?, ?it/s]"
      ]
     },
     "metadata": {},
     "output_type": "display_data"
    },
    {
     "data": {
      "application/vnd.jupyter.widget-view+json": {
       "model_id": "",
       "version_major": 2,
       "version_minor": 0
      },
      "text/plain": [
       "  0%|          | 0/4001 [00:00<?, ?it/s]"
      ]
     },
     "metadata": {},
     "output_type": "display_data"
    },
    {
     "data": {
      "application/vnd.jupyter.widget-view+json": {
       "model_id": "",
       "version_major": 2,
       "version_minor": 0
      },
      "text/plain": [
       "  0%|          | 0/4001 [00:00<?, ?it/s]"
      ]
     },
     "metadata": {},
     "output_type": "display_data"
    },
    {
     "data": {
      "application/vnd.jupyter.widget-view+json": {
       "model_id": "",
       "version_major": 2,
       "version_minor": 0
      },
      "text/plain": [
       "  0%|          | 0/4001 [00:00<?, ?it/s]"
      ]
     },
     "metadata": {},
     "output_type": "display_data"
    },
    {
     "data": {
      "application/vnd.jupyter.widget-view+json": {
       "model_id": "",
       "version_major": 2,
       "version_minor": 0
      },
      "text/plain": [
       "  0%|          | 0/4001 [00:00<?, ?it/s]"
      ]
     },
     "metadata": {},
     "output_type": "display_data"
    },
    {
     "data": {
      "application/vnd.jupyter.widget-view+json": {
       "model_id": "",
       "version_major": 2,
       "version_minor": 0
      },
      "text/plain": [
       "  0%|          | 0/4001 [00:00<?, ?it/s]"
      ]
     },
     "metadata": {},
     "output_type": "display_data"
    },
    {
     "data": {
      "application/vnd.jupyter.widget-view+json": {
       "model_id": "",
       "version_major": 2,
       "version_minor": 0
      },
      "text/plain": [
       "  0%|          | 0/4001 [00:00<?, ?it/s]"
      ]
     },
     "metadata": {},
     "output_type": "display_data"
    },
    {
     "data": {
      "application/vnd.jupyter.widget-view+json": {
       "model_id": "",
       "version_major": 2,
       "version_minor": 0
      },
      "text/plain": [
       "  0%|          | 0/4001 [00:00<?, ?it/s]"
      ]
     },
     "metadata": {},
     "output_type": "display_data"
    },
    {
     "data": {
      "application/vnd.jupyter.widget-view+json": {
       "model_id": "",
       "version_major": 2,
       "version_minor": 0
      },
      "text/plain": [
       "  0%|          | 0/4001 [00:00<?, ?it/s]"
      ]
     },
     "metadata": {},
     "output_type": "display_data"
    },
    {
     "data": {
      "application/vnd.jupyter.widget-view+json": {
       "model_id": "",
       "version_major": 2,
       "version_minor": 0
      },
      "text/plain": [
       "  0%|          | 0/4001 [00:00<?, ?it/s]"
      ]
     },
     "metadata": {},
     "output_type": "display_data"
    },
    {
     "data": {
      "application/vnd.jupyter.widget-view+json": {
       "model_id": "",
       "version_major": 2,
       "version_minor": 0
      },
      "text/plain": [
       "  0%|          | 0/4001 [00:00<?, ?it/s]"
      ]
     },
     "metadata": {},
     "output_type": "display_data"
    },
    {
     "data": {
      "application/vnd.jupyter.widget-view+json": {
       "model_id": "",
       "version_major": 2,
       "version_minor": 0
      },
      "text/plain": [
       "  0%|          | 0/4001 [00:00<?, ?it/s]"
      ]
     },
     "metadata": {},
     "output_type": "display_data"
    },
    {
     "data": {
      "application/vnd.jupyter.widget-view+json": {
       "model_id": "",
       "version_major": 2,
       "version_minor": 0
      },
      "text/plain": [
       "  0%|          | 0/4001 [00:00<?, ?it/s]"
      ]
     },
     "metadata": {},
     "output_type": "display_data"
    },
    {
     "data": {
      "application/vnd.jupyter.widget-view+json": {
       "model_id": "",
       "version_major": 2,
       "version_minor": 0
      },
      "text/plain": [
       "  0%|          | 0/4001 [00:00<?, ?it/s]"
      ]
     },
     "metadata": {},
     "output_type": "display_data"
    },
    {
     "data": {
      "application/vnd.jupyter.widget-view+json": {
       "model_id": "",
       "version_major": 2,
       "version_minor": 0
      },
      "text/plain": [
       "  0%|          | 0/4001 [00:00<?, ?it/s]"
      ]
     },
     "metadata": {},
     "output_type": "display_data"
    },
    {
     "data": {
      "application/vnd.jupyter.widget-view+json": {
       "model_id": "",
       "version_major": 2,
       "version_minor": 0
      },
      "text/plain": [
       "  0%|          | 0/4001 [00:00<?, ?it/s]"
      ]
     },
     "metadata": {},
     "output_type": "display_data"
    },
    {
     "data": {
      "application/vnd.jupyter.widget-view+json": {
       "model_id": "",
       "version_major": 2,
       "version_minor": 0
      },
      "text/plain": [
       "  0%|          | 0/4001 [00:00<?, ?it/s]"
      ]
     },
     "metadata": {},
     "output_type": "display_data"
    },
    {
     "data": {
      "application/vnd.jupyter.widget-view+json": {
       "model_id": "",
       "version_major": 2,
       "version_minor": 0
      },
      "text/plain": [
       "  0%|          | 0/4001 [00:00<?, ?it/s]"
      ]
     },
     "metadata": {},
     "output_type": "display_data"
    },
    {
     "data": {
      "application/vnd.jupyter.widget-view+json": {
       "model_id": "",
       "version_major": 2,
       "version_minor": 0
      },
      "text/plain": [
       "  0%|          | 0/4001 [00:00<?, ?it/s]"
      ]
     },
     "metadata": {},
     "output_type": "display_data"
    },
    {
     "data": {
      "application/vnd.jupyter.widget-view+json": {
       "model_id": "",
       "version_major": 2,
       "version_minor": 0
      },
      "text/plain": [
       "  0%|          | 0/4001 [00:00<?, ?it/s]"
      ]
     },
     "metadata": {},
     "output_type": "display_data"
    },
    {
     "data": {
      "application/vnd.jupyter.widget-view+json": {
       "model_id": "",
       "version_major": 2,
       "version_minor": 0
      },
      "text/plain": [
       "  0%|          | 0/4001 [00:00<?, ?it/s]"
      ]
     },
     "metadata": {},
     "output_type": "display_data"
    },
    {
     "data": {
      "application/vnd.jupyter.widget-view+json": {
       "model_id": "",
       "version_major": 2,
       "version_minor": 0
      },
      "text/plain": [
       "  0%|          | 0/4001 [00:00<?, ?it/s]"
      ]
     },
     "metadata": {},
     "output_type": "display_data"
    },
    {
     "data": {
      "application/vnd.jupyter.widget-view+json": {
       "model_id": "",
       "version_major": 2,
       "version_minor": 0
      },
      "text/plain": [
       "  0%|          | 0/4001 [00:00<?, ?it/s]"
      ]
     },
     "metadata": {},
     "output_type": "display_data"
    },
    {
     "data": {
      "application/vnd.jupyter.widget-view+json": {
       "model_id": "",
       "version_major": 2,
       "version_minor": 0
      },
      "text/plain": [
       "  0%|          | 0/4001 [00:00<?, ?it/s]"
      ]
     },
     "metadata": {},
     "output_type": "display_data"
    },
    {
     "data": {
      "application/vnd.jupyter.widget-view+json": {
       "model_id": "",
       "version_major": 2,
       "version_minor": 0
      },
      "text/plain": [
       "  0%|          | 0/4001 [00:00<?, ?it/s]"
      ]
     },
     "metadata": {},
     "output_type": "display_data"
    },
    {
     "data": {
      "application/vnd.jupyter.widget-view+json": {
       "model_id": "",
       "version_major": 2,
       "version_minor": 0
      },
      "text/plain": [
       "  0%|          | 0/4001 [00:00<?, ?it/s]"
      ]
     },
     "metadata": {},
     "output_type": "display_data"
    },
    {
     "data": {
      "application/vnd.jupyter.widget-view+json": {
       "model_id": "",
       "version_major": 2,
       "version_minor": 0
      },
      "text/plain": [
       "  0%|          | 0/4001 [00:00<?, ?it/s]"
      ]
     },
     "metadata": {},
     "output_type": "display_data"
    },
    {
     "data": {
      "application/vnd.jupyter.widget-view+json": {
       "model_id": "",
       "version_major": 2,
       "version_minor": 0
      },
      "text/plain": [
       "  0%|          | 0/4001 [00:00<?, ?it/s]"
      ]
     },
     "metadata": {},
     "output_type": "display_data"
    },
    {
     "data": {
      "application/vnd.jupyter.widget-view+json": {
       "model_id": "",
       "version_major": 2,
       "version_minor": 0
      },
      "text/plain": [
       "  0%|          | 0/4001 [00:00<?, ?it/s]"
      ]
     },
     "metadata": {},
     "output_type": "display_data"
    },
    {
     "data": {
      "application/vnd.jupyter.widget-view+json": {
       "model_id": "",
       "version_major": 2,
       "version_minor": 0
      },
      "text/plain": [
       "  0%|          | 0/4001 [00:00<?, ?it/s]"
      ]
     },
     "metadata": {},
     "output_type": "display_data"
    },
    {
     "data": {
      "application/vnd.jupyter.widget-view+json": {
       "model_id": "",
       "version_major": 2,
       "version_minor": 0
      },
      "text/plain": [
       "  0%|          | 0/4001 [00:00<?, ?it/s]"
      ]
     },
     "metadata": {},
     "output_type": "display_data"
    },
    {
     "data": {
      "application/vnd.jupyter.widget-view+json": {
       "model_id": "",
       "version_major": 2,
       "version_minor": 0
      },
      "text/plain": [
       "  0%|          | 0/4001 [00:00<?, ?it/s]"
      ]
     },
     "metadata": {},
     "output_type": "display_data"
    },
    {
     "data": {
      "application/vnd.jupyter.widget-view+json": {
       "model_id": "",
       "version_major": 2,
       "version_minor": 0
      },
      "text/plain": [
       "  0%|          | 0/4001 [00:00<?, ?it/s]"
      ]
     },
     "metadata": {},
     "output_type": "display_data"
    },
    {
     "data": {
      "application/vnd.jupyter.widget-view+json": {
       "model_id": "",
       "version_major": 2,
       "version_minor": 0
      },
      "text/plain": [
       "  0%|          | 0/4001 [00:00<?, ?it/s]"
      ]
     },
     "metadata": {},
     "output_type": "display_data"
    },
    {
     "data": {
      "application/vnd.jupyter.widget-view+json": {
       "model_id": "",
       "version_major": 2,
       "version_minor": 0
      },
      "text/plain": [
       "  0%|          | 0/4001 [00:00<?, ?it/s]"
      ]
     },
     "metadata": {},
     "output_type": "display_data"
    },
    {
     "data": {
      "application/vnd.jupyter.widget-view+json": {
       "model_id": "",
       "version_major": 2,
       "version_minor": 0
      },
      "text/plain": [
       "  0%|          | 0/4001 [00:00<?, ?it/s]"
      ]
     },
     "metadata": {},
     "output_type": "display_data"
    },
    {
     "data": {
      "application/vnd.jupyter.widget-view+json": {
       "model_id": "",
       "version_major": 2,
       "version_minor": 0
      },
      "text/plain": [
       "  0%|          | 0/4001 [00:00<?, ?it/s]"
      ]
     },
     "metadata": {},
     "output_type": "display_data"
    },
    {
     "data": {
      "application/vnd.jupyter.widget-view+json": {
       "model_id": "",
       "version_major": 2,
       "version_minor": 0
      },
      "text/plain": [
       "  0%|          | 0/4001 [00:00<?, ?it/s]"
      ]
     },
     "metadata": {},
     "output_type": "display_data"
    },
    {
     "data": {
      "application/vnd.jupyter.widget-view+json": {
       "model_id": "",
       "version_major": 2,
       "version_minor": 0
      },
      "text/plain": [
       "  0%|          | 0/4001 [00:00<?, ?it/s]"
      ]
     },
     "metadata": {},
     "output_type": "display_data"
    },
    {
     "data": {
      "application/vnd.jupyter.widget-view+json": {
       "model_id": "",
       "version_major": 2,
       "version_minor": 0
      },
      "text/plain": [
       "  0%|          | 0/4001 [00:00<?, ?it/s]"
      ]
     },
     "metadata": {},
     "output_type": "display_data"
    },
    {
     "data": {
      "application/vnd.jupyter.widget-view+json": {
       "model_id": "",
       "version_major": 2,
       "version_minor": 0
      },
      "text/plain": [
       "  0%|          | 0/4001 [00:00<?, ?it/s]"
      ]
     },
     "metadata": {},
     "output_type": "display_data"
    },
    {
     "data": {
      "application/vnd.jupyter.widget-view+json": {
       "model_id": "",
       "version_major": 2,
       "version_minor": 0
      },
      "text/plain": [
       "  0%|          | 0/4001 [00:00<?, ?it/s]"
      ]
     },
     "metadata": {},
     "output_type": "display_data"
    },
    {
     "data": {
      "application/vnd.jupyter.widget-view+json": {
       "model_id": "",
       "version_major": 2,
       "version_minor": 0
      },
      "text/plain": [
       "  0%|          | 0/4001 [00:00<?, ?it/s]"
      ]
     },
     "metadata": {},
     "output_type": "display_data"
    },
    {
     "data": {
      "application/vnd.jupyter.widget-view+json": {
       "model_id": "",
       "version_major": 2,
       "version_minor": 0
      },
      "text/plain": [
       "  0%|          | 0/4001 [00:00<?, ?it/s]"
      ]
     },
     "metadata": {},
     "output_type": "display_data"
    },
    {
     "data": {
      "application/vnd.jupyter.widget-view+json": {
       "model_id": "",
       "version_major": 2,
       "version_minor": 0
      },
      "text/plain": [
       "  0%|          | 0/4001 [00:00<?, ?it/s]"
      ]
     },
     "metadata": {},
     "output_type": "display_data"
    },
    {
     "data": {
      "application/vnd.jupyter.widget-view+json": {
       "model_id": "",
       "version_major": 2,
       "version_minor": 0
      },
      "text/plain": [
       "  0%|          | 0/4001 [00:00<?, ?it/s]"
      ]
     },
     "metadata": {},
     "output_type": "display_data"
    },
    {
     "data": {
      "application/vnd.jupyter.widget-view+json": {
       "model_id": "",
       "version_major": 2,
       "version_minor": 0
      },
      "text/plain": [
       "  0%|          | 0/4001 [00:00<?, ?it/s]"
      ]
     },
     "metadata": {},
     "output_type": "display_data"
    },
    {
     "data": {
      "application/vnd.jupyter.widget-view+json": {
       "model_id": "",
       "version_major": 2,
       "version_minor": 0
      },
      "text/plain": [
       "  0%|          | 0/4001 [00:00<?, ?it/s]"
      ]
     },
     "metadata": {},
     "output_type": "display_data"
    },
    {
     "data": {
      "application/vnd.jupyter.widget-view+json": {
       "model_id": "",
       "version_major": 2,
       "version_minor": 0
      },
      "text/plain": [
       "  0%|          | 0/4001 [00:00<?, ?it/s]"
      ]
     },
     "metadata": {},
     "output_type": "display_data"
    },
    {
     "data": {
      "application/vnd.jupyter.widget-view+json": {
       "model_id": "",
       "version_major": 2,
       "version_minor": 0
      },
      "text/plain": [
       "  0%|          | 0/4001 [00:00<?, ?it/s]"
      ]
     },
     "metadata": {},
     "output_type": "display_data"
    },
    {
     "data": {
      "application/vnd.jupyter.widget-view+json": {
       "model_id": "",
       "version_major": 2,
       "version_minor": 0
      },
      "text/plain": [
       "  0%|          | 0/4001 [00:00<?, ?it/s]"
      ]
     },
     "metadata": {},
     "output_type": "display_data"
    },
    {
     "data": {
      "application/vnd.jupyter.widget-view+json": {
       "model_id": "",
       "version_major": 2,
       "version_minor": 0
      },
      "text/plain": [
       "  0%|          | 0/4001 [00:00<?, ?it/s]"
      ]
     },
     "metadata": {},
     "output_type": "display_data"
    },
    {
     "data": {
      "application/vnd.jupyter.widget-view+json": {
       "model_id": "",
       "version_major": 2,
       "version_minor": 0
      },
      "text/plain": [
       "  0%|          | 0/4001 [00:00<?, ?it/s]"
      ]
     },
     "metadata": {},
     "output_type": "display_data"
    },
    {
     "data": {
      "application/vnd.jupyter.widget-view+json": {
       "model_id": "",
       "version_major": 2,
       "version_minor": 0
      },
      "text/plain": [
       "  0%|          | 0/4001 [00:00<?, ?it/s]"
      ]
     },
     "metadata": {},
     "output_type": "display_data"
    },
    {
     "data": {
      "application/vnd.jupyter.widget-view+json": {
       "model_id": "",
       "version_major": 2,
       "version_minor": 0
      },
      "text/plain": [
       "  0%|          | 0/4001 [00:00<?, ?it/s]"
      ]
     },
     "metadata": {},
     "output_type": "display_data"
    },
    {
     "data": {
      "application/vnd.jupyter.widget-view+json": {
       "model_id": "",
       "version_major": 2,
       "version_minor": 0
      },
      "text/plain": [
       "  0%|          | 0/4001 [00:00<?, ?it/s]"
      ]
     },
     "metadata": {},
     "output_type": "display_data"
    },
    {
     "data": {
      "application/vnd.jupyter.widget-view+json": {
       "model_id": "",
       "version_major": 2,
       "version_minor": 0
      },
      "text/plain": [
       "  0%|          | 0/4001 [00:00<?, ?it/s]"
      ]
     },
     "metadata": {},
     "output_type": "display_data"
    },
    {
     "data": {
      "application/vnd.jupyter.widget-view+json": {
       "model_id": "",
       "version_major": 2,
       "version_minor": 0
      },
      "text/plain": [
       "  0%|          | 0/4001 [00:00<?, ?it/s]"
      ]
     },
     "metadata": {},
     "output_type": "display_data"
    },
    {
     "data": {
      "application/vnd.jupyter.widget-view+json": {
       "model_id": "",
       "version_major": 2,
       "version_minor": 0
      },
      "text/plain": [
       "  0%|          | 0/4001 [00:00<?, ?it/s]"
      ]
     },
     "metadata": {},
     "output_type": "display_data"
    },
    {
     "data": {
      "application/vnd.jupyter.widget-view+json": {
       "model_id": "",
       "version_major": 2,
       "version_minor": 0
      },
      "text/plain": [
       "  0%|          | 0/4001 [00:00<?, ?it/s]"
      ]
     },
     "metadata": {},
     "output_type": "display_data"
    },
    {
     "data": {
      "application/vnd.jupyter.widget-view+json": {
       "model_id": "",
       "version_major": 2,
       "version_minor": 0
      },
      "text/plain": [
       "  0%|          | 0/4001 [00:00<?, ?it/s]"
      ]
     },
     "metadata": {},
     "output_type": "display_data"
    },
    {
     "data": {
      "application/vnd.jupyter.widget-view+json": {
       "model_id": "",
       "version_major": 2,
       "version_minor": 0
      },
      "text/plain": [
       "  0%|          | 0/4001 [00:00<?, ?it/s]"
      ]
     },
     "metadata": {},
     "output_type": "display_data"
    },
    {
     "data": {
      "application/vnd.jupyter.widget-view+json": {
       "model_id": "",
       "version_major": 2,
       "version_minor": 0
      },
      "text/plain": [
       "  0%|          | 0/4001 [00:00<?, ?it/s]"
      ]
     },
     "metadata": {},
     "output_type": "display_data"
    },
    {
     "data": {
      "application/vnd.jupyter.widget-view+json": {
       "model_id": "",
       "version_major": 2,
       "version_minor": 0
      },
      "text/plain": [
       "  0%|          | 0/4001 [00:00<?, ?it/s]"
      ]
     },
     "metadata": {},
     "output_type": "display_data"
    },
    {
     "data": {
      "application/vnd.jupyter.widget-view+json": {
       "model_id": "",
       "version_major": 2,
       "version_minor": 0
      },
      "text/plain": [
       "  0%|          | 0/4001 [00:00<?, ?it/s]"
      ]
     },
     "metadata": {},
     "output_type": "display_data"
    },
    {
     "data": {
      "application/vnd.jupyter.widget-view+json": {
       "model_id": "",
       "version_major": 2,
       "version_minor": 0
      },
      "text/plain": [
       "  0%|          | 0/4001 [00:00<?, ?it/s]"
      ]
     },
     "metadata": {},
     "output_type": "display_data"
    },
    {
     "data": {
      "application/vnd.jupyter.widget-view+json": {
       "model_id": "",
       "version_major": 2,
       "version_minor": 0
      },
      "text/plain": [
       "  0%|          | 0/4001 [00:00<?, ?it/s]"
      ]
     },
     "metadata": {},
     "output_type": "display_data"
    },
    {
     "data": {
      "application/vnd.jupyter.widget-view+json": {
       "model_id": "",
       "version_major": 2,
       "version_minor": 0
      },
      "text/plain": [
       "  0%|          | 0/4001 [00:00<?, ?it/s]"
      ]
     },
     "metadata": {},
     "output_type": "display_data"
    },
    {
     "data": {
      "application/vnd.jupyter.widget-view+json": {
       "model_id": "",
       "version_major": 2,
       "version_minor": 0
      },
      "text/plain": [
       "  0%|          | 0/4001 [00:00<?, ?it/s]"
      ]
     },
     "metadata": {},
     "output_type": "display_data"
    },
    {
     "data": {
      "application/vnd.jupyter.widget-view+json": {
       "model_id": "",
       "version_major": 2,
       "version_minor": 0
      },
      "text/plain": [
       "  0%|          | 0/4001 [00:00<?, ?it/s]"
      ]
     },
     "metadata": {},
     "output_type": "display_data"
    },
    {
     "data": {
      "application/vnd.jupyter.widget-view+json": {
       "model_id": "",
       "version_major": 2,
       "version_minor": 0
      },
      "text/plain": [
       "  0%|          | 0/4001 [00:00<?, ?it/s]"
      ]
     },
     "metadata": {},
     "output_type": "display_data"
    },
    {
     "data": {
      "application/vnd.jupyter.widget-view+json": {
       "model_id": "",
       "version_major": 2,
       "version_minor": 0
      },
      "text/plain": [
       "  0%|          | 0/4001 [00:00<?, ?it/s]"
      ]
     },
     "metadata": {},
     "output_type": "display_data"
    },
    {
     "data": {
      "application/vnd.jupyter.widget-view+json": {
       "model_id": "",
       "version_major": 2,
       "version_minor": 0
      },
      "text/plain": [
       "  0%|          | 0/4001 [00:00<?, ?it/s]"
      ]
     },
     "metadata": {},
     "output_type": "display_data"
    },
    {
     "data": {
      "application/vnd.jupyter.widget-view+json": {
       "model_id": "",
       "version_major": 2,
       "version_minor": 0
      },
      "text/plain": [
       "  0%|          | 0/4001 [00:00<?, ?it/s]"
      ]
     },
     "metadata": {},
     "output_type": "display_data"
    },
    {
     "data": {
      "application/vnd.jupyter.widget-view+json": {
       "model_id": "",
       "version_major": 2,
       "version_minor": 0
      },
      "text/plain": [
       "  0%|          | 0/4001 [00:00<?, ?it/s]"
      ]
     },
     "metadata": {},
     "output_type": "display_data"
    },
    {
     "data": {
      "application/vnd.jupyter.widget-view+json": {
       "model_id": "",
       "version_major": 2,
       "version_minor": 0
      },
      "text/plain": [
       "  0%|          | 0/4001 [00:00<?, ?it/s]"
      ]
     },
     "metadata": {},
     "output_type": "display_data"
    },
    {
     "data": {
      "application/vnd.jupyter.widget-view+json": {
       "model_id": "",
       "version_major": 2,
       "version_minor": 0
      },
      "text/plain": [
       "  0%|          | 0/4001 [00:00<?, ?it/s]"
      ]
     },
     "metadata": {},
     "output_type": "display_data"
    },
    {
     "data": {
      "application/vnd.jupyter.widget-view+json": {
       "model_id": "",
       "version_major": 2,
       "version_minor": 0
      },
      "text/plain": [
       "  0%|          | 0/4001 [00:00<?, ?it/s]"
      ]
     },
     "metadata": {},
     "output_type": "display_data"
    },
    {
     "data": {
      "application/vnd.jupyter.widget-view+json": {
       "model_id": "",
       "version_major": 2,
       "version_minor": 0
      },
      "text/plain": [
       "  0%|          | 0/4001 [00:00<?, ?it/s]"
      ]
     },
     "metadata": {},
     "output_type": "display_data"
    },
    {
     "data": {
      "application/vnd.jupyter.widget-view+json": {
       "model_id": "",
       "version_major": 2,
       "version_minor": 0
      },
      "text/plain": [
       "  0%|          | 0/4001 [00:00<?, ?it/s]"
      ]
     },
     "metadata": {},
     "output_type": "display_data"
    },
    {
     "data": {
      "application/vnd.jupyter.widget-view+json": {
       "model_id": "",
       "version_major": 2,
       "version_minor": 0
      },
      "text/plain": [
       "  0%|          | 0/4001 [00:00<?, ?it/s]"
      ]
     },
     "metadata": {},
     "output_type": "display_data"
    },
    {
     "data": {
      "application/vnd.jupyter.widget-view+json": {
       "model_id": "",
       "version_major": 2,
       "version_minor": 0
      },
      "text/plain": [
       "  0%|          | 0/4001 [00:00<?, ?it/s]"
      ]
     },
     "metadata": {},
     "output_type": "display_data"
    },
    {
     "data": {
      "application/vnd.jupyter.widget-view+json": {
       "model_id": "",
       "version_major": 2,
       "version_minor": 0
      },
      "text/plain": [
       "  0%|          | 0/4001 [00:00<?, ?it/s]"
      ]
     },
     "metadata": {},
     "output_type": "display_data"
    },
    {
     "data": {
      "application/vnd.jupyter.widget-view+json": {
       "model_id": "",
       "version_major": 2,
       "version_minor": 0
      },
      "text/plain": [
       "  0%|          | 0/4001 [00:00<?, ?it/s]"
      ]
     },
     "metadata": {},
     "output_type": "display_data"
    },
    {
     "data": {
      "application/vnd.jupyter.widget-view+json": {
       "model_id": "",
       "version_major": 2,
       "version_minor": 0
      },
      "text/plain": [
       "  0%|          | 0/4001 [00:00<?, ?it/s]"
      ]
     },
     "metadata": {},
     "output_type": "display_data"
    },
    {
     "data": {
      "application/vnd.jupyter.widget-view+json": {
       "model_id": "",
       "version_major": 2,
       "version_minor": 0
      },
      "text/plain": [
       "  0%|          | 0/4001 [00:00<?, ?it/s]"
      ]
     },
     "metadata": {},
     "output_type": "display_data"
    },
    {
     "data": {
      "application/vnd.jupyter.widget-view+json": {
       "model_id": "",
       "version_major": 2,
       "version_minor": 0
      },
      "text/plain": [
       "  0%|          | 0/4001 [00:00<?, ?it/s]"
      ]
     },
     "metadata": {},
     "output_type": "display_data"
    },
    {
     "data": {
      "application/vnd.jupyter.widget-view+json": {
       "model_id": "",
       "version_major": 2,
       "version_minor": 0
      },
      "text/plain": [
       "  0%|          | 0/4001 [00:00<?, ?it/s]"
      ]
     },
     "metadata": {},
     "output_type": "display_data"
    },
    {
     "data": {
      "application/vnd.jupyter.widget-view+json": {
       "model_id": "",
       "version_major": 2,
       "version_minor": 0
      },
      "text/plain": [
       "  0%|          | 0/4001 [00:00<?, ?it/s]"
      ]
     },
     "metadata": {},
     "output_type": "display_data"
    },
    {
     "data": {
      "application/vnd.jupyter.widget-view+json": {
       "model_id": "",
       "version_major": 2,
       "version_minor": 0
      },
      "text/plain": [
       "  0%|          | 0/4001 [00:00<?, ?it/s]"
      ]
     },
     "metadata": {},
     "output_type": "display_data"
    },
    {
     "data": {
      "application/vnd.jupyter.widget-view+json": {
       "model_id": "",
       "version_major": 2,
       "version_minor": 0
      },
      "text/plain": [
       "  0%|          | 0/4001 [00:00<?, ?it/s]"
      ]
     },
     "metadata": {},
     "output_type": "display_data"
    },
    {
     "data": {
      "application/vnd.jupyter.widget-view+json": {
       "model_id": "",
       "version_major": 2,
       "version_minor": 0
      },
      "text/plain": [
       "  0%|          | 0/4001 [00:00<?, ?it/s]"
      ]
     },
     "metadata": {},
     "output_type": "display_data"
    }
   ],
   "source": [
    "for i_v in trange(len(vectors)):\n",
    "    wiki_bench[i_v]['cos_sim']=np.zeros(len(wikivecs))\n",
    "    for i_w, wikivec in enumerate(tqdm(wikivecs, leave=False)):\n",
    "        wiki_bench[i_v]['cos_sim'][i_w]=float(util.cos_sim(wikivec, vectors[i_v]['vector']))"
   ]
  },
  {
   "cell_type": "code",
   "execution_count": 50,
   "id": "0bac77ab",
   "metadata": {
    "ExecuteTime": {
     "end_time": "2025-06-18T15:32:54.683269Z",
     "start_time": "2025-06-18T15:32:54.622737Z"
    }
   },
   "outputs": [],
   "source": [
    "with open('./NewProcessedData/wiki_benchmark_abtt1.pickle', 'wb') as f:\n",
    "    pickle.dump(wiki_bench, f)"
   ]
  },
  {
   "cell_type": "markdown",
   "id": "d0a14a02",
   "metadata": {},
   "source": [
    "## Creating the benchmark, at the sector level _[DO NOT EVALUATE IT AGAIN!!!]_"
   ]
  },
  {
   "cell_type": "code",
   "execution_count": 51,
   "id": "af34c7bf",
   "metadata": {
    "ExecuteTime": {
     "end_time": "2025-06-18T15:32:54.731961Z",
     "start_time": "2025-06-18T15:32:54.686745Z"
    }
   },
   "outputs": [],
   "source": [
    "wiki_bench_per_sector=np.zeros(l_aggr_rep, dtype=[('cos_sim', object)])"
   ]
  },
  {
   "cell_type": "code",
   "execution_count": 52,
   "id": "9397f3ce",
   "metadata": {
    "ExecuteTime": {
     "end_time": "2025-06-18T15:34:57.473320Z",
     "start_time": "2025-06-18T15:32:54.734564Z"
    }
   },
   "outputs": [
    {
     "data": {
      "application/vnd.jupyter.widget-view+json": {
       "model_id": "969c5dc160c54574959d854da533e289",
       "version_major": 2,
       "version_minor": 0
      },
      "text/plain": [
       "  0%|          | 0/96 [00:00<?, ?it/s]"
      ]
     },
     "metadata": {},
     "output_type": "display_data"
    },
    {
     "data": {
      "application/vnd.jupyter.widget-view+json": {
       "model_id": "",
       "version_major": 2,
       "version_minor": 0
      },
      "text/plain": [
       "  0%|          | 0/4001 [00:00<?, ?it/s]"
      ]
     },
     "metadata": {},
     "output_type": "display_data"
    },
    {
     "data": {
      "application/vnd.jupyter.widget-view+json": {
       "model_id": "",
       "version_major": 2,
       "version_minor": 0
      },
      "text/plain": [
       "  0%|          | 0/4001 [00:00<?, ?it/s]"
      ]
     },
     "metadata": {},
     "output_type": "display_data"
    },
    {
     "data": {
      "application/vnd.jupyter.widget-view+json": {
       "model_id": "",
       "version_major": 2,
       "version_minor": 0
      },
      "text/plain": [
       "  0%|          | 0/4001 [00:00<?, ?it/s]"
      ]
     },
     "metadata": {},
     "output_type": "display_data"
    },
    {
     "data": {
      "application/vnd.jupyter.widget-view+json": {
       "model_id": "",
       "version_major": 2,
       "version_minor": 0
      },
      "text/plain": [
       "  0%|          | 0/4001 [00:00<?, ?it/s]"
      ]
     },
     "metadata": {},
     "output_type": "display_data"
    },
    {
     "data": {
      "application/vnd.jupyter.widget-view+json": {
       "model_id": "",
       "version_major": 2,
       "version_minor": 0
      },
      "text/plain": [
       "  0%|          | 0/4001 [00:00<?, ?it/s]"
      ]
     },
     "metadata": {},
     "output_type": "display_data"
    },
    {
     "data": {
      "application/vnd.jupyter.widget-view+json": {
       "model_id": "",
       "version_major": 2,
       "version_minor": 0
      },
      "text/plain": [
       "  0%|          | 0/4001 [00:00<?, ?it/s]"
      ]
     },
     "metadata": {},
     "output_type": "display_data"
    },
    {
     "data": {
      "application/vnd.jupyter.widget-view+json": {
       "model_id": "",
       "version_major": 2,
       "version_minor": 0
      },
      "text/plain": [
       "  0%|          | 0/4001 [00:00<?, ?it/s]"
      ]
     },
     "metadata": {},
     "output_type": "display_data"
    },
    {
     "data": {
      "application/vnd.jupyter.widget-view+json": {
       "model_id": "",
       "version_major": 2,
       "version_minor": 0
      },
      "text/plain": [
       "  0%|          | 0/4001 [00:00<?, ?it/s]"
      ]
     },
     "metadata": {},
     "output_type": "display_data"
    },
    {
     "data": {
      "application/vnd.jupyter.widget-view+json": {
       "model_id": "",
       "version_major": 2,
       "version_minor": 0
      },
      "text/plain": [
       "  0%|          | 0/4001 [00:00<?, ?it/s]"
      ]
     },
     "metadata": {},
     "output_type": "display_data"
    },
    {
     "data": {
      "application/vnd.jupyter.widget-view+json": {
       "model_id": "",
       "version_major": 2,
       "version_minor": 0
      },
      "text/plain": [
       "  0%|          | 0/4001 [00:00<?, ?it/s]"
      ]
     },
     "metadata": {},
     "output_type": "display_data"
    },
    {
     "data": {
      "application/vnd.jupyter.widget-view+json": {
       "model_id": "",
       "version_major": 2,
       "version_minor": 0
      },
      "text/plain": [
       "  0%|          | 0/4001 [00:00<?, ?it/s]"
      ]
     },
     "metadata": {},
     "output_type": "display_data"
    },
    {
     "data": {
      "application/vnd.jupyter.widget-view+json": {
       "model_id": "",
       "version_major": 2,
       "version_minor": 0
      },
      "text/plain": [
       "  0%|          | 0/4001 [00:00<?, ?it/s]"
      ]
     },
     "metadata": {},
     "output_type": "display_data"
    },
    {
     "data": {
      "application/vnd.jupyter.widget-view+json": {
       "model_id": "",
       "version_major": 2,
       "version_minor": 0
      },
      "text/plain": [
       "  0%|          | 0/4001 [00:00<?, ?it/s]"
      ]
     },
     "metadata": {},
     "output_type": "display_data"
    },
    {
     "data": {
      "application/vnd.jupyter.widget-view+json": {
       "model_id": "",
       "version_major": 2,
       "version_minor": 0
      },
      "text/plain": [
       "  0%|          | 0/4001 [00:00<?, ?it/s]"
      ]
     },
     "metadata": {},
     "output_type": "display_data"
    },
    {
     "data": {
      "application/vnd.jupyter.widget-view+json": {
       "model_id": "",
       "version_major": 2,
       "version_minor": 0
      },
      "text/plain": [
       "  0%|          | 0/4001 [00:00<?, ?it/s]"
      ]
     },
     "metadata": {},
     "output_type": "display_data"
    },
    {
     "data": {
      "application/vnd.jupyter.widget-view+json": {
       "model_id": "",
       "version_major": 2,
       "version_minor": 0
      },
      "text/plain": [
       "  0%|          | 0/4001 [00:00<?, ?it/s]"
      ]
     },
     "metadata": {},
     "output_type": "display_data"
    },
    {
     "data": {
      "application/vnd.jupyter.widget-view+json": {
       "model_id": "",
       "version_major": 2,
       "version_minor": 0
      },
      "text/plain": [
       "  0%|          | 0/4001 [00:00<?, ?it/s]"
      ]
     },
     "metadata": {},
     "output_type": "display_data"
    },
    {
     "data": {
      "application/vnd.jupyter.widget-view+json": {
       "model_id": "",
       "version_major": 2,
       "version_minor": 0
      },
      "text/plain": [
       "  0%|          | 0/4001 [00:00<?, ?it/s]"
      ]
     },
     "metadata": {},
     "output_type": "display_data"
    },
    {
     "data": {
      "application/vnd.jupyter.widget-view+json": {
       "model_id": "",
       "version_major": 2,
       "version_minor": 0
      },
      "text/plain": [
       "  0%|          | 0/4001 [00:00<?, ?it/s]"
      ]
     },
     "metadata": {},
     "output_type": "display_data"
    },
    {
     "data": {
      "application/vnd.jupyter.widget-view+json": {
       "model_id": "",
       "version_major": 2,
       "version_minor": 0
      },
      "text/plain": [
       "  0%|          | 0/4001 [00:00<?, ?it/s]"
      ]
     },
     "metadata": {},
     "output_type": "display_data"
    },
    {
     "data": {
      "application/vnd.jupyter.widget-view+json": {
       "model_id": "",
       "version_major": 2,
       "version_minor": 0
      },
      "text/plain": [
       "  0%|          | 0/4001 [00:00<?, ?it/s]"
      ]
     },
     "metadata": {},
     "output_type": "display_data"
    },
    {
     "data": {
      "application/vnd.jupyter.widget-view+json": {
       "model_id": "",
       "version_major": 2,
       "version_minor": 0
      },
      "text/plain": [
       "  0%|          | 0/4001 [00:00<?, ?it/s]"
      ]
     },
     "metadata": {},
     "output_type": "display_data"
    },
    {
     "data": {
      "application/vnd.jupyter.widget-view+json": {
       "model_id": "",
       "version_major": 2,
       "version_minor": 0
      },
      "text/plain": [
       "  0%|          | 0/4001 [00:00<?, ?it/s]"
      ]
     },
     "metadata": {},
     "output_type": "display_data"
    },
    {
     "data": {
      "application/vnd.jupyter.widget-view+json": {
       "model_id": "",
       "version_major": 2,
       "version_minor": 0
      },
      "text/plain": [
       "  0%|          | 0/4001 [00:00<?, ?it/s]"
      ]
     },
     "metadata": {},
     "output_type": "display_data"
    },
    {
     "data": {
      "application/vnd.jupyter.widget-view+json": {
       "model_id": "",
       "version_major": 2,
       "version_minor": 0
      },
      "text/plain": [
       "  0%|          | 0/4001 [00:00<?, ?it/s]"
      ]
     },
     "metadata": {},
     "output_type": "display_data"
    },
    {
     "data": {
      "application/vnd.jupyter.widget-view+json": {
       "model_id": "",
       "version_major": 2,
       "version_minor": 0
      },
      "text/plain": [
       "  0%|          | 0/4001 [00:00<?, ?it/s]"
      ]
     },
     "metadata": {},
     "output_type": "display_data"
    },
    {
     "data": {
      "application/vnd.jupyter.widget-view+json": {
       "model_id": "",
       "version_major": 2,
       "version_minor": 0
      },
      "text/plain": [
       "  0%|          | 0/4001 [00:00<?, ?it/s]"
      ]
     },
     "metadata": {},
     "output_type": "display_data"
    },
    {
     "data": {
      "application/vnd.jupyter.widget-view+json": {
       "model_id": "",
       "version_major": 2,
       "version_minor": 0
      },
      "text/plain": [
       "  0%|          | 0/4001 [00:00<?, ?it/s]"
      ]
     },
     "metadata": {},
     "output_type": "display_data"
    },
    {
     "data": {
      "application/vnd.jupyter.widget-view+json": {
       "model_id": "",
       "version_major": 2,
       "version_minor": 0
      },
      "text/plain": [
       "  0%|          | 0/4001 [00:00<?, ?it/s]"
      ]
     },
     "metadata": {},
     "output_type": "display_data"
    },
    {
     "data": {
      "application/vnd.jupyter.widget-view+json": {
       "model_id": "",
       "version_major": 2,
       "version_minor": 0
      },
      "text/plain": [
       "  0%|          | 0/4001 [00:00<?, ?it/s]"
      ]
     },
     "metadata": {},
     "output_type": "display_data"
    },
    {
     "data": {
      "application/vnd.jupyter.widget-view+json": {
       "model_id": "",
       "version_major": 2,
       "version_minor": 0
      },
      "text/plain": [
       "  0%|          | 0/4001 [00:00<?, ?it/s]"
      ]
     },
     "metadata": {},
     "output_type": "display_data"
    },
    {
     "data": {
      "application/vnd.jupyter.widget-view+json": {
       "model_id": "",
       "version_major": 2,
       "version_minor": 0
      },
      "text/plain": [
       "  0%|          | 0/4001 [00:00<?, ?it/s]"
      ]
     },
     "metadata": {},
     "output_type": "display_data"
    },
    {
     "data": {
      "application/vnd.jupyter.widget-view+json": {
       "model_id": "",
       "version_major": 2,
       "version_minor": 0
      },
      "text/plain": [
       "  0%|          | 0/4001 [00:00<?, ?it/s]"
      ]
     },
     "metadata": {},
     "output_type": "display_data"
    },
    {
     "data": {
      "application/vnd.jupyter.widget-view+json": {
       "model_id": "",
       "version_major": 2,
       "version_minor": 0
      },
      "text/plain": [
       "  0%|          | 0/4001 [00:00<?, ?it/s]"
      ]
     },
     "metadata": {},
     "output_type": "display_data"
    },
    {
     "data": {
      "application/vnd.jupyter.widget-view+json": {
       "model_id": "",
       "version_major": 2,
       "version_minor": 0
      },
      "text/plain": [
       "  0%|          | 0/4001 [00:00<?, ?it/s]"
      ]
     },
     "metadata": {},
     "output_type": "display_data"
    },
    {
     "data": {
      "application/vnd.jupyter.widget-view+json": {
       "model_id": "",
       "version_major": 2,
       "version_minor": 0
      },
      "text/plain": [
       "  0%|          | 0/4001 [00:00<?, ?it/s]"
      ]
     },
     "metadata": {},
     "output_type": "display_data"
    },
    {
     "data": {
      "application/vnd.jupyter.widget-view+json": {
       "model_id": "",
       "version_major": 2,
       "version_minor": 0
      },
      "text/plain": [
       "  0%|          | 0/4001 [00:00<?, ?it/s]"
      ]
     },
     "metadata": {},
     "output_type": "display_data"
    },
    {
     "data": {
      "application/vnd.jupyter.widget-view+json": {
       "model_id": "",
       "version_major": 2,
       "version_minor": 0
      },
      "text/plain": [
       "  0%|          | 0/4001 [00:00<?, ?it/s]"
      ]
     },
     "metadata": {},
     "output_type": "display_data"
    },
    {
     "data": {
      "application/vnd.jupyter.widget-view+json": {
       "model_id": "",
       "version_major": 2,
       "version_minor": 0
      },
      "text/plain": [
       "  0%|          | 0/4001 [00:00<?, ?it/s]"
      ]
     },
     "metadata": {},
     "output_type": "display_data"
    },
    {
     "data": {
      "application/vnd.jupyter.widget-view+json": {
       "model_id": "",
       "version_major": 2,
       "version_minor": 0
      },
      "text/plain": [
       "  0%|          | 0/4001 [00:00<?, ?it/s]"
      ]
     },
     "metadata": {},
     "output_type": "display_data"
    },
    {
     "data": {
      "application/vnd.jupyter.widget-view+json": {
       "model_id": "",
       "version_major": 2,
       "version_minor": 0
      },
      "text/plain": [
       "  0%|          | 0/4001 [00:00<?, ?it/s]"
      ]
     },
     "metadata": {},
     "output_type": "display_data"
    },
    {
     "data": {
      "application/vnd.jupyter.widget-view+json": {
       "model_id": "",
       "version_major": 2,
       "version_minor": 0
      },
      "text/plain": [
       "  0%|          | 0/4001 [00:00<?, ?it/s]"
      ]
     },
     "metadata": {},
     "output_type": "display_data"
    },
    {
     "data": {
      "application/vnd.jupyter.widget-view+json": {
       "model_id": "",
       "version_major": 2,
       "version_minor": 0
      },
      "text/plain": [
       "  0%|          | 0/4001 [00:00<?, ?it/s]"
      ]
     },
     "metadata": {},
     "output_type": "display_data"
    },
    {
     "data": {
      "application/vnd.jupyter.widget-view+json": {
       "model_id": "",
       "version_major": 2,
       "version_minor": 0
      },
      "text/plain": [
       "  0%|          | 0/4001 [00:00<?, ?it/s]"
      ]
     },
     "metadata": {},
     "output_type": "display_data"
    },
    {
     "data": {
      "application/vnd.jupyter.widget-view+json": {
       "model_id": "",
       "version_major": 2,
       "version_minor": 0
      },
      "text/plain": [
       "  0%|          | 0/4001 [00:00<?, ?it/s]"
      ]
     },
     "metadata": {},
     "output_type": "display_data"
    },
    {
     "data": {
      "application/vnd.jupyter.widget-view+json": {
       "model_id": "",
       "version_major": 2,
       "version_minor": 0
      },
      "text/plain": [
       "  0%|          | 0/4001 [00:00<?, ?it/s]"
      ]
     },
     "metadata": {},
     "output_type": "display_data"
    },
    {
     "data": {
      "application/vnd.jupyter.widget-view+json": {
       "model_id": "",
       "version_major": 2,
       "version_minor": 0
      },
      "text/plain": [
       "  0%|          | 0/4001 [00:00<?, ?it/s]"
      ]
     },
     "metadata": {},
     "output_type": "display_data"
    },
    {
     "data": {
      "application/vnd.jupyter.widget-view+json": {
       "model_id": "",
       "version_major": 2,
       "version_minor": 0
      },
      "text/plain": [
       "  0%|          | 0/4001 [00:00<?, ?it/s]"
      ]
     },
     "metadata": {},
     "output_type": "display_data"
    },
    {
     "data": {
      "application/vnd.jupyter.widget-view+json": {
       "model_id": "",
       "version_major": 2,
       "version_minor": 0
      },
      "text/plain": [
       "  0%|          | 0/4001 [00:00<?, ?it/s]"
      ]
     },
     "metadata": {},
     "output_type": "display_data"
    },
    {
     "data": {
      "application/vnd.jupyter.widget-view+json": {
       "model_id": "",
       "version_major": 2,
       "version_minor": 0
      },
      "text/plain": [
       "  0%|          | 0/4001 [00:00<?, ?it/s]"
      ]
     },
     "metadata": {},
     "output_type": "display_data"
    },
    {
     "data": {
      "application/vnd.jupyter.widget-view+json": {
       "model_id": "",
       "version_major": 2,
       "version_minor": 0
      },
      "text/plain": [
       "  0%|          | 0/4001 [00:00<?, ?it/s]"
      ]
     },
     "metadata": {},
     "output_type": "display_data"
    },
    {
     "data": {
      "application/vnd.jupyter.widget-view+json": {
       "model_id": "",
       "version_major": 2,
       "version_minor": 0
      },
      "text/plain": [
       "  0%|          | 0/4001 [00:00<?, ?it/s]"
      ]
     },
     "metadata": {},
     "output_type": "display_data"
    },
    {
     "data": {
      "application/vnd.jupyter.widget-view+json": {
       "model_id": "",
       "version_major": 2,
       "version_minor": 0
      },
      "text/plain": [
       "  0%|          | 0/4001 [00:00<?, ?it/s]"
      ]
     },
     "metadata": {},
     "output_type": "display_data"
    },
    {
     "data": {
      "application/vnd.jupyter.widget-view+json": {
       "model_id": "",
       "version_major": 2,
       "version_minor": 0
      },
      "text/plain": [
       "  0%|          | 0/4001 [00:00<?, ?it/s]"
      ]
     },
     "metadata": {},
     "output_type": "display_data"
    },
    {
     "data": {
      "application/vnd.jupyter.widget-view+json": {
       "model_id": "",
       "version_major": 2,
       "version_minor": 0
      },
      "text/plain": [
       "  0%|          | 0/4001 [00:00<?, ?it/s]"
      ]
     },
     "metadata": {},
     "output_type": "display_data"
    },
    {
     "data": {
      "application/vnd.jupyter.widget-view+json": {
       "model_id": "",
       "version_major": 2,
       "version_minor": 0
      },
      "text/plain": [
       "  0%|          | 0/4001 [00:00<?, ?it/s]"
      ]
     },
     "metadata": {},
     "output_type": "display_data"
    },
    {
     "data": {
      "application/vnd.jupyter.widget-view+json": {
       "model_id": "",
       "version_major": 2,
       "version_minor": 0
      },
      "text/plain": [
       "  0%|          | 0/4001 [00:00<?, ?it/s]"
      ]
     },
     "metadata": {},
     "output_type": "display_data"
    },
    {
     "data": {
      "application/vnd.jupyter.widget-view+json": {
       "model_id": "",
       "version_major": 2,
       "version_minor": 0
      },
      "text/plain": [
       "  0%|          | 0/4001 [00:00<?, ?it/s]"
      ]
     },
     "metadata": {},
     "output_type": "display_data"
    },
    {
     "data": {
      "application/vnd.jupyter.widget-view+json": {
       "model_id": "",
       "version_major": 2,
       "version_minor": 0
      },
      "text/plain": [
       "  0%|          | 0/4001 [00:00<?, ?it/s]"
      ]
     },
     "metadata": {},
     "output_type": "display_data"
    },
    {
     "data": {
      "application/vnd.jupyter.widget-view+json": {
       "model_id": "",
       "version_major": 2,
       "version_minor": 0
      },
      "text/plain": [
       "  0%|          | 0/4001 [00:00<?, ?it/s]"
      ]
     },
     "metadata": {},
     "output_type": "display_data"
    },
    {
     "data": {
      "application/vnd.jupyter.widget-view+json": {
       "model_id": "",
       "version_major": 2,
       "version_minor": 0
      },
      "text/plain": [
       "  0%|          | 0/4001 [00:00<?, ?it/s]"
      ]
     },
     "metadata": {},
     "output_type": "display_data"
    },
    {
     "data": {
      "application/vnd.jupyter.widget-view+json": {
       "model_id": "",
       "version_major": 2,
       "version_minor": 0
      },
      "text/plain": [
       "  0%|          | 0/4001 [00:00<?, ?it/s]"
      ]
     },
     "metadata": {},
     "output_type": "display_data"
    },
    {
     "data": {
      "application/vnd.jupyter.widget-view+json": {
       "model_id": "",
       "version_major": 2,
       "version_minor": 0
      },
      "text/plain": [
       "  0%|          | 0/4001 [00:00<?, ?it/s]"
      ]
     },
     "metadata": {},
     "output_type": "display_data"
    },
    {
     "data": {
      "application/vnd.jupyter.widget-view+json": {
       "model_id": "",
       "version_major": 2,
       "version_minor": 0
      },
      "text/plain": [
       "  0%|          | 0/4001 [00:00<?, ?it/s]"
      ]
     },
     "metadata": {},
     "output_type": "display_data"
    },
    {
     "data": {
      "application/vnd.jupyter.widget-view+json": {
       "model_id": "",
       "version_major": 2,
       "version_minor": 0
      },
      "text/plain": [
       "  0%|          | 0/4001 [00:00<?, ?it/s]"
      ]
     },
     "metadata": {},
     "output_type": "display_data"
    },
    {
     "data": {
      "application/vnd.jupyter.widget-view+json": {
       "model_id": "",
       "version_major": 2,
       "version_minor": 0
      },
      "text/plain": [
       "  0%|          | 0/4001 [00:00<?, ?it/s]"
      ]
     },
     "metadata": {},
     "output_type": "display_data"
    },
    {
     "data": {
      "application/vnd.jupyter.widget-view+json": {
       "model_id": "",
       "version_major": 2,
       "version_minor": 0
      },
      "text/plain": [
       "  0%|          | 0/4001 [00:00<?, ?it/s]"
      ]
     },
     "metadata": {},
     "output_type": "display_data"
    },
    {
     "data": {
      "application/vnd.jupyter.widget-view+json": {
       "model_id": "",
       "version_major": 2,
       "version_minor": 0
      },
      "text/plain": [
       "  0%|          | 0/4001 [00:00<?, ?it/s]"
      ]
     },
     "metadata": {},
     "output_type": "display_data"
    },
    {
     "data": {
      "application/vnd.jupyter.widget-view+json": {
       "model_id": "",
       "version_major": 2,
       "version_minor": 0
      },
      "text/plain": [
       "  0%|          | 0/4001 [00:00<?, ?it/s]"
      ]
     },
     "metadata": {},
     "output_type": "display_data"
    },
    {
     "data": {
      "application/vnd.jupyter.widget-view+json": {
       "model_id": "",
       "version_major": 2,
       "version_minor": 0
      },
      "text/plain": [
       "  0%|          | 0/4001 [00:00<?, ?it/s]"
      ]
     },
     "metadata": {},
     "output_type": "display_data"
    },
    {
     "data": {
      "application/vnd.jupyter.widget-view+json": {
       "model_id": "",
       "version_major": 2,
       "version_minor": 0
      },
      "text/plain": [
       "  0%|          | 0/4001 [00:00<?, ?it/s]"
      ]
     },
     "metadata": {},
     "output_type": "display_data"
    },
    {
     "data": {
      "application/vnd.jupyter.widget-view+json": {
       "model_id": "",
       "version_major": 2,
       "version_minor": 0
      },
      "text/plain": [
       "  0%|          | 0/4001 [00:00<?, ?it/s]"
      ]
     },
     "metadata": {},
     "output_type": "display_data"
    },
    {
     "data": {
      "application/vnd.jupyter.widget-view+json": {
       "model_id": "",
       "version_major": 2,
       "version_minor": 0
      },
      "text/plain": [
       "  0%|          | 0/4001 [00:00<?, ?it/s]"
      ]
     },
     "metadata": {},
     "output_type": "display_data"
    },
    {
     "data": {
      "application/vnd.jupyter.widget-view+json": {
       "model_id": "",
       "version_major": 2,
       "version_minor": 0
      },
      "text/plain": [
       "  0%|          | 0/4001 [00:00<?, ?it/s]"
      ]
     },
     "metadata": {},
     "output_type": "display_data"
    },
    {
     "data": {
      "application/vnd.jupyter.widget-view+json": {
       "model_id": "",
       "version_major": 2,
       "version_minor": 0
      },
      "text/plain": [
       "  0%|          | 0/4001 [00:00<?, ?it/s]"
      ]
     },
     "metadata": {},
     "output_type": "display_data"
    },
    {
     "data": {
      "application/vnd.jupyter.widget-view+json": {
       "model_id": "",
       "version_major": 2,
       "version_minor": 0
      },
      "text/plain": [
       "  0%|          | 0/4001 [00:00<?, ?it/s]"
      ]
     },
     "metadata": {},
     "output_type": "display_data"
    },
    {
     "data": {
      "application/vnd.jupyter.widget-view+json": {
       "model_id": "",
       "version_major": 2,
       "version_minor": 0
      },
      "text/plain": [
       "  0%|          | 0/4001 [00:00<?, ?it/s]"
      ]
     },
     "metadata": {},
     "output_type": "display_data"
    },
    {
     "data": {
      "application/vnd.jupyter.widget-view+json": {
       "model_id": "",
       "version_major": 2,
       "version_minor": 0
      },
      "text/plain": [
       "  0%|          | 0/4001 [00:00<?, ?it/s]"
      ]
     },
     "metadata": {},
     "output_type": "display_data"
    },
    {
     "data": {
      "application/vnd.jupyter.widget-view+json": {
       "model_id": "",
       "version_major": 2,
       "version_minor": 0
      },
      "text/plain": [
       "  0%|          | 0/4001 [00:00<?, ?it/s]"
      ]
     },
     "metadata": {},
     "output_type": "display_data"
    },
    {
     "data": {
      "application/vnd.jupyter.widget-view+json": {
       "model_id": "",
       "version_major": 2,
       "version_minor": 0
      },
      "text/plain": [
       "  0%|          | 0/4001 [00:00<?, ?it/s]"
      ]
     },
     "metadata": {},
     "output_type": "display_data"
    },
    {
     "data": {
      "application/vnd.jupyter.widget-view+json": {
       "model_id": "",
       "version_major": 2,
       "version_minor": 0
      },
      "text/plain": [
       "  0%|          | 0/4001 [00:00<?, ?it/s]"
      ]
     },
     "metadata": {},
     "output_type": "display_data"
    },
    {
     "data": {
      "application/vnd.jupyter.widget-view+json": {
       "model_id": "",
       "version_major": 2,
       "version_minor": 0
      },
      "text/plain": [
       "  0%|          | 0/4001 [00:00<?, ?it/s]"
      ]
     },
     "metadata": {},
     "output_type": "display_data"
    },
    {
     "data": {
      "application/vnd.jupyter.widget-view+json": {
       "model_id": "",
       "version_major": 2,
       "version_minor": 0
      },
      "text/plain": [
       "  0%|          | 0/4001 [00:00<?, ?it/s]"
      ]
     },
     "metadata": {},
     "output_type": "display_data"
    },
    {
     "data": {
      "application/vnd.jupyter.widget-view+json": {
       "model_id": "",
       "version_major": 2,
       "version_minor": 0
      },
      "text/plain": [
       "  0%|          | 0/4001 [00:00<?, ?it/s]"
      ]
     },
     "metadata": {},
     "output_type": "display_data"
    },
    {
     "data": {
      "application/vnd.jupyter.widget-view+json": {
       "model_id": "",
       "version_major": 2,
       "version_minor": 0
      },
      "text/plain": [
       "  0%|          | 0/4001 [00:00<?, ?it/s]"
      ]
     },
     "metadata": {},
     "output_type": "display_data"
    },
    {
     "data": {
      "application/vnd.jupyter.widget-view+json": {
       "model_id": "",
       "version_major": 2,
       "version_minor": 0
      },
      "text/plain": [
       "  0%|          | 0/4001 [00:00<?, ?it/s]"
      ]
     },
     "metadata": {},
     "output_type": "display_data"
    },
    {
     "data": {
      "application/vnd.jupyter.widget-view+json": {
       "model_id": "",
       "version_major": 2,
       "version_minor": 0
      },
      "text/plain": [
       "  0%|          | 0/4001 [00:00<?, ?it/s]"
      ]
     },
     "metadata": {},
     "output_type": "display_data"
    },
    {
     "data": {
      "application/vnd.jupyter.widget-view+json": {
       "model_id": "",
       "version_major": 2,
       "version_minor": 0
      },
      "text/plain": [
       "  0%|          | 0/4001 [00:00<?, ?it/s]"
      ]
     },
     "metadata": {},
     "output_type": "display_data"
    },
    {
     "data": {
      "application/vnd.jupyter.widget-view+json": {
       "model_id": "",
       "version_major": 2,
       "version_minor": 0
      },
      "text/plain": [
       "  0%|          | 0/4001 [00:00<?, ?it/s]"
      ]
     },
     "metadata": {},
     "output_type": "display_data"
    },
    {
     "data": {
      "application/vnd.jupyter.widget-view+json": {
       "model_id": "",
       "version_major": 2,
       "version_minor": 0
      },
      "text/plain": [
       "  0%|          | 0/4001 [00:00<?, ?it/s]"
      ]
     },
     "metadata": {},
     "output_type": "display_data"
    },
    {
     "data": {
      "application/vnd.jupyter.widget-view+json": {
       "model_id": "",
       "version_major": 2,
       "version_minor": 0
      },
      "text/plain": [
       "  0%|          | 0/4001 [00:00<?, ?it/s]"
      ]
     },
     "metadata": {},
     "output_type": "display_data"
    },
    {
     "data": {
      "application/vnd.jupyter.widget-view+json": {
       "model_id": "",
       "version_major": 2,
       "version_minor": 0
      },
      "text/plain": [
       "  0%|          | 0/4001 [00:00<?, ?it/s]"
      ]
     },
     "metadata": {},
     "output_type": "display_data"
    },
    {
     "data": {
      "application/vnd.jupyter.widget-view+json": {
       "model_id": "",
       "version_major": 2,
       "version_minor": 0
      },
      "text/plain": [
       "  0%|          | 0/4001 [00:00<?, ?it/s]"
      ]
     },
     "metadata": {},
     "output_type": "display_data"
    },
    {
     "data": {
      "application/vnd.jupyter.widget-view+json": {
       "model_id": "",
       "version_major": 2,
       "version_minor": 0
      },
      "text/plain": [
       "  0%|          | 0/4001 [00:00<?, ?it/s]"
      ]
     },
     "metadata": {},
     "output_type": "display_data"
    },
    {
     "data": {
      "application/vnd.jupyter.widget-view+json": {
       "model_id": "",
       "version_major": 2,
       "version_minor": 0
      },
      "text/plain": [
       "  0%|          | 0/4001 [00:00<?, ?it/s]"
      ]
     },
     "metadata": {},
     "output_type": "display_data"
    },
    {
     "data": {
      "application/vnd.jupyter.widget-view+json": {
       "model_id": "",
       "version_major": 2,
       "version_minor": 0
      },
      "text/plain": [
       "  0%|          | 0/4001 [00:00<?, ?it/s]"
      ]
     },
     "metadata": {},
     "output_type": "display_data"
    }
   ],
   "source": [
    "for i_v in trange(l_aggr_rep):\n",
    "    wiki_bench_per_sector[i_v]['cos_sim']=np.zeros(len(wikivecs))\n",
    "    for i_w, wikivec in enumerate(tqdm(wikivecs, leave=False)):\n",
    "        wiki_bench_per_sector[i_v]['cos_sim'][i_w]=float(util.cos_sim(wikivec, aggr_vectors[i_v]['vector']))"
   ]
  },
  {
   "cell_type": "code",
   "execution_count": 53,
   "id": "881c1f12",
   "metadata": {
    "ExecuteTime": {
     "end_time": "2025-06-18T15:34:57.490047Z",
     "start_time": "2025-06-18T15:34:57.476493Z"
    }
   },
   "outputs": [],
   "source": [
    "with open('./NewProcessedData/wiki_bench_per_sector_abtt1.pickle', 'wb') as f:\n",
    "    pickle.dump(wiki_bench_per_sector, f)"
   ]
  },
  {
   "cell_type": "markdown",
   "id": "a92df151",
   "metadata": {},
   "source": [
    "# Validation"
   ]
  },
  {
   "cell_type": "code",
   "execution_count": 54,
   "id": "e66606be",
   "metadata": {
    "ExecuteTime": {
     "end_time": "2025-06-18T15:34:57.570769Z",
     "start_time": "2025-06-18T15:34:57.492745Z"
    }
   },
   "outputs": [],
   "source": [
    "alpha=0.05"
   ]
  },
  {
   "cell_type": "markdown",
   "id": "e106b780",
   "metadata": {},
   "source": [
    "## All SDGs"
   ]
  },
  {
   "cell_type": "code",
   "execution_count": 55,
   "id": "ec914ff6",
   "metadata": {
    "ExecuteTime": {
     "end_time": "2025-06-18T15:34:57.670093Z",
     "start_time": "2025-06-18T15:34:57.574452Z"
    }
   },
   "outputs": [],
   "source": [
    "with open('./NewProcessedData/wiki_benchmark_abtt1.pickle', 'rb') as f:\n",
    "    wiki_bench=pickle.load(f)"
   ]
  },
  {
   "cell_type": "code",
   "execution_count": 56,
   "id": "67a9b74f",
   "metadata": {
    "ExecuteTime": {
     "end_time": "2025-06-18T15:34:57.760151Z",
     "start_time": "2025-06-18T15:34:57.673450Z"
    }
   },
   "outputs": [],
   "source": [
    "cos_sims_global=np.zeros(len(years), dtype=[('mean', 'f8'), ('all', object), ('p_val', object)])"
   ]
  },
  {
   "cell_type": "code",
   "execution_count": 57,
   "id": "cc567907",
   "metadata": {
    "ExecuteTime": {
     "end_time": "2025-06-18T15:34:58.210361Z",
     "start_time": "2025-06-18T15:34:57.763586Z"
    }
   },
   "outputs": [
    {
     "data": {
      "application/vnd.jupyter.widget-view+json": {
       "model_id": "7c1444eb4ffa4555866e659f1471c83a",
       "version_major": 2,
       "version_minor": 0
      },
      "text/plain": [
       "  0%|          | 0/9 [00:00<?, ?it/s]"
      ]
     },
     "metadata": {},
     "output_type": "display_data"
    },
    {
     "data": {
      "application/vnd.jupyter.widget-view+json": {
       "model_id": "",
       "version_major": 2,
       "version_minor": 0
      },
      "text/plain": [
       "  0%|          | 0/40 [00:00<?, ?it/s]"
      ]
     },
     "metadata": {},
     "output_type": "display_data"
    },
    {
     "data": {
      "application/vnd.jupyter.widget-view+json": {
       "model_id": "",
       "version_major": 2,
       "version_minor": 0
      },
      "text/plain": [
       "  0%|          | 0/44 [00:00<?, ?it/s]"
      ]
     },
     "metadata": {},
     "output_type": "display_data"
    },
    {
     "data": {
      "application/vnd.jupyter.widget-view+json": {
       "model_id": "",
       "version_major": 2,
       "version_minor": 0
      },
      "text/plain": [
       "  0%|          | 0/51 [00:00<?, ?it/s]"
      ]
     },
     "metadata": {},
     "output_type": "display_data"
    },
    {
     "data": {
      "application/vnd.jupyter.widget-view+json": {
       "model_id": "",
       "version_major": 2,
       "version_minor": 0
      },
      "text/plain": [
       "  0%|          | 0/56 [00:00<?, ?it/s]"
      ]
     },
     "metadata": {},
     "output_type": "display_data"
    },
    {
     "data": {
      "application/vnd.jupyter.widget-view+json": {
       "model_id": "",
       "version_major": 2,
       "version_minor": 0
      },
      "text/plain": [
       "  0%|          | 0/67 [00:00<?, ?it/s]"
      ]
     },
     "metadata": {},
     "output_type": "display_data"
    },
    {
     "data": {
      "application/vnd.jupyter.widget-view+json": {
       "model_id": "",
       "version_major": 2,
       "version_minor": 0
      },
      "text/plain": [
       "  0%|          | 0/69 [00:00<?, ?it/s]"
      ]
     },
     "metadata": {},
     "output_type": "display_data"
    },
    {
     "data": {
      "application/vnd.jupyter.widget-view+json": {
       "model_id": "",
       "version_major": 2,
       "version_minor": 0
      },
      "text/plain": [
       "  0%|          | 0/76 [00:00<?, ?it/s]"
      ]
     },
     "metadata": {},
     "output_type": "display_data"
    },
    {
     "data": {
      "application/vnd.jupyter.widget-view+json": {
       "model_id": "",
       "version_major": 2,
       "version_minor": 0
      },
      "text/plain": [
       "  0%|          | 0/80 [00:00<?, ?it/s]"
      ]
     },
     "metadata": {},
     "output_type": "display_data"
    },
    {
     "data": {
      "application/vnd.jupyter.widget-view+json": {
       "model_id": "",
       "version_major": 2,
       "version_minor": 0
      },
      "text/plain": [
       "  0%|          | 0/90 [00:00<?, ?it/s]"
      ]
     },
     "metadata": {},
     "output_type": "display_data"
    }
   ],
   "source": [
    "for i_y, year in enumerate(tqdm(years)):\n",
    "    vecs_y=vectors[vectors['year']==year]['vector']\n",
    "    wiki_bench_y=wiki_bench[vectors['year']==year]['cos_sim']\n",
    "    cos_sims_global[i_y]['all']=np.zeros(len(vecs_y))\n",
    "    cos_sims_global[i_y]['p_val']=np.zeros(len(vecs_y))\n",
    "    for i_vec, vec in enumerate(tqdm(vecs_y, leave=False)):\n",
    "        _cos_sim=float(util.cos_sim(goalvecs[-1], vec))\n",
    "        cos_sims_global[i_y]['all'][i_vec]=_cos_sim\n",
    "        cos_sims_global[i_y]['p_val'][i_vec]=np.sum(wiki_bench_y[i_vec]>=_cos_sim)/len(wikivecs)\n",
    "    cos_sims_global[i_y]['mean']=np.mean(cos_sims_global[i_y]['all'])"
   ]
  },
  {
   "cell_type": "code",
   "execution_count": 58,
   "id": "cfcd51c8",
   "metadata": {
    "ExecuteTime": {
     "end_time": "2025-06-18T15:34:58.244936Z",
     "start_time": "2025-06-18T15:34:58.212915Z"
    }
   },
   "outputs": [
    {
     "data": {
      "application/vnd.jupyter.widget-view+json": {
       "model_id": "148c489d532a4993a13f0304c87b46c8",
       "version_major": 2,
       "version_minor": 0
      },
      "text/plain": [
       "  0%|          | 0/9 [00:00<?, ?it/s]"
      ]
     },
     "metadata": {},
     "output_type": "display_data"
    },
    {
     "name": "stdout",
     "output_type": "stream",
     "text": [
      "2015) len(validated_companies)=3\n",
      "\t\tunilever                  sector=Consumer Staples\n",
      "\t\tstandard_chartered        sector=Financials\n",
      "\t\thalma                     sector=Industrials\n",
      "2016) len(validated_companies)=3\n",
      "\t\tunilever                  sector=Consumer Staples\n",
      "\t\tstandard_chartered        sector=Financials\n",
      "\t\thalma                     sector=Industrials\n",
      "2017) len(validated_companies)=1\n",
      "\t\thalma                     sector=Industrials\n",
      "2018) len(validated_companies)=0\n",
      "2019) len(validated_companies)=0\n",
      "2020) len(validated_companies)=7\n",
      "\t\tintercontinental_hotels_group sector=Consumer Discretionary\n",
      "\t\treckitt_benckiser_group   sector=Consumer Staples\n",
      "\t\tbp                        sector=Energy\n",
      "\t\thsbc_holdings             sector=Financials\n",
      "\t\tstandard_chartered        sector=Financials\n",
      "\t\tastrazeneca               sector=Health Care\n",
      "\t\trentokil_initial          sector=Industrials\n",
      "2021) len(validated_companies)=6\n",
      "\t\treckitt_benckiser_group   sector=Consumer Staples\n",
      "\t\thsbc_holdings             sector=Financials\n",
      "\t\tstandard_chartered        sector=Financials\n",
      "\t\trentokil_initial          sector=Industrials\n",
      "\t\tairtel_africa             sector=Telecommunications\n",
      "\t\trenewi                    sector=Utilities\n",
      "2022) len(validated_companies)=4\n",
      "\t\treckitt_benckiser_group   sector=Consumer Staples\n",
      "\t\thsbc_holdings             sector=Financials\n",
      "\t\tlegal_&_general_group     sector=Financials\n",
      "\t\tstandard_chartered        sector=Financials\n",
      "2023) len(validated_companies)=0\n"
     ]
    }
   ],
   "source": [
    "for i_y, year in enumerate(tqdm(years)):\n",
    "    _fdr_th=fdr_th(cos_sims_global[i_y]['p_val'], alpha)\n",
    "    compa_y=vectors[vectors['year']==year]['company']\n",
    "    sec_y=vectors[vectors['year']==year]['sector']\n",
    "    validated_compa=compa_y[cos_sims_global[i_y]['p_val']<=_fdr_th]\n",
    "    validated_sec=sec_y[cos_sims_global[i_y]['p_val']<=_fdr_th]\n",
    "    print(f'{year:}) len(validated_companies)={len(validated_compa):}')\n",
    "    if len(validated_compa)>0:\n",
    "        for i_vc, vc in enumerate(validated_compa):\n",
    "            print(f'\\t\\t{vc:25} sector={sec_helper[validated_sec[i_vc]]:}')"
   ]
  },
  {
   "cell_type": "markdown",
   "id": "5e9a60e5",
   "metadata": {},
   "source": [
    "### Table for $\\LaTeX$"
   ]
  },
  {
   "cell_type": "code",
   "execution_count": 59,
   "id": "58293384",
   "metadata": {
    "ExecuteTime": {
     "end_time": "2025-06-18T15:34:58.332915Z",
     "start_time": "2025-06-18T15:34:58.247917Z"
    }
   },
   "outputs": [
    {
     "data": {
      "application/vnd.jupyter.widget-view+json": {
       "model_id": "6e82e05cece542db89ce6119c05d7ba0",
       "version_major": 2,
       "version_minor": 0
      },
      "text/plain": [
       "  0%|          | 0/9 [00:00<?, ?it/s]"
      ]
     },
     "metadata": {},
     "output_type": "display_data"
    },
    {
     "name": "stdout",
     "output_type": "stream",
     "text": [
      "2015) len(validated_companies)=3\n",
      "2016) len(validated_companies)=3\n",
      "2017) len(validated_companies)=1\n",
      "2018) len(validated_companies)=0\n",
      "2019) len(validated_companies)=0\n",
      "2020) len(validated_companies)=7\n",
      "2021) len(validated_companies)=6\n",
      "2022) len(validated_companies)=4\n",
      "2023) len(validated_companies)=0\n"
     ]
    }
   ],
   "source": [
    "_table=[]\n",
    "for i_y, year in enumerate(tqdm(years)):\n",
    "    _fdr_th=fdr_th(cos_sims_global[i_y]['p_val'], alpha)\n",
    "    compa_y=vectors[vectors['year']==year]['company']\n",
    "    sec_y=vectors[vectors['year']==year]['sector']\n",
    "    validated_compa=compa_y[cos_sims_global[i_y]['p_val']<=_fdr_th]\n",
    "    validated_sec=sec_y[cos_sims_global[i_y]['p_val']<=_fdr_th]\n",
    "    print(f'{year:}) len(validated_companies)={len(validated_compa):}')\n",
    "    if len(validated_compa)>0:\n",
    "        for i_vc, vc in enumerate(validated_compa):\n",
    "            company_name_smooth=vc.split('_')\n",
    "            company_name_smooth=[_.capitalize() for _ in company_name_smooth]\n",
    "            company_name_smooth=' '.join(company_name_smooth)\n",
    "            if i_vc==0:\n",
    "                _table.append([year, company_name_smooth, sec_helper[validated_sec[i_vc]]])\n",
    "            else:\n",
    "                _table.append(['', company_name_smooth, sec_helper[validated_sec[i_vc]]])\n",
    "    else:\n",
    "        _table.append([year, '', ''])"
   ]
  },
  {
   "cell_type": "code",
   "execution_count": 60,
   "id": "c186c16c",
   "metadata": {
    "ExecuteTime": {
     "end_time": "2025-06-18T15:34:58.419937Z",
     "start_time": "2025-06-18T15:34:58.335737Z"
    }
   },
   "outputs": [],
   "source": [
    "header=['Year','Firm', 'Sector']"
   ]
  },
  {
   "cell_type": "code",
   "execution_count": 61,
   "id": "f5ea5b6f",
   "metadata": {
    "ExecuteTime": {
     "end_time": "2025-06-18T15:34:58.496838Z",
     "start_time": "2025-06-18T15:34:58.423475Z"
    }
   },
   "outputs": [
    {
     "name": "stdout",
     "output_type": "stream",
     "text": [
      "\\begin{tabular}{lll}\n",
      "\\hline\n",
      " Year   & Firm                          & Sector                 \\\\\n",
      "\\hline\n",
      " 2015   & Unilever                      & Consumer Staples       \\\\\n",
      "        & Standard Chartered            & Financials             \\\\\n",
      "        & Halma                         & Industrials            \\\\\n",
      " 2016   & Unilever                      & Consumer Staples       \\\\\n",
      "        & Standard Chartered            & Financials             \\\\\n",
      "        & Halma                         & Industrials            \\\\\n",
      " 2017   & Halma                         & Industrials            \\\\\n",
      " 2018   &                               &                        \\\\\n",
      " 2019   &                               &                        \\\\\n",
      " 2020   & Intercontinental Hotels Group & Consumer Discretionary \\\\\n",
      "        & Reckitt Benckiser Group       & Consumer Staples       \\\\\n",
      "        & Bp                            & Energy                 \\\\\n",
      "        & Hsbc Holdings                 & Financials             \\\\\n",
      "        & Standard Chartered            & Financials             \\\\\n",
      "        & Astrazeneca                   & Health Care            \\\\\n",
      "        & Rentokil Initial              & Industrials            \\\\\n",
      " 2021   & Reckitt Benckiser Group       & Consumer Staples       \\\\\n",
      "        & Hsbc Holdings                 & Financials             \\\\\n",
      "        & Standard Chartered            & Financials             \\\\\n",
      "        & Rentokil Initial              & Industrials            \\\\\n",
      "        & Airtel Africa                 & Telecommunications     \\\\\n",
      "        & Renewi                        & Utilities              \\\\\n",
      " 2022   & Reckitt Benckiser Group       & Consumer Staples       \\\\\n",
      "        & Hsbc Holdings                 & Financials             \\\\\n",
      "        & Legal \\& General Group         & Financials             \\\\\n",
      "        & Standard Chartered            & Financials             \\\\\n",
      " 2023   &                               &                        \\\\\n",
      "\\hline\n",
      "\\end{tabular}\n"
     ]
    }
   ],
   "source": [
    "print(tabulate(_table, header, tablefmt=\"latex\"))"
   ]
  },
  {
   "cell_type": "markdown",
   "id": "f4c01722",
   "metadata": {},
   "source": [
    "## All SDGs, per sector"
   ]
  },
  {
   "cell_type": "code",
   "execution_count": 62,
   "id": "84686f83",
   "metadata": {
    "ExecuteTime": {
     "end_time": "2025-06-18T15:34:58.595481Z",
     "start_time": "2025-06-18T15:34:58.499779Z"
    }
   },
   "outputs": [],
   "source": [
    "cos_sims_global_sec=np.zeros(len(years), dtype=[('all', object), ('p_val', object)])"
   ]
  },
  {
   "cell_type": "code",
   "execution_count": 63,
   "id": "77999170",
   "metadata": {
    "ExecuteTime": {
     "end_time": "2025-06-18T15:34:58.675034Z",
     "start_time": "2025-06-18T15:34:58.598403Z"
    }
   },
   "outputs": [],
   "source": [
    "with open('./NewProcessedData/wiki_bench_per_sector_abtt1.pickle', 'rb') as f:\n",
    "    wiki_bench_per_sector=pickle.load(f)"
   ]
  },
  {
   "cell_type": "code",
   "execution_count": 64,
   "id": "3994de8d",
   "metadata": {
    "ExecuteTime": {
     "end_time": "2025-06-18T15:34:58.803966Z",
     "start_time": "2025-06-18T15:34:58.678406Z"
    }
   },
   "outputs": [
    {
     "data": {
      "application/vnd.jupyter.widget-view+json": {
       "model_id": "4c640f0b7b7144df8a7f958bc2da8e94",
       "version_major": 2,
       "version_minor": 0
      },
      "text/plain": [
       "  0%|          | 0/9 [00:00<?, ?it/s]"
      ]
     },
     "metadata": {},
     "output_type": "display_data"
    }
   ],
   "source": [
    "for i_y, year in enumerate(tqdm(years)):\n",
    "    vecs_y=aggr_vectors[aggr_vectors['year']==year]['vector']\n",
    "    wiki_bench_y=wiki_bench_per_sector[aggr_vectors['year']==year]['cos_sim']\n",
    "    cos_sims_global_sec[i_y]['all']=np.zeros(len(vecs_y))\n",
    "    cos_sims_global_sec[i_y]['p_val']=np.zeros(len(vecs_y))\n",
    "    for i_vec, vec in enumerate(vecs_y):\n",
    "        _cos_sim=float(util.cos_sim(goalvecs[-1], vec))\n",
    "        cos_sims_global_sec[i_y]['all'][i_vec]=_cos_sim\n",
    "        cos_sims_global_sec[i_y]['p_val'][i_vec]=np.sum(wiki_bench_y[i_vec]>=_cos_sim)/len(wikivecs)"
   ]
  },
  {
   "cell_type": "code",
   "execution_count": 65,
   "id": "5d5fca67",
   "metadata": {
    "ExecuteTime": {
     "end_time": "2025-06-18T15:34:58.874575Z",
     "start_time": "2025-06-18T15:34:58.806461Z"
    }
   },
   "outputs": [
    {
     "data": {
      "application/vnd.jupyter.widget-view+json": {
       "model_id": "a6971c72653a4768a8070f278b77b5d7",
       "version_major": 2,
       "version_minor": 0
      },
      "text/plain": [
       "  0%|          | 0/9 [00:00<?, ?it/s]"
      ]
     },
     "metadata": {},
     "output_type": "display_data"
    },
    {
     "name": "stdout",
     "output_type": "stream",
     "text": [
      "2015) len(validated_sectors)=0\n",
      "2016) len(validated_sectors)=0\n",
      "2017) len(validated_sectors)=0\n",
      "2018) len(validated_sectors)=1\n",
      "\t\t05                        sector=Financials\n",
      "2019) len(validated_sectors)=0\n",
      "2020) len(validated_sectors)=0\n",
      "2021) len(validated_sectors)=0\n",
      "2022) len(validated_sectors)=2\n",
      "\t\t05                        sector=Financials\n",
      "\t\t07                        sector=Industrials\n",
      "2023) len(validated_sectors)=0\n"
     ]
    }
   ],
   "source": [
    "for i_y, year in enumerate(tqdm(years)):\n",
    "    _fdr_th=fdr_th(cos_sims_global_sec[i_y]['p_val'], alpha)\n",
    "    sec_y=aggr_vectors[aggr_vectors['year']==year]['sector']\n",
    "    validated_sec=sec_y[cos_sims_global_sec[i_y]['p_val']<=_fdr_th]\n",
    "    print(f'{year:}) len(validated_sectors)={len(validated_sec):}')\n",
    "    if len(validated_sec)>0:\n",
    "        for i_vs, vs in enumerate(validated_sec):\n",
    "            print(f'\\t\\t{vs:25} sector={sec_helper[vs]:}')"
   ]
  },
  {
   "cell_type": "markdown",
   "id": "d9a14dff",
   "metadata": {},
   "source": [
    "## Clustered SDGs"
   ]
  },
  {
   "cell_type": "markdown",
   "id": "6d12ba58",
   "metadata": {},
   "source": [
    "### Define cSDGs"
   ]
  },
  {
   "cell_type": "code",
   "execution_count": 66,
   "id": "2dbd2b09",
   "metadata": {
    "ExecuteTime": {
     "end_time": "2025-06-18T15:34:58.957122Z",
     "start_time": "2025-06-18T15:34:58.877269Z"
    }
   },
   "outputs": [],
   "source": [
    "social_sdgs=['01','02','03','04','05','10','16','17']\n",
    "economic_sdgs=['07','08','09','11','12']\n",
    "environmental_sdgs=['06','13','14','15']"
   ]
  },
  {
   "cell_type": "code",
   "execution_count": 67,
   "id": "d6afd1e0",
   "metadata": {
    "ExecuteTime": {
     "end_time": "2025-06-18T15:34:59.085189Z",
     "start_time": "2025-06-18T15:34:58.960089Z"
    }
   },
   "outputs": [],
   "source": [
    "social_vec=[np.genfromtxt(ABTT1_VECTOR_FOLDER+goalvecfile) for goalvecfile in goalvecfiles if any([sdg in goalvecfile for sdg in social_sdgs])]\n",
    "social_vec=np.mean(social_vec, axis=0)"
   ]
  },
  {
   "cell_type": "code",
   "execution_count": 68,
   "id": "ee857e67",
   "metadata": {
    "ExecuteTime": {
     "end_time": "2025-06-18T15:34:59.169430Z",
     "start_time": "2025-06-18T15:34:59.088092Z"
    }
   },
   "outputs": [],
   "source": [
    "economic_vec=[np.genfromtxt(ABTT1_VECTOR_FOLDER+goalvecfile) for goalvecfile in goalvecfiles if any([sdg in goalvecfile for sdg in economic_sdgs])]\n",
    "economic_vec=np.mean(economic_vec, axis=0)"
   ]
  },
  {
   "cell_type": "code",
   "execution_count": 69,
   "id": "ce920f5e",
   "metadata": {
    "ExecuteTime": {
     "end_time": "2025-06-18T15:34:59.276263Z",
     "start_time": "2025-06-18T15:34:59.172677Z"
    }
   },
   "outputs": [],
   "source": [
    "environmental_vec=[np.genfromtxt(ABTT1_VECTOR_FOLDER+goalvecfile) for goalvecfile in goalvecfiles if any([sdg in goalvecfile for sdg in environmental_sdgs])]\n",
    "environmental_vec=np.mean(environmental_vec, axis=0)"
   ]
  },
  {
   "cell_type": "code",
   "execution_count": 70,
   "id": "7b7451f1",
   "metadata": {
    "ExecuteTime": {
     "end_time": "2025-06-18T15:34:59.337274Z",
     "start_time": "2025-06-18T15:34:59.279293Z"
    }
   },
   "outputs": [],
   "source": [
    "clustered_sdgs=np.array([social_vec, economic_vec, environmental_vec])"
   ]
  },
  {
   "cell_type": "code",
   "execution_count": 71,
   "id": "8f1f95dc",
   "metadata": {
    "ExecuteTime": {
     "end_time": "2025-06-18T15:34:59.412323Z",
     "start_time": "2025-06-18T15:34:59.340666Z"
    }
   },
   "outputs": [
    {
     "data": {
      "text/plain": [
       "(3, 768)"
      ]
     },
     "execution_count": 71,
     "metadata": {},
     "output_type": "execute_result"
    }
   ],
   "source": [
    "clustered_sdgs.shape"
   ]
  },
  {
   "cell_type": "code",
   "execution_count": 72,
   "id": "ef7ce0d7",
   "metadata": {
    "ExecuteTime": {
     "end_time": "2025-06-18T15:34:59.526057Z",
     "start_time": "2025-06-18T15:34:59.415125Z"
    }
   },
   "outputs": [],
   "source": [
    "cSDGS_names=['social', 'economic', 'environmental']"
   ]
  },
  {
   "cell_type": "code",
   "execution_count": 73,
   "id": "d127a7aa",
   "metadata": {
    "ExecuteTime": {
     "end_time": "2025-06-18T15:34:59.587181Z",
     "start_time": "2025-06-18T15:34:59.529503Z"
    }
   },
   "outputs": [],
   "source": [
    "l_csdgs=len(cSDGS_names)"
   ]
  },
  {
   "cell_type": "markdown",
   "id": "8ce3063b",
   "metadata": {},
   "source": [
    "### Cosine similarity validation"
   ]
  },
  {
   "cell_type": "code",
   "execution_count": 74,
   "id": "05edd1c0",
   "metadata": {
    "ExecuteTime": {
     "end_time": "2025-06-18T15:34:59.660709Z",
     "start_time": "2025-06-18T15:34:59.590666Z"
    }
   },
   "outputs": [],
   "source": [
    "cos_sims_cSDGs=np.zeros(len(years)*len(cSDGS_names), dtype=[('cSDG', 'U20'), ('mean', 'f8'), ('all', object), ('p_val', object)])"
   ]
  },
  {
   "cell_type": "code",
   "execution_count": 75,
   "id": "538b8ee0",
   "metadata": {
    "ExecuteTime": {
     "end_time": "2025-06-18T15:35:00.446393Z",
     "start_time": "2025-06-18T15:34:59.664455Z"
    }
   },
   "outputs": [
    {
     "data": {
      "application/vnd.jupyter.widget-view+json": {
       "model_id": "9ef24a988f1740c9b117d07537d5b52f",
       "version_major": 2,
       "version_minor": 0
      },
      "text/plain": [
       "  0%|          | 0/9 [00:00<?, ?it/s]"
      ]
     },
     "metadata": {},
     "output_type": "display_data"
    }
   ],
   "source": [
    "for i_y, year in enumerate(tqdm(years)):\n",
    "    vecs_y=vectors[vectors['year']==year]['vector']\n",
    "    wiki_bench_y=wiki_bench[vectors['year']==year]['cos_sim']\n",
    "    for i_c, csdg in enumerate(cSDGS_names):\n",
    "        cos_sims_cSDGs[i_y*l_csdgs+i_c]['cSDG']=csdg\n",
    "        cos_sims_cSDGs[i_y*l_csdgs+i_c]['all']=np.zeros(len(vecs_y))\n",
    "        cos_sims_cSDGs[i_y*l_csdgs+i_c]['p_val']=np.zeros(len(vecs_y))\n",
    "        for i_vec, vec in enumerate(vecs_y):\n",
    "            _cos_sim=float(util.cos_sim(clustered_sdgs[i_c], vec))\n",
    "            cos_sims_cSDGs[i_y*l_csdgs+i_c]['all'][i_vec]=_cos_sim\n",
    "            cos_sims_cSDGs[i_y*l_csdgs+i_c]['p_val'][i_vec]=np.sum(wiki_bench_y[i_vec]>=_cos_sim)/len(wikivecs)\n",
    "        cos_sims_cSDGs[i_y*l_csdgs+i_c]['mean']=np.mean(cos_sims_cSDGs[i_y*l_csdgs+i_c]['all'])"
   ]
  },
  {
   "cell_type": "code",
   "execution_count": 76,
   "id": "11030767",
   "metadata": {
    "ExecuteTime": {
     "end_time": "2025-06-18T15:35:00.483610Z",
     "start_time": "2025-06-18T15:35:00.449292Z"
    }
   },
   "outputs": [
    {
     "data": {
      "application/vnd.jupyter.widget-view+json": {
       "model_id": "254c94f0d1a34d978be3826bc4e77dfd",
       "version_major": 2,
       "version_minor": 0
      },
      "text/plain": [
       "  0%|          | 0/9 [00:00<?, ?it/s]"
      ]
     },
     "metadata": {},
     "output_type": "display_data"
    },
    {
     "name": "stdout",
     "output_type": "stream",
     "text": [
      "\n",
      "2015\n",
      "\u001b[1mSocial              \u001b[0m len(validated_companies)=3\n",
      "\t\u001b[1munilever                 \u001b[0m sector=\u001b[1mConsumer Staples\u001b[0m\n",
      "\t\u001b[1mstandard_chartered       \u001b[0m sector=\u001b[1mFinancials\u001b[0m\n",
      "\t\u001b[1mgsk                      \u001b[0m sector=\u001b[1mHealth Care\u001b[0m\n",
      "\n",
      "\n",
      "Economic             len(validated_companies)=0\n",
      "Environmental        len(validated_companies)=0\n",
      "\n",
      "2016\n",
      "\u001b[1mSocial              \u001b[0m len(validated_companies)=2\n",
      "\t\u001b[1munilever                 \u001b[0m sector=\u001b[1mConsumer Staples\u001b[0m\n",
      "\t\u001b[1mstandard_chartered       \u001b[0m sector=\u001b[1mFinancials\u001b[0m\n",
      "\n",
      "\n",
      "\u001b[1mEconomic            \u001b[0m len(validated_companies)=2\n",
      "\t\u001b[1mstandard_chartered       \u001b[0m sector=\u001b[1mFinancials\u001b[0m\n",
      "\t\u001b[1mhalma                    \u001b[0m sector=\u001b[1mIndustrials\u001b[0m\n",
      "\n",
      "\n",
      "Environmental        len(validated_companies)=0\n",
      "\n",
      "2017\n",
      "Social               len(validated_companies)=0\n",
      "\u001b[1mEconomic            \u001b[0m len(validated_companies)=1\n",
      "\t\u001b[1mhalma                    \u001b[0m sector=\u001b[1mIndustrials\u001b[0m\n",
      "\n",
      "\n",
      "Environmental        len(validated_companies)=0\n",
      "\n",
      "2018\n",
      "Social               len(validated_companies)=0\n",
      "Economic             len(validated_companies)=0\n",
      "Environmental        len(validated_companies)=0\n",
      "\n",
      "2019\n",
      "Social               len(validated_companies)=0\n",
      "Economic             len(validated_companies)=0\n",
      "Environmental        len(validated_companies)=0\n",
      "\n",
      "2020\n",
      "\u001b[1mSocial              \u001b[0m len(validated_companies)=6\n",
      "\t\u001b[1mintercontinental_hotels_group\u001b[0m sector=\u001b[1mConsumer Discretionary\u001b[0m\n",
      "\t\u001b[1mrelx                     \u001b[0m sector=\u001b[1mConsumer Discretionary\u001b[0m\n",
      "\t\u001b[1mhsbc_holdings            \u001b[0m sector=\u001b[1mFinancials\u001b[0m\n",
      "\t\u001b[1mstandard_chartered       \u001b[0m sector=\u001b[1mFinancials\u001b[0m\n",
      "\t\u001b[1mastrazeneca              \u001b[0m sector=\u001b[1mHealth Care\u001b[0m\n",
      "\t\u001b[1mrentokil_initial         \u001b[0m sector=\u001b[1mIndustrials\u001b[0m\n",
      "\n",
      "\n",
      "Economic             len(validated_companies)=0\n",
      "Environmental        len(validated_companies)=0\n",
      "\n",
      "2021\n",
      "\u001b[1mSocial              \u001b[0m len(validated_companies)=2\n",
      "\t\u001b[1mstandard_chartered       \u001b[0m sector=\u001b[1mFinancials\u001b[0m\n",
      "\t\u001b[1mairtel_africa            \u001b[0m sector=\u001b[1mTelecommunications\u001b[0m\n",
      "\n",
      "\n",
      "\u001b[1mEconomic            \u001b[0m len(validated_companies)=1\n",
      "\t\u001b[1mrenewi                   \u001b[0m sector=\u001b[1mUtilities\u001b[0m\n",
      "\n",
      "\n",
      "\u001b[1mEnvironmental       \u001b[0m len(validated_companies)=3\n",
      "\t\u001b[1mreckitt_benckiser_group  \u001b[0m sector=\u001b[1mConsumer Staples\u001b[0m\n",
      "\t\u001b[1mlegal_&_general_group    \u001b[0m sector=\u001b[1mFinancials\u001b[0m\n",
      "\t\u001b[1mrenewi                   \u001b[0m sector=\u001b[1mUtilities\u001b[0m\n",
      "\n",
      "\n",
      "\n",
      "2022\n",
      "Social               len(validated_companies)=0\n",
      "Economic             len(validated_companies)=0\n",
      "\u001b[1mEnvironmental       \u001b[0m len(validated_companies)=6\n",
      "\t\u001b[1mcroda_international      \u001b[0m sector=\u001b[1mBasic Materials\u001b[0m\n",
      "\t\u001b[1mlegal_&_general_group    \u001b[0m sector=\u001b[1mFinancials\u001b[0m\n",
      "\t\u001b[1mstandard_chartered       \u001b[0m sector=\u001b[1mFinancials\u001b[0m\n",
      "\t\u001b[1mbytes_technology_group   \u001b[0m sector=\u001b[1mTechnology\u001b[0m\n",
      "\t\u001b[1mdeliveroo                \u001b[0m sector=\u001b[1mTechnology\u001b[0m\n",
      "\t\u001b[1mhelios_towers            \u001b[0m sector=\u001b[1mTelecommunications\u001b[0m\n",
      "\n",
      "\n",
      "\n",
      "2023\n",
      "Social               len(validated_companies)=0\n",
      "Economic             len(validated_companies)=0\n",
      "\u001b[1mEnvironmental       \u001b[0m len(validated_companies)=8\n",
      "\t\u001b[1mbritish_american_tobacco \u001b[0m sector=\u001b[1mConsumer Staples\u001b[0m\n",
      "\t\u001b[1mstandard_chartered       \u001b[0m sector=\u001b[1mFinancials\u001b[0m\n",
      "\t\u001b[1mbytes_technology_group   \u001b[0m sector=\u001b[1mTechnology\u001b[0m\n",
      "\t\u001b[1mdeliveroo                \u001b[0m sector=\u001b[1mTechnology\u001b[0m\n",
      "\t\u001b[1mhelios_towers            \u001b[0m sector=\u001b[1mTelecommunications\u001b[0m\n",
      "\t\u001b[1mvodafone_group           \u001b[0m sector=\u001b[1mTelecommunications\u001b[0m\n",
      "\t\u001b[1mpennon_group             \u001b[0m sector=\u001b[1mUtilities\u001b[0m\n",
      "\t\u001b[1munited_utilities_group   \u001b[0m sector=\u001b[1mUtilities\u001b[0m\n",
      "\n",
      "\n"
     ]
    }
   ],
   "source": [
    "for i_y, year in enumerate(tqdm(years)):\n",
    "    print(f'\\n{year:}')\n",
    "    compa_y=vectors[vectors['year']==year]['company']\n",
    "    sec_y=vectors[vectors['year']==year]['sector']\n",
    "    for i_c, csdg in enumerate(cSDGS_names):\n",
    "        _fdr_th=fdr_th(cos_sims_cSDGs[i_y*l_csdgs+i_c]['p_val'], alpha)\n",
    "        validation_mask=cos_sims_cSDGs[i_y*l_csdgs+i_c]['p_val']<=_fdr_th\n",
    "        validated_compa=compa_y[validation_mask]\n",
    "        validated_sec=sec_y[validation_mask]\n",
    "        if len(validated_compa)>0:\n",
    "            print(f'\\033[1m{csdg.capitalize():20}\\033[0m len(validated_companies)={len(validated_compa):}')\n",
    "            for i_vc, vc in enumerate(validated_compa):\n",
    "                print(f'\\t\\033[1m{vc:25}\\033[0m sector=\\033[1m{sec_helper[validated_sec[i_vc]]:}\\033[0m')\n",
    "            print('\\n')\n",
    "        else:\n",
    "            print(f'{csdg.capitalize():20} len(validated_companies)={len(validated_compa):}')"
   ]
  },
  {
   "cell_type": "markdown",
   "id": "ea38da1d",
   "metadata": {},
   "source": [
    "### Table for $\\LaTeX$"
   ]
  },
  {
   "cell_type": "code",
   "execution_count": 77,
   "id": "c2b6b6e8",
   "metadata": {
    "ExecuteTime": {
     "end_time": "2025-06-18T15:35:00.577568Z",
     "start_time": "2025-06-18T15:35:00.486756Z"
    }
   },
   "outputs": [
    {
     "data": {
      "application/vnd.jupyter.widget-view+json": {
       "model_id": "9d8e3217d742470589bda1092891c6bd",
       "version_major": 2,
       "version_minor": 0
      },
      "text/plain": [
       "  0%|          | 0/9 [00:00<?, ?it/s]"
      ]
     },
     "metadata": {},
     "output_type": "display_data"
    },
    {
     "name": "stdout",
     "output_type": "stream",
     "text": [
      "\n",
      "2015\n",
      "\u001b[1mSocial              \u001b[0m len(validated_companies)=3\n",
      "\n",
      "2016\n",
      "\u001b[1mSocial              \u001b[0m len(validated_companies)=2\n",
      "\u001b[1mEconomic            \u001b[0m len(validated_companies)=2\n",
      "\n",
      "2017\n",
      "\u001b[1mEconomic            \u001b[0m len(validated_companies)=1\n",
      "\n",
      "2018\n",
      "\n",
      "2019\n",
      "\n",
      "2020\n",
      "\u001b[1mSocial              \u001b[0m len(validated_companies)=6\n",
      "\n",
      "2021\n",
      "\u001b[1mSocial              \u001b[0m len(validated_companies)=2\n",
      "\u001b[1mEconomic            \u001b[0m len(validated_companies)=1\n",
      "\u001b[1mEnvironmental       \u001b[0m len(validated_companies)=3\n",
      "\n",
      "2022\n",
      "\u001b[1mEnvironmental       \u001b[0m len(validated_companies)=6\n",
      "\n",
      "2023\n",
      "\u001b[1mEnvironmental       \u001b[0m len(validated_companies)=8\n"
     ]
    }
   ],
   "source": [
    "_table=[]\n",
    "for i_y, year in enumerate(tqdm(years)):\n",
    "    print(f'\\n{year:}')\n",
    "    compa_y=vectors[vectors['year']==year]['company']\n",
    "    sec_y=vectors[vectors['year']==year]['sector']\n",
    "    for i_c, csdg in enumerate(cSDGS_names):\n",
    "        _fdr_th=fdr_th(cos_sims_cSDGs[i_y*l_csdgs+i_c]['p_val'], alpha)\n",
    "        validation_mask=cos_sims_cSDGs[i_y*l_csdgs+i_c]['p_val']<=_fdr_th\n",
    "        validated_compa=compa_y[validation_mask]\n",
    "        validated_sec=sec_y[validation_mask]\n",
    "        if len(validated_compa)>0:\n",
    "            print(f'\\033[1m{csdg.capitalize():20}\\033[0m len(validated_companies)={len(validated_compa):}')\n",
    "            for i_vc, vc in enumerate(validated_compa):\n",
    "                company_name_smooth=vc.split('_')\n",
    "                company_name_smooth=[_.capitalize() for _ in company_name_smooth]\n",
    "                company_name_smooth=' '.join(company_name_smooth)\n",
    "                if i_vc==0 and i_c==0:\n",
    "                    _table.append([year, csdg.capitalize(), company_name_smooth, sec_helper[validated_sec[i_vc]]])\n",
    "                elif i_vc==0:\n",
    "                    _table.append(['', csdg.capitalize(), company_name_smooth, sec_helper[validated_sec[i_vc]]])\n",
    "                else:\n",
    "                    _table.append(['', '', company_name_smooth, sec_helper[validated_sec[i_vc]]])\n",
    "        elif i_c==0:\n",
    "            _table.append([year, csdg.capitalize(), '', ''])\n",
    "        else:\n",
    "            _table.append(['', csdg.capitalize(), '', ''])"
   ]
  },
  {
   "cell_type": "code",
   "execution_count": 78,
   "id": "bbb5c46e",
   "metadata": {
    "ExecuteTime": {
     "end_time": "2025-06-18T15:35:00.653304Z",
     "start_time": "2025-06-18T15:35:00.580410Z"
    }
   },
   "outputs": [],
   "source": [
    "header=['Year',\"SDGs' dimension\",'Firm', 'Sector']"
   ]
  },
  {
   "cell_type": "code",
   "execution_count": 79,
   "id": "46e3df1c",
   "metadata": {
    "ExecuteTime": {
     "end_time": "2025-06-18T15:35:00.734499Z",
     "start_time": "2025-06-18T15:35:00.656156Z"
    }
   },
   "outputs": [
    {
     "name": "stdout",
     "output_type": "stream",
     "text": [
      "\\begin{tabular}{llll}\n",
      "\\hline\n",
      " Year   & SDGs' dimension   & Firm                          & Sector                 \\\\\n",
      "\\hline\n",
      " 2015   & Social            & Unilever                      & Consumer Staples       \\\\\n",
      "        &                   & Standard Chartered            & Financials             \\\\\n",
      "        &                   & Gsk                           & Health Care            \\\\\n",
      "        & Economic          &                               &                        \\\\\n",
      "        & Environmental     &                               &                        \\\\\n",
      " 2016   & Social            & Unilever                      & Consumer Staples       \\\\\n",
      "        &                   & Standard Chartered            & Financials             \\\\\n",
      "        & Economic          & Standard Chartered            & Financials             \\\\\n",
      "        &                   & Halma                         & Industrials            \\\\\n",
      "        & Environmental     &                               &                        \\\\\n",
      " 2017   & Social            &                               &                        \\\\\n",
      "        & Economic          & Halma                         & Industrials            \\\\\n",
      "        & Environmental     &                               &                        \\\\\n",
      " 2018   & Social            &                               &                        \\\\\n",
      "        & Economic          &                               &                        \\\\\n",
      "        & Environmental     &                               &                        \\\\\n",
      " 2019   & Social            &                               &                        \\\\\n",
      "        & Economic          &                               &                        \\\\\n",
      "        & Environmental     &                               &                        \\\\\n",
      " 2020   & Social            & Intercontinental Hotels Group & Consumer Discretionary \\\\\n",
      "        &                   & Relx                          & Consumer Discretionary \\\\\n",
      "        &                   & Hsbc Holdings                 & Financials             \\\\\n",
      "        &                   & Standard Chartered            & Financials             \\\\\n",
      "        &                   & Astrazeneca                   & Health Care            \\\\\n",
      "        &                   & Rentokil Initial              & Industrials            \\\\\n",
      "        & Economic          &                               &                        \\\\\n",
      "        & Environmental     &                               &                        \\\\\n",
      " 2021   & Social            & Standard Chartered            & Financials             \\\\\n",
      "        &                   & Airtel Africa                 & Telecommunications     \\\\\n",
      "        & Economic          & Renewi                        & Utilities              \\\\\n",
      "        & Environmental     & Reckitt Benckiser Group       & Consumer Staples       \\\\\n",
      "        &                   & Legal \\& General Group         & Financials             \\\\\n",
      "        &                   & Renewi                        & Utilities              \\\\\n",
      " 2022   & Social            &                               &                        \\\\\n",
      "        & Economic          &                               &                        \\\\\n",
      "        & Environmental     & Croda International           & Basic Materials        \\\\\n",
      "        &                   & Legal \\& General Group         & Financials             \\\\\n",
      "        &                   & Standard Chartered            & Financials             \\\\\n",
      "        &                   & Bytes Technology Group        & Technology             \\\\\n",
      "        &                   & Deliveroo                     & Technology             \\\\\n",
      "        &                   & Helios Towers                 & Telecommunications     \\\\\n",
      " 2023   & Social            &                               &                        \\\\\n",
      "        & Economic          &                               &                        \\\\\n",
      "        & Environmental     & British American Tobacco      & Consumer Staples       \\\\\n",
      "        &                   & Standard Chartered            & Financials             \\\\\n",
      "        &                   & Bytes Technology Group        & Technology             \\\\\n",
      "        &                   & Deliveroo                     & Technology             \\\\\n",
      "        &                   & Helios Towers                 & Telecommunications     \\\\\n",
      "        &                   & Vodafone Group                & Telecommunications     \\\\\n",
      "        &                   & Pennon Group                  & Utilities              \\\\\n",
      "        &                   & United Utilities Group        & Utilities              \\\\\n",
      "\\hline\n",
      "\\end{tabular}\n"
     ]
    }
   ],
   "source": [
    "print(tabulate(_table, header, tablefmt=\"latex\"))"
   ]
  },
  {
   "cell_type": "markdown",
   "id": "1dc8bb08",
   "metadata": {},
   "source": [
    "## Clustered SDGs, per sector"
   ]
  },
  {
   "cell_type": "markdown",
   "id": "db2d4f0a",
   "metadata": {},
   "source": [
    "### Cosine similarity validation"
   ]
  },
  {
   "cell_type": "code",
   "execution_count": 80,
   "id": "4c322f22",
   "metadata": {
    "ExecuteTime": {
     "end_time": "2025-06-18T15:35:00.837512Z",
     "start_time": "2025-06-18T15:35:00.737250Z"
    }
   },
   "outputs": [],
   "source": [
    "cos_sims_cSDGs_sec=np.zeros(len(years)*len(cSDGS_names), dtype=[('cSDG', 'U20'), ('all', object), ('p_val', object)])"
   ]
  },
  {
   "cell_type": "code",
   "execution_count": 81,
   "id": "a36b3561",
   "metadata": {
    "ExecuteTime": {
     "end_time": "2025-06-18T15:35:01.044401Z",
     "start_time": "2025-06-18T15:35:00.840273Z"
    }
   },
   "outputs": [
    {
     "data": {
      "application/vnd.jupyter.widget-view+json": {
       "model_id": "5737c629178b4e648192f7e7473df77c",
       "version_major": 2,
       "version_minor": 0
      },
      "text/plain": [
       "  0%|          | 0/9 [00:00<?, ?it/s]"
      ]
     },
     "metadata": {},
     "output_type": "display_data"
    }
   ],
   "source": [
    "for i_y, year in enumerate(tqdm(years)):\n",
    "    vecs_y=aggr_vectors[aggr_vectors['year']==year]['vector']\n",
    "    wiki_bench_y=wiki_bench_per_sector[aggr_vectors['year']==year]['cos_sim']\n",
    "    for i_c, csdg in enumerate(cSDGS_names):\n",
    "        cos_sims_cSDGs_sec[i_y*l_csdgs+i_c]['cSDG']=csdg\n",
    "        cos_sims_cSDGs_sec[i_y*l_csdgs+i_c]['all']=np.zeros(len(vecs_y))\n",
    "        cos_sims_cSDGs_sec[i_y*l_csdgs+i_c]['p_val']=np.zeros(len(vecs_y))\n",
    "        for i_vec, vec in enumerate(vecs_y):\n",
    "            _cos_sim=float(util.cos_sim(clustered_sdgs[i_c], vec))\n",
    "            cos_sims_cSDGs_sec[i_y*l_csdgs+i_c]['all'][i_vec]=_cos_sim\n",
    "            cos_sims_cSDGs_sec[i_y*l_csdgs+i_c]['p_val'][i_vec]=np.sum(wiki_bench_y[i_vec]>=_cos_sim)/len(wikivecs)"
   ]
  },
  {
   "cell_type": "code",
   "execution_count": 82,
   "id": "dc544004",
   "metadata": {
    "ExecuteTime": {
     "end_time": "2025-06-18T15:35:01.102550Z",
     "start_time": "2025-06-18T15:35:01.063603Z"
    }
   },
   "outputs": [
    {
     "data": {
      "application/vnd.jupyter.widget-view+json": {
       "model_id": "0465ce94f04d449e817f347778f1e537",
       "version_major": 2,
       "version_minor": 0
      },
      "text/plain": [
       "  0%|          | 0/9 [00:00<?, ?it/s]"
      ]
     },
     "metadata": {},
     "output_type": "display_data"
    },
    {
     "name": "stdout",
     "output_type": "stream",
     "text": [
      "\n",
      "2015\n",
      "\u001b[1mSocial              \n",
      "\t\u001b[1m05                       \u001b[0m sector=\u001b[1mFinancials\u001b[0m\n",
      "\t\u001b[1m06                       \u001b[0m sector=\u001b[1mHealth Care\u001b[0m\n",
      "\n",
      "\n",
      "Economic             len(validated_sec)=0\n",
      "Environmental        len(validated_sec)=0\n",
      "\n",
      "2016\n",
      "Social               len(validated_sec)=0\n",
      "Economic             len(validated_sec)=0\n",
      "Environmental        len(validated_sec)=0\n",
      "\n",
      "2017\n",
      "Social               len(validated_sec)=0\n",
      "Economic             len(validated_sec)=0\n",
      "Environmental        len(validated_sec)=0\n",
      "\n",
      "2018\n",
      "Social               len(validated_sec)=0\n",
      "\u001b[1mEconomic            \n",
      "\t\u001b[1m05                       \u001b[0m sector=\u001b[1mFinancials\u001b[0m\n",
      "\n",
      "\n",
      "Environmental        len(validated_sec)=0\n",
      "\n",
      "2019\n",
      "Social               len(validated_sec)=0\n",
      "Economic             len(validated_sec)=0\n",
      "Environmental        len(validated_sec)=0\n",
      "\n",
      "2020\n",
      "\u001b[1mSocial              \n",
      "\t\u001b[1m02                       \u001b[0m sector=\u001b[1mConsumer Discretionary\u001b[0m\n",
      "\t\u001b[1m05                       \u001b[0m sector=\u001b[1mFinancials\u001b[0m\n",
      "\t\u001b[1m06                       \u001b[0m sector=\u001b[1mHealth Care\u001b[0m\n",
      "\n",
      "\n",
      "Economic             len(validated_sec)=0\n",
      "Environmental        len(validated_sec)=0\n",
      "\n",
      "2021\n",
      "Social               len(validated_sec)=0\n",
      "Economic             len(validated_sec)=0\n",
      "Environmental        len(validated_sec)=0\n",
      "\n",
      "2022\n",
      "Social               len(validated_sec)=0\n",
      "\u001b[1mEconomic            \n",
      "\t\u001b[1m05                       \u001b[0m sector=\u001b[1mFinancials\u001b[0m\n",
      "\t\u001b[1m07                       \u001b[0m sector=\u001b[1mIndustrials\u001b[0m\n",
      "\n",
      "\n",
      "Environmental        len(validated_sec)=0\n",
      "\n",
      "2023\n",
      "Social               len(validated_sec)=0\n",
      "Economic             len(validated_sec)=0\n",
      "Environmental        len(validated_sec)=0\n"
     ]
    }
   ],
   "source": [
    "for i_y, year in enumerate(tqdm(years)):\n",
    "    print(f'\\n{year:}')\n",
    "    sec_y=aggr_vectors[aggr_vectors['year']==year]['sector']\n",
    "    for i_c, csdg in enumerate(cSDGS_names):\n",
    "        _fdr_th=fdr_th(cos_sims_cSDGs_sec[i_y*l_csdgs+i_c]['p_val'], alpha)\n",
    "        validation_mask=cos_sims_cSDGs_sec[i_y*l_csdgs+i_c]['p_val']<=_fdr_th\n",
    "        validated_sec=sec_y[validation_mask]\n",
    "        if len(validated_sec)>0:\n",
    "            print(f'\\033[1m{csdg.capitalize():20}')\n",
    "            for i_vs, vs in enumerate(validated_sec):\n",
    "                print(f'\\t\\033[1m{vs:25}\\033[0m sector=\\033[1m{sec_helper[vs]:}\\033[0m')\n",
    "            print('\\n')\n",
    "        else:\n",
    "            print(f'{csdg.capitalize():20} len(validated_sec)={len(validated_sec):}')"
   ]
  },
  {
   "cell_type": "markdown",
   "id": "d5e192d7",
   "metadata": {},
   "source": [
    "### Table for $\\LaTeX$"
   ]
  },
  {
   "cell_type": "code",
   "execution_count": 83,
   "id": "be79cb16",
   "metadata": {
    "ExecuteTime": {
     "end_time": "2025-06-18T15:35:01.205394Z",
     "start_time": "2025-06-18T15:35:01.105932Z"
    }
   },
   "outputs": [
    {
     "data": {
      "application/vnd.jupyter.widget-view+json": {
       "model_id": "1b7718edc63e48908da2d6953fdda811",
       "version_major": 2,
       "version_minor": 0
      },
      "text/plain": [
       "  0%|          | 0/9 [00:00<?, ?it/s]"
      ]
     },
     "metadata": {},
     "output_type": "display_data"
    },
    {
     "name": "stdout",
     "output_type": "stream",
     "text": [
      "\n",
      "2015\n",
      "\u001b[1mSocial              \u001b[0m len(validated_companies)=3\n",
      "\n",
      "2016\n",
      "\u001b[1mSocial              \u001b[0m len(validated_companies)=2\n",
      "\u001b[1mEconomic            \u001b[0m len(validated_companies)=2\n",
      "\n",
      "2017\n",
      "\u001b[1mEconomic            \u001b[0m len(validated_companies)=1\n",
      "\n",
      "2018\n",
      "\n",
      "2019\n",
      "\n",
      "2020\n",
      "\u001b[1mSocial              \u001b[0m len(validated_companies)=6\n",
      "\n",
      "2021\n",
      "\u001b[1mSocial              \u001b[0m len(validated_companies)=2\n",
      "\u001b[1mEconomic            \u001b[0m len(validated_companies)=1\n",
      "\u001b[1mEnvironmental       \u001b[0m len(validated_companies)=3\n",
      "\n",
      "2022\n",
      "\u001b[1mEnvironmental       \u001b[0m len(validated_companies)=6\n",
      "\n",
      "2023\n",
      "\u001b[1mEnvironmental       \u001b[0m len(validated_companies)=8\n"
     ]
    }
   ],
   "source": [
    "_table=[]\n",
    "for i_y, year in enumerate(tqdm(years)):\n",
    "    print(f'\\n{year:}')\n",
    "    compa_y=vectors[vectors['year']==year]['company']\n",
    "    sec_y=vectors[vectors['year']==year]['sector']\n",
    "    for i_c, csdg in enumerate(cSDGS_names):\n",
    "        _fdr_th=fdr_th(cos_sims_cSDGs[i_y*l_csdgs+i_c]['p_val'], alpha)\n",
    "        validation_mask=cos_sims_cSDGs[i_y*l_csdgs+i_c]['p_val']<=_fdr_th\n",
    "        validated_compa=compa_y[validation_mask]\n",
    "        validated_sec=sec_y[validation_mask]\n",
    "        if len(validated_compa)>0:\n",
    "            print(f'\\033[1m{csdg.capitalize():20}\\033[0m len(validated_companies)={len(validated_compa):}')\n",
    "            for i_vc, vc in enumerate(validated_compa):\n",
    "                company_name_smooth=vc.split('_')\n",
    "                company_name_smooth=[_.capitalize() for _ in company_name_smooth]\n",
    "                company_name_smooth=' '.join(company_name_smooth)\n",
    "                if i_vc==0 and i_c==0:\n",
    "                    _table.append([year, csdg.capitalize(), company_name_smooth, sec_helper[validated_sec[i_vc]]])\n",
    "                elif i_vc==0:\n",
    "                    _table.append(['', csdg.capitalize(), company_name_smooth, sec_helper[validated_sec[i_vc]]])\n",
    "                else:\n",
    "                    _table.append(['', '', company_name_smooth, sec_helper[validated_sec[i_vc]]])\n",
    "        elif i_c==0:\n",
    "            _table.append([year, csdg.capitalize(), '', ''])\n",
    "        else:\n",
    "            _table.append(['', csdg.capitalize(), '', ''])"
   ]
  },
  {
   "cell_type": "code",
   "execution_count": 84,
   "id": "657e9b2f",
   "metadata": {
    "ExecuteTime": {
     "end_time": "2025-06-18T15:35:01.290200Z",
     "start_time": "2025-06-18T15:35:01.208335Z"
    }
   },
   "outputs": [],
   "source": [
    "header=['Year',\"SDGs' dimension\",'Firm', 'Sector']"
   ]
  },
  {
   "cell_type": "code",
   "execution_count": 85,
   "id": "2da29bbc",
   "metadata": {
    "ExecuteTime": {
     "end_time": "2025-06-18T15:35:01.367753Z",
     "start_time": "2025-06-18T15:35:01.293188Z"
    }
   },
   "outputs": [
    {
     "name": "stdout",
     "output_type": "stream",
     "text": [
      "\\begin{tabular}{llll}\n",
      "\\hline\n",
      " Year   & SDGs' dimension   & Firm                          & Sector                 \\\\\n",
      "\\hline\n",
      " 2015   & Social            & Unilever                      & Consumer Staples       \\\\\n",
      "        &                   & Standard Chartered            & Financials             \\\\\n",
      "        &                   & Gsk                           & Health Care            \\\\\n",
      "        & Economic          &                               &                        \\\\\n",
      "        & Environmental     &                               &                        \\\\\n",
      " 2016   & Social            & Unilever                      & Consumer Staples       \\\\\n",
      "        &                   & Standard Chartered            & Financials             \\\\\n",
      "        & Economic          & Standard Chartered            & Financials             \\\\\n",
      "        &                   & Halma                         & Industrials            \\\\\n",
      "        & Environmental     &                               &                        \\\\\n",
      " 2017   & Social            &                               &                        \\\\\n",
      "        & Economic          & Halma                         & Industrials            \\\\\n",
      "        & Environmental     &                               &                        \\\\\n",
      " 2018   & Social            &                               &                        \\\\\n",
      "        & Economic          &                               &                        \\\\\n",
      "        & Environmental     &                               &                        \\\\\n",
      " 2019   & Social            &                               &                        \\\\\n",
      "        & Economic          &                               &                        \\\\\n",
      "        & Environmental     &                               &                        \\\\\n",
      " 2020   & Social            & Intercontinental Hotels Group & Consumer Discretionary \\\\\n",
      "        &                   & Relx                          & Consumer Discretionary \\\\\n",
      "        &                   & Hsbc Holdings                 & Financials             \\\\\n",
      "        &                   & Standard Chartered            & Financials             \\\\\n",
      "        &                   & Astrazeneca                   & Health Care            \\\\\n",
      "        &                   & Rentokil Initial              & Industrials            \\\\\n",
      "        & Economic          &                               &                        \\\\\n",
      "        & Environmental     &                               &                        \\\\\n",
      " 2021   & Social            & Standard Chartered            & Financials             \\\\\n",
      "        &                   & Airtel Africa                 & Telecommunications     \\\\\n",
      "        & Economic          & Renewi                        & Utilities              \\\\\n",
      "        & Environmental     & Reckitt Benckiser Group       & Consumer Staples       \\\\\n",
      "        &                   & Legal \\& General Group         & Financials             \\\\\n",
      "        &                   & Renewi                        & Utilities              \\\\\n",
      " 2022   & Social            &                               &                        \\\\\n",
      "        & Economic          &                               &                        \\\\\n",
      "        & Environmental     & Croda International           & Basic Materials        \\\\\n",
      "        &                   & Legal \\& General Group         & Financials             \\\\\n",
      "        &                   & Standard Chartered            & Financials             \\\\\n",
      "        &                   & Bytes Technology Group        & Technology             \\\\\n",
      "        &                   & Deliveroo                     & Technology             \\\\\n",
      "        &                   & Helios Towers                 & Telecommunications     \\\\\n",
      " 2023   & Social            &                               &                        \\\\\n",
      "        & Economic          &                               &                        \\\\\n",
      "        & Environmental     & British American Tobacco      & Consumer Staples       \\\\\n",
      "        &                   & Standard Chartered            & Financials             \\\\\n",
      "        &                   & Bytes Technology Group        & Technology             \\\\\n",
      "        &                   & Deliveroo                     & Technology             \\\\\n",
      "        &                   & Helios Towers                 & Telecommunications     \\\\\n",
      "        &                   & Vodafone Group                & Telecommunications     \\\\\n",
      "        &                   & Pennon Group                  & Utilities              \\\\\n",
      "        &                   & United Utilities Group        & Utilities              \\\\\n",
      "\\hline\n",
      "\\end{tabular}\n"
     ]
    }
   ],
   "source": [
    "print(tabulate(_table, header, tablefmt=\"latex\"))"
   ]
  },
  {
   "cell_type": "markdown",
   "id": "97944a44",
   "metadata": {},
   "source": [
    "## Each SDG"
   ]
  },
  {
   "cell_type": "code",
   "execution_count": 86,
   "id": "42092db8",
   "metadata": {
    "ExecuteTime": {
     "end_time": "2025-06-18T15:35:01.466493Z",
     "start_time": "2025-06-18T15:35:01.370551Z"
    }
   },
   "outputs": [],
   "source": [
    "l_sdgs=len(sdg_helper.keys())"
   ]
  },
  {
   "cell_type": "code",
   "execution_count": 87,
   "id": "a46c8d09",
   "metadata": {
    "ExecuteTime": {
     "end_time": "2025-06-18T15:35:01.529026Z",
     "start_time": "2025-06-18T15:35:01.470258Z"
    }
   },
   "outputs": [],
   "source": [
    "cos_sims_SDGs=np.zeros(len(years)*l_sdgs, dtype=[('SDG', 'U20'), ('mean', 'f8'), ('all', object), ('p_val', object)])"
   ]
  },
  {
   "cell_type": "code",
   "execution_count": 88,
   "id": "359cae96",
   "metadata": {
    "ExecuteTime": {
     "end_time": "2025-06-18T15:35:05.359564Z",
     "start_time": "2025-06-18T15:35:01.532231Z"
    }
   },
   "outputs": [
    {
     "data": {
      "application/vnd.jupyter.widget-view+json": {
       "model_id": "a87d3416d80946b684ee56f8d53bfe35",
       "version_major": 2,
       "version_minor": 0
      },
      "text/plain": [
       "  0%|          | 0/9 [00:00<?, ?it/s]"
      ]
     },
     "metadata": {},
     "output_type": "display_data"
    }
   ],
   "source": [
    "for i_y, year in enumerate(tqdm(years)):\n",
    "    vecs_y=vectors[vectors['year']==year]['vector']\n",
    "    wiki_bench_y=wiki_bench[vectors['year']==year]['cos_sim']\n",
    "    for i_s, sdg in enumerate(sdg_helper.keys()):\n",
    "        cos_sims_SDGs[i_y*l_sdgs+i_s]['SDG']=sdg\n",
    "        cos_sims_SDGs[i_y*l_sdgs+i_s]['all']=np.zeros(len(vecs_y))\n",
    "        cos_sims_SDGs[i_y*l_sdgs+i_s]['p_val']=np.zeros(len(vecs_y))\n",
    "        for i_vec, vec in enumerate(vecs_y):\n",
    "            _cos_sim=float(util.cos_sim(goalvecs[i_s], vec))\n",
    "            cos_sims_SDGs[i_y*l_sdgs+i_s]['all'][i_vec]=_cos_sim\n",
    "            cos_sims_SDGs[i_y*l_sdgs+i_s]['p_val'][i_vec]=np.sum(wiki_bench_y[i_vec]>=_cos_sim)/len(wikivecs)\n",
    "        cos_sims_SDGs[i_y*l_sdgs+i_s]['mean']=np.mean(cos_sims_SDGs[i_y*l_sdgs+i_s]['all'])"
   ]
  },
  {
   "cell_type": "code",
   "execution_count": 89,
   "id": "645a2539",
   "metadata": {
    "ExecuteTime": {
     "end_time": "2025-06-18T15:35:05.420194Z",
     "start_time": "2025-06-18T15:35:05.362168Z"
    }
   },
   "outputs": [
    {
     "data": {
      "application/vnd.jupyter.widget-view+json": {
       "model_id": "ce84aa279e9c42598ab7e11c2ec0cd2a",
       "version_major": 2,
       "version_minor": 0
      },
      "text/plain": [
       "  0%|          | 0/9 [00:00<?, ?it/s]"
      ]
     },
     "metadata": {},
     "output_type": "display_data"
    },
    {
     "name": "stdout",
     "output_type": "stream",
     "text": [
      "\n",
      "\u001b[1m2015\u001b[0m\n",
      "\u001b[1m01: No Poverty                                                  \u001b[0m len(validated_companies)=2\n",
      "\t\u001b[1munilever                 \u001b[0m sector=\u001b[1mConsumer Staples\u001b[0m\n",
      "\t\u001b[1mstandard_chartered       \u001b[0m sector=\u001b[1mFinancials\u001b[0m\n",
      "\n",
      "\n",
      "\u001b[1m02: Zero hunger                                                 \u001b[0m len(validated_companies)=1\n",
      "\t\u001b[1munilever                 \u001b[0m sector=\u001b[1mConsumer Staples\u001b[0m\n",
      "\n",
      "\n",
      "\u001b[1m03: Good health and well-being                                  \u001b[0m len(validated_companies)=2\n",
      "\t\u001b[1mastrazeneca              \u001b[0m sector=\u001b[1mHealth Care\u001b[0m\n",
      "\t\u001b[1mgsk                      \u001b[0m sector=\u001b[1mHealth Care\u001b[0m\n",
      "\n",
      "\n",
      "04: Quality education                                            len(validated_companies)=0\n",
      "\u001b[1m05: Gender equality                                             \u001b[0m len(validated_companies)=1\n",
      "\t\u001b[1munilever                 \u001b[0m sector=\u001b[1mConsumer Staples\u001b[0m\n",
      "\n",
      "\n",
      "\u001b[1m06: Clean water and sanitation                                  \u001b[0m len(validated_companies)=3\n",
      "\t\u001b[1mreckitt_benckiser_group  \u001b[0m sector=\u001b[1mConsumer Staples\u001b[0m\n",
      "\t\u001b[1munilever                 \u001b[0m sector=\u001b[1mConsumer Staples\u001b[0m\n",
      "\t\u001b[1mhalma                    \u001b[0m sector=\u001b[1mIndustrials\u001b[0m\n",
      "\n",
      "\n",
      "07: Affordable and clean energy                                  len(validated_companies)=0\n",
      "08: Decent work and economic growth                              len(validated_companies)=0\n",
      "\u001b[1m09: Industry, Innovation, Technology and Infrastructure         \u001b[0m len(validated_companies)=1\n",
      "\t\u001b[1mhalma                    \u001b[0m sector=\u001b[1mIndustrials\u001b[0m\n",
      "\n",
      "\n",
      "10: Reduced inequality                                           len(validated_companies)=0\n",
      "11: Sustainable cities and communities                           len(validated_companies)=0\n",
      "\u001b[1m12: Responsible consumption and production                      \u001b[0m len(validated_companies)=6\n",
      "\t\u001b[1mburberry_group           \u001b[0m sector=\u001b[1mConsumer Discretionary\u001b[0m\n",
      "\t\u001b[1massociated_british_foods \u001b[0m sector=\u001b[1mConsumer Staples\u001b[0m\n",
      "\t\u001b[1mbritish_american_tobacco \u001b[0m sector=\u001b[1mConsumer Staples\u001b[0m\n",
      "\t\u001b[1mmarks_and_spencer_group  \u001b[0m sector=\u001b[1mConsumer Staples\u001b[0m\n",
      "\t\u001b[1mreckitt_benckiser_group  \u001b[0m sector=\u001b[1mConsumer Staples\u001b[0m\n",
      "\t\u001b[1munilever                 \u001b[0m sector=\u001b[1mConsumer Staples\u001b[0m\n",
      "\n",
      "\n",
      "13: Climate action                                               len(validated_companies)=0\n",
      "14: Life below water                                             len(validated_companies)=0\n",
      "15: Life on land                                                 len(validated_companies)=0\n",
      "16: Peace, justice and strong institutions                       len(validated_companies)=0\n",
      "17: Partnerships for the goals                                   len(validated_companies)=0\n",
      "\n",
      "\u001b[1m2016\u001b[0m\n",
      "\u001b[1m01: No Poverty                                                  \u001b[0m len(validated_companies)=2\n",
      "\t\u001b[1munilever                 \u001b[0m sector=\u001b[1mConsumer Staples\u001b[0m\n",
      "\t\u001b[1mstandard_chartered       \u001b[0m sector=\u001b[1mFinancials\u001b[0m\n",
      "\n",
      "\n",
      "\u001b[1m02: Zero hunger                                                 \u001b[0m len(validated_companies)=1\n",
      "\t\u001b[1munilever                 \u001b[0m sector=\u001b[1mConsumer Staples\u001b[0m\n",
      "\n",
      "\n",
      "\u001b[1m03: Good health and well-being                                  \u001b[0m len(validated_companies)=3\n",
      "\t\u001b[1maviva                    \u001b[0m sector=\u001b[1mFinancials\u001b[0m\n",
      "\t\u001b[1mgsk                      \u001b[0m sector=\u001b[1mHealth Care\u001b[0m\n",
      "\t\u001b[1mhalma                    \u001b[0m sector=\u001b[1mIndustrials\u001b[0m\n",
      "\n",
      "\n",
      "04: Quality education                                            len(validated_companies)=0\n",
      "05: Gender equality                                              len(validated_companies)=0\n",
      "\u001b[1m06: Clean water and sanitation                                  \u001b[0m len(validated_companies)=5\n",
      "\t\u001b[1mintercontinental_hotels_group\u001b[0m sector=\u001b[1mConsumer Discretionary\u001b[0m\n",
      "\t\u001b[1munilever                 \u001b[0m sector=\u001b[1mConsumer Staples\u001b[0m\n",
      "\t\u001b[1mstandard_chartered       \u001b[0m sector=\u001b[1mFinancials\u001b[0m\n",
      "\t\u001b[1mhalma                    \u001b[0m sector=\u001b[1mIndustrials\u001b[0m\n",
      "\t\u001b[1mrentokil_initial         \u001b[0m sector=\u001b[1mIndustrials\u001b[0m\n",
      "\n",
      "\n",
      "\u001b[1m07: Affordable and clean energy                                 \u001b[0m len(validated_companies)=2\n",
      "\t\u001b[1mhalma                    \u001b[0m sector=\u001b[1mIndustrials\u001b[0m\n",
      "\t\u001b[1mgood_energy_group        \u001b[0m sector=\u001b[1mUtilities\u001b[0m\n",
      "\n",
      "\n",
      "08: Decent work and economic growth                              len(validated_companies)=0\n",
      "\u001b[1m09: Industry, Innovation, Technology and Infrastructure         \u001b[0m len(validated_companies)=1\n",
      "\t\u001b[1mhalma                    \u001b[0m sector=\u001b[1mIndustrials\u001b[0m\n",
      "\n",
      "\n",
      "\u001b[1m10: Reduced inequality                                          \u001b[0m len(validated_companies)=1\n",
      "\t\u001b[1mstandard_chartered       \u001b[0m sector=\u001b[1mFinancials\u001b[0m\n",
      "\n",
      "\n",
      "11: Sustainable cities and communities                           len(validated_companies)=0\n",
      "\u001b[1m12: Responsible consumption and production                      \u001b[0m len(validated_companies)=3\n",
      "\t\u001b[1mmarks_and_spencer_group  \u001b[0m sector=\u001b[1mConsumer Staples\u001b[0m\n",
      "\t\u001b[1mreckitt_benckiser_group  \u001b[0m sector=\u001b[1mConsumer Staples\u001b[0m\n",
      "\t\u001b[1munilever                 \u001b[0m sector=\u001b[1mConsumer Staples\u001b[0m\n",
      "\n",
      "\n",
      "13: Climate action                                               len(validated_companies)=0\n",
      "14: Life below water                                             len(validated_companies)=0\n",
      "15: Life on land                                                 len(validated_companies)=0\n",
      "16: Peace, justice and strong institutions                       len(validated_companies)=0\n",
      "\u001b[1m17: Partnerships for the goals                                  \u001b[0m len(validated_companies)=1\n",
      "\t\u001b[1mstandard_chartered       \u001b[0m sector=\u001b[1mFinancials\u001b[0m\n",
      "\n",
      "\n",
      "\n",
      "\u001b[1m2017\u001b[0m\n",
      "01: No Poverty                                                   len(validated_companies)=0\n",
      "02: Zero hunger                                                  len(validated_companies)=0\n",
      "\u001b[1m03: Good health and well-being                                  \u001b[0m len(validated_companies)=4\n",
      "\t\u001b[1maviva                    \u001b[0m sector=\u001b[1mFinancials\u001b[0m\n",
      "\t\u001b[1mastrazeneca              \u001b[0m sector=\u001b[1mHealth Care\u001b[0m\n",
      "\t\u001b[1mgsk                      \u001b[0m sector=\u001b[1mHealth Care\u001b[0m\n",
      "\t\u001b[1mhalma                    \u001b[0m sector=\u001b[1mIndustrials\u001b[0m\n",
      "\n",
      "\n",
      "04: Quality education                                            len(validated_companies)=0\n",
      "05: Gender equality                                              len(validated_companies)=0\n",
      "\u001b[1m06: Clean water and sanitation                                  \u001b[0m len(validated_companies)=1\n",
      "\t\u001b[1mhalma                    \u001b[0m sector=\u001b[1mIndustrials\u001b[0m\n",
      "\n",
      "\n",
      "\u001b[1m07: Affordable and clean energy                                 \u001b[0m len(validated_companies)=2\n",
      "\t\u001b[1mhalma                    \u001b[0m sector=\u001b[1mIndustrials\u001b[0m\n",
      "\t\u001b[1mgood_energy_group        \u001b[0m sector=\u001b[1mUtilities\u001b[0m\n",
      "\n",
      "\n",
      "08: Decent work and economic growth                              len(validated_companies)=0\n",
      "\u001b[1m09: Industry, Innovation, Technology and Infrastructure         \u001b[0m len(validated_companies)=1\n",
      "\t\u001b[1mhalma                    \u001b[0m sector=\u001b[1mIndustrials\u001b[0m\n",
      "\n",
      "\n",
      "10: Reduced inequality                                           len(validated_companies)=0\n",
      "11: Sustainable cities and communities                           len(validated_companies)=0\n",
      "12: Responsible consumption and production                       len(validated_companies)=0\n",
      "13: Climate action                                               len(validated_companies)=0\n",
      "14: Life below water                                             len(validated_companies)=0\n",
      "15: Life on land                                                 len(validated_companies)=0\n",
      "16: Peace, justice and strong institutions                       len(validated_companies)=0\n",
      "17: Partnerships for the goals                                   len(validated_companies)=0\n",
      "\n",
      "\u001b[1m2018\u001b[0m\n",
      "01: No Poverty                                                   len(validated_companies)=0\n",
      "\u001b[1m02: Zero hunger                                                 \u001b[0m len(validated_companies)=2\n",
      "\t\u001b[1mmarks_and_spencer_group  \u001b[0m sector=\u001b[1mConsumer Staples\u001b[0m\n",
      "\t\u001b[1msainsbury_(j)            \u001b[0m sector=\u001b[1mConsumer Staples\u001b[0m\n",
      "\n",
      "\n",
      "\u001b[1m03: Good health and well-being                                  \u001b[0m len(validated_companies)=1\n",
      "\t\u001b[1mastrazeneca              \u001b[0m sector=\u001b[1mHealth Care\u001b[0m\n",
      "\n",
      "\n",
      "04: Quality education                                            len(validated_companies)=0\n",
      "05: Gender equality                                              len(validated_companies)=0\n",
      "\u001b[1m06: Clean water and sanitation                                  \u001b[0m len(validated_companies)=5\n",
      "\t\u001b[1mintercontinental_hotels_group\u001b[0m sector=\u001b[1mConsumer Discretionary\u001b[0m\n",
      "\t\u001b[1mstandard_chartered       \u001b[0m sector=\u001b[1mFinancials\u001b[0m\n",
      "\t\u001b[1mastrazeneca              \u001b[0m sector=\u001b[1mHealth Care\u001b[0m\n",
      "\t\u001b[1mhalma                    \u001b[0m sector=\u001b[1mIndustrials\u001b[0m\n",
      "\t\u001b[1mrentokil_initial         \u001b[0m sector=\u001b[1mIndustrials\u001b[0m\n",
      "\n",
      "\n",
      "\u001b[1m07: Affordable and clean energy                                 \u001b[0m len(validated_companies)=2\n",
      "\t\u001b[1mlegal_&_general_group    \u001b[0m sector=\u001b[1mFinancials\u001b[0m\n",
      "\t\u001b[1mgood_energy_group        \u001b[0m sector=\u001b[1mUtilities\u001b[0m\n",
      "\n",
      "\n",
      "08: Decent work and economic growth                              len(validated_companies)=0\n",
      "\u001b[1m09: Industry, Innovation, Technology and Infrastructure         \u001b[0m len(validated_companies)=1\n",
      "\t\u001b[1mhalma                    \u001b[0m sector=\u001b[1mIndustrials\u001b[0m\n",
      "\n",
      "\n",
      "\u001b[1m10: Reduced inequality                                          \u001b[0m len(validated_companies)=1\n",
      "\t\u001b[1mstandard_chartered       \u001b[0m sector=\u001b[1mFinancials\u001b[0m\n",
      "\n",
      "\n",
      "11: Sustainable cities and communities                           len(validated_companies)=0\n",
      "\u001b[1m12: Responsible consumption and production                      \u001b[0m len(validated_companies)=2\n",
      "\t\u001b[1mmarks_and_spencer_group  \u001b[0m sector=\u001b[1mConsumer Staples\u001b[0m\n",
      "\t\u001b[1mreckitt_benckiser_group  \u001b[0m sector=\u001b[1mConsumer Staples\u001b[0m\n",
      "\n",
      "\n",
      "\u001b[1m13: Climate action                                              \u001b[0m len(validated_companies)=1\n",
      "\t\u001b[1mlegal_&_general_group    \u001b[0m sector=\u001b[1mFinancials\u001b[0m\n",
      "\n",
      "\n",
      "14: Life below water                                             len(validated_companies)=0\n",
      "15: Life on land                                                 len(validated_companies)=0\n",
      "16: Peace, justice and strong institutions                       len(validated_companies)=0\n",
      "\u001b[1m17: Partnerships for the goals                                  \u001b[0m len(validated_companies)=1\n",
      "\t\u001b[1mstandard_chartered       \u001b[0m sector=\u001b[1mFinancials\u001b[0m\n",
      "\n",
      "\n",
      "\n",
      "\u001b[1m2019\u001b[0m\n",
      "01: No Poverty                                                   len(validated_companies)=0\n",
      "\u001b[1m02: Zero hunger                                                 \u001b[0m len(validated_companies)=2\n",
      "\t\u001b[1mcompass_group            \u001b[0m sector=\u001b[1mConsumer Discretionary\u001b[0m\n",
      "\t\u001b[1massociated_british_foods \u001b[0m sector=\u001b[1mConsumer Staples\u001b[0m\n",
      "\n",
      "\n",
      "\u001b[1m03: Good health and well-being                                  \u001b[0m len(validated_companies)=1\n",
      "\t\u001b[1mastrazeneca              \u001b[0m sector=\u001b[1mHealth Care\u001b[0m\n",
      "\n",
      "\n",
      "04: Quality education                                            len(validated_companies)=0\n",
      "05: Gender equality                                              len(validated_companies)=0\n",
      "\u001b[1m06: Clean water and sanitation                                  \u001b[0m len(validated_companies)=5\n",
      "\t\u001b[1mintercontinental_hotels_group\u001b[0m sector=\u001b[1mConsumer Discretionary\u001b[0m\n",
      "\t\u001b[1mreckitt_benckiser_group  \u001b[0m sector=\u001b[1mConsumer Staples\u001b[0m\n",
      "\t\u001b[1mastrazeneca              \u001b[0m sector=\u001b[1mHealth Care\u001b[0m\n",
      "\t\u001b[1mhalma                    \u001b[0m sector=\u001b[1mIndustrials\u001b[0m\n",
      "\t\u001b[1mrentokil_initial         \u001b[0m sector=\u001b[1mIndustrials\u001b[0m\n",
      "\n",
      "\n",
      "\u001b[1m07: Affordable and clean energy                                 \u001b[0m len(validated_companies)=3\n",
      "\t\u001b[1mlegal_&_general_group    \u001b[0m sector=\u001b[1mFinancials\u001b[0m\n",
      "\t\u001b[1mgood_energy_group        \u001b[0m sector=\u001b[1mUtilities\u001b[0m\n",
      "\t\u001b[1myu_group                 \u001b[0m sector=\u001b[1mUtilities\u001b[0m\n",
      "\n",
      "\n",
      "08: Decent work and economic growth                              len(validated_companies)=0\n",
      "\u001b[1m09: Industry, Innovation, Technology and Infrastructure         \u001b[0m len(validated_companies)=1\n",
      "\t\u001b[1mhalma                    \u001b[0m sector=\u001b[1mIndustrials\u001b[0m\n",
      "\n",
      "\n",
      "10: Reduced inequality                                           len(validated_companies)=0\n",
      "11: Sustainable cities and communities                           len(validated_companies)=0\n",
      "\u001b[1m12: Responsible consumption and production                      \u001b[0m len(validated_companies)=2\n",
      "\t\u001b[1massociated_british_foods \u001b[0m sector=\u001b[1mConsumer Staples\u001b[0m\n",
      "\t\u001b[1mreckitt_benckiser_group  \u001b[0m sector=\u001b[1mConsumer Staples\u001b[0m\n",
      "\n",
      "\n",
      "\u001b[1m13: Climate action                                              \u001b[0m len(validated_companies)=3\n",
      "\t\u001b[1mrio_tinto                \u001b[0m sector=\u001b[1mBasic Materials\u001b[0m\n",
      "\t\u001b[1mlegal_&_general_group    \u001b[0m sector=\u001b[1mFinancials\u001b[0m\n",
      "\t\u001b[1mland_securities_group    \u001b[0m sector=\u001b[1mReal Estate\u001b[0m\n",
      "\n",
      "\n",
      "14: Life below water                                             len(validated_companies)=0\n",
      "15: Life on land                                                 len(validated_companies)=0\n",
      "16: Peace, justice and strong institutions                       len(validated_companies)=0\n",
      "17: Partnerships for the goals                                   len(validated_companies)=0\n",
      "\n",
      "\u001b[1m2020\u001b[0m\n",
      "\u001b[1m01: No Poverty                                                  \u001b[0m len(validated_companies)=16\n",
      "\t\u001b[1manglo_american           \u001b[0m sector=\u001b[1mBasic Materials\u001b[0m\n",
      "\t\u001b[1mcroda_international      \u001b[0m sector=\u001b[1mBasic Materials\u001b[0m\n",
      "\t\u001b[1mcompass_group            \u001b[0m sector=\u001b[1mConsumer Discretionary\u001b[0m\n",
      "\t\u001b[1mintercontinental_hotels_group\u001b[0m sector=\u001b[1mConsumer Discretionary\u001b[0m\n",
      "\t\u001b[1mrelx                     \u001b[0m sector=\u001b[1mConsumer Discretionary\u001b[0m\n",
      "\t\u001b[1massociated_british_foods \u001b[0m sector=\u001b[1mConsumer Staples\u001b[0m\n",
      "\t\u001b[1mreckitt_benckiser_group  \u001b[0m sector=\u001b[1mConsumer Staples\u001b[0m\n",
      "\t\u001b[1mtesco                    \u001b[0m sector=\u001b[1mConsumer Staples\u001b[0m\n",
      "\t\u001b[1munilever                 \u001b[0m sector=\u001b[1mConsumer Staples\u001b[0m\n",
      "\t\u001b[1mbp                       \u001b[0m sector=\u001b[1mEnergy\u001b[0m\n",
      "\t\u001b[1mhsbc_holdings            \u001b[0m sector=\u001b[1mFinancials\u001b[0m\n",
      "\t\u001b[1mstandard_chartered       \u001b[0m sector=\u001b[1mFinancials\u001b[0m\n",
      "\t\u001b[1mastrazeneca              \u001b[0m sector=\u001b[1mHealth Care\u001b[0m\n",
      "\t\u001b[1mconvatec_group           \u001b[0m sector=\u001b[1mHealth Care\u001b[0m\n",
      "\t\u001b[1mhalma                    \u001b[0m sector=\u001b[1mIndustrials\u001b[0m\n",
      "\t\u001b[1mrentokil_initial         \u001b[0m sector=\u001b[1mIndustrials\u001b[0m\n",
      "\n",
      "\n",
      "\u001b[1m02: Zero hunger                                                 \u001b[0m len(validated_companies)=4\n",
      "\t\u001b[1mcompass_group            \u001b[0m sector=\u001b[1mConsumer Discretionary\u001b[0m\n",
      "\t\u001b[1massociated_british_foods \u001b[0m sector=\u001b[1mConsumer Staples\u001b[0m\n",
      "\t\u001b[1mmarks_and_spencer_group  \u001b[0m sector=\u001b[1mConsumer Staples\u001b[0m\n",
      "\t\u001b[1munilever                 \u001b[0m sector=\u001b[1mConsumer Staples\u001b[0m\n",
      "\n",
      "\n",
      "\u001b[1m03: Good health and well-being                                  \u001b[0m len(validated_companies)=9\n",
      "\t\u001b[1mintercontinental_hotels_group\u001b[0m sector=\u001b[1mConsumer Discretionary\u001b[0m\n",
      "\t\u001b[1mrelx                     \u001b[0m sector=\u001b[1mConsumer Discretionary\u001b[0m\n",
      "\t\u001b[1mreckitt_benckiser_group  \u001b[0m sector=\u001b[1mConsumer Staples\u001b[0m\n",
      "\t\u001b[1mhsbc_holdings            \u001b[0m sector=\u001b[1mFinancials\u001b[0m\n",
      "\t\u001b[1mastrazeneca              \u001b[0m sector=\u001b[1mHealth Care\u001b[0m\n",
      "\t\u001b[1mconvatec_group           \u001b[0m sector=\u001b[1mHealth Care\u001b[0m\n",
      "\t\u001b[1mhikma_pharmaceuticals    \u001b[0m sector=\u001b[1mHealth Care\u001b[0m\n",
      "\t\u001b[1msmith_&_nephew           \u001b[0m sector=\u001b[1mHealth Care\u001b[0m\n",
      "\t\u001b[1mrentokil_initial         \u001b[0m sector=\u001b[1mIndustrials\u001b[0m\n",
      "\n",
      "\n",
      "04: Quality education                                            len(validated_companies)=0\n",
      "05: Gender equality                                              len(validated_companies)=0\n",
      "\u001b[1m06: Clean water and sanitation                                  \u001b[0m len(validated_companies)=6\n",
      "\t\u001b[1mintercontinental_hotels_group\u001b[0m sector=\u001b[1mConsumer Discretionary\u001b[0m\n",
      "\t\u001b[1mreckitt_benckiser_group  \u001b[0m sector=\u001b[1mConsumer Staples\u001b[0m\n",
      "\t\u001b[1mastrazeneca              \u001b[0m sector=\u001b[1mHealth Care\u001b[0m\n",
      "\t\u001b[1mhalma                    \u001b[0m sector=\u001b[1mIndustrials\u001b[0m\n",
      "\t\u001b[1mrentokil_initial         \u001b[0m sector=\u001b[1mIndustrials\u001b[0m\n",
      "\t\u001b[1msevern_trent             \u001b[0m sector=\u001b[1mUtilities\u001b[0m\n",
      "\n",
      "\n",
      "\u001b[1m07: Affordable and clean energy                                 \u001b[0m len(validated_companies)=6\n",
      "\t\u001b[1mjohnson_matthey          \u001b[0m sector=\u001b[1mBasic Materials\u001b[0m\n",
      "\t\u001b[1mrio_tinto                \u001b[0m sector=\u001b[1mBasic Materials\u001b[0m\n",
      "\t\u001b[1mlegal_&_general_group    \u001b[0m sector=\u001b[1mFinancials\u001b[0m\n",
      "\t\u001b[1mgood_energy_group        \u001b[0m sector=\u001b[1mUtilities\u001b[0m\n",
      "\t\u001b[1mnational_grid            \u001b[0m sector=\u001b[1mUtilities\u001b[0m\n",
      "\t\u001b[1myu_group                 \u001b[0m sector=\u001b[1mUtilities\u001b[0m\n",
      "\n",
      "\n",
      "08: Decent work and economic growth                              len(validated_companies)=0\n",
      "09: Industry, Innovation, Technology and Infrastructure          len(validated_companies)=0\n",
      "\u001b[1m10: Reduced inequality                                          \u001b[0m len(validated_companies)=3\n",
      "\t\u001b[1mrelx                     \u001b[0m sector=\u001b[1mConsumer Discretionary\u001b[0m\n",
      "\t\u001b[1mhsbc_holdings            \u001b[0m sector=\u001b[1mFinancials\u001b[0m\n",
      "\t\u001b[1mstandard_chartered       \u001b[0m sector=\u001b[1mFinancials\u001b[0m\n",
      "\n",
      "\n",
      "11: Sustainable cities and communities                           len(validated_companies)=0\n",
      "\u001b[1m12: Responsible consumption and production                      \u001b[0m len(validated_companies)=4\n",
      "\t\u001b[1mmarks_and_spencer_group  \u001b[0m sector=\u001b[1mConsumer Staples\u001b[0m\n",
      "\t\u001b[1mreckitt_benckiser_group  \u001b[0m sector=\u001b[1mConsumer Staples\u001b[0m\n",
      "\t\u001b[1munilever                 \u001b[0m sector=\u001b[1mConsumer Staples\u001b[0m\n",
      "\t\u001b[1msmith_(ds)               \u001b[0m sector=\u001b[1mIndustrials\u001b[0m\n",
      "\n",
      "\n",
      "\u001b[1m13: Climate action                                              \u001b[0m len(validated_companies)=12\n",
      "\t\u001b[1mrio_tinto                \u001b[0m sector=\u001b[1mBasic Materials\u001b[0m\n",
      "\t\u001b[1mmarks_and_spencer_group  \u001b[0m sector=\u001b[1mConsumer Staples\u001b[0m\n",
      "\t\u001b[1munilever                 \u001b[0m sector=\u001b[1mConsumer Staples\u001b[0m\n",
      "\t\u001b[1mbp                       \u001b[0m sector=\u001b[1mEnergy\u001b[0m\n",
      "\t\u001b[1maviva                    \u001b[0m sector=\u001b[1mFinancials\u001b[0m\n",
      "\t\u001b[1mhsbc_holdings            \u001b[0m sector=\u001b[1mFinancials\u001b[0m\n",
      "\t\u001b[1mlegal_&_general_group    \u001b[0m sector=\u001b[1mFinancials\u001b[0m\n",
      "\t\u001b[1mlondon_stock_exchange_group\u001b[0m sector=\u001b[1mFinancials\u001b[0m\n",
      "\t\u001b[1mnatwest_group            \u001b[0m sector=\u001b[1mFinancials\u001b[0m\n",
      "\t\u001b[1mstandard_chartered       \u001b[0m sector=\u001b[1mFinancials\u001b[0m\n",
      "\t\u001b[1msegro                    \u001b[0m sector=\u001b[1mReal Estate\u001b[0m\n",
      "\t\u001b[1mcentrica                 \u001b[0m sector=\u001b[1mUtilities\u001b[0m\n",
      "\n",
      "\n",
      "14: Life below water                                             len(validated_companies)=0\n",
      "15: Life on land                                                 len(validated_companies)=0\n",
      "16: Peace, justice and strong institutions                       len(validated_companies)=0\n",
      "\u001b[1m17: Partnerships for the goals                                  \u001b[0m len(validated_companies)=6\n",
      "\t\u001b[1mintercontinental_hotels_group\u001b[0m sector=\u001b[1mConsumer Discretionary\u001b[0m\n",
      "\t\u001b[1mbp                       \u001b[0m sector=\u001b[1mEnergy\u001b[0m\n",
      "\t\u001b[1mhsbc_holdings            \u001b[0m sector=\u001b[1mFinancials\u001b[0m\n",
      "\t\u001b[1mlondon_stock_exchange_group\u001b[0m sector=\u001b[1mFinancials\u001b[0m\n",
      "\t\u001b[1mstandard_chartered       \u001b[0m sector=\u001b[1mFinancials\u001b[0m\n",
      "\t\u001b[1mnational_grid            \u001b[0m sector=\u001b[1mUtilities\u001b[0m\n",
      "\n",
      "\n",
      "\n",
      "\u001b[1m2021\u001b[0m\n",
      "\u001b[1m01: No Poverty                                                  \u001b[0m len(validated_companies)=3\n",
      "\t\u001b[1mhsbc_holdings            \u001b[0m sector=\u001b[1mFinancials\u001b[0m\n",
      "\t\u001b[1mstandard_chartered       \u001b[0m sector=\u001b[1mFinancials\u001b[0m\n",
      "\t\u001b[1mrenewi                   \u001b[0m sector=\u001b[1mUtilities\u001b[0m\n",
      "\n",
      "\n",
      "\u001b[1m02: Zero hunger                                                 \u001b[0m len(validated_companies)=3\n",
      "\t\u001b[1mcompass_group            \u001b[0m sector=\u001b[1mConsumer Discretionary\u001b[0m\n",
      "\t\u001b[1massociated_british_foods \u001b[0m sector=\u001b[1mConsumer Staples\u001b[0m\n",
      "\t\u001b[1msainsbury_(j)            \u001b[0m sector=\u001b[1mConsumer Staples\u001b[0m\n",
      "\n",
      "\n",
      "\u001b[1m03: Good health and well-being                                  \u001b[0m len(validated_companies)=5\n",
      "\t\u001b[1mreckitt_benckiser_group  \u001b[0m sector=\u001b[1mConsumer Staples\u001b[0m\n",
      "\t\u001b[1mastrazeneca              \u001b[0m sector=\u001b[1mHealth Care\u001b[0m\n",
      "\t\u001b[1mconvatec_group           \u001b[0m sector=\u001b[1mHealth Care\u001b[0m\n",
      "\t\u001b[1mgsk                      \u001b[0m sector=\u001b[1mHealth Care\u001b[0m\n",
      "\t\u001b[1mrentokil_initial         \u001b[0m sector=\u001b[1mIndustrials\u001b[0m\n",
      "\n",
      "\n",
      "\u001b[1m04: Quality education                                           \u001b[0m len(validated_companies)=3\n",
      "\t\u001b[1mstandard_chartered       \u001b[0m sector=\u001b[1mFinancials\u001b[0m\n",
      "\t\u001b[1mairtel_africa            \u001b[0m sector=\u001b[1mTelecommunications\u001b[0m\n",
      "\t\u001b[1mbt_group                 \u001b[0m sector=\u001b[1mTelecommunications\u001b[0m\n",
      "\n",
      "\n",
      "05: Gender equality                                              len(validated_companies)=0\n",
      "\u001b[1m06: Clean water and sanitation                                  \u001b[0m len(validated_companies)=6\n",
      "\t\u001b[1mintercontinental_hotels_group\u001b[0m sector=\u001b[1mConsumer Discretionary\u001b[0m\n",
      "\t\u001b[1mreckitt_benckiser_group  \u001b[0m sector=\u001b[1mConsumer Staples\u001b[0m\n",
      "\t\u001b[1mstandard_chartered       \u001b[0m sector=\u001b[1mFinancials\u001b[0m\n",
      "\t\u001b[1mastrazeneca              \u001b[0m sector=\u001b[1mHealth Care\u001b[0m\n",
      "\t\u001b[1mhalma                    \u001b[0m sector=\u001b[1mIndustrials\u001b[0m\n",
      "\t\u001b[1mrentokil_initial         \u001b[0m sector=\u001b[1mIndustrials\u001b[0m\n",
      "\n",
      "\n",
      "\u001b[1m07: Affordable and clean energy                                 \u001b[0m len(validated_companies)=5\n",
      "\t\u001b[1mjohnson_matthey          \u001b[0m sector=\u001b[1mBasic Materials\u001b[0m\n",
      "\t\u001b[1mlegal_&_general_group    \u001b[0m sector=\u001b[1mFinancials\u001b[0m\n",
      "\t\u001b[1mnational_grid            \u001b[0m sector=\u001b[1mUtilities\u001b[0m\n",
      "\t\u001b[1mrenewi                   \u001b[0m sector=\u001b[1mUtilities\u001b[0m\n",
      "\t\u001b[1myu_group                 \u001b[0m sector=\u001b[1mUtilities\u001b[0m\n",
      "\n",
      "\n",
      "08: Decent work and economic growth                              len(validated_companies)=0\n",
      "09: Industry, Innovation, Technology and Infrastructure          len(validated_companies)=0\n",
      "\u001b[1m10: Reduced inequality                                          \u001b[0m len(validated_companies)=1\n",
      "\t\u001b[1mstandard_chartered       \u001b[0m sector=\u001b[1mFinancials\u001b[0m\n",
      "\n",
      "\n",
      "\u001b[1m11: Sustainable cities and communities                          \u001b[0m len(validated_companies)=5\n",
      "\t\u001b[1mhsbc_holdings            \u001b[0m sector=\u001b[1mFinancials\u001b[0m\n",
      "\t\u001b[1mlegal_&_general_group    \u001b[0m sector=\u001b[1mFinancials\u001b[0m\n",
      "\t\u001b[1mstandard_chartered       \u001b[0m sector=\u001b[1mFinancials\u001b[0m\n",
      "\t\u001b[1munite_group              \u001b[0m sector=\u001b[1mReal Estate\u001b[0m\n",
      "\t\u001b[1mrenewi                   \u001b[0m sector=\u001b[1mUtilities\u001b[0m\n",
      "\n",
      "\n",
      "\u001b[1m12: Responsible consumption and production                      \u001b[0m len(validated_companies)=10\n",
      "\t\u001b[1mcompass_group            \u001b[0m sector=\u001b[1mConsumer Discretionary\u001b[0m\n",
      "\t\u001b[1massociated_british_foods \u001b[0m sector=\u001b[1mConsumer Staples\u001b[0m\n",
      "\t\u001b[1mimperial_brands          \u001b[0m sector=\u001b[1mConsumer Staples\u001b[0m\n",
      "\t\u001b[1mmarks_and_spencer_group  \u001b[0m sector=\u001b[1mConsumer Staples\u001b[0m\n",
      "\t\u001b[1mreckitt_benckiser_group  \u001b[0m sector=\u001b[1mConsumer Staples\u001b[0m\n",
      "\t\u001b[1msainsbury_(j)            \u001b[0m sector=\u001b[1mConsumer Staples\u001b[0m\n",
      "\t\u001b[1munilever                 \u001b[0m sector=\u001b[1mConsumer Staples\u001b[0m\n",
      "\t\u001b[1mconvatec_group           \u001b[0m sector=\u001b[1mHealth Care\u001b[0m\n",
      "\t\u001b[1msmith_(ds)               \u001b[0m sector=\u001b[1mIndustrials\u001b[0m\n",
      "\t\u001b[1mrenewi                   \u001b[0m sector=\u001b[1mUtilities\u001b[0m\n",
      "\n",
      "\n",
      "\u001b[1m13: Climate action                                              \u001b[0m len(validated_companies)=7\n",
      "\t\u001b[1mrio_tinto                \u001b[0m sector=\u001b[1mBasic Materials\u001b[0m\n",
      "\t\u001b[1maviva                    \u001b[0m sector=\u001b[1mFinancials\u001b[0m\n",
      "\t\u001b[1mhsbc_holdings            \u001b[0m sector=\u001b[1mFinancials\u001b[0m\n",
      "\t\u001b[1mlegal_&_general_group    \u001b[0m sector=\u001b[1mFinancials\u001b[0m\n",
      "\t\u001b[1mstandard_chartered       \u001b[0m sector=\u001b[1mFinancials\u001b[0m\n",
      "\t\u001b[1munite_group              \u001b[0m sector=\u001b[1mReal Estate\u001b[0m\n",
      "\t\u001b[1mrenewi                   \u001b[0m sector=\u001b[1mUtilities\u001b[0m\n",
      "\n",
      "\n",
      "\u001b[1m14: Life below water                                            \u001b[0m len(validated_companies)=1\n",
      "\t\u001b[1mrenewi                   \u001b[0m sector=\u001b[1mUtilities\u001b[0m\n",
      "\n",
      "\n",
      "15: Life on land                                                 len(validated_companies)=0\n",
      "16: Peace, justice and strong institutions                       len(validated_companies)=0\n",
      "\u001b[1m17: Partnerships for the goals                                  \u001b[0m len(validated_companies)=1\n",
      "\t\u001b[1mstandard_chartered       \u001b[0m sector=\u001b[1mFinancials\u001b[0m\n",
      "\n",
      "\n",
      "\n",
      "\u001b[1m2022\u001b[0m\n",
      "\u001b[1m01: No Poverty                                                  \u001b[0m len(validated_companies)=8\n",
      "\t\u001b[1mcroda_international      \u001b[0m sector=\u001b[1mBasic Materials\u001b[0m\n",
      "\t\u001b[1mreckitt_benckiser_group  \u001b[0m sector=\u001b[1mConsumer Staples\u001b[0m\n",
      "\t\u001b[1munilever                 \u001b[0m sector=\u001b[1mConsumer Staples\u001b[0m\n",
      "\t\u001b[1mhsbc_holdings            \u001b[0m sector=\u001b[1mFinancials\u001b[0m\n",
      "\t\u001b[1mlegal_&_general_group    \u001b[0m sector=\u001b[1mFinancials\u001b[0m\n",
      "\t\u001b[1mstandard_chartered       \u001b[0m sector=\u001b[1mFinancials\u001b[0m\n",
      "\t\u001b[1mastrazeneca              \u001b[0m sector=\u001b[1mHealth Care\u001b[0m\n",
      "\t\u001b[1mdeliveroo                \u001b[0m sector=\u001b[1mTechnology\u001b[0m\n",
      "\n",
      "\n",
      "\u001b[1m02: Zero hunger                                                 \u001b[0m len(validated_companies)=13\n",
      "\t\u001b[1mcroda_international      \u001b[0m sector=\u001b[1mBasic Materials\u001b[0m\n",
      "\t\u001b[1mcompass_group            \u001b[0m sector=\u001b[1mConsumer Discretionary\u001b[0m\n",
      "\t\u001b[1mwhitbread                \u001b[0m sector=\u001b[1mConsumer Discretionary\u001b[0m\n",
      "\t\u001b[1massociated_british_foods \u001b[0m sector=\u001b[1mConsumer Staples\u001b[0m\n",
      "\t\u001b[1mmarks_and_spencer_group  \u001b[0m sector=\u001b[1mConsumer Staples\u001b[0m\n",
      "\t\u001b[1mreckitt_benckiser_group  \u001b[0m sector=\u001b[1mConsumer Staples\u001b[0m\n",
      "\t\u001b[1msainsbury_(j)            \u001b[0m sector=\u001b[1mConsumer Staples\u001b[0m\n",
      "\t\u001b[1mtesco                    \u001b[0m sector=\u001b[1mConsumer Staples\u001b[0m\n",
      "\t\u001b[1munilever                 \u001b[0m sector=\u001b[1mConsumer Staples\u001b[0m\n",
      "\t\u001b[1mhsbc_holdings            \u001b[0m sector=\u001b[1mFinancials\u001b[0m\n",
      "\t\u001b[1mlegal_&_general_group    \u001b[0m sector=\u001b[1mFinancials\u001b[0m\n",
      "\t\u001b[1mstandard_chartered       \u001b[0m sector=\u001b[1mFinancials\u001b[0m\n",
      "\t\u001b[1mdeliveroo                \u001b[0m sector=\u001b[1mTechnology\u001b[0m\n",
      "\n",
      "\n",
      "\u001b[1m03: Good health and well-being                                  \u001b[0m len(validated_companies)=3\n",
      "\t\u001b[1mastrazeneca              \u001b[0m sector=\u001b[1mHealth Care\u001b[0m\n",
      "\t\u001b[1mgsk                      \u001b[0m sector=\u001b[1mHealth Care\u001b[0m\n",
      "\t\u001b[1msmith_&_nephew           \u001b[0m sector=\u001b[1mHealth Care\u001b[0m\n",
      "\n",
      "\n",
      "04: Quality education                                            len(validated_companies)=0\n",
      "05: Gender equality                                              len(validated_companies)=0\n",
      "\u001b[1m06: Clean water and sanitation                                  \u001b[0m len(validated_companies)=3\n",
      "\t\u001b[1mreckitt_benckiser_group  \u001b[0m sector=\u001b[1mConsumer Staples\u001b[0m\n",
      "\t\u001b[1mhalma                    \u001b[0m sector=\u001b[1mIndustrials\u001b[0m\n",
      "\t\u001b[1msevern_trent             \u001b[0m sector=\u001b[1mUtilities\u001b[0m\n",
      "\n",
      "\n",
      "\u001b[1m07: Affordable and clean energy                                 \u001b[0m len(validated_companies)=11\n",
      "\t\u001b[1mjohnson_matthey          \u001b[0m sector=\u001b[1mBasic Materials\u001b[0m\n",
      "\t\u001b[1mcompass_group            \u001b[0m sector=\u001b[1mConsumer Discretionary\u001b[0m\n",
      "\t\u001b[1mbarclays                 \u001b[0m sector=\u001b[1mFinancials\u001b[0m\n",
      "\t\u001b[1mlegal_&_general_group    \u001b[0m sector=\u001b[1mFinancials\u001b[0m\n",
      "\t\u001b[1mstandard_chartered       \u001b[0m sector=\u001b[1mFinancials\u001b[0m\n",
      "\t\u001b[1mbytes_technology_group   \u001b[0m sector=\u001b[1mTechnology\u001b[0m\n",
      "\t\u001b[1mdeliveroo                \u001b[0m sector=\u001b[1mTechnology\u001b[0m\n",
      "\t\u001b[1mhelios_towers            \u001b[0m sector=\u001b[1mTelecommunications\u001b[0m\n",
      "\t\u001b[1mcentrica                 \u001b[0m sector=\u001b[1mUtilities\u001b[0m\n",
      "\t\u001b[1mgood_energy_group        \u001b[0m sector=\u001b[1mUtilities\u001b[0m\n",
      "\t\u001b[1mnational_grid            \u001b[0m sector=\u001b[1mUtilities\u001b[0m\n",
      "\n",
      "\n",
      "08: Decent work and economic growth                              len(validated_companies)=0\n",
      "09: Industry, Innovation, Technology and Infrastructure          len(validated_companies)=0\n",
      "\u001b[1m10: Reduced inequality                                          \u001b[0m len(validated_companies)=1\n",
      "\t\u001b[1mlegal_&_general_group    \u001b[0m sector=\u001b[1mFinancials\u001b[0m\n",
      "\n",
      "\n",
      "\u001b[1m11: Sustainable cities and communities                          \u001b[0m len(validated_companies)=7\n",
      "\t\u001b[1mbarclays                 \u001b[0m sector=\u001b[1mFinancials\u001b[0m\n",
      "\t\u001b[1mhsbc_holdings            \u001b[0m sector=\u001b[1mFinancials\u001b[0m\n",
      "\t\u001b[1mlegal_&_general_group    \u001b[0m sector=\u001b[1mFinancials\u001b[0m\n",
      "\t\u001b[1mstandard_chartered       \u001b[0m sector=\u001b[1mFinancials\u001b[0m\n",
      "\t\u001b[1msegro                    \u001b[0m sector=\u001b[1mReal Estate\u001b[0m\n",
      "\t\u001b[1mdeliveroo                \u001b[0m sector=\u001b[1mTechnology\u001b[0m\n",
      "\t\u001b[1mhelios_towers            \u001b[0m sector=\u001b[1mTelecommunications\u001b[0m\n",
      "\n",
      "\n",
      "\u001b[1m12: Responsible consumption and production                      \u001b[0m len(validated_companies)=10\n",
      "\t\u001b[1mburberry_group           \u001b[0m sector=\u001b[1mConsumer Discretionary\u001b[0m\n",
      "\t\u001b[1mcompass_group            \u001b[0m sector=\u001b[1mConsumer Discretionary\u001b[0m\n",
      "\t\u001b[1massociated_british_foods \u001b[0m sector=\u001b[1mConsumer Staples\u001b[0m\n",
      "\t\u001b[1mimperial_brands          \u001b[0m sector=\u001b[1mConsumer Staples\u001b[0m\n",
      "\t\u001b[1mmarks_and_spencer_group  \u001b[0m sector=\u001b[1mConsumer Staples\u001b[0m\n",
      "\t\u001b[1mreckitt_benckiser_group  \u001b[0m sector=\u001b[1mConsumer Staples\u001b[0m\n",
      "\t\u001b[1munilever                 \u001b[0m sector=\u001b[1mConsumer Staples\u001b[0m\n",
      "\t\u001b[1mbytes_technology_group   \u001b[0m sector=\u001b[1mTechnology\u001b[0m\n",
      "\t\u001b[1mdeliveroo                \u001b[0m sector=\u001b[1mTechnology\u001b[0m\n",
      "\t\u001b[1mrenewi                   \u001b[0m sector=\u001b[1mUtilities\u001b[0m\n",
      "\n",
      "\n",
      "\u001b[1m13: Climate action                                              \u001b[0m len(validated_companies)=16\n",
      "\t\u001b[1mcroda_international      \u001b[0m sector=\u001b[1mBasic Materials\u001b[0m\n",
      "\t\u001b[1mrio_tinto                \u001b[0m sector=\u001b[1mBasic Materials\u001b[0m\n",
      "\t\u001b[1massociated_british_foods \u001b[0m sector=\u001b[1mConsumer Staples\u001b[0m\n",
      "\t\u001b[1munilever                 \u001b[0m sector=\u001b[1mConsumer Staples\u001b[0m\n",
      "\t\u001b[1maviva                    \u001b[0m sector=\u001b[1mFinancials\u001b[0m\n",
      "\t\u001b[1mbarclays                 \u001b[0m sector=\u001b[1mFinancials\u001b[0m\n",
      "\t\u001b[1mhsbc_holdings            \u001b[0m sector=\u001b[1mFinancials\u001b[0m\n",
      "\t\u001b[1mlegal_&_general_group    \u001b[0m sector=\u001b[1mFinancials\u001b[0m\n",
      "\t\u001b[1mlondon_stock_exchange_group\u001b[0m sector=\u001b[1mFinancials\u001b[0m\n",
      "\t\u001b[1mstandard_chartered       \u001b[0m sector=\u001b[1mFinancials\u001b[0m\n",
      "\t\u001b[1mrightmove                \u001b[0m sector=\u001b[1mReal Estate\u001b[0m\n",
      "\t\u001b[1msegro                    \u001b[0m sector=\u001b[1mReal Estate\u001b[0m\n",
      "\t\u001b[1mbytes_technology_group   \u001b[0m sector=\u001b[1mTechnology\u001b[0m\n",
      "\t\u001b[1mdeliveroo                \u001b[0m sector=\u001b[1mTechnology\u001b[0m\n",
      "\t\u001b[1mhelios_towers            \u001b[0m sector=\u001b[1mTelecommunications\u001b[0m\n",
      "\t\u001b[1mcentrica                 \u001b[0m sector=\u001b[1mUtilities\u001b[0m\n",
      "\n",
      "\n",
      "14: Life below water                                             len(validated_companies)=0\n",
      "\u001b[1m15: Life on land                                                \u001b[0m len(validated_companies)=3\n",
      "\t\u001b[1mcroda_international      \u001b[0m sector=\u001b[1mBasic Materials\u001b[0m\n",
      "\t\u001b[1mwood_group_(john)        \u001b[0m sector=\u001b[1mEnergy\u001b[0m\n",
      "\t\u001b[1mhelios_towers            \u001b[0m sector=\u001b[1mTelecommunications\u001b[0m\n",
      "\n",
      "\n",
      "16: Peace, justice and strong institutions                       len(validated_companies)=0\n",
      "\u001b[1m17: Partnerships for the goals                                  \u001b[0m len(validated_companies)=2\n",
      "\t\u001b[1mlegal_&_general_group    \u001b[0m sector=\u001b[1mFinancials\u001b[0m\n",
      "\t\u001b[1mstandard_chartered       \u001b[0m sector=\u001b[1mFinancials\u001b[0m\n",
      "\n",
      "\n",
      "\n",
      "\u001b[1m2023\u001b[0m\n",
      "01: No Poverty                                                   len(validated_companies)=0\n",
      "\u001b[1m02: Zero hunger                                                 \u001b[0m len(validated_companies)=7\n",
      "\t\u001b[1mcompass_group            \u001b[0m sector=\u001b[1mConsumer Discretionary\u001b[0m\n",
      "\t\u001b[1mmarks_and_spencer_group  \u001b[0m sector=\u001b[1mConsumer Staples\u001b[0m\n",
      "\t\u001b[1msainsbury_(j)            \u001b[0m sector=\u001b[1mConsumer Staples\u001b[0m\n",
      "\t\u001b[1mtesco                    \u001b[0m sector=\u001b[1mConsumer Staples\u001b[0m\n",
      "\t\u001b[1munilever                 \u001b[0m sector=\u001b[1mConsumer Staples\u001b[0m\n",
      "\t\u001b[1mstandard_chartered       \u001b[0m sector=\u001b[1mFinancials\u001b[0m\n",
      "\t\u001b[1mdeliveroo                \u001b[0m sector=\u001b[1mTechnology\u001b[0m\n",
      "\n",
      "\n",
      "\u001b[1m03: Good health and well-being                                  \u001b[0m len(validated_companies)=2\n",
      "\t\u001b[1mastrazeneca              \u001b[0m sector=\u001b[1mHealth Care\u001b[0m\n",
      "\t\u001b[1mgsk                      \u001b[0m sector=\u001b[1mHealth Care\u001b[0m\n",
      "\n",
      "\n",
      "04: Quality education                                            len(validated_companies)=0\n",
      "05: Gender equality                                              len(validated_companies)=0\n",
      "\u001b[1m06: Clean water and sanitation                                  \u001b[0m len(validated_companies)=3\n",
      "\t\u001b[1mastrazeneca              \u001b[0m sector=\u001b[1mHealth Care\u001b[0m\n",
      "\t\u001b[1mpennon_group             \u001b[0m sector=\u001b[1mUtilities\u001b[0m\n",
      "\t\u001b[1munited_utilities_group   \u001b[0m sector=\u001b[1mUtilities\u001b[0m\n",
      "\n",
      "\n",
      "\u001b[1m07: Affordable and clean energy                                 \u001b[0m len(validated_companies)=13\n",
      "\t\u001b[1mjohnson_matthey          \u001b[0m sector=\u001b[1mBasic Materials\u001b[0m\n",
      "\t\u001b[1mashtead_technology_holdings\u001b[0m sector=\u001b[1mEnergy\u001b[0m\n",
      "\t\u001b[1mbarclays                 \u001b[0m sector=\u001b[1mFinancials\u001b[0m\n",
      "\t\u001b[1mstandard_chartered       \u001b[0m sector=\u001b[1mFinancials\u001b[0m\n",
      "\t\u001b[1mbytes_technology_group   \u001b[0m sector=\u001b[1mTechnology\u001b[0m\n",
      "\t\u001b[1mdeliveroo                \u001b[0m sector=\u001b[1mTechnology\u001b[0m\n",
      "\t\u001b[1mhelios_towers            \u001b[0m sector=\u001b[1mTelecommunications\u001b[0m\n",
      "\t\u001b[1mvodafone_group           \u001b[0m sector=\u001b[1mTelecommunications\u001b[0m\n",
      "\t\u001b[1mcentrica                 \u001b[0m sector=\u001b[1mUtilities\u001b[0m\n",
      "\t\u001b[1mgood_energy_group        \u001b[0m sector=\u001b[1mUtilities\u001b[0m\n",
      "\t\u001b[1mnational_grid            \u001b[0m sector=\u001b[1mUtilities\u001b[0m\n",
      "\t\u001b[1mpennon_group             \u001b[0m sector=\u001b[1mUtilities\u001b[0m\n",
      "\t\u001b[1myu_group                 \u001b[0m sector=\u001b[1mUtilities\u001b[0m\n",
      "\n",
      "\n",
      "08: Decent work and economic growth                              len(validated_companies)=0\n",
      "09: Industry, Innovation, Technology and Infrastructure          len(validated_companies)=0\n",
      "10: Reduced inequality                                           len(validated_companies)=0\n",
      "\u001b[1m11: Sustainable cities and communities                          \u001b[0m len(validated_companies)=6\n",
      "\t\u001b[1mbarclays                 \u001b[0m sector=\u001b[1mFinancials\u001b[0m\n",
      "\t\u001b[1mhsbc_holdings            \u001b[0m sector=\u001b[1mFinancials\u001b[0m\n",
      "\t\u001b[1mlegal_&_general_group    \u001b[0m sector=\u001b[1mFinancials\u001b[0m\n",
      "\t\u001b[1mstandard_chartered       \u001b[0m sector=\u001b[1mFinancials\u001b[0m\n",
      "\t\u001b[1msegro                    \u001b[0m sector=\u001b[1mReal Estate\u001b[0m\n",
      "\t\u001b[1mdeliveroo                \u001b[0m sector=\u001b[1mTechnology\u001b[0m\n",
      "\n",
      "\n",
      "\u001b[1m12: Responsible consumption and production                      \u001b[0m len(validated_companies)=16\n",
      "\t\u001b[1mcroda_international      \u001b[0m sector=\u001b[1mBasic Materials\u001b[0m\n",
      "\t\u001b[1mjohnson_matthey          \u001b[0m sector=\u001b[1mBasic Materials\u001b[0m\n",
      "\t\u001b[1msynthomer                \u001b[0m sector=\u001b[1mBasic Materials\u001b[0m\n",
      "\t\u001b[1mburberry_group           \u001b[0m sector=\u001b[1mConsumer Discretionary\u001b[0m\n",
      "\t\u001b[1mcompass_group            \u001b[0m sector=\u001b[1mConsumer Discretionary\u001b[0m\n",
      "\t\u001b[1massociated_british_foods \u001b[0m sector=\u001b[1mConsumer Staples\u001b[0m\n",
      "\t\u001b[1mbritish_american_tobacco \u001b[0m sector=\u001b[1mConsumer Staples\u001b[0m\n",
      "\t\u001b[1mimperial_brands          \u001b[0m sector=\u001b[1mConsumer Staples\u001b[0m\n",
      "\t\u001b[1mmarks_and_spencer_group  \u001b[0m sector=\u001b[1mConsumer Staples\u001b[0m\n",
      "\t\u001b[1mreckitt_benckiser_group  \u001b[0m sector=\u001b[1mConsumer Staples\u001b[0m\n",
      "\t\u001b[1mtesco                    \u001b[0m sector=\u001b[1mConsumer Staples\u001b[0m\n",
      "\t\u001b[1munilever                 \u001b[0m sector=\u001b[1mConsumer Staples\u001b[0m\n",
      "\t\u001b[1msmith_(ds)               \u001b[0m sector=\u001b[1mIndustrials\u001b[0m\n",
      "\t\u001b[1mwise                     \u001b[0m sector=\u001b[1mIndustrials\u001b[0m\n",
      "\t\u001b[1mbytes_technology_group   \u001b[0m sector=\u001b[1mTechnology\u001b[0m\n",
      "\t\u001b[1mdeliveroo                \u001b[0m sector=\u001b[1mTechnology\u001b[0m\n",
      "\n",
      "\n",
      "\u001b[1m13: Climate action                                              \u001b[0m len(validated_companies)=16\n",
      "\t\u001b[1mbritish_american_tobacco \u001b[0m sector=\u001b[1mConsumer Staples\u001b[0m\n",
      "\t\u001b[1munilever                 \u001b[0m sector=\u001b[1mConsumer Staples\u001b[0m\n",
      "\t\u001b[1mashtead_technology_holdings\u001b[0m sector=\u001b[1mEnergy\u001b[0m\n",
      "\t\u001b[1mbarclays                 \u001b[0m sector=\u001b[1mFinancials\u001b[0m\n",
      "\t\u001b[1mhsbc_holdings            \u001b[0m sector=\u001b[1mFinancials\u001b[0m\n",
      "\t\u001b[1mlegal_&_general_group    \u001b[0m sector=\u001b[1mFinancials\u001b[0m\n",
      "\t\u001b[1mlondon_stock_exchange_group\u001b[0m sector=\u001b[1mFinancials\u001b[0m\n",
      "\t\u001b[1mscottish_mortgage_investment_trust\u001b[0m sector=\u001b[1mFinancials\u001b[0m\n",
      "\t\u001b[1mstandard_chartered       \u001b[0m sector=\u001b[1mFinancials\u001b[0m\n",
      "\t\u001b[1msegro                    \u001b[0m sector=\u001b[1mReal Estate\u001b[0m\n",
      "\t\u001b[1mbytes_technology_group   \u001b[0m sector=\u001b[1mTechnology\u001b[0m\n",
      "\t\u001b[1mdeliveroo                \u001b[0m sector=\u001b[1mTechnology\u001b[0m\n",
      "\t\u001b[1mtrustpilot_group         \u001b[0m sector=\u001b[1mTechnology\u001b[0m\n",
      "\t\u001b[1mhelios_towers            \u001b[0m sector=\u001b[1mTelecommunications\u001b[0m\n",
      "\t\u001b[1mvodafone_group           \u001b[0m sector=\u001b[1mTelecommunications\u001b[0m\n",
      "\t\u001b[1mpennon_group             \u001b[0m sector=\u001b[1mUtilities\u001b[0m\n",
      "\n",
      "\n",
      "\u001b[1m14: Life below water                                            \u001b[0m len(validated_companies)=4\n",
      "\t\u001b[1msmith_(ds)               \u001b[0m sector=\u001b[1mIndustrials\u001b[0m\n",
      "\t\u001b[1mwise                     \u001b[0m sector=\u001b[1mIndustrials\u001b[0m\n",
      "\t\u001b[1mdeliveroo                \u001b[0m sector=\u001b[1mTechnology\u001b[0m\n",
      "\t\u001b[1mpennon_group             \u001b[0m sector=\u001b[1mUtilities\u001b[0m\n",
      "\n",
      "\n",
      "\u001b[1m15: Life on land                                                \u001b[0m len(validated_companies)=5\n",
      "\t\u001b[1mcroda_international      \u001b[0m sector=\u001b[1mBasic Materials\u001b[0m\n",
      "\t\u001b[1mbritish_american_tobacco \u001b[0m sector=\u001b[1mConsumer Staples\u001b[0m\n",
      "\t\u001b[1mgenus                    \u001b[0m sector=\u001b[1mHealth Care\u001b[0m\n",
      "\t\u001b[1mbytes_technology_group   \u001b[0m sector=\u001b[1mTechnology\u001b[0m\n",
      "\t\u001b[1mdeliveroo                \u001b[0m sector=\u001b[1mTechnology\u001b[0m\n",
      "\n",
      "\n",
      "16: Peace, justice and strong institutions                       len(validated_companies)=0\n",
      "\u001b[1m17: Partnerships for the goals                                  \u001b[0m len(validated_companies)=2\n",
      "\t\u001b[1mlegal_&_general_group    \u001b[0m sector=\u001b[1mFinancials\u001b[0m\n",
      "\t\u001b[1mstandard_chartered       \u001b[0m sector=\u001b[1mFinancials\u001b[0m\n",
      "\n",
      "\n"
     ]
    }
   ],
   "source": [
    "for i_y, year in enumerate(tqdm(years)):\n",
    "    print(f'\\n\\033[1m{year:}\\033[0m')\n",
    "    compa_y=vectors[vectors['year']==year]['company']\n",
    "    sec_y=vectors[vectors['year']==year]['sector']\n",
    "    for i_s, sdg in enumerate(sdg_helper.keys()):\n",
    "        _fdr_th=fdr_th(cos_sims_SDGs[i_y*l_sdgs+i_s]['p_val'], alpha)\n",
    "        validation_mask=cos_sims_SDGs[i_y*l_sdgs+i_s]['p_val']<=_fdr_th\n",
    "        validated_compa=compa_y[validation_mask]\n",
    "        validated_sec=sec_y[validation_mask]\n",
    "        if len(validated_compa)>0:\n",
    "            print(f'\\033[1m{sdg:}: {sdg_helper[sdg]:60}\\033[0m len(validated_companies)={len(validated_compa):}')\n",
    "            for i_vc, vc in enumerate(validated_compa):\n",
    "                print(f'\\t\\033[1m{vc:25}\\033[0m sector=\\033[1m{sec_helper[validated_sec[i_vc]]:}\\033[0m')\n",
    "            print('\\n')\n",
    "        else:\n",
    "            print(f'{sdg:}: {sdg_helper[sdg]:60} len(validated_companies)={len(validated_compa):}')"
   ]
  }
 ],
 "metadata": {
  "kernelspec": {
   "display_name": "Python 3 (ipykernel)",
   "language": "python",
   "name": "python3"
  },
  "language_info": {
   "codemirror_mode": {
    "name": "ipython",
    "version": 3
   },
   "file_extension": ".py",
   "mimetype": "text/x-python",
   "name": "python",
   "nbconvert_exporter": "python",
   "pygments_lexer": "ipython3",
   "version": "3.8.10"
  },
  "notify_time": "5",
  "toc": {
   "base_numbering": 1,
   "nav_menu": {},
   "number_sections": true,
   "sideBar": true,
   "skip_h1_title": false,
   "title_cell": "Table of Contents",
   "title_sidebar": "Contents",
   "toc_cell": false,
   "toc_position": {
    "height": "calc(100% - 180px)",
    "left": "10px",
    "top": "150px",
    "width": "288px"
   },
   "toc_section_display": true,
   "toc_window_display": true
  }
 },
 "nbformat": 4,
 "nbformat_minor": 5
}
